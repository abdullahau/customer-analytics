{
 "cells": [
  {
   "cell_type": "code",
   "execution_count": 46,
   "metadata": {},
   "outputs": [],
   "source": [
    "import polars as pl\n",
    "import numpy as np\n",
    "from scipy.optimize import minimize\n",
    "from scipy.special import gammaln, comb\n",
    "from utils import donation_data, rfm_data, p1x_data\n",
    "\n",
    "import altair as alt\n",
    "from IPython.display import display_markdown\n",
    "from great_tables import style, loc"
   ]
  },
  {
   "cell_type": "code",
   "execution_count": 47,
   "metadata": {},
   "outputs": [
    {
     "data": {
      "text/html": [
       "<div><style>\n",
       ".dataframe > thead > tr,\n",
       ".dataframe > tbody > tr {\n",
       "  text-align: right;\n",
       "  white-space: pre-wrap;\n",
       "}\n",
       "</style>\n",
       "<small>shape: (22, 4)</small><table border=\"1\" class=\"dataframe\"><thead><tr><th>P1X</th><th>t_x</th><th>np1x</th><th>Count</th></tr><tr><td>i8</td><td>i32</td><td>i32</td><td>u32</td></tr></thead><tbody><tr><td>6</td><td>6</td><td>6</td><td>1203</td></tr><tr><td>5</td><td>6</td><td>6</td><td>728</td></tr><tr><td>4</td><td>6</td><td>6</td><td>512</td></tr><tr><td>3</td><td>6</td><td>6</td><td>357</td></tr><tr><td>2</td><td>6</td><td>6</td><td>234</td></tr><tr><td>&hellip;</td><td>&hellip;</td><td>&hellip;</td><td>&hellip;</td></tr><tr><td>1</td><td>3</td><td>6</td><td>129</td></tr><tr><td>2</td><td>2</td><td>6</td><td>613</td></tr><tr><td>1</td><td>2</td><td>6</td><td>277</td></tr><tr><td>1</td><td>1</td><td>6</td><td>1091</td></tr><tr><td>0</td><td>0</td><td>6</td><td>3464</td></tr></tbody></table></div>"
      ],
      "text/plain": [
       "shape: (22, 4)\n",
       "┌─────┬─────┬──────┬───────┐\n",
       "│ P1X ┆ t_x ┆ np1x ┆ Count │\n",
       "│ --- ┆ --- ┆ ---  ┆ ---   │\n",
       "│ i8  ┆ i32 ┆ i32  ┆ u32   │\n",
       "╞═════╪═════╪══════╪═══════╡\n",
       "│ 6   ┆ 6   ┆ 6    ┆ 1203  │\n",
       "│ 5   ┆ 6   ┆ 6    ┆ 728   │\n",
       "│ 4   ┆ 6   ┆ 6    ┆ 512   │\n",
       "│ 3   ┆ 6   ┆ 6    ┆ 357   │\n",
       "│ 2   ┆ 6   ┆ 6    ┆ 234   │\n",
       "│ …   ┆ …   ┆ …    ┆ …     │\n",
       "│ 1   ┆ 3   ┆ 6    ┆ 129   │\n",
       "│ 2   ┆ 2   ┆ 6    ┆ 613   │\n",
       "│ 1   ┆ 2   ┆ 6    ┆ 277   │\n",
       "│ 1   ┆ 1   ┆ 6    ┆ 1091  │\n",
       "│ 0   ┆ 0   ┆ 6    ┆ 3464  │\n",
       "└─────┴─────┴──────┴───────┘"
      ]
     },
     "execution_count": 47,
     "metadata": {},
     "output_type": "execute_result"
    }
   ],
   "source": [
    "rfm_summary = p1x_data()\n",
    "rfm_summary.collect()"
   ]
  },
  {
   "cell_type": "code",
   "execution_count": 48,
   "metadata": {},
   "outputs": [
    {
     "data": {
      "text/plain": [
       "22.0"
      ]
     },
     "execution_count": 48,
     "metadata": {},
     "output_type": "execute_result"
    }
   ],
   "source": [
    "# Possible recency/frequency patterns \n",
    "n = 6\n",
    "n * (n + 1)/2 + 1"
   ]
  },
  {
   "cell_type": "markdown",
   "metadata": {},
   "source": [
    "### Parameter Estimation"
   ]
  },
  {
   "cell_type": "code",
   "execution_count": 49,
   "metadata": {},
   "outputs": [
    {
     "data": {
      "text/markdown": [
       "$\\alpha$ = 1.2035\n",
       "\n",
       "$\\beta$ = 0.7497\n",
       "\n",
       "$\\gamma$ = 0.6568\n",
       "\n",
       "$\\delta$ = 2.7838\n",
       "\n",
       "Log-Likelihood = -33225.5813"
      ]
     },
     "metadata": {},
     "output_type": "display_data"
    }
   ],
   "source": [
    "def bgbb_est(rfm_data, guess={'alpha': 1, 'beta': 0.5, 'gamma': 0.5, 'delta': 2.5}):\n",
    "    p1x, t_x, n, num_donors = [*rfm_data.T]\n",
    "\n",
    "    def log_likelihood(param):\n",
    "        alpha, beta, gamma, delta = param\n",
    "        B_alpha_beta = np.exp(gammaln(alpha)+gammaln(beta)-gammaln(alpha+beta))\n",
    "        B_gamma_delta = np.exp(gammaln(gamma)+gammaln(delta)-gammaln(gamma+delta))\n",
    "        \n",
    "        L = np.zeros((n.shape[0], n[0]+1))\n",
    "        L[:,0] = np.exp(gammaln(alpha+p1x)+gammaln(beta+n-p1x)-gammaln(alpha+beta+n))/B_alpha_beta* \\\n",
    "                        np.exp(gammaln(gamma)+gammaln(delta+n)-gammaln(gamma+delta+n))/B_gamma_delta\n",
    "        \n",
    "        i = np.arange(6)\n",
    "        L[:,1:] = np.exp(gammaln(alpha+p1x.reshape(-1,1))+gammaln(beta+t_x.reshape(-1,1)-p1x.reshape(-1,1)+i)-gammaln(alpha+beta+t_x.reshape(-1,1)+i))/B_alpha_beta* \\\n",
    "                        np.exp(gammaln(gamma+1)+gammaln(delta+t_x.reshape(-1,1)+i)-gammaln(gamma+delta+t_x.reshape(-1,1)+i+1))/B_gamma_delta        \n",
    "        \n",
    "        n_t_x_1 = n - t_x - 1\n",
    "        L[:,1:] = np.where(i <= n_t_x_1.reshape(-1,1), L[:,1:], 0)\n",
    "\n",
    "        return -np.sum(num_donors * np.log(np.sum(L, axis=1)))\n",
    "    \n",
    "    bnds = [[0, np.inf] for _ in range(4)]\n",
    "    return minimize(log_likelihood, x0=list(guess.values()), bounds=bnds)\n",
    "\n",
    "# Sample parameters\n",
    "# alpha = 1.20352083040498\n",
    "# beta = 0.749714243061896\n",
    "# gamma = 0.656712169147878\n",
    "# delta = 2.78340801635898\n",
    "\n",
    "rfm_array = rfm_summary.collect().to_numpy()\n",
    "res = bgbb_est(rfm_array)\n",
    "alpha, beta, gamma, delta = res.x\n",
    "ll = res.fun\n",
    "\n",
    "display_markdown(f'''$\\\\alpha$ = {alpha:0.4f}\n",
    "\n",
    "$\\\\beta$ = {beta:0.4f}\n",
    "\n",
    "$\\\\gamma$ = {gamma:0.4f}\n",
    "\n",
    "$\\\\delta$ = {delta:0.4f}\n",
    "\n",
    "Log-Likelihood = {-ll:0.4f}''', raw=True)"
   ]
  },
  {
   "cell_type": "markdown",
   "metadata": {},
   "source": [
    "### In-Sample Model Fit Plot"
   ]
  },
  {
   "cell_type": "code",
   "execution_count": 50,
   "metadata": {},
   "outputs": [
    {
     "data": {
      "application/vnd.vegalite.v5+json": {
       "$schema": "https://vega.github.io/schema/vega-lite/v5.20.1.json",
       "config": {
        "axisX": {
         "grid": false
        },
        "axisY": {
         "grid": false
        },
        "view": {
         "continuousHeight": 300,
         "continuousWidth": 300,
         "stroke": null
        }
       },
       "data": {
        "name": "data-682c38eae5bdf5f012c8a719b0a5fb50"
       },
       "datasets": {
        "data-682c38eae5bdf5f012c8a719b0a5fb50": [
         {
          "Actual Vs Estimated": "Actual",
          "No of people": 3464,
          "P1X": 0
         },
         {
          "Actual Vs Estimated": "Actual",
          "No of people": 1823,
          "P1X": 1
         },
         {
          "Actual Vs Estimated": "Actual",
          "No of people": 1430,
          "P1X": 2
         },
         {
          "Actual Vs Estimated": "Actual",
          "No of people": 1085,
          "P1X": 3
         },
         {
          "Actual Vs Estimated": "Actual",
          "No of people": 1036,
          "P1X": 4
         },
         {
          "Actual Vs Estimated": "Actual",
          "No of people": 1063,
          "P1X": 5
         },
         {
          "Actual Vs Estimated": "Actual",
          "No of people": 1203,
          "P1X": 6
         },
         {
          "Actual Vs Estimated": "Model",
          "No of people": 3454.834400249416,
          "P1X": 0
         },
         {
          "Actual Vs Estimated": "Model",
          "No of people": 1888.6669371026019,
          "P1X": 1
         },
         {
          "Actual Vs Estimated": "Model",
          "No of people": 1348.897774619671,
          "P1X": 2
         },
         {
          "Actual Vs Estimated": "Model",
          "No of people": 1113.3886792101778,
          "P1X": 3
         },
         {
          "Actual Vs Estimated": "Model",
          "No of people": 1017.9268284833798,
          "P1X": 4
         },
         {
          "Actual Vs Estimated": "Model",
          "No of people": 1027.1664477519018,
          "P1X": 5
         },
         {
          "Actual Vs Estimated": "Model",
          "No of people": 1253.1189325828575,
          "P1X": 6
         }
        ]
       },
       "encoding": {
        "color": {
         "field": "Actual Vs Estimated",
         "type": "nominal"
        },
        "x": {
         "axis": {
          "labelAngle": 0
         },
         "field": "P1X",
         "title": "No. of repeat transactions",
         "type": "ordinal"
        },
        "xOffset": {
         "field": "Actual Vs Estimated",
         "type": "nominal"
        },
        "y": {
         "field": "No of people",
         "title": "No. of people",
         "type": "quantitative"
        }
       },
       "height": 250,
       "mark": {
        "type": "bar"
       },
       "title": "Predicted vs. Actual Frequency of Repeat Transactions",
       "width": 650
      },
      "text/plain": [
       "<VegaLite 5 object>\n",
       "\n",
       "If you see this message, it means the renderer has not been properly enabled\n",
       "for the frontend that you are using. For more information, see\n",
       "https://altair-viz.github.io/user_guide/display_frontends.html#troubleshooting\n"
      ]
     },
     "execution_count": 50,
     "metadata": {},
     "output_type": "execute_result"
    }
   ],
   "source": [
    "B_alpha_beta = np.exp(gammaln(alpha)+gammaln(beta)-gammaln(alpha+beta))\n",
    "B_gamma_delta = np.exp(gammaln(gamma)+gammaln(delta)-gammaln(gamma+delta))\n",
    "\n",
    "n = 6 \n",
    "x = np.arange(n+1)\n",
    "P_X_n = np.zeros((n+1, n+1))\n",
    "\n",
    "P_X_n[:,0] = comb(n,x)*np.exp(gammaln(alpha+x)+gammaln(beta+n-x)-gammaln(alpha+beta+n))/B_alpha_beta*np.exp(gammaln(gamma)+gammaln(delta+n)-gammaln(gamma+delta+n))/B_gamma_delta\n",
    "i = np.arange(n)\n",
    "P_X_n[:,1:] = comb(i,x.reshape(-1,1))*np.exp(gammaln(alpha+x.reshape(-1,1))+gammaln(beta+i-x.reshape(-1,1))-gammaln(alpha+beta+i))/B_alpha_beta*\\\n",
    "              np.exp(gammaln(gamma+1)+gammaln(delta+i)-gammaln(gamma+delta+i+1))/B_gamma_delta\n",
    "P_X_n = np.sum(P_X_n, axis=1)\n",
    "\n",
    "model_repeat = pl.DataFrame({'Model': P_X_n * np.sum(rfm_array[:,3])})\n",
    "\n",
    "actual_model_repeat = (\n",
    "    rfm_summary\n",
    "    .group_by('P1X')\n",
    "    .agg((pl.col('Count').sum()).alias('Actual'))\n",
    "    .sort('P1X')\n",
    "    .collect()\n",
    "    .hstack(model_repeat)\n",
    "    .unpivot(on=['Actual', 'Model'], index='P1X', value_name='No of people', variable_name='Actual Vs Estimated')\n",
    ")\n",
    "\n",
    "(\n",
    "    alt.Chart(actual_model_repeat).mark_bar()\n",
    "    .encode(x=alt.X('P1X:O', title='No. of repeat transactions', axis=alt.Axis(labelAngle=0)), \n",
    "         y=alt.Y('No of people:Q', title='No. of people'), \n",
    "         color='Actual Vs Estimated:N', \n",
    "         xOffset='Actual Vs Estimated')\n",
    "    .properties(\n",
    "        width=650,\n",
    "        height=250,\n",
    "        title='Predicted vs. Actual Frequency of Repeat Transactions'\n",
    "    ).configure_view(stroke=None).configure_axisY(grid=False).configure_axisX(grid=False)   \n",
    ")"
   ]
  },
  {
   "cell_type": "markdown",
   "metadata": {},
   "source": [
    "### Tracking Plots"
   ]
  },
  {
   "cell_type": "code",
   "execution_count": 51,
   "metadata": {},
   "outputs": [
    {
     "data": {
      "application/vnd.vegalite.v5+json": {
       "$schema": "https://vega.github.io/schema/vega-lite/v5.20.1.json",
       "config": {
        "axisX": {
         "grid": false
        },
        "axisY": {
         "grid": false
        },
        "view": {
         "continuousHeight": 300,
         "continuousWidth": 300,
         "stroke": null
        }
       },
       "data": {
        "name": "data-08cb06c807e241b0a8b5aea055b88608"
       },
       "datasets": {
        "data-08cb06c807e241b0a8b5aea055b88608": [
         {
          "Actual Vs Model": "Actual",
          "Repeat Trans": 5652,
          "Year": "1996"
         },
         {
          "Actual Vs Model": "Actual",
          "Repeat Trans": 4674,
          "Year": "1997"
         },
         {
          "Actual Vs Model": "Actual",
          "Repeat Trans": 4019,
          "Year": "1998"
         },
         {
          "Actual Vs Model": "Actual",
          "Repeat Trans": 3552,
          "Year": "1999"
         },
         {
          "Actual Vs Model": "Actual",
          "Repeat Trans": 3555,
          "Year": "2000"
         },
         {
          "Actual Vs Model": "Actual",
          "Repeat Trans": 3163,
          "Year": "2001"
         },
         {
          "Actual Vs Model": "Actual",
          "Repeat Trans": 3110,
          "Year": "2002"
         },
         {
          "Actual Vs Model": "Actual",
          "Repeat Trans": 2938,
          "Year": "2003"
         },
         {
          "Actual Vs Model": "Actual",
          "Repeat Trans": 2703,
          "Year": "2004"
         },
         {
          "Actual Vs Model": "Actual",
          "Repeat Trans": 2573,
          "Year": "2005"
         },
         {
          "Actual Vs Model": "Actual",
          "Repeat Trans": 1936,
          "Year": "2006"
         },
         {
          "Actual Vs Model": "Model",
          "Repeat Trans": 5535.8362725580255,
          "Year": "1996"
         },
         {
          "Actual Vs Model": "Model",
          "Repeat Trans": 4717.078006697605,
          "Year": "1997"
         },
         {
          "Actual Vs Model": "Model",
          "Repeat Trans": 4147.649387702299,
          "Year": "1998"
         },
         {
          "Actual Vs Model": "Model",
          "Repeat Trans": 3724.7003993167637,
          "Year": "1999"
         },
         {
          "Actual Vs Model": "Model",
          "Repeat Trans": 3395.928173835382,
          "Year": "2000"
         },
         {
          "Actual Vs Model": "Model",
          "Repeat Trans": 3131.6894320526844,
          "Year": "2001"
         },
         {
          "Actual Vs Model": "Model",
          "Repeat Trans": 2913.823122478574,
          "Year": "2002"
         },
         {
          "Actual Vs Model": "Model",
          "Repeat Trans": 2730.5290380549086,
          "Year": "2003"
         },
         {
          "Actual Vs Model": "Model",
          "Repeat Trans": 2573.778695229652,
          "Year": "2004"
         },
         {
          "Actual Vs Model": "Model",
          "Repeat Trans": 2437.903496502753,
          "Year": "2005"
         },
         {
          "Actual Vs Model": "Model",
          "Repeat Trans": 2318.7770974548694,
          "Year": "2006"
         }
        ]
       },
       "encoding": {
        "strokeDash": {
         "field": "Actual Vs Model",
         "type": "nominal"
        },
        "x": {
         "axis": {
          "labelAngle": 0
         },
         "field": "Year",
         "type": "nominal"
        },
        "y": {
         "field": "Repeat Trans",
         "title": "No. of repeat transactions",
         "type": "quantitative"
        }
       },
       "height": 250,
       "mark": {
        "type": "line"
       },
       "title": "Predicted vs. Actual Annual Repeat Transactions",
       "width": 650
      },
      "text/plain": [
       "<VegaLite 5 object>\n",
       "\n",
       "If you see this message, it means the renderer has not been properly enabled\n",
       "for the frontend that you are using. For more information, see\n",
       "https://altair-viz.github.io/user_guide/display_frontends.html#troubleshooting\n"
      ]
     },
     "execution_count": 51,
     "metadata": {},
     "output_type": "execute_result"
    }
   ],
   "source": [
    "act_yearly_repeat = donation_data().select(pl.col('*').exclude('ID', '1995')).sum().collect().to_numpy()\n",
    "act_cum_repeat = act_yearly_repeat.cumsum()\n",
    "\n",
    "\n",
    "years = donation_data().select(pl.col('*').exclude('ID')).collect().columns\n",
    "A1 = alpha / (alpha + beta)\n",
    "A2 = 1/(gamma-1)\n",
    "n = np.arange(1, len(years))\n",
    "A3 = np.exp(gammaln(delta+n+1)+gammaln(gamma+delta)-gammaln(delta)-gammaln(gamma+delta+n))\n",
    "E_X_n = A1 * (delta*A2-A2*A3)\n",
    "\n",
    "est_cum_repeat = np.sum(rfm_array[:,3]) * E_X_n\n",
    "est_yearly_repeat = np.diff(est_cum_repeat, prepend=0)\n",
    "\n",
    "yearly_repeat = pl.DataFrame({'Year': years[1:], 'Actual': act_yearly_repeat.flatten(), 'Model': est_yearly_repeat.flatten()})\n",
    "yearly_repeat = yearly_repeat.unpivot(on=['Actual', 'Model'], index='Year', variable_name='Actual Vs Model', value_name='Repeat Trans')\n",
    "cum_repeat = pl.DataFrame({'Year': years[1:], 'Actual': act_cum_repeat.flatten(), 'Model': est_cum_repeat.flatten()})\n",
    "cum_repeat = cum_repeat.unpivot(on=['Actual', 'Model'], index='Year', variable_name='Actual Vs Model', value_name='Repeat Trans')\n",
    "\n",
    "(\n",
    "    alt.Chart(yearly_repeat).mark_line().encode(\n",
    "        x=alt.X('Year', axis=alt.Axis(labelAngle=0)),\n",
    "        y=alt.Y('Repeat Trans', title='No. of repeat transactions'),\n",
    "        strokeDash='Actual Vs Model'\n",
    "    ).properties(\n",
    "            width=650,\n",
    "            height=250,\n",
    "            title='Predicted vs. Actual Annual Repeat Transactions'\n",
    "    ).configure_view(stroke=None).configure_axisY(grid=False).configure_axisX(grid=False)  \n",
    ")"
   ]
  },
  {
   "cell_type": "code",
   "execution_count": 52,
   "metadata": {},
   "outputs": [
    {
     "data": {
      "application/vnd.vegalite.v5+json": {
       "$schema": "https://vega.github.io/schema/vega-lite/v5.20.1.json",
       "config": {
        "axisX": {
         "grid": false
        },
        "axisY": {
         "grid": false
        },
        "view": {
         "continuousHeight": 300,
         "continuousWidth": 300,
         "stroke": null
        }
       },
       "data": {
        "name": "data-08cb06c807e241b0a8b5aea055b88608"
       },
       "datasets": {
        "data-08cb06c807e241b0a8b5aea055b88608": [
         {
          "Actual Vs Model": "Actual",
          "Repeat Trans": 5652,
          "Year": "1996"
         },
         {
          "Actual Vs Model": "Actual",
          "Repeat Trans": 4674,
          "Year": "1997"
         },
         {
          "Actual Vs Model": "Actual",
          "Repeat Trans": 4019,
          "Year": "1998"
         },
         {
          "Actual Vs Model": "Actual",
          "Repeat Trans": 3552,
          "Year": "1999"
         },
         {
          "Actual Vs Model": "Actual",
          "Repeat Trans": 3555,
          "Year": "2000"
         },
         {
          "Actual Vs Model": "Actual",
          "Repeat Trans": 3163,
          "Year": "2001"
         },
         {
          "Actual Vs Model": "Actual",
          "Repeat Trans": 3110,
          "Year": "2002"
         },
         {
          "Actual Vs Model": "Actual",
          "Repeat Trans": 2938,
          "Year": "2003"
         },
         {
          "Actual Vs Model": "Actual",
          "Repeat Trans": 2703,
          "Year": "2004"
         },
         {
          "Actual Vs Model": "Actual",
          "Repeat Trans": 2573,
          "Year": "2005"
         },
         {
          "Actual Vs Model": "Actual",
          "Repeat Trans": 1936,
          "Year": "2006"
         },
         {
          "Actual Vs Model": "Model",
          "Repeat Trans": 5535.8362725580255,
          "Year": "1996"
         },
         {
          "Actual Vs Model": "Model",
          "Repeat Trans": 4717.078006697605,
          "Year": "1997"
         },
         {
          "Actual Vs Model": "Model",
          "Repeat Trans": 4147.649387702299,
          "Year": "1998"
         },
         {
          "Actual Vs Model": "Model",
          "Repeat Trans": 3724.7003993167637,
          "Year": "1999"
         },
         {
          "Actual Vs Model": "Model",
          "Repeat Trans": 3395.928173835382,
          "Year": "2000"
         },
         {
          "Actual Vs Model": "Model",
          "Repeat Trans": 3131.6894320526844,
          "Year": "2001"
         },
         {
          "Actual Vs Model": "Model",
          "Repeat Trans": 2913.823122478574,
          "Year": "2002"
         },
         {
          "Actual Vs Model": "Model",
          "Repeat Trans": 2730.5290380549086,
          "Year": "2003"
         },
         {
          "Actual Vs Model": "Model",
          "Repeat Trans": 2573.778695229652,
          "Year": "2004"
         },
         {
          "Actual Vs Model": "Model",
          "Repeat Trans": 2437.903496502753,
          "Year": "2005"
         },
         {
          "Actual Vs Model": "Model",
          "Repeat Trans": 2318.7770974548694,
          "Year": "2006"
         }
        ]
       },
       "encoding": {
        "color": {
         "field": "Actual Vs Model",
         "type": "nominal"
        },
        "x": {
         "axis": {
          "labelAngle": 0
         },
         "field": "Year",
         "type": "nominal"
        },
        "xOffset": {
         "field": "Actual Vs Model",
         "type": "nominal"
        },
        "y": {
         "field": "Repeat Trans",
         "title": "No. of repeat transactions",
         "type": "quantitative"
        }
       },
       "height": 250,
       "mark": {
        "type": "bar"
       },
       "title": "Predicted vs. Actual Annual Repeat Transactions",
       "width": 650
      },
      "text/plain": [
       "<VegaLite 5 object>\n",
       "\n",
       "If you see this message, it means the renderer has not been properly enabled\n",
       "for the frontend that you are using. For more information, see\n",
       "https://altair-viz.github.io/user_guide/display_frontends.html#troubleshooting\n"
      ]
     },
     "execution_count": 52,
     "metadata": {},
     "output_type": "execute_result"
    }
   ],
   "source": [
    "(\n",
    "    alt.Chart(yearly_repeat).mark_bar().encode(\n",
    "        x=alt.X('Year', axis=alt.Axis(labelAngle=0)),\n",
    "        y=alt.Y('Repeat Trans', title='No. of repeat transactions'),\n",
    "        color='Actual Vs Model',\n",
    "        xOffset='Actual Vs Model'\n",
    "    ).properties(\n",
    "            width=650,\n",
    "            height=250,\n",
    "            title='Predicted vs. Actual Annual Repeat Transactions'\n",
    "    ).configure_view(stroke=None).configure_axisY(grid=False).configure_axisX(grid=False)  \n",
    ")"
   ]
  },
  {
   "cell_type": "code",
   "execution_count": 53,
   "metadata": {},
   "outputs": [
    {
     "data": {
      "application/vnd.vegalite.v5+json": {
       "$schema": "https://vega.github.io/schema/vega-lite/v5.20.1.json",
       "config": {
        "axisX": {
         "grid": false
        },
        "axisY": {
         "grid": false
        },
        "view": {
         "continuousHeight": 300,
         "continuousWidth": 300,
         "stroke": null
        }
       },
       "data": {
        "name": "data-c44d0cf476fda39e6f69101c4edf4299"
       },
       "datasets": {
        "data-c44d0cf476fda39e6f69101c4edf4299": [
         {
          "Actual Vs Model": "Actual",
          "Repeat Trans": 5652,
          "Year": "1996"
         },
         {
          "Actual Vs Model": "Actual",
          "Repeat Trans": 10326,
          "Year": "1997"
         },
         {
          "Actual Vs Model": "Actual",
          "Repeat Trans": 14345,
          "Year": "1998"
         },
         {
          "Actual Vs Model": "Actual",
          "Repeat Trans": 17897,
          "Year": "1999"
         },
         {
          "Actual Vs Model": "Actual",
          "Repeat Trans": 21452,
          "Year": "2000"
         },
         {
          "Actual Vs Model": "Actual",
          "Repeat Trans": 24615,
          "Year": "2001"
         },
         {
          "Actual Vs Model": "Actual",
          "Repeat Trans": 27725,
          "Year": "2002"
         },
         {
          "Actual Vs Model": "Actual",
          "Repeat Trans": 30663,
          "Year": "2003"
         },
         {
          "Actual Vs Model": "Actual",
          "Repeat Trans": 33366,
          "Year": "2004"
         },
         {
          "Actual Vs Model": "Actual",
          "Repeat Trans": 35939,
          "Year": "2005"
         },
         {
          "Actual Vs Model": "Actual",
          "Repeat Trans": 37875,
          "Year": "2006"
         },
         {
          "Actual Vs Model": "Model",
          "Repeat Trans": 5535.8362725580255,
          "Year": "1996"
         },
         {
          "Actual Vs Model": "Model",
          "Repeat Trans": 10252.91427925563,
          "Year": "1997"
         },
         {
          "Actual Vs Model": "Model",
          "Repeat Trans": 14400.563666957929,
          "Year": "1998"
         },
         {
          "Actual Vs Model": "Model",
          "Repeat Trans": 18125.264066274693,
          "Year": "1999"
         },
         {
          "Actual Vs Model": "Model",
          "Repeat Trans": 21521.192240110075,
          "Year": "2000"
         },
         {
          "Actual Vs Model": "Model",
          "Repeat Trans": 24652.88167216276,
          "Year": "2001"
         },
         {
          "Actual Vs Model": "Model",
          "Repeat Trans": 27566.704794641333,
          "Year": "2002"
         },
         {
          "Actual Vs Model": "Model",
          "Repeat Trans": 30297.23383269624,
          "Year": "2003"
         },
         {
          "Actual Vs Model": "Model",
          "Repeat Trans": 32871.012527925894,
          "Year": "2004"
         },
         {
          "Actual Vs Model": "Model",
          "Repeat Trans": 35308.91602442865,
          "Year": "2005"
         },
         {
          "Actual Vs Model": "Model",
          "Repeat Trans": 37627.693121883516,
          "Year": "2006"
         }
        ]
       },
       "encoding": {
        "strokeDash": {
         "field": "Actual Vs Model",
         "type": "nominal"
        },
        "x": {
         "axis": {
          "labelAngle": 0
         },
         "field": "Year",
         "type": "nominal"
        },
        "y": {
         "field": "Repeat Trans",
         "title": "Cumulative no. of repeat transactions",
         "type": "quantitative"
        }
       },
       "height": 250,
       "mark": {
        "type": "line"
       },
       "title": "Predicted vs. Actual Cumulative Repeat Transactions",
       "width": 650
      },
      "text/plain": [
       "<VegaLite 5 object>\n",
       "\n",
       "If you see this message, it means the renderer has not been properly enabled\n",
       "for the frontend that you are using. For more information, see\n",
       "https://altair-viz.github.io/user_guide/display_frontends.html#troubleshooting\n"
      ]
     },
     "execution_count": 53,
     "metadata": {},
     "output_type": "execute_result"
    }
   ],
   "source": [
    "(\n",
    "    alt.Chart(cum_repeat).mark_line().encode(\n",
    "        x=alt.X('Year', axis=alt.Axis(labelAngle=0)),\n",
    "        y=alt.Y('Repeat Trans', title='Cumulative no. of repeat transactions'),\n",
    "        strokeDash='Actual Vs Model'\n",
    "    ).properties(\n",
    "            width=650,\n",
    "            height=250,\n",
    "            title='Predicted vs. Actual Cumulative Repeat Transactions'\n",
    "    ).configure_view(stroke=None).configure_axisY(grid=False).configure_axisX(grid=False)  \n",
    ")"
   ]
  },
  {
   "cell_type": "code",
   "execution_count": 54,
   "metadata": {},
   "outputs": [
    {
     "data": {
      "application/vnd.vegalite.v5+json": {
       "$schema": "https://vega.github.io/schema/vega-lite/v5.20.1.json",
       "config": {
        "axisX": {
         "grid": false
        },
        "axisY": {
         "grid": false
        },
        "view": {
         "continuousHeight": 300,
         "continuousWidth": 300,
         "stroke": null
        }
       },
       "data": {
        "name": "data-c44d0cf476fda39e6f69101c4edf4299"
       },
       "datasets": {
        "data-c44d0cf476fda39e6f69101c4edf4299": [
         {
          "Actual Vs Model": "Actual",
          "Repeat Trans": 5652,
          "Year": "1996"
         },
         {
          "Actual Vs Model": "Actual",
          "Repeat Trans": 10326,
          "Year": "1997"
         },
         {
          "Actual Vs Model": "Actual",
          "Repeat Trans": 14345,
          "Year": "1998"
         },
         {
          "Actual Vs Model": "Actual",
          "Repeat Trans": 17897,
          "Year": "1999"
         },
         {
          "Actual Vs Model": "Actual",
          "Repeat Trans": 21452,
          "Year": "2000"
         },
         {
          "Actual Vs Model": "Actual",
          "Repeat Trans": 24615,
          "Year": "2001"
         },
         {
          "Actual Vs Model": "Actual",
          "Repeat Trans": 27725,
          "Year": "2002"
         },
         {
          "Actual Vs Model": "Actual",
          "Repeat Trans": 30663,
          "Year": "2003"
         },
         {
          "Actual Vs Model": "Actual",
          "Repeat Trans": 33366,
          "Year": "2004"
         },
         {
          "Actual Vs Model": "Actual",
          "Repeat Trans": 35939,
          "Year": "2005"
         },
         {
          "Actual Vs Model": "Actual",
          "Repeat Trans": 37875,
          "Year": "2006"
         },
         {
          "Actual Vs Model": "Model",
          "Repeat Trans": 5535.8362725580255,
          "Year": "1996"
         },
         {
          "Actual Vs Model": "Model",
          "Repeat Trans": 10252.91427925563,
          "Year": "1997"
         },
         {
          "Actual Vs Model": "Model",
          "Repeat Trans": 14400.563666957929,
          "Year": "1998"
         },
         {
          "Actual Vs Model": "Model",
          "Repeat Trans": 18125.264066274693,
          "Year": "1999"
         },
         {
          "Actual Vs Model": "Model",
          "Repeat Trans": 21521.192240110075,
          "Year": "2000"
         },
         {
          "Actual Vs Model": "Model",
          "Repeat Trans": 24652.88167216276,
          "Year": "2001"
         },
         {
          "Actual Vs Model": "Model",
          "Repeat Trans": 27566.704794641333,
          "Year": "2002"
         },
         {
          "Actual Vs Model": "Model",
          "Repeat Trans": 30297.23383269624,
          "Year": "2003"
         },
         {
          "Actual Vs Model": "Model",
          "Repeat Trans": 32871.012527925894,
          "Year": "2004"
         },
         {
          "Actual Vs Model": "Model",
          "Repeat Trans": 35308.91602442865,
          "Year": "2005"
         },
         {
          "Actual Vs Model": "Model",
          "Repeat Trans": 37627.693121883516,
          "Year": "2006"
         }
        ]
       },
       "encoding": {
        "color": {
         "field": "Actual Vs Model",
         "type": "nominal"
        },
        "x": {
         "axis": {
          "labelAngle": 0
         },
         "field": "Year",
         "type": "nominal"
        },
        "xOffset": {
         "field": "Actual Vs Model",
         "type": "nominal"
        },
        "y": {
         "field": "Repeat Trans",
         "title": "Cumulative no. of repeat transactions",
         "type": "quantitative"
        }
       },
       "height": 250,
       "mark": {
        "type": "bar"
       },
       "title": "Predicted vs. Actual Cumulative Repeat Transactions",
       "width": 650
      },
      "text/plain": [
       "<VegaLite 5 object>\n",
       "\n",
       "If you see this message, it means the renderer has not been properly enabled\n",
       "for the frontend that you are using. For more information, see\n",
       "https://altair-viz.github.io/user_guide/display_frontends.html#troubleshooting\n"
      ]
     },
     "execution_count": 54,
     "metadata": {},
     "output_type": "execute_result"
    }
   ],
   "source": [
    "(\n",
    "    alt.Chart(cum_repeat).mark_bar().encode(\n",
    "        x=alt.X('Year', axis=alt.Axis(labelAngle=0)),\n",
    "        y=alt.Y('Repeat Trans', title='Cumulative no. of repeat transactions'),\n",
    "        color='Actual Vs Model',\n",
    "        xOffset='Actual Vs Model'\n",
    "    ).properties(\n",
    "            width=650,\n",
    "            height=250,\n",
    "            title='Predicted vs. Actual Cumulative Repeat Transactions'\n",
    "    ).configure_view(stroke=None).configure_axisY(grid=False).configure_axisX(grid=False)  \n",
    ")"
   ]
  },
  {
   "cell_type": "markdown",
   "metadata": {},
   "source": [
    "### Conditional Expectations"
   ]
  },
  {
   "cell_type": "code",
   "execution_count": 55,
   "metadata": {},
   "outputs": [],
   "source": [
    "p1x, t_x, n, num_donors = [*rfm_array.T]\n",
    "n_star = 5\n",
    "\n",
    "B_alpha_beta = np.exp(gammaln(alpha)+gammaln(beta)-gammaln(alpha+beta))\n",
    "B_gamma_delta = np.exp(gammaln(gamma)+gammaln(delta)-gammaln(gamma+delta))\n",
    "\n",
    "A2 = np.exp(gammaln(alpha+p1x+1)+gammaln(beta+n-p1x)-gammaln(alpha+beta+n+1))/B_alpha_beta\n",
    "A3 = delta/(gamma-1)*np.exp(gammaln(gamma+delta)-gammaln(delta+1))*(np.exp(gammaln(1+delta+n.max())-\\\n",
    "     gammaln(gamma+delta+n.max()))-np.exp(gammaln(1+delta+n.max()+n_star)-gammaln(gamma+delta+n.max()+n_star)))\n",
    "\n",
    "L = np.zeros((n.shape[0], n[0]+1))\n",
    "L[:,0] = np.exp(gammaln(alpha+p1x)+gammaln(beta+n-p1x)-gammaln(alpha+beta+n))/B_alpha_beta* \\\n",
    "                np.exp(gammaln(gamma)+gammaln(delta+n)-gammaln(gamma+delta+n))/B_gamma_delta\n",
    "\n",
    "i = np.arange(6)\n",
    "L[:,1:] = np.exp(gammaln(alpha+p1x.reshape(-1,1))+gammaln(beta+t_x.reshape(-1,1)-p1x.reshape(-1,1)+i)-gammaln(alpha+beta+t_x.reshape(-1,1)+i))/B_alpha_beta* \\\n",
    "                np.exp(gammaln(gamma+1)+gammaln(delta+t_x.reshape(-1,1)+i)-gammaln(gamma+delta+t_x.reshape(-1,1)+i+1))/B_gamma_delta        \n",
    "\n",
    "n_t_x_1 = n - t_x - 1\n",
    "L[:,1:] = np.where(i <= n_t_x_1.reshape(-1,1), L[:,1:], 0)\n",
    "\n",
    "ce = A2 * A3 / np.sum(L, axis=1)\n",
    "\n",
    "exp_total = ce * num_donors\n",
    "\n",
    "ce_df = (\n",
    "    rfm_data()\n",
    "    .group_by('P1X', 't_x', 'np1x')\n",
    "    .agg(pl.col('P2X').sum().alias('Actual Total'))\n",
    "    .sort(['t_x', 'P1X'], descending=True)\n",
    "    .collect()\n",
    "    .hstack([pl.Series('Exp Total', exp_total)])\n",
    ")\n",
    "\n",
    "# Actual total 2002-2006 donations by p1x / tx\n",
    "actual_ce_mat = ce_df.sort('t_x').pivot(index='P1X', on='t_x', values='Actual Total').sort('P1X').fill_null(0).to_numpy()\n",
    "p1x_frequency = actual_ce_mat[:,0]\n",
    "actual_ce_mat = actual_ce_mat[:,1:]\n",
    "\n",
    "# Expected total 2002-2006 donations by p1x / tx\n",
    "est_ce_mat = ce_df.sort('t_x').pivot(index='P1X', on='t_x', values='Exp Total').sort('P1X').fill_null(0).to_numpy()[:,1:]\n",
    "\n",
    "# Number of Donors\n",
    "num_donors_mat = rfm_summary.collect().sort('t_x').pivot(index='P1X', on='t_x', values='Count').sort('P1X').fill_null(0).to_numpy()[:,1:]\n",
    "\n",
    "# CE by Frequency\n",
    "actual_ce_freq = np.sum(actual_ce_mat, axis=1) / np.sum(num_donors_mat, axis=1)\n",
    "est_ce_freq = np.sum(est_ce_mat, axis=1) / np.sum(num_donors_mat, axis=1)\n",
    "ce_freq = pl.DataFrame({'x': p1x_frequency, 'Actual': actual_ce_freq, 'Model': est_ce_freq})\n",
    "ce_freq = ce_freq.unpivot(index='x', on=['Actual', 'Model'], variable_name='Actual Vs Model', value_name='CE by Freq')\n",
    "\n",
    "# CE by Recency\n",
    "actual_ce_rec = np.sum(actual_ce_mat, axis=0) / np.sum(num_donors_mat, axis=0)\n",
    "est_ce_rec = np.sum(est_ce_mat, axis=0) / np.sum(num_donors_mat, axis=0)\n",
    "ce_rec = pl.DataFrame({'t_x': years[:len(p1x_frequency)], 'Actual': actual_ce_rec, 'Model': est_ce_rec}).with_columns(pl.col('t_x').cast(pl.Int16))\n",
    "ce_rec = ce_rec.unpivot(index='t_x', on=['Actual', 'Model'], variable_name='Actual Vs Model', value_name='CE by Rec')"
   ]
  },
  {
   "cell_type": "code",
   "execution_count": 56,
   "metadata": {},
   "outputs": [
    {
     "data": {
      "application/vnd.vegalite.v5+json": {
       "$schema": "https://vega.github.io/schema/vega-lite/v5.20.1.json",
       "config": {
        "axisX": {
         "grid": false
        },
        "axisY": {
         "grid": false
        },
        "view": {
         "continuousHeight": 300,
         "continuousWidth": 300,
         "stroke": null
        }
       },
       "data": {
        "name": "data-d485dc23d75e32ab1cd00b010a7dd1aa"
       },
       "datasets": {
        "data-d485dc23d75e32ab1cd00b010a7dd1aa": [
         {
          "Actual Vs Model": "Actual",
          "CE by Freq": 0.17436489607390301,
          "x": 0
         },
         {
          "Actual Vs Model": "Actual",
          "CE by Freq": 0.4328030718595721,
          "x": 1
         },
         {
          "Actual Vs Model": "Actual",
          "CE by Freq": 0.8125874125874126,
          "x": 2
         },
         {
          "Actual Vs Model": "Actual",
          "CE by Freq": 1.3898617511520737,
          "x": 3
         },
         {
          "Actual Vs Model": "Actual",
          "CE by Freq": 2.0617760617760617,
          "x": 4
         },
         {
          "Actual Vs Model": "Actual",
          "CE by Freq": 2.642521166509878,
          "x": 5
         },
         {
          "Actual Vs Model": "Actual",
          "CE by Freq": 3.5344970906068163,
          "x": 6
         },
         {
          "Actual Vs Model": "Model",
          "CE by Freq": 0.07286622449570031,
          "x": 0
         },
         {
          "Actual Vs Model": "Model",
          "CE by Freq": 0.3248872506833721,
          "x": 1
         },
         {
          "Actual Vs Model": "Model",
          "CE by Freq": 0.7089470523720279,
          "x": 2
         },
         {
          "Actual Vs Model": "Model",
          "CE by Freq": 1.333674522276074,
          "x": 3
         },
         {
          "Actual Vs Model": "Model",
          "CE by Freq": 2.031216629106824,
          "x": 4
         },
         {
          "Actual Vs Model": "Model",
          "CE by Freq": 2.784500126163492,
          "x": 5
         },
         {
          "Actual Vs Model": "Model",
          "CE by Freq": 3.7525247818043397,
          "x": 6
         }
        ]
       },
       "encoding": {
        "strokeDash": {
         "field": "Actual Vs Model",
         "type": "nominal"
        },
        "x": {
         "axis": {
          "labelAngle": 0,
          "values": [
           0,
           1,
           2,
           3,
           4,
           5,
           6
          ]
         },
         "field": "x",
         "title": "No. of repeat transactions (1996-2001)",
         "type": "quantitative"
        },
        "y": {
         "field": "CE by Freq",
         "title": "No. of repeat transactions (2002–2006)",
         "type": "quantitative"
        }
       },
       "height": 250,
       "mark": {
        "type": "line"
       },
       "title": "Predicted vs. Actual Conditional Expectations of Repeat Transactions in 2002–2006 as a Function of Frequency",
       "width": 650
      },
      "text/plain": [
       "<VegaLite 5 object>\n",
       "\n",
       "If you see this message, it means the renderer has not been properly enabled\n",
       "for the frontend that you are using. For more information, see\n",
       "https://altair-viz.github.io/user_guide/display_frontends.html#troubleshooting\n"
      ]
     },
     "execution_count": 56,
     "metadata": {},
     "output_type": "execute_result"
    }
   ],
   "source": [
    "(\n",
    "    alt.Chart(ce_freq).mark_line().encode(\n",
    "        x=alt.X('x', title='No. of repeat transactions (1996-2001)', axis=alt.Axis(labelAngle=0, values=np.arange(7))),\n",
    "        y=alt.Y('CE by Freq', title='No. of repeat transactions (2002–2006)'),\n",
    "        strokeDash='Actual Vs Model'\n",
    "    ).properties(\n",
    "            width=650,\n",
    "            height=250,\n",
    "            title='Predicted vs. Actual Conditional Expectations of Repeat Transactions in 2002–2006 as a Function of Frequency'\n",
    "    ).configure_view(stroke=None).configure_axisY(grid=False).configure_axisX(grid=False)  \n",
    ")"
   ]
  },
  {
   "cell_type": "code",
   "execution_count": 57,
   "metadata": {},
   "outputs": [
    {
     "data": {
      "application/vnd.vegalite.v5+json": {
       "$schema": "https://vega.github.io/schema/vega-lite/v5.20.1.json",
       "config": {
        "axisX": {
         "grid": false
        },
        "axisY": {
         "grid": false
        },
        "view": {
         "continuousHeight": 300,
         "continuousWidth": 300,
         "stroke": null
        }
       },
       "data": {
        "name": "data-1abb08e85efa299feb499dc0b12ec226"
       },
       "datasets": {
        "data-1abb08e85efa299feb499dc0b12ec226": [
         {
          "Actual Vs Model": "Actual",
          "CE by Rec": 0.17436489607390301,
          "t_x": 1995
         },
         {
          "Actual Vs Model": "Actual",
          "CE by Rec": 0.21814848762603117,
          "t_x": 1996
         },
         {
          "Actual Vs Model": "Actual",
          "CE by Rec": 0.3898876404494382,
          "t_x": 1997
         },
         {
          "Actual Vs Model": "Actual",
          "CE by Rec": 0.48725212464589235,
          "t_x": 1998
         },
         {
          "Actual Vs Model": "Actual",
          "CE by Rec": 0.808868501529052,
          "t_x": 1999
         },
         {
          "Actual Vs Model": "Actual",
          "CE by Rec": 1.6522887323943662,
          "t_x": 2000
         },
         {
          "Actual Vs Model": "Actual",
          "CE by Rec": 2.946885867846981,
          "t_x": 2001
         },
         {
          "Actual Vs Model": "Model",
          "CE by Rec": 0.07286622449570031,
          "t_x": 1995
         },
         {
          "Actual Vs Model": "Model",
          "CE by Rec": 0.08569712813920471,
          "t_x": 1996
         },
         {
          "Actual Vs Model": "Model",
          "CE by Rec": 0.17984725132814386,
          "t_x": 1997
         },
         {
          "Actual Vs Model": "Model",
          "CE by Rec": 0.4041190969895022,
          "t_x": 1998
         },
         {
          "Actual Vs Model": "Model",
          "CE by Rec": 0.8510920873313161,
          "t_x": 1999
         },
         {
          "Actual Vs Model": "Model",
          "CE by Rec": 1.7263361466483986,
          "t_x": 2000
         },
         {
          "Actual Vs Model": "Model",
          "CE by Rec": 3.0272058752041224,
          "t_x": 2001
         }
        ]
       },
       "encoding": {
        "strokeDash": {
         "field": "Actual Vs Model",
         "type": "nominal"
        },
        "x": {
         "axis": {
          "format": ".0f",
          "labelAngle": 0,
          "values": [
           1995,
           1996,
           1997,
           1998,
           1999,
           2000,
           2001
          ]
         },
         "field": "t_x",
         "title": "Year of last transaction",
         "type": "quantitative"
        },
        "y": {
         "field": "CE by Rec",
         "title": "No. of repeat transactions (2002–2006)",
         "type": "quantitative"
        }
       },
       "height": 250,
       "mark": {
        "type": "line"
       },
       "title": "Predicted vs. Actual Conditional Expectations of Repeat Transactions in 2002–2006 as a Function of Recency",
       "width": 650
      },
      "text/plain": [
       "<VegaLite 5 object>\n",
       "\n",
       "If you see this message, it means the renderer has not been properly enabled\n",
       "for the frontend that you are using. For more information, see\n",
       "https://altair-viz.github.io/user_guide/display_frontends.html#troubleshooting\n"
      ]
     },
     "execution_count": 57,
     "metadata": {},
     "output_type": "execute_result"
    }
   ],
   "source": [
    "(\n",
    "    alt.Chart(ce_rec).mark_line().encode(\n",
    "        x=alt.X('t_x', title='Year of last transaction', axis=alt.Axis(labelAngle=0, values=np.arange(1995, 2002, 1), format='.0f')),\n",
    "        y=alt.Y('CE by Rec', title='No. of repeat transactions (2002–2006)'),\n",
    "        strokeDash='Actual Vs Model'\n",
    "    ).properties(\n",
    "            width=650,\n",
    "            height=250,\n",
    "            title='Predicted vs. Actual Conditional Expectations of Repeat Transactions in 2002–2006 as a Function of Recency'\n",
    "    ).configure_view(stroke=None).configure_axisY(grid=False).configure_axisX(grid=False)  \n",
    ")"
   ]
  },
  {
   "cell_type": "markdown",
   "metadata": {},
   "source": [
    "### Posterior Mean of P as a Function of Recency and Frequency"
   ]
  },
  {
   "cell_type": "code",
   "execution_count": 69,
   "metadata": {},
   "outputs": [
    {
     "ename": "DuplicateError",
     "evalue": "the name 'literal' is duplicate\n\nIt's possible that multiple expressions are returning the same default column name. If this is the case, try renaming the columns with `.alias(\"new_name\")` to avoid duplicate column names.",
     "output_type": "error",
     "traceback": [
      "\u001b[0;31m---------------------------------------------------------------------------\u001b[0m",
      "\u001b[0;31mDuplicateError\u001b[0m                            Traceback (most recent call last)",
      "Cell \u001b[0;32mIn[69], line 43\u001b[0m\n\u001b[1;32m     21\u001b[0m E_P_Theta \u001b[38;5;241m=\u001b[39m B_alphal_beta\u001b[38;5;241m/\u001b[39mB_alpha_beta\u001b[38;5;241m*\u001b[39mB_gammam_delta\u001b[38;5;241m/\u001b[39mB_gamma_delta\u001b[38;5;241m*\u001b[39mnp\u001b[38;5;241m.\u001b[39msum(L_lm, axis\u001b[38;5;241m=\u001b[39m\u001b[38;5;241m1\u001b[39m)\u001b[38;5;241m/\u001b[39mnp\u001b[38;5;241m.\u001b[39msum(L, axis\u001b[38;5;241m=\u001b[39m\u001b[38;5;241m1\u001b[39m)\n\u001b[1;32m     23\u001b[0m tx_year_map \u001b[38;5;241m=\u001b[39m {tx: \u001b[38;5;28mint\u001b[39m(year) \u001b[38;5;28;01mfor\u001b[39;00m tx, year \u001b[38;5;129;01min\u001b[39;00m \u001b[38;5;28menumerate\u001b[39m(years)}\n\u001b[1;32m     27\u001b[0m (\n\u001b[1;32m     28\u001b[0m     \u001b[43mrfm_summary\u001b[49m\n\u001b[1;32m     29\u001b[0m \u001b[43m    \u001b[49m\u001b[38;5;241;43m.\u001b[39;49m\u001b[43mwith_columns\u001b[49m\u001b[43m(\u001b[49m\u001b[43mpl\u001b[49m\u001b[38;5;241;43m.\u001b[39;49m\u001b[43mcol\u001b[49m\u001b[43m(\u001b[49m\u001b[38;5;124;43m\"\u001b[39;49m\u001b[38;5;124;43mt_x\u001b[39;49m\u001b[38;5;124;43m\"\u001b[39;49m\u001b[43m)\u001b[49m\u001b[38;5;241;43m.\u001b[39;49m\u001b[43mreplace\u001b[49m\u001b[43m(\u001b[49m\u001b[43mtx_year_map\u001b[49m\u001b[43m)\u001b[49m\u001b[38;5;241;43m.\u001b[39;49m\u001b[43malias\u001b[49m\u001b[43m(\u001b[49m\u001b[38;5;124;43m\"\u001b[39;49m\u001b[38;5;124;43mYear\u001b[39;49m\u001b[38;5;124;43m\"\u001b[39;49m\u001b[43m)\u001b[49m\u001b[43m)\u001b[49m\n\u001b[1;32m     30\u001b[0m \u001b[43m    \u001b[49m\u001b[38;5;241;43m.\u001b[39;49m\u001b[43mcollect\u001b[49m\u001b[43m(\u001b[49m\u001b[43m)\u001b[49m\n\u001b[1;32m     31\u001b[0m \u001b[43m    \u001b[49m\u001b[38;5;241;43m.\u001b[39;49m\u001b[43mhstack\u001b[49m\u001b[43m(\u001b[49m\u001b[43mpl\u001b[49m\u001b[38;5;241;43m.\u001b[39;49m\u001b[43mDataFrame\u001b[49m\u001b[43m(\u001b[49m\u001b[43m{\u001b[49m\u001b[38;5;124;43m'\u001b[39;49m\u001b[38;5;124;43mE_P_Theta\u001b[39;49m\u001b[38;5;124;43m'\u001b[39;49m\u001b[43m:\u001b[49m\u001b[43m \u001b[49m\u001b[43mE_P_Theta\u001b[49m\u001b[43m}\u001b[49m\u001b[43m)\u001b[49m\u001b[43m)\u001b[49m\n\u001b[1;32m     32\u001b[0m \u001b[43m    \u001b[49m\u001b[38;5;241;43m.\u001b[39;49m\u001b[43msort\u001b[49m\u001b[43m(\u001b[49m\u001b[38;5;124;43m'\u001b[39;49m\u001b[38;5;124;43mYear\u001b[39;49m\u001b[38;5;124;43m'\u001b[39;49m\u001b[43m)\u001b[49m\n\u001b[1;32m     33\u001b[0m \u001b[43m    \u001b[49m\u001b[38;5;241;43m.\u001b[39;49m\u001b[43mpivot\u001b[49m\u001b[43m(\u001b[49m\u001b[43mon\u001b[49m\u001b[38;5;241;43m=\u001b[39;49m\u001b[38;5;124;43m'\u001b[39;49m\u001b[38;5;124;43mYear\u001b[39;49m\u001b[38;5;124;43m'\u001b[39;49m\u001b[43m,\u001b[49m\u001b[43m \u001b[49m\u001b[43mindex\u001b[49m\u001b[38;5;241;43m=\u001b[39;49m\u001b[38;5;124;43m'\u001b[39;49m\u001b[38;5;124;43mP1X\u001b[39;49m\u001b[38;5;124;43m'\u001b[39;49m\u001b[43m,\u001b[49m\u001b[43m \u001b[49m\u001b[43mvalues\u001b[49m\u001b[38;5;241;43m=\u001b[39;49m\u001b[38;5;124;43m'\u001b[39;49m\u001b[38;5;124;43mE_P_Theta\u001b[39;49m\u001b[38;5;124;43m'\u001b[39;49m\u001b[43m)\u001b[49m\n\u001b[1;32m     34\u001b[0m \u001b[43m    \u001b[49m\u001b[38;5;241;43m.\u001b[39;49m\u001b[43msort\u001b[49m\u001b[43m(\u001b[49m\u001b[38;5;124;43m'\u001b[39;49m\u001b[38;5;124;43mP1X\u001b[39;49m\u001b[38;5;124;43m'\u001b[39;49m\u001b[43m)\u001b[49m\n\u001b[1;32m     35\u001b[0m \u001b[43m    \u001b[49m\u001b[38;5;241;43m.\u001b[39;49m\u001b[43mstyle\u001b[49m\u001b[38;5;241;43m.\u001b[39;49m\u001b[43mtab_header\u001b[49m\u001b[43m(\u001b[49m\u001b[43mtitle\u001b[49m\u001b[38;5;241;43m=\u001b[39;49m\u001b[38;5;124;43m\"\u001b[39;49m\u001b[38;5;124;43mPosterior Mean of P as a Function of Recency and Frequency\u001b[39;49m\u001b[38;5;124;43m\"\u001b[39;49m\u001b[43m)\u001b[49m\n\u001b[1;32m     36\u001b[0m \u001b[43m    \u001b[49m\u001b[38;5;241;43m.\u001b[39;49m\u001b[43mtab_stub\u001b[49m\u001b[43m(\u001b[49m\u001b[43mrowname_col\u001b[49m\u001b[38;5;241;43m=\u001b[39;49m\u001b[38;5;124;43m\"\u001b[39;49m\u001b[38;5;124;43mP1X\u001b[39;49m\u001b[38;5;124;43m\"\u001b[39;49m\u001b[43m)\u001b[49m\n\u001b[1;32m     37\u001b[0m \u001b[43m    \u001b[49m\u001b[38;5;241;43m.\u001b[39;49m\u001b[43mtab_stubhead\u001b[49m\u001b[43m(\u001b[49m\u001b[43mlabel\u001b[49m\u001b[38;5;241;43m=\u001b[39;49m\u001b[38;5;124;43m'\u001b[39;49m\u001b[38;5;124;43mP1X\u001b[39;49m\u001b[38;5;124;43m'\u001b[39;49m\u001b[43m)\u001b[49m\n\u001b[1;32m     38\u001b[0m \u001b[43m    \u001b[49m\u001b[38;5;241;43m.\u001b[39;49m\u001b[43mfmt_number\u001b[49m\u001b[43m(\u001b[49m\u001b[43mdecimals\u001b[49m\u001b[38;5;241;43m=\u001b[39;49m\u001b[38;5;241;43m2\u001b[39;49m\u001b[43m)\u001b[49m\u001b[43m   \u001b[49m\n\u001b[1;32m     39\u001b[0m \u001b[43m    \u001b[49m\u001b[38;5;241;43m.\u001b[39;49m\u001b[43mtab_spanner\u001b[49m\u001b[43m(\u001b[49m\n\u001b[1;32m     40\u001b[0m \u001b[43m        \u001b[49m\u001b[43mlabel\u001b[49m\u001b[38;5;241;43m=\u001b[39;49m\u001b[38;5;124;43m\"\u001b[39;49m\u001b[38;5;124;43mYear of last transaction\u001b[39;49m\u001b[38;5;124;43m\"\u001b[39;49m\u001b[43m,\u001b[49m\n\u001b[1;32m     41\u001b[0m \u001b[43m        \u001b[49m\u001b[43mcolumns\u001b[49m\u001b[38;5;241;43m=\u001b[39;49m\u001b[43myears\u001b[49m\u001b[43m[\u001b[49m\u001b[43m:\u001b[49m\u001b[38;5;241;43m7\u001b[39;49m\u001b[43m]\u001b[49m\n\u001b[1;32m     42\u001b[0m \u001b[43m    \u001b[49m\u001b[43m)\u001b[49m\u001b[43m     \u001b[49m\n\u001b[0;32m---> 43\u001b[0m \u001b[43m    \u001b[49m\u001b[38;5;241;43m.\u001b[39;49m\u001b[43mtab_style\u001b[49m\u001b[43m(\u001b[49m\n\u001b[1;32m     44\u001b[0m \u001b[43m        \u001b[49m\u001b[43mstyle\u001b[49m\u001b[38;5;241;43m=\u001b[39;49m\u001b[43mstyle\u001b[49m\u001b[38;5;241;43m.\u001b[39;49m\u001b[43mtext\u001b[49m\u001b[43m(\u001b[49m\u001b[43mcolor\u001b[49m\u001b[38;5;241;43m=\u001b[39;49m\u001b[43mpl\u001b[49m\u001b[38;5;241;43m.\u001b[39;49m\u001b[43mwhen\u001b[49m\u001b[43m(\u001b[49m\u001b[43mpl\u001b[49m\u001b[38;5;241;43m.\u001b[39;49m\u001b[43mcol\u001b[49m\u001b[43m(\u001b[49m\u001b[38;5;124;43m'\u001b[39;49m\u001b[38;5;124;43m*\u001b[39;49m\u001b[38;5;124;43m'\u001b[39;49m\u001b[43m)\u001b[49m\u001b[38;5;241;43m.\u001b[39;49m\u001b[43mis_null\u001b[49m\u001b[43m(\u001b[49m\u001b[43m)\u001b[49m\u001b[43m)\u001b[49m\n\u001b[1;32m     45\u001b[0m \u001b[43m                                 \u001b[49m\u001b[38;5;241;43m.\u001b[39;49m\u001b[43mthen\u001b[49m\u001b[43m(\u001b[49m\u001b[43mpl\u001b[49m\u001b[38;5;241;43m.\u001b[39;49m\u001b[43mlit\u001b[49m\u001b[43m(\u001b[49m\u001b[38;5;124;43m'\u001b[39;49m\u001b[38;5;124;43mwhite\u001b[39;49m\u001b[38;5;124;43m'\u001b[39;49m\u001b[43m)\u001b[49m\u001b[43m)\u001b[49m\n\u001b[1;32m     46\u001b[0m \u001b[43m                                 \u001b[49m\u001b[38;5;241;43m.\u001b[39;49m\u001b[43motherwise\u001b[49m\u001b[43m(\u001b[49m\u001b[43mpl\u001b[49m\u001b[38;5;241;43m.\u001b[39;49m\u001b[43mlit\u001b[49m\u001b[43m(\u001b[49m\u001b[38;5;124;43m'\u001b[39;49m\u001b[38;5;124;43mblack\u001b[39;49m\u001b[38;5;124;43m'\u001b[39;49m\u001b[43m)\u001b[49m\u001b[43m)\u001b[49m\u001b[43m)\u001b[49m\u001b[43m,\u001b[49m\n\u001b[1;32m     47\u001b[0m \u001b[43m        \u001b[49m\u001b[43mlocations\u001b[49m\u001b[38;5;241;43m=\u001b[39;49m\u001b[43mloc\u001b[49m\u001b[38;5;241;43m.\u001b[39;49m\u001b[43mbody\u001b[49m\u001b[43m(\u001b[49m\u001b[43mcolumns\u001b[49m\u001b[38;5;241;43m=\u001b[39;49m\u001b[43myears\u001b[49m\u001b[43m[\u001b[49m\u001b[43m:\u001b[49m\u001b[38;5;241;43m7\u001b[39;49m\u001b[43m]\u001b[49m\u001b[43m)\u001b[49m\n\u001b[1;32m     48\u001b[0m \u001b[43m    \u001b[49m\u001b[43m)\u001b[49m    \n\u001b[1;32m     49\u001b[0m     \u001b[38;5;241m.\u001b[39mdata_color(\n\u001b[1;32m     50\u001b[0m         domain\u001b[38;5;241m=\u001b[39m[\u001b[38;5;241m0\u001b[39m, \u001b[38;5;241m1\u001b[39m],\n\u001b[1;32m     51\u001b[0m         palette\u001b[38;5;241m=\u001b[39m[\u001b[38;5;124m\"\u001b[39m\u001b[38;5;124mwhite\u001b[39m\u001b[38;5;124m\"\u001b[39m, \u001b[38;5;124m\"\u001b[39m\u001b[38;5;124mrebeccapurple\u001b[39m\u001b[38;5;124m\"\u001b[39m],\n\u001b[1;32m     52\u001b[0m         na_color\u001b[38;5;241m=\u001b[39m\u001b[38;5;124m\"\u001b[39m\u001b[38;5;124mwhite\u001b[39m\u001b[38;5;124m\"\u001b[39m,\n\u001b[1;32m     53\u001b[0m     )\n\u001b[1;32m     54\u001b[0m )\n",
      "File \u001b[0;32m~/Documents/Coding-Projects/.venv/lib/python3.13/site-packages/great_tables/_tab_create_modify.py:150\u001b[0m, in \u001b[0;36mtab_style\u001b[0;34m(self, style, locations)\u001b[0m\n\u001b[1;32m    147\u001b[0m             new_data \u001b[38;5;241m=\u001b[39m new_data\u001b[38;5;241m.\u001b[39mtab_options(table_additional_css\u001b[38;5;241m=\u001b[39mexisting_additional_css)\n\u001b[1;32m    149\u001b[0m \u001b[38;5;28;01mfor\u001b[39;00m loc \u001b[38;5;129;01min\u001b[39;00m locations:\n\u001b[0;32m--> 150\u001b[0m     new_data \u001b[38;5;241m=\u001b[39m \u001b[43mset_style\u001b[49m\u001b[43m(\u001b[49m\u001b[43mloc\u001b[49m\u001b[43m,\u001b[49m\u001b[43m \u001b[49m\u001b[43mnew_data\u001b[49m\u001b[43m,\u001b[49m\u001b[43m \u001b[49m\u001b[43mstyle\u001b[49m\u001b[43m)\u001b[49m\n\u001b[1;32m    152\u001b[0m \u001b[38;5;28;01mreturn\u001b[39;00m new_data\n",
      "File \u001b[0;32m/opt/homebrew/Cellar/python@3.13/3.13.1/Frameworks/Python.framework/Versions/3.13/lib/python3.13/functools.py:931\u001b[0m, in \u001b[0;36msingledispatch.<locals>.wrapper\u001b[0;34m(*args, **kw)\u001b[0m\n\u001b[1;32m    928\u001b[0m \u001b[38;5;28;01mif\u001b[39;00m \u001b[38;5;129;01mnot\u001b[39;00m args:\n\u001b[1;32m    929\u001b[0m     \u001b[38;5;28;01mraise\u001b[39;00m \u001b[38;5;167;01mTypeError\u001b[39;00m(\u001b[38;5;124mf\u001b[39m\u001b[38;5;124m'\u001b[39m\u001b[38;5;132;01m{\u001b[39;00mfuncname\u001b[38;5;132;01m}\u001b[39;00m\u001b[38;5;124m requires at least \u001b[39m\u001b[38;5;124m'\u001b[39m\n\u001b[1;32m    930\u001b[0m                     \u001b[38;5;124m'\u001b[39m\u001b[38;5;124m1 positional argument\u001b[39m\u001b[38;5;124m'\u001b[39m)\n\u001b[0;32m--> 931\u001b[0m \u001b[38;5;28;01mreturn\u001b[39;00m \u001b[43mdispatch\u001b[49m\u001b[43m(\u001b[49m\u001b[43margs\u001b[49m\u001b[43m[\u001b[49m\u001b[38;5;241;43m0\u001b[39;49m\u001b[43m]\u001b[49m\u001b[38;5;241;43m.\u001b[39;49m\u001b[38;5;18;43m__class__\u001b[39;49m\u001b[43m)\u001b[49m\u001b[43m(\u001b[49m\u001b[38;5;241;43m*\u001b[39;49m\u001b[43margs\u001b[49m\u001b[43m,\u001b[49m\u001b[43m \u001b[49m\u001b[38;5;241;43m*\u001b[39;49m\u001b[38;5;241;43m*\u001b[39;49m\u001b[43mkw\u001b[49m\u001b[43m)\u001b[49m\n",
      "File \u001b[0;32m~/Documents/Coding-Projects/.venv/lib/python3.13/site-packages/great_tables/_locations.py:1000\u001b[0m, in \u001b[0;36m_\u001b[0;34m(loc, data, style)\u001b[0m\n\u001b[1;32m    997\u001b[0m positions: \u001b[38;5;28mlist\u001b[39m[CellPos] \u001b[38;5;241m=\u001b[39m resolve(loc, data)\n\u001b[1;32m    999\u001b[0m \u001b[38;5;66;03m# evaluate any column expressions in styles\u001b[39;00m\n\u001b[0;32m-> 1000\u001b[0m style_ready \u001b[38;5;241m=\u001b[39m [\u001b[43mentry\u001b[49m\u001b[38;5;241;43m.\u001b[39;49m\u001b[43m_evaluate_expressions\u001b[49m\u001b[43m(\u001b[49m\u001b[43mdata\u001b[49m\u001b[38;5;241;43m.\u001b[39;49m\u001b[43m_tbl_data\u001b[49m\u001b[43m)\u001b[49m \u001b[38;5;28;01mfor\u001b[39;00m entry \u001b[38;5;129;01min\u001b[39;00m style]\n\u001b[1;32m   1002\u001b[0m all_info: \u001b[38;5;28mlist\u001b[39m[StyleInfo] \u001b[38;5;241m=\u001b[39m []\n\u001b[1;32m   1003\u001b[0m \u001b[38;5;28;01mfor\u001b[39;00m col_pos \u001b[38;5;129;01min\u001b[39;00m positions:\n",
      "File \u001b[0;32m~/Documents/Coding-Projects/.venv/lib/python3.13/site-packages/great_tables/_styles.py:86\u001b[0m, in \u001b[0;36mCellStyle._evaluate_expressions\u001b[0;34m(self, data)\u001b[0m\n\u001b[1;32m     84\u001b[0m     attr \u001b[38;5;241m=\u001b[39m \u001b[38;5;28mgetattr\u001b[39m(\u001b[38;5;28mself\u001b[39m, field\u001b[38;5;241m.\u001b[39mname)\n\u001b[1;32m     85\u001b[0m     \u001b[38;5;28;01mif\u001b[39;00m \u001b[38;5;28misinstance\u001b[39m(attr, PlExpr) \u001b[38;5;129;01mor\u001b[39;00m \u001b[38;5;28mcallable\u001b[39m(attr):\n\u001b[0;32m---> 86\u001b[0m         col_res \u001b[38;5;241m=\u001b[39m \u001b[43meval_transform\u001b[49m\u001b[43m(\u001b[49m\u001b[43mdata\u001b[49m\u001b[43m,\u001b[49m\u001b[43m \u001b[49m\u001b[43mattr\u001b[49m\u001b[43m)\u001b[49m\n\u001b[1;32m     87\u001b[0m         new_fields[field\u001b[38;5;241m.\u001b[39mname] \u001b[38;5;241m=\u001b[39m FromValues(expr\u001b[38;5;241m=\u001b[39mattr, values\u001b[38;5;241m=\u001b[39mcol_res)\n\u001b[1;32m     89\u001b[0m \u001b[38;5;28;01mif\u001b[39;00m \u001b[38;5;129;01mnot\u001b[39;00m new_fields:\n",
      "File \u001b[0;32m/opt/homebrew/Cellar/python@3.13/3.13.1/Frameworks/Python.framework/Versions/3.13/lib/python3.13/functools.py:931\u001b[0m, in \u001b[0;36msingledispatch.<locals>.wrapper\u001b[0;34m(*args, **kw)\u001b[0m\n\u001b[1;32m    928\u001b[0m \u001b[38;5;28;01mif\u001b[39;00m \u001b[38;5;129;01mnot\u001b[39;00m args:\n\u001b[1;32m    929\u001b[0m     \u001b[38;5;28;01mraise\u001b[39;00m \u001b[38;5;167;01mTypeError\u001b[39;00m(\u001b[38;5;124mf\u001b[39m\u001b[38;5;124m'\u001b[39m\u001b[38;5;132;01m{\u001b[39;00mfuncname\u001b[38;5;132;01m}\u001b[39;00m\u001b[38;5;124m requires at least \u001b[39m\u001b[38;5;124m'\u001b[39m\n\u001b[1;32m    930\u001b[0m                     \u001b[38;5;124m'\u001b[39m\u001b[38;5;124m1 positional argument\u001b[39m\u001b[38;5;124m'\u001b[39m)\n\u001b[0;32m--> 931\u001b[0m \u001b[38;5;28;01mreturn\u001b[39;00m \u001b[43mdispatch\u001b[49m\u001b[43m(\u001b[49m\u001b[43margs\u001b[49m\u001b[43m[\u001b[49m\u001b[38;5;241;43m0\u001b[39;49m\u001b[43m]\u001b[49m\u001b[38;5;241;43m.\u001b[39;49m\u001b[38;5;18;43m__class__\u001b[39;49m\u001b[43m)\u001b[49m\u001b[43m(\u001b[49m\u001b[38;5;241;43m*\u001b[39;49m\u001b[43margs\u001b[49m\u001b[43m,\u001b[49m\u001b[43m \u001b[49m\u001b[38;5;241;43m*\u001b[39;49m\u001b[38;5;241;43m*\u001b[39;49m\u001b[43mkw\u001b[49m\u001b[43m)\u001b[49m\n",
      "File \u001b[0;32m~/Documents/Coding-Projects/.venv/lib/python3.13/site-packages/great_tables/_tbl_data.py:701\u001b[0m, in \u001b[0;36m_\u001b[0;34m(df, expr)\u001b[0m\n\u001b[1;32m    699\u001b[0m \u001b[38;5;129m@eval_transform\u001b[39m\u001b[38;5;241m.\u001b[39mregister\n\u001b[1;32m    700\u001b[0m \u001b[38;5;28;01mdef\u001b[39;00m \u001b[38;5;21m_\u001b[39m(df: PlDataFrame, expr: PlExpr) \u001b[38;5;241m-\u001b[39m\u001b[38;5;241m>\u001b[39m \u001b[38;5;28mlist\u001b[39m[Any]:\n\u001b[0;32m--> 701\u001b[0m     df_res \u001b[38;5;241m=\u001b[39m \u001b[43mdf\u001b[49m\u001b[38;5;241;43m.\u001b[39;49m\u001b[43mselect\u001b[49m\u001b[43m(\u001b[49m\u001b[43mexpr\u001b[49m\u001b[43m)\u001b[49m\n\u001b[1;32m    703\u001b[0m     \u001b[38;5;28;01mif\u001b[39;00m \u001b[38;5;28mlen\u001b[39m(df_res\u001b[38;5;241m.\u001b[39mcolumns) \u001b[38;5;241m>\u001b[39m \u001b[38;5;241m1\u001b[39m:\n\u001b[1;32m    704\u001b[0m         \u001b[38;5;28;01mraise\u001b[39;00m \u001b[38;5;167;01mValueError\u001b[39;00m(\u001b[38;5;124mf\u001b[39m\u001b[38;5;124m\"\u001b[39m\u001b[38;5;124mResult must be a single column. Received \u001b[39m\u001b[38;5;132;01m{\u001b[39;00m\u001b[38;5;28mlen\u001b[39m(df_res\u001b[38;5;241m.\u001b[39mcolumns)\u001b[38;5;132;01m}\u001b[39;00m\u001b[38;5;124m columns.\u001b[39m\u001b[38;5;124m\"\u001b[39m)\n",
      "File \u001b[0;32m~/Documents/Coding-Projects/.venv/lib/python3.13/site-packages/polars/dataframe/frame.py:9322\u001b[0m, in \u001b[0;36mDataFrame.select\u001b[0;34m(self, *exprs, **named_exprs)\u001b[0m\n\u001b[1;32m   9222\u001b[0m \u001b[38;5;28;01mdef\u001b[39;00m \u001b[38;5;21mselect\u001b[39m(\n\u001b[1;32m   9223\u001b[0m     \u001b[38;5;28mself\u001b[39m, \u001b[38;5;241m*\u001b[39mexprs: IntoExpr \u001b[38;5;241m|\u001b[39m Iterable[IntoExpr], \u001b[38;5;241m*\u001b[39m\u001b[38;5;241m*\u001b[39mnamed_exprs: IntoExpr\n\u001b[1;32m   9224\u001b[0m ) \u001b[38;5;241m-\u001b[39m\u001b[38;5;241m>\u001b[39m DataFrame:\n\u001b[1;32m   9225\u001b[0m \u001b[38;5;250m    \u001b[39m\u001b[38;5;124;03m\"\"\"\u001b[39;00m\n\u001b[1;32m   9226\u001b[0m \u001b[38;5;124;03m    Select columns from this DataFrame.\u001b[39;00m\n\u001b[1;32m   9227\u001b[0m \n\u001b[0;32m   (...)\u001b[0m\n\u001b[1;32m   9320\u001b[0m \u001b[38;5;124;03m    └──────────────┘\u001b[39;00m\n\u001b[1;32m   9321\u001b[0m \u001b[38;5;124;03m    \"\"\"\u001b[39;00m\n\u001b[0;32m-> 9322\u001b[0m     \u001b[38;5;28;01mreturn\u001b[39;00m \u001b[38;5;28;43mself\u001b[39;49m\u001b[38;5;241;43m.\u001b[39;49m\u001b[43mlazy\u001b[49m\u001b[43m(\u001b[49m\u001b[43m)\u001b[49m\u001b[38;5;241;43m.\u001b[39;49m\u001b[43mselect\u001b[49m\u001b[43m(\u001b[49m\u001b[38;5;241;43m*\u001b[39;49m\u001b[43mexprs\u001b[49m\u001b[43m,\u001b[49m\u001b[43m \u001b[49m\u001b[38;5;241;43m*\u001b[39;49m\u001b[38;5;241;43m*\u001b[39;49m\u001b[43mnamed_exprs\u001b[49m\u001b[43m)\u001b[49m\u001b[38;5;241;43m.\u001b[39;49m\u001b[43mcollect\u001b[49m\u001b[43m(\u001b[49m\u001b[43m_eager\u001b[49m\u001b[38;5;241;43m=\u001b[39;49m\u001b[38;5;28;43;01mTrue\u001b[39;49;00m\u001b[43m)\u001b[49m\n",
      "File \u001b[0;32m~/Documents/Coding-Projects/.venv/lib/python3.13/site-packages/polars/lazyframe/frame.py:2043\u001b[0m, in \u001b[0;36mLazyFrame.collect\u001b[0;34m(self, type_coercion, predicate_pushdown, projection_pushdown, simplify_expression, slice_pushdown, comm_subplan_elim, comm_subexpr_elim, cluster_with_columns, collapse_joins, no_optimization, streaming, engine, background, _check_order, _eager, **_kwargs)\u001b[0m\n\u001b[1;32m   2041\u001b[0m \u001b[38;5;66;03m# Only for testing purposes\u001b[39;00m\n\u001b[1;32m   2042\u001b[0m callback \u001b[38;5;241m=\u001b[39m _kwargs\u001b[38;5;241m.\u001b[39mget(\u001b[38;5;124m\"\u001b[39m\u001b[38;5;124mpost_opt_callback\u001b[39m\u001b[38;5;124m\"\u001b[39m, callback)\n\u001b[0;32m-> 2043\u001b[0m \u001b[38;5;28;01mreturn\u001b[39;00m wrap_df(\u001b[43mldf\u001b[49m\u001b[38;5;241;43m.\u001b[39;49m\u001b[43mcollect\u001b[49m\u001b[43m(\u001b[49m\u001b[43mcallback\u001b[49m\u001b[43m)\u001b[49m)\n",
      "\u001b[0;31mDuplicateError\u001b[0m: the name 'literal' is duplicate\n\nIt's possible that multiple expressions are returning the same default column name. If this is the case, try renaming the columns with `.alias(\"new_name\")` to avoid duplicate column names."
     ]
    }
   ],
   "source": [
    "l = 1\n",
    "m = 0\n",
    "\n",
    "alphal = alpha + l\n",
    "gammam = gamma + m\n",
    "\n",
    "B_alphal_beta = np.exp(gammaln(alphal)+gammaln(beta)-gammaln(alphal+beta))\n",
    "B_gammam_delta = np.exp(gammaln(gammam)+gammaln(delta)-gammaln(gammam+delta))\n",
    "\n",
    "L_lm = np.zeros((n.shape[0], n[0]+1))\n",
    "L_lm[:,0] = np.exp(gammaln(alphal+p1x)+gammaln(beta+n-p1x)-gammaln(alphal+beta+n))/B_alphal_beta* \\\n",
    "                np.exp(gammaln(gammam)+gammaln(delta+n)-gammaln(gammam+delta+n))/B_gammam_delta\n",
    "\n",
    "i = np.arange(6)\n",
    "L_lm[:,1:] = np.exp(gammaln(alphal+p1x.reshape(-1,1))+gammaln(beta+t_x.reshape(-1,1)-p1x.reshape(-1,1)+i)-gammaln(alphal+beta+t_x.reshape(-1,1)+i))/B_alphal_beta* \\\n",
    "                np.exp(gammaln(gammam+1)+gammaln(delta+t_x.reshape(-1,1)+i)-gammaln(gammam+delta+t_x.reshape(-1,1)+i+1))/B_gammam_delta        \n",
    "\n",
    "n_t_x_1 = n - t_x - 1\n",
    "L_lm[:,1:] = np.where(i <= n_t_x_1.reshape(-1,1), L_lm[:,1:], 0)\n",
    "\n",
    "E_P_Theta = B_alphal_beta/B_alpha_beta*B_gammam_delta/B_gamma_delta*np.sum(L_lm, axis=1)/np.sum(L, axis=1)\n",
    "\n",
    "tx_year_map = {tx: int(year) for tx, year in enumerate(years)}\n",
    "\n",
    "\n",
    "\n",
    "(\n",
    "    rfm_summary\n",
    "    .with_columns(pl.col(\"t_x\").replace(tx_year_map).alias(\"Year\"))\n",
    "    .collect()\n",
    "    .hstack(pl.DataFrame({'E_P_Theta': E_P_Theta}))\n",
    "    .sort('Year')\n",
    "    .pivot(on='Year', index='P1X', values='E_P_Theta')\n",
    "    .sort('P1X')\n",
    "    .style.tab_header(title=\"Posterior Mean of P as a Function of Recency and Frequency\")\n",
    "    .tab_stub(rowname_col=\"P1X\")\n",
    "    .tab_stubhead(label='P1X')\n",
    "    .fmt_number(decimals=2)   \n",
    "    .tab_spanner(\n",
    "        label=\"Year of last transaction\",\n",
    "        columns=years[:7]\n",
    "    )     \n",
    "    .tab_style(\n",
    "        style=style.text(color=pl.when(pl.col('*').is_null())\n",
    "                                 .then(pl.lit('white'))\n",
    "                                 .otherwise(pl.lit('black'))),\n",
    "        locations=loc.body(columns=years[:7])\n",
    "    )    \n",
    "    .data_color(\n",
    "        domain=[0, 1],\n",
    "        palette=[\"white\", \"rebeccapurple\"],\n",
    "        na_color=\"white\",\n",
    "    )\n",
    ")"
   ]
  }
 ],
 "metadata": {
  "kernelspec": {
   "display_name": "Main (venv)",
   "language": "python",
   "name": ".venv"
  },
  "language_info": {
   "codemirror_mode": {
    "name": "ipython",
    "version": 3
   },
   "file_extension": ".py",
   "mimetype": "text/x-python",
   "name": "python",
   "nbconvert_exporter": "python",
   "pygments_lexer": "ipython3",
   "version": "3.13.1"
  }
 },
 "nbformat": 4,
 "nbformat_minor": 2
}
