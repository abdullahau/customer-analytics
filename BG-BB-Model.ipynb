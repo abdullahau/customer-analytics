{
 "cells": [
  {
   "cell_type": "code",
   "execution_count": 1,
   "metadata": {},
   "outputs": [],
   "source": [
    "import polars as pl\n",
    "import numpy as np\n",
    "from sklearn.neighbors import KernelDensity\n",
    "from scipy.optimize import minimize\n",
    "from scipy.special import gammaln\n",
    "from utils import donation_data, rfm_data, p1x_data\n",
    "\n",
    "import altair as alt\n",
    "from IPython.display import display_markdown"
   ]
  },
  {
   "cell_type": "code",
   "execution_count": 2,
   "metadata": {},
   "outputs": [
    {
     "data": {
      "text/html": [
       "<div><style>\n",
       ".dataframe > thead > tr,\n",
       ".dataframe > tbody > tr {\n",
       "  text-align: right;\n",
       "  white-space: pre-wrap;\n",
       "}\n",
       "</style>\n",
       "<small>shape: (22, 4)</small><table border=\"1\" class=\"dataframe\"><thead><tr><th>P1X</th><th>t_x</th><th>np1x</th><th>Count</th></tr><tr><td>i8</td><td>i32</td><td>i32</td><td>u32</td></tr></thead><tbody><tr><td>6</td><td>6</td><td>6</td><td>1203</td></tr><tr><td>5</td><td>6</td><td>6</td><td>728</td></tr><tr><td>4</td><td>6</td><td>6</td><td>512</td></tr><tr><td>3</td><td>6</td><td>6</td><td>357</td></tr><tr><td>2</td><td>6</td><td>6</td><td>234</td></tr><tr><td>&hellip;</td><td>&hellip;</td><td>&hellip;</td><td>&hellip;</td></tr><tr><td>1</td><td>3</td><td>6</td><td>129</td></tr><tr><td>2</td><td>2</td><td>6</td><td>613</td></tr><tr><td>1</td><td>2</td><td>6</td><td>277</td></tr><tr><td>1</td><td>1</td><td>6</td><td>1091</td></tr><tr><td>0</td><td>0</td><td>6</td><td>3463</td></tr></tbody></table></div>"
      ],
      "text/plain": [
       "shape: (22, 4)\n",
       "┌─────┬─────┬──────┬───────┐\n",
       "│ P1X ┆ t_x ┆ np1x ┆ Count │\n",
       "│ --- ┆ --- ┆ ---  ┆ ---   │\n",
       "│ i8  ┆ i32 ┆ i32  ┆ u32   │\n",
       "╞═════╪═════╪══════╪═══════╡\n",
       "│ 6   ┆ 6   ┆ 6    ┆ 1203  │\n",
       "│ 5   ┆ 6   ┆ 6    ┆ 728   │\n",
       "│ 4   ┆ 6   ┆ 6    ┆ 512   │\n",
       "│ 3   ┆ 6   ┆ 6    ┆ 357   │\n",
       "│ 2   ┆ 6   ┆ 6    ┆ 234   │\n",
       "│ …   ┆ …   ┆ …    ┆ …     │\n",
       "│ 1   ┆ 3   ┆ 6    ┆ 129   │\n",
       "│ 2   ┆ 2   ┆ 6    ┆ 613   │\n",
       "│ 1   ┆ 2   ┆ 6    ┆ 277   │\n",
       "│ 1   ┆ 1   ┆ 6    ┆ 1091  │\n",
       "│ 0   ┆ 0   ┆ 6    ┆ 3463  │\n",
       "└─────┴─────┴──────┴───────┘"
      ]
     },
     "execution_count": 2,
     "metadata": {},
     "output_type": "execute_result"
    }
   ],
   "source": [
    "data = donation_data()\n",
    "rfm_df = rfm_data(data)\n",
    "rfm_summary = p1x_data(rfm_df)\n",
    "rfm_summary.collect()"
   ]
  },
  {
   "cell_type": "code",
   "execution_count": 3,
   "metadata": {},
   "outputs": [
    {
     "data": {
      "text/plain": [
       "22.0"
      ]
     },
     "execution_count": 3,
     "metadata": {},
     "output_type": "execute_result"
    }
   ],
   "source": [
    "# Possible recency/frequency patterns \n",
    "n = 6\n",
    "n * (n + 1)/2 + 1"
   ]
  },
  {
   "cell_type": "markdown",
   "metadata": {},
   "source": [
    "### Parameter Estimation"
   ]
  },
  {
   "cell_type": "code",
   "execution_count": 4,
   "metadata": {},
   "outputs": [
    {
     "data": {
      "text/plain": [
       "array([[0.11285289, 0.        , 0.        , 0.        , 0.        ,\n",
       "        0.        , 0.        ],\n",
       "       [0.01363861, 0.        , 0.        , 0.        , 0.        ,\n",
       "        0.        , 0.        ],\n",
       "       [0.00458606, 0.        , 0.        , 0.        , 0.        ,\n",
       "        0.        , 0.        ],\n",
       "       [0.00299995, 0.        , 0.        , 0.        , 0.        ,\n",
       "        0.        , 0.        ],\n",
       "       [0.00351144, 0.        , 0.        , 0.        , 0.        ,\n",
       "        0.        , 0.        ],\n",
       "       [0.00756894, 0.        , 0.        , 0.        , 0.        ,\n",
       "        0.        , 0.        ],\n",
       "       [0.01363861, 0.        , 0.        , 0.        , 0.        ,\n",
       "        0.        , 0.        ],\n",
       "       [0.00458606, 0.        , 0.        , 0.        , 0.        ,\n",
       "        0.        , 0.        ],\n",
       "       [0.00299995, 0.        , 0.        , 0.        , 0.        ,\n",
       "        0.        , 0.        ],\n",
       "       [0.00351144, 0.        , 0.        , 0.        , 0.        ,\n",
       "        0.        , 0.        ],\n",
       "       [0.00756894, 0.        , 0.        , 0.        , 0.        ,\n",
       "        0.        , 0.        ],\n",
       "       [0.00458606, 0.        , 0.        , 0.        , 0.        ,\n",
       "        0.        , 0.        ],\n",
       "       [0.00299995, 0.        , 0.        , 0.        , 0.        ,\n",
       "        0.        , 0.        ],\n",
       "       [0.00351144, 0.        , 0.        , 0.        , 0.        ,\n",
       "        0.        , 0.        ],\n",
       "       [0.00756894, 0.        , 0.        , 0.        , 0.        ,\n",
       "        0.        , 0.        ],\n",
       "       [0.00299995, 0.        , 0.        , 0.        , 0.        ,\n",
       "        0.        , 0.        ],\n",
       "       [0.00351144, 0.        , 0.        , 0.        , 0.        ,\n",
       "        0.        , 0.        ],\n",
       "       [0.00756894, 0.        , 0.        , 0.        , 0.        ,\n",
       "        0.        , 0.        ],\n",
       "       [0.00351144, 0.        , 0.        , 0.        , 0.        ,\n",
       "        0.        , 0.        ],\n",
       "       [0.00756894, 0.        , 0.        , 0.        , 0.        ,\n",
       "        0.        , 0.        ],\n",
       "       [0.00756894, 0.        , 0.        , 0.        , 0.        ,\n",
       "        0.        , 0.        ],\n",
       "       [0.03615996, 0.        , 0.        , 0.        , 0.        ,\n",
       "        0.        , 0.        ]])"
      ]
     },
     "execution_count": 4,
     "metadata": {},
     "output_type": "execute_result"
    }
   ],
   "source": [
    "# def bgbb_est(rfm_data, guess={'alpha': 1, 'beta': 0.5, 'gamma': 0.5, 'delta': 2.5}):\n",
    "    \n",
    "#     def log_likelihood(param):\n",
    "        \n",
    "\n",
    "rfm_array = rfm_summary.collect().to_numpy()\n",
    "p1x, t_x, n, num_donors = [*rfm_array.T]\n",
    "\n",
    "# Sample parameters\n",
    "alpha = 1.20352083040498\n",
    "beta = 0.749714243061896\n",
    "gamma = 0.656712169147878\n",
    "delta = 2.78340801635898\n",
    "\n",
    "B_alpha_beta = np.exp(gammaln(alpha)+gammaln(beta)-gammaln(alpha+beta))\n",
    "B_gamma_delta = np.exp(gammaln(gamma)+gammaln(delta)-gammaln(gamma+delta))\n",
    "\n",
    "n_t_x_1 = n - t_x - 1\n",
    "\n",
    "L_x_t_x_n = np.zeros((n.shape[0], n[0]+1))\n",
    "L_x_t_x_n[:,0] = np.exp(gammaln(alpha+p1x)+gammaln(beta+n-p1x)-gammaln(alpha+beta+n))/B_alpha_beta*np.exp(gammaln(gamma)+gammaln(delta+n)-gammaln(gamma+delta+n))/B_gamma_delta\n",
    "L_x_t_x_n"
   ]
  }
 ],
 "metadata": {
  "kernelspec": {
   "display_name": "Main (venv)",
   "language": "python",
   "name": ".venv"
  },
  "language_info": {
   "codemirror_mode": {
    "name": "ipython",
    "version": 3
   },
   "file_extension": ".py",
   "mimetype": "text/x-python",
   "name": "python",
   "nbconvert_exporter": "python",
   "pygments_lexer": "ipython3",
   "version": "3.13.1"
  }
 },
 "nbformat": 4,
 "nbformat_minor": 2
}
