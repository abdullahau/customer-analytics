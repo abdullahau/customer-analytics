{
 "cells": [
  {
   "cell_type": "code",
   "execution_count": 1,
   "metadata": {},
   "outputs": [],
   "source": [
    "import polars as pl\n",
    "import numpy as np\n",
    "from scipy.optimize import minimize\n",
    "from scipy.special import gammaln, comb\n",
    "from utils import donation_data, rfm_data, p1x_data\n",
    "\n",
    "import altair as alt\n",
    "from IPython.display import display_markdown"
   ]
  },
  {
   "cell_type": "code",
   "execution_count": 2,
   "metadata": {},
   "outputs": [
    {
     "data": {
      "text/html": [
       "<div><style>\n",
       ".dataframe > thead > tr,\n",
       ".dataframe > tbody > tr {\n",
       "  text-align: right;\n",
       "  white-space: pre-wrap;\n",
       "}\n",
       "</style>\n",
       "<small>shape: (22, 4)</small><table border=\"1\" class=\"dataframe\"><thead><tr><th>P1X</th><th>t_x</th><th>np1x</th><th>Count</th></tr><tr><td>i8</td><td>i32</td><td>i32</td><td>u32</td></tr></thead><tbody><tr><td>6</td><td>6</td><td>6</td><td>1203</td></tr><tr><td>5</td><td>6</td><td>6</td><td>728</td></tr><tr><td>4</td><td>6</td><td>6</td><td>512</td></tr><tr><td>3</td><td>6</td><td>6</td><td>357</td></tr><tr><td>2</td><td>6</td><td>6</td><td>234</td></tr><tr><td>&hellip;</td><td>&hellip;</td><td>&hellip;</td><td>&hellip;</td></tr><tr><td>1</td><td>3</td><td>6</td><td>129</td></tr><tr><td>2</td><td>2</td><td>6</td><td>613</td></tr><tr><td>1</td><td>2</td><td>6</td><td>277</td></tr><tr><td>1</td><td>1</td><td>6</td><td>1091</td></tr><tr><td>0</td><td>0</td><td>6</td><td>3464</td></tr></tbody></table></div>"
      ],
      "text/plain": [
       "shape: (22, 4)\n",
       "┌─────┬─────┬──────┬───────┐\n",
       "│ P1X ┆ t_x ┆ np1x ┆ Count │\n",
       "│ --- ┆ --- ┆ ---  ┆ ---   │\n",
       "│ i8  ┆ i32 ┆ i32  ┆ u32   │\n",
       "╞═════╪═════╪══════╪═══════╡\n",
       "│ 6   ┆ 6   ┆ 6    ┆ 1203  │\n",
       "│ 5   ┆ 6   ┆ 6    ┆ 728   │\n",
       "│ 4   ┆ 6   ┆ 6    ┆ 512   │\n",
       "│ 3   ┆ 6   ┆ 6    ┆ 357   │\n",
       "│ 2   ┆ 6   ┆ 6    ┆ 234   │\n",
       "│ …   ┆ …   ┆ …    ┆ …     │\n",
       "│ 1   ┆ 3   ┆ 6    ┆ 129   │\n",
       "│ 2   ┆ 2   ┆ 6    ┆ 613   │\n",
       "│ 1   ┆ 2   ┆ 6    ┆ 277   │\n",
       "│ 1   ┆ 1   ┆ 6    ┆ 1091  │\n",
       "│ 0   ┆ 0   ┆ 6    ┆ 3464  │\n",
       "└─────┴─────┴──────┴───────┘"
      ]
     },
     "execution_count": 2,
     "metadata": {},
     "output_type": "execute_result"
    }
   ],
   "source": [
    "rfm_summary = p1x_data()\n",
    "rfm_summary.collect()"
   ]
  },
  {
   "cell_type": "code",
   "execution_count": 3,
   "metadata": {},
   "outputs": [
    {
     "data": {
      "text/plain": [
       "22.0"
      ]
     },
     "execution_count": 3,
     "metadata": {},
     "output_type": "execute_result"
    }
   ],
   "source": [
    "# Possible recency/frequency patterns \n",
    "n = 6\n",
    "n * (n + 1)/2 + 1"
   ]
  },
  {
   "cell_type": "markdown",
   "metadata": {},
   "source": [
    "### Parameter Estimation"
   ]
  },
  {
   "cell_type": "code",
   "execution_count": 4,
   "metadata": {},
   "outputs": [
    {
     "data": {
      "text/markdown": [
       "$\\alpha$ = 1.2035\n",
       "\n",
       "$\\beta$ = 0.7497\n",
       "\n",
       "$\\gamma$ = 0.6568\n",
       "\n",
       "$\\delta$ = 2.7838\n",
       "\n",
       "Log-Likelihood = -33225.5813"
      ]
     },
     "metadata": {},
     "output_type": "display_data"
    }
   ],
   "source": [
    "def bgbb_est(rfm_data, guess={'alpha': 1, 'beta': 0.5, 'gamma': 0.5, 'delta': 2.5}):\n",
    "    p1x, t_x, n, num_donors = [*rfm_data.T]\n",
    "\n",
    "    def log_likelihood(param):\n",
    "        alpha, beta, gamma, delta = param\n",
    "        B_alpha_beta = np.exp(gammaln(alpha)+gammaln(beta)-gammaln(alpha+beta))\n",
    "        B_gamma_delta = np.exp(gammaln(gamma)+gammaln(delta)-gammaln(gamma+delta))\n",
    "        \n",
    "        L_x_t_x_n = np.zeros((n.shape[0], n[0]+1))\n",
    "        L_x_t_x_n[:,0] = np.exp(gammaln(alpha+p1x)+gammaln(beta+n-p1x)-gammaln(alpha+beta+n))/B_alpha_beta* \\\n",
    "                        np.exp(gammaln(gamma)+gammaln(delta+n)-gammaln(gamma+delta+n))/B_gamma_delta\n",
    "        \n",
    "        i = np.arange(6)\n",
    "        L_x_t_x_n[:,1:] = np.exp(gammaln(alpha+p1x.reshape(-1,1))+gammaln(beta+t_x.reshape(-1,1)-p1x.reshape(-1,1)+i)-gammaln(alpha+beta+t_x.reshape(-1,1)+i))/B_alpha_beta* \\\n",
    "                        np.exp(gammaln(gamma+1)+gammaln(delta+t_x.reshape(-1,1)+i)-gammaln(gamma+delta+t_x.reshape(-1,1)+i+1))/B_gamma_delta        \n",
    "        \n",
    "        n_t_x_1 = n - t_x - 1\n",
    "        L_x_t_x_n[:,1:] = np.where(i <= n_t_x_1.reshape(-1,1), L_x_t_x_n[:,1:], 0)\n",
    "\n",
    "        return -np.sum(num_donors * np.log(np.sum(L_x_t_x_n, axis=1)))\n",
    "    \n",
    "    bnds = [[0, np.inf] for _ in range(4)]\n",
    "    return minimize(log_likelihood, x0=list(guess.values()), bounds=bnds)\n",
    "\n",
    "# Sample parameters\n",
    "# alpha = 1.20352083040498\n",
    "# beta = 0.749714243061896\n",
    "# gamma = 0.656712169147878\n",
    "# delta = 2.78340801635898\n",
    "\n",
    "rfm_array = rfm_summary.collect().to_numpy()\n",
    "res = bgbb_est(rfm_array)\n",
    "alpha, beta, gamma, delta = res.x\n",
    "ll = res.fun\n",
    "\n",
    "display_markdown(f'''$\\\\alpha$ = {alpha:0.4f}\n",
    "\n",
    "$\\\\beta$ = {beta:0.4f}\n",
    "\n",
    "$\\\\gamma$ = {gamma:0.4f}\n",
    "\n",
    "$\\\\delta$ = {delta:0.4f}\n",
    "\n",
    "Log-Likelihood = {-ll:0.4f}''', raw=True)"
   ]
  },
  {
   "cell_type": "markdown",
   "metadata": {},
   "source": [
    "### In-Sample Model Fit Plot"
   ]
  },
  {
   "cell_type": "code",
   "execution_count": 5,
   "metadata": {},
   "outputs": [
    {
     "data": {
      "application/vnd.vegalite.v5+json": {
       "$schema": "https://vega.github.io/schema/vega-lite/v5.20.1.json",
       "config": {
        "axisX": {
         "grid": false
        },
        "axisY": {
         "grid": false
        },
        "view": {
         "continuousHeight": 300,
         "continuousWidth": 300,
         "stroke": null
        }
       },
       "data": {
        "name": "data-682c38eae5bdf5f012c8a719b0a5fb50"
       },
       "datasets": {
        "data-682c38eae5bdf5f012c8a719b0a5fb50": [
         {
          "Actual Vs Estimated": "Actual",
          "No of people": 3464,
          "P1X": 0
         },
         {
          "Actual Vs Estimated": "Actual",
          "No of people": 1823,
          "P1X": 1
         },
         {
          "Actual Vs Estimated": "Actual",
          "No of people": 1430,
          "P1X": 2
         },
         {
          "Actual Vs Estimated": "Actual",
          "No of people": 1085,
          "P1X": 3
         },
         {
          "Actual Vs Estimated": "Actual",
          "No of people": 1036,
          "P1X": 4
         },
         {
          "Actual Vs Estimated": "Actual",
          "No of people": 1063,
          "P1X": 5
         },
         {
          "Actual Vs Estimated": "Actual",
          "No of people": 1203,
          "P1X": 6
         },
         {
          "Actual Vs Estimated": "Model",
          "No of people": 3454.834400249416,
          "P1X": 0
         },
         {
          "Actual Vs Estimated": "Model",
          "No of people": 1888.6669371026019,
          "P1X": 1
         },
         {
          "Actual Vs Estimated": "Model",
          "No of people": 1348.897774619671,
          "P1X": 2
         },
         {
          "Actual Vs Estimated": "Model",
          "No of people": 1113.3886792101778,
          "P1X": 3
         },
         {
          "Actual Vs Estimated": "Model",
          "No of people": 1017.9268284833798,
          "P1X": 4
         },
         {
          "Actual Vs Estimated": "Model",
          "No of people": 1027.1664477519018,
          "P1X": 5
         },
         {
          "Actual Vs Estimated": "Model",
          "No of people": 1253.1189325828575,
          "P1X": 6
         }
        ]
       },
       "encoding": {
        "color": {
         "field": "Actual Vs Estimated",
         "type": "nominal"
        },
        "x": {
         "axis": {
          "labelAngle": 0
         },
         "field": "P1X",
         "title": "No. of repeat transactions",
         "type": "ordinal"
        },
        "xOffset": {
         "field": "Actual Vs Estimated",
         "type": "nominal"
        },
        "y": {
         "field": "No of people",
         "title": "No. of people",
         "type": "quantitative"
        }
       },
       "height": 250,
       "mark": {
        "type": "bar"
       },
       "title": "Predicted vs. Actual Frequency of Repeat Transactions",
       "width": 650
      },
      "text/plain": [
       "<VegaLite 5 object>\n",
       "\n",
       "If you see this message, it means the renderer has not been properly enabled\n",
       "for the frontend that you are using. For more information, see\n",
       "https://altair-viz.github.io/user_guide/display_frontends.html#troubleshooting\n"
      ]
     },
     "execution_count": 5,
     "metadata": {},
     "output_type": "execute_result"
    }
   ],
   "source": [
    "B_alpha_beta = np.exp(gammaln(alpha)+gammaln(beta)-gammaln(alpha+beta))\n",
    "B_gamma_delta = np.exp(gammaln(gamma)+gammaln(delta)-gammaln(gamma+delta))\n",
    "\n",
    "n = 6 \n",
    "x = np.arange(n+1)\n",
    "P_X_n = np.zeros((n+1, n+1))\n",
    "\n",
    "P_X_n[:,0] = comb(n,x)*np.exp(gammaln(alpha+x)+gammaln(beta+n-x)-gammaln(alpha+beta+n))/B_alpha_beta*np.exp(gammaln(gamma)+gammaln(delta+n)-gammaln(gamma+delta+n))/B_gamma_delta\n",
    "i = np.arange(n)\n",
    "P_X_n[:,1:] = comb(i,x.reshape(-1,1))*np.exp(gammaln(alpha+x.reshape(-1,1))+gammaln(beta+i-x.reshape(-1,1))-gammaln(alpha+beta+i))/B_alpha_beta*\\\n",
    "              np.exp(gammaln(gamma+1)+gammaln(delta+i)-gammaln(gamma+delta+i+1))/B_gamma_delta\n",
    "P_X_n = np.sum(P_X_n, axis=1)\n",
    "\n",
    "model_repeat = pl.DataFrame({'Model': P_X_n * np.sum(rfm_array[:,3])})\n",
    "\n",
    "actual_model_repeat = (\n",
    "    rfm_summary\n",
    "    .group_by('P1X')\n",
    "    .agg((pl.col('Count').sum()).alias('Actual'))\n",
    "    .sort('P1X')\n",
    "    .collect()\n",
    "    .hstack(model_repeat)\n",
    "    .unpivot(on=['Actual', 'Model'], index='P1X', value_name='No of people', variable_name='Actual Vs Estimated')\n",
    ")\n",
    "\n",
    "(\n",
    "    alt.Chart(actual_model_repeat).mark_bar()\n",
    "    .encode(x=alt.X('P1X:O', title='No. of repeat transactions', axis=alt.Axis(labelAngle=0)), \n",
    "         y=alt.Y('No of people:Q', title='No. of people'), \n",
    "         color='Actual Vs Estimated:N', \n",
    "         xOffset='Actual Vs Estimated')\n",
    "    .properties(\n",
    "        width=650,\n",
    "        height=250,\n",
    "        title='Predicted vs. Actual Frequency of Repeat Transactions'\n",
    "    ).configure_view(stroke=None).configure_axisY(grid=False).configure_axisX(grid=False)   \n",
    ")"
   ]
  },
  {
   "cell_type": "markdown",
   "metadata": {},
   "source": [
    "### Tracking Plots"
   ]
  },
  {
   "cell_type": "code",
   "execution_count": 6,
   "metadata": {},
   "outputs": [
    {
     "data": {
      "application/vnd.vegalite.v5+json": {
       "$schema": "https://vega.github.io/schema/vega-lite/v5.20.1.json",
       "config": {
        "axisX": {
         "grid": false
        },
        "axisY": {
         "grid": false
        },
        "view": {
         "continuousHeight": 300,
         "continuousWidth": 300,
         "stroke": null
        }
       },
       "data": {
        "name": "data-08cb06c807e241b0a8b5aea055b88608"
       },
       "datasets": {
        "data-08cb06c807e241b0a8b5aea055b88608": [
         {
          "Actual Vs Model": "Actual",
          "Repeat Trans": 5652,
          "Year": "1996"
         },
         {
          "Actual Vs Model": "Actual",
          "Repeat Trans": 4674,
          "Year": "1997"
         },
         {
          "Actual Vs Model": "Actual",
          "Repeat Trans": 4019,
          "Year": "1998"
         },
         {
          "Actual Vs Model": "Actual",
          "Repeat Trans": 3552,
          "Year": "1999"
         },
         {
          "Actual Vs Model": "Actual",
          "Repeat Trans": 3555,
          "Year": "2000"
         },
         {
          "Actual Vs Model": "Actual",
          "Repeat Trans": 3163,
          "Year": "2001"
         },
         {
          "Actual Vs Model": "Actual",
          "Repeat Trans": 3110,
          "Year": "2002"
         },
         {
          "Actual Vs Model": "Actual",
          "Repeat Trans": 2938,
          "Year": "2003"
         },
         {
          "Actual Vs Model": "Actual",
          "Repeat Trans": 2703,
          "Year": "2004"
         },
         {
          "Actual Vs Model": "Actual",
          "Repeat Trans": 2573,
          "Year": "2005"
         },
         {
          "Actual Vs Model": "Actual",
          "Repeat Trans": 1936,
          "Year": "2006"
         },
         {
          "Actual Vs Model": "Model",
          "Repeat Trans": 5535.8362725580255,
          "Year": "1996"
         },
         {
          "Actual Vs Model": "Model",
          "Repeat Trans": 4717.078006697605,
          "Year": "1997"
         },
         {
          "Actual Vs Model": "Model",
          "Repeat Trans": 4147.649387702299,
          "Year": "1998"
         },
         {
          "Actual Vs Model": "Model",
          "Repeat Trans": 3724.7003993167637,
          "Year": "1999"
         },
         {
          "Actual Vs Model": "Model",
          "Repeat Trans": 3395.928173835382,
          "Year": "2000"
         },
         {
          "Actual Vs Model": "Model",
          "Repeat Trans": 3131.6894320526844,
          "Year": "2001"
         },
         {
          "Actual Vs Model": "Model",
          "Repeat Trans": 2913.823122478574,
          "Year": "2002"
         },
         {
          "Actual Vs Model": "Model",
          "Repeat Trans": 2730.5290380549086,
          "Year": "2003"
         },
         {
          "Actual Vs Model": "Model",
          "Repeat Trans": 2573.778695229652,
          "Year": "2004"
         },
         {
          "Actual Vs Model": "Model",
          "Repeat Trans": 2437.903496502753,
          "Year": "2005"
         },
         {
          "Actual Vs Model": "Model",
          "Repeat Trans": 2318.7770974548694,
          "Year": "2006"
         }
        ]
       },
       "encoding": {
        "strokeDash": {
         "field": "Actual Vs Model",
         "type": "nominal"
        },
        "x": {
         "axis": {
          "labelAngle": 0
         },
         "field": "Year",
         "type": "nominal"
        },
        "y": {
         "field": "Repeat Trans",
         "title": "No. of repeat transactions",
         "type": "quantitative"
        }
       },
       "height": 250,
       "mark": {
        "type": "line"
       },
       "title": "Predicted vs. Actual Annual Repeat Transactions",
       "width": 650
      },
      "text/plain": [
       "<VegaLite 5 object>\n",
       "\n",
       "If you see this message, it means the renderer has not been properly enabled\n",
       "for the frontend that you are using. For more information, see\n",
       "https://altair-viz.github.io/user_guide/display_frontends.html#troubleshooting\n"
      ]
     },
     "execution_count": 6,
     "metadata": {},
     "output_type": "execute_result"
    }
   ],
   "source": [
    "act_yearly_repeat = donation_data().select(pl.col('*').exclude('ID', '1995')).sum().collect().to_numpy()\n",
    "act_cum_repeat = act_yearly_repeat.cumsum()\n",
    "\n",
    "\n",
    "years = donation_data().select(pl.col('*').exclude('ID')).collect().columns\n",
    "A1 = alpha / (alpha + beta)\n",
    "A2 = 1/(gamma-1)\n",
    "n = np.arange(1, len(years))\n",
    "A3 = np.exp(gammaln(delta+n+1)+gammaln(gamma+delta)-gammaln(delta)-gammaln(gamma+delta+n))\n",
    "E_X_n = A1 * (delta*A2-A2*A3)\n",
    "\n",
    "est_cum_repeat = np.sum(rfm_array[:,3]) * E_X_n\n",
    "est_yearly_repeat = np.diff(est_cum_repeat, prepend=0)\n",
    "\n",
    "yearly_repeat = pl.DataFrame({'Year': years[1:], 'Actual': act_yearly_repeat.flatten(), 'Model': est_yearly_repeat.flatten()})\n",
    "yearly_repeat = yearly_repeat.unpivot(on=['Actual', 'Model'], index='Year', variable_name='Actual Vs Model', value_name='Repeat Trans')\n",
    "cum_repeat = pl.DataFrame({'Year': years[1:], 'Actual': act_cum_repeat.flatten(), 'Model': est_cum_repeat.flatten()})\n",
    "cum_repeat = cum_repeat.unpivot(on=['Actual', 'Model'], index='Year', variable_name='Actual Vs Model', value_name='Repeat Trans')\n",
    "\n",
    "(\n",
    "    alt.Chart(yearly_repeat).mark_line().encode(\n",
    "        x=alt.X('Year', axis=alt.Axis(labelAngle=0)),\n",
    "        y=alt.Y('Repeat Trans', title='No. of repeat transactions'),\n",
    "        strokeDash='Actual Vs Model'\n",
    "    ).properties(\n",
    "            width=650,\n",
    "            height=250,\n",
    "            title='Predicted vs. Actual Annual Repeat Transactions'\n",
    "    ).configure_view(stroke=None).configure_axisY(grid=False).configure_axisX(grid=False)  \n",
    ")"
   ]
  },
  {
   "cell_type": "code",
   "execution_count": 7,
   "metadata": {},
   "outputs": [
    {
     "data": {
      "application/vnd.vegalite.v5+json": {
       "$schema": "https://vega.github.io/schema/vega-lite/v5.20.1.json",
       "config": {
        "axisX": {
         "grid": false
        },
        "axisY": {
         "grid": false
        },
        "view": {
         "continuousHeight": 300,
         "continuousWidth": 300,
         "stroke": null
        }
       },
       "data": {
        "name": "data-08cb06c807e241b0a8b5aea055b88608"
       },
       "datasets": {
        "data-08cb06c807e241b0a8b5aea055b88608": [
         {
          "Actual Vs Model": "Actual",
          "Repeat Trans": 5652,
          "Year": "1996"
         },
         {
          "Actual Vs Model": "Actual",
          "Repeat Trans": 4674,
          "Year": "1997"
         },
         {
          "Actual Vs Model": "Actual",
          "Repeat Trans": 4019,
          "Year": "1998"
         },
         {
          "Actual Vs Model": "Actual",
          "Repeat Trans": 3552,
          "Year": "1999"
         },
         {
          "Actual Vs Model": "Actual",
          "Repeat Trans": 3555,
          "Year": "2000"
         },
         {
          "Actual Vs Model": "Actual",
          "Repeat Trans": 3163,
          "Year": "2001"
         },
         {
          "Actual Vs Model": "Actual",
          "Repeat Trans": 3110,
          "Year": "2002"
         },
         {
          "Actual Vs Model": "Actual",
          "Repeat Trans": 2938,
          "Year": "2003"
         },
         {
          "Actual Vs Model": "Actual",
          "Repeat Trans": 2703,
          "Year": "2004"
         },
         {
          "Actual Vs Model": "Actual",
          "Repeat Trans": 2573,
          "Year": "2005"
         },
         {
          "Actual Vs Model": "Actual",
          "Repeat Trans": 1936,
          "Year": "2006"
         },
         {
          "Actual Vs Model": "Model",
          "Repeat Trans": 5535.8362725580255,
          "Year": "1996"
         },
         {
          "Actual Vs Model": "Model",
          "Repeat Trans": 4717.078006697605,
          "Year": "1997"
         },
         {
          "Actual Vs Model": "Model",
          "Repeat Trans": 4147.649387702299,
          "Year": "1998"
         },
         {
          "Actual Vs Model": "Model",
          "Repeat Trans": 3724.7003993167637,
          "Year": "1999"
         },
         {
          "Actual Vs Model": "Model",
          "Repeat Trans": 3395.928173835382,
          "Year": "2000"
         },
         {
          "Actual Vs Model": "Model",
          "Repeat Trans": 3131.6894320526844,
          "Year": "2001"
         },
         {
          "Actual Vs Model": "Model",
          "Repeat Trans": 2913.823122478574,
          "Year": "2002"
         },
         {
          "Actual Vs Model": "Model",
          "Repeat Trans": 2730.5290380549086,
          "Year": "2003"
         },
         {
          "Actual Vs Model": "Model",
          "Repeat Trans": 2573.778695229652,
          "Year": "2004"
         },
         {
          "Actual Vs Model": "Model",
          "Repeat Trans": 2437.903496502753,
          "Year": "2005"
         },
         {
          "Actual Vs Model": "Model",
          "Repeat Trans": 2318.7770974548694,
          "Year": "2006"
         }
        ]
       },
       "encoding": {
        "color": {
         "field": "Actual Vs Model",
         "type": "nominal"
        },
        "x": {
         "axis": {
          "labelAngle": 0
         },
         "field": "Year",
         "type": "nominal"
        },
        "xOffset": {
         "field": "Actual Vs Model",
         "type": "nominal"
        },
        "y": {
         "field": "Repeat Trans",
         "title": "No. of repeat transactions",
         "type": "quantitative"
        }
       },
       "height": 250,
       "mark": {
        "type": "bar"
       },
       "title": "Predicted vs. Actual Annual Repeat Transactions",
       "width": 650
      },
      "text/plain": [
       "<VegaLite 5 object>\n",
       "\n",
       "If you see this message, it means the renderer has not been properly enabled\n",
       "for the frontend that you are using. For more information, see\n",
       "https://altair-viz.github.io/user_guide/display_frontends.html#troubleshooting\n"
      ]
     },
     "execution_count": 7,
     "metadata": {},
     "output_type": "execute_result"
    }
   ],
   "source": [
    "(\n",
    "    alt.Chart(yearly_repeat).mark_bar().encode(\n",
    "        x=alt.X('Year', axis=alt.Axis(labelAngle=0)),\n",
    "        y=alt.Y('Repeat Trans', title='No. of repeat transactions'),\n",
    "        color='Actual Vs Model',\n",
    "        xOffset='Actual Vs Model'\n",
    "    ).properties(\n",
    "            width=650,\n",
    "            height=250,\n",
    "            title='Predicted vs. Actual Annual Repeat Transactions'\n",
    "    ).configure_view(stroke=None).configure_axisY(grid=False).configure_axisX(grid=False)  \n",
    ")"
   ]
  },
  {
   "cell_type": "code",
   "execution_count": 8,
   "metadata": {},
   "outputs": [
    {
     "data": {
      "application/vnd.vegalite.v5+json": {
       "$schema": "https://vega.github.io/schema/vega-lite/v5.20.1.json",
       "config": {
        "axisX": {
         "grid": false
        },
        "axisY": {
         "grid": false
        },
        "view": {
         "continuousHeight": 300,
         "continuousWidth": 300,
         "stroke": null
        }
       },
       "data": {
        "name": "data-c44d0cf476fda39e6f69101c4edf4299"
       },
       "datasets": {
        "data-c44d0cf476fda39e6f69101c4edf4299": [
         {
          "Actual Vs Model": "Actual",
          "Repeat Trans": 5652,
          "Year": "1996"
         },
         {
          "Actual Vs Model": "Actual",
          "Repeat Trans": 10326,
          "Year": "1997"
         },
         {
          "Actual Vs Model": "Actual",
          "Repeat Trans": 14345,
          "Year": "1998"
         },
         {
          "Actual Vs Model": "Actual",
          "Repeat Trans": 17897,
          "Year": "1999"
         },
         {
          "Actual Vs Model": "Actual",
          "Repeat Trans": 21452,
          "Year": "2000"
         },
         {
          "Actual Vs Model": "Actual",
          "Repeat Trans": 24615,
          "Year": "2001"
         },
         {
          "Actual Vs Model": "Actual",
          "Repeat Trans": 27725,
          "Year": "2002"
         },
         {
          "Actual Vs Model": "Actual",
          "Repeat Trans": 30663,
          "Year": "2003"
         },
         {
          "Actual Vs Model": "Actual",
          "Repeat Trans": 33366,
          "Year": "2004"
         },
         {
          "Actual Vs Model": "Actual",
          "Repeat Trans": 35939,
          "Year": "2005"
         },
         {
          "Actual Vs Model": "Actual",
          "Repeat Trans": 37875,
          "Year": "2006"
         },
         {
          "Actual Vs Model": "Model",
          "Repeat Trans": 5535.8362725580255,
          "Year": "1996"
         },
         {
          "Actual Vs Model": "Model",
          "Repeat Trans": 10252.91427925563,
          "Year": "1997"
         },
         {
          "Actual Vs Model": "Model",
          "Repeat Trans": 14400.563666957929,
          "Year": "1998"
         },
         {
          "Actual Vs Model": "Model",
          "Repeat Trans": 18125.264066274693,
          "Year": "1999"
         },
         {
          "Actual Vs Model": "Model",
          "Repeat Trans": 21521.192240110075,
          "Year": "2000"
         },
         {
          "Actual Vs Model": "Model",
          "Repeat Trans": 24652.88167216276,
          "Year": "2001"
         },
         {
          "Actual Vs Model": "Model",
          "Repeat Trans": 27566.704794641333,
          "Year": "2002"
         },
         {
          "Actual Vs Model": "Model",
          "Repeat Trans": 30297.23383269624,
          "Year": "2003"
         },
         {
          "Actual Vs Model": "Model",
          "Repeat Trans": 32871.012527925894,
          "Year": "2004"
         },
         {
          "Actual Vs Model": "Model",
          "Repeat Trans": 35308.91602442865,
          "Year": "2005"
         },
         {
          "Actual Vs Model": "Model",
          "Repeat Trans": 37627.693121883516,
          "Year": "2006"
         }
        ]
       },
       "encoding": {
        "strokeDash": {
         "field": "Actual Vs Model",
         "type": "nominal"
        },
        "x": {
         "axis": {
          "labelAngle": 0
         },
         "field": "Year",
         "type": "nominal"
        },
        "y": {
         "field": "Repeat Trans",
         "title": "Cumulative no. of repeat transactions",
         "type": "quantitative"
        }
       },
       "height": 250,
       "mark": {
        "type": "line"
       },
       "title": "Predicted vs. Actual Cumulative Repeat Transactions",
       "width": 650
      },
      "text/plain": [
       "<VegaLite 5 object>\n",
       "\n",
       "If you see this message, it means the renderer has not been properly enabled\n",
       "for the frontend that you are using. For more information, see\n",
       "https://altair-viz.github.io/user_guide/display_frontends.html#troubleshooting\n"
      ]
     },
     "execution_count": 8,
     "metadata": {},
     "output_type": "execute_result"
    }
   ],
   "source": [
    "(\n",
    "    alt.Chart(cum_repeat).mark_line().encode(\n",
    "        x=alt.X('Year', axis=alt.Axis(labelAngle=0)),\n",
    "        y=alt.Y('Repeat Trans', title='Cumulative no. of repeat transactions'),\n",
    "        strokeDash='Actual Vs Model'\n",
    "    ).properties(\n",
    "            width=650,\n",
    "            height=250,\n",
    "            title='Predicted vs. Actual Cumulative Repeat Transactions'\n",
    "    ).configure_view(stroke=None).configure_axisY(grid=False).configure_axisX(grid=False)  \n",
    ")"
   ]
  },
  {
   "cell_type": "code",
   "execution_count": 9,
   "metadata": {},
   "outputs": [
    {
     "data": {
      "application/vnd.vegalite.v5+json": {
       "$schema": "https://vega.github.io/schema/vega-lite/v5.20.1.json",
       "config": {
        "axisX": {
         "grid": false
        },
        "axisY": {
         "grid": false
        },
        "view": {
         "continuousHeight": 300,
         "continuousWidth": 300,
         "stroke": null
        }
       },
       "data": {
        "name": "data-c44d0cf476fda39e6f69101c4edf4299"
       },
       "datasets": {
        "data-c44d0cf476fda39e6f69101c4edf4299": [
         {
          "Actual Vs Model": "Actual",
          "Repeat Trans": 5652,
          "Year": "1996"
         },
         {
          "Actual Vs Model": "Actual",
          "Repeat Trans": 10326,
          "Year": "1997"
         },
         {
          "Actual Vs Model": "Actual",
          "Repeat Trans": 14345,
          "Year": "1998"
         },
         {
          "Actual Vs Model": "Actual",
          "Repeat Trans": 17897,
          "Year": "1999"
         },
         {
          "Actual Vs Model": "Actual",
          "Repeat Trans": 21452,
          "Year": "2000"
         },
         {
          "Actual Vs Model": "Actual",
          "Repeat Trans": 24615,
          "Year": "2001"
         },
         {
          "Actual Vs Model": "Actual",
          "Repeat Trans": 27725,
          "Year": "2002"
         },
         {
          "Actual Vs Model": "Actual",
          "Repeat Trans": 30663,
          "Year": "2003"
         },
         {
          "Actual Vs Model": "Actual",
          "Repeat Trans": 33366,
          "Year": "2004"
         },
         {
          "Actual Vs Model": "Actual",
          "Repeat Trans": 35939,
          "Year": "2005"
         },
         {
          "Actual Vs Model": "Actual",
          "Repeat Trans": 37875,
          "Year": "2006"
         },
         {
          "Actual Vs Model": "Model",
          "Repeat Trans": 5535.8362725580255,
          "Year": "1996"
         },
         {
          "Actual Vs Model": "Model",
          "Repeat Trans": 10252.91427925563,
          "Year": "1997"
         },
         {
          "Actual Vs Model": "Model",
          "Repeat Trans": 14400.563666957929,
          "Year": "1998"
         },
         {
          "Actual Vs Model": "Model",
          "Repeat Trans": 18125.264066274693,
          "Year": "1999"
         },
         {
          "Actual Vs Model": "Model",
          "Repeat Trans": 21521.192240110075,
          "Year": "2000"
         },
         {
          "Actual Vs Model": "Model",
          "Repeat Trans": 24652.88167216276,
          "Year": "2001"
         },
         {
          "Actual Vs Model": "Model",
          "Repeat Trans": 27566.704794641333,
          "Year": "2002"
         },
         {
          "Actual Vs Model": "Model",
          "Repeat Trans": 30297.23383269624,
          "Year": "2003"
         },
         {
          "Actual Vs Model": "Model",
          "Repeat Trans": 32871.012527925894,
          "Year": "2004"
         },
         {
          "Actual Vs Model": "Model",
          "Repeat Trans": 35308.91602442865,
          "Year": "2005"
         },
         {
          "Actual Vs Model": "Model",
          "Repeat Trans": 37627.693121883516,
          "Year": "2006"
         }
        ]
       },
       "encoding": {
        "color": {
         "field": "Actual Vs Model",
         "type": "nominal"
        },
        "x": {
         "axis": {
          "labelAngle": 0
         },
         "field": "Year",
         "type": "nominal"
        },
        "xOffset": {
         "field": "Actual Vs Model",
         "type": "nominal"
        },
        "y": {
         "field": "Repeat Trans",
         "title": "Cumulative no. of repeat transactions",
         "type": "quantitative"
        }
       },
       "height": 250,
       "mark": {
        "type": "bar"
       },
       "title": "Predicted vs. Actual Cumulative Repeat Transactions",
       "width": 650
      },
      "text/plain": [
       "<VegaLite 5 object>\n",
       "\n",
       "If you see this message, it means the renderer has not been properly enabled\n",
       "for the frontend that you are using. For more information, see\n",
       "https://altair-viz.github.io/user_guide/display_frontends.html#troubleshooting\n"
      ]
     },
     "execution_count": 9,
     "metadata": {},
     "output_type": "execute_result"
    }
   ],
   "source": [
    "(\n",
    "    alt.Chart(cum_repeat).mark_bar().encode(\n",
    "        x=alt.X('Year', axis=alt.Axis(labelAngle=0)),\n",
    "        y=alt.Y('Repeat Trans', title='Cumulative no. of repeat transactions'),\n",
    "        color='Actual Vs Model',\n",
    "        xOffset='Actual Vs Model'\n",
    "    ).properties(\n",
    "            width=650,\n",
    "            height=250,\n",
    "            title='Predicted vs. Actual Cumulative Repeat Transactions'\n",
    "    ).configure_view(stroke=None).configure_axisY(grid=False).configure_axisX(grid=False)  \n",
    ")"
   ]
  },
  {
   "cell_type": "markdown",
   "metadata": {},
   "source": [
    "### Conditional Expectations"
   ]
  },
  {
   "cell_type": "code",
   "execution_count": 10,
   "metadata": {},
   "outputs": [],
   "source": [
    "p1x, t_x, n, num_donors = [*rfm_array.T]\n",
    "n_star = 5\n",
    "\n",
    "B_alpha_beta = np.exp(gammaln(alpha)+gammaln(beta)-gammaln(alpha+beta))\n",
    "B_gamma_delta = np.exp(gammaln(gamma)+gammaln(delta)-gammaln(gamma+delta))\n",
    "\n",
    "A2 = np.exp(gammaln(alpha+p1x+1)+gammaln(beta+n-p1x)-gammaln(alpha+beta+n+1))/B_alpha_beta\n",
    "A3 = delta/(gamma-1)*np.exp(gammaln(gamma+delta)-gammaln(delta+1))*(np.exp(gammaln(1+delta+n.max())-\\\n",
    "     gammaln(gamma+delta+n.max()))-np.exp(gammaln(1+delta+n.max()+n_star)-gammaln(gamma+delta+n.max()+n_star)))\n",
    "\n",
    "L_x_t_x_n = np.zeros((n.shape[0], n[0]+1))\n",
    "L_x_t_x_n[:,0] = np.exp(gammaln(alpha+p1x)+gammaln(beta+n-p1x)-gammaln(alpha+beta+n))/B_alpha_beta* \\\n",
    "                np.exp(gammaln(gamma)+gammaln(delta+n)-gammaln(gamma+delta+n))/B_gamma_delta\n",
    "\n",
    "i = np.arange(6)\n",
    "L_x_t_x_n[:,1:] = np.exp(gammaln(alpha+p1x.reshape(-1,1))+gammaln(beta+t_x.reshape(-1,1)-p1x.reshape(-1,1)+i)-gammaln(alpha+beta+t_x.reshape(-1,1)+i))/B_alpha_beta* \\\n",
    "                np.exp(gammaln(gamma+1)+gammaln(delta+t_x.reshape(-1,1)+i)-gammaln(gamma+delta+t_x.reshape(-1,1)+i+1))/B_gamma_delta        \n",
    "\n",
    "n_t_x_1 = n - t_x - 1\n",
    "L_x_t_x_n[:,1:] = np.where(i <= n_t_x_1.reshape(-1,1), L_x_t_x_n[:,1:], 0)\n",
    "\n",
    "ce = A2 * A3 / np.sum(L_x_t_x_n, axis=1)\n",
    "\n",
    "exp_total = ce * num_donors\n",
    "\n",
    "ce_df = (\n",
    "    rfm_data()\n",
    "    .group_by('P1X', 't_x', 'np1x')\n",
    "    .agg(pl.col('P2X').sum().alias('Actual Total'))\n",
    "    .sort(['t_x', 'P1X'], descending=True)\n",
    "    .collect()\n",
    "    .hstack([pl.Series('Exp Total', exp_total)])\n",
    ")\n",
    "\n",
    "# Actual total 2002-2006 donations by p1x / tx\n",
    "actual_ce_mat = ce_df.sort('t_x').pivot(index='P1X', on='t_x', values='Actual Total').sort('P1X').fill_null(0).to_numpy()\n",
    "p1x_frequency = actual_ce_mat[:,0]\n",
    "actual_ce_mat = actual_ce_mat[:,1:]\n",
    "\n",
    "# Expected total 2002-2006 donations by p1x / tx\n",
    "est_ce_mat = ce_df.sort('t_x').pivot(index='P1X', on='t_x', values='Exp Total').sort('P1X').fill_null(0).to_numpy()[:,1:]\n",
    "\n",
    "# Number of Donors\n",
    "num_donors_mat = rfm_summary.collect().sort('t_x').pivot(index='P1X', on='t_x', values='Count').sort('P1X').fill_null(0).to_numpy()[:,1:]\n",
    "\n",
    "# CE by Frequency\n",
    "actual_ce_freq = np.sum(actual_ce_mat, axis=1) / np.sum(num_donors_mat, axis=1)\n",
    "est_ce_freq = np.sum(est_ce_mat, axis=1) / np.sum(num_donors_mat, axis=1)\n",
    "ce_freq = pl.DataFrame({'x': p1x_frequency, 'Actual': actual_ce_freq, 'Model': est_ce_freq})\n",
    "ce_freq = ce_freq.unpivot(index='x', on=['Actual', 'Model'], variable_name='Actual Vs Model', value_name='CE by Freq')\n",
    "\n",
    "# CE by Recency\n",
    "actual_ce_rec = np.sum(actual_ce_mat, axis=0) / np.sum(num_donors_mat, axis=0)\n",
    "est_ce_rec = np.sum(est_ce_mat, axis=0) / np.sum(num_donors_mat, axis=0)\n",
    "ce_rec = pl.DataFrame({'t_x': years[:len(p1x_frequency)], 'Actual': actual_ce_rec, 'Model': est_ce_rec}).with_columns(pl.col('t_x').cast(pl.Int16))\n",
    "ce_rec = ce_rec.unpivot(index='t_x', on=['Actual', 'Model'], variable_name='Actual Vs Model', value_name='CE by Rec')"
   ]
  },
  {
   "cell_type": "code",
   "execution_count": 12,
   "metadata": {},
   "outputs": [
    {
     "data": {
      "application/vnd.vegalite.v5+json": {
       "$schema": "https://vega.github.io/schema/vega-lite/v5.20.1.json",
       "config": {
        "axisX": {
         "grid": false
        },
        "axisY": {
         "grid": false
        },
        "view": {
         "continuousHeight": 300,
         "continuousWidth": 300,
         "stroke": null
        }
       },
       "data": {
        "name": "data-d485dc23d75e32ab1cd00b010a7dd1aa"
       },
       "datasets": {
        "data-d485dc23d75e32ab1cd00b010a7dd1aa": [
         {
          "Actual Vs Model": "Actual",
          "CE by Freq": 0.17436489607390301,
          "x": 0
         },
         {
          "Actual Vs Model": "Actual",
          "CE by Freq": 0.4328030718595721,
          "x": 1
         },
         {
          "Actual Vs Model": "Actual",
          "CE by Freq": 0.8125874125874126,
          "x": 2
         },
         {
          "Actual Vs Model": "Actual",
          "CE by Freq": 1.3898617511520737,
          "x": 3
         },
         {
          "Actual Vs Model": "Actual",
          "CE by Freq": 2.0617760617760617,
          "x": 4
         },
         {
          "Actual Vs Model": "Actual",
          "CE by Freq": 2.642521166509878,
          "x": 5
         },
         {
          "Actual Vs Model": "Actual",
          "CE by Freq": 3.5344970906068163,
          "x": 6
         },
         {
          "Actual Vs Model": "Model",
          "CE by Freq": 0.07286622449570031,
          "x": 0
         },
         {
          "Actual Vs Model": "Model",
          "CE by Freq": 0.3248872506833721,
          "x": 1
         },
         {
          "Actual Vs Model": "Model",
          "CE by Freq": 0.7089470523720279,
          "x": 2
         },
         {
          "Actual Vs Model": "Model",
          "CE by Freq": 1.333674522276074,
          "x": 3
         },
         {
          "Actual Vs Model": "Model",
          "CE by Freq": 2.031216629106824,
          "x": 4
         },
         {
          "Actual Vs Model": "Model",
          "CE by Freq": 2.784500126163492,
          "x": 5
         },
         {
          "Actual Vs Model": "Model",
          "CE by Freq": 3.7525247818043397,
          "x": 6
         }
        ]
       },
       "encoding": {
        "strokeDash": {
         "field": "Actual Vs Model",
         "type": "nominal"
        },
        "x": {
         "axis": {
          "labelAngle": 0,
          "values": [
           0,
           1,
           2,
           3,
           4,
           5,
           6
          ]
         },
         "field": "x",
         "title": "No. of repeat transactions (1996-2001)",
         "type": "quantitative"
        },
        "y": {
         "field": "CE by Freq",
         "title": "No. of repeat transactions (2002–2006)",
         "type": "quantitative"
        }
       },
       "height": 250,
       "mark": {
        "type": "line"
       },
       "title": "Predicted vs. Actual Conditional Expectations of Repeat Transactions in 2002–2006 as a Function of Frequency",
       "width": 650
      },
      "text/plain": [
       "<VegaLite 5 object>\n",
       "\n",
       "If you see this message, it means the renderer has not been properly enabled\n",
       "for the frontend that you are using. For more information, see\n",
       "https://altair-viz.github.io/user_guide/display_frontends.html#troubleshooting\n"
      ]
     },
     "execution_count": 12,
     "metadata": {},
     "output_type": "execute_result"
    }
   ],
   "source": [
    "(\n",
    "    alt.Chart(ce_freq).mark_line().encode(\n",
    "        x=alt.X('x', title='No. of repeat transactions (1996-2001)', axis=alt.Axis(labelAngle=0, values=np.arange(7))),\n",
    "        y=alt.Y('CE by Freq', title='No. of repeat transactions (2002–2006)'),\n",
    "        strokeDash='Actual Vs Model'\n",
    "    ).properties(\n",
    "            width=650,\n",
    "            height=250,\n",
    "            title='Predicted vs. Actual Conditional Expectations of Repeat Transactions in 2002–2006 as a Function of Frequency'\n",
    "    ).configure_view(stroke=None).configure_axisY(grid=False).configure_axisX(grid=False)  \n",
    ")"
   ]
  },
  {
   "cell_type": "code",
   "execution_count": 13,
   "metadata": {},
   "outputs": [
    {
     "data": {
      "application/vnd.vegalite.v5+json": {
       "$schema": "https://vega.github.io/schema/vega-lite/v5.20.1.json",
       "config": {
        "axisX": {
         "grid": false
        },
        "axisY": {
         "grid": false
        },
        "view": {
         "continuousHeight": 300,
         "continuousWidth": 300,
         "stroke": null
        }
       },
       "data": {
        "name": "data-1abb08e85efa299feb499dc0b12ec226"
       },
       "datasets": {
        "data-1abb08e85efa299feb499dc0b12ec226": [
         {
          "Actual Vs Model": "Actual",
          "CE by Rec": 0.17436489607390301,
          "t_x": 1995
         },
         {
          "Actual Vs Model": "Actual",
          "CE by Rec": 0.21814848762603117,
          "t_x": 1996
         },
         {
          "Actual Vs Model": "Actual",
          "CE by Rec": 0.3898876404494382,
          "t_x": 1997
         },
         {
          "Actual Vs Model": "Actual",
          "CE by Rec": 0.48725212464589235,
          "t_x": 1998
         },
         {
          "Actual Vs Model": "Actual",
          "CE by Rec": 0.808868501529052,
          "t_x": 1999
         },
         {
          "Actual Vs Model": "Actual",
          "CE by Rec": 1.6522887323943662,
          "t_x": 2000
         },
         {
          "Actual Vs Model": "Actual",
          "CE by Rec": 2.946885867846981,
          "t_x": 2001
         },
         {
          "Actual Vs Model": "Model",
          "CE by Rec": 0.07286622449570031,
          "t_x": 1995
         },
         {
          "Actual Vs Model": "Model",
          "CE by Rec": 0.08569712813920471,
          "t_x": 1996
         },
         {
          "Actual Vs Model": "Model",
          "CE by Rec": 0.17984725132814386,
          "t_x": 1997
         },
         {
          "Actual Vs Model": "Model",
          "CE by Rec": 0.4041190969895022,
          "t_x": 1998
         },
         {
          "Actual Vs Model": "Model",
          "CE by Rec": 0.8510920873313161,
          "t_x": 1999
         },
         {
          "Actual Vs Model": "Model",
          "CE by Rec": 1.7263361466483986,
          "t_x": 2000
         },
         {
          "Actual Vs Model": "Model",
          "CE by Rec": 3.0272058752041224,
          "t_x": 2001
         }
        ]
       },
       "encoding": {
        "strokeDash": {
         "field": "Actual Vs Model",
         "type": "nominal"
        },
        "x": {
         "axis": {
          "format": ".0f",
          "labelAngle": 0,
          "values": [
           1995,
           1996,
           1997,
           1998,
           1999,
           2000,
           2001
          ]
         },
         "field": "t_x",
         "title": "Year of last transaction",
         "type": "quantitative"
        },
        "y": {
         "field": "CE by Rec",
         "title": "No. of repeat transactions (2002–2006)",
         "type": "quantitative"
        }
       },
       "height": 250,
       "mark": {
        "type": "line"
       },
       "title": "Predicted vs. Actual Conditional Expectations of Repeat Transactions in 2002–2006 as a Function of Recency",
       "width": 650
      },
      "text/plain": [
       "<VegaLite 5 object>\n",
       "\n",
       "If you see this message, it means the renderer has not been properly enabled\n",
       "for the frontend that you are using. For more information, see\n",
       "https://altair-viz.github.io/user_guide/display_frontends.html#troubleshooting\n"
      ]
     },
     "execution_count": 13,
     "metadata": {},
     "output_type": "execute_result"
    }
   ],
   "source": [
    "(\n",
    "    alt.Chart(ce_rec).mark_line().encode(\n",
    "        x=alt.X('t_x', title='Year of last transaction', axis=alt.Axis(labelAngle=0, values=np.arange(1995, 2002, 1), format='.0f')),\n",
    "        y=alt.Y('CE by Rec', title='No. of repeat transactions (2002–2006)'),\n",
    "        strokeDash='Actual Vs Model'\n",
    "    ).properties(\n",
    "            width=650,\n",
    "            height=250,\n",
    "            title='Predicted vs. Actual Conditional Expectations of Repeat Transactions in 2002–2006 as a Function of Recency'\n",
    "    ).configure_view(stroke=None).configure_axisY(grid=False).configure_axisX(grid=False)  \n",
    ")"
   ]
  }
 ],
 "metadata": {
  "kernelspec": {
   "display_name": "Main (venv)",
   "language": "python",
   "name": ".venv"
  },
  "language_info": {
   "codemirror_mode": {
    "name": "ipython",
    "version": 3
   },
   "file_extension": ".py",
   "mimetype": "text/x-python",
   "name": "python",
   "nbconvert_exporter": "python",
   "pygments_lexer": "ipython3",
   "version": "3.13.1"
  }
 },
 "nbformat": 4,
 "nbformat_minor": 2
}
