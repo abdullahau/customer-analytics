{
 "cells": [
  {
   "cell_type": "code",
   "execution_count": 1,
   "metadata": {},
   "outputs": [],
   "source": [
    "import polars as pl\n",
    "import numpy as np\n",
    "from utils import Donation\n",
    "from scipy.optimize import minimize\n",
    "from scipy.special import gammaln, comb, hyp2f1\n",
    "from scipy.special import beta as beta_fn\n",
    "\n",
    "import altair as alt\n",
    "from IPython.display import display_markdown"
   ]
  },
  {
   "cell_type": "markdown",
   "metadata": {},
   "source": [
    "**Source**: \n",
    "- [Customer-Base Analysis in a Discrete-Time Noncontractual Setting](http://www.brucehardie.com/papers/020/)\n",
    "- [Implementing the BG/BB Model for Customer-Base Analysis in Excel](http://www.brucehardie.com/notes/010/)\n",
    "- [Implementing the $S_{BB}-G/B$ Model in MATLAB](http://www.brucehardie.com/notes/023/)"
   ]
  },
  {
   "cell_type": "code",
   "execution_count": 2,
   "metadata": {},
   "outputs": [],
   "source": [
    "data = Donation()\n",
    "rfm_summary_calib = data.p1x_data()\n",
    "rfm_array_calib = rfm_summary_calib.collect().to_numpy()\n",
    "rfm_summary_valid = data.p2x_data()\n",
    "p1x, t_x, _, num_donors = [*rfm_array_calib.T]\n",
    "\n",
    "n = 6\n",
    "n * (n + 1)/2 + 1 # Possible recency/frequency patterns in calibration period\n",
    "years = data.years"
   ]
  },
  {
   "cell_type": "markdown",
   "metadata": {},
   "source": [
    "### Parameter Estimation"
   ]
  },
  {
   "cell_type": "code",
   "execution_count": 3,
   "metadata": {},
   "outputs": [
    {
     "data": {
      "text/markdown": [
       "$\\alpha$ = 1.2035\n",
       "\n",
       "$\\beta$ = 0.7497\n",
       "\n",
       "$\\gamma$ = 0.6568\n",
       "\n",
       "$\\delta$ = 2.7838\n",
       "\n",
       "Log-Likelihood = -33225.5813"
      ]
     },
     "metadata": {},
     "output_type": "display_data"
    }
   ],
   "source": [
    "def bgbb_est(rfm_data, guess={'alpha': 1, 'beta': 0.5, 'gamma': 0.5, 'delta': 2.5}):\n",
    "    p1x, t_x, n, num_donors = [*rfm_data.T]\n",
    "\n",
    "    def log_likelihood(param):\n",
    "        alpha, beta, gamma, delta = param\n",
    "        B_alpha_beta = beta_fn(alpha, beta)\n",
    "        B_gamma_delta = beta_fn(gamma, delta)\n",
    "        \n",
    "        L = np.zeros((n.shape[0], n[0]+1))\n",
    "        L[:,0] = beta_fn(alpha+p1x,beta+n-p1x)/B_alpha_beta * \\\n",
    "                 beta_fn(gamma,delta+n)/B_gamma_delta\n",
    "        \n",
    "        i = np.arange(6)\n",
    "        L[:,1:] = beta_fn(alpha+p1x.reshape(-1,1), beta+t_x.reshape(-1,1)-p1x.reshape(-1,1)+i)/B_alpha_beta* \\\n",
    "                  beta_fn(gamma+1, delta+t_x.reshape(-1,1)+i)/B_gamma_delta        \n",
    "        \n",
    "        n_t_x_1 = n - t_x - 1\n",
    "        L[:,1:] = np.where(i <= n_t_x_1.reshape(-1,1), L[:,1:], 0)\n",
    "\n",
    "        return -np.sum(num_donors * np.log(np.sum(L, axis=1)))\n",
    "    \n",
    "    bnds = [[0, np.inf] for _ in range(4)]\n",
    "    return minimize(log_likelihood, x0=list(guess.values()), bounds=bnds)\n",
    "\n",
    "# Sample parameters\n",
    "# alpha = 1.20352083040498\n",
    "# beta = 0.749714243061896\n",
    "# gamma = 0.656712169147878\n",
    "# delta = 2.78340801635898\n",
    "\n",
    "res = bgbb_est(rfm_array_calib)\n",
    "alpha, beta, gamma, delta = res.x\n",
    "ll = res.fun\n",
    "\n",
    "display_markdown(f'''$\\\\alpha$ = {alpha:0.4f}\n",
    "\n",
    "$\\\\beta$ = {beta:0.4f}\n",
    "\n",
    "$\\\\gamma$ = {gamma:0.4f}\n",
    "\n",
    "$\\\\delta$ = {delta:0.4f}\n",
    "\n",
    "Log-Likelihood = {-ll:0.4f}''', raw=True)"
   ]
  },
  {
   "cell_type": "markdown",
   "metadata": {},
   "source": [
    "### Likelihood Function"
   ]
  },
  {
   "cell_type": "markdown",
   "metadata": {},
   "source": [
    "Likelihood function for a randomly chosen customer with purchase history ($x, t_{x}, n$)"
   ]
  },
  {
   "cell_type": "code",
   "execution_count": 4,
   "metadata": {},
   "outputs": [],
   "source": [
    "B_alpha_beta = beta_fn(alpha, beta)\n",
    "B_gamma_delta = beta_fn(gamma, delta)\n",
    "\n",
    "A1 = beta_fn(alpha+p1x, beta+n-p1x)/B_alpha_beta * beta_fn(gamma, delta+n)/B_gamma_delta\n",
    "i = np.arange(6).reshape(-1,1)\n",
    "A1a = beta_fn(alpha+p1x, beta+t_x-p1x+i)/B_alpha_beta * beta_fn(gamma+1, delta+t_x+i)/B_gamma_delta  \n",
    "A1a = np.where(i <= (n - t_x - 1), A1a, 0)\n",
    "L = A1 + np.sum(A1a, axis=0)"
   ]
  },
  {
   "cell_type": "markdown",
   "metadata": {},
   "source": [
    "### In-Sample Model Fit Plot"
   ]
  },
  {
   "cell_type": "code",
   "execution_count": 5,
   "metadata": {},
   "outputs": [
    {
     "data": {
      "application/vnd.vegalite.v5+json": {
       "$schema": "https://vega.github.io/schema/vega-lite/v5.20.1.json",
       "config": {
        "axisX": {
         "grid": false
        },
        "axisY": {
         "grid": false
        },
        "view": {
         "continuousHeight": 300,
         "continuousWidth": 300,
         "stroke": null
        }
       },
       "data": {
        "name": "data-801aedc32adab8f01279bb4318ecbbf2"
       },
       "datasets": {
        "data-801aedc32adab8f01279bb4318ecbbf2": [
         {
          "Actual Vs Estimated": "Actual",
          "No of people": 3464,
          "P1X": 0
         },
         {
          "Actual Vs Estimated": "Actual",
          "No of people": 1823,
          "P1X": 1
         },
         {
          "Actual Vs Estimated": "Actual",
          "No of people": 1430,
          "P1X": 2
         },
         {
          "Actual Vs Estimated": "Actual",
          "No of people": 1085,
          "P1X": 3
         },
         {
          "Actual Vs Estimated": "Actual",
          "No of people": 1036,
          "P1X": 4
         },
         {
          "Actual Vs Estimated": "Actual",
          "No of people": 1063,
          "P1X": 5
         },
         {
          "Actual Vs Estimated": "Actual",
          "No of people": 1203,
          "P1X": 6
         },
         {
          "Actual Vs Estimated": "Model",
          "No of people": 3454.831189402443,
          "P1X": 0
         },
         {
          "Actual Vs Estimated": "Model",
          "No of people": 1888.668483068257,
          "P1X": 1
         },
         {
          "Actual Vs Estimated": "Model",
          "No of people": 1348.899333495406,
          "P1X": 2
         },
         {
          "Actual Vs Estimated": "Model",
          "No of people": 1113.389766917179,
          "P1X": 3
         },
         {
          "Actual Vs Estimated": "Model",
          "No of people": 1017.9274032912226,
          "P1X": 4
         },
         {
          "Actual Vs Estimated": "Model",
          "No of people": 1027.1664066099652,
          "P1X": 5
         },
         {
          "Actual Vs Estimated": "Model",
          "No of people": 1253.1174172155222,
          "P1X": 6
         }
        ]
       },
       "encoding": {
        "color": {
         "field": "Actual Vs Estimated",
         "type": "nominal"
        },
        "x": {
         "axis": {
          "labelAngle": 0
         },
         "field": "P1X",
         "title": "No. of repeat transactions",
         "type": "ordinal"
        },
        "xOffset": {
         "field": "Actual Vs Estimated",
         "type": "nominal"
        },
        "y": {
         "field": "No of people",
         "title": "No. of people",
         "type": "quantitative"
        }
       },
       "height": 250,
       "mark": {
        "type": "bar"
       },
       "title": "Predicted vs. Actual Frequency of Repeat Transactions (Calibration Period) in 1996 to 2001",
       "width": 650
      },
      "text/plain": [
       "<VegaLite 5 object>\n",
       "\n",
       "If you see this message, it means the renderer has not been properly enabled\n",
       "for the frontend that you are using. For more information, see\n",
       "https://altair-viz.github.io/user_guide/display_frontends.html#troubleshooting\n"
      ]
     },
     "execution_count": 5,
     "metadata": {},
     "output_type": "execute_result"
    }
   ],
   "source": [
    "x = np.arange(n+1)\n",
    "A1 = comb(n,x)*beta_fn(alpha+x, beta+n-x)/B_alpha_beta*beta_fn(gamma, delta+n)/B_gamma_delta \n",
    "i = np.arange(n).reshape(-1,1)\n",
    "A2 = comb(i,x)*beta_fn(alpha+x, beta+i-x)/B_alpha_beta * beta_fn(gamma+1, delta+i)/B_gamma_delta\n",
    "P_X_n = A1 + np.sum(A2,axis=0)\n",
    "\n",
    "model_repeat_calib = pl.DataFrame({'Model': P_X_n * np.sum(rfm_array_calib[:,3])})\n",
    "\n",
    "actual_model_repeat_calib = (\n",
    "    rfm_summary_calib\n",
    "    .group_by('P1X')\n",
    "    .agg((pl.col('Count').sum()).alias('Actual'))\n",
    "    .sort('P1X')\n",
    "    .collect()\n",
    "    .hstack(model_repeat_calib)\n",
    "    .unpivot(on=['Actual', 'Model'], index='P1X', value_name='No of people', variable_name='Actual Vs Estimated')\n",
    ")\n",
    "\n",
    "(\n",
    "    alt.Chart(actual_model_repeat_calib).mark_bar()\n",
    "    .encode(x=alt.X('P1X:O', title='No. of repeat transactions', axis=alt.Axis(labelAngle=0)), \n",
    "         y=alt.Y('No of people:Q', title='No. of people'), \n",
    "         color='Actual Vs Estimated:N', \n",
    "         xOffset='Actual Vs Estimated')\n",
    "    .properties(\n",
    "        width=650,\n",
    "        height=250,\n",
    "        title='Predicted vs. Actual Frequency of Repeat Transactions (Calibration Period) in 1996 to 2001'\n",
    "    ).configure_view(stroke=None).configure_axisY(grid=False).configure_axisX(grid=False)   \n",
    ")"
   ]
  },
  {
   "cell_type": "markdown",
   "metadata": {},
   "source": [
    "### Calibration Period Model Fit Plot"
   ]
  },
  {
   "cell_type": "code",
   "execution_count": 6,
   "metadata": {},
   "outputs": [
    {
     "data": {
      "application/vnd.vegalite.v5+json": {
       "$schema": "https://vega.github.io/schema/vega-lite/v5.20.1.json",
       "config": {
        "axisX": {
         "grid": false
        },
        "axisY": {
         "grid": false
        },
        "view": {
         "continuousHeight": 300,
         "continuousWidth": 300,
         "stroke": null
        }
       },
       "data": {
        "name": "data-29085b547b9d2cf14d142243e77d628c"
       },
       "datasets": {
        "data-29085b547b9d2cf14d142243e77d628c": [
         {
          "Actual Vs Estimated": "Actual",
          "No of people": 6746,
          "P2X": 0
         },
         {
          "Actual Vs Estimated": "Actual",
          "No of people": 926,
          "P2X": 1
         },
         {
          "Actual Vs Estimated": "Actual",
          "No of people": 772,
          "P2X": 2
         },
         {
          "Actual Vs Estimated": "Actual",
          "No of people": 812,
          "P2X": 3
         },
         {
          "Actual Vs Estimated": "Actual",
          "No of people": 886,
          "P2X": 4
         },
         {
          "Actual Vs Estimated": "Actual",
          "No of people": 962,
          "P2X": 5
         },
         {
          "Actual Vs Estimated": "Model",
          "No of people": 6964.638338412659,
          "P2X": 0
         },
         {
          "Actual Vs Estimated": "Model",
          "No of people": 793.911211298211,
          "P2X": 1
         },
         {
          "Actual Vs Estimated": "Model",
          "No of people": 745.7139354845096,
          "P2X": 2
         },
         {
          "Actual Vs Estimated": "Model",
          "No of people": 749.4599409147851,
          "P2X": 3
         },
         {
          "Actual Vs Estimated": "Model",
          "No of people": 810.3084301278833,
          "P2X": 4
         },
         {
          "Actual Vs Estimated": "Model",
          "No of people": 1039.9681437619502,
          "P2X": 5
         }
        ]
       },
       "encoding": {
        "color": {
         "field": "Actual Vs Estimated",
         "type": "nominal"
        },
        "x": {
         "axis": {
          "labelAngle": 0
         },
         "field": "P2X",
         "title": "No. of repeat transactions",
         "type": "ordinal"
        },
        "xOffset": {
         "field": "Actual Vs Estimated",
         "type": "nominal"
        },
        "y": {
         "field": "No of people",
         "title": "No. of people",
         "type": "quantitative"
        }
       },
       "height": 250,
       "mark": {
        "type": "bar"
       },
       "title": "Predicted vs. Actual Frequency of Repeat Transactions (Validation Period) in 2002-2006",
       "width": 650
      },
      "text/plain": [
       "<VegaLite 5 object>\n",
       "\n",
       "If you see this message, it means the renderer has not been properly enabled\n",
       "for the frontend that you are using. For more information, see\n",
       "https://altair-viz.github.io/user_guide/display_frontends.html#troubleshooting\n"
      ]
     },
     "execution_count": 6,
     "metadata": {},
     "output_type": "execute_result"
    }
   ],
   "source": [
    "n_star = 5\n",
    "x_star = np.arange(n_star+1)\n",
    "\n",
    "A1 = comb(n_star,x_star)*beta_fn(alpha+x_star, beta+n_star-x_star)/B_alpha_beta * beta_fn(gamma, delta+n+n_star)/B_gamma_delta\n",
    "A1 += np.where(x_star == 0, 1 - beta_fn(gamma, delta+n)/B_gamma_delta, 0)\n",
    "i = np.arange(n_star).reshape(-1,1)\n",
    "A2 = comb(i,x_star)*beta_fn(alpha+x_star, beta+i-x_star)/B_alpha_beta * beta_fn(gamma+1, delta+n+i)/B_gamma_delta\n",
    "P_X_n_star = A1 + np.sum(A2, axis=0)\n",
    "\n",
    "valid_repeat_count = rfm_summary_valid.collect().to_numpy()[:,2]\n",
    "model_repeat_valid = pl.DataFrame({'Model': P_X_n_star * np.sum(valid_repeat_count)})\n",
    "\n",
    "actual_model_repeat_valid = (\n",
    "    rfm_summary_valid\n",
    "    .group_by('P2X')\n",
    "    .agg((pl.col('Count').sum()).alias('Actual'))\n",
    "    .sort('P2X')\n",
    "    .collect()\n",
    "    .hstack(model_repeat_valid)\n",
    "    .unpivot(on=['Actual', 'Model'], index='P2X', value_name='No of people', variable_name='Actual Vs Estimated')\n",
    ")\n",
    "\n",
    "(\n",
    "    alt.Chart(actual_model_repeat_valid).mark_bar()\n",
    "    .encode(x=alt.X('P2X:O', title='No. of repeat transactions', axis=alt.Axis(labelAngle=0)), \n",
    "         y=alt.Y('No of people:Q', title='No. of people'), \n",
    "         color='Actual Vs Estimated:N', \n",
    "         xOffset='Actual Vs Estimated')\n",
    "    .properties(\n",
    "        width=650,\n",
    "        height=250,\n",
    "        title='Predicted vs. Actual Frequency of Repeat Transactions (Validation Period) in 2002-2006'\n",
    "    ).configure_view(stroke=None).configure_axisY(grid=False).configure_axisX(grid=False)   \n",
    ")"
   ]
  },
  {
   "cell_type": "markdown",
   "metadata": {},
   "source": [
    "### Tracking Plots"
   ]
  },
  {
   "cell_type": "code",
   "execution_count": 7,
   "metadata": {},
   "outputs": [
    {
     "data": {
      "application/vnd.vegalite.v5+json": {
       "$schema": "https://vega.github.io/schema/vega-lite/v5.20.1.json",
       "config": {
        "axisX": {
         "grid": false
        },
        "axisY": {
         "grid": false
        },
        "view": {
         "continuousHeight": 300,
         "continuousWidth": 300,
         "stroke": null
        }
       },
       "data": {
        "name": "data-83938157dbe5c839c8e12d7c7e3608be"
       },
       "datasets": {
        "data-83938157dbe5c839c8e12d7c7e3608be": [
         {
          "Actual Vs Model": "Actual",
          "Repeat Trans": 5652,
          "Year": "1996"
         },
         {
          "Actual Vs Model": "Actual",
          "Repeat Trans": 4674,
          "Year": "1997"
         },
         {
          "Actual Vs Model": "Actual",
          "Repeat Trans": 4019,
          "Year": "1998"
         },
         {
          "Actual Vs Model": "Actual",
          "Repeat Trans": 3552,
          "Year": "1999"
         },
         {
          "Actual Vs Model": "Actual",
          "Repeat Trans": 3555,
          "Year": "2000"
         },
         {
          "Actual Vs Model": "Actual",
          "Repeat Trans": 3163,
          "Year": "2001"
         },
         {
          "Actual Vs Model": "Actual",
          "Repeat Trans": 3110,
          "Year": "2002"
         },
         {
          "Actual Vs Model": "Actual",
          "Repeat Trans": 2938,
          "Year": "2003"
         },
         {
          "Actual Vs Model": "Actual",
          "Repeat Trans": 2703,
          "Year": "2004"
         },
         {
          "Actual Vs Model": "Actual",
          "Repeat Trans": 2573,
          "Year": "2005"
         },
         {
          "Actual Vs Model": "Actual",
          "Repeat Trans": 1936,
          "Year": "2006"
         },
         {
          "Actual Vs Model": "Model",
          "Repeat Trans": 5535.83835474379,
          "Year": "1996"
         },
         {
          "Actual Vs Model": "Model",
          "Repeat Trans": 4717.0796749969595,
          "Year": "1997"
         },
         {
          "Actual Vs Model": "Model",
          "Repeat Trans": 4147.6500806489075,
          "Year": "1998"
         },
         {
          "Actual Vs Model": "Model",
          "Repeat Trans": 3724.700088107609,
          "Year": "1999"
         },
         {
          "Actual Vs Model": "Model",
          "Repeat Trans": 3395.926960621324,
          "Year": "2000"
         },
         {
          "Actual Vs Model": "Model",
          "Repeat Trans": 3131.6874411998797,
          "Year": "2001"
         },
         {
          "Actual Vs Model": "Model",
          "Repeat Trans": 2913.8204698897353,
          "Year": "2002"
         },
         {
          "Actual Vs Model": "Model",
          "Repeat Trans": 2730.5258238249444,
          "Year": "2003"
         },
         {
          "Actual Vs Model": "Model",
          "Repeat Trans": 2573.7750035229255,
          "Year": "2004"
         },
         {
          "Actual Vs Model": "Model",
          "Repeat Trans": 2437.899397492758,
          "Year": "2005"
         },
         {
          "Actual Vs Model": "Model",
          "Repeat Trans": 2318.7726496030955,
          "Year": "2006"
         }
        ]
       },
       "encoding": {
        "strokeDash": {
         "field": "Actual Vs Model",
         "type": "nominal"
        },
        "x": {
         "axis": {
          "labelAngle": 0
         },
         "field": "Year",
         "type": "nominal"
        },
        "y": {
         "field": "Repeat Trans",
         "title": "No. of repeat transactions",
         "type": "quantitative"
        }
       },
       "height": 250,
       "mark": {
        "type": "line"
       },
       "title": "Predicted vs. Actual Annual Repeat Transactions",
       "width": 650
      },
      "text/plain": [
       "<VegaLite 5 object>\n",
       "\n",
       "If you see this message, it means the renderer has not been properly enabled\n",
       "for the frontend that you are using. For more information, see\n",
       "https://altair-viz.github.io/user_guide/display_frontends.html#troubleshooting\n"
      ]
     },
     "execution_count": 7,
     "metadata": {},
     "output_type": "execute_result"
    }
   ],
   "source": [
    "act_yearly_repeat = data.data.select(pl.col('*').exclude('ID', '1995')).sum().collect().to_numpy()\n",
    "act_cum_repeat = act_yearly_repeat.cumsum()\n",
    "\n",
    "A1 = alpha / (alpha + beta)\n",
    "A2 = 1/(gamma-1)\n",
    "n_trans = np.arange(1, len(years))\n",
    "A3 = np.exp(gammaln(delta+n_trans+1)+gammaln(gamma+delta)-gammaln(delta)-gammaln(gamma+delta+n_trans))\n",
    "E_X_n = A1 * (delta*A2-A2*A3)\n",
    "\n",
    "est_cum_repeat = np.sum(rfm_array_calib[:,3]) * E_X_n\n",
    "est_yearly_repeat = np.diff(est_cum_repeat, prepend=0)\n",
    "\n",
    "yearly_repeat = pl.DataFrame({'Year': years[1:], 'Actual': act_yearly_repeat.flatten(), 'Model': est_yearly_repeat.flatten()})\n",
    "yearly_repeat = yearly_repeat.unpivot(on=['Actual', 'Model'], index='Year', variable_name='Actual Vs Model', value_name='Repeat Trans')\n",
    "cum_repeat = pl.DataFrame({'Year': years[1:], 'Actual': act_cum_repeat.flatten(), 'Model': est_cum_repeat.flatten()})\n",
    "cum_repeat = cum_repeat.unpivot(on=['Actual', 'Model'], index='Year', variable_name='Actual Vs Model', value_name='Repeat Trans')\n",
    "\n",
    "(\n",
    "    alt.Chart(yearly_repeat).mark_line().encode(\n",
    "        x=alt.X('Year', axis=alt.Axis(labelAngle=0)),\n",
    "        y=alt.Y('Repeat Trans', title='No. of repeat transactions'),\n",
    "        strokeDash='Actual Vs Model'\n",
    "    ).properties(\n",
    "            width=650,\n",
    "            height=250,\n",
    "            title='Predicted vs. Actual Annual Repeat Transactions'\n",
    "    ).configure_view(stroke=None).configure_axisY(grid=False).configure_axisX(grid=False)  \n",
    ")"
   ]
  },
  {
   "cell_type": "code",
   "execution_count": 8,
   "metadata": {},
   "outputs": [
    {
     "data": {
      "application/vnd.vegalite.v5+json": {
       "$schema": "https://vega.github.io/schema/vega-lite/v5.20.1.json",
       "config": {
        "axisX": {
         "grid": false
        },
        "axisY": {
         "grid": false
        },
        "view": {
         "continuousHeight": 300,
         "continuousWidth": 300,
         "stroke": null
        }
       },
       "data": {
        "name": "data-83938157dbe5c839c8e12d7c7e3608be"
       },
       "datasets": {
        "data-83938157dbe5c839c8e12d7c7e3608be": [
         {
          "Actual Vs Model": "Actual",
          "Repeat Trans": 5652,
          "Year": "1996"
         },
         {
          "Actual Vs Model": "Actual",
          "Repeat Trans": 4674,
          "Year": "1997"
         },
         {
          "Actual Vs Model": "Actual",
          "Repeat Trans": 4019,
          "Year": "1998"
         },
         {
          "Actual Vs Model": "Actual",
          "Repeat Trans": 3552,
          "Year": "1999"
         },
         {
          "Actual Vs Model": "Actual",
          "Repeat Trans": 3555,
          "Year": "2000"
         },
         {
          "Actual Vs Model": "Actual",
          "Repeat Trans": 3163,
          "Year": "2001"
         },
         {
          "Actual Vs Model": "Actual",
          "Repeat Trans": 3110,
          "Year": "2002"
         },
         {
          "Actual Vs Model": "Actual",
          "Repeat Trans": 2938,
          "Year": "2003"
         },
         {
          "Actual Vs Model": "Actual",
          "Repeat Trans": 2703,
          "Year": "2004"
         },
         {
          "Actual Vs Model": "Actual",
          "Repeat Trans": 2573,
          "Year": "2005"
         },
         {
          "Actual Vs Model": "Actual",
          "Repeat Trans": 1936,
          "Year": "2006"
         },
         {
          "Actual Vs Model": "Model",
          "Repeat Trans": 5535.83835474379,
          "Year": "1996"
         },
         {
          "Actual Vs Model": "Model",
          "Repeat Trans": 4717.0796749969595,
          "Year": "1997"
         },
         {
          "Actual Vs Model": "Model",
          "Repeat Trans": 4147.6500806489075,
          "Year": "1998"
         },
         {
          "Actual Vs Model": "Model",
          "Repeat Trans": 3724.700088107609,
          "Year": "1999"
         },
         {
          "Actual Vs Model": "Model",
          "Repeat Trans": 3395.926960621324,
          "Year": "2000"
         },
         {
          "Actual Vs Model": "Model",
          "Repeat Trans": 3131.6874411998797,
          "Year": "2001"
         },
         {
          "Actual Vs Model": "Model",
          "Repeat Trans": 2913.8204698897353,
          "Year": "2002"
         },
         {
          "Actual Vs Model": "Model",
          "Repeat Trans": 2730.5258238249444,
          "Year": "2003"
         },
         {
          "Actual Vs Model": "Model",
          "Repeat Trans": 2573.7750035229255,
          "Year": "2004"
         },
         {
          "Actual Vs Model": "Model",
          "Repeat Trans": 2437.899397492758,
          "Year": "2005"
         },
         {
          "Actual Vs Model": "Model",
          "Repeat Trans": 2318.7726496030955,
          "Year": "2006"
         }
        ]
       },
       "encoding": {
        "color": {
         "field": "Actual Vs Model",
         "type": "nominal"
        },
        "x": {
         "axis": {
          "labelAngle": 0
         },
         "field": "Year",
         "type": "nominal"
        },
        "xOffset": {
         "field": "Actual Vs Model",
         "type": "nominal"
        },
        "y": {
         "field": "Repeat Trans",
         "title": "No. of repeat transactions",
         "type": "quantitative"
        }
       },
       "height": 250,
       "mark": {
        "type": "bar"
       },
       "title": "Predicted vs. Actual Annual Repeat Transactions",
       "width": 650
      },
      "text/plain": [
       "<VegaLite 5 object>\n",
       "\n",
       "If you see this message, it means the renderer has not been properly enabled\n",
       "for the frontend that you are using. For more information, see\n",
       "https://altair-viz.github.io/user_guide/display_frontends.html#troubleshooting\n"
      ]
     },
     "execution_count": 8,
     "metadata": {},
     "output_type": "execute_result"
    }
   ],
   "source": [
    "(\n",
    "    alt.Chart(yearly_repeat).mark_bar().encode(\n",
    "        x=alt.X('Year', axis=alt.Axis(labelAngle=0)),\n",
    "        y=alt.Y('Repeat Trans', title='No. of repeat transactions'),\n",
    "        color='Actual Vs Model',\n",
    "        xOffset='Actual Vs Model'\n",
    "    ).properties(\n",
    "            width=650,\n",
    "            height=250,\n",
    "            title='Predicted vs. Actual Annual Repeat Transactions'\n",
    "    ).configure_view(stroke=None).configure_axisY(grid=False).configure_axisX(grid=False)  \n",
    ")"
   ]
  },
  {
   "cell_type": "code",
   "execution_count": 9,
   "metadata": {},
   "outputs": [
    {
     "data": {
      "application/vnd.vegalite.v5+json": {
       "$schema": "https://vega.github.io/schema/vega-lite/v5.20.1.json",
       "config": {
        "axisX": {
         "grid": false
        },
        "axisY": {
         "grid": false
        },
        "view": {
         "continuousHeight": 300,
         "continuousWidth": 300,
         "stroke": null
        }
       },
       "data": {
        "name": "data-3f6530ce5d71af2180c31aac50e20a91"
       },
       "datasets": {
        "data-3f6530ce5d71af2180c31aac50e20a91": [
         {
          "Actual Vs Model": "Actual",
          "Repeat Trans": 5652,
          "Year": "1996"
         },
         {
          "Actual Vs Model": "Actual",
          "Repeat Trans": 10326,
          "Year": "1997"
         },
         {
          "Actual Vs Model": "Actual",
          "Repeat Trans": 14345,
          "Year": "1998"
         },
         {
          "Actual Vs Model": "Actual",
          "Repeat Trans": 17897,
          "Year": "1999"
         },
         {
          "Actual Vs Model": "Actual",
          "Repeat Trans": 21452,
          "Year": "2000"
         },
         {
          "Actual Vs Model": "Actual",
          "Repeat Trans": 24615,
          "Year": "2001"
         },
         {
          "Actual Vs Model": "Actual",
          "Repeat Trans": 27725,
          "Year": "2002"
         },
         {
          "Actual Vs Model": "Actual",
          "Repeat Trans": 30663,
          "Year": "2003"
         },
         {
          "Actual Vs Model": "Actual",
          "Repeat Trans": 33366,
          "Year": "2004"
         },
         {
          "Actual Vs Model": "Actual",
          "Repeat Trans": 35939,
          "Year": "2005"
         },
         {
          "Actual Vs Model": "Actual",
          "Repeat Trans": 37875,
          "Year": "2006"
         },
         {
          "Actual Vs Model": "Model",
          "Repeat Trans": 5535.83835474379,
          "Year": "1996"
         },
         {
          "Actual Vs Model": "Model",
          "Repeat Trans": 10252.91802974075,
          "Year": "1997"
         },
         {
          "Actual Vs Model": "Model",
          "Repeat Trans": 14400.568110389657,
          "Year": "1998"
         },
         {
          "Actual Vs Model": "Model",
          "Repeat Trans": 18125.268198497266,
          "Year": "1999"
         },
         {
          "Actual Vs Model": "Model",
          "Repeat Trans": 21521.19515911859,
          "Year": "2000"
         },
         {
          "Actual Vs Model": "Model",
          "Repeat Trans": 24652.88260031847,
          "Year": "2001"
         },
         {
          "Actual Vs Model": "Model",
          "Repeat Trans": 27566.703070208205,
          "Year": "2002"
         },
         {
          "Actual Vs Model": "Model",
          "Repeat Trans": 30297.22889403315,
          "Year": "2003"
         },
         {
          "Actual Vs Model": "Model",
          "Repeat Trans": 32871.003897556075,
          "Year": "2004"
         },
         {
          "Actual Vs Model": "Model",
          "Repeat Trans": 35308.90329504883,
          "Year": "2005"
         },
         {
          "Actual Vs Model": "Model",
          "Repeat Trans": 37627.67594465193,
          "Year": "2006"
         }
        ]
       },
       "encoding": {
        "strokeDash": {
         "field": "Actual Vs Model",
         "type": "nominal"
        },
        "x": {
         "axis": {
          "labelAngle": 0
         },
         "field": "Year",
         "type": "nominal"
        },
        "y": {
         "field": "Repeat Trans",
         "title": "Cumulative no. of repeat transactions",
         "type": "quantitative"
        }
       },
       "height": 250,
       "mark": {
        "type": "line"
       },
       "title": "Predicted vs. Actual Cumulative Repeat Transactions",
       "width": 650
      },
      "text/plain": [
       "<VegaLite 5 object>\n",
       "\n",
       "If you see this message, it means the renderer has not been properly enabled\n",
       "for the frontend that you are using. For more information, see\n",
       "https://altair-viz.github.io/user_guide/display_frontends.html#troubleshooting\n"
      ]
     },
     "execution_count": 9,
     "metadata": {},
     "output_type": "execute_result"
    }
   ],
   "source": [
    "(\n",
    "    alt.Chart(cum_repeat).mark_line().encode(\n",
    "        x=alt.X('Year', axis=alt.Axis(labelAngle=0)),\n",
    "        y=alt.Y('Repeat Trans', title='Cumulative no. of repeat transactions'),\n",
    "        strokeDash='Actual Vs Model'\n",
    "    ).properties(\n",
    "            width=650,\n",
    "            height=250,\n",
    "            title='Predicted vs. Actual Cumulative Repeat Transactions'\n",
    "    ).configure_view(stroke=None).configure_axisY(grid=False).configure_axisX(grid=False)  \n",
    ")"
   ]
  },
  {
   "cell_type": "code",
   "execution_count": 10,
   "metadata": {},
   "outputs": [
    {
     "data": {
      "application/vnd.vegalite.v5+json": {
       "$schema": "https://vega.github.io/schema/vega-lite/v5.20.1.json",
       "config": {
        "axisX": {
         "grid": false
        },
        "axisY": {
         "grid": false
        },
        "view": {
         "continuousHeight": 300,
         "continuousWidth": 300,
         "stroke": null
        }
       },
       "data": {
        "name": "data-3f6530ce5d71af2180c31aac50e20a91"
       },
       "datasets": {
        "data-3f6530ce5d71af2180c31aac50e20a91": [
         {
          "Actual Vs Model": "Actual",
          "Repeat Trans": 5652,
          "Year": "1996"
         },
         {
          "Actual Vs Model": "Actual",
          "Repeat Trans": 10326,
          "Year": "1997"
         },
         {
          "Actual Vs Model": "Actual",
          "Repeat Trans": 14345,
          "Year": "1998"
         },
         {
          "Actual Vs Model": "Actual",
          "Repeat Trans": 17897,
          "Year": "1999"
         },
         {
          "Actual Vs Model": "Actual",
          "Repeat Trans": 21452,
          "Year": "2000"
         },
         {
          "Actual Vs Model": "Actual",
          "Repeat Trans": 24615,
          "Year": "2001"
         },
         {
          "Actual Vs Model": "Actual",
          "Repeat Trans": 27725,
          "Year": "2002"
         },
         {
          "Actual Vs Model": "Actual",
          "Repeat Trans": 30663,
          "Year": "2003"
         },
         {
          "Actual Vs Model": "Actual",
          "Repeat Trans": 33366,
          "Year": "2004"
         },
         {
          "Actual Vs Model": "Actual",
          "Repeat Trans": 35939,
          "Year": "2005"
         },
         {
          "Actual Vs Model": "Actual",
          "Repeat Trans": 37875,
          "Year": "2006"
         },
         {
          "Actual Vs Model": "Model",
          "Repeat Trans": 5535.83835474379,
          "Year": "1996"
         },
         {
          "Actual Vs Model": "Model",
          "Repeat Trans": 10252.91802974075,
          "Year": "1997"
         },
         {
          "Actual Vs Model": "Model",
          "Repeat Trans": 14400.568110389657,
          "Year": "1998"
         },
         {
          "Actual Vs Model": "Model",
          "Repeat Trans": 18125.268198497266,
          "Year": "1999"
         },
         {
          "Actual Vs Model": "Model",
          "Repeat Trans": 21521.19515911859,
          "Year": "2000"
         },
         {
          "Actual Vs Model": "Model",
          "Repeat Trans": 24652.88260031847,
          "Year": "2001"
         },
         {
          "Actual Vs Model": "Model",
          "Repeat Trans": 27566.703070208205,
          "Year": "2002"
         },
         {
          "Actual Vs Model": "Model",
          "Repeat Trans": 30297.22889403315,
          "Year": "2003"
         },
         {
          "Actual Vs Model": "Model",
          "Repeat Trans": 32871.003897556075,
          "Year": "2004"
         },
         {
          "Actual Vs Model": "Model",
          "Repeat Trans": 35308.90329504883,
          "Year": "2005"
         },
         {
          "Actual Vs Model": "Model",
          "Repeat Trans": 37627.67594465193,
          "Year": "2006"
         }
        ]
       },
       "encoding": {
        "color": {
         "field": "Actual Vs Model",
         "type": "nominal"
        },
        "x": {
         "axis": {
          "labelAngle": 0
         },
         "field": "Year",
         "type": "nominal"
        },
        "xOffset": {
         "field": "Actual Vs Model",
         "type": "nominal"
        },
        "y": {
         "field": "Repeat Trans",
         "title": "Cumulative no. of repeat transactions",
         "type": "quantitative"
        }
       },
       "height": 250,
       "mark": {
        "type": "bar"
       },
       "title": "Predicted vs. Actual Cumulative Repeat Transactions",
       "width": 650
      },
      "text/plain": [
       "<VegaLite 5 object>\n",
       "\n",
       "If you see this message, it means the renderer has not been properly enabled\n",
       "for the frontend that you are using. For more information, see\n",
       "https://altair-viz.github.io/user_guide/display_frontends.html#troubleshooting\n"
      ]
     },
     "execution_count": 10,
     "metadata": {},
     "output_type": "execute_result"
    }
   ],
   "source": [
    "(\n",
    "    alt.Chart(cum_repeat).mark_bar().encode(\n",
    "        x=alt.X('Year', axis=alt.Axis(labelAngle=0)),\n",
    "        y=alt.Y('Repeat Trans', title='Cumulative no. of repeat transactions'),\n",
    "        color='Actual Vs Model',\n",
    "        xOffset='Actual Vs Model'\n",
    "    ).properties(\n",
    "            width=650,\n",
    "            height=250,\n",
    "            title='Predicted vs. Actual Cumulative Repeat Transactions'\n",
    "    ).configure_view(stroke=None).configure_axisY(grid=False).configure_axisX(grid=False)  \n",
    ")"
   ]
  },
  {
   "cell_type": "markdown",
   "metadata": {},
   "source": [
    "### Conditional Expectations"
   ]
  },
  {
   "cell_type": "code",
   "execution_count": 24,
   "metadata": {},
   "outputs": [],
   "source": [
    "n_star = 5\n",
    "\n",
    "A2 = beta_fn(alpha+p1x+1, beta+n-p1x)/B_alpha_beta\n",
    "A3 = delta/(gamma-1)*np.exp(gammaln(gamma+delta)-gammaln(delta+1))*(np.exp(gammaln(1+delta+n)-\\\n",
    "     gammaln(gamma+delta+n))-np.exp(gammaln(1+delta+n+n_star)-gammaln(gamma+delta+n+n_star)))\n",
    "\n",
    "ce = A2 * A3 / L\n",
    "\n",
    "exp_total = ce * num_donors\n",
    "\n",
    "ce_df = (\n",
    "    data.rfm_data()\n",
    "    .group_by('P1X', 't_x', 'np1x')\n",
    "    .agg(pl.col('P2X').sum().alias('Actual Total'))\n",
    "    .sort(['t_x', 'P1X'], descending=True)\n",
    "    .collect()\n",
    "    .hstack([pl.Series('Exp Total', exp_total)])\n",
    "    .hstack([pl.Series('Conditional Expectation', ce)])\n",
    ")\n",
    "\n",
    "# Actual total 2002-2006 donations by p1x / tx\n",
    "actual_ce_mat = ce_df.sort('t_x').pivot(index='P1X', on='t_x', values='Actual Total').sort('P1X').fill_null(0).to_numpy()\n",
    "p1x_frequency = actual_ce_mat[:,0]\n",
    "actual_ce_mat = actual_ce_mat[:,1:]\n",
    "\n",
    "# Expected total 2002-2006 donations by p1x / tx\n",
    "est_ce_mat = ce_df.sort('t_x').pivot(index='P1X', on='t_x', values='Exp Total').sort('P1X').fill_null(0).to_numpy()[:,1:]\n",
    "\n",
    "# Number of Donors\n",
    "num_donors_mat = rfm_summary_calib.collect().sort('t_x').pivot(index='P1X', on='t_x', values='Count').sort('P1X').fill_null(0).to_numpy()[:,1:]\n",
    "\n",
    "# CE by Frequency\n",
    "actual_ce_freq = np.sum(actual_ce_mat, axis=1) / np.sum(num_donors_mat, axis=1)\n",
    "est_ce_freq = np.sum(est_ce_mat, axis=1) / np.sum(num_donors_mat, axis=1)\n",
    "ce_freq = pl.DataFrame({'x': p1x_frequency, 'Actual': actual_ce_freq, 'Model': est_ce_freq})\n",
    "ce_freq = ce_freq.unpivot(index='x', on=['Actual', 'Model'], variable_name='Actual Vs Model', value_name='CE by Freq')\n",
    "\n",
    "# CE by Recency\n",
    "actual_ce_rec = np.sum(actual_ce_mat, axis=0) / np.sum(num_donors_mat, axis=0)\n",
    "est_ce_rec = np.sum(est_ce_mat, axis=0) / np.sum(num_donors_mat, axis=0)\n",
    "ce_rec = pl.DataFrame({'t_x': years[:len(p1x_frequency)], 'Actual': actual_ce_rec, 'Model': est_ce_rec}).with_columns(pl.col('t_x').cast(pl.Int16))\n",
    "ce_rec = ce_rec.unpivot(index='t_x', on=['Actual', 'Model'], variable_name='Actual Vs Model', value_name='CE by Rec')"
   ]
  },
  {
   "cell_type": "code",
   "execution_count": 25,
   "metadata": {},
   "outputs": [
    {
     "data": {
      "application/vnd.vegalite.v5+json": {
       "$schema": "https://vega.github.io/schema/vega-lite/v5.20.1.json",
       "config": {
        "axisX": {
         "grid": false
        },
        "axisY": {
         "grid": false
        },
        "view": {
         "continuousHeight": 300,
         "continuousWidth": 300,
         "stroke": null
        }
       },
       "data": {
        "name": "data-175819b4ea153ac430fb2cd0c0baa157"
       },
       "datasets": {
        "data-175819b4ea153ac430fb2cd0c0baa157": [
         {
          "Actual Vs Model": "Actual",
          "CE by Freq": 0.17436489607390301,
          "x": 0
         },
         {
          "Actual Vs Model": "Actual",
          "CE by Freq": 0.4328030718595721,
          "x": 1
         },
         {
          "Actual Vs Model": "Actual",
          "CE by Freq": 0.8125874125874126,
          "x": 2
         },
         {
          "Actual Vs Model": "Actual",
          "CE by Freq": 1.3898617511520737,
          "x": 3
         },
         {
          "Actual Vs Model": "Actual",
          "CE by Freq": 2.0617760617760617,
          "x": 4
         },
         {
          "Actual Vs Model": "Actual",
          "CE by Freq": 2.642521166509878,
          "x": 5
         },
         {
          "Actual Vs Model": "Actual",
          "CE by Freq": 3.5344970906068163,
          "x": 6
         },
         {
          "Actual Vs Model": "Model",
          "CE by Freq": 0.07286618932247885,
          "x": 0
         },
         {
          "Actual Vs Model": "Model",
          "CE by Freq": 0.3248867828534764,
          "x": 1
         },
         {
          "Actual Vs Model": "Model",
          "CE by Freq": 0.7089460506791051,
          "x": 2
         },
         {
          "Actual Vs Model": "Model",
          "CE by Freq": 1.333672864530965,
          "x": 3
         },
         {
          "Actual Vs Model": "Model",
          "CE by Freq": 2.0312142848669374,
          "x": 4
         },
         {
          "Actual Vs Model": "Model",
          "CE by Freq": 2.7844971401195533,
          "x": 5
         },
         {
          "Actual Vs Model": "Model",
          "CE by Freq": 3.7525216243612483,
          "x": 6
         }
        ]
       },
       "encoding": {
        "strokeDash": {
         "field": "Actual Vs Model",
         "type": "nominal"
        },
        "x": {
         "axis": {
          "labelAngle": 0,
          "values": [
           0,
           1,
           2,
           3,
           4,
           5,
           6
          ]
         },
         "field": "x",
         "title": "No. of repeat transactions (1996-2001)",
         "type": "quantitative"
        },
        "y": {
         "field": "CE by Freq",
         "title": "No. of repeat transactions (2002–2006)",
         "type": "quantitative"
        }
       },
       "height": 250,
       "mark": {
        "type": "line"
       },
       "title": "Predicted vs. Actual Conditional Expectations of Repeat Transactions in 2002–2006 as a Function of Frequency",
       "width": 650
      },
      "text/plain": [
       "<VegaLite 5 object>\n",
       "\n",
       "If you see this message, it means the renderer has not been properly enabled\n",
       "for the frontend that you are using. For more information, see\n",
       "https://altair-viz.github.io/user_guide/display_frontends.html#troubleshooting\n"
      ]
     },
     "execution_count": 25,
     "metadata": {},
     "output_type": "execute_result"
    }
   ],
   "source": [
    "(\n",
    "    alt.Chart(ce_freq).mark_line().encode(\n",
    "        x=alt.X('x', title='No. of repeat transactions (1996-2001)', axis=alt.Axis(labelAngle=0, values=np.arange(7))),\n",
    "        y=alt.Y('CE by Freq', title='No. of repeat transactions (2002–2006)'),\n",
    "        strokeDash='Actual Vs Model'\n",
    "    ).properties(\n",
    "            width=650,\n",
    "            height=250,\n",
    "            title='Predicted vs. Actual Conditional Expectations of Repeat Transactions in 2002–2006 as a Function of Frequency'\n",
    "    ).configure_view(stroke=None).configure_axisY(grid=False).configure_axisX(grid=False)  \n",
    ")"
   ]
  },
  {
   "cell_type": "code",
   "execution_count": 26,
   "metadata": {},
   "outputs": [
    {
     "data": {
      "application/vnd.vegalite.v5+json": {
       "$schema": "https://vega.github.io/schema/vega-lite/v5.20.1.json",
       "config": {
        "axisX": {
         "grid": false
        },
        "axisY": {
         "grid": false
        },
        "view": {
         "continuousHeight": 300,
         "continuousWidth": 300,
         "stroke": null
        }
       },
       "data": {
        "name": "data-eb3248e6ddb1ce850a3921c825cd4446"
       },
       "datasets": {
        "data-eb3248e6ddb1ce850a3921c825cd4446": [
         {
          "Actual Vs Model": "Actual",
          "CE by Rec": 0.17436489607390301,
          "t_x": 1995
         },
         {
          "Actual Vs Model": "Actual",
          "CE by Rec": 0.21814848762603117,
          "t_x": 1996
         },
         {
          "Actual Vs Model": "Actual",
          "CE by Rec": 0.3898876404494382,
          "t_x": 1997
         },
         {
          "Actual Vs Model": "Actual",
          "CE by Rec": 0.48725212464589235,
          "t_x": 1998
         },
         {
          "Actual Vs Model": "Actual",
          "CE by Rec": 0.808868501529052,
          "t_x": 1999
         },
         {
          "Actual Vs Model": "Actual",
          "CE by Rec": 1.6522887323943662,
          "t_x": 2000
         },
         {
          "Actual Vs Model": "Actual",
          "CE by Rec": 2.946885867846981,
          "t_x": 2001
         },
         {
          "Actual Vs Model": "Model",
          "CE by Rec": 0.07286618932247885,
          "t_x": 1995
         },
         {
          "Actual Vs Model": "Model",
          "CE by Rec": 0.0856969685608279,
          "t_x": 1996
         },
         {
          "Actual Vs Model": "Model",
          "CE by Rec": 0.17984678423117648,
          "t_x": 1997
         },
         {
          "Actual Vs Model": "Model",
          "CE by Rec": 0.4041180284692448,
          "t_x": 1998
         },
         {
          "Actual Vs Model": "Model",
          "CE by Rec": 0.851090140978244,
          "t_x": 1999
         },
         {
          "Actual Vs Model": "Model",
          "CE by Rec": 1.7263333757619665,
          "t_x": 2000
         },
         {
          "Actual Vs Model": "Model",
          "CE by Rec": 3.027203434389711,
          "t_x": 2001
         }
        ]
       },
       "encoding": {
        "strokeDash": {
         "field": "Actual Vs Model",
         "type": "nominal"
        },
        "x": {
         "axis": {
          "format": ".0f",
          "labelAngle": 0,
          "values": [
           1995,
           1996,
           1997,
           1998,
           1999,
           2000,
           2001
          ]
         },
         "field": "t_x",
         "title": "Year of last transaction",
         "type": "quantitative"
        },
        "y": {
         "field": "CE by Rec",
         "title": "No. of repeat transactions (2002–2006)",
         "type": "quantitative"
        }
       },
       "height": 250,
       "mark": {
        "type": "line"
       },
       "title": "Predicted vs. Actual Conditional Expectations of Repeat Transactions in 2002–2006 as a Function of Recency",
       "width": 650
      },
      "text/plain": [
       "<VegaLite 5 object>\n",
       "\n",
       "If you see this message, it means the renderer has not been properly enabled\n",
       "for the frontend that you are using. For more information, see\n",
       "https://altair-viz.github.io/user_guide/display_frontends.html#troubleshooting\n"
      ]
     },
     "execution_count": 26,
     "metadata": {},
     "output_type": "execute_result"
    }
   ],
   "source": [
    "(\n",
    "    alt.Chart(ce_rec).mark_line().encode(\n",
    "        x=alt.X('t_x', title='Year of last transaction', axis=alt.Axis(labelAngle=0, values=np.arange(1995, 2002, 1), format='.0f')),\n",
    "        y=alt.Y('CE by Rec', title='No. of repeat transactions (2002–2006)'),\n",
    "        strokeDash='Actual Vs Model'\n",
    "    ).properties(\n",
    "            width=650,\n",
    "            height=250,\n",
    "            title='Predicted vs. Actual Conditional Expectations of Repeat Transactions in 2002–2006 as a Function of Recency'\n",
    "    ).configure_view(stroke=None).configure_axisY(grid=False).configure_axisX(grid=False)  \n",
    ")"
   ]
  },
  {
   "cell_type": "code",
   "execution_count": 33,
   "metadata": {},
   "outputs": [
    {
     "data": {
      "text/html": [
       "<div id=\"yztavjpsrl\" style=\"padding-left:0px;padding-right:0px;padding-top:10px;padding-bottom:10px;overflow-x:auto;overflow-y:auto;width:auto;height:auto;\">\n",
       "<style>\n",
       "#yztavjpsrl table {\n",
       "          font-family: -apple-system, BlinkMacSystemFont, 'Segoe UI', Roboto, Oxygen, Ubuntu, Cantarell, 'Helvetica Neue', 'Fira Sans', 'Droid Sans', Arial, sans-serif;\n",
       "          -webkit-font-smoothing: antialiased;\n",
       "          -moz-osx-font-smoothing: grayscale;\n",
       "        }\n",
       "\n",
       "#yztavjpsrl thead, tbody, tfoot, tr, td, th { border-style: none !important; }\n",
       " tr { background-color: transparent !important; }\n",
       "#yztavjpsrl p { margin: 0 !important; padding: 0 !important; }\n",
       " #yztavjpsrl .gt_table { display: table !important; border-collapse: collapse !important; line-height: normal !important; margin-left: auto !important; margin-right: auto !important; color: #333333 !important; font-size: 16px !important; font-weight: normal !important; font-style: normal !important; background-color: #FFFFFF !important; width: auto !important; border-top-style: solid !important; border-top-width: 2px !important; border-top-color: #A8A8A8 !important; border-right-style: none !important; border-right-width: 2px !important; border-right-color: #D3D3D3 !important; border-bottom-style: solid !important; border-bottom-width: 2px !important; border-bottom-color: #A8A8A8 !important; border-left-style: none !important; border-left-width: 2px !important; border-left-color: #D3D3D3 !important; }\n",
       " #yztavjpsrl .gt_caption { padding-top: 4px !important; padding-bottom: 4px !important; }\n",
       " #yztavjpsrl .gt_title { color: #333333 !important; font-size: 125% !important; font-weight: initial !important; padding-top: 4px !important; padding-bottom: 4px !important; padding-left: 5px !important; padding-right: 5px !important; border-bottom-color: #FFFFFF !important; border-bottom-width: 0 !important; }\n",
       " #yztavjpsrl .gt_subtitle { color: #333333 !important; font-size: 85% !important; font-weight: initial !important; padding-top: 3px !important; padding-bottom: 5px !important; padding-left: 5px !important; padding-right: 5px !important; border-top-color: #FFFFFF !important; border-top-width: 0 !important; }\n",
       " #yztavjpsrl .gt_heading { background-color: #FFFFFF !important; text-align: center !important; border-bottom-color: #FFFFFF !important; border-left-style: none !important; border-left-width: 1px !important; border-left-color: #D3D3D3 !important; border-right-style: none !important; border-right-width: 1px !important; border-right-color: #D3D3D3 !important; }\n",
       " #yztavjpsrl .gt_bottom_border { border-bottom-style: solid !important; border-bottom-width: 2px !important; border-bottom-color: #D3D3D3 !important; }\n",
       " #yztavjpsrl .gt_col_headings { border-top-style: solid !important; border-top-width: 2px !important; border-top-color: #D3D3D3 !important; border-bottom-style: solid !important; border-bottom-width: 2px !important; border-bottom-color: #D3D3D3 !important; border-left-style: none !important; border-left-width: 1px !important; border-left-color: #D3D3D3 !important; border-right-style: none !important; border-right-width: 1px !important; border-right-color: #D3D3D3 !important; }\n",
       " #yztavjpsrl .gt_col_heading { color: #333333 !important; background-color: #FFFFFF !important; font-size: 100% !important; font-weight: normal !important; text-transform: inherit !important; border-left-style: none !important; border-left-width: 1px !important; border-left-color: #D3D3D3 !important; border-right-style: none !important; border-right-width: 1px !important; border-right-color: #D3D3D3 !important; vertical-align: bottom !important; padding-top: 5px !important; padding-bottom: 5px !important; padding-left: 5px !important; padding-right: 5px !important; overflow-x: hidden !important; }\n",
       " #yztavjpsrl .gt_column_spanner_outer { color: #333333 !important; background-color: #FFFFFF !important; font-size: 100% !important; font-weight: normal !important; text-transform: inherit !important; padding-top: 0 !important; padding-bottom: 0 !important; padding-left: 4px !important; padding-right: 4px !important; }\n",
       " #yztavjpsrl .gt_column_spanner_outer:first-child { padding-left: 0 !important; }\n",
       " #yztavjpsrl .gt_column_spanner_outer:last-child { padding-right: 0 !important; }\n",
       " #yztavjpsrl .gt_column_spanner { border-bottom-style: solid !important; border-bottom-width: 2px !important; border-bottom-color: #D3D3D3 !important; vertical-align: bottom !important; padding-top: 5px !important; padding-bottom: 5px !important; overflow-x: hidden !important; display: inline-block !important; width: 100% !important; }\n",
       " #yztavjpsrl .gt_spanner_row { border-bottom-style: hidden !important; }\n",
       " #yztavjpsrl .gt_group_heading { padding-top: 8px !important; padding-bottom: 8px !important; padding-left: 5px !important; padding-right: 5px !important; color: #333333 !important; background-color: #FFFFFF !important; font-size: 100% !important; font-weight: initial !important; text-transform: inherit !important; border-top-style: solid !important; border-top-width: 2px !important; border-top-color: #D3D3D3 !important; border-bottom-style: solid !important; border-bottom-width: 2px !important; border-bottom-color: #D3D3D3 !important; border-left-style: none !important; border-left-width: 1px !important; border-left-color: #D3D3D3 !important; border-right-style: none !important; border-right-width: 1px !important; border-right-color: #D3D3D3 !important; vertical-align: middle !important; text-align: left !important; }\n",
       " #yztavjpsrl .gt_empty_group_heading { padding: 0.5px !important; color: #333333 !important; background-color: #FFFFFF !important; font-size: 100% !important; font-weight: initial !important; border-top-style: solid !important; border-top-width: 2px !important; border-top-color: #D3D3D3 !important; border-bottom-style: solid !important; border-bottom-width: 2px !important; border-bottom-color: #D3D3D3 !important; vertical-align: middle !important; }\n",
       " #yztavjpsrl .gt_from_md> :first-child { margin-top: 0 !important; }\n",
       " #yztavjpsrl .gt_from_md> :last-child { margin-bottom: 0 !important; }\n",
       " #yztavjpsrl .gt_row { padding-top: 8px !important; padding-bottom: 8px !important; padding-left: 5px !important; padding-right: 5px !important; margin: 10px !important; border-top-style: solid !important; border-top-width: 1px !important; border-top-color: #D3D3D3 !important; border-left-style: none !important; border-left-width: 1px !important; border-left-color: #D3D3D3 !important; border-right-style: none !important; border-right-width: 1px !important; border-right-color: #D3D3D3 !important; vertical-align: middle !important; overflow-x: hidden !important; }\n",
       " #yztavjpsrl .gt_stub { color: #333333 !important; background-color: #FFFFFF !important; font-size: 100% !important; font-weight: initial !important; text-transform: inherit !important; border-right-style: solid !important; border-right-width: 2px !important; border-right-color: #D3D3D3 !important; padding-left: 5px !important; padding-right: 5px !important; }\n",
       " #yztavjpsrl .gt_stub_row_group { color: #333333 !important; background-color: #FFFFFF !important; font-size: 100% !important; font-weight: initial !important; text-transform: inherit !important; border-right-style: solid !important; border-right-width: 2px !important; border-right-color: #D3D3D3 !important; padding-left: 5px !important; padding-right: 5px !important; vertical-align: top !important; }\n",
       " #yztavjpsrl .gt_row_group_first td { border-top-width: 2px !important; }\n",
       " #yztavjpsrl .gt_row_group_first th { border-top-width: 2px !important; }\n",
       " #yztavjpsrl .gt_striped { background-color: rgba(128,128,128,0.05) !important; }\n",
       " #yztavjpsrl .gt_table_body { border-top-style: solid !important; border-top-width: 2px !important; border-top-color: #D3D3D3 !important; border-bottom-style: solid !important; border-bottom-width: 2px !important; border-bottom-color: #D3D3D3 !important; }\n",
       " #yztavjpsrl .gt_sourcenotes { color: #333333 !important; background-color: #FFFFFF !important; border-bottom-style: none !important; border-bottom-width: 2px !important; border-bottom-color: #D3D3D3 !important; border-left-style: none !important; border-left-width: 2px !important; border-left-color: #D3D3D3 !important; border-right-style: none !important; border-right-width: 2px !important; border-right-color: #D3D3D3 !important; }\n",
       " #yztavjpsrl .gt_sourcenote { font-size: 90% !important; padding-top: 4px !important; padding-bottom: 4px !important; padding-left: 5px !important; padding-right: 5px !important; text-align: left !important; }\n",
       " #yztavjpsrl .gt_left { text-align: left !important; }\n",
       " #yztavjpsrl .gt_center { text-align: center !important; }\n",
       " #yztavjpsrl .gt_right { text-align: right !important; font-variant-numeric: tabular-nums !important; }\n",
       " #yztavjpsrl .gt_font_normal { font-weight: normal !important; }\n",
       " #yztavjpsrl .gt_font_bold { font-weight: bold !important; }\n",
       " #yztavjpsrl .gt_font_italic { font-style: italic !important; }\n",
       " #yztavjpsrl .gt_super { font-size: 65% !important; }\n",
       " #yztavjpsrl .gt_footnote_marks { font-size: 75% !important; vertical-align: 0.4em !important; position: initial !important; }\n",
       " #yztavjpsrl .gt_asterisk { font-size: 100% !important; vertical-align: 0 !important; }\n",
       " \n",
       "</style>\n",
       "<table class=\"gt_table\" data-quarto-disable-processing=\"false\" data-quarto-bootstrap=\"false\">\n",
       "<thead>\n",
       "\n",
       "  <tr class=\"gt_heading\">\n",
       "    <td colspan=\"8\" class=\"gt_heading gt_title gt_font_normal\">Expected Number of Repeat Transactions in 2002–2006</td>\n",
       "  </tr>\n",
       "  <tr class=\"gt_heading\">\n",
       "    <td colspan=\"8\" class=\"gt_heading gt_subtitle gt_font_normal gt_bottom_border\">as a Function of Recency and Frequency</td>\n",
       "  </tr>\n",
       "<tr class=\"gt_col_headings gt_spanner_row\">\n",
       "  <th class=\"gt_col_heading gt_columns_bottom_border gt_left\" rowspan=\"2\" colspan=\"1\" scope=\"col\" id=\"P1X\">P1X</th>\n",
       "  <th class=\"gt_center gt_columns_top_border gt_column_spanner_outer\" rowspan=\"1\" colspan=\"7\" scope=\"colgroup\" id=\"Year of last transaction\">\n",
       "    <span class=\"gt_column_spanner\">Year of last transaction</span>\n",
       "  </th>\n",
       "</tr>\n",
       "<tr class=\"gt_col_headings\">\n",
       "  <th class=\"gt_col_heading gt_columns_bottom_border gt_right\" rowspan=\"1\" colspan=\"1\" scope=\"col\" id=\"1995\">1995</th>\n",
       "  <th class=\"gt_col_heading gt_columns_bottom_border gt_right\" rowspan=\"1\" colspan=\"1\" scope=\"col\" id=\"1996\">1996</th>\n",
       "  <th class=\"gt_col_heading gt_columns_bottom_border gt_right\" rowspan=\"1\" colspan=\"1\" scope=\"col\" id=\"1997\">1997</th>\n",
       "  <th class=\"gt_col_heading gt_columns_bottom_border gt_right\" rowspan=\"1\" colspan=\"1\" scope=\"col\" id=\"1998\">1998</th>\n",
       "  <th class=\"gt_col_heading gt_columns_bottom_border gt_right\" rowspan=\"1\" colspan=\"1\" scope=\"col\" id=\"1999\">1999</th>\n",
       "  <th class=\"gt_col_heading gt_columns_bottom_border gt_right\" rowspan=\"1\" colspan=\"1\" scope=\"col\" id=\"2000\">2000</th>\n",
       "  <th class=\"gt_col_heading gt_columns_bottom_border gt_right\" rowspan=\"1\" colspan=\"1\" scope=\"col\" id=\"2001\">2001</th>\n",
       "</tr>\n",
       "</thead>\n",
       "<tbody class=\"gt_table_body\">\n",
       "  <tr>\n",
       "    <th style=\"color: #000000; background-color: #ffffff;\" class=\"gt_row gt_left gt_stub\">0</th>\n",
       "    <td style=\"color: #000000; background-color: #fcfbfd;\" class=\"gt_row gt_right\">0.07</td>\n",
       "    <td style=\"color: #000000; background-color: #FFFFFF;\" class=\"gt_row gt_right\"></td>\n",
       "    <td style=\"color: #000000; background-color: #FFFFFF;\" class=\"gt_row gt_right\"></td>\n",
       "    <td style=\"color: #000000; background-color: #FFFFFF;\" class=\"gt_row gt_right\"></td>\n",
       "    <td style=\"color: #000000; background-color: #FFFFFF;\" class=\"gt_row gt_right\"></td>\n",
       "    <td style=\"color: #000000; background-color: #FFFFFF;\" class=\"gt_row gt_right\"></td>\n",
       "    <td style=\"color: #000000; background-color: #FFFFFF;\" class=\"gt_row gt_right\"></td>\n",
       "  </tr>\n",
       "  <tr>\n",
       "    <th style=\"color: #000000; background-color: #d9cce6;\" class=\"gt_row gt_left gt_stub\">1</th>\n",
       "    <td style=\"color: #000000; background-color: #FFFFFF;\" class=\"gt_row gt_right\"></td>\n",
       "    <td style=\"color: #000000; background-color: #fcfbfd;\" class=\"gt_row gt_right\">0.09</td>\n",
       "    <td style=\"color: #000000; background-color: #f3eff7;\" class=\"gt_row gt_right\">0.31</td>\n",
       "    <td style=\"color: #000000; background-color: #e8e1f0;\" class=\"gt_row gt_right\">0.59</td>\n",
       "    <td style=\"color: #000000; background-color: #dfd4ea;\" class=\"gt_row gt_right\">0.84</td>\n",
       "    <td style=\"color: #000000; background-color: #d8cbe5;\" class=\"gt_row gt_right\">1.02</td>\n",
       "    <td style=\"color: #000000; background-color: #d3c4e2;\" class=\"gt_row gt_right\">1.15</td>\n",
       "  </tr>\n",
       "  <tr>\n",
       "    <th style=\"color: #000000; background-color: #b299cc;\" class=\"gt_row gt_left gt_stub\">2</th>\n",
       "    <td style=\"color: #000000; background-color: #FFFFFF;\" class=\"gt_row gt_right\"></td>\n",
       "    <td style=\"color: #000000; background-color: #FFFFFF;\" class=\"gt_row gt_right\"></td>\n",
       "    <td style=\"color: #000000; background-color: #faf9fc;\" class=\"gt_row gt_right\">0.12</td>\n",
       "    <td style=\"color: #000000; background-color: #eae4f1;\" class=\"gt_row gt_right\">0.54</td>\n",
       "    <td style=\"color: #000000; background-color: #d7c9e4;\" class=\"gt_row gt_right\">1.06</td>\n",
       "    <td style=\"color: #000000; background-color: #c8b5da;\" class=\"gt_row gt_right\">1.44</td>\n",
       "    <td style=\"color: #000000; background-color: #bfaad4;\" class=\"gt_row gt_right\">1.67</td>\n",
       "  </tr>\n",
       "  <tr>\n",
       "    <th style=\"color: #000000; background-color: #8c66b2;\" class=\"gt_row gt_left gt_stub\">3</th>\n",
       "    <td style=\"color: #000000; background-color: #FFFFFF;\" class=\"gt_row gt_right\"></td>\n",
       "    <td style=\"color: #000000; background-color: #FFFFFF;\" class=\"gt_row gt_right\"></td>\n",
       "    <td style=\"color: #000000; background-color: #FFFFFF;\" class=\"gt_row gt_right\"></td>\n",
       "    <td style=\"color: #000000; background-color: #f6f4f9;\" class=\"gt_row gt_right\">0.22</td>\n",
       "    <td style=\"color: #000000; background-color: #d7cae5;\" class=\"gt_row gt_right\">1.03</td>\n",
       "    <td style=\"color: #000000; background-color: #baa3d1;\" class=\"gt_row gt_right\">1.80</td>\n",
       "    <td style=\"color: #000000; background-color: #ab8fc7;\" class=\"gt_row gt_right\">2.19</td>\n",
       "  </tr>\n",
       "  <tr>\n",
       "    <th style=\"color: #FFFFFF; background-color: #663399;\" class=\"gt_row gt_left gt_stub\">4</th>\n",
       "    <td style=\"color: #000000; background-color: #FFFFFF;\" class=\"gt_row gt_right\"></td>\n",
       "    <td style=\"color: #000000; background-color: #FFFFFF;\" class=\"gt_row gt_right\"></td>\n",
       "    <td style=\"color: #000000; background-color: #FFFFFF;\" class=\"gt_row gt_right\"></td>\n",
       "    <td style=\"color: #000000; background-color: #FFFFFF;\" class=\"gt_row gt_right\"></td>\n",
       "    <td style=\"color: #000000; background-color: #e9e1f0;\" class=\"gt_row gt_right\">0.58</td>\n",
       "    <td style=\"color: #000000; background-color: #b197cb;\" class=\"gt_row gt_right\">2.03</td>\n",
       "    <td style=\"color: #000000; background-color: #9775ba;\" class=\"gt_row gt_right\">2.71</td>\n",
       "  </tr>\n",
       "  <tr>\n",
       "    <th style=\"color: #000000; background-color: #FFFFFF;\" class=\"gt_row gt_left gt_stub\">5</th>\n",
       "    <td style=\"color: #000000; background-color: #FFFFFF;\" class=\"gt_row gt_right\"></td>\n",
       "    <td style=\"color: #000000; background-color: #FFFFFF;\" class=\"gt_row gt_right\"></td>\n",
       "    <td style=\"color: #000000; background-color: #FFFFFF;\" class=\"gt_row gt_right\"></td>\n",
       "    <td style=\"color: #000000; background-color: #FFFFFF;\" class=\"gt_row gt_right\"></td>\n",
       "    <td style=\"color: #000000; background-color: #FFFFFF;\" class=\"gt_row gt_right\"></td>\n",
       "    <td style=\"color: #000000; background-color: #baa3d1;\" class=\"gt_row gt_right\">1.81</td>\n",
       "    <td style=\"color: #FFFFFF; background-color: #835aad;\" class=\"gt_row gt_right\">3.23</td>\n",
       "  </tr>\n",
       "  <tr>\n",
       "    <th style=\"color: #000000; background-color: #FFFFFF;\" class=\"gt_row gt_left gt_stub\">6</th>\n",
       "    <td style=\"color: #000000; background-color: #FFFFFF;\" class=\"gt_row gt_right\"></td>\n",
       "    <td style=\"color: #000000; background-color: #FFFFFF;\" class=\"gt_row gt_right\"></td>\n",
       "    <td style=\"color: #000000; background-color: #FFFFFF;\" class=\"gt_row gt_right\"></td>\n",
       "    <td style=\"color: #000000; background-color: #FFFFFF;\" class=\"gt_row gt_right\"></td>\n",
       "    <td style=\"color: #000000; background-color: #FFFFFF;\" class=\"gt_row gt_right\"></td>\n",
       "    <td style=\"color: #000000; background-color: #FFFFFF;\" class=\"gt_row gt_right\"></td>\n",
       "    <td style=\"color: #FFFFFF; background-color: #6f409f;\" class=\"gt_row gt_right\">3.75</td>\n",
       "  </tr>\n",
       "</tbody>\n",
       "\n",
       "\n",
       "</table>\n",
       "\n",
       "</div>\n",
       "        "
      ],
      "text/plain": [
       "GT(_tbl_data=shape: (7, 8)\n",
       "┌─────┬──────────┬──────────┬──────────┬──────────┬──────────┬──────────┬──────────┐\n",
       "│ P1X ┆ 1995     ┆ 1996     ┆ 1997     ┆ 1998     ┆ 1999     ┆ 2000     ┆ 2001     │\n",
       "│ --- ┆ ---      ┆ ---      ┆ ---      ┆ ---      ┆ ---      ┆ ---      ┆ ---      │\n",
       "│ i8  ┆ f64      ┆ f64      ┆ f64      ┆ f64      ┆ f64      ┆ f64      ┆ f64      │\n",
       "╞═════╪══════════╪══════════╪══════════╪══════════╪══════════╪══════════╪══════════╡\n",
       "│ 0   ┆ 0.072866 ┆ null     ┆ null     ┆ null     ┆ null     ┆ null     ┆ null     │\n",
       "│ 1   ┆ null     ┆ 0.085697 ┆ 0.314235 ┆ 0.593841 ┆ 0.839378 ┆ 1.021669 ┆ 1.147865 │\n",
       "│ 2   ┆ null     ┆ null     ┆ 0.11912  ┆ 0.536102 ┆ 1.057584 ┆ 1.44302  ┆ 1.668796 │\n",
       "│ 3   ┆ null     ┆ null     ┆ null     ┆ 0.22359  ┆ 1.034552 ┆ 1.804678 ┆ 2.189728 │\n",
       "│ 4   ┆ null     ┆ null     ┆ null     ┆ null     ┆ 0.583176 ┆ 2.029995 ┆ 2.710659 │\n",
       "│ 5   ┆ null     ┆ null     ┆ null     ┆ null     ┆ null     ┆ 1.812904 ┆ 3.23159  │\n",
       "│ 6   ┆ null     ┆ null     ┆ null     ┆ null     ┆ null     ┆ null     ┆ 3.752522 │\n",
       "└─────┴──────────┴──────────┴──────────┴──────────┴──────────┴──────────┴──────────┘, _body=<great_tables._gt_data.Body object at 0x000002789DCE6C60>, _boxhead=Boxhead([ColInfo(var='P1X', type=<ColInfoTypeEnum.stub: 2>, column_label='P1X', column_align='right', column_width=None), ColInfo(var='1995', type=<ColInfoTypeEnum.default: 1>, column_label='1995', column_align='right', column_width=None), ColInfo(var='1996', type=<ColInfoTypeEnum.default: 1>, column_label='1996', column_align='right', column_width=None), ColInfo(var='1997', type=<ColInfoTypeEnum.default: 1>, column_label='1997', column_align='right', column_width=None), ColInfo(var='1998', type=<ColInfoTypeEnum.default: 1>, column_label='1998', column_align='right', column_width=None), ColInfo(var='1999', type=<ColInfoTypeEnum.default: 1>, column_label='1999', column_align='right', column_width=None), ColInfo(var='2000', type=<ColInfoTypeEnum.default: 1>, column_label='2000', column_align='right', column_width=None), ColInfo(var='2001', type=<ColInfoTypeEnum.default: 1>, column_label='2001', column_align='right', column_width=None)]), _stub=<great_tables._gt_data.Stub object at 0x000002789E92BF50>, _spanners=Spanners([SpannerInfo(spanner_id='Year of last transaction', spanner_level=0, spanner_label='Year of last transaction', spanner_units=None, spanner_pattern=None, vars=['1995', '1996', '1997', '1998', '1999', '2000', '2001'], built=None)]), _heading=Heading(title='Expected Number of Repeat Transactions in 2002–2006', subtitle='as a Function of Recency and Frequency', preheader=None), _stubhead='P1X', _source_notes=[], _footnotes=[], _styles=[StyleInfo(locname=LocBody(columns='P1X', rows=[0]), grpname=None, colname='P1X', rownum=0, colnum=None, styles=[CellStyleText(color='#000000', font=None, size=None, align=None, v_align=None, style=None, weight=None, stretch=None, decorate=None, transform=None, whitespace=None), CellStyleFill(color='#ffffff')]), StyleInfo(locname=LocBody(columns='P1X', rows=[1]), grpname=None, colname='P1X', rownum=1, colnum=None, styles=[CellStyleText(color='#000000', font=None, size=None, align=None, v_align=None, style=None, weight=None, stretch=None, decorate=None, transform=None, whitespace=None), CellStyleFill(color='#d9cce6')]), StyleInfo(locname=LocBody(columns='P1X', rows=[2]), grpname=None, colname='P1X', rownum=2, colnum=None, styles=[CellStyleText(color='#000000', font=None, size=None, align=None, v_align=None, style=None, weight=None, stretch=None, decorate=None, transform=None, whitespace=None), CellStyleFill(color='#b299cc')]), StyleInfo(locname=LocBody(columns='P1X', rows=[3]), grpname=None, colname='P1X', rownum=3, colnum=None, styles=[CellStyleText(color='#000000', font=None, size=None, align=None, v_align=None, style=None, weight=None, stretch=None, decorate=None, transform=None, whitespace=None), CellStyleFill(color='#8c66b2')]), StyleInfo(locname=LocBody(columns='P1X', rows=[4]), grpname=None, colname='P1X', rownum=4, colnum=None, styles=[CellStyleText(color='#FFFFFF', font=None, size=None, align=None, v_align=None, style=None, weight=None, stretch=None, decorate=None, transform=None, whitespace=None), CellStyleFill(color='#663399')]), StyleInfo(locname=LocBody(columns='P1X', rows=[5]), grpname=None, colname='P1X', rownum=5, colnum=None, styles=[CellStyleText(color='#000000', font=None, size=None, align=None, v_align=None, style=None, weight=None, stretch=None, decorate=None, transform=None, whitespace=None), CellStyleFill(color='#FFFFFF')]), StyleInfo(locname=LocBody(columns='P1X', rows=[6]), grpname=None, colname='P1X', rownum=6, colnum=None, styles=[CellStyleText(color='#000000', font=None, size=None, align=None, v_align=None, style=None, weight=None, stretch=None, decorate=None, transform=None, whitespace=None), CellStyleFill(color='#FFFFFF')]), StyleInfo(locname=LocBody(columns='1995', rows=[0]), grpname=None, colname='1995', rownum=0, colnum=None, styles=[CellStyleText(color='#000000', font=None, size=None, align=None, v_align=None, style=None, weight=None, stretch=None, decorate=None, transform=None, whitespace=None), CellStyleFill(color='#fcfbfd')]), StyleInfo(locname=LocBody(columns='1995', rows=[1]), grpname=None, colname='1995', rownum=1, colnum=None, styles=[CellStyleText(color='#000000', font=None, size=None, align=None, v_align=None, style=None, weight=None, stretch=None, decorate=None, transform=None, whitespace=None), CellStyleFill(color='#FFFFFF')]), StyleInfo(locname=LocBody(columns='1995', rows=[2]), grpname=None, colname='1995', rownum=2, colnum=None, styles=[CellStyleText(color='#000000', font=None, size=None, align=None, v_align=None, style=None, weight=None, stretch=None, decorate=None, transform=None, whitespace=None), CellStyleFill(color='#FFFFFF')]), StyleInfo(locname=LocBody(columns='1995', rows=[3]), grpname=None, colname='1995', rownum=3, colnum=None, styles=[CellStyleText(color='#000000', font=None, size=None, align=None, v_align=None, style=None, weight=None, stretch=None, decorate=None, transform=None, whitespace=None), CellStyleFill(color='#FFFFFF')]), StyleInfo(locname=LocBody(columns='1995', rows=[4]), grpname=None, colname='1995', rownum=4, colnum=None, styles=[CellStyleText(color='#000000', font=None, size=None, align=None, v_align=None, style=None, weight=None, stretch=None, decorate=None, transform=None, whitespace=None), CellStyleFill(color='#FFFFFF')]), StyleInfo(locname=LocBody(columns='1995', rows=[5]), grpname=None, colname='1995', rownum=5, colnum=None, styles=[CellStyleText(color='#000000', font=None, size=None, align=None, v_align=None, style=None, weight=None, stretch=None, decorate=None, transform=None, whitespace=None), CellStyleFill(color='#FFFFFF')]), StyleInfo(locname=LocBody(columns='1995', rows=[6]), grpname=None, colname='1995', rownum=6, colnum=None, styles=[CellStyleText(color='#000000', font=None, size=None, align=None, v_align=None, style=None, weight=None, stretch=None, decorate=None, transform=None, whitespace=None), CellStyleFill(color='#FFFFFF')]), StyleInfo(locname=LocBody(columns='1996', rows=[0]), grpname=None, colname='1996', rownum=0, colnum=None, styles=[CellStyleText(color='#000000', font=None, size=None, align=None, v_align=None, style=None, weight=None, stretch=None, decorate=None, transform=None, whitespace=None), CellStyleFill(color='#FFFFFF')]), StyleInfo(locname=LocBody(columns='1996', rows=[1]), grpname=None, colname='1996', rownum=1, colnum=None, styles=[CellStyleText(color='#000000', font=None, size=None, align=None, v_align=None, style=None, weight=None, stretch=None, decorate=None, transform=None, whitespace=None), CellStyleFill(color='#fcfbfd')]), StyleInfo(locname=LocBody(columns='1996', rows=[2]), grpname=None, colname='1996', rownum=2, colnum=None, styles=[CellStyleText(color='#000000', font=None, size=None, align=None, v_align=None, style=None, weight=None, stretch=None, decorate=None, transform=None, whitespace=None), CellStyleFill(color='#FFFFFF')]), StyleInfo(locname=LocBody(columns='1996', rows=[3]), grpname=None, colname='1996', rownum=3, colnum=None, styles=[CellStyleText(color='#000000', font=None, size=None, align=None, v_align=None, style=None, weight=None, stretch=None, decorate=None, transform=None, whitespace=None), CellStyleFill(color='#FFFFFF')]), StyleInfo(locname=LocBody(columns='1996', rows=[4]), grpname=None, colname='1996', rownum=4, colnum=None, styles=[CellStyleText(color='#000000', font=None, size=None, align=None, v_align=None, style=None, weight=None, stretch=None, decorate=None, transform=None, whitespace=None), CellStyleFill(color='#FFFFFF')]), StyleInfo(locname=LocBody(columns='1996', rows=[5]), grpname=None, colname='1996', rownum=5, colnum=None, styles=[CellStyleText(color='#000000', font=None, size=None, align=None, v_align=None, style=None, weight=None, stretch=None, decorate=None, transform=None, whitespace=None), CellStyleFill(color='#FFFFFF')]), StyleInfo(locname=LocBody(columns='1996', rows=[6]), grpname=None, colname='1996', rownum=6, colnum=None, styles=[CellStyleText(color='#000000', font=None, size=None, align=None, v_align=None, style=None, weight=None, stretch=None, decorate=None, transform=None, whitespace=None), CellStyleFill(color='#FFFFFF')]), StyleInfo(locname=LocBody(columns='1997', rows=[0]), grpname=None, colname='1997', rownum=0, colnum=None, styles=[CellStyleText(color='#000000', font=None, size=None, align=None, v_align=None, style=None, weight=None, stretch=None, decorate=None, transform=None, whitespace=None), CellStyleFill(color='#FFFFFF')]), StyleInfo(locname=LocBody(columns='1997', rows=[1]), grpname=None, colname='1997', rownum=1, colnum=None, styles=[CellStyleText(color='#000000', font=None, size=None, align=None, v_align=None, style=None, weight=None, stretch=None, decorate=None, transform=None, whitespace=None), CellStyleFill(color='#f3eff7')]), StyleInfo(locname=LocBody(columns='1997', rows=[2]), grpname=None, colname='1997', rownum=2, colnum=None, styles=[CellStyleText(color='#000000', font=None, size=None, align=None, v_align=None, style=None, weight=None, stretch=None, decorate=None, transform=None, whitespace=None), CellStyleFill(color='#faf9fc')]), StyleInfo(locname=LocBody(columns='1997', rows=[3]), grpname=None, colname='1997', rownum=3, colnum=None, styles=[CellStyleText(color='#000000', font=None, size=None, align=None, v_align=None, style=None, weight=None, stretch=None, decorate=None, transform=None, whitespace=None), CellStyleFill(color='#FFFFFF')]), StyleInfo(locname=LocBody(columns='1997', rows=[4]), grpname=None, colname='1997', rownum=4, colnum=None, styles=[CellStyleText(color='#000000', font=None, size=None, align=None, v_align=None, style=None, weight=None, stretch=None, decorate=None, transform=None, whitespace=None), CellStyleFill(color='#FFFFFF')]), StyleInfo(locname=LocBody(columns='1997', rows=[5]), grpname=None, colname='1997', rownum=5, colnum=None, styles=[CellStyleText(color='#000000', font=None, size=None, align=None, v_align=None, style=None, weight=None, stretch=None, decorate=None, transform=None, whitespace=None), CellStyleFill(color='#FFFFFF')]), StyleInfo(locname=LocBody(columns='1997', rows=[6]), grpname=None, colname='1997', rownum=6, colnum=None, styles=[CellStyleText(color='#000000', font=None, size=None, align=None, v_align=None, style=None, weight=None, stretch=None, decorate=None, transform=None, whitespace=None), CellStyleFill(color='#FFFFFF')]), StyleInfo(locname=LocBody(columns='1998', rows=[0]), grpname=None, colname='1998', rownum=0, colnum=None, styles=[CellStyleText(color='#000000', font=None, size=None, align=None, v_align=None, style=None, weight=None, stretch=None, decorate=None, transform=None, whitespace=None), CellStyleFill(color='#FFFFFF')]), StyleInfo(locname=LocBody(columns='1998', rows=[1]), grpname=None, colname='1998', rownum=1, colnum=None, styles=[CellStyleText(color='#000000', font=None, size=None, align=None, v_align=None, style=None, weight=None, stretch=None, decorate=None, transform=None, whitespace=None), CellStyleFill(color='#e8e1f0')]), StyleInfo(locname=LocBody(columns='1998', rows=[2]), grpname=None, colname='1998', rownum=2, colnum=None, styles=[CellStyleText(color='#000000', font=None, size=None, align=None, v_align=None, style=None, weight=None, stretch=None, decorate=None, transform=None, whitespace=None), CellStyleFill(color='#eae4f1')]), StyleInfo(locname=LocBody(columns='1998', rows=[3]), grpname=None, colname='1998', rownum=3, colnum=None, styles=[CellStyleText(color='#000000', font=None, size=None, align=None, v_align=None, style=None, weight=None, stretch=None, decorate=None, transform=None, whitespace=None), CellStyleFill(color='#f6f4f9')]), StyleInfo(locname=LocBody(columns='1998', rows=[4]), grpname=None, colname='1998', rownum=4, colnum=None, styles=[CellStyleText(color='#000000', font=None, size=None, align=None, v_align=None, style=None, weight=None, stretch=None, decorate=None, transform=None, whitespace=None), CellStyleFill(color='#FFFFFF')]), StyleInfo(locname=LocBody(columns='1998', rows=[5]), grpname=None, colname='1998', rownum=5, colnum=None, styles=[CellStyleText(color='#000000', font=None, size=None, align=None, v_align=None, style=None, weight=None, stretch=None, decorate=None, transform=None, whitespace=None), CellStyleFill(color='#FFFFFF')]), StyleInfo(locname=LocBody(columns='1998', rows=[6]), grpname=None, colname='1998', rownum=6, colnum=None, styles=[CellStyleText(color='#000000', font=None, size=None, align=None, v_align=None, style=None, weight=None, stretch=None, decorate=None, transform=None, whitespace=None), CellStyleFill(color='#FFFFFF')]), StyleInfo(locname=LocBody(columns='1999', rows=[0]), grpname=None, colname='1999', rownum=0, colnum=None, styles=[CellStyleText(color='#000000', font=None, size=None, align=None, v_align=None, style=None, weight=None, stretch=None, decorate=None, transform=None, whitespace=None), CellStyleFill(color='#FFFFFF')]), StyleInfo(locname=LocBody(columns='1999', rows=[1]), grpname=None, colname='1999', rownum=1, colnum=None, styles=[CellStyleText(color='#000000', font=None, size=None, align=None, v_align=None, style=None, weight=None, stretch=None, decorate=None, transform=None, whitespace=None), CellStyleFill(color='#dfd4ea')]), StyleInfo(locname=LocBody(columns='1999', rows=[2]), grpname=None, colname='1999', rownum=2, colnum=None, styles=[CellStyleText(color='#000000', font=None, size=None, align=None, v_align=None, style=None, weight=None, stretch=None, decorate=None, transform=None, whitespace=None), CellStyleFill(color='#d7c9e4')]), StyleInfo(locname=LocBody(columns='1999', rows=[3]), grpname=None, colname='1999', rownum=3, colnum=None, styles=[CellStyleText(color='#000000', font=None, size=None, align=None, v_align=None, style=None, weight=None, stretch=None, decorate=None, transform=None, whitespace=None), CellStyleFill(color='#d7cae5')]), StyleInfo(locname=LocBody(columns='1999', rows=[4]), grpname=None, colname='1999', rownum=4, colnum=None, styles=[CellStyleText(color='#000000', font=None, size=None, align=None, v_align=None, style=None, weight=None, stretch=None, decorate=None, transform=None, whitespace=None), CellStyleFill(color='#e9e1f0')]), StyleInfo(locname=LocBody(columns='1999', rows=[5]), grpname=None, colname='1999', rownum=5, colnum=None, styles=[CellStyleText(color='#000000', font=None, size=None, align=None, v_align=None, style=None, weight=None, stretch=None, decorate=None, transform=None, whitespace=None), CellStyleFill(color='#FFFFFF')]), StyleInfo(locname=LocBody(columns='1999', rows=[6]), grpname=None, colname='1999', rownum=6, colnum=None, styles=[CellStyleText(color='#000000', font=None, size=None, align=None, v_align=None, style=None, weight=None, stretch=None, decorate=None, transform=None, whitespace=None), CellStyleFill(color='#FFFFFF')]), StyleInfo(locname=LocBody(columns='2000', rows=[0]), grpname=None, colname='2000', rownum=0, colnum=None, styles=[CellStyleText(color='#000000', font=None, size=None, align=None, v_align=None, style=None, weight=None, stretch=None, decorate=None, transform=None, whitespace=None), CellStyleFill(color='#FFFFFF')]), StyleInfo(locname=LocBody(columns='2000', rows=[1]), grpname=None, colname='2000', rownum=1, colnum=None, styles=[CellStyleText(color='#000000', font=None, size=None, align=None, v_align=None, style=None, weight=None, stretch=None, decorate=None, transform=None, whitespace=None), CellStyleFill(color='#d8cbe5')]), StyleInfo(locname=LocBody(columns='2000', rows=[2]), grpname=None, colname='2000', rownum=2, colnum=None, styles=[CellStyleText(color='#000000', font=None, size=None, align=None, v_align=None, style=None, weight=None, stretch=None, decorate=None, transform=None, whitespace=None), CellStyleFill(color='#c8b5da')]), StyleInfo(locname=LocBody(columns='2000', rows=[3]), grpname=None, colname='2000', rownum=3, colnum=None, styles=[CellStyleText(color='#000000', font=None, size=None, align=None, v_align=None, style=None, weight=None, stretch=None, decorate=None, transform=None, whitespace=None), CellStyleFill(color='#baa3d1')]), StyleInfo(locname=LocBody(columns='2000', rows=[4]), grpname=None, colname='2000', rownum=4, colnum=None, styles=[CellStyleText(color='#000000', font=None, size=None, align=None, v_align=None, style=None, weight=None, stretch=None, decorate=None, transform=None, whitespace=None), CellStyleFill(color='#b197cb')]), StyleInfo(locname=LocBody(columns='2000', rows=[5]), grpname=None, colname='2000', rownum=5, colnum=None, styles=[CellStyleText(color='#000000', font=None, size=None, align=None, v_align=None, style=None, weight=None, stretch=None, decorate=None, transform=None, whitespace=None), CellStyleFill(color='#baa3d1')]), StyleInfo(locname=LocBody(columns='2000', rows=[6]), grpname=None, colname='2000', rownum=6, colnum=None, styles=[CellStyleText(color='#000000', font=None, size=None, align=None, v_align=None, style=None, weight=None, stretch=None, decorate=None, transform=None, whitespace=None), CellStyleFill(color='#FFFFFF')]), StyleInfo(locname=LocBody(columns='2001', rows=[0]), grpname=None, colname='2001', rownum=0, colnum=None, styles=[CellStyleText(color='#000000', font=None, size=None, align=None, v_align=None, style=None, weight=None, stretch=None, decorate=None, transform=None, whitespace=None), CellStyleFill(color='#FFFFFF')]), StyleInfo(locname=LocBody(columns='2001', rows=[1]), grpname=None, colname='2001', rownum=1, colnum=None, styles=[CellStyleText(color='#000000', font=None, size=None, align=None, v_align=None, style=None, weight=None, stretch=None, decorate=None, transform=None, whitespace=None), CellStyleFill(color='#d3c4e2')]), StyleInfo(locname=LocBody(columns='2001', rows=[2]), grpname=None, colname='2001', rownum=2, colnum=None, styles=[CellStyleText(color='#000000', font=None, size=None, align=None, v_align=None, style=None, weight=None, stretch=None, decorate=None, transform=None, whitespace=None), CellStyleFill(color='#bfaad4')]), StyleInfo(locname=LocBody(columns='2001', rows=[3]), grpname=None, colname='2001', rownum=3, colnum=None, styles=[CellStyleText(color='#000000', font=None, size=None, align=None, v_align=None, style=None, weight=None, stretch=None, decorate=None, transform=None, whitespace=None), CellStyleFill(color='#ab8fc7')]), StyleInfo(locname=LocBody(columns='2001', rows=[4]), grpname=None, colname='2001', rownum=4, colnum=None, styles=[CellStyleText(color='#000000', font=None, size=None, align=None, v_align=None, style=None, weight=None, stretch=None, decorate=None, transform=None, whitespace=None), CellStyleFill(color='#9775ba')]), StyleInfo(locname=LocBody(columns='2001', rows=[5]), grpname=None, colname='2001', rownum=5, colnum=None, styles=[CellStyleText(color='#FFFFFF', font=None, size=None, align=None, v_align=None, style=None, weight=None, stretch=None, decorate=None, transform=None, whitespace=None), CellStyleFill(color='#835aad')]), StyleInfo(locname=LocBody(columns='2001', rows=[6]), grpname=None, colname='2001', rownum=6, colnum=None, styles=[CellStyleText(color='#FFFFFF', font=None, size=None, align=None, v_align=None, style=None, weight=None, stretch=None, decorate=None, transform=None, whitespace=None), CellStyleFill(color='#6f409f')])], _locale=<great_tables._gt_data.Locale object at 0x000002789DCE4920>, _formats=[<great_tables._gt_data.FormatInfo object at 0x000002789E544980>], _substitutions=[<great_tables._gt_data.FormatInfo object at 0x000002789E933D70>], _options=Options(table_id=OptionsInfo(scss=False, category='table', type='value', value=None), table_caption=OptionsInfo(scss=False, category='table', type='value', value=None), table_width=OptionsInfo(scss=True, category='table', type='px', value='auto'), table_layout=OptionsInfo(scss=True, category='table', type='value', value='fixed'), table_margin_left=OptionsInfo(scss=True, category='table', type='px', value='auto'), table_margin_right=OptionsInfo(scss=True, category='table', type='px', value='auto'), table_background_color=OptionsInfo(scss=True, category='table', type='value', value='#FFFFFF'), table_additional_css=OptionsInfo(scss=False, category='table', type='values', value=[]), table_font_names=OptionsInfo(scss=False, category='table', type='values', value=['-apple-system', 'BlinkMacSystemFont', 'Segoe UI', 'Roboto', 'Oxygen', 'Ubuntu', 'Cantarell', 'Helvetica Neue', 'Fira Sans', 'Droid Sans', 'Arial', 'sans-serif']), table_font_size=OptionsInfo(scss=True, category='table', type='px', value='16px'), table_font_weight=OptionsInfo(scss=True, category='table', type='value', value='normal'), table_font_style=OptionsInfo(scss=True, category='table', type='value', value='normal'), table_font_color=OptionsInfo(scss=True, category='table', type='value', value='#333333'), table_font_color_light=OptionsInfo(scss=True, category='table', type='value', value='#FFFFFF'), table_border_top_include=OptionsInfo(scss=False, category='table', type='boolean', value=True), table_border_top_style=OptionsInfo(scss=True, category='table', type='value', value='solid'), table_border_top_width=OptionsInfo(scss=True, category='table', type='px', value='2px'), table_border_top_color=OptionsInfo(scss=True, category='table', type='value', value='#A8A8A8'), table_border_right_style=OptionsInfo(scss=True, category='table', type='value', value='none'), table_border_right_width=OptionsInfo(scss=True, category='table', type='px', value='2px'), table_border_right_color=OptionsInfo(scss=True, category='table', type='value', value='#D3D3D3'), table_border_bottom_include=OptionsInfo(scss=False, category='table', type='boolean', value=True), table_border_bottom_style=OptionsInfo(scss=True, category='table', type='value', value='solid'), table_border_bottom_width=OptionsInfo(scss=True, category='table', type='px', value='2px'), table_border_bottom_color=OptionsInfo(scss=True, category='table', type='value', value='#A8A8A8'), table_border_left_style=OptionsInfo(scss=True, category='table', type='value', value='none'), table_border_left_width=OptionsInfo(scss=True, category='table', type='px', value='2px'), table_border_left_color=OptionsInfo(scss=True, category='table', type='value', value='#D3D3D3'), heading_background_color=OptionsInfo(scss=True, category='heading', type='value', value=None), heading_align=OptionsInfo(scss=True, category='heading', type='value', value='center'), heading_title_font_size=OptionsInfo(scss=True, category='heading', type='px', value='125%'), heading_title_font_weight=OptionsInfo(scss=True, category='heading', type='value', value='initial'), heading_subtitle_font_size=OptionsInfo(scss=True, category='heading', type='px', value='85%'), heading_subtitle_font_weight=OptionsInfo(scss=True, category='heading', type='value', value='initial'), heading_padding=OptionsInfo(scss=True, category='heading', type='px', value='4px'), heading_padding_horizontal=OptionsInfo(scss=True, category='heading', type='px', value='5px'), heading_border_bottom_style=OptionsInfo(scss=True, category='heading', type='value', value='solid'), heading_border_bottom_width=OptionsInfo(scss=True, category='heading', type='px', value='2px'), heading_border_bottom_color=OptionsInfo(scss=True, category='heading', type='value', value='#D3D3D3'), heading_border_lr_style=OptionsInfo(scss=True, category='heading', type='value', value='none'), heading_border_lr_width=OptionsInfo(scss=True, category='heading', type='px', value='1px'), heading_border_lr_color=OptionsInfo(scss=True, category='heading', type='value', value='#D3D3D3'), column_labels_background_color=OptionsInfo(scss=True, category='column_labels', type='value', value=None), column_labels_font_size=OptionsInfo(scss=True, category='column_labels', type='px', value='100%'), column_labels_font_weight=OptionsInfo(scss=True, category='column_labels', type='value', value='normal'), column_labels_text_transform=OptionsInfo(scss=True, category='column_labels', type='value', value='inherit'), column_labels_padding=OptionsInfo(scss=True, category='column_labels', type='px', value='5px'), column_labels_padding_horizontal=OptionsInfo(scss=True, category='column_labels', type='px', value='5px'), column_labels_vlines_style=OptionsInfo(scss=True, category='table_body', type='value', value='none'), column_labels_vlines_width=OptionsInfo(scss=True, category='table_body', type='px', value='1px'), column_labels_vlines_color=OptionsInfo(scss=True, category='table_body', type='value', value='#D3D3D3'), column_labels_border_top_style=OptionsInfo(scss=True, category='column_labels', type='value', value='solid'), column_labels_border_top_width=OptionsInfo(scss=True, category='column_labels', type='px', value='2px'), column_labels_border_top_color=OptionsInfo(scss=True, category='column_labels', type='value', value='#D3D3D3'), column_labels_border_bottom_style=OptionsInfo(scss=True, category='column_labels', type='value', value='solid'), column_labels_border_bottom_width=OptionsInfo(scss=True, category='column_labels', type='px', value='2px'), column_labels_border_bottom_color=OptionsInfo(scss=True, category='column_labels', type='value', value='#D3D3D3'), column_labels_border_lr_style=OptionsInfo(scss=True, category='column_labels', type='value', value='none'), column_labels_border_lr_width=OptionsInfo(scss=True, category='column_labels', type='px', value='1px'), column_labels_border_lr_color=OptionsInfo(scss=True, category='column_labels', type='value', value='#D3D3D3'), column_labels_hidden=OptionsInfo(scss=False, category='column_labels', type='boolean', value=False), row_group_background_color=OptionsInfo(scss=True, category='row_group', type='value', value=None), row_group_font_size=OptionsInfo(scss=True, category='row_group', type='px', value='100%'), row_group_font_weight=OptionsInfo(scss=True, category='row_group', type='value', value='initial'), row_group_text_transform=OptionsInfo(scss=True, category='row_group', type='value', value='inherit'), row_group_padding=OptionsInfo(scss=True, category='row_group', type='px', value='8px'), row_group_padding_horizontal=OptionsInfo(scss=True, category='row_group', type='px', value='5px'), row_group_border_top_style=OptionsInfo(scss=True, category='row_group', type='value', value='solid'), row_group_border_top_width=OptionsInfo(scss=True, category='row_group', type='px', value='2px'), row_group_border_top_color=OptionsInfo(scss=True, category='row_group', type='value', value='#D3D3D3'), row_group_border_right_style=OptionsInfo(scss=True, category='row_group', type='value', value='none'), row_group_border_right_width=OptionsInfo(scss=True, category='row_group', type='px', value='1px'), row_group_border_right_color=OptionsInfo(scss=True, category='row_group', type='value', value='#D3D3D3'), row_group_border_bottom_style=OptionsInfo(scss=True, category='row_group', type='value', value='solid'), row_group_border_bottom_width=OptionsInfo(scss=True, category='row_group', type='px', value='2px'), row_group_border_bottom_color=OptionsInfo(scss=True, category='row_group', type='value', value='#D3D3D3'), row_group_border_left_style=OptionsInfo(scss=True, category='row_group', type='value', value='none'), row_group_border_left_width=OptionsInfo(scss=True, category='row_group', type='px', value='1px'), row_group_border_left_color=OptionsInfo(scss=True, category='row_group', type='value', value='#D3D3D3'), row_group_as_column=OptionsInfo(scss=False, category='row_group', type='boolean', value=False), table_body_hlines_style=OptionsInfo(scss=True, category='table_body', type='value', value='solid'), table_body_hlines_width=OptionsInfo(scss=True, category='table_body', type='px', value='1px'), table_body_hlines_color=OptionsInfo(scss=True, category='table_body', type='value', value='#D3D3D3'), table_body_vlines_style=OptionsInfo(scss=True, category='table_body', type='value', value='none'), table_body_vlines_width=OptionsInfo(scss=True, category='table_body', type='px', value='1px'), table_body_vlines_color=OptionsInfo(scss=True, category='table_body', type='value', value='#D3D3D3'), table_body_border_top_style=OptionsInfo(scss=True, category='table_body', type='value', value='solid'), table_body_border_top_width=OptionsInfo(scss=True, category='table_body', type='px', value='2px'), table_body_border_top_color=OptionsInfo(scss=True, category='table_body', type='value', value='#D3D3D3'), table_body_border_bottom_style=OptionsInfo(scss=True, category='table_body', type='value', value='solid'), table_body_border_bottom_width=OptionsInfo(scss=True, category='table_body', type='px', value='2px'), table_body_border_bottom_color=OptionsInfo(scss=True, category='table_body', type='value', value='#D3D3D3'), data_row_padding=OptionsInfo(scss=True, category='data_row', type='px', value='8px'), data_row_padding_horizontal=OptionsInfo(scss=True, category='data_row', type='px', value='5px'), stub_background_color=OptionsInfo(scss=True, category='stub', type='value', value=None), stub_font_size=OptionsInfo(scss=True, category='stub', type='px', value='100%'), stub_font_weight=OptionsInfo(scss=True, category='stub', type='value', value='initial'), stub_text_transform=OptionsInfo(scss=True, category='stub', type='value', value='inherit'), stub_border_style=OptionsInfo(scss=True, category='stub', type='value', value='solid'), stub_border_width=OptionsInfo(scss=True, category='stub', type='px', value='2px'), stub_border_color=OptionsInfo(scss=True, category='stub', type='value', value='#D3D3D3'), stub_row_group_background_color=OptionsInfo(scss=True, category='stub', type='value', value=None), stub_row_group_font_size=OptionsInfo(scss=True, category='stub', type='px', value='100%'), stub_row_group_font_weight=OptionsInfo(scss=True, category='stub', type='value', value='initial'), stub_row_group_text_transform=OptionsInfo(scss=True, category='stub', type='value', value='inherit'), stub_row_group_border_style=OptionsInfo(scss=True, category='stub', type='value', value='solid'), stub_row_group_border_width=OptionsInfo(scss=True, category='stub', type='px', value='2px'), stub_row_group_border_color=OptionsInfo(scss=True, category='stub', type='value', value='#D3D3D3'), source_notes_padding=OptionsInfo(scss=True, category='source_notes', type='px', value='4px'), source_notes_padding_horizontal=OptionsInfo(scss=True, category='source_notes', type='px', value='5px'), source_notes_background_color=OptionsInfo(scss=True, category='source_notes', type='value', value=None), source_notes_font_size=OptionsInfo(scss=True, category='source_notes', type='px', value='90%'), source_notes_border_bottom_style=OptionsInfo(scss=True, category='source_notes', type='value', value='none'), source_notes_border_bottom_width=OptionsInfo(scss=True, category='source_notes', type='px', value='2px'), source_notes_border_bottom_color=OptionsInfo(scss=True, category='source_notes', type='value', value='#D3D3D3'), source_notes_border_lr_style=OptionsInfo(scss=True, category='source_notes', type='value', value='none'), source_notes_border_lr_width=OptionsInfo(scss=True, category='source_notes', type='px', value='2px'), source_notes_border_lr_color=OptionsInfo(scss=True, category='source_notes', type='value', value='#D3D3D3'), source_notes_multiline=OptionsInfo(scss=False, category='source_notes', type='boolean', value=True), source_notes_sep=OptionsInfo(scss=False, category='source_notes', type='value', value=' '), row_striping_background_color=OptionsInfo(scss=True, category='row', type='value', value='rgba(128,128,128,0.05)'), row_striping_include_stub=OptionsInfo(scss=False, category='row', type='boolean', value=False), row_striping_include_table_body=OptionsInfo(scss=False, category='row', type='boolean', value=False), container_width=OptionsInfo(scss=False, category='container', type='px', value='auto'), container_height=OptionsInfo(scss=False, category='container', type='px', value='auto'), container_padding_x=OptionsInfo(scss=False, category='container', type='px', value='0px'), container_padding_y=OptionsInfo(scss=False, category='container', type='px', value='10px'), container_overflow_x=OptionsInfo(scss=False, category='container', type='overflow', value='auto'), container_overflow_y=OptionsInfo(scss=False, category='container', type='overflow', value='auto'), quarto_disable_processing=OptionsInfo(scss=False, category='quarto', type='logical', value=False), quarto_use_bootstrap=OptionsInfo(scss=False, category='quarto', type='logical', value=False)), _has_built=False)"
      ]
     },
     "execution_count": 33,
     "metadata": {},
     "output_type": "execute_result"
    }
   ],
   "source": [
    "tx_year_map = {tx: int(year) for tx, year in enumerate(years)}\n",
    "\n",
    "(\n",
    "    ce_df\n",
    "    .with_columns(pl.col(\"t_x\").replace(tx_year_map).alias(\"Year\"))\n",
    "    .sort('Year')\n",
    "    .pivot(on='Year', index='P1X', values='Conditional Expectation')\n",
    "    .sort('P1X')\n",
    "    .style.tab_header(title=\"Expected Number of Repeat Transactions in 2002–2006\", subtitle='as a Function of Recency and Frequency')\n",
    "    .tab_stub(rowname_col=\"P1X\")\n",
    "    .tab_stubhead(label='P1X')\n",
    "    .fmt_number(decimals=2)   \n",
    "    .tab_spanner(\n",
    "        label=\"Year of last transaction\",\n",
    "        columns=years[:7]\n",
    "    ).data_color(\n",
    "        domain=[0, 4],\n",
    "        palette=[\"white\", \"rebeccapurple\"],\n",
    "        na_color=\"white\",\n",
    "    ).sub_missing(\n",
    "        columns=pl.col('*'),\n",
    "        missing_text=\"\"\n",
    "    )    \n",
    ")"
   ]
  },
  {
   "cell_type": "markdown",
   "metadata": {},
   "source": [
    "### P(Alive) as a Function of Recency and Frequency"
   ]
  },
  {
   "cell_type": "code",
   "execution_count": 14,
   "metadata": {},
   "outputs": [
    {
     "data": {
      "text/html": [
       "<div id=\"qkscffboxd\" style=\"padding-left:0px;padding-right:0px;padding-top:10px;padding-bottom:10px;overflow-x:auto;overflow-y:auto;width:auto;height:auto;\">\n",
       "<style>\n",
       "#qkscffboxd table {\n",
       "          font-family: -apple-system, BlinkMacSystemFont, 'Segoe UI', Roboto, Oxygen, Ubuntu, Cantarell, 'Helvetica Neue', 'Fira Sans', 'Droid Sans', Arial, sans-serif;\n",
       "          -webkit-font-smoothing: antialiased;\n",
       "          -moz-osx-font-smoothing: grayscale;\n",
       "        }\n",
       "\n",
       "#qkscffboxd thead, tbody, tfoot, tr, td, th { border-style: none !important; }\n",
       " tr { background-color: transparent !important; }\n",
       "#qkscffboxd p { margin: 0 !important; padding: 0 !important; }\n",
       " #qkscffboxd .gt_table { display: table !important; border-collapse: collapse !important; line-height: normal !important; margin-left: auto !important; margin-right: auto !important; color: #333333 !important; font-size: 16px !important; font-weight: normal !important; font-style: normal !important; background-color: #FFFFFF !important; width: auto !important; border-top-style: solid !important; border-top-width: 2px !important; border-top-color: #A8A8A8 !important; border-right-style: none !important; border-right-width: 2px !important; border-right-color: #D3D3D3 !important; border-bottom-style: solid !important; border-bottom-width: 2px !important; border-bottom-color: #A8A8A8 !important; border-left-style: none !important; border-left-width: 2px !important; border-left-color: #D3D3D3 !important; }\n",
       " #qkscffboxd .gt_caption { padding-top: 4px !important; padding-bottom: 4px !important; }\n",
       " #qkscffboxd .gt_title { color: #333333 !important; font-size: 125% !important; font-weight: initial !important; padding-top: 4px !important; padding-bottom: 4px !important; padding-left: 5px !important; padding-right: 5px !important; border-bottom-color: #FFFFFF !important; border-bottom-width: 0 !important; }\n",
       " #qkscffboxd .gt_subtitle { color: #333333 !important; font-size: 85% !important; font-weight: initial !important; padding-top: 3px !important; padding-bottom: 5px !important; padding-left: 5px !important; padding-right: 5px !important; border-top-color: #FFFFFF !important; border-top-width: 0 !important; }\n",
       " #qkscffboxd .gt_heading { background-color: #FFFFFF !important; text-align: center !important; border-bottom-color: #FFFFFF !important; border-left-style: none !important; border-left-width: 1px !important; border-left-color: #D3D3D3 !important; border-right-style: none !important; border-right-width: 1px !important; border-right-color: #D3D3D3 !important; }\n",
       " #qkscffboxd .gt_bottom_border { border-bottom-style: solid !important; border-bottom-width: 2px !important; border-bottom-color: #D3D3D3 !important; }\n",
       " #qkscffboxd .gt_col_headings { border-top-style: solid !important; border-top-width: 2px !important; border-top-color: #D3D3D3 !important; border-bottom-style: solid !important; border-bottom-width: 2px !important; border-bottom-color: #D3D3D3 !important; border-left-style: none !important; border-left-width: 1px !important; border-left-color: #D3D3D3 !important; border-right-style: none !important; border-right-width: 1px !important; border-right-color: #D3D3D3 !important; }\n",
       " #qkscffboxd .gt_col_heading { color: #333333 !important; background-color: #FFFFFF !important; font-size: 100% !important; font-weight: normal !important; text-transform: inherit !important; border-left-style: none !important; border-left-width: 1px !important; border-left-color: #D3D3D3 !important; border-right-style: none !important; border-right-width: 1px !important; border-right-color: #D3D3D3 !important; vertical-align: bottom !important; padding-top: 5px !important; padding-bottom: 5px !important; padding-left: 5px !important; padding-right: 5px !important; overflow-x: hidden !important; }\n",
       " #qkscffboxd .gt_column_spanner_outer { color: #333333 !important; background-color: #FFFFFF !important; font-size: 100% !important; font-weight: normal !important; text-transform: inherit !important; padding-top: 0 !important; padding-bottom: 0 !important; padding-left: 4px !important; padding-right: 4px !important; }\n",
       " #qkscffboxd .gt_column_spanner_outer:first-child { padding-left: 0 !important; }\n",
       " #qkscffboxd .gt_column_spanner_outer:last-child { padding-right: 0 !important; }\n",
       " #qkscffboxd .gt_column_spanner { border-bottom-style: solid !important; border-bottom-width: 2px !important; border-bottom-color: #D3D3D3 !important; vertical-align: bottom !important; padding-top: 5px !important; padding-bottom: 5px !important; overflow-x: hidden !important; display: inline-block !important; width: 100% !important; }\n",
       " #qkscffboxd .gt_spanner_row { border-bottom-style: hidden !important; }\n",
       " #qkscffboxd .gt_group_heading { padding-top: 8px !important; padding-bottom: 8px !important; padding-left: 5px !important; padding-right: 5px !important; color: #333333 !important; background-color: #FFFFFF !important; font-size: 100% !important; font-weight: initial !important; text-transform: inherit !important; border-top-style: solid !important; border-top-width: 2px !important; border-top-color: #D3D3D3 !important; border-bottom-style: solid !important; border-bottom-width: 2px !important; border-bottom-color: #D3D3D3 !important; border-left-style: none !important; border-left-width: 1px !important; border-left-color: #D3D3D3 !important; border-right-style: none !important; border-right-width: 1px !important; border-right-color: #D3D3D3 !important; vertical-align: middle !important; text-align: left !important; }\n",
       " #qkscffboxd .gt_empty_group_heading { padding: 0.5px !important; color: #333333 !important; background-color: #FFFFFF !important; font-size: 100% !important; font-weight: initial !important; border-top-style: solid !important; border-top-width: 2px !important; border-top-color: #D3D3D3 !important; border-bottom-style: solid !important; border-bottom-width: 2px !important; border-bottom-color: #D3D3D3 !important; vertical-align: middle !important; }\n",
       " #qkscffboxd .gt_from_md> :first-child { margin-top: 0 !important; }\n",
       " #qkscffboxd .gt_from_md> :last-child { margin-bottom: 0 !important; }\n",
       " #qkscffboxd .gt_row { padding-top: 8px !important; padding-bottom: 8px !important; padding-left: 5px !important; padding-right: 5px !important; margin: 10px !important; border-top-style: solid !important; border-top-width: 1px !important; border-top-color: #D3D3D3 !important; border-left-style: none !important; border-left-width: 1px !important; border-left-color: #D3D3D3 !important; border-right-style: none !important; border-right-width: 1px !important; border-right-color: #D3D3D3 !important; vertical-align: middle !important; overflow-x: hidden !important; }\n",
       " #qkscffboxd .gt_stub { color: #333333 !important; background-color: #FFFFFF !important; font-size: 100% !important; font-weight: initial !important; text-transform: inherit !important; border-right-style: solid !important; border-right-width: 2px !important; border-right-color: #D3D3D3 !important; padding-left: 5px !important; padding-right: 5px !important; }\n",
       " #qkscffboxd .gt_stub_row_group { color: #333333 !important; background-color: #FFFFFF !important; font-size: 100% !important; font-weight: initial !important; text-transform: inherit !important; border-right-style: solid !important; border-right-width: 2px !important; border-right-color: #D3D3D3 !important; padding-left: 5px !important; padding-right: 5px !important; vertical-align: top !important; }\n",
       " #qkscffboxd .gt_row_group_first td { border-top-width: 2px !important; }\n",
       " #qkscffboxd .gt_row_group_first th { border-top-width: 2px !important; }\n",
       " #qkscffboxd .gt_striped { background-color: rgba(128,128,128,0.05) !important; }\n",
       " #qkscffboxd .gt_table_body { border-top-style: solid !important; border-top-width: 2px !important; border-top-color: #D3D3D3 !important; border-bottom-style: solid !important; border-bottom-width: 2px !important; border-bottom-color: #D3D3D3 !important; }\n",
       " #qkscffboxd .gt_sourcenotes { color: #333333 !important; background-color: #FFFFFF !important; border-bottom-style: none !important; border-bottom-width: 2px !important; border-bottom-color: #D3D3D3 !important; border-left-style: none !important; border-left-width: 2px !important; border-left-color: #D3D3D3 !important; border-right-style: none !important; border-right-width: 2px !important; border-right-color: #D3D3D3 !important; }\n",
       " #qkscffboxd .gt_sourcenote { font-size: 90% !important; padding-top: 4px !important; padding-bottom: 4px !important; padding-left: 5px !important; padding-right: 5px !important; text-align: left !important; }\n",
       " #qkscffboxd .gt_left { text-align: left !important; }\n",
       " #qkscffboxd .gt_center { text-align: center !important; }\n",
       " #qkscffboxd .gt_right { text-align: right !important; font-variant-numeric: tabular-nums !important; }\n",
       " #qkscffboxd .gt_font_normal { font-weight: normal !important; }\n",
       " #qkscffboxd .gt_font_bold { font-weight: bold !important; }\n",
       " #qkscffboxd .gt_font_italic { font-style: italic !important; }\n",
       " #qkscffboxd .gt_super { font-size: 65% !important; }\n",
       " #qkscffboxd .gt_footnote_marks { font-size: 75% !important; vertical-align: 0.4em !important; position: initial !important; }\n",
       " #qkscffboxd .gt_asterisk { font-size: 100% !important; vertical-align: 0 !important; }\n",
       " \n",
       "</style>\n",
       "<table class=\"gt_table\" data-quarto-disable-processing=\"false\" data-quarto-bootstrap=\"false\">\n",
       "<thead>\n",
       "\n",
       "  <tr class=\"gt_heading\">\n",
       "    <td colspan=\"8\" class=\"gt_heading gt_title gt_font_normal\">P(Alive in 2002) as a Function of Recency and Frequency</td>\n",
       "  </tr>\n",
       "<tr class=\"gt_col_headings gt_spanner_row\">\n",
       "  <th class=\"gt_col_heading gt_columns_bottom_border gt_left\" rowspan=\"2\" colspan=\"1\" scope=\"col\" id=\"P1X\">P1X</th>\n",
       "  <th class=\"gt_center gt_columns_top_border gt_column_spanner_outer\" rowspan=\"1\" colspan=\"7\" scope=\"colgroup\" id=\"Year of last transaction\">\n",
       "    <span class=\"gt_column_spanner\">Year of last transaction</span>\n",
       "  </th>\n",
       "</tr>\n",
       "<tr class=\"gt_col_headings\">\n",
       "  <th class=\"gt_col_heading gt_columns_bottom_border gt_right\" rowspan=\"1\" colspan=\"1\" scope=\"col\" id=\"1995\">1995</th>\n",
       "  <th class=\"gt_col_heading gt_columns_bottom_border gt_right\" rowspan=\"1\" colspan=\"1\" scope=\"col\" id=\"1996\">1996</th>\n",
       "  <th class=\"gt_col_heading gt_columns_bottom_border gt_right\" rowspan=\"1\" colspan=\"1\" scope=\"col\" id=\"1997\">1997</th>\n",
       "  <th class=\"gt_col_heading gt_columns_bottom_border gt_right\" rowspan=\"1\" colspan=\"1\" scope=\"col\" id=\"1998\">1998</th>\n",
       "  <th class=\"gt_col_heading gt_columns_bottom_border gt_right\" rowspan=\"1\" colspan=\"1\" scope=\"col\" id=\"1999\">1999</th>\n",
       "  <th class=\"gt_col_heading gt_columns_bottom_border gt_right\" rowspan=\"1\" colspan=\"1\" scope=\"col\" id=\"2000\">2000</th>\n",
       "  <th class=\"gt_col_heading gt_columns_bottom_border gt_right\" rowspan=\"1\" colspan=\"1\" scope=\"col\" id=\"2001\">2001</th>\n",
       "</tr>\n",
       "</thead>\n",
       "<tbody class=\"gt_table_body\">\n",
       "  <tr>\n",
       "    <th style=\"color: #000000; background-color: #ffffff;\" class=\"gt_row gt_left gt_stub\">0</th>\n",
       "    <td style=\"color: #000000; background-color: #eee9f4;\" class=\"gt_row gt_right\">0.11</td>\n",
       "    <td style=\"color: #000000; background-color: #FFFFFF;\" class=\"gt_row gt_right\"></td>\n",
       "    <td style=\"color: #000000; background-color: #FFFFFF;\" class=\"gt_row gt_right\"></td>\n",
       "    <td style=\"color: #000000; background-color: #FFFFFF;\" class=\"gt_row gt_right\"></td>\n",
       "    <td style=\"color: #000000; background-color: #FFFFFF;\" class=\"gt_row gt_right\"></td>\n",
       "    <td style=\"color: #000000; background-color: #FFFFFF;\" class=\"gt_row gt_right\"></td>\n",
       "    <td style=\"color: #000000; background-color: #FFFFFF;\" class=\"gt_row gt_right\"></td>\n",
       "  </tr>\n",
       "  <tr>\n",
       "    <th style=\"color: #FFFFFF; background-color: #663399;\" class=\"gt_row gt_left gt_stub\">1</th>\n",
       "    <td style=\"color: #000000; background-color: #FFFFFF;\" class=\"gt_row gt_right\"></td>\n",
       "    <td style=\"color: #000000; background-color: #f4f1f8;\" class=\"gt_row gt_right\">0.07</td>\n",
       "    <td style=\"color: #000000; background-color: #d8cbe5;\" class=\"gt_row gt_right\">0.25</td>\n",
       "    <td style=\"color: #000000; background-color: #b59dce;\" class=\"gt_row gt_right\">0.48</td>\n",
       "    <td style=\"color: #000000; background-color: #9774ba;\" class=\"gt_row gt_right\">0.68</td>\n",
       "    <td style=\"color: #FFFFFF; background-color: #8056ab;\" class=\"gt_row gt_right\">0.83</td>\n",
       "    <td style=\"color: #FFFFFF; background-color: #7141a0;\" class=\"gt_row gt_right\">0.93</td>\n",
       "  </tr>\n",
       "  <tr>\n",
       "    <th style=\"color: #000000; background-color: #FFFFFF;\" class=\"gt_row gt_left gt_stub\">2</th>\n",
       "    <td style=\"color: #000000; background-color: #FFFFFF;\" class=\"gt_row gt_right\"></td>\n",
       "    <td style=\"color: #000000; background-color: #FFFFFF;\" class=\"gt_row gt_right\"></td>\n",
       "    <td style=\"color: #000000; background-color: #f5f1f8;\" class=\"gt_row gt_right\">0.07</td>\n",
       "    <td style=\"color: #000000; background-color: #d1c2e1;\" class=\"gt_row gt_right\">0.30</td>\n",
       "    <td style=\"color: #000000; background-color: #a587c3;\" class=\"gt_row gt_right\">0.59</td>\n",
       "    <td style=\"color: #FFFFFF; background-color: #845bad;\" class=\"gt_row gt_right\">0.80</td>\n",
       "    <td style=\"color: #FFFFFF; background-color: #7141a0;\" class=\"gt_row gt_right\">0.93</td>\n",
       "  </tr>\n",
       "  <tr>\n",
       "    <th style=\"color: #000000; background-color: #FFFFFF;\" class=\"gt_row gt_left gt_stub\">3</th>\n",
       "    <td style=\"color: #000000; background-color: #FFFFFF;\" class=\"gt_row gt_right\"></td>\n",
       "    <td style=\"color: #000000; background-color: #FFFFFF;\" class=\"gt_row gt_right\"></td>\n",
       "    <td style=\"color: #000000; background-color: #FFFFFF;\" class=\"gt_row gt_right\"></td>\n",
       "    <td style=\"color: #000000; background-color: #f0ecf5;\" class=\"gt_row gt_right\">0.10</td>\n",
       "    <td style=\"color: #000000; background-color: #bca5d2;\" class=\"gt_row gt_right\">0.44</td>\n",
       "    <td style=\"color: #FFFFFF; background-color: #8a63b1;\" class=\"gt_row gt_right\">0.77</td>\n",
       "    <td style=\"color: #FFFFFF; background-color: #7141a0;\" class=\"gt_row gt_right\">0.93</td>\n",
       "  </tr>\n",
       "  <tr>\n",
       "    <th style=\"color: #000000; background-color: #FFFFFF;\" class=\"gt_row gt_left gt_stub\">4</th>\n",
       "    <td style=\"color: #000000; background-color: #FFFFFF;\" class=\"gt_row gt_right\"></td>\n",
       "    <td style=\"color: #000000; background-color: #FFFFFF;\" class=\"gt_row gt_right\"></td>\n",
       "    <td style=\"color: #000000; background-color: #FFFFFF;\" class=\"gt_row gt_right\"></td>\n",
       "    <td style=\"color: #000000; background-color: #FFFFFF;\" class=\"gt_row gt_right\"></td>\n",
       "    <td style=\"color: #000000; background-color: #e0d6eb;\" class=\"gt_row gt_right\">0.20</td>\n",
       "    <td style=\"color: #000000; background-color: #9471b8;\" class=\"gt_row gt_right\">0.70</td>\n",
       "    <td style=\"color: #FFFFFF; background-color: #7141a0;\" class=\"gt_row gt_right\">0.93</td>\n",
       "  </tr>\n",
       "  <tr>\n",
       "    <th style=\"color: #000000; background-color: #FFFFFF;\" class=\"gt_row gt_left gt_stub\">5</th>\n",
       "    <td style=\"color: #000000; background-color: #FFFFFF;\" class=\"gt_row gt_right\"></td>\n",
       "    <td style=\"color: #000000; background-color: #FFFFFF;\" class=\"gt_row gt_right\"></td>\n",
       "    <td style=\"color: #000000; background-color: #FFFFFF;\" class=\"gt_row gt_right\"></td>\n",
       "    <td style=\"color: #000000; background-color: #FFFFFF;\" class=\"gt_row gt_right\"></td>\n",
       "    <td style=\"color: #000000; background-color: #FFFFFF;\" class=\"gt_row gt_right\"></td>\n",
       "    <td style=\"color: #000000; background-color: #af95ca;\" class=\"gt_row gt_right\">0.52</td>\n",
       "    <td style=\"color: #FFFFFF; background-color: #7141a0;\" class=\"gt_row gt_right\">0.93</td>\n",
       "  </tr>\n",
       "  <tr>\n",
       "    <th style=\"color: #000000; background-color: #FFFFFF;\" class=\"gt_row gt_left gt_stub\">6</th>\n",
       "    <td style=\"color: #000000; background-color: #FFFFFF;\" class=\"gt_row gt_right\"></td>\n",
       "    <td style=\"color: #000000; background-color: #FFFFFF;\" class=\"gt_row gt_right\"></td>\n",
       "    <td style=\"color: #000000; background-color: #FFFFFF;\" class=\"gt_row gt_right\"></td>\n",
       "    <td style=\"color: #000000; background-color: #FFFFFF;\" class=\"gt_row gt_right\"></td>\n",
       "    <td style=\"color: #000000; background-color: #FFFFFF;\" class=\"gt_row gt_right\"></td>\n",
       "    <td style=\"color: #000000; background-color: #FFFFFF;\" class=\"gt_row gt_right\"></td>\n",
       "    <td style=\"color: #FFFFFF; background-color: #7141a0;\" class=\"gt_row gt_right\">0.93</td>\n",
       "  </tr>\n",
       "</tbody>\n",
       "\n",
       "\n",
       "</table>\n",
       "\n",
       "</div>\n",
       "        "
      ],
      "text/plain": [
       "GT(_tbl_data=shape: (7, 8)\n",
       "┌─────┬──────────┬──────────┬──────────┬──────────┬──────────┬──────────┬──────────┐\n",
       "│ P1X ┆ 1995     ┆ 1996     ┆ 1997     ┆ 1998     ┆ 1999     ┆ 2000     ┆ 2001     │\n",
       "│ --- ┆ ---      ┆ ---      ┆ ---      ┆ ---      ┆ ---      ┆ ---      ┆ ---      │\n",
       "│ i8  ┆ f64      ┆ f64      ┆ f64      ┆ f64      ┆ f64      ┆ f64      ┆ f64      │\n",
       "╞═════╪══════════╪══════════╪══════════╪══════════╪══════════╪══════════╪══════════╡\n",
       "│ 0   ┆ 0.108141 ┆ null     ┆ null     ┆ null     ┆ null     ┆ null     ┆ null     │\n",
       "│ 1   ┆ null     ┆ 0.069464 ┆ 0.254711 ┆ 0.481353 ┆ 0.680379 ┆ 0.82814  ┆ 0.930431 │\n",
       "│ 2   ┆ null     ┆ null     ┆ 0.066415 ┆ 0.298902 ┆ 0.589652 ┆ 0.804551 ┆ 0.930431 │\n",
       "│ 3   ┆ null     ┆ null     ┆ null     ┆ 0.095005 ┆ 0.439589 ┆ 0.766821 ┆ 0.930431 │\n",
       "│ 4   ┆ null     ┆ null     ┆ null     ┆ null     ┆ 0.200175 ┆ 0.696794 ┆ 0.930431 │\n",
       "│ 5   ┆ null     ┆ null     ┆ null     ┆ null     ┆ null     ┆ 0.521967 ┆ 0.930431 │\n",
       "│ 6   ┆ null     ┆ null     ┆ null     ┆ null     ┆ null     ┆ null     ┆ 0.930431 │\n",
       "└─────┴──────────┴──────────┴──────────┴──────────┴──────────┴──────────┴──────────┘, _body=<great_tables._gt_data.Body object at 0x000002789DC48B00>, _boxhead=Boxhead([ColInfo(var='P1X', type=<ColInfoTypeEnum.stub: 2>, column_label='P1X', column_align='right', column_width=None), ColInfo(var='1995', type=<ColInfoTypeEnum.default: 1>, column_label='1995', column_align='right', column_width=None), ColInfo(var='1996', type=<ColInfoTypeEnum.default: 1>, column_label='1996', column_align='right', column_width=None), ColInfo(var='1997', type=<ColInfoTypeEnum.default: 1>, column_label='1997', column_align='right', column_width=None), ColInfo(var='1998', type=<ColInfoTypeEnum.default: 1>, column_label='1998', column_align='right', column_width=None), ColInfo(var='1999', type=<ColInfoTypeEnum.default: 1>, column_label='1999', column_align='right', column_width=None), ColInfo(var='2000', type=<ColInfoTypeEnum.default: 1>, column_label='2000', column_align='right', column_width=None), ColInfo(var='2001', type=<ColInfoTypeEnum.default: 1>, column_label='2001', column_align='right', column_width=None)]), _stub=<great_tables._gt_data.Stub object at 0x000002789DB3B170>, _spanners=Spanners([SpannerInfo(spanner_id='Year of last transaction', spanner_level=0, spanner_label='Year of last transaction', spanner_units=None, spanner_pattern=None, vars=['1995', '1996', '1997', '1998', '1999', '2000', '2001'], built=None)]), _heading=Heading(title='P(Alive in 2002) as a Function of Recency and Frequency', subtitle=None, preheader=None), _stubhead='P1X', _source_notes=[], _footnotes=[], _styles=[StyleInfo(locname=LocBody(columns='P1X', rows=[0]), grpname=None, colname='P1X', rownum=0, colnum=None, styles=[CellStyleText(color='#000000', font=None, size=None, align=None, v_align=None, style=None, weight=None, stretch=None, decorate=None, transform=None, whitespace=None), CellStyleFill(color='#ffffff')]), StyleInfo(locname=LocBody(columns='P1X', rows=[1]), grpname=None, colname='P1X', rownum=1, colnum=None, styles=[CellStyleText(color='#FFFFFF', font=None, size=None, align=None, v_align=None, style=None, weight=None, stretch=None, decorate=None, transform=None, whitespace=None), CellStyleFill(color='#663399')]), StyleInfo(locname=LocBody(columns='P1X', rows=[2]), grpname=None, colname='P1X', rownum=2, colnum=None, styles=[CellStyleText(color='#000000', font=None, size=None, align=None, v_align=None, style=None, weight=None, stretch=None, decorate=None, transform=None, whitespace=None), CellStyleFill(color='#FFFFFF')]), StyleInfo(locname=LocBody(columns='P1X', rows=[3]), grpname=None, colname='P1X', rownum=3, colnum=None, styles=[CellStyleText(color='#000000', font=None, size=None, align=None, v_align=None, style=None, weight=None, stretch=None, decorate=None, transform=None, whitespace=None), CellStyleFill(color='#FFFFFF')]), StyleInfo(locname=LocBody(columns='P1X', rows=[4]), grpname=None, colname='P1X', rownum=4, colnum=None, styles=[CellStyleText(color='#000000', font=None, size=None, align=None, v_align=None, style=None, weight=None, stretch=None, decorate=None, transform=None, whitespace=None), CellStyleFill(color='#FFFFFF')]), StyleInfo(locname=LocBody(columns='P1X', rows=[5]), grpname=None, colname='P1X', rownum=5, colnum=None, styles=[CellStyleText(color='#000000', font=None, size=None, align=None, v_align=None, style=None, weight=None, stretch=None, decorate=None, transform=None, whitespace=None), CellStyleFill(color='#FFFFFF')]), StyleInfo(locname=LocBody(columns='P1X', rows=[6]), grpname=None, colname='P1X', rownum=6, colnum=None, styles=[CellStyleText(color='#000000', font=None, size=None, align=None, v_align=None, style=None, weight=None, stretch=None, decorate=None, transform=None, whitespace=None), CellStyleFill(color='#FFFFFF')]), StyleInfo(locname=LocBody(columns='1995', rows=[0]), grpname=None, colname='1995', rownum=0, colnum=None, styles=[CellStyleText(color='#000000', font=None, size=None, align=None, v_align=None, style=None, weight=None, stretch=None, decorate=None, transform=None, whitespace=None), CellStyleFill(color='#eee9f4')]), StyleInfo(locname=LocBody(columns='1995', rows=[1]), grpname=None, colname='1995', rownum=1, colnum=None, styles=[CellStyleText(color='#000000', font=None, size=None, align=None, v_align=None, style=None, weight=None, stretch=None, decorate=None, transform=None, whitespace=None), CellStyleFill(color='#FFFFFF')]), StyleInfo(locname=LocBody(columns='1995', rows=[2]), grpname=None, colname='1995', rownum=2, colnum=None, styles=[CellStyleText(color='#000000', font=None, size=None, align=None, v_align=None, style=None, weight=None, stretch=None, decorate=None, transform=None, whitespace=None), CellStyleFill(color='#FFFFFF')]), StyleInfo(locname=LocBody(columns='1995', rows=[3]), grpname=None, colname='1995', rownum=3, colnum=None, styles=[CellStyleText(color='#000000', font=None, size=None, align=None, v_align=None, style=None, weight=None, stretch=None, decorate=None, transform=None, whitespace=None), CellStyleFill(color='#FFFFFF')]), StyleInfo(locname=LocBody(columns='1995', rows=[4]), grpname=None, colname='1995', rownum=4, colnum=None, styles=[CellStyleText(color='#000000', font=None, size=None, align=None, v_align=None, style=None, weight=None, stretch=None, decorate=None, transform=None, whitespace=None), CellStyleFill(color='#FFFFFF')]), StyleInfo(locname=LocBody(columns='1995', rows=[5]), grpname=None, colname='1995', rownum=5, colnum=None, styles=[CellStyleText(color='#000000', font=None, size=None, align=None, v_align=None, style=None, weight=None, stretch=None, decorate=None, transform=None, whitespace=None), CellStyleFill(color='#FFFFFF')]), StyleInfo(locname=LocBody(columns='1995', rows=[6]), grpname=None, colname='1995', rownum=6, colnum=None, styles=[CellStyleText(color='#000000', font=None, size=None, align=None, v_align=None, style=None, weight=None, stretch=None, decorate=None, transform=None, whitespace=None), CellStyleFill(color='#FFFFFF')]), StyleInfo(locname=LocBody(columns='1996', rows=[0]), grpname=None, colname='1996', rownum=0, colnum=None, styles=[CellStyleText(color='#000000', font=None, size=None, align=None, v_align=None, style=None, weight=None, stretch=None, decorate=None, transform=None, whitespace=None), CellStyleFill(color='#FFFFFF')]), StyleInfo(locname=LocBody(columns='1996', rows=[1]), grpname=None, colname='1996', rownum=1, colnum=None, styles=[CellStyleText(color='#000000', font=None, size=None, align=None, v_align=None, style=None, weight=None, stretch=None, decorate=None, transform=None, whitespace=None), CellStyleFill(color='#f4f1f8')]), StyleInfo(locname=LocBody(columns='1996', rows=[2]), grpname=None, colname='1996', rownum=2, colnum=None, styles=[CellStyleText(color='#000000', font=None, size=None, align=None, v_align=None, style=None, weight=None, stretch=None, decorate=None, transform=None, whitespace=None), CellStyleFill(color='#FFFFFF')]), StyleInfo(locname=LocBody(columns='1996', rows=[3]), grpname=None, colname='1996', rownum=3, colnum=None, styles=[CellStyleText(color='#000000', font=None, size=None, align=None, v_align=None, style=None, weight=None, stretch=None, decorate=None, transform=None, whitespace=None), CellStyleFill(color='#FFFFFF')]), StyleInfo(locname=LocBody(columns='1996', rows=[4]), grpname=None, colname='1996', rownum=4, colnum=None, styles=[CellStyleText(color='#000000', font=None, size=None, align=None, v_align=None, style=None, weight=None, stretch=None, decorate=None, transform=None, whitespace=None), CellStyleFill(color='#FFFFFF')]), StyleInfo(locname=LocBody(columns='1996', rows=[5]), grpname=None, colname='1996', rownum=5, colnum=None, styles=[CellStyleText(color='#000000', font=None, size=None, align=None, v_align=None, style=None, weight=None, stretch=None, decorate=None, transform=None, whitespace=None), CellStyleFill(color='#FFFFFF')]), StyleInfo(locname=LocBody(columns='1996', rows=[6]), grpname=None, colname='1996', rownum=6, colnum=None, styles=[CellStyleText(color='#000000', font=None, size=None, align=None, v_align=None, style=None, weight=None, stretch=None, decorate=None, transform=None, whitespace=None), CellStyleFill(color='#FFFFFF')]), StyleInfo(locname=LocBody(columns='1997', rows=[0]), grpname=None, colname='1997', rownum=0, colnum=None, styles=[CellStyleText(color='#000000', font=None, size=None, align=None, v_align=None, style=None, weight=None, stretch=None, decorate=None, transform=None, whitespace=None), CellStyleFill(color='#FFFFFF')]), StyleInfo(locname=LocBody(columns='1997', rows=[1]), grpname=None, colname='1997', rownum=1, colnum=None, styles=[CellStyleText(color='#000000', font=None, size=None, align=None, v_align=None, style=None, weight=None, stretch=None, decorate=None, transform=None, whitespace=None), CellStyleFill(color='#d8cbe5')]), StyleInfo(locname=LocBody(columns='1997', rows=[2]), grpname=None, colname='1997', rownum=2, colnum=None, styles=[CellStyleText(color='#000000', font=None, size=None, align=None, v_align=None, style=None, weight=None, stretch=None, decorate=None, transform=None, whitespace=None), CellStyleFill(color='#f5f1f8')]), StyleInfo(locname=LocBody(columns='1997', rows=[3]), grpname=None, colname='1997', rownum=3, colnum=None, styles=[CellStyleText(color='#000000', font=None, size=None, align=None, v_align=None, style=None, weight=None, stretch=None, decorate=None, transform=None, whitespace=None), CellStyleFill(color='#FFFFFF')]), StyleInfo(locname=LocBody(columns='1997', rows=[4]), grpname=None, colname='1997', rownum=4, colnum=None, styles=[CellStyleText(color='#000000', font=None, size=None, align=None, v_align=None, style=None, weight=None, stretch=None, decorate=None, transform=None, whitespace=None), CellStyleFill(color='#FFFFFF')]), StyleInfo(locname=LocBody(columns='1997', rows=[5]), grpname=None, colname='1997', rownum=5, colnum=None, styles=[CellStyleText(color='#000000', font=None, size=None, align=None, v_align=None, style=None, weight=None, stretch=None, decorate=None, transform=None, whitespace=None), CellStyleFill(color='#FFFFFF')]), StyleInfo(locname=LocBody(columns='1997', rows=[6]), grpname=None, colname='1997', rownum=6, colnum=None, styles=[CellStyleText(color='#000000', font=None, size=None, align=None, v_align=None, style=None, weight=None, stretch=None, decorate=None, transform=None, whitespace=None), CellStyleFill(color='#FFFFFF')]), StyleInfo(locname=LocBody(columns='1998', rows=[0]), grpname=None, colname='1998', rownum=0, colnum=None, styles=[CellStyleText(color='#000000', font=None, size=None, align=None, v_align=None, style=None, weight=None, stretch=None, decorate=None, transform=None, whitespace=None), CellStyleFill(color='#FFFFFF')]), StyleInfo(locname=LocBody(columns='1998', rows=[1]), grpname=None, colname='1998', rownum=1, colnum=None, styles=[CellStyleText(color='#000000', font=None, size=None, align=None, v_align=None, style=None, weight=None, stretch=None, decorate=None, transform=None, whitespace=None), CellStyleFill(color='#b59dce')]), StyleInfo(locname=LocBody(columns='1998', rows=[2]), grpname=None, colname='1998', rownum=2, colnum=None, styles=[CellStyleText(color='#000000', font=None, size=None, align=None, v_align=None, style=None, weight=None, stretch=None, decorate=None, transform=None, whitespace=None), CellStyleFill(color='#d1c2e1')]), StyleInfo(locname=LocBody(columns='1998', rows=[3]), grpname=None, colname='1998', rownum=3, colnum=None, styles=[CellStyleText(color='#000000', font=None, size=None, align=None, v_align=None, style=None, weight=None, stretch=None, decorate=None, transform=None, whitespace=None), CellStyleFill(color='#f0ecf5')]), StyleInfo(locname=LocBody(columns='1998', rows=[4]), grpname=None, colname='1998', rownum=4, colnum=None, styles=[CellStyleText(color='#000000', font=None, size=None, align=None, v_align=None, style=None, weight=None, stretch=None, decorate=None, transform=None, whitespace=None), CellStyleFill(color='#FFFFFF')]), StyleInfo(locname=LocBody(columns='1998', rows=[5]), grpname=None, colname='1998', rownum=5, colnum=None, styles=[CellStyleText(color='#000000', font=None, size=None, align=None, v_align=None, style=None, weight=None, stretch=None, decorate=None, transform=None, whitespace=None), CellStyleFill(color='#FFFFFF')]), StyleInfo(locname=LocBody(columns='1998', rows=[6]), grpname=None, colname='1998', rownum=6, colnum=None, styles=[CellStyleText(color='#000000', font=None, size=None, align=None, v_align=None, style=None, weight=None, stretch=None, decorate=None, transform=None, whitespace=None), CellStyleFill(color='#FFFFFF')]), StyleInfo(locname=LocBody(columns='1999', rows=[0]), grpname=None, colname='1999', rownum=0, colnum=None, styles=[CellStyleText(color='#000000', font=None, size=None, align=None, v_align=None, style=None, weight=None, stretch=None, decorate=None, transform=None, whitespace=None), CellStyleFill(color='#FFFFFF')]), StyleInfo(locname=LocBody(columns='1999', rows=[1]), grpname=None, colname='1999', rownum=1, colnum=None, styles=[CellStyleText(color='#000000', font=None, size=None, align=None, v_align=None, style=None, weight=None, stretch=None, decorate=None, transform=None, whitespace=None), CellStyleFill(color='#9774ba')]), StyleInfo(locname=LocBody(columns='1999', rows=[2]), grpname=None, colname='1999', rownum=2, colnum=None, styles=[CellStyleText(color='#000000', font=None, size=None, align=None, v_align=None, style=None, weight=None, stretch=None, decorate=None, transform=None, whitespace=None), CellStyleFill(color='#a587c3')]), StyleInfo(locname=LocBody(columns='1999', rows=[3]), grpname=None, colname='1999', rownum=3, colnum=None, styles=[CellStyleText(color='#000000', font=None, size=None, align=None, v_align=None, style=None, weight=None, stretch=None, decorate=None, transform=None, whitespace=None), CellStyleFill(color='#bca5d2')]), StyleInfo(locname=LocBody(columns='1999', rows=[4]), grpname=None, colname='1999', rownum=4, colnum=None, styles=[CellStyleText(color='#000000', font=None, size=None, align=None, v_align=None, style=None, weight=None, stretch=None, decorate=None, transform=None, whitespace=None), CellStyleFill(color='#e0d6eb')]), StyleInfo(locname=LocBody(columns='1999', rows=[5]), grpname=None, colname='1999', rownum=5, colnum=None, styles=[CellStyleText(color='#000000', font=None, size=None, align=None, v_align=None, style=None, weight=None, stretch=None, decorate=None, transform=None, whitespace=None), CellStyleFill(color='#FFFFFF')]), StyleInfo(locname=LocBody(columns='1999', rows=[6]), grpname=None, colname='1999', rownum=6, colnum=None, styles=[CellStyleText(color='#000000', font=None, size=None, align=None, v_align=None, style=None, weight=None, stretch=None, decorate=None, transform=None, whitespace=None), CellStyleFill(color='#FFFFFF')]), StyleInfo(locname=LocBody(columns='2000', rows=[0]), grpname=None, colname='2000', rownum=0, colnum=None, styles=[CellStyleText(color='#000000', font=None, size=None, align=None, v_align=None, style=None, weight=None, stretch=None, decorate=None, transform=None, whitespace=None), CellStyleFill(color='#FFFFFF')]), StyleInfo(locname=LocBody(columns='2000', rows=[1]), grpname=None, colname='2000', rownum=1, colnum=None, styles=[CellStyleText(color='#FFFFFF', font=None, size=None, align=None, v_align=None, style=None, weight=None, stretch=None, decorate=None, transform=None, whitespace=None), CellStyleFill(color='#8056ab')]), StyleInfo(locname=LocBody(columns='2000', rows=[2]), grpname=None, colname='2000', rownum=2, colnum=None, styles=[CellStyleText(color='#FFFFFF', font=None, size=None, align=None, v_align=None, style=None, weight=None, stretch=None, decorate=None, transform=None, whitespace=None), CellStyleFill(color='#845bad')]), StyleInfo(locname=LocBody(columns='2000', rows=[3]), grpname=None, colname='2000', rownum=3, colnum=None, styles=[CellStyleText(color='#FFFFFF', font=None, size=None, align=None, v_align=None, style=None, weight=None, stretch=None, decorate=None, transform=None, whitespace=None), CellStyleFill(color='#8a63b1')]), StyleInfo(locname=LocBody(columns='2000', rows=[4]), grpname=None, colname='2000', rownum=4, colnum=None, styles=[CellStyleText(color='#000000', font=None, size=None, align=None, v_align=None, style=None, weight=None, stretch=None, decorate=None, transform=None, whitespace=None), CellStyleFill(color='#9471b8')]), StyleInfo(locname=LocBody(columns='2000', rows=[5]), grpname=None, colname='2000', rownum=5, colnum=None, styles=[CellStyleText(color='#000000', font=None, size=None, align=None, v_align=None, style=None, weight=None, stretch=None, decorate=None, transform=None, whitespace=None), CellStyleFill(color='#af95ca')]), StyleInfo(locname=LocBody(columns='2000', rows=[6]), grpname=None, colname='2000', rownum=6, colnum=None, styles=[CellStyleText(color='#000000', font=None, size=None, align=None, v_align=None, style=None, weight=None, stretch=None, decorate=None, transform=None, whitespace=None), CellStyleFill(color='#FFFFFF')]), StyleInfo(locname=LocBody(columns='2001', rows=[0]), grpname=None, colname='2001', rownum=0, colnum=None, styles=[CellStyleText(color='#000000', font=None, size=None, align=None, v_align=None, style=None, weight=None, stretch=None, decorate=None, transform=None, whitespace=None), CellStyleFill(color='#FFFFFF')]), StyleInfo(locname=LocBody(columns='2001', rows=[1]), grpname=None, colname='2001', rownum=1, colnum=None, styles=[CellStyleText(color='#FFFFFF', font=None, size=None, align=None, v_align=None, style=None, weight=None, stretch=None, decorate=None, transform=None, whitespace=None), CellStyleFill(color='#7141a0')]), StyleInfo(locname=LocBody(columns='2001', rows=[2]), grpname=None, colname='2001', rownum=2, colnum=None, styles=[CellStyleText(color='#FFFFFF', font=None, size=None, align=None, v_align=None, style=None, weight=None, stretch=None, decorate=None, transform=None, whitespace=None), CellStyleFill(color='#7141a0')]), StyleInfo(locname=LocBody(columns='2001', rows=[3]), grpname=None, colname='2001', rownum=3, colnum=None, styles=[CellStyleText(color='#FFFFFF', font=None, size=None, align=None, v_align=None, style=None, weight=None, stretch=None, decorate=None, transform=None, whitespace=None), CellStyleFill(color='#7141a0')]), StyleInfo(locname=LocBody(columns='2001', rows=[4]), grpname=None, colname='2001', rownum=4, colnum=None, styles=[CellStyleText(color='#FFFFFF', font=None, size=None, align=None, v_align=None, style=None, weight=None, stretch=None, decorate=None, transform=None, whitespace=None), CellStyleFill(color='#7141a0')]), StyleInfo(locname=LocBody(columns='2001', rows=[5]), grpname=None, colname='2001', rownum=5, colnum=None, styles=[CellStyleText(color='#FFFFFF', font=None, size=None, align=None, v_align=None, style=None, weight=None, stretch=None, decorate=None, transform=None, whitespace=None), CellStyleFill(color='#7141a0')]), StyleInfo(locname=LocBody(columns='2001', rows=[6]), grpname=None, colname='2001', rownum=6, colnum=None, styles=[CellStyleText(color='#FFFFFF', font=None, size=None, align=None, v_align=None, style=None, weight=None, stretch=None, decorate=None, transform=None, whitespace=None), CellStyleFill(color='#7141a0')])], _locale=<great_tables._gt_data.Locale object at 0x000002789DD35D60>, _formats=[<great_tables._gt_data.FormatInfo object at 0x000002789E85AC30>], _substitutions=[<great_tables._gt_data.FormatInfo object at 0x000002788B91CB30>], _options=Options(table_id=OptionsInfo(scss=False, category='table', type='value', value=None), table_caption=OptionsInfo(scss=False, category='table', type='value', value=None), table_width=OptionsInfo(scss=True, category='table', type='px', value='auto'), table_layout=OptionsInfo(scss=True, category='table', type='value', value='fixed'), table_margin_left=OptionsInfo(scss=True, category='table', type='px', value='auto'), table_margin_right=OptionsInfo(scss=True, category='table', type='px', value='auto'), table_background_color=OptionsInfo(scss=True, category='table', type='value', value='#FFFFFF'), table_additional_css=OptionsInfo(scss=False, category='table', type='values', value=[]), table_font_names=OptionsInfo(scss=False, category='table', type='values', value=['-apple-system', 'BlinkMacSystemFont', 'Segoe UI', 'Roboto', 'Oxygen', 'Ubuntu', 'Cantarell', 'Helvetica Neue', 'Fira Sans', 'Droid Sans', 'Arial', 'sans-serif']), table_font_size=OptionsInfo(scss=True, category='table', type='px', value='16px'), table_font_weight=OptionsInfo(scss=True, category='table', type='value', value='normal'), table_font_style=OptionsInfo(scss=True, category='table', type='value', value='normal'), table_font_color=OptionsInfo(scss=True, category='table', type='value', value='#333333'), table_font_color_light=OptionsInfo(scss=True, category='table', type='value', value='#FFFFFF'), table_border_top_include=OptionsInfo(scss=False, category='table', type='boolean', value=True), table_border_top_style=OptionsInfo(scss=True, category='table', type='value', value='solid'), table_border_top_width=OptionsInfo(scss=True, category='table', type='px', value='2px'), table_border_top_color=OptionsInfo(scss=True, category='table', type='value', value='#A8A8A8'), table_border_right_style=OptionsInfo(scss=True, category='table', type='value', value='none'), table_border_right_width=OptionsInfo(scss=True, category='table', type='px', value='2px'), table_border_right_color=OptionsInfo(scss=True, category='table', type='value', value='#D3D3D3'), table_border_bottom_include=OptionsInfo(scss=False, category='table', type='boolean', value=True), table_border_bottom_style=OptionsInfo(scss=True, category='table', type='value', value='solid'), table_border_bottom_width=OptionsInfo(scss=True, category='table', type='px', value='2px'), table_border_bottom_color=OptionsInfo(scss=True, category='table', type='value', value='#A8A8A8'), table_border_left_style=OptionsInfo(scss=True, category='table', type='value', value='none'), table_border_left_width=OptionsInfo(scss=True, category='table', type='px', value='2px'), table_border_left_color=OptionsInfo(scss=True, category='table', type='value', value='#D3D3D3'), heading_background_color=OptionsInfo(scss=True, category='heading', type='value', value=None), heading_align=OptionsInfo(scss=True, category='heading', type='value', value='center'), heading_title_font_size=OptionsInfo(scss=True, category='heading', type='px', value='125%'), heading_title_font_weight=OptionsInfo(scss=True, category='heading', type='value', value='initial'), heading_subtitle_font_size=OptionsInfo(scss=True, category='heading', type='px', value='85%'), heading_subtitle_font_weight=OptionsInfo(scss=True, category='heading', type='value', value='initial'), heading_padding=OptionsInfo(scss=True, category='heading', type='px', value='4px'), heading_padding_horizontal=OptionsInfo(scss=True, category='heading', type='px', value='5px'), heading_border_bottom_style=OptionsInfo(scss=True, category='heading', type='value', value='solid'), heading_border_bottom_width=OptionsInfo(scss=True, category='heading', type='px', value='2px'), heading_border_bottom_color=OptionsInfo(scss=True, category='heading', type='value', value='#D3D3D3'), heading_border_lr_style=OptionsInfo(scss=True, category='heading', type='value', value='none'), heading_border_lr_width=OptionsInfo(scss=True, category='heading', type='px', value='1px'), heading_border_lr_color=OptionsInfo(scss=True, category='heading', type='value', value='#D3D3D3'), column_labels_background_color=OptionsInfo(scss=True, category='column_labels', type='value', value=None), column_labels_font_size=OptionsInfo(scss=True, category='column_labels', type='px', value='100%'), column_labels_font_weight=OptionsInfo(scss=True, category='column_labels', type='value', value='normal'), column_labels_text_transform=OptionsInfo(scss=True, category='column_labels', type='value', value='inherit'), column_labels_padding=OptionsInfo(scss=True, category='column_labels', type='px', value='5px'), column_labels_padding_horizontal=OptionsInfo(scss=True, category='column_labels', type='px', value='5px'), column_labels_vlines_style=OptionsInfo(scss=True, category='table_body', type='value', value='none'), column_labels_vlines_width=OptionsInfo(scss=True, category='table_body', type='px', value='1px'), column_labels_vlines_color=OptionsInfo(scss=True, category='table_body', type='value', value='#D3D3D3'), column_labels_border_top_style=OptionsInfo(scss=True, category='column_labels', type='value', value='solid'), column_labels_border_top_width=OptionsInfo(scss=True, category='column_labels', type='px', value='2px'), column_labels_border_top_color=OptionsInfo(scss=True, category='column_labels', type='value', value='#D3D3D3'), column_labels_border_bottom_style=OptionsInfo(scss=True, category='column_labels', type='value', value='solid'), column_labels_border_bottom_width=OptionsInfo(scss=True, category='column_labels', type='px', value='2px'), column_labels_border_bottom_color=OptionsInfo(scss=True, category='column_labels', type='value', value='#D3D3D3'), column_labels_border_lr_style=OptionsInfo(scss=True, category='column_labels', type='value', value='none'), column_labels_border_lr_width=OptionsInfo(scss=True, category='column_labels', type='px', value='1px'), column_labels_border_lr_color=OptionsInfo(scss=True, category='column_labels', type='value', value='#D3D3D3'), column_labels_hidden=OptionsInfo(scss=False, category='column_labels', type='boolean', value=False), row_group_background_color=OptionsInfo(scss=True, category='row_group', type='value', value=None), row_group_font_size=OptionsInfo(scss=True, category='row_group', type='px', value='100%'), row_group_font_weight=OptionsInfo(scss=True, category='row_group', type='value', value='initial'), row_group_text_transform=OptionsInfo(scss=True, category='row_group', type='value', value='inherit'), row_group_padding=OptionsInfo(scss=True, category='row_group', type='px', value='8px'), row_group_padding_horizontal=OptionsInfo(scss=True, category='row_group', type='px', value='5px'), row_group_border_top_style=OptionsInfo(scss=True, category='row_group', type='value', value='solid'), row_group_border_top_width=OptionsInfo(scss=True, category='row_group', type='px', value='2px'), row_group_border_top_color=OptionsInfo(scss=True, category='row_group', type='value', value='#D3D3D3'), row_group_border_right_style=OptionsInfo(scss=True, category='row_group', type='value', value='none'), row_group_border_right_width=OptionsInfo(scss=True, category='row_group', type='px', value='1px'), row_group_border_right_color=OptionsInfo(scss=True, category='row_group', type='value', value='#D3D3D3'), row_group_border_bottom_style=OptionsInfo(scss=True, category='row_group', type='value', value='solid'), row_group_border_bottom_width=OptionsInfo(scss=True, category='row_group', type='px', value='2px'), row_group_border_bottom_color=OptionsInfo(scss=True, category='row_group', type='value', value='#D3D3D3'), row_group_border_left_style=OptionsInfo(scss=True, category='row_group', type='value', value='none'), row_group_border_left_width=OptionsInfo(scss=True, category='row_group', type='px', value='1px'), row_group_border_left_color=OptionsInfo(scss=True, category='row_group', type='value', value='#D3D3D3'), row_group_as_column=OptionsInfo(scss=False, category='row_group', type='boolean', value=False), table_body_hlines_style=OptionsInfo(scss=True, category='table_body', type='value', value='solid'), table_body_hlines_width=OptionsInfo(scss=True, category='table_body', type='px', value='1px'), table_body_hlines_color=OptionsInfo(scss=True, category='table_body', type='value', value='#D3D3D3'), table_body_vlines_style=OptionsInfo(scss=True, category='table_body', type='value', value='none'), table_body_vlines_width=OptionsInfo(scss=True, category='table_body', type='px', value='1px'), table_body_vlines_color=OptionsInfo(scss=True, category='table_body', type='value', value='#D3D3D3'), table_body_border_top_style=OptionsInfo(scss=True, category='table_body', type='value', value='solid'), table_body_border_top_width=OptionsInfo(scss=True, category='table_body', type='px', value='2px'), table_body_border_top_color=OptionsInfo(scss=True, category='table_body', type='value', value='#D3D3D3'), table_body_border_bottom_style=OptionsInfo(scss=True, category='table_body', type='value', value='solid'), table_body_border_bottom_width=OptionsInfo(scss=True, category='table_body', type='px', value='2px'), table_body_border_bottom_color=OptionsInfo(scss=True, category='table_body', type='value', value='#D3D3D3'), data_row_padding=OptionsInfo(scss=True, category='data_row', type='px', value='8px'), data_row_padding_horizontal=OptionsInfo(scss=True, category='data_row', type='px', value='5px'), stub_background_color=OptionsInfo(scss=True, category='stub', type='value', value=None), stub_font_size=OptionsInfo(scss=True, category='stub', type='px', value='100%'), stub_font_weight=OptionsInfo(scss=True, category='stub', type='value', value='initial'), stub_text_transform=OptionsInfo(scss=True, category='stub', type='value', value='inherit'), stub_border_style=OptionsInfo(scss=True, category='stub', type='value', value='solid'), stub_border_width=OptionsInfo(scss=True, category='stub', type='px', value='2px'), stub_border_color=OptionsInfo(scss=True, category='stub', type='value', value='#D3D3D3'), stub_row_group_background_color=OptionsInfo(scss=True, category='stub', type='value', value=None), stub_row_group_font_size=OptionsInfo(scss=True, category='stub', type='px', value='100%'), stub_row_group_font_weight=OptionsInfo(scss=True, category='stub', type='value', value='initial'), stub_row_group_text_transform=OptionsInfo(scss=True, category='stub', type='value', value='inherit'), stub_row_group_border_style=OptionsInfo(scss=True, category='stub', type='value', value='solid'), stub_row_group_border_width=OptionsInfo(scss=True, category='stub', type='px', value='2px'), stub_row_group_border_color=OptionsInfo(scss=True, category='stub', type='value', value='#D3D3D3'), source_notes_padding=OptionsInfo(scss=True, category='source_notes', type='px', value='4px'), source_notes_padding_horizontal=OptionsInfo(scss=True, category='source_notes', type='px', value='5px'), source_notes_background_color=OptionsInfo(scss=True, category='source_notes', type='value', value=None), source_notes_font_size=OptionsInfo(scss=True, category='source_notes', type='px', value='90%'), source_notes_border_bottom_style=OptionsInfo(scss=True, category='source_notes', type='value', value='none'), source_notes_border_bottom_width=OptionsInfo(scss=True, category='source_notes', type='px', value='2px'), source_notes_border_bottom_color=OptionsInfo(scss=True, category='source_notes', type='value', value='#D3D3D3'), source_notes_border_lr_style=OptionsInfo(scss=True, category='source_notes', type='value', value='none'), source_notes_border_lr_width=OptionsInfo(scss=True, category='source_notes', type='px', value='2px'), source_notes_border_lr_color=OptionsInfo(scss=True, category='source_notes', type='value', value='#D3D3D3'), source_notes_multiline=OptionsInfo(scss=False, category='source_notes', type='boolean', value=True), source_notes_sep=OptionsInfo(scss=False, category='source_notes', type='value', value=' '), row_striping_background_color=OptionsInfo(scss=True, category='row', type='value', value='rgba(128,128,128,0.05)'), row_striping_include_stub=OptionsInfo(scss=False, category='row', type='boolean', value=False), row_striping_include_table_body=OptionsInfo(scss=False, category='row', type='boolean', value=False), container_width=OptionsInfo(scss=False, category='container', type='px', value='auto'), container_height=OptionsInfo(scss=False, category='container', type='px', value='auto'), container_padding_x=OptionsInfo(scss=False, category='container', type='px', value='0px'), container_padding_y=OptionsInfo(scss=False, category='container', type='px', value='10px'), container_overflow_x=OptionsInfo(scss=False, category='container', type='overflow', value='auto'), container_overflow_y=OptionsInfo(scss=False, category='container', type='overflow', value='auto'), quarto_disable_processing=OptionsInfo(scss=False, category='quarto', type='logical', value=False), quarto_use_bootstrap=OptionsInfo(scss=False, category='quarto', type='logical', value=False)), _has_built=False)"
      ]
     },
     "execution_count": 14,
     "metadata": {},
     "output_type": "execute_result"
    }
   ],
   "source": [
    "A1 = np.exp(gammaln(alpha+p1x)+gammaln(beta+n-p1x)-gammaln(alpha+beta+n))/B_alpha_beta * \\\n",
    "                        np.exp(gammaln(gamma)+gammaln(delta+n+1)-gammaln(gamma+delta+n+1))/B_gamma_delta\n",
    "P_alive = A1 * L**-1\n",
    "\n",
    "tx_year_map = {tx: int(year) for tx, year in enumerate(years)}\n",
    "\n",
    "(\n",
    "    rfm_summary_calib\n",
    "    .with_columns(pl.col(\"t_x\").replace(tx_year_map).alias(\"Year\"))\n",
    "    .collect()\n",
    "    .hstack(pl.DataFrame({'P(Alive)': P_alive}))\n",
    "    .sort('Year')\n",
    "    .pivot(on='Year', index='P1X', values='P(Alive)')\n",
    "    .sort('P1X')\n",
    "    .style.tab_header(title=\"P(Alive in 2002) as a Function of Recency and Frequency\")\n",
    "    .tab_stub(rowname_col=\"P1X\")\n",
    "    .tab_stubhead(label='P1X')\n",
    "    .fmt_number(decimals=2)   \n",
    "    .tab_spanner(\n",
    "        label=\"Year of last transaction\",\n",
    "        columns=years[:7]\n",
    "    ).data_color(\n",
    "        domain=[0, 1],\n",
    "        palette=[\"white\", \"rebeccapurple\"],\n",
    "        na_color=\"white\",\n",
    "    ).sub_missing(\n",
    "        columns=pl.col('*'),\n",
    "        missing_text=\"\"\n",
    "    )    \n",
    ")"
   ]
  },
  {
   "cell_type": "markdown",
   "metadata": {},
   "source": [
    "### Posterior Mean of P as a Function of Recency and Frequency"
   ]
  },
  {
   "cell_type": "code",
   "execution_count": 15,
   "metadata": {},
   "outputs": [
    {
     "data": {
      "text/html": [
       "<div id=\"lmftvnsjea\" style=\"padding-left:0px;padding-right:0px;padding-top:10px;padding-bottom:10px;overflow-x:auto;overflow-y:auto;width:auto;height:auto;\">\n",
       "<style>\n",
       "#lmftvnsjea table {\n",
       "          font-family: -apple-system, BlinkMacSystemFont, 'Segoe UI', Roboto, Oxygen, Ubuntu, Cantarell, 'Helvetica Neue', 'Fira Sans', 'Droid Sans', Arial, sans-serif;\n",
       "          -webkit-font-smoothing: antialiased;\n",
       "          -moz-osx-font-smoothing: grayscale;\n",
       "        }\n",
       "\n",
       "#lmftvnsjea thead, tbody, tfoot, tr, td, th { border-style: none !important; }\n",
       " tr { background-color: transparent !important; }\n",
       "#lmftvnsjea p { margin: 0 !important; padding: 0 !important; }\n",
       " #lmftvnsjea .gt_table { display: table !important; border-collapse: collapse !important; line-height: normal !important; margin-left: auto !important; margin-right: auto !important; color: #333333 !important; font-size: 16px !important; font-weight: normal !important; font-style: normal !important; background-color: #FFFFFF !important; width: auto !important; border-top-style: solid !important; border-top-width: 2px !important; border-top-color: #A8A8A8 !important; border-right-style: none !important; border-right-width: 2px !important; border-right-color: #D3D3D3 !important; border-bottom-style: solid !important; border-bottom-width: 2px !important; border-bottom-color: #A8A8A8 !important; border-left-style: none !important; border-left-width: 2px !important; border-left-color: #D3D3D3 !important; }\n",
       " #lmftvnsjea .gt_caption { padding-top: 4px !important; padding-bottom: 4px !important; }\n",
       " #lmftvnsjea .gt_title { color: #333333 !important; font-size: 125% !important; font-weight: initial !important; padding-top: 4px !important; padding-bottom: 4px !important; padding-left: 5px !important; padding-right: 5px !important; border-bottom-color: #FFFFFF !important; border-bottom-width: 0 !important; }\n",
       " #lmftvnsjea .gt_subtitle { color: #333333 !important; font-size: 85% !important; font-weight: initial !important; padding-top: 3px !important; padding-bottom: 5px !important; padding-left: 5px !important; padding-right: 5px !important; border-top-color: #FFFFFF !important; border-top-width: 0 !important; }\n",
       " #lmftvnsjea .gt_heading { background-color: #FFFFFF !important; text-align: center !important; border-bottom-color: #FFFFFF !important; border-left-style: none !important; border-left-width: 1px !important; border-left-color: #D3D3D3 !important; border-right-style: none !important; border-right-width: 1px !important; border-right-color: #D3D3D3 !important; }\n",
       " #lmftvnsjea .gt_bottom_border { border-bottom-style: solid !important; border-bottom-width: 2px !important; border-bottom-color: #D3D3D3 !important; }\n",
       " #lmftvnsjea .gt_col_headings { border-top-style: solid !important; border-top-width: 2px !important; border-top-color: #D3D3D3 !important; border-bottom-style: solid !important; border-bottom-width: 2px !important; border-bottom-color: #D3D3D3 !important; border-left-style: none !important; border-left-width: 1px !important; border-left-color: #D3D3D3 !important; border-right-style: none !important; border-right-width: 1px !important; border-right-color: #D3D3D3 !important; }\n",
       " #lmftvnsjea .gt_col_heading { color: #333333 !important; background-color: #FFFFFF !important; font-size: 100% !important; font-weight: normal !important; text-transform: inherit !important; border-left-style: none !important; border-left-width: 1px !important; border-left-color: #D3D3D3 !important; border-right-style: none !important; border-right-width: 1px !important; border-right-color: #D3D3D3 !important; vertical-align: bottom !important; padding-top: 5px !important; padding-bottom: 5px !important; padding-left: 5px !important; padding-right: 5px !important; overflow-x: hidden !important; }\n",
       " #lmftvnsjea .gt_column_spanner_outer { color: #333333 !important; background-color: #FFFFFF !important; font-size: 100% !important; font-weight: normal !important; text-transform: inherit !important; padding-top: 0 !important; padding-bottom: 0 !important; padding-left: 4px !important; padding-right: 4px !important; }\n",
       " #lmftvnsjea .gt_column_spanner_outer:first-child { padding-left: 0 !important; }\n",
       " #lmftvnsjea .gt_column_spanner_outer:last-child { padding-right: 0 !important; }\n",
       " #lmftvnsjea .gt_column_spanner { border-bottom-style: solid !important; border-bottom-width: 2px !important; border-bottom-color: #D3D3D3 !important; vertical-align: bottom !important; padding-top: 5px !important; padding-bottom: 5px !important; overflow-x: hidden !important; display: inline-block !important; width: 100% !important; }\n",
       " #lmftvnsjea .gt_spanner_row { border-bottom-style: hidden !important; }\n",
       " #lmftvnsjea .gt_group_heading { padding-top: 8px !important; padding-bottom: 8px !important; padding-left: 5px !important; padding-right: 5px !important; color: #333333 !important; background-color: #FFFFFF !important; font-size: 100% !important; font-weight: initial !important; text-transform: inherit !important; border-top-style: solid !important; border-top-width: 2px !important; border-top-color: #D3D3D3 !important; border-bottom-style: solid !important; border-bottom-width: 2px !important; border-bottom-color: #D3D3D3 !important; border-left-style: none !important; border-left-width: 1px !important; border-left-color: #D3D3D3 !important; border-right-style: none !important; border-right-width: 1px !important; border-right-color: #D3D3D3 !important; vertical-align: middle !important; text-align: left !important; }\n",
       " #lmftvnsjea .gt_empty_group_heading { padding: 0.5px !important; color: #333333 !important; background-color: #FFFFFF !important; font-size: 100% !important; font-weight: initial !important; border-top-style: solid !important; border-top-width: 2px !important; border-top-color: #D3D3D3 !important; border-bottom-style: solid !important; border-bottom-width: 2px !important; border-bottom-color: #D3D3D3 !important; vertical-align: middle !important; }\n",
       " #lmftvnsjea .gt_from_md> :first-child { margin-top: 0 !important; }\n",
       " #lmftvnsjea .gt_from_md> :last-child { margin-bottom: 0 !important; }\n",
       " #lmftvnsjea .gt_row { padding-top: 8px !important; padding-bottom: 8px !important; padding-left: 5px !important; padding-right: 5px !important; margin: 10px !important; border-top-style: solid !important; border-top-width: 1px !important; border-top-color: #D3D3D3 !important; border-left-style: none !important; border-left-width: 1px !important; border-left-color: #D3D3D3 !important; border-right-style: none !important; border-right-width: 1px !important; border-right-color: #D3D3D3 !important; vertical-align: middle !important; overflow-x: hidden !important; }\n",
       " #lmftvnsjea .gt_stub { color: #333333 !important; background-color: #FFFFFF !important; font-size: 100% !important; font-weight: initial !important; text-transform: inherit !important; border-right-style: solid !important; border-right-width: 2px !important; border-right-color: #D3D3D3 !important; padding-left: 5px !important; padding-right: 5px !important; }\n",
       " #lmftvnsjea .gt_stub_row_group { color: #333333 !important; background-color: #FFFFFF !important; font-size: 100% !important; font-weight: initial !important; text-transform: inherit !important; border-right-style: solid !important; border-right-width: 2px !important; border-right-color: #D3D3D3 !important; padding-left: 5px !important; padding-right: 5px !important; vertical-align: top !important; }\n",
       " #lmftvnsjea .gt_row_group_first td { border-top-width: 2px !important; }\n",
       " #lmftvnsjea .gt_row_group_first th { border-top-width: 2px !important; }\n",
       " #lmftvnsjea .gt_striped { background-color: rgba(128,128,128,0.05) !important; }\n",
       " #lmftvnsjea .gt_table_body { border-top-style: solid !important; border-top-width: 2px !important; border-top-color: #D3D3D3 !important; border-bottom-style: solid !important; border-bottom-width: 2px !important; border-bottom-color: #D3D3D3 !important; }\n",
       " #lmftvnsjea .gt_sourcenotes { color: #333333 !important; background-color: #FFFFFF !important; border-bottom-style: none !important; border-bottom-width: 2px !important; border-bottom-color: #D3D3D3 !important; border-left-style: none !important; border-left-width: 2px !important; border-left-color: #D3D3D3 !important; border-right-style: none !important; border-right-width: 2px !important; border-right-color: #D3D3D3 !important; }\n",
       " #lmftvnsjea .gt_sourcenote { font-size: 90% !important; padding-top: 4px !important; padding-bottom: 4px !important; padding-left: 5px !important; padding-right: 5px !important; text-align: left !important; }\n",
       " #lmftvnsjea .gt_left { text-align: left !important; }\n",
       " #lmftvnsjea .gt_center { text-align: center !important; }\n",
       " #lmftvnsjea .gt_right { text-align: right !important; font-variant-numeric: tabular-nums !important; }\n",
       " #lmftvnsjea .gt_font_normal { font-weight: normal !important; }\n",
       " #lmftvnsjea .gt_font_bold { font-weight: bold !important; }\n",
       " #lmftvnsjea .gt_font_italic { font-style: italic !important; }\n",
       " #lmftvnsjea .gt_super { font-size: 65% !important; }\n",
       " #lmftvnsjea .gt_footnote_marks { font-size: 75% !important; vertical-align: 0.4em !important; position: initial !important; }\n",
       " #lmftvnsjea .gt_asterisk { font-size: 100% !important; vertical-align: 0 !important; }\n",
       " \n",
       "</style>\n",
       "<table class=\"gt_table\" data-quarto-disable-processing=\"false\" data-quarto-bootstrap=\"false\">\n",
       "<thead>\n",
       "\n",
       "  <tr class=\"gt_heading\">\n",
       "    <td colspan=\"8\" class=\"gt_heading gt_title gt_font_normal\">Posterior Mean of P as a Function of Recency and Frequency</td>\n",
       "  </tr>\n",
       "<tr class=\"gt_col_headings gt_spanner_row\">\n",
       "  <th class=\"gt_col_heading gt_columns_bottom_border gt_left\" rowspan=\"2\" colspan=\"1\" scope=\"col\" id=\"P1X\">P1X</th>\n",
       "  <th class=\"gt_center gt_columns_top_border gt_column_spanner_outer\" rowspan=\"1\" colspan=\"7\" scope=\"colgroup\" id=\"Year of last transaction\">\n",
       "    <span class=\"gt_column_spanner\">Year of last transaction</span>\n",
       "  </th>\n",
       "</tr>\n",
       "<tr class=\"gt_col_headings\">\n",
       "  <th class=\"gt_col_heading gt_columns_bottom_border gt_right\" rowspan=\"1\" colspan=\"1\" scope=\"col\" id=\"1995\">1995</th>\n",
       "  <th class=\"gt_col_heading gt_columns_bottom_border gt_right\" rowspan=\"1\" colspan=\"1\" scope=\"col\" id=\"1996\">1996</th>\n",
       "  <th class=\"gt_col_heading gt_columns_bottom_border gt_right\" rowspan=\"1\" colspan=\"1\" scope=\"col\" id=\"1997\">1997</th>\n",
       "  <th class=\"gt_col_heading gt_columns_bottom_border gt_right\" rowspan=\"1\" colspan=\"1\" scope=\"col\" id=\"1998\">1998</th>\n",
       "  <th class=\"gt_col_heading gt_columns_bottom_border gt_right\" rowspan=\"1\" colspan=\"1\" scope=\"col\" id=\"1999\">1999</th>\n",
       "  <th class=\"gt_col_heading gt_columns_bottom_border gt_right\" rowspan=\"1\" colspan=\"1\" scope=\"col\" id=\"2000\">2000</th>\n",
       "  <th class=\"gt_col_heading gt_columns_bottom_border gt_right\" rowspan=\"1\" colspan=\"1\" scope=\"col\" id=\"2001\">2001</th>\n",
       "</tr>\n",
       "</thead>\n",
       "<tbody class=\"gt_table_body\">\n",
       "  <tr>\n",
       "    <th style=\"color: #000000; background-color: #FFFFFF;\" class=\"gt_row gt_left gt_stub\">0</th>\n",
       "    <td style=\"color: #000000; background-color: #c8b6da;\" class=\"gt_row gt_right\">0.49</td>\n",
       "    <td style=\"color: #000000; background-color: #FFFFFF;\" class=\"gt_row gt_right\"></td>\n",
       "    <td style=\"color: #000000; background-color: #FFFFFF;\" class=\"gt_row gt_right\"></td>\n",
       "    <td style=\"color: #000000; background-color: #FFFFFF;\" class=\"gt_row gt_right\"></td>\n",
       "    <td style=\"color: #000000; background-color: #FFFFFF;\" class=\"gt_row gt_right\"></td>\n",
       "    <td style=\"color: #000000; background-color: #FFFFFF;\" class=\"gt_row gt_right\"></td>\n",
       "    <td style=\"color: #000000; background-color: #FFFFFF;\" class=\"gt_row gt_right\"></td>\n",
       "  </tr>\n",
       "  <tr>\n",
       "    <th style=\"color: #FFFFFF; background-color: #663399;\" class=\"gt_row gt_left gt_stub\">1</th>\n",
       "    <td style=\"color: #000000; background-color: #FFFFFF;\" class=\"gt_row gt_right\"></td>\n",
       "    <td style=\"color: #000000; background-color: #a689c4;\" class=\"gt_row gt_right\">0.66</td>\n",
       "    <td style=\"color: #000000; background-color: #d1c1e0;\" class=\"gt_row gt_right\">0.44</td>\n",
       "    <td style=\"color: #000000; background-color: #e4dbed;\" class=\"gt_row gt_right\">0.34</td>\n",
       "    <td style=\"color: #000000; background-color: #ece6f3;\" class=\"gt_row gt_right\">0.30</td>\n",
       "    <td style=\"color: #000000; background-color: #efeaf5;\" class=\"gt_row gt_right\">0.28</td>\n",
       "    <td style=\"color: #000000; background-color: #f0ebf5;\" class=\"gt_row gt_right\">0.28</td>\n",
       "  </tr>\n",
       "  <tr>\n",
       "    <th style=\"color: #000000; background-color: #FFFFFF;\" class=\"gt_row gt_left gt_stub\">2</th>\n",
       "    <td style=\"color: #000000; background-color: #FFFFFF;\" class=\"gt_row gt_right\"></td>\n",
       "    <td style=\"color: #000000; background-color: #FFFFFF;\" class=\"gt_row gt_right\"></td>\n",
       "    <td style=\"color: #000000; background-color: #9672b9;\" class=\"gt_row gt_right\">0.75</td>\n",
       "    <td style=\"color: #000000; background-color: #bda7d3;\" class=\"gt_row gt_right\">0.54</td>\n",
       "    <td style=\"color: #000000; background-color: #d0c1e0;\" class=\"gt_row gt_right\">0.44</td>\n",
       "    <td style=\"color: #000000; background-color: #d7c9e4;\" class=\"gt_row gt_right\">0.41</td>\n",
       "    <td style=\"color: #000000; background-color: #d8cbe5;\" class=\"gt_row gt_right\">0.40</td>\n",
       "  </tr>\n",
       "  <tr>\n",
       "    <th style=\"color: #000000; background-color: #FFFFFF;\" class=\"gt_row gt_left gt_stub\">3</th>\n",
       "    <td style=\"color: #000000; background-color: #FFFFFF;\" class=\"gt_row gt_right\"></td>\n",
       "    <td style=\"color: #000000; background-color: #FFFFFF;\" class=\"gt_row gt_right\"></td>\n",
       "    <td style=\"color: #000000; background-color: #FFFFFF;\" class=\"gt_row gt_right\"></td>\n",
       "    <td style=\"color: #000000; background-color: #8d67b3;\" class=\"gt_row gt_right\">0.80</td>\n",
       "    <td style=\"color: #000000; background-color: #b096ca;\" class=\"gt_row gt_right\">0.61</td>\n",
       "    <td style=\"color: #000000; background-color: #bea8d3;\" class=\"gt_row gt_right\">0.54</td>\n",
       "    <td style=\"color: #000000; background-color: #c0abd5;\" class=\"gt_row gt_right\">0.53</td>\n",
       "  </tr>\n",
       "  <tr>\n",
       "    <th style=\"color: #000000; background-color: #FFFFFF;\" class=\"gt_row gt_left gt_stub\">4</th>\n",
       "    <td style=\"color: #000000; background-color: #FFFFFF;\" class=\"gt_row gt_right\"></td>\n",
       "    <td style=\"color: #000000; background-color: #FFFFFF;\" class=\"gt_row gt_right\"></td>\n",
       "    <td style=\"color: #000000; background-color: #FFFFFF;\" class=\"gt_row gt_right\"></td>\n",
       "    <td style=\"color: #000000; background-color: #FFFFFF;\" class=\"gt_row gt_right\"></td>\n",
       "    <td style=\"color: #FFFFFF; background-color: #8961b0;\" class=\"gt_row gt_right\">0.82</td>\n",
       "    <td style=\"color: #000000; background-color: #a485c2;\" class=\"gt_row gt_right\">0.68</td>\n",
       "    <td style=\"color: #000000; background-color: #a88bc5;\" class=\"gt_row gt_right\">0.65</td>\n",
       "  </tr>\n",
       "  <tr>\n",
       "    <th style=\"color: #000000; background-color: #FFFFFF;\" class=\"gt_row gt_left gt_stub\">5</th>\n",
       "    <td style=\"color: #000000; background-color: #FFFFFF;\" class=\"gt_row gt_right\"></td>\n",
       "    <td style=\"color: #000000; background-color: #FFFFFF;\" class=\"gt_row gt_right\"></td>\n",
       "    <td style=\"color: #000000; background-color: #FFFFFF;\" class=\"gt_row gt_right\"></td>\n",
       "    <td style=\"color: #000000; background-color: #FFFFFF;\" class=\"gt_row gt_right\"></td>\n",
       "    <td style=\"color: #000000; background-color: #FFFFFF;\" class=\"gt_row gt_right\"></td>\n",
       "    <td style=\"color: #FFFFFF; background-color: #875faf;\" class=\"gt_row gt_right\">0.83</td>\n",
       "    <td style=\"color: #000000; background-color: #906bb5;\" class=\"gt_row gt_right\">0.78</td>\n",
       "  </tr>\n",
       "  <tr>\n",
       "    <th style=\"color: #000000; background-color: #FFFFFF;\" class=\"gt_row gt_left gt_stub\">6</th>\n",
       "    <td style=\"color: #000000; background-color: #FFFFFF;\" class=\"gt_row gt_right\"></td>\n",
       "    <td style=\"color: #000000; background-color: #FFFFFF;\" class=\"gt_row gt_right\"></td>\n",
       "    <td style=\"color: #000000; background-color: #FFFFFF;\" class=\"gt_row gt_right\"></td>\n",
       "    <td style=\"color: #000000; background-color: #FFFFFF;\" class=\"gt_row gt_right\"></td>\n",
       "    <td style=\"color: #000000; background-color: #FFFFFF;\" class=\"gt_row gt_right\"></td>\n",
       "    <td style=\"color: #000000; background-color: #FFFFFF;\" class=\"gt_row gt_right\"></td>\n",
       "    <td style=\"color: #FFFFFF; background-color: #784ba5;\" class=\"gt_row gt_right\">0.91</td>\n",
       "  </tr>\n",
       "</tbody>\n",
       "\n",
       "\n",
       "</table>\n",
       "\n",
       "</div>\n",
       "        "
      ],
      "text/plain": [
       "GT(_tbl_data=shape: (7, 8)\n",
       "┌─────┬─────────┬──────────┬──────────┬──────────┬──────────┬──────────┬──────────┐\n",
       "│ P1X ┆ 1995    ┆ 1996     ┆ 1997     ┆ 1998     ┆ 1999     ┆ 2000     ┆ 2001     │\n",
       "│ --- ┆ ---     ┆ ---      ┆ ---      ┆ ---      ┆ ---      ┆ ---      ┆ ---      │\n",
       "│ i8  ┆ f64     ┆ f64      ┆ f64      ┆ f64      ┆ f64      ┆ f64      ┆ f64      │\n",
       "╞═════╪═════════╪══════════╪══════════╪══════════╪══════════╪══════════╪══════════╡\n",
       "│ 0   ┆ 0.48773 ┆ null     ┆ null     ┆ null     ┆ null     ┆ null     ┆ null     │\n",
       "│ 1   ┆ null    ┆ 0.663355 ┆ 0.442591 ┆ 0.340439 ┆ 0.297263 ┆ 0.281437 ┆ 0.277057 │\n",
       "│ 2   ┆ null    ┆ null     ┆ 0.751242 ┆ 0.54432  ┆ 0.444681 ┆ 0.41063  ┆ 0.402792 │\n",
       "│ 3   ┆ null    ┆ null     ┆ null     ┆ 0.79749  ┆ 0.611963 ┆ 0.541894 ┆ 0.528528 │\n",
       "│ 4   ┆ null    ┆ null     ┆ null     ┆ null     ┆ 0.817709 ┆ 0.677892 ┆ 0.654264 │\n",
       "│ 5   ┆ null    ┆ null     ┆ null     ┆ null     ┆ null     ┆ 0.829246 ┆ 0.779999 │\n",
       "│ 6   ┆ null    ┆ null     ┆ null     ┆ null     ┆ null     ┆ null     ┆ 0.905735 │\n",
       "└─────┴─────────┴──────────┴──────────┴──────────┴──────────┴──────────┴──────────┘, _body=<great_tables._gt_data.Body object at 0x000002789DCE4260>, _boxhead=Boxhead([ColInfo(var='P1X', type=<ColInfoTypeEnum.stub: 2>, column_label='P1X', column_align='right', column_width=None), ColInfo(var='1995', type=<ColInfoTypeEnum.default: 1>, column_label='1995', column_align='right', column_width=None), ColInfo(var='1996', type=<ColInfoTypeEnum.default: 1>, column_label='1996', column_align='right', column_width=None), ColInfo(var='1997', type=<ColInfoTypeEnum.default: 1>, column_label='1997', column_align='right', column_width=None), ColInfo(var='1998', type=<ColInfoTypeEnum.default: 1>, column_label='1998', column_align='right', column_width=None), ColInfo(var='1999', type=<ColInfoTypeEnum.default: 1>, column_label='1999', column_align='right', column_width=None), ColInfo(var='2000', type=<ColInfoTypeEnum.default: 1>, column_label='2000', column_align='right', column_width=None), ColInfo(var='2001', type=<ColInfoTypeEnum.default: 1>, column_label='2001', column_align='right', column_width=None)]), _stub=<great_tables._gt_data.Stub object at 0x000002789E4C8A40>, _spanners=Spanners([SpannerInfo(spanner_id='Year of last transaction', spanner_level=0, spanner_label='Year of last transaction', spanner_units=None, spanner_pattern=None, vars=['1995', '1996', '1997', '1998', '1999', '2000', '2001'], built=None)]), _heading=Heading(title='Posterior Mean of P as a Function of Recency and Frequency', subtitle=None, preheader=None), _stubhead='P1X', _source_notes=[], _footnotes=[], _styles=[StyleInfo(locname=LocBody(columns='P1X', rows=[0]), grpname=None, colname='P1X', rownum=0, colnum=None, styles=[CellStyleText(color='#000000', font=None, size=None, align=None, v_align=None, style=None, weight=None, stretch=None, decorate=None, transform=None, whitespace=None), CellStyleFill(color='#FFFFFF')]), StyleInfo(locname=LocBody(columns='P1X', rows=[1]), grpname=None, colname='P1X', rownum=1, colnum=None, styles=[CellStyleText(color='#FFFFFF', font=None, size=None, align=None, v_align=None, style=None, weight=None, stretch=None, decorate=None, transform=None, whitespace=None), CellStyleFill(color='#663399')]), StyleInfo(locname=LocBody(columns='P1X', rows=[2]), grpname=None, colname='P1X', rownum=2, colnum=None, styles=[CellStyleText(color='#000000', font=None, size=None, align=None, v_align=None, style=None, weight=None, stretch=None, decorate=None, transform=None, whitespace=None), CellStyleFill(color='#FFFFFF')]), StyleInfo(locname=LocBody(columns='P1X', rows=[3]), grpname=None, colname='P1X', rownum=3, colnum=None, styles=[CellStyleText(color='#000000', font=None, size=None, align=None, v_align=None, style=None, weight=None, stretch=None, decorate=None, transform=None, whitespace=None), CellStyleFill(color='#FFFFFF')]), StyleInfo(locname=LocBody(columns='P1X', rows=[4]), grpname=None, colname='P1X', rownum=4, colnum=None, styles=[CellStyleText(color='#000000', font=None, size=None, align=None, v_align=None, style=None, weight=None, stretch=None, decorate=None, transform=None, whitespace=None), CellStyleFill(color='#FFFFFF')]), StyleInfo(locname=LocBody(columns='P1X', rows=[5]), grpname=None, colname='P1X', rownum=5, colnum=None, styles=[CellStyleText(color='#000000', font=None, size=None, align=None, v_align=None, style=None, weight=None, stretch=None, decorate=None, transform=None, whitespace=None), CellStyleFill(color='#FFFFFF')]), StyleInfo(locname=LocBody(columns='P1X', rows=[6]), grpname=None, colname='P1X', rownum=6, colnum=None, styles=[CellStyleText(color='#000000', font=None, size=None, align=None, v_align=None, style=None, weight=None, stretch=None, decorate=None, transform=None, whitespace=None), CellStyleFill(color='#FFFFFF')]), StyleInfo(locname=LocBody(columns='1995', rows=[0]), grpname=None, colname='1995', rownum=0, colnum=None, styles=[CellStyleText(color='#000000', font=None, size=None, align=None, v_align=None, style=None, weight=None, stretch=None, decorate=None, transform=None, whitespace=None), CellStyleFill(color='#c8b6da')]), StyleInfo(locname=LocBody(columns='1995', rows=[1]), grpname=None, colname='1995', rownum=1, colnum=None, styles=[CellStyleText(color='#000000', font=None, size=None, align=None, v_align=None, style=None, weight=None, stretch=None, decorate=None, transform=None, whitespace=None), CellStyleFill(color='#FFFFFF')]), StyleInfo(locname=LocBody(columns='1995', rows=[2]), grpname=None, colname='1995', rownum=2, colnum=None, styles=[CellStyleText(color='#000000', font=None, size=None, align=None, v_align=None, style=None, weight=None, stretch=None, decorate=None, transform=None, whitespace=None), CellStyleFill(color='#FFFFFF')]), StyleInfo(locname=LocBody(columns='1995', rows=[3]), grpname=None, colname='1995', rownum=3, colnum=None, styles=[CellStyleText(color='#000000', font=None, size=None, align=None, v_align=None, style=None, weight=None, stretch=None, decorate=None, transform=None, whitespace=None), CellStyleFill(color='#FFFFFF')]), StyleInfo(locname=LocBody(columns='1995', rows=[4]), grpname=None, colname='1995', rownum=4, colnum=None, styles=[CellStyleText(color='#000000', font=None, size=None, align=None, v_align=None, style=None, weight=None, stretch=None, decorate=None, transform=None, whitespace=None), CellStyleFill(color='#FFFFFF')]), StyleInfo(locname=LocBody(columns='1995', rows=[5]), grpname=None, colname='1995', rownum=5, colnum=None, styles=[CellStyleText(color='#000000', font=None, size=None, align=None, v_align=None, style=None, weight=None, stretch=None, decorate=None, transform=None, whitespace=None), CellStyleFill(color='#FFFFFF')]), StyleInfo(locname=LocBody(columns='1995', rows=[6]), grpname=None, colname='1995', rownum=6, colnum=None, styles=[CellStyleText(color='#000000', font=None, size=None, align=None, v_align=None, style=None, weight=None, stretch=None, decorate=None, transform=None, whitespace=None), CellStyleFill(color='#FFFFFF')]), StyleInfo(locname=LocBody(columns='1996', rows=[0]), grpname=None, colname='1996', rownum=0, colnum=None, styles=[CellStyleText(color='#000000', font=None, size=None, align=None, v_align=None, style=None, weight=None, stretch=None, decorate=None, transform=None, whitespace=None), CellStyleFill(color='#FFFFFF')]), StyleInfo(locname=LocBody(columns='1996', rows=[1]), grpname=None, colname='1996', rownum=1, colnum=None, styles=[CellStyleText(color='#000000', font=None, size=None, align=None, v_align=None, style=None, weight=None, stretch=None, decorate=None, transform=None, whitespace=None), CellStyleFill(color='#a689c4')]), StyleInfo(locname=LocBody(columns='1996', rows=[2]), grpname=None, colname='1996', rownum=2, colnum=None, styles=[CellStyleText(color='#000000', font=None, size=None, align=None, v_align=None, style=None, weight=None, stretch=None, decorate=None, transform=None, whitespace=None), CellStyleFill(color='#FFFFFF')]), StyleInfo(locname=LocBody(columns='1996', rows=[3]), grpname=None, colname='1996', rownum=3, colnum=None, styles=[CellStyleText(color='#000000', font=None, size=None, align=None, v_align=None, style=None, weight=None, stretch=None, decorate=None, transform=None, whitespace=None), CellStyleFill(color='#FFFFFF')]), StyleInfo(locname=LocBody(columns='1996', rows=[4]), grpname=None, colname='1996', rownum=4, colnum=None, styles=[CellStyleText(color='#000000', font=None, size=None, align=None, v_align=None, style=None, weight=None, stretch=None, decorate=None, transform=None, whitespace=None), CellStyleFill(color='#FFFFFF')]), StyleInfo(locname=LocBody(columns='1996', rows=[5]), grpname=None, colname='1996', rownum=5, colnum=None, styles=[CellStyleText(color='#000000', font=None, size=None, align=None, v_align=None, style=None, weight=None, stretch=None, decorate=None, transform=None, whitespace=None), CellStyleFill(color='#FFFFFF')]), StyleInfo(locname=LocBody(columns='1996', rows=[6]), grpname=None, colname='1996', rownum=6, colnum=None, styles=[CellStyleText(color='#000000', font=None, size=None, align=None, v_align=None, style=None, weight=None, stretch=None, decorate=None, transform=None, whitespace=None), CellStyleFill(color='#FFFFFF')]), StyleInfo(locname=LocBody(columns='1997', rows=[0]), grpname=None, colname='1997', rownum=0, colnum=None, styles=[CellStyleText(color='#000000', font=None, size=None, align=None, v_align=None, style=None, weight=None, stretch=None, decorate=None, transform=None, whitespace=None), CellStyleFill(color='#FFFFFF')]), StyleInfo(locname=LocBody(columns='1997', rows=[1]), grpname=None, colname='1997', rownum=1, colnum=None, styles=[CellStyleText(color='#000000', font=None, size=None, align=None, v_align=None, style=None, weight=None, stretch=None, decorate=None, transform=None, whitespace=None), CellStyleFill(color='#d1c1e0')]), StyleInfo(locname=LocBody(columns='1997', rows=[2]), grpname=None, colname='1997', rownum=2, colnum=None, styles=[CellStyleText(color='#000000', font=None, size=None, align=None, v_align=None, style=None, weight=None, stretch=None, decorate=None, transform=None, whitespace=None), CellStyleFill(color='#9672b9')]), StyleInfo(locname=LocBody(columns='1997', rows=[3]), grpname=None, colname='1997', rownum=3, colnum=None, styles=[CellStyleText(color='#000000', font=None, size=None, align=None, v_align=None, style=None, weight=None, stretch=None, decorate=None, transform=None, whitespace=None), CellStyleFill(color='#FFFFFF')]), StyleInfo(locname=LocBody(columns='1997', rows=[4]), grpname=None, colname='1997', rownum=4, colnum=None, styles=[CellStyleText(color='#000000', font=None, size=None, align=None, v_align=None, style=None, weight=None, stretch=None, decorate=None, transform=None, whitespace=None), CellStyleFill(color='#FFFFFF')]), StyleInfo(locname=LocBody(columns='1997', rows=[5]), grpname=None, colname='1997', rownum=5, colnum=None, styles=[CellStyleText(color='#000000', font=None, size=None, align=None, v_align=None, style=None, weight=None, stretch=None, decorate=None, transform=None, whitespace=None), CellStyleFill(color='#FFFFFF')]), StyleInfo(locname=LocBody(columns='1997', rows=[6]), grpname=None, colname='1997', rownum=6, colnum=None, styles=[CellStyleText(color='#000000', font=None, size=None, align=None, v_align=None, style=None, weight=None, stretch=None, decorate=None, transform=None, whitespace=None), CellStyleFill(color='#FFFFFF')]), StyleInfo(locname=LocBody(columns='1998', rows=[0]), grpname=None, colname='1998', rownum=0, colnum=None, styles=[CellStyleText(color='#000000', font=None, size=None, align=None, v_align=None, style=None, weight=None, stretch=None, decorate=None, transform=None, whitespace=None), CellStyleFill(color='#FFFFFF')]), StyleInfo(locname=LocBody(columns='1998', rows=[1]), grpname=None, colname='1998', rownum=1, colnum=None, styles=[CellStyleText(color='#000000', font=None, size=None, align=None, v_align=None, style=None, weight=None, stretch=None, decorate=None, transform=None, whitespace=None), CellStyleFill(color='#e4dbed')]), StyleInfo(locname=LocBody(columns='1998', rows=[2]), grpname=None, colname='1998', rownum=2, colnum=None, styles=[CellStyleText(color='#000000', font=None, size=None, align=None, v_align=None, style=None, weight=None, stretch=None, decorate=None, transform=None, whitespace=None), CellStyleFill(color='#bda7d3')]), StyleInfo(locname=LocBody(columns='1998', rows=[3]), grpname=None, colname='1998', rownum=3, colnum=None, styles=[CellStyleText(color='#000000', font=None, size=None, align=None, v_align=None, style=None, weight=None, stretch=None, decorate=None, transform=None, whitespace=None), CellStyleFill(color='#8d67b3')]), StyleInfo(locname=LocBody(columns='1998', rows=[4]), grpname=None, colname='1998', rownum=4, colnum=None, styles=[CellStyleText(color='#000000', font=None, size=None, align=None, v_align=None, style=None, weight=None, stretch=None, decorate=None, transform=None, whitespace=None), CellStyleFill(color='#FFFFFF')]), StyleInfo(locname=LocBody(columns='1998', rows=[5]), grpname=None, colname='1998', rownum=5, colnum=None, styles=[CellStyleText(color='#000000', font=None, size=None, align=None, v_align=None, style=None, weight=None, stretch=None, decorate=None, transform=None, whitespace=None), CellStyleFill(color='#FFFFFF')]), StyleInfo(locname=LocBody(columns='1998', rows=[6]), grpname=None, colname='1998', rownum=6, colnum=None, styles=[CellStyleText(color='#000000', font=None, size=None, align=None, v_align=None, style=None, weight=None, stretch=None, decorate=None, transform=None, whitespace=None), CellStyleFill(color='#FFFFFF')]), StyleInfo(locname=LocBody(columns='1999', rows=[0]), grpname=None, colname='1999', rownum=0, colnum=None, styles=[CellStyleText(color='#000000', font=None, size=None, align=None, v_align=None, style=None, weight=None, stretch=None, decorate=None, transform=None, whitespace=None), CellStyleFill(color='#FFFFFF')]), StyleInfo(locname=LocBody(columns='1999', rows=[1]), grpname=None, colname='1999', rownum=1, colnum=None, styles=[CellStyleText(color='#000000', font=None, size=None, align=None, v_align=None, style=None, weight=None, stretch=None, decorate=None, transform=None, whitespace=None), CellStyleFill(color='#ece6f3')]), StyleInfo(locname=LocBody(columns='1999', rows=[2]), grpname=None, colname='1999', rownum=2, colnum=None, styles=[CellStyleText(color='#000000', font=None, size=None, align=None, v_align=None, style=None, weight=None, stretch=None, decorate=None, transform=None, whitespace=None), CellStyleFill(color='#d0c1e0')]), StyleInfo(locname=LocBody(columns='1999', rows=[3]), grpname=None, colname='1999', rownum=3, colnum=None, styles=[CellStyleText(color='#000000', font=None, size=None, align=None, v_align=None, style=None, weight=None, stretch=None, decorate=None, transform=None, whitespace=None), CellStyleFill(color='#b096ca')]), StyleInfo(locname=LocBody(columns='1999', rows=[4]), grpname=None, colname='1999', rownum=4, colnum=None, styles=[CellStyleText(color='#FFFFFF', font=None, size=None, align=None, v_align=None, style=None, weight=None, stretch=None, decorate=None, transform=None, whitespace=None), CellStyleFill(color='#8961b0')]), StyleInfo(locname=LocBody(columns='1999', rows=[5]), grpname=None, colname='1999', rownum=5, colnum=None, styles=[CellStyleText(color='#000000', font=None, size=None, align=None, v_align=None, style=None, weight=None, stretch=None, decorate=None, transform=None, whitespace=None), CellStyleFill(color='#FFFFFF')]), StyleInfo(locname=LocBody(columns='1999', rows=[6]), grpname=None, colname='1999', rownum=6, colnum=None, styles=[CellStyleText(color='#000000', font=None, size=None, align=None, v_align=None, style=None, weight=None, stretch=None, decorate=None, transform=None, whitespace=None), CellStyleFill(color='#FFFFFF')]), StyleInfo(locname=LocBody(columns='2000', rows=[0]), grpname=None, colname='2000', rownum=0, colnum=None, styles=[CellStyleText(color='#000000', font=None, size=None, align=None, v_align=None, style=None, weight=None, stretch=None, decorate=None, transform=None, whitespace=None), CellStyleFill(color='#FFFFFF')]), StyleInfo(locname=LocBody(columns='2000', rows=[1]), grpname=None, colname='2000', rownum=1, colnum=None, styles=[CellStyleText(color='#000000', font=None, size=None, align=None, v_align=None, style=None, weight=None, stretch=None, decorate=None, transform=None, whitespace=None), CellStyleFill(color='#efeaf5')]), StyleInfo(locname=LocBody(columns='2000', rows=[2]), grpname=None, colname='2000', rownum=2, colnum=None, styles=[CellStyleText(color='#000000', font=None, size=None, align=None, v_align=None, style=None, weight=None, stretch=None, decorate=None, transform=None, whitespace=None), CellStyleFill(color='#d7c9e4')]), StyleInfo(locname=LocBody(columns='2000', rows=[3]), grpname=None, colname='2000', rownum=3, colnum=None, styles=[CellStyleText(color='#000000', font=None, size=None, align=None, v_align=None, style=None, weight=None, stretch=None, decorate=None, transform=None, whitespace=None), CellStyleFill(color='#bea8d3')]), StyleInfo(locname=LocBody(columns='2000', rows=[4]), grpname=None, colname='2000', rownum=4, colnum=None, styles=[CellStyleText(color='#000000', font=None, size=None, align=None, v_align=None, style=None, weight=None, stretch=None, decorate=None, transform=None, whitespace=None), CellStyleFill(color='#a485c2')]), StyleInfo(locname=LocBody(columns='2000', rows=[5]), grpname=None, colname='2000', rownum=5, colnum=None, styles=[CellStyleText(color='#FFFFFF', font=None, size=None, align=None, v_align=None, style=None, weight=None, stretch=None, decorate=None, transform=None, whitespace=None), CellStyleFill(color='#875faf')]), StyleInfo(locname=LocBody(columns='2000', rows=[6]), grpname=None, colname='2000', rownum=6, colnum=None, styles=[CellStyleText(color='#000000', font=None, size=None, align=None, v_align=None, style=None, weight=None, stretch=None, decorate=None, transform=None, whitespace=None), CellStyleFill(color='#FFFFFF')]), StyleInfo(locname=LocBody(columns='2001', rows=[0]), grpname=None, colname='2001', rownum=0, colnum=None, styles=[CellStyleText(color='#000000', font=None, size=None, align=None, v_align=None, style=None, weight=None, stretch=None, decorate=None, transform=None, whitespace=None), CellStyleFill(color='#FFFFFF')]), StyleInfo(locname=LocBody(columns='2001', rows=[1]), grpname=None, colname='2001', rownum=1, colnum=None, styles=[CellStyleText(color='#000000', font=None, size=None, align=None, v_align=None, style=None, weight=None, stretch=None, decorate=None, transform=None, whitespace=None), CellStyleFill(color='#f0ebf5')]), StyleInfo(locname=LocBody(columns='2001', rows=[2]), grpname=None, colname='2001', rownum=2, colnum=None, styles=[CellStyleText(color='#000000', font=None, size=None, align=None, v_align=None, style=None, weight=None, stretch=None, decorate=None, transform=None, whitespace=None), CellStyleFill(color='#d8cbe5')]), StyleInfo(locname=LocBody(columns='2001', rows=[3]), grpname=None, colname='2001', rownum=3, colnum=None, styles=[CellStyleText(color='#000000', font=None, size=None, align=None, v_align=None, style=None, weight=None, stretch=None, decorate=None, transform=None, whitespace=None), CellStyleFill(color='#c0abd5')]), StyleInfo(locname=LocBody(columns='2001', rows=[4]), grpname=None, colname='2001', rownum=4, colnum=None, styles=[CellStyleText(color='#000000', font=None, size=None, align=None, v_align=None, style=None, weight=None, stretch=None, decorate=None, transform=None, whitespace=None), CellStyleFill(color='#a88bc5')]), StyleInfo(locname=LocBody(columns='2001', rows=[5]), grpname=None, colname='2001', rownum=5, colnum=None, styles=[CellStyleText(color='#000000', font=None, size=None, align=None, v_align=None, style=None, weight=None, stretch=None, decorate=None, transform=None, whitespace=None), CellStyleFill(color='#906bb5')]), StyleInfo(locname=LocBody(columns='2001', rows=[6]), grpname=None, colname='2001', rownum=6, colnum=None, styles=[CellStyleText(color='#FFFFFF', font=None, size=None, align=None, v_align=None, style=None, weight=None, stretch=None, decorate=None, transform=None, whitespace=None), CellStyleFill(color='#784ba5')])], _locale=<great_tables._gt_data.Locale object at 0x000002789DCE6BD0>, _formats=[<great_tables._gt_data.FormatInfo object at 0x000002789DEAF0E0>], _substitutions=[<great_tables._gt_data.FormatInfo object at 0x000002789E4CA810>], _options=Options(table_id=OptionsInfo(scss=False, category='table', type='value', value=None), table_caption=OptionsInfo(scss=False, category='table', type='value', value=None), table_width=OptionsInfo(scss=True, category='table', type='px', value='auto'), table_layout=OptionsInfo(scss=True, category='table', type='value', value='fixed'), table_margin_left=OptionsInfo(scss=True, category='table', type='px', value='auto'), table_margin_right=OptionsInfo(scss=True, category='table', type='px', value='auto'), table_background_color=OptionsInfo(scss=True, category='table', type='value', value='#FFFFFF'), table_additional_css=OptionsInfo(scss=False, category='table', type='values', value=[]), table_font_names=OptionsInfo(scss=False, category='table', type='values', value=['-apple-system', 'BlinkMacSystemFont', 'Segoe UI', 'Roboto', 'Oxygen', 'Ubuntu', 'Cantarell', 'Helvetica Neue', 'Fira Sans', 'Droid Sans', 'Arial', 'sans-serif']), table_font_size=OptionsInfo(scss=True, category='table', type='px', value='16px'), table_font_weight=OptionsInfo(scss=True, category='table', type='value', value='normal'), table_font_style=OptionsInfo(scss=True, category='table', type='value', value='normal'), table_font_color=OptionsInfo(scss=True, category='table', type='value', value='#333333'), table_font_color_light=OptionsInfo(scss=True, category='table', type='value', value='#FFFFFF'), table_border_top_include=OptionsInfo(scss=False, category='table', type='boolean', value=True), table_border_top_style=OptionsInfo(scss=True, category='table', type='value', value='solid'), table_border_top_width=OptionsInfo(scss=True, category='table', type='px', value='2px'), table_border_top_color=OptionsInfo(scss=True, category='table', type='value', value='#A8A8A8'), table_border_right_style=OptionsInfo(scss=True, category='table', type='value', value='none'), table_border_right_width=OptionsInfo(scss=True, category='table', type='px', value='2px'), table_border_right_color=OptionsInfo(scss=True, category='table', type='value', value='#D3D3D3'), table_border_bottom_include=OptionsInfo(scss=False, category='table', type='boolean', value=True), table_border_bottom_style=OptionsInfo(scss=True, category='table', type='value', value='solid'), table_border_bottom_width=OptionsInfo(scss=True, category='table', type='px', value='2px'), table_border_bottom_color=OptionsInfo(scss=True, category='table', type='value', value='#A8A8A8'), table_border_left_style=OptionsInfo(scss=True, category='table', type='value', value='none'), table_border_left_width=OptionsInfo(scss=True, category='table', type='px', value='2px'), table_border_left_color=OptionsInfo(scss=True, category='table', type='value', value='#D3D3D3'), heading_background_color=OptionsInfo(scss=True, category='heading', type='value', value=None), heading_align=OptionsInfo(scss=True, category='heading', type='value', value='center'), heading_title_font_size=OptionsInfo(scss=True, category='heading', type='px', value='125%'), heading_title_font_weight=OptionsInfo(scss=True, category='heading', type='value', value='initial'), heading_subtitle_font_size=OptionsInfo(scss=True, category='heading', type='px', value='85%'), heading_subtitle_font_weight=OptionsInfo(scss=True, category='heading', type='value', value='initial'), heading_padding=OptionsInfo(scss=True, category='heading', type='px', value='4px'), heading_padding_horizontal=OptionsInfo(scss=True, category='heading', type='px', value='5px'), heading_border_bottom_style=OptionsInfo(scss=True, category='heading', type='value', value='solid'), heading_border_bottom_width=OptionsInfo(scss=True, category='heading', type='px', value='2px'), heading_border_bottom_color=OptionsInfo(scss=True, category='heading', type='value', value='#D3D3D3'), heading_border_lr_style=OptionsInfo(scss=True, category='heading', type='value', value='none'), heading_border_lr_width=OptionsInfo(scss=True, category='heading', type='px', value='1px'), heading_border_lr_color=OptionsInfo(scss=True, category='heading', type='value', value='#D3D3D3'), column_labels_background_color=OptionsInfo(scss=True, category='column_labels', type='value', value=None), column_labels_font_size=OptionsInfo(scss=True, category='column_labels', type='px', value='100%'), column_labels_font_weight=OptionsInfo(scss=True, category='column_labels', type='value', value='normal'), column_labels_text_transform=OptionsInfo(scss=True, category='column_labels', type='value', value='inherit'), column_labels_padding=OptionsInfo(scss=True, category='column_labels', type='px', value='5px'), column_labels_padding_horizontal=OptionsInfo(scss=True, category='column_labels', type='px', value='5px'), column_labels_vlines_style=OptionsInfo(scss=True, category='table_body', type='value', value='none'), column_labels_vlines_width=OptionsInfo(scss=True, category='table_body', type='px', value='1px'), column_labels_vlines_color=OptionsInfo(scss=True, category='table_body', type='value', value='#D3D3D3'), column_labels_border_top_style=OptionsInfo(scss=True, category='column_labels', type='value', value='solid'), column_labels_border_top_width=OptionsInfo(scss=True, category='column_labels', type='px', value='2px'), column_labels_border_top_color=OptionsInfo(scss=True, category='column_labels', type='value', value='#D3D3D3'), column_labels_border_bottom_style=OptionsInfo(scss=True, category='column_labels', type='value', value='solid'), column_labels_border_bottom_width=OptionsInfo(scss=True, category='column_labels', type='px', value='2px'), column_labels_border_bottom_color=OptionsInfo(scss=True, category='column_labels', type='value', value='#D3D3D3'), column_labels_border_lr_style=OptionsInfo(scss=True, category='column_labels', type='value', value='none'), column_labels_border_lr_width=OptionsInfo(scss=True, category='column_labels', type='px', value='1px'), column_labels_border_lr_color=OptionsInfo(scss=True, category='column_labels', type='value', value='#D3D3D3'), column_labels_hidden=OptionsInfo(scss=False, category='column_labels', type='boolean', value=False), row_group_background_color=OptionsInfo(scss=True, category='row_group', type='value', value=None), row_group_font_size=OptionsInfo(scss=True, category='row_group', type='px', value='100%'), row_group_font_weight=OptionsInfo(scss=True, category='row_group', type='value', value='initial'), row_group_text_transform=OptionsInfo(scss=True, category='row_group', type='value', value='inherit'), row_group_padding=OptionsInfo(scss=True, category='row_group', type='px', value='8px'), row_group_padding_horizontal=OptionsInfo(scss=True, category='row_group', type='px', value='5px'), row_group_border_top_style=OptionsInfo(scss=True, category='row_group', type='value', value='solid'), row_group_border_top_width=OptionsInfo(scss=True, category='row_group', type='px', value='2px'), row_group_border_top_color=OptionsInfo(scss=True, category='row_group', type='value', value='#D3D3D3'), row_group_border_right_style=OptionsInfo(scss=True, category='row_group', type='value', value='none'), row_group_border_right_width=OptionsInfo(scss=True, category='row_group', type='px', value='1px'), row_group_border_right_color=OptionsInfo(scss=True, category='row_group', type='value', value='#D3D3D3'), row_group_border_bottom_style=OptionsInfo(scss=True, category='row_group', type='value', value='solid'), row_group_border_bottom_width=OptionsInfo(scss=True, category='row_group', type='px', value='2px'), row_group_border_bottom_color=OptionsInfo(scss=True, category='row_group', type='value', value='#D3D3D3'), row_group_border_left_style=OptionsInfo(scss=True, category='row_group', type='value', value='none'), row_group_border_left_width=OptionsInfo(scss=True, category='row_group', type='px', value='1px'), row_group_border_left_color=OptionsInfo(scss=True, category='row_group', type='value', value='#D3D3D3'), row_group_as_column=OptionsInfo(scss=False, category='row_group', type='boolean', value=False), table_body_hlines_style=OptionsInfo(scss=True, category='table_body', type='value', value='solid'), table_body_hlines_width=OptionsInfo(scss=True, category='table_body', type='px', value='1px'), table_body_hlines_color=OptionsInfo(scss=True, category='table_body', type='value', value='#D3D3D3'), table_body_vlines_style=OptionsInfo(scss=True, category='table_body', type='value', value='none'), table_body_vlines_width=OptionsInfo(scss=True, category='table_body', type='px', value='1px'), table_body_vlines_color=OptionsInfo(scss=True, category='table_body', type='value', value='#D3D3D3'), table_body_border_top_style=OptionsInfo(scss=True, category='table_body', type='value', value='solid'), table_body_border_top_width=OptionsInfo(scss=True, category='table_body', type='px', value='2px'), table_body_border_top_color=OptionsInfo(scss=True, category='table_body', type='value', value='#D3D3D3'), table_body_border_bottom_style=OptionsInfo(scss=True, category='table_body', type='value', value='solid'), table_body_border_bottom_width=OptionsInfo(scss=True, category='table_body', type='px', value='2px'), table_body_border_bottom_color=OptionsInfo(scss=True, category='table_body', type='value', value='#D3D3D3'), data_row_padding=OptionsInfo(scss=True, category='data_row', type='px', value='8px'), data_row_padding_horizontal=OptionsInfo(scss=True, category='data_row', type='px', value='5px'), stub_background_color=OptionsInfo(scss=True, category='stub', type='value', value=None), stub_font_size=OptionsInfo(scss=True, category='stub', type='px', value='100%'), stub_font_weight=OptionsInfo(scss=True, category='stub', type='value', value='initial'), stub_text_transform=OptionsInfo(scss=True, category='stub', type='value', value='inherit'), stub_border_style=OptionsInfo(scss=True, category='stub', type='value', value='solid'), stub_border_width=OptionsInfo(scss=True, category='stub', type='px', value='2px'), stub_border_color=OptionsInfo(scss=True, category='stub', type='value', value='#D3D3D3'), stub_row_group_background_color=OptionsInfo(scss=True, category='stub', type='value', value=None), stub_row_group_font_size=OptionsInfo(scss=True, category='stub', type='px', value='100%'), stub_row_group_font_weight=OptionsInfo(scss=True, category='stub', type='value', value='initial'), stub_row_group_text_transform=OptionsInfo(scss=True, category='stub', type='value', value='inherit'), stub_row_group_border_style=OptionsInfo(scss=True, category='stub', type='value', value='solid'), stub_row_group_border_width=OptionsInfo(scss=True, category='stub', type='px', value='2px'), stub_row_group_border_color=OptionsInfo(scss=True, category='stub', type='value', value='#D3D3D3'), source_notes_padding=OptionsInfo(scss=True, category='source_notes', type='px', value='4px'), source_notes_padding_horizontal=OptionsInfo(scss=True, category='source_notes', type='px', value='5px'), source_notes_background_color=OptionsInfo(scss=True, category='source_notes', type='value', value=None), source_notes_font_size=OptionsInfo(scss=True, category='source_notes', type='px', value='90%'), source_notes_border_bottom_style=OptionsInfo(scss=True, category='source_notes', type='value', value='none'), source_notes_border_bottom_width=OptionsInfo(scss=True, category='source_notes', type='px', value='2px'), source_notes_border_bottom_color=OptionsInfo(scss=True, category='source_notes', type='value', value='#D3D3D3'), source_notes_border_lr_style=OptionsInfo(scss=True, category='source_notes', type='value', value='none'), source_notes_border_lr_width=OptionsInfo(scss=True, category='source_notes', type='px', value='2px'), source_notes_border_lr_color=OptionsInfo(scss=True, category='source_notes', type='value', value='#D3D3D3'), source_notes_multiline=OptionsInfo(scss=False, category='source_notes', type='boolean', value=True), source_notes_sep=OptionsInfo(scss=False, category='source_notes', type='value', value=' '), row_striping_background_color=OptionsInfo(scss=True, category='row', type='value', value='rgba(128,128,128,0.05)'), row_striping_include_stub=OptionsInfo(scss=False, category='row', type='boolean', value=False), row_striping_include_table_body=OptionsInfo(scss=False, category='row', type='boolean', value=False), container_width=OptionsInfo(scss=False, category='container', type='px', value='auto'), container_height=OptionsInfo(scss=False, category='container', type='px', value='auto'), container_padding_x=OptionsInfo(scss=False, category='container', type='px', value='0px'), container_padding_y=OptionsInfo(scss=False, category='container', type='px', value='10px'), container_overflow_x=OptionsInfo(scss=False, category='container', type='overflow', value='auto'), container_overflow_y=OptionsInfo(scss=False, category='container', type='overflow', value='auto'), quarto_disable_processing=OptionsInfo(scss=False, category='quarto', type='logical', value=False), quarto_use_bootstrap=OptionsInfo(scss=False, category='quarto', type='logical', value=False)), _has_built=False)"
      ]
     },
     "execution_count": 15,
     "metadata": {},
     "output_type": "execute_result"
    }
   ],
   "source": [
    "l = 1\n",
    "m = 0\n",
    "alphal = alpha + l\n",
    "gammam = gamma + m\n",
    "\n",
    "B_alphal_beta = beta_fn(alphal, beta)\n",
    "B_gammam_delta = beta_fn(gammam, delta)\n",
    "\n",
    "A1 = beta_fn(alphal+p1x, beta+n-p1x)/B_alphal_beta * beta_fn(gammam, delta+n)/B_gammam_delta\n",
    "i = np.arange(6).reshape(-1,1)\n",
    "A2 = beta_fn(alphal+p1x, beta+t_x-p1x+i)/B_alphal_beta * beta_fn(gammam+1, delta+t_x+i)/B_gammam_delta  \n",
    "A2 = np.where(i <= (n - t_x - 1), A2, 0)\n",
    "L_lm = A1 + np.sum(A2, axis=0) \n",
    "\n",
    "E_P_Theta = (B_alphal_beta/B_alpha_beta) * (B_gammam_delta/B_gamma_delta) * (L_lm/L)\n",
    "\n",
    "(\n",
    "    rfm_summary_calib\n",
    "    .with_columns(pl.col(\"t_x\").replace(tx_year_map).alias(\"Year\"))\n",
    "    .collect()\n",
    "    .hstack(pl.DataFrame({'E_P_Theta': E_P_Theta}))\n",
    "    .sort('Year')\n",
    "    .pivot(on='Year', index='P1X', values='E_P_Theta')\n",
    "    .sort('P1X')\n",
    "    .style.tab_header(title=\"Posterior Mean of P as a Function of Recency and Frequency\")\n",
    "    .tab_stub(rowname_col=\"P1X\")\n",
    "    .tab_stubhead(label='P1X')\n",
    "    .fmt_number(decimals=2)   \n",
    "    .tab_spanner(\n",
    "        label=\"Year of last transaction\",\n",
    "        columns=years[:7]\n",
    "    ).data_color(\n",
    "        domain=[0.2, 1],\n",
    "        palette=[\"white\", \"rebeccapurple\"],\n",
    "        na_color=\"white\",\n",
    "    ).sub_missing(\n",
    "        columns=pl.col('*'),\n",
    "        missing_text=\"\"\n",
    "    )    \n",
    ")"
   ]
  },
  {
   "cell_type": "markdown",
   "metadata": {},
   "source": [
    "Prior and Selected Posterior Distributions of (a) $P$ and (b) $\\Theta$"
   ]
  },
  {
   "cell_type": "markdown",
   "metadata": {},
   "source": [
    "Probability of Being Active in 2002–2006 as a Function of Recency and Frequency"
   ]
  },
  {
   "cell_type": "markdown",
   "metadata": {},
   "source": [
    "### Discounted Expected Residual Transactions (DERT)"
   ]
  },
  {
   "cell_type": "code",
   "execution_count": 16,
   "metadata": {},
   "outputs": [
    {
     "data": {
      "text/plain": [
       "array([5.90979814, 5.08939012, 4.26898211, 3.44857409, 2.62816608,\n",
       "       1.80775807, 2.85511859, 3.19701231, 2.8421641 , 2.27259363,\n",
       "       1.60901298, 0.91843569, 1.62930189, 1.66557547, 1.3219255 ,\n",
       "       0.35212864, 0.84429959, 0.93523279, 0.18760064, 0.49488438,\n",
       "       0.13496306, 0.11475603])"
      ]
     },
     "execution_count": 16,
     "metadata": {},
     "output_type": "execute_result"
    }
   ],
   "source": [
    "d = 0.1 # discount rate\n",
    "\n",
    "A1 = beta_fn(alpha+p1x+1, beta+n-p1x)/B_alpha_beta * beta_fn(gamma, delta+n+1)/(B_gamma_delta * (1 + d))\n",
    "A2 = hyp2f1(1, delta+n+1, gamma+delta+n+1, 1/(1+d)) / L\n",
    "A1 * A2"
   ]
  }
 ],
 "metadata": {
  "kernelspec": {
   "display_name": "base",
   "language": "python",
   "name": "python3"
  },
  "language_info": {
   "codemirror_mode": {
    "name": "ipython",
    "version": 3
   },
   "file_extension": ".py",
   "mimetype": "text/x-python",
   "name": "python",
   "nbconvert_exporter": "python",
   "pygments_lexer": "ipython3",
   "version": "3.12.8"
  }
 },
 "nbformat": 4,
 "nbformat_minor": 2
}
