{
 "cells": [
  {
   "cell_type": "code",
   "execution_count": 9,
   "metadata": {},
   "outputs": [],
   "source": [
    "import polars as pl\n",
    "import numpy as np\n",
    "from sklearn.neighbors import KernelDensity\n",
    "from scipy.optimize import minimize\n",
    "from scipy.special import gammaln\n",
    "from utils import donation_data, rfm_data, p1x_data\n",
    "\n",
    "import altair as alt\n",
    "from IPython.display import display_markdown"
   ]
  },
  {
   "cell_type": "code",
   "execution_count": 13,
   "metadata": {},
   "outputs": [
    {
     "data": {
      "text/html": [
       "<div><style>\n",
       ".dataframe > thead > tr,\n",
       ".dataframe > tbody > tr {\n",
       "  text-align: right;\n",
       "  white-space: pre-wrap;\n",
       "}\n",
       "</style>\n",
       "<small>shape: (22, 3)</small><table border=\"1\" class=\"dataframe\"><thead><tr><th>P1X</th><th>t_x</th><th>Count</th></tr><tr><td>i8</td><td>i32</td><td>u32</td></tr></thead><tbody><tr><td>6</td><td>6</td><td>1203</td></tr><tr><td>5</td><td>6</td><td>728</td></tr><tr><td>5</td><td>5</td><td>335</td></tr><tr><td>4</td><td>6</td><td>512</td></tr><tr><td>4</td><td>5</td><td>284</td></tr><tr><td>&hellip;</td><td>&hellip;</td><td>&hellip;</td></tr><tr><td>1</td><td>4</td><td>78</td></tr><tr><td>1</td><td>3</td><td>129</td></tr><tr><td>1</td><td>2</td><td>277</td></tr><tr><td>1</td><td>1</td><td>1091</td></tr><tr><td>0</td><td>0</td><td>3463</td></tr></tbody></table></div>"
      ],
      "text/plain": [
       "shape: (22, 3)\n",
       "┌─────┬─────┬───────┐\n",
       "│ P1X ┆ t_x ┆ Count │\n",
       "│ --- ┆ --- ┆ ---   │\n",
       "│ i8  ┆ i32 ┆ u32   │\n",
       "╞═════╪═════╪═══════╡\n",
       "│ 6   ┆ 6   ┆ 1203  │\n",
       "│ 5   ┆ 6   ┆ 728   │\n",
       "│ 5   ┆ 5   ┆ 335   │\n",
       "│ 4   ┆ 6   ┆ 512   │\n",
       "│ 4   ┆ 5   ┆ 284   │\n",
       "│ …   ┆ …   ┆ …     │\n",
       "│ 1   ┆ 4   ┆ 78    │\n",
       "│ 1   ┆ 3   ┆ 129   │\n",
       "│ 1   ┆ 2   ┆ 277   │\n",
       "│ 1   ┆ 1   ┆ 1091  │\n",
       "│ 0   ┆ 0   ┆ 3463  │\n",
       "└─────┴─────┴───────┘"
      ]
     },
     "execution_count": 13,
     "metadata": {},
     "output_type": "execute_result"
    }
   ],
   "source": [
    "data = donation_data()\n",
    "rfm_df = rfm_data(data)\n",
    "rfm_summary = p1x_data(rfm_df)\n",
    "rfm_summary.collect()"
   ]
  },
  {
   "cell_type": "markdown",
   "metadata": {},
   "source": [
    "### Parameter Estimation"
   ]
  },
  {
   "cell_type": "code",
   "execution_count": null,
   "metadata": {},
   "outputs": [],
   "source": []
  }
 ],
 "metadata": {
  "kernelspec": {
   "display_name": ".venv",
   "language": "python",
   "name": "python3"
  },
  "language_info": {
   "codemirror_mode": {
    "name": "ipython",
    "version": 3
   },
   "file_extension": ".py",
   "mimetype": "text/x-python",
   "name": "python",
   "nbconvert_exporter": "python",
   "pygments_lexer": "ipython3",
   "version": "3.13.1"
  }
 },
 "nbformat": 4,
 "nbformat_minor": 2
}
