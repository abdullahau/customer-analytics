{
 "cells": [
  {
   "cell_type": "markdown",
   "metadata": {},
   "source": [
    "Beta-geometric/Negative Binomial Distribution Model (BG/NBD) - Forecasting Individual-Level Repeat-Buying"
   ]
  },
  {
   "cell_type": "code",
   "execution_count": 2,
   "metadata": {},
   "outputs": [],
   "source": [
    "import polars as pl\n",
    "import numpy as np"
   ]
  },
  {
   "cell_type": "code",
   "execution_count": 3,
   "metadata": {},
   "outputs": [
    {
     "data": {
      "text/html": [
       "<div><style>\n",
       ".dataframe > thead > tr,\n",
       ".dataframe > tbody > tr {\n",
       "  text-align: right;\n",
       "  white-space: pre-wrap;\n",
       "}\n",
       "</style>\n",
       "<small>shape: (5, 7)</small><table border=\"1\" class=\"dataframe\"><thead><tr><th>CustID</th><th>Date</th><th>Quant</th><th>Spend</th><th>Spend Scaled</th><th>PurchDay</th><th>DoR</th></tr><tr><td>i32</td><td>date</td><td>i64</td><td>f64</td><td>i64</td><td>u16</td><td>u16</td></tr></thead><tbody><tr><td>1</td><td>1997-01-01</td><td>1</td><td>11.77</td><td>1177</td><td>1</td><td>0</td></tr><tr><td>2</td><td>1997-01-12</td><td>6</td><td>89.0</td><td>8900</td><td>12</td><td>0</td></tr><tr><td>3</td><td>1997-01-02</td><td>2</td><td>20.76</td><td>2076</td><td>2</td><td>0</td></tr><tr><td>3</td><td>1997-03-30</td><td>2</td><td>20.76</td><td>2076</td><td>89</td><td>1</td></tr><tr><td>3</td><td>1997-04-02</td><td>2</td><td>19.54</td><td>1954</td><td>92</td><td>2</td></tr></tbody></table></div>"
      ],
      "text/plain": [
       "shape: (5, 7)\n",
       "┌────────┬────────────┬───────┬───────┬──────────────┬──────────┬─────┐\n",
       "│ CustID ┆ Date       ┆ Quant ┆ Spend ┆ Spend Scaled ┆ PurchDay ┆ DoR │\n",
       "│ ---    ┆ ---        ┆ ---   ┆ ---   ┆ ---          ┆ ---      ┆ --- │\n",
       "│ i32    ┆ date       ┆ i64   ┆ f64   ┆ i64          ┆ u16      ┆ u16 │\n",
       "╞════════╪════════════╪═══════╪═══════╪══════════════╪══════════╪═════╡\n",
       "│ 1      ┆ 1997-01-01 ┆ 1     ┆ 11.77 ┆ 1177         ┆ 1        ┆ 0   │\n",
       "│ 2      ┆ 1997-01-12 ┆ 6     ┆ 89.0  ┆ 8900         ┆ 12       ┆ 0   │\n",
       "│ 3      ┆ 1997-01-02 ┆ 2     ┆ 20.76 ┆ 2076         ┆ 2        ┆ 0   │\n",
       "│ 3      ┆ 1997-03-30 ┆ 2     ┆ 20.76 ┆ 2076         ┆ 89       ┆ 1   │\n",
       "│ 3      ┆ 1997-04-02 ┆ 2     ┆ 19.54 ┆ 1954         ┆ 92       ┆ 2   │\n",
       "└────────┴────────────┴───────┴───────┴──────────────┴──────────┴─────┘"
      ]
     },
     "metadata": {},
     "output_type": "display_data"
    },
    {
     "data": {
      "text/html": [
       "<div><style>\n",
       ".dataframe > thead > tr,\n",
       ".dataframe > tbody > tr {\n",
       "  text-align: right;\n",
       "  white-space: pre-wrap;\n",
       "}\n",
       "</style>\n",
       "<small>shape: (9, 8)</small><table border=\"1\" class=\"dataframe\"><thead><tr><th>statistic</th><th>CustID</th><th>Date</th><th>Quant</th><th>Spend</th><th>Spend Scaled</th><th>PurchDay</th><th>DoR</th></tr><tr><td>str</td><td>f64</td><td>str</td><td>f64</td><td>f64</td><td>f64</td><td>f64</td><td>f64</td></tr></thead><tbody><tr><td>&quot;count&quot;</td><td>67591.0</td><td>&quot;67591&quot;</td><td>67591.0</td><td>67591.0</td><td>67591.0</td><td>67591.0</td><td>67591.0</td></tr><tr><td>&quot;null_count&quot;</td><td>0.0</td><td>&quot;0&quot;</td><td>0.0</td><td>0.0</td><td>0.0</td><td>0.0</td><td>0.0</td></tr><tr><td>&quot;mean&quot;</td><td>11479.968931</td><td>&quot;1997-07-01 11:44:58.175000&quot;</td><td>2.483777</td><td>36.991843</td><td>3699.184255</td><td>182.489562</td><td>3.976387</td></tr><tr><td>&quot;std&quot;</td><td>6813.132779</td><td>null</td><td>2.446038</td><td>38.143508</td><td>3814.350807</td><td>159.229817</td><td>9.45283</td></tr><tr><td>&quot;min&quot;</td><td>1.0</td><td>&quot;1997-01-01&quot;</td><td>1.0</td><td>0.0</td><td>0.0</td><td>1.0</td><td>0.0</td></tr><tr><td>&quot;25%&quot;</td><td>5516.0</td><td>&quot;1997-02-22&quot;</td><td>1.0</td><td>14.79</td><td>1479.0</td><td>53.0</td><td>0.0</td></tr><tr><td>&quot;50%&quot;</td><td>11425.0</td><td>&quot;1997-04-21&quot;</td><td>2.0</td><td>26.73</td><td>2673.0</td><td>111.0</td><td>1.0</td></tr><tr><td>&quot;75%&quot;</td><td>17269.0</td><td>&quot;1997-11-06&quot;</td><td>3.0</td><td>44.7</td><td>4470.0</td><td>310.0</td><td>4.0</td></tr><tr><td>&quot;max&quot;</td><td>23570.0</td><td>&quot;1998-06-30&quot;</td><td>99.0</td><td>1554.58</td><td>155458.0</td><td>546.0</td><td>170.0</td></tr></tbody></table></div>"
      ],
      "text/plain": [
       "shape: (9, 8)\n",
       "┌────────────┬────────────┬────────────┬──────────┬───────────┬────────────┬────────────┬──────────┐\n",
       "│ statistic  ┆ CustID     ┆ Date       ┆ Quant    ┆ Spend     ┆ Spend      ┆ PurchDay   ┆ DoR      │\n",
       "│ ---        ┆ ---        ┆ ---        ┆ ---      ┆ ---       ┆ Scaled     ┆ ---        ┆ ---      │\n",
       "│ str        ┆ f64        ┆ str        ┆ f64      ┆ f64       ┆ ---        ┆ f64        ┆ f64      │\n",
       "│            ┆            ┆            ┆          ┆           ┆ f64        ┆            ┆          │\n",
       "╞════════════╪════════════╪════════════╪══════════╪═══════════╪════════════╪════════════╪══════════╡\n",
       "│ count      ┆ 67591.0    ┆ 67591      ┆ 67591.0  ┆ 67591.0   ┆ 67591.0    ┆ 67591.0    ┆ 67591.0  │\n",
       "│ null_count ┆ 0.0        ┆ 0          ┆ 0.0      ┆ 0.0       ┆ 0.0        ┆ 0.0        ┆ 0.0      │\n",
       "│ mean       ┆ 11479.9689 ┆ 1997-07-01 ┆ 2.483777 ┆ 36.991843 ┆ 3699.18425 ┆ 182.489562 ┆ 3.976387 │\n",
       "│            ┆ 31         ┆ 11:44:58.1 ┆          ┆           ┆ 5          ┆            ┆          │\n",
       "│            ┆            ┆ 75000      ┆          ┆           ┆            ┆            ┆          │\n",
       "│ std        ┆ 6813.13277 ┆ null       ┆ 2.446038 ┆ 38.143508 ┆ 3814.35080 ┆ 159.229817 ┆ 9.45283  │\n",
       "│            ┆ 9          ┆            ┆          ┆           ┆ 7          ┆            ┆          │\n",
       "│ min        ┆ 1.0        ┆ 1997-01-01 ┆ 1.0      ┆ 0.0       ┆ 0.0        ┆ 1.0        ┆ 0.0      │\n",
       "│ 25%        ┆ 5516.0     ┆ 1997-02-22 ┆ 1.0      ┆ 14.79     ┆ 1479.0     ┆ 53.0       ┆ 0.0      │\n",
       "│ 50%        ┆ 11425.0    ┆ 1997-04-21 ┆ 2.0      ┆ 26.73     ┆ 2673.0     ┆ 111.0      ┆ 1.0      │\n",
       "│ 75%        ┆ 17269.0    ┆ 1997-11-06 ┆ 3.0      ┆ 44.7      ┆ 4470.0     ┆ 310.0      ┆ 4.0      │\n",
       "│ max        ┆ 23570.0    ┆ 1998-06-30 ┆ 99.0     ┆ 1554.58   ┆ 155458.0   ┆ 546.0      ┆ 170.0    │\n",
       "└────────────┴────────────┴────────────┴──────────┴───────────┴────────────┴────────────┴──────────┘"
      ]
     },
     "metadata": {},
     "output_type": "display_data"
    }
   ],
   "source": [
    "CDNOW_master = (\n",
    "    pl.scan_csv(source = 'data/CDNOW/CDNOW_master.csv', \n",
    "                has_header=False, \n",
    "                separator=',', \n",
    "                schema={'CustID': pl.Int32,\n",
    "                        'Date': pl.String,\n",
    "                        'Quant': pl.Int16,\n",
    "                        'Spend': pl.Float64})\n",
    "    .with_columns(pl.col('Date').str.to_date(\"%Y%m%d\"))\n",
    "    .with_columns((pl.col('Date') - pl.date(1996,12,31)).dt.total_days().cast(pl.UInt16).alias('PurchDay'))\n",
    "    .with_columns((pl.col('Spend')*100).round(0).cast(pl.Int64).alias('Spend Scaled'))\n",
    "    .group_by('CustID', 'Date', maintain_order=True)\n",
    "    .agg(pl.col('*').exclude('PurchDay').sum(), pl.col('PurchDay').max()) # Multiple transactions by a customer on a single day are aggregated into one\n",
    "    # .sort('CustID', 'Date')\n",
    "    .with_columns((pl.col(\"CustID\").cum_count().over(\"CustID\") - 1).cast(pl.UInt16).alias(\"DoR\"))    \n",
    ")\n",
    "\n",
    "display(CDNOW_master.head().collect())\n",
    "display(CDNOW_master.describe())"
   ]
  },
  {
   "cell_type": "code",
   "execution_count": 4,
   "metadata": {},
   "outputs": [],
   "source": [
    "TransMAT = (\n",
    "    CDNOW_master\n",
    "    .collect()\n",
    "    .pivot(on='DoR', index='CustID', values='PurchDay', aggregate_function='max', maintain_order=True)\n",
    "    .with_columns(pl.arange(0, pl.len()).alias('Original Index'))\n",
    ")\n",
    "\n",
    "QuantMAT = (\n",
    "    CDNOW_master\n",
    "    .collect()\n",
    "    .pivot(on='DoR', index='CustID', values='Quant', aggregate_function='sum', maintain_order=True)\n",
    ")\n",
    "\n",
    "SpendMAT = (\n",
    "    CDNOW_master\n",
    "    .collect()\n",
    "    .pivot(on='DoR', index='CustID', values='Spend', aggregate_function='sum', maintain_order=True)\n",
    "    .fill_null(0)\n",
    ")"
   ]
  },
  {
   "cell_type": "code",
   "execution_count": 5,
   "metadata": {},
   "outputs": [
    {
     "data": {
      "text/html": [
       "<div><style>\n",
       ".dataframe > thead > tr,\n",
       ".dataframe > tbody > tr {\n",
       "  text-align: right;\n",
       "  white-space: pre-wrap;\n",
       "}\n",
       "</style>\n",
       "<small>shape: (23_570, 2)</small><table border=\"1\" class=\"dataframe\"><thead><tr><th>CustID</th><th>Repeat Spend</th></tr><tr><td>i32</td><td>i64</td></tr></thead><tbody><tr><td>1</td><td>0</td></tr><tr><td>2</td><td>0</td></tr><tr><td>3</td><td>-4030</td></tr><tr><td>4</td><td>-4469</td></tr><tr><td>5</td><td>-23188</td></tr><tr><td>&hellip;</td><td>&hellip;</td></tr><tr><td>23566</td><td>0</td></tr><tr><td>23567</td><td>0</td></tr><tr><td>23568</td><td>-9873</td></tr><tr><td>23569</td><td>0</td></tr><tr><td>23570</td><td>-4296</td></tr></tbody></table></div>"
      ],
      "text/plain": [
       "shape: (23_570, 2)\n",
       "┌────────┬──────────────┐\n",
       "│ CustID ┆ Repeat Spend │\n",
       "│ ---    ┆ ---          │\n",
       "│ i32    ┆ i64          │\n",
       "╞════════╪══════════════╡\n",
       "│ 1      ┆ 0            │\n",
       "│ 2      ┆ 0            │\n",
       "│ 3      ┆ -4030        │\n",
       "│ 4      ┆ -4469        │\n",
       "│ 5      ┆ -23188       │\n",
       "│ …      ┆ …            │\n",
       "│ 23566  ┆ 0            │\n",
       "│ 23567  ┆ 0            │\n",
       "│ 23568  ┆ -9873        │\n",
       "│ 23569  ┆ 0            │\n",
       "│ 23570  ┆ -4296        │\n",
       "└────────┴──────────────┘"
      ]
     },
     "execution_count": 5,
     "metadata": {},
     "output_type": "execute_result"
    }
   ],
   "source": [
    "RptSpend = (\n",
    "    CDNOW_master\n",
    "    .filter(pl.col('PurchDay') <= 273)\n",
    "    .with_columns(pl.when(pl.col('DoR') > 0)\n",
    "                  .then(-pl.col('Spend Scaled'))\n",
    "                  .otherwise(0)\n",
    "                  .alias('Repeat Spend'))\n",
    "    .group_by('CustID')\n",
    "    .agg(pl.col('Repeat Spend').sum())\n",
    "    .sort('CustID')\n",
    "    .collect()\n",
    ")\n",
    "\n",
    "RptSpend"
   ]
  },
  {
   "cell_type": "code",
   "execution_count": 6,
   "metadata": {},
   "outputs": [
    {
     "data": {
      "text/html": [
       "<div><style>\n",
       ".dataframe > thead > tr,\n",
       ".dataframe > tbody > tr {\n",
       "  text-align: right;\n",
       "  white-space: pre-wrap;\n",
       "}\n",
       "</style>\n",
       "<small>shape: (23_570, 4)</small><table border=\"1\" class=\"dataframe\"><thead><tr><th>index</th><th>CustID</th><th>Repeat Spend</th><th>0</th></tr><tr><td>u32</td><td>i32</td><td>i64</td><td>u16</td></tr></thead><tbody><tr><td>1</td><td>1</td><td>0</td><td>1</td></tr><tr><td>2</td><td>2</td><td>0</td><td>12</td></tr><tr><td>3</td><td>3</td><td>-4030</td><td>2</td></tr><tr><td>4</td><td>4</td><td>-4469</td><td>1</td></tr><tr><td>5</td><td>5</td><td>-23188</td><td>1</td></tr><tr><td>&hellip;</td><td>&hellip;</td><td>&hellip;</td><td>&hellip;</td></tr><tr><td>23566</td><td>23566</td><td>0</td><td>84</td></tr><tr><td>23567</td><td>23567</td><td>0</td><td>84</td></tr><tr><td>23568</td><td>23568</td><td>-9873</td><td>84</td></tr><tr><td>23569</td><td>23569</td><td>0</td><td>84</td></tr><tr><td>23570</td><td>23570</td><td>-4296</td><td>84</td></tr></tbody></table></div>"
      ],
      "text/plain": [
       "shape: (23_570, 4)\n",
       "┌───────┬────────┬──────────────┬─────┐\n",
       "│ index ┆ CustID ┆ Repeat Spend ┆ 0   │\n",
       "│ ---   ┆ ---    ┆ ---          ┆ --- │\n",
       "│ u32   ┆ i32    ┆ i64          ┆ u16 │\n",
       "╞═══════╪════════╪══════════════╪═════╡\n",
       "│ 1     ┆ 1      ┆ 0            ┆ 1   │\n",
       "│ 2     ┆ 2      ┆ 0            ┆ 12  │\n",
       "│ 3     ┆ 3      ┆ -4030        ┆ 2   │\n",
       "│ 4     ┆ 4      ┆ -4469        ┆ 1   │\n",
       "│ 5     ┆ 5      ┆ -23188       ┆ 1   │\n",
       "│ …     ┆ …      ┆ …            ┆ …   │\n",
       "│ 23566 ┆ 23566  ┆ 0            ┆ 84  │\n",
       "│ 23567 ┆ 23567  ┆ 0            ┆ 84  │\n",
       "│ 23568 ┆ 23568  ┆ -9873        ┆ 84  │\n",
       "│ 23569 ┆ 23569  ┆ 0            ┆ 84  │\n",
       "│ 23570 ┆ 23570  ┆ -4296        ┆ 84  │\n",
       "└───────┴────────┴──────────────┴─────┘"
      ]
     },
     "execution_count": 6,
     "metadata": {},
     "output_type": "execute_result"
    }
   ],
   "source": [
    "RptSpendJoined = (\n",
    "    RptSpend\n",
    "    .join(TransMAT.select('CustID', '0'), on='CustID', how='left')\n",
    "    .with_row_index()\n",
    "    .with_columns((pl.col('index') + 1).alias('index'))\n",
    ")\n",
    "\n",
    "RptSpendJoined"
   ]
  },
  {
   "cell_type": "code",
   "execution_count": 29,
   "metadata": {},
   "outputs": [],
   "source": [
    "id_df = pl.Series('CustID', [], dtype=pl.Int32)\n",
    "\n",
    "for i in range(1, 13):\n",
    "    \n",
    "    spends = (\n",
    "        RptSpendJoined\n",
    "        .filter((pl.col(\"0\") > (7 * (i - 1))) & (pl.col(\"0\") <= (7 * i)))\n",
    "        .sort('CustID')\n",
    "        .select(pl.col('CustID', 'Repeat Spend').sort_by('Repeat Spend', descending=False, maintain_order=True))\n",
    "    )\n",
    "    \n",
    "    spends.write_csv(f'testtrier/Python/spends_{i}.csv', include_header=False)    \n",
    "        \n",
    "    id_df.append(spends.to_series(0))\n",
    "\n",
    "sampledID = id_df[9::10]\n",
    "\n",
    "id_df.to_frame().write_csv(f'testtrier/id_main_python.csv', include_header=False)\n",
    "\n",
    "with open('sampledID_python.csv', \"w\") as f:\n",
    "    for i in sampledID:\n",
    "        f.write(f'{i}\\n')"
   ]
  },
  {
   "cell_type": "code",
   "execution_count": 25,
   "metadata": {},
   "outputs": [],
   "source": [
    "import pandas as pd\n",
    "\n",
    "id_df = pl.DataFrame({'CustID': [], 'Repeat Spend': []}, schema={'CustID': pl.Int32, 'Repeat Spend': pl.Int64})\n",
    "\n",
    "for i in range(1, 13):\n",
    "    \n",
    "    filtered = (\n",
    "        RptSpendJoined\n",
    "        .filter((pl.col(\"0\") > (7 * (i - 1))) & (pl.col(\"0\") <= (7 * i)))\n",
    "        .select('index', 'CustID', 'Repeat Spend').to_pandas()\n",
    "    )\n",
    "    \n",
    "    spends = RptSpendJoined.filter(pl.col('index').is_in(filtered['index']))\n",
    "    \n",
    "    spends = spends.sort(['Repeat Spend', 'CustID'], descending=[False, True], maintain_order=True) \n",
    "\n",
    "    id_df.extend(spends.select('CustID', 'Repeat Spend'))\n",
    "\n",
    "sampledID = id_df.select('CustID').to_series()[9::10]\n",
    "\n",
    "with open('sampledID_python.csv', \"w\") as f:\n",
    "    for i in sampledID:\n",
    "        f.write(f'{i}\\n')"
   ]
  },
  {
   "cell_type": "code",
   "execution_count": 46,
   "metadata": {},
   "outputs": [],
   "source": [
    "TrialWeek = (\n",
    "    TransMAT\n",
    "    .with_columns(((pl.col('0') - 1) // 7 + 1).alias('Trial Week'))\n",
    "    .select('CustID', 'Trial Week', '0')\n",
    ")\n",
    "\n",
    "id_df = (\n",
    "    TrialWeek\n",
    "    .join(RptSpend, on='CustID', how='left')\n",
    "    .sort(['Trial Week','Repeat Spend', 'CustID'], descending=[False, False, False], maintain_order=True)\n",
    ")\n",
    "\n",
    "sampledID = id_df[9::10].select('CustID')\n",
    "\n",
    "sampledID.write_csv('sampledID_python.csv', include_header=False)"
   ]
  },
  {
   "cell_type": "code",
   "execution_count": 30,
   "metadata": {},
   "outputs": [],
   "source": [
    "py = []\n",
    "with open('sampledID_python.csv', 'r') as mat:\n",
    "    csvFile = mat.readlines()\n",
    "    for lines in csvFile:\n",
    "        line = lines.strip().split(',')\n",
    "        line = int(line[0])\n",
    "        py.append(line)\n",
    "        \n",
    "matlab = []\n",
    "with open('sampledID.csv', 'r') as mat:\n",
    "    csvFile = mat.readlines()\n",
    "    for lines in csvFile:\n",
    "        line = lines.strip().split(',')\n",
    "        line = int(line[0])\n",
    "        matlab.append(line)\n",
    "        \n",
    "cdsample = []\n",
    "with open('data/CDNOW/CDNOW_sample.csv', 'r') as mat:\n",
    "    csvFile = mat.readlines()\n",
    "    for lines in csvFile:\n",
    "        line = lines.strip().split(',')\n",
    "        line = int(line[0])\n",
    "        cdsample.append(line)"
   ]
  },
  {
   "cell_type": "code",
   "execution_count": 31,
   "metadata": {},
   "outputs": [
    {
     "data": {
      "text/html": [
       "<div><style>\n",
       ".dataframe > thead > tr,\n",
       ".dataframe > tbody > tr {\n",
       "  text-align: right;\n",
       "  white-space: pre-wrap;\n",
       "}\n",
       "</style>\n",
       "<small>shape: (158, 4)</small><table border=\"1\" class=\"dataframe\"><thead><tr><th>CustID</th><th>Repeat Spend</th><th>0</th><th>Trial Week</th></tr><tr><td>i32</td><td>i64</td><td>u16</td><td>u16</td></tr></thead><tbody><tr><td>8500</td><td>-19149</td><td>33</td><td>5</td></tr><tr><td>11574</td><td>-14785</td><td>42</td><td>6</td></tr><tr><td>21086</td><td>-8997</td><td>74</td><td>11</td></tr><tr><td>2790</td><td>-7222</td><td>12</td><td>2</td></tr><tr><td>20136</td><td>-6979</td><td>73</td><td>11</td></tr><tr><td>&hellip;</td><td>&hellip;</td><td>&hellip;</td><td>&hellip;</td></tr><tr><td>16285</td><td>-997</td><td>58</td><td>9</td></tr><tr><td>9204</td><td>-977</td><td>34</td><td>5</td></tr><tr><td>12853</td><td>-679</td><td>48</td><td>7</td></tr><tr><td>14206</td><td>-578</td><td>51</td><td>8</td></tr><tr><td>17446</td><td>-578</td><td>62</td><td>9</td></tr></tbody></table></div>"
      ],
      "text/plain": [
       "shape: (158, 4)\n",
       "┌────────┬──────────────┬─────┬────────────┐\n",
       "│ CustID ┆ Repeat Spend ┆ 0   ┆ Trial Week │\n",
       "│ ---    ┆ ---          ┆ --- ┆ ---        │\n",
       "│ i32    ┆ i64          ┆ u16 ┆ u16        │\n",
       "╞════════╪══════════════╪═════╪════════════╡\n",
       "│ 8500   ┆ -19149       ┆ 33  ┆ 5          │\n",
       "│ 11574  ┆ -14785       ┆ 42  ┆ 6          │\n",
       "│ 21086  ┆ -8997        ┆ 74  ┆ 11         │\n",
       "│ 2790   ┆ -7222        ┆ 12  ┆ 2          │\n",
       "│ 20136  ┆ -6979        ┆ 73  ┆ 11         │\n",
       "│ …      ┆ …            ┆ …   ┆ …          │\n",
       "│ 16285  ┆ -997         ┆ 58  ┆ 9          │\n",
       "│ 9204   ┆ -977         ┆ 34  ┆ 5          │\n",
       "│ 12853  ┆ -679         ┆ 48  ┆ 7          │\n",
       "│ 14206  ┆ -578         ┆ 51  ┆ 8          │\n",
       "│ 17446  ┆ -578         ┆ 62  ┆ 9          │\n",
       "└────────┴──────────────┴─────┴────────────┘"
      ]
     },
     "execution_count": 31,
     "metadata": {},
     "output_type": "execute_result"
    }
   ],
   "source": [
    "idx = []\n",
    "test = set(cdsample).difference(set(py))\n",
    "\n",
    "for i in test:\n",
    "    # i = str(i)\n",
    "    # i = (5-len(i))*'0' + i\n",
    "    idx.append(i)\n",
    "\n",
    "RptSpend.join(TransMAT, on='CustID', how='left').filter(pl.col('CustID').is_in(idx)).sort('Repeat Spend', descending=False).select('CustID', 'Repeat Spend', '0').with_columns(((pl.col('0') - 1) // 7 + 1).alias('Trial Week'))"
   ]
  },
  {
   "cell_type": "code",
   "execution_count": 32,
   "metadata": {},
   "outputs": [
    {
     "data": {
      "text/html": [
       "<div><style>\n",
       ".dataframe > thead > tr,\n",
       ".dataframe > tbody > tr {\n",
       "  text-align: right;\n",
       "  white-space: pre-wrap;\n",
       "}\n",
       "</style>\n",
       "<small>shape: (158, 4)</small><table border=\"1\" class=\"dataframe\"><thead><tr><th>CustID</th><th>Repeat Spend</th><th>0</th><th>Trial Week</th></tr><tr><td>i32</td><td>i64</td><td>u16</td><td>u16</td></tr></thead><tbody><tr><td>8136</td><td>-19149</td><td>31</td><td>5</td></tr><tr><td>11363</td><td>-14785</td><td>41</td><td>6</td></tr><tr><td>20295</td><td>-8997</td><td>71</td><td>11</td></tr><tr><td>2916</td><td>-7222</td><td>12</td><td>2</td></tr><tr><td>21693</td><td>-6979</td><td>77</td><td>11</td></tr><tr><td>&hellip;</td><td>&hellip;</td><td>&hellip;</td><td>&hellip;</td></tr><tr><td>16579</td><td>-997</td><td>59</td><td>9</td></tr><tr><td>7925</td><td>-977</td><td>30</td><td>5</td></tr><tr><td>13342</td><td>-679</td><td>48</td><td>7</td></tr><tr><td>6301</td><td>-578</td><td>60</td><td>9</td></tr><tr><td>15418</td><td>-578</td><td>55</td><td>8</td></tr></tbody></table></div>"
      ],
      "text/plain": [
       "shape: (158, 4)\n",
       "┌────────┬──────────────┬─────┬────────────┐\n",
       "│ CustID ┆ Repeat Spend ┆ 0   ┆ Trial Week │\n",
       "│ ---    ┆ ---          ┆ --- ┆ ---        │\n",
       "│ i32    ┆ i64          ┆ u16 ┆ u16        │\n",
       "╞════════╪══════════════╪═════╪════════════╡\n",
       "│ 8136   ┆ -19149       ┆ 31  ┆ 5          │\n",
       "│ 11363  ┆ -14785       ┆ 41  ┆ 6          │\n",
       "│ 20295  ┆ -8997        ┆ 71  ┆ 11         │\n",
       "│ 2916   ┆ -7222        ┆ 12  ┆ 2          │\n",
       "│ 21693  ┆ -6979        ┆ 77  ┆ 11         │\n",
       "│ …      ┆ …            ┆ …   ┆ …          │\n",
       "│ 16579  ┆ -997         ┆ 59  ┆ 9          │\n",
       "│ 7925   ┆ -977         ┆ 30  ┆ 5          │\n",
       "│ 13342  ┆ -679         ┆ 48  ┆ 7          │\n",
       "│ 6301   ┆ -578         ┆ 60  ┆ 9          │\n",
       "│ 15418  ┆ -578         ┆ 55  ┆ 8          │\n",
       "└────────┴──────────────┴─────┴────────────┘"
      ]
     },
     "execution_count": 32,
     "metadata": {},
     "output_type": "execute_result"
    }
   ],
   "source": [
    "idx = []\n",
    "test = set(py).difference(set(cdsample))\n",
    "\n",
    "for i in test:\n",
    "    # i = str(i)\n",
    "    # i = (5-len(i))*'0' + i\n",
    "    idx.append(i)\n",
    "\n",
    "RptSpend.join(TransMAT, on='CustID', how='left').filter(pl.col('CustID').is_in(idx)).sort('Repeat Spend', descending=False).select('CustID', 'Repeat Spend', '0').with_columns(((pl.col('0') - 1) // 7 + 1).alias('Trial Week'))"
   ]
  },
  {
   "cell_type": "code",
   "execution_count": null,
   "metadata": {},
   "outputs": [],
   "source": [
    "# # Vectorized Method in Numpy - Using Masks\n",
    "\n",
    "# TransMAT = TransMAT.to_numpy()\n",
    "# SpendMAT = SpendMAT.to_numpy()\n",
    "# # Step 1: Calculate x (number of valid transactions)\n",
    "# x = np.sum(((TransMAT[:, 2:] > 0) & (TransMAT[:, 2:] <= 273)), axis=1, dtype='int16')\n",
    "\n",
    "# # Step 2: Create a mask to include only valid columns for each customer\n",
    "# mask = ((TransMAT[:, 2:] > 0) & (TransMAT[:, 2:] <= 273))  # Exclude ID Column & Trial\n",
    "\n",
    "# RptSpend = np.sum(SpendMAT[:,2:] * mask, axis=1, dtype='float64')\n",
    "\n",
    "# RptSpend"
   ]
  }
 ],
 "metadata": {
  "kernelspec": {
   "display_name": "fin",
   "language": "python",
   "name": "python3"
  },
  "language_info": {
   "codemirror_mode": {
    "name": "ipython",
    "version": 3
   },
   "file_extension": ".py",
   "mimetype": "text/x-python",
   "name": "python",
   "nbconvert_exporter": "python",
   "pygments_lexer": "ipython3",
   "version": "3.12.7"
  }
 },
 "nbformat": 4,
 "nbformat_minor": 2
}
