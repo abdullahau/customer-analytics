{
 "cells": [
  {
   "cell_type": "markdown",
   "metadata": {},
   "source": [
    "Beta-geometric/Negative Binomial Distribution Model (BG/NBD) - Forecasting Individual-Level Repeat-Buying"
   ]
  },
  {
   "cell_type": "code",
   "execution_count": 6,
   "metadata": {},
   "outputs": [],
   "source": [
    "import polars as pl\n",
    "import numpy as np\n",
    "import altair as alt\n",
    "from scipy.optimize import minimize"
   ]
  },
  {
   "cell_type": "code",
   "execution_count": 14,
   "metadata": {},
   "outputs": [
    {
     "data": {
      "text/html": [
       "<div><style>\n",
       ".dataframe > thead > tr,\n",
       ".dataframe > tbody > tr {\n",
       "  text-align: right;\n",
       "  white-space: pre-wrap;\n",
       "}\n",
       "</style>\n",
       "<small>shape: (5, 4)</small><table border=\"1\" class=\"dataframe\"><thead><tr><th>CustID</th><th>Date</th><th>Quant</th><th>Spend</th></tr><tr><td>str</td><td>date</td><td>i16</td><td>f32</td></tr></thead><tbody><tr><td>&quot;00001&quot;</td><td>1997-01-01</td><td>1</td><td>11.77</td></tr><tr><td>&quot;00002&quot;</td><td>1997-01-12</td><td>1</td><td>12.0</td></tr><tr><td>&quot;00002&quot;</td><td>1997-01-12</td><td>5</td><td>77.0</td></tr><tr><td>&quot;00003&quot;</td><td>1997-01-02</td><td>2</td><td>20.76</td></tr><tr><td>&quot;00003&quot;</td><td>1997-03-30</td><td>2</td><td>20.76</td></tr></tbody></table></div>"
      ],
      "text/plain": [
       "shape: (5, 4)\n",
       "┌────────┬────────────┬───────┬───────┐\n",
       "│ CustID ┆ Date       ┆ Quant ┆ Spend │\n",
       "│ ---    ┆ ---        ┆ ---   ┆ ---   │\n",
       "│ str    ┆ date       ┆ i16   ┆ f32   │\n",
       "╞════════╪════════════╪═══════╪═══════╡\n",
       "│ 00001  ┆ 1997-01-01 ┆ 1     ┆ 11.77 │\n",
       "│ 00002  ┆ 1997-01-12 ┆ 1     ┆ 12.0  │\n",
       "│ 00002  ┆ 1997-01-12 ┆ 5     ┆ 77.0  │\n",
       "│ 00003  ┆ 1997-01-02 ┆ 2     ┆ 20.76 │\n",
       "│ 00003  ┆ 1997-03-30 ┆ 2     ┆ 20.76 │\n",
       "└────────┴────────────┴───────┴───────┘"
      ]
     },
     "execution_count": 14,
     "metadata": {},
     "output_type": "execute_result"
    }
   ],
   "source": [
    "CDNOW_master = (\n",
    "    pl.scan_csv(source = 'data\\\\CDNOW\\\\CDNOW_master.csv', \n",
    "                has_header=False, \n",
    "                separator=',', \n",
    "                schema={'CustID': pl.String,\n",
    "                        'Date': pl.String,\n",
    "                        'Quant': pl.Int16,\n",
    "                        'Spend': pl.Float32})\n",
    "    .with_columns(pl.col('Date').str.to_date('%Y%m%d'))\n",
    ")\n",
    "\n",
    "CDNOW_master.head().collect()"
   ]
  }
 ],
 "metadata": {
  "kernelspec": {
   "display_name": "fin",
   "language": "python",
   "name": "python3"
  },
  "language_info": {
   "codemirror_mode": {
    "name": "ipython",
    "version": 3
   },
   "file_extension": ".py",
   "mimetype": "text/x-python",
   "name": "python",
   "nbconvert_exporter": "python",
   "pygments_lexer": "ipython3",
   "version": "3.12.7"
  }
 },
 "nbformat": 4,
 "nbformat_minor": 2
}
