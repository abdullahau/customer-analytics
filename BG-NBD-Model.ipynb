{
 "cells": [
  {
   "cell_type": "code",
   "execution_count": 1,
   "metadata": {},
   "outputs": [],
   "source": [
    "import polars as pl\n",
    "import numpy as np\n",
    "from utils import CDNOW_sample, rfm_summary\n",
    "from scipy.special import gammaln, hyp2f1, gamma\n",
    "from scipy.optimize import minimize\n",
    "\n",
    "import altair as alt\n",
    "from IPython.display import display_markdown"
   ]
  },
  {
   "cell_type": "markdown",
   "metadata": {},
   "source": [
    "Source:\n",
    "- [\"Counting Your Customers\" the Easy Way: An Alternative to the Pareto/NBD Model](https://www.brucehardie.com/abstracts/abstract-fhl_2004-04.html)\n",
    "- [Implementing the BG/NBD Model for Customer Base Analysis in Excel](https://www.brucehardie.com/notes/004/)\n",
    "- [A Note on Implementing the Pareto/NBD Model in MATLAB](https://www.brucehardie.com/notes/008/)"
   ]
  },
  {
   "cell_type": "code",
   "execution_count": 2,
   "metadata": {},
   "outputs": [],
   "source": [
    "CDNOW = CDNOW_sample()\n",
    "\n",
    "calwk = 273 # 39 week calibration period\n",
    "\n",
    "rfm_data = rfm_summary(CDNOW, calwk)\n",
    "\n",
    "# Time of trial purchase (in weeks)\n",
    "tofp = (\n",
    "    CDNOW\n",
    "    .filter(pl.col('DoR') == 0)\n",
    "    .with_columns((pl.col('PurchDay') / 7).alias('Time of First Purch'))\n",
    "    .group_by('Time of First Purch').agg(pl.len().alias('Count'))\n",
    "    .sort('Time of First Purch')\n",
    ")\n",
    "\n",
    "# actual weekly & cumulative repeat sales data\n",
    "actual_repeat_sales = (\n",
    "    CDNOW\n",
    "    .filter(pl.col('DoR') != 0)\n",
    "    .with_columns(((pl.col('PurchDay') - 1) // 7 + 1).alias('Week'))\n",
    "    .group_by('Week')\n",
    "    .agg(pl.len().cast(pl.Float32).alias('Weekly Sales'))\n",
    "    .sort('Week')\n",
    "    .with_columns(pl.col('Weekly Sales').cum_sum().cast(pl.Float32).alias('Cum Sales'))\n",
    "    .collect()    \n",
    ")\n",
    "\n",
    "actual_repeat_sales = pl.concat([pl.DataFrame({'Week': 1, 'Weekly Sales': 0, 'Cum Sales': 0}, \n",
    "                                              schema={'Week': pl.UInt16, 'Weekly Sales': pl.Float32, 'Cum Sales': pl.Float32}), \n",
    "                                 actual_repeat_sales])\n",
    "\n",
    "forecast_horizon_week = (calwk * 2) // 7\n",
    "forecast_horizon_day = forecast_horizon_week * 7\n",
    "forecast_horizon_day\n",
    "t = np.arange(forecast_horizon_day, dtype=np.int16) + 1\n",
    "\n",
    "tofp_array = tofp.collect().to_numpy()\n",
    "num_triers = tofp_array[:, 1]\n",
    "trial_weeks = tofp_array[:, 0]\n",
    "trial_days = np.arange(np.max(trial_weeks)*7, dtype=np.int16) + 1"
   ]
  },
  {
   "cell_type": "code",
   "execution_count": 3,
   "metadata": {},
   "outputs": [
    {
     "name": "stderr",
     "output_type": "stream",
     "text": [
      "/var/folders/0s/z9xp988n3j78zfjwg3y616x00000gn/T/ipykernel_9755/3800996231.py:11: RuntimeWarning: invalid value encountered in log\n",
      "  np.log(a) - np.log(b + p1x - 1) - (r + p1x) * np.log(alpha + t_x),\n",
      "/var/folders/0s/z9xp988n3j78zfjwg3y616x00000gn/T/ipykernel_9755/3800996231.py:11: RuntimeWarning: divide by zero encountered in log\n",
      "  np.log(a) - np.log(b + p1x - 1) - (r + p1x) * np.log(alpha + t_x),\n",
      "/var/folders/0s/z9xp988n3j78zfjwg3y616x00000gn/T/ipykernel_9755/3800996231.py:8: RuntimeWarning: invalid value encountered in subtract\n",
      "  ln_A_2 = gammaln(a + b) + gammaln(b + p1x) - gammaln(b) - gammaln(a + b + p1x)\n",
      "/var/folders/0s/z9xp988n3j78zfjwg3y616x00000gn/T/ipykernel_9755/3800996231.py:11: RuntimeWarning: invalid value encountered in subtract\n",
      "  np.log(a) - np.log(b + p1x - 1) - (r + p1x) * np.log(alpha + t_x),\n",
      "/var/folders/0s/z9xp988n3j78zfjwg3y616x00000gn/T/ipykernel_9755/3800996231.py:13: RuntimeWarning: invalid value encountered in add\n",
      "  return -np.sum(ln_A_1 + ln_A_2 + np.log(np.exp(ln_A_3) + (p1x > 0) * np.exp(ln_A_4)))\n"
     ]
    },
    {
     "data": {
      "text/markdown": [
       "$r$ = 0.2426\n",
       "\n",
       "$\\alpha$ = 4.4136\n",
       "\n",
       "$a$ = 0.7929\n",
       "\n",
       "$b$ = 2.4259\n",
       "\n",
       "Log-Likelihood = -9582.4292"
      ]
     },
     "metadata": {},
     "output_type": "display_data"
    }
   ],
   "source": [
    "def bgnbd_est(rfm_data, guess={'r': 0.01, 'alpha': 0.01, 'a': 0.01, 'b':0.01}):\n",
    "    \n",
    "    def log_likelihood(x):\n",
    "        r, alpha, a, b = x\n",
    "        p1x, t_x, T  = rfm_data[:,0], rfm_data[:,1], rfm_data[:,2]\n",
    "\n",
    "        ln_A_1 = gammaln(p1x + r) - gammaln(r) + r * np.log(alpha)\n",
    "        ln_A_2 = gammaln(a + b) + gammaln(b + p1x) - gammaln(b) - gammaln(a + b + p1x)\n",
    "        ln_A_3 = -(r + p1x) * np.log(alpha + T)\n",
    "        ln_A_4 = np.where(p1x > 0, \n",
    "                          np.log(a) - np.log(b + p1x - 1) - (r + p1x) * np.log(alpha + t_x),\n",
    "                          0)\n",
    "        return -np.sum(ln_A_1 + ln_A_2 + np.log(np.exp(ln_A_3) + (p1x > 0) * np.exp(ln_A_4)))\n",
    "    \n",
    "    bnds = [(0, np.inf) for _ in range(4)]\n",
    "    return minimize(log_likelihood, x0=list(guess.values()), bounds=bnds, method='Nelder-Mead', options={'maxiter':10000})\n",
    "\n",
    "result = bgnbd_est(rfm_data.select('P1X', 't_x', 'T').collect().to_numpy())\n",
    "r, alpha, a, b = result.x\n",
    "ll = result.fun\n",
    "\n",
    "# Sample Parameters\n",
    "# r = 0.24259395230803\n",
    "# alpha = 4.41359091416604\n",
    "# a = 0.792919955839573\n",
    "# b = 2.42589404751842\n",
    "\n",
    "display_markdown(f'''$r$ = {r:0.4f}\n",
    "\n",
    "$\\\\alpha$ = {alpha:0.4f}\n",
    "\n",
    "$a$ = {a:0.4f}\n",
    "\n",
    "$b$ = {b:0.4f}\n",
    "\n",
    "Log-Likelihood = {-ll:0.4f}''', raw=True)"
   ]
  },
  {
   "cell_type": "code",
   "execution_count": 4,
   "metadata": {},
   "outputs": [],
   "source": [
    "z = (t/7) / (alpha + (t/7))\n",
    "h2f1 = hyp2f1(r, b, (a + b - 1), z)\n",
    "E_X_t = (a + b - 1) / (a - 1) * (1 - (alpha / (alpha + (t/7)))**r * h2f1)\n",
    "\n",
    "index = t.reshape(-1, 1) - trial_days\n",
    "index = np.clip(index-1, 0, E_X_t.shape[0]).T\n",
    "\n",
    "# Compute cumulative repeat sales\n",
    "cum_rpt_sls = np.dot(num_triers, np.triu(E_X_t[index], k=1))[6::7]\n",
    "\n",
    "# Compute weekly repeat sales\n",
    "wkly_rpt_sls = np.diff(cum_rpt_sls, prepend=0)\n",
    "\n",
    "bgnbd_repeat_sales = pl.DataFrame({'Week': np.arange(cum_rpt_sls.shape[0]) + 1, \n",
    "                                       'Weekly Sales': wkly_rpt_sls,\n",
    "                                       'Cum Sales': cum_rpt_sls}, \n",
    "                                      schema={'Week': pl.UInt16, 'Weekly Sales': pl.Float32 ,'Cum Sales': pl.Float32})"
   ]
  },
  {
   "cell_type": "markdown",
   "metadata": {},
   "source": [
    "#### Computing Conditional Expectations"
   ]
  },
  {
   "cell_type": "code",
   "execution_count": 5,
   "metadata": {},
   "outputs": [
    {
     "data": {
      "text/markdown": [
       "$E(Y(t) \\mid X = x, t_{x}, T, r, \\alpha, a, b)$ = 1.2259"
      ]
     },
     "metadata": {},
     "output_type": "display_data"
    }
   ],
   "source": [
    "x = 2\n",
    "t_x = 30.43\n",
    "T = 38.86\n",
    "t_cust = 39 # the length of the period over which we wish to make the conditional forecast\n",
    "\n",
    "a_cust = r+x\n",
    "b_cust = b+x\n",
    "c_cust = a+b+x-1\n",
    "z_cust = t_cust/(alpha + T + t_cust)\n",
    "\n",
    "h2f1_cust = hyp2f1(a_cust, b_cust, c_cust, z_cust)\n",
    "\n",
    "E_Y_X = (a + b + x - 1) / (a - 1) * (1 - ((alpha + T) / (alpha + T + t_cust))**(r + x) * h2f1_cust) / \\\n",
    "        (1 + (x > 0) * a / (b + x - 1) * ((alpha + T) / (alpha + t_x))**(r + x))\n",
    "\n",
    "display_markdown(f'''$E(Y(t) \\\\mid X = x, t_{{x}}, T, r, \\\\alpha, a, b)$ = {E_Y_X:0.4f}''' ,raw=True)"
   ]
  },
  {
   "cell_type": "markdown",
   "metadata": {},
   "source": [
    "### Pareto/NBD Model"
   ]
  },
  {
   "cell_type": "code",
   "execution_count": 6,
   "metadata": {},
   "outputs": [
    {
     "data": {
      "text/markdown": [
       "$r$ = 0.5533\n",
       "\n",
       "$\\alpha$ = 10.5777\n",
       "\n",
       "$s$ = 0.7929\n",
       "\n",
       "$\\beta$ = 2.4259\n",
       "\n",
       "Log-Likelihood = -9594.9762"
      ]
     },
     "metadata": {},
     "output_type": "display_data"
    }
   ],
   "source": [
    "def paretonbd_est(rfm_data, guess={'r': 1, 'alpha': 1, 's': 1, 'beta': 1}):\n",
    "    \n",
    "    def log_likelihood(x):\n",
    "        r, alpha, s, beta = x\n",
    "        p1x, t_x, T = rfm_data[:,0], rfm_data[:,1], rfm_data[:,2]\n",
    "        \n",
    "        maxab = np.max((alpha, beta))\n",
    "        absab = np.abs(alpha - beta)\n",
    "        param2 = s + 1\n",
    "        if alpha < beta:\n",
    "            param2 = r + p1x\n",
    "            \n",
    "        part1 = (alpha**r * beta**s / gamma(r)) * gamma(r+p1x)\n",
    "        part2 = 1/((alpha+T)**(r+p1x) * (beta+T)**s)\n",
    "\n",
    "        if absab == 0:\n",
    "            F1 = 1/((maxab+t_x)**(r+s+p1x))\n",
    "            F2 = 1/((maxab+T)**(r+s+p1x))\n",
    "        else:\n",
    "            F1 = hyp2f1(r+s+p1x, param2, r+s+p1x+1, absab/(maxab+t_x)) / ((maxab+t_x)**(r+s+p1x))\n",
    "            F2 = hyp2f1(r+s+p1x, param2, r+s+p1x+1, absab/(maxab+T)) / ((maxab+T)**(r+s+p1x))        \n",
    "        \n",
    "        return -np.sum(np.log(part1*(part2+(s/(r+s+p1x))*(F1-F2))))\n",
    "    \n",
    "    bnds = [(1e-6, 20) for _ in range(4)]\n",
    "    return minimize(log_likelihood, x0=list(guess.values()), bounds=bnds, method='Nelder-Mead', options={'maxiter':10000})\n",
    "\n",
    "result = paretonbd_est(rfm_data.select('P1X', 't_x', 'T').collect().to_numpy())\n",
    "r, alpha, s, beta = result.x\n",
    "ll = result.fun\n",
    "\n",
    "# Sample Parameters\n",
    "# r = 0.553268332737686\n",
    "# alpha = 10.577643207793674\n",
    "# s = 0.606338658139013\n",
    "# beta = 11.672047422351444\n",
    "\n",
    "display_markdown(f'''$r$ = {r:0.4f}\n",
    "\n",
    "$\\\\alpha$ = {alpha:0.4f}\n",
    "\n",
    "$s$ = {a:0.4f}\n",
    "\n",
    "$\\\\beta$ = {b:0.4f}\n",
    "\n",
    "Log-Likelihood = {-ll:0.4f}''', raw=True)"
   ]
  },
  {
   "cell_type": "code",
   "execution_count": 7,
   "metadata": {},
   "outputs": [],
   "source": [
    "E_X_t = r*beta/(alpha*(s-1)) * (1 - (beta/(beta + (t/7)))**(s-1))\n",
    "\n",
    "index = t.reshape(-1, 1) - trial_days\n",
    "index = np.clip(index-1, 0, E_X_t.shape[0]).T\n",
    "\n",
    "# Compute cumulative repeat sales\n",
    "cum_rpt_sls = np.dot(num_triers, np.triu(E_X_t[index], k=1))[6::7]\n",
    "\n",
    "# # Compute weekly repeat sales\n",
    "wkly_rpt_sls = np.diff(cum_rpt_sls, prepend=0)\n",
    "\n",
    "paretonbd_repeat_sales = pl.DataFrame({'Week': np.arange(cum_rpt_sls.shape[0]) + 1, \n",
    "                                       'Weekly Sales': wkly_rpt_sls,\n",
    "                                       'Cum Sales': cum_rpt_sls}, \n",
    "                                      schema={'Week': pl.UInt16, 'Weekly Sales': pl.Float32 ,'Cum Sales': pl.Float32})"
   ]
  },
  {
   "cell_type": "code",
   "execution_count": 8,
   "metadata": {},
   "outputs": [
    {
     "data": {
      "application/vnd.vegalite.v5+json": {
       "$schema": "https://vega.github.io/schema/vega-lite/v5.20.1.json",
       "config": {
        "axisX": {
         "grid": false
        },
        "axisY": {
         "grid": false
        },
        "view": {
         "continuousHeight": 300,
         "continuousWidth": 300,
         "stroke": null
        }
       },
       "data": {
        "name": "data-46d8b8eb54cedeefe1589befceeacbb0"
       },
       "datasets": {
        "data-46d8b8eb54cedeefe1589befceeacbb0": [
         {
          "Actual Vs Estimated": "Actual",
          "Cum Sales": 0,
          "Week": 1
         },
         {
          "Actual Vs Estimated": "Actual",
          "Cum Sales": 19,
          "Week": 2
         },
         {
          "Actual Vs Estimated": "Actual",
          "Cum Sales": 42,
          "Week": 3
         },
         {
          "Actual Vs Estimated": "Actual",
          "Cum Sales": 81,
          "Week": 4
         },
         {
          "Actual Vs Estimated": "Actual",
          "Cum Sales": 119,
          "Week": 5
         },
         {
          "Actual Vs Estimated": "Actual",
          "Cum Sales": 192,
          "Week": 6
         },
         {
          "Actual Vs Estimated": "Actual",
          "Cum Sales": 261,
          "Week": 7
         },
         {
          "Actual Vs Estimated": "Actual",
          "Cum Sales": 351,
          "Week": 8
         },
         {
          "Actual Vs Estimated": "Actual",
          "Cum Sales": 428,
          "Week": 9
         },
         {
          "Actual Vs Estimated": "Actual",
          "Cum Sales": 504,
          "Week": 10
         },
         {
          "Actual Vs Estimated": "Actual",
          "Cum Sales": 610,
          "Week": 11
         },
         {
          "Actual Vs Estimated": "Actual",
          "Cum Sales": 733,
          "Week": 12
         },
         {
          "Actual Vs Estimated": "Actual",
          "Cum Sales": 828,
          "Week": 13
         },
         {
          "Actual Vs Estimated": "Actual",
          "Cum Sales": 914,
          "Week": 14
         },
         {
          "Actual Vs Estimated": "Actual",
          "Cum Sales": 1005,
          "Week": 15
         },
         {
          "Actual Vs Estimated": "Actual",
          "Cum Sales": 1078,
          "Week": 16
         },
         {
          "Actual Vs Estimated": "Actual",
          "Cum Sales": 1149,
          "Week": 17
         },
         {
          "Actual Vs Estimated": "Actual",
          "Cum Sales": 1222,
          "Week": 18
         },
         {
          "Actual Vs Estimated": "Actual",
          "Cum Sales": 1286,
          "Week": 19
         },
         {
          "Actual Vs Estimated": "Actual",
          "Cum Sales": 1359,
          "Week": 20
         },
         {
          "Actual Vs Estimated": "Actual",
          "Cum Sales": 1414,
          "Week": 21
         },
         {
          "Actual Vs Estimated": "Actual",
          "Cum Sales": 1484,
          "Week": 22
         },
         {
          "Actual Vs Estimated": "Actual",
          "Cum Sales": 1517,
          "Week": 23
         },
         {
          "Actual Vs Estimated": "Actual",
          "Cum Sales": 1573,
          "Week": 24
         },
         {
          "Actual Vs Estimated": "Actual",
          "Cum Sales": 1672,
          "Week": 25
         },
         {
          "Actual Vs Estimated": "Actual",
          "Cum Sales": 1746,
          "Week": 26
         },
         {
          "Actual Vs Estimated": "Actual",
          "Cum Sales": 1800,
          "Week": 27
         },
         {
          "Actual Vs Estimated": "Actual",
          "Cum Sales": 1840,
          "Week": 28
         },
         {
          "Actual Vs Estimated": "Actual",
          "Cum Sales": 1885,
          "Week": 29
         },
         {
          "Actual Vs Estimated": "Actual",
          "Cum Sales": 1973,
          "Week": 30
         },
         {
          "Actual Vs Estimated": "Actual",
          "Cum Sales": 2032,
          "Week": 31
         },
         {
          "Actual Vs Estimated": "Actual",
          "Cum Sales": 2069,
          "Week": 32
         },
         {
          "Actual Vs Estimated": "Actual",
          "Cum Sales": 2132,
          "Week": 33
         },
         {
          "Actual Vs Estimated": "Actual",
          "Cum Sales": 2192,
          "Week": 34
         },
         {
          "Actual Vs Estimated": "Actual",
          "Cum Sales": 2239,
          "Week": 35
         },
         {
          "Actual Vs Estimated": "Actual",
          "Cum Sales": 2290,
          "Week": 36
         },
         {
          "Actual Vs Estimated": "Actual",
          "Cum Sales": 2342,
          "Week": 37
         },
         {
          "Actual Vs Estimated": "Actual",
          "Cum Sales": 2395,
          "Week": 38
         },
         {
          "Actual Vs Estimated": "Actual",
          "Cum Sales": 2457,
          "Week": 39
         },
         {
          "Actual Vs Estimated": "Actual",
          "Cum Sales": 2507,
          "Week": 40
         },
         {
          "Actual Vs Estimated": "Actual",
          "Cum Sales": 2563,
          "Week": 41
         },
         {
          "Actual Vs Estimated": "Actual",
          "Cum Sales": 2612,
          "Week": 42
         },
         {
          "Actual Vs Estimated": "Actual",
          "Cum Sales": 2671,
          "Week": 43
         },
         {
          "Actual Vs Estimated": "Actual",
          "Cum Sales": 2718,
          "Week": 44
         },
         {
          "Actual Vs Estimated": "Actual",
          "Cum Sales": 2803,
          "Week": 45
         },
         {
          "Actual Vs Estimated": "Actual",
          "Cum Sales": 2864,
          "Week": 46
         },
         {
          "Actual Vs Estimated": "Actual",
          "Cum Sales": 2923,
          "Week": 47
         },
         {
          "Actual Vs Estimated": "Actual",
          "Cum Sales": 2968,
          "Week": 48
         },
         {
          "Actual Vs Estimated": "Actual",
          "Cum Sales": 3038,
          "Week": 49
         },
         {
          "Actual Vs Estimated": "Actual",
          "Cum Sales": 3104,
          "Week": 50
         },
         {
          "Actual Vs Estimated": "Actual",
          "Cum Sales": 3153,
          "Week": 51
         },
         {
          "Actual Vs Estimated": "Actual",
          "Cum Sales": 3183,
          "Week": 52
         },
         {
          "Actual Vs Estimated": "Actual",
          "Cum Sales": 3234,
          "Week": 53
         },
         {
          "Actual Vs Estimated": "Actual",
          "Cum Sales": 3276,
          "Week": 54
         },
         {
          "Actual Vs Estimated": "Actual",
          "Cum Sales": 3329,
          "Week": 55
         },
         {
          "Actual Vs Estimated": "Actual",
          "Cum Sales": 3357,
          "Week": 56
         },
         {
          "Actual Vs Estimated": "Actual",
          "Cum Sales": 3404,
          "Week": 57
         },
         {
          "Actual Vs Estimated": "Actual",
          "Cum Sales": 3444,
          "Week": 58
         },
         {
          "Actual Vs Estimated": "Actual",
          "Cum Sales": 3490,
          "Week": 59
         },
         {
          "Actual Vs Estimated": "Actual",
          "Cum Sales": 3533,
          "Week": 60
         },
         {
          "Actual Vs Estimated": "Actual",
          "Cum Sales": 3598,
          "Week": 61
         },
         {
          "Actual Vs Estimated": "Actual",
          "Cum Sales": 3677,
          "Week": 62
         },
         {
          "Actual Vs Estimated": "Actual",
          "Cum Sales": 3727,
          "Week": 63
         },
         {
          "Actual Vs Estimated": "Actual",
          "Cum Sales": 3786,
          "Week": 64
         },
         {
          "Actual Vs Estimated": "Actual",
          "Cum Sales": 3844,
          "Week": 65
         },
         {
          "Actual Vs Estimated": "Actual",
          "Cum Sales": 3879,
          "Week": 66
         },
         {
          "Actual Vs Estimated": "Actual",
          "Cum Sales": 3915,
          "Week": 67
         },
         {
          "Actual Vs Estimated": "Actual",
          "Cum Sales": 3962,
          "Week": 68
         },
         {
          "Actual Vs Estimated": "Actual",
          "Cum Sales": 3991,
          "Week": 69
         },
         {
          "Actual Vs Estimated": "Actual",
          "Cum Sales": 4035,
          "Week": 70
         },
         {
          "Actual Vs Estimated": "Actual",
          "Cum Sales": 4077,
          "Week": 71
         },
         {
          "Actual Vs Estimated": "Actual",
          "Cum Sales": 4112,
          "Week": 72
         },
         {
          "Actual Vs Estimated": "Actual",
          "Cum Sales": 4141,
          "Week": 73
         },
         {
          "Actual Vs Estimated": "Actual",
          "Cum Sales": 4183,
          "Week": 74
         },
         {
          "Actual Vs Estimated": "Actual",
          "Cum Sales": 4231,
          "Week": 75
         },
         {
          "Actual Vs Estimated": "Actual",
          "Cum Sales": 4279,
          "Week": 76
         },
         {
          "Actual Vs Estimated": "Actual",
          "Cum Sales": 4311,
          "Week": 77
         },
         {
          "Actual Vs Estimated": "Actual",
          "Cum Sales": 4339,
          "Week": 78
         },
         {
          "Actual Vs Estimated": "Pareto/NBD",
          "Cum Sales": 3.068429708480835,
          "Week": 1
         },
         {
          "Actual Vs Estimated": "Pareto/NBD",
          "Cum Sales": 14.27966594696045,
          "Week": 2
         },
         {
          "Actual Vs Estimated": "Pareto/NBD",
          "Cum Sales": 33.7000617980957,
          "Week": 3
         },
         {
          "Actual Vs Estimated": "Pareto/NBD",
          "Cum Sales": 61.9541015625,
          "Week": 4
         },
         {
          "Actual Vs Estimated": "Pareto/NBD",
          "Cum Sales": 99.25309753417969,
          "Week": 5
         },
         {
          "Actual Vs Estimated": "Pareto/NBD",
          "Cum Sales": 146.2467041015625,
          "Week": 6
         },
         {
          "Actual Vs Estimated": "Pareto/NBD",
          "Cum Sales": 201.74801635742188,
          "Week": 7
         },
         {
          "Actual Vs Estimated": "Pareto/NBD",
          "Cum Sales": 265.6138000488281,
          "Week": 8
         },
         {
          "Actual Vs Estimated": "Pareto/NBD",
          "Cum Sales": 338.048828125,
          "Week": 9
         },
         {
          "Actual Vs Estimated": "Pareto/NBD",
          "Cum Sales": 418.8941650390625,
          "Week": 10
         },
         {
          "Actual Vs Estimated": "Pareto/NBD",
          "Cum Sales": 507.18682861328125,
          "Week": 11
         },
         {
          "Actual Vs Estimated": "Pareto/NBD",
          "Cum Sales": 601.976318359375,
          "Week": 12
         },
         {
          "Actual Vs Estimated": "Pareto/NBD",
          "Cum Sales": 698.8277587890625,
          "Week": 13
         },
         {
          "Actual Vs Estimated": "Pareto/NBD",
          "Cum Sales": 792.3612060546875,
          "Week": 14
         },
         {
          "Actual Vs Estimated": "Pareto/NBD",
          "Cum Sales": 882.870361328125,
          "Week": 15
         },
         {
          "Actual Vs Estimated": "Pareto/NBD",
          "Cum Sales": 970.6078491210938,
          "Week": 16
         },
         {
          "Actual Vs Estimated": "Pareto/NBD",
          "Cum Sales": 1055.79296875,
          "Week": 17
         },
         {
          "Actual Vs Estimated": "Pareto/NBD",
          "Cum Sales": 1138.6177978515625,
          "Week": 18
         },
         {
          "Actual Vs Estimated": "Pareto/NBD",
          "Cum Sales": 1219.25146484375,
          "Week": 19
         },
         {
          "Actual Vs Estimated": "Pareto/NBD",
          "Cum Sales": 1297.84375,
          "Week": 20
         },
         {
          "Actual Vs Estimated": "Pareto/NBD",
          "Cum Sales": 1374.5284423828125,
          "Week": 21
         },
         {
          "Actual Vs Estimated": "Pareto/NBD",
          "Cum Sales": 1449.42529296875,
          "Week": 22
         },
         {
          "Actual Vs Estimated": "Pareto/NBD",
          "Cum Sales": 1522.6424560546875,
          "Week": 23
         },
         {
          "Actual Vs Estimated": "Pareto/NBD",
          "Cum Sales": 1594.27734375,
          "Week": 24
         },
         {
          "Actual Vs Estimated": "Pareto/NBD",
          "Cum Sales": 1664.41845703125,
          "Week": 25
         },
         {
          "Actual Vs Estimated": "Pareto/NBD",
          "Cum Sales": 1733.1468505859375,
          "Week": 26
         },
         {
          "Actual Vs Estimated": "Pareto/NBD",
          "Cum Sales": 1800.5360107421875,
          "Week": 27
         },
         {
          "Actual Vs Estimated": "Pareto/NBD",
          "Cum Sales": 1866.65380859375,
          "Week": 28
         },
         {
          "Actual Vs Estimated": "Pareto/NBD",
          "Cum Sales": 1931.5623779296875,
          "Week": 29
         },
         {
          "Actual Vs Estimated": "Pareto/NBD",
          "Cum Sales": 1995.3193359375,
          "Week": 30
         },
         {
          "Actual Vs Estimated": "Pareto/NBD",
          "Cum Sales": 2057.9775390625,
          "Week": 31
         },
         {
          "Actual Vs Estimated": "Pareto/NBD",
          "Cum Sales": 2119.586181640625,
          "Week": 32
         },
         {
          "Actual Vs Estimated": "Pareto/NBD",
          "Cum Sales": 2180.19091796875,
          "Week": 33
         },
         {
          "Actual Vs Estimated": "Pareto/NBD",
          "Cum Sales": 2239.83447265625,
          "Week": 34
         },
         {
          "Actual Vs Estimated": "Pareto/NBD",
          "Cum Sales": 2298.556396484375,
          "Week": 35
         },
         {
          "Actual Vs Estimated": "Pareto/NBD",
          "Cum Sales": 2356.3935546875,
          "Week": 36
         },
         {
          "Actual Vs Estimated": "Pareto/NBD",
          "Cum Sales": 2413.380859375,
          "Week": 37
         },
         {
          "Actual Vs Estimated": "Pareto/NBD",
          "Cum Sales": 2469.55078125,
          "Week": 38
         },
         {
          "Actual Vs Estimated": "Pareto/NBD",
          "Cum Sales": 2524.933837890625,
          "Week": 39
         },
         {
          "Actual Vs Estimated": "Pareto/NBD",
          "Cum Sales": 2579.558837890625,
          "Week": 40
         },
         {
          "Actual Vs Estimated": "Pareto/NBD",
          "Cum Sales": 2633.452392578125,
          "Week": 41
         },
         {
          "Actual Vs Estimated": "Pareto/NBD",
          "Cum Sales": 2686.640380859375,
          "Week": 42
         },
         {
          "Actual Vs Estimated": "Pareto/NBD",
          "Cum Sales": 2739.14697265625,
          "Week": 43
         },
         {
          "Actual Vs Estimated": "Pareto/NBD",
          "Cum Sales": 2790.994384765625,
          "Week": 44
         },
         {
          "Actual Vs Estimated": "Pareto/NBD",
          "Cum Sales": 2842.204833984375,
          "Week": 45
         },
         {
          "Actual Vs Estimated": "Pareto/NBD",
          "Cum Sales": 2892.79833984375,
          "Week": 46
         },
         {
          "Actual Vs Estimated": "Pareto/NBD",
          "Cum Sales": 2942.794677734375,
          "Week": 47
         },
         {
          "Actual Vs Estimated": "Pareto/NBD",
          "Cum Sales": 2992.211669921875,
          "Week": 48
         },
         {
          "Actual Vs Estimated": "Pareto/NBD",
          "Cum Sales": 3041.067138671875,
          "Week": 49
         },
         {
          "Actual Vs Estimated": "Pareto/NBD",
          "Cum Sales": 3089.3779296875,
          "Week": 50
         },
         {
          "Actual Vs Estimated": "Pareto/NBD",
          "Cum Sales": 3137.15966796875,
          "Week": 51
         },
         {
          "Actual Vs Estimated": "Pareto/NBD",
          "Cum Sales": 3184.427490234375,
          "Week": 52
         },
         {
          "Actual Vs Estimated": "Pareto/NBD",
          "Cum Sales": 3231.19580078125,
          "Week": 53
         },
         {
          "Actual Vs Estimated": "Pareto/NBD",
          "Cum Sales": 3277.478515625,
          "Week": 54
         },
         {
          "Actual Vs Estimated": "Pareto/NBD",
          "Cum Sales": 3323.288818359375,
          "Week": 55
         },
         {
          "Actual Vs Estimated": "Pareto/NBD",
          "Cum Sales": 3368.63916015625,
          "Week": 56
         },
         {
          "Actual Vs Estimated": "Pareto/NBD",
          "Cum Sales": 3413.541748046875,
          "Week": 57
         },
         {
          "Actual Vs Estimated": "Pareto/NBD",
          "Cum Sales": 3458.008056640625,
          "Week": 58
         },
         {
          "Actual Vs Estimated": "Pareto/NBD",
          "Cum Sales": 3502.049072265625,
          "Week": 59
         },
         {
          "Actual Vs Estimated": "Pareto/NBD",
          "Cum Sales": 3545.67578125,
          "Week": 60
         },
         {
          "Actual Vs Estimated": "Pareto/NBD",
          "Cum Sales": 3588.89794921875,
          "Week": 61
         },
         {
          "Actual Vs Estimated": "Pareto/NBD",
          "Cum Sales": 3631.725830078125,
          "Week": 62
         },
         {
          "Actual Vs Estimated": "Pareto/NBD",
          "Cum Sales": 3674.16845703125,
          "Week": 63
         },
         {
          "Actual Vs Estimated": "Pareto/NBD",
          "Cum Sales": 3716.235107421875,
          "Week": 64
         },
         {
          "Actual Vs Estimated": "Pareto/NBD",
          "Cum Sales": 3757.9345703125,
          "Week": 65
         },
         {
          "Actual Vs Estimated": "Pareto/NBD",
          "Cum Sales": 3799.27490234375,
          "Week": 66
         },
         {
          "Actual Vs Estimated": "Pareto/NBD",
          "Cum Sales": 3840.264404296875,
          "Week": 67
         },
         {
          "Actual Vs Estimated": "Pareto/NBD",
          "Cum Sales": 3880.910888671875,
          "Week": 68
         },
         {
          "Actual Vs Estimated": "Pareto/NBD",
          "Cum Sales": 3921.221923828125,
          "Week": 69
         },
         {
          "Actual Vs Estimated": "Pareto/NBD",
          "Cum Sales": 3961.204833984375,
          "Week": 70
         },
         {
          "Actual Vs Estimated": "Pareto/NBD",
          "Cum Sales": 4000.8662109375,
          "Week": 71
         },
         {
          "Actual Vs Estimated": "Pareto/NBD",
          "Cum Sales": 4040.21337890625,
          "Week": 72
         },
         {
          "Actual Vs Estimated": "Pareto/NBD",
          "Cum Sales": 4079.25244140625,
          "Week": 73
         },
         {
          "Actual Vs Estimated": "Pareto/NBD",
          "Cum Sales": 4117.98974609375,
          "Week": 74
         },
         {
          "Actual Vs Estimated": "Pareto/NBD",
          "Cum Sales": 4156.431640625,
          "Week": 75
         },
         {
          "Actual Vs Estimated": "Pareto/NBD",
          "Cum Sales": 4194.583984375,
          "Week": 76
         },
         {
          "Actual Vs Estimated": "Pareto/NBD",
          "Cum Sales": 4232.4521484375,
          "Week": 77
         },
         {
          "Actual Vs Estimated": "Pareto/NBD",
          "Cum Sales": 4270.0419921875,
          "Week": 78
         },
         {
          "Actual Vs Estimated": "BG/NBD",
          "Cum Sales": 3.2087888717651367,
          "Week": 1
         },
         {
          "Actual Vs Estimated": "BG/NBD",
          "Cum Sales": 14.867267608642578,
          "Week": 2
         },
         {
          "Actual Vs Estimated": "BG/NBD",
          "Cum Sales": 34.95221710205078,
          "Week": 3
         },
         {
          "Actual Vs Estimated": "BG/NBD",
          "Cum Sales": 64.0456314086914,
          "Week": 4
         },
         {
          "Actual Vs Estimated": "BG/NBD",
          "Cum Sales": 102.30870056152344,
          "Week": 5
         },
         {
          "Actual Vs Estimated": "BG/NBD",
          "Cum Sales": 150.3700408935547,
          "Week": 6
         },
         {
          "Actual Vs Estimated": "BG/NBD",
          "Cum Sales": 206.94253540039062,
          "Week": 7
         },
         {
          "Actual Vs Estimated": "BG/NBD",
          "Cum Sales": 271.8577880859375,
          "Week": 8
         },
         {
          "Actual Vs Estimated": "BG/NBD",
          "Cum Sales": 345.3125915527344,
          "Week": 9
         },
         {
          "Actual Vs Estimated": "BG/NBD",
          "Cum Sales": 427.1216735839844,
          "Week": 10
         },
         {
          "Actual Vs Estimated": "BG/NBD",
          "Cum Sales": 516.2669677734375,
          "Week": 11
         },
         {
          "Actual Vs Estimated": "BG/NBD",
          "Cum Sales": 611.7559814453125,
          "Week": 12
         },
         {
          "Actual Vs Estimated": "BG/NBD",
          "Cum Sales": 708.966552734375,
          "Week": 13
         },
         {
          "Actual Vs Estimated": "BG/NBD",
          "Cum Sales": 802.3648071289062,
          "Week": 14
         },
         {
          "Actual Vs Estimated": "BG/NBD",
          "Cum Sales": 892.3677978515625,
          "Week": 15
         },
         {
          "Actual Vs Estimated": "BG/NBD",
          "Cum Sales": 979.3155517578125,
          "Week": 16
         },
         {
          "Actual Vs Estimated": "BG/NBD",
          "Cum Sales": 1063.4906005859375,
          "Week": 17
         },
         {
          "Actual Vs Estimated": "BG/NBD",
          "Cum Sales": 1145.1319580078125,
          "Week": 18
         },
         {
          "Actual Vs Estimated": "BG/NBD",
          "Cum Sales": 1224.4439697265625,
          "Week": 19
         },
         {
          "Actual Vs Estimated": "BG/NBD",
          "Cum Sales": 1301.6038818359375,
          "Week": 20
         },
         {
          "Actual Vs Estimated": "BG/NBD",
          "Cum Sales": 1376.7664794921875,
          "Week": 21
         },
         {
          "Actual Vs Estimated": "BG/NBD",
          "Cum Sales": 1450.0679931640625,
          "Week": 22
         },
         {
          "Actual Vs Estimated": "BG/NBD",
          "Cum Sales": 1521.6295166015625,
          "Week": 23
         },
         {
          "Actual Vs Estimated": "BG/NBD",
          "Cum Sales": 1591.5589599609375,
          "Week": 24
         },
         {
          "Actual Vs Estimated": "BG/NBD",
          "Cum Sales": 1659.9534912109375,
          "Week": 25
         },
         {
          "Actual Vs Estimated": "BG/NBD",
          "Cum Sales": 1726.9005126953125,
          "Week": 26
         },
         {
          "Actual Vs Estimated": "BG/NBD",
          "Cum Sales": 1792.4793701171875,
          "Week": 27
         },
         {
          "Actual Vs Estimated": "BG/NBD",
          "Cum Sales": 1856.76220703125,
          "Week": 28
         },
         {
          "Actual Vs Estimated": "BG/NBD",
          "Cum Sales": 1919.815185546875,
          "Week": 29
         },
         {
          "Actual Vs Estimated": "BG/NBD",
          "Cum Sales": 1981.6986083984375,
          "Week": 30
         },
         {
          "Actual Vs Estimated": "BG/NBD",
          "Cum Sales": 2042.4681396484375,
          "Week": 31
         },
         {
          "Actual Vs Estimated": "BG/NBD",
          "Cum Sales": 2102.175048828125,
          "Week": 32
         },
         {
          "Actual Vs Estimated": "BG/NBD",
          "Cum Sales": 2160.866943359375,
          "Week": 33
         },
         {
          "Actual Vs Estimated": "BG/NBD",
          "Cum Sales": 2218.587646484375,
          "Week": 34
         },
         {
          "Actual Vs Estimated": "BG/NBD",
          "Cum Sales": 2275.378173828125,
          "Week": 35
         },
         {
          "Actual Vs Estimated": "BG/NBD",
          "Cum Sales": 2331.2763671875,
          "Week": 36
         },
         {
          "Actual Vs Estimated": "BG/NBD",
          "Cum Sales": 2386.31787109375,
          "Week": 37
         },
         {
          "Actual Vs Estimated": "BG/NBD",
          "Cum Sales": 2440.5361328125,
          "Week": 38
         },
         {
          "Actual Vs Estimated": "BG/NBD",
          "Cum Sales": 2493.962158203125,
          "Week": 39
         },
         {
          "Actual Vs Estimated": "BG/NBD",
          "Cum Sales": 2546.625244140625,
          "Week": 40
         },
         {
          "Actual Vs Estimated": "BG/NBD",
          "Cum Sales": 2598.552734375,
          "Week": 41
         },
         {
          "Actual Vs Estimated": "BG/NBD",
          "Cum Sales": 2649.770751953125,
          "Week": 42
         },
         {
          "Actual Vs Estimated": "BG/NBD",
          "Cum Sales": 2700.30322265625,
          "Week": 43
         },
         {
          "Actual Vs Estimated": "BG/NBD",
          "Cum Sales": 2750.173583984375,
          "Week": 44
         },
         {
          "Actual Vs Estimated": "BG/NBD",
          "Cum Sales": 2799.403564453125,
          "Week": 45
         },
         {
          "Actual Vs Estimated": "BG/NBD",
          "Cum Sales": 2848.013671875,
          "Week": 46
         },
         {
          "Actual Vs Estimated": "BG/NBD",
          "Cum Sales": 2896.023681640625,
          "Week": 47
         },
         {
          "Actual Vs Estimated": "BG/NBD",
          "Cum Sales": 2943.451904296875,
          "Week": 48
         },
         {
          "Actual Vs Estimated": "BG/NBD",
          "Cum Sales": 2990.31591796875,
          "Week": 49
         },
         {
          "Actual Vs Estimated": "BG/NBD",
          "Cum Sales": 3036.6328125,
          "Week": 50
         },
         {
          "Actual Vs Estimated": "BG/NBD",
          "Cum Sales": 3082.41796875,
          "Week": 51
         },
         {
          "Actual Vs Estimated": "BG/NBD",
          "Cum Sales": 3127.687255859375,
          "Week": 52
         },
         {
          "Actual Vs Estimated": "BG/NBD",
          "Cum Sales": 3172.454833984375,
          "Week": 53
         },
         {
          "Actual Vs Estimated": "BG/NBD",
          "Cum Sales": 3216.734375,
          "Week": 54
         },
         {
          "Actual Vs Estimated": "BG/NBD",
          "Cum Sales": 3260.539306640625,
          "Week": 55
         },
         {
          "Actual Vs Estimated": "BG/NBD",
          "Cum Sales": 3303.88232421875,
          "Week": 56
         },
         {
          "Actual Vs Estimated": "BG/NBD",
          "Cum Sales": 3346.775634765625,
          "Week": 57
         },
         {
          "Actual Vs Estimated": "BG/NBD",
          "Cum Sales": 3389.23046875,
          "Week": 58
         },
         {
          "Actual Vs Estimated": "BG/NBD",
          "Cum Sales": 3431.258056640625,
          "Week": 59
         },
         {
          "Actual Vs Estimated": "BG/NBD",
          "Cum Sales": 3472.869140625,
          "Week": 60
         },
         {
          "Actual Vs Estimated": "BG/NBD",
          "Cum Sales": 3514.073974609375,
          "Week": 61
         },
         {
          "Actual Vs Estimated": "BG/NBD",
          "Cum Sales": 3554.882080078125,
          "Week": 62
         },
         {
          "Actual Vs Estimated": "BG/NBD",
          "Cum Sales": 3595.303466796875,
          "Week": 63
         },
         {
          "Actual Vs Estimated": "BG/NBD",
          "Cum Sales": 3635.3466796875,
          "Week": 64
         },
         {
          "Actual Vs Estimated": "BG/NBD",
          "Cum Sales": 3675.0205078125,
          "Week": 65
         },
         {
          "Actual Vs Estimated": "BG/NBD",
          "Cum Sales": 3714.33349609375,
          "Week": 66
         },
         {
          "Actual Vs Estimated": "BG/NBD",
          "Cum Sales": 3753.2939453125,
          "Week": 67
         },
         {
          "Actual Vs Estimated": "BG/NBD",
          "Cum Sales": 3791.909423828125,
          "Week": 68
         },
         {
          "Actual Vs Estimated": "BG/NBD",
          "Cum Sales": 3830.187255859375,
          "Week": 69
         },
         {
          "Actual Vs Estimated": "BG/NBD",
          "Cum Sales": 3868.135009765625,
          "Week": 70
         },
         {
          "Actual Vs Estimated": "BG/NBD",
          "Cum Sales": 3905.759765625,
          "Week": 71
         },
         {
          "Actual Vs Estimated": "BG/NBD",
          "Cum Sales": 3943.06787109375,
          "Week": 72
         },
         {
          "Actual Vs Estimated": "BG/NBD",
          "Cum Sales": 3980.06640625,
          "Week": 73
         },
         {
          "Actual Vs Estimated": "BG/NBD",
          "Cum Sales": 4016.76123046875,
          "Week": 74
         },
         {
          "Actual Vs Estimated": "BG/NBD",
          "Cum Sales": 4053.15869140625,
          "Week": 75
         },
         {
          "Actual Vs Estimated": "BG/NBD",
          "Cum Sales": 4089.264892578125,
          "Week": 76
         },
         {
          "Actual Vs Estimated": "BG/NBD",
          "Cum Sales": 4125.0849609375,
          "Week": 77
         },
         {
          "Actual Vs Estimated": "BG/NBD",
          "Cum Sales": 4160.625,
          "Week": 78
         }
        ]
       },
       "encoding": {
        "strokeDash": {
         "field": "Actual Vs Estimated",
         "type": "nominal"
        },
        "x": {
         "field": "Week",
         "title": "Week",
         "type": "quantitative"
        },
        "y": {
         "field": "Cum Sales",
         "title": "Cum. Rpt Transactions",
         "type": "quantitative"
        }
       },
       "height": 400,
       "mark": {
        "type": "line"
       },
       "title": "Tracking Cumulative Repeat Transactions",
       "width": 550
      },
      "text/plain": [
       "<VegaLite 5 object>\n",
       "\n",
       "If you see this message, it means the renderer has not been properly enabled\n",
       "for the frontend that you are using. For more information, see\n",
       "https://altair-viz.github.io/user_guide/display_frontends.html#troubleshooting\n"
      ]
     },
     "execution_count": 8,
     "metadata": {},
     "output_type": "execute_result"
    }
   ],
   "source": [
    "cum_sales_plot_data = (\n",
    "    actual_repeat_sales\n",
    "    .rename({'Cum Sales': 'Actual'})\n",
    "    .join(other=paretonbd_repeat_sales, on='Week', how='left', suffix=' - Pareto/NBD')\n",
    "    .rename({'Cum Sales': 'Pareto/NBD'})\n",
    "    .join(other=bgnbd_repeat_sales, on='Week', how='left', suffix=' - BG/NBD')\n",
    "    .rename({'Cum Sales': 'BG/NBD'})\n",
    "    .unpivot(on=['Actual', 'Pareto/NBD', 'BG/NBD'], index='Week', value_name='Cum Sales', variable_name='Actual Vs Estimated')\n",
    ")\n",
    "\n",
    "(\n",
    "    alt.Chart(cum_sales_plot_data).mark_line()\n",
    "    .encode(x=alt.X('Week', title='Week'), \n",
    "            y=alt.Y('Cum Sales', title='Cum. Rpt Transactions'), \n",
    "            strokeDash='Actual Vs Estimated:N')\n",
    "    .properties(\n",
    "            width=550,\n",
    "            height=400,\n",
    "            title='Tracking Cumulative Repeat Transactions'\n",
    "        ).configure_view(stroke=None).configure_axisY(grid=False).configure_axisX(grid=False)         \n",
    ")"
   ]
  },
  {
   "cell_type": "code",
   "execution_count": 9,
   "metadata": {},
   "outputs": [
    {
     "data": {
      "application/vnd.vegalite.v5+json": {
       "$schema": "https://vega.github.io/schema/vega-lite/v5.20.1.json",
       "config": {
        "axisX": {
         "grid": false
        },
        "axisY": {
         "grid": false
        },
        "view": {
         "continuousHeight": 300,
         "continuousWidth": 300,
         "stroke": null
        }
       },
       "data": {
        "name": "data-9aad4b451532a27b17279fa28cef70cd"
       },
       "datasets": {
        "data-9aad4b451532a27b17279fa28cef70cd": [
         {
          "Actual Vs Estimated": "Actual",
          "Week": 1,
          "Weekly Sales": 0
         },
         {
          "Actual Vs Estimated": "Actual",
          "Week": 2,
          "Weekly Sales": 19
         },
         {
          "Actual Vs Estimated": "Actual",
          "Week": 3,
          "Weekly Sales": 23
         },
         {
          "Actual Vs Estimated": "Actual",
          "Week": 4,
          "Weekly Sales": 39
         },
         {
          "Actual Vs Estimated": "Actual",
          "Week": 5,
          "Weekly Sales": 38
         },
         {
          "Actual Vs Estimated": "Actual",
          "Week": 6,
          "Weekly Sales": 73
         },
         {
          "Actual Vs Estimated": "Actual",
          "Week": 7,
          "Weekly Sales": 69
         },
         {
          "Actual Vs Estimated": "Actual",
          "Week": 8,
          "Weekly Sales": 90
         },
         {
          "Actual Vs Estimated": "Actual",
          "Week": 9,
          "Weekly Sales": 77
         },
         {
          "Actual Vs Estimated": "Actual",
          "Week": 10,
          "Weekly Sales": 76
         },
         {
          "Actual Vs Estimated": "Actual",
          "Week": 11,
          "Weekly Sales": 106
         },
         {
          "Actual Vs Estimated": "Actual",
          "Week": 12,
          "Weekly Sales": 123
         },
         {
          "Actual Vs Estimated": "Actual",
          "Week": 13,
          "Weekly Sales": 95
         },
         {
          "Actual Vs Estimated": "Actual",
          "Week": 14,
          "Weekly Sales": 86
         },
         {
          "Actual Vs Estimated": "Actual",
          "Week": 15,
          "Weekly Sales": 91
         },
         {
          "Actual Vs Estimated": "Actual",
          "Week": 16,
          "Weekly Sales": 73
         },
         {
          "Actual Vs Estimated": "Actual",
          "Week": 17,
          "Weekly Sales": 71
         },
         {
          "Actual Vs Estimated": "Actual",
          "Week": 18,
          "Weekly Sales": 73
         },
         {
          "Actual Vs Estimated": "Actual",
          "Week": 19,
          "Weekly Sales": 64
         },
         {
          "Actual Vs Estimated": "Actual",
          "Week": 20,
          "Weekly Sales": 73
         },
         {
          "Actual Vs Estimated": "Actual",
          "Week": 21,
          "Weekly Sales": 55
         },
         {
          "Actual Vs Estimated": "Actual",
          "Week": 22,
          "Weekly Sales": 70
         },
         {
          "Actual Vs Estimated": "Actual",
          "Week": 23,
          "Weekly Sales": 33
         },
         {
          "Actual Vs Estimated": "Actual",
          "Week": 24,
          "Weekly Sales": 56
         },
         {
          "Actual Vs Estimated": "Actual",
          "Week": 25,
          "Weekly Sales": 99
         },
         {
          "Actual Vs Estimated": "Actual",
          "Week": 26,
          "Weekly Sales": 74
         },
         {
          "Actual Vs Estimated": "Actual",
          "Week": 27,
          "Weekly Sales": 54
         },
         {
          "Actual Vs Estimated": "Actual",
          "Week": 28,
          "Weekly Sales": 40
         },
         {
          "Actual Vs Estimated": "Actual",
          "Week": 29,
          "Weekly Sales": 45
         },
         {
          "Actual Vs Estimated": "Actual",
          "Week": 30,
          "Weekly Sales": 88
         },
         {
          "Actual Vs Estimated": "Actual",
          "Week": 31,
          "Weekly Sales": 59
         },
         {
          "Actual Vs Estimated": "Actual",
          "Week": 32,
          "Weekly Sales": 37
         },
         {
          "Actual Vs Estimated": "Actual",
          "Week": 33,
          "Weekly Sales": 63
         },
         {
          "Actual Vs Estimated": "Actual",
          "Week": 34,
          "Weekly Sales": 60
         },
         {
          "Actual Vs Estimated": "Actual",
          "Week": 35,
          "Weekly Sales": 47
         },
         {
          "Actual Vs Estimated": "Actual",
          "Week": 36,
          "Weekly Sales": 51
         },
         {
          "Actual Vs Estimated": "Actual",
          "Week": 37,
          "Weekly Sales": 52
         },
         {
          "Actual Vs Estimated": "Actual",
          "Week": 38,
          "Weekly Sales": 53
         },
         {
          "Actual Vs Estimated": "Actual",
          "Week": 39,
          "Weekly Sales": 62
         },
         {
          "Actual Vs Estimated": "Actual",
          "Week": 40,
          "Weekly Sales": 50
         },
         {
          "Actual Vs Estimated": "Actual",
          "Week": 41,
          "Weekly Sales": 56
         },
         {
          "Actual Vs Estimated": "Actual",
          "Week": 42,
          "Weekly Sales": 49
         },
         {
          "Actual Vs Estimated": "Actual",
          "Week": 43,
          "Weekly Sales": 59
         },
         {
          "Actual Vs Estimated": "Actual",
          "Week": 44,
          "Weekly Sales": 47
         },
         {
          "Actual Vs Estimated": "Actual",
          "Week": 45,
          "Weekly Sales": 85
         },
         {
          "Actual Vs Estimated": "Actual",
          "Week": 46,
          "Weekly Sales": 61
         },
         {
          "Actual Vs Estimated": "Actual",
          "Week": 47,
          "Weekly Sales": 59
         },
         {
          "Actual Vs Estimated": "Actual",
          "Week": 48,
          "Weekly Sales": 45
         },
         {
          "Actual Vs Estimated": "Actual",
          "Week": 49,
          "Weekly Sales": 70
         },
         {
          "Actual Vs Estimated": "Actual",
          "Week": 50,
          "Weekly Sales": 66
         },
         {
          "Actual Vs Estimated": "Actual",
          "Week": 51,
          "Weekly Sales": 49
         },
         {
          "Actual Vs Estimated": "Actual",
          "Week": 52,
          "Weekly Sales": 30
         },
         {
          "Actual Vs Estimated": "Actual",
          "Week": 53,
          "Weekly Sales": 51
         },
         {
          "Actual Vs Estimated": "Actual",
          "Week": 54,
          "Weekly Sales": 42
         },
         {
          "Actual Vs Estimated": "Actual",
          "Week": 55,
          "Weekly Sales": 53
         },
         {
          "Actual Vs Estimated": "Actual",
          "Week": 56,
          "Weekly Sales": 28
         },
         {
          "Actual Vs Estimated": "Actual",
          "Week": 57,
          "Weekly Sales": 47
         },
         {
          "Actual Vs Estimated": "Actual",
          "Week": 58,
          "Weekly Sales": 40
         },
         {
          "Actual Vs Estimated": "Actual",
          "Week": 59,
          "Weekly Sales": 46
         },
         {
          "Actual Vs Estimated": "Actual",
          "Week": 60,
          "Weekly Sales": 43
         },
         {
          "Actual Vs Estimated": "Actual",
          "Week": 61,
          "Weekly Sales": 65
         },
         {
          "Actual Vs Estimated": "Actual",
          "Week": 62,
          "Weekly Sales": 79
         },
         {
          "Actual Vs Estimated": "Actual",
          "Week": 63,
          "Weekly Sales": 50
         },
         {
          "Actual Vs Estimated": "Actual",
          "Week": 64,
          "Weekly Sales": 59
         },
         {
          "Actual Vs Estimated": "Actual",
          "Week": 65,
          "Weekly Sales": 58
         },
         {
          "Actual Vs Estimated": "Actual",
          "Week": 66,
          "Weekly Sales": 35
         },
         {
          "Actual Vs Estimated": "Actual",
          "Week": 67,
          "Weekly Sales": 36
         },
         {
          "Actual Vs Estimated": "Actual",
          "Week": 68,
          "Weekly Sales": 47
         },
         {
          "Actual Vs Estimated": "Actual",
          "Week": 69,
          "Weekly Sales": 29
         },
         {
          "Actual Vs Estimated": "Actual",
          "Week": 70,
          "Weekly Sales": 44
         },
         {
          "Actual Vs Estimated": "Actual",
          "Week": 71,
          "Weekly Sales": 42
         },
         {
          "Actual Vs Estimated": "Actual",
          "Week": 72,
          "Weekly Sales": 35
         },
         {
          "Actual Vs Estimated": "Actual",
          "Week": 73,
          "Weekly Sales": 29
         },
         {
          "Actual Vs Estimated": "Actual",
          "Week": 74,
          "Weekly Sales": 42
         },
         {
          "Actual Vs Estimated": "Actual",
          "Week": 75,
          "Weekly Sales": 48
         },
         {
          "Actual Vs Estimated": "Actual",
          "Week": 76,
          "Weekly Sales": 48
         },
         {
          "Actual Vs Estimated": "Actual",
          "Week": 77,
          "Weekly Sales": 32
         },
         {
          "Actual Vs Estimated": "Actual",
          "Week": 78,
          "Weekly Sales": 28
         },
         {
          "Actual Vs Estimated": "Pareto/NBD",
          "Week": 1,
          "Weekly Sales": 3.068429708480835
         },
         {
          "Actual Vs Estimated": "Pareto/NBD",
          "Week": 2,
          "Weekly Sales": 11.211236000061035
         },
         {
          "Actual Vs Estimated": "Pareto/NBD",
          "Week": 3,
          "Weekly Sales": 19.420394897460938
         },
         {
          "Actual Vs Estimated": "Pareto/NBD",
          "Week": 4,
          "Weekly Sales": 28.25404167175293
         },
         {
          "Actual Vs Estimated": "Pareto/NBD",
          "Week": 5,
          "Weekly Sales": 37.29899597167969
         },
         {
          "Actual Vs Estimated": "Pareto/NBD",
          "Week": 6,
          "Weekly Sales": 46.99360656738281
         },
         {
          "Actual Vs Estimated": "Pareto/NBD",
          "Week": 7,
          "Weekly Sales": 55.501312255859375
         },
         {
          "Actual Vs Estimated": "Pareto/NBD",
          "Week": 8,
          "Weekly Sales": 63.86578369140625
         },
         {
          "Actual Vs Estimated": "Pareto/NBD",
          "Week": 9,
          "Weekly Sales": 72.4350357055664
         },
         {
          "Actual Vs Estimated": "Pareto/NBD",
          "Week": 10,
          "Weekly Sales": 80.84532165527344
         },
         {
          "Actual Vs Estimated": "Pareto/NBD",
          "Week": 11,
          "Weekly Sales": 88.29267120361328
         },
         {
          "Actual Vs Estimated": "Pareto/NBD",
          "Week": 12,
          "Weekly Sales": 94.78951263427734
         },
         {
          "Actual Vs Estimated": "Pareto/NBD",
          "Week": 13,
          "Weekly Sales": 96.85144805908203
         },
         {
          "Actual Vs Estimated": "Pareto/NBD",
          "Week": 14,
          "Weekly Sales": 93.53343200683594
         },
         {
          "Actual Vs Estimated": "Pareto/NBD",
          "Week": 15,
          "Weekly Sales": 90.50911712646484
         },
         {
          "Actual Vs Estimated": "Pareto/NBD",
          "Week": 16,
          "Weekly Sales": 87.73748016357422
         },
         {
          "Actual Vs Estimated": "Pareto/NBD",
          "Week": 17,
          "Weekly Sales": 85.18519592285156
         },
         {
          "Actual Vs Estimated": "Pareto/NBD",
          "Week": 18,
          "Weekly Sales": 82.82483673095703
         },
         {
          "Actual Vs Estimated": "Pareto/NBD",
          "Week": 19,
          "Weekly Sales": 80.63358306884766
         },
         {
          "Actual Vs Estimated": "Pareto/NBD",
          "Week": 20,
          "Weekly Sales": 78.59227752685547
         },
         {
          "Actual Vs Estimated": "Pareto/NBD",
          "Week": 21,
          "Weekly Sales": 76.68468475341797
         },
         {
          "Actual Vs Estimated": "Pareto/NBD",
          "Week": 22,
          "Weekly Sales": 74.89693450927734
         },
         {
          "Actual Vs Estimated": "Pareto/NBD",
          "Week": 23,
          "Weekly Sales": 73.21710205078125
         },
         {
          "Actual Vs Estimated": "Pareto/NBD",
          "Week": 24,
          "Weekly Sales": 71.63485717773438
         },
         {
          "Actual Vs Estimated": "Pareto/NBD",
          "Week": 25,
          "Weekly Sales": 70.14122009277344
         },
         {
          "Actual Vs Estimated": "Pareto/NBD",
          "Week": 26,
          "Weekly Sales": 68.72830963134766
         },
         {
          "Actual Vs Estimated": "Pareto/NBD",
          "Week": 27,
          "Weekly Sales": 67.38920593261719
         },
         {
          "Actual Vs Estimated": "Pareto/NBD",
          "Week": 28,
          "Weekly Sales": 66.11778259277344
         },
         {
          "Actual Vs Estimated": "Pareto/NBD",
          "Week": 29,
          "Weekly Sales": 64.90861511230469
         },
         {
          "Actual Vs Estimated": "Pareto/NBD",
          "Week": 30,
          "Weekly Sales": 63.75685119628906
         },
         {
          "Actual Vs Estimated": "Pareto/NBD",
          "Week": 31,
          "Weekly Sales": 62.658164978027344
         },
         {
          "Actual Vs Estimated": "Pareto/NBD",
          "Week": 32,
          "Weekly Sales": 61.60866165161133
         },
         {
          "Actual Vs Estimated": "Pareto/NBD",
          "Week": 33,
          "Weekly Sales": 60.60483932495117
         },
         {
          "Actual Vs Estimated": "Pareto/NBD",
          "Week": 34,
          "Weekly Sales": 59.64353561401367
         },
         {
          "Actual Vs Estimated": "Pareto/NBD",
          "Week": 35,
          "Weekly Sales": 58.72188186645508
         },
         {
          "Actual Vs Estimated": "Pareto/NBD",
          "Week": 36,
          "Weekly Sales": 57.83727264404297
         },
         {
          "Actual Vs Estimated": "Pareto/NBD",
          "Week": 37,
          "Weekly Sales": 56.98733901977539
         },
         {
          "Actual Vs Estimated": "Pareto/NBD",
          "Week": 38,
          "Weekly Sales": 56.16991424560547
         },
         {
          "Actual Vs Estimated": "Pareto/NBD",
          "Week": 39,
          "Weekly Sales": 55.38301467895508
         },
         {
          "Actual Vs Estimated": "Pareto/NBD",
          "Week": 40,
          "Weekly Sales": 54.62482452392578
         },
         {
          "Actual Vs Estimated": "Pareto/NBD",
          "Week": 41,
          "Weekly Sales": 53.89366912841797
         },
         {
          "Actual Vs Estimated": "Pareto/NBD",
          "Week": 42,
          "Weekly Sales": 53.18801498413086
         },
         {
          "Actual Vs Estimated": "Pareto/NBD",
          "Week": 43,
          "Weekly Sales": 52.50644302368164
         },
         {
          "Actual Vs Estimated": "Pareto/NBD",
          "Week": 44,
          "Weekly Sales": 51.84763717651367
         },
         {
          "Actual Vs Estimated": "Pareto/NBD",
          "Week": 45,
          "Weekly Sales": 51.21038818359375
         },
         {
          "Actual Vs Estimated": "Pareto/NBD",
          "Week": 46,
          "Weekly Sales": 50.593563079833984
         },
         {
          "Actual Vs Estimated": "Pareto/NBD",
          "Week": 47,
          "Weekly Sales": 49.996124267578125
         },
         {
          "Actual Vs Estimated": "Pareto/NBD",
          "Week": 48,
          "Weekly Sales": 49.417091369628906
         },
         {
          "Actual Vs Estimated": "Pareto/NBD",
          "Week": 49,
          "Weekly Sales": 48.85556411743164
         },
         {
          "Actual Vs Estimated": "Pareto/NBD",
          "Week": 50,
          "Weekly Sales": 48.310691833496094
         },
         {
          "Actual Vs Estimated": "Pareto/NBD",
          "Week": 51,
          "Weekly Sales": 47.78168487548828
         },
         {
          "Actual Vs Estimated": "Pareto/NBD",
          "Week": 52,
          "Weekly Sales": 47.26780700683594
         },
         {
          "Actual Vs Estimated": "Pareto/NBD",
          "Week": 53,
          "Weekly Sales": 46.76836395263672
         },
         {
          "Actual Vs Estimated": "Pareto/NBD",
          "Week": 54,
          "Weekly Sales": 46.282711029052734
         },
         {
          "Actual Vs Estimated": "Pareto/NBD",
          "Week": 55,
          "Weekly Sales": 45.81023406982422
         },
         {
          "Actual Vs Estimated": "Pareto/NBD",
          "Week": 56,
          "Weekly Sales": 45.35036087036133
         },
         {
          "Actual Vs Estimated": "Pareto/NBD",
          "Week": 57,
          "Weekly Sales": 44.902557373046875
         },
         {
          "Actual Vs Estimated": "Pareto/NBD",
          "Week": 58,
          "Weekly Sales": 44.466312408447266
         },
         {
          "Actual Vs Estimated": "Pareto/NBD",
          "Week": 59,
          "Weekly Sales": 44.04115295410156
         },
         {
          "Actual Vs Estimated": "Pareto/NBD",
          "Week": 60,
          "Weekly Sales": 43.626625061035156
         },
         {
          "Actual Vs Estimated": "Pareto/NBD",
          "Week": 61,
          "Weekly Sales": 43.2223014831543
         },
         {
          "Actual Vs Estimated": "Pareto/NBD",
          "Week": 62,
          "Weekly Sales": 42.827781677246094
         },
         {
          "Actual Vs Estimated": "Pareto/NBD",
          "Week": 63,
          "Weekly Sales": 42.442684173583984
         },
         {
          "Actual Vs Estimated": "Pareto/NBD",
          "Week": 64,
          "Weekly Sales": 42.066646575927734
         },
         {
          "Actual Vs Estimated": "Pareto/NBD",
          "Week": 65,
          "Weekly Sales": 41.69933319091797
         },
         {
          "Actual Vs Estimated": "Pareto/NBD",
          "Week": 66,
          "Weekly Sales": 41.34041213989258
         },
         {
          "Actual Vs Estimated": "Pareto/NBD",
          "Week": 67,
          "Weekly Sales": 40.98957824707031
         },
         {
          "Actual Vs Estimated": "Pareto/NBD",
          "Week": 68,
          "Weekly Sales": 40.64654541015625
         },
         {
          "Actual Vs Estimated": "Pareto/NBD",
          "Week": 69,
          "Weekly Sales": 40.31102752685547
         },
         {
          "Actual Vs Estimated": "Pareto/NBD",
          "Week": 70,
          "Weekly Sales": 39.98276138305664
         },
         {
          "Actual Vs Estimated": "Pareto/NBD",
          "Week": 71,
          "Weekly Sales": 39.6614990234375
         },
         {
          "Actual Vs Estimated": "Pareto/NBD",
          "Week": 72,
          "Weekly Sales": 39.34700012207031
         },
         {
          "Actual Vs Estimated": "Pareto/NBD",
          "Week": 73,
          "Weekly Sales": 39.03903579711914
         },
         {
          "Actual Vs Estimated": "Pareto/NBD",
          "Week": 74,
          "Weekly Sales": 38.737388610839844
         },
         {
          "Actual Vs Estimated": "Pareto/NBD",
          "Week": 75,
          "Weekly Sales": 38.44184875488281
         },
         {
          "Actual Vs Estimated": "Pareto/NBD",
          "Week": 76,
          "Weekly Sales": 38.152217864990234
         },
         {
          "Actual Vs Estimated": "Pareto/NBD",
          "Week": 77,
          "Weekly Sales": 37.868309020996094
         },
         {
          "Actual Vs Estimated": "Pareto/NBD",
          "Week": 78,
          "Weekly Sales": 37.589935302734375
         },
         {
          "Actual Vs Estimated": "BG/NBD",
          "Week": 1,
          "Weekly Sales": 3.2087888717651367
         },
         {
          "Actual Vs Estimated": "BG/NBD",
          "Week": 2,
          "Weekly Sales": 11.658478736877441
         },
         {
          "Actual Vs Estimated": "BG/NBD",
          "Week": 3,
          "Weekly Sales": 20.084951400756836
         },
         {
          "Actual Vs Estimated": "BG/NBD",
          "Week": 4,
          "Weekly Sales": 29.093416213989258
         },
         {
          "Actual Vs Estimated": "BG/NBD",
          "Week": 5,
          "Weekly Sales": 38.26306915283203
         },
         {
          "Actual Vs Estimated": "BG/NBD",
          "Week": 6,
          "Weekly Sales": 48.061344146728516
         },
         {
          "Actual Vs Estimated": "BG/NBD",
          "Week": 7,
          "Weekly Sales": 56.57249069213867
         },
         {
          "Actual Vs Estimated": "BG/NBD",
          "Week": 8,
          "Weekly Sales": 64.91523742675781
         },
         {
          "Actual Vs Estimated": "BG/NBD",
          "Week": 9,
          "Weekly Sales": 73.45481872558594
         },
         {
          "Actual Vs Estimated": "BG/NBD",
          "Week": 10,
          "Weekly Sales": 81.80906677246094
         },
         {
          "Actual Vs Estimated": "BG/NBD",
          "Week": 11,
          "Weekly Sales": 89.14533233642578
         },
         {
          "Actual Vs Estimated": "BG/NBD",
          "Week": 12,
          "Weekly Sales": 95.48897552490234
         },
         {
          "Actual Vs Estimated": "BG/NBD",
          "Week": 13,
          "Weekly Sales": 97.2105712890625
         },
         {
          "Actual Vs Estimated": "BG/NBD",
          "Week": 14,
          "Weekly Sales": 93.39824676513672
         },
         {
          "Actual Vs Estimated": "BG/NBD",
          "Week": 15,
          "Weekly Sales": 90.00303649902344
         },
         {
          "Actual Vs Estimated": "BG/NBD",
          "Week": 16,
          "Weekly Sales": 86.9477310180664
         },
         {
          "Actual Vs Estimated": "BG/NBD",
          "Week": 17,
          "Weekly Sales": 84.17507934570312
         },
         {
          "Actual Vs Estimated": "BG/NBD",
          "Week": 18,
          "Weekly Sales": 81.64129638671875
         },
         {
          "Actual Vs Estimated": "BG/NBD",
          "Week": 19,
          "Weekly Sales": 79.31206512451172
         },
         {
          "Actual Vs Estimated": "BG/NBD",
          "Week": 20,
          "Weekly Sales": 77.15992736816406
         },
         {
          "Actual Vs Estimated": "BG/NBD",
          "Week": 21,
          "Weekly Sales": 75.16255187988281
         },
         {
          "Actual Vs Estimated": "BG/NBD",
          "Week": 22,
          "Weekly Sales": 73.3015365600586
         },
         {
          "Actual Vs Estimated": "BG/NBD",
          "Week": 23,
          "Weekly Sales": 71.5615005493164
         },
         {
          "Actual Vs Estimated": "BG/NBD",
          "Week": 24,
          "Weekly Sales": 69.92949676513672
         },
         {
          "Actual Vs Estimated": "BG/NBD",
          "Week": 25,
          "Weekly Sales": 68.39448547363281
         },
         {
          "Actual Vs Estimated": "BG/NBD",
          "Week": 26,
          "Weekly Sales": 66.9469985961914
         },
         {
          "Actual Vs Estimated": "BG/NBD",
          "Week": 27,
          "Weekly Sales": 65.57884979248047
         },
         {
          "Actual Vs Estimated": "BG/NBD",
          "Week": 28,
          "Weekly Sales": 64.28289794921875
         },
         {
          "Actual Vs Estimated": "BG/NBD",
          "Week": 29,
          "Weekly Sales": 63.05292510986328
         },
         {
          "Actual Vs Estimated": "BG/NBD",
          "Week": 30,
          "Weekly Sales": 61.883426666259766
         },
         {
          "Actual Vs Estimated": "BG/NBD",
          "Week": 31,
          "Weekly Sales": 60.76954650878906
         },
         {
          "Actual Vs Estimated": "BG/NBD",
          "Week": 32,
          "Weekly Sales": 59.70697021484375
         },
         {
          "Actual Vs Estimated": "BG/NBD",
          "Week": 33,
          "Weekly Sales": 58.69183349609375
         },
         {
          "Actual Vs Estimated": "BG/NBD",
          "Week": 34,
          "Weekly Sales": 57.7206916809082
         },
         {
          "Actual Vs Estimated": "BG/NBD",
          "Week": 35,
          "Weekly Sales": 56.790435791015625
         },
         {
          "Actual Vs Estimated": "BG/NBD",
          "Week": 36,
          "Weekly Sales": 55.89826583862305
         },
         {
          "Actual Vs Estimated": "BG/NBD",
          "Week": 37,
          "Weekly Sales": 55.04164123535156
         },
         {
          "Actual Vs Estimated": "BG/NBD",
          "Week": 38,
          "Weekly Sales": 54.218257904052734
         },
         {
          "Actual Vs Estimated": "BG/NBD",
          "Week": 39,
          "Weekly Sales": 53.426021575927734
         },
         {
          "Actual Vs Estimated": "BG/NBD",
          "Week": 40,
          "Weekly Sales": 52.663021087646484
         },
         {
          "Actual Vs Estimated": "BG/NBD",
          "Week": 41,
          "Weekly Sales": 51.92749786376953
         },
         {
          "Actual Vs Estimated": "BG/NBD",
          "Week": 42,
          "Weekly Sales": 51.21785354614258
         },
         {
          "Actual Vs Estimated": "BG/NBD",
          "Week": 43,
          "Weekly Sales": 50.5326042175293
         },
         {
          "Actual Vs Estimated": "BG/NBD",
          "Week": 44,
          "Weekly Sales": 49.87039566040039
         },
         {
          "Actual Vs Estimated": "BG/NBD",
          "Week": 45,
          "Weekly Sales": 49.22996520996094
         },
         {
          "Actual Vs Estimated": "BG/NBD",
          "Week": 46,
          "Weekly Sales": 48.61015701293945
         },
         {
          "Actual Vs Estimated": "BG/NBD",
          "Week": 47,
          "Weekly Sales": 48.0098991394043
         },
         {
          "Actual Vs Estimated": "BG/NBD",
          "Week": 48,
          "Weekly Sales": 47.428184509277344
         },
         {
          "Actual Vs Estimated": "BG/NBD",
          "Week": 49,
          "Weekly Sales": 46.86408996582031
         },
         {
          "Actual Vs Estimated": "BG/NBD",
          "Week": 50,
          "Weekly Sales": 46.31675338745117
         },
         {
          "Actual Vs Estimated": "BG/NBD",
          "Week": 51,
          "Weekly Sales": 45.78536605834961
         },
         {
          "Actual Vs Estimated": "BG/NBD",
          "Week": 52,
          "Weekly Sales": 45.26918029785156
         },
         {
          "Actual Vs Estimated": "BG/NBD",
          "Week": 53,
          "Weekly Sales": 44.76749038696289
         },
         {
          "Actual Vs Estimated": "BG/NBD",
          "Week": 54,
          "Weekly Sales": 44.27963638305664
         },
         {
          "Actual Vs Estimated": "BG/NBD",
          "Week": 55,
          "Weekly Sales": 43.80500793457031
         },
         {
          "Actual Vs Estimated": "BG/NBD",
          "Week": 56,
          "Weekly Sales": 43.343021392822266
         },
         {
          "Actual Vs Estimated": "BG/NBD",
          "Week": 57,
          "Weekly Sales": 42.89313507080078
         },
         {
          "Actual Vs Estimated": "BG/NBD",
          "Week": 58,
          "Weekly Sales": 42.454833984375
         },
         {
          "Actual Vs Estimated": "BG/NBD",
          "Week": 59,
          "Weekly Sales": 42.02763748168945
         },
         {
          "Actual Vs Estimated": "BG/NBD",
          "Week": 60,
          "Weekly Sales": 41.6110954284668
         },
         {
          "Actual Vs Estimated": "BG/NBD",
          "Week": 61,
          "Weekly Sales": 41.20477294921875
         },
         {
          "Actual Vs Estimated": "BG/NBD",
          "Week": 62,
          "Weekly Sales": 40.80827331542969
         },
         {
          "Actual Vs Estimated": "BG/NBD",
          "Week": 63,
          "Weekly Sales": 40.421207427978516
         },
         {
          "Actual Vs Estimated": "BG/NBD",
          "Week": 64,
          "Weekly Sales": 40.043212890625
         },
         {
          "Actual Vs Estimated": "BG/NBD",
          "Week": 65,
          "Weekly Sales": 39.673954010009766
         },
         {
          "Actual Vs Estimated": "BG/NBD",
          "Week": 66,
          "Weekly Sales": 39.3130989074707
         },
         {
          "Actual Vs Estimated": "BG/NBD",
          "Week": 67,
          "Weekly Sales": 38.9603385925293
         },
         {
          "Actual Vs Estimated": "BG/NBD",
          "Week": 68,
          "Weekly Sales": 38.615386962890625
         },
         {
          "Actual Vs Estimated": "BG/NBD",
          "Week": 69,
          "Weekly Sales": 38.277957916259766
         },
         {
          "Actual Vs Estimated": "BG/NBD",
          "Week": 70,
          "Weekly Sales": 37.94779586791992
         },
         {
          "Actual Vs Estimated": "BG/NBD",
          "Week": 71,
          "Weekly Sales": 37.62464141845703
         },
         {
          "Actual Vs Estimated": "BG/NBD",
          "Week": 72,
          "Weekly Sales": 37.308258056640625
         },
         {
          "Actual Vs Estimated": "BG/NBD",
          "Week": 73,
          "Weekly Sales": 36.998416900634766
         },
         {
          "Actual Vs Estimated": "BG/NBD",
          "Week": 74,
          "Weekly Sales": 36.69490051269531
         },
         {
          "Actual Vs Estimated": "BG/NBD",
          "Week": 75,
          "Weekly Sales": 36.397499084472656
         },
         {
          "Actual Vs Estimated": "BG/NBD",
          "Week": 76,
          "Weekly Sales": 36.10601806640625
         },
         {
          "Actual Vs Estimated": "BG/NBD",
          "Week": 77,
          "Weekly Sales": 35.82026672363281
         },
         {
          "Actual Vs Estimated": "BG/NBD",
          "Week": 78,
          "Weekly Sales": 35.54006576538086
         }
        ]
       },
       "encoding": {
        "strokeDash": {
         "field": "Actual Vs Estimated",
         "type": "nominal"
        },
        "x": {
         "field": "Week",
         "title": "Week",
         "type": "quantitative"
        },
        "y": {
         "field": "Weekly Sales",
         "title": "Weekly Rpt Transactions",
         "type": "quantitative"
        }
       },
       "height": 250,
       "mark": {
        "type": "line"
       },
       "title": "Tracking Weekly Repeat Transactions",
       "width": 650
      },
      "text/plain": [
       "<VegaLite 5 object>\n",
       "\n",
       "If you see this message, it means the renderer has not been properly enabled\n",
       "for the frontend that you are using. For more information, see\n",
       "https://altair-viz.github.io/user_guide/display_frontends.html#troubleshooting\n"
      ]
     },
     "execution_count": 9,
     "metadata": {},
     "output_type": "execute_result"
    }
   ],
   "source": [
    "weekly_sales_plot_data = (\n",
    "    actual_repeat_sales\n",
    "    .rename({'Weekly Sales': 'Actual'})\n",
    "    .join(other=paretonbd_repeat_sales, on='Week', how='left', suffix=' - Pareto/NBD')\n",
    "    .rename({'Weekly Sales': 'Pareto/NBD'})\n",
    "    .join(other=bgnbd_repeat_sales, on='Week', how='left', suffix=' - BG/NBD')\n",
    "    .rename({'Weekly Sales': 'BG/NBD'})\n",
    "    .unpivot(on=['Actual', 'Pareto/NBD', 'BG/NBD'], index='Week', value_name='Weekly Sales', variable_name='Actual Vs Estimated')\n",
    ")\n",
    "\n",
    "(\n",
    "    alt.Chart(weekly_sales_plot_data).mark_line()\n",
    "    .encode(x=alt.X('Week', title='Week'), \n",
    "            y=alt.Y('Weekly Sales', title='Weekly Rpt Transactions'), \n",
    "            strokeDash='Actual Vs Estimated:N')\n",
    "    .properties(\n",
    "            width=650,\n",
    "            height=250,\n",
    "            title='Tracking Weekly Repeat Transactions'\n",
    "        ).configure_view(stroke=None).configure_axisY(grid=False).configure_axisX(grid=False)         \n",
    ")"
   ]
  },
  {
   "cell_type": "code",
   "execution_count": 10,
   "metadata": {},
   "outputs": [],
   "source": [
    "# Compute P(active|p1x,tx,T)\n",
    "rfm_data_array = rfm_data.select('P1X', 'P2X', 't_x', 'T').collect().to_numpy()\n",
    "\n",
    "p1x = rfm_data_array[:,0].astype(np.int16)\n",
    "p2x = rfm_data_array[:,1].astype(np.int16)\n",
    "t_x = rfm_data_array[:,2]\n",
    "T = rfm_data_array[:,3]\n",
    "\n",
    "maxab = np.max((alpha, beta))\n",
    "absab = np.abs(alpha - beta)\n",
    "param2 = s + 1\n",
    "if alpha < beta:\n",
    "    param2 = r + p1x\n",
    "\n",
    "F0 = (alpha + T)**(r + p1x) * (beta + T)**s\n",
    "\n",
    "if absab == 0:\n",
    "    F1 = 1/((maxab+t_x)**(r+s+p1x))\n",
    "    F2 = 1/((maxab+T)**(r+s+p1x))\n",
    "else:\n",
    "    F1 = hyp2f1(r+s+p1x, param2, r+s+p1x+1, absab/(maxab+t_x)) / ((maxab+t_x)**(r+s+p1x))\n",
    "    F2 = hyp2f1(r+s+p1x, param2, r+s+p1x+1, absab/(maxab+T)) / ((maxab+T)**(r+s+p1x))       \n",
    "\n",
    "pactive = 1 / (1 + (s / (r+s+p1x)) * F0 * (F1-F2))\n",
    "\n",
    "# compute average P(active|p1x,tx,T) and determine the proportion of customers buying in the second 39 weeks for each level of p1x\n",
    "# Compute unique levels of p1x\n",
    "unique_p1x = np.arange(p1x.max() + 1)\n",
    "\n",
    "# Compute counts per unique p1x\n",
    "np1x = np.bincount(p1x)\n",
    "\n",
    "# Compute actual proportions of active customers\n",
    "pa_actual = np.divide(np.bincount(p1x, weights=(p2x > 0).astype(float)), np1x, where=np1x!=0)\n",
    "\n",
    "# Compute estimated proportions of active customers\n",
    "pa_est = np.divide(np.bincount(p1x, weights=pactive), np1x, where=np1x!=0)"
   ]
  },
  {
   "cell_type": "code",
   "execution_count": 11,
   "metadata": {},
   "outputs": [
    {
     "data": {
      "application/vnd.vegalite.v5+json": {
       "$schema": "https://vega.github.io/schema/vega-lite/v5.20.1.json",
       "config": {
        "axisX": {
         "grid": false
        },
        "axisY": {
         "grid": false
        },
        "view": {
         "continuousHeight": 300,
         "continuousWidth": 300,
         "stroke": null
        }
       },
       "data": {
        "name": "data-eb57d989c33231caf82389d6275f467c"
       },
       "datasets": {
        "data-eb57d989c33231caf82389d6275f467c": [
         {
          "Actual Vs Estimated": "Empirical",
          "P(active)": 0.13678242381289865,
          "P1X": "0"
         },
         {
          "Actual Vs Estimated": "Empirical",
          "P(active)": 0.357630979498861,
          "P1X": "1"
         },
         {
          "Actual Vs Estimated": "Empirical",
          "P(active)": 0.5841121495327103,
          "P1X": "2"
         },
         {
          "Actual Vs Estimated": "Empirical",
          "P(active)": 0.59,
          "P1X": "3"
         },
         {
          "Actual Vs Estimated": "Empirical",
          "P(active)": 0.7903225806451613,
          "P1X": "4"
         },
         {
          "Actual Vs Estimated": "Empirical",
          "P(active)": 0.6842105263157895,
          "P1X": "5"
         },
         {
          "Actual Vs Estimated": "Empirical",
          "P(active)": 0.6551724137931034,
          "P1X": "6"
         },
         {
          "Actual Vs Estimated": "Empirical",
          "P(active)": 0.875,
          "P1X": "7+"
         },
         {
          "Actual Vs Estimated": "Pareto/NBD",
          "P(active)": 0.337666457447711,
          "P1X": "0"
         },
         {
          "Actual Vs Estimated": "Pareto/NBD",
          "P(active)": 0.5205846642247555,
          "P1X": "1"
         },
         {
          "Actual Vs Estimated": "Pareto/NBD",
          "P(active)": 0.6337552253073857,
          "P1X": "2"
         },
         {
          "Actual Vs Estimated": "Pareto/NBD",
          "P(active)": 0.6516202268595626,
          "P1X": "3"
         },
         {
          "Actual Vs Estimated": "Pareto/NBD",
          "P(active)": 0.7205776314340339,
          "P1X": "4"
         },
         {
          "Actual Vs Estimated": "Pareto/NBD",
          "P(active)": 0.7095386533918143,
          "P1X": "5"
         },
         {
          "Actual Vs Estimated": "Pareto/NBD",
          "P(active)": 0.7975914116904598,
          "P1X": "6"
         },
         {
          "Actual Vs Estimated": "Pareto/NBD",
          "P(active)": 0.802074964840765,
          "P1X": "7+"
         }
        ]
       },
       "encoding": {
        "strokeDash": {
         "field": "Actual Vs Estimated",
         "type": "nominal"
        },
        "x": {
         "axis": {
          "labelAngle": 0
         },
         "field": "P1X",
         "title": "# Transactions in Weeks 1−39",
         "type": "ordinal"
        },
        "y": {
         "field": "P(active)",
         "title": "P(Active)",
         "type": "quantitative"
        }
       },
       "height": 400,
       "mark": {
        "type": "line"
       },
       "title": "Predicted vs. Actual Proportions of Active Customers",
       "width": 550
      },
      "text/plain": [
       "<VegaLite 5 object>\n",
       "\n",
       "If you see this message, it means the renderer has not been properly enabled\n",
       "for the frontend that you are using. For more information, see\n",
       "https://altair-viz.github.io/user_guide/display_frontends.html#troubleshooting\n"
      ]
     },
     "execution_count": 11,
     "metadata": {},
     "output_type": "execute_result"
    }
   ],
   "source": [
    "# create right-censored version for plot\n",
    "censor = 7  # Right-censor at 7+\n",
    "denom = np.sum(np1x[censor:]) # Compute denominator\n",
    "\n",
    "# Compute censored actual proportions\n",
    "pa_act_cen = np.zeros(censor + 1)\n",
    "pa_act_cen[:censor] = pa_actual[:censor]\n",
    "pa_act_cen[censor] = np.dot(np1x[censor:], pa_actual[censor:]) / denom\n",
    "\n",
    "# Compute censored estimated proportions\n",
    "pa_est_cen = np.zeros(censor + 1)\n",
    "pa_est_cen[:censor] = pa_est[:censor]\n",
    "pa_est_cen[censor] = np.dot(np1x[censor:], pa_est[censor:]) / denom\n",
    "\n",
    "prop_active_customers = pl.DataFrame({'P1X': [str(i) if i < 7 else '7+' for i in range(8)], 'Empirical': pa_act_cen, 'Pareto/NBD': pa_est_cen})\n",
    "prop_active_customers = prop_active_customers.unpivot(on=['Empirical', 'Pareto/NBD'], index='P1X', variable_name='Actual Vs Estimated', value_name='P(active)')\n",
    "\n",
    "(\n",
    "    alt.Chart(prop_active_customers).mark_line()\n",
    "    .encode(x=alt.X('P1X:O', title='# Transactions in Weeks 1−39', axis=alt.Axis(labelAngle=0)), \n",
    "            y=alt.Y('P(active):Q', title='P(Active)'), \n",
    "            strokeDash='Actual Vs Estimated:N')\n",
    "    .properties(\n",
    "            width=550,\n",
    "            height=400,\n",
    "            title='Predicted vs. Actual Proportions of Active Customers'\n",
    "        ).configure_view(stroke=None).configure_axisY(grid=False).configure_axisX(grid=False)         \n",
    ")"
   ]
  },
  {
   "cell_type": "code",
   "execution_count": 17,
   "metadata": {},
   "outputs": [
    {
     "name": "stderr",
     "output_type": "stream",
     "text": [
      "/var/folders/0s/z9xp988n3j78zfjwg3y616x00000gn/T/ipykernel_9755/1538701586.py:11: RuntimeWarning: invalid value encountered in log\n",
      "  np.log(a) - np.log(b + p1x - 1) - (r + p1x) * np.log(alpha + t_x),\n",
      "/var/folders/0s/z9xp988n3j78zfjwg3y616x00000gn/T/ipykernel_9755/1538701586.py:7: RuntimeWarning: divide by zero encountered in log\n",
      "  ln_A_1 = gammaln(p1x + r) - gammaln(r) + r * np.log(alpha)\n",
      "/var/folders/0s/z9xp988n3j78zfjwg3y616x00000gn/T/ipykernel_9755/1538701586.py:11: RuntimeWarning: divide by zero encountered in log\n",
      "  np.log(a) - np.log(b + p1x - 1) - (r + p1x) * np.log(alpha + t_x),\n",
      "/var/folders/0s/z9xp988n3j78zfjwg3y616x00000gn/T/ipykernel_9755/1538701586.py:8: RuntimeWarning: invalid value encountered in subtract\n",
      "  ln_A_2 = gammaln(a + b) + gammaln(b + p1x) - gammaln(b) - gammaln(a + b + p1x)\n",
      "/var/folders/0s/z9xp988n3j78zfjwg3y616x00000gn/T/ipykernel_9755/1538701586.py:13: RuntimeWarning: invalid value encountered in add\n",
      "  return -np.sum(ln_A_1 + ln_A_2 + np.log(np.exp(ln_A_3) + (p1x > 0) * np.exp(ln_A_4)))\n"
     ]
    },
    {
     "data": {
      "text/markdown": [
       "$r$ = 0.2426\n",
       "\n",
       "$\\alpha$ = 1.1034\n",
       "\n",
       "$a$ = 0.7929\n",
       "\n",
       "$b$ = 2.4259\n",
       "\n",
       "Log-Likelihood = -6176.3040"
      ]
     },
     "metadata": {},
     "output_type": "display_data"
    }
   ],
   "source": [
    "def bgnbd_est(rfm_data, guess={'r': 0.01, 'alpha': 0.01, 'a': 0.01, 'b':0.01}):\n",
    "    \n",
    "    def log_likelihood(x):\n",
    "        r, alpha, a, b = x\n",
    "        p1x, t_x, T  = rfm_data[:,0], rfm_data[:,1]/4, rfm_data[:,2]/4 # change the unit of time in the above example from week to quad-week\n",
    "\n",
    "        ln_A_1 = gammaln(p1x + r) - gammaln(r) + r * np.log(alpha)\n",
    "        ln_A_2 = gammaln(a + b) + gammaln(b + p1x) - gammaln(b) - gammaln(a + b + p1x)\n",
    "        ln_A_3 = -(r + p1x) * np.log(alpha + T)\n",
    "        ln_A_4 = np.where(p1x > 0, \n",
    "                          np.log(a) - np.log(b + p1x - 1) - (r + p1x) * np.log(alpha + t_x),\n",
    "                          0)\n",
    "        return -np.sum(ln_A_1 + ln_A_2 + np.log(np.exp(ln_A_3) + (p1x > 0) * np.exp(ln_A_4)))\n",
    "    \n",
    "    bnds = [(0, np.inf) for _ in range(4)]\n",
    "    return minimize(log_likelihood, x0=list(guess.values()), bounds=bnds, method='Nelder-Mead', options={'maxiter':10000})\n",
    "\n",
    "result = bgnbd_est(rfm_data.select('P1X', 't_x', 'T').collect().to_numpy())\n",
    "r, alpha, a, b = result.x\n",
    "ll = result.fun\n",
    "\n",
    "display_markdown(f'''$r$ = {r:0.4f}\n",
    "\n",
    "$\\\\alpha$ = {alpha:0.4f}\n",
    "\n",
    "$a$ = {a:0.4f}\n",
    "\n",
    "$b$ = {b:0.4f}\n",
    "\n",
    "Log-Likelihood = {-ll:0.4f}''', raw=True)"
   ]
  },
  {
   "cell_type": "code",
   "execution_count": 25,
   "metadata": {},
   "outputs": [
    {
     "name": "stderr",
     "output_type": "stream",
     "text": [
      "/var/folders/0s/z9xp988n3j78zfjwg3y616x00000gn/T/ipykernel_9755/1133703615.py:8: RuntimeWarning: divide by zero encountered in log\n",
      "  D_2 = r * np.log(alpha) - (r + p1x) * np.log(alpha + t_x)\n",
      "/var/folders/0s/z9xp988n3j78zfjwg3y616x00000gn/T/ipykernel_9755/1133703615.py:8: RuntimeWarning: invalid value encountered in subtract\n",
      "  D_2 = r * np.log(alpha) - (r + p1x) * np.log(alpha + t_x)\n",
      "/var/folders/0s/z9xp988n3j78zfjwg3y616x00000gn/T/ipykernel_9755/1133703615.py:12: RuntimeWarning: divide by zero encountered in log\n",
      "  return -np.sum(D_1 + D_2 + np.where(p1x > 0, np.log(C_3 + C_4), C_3))\n",
      "/var/folders/0s/z9xp988n3j78zfjwg3y616x00000gn/T/ipykernel_9755/1133703615.py:7: RuntimeWarning: invalid value encountered in subtract\n",
      "  D_1 = gammaln(r + p1x) - gammaln(r) + gammaln(a + b) + gammaln(b + p1x) - gammaln(b) - gammaln(a + b + p1x)\n",
      "/var/folders/0s/z9xp988n3j78zfjwg3y616x00000gn/T/ipykernel_9755/1133703615.py:10: RuntimeWarning: divide by zero encountered in divide\n",
      "  C_4 = a / (b + p1x - 1)\n",
      "/var/folders/0s/z9xp988n3j78zfjwg3y616x00000gn/T/ipykernel_9755/1133703615.py:12: RuntimeWarning: invalid value encountered in add\n",
      "  return -np.sum(D_1 + D_2 + np.where(p1x > 0, np.log(C_3 + C_4), C_3))\n",
      "/var/folders/0s/z9xp988n3j78zfjwg3y616x00000gn/T/ipykernel_9755/1133703615.py:10: RuntimeWarning: invalid value encountered in divide\n",
      "  C_4 = a / (b + p1x - 1)\n",
      "/var/folders/0s/z9xp988n3j78zfjwg3y616x00000gn/T/ipykernel_9755/1133703615.py:12: RuntimeWarning: invalid value encountered in log\n",
      "  return -np.sum(D_1 + D_2 + np.where(p1x > 0, np.log(C_3 + C_4), C_3))\n"
     ]
    },
    {
     "data": {
      "text/markdown": [
       "$r$ = 0.6070\n",
       "\n",
       "$\\alpha$ = 6.6628\n",
       "\n",
       "$a$ = 0.7206\n",
       "\n",
       "$b$ = 1.8625\n",
       "\n",
       "Log-Likelihood = -7907.7903"
      ]
     },
     "metadata": {},
     "output_type": "display_data"
    }
   ],
   "source": [
    "def bgnbd_est(rfm_data, guess={'r': 0.01, 'alpha': 0.01, 'a': 0.01, 'b':0.01}):\n",
    "    \n",
    "    def log_likelihood(x):\n",
    "        r, alpha, a, b = x\n",
    "        p1x, t_x, T  = rfm_data[:,0], rfm_data[:,1], rfm_data[:,2]\n",
    "\n",
    "        D_1 = gammaln(r + p1x) - gammaln(r) + gammaln(a + b) + gammaln(b + p1x) - gammaln(b) - gammaln(a + b + p1x)\n",
    "        D_2 = r * np.log(alpha) - (r + p1x) * np.log(alpha + t_x)\n",
    "        C_3 = ((alpha + t_x) / (alpha + T))**(r + p1x)\n",
    "        C_4 = a / (b + p1x - 1)\n",
    "        \n",
    "        return -np.sum(D_1 + D_2 + np.where(p1x > 0, np.log(C_3 + C_4), C_3))\n",
    "    \n",
    "    bnds = [(0, np.inf) for _ in range(4)]\n",
    "    return minimize(log_likelihood, x0=list(guess.values()), bounds=bnds, method='Nelder-Mead', options={'maxiter':10000})\n",
    "\n",
    "result = bgnbd_est(rfm_data.select('P1X', 't_x', 'T').collect().to_numpy())\n",
    "r, alpha, a, b = result.x\n",
    "ll = result.fun\n",
    "\n",
    "display_markdown(f'''$r$ = {r:0.4f}\n",
    "\n",
    "$\\\\alpha$ = {alpha:0.4f}\n",
    "\n",
    "$a$ = {a:0.4f}\n",
    "\n",
    "$b$ = {b:0.4f}\n",
    "\n",
    "Log-Likelihood = {-ll:0.4f}''', raw=True)"
   ]
  },
  {
   "cell_type": "code",
   "execution_count": 23,
   "metadata": {},
   "outputs": [
    {
     "name": "stderr",
     "output_type": "stream",
     "text": [
      "/var/folders/0s/z9xp988n3j78zfjwg3y616x00000gn/T/ipykernel_9755/1413133053.py:15: RuntimeWarning: divide by zero encountered in log\n",
      "  ll = -np.sum(ln_A_1 + ln_A_2 + np.log(np.exp(ln_A_3) + (p1x > 0) * np.exp(ln_A_4)))\n"
     ]
    },
    {
     "data": {
      "text/plain": [
       "np.float64(inf)"
      ]
     },
     "execution_count": 23,
     "metadata": {},
     "output_type": "execute_result"
    }
   ],
   "source": [
    "# Sample Parameters\n",
    "r = 0.24259395230803\n",
    "alpha = 4.41359091416604\n",
    "a = 0.792919955839573\n",
    "b = 2.42589404751842\n",
    "\n",
    "p1x, t_x, T  = 200, 38, 40\n",
    "\n",
    "ln_A_1 = gammaln(p1x + r) - gammaln(r) + r * np.log(alpha)\n",
    "ln_A_2 = gammaln(a + b) + gammaln(b + p1x) - gammaln(b) - gammaln(a + b + p1x)\n",
    "ln_A_3 = -(r + p1x) * np.log(alpha + T)\n",
    "ln_A_4 = np.where(p1x > 0, \n",
    "                    np.log(a) - np.log(b + p1x - 1) - (r + p1x) * np.log(alpha + t_x),\n",
    "                    0)\n",
    "ll = -np.sum(ln_A_1 + ln_A_2 + np.log(np.exp(ln_A_3) + (p1x > 0) * np.exp(ln_A_4)))\n",
    "    \n",
    "ll"
   ]
  }
 ],
 "metadata": {
  "kernelspec": {
   "display_name": "Main (venv)",
   "language": "python",
   "name": ".venv"
  },
  "language_info": {
   "codemirror_mode": {
    "name": "ipython",
    "version": 3
   },
   "file_extension": ".py",
   "mimetype": "text/x-python",
   "name": "python",
   "nbconvert_exporter": "python",
   "pygments_lexer": "ipython3",
   "version": "3.13.1"
  }
 },
 "nbformat": 4,
 "nbformat_minor": 2
}
