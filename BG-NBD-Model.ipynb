{
 "cells": [
  {
   "cell_type": "markdown",
   "metadata": {},
   "source": [
    "Beta-geometric/Negative Binomial Distribution Model (BG/NBD) - Forecasting Individual-Level Repeat-Buying"
   ]
  },
  {
   "cell_type": "code",
   "execution_count": 1,
   "metadata": {},
   "outputs": [],
   "source": [
    "import polars as pl\n",
    "import numpy as np\n",
    "import altair as alt\n",
    "from scipy.optimize import minimize"
   ]
  },
  {
   "cell_type": "code",
   "execution_count": 2,
   "metadata": {},
   "outputs": [
    {
     "data": {
      "text/html": [
       "<div><style>\n",
       ".dataframe > thead > tr,\n",
       ".dataframe > tbody > tr {\n",
       "  text-align: right;\n",
       "  white-space: pre-wrap;\n",
       "}\n",
       "</style>\n",
       "<small>shape: (5, 6)</small><table border=\"1\" class=\"dataframe\"><thead><tr><th>CustID</th><th>Date</th><th>Quant</th><th>Spend</th><th>PurchDay</th><th>DoR</th></tr><tr><td>str</td><td>date</td><td>i64</td><td>f32</td><td>i64</td><td>u16</td></tr></thead><tbody><tr><td>&quot;00001&quot;</td><td>1997-01-01</td><td>1</td><td>11.77</td><td>1</td><td>0</td></tr><tr><td>&quot;00002&quot;</td><td>1997-01-12</td><td>6</td><td>89.0</td><td>12</td><td>0</td></tr><tr><td>&quot;00003&quot;</td><td>1997-01-02</td><td>2</td><td>20.76</td><td>2</td><td>0</td></tr><tr><td>&quot;00003&quot;</td><td>1997-03-30</td><td>2</td><td>20.76</td><td>89</td><td>1</td></tr><tr><td>&quot;00003&quot;</td><td>1997-04-02</td><td>2</td><td>19.540001</td><td>92</td><td>2</td></tr></tbody></table></div>"
      ],
      "text/plain": [
       "shape: (5, 6)\n",
       "┌────────┬────────────┬───────┬───────────┬──────────┬─────┐\n",
       "│ CustID ┆ Date       ┆ Quant ┆ Spend     ┆ PurchDay ┆ DoR │\n",
       "│ ---    ┆ ---        ┆ ---   ┆ ---       ┆ ---      ┆ --- │\n",
       "│ str    ┆ date       ┆ i64   ┆ f32       ┆ i64      ┆ u16 │\n",
       "╞════════╪════════════╪═══════╪═══════════╪══════════╪═════╡\n",
       "│ 00001  ┆ 1997-01-01 ┆ 1     ┆ 11.77     ┆ 1        ┆ 0   │\n",
       "│ 00002  ┆ 1997-01-12 ┆ 6     ┆ 89.0      ┆ 12       ┆ 0   │\n",
       "│ 00003  ┆ 1997-01-02 ┆ 2     ┆ 20.76     ┆ 2        ┆ 0   │\n",
       "│ 00003  ┆ 1997-03-30 ┆ 2     ┆ 20.76     ┆ 89       ┆ 1   │\n",
       "│ 00003  ┆ 1997-04-02 ┆ 2     ┆ 19.540001 ┆ 92       ┆ 2   │\n",
       "└────────┴────────────┴───────┴───────────┴──────────┴─────┘"
      ]
     },
     "metadata": {},
     "output_type": "display_data"
    },
    {
     "data": {
      "text/html": [
       "<div><style>\n",
       ".dataframe > thead > tr,\n",
       ".dataframe > tbody > tr {\n",
       "  text-align: right;\n",
       "  white-space: pre-wrap;\n",
       "}\n",
       "</style>\n",
       "<small>shape: (9, 7)</small><table border=\"1\" class=\"dataframe\"><thead><tr><th>statistic</th><th>CustID</th><th>Date</th><th>Quant</th><th>Spend</th><th>PurchDay</th><th>DoR</th></tr><tr><td>str</td><td>str</td><td>str</td><td>f64</td><td>f64</td><td>f64</td><td>f64</td></tr></thead><tbody><tr><td>&quot;count&quot;</td><td>&quot;67591&quot;</td><td>&quot;67591&quot;</td><td>67591.0</td><td>67591.0</td><td>67591.0</td><td>67591.0</td></tr><tr><td>&quot;null_count&quot;</td><td>&quot;0&quot;</td><td>&quot;0&quot;</td><td>0.0</td><td>0.0</td><td>0.0</td><td>0.0</td></tr><tr><td>&quot;mean&quot;</td><td>null</td><td>&quot;1997-07-01 11:44:58.175000&quot;</td><td>2.483777</td><td>36.991844</td><td>182.489562</td><td>3.976387</td></tr><tr><td>&quot;std&quot;</td><td>null</td><td>null</td><td>2.446038</td><td>38.143509</td><td>159.229817</td><td>9.45283</td></tr><tr><td>&quot;min&quot;</td><td>&quot;00001&quot;</td><td>&quot;1997-01-01&quot;</td><td>1.0</td><td>0.0</td><td>1.0</td><td>0.0</td></tr><tr><td>&quot;25%&quot;</td><td>null</td><td>&quot;1997-02-22&quot;</td><td>1.0</td><td>14.79</td><td>53.0</td><td>0.0</td></tr><tr><td>&quot;50%&quot;</td><td>null</td><td>&quot;1997-04-21&quot;</td><td>2.0</td><td>26.73</td><td>111.0</td><td>1.0</td></tr><tr><td>&quot;75%&quot;</td><td>null</td><td>&quot;1997-11-06&quot;</td><td>3.0</td><td>44.700001</td><td>310.0</td><td>4.0</td></tr><tr><td>&quot;max&quot;</td><td>&quot;23570&quot;</td><td>&quot;1998-06-30&quot;</td><td>99.0</td><td>1554.580078</td><td>546.0</td><td>170.0</td></tr></tbody></table></div>"
      ],
      "text/plain": [
       "shape: (9, 7)\n",
       "┌────────────┬────────┬─────────────────┬──────────┬─────────────┬────────────┬──────────┐\n",
       "│ statistic  ┆ CustID ┆ Date            ┆ Quant    ┆ Spend       ┆ PurchDay   ┆ DoR      │\n",
       "│ ---        ┆ ---    ┆ ---             ┆ ---      ┆ ---         ┆ ---        ┆ ---      │\n",
       "│ str        ┆ str    ┆ str             ┆ f64      ┆ f64         ┆ f64        ┆ f64      │\n",
       "╞════════════╪════════╪═════════════════╪══════════╪═════════════╪════════════╪══════════╡\n",
       "│ count      ┆ 67591  ┆ 67591           ┆ 67591.0  ┆ 67591.0     ┆ 67591.0    ┆ 67591.0  │\n",
       "│ null_count ┆ 0      ┆ 0               ┆ 0.0      ┆ 0.0         ┆ 0.0        ┆ 0.0      │\n",
       "│ mean       ┆ null   ┆ 1997-07-01      ┆ 2.483777 ┆ 36.991844   ┆ 182.489562 ┆ 3.976387 │\n",
       "│            ┆        ┆ 11:44:58.175000 ┆          ┆             ┆            ┆          │\n",
       "│ std        ┆ null   ┆ null            ┆ 2.446038 ┆ 38.143509   ┆ 159.229817 ┆ 9.45283  │\n",
       "│ min        ┆ 00001  ┆ 1997-01-01      ┆ 1.0      ┆ 0.0         ┆ 1.0        ┆ 0.0      │\n",
       "│ 25%        ┆ null   ┆ 1997-02-22      ┆ 1.0      ┆ 14.79       ┆ 53.0       ┆ 0.0      │\n",
       "│ 50%        ┆ null   ┆ 1997-04-21      ┆ 2.0      ┆ 26.73       ┆ 111.0      ┆ 1.0      │\n",
       "│ 75%        ┆ null   ┆ 1997-11-06      ┆ 3.0      ┆ 44.700001   ┆ 310.0      ┆ 4.0      │\n",
       "│ max        ┆ 23570  ┆ 1998-06-30      ┆ 99.0     ┆ 1554.580078 ┆ 546.0      ┆ 170.0    │\n",
       "└────────────┴────────┴─────────────────┴──────────┴─────────────┴────────────┴──────────┘"
      ]
     },
     "metadata": {},
     "output_type": "display_data"
    }
   ],
   "source": [
    "CDNOW_master = (\n",
    "    pl.scan_csv(source = 'data/CDNOW/CDNOW_master.csv', \n",
    "                has_header=False, \n",
    "                separator=',', \n",
    "                schema={'CustID': pl.String,\n",
    "                        'Date': pl.String,\n",
    "                        'Quant': pl.Int16,\n",
    "                        'Spend': pl.Float32})\n",
    "    .with_columns(pl.col('Date').str.to_date('%Y%m%d'))\n",
    "    .with_columns((pl.col('Date') - pl.date(1996,12,31)).dt.total_days().alias('PurchDay'))\n",
    "    .group_by('CustID', 'Date')\n",
    "    .agg(pl.col('*').exclude('PurchDay').sum(), pl.col('PurchDay').max()) # Multiple transactions by a customer on any day are aggregated into one\n",
    "    .sort('CustID', 'Date')\n",
    "    .with_columns((pl.col(\"CustID\").cum_count().over(\"CustID\") - 1).cast(pl.UInt16).alias(\"DoR\"))    \n",
    ")\n",
    "\n",
    "display(CDNOW_master.head().collect())\n",
    "display(CDNOW_master.describe())"
   ]
  },
  {
   "cell_type": "code",
   "execution_count": 3,
   "metadata": {},
   "outputs": [],
   "source": [
    "TransMAT = (\n",
    "    CDNOW_master\n",
    "    .collect()\n",
    "    .pivot(on='DoR', index='CustID', values='PurchDay', aggregate_function='max', maintain_order=True)\n",
    "    .fill_null(0)\n",
    ")\n",
    "\n",
    "QuantMAT = (\n",
    "    CDNOW_master\n",
    "    .collect()\n",
    "    .pivot(on='DoR', index='CustID', values='Quant', aggregate_function='sum', maintain_order=True)\n",
    "    .fill_null(0)\n",
    ")\n",
    "\n",
    "SpendtMAT = (\n",
    "    CDNOW_master\n",
    "    .collect()\n",
    "    .pivot(on='DoR', index='CustID', values='Spend', aggregate_function='sum', maintain_order=True)\n",
    "    .fill_null(0)\n",
    ")"
   ]
  }
 ],
 "metadata": {
  "kernelspec": {
   "display_name": "Main (venv)",
   "language": "python",
   "name": ".venv"
  },
  "language_info": {
   "codemirror_mode": {
    "name": "ipython",
    "version": 3
   },
   "file_extension": ".py",
   "mimetype": "text/x-python",
   "name": "python",
   "nbconvert_exporter": "python",
   "pygments_lexer": "ipython3",
   "version": "3.13.0"
  }
 },
 "nbformat": 4,
 "nbformat_minor": 2
}
