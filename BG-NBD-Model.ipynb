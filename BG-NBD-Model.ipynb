{
 "cells": [
  {
   "cell_type": "markdown",
   "metadata": {},
   "source": [
    "Beta-geometric/Negative Binomial Distribution Model (BG/NBD) - Forecasting Individual-Level Repeat-Buying"
   ]
  },
  {
   "cell_type": "markdown",
   "metadata": {},
   "source": [
    "Note to user interested in using this model:\n",
    "1) The data being modeled are counts of relatively homogeneous units (e.g., CDs). This model must not be used to model dollar sales or counts of products that are not very similar (e.g., the number of products purchased at Amazon.com where the units include such disparate items as books, electronic equipment, lawn furniture, and so on).\n",
    "2) Use of the shifted-geometric/geometric distributions implies that the *modal trial quantity* is 1 unit and that the *modal* number of units purchased in subsequent weeks, conditional on being a “possible repeat buyer”, is 0. If this is not that case, it will be necessary to change the underlying model structure. For example, the shifted beta-geometric model of trial counts could be replaced by the truncated or shifted NBD (which can have a mode away from 1). Similarly, the beta-geometric repeat purchasing distribution could be replaced by the NBD (which can have a non-zero mode).\n",
    "3) A number of other assumptions made, implicitly or explicitly, in the paper should also be acknowledged and taken into account (e.g., the independence of quantity decisions across transactions)."
   ]
  },
  {
   "cell_type": "code",
   "execution_count": 1,
   "metadata": {},
   "outputs": [],
   "source": [
    "import polars as pl\n",
    "import numpy as np\n",
    "import altair as alt\n",
    "from utils import ChartTemp, layered_line_prop\n",
    "\n",
    "from scipy.optimize import minimize\n",
    "from scipy.stats import chi2\n",
    "\n",
    "from great_tables import GT #, style, loc, md\n",
    "from IPython.display import display_markdown"
   ]
  },
  {
   "cell_type": "code",
   "execution_count": 2,
   "metadata": {},
   "outputs": [
    {
     "data": {
      "text/html": [
       "<div><style>\n",
       ".dataframe > thead > tr,\n",
       ".dataframe > tbody > tr {\n",
       "  text-align: right;\n",
       "  white-space: pre-wrap;\n",
       "}\n",
       "</style>\n",
       "<small>shape: (5, 7)</small><table border=\"1\" class=\"dataframe\"><thead><tr><th>CustID</th><th>Date</th><th>Quant</th><th>Spend</th><th>Spend Scaled</th><th>PurchDay</th><th>DoR</th></tr><tr><td>i32</td><td>date</td><td>i64</td><td>f64</td><td>i64</td><td>u16</td><td>u16</td></tr></thead><tbody><tr><td>1</td><td>1997-01-01</td><td>1</td><td>11.77</td><td>1177</td><td>1</td><td>0</td></tr><tr><td>2</td><td>1997-01-12</td><td>6</td><td>89.0</td><td>8900</td><td>12</td><td>0</td></tr><tr><td>3</td><td>1997-01-02</td><td>2</td><td>20.76</td><td>2076</td><td>2</td><td>0</td></tr><tr><td>3</td><td>1997-03-30</td><td>2</td><td>20.76</td><td>2076</td><td>89</td><td>1</td></tr><tr><td>3</td><td>1997-04-02</td><td>2</td><td>19.54</td><td>1954</td><td>92</td><td>2</td></tr></tbody></table></div>"
      ],
      "text/plain": [
       "shape: (5, 7)\n",
       "┌────────┬────────────┬───────┬───────┬──────────────┬──────────┬─────┐\n",
       "│ CustID ┆ Date       ┆ Quant ┆ Spend ┆ Spend Scaled ┆ PurchDay ┆ DoR │\n",
       "│ ---    ┆ ---        ┆ ---   ┆ ---   ┆ ---          ┆ ---      ┆ --- │\n",
       "│ i32    ┆ date       ┆ i64   ┆ f64   ┆ i64          ┆ u16      ┆ u16 │\n",
       "╞════════╪════════════╪═══════╪═══════╪══════════════╪══════════╪═════╡\n",
       "│ 1      ┆ 1997-01-01 ┆ 1     ┆ 11.77 ┆ 1177         ┆ 1        ┆ 0   │\n",
       "│ 2      ┆ 1997-01-12 ┆ 6     ┆ 89.0  ┆ 8900         ┆ 12       ┆ 0   │\n",
       "│ 3      ┆ 1997-01-02 ┆ 2     ┆ 20.76 ┆ 2076         ┆ 2        ┆ 0   │\n",
       "│ 3      ┆ 1997-03-30 ┆ 2     ┆ 20.76 ┆ 2076         ┆ 89       ┆ 1   │\n",
       "│ 3      ┆ 1997-04-02 ┆ 2     ┆ 19.54 ┆ 1954         ┆ 92       ┆ 2   │\n",
       "└────────┴────────────┴───────┴───────┴──────────────┴──────────┴─────┘"
      ]
     },
     "metadata": {},
     "output_type": "display_data"
    }
   ],
   "source": [
    "CDNOW_master = (\n",
    "    pl.scan_csv(source = 'data/CDNOW/CDNOW_master.csv', \n",
    "                has_header=False, \n",
    "                separator=',', \n",
    "                schema={'CustID': pl.Int32,     # customer id\n",
    "                        'Date': pl.String,      # transaction date\n",
    "                        'Quant': pl.Int16,      # number of CDs purchased\n",
    "                        'Spend': pl.Float64})   # dollar value (excl. S&H)\n",
    "    .with_columns(pl.col('Date').str.to_date(\"%Y%m%d\"))\n",
    "    .with_columns((pl.col('Date') - pl.date(1996,12,31)).dt.total_days().cast(pl.UInt16).alias('PurchDay'))\n",
    "    .with_columns((pl.col('Spend')*100).round(0).cast(pl.Int64).alias('Spend Scaled'))\n",
    "    .group_by('CustID', 'Date')\n",
    "    .agg(pl.col('*').exclude('PurchDay').sum(), pl.col('PurchDay').max()) # Multiple transactions by a customer on a single day are aggregated into one\n",
    "    .sort('CustID', 'Date')\n",
    "    .with_columns((pl.col(\"CustID\").cum_count().over(\"CustID\") - 1).cast(pl.UInt16).alias(\"DoR\"))  # DoR = Depth of Repeat ('Transaction' time: starts with 0 as trial, 1 as 1st repeat and so on)\n",
    ")\n",
    "\n",
    "display(CDNOW_master.head().collect())"
   ]
  },
  {
   "cell_type": "code",
   "execution_count": 3,
   "metadata": {},
   "outputs": [],
   "source": [
    "RptSpend = (\n",
    "    CDNOW_master\n",
    "    .filter(pl.col('PurchDay') <= 273)\n",
    "    .with_columns(pl.when(pl.col('DoR') > 0)\n",
    "                  .then(pl.col('Spend Scaled'))\n",
    "                  .otherwise(0)\n",
    "                  .alias('Repeat Spend (Scaled)'))\n",
    "    .with_columns(pl.col('PurchDay').filter(pl.col('DoR') == 0)\n",
    "                  .first()\n",
    "                  .over('CustID')\n",
    "                  .alias('Trial Day'))\n",
    "    .group_by('CustID')\n",
    "    .agg(pl.col('Repeat Spend (Scaled)').sum(), pl.col('Trial Day').max())\n",
    "    .sort('CustID')\n",
    ")\n",
    "\n",
    "# Sampling technique - Python Method:\n",
    "# id_df = (\n",
    "#     RptSpend.collect()\n",
    "#     .with_columns(((pl.col('Trial Day') - 1) // 7 + 1).alias('Trial Week'))\n",
    "#     .sort(['Trial Week','Repeat Spend (Scaled)', 'CustID'], descending=[False, True, False], maintain_order=True)\n",
    "# )\n",
    "\n",
    "# sampledID = id_df[9::10].select('CustID')"
   ]
  },
  {
   "cell_type": "code",
   "execution_count": 4,
   "metadata": {},
   "outputs": [],
   "source": [
    "# MATLAB Sampling (due to numerical float precision handling differences, original sampling results cannot be replicated unless spend is scaled in MATLAB)\n",
    "CDNOW_sample = (\n",
    "    pl.scan_csv(source='data/CDNOW/CDNOW_sample.csv',\n",
    "                has_header=False,\n",
    "                separator=',',\n",
    "                schema={'CustID': pl.Int32,\n",
    "                        'NewID': pl.Int32,\n",
    "                        'Date': pl.String,\n",
    "                        'Quant': pl.Int16,\n",
    "                        'Spend': pl.Float64})\n",
    "    .with_columns(pl.col('Date').str.to_date(\"%Y%m%d\"))\n",
    "    .with_columns((pl.col('Date') - pl.date(1996,12,31)).dt.total_days().cast(pl.UInt16).alias('PurchDay'))\n",
    "    .with_columns((pl.col('Spend')*100).round(0).cast(pl.Int64).alias('Spend Scaled'))\n",
    "    .group_by('CustID', 'Date')\n",
    "    .agg(pl.col('*').exclude('PurchDay').sum(), pl.col('PurchDay').max())\n",
    "    .sort('CustID', 'Date')\n",
    "    .with_columns((pl.col(\"CustID\").cum_count().over(\"CustID\") - 1).cast(pl.UInt16).alias(\"DoR\"))      \n",
    ")"
   ]
  },
  {
   "cell_type": "markdown",
   "metadata": {},
   "source": [
    "Creating summaries of the 1/10th sample data. We divide the 78 weeks in half: Period 1 is a 39-week calibration period while Period 2 is a 39-week longitudinal holdout used for model validation."
   ]
  },
  {
   "cell_type": "code",
   "execution_count": 5,
   "metadata": {},
   "outputs": [],
   "source": [
    "calwk = 273 # 39 week calibration period\n",
    "\n",
    "# The number of repeat transactions made by each customer in each period\n",
    "px = (\n",
    "    CDNOW_sample\n",
    "    .group_by('CustID', maintain_order=True)\n",
    "    .agg(\n",
    "        pl.col('PurchDay')\n",
    "        .filter((pl.col('PurchDay') <= calwk) & (pl.col('DoR') > 0))\n",
    "        .count()\n",
    "        .alias('P1X'), # Period 1: Calibration Period\n",
    "\n",
    "        pl.col('PurchDay')\n",
    "        .filter((pl.col('PurchDay') > calwk) & (pl.col('DoR') > 0))\n",
    "        .count()\n",
    "        .alias('P2X')  # Period 2: Longitudinal Holdout Period      \n",
    "    )\n",
    ")\n",
    "\n",
    "# The number of CDs purchased and total spend across these repeat transactions\n",
    "pSpendQuant = (\n",
    "    CDNOW_sample\n",
    "    .join(px, on='CustID', how='left')\n",
    "    .group_by('CustID', maintain_order=True)\n",
    "    .agg(\n",
    "        \n",
    "        pl.col('Spend Scaled')\n",
    "        .filter((pl.col('DoR') > 0) & (pl.col('DoR') <= pl.col('P1X')) & (pl.col('P1X') != 0))\n",
    "        .sum()\n",
    "        .alias('P1X Spend'),\n",
    "        \n",
    "        pl.col('Quant')\n",
    "        .filter((pl.col('DoR') > 0) & (pl.col('DoR') <= pl.col('P1X')) & (pl.col('P1X') != 0))\n",
    "        .sum()\n",
    "        .alias('P1X Quant'),        \n",
    "        \n",
    "        pl.col('Spend Scaled')\n",
    "        .filter((pl.col('DoR') > 0) & (pl.col('DoR') > pl.col('P1X')))\n",
    "        .sum()\n",
    "        .alias('P2X Spend'),\n",
    "        \n",
    "        pl.col('Quant')\n",
    "        .filter((pl.col('DoR') > 0) & (pl.col('DoR') > pl.col('P1X')))\n",
    "        .sum()\n",
    "        .alias('P2X Quant')                \n",
    "    )\n",
    ")\n",
    "\n",
    "# The average spend per repeat transaction\n",
    "mx = (\n",
    "    pSpendQuant\n",
    "    .join(px, on='CustID', how='left')\n",
    "    .with_columns(\n",
    "        (pl.col('P1X Spend') / pl.col('P1X')).alias('Avg Spend per Repeat')\n",
    "    ).fill_nan(0)\n",
    ")"
   ]
  },
  {
   "cell_type": "markdown",
   "metadata": {},
   "source": [
    "When fitting models such as the Pareto/NBD and BG/NBD to these data, we also want to know the “recency” information for each customer, as well as their effective calibration period:"
   ]
  },
  {
   "cell_type": "code",
   "execution_count": 6,
   "metadata": {},
   "outputs": [],
   "source": [
    "# time of last calibration period repeat purchase (in weeks)\n",
    "ttlrp = (\n",
    "    CDNOW_sample\n",
    "    .join(px, on='CustID', how='left')\n",
    "    .with_columns(\n",
    "        pl.col('PurchDay').filter(pl.col('DoR') == 0)\n",
    "        .first()\n",
    "        .over('CustID')\n",
    "        .alias('Trial Day')\n",
    "    )\n",
    "    .group_by('CustID', maintain_order=True)\n",
    "    .agg(\n",
    "        pl.col('PurchDay', 'Trial Day')\n",
    "        .filter(pl.col('DoR') <= pl.col('P1X'))\n",
    "        .max()\n",
    "        # .alias('LastPurch')\n",
    "    )\n",
    "    .with_columns(\n",
    "        # effective calibration period (in weeks)\n",
    "        ((pl.col('PurchDay') - pl.col('Trial Day')) / 7).alias('Time to Last Repeat'),\n",
    "        ((calwk - pl.col('Trial Day'))/7).alias('Eff. Calibration Period')\n",
    "    )\n",
    "    .drop('PurchDay', 'Trial Day')\n",
    ")"
   ]
  },
  {
   "cell_type": "markdown",
   "metadata": {},
   "source": [
    "Creating Summaries"
   ]
  },
  {
   "cell_type": "code",
   "execution_count": 7,
   "metadata": {},
   "outputs": [
    {
     "data": {
      "application/vnd.vegalite.v5+json": {
       "$schema": "https://vega.github.io/schema/vega-lite/v5.20.1.json",
       "config": {
        "axisX": {
         "grid": false
        },
        "axisY": {
         "grid": false
        },
        "view": {
         "continuousHeight": 300,
         "continuousWidth": 300,
         "stroke": null
        }
       },
       "data": {
        "name": "data-9fa5feda862c820accab3ab42b383098"
       },
       "datasets": {
        "data-9fa5feda862c820accab3ab42b383098": [
         {
          "Quant": 3627,
          "Week": 1
         },
         {
          "Quant": 3857,
          "Week": 2
         },
         {
          "Quant": 4512,
          "Week": 3
         },
         {
          "Quant": 5054,
          "Week": 4
         },
         {
          "Quant": 5843,
          "Week": 5
         },
         {
          "Quant": 6456,
          "Week": 6
         },
         {
          "Quant": 5906,
          "Week": 7
         },
         {
          "Quant": 6077,
          "Week": 8
         },
         {
          "Quant": 6757,
          "Week": 9
         },
         {
          "Quant": 6848,
          "Week": 10
         },
         {
          "Quant": 6770,
          "Week": 11
         },
         {
          "Quant": 6781,
          "Week": 12
         },
         {
          "Quant": 2381,
          "Week": 13
         },
         {
          "Quant": 2575,
          "Week": 14
         },
         {
          "Quant": 2210,
          "Week": 15
         },
         {
          "Quant": 2297,
          "Week": 16
         },
         {
          "Quant": 2039,
          "Week": 17
         },
         {
          "Quant": 1800,
          "Week": 18
         },
         {
          "Quant": 1701,
          "Week": 19
         },
         {
          "Quant": 1801,
          "Week": 20
         },
         {
          "Quant": 1400,
          "Week": 21
         },
         {
          "Quant": 1543,
          "Week": 22
         },
         {
          "Quant": 1427,
          "Week": 23
         },
         {
          "Quant": 1619,
          "Week": 24
         },
         {
          "Quant": 2038,
          "Week": 25
         },
         {
          "Quant": 1738,
          "Week": 26
         },
         {
          "Quant": 1402,
          "Week": 27
         },
         {
          "Quant": 1186,
          "Week": 28
         },
         {
          "Quant": 1398,
          "Week": 29
         },
         {
          "Quant": 3050,
          "Week": 30
         },
         {
          "Quant": 2233,
          "Week": 31
         },
         {
          "Quant": 1095,
          "Week": 32
         },
         {
          "Quant": 1367,
          "Week": 33
         },
         {
          "Quant": 1197,
          "Week": 34
         },
         {
          "Quant": 1155,
          "Week": 35
         },
         {
          "Quant": 1112,
          "Week": 36
         },
         {
          "Quant": 1532,
          "Week": 37
         },
         {
          "Quant": 1456,
          "Week": 38
         },
         {
          "Quant": 1272,
          "Week": 39
         },
         {
          "Quant": 1157,
          "Week": 40
         },
         {
          "Quant": 1456,
          "Week": 41
         },
         {
          "Quant": 1296,
          "Week": 42
         },
         {
          "Quant": 1718,
          "Week": 43
         },
         {
          "Quant": 1454,
          "Week": 44
         },
         {
          "Quant": 2592,
          "Week": 45
         },
         {
          "Quant": 1726,
          "Week": 46
         },
         {
          "Quant": 1464,
          "Week": 47
         },
         {
          "Quant": 1731,
          "Week": 48
         },
         {
          "Quant": 1856,
          "Week": 49
         },
         {
          "Quant": 1868,
          "Week": 50
         },
         {
          "Quant": 1069,
          "Week": 51
         },
         {
          "Quant": 942,
          "Week": 52
         },
         {
          "Quant": 1143,
          "Week": 53
         },
         {
          "Quant": 1142,
          "Week": 54
         },
         {
          "Quant": 1287,
          "Week": 55
         },
         {
          "Quant": 1221,
          "Week": 56
         },
         {
          "Quant": 1114,
          "Week": 57
         },
         {
          "Quant": 1294,
          "Week": 58
         },
         {
          "Quant": 1209,
          "Week": 59
         },
         {
          "Quant": 1202,
          "Week": 60
         },
         {
          "Quant": 1885,
          "Week": 61
         },
         {
          "Quant": 1793,
          "Week": 62
         },
         {
          "Quant": 1591,
          "Week": 63
         },
         {
          "Quant": 1756,
          "Week": 64
         },
         {
          "Quant": 1516,
          "Week": 65
         },
         {
          "Quant": 1090,
          "Week": 66
         },
         {
          "Quant": 973,
          "Week": 67
         },
         {
          "Quant": 1202,
          "Week": 68
         },
         {
          "Quant": 1022,
          "Week": 69
         },
         {
          "Quant": 1249,
          "Week": 70
         },
         {
          "Quant": 1113,
          "Week": 71
         },
         {
          "Quant": 1117,
          "Week": 72
         },
         {
          "Quant": 1004,
          "Week": 73
         },
         {
          "Quant": 1265,
          "Week": 74
         },
         {
          "Quant": 1383,
          "Week": 75
         },
         {
          "Quant": 1573,
          "Week": 76
         },
         {
          "Quant": 967,
          "Week": 77
         },
         {
          "Quant": 929,
          "Week": 78
         }
        ]
       },
       "encoding": {
        "color": {},
        "x": {
         "axis": {
          "labelExpr": "datum.value",
          "title": "Week",
          "values": [
           0,
           4,
           8,
           12,
           16,
           20,
           24,
           28,
           32,
           36,
           40,
           44,
           48,
           52,
           56,
           60,
           64,
           68,
           72,
           76
          ]
         },
         "field": "Week",
         "scale": {
          "domain": [
           0,
           78
          ]
         },
         "type": "quantitative"
        },
        "y": {
         "field": "Quant",
         "scale": {},
         "title": "Units Purchased",
         "type": "quantitative"
        }
       },
       "height": 250,
       "mark": {
        "strokeDash": [
         1,
         0
        ],
        "strokeWidth": 2,
        "type": "line"
       },
       "title": "Weekly Repeat Sales",
       "width": 650
      },
      "text/plain": [
       "<VegaLite 5 object>\n",
       "\n",
       "If you see this message, it means the renderer has not been properly enabled\n",
       "for the frontend that you are using. For more information, see\n",
       "https://altair-viz.github.io/user_guide/display_frontends.html#troubleshooting\n"
      ]
     },
     "execution_count": 7,
     "metadata": {},
     "output_type": "execute_result"
    }
   ],
   "source": [
    "# What is the total number of CDs purchased each week?\n",
    "weeklysales = (\n",
    "    CDNOW_master\n",
    "    .with_columns(((pl.col('PurchDay') - 1) // 7 + 1).alias('Week'))\n",
    "    .group_by('Week')\n",
    "    .agg(pl.col('Quant').sum())\n",
    "    .sort('Week')\n",
    ")\n",
    "\n",
    "(\n",
    "    ChartTemp(weeklysales.collect())\n",
    "    .line_encode(y_col='Quant', y_title='Units Purchased', x_range=78)\n",
    "    .line_prop('Weekly Repeat Sales')\n",
    ")"
   ]
  },
  {
   "cell_type": "code",
   "execution_count": 8,
   "metadata": {},
   "outputs": [
    {
     "data": {
      "text/html": [
       "<div><style>\n",
       ".dataframe > thead > tr,\n",
       ".dataframe > tbody > tr {\n",
       "  text-align: right;\n",
       "  white-space: pre-wrap;\n",
       "}\n",
       "</style>\n",
       "<small>shape: (12, 2)</small><table border=\"1\" class=\"dataframe\"><thead><tr><th>Week</th><th>Incremental Triers</th></tr><tr><td>u16</td><td>u32</td></tr></thead><tbody><tr><td>1</td><td>1574</td></tr><tr><td>2</td><td>1642</td></tr><tr><td>3</td><td>1822</td></tr><tr><td>4</td><td>1924</td></tr><tr><td>5</td><td>2164</td></tr><tr><td>&hellip;</td><td>&hellip;</td></tr><tr><td>8</td><td>2034</td></tr><tr><td>9</td><td>2198</td></tr><tr><td>10</td><td>2165</td></tr><tr><td>11</td><td>2037</td></tr><tr><td>12</td><td>1789</td></tr></tbody></table></div>"
      ],
      "text/plain": [
       "shape: (12, 2)\n",
       "┌──────┬────────────────────┐\n",
       "│ Week ┆ Incremental Triers │\n",
       "│ ---  ┆ ---                │\n",
       "│ u16  ┆ u32                │\n",
       "╞══════╪════════════════════╡\n",
       "│ 1    ┆ 1574               │\n",
       "│ 2    ┆ 1642               │\n",
       "│ 3    ┆ 1822               │\n",
       "│ 4    ┆ 1924               │\n",
       "│ 5    ┆ 2164               │\n",
       "│ …    ┆ …                  │\n",
       "│ 8    ┆ 2034               │\n",
       "│ 9    ┆ 2198               │\n",
       "│ 10   ┆ 2165               │\n",
       "│ 11   ┆ 2037               │\n",
       "│ 12   ┆ 1789               │\n",
       "└──────┴────────────────────┘"
      ]
     },
     "execution_count": 8,
     "metadata": {},
     "output_type": "execute_result"
    }
   ],
   "source": [
    "# How many people made their first-ever (“trial”) purchase each week?\n",
    "weeklytriers = (\n",
    "    CDNOW_master\n",
    "    .filter(pl.col('DoR') == 0)\n",
    "    .with_columns(((pl.col('PurchDay') - 1) // 7 + 1).alias('Week'))\n",
    "    .group_by('Week')\n",
    "    .agg(pl.len().alias('Incremental Triers'))\n",
    "    .sort('Week')\n",
    "    \n",
    ")\n",
    "weeklytriers.collect()"
   ]
  },
  {
   "cell_type": "code",
   "execution_count": 9,
   "metadata": {},
   "outputs": [
    {
     "data": {
      "text/html": [
       "<div><style>\n",
       ".dataframe > thead > tr,\n",
       ".dataframe > tbody > tr {\n",
       "  text-align: right;\n",
       "  white-space: pre-wrap;\n",
       "}\n",
       "</style>\n",
       "<small>shape: (12, 2)</small><table border=\"1\" class=\"dataframe\"><thead><tr><th>Week</th><th>Triers Quant</th></tr><tr><td>u16</td><td>i64</td></tr></thead><tbody><tr><td>1</td><td>3627</td></tr><tr><td>2</td><td>3630</td></tr><tr><td>3</td><td>4015</td></tr><tr><td>4</td><td>4347</td></tr><tr><td>5</td><td>4867</td></tr><tr><td>&hellip;</td><td>&hellip;</td></tr><tr><td>8</td><td>4501</td></tr><tr><td>9</td><td>4896</td></tr><tr><td>10</td><td>4795</td></tr><tr><td>11</td><td>4450</td></tr><tr><td>12</td><td>4261</td></tr></tbody></table></div>"
      ],
      "text/plain": [
       "shape: (12, 2)\n",
       "┌──────┬──────────────┐\n",
       "│ Week ┆ Triers Quant │\n",
       "│ ---  ┆ ---          │\n",
       "│ u16  ┆ i64          │\n",
       "╞══════╪══════════════╡\n",
       "│ 1    ┆ 3627         │\n",
       "│ 2    ┆ 3630         │\n",
       "│ 3    ┆ 4015         │\n",
       "│ 4    ┆ 4347         │\n",
       "│ 5    ┆ 4867         │\n",
       "│ …    ┆ …            │\n",
       "│ 8    ┆ 4501         │\n",
       "│ 9    ┆ 4896         │\n",
       "│ 10   ┆ 4795         │\n",
       "│ 11   ┆ 4450         │\n",
       "│ 12   ┆ 4261         │\n",
       "└──────┴──────────────┘"
      ]
     },
     "execution_count": 9,
     "metadata": {},
     "output_type": "execute_result"
    }
   ],
   "source": [
    "# What is the total number of CDs purchased by triers in their trial week?\n",
    "weeklytrierquant = (\n",
    "    CDNOW_master\n",
    "    .with_columns(((pl.col('PurchDay') - 1) // 7 + 1).alias('Week'))\n",
    "    .with_columns(pl.when(pl.col('DoR') == 0).then(pl.col('Week')).fill_null(strategy='forward').over('CustID').alias('Trial Week'))  \n",
    "    .filter(pl.col('Trial Week') == pl.col('Week'))  # Any repeat purchasing by a customer in their trial week is added to their trial purchase\n",
    "    .group_by('Week')\n",
    "    .agg(pl.col('Quant').sum().alias('Triers Quant'))\n",
    "    .sort('Week')\n",
    ")\n",
    "\n",
    "weeklytrierquant.collect()"
   ]
  },
  {
   "cell_type": "code",
   "execution_count": 10,
   "metadata": {},
   "outputs": [],
   "source": [
    "weeklysalessplit = (\n",
    "    weeklysales\n",
    "    .join(weeklytrierquant, on='Week', how='left')\n",
    "    .fill_null(0)\n",
    "    .with_columns(\n",
    "        (pl.col('Quant') - pl.col('Triers Quant')).alias('Repeat Quant')\n",
    "    )\n",
    "    .rename({'Quant': 'Total', 'Triers Quant': 'Trial', 'Repeat Quant': 'Repeat'})\n",
    ")"
   ]
  },
  {
   "cell_type": "code",
   "execution_count": 11,
   "metadata": {},
   "outputs": [
    {
     "data": {
      "text/html": [
       "<div id=\"idaeprxzhz\" style=\"padding-left:0px;padding-right:0px;padding-top:10px;padding-bottom:10px;overflow-x:auto;overflow-y:auto;width:auto;height:auto;\">\n",
       "<style>\n",
       "#idaeprxzhz table {\n",
       "          font-family: -apple-system, BlinkMacSystemFont, 'Segoe UI', Roboto, Oxygen, Ubuntu, Cantarell, 'Helvetica Neue', 'Fira Sans', 'Droid Sans', Arial, sans-serif;\n",
       "          -webkit-font-smoothing: antialiased;\n",
       "          -moz-osx-font-smoothing: grayscale;\n",
       "        }\n",
       "\n",
       "#idaeprxzhz thead, tbody, tfoot, tr, td, th { border-style: none !important; }\n",
       " tr { background-color: transparent !important; }\n",
       "#idaeprxzhz p { margin: 0 !important; padding: 0 !important; }\n",
       " #idaeprxzhz .gt_table { display: table !important; border-collapse: collapse !important; line-height: normal !important; margin-left: auto !important; margin-right: auto !important; color: #333333 !important; font-size: 16px !important; font-weight: normal !important; font-style: normal !important; background-color: #FFFFFF !important; width: auto !important; border-top-style: solid !important; border-top-width: 2px !important; border-top-color: #004D80 !important; border-right-style: none !important; border-right-width: 2px !important; border-right-color: #D3D3D3 !important; border-bottom-style: solid !important; border-bottom-width: 2px !important; border-bottom-color: #004D80 !important; border-left-style: none !important; border-left-width: 2px !important; border-left-color: #D3D3D3 !important; }\n",
       " #idaeprxzhz .gt_caption { padding-top: 4px !important; padding-bottom: 4px !important; }\n",
       " #idaeprxzhz .gt_title { color: #333333 !important; font-size: 125% !important; font-weight: initial !important; padding-top: 4px !important; padding-bottom: 4px !important; padding-left: 5px !important; padding-right: 5px !important; border-bottom-color: #FFFFFF !important; border-bottom-width: 0 !important; }\n",
       " #idaeprxzhz .gt_subtitle { color: #333333 !important; font-size: 85% !important; font-weight: initial !important; padding-top: 3px !important; padding-bottom: 5px !important; padding-left: 5px !important; padding-right: 5px !important; border-top-color: #FFFFFF !important; border-top-width: 0 !important; }\n",
       " #idaeprxzhz .gt_heading { background-color: #FFFFFF !important; text-align: center !important; border-bottom-color: #FFFFFF !important; border-left-style: none !important; border-left-width: 1px !important; border-left-color: #D3D3D3 !important; border-right-style: none !important; border-right-width: 1px !important; border-right-color: #D3D3D3 !important; }\n",
       " #idaeprxzhz .gt_bottom_border { border-bottom-style: solid !important; border-bottom-width: 2px !important; border-bottom-color: #0076BA !important; }\n",
       " #idaeprxzhz .gt_col_headings { border-top-style: solid !important; border-top-width: 2px !important; border-top-color: #0076BA !important; border-bottom-style: solid !important; border-bottom-width: 2px !important; border-bottom-color: #0076BA !important; border-left-style: none !important; border-left-width: 1px !important; border-left-color: #D3D3D3 !important; border-right-style: none !important; border-right-width: 1px !important; border-right-color: #D3D3D3 !important; }\n",
       " #idaeprxzhz .gt_col_heading { color: #333333 !important; background-color: #FFFFFF !important; font-size: 100% !important; font-weight: normal !important; text-transform: inherit !important; border-left-style: none !important; border-left-width: 1px !important; border-left-color: #D3D3D3 !important; border-right-style: none !important; border-right-width: 1px !important; border-right-color: #D3D3D3 !important; vertical-align: bottom !important; padding-top: 5px !important; padding-bottom: 5px !important; padding-left: 5px !important; padding-right: 5px !important; overflow-x: hidden !important; }\n",
       " #idaeprxzhz .gt_column_spanner_outer { color: #333333 !important; background-color: #FFFFFF !important; font-size: 100% !important; font-weight: normal !important; text-transform: inherit !important; padding-top: 0 !important; padding-bottom: 0 !important; padding-left: 4px !important; padding-right: 4px !important; }\n",
       " #idaeprxzhz .gt_column_spanner_outer:first-child { padding-left: 0 !important; }\n",
       " #idaeprxzhz .gt_column_spanner_outer:last-child { padding-right: 0 !important; }\n",
       " #idaeprxzhz .gt_column_spanner { border-bottom-style: solid !important; border-bottom-width: 2px !important; border-bottom-color: #0076BA !important; vertical-align: bottom !important; padding-top: 5px !important; padding-bottom: 5px !important; overflow-x: hidden !important; display: inline-block !important; width: 100% !important; }\n",
       " #idaeprxzhz .gt_spanner_row { border-bottom-style: hidden !important; }\n",
       " #idaeprxzhz .gt_group_heading { padding-top: 8px !important; padding-bottom: 8px !important; padding-left: 5px !important; padding-right: 5px !important; color: #333333 !important; background-color: #FFFFFF !important; font-size: 100% !important; font-weight: initial !important; text-transform: inherit !important; border-top-style: solid !important; border-top-width: 2px !important; border-top-color: #0076BA !important; border-bottom-style: solid !important; border-bottom-width: 2px !important; border-bottom-color: #0076BA !important; border-left-style: none !important; border-left-width: 1px !important; border-left-color: #D3D3D3 !important; border-right-style: none !important; border-right-width: 1px !important; border-right-color: #D3D3D3 !important; vertical-align: middle !important; text-align: left !important; }\n",
       " #idaeprxzhz .gt_empty_group_heading { padding: 0.5px !important; color: #333333 !important; background-color: #FFFFFF !important; font-size: 100% !important; font-weight: initial !important; border-top-style: solid !important; border-top-width: 2px !important; border-top-color: #0076BA !important; border-bottom-style: solid !important; border-bottom-width: 2px !important; border-bottom-color: #0076BA !important; vertical-align: middle !important; }\n",
       " #idaeprxzhz .gt_from_md> :first-child { margin-top: 0 !important; }\n",
       " #idaeprxzhz .gt_from_md> :last-child { margin-bottom: 0 !important; }\n",
       " #idaeprxzhz .gt_row { padding-top: 8px !important; padding-bottom: 8px !important; padding-left: 5px !important; padding-right: 5px !important; margin: 10px !important; border-top-style: none !important; border-top-width: 1px !important; border-top-color: #89D3FE !important; border-left-style: none !important; border-left-width: 1px !important; border-left-color: #89D3FE !important; border-right-style: none !important; border-right-width: 1px !important; border-right-color: #89D3FE !important; vertical-align: middle !important; overflow-x: hidden !important; }\n",
       " #idaeprxzhz .gt_stub { color: #FFFFFF !important; background-color: #0076BA !important; font-size: 100% !important; font-weight: initial !important; text-transform: inherit !important; border-right-style: solid !important; border-right-width: 2px !important; border-right-color: #0076BA !important; padding-left: 5px !important; padding-right: 5px !important; }\n",
       " #idaeprxzhz .gt_stub_row_group { color: #333333 !important; background-color: #FFFFFF !important; font-size: 100% !important; font-weight: initial !important; text-transform: inherit !important; border-right-style: solid !important; border-right-width: 2px !important; border-right-color: #D3D3D3 !important; padding-left: 5px !important; padding-right: 5px !important; vertical-align: top !important; }\n",
       " #idaeprxzhz .gt_row_group_first td { border-top-width: 2px !important; }\n",
       " #idaeprxzhz .gt_row_group_first th { border-top-width: 2px !important; }\n",
       " #idaeprxzhz .gt_striped { background-color: #F4F4F4 !important; }\n",
       " #idaeprxzhz .gt_table_body { border-top-style: solid !important; border-top-width: 2px !important; border-top-color: #0076BA !important; border-bottom-style: solid !important; border-bottom-width: 2px !important; border-bottom-color: #0076BA !important; }\n",
       " #idaeprxzhz .gt_sourcenotes { color: #333333 !important; background-color: #FFFFFF !important; border-bottom-style: none !important; border-bottom-width: 2px !important; border-bottom-color: #D3D3D3 !important; border-left-style: none !important; border-left-width: 2px !important; border-left-color: #D3D3D3 !important; border-right-style: none !important; border-right-width: 2px !important; border-right-color: #D3D3D3 !important; }\n",
       " #idaeprxzhz .gt_sourcenote { font-size: 90% !important; padding-top: 4px !important; padding-bottom: 4px !important; padding-left: 5px !important; padding-right: 5px !important; text-align: left !important; }\n",
       " #idaeprxzhz .gt_left { text-align: left !important; }\n",
       " #idaeprxzhz .gt_center { text-align: center !important; }\n",
       " #idaeprxzhz .gt_right { text-align: right !important; font-variant-numeric: tabular-nums !important; }\n",
       " #idaeprxzhz .gt_font_normal { font-weight: normal !important; }\n",
       " #idaeprxzhz .gt_font_bold { font-weight: bold !important; }\n",
       " #idaeprxzhz .gt_font_italic { font-style: italic !important; }\n",
       " #idaeprxzhz .gt_super { font-size: 65% !important; }\n",
       " #idaeprxzhz .gt_footnote_marks { font-size: 75% !important; vertical-align: 0.4em !important; position: initial !important; }\n",
       " #idaeprxzhz .gt_asterisk { font-size: 100% !important; vertical-align: 0 !important; }\n",
       " \n",
       "</style>\n",
       "<table class=\"gt_table\" data-quarto-disable-processing=\"false\" data-quarto-bootstrap=\"false\">\n",
       "<thead>\n",
       "\n",
       "  <tr class=\"gt_heading\">\n",
       "    <td colspan=\"13\" class=\"gt_heading gt_title gt_font_normal\">Distribution of the Number of CDNOW Units Purchased</td>\n",
       "  </tr>\n",
       "  <tr class=\"gt_heading\">\n",
       "    <td colspan=\"13\" class=\"gt_heading gt_subtitle gt_font_normal gt_bottom_border\">First 12 Weeks</td>\n",
       "  </tr>\n",
       "<tr class=\"gt_col_headings gt_spanner_row\">\n",
       "  <th class=\"gt_col_heading gt_columns_bottom_border gt_left\" rowspan=\"2\" colspan=\"1\" scope=\"col\" id=\"Units Purchased\">Units Purchased</th>\n",
       "  <th class=\"gt_center gt_columns_top_border gt_column_spanner_outer\" rowspan=\"1\" colspan=\"12\" scope=\"colgroup\" id=\"Week\">\n",
       "    <span class=\"gt_column_spanner\">Week</span>\n",
       "  </th>\n",
       "</tr>\n",
       "<tr class=\"gt_col_headings\">\n",
       "  <th class=\"gt_col_heading gt_columns_bottom_border gt_right\" rowspan=\"1\" colspan=\"1\" scope=\"col\" id=\"1\">1</th>\n",
       "  <th class=\"gt_col_heading gt_columns_bottom_border gt_right\" rowspan=\"1\" colspan=\"1\" scope=\"col\" id=\"2\">2</th>\n",
       "  <th class=\"gt_col_heading gt_columns_bottom_border gt_right\" rowspan=\"1\" colspan=\"1\" scope=\"col\" id=\"3\">3</th>\n",
       "  <th class=\"gt_col_heading gt_columns_bottom_border gt_right\" rowspan=\"1\" colspan=\"1\" scope=\"col\" id=\"4\">4</th>\n",
       "  <th class=\"gt_col_heading gt_columns_bottom_border gt_right\" rowspan=\"1\" colspan=\"1\" scope=\"col\" id=\"5\">5</th>\n",
       "  <th class=\"gt_col_heading gt_columns_bottom_border gt_right\" rowspan=\"1\" colspan=\"1\" scope=\"col\" id=\"6\">6</th>\n",
       "  <th class=\"gt_col_heading gt_columns_bottom_border gt_right\" rowspan=\"1\" colspan=\"1\" scope=\"col\" id=\"7\">7</th>\n",
       "  <th class=\"gt_col_heading gt_columns_bottom_border gt_right\" rowspan=\"1\" colspan=\"1\" scope=\"col\" id=\"8\">8</th>\n",
       "  <th class=\"gt_col_heading gt_columns_bottom_border gt_right\" rowspan=\"1\" colspan=\"1\" scope=\"col\" id=\"9\">9</th>\n",
       "  <th class=\"gt_col_heading gt_columns_bottom_border gt_right\" rowspan=\"1\" colspan=\"1\" scope=\"col\" id=\"10\">10</th>\n",
       "  <th class=\"gt_col_heading gt_columns_bottom_border gt_right\" rowspan=\"1\" colspan=\"1\" scope=\"col\" id=\"11\">11</th>\n",
       "  <th class=\"gt_col_heading gt_columns_bottom_border gt_right\" rowspan=\"1\" colspan=\"1\" scope=\"col\" id=\"12\">12</th>\n",
       "</tr>\n",
       "</thead>\n",
       "<tbody class=\"gt_table_body\">\n",
       "  <tr>\n",
       "    <th class=\"gt_row gt_left gt_stub\">0</th>\n",
       "    <td class=\"gt_row gt_right\">0</td>\n",
       "    <td class=\"gt_row gt_right\">1,478</td>\n",
       "    <td class=\"gt_row gt_right\">3,033</td>\n",
       "    <td class=\"gt_row gt_right\">4,763</td>\n",
       "    <td class=\"gt_row gt_right\">6,608</td>\n",
       "    <td class=\"gt_row gt_right\">8,616</td>\n",
       "    <td class=\"gt_row gt_right\">10,829</td>\n",
       "    <td class=\"gt_row gt_right\">12,716</td>\n",
       "    <td class=\"gt_row gt_right\">14,698</td>\n",
       "    <td class=\"gt_row gt_right\">16,774</td>\n",
       "    <td class=\"gt_row gt_right\">18,881</td>\n",
       "    <td class=\"gt_row gt_right\">20,902</td>\n",
       "  </tr>\n",
       "  <tr>\n",
       "    <th class=\"gt_row gt_left gt_stub\">1</th>\n",
       "    <td class=\"gt_row gt_right gt_striped\">750</td>\n",
       "    <td class=\"gt_row gt_right gt_striped\">852</td>\n",
       "    <td class=\"gt_row gt_right gt_striped\">984</td>\n",
       "    <td class=\"gt_row gt_right gt_striped\">1,066</td>\n",
       "    <td class=\"gt_row gt_right gt_striped\">1,237</td>\n",
       "    <td class=\"gt_row gt_right gt_striped\">1,262</td>\n",
       "    <td class=\"gt_row gt_right gt_striped\">1,204</td>\n",
       "    <td class=\"gt_row gt_right gt_striped\">1,278</td>\n",
       "    <td class=\"gt_row gt_right gt_striped\">1,397</td>\n",
       "    <td class=\"gt_row gt_right gt_striped\">1,444</td>\n",
       "    <td class=\"gt_row gt_right gt_striped\">1,387</td>\n",
       "    <td class=\"gt_row gt_right gt_striped\">1,148</td>\n",
       "  </tr>\n",
       "  <tr>\n",
       "    <th class=\"gt_row gt_left gt_stub\">2</th>\n",
       "    <td class=\"gt_row gt_right\">383</td>\n",
       "    <td class=\"gt_row gt_right\">387</td>\n",
       "    <td class=\"gt_row gt_right\">456</td>\n",
       "    <td class=\"gt_row gt_right\">484</td>\n",
       "    <td class=\"gt_row gt_right\">566</td>\n",
       "    <td class=\"gt_row gt_right\">649</td>\n",
       "    <td class=\"gt_row gt_right\">592</td>\n",
       "    <td class=\"gt_row gt_right\">606</td>\n",
       "    <td class=\"gt_row gt_right\">644</td>\n",
       "    <td class=\"gt_row gt_right\">659</td>\n",
       "    <td class=\"gt_row gt_right\">677</td>\n",
       "    <td class=\"gt_row gt_right\">663</td>\n",
       "  </tr>\n",
       "  <tr>\n",
       "    <th class=\"gt_row gt_left gt_stub\">3</th>\n",
       "    <td class=\"gt_row gt_right gt_striped\">191</td>\n",
       "    <td class=\"gt_row gt_right gt_striped\">214</td>\n",
       "    <td class=\"gt_row gt_right gt_striped\">270</td>\n",
       "    <td class=\"gt_row gt_right gt_striped\">267</td>\n",
       "    <td class=\"gt_row gt_right gt_striped\">293</td>\n",
       "    <td class=\"gt_row gt_right gt_striped\">320</td>\n",
       "    <td class=\"gt_row gt_right gt_striped\">302</td>\n",
       "    <td class=\"gt_row gt_right gt_striped\">343</td>\n",
       "    <td class=\"gt_row gt_right gt_striped\">365</td>\n",
       "    <td class=\"gt_row gt_right gt_striped\">374</td>\n",
       "    <td class=\"gt_row gt_right gt_striped\">355</td>\n",
       "    <td class=\"gt_row gt_right gt_striped\">367</td>\n",
       "  </tr>\n",
       "  <tr>\n",
       "    <th class=\"gt_row gt_left gt_stub\">4</th>\n",
       "    <td class=\"gt_row gt_right\">95</td>\n",
       "    <td class=\"gt_row gt_right\">120</td>\n",
       "    <td class=\"gt_row gt_right\">114</td>\n",
       "    <td class=\"gt_row gt_right\">161</td>\n",
       "    <td class=\"gt_row gt_right\">163</td>\n",
       "    <td class=\"gt_row gt_right\">196</td>\n",
       "    <td class=\"gt_row gt_right\">156</td>\n",
       "    <td class=\"gt_row gt_right\">195</td>\n",
       "    <td class=\"gt_row gt_right\">179</td>\n",
       "    <td class=\"gt_row gt_right\">187</td>\n",
       "    <td class=\"gt_row gt_right\">199</td>\n",
       "    <td class=\"gt_row gt_right\">182</td>\n",
       "  </tr>\n",
       "  <tr>\n",
       "    <th class=\"gt_row gt_left gt_stub\">5</th>\n",
       "    <td class=\"gt_row gt_right gt_striped\">55</td>\n",
       "    <td class=\"gt_row gt_right gt_striped\">72</td>\n",
       "    <td class=\"gt_row gt_right gt_striped\">68</td>\n",
       "    <td class=\"gt_row gt_right gt_striped\">89</td>\n",
       "    <td class=\"gt_row gt_right gt_striped\">96</td>\n",
       "    <td class=\"gt_row gt_right gt_striped\">96</td>\n",
       "    <td class=\"gt_row gt_right gt_striped\">80</td>\n",
       "    <td class=\"gt_row gt_right gt_striped\">100</td>\n",
       "    <td class=\"gt_row gt_right gt_striped\">95</td>\n",
       "    <td class=\"gt_row gt_right gt_striped\">118</td>\n",
       "    <td class=\"gt_row gt_right gt_striped\">94</td>\n",
       "    <td class=\"gt_row gt_right gt_striped\">120</td>\n",
       "  </tr>\n",
       "  <tr>\n",
       "    <th class=\"gt_row gt_left gt_stub\">6</th>\n",
       "    <td class=\"gt_row gt_right\">36</td>\n",
       "    <td class=\"gt_row gt_right\">40</td>\n",
       "    <td class=\"gt_row gt_right\">42</td>\n",
       "    <td class=\"gt_row gt_right\">40</td>\n",
       "    <td class=\"gt_row gt_right\">51</td>\n",
       "    <td class=\"gt_row gt_right\">54</td>\n",
       "    <td class=\"gt_row gt_right\">65</td>\n",
       "    <td class=\"gt_row gt_right\">45</td>\n",
       "    <td class=\"gt_row gt_right\">75</td>\n",
       "    <td class=\"gt_row gt_right\">71</td>\n",
       "    <td class=\"gt_row gt_right\">72</td>\n",
       "    <td class=\"gt_row gt_right\">54</td>\n",
       "  </tr>\n",
       "  <tr>\n",
       "    <th class=\"gt_row gt_left gt_stub\">7</th>\n",
       "    <td class=\"gt_row gt_right gt_striped\">18</td>\n",
       "    <td class=\"gt_row gt_right gt_striped\">12</td>\n",
       "    <td class=\"gt_row gt_right gt_striped\">27</td>\n",
       "    <td class=\"gt_row gt_right gt_striped\">30</td>\n",
       "    <td class=\"gt_row gt_right gt_striped\">36</td>\n",
       "    <td class=\"gt_row gt_right gt_striped\">40</td>\n",
       "    <td class=\"gt_row gt_right gt_striped\">39</td>\n",
       "    <td class=\"gt_row gt_right gt_striped\">31</td>\n",
       "    <td class=\"gt_row gt_right gt_striped\">41</td>\n",
       "    <td class=\"gt_row gt_right gt_striped\">37</td>\n",
       "    <td class=\"gt_row gt_right gt_striped\">30</td>\n",
       "    <td class=\"gt_row gt_right gt_striped\">43</td>\n",
       "  </tr>\n",
       "  <tr>\n",
       "    <th class=\"gt_row gt_left gt_stub\">8</th>\n",
       "    <td class=\"gt_row gt_right\">12</td>\n",
       "    <td class=\"gt_row gt_right\">15</td>\n",
       "    <td class=\"gt_row gt_right\">9</td>\n",
       "    <td class=\"gt_row gt_right\">21</td>\n",
       "    <td class=\"gt_row gt_right\">19</td>\n",
       "    <td class=\"gt_row gt_right\">21</td>\n",
       "    <td class=\"gt_row gt_right\">20</td>\n",
       "    <td class=\"gt_row gt_right\">24</td>\n",
       "    <td class=\"gt_row gt_right\">23</td>\n",
       "    <td class=\"gt_row gt_right\">29</td>\n",
       "    <td class=\"gt_row gt_right\">24</td>\n",
       "    <td class=\"gt_row gt_right\">32</td>\n",
       "  </tr>\n",
       "  <tr>\n",
       "    <th class=\"gt_row gt_left gt_stub\">9</th>\n",
       "    <td class=\"gt_row gt_right gt_striped\">9</td>\n",
       "    <td class=\"gt_row gt_right gt_striped\">9</td>\n",
       "    <td class=\"gt_row gt_right gt_striped\">8</td>\n",
       "    <td class=\"gt_row gt_right gt_striped\">9</td>\n",
       "    <td class=\"gt_row gt_right gt_striped\">21</td>\n",
       "    <td class=\"gt_row gt_right gt_striped\">14</td>\n",
       "    <td class=\"gt_row gt_right gt_striped\">21</td>\n",
       "    <td class=\"gt_row gt_right gt_striped\">8</td>\n",
       "    <td class=\"gt_row gt_right gt_striped\">14</td>\n",
       "    <td class=\"gt_row gt_right gt_striped\">9</td>\n",
       "    <td class=\"gt_row gt_right gt_striped\">12</td>\n",
       "    <td class=\"gt_row gt_right gt_striped\">16</td>\n",
       "  </tr>\n",
       "  <tr>\n",
       "    <th class=\"gt_row gt_left gt_stub\">10</th>\n",
       "    <td class=\"gt_row gt_right\">25</td>\n",
       "    <td class=\"gt_row gt_right\">17</td>\n",
       "    <td class=\"gt_row gt_right\">27</td>\n",
       "    <td class=\"gt_row gt_right\">32</td>\n",
       "    <td class=\"gt_row gt_right\">36</td>\n",
       "    <td class=\"gt_row gt_right\">55</td>\n",
       "    <td class=\"gt_row gt_right\">39</td>\n",
       "    <td class=\"gt_row gt_right\">35</td>\n",
       "    <td class=\"gt_row gt_right\">48</td>\n",
       "    <td class=\"gt_row gt_right\">42</td>\n",
       "    <td class=\"gt_row gt_right\">50</td>\n",
       "    <td class=\"gt_row gt_right\">43</td>\n",
       "  </tr>\n",
       "</tbody>\n",
       "\n",
       "\n",
       "</table>\n",
       "\n",
       "</div>\n",
       "        "
      ],
      "text/plain": [
       "GT(_tbl_data=shape: (11, 13)\n",
       "┌─────┬─────┬──────┬──────┬───┬───────┬───────┬───────┬───────┐\n",
       "│ 0   ┆ 1   ┆ 2    ┆ 3    ┆ … ┆ 9     ┆ 10    ┆ 11    ┆ 12    │\n",
       "│ --- ┆ --- ┆ ---  ┆ ---  ┆   ┆ ---   ┆ ---   ┆ ---   ┆ ---   │\n",
       "│ str ┆ i32 ┆ i32  ┆ i32  ┆   ┆ i32   ┆ i32   ┆ i32   ┆ i32   │\n",
       "╞═════╪═════╪══════╪══════╪═══╪═══════╪═══════╪═══════╪═══════╡\n",
       "│ 0   ┆ 0   ┆ 1478 ┆ 3033 ┆ … ┆ 14698 ┆ 16774 ┆ 18881 ┆ 20902 │\n",
       "│ 1   ┆ 750 ┆ 852  ┆ 984  ┆ … ┆ 1397  ┆ 1444  ┆ 1387  ┆ 1148  │\n",
       "│ 2   ┆ 383 ┆ 387  ┆ 456  ┆ … ┆ 644   ┆ 659   ┆ 677   ┆ 663   │\n",
       "│ 3   ┆ 191 ┆ 214  ┆ 270  ┆ … ┆ 365   ┆ 374   ┆ 355   ┆ 367   │\n",
       "│ 4   ┆ 95  ┆ 120  ┆ 114  ┆ … ┆ 179   ┆ 187   ┆ 199   ┆ 182   │\n",
       "│ …   ┆ …   ┆ …    ┆ …    ┆ … ┆ …     ┆ …     ┆ …     ┆ …     │\n",
       "│ 6   ┆ 36  ┆ 40   ┆ 42   ┆ … ┆ 75    ┆ 71    ┆ 72    ┆ 54    │\n",
       "│ 7   ┆ 18  ┆ 12   ┆ 27   ┆ … ┆ 41    ┆ 37    ┆ 30    ┆ 43    │\n",
       "│ 8   ┆ 12  ┆ 15   ┆ 9    ┆ … ┆ 23    ┆ 29    ┆ 24    ┆ 32    │\n",
       "│ 9   ┆ 9   ┆ 9    ┆ 8    ┆ … ┆ 14    ┆ 9     ┆ 12    ┆ 16    │\n",
       "│ 10  ┆ 25  ┆ 17   ┆ 27   ┆ … ┆ 48    ┆ 42    ┆ 50    ┆ 43    │\n",
       "└─────┴─────┴──────┴──────┴───┴───────┴───────┴───────┴───────┘, _body=<great_tables._gt_data.Body object at 0x00000242991F1070>, _boxhead=Boxhead([ColInfo(var='0', type=<ColInfoTypeEnum.stub: 2>, column_label='0', column_align='left', column_width=None), ColInfo(var='1', type=<ColInfoTypeEnum.default: 1>, column_label='1', column_align='right', column_width=None), ColInfo(var='2', type=<ColInfoTypeEnum.default: 1>, column_label='2', column_align='right', column_width=None), ColInfo(var='3', type=<ColInfoTypeEnum.default: 1>, column_label='3', column_align='right', column_width=None), ColInfo(var='4', type=<ColInfoTypeEnum.default: 1>, column_label='4', column_align='right', column_width=None), ColInfo(var='5', type=<ColInfoTypeEnum.default: 1>, column_label='5', column_align='right', column_width=None), ColInfo(var='6', type=<ColInfoTypeEnum.default: 1>, column_label='6', column_align='right', column_width=None), ColInfo(var='7', type=<ColInfoTypeEnum.default: 1>, column_label='7', column_align='right', column_width=None), ColInfo(var='8', type=<ColInfoTypeEnum.default: 1>, column_label='8', column_align='right', column_width=None), ColInfo(var='9', type=<ColInfoTypeEnum.default: 1>, column_label='9', column_align='right', column_width=None), ColInfo(var='10', type=<ColInfoTypeEnum.default: 1>, column_label='10', column_align='right', column_width=None), ColInfo(var='11', type=<ColInfoTypeEnum.default: 1>, column_label='11', column_align='right', column_width=None), ColInfo(var='12', type=<ColInfoTypeEnum.default: 1>, column_label='12', column_align='right', column_width=None)]), _stub=<great_tables._gt_data.Stub object at 0x000002429AA2BCB0>, _spanners=Spanners([SpannerInfo(spanner_id='Week', spanner_level=0, spanner_label='Week', spanner_units=None, spanner_pattern=None, vars=['1', '2', '3', '4', '5', '6', '7', '8', '9', '10', '11', '12'], built=None)]), _heading=Heading(title='Distribution of the Number of CDNOW Units Purchased', subtitle='First 12 Weeks', preheader=None), _stubhead='Units Purchased', _source_notes=[], _footnotes=[], _styles=[], _locale=<great_tables._gt_data.Locale object at 0x000002429A986840>, _formats=[<great_tables._gt_data.FormatInfo object at 0x000002429AEE3050>], _substitutions=[], _options=Options(table_id=OptionsInfo(scss=False, category='table', type='value', value=None), table_caption=OptionsInfo(scss=False, category='table', type='value', value=None), table_width=OptionsInfo(scss=True, category='table', type='px', value='auto'), table_layout=OptionsInfo(scss=True, category='table', type='value', value='fixed'), table_margin_left=OptionsInfo(scss=True, category='table', type='px', value='auto'), table_margin_right=OptionsInfo(scss=True, category='table', type='px', value='auto'), table_background_color=OptionsInfo(scss=True, category='table', type='value', value='#FFFFFF'), table_additional_css=OptionsInfo(scss=False, category='table', type='values', value=[]), table_font_names=OptionsInfo(scss=False, category='table', type='values', value=['-apple-system', 'BlinkMacSystemFont', 'Segoe UI', 'Roboto', 'Oxygen', 'Ubuntu', 'Cantarell', 'Helvetica Neue', 'Fira Sans', 'Droid Sans', 'Arial', 'sans-serif']), table_font_size=OptionsInfo(scss=True, category='table', type='px', value='16px'), table_font_weight=OptionsInfo(scss=True, category='table', type='value', value='normal'), table_font_style=OptionsInfo(scss=True, category='table', type='value', value='normal'), table_font_color=OptionsInfo(scss=True, category='table', type='value', value='#333333'), table_font_color_light=OptionsInfo(scss=True, category='table', type='value', value='#FFFFFF'), table_border_top_include=OptionsInfo(scss=False, category='table', type='boolean', value=True), table_border_top_style=OptionsInfo(scss=True, category='table', type='value', value='solid'), table_border_top_width=OptionsInfo(scss=True, category='table', type='px', value='2px'), table_border_top_color=OptionsInfo(scss=True, category='table', type='value', value='#004D80'), table_border_right_style=OptionsInfo(scss=True, category='table', type='value', value='none'), table_border_right_width=OptionsInfo(scss=True, category='table', type='px', value='2px'), table_border_right_color=OptionsInfo(scss=True, category='table', type='value', value='#D3D3D3'), table_border_bottom_include=OptionsInfo(scss=False, category='table', type='boolean', value=True), table_border_bottom_style=OptionsInfo(scss=True, category='table', type='value', value='solid'), table_border_bottom_width=OptionsInfo(scss=True, category='table', type='px', value='2px'), table_border_bottom_color=OptionsInfo(scss=True, category='table', type='value', value='#004D80'), table_border_left_style=OptionsInfo(scss=True, category='table', type='value', value='none'), table_border_left_width=OptionsInfo(scss=True, category='table', type='px', value='2px'), table_border_left_color=OptionsInfo(scss=True, category='table', type='value', value='#D3D3D3'), heading_background_color=OptionsInfo(scss=True, category='heading', type='value', value=None), heading_align=OptionsInfo(scss=True, category='heading', type='value', value='center'), heading_title_font_size=OptionsInfo(scss=True, category='heading', type='px', value='125%'), heading_title_font_weight=OptionsInfo(scss=True, category='heading', type='value', value='initial'), heading_subtitle_font_size=OptionsInfo(scss=True, category='heading', type='px', value='85%'), heading_subtitle_font_weight=OptionsInfo(scss=True, category='heading', type='value', value='initial'), heading_padding=OptionsInfo(scss=True, category='heading', type='px', value='4px'), heading_padding_horizontal=OptionsInfo(scss=True, category='heading', type='px', value='5px'), heading_border_bottom_style=OptionsInfo(scss=True, category='heading', type='value', value='solid'), heading_border_bottom_width=OptionsInfo(scss=True, category='heading', type='px', value='2px'), heading_border_bottom_color=OptionsInfo(scss=True, category='heading', type='value', value='#0076BA'), heading_border_lr_style=OptionsInfo(scss=True, category='heading', type='value', value='none'), heading_border_lr_width=OptionsInfo(scss=True, category='heading', type='px', value='1px'), heading_border_lr_color=OptionsInfo(scss=True, category='heading', type='value', value='#D3D3D3'), column_labels_background_color=OptionsInfo(scss=True, category='column_labels', type='value', value='#FFFFFF'), column_labels_font_size=OptionsInfo(scss=True, category='column_labels', type='px', value='100%'), column_labels_font_weight=OptionsInfo(scss=True, category='column_labels', type='value', value='normal'), column_labels_text_transform=OptionsInfo(scss=True, category='column_labels', type='value', value='inherit'), column_labels_padding=OptionsInfo(scss=True, category='column_labels', type='px', value='5px'), column_labels_padding_horizontal=OptionsInfo(scss=True, category='column_labels', type='px', value='5px'), column_labels_vlines_style=OptionsInfo(scss=True, category='table_body', type='value', value='none'), column_labels_vlines_width=OptionsInfo(scss=True, category='table_body', type='px', value='1px'), column_labels_vlines_color=OptionsInfo(scss=True, category='table_body', type='value', value='#D3D3D3'), column_labels_border_top_style=OptionsInfo(scss=True, category='column_labels', type='value', value='solid'), column_labels_border_top_width=OptionsInfo(scss=True, category='column_labels', type='px', value='2px'), column_labels_border_top_color=OptionsInfo(scss=True, category='column_labels', type='value', value='#0076BA'), column_labels_border_bottom_style=OptionsInfo(scss=True, category='column_labels', type='value', value='solid'), column_labels_border_bottom_width=OptionsInfo(scss=True, category='column_labels', type='px', value='2px'), column_labels_border_bottom_color=OptionsInfo(scss=True, category='column_labels', type='value', value='#0076BA'), column_labels_border_lr_style=OptionsInfo(scss=True, category='column_labels', type='value', value='none'), column_labels_border_lr_width=OptionsInfo(scss=True, category='column_labels', type='px', value='1px'), column_labels_border_lr_color=OptionsInfo(scss=True, category='column_labels', type='value', value='#D3D3D3'), column_labels_hidden=OptionsInfo(scss=False, category='column_labels', type='boolean', value=False), row_group_background_color=OptionsInfo(scss=True, category='row_group', type='value', value=None), row_group_font_size=OptionsInfo(scss=True, category='row_group', type='px', value='100%'), row_group_font_weight=OptionsInfo(scss=True, category='row_group', type='value', value='initial'), row_group_text_transform=OptionsInfo(scss=True, category='row_group', type='value', value='inherit'), row_group_padding=OptionsInfo(scss=True, category='row_group', type='px', value='8px'), row_group_padding_horizontal=OptionsInfo(scss=True, category='row_group', type='px', value='5px'), row_group_border_top_style=OptionsInfo(scss=True, category='row_group', type='value', value='solid'), row_group_border_top_width=OptionsInfo(scss=True, category='row_group', type='px', value='2px'), row_group_border_top_color=OptionsInfo(scss=True, category='row_group', type='value', value='#0076BA'), row_group_border_right_style=OptionsInfo(scss=True, category='row_group', type='value', value='none'), row_group_border_right_width=OptionsInfo(scss=True, category='row_group', type='px', value='1px'), row_group_border_right_color=OptionsInfo(scss=True, category='row_group', type='value', value='#D3D3D3'), row_group_border_bottom_style=OptionsInfo(scss=True, category='row_group', type='value', value='solid'), row_group_border_bottom_width=OptionsInfo(scss=True, category='row_group', type='px', value='2px'), row_group_border_bottom_color=OptionsInfo(scss=True, category='row_group', type='value', value='#0076BA'), row_group_border_left_style=OptionsInfo(scss=True, category='row_group', type='value', value='none'), row_group_border_left_width=OptionsInfo(scss=True, category='row_group', type='px', value='1px'), row_group_border_left_color=OptionsInfo(scss=True, category='row_group', type='value', value='#D3D3D3'), row_group_as_column=OptionsInfo(scss=False, category='row_group', type='boolean', value=False), table_body_hlines_style=OptionsInfo(scss=True, category='table_body', type='value', value='none'), table_body_hlines_width=OptionsInfo(scss=True, category='table_body', type='px', value='1px'), table_body_hlines_color=OptionsInfo(scss=True, category='table_body', type='value', value='#89D3FE'), table_body_vlines_style=OptionsInfo(scss=True, category='table_body', type='value', value='none'), table_body_vlines_width=OptionsInfo(scss=True, category='table_body', type='px', value='1px'), table_body_vlines_color=OptionsInfo(scss=True, category='table_body', type='value', value='#89D3FE'), table_body_border_top_style=OptionsInfo(scss=True, category='table_body', type='value', value='solid'), table_body_border_top_width=OptionsInfo(scss=True, category='table_body', type='px', value='2px'), table_body_border_top_color=OptionsInfo(scss=True, category='table_body', type='value', value='#0076BA'), table_body_border_bottom_style=OptionsInfo(scss=True, category='table_body', type='value', value='solid'), table_body_border_bottom_width=OptionsInfo(scss=True, category='table_body', type='px', value='2px'), table_body_border_bottom_color=OptionsInfo(scss=True, category='table_body', type='value', value='#0076BA'), data_row_padding=OptionsInfo(scss=True, category='data_row', type='px', value='8px'), data_row_padding_horizontal=OptionsInfo(scss=True, category='data_row', type='px', value='5px'), stub_background_color=OptionsInfo(scss=True, category='stub', type='value', value='#0076BA'), stub_font_size=OptionsInfo(scss=True, category='stub', type='px', value='100%'), stub_font_weight=OptionsInfo(scss=True, category='stub', type='value', value='initial'), stub_text_transform=OptionsInfo(scss=True, category='stub', type='value', value='inherit'), stub_border_style=OptionsInfo(scss=True, category='stub', type='value', value='solid'), stub_border_width=OptionsInfo(scss=True, category='stub', type='px', value='2px'), stub_border_color=OptionsInfo(scss=True, category='stub', type='value', value='#0076BA'), stub_row_group_background_color=OptionsInfo(scss=True, category='stub', type='value', value=None), stub_row_group_font_size=OptionsInfo(scss=True, category='stub', type='px', value='100%'), stub_row_group_font_weight=OptionsInfo(scss=True, category='stub', type='value', value='initial'), stub_row_group_text_transform=OptionsInfo(scss=True, category='stub', type='value', value='inherit'), stub_row_group_border_style=OptionsInfo(scss=True, category='stub', type='value', value='solid'), stub_row_group_border_width=OptionsInfo(scss=True, category='stub', type='px', value='2px'), stub_row_group_border_color=OptionsInfo(scss=True, category='stub', type='value', value='#D3D3D3'), source_notes_padding=OptionsInfo(scss=True, category='source_notes', type='px', value='4px'), source_notes_padding_horizontal=OptionsInfo(scss=True, category='source_notes', type='px', value='5px'), source_notes_background_color=OptionsInfo(scss=True, category='source_notes', type='value', value=None), source_notes_font_size=OptionsInfo(scss=True, category='source_notes', type='px', value='90%'), source_notes_border_bottom_style=OptionsInfo(scss=True, category='source_notes', type='value', value='none'), source_notes_border_bottom_width=OptionsInfo(scss=True, category='source_notes', type='px', value='2px'), source_notes_border_bottom_color=OptionsInfo(scss=True, category='source_notes', type='value', value='#D3D3D3'), source_notes_border_lr_style=OptionsInfo(scss=True, category='source_notes', type='value', value='none'), source_notes_border_lr_width=OptionsInfo(scss=True, category='source_notes', type='px', value='2px'), source_notes_border_lr_color=OptionsInfo(scss=True, category='source_notes', type='value', value='#D3D3D3'), source_notes_multiline=OptionsInfo(scss=False, category='source_notes', type='boolean', value=True), source_notes_sep=OptionsInfo(scss=False, category='source_notes', type='value', value=' '), row_striping_background_color=OptionsInfo(scss=True, category='row', type='value', value='#F4F4F4'), row_striping_include_stub=OptionsInfo(scss=False, category='row', type='boolean', value=False), row_striping_include_table_body=OptionsInfo(scss=False, category='row', type='boolean', value=['True']), container_width=OptionsInfo(scss=False, category='container', type='px', value='auto'), container_height=OptionsInfo(scss=False, category='container', type='px', value='auto'), container_padding_x=OptionsInfo(scss=False, category='container', type='px', value='0px'), container_padding_y=OptionsInfo(scss=False, category='container', type='px', value='10px'), container_overflow_x=OptionsInfo(scss=False, category='container', type='overflow', value='auto'), container_overflow_y=OptionsInfo(scss=False, category='container', type='overflow', value='auto'), quarto_disable_processing=OptionsInfo(scss=False, category='quarto', type='logical', value=False), quarto_use_bootstrap=OptionsInfo(scss=False, category='quarto', type='logical', value=False)), _has_built=False)"
      ]
     },
     "execution_count": 11,
     "metadata": {},
     "output_type": "execute_result"
    }
   ],
   "source": [
    "# What is the distribution of the number of units purchased in each of the first 12 weeks?\n",
    "dist_table = (\n",
    "    CDNOW_master\n",
    "    .with_columns(((pl.col('PurchDay') - 1) // 7 + 1).alias('Week'))\n",
    "    .filter(pl.col('Week') <= 12)\n",
    "    .group_by('Week', 'CustID')\n",
    "    .agg(pl.col('Quant').sum())    \n",
    "    .sort('Week').collect()\n",
    "    .pivot(on='Week', index='Quant', values='Quant', aggregate_function='len')\n",
    "    .sort('Quant')\n",
    "    .fill_null(0)\n",
    "    .to_numpy().astype(np.int32)\n",
    ")\n",
    "TableOne = np.zeros((11,13), dtype=np.int32)\n",
    "TableOne[1:11,0] = dist_table[0:10,0]\n",
    "TableOne[1:10,1:] = dist_table[0:9,1:]\n",
    "TableOne[10,1:] = np.sum(dist_table[9:,1:], axis=0)\n",
    "TableOne[0,1:] = weeklytriers.collect()['Incremental Triers'].cum_sum() - np.sum(TableOne[1:,1:], axis=0)\n",
    "TableOne_df = pl.from_numpy(TableOne, schema=[str(i) for i in range(13)], orient='row').with_columns(pl.col('0').cast(pl.String))\n",
    "\n",
    "(\n",
    "    GT(TableOne_df, rowname_col='0')\n",
    "    .tab_header(title=\"Distribution of the Number of CDNOW Units Purchased\", subtitle='First 12 Weeks')\n",
    "    .tab_stubhead('Units Purchased')\n",
    "    .fmt_integer()\n",
    "    .tab_spanner(label='Week', columns=[str(i) for i in range(1, 13)])\n",
    "    .opt_stylize()\n",
    ")"
   ]
  },
  {
   "cell_type": "code",
   "execution_count": 12,
   "metadata": {},
   "outputs": [
    {
     "data": {
      "text/html": [
       "<div id=\"raymfpcgvi\" style=\"padding-left:0px;padding-right:0px;padding-top:10px;padding-bottom:10px;overflow-x:auto;overflow-y:auto;width:auto;height:auto;\">\n",
       "<style>\n",
       "#raymfpcgvi table {\n",
       "          font-family: -apple-system, BlinkMacSystemFont, 'Segoe UI', Roboto, Oxygen, Ubuntu, Cantarell, 'Helvetica Neue', 'Fira Sans', 'Droid Sans', Arial, sans-serif;\n",
       "          -webkit-font-smoothing: antialiased;\n",
       "          -moz-osx-font-smoothing: grayscale;\n",
       "        }\n",
       "\n",
       "#raymfpcgvi thead, tbody, tfoot, tr, td, th { border-style: none !important; }\n",
       " tr { background-color: transparent !important; }\n",
       "#raymfpcgvi p { margin: 0 !important; padding: 0 !important; }\n",
       " #raymfpcgvi .gt_table { display: table !important; border-collapse: collapse !important; line-height: normal !important; margin-left: auto !important; margin-right: auto !important; color: #333333 !important; font-size: 16px !important; font-weight: normal !important; font-style: normal !important; background-color: #FFFFFF !important; width: auto !important; border-top-style: solid !important; border-top-width: 2px !important; border-top-color: #004D80 !important; border-right-style: none !important; border-right-width: 2px !important; border-right-color: #D3D3D3 !important; border-bottom-style: solid !important; border-bottom-width: 2px !important; border-bottom-color: #004D80 !important; border-left-style: none !important; border-left-width: 2px !important; border-left-color: #D3D3D3 !important; }\n",
       " #raymfpcgvi .gt_caption { padding-top: 4px !important; padding-bottom: 4px !important; }\n",
       " #raymfpcgvi .gt_title { color: #333333 !important; font-size: 125% !important; font-weight: initial !important; padding-top: 4px !important; padding-bottom: 4px !important; padding-left: 5px !important; padding-right: 5px !important; border-bottom-color: #FFFFFF !important; border-bottom-width: 0 !important; }\n",
       " #raymfpcgvi .gt_subtitle { color: #333333 !important; font-size: 85% !important; font-weight: initial !important; padding-top: 3px !important; padding-bottom: 5px !important; padding-left: 5px !important; padding-right: 5px !important; border-top-color: #FFFFFF !important; border-top-width: 0 !important; }\n",
       " #raymfpcgvi .gt_heading { background-color: #FFFFFF !important; text-align: center !important; border-bottom-color: #FFFFFF !important; border-left-style: none !important; border-left-width: 1px !important; border-left-color: #D3D3D3 !important; border-right-style: none !important; border-right-width: 1px !important; border-right-color: #D3D3D3 !important; }\n",
       " #raymfpcgvi .gt_bottom_border { border-bottom-style: solid !important; border-bottom-width: 2px !important; border-bottom-color: #0076BA !important; }\n",
       " #raymfpcgvi .gt_col_headings { border-top-style: solid !important; border-top-width: 2px !important; border-top-color: #0076BA !important; border-bottom-style: solid !important; border-bottom-width: 2px !important; border-bottom-color: #0076BA !important; border-left-style: none !important; border-left-width: 1px !important; border-left-color: #D3D3D3 !important; border-right-style: none !important; border-right-width: 1px !important; border-right-color: #D3D3D3 !important; }\n",
       " #raymfpcgvi .gt_col_heading { color: #333333 !important; background-color: #FFFFFF !important; font-size: 100% !important; font-weight: normal !important; text-transform: inherit !important; border-left-style: none !important; border-left-width: 1px !important; border-left-color: #D3D3D3 !important; border-right-style: none !important; border-right-width: 1px !important; border-right-color: #D3D3D3 !important; vertical-align: bottom !important; padding-top: 5px !important; padding-bottom: 5px !important; padding-left: 5px !important; padding-right: 5px !important; overflow-x: hidden !important; }\n",
       " #raymfpcgvi .gt_column_spanner_outer { color: #333333 !important; background-color: #FFFFFF !important; font-size: 100% !important; font-weight: normal !important; text-transform: inherit !important; padding-top: 0 !important; padding-bottom: 0 !important; padding-left: 4px !important; padding-right: 4px !important; }\n",
       " #raymfpcgvi .gt_column_spanner_outer:first-child { padding-left: 0 !important; }\n",
       " #raymfpcgvi .gt_column_spanner_outer:last-child { padding-right: 0 !important; }\n",
       " #raymfpcgvi .gt_column_spanner { border-bottom-style: solid !important; border-bottom-width: 2px !important; border-bottom-color: #0076BA !important; vertical-align: bottom !important; padding-top: 5px !important; padding-bottom: 5px !important; overflow-x: hidden !important; display: inline-block !important; width: 100% !important; }\n",
       " #raymfpcgvi .gt_spanner_row { border-bottom-style: hidden !important; }\n",
       " #raymfpcgvi .gt_group_heading { padding-top: 8px !important; padding-bottom: 8px !important; padding-left: 5px !important; padding-right: 5px !important; color: #333333 !important; background-color: #FFFFFF !important; font-size: 100% !important; font-weight: initial !important; text-transform: inherit !important; border-top-style: solid !important; border-top-width: 2px !important; border-top-color: #0076BA !important; border-bottom-style: solid !important; border-bottom-width: 2px !important; border-bottom-color: #0076BA !important; border-left-style: none !important; border-left-width: 1px !important; border-left-color: #D3D3D3 !important; border-right-style: none !important; border-right-width: 1px !important; border-right-color: #D3D3D3 !important; vertical-align: middle !important; text-align: left !important; }\n",
       " #raymfpcgvi .gt_empty_group_heading { padding: 0.5px !important; color: #333333 !important; background-color: #FFFFFF !important; font-size: 100% !important; font-weight: initial !important; border-top-style: solid !important; border-top-width: 2px !important; border-top-color: #0076BA !important; border-bottom-style: solid !important; border-bottom-width: 2px !important; border-bottom-color: #0076BA !important; vertical-align: middle !important; }\n",
       " #raymfpcgvi .gt_from_md> :first-child { margin-top: 0 !important; }\n",
       " #raymfpcgvi .gt_from_md> :last-child { margin-bottom: 0 !important; }\n",
       " #raymfpcgvi .gt_row { padding-top: 8px !important; padding-bottom: 8px !important; padding-left: 5px !important; padding-right: 5px !important; margin: 10px !important; border-top-style: none !important; border-top-width: 1px !important; border-top-color: #89D3FE !important; border-left-style: none !important; border-left-width: 1px !important; border-left-color: #89D3FE !important; border-right-style: none !important; border-right-width: 1px !important; border-right-color: #89D3FE !important; vertical-align: middle !important; overflow-x: hidden !important; }\n",
       " #raymfpcgvi .gt_stub { color: #FFFFFF !important; background-color: #0076BA !important; font-size: 100% !important; font-weight: initial !important; text-transform: inherit !important; border-right-style: solid !important; border-right-width: 2px !important; border-right-color: #0076BA !important; padding-left: 5px !important; padding-right: 5px !important; }\n",
       " #raymfpcgvi .gt_stub_row_group { color: #333333 !important; background-color: #FFFFFF !important; font-size: 100% !important; font-weight: initial !important; text-transform: inherit !important; border-right-style: solid !important; border-right-width: 2px !important; border-right-color: #D3D3D3 !important; padding-left: 5px !important; padding-right: 5px !important; vertical-align: top !important; }\n",
       " #raymfpcgvi .gt_row_group_first td { border-top-width: 2px !important; }\n",
       " #raymfpcgvi .gt_row_group_first th { border-top-width: 2px !important; }\n",
       " #raymfpcgvi .gt_striped { background-color: #F4F4F4 !important; }\n",
       " #raymfpcgvi .gt_table_body { border-top-style: solid !important; border-top-width: 2px !important; border-top-color: #0076BA !important; border-bottom-style: solid !important; border-bottom-width: 2px !important; border-bottom-color: #0076BA !important; }\n",
       " #raymfpcgvi .gt_sourcenotes { color: #333333 !important; background-color: #FFFFFF !important; border-bottom-style: none !important; border-bottom-width: 2px !important; border-bottom-color: #D3D3D3 !important; border-left-style: none !important; border-left-width: 2px !important; border-left-color: #D3D3D3 !important; border-right-style: none !important; border-right-width: 2px !important; border-right-color: #D3D3D3 !important; }\n",
       " #raymfpcgvi .gt_sourcenote { font-size: 90% !important; padding-top: 4px !important; padding-bottom: 4px !important; padding-left: 5px !important; padding-right: 5px !important; text-align: left !important; }\n",
       " #raymfpcgvi .gt_left { text-align: left !important; }\n",
       " #raymfpcgvi .gt_center { text-align: center !important; }\n",
       " #raymfpcgvi .gt_right { text-align: right !important; font-variant-numeric: tabular-nums !important; }\n",
       " #raymfpcgvi .gt_font_normal { font-weight: normal !important; }\n",
       " #raymfpcgvi .gt_font_bold { font-weight: bold !important; }\n",
       " #raymfpcgvi .gt_font_italic { font-style: italic !important; }\n",
       " #raymfpcgvi .gt_super { font-size: 65% !important; }\n",
       " #raymfpcgvi .gt_footnote_marks { font-size: 75% !important; vertical-align: 0.4em !important; position: initial !important; }\n",
       " #raymfpcgvi .gt_asterisk { font-size: 100% !important; vertical-align: 0 !important; }\n",
       " \n",
       "</style>\n",
       "<table class=\"gt_table\" data-quarto-disable-processing=\"false\" data-quarto-bootstrap=\"false\">\n",
       "<thead>\n",
       "\n",
       "  <tr class=\"gt_heading\">\n",
       "    <td colspan=\"13\" class=\"gt_heading gt_title gt_font_normal\">Distribution of the Number of CDNOW Units Purchased</td>\n",
       "  </tr>\n",
       "  <tr class=\"gt_heading\">\n",
       "    <td colspan=\"13\" class=\"gt_heading gt_subtitle gt_font_normal gt_bottom_border\">First 12 Weeks</td>\n",
       "  </tr>\n",
       "<tr class=\"gt_col_headings gt_spanner_row\">\n",
       "  <th class=\"gt_col_heading gt_columns_bottom_border gt_left\" rowspan=\"2\" colspan=\"1\" scope=\"col\" id=\"Units Purchased\">Units Purchased</th>\n",
       "  <th class=\"gt_center gt_columns_top_border gt_column_spanner_outer\" rowspan=\"1\" colspan=\"12\" scope=\"colgroup\" id=\"Week\">\n",
       "    <span class=\"gt_column_spanner\">Week</span>\n",
       "  </th>\n",
       "</tr>\n",
       "<tr class=\"gt_col_headings\">\n",
       "  <th class=\"gt_col_heading gt_columns_bottom_border gt_center\" rowspan=\"1\" colspan=\"1\" scope=\"col\" id=\"1\">1</th>\n",
       "  <th class=\"gt_col_heading gt_columns_bottom_border gt_center\" rowspan=\"1\" colspan=\"1\" scope=\"col\" id=\"2\">2</th>\n",
       "  <th class=\"gt_col_heading gt_columns_bottom_border gt_center\" rowspan=\"1\" colspan=\"1\" scope=\"col\" id=\"3\">3</th>\n",
       "  <th class=\"gt_col_heading gt_columns_bottom_border gt_center\" rowspan=\"1\" colspan=\"1\" scope=\"col\" id=\"4\">4</th>\n",
       "  <th class=\"gt_col_heading gt_columns_bottom_border gt_center\" rowspan=\"1\" colspan=\"1\" scope=\"col\" id=\"5\">5</th>\n",
       "  <th class=\"gt_col_heading gt_columns_bottom_border gt_center\" rowspan=\"1\" colspan=\"1\" scope=\"col\" id=\"6\">6</th>\n",
       "  <th class=\"gt_col_heading gt_columns_bottom_border gt_center\" rowspan=\"1\" colspan=\"1\" scope=\"col\" id=\"7\">7</th>\n",
       "  <th class=\"gt_col_heading gt_columns_bottom_border gt_center\" rowspan=\"1\" colspan=\"1\" scope=\"col\" id=\"8\">8</th>\n",
       "  <th class=\"gt_col_heading gt_columns_bottom_border gt_center\" rowspan=\"1\" colspan=\"1\" scope=\"col\" id=\"9\">9</th>\n",
       "  <th class=\"gt_col_heading gt_columns_bottom_border gt_center\" rowspan=\"1\" colspan=\"1\" scope=\"col\" id=\"10\">10</th>\n",
       "  <th class=\"gt_col_heading gt_columns_bottom_border gt_center\" rowspan=\"1\" colspan=\"1\" scope=\"col\" id=\"11\">11</th>\n",
       "  <th class=\"gt_col_heading gt_columns_bottom_border gt_center\" rowspan=\"1\" colspan=\"1\" scope=\"col\" id=\"12\">12</th>\n",
       "</tr>\n",
       "</thead>\n",
       "<tbody class=\"gt_table_body\">\n",
       "  <tr>\n",
       "    <th class=\"gt_row gt_left gt_stub\">0</th>\n",
       "    <td class=\"gt_row gt_center\">0</td>\n",
       "    <td class=\"gt_row gt_center\">1,478</td>\n",
       "    <td class=\"gt_row gt_center\">3,033</td>\n",
       "    <td class=\"gt_row gt_center\">4,763</td>\n",
       "    <td class=\"gt_row gt_center\">6,608</td>\n",
       "    <td class=\"gt_row gt_center\">8,616</td>\n",
       "    <td class=\"gt_row gt_center\">10,829</td>\n",
       "    <td class=\"gt_row gt_center\">12,716</td>\n",
       "    <td class=\"gt_row gt_center\">14,698</td>\n",
       "    <td class=\"gt_row gt_center\">16,774</td>\n",
       "    <td class=\"gt_row gt_center\">18,881</td>\n",
       "    <td class=\"gt_row gt_center\">20,902</td>\n",
       "  </tr>\n",
       "  <tr>\n",
       "    <th class=\"gt_row gt_left gt_stub\">1</th>\n",
       "    <td class=\"gt_row gt_center gt_striped\">750</td>\n",
       "    <td class=\"gt_row gt_center gt_striped\">852</td>\n",
       "    <td class=\"gt_row gt_center gt_striped\">984</td>\n",
       "    <td class=\"gt_row gt_center gt_striped\">1,066</td>\n",
       "    <td class=\"gt_row gt_center gt_striped\">1,237</td>\n",
       "    <td class=\"gt_row gt_center gt_striped\">1,262</td>\n",
       "    <td class=\"gt_row gt_center gt_striped\">1,204</td>\n",
       "    <td class=\"gt_row gt_center gt_striped\">1,278</td>\n",
       "    <td class=\"gt_row gt_center gt_striped\">1,397</td>\n",
       "    <td class=\"gt_row gt_center gt_striped\">1,444</td>\n",
       "    <td class=\"gt_row gt_center gt_striped\">1,387</td>\n",
       "    <td class=\"gt_row gt_center gt_striped\">1,148</td>\n",
       "  </tr>\n",
       "  <tr>\n",
       "    <th class=\"gt_row gt_left gt_stub\">2</th>\n",
       "    <td class=\"gt_row gt_center\">383</td>\n",
       "    <td class=\"gt_row gt_center\">387</td>\n",
       "    <td class=\"gt_row gt_center\">456</td>\n",
       "    <td class=\"gt_row gt_center\">484</td>\n",
       "    <td class=\"gt_row gt_center\">566</td>\n",
       "    <td class=\"gt_row gt_center\">649</td>\n",
       "    <td class=\"gt_row gt_center\">592</td>\n",
       "    <td class=\"gt_row gt_center\">606</td>\n",
       "    <td class=\"gt_row gt_center\">644</td>\n",
       "    <td class=\"gt_row gt_center\">659</td>\n",
       "    <td class=\"gt_row gt_center\">677</td>\n",
       "    <td class=\"gt_row gt_center\">663</td>\n",
       "  </tr>\n",
       "  <tr>\n",
       "    <th class=\"gt_row gt_left gt_stub\">3</th>\n",
       "    <td class=\"gt_row gt_center gt_striped\">191</td>\n",
       "    <td class=\"gt_row gt_center gt_striped\">214</td>\n",
       "    <td class=\"gt_row gt_center gt_striped\">270</td>\n",
       "    <td class=\"gt_row gt_center gt_striped\">267</td>\n",
       "    <td class=\"gt_row gt_center gt_striped\">293</td>\n",
       "    <td class=\"gt_row gt_center gt_striped\">320</td>\n",
       "    <td class=\"gt_row gt_center gt_striped\">302</td>\n",
       "    <td class=\"gt_row gt_center gt_striped\">343</td>\n",
       "    <td class=\"gt_row gt_center gt_striped\">365</td>\n",
       "    <td class=\"gt_row gt_center gt_striped\">374</td>\n",
       "    <td class=\"gt_row gt_center gt_striped\">355</td>\n",
       "    <td class=\"gt_row gt_center gt_striped\">367</td>\n",
       "  </tr>\n",
       "  <tr>\n",
       "    <th class=\"gt_row gt_left gt_stub\">4</th>\n",
       "    <td class=\"gt_row gt_center\">95</td>\n",
       "    <td class=\"gt_row gt_center\">120</td>\n",
       "    <td class=\"gt_row gt_center\">114</td>\n",
       "    <td class=\"gt_row gt_center\">161</td>\n",
       "    <td class=\"gt_row gt_center\">163</td>\n",
       "    <td class=\"gt_row gt_center\">196</td>\n",
       "    <td class=\"gt_row gt_center\">156</td>\n",
       "    <td class=\"gt_row gt_center\">195</td>\n",
       "    <td class=\"gt_row gt_center\">179</td>\n",
       "    <td class=\"gt_row gt_center\">187</td>\n",
       "    <td class=\"gt_row gt_center\">199</td>\n",
       "    <td class=\"gt_row gt_center\">182</td>\n",
       "  </tr>\n",
       "  <tr>\n",
       "    <th class=\"gt_row gt_left gt_stub\">5</th>\n",
       "    <td class=\"gt_row gt_center gt_striped\">55</td>\n",
       "    <td class=\"gt_row gt_center gt_striped\">72</td>\n",
       "    <td class=\"gt_row gt_center gt_striped\">68</td>\n",
       "    <td class=\"gt_row gt_center gt_striped\">89</td>\n",
       "    <td class=\"gt_row gt_center gt_striped\">96</td>\n",
       "    <td class=\"gt_row gt_center gt_striped\">96</td>\n",
       "    <td class=\"gt_row gt_center gt_striped\">80</td>\n",
       "    <td class=\"gt_row gt_center gt_striped\">100</td>\n",
       "    <td class=\"gt_row gt_center gt_striped\">95</td>\n",
       "    <td class=\"gt_row gt_center gt_striped\">118</td>\n",
       "    <td class=\"gt_row gt_center gt_striped\">94</td>\n",
       "    <td class=\"gt_row gt_center gt_striped\">120</td>\n",
       "  </tr>\n",
       "  <tr>\n",
       "    <th class=\"gt_row gt_left gt_stub\">6</th>\n",
       "    <td class=\"gt_row gt_center\">36</td>\n",
       "    <td class=\"gt_row gt_center\">40</td>\n",
       "    <td class=\"gt_row gt_center\">42</td>\n",
       "    <td class=\"gt_row gt_center\">40</td>\n",
       "    <td class=\"gt_row gt_center\">51</td>\n",
       "    <td class=\"gt_row gt_center\">54</td>\n",
       "    <td class=\"gt_row gt_center\">65</td>\n",
       "    <td class=\"gt_row gt_center\">45</td>\n",
       "    <td class=\"gt_row gt_center\">75</td>\n",
       "    <td class=\"gt_row gt_center\">71</td>\n",
       "    <td class=\"gt_row gt_center\">72</td>\n",
       "    <td class=\"gt_row gt_center\">54</td>\n",
       "  </tr>\n",
       "  <tr>\n",
       "    <th class=\"gt_row gt_left gt_stub\">7</th>\n",
       "    <td class=\"gt_row gt_center gt_striped\">18</td>\n",
       "    <td class=\"gt_row gt_center gt_striped\">12</td>\n",
       "    <td class=\"gt_row gt_center gt_striped\">27</td>\n",
       "    <td class=\"gt_row gt_center gt_striped\">30</td>\n",
       "    <td class=\"gt_row gt_center gt_striped\">36</td>\n",
       "    <td class=\"gt_row gt_center gt_striped\">40</td>\n",
       "    <td class=\"gt_row gt_center gt_striped\">39</td>\n",
       "    <td class=\"gt_row gt_center gt_striped\">31</td>\n",
       "    <td class=\"gt_row gt_center gt_striped\">41</td>\n",
       "    <td class=\"gt_row gt_center gt_striped\">37</td>\n",
       "    <td class=\"gt_row gt_center gt_striped\">30</td>\n",
       "    <td class=\"gt_row gt_center gt_striped\">43</td>\n",
       "  </tr>\n",
       "  <tr>\n",
       "    <th class=\"gt_row gt_left gt_stub\">8</th>\n",
       "    <td class=\"gt_row gt_center\">12</td>\n",
       "    <td class=\"gt_row gt_center\">15</td>\n",
       "    <td class=\"gt_row gt_center\">9</td>\n",
       "    <td class=\"gt_row gt_center\">21</td>\n",
       "    <td class=\"gt_row gt_center\">19</td>\n",
       "    <td class=\"gt_row gt_center\">21</td>\n",
       "    <td class=\"gt_row gt_center\">20</td>\n",
       "    <td class=\"gt_row gt_center\">24</td>\n",
       "    <td class=\"gt_row gt_center\">23</td>\n",
       "    <td class=\"gt_row gt_center\">29</td>\n",
       "    <td class=\"gt_row gt_center\">24</td>\n",
       "    <td class=\"gt_row gt_center\">32</td>\n",
       "  </tr>\n",
       "  <tr>\n",
       "    <th class=\"gt_row gt_left gt_stub\">9</th>\n",
       "    <td class=\"gt_row gt_center gt_striped\">9</td>\n",
       "    <td class=\"gt_row gt_center gt_striped\">9</td>\n",
       "    <td class=\"gt_row gt_center gt_striped\">8</td>\n",
       "    <td class=\"gt_row gt_center gt_striped\">9</td>\n",
       "    <td class=\"gt_row gt_center gt_striped\">21</td>\n",
       "    <td class=\"gt_row gt_center gt_striped\">14</td>\n",
       "    <td class=\"gt_row gt_center gt_striped\">21</td>\n",
       "    <td class=\"gt_row gt_center gt_striped\">8</td>\n",
       "    <td class=\"gt_row gt_center gt_striped\">14</td>\n",
       "    <td class=\"gt_row gt_center gt_striped\">9</td>\n",
       "    <td class=\"gt_row gt_center gt_striped\">12</td>\n",
       "    <td class=\"gt_row gt_center gt_striped\">16</td>\n",
       "  </tr>\n",
       "  <tr>\n",
       "    <th class=\"gt_row gt_left gt_stub\">10</th>\n",
       "    <td class=\"gt_row gt_center\">25</td>\n",
       "    <td class=\"gt_row gt_center\">17</td>\n",
       "    <td class=\"gt_row gt_center\">27</td>\n",
       "    <td class=\"gt_row gt_center\">32</td>\n",
       "    <td class=\"gt_row gt_center\">36</td>\n",
       "    <td class=\"gt_row gt_center\">55</td>\n",
       "    <td class=\"gt_row gt_center\">39</td>\n",
       "    <td class=\"gt_row gt_center\">35</td>\n",
       "    <td class=\"gt_row gt_center\">48</td>\n",
       "    <td class=\"gt_row gt_center\">42</td>\n",
       "    <td class=\"gt_row gt_center\">50</td>\n",
       "    <td class=\"gt_row gt_center\">43</td>\n",
       "  </tr>\n",
       "</tbody>\n",
       "\n",
       "\n",
       "</table>\n",
       "\n",
       "</div>\n",
       "        "
      ],
      "text/plain": [
       "GT(_tbl_data=shape: (11, 13)\n",
       "┌───────┬─────┬──────┬──────┬───┬───────┬───────┬───────┬───────┐\n",
       "│ Quant ┆ 1   ┆ 2    ┆ 3    ┆ … ┆ 9     ┆ 10    ┆ 11    ┆ 12    │\n",
       "│ ---   ┆ --- ┆ ---  ┆ ---  ┆   ┆ ---   ┆ ---   ┆ ---   ┆ ---   │\n",
       "│ i32   ┆ u32 ┆ u32  ┆ u32  ┆   ┆ u32   ┆ u32   ┆ u32   ┆ u32   │\n",
       "╞═══════╪═════╪══════╪══════╪═══╪═══════╪═══════╪═══════╪═══════╡\n",
       "│ 0     ┆ 0   ┆ 1478 ┆ 3033 ┆ … ┆ 14698 ┆ 16774 ┆ 18881 ┆ 20902 │\n",
       "│ 1     ┆ 750 ┆ 852  ┆ 984  ┆ … ┆ 1397  ┆ 1444  ┆ 1387  ┆ 1148  │\n",
       "│ 2     ┆ 383 ┆ 387  ┆ 456  ┆ … ┆ 644   ┆ 659   ┆ 677   ┆ 663   │\n",
       "│ 3     ┆ 191 ┆ 214  ┆ 270  ┆ … ┆ 365   ┆ 374   ┆ 355   ┆ 367   │\n",
       "│ 4     ┆ 95  ┆ 120  ┆ 114  ┆ … ┆ 179   ┆ 187   ┆ 199   ┆ 182   │\n",
       "│ …     ┆ …   ┆ …    ┆ …    ┆ … ┆ …     ┆ …     ┆ …     ┆ …     │\n",
       "│ 6     ┆ 36  ┆ 40   ┆ 42   ┆ … ┆ 75    ┆ 71    ┆ 72    ┆ 54    │\n",
       "│ 7     ┆ 18  ┆ 12   ┆ 27   ┆ … ┆ 41    ┆ 37    ┆ 30    ┆ 43    │\n",
       "│ 8     ┆ 12  ┆ 15   ┆ 9    ┆ … ┆ 23    ┆ 29    ┆ 24    ┆ 32    │\n",
       "│ 9     ┆ 9   ┆ 9    ┆ 8    ┆ … ┆ 14    ┆ 9     ┆ 12    ┆ 16    │\n",
       "│ 10    ┆ 25  ┆ 17   ┆ 27   ┆ … ┆ 48    ┆ 42    ┆ 50    ┆ 43    │\n",
       "└───────┴─────┴──────┴──────┴───┴───────┴───────┴───────┴───────┘, _body=<great_tables._gt_data.Body object at 0x000002429AF63050>, _boxhead=Boxhead([ColInfo(var='Quant', type=<ColInfoTypeEnum.stub: 2>, column_label='Quant', column_align='right', column_width=None), ColInfo(var='1', type=<ColInfoTypeEnum.default: 1>, column_label='1', column_align='center', column_width=None), ColInfo(var='2', type=<ColInfoTypeEnum.default: 1>, column_label='2', column_align='center', column_width=None), ColInfo(var='3', type=<ColInfoTypeEnum.default: 1>, column_label='3', column_align='center', column_width=None), ColInfo(var='4', type=<ColInfoTypeEnum.default: 1>, column_label='4', column_align='center', column_width=None), ColInfo(var='5', type=<ColInfoTypeEnum.default: 1>, column_label='5', column_align='center', column_width=None), ColInfo(var='6', type=<ColInfoTypeEnum.default: 1>, column_label='6', column_align='center', column_width=None), ColInfo(var='7', type=<ColInfoTypeEnum.default: 1>, column_label='7', column_align='center', column_width=None), ColInfo(var='8', type=<ColInfoTypeEnum.default: 1>, column_label='8', column_align='center', column_width=None), ColInfo(var='9', type=<ColInfoTypeEnum.default: 1>, column_label='9', column_align='center', column_width=None), ColInfo(var='10', type=<ColInfoTypeEnum.default: 1>, column_label='10', column_align='center', column_width=None), ColInfo(var='11', type=<ColInfoTypeEnum.default: 1>, column_label='11', column_align='center', column_width=None), ColInfo(var='12', type=<ColInfoTypeEnum.default: 1>, column_label='12', column_align='center', column_width=None)]), _stub=<great_tables._gt_data.Stub object at 0x000002429AF62F90>, _spanners=Spanners([SpannerInfo(spanner_id='Week', spanner_level=0, spanner_label='Week', spanner_units=None, spanner_pattern=None, vars=['1', '2', '3', '4', '5', '6', '7', '8', '9', '10', '11', '12'], built=None)]), _heading=Heading(title='Distribution of the Number of CDNOW Units Purchased', subtitle='First 12 Weeks', preheader=None), _stubhead='Units Purchased', _source_notes=[], _footnotes=[], _styles=[], _locale=<great_tables._gt_data.Locale object at 0x000002429AF62060>, _formats=[<great_tables._gt_data.FormatInfo object at 0x000002429AF62C30>], _substitutions=[], _options=Options(table_id=OptionsInfo(scss=False, category='table', type='value', value=None), table_caption=OptionsInfo(scss=False, category='table', type='value', value=None), table_width=OptionsInfo(scss=True, category='table', type='px', value='auto'), table_layout=OptionsInfo(scss=True, category='table', type='value', value='fixed'), table_margin_left=OptionsInfo(scss=True, category='table', type='px', value='auto'), table_margin_right=OptionsInfo(scss=True, category='table', type='px', value='auto'), table_background_color=OptionsInfo(scss=True, category='table', type='value', value='#FFFFFF'), table_additional_css=OptionsInfo(scss=False, category='table', type='values', value=[]), table_font_names=OptionsInfo(scss=False, category='table', type='values', value=['-apple-system', 'BlinkMacSystemFont', 'Segoe UI', 'Roboto', 'Oxygen', 'Ubuntu', 'Cantarell', 'Helvetica Neue', 'Fira Sans', 'Droid Sans', 'Arial', 'sans-serif']), table_font_size=OptionsInfo(scss=True, category='table', type='px', value='16px'), table_font_weight=OptionsInfo(scss=True, category='table', type='value', value='normal'), table_font_style=OptionsInfo(scss=True, category='table', type='value', value='normal'), table_font_color=OptionsInfo(scss=True, category='table', type='value', value='#333333'), table_font_color_light=OptionsInfo(scss=True, category='table', type='value', value='#FFFFFF'), table_border_top_include=OptionsInfo(scss=False, category='table', type='boolean', value=True), table_border_top_style=OptionsInfo(scss=True, category='table', type='value', value='solid'), table_border_top_width=OptionsInfo(scss=True, category='table', type='px', value='2px'), table_border_top_color=OptionsInfo(scss=True, category='table', type='value', value='#004D80'), table_border_right_style=OptionsInfo(scss=True, category='table', type='value', value='none'), table_border_right_width=OptionsInfo(scss=True, category='table', type='px', value='2px'), table_border_right_color=OptionsInfo(scss=True, category='table', type='value', value='#D3D3D3'), table_border_bottom_include=OptionsInfo(scss=False, category='table', type='boolean', value=True), table_border_bottom_style=OptionsInfo(scss=True, category='table', type='value', value='solid'), table_border_bottom_width=OptionsInfo(scss=True, category='table', type='px', value='2px'), table_border_bottom_color=OptionsInfo(scss=True, category='table', type='value', value='#004D80'), table_border_left_style=OptionsInfo(scss=True, category='table', type='value', value='none'), table_border_left_width=OptionsInfo(scss=True, category='table', type='px', value='2px'), table_border_left_color=OptionsInfo(scss=True, category='table', type='value', value='#D3D3D3'), heading_background_color=OptionsInfo(scss=True, category='heading', type='value', value=None), heading_align=OptionsInfo(scss=True, category='heading', type='value', value='center'), heading_title_font_size=OptionsInfo(scss=True, category='heading', type='px', value='125%'), heading_title_font_weight=OptionsInfo(scss=True, category='heading', type='value', value='initial'), heading_subtitle_font_size=OptionsInfo(scss=True, category='heading', type='px', value='85%'), heading_subtitle_font_weight=OptionsInfo(scss=True, category='heading', type='value', value='initial'), heading_padding=OptionsInfo(scss=True, category='heading', type='px', value='4px'), heading_padding_horizontal=OptionsInfo(scss=True, category='heading', type='px', value='5px'), heading_border_bottom_style=OptionsInfo(scss=True, category='heading', type='value', value='solid'), heading_border_bottom_width=OptionsInfo(scss=True, category='heading', type='px', value='2px'), heading_border_bottom_color=OptionsInfo(scss=True, category='heading', type='value', value='#0076BA'), heading_border_lr_style=OptionsInfo(scss=True, category='heading', type='value', value='none'), heading_border_lr_width=OptionsInfo(scss=True, category='heading', type='px', value='1px'), heading_border_lr_color=OptionsInfo(scss=True, category='heading', type='value', value='#D3D3D3'), column_labels_background_color=OptionsInfo(scss=True, category='column_labels', type='value', value='#FFFFFF'), column_labels_font_size=OptionsInfo(scss=True, category='column_labels', type='px', value='100%'), column_labels_font_weight=OptionsInfo(scss=True, category='column_labels', type='value', value='normal'), column_labels_text_transform=OptionsInfo(scss=True, category='column_labels', type='value', value='inherit'), column_labels_padding=OptionsInfo(scss=True, category='column_labels', type='px', value='5px'), column_labels_padding_horizontal=OptionsInfo(scss=True, category='column_labels', type='px', value='5px'), column_labels_vlines_style=OptionsInfo(scss=True, category='table_body', type='value', value='none'), column_labels_vlines_width=OptionsInfo(scss=True, category='table_body', type='px', value='1px'), column_labels_vlines_color=OptionsInfo(scss=True, category='table_body', type='value', value='#D3D3D3'), column_labels_border_top_style=OptionsInfo(scss=True, category='column_labels', type='value', value='solid'), column_labels_border_top_width=OptionsInfo(scss=True, category='column_labels', type='px', value='2px'), column_labels_border_top_color=OptionsInfo(scss=True, category='column_labels', type='value', value='#0076BA'), column_labels_border_bottom_style=OptionsInfo(scss=True, category='column_labels', type='value', value='solid'), column_labels_border_bottom_width=OptionsInfo(scss=True, category='column_labels', type='px', value='2px'), column_labels_border_bottom_color=OptionsInfo(scss=True, category='column_labels', type='value', value='#0076BA'), column_labels_border_lr_style=OptionsInfo(scss=True, category='column_labels', type='value', value='none'), column_labels_border_lr_width=OptionsInfo(scss=True, category='column_labels', type='px', value='1px'), column_labels_border_lr_color=OptionsInfo(scss=True, category='column_labels', type='value', value='#D3D3D3'), column_labels_hidden=OptionsInfo(scss=False, category='column_labels', type='boolean', value=False), row_group_background_color=OptionsInfo(scss=True, category='row_group', type='value', value=None), row_group_font_size=OptionsInfo(scss=True, category='row_group', type='px', value='100%'), row_group_font_weight=OptionsInfo(scss=True, category='row_group', type='value', value='initial'), row_group_text_transform=OptionsInfo(scss=True, category='row_group', type='value', value='inherit'), row_group_padding=OptionsInfo(scss=True, category='row_group', type='px', value='8px'), row_group_padding_horizontal=OptionsInfo(scss=True, category='row_group', type='px', value='5px'), row_group_border_top_style=OptionsInfo(scss=True, category='row_group', type='value', value='solid'), row_group_border_top_width=OptionsInfo(scss=True, category='row_group', type='px', value='2px'), row_group_border_top_color=OptionsInfo(scss=True, category='row_group', type='value', value='#0076BA'), row_group_border_right_style=OptionsInfo(scss=True, category='row_group', type='value', value='none'), row_group_border_right_width=OptionsInfo(scss=True, category='row_group', type='px', value='1px'), row_group_border_right_color=OptionsInfo(scss=True, category='row_group', type='value', value='#D3D3D3'), row_group_border_bottom_style=OptionsInfo(scss=True, category='row_group', type='value', value='solid'), row_group_border_bottom_width=OptionsInfo(scss=True, category='row_group', type='px', value='2px'), row_group_border_bottom_color=OptionsInfo(scss=True, category='row_group', type='value', value='#0076BA'), row_group_border_left_style=OptionsInfo(scss=True, category='row_group', type='value', value='none'), row_group_border_left_width=OptionsInfo(scss=True, category='row_group', type='px', value='1px'), row_group_border_left_color=OptionsInfo(scss=True, category='row_group', type='value', value='#D3D3D3'), row_group_as_column=OptionsInfo(scss=False, category='row_group', type='boolean', value=False), table_body_hlines_style=OptionsInfo(scss=True, category='table_body', type='value', value='none'), table_body_hlines_width=OptionsInfo(scss=True, category='table_body', type='px', value='1px'), table_body_hlines_color=OptionsInfo(scss=True, category='table_body', type='value', value='#89D3FE'), table_body_vlines_style=OptionsInfo(scss=True, category='table_body', type='value', value='none'), table_body_vlines_width=OptionsInfo(scss=True, category='table_body', type='px', value='1px'), table_body_vlines_color=OptionsInfo(scss=True, category='table_body', type='value', value='#89D3FE'), table_body_border_top_style=OptionsInfo(scss=True, category='table_body', type='value', value='solid'), table_body_border_top_width=OptionsInfo(scss=True, category='table_body', type='px', value='2px'), table_body_border_top_color=OptionsInfo(scss=True, category='table_body', type='value', value='#0076BA'), table_body_border_bottom_style=OptionsInfo(scss=True, category='table_body', type='value', value='solid'), table_body_border_bottom_width=OptionsInfo(scss=True, category='table_body', type='px', value='2px'), table_body_border_bottom_color=OptionsInfo(scss=True, category='table_body', type='value', value='#0076BA'), data_row_padding=OptionsInfo(scss=True, category='data_row', type='px', value='8px'), data_row_padding_horizontal=OptionsInfo(scss=True, category='data_row', type='px', value='5px'), stub_background_color=OptionsInfo(scss=True, category='stub', type='value', value='#0076BA'), stub_font_size=OptionsInfo(scss=True, category='stub', type='px', value='100%'), stub_font_weight=OptionsInfo(scss=True, category='stub', type='value', value='initial'), stub_text_transform=OptionsInfo(scss=True, category='stub', type='value', value='inherit'), stub_border_style=OptionsInfo(scss=True, category='stub', type='value', value='solid'), stub_border_width=OptionsInfo(scss=True, category='stub', type='px', value='2px'), stub_border_color=OptionsInfo(scss=True, category='stub', type='value', value='#0076BA'), stub_row_group_background_color=OptionsInfo(scss=True, category='stub', type='value', value=None), stub_row_group_font_size=OptionsInfo(scss=True, category='stub', type='px', value='100%'), stub_row_group_font_weight=OptionsInfo(scss=True, category='stub', type='value', value='initial'), stub_row_group_text_transform=OptionsInfo(scss=True, category='stub', type='value', value='inherit'), stub_row_group_border_style=OptionsInfo(scss=True, category='stub', type='value', value='solid'), stub_row_group_border_width=OptionsInfo(scss=True, category='stub', type='px', value='2px'), stub_row_group_border_color=OptionsInfo(scss=True, category='stub', type='value', value='#D3D3D3'), source_notes_padding=OptionsInfo(scss=True, category='source_notes', type='px', value='4px'), source_notes_padding_horizontal=OptionsInfo(scss=True, category='source_notes', type='px', value='5px'), source_notes_background_color=OptionsInfo(scss=True, category='source_notes', type='value', value=None), source_notes_font_size=OptionsInfo(scss=True, category='source_notes', type='px', value='90%'), source_notes_border_bottom_style=OptionsInfo(scss=True, category='source_notes', type='value', value='none'), source_notes_border_bottom_width=OptionsInfo(scss=True, category='source_notes', type='px', value='2px'), source_notes_border_bottom_color=OptionsInfo(scss=True, category='source_notes', type='value', value='#D3D3D3'), source_notes_border_lr_style=OptionsInfo(scss=True, category='source_notes', type='value', value='none'), source_notes_border_lr_width=OptionsInfo(scss=True, category='source_notes', type='px', value='2px'), source_notes_border_lr_color=OptionsInfo(scss=True, category='source_notes', type='value', value='#D3D3D3'), source_notes_multiline=OptionsInfo(scss=False, category='source_notes', type='boolean', value=True), source_notes_sep=OptionsInfo(scss=False, category='source_notes', type='value', value=' '), row_striping_background_color=OptionsInfo(scss=True, category='row', type='value', value='#F4F4F4'), row_striping_include_stub=OptionsInfo(scss=False, category='row', type='boolean', value=False), row_striping_include_table_body=OptionsInfo(scss=False, category='row', type='boolean', value=['True']), container_width=OptionsInfo(scss=False, category='container', type='px', value='auto'), container_height=OptionsInfo(scss=False, category='container', type='px', value='auto'), container_padding_x=OptionsInfo(scss=False, category='container', type='px', value='0px'), container_padding_y=OptionsInfo(scss=False, category='container', type='px', value='10px'), container_overflow_x=OptionsInfo(scss=False, category='container', type='overflow', value='auto'), container_overflow_y=OptionsInfo(scss=False, category='container', type='overflow', value='auto'), quarto_disable_processing=OptionsInfo(scss=False, category='quarto', type='logical', value=False), quarto_use_bootstrap=OptionsInfo(scss=False, category='quarto', type='logical', value=False)), _has_built=False)"
      ]
     },
     "execution_count": 12,
     "metadata": {},
     "output_type": "execute_result"
    }
   ],
   "source": [
    "dist_table = (\n",
    "    CDNOW_master\n",
    "    .with_columns(((pl.col('PurchDay') - 1) // 7 + 1).alias('Week'))  \n",
    "    .filter(pl.col('Week') <= 12)  \n",
    "    .group_by('CustID', 'Week')\n",
    "    .agg(pl.col('Quant').cast(pl.Int32).sum()) # Sum quantity purchased by each customer within each week \n",
    "    .group_by('Week', 'Quant')\n",
    "    .agg(pl.col('CustID').len().alias('Count'))\n",
    "    .sort('Quant')\n",
    "    .collect()\n",
    ")\n",
    "\n",
    "dist_table_10_plus = (\n",
    "    dist_table.filter(pl.col('Quant') >= 10)\n",
    "    .group_by('Week')\n",
    "    .agg(pl.col('Count').sum())\n",
    "    .sort('Week')\n",
    "    .with_columns(pl.lit(10).alias('Quant'))\n",
    "    .select('Week', 'Quant', 'Count')\n",
    ")\n",
    "\n",
    "dist_table_1 = dist_table.filter(pl.col('Quant') < 10).vstack(dist_table_10_plus)\n",
    "\n",
    "cumweeklytriers = (\n",
    "    weeklytriers.collect()\n",
    "    .with_columns(pl.col('Incremental Triers').cum_sum())\n",
    "    .join(dist_table_1.group_by('Week').agg(pl.col('Count').sum()), on='Week', how='left')\n",
    "    .with_columns((pl.col('Incremental Triers') - pl.col('Count')).alias('Count'))\n",
    "    .with_columns(pl.lit(0).alias('Quant')).select('Week', 'Quant', 'Count')\n",
    ")\n",
    "\n",
    "TableOne = (\n",
    "    dist_table_1.vstack(cumweeklytriers).sort('Week', 'Quant')\n",
    "    .pivot(on='Week', index='Quant', values='Count')\n",
    ")\n",
    "\n",
    "(\n",
    "    GT(TableOne, rowname_col='Quant')\n",
    "    .tab_header(title=\"Distribution of the Number of CDNOW Units Purchased\", subtitle='First 12 Weeks')\n",
    "    .tab_stubhead('Units Purchased')\n",
    "    .fmt_integer()\n",
    "    .tab_spanner(label='Week', columns=[str(i) for i in range(1, 13)])\n",
    "    .opt_stylize()\n",
    ")"
   ]
  },
  {
   "cell_type": "markdown",
   "metadata": {},
   "source": [
    "Week 1 Trial Model"
   ]
  },
  {
   "cell_type": "markdown",
   "metadata": {},
   "source": [
    "As a refresher (or primer) on estimating the parameters of a basic probability model using SciPy, let us consider fitting the trial submodel to the week 1 data. The column of data in `TableOne` corresponding to week 1 presents *trial-week-only* purchases by a group of 1574 customers. Our goal is to fit the following shifted beta-geometric model to these data:\n",
    "\n",
    "$$\n",
    "\\begin{aligned}\n",
    "P(T_{w} = x) &= \\int^{1}_{0}P(T_{w} = x \\mid q_{T})g(q_{T})dq_{T} \\\\\n",
    "             &=\\begin{cases}\n",
    "               \\frac{B(\\alpha_{T} + 1,\\beta_{T} + x - 1)}{B(\\alpha_{T}+1,\\beta_{T})} &\\quad x=1,2,\\ldots \\\\\n",
    "                0 &\\quad x=0 \\\\\n",
    "                \\end{cases}\n",
    "\\end{aligned}\n",
    "$$\n",
    "\n",
    "The shifted beta-geometric probabilities can be computed by recursion using the expressions:\n",
    "\n",
    "$$\n",
    "\\begin{aligned}\n",
    "P(T_{w} = x) &= \\begin{cases}\n",
    "                    0 &\\quad x=0 \\\\\n",
    "                    \\frac{\\alpha_{T}}{\\alpha_{T} + \\beta_{T}} &\\quad x=1\\\\\n",
    "                    \\frac{\\beta_{T} + x - 2}{\\alpha_{T} + \\beta_{T} + x -1} P(T_{w}=x-1) &\\quad x\\ge 2 \\\\\n",
    "                \\end{cases}\n",
    "\\end{aligned}\n",
    "$$\n",
    "\n",
    "The probability of making 10+ purchases in a trial week is simply:\n",
    "\n",
    "$$1-\\sum^{9}_{x=1}P(T_{1}=x)$$\n",
    "\n",
    "The shifted beta-geometric model has two parameters, $\\alpha_{T}$ and $\\beta_{T}$ . Maximum likelihood estimates of these two model parameters are found by maximizing the following log-likelihood function: \n",
    "\n",
    "$$LL=\\sum^{9}_{x=1}n_{1x}\\ln\\left[P(T_{1}=x)\\right]+\\left(n_{1}-\\sum^{9}_{x=1}n_{1x}\\right)\\ln\\left[1-\\sum^{9}_{x=1}P(T_{1}=x)\\right]$$\n",
    "\n",
    "Where $n_{1}$ is the total number of triers in week 1 (1574) and $n_{1x}$ is the number of people making $x$ purchases in week 1."
   ]
  },
  {
   "cell_type": "code",
   "execution_count": 13,
   "metadata": {},
   "outputs": [],
   "source": [
    "def trial_parameters(n1x, guess=[1,1]):\n",
    "    \n",
    "    def log_likelihood(x):\n",
    "        alpha_T, beta_T = x[0], x[1]\n",
    "        \n",
    "        # Shifted beta-geometric probabilities of making x purchases\n",
    "        p_t_1x = np.zeros(n1x.shape)\n",
    "        p_t_1x[0], p_t_1x[1] = 0, alpha_T / (alpha_T + beta_T)\n",
    "        x = np.arange(2, len(n1x)-1)\n",
    "        p_t_1x[2:len(n1x)-1] = (beta_T + x - 2) / (alpha_T + beta_T + x - 1)\n",
    "        p_t_1x[1:len(n1x)-1] = np.cumprod(p_t_1x[1:len(n1x)-1])\n",
    "        p_t_1x[-1] = 1 - np.sum(p_t_1x[:-1])     \n",
    "          \n",
    "        return -np.sum(np.log(p_t_1x, where=p_t_1x != 0) * n1x) \n",
    "    \n",
    "    return minimize(log_likelihood, guess, bounds=[(0, np.inf), (0, np.inf)])"
   ]
  },
  {
   "cell_type": "code",
   "execution_count": 14,
   "metadata": {},
   "outputs": [
    {
     "data": {
      "text/markdown": [
       "$\\alpha_{T}$ = 5.9117\n",
       "\n",
       "$\\beta_{T}$ = 6.2832\n",
       "\n",
       "Log-Likelihood = -2378.0156"
      ]
     },
     "metadata": {},
     "output_type": "display_data"
    }
   ],
   "source": [
    "n1x = TableOne['1'].to_numpy()\n",
    "\n",
    "result = trial_parameters(n1x)\n",
    "alpha_T, beta_T, ll = result.x[0], result.x[1], result.fun\n",
    "\n",
    "w1_alpha_T, w1_beta_T = alpha_T, beta_T\n",
    "\n",
    "display_markdown(f'''$\\\\alpha_{{T}}$ = {alpha_T:0.4f}\n",
    "\n",
    "$\\\\beta_{{T}}$ = {beta_T:0.4f}\n",
    "\n",
    "Log-Likelihood = {-ll:0.4f}''', raw=True)"
   ]
  },
  {
   "cell_type": "markdown",
   "metadata": {},
   "source": [
    "Chi-Squared Goodness of Fit Test"
   ]
  },
  {
   "cell_type": "markdown",
   "metadata": {},
   "source": [
    "We first have to compute the expected number of people buying $1, 2, \\ldots , 9, 10+$ units in their trial week. We have:\n",
    "\n",
    "$$E(n_{1x})=1574\\times P(T_{1}=x)$$\n",
    "\n",
    "The chi-squared goodness of fit test statistic is computed as:\n",
    "\n",
    "$$\\chi^{2}=\\sum^{10+}_{x=1}\\frac{\\left[n_{1x}-E(n_{1x})\\right]^{2}}{E(n_{1x})}$$"
   ]
  },
  {
   "cell_type": "code",
   "execution_count": 15,
   "metadata": {},
   "outputs": [
    {
     "data": {
      "text/markdown": [
       "$E_{n_{1x}}$ = [763.  363.3 186.4 101.6  58.3  34.8  21.6  13.8   9.1  22. ]\n",
       "\n",
       "$\\chi^{2}$ = 3.3117\n",
       "\n",
       "Degrees of freedom = 7\n",
       "\n",
       "Critical Value = 14.0671"
      ]
     },
     "metadata": {},
     "output_type": "display_data"
    }
   ],
   "source": [
    "p_t_1x = np.zeros(n1x.shape)\n",
    "p_t_1x[0], p_t_1x[1] = 0, alpha_T / (alpha_T + beta_T)\n",
    "x = np.arange(2, len(n1x)-1)\n",
    "p_t_1x[2:len(n1x)-1] = (beta_T + x - 2) / (alpha_T + beta_T + x - 1)\n",
    "p_t_1x[1:len(n1x)-1] = np.cumprod(p_t_1x[1:len(n1x)-1])\n",
    "p_t_1x[-1] = 1 - np.sum(p_t_1x[:-1])     \n",
    "\n",
    "n1 = weeklytriers.filter(pl.col('Week') == 1).select('Incremental Triers').collect().item(0,0) \n",
    "E_n1x = p_t_1x * n1\n",
    "chi_square = np.sum(np.divide((n1x - E_n1x)**2, E_n1x, where=E_n1x != 0))\n",
    "\n",
    "df = 7\n",
    "critical_value = chi2.ppf(0.95, df=df)\n",
    "\n",
    "display_markdown(f'''$E_{{n_{{1x}}}}$ = {np.round(E_n1x[1:],1)}\n",
    "\n",
    "$\\\\chi^{{2}}$ = {chi_square:0.4f}\n",
    "\n",
    "Degrees of freedom = {df}\n",
    "\n",
    "Critical Value = {critical_value:0.4f}''', raw=True)"
   ]
  },
  {
   "cell_type": "markdown",
   "metadata": {},
   "source": [
    "As the value of the sample test statistic is less than the critical value, we conclude that the shifted beta-geometric distribution adequately fits the data."
   ]
  },
  {
   "cell_type": "code",
   "execution_count": 16,
   "metadata": {},
   "outputs": [
    {
     "data": {
      "application/vnd.vegalite.v5+json": {
       "$schema": "https://vega.github.io/schema/vega-lite/v5.20.1.json",
       "config": {
        "axisX": {
         "grid": false
        },
        "axisY": {
         "grid": false
        },
        "view": {
         "continuousHeight": 300,
         "continuousWidth": 300,
         "stroke": null
        }
       },
       "data": {
        "name": "data-5cd39c8e2a16f7df7607e9517ba12ba4"
       },
       "datasets": {
        "data-5cd39c8e2a16f7df7607e9517ba12ba4": [
         {
          "Frequency": 750,
          "Legend": "Observed",
          "Number of Units Purchased": 1
         },
         {
          "Frequency": 383,
          "Legend": "Observed",
          "Number of Units Purchased": 2
         },
         {
          "Frequency": 191,
          "Legend": "Observed",
          "Number of Units Purchased": 3
         },
         {
          "Frequency": 95,
          "Legend": "Observed",
          "Number of Units Purchased": 4
         },
         {
          "Frequency": 55,
          "Legend": "Observed",
          "Number of Units Purchased": 5
         },
         {
          "Frequency": 36,
          "Legend": "Observed",
          "Number of Units Purchased": 6
         },
         {
          "Frequency": 18,
          "Legend": "Observed",
          "Number of Units Purchased": 7
         },
         {
          "Frequency": 12,
          "Legend": "Observed",
          "Number of Units Purchased": 8
         },
         {
          "Frequency": 9,
          "Legend": "Observed",
          "Number of Units Purchased": 9
         },
         {
          "Frequency": 25,
          "Legend": "Observed",
          "Number of Units Purchased": 10
         },
         {
          "Frequency": 763.0237038971262,
          "Legend": "Expected",
          "Number of Units Purchased": 1
         },
         {
          "Frequency": 363.3403276194521,
          "Legend": "Expected",
          "Number of Units Purchased": 2
         },
         {
          "Frequency": 186.42501442010013,
          "Legend": "Expected",
          "Number of Units Purchased": 3
         },
         {
          "Frequency": 101.62605962102018,
          "Legend": "Expected",
          "Number of Units Purchased": 4
         },
         {
          "Frequency": 58.25390702678599,
          "Legend": "Expected",
          "Number of Units Purchased": 5
         },
         {
          "Frequency": 34.83807654810896,
          "Legend": "Expected",
          "Number of Units Purchased": 6
         },
         {
          "Frequency": 21.604151885827772,
          "Legend": "Expected",
          "Number of Units Purchased": 7
         },
         {
          "Frequency": 13.824941260669352,
          "Legend": "Expected",
          "Number of Units Purchased": 8
         },
         {
          "Frequency": 9.093366020385345,
          "Legend": "Expected",
          "Number of Units Purchased": 9
         },
         {
          "Frequency": 21.97045170052409,
          "Legend": "Expected",
          "Number of Units Purchased": 10
         }
        ]
       },
       "encoding": {
        "color": {
         "field": "Legend",
         "type": "nominal"
        },
        "x": {
         "axis": {
          "labelAngle": 0
         },
         "field": "Number of Units Purchased",
         "type": "ordinal"
        },
        "xOffset": {
         "field": "Legend",
         "type": "nominal"
        },
        "y": {
         "field": "Frequency",
         "type": "quantitative"
        }
       },
       "height": 250,
       "mark": {
        "type": "bar"
       },
       "title": "Fit of Week 1 Trial Model",
       "width": 650
      },
      "text/plain": [
       "<VegaLite 5 object>\n",
       "\n",
       "If you see this message, it means the renderer has not been properly enabled\n",
       "for the frontend that you are using. For more information, see\n",
       "https://altair-viz.github.io/user_guide/display_frontends.html#troubleshooting\n"
      ]
     },
     "execution_count": 16,
     "metadata": {},
     "output_type": "execute_result"
    }
   ],
   "source": [
    "w1_trial_df = pl.DataFrame({'Number of Units Purchased':np.arange(1,11), 'Observed': n1x[1:], 'Expected': E_n1x[1:]})\n",
    "w1_trial_df = w1_trial_df.unpivot(on=['Observed', 'Expected'], index='Number of Units Purchased', variable_name='Legend' , value_name='Frequency')\n",
    "\n",
    "ChartTemp(w1_trial_df).mark_bar().encode(\n",
    "    x=alt.X('Number of Units Purchased:O', axis=alt.Axis(labelAngle=0)),\n",
    "    y='Frequency:Q',\n",
    "    color='Legend:N',\n",
    "    xOffset='Legend:N'\n",
    ").line_prop('Fit of Week 1 Trial Model')"
   ]
  },
  {
   "cell_type": "markdown",
   "metadata": {},
   "source": [
    "Calibrating the Full Model"
   ]
  },
  {
   "cell_type": "markdown",
   "metadata": {},
   "source": [
    "We now turn our attention to the task of estimating the parameters of the full model. Our goal is to construct the following log-likelihood function:\n",
    "\n",
    "$$\n",
    "\\begin{align*}\n",
    "LL= & \\sum^{9}_{x=1}n_{1x}\\ln\\left[P(T_{1}=x)\\right]+\\left(n_{1}-\\sum^{9}_{x=1}n_{1x}\\right)\\ln\\left[1-\\sum^{9}_{x=1}P(T_{1}=x)\\right] + \\\\\n",
    "& \\sum^{12}_{w=2} \\Biggl\\{\\sum^{9}_{x=0}n_{wx} \\ln[P(X_{w}=x)] + \\left(n_{w} - \\sum^{9}_{x=0}n_{wx}\\right) \\ln\\left[1-\\sum^{9}_{x=0}P(X_{w}=x)\\right] \\Biggr\\}\n",
    "\\end{align*}\n",
    "$$\n",
    "\n",
    "where $n_{wx}$ is the number of people making $x$ purchases in week $w$.\n",
    "\n",
    "At the heart of this log-likelihood function is $P(X_{w} = x)$, the probability that an eligible customer purchases $x$ units in week $w$, as given in the equation:\n",
    "\n",
    "$$P(X_{w} = x)=\\frac{1}{\\sum^{w}_{i=1}n_{i}} \\Biggl[n_{w}P(T_{w}=x) + \\sum^{w-1}_{i=1}n_{i}P(R_{w\\mid i}=x)\\Biggr]$$\n",
    "\n",
    "The aggregate distribution of the number of units purchased in week $w$ by a week $i$ trialist $(w \\gt i)$ is given by:\n",
    "\n",
    "$$\n",
    "\\begin{align*}\n",
    "P(R_{w \\mid i} = x) &= \\delta_{x=0} \\pi_{w \\mid i} + (1 - \\pi_{w \\mid i}) \\int_0^1 P(R_w = x \\mid q_R) g(q_R) \\, dq_R \\\\\n",
    "&= \\delta_{x=0} \\pi_{w \\mid i} + (1 - \\pi_{w \\mid i}) \\frac{B(\\alpha_R + 1, \\beta_R + x)}{B(\\alpha_R, \\beta_R)},\n",
    "\\end{align*}\n",
    "$$\n",
    "\n",
    "where $\\delta_{x=0}$, the Kronecker delta, equals $1$ if $x = 0$, and $0$ otherwise. We call this the \"time-dependent, zero-inflated beta-geometric\" distribution.\n",
    "\n",
    "Probabilities associated with the \"time dependent, zero-inflated beta-geometric\" distribution can be computed using the following forward recursive relationship:\n",
    "\n",
    "$$\n",
    "P(R_{w \\mid i} = x) =\n",
    "\\begin{cases}\n",
    "1 - \\gamma(w - i)^\\delta \\left( \\frac{\\beta_R}{\\alpha_R + \\beta_R} \\right), & x = 0 \\\\[10pt]\n",
    "\\gamma(w - i)^\\delta \\frac{\\alpha_R \\beta_R}{(\\alpha_R + \\beta_R)(\\alpha_R + \\beta_R + 1)}, & x = 1 \\\\[10pt]\n",
    "\\frac{\\beta_R + x - 1}{\\alpha_R + \\beta_R + x} P(R_{w \\mid i} = x - 1), & x \\geq 2\n",
    "\\end{cases}\n",
    "$$\n",
    "\n",
    "However, rather than directly use the recursive relationship given in the equation above, we take the following apporach. We first compute the probability that a week 1 trier is a \"possible repeat buyer\" in weeks 2-12 using $\\gamma(w-1)^{\\delta}$.\n",
    "\n",
    "Next we need to create the expressions for the beta-geometric probabilities of making $x$ purchases $(x = 0, 1, \\ldots , 9, 10+)$, given $\\alpha_R$ and $\\beta_R$, for someone who is a “possible repeat buyer”. The beta-geometric probabilities can be computed using the following recursive relationship:\n",
    "\n",
    "$$\n",
    "P(R = x \\mid \\text{possible repeat buyer}) =\n",
    "\\begin{cases}\n",
    "\\frac{\\alpha_R}{\\alpha_R + \\beta_R}, & x = 0 \\\\[10pt]\n",
    "\\frac{\\beta_R + x - 1}{\\alpha_R + \\beta_R + x} P(R = x - 1), & x \\ge 1 \\\\[10pt]\n",
    "\\end{cases}\n",
    "$$\n",
    "\n",
    "The probability of a \"possible repeat buyer\" making 10+ purchases is simply $1 - \\sum^{9}_{x=0} P(R=x)$.\n",
    "\n",
    "As the sample data are in the form of a table documenting the number of people purchasing $0, 1, \\ldots , 9, 10+$ units (CDs) for each of the 12 weeks, we need to create a table that gives us $P(X_w = x), x = 0, 1, \\ldots , 9, 10+$ and $w = 1, 2, \\ldots 12$, given values of the six model parameters $(\\alpha_T, \\beta_T, \\alpha_R, \\beta_R, \\gamma, \\delta)$."
   ]
  },
  {
   "cell_type": "markdown",
   "metadata": {},
   "source": [
    "We see that $P(X_w = x)$ is simply a weighted average of the week-of-trial-specific probabilities of purchasing $x$ units in week $w$. As an intermediate step, we build twelve tables that give us the probability of purchasing $x$ units in week $w$, one for each trial week. These will then be aggregated and the log-likelihood created."
   ]
  },
  {
   "cell_type": "code",
   "execution_count": 17,
   "metadata": {},
   "outputs": [],
   "source": [
    "def bg_parameters(distMAT, weeks, units_range, incr_triers, guesses=[0.01,0.01,0.01,0.01,0.01,0]):\n",
    "    \n",
    "    def log_likelihood(x):\n",
    "        alpha_T, beta_T, alpha_R, beta_R, gamma, delta = x\n",
    "        \n",
    "        # Weekly P(possible repeat buyer)\n",
    "        weekly_p_repeat = gamma * (weeks[1:] - 1)**delta\n",
    "        \n",
    "        # Distribution of repeat purchase volume (given possible repeat buyer)\n",
    "        p_dist_repeat = np.zeros(units_range.shape)\n",
    "        p_dist_repeat[0] = alpha_R / (alpha_R + beta_R)\n",
    "        p_dist_repeat[1:-1] = (beta_R + units_range[1:-1] - 1) / (alpha_R + beta_R + units_range[1:-1])\n",
    "        p_dist_repeat = np.cumprod(p_dist_repeat)\n",
    "        p_dist_repeat[-1] = 1 - np.sum(p_dist_repeat[:-1])\n",
    "\n",
    "        # Week n Triers\n",
    "        w_n_triers = p_dist_repeat.reshape(-1,1) * np.append([0], weekly_p_repeat)\n",
    "        w_n_triers[0,1:] =  1 -  weekly_p_repeat + weekly_p_repeat * p_dist_repeat[0]\n",
    "        w_n_triers[1,0] = alpha_T / (alpha_T + beta_T)\n",
    "        w_n_triers[2:-1,0] = (beta_T + distMAT[2:-1,0] - 2) / (alpha_T + beta_T + distMAT[2:-1,0] - 1)\n",
    "        w_n_triers[1:,0] = np.cumprod(w_n_triers[1:,0])\n",
    "        w_n_triers[-1,0] = 1 - np.sum(w_n_triers[:-1,0])        \n",
    "        \n",
    "        cum_triers = np.cumsum(incr_triers)\n",
    "\n",
    "        # P(X_{w} = x) - Weighted Probabilities\n",
    "        weight_probs = np.zeros_like(w_n_triers)\n",
    "        for i in range(w_n_triers.shape[0]):\n",
    "            for j in range(w_n_triers.shape[1]):\n",
    "                weight_probs[i,j] = np.sum(incr_triers[:j+1] * w_n_triers[i,j::-1]) / cum_triers[j]        \n",
    "        \n",
    "        # Log-Likelihood Computation\n",
    "        ll_components = distMAT[:,1:] * np.log(weight_probs, where=weight_probs > 0)\n",
    "        ll = np.sum(ll_components)        \n",
    "        \n",
    "        return -ll\n",
    "    \n",
    "    bnds = [(1e-5, np.inf) for _ in range(len(guesses)-1)] + [(-np.inf, np.inf)]\n",
    "    return minimize(log_likelihood, guesses, bounds=bnds)   "
   ]
  },
  {
   "cell_type": "code",
   "execution_count": 18,
   "metadata": {},
   "outputs": [
    {
     "data": {
      "text/markdown": [
       "$\\alpha_{T}$ = 6.9066\n",
       "\n",
       "$\\beta_{T}$ = 7.1924\n",
       "\n",
       "$\\alpha_{R}$ = 5.0134\n",
       "\n",
       "$\\beta_{R}$ = 5.5804\n",
       "\n",
       "$\\gamma$ = 0.1216\n",
       "\n",
       "$\\delta$ = -0.2915\n",
       "\n",
       "Log-Likelihood = -112923.922872"
      ]
     },
     "metadata": {},
     "output_type": "display_data"
    }
   ],
   "source": [
    "distMAT = TableOne.to_numpy()\n",
    "trial_weeks = np.array(TableOne.columns[1:], dtype=np.int32)\n",
    "units_range = np.arange(distMAT.shape[0])\n",
    "incr_triers = weeklytriers.select('Incremental Triers').collect().to_numpy().flatten()\n",
    "\n",
    "cum_triers = np.cumsum(incr_triers)\n",
    "\n",
    "result = bg_parameters(distMAT, trial_weeks, units_range, incr_triers)\n",
    "\n",
    "alpha_T, beta_T, alpha_R, beta_R, gamma, delta = result.x\n",
    "ll = result.fun\n",
    "\n",
    "allW_alpha_T, allW_beta_T = alpha_T, beta_T\n",
    "\n",
    "display_markdown(f'''$\\\\alpha_{{T}}$ = {alpha_T:0.4f}\n",
    "\n",
    "$\\\\beta_{{T}}$ = {beta_T:0.4f}\n",
    "\n",
    "$\\\\alpha_{{R}}$ = {alpha_R:0.4f}\n",
    "\n",
    "$\\\\beta_{{R}}$ = {beta_R:0.4f}\n",
    "\n",
    "$\\\\gamma$ = {gamma:0.4f}\n",
    "\n",
    "$\\\\delta$ = {delta:0.4f}\n",
    "\n",
    "Log-Likelihood = {-ll:0.6f}''', raw=True)"
   ]
  },
  {
   "cell_type": "code",
   "execution_count": 19,
   "metadata": {},
   "outputs": [],
   "source": [
    "# Weekly P(possible repeat buyer)\n",
    "weekly_p_repeat = gamma * (trial_weeks[1:] - 1)**delta\n",
    "\n",
    "# Distribution of repeat purchase volume (given possible repeat buyer)\n",
    "p_dist_repeat = np.zeros(units_range.shape)\n",
    "p_dist_repeat[0] = alpha_R / (alpha_R + beta_R)\n",
    "p_dist_repeat[1:-1] = (beta_R + units_range[1:-1] - 1) / (alpha_R + beta_R + units_range[1:-1])\n",
    "p_dist_repeat = np.cumprod(p_dist_repeat)\n",
    "p_dist_repeat[-1] = 1 - np.sum(p_dist_repeat[:-1])\n",
    "\n",
    "# Week n Triers\n",
    "w_n_triers = p_dist_repeat.reshape(-1,1) * np.append([0], weekly_p_repeat)\n",
    "w_n_triers[0,1:] =  1 -  weekly_p_repeat + weekly_p_repeat * p_dist_repeat[0]\n",
    "w_n_triers[1,0] = alpha_T / (alpha_T + beta_T)\n",
    "w_n_triers[2:-1,0] = (beta_T + distMAT[2:-1,0] - 2) / (alpha_T + beta_T + distMAT[2:-1,0] - 1)\n",
    "w_n_triers[1:,0] = np.cumprod(w_n_triers[1:,0])\n",
    "w_n_triers[-1,0] = 1 - np.sum(w_n_triers[:-1,0])\n",
    "\n",
    "# P(X_{w} = x) - Weighted Probabilities\n",
    "weight_probs = np.zeros_like(w_n_triers)\n",
    "for i in range(w_n_triers.shape[0]):\n",
    "    for j in range(w_n_triers.shape[1]):\n",
    "        weight_probs[i,j] = np.sum(incr_triers[:j+1] * w_n_triers[i,j::-1]) / cum_triers[j]\n",
    "\n",
    "# Log-Likelihood Computation\n",
    "ll_components = distMAT[:,1:] * np.log(weight_probs, where=weight_probs != 0)\n",
    "ll = np.sum(ll_components)\n",
    "\n",
    "# Expected Distribution of Sales\n",
    "e_distMAT = weight_probs * cum_triers\n",
    "\n",
    "# chi-squared goodness of fit test statistic\n",
    "chi_square = np.sum(np.divide((distMAT[:,1:] - e_distMAT)**2, e_distMAT, where=distMAT[:,1:]!=0))\n",
    "df = 113\n",
    "critical_value = chi2.ppf(0.95, df=df)"
   ]
  },
  {
   "cell_type": "code",
   "execution_count": 20,
   "metadata": {},
   "outputs": [
    {
     "data": {
      "text/html": [
       "<div id=\"pdrbhdwpkf\" style=\"padding-left:0px;padding-right:0px;padding-top:10px;padding-bottom:10px;overflow-x:auto;overflow-y:auto;width:auto;height:auto;\">\n",
       "<style>\n",
       "#pdrbhdwpkf table {\n",
       "          font-family: -apple-system, BlinkMacSystemFont, 'Segoe UI', Roboto, Oxygen, Ubuntu, Cantarell, 'Helvetica Neue', 'Fira Sans', 'Droid Sans', Arial, sans-serif;\n",
       "          -webkit-font-smoothing: antialiased;\n",
       "          -moz-osx-font-smoothing: grayscale;\n",
       "        }\n",
       "\n",
       "#pdrbhdwpkf thead, tbody, tfoot, tr, td, th { border-style: none !important; }\n",
       " tr { background-color: transparent !important; }\n",
       "#pdrbhdwpkf p { margin: 0 !important; padding: 0 !important; }\n",
       " #pdrbhdwpkf .gt_table { display: table !important; border-collapse: collapse !important; line-height: normal !important; margin-left: auto !important; margin-right: auto !important; color: #333333 !important; font-size: 16px !important; font-weight: normal !important; font-style: normal !important; background-color: #FFFFFF !important; width: auto !important; border-top-style: solid !important; border-top-width: 2px !important; border-top-color: #004D80 !important; border-right-style: none !important; border-right-width: 2px !important; border-right-color: #D3D3D3 !important; border-bottom-style: solid !important; border-bottom-width: 2px !important; border-bottom-color: #004D80 !important; border-left-style: none !important; border-left-width: 2px !important; border-left-color: #D3D3D3 !important; }\n",
       " #pdrbhdwpkf .gt_caption { padding-top: 4px !important; padding-bottom: 4px !important; }\n",
       " #pdrbhdwpkf .gt_title { color: #333333 !important; font-size: 125% !important; font-weight: initial !important; padding-top: 4px !important; padding-bottom: 4px !important; padding-left: 5px !important; padding-right: 5px !important; border-bottom-color: #FFFFFF !important; border-bottom-width: 0 !important; }\n",
       " #pdrbhdwpkf .gt_subtitle { color: #333333 !important; font-size: 85% !important; font-weight: initial !important; padding-top: 3px !important; padding-bottom: 5px !important; padding-left: 5px !important; padding-right: 5px !important; border-top-color: #FFFFFF !important; border-top-width: 0 !important; }\n",
       " #pdrbhdwpkf .gt_heading { background-color: #FFFFFF !important; text-align: center !important; border-bottom-color: #FFFFFF !important; border-left-style: none !important; border-left-width: 1px !important; border-left-color: #D3D3D3 !important; border-right-style: none !important; border-right-width: 1px !important; border-right-color: #D3D3D3 !important; }\n",
       " #pdrbhdwpkf .gt_bottom_border { border-bottom-style: solid !important; border-bottom-width: 2px !important; border-bottom-color: #0076BA !important; }\n",
       " #pdrbhdwpkf .gt_col_headings { border-top-style: solid !important; border-top-width: 2px !important; border-top-color: #0076BA !important; border-bottom-style: solid !important; border-bottom-width: 2px !important; border-bottom-color: #0076BA !important; border-left-style: none !important; border-left-width: 1px !important; border-left-color: #D3D3D3 !important; border-right-style: none !important; border-right-width: 1px !important; border-right-color: #D3D3D3 !important; }\n",
       " #pdrbhdwpkf .gt_col_heading { color: #333333 !important; background-color: #FFFFFF !important; font-size: 100% !important; font-weight: normal !important; text-transform: inherit !important; border-left-style: none !important; border-left-width: 1px !important; border-left-color: #D3D3D3 !important; border-right-style: none !important; border-right-width: 1px !important; border-right-color: #D3D3D3 !important; vertical-align: bottom !important; padding-top: 5px !important; padding-bottom: 5px !important; padding-left: 5px !important; padding-right: 5px !important; overflow-x: hidden !important; }\n",
       " #pdrbhdwpkf .gt_column_spanner_outer { color: #333333 !important; background-color: #FFFFFF !important; font-size: 100% !important; font-weight: normal !important; text-transform: inherit !important; padding-top: 0 !important; padding-bottom: 0 !important; padding-left: 4px !important; padding-right: 4px !important; }\n",
       " #pdrbhdwpkf .gt_column_spanner_outer:first-child { padding-left: 0 !important; }\n",
       " #pdrbhdwpkf .gt_column_spanner_outer:last-child { padding-right: 0 !important; }\n",
       " #pdrbhdwpkf .gt_column_spanner { border-bottom-style: solid !important; border-bottom-width: 2px !important; border-bottom-color: #0076BA !important; vertical-align: bottom !important; padding-top: 5px !important; padding-bottom: 5px !important; overflow-x: hidden !important; display: inline-block !important; width: 100% !important; }\n",
       " #pdrbhdwpkf .gt_spanner_row { border-bottom-style: hidden !important; }\n",
       " #pdrbhdwpkf .gt_group_heading { padding-top: 8px !important; padding-bottom: 8px !important; padding-left: 5px !important; padding-right: 5px !important; color: #333333 !important; background-color: #FFFFFF !important; font-size: 100% !important; font-weight: initial !important; text-transform: inherit !important; border-top-style: solid !important; border-top-width: 2px !important; border-top-color: #0076BA !important; border-bottom-style: solid !important; border-bottom-width: 2px !important; border-bottom-color: #0076BA !important; border-left-style: none !important; border-left-width: 1px !important; border-left-color: #D3D3D3 !important; border-right-style: none !important; border-right-width: 1px !important; border-right-color: #D3D3D3 !important; vertical-align: middle !important; text-align: left !important; }\n",
       " #pdrbhdwpkf .gt_empty_group_heading { padding: 0.5px !important; color: #333333 !important; background-color: #FFFFFF !important; font-size: 100% !important; font-weight: initial !important; border-top-style: solid !important; border-top-width: 2px !important; border-top-color: #0076BA !important; border-bottom-style: solid !important; border-bottom-width: 2px !important; border-bottom-color: #0076BA !important; vertical-align: middle !important; }\n",
       " #pdrbhdwpkf .gt_from_md> :first-child { margin-top: 0 !important; }\n",
       " #pdrbhdwpkf .gt_from_md> :last-child { margin-bottom: 0 !important; }\n",
       " #pdrbhdwpkf .gt_row { padding-top: 8px !important; padding-bottom: 8px !important; padding-left: 5px !important; padding-right: 5px !important; margin: 10px !important; border-top-style: none !important; border-top-width: 1px !important; border-top-color: #89D3FE !important; border-left-style: none !important; border-left-width: 1px !important; border-left-color: #89D3FE !important; border-right-style: none !important; border-right-width: 1px !important; border-right-color: #89D3FE !important; vertical-align: middle !important; overflow-x: hidden !important; }\n",
       " #pdrbhdwpkf .gt_stub { color: #FFFFFF !important; background-color: #0076BA !important; font-size: 100% !important; font-weight: initial !important; text-transform: inherit !important; border-right-style: solid !important; border-right-width: 2px !important; border-right-color: #0076BA !important; padding-left: 5px !important; padding-right: 5px !important; }\n",
       " #pdrbhdwpkf .gt_stub_row_group { color: #333333 !important; background-color: #FFFFFF !important; font-size: 100% !important; font-weight: initial !important; text-transform: inherit !important; border-right-style: solid !important; border-right-width: 2px !important; border-right-color: #D3D3D3 !important; padding-left: 5px !important; padding-right: 5px !important; vertical-align: top !important; }\n",
       " #pdrbhdwpkf .gt_row_group_first td { border-top-width: 2px !important; }\n",
       " #pdrbhdwpkf .gt_row_group_first th { border-top-width: 2px !important; }\n",
       " #pdrbhdwpkf .gt_striped { background-color: #F4F4F4 !important; }\n",
       " #pdrbhdwpkf .gt_table_body { border-top-style: solid !important; border-top-width: 2px !important; border-top-color: #0076BA !important; border-bottom-style: solid !important; border-bottom-width: 2px !important; border-bottom-color: #0076BA !important; }\n",
       " #pdrbhdwpkf .gt_sourcenotes { color: #333333 !important; background-color: #FFFFFF !important; border-bottom-style: none !important; border-bottom-width: 2px !important; border-bottom-color: #D3D3D3 !important; border-left-style: none !important; border-left-width: 2px !important; border-left-color: #D3D3D3 !important; border-right-style: none !important; border-right-width: 2px !important; border-right-color: #D3D3D3 !important; }\n",
       " #pdrbhdwpkf .gt_sourcenote { font-size: 90% !important; padding-top: 4px !important; padding-bottom: 4px !important; padding-left: 5px !important; padding-right: 5px !important; text-align: left !important; }\n",
       " #pdrbhdwpkf .gt_left { text-align: left !important; }\n",
       " #pdrbhdwpkf .gt_center { text-align: center !important; }\n",
       " #pdrbhdwpkf .gt_right { text-align: right !important; font-variant-numeric: tabular-nums !important; }\n",
       " #pdrbhdwpkf .gt_font_normal { font-weight: normal !important; }\n",
       " #pdrbhdwpkf .gt_font_bold { font-weight: bold !important; }\n",
       " #pdrbhdwpkf .gt_font_italic { font-style: italic !important; }\n",
       " #pdrbhdwpkf .gt_super { font-size: 65% !important; }\n",
       " #pdrbhdwpkf .gt_footnote_marks { font-size: 75% !important; vertical-align: 0.4em !important; position: initial !important; }\n",
       " #pdrbhdwpkf .gt_asterisk { font-size: 100% !important; vertical-align: 0 !important; }\n",
       " \n",
       "</style>\n",
       "<table class=\"gt_table\" data-quarto-disable-processing=\"false\" data-quarto-bootstrap=\"false\">\n",
       "<thead>\n",
       "\n",
       "  <tr class=\"gt_heading\">\n",
       "    <td colspan=\"13\" class=\"gt_heading gt_title gt_font_normal\">Estimated Distribution of the Number of CDNOW Units Purchased</td>\n",
       "  </tr>\n",
       "  <tr class=\"gt_heading\">\n",
       "    <td colspan=\"13\" class=\"gt_heading gt_subtitle gt_font_normal gt_bottom_border\">First 12 Weeks</td>\n",
       "  </tr>\n",
       "<tr class=\"gt_col_headings gt_spanner_row\">\n",
       "  <th class=\"gt_col_heading gt_columns_bottom_border gt_left\" rowspan=\"2\" colspan=\"1\" scope=\"col\" id=\"Units Purchased\">Units Purchased</th>\n",
       "  <th class=\"gt_center gt_columns_top_border gt_column_spanner_outer\" rowspan=\"1\" colspan=\"12\" scope=\"colgroup\" id=\"Week\">\n",
       "    <span class=\"gt_column_spanner\">Week</span>\n",
       "  </th>\n",
       "</tr>\n",
       "<tr class=\"gt_col_headings\">\n",
       "  <th class=\"gt_col_heading gt_columns_bottom_border gt_right\" rowspan=\"1\" colspan=\"1\" scope=\"col\" id=\"1\">1</th>\n",
       "  <th class=\"gt_col_heading gt_columns_bottom_border gt_right\" rowspan=\"1\" colspan=\"1\" scope=\"col\" id=\"2\">2</th>\n",
       "  <th class=\"gt_col_heading gt_columns_bottom_border gt_right\" rowspan=\"1\" colspan=\"1\" scope=\"col\" id=\"3\">3</th>\n",
       "  <th class=\"gt_col_heading gt_columns_bottom_border gt_right\" rowspan=\"1\" colspan=\"1\" scope=\"col\" id=\"4\">4</th>\n",
       "  <th class=\"gt_col_heading gt_columns_bottom_border gt_right\" rowspan=\"1\" colspan=\"1\" scope=\"col\" id=\"5\">5</th>\n",
       "  <th class=\"gt_col_heading gt_columns_bottom_border gt_right\" rowspan=\"1\" colspan=\"1\" scope=\"col\" id=\"6\">6</th>\n",
       "  <th class=\"gt_col_heading gt_columns_bottom_border gt_right\" rowspan=\"1\" colspan=\"1\" scope=\"col\" id=\"7\">7</th>\n",
       "  <th class=\"gt_col_heading gt_columns_bottom_border gt_right\" rowspan=\"1\" colspan=\"1\" scope=\"col\" id=\"8\">8</th>\n",
       "  <th class=\"gt_col_heading gt_columns_bottom_border gt_right\" rowspan=\"1\" colspan=\"1\" scope=\"col\" id=\"9\">9</th>\n",
       "  <th class=\"gt_col_heading gt_columns_bottom_border gt_right\" rowspan=\"1\" colspan=\"1\" scope=\"col\" id=\"10\">10</th>\n",
       "  <th class=\"gt_col_heading gt_columns_bottom_border gt_right\" rowspan=\"1\" colspan=\"1\" scope=\"col\" id=\"11\">11</th>\n",
       "  <th class=\"gt_col_heading gt_columns_bottom_border gt_right\" rowspan=\"1\" colspan=\"1\" scope=\"col\" id=\"12\">12</th>\n",
       "</tr>\n",
       "</thead>\n",
       "<tbody class=\"gt_table_body\">\n",
       "  <tr>\n",
       "    <th class=\"gt_row gt_left gt_stub\">0</th>\n",
       "    <td class=\"gt_row gt_right\">0</td>\n",
       "    <td class=\"gt_row gt_right\">1,473</td>\n",
       "    <td class=\"gt_row gt_right\">3,028</td>\n",
       "    <td class=\"gt_row gt_right\">4,762</td>\n",
       "    <td class=\"gt_row gt_right\">6,599</td>\n",
       "    <td class=\"gt_row gt_right\">8,668</td>\n",
       "    <td class=\"gt_row gt_right\">10,776</td>\n",
       "    <td class=\"gt_row gt_right\">12,727</td>\n",
       "    <td class=\"gt_row gt_right\">14,689</td>\n",
       "    <td class=\"gt_row gt_right\">16,807</td>\n",
       "    <td class=\"gt_row gt_right\">18,898</td>\n",
       "    <td class=\"gt_row gt_right\">20,872</td>\n",
       "  </tr>\n",
       "  <tr>\n",
       "    <th class=\"gt_row gt_left gt_stub\">1</th>\n",
       "    <td class=\"gt_row gt_right gt_striped\">771</td>\n",
       "    <td class=\"gt_row gt_right gt_striped\">847</td>\n",
       "    <td class=\"gt_row gt_right gt_striped\">973</td>\n",
       "    <td class=\"gt_row gt_right gt_striped\">1,061</td>\n",
       "    <td class=\"gt_row gt_right gt_striped\">1,216</td>\n",
       "    <td class=\"gt_row gt_right gt_striped\">1,273</td>\n",
       "    <td class=\"gt_row gt_right gt_striped\">1,227</td>\n",
       "    <td class=\"gt_row gt_right gt_striped\">1,264</td>\n",
       "    <td class=\"gt_row gt_right gt_striped\">1,375</td>\n",
       "    <td class=\"gt_row gt_right gt_striped\">1,394</td>\n",
       "    <td class=\"gt_row gt_right gt_striped\">1,363</td>\n",
       "    <td class=\"gt_row gt_right gt_striped\">1,269</td>\n",
       "  </tr>\n",
       "  <tr>\n",
       "    <th class=\"gt_row gt_left gt_stub\">2</th>\n",
       "    <td class=\"gt_row gt_right\">367</td>\n",
       "    <td class=\"gt_row gt_right\">405</td>\n",
       "    <td class=\"gt_row gt_right\">467</td>\n",
       "    <td class=\"gt_row gt_right\">511</td>\n",
       "    <td class=\"gt_row gt_right\">586</td>\n",
       "    <td class=\"gt_row gt_right\">615</td>\n",
       "    <td class=\"gt_row gt_right\">595</td>\n",
       "    <td class=\"gt_row gt_right\">614</td>\n",
       "    <td class=\"gt_row gt_right\">669</td>\n",
       "    <td class=\"gt_row gt_right\">679</td>\n",
       "    <td class=\"gt_row gt_right\">666</td>\n",
       "    <td class=\"gt_row gt_right\">622</td>\n",
       "  </tr>\n",
       "  <tr>\n",
       "    <th class=\"gt_row gt_left gt_stub\">3</th>\n",
       "    <td class=\"gt_row gt_right gt_striped\">186</td>\n",
       "    <td class=\"gt_row gt_right gt_striped\">207</td>\n",
       "    <td class=\"gt_row gt_right gt_striped\">239</td>\n",
       "    <td class=\"gt_row gt_right gt_striped\">263</td>\n",
       "    <td class=\"gt_row gt_right gt_striped\">302</td>\n",
       "    <td class=\"gt_row gt_right gt_striped\">318</td>\n",
       "    <td class=\"gt_row gt_right gt_striped\">309</td>\n",
       "    <td class=\"gt_row gt_right gt_striped\">319</td>\n",
       "    <td class=\"gt_row gt_right gt_striped\">348</td>\n",
       "    <td class=\"gt_row gt_right gt_striped\">354</td>\n",
       "    <td class=\"gt_row gt_right gt_striped\">348</td>\n",
       "    <td class=\"gt_row gt_right gt_striped\">326</td>\n",
       "  </tr>\n",
       "  <tr>\n",
       "    <th class=\"gt_row gt_left gt_stub\">4</th>\n",
       "    <td class=\"gt_row gt_right\">100</td>\n",
       "    <td class=\"gt_row gt_right\">112</td>\n",
       "    <td class=\"gt_row gt_right\">130</td>\n",
       "    <td class=\"gt_row gt_right\">143</td>\n",
       "    <td class=\"gt_row gt_right\">164</td>\n",
       "    <td class=\"gt_row gt_right\">174</td>\n",
       "    <td class=\"gt_row gt_right\">169</td>\n",
       "    <td class=\"gt_row gt_right\">175</td>\n",
       "    <td class=\"gt_row gt_right\">191</td>\n",
       "    <td class=\"gt_row gt_right\">195</td>\n",
       "    <td class=\"gt_row gt_right\">192</td>\n",
       "    <td class=\"gt_row gt_right\">181</td>\n",
       "  </tr>\n",
       "  <tr>\n",
       "    <th class=\"gt_row gt_left gt_stub\">5</th>\n",
       "    <td class=\"gt_row gt_right gt_striped\">56</td>\n",
       "    <td class=\"gt_row gt_right gt_striped\">63</td>\n",
       "    <td class=\"gt_row gt_right gt_striped\">74</td>\n",
       "    <td class=\"gt_row gt_right gt_striped\">81</td>\n",
       "    <td class=\"gt_row gt_right gt_striped\">94</td>\n",
       "    <td class=\"gt_row gt_right gt_striped\">99</td>\n",
       "    <td class=\"gt_row gt_right gt_striped\">97</td>\n",
       "    <td class=\"gt_row gt_right gt_striped\">101</td>\n",
       "    <td class=\"gt_row gt_right gt_striped\">110</td>\n",
       "    <td class=\"gt_row gt_right gt_striped\">112</td>\n",
       "    <td class=\"gt_row gt_right gt_striped\">111</td>\n",
       "    <td class=\"gt_row gt_right gt_striped\">105</td>\n",
       "  </tr>\n",
       "  <tr>\n",
       "    <th class=\"gt_row gt_left gt_stub\">6</th>\n",
       "    <td class=\"gt_row gt_right\">33</td>\n",
       "    <td class=\"gt_row gt_right\">37</td>\n",
       "    <td class=\"gt_row gt_right\">43</td>\n",
       "    <td class=\"gt_row gt_right\">48</td>\n",
       "    <td class=\"gt_row gt_right\">56</td>\n",
       "    <td class=\"gt_row gt_right\">59</td>\n",
       "    <td class=\"gt_row gt_right\">58</td>\n",
       "    <td class=\"gt_row gt_right\">60</td>\n",
       "    <td class=\"gt_row gt_right\">66</td>\n",
       "    <td class=\"gt_row gt_right\">68</td>\n",
       "    <td class=\"gt_row gt_right\">67</td>\n",
       "    <td class=\"gt_row gt_right\">64</td>\n",
       "  </tr>\n",
       "  <tr>\n",
       "    <th class=\"gt_row gt_left gt_stub\">7</th>\n",
       "    <td class=\"gt_row gt_right gt_striped\">20</td>\n",
       "    <td class=\"gt_row gt_right gt_striped\">22</td>\n",
       "    <td class=\"gt_row gt_right gt_striped\">26</td>\n",
       "    <td class=\"gt_row gt_right gt_striped\">29</td>\n",
       "    <td class=\"gt_row gt_right gt_striped\">34</td>\n",
       "    <td class=\"gt_row gt_right gt_striped\">36</td>\n",
       "    <td class=\"gt_row gt_right gt_striped\">36</td>\n",
       "    <td class=\"gt_row gt_right gt_striped\">37</td>\n",
       "    <td class=\"gt_row gt_right gt_striped\">41</td>\n",
       "    <td class=\"gt_row gt_right gt_striped\">42</td>\n",
       "    <td class=\"gt_row gt_right gt_striped\">42</td>\n",
       "    <td class=\"gt_row gt_right gt_striped\">40</td>\n",
       "  </tr>\n",
       "  <tr>\n",
       "    <th class=\"gt_row gt_left gt_stub\">8</th>\n",
       "    <td class=\"gt_row gt_right\">12</td>\n",
       "    <td class=\"gt_row gt_right\">14</td>\n",
       "    <td class=\"gt_row gt_right\">16</td>\n",
       "    <td class=\"gt_row gt_right\">18</td>\n",
       "    <td class=\"gt_row gt_right\">21</td>\n",
       "    <td class=\"gt_row gt_right\">23</td>\n",
       "    <td class=\"gt_row gt_right\">23</td>\n",
       "    <td class=\"gt_row gt_right\">24</td>\n",
       "    <td class=\"gt_row gt_right\">26</td>\n",
       "    <td class=\"gt_row gt_right\">27</td>\n",
       "    <td class=\"gt_row gt_right\">27</td>\n",
       "    <td class=\"gt_row gt_right\">26</td>\n",
       "  </tr>\n",
       "  <tr>\n",
       "    <th class=\"gt_row gt_left gt_stub\">9</th>\n",
       "    <td class=\"gt_row gt_right gt_striped\">8</td>\n",
       "    <td class=\"gt_row gt_right gt_striped\">9</td>\n",
       "    <td class=\"gt_row gt_right gt_striped\">11</td>\n",
       "    <td class=\"gt_row gt_right gt_striped\">12</td>\n",
       "    <td class=\"gt_row gt_right gt_striped\">14</td>\n",
       "    <td class=\"gt_row gt_right gt_striped\">15</td>\n",
       "    <td class=\"gt_row gt_right gt_striped\">15</td>\n",
       "    <td class=\"gt_row gt_right gt_striped\">15</td>\n",
       "    <td class=\"gt_row gt_right gt_striped\">17</td>\n",
       "    <td class=\"gt_row gt_right gt_striped\">18</td>\n",
       "    <td class=\"gt_row gt_right gt_striped\">18</td>\n",
       "    <td class=\"gt_row gt_right gt_striped\">17</td>\n",
       "  </tr>\n",
       "  <tr>\n",
       "    <th class=\"gt_row gt_left gt_stub\">10</th>\n",
       "    <td class=\"gt_row gt_right\">17</td>\n",
       "    <td class=\"gt_row gt_right\">21</td>\n",
       "    <td class=\"gt_row gt_right\">25</td>\n",
       "    <td class=\"gt_row gt_right\">28</td>\n",
       "    <td class=\"gt_row gt_right\">33</td>\n",
       "    <td class=\"gt_row gt_right\">36</td>\n",
       "    <td class=\"gt_row gt_right\">37</td>\n",
       "    <td class=\"gt_row gt_right\">39</td>\n",
       "    <td class=\"gt_row gt_right\">42</td>\n",
       "    <td class=\"gt_row gt_right\">44</td>\n",
       "    <td class=\"gt_row gt_right\">45</td>\n",
       "    <td class=\"gt_row gt_right\">43</td>\n",
       "  </tr>\n",
       "</tbody>\n",
       "\n",
       "\n",
       "</table>\n",
       "\n",
       "</div>\n",
       "        "
      ],
      "text/plain": [
       "GT(_tbl_data=shape: (11, 13)\n",
       "┌───────┬─────┬──────┬──────┬───┬───────┬───────┬───────┬───────┐\n",
       "│ Quant ┆ 1   ┆ 2    ┆ 3    ┆ … ┆ 9     ┆ 10    ┆ 11    ┆ 12    │\n",
       "│ ---   ┆ --- ┆ ---  ┆ ---  ┆   ┆ ---   ┆ ---   ┆ ---   ┆ ---   │\n",
       "│ i32   ┆ i32 ┆ i32  ┆ i32  ┆   ┆ i32   ┆ i32   ┆ i32   ┆ i32   │\n",
       "╞═══════╪═════╪══════╪══════╪═══╪═══════╪═══════╪═══════╪═══════╡\n",
       "│ 0     ┆ 0   ┆ 1473 ┆ 3028 ┆ … ┆ 14689 ┆ 16807 ┆ 18898 ┆ 20872 │\n",
       "│ 1     ┆ 771 ┆ 847  ┆ 973  ┆ … ┆ 1375  ┆ 1394  ┆ 1363  ┆ 1269  │\n",
       "│ 2     ┆ 367 ┆ 405  ┆ 467  ┆ … ┆ 669   ┆ 679   ┆ 666   ┆ 622   │\n",
       "│ 3     ┆ 186 ┆ 207  ┆ 239  ┆ … ┆ 348   ┆ 354   ┆ 348   ┆ 326   │\n",
       "│ 4     ┆ 100 ┆ 112  ┆ 130  ┆ … ┆ 191   ┆ 195   ┆ 192   ┆ 181   │\n",
       "│ …     ┆ …   ┆ …    ┆ …    ┆ … ┆ …     ┆ …     ┆ …     ┆ …     │\n",
       "│ 6     ┆ 33  ┆ 37   ┆ 43   ┆ … ┆ 66    ┆ 68    ┆ 67    ┆ 64    │\n",
       "│ 7     ┆ 20  ┆ 22   ┆ 26   ┆ … ┆ 41    ┆ 42    ┆ 42    ┆ 40    │\n",
       "│ 8     ┆ 12  ┆ 14   ┆ 16   ┆ … ┆ 26    ┆ 27    ┆ 27    ┆ 26    │\n",
       "│ 9     ┆ 8   ┆ 9    ┆ 11   ┆ … ┆ 17    ┆ 18    ┆ 18    ┆ 17    │\n",
       "│ 10    ┆ 17  ┆ 21   ┆ 25   ┆ … ┆ 42    ┆ 44    ┆ 45    ┆ 43    │\n",
       "└───────┴─────┴──────┴──────┴───┴───────┴───────┴───────┴───────┘, _body=<great_tables._gt_data.Body object at 0x000002429AFABDD0>, _boxhead=Boxhead([ColInfo(var='Quant', type=<ColInfoTypeEnum.stub: 2>, column_label='Quant', column_align='right', column_width=None), ColInfo(var='1', type=<ColInfoTypeEnum.default: 1>, column_label='1', column_align='right', column_width=None), ColInfo(var='2', type=<ColInfoTypeEnum.default: 1>, column_label='2', column_align='right', column_width=None), ColInfo(var='3', type=<ColInfoTypeEnum.default: 1>, column_label='3', column_align='right', column_width=None), ColInfo(var='4', type=<ColInfoTypeEnum.default: 1>, column_label='4', column_align='right', column_width=None), ColInfo(var='5', type=<ColInfoTypeEnum.default: 1>, column_label='5', column_align='right', column_width=None), ColInfo(var='6', type=<ColInfoTypeEnum.default: 1>, column_label='6', column_align='right', column_width=None), ColInfo(var='7', type=<ColInfoTypeEnum.default: 1>, column_label='7', column_align='right', column_width=None), ColInfo(var='8', type=<ColInfoTypeEnum.default: 1>, column_label='8', column_align='right', column_width=None), ColInfo(var='9', type=<ColInfoTypeEnum.default: 1>, column_label='9', column_align='right', column_width=None), ColInfo(var='10', type=<ColInfoTypeEnum.default: 1>, column_label='10', column_align='right', column_width=None), ColInfo(var='11', type=<ColInfoTypeEnum.default: 1>, column_label='11', column_align='right', column_width=None), ColInfo(var='12', type=<ColInfoTypeEnum.default: 1>, column_label='12', column_align='right', column_width=None)]), _stub=<great_tables._gt_data.Stub object at 0x000002429AFA8A40>, _spanners=Spanners([SpannerInfo(spanner_id='Week', spanner_level=0, spanner_label='Week', spanner_units=None, spanner_pattern=None, vars=['1', '2', '3', '4', '5', '6', '7', '8', '9', '10', '11', '12'], built=None)]), _heading=Heading(title='Estimated Distribution of the Number of CDNOW Units Purchased', subtitle='First 12 Weeks', preheader=None), _stubhead='Units Purchased', _source_notes=[], _footnotes=[], _styles=[], _locale=<great_tables._gt_data.Locale object at 0x000002429AFABEF0>, _formats=[<great_tables._gt_data.FormatInfo object at 0x000002429AFAA810>], _substitutions=[], _options=Options(table_id=OptionsInfo(scss=False, category='table', type='value', value=None), table_caption=OptionsInfo(scss=False, category='table', type='value', value=None), table_width=OptionsInfo(scss=True, category='table', type='px', value='auto'), table_layout=OptionsInfo(scss=True, category='table', type='value', value='fixed'), table_margin_left=OptionsInfo(scss=True, category='table', type='px', value='auto'), table_margin_right=OptionsInfo(scss=True, category='table', type='px', value='auto'), table_background_color=OptionsInfo(scss=True, category='table', type='value', value='#FFFFFF'), table_additional_css=OptionsInfo(scss=False, category='table', type='values', value=[]), table_font_names=OptionsInfo(scss=False, category='table', type='values', value=['-apple-system', 'BlinkMacSystemFont', 'Segoe UI', 'Roboto', 'Oxygen', 'Ubuntu', 'Cantarell', 'Helvetica Neue', 'Fira Sans', 'Droid Sans', 'Arial', 'sans-serif']), table_font_size=OptionsInfo(scss=True, category='table', type='px', value='16px'), table_font_weight=OptionsInfo(scss=True, category='table', type='value', value='normal'), table_font_style=OptionsInfo(scss=True, category='table', type='value', value='normal'), table_font_color=OptionsInfo(scss=True, category='table', type='value', value='#333333'), table_font_color_light=OptionsInfo(scss=True, category='table', type='value', value='#FFFFFF'), table_border_top_include=OptionsInfo(scss=False, category='table', type='boolean', value=True), table_border_top_style=OptionsInfo(scss=True, category='table', type='value', value='solid'), table_border_top_width=OptionsInfo(scss=True, category='table', type='px', value='2px'), table_border_top_color=OptionsInfo(scss=True, category='table', type='value', value='#004D80'), table_border_right_style=OptionsInfo(scss=True, category='table', type='value', value='none'), table_border_right_width=OptionsInfo(scss=True, category='table', type='px', value='2px'), table_border_right_color=OptionsInfo(scss=True, category='table', type='value', value='#D3D3D3'), table_border_bottom_include=OptionsInfo(scss=False, category='table', type='boolean', value=True), table_border_bottom_style=OptionsInfo(scss=True, category='table', type='value', value='solid'), table_border_bottom_width=OptionsInfo(scss=True, category='table', type='px', value='2px'), table_border_bottom_color=OptionsInfo(scss=True, category='table', type='value', value='#004D80'), table_border_left_style=OptionsInfo(scss=True, category='table', type='value', value='none'), table_border_left_width=OptionsInfo(scss=True, category='table', type='px', value='2px'), table_border_left_color=OptionsInfo(scss=True, category='table', type='value', value='#D3D3D3'), heading_background_color=OptionsInfo(scss=True, category='heading', type='value', value=None), heading_align=OptionsInfo(scss=True, category='heading', type='value', value='center'), heading_title_font_size=OptionsInfo(scss=True, category='heading', type='px', value='125%'), heading_title_font_weight=OptionsInfo(scss=True, category='heading', type='value', value='initial'), heading_subtitle_font_size=OptionsInfo(scss=True, category='heading', type='px', value='85%'), heading_subtitle_font_weight=OptionsInfo(scss=True, category='heading', type='value', value='initial'), heading_padding=OptionsInfo(scss=True, category='heading', type='px', value='4px'), heading_padding_horizontal=OptionsInfo(scss=True, category='heading', type='px', value='5px'), heading_border_bottom_style=OptionsInfo(scss=True, category='heading', type='value', value='solid'), heading_border_bottom_width=OptionsInfo(scss=True, category='heading', type='px', value='2px'), heading_border_bottom_color=OptionsInfo(scss=True, category='heading', type='value', value='#0076BA'), heading_border_lr_style=OptionsInfo(scss=True, category='heading', type='value', value='none'), heading_border_lr_width=OptionsInfo(scss=True, category='heading', type='px', value='1px'), heading_border_lr_color=OptionsInfo(scss=True, category='heading', type='value', value='#D3D3D3'), column_labels_background_color=OptionsInfo(scss=True, category='column_labels', type='value', value='#FFFFFF'), column_labels_font_size=OptionsInfo(scss=True, category='column_labels', type='px', value='100%'), column_labels_font_weight=OptionsInfo(scss=True, category='column_labels', type='value', value='normal'), column_labels_text_transform=OptionsInfo(scss=True, category='column_labels', type='value', value='inherit'), column_labels_padding=OptionsInfo(scss=True, category='column_labels', type='px', value='5px'), column_labels_padding_horizontal=OptionsInfo(scss=True, category='column_labels', type='px', value='5px'), column_labels_vlines_style=OptionsInfo(scss=True, category='table_body', type='value', value='none'), column_labels_vlines_width=OptionsInfo(scss=True, category='table_body', type='px', value='1px'), column_labels_vlines_color=OptionsInfo(scss=True, category='table_body', type='value', value='#D3D3D3'), column_labels_border_top_style=OptionsInfo(scss=True, category='column_labels', type='value', value='solid'), column_labels_border_top_width=OptionsInfo(scss=True, category='column_labels', type='px', value='2px'), column_labels_border_top_color=OptionsInfo(scss=True, category='column_labels', type='value', value='#0076BA'), column_labels_border_bottom_style=OptionsInfo(scss=True, category='column_labels', type='value', value='solid'), column_labels_border_bottom_width=OptionsInfo(scss=True, category='column_labels', type='px', value='2px'), column_labels_border_bottom_color=OptionsInfo(scss=True, category='column_labels', type='value', value='#0076BA'), column_labels_border_lr_style=OptionsInfo(scss=True, category='column_labels', type='value', value='none'), column_labels_border_lr_width=OptionsInfo(scss=True, category='column_labels', type='px', value='1px'), column_labels_border_lr_color=OptionsInfo(scss=True, category='column_labels', type='value', value='#D3D3D3'), column_labels_hidden=OptionsInfo(scss=False, category='column_labels', type='boolean', value=False), row_group_background_color=OptionsInfo(scss=True, category='row_group', type='value', value=None), row_group_font_size=OptionsInfo(scss=True, category='row_group', type='px', value='100%'), row_group_font_weight=OptionsInfo(scss=True, category='row_group', type='value', value='initial'), row_group_text_transform=OptionsInfo(scss=True, category='row_group', type='value', value='inherit'), row_group_padding=OptionsInfo(scss=True, category='row_group', type='px', value='8px'), row_group_padding_horizontal=OptionsInfo(scss=True, category='row_group', type='px', value='5px'), row_group_border_top_style=OptionsInfo(scss=True, category='row_group', type='value', value='solid'), row_group_border_top_width=OptionsInfo(scss=True, category='row_group', type='px', value='2px'), row_group_border_top_color=OptionsInfo(scss=True, category='row_group', type='value', value='#0076BA'), row_group_border_right_style=OptionsInfo(scss=True, category='row_group', type='value', value='none'), row_group_border_right_width=OptionsInfo(scss=True, category='row_group', type='px', value='1px'), row_group_border_right_color=OptionsInfo(scss=True, category='row_group', type='value', value='#D3D3D3'), row_group_border_bottom_style=OptionsInfo(scss=True, category='row_group', type='value', value='solid'), row_group_border_bottom_width=OptionsInfo(scss=True, category='row_group', type='px', value='2px'), row_group_border_bottom_color=OptionsInfo(scss=True, category='row_group', type='value', value='#0076BA'), row_group_border_left_style=OptionsInfo(scss=True, category='row_group', type='value', value='none'), row_group_border_left_width=OptionsInfo(scss=True, category='row_group', type='px', value='1px'), row_group_border_left_color=OptionsInfo(scss=True, category='row_group', type='value', value='#D3D3D3'), row_group_as_column=OptionsInfo(scss=False, category='row_group', type='boolean', value=False), table_body_hlines_style=OptionsInfo(scss=True, category='table_body', type='value', value='none'), table_body_hlines_width=OptionsInfo(scss=True, category='table_body', type='px', value='1px'), table_body_hlines_color=OptionsInfo(scss=True, category='table_body', type='value', value='#89D3FE'), table_body_vlines_style=OptionsInfo(scss=True, category='table_body', type='value', value='none'), table_body_vlines_width=OptionsInfo(scss=True, category='table_body', type='px', value='1px'), table_body_vlines_color=OptionsInfo(scss=True, category='table_body', type='value', value='#89D3FE'), table_body_border_top_style=OptionsInfo(scss=True, category='table_body', type='value', value='solid'), table_body_border_top_width=OptionsInfo(scss=True, category='table_body', type='px', value='2px'), table_body_border_top_color=OptionsInfo(scss=True, category='table_body', type='value', value='#0076BA'), table_body_border_bottom_style=OptionsInfo(scss=True, category='table_body', type='value', value='solid'), table_body_border_bottom_width=OptionsInfo(scss=True, category='table_body', type='px', value='2px'), table_body_border_bottom_color=OptionsInfo(scss=True, category='table_body', type='value', value='#0076BA'), data_row_padding=OptionsInfo(scss=True, category='data_row', type='px', value='8px'), data_row_padding_horizontal=OptionsInfo(scss=True, category='data_row', type='px', value='5px'), stub_background_color=OptionsInfo(scss=True, category='stub', type='value', value='#0076BA'), stub_font_size=OptionsInfo(scss=True, category='stub', type='px', value='100%'), stub_font_weight=OptionsInfo(scss=True, category='stub', type='value', value='initial'), stub_text_transform=OptionsInfo(scss=True, category='stub', type='value', value='inherit'), stub_border_style=OptionsInfo(scss=True, category='stub', type='value', value='solid'), stub_border_width=OptionsInfo(scss=True, category='stub', type='px', value='2px'), stub_border_color=OptionsInfo(scss=True, category='stub', type='value', value='#0076BA'), stub_row_group_background_color=OptionsInfo(scss=True, category='stub', type='value', value=None), stub_row_group_font_size=OptionsInfo(scss=True, category='stub', type='px', value='100%'), stub_row_group_font_weight=OptionsInfo(scss=True, category='stub', type='value', value='initial'), stub_row_group_text_transform=OptionsInfo(scss=True, category='stub', type='value', value='inherit'), stub_row_group_border_style=OptionsInfo(scss=True, category='stub', type='value', value='solid'), stub_row_group_border_width=OptionsInfo(scss=True, category='stub', type='px', value='2px'), stub_row_group_border_color=OptionsInfo(scss=True, category='stub', type='value', value='#D3D3D3'), source_notes_padding=OptionsInfo(scss=True, category='source_notes', type='px', value='4px'), source_notes_padding_horizontal=OptionsInfo(scss=True, category='source_notes', type='px', value='5px'), source_notes_background_color=OptionsInfo(scss=True, category='source_notes', type='value', value=None), source_notes_font_size=OptionsInfo(scss=True, category='source_notes', type='px', value='90%'), source_notes_border_bottom_style=OptionsInfo(scss=True, category='source_notes', type='value', value='none'), source_notes_border_bottom_width=OptionsInfo(scss=True, category='source_notes', type='px', value='2px'), source_notes_border_bottom_color=OptionsInfo(scss=True, category='source_notes', type='value', value='#D3D3D3'), source_notes_border_lr_style=OptionsInfo(scss=True, category='source_notes', type='value', value='none'), source_notes_border_lr_width=OptionsInfo(scss=True, category='source_notes', type='px', value='2px'), source_notes_border_lr_color=OptionsInfo(scss=True, category='source_notes', type='value', value='#D3D3D3'), source_notes_multiline=OptionsInfo(scss=False, category='source_notes', type='boolean', value=True), source_notes_sep=OptionsInfo(scss=False, category='source_notes', type='value', value=' '), row_striping_background_color=OptionsInfo(scss=True, category='row', type='value', value='#F4F4F4'), row_striping_include_stub=OptionsInfo(scss=False, category='row', type='boolean', value=False), row_striping_include_table_body=OptionsInfo(scss=False, category='row', type='boolean', value=['True']), container_width=OptionsInfo(scss=False, category='container', type='px', value='auto'), container_height=OptionsInfo(scss=False, category='container', type='px', value='auto'), container_padding_x=OptionsInfo(scss=False, category='container', type='px', value='0px'), container_padding_y=OptionsInfo(scss=False, category='container', type='px', value='10px'), container_overflow_x=OptionsInfo(scss=False, category='container', type='overflow', value='auto'), container_overflow_y=OptionsInfo(scss=False, category='container', type='overflow', value='auto'), quarto_disable_processing=OptionsInfo(scss=False, category='quarto', type='logical', value=False), quarto_use_bootstrap=OptionsInfo(scss=False, category='quarto', type='logical', value=False)), _has_built=False)"
      ]
     },
     "execution_count": 20,
     "metadata": {},
     "output_type": "execute_result"
    }
   ],
   "source": [
    "e_distTable = (\n",
    "    pl.DataFrame({'Quant': np.arange(11, dtype=np.int32)})\n",
    "    .hstack(pl.from_numpy(e_distMAT.astype(np.int32), schema=TableOne.columns[1:]))\n",
    ")\n",
    "\n",
    "(\n",
    "    GT(e_distTable, rowname_col='Quant')\n",
    "    .tab_header(title=\"Estimated Distribution of the Number of CDNOW Units Purchased\", subtitle='First 12 Weeks')\n",
    "    .tab_stubhead('Units Purchased')\n",
    "    .fmt_integer()\n",
    "    .tab_spanner(label='Week', columns=[str(i) for i in range(1, 13)])\n",
    "    .opt_stylize()\n",
    ")"
   ]
  },
  {
   "cell_type": "code",
   "execution_count": 21,
   "metadata": {},
   "outputs": [
    {
     "data": {
      "text/markdown": [
       "$\\chi^{2}$ = 129.2064\n",
       "\n",
       "Degrees of freedom = 113\n",
       "\n",
       "Critical Value = 138.8114"
      ]
     },
     "metadata": {},
     "output_type": "display_data"
    }
   ],
   "source": [
    "display_markdown(f'''$\\\\chi^{{2}}$ = {chi_square:0.4f}\n",
    "\n",
    "Degrees of freedom = {df}\n",
    "\n",
    "Critical Value = {critical_value:0.4f}''', raw=True)"
   ]
  },
  {
   "cell_type": "markdown",
   "metadata": {},
   "source": [
    "Creating the Sales Forecast"
   ]
  },
  {
   "cell_type": "markdown",
   "metadata": {},
   "source": [
    "$$\n",
    "E(N_w) =\n",
    "\\begin{cases}\n",
    "n_w E(T_w) + \\sum_{i=1}^{w-1} n_i E(R_{w \\mid i}) & w \\leq 12 \\\\\n",
    "\\sum_{i=1}^{12} n_i E(R_{w\\mid i}) & w > 12\n",
    "\\end{cases}\n",
    "$$\n",
    "\n",
    "$$E(T_w) = \\frac{\\alpha_T + \\beta_T - 1}{\\alpha_T - 1}$$\n",
    "\n",
    "$$E(R_{w\\mid i}) = \\gamma (w - i)^\\delta \\frac{\\beta_R}{\\alpha_R - 1}$$"
   ]
  },
  {
   "cell_type": "code",
   "execution_count": 22,
   "metadata": {},
   "outputs": [],
   "source": [
    "from scipy.linalg import toeplitz\n",
    "\n",
    "full_weeks = np.arange(52) + 1\n",
    "\n",
    "# expected number of units purchased in weeks 1–52 by any given week 1 trier \n",
    "week_1_triers = np.zeros(full_weeks.shape[0])\n",
    "week_1_triers[0] = (alpha_T + beta_T - 1)/(alpha_T - 1) # expected number of units purchased in the trial week    \n",
    "week_1_triers[1:] = gamma * (full_weeks[1:] - 1)**delta * beta_R / (alpha_R - 1) # expected repeat sales, number of units purchased w−i weeks after trial\n",
    "\n",
    "# mean weekly unit purchases for any week i trier\n",
    "# expected total number of units sold in any given week is\n",
    "mean_weekly_unit_purchases = toeplitz(week_1_triers, r=np.zeros(trial_weeks.shape[0]))\n",
    "\n",
    "# estimate of weekly unit sales - expected total number of units sold in weeks 1–52\n",
    "e_weekly_sales = np.sum(incr_triers * mean_weekly_unit_purchases, axis=1)"
   ]
  },
  {
   "cell_type": "code",
   "execution_count": 23,
   "metadata": {},
   "outputs": [],
   "source": [
    "# Without SciPy's Toeplitz Constructor\n",
    "rows = full_weeks.shape[0]\n",
    "cols = trial_weeks.shape[0]\n",
    "\n",
    "mean_weekly_unit_purchases = np.zeros((rows, cols))\n",
    "\n",
    "row_indices = np.arange(rows)[:, None]\n",
    "col_indices = np.arange(cols)[None, :]\n",
    "lag_mask = row_indices >= col_indices\n",
    "\n",
    "mean_weekly_unit_purchases[lag_mask] = week_1_triers[(row_indices - col_indices)[lag_mask]]\n",
    "e_weekly_sales = np.sum(incr_triers * mean_weekly_unit_purchases, axis=1)"
   ]
  },
  {
   "cell_type": "code",
   "execution_count": 24,
   "metadata": {},
   "outputs": [
    {
     "data": {
      "application/vnd.vegalite.v5+json": {
       "$schema": "https://vega.github.io/schema/vega-lite/v5.20.1.json",
       "config": {
        "axisX": {
         "grid": false
        },
        "axisY": {
         "grid": false
        },
        "view": {
         "continuousHeight": 300,
         "continuousWidth": 300,
         "stroke": null
        }
       },
       "datasets": {
        "data-1582f701f20e8e83906b4221087dd442": [
         {
          "Estimated Sales": "Total Sales",
          "Sales": 3490.6573412619664,
          "Week": 1
         },
         {
          "Estimated Sales": "Total Sales",
          "Sales": 3907.5326990951503,
          "Week": 2
         },
         {
          "Estimated Sales": "Total Sales",
          "Sales": 4535.6070095147425,
          "Week": 3
         },
         {
          "Estimated Sales": "Total Sales",
          "Sales": 4994.790867030074,
          "Week": 4
         },
         {
          "Estimated Sales": "Total Sales",
          "Sales": 5755.1077554224985,
          "Week": 5
         },
         {
          "Estimated Sales": "Total Sales",
          "Sales": 6079.147852443754,
          "Week": 6
         },
         {
          "Estimated Sales": "Total Sales",
          "Sales": 5932.052798160896,
          "Week": 7
         },
         {
          "Estimated Sales": "Total Sales",
          "Sales": 6147.2434156043055,
          "Week": 8
         },
         {
          "Estimated Sales": "Total Sales",
          "Sales": 6700.35293565423,
          "Week": 9
         },
         {
          "Estimated Sales": "Total Sales",
          "Sales": 6838.12331598678,
          "Week": 10
         },
         {
          "Estimated Sales": "Total Sales",
          "Sales": 6749.006667693939,
          "Week": 11
         },
         {
          "Estimated Sales": "Total Sales",
          "Sales": 6365.674261320779,
          "Week": 12
         },
         {
          "Estimated Sales": "Trial Sales",
          "Sales": 3490.6573412619664,
          "Week": 1
         },
         {
          "Estimated Sales": "Trial Sales",
          "Sales": 3641.4608350394847,
          "Week": 2
         },
         {
          "Estimated Sales": "Trial Sales",
          "Sales": 4040.646553862327,
          "Week": 3
         },
         {
          "Estimated Sales": "Trial Sales",
          "Sales": 4266.851794528604,
          "Week": 4
         },
         {
          "Estimated Sales": "Trial Sales",
          "Sales": 4799.099419625728,
          "Week": 5
         },
         {
          "Estimated Sales": "Trial Sales",
          "Sales": 4872.283468076582,
          "Week": 6
         },
         {
          "Estimated Sales": "Trial Sales",
          "Sales": 4488.621638319072,
          "Week": 7
         },
         {
          "Estimated Sales": "Trial Sales",
          "Sales": 4510.798622698119,
          "Week": 8
         },
         {
          "Estimated Sales": "Trial Sales",
          "Sales": 4874.501166514487,
          "Week": 9
         },
         {
          "Estimated Sales": "Trial Sales",
          "Sales": 4801.317118063632,
          "Week": 10
         },
         {
          "Estimated Sales": "Trial Sales",
          "Sales": 4517.451718011833,
          "Week": 11
         },
         {
          "Estimated Sales": "Trial Sales",
          "Sales": 3967.4625054114726,
          "Week": 12
         },
         {
          "Estimated Sales": "Repeat Sales",
          "Sales": 0,
          "Week": 1
         },
         {
          "Estimated Sales": "Repeat Sales",
          "Sales": 266.0718640556656,
          "Week": 2
         },
         {
          "Estimated Sales": "Repeat Sales",
          "Sales": 494.9604556524155,
          "Week": 3
         },
         {
          "Estimated Sales": "Repeat Sales",
          "Sales": 727.93907250147,
          "Week": 4
         },
         {
          "Estimated Sales": "Repeat Sales",
          "Sales": 956.0083357967706,
          "Week": 5
         },
         {
          "Estimated Sales": "Repeat Sales",
          "Sales": 1206.8643843671725,
          "Week": 6
         },
         {
          "Estimated Sales": "Repeat Sales",
          "Sales": 1443.4311598418235,
          "Week": 7
         },
         {
          "Estimated Sales": "Repeat Sales",
          "Sales": 1636.4447929061862,
          "Week": 8
         },
         {
          "Estimated Sales": "Repeat Sales",
          "Sales": 1825.8517691397437,
          "Week": 9
         },
         {
          "Estimated Sales": "Repeat Sales",
          "Sales": 2036.806197923148,
          "Week": 10
         },
         {
          "Estimated Sales": "Repeat Sales",
          "Sales": 2231.554949682106,
          "Week": 11
         },
         {
          "Estimated Sales": "Repeat Sales",
          "Sales": 2398.2117559093062,
          "Week": 12
         }
        ],
        "data-1b1a69d25392ff50073fe6b520106f43": [
         {
          "Actual Sales": "Total Sales",
          "Sales": 3627,
          "Week": 1
         },
         {
          "Actual Sales": "Total Sales",
          "Sales": 3857,
          "Week": 2
         },
         {
          "Actual Sales": "Total Sales",
          "Sales": 4512,
          "Week": 3
         },
         {
          "Actual Sales": "Total Sales",
          "Sales": 5054,
          "Week": 4
         },
         {
          "Actual Sales": "Total Sales",
          "Sales": 5843,
          "Week": 5
         },
         {
          "Actual Sales": "Total Sales",
          "Sales": 6456,
          "Week": 6
         },
         {
          "Actual Sales": "Total Sales",
          "Sales": 5906,
          "Week": 7
         },
         {
          "Actual Sales": "Total Sales",
          "Sales": 6077,
          "Week": 8
         },
         {
          "Actual Sales": "Total Sales",
          "Sales": 6757,
          "Week": 9
         },
         {
          "Actual Sales": "Total Sales",
          "Sales": 6848,
          "Week": 10
         },
         {
          "Actual Sales": "Total Sales",
          "Sales": 6770,
          "Week": 11
         },
         {
          "Actual Sales": "Total Sales",
          "Sales": 6781,
          "Week": 12
         },
         {
          "Actual Sales": "Trial Sales",
          "Sales": 3627,
          "Week": 1
         },
         {
          "Actual Sales": "Trial Sales",
          "Sales": 3630,
          "Week": 2
         },
         {
          "Actual Sales": "Trial Sales",
          "Sales": 4015,
          "Week": 3
         },
         {
          "Actual Sales": "Trial Sales",
          "Sales": 4347,
          "Week": 4
         },
         {
          "Actual Sales": "Trial Sales",
          "Sales": 4867,
          "Week": 5
         },
         {
          "Actual Sales": "Trial Sales",
          "Sales": 5019,
          "Week": 6
         },
         {
          "Actual Sales": "Trial Sales",
          "Sales": 4457,
          "Week": 7
         },
         {
          "Actual Sales": "Trial Sales",
          "Sales": 4501,
          "Week": 8
         },
         {
          "Actual Sales": "Trial Sales",
          "Sales": 4896,
          "Week": 9
         },
         {
          "Actual Sales": "Trial Sales",
          "Sales": 4795,
          "Week": 10
         },
         {
          "Actual Sales": "Trial Sales",
          "Sales": 4450,
          "Week": 11
         },
         {
          "Actual Sales": "Trial Sales",
          "Sales": 4261,
          "Week": 12
         },
         {
          "Actual Sales": "Repeat Sales",
          "Sales": 0,
          "Week": 1
         },
         {
          "Actual Sales": "Repeat Sales",
          "Sales": 227,
          "Week": 2
         },
         {
          "Actual Sales": "Repeat Sales",
          "Sales": 497,
          "Week": 3
         },
         {
          "Actual Sales": "Repeat Sales",
          "Sales": 707,
          "Week": 4
         },
         {
          "Actual Sales": "Repeat Sales",
          "Sales": 976,
          "Week": 5
         },
         {
          "Actual Sales": "Repeat Sales",
          "Sales": 1437,
          "Week": 6
         },
         {
          "Actual Sales": "Repeat Sales",
          "Sales": 1449,
          "Week": 7
         },
         {
          "Actual Sales": "Repeat Sales",
          "Sales": 1576,
          "Week": 8
         },
         {
          "Actual Sales": "Repeat Sales",
          "Sales": 1861,
          "Week": 9
         },
         {
          "Actual Sales": "Repeat Sales",
          "Sales": 2053,
          "Week": 10
         },
         {
          "Actual Sales": "Repeat Sales",
          "Sales": 2320,
          "Week": 11
         },
         {
          "Actual Sales": "Repeat Sales",
          "Sales": 2520,
          "Week": 12
         }
        ]
       },
       "height": 250,
       "layer": [
        {
         "data": {
          "name": "data-1582f701f20e8e83906b4221087dd442"
         },
         "encoding": {
          "color": {
           "field": "Estimated Sales",
           "type": "nominal"
          },
          "x": {
           "axis": {
            "labelExpr": "datum.value",
            "title": "Week",
            "values": [
             0,
             4,
             8,
             12
            ]
           },
           "field": "Week",
           "scale": {
            "domain": [
             0,
             12
            ]
           },
           "type": "quantitative"
          },
          "y": {
           "field": "Sales",
           "scale": {},
           "title": "Units Purchased",
           "type": "quantitative"
          }
         },
         "mark": {
          "strokeDash": [
           4,
           4
          ],
          "strokeWidth": 2,
          "type": "line"
         }
        },
        {
         "data": {
          "name": "data-1b1a69d25392ff50073fe6b520106f43"
         },
         "encoding": {
          "color": {
           "field": "Actual Sales",
           "type": "nominal"
          },
          "x": {
           "axis": {
            "labelExpr": "datum.value",
            "title": "Week",
            "values": [
             0,
             4,
             8,
             12
            ]
           },
           "field": "Week",
           "scale": {
            "domain": [
             0,
             12
            ]
           },
           "type": "quantitative"
          },
          "y": {
           "field": "Sales",
           "scale": {},
           "title": "Units Purchased",
           "type": "quantitative"
          }
         },
         "mark": {
          "strokeDash": [
           1,
           0
          ],
          "strokeWidth": 2,
          "type": "line"
         }
        }
       ],
       "title": "Model Fit: Trial/Repeat Decomposition",
       "width": 650
      },
      "text/plain": [
       "<VegaLite 5 object>\n",
       "\n",
       "If you see this message, it means the renderer has not been properly enabled\n",
       "for the frontend that you are using. For more information, see\n",
       "https://altair-viz.github.io/user_guide/display_frontends.html#troubleshooting\n"
      ]
     },
     "execution_count": 24,
     "metadata": {},
     "output_type": "execute_result"
    }
   ],
   "source": [
    "e_total_sales = e_weekly_sales[:12]\n",
    "e_trial_sales = mean_weekly_unit_purchases.diagonal() * incr_triers\n",
    "e_repeat_sales = e_total_sales - e_trial_sales\n",
    "\n",
    "e_weekly_sales_df = pl.DataFrame({'Week': trial_weeks, \n",
    "                               'Total Sales': e_total_sales, \n",
    "                               'Trial Sales': e_trial_sales, \n",
    "                               'Repeat Sales': e_repeat_sales})\n",
    "\n",
    "e_weekly_sales_df = e_weekly_sales_df.unpivot(index='Week', on=['Total Sales', 'Trial Sales', 'Repeat Sales'], variable_name='Estimated Sales', value_name='Sales')\n",
    "\n",
    "weekly_sales_df = (\n",
    "    CDNOW_master\n",
    "    .with_columns(((pl.col('PurchDay') - 1) // 7 + 1).alias('Week'))  \n",
    "    .group_by('Week')\n",
    "    .agg(pl.col('Quant').sum().alias('Total Sales'))\n",
    "    .sort('Week')\n",
    "    .filter(pl.col('Week') <= 12)\n",
    "    .join(other=weeklytrierquant, on='Week', how='left')\n",
    "    .with_columns((pl.col('Total Sales') - pl.col('Triers Quant')).alias('Repeat Sales'))\n",
    "    .rename({'Triers Quant': 'Trial Sales'})\n",
    ")\n",
    "\n",
    "weekly_sales_df = weekly_sales_df.unpivot(index='Week', on=['Total Sales', 'Trial Sales', 'Repeat Sales'], variable_name='Actual Sales', value_name='Sales')\n",
    "\n",
    "forecasted_chart = (\n",
    "    ChartTemp(e_weekly_sales_df)\n",
    "    .line_encode(y_col='Sales', y_title='Units Purchased',  color='Estimated Sales:N', x_range=12, dash=[4,4])\n",
    ")\n",
    "\n",
    "actual_chart = (\n",
    "    ChartTemp(weekly_sales_df.collect())\n",
    "    .line_encode(y_col='Sales', y_title='Units Purchased',  color='Actual Sales:N', x_range=12)\n",
    ")\n",
    "\n",
    "chart = forecasted_chart + actual_chart\n",
    "\n",
    "layered_line_prop(chart=chart, title=\"Model Fit: Trial/Repeat Decomposition\")"
   ]
  },
  {
   "cell_type": "code",
   "execution_count": 25,
   "metadata": {},
   "outputs": [
    {
     "data": {
      "application/vnd.vegalite.v5+json": {
       "$schema": "https://vega.github.io/schema/vega-lite/v5.20.1.json",
       "config": {
        "axisX": {
         "grid": false
        },
        "axisY": {
         "grid": false
        },
        "view": {
         "continuousHeight": 300,
         "continuousWidth": 300,
         "stroke": null
        }
       },
       "datasets": {
        "data-04ec18054725cbb160a41da3888574f0": [
         {
          "Repeat Sales": 0,
          "Week": 1
         },
         {
          "Repeat Sales": 266.0718640556656,
          "Week": 2
         },
         {
          "Repeat Sales": 494.9604556524155,
          "Week": 3
         },
         {
          "Repeat Sales": 727.93907250147,
          "Week": 4
         },
         {
          "Repeat Sales": 956.0083357967706,
          "Week": 5
         },
         {
          "Repeat Sales": 1206.8643843671725,
          "Week": 6
         },
         {
          "Repeat Sales": 1443.4311598418235,
          "Week": 7
         },
         {
          "Repeat Sales": 1636.4447929061862,
          "Week": 8
         },
         {
          "Repeat Sales": 1825.8517691397437,
          "Week": 9
         },
         {
          "Repeat Sales": 2036.806197923148,
          "Week": 10
         },
         {
          "Repeat Sales": 2231.554949682106,
          "Week": 11
         },
         {
          "Repeat Sales": 2398.2117559093062,
          "Week": 12
         },
         {
          "Repeat Sales": 2521.370052306764,
          "Week": 13
         },
         {
          "Repeat Sales": 2346.9351513054266,
          "Week": 14
         },
         {
          "Repeat Sales": 2228.645145822402,
          "Week": 15
         },
         {
          "Repeat Sales": 2137.4348369599825,
          "Week": 16
         },
         {
          "Repeat Sales": 2062.8863709173766,
          "Week": 17
         },
         {
          "Repeat Sales": 1999.8137908143985,
          "Week": 18
         },
         {
          "Repeat Sales": 1945.1907405541322,
          "Week": 19
         },
         {
          "Repeat Sales": 1897.0732477879374,
          "Week": 20
         },
         {
          "Repeat Sales": 1854.1289201468178,
          "Week": 21
         },
         {
          "Repeat Sales": 1815.400537901236,
          "Week": 22
         },
         {
          "Repeat Sales": 1780.1753125310647,
          "Week": 23
         },
         {
          "Repeat Sales": 1747.9072279951704,
          "Week": 24
         },
         {
          "Repeat Sales": 1718.1682957554165,
          "Week": 25
         },
         {
          "Repeat Sales": 1690.6165822507492,
          "Week": 26
         },
         {
          "Repeat Sales": 1664.9744697767846,
          "Week": 27
         },
         {
          "Repeat Sales": 1641.0134254895618,
          "Week": 28
         },
         {
          "Repeat Sales": 1618.5430555622438,
          "Week": 29
         },
         {
          "Repeat Sales": 1597.403065310759,
          "Week": 30
         },
         {
          "Repeat Sales": 1577.457240712765,
          "Week": 31
         },
         {
          "Repeat Sales": 1558.5888674664402,
          "Week": 32
         },
         {
          "Repeat Sales": 1540.6971924550646,
          "Week": 33
         },
         {
          "Repeat Sales": 1523.6946542406329,
          "Week": 34
         },
         {
          "Repeat Sales": 1507.5046897087007,
          "Week": 35
         },
         {
          "Repeat Sales": 1492.0599783779417,
          "Week": 36
         },
         {
          "Repeat Sales": 1477.3010233616303,
          "Week": 37
         },
         {
          "Repeat Sales": 1463.1749942435963,
          "Week": 38
         },
         {
          "Repeat Sales": 1449.6347758498632,
          "Week": 39
         },
         {
          "Repeat Sales": 1436.6381804269977,
          "Week": 40
         },
         {
          "Repeat Sales": 1424.1472906478516,
          "Week": 41
         },
         {
          "Repeat Sales": 1412.1279082123567,
          "Week": 42
         },
         {
          "Repeat Sales": 1400.54908831944,
          "Week": 43
         },
         {
          "Repeat Sales": 1389.3827444590893,
          "Week": 44
         },
         {
          "Repeat Sales": 1378.603311165461,
          "Week": 45
         },
         {
          "Repeat Sales": 1368.1874548352293,
          "Week": 46
         },
         {
          "Repeat Sales": 1358.113824632454,
          "Week": 47
         },
         {
          "Repeat Sales": 1348.3628370047961,
          "Week": 48
         },
         {
          "Repeat Sales": 1338.9164885239063,
          "Week": 49
         },
         {
          "Repeat Sales": 1329.7581927078663,
          "Week": 50
         },
         {
          "Repeat Sales": 1320.8726372402916,
          "Week": 51
         },
         {
          "Repeat Sales": 1312.2456586103237,
          "Week": 52
         }
        ],
        "data-1519fa3d5fbdf24fca9c045bbf18e2aa": [
         {
          "Repeat Sales": 3050,
          "Week": 30
         },
         {
          "Repeat Sales": 2592,
          "Week": 45
         },
         {
          "Repeat Sales": 1619,
          "Week": 24
         },
         {
          "Repeat Sales": 1112,
          "Week": 36
         },
         {
          "Repeat Sales": 1272,
          "Week": 39
         },
         {
          "Repeat Sales": 1296,
          "Week": 42
         },
         {
          "Repeat Sales": 1437,
          "Week": 6
         },
         {
          "Repeat Sales": 1402,
          "Week": 27
         },
         {
          "Repeat Sales": 2210,
          "Week": 15
         },
         {
          "Repeat Sales": 1731,
          "Week": 48
         },
         {
          "Repeat Sales": 1069,
          "Week": 51
         },
         {
          "Repeat Sales": 1861,
          "Week": 9
         },
         {
          "Repeat Sales": 1367,
          "Week": 33
         },
         {
          "Repeat Sales": 1800,
          "Week": 18
         },
         {
          "Repeat Sales": 1400,
          "Week": 21
         },
         {
          "Repeat Sales": 2520,
          "Week": 12
         },
         {
          "Repeat Sales": 497,
          "Week": 3
         },
         {
          "Repeat Sales": 2381,
          "Week": 13
         },
         {
          "Repeat Sales": 2053,
          "Week": 10
         },
         {
          "Repeat Sales": 1449,
          "Week": 7
         },
         {
          "Repeat Sales": 2038,
          "Week": 25
         },
         {
          "Repeat Sales": 1701,
          "Week": 19
         },
         {
          "Repeat Sales": 1186,
          "Week": 28
         },
         {
          "Repeat Sales": 942,
          "Week": 52
         },
         {
          "Repeat Sales": 0,
          "Week": 1
         },
         {
          "Repeat Sales": 1157,
          "Week": 40
         },
         {
          "Repeat Sales": 707,
          "Week": 4
         },
         {
          "Repeat Sales": 1543,
          "Week": 22
         },
         {
          "Repeat Sales": 1197,
          "Week": 34
         },
         {
          "Repeat Sales": 2233,
          "Week": 31
         },
         {
          "Repeat Sales": 1718,
          "Week": 43
         },
         {
          "Repeat Sales": 1532,
          "Week": 37
         },
         {
          "Repeat Sales": 1726,
          "Week": 46
         },
         {
          "Repeat Sales": 1856,
          "Week": 49
         },
         {
          "Repeat Sales": 2297,
          "Week": 16
         },
         {
          "Repeat Sales": 1738,
          "Week": 26
         },
         {
          "Repeat Sales": 976,
          "Week": 5
         },
         {
          "Repeat Sales": 227,
          "Week": 2
         },
         {
          "Repeat Sales": 1095,
          "Week": 32
         },
         {
          "Repeat Sales": 2039,
          "Week": 17
         },
         {
          "Repeat Sales": 1801,
          "Week": 20
         },
         {
          "Repeat Sales": 2575,
          "Week": 14
         },
         {
          "Repeat Sales": 2320,
          "Week": 11
         },
         {
          "Repeat Sales": 1398,
          "Week": 29
         },
         {
          "Repeat Sales": 1576,
          "Week": 8
         },
         {
          "Repeat Sales": 1427,
          "Week": 23
         },
         {
          "Repeat Sales": 1464,
          "Week": 47
         },
         {
          "Repeat Sales": 1454,
          "Week": 44
         },
         {
          "Repeat Sales": 1155,
          "Week": 35
         },
         {
          "Repeat Sales": 1456,
          "Week": 38
         },
         {
          "Repeat Sales": 1456,
          "Week": 41
         },
         {
          "Repeat Sales": 1868,
          "Week": 50
         }
        ]
       },
       "height": 250,
       "layer": [
        {
         "data": {
          "name": "data-04ec18054725cbb160a41da3888574f0"
         },
         "encoding": {
          "color": {},
          "x": {
           "axis": {
            "labelExpr": "datum.value",
            "title": "Week",
            "values": [
             0,
             4,
             8,
             12,
             16,
             20,
             24,
             28,
             32,
             36,
             40,
             44,
             48,
             52
            ]
           },
           "field": "Week",
           "scale": {
            "domain": [
             0,
             52
            ]
           },
           "type": "quantitative"
          },
          "y": {
           "field": "Repeat Sales",
           "scale": {},
           "title": "Units Purchased",
           "type": "quantitative"
          }
         },
         "mark": {
          "strokeDash": [
           4,
           4
          ],
          "strokeWidth": 2,
          "type": "line"
         }
        },
        {
         "data": {
          "name": "data-1519fa3d5fbdf24fca9c045bbf18e2aa"
         },
         "encoding": {
          "color": {},
          "x": {
           "axis": {
            "labelExpr": "datum.value",
            "title": "Week",
            "values": [
             0,
             4,
             8,
             12,
             16,
             20,
             24,
             28,
             32,
             36,
             40,
             44,
             48,
             52
            ]
           },
           "field": "Week",
           "scale": {
            "domain": [
             0,
             52
            ]
           },
           "type": "quantitative"
          },
          "y": {
           "field": "Repeat Sales",
           "scale": {},
           "title": "Units Purchased",
           "type": "quantitative"
          }
         },
         "mark": {
          "strokeDash": [
           1,
           0
          ],
          "strokeWidth": 2,
          "type": "line"
         }
        }
       ],
       "title": "Forecast Weekly Repeat Sales",
       "width": 650
      },
      "text/plain": [
       "<VegaLite 5 object>\n",
       "\n",
       "If you see this message, it means the renderer has not been properly enabled\n",
       "for the frontend that you are using. For more information, see\n",
       "https://altair-viz.github.io/user_guide/display_frontends.html#troubleshooting\n"
      ]
     },
     "execution_count": 25,
     "metadata": {},
     "output_type": "execute_result"
    }
   ],
   "source": [
    "e_total_sales = e_weekly_sales\n",
    "e_trial_sales = np.zeros((full_weeks.shape[0]))\n",
    "e_trial_sales[:trial_weeks.shape[0]] = mean_weekly_unit_purchases.diagonal() * incr_triers\n",
    "e_repeat_sales = e_total_sales - e_trial_sales\n",
    "\n",
    "e_repeat_sales_df = pl.DataFrame({'Week': full_weeks, \n",
    "                               'Repeat Sales': e_repeat_sales})\n",
    "\n",
    "\n",
    "weekly_repeat_df = (\n",
    "    CDNOW_master\n",
    "    .with_columns(((pl.col('PurchDay') - 1) // 7 + 1).alias('Week'))  \n",
    "    .group_by('Week')\n",
    "    .agg(pl.col('Quant').sum().alias('Total Sales'))\n",
    "    .join(other=weeklytrierquant, on='Week', how='left')\n",
    "    .fill_null(0)\n",
    "    .with_columns((pl.col('Total Sales') - pl.col('Triers Quant')).alias('Repeat Sales'))\n",
    "    .select('Week', 'Repeat Sales')\n",
    ")\n",
    "\n",
    "forecasted_chart = (\n",
    "    ChartTemp(e_repeat_sales_df)\n",
    "    .line_encode(y_col='Repeat Sales', y_title='Units Purchased', x_range=52, dash=[4,4])\n",
    ")\n",
    "\n",
    "actual_chart = (\n",
    "    ChartTemp(weekly_repeat_df.filter(pl.col('Week') <= 52).collect())\n",
    "    .line_encode(y_col='Repeat Sales', y_title='Units Purchased', x_range=52)\n",
    ")\n",
    "\n",
    "chart = forecasted_chart + actual_chart\n",
    "\n",
    "layered_line_prop(chart, 'Forecast Weekly Repeat Sales')"
   ]
  },
  {
   "cell_type": "code",
   "execution_count": 26,
   "metadata": {},
   "outputs": [
    {
     "data": {
      "application/vnd.vegalite.v5+json": {
       "$schema": "https://vega.github.io/schema/vega-lite/v5.20.1.json",
       "config": {
        "axisX": {
         "grid": false
        },
        "axisY": {
         "grid": false
        },
        "view": {
         "continuousHeight": 300,
         "continuousWidth": 300,
         "stroke": null
        }
       },
       "datasets": {
        "data-40495179b4f9c6208563dfac00a6ead4": [
         {
          "Cumulative Repeat Sales": 0,
          "Repeat Sales": 0,
          "Week": 1
         },
         {
          "Cumulative Repeat Sales": 0.227,
          "Repeat Sales": 227,
          "Week": 2
         },
         {
          "Cumulative Repeat Sales": 0.724,
          "Repeat Sales": 497,
          "Week": 3
         },
         {
          "Cumulative Repeat Sales": 1.431,
          "Repeat Sales": 707,
          "Week": 4
         },
         {
          "Cumulative Repeat Sales": 2.407,
          "Repeat Sales": 976,
          "Week": 5
         },
         {
          "Cumulative Repeat Sales": 3.844,
          "Repeat Sales": 1437,
          "Week": 6
         },
         {
          "Cumulative Repeat Sales": 5.293,
          "Repeat Sales": 1449,
          "Week": 7
         },
         {
          "Cumulative Repeat Sales": 6.869,
          "Repeat Sales": 1576,
          "Week": 8
         },
         {
          "Cumulative Repeat Sales": 8.73,
          "Repeat Sales": 1861,
          "Week": 9
         },
         {
          "Cumulative Repeat Sales": 10.783,
          "Repeat Sales": 2053,
          "Week": 10
         },
         {
          "Cumulative Repeat Sales": 13.103,
          "Repeat Sales": 2320,
          "Week": 11
         },
         {
          "Cumulative Repeat Sales": 15.623000000000001,
          "Repeat Sales": 2520,
          "Week": 12
         },
         {
          "Cumulative Repeat Sales": 18.004,
          "Repeat Sales": 2381,
          "Week": 13
         },
         {
          "Cumulative Repeat Sales": 20.579,
          "Repeat Sales": 2575,
          "Week": 14
         },
         {
          "Cumulative Repeat Sales": 22.789,
          "Repeat Sales": 2210,
          "Week": 15
         },
         {
          "Cumulative Repeat Sales": 25.086000000000002,
          "Repeat Sales": 2297,
          "Week": 16
         },
         {
          "Cumulative Repeat Sales": 27.125,
          "Repeat Sales": 2039,
          "Week": 17
         },
         {
          "Cumulative Repeat Sales": 28.925,
          "Repeat Sales": 1800,
          "Week": 18
         },
         {
          "Cumulative Repeat Sales": 30.626,
          "Repeat Sales": 1701,
          "Week": 19
         },
         {
          "Cumulative Repeat Sales": 32.427,
          "Repeat Sales": 1801,
          "Week": 20
         },
         {
          "Cumulative Repeat Sales": 33.827,
          "Repeat Sales": 1400,
          "Week": 21
         },
         {
          "Cumulative Repeat Sales": 35.37,
          "Repeat Sales": 1543,
          "Week": 22
         },
         {
          "Cumulative Repeat Sales": 36.797000000000004,
          "Repeat Sales": 1427,
          "Week": 23
         },
         {
          "Cumulative Repeat Sales": 38.416000000000004,
          "Repeat Sales": 1619,
          "Week": 24
         },
         {
          "Cumulative Repeat Sales": 40.454,
          "Repeat Sales": 2038,
          "Week": 25
         },
         {
          "Cumulative Repeat Sales": 42.192,
          "Repeat Sales": 1738,
          "Week": 26
         },
         {
          "Cumulative Repeat Sales": 43.594,
          "Repeat Sales": 1402,
          "Week": 27
         },
         {
          "Cumulative Repeat Sales": 44.78,
          "Repeat Sales": 1186,
          "Week": 28
         },
         {
          "Cumulative Repeat Sales": 46.178000000000004,
          "Repeat Sales": 1398,
          "Week": 29
         },
         {
          "Cumulative Repeat Sales": 49.228,
          "Repeat Sales": 3050,
          "Week": 30
         },
         {
          "Cumulative Repeat Sales": 51.461,
          "Repeat Sales": 2233,
          "Week": 31
         },
         {
          "Cumulative Repeat Sales": 52.556000000000004,
          "Repeat Sales": 1095,
          "Week": 32
         },
         {
          "Cumulative Repeat Sales": 53.923,
          "Repeat Sales": 1367,
          "Week": 33
         },
         {
          "Cumulative Repeat Sales": 55.120000000000005,
          "Repeat Sales": 1197,
          "Week": 34
         },
         {
          "Cumulative Repeat Sales": 56.275,
          "Repeat Sales": 1155,
          "Week": 35
         },
         {
          "Cumulative Repeat Sales": 57.387,
          "Repeat Sales": 1112,
          "Week": 36
         },
         {
          "Cumulative Repeat Sales": 58.919000000000004,
          "Repeat Sales": 1532,
          "Week": 37
         },
         {
          "Cumulative Repeat Sales": 60.375,
          "Repeat Sales": 1456,
          "Week": 38
         },
         {
          "Cumulative Repeat Sales": 61.647,
          "Repeat Sales": 1272,
          "Week": 39
         },
         {
          "Cumulative Repeat Sales": 62.804,
          "Repeat Sales": 1157,
          "Week": 40
         },
         {
          "Cumulative Repeat Sales": 64.26,
          "Repeat Sales": 1456,
          "Week": 41
         },
         {
          "Cumulative Repeat Sales": 65.556,
          "Repeat Sales": 1296,
          "Week": 42
         },
         {
          "Cumulative Repeat Sales": 67.274,
          "Repeat Sales": 1718,
          "Week": 43
         },
         {
          "Cumulative Repeat Sales": 68.728,
          "Repeat Sales": 1454,
          "Week": 44
         },
         {
          "Cumulative Repeat Sales": 71.32000000000001,
          "Repeat Sales": 2592,
          "Week": 45
         },
         {
          "Cumulative Repeat Sales": 73.046,
          "Repeat Sales": 1726,
          "Week": 46
         },
         {
          "Cumulative Repeat Sales": 74.51,
          "Repeat Sales": 1464,
          "Week": 47
         },
         {
          "Cumulative Repeat Sales": 76.241,
          "Repeat Sales": 1731,
          "Week": 48
         },
         {
          "Cumulative Repeat Sales": 78.09700000000001,
          "Repeat Sales": 1856,
          "Week": 49
         },
         {
          "Cumulative Repeat Sales": 79.965,
          "Repeat Sales": 1868,
          "Week": 50
         },
         {
          "Cumulative Repeat Sales": 81.034,
          "Repeat Sales": 1069,
          "Week": 51
         },
         {
          "Cumulative Repeat Sales": 81.976,
          "Repeat Sales": 942,
          "Week": 52
         }
        ],
        "data-ad8de260af8e25aa5412003f208d6592": [
         {
          "Cumulative Repeat Sales": 0,
          "Repeat Sales": 0,
          "Week": 1
         },
         {
          "Cumulative Repeat Sales": 0.26607186405566563,
          "Repeat Sales": 266.0718640556656,
          "Week": 2
         },
         {
          "Cumulative Repeat Sales": 0.7610323197080812,
          "Repeat Sales": 494.9604556524155,
          "Week": 3
         },
         {
          "Cumulative Repeat Sales": 1.488971392209551,
          "Repeat Sales": 727.93907250147,
          "Week": 4
         },
         {
          "Cumulative Repeat Sales": 2.444979728006322,
          "Repeat Sales": 956.0083357967706,
          "Week": 5
         },
         {
          "Cumulative Repeat Sales": 3.651844112373494,
          "Repeat Sales": 1206.8643843671725,
          "Week": 6
         },
         {
          "Cumulative Repeat Sales": 5.095275272215319,
          "Repeat Sales": 1443.4311598418235,
          "Week": 7
         },
         {
          "Cumulative Repeat Sales": 6.731720065121505,
          "Repeat Sales": 1636.4447929061862,
          "Week": 8
         },
         {
          "Cumulative Repeat Sales": 8.55757183426125,
          "Repeat Sales": 1825.8517691397437,
          "Week": 9
         },
         {
          "Cumulative Repeat Sales": 10.594378032184396,
          "Repeat Sales": 2036.806197923148,
          "Week": 10
         },
         {
          "Cumulative Repeat Sales": 12.825932981866503,
          "Repeat Sales": 2231.554949682106,
          "Week": 11
         },
         {
          "Cumulative Repeat Sales": 15.22414473777581,
          "Repeat Sales": 2398.2117559093062,
          "Week": 12
         },
         {
          "Cumulative Repeat Sales": 17.745514790082574,
          "Repeat Sales": 2521.370052306764,
          "Week": 13
         },
         {
          "Cumulative Repeat Sales": 20.092449941388,
          "Repeat Sales": 2346.9351513054266,
          "Week": 14
         },
         {
          "Cumulative Repeat Sales": 22.321095087210402,
          "Repeat Sales": 2228.645145822402,
          "Week": 15
         },
         {
          "Cumulative Repeat Sales": 24.458529924170385,
          "Repeat Sales": 2137.4348369599825,
          "Week": 16
         },
         {
          "Cumulative Repeat Sales": 26.521416295087757,
          "Repeat Sales": 2062.8863709173766,
          "Week": 17
         },
         {
          "Cumulative Repeat Sales": 28.521230085902157,
          "Repeat Sales": 1999.8137908143985,
          "Week": 18
         },
         {
          "Cumulative Repeat Sales": 30.46642082645629,
          "Repeat Sales": 1945.1907405541322,
          "Week": 19
         },
         {
          "Cumulative Repeat Sales": 32.36349407424423,
          "Repeat Sales": 1897.0732477879374,
          "Week": 20
         },
         {
          "Cumulative Repeat Sales": 34.21762299439104,
          "Repeat Sales": 1854.1289201468178,
          "Week": 21
         },
         {
          "Cumulative Repeat Sales": 36.03302353229228,
          "Repeat Sales": 1815.400537901236,
          "Week": 22
         },
         {
          "Cumulative Repeat Sales": 37.81319884482335,
          "Repeat Sales": 1780.1753125310647,
          "Week": 23
         },
         {
          "Cumulative Repeat Sales": 39.56110607281852,
          "Repeat Sales": 1747.9072279951704,
          "Week": 24
         },
         {
          "Cumulative Repeat Sales": 41.27927436857394,
          "Repeat Sales": 1718.1682957554165,
          "Week": 25
         },
         {
          "Cumulative Repeat Sales": 42.96989095082468,
          "Repeat Sales": 1690.6165822507492,
          "Week": 26
         },
         {
          "Cumulative Repeat Sales": 44.634865420601464,
          "Repeat Sales": 1664.9744697767846,
          "Week": 27
         },
         {
          "Cumulative Repeat Sales": 46.275878846091025,
          "Repeat Sales": 1641.0134254895618,
          "Week": 28
         },
         {
          "Cumulative Repeat Sales": 47.89442190165327,
          "Repeat Sales": 1618.5430555622438,
          "Week": 29
         },
         {
          "Cumulative Repeat Sales": 49.49182496696403,
          "Repeat Sales": 1597.403065310759,
          "Week": 30
         },
         {
          "Cumulative Repeat Sales": 51.06928220767679,
          "Repeat Sales": 1577.457240712765,
          "Week": 31
         },
         {
          "Cumulative Repeat Sales": 52.62787107514323,
          "Repeat Sales": 1558.5888674664402,
          "Week": 32
         },
         {
          "Cumulative Repeat Sales": 54.168568267598296,
          "Repeat Sales": 1540.6971924550646,
          "Week": 33
         },
         {
          "Cumulative Repeat Sales": 55.692262921838925,
          "Repeat Sales": 1523.6946542406329,
          "Week": 34
         },
         {
          "Cumulative Repeat Sales": 57.19976761154763,
          "Repeat Sales": 1507.5046897087007,
          "Week": 35
         },
         {
          "Cumulative Repeat Sales": 58.691827589925566,
          "Repeat Sales": 1492.0599783779417,
          "Week": 36
         },
         {
          "Cumulative Repeat Sales": 60.1691286132872,
          "Repeat Sales": 1477.3010233616303,
          "Week": 37
         },
         {
          "Cumulative Repeat Sales": 61.632303607530794,
          "Repeat Sales": 1463.1749942435963,
          "Week": 38
         },
         {
          "Cumulative Repeat Sales": 63.08193838338065,
          "Repeat Sales": 1449.6347758498632,
          "Week": 39
         },
         {
          "Cumulative Repeat Sales": 64.51857656380766,
          "Repeat Sales": 1436.6381804269977,
          "Week": 40
         },
         {
          "Cumulative Repeat Sales": 65.94272385445551,
          "Repeat Sales": 1424.1472906478516,
          "Week": 41
         },
         {
          "Cumulative Repeat Sales": 67.35485176266785,
          "Repeat Sales": 1412.1279082123567,
          "Week": 42
         },
         {
          "Cumulative Repeat Sales": 68.7554008509873,
          "Repeat Sales": 1400.54908831944,
          "Week": 43
         },
         {
          "Cumulative Repeat Sales": 70.14478359544638,
          "Repeat Sales": 1389.3827444590893,
          "Week": 44
         },
         {
          "Cumulative Repeat Sales": 71.52338690661183,
          "Repeat Sales": 1378.603311165461,
          "Week": 45
         },
         {
          "Cumulative Repeat Sales": 72.89157436144707,
          "Repeat Sales": 1368.1874548352293,
          "Week": 46
         },
         {
          "Cumulative Repeat Sales": 74.24968818607952,
          "Repeat Sales": 1358.113824632454,
          "Week": 47
         },
         {
          "Cumulative Repeat Sales": 75.59805102308432,
          "Repeat Sales": 1348.3628370047961,
          "Week": 48
         },
         {
          "Cumulative Repeat Sales": 76.93696751160822,
          "Repeat Sales": 1338.9164885239063,
          "Week": 49
         },
         {
          "Cumulative Repeat Sales": 78.2667257043161,
          "Repeat Sales": 1329.7581927078663,
          "Week": 50
         },
         {
          "Cumulative Repeat Sales": 79.58759834155639,
          "Repeat Sales": 1320.8726372402916,
          "Week": 51
         },
         {
          "Cumulative Repeat Sales": 80.89984400016671,
          "Repeat Sales": 1312.2456586103237,
          "Week": 52
         }
        ]
       },
       "height": 250,
       "layer": [
        {
         "data": {
          "name": "data-ad8de260af8e25aa5412003f208d6592"
         },
         "encoding": {
          "color": {},
          "x": {
           "axis": {
            "labelExpr": "datum.value",
            "title": "Week",
            "values": [
             0,
             4,
             8,
             12,
             16,
             20,
             24,
             28,
             32,
             36,
             40,
             44,
             48,
             52
            ]
           },
           "field": "Week",
           "scale": {
            "domain": [
             0,
             52
            ]
           },
           "type": "quantitative"
          },
          "y": {
           "field": "Cumulative Repeat Sales",
           "scale": {},
           "title": "Units Purchased (000)",
           "type": "quantitative"
          }
         },
         "mark": {
          "strokeDash": [
           4,
           4
          ],
          "strokeWidth": 2,
          "type": "line"
         }
        },
        {
         "data": {
          "name": "data-40495179b4f9c6208563dfac00a6ead4"
         },
         "encoding": {
          "color": {},
          "x": {
           "axis": {
            "labelExpr": "datum.value",
            "title": "Week",
            "values": [
             0,
             4,
             8,
             12,
             16,
             20,
             24,
             28,
             32,
             36,
             40,
             44,
             48,
             52
            ]
           },
           "field": "Week",
           "scale": {
            "domain": [
             0,
             52
            ]
           },
           "type": "quantitative"
          },
          "y": {
           "field": "Cumulative Repeat Sales",
           "scale": {},
           "title": "Units Purchased (000)",
           "type": "quantitative"
          }
         },
         "mark": {
          "strokeDash": [
           1,
           0
          ],
          "strokeWidth": 2,
          "type": "line"
         }
        }
       ],
       "title": "Cumulative Repeat Sales Forecast",
       "width": 650
      },
      "text/plain": [
       "<VegaLite 5 object>\n",
       "\n",
       "If you see this message, it means the renderer has not been properly enabled\n",
       "for the frontend that you are using. For more information, see\n",
       "https://altair-viz.github.io/user_guide/display_frontends.html#troubleshooting\n"
      ]
     },
     "execution_count": 26,
     "metadata": {},
     "output_type": "execute_result"
    }
   ],
   "source": [
    "e_cum_repeat_sales_df = (\n",
    "    e_repeat_sales_df\n",
    "    .with_columns((pl.col('Repeat Sales').cum_sum()/1000).alias('Cumulative Repeat Sales'))\n",
    ")\n",
    "\n",
    "cum_weekly_repeat_df = (\n",
    "    weekly_repeat_df\n",
    "    .filter(pl.col('Week') <= 52)\n",
    "    .sort('Week')\n",
    "    .with_columns((pl.col('Repeat Sales').cum_sum()/1000).alias('Cumulative Repeat Sales'))\n",
    ")\n",
    "\n",
    "forecasted_chart = (\n",
    "    ChartTemp(e_cum_repeat_sales_df)\n",
    "    .line_encode(y_col='Cumulative Repeat Sales', y_title='Units Purchased (000)', x_range=52, dash=[4,4])\n",
    ")\n",
    "\n",
    "actual_chart = (\n",
    "    ChartTemp(cum_weekly_repeat_df.collect())\n",
    "    .line_encode(y_col='Cumulative Repeat Sales', y_title='Units Purchased (000)', x_range=52)\n",
    ")\n",
    "\n",
    "chart = forecasted_chart + actual_chart\n",
    "\n",
    "layered_line_prop(chart, 'Cumulative Repeat Sales Forecast')"
   ]
  },
  {
   "cell_type": "code",
   "execution_count": 27,
   "metadata": {},
   "outputs": [
    {
     "data": {
      "application/vnd.vegalite.v5+json": {
       "$schema": "https://vega.github.io/schema/vega-lite/v5.20.1.json",
       "config": {
        "axisX": {
         "grid": false
        },
        "axisY": {
         "grid": false
        },
        "view": {
         "continuousHeight": 300,
         "continuousWidth": 300,
         "stroke": null
        }
       },
       "datasets": {
        "data-24580c81f6c66b627a32cc3a872d2e9e": [
         {
          "Repeat Sales": 929,
          "Week": 78
         },
         {
          "Repeat Sales": 1112,
          "Week": 36
         },
         {
          "Repeat Sales": 1272,
          "Week": 39
         },
         {
          "Repeat Sales": 1022,
          "Week": 69
         },
         {
          "Repeat Sales": 1090,
          "Week": 66
         },
         {
          "Repeat Sales": 1591,
          "Week": 63
         },
         {
          "Repeat Sales": 1800,
          "Week": 18
         },
         {
          "Repeat Sales": 1069,
          "Week": 51
         },
         {
          "Repeat Sales": 1437,
          "Week": 6
         },
         {
          "Repeat Sales": 1367,
          "Week": 33
         },
         {
          "Repeat Sales": 1619,
          "Week": 24
         },
         {
          "Repeat Sales": 1202,
          "Week": 60
         },
         {
          "Repeat Sales": 1296,
          "Week": 42
         },
         {
          "Repeat Sales": 1142,
          "Week": 54
         },
         {
          "Repeat Sales": 3050,
          "Week": 30
         },
         {
          "Repeat Sales": 2592,
          "Week": 45
         },
         {
          "Repeat Sales": 1402,
          "Week": 27
         },
         {
          "Repeat Sales": 1117,
          "Week": 72
         },
         {
          "Repeat Sales": 1114,
          "Week": 57
         },
         {
          "Repeat Sales": 1383,
          "Week": 75
         },
         {
          "Repeat Sales": 2520,
          "Week": 12
         },
         {
          "Repeat Sales": 1731,
          "Week": 48
         },
         {
          "Repeat Sales": 1400,
          "Week": 21
         },
         {
          "Repeat Sales": 2210,
          "Week": 15
         },
         {
          "Repeat Sales": 497,
          "Week": 3
         },
         {
          "Repeat Sales": 1861,
          "Week": 9
         },
         {
          "Repeat Sales": 1701,
          "Week": 19
         },
         {
          "Repeat Sales": 1856,
          "Week": 49
         },
         {
          "Repeat Sales": 1157,
          "Week": 40
         },
         {
          "Repeat Sales": 1543,
          "Week": 22
         },
         {
          "Repeat Sales": 1718,
          "Week": 43
         },
         {
          "Repeat Sales": 0,
          "Week": 1
         },
         {
          "Repeat Sales": 2297,
          "Week": 16
         },
         {
          "Repeat Sales": 1186,
          "Week": 28
         },
         {
          "Repeat Sales": 1726,
          "Week": 46
         },
         {
          "Repeat Sales": 1885,
          "Week": 61
         },
         {
          "Repeat Sales": 2233,
          "Week": 31
         },
         {
          "Repeat Sales": 1532,
          "Week": 37
         },
         {
          "Repeat Sales": 942,
          "Week": 52
         },
         {
          "Repeat Sales": 2053,
          "Week": 10
         },
         {
          "Repeat Sales": 707,
          "Week": 4
         },
         {
          "Repeat Sales": 1756,
          "Week": 64
         },
         {
          "Repeat Sales": 1294,
          "Week": 58
         },
         {
          "Repeat Sales": 1449,
          "Week": 7
         },
         {
          "Repeat Sales": 1287,
          "Week": 55
         },
         {
          "Repeat Sales": 1197,
          "Week": 34
         },
         {
          "Repeat Sales": 2381,
          "Week": 13
         },
         {
          "Repeat Sales": 2038,
          "Week": 25
         },
         {
          "Repeat Sales": 1398,
          "Week": 29
         },
         {
          "Repeat Sales": 1004,
          "Week": 73
         },
         {
          "Repeat Sales": 1738,
          "Week": 26
         },
         {
          "Repeat Sales": 1427,
          "Week": 23
         },
         {
          "Repeat Sales": 976,
          "Week": 5
         },
         {
          "Repeat Sales": 1576,
          "Week": 8
         },
         {
          "Repeat Sales": 1095,
          "Week": 32
         },
         {
          "Repeat Sales": 973,
          "Week": 67
         },
         {
          "Repeat Sales": 2039,
          "Week": 17
         },
         {
          "Repeat Sales": 227,
          "Week": 2
         },
         {
          "Repeat Sales": 1573,
          "Week": 76
         },
         {
          "Repeat Sales": 1801,
          "Week": 20
         },
         {
          "Repeat Sales": 2320,
          "Week": 11
         },
         {
          "Repeat Sales": 1249,
          "Week": 70
         },
         {
          "Repeat Sales": 2575,
          "Week": 14
         },
         {
          "Repeat Sales": 1456,
          "Week": 41
         },
         {
          "Repeat Sales": 1113,
          "Week": 71
         },
         {
          "Repeat Sales": 1155,
          "Week": 35
         },
         {
          "Repeat Sales": 1143,
          "Week": 53
         },
         {
          "Repeat Sales": 1265,
          "Week": 74
         },
         {
          "Repeat Sales": 1221,
          "Week": 56
         },
         {
          "Repeat Sales": 1793,
          "Week": 62
         },
         {
          "Repeat Sales": 1464,
          "Week": 47
         },
         {
          "Repeat Sales": 1516,
          "Week": 65
         },
         {
          "Repeat Sales": 1868,
          "Week": 50
         },
         {
          "Repeat Sales": 1209,
          "Week": 59
         },
         {
          "Repeat Sales": 1456,
          "Week": 38
         },
         {
          "Repeat Sales": 967,
          "Week": 77
         },
         {
          "Repeat Sales": 1454,
          "Week": 44
         },
         {
          "Repeat Sales": 1202,
          "Week": 68
         }
        ],
        "data-56f3d755bb6dc71ebd74a25879bb7e26": [
         {
          "Repeat Sales": 0,
          "Week": 1
         },
         {
          "Repeat Sales": 266.0718640556656,
          "Week": 2
         },
         {
          "Repeat Sales": 494.9604556524155,
          "Week": 3
         },
         {
          "Repeat Sales": 727.93907250147,
          "Week": 4
         },
         {
          "Repeat Sales": 956.0083357967706,
          "Week": 5
         },
         {
          "Repeat Sales": 1206.8643843671725,
          "Week": 6
         },
         {
          "Repeat Sales": 1443.4311598418235,
          "Week": 7
         },
         {
          "Repeat Sales": 1636.4447929061862,
          "Week": 8
         },
         {
          "Repeat Sales": 1825.8517691397437,
          "Week": 9
         },
         {
          "Repeat Sales": 2036.806197923148,
          "Week": 10
         },
         {
          "Repeat Sales": 2231.554949682106,
          "Week": 11
         },
         {
          "Repeat Sales": 2398.2117559093062,
          "Week": 12
         },
         {
          "Repeat Sales": 2521.370052306764,
          "Week": 13
         },
         {
          "Repeat Sales": 2346.9351513054266,
          "Week": 14
         },
         {
          "Repeat Sales": 2228.645145822402,
          "Week": 15
         },
         {
          "Repeat Sales": 2137.4348369599825,
          "Week": 16
         },
         {
          "Repeat Sales": 2062.8863709173766,
          "Week": 17
         },
         {
          "Repeat Sales": 1999.8137908143985,
          "Week": 18
         },
         {
          "Repeat Sales": 1945.1907405541322,
          "Week": 19
         },
         {
          "Repeat Sales": 1897.0732477879374,
          "Week": 20
         },
         {
          "Repeat Sales": 1854.1289201468178,
          "Week": 21
         },
         {
          "Repeat Sales": 1815.400537901236,
          "Week": 22
         },
         {
          "Repeat Sales": 1780.1753125310647,
          "Week": 23
         },
         {
          "Repeat Sales": 1747.9072279951704,
          "Week": 24
         },
         {
          "Repeat Sales": 1718.1682957554165,
          "Week": 25
         },
         {
          "Repeat Sales": 1690.6165822507492,
          "Week": 26
         },
         {
          "Repeat Sales": 1664.9744697767846,
          "Week": 27
         },
         {
          "Repeat Sales": 1641.0134254895618,
          "Week": 28
         },
         {
          "Repeat Sales": 1618.5430555622438,
          "Week": 29
         },
         {
          "Repeat Sales": 1597.403065310759,
          "Week": 30
         },
         {
          "Repeat Sales": 1577.457240712765,
          "Week": 31
         },
         {
          "Repeat Sales": 1558.5888674664402,
          "Week": 32
         },
         {
          "Repeat Sales": 1540.6971924550646,
          "Week": 33
         },
         {
          "Repeat Sales": 1523.6946542406329,
          "Week": 34
         },
         {
          "Repeat Sales": 1507.5046897087007,
          "Week": 35
         },
         {
          "Repeat Sales": 1492.0599783779417,
          "Week": 36
         },
         {
          "Repeat Sales": 1477.3010233616303,
          "Week": 37
         },
         {
          "Repeat Sales": 1463.1749942435963,
          "Week": 38
         },
         {
          "Repeat Sales": 1449.6347758498632,
          "Week": 39
         },
         {
          "Repeat Sales": 1436.6381804269977,
          "Week": 40
         },
         {
          "Repeat Sales": 1424.1472906478516,
          "Week": 41
         },
         {
          "Repeat Sales": 1412.1279082123567,
          "Week": 42
         },
         {
          "Repeat Sales": 1400.54908831944,
          "Week": 43
         },
         {
          "Repeat Sales": 1389.3827444590893,
          "Week": 44
         },
         {
          "Repeat Sales": 1378.603311165461,
          "Week": 45
         },
         {
          "Repeat Sales": 1368.1874548352293,
          "Week": 46
         },
         {
          "Repeat Sales": 1358.113824632454,
          "Week": 47
         },
         {
          "Repeat Sales": 1348.3628370047961,
          "Week": 48
         },
         {
          "Repeat Sales": 1338.9164885239063,
          "Week": 49
         },
         {
          "Repeat Sales": 1329.7581927078663,
          "Week": 50
         },
         {
          "Repeat Sales": 1320.8726372402916,
          "Week": 51
         },
         {
          "Repeat Sales": 1312.2456586103237,
          "Week": 52
         },
         {
          "Repeat Sales": 1303.864131691683,
          "Week": 53
         },
         {
          "Repeat Sales": 1295.715872181374,
          "Week": 54
         },
         {
          "Repeat Sales": 1287.7895501481762,
          "Week": 55
         },
         {
          "Repeat Sales": 1280.0746132122579,
          "Week": 56
         },
         {
          "Repeat Sales": 1272.5612181014612,
          "Week": 57
         },
         {
          "Repeat Sales": 1265.240169516037,
          "Week": 58
         },
         {
          "Repeat Sales": 1258.1028653888898,
          "Week": 59
         },
         {
          "Repeat Sales": 1251.1412477584556,
          "Week": 60
         },
         {
          "Repeat Sales": 1244.3477585806272,
          "Week": 61
         },
         {
          "Repeat Sales": 1237.7152998983977,
          "Week": 62
         },
         {
          "Repeat Sales": 1231.2371978659655,
          "Week": 63
         },
         {
          "Repeat Sales": 1224.9071701903974,
          "Week": 64
         },
         {
          "Repeat Sales": 1218.7192966104897,
          "Week": 65
         },
         {
          "Repeat Sales": 1212.6679920808122,
          "Week": 66
         },
         {
          "Repeat Sales": 1206.7479823703902,
          "Week": 67
         },
         {
          "Repeat Sales": 1200.9542818211198,
          "Week": 68
         },
         {
          "Repeat Sales": 1195.2821730417756,
          "Week": 69
         },
         {
          "Repeat Sales": 1189.7271883400565,
          "Week": 70
         },
         {
          "Repeat Sales": 1184.2850927181626,
          "Week": 71
         },
         {
          "Repeat Sales": 1178.9518682774399,
          "Week": 72
         },
         {
          "Repeat Sales": 1173.7236998950716,
          "Week": 73
         },
         {
          "Repeat Sales": 1168.5969620510516,
          "Week": 74
         },
         {
          "Repeat Sales": 1163.5682066969882,
          "Week": 75
         },
         {
          "Repeat Sales": 1158.6341520700155,
          "Week": 76
         },
         {
          "Repeat Sales": 1153.791672365341,
          "Week": 77
         },
         {
          "Repeat Sales": 1149.037788190029,
          "Week": 78
         }
        ]
       },
       "height": 250,
       "layer": [
        {
         "data": {
          "name": "data-56f3d755bb6dc71ebd74a25879bb7e26"
         },
         "encoding": {
          "color": {},
          "x": {
           "axis": {
            "labelExpr": "datum.value",
            "title": "Week",
            "values": [
             0,
             4,
             8,
             12,
             16,
             20,
             24,
             28,
             32,
             36,
             40,
             44,
             48,
             52,
             56,
             60,
             64,
             68,
             72,
             76
            ]
           },
           "field": "Week",
           "scale": {
            "domain": [
             0,
             78
            ]
           },
           "type": "quantitative"
          },
          "y": {
           "field": "Repeat Sales",
           "scale": {},
           "title": "Units Purchased",
           "type": "quantitative"
          }
         },
         "mark": {
          "strokeDash": [
           4,
           4
          ],
          "strokeWidth": 2,
          "type": "line"
         }
        },
        {
         "data": {
          "name": "data-24580c81f6c66b627a32cc3a872d2e9e"
         },
         "encoding": {
          "color": {},
          "x": {
           "axis": {
            "labelExpr": "datum.value",
            "title": "Week",
            "values": [
             0,
             4,
             8,
             12,
             16,
             20,
             24,
             28,
             32,
             36,
             40,
             44,
             48,
             52,
             56,
             60,
             64,
             68,
             72,
             76
            ]
           },
           "field": "Week",
           "scale": {
            "domain": [
             0,
             78
            ]
           },
           "type": "quantitative"
          },
          "y": {
           "field": "Repeat Sales",
           "scale": {},
           "title": "Units Purchased",
           "type": "quantitative"
          }
         },
         "mark": {
          "strokeDash": [
           1,
           0
          ],
          "strokeWidth": 2,
          "type": "line"
         }
        }
       ],
       "title": "Forecast Weekly Repeat Sales",
       "width": 650
      },
      "text/plain": [
       "<VegaLite 5 object>\n",
       "\n",
       "If you see this message, it means the renderer has not been properly enabled\n",
       "for the frontend that you are using. For more information, see\n",
       "https://altair-viz.github.io/user_guide/display_frontends.html#troubleshooting\n"
      ]
     },
     "execution_count": 27,
     "metadata": {},
     "output_type": "execute_result"
    }
   ],
   "source": [
    "full_weeks = np.arange(78) + 1\n",
    "week_1_triers = np.zeros(78)\n",
    "week_1_triers[0] = (alpha_T + beta_T - 1)/(alpha_T - 1) # expected number of units purchased in the trial week    \n",
    "week_1_triers[1:] = gamma * (full_weeks[1:] - 1)**delta * beta_R / (alpha_R - 1) # expected repeat sales, number of units purchased w−i weeks after trial\n",
    "\n",
    "rows = full_weeks.shape[0]\n",
    "cols = trial_weeks.shape[0]\n",
    "\n",
    "mean_weekly_unit_purchases = np.zeros((rows, cols))\n",
    "\n",
    "row_indices = np.arange(rows)[:, None]\n",
    "col_indices = np.arange(cols)[None, :]\n",
    "lag_mask = row_indices >= col_indices\n",
    "\n",
    "mean_weekly_unit_purchases[lag_mask] = week_1_triers[(row_indices - col_indices)[lag_mask]]\n",
    "e_weekly_sales = np.sum(incr_triers * mean_weekly_unit_purchases, axis=1)\n",
    "\n",
    "e_trial_sales = np.zeros((full_weeks.shape[0]))\n",
    "e_trial_sales[:trial_weeks.shape[0]] = mean_weekly_unit_purchases.diagonal() * incr_triers\n",
    "e_repeat_sales = e_weekly_sales - e_trial_sales\n",
    "\n",
    "e_repeat_sales_df = pl.DataFrame({'Week': full_weeks,\n",
    "                                  'Repeat Sales': e_repeat_sales})\n",
    "\n",
    "forecasted_chart = (\n",
    "    ChartTemp(e_repeat_sales_df)\n",
    "    .line_encode(y_col='Repeat Sales', y_title='Units Purchased', x_range=78, dash=[4,4])\n",
    ")\n",
    "\n",
    "actual_chart = (\n",
    "    ChartTemp(weekly_repeat_df.collect())\n",
    "    .line_encode(y_col='Repeat Sales', y_title='Units Purchased', x_range=78)\n",
    ")\n",
    "\n",
    "chart = forecasted_chart + actual_chart\n",
    "\n",
    "layered_line_prop(chart, 'Forecast Weekly Repeat Sales')"
   ]
  },
  {
   "cell_type": "code",
   "execution_count": 28,
   "metadata": {},
   "outputs": [
    {
     "data": {
      "text/markdown": [
       "**Week 1:**\n",
       "                 \n",
       "$\\alpha_{T}$ = 5.9117\n",
       "\n",
       "$\\beta_{T}$ = 6.2832\n",
       "\n",
       "Mean = 0.485, Variance = 0.019\n",
       "\n",
       "**All 12 Weeks:**\n",
       "\n",
       "$\\alpha_{T}$ = 6.9066\n",
       "\n",
       "$\\beta_{T}$ = 7.1924\n",
       "\n",
       "Mean = 0.490, Variance = 0.017"
      ]
     },
     "metadata": {},
     "output_type": "display_data"
    }
   ],
   "source": [
    "from scipy.stats import beta\n",
    "\n",
    "qt = np.linspace(beta.ppf(0, w1_alpha_T, w1_beta_T), beta.ppf(1, w1_alpha_T, w1_beta_T), 300)\n",
    "y_w1 = beta.pdf(qt, w1_alpha_T, w1_beta_T)\n",
    "y_w12 = beta.pdf(qt, allW_alpha_T, allW_beta_T)\n",
    "\n",
    "mean_w1, var_w1 = beta.stats(w1_alpha_T, w1_beta_T, moments='mv')\n",
    "mean_w1_comp = (w1_alpha_T)/(w1_alpha_T + w1_beta_T)\n",
    "mean_w12, var_w12 = beta.stats(allW_alpha_T, allW_beta_T, moments='mv')\n",
    "mean_w12_comp = (allW_alpha_T)/(allW_alpha_T + allW_beta_T)\n",
    "\n",
    "display_markdown(f'''**Week 1:**\n",
    "                 \n",
    "$\\\\alpha_{{T}}$ = {w1_alpha_T:0.4f}\n",
    "\n",
    "$\\\\beta_{{T}}$ = {w1_beta_T:0.4f}\n",
    "\n",
    "Mean = {mean_w1:0.3f}, Variance = {var_w1:0.3f}\n",
    "\n",
    "**All 12 Weeks:**\n",
    "\n",
    "$\\\\alpha_{{T}}$ = {allW_alpha_T:0.4f}\n",
    "\n",
    "$\\\\beta_{{T}}$ = {allW_beta_T:0.4f}\n",
    "\n",
    "Mean = {mean_w12:0.3f}, Variance = {var_w12:0.3f}''', raw=True)"
   ]
  },
  {
   "cell_type": "code",
   "execution_count": null,
   "metadata": {},
   "outputs": [
    {
     "data": {
      "application/vnd.vegalite.v5+json": {
       "$schema": "https://vega.github.io/schema/vega-lite/v5.20.1.json",
       "config": {
        "axisX": {
         "grid": false
        },
        "axisY": {
         "grid": false
        },
        "view": {
         "continuousHeight": 300,
         "continuousWidth": 300,
         "stroke": null
        }
       },
       "data": {
        "name": "data-d8c2d64f2c5339c13fd90720213dbd58"
       },
       "datasets": {
        "data-d8c2d64f2c5339c13fd90720213dbd58": [
         {
          "PDF": 0,
          "Week 1 Only vs All 12 Weeks": "Week 1 PDF",
          "qT": 0
         },
         {
          "PDF": 2.1628330449837946e-9,
          "Week 1 Only vs All 12 Weeks": "Week 1 PDF",
          "qT": 0.0033444816053511705
         },
         {
          "PDF": 6.395523789961882e-8,
          "Week 1 Only vs All 12 Weeks": "Week 1 PDF",
          "qT": 0.006688963210702341
         },
         {
          "PDF": 4.603021957052651e-7,
          "Week 1 Only vs All 12 Weeks": "Week 1 PDF",
          "qT": 0.010033444816053512
         },
         {
          "PDF": 0.0000018575414736737338,
          "Week 1 Only vs All 12 Weeks": "Week 1 PDF",
          "qT": 0.013377926421404682
         },
         {
          "PDF": 0.000005459328913772404,
          "Week 1 Only vs All 12 Weeks": "Week 1 PDF",
          "qT": 0.016722408026755852
         },
         {
          "PDF": 0.000013129109539371423,
          "Week 1 Only vs All 12 Weeks": "Week 1 PDF",
          "qT": 0.020066889632107024
         },
         {
          "PDF": 0.00002749240383175892,
          "Week 1 Only vs All 12 Weeks": "Week 1 PDF",
          "qT": 0.023411371237458192
         },
         {
          "PDF": 0.000052021137875020105,
          "Week 1 Only vs All 12 Weeks": "Week 1 PDF",
          "qT": 0.026755852842809364
         },
         {
          "PDF": 0.00009110175856823634,
          "Week 1 Only vs All 12 Weeks": "Week 1 PDF",
          "qT": 0.030100334448160536
         },
         {
          "PDF": 0.00015008858849686443,
          "Week 1 Only vs All 12 Weeks": "Week 1 PDF",
          "qT": 0.033444816053511704
         },
         {
          "PDF": 0.0002353436847469561,
          "Week 1 Only vs All 12 Weeks": "Week 1 PDF",
          "qT": 0.03678929765886287
         },
         {
          "PDF": 0.0003542643286762248,
          "Week 1 Only vs All 12 Weeks": "Week 1 PDF",
          "qT": 0.04013377926421405
         },
         {
          "PDF": 0.0005152991684980936,
          "Week 1 Only vs All 12 Weeks": "Week 1 PDF",
          "qT": 0.043478260869565216
         },
         {
          "PDF": 0.0007279539522285415,
          "Week 1 Only vs All 12 Weeks": "Week 1 PDF",
          "qT": 0.046822742474916385
         },
         {
          "PDF": 0.0010027877185374914,
          "Week 1 Only vs All 12 Weeks": "Week 1 PDF",
          "qT": 0.05016722408026756
         },
         {
          "PDF": 0.0013514002532844277,
          "Week 1 Only vs All 12 Weeks": "Week 1 PDF",
          "qT": 0.05351170568561873
         },
         {
          "PDF": 0.0017864115673710225,
          "Week 1 Only vs All 12 Weeks": "Week 1 PDF",
          "qT": 0.056856187290969896
         },
         {
          "PDF": 0.002321434105234275,
          "Week 1 Only vs All 12 Weeks": "Week 1 PDF",
          "qT": 0.06020066889632107
         },
         {
          "PDF": 0.0029710383515900206,
          "Week 1 Only vs All 12 Weeks": "Week 1 PDF",
          "qT": 0.06354515050167224
         },
         {
          "PDF": 0.0037507124660255144,
          "Week 1 Only vs All 12 Weeks": "Week 1 PDF",
          "qT": 0.06688963210702341
         },
         {
          "PDF": 0.004676816540072819,
          "Week 1 Only vs All 12 Weeks": "Week 1 PDF",
          "qT": 0.07023411371237458
         },
         {
          "PDF": 0.005766532038976623,
          "Week 1 Only vs All 12 Weeks": "Week 1 PDF",
          "qT": 0.07357859531772575
         },
         {
          "PDF": 0.007037806960118938,
          "Week 1 Only vs All 12 Weeks": "Week 1 PDF",
          "qT": 0.07692307692307693
         },
         {
          "PDF": 0.008509297211683472,
          "Week 1 Only vs All 12 Weeks": "Week 1 PDF",
          "qT": 0.0802675585284281
         },
         {
          "PDF": 0.010200304688396226,
          "Week 1 Only vs All 12 Weeks": "Week 1 PDF",
          "qT": 0.08361204013377926
         },
         {
          "PDF": 0.012130712495878427,
          "Week 1 Only vs All 12 Weeks": "Week 1 PDF",
          "qT": 0.08695652173913043
         },
         {
          "PDF": 0.014320917751136792,
          "Week 1 Only vs All 12 Weeks": "Week 1 PDF",
          "qT": 0.0903010033444816
         },
         {
          "PDF": 0.016791762363869235,
          "Week 1 Only vs All 12 Weeks": "Week 1 PDF",
          "qT": 0.09364548494983277
         },
         {
          "PDF": 0.01956446218147204,
          "Week 1 Only vs All 12 Weeks": "Week 1 PDF",
          "qT": 0.09698996655518395
         },
         {
          "PDF": 0.022660534859812533,
          "Week 1 Only vs All 12 Weeks": "Week 1 PDF",
          "qT": 0.10033444816053512
         },
         {
          "PDF": 0.026101726801898293,
          "Week 1 Only vs All 12 Weeks": "Week 1 PDF",
          "qT": 0.10367892976588629
         },
         {
          "PDF": 0.029909939487469693,
          "Week 1 Only vs All 12 Weeks": "Week 1 PDF",
          "qT": 0.10702341137123746
         },
         {
          "PDF": 0.03410715549820793,
          "Week 1 Only vs All 12 Weeks": "Week 1 PDF",
          "qT": 0.11036789297658862
         },
         {
          "PDF": 0.03871536452563823,
          "Week 1 Only vs All 12 Weeks": "Week 1 PDF",
          "qT": 0.11371237458193979
         },
         {
          "PDF": 0.04375648963187394,
          "Week 1 Only vs All 12 Weeks": "Week 1 PDF",
          "qT": 0.11705685618729096
         },
         {
          "PDF": 0.049252314017056424,
          "Week 1 Only vs All 12 Weeks": "Week 1 PDF",
          "qT": 0.12040133779264214
         },
         {
          "PDF": 0.055224408531658636,
          "Week 1 Only vs All 12 Weeks": "Week 1 PDF",
          "qT": 0.12374581939799331
         },
         {
          "PDF": 0.061694060156717044,
          "Week 1 Only vs All 12 Weeks": "Week 1 PDF",
          "qT": 0.12709030100334448
         },
         {
          "PDF": 0.06868220166049756,
          "Week 1 Only vs All 12 Weeks": "Week 1 PDF",
          "qT": 0.13043478260869565
         },
         {
          "PDF": 0.07620934262607673,
          "Week 1 Only vs All 12 Weeks": "Week 1 PDF",
          "qT": 0.13377926421404682
         },
         {
          "PDF": 0.08429550203078898,
          "Week 1 Only vs All 12 Weeks": "Week 1 PDF",
          "qT": 0.13712374581939799
         },
         {
          "PDF": 0.09296014254545815,
          "Week 1 Only vs All 12 Weeks": "Week 1 PDF",
          "qT": 0.14046822742474915
         },
         {
          "PDF": 0.10222210670875236,
          "Week 1 Only vs All 12 Weeks": "Week 1 PDF",
          "qT": 0.14381270903010032
         },
         {
          "PDF": 0.11209955511988189,
          "Week 1 Only vs All 12 Weeks": "Week 1 PDF",
          "qT": 0.1471571906354515
         },
         {
          "PDF": 0.12260990678116217,
          "Week 1 Only vs All 12 Weeks": "Week 1 PDF",
          "qT": 0.1505016722408027
         },
         {
          "PDF": 0.13376978171070125,
          "Week 1 Only vs All 12 Weeks": "Week 1 PDF",
          "qT": 0.15384615384615385
         },
         {
          "PDF": 0.14559494593459596,
          "Week 1 Only vs All 12 Weeks": "Week 1 PDF",
          "qT": 0.15719063545150502
         },
         {
          "PDF": 0.15810025895755206,
          "Week 1 Only vs All 12 Weeks": "Week 1 PDF",
          "qT": 0.1605351170568562
         },
         {
          "PDF": 0.17129962380075117,
          "Week 1 Only vs All 12 Weeks": "Week 1 PDF",
          "qT": 0.16387959866220736
         },
         {
          "PDF": 0.1852059396860606,
          "Week 1 Only vs All 12 Weeks": "Week 1 PDF",
          "qT": 0.16722408026755853
         },
         {
          "PDF": 0.1998310574363205,
          "Week 1 Only vs All 12 Weeks": "Week 1 PDF",
          "qT": 0.1705685618729097
         },
         {
          "PDF": 0.21518573765242946,
          "Week 1 Only vs All 12 Weeks": "Week 1 PDF",
          "qT": 0.17391304347826086
         },
         {
          "PDF": 0.23127961171926967,
          "Week 1 Only vs All 12 Weeks": "Week 1 PDF",
          "qT": 0.17725752508361203
         },
         {
          "PDF": 0.2481211456841748,
          "Week 1 Only vs All 12 Weeks": "Week 1 PDF",
          "qT": 0.1806020066889632
         },
         {
          "PDF": 0.265717607043614,
          "Week 1 Only vs All 12 Weeks": "Week 1 PDF",
          "qT": 0.18394648829431437
         },
         {
          "PDF": 0.28407503446606686,
          "Week 1 Only vs All 12 Weeks": "Week 1 PDF",
          "qT": 0.18729096989966554
         },
         {
          "PDF": 0.3031982104716434,
          "Week 1 Only vs All 12 Weeks": "Week 1 PDF",
          "qT": 0.1906354515050167
         },
         {
          "PDF": 0.32309063708193475,
          "Week 1 Only vs All 12 Weeks": "Week 1 PDF",
          "qT": 0.1939799331103679
         },
         {
          "PDF": 0.3437545144467153,
          "Week 1 Only vs All 12 Weeks": "Week 1 PDF",
          "qT": 0.19732441471571907
         },
         {
          "PDF": 0.3651907224476461,
          "Week 1 Only vs All 12 Weeks": "Week 1 PDF",
          "qT": 0.20066889632107024
         },
         {
          "PDF": 0.38739880527282666,
          "Week 1 Only vs All 12 Weeks": "Week 1 PDF",
          "qT": 0.2040133779264214
         },
         {
          "PDF": 0.4103769589501108,
          "Week 1 Only vs All 12 Weeks": "Week 1 PDF",
          "qT": 0.20735785953177258
         },
         {
          "PDF": 0.4341220218213389,
          "Week 1 Only vs All 12 Weeks": "Week 1 PDF",
          "qT": 0.21070234113712374
         },
         {
          "PDF": 0.4586294679342255,
          "Week 1 Only vs All 12 Weeks": "Week 1 PDF",
          "qT": 0.2140468227424749
         },
         {
          "PDF": 0.4838934033234101,
          "Week 1 Only vs All 12 Weeks": "Week 1 PDF",
          "qT": 0.21739130434782608
         },
         {
          "PDF": 0.509906565147229,
          "Week 1 Only vs All 12 Weeks": "Week 1 PDF",
          "qT": 0.22073578595317725
         },
         {
          "PDF": 0.5366603236420627,
          "Week 1 Only vs All 12 Weeks": "Week 1 PDF",
          "qT": 0.22408026755852842
         },
         {
          "PDF": 0.5641446868516105,
          "Week 1 Only vs All 12 Weeks": "Week 1 PDF",
          "qT": 0.22742474916387959
         },
         {
          "PDF": 0.592348308084217,
          "Week 1 Only vs All 12 Weeks": "Week 1 PDF",
          "qT": 0.23076923076923075
         },
         {
          "PDF": 0.6212584960473454,
          "Week 1 Only vs All 12 Weeks": "Week 1 PDF",
          "qT": 0.23411371237458192
         },
         {
          "PDF": 0.650861227604471,
          "Week 1 Only vs All 12 Weeks": "Week 1 PDF",
          "qT": 0.23745819397993312
         },
         {
          "PDF": 0.6811411630961138,
          "Week 1 Only vs All 12 Weeks": "Week 1 PDF",
          "qT": 0.2408026755852843
         },
         {
          "PDF": 0.71208166416332,
          "Week 1 Only vs All 12 Weeks": "Week 1 PDF",
          "qT": 0.24414715719063546
         },
         {
          "PDF": 0.7436648140087455,
          "Week 1 Only vs All 12 Weeks": "Week 1 PDF",
          "qT": 0.24749163879598662
         },
         {
          "PDF": 0.7758714400275283,
          "Week 1 Only vs All 12 Weeks": "Week 1 PDF",
          "qT": 0.2508361204013378
         },
         {
          "PDF": 0.808681138737344,
          "Week 1 Only vs All 12 Weeks": "Week 1 PDF",
          "qT": 0.25418060200668896
         },
         {
          "PDF": 0.8420723029344699,
          "Week 1 Only vs All 12 Weeks": "Week 1 PDF",
          "qT": 0.25752508361204013
         },
         {
          "PDF": 0.8760221510002855,
          "Week 1 Only vs All 12 Weeks": "Week 1 PDF",
          "qT": 0.2608695652173913
         },
         {
          "PDF": 0.9105067582804285,
          "Week 1 Only vs All 12 Weeks": "Week 1 PDF",
          "qT": 0.26421404682274247
         },
         {
          "PDF": 0.9455010904567638,
          "Week 1 Only vs All 12 Weeks": "Week 1 PDF",
          "qT": 0.26755852842809363
         },
         {
          "PDF": 0.980979038830534,
          "Week 1 Only vs All 12 Weeks": "Week 1 PDF",
          "qT": 0.2709030100334448
         },
         {
          "PDF": 1.0169134574332697,
          "Week 1 Only vs All 12 Weeks": "Week 1 PDF",
          "qT": 0.27424749163879597
         },
         {
          "PDF": 1.0532762018806165,
          "Week 1 Only vs All 12 Weeks": "Week 1 PDF",
          "qT": 0.27759197324414714
         },
         {
          "PDF": 1.0900381698828079,
          "Week 1 Only vs All 12 Weeks": "Week 1 PDF",
          "qT": 0.2809364548494983
         },
         {
          "PDF": 1.1271693433243566,
          "Week 1 Only vs All 12 Weeks": "Week 1 PDF",
          "qT": 0.2842809364548495
         },
         {
          "PDF": 1.1646388318244465,
          "Week 1 Only vs All 12 Weeks": "Week 1 PDF",
          "qT": 0.28762541806020064
         },
         {
          "PDF": 1.2024149176886676,
          "Week 1 Only vs All 12 Weeks": "Week 1 PDF",
          "qT": 0.2909698996655518
         },
         {
          "PDF": 1.2404651021619273,
          "Week 1 Only vs All 12 Weeks": "Week 1 PDF",
          "qT": 0.294314381270903
         },
         {
          "PDF": 1.278756152891835,
          "Week 1 Only vs All 12 Weeks": "Week 1 PDF",
          "qT": 0.29765886287625415
         },
         {
          "PDF": 1.3172541525113144,
          "Week 1 Only vs All 12 Weeks": "Week 1 PDF",
          "qT": 0.3010033444816054
         },
         {
          "PDF": 1.355924548248942,
          "Week 1 Only vs All 12 Weeks": "Week 1 PDF",
          "qT": 0.30434782608695654
         },
         {
          "PDF": 1.3947322024752715,
          "Week 1 Only vs All 12 Weeks": "Week 1 PDF",
          "qT": 0.3076923076923077
         },
         {
          "PDF": 1.4336414440933245,
          "Week 1 Only vs All 12 Weeks": "Week 1 PDF",
          "qT": 0.3110367892976589
         },
         {
          "PDF": 1.4726161206815456,
          "Week 1 Only vs All 12 Weeks": "Week 1 PDF",
          "qT": 0.31438127090301005
         },
         {
          "PDF": 1.5116196512976317,
          "Week 1 Only vs All 12 Weeks": "Week 1 PDF",
          "qT": 0.3177257525083612
         },
         {
          "PDF": 1.5506150798519647,
          "Week 1 Only vs All 12 Weeks": "Week 1 PDF",
          "qT": 0.3210702341137124
         },
         {
          "PDF": 1.5895651289598258,
          "Week 1 Only vs All 12 Weeks": "Week 1 PDF",
          "qT": 0.32441471571906355
         },
         {
          "PDF": 1.6284322541820342,
          "Week 1 Only vs All 12 Weeks": "Week 1 PDF",
          "qT": 0.3277591973244147
         },
         {
          "PDF": 1.667178698564335,
          "Week 1 Only vs All 12 Weeks": "Week 1 PDF",
          "qT": 0.3311036789297659
         },
         {
          "PDF": 1.705766547386549,
          "Week 1 Only vs All 12 Weeks": "Week 1 PDF",
          "qT": 0.33444816053511706
         },
         {
          "PDF": 1.7441577830334136,
          "Week 1 Only vs All 12 Weeks": "Week 1 PDF",
          "qT": 0.3377926421404682
         },
         {
          "PDF": 1.7823143398998822,
          "Week 1 Only vs All 12 Weeks": "Week 1 PDF",
          "qT": 0.3411371237458194
         },
         {
          "PDF": 1.8201981592447467,
          "Week 1 Only vs All 12 Weeks": "Week 1 PDF",
          "qT": 0.34448160535117056
         },
         {
          "PDF": 1.8577712439076022,
          "Week 1 Only vs All 12 Weeks": "Week 1 PDF",
          "qT": 0.34782608695652173
         },
         {
          "PDF": 1.8949957128052655,
          "Week 1 Only vs All 12 Weeks": "Week 1 PDF",
          "qT": 0.3511705685618729
         },
         {
          "PDF": 1.9318338551252172,
          "Week 1 Only vs All 12 Weeks": "Week 1 PDF",
          "qT": 0.35451505016722407
         },
         {
          "PDF": 1.9682481841348742,
          "Week 1 Only vs All 12 Weeks": "Week 1 PDF",
          "qT": 0.35785953177257523
         },
         {
          "PDF": 2.004201490527088,
          "Week 1 Only vs All 12 Weeks": "Week 1 PDF",
          "qT": 0.3612040133779264
         },
         {
          "PDF": 2.03965689522367,
          "Week 1 Only vs All 12 Weeks": "Week 1 PDF",
          "qT": 0.36454849498327757
         },
         {
          "PDF": 2.0745779015605357,
          "Week 1 Only vs All 12 Weeks": "Week 1 PDF",
          "qT": 0.36789297658862874
         },
         {
          "PDF": 2.10892844677951,
          "Week 1 Only vs All 12 Weeks": "Week 1 PDF",
          "qT": 0.3712374581939799
         },
         {
          "PDF": 2.1426729527538537,
          "Week 1 Only vs All 12 Weeks": "Week 1 PDF",
          "qT": 0.3745819397993311
         },
         {
          "PDF": 2.175776375876133,
          "Week 1 Only vs All 12 Weeks": "Week 1 PDF",
          "qT": 0.37792642140468224
         },
         {
          "PDF": 2.2082042560391457,
          "Week 1 Only vs All 12 Weeks": "Week 1 PDF",
          "qT": 0.3812709030100334
         },
         {
          "PDF": 2.239922764642399,
          "Week 1 Only vs All 12 Weeks": "Week 1 PDF",
          "qT": 0.3846153846153846
         },
         {
          "PDF": 2.270898751558731,
          "Week 1 Only vs All 12 Weeks": "Week 1 PDF",
          "qT": 0.3879598662207358
         },
         {
          "PDF": 2.301099790997664,
          "Week 1 Only vs All 12 Weeks": "Week 1 PDF",
          "qT": 0.391304347826087
         },
         {
          "PDF": 2.3304942262041832,
          "Week 1 Only vs All 12 Weeks": "Week 1 PDF",
          "qT": 0.39464882943143814
         },
         {
          "PDF": 2.359051212933833,
          "Week 1 Only vs All 12 Weeks": "Week 1 PDF",
          "qT": 0.3979933110367893
         },
         {
          "PDF": 2.386740761647098,
          "Week 1 Only vs All 12 Weeks": "Week 1 PDF",
          "qT": 0.4013377926421405
         },
         {
          "PDF": 2.4135337783684525,
          "Week 1 Only vs All 12 Weeks": "Week 1 PDF",
          "qT": 0.40468227424749165
         },
         {
          "PDF": 2.439402104157515,
          "Week 1 Only vs All 12 Weeks": "Week 1 PDF",
          "qT": 0.4080267558528428
         },
         {
          "PDF": 2.4643185531422915,
          "Week 1 Only vs All 12 Weeks": "Week 1 PDF",
          "qT": 0.411371237458194
         },
         {
          "PDF": 2.4882569490666384,
          "Week 1 Only vs All 12 Weeks": "Week 1 PDF",
          "qT": 0.41471571906354515
         },
         {
          "PDF": 2.511192160306594,
          "Week 1 Only vs All 12 Weeks": "Week 1 PDF",
          "qT": 0.4180602006688963
         },
         {
          "PDF": 2.53310013331256,
          "Week 1 Only vs All 12 Weeks": "Week 1 PDF",
          "qT": 0.4214046822742475
         },
         {
          "PDF": 2.553957924436798,
          "Week 1 Only vs All 12 Weeks": "Week 1 PDF",
          "qT": 0.42474916387959866
         },
         {
          "PDF": 2.57374373010812,
          "Week 1 Only vs All 12 Weeks": "Week 1 PDF",
          "qT": 0.4280936454849498
         },
         {
          "PDF": 2.5924369153182028,
          "Week 1 Only vs All 12 Weeks": "Week 1 PDF",
          "qT": 0.431438127090301
         },
         {
          "PDF": 2.6100180403863837,
          "Week 1 Only vs All 12 Weeks": "Week 1 PDF",
          "qT": 0.43478260869565216
         },
         {
          "PDF": 2.6264688859723457,
          "Week 1 Only vs All 12 Weeks": "Week 1 PDF",
          "qT": 0.43812709030100333
         },
         {
          "PDF": 2.6417724763087063,
          "Week 1 Only vs All 12 Weeks": "Week 1 PDF",
          "qT": 0.4414715719063545
         },
         {
          "PDF": 2.655913100627893,
          "Week 1 Only vs All 12 Weeks": "Week 1 PDF",
          "qT": 0.44481605351170567
         },
         {
          "PDF": 2.668876332760495,
          "Week 1 Only vs All 12 Weeks": "Week 1 PDF",
          "qT": 0.44816053511705684
         },
         {
          "PDF": 2.6806490488845327,
          "Week 1 Only vs All 12 Weeks": "Week 1 PDF",
          "qT": 0.451505016722408
         },
         {
          "PDF": 2.691219443408049,
          "Week 1 Only vs All 12 Weeks": "Week 1 PDF",
          "qT": 0.45484949832775917
         },
         {
          "PDF": 2.700577042969517,
          "Week 1 Only vs All 12 Weeks": "Week 1 PDF",
          "qT": 0.45819397993311034
         },
         {
          "PDF": 2.708712718543679,
          "Week 1 Only vs All 12 Weeks": "Week 1 PDF",
          "qT": 0.4615384615384615
         },
         {
          "PDF": 2.7156186956424087,
          "Week 1 Only vs All 12 Weeks": "Week 1 PDF",
          "qT": 0.4648829431438127
         },
         {
          "PDF": 2.7212885626033736,
          "Week 1 Only vs All 12 Weeks": "Week 1 PDF",
          "qT": 0.46822742474916385
         },
         {
          "PDF": 2.725717276961227,
          "Week 1 Only vs All 12 Weeks": "Week 1 PDF",
          "qT": 0.47157190635451507
         },
         {
          "PDF": 2.7289011698991237,
          "Week 1 Only vs All 12 Weeks": "Week 1 PDF",
          "qT": 0.47491638795986624
         },
         {
          "PDF": 2.7308379487805605,
          "Week 1 Only vs All 12 Weeks": "Week 1 PDF",
          "qT": 0.4782608695652174
         },
         {
          "PDF": 2.7315266977641994,
          "Week 1 Only vs All 12 Weeks": "Week 1 PDF",
          "qT": 0.4816053511705686
         },
         {
          "PDF": 2.7309678765068512,
          "Week 1 Only vs All 12 Weeks": "Week 1 PDF",
          "qT": 0.48494983277591974
         },
         {
          "PDF": 2.7291633169622287,
          "Week 1 Only vs All 12 Weeks": "Week 1 PDF",
          "qT": 0.4882943143812709
         },
         {
          "PDF": 2.7261162182856316,
          "Week 1 Only vs All 12 Weeks": "Week 1 PDF",
          "qT": 0.4916387959866221
         },
         {
          "PDF": 2.721831139857073,
          "Week 1 Only vs All 12 Weeks": "Week 1 PDF",
          "qT": 0.49498327759197325
         },
         {
          "PDF": 2.7163139924379474,
          "Week 1 Only vs All 12 Weeks": "Week 1 PDF",
          "qT": 0.4983277591973244
         },
         {
          "PDF": 2.709572027478526,
          "Week 1 Only vs All 12 Weeks": "Week 1 PDF",
          "qT": 0.5016722408026756
         },
         {
          "PDF": 2.7016138245961683,
          "Week 1 Only vs All 12 Weeks": "Week 1 PDF",
          "qT": 0.5050167224080268
         },
         {
          "PDF": 2.6924492772463178,
          "Week 1 Only vs All 12 Weeks": "Week 1 PDF",
          "qT": 0.5083612040133779
         },
         {
          "PDF": 2.6820895766107395,
          "Week 1 Only vs All 12 Weeks": "Week 1 PDF",
          "qT": 0.5117056856187291
         },
         {
          "PDF": 2.67054719372973,
          "Week 1 Only vs All 12 Weeks": "Week 1 PDF",
          "qT": 0.5150501672240803
         },
         {
          "PDF": 2.6578358599072693,
          "Week 1 Only vs All 12 Weeks": "Week 1 PDF",
          "qT": 0.5183946488294314
         },
         {
          "PDF": 2.643970545420275,
          "Week 1 Only vs All 12 Weeks": "Week 1 PDF",
          "qT": 0.5217391304347826
         },
         {
          "PDF": 2.6289674365653264,
          "Week 1 Only vs All 12 Weeks": "Week 1 PDF",
          "qT": 0.5250836120401338
         },
         {
          "PDF": 2.6128439110783206,
          "Week 1 Only vs All 12 Weeks": "Week 1 PDF",
          "qT": 0.5284280936454849
         },
         {
          "PDF": 2.595618511964612,
          "Week 1 Only vs All 12 Weeks": "Week 1 PDF",
          "qT": 0.5317725752508361
         },
         {
          "PDF": 2.577310919779255,
          "Week 1 Only vs All 12 Weeks": "Week 1 PDF",
          "qT": 0.5351170568561873
         },
         {
          "PDF": 2.5579419233988854,
          "Week 1 Only vs All 12 Weeks": "Week 1 PDF",
          "qT": 0.5384615384615384
         },
         {
          "PDF": 2.5375333893288516,
          "Week 1 Only vs All 12 Weeks": "Week 1 PDF",
          "qT": 0.5418060200668896
         },
         {
          "PDF": 2.5161082295909396,
          "Week 1 Only vs All 12 Weeks": "Week 1 PDF",
          "qT": 0.5451505016722408
         },
         {
          "PDF": 2.493690368239019,
          "Week 1 Only vs All 12 Weeks": "Week 1 PDF",
          "qT": 0.5484949832775919
         },
         {
          "PDF": 2.4703047065516377,
          "Week 1 Only vs All 12 Weeks": "Week 1 PDF",
          "qT": 0.5518394648829431
         },
         {
          "PDF": 2.445977086952338,
          "Week 1 Only vs All 12 Weeks": "Week 1 PDF",
          "qT": 0.5551839464882943
         },
         {
          "PDF": 2.420734255710222,
          "Week 1 Only vs All 12 Weeks": "Week 1 PDF",
          "qT": 0.5585284280936454
         },
         {
          "PDF": 2.3946038244747387,
          "Week 1 Only vs All 12 Weeks": "Week 1 PDF",
          "qT": 0.5618729096989966
         },
         {
          "PDF": 2.3676142307004553,
          "Week 1 Only vs All 12 Weeks": "Week 1 PDF",
          "qT": 0.5652173913043478
         },
         {
          "PDF": 2.339794697018833,
          "Week 1 Only vs All 12 Weeks": "Week 1 PDF",
          "qT": 0.568561872909699
         },
         {
          "PDF": 2.3111751896156387,
          "Week 1 Only vs All 12 Weeks": "Week 1 PDF",
          "qT": 0.5719063545150501
         },
         {
          "PDF": 2.2817863756739083,
          "Week 1 Only vs All 12 Weeks": "Week 1 PDF",
          "qT": 0.5752508361204013
         },
         {
          "PDF": 2.25165957994367,
          "Week 1 Only vs All 12 Weeks": "Week 1 PDF",
          "qT": 0.5785953177257525
         },
         {
          "PDF": 2.220826740500917,
          "Week 1 Only vs All 12 Weeks": "Week 1 PDF",
          "qT": 0.5819397993311036
         },
         {
          "PDF": 2.189320363759445,
          "Week 1 Only vs All 12 Weeks": "Week 1 PDF",
          "qT": 0.5852842809364548
         },
         {
          "PDF": 2.1571734788002708,
          "Week 1 Only vs All 12 Weeks": "Week 1 PDF",
          "qT": 0.588628762541806
         },
         {
          "PDF": 2.1244195910843735,
          "Week 1 Only vs All 12 Weeks": "Week 1 PDF",
          "qT": 0.5919732441471571
         },
         {
          "PDF": 2.091092635615451,
          "Week 1 Only vs All 12 Weeks": "Week 1 PDF",
          "qT": 0.5953177257525083
         },
         {
          "PDF": 2.057226929620239,
          "Week 1 Only vs All 12 Weeks": "Week 1 PDF",
          "qT": 0.5986622073578595
         },
         {
          "PDF": 2.0228571248147595,
          "Week 1 Only vs All 12 Weeks": "Week 1 PDF",
          "qT": 0.6020066889632107
         },
         {
          "PDF": 1.9880181593255797,
          "Week 1 Only vs All 12 Weeks": "Week 1 PDF",
          "qT": 0.6053511705685619
         },
         {
          "PDF": 1.9527452093357511,
          "Week 1 Only vs All 12 Weeks": "Week 1 PDF",
          "qT": 0.6086956521739131
         },
         {
          "PDF": 1.9170736405257913,
          "Week 1 Only vs All 12 Weeks": "Week 1 PDF",
          "qT": 0.6120401337792643
         },
         {
          "PDF": 1.8810389593803716,
          "Week 1 Only vs All 12 Weeks": "Week 1 PDF",
          "qT": 0.6153846153846154
         },
         {
          "PDF": 1.8446767644319242,
          "Week 1 Only vs All 12 Weeks": "Week 1 PDF",
          "qT": 0.6187290969899666
         },
         {
          "PDF": 1.8080226975126414,
          "Week 1 Only vs All 12 Weeks": "Week 1 PDF",
          "qT": 0.6220735785953178
         },
         {
          "PDF": 1.77111239508651,
          "Week 1 Only vs All 12 Weeks": "Week 1 PDF",
          "qT": 0.6254180602006689
         },
         {
          "PDF": 1.7339814397333067,
          "Week 1 Only vs All 12 Weeks": "Week 1 PDF",
          "qT": 0.6287625418060201
         },
         {
          "PDF": 1.696665311856384,
          "Week 1 Only vs All 12 Weeks": "Week 1 PDF",
          "qT": 0.6321070234113713
         },
         {
          "PDF": 1.6591993416861925,
          "Week 1 Only vs All 12 Weeks": "Week 1 PDF",
          "qT": 0.6354515050167224
         },
         {
          "PDF": 1.6216186616512507,
          "Week 1 Only vs All 12 Weeks": "Week 1 PDF",
          "qT": 0.6387959866220736
         },
         {
          "PDF": 1.583958159188133,
          "Week 1 Only vs All 12 Weeks": "Week 1 PDF",
          "qT": 0.6421404682274248
         },
         {
          "PDF": 1.546252430061764,
          "Week 1 Only vs All 12 Weeks": "Week 1 PDF",
          "qT": 0.6454849498327759
         },
         {
          "PDF": 1.5085357322668607,
          "Week 1 Only vs All 12 Weeks": "Week 1 PDF",
          "qT": 0.6488294314381271
         },
         {
          "PDF": 1.4708419405809436,
          "Week 1 Only vs All 12 Weeks": "Week 1 PDF",
          "qT": 0.6521739130434783
         },
         {
          "PDF": 1.4332045018387058,
          "Week 1 Only vs All 12 Weeks": "Week 1 PDF",
          "qT": 0.6555183946488294
         },
         {
          "PDF": 1.3956563909970254,
          "Week 1 Only vs All 12 Weeks": "Week 1 PDF",
          "qT": 0.6588628762541806
         },
         {
          "PDF": 1.358230068058864,
          "Week 1 Only vs All 12 Weeks": "Week 1 PDF",
          "qT": 0.6622073578595318
         },
         {
          "PDF": 1.3209574359237202,
          "Week 1 Only vs All 12 Weeks": "Week 1 PDF",
          "qT": 0.6655518394648829
         },
         {
          "PDF": 1.2838697992313193,
          "Week 1 Only vs All 12 Weeks": "Week 1 PDF",
          "qT": 0.6688963210702341
         },
         {
          "PDF": 1.2469978242639066,
          "Week 1 Only vs All 12 Weeks": "Week 1 PDF",
          "qT": 0.6722408026755853
         },
         {
          "PDF": 1.210371499971827,
          "Week 1 Only vs All 12 Weeks": "Week 1 PDF",
          "qT": 0.6755852842809364
         },
         {
          "PDF": 1.1740201001854367,
          "Week 1 Only vs All 12 Weeks": "Week 1 PDF",
          "qT": 0.6789297658862876
         },
         {
          "PDF": 1.1379721470752977,
          "Week 1 Only vs All 12 Weeks": "Week 1 PDF",
          "qT": 0.6822742474916388
         },
         {
          "PDF": 1.1022553759211202,
          "Week 1 Only vs All 12 Weeks": "Week 1 PDF",
          "qT": 0.68561872909699
         },
         {
          "PDF": 1.0668967012483437,
          "Week 1 Only vs All 12 Weeks": "Week 1 PDF",
          "qT": 0.6889632107023411
         },
         {
          "PDF": 1.0319221843897242,
          "Week 1 Only vs All 12 Weeks": "Week 1 PDF",
          "qT": 0.6923076923076923
         },
         {
          "PDF": 0.9973570025274879,
          "Week 1 Only vs All 12 Weeks": "Week 1 PDF",
          "qT": 0.6956521739130435
         },
         {
          "PDF": 0.9632254192698603,
          "Week 1 Only vs All 12 Weeks": "Week 1 PDF",
          "qT": 0.6989966555183946
         },
         {
          "PDF": 0.9295507568138274,
          "Week 1 Only vs All 12 Weeks": "Week 1 PDF",
          "qT": 0.7023411371237458
         },
         {
          "PDF": 0.8963553697439953,
          "Week 1 Only vs All 12 Weeks": "Week 1 PDF",
          "qT": 0.705685618729097
         },
         {
          "PDF": 0.8636606205153102,
          "Week 1 Only vs All 12 Weeks": "Week 1 PDF",
          "qT": 0.7090301003344481
         },
         {
          "PDF": 0.8314868566651744,
          "Week 1 Only vs All 12 Weeks": "Week 1 PDF",
          "qT": 0.7123745819397993
         },
         {
          "PDF": 0.7998533897982074,
          "Week 1 Only vs All 12 Weeks": "Week 1 PDF",
          "qT": 0.7157190635451505
         },
         {
          "PDF": 0.7687784763845087,
          "Week 1 Only vs All 12 Weeks": "Week 1 PDF",
          "qT": 0.7190635451505016
         },
         {
          "PDF": 0.7382793004097564,
          "Week 1 Only vs All 12 Weeks": "Week 1 PDF",
          "qT": 0.7224080267558528
         },
         {
          "PDF": 0.7083719579129114,
          "Week 1 Only vs All 12 Weeks": "Week 1 PDF",
          "qT": 0.725752508361204
         },
         {
          "PDF": 0.6790714434445871,
          "Week 1 Only vs All 12 Weeks": "Week 1 PDF",
          "qT": 0.7290969899665551
         },
         {
          "PDF": 0.6503916384763735,
          "Week 1 Only vs All 12 Weeks": "Week 1 PDF",
          "qT": 0.7324414715719063
         },
         {
          "PDF": 0.622345301788532,
          "Week 1 Only vs All 12 Weeks": "Week 1 PDF",
          "qT": 0.7357859531772575
         },
         {
          "PDF": 0.594944061860468,
          "Week 1 Only vs All 12 Weeks": "Week 1 PDF",
          "qT": 0.7391304347826086
         },
         {
          "PDF": 0.5681984112853888,
          "Week 1 Only vs All 12 Weeks": "Week 1 PDF",
          "qT": 0.7424749163879598
         },
         {
          "PDF": 0.5421177032273308,
          "Week 1 Only vs All 12 Weeks": "Week 1 PDF",
          "qT": 0.745819397993311
         },
         {
          "PDF": 0.5167101499355273,
          "Week 1 Only vs All 12 Weeks": "Week 1 PDF",
          "qT": 0.7491638795986622
         },
         {
          "PDF": 0.49198282332775506,
          "Week 1 Only vs All 12 Weeks": "Week 1 PDF",
          "qT": 0.7525083612040133
         },
         {
          "PDF": 0.46794165765084234,
          "Week 1 Only vs All 12 Weeks": "Week 1 PDF",
          "qT": 0.7558528428093645
         },
         {
          "PDF": 0.4445914542230347,
          "Week 1 Only vs All 12 Weeks": "Week 1 PDF",
          "qT": 0.7591973244147157
         },
         {
          "PDF": 0.42193588825929906,
          "Week 1 Only vs All 12 Weeks": "Week 1 PDF",
          "qT": 0.7625418060200668
         },
         {
          "PDF": 0.39997751777696944,
          "Week 1 Only vs All 12 Weeks": "Week 1 PDF",
          "qT": 0.765886287625418
         },
         {
          "PDF": 0.37871779457536064,
          "Week 1 Only vs All 12 Weeks": "Week 1 PDF",
          "qT": 0.7692307692307692
         },
         {
          "PDF": 0.3581570772791478,
          "Week 1 Only vs All 12 Weeks": "Week 1 PDF",
          "qT": 0.7725752508361204
         },
         {
          "PDF": 0.33829464643135043,
          "Week 1 Only vs All 12 Weeks": "Week 1 PDF",
          "qT": 0.7759197324414716
         },
         {
          "PDF": 0.3191287216177934,
          "Week 1 Only vs All 12 Weeks": "Week 1 PDF",
          "qT": 0.7792642140468228
         },
         {
          "PDF": 0.30065648060080896,
          "Week 1 Only vs All 12 Weeks": "Week 1 PDF",
          "qT": 0.782608695652174
         },
         {
          "PDF": 0.28287408043580936,
          "Week 1 Only vs All 12 Weeks": "Week 1 PDF",
          "qT": 0.7859531772575251
         },
         {
          "PDF": 0.26577668054013204,
          "Week 1 Only vs All 12 Weeks": "Week 1 PDF",
          "qT": 0.7892976588628763
         },
         {
          "PDF": 0.24935846767928033,
          "Week 1 Only vs All 12 Weeks": "Week 1 PDF",
          "qT": 0.7926421404682275
         },
         {
          "PDF": 0.23361268283132222,
          "Week 1 Only vs All 12 Weeks": "Week 1 PDF",
          "qT": 0.7959866220735786
         },
         {
          "PDF": 0.21853164988581097,
          "Week 1 Only vs All 12 Weeks": "Week 1 PDF",
          "qT": 0.7993311036789298
         },
         {
          "PDF": 0.2041068061291092,
          "Week 1 Only vs All 12 Weeks": "Week 1 PDF",
          "qT": 0.802675585284281
         },
         {
          "PDF": 0.19032873446349058,
          "Week 1 Only vs All 12 Weeks": "Week 1 PDF",
          "qT": 0.8060200668896321
         },
         {
          "PDF": 0.17718719730281385,
          "Week 1 Only vs All 12 Weeks": "Week 1 PDF",
          "qT": 0.8093645484949833
         },
         {
          "PDF": 0.1646711720829479,
          "Week 1 Only vs All 12 Weeks": "Week 1 PDF",
          "qT": 0.8127090301003345
         },
         {
          "PDF": 0.15276888832047358,
          "Week 1 Only vs All 12 Weeks": "Week 1 PDF",
          "qT": 0.8160535117056856
         },
         {
          "PDF": 0.14146786614848894,
          "Week 1 Only vs All 12 Weeks": "Week 1 PDF",
          "qT": 0.8193979933110368
         },
         {
          "PDF": 0.1307549562536221,
          "Week 1 Only vs All 12 Weeks": "Week 1 PDF",
          "qT": 0.822742474916388
         },
         {
          "PDF": 0.12061638113360569,
          "Week 1 Only vs All 12 Weeks": "Week 1 PDF",
          "qT": 0.8260869565217391
         },
         {
          "PDF": 0.11103777758999435,
          "Week 1 Only vs All 12 Weeks": "Week 1 PDF",
          "qT": 0.8294314381270903
         },
         {
          "PDF": 0.10200424036582113,
          "Week 1 Only vs All 12 Weeks": "Week 1 PDF",
          "qT": 0.8327759197324415
         },
         {
          "PDF": 0.09350036683319667,
          "Week 1 Only vs All 12 Weeks": "Week 1 PDF",
          "qT": 0.8361204013377926
         },
         {
          "PDF": 0.08551030263106639,
          "Week 1 Only vs All 12 Weeks": "Week 1 PDF",
          "qT": 0.8394648829431438
         },
         {
          "PDF": 0.07801778814854773,
          "Week 1 Only vs All 12 Weeks": "Week 1 PDF",
          "qT": 0.842809364548495
         },
         {
          "PDF": 0.07100620574450724,
          "Week 1 Only vs All 12 Weeks": "Week 1 PDF",
          "qT": 0.8461538461538461
         },
         {
          "PDF": 0.06445862758928499,
          "Week 1 Only vs All 12 Weeks": "Week 1 PDF",
          "qT": 0.8494983277591973
         },
         {
          "PDF": 0.058357864009767925,
          "Week 1 Only vs All 12 Weeks": "Week 1 PDF",
          "qT": 0.8528428093645485
         },
         {
          "PDF": 0.05268651221433932,
          "Week 1 Only vs All 12 Weeks": "Week 1 PDF",
          "qT": 0.8561872909698997
         },
         {
          "PDF": 0.04742700526962018,
          "Week 1 Only vs All 12 Weeks": "Week 1 PDF",
          "qT": 0.8595317725752508
         },
         {
          "PDF": 0.0425616611963705,
          "Week 1 Only vs All 12 Weeks": "Week 1 PDF",
          "qT": 0.862876254180602
         },
         {
          "PDF": 0.038072732047448786,
          "Week 1 Only vs All 12 Weeks": "Week 1 PDF",
          "qT": 0.8662207357859532
         },
         {
          "PDF": 0.03394245282634971,
          "Week 1 Only vs All 12 Weeks": "Week 1 PDF",
          "qT": 0.8695652173913043
         },
         {
          "PDF": 0.03015309010057688,
          "Week 1 Only vs All 12 Weeks": "Week 1 PDF",
          "qT": 0.8729096989966555
         },
         {
          "PDF": 0.026686990159955085,
          "Week 1 Only vs All 12 Weeks": "Week 1 PDF",
          "qT": 0.8762541806020067
         },
         {
          "PDF": 0.023526626565990045,
          "Week 1 Only vs All 12 Weeks": "Week 1 PDF",
          "qT": 0.8795986622073578
         },
         {
          "PDF": 0.020654646934536475,
          "Week 1 Only vs All 12 Weeks": "Week 1 PDF",
          "qT": 0.882943143812709
         },
         {
          "PDF": 0.018053918790377953,
          "Week 1 Only vs All 12 Weeks": "Week 1 PDF",
          "qT": 0.8862876254180602
         },
         {
          "PDF": 0.01570757432886524,
          "Week 1 Only vs All 12 Weeks": "Week 1 PDF",
          "qT": 0.8896321070234113
         },
         {
          "PDF": 0.013599053916536355,
          "Week 1 Only vs All 12 Weeks": "Week 1 PDF",
          "qT": 0.8929765886287625
         },
         {
          "PDF": 0.011712148159676337,
          "Week 1 Only vs All 12 Weeks": "Week 1 PDF",
          "qT": 0.8963210702341137
         },
         {
          "PDF": 0.010031038367100774,
          "Week 1 Only vs All 12 Weeks": "Week 1 PDF",
          "qT": 0.8996655518394648
         },
         {
          "PDF": 0.008540335231096827,
          "Week 1 Only vs All 12 Weeks": "Week 1 PDF",
          "qT": 0.903010033444816
         },
         {
          "PDF": 0.0072251155484716655,
          "Week 1 Only vs All 12 Weeks": "Week 1 PDF",
          "qT": 0.9063545150501672
         },
         {
          "PDF": 0.006070956802080505,
          "Week 1 Only vs All 12 Weeks": "Week 1 PDF",
          "qT": 0.9096989966555183
         },
         {
          "PDF": 0.005063969422086624,
          "Week 1 Only vs All 12 Weeks": "Week 1 PDF",
          "qT": 0.9130434782608695
         },
         {
          "PDF": 0.004190826545597782,
          "Week 1 Only vs All 12 Weeks": "Week 1 PDF",
          "qT": 0.9163879598662207
         },
         {
          "PDF": 0.0034387910932924017,
          "Week 1 Only vs All 12 Weeks": "Week 1 PDF",
          "qT": 0.9197324414715718
         },
         {
          "PDF": 0.0027957399822643595,
          "Week 1 Only vs All 12 Weeks": "Week 1 PDF",
          "qT": 0.923076923076923
         },
         {
          "PDF": 0.002250185295663537,
          "Week 1 Only vs All 12 Weeks": "Week 1 PDF",
          "qT": 0.9264214046822742
         },
         {
          "PDF": 0.0017912922318841324,
          "Week 1 Only vs All 12 Weeks": "Week 1 PDF",
          "qT": 0.9297658862876254
         },
         {
          "PDF": 0.001408893659167951,
          "Week 1 Only vs All 12 Weeks": "Week 1 PDF",
          "qT": 0.9331103678929765
         },
         {
          "PDF": 0.0010935011056772681,
          "Week 1 Only vs All 12 Weeks": "Week 1 PDF",
          "qT": 0.9364548494983277
         },
         {
          "PDF": 0.0008363120205077033,
          "Week 1 Only vs All 12 Weeks": "Week 1 PDF",
          "qT": 0.9397993311036789
         },
         {
          "PDF": 0.0006292131479431199,
          "Week 1 Only vs All 12 Weeks": "Week 1 PDF",
          "qT": 0.9431438127090301
         },
         {
          "PDF": 0.0004647798657285212,
          "Week 1 Only vs All 12 Weeks": "Week 1 PDF",
          "qT": 0.9464882943143813
         },
         {
          "PDF": 0.00033627134852903643,
          "Week 1 Only vs All 12 Weeks": "Week 1 PDF",
          "qT": 0.9498327759197325
         },
         {
          "PDF": 0.00023762143039610372,
          "Week 1 Only vs All 12 Weeks": "Week 1 PDF",
          "qT": 0.9531772575250836
         },
         {
          "PDF": 0.0001634250554038551,
          "Week 1 Only vs All 12 Weeks": "Week 1 PDF",
          "qT": 0.9565217391304348
         },
         {
          "PDF": 0.00010892022419640644,
          "Week 1 Only vs All 12 Weeks": "Week 1 PDF",
          "qT": 0.959866220735786
         },
         {
          "PDF": 0.00006996536670733726,
          "Week 1 Only vs All 12 Weeks": "Week 1 PDF",
          "qT": 0.9632107023411371
         },
         {
          "PDF": 0.00004301209871164435,
          "Week 1 Only vs All 12 Weeks": "Week 1 PDF",
          "qT": 0.9665551839464883
         },
         {
          "PDF": 0.00002507335341187328,
          "Week 1 Only vs All 12 Weeks": "Week 1 PDF",
          "qT": 0.9698996655518395
         },
         {
          "PDF": 0.000013686920698228527,
          "Week 1 Only vs All 12 Weeks": "Week 1 PDF",
          "qT": 0.9732441471571907
         },
         {
          "PDF": 0.000006874478567272102,
          "Week 1 Only vs All 12 Weeks": "Week 1 PDF",
          "qT": 0.9765886287625418
         },
         {
          "PDF": 0.000003096267161278738,
          "Week 1 Only vs All 12 Weeks": "Week 1 PDF",
          "qT": 0.979933110367893
         },
         {
          "PDF": 0.000001201641783136675,
          "Week 1 Only vs All 12 Weeks": "Week 1 PDF",
          "qT": 0.9832775919732442
         },
         {
          "PDF": 3.758565376282271e-7,
          "Week 1 Only vs All 12 Weeks": "Week 1 PDF",
          "qT": 0.9866220735785953
         },
         {
          "PDF": 8.359167081215194e-8,
          "Week 1 Only vs All 12 Weeks": "Week 1 PDF",
          "qT": 0.9899665551839465
         },
         {
          "PDF": 9.97768880720648e-9,
          "Week 1 Only vs All 12 Weeks": "Week 1 PDF",
          "qT": 0.9933110367892977
         },
         {
          "PDF": 2.604923256767481e-10,
          "Week 1 Only vs All 12 Weeks": "Week 1 PDF",
          "qT": 0.9966555183946488
         },
         {
          "PDF": 0,
          "Week 1 Only vs All 12 Weeks": "Week 1 PDF",
          "qT": 1
         },
         {
          "PDF": 0,
          "Week 1 Only vs All 12 Weeks": "All 12 Week PDF",
          "qT": 0
         },
         {
          "PDF": 3.005373133268891e-11,
          "Week 1 Only vs All 12 Weeks": "All 12 Week PDF",
          "qT": 0.0033444816053511705
         },
         {
          "PDF": 1.7656949595377749e-9,
          "Week 1 Only vs All 12 Weeks": "All 12 Week PDF",
          "qT": 0.006688963210702341
         },
         {
          "PDF": 1.8964530817943924e-8,
          "Week 1 Only vs All 12 Weeks": "All 12 Week PDF",
          "qT": 0.010033444816053512
         },
         {
          "PDF": 1.0157842664344235e-7,
          "Week 1 Only vs All 12 Weeks": "All 12 Week PDF",
          "qT": 0.013377926421404682
         },
         {
          "PDF": 3.716003564175787e-7,
          "Week 1 Only vs All 12 Weeks": "All 12 Week PDF",
          "qT": 0.016722408026755852
         },
         {
          "PDF": 0.0000010680788307693169,
          "Week 1 Only vs All 12 Weeks": "All 12 Week PDF",
          "qT": 0.020066889632107024
         },
         {
          "PDF": 0.0000025991742647376677,
          "Week 1 Only vs All 12 Weeks": "All 12 Week PDF",
          "qT": 0.023411371237458192
         },
         {
          "PDF": 0.000005599425529706449,
          "Week 1 Only vs All 12 Weeks": "All 12 Week PDF",
          "qT": 0.026755852842809364
         },
         {
          "PDF": 0.000010990620099453158,
          "Week 1 Only vs All 12 Weeks": "All 12 Week PDF",
          "qT": 0.030100334448160536
         },
         {
          "PDF": 0.00002004484794716019,
          "Week 1 Only vs All 12 Weeks": "All 12 Week PDF",
          "qT": 0.033444816053511704
         },
         {
          "PDF": 0.000034448480781630456,
          "Week 1 Only vs All 12 Weeks": "All 12 Week PDF",
          "qT": 0.03678929765886287
         },
         {
          "PDF": 0.00005636596119670316,
          "Week 1 Only vs All 12 Weeks": "All 12 Week PDF",
          "qT": 0.04013377926421405
         },
         {
          "PDF": 0.00008850241491049823,
          "Week 1 Only vs All 12 Weeks": "All 12 Week PDF",
          "qT": 0.043478260869565216
         },
         {
          "PDF": 0.00013416421610806307,
          "Week 1 Only vs All 12 Weeks": "All 12 Week PDF",
          "qT": 0.046822742474916385
         },
         {
          "PDF": 0.00019731674277259281,
          "Week 1 Only vs All 12 Weeks": "All 12 Week PDF",
          "qT": 0.05016722408026756
         },
         {
          "PDF": 0.00028263865710109385,
          "Week 1 Only vs All 12 Weeks": "All 12 Week PDF",
          "qT": 0.05351170568561873
         },
         {
          "PDF": 0.00039557213663632943,
          "Week 1 Only vs All 12 Weeks": "All 12 Week PDF",
          "qT": 0.056856187290969896
         },
         {
          "PDF": 0.0005423685653806071,
          "Week 1 Only vs All 12 Weeks": "All 12 Week PDF",
          "qT": 0.06020066889632107
         },
         {
          "PDF": 0.0007301292715117721,
          "Week 1 Only vs All 12 Weeks": "All 12 Week PDF",
          "qT": 0.06354515050167224
         },
         {
          "PDF": 0.0009668409699136285,
          "Week 1 Only vs All 12 Weeks": "All 12 Week PDF",
          "qT": 0.06688963210702341
         },
         {
          "PDF": 0.00126140563399819,
          "Week 1 Only vs All 12 Weeks": "All 12 Week PDF",
          "qT": 0.07023411371237458
         },
         {
          "PDF": 0.0016236645826116166,
          "Week 1 Only vs All 12 Weeks": "All 12 Week PDF",
          "qT": 0.07357859531772575
         },
         {
          "PDF": 0.002064416624508238,
          "Week 1 Only vs All 12 Weeks": "All 12 Week PDF",
          "qT": 0.07692307692307693
         },
         {
          "PDF": 0.0025954301552397027,
          "Week 1 Only vs All 12 Weeks": "All 12 Week PDF",
          "qT": 0.0802675585284281
         },
         {
          "PDF": 0.003229449149600675,
          "Week 1 Only vs All 12 Weeks": "All 12 Week PDF",
          "qT": 0.08361204013377926
         },
         {
          "PDF": 0.003980193037236181,
          "Week 1 Only vs All 12 Weeks": "All 12 Week PDF",
          "qT": 0.08695652173913043
         },
         {
          "PDF": 0.00486235048986568,
          "Week 1 Only vs All 12 Weeks": "All 12 Week PDF",
          "qT": 0.0903010033444816
         },
         {
          "PDF": 0.00589156718601495,
          "Week 1 Only vs All 12 Weeks": "All 12 Week PDF",
          "qT": 0.09364548494983277
         },
         {
          "PDF": 0.00708442765335464,
          "Week 1 Only vs All 12 Weeks": "All 12 Week PDF",
          "qT": 0.09698996655518395
         },
         {
          "PDF": 0.008458431319895682,
          "Week 1 Only vs All 12 Weeks": "All 12 Week PDF",
          "qT": 0.10033444816053512
         },
         {
          "PDF": 0.010031962933549979,
          "Week 1 Only vs All 12 Weeks": "All 12 Week PDF",
          "qT": 0.10367892976588629
         },
         {
          "PDF": 0.01182425753507935,
          "Week 1 Only vs All 12 Weeks": "All 12 Week PDF",
          "qT": 0.10702341137123746
         },
         {
          "PDF": 0.013855360192373628,
          "Week 1 Only vs All 12 Weeks": "All 12 Week PDF",
          "qT": 0.11036789297658862
         },
         {
          "PDF": 0.01614608072445285,
          "Week 1 Only vs All 12 Weeks": "All 12 Week PDF",
          "qT": 0.11371237458193979
         },
         {
          "PDF": 0.018717943661707592,
          "Week 1 Only vs All 12 Weeks": "All 12 Week PDF",
          "qT": 0.11705685618729096
         },
         {
          "PDF": 0.02159313370480334,
          "Week 1 Only vs All 12 Weeks": "All 12 Week PDF",
          "qT": 0.12040133779264214
         },
         {
          "PDF": 0.024794436958486443,
          "Week 1 Only vs All 12 Weeks": "All 12 Week PDF",
          "qT": 0.12374581939799331
         },
         {
          "PDF": 0.028345178228364996,
          "Week 1 Only vs All 12 Weeks": "All 12 Week PDF",
          "qT": 0.12709030100334448
         },
         {
          "PDF": 0.03226915467869087,
          "Week 1 Only vs All 12 Weeks": "All 12 Week PDF",
          "qT": 0.13043478260869565
         },
         {
          "PDF": 0.03659056615735456,
          "Week 1 Only vs All 12 Weeks": "All 12 Week PDF",
          "qT": 0.13377926421404682
         },
         {
          "PDF": 0.041333942500809885,
          "Week 1 Only vs All 12 Weeks": "All 12 Week PDF",
          "qT": 0.13712374581939799
         },
         {
          "PDF": 0.04652406813657159,
          "Week 1 Only vs All 12 Weeks": "All 12 Week PDF",
          "qT": 0.14046822742474915
         },
         {
          "PDF": 0.05218590430436191,
          "Week 1 Only vs All 12 Weeks": "All 12 Week PDF",
          "qT": 0.14381270903010032
         },
         {
          "PDF": 0.058344509219013,
          "Week 1 Only vs All 12 Weeks": "All 12 Week PDF",
          "qT": 0.1471571906354515
         },
         {
          "PDF": 0.06502495649893873,
          "Week 1 Only vs All 12 Weeks": "All 12 Week PDF",
          "qT": 0.1505016722408027
         },
         {
          "PDF": 0.07225225218345746,
          "Week 1 Only vs All 12 Weeks": "All 12 Week PDF",
          "qT": 0.15384615384615385
         },
         {
          "PDF": 0.08005125066055085,
          "Week 1 Only vs All 12 Weeks": "All 12 Week PDF",
          "qT": 0.15719063545150502
         },
         {
          "PDF": 0.08844656982386033,
          "Week 1 Only vs All 12 Weeks": "All 12 Week PDF",
          "qT": 0.1605351170568562
         },
         {
          "PDF": 0.09746250577391516,
          "Week 1 Only vs All 12 Weeks": "All 12 Week PDF",
          "qT": 0.16387959866220736
         },
         {
          "PDF": 0.10712294737384169,
          "Week 1 Only vs All 12 Weeks": "All 12 Week PDF",
          "qT": 0.16722408026755853
         },
         {
          "PDF": 0.11745129096416351,
          "Week 1 Only vs All 12 Weeks": "All 12 Week PDF",
          "qT": 0.1705685618729097
         },
         {
          "PDF": 0.12847035553485628,
          "Week 1 Only vs All 12 Weeks": "All 12 Week PDF",
          "qT": 0.17391304347826086
         },
         {
          "PDF": 0.14020229864560982,
          "Week 1 Only vs All 12 Weeks": "All 12 Week PDF",
          "qT": 0.17725752508361203
         },
         {
          "PDF": 0.1526685333773476,
          "Week 1 Only vs All 12 Weeks": "All 12 Week PDF",
          "qT": 0.1806020066889632
         },
         {
          "PDF": 0.16588964658951347,
          "Week 1 Only vs All 12 Weeks": "All 12 Week PDF",
          "qT": 0.18394648829431437
         },
         {
          "PDF": 0.17988531874849883,
          "Week 1 Only vs All 12 Weeks": "All 12 Week PDF",
          "qT": 0.18729096989966554
         },
         {
          "PDF": 0.19467424558293225,
          "Week 1 Only vs All 12 Weeks": "All 12 Week PDF",
          "qT": 0.1906354515050167
         },
         {
          "PDF": 0.21027406181141653,
          "Week 1 Only vs All 12 Weeks": "All 12 Week PDF",
          "qT": 0.1939799331103679
         },
         {
          "PDF": 0.22670126717771047,
          "Week 1 Only vs All 12 Weeks": "All 12 Week PDF",
          "qT": 0.19732441471571907
         },
         {
          "PDF": 0.24397115501742414,
          "Week 1 Only vs All 12 Weeks": "All 12 Week PDF",
          "qT": 0.20066889632107024
         },
         {
          "PDF": 0.2620977435689853,
          "Week 1 Only vs All 12 Weeks": "All 12 Week PDF",
          "qT": 0.2040133779264214
         },
         {
          "PDF": 0.28109371023004914,
          "Week 1 Only vs All 12 Weeks": "All 12 Week PDF",
          "qT": 0.20735785953177258
         },
         {
          "PDF": 0.300970328948699,
          "Week 1 Only vs All 12 Weeks": "All 12 Week PDF",
          "qT": 0.21070234113712374
         },
         {
          "PDF": 0.3217374109267123,
          "Week 1 Only vs All 12 Weeks": "All 12 Week PDF",
          "qT": 0.2140468227424749
         },
         {
          "PDF": 0.34340324879996437,
          "Week 1 Only vs All 12 Weeks": "All 12 Week PDF",
          "qT": 0.21739130434782608
         },
         {
          "PDF": 0.3659745644486583,
          "Week 1 Only vs All 12 Weeks": "All 12 Week PDF",
          "qT": 0.22073578595317725
         },
         {
          "PDF": 0.38945646057763456,
          "Week 1 Only vs All 12 Weeks": "All 12 Week PDF",
          "qT": 0.22408026755852842
         },
         {
          "PDF": 0.41385237619444853,
          "Week 1 Only vs All 12 Weeks": "All 12 Week PDF",
          "qT": 0.22742474916387959
         },
         {
          "PDF": 0.43916404610038196,
          "Week 1 Only vs All 12 Weeks": "All 12 Week PDF",
          "qT": 0.23076923076923075
         },
         {
          "PDF": 0.46539146449696045,
          "Week 1 Only vs All 12 Weeks": "All 12 Week PDF",
          "qT": 0.23411371237458192
         },
         {
          "PDF": 0.492532852798017,
          "Week 1 Only vs All 12 Weeks": "All 12 Week PDF",
          "qT": 0.23745819397993312
         },
         {
          "PDF": 0.520584631724866,
          "Week 1 Only vs All 12 Weeks": "All 12 Week PDF",
          "qT": 0.2408026755852843
         },
         {
          "PDF": 0.5495413977497327,
          "Week 1 Only vs All 12 Weeks": "All 12 Week PDF",
          "qT": 0.24414715719063546
         },
         {
          "PDF": 0.5793959039403129,
          "Week 1 Only vs All 12 Weeks": "All 12 Week PDF",
          "qT": 0.24749163879598662
         },
         {
          "PDF": 0.6101390452461513,
          "Week 1 Only vs All 12 Weeks": "All 12 Week PDF",
          "qT": 0.2508361204013378
         },
         {
          "PDF": 0.6417598482555483,
          "Week 1 Only vs All 12 Weeks": "All 12 Week PDF",
          "qT": 0.25418060200668896
         },
         {
          "PDF": 0.6742454654398361,
          "Week 1 Only vs All 12 Weeks": "All 12 Week PDF",
          "qT": 0.25752508361204013
         },
         {
          "PDF": 0.7075811738902992,
          "Week 1 Only vs All 12 Weeks": "All 12 Week PDF",
          "qT": 0.2608695652173913
         },
         {
          "PDF": 0.741750378541512,
          "Week 1 Only vs All 12 Weeks": "All 12 Week PDF",
          "qT": 0.26421404682274247
         },
         {
          "PDF": 0.7767346198637988,
          "Week 1 Only vs All 12 Weeks": "All 12 Week PDF",
          "qT": 0.26755852842809363
         },
         {
          "PDF": 0.8125135859965005,
          "Week 1 Only vs All 12 Weeks": "All 12 Week PDF",
          "qT": 0.2709030100334448
         },
         {
          "PDF": 0.8490651292831516,
          "Week 1 Only vs All 12 Weeks": "All 12 Week PDF",
          "qT": 0.27424749163879597
         },
         {
          "PDF": 0.8863652871592642,
          "Week 1 Only vs All 12 Weeks": "All 12 Week PDF",
          "qT": 0.27759197324414714
         },
         {
          "PDF": 0.924388307333385,
          "Week 1 Only vs All 12 Weeks": "All 12 Week PDF",
          "qT": 0.2809364548494983
         },
         {
          "PDF": 0.9631066771922993,
          "Week 1 Only vs All 12 Weeks": "All 12 Week PDF",
          "qT": 0.2842809364548495
         },
         {
          "PDF": 1.0024911573518729,
          "Week 1 Only vs All 12 Weeks": "All 12 Week PDF",
          "qT": 0.28762541806020064
         },
         {
          "PDF": 1.0425108192659065,
          "Week 1 Only vs All 12 Weeks": "All 12 Week PDF",
          "qT": 0.2909698996655518
         },
         {
          "PDF": 1.0831330867966258,
          "Week 1 Only vs All 12 Weeks": "All 12 Week PDF",
          "qT": 0.294314381270903
         },
         {
          "PDF": 1.1243237816421061,
          "Week 1 Only vs All 12 Weeks": "All 12 Week PDF",
          "qT": 0.29765886287625415
         },
         {
          "PDF": 1.1660471725078048,
          "Week 1 Only vs All 12 Weeks": "All 12 Week PDF",
          "qT": 0.3010033444816054
         },
         {
          "PDF": 1.2082660279018493,
          "Week 1 Only vs All 12 Weeks": "All 12 Week PDF",
          "qT": 0.30434782608695654
         },
         {
          "PDF": 1.2509416724263678,
          "Week 1 Only vs All 12 Weeks": "All 12 Week PDF",
          "qT": 0.3076923076923077
         },
         {
          "PDF": 1.29403404643032,
          "Week 1 Only vs All 12 Weeks": "All 12 Week PDF",
          "qT": 0.3110367892976589
         },
         {
          "PDF": 1.3375017688827688,
          "Week 1 Only vs All 12 Weeks": "All 12 Week PDF",
          "qT": 0.31438127090301005
         },
         {
          "PDF": 1.3813022033194742,
          "Week 1 Only vs All 12 Weeks": "All 12 Week PDF",
          "qT": 0.3177257525083612
         },
         {
          "PDF": 1.4253915267099762,
          "Week 1 Only vs All 12 Weeks": "All 12 Week PDF",
          "qT": 0.3210702341137124
         },
         {
          "PDF": 1.469724801086991,
          "Week 1 Only vs All 12 Weeks": "All 12 Week PDF",
          "qT": 0.32441471571906355
         },
         {
          "PDF": 1.514256047775213,
          "Week 1 Only vs All 12 Weeks": "All 12 Week PDF",
          "qT": 0.3277591973244147
         },
         {
          "PDF": 1.558938324051944,
          "Week 1 Only vs All 12 Weeks": "All 12 Week PDF",
          "qT": 0.3311036789297659
         },
         {
          "PDF": 1.6037238020680273,
          "Week 1 Only vs All 12 Weeks": "All 12 Week PDF",
          "qT": 0.33444816053511706
         },
         {
          "PDF": 1.648563849853873,
          "Week 1 Only vs All 12 Weeks": "All 12 Week PDF",
          "qT": 0.3377926421404682
         },
         {
          "PDF": 1.6934091142320433,
          "Week 1 Only vs All 12 Weeks": "All 12 Week PDF",
          "qT": 0.3411371237458194
         },
         {
          "PDF": 1.73820960545516,
          "Week 1 Only vs All 12 Weeks": "All 12 Week PDF",
          "qT": 0.34448160535117056
         },
         {
          "PDF": 1.7829147833852372,
          "Week 1 Only vs All 12 Weeks": "All 12 Week PDF",
          "qT": 0.34782608695652173
         },
         {
          "PDF": 1.8274736450287143,
          "Week 1 Only vs All 12 Weeks": "All 12 Week PDF",
          "qT": 0.3511705685618729
         },
         {
          "PDF": 1.8718348132396287,
          "Week 1 Only vs All 12 Weeks": "All 12 Week PDF",
          "qT": 0.35451505016722407
         },
         {
          "PDF": 1.9159466264023288,
          "Week 1 Only vs All 12 Weeks": "All 12 Week PDF",
          "qT": 0.35785953177257523
         },
         {
          "PDF": 1.9597572289040077,
          "Week 1 Only vs All 12 Weeks": "All 12 Week PDF",
          "qT": 0.3612040133779264
         },
         {
          "PDF": 2.003214662207108,
          "Week 1 Only vs All 12 Weeks": "All 12 Week PDF",
          "qT": 0.36454849498327757
         },
         {
          "PDF": 2.0462669563314577,
          "Week 1 Only vs All 12 Weeks": "All 12 Week PDF",
          "qT": 0.36789297658862874
         },
         {
          "PDF": 2.088862221556224,
          "Week 1 Only vs All 12 Weeks": "All 12 Week PDF",
          "qT": 0.3712374581939799
         },
         {
          "PDF": 2.1309487401525957,
          "Week 1 Only vs All 12 Weeks": "All 12 Week PDF",
          "qT": 0.3745819397993311
         },
         {
          "PDF": 2.1724750579589536,
          "Week 1 Only vs All 12 Weeks": "All 12 Week PDF",
          "qT": 0.37792642140468224
         },
         {
          "PDF": 2.213390075611827,
          "Week 1 Only vs All 12 Weeks": "All 12 Week PDF",
          "qT": 0.3812709030100334
         },
         {
          "PDF": 2.253643139247543,
          "Week 1 Only vs All 12 Weeks": "All 12 Week PDF",
          "qT": 0.3846153846153846
         },
         {
          "PDF": 2.293184130491644,
          "Week 1 Only vs All 12 Weeks": "All 12 Week PDF",
          "qT": 0.3879598662207358
         },
         {
          "PDF": 2.331963555555548,
          "Week 1 Only vs All 12 Weeks": "All 12 Week PDF",
          "qT": 0.391304347826087
         },
         {
          "PDF": 2.369932633262615,
          "Week 1 Only vs All 12 Weeks": "All 12 Week PDF",
          "qT": 0.39464882943143814
         },
         {
          "PDF": 2.4070433818289096,
          "Week 1 Only vs All 12 Weeks": "All 12 Week PDF",
          "qT": 0.3979933110367893
         },
         {
          "PDF": 2.4432487042272903,
          "Week 1 Only vs All 12 Weeks": "All 12 Week PDF",
          "qT": 0.4013377926421405
         },
         {
          "PDF": 2.4785024719671402,
          "Week 1 Only vs All 12 Weeks": "All 12 Week PDF",
          "qT": 0.40468227424749165
         },
         {
          "PDF": 2.512759607125994,
          "Week 1 Only vs All 12 Weeks": "All 12 Week PDF",
          "qT": 0.4080267558528428
         },
         {
          "PDF": 2.5459761624735733,
          "Week 1 Only vs All 12 Weeks": "All 12 Week PDF",
          "qT": 0.411371237458194
         },
         {
          "PDF": 2.5781093995332824,
          "Week 1 Only vs All 12 Weeks": "All 12 Week PDF",
          "qT": 0.41471571906354515
         },
         {
          "PDF": 2.6091178644309476,
          "Week 1 Only vs All 12 Weeks": "All 12 Week PDF",
          "qT": 0.4180602006688963
         },
         {
          "PDF": 2.6389614613856383,
          "Week 1 Only vs All 12 Weeks": "All 12 Week PDF",
          "qT": 0.4214046822742475
         },
         {
          "PDF": 2.6676015237025688,
          "Week 1 Only vs All 12 Weeks": "All 12 Week PDF",
          "qT": 0.42474916387959866
         },
         {
          "PDF": 2.6950008821339053,
          "Week 1 Only vs All 12 Weeks": "All 12 Week PDF",
          "qT": 0.4280936454849498
         },
         {
          "PDF": 2.7211239304783783,
          "Week 1 Only vs All 12 Weeks": "All 12 Week PDF",
          "qT": 0.431438127090301
         },
         {
          "PDF": 2.7459366882973253,
          "Week 1 Only vs All 12 Weeks": "All 12 Week PDF",
          "qT": 0.43478260869565216
         },
         {
          "PDF": 2.7694068606300726,
          "Week 1 Only vs All 12 Weeks": "All 12 Week PDF",
          "qT": 0.43812709030100333
         },
         {
          "PDF": 2.79150389459855,
          "Week 1 Only vs All 12 Weeks": "All 12 Week PDF",
          "qT": 0.4414715719063545
         },
         {
          "PDF": 2.812199032796997,
          "Week 1 Only vs All 12 Weeks": "All 12 Week PDF",
          "qT": 0.44481605351170567
         },
         {
          "PDF": 2.831465363369421,
          "Week 1 Only vs All 12 Weeks": "All 12 Week PDF",
          "qT": 0.44816053511705684
         },
         {
          "PDF": 2.84927786668439,
          "Week 1 Only vs All 12 Weeks": "All 12 Week PDF",
          "qT": 0.451505016722408
         },
         {
          "PDF": 2.8656134585231787,
          "Week 1 Only vs All 12 Weeks": "All 12 Week PDF",
          "qT": 0.45484949832775917
         },
         {
          "PDF": 2.880451029704873,
          "Week 1 Only vs All 12 Weeks": "All 12 Week PDF",
          "qT": 0.45819397993311034
         },
         {
          "PDF": 2.89377148207862,
          "Week 1 Only vs All 12 Weeks": "All 12 Week PDF",
          "qT": 0.4615384615384615
         },
         {
          "PDF": 2.9055577608208227,
          "Week 1 Only vs All 12 Weeks": "All 12 Week PDF",
          "qT": 0.4648829431438127
         },
         {
          "PDF": 2.9157948829821936,
          "Week 1 Only vs All 12 Weeks": "All 12 Week PDF",
          "qT": 0.46822742474916385
         },
         {
          "PDF": 2.9244699622368246,
          "Week 1 Only vs All 12 Weeks": "All 12 Week PDF",
          "qT": 0.47157190635451507
         },
         {
          "PDF": 2.9315722297933173,
          "Week 1 Only vs All 12 Weeks": "All 12 Week PDF",
          "qT": 0.47491638795986624
         },
         {
          "PDF": 2.9370930514348106,
          "Week 1 Only vs All 12 Weeks": "All 12 Week PDF",
          "qT": 0.4782608695652174
         },
         {
          "PDF": 2.9410259406629153,
          "Week 1 Only vs All 12 Weeks": "All 12 Week PDF",
          "qT": 0.4816053511705686
         },
         {
          "PDF": 2.9433665679275816,
          "Week 1 Only vs All 12 Weeks": "All 12 Week PDF",
          "qT": 0.48494983277591974
         },
         {
          "PDF": 2.944112765932791,
          "Week 1 Only vs All 12 Weeks": "All 12 Week PDF",
          "qT": 0.4882943143812709
         },
         {
          "PDF": 2.9432645310152616,
          "Week 1 Only vs All 12 Weeks": "All 12 Week PDF",
          "qT": 0.4916387959866221
         },
         {
          "PDF": 2.9408240206010365,
          "Week 1 Only vs All 12 Weeks": "All 12 Week PDF",
          "qT": 0.49498327759197325
         },
         {
          "PDF": 2.9367955467521645,
          "Week 1 Only vs All 12 Weeks": "All 12 Week PDF",
          "qT": 0.4983277591973244
         },
         {
          "PDF": 2.931185565823236,
          "Week 1 Only vs All 12 Weeks": "All 12 Week PDF",
          "qT": 0.5016722408026756
         },
         {
          "PDF": 2.924002664254817,
          "Week 1 Only vs All 12 Weeks": "All 12 Week PDF",
          "qT": 0.5050167224080268
         },
         {
          "PDF": 2.915257540538239,
          "Week 1 Only vs All 12 Weeks": "All 12 Week PDF",
          "qT": 0.5083612040133779
         },
         {
          "PDF": 2.9049629833933355,
          "Week 1 Only vs All 12 Weeks": "All 12 Week PDF",
          "qT": 0.5117056856187291
         },
         {
          "PDF": 2.8931338462079896,
          "Week 1 Only vs All 12 Weeks": "All 12 Week PDF",
          "qT": 0.5150501672240803
         },
         {
          "PDF": 2.879787017795249,
          "Week 1 Only vs All 12 Weeks": "All 12 Week PDF",
          "qT": 0.5183946488294314
         },
         {
          "PDF": 2.8649413895308853,
          "Week 1 Only vs All 12 Weeks": "All 12 Week PDF",
          "qT": 0.5217391304347826
         },
         {
          "PDF": 2.848617818940908,
          "Week 1 Only vs All 12 Weeks": "All 12 Week PDF",
          "qT": 0.5250836120401338
         },
         {
          "PDF": 2.8308390898153246,
          "Week 1 Only vs All 12 Weeks": "All 12 Week PDF",
          "qT": 0.5284280936454849
         },
         {
          "PDF": 2.8116298689309605,
          "Week 1 Only vs All 12 Weeks": "All 12 Week PDF",
          "qT": 0.5317725752508361
         },
         {
          "PDF": 2.7910166594724446,
          "Week 1 Only vs All 12 Weeks": "All 12 Week PDF",
          "qT": 0.5351170568561873
         },
         {
          "PDF": 2.7690277512468224,
          "Week 1 Only vs All 12 Weeks": "All 12 Week PDF",
          "qT": 0.5384615384615384
         },
         {
          "PDF": 2.7456931677930787,
          "Week 1 Only vs All 12 Weeks": "All 12 Week PDF",
          "qT": 0.5418060200668896
         },
         {
          "PDF": 2.7210446104939225,
          "Week 1 Only vs All 12 Weeks": "All 12 Week PDF",
          "qT": 0.5451505016722408
         },
         {
          "PDF": 2.695115399802588,
          "Week 1 Only vs All 12 Weeks": "All 12 Week PDF",
          "qT": 0.5484949832775919
         },
         {
          "PDF": 2.667940413703101,
          "Week 1 Only vs All 12 Weeks": "All 12 Week PDF",
          "qT": 0.5518394648829431
         },
         {
          "PDF": 2.6395560235273874,
          "Week 1 Only vs All 12 Weeks": "All 12 Week PDF",
          "qT": 0.5551839464882943
         },
         {
          "PDF": 2.6100000272578994,
          "Week 1 Only vs All 12 Weeks": "All 12 Week PDF",
          "qT": 0.5585284280936454
         },
         {
          "PDF": 2.5793115804488926,
          "Week 1 Only vs All 12 Weeks": "All 12 Week PDF",
          "qT": 0.5618729096989966
         },
         {
          "PDF": 2.5475311249042725,
          "Week 1 Only vs All 12 Weeks": "All 12 Week PDF",
          "qT": 0.5652173913043478
         },
         {
          "PDF": 2.514700315254007,
          "Week 1 Only vs All 12 Weeks": "All 12 Week PDF",
          "qT": 0.568561872909699
         },
         {
          "PDF": 2.480861943575161,
          "Week 1 Only vs All 12 Weeks": "All 12 Week PDF",
          "qT": 0.5719063545150501
         },
         {
          "PDF": 2.446059862207449,
          "Week 1 Only vs All 12 Weeks": "All 12 Week PDF",
          "qT": 0.5752508361204013
         },
         {
          "PDF": 2.410338904916444,
          "Week 1 Only vs All 12 Weeks": "All 12 Week PDF",
          "qT": 0.5785953177257525
         },
         {
          "PDF": 2.3737448065611013,
          "Week 1 Only vs All 12 Weeks": "All 12 Week PDF",
          "qT": 0.5819397993311036
         },
         {
          "PDF": 2.3363241214247563,
          "Week 1 Only vs All 12 Weeks": "All 12 Week PDF",
          "qT": 0.5852842809364548
         },
         {
          "PDF": 2.2981241403717756,
          "Week 1 Only vs All 12 Weeks": "All 12 Week PDF",
          "qT": 0.588628762541806
         },
         {
          "PDF": 2.2591928069940304,
          "Week 1 Only vs All 12 Weeks": "All 12 Week PDF",
          "qT": 0.5919732441471571
         },
         {
          "PDF": 2.219578632913544,
          "Week 1 Only vs All 12 Weeks": "All 12 Week PDF",
          "qT": 0.5953177257525083
         },
         {
          "PDF": 2.1793306124093563,
          "Week 1 Only vs All 12 Weeks": "All 12 Week PDF",
          "qT": 0.5986622073578595
         },
         {
          "PDF": 2.13849813653796,
          "Week 1 Only vs All 12 Weeks": "All 12 Week PDF",
          "qT": 0.6020066889632107
         },
         {
          "PDF": 2.0971309069178203,
          "Week 1 Only vs All 12 Weeks": "All 12 Week PDF",
          "qT": 0.6053511705685619
         },
         {
          "PDF": 2.0552788493492087,
          "Week 1 Only vs All 12 Weeks": "All 12 Week PDF",
          "qT": 0.6086956521739131
         },
         {
          "PDF": 2.012992027441026,
          "Week 1 Only vs All 12 Weeks": "All 12 Week PDF",
          "qT": 0.6120401337792643
         },
         {
          "PDF": 1.97032055641638,
          "Week 1 Only vs All 12 Weeks": "All 12 Week PDF",
          "qT": 0.6153846153846154
         },
         {
          "PDF": 1.9273145172684905,
          "Week 1 Only vs All 12 Weeks": "All 12 Week PDF",
          "qT": 0.6187290969899666
         },
         {
          "PDF": 1.884023871437917,
          "Week 1 Only vs All 12 Weeks": "All 12 Week PDF",
          "qT": 0.6220735785953178
         },
         {
          "PDF": 1.8404983761812548,
          "Week 1 Only vs All 12 Weeks": "All 12 Week PDF",
          "qT": 0.6254180602006689
         },
         {
          "PDF": 1.7967875008001815,
          "Week 1 Only vs All 12 Weeks": "All 12 Week PDF",
          "qT": 0.6287625418060201
         },
         {
          "PDF": 1.752940343898275,
          "Week 1 Only vs All 12 Weeks": "All 12 Week PDF",
          "qT": 0.6321070234113713
         },
         {
          "PDF": 1.7090055518310392,
          "Week 1 Only vs All 12 Weeks": "All 12 Week PDF",
          "qT": 0.6354515050167224
         },
         {
          "PDF": 1.6650312385124635,
          "Week 1 Only vs All 12 Weeks": "All 12 Week PDF",
          "qT": 0.6387959866220736
         },
         {
          "PDF": 1.6210649067388345,
          "Week 1 Only vs All 12 Weeks": "All 12 Week PDF",
          "qT": 0.6421404682274248
         },
         {
          "PDF": 1.5771533711877046,
          "Week 1 Only vs All 12 Weeks": "All 12 Week PDF",
          "qT": 0.6454849498327759
         },
         {
          "PDF": 1.5333426832466683,
          "Week 1 Only vs All 12 Weeks": "All 12 Week PDF",
          "qT": 0.6488294314381271
         },
         {
          "PDF": 1.4896780578230915,
          "Week 1 Only vs All 12 Weeks": "All 12 Week PDF",
          "qT": 0.6521739130434783
         },
         {
          "PDF": 1.44620380228223,
          "Week 1 Only vs All 12 Weeks": "All 12 Week PDF",
          "qT": 0.6555183946488294
         },
         {
          "PDF": 1.4029632476567093,
          "Week 1 Only vs All 12 Weeks": "All 12 Week PDF",
          "qT": 0.6588628762541806
         },
         {
          "PDF": 1.3599986822662233,
          "Week 1 Only vs All 12 Weeks": "All 12 Week PDF",
          "qT": 0.6622073578595318
         },
         {
          "PDF": 1.317351287881279,
          "Week 1 Only vs All 12 Weeks": "All 12 Week PDF",
          "qT": 0.6655518394648829
         },
         {
          "PDF": 1.2750610785598158,
          "Week 1 Only vs All 12 Weeks": "All 12 Week PDF",
          "qT": 0.6688963210702341
         },
         {
          "PDF": 1.2331668422802373,
          "Week 1 Only vs All 12 Weeks": "All 12 Week PDF",
          "qT": 0.6722408026755853
         },
         {
          "PDF": 1.1917060854884263,
          "Week 1 Only vs All 12 Weeks": "All 12 Week PDF",
          "qT": 0.6755852842809364
         },
         {
          "PDF": 1.1507149806708274,
          "Week 1 Only vs All 12 Weeks": "All 12 Week PDF",
          "qT": 0.6789297658862876
         },
         {
          "PDF": 1.1102283170589287,
          "Week 1 Only vs All 12 Weeks": "All 12 Week PDF",
          "qT": 0.6822742474916388
         },
         {
          "PDF": 1.0702794545644512,
          "Week 1 Only vs All 12 Weeks": "All 12 Week PDF",
          "qT": 0.68561872909699
         },
         {
          "PDF": 1.0309002810373762,
          "Week 1 Only vs All 12 Weeks": "All 12 Week PDF",
          "qT": 0.6889632107023411
         },
         {
          "PDF": 0.9921211729322639,
          "Week 1 Only vs All 12 Weeks": "All 12 Week PDF",
          "qT": 0.6923076923076923
         },
         {
          "PDF": 0.9539709594608444,
          "Week 1 Only vs All 12 Weeks": "All 12 Week PDF",
          "qT": 0.6956521739130435
         },
         {
          "PDF": 0.9164768903014968,
          "Week 1 Only vs All 12 Weeks": "All 12 Week PDF",
          "qT": 0.6989966555183946
         },
         {
          "PDF": 0.8796646069284909,
          "Week 1 Only vs All 12 Weeks": "All 12 Week PDF",
          "qT": 0.7023411371237458
         },
         {
          "PDF": 0.8435581176159475,
          "Week 1 Only vs All 12 Weeks": "All 12 Week PDF",
          "qT": 0.705685618729097
         },
         {
          "PDF": 0.8081797761633829,
          "Week 1 Only vs All 12 Weeks": "All 12 Week PDF",
          "qT": 0.7090301003344481
         },
         {
          "PDF": 0.7735502643814378,
          "Week 1 Only vs All 12 Weeks": "All 12 Week PDF",
          "qT": 0.7123745819397993
         },
         {
          "PDF": 0.7396885783678752,
          "Week 1 Only vs All 12 Weeks": "All 12 Week PDF",
          "qT": 0.7157190635451505
         },
         {
          "PDF": 0.7066120185953946,
          "Week 1 Only vs All 12 Weeks": "All 12 Week PDF",
          "qT": 0.7190635451505016
         },
         {
          "PDF": 0.6743361838239877,
          "Week 1 Only vs All 12 Weeks": "All 12 Week PDF",
          "qT": 0.7224080267558528
         },
         {
          "PDF": 0.6428749688417383,
          "Week 1 Only vs All 12 Weeks": "All 12 Week PDF",
          "qT": 0.725752508361204
         },
         {
          "PDF": 0.612240566028945,
          "Week 1 Only vs All 12 Weeks": "All 12 Week PDF",
          "qT": 0.7290969899665551
         },
         {
          "PDF": 0.582443470731376,
          "Week 1 Only vs All 12 Weeks": "All 12 Week PDF",
          "qT": 0.7324414715719063
         },
         {
          "PDF": 0.5534924904193166,
          "Week 1 Only vs All 12 Weeks": "All 12 Week PDF",
          "qT": 0.7357859531772575
         },
         {
          "PDF": 0.5253947575998372,
          "Week 1 Only vs All 12 Weeks": "All 12 Week PDF",
          "qT": 0.7391304347826086
         },
         {
          "PDF": 0.4981557464404528,
          "Week 1 Only vs All 12 Weeks": "All 12 Week PDF",
          "qT": 0.7424749163879598
         },
         {
          "PDF": 0.4717792930530901,
          "Week 1 Only vs All 12 Weeks": "All 12 Week PDF",
          "qT": 0.745819397993311
         },
         {
          "PDF": 0.4462676193779554,
          "Week 1 Only vs All 12 Weeks": "All 12 Week PDF",
          "qT": 0.7491638795986622
         },
         {
          "PDF": 0.4216213605976534,
          "Week 1 Only vs All 12 Weeks": "All 12 Week PDF",
          "qT": 0.7525083612040133
         },
         {
          "PDF": 0.3978395960026863,
          "Week 1 Only vs All 12 Weeks": "All 12 Week PDF",
          "qT": 0.7558528428093645
         },
         {
          "PDF": 0.3749198832202701,
          "Week 1 Only vs All 12 Weeks": "All 12 Week PDF",
          "qT": 0.7591973244147157
         },
         {
          "PDF": 0.3528582957093278,
          "Week 1 Only vs All 12 Weeks": "All 12 Week PDF",
          "qT": 0.7625418060200668
         },
         {
          "PDF": 0.33164946341552415,
          "Week 1 Only vs All 12 Weeks": "All 12 Week PDF",
          "qT": 0.765886287625418
         },
         {
          "PDF": 0.31128661647135214,
          "Week 1 Only vs All 12 Weeks": "All 12 Week PDF",
          "qT": 0.7692307692307692
         },
         {
          "PDF": 0.29176163181755543,
          "Week 1 Only vs All 12 Weeks": "All 12 Week PDF",
          "qT": 0.7725752508361204
         },
         {
          "PDF": 0.2730650826136277,
          "Week 1 Only vs All 12 Weeks": "All 12 Week PDF",
          "qT": 0.7759197324414716
         },
         {
          "PDF": 0.2551862902967845,
          "Week 1 Only vs All 12 Weeks": "All 12 Week PDF",
          "qT": 0.7792642140468228
         },
         {
          "PDF": 0.23811337914067582,
          "Week 1 Only vs All 12 Weeks": "All 12 Week PDF",
          "qT": 0.782608695652174
         },
         {
          "PDF": 0.22183333315722645,
          "Week 1 Only vs All 12 Weeks": "All 12 Week PDF",
          "qT": 0.7859531772575251
         },
         {
          "PDF": 0.20633205517736858,
          "Week 1 Only vs All 12 Weeks": "All 12 Week PDF",
          "qT": 0.7892976588628763
         },
         {
          "PDF": 0.19159442793913642,
          "Week 1 Only vs All 12 Weeks": "All 12 Week PDF",
          "qT": 0.7926421404682275
         },
         {
          "PDF": 0.177604377004593,
          "Week 1 Only vs All 12 Weeks": "All 12 Week PDF",
          "qT": 0.7959866220735786
         },
         {
          "PDF": 0.16434493532042183,
          "Week 1 Only vs All 12 Weeks": "All 12 Week PDF",
          "qT": 0.7993311036789298
         },
         {
          "PDF": 0.15179830923077348,
          "Week 1 Only vs All 12 Weeks": "All 12 Week PDF",
          "qT": 0.802675585284281
         },
         {
          "PDF": 0.1399459457450779,
          "Week 1 Only vs All 12 Weeks": "All 12 Week PDF",
          "qT": 0.8060200668896321
         },
         {
          "PDF": 0.12876860085815134,
          "Week 1 Only vs All 12 Weeks": "All 12 Week PDF",
          "qT": 0.8093645484949833
         },
         {
          "PDF": 0.11824640871495226,
          "Week 1 Only vs All 12 Weeks": "All 12 Week PDF",
          "qT": 0.8127090301003345
         },
         {
          "PDF": 0.10835895140788604,
          "Week 1 Only vs All 12 Weeks": "All 12 Week PDF",
          "qT": 0.8160535117056856
         },
         {
          "PDF": 0.09908532919063441,
          "Week 1 Only vs All 12 Weeks": "All 12 Week PDF",
          "qT": 0.8193979933110368
         },
         {
          "PDF": 0.09040423088907895,
          "Week 1 Only vs All 12 Weeks": "All 12 Week PDF",
          "qT": 0.822742474916388
         },
         {
          "PDF": 0.08229400428710512,
          "Week 1 Only vs All 12 Weeks": "All 12 Week PDF",
          "qT": 0.8260869565217391
         },
         {
          "PDF": 0.07473272626286664,
          "Week 1 Only vs All 12 Weeks": "All 12 Week PDF",
          "qT": 0.8294314381270903
         },
         {
          "PDF": 0.06769827244954309,
          "Week 1 Only vs All 12 Weeks": "All 12 Week PDF",
          "qT": 0.8327759197324415
         },
         {
          "PDF": 0.061168386193746975,
          "Week 1 Only vs All 12 Weeks": "All 12 Week PDF",
          "qT": 0.8361204013377926
         },
         {
          "PDF": 0.05512074658455085,
          "Week 1 Only vs All 12 Weeks": "All 12 Week PDF",
          "qT": 0.8394648829431438
         },
         {
          "PDF": 0.049533035326662624,
          "Week 1 Only vs All 12 Weeks": "All 12 Week PDF",
          "qT": 0.842809364548495
         },
         {
          "PDF": 0.04438300223259426,
          "Week 1 Only vs All 12 Weeks": "All 12 Week PDF",
          "qT": 0.8461538461538461
         },
         {
          "PDF": 0.03964852911077136,
          "Week 1 Only vs All 12 Weeks": "All 12 Week PDF",
          "qT": 0.8494983277591973
         },
         {
          "PDF": 0.03530769182946579,
          "Week 1 Only vs All 12 Weeks": "All 12 Week PDF",
          "qT": 0.8528428093645485
         },
         {
          "PDF": 0.03133882034021019,
          "Week 1 Only vs All 12 Weeks": "All 12 Week PDF",
          "qT": 0.8561872909698997
         },
         {
          "PDF": 0.027720556449019502,
          "Week 1 Only vs All 12 Weeks": "All 12 Week PDF",
          "qT": 0.8595317725752508
         },
         {
          "PDF": 0.02443190912931454,
          "Week 1 Only vs All 12 Weeks": "All 12 Week PDF",
          "qT": 0.862876254180602
         },
         {
          "PDF": 0.02145230717695308,
          "Week 1 Only vs All 12 Weeks": "All 12 Week PDF",
          "qT": 0.8662207357859532
         },
         {
          "PDF": 0.018761649015252943,
          "Week 1 Only vs All 12 Weeks": "All 12 Week PDF",
          "qT": 0.8695652173913043
         },
         {
          "PDF": 0.01634034946635873,
          "Week 1 Only vs All 12 Weeks": "All 12 Week PDF",
          "qT": 0.8729096989966555
         },
         {
          "PDF": 0.014169383314796764,
          "Week 1 Only vs All 12 Weeks": "All 12 Week PDF",
          "qT": 0.8762541806020067
         },
         {
          "PDF": 0.012230325499594087,
          "Week 1 Only vs All 12 Weeks": "All 12 Week PDF",
          "qT": 0.8795986622073578
         },
         {
          "PDF": 0.010505387782942499,
          "Week 1 Only vs All 12 Weeks": "All 12 Week PDF",
          "qT": 0.882943143812709
         },
         {
          "PDF": 0.008977451756082012,
          "Week 1 Only vs All 12 Weeks": "All 12 Week PDF",
          "qT": 0.8862876254180602
         },
         {
          "PDF": 0.007630098056885436,
          "Week 1 Only vs All 12 Weeks": "All 12 Week PDF",
          "qT": 0.8896321070234113
         },
         {
          "PDF": 0.006447631688564609,
          "Week 1 Only vs All 12 Weeks": "All 12 Week PDF",
          "qT": 0.8929765886287625
         },
         {
          "PDF": 0.005415103345006002,
          "Week 1 Only vs All 12 Weeks": "All 12 Week PDF",
          "qT": 0.8963210702341137
         },
         {
          "PDF": 0.004518326665496838,
          "Week 1 Only vs All 12 Weeks": "All 12 Week PDF",
          "qT": 0.8996655518394648
         },
         {
          "PDF": 0.003743891360029521,
          "Week 1 Only vs All 12 Weeks": "All 12 Week PDF",
          "qT": 0.903010033444816
         },
         {
          "PDF": 0.0030791721659878704,
          "Week 1 Only vs All 12 Weeks": "All 12 Week PDF",
          "qT": 0.9063545150501672
         },
         {
          "PDF": 0.0025123336178229164,
          "Week 1 Only vs All 12 Weeks": "All 12 Week PDF",
          "qT": 0.9096989966555183
         },
         {
          "PDF": 0.0020323306333252496,
          "Week 1 Only vs All 12 Weeks": "All 12 Week PDF",
          "qT": 0.9130434782608695
         },
         {
          "PDF": 0.0016289049432897207,
          "Week 1 Only vs All 12 Weeks": "All 12 Week PDF",
          "qT": 0.9163879598662207
         },
         {
          "PDF": 0.0012925774157393334,
          "Week 1 Only vs All 12 Weeks": "All 12 Week PDF",
          "qT": 0.9197324414715718
         },
         {
          "PDF": 0.001014636351414613,
          "Week 1 Only vs All 12 Weeks": "All 12 Week PDF",
          "qT": 0.923076923076923
         },
         {
          "PDF": 0.0007871218539204491,
          "Week 1 Only vs All 12 Weeks": "All 12 Week PDF",
          "qT": 0.9264214046822742
         },
         {
          "PDF": 0.0006028064057258923,
          "Week 1 Only vs All 12 Weeks": "All 12 Week PDF",
          "qT": 0.9297658862876254
         },
         {
          "PDF": 0.0004551718100936513,
          "Week 1 Only vs All 12 Weeks": "All 12 Week PDF",
          "qT": 0.9331103678929765
         },
         {
          "PDF": 0.00033838268892532193,
          "Week 1 Only vs All 12 Weeks": "All 12 Week PDF",
          "qT": 0.9364548494983277
         },
         {
          "PDF": 0.0002472567573816128,
          "Week 1 Only vs All 12 Weeks": "All 12 Week PDF",
          "qT": 0.9397993311036789
         },
         {
          "PDF": 0.000177232127894258,
          "Week 1 Only vs All 12 Weeks": "All 12 Week PDF",
          "qT": 0.9431438127090301
         },
         {
          "PDF": 0.00012433192872907578,
          "Week 1 Only vs All 12 Weeks": "All 12 Week PDF",
          "qT": 0.9464882943143813
         },
         {
          "PDF": 0.00008512655546527817,
          "Week 1 Only vs All 12 Weeks": "All 12 Week PDF",
          "qT": 0.9498327759197325
         },
         {
          "PDF": 0.000056693907473921516,
          "Week 1 Only vs All 12 Weeks": "All 12 Week PDF",
          "qT": 0.9531772575250836
         },
         {
          "PDF": 0.000036577995521454395,
          "Week 1 Only vs All 12 Weeks": "All 12 Week PDF",
          "qT": 0.9565217391304348
         },
         {
          "PDF": 0.000022746340761539868,
          "Week 1 Only vs All 12 Weeks": "All 12 Week PDF",
          "qT": 0.959866220735786
         },
         {
          "PDF": 0.000013546619320547627,
          "Week 1 Only vs All 12 Weeks": "All 12 Week PDF",
          "qT": 0.9632107023411371
         },
         {
          "PDF": 0.000007663040065626441,
          "Week 1 Only vs All 12 Weeks": "All 12 Week PDF",
          "qT": 0.9665551839464883
         },
         {
          "PDF": 0.000004072975505368855,
          "Week 1 Only vs All 12 Weeks": "All 12 Week PDF",
          "qT": 0.9698996655518395
         },
         {
          "PDF": 0.0000020043965119463323,
          "Week 1 Only vs All 12 Weeks": "All 12 Week PDF",
          "qT": 0.9732441471571907
         },
         {
          "PDF": 8.946898790862888e-7,
          "Week 1 Only vs All 12 Weeks": "All 12 Week PDF",
          "qT": 0.9765886287625418
         },
         {
          "PDF": 3.514625732039647e-7,
          "Week 1 Only vs All 12 Weeks": "All 12 Week PDF",
          "qT": 0.979933110367893
         },
         {
          "PDF": 1.1595640499016154e-7,
          "Week 1 Only vs All 12 Weeks": "All 12 Week PDF",
          "qT": 0.9832775919732442
         },
         {
          "PDF": 2.970958362881901e-8,
          "Week 1 Only vs All 12 Weeks": "All 12 Week PDF",
          "qT": 0.9866220735785953
         },
         {
          "PDF": 5.103909771281303e-9,
          "Week 1 Only vs All 12 Weeks": "All 12 Week PDF",
          "qT": 0.9899665551839465
         },
         {
          "PDF": 4.227870652900641e-10,
          "Week 1 Only vs All 12 Weeks": "All 12 Week PDF",
          "qT": 0.9933110367892977
         },
         {
          "PDF": 5.897077963481218e-12,
          "Week 1 Only vs All 12 Weeks": "All 12 Week PDF",
          "qT": 0.9966555183946488
         },
         {
          "PDF": 0,
          "Week 1 Only vs All 12 Weeks": "All 12 Week PDF",
          "qT": 1
         }
        ]
       },
       "encoding": {
        "strokeDash": {
         "field": "Week 1 Only vs All 12 Weeks",
         "type": "nominal"
        },
        "x": {
         "field": "qT",
         "title": "qₜ",
         "type": "quantitative"
        },
        "y": {
         "field": "PDF",
         "title": "f(qₜ)",
         "type": "quantitative"
        }
       },
       "height": 350,
       "mark": {
        "type": "line"
       },
       "title": "Distribution of qₜ: Week 1 Only vs. All 12 Weeks",
       "width": 500
      },
      "text/plain": [
       "<VegaLite 5 object>\n",
       "\n",
       "If you see this message, it means the renderer has not been properly enabled\n",
       "for the frontend that you are using. For more information, see\n",
       "https://altair-viz.github.io/user_guide/display_frontends.html#troubleshooting\n"
      ]
     },
     "execution_count": 30,
     "metadata": {},
     "output_type": "execute_result"
    }
   ],
   "source": [
    "qt_dist = pl.DataFrame({'qT': qt, 'Week 1 PDF': y_w1, 'All 12 Week PDF': y_w12})\n",
    "qt_dist = qt_dist.unpivot(on=['Week 1 PDF', 'All 12 Week PDF'], index='qT', variable_name='Week 1 Only vs All 12 Weeks', value_name='PDF')\n",
    "\n",
    "(\n",
    "    alt.Chart(qt_dist).mark_line()\n",
    "    .encode(x=alt.X('qT', title='qₜ'), \n",
    "            y=alt.Y('PDF', title='f(qₜ)'), \n",
    "            strokeDash='Week 1 Only vs All 12 Weeks:N')\n",
    "    .properties(\n",
    "            width=500,\n",
    "            height=350,\n",
    "            title='Distribution of qₜ: Week 1 Only vs. All 12 Weeks'\n",
    "        ).configure_view(stroke=None).configure_axisY(grid=False).configure_axisX(grid=False)         \n",
    ")"
   ]
  }
 ],
 "metadata": {
  "kernelspec": {
   "display_name": "fin",
   "language": "python",
   "name": "python3"
  },
  "language_info": {
   "codemirror_mode": {
    "name": "ipython",
    "version": 3
   },
   "file_extension": ".py",
   "mimetype": "text/x-python",
   "name": "python",
   "nbconvert_exporter": "python",
   "pygments_lexer": "ipython3",
   "version": "3.12.8"
  }
 },
 "nbformat": 4,
 "nbformat_minor": 2
}
