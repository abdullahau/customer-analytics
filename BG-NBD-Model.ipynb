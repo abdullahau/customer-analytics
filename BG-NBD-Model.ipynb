{
 "cells": [
  {
   "cell_type": "markdown",
   "metadata": {},
   "source": [
    "Beta-geometric/Negative Binomial Distribution Model (BG/NBD) - Forecasting Individual-Level Repeat-Buying"
   ]
  },
  {
   "cell_type": "code",
   "execution_count": 1,
   "metadata": {},
   "outputs": [],
   "source": [
    "import polars as pl\n",
    "import numpy as np\n",
    "import altair as alt\n",
    "from scipy.optimize import minimize"
   ]
  },
  {
   "cell_type": "code",
   "execution_count": 2,
   "metadata": {},
   "outputs": [
    {
     "data": {
      "text/html": [
       "<div><style>\n",
       ".dataframe > thead > tr,\n",
       ".dataframe > tbody > tr {\n",
       "  text-align: right;\n",
       "  white-space: pre-wrap;\n",
       "}\n",
       "</style>\n",
       "<small>shape: (5, 7)</small><table border=\"1\" class=\"dataframe\"><thead><tr><th>CustID</th><th>Date</th><th>Quant</th><th>Spend</th><th>Spend Scaled</th><th>PurchDay</th><th>DoR</th></tr><tr><td>i32</td><td>date</td><td>i64</td><td>f64</td><td>i64</td><td>u16</td><td>u16</td></tr></thead><tbody><tr><td>1</td><td>1997-01-01</td><td>1</td><td>11.77</td><td>1177</td><td>1</td><td>0</td></tr><tr><td>2</td><td>1997-01-12</td><td>6</td><td>89.0</td><td>8900</td><td>12</td><td>0</td></tr><tr><td>3</td><td>1997-01-02</td><td>2</td><td>20.76</td><td>2076</td><td>2</td><td>0</td></tr><tr><td>3</td><td>1997-03-30</td><td>2</td><td>20.76</td><td>2076</td><td>89</td><td>1</td></tr><tr><td>3</td><td>1997-04-02</td><td>2</td><td>19.54</td><td>1954</td><td>92</td><td>2</td></tr></tbody></table></div>"
      ],
      "text/plain": [
       "shape: (5, 7)\n",
       "┌────────┬────────────┬───────┬───────┬──────────────┬──────────┬─────┐\n",
       "│ CustID ┆ Date       ┆ Quant ┆ Spend ┆ Spend Scaled ┆ PurchDay ┆ DoR │\n",
       "│ ---    ┆ ---        ┆ ---   ┆ ---   ┆ ---          ┆ ---      ┆ --- │\n",
       "│ i32    ┆ date       ┆ i64   ┆ f64   ┆ i64          ┆ u16      ┆ u16 │\n",
       "╞════════╪════════════╪═══════╪═══════╪══════════════╪══════════╪═════╡\n",
       "│ 1      ┆ 1997-01-01 ┆ 1     ┆ 11.77 ┆ 1177         ┆ 1        ┆ 0   │\n",
       "│ 2      ┆ 1997-01-12 ┆ 6     ┆ 89.0  ┆ 8900         ┆ 12       ┆ 0   │\n",
       "│ 3      ┆ 1997-01-02 ┆ 2     ┆ 20.76 ┆ 2076         ┆ 2        ┆ 0   │\n",
       "│ 3      ┆ 1997-03-30 ┆ 2     ┆ 20.76 ┆ 2076         ┆ 89       ┆ 1   │\n",
       "│ 3      ┆ 1997-04-02 ┆ 2     ┆ 19.54 ┆ 1954         ┆ 92       ┆ 2   │\n",
       "└────────┴────────────┴───────┴───────┴──────────────┴──────────┴─────┘"
      ]
     },
     "metadata": {},
     "output_type": "display_data"
    },
    {
     "data": {
      "text/html": [
       "<div><style>\n",
       ".dataframe > thead > tr,\n",
       ".dataframe > tbody > tr {\n",
       "  text-align: right;\n",
       "  white-space: pre-wrap;\n",
       "}\n",
       "</style>\n",
       "<small>shape: (9, 8)</small><table border=\"1\" class=\"dataframe\"><thead><tr><th>statistic</th><th>CustID</th><th>Date</th><th>Quant</th><th>Spend</th><th>Spend Scaled</th><th>PurchDay</th><th>DoR</th></tr><tr><td>str</td><td>f64</td><td>str</td><td>f64</td><td>f64</td><td>f64</td><td>f64</td><td>f64</td></tr></thead><tbody><tr><td>&quot;count&quot;</td><td>67591.0</td><td>&quot;67591&quot;</td><td>67591.0</td><td>67591.0</td><td>67591.0</td><td>67591.0</td><td>67591.0</td></tr><tr><td>&quot;null_count&quot;</td><td>0.0</td><td>&quot;0&quot;</td><td>0.0</td><td>0.0</td><td>0.0</td><td>0.0</td><td>0.0</td></tr><tr><td>&quot;mean&quot;</td><td>11479.968931</td><td>&quot;1997-07-01 11:44:58.175000&quot;</td><td>2.483777</td><td>36.991843</td><td>3699.184255</td><td>182.489562</td><td>3.976387</td></tr><tr><td>&quot;std&quot;</td><td>6813.132779</td><td>null</td><td>2.446038</td><td>38.143508</td><td>3814.350807</td><td>159.229817</td><td>9.45283</td></tr><tr><td>&quot;min&quot;</td><td>1.0</td><td>&quot;1997-01-01&quot;</td><td>1.0</td><td>0.0</td><td>0.0</td><td>1.0</td><td>0.0</td></tr><tr><td>&quot;25%&quot;</td><td>5516.0</td><td>&quot;1997-02-22&quot;</td><td>1.0</td><td>14.79</td><td>1479.0</td><td>53.0</td><td>0.0</td></tr><tr><td>&quot;50%&quot;</td><td>11425.0</td><td>&quot;1997-04-21&quot;</td><td>2.0</td><td>26.73</td><td>2673.0</td><td>111.0</td><td>1.0</td></tr><tr><td>&quot;75%&quot;</td><td>17269.0</td><td>&quot;1997-11-06&quot;</td><td>3.0</td><td>44.7</td><td>4470.0</td><td>310.0</td><td>4.0</td></tr><tr><td>&quot;max&quot;</td><td>23570.0</td><td>&quot;1998-06-30&quot;</td><td>99.0</td><td>1554.58</td><td>155458.0</td><td>546.0</td><td>170.0</td></tr></tbody></table></div>"
      ],
      "text/plain": [
       "shape: (9, 8)\n",
       "┌────────────┬────────────┬────────────┬──────────┬───────────┬────────────┬────────────┬──────────┐\n",
       "│ statistic  ┆ CustID     ┆ Date       ┆ Quant    ┆ Spend     ┆ Spend      ┆ PurchDay   ┆ DoR      │\n",
       "│ ---        ┆ ---        ┆ ---        ┆ ---      ┆ ---       ┆ Scaled     ┆ ---        ┆ ---      │\n",
       "│ str        ┆ f64        ┆ str        ┆ f64      ┆ f64       ┆ ---        ┆ f64        ┆ f64      │\n",
       "│            ┆            ┆            ┆          ┆           ┆ f64        ┆            ┆          │\n",
       "╞════════════╪════════════╪════════════╪══════════╪═══════════╪════════════╪════════════╪══════════╡\n",
       "│ count      ┆ 67591.0    ┆ 67591      ┆ 67591.0  ┆ 67591.0   ┆ 67591.0    ┆ 67591.0    ┆ 67591.0  │\n",
       "│ null_count ┆ 0.0        ┆ 0          ┆ 0.0      ┆ 0.0       ┆ 0.0        ┆ 0.0        ┆ 0.0      │\n",
       "│ mean       ┆ 11479.9689 ┆ 1997-07-01 ┆ 2.483777 ┆ 36.991843 ┆ 3699.18425 ┆ 182.489562 ┆ 3.976387 │\n",
       "│            ┆ 31         ┆ 11:44:58.1 ┆          ┆           ┆ 5          ┆            ┆          │\n",
       "│            ┆            ┆ 75000      ┆          ┆           ┆            ┆            ┆          │\n",
       "│ std        ┆ 6813.13277 ┆ null       ┆ 2.446038 ┆ 38.143508 ┆ 3814.35080 ┆ 159.229817 ┆ 9.45283  │\n",
       "│            ┆ 9          ┆            ┆          ┆           ┆ 7          ┆            ┆          │\n",
       "│ min        ┆ 1.0        ┆ 1997-01-01 ┆ 1.0      ┆ 0.0       ┆ 0.0        ┆ 1.0        ┆ 0.0      │\n",
       "│ 25%        ┆ 5516.0     ┆ 1997-02-22 ┆ 1.0      ┆ 14.79     ┆ 1479.0     ┆ 53.0       ┆ 0.0      │\n",
       "│ 50%        ┆ 11425.0    ┆ 1997-04-21 ┆ 2.0      ┆ 26.73     ┆ 2673.0     ┆ 111.0      ┆ 1.0      │\n",
       "│ 75%        ┆ 17269.0    ┆ 1997-11-06 ┆ 3.0      ┆ 44.7      ┆ 4470.0     ┆ 310.0      ┆ 4.0      │\n",
       "│ max        ┆ 23570.0    ┆ 1998-06-30 ┆ 99.0     ┆ 1554.58   ┆ 155458.0   ┆ 546.0      ┆ 170.0    │\n",
       "└────────────┴────────────┴────────────┴──────────┴───────────┴────────────┴────────────┴──────────┘"
      ]
     },
     "metadata": {},
     "output_type": "display_data"
    }
   ],
   "source": [
    "CDNOW_master = (\n",
    "    pl.scan_csv(source = 'data/CDNOW/CDNOW_master.csv', \n",
    "                has_header=False, \n",
    "                separator=',', \n",
    "                schema={'CustID': pl.Int32,\n",
    "                        'Date': pl.String,\n",
    "                        'Quant': pl.Int16,\n",
    "                        'Spend': pl.Float64})\n",
    "    .with_columns(pl.col('Date').str.to_date(\"%Y%m%d\"))\n",
    "    .with_columns((pl.col('Date') - pl.date(1996,12,31)).dt.total_days().cast(pl.UInt16).alias('PurchDay'))\n",
    "    .with_columns((pl.col('Spend')*100).round(0).cast(pl.Int64).alias('Spend Scaled'))\n",
    "    .group_by('CustID', 'Date', maintain_order=True)\n",
    "    .agg(pl.col('*').exclude('PurchDay').sum(), pl.col('PurchDay').max()) # Multiple transactions by a customer on a single day are aggregated into one\n",
    "    .with_columns((pl.col(\"CustID\").cum_count().over(\"CustID\") - 1).cast(pl.UInt16).alias(\"DoR\"))    \n",
    ")\n",
    "\n",
    "display(CDNOW_master.head().collect())\n",
    "display(CDNOW_master.describe())"
   ]
  },
  {
   "cell_type": "code",
   "execution_count": 11,
   "metadata": {},
   "outputs": [],
   "source": [
    "master_TransMAT = (\n",
    "    CDNOW_master\n",
    "    .collect()\n",
    "    .pivot(on='DoR', index='CustID', values='PurchDay', aggregate_function='max', maintain_order=True)\n",
    "    .fill_null(0)\n",
    ")\n",
    "\n",
    "master_QuantMAT = (\n",
    "    CDNOW_master\n",
    "    .collect()\n",
    "    .pivot(on='DoR', index='CustID', values='Quant', aggregate_function='sum', maintain_order=True)\n",
    "    .fill_null(0)\n",
    ")\n",
    "\n",
    "master_SpendMAT = (\n",
    "    CDNOW_master\n",
    "    .collect()\n",
    "    .pivot(on='DoR', index='CustID', values='Spend', aggregate_function='sum', maintain_order=True)\n",
    "    .fill_null(0)\n",
    ")"
   ]
  },
  {
   "cell_type": "code",
   "execution_count": 4,
   "metadata": {},
   "outputs": [
    {
     "data": {
      "text/html": [
       "<div><style>\n",
       ".dataframe > thead > tr,\n",
       ".dataframe > tbody > tr {\n",
       "  text-align: right;\n",
       "  white-space: pre-wrap;\n",
       "}\n",
       "</style>\n",
       "<small>shape: (23_570, 3)</small><table border=\"1\" class=\"dataframe\"><thead><tr><th>CustID</th><th>Repeat Spend (Scaled)</th><th>Trial Day</th></tr><tr><td>i32</td><td>i64</td><td>u16</td></tr></thead><tbody><tr><td>1</td><td>0</td><td>1</td></tr><tr><td>2</td><td>0</td><td>12</td></tr><tr><td>3</td><td>4030</td><td>2</td></tr><tr><td>4</td><td>4469</td><td>1</td></tr><tr><td>5</td><td>23188</td><td>1</td></tr><tr><td>&hellip;</td><td>&hellip;</td><td>&hellip;</td></tr><tr><td>23566</td><td>0</td><td>84</td></tr><tr><td>23567</td><td>0</td><td>84</td></tr><tr><td>23568</td><td>9873</td><td>84</td></tr><tr><td>23569</td><td>0</td><td>84</td></tr><tr><td>23570</td><td>4296</td><td>84</td></tr></tbody></table></div>"
      ],
      "text/plain": [
       "shape: (23_570, 3)\n",
       "┌────────┬───────────────────────┬───────────┐\n",
       "│ CustID ┆ Repeat Spend (Scaled) ┆ Trial Day │\n",
       "│ ---    ┆ ---                   ┆ ---       │\n",
       "│ i32    ┆ i64                   ┆ u16       │\n",
       "╞════════╪═══════════════════════╪═══════════╡\n",
       "│ 1      ┆ 0                     ┆ 1         │\n",
       "│ 2      ┆ 0                     ┆ 12        │\n",
       "│ 3      ┆ 4030                  ┆ 2         │\n",
       "│ 4      ┆ 4469                  ┆ 1         │\n",
       "│ 5      ┆ 23188                 ┆ 1         │\n",
       "│ …      ┆ …                     ┆ …         │\n",
       "│ 23566  ┆ 0                     ┆ 84        │\n",
       "│ 23567  ┆ 0                     ┆ 84        │\n",
       "│ 23568  ┆ 9873                  ┆ 84        │\n",
       "│ 23569  ┆ 0                     ┆ 84        │\n",
       "│ 23570  ┆ 4296                  ┆ 84        │\n",
       "└────────┴───────────────────────┴───────────┘"
      ]
     },
     "execution_count": 4,
     "metadata": {},
     "output_type": "execute_result"
    }
   ],
   "source": [
    "RptSpend = (\n",
    "    CDNOW_master\n",
    "    .filter(pl.col('PurchDay') <= 273)\n",
    "    .with_columns(pl.when(pl.col('DoR') > 0)\n",
    "                  .then(pl.col('Spend Scaled'))\n",
    "                  .otherwise(0)\n",
    "                  .alias('Repeat Spend (Scaled)'))\n",
    "    .group_by('CustID')\n",
    "    .agg(pl.col('Repeat Spend (Scaled)').sum())\n",
    "    .sort('CustID')\n",
    "    .collect()\n",
    "    .join(master_TransMAT.select('CustID', '0'), on='CustID', how='left')  \n",
    "    .rename({'0': 'Trial Day'})\n",
    ")\n",
    "\n",
    "RptSpend"
   ]
  },
  {
   "cell_type": "code",
   "execution_count": 5,
   "metadata": {},
   "outputs": [],
   "source": [
    "# Sampling technique - Python Method:\n",
    "# id_df = (\n",
    "#     RptSpend\n",
    "#     .with_columns(((pl.col('Trial Day') - 1) // 7 + 1).alias('Trial Week'))\n",
    "#     .sort(['Trial Week','Repeat Spend (Scaled)', 'CustID'], descending=[False, True, False], maintain_order=True)\n",
    "# )\n",
    "\n",
    "# sampledID = id_df[9::10].select('CustID')\n",
    "\n",
    "# Sampling done on MATLAB - (numerical precision & sorting not deterministic)\n",
    "CDNOW_sample = (\n",
    "    pl.scan_csv(source='data/CDNOW/CDNOW_sample.csv',\n",
    "                has_header=False,\n",
    "                separator=',',\n",
    "                schema={'CustID': pl.Int32,\n",
    "                        'NewID': pl.Int32,\n",
    "                        'Date': pl.String,\n",
    "                        'Quant': pl.Int16,\n",
    "                        'Spend': pl.Float64})\n",
    "    .with_columns(pl.col('Date').str.to_date(\"%Y%m%d\"))\n",
    "    .with_columns((pl.col('Date') - pl.date(1996,12,31)).dt.total_days().cast(pl.UInt16).alias('PurchDay'))\n",
    "    .with_columns((pl.col('Spend')*100).round(0).cast(pl.Int64).alias('Spend Scaled'))\n",
    "    .group_by('CustID', 'Date', maintain_order=True)\n",
    "    .agg(pl.col('*').exclude('PurchDay').sum(), pl.col('PurchDay').max())\n",
    "    .with_columns((pl.col(\"CustID\").cum_count().over(\"CustID\") - 1).cast(pl.UInt16).alias(\"DoR\"))      \n",
    ")"
   ]
  },
  {
   "cell_type": "markdown",
   "metadata": {},
   "source": [
    "Creating summaries of the 1/10th sample data given the xMAT data structure. We divide the 78 weeks in half: Period 1 is a 39-week calibration period while Period 2 is a 39-week longitudinal holdout used for model validation."
   ]
  },
  {
   "cell_type": "code",
   "execution_count": 135,
   "metadata": {},
   "outputs": [],
   "source": [
    "sample_TransMAT = (\n",
    "    CDNOW_sample\n",
    "    .collect()\n",
    "    .pivot(on='DoR', index='CustID', values='PurchDay', aggregate_function='max', maintain_order=True)\n",
    "    .fill_null(0)\n",
    ")\n",
    "\n",
    "sample_QuantMAT = (\n",
    "    CDNOW_sample\n",
    "    .collect()\n",
    "    .pivot(on='DoR', index='CustID', values='Quant', aggregate_function='sum', maintain_order=True)\n",
    "    .fill_null(0)\n",
    ")\n",
    "\n",
    "sample_SpendMAT = (\n",
    "    CDNOW_sample\n",
    "    .collect()\n",
    "    .pivot(on='DoR', index='CustID', values='Spend Scaled', aggregate_function='sum', maintain_order=True)\n",
    "    .fill_null(0)\n",
    ")\n",
    "\n",
    "# The number of repeat transactions made by each customer in each period\n",
    "calwk = 273 # 39 week calibration period\n",
    "NumHH = len(sample_TransMAT)\n",
    "\n",
    "px = (\n",
    "    CDNOW_sample\n",
    "    .collect()\n",
    "    .group_by('CustID', maintain_order=True)\n",
    "    .agg(\n",
    "        pl.col('PurchDay')\n",
    "        .filter((pl.col('PurchDay') <= calwk) & (pl.col('DoR') > 0))\n",
    "        .count()\n",
    "        .alias('P1X'),\n",
    "\n",
    "        pl.col('PurchDay')\n",
    "        .filter((pl.col('PurchDay') > calwk) & (pl.col('DoR') > 0))\n",
    "        .count()\n",
    "        .alias('P2X')        \n",
    "    )\n",
    ")\n",
    "# The number of CDs purchased and total spend across these repeat transactions\n",
    "\n"
   ]
  },
  {
   "cell_type": "code",
   "execution_count": 166,
   "metadata": {},
   "outputs": [
    {
     "data": {
      "text/html": [
       "<div><style>\n",
       ".dataframe > thead > tr,\n",
       ".dataframe > tbody > tr {\n",
       "  text-align: right;\n",
       "  white-space: pre-wrap;\n",
       "}\n",
       "</style>\n",
       "<small>shape: (2_357, 3)</small><table border=\"1\" class=\"dataframe\"><thead><tr><th>CustID</th><th>P1X Spend</th><th>P2X Spend</th></tr><tr><td>i32</td><td>i64</td><td>i64</td></tr></thead><tbody><tr><td>4</td><td>7117</td><td>0</td></tr><tr><td>21</td><td>1177</td><td>0</td></tr><tr><td>50</td><td>0</td><td>0</td></tr><tr><td>71</td><td>0</td><td>0</td></tr><tr><td>86</td><td>0</td><td>0</td></tr><tr><td>&hellip;</td><td>&hellip;</td><td>&hellip;</td></tr><tr><td>23537</td><td>3955</td><td>0</td></tr><tr><td>23551</td><td>22464</td><td>0</td></tr><tr><td>23554</td><td>2460</td><td>0</td></tr><tr><td>23556</td><td>19123</td><td>0</td></tr><tr><td>23569</td><td>0</td><td>0</td></tr></tbody></table></div>"
      ],
      "text/plain": [
       "shape: (2_357, 3)\n",
       "┌────────┬───────────┬───────────┐\n",
       "│ CustID ┆ P1X Spend ┆ P2X Spend │\n",
       "│ ---    ┆ ---       ┆ ---       │\n",
       "│ i32    ┆ i64       ┆ i64       │\n",
       "╞════════╪═══════════╪═══════════╡\n",
       "│ 4      ┆ 7117      ┆ 0         │\n",
       "│ 21     ┆ 1177      ┆ 0         │\n",
       "│ 50     ┆ 0         ┆ 0         │\n",
       "│ 71     ┆ 0         ┆ 0         │\n",
       "│ 86     ┆ 0         ┆ 0         │\n",
       "│ …      ┆ …         ┆ …         │\n",
       "│ 23537  ┆ 3955      ┆ 0         │\n",
       "│ 23551  ┆ 22464     ┆ 0         │\n",
       "│ 23554  ┆ 2460      ┆ 0         │\n",
       "│ 23556  ┆ 19123     ┆ 0         │\n",
       "│ 23569  ┆ 0         ┆ 0         │\n",
       "└────────┴───────────┴───────────┘"
      ]
     },
     "execution_count": 166,
     "metadata": {},
     "output_type": "execute_result"
    }
   ],
   "source": [
    "pSpend = (\n",
    "    CDNOW_sample.collect()\n",
    "    .join(px, on='CustID', how='left')\n",
    "    .group_by('CustID', maintain_order=True)\n",
    "    .agg(\n",
    "        pl.col('Spend Scaled')\n",
    "        .filter((pl.col('DoR') > 0) & (pl.col('DoR') < (pl.col('P1X') + 3)))\n",
    "        .sum()\n",
    "        .alias('P1X Spend'),\n",
    "        \n",
    "        pl.col('Spend Scaled')\n",
    "        .filter((pl.col('DoR') > 0) & (pl.col('DoR') >= (pl.col('P1X') + 3)))\n",
    "        .sum()\n",
    "        .alias('P2X Spend')        \n",
    "    )\n",
    ")\n",
    "pSpend"
   ]
  },
  {
   "cell_type": "code",
   "execution_count": 163,
   "metadata": {},
   "outputs": [
    {
     "data": {
      "text/html": [
       "<div><style>\n",
       ".dataframe > thead > tr,\n",
       ".dataframe > tbody > tr {\n",
       "  text-align: right;\n",
       "  white-space: pre-wrap;\n",
       "}\n",
       "</style>\n",
       "<small>shape: (2_357, 3)</small><table border=\"1\" class=\"dataframe\"><thead><tr><th>CustID</th><th>P1X</th><th>P2X</th></tr><tr><td>i32</td><td>u32</td><td>u32</td></tr></thead><tbody><tr><td>4</td><td>2</td><td>1</td></tr><tr><td>21</td><td>1</td><td>0</td></tr><tr><td>50</td><td>0</td><td>0</td></tr><tr><td>71</td><td>0</td><td>0</td></tr><tr><td>86</td><td>0</td><td>0</td></tr><tr><td>&hellip;</td><td>&hellip;</td><td>&hellip;</td></tr><tr><td>23537</td><td>0</td><td>2</td></tr><tr><td>23551</td><td>5</td><td>0</td></tr><tr><td>23554</td><td>0</td><td>1</td></tr><tr><td>23556</td><td>4</td><td>2</td></tr><tr><td>23569</td><td>0</td><td>0</td></tr></tbody></table></div>"
      ],
      "text/plain": [
       "shape: (2_357, 3)\n",
       "┌────────┬─────┬─────┐\n",
       "│ CustID ┆ P1X ┆ P2X │\n",
       "│ ---    ┆ --- ┆ --- │\n",
       "│ i32    ┆ u32 ┆ u32 │\n",
       "╞════════╪═════╪═════╡\n",
       "│ 4      ┆ 2   ┆ 1   │\n",
       "│ 21     ┆ 1   ┆ 0   │\n",
       "│ 50     ┆ 0   ┆ 0   │\n",
       "│ 71     ┆ 0   ┆ 0   │\n",
       "│ 86     ┆ 0   ┆ 0   │\n",
       "│ …      ┆ …   ┆ …   │\n",
       "│ 23537  ┆ 0   ┆ 2   │\n",
       "│ 23551  ┆ 5   ┆ 0   │\n",
       "│ 23554  ┆ 0   ┆ 1   │\n",
       "│ 23556  ┆ 4   ┆ 2   │\n",
       "│ 23569  ┆ 0   ┆ 0   │\n",
       "└────────┴─────┴─────┘"
      ]
     },
     "execution_count": 163,
     "metadata": {},
     "output_type": "execute_result"
    }
   ],
   "source": [
    "px"
   ]
  },
  {
   "cell_type": "code",
   "execution_count": 165,
   "metadata": {},
   "outputs": [
    {
     "data": {
      "text/plain": [
       "array([[1],\n",
       "       [0],\n",
       "       [0],\n",
       "       ...,\n",
       "       [1],\n",
       "       [2],\n",
       "       [0]], shape=(2357, 1))"
      ]
     },
     "execution_count": 165,
     "metadata": {},
     "output_type": "execute_result"
    }
   ],
   "source": [
    "p2x"
   ]
  },
  {
   "cell_type": "code",
   "execution_count": 161,
   "metadata": {},
   "outputs": [],
   "source": [
    "# The number of repeat transactions made by each customer in each period\n",
    "TransMAT = sample_TransMAT.to_numpy()\n",
    "QuantMAT = sample_QuantMAT.to_numpy()\n",
    "SpendMAT = sample_SpendMAT.to_numpy()\n",
    "\n",
    "p1x = np.sum(((TransMAT[:,2:] > 0) & (TransMAT[:,2:] <= calwk)), axis=1, keepdims=True)\n",
    "p2x = np.sum(((TransMAT[:,2:] > 0) & (TransMAT[:,2:] > calwk)), axis=1, keepdims=True)\n",
    "\n",
    "# The number of CDs purchased and total spend across these repeat transactions\n",
    "p1Quant = np.zeros((NumHH, 1), dtype=np.int16)\n",
    "p2Quant = np.zeros((NumHH, 1), dtype=np.int16)\n",
    "p1Spend = np.zeros((NumHH, 1), dtype=np.int64)\n",
    "p2Spend = np.zeros((NumHH, 1), dtype=np.int64)\n",
    "\n",
    "for i in range(NumHH):\n",
    "    if p1x[i,0] == 0:\n",
    "        p1Quant[i] = 0\n",
    "        p1Spend[i] = 0\n",
    "    else:\n",
    "        p1Quant[i] = np.sum(QuantMAT[i, 2:3+p1x[i,0]])\n",
    "        p1Spend[i] = np.sum(SpendMAT[i, 2:3+p1x[i,0]])\n",
    "    p2Quant[i] = np.sum(QuantMAT[i,3+p1x[i,0]:])\n",
    "    p2Spend[i] = np.sum(SpendMAT[i,3+p1x[i,0]:])\n",
    "    \n",
    "# The average spend per repeat transaction\n",
    "mx = np.zeros((NumHH, 1))\n",
    "tmpindx = p1x > 0\n",
    "mx[tmpindx] = p1Spend[tmpindx] / p1x[tmpindx]"
   ]
  },
  {
   "cell_type": "code",
   "execution_count": 162,
   "metadata": {},
   "outputs": [
    {
     "data": {
      "text/plain": [
       "array([[ 7117],\n",
       "       [ 1177],\n",
       "       [    0],\n",
       "       ...,\n",
       "       [    0],\n",
       "       [16225],\n",
       "       [    0]], shape=(2357, 1))"
      ]
     },
     "execution_count": 162,
     "metadata": {},
     "output_type": "execute_result"
    }
   ],
   "source": [
    "p1Spend"
   ]
  },
  {
   "cell_type": "markdown",
   "metadata": {},
   "source": [
    "When fitting models such as the Pareto/NBD and BG/NBD to these data, we also want to know the “recency” information for each customer, as well as their effective calibration period:"
   ]
  }
 ],
 "metadata": {
  "kernelspec": {
   "display_name": ".venv",
   "language": "python",
   "name": "python3"
  },
  "language_info": {
   "codemirror_mode": {
    "name": "ipython",
    "version": 3
   },
   "file_extension": ".py",
   "mimetype": "text/x-python",
   "name": "python",
   "nbconvert_exporter": "python",
   "pygments_lexer": "ipython3",
   "version": "3.13.1"
  }
 },
 "nbformat": 4,
 "nbformat_minor": 2
}
