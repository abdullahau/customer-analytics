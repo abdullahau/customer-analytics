{
 "cells": [
  {
   "cell_type": "markdown",
   "metadata": {},
   "source": [
    "Beta-geometric/Negative Binomial Distribution Model (BG/NBD) - Forecasting Individual-Level Repeat-Buying"
   ]
  },
  {
   "cell_type": "code",
   "execution_count": 1,
   "metadata": {},
   "outputs": [],
   "source": [
    "import polars as pl\n",
    "import numpy as np\n",
    "import altair as alt\n",
    "from scipy.optimize import minimize"
   ]
  },
  {
   "cell_type": "code",
   "execution_count": 27,
   "metadata": {},
   "outputs": [
    {
     "data": {
      "text/html": [
       "<div><style>\n",
       ".dataframe > thead > tr,\n",
       ".dataframe > tbody > tr {\n",
       "  text-align: right;\n",
       "  white-space: pre-wrap;\n",
       "}\n",
       "</style>\n",
       "<small>shape: (5, 5)</small><table border=\"1\" class=\"dataframe\"><thead><tr><th>CustID</th><th>Date</th><th>Quant</th><th>Spend</th><th>PurchDay</th></tr><tr><td>str</td><td>date</td><td>i16</td><td>f64</td><td>i64</td></tr></thead><tbody><tr><td>&quot;00001&quot;</td><td>1997-01-01</td><td>1</td><td>11.77</td><td>1</td></tr><tr><td>&quot;00002&quot;</td><td>1997-01-12</td><td>1</td><td>12.0</td><td>12</td></tr><tr><td>&quot;00002&quot;</td><td>1997-01-12</td><td>5</td><td>77.0</td><td>12</td></tr><tr><td>&quot;00003&quot;</td><td>1997-01-02</td><td>2</td><td>20.76</td><td>2</td></tr><tr><td>&quot;00003&quot;</td><td>1997-03-30</td><td>2</td><td>20.76</td><td>89</td></tr></tbody></table></div>"
      ],
      "text/plain": [
       "shape: (5, 5)\n",
       "┌────────┬────────────┬───────┬───────┬──────────┐\n",
       "│ CustID ┆ Date       ┆ Quant ┆ Spend ┆ PurchDay │\n",
       "│ ---    ┆ ---        ┆ ---   ┆ ---   ┆ ---      │\n",
       "│ str    ┆ date       ┆ i16   ┆ f64   ┆ i64      │\n",
       "╞════════╪════════════╪═══════╪═══════╪══════════╡\n",
       "│ 00001  ┆ 1997-01-01 ┆ 1     ┆ 11.77 ┆ 1        │\n",
       "│ 00002  ┆ 1997-01-12 ┆ 1     ┆ 12.0  ┆ 12       │\n",
       "│ 00002  ┆ 1997-01-12 ┆ 5     ┆ 77.0  ┆ 12       │\n",
       "│ 00003  ┆ 1997-01-02 ┆ 2     ┆ 20.76 ┆ 2        │\n",
       "│ 00003  ┆ 1997-03-30 ┆ 2     ┆ 20.76 ┆ 89       │\n",
       "└────────┴────────────┴───────┴───────┴──────────┘"
      ]
     },
     "metadata": {},
     "output_type": "display_data"
    },
    {
     "data": {
      "text/html": [
       "<div><style>\n",
       ".dataframe > thead > tr,\n",
       ".dataframe > tbody > tr {\n",
       "  text-align: right;\n",
       "  white-space: pre-wrap;\n",
       "}\n",
       "</style>\n",
       "<small>shape: (9, 6)</small><table border=\"1\" class=\"dataframe\"><thead><tr><th>statistic</th><th>CustID</th><th>Date</th><th>Quant</th><th>Spend</th><th>PurchDay</th></tr><tr><td>str</td><td>str</td><td>str</td><td>f64</td><td>f64</td><td>f64</td></tr></thead><tbody><tr><td>&quot;count&quot;</td><td>&quot;69659&quot;</td><td>&quot;69659&quot;</td><td>69659.0</td><td>69659.0</td><td>69659.0</td></tr><tr><td>&quot;null_count&quot;</td><td>&quot;0&quot;</td><td>&quot;0&quot;</td><td>0.0</td><td>0.0</td><td>0.0</td></tr><tr><td>&quot;mean&quot;</td><td>null</td><td>&quot;1997-07-02 22:36:51.401000&quot;</td><td>2.41004</td><td>35.893648</td><td>183.942262</td></tr><tr><td>&quot;std&quot;</td><td>null</td><td>null</td><td>2.333924</td><td>36.281942</td><td>159.511302</td></tr><tr><td>&quot;min&quot;</td><td>&quot;00001&quot;</td><td>&quot;1997-01-01&quot;</td><td>1.0</td><td>0.0</td><td>1.0</td></tr><tr><td>&quot;25%&quot;</td><td>null</td><td>&quot;1997-02-22&quot;</td><td>1.0</td><td>14.49</td><td>53.0</td></tr><tr><td>&quot;50%&quot;</td><td>null</td><td>&quot;1997-04-24&quot;</td><td>2.0</td><td>25.98</td><td>114.0</td></tr><tr><td>&quot;75%&quot;</td><td>null</td><td>&quot;1997-11-07&quot;</td><td>3.0</td><td>43.7</td><td>311.0</td></tr><tr><td>&quot;max&quot;</td><td>&quot;23570&quot;</td><td>&quot;1998-06-30&quot;</td><td>99.0</td><td>1286.01</td><td>546.0</td></tr></tbody></table></div>"
      ],
      "text/plain": [
       "shape: (9, 6)\n",
       "┌────────────┬────────┬────────────────────────────┬──────────┬───────────┬────────────┐\n",
       "│ statistic  ┆ CustID ┆ Date                       ┆ Quant    ┆ Spend     ┆ PurchDay   │\n",
       "│ ---        ┆ ---    ┆ ---                        ┆ ---      ┆ ---       ┆ ---        │\n",
       "│ str        ┆ str    ┆ str                        ┆ f64      ┆ f64       ┆ f64        │\n",
       "╞════════════╪════════╪════════════════════════════╪══════════╪═══════════╪════════════╡\n",
       "│ count      ┆ 69659  ┆ 69659                      ┆ 69659.0  ┆ 69659.0   ┆ 69659.0    │\n",
       "│ null_count ┆ 0      ┆ 0                          ┆ 0.0      ┆ 0.0       ┆ 0.0        │\n",
       "│ mean       ┆ null   ┆ 1997-07-02 22:36:51.401000 ┆ 2.41004  ┆ 35.893648 ┆ 183.942262 │\n",
       "│ std        ┆ null   ┆ null                       ┆ 2.333924 ┆ 36.281942 ┆ 159.511302 │\n",
       "│ min        ┆ 00001  ┆ 1997-01-01                 ┆ 1.0      ┆ 0.0       ┆ 1.0        │\n",
       "│ 25%        ┆ null   ┆ 1997-02-22                 ┆ 1.0      ┆ 14.49     ┆ 53.0       │\n",
       "│ 50%        ┆ null   ┆ 1997-04-24                 ┆ 2.0      ┆ 25.98     ┆ 114.0      │\n",
       "│ 75%        ┆ null   ┆ 1997-11-07                 ┆ 3.0      ┆ 43.7      ┆ 311.0      │\n",
       "│ max        ┆ 23570  ┆ 1998-06-30                 ┆ 99.0     ┆ 1286.01   ┆ 546.0      │\n",
       "└────────────┴────────┴────────────────────────────┴──────────┴───────────┴────────────┘"
      ]
     },
     "metadata": {},
     "output_type": "display_data"
    }
   ],
   "source": [
    "CDNOW_master = (\n",
    "    pl.scan_csv(source = 'data/CDNOW/CDNOW_master.csv', \n",
    "                has_header=False, \n",
    "                separator=',', \n",
    "                schema={'CustID': pl.String,\n",
    "                        'Date': pl.String,\n",
    "                        'Quant': pl.Int16,\n",
    "                        'Spend': pl.Float64})\n",
    "    .with_columns(pl.col('Date').str.to_date('%Y%m%d'))\n",
    "    .with_columns((pl.col('Date') - pl.date(1996,12,31)).dt.total_days().alias('PurchDay'))\n",
    ")\n",
    "\n",
    "display(CDNOW_master.head().collect())\n",
    "display(CDNOW_master.describe())"
   ]
  },
  {
   "cell_type": "code",
   "execution_count": 28,
   "metadata": {},
   "outputs": [
    {
     "name": "stdout",
     "output_type": "stream",
     "text": [
      "NumCust = 23570\n",
      "tmpMaxTrans = 217\n"
     ]
    }
   ],
   "source": [
    "# number of customers in the database and the maximum number of transactions made by any one individual:\n",
    "\n",
    "NumCust = CDNOW_master.select(pl.col('CustID').n_unique()).collect().item(0,0)\n",
    "tmpMaxTrans = CDNOW_master.group_by('CustID').len().select('len').max().collect().item(0,0)\n",
    "\n",
    "print(f'{NumCust = }')\n",
    "print(f'{tmpMaxTrans = }')"
   ]
  },
  {
   "cell_type": "code",
   "execution_count": 36,
   "metadata": {},
   "outputs": [],
   "source": [
    "# Initialize unique customer-level aggregates\n",
    "aggregates = (\n",
    "    CDNOW_master\n",
    "    .group_by(\"CustID\", \"PurchDay\").agg(\n",
    "        pl.col(\"Quant\").alias(\"Quantities\"),\n",
    "        pl.col(\"Spend\").alias(\"Spendings\")\n",
    "    )\n",
    ").collect()\n",
    "\n",
    "unique_customers = aggregates.select(\"CustID\").unique()"
   ]
  },
  {
   "cell_type": "code",
   "execution_count": 32,
   "metadata": {},
   "outputs": [
    {
     "ename": "ValueError",
     "evalue": "setting an array element with a sequence.",
     "output_type": "error",
     "traceback": [
      "\u001b[0;31m---------------------------------------------------------------------------\u001b[0m",
      "\u001b[0;31mTypeError\u001b[0m                                 Traceback (most recent call last)",
      "\u001b[0;31mTypeError\u001b[0m: float() argument must be a string or a real number, not 'list'",
      "\nThe above exception was the direct cause of the following exception:\n",
      "\u001b[0;31mValueError\u001b[0m                                Traceback (most recent call last)",
      "Cell \u001b[0;32mIn[32], line 17\u001b[0m\n\u001b[1;32m     15\u001b[0m     next_col \u001b[38;5;241m=\u001b[39m np\u001b[38;5;241m.\u001b[39margmax(tmp_trans_mat[idx, \u001b[38;5;241m1\u001b[39m:] \u001b[38;5;241m==\u001b[39m \u001b[38;5;241m0\u001b[39m) \u001b[38;5;241m+\u001b[39m \u001b[38;5;241m1\u001b[39m\n\u001b[1;32m     16\u001b[0m     tmp_trans_mat[idx, next_col] \u001b[38;5;241m=\u001b[39m day\n\u001b[0;32m---> 17\u001b[0m     \u001b[43mtmp_quant_mat\u001b[49m\u001b[43m[\u001b[49m\u001b[43midx\u001b[49m\u001b[43m,\u001b[49m\u001b[43m \u001b[49m\u001b[43mnext_col\u001b[49m\u001b[43m]\u001b[49m \u001b[38;5;241m=\u001b[39m quant\n\u001b[1;32m     18\u001b[0m     tmp_spend_mat[idx, next_col] \u001b[38;5;241m=\u001b[39m spend\n\u001b[1;32m     20\u001b[0m \u001b[38;5;66;03m# Add customer IDs to the first column\u001b[39;00m\n",
      "\u001b[0;31mValueError\u001b[0m: setting an array element with a sequence."
     ]
    }
   ],
   "source": [
    "# Initialize matrices\n",
    "tmp_trans_mat = np.zeros((NumCust, tmpMaxTrans + 1))\n",
    "tmp_quant_mat = np.zeros((NumCust, tmpMaxTrans + 1))\n",
    "tmp_spend_mat = np.zeros((NumCust, tmpMaxTrans + 1))\n",
    "\n",
    "# Create a mapping for customer indices\n",
    "customer_map = {cust_id: idx for idx, cust_id in enumerate(unique_customers.to_series().to_list())}\n",
    "\n",
    "# Fill matrices\n",
    "for row in aggregates.iter_rows():\n",
    "    cust_id, day, quant, spend = row\n",
    "    idx = customer_map[cust_id]\n",
    "    \n",
    "    # Find the next empty column for this customer\n",
    "    next_col = np.argmax(tmp_trans_mat[idx, 1:] == 0) + 1\n",
    "    tmp_trans_mat[idx, next_col] = day\n",
    "    tmp_quant_mat[idx, next_col] = quant\n",
    "    tmp_spend_mat[idx, next_col] = spend\n",
    "\n",
    "# Add customer IDs to the first column\n",
    "for cust_id, idx in customer_map.items():\n",
    "    tmp_trans_mat[idx, 0] = cust_id\n",
    "    tmp_quant_mat[idx, 0] = cust_id\n",
    "    tmp_spend_mat[idx, 0] = cust_id"
   ]
  }
 ],
 "metadata": {
  "kernelspec": {
   "display_name": ".venv",
   "language": "python",
   "name": "python3"
  },
  "language_info": {
   "codemirror_mode": {
    "name": "ipython",
    "version": 3
   },
   "file_extension": ".py",
   "mimetype": "text/x-python",
   "name": "python",
   "nbconvert_exporter": "python",
   "pygments_lexer": "ipython3",
   "version": "3.13.0"
  }
 },
 "nbformat": 4,
 "nbformat_minor": 2
}
