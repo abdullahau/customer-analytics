{
 "cells": [
  {
   "cell_type": "markdown",
   "metadata": {},
   "source": [
    "Beta-geometric/Negative Binomial Distribution Model (BG/NBD) - Forecasting Individual-Level Repeat-Buying"
   ]
  },
  {
   "cell_type": "code",
   "execution_count": 12,
   "metadata": {},
   "outputs": [],
   "source": [
    "import polars as pl\n",
    "import numpy as np\n",
    "import altair as alt\n",
    "from scipy.optimize import minimize"
   ]
  },
  {
   "cell_type": "code",
   "execution_count": 138,
   "metadata": {},
   "outputs": [
    {
     "data": {
      "text/html": [
       "<div><style>\n",
       ".dataframe > thead > tr,\n",
       ".dataframe > tbody > tr {\n",
       "  text-align: right;\n",
       "  white-space: pre-wrap;\n",
       "}\n",
       "</style>\n",
       "<small>shape: (5, 7)</small><table border=\"1\" class=\"dataframe\"><thead><tr><th>CustID</th><th>Date</th><th>Quant</th><th>Spend</th><th>Spend Scaled</th><th>PurchDay</th><th>DoR</th></tr><tr><td>i32</td><td>date</td><td>i64</td><td>f64</td><td>i64</td><td>u16</td><td>u16</td></tr></thead><tbody><tr><td>1</td><td>1997-01-01</td><td>1</td><td>11.77</td><td>1177</td><td>1</td><td>0</td></tr><tr><td>2</td><td>1997-01-12</td><td>6</td><td>89.0</td><td>8900</td><td>12</td><td>0</td></tr><tr><td>3</td><td>1997-01-02</td><td>2</td><td>20.76</td><td>2076</td><td>2</td><td>0</td></tr><tr><td>3</td><td>1997-03-30</td><td>2</td><td>20.76</td><td>2076</td><td>89</td><td>1</td></tr><tr><td>3</td><td>1997-04-02</td><td>2</td><td>19.54</td><td>1954</td><td>92</td><td>2</td></tr></tbody></table></div>"
      ],
      "text/plain": [
       "shape: (5, 7)\n",
       "┌────────┬────────────┬───────┬───────┬──────────────┬──────────┬─────┐\n",
       "│ CustID ┆ Date       ┆ Quant ┆ Spend ┆ Spend Scaled ┆ PurchDay ┆ DoR │\n",
       "│ ---    ┆ ---        ┆ ---   ┆ ---   ┆ ---          ┆ ---      ┆ --- │\n",
       "│ i32    ┆ date       ┆ i64   ┆ f64   ┆ i64          ┆ u16      ┆ u16 │\n",
       "╞════════╪════════════╪═══════╪═══════╪══════════════╪══════════╪═════╡\n",
       "│ 1      ┆ 1997-01-01 ┆ 1     ┆ 11.77 ┆ 1177         ┆ 1        ┆ 0   │\n",
       "│ 2      ┆ 1997-01-12 ┆ 6     ┆ 89.0  ┆ 8900         ┆ 12       ┆ 0   │\n",
       "│ 3      ┆ 1997-01-02 ┆ 2     ┆ 20.76 ┆ 2076         ┆ 2        ┆ 0   │\n",
       "│ 3      ┆ 1997-03-30 ┆ 2     ┆ 20.76 ┆ 2076         ┆ 89       ┆ 1   │\n",
       "│ 3      ┆ 1997-04-02 ┆ 2     ┆ 19.54 ┆ 1954         ┆ 92       ┆ 2   │\n",
       "└────────┴────────────┴───────┴───────┴──────────────┴──────────┴─────┘"
      ]
     },
     "metadata": {},
     "output_type": "display_data"
    },
    {
     "data": {
      "text/html": [
       "<div><style>\n",
       ".dataframe > thead > tr,\n",
       ".dataframe > tbody > tr {\n",
       "  text-align: right;\n",
       "  white-space: pre-wrap;\n",
       "}\n",
       "</style>\n",
       "<small>shape: (9, 8)</small><table border=\"1\" class=\"dataframe\"><thead><tr><th>statistic</th><th>CustID</th><th>Date</th><th>Quant</th><th>Spend</th><th>Spend Scaled</th><th>PurchDay</th><th>DoR</th></tr><tr><td>str</td><td>f64</td><td>str</td><td>f64</td><td>f64</td><td>f64</td><td>f64</td><td>f64</td></tr></thead><tbody><tr><td>&quot;count&quot;</td><td>67591.0</td><td>&quot;67591&quot;</td><td>67591.0</td><td>67591.0</td><td>67591.0</td><td>67591.0</td><td>67591.0</td></tr><tr><td>&quot;null_count&quot;</td><td>0.0</td><td>&quot;0&quot;</td><td>0.0</td><td>0.0</td><td>0.0</td><td>0.0</td><td>0.0</td></tr><tr><td>&quot;mean&quot;</td><td>11479.968931</td><td>&quot;1997-07-01 11:44:58.175000&quot;</td><td>2.483777</td><td>36.991843</td><td>3699.184255</td><td>182.489562</td><td>3.976387</td></tr><tr><td>&quot;std&quot;</td><td>6813.132779</td><td>null</td><td>2.446038</td><td>38.143508</td><td>3814.350807</td><td>159.229817</td><td>9.45283</td></tr><tr><td>&quot;min&quot;</td><td>1.0</td><td>&quot;1997-01-01&quot;</td><td>1.0</td><td>0.0</td><td>0.0</td><td>1.0</td><td>0.0</td></tr><tr><td>&quot;25%&quot;</td><td>5516.0</td><td>&quot;1997-02-22&quot;</td><td>1.0</td><td>14.79</td><td>1479.0</td><td>53.0</td><td>0.0</td></tr><tr><td>&quot;50%&quot;</td><td>11425.0</td><td>&quot;1997-04-21&quot;</td><td>2.0</td><td>26.73</td><td>2673.0</td><td>111.0</td><td>1.0</td></tr><tr><td>&quot;75%&quot;</td><td>17269.0</td><td>&quot;1997-11-06&quot;</td><td>3.0</td><td>44.7</td><td>4470.0</td><td>310.0</td><td>4.0</td></tr><tr><td>&quot;max&quot;</td><td>23570.0</td><td>&quot;1998-06-30&quot;</td><td>99.0</td><td>1554.58</td><td>155458.0</td><td>546.0</td><td>170.0</td></tr></tbody></table></div>"
      ],
      "text/plain": [
       "shape: (9, 8)\n",
       "┌────────────┬────────────┬────────────┬──────────┬───────────┬────────────┬────────────┬──────────┐\n",
       "│ statistic  ┆ CustID     ┆ Date       ┆ Quant    ┆ Spend     ┆ Spend      ┆ PurchDay   ┆ DoR      │\n",
       "│ ---        ┆ ---        ┆ ---        ┆ ---      ┆ ---       ┆ Scaled     ┆ ---        ┆ ---      │\n",
       "│ str        ┆ f64        ┆ str        ┆ f64      ┆ f64       ┆ ---        ┆ f64        ┆ f64      │\n",
       "│            ┆            ┆            ┆          ┆           ┆ f64        ┆            ┆          │\n",
       "╞════════════╪════════════╪════════════╪══════════╪═══════════╪════════════╪════════════╪══════════╡\n",
       "│ count      ┆ 67591.0    ┆ 67591      ┆ 67591.0  ┆ 67591.0   ┆ 67591.0    ┆ 67591.0    ┆ 67591.0  │\n",
       "│ null_count ┆ 0.0        ┆ 0          ┆ 0.0      ┆ 0.0       ┆ 0.0        ┆ 0.0        ┆ 0.0      │\n",
       "│ mean       ┆ 11479.9689 ┆ 1997-07-01 ┆ 2.483777 ┆ 36.991843 ┆ 3699.18425 ┆ 182.489562 ┆ 3.976387 │\n",
       "│            ┆ 31         ┆ 11:44:58.1 ┆          ┆           ┆ 5          ┆            ┆          │\n",
       "│            ┆            ┆ 75000      ┆          ┆           ┆            ┆            ┆          │\n",
       "│ std        ┆ 6813.13277 ┆ null       ┆ 2.446038 ┆ 38.143508 ┆ 3814.35080 ┆ 159.229817 ┆ 9.45283  │\n",
       "│            ┆ 9          ┆            ┆          ┆           ┆ 7          ┆            ┆          │\n",
       "│ min        ┆ 1.0        ┆ 1997-01-01 ┆ 1.0      ┆ 0.0       ┆ 0.0        ┆ 1.0        ┆ 0.0      │\n",
       "│ 25%        ┆ 5516.0     ┆ 1997-02-22 ┆ 1.0      ┆ 14.79     ┆ 1479.0     ┆ 53.0       ┆ 0.0      │\n",
       "│ 50%        ┆ 11425.0    ┆ 1997-04-21 ┆ 2.0      ┆ 26.73     ┆ 2673.0     ┆ 111.0      ┆ 1.0      │\n",
       "│ 75%        ┆ 17269.0    ┆ 1997-11-06 ┆ 3.0      ┆ 44.7      ┆ 4470.0     ┆ 310.0      ┆ 4.0      │\n",
       "│ max        ┆ 23570.0    ┆ 1998-06-30 ┆ 99.0     ┆ 1554.58   ┆ 155458.0   ┆ 546.0      ┆ 170.0    │\n",
       "└────────────┴────────────┴────────────┴──────────┴───────────┴────────────┴────────────┴──────────┘"
      ]
     },
     "metadata": {},
     "output_type": "display_data"
    }
   ],
   "source": [
    "CDNOW_master = (\n",
    "    pl.scan_csv(source = 'data/CDNOW/CDNOW_master.csv', \n",
    "                has_header=False, \n",
    "                separator=',', \n",
    "                schema={'CustID': pl.Int32,\n",
    "                        'Date': pl.String,\n",
    "                        'Quant': pl.Int16,\n",
    "                        'Spend': pl.Float64})\n",
    "    .with_columns(pl.col('Date').str.to_date(\"%Y%m%d\"))\n",
    "    .with_columns((pl.col('Date') - pl.date(1996,12,31)).dt.total_days().cast(pl.UInt16).alias('PurchDay'))\n",
    "    .with_columns((pl.col('Spend')*100).round(0).cast(pl.Int64).alias('Spend Scaled'))\n",
    "    .group_by('CustID', 'Date', maintain_order=True)\n",
    "    .agg(pl.col('*').exclude('PurchDay').sum(), pl.col('PurchDay').max()) # Multiple transactions by a customer on a single day are aggregated into one\n",
    "    .with_columns((pl.col(\"CustID\").cum_count().over(\"CustID\") - 1).cast(pl.UInt16).alias(\"DoR\"))    \n",
    ")\n",
    "\n",
    "display(CDNOW_master.head().collect())\n",
    "display(CDNOW_master.describe())"
   ]
  },
  {
   "cell_type": "code",
   "execution_count": 139,
   "metadata": {},
   "outputs": [],
   "source": [
    "master_TransMAT = (\n",
    "    CDNOW_master\n",
    "    .collect()\n",
    "    .pivot(on='DoR', index='CustID', values='PurchDay', aggregate_function='max', maintain_order=True)\n",
    "    .fill_null(0)\n",
    ")\n",
    "\n",
    "master_QuantMAT = (\n",
    "    CDNOW_master\n",
    "    .collect()\n",
    "    .pivot(on='DoR', index='CustID', values='Quant', aggregate_function='sum', maintain_order=True)\n",
    ")\n",
    "\n",
    "master_SpendMAT = (\n",
    "    CDNOW_master\n",
    "    .collect()\n",
    "    .pivot(on='DoR', index='CustID', values='Spend', aggregate_function='sum', maintain_order=True)\n",
    "    .fill_null(0)\n",
    ")"
   ]
  },
  {
   "cell_type": "code",
   "execution_count": 140,
   "metadata": {},
   "outputs": [
    {
     "data": {
      "text/html": [
       "<div><style>\n",
       ".dataframe > thead > tr,\n",
       ".dataframe > tbody > tr {\n",
       "  text-align: right;\n",
       "  white-space: pre-wrap;\n",
       "}\n",
       "</style>\n",
       "<small>shape: (23_570, 3)</small><table border=\"1\" class=\"dataframe\"><thead><tr><th>CustID</th><th>Repeat Spend (Scaled)</th><th>Trial Day</th></tr><tr><td>i32</td><td>i64</td><td>u16</td></tr></thead><tbody><tr><td>1</td><td>0</td><td>1</td></tr><tr><td>2</td><td>0</td><td>12</td></tr><tr><td>3</td><td>4030</td><td>2</td></tr><tr><td>4</td><td>4469</td><td>1</td></tr><tr><td>5</td><td>23188</td><td>1</td></tr><tr><td>&hellip;</td><td>&hellip;</td><td>&hellip;</td></tr><tr><td>23566</td><td>0</td><td>84</td></tr><tr><td>23567</td><td>0</td><td>84</td></tr><tr><td>23568</td><td>9873</td><td>84</td></tr><tr><td>23569</td><td>0</td><td>84</td></tr><tr><td>23570</td><td>4296</td><td>84</td></tr></tbody></table></div>"
      ],
      "text/plain": [
       "shape: (23_570, 3)\n",
       "┌────────┬───────────────────────┬───────────┐\n",
       "│ CustID ┆ Repeat Spend (Scaled) ┆ Trial Day │\n",
       "│ ---    ┆ ---                   ┆ ---       │\n",
       "│ i32    ┆ i64                   ┆ u16       │\n",
       "╞════════╪═══════════════════════╪═══════════╡\n",
       "│ 1      ┆ 0                     ┆ 1         │\n",
       "│ 2      ┆ 0                     ┆ 12        │\n",
       "│ 3      ┆ 4030                  ┆ 2         │\n",
       "│ 4      ┆ 4469                  ┆ 1         │\n",
       "│ 5      ┆ 23188                 ┆ 1         │\n",
       "│ …      ┆ …                     ┆ …         │\n",
       "│ 23566  ┆ 0                     ┆ 84        │\n",
       "│ 23567  ┆ 0                     ┆ 84        │\n",
       "│ 23568  ┆ 9873                  ┆ 84        │\n",
       "│ 23569  ┆ 0                     ┆ 84        │\n",
       "│ 23570  ┆ 4296                  ┆ 84        │\n",
       "└────────┴───────────────────────┴───────────┘"
      ]
     },
     "execution_count": 140,
     "metadata": {},
     "output_type": "execute_result"
    }
   ],
   "source": [
    "RptSpend = (\n",
    "    CDNOW_master\n",
    "    .filter(pl.col('PurchDay') <= 273)\n",
    "    .with_columns(pl.when(pl.col('DoR') > 0)\n",
    "                  .then(pl.col('Spend Scaled'))\n",
    "                  .otherwise(0)\n",
    "                  .alias('Repeat Spend (Scaled)'))\n",
    "    .group_by('CustID')\n",
    "    .agg(pl.col('Repeat Spend (Scaled)').sum())\n",
    "    .sort('CustID')\n",
    "    .collect()\n",
    "    .join(master_TransMAT.select('CustID', '0'), on='CustID', how='left')  \n",
    "    .rename({'0': 'Trial Day'})\n",
    ")\n",
    "\n",
    "RptSpend"
   ]
  },
  {
   "cell_type": "code",
   "execution_count": 142,
   "metadata": {},
   "outputs": [],
   "source": [
    "# Sampling technique - Python Method:\n",
    "# id_df = (\n",
    "#     RptSpend\n",
    "#     .with_columns(((pl.col('Trial Day') - 1) // 7 + 1).alias('Trial Week'))\n",
    "#     .sort(['Trial Week','Repeat Spend (Scaled)', 'CustID'], descending=[False, True, False], maintain_order=True)\n",
    "# )\n",
    "\n",
    "# sampledID = id_df[9::10].select('CustID')\n",
    "\n",
    "# Sampling done on MATLAB \n",
    "CDNOW_sample = (\n",
    "    pl.scan_csv(source='data/CDNOW/CDNOW_sample.csv',\n",
    "                has_header=False,\n",
    "                separator=',',\n",
    "                schema={'CustID': pl.Int32,\n",
    "                        'NewID': pl.Int32,\n",
    "                        'Date': pl.String,\n",
    "                        'Quant': pl.Int16,\n",
    "                        'Spend': pl.Float64})\n",
    "    .with_columns(pl.col('Date').str.to_date(\"%Y%m%d\"))\n",
    "    .with_columns((pl.col('Date') - pl.date(1996,12,31)).dt.total_days().cast(pl.UInt16).alias('PurchDay'))\n",
    "    .with_columns((pl.col('Spend')*100).round(0).cast(pl.Int64).alias('Spend Scaled'))\n",
    "    .group_by('CustID', 'Date', maintain_order=True)\n",
    "    .agg(pl.col('*').exclude('PurchDay').sum(), pl.col('PurchDay').max())\n",
    "    .with_columns((pl.col(\"CustID\").cum_count().over(\"CustID\") - 1).cast(pl.UInt16).alias(\"DoR\"))      \n",
    ")"
   ]
  },
  {
   "cell_type": "markdown",
   "metadata": {},
   "source": [
    "Creating summaries of the 1/10th sample data given the xMAT data structure. We divide the 78 weeks in half: Period 1 is a 39-week calibration period while Period 2 is a 39-week longitudinal holdout used for model validation."
   ]
  },
  {
   "cell_type": "code",
   "execution_count": 280,
   "metadata": {},
   "outputs": [
    {
     "data": {
      "text/html": [
       "<div><style>\n",
       ".dataframe > thead > tr,\n",
       ".dataframe > tbody > tr {\n",
       "  text-align: right;\n",
       "  white-space: pre-wrap;\n",
       "}\n",
       "</style>\n",
       "<small>shape: (2_357,)</small><table border=\"1\" class=\"dataframe\"><thead><tr><th>sum</th></tr><tr><td>u32</td></tr></thead><tbody><tr><td>2</td></tr><tr><td>1</td></tr><tr><td>0</td></tr><tr><td>0</td></tr><tr><td>0</td></tr><tr><td>&hellip;</td></tr><tr><td>0</td></tr><tr><td>5</td></tr><tr><td>0</td></tr><tr><td>4</td></tr><tr><td>0</td></tr></tbody></table></div>"
      ],
      "text/plain": [
       "shape: (2_357,)\n",
       "Series: 'sum' [u32]\n",
       "[\n",
       "\t2\n",
       "\t1\n",
       "\t0\n",
       "\t0\n",
       "\t0\n",
       "\t…\n",
       "\t0\n",
       "\t5\n",
       "\t0\n",
       "\t4\n",
       "\t0\n",
       "]"
      ]
     },
     "execution_count": 280,
     "metadata": {},
     "output_type": "execute_result"
    }
   ],
   "source": [
    "# what is the maximum number of repeat transactions in the sampled set of customers?\n",
    "sample_TransMAT = (\n",
    "    CDNOW_sample\n",
    "    .collect()\n",
    "    .pivot(on='DoR', index='CustID', values='PurchDay', aggregate_function='max', maintain_order=True)\n",
    "    .fill_null(0)\n",
    ")\n",
    "\n",
    "sample_QuantMAT = (\n",
    "    CDNOW_sample\n",
    "    .collect()\n",
    "    .pivot(on='DoR', index='CustID', values='Quant', aggregate_function='sum', maintain_order=True)\n",
    ")\n",
    "\n",
    "sample_SpendMAT = (\n",
    "    CDNOW_sample\n",
    "    .collect()\n",
    "    .pivot(on='DoR', index='CustID', values='Spend', aggregate_function='sum', maintain_order=True)\n",
    "    .fill_null(0)\n",
    ")\n",
    "\n",
    "# The number of repeat transactions made by each customer in each period\n",
    "calwk = 273 # 39 week calibration period\n",
    "NumHH = len(sample_TransMAT)\n",
    "\n",
    "repeat_range = sample_TransMAT.columns[2:]\n",
    "\n",
    "p1x = sample_TransMAT.with_columns(\n",
    "    pl.col('*').exclude('CustID', '0').is_between(0, calwk, closed='right')\n",
    ").select(pl.col('*').exclude('CustID', '0')).sum_horizontal()\n",
    "\n",
    "# p2x = sample_TransMAT.select([\n",
    "#     (pl.col(col).filter((pl.col(col) > 0) & (pl.col(col) > calwk).count()).alias(col))\n",
    "#     for col in repeat_range\n",
    "# ])\n",
    "\n",
    "p1x"
   ]
  },
  {
   "cell_type": "code",
   "execution_count": null,
   "metadata": {},
   "outputs": [
    {
     "data": {
      "text/plain": [
       "array([2, 1, 0, ..., 0, 4, 0], shape=(2357,))"
      ]
     },
     "execution_count": 228,
     "metadata": {},
     "output_type": "execute_result"
    }
   ],
   "source": [
    "TransMAT = sample_TransMAT.to_numpy()\n",
    "p1x = np.sum(((TransMAT[:,2:] > 0) & (TransMAT[:,2:] <= calwk)), axis=1)\n",
    "p2x = np.sum(((TransMAT[:,2:] > 0) & (TransMAT[:,2:] > calwk)), axis=1)\n",
    "\n"
   ]
  }
 ],
 "metadata": {
  "kernelspec": {
   "display_name": "fin",
   "language": "python",
   "name": "python3"
  },
  "language_info": {
   "codemirror_mode": {
    "name": "ipython",
    "version": 3
   },
   "file_extension": ".py",
   "mimetype": "text/x-python",
   "name": "python",
   "nbconvert_exporter": "python",
   "pygments_lexer": "ipython3",
   "version": "3.12.7"
  }
 },
 "nbformat": 4,
 "nbformat_minor": 2
}
