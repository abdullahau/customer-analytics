{
 "cells": [
  {
   "cell_type": "markdown",
   "metadata": {},
   "source": [
    "Beta-geometric/Negative Binomial Distribution Model (BG/NBD) - Forecasting Individual-Level Repeat-Buying"
   ]
  },
  {
   "cell_type": "code",
   "execution_count": 1,
   "metadata": {},
   "outputs": [],
   "source": [
    "import polars as pl\n",
    "import numpy as np\n",
    "import altair as alt\n",
    "from scipy.optimize import minimize"
   ]
  },
  {
   "cell_type": "code",
   "execution_count": 2,
   "metadata": {},
   "outputs": [
    {
     "data": {
      "text/html": [
       "<div><style>\n",
       ".dataframe > thead > tr,\n",
       ".dataframe > tbody > tr {\n",
       "  text-align: right;\n",
       "  white-space: pre-wrap;\n",
       "}\n",
       "</style>\n",
       "<small>shape: (5, 7)</small><table border=\"1\" class=\"dataframe\"><thead><tr><th>CustID</th><th>Date</th><th>Quant</th><th>Spend</th><th>Spend Scaled</th><th>PurchDay</th><th>DoR</th></tr><tr><td>i32</td><td>date</td><td>i64</td><td>f64</td><td>i64</td><td>u16</td><td>u16</td></tr></thead><tbody><tr><td>1</td><td>1997-01-01</td><td>1</td><td>11.77</td><td>1177</td><td>1</td><td>0</td></tr><tr><td>2</td><td>1997-01-12</td><td>6</td><td>89.0</td><td>8900</td><td>12</td><td>0</td></tr><tr><td>3</td><td>1997-01-02</td><td>2</td><td>20.76</td><td>2076</td><td>2</td><td>0</td></tr><tr><td>3</td><td>1997-03-30</td><td>2</td><td>20.76</td><td>2076</td><td>89</td><td>1</td></tr><tr><td>3</td><td>1997-04-02</td><td>2</td><td>19.54</td><td>1954</td><td>92</td><td>2</td></tr></tbody></table></div>"
      ],
      "text/plain": [
       "shape: (5, 7)\n",
       "┌────────┬────────────┬───────┬───────┬──────────────┬──────────┬─────┐\n",
       "│ CustID ┆ Date       ┆ Quant ┆ Spend ┆ Spend Scaled ┆ PurchDay ┆ DoR │\n",
       "│ ---    ┆ ---        ┆ ---   ┆ ---   ┆ ---          ┆ ---      ┆ --- │\n",
       "│ i32    ┆ date       ┆ i64   ┆ f64   ┆ i64          ┆ u16      ┆ u16 │\n",
       "╞════════╪════════════╪═══════╪═══════╪══════════════╪══════════╪═════╡\n",
       "│ 1      ┆ 1997-01-01 ┆ 1     ┆ 11.77 ┆ 1177         ┆ 1        ┆ 0   │\n",
       "│ 2      ┆ 1997-01-12 ┆ 6     ┆ 89.0  ┆ 8900         ┆ 12       ┆ 0   │\n",
       "│ 3      ┆ 1997-01-02 ┆ 2     ┆ 20.76 ┆ 2076         ┆ 2        ┆ 0   │\n",
       "│ 3      ┆ 1997-03-30 ┆ 2     ┆ 20.76 ┆ 2076         ┆ 89       ┆ 1   │\n",
       "│ 3      ┆ 1997-04-02 ┆ 2     ┆ 19.54 ┆ 1954         ┆ 92       ┆ 2   │\n",
       "└────────┴────────────┴───────┴───────┴──────────────┴──────────┴─────┘"
      ]
     },
     "metadata": {},
     "output_type": "display_data"
    }
   ],
   "source": [
    "CDNOW_master = (\n",
    "    pl.scan_csv(source = 'data/CDNOW/CDNOW_master.csv', \n",
    "                has_header=False, \n",
    "                separator=',', \n",
    "                schema={'CustID': pl.Int32,     # customer id\n",
    "                        'Date': pl.String,      # transaction date\n",
    "                        'Quant': pl.Int16,      # number of CDs purchased\n",
    "                        'Spend': pl.Float64})   # dollar value (excl. S&H)\n",
    "    .with_columns(pl.col('Date').str.to_date(\"%Y%m%d\"))\n",
    "    .with_columns((pl.col('Date') - pl.date(1996,12,31)).dt.total_days().cast(pl.UInt16).alias('PurchDay'))\n",
    "    .with_columns((pl.col('Spend')*100).round(0).cast(pl.Int64).alias('Spend Scaled'))\n",
    "    .group_by('CustID', 'Date')\n",
    "    .agg(pl.col('*').exclude('PurchDay').sum(), pl.col('PurchDay').max()) # Multiple transactions by a customer on a single day are aggregated into one\n",
    "    .sort('CustID', 'Date')\n",
    "    .with_columns((pl.col(\"CustID\").cum_count().over(\"CustID\") - 1).cast(pl.UInt16).alias(\"DoR\"))    \n",
    ")\n",
    "\n",
    "display(CDNOW_master.head().collect())"
   ]
  },
  {
   "cell_type": "code",
   "execution_count": 3,
   "metadata": {},
   "outputs": [
    {
     "data": {
      "text/html": [
       "<div><style>\n",
       ".dataframe > thead > tr,\n",
       ".dataframe > tbody > tr {\n",
       "  text-align: right;\n",
       "  white-space: pre-wrap;\n",
       "}\n",
       "</style>\n",
       "<small>shape: (5, 3)</small><table border=\"1\" class=\"dataframe\"><thead><tr><th>CustID</th><th>Repeat Spend (Scaled)</th><th>Trial Day</th></tr><tr><td>i32</td><td>i64</td><td>u16</td></tr></thead><tbody><tr><td>1</td><td>0</td><td>1</td></tr><tr><td>2</td><td>0</td><td>12</td></tr><tr><td>3</td><td>4030</td><td>2</td></tr><tr><td>4</td><td>4469</td><td>1</td></tr><tr><td>5</td><td>23188</td><td>1</td></tr></tbody></table></div>"
      ],
      "text/plain": [
       "shape: (5, 3)\n",
       "┌────────┬───────────────────────┬───────────┐\n",
       "│ CustID ┆ Repeat Spend (Scaled) ┆ Trial Day │\n",
       "│ ---    ┆ ---                   ┆ ---       │\n",
       "│ i32    ┆ i64                   ┆ u16       │\n",
       "╞════════╪═══════════════════════╪═══════════╡\n",
       "│ 1      ┆ 0                     ┆ 1         │\n",
       "│ 2      ┆ 0                     ┆ 12        │\n",
       "│ 3      ┆ 4030                  ┆ 2         │\n",
       "│ 4      ┆ 4469                  ┆ 1         │\n",
       "│ 5      ┆ 23188                 ┆ 1         │\n",
       "└────────┴───────────────────────┴───────────┘"
      ]
     },
     "execution_count": 3,
     "metadata": {},
     "output_type": "execute_result"
    }
   ],
   "source": [
    "RptSpend = (\n",
    "    CDNOW_master\n",
    "    .filter(pl.col('PurchDay') <= 273)\n",
    "    .with_columns(pl.when(pl.col('DoR') > 0)\n",
    "                  .then(pl.col('Spend Scaled'))\n",
    "                  .otherwise(0)\n",
    "                  .alias('Repeat Spend (Scaled)'))\n",
    "    .with_columns(pl.col('PurchDay').filter(pl.col('DoR') == 0)\n",
    "                  .first()\n",
    "                  .over('CustID')\n",
    "                  .alias('Trial Day'))\n",
    "    .group_by('CustID')\n",
    "    .agg(pl.col('Repeat Spend (Scaled)').sum(), pl.col('Trial Day').max())\n",
    "    .sort('CustID')\n",
    ")\n",
    "\n",
    "RptSpend.head().collect()"
   ]
  },
  {
   "cell_type": "code",
   "execution_count": 4,
   "metadata": {},
   "outputs": [],
   "source": [
    "# Sampling technique - Python Method:\n",
    "# id_df = (\n",
    "#     RptSpend.collect()\n",
    "#     .with_columns(((pl.col('Trial Day') - 1) // 7 + 1).alias('Trial Week'))\n",
    "#     .sort(['Trial Week','Repeat Spend (Scaled)', 'CustID'], descending=[False, True, False], maintain_order=True)\n",
    "# )\n",
    "\n",
    "# sampledID = id_df[9::10].select('CustID')\n",
    "\n",
    "# MATLAB Sampling (due to numerical float precision handling differences, original sampling results cannot be replicated unless spend is scaled in MATLAB)\n",
    "CDNOW_sample = (\n",
    "    pl.scan_csv(source='data/CDNOW/CDNOW_sample.csv',\n",
    "                has_header=False,\n",
    "                separator=',',\n",
    "                schema={'CustID': pl.Int32,\n",
    "                        'NewID': pl.Int32,\n",
    "                        'Date': pl.String,\n",
    "                        'Quant': pl.Int16,\n",
    "                        'Spend': pl.Float64})\n",
    "    .with_columns(pl.col('Date').str.to_date(\"%Y%m%d\"))\n",
    "    .with_columns((pl.col('Date') - pl.date(1996,12,31)).dt.total_days().cast(pl.UInt16).alias('PurchDay'))\n",
    "    .with_columns((pl.col('Spend')*100).round(0).cast(pl.Int64).alias('Spend Scaled'))\n",
    "    .group_by('CustID', 'Date')\n",
    "    .agg(pl.col('*').exclude('PurchDay').sum(), pl.col('PurchDay').max())\n",
    "    .sort('CustID', 'Date')\n",
    "    .with_columns((pl.col(\"CustID\").cum_count().over(\"CustID\") - 1).cast(pl.UInt16).alias(\"DoR\"))      \n",
    ")"
   ]
  },
  {
   "cell_type": "markdown",
   "metadata": {},
   "source": [
    "Creating summaries of the 1/10th sample data given the xMAT data structure. We divide the 78 weeks in half: Period 1 is a 39-week calibration period while Period 2 is a 39-week longitudinal holdout used for model validation."
   ]
  },
  {
   "cell_type": "code",
   "execution_count": 5,
   "metadata": {},
   "outputs": [],
   "source": [
    "# The number of repeat transactions made by each customer in each period\n",
    "calwk = 273 # 39 week calibration period\n",
    "\n",
    "px = (\n",
    "    CDNOW_sample\n",
    "    .collect()\n",
    "    .group_by('CustID', maintain_order=True)\n",
    "    .agg(\n",
    "        pl.col('PurchDay')\n",
    "        .filter((pl.col('PurchDay') <= calwk) & (pl.col('DoR') > 0))\n",
    "        .count()\n",
    "        .alias('P1X'),\n",
    "\n",
    "        pl.col('PurchDay')\n",
    "        .filter((pl.col('PurchDay') > calwk) & (pl.col('DoR') > 0))\n",
    "        .count()\n",
    "        .alias('P2X')        \n",
    "    )\n",
    ")\n",
    "# The number of CDs purchased and total spend across these repeat transactions\n",
    "pSpendQuant = (\n",
    "    CDNOW_sample.collect()\n",
    "    .join(px, on='CustID', how='left')\n",
    "    .group_by('CustID', maintain_order=True)\n",
    "    .agg(\n",
    "        \n",
    "        pl.col('Spend Scaled')\n",
    "        .filter((pl.col('DoR') > 0) & (pl.col('DoR') <= pl.col('P1X')) & (pl.col('P1X') != 0))\n",
    "        .sum()\n",
    "        .alias('P1X Spend'),\n",
    "        \n",
    "        pl.col('Quant')\n",
    "        .filter((pl.col('DoR') > 0) & (pl.col('DoR') <= pl.col('P1X')) & (pl.col('P1X') != 0))\n",
    "        .sum()\n",
    "        .alias('P1X Quant'),        \n",
    "        \n",
    "        pl.col('Spend Scaled')\n",
    "        .filter((pl.col('DoR') > 0) & (pl.col('DoR') > pl.col('P1X')))\n",
    "        .sum()\n",
    "        .alias('P2X Spend'),\n",
    "        \n",
    "        pl.col('Quant')\n",
    "        .filter((pl.col('DoR') > 0) & (pl.col('DoR') > pl.col('P1X')))\n",
    "        .sum()\n",
    "        .alias('P2X Quant')                \n",
    "    )\n",
    ")\n",
    "\n",
    "# The average spend per repeat transaction\n",
    "mx = (\n",
    "    pSpendQuant\n",
    "    .join(px, on='CustID', how='left')\n",
    "    .with_columns(\n",
    "        (pl.col('P1X Spend') / pl.col('P1X')).alias('Avg Spend per Repeat')\n",
    "    ).fill_nan(0)\n",
    ")"
   ]
  },
  {
   "cell_type": "markdown",
   "metadata": {},
   "source": [
    "When fitting models such as the Pareto/NBD and BG/NBD to these data, we also want to know the “recency” information for each customer, as well as their effective calibration period:"
   ]
  },
  {
   "cell_type": "code",
   "execution_count": 6,
   "metadata": {},
   "outputs": [],
   "source": [
    "# time of last calibration period repeat purchase (in weeks)\n",
    "# effective calibration period (in weeks)\n",
    "ttlrp = (\n",
    "    CDNOW_sample.collect()\n",
    "    .join(px, on='CustID', how='left')\n",
    "    .with_columns(\n",
    "        pl.col('PurchDay').filter(pl.col('DoR') == 0)\n",
    "        .first()\n",
    "        .over('CustID')\n",
    "        .alias('Trial Day')\n",
    "    )\n",
    "    .group_by('CustID', maintain_order=True)\n",
    "    .agg(\n",
    "        pl.col('PurchDay', 'Trial Day')\n",
    "        .filter(pl.col('DoR') <= pl.col('P1X'))\n",
    "        .max()\n",
    "        # .alias('LastPurch')\n",
    "    )\n",
    "    .with_columns(\n",
    "        ((pl.col('PurchDay') - pl.col('Trial Day')) / 7).alias('Time to Last Repeat'),\n",
    "        ((calwk - pl.col('Trial Day'))/7).alias('Eff. Calibration Period')\n",
    "    )\n",
    "    .drop('PurchDay', 'Trial Day')\n",
    ")"
   ]
  },
  {
   "cell_type": "markdown",
   "metadata": {},
   "source": [
    "Creating Summaries"
   ]
  },
  {
   "cell_type": "code",
   "execution_count": null,
   "metadata": {},
   "outputs": [],
   "source": [
    "# What is the total number of CDs purchased each week?\n",
    "\n"
   ]
  }
 ],
 "metadata": {
  "kernelspec": {
   "display_name": "fin",
   "language": "python",
   "name": "python3"
  },
  "language_info": {
   "codemirror_mode": {
    "name": "ipython",
    "version": 3
   },
   "file_extension": ".py",
   "mimetype": "text/x-python",
   "name": "python",
   "nbconvert_exporter": "python",
   "pygments_lexer": "ipython3",
   "version": "3.12.8"
  }
 },
 "nbformat": 4,
 "nbformat_minor": 2
}
