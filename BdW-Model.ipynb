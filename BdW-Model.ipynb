{
 "cells": [
  {
   "cell_type": "markdown",
   "metadata": {},
   "source": [
    "Beta-discrete-Weibull (BdW) Model"
   ]
  },
  {
   "cell_type": "markdown",
   "metadata": {},
   "source": [
    "**Source**:\n",
    "- [“How to Project Customer Retention” Revisited: The Role of Duration Dependence](https://brucehardie.com/papers/037/)"
   ]
  },
  {
   "cell_type": "code",
   "execution_count": 15,
   "metadata": {},
   "outputs": [],
   "source": [
    "import numpy as np\n",
    "from scipy.optimize import minimize\n",
    "from scipy.stats import beta\n",
    "from scipy.special import beta as beta_fn\n",
    "\n",
    "import matplotlib.pyplot as plt\n",
    "import matplotlib_inline\n",
    "from IPython.display import display_markdown\n",
    "\n",
    "matplotlib_inline.backend_inline.set_matplotlib_formats('svg')\n",
    "plt.rcParams[\"axes.spines.right\"] = False\n",
    "plt.rcParams[\"axes.spines.top\"] = False"
   ]
  },
  {
   "cell_type": "code",
   "execution_count": 71,
   "metadata": {},
   "outputs": [],
   "source": [
    "year, alive_regular, alive_highend = np.loadtxt('data\\\\2-segment-retention.csv', dtype='object', delimiter=',', unpack=True, skiprows=1) \n",
    "year = year.astype(int)\n",
    "alive_regular = alive_regular.astype(float)\n",
    "alive_highend = alive_highend.astype(float)"
   ]
  },
  {
   "cell_type": "code",
   "execution_count": 68,
   "metadata": {},
   "outputs": [],
   "source": [
    "def sbg_param(year, alive):\n",
    "    num_lost = alive[:-1] - alive[1:]\n",
    "    \n",
    "    def log_likelihood(x):\n",
    "        gamma, delta = x[0], x[1]\n",
    "        survivor_function = beta_fn(gamma, delta + year - 1) / beta_fn(gamma, delta)\n",
    "        P_T_t = survivor_function[:-1] - survivor_function[1:]\n",
    "        return -np.sum(num_lost * np.log(P_T_t)) - (alive[-1] * np.log(survivor_function[-1]))\n",
    "\n",
    "    return minimize(log_likelihood, x0=[0.1,0.1], bounds=[(0, np.inf), (0, np.inf)])"
   ]
  },
  {
   "cell_type": "code",
   "execution_count": 83,
   "metadata": {},
   "outputs": [
    {
     "data": {
      "text/markdown": [
       "**Regular Customers:**\n",
       "\n",
       "$\\gamma$ = 0.7041\n",
       "\n",
       "$\\delta$ = 1.1820\n",
       "\n",
       "Log-Likelihood = -1680.2652"
      ]
     },
     "metadata": {},
     "output_type": "display_data"
    },
    {
     "data": {
      "text/markdown": [
       "**High-End Customers:**\n",
       "                 \n",
       "$\\gamma$ = 0.6678\n",
       "\n",
       "$\\delta$ = 3.8040\n",
       "\n",
       "Log-Likelihood = -1611.1582"
      ]
     },
     "metadata": {},
     "output_type": "display_data"
    }
   ],
   "source": [
    "res_regular = sbg_param(year[:8], alive_regular[:8])\n",
    "gamma, delta = res_regular.x\n",
    "ll = res_regular.fun\n",
    "\n",
    "display_markdown(f'''**Regular Customers:**\n",
    "\n",
    "$\\\\gamma$ = {gamma:0.4f}\n",
    "\n",
    "$\\\\delta$ = {delta:0.4f}\n",
    "\n",
    "Log-Likelihood = {-ll:0.4f}''', raw=True)\n",
    "\n",
    "res_highend = sbg_param(year[:8], alive_highend[:8])\n",
    "gamma, delta = res_highend.x\n",
    "ll = res_highend.fun\n",
    "\n",
    "display_markdown(f'''**High-End Customers:**\n",
    "                 \n",
    "$\\\\gamma$ = {gamma:0.4f}\n",
    "\n",
    "$\\\\delta$ = {delta:0.4f}\n",
    "\n",
    "Log-Likelihood = {-ll:0.4f}''', raw=True)"
   ]
  },
  {
   "cell_type": "code",
   "execution_count": 84,
   "metadata": {},
   "outputs": [
    {
     "data": {
      "text/markdown": [
       "**Regular Customers:**\n",
       "\n",
       "$\\gamma$ = 0.7637\n",
       "\n",
       "$\\delta$ = 1.2958\n",
       "\n",
       "Log-Likelihood = -1401.5594"
      ]
     },
     "metadata": {},
     "output_type": "display_data"
    },
    {
     "data": {
      "text/markdown": [
       "**High-End Customers:**\n",
       "                 \n",
       "$\\gamma$ = 1.2812\n",
       "\n",
       "$\\delta$ = 7.7922\n",
       "\n",
       "Log-Likelihood = -1225.1349"
      ]
     },
     "metadata": {},
     "output_type": "display_data"
    }
   ],
   "source": [
    "res_regular = sbg_param(year[:5], alive_regular[:5])\n",
    "gamma, delta = res_regular.x\n",
    "ll = res_regular.fun\n",
    "\n",
    "display_markdown(f'''**Regular Customers:**\n",
    "\n",
    "$\\\\gamma$ = {gamma:0.4f}\n",
    "\n",
    "$\\\\delta$ = {delta:0.4f}\n",
    "\n",
    "Log-Likelihood = {-ll:0.4f}''', raw=True)\n",
    "\n",
    "res_highend = sbg_param(year[:5], alive_highend[:5])\n",
    "gamma, delta = res_highend.x\n",
    "ll = res_highend.fun\n",
    "\n",
    "display_markdown(f'''**High-End Customers:**\n",
    "                 \n",
    "$\\\\gamma$ = {gamma:0.4f}\n",
    "\n",
    "$\\\\delta$ = {delta:0.4f}\n",
    "\n",
    "Log-Likelihood = {-ll:0.4f}''', raw=True)"
   ]
  }
 ],
 "metadata": {
  "kernelspec": {
   "display_name": "base",
   "language": "python",
   "name": "python3"
  },
  "language_info": {
   "codemirror_mode": {
    "name": "ipython",
    "version": 3
   },
   "file_extension": ".py",
   "mimetype": "text/x-python",
   "name": "python",
   "nbconvert_exporter": "python",
   "pygments_lexer": "ipython3",
   "version": "3.12.8"
  }
 },
 "nbformat": 4,
 "nbformat_minor": 2
}
