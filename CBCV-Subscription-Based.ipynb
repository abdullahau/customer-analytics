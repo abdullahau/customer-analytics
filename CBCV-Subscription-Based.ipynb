{
  "cells": [
    {
      "cell_type": "markdown",
      "metadata": {},
      "source": [
        "---\n",
        "title: Customer-Based Corporate Valuation for Subscription-Based Businesses\n",
        "author: Abdullah Mahmood\n",
        "date: last-modified\n",
        "format:\n",
        "    html:\n",
        "        theme: cosmo\n",
        "        css: quarto-style/style.css        \n",
        "        highlight-style: atom-one        \n",
        "        mainfont: Palatino\n",
        "        fontcolor: black\n",
        "        monobackgroundcolor: white\n",
        "        monofont: Menlo, Lucida Console, Liberation Mono, DejaVu Sans Mono, Bitstream Vera Sans Mono, Courier New, monospace\n",
        "        fontsize: 13pt\n",
        "        linestretch: 1.4\n",
        "        number-sections: true\n",
        "        number-depth: 5\n",
        "        toc: true\n",
        "        toc-location: right\n",
        "        toc-depth: 5\n",
        "        code-fold: true\n",
        "        code-copy: true\n",
        "        cap-location: bottom\n",
        "        format-links: false\n",
        "        embed-resources: true\n",
        "        anchor-sections: true\n",
        "        code-links:   \n",
        "        -   text: GitHub Repo\n",
        "            icon: github\n",
        "            href: https://github.com/abdullahau/customer-analytics/\n",
        "        -   text: Quarto Markdown\n",
        "            icon: file-code\n",
        "            href: https://github.com/abdullahau/customer-analytics/blob/main/buyer-behavior-summary-transaction-log.qmd\n",
        "        html-math-method:\n",
        "            method: mathjax\n",
        "            url: https://cdn.jsdelivr.net/npm/mathjax@3/es5/tex-mml-chtml.js\n",
        "---\n",
        "\n",
        "Source: [Valuing Subscription-Based Businesses Using Publicly Disclosed Customer Data](https://papers.ssrn.com/sol3/papers.cfm?abstract_id=2701093)\n"
      ]
    },
    {
      "cell_type": "markdown",
      "metadata": {},
      "source": []
    }
  ],
  "metadata": {
    "kernelspec": {
      "display_name": "main",
      "language": "python",
      "name": "main",
      "path": "/Users/rehabnaeem/Library/Jupyter/kernels/main"
    },
    "language_info": {
      "name": "python"
    }
  },
  "nbformat": 4,
  "nbformat_minor": 4
}
