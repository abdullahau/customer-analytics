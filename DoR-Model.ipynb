{
 "cells": [
  {
   "cell_type": "markdown",
   "metadata": {},
   "source": [
    "## <span style=\"color:#956bbf\">Depth-of-Repeat Model - Sales Summary & Sales Forecasting</span>\n",
    "---"
   ]
  },
  {
   "cell_type": "markdown",
   "metadata": {},
   "source": [
    "### <span style=\"color:#956bbf\">Introduction</span>"
   ]
  },
  {
   "cell_type": "markdown",
   "metadata": {},
   "source": [
    "**Source**:\n",
    "- [Creating a Depth-of-Repeat Sales Summary Using Excel](https://www.brucehardie.com/notes/006/) by Bruce G. S. Hardie & Peter S. Fader\n",
    "- [Generating a Sales Forecast With a Simple Depth-of-Repeat Model](https://www.brucehardie.com/notes/007/) by Bruce G. S. Hardie & Peter S. Fader"
   ]
  },
  {
   "cell_type": "markdown",
   "metadata": {},
   "source": [
    "Central to diagnosing the performance of a new product is the decomposition of its total sales into trial, first repeat, second repeat, and so on, components. More formally, we are interested in creating a summary of purchasing that tells us for each unit of time (e.g., week), the cumulative number of people who have made a trial (i.e., first-ever) purchase, a first repeat (i.e., secondever) purchase, a second repeat purchase, and so on. We let $T(t)$ denote the cumulative number of people who have made a trial purchase by time $t$, and $R_{j}(t)$ denote the number of people who have made at least $j$ repeat purchases of the new product by time $t(j=1,2,3, \\ldots)$.\n",
    "\n",
    "With such a data summary in place, standard new product performance metrics such as “percent triers repeating” and “repeats per repeater” are easily computed from these data. At any point in time $t$, percent triers repeating is computed as $R_{1}(t)/T (t)$, while repeats per repeater is computed as $R(t)/R_{1}(t)$, where $R(t)$ is the total number of repeat purchases up to time $t$:\n",
    "\n",
    "$$\n",
    "R(t)=\\sum_{j=1}^{\\infty} R_{j}(t)\n",
    "$$\n",
    "\n",
    "Furthermore, a simple new product sales forecasting model can easily be built around such a data summary.\n",
    "\n",
    "we describe how to create such a sales summary from raw customer-level transaction data (typically collected via a consumer panel) using python."
   ]
  },
  {
   "cell_type": "markdown",
   "metadata": {},
   "source": [
    "A consumer panel is formed by selecting a representative sample of individuals or households (from the population of interest) and recording their complete behaviour (e.g., purchasing of FMCG products) over a fixed period of time.\n",
    "\n",
    "For a given product category, we can construct a dataset that reports the timing of each purchase, along with details of the product purchased. A stylized representation of this is given in the figure (Purchase Histories: Total Category) below for a total of $n$ households, in which we consider an observation period starting with the launch of a new product and ending at time $t_{\\text {end }}$. We let $\\diamond$ denote a purchase of the new product and $\\times$ denote the purchase of any other product in the category.\n",
    "\n",
    "<div style=\"max-width:400px;margin-left: auto; margin-right: auto;\">\n",
    "<img src=\"references\\Depth-of-Repeat\\Purchase Histories-Total Category.png\"/>\n",
    "</div>\n",
    "\n",
    "We see that HH 1 made three category purchases over the observation period but never purchased the new product. HH 2 made seven category purchases; the third category purchase represents a trial purchase of the new product, and no repeat purchasing activity was observed over the remainder of the observation period. HH 3 made a trial purchase of the new product and two repeat purchases. And so on.\n",
    "\n",
    "In many analysis situations, where we are focusing on a particular product, purchase records not associated with the focal product are removed to yield a simpler (and smaller) dataset. A stylized representation of this is given in the figure (Purchase Histories: New Product Only) below. As HH 1 never bought the new product, there is no explicit record of this household in the resulting dataset.\n",
    "\n",
    "<div style=\"max-width:400px;margin-left: auto; margin-right: auto;\">\n",
    "<img src=\"references\\Depth-of-Repeat\\Purchase Histories-New Product Only.png\"/>\n",
    "</div>"
   ]
  },
  {
   "cell_type": "markdown",
   "metadata": {},
   "source": [
    "### <span style=\"color:#956bbf\">Imports</span>\n",
    "---"
   ]
  },
  {
   "cell_type": "markdown",
   "metadata": {},
   "source": [
    "#### Import Packages"
   ]
  },
  {
   "cell_type": "code",
   "execution_count": 1,
   "metadata": {},
   "outputs": [
    {
     "data": {
      "text/plain": [
       "RendererRegistry.enable('mimetype')"
      ]
     },
     "execution_count": 1,
     "metadata": {},
     "output_type": "execute_result"
    }
   ],
   "source": [
    "import polars as pl\n",
    "import numpy as np\n",
    "import altair as alt\n",
    "from scipy.optimize import minimize\n",
    "from IPython.display import display_markdown\n",
    "\n",
    "alt.renderers.enable('mimetype')"
   ]
  },
  {
   "cell_type": "markdown",
   "metadata": {},
   "source": [
    "#### Import Panel Data"
   ]
  },
  {
   "cell_type": "markdown",
   "metadata": {},
   "source": [
    "\"Kiwi Bubbles\" is a masked name for a shelf-stable juice drink, aimed primarily at children, which is sold as a multipack with several single-serve containers bundled together. Prior to national launch, it underwent a year-long test conducted in two of IRI's BehaviorScan markets. The file `kiwibubbles_tran.txt` contains purchasing data for the new product, drawn from 1300 panelists in Market 1 and 1499 panelists in Market 2.\n",
    "\n",
    "Each record in this file comprises five fields: *Panelist ID*, *Market*, *Week*, *Day*, and *Units*. The value of the Market field is either 1 or 2. The Week field gives us the week number in which the purchase occurred (the product was launched at the beginning of week 1), the Day field tells us the day of the week (1-7) in which the purchase occurred, and the Units field tells us how many units of the new product were purchased on that particular purchase occasion.\n",
    "\n",
    "We load this dataset into python. We see that there are a total of 857 transactions across the two markets during the year-long test."
   ]
  },
  {
   "cell_type": "code",
   "execution_count": 2,
   "metadata": {},
   "outputs": [
    {
     "data": {
      "text/html": [
       "<div><style>\n",
       ".dataframe > thead > tr,\n",
       ".dataframe > tbody > tr {\n",
       "  text-align: right;\n",
       "  white-space: pre-wrap;\n",
       "}\n",
       "</style>\n",
       "<small>shape: (5, 5)</small><table border=\"1\" class=\"dataframe\"><thead><tr><th>ID</th><th>Market</th><th>Week</th><th>Day</th><th>Units</th></tr><tr><td>u16</td><td>u8</td><td>i16</td><td>i16</td><td>i16</td></tr></thead><tbody><tr><td>10001</td><td>1</td><td>19</td><td>3</td><td>1</td></tr><tr><td>10002</td><td>1</td><td>12</td><td>5</td><td>1</td></tr><tr><td>10003</td><td>1</td><td>37</td><td>7</td><td>1</td></tr><tr><td>10004</td><td>1</td><td>30</td><td>6</td><td>1</td></tr><tr><td>10004</td><td>1</td><td>47</td><td>3</td><td>1</td></tr></tbody></table></div>"
      ],
      "text/plain": [
       "shape: (5, 5)\n",
       "┌───────┬────────┬──────┬─────┬───────┐\n",
       "│ ID    ┆ Market ┆ Week ┆ Day ┆ Units │\n",
       "│ ---   ┆ ---    ┆ ---  ┆ --- ┆ ---   │\n",
       "│ u16   ┆ u8     ┆ i16  ┆ i16 ┆ i16   │\n",
       "╞═══════╪════════╪══════╪═════╪═══════╡\n",
       "│ 10001 ┆ 1      ┆ 19   ┆ 3   ┆ 1     │\n",
       "│ 10002 ┆ 1      ┆ 12   ┆ 5   ┆ 1     │\n",
       "│ 10003 ┆ 1      ┆ 37   ┆ 7   ┆ 1     │\n",
       "│ 10004 ┆ 1      ┆ 30   ┆ 6   ┆ 1     │\n",
       "│ 10004 ┆ 1      ┆ 47   ┆ 3   ┆ 1     │\n",
       "└───────┴────────┴──────┴─────┴───────┘"
      ]
     },
     "execution_count": 2,
     "metadata": {},
     "output_type": "execute_result"
    }
   ],
   "source": [
    "kiwi_lf = pl.scan_csv(source=\"data/kiwibubbles/kiwibubbles_tran.csv\",\n",
    "                      has_header=False,\n",
    "                      separator=\",\",\n",
    "                      schema={'ID': pl.UInt16,\n",
    "                              'Market': pl.UInt8,\n",
    "                              'Week': pl.Int16,\n",
    "                              'Day': pl.Int16,\n",
    "                              'Units': pl.Int16})\n",
    "kiwi_lf.head().collect()"
   ]
  },
  {
   "cell_type": "markdown",
   "metadata": {},
   "source": [
    "To illustrate the process of creating a sales by depth-of-repeat summary from this raw transaction data, we will focus just on **Market 2**."
   ]
  },
  {
   "cell_type": "code",
   "execution_count": 3,
   "metadata": {},
   "outputs": [],
   "source": [
    "kiwi_lf_m2 = (kiwi_lf.filter(pl.col('Market') == 2).drop('Market'))\n",
    "num_panellists_m2 = 1499"
   ]
  },
  {
   "cell_type": "markdown",
   "metadata": {},
   "source": [
    "### <span style=\"color:#956bbf\">Creating a Depth-of-Repeat Sales Summary</span>\n",
    "---"
   ]
  },
  {
   "cell_type": "markdown",
   "metadata": {},
   "source": [
    "#### Preliminaries"
   ]
  },
  {
   "cell_type": "markdown",
   "metadata": {},
   "source": [
    "Let us consider the transaction history of panelist 20014. We note that this panelist made his/her trial purchase and first repeat purchase in week 4. Similarly, this panelist's third and fourth repeat purchases occurred in week 7 . We also note that this panelist typically purchased several units of the product on any given purchase occasion."
   ]
  },
  {
   "cell_type": "code",
   "execution_count": 4,
   "metadata": {},
   "outputs": [
    {
     "data": {
      "text/html": [
       "<div><style>\n",
       ".dataframe > thead > tr,\n",
       ".dataframe > tbody > tr {\n",
       "  text-align: right;\n",
       "  white-space: pre-wrap;\n",
       "}\n",
       "</style>\n",
       "<small>shape: (9, 4)</small><table border=\"1\" class=\"dataframe\"><thead><tr><th>ID</th><th>Week</th><th>Day</th><th>Units</th></tr><tr><td>u16</td><td>i16</td><td>i16</td><td>i16</td></tr></thead><tbody><tr><td>20014</td><td>4</td><td>2</td><td>1</td></tr><tr><td>20014</td><td>4</td><td>4</td><td>1</td></tr><tr><td>20014</td><td>6</td><td>6</td><td>2</td></tr><tr><td>20014</td><td>7</td><td>2</td><td>3</td></tr><tr><td>20014</td><td>7</td><td>6</td><td>3</td></tr><tr><td>20014</td><td>12</td><td>5</td><td>2</td></tr><tr><td>20014</td><td>17</td><td>6</td><td>1</td></tr><tr><td>20014</td><td>23</td><td>4</td><td>2</td></tr><tr><td>20014</td><td>47</td><td>6</td><td>2</td></tr></tbody></table></div>"
      ],
      "text/plain": [
       "shape: (9, 4)\n",
       "┌───────┬──────┬─────┬───────┐\n",
       "│ ID    ┆ Week ┆ Day ┆ Units │\n",
       "│ ---   ┆ ---  ┆ --- ┆ ---   │\n",
       "│ u16   ┆ i16  ┆ i16 ┆ i16   │\n",
       "╞═══════╪══════╪═════╪═══════╡\n",
       "│ 20014 ┆ 4    ┆ 2   ┆ 1     │\n",
       "│ 20014 ┆ 4    ┆ 4   ┆ 1     │\n",
       "│ 20014 ┆ 6    ┆ 6   ┆ 2     │\n",
       "│ 20014 ┆ 7    ┆ 2   ┆ 3     │\n",
       "│ 20014 ┆ 7    ┆ 6   ┆ 3     │\n",
       "│ 20014 ┆ 12   ┆ 5   ┆ 2     │\n",
       "│ 20014 ┆ 17   ┆ 6   ┆ 1     │\n",
       "│ 20014 ┆ 23   ┆ 4   ┆ 2     │\n",
       "│ 20014 ┆ 47   ┆ 6   ┆ 2     │\n",
       "└───────┴──────┴─────┴───────┘"
      ]
     },
     "execution_count": 4,
     "metadata": {},
     "output_type": "execute_result"
    }
   ],
   "source": [
    "kiwi_lf_m2.filter(pl.col('ID') == 20014).collect()"
   ]
  },
  {
   "cell_type": "markdown",
   "metadata": {},
   "source": [
    "This suggests several possible versions of the desired sales by depth-of-repeat summary:\n",
    "- Our summary counts the number of trial, first repeat, second repeat, etc. transactions that occurred each week. The process of creating such a summary is described in section [Creating a “Raw” Transactions Summary](#raw_trans_summary)' below.\n",
    "- Our summary reports the *sales volume* (e.g., units) associated with trial, first repeat, second repeat, etc. transactions that occurred each week. The process of creating such a summary is described in section '[Creating a “Raw” Sales Volume Summary](#raw_vol_summary)' below.\n",
    "- We have noted that this panelist's trial and first repeat purchases occurred in the same week, albeit on different days. Similarly, his/her fourth and fifth repeat purchases occurred in the same week. The structure of many simple models of new product sales forecasting is such that a customer can have only one transaction per unit of time. If the unit of time is one week (as it typically the case), we clearly have a problem. One solution would be change the unit of time from week to day. However, as such purchasing behaviour tends to be rare, Eskin suggests that, \"[f]or estimation purposes, second purchases within a single week are coded in the following week.\" The process of creating such a \"shifted\" summary is described in [Creating a \"Shifted\" Transactions Summary](#raw_shifted_trans_summary) below.\n",
    "\n",
    "But what happens if we observe multiple transactions on the same day? This is very rare and typically reflects bad pre-processing of the panel data. For example, as an individual's purchases are scanned at the supermarket checkout, one six-pack of Coke could be the first item scanned with another six-pack of Coke being the last item scanned. As the raw data are \"cleaned-up\" these two purchases should be combined into one transaction with a quantity of two. But this doesn't always happen. If the (very) raw panel data file contains a transaction time field, we easily determine whether the two records come from the same or different shopping trips. Even if they did come from separate shopping trips on the same day, our natural reaction would be to combine them into a single transaction with multiple units, rather than shift to an even smaller time unit (e.g., hour). we should reflect on how to determine whether we observe multiple transactions for an individual panelist on the same day once the raw panel data has been loaded into python. (Note that there are no such occurrences in the Kiwi Bubbles dataset.)"
   ]
  },
  {
   "cell_type": "markdown",
   "metadata": {},
   "source": [
    "#### Creating a \"Raw\" Transactions Summary\n",
    "<a id='raw_trans_summary'></a>"
   ]
  },
  {
   "cell_type": "markdown",
   "metadata": {},
   "source": [
    "The first thing we need to do is add a field that indicates the depth-of-repeat level associated with each record; i.e., is this a trial purchase $(\\mathrm{DoR}=0)$, a first repeat purchase $(\\mathrm{DoR}=1$ ), a second repeat purchase ( $\\operatorname{DoR}=2$ ), etc.\n",
    "\n",
    "This is a straightforward exercise. If the panelist ID associated with this record does not equal that of the previous record, we are dealing with a new panelist and we set the depth-of-repeat indicator to 0 . If the panelist ID associated with this record does equal that of the previous record, we are dealing with a repeat purchase by that panelist and we increment the depth-of-repeat indicator by 1."
   ]
  },
  {
   "cell_type": "code",
   "execution_count": 5,
   "metadata": {},
   "outputs": [],
   "source": [
    "kiwi_lf_m2 = (\n",
    "    kiwi_lf_m2\n",
    "    .sort(by='ID')\n",
    "    .with_columns((pl.col(\"ID\").cum_count().over(\"ID\") - 1).cast(pl.UInt16).alias(\"DoR\"))    \n",
    ")"
   ]
  },
  {
   "cell_type": "markdown",
   "metadata": {},
   "source": [
    "The corresponding records for panelist 20014 are shown below with DoR indicator:"
   ]
  },
  {
   "cell_type": "code",
   "execution_count": 6,
   "metadata": {},
   "outputs": [
    {
     "data": {
      "text/html": [
       "<div><style>\n",
       ".dataframe > thead > tr,\n",
       ".dataframe > tbody > tr {\n",
       "  text-align: right;\n",
       "  white-space: pre-wrap;\n",
       "}\n",
       "</style>\n",
       "<small>shape: (9, 5)</small><table border=\"1\" class=\"dataframe\"><thead><tr><th>ID</th><th>Week</th><th>Day</th><th>Units</th><th>DoR</th></tr><tr><td>u16</td><td>i16</td><td>i16</td><td>i16</td><td>u16</td></tr></thead><tbody><tr><td>20014</td><td>4</td><td>2</td><td>1</td><td>0</td></tr><tr><td>20014</td><td>4</td><td>4</td><td>1</td><td>1</td></tr><tr><td>20014</td><td>6</td><td>6</td><td>2</td><td>2</td></tr><tr><td>20014</td><td>7</td><td>2</td><td>3</td><td>3</td></tr><tr><td>20014</td><td>7</td><td>6</td><td>3</td><td>4</td></tr><tr><td>20014</td><td>12</td><td>5</td><td>2</td><td>5</td></tr><tr><td>20014</td><td>17</td><td>6</td><td>1</td><td>6</td></tr><tr><td>20014</td><td>23</td><td>4</td><td>2</td><td>7</td></tr><tr><td>20014</td><td>47</td><td>6</td><td>2</td><td>8</td></tr></tbody></table></div>"
      ],
      "text/plain": [
       "shape: (9, 5)\n",
       "┌───────┬──────┬─────┬───────┬─────┐\n",
       "│ ID    ┆ Week ┆ Day ┆ Units ┆ DoR │\n",
       "│ ---   ┆ ---  ┆ --- ┆ ---   ┆ --- │\n",
       "│ u16   ┆ i16  ┆ i16 ┆ i16   ┆ u16 │\n",
       "╞═══════╪══════╪═════╪═══════╪═════╡\n",
       "│ 20014 ┆ 4    ┆ 2   ┆ 1     ┆ 0   │\n",
       "│ 20014 ┆ 4    ┆ 4   ┆ 1     ┆ 1   │\n",
       "│ 20014 ┆ 6    ┆ 6   ┆ 2     ┆ 2   │\n",
       "│ 20014 ┆ 7    ┆ 2   ┆ 3     ┆ 3   │\n",
       "│ 20014 ┆ 7    ┆ 6   ┆ 3     ┆ 4   │\n",
       "│ 20014 ┆ 12   ┆ 5   ┆ 2     ┆ 5   │\n",
       "│ 20014 ┆ 17   ┆ 6   ┆ 1     ┆ 6   │\n",
       "│ 20014 ┆ 23   ┆ 4   ┆ 2     ┆ 7   │\n",
       "│ 20014 ┆ 47   ┆ 6   ┆ 2     ┆ 8   │\n",
       "└───────┴──────┴─────┴───────┴─────┘"
      ]
     },
     "execution_count": 6,
     "metadata": {},
     "output_type": "execute_result"
    }
   ],
   "source": [
    "kiwi_lf_m2.filter(pl.col('ID') == 20014).collect()"
   ]
  },
  {
   "cell_type": "markdown",
   "metadata": {},
   "source": [
    "The next step is to perform aggregations to the data and create two type of the same data-frame: a **long-form** and **wide-form**.\n",
    "\n",
    "We want there to be 52 rows, one for each week of the test. It turns out, however, that this panel of 1499 households only purchased the test product in 49 weeks; no purchases occurred in weeks 25,39, and 41. How can we create a table that will contain zeros in the rows corresponding to these three weeks? We accomplish this by creating a dummy dataframe that contains the full range of combination of `Week` and `DoR`. There are should be a range of 1 to 52 weeks and a range of 0 to 11 depth-of-repeats. Next, we will join the aggregated dataframes of the main dataset with the dummy dataframe such that it preserves the size of the dummy dataframe and fills the empty combinations with `null` values."
   ]
  },
  {
   "cell_type": "code",
   "execution_count": 7,
   "metadata": {},
   "outputs": [],
   "source": [
    "# Week Range: 1 to 52, DoR Range: 0 to 11 (max(DoR) = 11)\n",
    "week_range, dor_range = np.meshgrid(np.arange(1, 53, dtype='int16'), np.arange(0, 12, dtype='uint16'))\n",
    "# Create a dummy LazyFrame that contains the full range of combinations for Week & DoR\n",
    "dummy_lf = pl.LazyFrame({'Week': week_range.reshape(-1), 'DoR': dor_range.reshape(-1)})\n",
    "\n",
    "agg_trans = (\n",
    "    kiwi_lf_m2\n",
    "    .group_by('Week', 'DoR')\n",
    "    .agg(pl.len().alias('Count'))\n",
    ")\n",
    "\n",
    "week_total_trans = (\n",
    "    agg_trans\n",
    "    .group_by('Week')\n",
    "    .agg(pl.col('Count').sum().alias('Total')) \n",
    ")\n",
    "\n",
    "agg_trans_longform = (\n",
    "    dummy_lf\n",
    "    .join(week_total_trans, on='Week', how='left')\n",
    "    .join(agg_trans, on=['Week', 'DoR'], how='left')\n",
    "    .fill_null(0)\n",
    ")"
   ]
  },
  {
   "cell_type": "markdown",
   "metadata": {},
   "source": [
    "The wide-form is more intuitive and easy to visualize, it tells us how many trial, first repeat, etc. purchases (columns) occurred in each week (rows)."
   ]
  },
  {
   "cell_type": "code",
   "execution_count": 8,
   "metadata": {},
   "outputs": [
    {
     "data": {
      "text/html": [
       "<div><style>\n",
       ".dataframe > thead > tr,\n",
       ".dataframe > tbody > tr {\n",
       "  text-align: right;\n",
       "  white-space: pre-wrap;\n",
       "}\n",
       "</style>\n",
       "<small>shape: (52, 14)</small><table border=\"1\" class=\"dataframe\"><thead><tr><th>Week</th><th>0</th><th>1</th><th>2</th><th>3</th><th>4</th><th>5</th><th>6</th><th>7</th><th>8</th><th>9</th><th>10</th><th>11</th><th>Total</th></tr><tr><td>i16</td><td>u32</td><td>u32</td><td>u32</td><td>u32</td><td>u32</td><td>u32</td><td>u32</td><td>u32</td><td>u32</td><td>u32</td><td>u32</td><td>u32</td><td>u32</td></tr></thead><tbody><tr><td>1</td><td>8</td><td>1</td><td>0</td><td>0</td><td>0</td><td>0</td><td>0</td><td>0</td><td>0</td><td>0</td><td>0</td><td>0</td><td>9</td></tr><tr><td>2</td><td>6</td><td>0</td><td>0</td><td>0</td><td>0</td><td>0</td><td>0</td><td>0</td><td>0</td><td>0</td><td>0</td><td>0</td><td>6</td></tr><tr><td>3</td><td>2</td><td>1</td><td>0</td><td>0</td><td>0</td><td>0</td><td>0</td><td>0</td><td>0</td><td>0</td><td>0</td><td>0</td><td>3</td></tr><tr><td>4</td><td>16</td><td>2</td><td>0</td><td>0</td><td>0</td><td>0</td><td>0</td><td>0</td><td>0</td><td>0</td><td>0</td><td>0</td><td>18</td></tr><tr><td>5</td><td>8</td><td>3</td><td>0</td><td>0</td><td>0</td><td>0</td><td>0</td><td>0</td><td>0</td><td>0</td><td>0</td><td>0</td><td>11</td></tr><tr><td>&hellip;</td><td>&hellip;</td><td>&hellip;</td><td>&hellip;</td><td>&hellip;</td><td>&hellip;</td><td>&hellip;</td><td>&hellip;</td><td>&hellip;</td><td>&hellip;</td><td>&hellip;</td><td>&hellip;</td><td>&hellip;</td><td>&hellip;</td></tr><tr><td>48</td><td>1</td><td>1</td><td>1</td><td>1</td><td>0</td><td>0</td><td>0</td><td>1</td><td>0</td><td>0</td><td>0</td><td>0</td><td>5</td></tr><tr><td>49</td><td>4</td><td>0</td><td>0</td><td>0</td><td>0</td><td>2</td><td>0</td><td>1</td><td>1</td><td>0</td><td>0</td><td>0</td><td>8</td></tr><tr><td>50</td><td>0</td><td>2</td><td>0</td><td>0</td><td>0</td><td>0</td><td>0</td><td>1</td><td>2</td><td>1</td><td>1</td><td>1</td><td>8</td></tr><tr><td>51</td><td>0</td><td>1</td><td>0</td><td>0</td><td>0</td><td>0</td><td>0</td><td>1</td><td>0</td><td>0</td><td>0</td><td>0</td><td>2</td></tr><tr><td>52</td><td>2</td><td>1</td><td>1</td><td>1</td><td>0</td><td>0</td><td>0</td><td>0</td><td>0</td><td>1</td><td>0</td><td>0</td><td>6</td></tr></tbody></table></div>"
      ],
      "text/plain": [
       "shape: (52, 14)\n",
       "┌──────┬─────┬─────┬─────┬───┬─────┬─────┬─────┬───────┐\n",
       "│ Week ┆ 0   ┆ 1   ┆ 2   ┆ … ┆ 9   ┆ 10  ┆ 11  ┆ Total │\n",
       "│ ---  ┆ --- ┆ --- ┆ --- ┆   ┆ --- ┆ --- ┆ --- ┆ ---   │\n",
       "│ i16  ┆ u32 ┆ u32 ┆ u32 ┆   ┆ u32 ┆ u32 ┆ u32 ┆ u32   │\n",
       "╞══════╪═════╪═════╪═════╪═══╪═════╪═════╪═════╪═══════╡\n",
       "│ 1    ┆ 8   ┆ 1   ┆ 0   ┆ … ┆ 0   ┆ 0   ┆ 0   ┆ 9     │\n",
       "│ 2    ┆ 6   ┆ 0   ┆ 0   ┆ … ┆ 0   ┆ 0   ┆ 0   ┆ 6     │\n",
       "│ 3    ┆ 2   ┆ 1   ┆ 0   ┆ … ┆ 0   ┆ 0   ┆ 0   ┆ 3     │\n",
       "│ 4    ┆ 16  ┆ 2   ┆ 0   ┆ … ┆ 0   ┆ 0   ┆ 0   ┆ 18    │\n",
       "│ 5    ┆ 8   ┆ 3   ┆ 0   ┆ … ┆ 0   ┆ 0   ┆ 0   ┆ 11    │\n",
       "│ …    ┆ …   ┆ …   ┆ …   ┆ … ┆ …   ┆ …   ┆ …   ┆ …     │\n",
       "│ 48   ┆ 1   ┆ 1   ┆ 1   ┆ … ┆ 0   ┆ 0   ┆ 0   ┆ 5     │\n",
       "│ 49   ┆ 4   ┆ 0   ┆ 0   ┆ … ┆ 0   ┆ 0   ┆ 0   ┆ 8     │\n",
       "│ 50   ┆ 0   ┆ 2   ┆ 0   ┆ … ┆ 1   ┆ 1   ┆ 1   ┆ 8     │\n",
       "│ 51   ┆ 0   ┆ 1   ┆ 0   ┆ … ┆ 0   ┆ 0   ┆ 0   ┆ 2     │\n",
       "│ 52   ┆ 2   ┆ 1   ┆ 1   ┆ … ┆ 1   ┆ 0   ┆ 0   ┆ 6     │\n",
       "└──────┴─────┴─────┴─────┴───┴─────┴─────┴─────┴───────┘"
      ]
     },
     "metadata": {},
     "output_type": "display_data"
    },
    {
     "data": {
      "text/html": [
       "<div><style>\n",
       ".dataframe > thead > tr,\n",
       ".dataframe > tbody > tr {\n",
       "  text-align: right;\n",
       "  white-space: pre-wrap;\n",
       "}\n",
       "</style>\n",
       "<small>shape: (1, 13)</small><table border=\"1\" class=\"dataframe\"><thead><tr><th>0</th><th>1</th><th>2</th><th>3</th><th>4</th><th>5</th><th>6</th><th>7</th><th>8</th><th>9</th><th>10</th><th>11</th><th>Total</th></tr><tr><td>u32</td><td>u32</td><td>u32</td><td>u32</td><td>u32</td><td>u32</td><td>u32</td><td>u32</td><td>u32</td><td>u32</td><td>u32</td><td>u32</td><td>u32</td></tr></thead><tbody><tr><td>139</td><td>52</td><td>31</td><td>23</td><td>17</td><td>14</td><td>9</td><td>8</td><td>6</td><td>4</td><td>2</td><td>1</td><td>306</td></tr></tbody></table></div>"
      ],
      "text/plain": [
       "shape: (1, 13)\n",
       "┌─────┬─────┬─────┬─────┬───┬─────┬─────┬─────┬───────┐\n",
       "│ 0   ┆ 1   ┆ 2   ┆ 3   ┆ … ┆ 9   ┆ 10  ┆ 11  ┆ Total │\n",
       "│ --- ┆ --- ┆ --- ┆ --- ┆   ┆ --- ┆ --- ┆ --- ┆ ---   │\n",
       "│ u32 ┆ u32 ┆ u32 ┆ u32 ┆   ┆ u32 ┆ u32 ┆ u32 ┆ u32   │\n",
       "╞═════╪═════╪═════╪═════╪═══╪═════╪═════╪═════╪═══════╡\n",
       "│ 139 ┆ 52  ┆ 31  ┆ 23  ┆ … ┆ 4   ┆ 2   ┆ 1   ┆ 306   │\n",
       "└─────┴─────┴─────┴─────┴───┴─────┴─────┴─────┴───────┘"
      ]
     },
     "metadata": {},
     "output_type": "display_data"
    }
   ],
   "source": [
    "agg_trans_wideform = (\n",
    "    agg_trans_longform\n",
    "    .collect()\n",
    "    .pivot(on='DoR', index='Week', values='Count')\n",
    "    .join(week_total_trans.collect(), on='Week', how='left')\n",
    ")\n",
    "\n",
    "col_total = agg_trans_wideform.select(pl.col('*').exclude('Week').sum())\n",
    "\n",
    "display(agg_trans_wideform)\n",
    "display(col_total)"
   ]
  },
  {
   "cell_type": "markdown",
   "metadata": {},
   "source": [
    "We note that there are no entries in the rows corresponding to weeks 25, 39, and 41. Over the year-long test, 139 of the 1499 panelists made at least one purchase of the new product, with a total of 306 purchase occasions. We also note that by the end of the year, one person had made eleven repeat purchases of the new product."
   ]
  },
  {
   "cell_type": "markdown",
   "metadata": {},
   "source": [
    "A cleaned-up summary that reports these weekly transactions in cumulative form (i.e., $T(t), R_{1}(t), R_{2}(t)$, etc.) is created created below:"
   ]
  },
  {
   "cell_type": "code",
   "execution_count": 9,
   "metadata": {},
   "outputs": [
    {
     "data": {
      "text/html": [
       "<div><style>\n",
       ".dataframe > thead > tr,\n",
       ".dataframe > tbody > tr {\n",
       "  text-align: right;\n",
       "  white-space: pre-wrap;\n",
       "}\n",
       "</style>\n",
       "<small>shape: (52, 13)</small><table border=\"1\" class=\"dataframe\"><thead><tr><th>Week</th><th>0</th><th>1</th><th>2</th><th>3</th><th>4</th><th>5</th><th>6</th><th>7</th><th>8</th><th>9</th><th>10</th><th>11</th></tr><tr><td>i16</td><td>u32</td><td>u32</td><td>u32</td><td>u32</td><td>u32</td><td>u32</td><td>u32</td><td>u32</td><td>u32</td><td>u32</td><td>u32</td><td>u32</td></tr></thead><tbody><tr><td>1</td><td>8</td><td>1</td><td>0</td><td>0</td><td>0</td><td>0</td><td>0</td><td>0</td><td>0</td><td>0</td><td>0</td><td>0</td></tr><tr><td>2</td><td>14</td><td>1</td><td>0</td><td>0</td><td>0</td><td>0</td><td>0</td><td>0</td><td>0</td><td>0</td><td>0</td><td>0</td></tr><tr><td>3</td><td>16</td><td>2</td><td>0</td><td>0</td><td>0</td><td>0</td><td>0</td><td>0</td><td>0</td><td>0</td><td>0</td><td>0</td></tr><tr><td>4</td><td>32</td><td>4</td><td>0</td><td>0</td><td>0</td><td>0</td><td>0</td><td>0</td><td>0</td><td>0</td><td>0</td><td>0</td></tr><tr><td>5</td><td>40</td><td>7</td><td>0</td><td>0</td><td>0</td><td>0</td><td>0</td><td>0</td><td>0</td><td>0</td><td>0</td><td>0</td></tr><tr><td>&hellip;</td><td>&hellip;</td><td>&hellip;</td><td>&hellip;</td><td>&hellip;</td><td>&hellip;</td><td>&hellip;</td><td>&hellip;</td><td>&hellip;</td><td>&hellip;</td><td>&hellip;</td><td>&hellip;</td><td>&hellip;</td></tr><tr><td>48</td><td>133</td><td>48</td><td>30</td><td>22</td><td>17</td><td>12</td><td>9</td><td>5</td><td>3</td><td>2</td><td>1</td><td>0</td></tr><tr><td>49</td><td>137</td><td>48</td><td>30</td><td>22</td><td>17</td><td>14</td><td>9</td><td>6</td><td>4</td><td>2</td><td>1</td><td>0</td></tr><tr><td>50</td><td>137</td><td>50</td><td>30</td><td>22</td><td>17</td><td>14</td><td>9</td><td>7</td><td>6</td><td>3</td><td>2</td><td>1</td></tr><tr><td>51</td><td>137</td><td>51</td><td>30</td><td>22</td><td>17</td><td>14</td><td>9</td><td>8</td><td>6</td><td>3</td><td>2</td><td>1</td></tr><tr><td>52</td><td>139</td><td>52</td><td>31</td><td>23</td><td>17</td><td>14</td><td>9</td><td>8</td><td>6</td><td>4</td><td>2</td><td>1</td></tr></tbody></table></div>"
      ],
      "text/plain": [
       "shape: (52, 13)\n",
       "┌──────┬─────┬─────┬─────┬───┬─────┬─────┬─────┬─────┐\n",
       "│ Week ┆ 0   ┆ 1   ┆ 2   ┆ … ┆ 8   ┆ 9   ┆ 10  ┆ 11  │\n",
       "│ ---  ┆ --- ┆ --- ┆ --- ┆   ┆ --- ┆ --- ┆ --- ┆ --- │\n",
       "│ i16  ┆ u32 ┆ u32 ┆ u32 ┆   ┆ u32 ┆ u32 ┆ u32 ┆ u32 │\n",
       "╞══════╪═════╪═════╪═════╪═══╪═════╪═════╪═════╪═════╡\n",
       "│ 1    ┆ 8   ┆ 1   ┆ 0   ┆ … ┆ 0   ┆ 0   ┆ 0   ┆ 0   │\n",
       "│ 2    ┆ 14  ┆ 1   ┆ 0   ┆ … ┆ 0   ┆ 0   ┆ 0   ┆ 0   │\n",
       "│ 3    ┆ 16  ┆ 2   ┆ 0   ┆ … ┆ 0   ┆ 0   ┆ 0   ┆ 0   │\n",
       "│ 4    ┆ 32  ┆ 4   ┆ 0   ┆ … ┆ 0   ┆ 0   ┆ 0   ┆ 0   │\n",
       "│ 5    ┆ 40  ┆ 7   ┆ 0   ┆ … ┆ 0   ┆ 0   ┆ 0   ┆ 0   │\n",
       "│ …    ┆ …   ┆ …   ┆ …   ┆ … ┆ …   ┆ …   ┆ …   ┆ …   │\n",
       "│ 48   ┆ 133 ┆ 48  ┆ 30  ┆ … ┆ 3   ┆ 2   ┆ 1   ┆ 0   │\n",
       "│ 49   ┆ 137 ┆ 48  ┆ 30  ┆ … ┆ 4   ┆ 2   ┆ 1   ┆ 0   │\n",
       "│ 50   ┆ 137 ┆ 50  ┆ 30  ┆ … ┆ 6   ┆ 3   ┆ 2   ┆ 1   │\n",
       "│ 51   ┆ 137 ┆ 51  ┆ 30  ┆ … ┆ 6   ┆ 3   ┆ 2   ┆ 1   │\n",
       "│ 52   ┆ 139 ┆ 52  ┆ 31  ┆ … ┆ 6   ┆ 4   ┆ 2   ┆ 1   │\n",
       "└──────┴─────┴─────┴─────┴───┴─────┴─────┴─────┴─────┘"
      ]
     },
     "metadata": {},
     "output_type": "display_data"
    }
   ],
   "source": [
    "cum_trans_longform = agg_trans_longform.with_columns(pl.col('Count').cum_sum().over('DoR').alias('Cum DoR'))\n",
    "cum_trans_wideform = cum_trans_longform.collect().pivot(on='DoR', index='Week', values='Cum DoR')\n",
    "\n",
    "display(cum_trans_wideform)"
   ]
  },
  {
   "cell_type": "markdown",
   "metadata": {},
   "source": [
    "#### Creating a \"Raw\" Sales Volume Summary\n",
    "<a id='raw_vol_summary'></a>"
   ]
  },
  {
   "cell_type": "markdown",
   "metadata": {},
   "source": [
    "Having created a weekly transaction by depth-of-repeat level summary, it is extremely easy to create an equivalent **sales volume** (e.g., units) summary. Here, instead of counting IDs or length of aggregated dataframe as the value item, we sum `Units`. We note that a total of 396 units of the product were purchased (across the 306 purchase occasions)."
   ]
  },
  {
   "cell_type": "code",
   "execution_count": 10,
   "metadata": {},
   "outputs": [],
   "source": [
    "agg_vol = (\n",
    "    kiwi_lf_m2\n",
    "    .group_by('Week', 'DoR')\n",
    "    .agg(pl.col('Units').sum().alias('Units'))\n",
    ")\n",
    "\n",
    "week_total_vol = (\n",
    "    agg_vol\n",
    "    .group_by('Week')\n",
    "    .agg(pl.col('Units').sum().alias('Total')) \n",
    ")\n",
    "\n",
    "agg_vol_longform = (\n",
    "    dummy_lf\n",
    "    .join(agg_vol, on=['Week', 'DoR'], how='left')\n",
    "    .join(week_total_vol, on='Week', how='left')\n",
    "    .fill_null(0)\n",
    ")"
   ]
  },
  {
   "cell_type": "code",
   "execution_count": 11,
   "metadata": {},
   "outputs": [
    {
     "data": {
      "text/html": [
       "<div><style>\n",
       ".dataframe > thead > tr,\n",
       ".dataframe > tbody > tr {\n",
       "  text-align: right;\n",
       "  white-space: pre-wrap;\n",
       "}\n",
       "</style>\n",
       "<small>shape: (52, 14)</small><table border=\"1\" class=\"dataframe\"><thead><tr><th>Week</th><th>0</th><th>1</th><th>2</th><th>3</th><th>4</th><th>5</th><th>6</th><th>7</th><th>8</th><th>9</th><th>10</th><th>11</th><th>Total</th></tr><tr><td>i16</td><td>i64</td><td>i64</td><td>i64</td><td>i64</td><td>i64</td><td>i64</td><td>i64</td><td>i64</td><td>i64</td><td>i64</td><td>i64</td><td>i64</td><td>i64</td></tr></thead><tbody><tr><td>1</td><td>9</td><td>1</td><td>0</td><td>0</td><td>0</td><td>0</td><td>0</td><td>0</td><td>0</td><td>0</td><td>0</td><td>0</td><td>10</td></tr><tr><td>2</td><td>6</td><td>0</td><td>0</td><td>0</td><td>0</td><td>0</td><td>0</td><td>0</td><td>0</td><td>0</td><td>0</td><td>0</td><td>6</td></tr><tr><td>3</td><td>2</td><td>1</td><td>0</td><td>0</td><td>0</td><td>0</td><td>0</td><td>0</td><td>0</td><td>0</td><td>0</td><td>0</td><td>3</td></tr><tr><td>4</td><td>19</td><td>3</td><td>0</td><td>0</td><td>0</td><td>0</td><td>0</td><td>0</td><td>0</td><td>0</td><td>0</td><td>0</td><td>22</td></tr><tr><td>5</td><td>8</td><td>3</td><td>0</td><td>0</td><td>0</td><td>0</td><td>0</td><td>0</td><td>0</td><td>0</td><td>0</td><td>0</td><td>11</td></tr><tr><td>&hellip;</td><td>&hellip;</td><td>&hellip;</td><td>&hellip;</td><td>&hellip;</td><td>&hellip;</td><td>&hellip;</td><td>&hellip;</td><td>&hellip;</td><td>&hellip;</td><td>&hellip;</td><td>&hellip;</td><td>&hellip;</td><td>&hellip;</td></tr><tr><td>48</td><td>1</td><td>1</td><td>1</td><td>1</td><td>0</td><td>0</td><td>0</td><td>1</td><td>0</td><td>0</td><td>0</td><td>0</td><td>5</td></tr><tr><td>49</td><td>4</td><td>0</td><td>0</td><td>0</td><td>0</td><td>2</td><td>0</td><td>2</td><td>1</td><td>0</td><td>0</td><td>0</td><td>9</td></tr><tr><td>50</td><td>0</td><td>2</td><td>0</td><td>0</td><td>0</td><td>0</td><td>0</td><td>1</td><td>3</td><td>2</td><td>2</td><td>1</td><td>11</td></tr><tr><td>51</td><td>0</td><td>2</td><td>0</td><td>0</td><td>0</td><td>0</td><td>0</td><td>2</td><td>0</td><td>0</td><td>0</td><td>0</td><td>4</td></tr><tr><td>52</td><td>2</td><td>1</td><td>1</td><td>2</td><td>0</td><td>0</td><td>0</td><td>0</td><td>0</td><td>2</td><td>0</td><td>0</td><td>8</td></tr></tbody></table></div>"
      ],
      "text/plain": [
       "shape: (52, 14)\n",
       "┌──────┬─────┬─────┬─────┬───┬─────┬─────┬─────┬───────┐\n",
       "│ Week ┆ 0   ┆ 1   ┆ 2   ┆ … ┆ 9   ┆ 10  ┆ 11  ┆ Total │\n",
       "│ ---  ┆ --- ┆ --- ┆ --- ┆   ┆ --- ┆ --- ┆ --- ┆ ---   │\n",
       "│ i16  ┆ i64 ┆ i64 ┆ i64 ┆   ┆ i64 ┆ i64 ┆ i64 ┆ i64   │\n",
       "╞══════╪═════╪═════╪═════╪═══╪═════╪═════╪═════╪═══════╡\n",
       "│ 1    ┆ 9   ┆ 1   ┆ 0   ┆ … ┆ 0   ┆ 0   ┆ 0   ┆ 10    │\n",
       "│ 2    ┆ 6   ┆ 0   ┆ 0   ┆ … ┆ 0   ┆ 0   ┆ 0   ┆ 6     │\n",
       "│ 3    ┆ 2   ┆ 1   ┆ 0   ┆ … ┆ 0   ┆ 0   ┆ 0   ┆ 3     │\n",
       "│ 4    ┆ 19  ┆ 3   ┆ 0   ┆ … ┆ 0   ┆ 0   ┆ 0   ┆ 22    │\n",
       "│ 5    ┆ 8   ┆ 3   ┆ 0   ┆ … ┆ 0   ┆ 0   ┆ 0   ┆ 11    │\n",
       "│ …    ┆ …   ┆ …   ┆ …   ┆ … ┆ …   ┆ …   ┆ …   ┆ …     │\n",
       "│ 48   ┆ 1   ┆ 1   ┆ 1   ┆ … ┆ 0   ┆ 0   ┆ 0   ┆ 5     │\n",
       "│ 49   ┆ 4   ┆ 0   ┆ 0   ┆ … ┆ 0   ┆ 0   ┆ 0   ┆ 9     │\n",
       "│ 50   ┆ 0   ┆ 2   ┆ 0   ┆ … ┆ 2   ┆ 2   ┆ 1   ┆ 11    │\n",
       "│ 51   ┆ 0   ┆ 2   ┆ 0   ┆ … ┆ 0   ┆ 0   ┆ 0   ┆ 4     │\n",
       "│ 52   ┆ 2   ┆ 1   ┆ 1   ┆ … ┆ 2   ┆ 0   ┆ 0   ┆ 8     │\n",
       "└──────┴─────┴─────┴─────┴───┴─────┴─────┴─────┴───────┘"
      ]
     },
     "metadata": {},
     "output_type": "display_data"
    },
    {
     "data": {
      "text/html": [
       "<div><style>\n",
       ".dataframe > thead > tr,\n",
       ".dataframe > tbody > tr {\n",
       "  text-align: right;\n",
       "  white-space: pre-wrap;\n",
       "}\n",
       "</style>\n",
       "<small>shape: (1, 13)</small><table border=\"1\" class=\"dataframe\"><thead><tr><th>0</th><th>1</th><th>2</th><th>3</th><th>4</th><th>5</th><th>6</th><th>7</th><th>8</th><th>9</th><th>10</th><th>11</th><th>Total</th></tr><tr><td>i64</td><td>i64</td><td>i64</td><td>i64</td><td>i64</td><td>i64</td><td>i64</td><td>i64</td><td>i64</td><td>i64</td><td>i64</td><td>i64</td><td>i64</td></tr></thead><tbody><tr><td>161</td><td>64</td><td>42</td><td>30</td><td>24</td><td>20</td><td>14</td><td>19</td><td>10</td><td>7</td><td>4</td><td>1</td><td>396</td></tr></tbody></table></div>"
      ],
      "text/plain": [
       "shape: (1, 13)\n",
       "┌─────┬─────┬─────┬─────┬───┬─────┬─────┬─────┬───────┐\n",
       "│ 0   ┆ 1   ┆ 2   ┆ 3   ┆ … ┆ 9   ┆ 10  ┆ 11  ┆ Total │\n",
       "│ --- ┆ --- ┆ --- ┆ --- ┆   ┆ --- ┆ --- ┆ --- ┆ ---   │\n",
       "│ i64 ┆ i64 ┆ i64 ┆ i64 ┆   ┆ i64 ┆ i64 ┆ i64 ┆ i64   │\n",
       "╞═════╪═════╪═════╪═════╪═══╪═════╪═════╪═════╪═══════╡\n",
       "│ 161 ┆ 64  ┆ 42  ┆ 30  ┆ … ┆ 7   ┆ 4   ┆ 1   ┆ 396   │\n",
       "└─────┴─────┴─────┴─────┴───┴─────┴─────┴─────┴───────┘"
      ]
     },
     "metadata": {},
     "output_type": "display_data"
    }
   ],
   "source": [
    "agg_vol_wideform = (\n",
    "    agg_vol_longform\n",
    "    .collect()\n",
    "    .pivot(on='DoR', index='Week', values='Units')\n",
    "    .join(week_total_vol.collect(), on='Week', how='left')\n",
    ")\n",
    "\n",
    "col_total = agg_vol_wideform.select(pl.col('*').exclude('Week').sum())\n",
    "\n",
    "display(agg_vol_wideform)\n",
    "display(col_total)"
   ]
  },
  {
   "cell_type": "markdown",
   "metadata": {},
   "source": [
    "A cleaned-up summary that reports these weekly transactions in cumulative form is created below. We note that a total of 161 units were purchased on the 139 trial purchase occasions, an average 1.16 units per trial purchase."
   ]
  },
  {
   "cell_type": "code",
   "execution_count": 12,
   "metadata": {},
   "outputs": [
    {
     "data": {
      "text/html": [
       "<div><style>\n",
       ".dataframe > thead > tr,\n",
       ".dataframe > tbody > tr {\n",
       "  text-align: right;\n",
       "  white-space: pre-wrap;\n",
       "}\n",
       "</style>\n",
       "<small>shape: (52, 13)</small><table border=\"1\" class=\"dataframe\"><thead><tr><th>Week</th><th>0</th><th>1</th><th>2</th><th>3</th><th>4</th><th>5</th><th>6</th><th>7</th><th>8</th><th>9</th><th>10</th><th>11</th></tr><tr><td>i16</td><td>i64</td><td>i64</td><td>i64</td><td>i64</td><td>i64</td><td>i64</td><td>i64</td><td>i64</td><td>i64</td><td>i64</td><td>i64</td><td>i64</td></tr></thead><tbody><tr><td>1</td><td>9</td><td>1</td><td>0</td><td>0</td><td>0</td><td>0</td><td>0</td><td>0</td><td>0</td><td>0</td><td>0</td><td>0</td></tr><tr><td>2</td><td>15</td><td>1</td><td>0</td><td>0</td><td>0</td><td>0</td><td>0</td><td>0</td><td>0</td><td>0</td><td>0</td><td>0</td></tr><tr><td>3</td><td>17</td><td>2</td><td>0</td><td>0</td><td>0</td><td>0</td><td>0</td><td>0</td><td>0</td><td>0</td><td>0</td><td>0</td></tr><tr><td>4</td><td>36</td><td>5</td><td>0</td><td>0</td><td>0</td><td>0</td><td>0</td><td>0</td><td>0</td><td>0</td><td>0</td><td>0</td></tr><tr><td>5</td><td>44</td><td>8</td><td>0</td><td>0</td><td>0</td><td>0</td><td>0</td><td>0</td><td>0</td><td>0</td><td>0</td><td>0</td></tr><tr><td>&hellip;</td><td>&hellip;</td><td>&hellip;</td><td>&hellip;</td><td>&hellip;</td><td>&hellip;</td><td>&hellip;</td><td>&hellip;</td><td>&hellip;</td><td>&hellip;</td><td>&hellip;</td><td>&hellip;</td><td>&hellip;</td></tr><tr><td>48</td><td>155</td><td>59</td><td>41</td><td>28</td><td>24</td><td>18</td><td>14</td><td>14</td><td>6</td><td>3</td><td>2</td><td>0</td></tr><tr><td>49</td><td>159</td><td>59</td><td>41</td><td>28</td><td>24</td><td>20</td><td>14</td><td>16</td><td>7</td><td>3</td><td>2</td><td>0</td></tr><tr><td>50</td><td>159</td><td>61</td><td>41</td><td>28</td><td>24</td><td>20</td><td>14</td><td>17</td><td>10</td><td>5</td><td>4</td><td>1</td></tr><tr><td>51</td><td>159</td><td>63</td><td>41</td><td>28</td><td>24</td><td>20</td><td>14</td><td>19</td><td>10</td><td>5</td><td>4</td><td>1</td></tr><tr><td>52</td><td>161</td><td>64</td><td>42</td><td>30</td><td>24</td><td>20</td><td>14</td><td>19</td><td>10</td><td>7</td><td>4</td><td>1</td></tr></tbody></table></div>"
      ],
      "text/plain": [
       "shape: (52, 13)\n",
       "┌──────┬─────┬─────┬─────┬───┬─────┬─────┬─────┬─────┐\n",
       "│ Week ┆ 0   ┆ 1   ┆ 2   ┆ … ┆ 8   ┆ 9   ┆ 10  ┆ 11  │\n",
       "│ ---  ┆ --- ┆ --- ┆ --- ┆   ┆ --- ┆ --- ┆ --- ┆ --- │\n",
       "│ i16  ┆ i64 ┆ i64 ┆ i64 ┆   ┆ i64 ┆ i64 ┆ i64 ┆ i64 │\n",
       "╞══════╪═════╪═════╪═════╪═══╪═════╪═════╪═════╪═════╡\n",
       "│ 1    ┆ 9   ┆ 1   ┆ 0   ┆ … ┆ 0   ┆ 0   ┆ 0   ┆ 0   │\n",
       "│ 2    ┆ 15  ┆ 1   ┆ 0   ┆ … ┆ 0   ┆ 0   ┆ 0   ┆ 0   │\n",
       "│ 3    ┆ 17  ┆ 2   ┆ 0   ┆ … ┆ 0   ┆ 0   ┆ 0   ┆ 0   │\n",
       "│ 4    ┆ 36  ┆ 5   ┆ 0   ┆ … ┆ 0   ┆ 0   ┆ 0   ┆ 0   │\n",
       "│ 5    ┆ 44  ┆ 8   ┆ 0   ┆ … ┆ 0   ┆ 0   ┆ 0   ┆ 0   │\n",
       "│ …    ┆ …   ┆ …   ┆ …   ┆ … ┆ …   ┆ …   ┆ …   ┆ …   │\n",
       "│ 48   ┆ 155 ┆ 59  ┆ 41  ┆ … ┆ 6   ┆ 3   ┆ 2   ┆ 0   │\n",
       "│ 49   ┆ 159 ┆ 59  ┆ 41  ┆ … ┆ 7   ┆ 3   ┆ 2   ┆ 0   │\n",
       "│ 50   ┆ 159 ┆ 61  ┆ 41  ┆ … ┆ 10  ┆ 5   ┆ 4   ┆ 1   │\n",
       "│ 51   ┆ 159 ┆ 63  ┆ 41  ┆ … ┆ 10  ┆ 5   ┆ 4   ┆ 1   │\n",
       "│ 52   ┆ 161 ┆ 64  ┆ 42  ┆ … ┆ 10  ┆ 7   ┆ 4   ┆ 1   │\n",
       "└──────┴─────┴─────┴─────┴───┴─────┴─────┴─────┴─────┘"
      ]
     },
     "metadata": {},
     "output_type": "display_data"
    }
   ],
   "source": [
    "cum_vol_longform = agg_vol_longform.with_columns(pl.col('Units').cum_sum().over('DoR').alias('Cum DoR'))\n",
    "cum_vol_wideform = cum_vol_longform.collect().pivot(on='DoR', index='Week', values='Cum DoR')\n",
    "\n",
    "display(cum_vol_wideform)"
   ]
  },
  {
   "cell_type": "markdown",
   "metadata": {},
   "source": [
    "#### Creating a \"Shifted\" Transactions Summary\n",
    "<a id='raw_shifted_trans_summary'></a>"
   ]
  },
  {
   "cell_type": "markdown",
   "metadata": {},
   "source": [
    "We now turn our attention to the task of creating a weekly transaction by depth-of-repeat level summary under the assumption that a customer can have only one transaction per week. In other words, a second purchase within a single week is \"shifted\" to the next week (i.e., coded as occurring in the following week).\n",
    "\n",
    "Referring back to panellist `20014`, the field that indicates the depth-of-repeat level associated with each record (DoR) is correct. What we need to do is makes some changes to the week field: we want the week associated with the first repeat purchase to be 5, and the week associated with the fourth repeat purchase to be 8. One solution would be to create a new week variable that equals the original week variable +1 if the week associated with the current record is the same as that of the previous record. But what if we have three purchases occurring in the same week?"
   ]
  },
  {
   "cell_type": "code",
   "execution_count": 13,
   "metadata": {},
   "outputs": [
    {
     "data": {
      "text/html": [
       "<div><style>\n",
       ".dataframe > thead > tr,\n",
       ".dataframe > tbody > tr {\n",
       "  text-align: right;\n",
       "  white-space: pre-wrap;\n",
       "}\n",
       "</style>\n",
       "<small>shape: (9, 5)</small><table border=\"1\" class=\"dataframe\"><thead><tr><th>ID</th><th>Week</th><th>Day</th><th>Units</th><th>DoR</th></tr><tr><td>u16</td><td>i16</td><td>i16</td><td>i16</td><td>u16</td></tr></thead><tbody><tr><td>20014</td><td>4</td><td>2</td><td>1</td><td>0</td></tr><tr><td>20014</td><td>4</td><td>4</td><td>1</td><td>1</td></tr><tr><td>20014</td><td>6</td><td>6</td><td>2</td><td>2</td></tr><tr><td>20014</td><td>7</td><td>2</td><td>3</td><td>3</td></tr><tr><td>20014</td><td>7</td><td>6</td><td>3</td><td>4</td></tr><tr><td>20014</td><td>12</td><td>5</td><td>2</td><td>5</td></tr><tr><td>20014</td><td>17</td><td>6</td><td>1</td><td>6</td></tr><tr><td>20014</td><td>23</td><td>4</td><td>2</td><td>7</td></tr><tr><td>20014</td><td>47</td><td>6</td><td>2</td><td>8</td></tr></tbody></table></div>"
      ],
      "text/plain": [
       "shape: (9, 5)\n",
       "┌───────┬──────┬─────┬───────┬─────┐\n",
       "│ ID    ┆ Week ┆ Day ┆ Units ┆ DoR │\n",
       "│ ---   ┆ ---  ┆ --- ┆ ---   ┆ --- │\n",
       "│ u16   ┆ i16  ┆ i16 ┆ i16   ┆ u16 │\n",
       "╞═══════╪══════╪═════╪═══════╪═════╡\n",
       "│ 20014 ┆ 4    ┆ 2   ┆ 1     ┆ 0   │\n",
       "│ 20014 ┆ 4    ┆ 4   ┆ 1     ┆ 1   │\n",
       "│ 20014 ┆ 6    ┆ 6   ┆ 2     ┆ 2   │\n",
       "│ 20014 ┆ 7    ┆ 2   ┆ 3     ┆ 3   │\n",
       "│ 20014 ┆ 7    ┆ 6   ┆ 3     ┆ 4   │\n",
       "│ 20014 ┆ 12   ┆ 5   ┆ 2     ┆ 5   │\n",
       "│ 20014 ┆ 17   ┆ 6   ┆ 1     ┆ 6   │\n",
       "│ 20014 ┆ 23   ┆ 4   ┆ 2     ┆ 7   │\n",
       "│ 20014 ┆ 47   ┆ 6   ┆ 2     ┆ 8   │\n",
       "└───────┴──────┴─────┴───────┴─────┘"
      ]
     },
     "execution_count": 13,
     "metadata": {},
     "output_type": "execute_result"
    }
   ],
   "source": [
    "kiwi_lf_m2.filter(pl.col('ID') == 20014).collect()"
   ]
  },
  {
   "cell_type": "code",
   "execution_count": 14,
   "metadata": {},
   "outputs": [
    {
     "data": {
      "text/html": [
       "<div><style>\n",
       ".dataframe > thead > tr,\n",
       ".dataframe > tbody > tr {\n",
       "  text-align: right;\n",
       "  white-space: pre-wrap;\n",
       "}\n",
       "</style>\n",
       "<small>shape: (3, 5)</small><table border=\"1\" class=\"dataframe\"><thead><tr><th>ID</th><th>Week</th><th>Day</th><th>Units</th><th>DoR</th></tr><tr><td>u16</td><td>i16</td><td>i16</td><td>i16</td><td>u16</td></tr></thead><tbody><tr><td>20069</td><td>18</td><td>1</td><td>1</td><td>0</td></tr><tr><td>20069</td><td>18</td><td>5</td><td>1</td><td>1</td></tr><tr><td>20069</td><td>19</td><td>4</td><td>2</td><td>2</td></tr></tbody></table></div>"
      ],
      "text/plain": [
       "shape: (3, 5)\n",
       "┌───────┬──────┬─────┬───────┬─────┐\n",
       "│ ID    ┆ Week ┆ Day ┆ Units ┆ DoR │\n",
       "│ ---   ┆ ---  ┆ --- ┆ ---   ┆ --- │\n",
       "│ u16   ┆ i16  ┆ i16 ┆ i16   ┆ u16 │\n",
       "╞═══════╪══════╪═════╪═══════╪═════╡\n",
       "│ 20069 ┆ 18   ┆ 1   ┆ 1     ┆ 0   │\n",
       "│ 20069 ┆ 18   ┆ 5   ┆ 1     ┆ 1   │\n",
       "│ 20069 ┆ 19   ┆ 4   ┆ 2     ┆ 2   │\n",
       "└───────┴──────┴─────┴───────┴─────┘"
      ]
     },
     "execution_count": 14,
     "metadata": {},
     "output_type": "execute_result"
    }
   ],
   "source": [
    "kiwi_lf_m2.filter(pl.col('ID') == 20069).collect()"
   ]
  },
  {
   "cell_type": "markdown",
   "metadata": {},
   "source": [
    "To complicate matters, consider the transaction history of panelist 20069. This person's trial and first repeat purchases occurred in the same week. We therefore change the week associated with the first repeat purchase from 18 to 19. But this creates another problem as this person's second repeat purchase occurred in week 19. Having shifted the first repeat purchase to week 19, we have to shift the second repeat purchase to week 20.\n",
    "\n",
    "Our solution is to group each record by `ID` and pass all of an ID's `Week` as an array to a custom defined function which iterates over the array to evaluates whether the array has repeating numbers. If there were purchases made in the same week, such that index $i$ and index $i+1$ are in the same week, $i+1$ is incremented by 1. The loop inside the defined function also ensures that we shift purchases encroached on by the shifting of previous purchases (such as the second repeat purchase for panelist 20069)."
   ]
  },
  {
   "cell_type": "code",
   "execution_count": 15,
   "metadata": {},
   "outputs": [
    {
     "data": {
      "text/plain": [
       "array([1, 2, 3, 4, 6, 7, 8, 9])"
      ]
     },
     "execution_count": 15,
     "metadata": {},
     "output_type": "execute_result"
    }
   ],
   "source": [
    "example_array = np.array([1,1,2,3,6,7,7,8])\n",
    "\n",
    "def shift(arr):    \n",
    "    arr = np.sort(arr) # Sort array to handle duplicates systematically\n",
    "    for i in range(1, len(arr)):\n",
    "        if arr[i] <= arr[i - 1]: # If duplicate or less, increment by 1\n",
    "            arr[i] = arr[i - 1] + 1\n",
    "    return arr\n",
    "\n",
    "shift(example_array)"
   ]
  },
  {
   "cell_type": "code",
   "execution_count": 16,
   "metadata": {},
   "outputs": [
    {
     "data": {
      "text/html": [
       "<div><style>\n",
       ".dataframe > thead > tr,\n",
       ".dataframe > tbody > tr {\n",
       "  text-align: right;\n",
       "  white-space: pre-wrap;\n",
       "}\n",
       "</style>\n",
       "<small>shape: (9, 6)</small><table border=\"1\" class=\"dataframe\"><thead><tr><th>ID</th><th>Week</th><th>Day</th><th>Units</th><th>DoR</th><th>shWeek</th></tr><tr><td>u16</td><td>i16</td><td>i16</td><td>i16</td><td>u16</td><td>i16</td></tr></thead><tbody><tr><td>20014</td><td>4</td><td>4</td><td>1</td><td>1</td><td>5</td></tr><tr><td>20014</td><td>7</td><td>6</td><td>3</td><td>4</td><td>8</td></tr><tr><td>20051</td><td>17</td><td>7</td><td>2</td><td>1</td><td>18</td></tr><tr><td>20057</td><td>16</td><td>4</td><td>3</td><td>2</td><td>17</td></tr><tr><td>20057</td><td>17</td><td>2</td><td>1</td><td>3</td><td>18</td></tr><tr><td>20069</td><td>18</td><td>5</td><td>1</td><td>1</td><td>19</td></tr><tr><td>20069</td><td>19</td><td>4</td><td>2</td><td>2</td><td>20</td></tr><tr><td>20117</td><td>1</td><td>4</td><td>1</td><td>1</td><td>2</td></tr><tr><td>20118</td><td>19</td><td>5</td><td>1</td><td>5</td><td>20</td></tr></tbody></table></div>"
      ],
      "text/plain": [
       "shape: (9, 6)\n",
       "┌───────┬──────┬─────┬───────┬─────┬────────┐\n",
       "│ ID    ┆ Week ┆ Day ┆ Units ┆ DoR ┆ shWeek │\n",
       "│ ---   ┆ ---  ┆ --- ┆ ---   ┆ --- ┆ ---    │\n",
       "│ u16   ┆ i16  ┆ i16 ┆ i16   ┆ u16 ┆ i16    │\n",
       "╞═══════╪══════╪═════╪═══════╪═════╪════════╡\n",
       "│ 20014 ┆ 4    ┆ 4   ┆ 1     ┆ 1   ┆ 5      │\n",
       "│ 20014 ┆ 7    ┆ 6   ┆ 3     ┆ 4   ┆ 8      │\n",
       "│ 20051 ┆ 17   ┆ 7   ┆ 2     ┆ 1   ┆ 18     │\n",
       "│ 20057 ┆ 16   ┆ 4   ┆ 3     ┆ 2   ┆ 17     │\n",
       "│ 20057 ┆ 17   ┆ 2   ┆ 1     ┆ 3   ┆ 18     │\n",
       "│ 20069 ┆ 18   ┆ 5   ┆ 1     ┆ 1   ┆ 19     │\n",
       "│ 20069 ┆ 19   ┆ 4   ┆ 2     ┆ 2   ┆ 20     │\n",
       "│ 20117 ┆ 1    ┆ 4   ┆ 1     ┆ 1   ┆ 2      │\n",
       "│ 20118 ┆ 19   ┆ 5   ┆ 1     ┆ 5   ┆ 20     │\n",
       "└───────┴──────┴─────┴───────┴─────┴────────┘"
      ]
     },
     "execution_count": 16,
     "metadata": {},
     "output_type": "execute_result"
    }
   ],
   "source": [
    "# Method 1\n",
    "def shift_week(group_df):    \n",
    "    week_arr = group_df[\"Week\"].sort().to_numpy().copy()  # Sort array to handle duplicates systematically\n",
    "    for i in range(1, len(week_arr)):\n",
    "        if week_arr[i] <= week_arr[i - 1]: # If duplicate or less, increment by 1\n",
    "            week_arr[i] = week_arr[i - 1] + 1\n",
    "    return group_df.with_columns(pl.Series(\"shWeek\", week_arr))\n",
    "\n",
    "# Method 2\n",
    "# def shift_week(group_df):\n",
    "#     seen = set()\n",
    "#     adjusted_weeks = []\n",
    "#     for week in group_df[\"Week\"].to_list(): \n",
    "#         while week in seen: \n",
    "#             week += 1\n",
    "#         seen.add(week)\n",
    "#         adjusted_weeks.append(week)\n",
    "#     return group_df.with_columns(pl.Series(\"shWeek\", adjusted_weeks))\n",
    "\n",
    "shifted_lf = kiwi_lf_m2.group_by('ID').map_groups(shift_week, schema=None)\n",
    "\n",
    "shifted_lf.collect().filter(pl.col('shWeek') != pl.col('Week'))"
   ]
  },
  {
   "cell_type": "markdown",
   "metadata": {},
   "source": [
    "The next step is to create a table that tells us how many trial, first repeat, etc. purchases occurred in each week. We create a pivot table in which we use `shWeek` as the row field, `DoR` as the column field, and `ID` as the data item."
   ]
  },
  {
   "cell_type": "code",
   "execution_count": 17,
   "metadata": {},
   "outputs": [],
   "source": [
    "week_range, dor_range = np.meshgrid(np.arange(1, 53, dtype='int16'), np.arange(0, 12, dtype='uint16'))\n",
    "dummy_lf = pl.DataFrame({'shWeek': week_range.reshape(-1), 'DoR': dor_range.reshape(-1)})\n",
    "\n",
    "sh_agg_trans = (\n",
    "    shifted_lf\n",
    "    .collect()\n",
    "    .group_by('shWeek', 'DoR')\n",
    "    .agg(pl.len().alias('Count'))\n",
    ")\n",
    "\n",
    "shweek_total_trans = (\n",
    "    sh_agg_trans\n",
    "    .group_by('shWeek')\n",
    "    .agg(pl.col('Count').sum().alias('Total')) \n",
    ")\n",
    "\n",
    "sh_agg_trans_longform = (\n",
    "    dummy_lf\n",
    "    .join(sh_agg_trans, on=['shWeek', 'DoR'], how='left')\n",
    "    .join(shweek_total_trans, on='shWeek', how='left')\n",
    "    .fill_null(0)\n",
    ")"
   ]
  },
  {
   "cell_type": "code",
   "execution_count": 18,
   "metadata": {},
   "outputs": [
    {
     "data": {
      "text/html": [
       "<div><style>\n",
       ".dataframe > thead > tr,\n",
       ".dataframe > tbody > tr {\n",
       "  text-align: right;\n",
       "  white-space: pre-wrap;\n",
       "}\n",
       "</style>\n",
       "<small>shape: (52, 14)</small><table border=\"1\" class=\"dataframe\"><thead><tr><th>shWeek</th><th>0</th><th>1</th><th>2</th><th>3</th><th>4</th><th>5</th><th>6</th><th>7</th><th>8</th><th>9</th><th>10</th><th>11</th><th>Total</th></tr><tr><td>i16</td><td>u32</td><td>u32</td><td>u32</td><td>u32</td><td>u32</td><td>u32</td><td>u32</td><td>u32</td><td>u32</td><td>u32</td><td>u32</td><td>u32</td><td>u32</td></tr></thead><tbody><tr><td>1</td><td>8</td><td>0</td><td>0</td><td>0</td><td>0</td><td>0</td><td>0</td><td>0</td><td>0</td><td>0</td><td>0</td><td>0</td><td>8</td></tr><tr><td>2</td><td>6</td><td>1</td><td>0</td><td>0</td><td>0</td><td>0</td><td>0</td><td>0</td><td>0</td><td>0</td><td>0</td><td>0</td><td>7</td></tr><tr><td>3</td><td>2</td><td>1</td><td>0</td><td>0</td><td>0</td><td>0</td><td>0</td><td>0</td><td>0</td><td>0</td><td>0</td><td>0</td><td>3</td></tr><tr><td>4</td><td>16</td><td>1</td><td>0</td><td>0</td><td>0</td><td>0</td><td>0</td><td>0</td><td>0</td><td>0</td><td>0</td><td>0</td><td>17</td></tr><tr><td>5</td><td>8</td><td>4</td><td>0</td><td>0</td><td>0</td><td>0</td><td>0</td><td>0</td><td>0</td><td>0</td><td>0</td><td>0</td><td>12</td></tr><tr><td>&hellip;</td><td>&hellip;</td><td>&hellip;</td><td>&hellip;</td><td>&hellip;</td><td>&hellip;</td><td>&hellip;</td><td>&hellip;</td><td>&hellip;</td><td>&hellip;</td><td>&hellip;</td><td>&hellip;</td><td>&hellip;</td><td>&hellip;</td></tr><tr><td>48</td><td>1</td><td>1</td><td>1</td><td>1</td><td>0</td><td>0</td><td>0</td><td>1</td><td>0</td><td>0</td><td>0</td><td>0</td><td>5</td></tr><tr><td>49</td><td>4</td><td>0</td><td>0</td><td>0</td><td>0</td><td>2</td><td>0</td><td>1</td><td>1</td><td>0</td><td>0</td><td>0</td><td>8</td></tr><tr><td>50</td><td>0</td><td>2</td><td>0</td><td>0</td><td>0</td><td>0</td><td>0</td><td>1</td><td>2</td><td>1</td><td>1</td><td>1</td><td>8</td></tr><tr><td>51</td><td>0</td><td>1</td><td>0</td><td>0</td><td>0</td><td>0</td><td>0</td><td>1</td><td>0</td><td>0</td><td>0</td><td>0</td><td>2</td></tr><tr><td>52</td><td>2</td><td>1</td><td>1</td><td>1</td><td>0</td><td>0</td><td>0</td><td>0</td><td>0</td><td>1</td><td>0</td><td>0</td><td>6</td></tr></tbody></table></div>"
      ],
      "text/plain": [
       "shape: (52, 14)\n",
       "┌────────┬─────┬─────┬─────┬───┬─────┬─────┬─────┬───────┐\n",
       "│ shWeek ┆ 0   ┆ 1   ┆ 2   ┆ … ┆ 9   ┆ 10  ┆ 11  ┆ Total │\n",
       "│ ---    ┆ --- ┆ --- ┆ --- ┆   ┆ --- ┆ --- ┆ --- ┆ ---   │\n",
       "│ i16    ┆ u32 ┆ u32 ┆ u32 ┆   ┆ u32 ┆ u32 ┆ u32 ┆ u32   │\n",
       "╞════════╪═════╪═════╪═════╪═══╪═════╪═════╪═════╪═══════╡\n",
       "│ 1      ┆ 8   ┆ 0   ┆ 0   ┆ … ┆ 0   ┆ 0   ┆ 0   ┆ 8     │\n",
       "│ 2      ┆ 6   ┆ 1   ┆ 0   ┆ … ┆ 0   ┆ 0   ┆ 0   ┆ 7     │\n",
       "│ 3      ┆ 2   ┆ 1   ┆ 0   ┆ … ┆ 0   ┆ 0   ┆ 0   ┆ 3     │\n",
       "│ 4      ┆ 16  ┆ 1   ┆ 0   ┆ … ┆ 0   ┆ 0   ┆ 0   ┆ 17    │\n",
       "│ 5      ┆ 8   ┆ 4   ┆ 0   ┆ … ┆ 0   ┆ 0   ┆ 0   ┆ 12    │\n",
       "│ …      ┆ …   ┆ …   ┆ …   ┆ … ┆ …   ┆ …   ┆ …   ┆ …     │\n",
       "│ 48     ┆ 1   ┆ 1   ┆ 1   ┆ … ┆ 0   ┆ 0   ┆ 0   ┆ 5     │\n",
       "│ 49     ┆ 4   ┆ 0   ┆ 0   ┆ … ┆ 0   ┆ 0   ┆ 0   ┆ 8     │\n",
       "│ 50     ┆ 0   ┆ 2   ┆ 0   ┆ … ┆ 1   ┆ 1   ┆ 1   ┆ 8     │\n",
       "│ 51     ┆ 0   ┆ 1   ┆ 0   ┆ … ┆ 0   ┆ 0   ┆ 0   ┆ 2     │\n",
       "│ 52     ┆ 2   ┆ 1   ┆ 1   ┆ … ┆ 1   ┆ 0   ┆ 0   ┆ 6     │\n",
       "└────────┴─────┴─────┴─────┴───┴─────┴─────┴─────┴───────┘"
      ]
     },
     "metadata": {},
     "output_type": "display_data"
    },
    {
     "data": {
      "text/html": [
       "<div><style>\n",
       ".dataframe > thead > tr,\n",
       ".dataframe > tbody > tr {\n",
       "  text-align: right;\n",
       "  white-space: pre-wrap;\n",
       "}\n",
       "</style>\n",
       "<small>shape: (1, 13)</small><table border=\"1\" class=\"dataframe\"><thead><tr><th>0</th><th>1</th><th>2</th><th>3</th><th>4</th><th>5</th><th>6</th><th>7</th><th>8</th><th>9</th><th>10</th><th>11</th><th>Total</th></tr><tr><td>u32</td><td>u32</td><td>u32</td><td>u32</td><td>u32</td><td>u32</td><td>u32</td><td>u32</td><td>u32</td><td>u32</td><td>u32</td><td>u32</td><td>u32</td></tr></thead><tbody><tr><td>139</td><td>52</td><td>31</td><td>23</td><td>17</td><td>14</td><td>9</td><td>8</td><td>6</td><td>4</td><td>2</td><td>1</td><td>306</td></tr></tbody></table></div>"
      ],
      "text/plain": [
       "shape: (1, 13)\n",
       "┌─────┬─────┬─────┬─────┬───┬─────┬─────┬─────┬───────┐\n",
       "│ 0   ┆ 1   ┆ 2   ┆ 3   ┆ … ┆ 9   ┆ 10  ┆ 11  ┆ Total │\n",
       "│ --- ┆ --- ┆ --- ┆ --- ┆   ┆ --- ┆ --- ┆ --- ┆ ---   │\n",
       "│ u32 ┆ u32 ┆ u32 ┆ u32 ┆   ┆ u32 ┆ u32 ┆ u32 ┆ u32   │\n",
       "╞═════╪═════╪═════╪═════╪═══╪═════╪═════╪═════╪═══════╡\n",
       "│ 139 ┆ 52  ┆ 31  ┆ 23  ┆ … ┆ 4   ┆ 2   ┆ 1   ┆ 306   │\n",
       "└─────┴─────┴─────┴─────┴───┴─────┴─────┴─────┴───────┘"
      ]
     },
     "metadata": {},
     "output_type": "display_data"
    }
   ],
   "source": [
    "sh_agg_trans_wideform = (\n",
    "    sh_agg_trans_longform\n",
    "    .pivot(on='DoR', index='shWeek', values='Count')\n",
    "    .join(shweek_total_trans, on='shWeek', how='left')\n",
    ")\n",
    "\n",
    "col_total = sh_agg_trans_wideform.select(pl.col('*').exclude('shWeek').sum())\n",
    "\n",
    "display(sh_agg_trans_wideform)\n",
    "display(col_total)"
   ]
  },
  {
   "cell_type": "code",
   "execution_count": 19,
   "metadata": {},
   "outputs": [
    {
     "data": {
      "text/html": [
       "<div><style>\n",
       ".dataframe > thead > tr,\n",
       ".dataframe > tbody > tr {\n",
       "  text-align: right;\n",
       "  white-space: pre-wrap;\n",
       "}\n",
       "</style>\n",
       "<small>shape: (52, 13)</small><table border=\"1\" class=\"dataframe\"><thead><tr><th>shWeek</th><th>0</th><th>1</th><th>2</th><th>3</th><th>4</th><th>5</th><th>6</th><th>7</th><th>8</th><th>9</th><th>10</th><th>11</th></tr><tr><td>i16</td><td>u32</td><td>u32</td><td>u32</td><td>u32</td><td>u32</td><td>u32</td><td>u32</td><td>u32</td><td>u32</td><td>u32</td><td>u32</td><td>u32</td></tr></thead><tbody><tr><td>1</td><td>8</td><td>0</td><td>0</td><td>0</td><td>0</td><td>0</td><td>0</td><td>0</td><td>0</td><td>0</td><td>0</td><td>0</td></tr><tr><td>2</td><td>14</td><td>1</td><td>0</td><td>0</td><td>0</td><td>0</td><td>0</td><td>0</td><td>0</td><td>0</td><td>0</td><td>0</td></tr><tr><td>3</td><td>16</td><td>2</td><td>0</td><td>0</td><td>0</td><td>0</td><td>0</td><td>0</td><td>0</td><td>0</td><td>0</td><td>0</td></tr><tr><td>4</td><td>32</td><td>3</td><td>0</td><td>0</td><td>0</td><td>0</td><td>0</td><td>0</td><td>0</td><td>0</td><td>0</td><td>0</td></tr><tr><td>5</td><td>40</td><td>7</td><td>0</td><td>0</td><td>0</td><td>0</td><td>0</td><td>0</td><td>0</td><td>0</td><td>0</td><td>0</td></tr><tr><td>&hellip;</td><td>&hellip;</td><td>&hellip;</td><td>&hellip;</td><td>&hellip;</td><td>&hellip;</td><td>&hellip;</td><td>&hellip;</td><td>&hellip;</td><td>&hellip;</td><td>&hellip;</td><td>&hellip;</td><td>&hellip;</td></tr><tr><td>48</td><td>133</td><td>48</td><td>30</td><td>22</td><td>17</td><td>12</td><td>9</td><td>5</td><td>3</td><td>2</td><td>1</td><td>0</td></tr><tr><td>49</td><td>137</td><td>48</td><td>30</td><td>22</td><td>17</td><td>14</td><td>9</td><td>6</td><td>4</td><td>2</td><td>1</td><td>0</td></tr><tr><td>50</td><td>137</td><td>50</td><td>30</td><td>22</td><td>17</td><td>14</td><td>9</td><td>7</td><td>6</td><td>3</td><td>2</td><td>1</td></tr><tr><td>51</td><td>137</td><td>51</td><td>30</td><td>22</td><td>17</td><td>14</td><td>9</td><td>8</td><td>6</td><td>3</td><td>2</td><td>1</td></tr><tr><td>52</td><td>139</td><td>52</td><td>31</td><td>23</td><td>17</td><td>14</td><td>9</td><td>8</td><td>6</td><td>4</td><td>2</td><td>1</td></tr></tbody></table></div>"
      ],
      "text/plain": [
       "shape: (52, 13)\n",
       "┌────────┬─────┬─────┬─────┬───┬─────┬─────┬─────┬─────┐\n",
       "│ shWeek ┆ 0   ┆ 1   ┆ 2   ┆ … ┆ 8   ┆ 9   ┆ 10  ┆ 11  │\n",
       "│ ---    ┆ --- ┆ --- ┆ --- ┆   ┆ --- ┆ --- ┆ --- ┆ --- │\n",
       "│ i16    ┆ u32 ┆ u32 ┆ u32 ┆   ┆ u32 ┆ u32 ┆ u32 ┆ u32 │\n",
       "╞════════╪═════╪═════╪═════╪═══╪═════╪═════╪═════╪═════╡\n",
       "│ 1      ┆ 8   ┆ 0   ┆ 0   ┆ … ┆ 0   ┆ 0   ┆ 0   ┆ 0   │\n",
       "│ 2      ┆ 14  ┆ 1   ┆ 0   ┆ … ┆ 0   ┆ 0   ┆ 0   ┆ 0   │\n",
       "│ 3      ┆ 16  ┆ 2   ┆ 0   ┆ … ┆ 0   ┆ 0   ┆ 0   ┆ 0   │\n",
       "│ 4      ┆ 32  ┆ 3   ┆ 0   ┆ … ┆ 0   ┆ 0   ┆ 0   ┆ 0   │\n",
       "│ 5      ┆ 40  ┆ 7   ┆ 0   ┆ … ┆ 0   ┆ 0   ┆ 0   ┆ 0   │\n",
       "│ …      ┆ …   ┆ …   ┆ …   ┆ … ┆ …   ┆ …   ┆ …   ┆ …   │\n",
       "│ 48     ┆ 133 ┆ 48  ┆ 30  ┆ … ┆ 3   ┆ 2   ┆ 1   ┆ 0   │\n",
       "│ 49     ┆ 137 ┆ 48  ┆ 30  ┆ … ┆ 4   ┆ 2   ┆ 1   ┆ 0   │\n",
       "│ 50     ┆ 137 ┆ 50  ┆ 30  ┆ … ┆ 6   ┆ 3   ┆ 2   ┆ 1   │\n",
       "│ 51     ┆ 137 ┆ 51  ┆ 30  ┆ … ┆ 6   ┆ 3   ┆ 2   ┆ 1   │\n",
       "│ 52     ┆ 139 ┆ 52  ┆ 31  ┆ … ┆ 6   ┆ 4   ┆ 2   ┆ 1   │\n",
       "└────────┴─────┴─────┴─────┴───┴─────┴─────┴─────┴─────┘"
      ]
     },
     "metadata": {},
     "output_type": "display_data"
    }
   ],
   "source": [
    "sh_cum_trans_longform = sh_agg_trans_longform.with_columns(pl.col('Count').cum_sum().over('DoR').alias('Cum DoR'))\n",
    "sh_cum_trans_wideform = sh_cum_trans_longform.pivot(on='DoR', index='shWeek', values='Cum DoR')\n",
    "\n",
    "display(sh_cum_trans_wideform)"
   ]
  },
  {
   "cell_type": "markdown",
   "metadata": {},
   "source": [
    "The differences between the \"raw\" and \"shifted\" cumulative transaction counts by depth-of-repeat level are small; there are only nine depth-of-repeat/week occasions on which the two sets of numbers differ, and the maximum deviation is one transaction. Perhaps the most obvious difference is with respect to first repeat. Looking at the \"raw\" numbers, we observe a first repeat purchase in the first week the product was on the market. Under the assumption that a trial and first repeat purchase cannot occur in the same week, this first repeat purchase is shifted to week 2 in the \"shifted\" numbers."
   ]
  },
  {
   "cell_type": "markdown",
   "metadata": {},
   "source": [
    "### <span style=\"color:#956bbf\">Generating a Sales Forecast With a Depth-of-Repeat Model</span>\n",
    "---"
   ]
  },
  {
   "cell_type": "markdown",
   "metadata": {},
   "source": [
    "#### Introduction"
   ]
  },
  {
   "cell_type": "markdown",
   "metadata": {},
   "source": [
    "Central to diagnosing the performance of a new product is the decomposition of its total sales into trial, first repeat, second repeat, and so on, components:\n",
    "\n",
    "$$\n",
    "S(t)=T(t)+R_{1}(t)+R_{2}(t)+R_{3}(t)+\\cdots\n",
    "$$\n",
    "\n",
    "where $S(t)$ is the cumulative sales volume up to time $t$ (assuming that only one unit is purchased on each purchase occasion), $T(t)$ equals the cumulative number of people who have made a trial purchase by time $t$, and $R_{j}(t)$ denotes the number of people who have made at least $j$ repeat purchases of the new product by time $t(j=1,2,3, \\ldots)$.\n",
    "\n",
    "- We can decompose $T(t)$ in the following manner:\n",
    "\n",
    "    $$\n",
    "    \\begin{equation*}\n",
    "    T(t)=N F_{0}(t) \\tag{1}\n",
    "    \\end{equation*}\n",
    "    $$\n",
    "\n",
    "    where $N$ is number of customers whose purchases are being monitored and $F_{0}(t)$ is the proportion of customers who have made their trial purchase by $t$.\n",
    "\n",
    "- We can decompose the $R_{j}(t)$ by conditioning on the time at which the $(j-1)$ th purchase occurred:\n",
    "\n",
    "    $$\n",
    "    \\begin{equation*}\n",
    "    R_{j}(t)=\\sum_{t_{j-1}=j}^{t-1} F_{j}\\left(t \\mid t_{j-1}\\right)\\left[R_{j-1}\\left(t_{j-1}\\right)-R_{j-1}\\left(t_{j-1}-1\\right)\\right] \\tag{2}\n",
    "    \\end{equation*}\n",
    "    $$\n",
    "\n",
    "    where $F_{j}\\left(t \\mid t_{j-1}\\right)$ is the proportion of customers who have made a $j$ th repeat purchase by $t$, given that their $(j-1)$ th repeat purchase was made in period $t_{j-1}$, and $R_{j-1}\\left(t_{j-1}\\right)-R_{j-1}\\left(t_{j-1}-1\\right)$ is the number of individuals who made their $(j-1)$ th repeat purchase in time period $t_{j-1}$. (Note that $R_{0}(t)=T(t)$ and $R_{j}(t)=0$ for $\\left.t \\leq j.\\right)$\n",
    "\n",
    "Equations (1) and (2) are simply definitional. If we specify mathematical expressions for $F_{0}(t)$ and the $F_{j}\\left(t \\mid t_{j-1}\\right)$, we arrive at a model of new product sales. Our python implementation incorporates the following model, with separate submodels for trial, first repeat (denoted by $F R(t)$ instead of $R_{1}(t)$ ) and additional repeat $\\left(A R(t)=R_{2}(t)+R_{3}(t)+\\cdots\\right)$:\n",
    "\n",
    "For trial, we have\n",
    "\n",
    "$$\n",
    "\\begin{align*}\n",
    "& T(t)=N P(\\text { trial by } t)  \\tag{3}\\\\\n",
    "& P(\\text {trial by } t)=p_{0}\\left(1-e^{-\\theta_{T} t}\\right) \\tag{4}\n",
    "\\end{align*}\n",
    "$$\n",
    "\n",
    "For first repeat, we have\n",
    "\n",
    "$$\n",
    "\\begin{align*}\n",
    "& F R(t)=\\sum_{t_{0}=1}^{t-1} P\\left(\\text { first repeat by } t \\mid \\text { trial at } t_{0}\\right)\\left[T\\left(t_{0}\\right)-T\\left(t_{0}-1\\right)\\right]  \\tag{5}\\\\\n",
    "& P\\left(\\text {first repeat by } t \\mid \\text { trial at } t_{0}\\right)=p_{1}\\left(1-e^{-\\theta_{F R}\\left(t-t_{0}\\right)}\\right) \\tag{6}\n",
    "\\end{align*}\n",
    "$$\n",
    "\n",
    "For additional repeat $(j \\geq 2)$, we have\n",
    "\n",
    "$$\n",
    "\\begin{align*}\n",
    "A R(t)= & \\sum_{j=2}^{\\infty} R_{j}(t)  \\tag{7}\\\\\n",
    "R_{j}(t)=\\sum_{t_{j-1}=j}^{t-1}\\{ & P\\left(j \\text {th repeat by } t \\mid(j-1) \\text { th repeat at } t_{j-1}\\right) \\\\\n",
    "& \\left.\\quad \\times\\left[R_{j-1}\\left(t_{j-1}\\right)-R_{j-1}\\left(t_{j-1}-1\\right)\\right]\\right\\} \\tag{8}\n",
    "\\end{align*}\n",
    "$$\n",
    "\n",
    "$$\n",
    "\\begin{equation*}\n",
    "P\\left(j\\text{th repeat by } t \\mid (j-1)\\text{th repeat at } t_{j-1}\\right)=p_{j}\\left(1-e^{-\\theta_{A R}\\left(t-t_{j-1}\\right)}\\right) \\tag{9}\n",
    "\\end{equation*}\n",
    "$$\n",
    "\n",
    "$$\n",
    "\\begin{equation*}\n",
    "p_{j}=p_{\\infty}\\left(1-e^{-\\gamma j}\\right) \\tag{10}\n",
    "\\end{equation*}\n",
    "$$"
   ]
  },
  {
   "cell_type": "markdown",
   "metadata": {},
   "source": [
    "For the Kiwi Bubbles dataset (from a panel of $N=1499$ households) with a 24 -week calibration period, we have\n",
    "\n",
    "| $p_{0}$ | $\\theta_{T}$ | $p_{1}$ | $\\theta_{F R}$ | $p_{\\infty}$ | $\\gamma$ | $\\theta_{A R}$ |\n",
    "| :---: | :---: | :---: | :---: | :---: | :---: | :---: |\n",
    "| 0.08620 | 0.06428 | 0.36346 | 0.46140 | 0.78158 | 1.00140 | 0.23094 |\n",
    "\n",
    "Given these parameter estimates, we can first generate a forecast of trial, then a forecast of first repeat (conditional on the trial forecast), then a forecast of second repeat (conditional on the first-repeat forecast), and so on. For a forecast horizon of $t_{f}$ periods, we should (in theory) allow for up to $t_{f}-1$ levels of repeat ${ }^{1}$.\n",
    "\n",
    "${ }^{1}$ Under the assumption that a customer can have only one transaction per unit of time, the earliest point in time a first repeat purchase can occur is period 2. Following this logic, the summation limit in (7) should really be $t-1$, not $\\infty$."
   ]
  },
  {
   "cell_type": "code",
   "execution_count": 20,
   "metadata": {},
   "outputs": [],
   "source": [
    "# Trial Purchase Model Parameters\n",
    "p_0 = 0.08620\n",
    "theta_T = 0.06428\n",
    "\n",
    "# First Repeat Model Parameters\n",
    "p_1 = 0.36346\n",
    "theta_FR = 0.46140\n",
    "\n",
    "# Additional Repeat Model Parameters\n",
    "p_inf = 0.78158\n",
    "gamma = 1.00140\n",
    "theta_AR = 0.23094"
   ]
  },
  {
   "cell_type": "code",
   "execution_count": 21,
   "metadata": {},
   "outputs": [
    {
     "data": {
      "text/html": [
       "<div><style>\n",
       ".dataframe > thead > tr,\n",
       ".dataframe > tbody > tr {\n",
       "  text-align: right;\n",
       "  white-space: pre-wrap;\n",
       "}\n",
       "</style>\n",
       "<small>shape: (52, 5)</small><table border=\"1\" class=\"dataframe\"><thead><tr><th>Week</th><th>Trial</th><th>FR</th><th>AR</th><th>Total</th></tr><tr><td>i16</td><td>u32</td><td>u32</td><td>u32</td><td>u32</td></tr></thead><tbody><tr><td>1</td><td>8</td><td>0</td><td>0</td><td>8</td></tr><tr><td>2</td><td>14</td><td>1</td><td>0</td><td>15</td></tr><tr><td>3</td><td>16</td><td>2</td><td>0</td><td>18</td></tr><tr><td>4</td><td>32</td><td>3</td><td>0</td><td>35</td></tr><tr><td>5</td><td>40</td><td>7</td><td>0</td><td>47</td></tr><tr><td>&hellip;</td><td>&hellip;</td><td>&hellip;</td><td>&hellip;</td><td>&hellip;</td></tr><tr><td>48</td><td>133</td><td>48</td><td>101</td><td>282</td></tr><tr><td>49</td><td>137</td><td>48</td><td>105</td><td>290</td></tr><tr><td>50</td><td>137</td><td>50</td><td>111</td><td>298</td></tr><tr><td>51</td><td>137</td><td>51</td><td>112</td><td>300</td></tr><tr><td>52</td><td>139</td><td>52</td><td>115</td><td>306</td></tr></tbody></table></div>"
      ],
      "text/plain": [
       "shape: (52, 5)\n",
       "┌──────┬───────┬─────┬─────┬───────┐\n",
       "│ Week ┆ Trial ┆ FR  ┆ AR  ┆ Total │\n",
       "│ ---  ┆ ---   ┆ --- ┆ --- ┆ ---   │\n",
       "│ i16  ┆ u32   ┆ u32 ┆ u32 ┆ u32   │\n",
       "╞══════╪═══════╪═════╪═════╪═══════╡\n",
       "│ 1    ┆ 8     ┆ 0   ┆ 0   ┆ 8     │\n",
       "│ 2    ┆ 14    ┆ 1   ┆ 0   ┆ 15    │\n",
       "│ 3    ┆ 16    ┆ 2   ┆ 0   ┆ 18    │\n",
       "│ 4    ┆ 32    ┆ 3   ┆ 0   ┆ 35    │\n",
       "│ 5    ┆ 40    ┆ 7   ┆ 0   ┆ 47    │\n",
       "│ …    ┆ …     ┆ …   ┆ …   ┆ …     │\n",
       "│ 48   ┆ 133   ┆ 48  ┆ 101 ┆ 282   │\n",
       "│ 49   ┆ 137   ┆ 48  ┆ 105 ┆ 290   │\n",
       "│ 50   ┆ 137   ┆ 50  ┆ 111 ┆ 298   │\n",
       "│ 51   ┆ 137   ┆ 51  ┆ 112 ┆ 300   │\n",
       "│ 52   ┆ 139   ┆ 52  ┆ 115 ┆ 306   │\n",
       "└──────┴───────┴─────┴─────┴───────┘"
      ]
     },
     "execution_count": 21,
     "metadata": {},
     "output_type": "execute_result"
    }
   ],
   "source": [
    "modified_cum_trans = (\n",
    "    sh_cum_trans_wideform\n",
    "    .with_columns(\n",
    "        pl.sum_horizontal(pl.col(f'{i}' for i in range(2, 12)).alias('AR')),\n",
    "        pl.sum_horizontal(pl.exclude('shWeek').alias('Total'))\n",
    "    )\n",
    "    .rename({'shWeek': 'Week', '0': 'Trial', '1': 'FR'})\n",
    "    .select('Week', 'Trial', 'FR', 'AR', 'Total')\n",
    ")\n",
    "\n",
    "modified_cum_trans"
   ]
  },
  {
   "cell_type": "code",
   "execution_count": 22,
   "metadata": {},
   "outputs": [
    {
     "data": {
      "application/vnd.vegalite.v5+json": {
       "$schema": "https://vega.github.io/schema/vega-lite/v5.20.1.json",
       "config": {
        "axisX": {
         "grid": false
        },
        "axisY": {
         "grid": false
        },
        "view": {
         "continuousHeight": 300,
         "continuousWidth": 300
        }
       },
       "data": {
        "name": "data-cce6342ca19d37df94ea64473c1df550"
       },
       "datasets": {
        "data-cce6342ca19d37df94ea64473c1df550": [
         {
          "AR": 0,
          "FR": 0,
          "Total": 8,
          "Trial": 8,
          "Week": 1
         },
         {
          "AR": 0,
          "FR": 1,
          "Total": 15,
          "Trial": 14,
          "Week": 2
         },
         {
          "AR": 0,
          "FR": 2,
          "Total": 18,
          "Trial": 16,
          "Week": 3
         },
         {
          "AR": 0,
          "FR": 3,
          "Total": 35,
          "Trial": 32,
          "Week": 4
         },
         {
          "AR": 0,
          "FR": 7,
          "Total": 47,
          "Trial": 40,
          "Week": 5
         },
         {
          "AR": 2,
          "FR": 9,
          "Total": 58,
          "Trial": 47,
          "Week": 6
         },
         {
          "AR": 3,
          "FR": 12,
          "Total": 65,
          "Trial": 50,
          "Week": 7
         },
         {
          "AR": 4,
          "FR": 13,
          "Total": 69,
          "Trial": 52,
          "Week": 8
         },
         {
          "AR": 7,
          "FR": 17,
          "Total": 81,
          "Trial": 57,
          "Week": 9
         },
         {
          "AR": 9,
          "FR": 18,
          "Total": 87,
          "Trial": 60,
          "Week": 10
         },
         {
          "AR": 13,
          "FR": 22,
          "Total": 100,
          "Trial": 65,
          "Week": 11
         },
         {
          "AR": 15,
          "FR": 23,
          "Total": 105,
          "Trial": 67,
          "Week": 12
         },
         {
          "AR": 16,
          "FR": 23,
          "Total": 107,
          "Trial": 68,
          "Week": 13
         },
         {
          "AR": 18,
          "FR": 23,
          "Total": 113,
          "Trial": 72,
          "Week": 14
         },
         {
          "AR": 19,
          "FR": 23,
          "Total": 117,
          "Trial": 75,
          "Week": 15
         },
         {
          "AR": 21,
          "FR": 24,
          "Total": 126,
          "Trial": 81,
          "Week": 16
         },
         {
          "AR": 26,
          "FR": 24,
          "Total": 140,
          "Trial": 90,
          "Week": 17
         },
         {
          "AR": 30,
          "FR": 28,
          "Total": 152,
          "Trial": 94,
          "Week": 18
         },
         {
          "AR": 32,
          "FR": 32,
          "Total": 160,
          "Trial": 96,
          "Week": 19
         },
         {
          "AR": 35,
          "FR": 33,
          "Total": 164,
          "Trial": 96,
          "Week": 20
         },
         {
          "AR": 38,
          "FR": 33,
          "Total": 167,
          "Trial": 96,
          "Week": 21
         },
         {
          "AR": 39,
          "FR": 34,
          "Total": 170,
          "Trial": 97,
          "Week": 22
         },
         {
          "AR": 40,
          "FR": 35,
          "Total": 172,
          "Trial": 97,
          "Week": 23
         },
         {
          "AR": 43,
          "FR": 35,
          "Total": 179,
          "Trial": 101,
          "Week": 24
         },
         {
          "AR": 43,
          "FR": 35,
          "Total": 179,
          "Trial": 101,
          "Week": 25
         },
         {
          "AR": 50,
          "FR": 35,
          "Total": 186,
          "Trial": 101,
          "Week": 26
         },
         {
          "AR": 53,
          "FR": 37,
          "Total": 195,
          "Trial": 105,
          "Week": 27
         },
         {
          "AR": 57,
          "FR": 37,
          "Total": 200,
          "Trial": 106,
          "Week": 28
         },
         {
          "AR": 60,
          "FR": 37,
          "Total": 203,
          "Trial": 106,
          "Week": 29
         },
         {
          "AR": 64,
          "FR": 41,
          "Total": 223,
          "Trial": 118,
          "Week": 30
         },
         {
          "AR": 65,
          "FR": 41,
          "Total": 225,
          "Trial": 119,
          "Week": 31
         },
         {
          "AR": 65,
          "FR": 42,
          "Total": 226,
          "Trial": 119,
          "Week": 32
         },
         {
          "AR": 67,
          "FR": 43,
          "Total": 230,
          "Trial": 120,
          "Week": 33
         },
         {
          "AR": 69,
          "FR": 44,
          "Total": 236,
          "Trial": 123,
          "Week": 34
         },
         {
          "AR": 72,
          "FR": 45,
          "Total": 242,
          "Trial": 125,
          "Week": 35
         },
         {
          "AR": 76,
          "FR": 45,
          "Total": 246,
          "Trial": 125,
          "Week": 36
         },
         {
          "AR": 80,
          "FR": 45,
          "Total": 251,
          "Trial": 126,
          "Week": 37
         },
         {
          "AR": 84,
          "FR": 45,
          "Total": 256,
          "Trial": 127,
          "Week": 38
         },
         {
          "AR": 84,
          "FR": 45,
          "Total": 256,
          "Trial": 127,
          "Week": 39
         },
         {
          "AR": 87,
          "FR": 45,
          "Total": 259,
          "Trial": 127,
          "Week": 40
         },
         {
          "AR": 87,
          "FR": 45,
          "Total": 259,
          "Trial": 127,
          "Week": 41
         },
         {
          "AR": 89,
          "FR": 45,
          "Total": 262,
          "Trial": 128,
          "Week": 42
         },
         {
          "AR": 89,
          "FR": 45,
          "Total": 263,
          "Trial": 129,
          "Week": 43
         },
         {
          "AR": 89,
          "FR": 46,
          "Total": 264,
          "Trial": 129,
          "Week": 44
         },
         {
          "AR": 93,
          "FR": 46,
          "Total": 268,
          "Trial": 129,
          "Week": 45
         },
         {
          "AR": 94,
          "FR": 46,
          "Total": 270,
          "Trial": 130,
          "Week": 46
         },
         {
          "AR": 98,
          "FR": 47,
          "Total": 277,
          "Trial": 132,
          "Week": 47
         },
         {
          "AR": 101,
          "FR": 48,
          "Total": 282,
          "Trial": 133,
          "Week": 48
         },
         {
          "AR": 105,
          "FR": 48,
          "Total": 290,
          "Trial": 137,
          "Week": 49
         },
         {
          "AR": 111,
          "FR": 50,
          "Total": 298,
          "Trial": 137,
          "Week": 50
         },
         {
          "AR": 112,
          "FR": 51,
          "Total": 300,
          "Trial": 137,
          "Week": 51
         },
         {
          "AR": 115,
          "FR": 52,
          "Total": 306,
          "Trial": 139,
          "Week": 52
         }
        ]
       },
       "encoding": {
        "color": {
         "field": "Type",
         "type": "nominal"
        },
        "x": {
         "axis": {
          "labelExpr": "datum.value",
          "title": "Week",
          "values": [
           0,
           4,
           8,
           12,
           16,
           20,
           24,
           28,
           32,
           36,
           40,
           44,
           48,
           52
          ]
         },
         "field": "Week",
         "scale": {
          "domain": [
           0,
           52
          ]
         },
         "type": "quantitative"
        },
        "y": {
         "field": "Cum DoR",
         "title": "Cumulative Sales",
         "type": "quantitative"
        }
       },
       "height": 250,
       "mark": {
        "strokeWidth": 2,
        "type": "line"
       },
       "title": "Actual Cumulative Market Sales",
       "transform": [
        {
         "as": [
          "Type",
          "Cum DoR"
         ],
         "fold": [
          "Trial",
          "FR",
          "AR",
          "Total"
         ]
        }
       ],
       "width": 650
      },
      "text/plain": [
       "<VegaLite 5 object>\n",
       "\n",
       "If you see this message, it means the renderer has not been properly enabled\n",
       "for the frontend that you are using. For more information, see\n",
       "https://altair-viz.github.io/user_guide/display_frontends.html#troubleshooting\n"
      ]
     },
     "execution_count": 22,
     "metadata": {},
     "output_type": "execute_result"
    }
   ],
   "source": [
    "alt.Chart(modified_cum_trans).transform_fold(\n",
    "    ['Trial', 'FR', 'AR', 'Total'],\n",
    "    as_=['Type', 'Cum DoR']\n",
    "    ).mark_line(strokeWidth=2).encode(\n",
    "    x = alt.X('Week', \n",
    "              scale=alt.Scale(domain=[0, 52]),\n",
    "              axis = alt.Axis(\n",
    "                values=np.arange(0, 53, 4),\n",
    "                labelExpr=\"datum.value\",\n",
    "                title='Week')\n",
    "    ),\n",
    "    y = alt.Y(\n",
    "        f'Cum DoR:Q',\n",
    "        title='Cumulative Sales'\n",
    "    ),\n",
    "    color='Type:N'\n",
    ").properties(\n",
    "    width=650,\n",
    "    height=250,\n",
    "    title='Actual Cumulative Market Sales'\n",
    ").configure_axisY(grid=False).configure_axisX(grid=False)"
   ]
  },
  {
   "cell_type": "code",
   "execution_count": 23,
   "metadata": {},
   "outputs": [
    {
     "data": {
      "application/vnd.vegalite.v5+json": {
       "$schema": "https://vega.github.io/schema/vega-lite/v5.20.1.json",
       "config": {
        "axisX": {
         "grid": false
        },
        "axisY": {
         "grid": false
        },
        "view": {
         "continuousHeight": 300,
         "continuousWidth": 300
        }
       },
       "data": {
        "name": "data-1fc372bfc8c8ea74e38e7c6ddfa77241"
       },
       "datasets": {
        "data-1fc372bfc8c8ea74e38e7c6ddfa77241": [
         {
          "AR": 0,
          "FR": 0,
          "Total": 8,
          "Trial": 8,
          "Week": 1
         },
         {
          "AR": 0,
          "FR": 1,
          "Total": 15,
          "Trial": 14,
          "Week": 2
         },
         {
          "AR": 0,
          "FR": 2,
          "Total": 18,
          "Trial": 16,
          "Week": 3
         },
         {
          "AR": 0,
          "FR": 3,
          "Total": 35,
          "Trial": 32,
          "Week": 4
         },
         {
          "AR": 0,
          "FR": 7,
          "Total": 47,
          "Trial": 40,
          "Week": 5
         },
         {
          "AR": 2,
          "FR": 9,
          "Total": 58,
          "Trial": 47,
          "Week": 6
         },
         {
          "AR": 3,
          "FR": 12,
          "Total": 65,
          "Trial": 50,
          "Week": 7
         },
         {
          "AR": 4,
          "FR": 13,
          "Total": 69,
          "Trial": 52,
          "Week": 8
         },
         {
          "AR": 7,
          "FR": 17,
          "Total": 81,
          "Trial": 57,
          "Week": 9
         },
         {
          "AR": 9,
          "FR": 18,
          "Total": 87,
          "Trial": 60,
          "Week": 10
         },
         {
          "AR": 13,
          "FR": 22,
          "Total": 100,
          "Trial": 65,
          "Week": 11
         },
         {
          "AR": 15,
          "FR": 23,
          "Total": 105,
          "Trial": 67,
          "Week": 12
         },
         {
          "AR": 16,
          "FR": 23,
          "Total": 107,
          "Trial": 68,
          "Week": 13
         },
         {
          "AR": 18,
          "FR": 23,
          "Total": 113,
          "Trial": 72,
          "Week": 14
         },
         {
          "AR": 19,
          "FR": 23,
          "Total": 117,
          "Trial": 75,
          "Week": 15
         },
         {
          "AR": 21,
          "FR": 24,
          "Total": 126,
          "Trial": 81,
          "Week": 16
         },
         {
          "AR": 26,
          "FR": 24,
          "Total": 140,
          "Trial": 90,
          "Week": 17
         },
         {
          "AR": 30,
          "FR": 28,
          "Total": 152,
          "Trial": 94,
          "Week": 18
         },
         {
          "AR": 32,
          "FR": 32,
          "Total": 160,
          "Trial": 96,
          "Week": 19
         },
         {
          "AR": 35,
          "FR": 33,
          "Total": 164,
          "Trial": 96,
          "Week": 20
         },
         {
          "AR": 38,
          "FR": 33,
          "Total": 167,
          "Trial": 96,
          "Week": 21
         },
         {
          "AR": 39,
          "FR": 34,
          "Total": 170,
          "Trial": 97,
          "Week": 22
         },
         {
          "AR": 40,
          "FR": 35,
          "Total": 172,
          "Trial": 97,
          "Week": 23
         },
         {
          "AR": 43,
          "FR": 35,
          "Total": 179,
          "Trial": 101,
          "Week": 24
         }
        ]
       },
       "encoding": {
        "color": {
         "field": "Type",
         "type": "nominal"
        },
        "x": {
         "axis": {
          "labelExpr": "datum.value",
          "title": "Week",
          "values": [
           0,
           4,
           8,
           12,
           16,
           20,
           24,
           28,
           32,
           36,
           40,
           44,
           48,
           52
          ]
         },
         "field": "Week",
         "scale": {
          "domain": [
           0,
           52
          ]
         },
         "type": "quantitative"
        },
        "y": {
         "field": "Cum DoR",
         "scale": {
          "domain": [
           0,
           400
          ]
         },
         "title": "Cumulative Sales",
         "type": "quantitative"
        }
       },
       "height": 250,
       "mark": {
        "strokeWidth": 2,
        "type": "line"
       },
       "title": "Initial Cumulative Test-Market Sales",
       "transform": [
        {
         "as": [
          "Type",
          "Cum DoR"
         ],
         "fold": [
          "Trial",
          "FR",
          "AR",
          "Total"
         ]
        }
       ],
       "width": 650
      },
      "text/plain": [
       "<VegaLite 5 object>\n",
       "\n",
       "If you see this message, it means the renderer has not been properly enabled\n",
       "for the frontend that you are using. For more information, see\n",
       "https://altair-viz.github.io/user_guide/display_frontends.html#troubleshooting\n"
      ]
     },
     "execution_count": 23,
     "metadata": {},
     "output_type": "execute_result"
    }
   ],
   "source": [
    "alt.Chart(modified_cum_trans.filter(pl.col('Week')<=24)).transform_fold(\n",
    "    ['Trial', 'FR', 'AR', 'Total'],\n",
    "    as_=['Type', 'Cum DoR']\n",
    "    ).mark_line(strokeWidth=2).encode(\n",
    "    x = alt.X('Week', \n",
    "              scale=alt.Scale(domain=[0, 52]),\n",
    "              axis = alt.Axis(\n",
    "                values=np.arange(0, 53, 4),\n",
    "                labelExpr=\"datum.value\",\n",
    "                title='Week')   \n",
    "    ),\n",
    "    y = alt.Y(\n",
    "        f'Cum DoR:Q',\n",
    "        title='Cumulative Sales',\n",
    "        scale=alt.Scale(domain=[0, 400])\n",
    "    ),\n",
    "    color='Type:N'\n",
    ").properties(\n",
    "    width=650,\n",
    "    height=250,\n",
    "    title='Initial Cumulative Test-Market Sales'\n",
    ").configure_axisY(grid=False).configure_axisX(grid=False)"
   ]
  },
  {
   "cell_type": "code",
   "execution_count": 24,
   "metadata": {},
   "outputs": [
    {
     "data": {
      "application/vnd.vegalite.v5+json": {
       "$schema": "https://vega.github.io/schema/vega-lite/v5.20.1.json",
       "config": {
        "axisX": {
         "grid": false
        },
        "axisY": {
         "grid": false
        },
        "view": {
         "continuousHeight": 300,
         "continuousWidth": 300
        }
       },
       "data": {
        "name": "data-cce6342ca19d37df94ea64473c1df550"
       },
       "datasets": {
        "data-cce6342ca19d37df94ea64473c1df550": [
         {
          "AR": 0,
          "FR": 0,
          "Total": 8,
          "Trial": 8,
          "Week": 1
         },
         {
          "AR": 0,
          "FR": 1,
          "Total": 15,
          "Trial": 14,
          "Week": 2
         },
         {
          "AR": 0,
          "FR": 2,
          "Total": 18,
          "Trial": 16,
          "Week": 3
         },
         {
          "AR": 0,
          "FR": 3,
          "Total": 35,
          "Trial": 32,
          "Week": 4
         },
         {
          "AR": 0,
          "FR": 7,
          "Total": 47,
          "Trial": 40,
          "Week": 5
         },
         {
          "AR": 2,
          "FR": 9,
          "Total": 58,
          "Trial": 47,
          "Week": 6
         },
         {
          "AR": 3,
          "FR": 12,
          "Total": 65,
          "Trial": 50,
          "Week": 7
         },
         {
          "AR": 4,
          "FR": 13,
          "Total": 69,
          "Trial": 52,
          "Week": 8
         },
         {
          "AR": 7,
          "FR": 17,
          "Total": 81,
          "Trial": 57,
          "Week": 9
         },
         {
          "AR": 9,
          "FR": 18,
          "Total": 87,
          "Trial": 60,
          "Week": 10
         },
         {
          "AR": 13,
          "FR": 22,
          "Total": 100,
          "Trial": 65,
          "Week": 11
         },
         {
          "AR": 15,
          "FR": 23,
          "Total": 105,
          "Trial": 67,
          "Week": 12
         },
         {
          "AR": 16,
          "FR": 23,
          "Total": 107,
          "Trial": 68,
          "Week": 13
         },
         {
          "AR": 18,
          "FR": 23,
          "Total": 113,
          "Trial": 72,
          "Week": 14
         },
         {
          "AR": 19,
          "FR": 23,
          "Total": 117,
          "Trial": 75,
          "Week": 15
         },
         {
          "AR": 21,
          "FR": 24,
          "Total": 126,
          "Trial": 81,
          "Week": 16
         },
         {
          "AR": 26,
          "FR": 24,
          "Total": 140,
          "Trial": 90,
          "Week": 17
         },
         {
          "AR": 30,
          "FR": 28,
          "Total": 152,
          "Trial": 94,
          "Week": 18
         },
         {
          "AR": 32,
          "FR": 32,
          "Total": 160,
          "Trial": 96,
          "Week": 19
         },
         {
          "AR": 35,
          "FR": 33,
          "Total": 164,
          "Trial": 96,
          "Week": 20
         },
         {
          "AR": 38,
          "FR": 33,
          "Total": 167,
          "Trial": 96,
          "Week": 21
         },
         {
          "AR": 39,
          "FR": 34,
          "Total": 170,
          "Trial": 97,
          "Week": 22
         },
         {
          "AR": 40,
          "FR": 35,
          "Total": 172,
          "Trial": 97,
          "Week": 23
         },
         {
          "AR": 43,
          "FR": 35,
          "Total": 179,
          "Trial": 101,
          "Week": 24
         },
         {
          "AR": 43,
          "FR": 35,
          "Total": 179,
          "Trial": 101,
          "Week": 25
         },
         {
          "AR": 50,
          "FR": 35,
          "Total": 186,
          "Trial": 101,
          "Week": 26
         },
         {
          "AR": 53,
          "FR": 37,
          "Total": 195,
          "Trial": 105,
          "Week": 27
         },
         {
          "AR": 57,
          "FR": 37,
          "Total": 200,
          "Trial": 106,
          "Week": 28
         },
         {
          "AR": 60,
          "FR": 37,
          "Total": 203,
          "Trial": 106,
          "Week": 29
         },
         {
          "AR": 64,
          "FR": 41,
          "Total": 223,
          "Trial": 118,
          "Week": 30
         },
         {
          "AR": 65,
          "FR": 41,
          "Total": 225,
          "Trial": 119,
          "Week": 31
         },
         {
          "AR": 65,
          "FR": 42,
          "Total": 226,
          "Trial": 119,
          "Week": 32
         },
         {
          "AR": 67,
          "FR": 43,
          "Total": 230,
          "Trial": 120,
          "Week": 33
         },
         {
          "AR": 69,
          "FR": 44,
          "Total": 236,
          "Trial": 123,
          "Week": 34
         },
         {
          "AR": 72,
          "FR": 45,
          "Total": 242,
          "Trial": 125,
          "Week": 35
         },
         {
          "AR": 76,
          "FR": 45,
          "Total": 246,
          "Trial": 125,
          "Week": 36
         },
         {
          "AR": 80,
          "FR": 45,
          "Total": 251,
          "Trial": 126,
          "Week": 37
         },
         {
          "AR": 84,
          "FR": 45,
          "Total": 256,
          "Trial": 127,
          "Week": 38
         },
         {
          "AR": 84,
          "FR": 45,
          "Total": 256,
          "Trial": 127,
          "Week": 39
         },
         {
          "AR": 87,
          "FR": 45,
          "Total": 259,
          "Trial": 127,
          "Week": 40
         },
         {
          "AR": 87,
          "FR": 45,
          "Total": 259,
          "Trial": 127,
          "Week": 41
         },
         {
          "AR": 89,
          "FR": 45,
          "Total": 262,
          "Trial": 128,
          "Week": 42
         },
         {
          "AR": 89,
          "FR": 45,
          "Total": 263,
          "Trial": 129,
          "Week": 43
         },
         {
          "AR": 89,
          "FR": 46,
          "Total": 264,
          "Trial": 129,
          "Week": 44
         },
         {
          "AR": 93,
          "FR": 46,
          "Total": 268,
          "Trial": 129,
          "Week": 45
         },
         {
          "AR": 94,
          "FR": 46,
          "Total": 270,
          "Trial": 130,
          "Week": 46
         },
         {
          "AR": 98,
          "FR": 47,
          "Total": 277,
          "Trial": 132,
          "Week": 47
         },
         {
          "AR": 101,
          "FR": 48,
          "Total": 282,
          "Trial": 133,
          "Week": 48
         },
         {
          "AR": 105,
          "FR": 48,
          "Total": 290,
          "Trial": 137,
          "Week": 49
         },
         {
          "AR": 111,
          "FR": 50,
          "Total": 298,
          "Trial": 137,
          "Week": 50
         },
         {
          "AR": 112,
          "FR": 51,
          "Total": 300,
          "Trial": 137,
          "Week": 51
         },
         {
          "AR": 115,
          "FR": 52,
          "Total": 306,
          "Trial": 139,
          "Week": 52
         }
        ]
       },
       "encoding": {
        "x": {
         "axis": {
          "labelExpr": "datum.value",
          "title": "Week",
          "values": [
           0,
           4,
           8,
           12,
           16,
           20,
           24,
           28,
           32,
           36,
           40,
           44,
           48,
           52
          ]
         },
         "field": "Week",
         "scale": {
          "domain": [
           0,
           52
          ]
         },
         "type": "quantitative"
        },
        "y": {
         "field": "Trial",
         "title": "Cumulative # Triers",
         "type": "quantitative"
        }
       },
       "height": 250,
       "mark": {
        "strokeWidth": 2,
        "type": "line"
       },
       "title": "Actual Cumulative Trials",
       "width": 650
      },
      "text/plain": [
       "<VegaLite 5 object>\n",
       "\n",
       "If you see this message, it means the renderer has not been properly enabled\n",
       "for the frontend that you are using. For more information, see\n",
       "https://altair-viz.github.io/user_guide/display_frontends.html#troubleshooting\n"
      ]
     },
     "execution_count": 24,
     "metadata": {},
     "output_type": "execute_result"
    }
   ],
   "source": [
    "alt.Chart(modified_cum_trans).mark_line(strokeWidth=2).encode(\n",
    "    x = alt.X('Week', \n",
    "              scale=alt.Scale(domain=[0, 52]),\n",
    "              axis = alt.Axis(\n",
    "                values=np.arange(0, 53, 4),\n",
    "                labelExpr=\"datum.value\",\n",
    "                title='Week')              \n",
    "    ),\n",
    "    y = alt.Y(\n",
    "        f'Trial:Q',\n",
    "        title='Cumulative # Triers'\n",
    "    )\n",
    ").properties(\n",
    "    width=650,\n",
    "    height=250,\n",
    "    title='Actual Cumulative Trials'\n",
    ").configure_axisY(grid=False).configure_axisX(grid=False)"
   ]
  },
  {
   "cell_type": "code",
   "execution_count": 25,
   "metadata": {},
   "outputs": [],
   "source": [
    "def trial_model(trails: np.ndarray, weeks: np.ndarray, n: int, guess=[0.05, 0.05]):\n",
    "    \n",
    "    def least_square(x):\n",
    "        p_0, theta_T = x[0], x[1]\n",
    "        pred_cum_triers = p_0 * (1 - np.exp(-theta_T * weeks)) * n\n",
    "        return np.sum((pred_cum_triers - trails)**2)\n",
    "    \n",
    "    return minimize(least_square, guess, bounds=[(0, np.inf), (0, np.inf)])"
   ]
  },
  {
   "cell_type": "code",
   "execution_count": 26,
   "metadata": {},
   "outputs": [
    {
     "data": {
      "text/markdown": [
       "$P_0$ = 0.0862\n",
       "\n",
       "$\\theta_{T}$ = 0.0643\n",
       "\n",
       "Sum of Square Errors = 286.6578"
      ]
     },
     "metadata": {},
     "output_type": "display_data"
    }
   ],
   "source": [
    "train_trial = (\n",
    "    modified_cum_trans\n",
    "    .filter(pl.col('Week')<=24)\n",
    "    .select('Trial', 'Week')\n",
    "    .to_numpy().transpose()\n",
    ")\n",
    "\n",
    "trails, weeks = train_trial[0], train_trial[1]\n",
    "\n",
    "result = trial_model(trails, weeks, n=num_panellists_m2)\n",
    "p_0, theta_T, sse = result.x[0], result.x[1], result.fun\n",
    "\n",
    "display_markdown(f'''$P_{0}$ = {p_0:0.4f}\n",
    "\n",
    "$\\\\theta_{{T}}$ = {theta_T:0.4f}\n",
    "\n",
    "Sum of Square Errors = {sse:0.4f}''', raw=True)"
   ]
  },
  {
   "cell_type": "code",
   "execution_count": 27,
   "metadata": {},
   "outputs": [],
   "source": [
    "def fr_model(fr: np.ndarray, eligible: np.ndarray, weeks: np.ndarray, guess=[0.05, 0.05]):\n",
    "    \n",
    "    def least_square(x):\n",
    "        p_1, theta_FR = x[0], x[1]\n",
    "        t = weeks\n",
    "        t_0 = weeks.reshape(-1,1)\n",
    "\n",
    "        p_fr_trial = p_1 * (1 - np.exp(-theta_FR * (t - t_0)))\n",
    "        p_fr_trial = np.triu(p_fr_trial)     \n",
    "        \n",
    "        pred_cum_fr = p_fr_trial.T @ eligible    \n",
    "        \n",
    "        return np.sum((pred_cum_fr - fr)**2)\n",
    "        \n",
    "    return minimize(least_square, guess, bounds=[(0, np.inf), (0, np.inf)])"
   ]
  },
  {
   "cell_type": "code",
   "execution_count": 28,
   "metadata": {},
   "outputs": [
    {
     "data": {
      "text/markdown": [
       "$P_1$ = 0.3635\n",
       "\n",
       "$\\theta_{FR}$ = 0.4614\n",
       "\n",
       "Sum of Square Errors = 31.6774"
      ]
     },
     "metadata": {},
     "output_type": "display_data"
    }
   ],
   "source": [
    "fr_array = (\n",
    "    modified_cum_trans\n",
    "    .filter(pl.col('Week')<=24)\n",
    "    .select('Trial', 'FR', 'Week')\n",
    "    .to_numpy().transpose()         \n",
    ")\n",
    "\n",
    "eligible, fr, weeks = np.diff(fr_array[0], prepend=0), fr_array[1], fr_array[2]\n",
    "\n",
    "result = fr_model(fr, eligible, weeks)\n",
    "p_1, theta_FR, sse = result.x[0], result.x[1], result.fun\n",
    "\n",
    "display_markdown(f'''$P_{1}$ = {p_1:0.4f}\n",
    "\n",
    "$\\\\theta_{{FR}}$ = {theta_FR:0.4f}\n",
    "\n",
    "Sum of Square Errors = {sse:0.4f}''', raw=True)"
   ]
  },
  {
   "cell_type": "code",
   "execution_count": 29,
   "metadata": {},
   "outputs": [],
   "source": [
    "def ar_model(ar, eligibles, weeks, j, guess=[0.5, 0.5, 0.5]):\n",
    "\n",
    "    def least_square(x):\n",
    "        p_inf, gamma, theta_AR = x[0], x[1], x[2]\n",
    "        t, t_0 = weeks, weeks.reshape(-1, 1)\n",
    "        \n",
    "        sse = np.zeros(len(j))\n",
    "\n",
    "        for i, DoR in enumerate(j):\n",
    "            p_j = p_inf * (1 - np.exp(-gamma * DoR))\n",
    "            p_ar = p_j * (1 - np.exp(-theta_AR * (t - t_0)))\n",
    "            p_ar = np.triu(p_ar)\n",
    "            p_ar[:DoR-1] = 0\n",
    "\n",
    "            pred_cum_ar = p_ar.T @ eligibles[i]\n",
    "            sse[i] = np.sum((pred_cum_ar - ar[i])**2)\n",
    "\n",
    "        return np.sum(sse)\n",
    "\n",
    "    return minimize(least_square, guess, bounds=[(0,np.inf),(0,np.inf),(0,np.inf)])"
   ]
  },
  {
   "cell_type": "code",
   "execution_count": 30,
   "metadata": {},
   "outputs": [
    {
     "data": {
      "text/markdown": [
       "$p_{\\infty}$ = 0.7816\n",
       "\n",
       "$\\gamma$ = 1.0014\n",
       "\n",
       "$\\theta_{AR}$ = 0.2309\n",
       "\n",
       "Sum of Square Errors = 51.1730"
      ]
     },
     "metadata": {},
     "output_type": "display_data"
    }
   ],
   "source": [
    "mod_cum_ar_trans = (\n",
    "    sh_cum_trans_wideform\n",
    "    .filter(pl.col('shWeek') <= 24)\n",
    "    .rename({'shWeek': 'Week'})\n",
    "    .select('1', '2', '3', '4', '5', 'Week')\n",
    "    .to_numpy().transpose()\n",
    ")\n",
    "\n",
    "eligibles = np.diff(mod_cum_ar_trans[:-2], prepend=0, axis=1)\n",
    "ar = mod_cum_ar_trans[1:-1]\n",
    "weeks = mod_cum_ar_trans[-1]\n",
    "j = np.arange(2, 6, 1)\n",
    "\n",
    "result = ar_model(ar, eligibles, weeks, j)\n",
    "p_inf, gamma, theta_AR, sse = result.x[0], result.x[1], result.x[2], result.fun\n",
    "\n",
    "display_markdown(f'''$p_{{\\\\infty}}$ = {p_inf:0.4f}\n",
    "\n",
    "$\\\\gamma$ = {gamma:0.4f}\n",
    "\n",
    "$\\\\theta_{{AR}}$ = {theta_AR:0.4f}\n",
    "\n",
    "Sum of Square Errors = {sse:0.4f}''', raw=True)"
   ]
  },
  {
   "cell_type": "code",
   "execution_count": 31,
   "metadata": {},
   "outputs": [
    {
     "data": {
      "text/markdown": [
       "Our forecast horizon is 52 weeks and we allow for up to 51 level of repeats.\n",
       "\n",
       "**Trial Model Parameters:**\n",
       "- $P_0$ = 0.0862\n",
       "- $\\theta_{T}$ = 0.0643\n",
       "\n",
       "**First Repeat Model Parameters:**\n",
       "- $P_1$ = 0.3635\n",
       "- $\\theta_{FR}$ = 0.4614\n",
       "\n",
       "**Additioanl Repeat Model Parameters:**\n",
       "- $p_{\\infty}$ = 0.7816\n",
       "- $\\gamma$ = 1.0014\n",
       "- $\\theta_{AR}$ = 0.2309"
      ]
     },
     "metadata": {},
     "output_type": "display_data"
    }
   ],
   "source": [
    "endwk = 52\n",
    "\n",
    "display_markdown(f'''Our forecast horizon is {endwk} weeks and we allow for up to {endwk-1} level of repeats.\n",
    "\n",
    "**Trial Model Parameters:**\n",
    "- $P_{0}$ = {p_0:0.4f}\n",
    "- $\\\\theta_{{T}}$ = {theta_T:0.4f}\n",
    "\n",
    "**First Repeat Model Parameters:**\n",
    "- $P_{1}$ = {p_1:0.4f}\n",
    "- $\\\\theta_{{FR}}$ = {theta_FR:0.4f}\n",
    "\n",
    "**Additioanl Repeat Model Parameters:**\n",
    "- $p_{{\\\\infty}}$ = {p_inf:0.4f}\n",
    "- $\\\\gamma$ = {gamma:0.4f}\n",
    "- $\\\\theta_{{AR}}$ = {theta_AR:0.4f}''', raw=True)"
   ]
  },
  {
   "cell_type": "code",
   "execution_count": 78,
   "metadata": {},
   "outputs": [],
   "source": [
    "# Trial Purchase Model Parameters\n",
    "p_0 = 0.08620\n",
    "theta_T = 0.06428\n",
    "\n",
    "# First Repeat Model Parameters\n",
    "p_1 = 0.36346\n",
    "theta_FR = 0.46140\n",
    "\n",
    "# Additional Repeat Model Parameters\n",
    "p_inf = 0.78158\n",
    "gamma = 1.00140\n",
    "theta_AR = 0.23094"
   ]
  },
  {
   "cell_type": "markdown",
   "metadata": {},
   "source": [
    "#### Forecasting Trial Transactions"
   ]
  },
  {
   "cell_type": "markdown",
   "metadata": {},
   "source": [
    "Our goal is to generate a (cumulative) sales forecast for the new product up to the end of the year (week 52). We start by generating a forecast of $T(t)$, the cumulative number of trial transactions by $t$, for $t=1, \\ldots, 52$.\n",
    "\n",
    "Given $\\hat{p}_{0}$ and $\\hat{\\theta}_{T}$, we evaluate expressions (1) and (2) by specifying the vector of time points $t$ (up to 52 weeks). "
   ]
  },
  {
   "cell_type": "code",
   "execution_count": 79,
   "metadata": {},
   "outputs": [
    {
     "name": "stdout",
     "output_type": "stream",
     "text": [
      "[  8.04454173  15.58824957  22.66230421  29.29594516  35.51659151\n",
      "  41.34995532  46.82014786  51.94977932  56.76005221  61.27084903\n",
      "  65.50081444  69.46743233  73.1870981   76.67518638  79.94611464\n",
      "  83.01340274  85.88972883  88.58698174  91.11631015  93.48816863\n",
      "  95.71236088  97.79808024  99.75394772 101.58804757 103.30796075\n",
      " 104.92079626 106.4332205  107.85148482 109.1814514  110.42861745\n",
      " 111.59813793 112.69484686 113.72327732 114.68768017 115.5920416\n",
      " 116.44009965 117.23535965 117.98110865 118.68042912 119.33621156\n",
      " 119.95116656 120.52783594 121.06860326 121.5757037  122.05123328\n",
      " 122.49715753 122.91531961 123.30744791 123.67516325 124.01998551\n",
      " 124.34333996 124.64656314]\n"
     ]
    }
   ],
   "source": [
    "t = np.arange(1, endwk+1, 1)\n",
    "cum_trial = num_panellists_m2 * p_0 * (1 - np.exp(-theta_T * t))\n",
    "print(cum_trial)"
   ]
  },
  {
   "cell_type": "markdown",
   "metadata": {},
   "source": [
    "#### Forecasting First-Repeat Transactions"
   ]
  },
  {
   "cell_type": "markdown",
   "metadata": {},
   "source": [
    "The next step is to generate a forecast of first-repeat purchasing, *conditional on our forecast of trial transactions*. We have generated a forecast of $T(t)$, the cumulative number of trial transactions by $t$, whereas our expression for $FR(t),(5)$, requires the incremental number of triers in each period. We compute this quantity, storing it in the array `eligible`. At time $t$, we use (6) to compute the probability of making a first repeat purchase $t$ periods after a trial purchase $(t=1, \\ldots, 52)$. Given these two quantities, we use (5) to compute $FR(t)$."
   ]
  },
  {
   "cell_type": "code",
   "execution_count": 80,
   "metadata": {},
   "outputs": [],
   "source": [
    "repeat = np.zeros((endwk, endwk-1))\n",
    "probmat = np.zeros((endwk, endwk))"
   ]
  },
  {
   "cell_type": "code",
   "execution_count": 81,
   "metadata": {},
   "outputs": [
    {
     "name": "stdout",
     "output_type": "stream",
     "text": [
      "[ 0.          1.08066067  2.77529098  4.79387735  6.95752295  9.15713448\n",
      " 11.32739347 13.43036214 15.44516179 17.36147874 19.17548214 20.88726163\n",
      " 22.49922244 24.01508327 25.43925375 26.77645047 28.03146298 29.20901369\n",
      " 30.31367673 31.34983326 32.32164959 33.23306914 34.08781282 34.8893844\n",
      " 35.64107866 36.34599099 37.00702775 37.6269166  38.20821686 38.7533294\n",
      " 39.26450622 39.74385944 40.19336994 40.61489541 41.01017798 41.38085137\n",
      " 41.72844763 42.05440344 42.36006606 42.64669889 42.91548667 43.16754036\n",
      " 43.40390181 43.62554796 43.83339496 44.0283019  44.21107441 44.38246793\n",
      " 44.54319091 44.69390766 44.83524114 44.96777554]\n"
     ]
    }
   ],
   "source": [
    "t_0 = t.reshape(-1, 1)\n",
    "eligible = np.diff(cum_trial, prepend=0)\n",
    "\n",
    "p_fr_trial = p_1 * (1 - np.exp(-theta_FR * (t - t_0)))\n",
    "p_fr_trial = np.triu(p_fr_trial)\n",
    "\n",
    "pred_cum_fr = p_fr_trial.T @ eligible \n",
    "print(pred_cum_fr)\n",
    "\n",
    "repeat[:,0] = pred_cum_fr"
   ]
  },
  {
   "cell_type": "markdown",
   "metadata": {},
   "source": [
    "#### Forecasting Additional Repeat Transactions"
   ]
  },
  {
   "cell_type": "markdown",
   "metadata": {},
   "source": [
    "To forecast additional repeat, we first compute second repeat (conditional on our forecast of first repeat), then compute third repeat (conditional on our forecast of second repeat), and so on. The code we use to accomplish this is basically the same as that for first repeat, embedded within a loop\n",
    "over depth-of-repeat levels. Given the assumption that a customer can have only one transaction per period, we could theoretically have up to 51 depth-of-repeat levels for a 52-week forecast horizon. Another consequence of this assumption is that the first week in which a $j$ th repeat purchase could occur is week $j+1$; this means $R_{j}(t)=0$ for $t \\leq j$."
   ]
  },
  {
   "cell_type": "code",
   "execution_count": 82,
   "metadata": {},
   "outputs": [],
   "source": [
    "j = np.arange(2, endwk, 1)\n",
    "p_j = p_inf * (1 - np.exp(-gamma * j))\n",
    "\n",
    "for DoR in j:\n",
    "    eligibles = np.diff(repeat[:,DoR-2], prepend=0)\n",
    "    p_ar = p_j[DoR-2] * (1 - np.exp(-theta_AR * (t - t_0)))\n",
    "    p_ar = np.triu(p_ar)\n",
    "    p_ar[:DoR-2] = 0\n",
    "    repeat[:,DoR-1] = p_ar.T @ eligibles"
   ]
  },
  {
   "cell_type": "markdown",
   "metadata": {},
   "source": [
    "#### Bringing It All Together"
   ]
  },
  {
   "cell_type": "markdown",
   "metadata": {},
   "source": [
    "We can now compute $A R(t)=R_{2}(t)+\\cdots+R_{52}(t)$, and print out our forecasts of $T(t), F R(t), A R(t)$, and $S(t)(=T(t)+F R(t)+A R(t))$."
   ]
  },
  {
   "cell_type": "code",
   "execution_count": 86,
   "metadata": {},
   "outputs": [
    {
     "data": {
      "text/html": [
       "<div><style>\n",
       ".dataframe > thead > tr,\n",
       ".dataframe > tbody > tr {\n",
       "  text-align: right;\n",
       "  white-space: pre-wrap;\n",
       "}\n",
       "</style>\n",
       "<small>shape: (52, 5)</small><table border=\"1\" class=\"dataframe\"><thead><tr><th>Week</th><th>T(t)</th><th>FR(t)</th><th>AR(t)</th><th>S(t)</th></tr><tr><td>i64</td><td>f64</td><td>f64</td><td>f64</td><td>f64</td></tr></thead><tbody><tr><td>1</td><td>8.044542</td><td>0.0</td><td>0.0</td><td>8.044542</td></tr><tr><td>2</td><td>15.58825</td><td>1.080661</td><td>0.0</td><td>16.66891</td></tr><tr><td>3</td><td>22.662304</td><td>2.775291</td><td>0.150666</td><td>25.588262</td></tr><tr><td>4</td><td>29.295945</td><td>4.793877</td><td>0.529609</td><td>34.619432</td></tr><tr><td>5</td><td>35.516592</td><td>6.957523</td><td>1.170005</td><td>43.64412</td></tr><tr><td>&hellip;</td><td>&hellip;</td><td>&hellip;</td><td>&hellip;</td><td>&hellip;</td></tr><tr><td>48</td><td>123.307448</td><td>44.382468</td><td>96.07859</td><td>263.768506</td></tr><tr><td>49</td><td>123.675163</td><td>44.543191</td><td>97.621596</td><td>265.83995</td></tr><tr><td>50</td><td>124.019986</td><td>44.693908</td><td>99.115477</td><td>267.82937</td></tr><tr><td>51</td><td>124.34334</td><td>44.835241</td><td>100.561176</td><td>269.739757</td></tr><tr><td>52</td><td>124.646563</td><td>44.967776</td><td>101.959671</td><td>271.57401</td></tr></tbody></table></div>"
      ],
      "text/plain": [
       "shape: (52, 5)\n",
       "┌──────┬────────────┬───────────┬────────────┬────────────┐\n",
       "│ Week ┆ T(t)       ┆ FR(t)     ┆ AR(t)      ┆ S(t)       │\n",
       "│ ---  ┆ ---        ┆ ---       ┆ ---        ┆ ---        │\n",
       "│ i64  ┆ f64        ┆ f64       ┆ f64        ┆ f64        │\n",
       "╞══════╪════════════╪═══════════╪════════════╪════════════╡\n",
       "│ 1    ┆ 8.044542   ┆ 0.0       ┆ 0.0        ┆ 8.044542   │\n",
       "│ 2    ┆ 15.58825   ┆ 1.080661  ┆ 0.0        ┆ 16.66891   │\n",
       "│ 3    ┆ 22.662304  ┆ 2.775291  ┆ 0.150666   ┆ 25.588262  │\n",
       "│ 4    ┆ 29.295945  ┆ 4.793877  ┆ 0.529609   ┆ 34.619432  │\n",
       "│ 5    ┆ 35.516592  ┆ 6.957523  ┆ 1.170005   ┆ 43.64412   │\n",
       "│ …    ┆ …          ┆ …         ┆ …          ┆ …          │\n",
       "│ 48   ┆ 123.307448 ┆ 44.382468 ┆ 96.07859   ┆ 263.768506 │\n",
       "│ 49   ┆ 123.675163 ┆ 44.543191 ┆ 97.621596  ┆ 265.83995  │\n",
       "│ 50   ┆ 124.019986 ┆ 44.693908 ┆ 99.115477  ┆ 267.82937  │\n",
       "│ 51   ┆ 124.34334  ┆ 44.835241 ┆ 100.561176 ┆ 269.739757 │\n",
       "│ 52   ┆ 124.646563 ┆ 44.967776 ┆ 101.959671 ┆ 271.57401  │\n",
       "└──────┴────────────┴───────────┴────────────┴────────────┘"
      ]
     },
     "execution_count": 86,
     "metadata": {},
     "output_type": "execute_result"
    }
   ],
   "source": [
    "ar = np.sum(repeat[:,1:], axis=1)\n",
    "totals = cum_trial + np.sum(repeat, axis=1)\n",
    "\n",
    "results = pl.DataFrame({\n",
    "    'Week': t,\n",
    "    'T(t)': cum_trial,\n",
    "    'FR(t)': repeat[:,0],\n",
    "    'AR(t)': ar,\n",
    "    'S(t)': totals\n",
    "})\n",
    "\n",
    "results"
   ]
  }
 ],
 "metadata": {
  "kernelspec": {
   "display_name": "Main (venv)",
   "language": "python",
   "name": ".venv"
  },
  "language_info": {
   "codemirror_mode": {
    "name": "ipython",
    "version": 3
   },
   "file_extension": ".py",
   "mimetype": "text/x-python",
   "name": "python",
   "nbconvert_exporter": "python",
   "pygments_lexer": "ipython3",
   "version": "3.13.0"
  }
 },
 "nbformat": 4,
 "nbformat_minor": 2
}
