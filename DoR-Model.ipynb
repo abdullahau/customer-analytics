{
 "cells": [
  {
   "cell_type": "markdown",
   "metadata": {},
   "source": [
    "## <span style=\"color:#956bbf\">Depth-of-Repeat Model - Sales Summary & Sales Forecasting</span>\n",
    "---"
   ]
  },
  {
   "cell_type": "markdown",
   "metadata": {},
   "source": [
    "### <span style=\"color:#956bbf\">Introduction</span>"
   ]
  },
  {
   "cell_type": "markdown",
   "metadata": {},
   "source": [
    "**Source**:\n",
    "- [Creating a Depth-of-Repeat Sales Summary Using Excel](https://www.brucehardie.com/notes/006/) by Bruce G. S. Hardie & Peter S. Fader\n",
    "- [Generating a Sales Forecast With a Simple Depth-of-Repeat Model](https://www.brucehardie.com/notes/007/) by Bruce G. S. Hardie & Peter S. Fader"
   ]
  },
  {
   "cell_type": "markdown",
   "metadata": {},
   "source": [
    "Central to diagnosing the performance of a new product is the decomposition of its total sales into trial, first repeat, second repeat, and so on, components. More formally, we are interested in creating a summary of purchasing that tells us for each unit of time (e.g., week), the cumulative number of people who have made a trial (i.e., first-ever) purchase, a first repeat (i.e., secondever) purchase, a second repeat purchase, and so on. We let $T(t)$ denote the cumulative number of people who have made a trial purchase by time $t$, and $R_{j}(t)$ denote the number of people who have made at least $j$ repeat purchases of the new product by time $t(j=1,2,3, \\ldots)$.\n",
    "\n",
    "With such a data summary in place, standard new product performance metrics such as “percent triers repeating” and “repeats per repeater” are easily computed from these data. At any point in time $t$, percent triers repeating is computed as $R_{1}(t)/T (t)$, while repeats per repeater is computed as $R(t)/R_{1}(t)$, where $R(t)$ is the total number of repeat purchases up to time $t$:\n",
    "\n",
    "$$\n",
    "R(t)=\\sum_{j=1}^{\\infty} R_{j}(t)\n",
    "$$\n",
    "\n",
    "Furthermore, a simple new product sales forecasting model can easily be built around such a data summary.\n",
    "\n",
    "we describe how to create such a sales summary from raw customer-level transaction data (typically collected via a consumer panel) using python."
   ]
  },
  {
   "cell_type": "markdown",
   "metadata": {},
   "source": [
    "A consumer panel is formed by selecting a representative sample of individuals or households (from the population of interest) and recording their complete behaviour (e.g., purchasing of FMCG products) over a fixed period of time.\n",
    "\n",
    "For a given product category, we can construct a dataset that reports the timing of each purchase, along with details of the product purchased. A stylized representation of this is given in the figure (Purchase Histories: Total Category) below for a total of $n$ households, in which we consider an observation period starting with the launch of a new product and ending at time $t_{\\text {end }}$. We let $\\diamond$ denote a purchase of the new product and $\\times$ denote the purchase of any other product in the category.\n",
    "\n",
    "<div style=\"max-width:400px;margin-left: auto; margin-right: auto;\">\n",
    "<img src=\"references\\Depth-of-Repeat\\Purchase Histories-Total Category.png\"/>\n",
    "</div>\n",
    "\n",
    "We see that HH 1 made three category purchases over the observation period but never purchased the new product. HH 2 made seven category purchases; the third category purchase represents a trial purchase of the new product, and no repeat purchasing activity was observed over the remainder of the observation period. HH 3 made a trial purchase of the new product and two repeat purchases. And so on.\n",
    "\n",
    "In many analysis situations, where we are focusing on a particular product, purchase records not associated with the focal product are removed to yield a simpler (and smaller) dataset. A stylized representation of this is given in the figure (Purchase Histories: New Product Only) below. As HH 1 never bought the new product, there is no explicit record of this household in the resulting dataset.\n",
    "\n",
    "<div style=\"max-width:400px;margin-left: auto; margin-right: auto;\">\n",
    "<img src=\"references\\Depth-of-Repeat\\Purchase Histories-New Product Only.png\"/>\n",
    "</div>"
   ]
  },
  {
   "cell_type": "markdown",
   "metadata": {},
   "source": [
    "### <span style=\"color:#956bbf\">Imports</span>\n",
    "---"
   ]
  },
  {
   "cell_type": "markdown",
   "metadata": {},
   "source": [
    "#### Import Packages"
   ]
  },
  {
   "cell_type": "code",
   "execution_count": 1,
   "metadata": {},
   "outputs": [
    {
     "data": {
      "text/plain": [
       "RendererRegistry.enable('mimetype')"
      ]
     },
     "execution_count": 1,
     "metadata": {},
     "output_type": "execute_result"
    }
   ],
   "source": [
    "import polars as pl\n",
    "import numpy as np\n",
    "import altair as alt\n",
    "from scipy.optimize import minimize\n",
    "from IPython.display import display_markdown\n",
    "\n",
    "alt.renderers.enable('mimetype')"
   ]
  },
  {
   "cell_type": "markdown",
   "metadata": {},
   "source": [
    "#### Import Panel Data"
   ]
  },
  {
   "cell_type": "markdown",
   "metadata": {},
   "source": [
    "\"Kiwi Bubbles\" is a masked name for a shelf-stable juice drink, aimed primarily at children, which is sold as a multipack with several single-serve containers bundled together. Prior to national launch, it underwent a year-long test conducted in two of IRI's BehaviorScan markets. The file `kiwibubbles_tran.txt` contains purchasing data for the new product, drawn from 1300 panelists in Market 1 and 1499 panelists in Market 2.\n",
    "\n",
    "Each record in this file comprises five fields: *Panelist ID*, *Market*, *Week*, *Day*, and *Units*. The value of the Market field is either 1 or 2. The Week field gives us the week number in which the purchase occurred (the product was launched at the beginning of week 1), the Day field tells us the day of the week (1-7) in which the purchase occurred, and the Units field tells us how many units of the new product were purchased on that particular purchase occasion.\n",
    "\n",
    "We load this dataset into python. We see that there are a total of 857 transactions across the two markets during the year-long test."
   ]
  },
  {
   "cell_type": "code",
   "execution_count": 2,
   "metadata": {},
   "outputs": [
    {
     "data": {
      "text/html": [
       "<div><style>\n",
       ".dataframe > thead > tr,\n",
       ".dataframe > tbody > tr {\n",
       "  text-align: right;\n",
       "  white-space: pre-wrap;\n",
       "}\n",
       "</style>\n",
       "<small>shape: (5, 5)</small><table border=\"1\" class=\"dataframe\"><thead><tr><th>ID</th><th>Market</th><th>Week</th><th>Day</th><th>Units</th></tr><tr><td>u16</td><td>u8</td><td>i16</td><td>i16</td><td>i16</td></tr></thead><tbody><tr><td>10001</td><td>1</td><td>19</td><td>3</td><td>1</td></tr><tr><td>10002</td><td>1</td><td>12</td><td>5</td><td>1</td></tr><tr><td>10003</td><td>1</td><td>37</td><td>7</td><td>1</td></tr><tr><td>10004</td><td>1</td><td>30</td><td>6</td><td>1</td></tr><tr><td>10004</td><td>1</td><td>47</td><td>3</td><td>1</td></tr></tbody></table></div>"
      ],
      "text/plain": [
       "shape: (5, 5)\n",
       "┌───────┬────────┬──────┬─────┬───────┐\n",
       "│ ID    ┆ Market ┆ Week ┆ Day ┆ Units │\n",
       "│ ---   ┆ ---    ┆ ---  ┆ --- ┆ ---   │\n",
       "│ u16   ┆ u8     ┆ i16  ┆ i16 ┆ i16   │\n",
       "╞═══════╪════════╪══════╪═════╪═══════╡\n",
       "│ 10001 ┆ 1      ┆ 19   ┆ 3   ┆ 1     │\n",
       "│ 10002 ┆ 1      ┆ 12   ┆ 5   ┆ 1     │\n",
       "│ 10003 ┆ 1      ┆ 37   ┆ 7   ┆ 1     │\n",
       "│ 10004 ┆ 1      ┆ 30   ┆ 6   ┆ 1     │\n",
       "│ 10004 ┆ 1      ┆ 47   ┆ 3   ┆ 1     │\n",
       "└───────┴────────┴──────┴─────┴───────┘"
      ]
     },
     "execution_count": 2,
     "metadata": {},
     "output_type": "execute_result"
    }
   ],
   "source": [
    "kiwi_lf = pl.scan_csv(source=\"data/kiwibubbles/kiwibubbles_tran.csv\",\n",
    "                      has_header=False,\n",
    "                      separator=\",\",\n",
    "                      schema={'ID': pl.UInt16,\n",
    "                              'Market': pl.UInt8,\n",
    "                              'Week': pl.Int16,\n",
    "                              'Day': pl.Int16,\n",
    "                              'Units': pl.Int16})\n",
    "kiwi_lf.head().collect()"
   ]
  },
  {
   "cell_type": "markdown",
   "metadata": {},
   "source": [
    "To illustrate the process of creating a sales by depth-of-repeat summary from this raw transaction data, we will focus just on **Market 2**."
   ]
  },
  {
   "cell_type": "code",
   "execution_count": 3,
   "metadata": {},
   "outputs": [],
   "source": [
    "kiwi_lf_m2 = (kiwi_lf.filter(pl.col('Market') == 2).drop('Market'))\n",
    "num_panellists_m2 = 1499"
   ]
  },
  {
   "cell_type": "markdown",
   "metadata": {},
   "source": [
    "#### Reusable Function"
   ]
  },
  {
   "cell_type": "code",
   "execution_count": 4,
   "metadata": {},
   "outputs": [],
   "source": [
    "class ChartTemp(alt.Chart):\n",
    "    def __init__(self, data, **kwargs):\n",
    "        super().__init__(data=data, **kwargs)\n",
    "    \n",
    "    def line_encode(self, \n",
    "                    y_col, \n",
    "                    y_scale=alt.Scale(), \n",
    "                    y_title = 'Cumulative Sales (# Transactions)', \n",
    "                    dash=[1,0], \n",
    "                    color=alt.Color(), \n",
    "                    x_col='Week (t)', \n",
    "                    x_title='Week', \n",
    "                    x_range=52):\n",
    "        \n",
    "        line = self.mark_line(strokeWidth=2, strokeDash=dash).encode(\n",
    "            x = alt.X(x_col, \n",
    "                      scale=alt.Scale(domain=[0, x_range]),\n",
    "                      axis = alt.Axis(\n",
    "                          values=np.arange(0, x_range+1, 4),\n",
    "                          labelExpr=\"datum.value\",\n",
    "                          title=x_title)\n",
    "            ),\n",
    "            y = alt.Y(y_col, \n",
    "                      title=y_title,\n",
    "                      scale=y_scale\n",
    "            ),\n",
    "            color=color\n",
    "        )\n",
    "        return line   \n",
    "    \n",
    "    def line_prop(self, title):\n",
    "        line = self.properties(\n",
    "            width=650,\n",
    "            height=250,\n",
    "            title=title\n",
    "        ).configure_view(stroke=None).configure_axisY(grid=False).configure_axisX(grid=False)     \n",
    "        \n",
    "        return line"
   ]
  },
  {
   "cell_type": "code",
   "execution_count": 5,
   "metadata": {},
   "outputs": [],
   "source": [
    "def layered_line_prop(chart, title):\n",
    "    line = chart.properties(\n",
    "        width=650,\n",
    "        height=250,\n",
    "        title=title\n",
    "    ).configure_view(stroke=None).configure_axisY(grid=False).configure_axisX(grid=False)     \n",
    "    \n",
    "    return line"
   ]
  },
  {
   "cell_type": "markdown",
   "metadata": {},
   "source": [
    "### <span style=\"color:#956bbf\">Creating a Depth-of-Repeat Sales Summary</span>\n",
    "---"
   ]
  },
  {
   "cell_type": "markdown",
   "metadata": {},
   "source": [
    "#### Preliminaries"
   ]
  },
  {
   "cell_type": "markdown",
   "metadata": {},
   "source": [
    "Let us consider the transaction history of panelist 20014. We note that this panelist made his/her trial purchase and first repeat purchase in week 4. Similarly, this panelist's third and fourth repeat purchases occurred in week 7 . We also note that this panelist typically purchased several units of the product on any given purchase occasion."
   ]
  },
  {
   "cell_type": "code",
   "execution_count": 6,
   "metadata": {},
   "outputs": [
    {
     "data": {
      "text/html": [
       "<div><style>\n",
       ".dataframe > thead > tr,\n",
       ".dataframe > tbody > tr {\n",
       "  text-align: right;\n",
       "  white-space: pre-wrap;\n",
       "}\n",
       "</style>\n",
       "<small>shape: (9, 4)</small><table border=\"1\" class=\"dataframe\"><thead><tr><th>ID</th><th>Week</th><th>Day</th><th>Units</th></tr><tr><td>u16</td><td>i16</td><td>i16</td><td>i16</td></tr></thead><tbody><tr><td>20014</td><td>4</td><td>2</td><td>1</td></tr><tr><td>20014</td><td>4</td><td>4</td><td>1</td></tr><tr><td>20014</td><td>6</td><td>6</td><td>2</td></tr><tr><td>20014</td><td>7</td><td>2</td><td>3</td></tr><tr><td>20014</td><td>7</td><td>6</td><td>3</td></tr><tr><td>20014</td><td>12</td><td>5</td><td>2</td></tr><tr><td>20014</td><td>17</td><td>6</td><td>1</td></tr><tr><td>20014</td><td>23</td><td>4</td><td>2</td></tr><tr><td>20014</td><td>47</td><td>6</td><td>2</td></tr></tbody></table></div>"
      ],
      "text/plain": [
       "shape: (9, 4)\n",
       "┌───────┬──────┬─────┬───────┐\n",
       "│ ID    ┆ Week ┆ Day ┆ Units │\n",
       "│ ---   ┆ ---  ┆ --- ┆ ---   │\n",
       "│ u16   ┆ i16  ┆ i16 ┆ i16   │\n",
       "╞═══════╪══════╪═════╪═══════╡\n",
       "│ 20014 ┆ 4    ┆ 2   ┆ 1     │\n",
       "│ 20014 ┆ 4    ┆ 4   ┆ 1     │\n",
       "│ 20014 ┆ 6    ┆ 6   ┆ 2     │\n",
       "│ 20014 ┆ 7    ┆ 2   ┆ 3     │\n",
       "│ 20014 ┆ 7    ┆ 6   ┆ 3     │\n",
       "│ 20014 ┆ 12   ┆ 5   ┆ 2     │\n",
       "│ 20014 ┆ 17   ┆ 6   ┆ 1     │\n",
       "│ 20014 ┆ 23   ┆ 4   ┆ 2     │\n",
       "│ 20014 ┆ 47   ┆ 6   ┆ 2     │\n",
       "└───────┴──────┴─────┴───────┘"
      ]
     },
     "execution_count": 6,
     "metadata": {},
     "output_type": "execute_result"
    }
   ],
   "source": [
    "kiwi_lf_m2.filter(pl.col('ID') == 20014).collect()"
   ]
  },
  {
   "cell_type": "markdown",
   "metadata": {},
   "source": [
    "This suggests several possible versions of the desired sales by depth-of-repeat summary:\n",
    "- Our summary counts the number of trial, first repeat, second repeat, etc. transactions that occurred each week. The process of creating such a summary is described in section [Creating a “Raw” Transactions Summary](#raw_trans_summary)' below.\n",
    "- Our summary reports the *sales volume* (e.g., units) associated with trial, first repeat, second repeat, etc. transactions that occurred each week. The process of creating such a summary is described in section '[Creating a “Raw” Sales Volume Summary](#raw_vol_summary)' below.\n",
    "- We have noted that this panelist's trial and first repeat purchases occurred in the same week, albeit on different days. Similarly, his/her fourth and fifth repeat purchases occurred in the same week. The structure of many simple models of new product sales forecasting is such that a customer can have only one transaction per unit of time. If the unit of time is one week (as it typically the case), we clearly have a problem. One solution would be change the unit of time from week to day. However, as such purchasing behaviour tends to be rare, Eskin suggests that, \"[f]or estimation purposes, second purchases within a single week are coded in the following week.\" The process of creating such a \"shifted\" summary is described in [Creating a \"Shifted\" Transactions Summary](#raw_shifted_trans_summary) below.\n",
    "\n",
    "But what happens if we observe multiple transactions on the same day? This is very rare and typically reflects bad pre-processing of the panel data. For example, as an individual's purchases are scanned at the supermarket checkout, one six-pack of Coke could be the first item scanned with another six-pack of Coke being the last item scanned. As the raw data are \"cleaned-up\" these two purchases should be combined into one transaction with a quantity of two. But this doesn't always happen. If the (very) raw panel data file contains a transaction time field, we easily determine whether the two records come from the same or different shopping trips. Even if they did come from separate shopping trips on the same day, our natural reaction would be to combine them into a single transaction with multiple units, rather than shift to an even smaller time unit (e.g., hour). we should reflect on how to determine whether we observe multiple transactions for an individual panelist on the same day once the raw panel data has been loaded into python. (Note that there are no such occurrences in the Kiwi Bubbles dataset.)"
   ]
  },
  {
   "cell_type": "markdown",
   "metadata": {},
   "source": [
    "#### Creating a \"Raw\" Transactions Summary\n",
    "<a id='raw_trans_summary'></a>"
   ]
  },
  {
   "cell_type": "markdown",
   "metadata": {},
   "source": [
    "The first thing we need to do is add a field that indicates the depth-of-repeat level associated with each record; i.e., is this a trial purchase $(\\mathrm{DoR}=0)$, a first repeat purchase $(\\mathrm{DoR}=1$ ), a second repeat purchase ( $\\operatorname{DoR}=2$ ), etc.\n",
    "\n",
    "This is a straightforward exercise. If the panelist ID associated with this record does not equal that of the previous record, we are dealing with a new panelist and we set the depth-of-repeat indicator to 0 . If the panelist ID associated with this record does equal that of the previous record, we are dealing with a repeat purchase by that panelist and we increment the depth-of-repeat indicator by 1."
   ]
  },
  {
   "cell_type": "code",
   "execution_count": 7,
   "metadata": {},
   "outputs": [],
   "source": [
    "kiwi_lf_m2 = (\n",
    "    kiwi_lf_m2\n",
    "    .sort(by='ID')\n",
    "    .with_columns((pl.col(\"ID\").cum_count().over(\"ID\") - 1).cast(pl.UInt16).alias(\"DoR\"))    \n",
    ")"
   ]
  },
  {
   "cell_type": "markdown",
   "metadata": {},
   "source": [
    "The corresponding records for panelist 20014 are shown below with DoR indicator:"
   ]
  },
  {
   "cell_type": "code",
   "execution_count": 8,
   "metadata": {},
   "outputs": [
    {
     "data": {
      "text/html": [
       "<div><style>\n",
       ".dataframe > thead > tr,\n",
       ".dataframe > tbody > tr {\n",
       "  text-align: right;\n",
       "  white-space: pre-wrap;\n",
       "}\n",
       "</style>\n",
       "<small>shape: (9, 5)</small><table border=\"1\" class=\"dataframe\"><thead><tr><th>ID</th><th>Week</th><th>Day</th><th>Units</th><th>DoR</th></tr><tr><td>u16</td><td>i16</td><td>i16</td><td>i16</td><td>u16</td></tr></thead><tbody><tr><td>20014</td><td>4</td><td>2</td><td>1</td><td>0</td></tr><tr><td>20014</td><td>4</td><td>4</td><td>1</td><td>1</td></tr><tr><td>20014</td><td>6</td><td>6</td><td>2</td><td>2</td></tr><tr><td>20014</td><td>7</td><td>2</td><td>3</td><td>3</td></tr><tr><td>20014</td><td>7</td><td>6</td><td>3</td><td>4</td></tr><tr><td>20014</td><td>12</td><td>5</td><td>2</td><td>5</td></tr><tr><td>20014</td><td>17</td><td>6</td><td>1</td><td>6</td></tr><tr><td>20014</td><td>23</td><td>4</td><td>2</td><td>7</td></tr><tr><td>20014</td><td>47</td><td>6</td><td>2</td><td>8</td></tr></tbody></table></div>"
      ],
      "text/plain": [
       "shape: (9, 5)\n",
       "┌───────┬──────┬─────┬───────┬─────┐\n",
       "│ ID    ┆ Week ┆ Day ┆ Units ┆ DoR │\n",
       "│ ---   ┆ ---  ┆ --- ┆ ---   ┆ --- │\n",
       "│ u16   ┆ i16  ┆ i16 ┆ i16   ┆ u16 │\n",
       "╞═══════╪══════╪═════╪═══════╪═════╡\n",
       "│ 20014 ┆ 4    ┆ 2   ┆ 1     ┆ 0   │\n",
       "│ 20014 ┆ 4    ┆ 4   ┆ 1     ┆ 1   │\n",
       "│ 20014 ┆ 6    ┆ 6   ┆ 2     ┆ 2   │\n",
       "│ 20014 ┆ 7    ┆ 2   ┆ 3     ┆ 3   │\n",
       "│ 20014 ┆ 7    ┆ 6   ┆ 3     ┆ 4   │\n",
       "│ 20014 ┆ 12   ┆ 5   ┆ 2     ┆ 5   │\n",
       "│ 20014 ┆ 17   ┆ 6   ┆ 1     ┆ 6   │\n",
       "│ 20014 ┆ 23   ┆ 4   ┆ 2     ┆ 7   │\n",
       "│ 20014 ┆ 47   ┆ 6   ┆ 2     ┆ 8   │\n",
       "└───────┴──────┴─────┴───────┴─────┘"
      ]
     },
     "execution_count": 8,
     "metadata": {},
     "output_type": "execute_result"
    }
   ],
   "source": [
    "kiwi_lf_m2.filter(pl.col('ID') == 20014).collect()"
   ]
  },
  {
   "cell_type": "markdown",
   "metadata": {},
   "source": [
    "The next step is to perform aggregations to the data and create two type of the same data-frame: a **long-form** and **wide-form**.\n",
    "\n",
    "We want there to be 52 rows, one for each week of the test. It turns out, however, that this panel of 1499 households only purchased the test product in 49 weeks; no purchases occurred in weeks 25,39, and 41. How can we create a table that will contain zeros in the rows corresponding to these three weeks? We accomplish this by creating a dummy dataframe that contains the full range of combination of `Week` and `DoR`. There are should be a range of 1 to 52 weeks and a range of 0 to 11 depth-of-repeats. Next, we will join the aggregated dataframes of the main dataset with the dummy dataframe such that it preserves the size of the dummy dataframe and fills the empty combinations with `null` values."
   ]
  },
  {
   "cell_type": "code",
   "execution_count": 9,
   "metadata": {},
   "outputs": [],
   "source": [
    "# Week Range: 1 to 52, DoR Range: 0 to 11 (max(DoR) = 11)\n",
    "week_range, dor_range = np.meshgrid(np.arange(1, 53, dtype='int16'), np.arange(0, 12, dtype='uint16'))\n",
    "# Create a dummy LazyFrame that contains the full range of combinations for Week & DoR\n",
    "dummy_lf = pl.LazyFrame({'Week': week_range.reshape(-1), 'DoR': dor_range.reshape(-1)})\n",
    "\n",
    "agg_trans = (\n",
    "    kiwi_lf_m2\n",
    "    .group_by('Week', 'DoR')\n",
    "    .agg(pl.len().alias('Count'))\n",
    ")\n",
    "\n",
    "week_total_trans = (\n",
    "    agg_trans\n",
    "    .group_by('Week')\n",
    "    .agg(pl.col('Count').sum().alias('Total')) \n",
    ")\n",
    "\n",
    "agg_trans_longform = (\n",
    "    dummy_lf\n",
    "    .join(week_total_trans, on='Week', how='left')\n",
    "    .join(agg_trans, on=['Week', 'DoR'], how='left')\n",
    "    .fill_null(0)\n",
    ")"
   ]
  },
  {
   "cell_type": "markdown",
   "metadata": {},
   "source": [
    "The wide-form is more intuitive and easy to visualize, it tells us how many trial, first repeat, etc. purchases (columns) occurred in each week (rows)."
   ]
  },
  {
   "cell_type": "code",
   "execution_count": 10,
   "metadata": {},
   "outputs": [
    {
     "data": {
      "text/html": [
       "<div><style>\n",
       ".dataframe > thead > tr,\n",
       ".dataframe > tbody > tr {\n",
       "  text-align: right;\n",
       "  white-space: pre-wrap;\n",
       "}\n",
       "</style>\n",
       "<small>shape: (52, 14)</small><table border=\"1\" class=\"dataframe\"><thead><tr><th>Week</th><th>0</th><th>1</th><th>2</th><th>3</th><th>4</th><th>5</th><th>6</th><th>7</th><th>8</th><th>9</th><th>10</th><th>11</th><th>Total</th></tr><tr><td>i16</td><td>u32</td><td>u32</td><td>u32</td><td>u32</td><td>u32</td><td>u32</td><td>u32</td><td>u32</td><td>u32</td><td>u32</td><td>u32</td><td>u32</td><td>u32</td></tr></thead><tbody><tr><td>1</td><td>8</td><td>1</td><td>0</td><td>0</td><td>0</td><td>0</td><td>0</td><td>0</td><td>0</td><td>0</td><td>0</td><td>0</td><td>9</td></tr><tr><td>2</td><td>6</td><td>0</td><td>0</td><td>0</td><td>0</td><td>0</td><td>0</td><td>0</td><td>0</td><td>0</td><td>0</td><td>0</td><td>6</td></tr><tr><td>3</td><td>2</td><td>1</td><td>0</td><td>0</td><td>0</td><td>0</td><td>0</td><td>0</td><td>0</td><td>0</td><td>0</td><td>0</td><td>3</td></tr><tr><td>4</td><td>16</td><td>2</td><td>0</td><td>0</td><td>0</td><td>0</td><td>0</td><td>0</td><td>0</td><td>0</td><td>0</td><td>0</td><td>18</td></tr><tr><td>5</td><td>8</td><td>3</td><td>0</td><td>0</td><td>0</td><td>0</td><td>0</td><td>0</td><td>0</td><td>0</td><td>0</td><td>0</td><td>11</td></tr><tr><td>&hellip;</td><td>&hellip;</td><td>&hellip;</td><td>&hellip;</td><td>&hellip;</td><td>&hellip;</td><td>&hellip;</td><td>&hellip;</td><td>&hellip;</td><td>&hellip;</td><td>&hellip;</td><td>&hellip;</td><td>&hellip;</td><td>&hellip;</td></tr><tr><td>48</td><td>1</td><td>1</td><td>1</td><td>1</td><td>0</td><td>0</td><td>0</td><td>1</td><td>0</td><td>0</td><td>0</td><td>0</td><td>5</td></tr><tr><td>49</td><td>4</td><td>0</td><td>0</td><td>0</td><td>0</td><td>2</td><td>0</td><td>1</td><td>1</td><td>0</td><td>0</td><td>0</td><td>8</td></tr><tr><td>50</td><td>0</td><td>2</td><td>0</td><td>0</td><td>0</td><td>0</td><td>0</td><td>1</td><td>2</td><td>1</td><td>1</td><td>1</td><td>8</td></tr><tr><td>51</td><td>0</td><td>1</td><td>0</td><td>0</td><td>0</td><td>0</td><td>0</td><td>1</td><td>0</td><td>0</td><td>0</td><td>0</td><td>2</td></tr><tr><td>52</td><td>2</td><td>1</td><td>1</td><td>1</td><td>0</td><td>0</td><td>0</td><td>0</td><td>0</td><td>1</td><td>0</td><td>0</td><td>6</td></tr></tbody></table></div>"
      ],
      "text/plain": [
       "shape: (52, 14)\n",
       "┌──────┬─────┬─────┬─────┬───┬─────┬─────┬─────┬───────┐\n",
       "│ Week ┆ 0   ┆ 1   ┆ 2   ┆ … ┆ 9   ┆ 10  ┆ 11  ┆ Total │\n",
       "│ ---  ┆ --- ┆ --- ┆ --- ┆   ┆ --- ┆ --- ┆ --- ┆ ---   │\n",
       "│ i16  ┆ u32 ┆ u32 ┆ u32 ┆   ┆ u32 ┆ u32 ┆ u32 ┆ u32   │\n",
       "╞══════╪═════╪═════╪═════╪═══╪═════╪═════╪═════╪═══════╡\n",
       "│ 1    ┆ 8   ┆ 1   ┆ 0   ┆ … ┆ 0   ┆ 0   ┆ 0   ┆ 9     │\n",
       "│ 2    ┆ 6   ┆ 0   ┆ 0   ┆ … ┆ 0   ┆ 0   ┆ 0   ┆ 6     │\n",
       "│ 3    ┆ 2   ┆ 1   ┆ 0   ┆ … ┆ 0   ┆ 0   ┆ 0   ┆ 3     │\n",
       "│ 4    ┆ 16  ┆ 2   ┆ 0   ┆ … ┆ 0   ┆ 0   ┆ 0   ┆ 18    │\n",
       "│ 5    ┆ 8   ┆ 3   ┆ 0   ┆ … ┆ 0   ┆ 0   ┆ 0   ┆ 11    │\n",
       "│ …    ┆ …   ┆ …   ┆ …   ┆ … ┆ …   ┆ …   ┆ …   ┆ …     │\n",
       "│ 48   ┆ 1   ┆ 1   ┆ 1   ┆ … ┆ 0   ┆ 0   ┆ 0   ┆ 5     │\n",
       "│ 49   ┆ 4   ┆ 0   ┆ 0   ┆ … ┆ 0   ┆ 0   ┆ 0   ┆ 8     │\n",
       "│ 50   ┆ 0   ┆ 2   ┆ 0   ┆ … ┆ 1   ┆ 1   ┆ 1   ┆ 8     │\n",
       "│ 51   ┆ 0   ┆ 1   ┆ 0   ┆ … ┆ 0   ┆ 0   ┆ 0   ┆ 2     │\n",
       "│ 52   ┆ 2   ┆ 1   ┆ 1   ┆ … ┆ 1   ┆ 0   ┆ 0   ┆ 6     │\n",
       "└──────┴─────┴─────┴─────┴───┴─────┴─────┴─────┴───────┘"
      ]
     },
     "metadata": {},
     "output_type": "display_data"
    },
    {
     "data": {
      "text/html": [
       "<div><style>\n",
       ".dataframe > thead > tr,\n",
       ".dataframe > tbody > tr {\n",
       "  text-align: right;\n",
       "  white-space: pre-wrap;\n",
       "}\n",
       "</style>\n",
       "<small>shape: (1, 13)</small><table border=\"1\" class=\"dataframe\"><thead><tr><th>0</th><th>1</th><th>2</th><th>3</th><th>4</th><th>5</th><th>6</th><th>7</th><th>8</th><th>9</th><th>10</th><th>11</th><th>Total</th></tr><tr><td>u32</td><td>u32</td><td>u32</td><td>u32</td><td>u32</td><td>u32</td><td>u32</td><td>u32</td><td>u32</td><td>u32</td><td>u32</td><td>u32</td><td>u32</td></tr></thead><tbody><tr><td>139</td><td>52</td><td>31</td><td>23</td><td>17</td><td>14</td><td>9</td><td>8</td><td>6</td><td>4</td><td>2</td><td>1</td><td>306</td></tr></tbody></table></div>"
      ],
      "text/plain": [
       "shape: (1, 13)\n",
       "┌─────┬─────┬─────┬─────┬───┬─────┬─────┬─────┬───────┐\n",
       "│ 0   ┆ 1   ┆ 2   ┆ 3   ┆ … ┆ 9   ┆ 10  ┆ 11  ┆ Total │\n",
       "│ --- ┆ --- ┆ --- ┆ --- ┆   ┆ --- ┆ --- ┆ --- ┆ ---   │\n",
       "│ u32 ┆ u32 ┆ u32 ┆ u32 ┆   ┆ u32 ┆ u32 ┆ u32 ┆ u32   │\n",
       "╞═════╪═════╪═════╪═════╪═══╪═════╪═════╪═════╪═══════╡\n",
       "│ 139 ┆ 52  ┆ 31  ┆ 23  ┆ … ┆ 4   ┆ 2   ┆ 1   ┆ 306   │\n",
       "└─────┴─────┴─────┴─────┴───┴─────┴─────┴─────┴───────┘"
      ]
     },
     "metadata": {},
     "output_type": "display_data"
    }
   ],
   "source": [
    "agg_trans_wideform = (\n",
    "    agg_trans_longform\n",
    "    .collect()\n",
    "    .pivot(on='DoR', index='Week', values='Count')\n",
    "    .join(week_total_trans.collect(), on='Week', how='left')\n",
    ")\n",
    "\n",
    "col_total = agg_trans_wideform.select(pl.col('*').exclude('Week').sum())\n",
    "\n",
    "display(agg_trans_wideform)\n",
    "display(col_total)"
   ]
  },
  {
   "cell_type": "markdown",
   "metadata": {},
   "source": [
    "We note that there are no entries in the rows corresponding to weeks 25, 39, and 41. Over the year-long test, 139 of the 1499 panelists made at least one purchase of the new product, with a total of 306 purchase occasions. We also note that by the end of the year, one person had made eleven repeat purchases of the new product."
   ]
  },
  {
   "cell_type": "markdown",
   "metadata": {},
   "source": [
    "A cleaned-up summary that reports these weekly transactions in cumulative form (i.e., $T(t), R_{1}(t), R_{2}(t)$, etc.) is created created below:"
   ]
  },
  {
   "cell_type": "code",
   "execution_count": 11,
   "metadata": {},
   "outputs": [
    {
     "data": {
      "text/html": [
       "<div><style>\n",
       ".dataframe > thead > tr,\n",
       ".dataframe > tbody > tr {\n",
       "  text-align: right;\n",
       "  white-space: pre-wrap;\n",
       "}\n",
       "</style>\n",
       "<small>shape: (52, 13)</small><table border=\"1\" class=\"dataframe\"><thead><tr><th>Week</th><th>0</th><th>1</th><th>2</th><th>3</th><th>4</th><th>5</th><th>6</th><th>7</th><th>8</th><th>9</th><th>10</th><th>11</th></tr><tr><td>i16</td><td>u32</td><td>u32</td><td>u32</td><td>u32</td><td>u32</td><td>u32</td><td>u32</td><td>u32</td><td>u32</td><td>u32</td><td>u32</td><td>u32</td></tr></thead><tbody><tr><td>1</td><td>8</td><td>1</td><td>0</td><td>0</td><td>0</td><td>0</td><td>0</td><td>0</td><td>0</td><td>0</td><td>0</td><td>0</td></tr><tr><td>2</td><td>14</td><td>1</td><td>0</td><td>0</td><td>0</td><td>0</td><td>0</td><td>0</td><td>0</td><td>0</td><td>0</td><td>0</td></tr><tr><td>3</td><td>16</td><td>2</td><td>0</td><td>0</td><td>0</td><td>0</td><td>0</td><td>0</td><td>0</td><td>0</td><td>0</td><td>0</td></tr><tr><td>4</td><td>32</td><td>4</td><td>0</td><td>0</td><td>0</td><td>0</td><td>0</td><td>0</td><td>0</td><td>0</td><td>0</td><td>0</td></tr><tr><td>5</td><td>40</td><td>7</td><td>0</td><td>0</td><td>0</td><td>0</td><td>0</td><td>0</td><td>0</td><td>0</td><td>0</td><td>0</td></tr><tr><td>&hellip;</td><td>&hellip;</td><td>&hellip;</td><td>&hellip;</td><td>&hellip;</td><td>&hellip;</td><td>&hellip;</td><td>&hellip;</td><td>&hellip;</td><td>&hellip;</td><td>&hellip;</td><td>&hellip;</td><td>&hellip;</td></tr><tr><td>48</td><td>133</td><td>48</td><td>30</td><td>22</td><td>17</td><td>12</td><td>9</td><td>5</td><td>3</td><td>2</td><td>1</td><td>0</td></tr><tr><td>49</td><td>137</td><td>48</td><td>30</td><td>22</td><td>17</td><td>14</td><td>9</td><td>6</td><td>4</td><td>2</td><td>1</td><td>0</td></tr><tr><td>50</td><td>137</td><td>50</td><td>30</td><td>22</td><td>17</td><td>14</td><td>9</td><td>7</td><td>6</td><td>3</td><td>2</td><td>1</td></tr><tr><td>51</td><td>137</td><td>51</td><td>30</td><td>22</td><td>17</td><td>14</td><td>9</td><td>8</td><td>6</td><td>3</td><td>2</td><td>1</td></tr><tr><td>52</td><td>139</td><td>52</td><td>31</td><td>23</td><td>17</td><td>14</td><td>9</td><td>8</td><td>6</td><td>4</td><td>2</td><td>1</td></tr></tbody></table></div>"
      ],
      "text/plain": [
       "shape: (52, 13)\n",
       "┌──────┬─────┬─────┬─────┬───┬─────┬─────┬─────┬─────┐\n",
       "│ Week ┆ 0   ┆ 1   ┆ 2   ┆ … ┆ 8   ┆ 9   ┆ 10  ┆ 11  │\n",
       "│ ---  ┆ --- ┆ --- ┆ --- ┆   ┆ --- ┆ --- ┆ --- ┆ --- │\n",
       "│ i16  ┆ u32 ┆ u32 ┆ u32 ┆   ┆ u32 ┆ u32 ┆ u32 ┆ u32 │\n",
       "╞══════╪═════╪═════╪═════╪═══╪═════╪═════╪═════╪═════╡\n",
       "│ 1    ┆ 8   ┆ 1   ┆ 0   ┆ … ┆ 0   ┆ 0   ┆ 0   ┆ 0   │\n",
       "│ 2    ┆ 14  ┆ 1   ┆ 0   ┆ … ┆ 0   ┆ 0   ┆ 0   ┆ 0   │\n",
       "│ 3    ┆ 16  ┆ 2   ┆ 0   ┆ … ┆ 0   ┆ 0   ┆ 0   ┆ 0   │\n",
       "│ 4    ┆ 32  ┆ 4   ┆ 0   ┆ … ┆ 0   ┆ 0   ┆ 0   ┆ 0   │\n",
       "│ 5    ┆ 40  ┆ 7   ┆ 0   ┆ … ┆ 0   ┆ 0   ┆ 0   ┆ 0   │\n",
       "│ …    ┆ …   ┆ …   ┆ …   ┆ … ┆ …   ┆ …   ┆ …   ┆ …   │\n",
       "│ 48   ┆ 133 ┆ 48  ┆ 30  ┆ … ┆ 3   ┆ 2   ┆ 1   ┆ 0   │\n",
       "│ 49   ┆ 137 ┆ 48  ┆ 30  ┆ … ┆ 4   ┆ 2   ┆ 1   ┆ 0   │\n",
       "│ 50   ┆ 137 ┆ 50  ┆ 30  ┆ … ┆ 6   ┆ 3   ┆ 2   ┆ 1   │\n",
       "│ 51   ┆ 137 ┆ 51  ┆ 30  ┆ … ┆ 6   ┆ 3   ┆ 2   ┆ 1   │\n",
       "│ 52   ┆ 139 ┆ 52  ┆ 31  ┆ … ┆ 6   ┆ 4   ┆ 2   ┆ 1   │\n",
       "└──────┴─────┴─────┴─────┴───┴─────┴─────┴─────┴─────┘"
      ]
     },
     "metadata": {},
     "output_type": "display_data"
    }
   ],
   "source": [
    "cum_trans_longform = agg_trans_longform.with_columns(pl.col('Count').cum_sum().over('DoR').alias('Cum DoR'))\n",
    "cum_trans_wideform = cum_trans_longform.collect().pivot(on='DoR', index='Week', values='Cum DoR')\n",
    "\n",
    "display(cum_trans_wideform)"
   ]
  },
  {
   "cell_type": "markdown",
   "metadata": {},
   "source": [
    "#### Creating a \"Raw\" Sales Volume Summary\n",
    "<a id='raw_vol_summary'></a>"
   ]
  },
  {
   "cell_type": "markdown",
   "metadata": {},
   "source": [
    "Having created a weekly transaction by depth-of-repeat level summary, it is extremely easy to create an equivalent **sales volume** (e.g., units) summary. Here, instead of counting IDs or length of aggregated dataframe as the value item, we sum `Units`. We note that a total of 396 units of the product were purchased (across the 306 purchase occasions)."
   ]
  },
  {
   "cell_type": "code",
   "execution_count": 12,
   "metadata": {},
   "outputs": [],
   "source": [
    "agg_vol = (\n",
    "    kiwi_lf_m2\n",
    "    .group_by('Week', 'DoR')\n",
    "    .agg(pl.col('Units').sum().alias('Units'))\n",
    ")\n",
    "\n",
    "week_total_vol = (\n",
    "    agg_vol\n",
    "    .group_by('Week')\n",
    "    .agg(pl.col('Units').sum().alias('Total')) \n",
    ")\n",
    "\n",
    "agg_vol_longform = (\n",
    "    dummy_lf\n",
    "    .join(agg_vol, on=['Week', 'DoR'], how='left')\n",
    "    .join(week_total_vol, on='Week', how='left')\n",
    "    .fill_null(0)\n",
    ")"
   ]
  },
  {
   "cell_type": "code",
   "execution_count": 13,
   "metadata": {},
   "outputs": [
    {
     "data": {
      "text/html": [
       "<div><style>\n",
       ".dataframe > thead > tr,\n",
       ".dataframe > tbody > tr {\n",
       "  text-align: right;\n",
       "  white-space: pre-wrap;\n",
       "}\n",
       "</style>\n",
       "<small>shape: (52, 14)</small><table border=\"1\" class=\"dataframe\"><thead><tr><th>Week</th><th>0</th><th>1</th><th>2</th><th>3</th><th>4</th><th>5</th><th>6</th><th>7</th><th>8</th><th>9</th><th>10</th><th>11</th><th>Total</th></tr><tr><td>i16</td><td>i64</td><td>i64</td><td>i64</td><td>i64</td><td>i64</td><td>i64</td><td>i64</td><td>i64</td><td>i64</td><td>i64</td><td>i64</td><td>i64</td><td>i64</td></tr></thead><tbody><tr><td>1</td><td>9</td><td>1</td><td>0</td><td>0</td><td>0</td><td>0</td><td>0</td><td>0</td><td>0</td><td>0</td><td>0</td><td>0</td><td>10</td></tr><tr><td>2</td><td>6</td><td>0</td><td>0</td><td>0</td><td>0</td><td>0</td><td>0</td><td>0</td><td>0</td><td>0</td><td>0</td><td>0</td><td>6</td></tr><tr><td>3</td><td>2</td><td>1</td><td>0</td><td>0</td><td>0</td><td>0</td><td>0</td><td>0</td><td>0</td><td>0</td><td>0</td><td>0</td><td>3</td></tr><tr><td>4</td><td>19</td><td>3</td><td>0</td><td>0</td><td>0</td><td>0</td><td>0</td><td>0</td><td>0</td><td>0</td><td>0</td><td>0</td><td>22</td></tr><tr><td>5</td><td>8</td><td>3</td><td>0</td><td>0</td><td>0</td><td>0</td><td>0</td><td>0</td><td>0</td><td>0</td><td>0</td><td>0</td><td>11</td></tr><tr><td>&hellip;</td><td>&hellip;</td><td>&hellip;</td><td>&hellip;</td><td>&hellip;</td><td>&hellip;</td><td>&hellip;</td><td>&hellip;</td><td>&hellip;</td><td>&hellip;</td><td>&hellip;</td><td>&hellip;</td><td>&hellip;</td><td>&hellip;</td></tr><tr><td>48</td><td>1</td><td>1</td><td>1</td><td>1</td><td>0</td><td>0</td><td>0</td><td>1</td><td>0</td><td>0</td><td>0</td><td>0</td><td>5</td></tr><tr><td>49</td><td>4</td><td>0</td><td>0</td><td>0</td><td>0</td><td>2</td><td>0</td><td>2</td><td>1</td><td>0</td><td>0</td><td>0</td><td>9</td></tr><tr><td>50</td><td>0</td><td>2</td><td>0</td><td>0</td><td>0</td><td>0</td><td>0</td><td>1</td><td>3</td><td>2</td><td>2</td><td>1</td><td>11</td></tr><tr><td>51</td><td>0</td><td>2</td><td>0</td><td>0</td><td>0</td><td>0</td><td>0</td><td>2</td><td>0</td><td>0</td><td>0</td><td>0</td><td>4</td></tr><tr><td>52</td><td>2</td><td>1</td><td>1</td><td>2</td><td>0</td><td>0</td><td>0</td><td>0</td><td>0</td><td>2</td><td>0</td><td>0</td><td>8</td></tr></tbody></table></div>"
      ],
      "text/plain": [
       "shape: (52, 14)\n",
       "┌──────┬─────┬─────┬─────┬───┬─────┬─────┬─────┬───────┐\n",
       "│ Week ┆ 0   ┆ 1   ┆ 2   ┆ … ┆ 9   ┆ 10  ┆ 11  ┆ Total │\n",
       "│ ---  ┆ --- ┆ --- ┆ --- ┆   ┆ --- ┆ --- ┆ --- ┆ ---   │\n",
       "│ i16  ┆ i64 ┆ i64 ┆ i64 ┆   ┆ i64 ┆ i64 ┆ i64 ┆ i64   │\n",
       "╞══════╪═════╪═════╪═════╪═══╪═════╪═════╪═════╪═══════╡\n",
       "│ 1    ┆ 9   ┆ 1   ┆ 0   ┆ … ┆ 0   ┆ 0   ┆ 0   ┆ 10    │\n",
       "│ 2    ┆ 6   ┆ 0   ┆ 0   ┆ … ┆ 0   ┆ 0   ┆ 0   ┆ 6     │\n",
       "│ 3    ┆ 2   ┆ 1   ┆ 0   ┆ … ┆ 0   ┆ 0   ┆ 0   ┆ 3     │\n",
       "│ 4    ┆ 19  ┆ 3   ┆ 0   ┆ … ┆ 0   ┆ 0   ┆ 0   ┆ 22    │\n",
       "│ 5    ┆ 8   ┆ 3   ┆ 0   ┆ … ┆ 0   ┆ 0   ┆ 0   ┆ 11    │\n",
       "│ …    ┆ …   ┆ …   ┆ …   ┆ … ┆ …   ┆ …   ┆ …   ┆ …     │\n",
       "│ 48   ┆ 1   ┆ 1   ┆ 1   ┆ … ┆ 0   ┆ 0   ┆ 0   ┆ 5     │\n",
       "│ 49   ┆ 4   ┆ 0   ┆ 0   ┆ … ┆ 0   ┆ 0   ┆ 0   ┆ 9     │\n",
       "│ 50   ┆ 0   ┆ 2   ┆ 0   ┆ … ┆ 2   ┆ 2   ┆ 1   ┆ 11    │\n",
       "│ 51   ┆ 0   ┆ 2   ┆ 0   ┆ … ┆ 0   ┆ 0   ┆ 0   ┆ 4     │\n",
       "│ 52   ┆ 2   ┆ 1   ┆ 1   ┆ … ┆ 2   ┆ 0   ┆ 0   ┆ 8     │\n",
       "└──────┴─────┴─────┴─────┴───┴─────┴─────┴─────┴───────┘"
      ]
     },
     "metadata": {},
     "output_type": "display_data"
    },
    {
     "data": {
      "text/html": [
       "<div><style>\n",
       ".dataframe > thead > tr,\n",
       ".dataframe > tbody > tr {\n",
       "  text-align: right;\n",
       "  white-space: pre-wrap;\n",
       "}\n",
       "</style>\n",
       "<small>shape: (1, 13)</small><table border=\"1\" class=\"dataframe\"><thead><tr><th>0</th><th>1</th><th>2</th><th>3</th><th>4</th><th>5</th><th>6</th><th>7</th><th>8</th><th>9</th><th>10</th><th>11</th><th>Total</th></tr><tr><td>i64</td><td>i64</td><td>i64</td><td>i64</td><td>i64</td><td>i64</td><td>i64</td><td>i64</td><td>i64</td><td>i64</td><td>i64</td><td>i64</td><td>i64</td></tr></thead><tbody><tr><td>161</td><td>64</td><td>42</td><td>30</td><td>24</td><td>20</td><td>14</td><td>19</td><td>10</td><td>7</td><td>4</td><td>1</td><td>396</td></tr></tbody></table></div>"
      ],
      "text/plain": [
       "shape: (1, 13)\n",
       "┌─────┬─────┬─────┬─────┬───┬─────┬─────┬─────┬───────┐\n",
       "│ 0   ┆ 1   ┆ 2   ┆ 3   ┆ … ┆ 9   ┆ 10  ┆ 11  ┆ Total │\n",
       "│ --- ┆ --- ┆ --- ┆ --- ┆   ┆ --- ┆ --- ┆ --- ┆ ---   │\n",
       "│ i64 ┆ i64 ┆ i64 ┆ i64 ┆   ┆ i64 ┆ i64 ┆ i64 ┆ i64   │\n",
       "╞═════╪═════╪═════╪═════╪═══╪═════╪═════╪═════╪═══════╡\n",
       "│ 161 ┆ 64  ┆ 42  ┆ 30  ┆ … ┆ 7   ┆ 4   ┆ 1   ┆ 396   │\n",
       "└─────┴─────┴─────┴─────┴───┴─────┴─────┴─────┴───────┘"
      ]
     },
     "metadata": {},
     "output_type": "display_data"
    }
   ],
   "source": [
    "agg_vol_wideform = (\n",
    "    agg_vol_longform\n",
    "    .collect()\n",
    "    .pivot(on='DoR', index='Week', values='Units')\n",
    "    .join(week_total_vol.collect(), on='Week', how='left')\n",
    ")\n",
    "\n",
    "col_total = agg_vol_wideform.select(pl.col('*').exclude('Week').sum())\n",
    "\n",
    "display(agg_vol_wideform)\n",
    "display(col_total)"
   ]
  },
  {
   "cell_type": "markdown",
   "metadata": {},
   "source": [
    "A cleaned-up summary that reports these weekly transactions in cumulative form is created below. We note that a total of 161 units were purchased on the 139 trial purchase occasions, an average 1.16 units per trial purchase."
   ]
  },
  {
   "cell_type": "code",
   "execution_count": 14,
   "metadata": {},
   "outputs": [
    {
     "data": {
      "text/html": [
       "<div><style>\n",
       ".dataframe > thead > tr,\n",
       ".dataframe > tbody > tr {\n",
       "  text-align: right;\n",
       "  white-space: pre-wrap;\n",
       "}\n",
       "</style>\n",
       "<small>shape: (52, 13)</small><table border=\"1\" class=\"dataframe\"><thead><tr><th>Week</th><th>0</th><th>1</th><th>2</th><th>3</th><th>4</th><th>5</th><th>6</th><th>7</th><th>8</th><th>9</th><th>10</th><th>11</th></tr><tr><td>i16</td><td>i64</td><td>i64</td><td>i64</td><td>i64</td><td>i64</td><td>i64</td><td>i64</td><td>i64</td><td>i64</td><td>i64</td><td>i64</td><td>i64</td></tr></thead><tbody><tr><td>1</td><td>9</td><td>1</td><td>0</td><td>0</td><td>0</td><td>0</td><td>0</td><td>0</td><td>0</td><td>0</td><td>0</td><td>0</td></tr><tr><td>2</td><td>15</td><td>1</td><td>0</td><td>0</td><td>0</td><td>0</td><td>0</td><td>0</td><td>0</td><td>0</td><td>0</td><td>0</td></tr><tr><td>3</td><td>17</td><td>2</td><td>0</td><td>0</td><td>0</td><td>0</td><td>0</td><td>0</td><td>0</td><td>0</td><td>0</td><td>0</td></tr><tr><td>4</td><td>36</td><td>5</td><td>0</td><td>0</td><td>0</td><td>0</td><td>0</td><td>0</td><td>0</td><td>0</td><td>0</td><td>0</td></tr><tr><td>5</td><td>44</td><td>8</td><td>0</td><td>0</td><td>0</td><td>0</td><td>0</td><td>0</td><td>0</td><td>0</td><td>0</td><td>0</td></tr><tr><td>&hellip;</td><td>&hellip;</td><td>&hellip;</td><td>&hellip;</td><td>&hellip;</td><td>&hellip;</td><td>&hellip;</td><td>&hellip;</td><td>&hellip;</td><td>&hellip;</td><td>&hellip;</td><td>&hellip;</td><td>&hellip;</td></tr><tr><td>48</td><td>155</td><td>59</td><td>41</td><td>28</td><td>24</td><td>18</td><td>14</td><td>14</td><td>6</td><td>3</td><td>2</td><td>0</td></tr><tr><td>49</td><td>159</td><td>59</td><td>41</td><td>28</td><td>24</td><td>20</td><td>14</td><td>16</td><td>7</td><td>3</td><td>2</td><td>0</td></tr><tr><td>50</td><td>159</td><td>61</td><td>41</td><td>28</td><td>24</td><td>20</td><td>14</td><td>17</td><td>10</td><td>5</td><td>4</td><td>1</td></tr><tr><td>51</td><td>159</td><td>63</td><td>41</td><td>28</td><td>24</td><td>20</td><td>14</td><td>19</td><td>10</td><td>5</td><td>4</td><td>1</td></tr><tr><td>52</td><td>161</td><td>64</td><td>42</td><td>30</td><td>24</td><td>20</td><td>14</td><td>19</td><td>10</td><td>7</td><td>4</td><td>1</td></tr></tbody></table></div>"
      ],
      "text/plain": [
       "shape: (52, 13)\n",
       "┌──────┬─────┬─────┬─────┬───┬─────┬─────┬─────┬─────┐\n",
       "│ Week ┆ 0   ┆ 1   ┆ 2   ┆ … ┆ 8   ┆ 9   ┆ 10  ┆ 11  │\n",
       "│ ---  ┆ --- ┆ --- ┆ --- ┆   ┆ --- ┆ --- ┆ --- ┆ --- │\n",
       "│ i16  ┆ i64 ┆ i64 ┆ i64 ┆   ┆ i64 ┆ i64 ┆ i64 ┆ i64 │\n",
       "╞══════╪═════╪═════╪═════╪═══╪═════╪═════╪═════╪═════╡\n",
       "│ 1    ┆ 9   ┆ 1   ┆ 0   ┆ … ┆ 0   ┆ 0   ┆ 0   ┆ 0   │\n",
       "│ 2    ┆ 15  ┆ 1   ┆ 0   ┆ … ┆ 0   ┆ 0   ┆ 0   ┆ 0   │\n",
       "│ 3    ┆ 17  ┆ 2   ┆ 0   ┆ … ┆ 0   ┆ 0   ┆ 0   ┆ 0   │\n",
       "│ 4    ┆ 36  ┆ 5   ┆ 0   ┆ … ┆ 0   ┆ 0   ┆ 0   ┆ 0   │\n",
       "│ 5    ┆ 44  ┆ 8   ┆ 0   ┆ … ┆ 0   ┆ 0   ┆ 0   ┆ 0   │\n",
       "│ …    ┆ …   ┆ …   ┆ …   ┆ … ┆ …   ┆ …   ┆ …   ┆ …   │\n",
       "│ 48   ┆ 155 ┆ 59  ┆ 41  ┆ … ┆ 6   ┆ 3   ┆ 2   ┆ 0   │\n",
       "│ 49   ┆ 159 ┆ 59  ┆ 41  ┆ … ┆ 7   ┆ 3   ┆ 2   ┆ 0   │\n",
       "│ 50   ┆ 159 ┆ 61  ┆ 41  ┆ … ┆ 10  ┆ 5   ┆ 4   ┆ 1   │\n",
       "│ 51   ┆ 159 ┆ 63  ┆ 41  ┆ … ┆ 10  ┆ 5   ┆ 4   ┆ 1   │\n",
       "│ 52   ┆ 161 ┆ 64  ┆ 42  ┆ … ┆ 10  ┆ 7   ┆ 4   ┆ 1   │\n",
       "└──────┴─────┴─────┴─────┴───┴─────┴─────┴─────┴─────┘"
      ]
     },
     "metadata": {},
     "output_type": "display_data"
    }
   ],
   "source": [
    "cum_vol_longform = agg_vol_longform.with_columns(pl.col('Units').cum_sum().over('DoR').alias('Cum DoR'))\n",
    "cum_vol_wideform = cum_vol_longform.collect().pivot(on='DoR', index='Week', values='Cum DoR')\n",
    "\n",
    "display(cum_vol_wideform)"
   ]
  },
  {
   "cell_type": "markdown",
   "metadata": {},
   "source": [
    "#### Creating a \"Shifted\" Transactions Summary\n",
    "<a id='raw_shifted_trans_summary'></a>"
   ]
  },
  {
   "cell_type": "markdown",
   "metadata": {},
   "source": [
    "We now turn our attention to the task of creating a weekly transaction by depth-of-repeat level summary under the assumption that a customer can have only one transaction per week. In other words, a second purchase within a single week is \"shifted\" to the next week (i.e., coded as occurring in the following week).\n",
    "\n",
    "Referring back to panellist `20014`, the field that indicates the depth-of-repeat level associated with each record (DoR) is correct. What we need to do is makes some changes to the week field: we want the week associated with the first repeat purchase to be 5, and the week associated with the fourth repeat purchase to be 8. One solution would be to create a new week variable that equals the original week variable +1 if the week associated with the current record is the same as that of the previous record. But what if we have three purchases occurring in the same week?"
   ]
  },
  {
   "cell_type": "code",
   "execution_count": 15,
   "metadata": {},
   "outputs": [
    {
     "data": {
      "text/html": [
       "<div><style>\n",
       ".dataframe > thead > tr,\n",
       ".dataframe > tbody > tr {\n",
       "  text-align: right;\n",
       "  white-space: pre-wrap;\n",
       "}\n",
       "</style>\n",
       "<small>shape: (9, 5)</small><table border=\"1\" class=\"dataframe\"><thead><tr><th>ID</th><th>Week</th><th>Day</th><th>Units</th><th>DoR</th></tr><tr><td>u16</td><td>i16</td><td>i16</td><td>i16</td><td>u16</td></tr></thead><tbody><tr><td>20014</td><td>4</td><td>2</td><td>1</td><td>0</td></tr><tr><td>20014</td><td>4</td><td>4</td><td>1</td><td>1</td></tr><tr><td>20014</td><td>6</td><td>6</td><td>2</td><td>2</td></tr><tr><td>20014</td><td>7</td><td>2</td><td>3</td><td>3</td></tr><tr><td>20014</td><td>7</td><td>6</td><td>3</td><td>4</td></tr><tr><td>20014</td><td>12</td><td>5</td><td>2</td><td>5</td></tr><tr><td>20014</td><td>17</td><td>6</td><td>1</td><td>6</td></tr><tr><td>20014</td><td>23</td><td>4</td><td>2</td><td>7</td></tr><tr><td>20014</td><td>47</td><td>6</td><td>2</td><td>8</td></tr></tbody></table></div>"
      ],
      "text/plain": [
       "shape: (9, 5)\n",
       "┌───────┬──────┬─────┬───────┬─────┐\n",
       "│ ID    ┆ Week ┆ Day ┆ Units ┆ DoR │\n",
       "│ ---   ┆ ---  ┆ --- ┆ ---   ┆ --- │\n",
       "│ u16   ┆ i16  ┆ i16 ┆ i16   ┆ u16 │\n",
       "╞═══════╪══════╪═════╪═══════╪═════╡\n",
       "│ 20014 ┆ 4    ┆ 2   ┆ 1     ┆ 0   │\n",
       "│ 20014 ┆ 4    ┆ 4   ┆ 1     ┆ 1   │\n",
       "│ 20014 ┆ 6    ┆ 6   ┆ 2     ┆ 2   │\n",
       "│ 20014 ┆ 7    ┆ 2   ┆ 3     ┆ 3   │\n",
       "│ 20014 ┆ 7    ┆ 6   ┆ 3     ┆ 4   │\n",
       "│ 20014 ┆ 12   ┆ 5   ┆ 2     ┆ 5   │\n",
       "│ 20014 ┆ 17   ┆ 6   ┆ 1     ┆ 6   │\n",
       "│ 20014 ┆ 23   ┆ 4   ┆ 2     ┆ 7   │\n",
       "│ 20014 ┆ 47   ┆ 6   ┆ 2     ┆ 8   │\n",
       "└───────┴──────┴─────┴───────┴─────┘"
      ]
     },
     "execution_count": 15,
     "metadata": {},
     "output_type": "execute_result"
    }
   ],
   "source": [
    "kiwi_lf_m2.filter(pl.col('ID') == 20014).collect()"
   ]
  },
  {
   "cell_type": "code",
   "execution_count": 16,
   "metadata": {},
   "outputs": [
    {
     "data": {
      "text/html": [
       "<div><style>\n",
       ".dataframe > thead > tr,\n",
       ".dataframe > tbody > tr {\n",
       "  text-align: right;\n",
       "  white-space: pre-wrap;\n",
       "}\n",
       "</style>\n",
       "<small>shape: (3, 5)</small><table border=\"1\" class=\"dataframe\"><thead><tr><th>ID</th><th>Week</th><th>Day</th><th>Units</th><th>DoR</th></tr><tr><td>u16</td><td>i16</td><td>i16</td><td>i16</td><td>u16</td></tr></thead><tbody><tr><td>20069</td><td>18</td><td>1</td><td>1</td><td>0</td></tr><tr><td>20069</td><td>18</td><td>5</td><td>1</td><td>1</td></tr><tr><td>20069</td><td>19</td><td>4</td><td>2</td><td>2</td></tr></tbody></table></div>"
      ],
      "text/plain": [
       "shape: (3, 5)\n",
       "┌───────┬──────┬─────┬───────┬─────┐\n",
       "│ ID    ┆ Week ┆ Day ┆ Units ┆ DoR │\n",
       "│ ---   ┆ ---  ┆ --- ┆ ---   ┆ --- │\n",
       "│ u16   ┆ i16  ┆ i16 ┆ i16   ┆ u16 │\n",
       "╞═══════╪══════╪═════╪═══════╪═════╡\n",
       "│ 20069 ┆ 18   ┆ 1   ┆ 1     ┆ 0   │\n",
       "│ 20069 ┆ 18   ┆ 5   ┆ 1     ┆ 1   │\n",
       "│ 20069 ┆ 19   ┆ 4   ┆ 2     ┆ 2   │\n",
       "└───────┴──────┴─────┴───────┴─────┘"
      ]
     },
     "execution_count": 16,
     "metadata": {},
     "output_type": "execute_result"
    }
   ],
   "source": [
    "kiwi_lf_m2.filter(pl.col('ID') == 20069).collect()"
   ]
  },
  {
   "cell_type": "markdown",
   "metadata": {},
   "source": [
    "To complicate matters, consider the transaction history of panelist 20069. This person's trial and first repeat purchases occurred in the same week. We therefore change the week associated with the first repeat purchase from 18 to 19. But this creates another problem as this person's second repeat purchase occurred in week 19. Having shifted the first repeat purchase to week 19, we have to shift the second repeat purchase to week 20.\n",
    "\n",
    "Our solution is to group each record by `ID` and pass all of an ID's `Week` as an array to a custom defined function which iterates over the array to evaluates whether the array has repeating numbers. If there were purchases made in the same week, such that index $i$ and index $i+1$ are in the same week, $i+1$ is incremented by 1. The loop inside the defined function also ensures that we shift purchases encroached on by the shifting of previous purchases (such as the second repeat purchase for panelist 20069)."
   ]
  },
  {
   "cell_type": "code",
   "execution_count": 17,
   "metadata": {},
   "outputs": [
    {
     "data": {
      "text/plain": [
       "array([1, 2, 3, 4, 6, 7, 8, 9])"
      ]
     },
     "execution_count": 17,
     "metadata": {},
     "output_type": "execute_result"
    }
   ],
   "source": [
    "example_array = np.array([1,1,2,3,6,7,7,8])\n",
    "\n",
    "def shift(arr):    \n",
    "    arr = np.sort(arr) # Sort array to handle duplicates systematically\n",
    "    for i in range(1, len(arr)):\n",
    "        if arr[i] <= arr[i - 1]: # If duplicate or less, increment by 1\n",
    "            arr[i] = arr[i - 1] + 1\n",
    "    return arr\n",
    "\n",
    "shift(example_array)"
   ]
  },
  {
   "cell_type": "code",
   "execution_count": 18,
   "metadata": {},
   "outputs": [
    {
     "data": {
      "text/html": [
       "<div><style>\n",
       ".dataframe > thead > tr,\n",
       ".dataframe > tbody > tr {\n",
       "  text-align: right;\n",
       "  white-space: pre-wrap;\n",
       "}\n",
       "</style>\n",
       "<small>shape: (9, 6)</small><table border=\"1\" class=\"dataframe\"><thead><tr><th>ID</th><th>Week</th><th>Day</th><th>Units</th><th>DoR</th><th>shWeek</th></tr><tr><td>u16</td><td>i16</td><td>i16</td><td>i16</td><td>u16</td><td>i16</td></tr></thead><tbody><tr><td>20014</td><td>4</td><td>4</td><td>1</td><td>1</td><td>5</td></tr><tr><td>20014</td><td>7</td><td>6</td><td>3</td><td>4</td><td>8</td></tr><tr><td>20051</td><td>17</td><td>7</td><td>2</td><td>1</td><td>18</td></tr><tr><td>20057</td><td>16</td><td>4</td><td>3</td><td>2</td><td>17</td></tr><tr><td>20057</td><td>17</td><td>2</td><td>1</td><td>3</td><td>18</td></tr><tr><td>20069</td><td>18</td><td>5</td><td>1</td><td>1</td><td>19</td></tr><tr><td>20069</td><td>19</td><td>4</td><td>2</td><td>2</td><td>20</td></tr><tr><td>20117</td><td>1</td><td>4</td><td>1</td><td>1</td><td>2</td></tr><tr><td>20118</td><td>19</td><td>5</td><td>1</td><td>5</td><td>20</td></tr></tbody></table></div>"
      ],
      "text/plain": [
       "shape: (9, 6)\n",
       "┌───────┬──────┬─────┬───────┬─────┬────────┐\n",
       "│ ID    ┆ Week ┆ Day ┆ Units ┆ DoR ┆ shWeek │\n",
       "│ ---   ┆ ---  ┆ --- ┆ ---   ┆ --- ┆ ---    │\n",
       "│ u16   ┆ i16  ┆ i16 ┆ i16   ┆ u16 ┆ i16    │\n",
       "╞═══════╪══════╪═════╪═══════╪═════╪════════╡\n",
       "│ 20014 ┆ 4    ┆ 4   ┆ 1     ┆ 1   ┆ 5      │\n",
       "│ 20014 ┆ 7    ┆ 6   ┆ 3     ┆ 4   ┆ 8      │\n",
       "│ 20051 ┆ 17   ┆ 7   ┆ 2     ┆ 1   ┆ 18     │\n",
       "│ 20057 ┆ 16   ┆ 4   ┆ 3     ┆ 2   ┆ 17     │\n",
       "│ 20057 ┆ 17   ┆ 2   ┆ 1     ┆ 3   ┆ 18     │\n",
       "│ 20069 ┆ 18   ┆ 5   ┆ 1     ┆ 1   ┆ 19     │\n",
       "│ 20069 ┆ 19   ┆ 4   ┆ 2     ┆ 2   ┆ 20     │\n",
       "│ 20117 ┆ 1    ┆ 4   ┆ 1     ┆ 1   ┆ 2      │\n",
       "│ 20118 ┆ 19   ┆ 5   ┆ 1     ┆ 5   ┆ 20     │\n",
       "└───────┴──────┴─────┴───────┴─────┴────────┘"
      ]
     },
     "execution_count": 18,
     "metadata": {},
     "output_type": "execute_result"
    }
   ],
   "source": [
    "# Method 1\n",
    "def shift_week(group_df):    \n",
    "    week_arr = group_df[\"Week\"].sort().to_numpy().copy()  # Sort array to handle duplicates systematically\n",
    "    for i in range(1, len(week_arr)):\n",
    "        if week_arr[i] <= week_arr[i - 1]: # If duplicate or less, increment by 1\n",
    "            week_arr[i] = week_arr[i - 1] + 1\n",
    "    return group_df.with_columns(pl.Series(\"shWeek\", week_arr))\n",
    "\n",
    "# Method 2\n",
    "# def shift_week(group_df):\n",
    "#     seen = set()\n",
    "#     adjusted_weeks = []\n",
    "#     for week in group_df[\"Week\"].to_list(): \n",
    "#         while week in seen: \n",
    "#             week += 1\n",
    "#         seen.add(week)\n",
    "#         adjusted_weeks.append(week)\n",
    "#     return group_df.with_columns(pl.Series(\"shWeek\", adjusted_weeks))\n",
    "\n",
    "shifted_lf = (\n",
    "    kiwi_lf_m2\n",
    "    .group_by('ID')\n",
    "    .map_groups(shift_week, schema={'Week': pl.Int16, \n",
    "                                    'shWeek':pl.Int16,\n",
    "                                    'DoR':pl.UInt16,\n",
    "                                    'Units':pl.Int16,\n",
    "                                    'Day':pl.Int16,\n",
    "                                    'ID':pl.UInt16})\n",
    ")\n",
    "\n",
    "shifted_lf.filter(pl.col('shWeek') != pl.col('Week')).collect()"
   ]
  },
  {
   "cell_type": "markdown",
   "metadata": {},
   "source": [
    "The next step is to create a table that tells us how many trial, first repeat, etc. purchases occurred in each week. We create a pivot table in which we use `shWeek` as the row field, `DoR` as the column field, and `ID` as the data item."
   ]
  },
  {
   "cell_type": "code",
   "execution_count": 19,
   "metadata": {},
   "outputs": [],
   "source": [
    "week_range, dor_range = np.meshgrid(np.arange(1, 53, dtype='int16'), np.arange(0, 12, dtype='uint16'))\n",
    "dummy_lf = pl.DataFrame({'shWeek': week_range.reshape(-1), 'DoR': dor_range.reshape(-1)})\n",
    "\n",
    "sh_agg_trans = (\n",
    "    shifted_lf\n",
    "    .collect()\n",
    "    .group_by('shWeek', 'DoR')\n",
    "    .agg(pl.len().alias('Count'))\n",
    ")\n",
    "\n",
    "shweek_total_trans = (\n",
    "    sh_agg_trans\n",
    "    .group_by('shWeek')\n",
    "    .agg(pl.col('Count').sum().alias('Total')) \n",
    ")\n",
    "\n",
    "sh_agg_trans_longform = (\n",
    "    dummy_lf\n",
    "    .join(sh_agg_trans, on=['shWeek', 'DoR'], how='left')\n",
    "    .join(shweek_total_trans, on='shWeek', how='left')\n",
    "    .fill_null(0)\n",
    ")"
   ]
  },
  {
   "cell_type": "code",
   "execution_count": 20,
   "metadata": {},
   "outputs": [
    {
     "data": {
      "text/html": [
       "<div><style>\n",
       ".dataframe > thead > tr,\n",
       ".dataframe > tbody > tr {\n",
       "  text-align: right;\n",
       "  white-space: pre-wrap;\n",
       "}\n",
       "</style>\n",
       "<small>shape: (52, 14)</small><table border=\"1\" class=\"dataframe\"><thead><tr><th>shWeek</th><th>0</th><th>1</th><th>2</th><th>3</th><th>4</th><th>5</th><th>6</th><th>7</th><th>8</th><th>9</th><th>10</th><th>11</th><th>Total</th></tr><tr><td>i16</td><td>u32</td><td>u32</td><td>u32</td><td>u32</td><td>u32</td><td>u32</td><td>u32</td><td>u32</td><td>u32</td><td>u32</td><td>u32</td><td>u32</td><td>u32</td></tr></thead><tbody><tr><td>1</td><td>8</td><td>0</td><td>0</td><td>0</td><td>0</td><td>0</td><td>0</td><td>0</td><td>0</td><td>0</td><td>0</td><td>0</td><td>8</td></tr><tr><td>2</td><td>6</td><td>1</td><td>0</td><td>0</td><td>0</td><td>0</td><td>0</td><td>0</td><td>0</td><td>0</td><td>0</td><td>0</td><td>7</td></tr><tr><td>3</td><td>2</td><td>1</td><td>0</td><td>0</td><td>0</td><td>0</td><td>0</td><td>0</td><td>0</td><td>0</td><td>0</td><td>0</td><td>3</td></tr><tr><td>4</td><td>16</td><td>1</td><td>0</td><td>0</td><td>0</td><td>0</td><td>0</td><td>0</td><td>0</td><td>0</td><td>0</td><td>0</td><td>17</td></tr><tr><td>5</td><td>8</td><td>4</td><td>0</td><td>0</td><td>0</td><td>0</td><td>0</td><td>0</td><td>0</td><td>0</td><td>0</td><td>0</td><td>12</td></tr><tr><td>&hellip;</td><td>&hellip;</td><td>&hellip;</td><td>&hellip;</td><td>&hellip;</td><td>&hellip;</td><td>&hellip;</td><td>&hellip;</td><td>&hellip;</td><td>&hellip;</td><td>&hellip;</td><td>&hellip;</td><td>&hellip;</td><td>&hellip;</td></tr><tr><td>48</td><td>1</td><td>1</td><td>1</td><td>1</td><td>0</td><td>0</td><td>0</td><td>1</td><td>0</td><td>0</td><td>0</td><td>0</td><td>5</td></tr><tr><td>49</td><td>4</td><td>0</td><td>0</td><td>0</td><td>0</td><td>2</td><td>0</td><td>1</td><td>1</td><td>0</td><td>0</td><td>0</td><td>8</td></tr><tr><td>50</td><td>0</td><td>2</td><td>0</td><td>0</td><td>0</td><td>0</td><td>0</td><td>1</td><td>2</td><td>1</td><td>1</td><td>1</td><td>8</td></tr><tr><td>51</td><td>0</td><td>1</td><td>0</td><td>0</td><td>0</td><td>0</td><td>0</td><td>1</td><td>0</td><td>0</td><td>0</td><td>0</td><td>2</td></tr><tr><td>52</td><td>2</td><td>1</td><td>1</td><td>1</td><td>0</td><td>0</td><td>0</td><td>0</td><td>0</td><td>1</td><td>0</td><td>0</td><td>6</td></tr></tbody></table></div>"
      ],
      "text/plain": [
       "shape: (52, 14)\n",
       "┌────────┬─────┬─────┬─────┬───┬─────┬─────┬─────┬───────┐\n",
       "│ shWeek ┆ 0   ┆ 1   ┆ 2   ┆ … ┆ 9   ┆ 10  ┆ 11  ┆ Total │\n",
       "│ ---    ┆ --- ┆ --- ┆ --- ┆   ┆ --- ┆ --- ┆ --- ┆ ---   │\n",
       "│ i16    ┆ u32 ┆ u32 ┆ u32 ┆   ┆ u32 ┆ u32 ┆ u32 ┆ u32   │\n",
       "╞════════╪═════╪═════╪═════╪═══╪═════╪═════╪═════╪═══════╡\n",
       "│ 1      ┆ 8   ┆ 0   ┆ 0   ┆ … ┆ 0   ┆ 0   ┆ 0   ┆ 8     │\n",
       "│ 2      ┆ 6   ┆ 1   ┆ 0   ┆ … ┆ 0   ┆ 0   ┆ 0   ┆ 7     │\n",
       "│ 3      ┆ 2   ┆ 1   ┆ 0   ┆ … ┆ 0   ┆ 0   ┆ 0   ┆ 3     │\n",
       "│ 4      ┆ 16  ┆ 1   ┆ 0   ┆ … ┆ 0   ┆ 0   ┆ 0   ┆ 17    │\n",
       "│ 5      ┆ 8   ┆ 4   ┆ 0   ┆ … ┆ 0   ┆ 0   ┆ 0   ┆ 12    │\n",
       "│ …      ┆ …   ┆ …   ┆ …   ┆ … ┆ …   ┆ …   ┆ …   ┆ …     │\n",
       "│ 48     ┆ 1   ┆ 1   ┆ 1   ┆ … ┆ 0   ┆ 0   ┆ 0   ┆ 5     │\n",
       "│ 49     ┆ 4   ┆ 0   ┆ 0   ┆ … ┆ 0   ┆ 0   ┆ 0   ┆ 8     │\n",
       "│ 50     ┆ 0   ┆ 2   ┆ 0   ┆ … ┆ 1   ┆ 1   ┆ 1   ┆ 8     │\n",
       "│ 51     ┆ 0   ┆ 1   ┆ 0   ┆ … ┆ 0   ┆ 0   ┆ 0   ┆ 2     │\n",
       "│ 52     ┆ 2   ┆ 1   ┆ 1   ┆ … ┆ 1   ┆ 0   ┆ 0   ┆ 6     │\n",
       "└────────┴─────┴─────┴─────┴───┴─────┴─────┴─────┴───────┘"
      ]
     },
     "metadata": {},
     "output_type": "display_data"
    },
    {
     "data": {
      "text/html": [
       "<div><style>\n",
       ".dataframe > thead > tr,\n",
       ".dataframe > tbody > tr {\n",
       "  text-align: right;\n",
       "  white-space: pre-wrap;\n",
       "}\n",
       "</style>\n",
       "<small>shape: (1, 13)</small><table border=\"1\" class=\"dataframe\"><thead><tr><th>0</th><th>1</th><th>2</th><th>3</th><th>4</th><th>5</th><th>6</th><th>7</th><th>8</th><th>9</th><th>10</th><th>11</th><th>Total</th></tr><tr><td>u32</td><td>u32</td><td>u32</td><td>u32</td><td>u32</td><td>u32</td><td>u32</td><td>u32</td><td>u32</td><td>u32</td><td>u32</td><td>u32</td><td>u32</td></tr></thead><tbody><tr><td>139</td><td>52</td><td>31</td><td>23</td><td>17</td><td>14</td><td>9</td><td>8</td><td>6</td><td>4</td><td>2</td><td>1</td><td>306</td></tr></tbody></table></div>"
      ],
      "text/plain": [
       "shape: (1, 13)\n",
       "┌─────┬─────┬─────┬─────┬───┬─────┬─────┬─────┬───────┐\n",
       "│ 0   ┆ 1   ┆ 2   ┆ 3   ┆ … ┆ 9   ┆ 10  ┆ 11  ┆ Total │\n",
       "│ --- ┆ --- ┆ --- ┆ --- ┆   ┆ --- ┆ --- ┆ --- ┆ ---   │\n",
       "│ u32 ┆ u32 ┆ u32 ┆ u32 ┆   ┆ u32 ┆ u32 ┆ u32 ┆ u32   │\n",
       "╞═════╪═════╪═════╪═════╪═══╪═════╪═════╪═════╪═══════╡\n",
       "│ 139 ┆ 52  ┆ 31  ┆ 23  ┆ … ┆ 4   ┆ 2   ┆ 1   ┆ 306   │\n",
       "└─────┴─────┴─────┴─────┴───┴─────┴─────┴─────┴───────┘"
      ]
     },
     "metadata": {},
     "output_type": "display_data"
    }
   ],
   "source": [
    "sh_agg_trans_wideform = (\n",
    "    sh_agg_trans_longform\n",
    "    .pivot(on='DoR', index='shWeek', values='Count')\n",
    "    .join(shweek_total_trans, on='shWeek', how='left')\n",
    ")\n",
    "\n",
    "col_total = sh_agg_trans_wideform.select(pl.col('*').exclude('shWeek').sum())\n",
    "\n",
    "display(sh_agg_trans_wideform)\n",
    "display(col_total)"
   ]
  },
  {
   "cell_type": "code",
   "execution_count": 21,
   "metadata": {},
   "outputs": [
    {
     "data": {
      "text/html": [
       "<div><style>\n",
       ".dataframe > thead > tr,\n",
       ".dataframe > tbody > tr {\n",
       "  text-align: right;\n",
       "  white-space: pre-wrap;\n",
       "}\n",
       "</style>\n",
       "<small>shape: (52, 13)</small><table border=\"1\" class=\"dataframe\"><thead><tr><th>shWeek</th><th>0</th><th>1</th><th>2</th><th>3</th><th>4</th><th>5</th><th>6</th><th>7</th><th>8</th><th>9</th><th>10</th><th>11</th></tr><tr><td>i16</td><td>u32</td><td>u32</td><td>u32</td><td>u32</td><td>u32</td><td>u32</td><td>u32</td><td>u32</td><td>u32</td><td>u32</td><td>u32</td><td>u32</td></tr></thead><tbody><tr><td>1</td><td>8</td><td>0</td><td>0</td><td>0</td><td>0</td><td>0</td><td>0</td><td>0</td><td>0</td><td>0</td><td>0</td><td>0</td></tr><tr><td>2</td><td>14</td><td>1</td><td>0</td><td>0</td><td>0</td><td>0</td><td>0</td><td>0</td><td>0</td><td>0</td><td>0</td><td>0</td></tr><tr><td>3</td><td>16</td><td>2</td><td>0</td><td>0</td><td>0</td><td>0</td><td>0</td><td>0</td><td>0</td><td>0</td><td>0</td><td>0</td></tr><tr><td>4</td><td>32</td><td>3</td><td>0</td><td>0</td><td>0</td><td>0</td><td>0</td><td>0</td><td>0</td><td>0</td><td>0</td><td>0</td></tr><tr><td>5</td><td>40</td><td>7</td><td>0</td><td>0</td><td>0</td><td>0</td><td>0</td><td>0</td><td>0</td><td>0</td><td>0</td><td>0</td></tr><tr><td>&hellip;</td><td>&hellip;</td><td>&hellip;</td><td>&hellip;</td><td>&hellip;</td><td>&hellip;</td><td>&hellip;</td><td>&hellip;</td><td>&hellip;</td><td>&hellip;</td><td>&hellip;</td><td>&hellip;</td><td>&hellip;</td></tr><tr><td>48</td><td>133</td><td>48</td><td>30</td><td>22</td><td>17</td><td>12</td><td>9</td><td>5</td><td>3</td><td>2</td><td>1</td><td>0</td></tr><tr><td>49</td><td>137</td><td>48</td><td>30</td><td>22</td><td>17</td><td>14</td><td>9</td><td>6</td><td>4</td><td>2</td><td>1</td><td>0</td></tr><tr><td>50</td><td>137</td><td>50</td><td>30</td><td>22</td><td>17</td><td>14</td><td>9</td><td>7</td><td>6</td><td>3</td><td>2</td><td>1</td></tr><tr><td>51</td><td>137</td><td>51</td><td>30</td><td>22</td><td>17</td><td>14</td><td>9</td><td>8</td><td>6</td><td>3</td><td>2</td><td>1</td></tr><tr><td>52</td><td>139</td><td>52</td><td>31</td><td>23</td><td>17</td><td>14</td><td>9</td><td>8</td><td>6</td><td>4</td><td>2</td><td>1</td></tr></tbody></table></div>"
      ],
      "text/plain": [
       "shape: (52, 13)\n",
       "┌────────┬─────┬─────┬─────┬───┬─────┬─────┬─────┬─────┐\n",
       "│ shWeek ┆ 0   ┆ 1   ┆ 2   ┆ … ┆ 8   ┆ 9   ┆ 10  ┆ 11  │\n",
       "│ ---    ┆ --- ┆ --- ┆ --- ┆   ┆ --- ┆ --- ┆ --- ┆ --- │\n",
       "│ i16    ┆ u32 ┆ u32 ┆ u32 ┆   ┆ u32 ┆ u32 ┆ u32 ┆ u32 │\n",
       "╞════════╪═════╪═════╪═════╪═══╪═════╪═════╪═════╪═════╡\n",
       "│ 1      ┆ 8   ┆ 0   ┆ 0   ┆ … ┆ 0   ┆ 0   ┆ 0   ┆ 0   │\n",
       "│ 2      ┆ 14  ┆ 1   ┆ 0   ┆ … ┆ 0   ┆ 0   ┆ 0   ┆ 0   │\n",
       "│ 3      ┆ 16  ┆ 2   ┆ 0   ┆ … ┆ 0   ┆ 0   ┆ 0   ┆ 0   │\n",
       "│ 4      ┆ 32  ┆ 3   ┆ 0   ┆ … ┆ 0   ┆ 0   ┆ 0   ┆ 0   │\n",
       "│ 5      ┆ 40  ┆ 7   ┆ 0   ┆ … ┆ 0   ┆ 0   ┆ 0   ┆ 0   │\n",
       "│ …      ┆ …   ┆ …   ┆ …   ┆ … ┆ …   ┆ …   ┆ …   ┆ …   │\n",
       "│ 48     ┆ 133 ┆ 48  ┆ 30  ┆ … ┆ 3   ┆ 2   ┆ 1   ┆ 0   │\n",
       "│ 49     ┆ 137 ┆ 48  ┆ 30  ┆ … ┆ 4   ┆ 2   ┆ 1   ┆ 0   │\n",
       "│ 50     ┆ 137 ┆ 50  ┆ 30  ┆ … ┆ 6   ┆ 3   ┆ 2   ┆ 1   │\n",
       "│ 51     ┆ 137 ┆ 51  ┆ 30  ┆ … ┆ 6   ┆ 3   ┆ 2   ┆ 1   │\n",
       "│ 52     ┆ 139 ┆ 52  ┆ 31  ┆ … ┆ 6   ┆ 4   ┆ 2   ┆ 1   │\n",
       "└────────┴─────┴─────┴─────┴───┴─────┴─────┴─────┴─────┘"
      ]
     },
     "metadata": {},
     "output_type": "display_data"
    }
   ],
   "source": [
    "sh_cum_trans_longform = sh_agg_trans_longform.with_columns(pl.col('Count').cum_sum().over('DoR').alias('Cum DoR'))\n",
    "sh_cum_trans_wideform = sh_cum_trans_longform.pivot(on='DoR', index='shWeek', values='Cum DoR')\n",
    "\n",
    "display(sh_cum_trans_wideform)"
   ]
  },
  {
   "cell_type": "markdown",
   "metadata": {},
   "source": [
    "The differences between the \"raw\" and \"shifted\" cumulative transaction counts by depth-of-repeat level are small; there are only nine depth-of-repeat/week occasions on which the two sets of numbers differ, and the maximum deviation is one transaction. Perhaps the most obvious difference is with respect to first repeat. Looking at the \"raw\" numbers, we observe a first repeat purchase in the first week the product was on the market. Under the assumption that a trial and first repeat purchase cannot occur in the same week, this first repeat purchase is shifted to week 2 in the \"shifted\" numbers."
   ]
  },
  {
   "cell_type": "markdown",
   "metadata": {},
   "source": [
    "### <span style=\"color:#956bbf\">Generating a Sales Forecast With a Depth-of-Repeat Model</span>\n",
    "---"
   ]
  },
  {
   "cell_type": "markdown",
   "metadata": {},
   "source": [
    "#### Introduction"
   ]
  },
  {
   "cell_type": "markdown",
   "metadata": {},
   "source": [
    "Central to diagnosing the performance of a new product is the decomposition of its total sales into trial, first repeat, second repeat, and so on, components:\n",
    "\n",
    "$$\n",
    "S(t)=T(t)+R_{1}(t)+R_{2}(t)+R_{3}(t)+\\cdots\n",
    "$$\n",
    "\n",
    "where $S(t)$ is the cumulative sales volume up to time $t$ (assuming that only one unit is purchased on each purchase occasion), $T(t)$ equals the cumulative number of people who have made a trial purchase by time $t$, and $R_{j}(t)$ denotes the number of people who have made at least $j$ repeat purchases of the new product by time $t(j=1,2,3, \\ldots)$.\n",
    "\n",
    "- We can decompose $T(t)$ in the following manner:\n",
    "\n",
    "    $$\n",
    "    \\begin{equation*}\n",
    "    T(t)=N F_{0}(t) \\tag{1}\n",
    "    \\end{equation*}\n",
    "    $$\n",
    "\n",
    "    where $N$ is number of customers whose purchases are being monitored and $F_{0}(t)$ is the proportion of customers who have made their trial purchase by $t$.\n",
    "\n",
    "- We can decompose the $R_{j}(t)$ by conditioning on the time at which the $(j-1)$ th purchase occurred:\n",
    "\n",
    "    $$\n",
    "    \\begin{equation*}\n",
    "    R_{j}(t)=\\sum_{t_{j-1}=j}^{t-1} F_{j}\\left(t \\mid t_{j-1}\\right)\\left[R_{j-1}\\left(t_{j-1}\\right)-R_{j-1}\\left(t_{j-1}-1\\right)\\right] \\tag{2}\n",
    "    \\end{equation*}\n",
    "    $$\n",
    "\n",
    "    where $F_{j}\\left(t \\mid t_{j-1}\\right)$ is the proportion of customers who have made a $j$ th repeat purchase by $t$, given that their $(j-1)$ th repeat purchase was made in period $t_{j-1}$, and $R_{j-1}\\left(t_{j-1}\\right)-R_{j-1}\\left(t_{j-1}-1\\right)$ is the number of individuals who made their $(j-1)$ th repeat purchase in time period $t_{j-1}$. (Note that $R_{0}(t)=T(t)$ and $R_{j}(t)=0$ for $\\left.t \\leq j.\\right)$\n",
    "\n",
    "Equations (1) and (2) are simply definitional. If we specify mathematical expressions for $F_{0}(t)$ and the $F_{j}\\left(t \\mid t_{j-1}\\right)$, we arrive at a model of new product sales. Our python implementation incorporates the following model, with separate submodels for trial, first repeat (denoted by $F R(t)$ instead of $R_{1}(t)$ ) and additional repeat $\\left(A R(t)=R_{2}(t)+R_{3}(t)+\\cdots\\right)$:\n",
    "\n",
    "For trial, we have\n",
    "\n",
    "$$\n",
    "\\begin{align*}\n",
    "& T(t)=N P(\\text { trial by } t)  \\tag{3}\\\\\n",
    "& P(\\text {trial by } t)=p_{0}\\left(1-e^{-\\theta_{T} t}\\right) \\tag{4}\n",
    "\\end{align*}\n",
    "$$\n",
    "\n",
    "For first repeat, we have\n",
    "\n",
    "$$\n",
    "\\begin{align*}\n",
    "& F R(t)=\\sum_{t_{0}=1}^{t-1} P\\left(\\text { first repeat by } t \\mid \\text { trial at } t_{0}\\right)\\left[T\\left(t_{0}\\right)-T\\left(t_{0}-1\\right)\\right]  \\tag{5}\\\\\n",
    "& P\\left(\\text {first repeat by } t \\mid \\text { trial at } t_{0}\\right)=p_{1}\\left(1-e^{-\\theta_{F R}\\left(t-t_{0}\\right)}\\right) \\tag{6}\n",
    "\\end{align*}\n",
    "$$\n",
    "\n",
    "For additional repeat $(j \\geq 2)$, we have\n",
    "\n",
    "$$\n",
    "\\begin{align*}\n",
    "A R(t)= & \\sum_{j=2}^{\\infty} R_{j}(t)  \\tag{7}\\\\\n",
    "R_{j}(t)=\\sum_{t_{j-1}=j}^{t-1}\\{ & P\\left(j \\text {th repeat by } t \\mid(j-1) \\text { th repeat at } t_{j-1}\\right) \\\\\n",
    "& \\left.\\quad \\times\\left[R_{j-1}\\left(t_{j-1}\\right)-R_{j-1}\\left(t_{j-1}-1\\right)\\right]\\right\\} \\tag{8}\n",
    "\\end{align*}\n",
    "$$\n",
    "\n",
    "$$\n",
    "\\begin{equation*}\n",
    "P\\left(j\\text{th repeat by } t \\mid (j-1)\\text{th repeat at } t_{j-1}\\right)=p_{j}\\left(1-e^{-\\theta_{A R}\\left(t-t_{j-1}\\right)}\\right) \\tag{9}\n",
    "\\end{equation*}\n",
    "$$\n",
    "\n",
    "$$\n",
    "\\begin{equation*}\n",
    "p_{j}=p_{\\infty}\\left(1-e^{-\\gamma j}\\right) \\tag{10}\n",
    "\\end{equation*}\n",
    "$$"
   ]
  },
  {
   "cell_type": "markdown",
   "metadata": {},
   "source": [
    "For the Kiwi Bubbles dataset (from a panel of $N=1499$ households) with a 24 -week calibration period, we have\n",
    "\n",
    "| $p_{0}$ | $\\theta_{T}$ | $p_{1}$ | $\\theta_{F R}$ | $p_{\\infty}$ | $\\gamma$ | $\\theta_{A R}$ |\n",
    "| :---: | :---: | :---: | :---: | :---: | :---: | :---: |\n",
    "| 0.08620 | 0.06428 | 0.36346 | 0.46140 | 0.78158 | 1.00140 | 0.23094 |\n",
    "\n",
    "Given these parameter estimates, we can first generate a forecast of trial, then a forecast of first repeat (conditional on the trial forecast), then a forecast of second repeat (conditional on the first-repeat forecast), and so on. For a forecast horizon of $t_{f}$ periods, we should (in theory) allow for up to $t_{f}-1$ levels of repeat ${ }^{1}$.\n",
    "\n",
    "${ }^{1}$ Under the assumption that a customer can have only one transaction per unit of time, the earliest point in time a first repeat purchase can occur is period 2. Following this logic, the summation limit in (7) should really be $t-1$, not $\\infty$."
   ]
  },
  {
   "cell_type": "code",
   "execution_count": 22,
   "metadata": {},
   "outputs": [
    {
     "data": {
      "text/html": [
       "<div><style>\n",
       ".dataframe > thead > tr,\n",
       ".dataframe > tbody > tr {\n",
       "  text-align: right;\n",
       "  white-space: pre-wrap;\n",
       "}\n",
       "</style>\n",
       "<small>shape: (52, 5)</small><table border=\"1\" class=\"dataframe\"><thead><tr><th>Week (t)</th><th>T(t)</th><th>FR(t)</th><th>AR(t)</th><th>S(t)</th></tr><tr><td>i16</td><td>u32</td><td>u32</td><td>u32</td><td>u32</td></tr></thead><tbody><tr><td>1</td><td>8</td><td>0</td><td>0</td><td>8</td></tr><tr><td>2</td><td>14</td><td>1</td><td>0</td><td>15</td></tr><tr><td>3</td><td>16</td><td>2</td><td>0</td><td>18</td></tr><tr><td>4</td><td>32</td><td>3</td><td>0</td><td>35</td></tr><tr><td>5</td><td>40</td><td>7</td><td>0</td><td>47</td></tr><tr><td>&hellip;</td><td>&hellip;</td><td>&hellip;</td><td>&hellip;</td><td>&hellip;</td></tr><tr><td>48</td><td>133</td><td>48</td><td>101</td><td>282</td></tr><tr><td>49</td><td>137</td><td>48</td><td>105</td><td>290</td></tr><tr><td>50</td><td>137</td><td>50</td><td>111</td><td>298</td></tr><tr><td>51</td><td>137</td><td>51</td><td>112</td><td>300</td></tr><tr><td>52</td><td>139</td><td>52</td><td>115</td><td>306</td></tr></tbody></table></div>"
      ],
      "text/plain": [
       "shape: (52, 5)\n",
       "┌──────────┬──────┬───────┬───────┬──────┐\n",
       "│ Week (t) ┆ T(t) ┆ FR(t) ┆ AR(t) ┆ S(t) │\n",
       "│ ---      ┆ ---  ┆ ---   ┆ ---   ┆ ---  │\n",
       "│ i16      ┆ u32  ┆ u32   ┆ u32   ┆ u32  │\n",
       "╞══════════╪══════╪═══════╪═══════╪══════╡\n",
       "│ 1        ┆ 8    ┆ 0     ┆ 0     ┆ 8    │\n",
       "│ 2        ┆ 14   ┆ 1     ┆ 0     ┆ 15   │\n",
       "│ 3        ┆ 16   ┆ 2     ┆ 0     ┆ 18   │\n",
       "│ 4        ┆ 32   ┆ 3     ┆ 0     ┆ 35   │\n",
       "│ 5        ┆ 40   ┆ 7     ┆ 0     ┆ 47   │\n",
       "│ …        ┆ …    ┆ …     ┆ …     ┆ …    │\n",
       "│ 48       ┆ 133  ┆ 48    ┆ 101   ┆ 282  │\n",
       "│ 49       ┆ 137  ┆ 48    ┆ 105   ┆ 290  │\n",
       "│ 50       ┆ 137  ┆ 50    ┆ 111   ┆ 298  │\n",
       "│ 51       ┆ 137  ┆ 51    ┆ 112   ┆ 300  │\n",
       "│ 52       ┆ 139  ┆ 52    ┆ 115   ┆ 306  │\n",
       "└──────────┴──────┴───────┴───────┴──────┘"
      ]
     },
     "execution_count": 22,
     "metadata": {},
     "output_type": "execute_result"
    }
   ],
   "source": [
    "modified_cum_trans = (\n",
    "    sh_cum_trans_wideform\n",
    "    .with_columns(\n",
    "        pl.sum_horizontal(pl.col(f'{i}' for i in range(2, 12)).alias('AR(t)')),\n",
    "        pl.sum_horizontal(pl.exclude('shWeek').alias('S(t)'))\n",
    "    )\n",
    "    .rename({'shWeek': 'Week (t)', '0': 'T(t)', '1': 'FR(t)'})\n",
    "    .select('Week (t)', 'T(t)', 'FR(t)', 'AR(t)', 'S(t)')\n",
    ")\n",
    "\n",
    "modified_cum_trans"
   ]
  },
  {
   "cell_type": "code",
   "execution_count": 23,
   "metadata": {},
   "outputs": [
    {
     "data": {
      "application/vnd.vegalite.v5+json": {
       "$schema": "https://vega.github.io/schema/vega-lite/v5.20.1.json",
       "config": {
        "axisX": {
         "grid": false
        },
        "axisY": {
         "grid": false
        },
        "view": {
         "continuousHeight": 300,
         "continuousWidth": 300,
         "stroke": null
        }
       },
       "data": {
        "name": "data-14af2c719777932de7be45f5a594bb10"
       },
       "datasets": {
        "data-14af2c719777932de7be45f5a594bb10": [
         {
          "AR(t)": 0,
          "FR(t)": 0,
          "S(t)": 8,
          "T(t)": 8,
          "Week (t)": 1
         },
         {
          "AR(t)": 0,
          "FR(t)": 1,
          "S(t)": 15,
          "T(t)": 14,
          "Week (t)": 2
         },
         {
          "AR(t)": 0,
          "FR(t)": 2,
          "S(t)": 18,
          "T(t)": 16,
          "Week (t)": 3
         },
         {
          "AR(t)": 0,
          "FR(t)": 3,
          "S(t)": 35,
          "T(t)": 32,
          "Week (t)": 4
         },
         {
          "AR(t)": 0,
          "FR(t)": 7,
          "S(t)": 47,
          "T(t)": 40,
          "Week (t)": 5
         },
         {
          "AR(t)": 2,
          "FR(t)": 9,
          "S(t)": 58,
          "T(t)": 47,
          "Week (t)": 6
         },
         {
          "AR(t)": 3,
          "FR(t)": 12,
          "S(t)": 65,
          "T(t)": 50,
          "Week (t)": 7
         },
         {
          "AR(t)": 4,
          "FR(t)": 13,
          "S(t)": 69,
          "T(t)": 52,
          "Week (t)": 8
         },
         {
          "AR(t)": 7,
          "FR(t)": 17,
          "S(t)": 81,
          "T(t)": 57,
          "Week (t)": 9
         },
         {
          "AR(t)": 9,
          "FR(t)": 18,
          "S(t)": 87,
          "T(t)": 60,
          "Week (t)": 10
         },
         {
          "AR(t)": 13,
          "FR(t)": 22,
          "S(t)": 100,
          "T(t)": 65,
          "Week (t)": 11
         },
         {
          "AR(t)": 15,
          "FR(t)": 23,
          "S(t)": 105,
          "T(t)": 67,
          "Week (t)": 12
         },
         {
          "AR(t)": 16,
          "FR(t)": 23,
          "S(t)": 107,
          "T(t)": 68,
          "Week (t)": 13
         },
         {
          "AR(t)": 18,
          "FR(t)": 23,
          "S(t)": 113,
          "T(t)": 72,
          "Week (t)": 14
         },
         {
          "AR(t)": 19,
          "FR(t)": 23,
          "S(t)": 117,
          "T(t)": 75,
          "Week (t)": 15
         },
         {
          "AR(t)": 21,
          "FR(t)": 24,
          "S(t)": 126,
          "T(t)": 81,
          "Week (t)": 16
         },
         {
          "AR(t)": 26,
          "FR(t)": 24,
          "S(t)": 140,
          "T(t)": 90,
          "Week (t)": 17
         },
         {
          "AR(t)": 30,
          "FR(t)": 28,
          "S(t)": 152,
          "T(t)": 94,
          "Week (t)": 18
         },
         {
          "AR(t)": 32,
          "FR(t)": 32,
          "S(t)": 160,
          "T(t)": 96,
          "Week (t)": 19
         },
         {
          "AR(t)": 35,
          "FR(t)": 33,
          "S(t)": 164,
          "T(t)": 96,
          "Week (t)": 20
         },
         {
          "AR(t)": 38,
          "FR(t)": 33,
          "S(t)": 167,
          "T(t)": 96,
          "Week (t)": 21
         },
         {
          "AR(t)": 39,
          "FR(t)": 34,
          "S(t)": 170,
          "T(t)": 97,
          "Week (t)": 22
         },
         {
          "AR(t)": 40,
          "FR(t)": 35,
          "S(t)": 172,
          "T(t)": 97,
          "Week (t)": 23
         },
         {
          "AR(t)": 43,
          "FR(t)": 35,
          "S(t)": 179,
          "T(t)": 101,
          "Week (t)": 24
         },
         {
          "AR(t)": 43,
          "FR(t)": 35,
          "S(t)": 179,
          "T(t)": 101,
          "Week (t)": 25
         },
         {
          "AR(t)": 50,
          "FR(t)": 35,
          "S(t)": 186,
          "T(t)": 101,
          "Week (t)": 26
         },
         {
          "AR(t)": 53,
          "FR(t)": 37,
          "S(t)": 195,
          "T(t)": 105,
          "Week (t)": 27
         },
         {
          "AR(t)": 57,
          "FR(t)": 37,
          "S(t)": 200,
          "T(t)": 106,
          "Week (t)": 28
         },
         {
          "AR(t)": 60,
          "FR(t)": 37,
          "S(t)": 203,
          "T(t)": 106,
          "Week (t)": 29
         },
         {
          "AR(t)": 64,
          "FR(t)": 41,
          "S(t)": 223,
          "T(t)": 118,
          "Week (t)": 30
         },
         {
          "AR(t)": 65,
          "FR(t)": 41,
          "S(t)": 225,
          "T(t)": 119,
          "Week (t)": 31
         },
         {
          "AR(t)": 65,
          "FR(t)": 42,
          "S(t)": 226,
          "T(t)": 119,
          "Week (t)": 32
         },
         {
          "AR(t)": 67,
          "FR(t)": 43,
          "S(t)": 230,
          "T(t)": 120,
          "Week (t)": 33
         },
         {
          "AR(t)": 69,
          "FR(t)": 44,
          "S(t)": 236,
          "T(t)": 123,
          "Week (t)": 34
         },
         {
          "AR(t)": 72,
          "FR(t)": 45,
          "S(t)": 242,
          "T(t)": 125,
          "Week (t)": 35
         },
         {
          "AR(t)": 76,
          "FR(t)": 45,
          "S(t)": 246,
          "T(t)": 125,
          "Week (t)": 36
         },
         {
          "AR(t)": 80,
          "FR(t)": 45,
          "S(t)": 251,
          "T(t)": 126,
          "Week (t)": 37
         },
         {
          "AR(t)": 84,
          "FR(t)": 45,
          "S(t)": 256,
          "T(t)": 127,
          "Week (t)": 38
         },
         {
          "AR(t)": 84,
          "FR(t)": 45,
          "S(t)": 256,
          "T(t)": 127,
          "Week (t)": 39
         },
         {
          "AR(t)": 87,
          "FR(t)": 45,
          "S(t)": 259,
          "T(t)": 127,
          "Week (t)": 40
         },
         {
          "AR(t)": 87,
          "FR(t)": 45,
          "S(t)": 259,
          "T(t)": 127,
          "Week (t)": 41
         },
         {
          "AR(t)": 89,
          "FR(t)": 45,
          "S(t)": 262,
          "T(t)": 128,
          "Week (t)": 42
         },
         {
          "AR(t)": 89,
          "FR(t)": 45,
          "S(t)": 263,
          "T(t)": 129,
          "Week (t)": 43
         },
         {
          "AR(t)": 89,
          "FR(t)": 46,
          "S(t)": 264,
          "T(t)": 129,
          "Week (t)": 44
         },
         {
          "AR(t)": 93,
          "FR(t)": 46,
          "S(t)": 268,
          "T(t)": 129,
          "Week (t)": 45
         },
         {
          "AR(t)": 94,
          "FR(t)": 46,
          "S(t)": 270,
          "T(t)": 130,
          "Week (t)": 46
         },
         {
          "AR(t)": 98,
          "FR(t)": 47,
          "S(t)": 277,
          "T(t)": 132,
          "Week (t)": 47
         },
         {
          "AR(t)": 101,
          "FR(t)": 48,
          "S(t)": 282,
          "T(t)": 133,
          "Week (t)": 48
         },
         {
          "AR(t)": 105,
          "FR(t)": 48,
          "S(t)": 290,
          "T(t)": 137,
          "Week (t)": 49
         },
         {
          "AR(t)": 111,
          "FR(t)": 50,
          "S(t)": 298,
          "T(t)": 137,
          "Week (t)": 50
         },
         {
          "AR(t)": 112,
          "FR(t)": 51,
          "S(t)": 300,
          "T(t)": 137,
          "Week (t)": 51
         },
         {
          "AR(t)": 115,
          "FR(t)": 52,
          "S(t)": 306,
          "T(t)": 139,
          "Week (t)": 52
         }
        ]
       },
       "encoding": {
        "color": {
         "field": "Type",
         "type": "nominal"
        },
        "x": {
         "axis": {
          "labelExpr": "datum.value",
          "title": "Week",
          "values": [
           0,
           4,
           8,
           12,
           16,
           20,
           24,
           28,
           32,
           36,
           40,
           44,
           48,
           52
          ]
         },
         "field": "Week (t)",
         "scale": {
          "domain": [
           0,
           52
          ]
         },
         "type": "quantitative"
        },
        "y": {
         "field": "Cum DoR",
         "scale": {},
         "title": "Cumulative Sales (# Transactions)",
         "type": "quantitative"
        }
       },
       "height": 250,
       "mark": {
        "strokeDash": [
         1,
         0
        ],
        "strokeWidth": 2,
        "type": "line"
       },
       "title": "Actual Cumulative Market Sales",
       "transform": [
        {
         "as": [
          "Type",
          "Cum DoR"
         ],
         "fold": [
          "T(t)",
          "FR(t)",
          "AR(t)",
          "S(t)"
         ]
        }
       ],
       "width": 650
      },
      "text/plain": [
       "<VegaLite 5 object>\n",
       "\n",
       "If you see this message, it means the renderer has not been properly enabled\n",
       "for the frontend that you are using. For more information, see\n",
       "https://altair-viz.github.io/user_guide/display_frontends.html#troubleshooting\n"
      ]
     },
     "execution_count": 23,
     "metadata": {},
     "output_type": "execute_result"
    }
   ],
   "source": [
    "actual_sales_curve = (\n",
    "    ChartTemp(modified_cum_trans)\n",
    "    .transform_fold(['T(t)', 'FR(t)', 'AR(t)', 'S(t)'], as_=['Type', 'Cum DoR'])\n",
    "    .line_encode('Cum DoR:Q', color='Type:N')\n",
    ")\n",
    "\n",
    "actual_sales_curve.line_prop('Actual Cumulative Market Sales')"
   ]
  },
  {
   "cell_type": "code",
   "execution_count": 24,
   "metadata": {},
   "outputs": [
    {
     "data": {
      "application/vnd.vegalite.v5+json": {
       "$schema": "https://vega.github.io/schema/vega-lite/v5.20.1.json",
       "config": {
        "axisX": {
         "grid": false
        },
        "axisY": {
         "grid": false
        },
        "view": {
         "continuousHeight": 300,
         "continuousWidth": 300,
         "stroke": null
        }
       },
       "data": {
        "name": "data-b5695179706b3d78752f038cacb9ffe0"
       },
       "datasets": {
        "data-b5695179706b3d78752f038cacb9ffe0": [
         {
          "AR(t)": 0,
          "FR(t)": 0,
          "S(t)": 8,
          "T(t)": 8,
          "Week (t)": 1
         },
         {
          "AR(t)": 0,
          "FR(t)": 1,
          "S(t)": 15,
          "T(t)": 14,
          "Week (t)": 2
         },
         {
          "AR(t)": 0,
          "FR(t)": 2,
          "S(t)": 18,
          "T(t)": 16,
          "Week (t)": 3
         },
         {
          "AR(t)": 0,
          "FR(t)": 3,
          "S(t)": 35,
          "T(t)": 32,
          "Week (t)": 4
         },
         {
          "AR(t)": 0,
          "FR(t)": 7,
          "S(t)": 47,
          "T(t)": 40,
          "Week (t)": 5
         },
         {
          "AR(t)": 2,
          "FR(t)": 9,
          "S(t)": 58,
          "T(t)": 47,
          "Week (t)": 6
         },
         {
          "AR(t)": 3,
          "FR(t)": 12,
          "S(t)": 65,
          "T(t)": 50,
          "Week (t)": 7
         },
         {
          "AR(t)": 4,
          "FR(t)": 13,
          "S(t)": 69,
          "T(t)": 52,
          "Week (t)": 8
         },
         {
          "AR(t)": 7,
          "FR(t)": 17,
          "S(t)": 81,
          "T(t)": 57,
          "Week (t)": 9
         },
         {
          "AR(t)": 9,
          "FR(t)": 18,
          "S(t)": 87,
          "T(t)": 60,
          "Week (t)": 10
         },
         {
          "AR(t)": 13,
          "FR(t)": 22,
          "S(t)": 100,
          "T(t)": 65,
          "Week (t)": 11
         },
         {
          "AR(t)": 15,
          "FR(t)": 23,
          "S(t)": 105,
          "T(t)": 67,
          "Week (t)": 12
         },
         {
          "AR(t)": 16,
          "FR(t)": 23,
          "S(t)": 107,
          "T(t)": 68,
          "Week (t)": 13
         },
         {
          "AR(t)": 18,
          "FR(t)": 23,
          "S(t)": 113,
          "T(t)": 72,
          "Week (t)": 14
         },
         {
          "AR(t)": 19,
          "FR(t)": 23,
          "S(t)": 117,
          "T(t)": 75,
          "Week (t)": 15
         },
         {
          "AR(t)": 21,
          "FR(t)": 24,
          "S(t)": 126,
          "T(t)": 81,
          "Week (t)": 16
         },
         {
          "AR(t)": 26,
          "FR(t)": 24,
          "S(t)": 140,
          "T(t)": 90,
          "Week (t)": 17
         },
         {
          "AR(t)": 30,
          "FR(t)": 28,
          "S(t)": 152,
          "T(t)": 94,
          "Week (t)": 18
         },
         {
          "AR(t)": 32,
          "FR(t)": 32,
          "S(t)": 160,
          "T(t)": 96,
          "Week (t)": 19
         },
         {
          "AR(t)": 35,
          "FR(t)": 33,
          "S(t)": 164,
          "T(t)": 96,
          "Week (t)": 20
         },
         {
          "AR(t)": 38,
          "FR(t)": 33,
          "S(t)": 167,
          "T(t)": 96,
          "Week (t)": 21
         },
         {
          "AR(t)": 39,
          "FR(t)": 34,
          "S(t)": 170,
          "T(t)": 97,
          "Week (t)": 22
         },
         {
          "AR(t)": 40,
          "FR(t)": 35,
          "S(t)": 172,
          "T(t)": 97,
          "Week (t)": 23
         },
         {
          "AR(t)": 43,
          "FR(t)": 35,
          "S(t)": 179,
          "T(t)": 101,
          "Week (t)": 24
         }
        ]
       },
       "encoding": {
        "color": {
         "field": "Type",
         "type": "nominal"
        },
        "x": {
         "axis": {
          "labelExpr": "datum.value",
          "title": "Week",
          "values": [
           0,
           4,
           8,
           12,
           16,
           20,
           24,
           28,
           32,
           36,
           40,
           44,
           48,
           52
          ]
         },
         "field": "Week (t)",
         "scale": {
          "domain": [
           0,
           52
          ]
         },
         "type": "quantitative"
        },
        "y": {
         "field": "Cum DoR",
         "scale": {
          "domain": [
           0,
           350
          ]
         },
         "title": "Cumulative Sales (# Transactions)",
         "type": "quantitative"
        }
       },
       "height": 250,
       "mark": {
        "strokeDash": [
         1,
         0
        ],
        "strokeWidth": 2,
        "type": "line"
       },
       "title": "Initial Test-Market Cumulative Sales",
       "transform": [
        {
         "as": [
          "Type",
          "Cum DoR"
         ],
         "fold": [
          "T(t)",
          "FR(t)",
          "AR(t)",
          "S(t)"
         ]
        }
       ],
       "width": 650
      },
      "text/plain": [
       "<VegaLite 5 object>\n",
       "\n",
       "If you see this message, it means the renderer has not been properly enabled\n",
       "for the frontend that you are using. For more information, see\n",
       "https://altair-viz.github.io/user_guide/display_frontends.html#troubleshooting\n"
      ]
     },
     "execution_count": 24,
     "metadata": {},
     "output_type": "execute_result"
    }
   ],
   "source": [
    "(\n",
    "    ChartTemp(modified_cum_trans.filter(pl.col('Week (t)')<=24))\n",
    "    .transform_fold(['T(t)', 'FR(t)', 'AR(t)', 'S(t)'], as_=['Type', 'Cum DoR'])\n",
    "    .line_encode('Cum DoR:Q', color='Type:N', y_scale=alt.Scale(domain=[0, 350]))\n",
    "    .line_prop('Initial Test-Market Cumulative Sales')\n",
    ")"
   ]
  },
  {
   "cell_type": "markdown",
   "metadata": {},
   "source": [
    "#### Forecasting Trial Transactions"
   ]
  },
  {
   "cell_type": "markdown",
   "metadata": {},
   "source": [
    "**Modelling Objective**:\n",
    "\n",
    "Using the purchasing data for the 101 households who had tried Kiwi Bubbles by the end of week 24, we wish to forecast the purchasing behavior of the whole panel (i.e., 1499 households) to the end of the year (week 52)."
   ]
  },
  {
   "cell_type": "code",
   "execution_count": 25,
   "metadata": {},
   "outputs": [
    {
     "data": {
      "application/vnd.vegalite.v5+json": {
       "$schema": "https://vega.github.io/schema/vega-lite/v5.20.1.json",
       "config": {
        "axisX": {
         "grid": false
        },
        "axisY": {
         "grid": false
        },
        "view": {
         "continuousHeight": 300,
         "continuousWidth": 300,
         "stroke": null
        }
       },
       "data": {
        "name": "data-b5695179706b3d78752f038cacb9ffe0"
       },
       "datasets": {
        "data-b5695179706b3d78752f038cacb9ffe0": [
         {
          "AR(t)": 0,
          "FR(t)": 0,
          "S(t)": 8,
          "T(t)": 8,
          "Week (t)": 1
         },
         {
          "AR(t)": 0,
          "FR(t)": 1,
          "S(t)": 15,
          "T(t)": 14,
          "Week (t)": 2
         },
         {
          "AR(t)": 0,
          "FR(t)": 2,
          "S(t)": 18,
          "T(t)": 16,
          "Week (t)": 3
         },
         {
          "AR(t)": 0,
          "FR(t)": 3,
          "S(t)": 35,
          "T(t)": 32,
          "Week (t)": 4
         },
         {
          "AR(t)": 0,
          "FR(t)": 7,
          "S(t)": 47,
          "T(t)": 40,
          "Week (t)": 5
         },
         {
          "AR(t)": 2,
          "FR(t)": 9,
          "S(t)": 58,
          "T(t)": 47,
          "Week (t)": 6
         },
         {
          "AR(t)": 3,
          "FR(t)": 12,
          "S(t)": 65,
          "T(t)": 50,
          "Week (t)": 7
         },
         {
          "AR(t)": 4,
          "FR(t)": 13,
          "S(t)": 69,
          "T(t)": 52,
          "Week (t)": 8
         },
         {
          "AR(t)": 7,
          "FR(t)": 17,
          "S(t)": 81,
          "T(t)": 57,
          "Week (t)": 9
         },
         {
          "AR(t)": 9,
          "FR(t)": 18,
          "S(t)": 87,
          "T(t)": 60,
          "Week (t)": 10
         },
         {
          "AR(t)": 13,
          "FR(t)": 22,
          "S(t)": 100,
          "T(t)": 65,
          "Week (t)": 11
         },
         {
          "AR(t)": 15,
          "FR(t)": 23,
          "S(t)": 105,
          "T(t)": 67,
          "Week (t)": 12
         },
         {
          "AR(t)": 16,
          "FR(t)": 23,
          "S(t)": 107,
          "T(t)": 68,
          "Week (t)": 13
         },
         {
          "AR(t)": 18,
          "FR(t)": 23,
          "S(t)": 113,
          "T(t)": 72,
          "Week (t)": 14
         },
         {
          "AR(t)": 19,
          "FR(t)": 23,
          "S(t)": 117,
          "T(t)": 75,
          "Week (t)": 15
         },
         {
          "AR(t)": 21,
          "FR(t)": 24,
          "S(t)": 126,
          "T(t)": 81,
          "Week (t)": 16
         },
         {
          "AR(t)": 26,
          "FR(t)": 24,
          "S(t)": 140,
          "T(t)": 90,
          "Week (t)": 17
         },
         {
          "AR(t)": 30,
          "FR(t)": 28,
          "S(t)": 152,
          "T(t)": 94,
          "Week (t)": 18
         },
         {
          "AR(t)": 32,
          "FR(t)": 32,
          "S(t)": 160,
          "T(t)": 96,
          "Week (t)": 19
         },
         {
          "AR(t)": 35,
          "FR(t)": 33,
          "S(t)": 164,
          "T(t)": 96,
          "Week (t)": 20
         },
         {
          "AR(t)": 38,
          "FR(t)": 33,
          "S(t)": 167,
          "T(t)": 96,
          "Week (t)": 21
         },
         {
          "AR(t)": 39,
          "FR(t)": 34,
          "S(t)": 170,
          "T(t)": 97,
          "Week (t)": 22
         },
         {
          "AR(t)": 40,
          "FR(t)": 35,
          "S(t)": 172,
          "T(t)": 97,
          "Week (t)": 23
         },
         {
          "AR(t)": 43,
          "FR(t)": 35,
          "S(t)": 179,
          "T(t)": 101,
          "Week (t)": 24
         }
        ]
       },
       "encoding": {
        "color": {},
        "x": {
         "axis": {
          "labelExpr": "datum.value",
          "title": "Week",
          "values": [
           0,
           4,
           8,
           12,
           16,
           20,
           24,
           28,
           32,
           36,
           40,
           44,
           48,
           52
          ]
         },
         "field": "Week (t)",
         "scale": {
          "domain": [
           0,
           52
          ]
         },
         "type": "quantitative"
        },
        "y": {
         "field": "T(t)",
         "scale": {
          "domain": [
           0,
           150
          ]
         },
         "title": "Cumulative Trial Sales (# of Transactions)",
         "type": "quantitative"
        }
       },
       "height": 250,
       "mark": {
        "strokeDash": [
         1,
         0
        ],
        "strokeWidth": 2,
        "type": "line"
       },
       "title": "Actual Test-Market Cumulative Trials",
       "width": 650
      },
      "text/plain": [
       "<VegaLite 5 object>\n",
       "\n",
       "If you see this message, it means the renderer has not been properly enabled\n",
       "for the frontend that you are using. For more information, see\n",
       "https://altair-viz.github.io/user_guide/display_frontends.html#troubleshooting\n"
      ]
     },
     "execution_count": 25,
     "metadata": {},
     "output_type": "execute_result"
    }
   ],
   "source": [
    "(\n",
    "    ChartTemp(modified_cum_trans.filter(pl.col('Week (t)')<=24))\n",
    "    .line_encode('T(t):Q', y_scale=alt.Scale(domain=[0, 150]), y_title='Cumulative Trial Sales (# of Transactions)')\n",
    "    .line_prop('Actual Test-Market Cumulative Trials')\n",
    ")"
   ]
  },
  {
   "cell_type": "markdown",
   "metadata": {},
   "source": [
    "**Modelling Trial Sales**\n",
    "- We model the cumulative number of triers by time $t$, $T(t)$, by developing an expression for the probability that a randomly-chosen individual has made a trial purchase by time $t$. \n",
    "- For a market comprising $N$ individuals (i.e., the size of the panel), we have:\n",
    "$$T(t)=N \\cdot P(\\text {trial by } t)$$\n",
    "\n",
    "**Characterizing $P(\\text {trial by } t)$**:\n",
    " \n",
    "Cumulative penetration curves (from controlled test-markets) tend to:\n",
    "- increase at a decreasing rate\n",
    "- towards a penetration limit < 100%\n",
    "\n",
    "A mathematical expression that captures this is:\n",
    "$$P(\\text {trial by } t)=p_{0}\\left(1-e^{-\\theta_{T} t}\\right)$$\n",
    "\n",
    "**Formal Derivation: Individual-Level Model**:\n",
    "\n",
    "- Let $T$ denote the random variable of interest, and $t$ denote a particular realization.\n",
    "- Assume time-to-trial is distributed exponentially.\n",
    "- The probability that an individual has tried by time $t$ is given by:\n",
    "$$F(t) = P(T ≤ t) = 1 − e^{−λ_{T} t}$$\n",
    "- $λ_{T}$ represents the individual’s trial rate.\n",
    "\n",
    "**Formal Derivation: Market-Level Model**:\n",
    "\n",
    "Assume two segments of consumers:\n",
    "|Segment | Description | Size | $$λ_{T}$$ |\n",
    "|:-----: |:----------: |:----:| :-----: |\n",
    "| 1 | ever triers | $$p_{0}$$ | $$\\theta_{T}$$ |\n",
    "| 2 | never triers | $$1 - p_{0}$$ | 0 |\n",
    "\n",
    "$$\n",
    "\\begin{aligned}\n",
    "P(\\text{trail by } t) &= P\\left(T ≤ t\\mid\\text{ever trier}\\right) × P\\left(\\text{ever trier}\\right) + P\\left(T ≤ t \\mid \\text{never trier}\\right) × P\\left(\\text{never trier}\\right) \\\\\n",
    "        &= p_{0}F\\left(t \\mid λ_{T} = θ_{T} \\right) + \\left(1 − p_{0}\\right)F\\left(t \\mid λ_{T} = 0\\right) \\\\\n",
    "        &= p_{0}\\left(1-e^{-\\theta_{T} t}\\right)\n",
    "\\end{aligned}\n",
    "$$\n",
    "\n",
    "-> the “exponential w/ never triers” model"
   ]
  },
  {
   "cell_type": "markdown",
   "metadata": {},
   "source": [
    "##### Trial Model Parameter Estimate"
   ]
  },
  {
   "cell_type": "code",
   "execution_count": 26,
   "metadata": {},
   "outputs": [],
   "source": [
    "def trial_model(trails: np.ndarray, weeks: np.ndarray, n: int, guess=[0.05, 0.05]):\n",
    "    \n",
    "    def least_square(x):\n",
    "        p_0, theta_T = x[0], x[1]\n",
    "        pred_cum_triers = p_0 * (1 - np.exp(-theta_T * weeks)) * n\n",
    "        return np.sum((pred_cum_triers - trails)**2)\n",
    "    \n",
    "    return minimize(least_square, guess, bounds=[(0, np.inf), (0, np.inf)])"
   ]
  },
  {
   "cell_type": "code",
   "execution_count": 27,
   "metadata": {},
   "outputs": [
    {
     "data": {
      "text/markdown": [
       "$P_0$ = 0.0862\n",
       "\n",
       "$\\theta_{T}$ = 0.0643\n",
       "\n",
       "Sum of Square Errors = 286.6578"
      ]
     },
     "metadata": {},
     "output_type": "display_data"
    }
   ],
   "source": [
    "train_trial = (\n",
    "    modified_cum_trans\n",
    "    .filter(pl.col('Week (t)')<=24)\n",
    "    .select('T(t)', 'Week (t)')\n",
    "    .to_numpy().transpose()\n",
    ")\n",
    "\n",
    "trails, weeks = train_trial[0], train_trial[1]\n",
    "\n",
    "result = trial_model(trails, weeks, n=num_panellists_m2)\n",
    "p_0, theta_T, sse = result.x[0], result.x[1], result.fun\n",
    "\n",
    "# Trial Purchase Model Parameters\n",
    "display_markdown(f'''$P_{0}$ = {p_0:0.4f}\n",
    "\n",
    "$\\\\theta_{{T}}$ = {theta_T:0.4f}\n",
    "\n",
    "Sum of Square Errors = {sse:0.4f}''', raw=True)"
   ]
  },
  {
   "cell_type": "markdown",
   "metadata": {},
   "source": [
    "##### Forecasting Trial Transactions"
   ]
  },
  {
   "cell_type": "code",
   "execution_count": 28,
   "metadata": {},
   "outputs": [],
   "source": [
    "endwk = 52"
   ]
  },
  {
   "cell_type": "markdown",
   "metadata": {},
   "source": [
    "Our goal is to generate a (cumulative) sales forecast for the new product up to the end of the year (week 52). We start by generating a forecast of $T(t)$, the cumulative number of trial transactions by $t$, for $t=1, \\ldots, 52$.\n",
    "\n",
    "Given $\\hat{p}_{0}$ and $\\hat{\\theta}_{T}$, we evaluate expressions (1) and (2) by specifying the vector of time points $t$ (up to 52 weeks). "
   ]
  },
  {
   "cell_type": "code",
   "execution_count": 29,
   "metadata": {},
   "outputs": [
    {
     "name": "stdout",
     "output_type": "stream",
     "text": [
      "[  8.04517066  15.58943159  22.66397051  29.29803333  35.51904504\n",
      "  41.35272311  46.82318375  51.95304168  56.76350356  61.27445567\n",
      "  65.50454614  69.47126202  73.19100159  76.67914213  79.95010349\n",
      "  83.01740772  85.89373495  88.59097582  91.12028064  93.49210547\n",
      "  95.71625535  97.80192485  99.75773605 101.59177422 103.3116212\n",
      " 104.92438678 106.4367381  107.85492714 109.18481667 110.4319044\n",
      " 111.60134575 112.69797515 113.72632603 114.69064956 115.59493222\n",
      " 116.44291228 117.23809527 117.98376845 118.6830144  119.33872379\n",
      " 119.95360729 120.53020681 121.070906   121.57794009 122.05340514\n",
      " 122.49926671 122.91736797 123.30943734 123.67709562 124.0218627\n",
      " 124.34516384 124.64833555]\n"
     ]
    }
   ],
   "source": [
    "t = np.arange(1, endwk+1, 1)\n",
    "cum_trial = num_panellists_m2 * p_0 * (1 - np.exp(-theta_T * t))\n",
    "print(cum_trial)"
   ]
  },
  {
   "cell_type": "code",
   "execution_count": 30,
   "metadata": {},
   "outputs": [
    {
     "data": {
      "application/vnd.vegalite.v5+json": {
       "$schema": "https://vega.github.io/schema/vega-lite/v5.20.1.json",
       "config": {
        "axisX": {
         "grid": false
        },
        "axisY": {
         "grid": false
        },
        "view": {
         "continuousHeight": 300,
         "continuousWidth": 300,
         "stroke": null
        }
       },
       "datasets": {
        "data-021d16754906cdef9b0260c8491a0c30": [
         {
          "T(t)": 8.045170662398805,
          "Week (t)": 1
         },
         {
          "T(t)": 15.589431591665965,
          "Week (t)": 2
         },
         {
          "T(t)": 22.663970511626736,
          "Week (t)": 3
         },
         {
          "T(t)": 29.29803333093877,
          "Week (t)": 4
         },
         {
          "T(t)": 35.51904504470602,
          "Week (t)": 5
         },
         {
          "T(t)": 41.35272310849661,
          "Week (t)": 6
         },
         {
          "T(t)": 46.82318375344901,
          "Week (t)": 7
         },
         {
          "T(t)": 51.95304168196961,
          "Week (t)": 8
         },
         {
          "T(t)": 56.7635035561606,
          "Week (t)": 9
         },
         {
          "T(t)": 61.27445566545588,
          "Week (t)": 10
         },
         {
          "T(t)": 65.50454613588032,
          "Week (t)": 11
         },
         {
          "T(t)": 69.47126202078276,
          "Week (t)": 12
         },
         {
          "T(t)": 73.19100159173303,
          "Week (t)": 13
         },
         {
          "T(t)": 76.6791421284313,
          "Week (t)": 14
         },
         {
          "T(t)": 79.95010348787116,
          "Week (t)": 15
         },
         {
          "T(t)": 83.01740771554891,
          "Week (t)": 16
         },
         {
          "T(t)": 85.89373494514993,
          "Week (t)": 17
         },
         {
          "T(t)": 88.59097581779987,
          "Week (t)": 18
         },
         {
          "T(t)": 91.12028063757957,
          "Week (t)": 19
         },
         {
          "T(t)": 93.49210546651133,
          "Week (t)": 20
         },
         {
          "T(t)": 95.71625534957181,
          "Week (t)": 21
         },
         {
          "T(t)": 97.80192484842169,
          "Week (t)": 22
         },
         {
          "T(t)": 99.75773605141806,
          "Week (t)": 23
         },
         {
          "T(t)": 101.5917742170409,
          "Week (t)": 24
         },
         {
          "T(t)": 103.31162119808276,
          "Week (t)": 25
         },
         {
          "T(t)": 104.92438678477617,
          "Week (t)": 26
         },
         {
          "T(t)": 106.43673809642999,
          "Week (t)": 27
         },
         {
          "T(t)": 107.85492714307901,
          "Week (t)": 28
         },
         {
          "T(t)": 109.18481667108543,
          "Week (t)": 29
         },
         {
          "T(t)": 110.43190439953753,
          "Week (t)": 30
         },
         {
          "T(t)": 111.60134574763747,
          "Week (t)": 31
         },
         {
          "T(t)": 112.69797514703285,
          "Week (t)": 32
         },
         {
          "T(t)": 113.72632602719648,
          "Week (t)": 33
         },
         {
          "T(t)": 114.69064955647295,
          "Week (t)": 34
         },
         {
          "T(t)": 115.59493221626728,
          "Week (t)": 35
         },
         {
          "T(t)": 116.44291228102657,
          "Week (t)": 36
         },
         {
          "T(t)": 117.23809527214203,
          "Week (t)": 37
         },
         {
          "T(t)": 117.98376844965813,
          "Week (t)": 38
         },
         {
          "T(t)": 118.68301440169613,
          "Week (t)": 39
         },
         {
          "T(t)": 119.33872378777093,
          "Week (t)": 40
         },
         {
          "T(t)": 119.95360728868138,
          "Week (t)": 41
         },
         {
          "T(t)": 120.53020681237459,
          "Week (t)": 42
         },
         {
          "T(t)": 121.07090600210884,
          "Week (t)": 43
         },
         {
          "T(t)": 121.57794009035554,
          "Week (t)": 44
         },
         {
          "T(t)": 122.05340513917596,
          "Week (t)": 45
         },
         {
          "T(t)": 122.49926670527213,
          "Week (t)": 46
         },
         {
          "T(t)": 122.9173679655328,
          "Week (t)": 47
         },
         {
          "T(t)": 123.30943733666551,
          "Week (t)": 48
         },
         {
          "T(t)": 123.67709562041371,
          "Week (t)": 49
         },
         {
          "T(t)": 124.02186270389728,
          "Week (t)": 50
         },
         {
          "T(t)": 124.34516384277542,
          "Week (t)": 51
         },
         {
          "T(t)": 124.64833555320605,
          "Week (t)": 52
         }
        ],
        "data-14af2c719777932de7be45f5a594bb10": [
         {
          "AR(t)": 0,
          "FR(t)": 0,
          "S(t)": 8,
          "T(t)": 8,
          "Week (t)": 1
         },
         {
          "AR(t)": 0,
          "FR(t)": 1,
          "S(t)": 15,
          "T(t)": 14,
          "Week (t)": 2
         },
         {
          "AR(t)": 0,
          "FR(t)": 2,
          "S(t)": 18,
          "T(t)": 16,
          "Week (t)": 3
         },
         {
          "AR(t)": 0,
          "FR(t)": 3,
          "S(t)": 35,
          "T(t)": 32,
          "Week (t)": 4
         },
         {
          "AR(t)": 0,
          "FR(t)": 7,
          "S(t)": 47,
          "T(t)": 40,
          "Week (t)": 5
         },
         {
          "AR(t)": 2,
          "FR(t)": 9,
          "S(t)": 58,
          "T(t)": 47,
          "Week (t)": 6
         },
         {
          "AR(t)": 3,
          "FR(t)": 12,
          "S(t)": 65,
          "T(t)": 50,
          "Week (t)": 7
         },
         {
          "AR(t)": 4,
          "FR(t)": 13,
          "S(t)": 69,
          "T(t)": 52,
          "Week (t)": 8
         },
         {
          "AR(t)": 7,
          "FR(t)": 17,
          "S(t)": 81,
          "T(t)": 57,
          "Week (t)": 9
         },
         {
          "AR(t)": 9,
          "FR(t)": 18,
          "S(t)": 87,
          "T(t)": 60,
          "Week (t)": 10
         },
         {
          "AR(t)": 13,
          "FR(t)": 22,
          "S(t)": 100,
          "T(t)": 65,
          "Week (t)": 11
         },
         {
          "AR(t)": 15,
          "FR(t)": 23,
          "S(t)": 105,
          "T(t)": 67,
          "Week (t)": 12
         },
         {
          "AR(t)": 16,
          "FR(t)": 23,
          "S(t)": 107,
          "T(t)": 68,
          "Week (t)": 13
         },
         {
          "AR(t)": 18,
          "FR(t)": 23,
          "S(t)": 113,
          "T(t)": 72,
          "Week (t)": 14
         },
         {
          "AR(t)": 19,
          "FR(t)": 23,
          "S(t)": 117,
          "T(t)": 75,
          "Week (t)": 15
         },
         {
          "AR(t)": 21,
          "FR(t)": 24,
          "S(t)": 126,
          "T(t)": 81,
          "Week (t)": 16
         },
         {
          "AR(t)": 26,
          "FR(t)": 24,
          "S(t)": 140,
          "T(t)": 90,
          "Week (t)": 17
         },
         {
          "AR(t)": 30,
          "FR(t)": 28,
          "S(t)": 152,
          "T(t)": 94,
          "Week (t)": 18
         },
         {
          "AR(t)": 32,
          "FR(t)": 32,
          "S(t)": 160,
          "T(t)": 96,
          "Week (t)": 19
         },
         {
          "AR(t)": 35,
          "FR(t)": 33,
          "S(t)": 164,
          "T(t)": 96,
          "Week (t)": 20
         },
         {
          "AR(t)": 38,
          "FR(t)": 33,
          "S(t)": 167,
          "T(t)": 96,
          "Week (t)": 21
         },
         {
          "AR(t)": 39,
          "FR(t)": 34,
          "S(t)": 170,
          "T(t)": 97,
          "Week (t)": 22
         },
         {
          "AR(t)": 40,
          "FR(t)": 35,
          "S(t)": 172,
          "T(t)": 97,
          "Week (t)": 23
         },
         {
          "AR(t)": 43,
          "FR(t)": 35,
          "S(t)": 179,
          "T(t)": 101,
          "Week (t)": 24
         },
         {
          "AR(t)": 43,
          "FR(t)": 35,
          "S(t)": 179,
          "T(t)": 101,
          "Week (t)": 25
         },
         {
          "AR(t)": 50,
          "FR(t)": 35,
          "S(t)": 186,
          "T(t)": 101,
          "Week (t)": 26
         },
         {
          "AR(t)": 53,
          "FR(t)": 37,
          "S(t)": 195,
          "T(t)": 105,
          "Week (t)": 27
         },
         {
          "AR(t)": 57,
          "FR(t)": 37,
          "S(t)": 200,
          "T(t)": 106,
          "Week (t)": 28
         },
         {
          "AR(t)": 60,
          "FR(t)": 37,
          "S(t)": 203,
          "T(t)": 106,
          "Week (t)": 29
         },
         {
          "AR(t)": 64,
          "FR(t)": 41,
          "S(t)": 223,
          "T(t)": 118,
          "Week (t)": 30
         },
         {
          "AR(t)": 65,
          "FR(t)": 41,
          "S(t)": 225,
          "T(t)": 119,
          "Week (t)": 31
         },
         {
          "AR(t)": 65,
          "FR(t)": 42,
          "S(t)": 226,
          "T(t)": 119,
          "Week (t)": 32
         },
         {
          "AR(t)": 67,
          "FR(t)": 43,
          "S(t)": 230,
          "T(t)": 120,
          "Week (t)": 33
         },
         {
          "AR(t)": 69,
          "FR(t)": 44,
          "S(t)": 236,
          "T(t)": 123,
          "Week (t)": 34
         },
         {
          "AR(t)": 72,
          "FR(t)": 45,
          "S(t)": 242,
          "T(t)": 125,
          "Week (t)": 35
         },
         {
          "AR(t)": 76,
          "FR(t)": 45,
          "S(t)": 246,
          "T(t)": 125,
          "Week (t)": 36
         },
         {
          "AR(t)": 80,
          "FR(t)": 45,
          "S(t)": 251,
          "T(t)": 126,
          "Week (t)": 37
         },
         {
          "AR(t)": 84,
          "FR(t)": 45,
          "S(t)": 256,
          "T(t)": 127,
          "Week (t)": 38
         },
         {
          "AR(t)": 84,
          "FR(t)": 45,
          "S(t)": 256,
          "T(t)": 127,
          "Week (t)": 39
         },
         {
          "AR(t)": 87,
          "FR(t)": 45,
          "S(t)": 259,
          "T(t)": 127,
          "Week (t)": 40
         },
         {
          "AR(t)": 87,
          "FR(t)": 45,
          "S(t)": 259,
          "T(t)": 127,
          "Week (t)": 41
         },
         {
          "AR(t)": 89,
          "FR(t)": 45,
          "S(t)": 262,
          "T(t)": 128,
          "Week (t)": 42
         },
         {
          "AR(t)": 89,
          "FR(t)": 45,
          "S(t)": 263,
          "T(t)": 129,
          "Week (t)": 43
         },
         {
          "AR(t)": 89,
          "FR(t)": 46,
          "S(t)": 264,
          "T(t)": 129,
          "Week (t)": 44
         },
         {
          "AR(t)": 93,
          "FR(t)": 46,
          "S(t)": 268,
          "T(t)": 129,
          "Week (t)": 45
         },
         {
          "AR(t)": 94,
          "FR(t)": 46,
          "S(t)": 270,
          "T(t)": 130,
          "Week (t)": 46
         },
         {
          "AR(t)": 98,
          "FR(t)": 47,
          "S(t)": 277,
          "T(t)": 132,
          "Week (t)": 47
         },
         {
          "AR(t)": 101,
          "FR(t)": 48,
          "S(t)": 282,
          "T(t)": 133,
          "Week (t)": 48
         },
         {
          "AR(t)": 105,
          "FR(t)": 48,
          "S(t)": 290,
          "T(t)": 137,
          "Week (t)": 49
         },
         {
          "AR(t)": 111,
          "FR(t)": 50,
          "S(t)": 298,
          "T(t)": 137,
          "Week (t)": 50
         },
         {
          "AR(t)": 112,
          "FR(t)": 51,
          "S(t)": 300,
          "T(t)": 137,
          "Week (t)": 51
         },
         {
          "AR(t)": 115,
          "FR(t)": 52,
          "S(t)": 306,
          "T(t)": 139,
          "Week (t)": 52
         }
        ]
       },
       "height": 250,
       "layer": [
        {
         "data": {
          "name": "data-14af2c719777932de7be45f5a594bb10"
         },
         "encoding": {
          "color": {},
          "x": {
           "axis": {
            "labelExpr": "datum.value",
            "title": "Week",
            "values": [
             0,
             4,
             8,
             12,
             16,
             20,
             24,
             28,
             32,
             36,
             40,
             44,
             48,
             52
            ]
           },
           "field": "Week (t)",
           "scale": {
            "domain": [
             0,
             52
            ]
           },
           "type": "quantitative"
          },
          "y": {
           "field": "T(t)",
           "scale": {},
           "title": "Cumulative Trial Sales (# of Transactions)",
           "type": "quantitative"
          }
         },
         "mark": {
          "strokeDash": [
           1,
           0
          ],
          "strokeWidth": 2,
          "type": "line"
         }
        },
        {
         "data": {
          "name": "data-021d16754906cdef9b0260c8491a0c30"
         },
         "encoding": {
          "color": {},
          "x": {
           "axis": {
            "labelExpr": "datum.value",
            "title": "Week",
            "values": [
             0,
             4,
             8,
             12,
             16,
             20,
             24,
             28,
             32,
             36,
             40,
             44,
             48,
             52
            ]
           },
           "field": "Week (t)",
           "scale": {
            "domain": [
             0,
             52
            ]
           },
           "type": "quantitative"
          },
          "y": {
           "field": "T(t)",
           "scale": {},
           "title": "Cumulative Trial Sales (# of Transactions)",
           "type": "quantitative"
          }
         },
         "mark": {
          "strokeDash": [
           5,
           3
          ],
          "strokeWidth": 2,
          "type": "line"
         }
        }
       ],
       "title": "Cumulative Trial Forecast",
       "width": 650
      },
      "text/plain": [
       "<VegaLite 5 object>\n",
       "\n",
       "If you see this message, it means the renderer has not been properly enabled\n",
       "for the frontend that you are using. For more information, see\n",
       "https://altair-viz.github.io/user_guide/display_frontends.html#troubleshooting\n"
      ]
     },
     "execution_count": 30,
     "metadata": {},
     "output_type": "execute_result"
    }
   ],
   "source": [
    "forecast_df = pl.DataFrame({\n",
    "    'Week (t)': t,\n",
    "    'T(t)': cum_trial\n",
    "})\n",
    "\n",
    "actual_trial_curve = (\n",
    "    ChartTemp(modified_cum_trans)\n",
    "    .line_encode('T(t):Q', y_title='Cumulative Trial Sales (# of Transactions)')\n",
    ")\n",
    "\n",
    "froecast_trial_curve = (\n",
    "    ChartTemp(forecast_df)\n",
    "    .line_encode('T(t):Q', y_title='Cumulative Trial Sales (# of Transactions)', dash=[5,3])\n",
    ")\n",
    "\n",
    "trial_chart = actual_trial_curve + froecast_trial_curve\n",
    "\n",
    "layered_line_prop(trial_chart, 'Cumulative Trial Forecast')"
   ]
  },
  {
   "cell_type": "code",
   "execution_count": 31,
   "metadata": {},
   "outputs": [
    {
     "data": {
      "text/markdown": [
       "Trial Forecast Index = **90**"
      ]
     },
     "metadata": {},
     "output_type": "display_data"
    }
   ],
   "source": [
    "trial_forecast_index = forecast_df.select('T(t)').item(-1,0) / modified_cum_trans.select('T(t)').item(-1,0) * 100\n",
    "\n",
    "display_markdown(f'''Trial Forecast Index = **{trial_forecast_index:0.0f}**''', raw=True)"
   ]
  },
  {
   "cell_type": "markdown",
   "metadata": {},
   "source": [
    "#### Forecasting First-Repeat Transactions"
   ]
  },
  {
   "cell_type": "code",
   "execution_count": 32,
   "metadata": {},
   "outputs": [
    {
     "data": {
      "application/vnd.vegalite.v5+json": {
       "$schema": "https://vega.github.io/schema/vega-lite/v5.20.1.json",
       "config": {
        "axisX": {
         "grid": false
        },
        "axisY": {
         "grid": false
        },
        "view": {
         "continuousHeight": 300,
         "continuousWidth": 300,
         "stroke": null
        }
       },
       "data": {
        "name": "data-b5695179706b3d78752f038cacb9ffe0"
       },
       "datasets": {
        "data-b5695179706b3d78752f038cacb9ffe0": [
         {
          "AR(t)": 0,
          "FR(t)": 0,
          "S(t)": 8,
          "T(t)": 8,
          "Week (t)": 1
         },
         {
          "AR(t)": 0,
          "FR(t)": 1,
          "S(t)": 15,
          "T(t)": 14,
          "Week (t)": 2
         },
         {
          "AR(t)": 0,
          "FR(t)": 2,
          "S(t)": 18,
          "T(t)": 16,
          "Week (t)": 3
         },
         {
          "AR(t)": 0,
          "FR(t)": 3,
          "S(t)": 35,
          "T(t)": 32,
          "Week (t)": 4
         },
         {
          "AR(t)": 0,
          "FR(t)": 7,
          "S(t)": 47,
          "T(t)": 40,
          "Week (t)": 5
         },
         {
          "AR(t)": 2,
          "FR(t)": 9,
          "S(t)": 58,
          "T(t)": 47,
          "Week (t)": 6
         },
         {
          "AR(t)": 3,
          "FR(t)": 12,
          "S(t)": 65,
          "T(t)": 50,
          "Week (t)": 7
         },
         {
          "AR(t)": 4,
          "FR(t)": 13,
          "S(t)": 69,
          "T(t)": 52,
          "Week (t)": 8
         },
         {
          "AR(t)": 7,
          "FR(t)": 17,
          "S(t)": 81,
          "T(t)": 57,
          "Week (t)": 9
         },
         {
          "AR(t)": 9,
          "FR(t)": 18,
          "S(t)": 87,
          "T(t)": 60,
          "Week (t)": 10
         },
         {
          "AR(t)": 13,
          "FR(t)": 22,
          "S(t)": 100,
          "T(t)": 65,
          "Week (t)": 11
         },
         {
          "AR(t)": 15,
          "FR(t)": 23,
          "S(t)": 105,
          "T(t)": 67,
          "Week (t)": 12
         },
         {
          "AR(t)": 16,
          "FR(t)": 23,
          "S(t)": 107,
          "T(t)": 68,
          "Week (t)": 13
         },
         {
          "AR(t)": 18,
          "FR(t)": 23,
          "S(t)": 113,
          "T(t)": 72,
          "Week (t)": 14
         },
         {
          "AR(t)": 19,
          "FR(t)": 23,
          "S(t)": 117,
          "T(t)": 75,
          "Week (t)": 15
         },
         {
          "AR(t)": 21,
          "FR(t)": 24,
          "S(t)": 126,
          "T(t)": 81,
          "Week (t)": 16
         },
         {
          "AR(t)": 26,
          "FR(t)": 24,
          "S(t)": 140,
          "T(t)": 90,
          "Week (t)": 17
         },
         {
          "AR(t)": 30,
          "FR(t)": 28,
          "S(t)": 152,
          "T(t)": 94,
          "Week (t)": 18
         },
         {
          "AR(t)": 32,
          "FR(t)": 32,
          "S(t)": 160,
          "T(t)": 96,
          "Week (t)": 19
         },
         {
          "AR(t)": 35,
          "FR(t)": 33,
          "S(t)": 164,
          "T(t)": 96,
          "Week (t)": 20
         },
         {
          "AR(t)": 38,
          "FR(t)": 33,
          "S(t)": 167,
          "T(t)": 96,
          "Week (t)": 21
         },
         {
          "AR(t)": 39,
          "FR(t)": 34,
          "S(t)": 170,
          "T(t)": 97,
          "Week (t)": 22
         },
         {
          "AR(t)": 40,
          "FR(t)": 35,
          "S(t)": 172,
          "T(t)": 97,
          "Week (t)": 23
         },
         {
          "AR(t)": 43,
          "FR(t)": 35,
          "S(t)": 179,
          "T(t)": 101,
          "Week (t)": 24
         }
        ]
       },
       "encoding": {
        "color": {},
        "x": {
         "axis": {
          "labelExpr": "datum.value",
          "title": "Week",
          "values": [
           0,
           4,
           8,
           12,
           16,
           20,
           24,
           28,
           32,
           36,
           40,
           44,
           48,
           52
          ]
         },
         "field": "Week (t)",
         "scale": {
          "domain": [
           0,
           52
          ]
         },
         "type": "quantitative"
        },
        "y": {
         "field": "FR(t)",
         "scale": {
          "domain": [
           0,
           100
          ]
         },
         "title": "Cumulative FR Sales (# of Transactions)",
         "type": "quantitative"
        }
       },
       "height": 250,
       "mark": {
        "strokeDash": [
         1,
         0
        ],
        "strokeWidth": 2,
        "type": "line"
       },
       "title": "Actual Test-Market Cumulative First Repeat Sales",
       "width": 650
      },
      "text/plain": [
       "<VegaLite 5 object>\n",
       "\n",
       "If you see this message, it means the renderer has not been properly enabled\n",
       "for the frontend that you are using. For more information, see\n",
       "https://altair-viz.github.io/user_guide/display_frontends.html#troubleshooting\n"
      ]
     },
     "execution_count": 32,
     "metadata": {},
     "output_type": "execute_result"
    }
   ],
   "source": [
    "(\n",
    "    ChartTemp(modified_cum_trans.filter(pl.col('Week (t)')<=24))\n",
    "    .line_encode('FR(t):Q', y_scale=alt.Scale(domain=[0, 100]), y_title='Cumulative FR Sales (# of Transactions)')\n",
    "    .line_prop('Actual Test-Market Cumulative First Repeat Sales')\n",
    ")"
   ]
  },
  {
   "cell_type": "markdown",
   "metadata": {},
   "source": [
    "**Modelling First Repeat**:\n",
    "\n",
    "How can an individual have made a first repeat purchase of the new product by the end of week 4? \n",
    "- she could have made a trial purchase in week 1 and made a second purchase (i.e., her first repeat purchase) somewhere in the intervening three weeks,\n",
    "- she could have made a trial purchase in week 2 and a second purchase sometime in the following two weeks, or\n",
    "- she could have made a trial purchase in week 3 and her first repeat purchase sometime in the following week.\n",
    "\n",
    "**Modelling First Repeat Sales**:\n",
    "\n",
    "$$F R(t)=\\sum_{t_{0}=1}^{t-1} P\\left(\\text { first repeat by } t \\mid \\text { trial at } t_{0}\\right)\\times\\left[T\\left(t_{0}\\right)-T\\left(t_{0}-1\\right)\\right]$$\n",
    "\n",
    "where $T\\left(t_{0}\\right)-T\\left(t_{0}-1\\right)$ is the number of incremental tirers in week $t_{0}$."
   ]
  },
  {
   "cell_type": "code",
   "execution_count": 95,
   "metadata": {},
   "outputs": [],
   "source": [
    "kiwi_trial_fr = (\n",
    "    shifted_lf\n",
    "    .filter(pl.col('DoR') < 2)\n",
    "    .sort('ID')\n",
    "    .with_columns(\n",
    "        pl.when(pl.col('DoR') == 0).then(pl.col('shWeek')).otherwise(None).alias('Trial Week'),\n",
    "        pl.col('DoR').shift(-1).alias('Next_DoR'),\n",
    "        pl.col('shWeek').shift(-1).alias('Next_Week')\n",
    "    ).with_columns(\n",
    "        pl.when(pl.col('Next_DoR') == 1)\n",
    "        .then(pl.col('Next_Week') - pl.col('Trial Week'))\n",
    "        .otherwise(None)\n",
    "        .alias('FR Delta')\n",
    "    ).select('ID', 'Trial Week', 'FR Delta')\n",
    "    .group_by(['Trial Week', 'FR Delta'])\n",
    "    .agg(pl.len().alias('Count'))\n",
    "    .filter(~pl.all_horizontal(pl.col('*').exclude('Count').is_null()))       \n",
    ")\n",
    "\n",
    "trial_week_total = (\n",
    "    kiwi_trial_fr\n",
    "    .group_by('Trial Week')\n",
    "    .agg(pl.col('Count').sum().alias('Total Triers'))\n",
    "    .sort('Trial Week')\n",
    "    .fill_null(0)    \n",
    ")\n",
    "\n",
    "trial_week_range, fr_delta_range = np.meshgrid(np.arange(1, 25, dtype='int16'), np.arange(0, 25, dtype='int16'))\n",
    "trial_fr_range = pl.LazyFrame({'Trial Week': trial_week_range.reshape(-1), 'FR Delta': fr_delta_range.reshape(-1)})\n",
    "\n",
    "# (Shifted) Cum. First Repeat (as % of Trial) by Week of Trial\n",
    "cum_fr_by_trial = (\n",
    "    trial_fr_range\n",
    "    .join(trial_week_total, on='Trial Week', how='left')\n",
    "    .join(kiwi_trial_fr, on=['Trial Week', 'FR Delta'], how='left')\n",
    "    .fill_null(0)\n",
    "    .with_columns(pl.col('Count').cum_sum().over('Trial Week').alias('Cum FR by Week')) \n",
    "    .with_columns(\n",
    "        pl.when(pl.col('Trial Week') > (24 - pl.col('FR Delta')))\n",
    "        .then(None) \n",
    "        .otherwise(\n",
    "            pl.when(pl.col('Total Triers') > 0)\n",
    "            .then(pl.col('Cum FR by Week') / pl.col('Total Triers')) \n",
    "            .otherwise(0)\n",
    "        ).alias('Cum FR by Trial') \n",
    "    )\n",
    "    .with_columns((pl.col('Cum FR by Trial') * pl.col('Total Triers')).alias('Weights'))\n",
    ")"
   ]
  },
  {
   "cell_type": "code",
   "execution_count": 96,
   "metadata": {},
   "outputs": [
    {
     "data": {
      "application/vnd.vegalite.v5+json": {
       "$schema": "https://vega.github.io/schema/vega-lite/v5.20.1.json",
       "config": {
        "axisX": {
         "grid": false
        },
        "axisY": {
         "grid": false
        },
        "view": {
         "continuousHeight": 300,
         "continuousWidth": 300,
         "stroke": null
        }
       },
       "data": {
        "name": "data-ffe51e85ff76d25c1a97c588e1dbe614"
       },
       "datasets": {
        "data-ffe51e85ff76d25c1a97c588e1dbe614": [
         {
          "Count": 0,
          "Cum FR by Trial": 0,
          "Cum FR by Week": 0,
          "FR Delta": 0,
          "Total Triers": 8,
          "Trial Week": 1,
          "Weights": 0
         },
         {
          "Count": 0,
          "Cum FR by Trial": 0,
          "Cum FR by Week": 0,
          "FR Delta": 0,
          "Total Triers": 6,
          "Trial Week": 2,
          "Weights": 0
         },
         {
          "Count": 0,
          "Cum FR by Trial": 0,
          "Cum FR by Week": 0,
          "FR Delta": 0,
          "Total Triers": 2,
          "Trial Week": 3,
          "Weights": 0
         },
         {
          "Count": 0,
          "Cum FR by Trial": 0,
          "Cum FR by Week": 0,
          "FR Delta": 0,
          "Total Triers": 16,
          "Trial Week": 4,
          "Weights": 0
         },
         {
          "Count": 0,
          "Cum FR by Trial": 0,
          "Cum FR by Week": 0,
          "FR Delta": 0,
          "Total Triers": 8,
          "Trial Week": 5,
          "Weights": 0
         },
         {
          "Count": 0,
          "Cum FR by Trial": 0,
          "Cum FR by Week": 0,
          "FR Delta": 0,
          "Total Triers": 7,
          "Trial Week": 6,
          "Weights": 0
         },
         {
          "Count": 0,
          "Cum FR by Trial": 0,
          "Cum FR by Week": 0,
          "FR Delta": 0,
          "Total Triers": 3,
          "Trial Week": 7,
          "Weights": 0
         },
         {
          "Count": 0,
          "Cum FR by Trial": 0,
          "Cum FR by Week": 0,
          "FR Delta": 0,
          "Total Triers": 2,
          "Trial Week": 8,
          "Weights": 0
         },
         {
          "Count": 0,
          "Cum FR by Trial": 0,
          "Cum FR by Week": 0,
          "FR Delta": 0,
          "Total Triers": 5,
          "Trial Week": 9,
          "Weights": 0
         },
         {
          "Count": 0,
          "Cum FR by Trial": 0,
          "Cum FR by Week": 0,
          "FR Delta": 0,
          "Total Triers": 3,
          "Trial Week": 10,
          "Weights": 0
         },
         {
          "Count": 1,
          "Cum FR by Trial": 0.125,
          "Cum FR by Week": 1,
          "FR Delta": 1,
          "Total Triers": 8,
          "Trial Week": 1,
          "Weights": 1
         },
         {
          "Count": 0,
          "Cum FR by Trial": 0,
          "Cum FR by Week": 0,
          "FR Delta": 1,
          "Total Triers": 6,
          "Trial Week": 2,
          "Weights": 0
         },
         {
          "Count": 0,
          "Cum FR by Trial": 0,
          "Cum FR by Week": 0,
          "FR Delta": 1,
          "Total Triers": 2,
          "Trial Week": 3,
          "Weights": 0
         },
         {
          "Count": 2,
          "Cum FR by Trial": 0.125,
          "Cum FR by Week": 2,
          "FR Delta": 1,
          "Total Triers": 16,
          "Trial Week": 4,
          "Weights": 2
         },
         {
          "Count": 1,
          "Cum FR by Trial": 0.125,
          "Cum FR by Week": 1,
          "FR Delta": 1,
          "Total Triers": 8,
          "Trial Week": 5,
          "Weights": 1
         },
         {
          "Count": 0,
          "Cum FR by Trial": 0,
          "Cum FR by Week": 0,
          "FR Delta": 1,
          "Total Triers": 7,
          "Trial Week": 6,
          "Weights": 0
         },
         {
          "Count": 0,
          "Cum FR by Trial": 0,
          "Cum FR by Week": 0,
          "FR Delta": 1,
          "Total Triers": 3,
          "Trial Week": 7,
          "Weights": 0
         },
         {
          "Count": 1,
          "Cum FR by Trial": 0.5,
          "Cum FR by Week": 1,
          "FR Delta": 1,
          "Total Triers": 2,
          "Trial Week": 8,
          "Weights": 1
         },
         {
          "Count": 0,
          "Cum FR by Trial": 0,
          "Cum FR by Week": 0,
          "FR Delta": 1,
          "Total Triers": 5,
          "Trial Week": 9,
          "Weights": 0
         },
         {
          "Count": 1,
          "Cum FR by Trial": 0.3333333333333333,
          "Cum FR by Week": 1,
          "FR Delta": 1,
          "Total Triers": 3,
          "Trial Week": 10,
          "Weights": 1
         },
         {
          "Count": 1,
          "Cum FR by Trial": 0.25,
          "Cum FR by Week": 2,
          "FR Delta": 2,
          "Total Triers": 8,
          "Trial Week": 1,
          "Weights": 2
         },
         {
          "Count": 1,
          "Cum FR by Trial": 0.16666666666666666,
          "Cum FR by Week": 1,
          "FR Delta": 2,
          "Total Triers": 6,
          "Trial Week": 2,
          "Weights": 1
         },
         {
          "Count": 1,
          "Cum FR by Trial": 0.5,
          "Cum FR by Week": 1,
          "FR Delta": 2,
          "Total Triers": 2,
          "Trial Week": 3,
          "Weights": 1
         },
         {
          "Count": 1,
          "Cum FR by Trial": 0.1875,
          "Cum FR by Week": 3,
          "FR Delta": 2,
          "Total Triers": 16,
          "Trial Week": 4,
          "Weights": 3
         },
         {
          "Count": 0,
          "Cum FR by Trial": 0.125,
          "Cum FR by Week": 1,
          "FR Delta": 2,
          "Total Triers": 8,
          "Trial Week": 5,
          "Weights": 1
         },
         {
          "Count": 0,
          "Cum FR by Trial": 0,
          "Cum FR by Week": 0,
          "FR Delta": 2,
          "Total Triers": 7,
          "Trial Week": 6,
          "Weights": 0
         },
         {
          "Count": 0,
          "Cum FR by Trial": 0,
          "Cum FR by Week": 0,
          "FR Delta": 2,
          "Total Triers": 3,
          "Trial Week": 7,
          "Weights": 0
         },
         {
          "Count": 0,
          "Cum FR by Trial": 0.5,
          "Cum FR by Week": 1,
          "FR Delta": 2,
          "Total Triers": 2,
          "Trial Week": 8,
          "Weights": 1
         },
         {
          "Count": 1,
          "Cum FR by Trial": 0.2,
          "Cum FR by Week": 1,
          "FR Delta": 2,
          "Total Triers": 5,
          "Trial Week": 9,
          "Weights": 1
         },
         {
          "Count": 0,
          "Cum FR by Trial": 0.3333333333333333,
          "Cum FR by Week": 1,
          "FR Delta": 2,
          "Total Triers": 3,
          "Trial Week": 10,
          "Weights": 1
         },
         {
          "Count": 0,
          "Cum FR by Trial": 0.25,
          "Cum FR by Week": 2,
          "FR Delta": 3,
          "Total Triers": 8,
          "Trial Week": 1,
          "Weights": 2
         },
         {
          "Count": 0,
          "Cum FR by Trial": 0.16666666666666666,
          "Cum FR by Week": 1,
          "FR Delta": 3,
          "Total Triers": 6,
          "Trial Week": 2,
          "Weights": 1
         },
         {
          "Count": 0,
          "Cum FR by Trial": 0.5,
          "Cum FR by Week": 1,
          "FR Delta": 3,
          "Total Triers": 2,
          "Trial Week": 3,
          "Weights": 1
         },
         {
          "Count": 1,
          "Cum FR by Trial": 0.25,
          "Cum FR by Week": 4,
          "FR Delta": 3,
          "Total Triers": 16,
          "Trial Week": 4,
          "Weights": 4
         },
         {
          "Count": 0,
          "Cum FR by Trial": 0.125,
          "Cum FR by Week": 1,
          "FR Delta": 3,
          "Total Triers": 8,
          "Trial Week": 5,
          "Weights": 1
         },
         {
          "Count": 0,
          "Cum FR by Trial": 0,
          "Cum FR by Week": 0,
          "FR Delta": 3,
          "Total Triers": 7,
          "Trial Week": 6,
          "Weights": 0
         },
         {
          "Count": 0,
          "Cum FR by Trial": 0,
          "Cum FR by Week": 0,
          "FR Delta": 3,
          "Total Triers": 3,
          "Trial Week": 7,
          "Weights": 0
         },
         {
          "Count": 0,
          "Cum FR by Trial": 0.5,
          "Cum FR by Week": 1,
          "FR Delta": 3,
          "Total Triers": 2,
          "Trial Week": 8,
          "Weights": 1
         },
         {
          "Count": 0,
          "Cum FR by Trial": 0.2,
          "Cum FR by Week": 1,
          "FR Delta": 3,
          "Total Triers": 5,
          "Trial Week": 9,
          "Weights": 1
         },
         {
          "Count": 0,
          "Cum FR by Trial": 0.3333333333333333,
          "Cum FR by Week": 1,
          "FR Delta": 3,
          "Total Triers": 3,
          "Trial Week": 10,
          "Weights": 1
         },
         {
          "Count": 1,
          "Cum FR by Trial": 0.375,
          "Cum FR by Week": 3,
          "FR Delta": 4,
          "Total Triers": 8,
          "Trial Week": 1,
          "Weights": 3
         },
         {
          "Count": 0,
          "Cum FR by Trial": 0.16666666666666666,
          "Cum FR by Week": 1,
          "FR Delta": 4,
          "Total Triers": 6,
          "Trial Week": 2,
          "Weights": 1
         },
         {
          "Count": 0,
          "Cum FR by Trial": 0.5,
          "Cum FR by Week": 1,
          "FR Delta": 4,
          "Total Triers": 2,
          "Trial Week": 3,
          "Weights": 1
         },
         {
          "Count": 1,
          "Cum FR by Trial": 0.3125,
          "Cum FR by Week": 5,
          "FR Delta": 4,
          "Total Triers": 16,
          "Trial Week": 4,
          "Weights": 5
         },
         {
          "Count": 1,
          "Cum FR by Trial": 0.25,
          "Cum FR by Week": 2,
          "FR Delta": 4,
          "Total Triers": 8,
          "Trial Week": 5,
          "Weights": 2
         },
         {
          "Count": 0,
          "Cum FR by Trial": 0,
          "Cum FR by Week": 0,
          "FR Delta": 4,
          "Total Triers": 7,
          "Trial Week": 6,
          "Weights": 0
         },
         {
          "Count": 0,
          "Cum FR by Trial": 0,
          "Cum FR by Week": 0,
          "FR Delta": 4,
          "Total Triers": 3,
          "Trial Week": 7,
          "Weights": 0
         },
         {
          "Count": 0,
          "Cum FR by Trial": 0.5,
          "Cum FR by Week": 1,
          "FR Delta": 4,
          "Total Triers": 2,
          "Trial Week": 8,
          "Weights": 1
         },
         {
          "Count": 0,
          "Cum FR by Trial": 0.2,
          "Cum FR by Week": 1,
          "FR Delta": 4,
          "Total Triers": 5,
          "Trial Week": 9,
          "Weights": 1
         },
         {
          "Count": 0,
          "Cum FR by Trial": 0.3333333333333333,
          "Cum FR by Week": 1,
          "FR Delta": 4,
          "Total Triers": 3,
          "Trial Week": 10,
          "Weights": 1
         },
         {
          "Count": 0,
          "Cum FR by Trial": 0.375,
          "Cum FR by Week": 3,
          "FR Delta": 5,
          "Total Triers": 8,
          "Trial Week": 1,
          "Weights": 3
         },
         {
          "Count": 1,
          "Cum FR by Trial": 0.3333333333333333,
          "Cum FR by Week": 2,
          "FR Delta": 5,
          "Total Triers": 6,
          "Trial Week": 2,
          "Weights": 2
         },
         {
          "Count": 0,
          "Cum FR by Trial": 0.5,
          "Cum FR by Week": 1,
          "FR Delta": 5,
          "Total Triers": 2,
          "Trial Week": 3,
          "Weights": 1
         },
         {
          "Count": 2,
          "Cum FR by Trial": 0.4375,
          "Cum FR by Week": 7,
          "FR Delta": 5,
          "Total Triers": 16,
          "Trial Week": 4,
          "Weights": 7
         },
         {
          "Count": 0,
          "Cum FR by Trial": 0.25,
          "Cum FR by Week": 2,
          "FR Delta": 5,
          "Total Triers": 8,
          "Trial Week": 5,
          "Weights": 2
         },
         {
          "Count": 0,
          "Cum FR by Trial": 0,
          "Cum FR by Week": 0,
          "FR Delta": 5,
          "Total Triers": 7,
          "Trial Week": 6,
          "Weights": 0
         },
         {
          "Count": 0,
          "Cum FR by Trial": 0,
          "Cum FR by Week": 0,
          "FR Delta": 5,
          "Total Triers": 3,
          "Trial Week": 7,
          "Weights": 0
         },
         {
          "Count": 0,
          "Cum FR by Trial": 0.5,
          "Cum FR by Week": 1,
          "FR Delta": 5,
          "Total Triers": 2,
          "Trial Week": 8,
          "Weights": 1
         },
         {
          "Count": 0,
          "Cum FR by Trial": 0.2,
          "Cum FR by Week": 1,
          "FR Delta": 5,
          "Total Triers": 5,
          "Trial Week": 9,
          "Weights": 1
         },
         {
          "Count": 0,
          "Cum FR by Trial": 0.3333333333333333,
          "Cum FR by Week": 1,
          "FR Delta": 5,
          "Total Triers": 3,
          "Trial Week": 10,
          "Weights": 1
         },
         {
          "Count": 1,
          "Cum FR by Trial": 0.5,
          "Cum FR by Week": 4,
          "FR Delta": 6,
          "Total Triers": 8,
          "Trial Week": 1,
          "Weights": 4
         },
         {
          "Count": 0,
          "Cum FR by Trial": 0.3333333333333333,
          "Cum FR by Week": 2,
          "FR Delta": 6,
          "Total Triers": 6,
          "Trial Week": 2,
          "Weights": 2
         },
         {
          "Count": 0,
          "Cum FR by Trial": 0.5,
          "Cum FR by Week": 1,
          "FR Delta": 6,
          "Total Triers": 2,
          "Trial Week": 3,
          "Weights": 1
         },
         {
          "Count": 1,
          "Cum FR by Trial": 0.5,
          "Cum FR by Week": 8,
          "FR Delta": 6,
          "Total Triers": 16,
          "Trial Week": 4,
          "Weights": 8
         },
         {
          "Count": 0,
          "Cum FR by Trial": 0.25,
          "Cum FR by Week": 2,
          "FR Delta": 6,
          "Total Triers": 8,
          "Trial Week": 5,
          "Weights": 2
         },
         {
          "Count": 0,
          "Cum FR by Trial": 0,
          "Cum FR by Week": 0,
          "FR Delta": 6,
          "Total Triers": 7,
          "Trial Week": 6,
          "Weights": 0
         },
         {
          "Count": 0,
          "Cum FR by Trial": 0,
          "Cum FR by Week": 0,
          "FR Delta": 6,
          "Total Triers": 3,
          "Trial Week": 7,
          "Weights": 0
         },
         {
          "Count": 0,
          "Cum FR by Trial": 0.5,
          "Cum FR by Week": 1,
          "FR Delta": 6,
          "Total Triers": 2,
          "Trial Week": 8,
          "Weights": 1
         },
         {
          "Count": 0,
          "Cum FR by Trial": 0.2,
          "Cum FR by Week": 1,
          "FR Delta": 6,
          "Total Triers": 5,
          "Trial Week": 9,
          "Weights": 1
         },
         {
          "Count": 0,
          "Cum FR by Trial": 0.3333333333333333,
          "Cum FR by Week": 1,
          "FR Delta": 6,
          "Total Triers": 3,
          "Trial Week": 10,
          "Weights": 1
         },
         {
          "Count": 0,
          "Cum FR by Trial": 0.5,
          "Cum FR by Week": 4,
          "FR Delta": 7,
          "Total Triers": 8,
          "Trial Week": 1,
          "Weights": 4
         },
         {
          "Count": 0,
          "Cum FR by Trial": 0.3333333333333333,
          "Cum FR by Week": 2,
          "FR Delta": 7,
          "Total Triers": 6,
          "Trial Week": 2,
          "Weights": 2
         },
         {
          "Count": 0,
          "Cum FR by Trial": 0.5,
          "Cum FR by Week": 1,
          "FR Delta": 7,
          "Total Triers": 2,
          "Trial Week": 3,
          "Weights": 1
         },
         {
          "Count": 1,
          "Cum FR by Trial": 0.5625,
          "Cum FR by Week": 9,
          "FR Delta": 7,
          "Total Triers": 16,
          "Trial Week": 4,
          "Weights": 9
         },
         {
          "Count": 0,
          "Cum FR by Trial": 0.25,
          "Cum FR by Week": 2,
          "FR Delta": 7,
          "Total Triers": 8,
          "Trial Week": 5,
          "Weights": 2
         },
         {
          "Count": 0,
          "Cum FR by Trial": 0,
          "Cum FR by Week": 0,
          "FR Delta": 7,
          "Total Triers": 7,
          "Trial Week": 6,
          "Weights": 0
         },
         {
          "Count": 0,
          "Cum FR by Trial": 0,
          "Cum FR by Week": 0,
          "FR Delta": 7,
          "Total Triers": 3,
          "Trial Week": 7,
          "Weights": 0
         },
         {
          "Count": 0,
          "Cum FR by Trial": 0.5,
          "Cum FR by Week": 1,
          "FR Delta": 7,
          "Total Triers": 2,
          "Trial Week": 8,
          "Weights": 1
         },
         {
          "Count": 0,
          "Cum FR by Trial": 0.2,
          "Cum FR by Week": 1,
          "FR Delta": 7,
          "Total Triers": 5,
          "Trial Week": 9,
          "Weights": 1
         },
         {
          "Count": 0,
          "Cum FR by Trial": 0.3333333333333333,
          "Cum FR by Week": 1,
          "FR Delta": 7,
          "Total Triers": 3,
          "Trial Week": 10,
          "Weights": 1
         },
         {
          "Count": 0,
          "Cum FR by Trial": 0.5,
          "Cum FR by Week": 4,
          "FR Delta": 8,
          "Total Triers": 8,
          "Trial Week": 1,
          "Weights": 4
         },
         {
          "Count": 0,
          "Cum FR by Trial": 0.3333333333333333,
          "Cum FR by Week": 2,
          "FR Delta": 8,
          "Total Triers": 6,
          "Trial Week": 2,
          "Weights": 2
         },
         {
          "Count": 0,
          "Cum FR by Trial": 0.5,
          "Cum FR by Week": 1,
          "FR Delta": 8,
          "Total Triers": 2,
          "Trial Week": 3,
          "Weights": 1
         },
         {
          "Count": 0,
          "Cum FR by Trial": 0.5625,
          "Cum FR by Week": 9,
          "FR Delta": 8,
          "Total Triers": 16,
          "Trial Week": 4,
          "Weights": 9
         },
         {
          "Count": 0,
          "Cum FR by Trial": 0.25,
          "Cum FR by Week": 2,
          "FR Delta": 8,
          "Total Triers": 8,
          "Trial Week": 5,
          "Weights": 2
         },
         {
          "Count": 0,
          "Cum FR by Trial": 0,
          "Cum FR by Week": 0,
          "FR Delta": 8,
          "Total Triers": 7,
          "Trial Week": 6,
          "Weights": 0
         },
         {
          "Count": 0,
          "Cum FR by Trial": 0,
          "Cum FR by Week": 0,
          "FR Delta": 8,
          "Total Triers": 3,
          "Trial Week": 7,
          "Weights": 0
         },
         {
          "Count": 0,
          "Cum FR by Trial": 0.5,
          "Cum FR by Week": 1,
          "FR Delta": 8,
          "Total Triers": 2,
          "Trial Week": 8,
          "Weights": 1
         },
         {
          "Count": 0,
          "Cum FR by Trial": 0.2,
          "Cum FR by Week": 1,
          "FR Delta": 8,
          "Total Triers": 5,
          "Trial Week": 9,
          "Weights": 1
         },
         {
          "Count": 0,
          "Cum FR by Trial": 0.3333333333333333,
          "Cum FR by Week": 1,
          "FR Delta": 8,
          "Total Triers": 3,
          "Trial Week": 10,
          "Weights": 1
         },
         {
          "Count": 0,
          "Cum FR by Trial": 0.5,
          "Cum FR by Week": 4,
          "FR Delta": 9,
          "Total Triers": 8,
          "Trial Week": 1,
          "Weights": 4
         },
         {
          "Count": 1,
          "Cum FR by Trial": 0.5,
          "Cum FR by Week": 3,
          "FR Delta": 9,
          "Total Triers": 6,
          "Trial Week": 2,
          "Weights": 3
         },
         {
          "Count": 0,
          "Cum FR by Trial": 0.5,
          "Cum FR by Week": 1,
          "FR Delta": 9,
          "Total Triers": 2,
          "Trial Week": 3,
          "Weights": 1
         },
         {
          "Count": 0,
          "Cum FR by Trial": 0.5625,
          "Cum FR by Week": 9,
          "FR Delta": 9,
          "Total Triers": 16,
          "Trial Week": 4,
          "Weights": 9
         },
         {
          "Count": 0,
          "Cum FR by Trial": 0.25,
          "Cum FR by Week": 2,
          "FR Delta": 9,
          "Total Triers": 8,
          "Trial Week": 5,
          "Weights": 2
         },
         {
          "Count": 0,
          "Cum FR by Trial": 0,
          "Cum FR by Week": 0,
          "FR Delta": 9,
          "Total Triers": 7,
          "Trial Week": 6,
          "Weights": 0
         },
         {
          "Count": 0,
          "Cum FR by Trial": 0,
          "Cum FR by Week": 0,
          "FR Delta": 9,
          "Total Triers": 3,
          "Trial Week": 7,
          "Weights": 0
         },
         {
          "Count": 0,
          "Cum FR by Trial": 0.5,
          "Cum FR by Week": 1,
          "FR Delta": 9,
          "Total Triers": 2,
          "Trial Week": 8,
          "Weights": 1
         },
         {
          "Count": 0,
          "Cum FR by Trial": 0.2,
          "Cum FR by Week": 1,
          "FR Delta": 9,
          "Total Triers": 5,
          "Trial Week": 9,
          "Weights": 1
         },
         {
          "Count": 0,
          "Cum FR by Trial": 0.3333333333333333,
          "Cum FR by Week": 1,
          "FR Delta": 9,
          "Total Triers": 3,
          "Trial Week": 10,
          "Weights": 1
         },
         {
          "Count": 0,
          "Cum FR by Trial": 0.5,
          "Cum FR by Week": 4,
          "FR Delta": 10,
          "Total Triers": 8,
          "Trial Week": 1,
          "Weights": 4
         },
         {
          "Count": 1,
          "Cum FR by Trial": 0.6666666666666666,
          "Cum FR by Week": 4,
          "FR Delta": 10,
          "Total Triers": 6,
          "Trial Week": 2,
          "Weights": 4
         },
         {
          "Count": 0,
          "Cum FR by Trial": 0.5,
          "Cum FR by Week": 1,
          "FR Delta": 10,
          "Total Triers": 2,
          "Trial Week": 3,
          "Weights": 1
         },
         {
          "Count": 0,
          "Cum FR by Trial": 0.5625,
          "Cum FR by Week": 9,
          "FR Delta": 10,
          "Total Triers": 16,
          "Trial Week": 4,
          "Weights": 9
         },
         {
          "Count": 0,
          "Cum FR by Trial": 0.25,
          "Cum FR by Week": 2,
          "FR Delta": 10,
          "Total Triers": 8,
          "Trial Week": 5,
          "Weights": 2
         },
         {
          "Count": 0,
          "Cum FR by Trial": 0,
          "Cum FR by Week": 0,
          "FR Delta": 10,
          "Total Triers": 7,
          "Trial Week": 6,
          "Weights": 0
         },
         {
          "Count": 0,
          "Cum FR by Trial": 0,
          "Cum FR by Week": 0,
          "FR Delta": 10,
          "Total Triers": 3,
          "Trial Week": 7,
          "Weights": 0
         },
         {
          "Count": 0,
          "Cum FR by Trial": 0.5,
          "Cum FR by Week": 1,
          "FR Delta": 10,
          "Total Triers": 2,
          "Trial Week": 8,
          "Weights": 1
         },
         {
          "Count": 0,
          "Cum FR by Trial": 0.2,
          "Cum FR by Week": 1,
          "FR Delta": 10,
          "Total Triers": 5,
          "Trial Week": 9,
          "Weights": 1
         },
         {
          "Count": 0,
          "Cum FR by Trial": 0.3333333333333333,
          "Cum FR by Week": 1,
          "FR Delta": 10,
          "Total Triers": 3,
          "Trial Week": 10,
          "Weights": 1
         },
         {
          "Count": 0,
          "Cum FR by Trial": 0.5,
          "Cum FR by Week": 4,
          "FR Delta": 11,
          "Total Triers": 8,
          "Trial Week": 1,
          "Weights": 4
         },
         {
          "Count": 0,
          "Cum FR by Trial": 0.6666666666666666,
          "Cum FR by Week": 4,
          "FR Delta": 11,
          "Total Triers": 6,
          "Trial Week": 2,
          "Weights": 4
         },
         {
          "Count": 0,
          "Cum FR by Trial": 0.5,
          "Cum FR by Week": 1,
          "FR Delta": 11,
          "Total Triers": 2,
          "Trial Week": 3,
          "Weights": 1
         },
         {
          "Count": 0,
          "Cum FR by Trial": 0.5625,
          "Cum FR by Week": 9,
          "FR Delta": 11,
          "Total Triers": 16,
          "Trial Week": 4,
          "Weights": 9
         },
         {
          "Count": 0,
          "Cum FR by Trial": 0.25,
          "Cum FR by Week": 2,
          "FR Delta": 11,
          "Total Triers": 8,
          "Trial Week": 5,
          "Weights": 2
         },
         {
          "Count": 0,
          "Cum FR by Trial": 0,
          "Cum FR by Week": 0,
          "FR Delta": 11,
          "Total Triers": 7,
          "Trial Week": 6,
          "Weights": 0
         },
         {
          "Count": 0,
          "Cum FR by Trial": 0,
          "Cum FR by Week": 0,
          "FR Delta": 11,
          "Total Triers": 3,
          "Trial Week": 7,
          "Weights": 0
         },
         {
          "Count": 0,
          "Cum FR by Trial": 0.5,
          "Cum FR by Week": 1,
          "FR Delta": 11,
          "Total Triers": 2,
          "Trial Week": 8,
          "Weights": 1
         },
         {
          "Count": 0,
          "Cum FR by Trial": 0.2,
          "Cum FR by Week": 1,
          "FR Delta": 11,
          "Total Triers": 5,
          "Trial Week": 9,
          "Weights": 1
         },
         {
          "Count": 0,
          "Cum FR by Trial": 0.3333333333333333,
          "Cum FR by Week": 1,
          "FR Delta": 11,
          "Total Triers": 3,
          "Trial Week": 10,
          "Weights": 1
         },
         {
          "Count": 0,
          "Cum FR by Trial": 0.5,
          "Cum FR by Week": 4,
          "FR Delta": 12,
          "Total Triers": 8,
          "Trial Week": 1,
          "Weights": 4
         },
         {
          "Count": 0,
          "Cum FR by Trial": 0.6666666666666666,
          "Cum FR by Week": 4,
          "FR Delta": 12,
          "Total Triers": 6,
          "Trial Week": 2,
          "Weights": 4
         },
         {
          "Count": 0,
          "Cum FR by Trial": 0.5,
          "Cum FR by Week": 1,
          "FR Delta": 12,
          "Total Triers": 2,
          "Trial Week": 3,
          "Weights": 1
         },
         {
          "Count": 0,
          "Cum FR by Trial": 0.5625,
          "Cum FR by Week": 9,
          "FR Delta": 12,
          "Total Triers": 16,
          "Trial Week": 4,
          "Weights": 9
         },
         {
          "Count": 0,
          "Cum FR by Trial": 0.25,
          "Cum FR by Week": 2,
          "FR Delta": 12,
          "Total Triers": 8,
          "Trial Week": 5,
          "Weights": 2
         },
         {
          "Count": 0,
          "Cum FR by Trial": 0,
          "Cum FR by Week": 0,
          "FR Delta": 12,
          "Total Triers": 7,
          "Trial Week": 6,
          "Weights": 0
         },
         {
          "Count": 0,
          "Cum FR by Trial": 0,
          "Cum FR by Week": 0,
          "FR Delta": 12,
          "Total Triers": 3,
          "Trial Week": 7,
          "Weights": 0
         },
         {
          "Count": 0,
          "Cum FR by Trial": 0.5,
          "Cum FR by Week": 1,
          "FR Delta": 12,
          "Total Triers": 2,
          "Trial Week": 8,
          "Weights": 1
         },
         {
          "Count": 0,
          "Cum FR by Trial": 0.2,
          "Cum FR by Week": 1,
          "FR Delta": 12,
          "Total Triers": 5,
          "Trial Week": 9,
          "Weights": 1
         },
         {
          "Count": 0,
          "Cum FR by Trial": 0.3333333333333333,
          "Cum FR by Week": 1,
          "FR Delta": 12,
          "Total Triers": 3,
          "Trial Week": 10,
          "Weights": 1
         },
         {
          "Count": 0,
          "Cum FR by Trial": 0.5,
          "Cum FR by Week": 4,
          "FR Delta": 13,
          "Total Triers": 8,
          "Trial Week": 1,
          "Weights": 4
         },
         {
          "Count": 0,
          "Cum FR by Trial": 0.6666666666666666,
          "Cum FR by Week": 4,
          "FR Delta": 13,
          "Total Triers": 6,
          "Trial Week": 2,
          "Weights": 4
         },
         {
          "Count": 0,
          "Cum FR by Trial": 0.5,
          "Cum FR by Week": 1,
          "FR Delta": 13,
          "Total Triers": 2,
          "Trial Week": 3,
          "Weights": 1
         },
         {
          "Count": 0,
          "Cum FR by Trial": 0.5625,
          "Cum FR by Week": 9,
          "FR Delta": 13,
          "Total Triers": 16,
          "Trial Week": 4,
          "Weights": 9
         },
         {
          "Count": 0,
          "Cum FR by Trial": 0.25,
          "Cum FR by Week": 2,
          "FR Delta": 13,
          "Total Triers": 8,
          "Trial Week": 5,
          "Weights": 2
         },
         {
          "Count": 0,
          "Cum FR by Trial": 0,
          "Cum FR by Week": 0,
          "FR Delta": 13,
          "Total Triers": 7,
          "Trial Week": 6,
          "Weights": 0
         },
         {
          "Count": 0,
          "Cum FR by Trial": 0,
          "Cum FR by Week": 0,
          "FR Delta": 13,
          "Total Triers": 3,
          "Trial Week": 7,
          "Weights": 0
         },
         {
          "Count": 0,
          "Cum FR by Trial": 0.5,
          "Cum FR by Week": 1,
          "FR Delta": 13,
          "Total Triers": 2,
          "Trial Week": 8,
          "Weights": 1
         },
         {
          "Count": 0,
          "Cum FR by Trial": 0.2,
          "Cum FR by Week": 1,
          "FR Delta": 13,
          "Total Triers": 5,
          "Trial Week": 9,
          "Weights": 1
         },
         {
          "Count": 0,
          "Cum FR by Trial": 0.3333333333333333,
          "Cum FR by Week": 1,
          "FR Delta": 13,
          "Total Triers": 3,
          "Trial Week": 10,
          "Weights": 1
         },
         {
          "Count": 0,
          "Cum FR by Trial": 0.5,
          "Cum FR by Week": 4,
          "FR Delta": 14,
          "Total Triers": 8,
          "Trial Week": 1,
          "Weights": 4
         },
         {
          "Count": 0,
          "Cum FR by Trial": 0.6666666666666666,
          "Cum FR by Week": 4,
          "FR Delta": 14,
          "Total Triers": 6,
          "Trial Week": 2,
          "Weights": 4
         },
         {
          "Count": 0,
          "Cum FR by Trial": 0.5,
          "Cum FR by Week": 1,
          "FR Delta": 14,
          "Total Triers": 2,
          "Trial Week": 3,
          "Weights": 1
         },
         {
          "Count": 1,
          "Cum FR by Trial": 0.625,
          "Cum FR by Week": 10,
          "FR Delta": 14,
          "Total Triers": 16,
          "Trial Week": 4,
          "Weights": 10
         },
         {
          "Count": 0,
          "Cum FR by Trial": 0.25,
          "Cum FR by Week": 2,
          "FR Delta": 14,
          "Total Triers": 8,
          "Trial Week": 5,
          "Weights": 2
         },
         {
          "Count": 1,
          "Cum FR by Trial": 0.14285714285714285,
          "Cum FR by Week": 1,
          "FR Delta": 14,
          "Total Triers": 7,
          "Trial Week": 6,
          "Weights": 1
         },
         {
          "Count": 0,
          "Cum FR by Trial": 0,
          "Cum FR by Week": 0,
          "FR Delta": 14,
          "Total Triers": 3,
          "Trial Week": 7,
          "Weights": 0
         },
         {
          "Count": 0,
          "Cum FR by Trial": 0.5,
          "Cum FR by Week": 1,
          "FR Delta": 14,
          "Total Triers": 2,
          "Trial Week": 8,
          "Weights": 1
         },
         {
          "Count": 0,
          "Cum FR by Trial": 0.2,
          "Cum FR by Week": 1,
          "FR Delta": 14,
          "Total Triers": 5,
          "Trial Week": 9,
          "Weights": 1
         },
         {
          "Count": 0,
          "Cum FR by Trial": 0.3333333333333333,
          "Cum FR by Week": 1,
          "FR Delta": 14,
          "Total Triers": 3,
          "Trial Week": 10,
          "Weights": 1
         },
         {
          "Count": 0,
          "Cum FR by Trial": 0.5,
          "Cum FR by Week": 4,
          "FR Delta": 15,
          "Total Triers": 8,
          "Trial Week": 1,
          "Weights": 4
         },
         {
          "Count": 0,
          "Cum FR by Trial": 0.6666666666666666,
          "Cum FR by Week": 4,
          "FR Delta": 15,
          "Total Triers": 6,
          "Trial Week": 2,
          "Weights": 4
         },
         {
          "Count": 0,
          "Cum FR by Trial": 0.5,
          "Cum FR by Week": 1,
          "FR Delta": 15,
          "Total Triers": 2,
          "Trial Week": 3,
          "Weights": 1
         },
         {
          "Count": 1,
          "Cum FR by Trial": 0.6875,
          "Cum FR by Week": 11,
          "FR Delta": 15,
          "Total Triers": 16,
          "Trial Week": 4,
          "Weights": 11
         },
         {
          "Count": 0,
          "Cum FR by Trial": 0.25,
          "Cum FR by Week": 2,
          "FR Delta": 15,
          "Total Triers": 8,
          "Trial Week": 5,
          "Weights": 2
         },
         {
          "Count": 0,
          "Cum FR by Trial": 0.14285714285714285,
          "Cum FR by Week": 1,
          "FR Delta": 15,
          "Total Triers": 7,
          "Trial Week": 6,
          "Weights": 1
         },
         {
          "Count": 0,
          "Cum FR by Trial": 0,
          "Cum FR by Week": 0,
          "FR Delta": 15,
          "Total Triers": 3,
          "Trial Week": 7,
          "Weights": 0
         },
         {
          "Count": 0,
          "Cum FR by Trial": 0.5,
          "Cum FR by Week": 1,
          "FR Delta": 15,
          "Total Triers": 2,
          "Trial Week": 8,
          "Weights": 1
         },
         {
          "Count": 0,
          "Cum FR by Trial": 0.2,
          "Cum FR by Week": 1,
          "FR Delta": 15,
          "Total Triers": 5,
          "Trial Week": 9,
          "Weights": 1
         },
         {
          "Count": 0,
          "Cum FR by Trial": null,
          "Cum FR by Week": 1,
          "FR Delta": 15,
          "Total Triers": 3,
          "Trial Week": 10,
          "Weights": null
         },
         {
          "Count": 0,
          "Cum FR by Trial": 0.5,
          "Cum FR by Week": 4,
          "FR Delta": 16,
          "Total Triers": 8,
          "Trial Week": 1,
          "Weights": 4
         },
         {
          "Count": 0,
          "Cum FR by Trial": 0.6666666666666666,
          "Cum FR by Week": 4,
          "FR Delta": 16,
          "Total Triers": 6,
          "Trial Week": 2,
          "Weights": 4
         },
         {
          "Count": 0,
          "Cum FR by Trial": 0.5,
          "Cum FR by Week": 1,
          "FR Delta": 16,
          "Total Triers": 2,
          "Trial Week": 3,
          "Weights": 1
         },
         {
          "Count": 0,
          "Cum FR by Trial": 0.6875,
          "Cum FR by Week": 11,
          "FR Delta": 16,
          "Total Triers": 16,
          "Trial Week": 4,
          "Weights": 11
         },
         {
          "Count": 0,
          "Cum FR by Trial": 0.25,
          "Cum FR by Week": 2,
          "FR Delta": 16,
          "Total Triers": 8,
          "Trial Week": 5,
          "Weights": 2
         },
         {
          "Count": 0,
          "Cum FR by Trial": 0.14285714285714285,
          "Cum FR by Week": 1,
          "FR Delta": 16,
          "Total Triers": 7,
          "Trial Week": 6,
          "Weights": 1
         },
         {
          "Count": 0,
          "Cum FR by Trial": 0,
          "Cum FR by Week": 0,
          "FR Delta": 16,
          "Total Triers": 3,
          "Trial Week": 7,
          "Weights": 0
         },
         {
          "Count": 0,
          "Cum FR by Trial": 0.5,
          "Cum FR by Week": 1,
          "FR Delta": 16,
          "Total Triers": 2,
          "Trial Week": 8,
          "Weights": 1
         },
         {
          "Count": 0,
          "Cum FR by Trial": null,
          "Cum FR by Week": 1,
          "FR Delta": 16,
          "Total Triers": 5,
          "Trial Week": 9,
          "Weights": null
         },
         {
          "Count": 0,
          "Cum FR by Trial": null,
          "Cum FR by Week": 1,
          "FR Delta": 16,
          "Total Triers": 3,
          "Trial Week": 10,
          "Weights": null
         },
         {
          "Count": 1,
          "Cum FR by Trial": 0.625,
          "Cum FR by Week": 5,
          "FR Delta": 17,
          "Total Triers": 8,
          "Trial Week": 1,
          "Weights": 5
         },
         {
          "Count": 0,
          "Cum FR by Trial": 0.6666666666666666,
          "Cum FR by Week": 4,
          "FR Delta": 17,
          "Total Triers": 6,
          "Trial Week": 2,
          "Weights": 4
         },
         {
          "Count": 0,
          "Cum FR by Trial": 0.5,
          "Cum FR by Week": 1,
          "FR Delta": 17,
          "Total Triers": 2,
          "Trial Week": 3,
          "Weights": 1
         },
         {
          "Count": 0,
          "Cum FR by Trial": 0.6875,
          "Cum FR by Week": 11,
          "FR Delta": 17,
          "Total Triers": 16,
          "Trial Week": 4,
          "Weights": 11
         },
         {
          "Count": 0,
          "Cum FR by Trial": 0.25,
          "Cum FR by Week": 2,
          "FR Delta": 17,
          "Total Triers": 8,
          "Trial Week": 5,
          "Weights": 2
         },
         {
          "Count": 0,
          "Cum FR by Trial": 0.14285714285714285,
          "Cum FR by Week": 1,
          "FR Delta": 17,
          "Total Triers": 7,
          "Trial Week": 6,
          "Weights": 1
         },
         {
          "Count": 0,
          "Cum FR by Trial": 0,
          "Cum FR by Week": 0,
          "FR Delta": 17,
          "Total Triers": 3,
          "Trial Week": 7,
          "Weights": 0
         },
         {
          "Count": 0,
          "Cum FR by Trial": null,
          "Cum FR by Week": 1,
          "FR Delta": 17,
          "Total Triers": 2,
          "Trial Week": 8,
          "Weights": null
         },
         {
          "Count": 0,
          "Cum FR by Trial": null,
          "Cum FR by Week": 1,
          "FR Delta": 17,
          "Total Triers": 5,
          "Trial Week": 9,
          "Weights": null
         },
         {
          "Count": 0,
          "Cum FR by Trial": null,
          "Cum FR by Week": 1,
          "FR Delta": 17,
          "Total Triers": 3,
          "Trial Week": 10,
          "Weights": null
         },
         {
          "Count": 0,
          "Cum FR by Trial": 0.625,
          "Cum FR by Week": 5,
          "FR Delta": 18,
          "Total Triers": 8,
          "Trial Week": 1,
          "Weights": 5
         },
         {
          "Count": 0,
          "Cum FR by Trial": 0.6666666666666666,
          "Cum FR by Week": 4,
          "FR Delta": 18,
          "Total Triers": 6,
          "Trial Week": 2,
          "Weights": 4
         },
         {
          "Count": 0,
          "Cum FR by Trial": 0.5,
          "Cum FR by Week": 1,
          "FR Delta": 18,
          "Total Triers": 2,
          "Trial Week": 3,
          "Weights": 1
         },
         {
          "Count": 0,
          "Cum FR by Trial": 0.6875,
          "Cum FR by Week": 11,
          "FR Delta": 18,
          "Total Triers": 16,
          "Trial Week": 4,
          "Weights": 11
         },
         {
          "Count": 1,
          "Cum FR by Trial": 0.375,
          "Cum FR by Week": 3,
          "FR Delta": 18,
          "Total Triers": 8,
          "Trial Week": 5,
          "Weights": 3
         },
         {
          "Count": 0,
          "Cum FR by Trial": 0.14285714285714285,
          "Cum FR by Week": 1,
          "FR Delta": 18,
          "Total Triers": 7,
          "Trial Week": 6,
          "Weights": 1
         },
         {
          "Count": 0,
          "Cum FR by Trial": null,
          "Cum FR by Week": 0,
          "FR Delta": 18,
          "Total Triers": 3,
          "Trial Week": 7,
          "Weights": null
         },
         {
          "Count": 0,
          "Cum FR by Trial": null,
          "Cum FR by Week": 1,
          "FR Delta": 18,
          "Total Triers": 2,
          "Trial Week": 8,
          "Weights": null
         },
         {
          "Count": 0,
          "Cum FR by Trial": null,
          "Cum FR by Week": 1,
          "FR Delta": 18,
          "Total Triers": 5,
          "Trial Week": 9,
          "Weights": null
         },
         {
          "Count": 0,
          "Cum FR by Trial": null,
          "Cum FR by Week": 1,
          "FR Delta": 18,
          "Total Triers": 3,
          "Trial Week": 10,
          "Weights": null
         },
         {
          "Count": 0,
          "Cum FR by Trial": 0.625,
          "Cum FR by Week": 5,
          "FR Delta": 19,
          "Total Triers": 8,
          "Trial Week": 1,
          "Weights": 5
         },
         {
          "Count": 0,
          "Cum FR by Trial": 0.6666666666666666,
          "Cum FR by Week": 4,
          "FR Delta": 19,
          "Total Triers": 6,
          "Trial Week": 2,
          "Weights": 4
         },
         {
          "Count": 0,
          "Cum FR by Trial": 0.5,
          "Cum FR by Week": 1,
          "FR Delta": 19,
          "Total Triers": 2,
          "Trial Week": 3,
          "Weights": 1
         },
         {
          "Count": 0,
          "Cum FR by Trial": 0.6875,
          "Cum FR by Week": 11,
          "FR Delta": 19,
          "Total Triers": 16,
          "Trial Week": 4,
          "Weights": 11
         },
         {
          "Count": 0,
          "Cum FR by Trial": 0.375,
          "Cum FR by Week": 3,
          "FR Delta": 19,
          "Total Triers": 8,
          "Trial Week": 5,
          "Weights": 3
         },
         {
          "Count": 0,
          "Cum FR by Trial": null,
          "Cum FR by Week": 1,
          "FR Delta": 19,
          "Total Triers": 7,
          "Trial Week": 6,
          "Weights": null
         },
         {
          "Count": 0,
          "Cum FR by Trial": null,
          "Cum FR by Week": 0,
          "FR Delta": 19,
          "Total Triers": 3,
          "Trial Week": 7,
          "Weights": null
         },
         {
          "Count": 0,
          "Cum FR by Trial": null,
          "Cum FR by Week": 1,
          "FR Delta": 19,
          "Total Triers": 2,
          "Trial Week": 8,
          "Weights": null
         },
         {
          "Count": 0,
          "Cum FR by Trial": null,
          "Cum FR by Week": 1,
          "FR Delta": 19,
          "Total Triers": 5,
          "Trial Week": 9,
          "Weights": null
         },
         {
          "Count": 0,
          "Cum FR by Trial": null,
          "Cum FR by Week": 1,
          "FR Delta": 19,
          "Total Triers": 3,
          "Trial Week": 10,
          "Weights": null
         },
         {
          "Count": 0,
          "Cum FR by Trial": 0.625,
          "Cum FR by Week": 5,
          "FR Delta": 20,
          "Total Triers": 8,
          "Trial Week": 1,
          "Weights": 5
         },
         {
          "Count": 0,
          "Cum FR by Trial": 0.6666666666666666,
          "Cum FR by Week": 4,
          "FR Delta": 20,
          "Total Triers": 6,
          "Trial Week": 2,
          "Weights": 4
         },
         {
          "Count": 0,
          "Cum FR by Trial": 0.5,
          "Cum FR by Week": 1,
          "FR Delta": 20,
          "Total Triers": 2,
          "Trial Week": 3,
          "Weights": 1
         },
         {
          "Count": 0,
          "Cum FR by Trial": 0.6875,
          "Cum FR by Week": 11,
          "FR Delta": 20,
          "Total Triers": 16,
          "Trial Week": 4,
          "Weights": 11
         },
         {
          "Count": 0,
          "Cum FR by Trial": null,
          "Cum FR by Week": 3,
          "FR Delta": 20,
          "Total Triers": 8,
          "Trial Week": 5,
          "Weights": null
         },
         {
          "Count": 0,
          "Cum FR by Trial": null,
          "Cum FR by Week": 1,
          "FR Delta": 20,
          "Total Triers": 7,
          "Trial Week": 6,
          "Weights": null
         },
         {
          "Count": 0,
          "Cum FR by Trial": null,
          "Cum FR by Week": 0,
          "FR Delta": 20,
          "Total Triers": 3,
          "Trial Week": 7,
          "Weights": null
         },
         {
          "Count": 0,
          "Cum FR by Trial": null,
          "Cum FR by Week": 1,
          "FR Delta": 20,
          "Total Triers": 2,
          "Trial Week": 8,
          "Weights": null
         },
         {
          "Count": 0,
          "Cum FR by Trial": null,
          "Cum FR by Week": 1,
          "FR Delta": 20,
          "Total Triers": 5,
          "Trial Week": 9,
          "Weights": null
         },
         {
          "Count": 0,
          "Cum FR by Trial": null,
          "Cum FR by Week": 1,
          "FR Delta": 20,
          "Total Triers": 3,
          "Trial Week": 10,
          "Weights": null
         },
         {
          "Count": 0,
          "Cum FR by Trial": 0.625,
          "Cum FR by Week": 5,
          "FR Delta": 21,
          "Total Triers": 8,
          "Trial Week": 1,
          "Weights": 5
         },
         {
          "Count": 0,
          "Cum FR by Trial": 0.6666666666666666,
          "Cum FR by Week": 4,
          "FR Delta": 21,
          "Total Triers": 6,
          "Trial Week": 2,
          "Weights": 4
         },
         {
          "Count": 0,
          "Cum FR by Trial": 0.5,
          "Cum FR by Week": 1,
          "FR Delta": 21,
          "Total Triers": 2,
          "Trial Week": 3,
          "Weights": 1
         },
         {
          "Count": 0,
          "Cum FR by Trial": null,
          "Cum FR by Week": 11,
          "FR Delta": 21,
          "Total Triers": 16,
          "Trial Week": 4,
          "Weights": null
         },
         {
          "Count": 0,
          "Cum FR by Trial": null,
          "Cum FR by Week": 3,
          "FR Delta": 21,
          "Total Triers": 8,
          "Trial Week": 5,
          "Weights": null
         },
         {
          "Count": 1,
          "Cum FR by Trial": null,
          "Cum FR by Week": 2,
          "FR Delta": 21,
          "Total Triers": 7,
          "Trial Week": 6,
          "Weights": null
         },
         {
          "Count": 0,
          "Cum FR by Trial": null,
          "Cum FR by Week": 0,
          "FR Delta": 21,
          "Total Triers": 3,
          "Trial Week": 7,
          "Weights": null
         },
         {
          "Count": 0,
          "Cum FR by Trial": null,
          "Cum FR by Week": 1,
          "FR Delta": 21,
          "Total Triers": 2,
          "Trial Week": 8,
          "Weights": null
         },
         {
          "Count": 0,
          "Cum FR by Trial": null,
          "Cum FR by Week": 1,
          "FR Delta": 21,
          "Total Triers": 5,
          "Trial Week": 9,
          "Weights": null
         },
         {
          "Count": 0,
          "Cum FR by Trial": null,
          "Cum FR by Week": 1,
          "FR Delta": 21,
          "Total Triers": 3,
          "Trial Week": 10,
          "Weights": null
         },
         {
          "Count": 0,
          "Cum FR by Trial": 0.625,
          "Cum FR by Week": 5,
          "FR Delta": 22,
          "Total Triers": 8,
          "Trial Week": 1,
          "Weights": 5
         },
         {
          "Count": 0,
          "Cum FR by Trial": 0.6666666666666666,
          "Cum FR by Week": 4,
          "FR Delta": 22,
          "Total Triers": 6,
          "Trial Week": 2,
          "Weights": 4
         },
         {
          "Count": 0,
          "Cum FR by Trial": null,
          "Cum FR by Week": 1,
          "FR Delta": 22,
          "Total Triers": 2,
          "Trial Week": 3,
          "Weights": null
         },
         {
          "Count": 0,
          "Cum FR by Trial": null,
          "Cum FR by Week": 11,
          "FR Delta": 22,
          "Total Triers": 16,
          "Trial Week": 4,
          "Weights": null
         },
         {
          "Count": 0,
          "Cum FR by Trial": null,
          "Cum FR by Week": 3,
          "FR Delta": 22,
          "Total Triers": 8,
          "Trial Week": 5,
          "Weights": null
         },
         {
          "Count": 0,
          "Cum FR by Trial": null,
          "Cum FR by Week": 2,
          "FR Delta": 22,
          "Total Triers": 7,
          "Trial Week": 6,
          "Weights": null
         },
         {
          "Count": 0,
          "Cum FR by Trial": null,
          "Cum FR by Week": 0,
          "FR Delta": 22,
          "Total Triers": 3,
          "Trial Week": 7,
          "Weights": null
         },
         {
          "Count": 0,
          "Cum FR by Trial": null,
          "Cum FR by Week": 1,
          "FR Delta": 22,
          "Total Triers": 2,
          "Trial Week": 8,
          "Weights": null
         },
         {
          "Count": 0,
          "Cum FR by Trial": null,
          "Cum FR by Week": 1,
          "FR Delta": 22,
          "Total Triers": 5,
          "Trial Week": 9,
          "Weights": null
         },
         {
          "Count": 0,
          "Cum FR by Trial": null,
          "Cum FR by Week": 1,
          "FR Delta": 22,
          "Total Triers": 3,
          "Trial Week": 10,
          "Weights": null
         },
         {
          "Count": 0,
          "Cum FR by Trial": 0.625,
          "Cum FR by Week": 5,
          "FR Delta": 23,
          "Total Triers": 8,
          "Trial Week": 1,
          "Weights": 5
         },
         {
          "Count": 0,
          "Cum FR by Trial": null,
          "Cum FR by Week": 4,
          "FR Delta": 23,
          "Total Triers": 6,
          "Trial Week": 2,
          "Weights": null
         },
         {
          "Count": 0,
          "Cum FR by Trial": null,
          "Cum FR by Week": 1,
          "FR Delta": 23,
          "Total Triers": 2,
          "Trial Week": 3,
          "Weights": null
         },
         {
          "Count": 0,
          "Cum FR by Trial": null,
          "Cum FR by Week": 11,
          "FR Delta": 23,
          "Total Triers": 16,
          "Trial Week": 4,
          "Weights": null
         },
         {
          "Count": 0,
          "Cum FR by Trial": null,
          "Cum FR by Week": 3,
          "FR Delta": 23,
          "Total Triers": 8,
          "Trial Week": 5,
          "Weights": null
         },
         {
          "Count": 0,
          "Cum FR by Trial": null,
          "Cum FR by Week": 2,
          "FR Delta": 23,
          "Total Triers": 7,
          "Trial Week": 6,
          "Weights": null
         },
         {
          "Count": 0,
          "Cum FR by Trial": null,
          "Cum FR by Week": 0,
          "FR Delta": 23,
          "Total Triers": 3,
          "Trial Week": 7,
          "Weights": null
         },
         {
          "Count": 0,
          "Cum FR by Trial": null,
          "Cum FR by Week": 1,
          "FR Delta": 23,
          "Total Triers": 2,
          "Trial Week": 8,
          "Weights": null
         },
         {
          "Count": 0,
          "Cum FR by Trial": null,
          "Cum FR by Week": 1,
          "FR Delta": 23,
          "Total Triers": 5,
          "Trial Week": 9,
          "Weights": null
         },
         {
          "Count": 0,
          "Cum FR by Trial": null,
          "Cum FR by Week": 1,
          "FR Delta": 23,
          "Total Triers": 3,
          "Trial Week": 10,
          "Weights": null
         },
         {
          "Count": 0,
          "Cum FR by Trial": null,
          "Cum FR by Week": 5,
          "FR Delta": 24,
          "Total Triers": 8,
          "Trial Week": 1,
          "Weights": null
         },
         {
          "Count": 0,
          "Cum FR by Trial": null,
          "Cum FR by Week": 4,
          "FR Delta": 24,
          "Total Triers": 6,
          "Trial Week": 2,
          "Weights": null
         },
         {
          "Count": 0,
          "Cum FR by Trial": null,
          "Cum FR by Week": 1,
          "FR Delta": 24,
          "Total Triers": 2,
          "Trial Week": 3,
          "Weights": null
         },
         {
          "Count": 0,
          "Cum FR by Trial": null,
          "Cum FR by Week": 11,
          "FR Delta": 24,
          "Total Triers": 16,
          "Trial Week": 4,
          "Weights": null
         },
         {
          "Count": 0,
          "Cum FR by Trial": null,
          "Cum FR by Week": 3,
          "FR Delta": 24,
          "Total Triers": 8,
          "Trial Week": 5,
          "Weights": null
         },
         {
          "Count": 1,
          "Cum FR by Trial": null,
          "Cum FR by Week": 3,
          "FR Delta": 24,
          "Total Triers": 7,
          "Trial Week": 6,
          "Weights": null
         },
         {
          "Count": 0,
          "Cum FR by Trial": null,
          "Cum FR by Week": 0,
          "FR Delta": 24,
          "Total Triers": 3,
          "Trial Week": 7,
          "Weights": null
         },
         {
          "Count": 0,
          "Cum FR by Trial": null,
          "Cum FR by Week": 1,
          "FR Delta": 24,
          "Total Triers": 2,
          "Trial Week": 8,
          "Weights": null
         },
         {
          "Count": 0,
          "Cum FR by Trial": null,
          "Cum FR by Week": 1,
          "FR Delta": 24,
          "Total Triers": 5,
          "Trial Week": 9,
          "Weights": null
         },
         {
          "Count": 0,
          "Cum FR by Trial": null,
          "Cum FR by Week": 1,
          "FR Delta": 24,
          "Total Triers": 3,
          "Trial Week": 10,
          "Weights": null
         }
        ]
       },
       "encoding": {
        "color": {
         "field": "Trial Week",
         "type": "nominal"
        },
        "x": {
         "axis": {
          "labelExpr": "datum.value",
          "title": "Weeks Since Trial",
          "values": [
           0,
           4,
           8,
           12,
           16,
           20,
           24
          ]
         },
         "field": "FR Delta",
         "scale": {
          "domain": [
           0,
           24
          ]
         },
         "type": "quantitative"
        },
        "y": {
         "field": "Cum FR by Trial",
         "scale": {},
         "title": "Cum. % Making FR Purchase",
         "type": "quantitative"
        }
       },
       "height": 250,
       "mark": {
        "strokeDash": [
         1,
         0
        ],
        "strokeWidth": 2,
        "type": "line"
       },
       "title": "Empirical Time-to-FR Curves by Time of Trial",
       "width": 650
      },
      "text/plain": [
       "<VegaLite 5 object>\n",
       "\n",
       "If you see this message, it means the renderer has not been properly enabled\n",
       "for the frontend that you are using. For more information, see\n",
       "https://altair-viz.github.io/user_guide/display_frontends.html#troubleshooting\n"
      ]
     },
     "execution_count": 96,
     "metadata": {},
     "output_type": "execute_result"
    }
   ],
   "source": [
    "(\n",
    "    ChartTemp(cum_fr_by_trial.filter(pl.col('Trial Week') <= 10).collect())\n",
    "    .line_encode(x_col='FR Delta',x_title='Weeks Since Trial',y_col='Cum FR by Trial', y_title='Cum. % Making FR Purchase', color='Trial Week:N', x_range=24)\n",
    "    .line_prop('Empirical Time-to-FR Curves by Time of Trial')\n",
    ")"
   ]
  },
  {
   "cell_type": "markdown",
   "metadata": {},
   "source": [
    "**Modelling First Repeat**:\n",
    "- Let us assume that these empirical time-to-FR curves are realizations of the same underlying curve\n",
    "$$P\\left(\\text { first repeat by } t \\mid \\text { trial at } t_{0}\\right) = P\\left(\\text { first repeat } t - t_{0} \\text { periods after trail}\\right)$$\n",
    "- Specify a mathematical expression for this curve\n",
    "$$P\\left(\\text { first repeat by } t \\mid \\text { trial at } t_{0}\\right) = p_{1}\\left(1-e^{-\\theta_{F R}\\left(t-t_{0}\\right)}\\right)$$ "
   ]
  },
  {
   "cell_type": "markdown",
   "metadata": {},
   "source": [
    "##### First Repeat Model Parameter Estimate"
   ]
  },
  {
   "cell_type": "code",
   "execution_count": 36,
   "metadata": {},
   "outputs": [],
   "source": [
    "def fr_model(fr: np.ndarray, eligible: np.ndarray, weeks: np.ndarray, guess=[0.05, 0.05]):\n",
    "    \n",
    "    def least_square(x):\n",
    "        p_1, theta_FR = x[0], x[1]\n",
    "        t = weeks\n",
    "        t_0 = weeks.reshape(-1,1)\n",
    "\n",
    "        p_fr_trial = p_1 * (1 - np.exp(-theta_FR * (t - t_0)))\n",
    "        p_fr_trial = np.triu(p_fr_trial)     \n",
    "        \n",
    "        pred_cum_fr = p_fr_trial.T @ eligible    \n",
    "        \n",
    "        return np.sum((pred_cum_fr - fr)**2)\n",
    "        \n",
    "    return minimize(least_square, guess, bounds=[(0, np.inf), (0, np.inf)])"
   ]
  },
  {
   "cell_type": "code",
   "execution_count": 37,
   "metadata": {},
   "outputs": [
    {
     "data": {
      "text/markdown": [
       "$P_1$ = 0.3635\n",
       "\n",
       "$\\theta_{FR}$ = 0.4614\n",
       "\n",
       "Sum of Square Errors = 31.6774"
      ]
     },
     "metadata": {},
     "output_type": "display_data"
    }
   ],
   "source": [
    "fr_array = (\n",
    "    modified_cum_trans\n",
    "    .filter(pl.col('Week (t)')<=24)\n",
    "    .select('T(t)', 'FR(t)', 'Week (t)')\n",
    "    .to_numpy().transpose()         \n",
    ")\n",
    "\n",
    "eligible, fr, weeks = np.diff(fr_array[0], prepend=0), fr_array[1], fr_array[2]\n",
    "\n",
    "result = fr_model(fr, eligible, weeks)\n",
    "p_1, theta_FR, sse = result.x[0], result.x[1], result.fun\n",
    "\n",
    "# First Repeat Model Parameters\n",
    "display_markdown(f'''$P_{1}$ = {p_1:0.4f}\n",
    "\n",
    "$\\\\theta_{{FR}}$ = {theta_FR:0.4f}\n",
    "\n",
    "Sum of Square Errors = {sse:0.4f}''', raw=True)"
   ]
  },
  {
   "cell_type": "markdown",
   "metadata": {},
   "source": [
    "##### Forecasting First Repeat Transactions"
   ]
  },
  {
   "cell_type": "markdown",
   "metadata": {},
   "source": [
    "The next step is to generate a forecast of first-repeat purchasing, *conditional on our forecast of trial transactions*. We have generated a forecast of $T(t)$, the cumulative number of trial transactions by $t$, whereas our expression for $FR(t),(5)$, requires the incremental number of triers in each period. We compute this quantity, storing it in the array `eligible`. At time $t$, we use (6) to compute the probability of making a first repeat purchase $t$ periods after a trial purchase $(t=1, \\ldots, 52)$. Given these two quantities, we use (5) to compute $FR(t)$."
   ]
  },
  {
   "cell_type": "code",
   "execution_count": 38,
   "metadata": {},
   "outputs": [],
   "source": [
    "repeat = np.zeros((endwk, endwk-1))\n",
    "probmat = np.zeros((endwk, endwk))"
   ]
  },
  {
   "cell_type": "code",
   "execution_count": 39,
   "metadata": {},
   "outputs": [
    {
     "name": "stdout",
     "output_type": "stream",
     "text": [
      "[ 0.          1.08074772  2.7755127   4.79425612  6.95806529  9.15783717\n",
      " 11.32824762 13.43135573 15.44628136 17.3627104  19.17681224 20.88867713\n",
      " 22.50071109 24.01663374 25.44085566 26.77809438 28.03314031 29.21071677\n",
      " 30.31539864 31.35156784 32.32339135 33.23481322 34.08955494 34.8911208\n",
      " 35.64280603 36.34770648 37.00872888 37.62860126 38.20988325 38.75497601\n",
      " 39.26613178 39.74546295 40.19495058 40.61645255 41.01171117 41.3823603\n",
      " 41.72993211 42.05586342 42.36150158 42.64811007 42.91687371 43.16890356\n",
      " 43.4052415  43.62686452 43.83468882 44.02957353 44.2123243  44.38369661\n",
      " 44.54439891 44.69509553 44.83640946 44.96892488]\n"
     ]
    }
   ],
   "source": [
    "t_0 = t.reshape(-1, 1)\n",
    "eligible = np.diff(cum_trial, prepend=0)\n",
    "\n",
    "p_fr_trial = p_1 * (1 - np.exp(-theta_FR * (t - t_0)))\n",
    "p_fr_trial = np.triu(p_fr_trial)\n",
    "\n",
    "pred_cum_fr = p_fr_trial.T @ eligible \n",
    "print(pred_cum_fr)\n",
    "\n",
    "repeat[:,0] = pred_cum_fr"
   ]
  },
  {
   "cell_type": "code",
   "execution_count": 40,
   "metadata": {},
   "outputs": [
    {
     "data": {
      "application/vnd.vegalite.v5+json": {
       "$schema": "https://vega.github.io/schema/vega-lite/v5.20.1.json",
       "config": {
        "axisX": {
         "grid": false
        },
        "axisY": {
         "grid": false
        },
        "view": {
         "continuousHeight": 300,
         "continuousWidth": 300,
         "stroke": null
        }
       },
       "datasets": {
        "data-14af2c719777932de7be45f5a594bb10": [
         {
          "AR(t)": 0,
          "FR(t)": 0,
          "S(t)": 8,
          "T(t)": 8,
          "Week (t)": 1
         },
         {
          "AR(t)": 0,
          "FR(t)": 1,
          "S(t)": 15,
          "T(t)": 14,
          "Week (t)": 2
         },
         {
          "AR(t)": 0,
          "FR(t)": 2,
          "S(t)": 18,
          "T(t)": 16,
          "Week (t)": 3
         },
         {
          "AR(t)": 0,
          "FR(t)": 3,
          "S(t)": 35,
          "T(t)": 32,
          "Week (t)": 4
         },
         {
          "AR(t)": 0,
          "FR(t)": 7,
          "S(t)": 47,
          "T(t)": 40,
          "Week (t)": 5
         },
         {
          "AR(t)": 2,
          "FR(t)": 9,
          "S(t)": 58,
          "T(t)": 47,
          "Week (t)": 6
         },
         {
          "AR(t)": 3,
          "FR(t)": 12,
          "S(t)": 65,
          "T(t)": 50,
          "Week (t)": 7
         },
         {
          "AR(t)": 4,
          "FR(t)": 13,
          "S(t)": 69,
          "T(t)": 52,
          "Week (t)": 8
         },
         {
          "AR(t)": 7,
          "FR(t)": 17,
          "S(t)": 81,
          "T(t)": 57,
          "Week (t)": 9
         },
         {
          "AR(t)": 9,
          "FR(t)": 18,
          "S(t)": 87,
          "T(t)": 60,
          "Week (t)": 10
         },
         {
          "AR(t)": 13,
          "FR(t)": 22,
          "S(t)": 100,
          "T(t)": 65,
          "Week (t)": 11
         },
         {
          "AR(t)": 15,
          "FR(t)": 23,
          "S(t)": 105,
          "T(t)": 67,
          "Week (t)": 12
         },
         {
          "AR(t)": 16,
          "FR(t)": 23,
          "S(t)": 107,
          "T(t)": 68,
          "Week (t)": 13
         },
         {
          "AR(t)": 18,
          "FR(t)": 23,
          "S(t)": 113,
          "T(t)": 72,
          "Week (t)": 14
         },
         {
          "AR(t)": 19,
          "FR(t)": 23,
          "S(t)": 117,
          "T(t)": 75,
          "Week (t)": 15
         },
         {
          "AR(t)": 21,
          "FR(t)": 24,
          "S(t)": 126,
          "T(t)": 81,
          "Week (t)": 16
         },
         {
          "AR(t)": 26,
          "FR(t)": 24,
          "S(t)": 140,
          "T(t)": 90,
          "Week (t)": 17
         },
         {
          "AR(t)": 30,
          "FR(t)": 28,
          "S(t)": 152,
          "T(t)": 94,
          "Week (t)": 18
         },
         {
          "AR(t)": 32,
          "FR(t)": 32,
          "S(t)": 160,
          "T(t)": 96,
          "Week (t)": 19
         },
         {
          "AR(t)": 35,
          "FR(t)": 33,
          "S(t)": 164,
          "T(t)": 96,
          "Week (t)": 20
         },
         {
          "AR(t)": 38,
          "FR(t)": 33,
          "S(t)": 167,
          "T(t)": 96,
          "Week (t)": 21
         },
         {
          "AR(t)": 39,
          "FR(t)": 34,
          "S(t)": 170,
          "T(t)": 97,
          "Week (t)": 22
         },
         {
          "AR(t)": 40,
          "FR(t)": 35,
          "S(t)": 172,
          "T(t)": 97,
          "Week (t)": 23
         },
         {
          "AR(t)": 43,
          "FR(t)": 35,
          "S(t)": 179,
          "T(t)": 101,
          "Week (t)": 24
         },
         {
          "AR(t)": 43,
          "FR(t)": 35,
          "S(t)": 179,
          "T(t)": 101,
          "Week (t)": 25
         },
         {
          "AR(t)": 50,
          "FR(t)": 35,
          "S(t)": 186,
          "T(t)": 101,
          "Week (t)": 26
         },
         {
          "AR(t)": 53,
          "FR(t)": 37,
          "S(t)": 195,
          "T(t)": 105,
          "Week (t)": 27
         },
         {
          "AR(t)": 57,
          "FR(t)": 37,
          "S(t)": 200,
          "T(t)": 106,
          "Week (t)": 28
         },
         {
          "AR(t)": 60,
          "FR(t)": 37,
          "S(t)": 203,
          "T(t)": 106,
          "Week (t)": 29
         },
         {
          "AR(t)": 64,
          "FR(t)": 41,
          "S(t)": 223,
          "T(t)": 118,
          "Week (t)": 30
         },
         {
          "AR(t)": 65,
          "FR(t)": 41,
          "S(t)": 225,
          "T(t)": 119,
          "Week (t)": 31
         },
         {
          "AR(t)": 65,
          "FR(t)": 42,
          "S(t)": 226,
          "T(t)": 119,
          "Week (t)": 32
         },
         {
          "AR(t)": 67,
          "FR(t)": 43,
          "S(t)": 230,
          "T(t)": 120,
          "Week (t)": 33
         },
         {
          "AR(t)": 69,
          "FR(t)": 44,
          "S(t)": 236,
          "T(t)": 123,
          "Week (t)": 34
         },
         {
          "AR(t)": 72,
          "FR(t)": 45,
          "S(t)": 242,
          "T(t)": 125,
          "Week (t)": 35
         },
         {
          "AR(t)": 76,
          "FR(t)": 45,
          "S(t)": 246,
          "T(t)": 125,
          "Week (t)": 36
         },
         {
          "AR(t)": 80,
          "FR(t)": 45,
          "S(t)": 251,
          "T(t)": 126,
          "Week (t)": 37
         },
         {
          "AR(t)": 84,
          "FR(t)": 45,
          "S(t)": 256,
          "T(t)": 127,
          "Week (t)": 38
         },
         {
          "AR(t)": 84,
          "FR(t)": 45,
          "S(t)": 256,
          "T(t)": 127,
          "Week (t)": 39
         },
         {
          "AR(t)": 87,
          "FR(t)": 45,
          "S(t)": 259,
          "T(t)": 127,
          "Week (t)": 40
         },
         {
          "AR(t)": 87,
          "FR(t)": 45,
          "S(t)": 259,
          "T(t)": 127,
          "Week (t)": 41
         },
         {
          "AR(t)": 89,
          "FR(t)": 45,
          "S(t)": 262,
          "T(t)": 128,
          "Week (t)": 42
         },
         {
          "AR(t)": 89,
          "FR(t)": 45,
          "S(t)": 263,
          "T(t)": 129,
          "Week (t)": 43
         },
         {
          "AR(t)": 89,
          "FR(t)": 46,
          "S(t)": 264,
          "T(t)": 129,
          "Week (t)": 44
         },
         {
          "AR(t)": 93,
          "FR(t)": 46,
          "S(t)": 268,
          "T(t)": 129,
          "Week (t)": 45
         },
         {
          "AR(t)": 94,
          "FR(t)": 46,
          "S(t)": 270,
          "T(t)": 130,
          "Week (t)": 46
         },
         {
          "AR(t)": 98,
          "FR(t)": 47,
          "S(t)": 277,
          "T(t)": 132,
          "Week (t)": 47
         },
         {
          "AR(t)": 101,
          "FR(t)": 48,
          "S(t)": 282,
          "T(t)": 133,
          "Week (t)": 48
         },
         {
          "AR(t)": 105,
          "FR(t)": 48,
          "S(t)": 290,
          "T(t)": 137,
          "Week (t)": 49
         },
         {
          "AR(t)": 111,
          "FR(t)": 50,
          "S(t)": 298,
          "T(t)": 137,
          "Week (t)": 50
         },
         {
          "AR(t)": 112,
          "FR(t)": 51,
          "S(t)": 300,
          "T(t)": 137,
          "Week (t)": 51
         },
         {
          "AR(t)": 115,
          "FR(t)": 52,
          "S(t)": 306,
          "T(t)": 139,
          "Week (t)": 52
         }
        ],
        "data-2173fff1e0b894604edc491300fdb382": [
         {
          "FR(t)": 0,
          "Week (t)": 1
         },
         {
          "FR(t)": 1.0807477188183578,
          "Week (t)": 2
         },
         {
          "FR(t)": 2.7755127028074784,
          "Week (t)": 3
         },
         {
          "FR(t)": 4.794256123387435,
          "Week (t)": 4
         },
         {
          "FR(t)": 6.958065286440538,
          "Week (t)": 5
         },
         {
          "FR(t)": 9.157837170271094,
          "Week (t)": 6
         },
         {
          "FR(t)": 11.328247620607726,
          "Week (t)": 7
         },
         {
          "FR(t)": 13.431355726388151,
          "Week (t)": 8
         },
         {
          "FR(t)": 15.446281356338606,
          "Week (t)": 9
         },
         {
          "FR(t)": 17.362710402464803,
          "Week (t)": 10
         },
         {
          "FR(t)": 19.176812240775266,
          "Week (t)": 11
         },
         {
          "FR(t)": 20.888677128520406,
          "Week (t)": 12
         },
         {
          "FR(t)": 22.500711086869487,
          "Week (t)": 13
         },
         {
          "FR(t)": 24.01663374080656,
          "Week (t)": 14
         },
         {
          "FR(t)": 25.440855660622674,
          "Week (t)": 15
         },
         {
          "FR(t)": 26.778094375482837,
          "Week (t)": 16
         },
         {
          "FR(t)": 28.033140314971163,
          "Week (t)": 17
         },
         {
          "FR(t)": 29.210716767144852,
          "Week (t)": 18
         },
         {
          "FR(t)": 30.31539863736389,
          "Week (t)": 19
         },
         {
          "FR(t)": 31.351567836891455,
          "Week (t)": 20
         },
         {
          "FR(t)": 32.32339135188758,
          "Week (t)": 21
         },
         {
          "FR(t)": 33.23481322466044,
          "Week (t)": 22
         },
         {
          "FR(t)": 34.089554943717616,
          "Week (t)": 23
         },
         {
          "FR(t)": 34.891120795729364,
          "Week (t)": 24
         },
         {
          "FR(t)": 35.6428060275826,
          "Week (t)": 25
         },
         {
          "FR(t)": 36.347706481804124,
          "Week (t)": 26
         },
         {
          "FR(t)": 37.00872888124145,
          "Week (t)": 27
         },
         {
          "FR(t)": 37.62860126088423,
          "Week (t)": 28
         },
         {
          "FR(t)": 38.209883246612435,
          "Week (t)": 29
         },
         {
          "FR(t)": 38.7549760069213,
          "Week (t)": 30
         },
         {
          "FR(t)": 39.26613178231766,
          "Week (t)": 31
         },
         {
          "FR(t)": 39.74546294576592,
          "Week (t)": 32
         },
         {
          "FR(t)": 40.194950577414666,
          "Week (t)": 33
         },
         {
          "FR(t)": 40.61645255486802,
          "Week (t)": 34
         },
         {
          "FR(t)": 41.01171117089761,
          "Week (t)": 35
         },
         {
          "FR(t)": 41.38236029650147,
          "Week (t)": 36
         },
         {
          "FR(t)": 41.72993211035786,
          "Week (t)": 37
         },
         {
          "FR(t)": 42.055863417094955,
          "Week (t)": 38
         },
         {
          "FR(t)": 42.361501577092014,
          "Week (t)": 39
         },
         {
          "FR(t)": 42.64811007018082,
          "Week (t)": 40
         },
         {
          "FR(t)": 42.916873714894294,
          "Week (t)": 41
         },
         {
          "FR(t)": 43.168903563986476,
          "Week (t)": 42
         },
         {
          "FR(t)": 43.40524149592389,
          "Week (t)": 43
         },
         {
          "FR(t)": 43.62686452099075,
          "Week (t)": 44
         },
         {
          "FR(t)": 43.83468881959553,
          "Week (t)": 45
         },
         {
          "FR(t)": 44.02957352933849,
          "Week (t)": 46
         },
         {
          "FR(t)": 44.21232429641108,
          "Week (t)": 47
         },
         {
          "FR(t)": 44.383696605954725,
          "Week (t)": 48
         },
         {
          "FR(t)": 44.54439890511321,
          "Week (t)": 49
         },
         {
          "FR(t)": 44.69509553166771,
          "Week (t)": 50
         },
         {
          "FR(t)": 44.83640946034804,
          "Week (t)": 51
         },
         {
          "FR(t)": 44.968924878164984,
          "Week (t)": 52
         }
        ]
       },
       "height": 250,
       "layer": [
        {
         "data": {
          "name": "data-14af2c719777932de7be45f5a594bb10"
         },
         "encoding": {
          "color": {},
          "x": {
           "axis": {
            "labelExpr": "datum.value",
            "title": "Week",
            "values": [
             0,
             4,
             8,
             12,
             16,
             20,
             24,
             28,
             32,
             36,
             40,
             44,
             48,
             52
            ]
           },
           "field": "Week (t)",
           "scale": {
            "domain": [
             0,
             52
            ]
           },
           "type": "quantitative"
          },
          "y": {
           "field": "FR(t)",
           "scale": {},
           "title": "Cumulative FR Sales (# of Transactions)",
           "type": "quantitative"
          }
         },
         "mark": {
          "strokeDash": [
           1,
           0
          ],
          "strokeWidth": 2,
          "type": "line"
         }
        },
        {
         "data": {
          "name": "data-2173fff1e0b894604edc491300fdb382"
         },
         "encoding": {
          "color": {},
          "x": {
           "axis": {
            "labelExpr": "datum.value",
            "title": "Week",
            "values": [
             0,
             4,
             8,
             12,
             16,
             20,
             24,
             28,
             32,
             36,
             40,
             44,
             48,
             52
            ]
           },
           "field": "Week (t)",
           "scale": {
            "domain": [
             0,
             52
            ]
           },
           "type": "quantitative"
          },
          "y": {
           "field": "FR(t)",
           "scale": {},
           "title": "Cumulative FR Sales (# of Transactions)",
           "type": "quantitative"
          }
         },
         "mark": {
          "strokeDash": [
           5,
           3
          ],
          "strokeWidth": 2,
          "type": "line"
         }
        }
       ],
       "title": "Cumulative First Repeat Forecast",
       "width": 650
      },
      "text/plain": [
       "<VegaLite 5 object>\n",
       "\n",
       "If you see this message, it means the renderer has not been properly enabled\n",
       "for the frontend that you are using. For more information, see\n",
       "https://altair-viz.github.io/user_guide/display_frontends.html#troubleshooting\n"
      ]
     },
     "execution_count": 40,
     "metadata": {},
     "output_type": "execute_result"
    }
   ],
   "source": [
    "forecast_df = pl.DataFrame({\n",
    "    'Week (t)': t,\n",
    "    'FR(t)': repeat[:,0]\n",
    "})\n",
    "\n",
    "actual_fr_curve = (\n",
    "    ChartTemp(modified_cum_trans)\n",
    "    .line_encode('FR(t):Q', y_title='Cumulative FR Sales (# of Transactions)')\n",
    ")\n",
    "\n",
    "froecast_fr_curve = (\n",
    "    ChartTemp(forecast_df)\n",
    "    .line_encode('FR(t):Q', y_title='Cumulative FR Sales (# of Transactions)', dash=[5,3])\n",
    ")\n",
    "\n",
    "fr_chart = actual_fr_curve + froecast_fr_curve\n",
    "\n",
    "layered_line_prop(fr_chart, 'Cumulative First Repeat Forecast')"
   ]
  },
  {
   "cell_type": "code",
   "execution_count": 41,
   "metadata": {},
   "outputs": [
    {
     "data": {
      "text/markdown": [
       "First Repeat Forecast Index = **86**"
      ]
     },
     "metadata": {},
     "output_type": "display_data"
    }
   ],
   "source": [
    "fr_forecast_index = forecast_df.select('FR(t)').item(-1,0) / modified_cum_trans.select('FR(t)').item(-1,0) * 100\n",
    "\n",
    "display_markdown(f'''First Repeat Forecast Index = **{fr_forecast_index:0.0f}**''', raw=True)"
   ]
  },
  {
   "cell_type": "markdown",
   "metadata": {},
   "source": [
    "#### Forecasting Additional Repeat Transactions"
   ]
  },
  {
   "cell_type": "code",
   "execution_count": 97,
   "metadata": {},
   "outputs": [
    {
     "data": {
      "application/vnd.vegalite.v5+json": {
       "$schema": "https://vega.github.io/schema/vega-lite/v5.20.1.json",
       "config": {
        "axisX": {
         "grid": false
        },
        "axisY": {
         "grid": false
        },
        "view": {
         "continuousHeight": 300,
         "continuousWidth": 300,
         "stroke": null
        }
       },
       "data": {
        "name": "data-b5695179706b3d78752f038cacb9ffe0"
       },
       "datasets": {
        "data-b5695179706b3d78752f038cacb9ffe0": [
         {
          "AR(t)": 0,
          "FR(t)": 0,
          "S(t)": 8,
          "T(t)": 8,
          "Week (t)": 1
         },
         {
          "AR(t)": 0,
          "FR(t)": 1,
          "S(t)": 15,
          "T(t)": 14,
          "Week (t)": 2
         },
         {
          "AR(t)": 0,
          "FR(t)": 2,
          "S(t)": 18,
          "T(t)": 16,
          "Week (t)": 3
         },
         {
          "AR(t)": 0,
          "FR(t)": 3,
          "S(t)": 35,
          "T(t)": 32,
          "Week (t)": 4
         },
         {
          "AR(t)": 0,
          "FR(t)": 7,
          "S(t)": 47,
          "T(t)": 40,
          "Week (t)": 5
         },
         {
          "AR(t)": 2,
          "FR(t)": 9,
          "S(t)": 58,
          "T(t)": 47,
          "Week (t)": 6
         },
         {
          "AR(t)": 3,
          "FR(t)": 12,
          "S(t)": 65,
          "T(t)": 50,
          "Week (t)": 7
         },
         {
          "AR(t)": 4,
          "FR(t)": 13,
          "S(t)": 69,
          "T(t)": 52,
          "Week (t)": 8
         },
         {
          "AR(t)": 7,
          "FR(t)": 17,
          "S(t)": 81,
          "T(t)": 57,
          "Week (t)": 9
         },
         {
          "AR(t)": 9,
          "FR(t)": 18,
          "S(t)": 87,
          "T(t)": 60,
          "Week (t)": 10
         },
         {
          "AR(t)": 13,
          "FR(t)": 22,
          "S(t)": 100,
          "T(t)": 65,
          "Week (t)": 11
         },
         {
          "AR(t)": 15,
          "FR(t)": 23,
          "S(t)": 105,
          "T(t)": 67,
          "Week (t)": 12
         },
         {
          "AR(t)": 16,
          "FR(t)": 23,
          "S(t)": 107,
          "T(t)": 68,
          "Week (t)": 13
         },
         {
          "AR(t)": 18,
          "FR(t)": 23,
          "S(t)": 113,
          "T(t)": 72,
          "Week (t)": 14
         },
         {
          "AR(t)": 19,
          "FR(t)": 23,
          "S(t)": 117,
          "T(t)": 75,
          "Week (t)": 15
         },
         {
          "AR(t)": 21,
          "FR(t)": 24,
          "S(t)": 126,
          "T(t)": 81,
          "Week (t)": 16
         },
         {
          "AR(t)": 26,
          "FR(t)": 24,
          "S(t)": 140,
          "T(t)": 90,
          "Week (t)": 17
         },
         {
          "AR(t)": 30,
          "FR(t)": 28,
          "S(t)": 152,
          "T(t)": 94,
          "Week (t)": 18
         },
         {
          "AR(t)": 32,
          "FR(t)": 32,
          "S(t)": 160,
          "T(t)": 96,
          "Week (t)": 19
         },
         {
          "AR(t)": 35,
          "FR(t)": 33,
          "S(t)": 164,
          "T(t)": 96,
          "Week (t)": 20
         },
         {
          "AR(t)": 38,
          "FR(t)": 33,
          "S(t)": 167,
          "T(t)": 96,
          "Week (t)": 21
         },
         {
          "AR(t)": 39,
          "FR(t)": 34,
          "S(t)": 170,
          "T(t)": 97,
          "Week (t)": 22
         },
         {
          "AR(t)": 40,
          "FR(t)": 35,
          "S(t)": 172,
          "T(t)": 97,
          "Week (t)": 23
         },
         {
          "AR(t)": 43,
          "FR(t)": 35,
          "S(t)": 179,
          "T(t)": 101,
          "Week (t)": 24
         }
        ]
       },
       "encoding": {
        "color": {},
        "x": {
         "axis": {
          "labelExpr": "datum.value",
          "title": "Week",
          "values": [
           0,
           4,
           8,
           12,
           16,
           20,
           24,
           28,
           32,
           36,
           40,
           44,
           48,
           52
          ]
         },
         "field": "Week (t)",
         "scale": {
          "domain": [
           0,
           52
          ]
         },
         "type": "quantitative"
        },
        "y": {
         "field": "AR(t)",
         "scale": {
          "domain": [
           0,
           100
          ]
         },
         "title": "Cumulative AR Sales (# of Transactions)",
         "type": "quantitative"
        }
       },
       "height": 250,
       "mark": {
        "strokeDash": [
         1,
         0
        ],
        "strokeWidth": 2,
        "type": "line"
       },
       "title": "Actual Test-Market Cumulative Additional Repeat Sales",
       "width": 650
      },
      "text/plain": [
       "<VegaLite 5 object>\n",
       "\n",
       "If you see this message, it means the renderer has not been properly enabled\n",
       "for the frontend that you are using. For more information, see\n",
       "https://altair-viz.github.io/user_guide/display_frontends.html#troubleshooting\n"
      ]
     },
     "execution_count": 97,
     "metadata": {},
     "output_type": "execute_result"
    }
   ],
   "source": [
    "(\n",
    "    ChartTemp(modified_cum_trans.filter(pl.col('Week (t)')<=24))\n",
    "    .line_encode('AR(t):Q', y_scale=alt.Scale(domain=[0, 100]), y_title='Cumulative AR Sales (# of Transactions)')\n",
    "    .line_prop('Actual Test-Market Cumulative Additional Repeat Sales')\n",
    ")"
   ]
  },
  {
   "cell_type": "markdown",
   "metadata": {},
   "source": [
    "**Modelling Additional Repeat**:\n",
    "\n",
    "$$A R(t)= \\sum_{j\\ge2} R_{j}(t)$$\n",
    "\n",
    "where $R_{j}(t)$ is the cumulative number of individuals who have made at least $j$ repeat purchases by time $t$. How do we characterize $R_{j}(t)$, $j = 2, 3, \\ldots$?"
   ]
  },
  {
   "cell_type": "code",
   "execution_count": 106,
   "metadata": {},
   "outputs": [
    {
     "data": {
      "application/vnd.vegalite.v5+json": {
       "$schema": "https://vega.github.io/schema/vega-lite/v5.20.1.json",
       "config": {
        "axisX": {
         "grid": false
        },
        "axisY": {
         "grid": false
        },
        "view": {
         "continuousHeight": 300,
         "continuousWidth": 300,
         "stroke": null
        }
       },
       "data": {
        "name": "data-8cf367e19a5973de1b8b2e333d8b4de9"
       },
       "datasets": {
        "data-8cf367e19a5973de1b8b2e333d8b4de9": [
         {
          "0": 8,
          "1": 0,
          "2": 0,
          "3": 0,
          "4": 0,
          "5": 0,
          "6": 0,
          "7": 0,
          "8": 0,
          "9": 0,
          "10": 0,
          "11": 0,
          "shWeek": 1
         },
         {
          "0": 14,
          "1": 1,
          "2": 0,
          "3": 0,
          "4": 0,
          "5": 0,
          "6": 0,
          "7": 0,
          "8": 0,
          "9": 0,
          "10": 0,
          "11": 0,
          "shWeek": 2
         },
         {
          "0": 16,
          "1": 2,
          "2": 0,
          "3": 0,
          "4": 0,
          "5": 0,
          "6": 0,
          "7": 0,
          "8": 0,
          "9": 0,
          "10": 0,
          "11": 0,
          "shWeek": 3
         },
         {
          "0": 32,
          "1": 3,
          "2": 0,
          "3": 0,
          "4": 0,
          "5": 0,
          "6": 0,
          "7": 0,
          "8": 0,
          "9": 0,
          "10": 0,
          "11": 0,
          "shWeek": 4
         },
         {
          "0": 40,
          "1": 7,
          "2": 0,
          "3": 0,
          "4": 0,
          "5": 0,
          "6": 0,
          "7": 0,
          "8": 0,
          "9": 0,
          "10": 0,
          "11": 0,
          "shWeek": 5
         },
         {
          "0": 47,
          "1": 9,
          "2": 2,
          "3": 0,
          "4": 0,
          "5": 0,
          "6": 0,
          "7": 0,
          "8": 0,
          "9": 0,
          "10": 0,
          "11": 0,
          "shWeek": 6
         },
         {
          "0": 50,
          "1": 12,
          "2": 2,
          "3": 1,
          "4": 0,
          "5": 0,
          "6": 0,
          "7": 0,
          "8": 0,
          "9": 0,
          "10": 0,
          "11": 0,
          "shWeek": 7
         },
         {
          "0": 52,
          "1": 13,
          "2": 2,
          "3": 1,
          "4": 1,
          "5": 0,
          "6": 0,
          "7": 0,
          "8": 0,
          "9": 0,
          "10": 0,
          "11": 0,
          "shWeek": 8
         },
         {
          "0": 57,
          "1": 17,
          "2": 4,
          "3": 2,
          "4": 1,
          "5": 0,
          "6": 0,
          "7": 0,
          "8": 0,
          "9": 0,
          "10": 0,
          "11": 0,
          "shWeek": 9
         },
         {
          "0": 60,
          "1": 18,
          "2": 6,
          "3": 2,
          "4": 1,
          "5": 0,
          "6": 0,
          "7": 0,
          "8": 0,
          "9": 0,
          "10": 0,
          "11": 0,
          "shWeek": 10
         },
         {
          "0": 65,
          "1": 22,
          "2": 8,
          "3": 4,
          "4": 1,
          "5": 0,
          "6": 0,
          "7": 0,
          "8": 0,
          "9": 0,
          "10": 0,
          "11": 0,
          "shWeek": 11
         },
         {
          "0": 67,
          "1": 23,
          "2": 9,
          "3": 4,
          "4": 1,
          "5": 1,
          "6": 0,
          "7": 0,
          "8": 0,
          "9": 0,
          "10": 0,
          "11": 0,
          "shWeek": 12
         },
         {
          "0": 68,
          "1": 23,
          "2": 9,
          "3": 5,
          "4": 1,
          "5": 1,
          "6": 0,
          "7": 0,
          "8": 0,
          "9": 0,
          "10": 0,
          "11": 0,
          "shWeek": 13
         },
         {
          "0": 72,
          "1": 23,
          "2": 10,
          "3": 5,
          "4": 2,
          "5": 1,
          "6": 0,
          "7": 0,
          "8": 0,
          "9": 0,
          "10": 0,
          "11": 0,
          "shWeek": 14
         },
         {
          "0": 75,
          "1": 23,
          "2": 11,
          "3": 5,
          "4": 2,
          "5": 1,
          "6": 0,
          "7": 0,
          "8": 0,
          "9": 0,
          "10": 0,
          "11": 0,
          "shWeek": 15
         },
         {
          "0": 81,
          "1": 24,
          "2": 13,
          "3": 5,
          "4": 2,
          "5": 1,
          "6": 0,
          "7": 0,
          "8": 0,
          "9": 0,
          "10": 0,
          "11": 0,
          "shWeek": 16
         },
         {
          "0": 90,
          "1": 24,
          "2": 15,
          "3": 7,
          "4": 2,
          "5": 1,
          "6": 1,
          "7": 0,
          "8": 0,
          "9": 0,
          "10": 0,
          "11": 0,
          "shWeek": 17
         },
         {
          "0": 94,
          "1": 28,
          "2": 15,
          "3": 9,
          "4": 4,
          "5": 1,
          "6": 1,
          "7": 0,
          "8": 0,
          "9": 0,
          "10": 0,
          "11": 0,
          "shWeek": 18
         },
         {
          "0": 96,
          "1": 32,
          "2": 16,
          "3": 9,
          "4": 5,
          "5": 1,
          "6": 1,
          "7": 0,
          "8": 0,
          "9": 0,
          "10": 0,
          "11": 0,
          "shWeek": 19
         },
         {
          "0": 96,
          "1": 33,
          "2": 18,
          "3": 9,
          "4": 5,
          "5": 2,
          "6": 1,
          "7": 0,
          "8": 0,
          "9": 0,
          "10": 0,
          "11": 0,
          "shWeek": 20
         },
         {
          "0": 96,
          "1": 33,
          "2": 18,
          "3": 11,
          "4": 5,
          "5": 2,
          "6": 2,
          "7": 0,
          "8": 0,
          "9": 0,
          "10": 0,
          "11": 0,
          "shWeek": 21
         },
         {
          "0": 97,
          "1": 34,
          "2": 18,
          "3": 11,
          "4": 5,
          "5": 2,
          "6": 2,
          "7": 1,
          "8": 0,
          "9": 0,
          "10": 0,
          "11": 0,
          "shWeek": 22
         },
         {
          "0": 97,
          "1": 35,
          "2": 18,
          "3": 11,
          "4": 5,
          "5": 2,
          "6": 2,
          "7": 2,
          "8": 0,
          "9": 0,
          "10": 0,
          "11": 0,
          "shWeek": 23
         },
         {
          "0": 101,
          "1": 35,
          "2": 20,
          "3": 12,
          "4": 5,
          "5": 2,
          "6": 2,
          "7": 2,
          "8": 0,
          "9": 0,
          "10": 0,
          "11": 0,
          "shWeek": 24
         }
        ]
       },
       "encoding": {
        "color": {
         "field": "Type",
         "type": "nominal"
        },
        "x": {
         "axis": {
          "labelExpr": "datum.value",
          "title": "Week",
          "values": [
           0,
           4,
           8,
           12,
           16,
           20,
           24,
           28,
           32,
           36,
           40,
           44,
           48,
           52
          ]
         },
         "field": "shWeek",
         "scale": {
          "domain": [
           0,
           52
          ]
         },
         "type": "quantitative"
        },
        "y": {
         "field": "Cum DoR",
         "scale": {
          "domain": [
           0,
           40
          ]
         },
         "title": "Cumulative Sales (# transactions)",
         "type": "quantitative"
        }
       },
       "height": 250,
       "mark": {
        "strokeDash": [
         1,
         0
        ],
        "strokeWidth": 2,
        "type": "line"
       },
       "title": "Cumulative Sales by Depth of Repeat Level",
       "transform": [
        {
         "as": [
          "Type",
          "Cum DoR"
         ],
         "fold": [
          "2",
          "3",
          "4",
          "5",
          "6"
         ]
        }
       ],
       "width": 650
      },
      "text/plain": [
       "<VegaLite 5 object>\n",
       "\n",
       "If you see this message, it means the renderer has not been properly enabled\n",
       "for the frontend that you are using. For more information, see\n",
       "https://altair-viz.github.io/user_guide/display_frontends.html#troubleshooting\n"
      ]
     },
     "execution_count": 106,
     "metadata": {},
     "output_type": "execute_result"
    }
   ],
   "source": [
    "(\n",
    "    ChartTemp(sh_cum_trans_wideform.filter(pl.col('shWeek')<=24))\n",
    "    .transform_fold(['2', '3', '4', '5', '6'], as_=['Type', 'Cum DoR'])\n",
    "    .line_encode(y_col='Cum DoR:Q', y_title='Cumulative Sales (# transactions)', color='Type:N', x_col='shWeek', y_scale=alt.Scale(domain=[0, 40]))\n",
    "    .line_prop('Cumulative Sales by Depth of Repeat Level')\n",
    ")"
   ]
  },
  {
   "cell_type": "markdown",
   "metadata": {},
   "source": [
    "**Modelling Second Repeat**:\n",
    "\n",
    "How can an individual have made a second repeat purchase by the end of week 5?\n",
    "- she could have made her 1st repeat purchase in week 2 (which implies her trial purchase occurred in week 1) and made a 3rd purchase of the new product (i.e., her 2nd repeat purchase) somewhere in the intervening three weeks,\n",
    "- she could have made her 1st repeat purchase in week 3 and a 2nd repeat purchase sometime in the following two weeks, or\n",
    "- she could have made her 1st repeat purchase in week 4 and\n",
    "her 2nd repeat purchase sometime in the following week.\n",
    "\n",
    "$$R_{2}(t)=\\sum_{t_{1}=2}^{t-1} P\\left( \\text {second repeat by} t \\mid \\text {first repeat at } t_{1}\\right) \\times\\left[FR\\left(t_{1}\\right)-FR\\left(t_{1}-1\\right)\\right]$$\n",
    "\n",
    "where $FR(t_{1}) − FR(t_{1} − 1)$ is the number of individuals who made their first repeat purchase in week $t_{1}$.\n",
    "\n",
    "**Modelling Additional Repeat - General**:\n",
    "$$R_{j}(t)=\\sum_{t_{j-1}=j}^{t-1} P\\left(j \\text {th repeat by } t \\mid(j-1) \\text { th repeat at } t_{j-1}\\right) \\times\\left[R_{j-1}\\left(t_{j-1}\\right)-R_{j-1}\\left(t_{j-1}-1\\right)\\right]$$"
   ]
  },
  {
   "cell_type": "markdown",
   "metadata": {},
   "source": [
    "##### Additional Repeat Model Parameter Estimate"
   ]
  },
  {
   "cell_type": "code",
   "execution_count": 42,
   "metadata": {},
   "outputs": [],
   "source": [
    "def ar_model(ar, eligibles, weeks, j, guess=[0.5, 0.5, 0.5]):\n",
    "\n",
    "    def least_square(x):\n",
    "        p_inf, gamma, theta_AR = x[0], x[1], x[2]\n",
    "        t, t_0 = weeks, weeks.reshape(-1, 1)\n",
    "        \n",
    "        sse = np.zeros(len(j))\n",
    "\n",
    "        for i, DoR in enumerate(j):\n",
    "            p_j = p_inf * (1 - np.exp(-gamma * DoR))\n",
    "            p_ar = p_j * (1 - np.exp(-theta_AR * (t - t_0)))\n",
    "            p_ar = np.triu(p_ar)\n",
    "            p_ar[:DoR-1] = 0\n",
    "\n",
    "            pred_cum_ar = p_ar.T @ eligibles[i]\n",
    "            sse[i] = np.sum((pred_cum_ar - ar[i])**2)\n",
    "\n",
    "        return np.sum(sse)\n",
    "\n",
    "    return minimize(least_square, guess, bounds=[(0,np.inf),(0,np.inf),(0,np.inf)])"
   ]
  },
  {
   "cell_type": "code",
   "execution_count": 43,
   "metadata": {},
   "outputs": [
    {
     "data": {
      "text/markdown": [
       "$p_{\\infty}$ = 0.7816\n",
       "\n",
       "$\\gamma$ = 1.0014\n",
       "\n",
       "$\\theta_{AR}$ = 0.2309\n",
       "\n",
       "Sum of Square Errors = 51.1730"
      ]
     },
     "metadata": {},
     "output_type": "display_data"
    }
   ],
   "source": [
    "mod_cum_ar_trans = (\n",
    "    sh_cum_trans_wideform\n",
    "    .filter(pl.col('shWeek') <= 24)\n",
    "    .rename({'shWeek': 'Week'})\n",
    "    .select('1', '2', '3', '4', '5', 'Week')\n",
    "    .to_numpy().transpose()\n",
    ")\n",
    "\n",
    "eligibles = np.diff(mod_cum_ar_trans[:-2], prepend=0, axis=1)\n",
    "ar = mod_cum_ar_trans[1:-1]\n",
    "weeks = mod_cum_ar_trans[-1]\n",
    "j = np.arange(2, 6, 1)\n",
    "\n",
    "result = ar_model(ar, eligibles, weeks, j)\n",
    "p_inf, gamma, theta_AR, sse = result.x[0], result.x[1], result.x[2], result.fun\n",
    "\n",
    "# Additional Repeat Model Parameters\n",
    "display_markdown(f'''$p_{{\\\\infty}}$ = {p_inf:0.4f}\n",
    "\n",
    "$\\\\gamma$ = {gamma:0.4f}\n",
    "\n",
    "$\\\\theta_{{AR}}$ = {theta_AR:0.4f}\n",
    "\n",
    "Sum of Square Errors = {sse:0.4f}''', raw=True)"
   ]
  },
  {
   "cell_type": "markdown",
   "metadata": {},
   "source": [
    "##### Forecasting Additional Repeat Transactions"
   ]
  },
  {
   "cell_type": "markdown",
   "metadata": {},
   "source": [
    "To forecast additional repeat, we first compute second repeat (conditional on our forecast of first repeat), then compute third repeat (conditional on our forecast of second repeat), and so on. The code we use to accomplish this is basically the same as that for first repeat, embedded within a loop\n",
    "over depth-of-repeat levels. Given the assumption that a customer can have only one transaction per period, we could theoretically have up to 51 depth-of-repeat levels for a 52-week forecast horizon. Another consequence of this assumption is that the first week in which a $j$ th repeat purchase could occur is week $j+1$; this means $R_{j}(t)=0$ for $t \\leq j$."
   ]
  },
  {
   "cell_type": "code",
   "execution_count": 44,
   "metadata": {},
   "outputs": [],
   "source": [
    "j = np.arange(2, endwk, 1)\n",
    "p_j = p_inf * (1 - np.exp(-gamma * j))\n",
    "\n",
    "for DoR in j:\n",
    "    eligibles = np.diff(repeat[:,DoR-2], prepend=0)\n",
    "    p_ar = p_j[DoR-2] * (1 - np.exp(-theta_AR * (t - t_0)))\n",
    "    p_ar = np.triu(p_ar)\n",
    "    p_ar[:DoR-2] = 0\n",
    "    repeat[:,DoR-1] = p_ar.T @ eligibles"
   ]
  },
  {
   "cell_type": "markdown",
   "metadata": {},
   "source": [
    "#### Bringing It All Together"
   ]
  },
  {
   "cell_type": "code",
   "execution_count": 45,
   "metadata": {},
   "outputs": [
    {
     "data": {
      "text/markdown": [
       "Our forecast horizon is 52 weeks and we allow for up to 51 level of repeats.\n",
       "\n",
       "**Trial Model Parameters:**\n",
       "- $P_0$ = 0.0862\n",
       "- $\\theta_{T}$ = 0.0643\n",
       "\n",
       "**First Repeat Model Parameters:**\n",
       "- $P_1$ = 0.3635\n",
       "- $\\theta_{FR}$ = 0.4614\n",
       "\n",
       "**Additioanl Repeat Model Parameters:**\n",
       "- $p_{\\infty}$ = 0.7816\n",
       "- $\\gamma$ = 1.0014\n",
       "- $\\theta_{AR}$ = 0.2309"
      ]
     },
     "metadata": {},
     "output_type": "display_data"
    }
   ],
   "source": [
    "display_markdown(f'''Our forecast horizon is {endwk} weeks and we allow for up to {endwk-1} level of repeats.\n",
    "\n",
    "**Trial Model Parameters:**\n",
    "- $P_{0}$ = {p_0:0.4f}\n",
    "- $\\\\theta_{{T}}$ = {theta_T:0.4f}\n",
    "\n",
    "**First Repeat Model Parameters:**\n",
    "- $P_{1}$ = {p_1:0.4f}\n",
    "- $\\\\theta_{{FR}}$ = {theta_FR:0.4f}\n",
    "\n",
    "**Additioanl Repeat Model Parameters:**\n",
    "- $p_{{\\\\infty}}$ = {p_inf:0.4f}\n",
    "- $\\\\gamma$ = {gamma:0.4f}\n",
    "- $\\\\theta_{{AR}}$ = {theta_AR:0.4f}''', raw=True)"
   ]
  },
  {
   "cell_type": "markdown",
   "metadata": {},
   "source": [
    "We can now compute $A R(t)=R_{2}(t)+\\cdots+R_{52}(t)$, and print out our forecasts of $T(t), F R(t), A R(t)$, and $S(t)(=T(t)+F R(t)+A R(t))$."
   ]
  },
  {
   "cell_type": "code",
   "execution_count": 46,
   "metadata": {},
   "outputs": [
    {
     "data": {
      "text/html": [
       "<div><style>\n",
       ".dataframe > thead > tr,\n",
       ".dataframe > tbody > tr {\n",
       "  text-align: right;\n",
       "  white-space: pre-wrap;\n",
       "}\n",
       "</style>\n",
       "<small>shape: (52, 5)</small><table border=\"1\" class=\"dataframe\"><thead><tr><th>Week (t)</th><th>T(t)</th><th>FR(t)</th><th>AR(t)</th><th>S(t)</th></tr><tr><td>i64</td><td>f64</td><td>f64</td><td>f64</td><td>f64</td></tr></thead><tbody><tr><td>1</td><td>8.045171</td><td>0.0</td><td>0.0</td><td>8.045171</td></tr><tr><td>2</td><td>15.589432</td><td>1.080748</td><td>0.0</td><td>16.670179</td></tr><tr><td>3</td><td>22.663971</td><td>2.775513</td><td>0.150678</td><td>25.590161</td></tr><tr><td>4</td><td>29.298033</td><td>4.794256</td><td>0.529648</td><td>34.621938</td></tr><tr><td>5</td><td>35.519045</td><td>6.958065</td><td>1.170091</td><td>43.647202</td></tr><tr><td>&hellip;</td><td>&hellip;</td><td>&hellip;</td><td>&hellip;</td><td>&hellip;</td></tr><tr><td>48</td><td>123.309437</td><td>44.383697</td><td>96.082506</td><td>263.77564</td></tr><tr><td>49</td><td>123.677096</td><td>44.544399</td><td>97.625523</td><td>265.847018</td></tr><tr><td>50</td><td>124.021863</td><td>44.695096</td><td>99.119414</td><td>267.836373</td></tr><tr><td>51</td><td>124.345164</td><td>44.836409</td><td>100.565121</td><td>269.746694</td></tr><tr><td>52</td><td>124.648336</td><td>44.968925</td><td>101.963621</td><td>271.580882</td></tr></tbody></table></div>"
      ],
      "text/plain": [
       "shape: (52, 5)\n",
       "┌──────────┬────────────┬───────────┬────────────┬────────────┐\n",
       "│ Week (t) ┆ T(t)       ┆ FR(t)     ┆ AR(t)      ┆ S(t)       │\n",
       "│ ---      ┆ ---        ┆ ---       ┆ ---        ┆ ---        │\n",
       "│ i64      ┆ f64        ┆ f64       ┆ f64        ┆ f64        │\n",
       "╞══════════╪════════════╪═══════════╪════════════╪════════════╡\n",
       "│ 1        ┆ 8.045171   ┆ 0.0       ┆ 0.0        ┆ 8.045171   │\n",
       "│ 2        ┆ 15.589432  ┆ 1.080748  ┆ 0.0        ┆ 16.670179  │\n",
       "│ 3        ┆ 22.663971  ┆ 2.775513  ┆ 0.150678   ┆ 25.590161  │\n",
       "│ 4        ┆ 29.298033  ┆ 4.794256  ┆ 0.529648   ┆ 34.621938  │\n",
       "│ 5        ┆ 35.519045  ┆ 6.958065  ┆ 1.170091   ┆ 43.647202  │\n",
       "│ …        ┆ …          ┆ …         ┆ …          ┆ …          │\n",
       "│ 48       ┆ 123.309437 ┆ 44.383697 ┆ 96.082506  ┆ 263.77564  │\n",
       "│ 49       ┆ 123.677096 ┆ 44.544399 ┆ 97.625523  ┆ 265.847018 │\n",
       "│ 50       ┆ 124.021863 ┆ 44.695096 ┆ 99.119414  ┆ 267.836373 │\n",
       "│ 51       ┆ 124.345164 ┆ 44.836409 ┆ 100.565121 ┆ 269.746694 │\n",
       "│ 52       ┆ 124.648336 ┆ 44.968925 ┆ 101.963621 ┆ 271.580882 │\n",
       "└──────────┴────────────┴───────────┴────────────┴────────────┘"
      ]
     },
     "execution_count": 46,
     "metadata": {},
     "output_type": "execute_result"
    }
   ],
   "source": [
    "ar = np.sum(repeat[:,1:], axis=1)\n",
    "totals = cum_trial + np.sum(repeat, axis=1)\n",
    "\n",
    "forecast_df = pl.DataFrame({\n",
    "    'Week (t)': t,\n",
    "    'T(t)': cum_trial,\n",
    "    'FR(t)': repeat[:,0],\n",
    "    'AR(t)': ar,\n",
    "    'S(t)': totals\n",
    "})\n",
    "\n",
    "forecast_df"
   ]
  },
  {
   "cell_type": "code",
   "execution_count": 47,
   "metadata": {},
   "outputs": [
    {
     "data": {
      "application/vnd.vegalite.v5+json": {
       "$schema": "https://vega.github.io/schema/vega-lite/v5.20.1.json",
       "config": {
        "axisX": {
         "grid": false
        },
        "axisY": {
         "grid": false
        },
        "view": {
         "continuousHeight": 300,
         "continuousWidth": 300,
         "stroke": null
        }
       },
       "data": {
        "name": "data-22c37758e9690805f764c611f915850d"
       },
       "datasets": {
        "data-22c37758e9690805f764c611f915850d": [
         {
          "AR(t)": 0,
          "FR(t)": 0,
          "S(t)": 8.045170662398805,
          "T(t)": 8.045170662398805,
          "Week (t)": 1
         },
         {
          "AR(t)": 0,
          "FR(t)": 1.0807477188183578,
          "S(t)": 16.670179310484322,
          "T(t)": 15.589431591665965,
          "Week (t)": 2
         },
         {
          "AR(t)": 0.15067761076884398,
          "FR(t)": 2.7755127028074784,
          "S(t)": 25.590160825203057,
          "T(t)": 22.663970511626736,
          "Week (t)": 3
         },
         {
          "AR(t)": 0.5296483790710513,
          "FR(t)": 4.794256123387435,
          "S(t)": 34.621937833397254,
          "T(t)": 29.29803333093877,
          "Week (t)": 4
         },
         {
          "AR(t)": 1.1700913412088272,
          "FR(t)": 6.958065286440538,
          "S(t)": 43.64720167235538,
          "T(t)": 35.51904504470602,
          "Week (t)": 5
         },
         {
          "AR(t)": 2.078642138582815,
          "FR(t)": 9.157837170271094,
          "S(t)": 52.58920241735052,
          "T(t)": 41.35272310849661,
          "Week (t)": 6
         },
         {
          "AR(t)": 3.246536305993867,
          "FR(t)": 11.328247620607726,
          "S(t)": 61.3979676800506,
          "T(t)": 46.82318375344901,
          "Week (t)": 7
         },
         {
          "AR(t)": 4.656511473187941,
          "FR(t)": 13.431355726388151,
          "S(t)": 70.0409088815457,
          "T(t)": 51.95304168196961,
          "Week (t)": 8
         },
         {
          "AR(t)": 6.287048344311227,
          "FR(t)": 15.446281356338606,
          "S(t)": 78.49683325681043,
          "T(t)": 56.7635035561606,
          "Week (t)": 9
         },
         {
          "AR(t)": 8.114944973204953,
          "FR(t)": 17.362710402464803,
          "S(t)": 86.75211104112563,
          "T(t)": 61.27445566545588,
          "Week (t)": 10
         },
         {
          "AR(t)": 10.116850036056611,
          "FR(t)": 19.176812240775266,
          "S(t)": 94.7982084127122,
          "T(t)": 65.50454613588032,
          "Week (t)": 11
         },
         {
          "AR(t)": 12.270148461132516,
          "FR(t)": 20.888677128520406,
          "S(t)": 102.63008761043568,
          "T(t)": 69.47126202078276,
          "Week (t)": 12
         },
         {
          "AR(t)": 14.553446444775632,
          "FR(t)": 22.500711086869487,
          "S(t)": 110.24515912337814,
          "T(t)": 73.19100159173303,
          "Week (t)": 13
         },
         {
          "AR(t)": 16.94681075468064,
          "FR(t)": 24.01663374080656,
          "S(t)": 117.6425866239185,
          "T(t)": 76.6791421284313,
          "Week (t)": 14
         },
         {
          "AR(t)": 19.43185924610388,
          "FR(t)": 25.440855660622674,
          "S(t)": 124.8228183945977,
          "T(t)": 79.95010348787116,
          "Week (t)": 15
         },
         {
          "AR(t)": 21.991763057260194,
          "FR(t)": 26.778094375482837,
          "S(t)": 131.78726514829197,
          "T(t)": 83.01740771554891,
          "Week (t)": 16
         },
         {
          "AR(t)": 24.611198042441348,
          "FR(t)": 28.033140314971163,
          "S(t)": 138.53807330256245,
          "T(t)": 85.89373494514993,
          "Week (t)": 17
         },
         {
          "AR(t)": 27.276268626416403,
          "FR(t)": 29.210716767144852,
          "S(t)": 145.07796121136113,
          "T(t)": 88.59097581779987,
          "Week (t)": 18
         },
         {
          "AR(t)": 29.97441825896961,
          "FR(t)": 30.31539863736389,
          "S(t)": 151.41009753391307,
          "T(t)": 91.12028063757957,
          "Week (t)": 19
         },
         {
          "AR(t)": 32.69433502162548,
          "FR(t)": 31.351567836891455,
          "S(t)": 157.53800832502827,
          "T(t)": 93.49210546651133,
          "Week (t)": 20
         },
         {
          "AR(t)": 35.425857434779786,
          "FR(t)": 32.32339135188758,
          "S(t)": 163.4655041362392,
          "T(t)": 95.71625534957181,
          "Week (t)": 21
         },
         {
          "AR(t)": 38.1598833424053,
          "FR(t)": 33.23481322466044,
          "S(t)": 169.1966214154874,
          "T(t)": 97.80192484842169,
          "Week (t)": 22
         },
         {
          "AR(t)": 40.888283415868244,
          "FR(t)": 34.089554943717616,
          "S(t)": 174.73557441100394,
          "T(t)": 99.75773605141806,
          "Week (t)": 23
         },
         {
          "AR(t)": 43.60382000530064,
          "FR(t)": 34.891120795729364,
          "S(t)": 180.0867150180709,
          "T(t)": 101.5917742170409,
          "Week (t)": 24
         },
         {
          "AR(t)": 46.30007157975065,
          "FR(t)": 35.6428060275826,
          "S(t)": 185.254498805416,
          "T(t)": 103.31162119808276,
          "Week (t)": 25
         },
         {
          "AR(t)": 48.97136271247974,
          "FR(t)": 36.347706481804124,
          "S(t)": 190.24345597906003,
          "T(t)": 104.92438678477617,
          "Week (t)": 26
         },
         {
          "AR(t)": 51.61269940784778,
          "FR(t)": 37.00872888124145,
          "S(t)": 195.05816638551923,
          "T(t)": 106.43673809642999,
          "Week (t)": 27
         },
         {
          "AR(t)": 54.21970948276136,
          "FR(t)": 37.62860126088423,
          "S(t)": 199.7032378867246,
          "T(t)": 107.85492714307901,
          "Week (t)": 28
         },
         {
          "AR(t)": 56.78858767840293,
          "FR(t)": 38.209883246612435,
          "S(t)": 204.1832875961008,
          "T(t)": 109.18481667108543,
          "Week (t)": 29
         },
         {
          "AR(t)": 59.31604516810116,
          "FR(t)": 38.7549760069213,
          "S(t)": 208.50292557455998,
          "T(t)": 110.43190439953753,
          "Week (t)": 30
         },
         {
          "AR(t)": 61.79926313310825,
          "FR(t)": 39.26613178231766,
          "S(t)": 212.66674066306336,
          "T(t)": 111.60134574763747,
          "Week (t)": 31
         },
         {
          "AR(t)": 64.23585009257529,
          "FR(t)": 39.74546294576592,
          "S(t)": 216.67928818537408,
          "T(t)": 112.69797514703285,
          "Week (t)": 32
         },
         {
          "AR(t)": 66.62380269282517,
          "FR(t)": 40.194950577414666,
          "S(t)": 220.5450792974363,
          "T(t)": 113.72632602719648,
          "Week (t)": 33
         },
         {
          "AR(t)": 68.96146968151714,
          "FR(t)": 40.61645255486802,
          "S(t)": 224.26857179285813,
          "T(t)": 114.69064955647295,
          "Week (t)": 34
         },
         {
          "AR(t)": 71.247518812972,
          "FR(t)": 41.01171117089761,
          "S(t)": 227.8541622001369,
          "T(t)": 115.59493221626728,
          "Week (t)": 35
         },
         {
          "AR(t)": 73.48090645092859,
          "FR(t)": 41.38236029650147,
          "S(t)": 231.3061790284566,
          "T(t)": 116.44291228102657,
          "Week (t)": 36
         },
         {
          "AR(t)": 75.66084965389494,
          "FR(t)": 41.72993211035786,
          "S(t)": 234.62887703639484,
          "T(t)": 117.23809527214203,
          "Week (t)": 37
         },
         {
          "AR(t)": 77.78680054583727,
          "FR(t)": 42.055863417094955,
          "S(t)": 237.82643241259035,
          "T(t)": 117.98376844965813,
          "Week (t)": 38
         },
         {
          "AR(t)": 79.85842279116358,
          "FR(t)": 42.361501577092014,
          "S(t)": 240.90293876995173,
          "T(t)": 118.68301440169613,
          "Week (t)": 39
         },
         {
          "AR(t)": 81.87557000783045,
          "FR(t)": 42.64811007018082,
          "S(t)": 243.8624038657822,
          "T(t)": 119.33872378777093,
          "Week (t)": 40
         },
         {
          "AR(t)": 83.83826596599914,
          "FR(t)": 42.916873714894294,
          "S(t)": 246.7087469695748,
          "T(t)": 119.95360728868138,
          "Week (t)": 41
         },
         {
          "AR(t)": 85.74668643208062,
          "FR(t)": 43.168903563986476,
          "S(t)": 249.44579680844166,
          "T(t)": 120.53020681237459,
          "Week (t)": 42
         },
         {
          "AR(t)": 87.60114252933326,
          "FR(t)": 43.40524149592389,
          "S(t)": 252.077290027366,
          "T(t)": 121.07090600210884,
          "Week (t)": 43
         },
         {
          "AR(t)": 89.40206549651089,
          "FR(t)": 43.62686452099075,
          "S(t)": 254.60687010785716,
          "T(t)": 121.57794009035554,
          "Week (t)": 44
         },
         {
          "AR(t)": 91.14999273549043,
          "FR(t)": 43.83468881959553,
          "S(t)": 257.0380866942619,
          "T(t)": 122.05340513917596,
          "Week (t)": 45
         },
         {
          "AR(t)": 92.84555504742572,
          "FR(t)": 44.02957352933849,
          "S(t)": 259.37439528203635,
          "T(t)": 122.49926670527213,
          "Week (t)": 46
         },
         {
          "AR(t)": 94.48946496485428,
          "FR(t)": 44.21232429641108,
          "S(t)": 261.61915722679817,
          "T(t)": 122.9173679655328,
          "Week (t)": 47
         },
         {
          "AR(t)": 96.08250609439617,
          "FR(t)": 44.383696605954725,
          "S(t)": 263.7756400370164,
          "T(t)": 123.30943733666551,
          "Week (t)": 48
         },
         {
          "AR(t)": 97.62552339129493,
          "FR(t)": 44.54439890511321,
          "S(t)": 265.84701791682187,
          "T(t)": 123.67709562041371,
          "Week (t)": 49
         },
         {
          "AR(t)": 99.11941429311315,
          "FR(t)": 44.69509553166771,
          "S(t)": 267.83637252867817,
          "T(t)": 124.02186270389728,
          "Week (t)": 50
         },
         {
          "AR(t)": 100.56512064546341,
          "FR(t)": 44.83640946034804,
          "S(t)": 269.7466939485868,
          "T(t)": 124.34516384277542,
          "Week (t)": 51
         },
         {
          "AR(t)": 101.96362135777414,
          "FR(t)": 44.968924878164984,
          "S(t)": 271.58088178914517,
          "T(t)": 124.64833555320605,
          "Week (t)": 52
         }
        ]
       },
       "encoding": {
        "color": {
         "field": "Type",
         "type": "nominal"
        },
        "x": {
         "axis": {
          "labelExpr": "datum.value",
          "title": "Week",
          "values": [
           0,
           4,
           8,
           12,
           16,
           20,
           24,
           28,
           32,
           36,
           40,
           44,
           48,
           52
          ]
         },
         "field": "Week (t)",
         "scale": {
          "domain": [
           0,
           52
          ]
         },
         "type": "quantitative"
        },
        "y": {
         "field": "Cum DoR",
         "scale": {},
         "title": "Cumulative Sales (# Transactions)",
         "type": "quantitative"
        }
       },
       "height": 250,
       "mark": {
        "strokeDash": [
         5,
         3
        ],
        "strokeWidth": 2,
        "type": "line"
       },
       "title": "Overall Sales Forecast for the Extended Model",
       "transform": [
        {
         "as": [
          "Type",
          "Cum DoR"
         ],
         "fold": [
          "T(t)",
          "FR(t)",
          "AR(t)",
          "S(t)"
         ]
        }
       ],
       "width": 650
      },
      "text/plain": [
       "<VegaLite 5 object>\n",
       "\n",
       "If you see this message, it means the renderer has not been properly enabled\n",
       "for the frontend that you are using. For more information, see\n",
       "https://altair-viz.github.io/user_guide/display_frontends.html#troubleshooting\n"
      ]
     },
     "execution_count": 47,
     "metadata": {},
     "output_type": "execute_result"
    }
   ],
   "source": [
    "forecasted_curve = (\n",
    "    ChartTemp(forecast_df)\n",
    "    .transform_fold(['T(t)', 'FR(t)', 'AR(t)', 'S(t)'], as_=['Type', 'Cum DoR'])\n",
    "    .line_encode(y_col='Cum DoR:Q', dash=[5,3], color='Type:N')\n",
    ")\n",
    "\n",
    "forecasted_curve.line_prop('Overall Sales Forecast for the Extended Model')"
   ]
  },
  {
   "cell_type": "code",
   "execution_count": 48,
   "metadata": {},
   "outputs": [
    {
     "data": {
      "application/vnd.vegalite.v5+json": {
       "$schema": "https://vega.github.io/schema/vega-lite/v5.20.1.json",
       "config": {
        "axisX": {
         "grid": false
        },
        "axisY": {
         "grid": false
        },
        "view": {
         "continuousHeight": 300,
         "continuousWidth": 300,
         "stroke": null
        }
       },
       "datasets": {
        "data-14af2c719777932de7be45f5a594bb10": [
         {
          "AR(t)": 0,
          "FR(t)": 0,
          "S(t)": 8,
          "T(t)": 8,
          "Week (t)": 1
         },
         {
          "AR(t)": 0,
          "FR(t)": 1,
          "S(t)": 15,
          "T(t)": 14,
          "Week (t)": 2
         },
         {
          "AR(t)": 0,
          "FR(t)": 2,
          "S(t)": 18,
          "T(t)": 16,
          "Week (t)": 3
         },
         {
          "AR(t)": 0,
          "FR(t)": 3,
          "S(t)": 35,
          "T(t)": 32,
          "Week (t)": 4
         },
         {
          "AR(t)": 0,
          "FR(t)": 7,
          "S(t)": 47,
          "T(t)": 40,
          "Week (t)": 5
         },
         {
          "AR(t)": 2,
          "FR(t)": 9,
          "S(t)": 58,
          "T(t)": 47,
          "Week (t)": 6
         },
         {
          "AR(t)": 3,
          "FR(t)": 12,
          "S(t)": 65,
          "T(t)": 50,
          "Week (t)": 7
         },
         {
          "AR(t)": 4,
          "FR(t)": 13,
          "S(t)": 69,
          "T(t)": 52,
          "Week (t)": 8
         },
         {
          "AR(t)": 7,
          "FR(t)": 17,
          "S(t)": 81,
          "T(t)": 57,
          "Week (t)": 9
         },
         {
          "AR(t)": 9,
          "FR(t)": 18,
          "S(t)": 87,
          "T(t)": 60,
          "Week (t)": 10
         },
         {
          "AR(t)": 13,
          "FR(t)": 22,
          "S(t)": 100,
          "T(t)": 65,
          "Week (t)": 11
         },
         {
          "AR(t)": 15,
          "FR(t)": 23,
          "S(t)": 105,
          "T(t)": 67,
          "Week (t)": 12
         },
         {
          "AR(t)": 16,
          "FR(t)": 23,
          "S(t)": 107,
          "T(t)": 68,
          "Week (t)": 13
         },
         {
          "AR(t)": 18,
          "FR(t)": 23,
          "S(t)": 113,
          "T(t)": 72,
          "Week (t)": 14
         },
         {
          "AR(t)": 19,
          "FR(t)": 23,
          "S(t)": 117,
          "T(t)": 75,
          "Week (t)": 15
         },
         {
          "AR(t)": 21,
          "FR(t)": 24,
          "S(t)": 126,
          "T(t)": 81,
          "Week (t)": 16
         },
         {
          "AR(t)": 26,
          "FR(t)": 24,
          "S(t)": 140,
          "T(t)": 90,
          "Week (t)": 17
         },
         {
          "AR(t)": 30,
          "FR(t)": 28,
          "S(t)": 152,
          "T(t)": 94,
          "Week (t)": 18
         },
         {
          "AR(t)": 32,
          "FR(t)": 32,
          "S(t)": 160,
          "T(t)": 96,
          "Week (t)": 19
         },
         {
          "AR(t)": 35,
          "FR(t)": 33,
          "S(t)": 164,
          "T(t)": 96,
          "Week (t)": 20
         },
         {
          "AR(t)": 38,
          "FR(t)": 33,
          "S(t)": 167,
          "T(t)": 96,
          "Week (t)": 21
         },
         {
          "AR(t)": 39,
          "FR(t)": 34,
          "S(t)": 170,
          "T(t)": 97,
          "Week (t)": 22
         },
         {
          "AR(t)": 40,
          "FR(t)": 35,
          "S(t)": 172,
          "T(t)": 97,
          "Week (t)": 23
         },
         {
          "AR(t)": 43,
          "FR(t)": 35,
          "S(t)": 179,
          "T(t)": 101,
          "Week (t)": 24
         },
         {
          "AR(t)": 43,
          "FR(t)": 35,
          "S(t)": 179,
          "T(t)": 101,
          "Week (t)": 25
         },
         {
          "AR(t)": 50,
          "FR(t)": 35,
          "S(t)": 186,
          "T(t)": 101,
          "Week (t)": 26
         },
         {
          "AR(t)": 53,
          "FR(t)": 37,
          "S(t)": 195,
          "T(t)": 105,
          "Week (t)": 27
         },
         {
          "AR(t)": 57,
          "FR(t)": 37,
          "S(t)": 200,
          "T(t)": 106,
          "Week (t)": 28
         },
         {
          "AR(t)": 60,
          "FR(t)": 37,
          "S(t)": 203,
          "T(t)": 106,
          "Week (t)": 29
         },
         {
          "AR(t)": 64,
          "FR(t)": 41,
          "S(t)": 223,
          "T(t)": 118,
          "Week (t)": 30
         },
         {
          "AR(t)": 65,
          "FR(t)": 41,
          "S(t)": 225,
          "T(t)": 119,
          "Week (t)": 31
         },
         {
          "AR(t)": 65,
          "FR(t)": 42,
          "S(t)": 226,
          "T(t)": 119,
          "Week (t)": 32
         },
         {
          "AR(t)": 67,
          "FR(t)": 43,
          "S(t)": 230,
          "T(t)": 120,
          "Week (t)": 33
         },
         {
          "AR(t)": 69,
          "FR(t)": 44,
          "S(t)": 236,
          "T(t)": 123,
          "Week (t)": 34
         },
         {
          "AR(t)": 72,
          "FR(t)": 45,
          "S(t)": 242,
          "T(t)": 125,
          "Week (t)": 35
         },
         {
          "AR(t)": 76,
          "FR(t)": 45,
          "S(t)": 246,
          "T(t)": 125,
          "Week (t)": 36
         },
         {
          "AR(t)": 80,
          "FR(t)": 45,
          "S(t)": 251,
          "T(t)": 126,
          "Week (t)": 37
         },
         {
          "AR(t)": 84,
          "FR(t)": 45,
          "S(t)": 256,
          "T(t)": 127,
          "Week (t)": 38
         },
         {
          "AR(t)": 84,
          "FR(t)": 45,
          "S(t)": 256,
          "T(t)": 127,
          "Week (t)": 39
         },
         {
          "AR(t)": 87,
          "FR(t)": 45,
          "S(t)": 259,
          "T(t)": 127,
          "Week (t)": 40
         },
         {
          "AR(t)": 87,
          "FR(t)": 45,
          "S(t)": 259,
          "T(t)": 127,
          "Week (t)": 41
         },
         {
          "AR(t)": 89,
          "FR(t)": 45,
          "S(t)": 262,
          "T(t)": 128,
          "Week (t)": 42
         },
         {
          "AR(t)": 89,
          "FR(t)": 45,
          "S(t)": 263,
          "T(t)": 129,
          "Week (t)": 43
         },
         {
          "AR(t)": 89,
          "FR(t)": 46,
          "S(t)": 264,
          "T(t)": 129,
          "Week (t)": 44
         },
         {
          "AR(t)": 93,
          "FR(t)": 46,
          "S(t)": 268,
          "T(t)": 129,
          "Week (t)": 45
         },
         {
          "AR(t)": 94,
          "FR(t)": 46,
          "S(t)": 270,
          "T(t)": 130,
          "Week (t)": 46
         },
         {
          "AR(t)": 98,
          "FR(t)": 47,
          "S(t)": 277,
          "T(t)": 132,
          "Week (t)": 47
         },
         {
          "AR(t)": 101,
          "FR(t)": 48,
          "S(t)": 282,
          "T(t)": 133,
          "Week (t)": 48
         },
         {
          "AR(t)": 105,
          "FR(t)": 48,
          "S(t)": 290,
          "T(t)": 137,
          "Week (t)": 49
         },
         {
          "AR(t)": 111,
          "FR(t)": 50,
          "S(t)": 298,
          "T(t)": 137,
          "Week (t)": 50
         },
         {
          "AR(t)": 112,
          "FR(t)": 51,
          "S(t)": 300,
          "T(t)": 137,
          "Week (t)": 51
         },
         {
          "AR(t)": 115,
          "FR(t)": 52,
          "S(t)": 306,
          "T(t)": 139,
          "Week (t)": 52
         }
        ],
        "data-22c37758e9690805f764c611f915850d": [
         {
          "AR(t)": 0,
          "FR(t)": 0,
          "S(t)": 8.045170662398805,
          "T(t)": 8.045170662398805,
          "Week (t)": 1
         },
         {
          "AR(t)": 0,
          "FR(t)": 1.0807477188183578,
          "S(t)": 16.670179310484322,
          "T(t)": 15.589431591665965,
          "Week (t)": 2
         },
         {
          "AR(t)": 0.15067761076884398,
          "FR(t)": 2.7755127028074784,
          "S(t)": 25.590160825203057,
          "T(t)": 22.663970511626736,
          "Week (t)": 3
         },
         {
          "AR(t)": 0.5296483790710513,
          "FR(t)": 4.794256123387435,
          "S(t)": 34.621937833397254,
          "T(t)": 29.29803333093877,
          "Week (t)": 4
         },
         {
          "AR(t)": 1.1700913412088272,
          "FR(t)": 6.958065286440538,
          "S(t)": 43.64720167235538,
          "T(t)": 35.51904504470602,
          "Week (t)": 5
         },
         {
          "AR(t)": 2.078642138582815,
          "FR(t)": 9.157837170271094,
          "S(t)": 52.58920241735052,
          "T(t)": 41.35272310849661,
          "Week (t)": 6
         },
         {
          "AR(t)": 3.246536305993867,
          "FR(t)": 11.328247620607726,
          "S(t)": 61.3979676800506,
          "T(t)": 46.82318375344901,
          "Week (t)": 7
         },
         {
          "AR(t)": 4.656511473187941,
          "FR(t)": 13.431355726388151,
          "S(t)": 70.0409088815457,
          "T(t)": 51.95304168196961,
          "Week (t)": 8
         },
         {
          "AR(t)": 6.287048344311227,
          "FR(t)": 15.446281356338606,
          "S(t)": 78.49683325681043,
          "T(t)": 56.7635035561606,
          "Week (t)": 9
         },
         {
          "AR(t)": 8.114944973204953,
          "FR(t)": 17.362710402464803,
          "S(t)": 86.75211104112563,
          "T(t)": 61.27445566545588,
          "Week (t)": 10
         },
         {
          "AR(t)": 10.116850036056611,
          "FR(t)": 19.176812240775266,
          "S(t)": 94.7982084127122,
          "T(t)": 65.50454613588032,
          "Week (t)": 11
         },
         {
          "AR(t)": 12.270148461132516,
          "FR(t)": 20.888677128520406,
          "S(t)": 102.63008761043568,
          "T(t)": 69.47126202078276,
          "Week (t)": 12
         },
         {
          "AR(t)": 14.553446444775632,
          "FR(t)": 22.500711086869487,
          "S(t)": 110.24515912337814,
          "T(t)": 73.19100159173303,
          "Week (t)": 13
         },
         {
          "AR(t)": 16.94681075468064,
          "FR(t)": 24.01663374080656,
          "S(t)": 117.6425866239185,
          "T(t)": 76.6791421284313,
          "Week (t)": 14
         },
         {
          "AR(t)": 19.43185924610388,
          "FR(t)": 25.440855660622674,
          "S(t)": 124.8228183945977,
          "T(t)": 79.95010348787116,
          "Week (t)": 15
         },
         {
          "AR(t)": 21.991763057260194,
          "FR(t)": 26.778094375482837,
          "S(t)": 131.78726514829197,
          "T(t)": 83.01740771554891,
          "Week (t)": 16
         },
         {
          "AR(t)": 24.611198042441348,
          "FR(t)": 28.033140314971163,
          "S(t)": 138.53807330256245,
          "T(t)": 85.89373494514993,
          "Week (t)": 17
         },
         {
          "AR(t)": 27.276268626416403,
          "FR(t)": 29.210716767144852,
          "S(t)": 145.07796121136113,
          "T(t)": 88.59097581779987,
          "Week (t)": 18
         },
         {
          "AR(t)": 29.97441825896961,
          "FR(t)": 30.31539863736389,
          "S(t)": 151.41009753391307,
          "T(t)": 91.12028063757957,
          "Week (t)": 19
         },
         {
          "AR(t)": 32.69433502162548,
          "FR(t)": 31.351567836891455,
          "S(t)": 157.53800832502827,
          "T(t)": 93.49210546651133,
          "Week (t)": 20
         },
         {
          "AR(t)": 35.425857434779786,
          "FR(t)": 32.32339135188758,
          "S(t)": 163.4655041362392,
          "T(t)": 95.71625534957181,
          "Week (t)": 21
         },
         {
          "AR(t)": 38.1598833424053,
          "FR(t)": 33.23481322466044,
          "S(t)": 169.1966214154874,
          "T(t)": 97.80192484842169,
          "Week (t)": 22
         },
         {
          "AR(t)": 40.888283415868244,
          "FR(t)": 34.089554943717616,
          "S(t)": 174.73557441100394,
          "T(t)": 99.75773605141806,
          "Week (t)": 23
         },
         {
          "AR(t)": 43.60382000530064,
          "FR(t)": 34.891120795729364,
          "S(t)": 180.0867150180709,
          "T(t)": 101.5917742170409,
          "Week (t)": 24
         },
         {
          "AR(t)": 46.30007157975065,
          "FR(t)": 35.6428060275826,
          "S(t)": 185.254498805416,
          "T(t)": 103.31162119808276,
          "Week (t)": 25
         },
         {
          "AR(t)": 48.97136271247974,
          "FR(t)": 36.347706481804124,
          "S(t)": 190.24345597906003,
          "T(t)": 104.92438678477617,
          "Week (t)": 26
         },
         {
          "AR(t)": 51.61269940784778,
          "FR(t)": 37.00872888124145,
          "S(t)": 195.05816638551923,
          "T(t)": 106.43673809642999,
          "Week (t)": 27
         },
         {
          "AR(t)": 54.21970948276136,
          "FR(t)": 37.62860126088423,
          "S(t)": 199.7032378867246,
          "T(t)": 107.85492714307901,
          "Week (t)": 28
         },
         {
          "AR(t)": 56.78858767840293,
          "FR(t)": 38.209883246612435,
          "S(t)": 204.1832875961008,
          "T(t)": 109.18481667108543,
          "Week (t)": 29
         },
         {
          "AR(t)": 59.31604516810116,
          "FR(t)": 38.7549760069213,
          "S(t)": 208.50292557455998,
          "T(t)": 110.43190439953753,
          "Week (t)": 30
         },
         {
          "AR(t)": 61.79926313310825,
          "FR(t)": 39.26613178231766,
          "S(t)": 212.66674066306336,
          "T(t)": 111.60134574763747,
          "Week (t)": 31
         },
         {
          "AR(t)": 64.23585009257529,
          "FR(t)": 39.74546294576592,
          "S(t)": 216.67928818537408,
          "T(t)": 112.69797514703285,
          "Week (t)": 32
         },
         {
          "AR(t)": 66.62380269282517,
          "FR(t)": 40.194950577414666,
          "S(t)": 220.5450792974363,
          "T(t)": 113.72632602719648,
          "Week (t)": 33
         },
         {
          "AR(t)": 68.96146968151714,
          "FR(t)": 40.61645255486802,
          "S(t)": 224.26857179285813,
          "T(t)": 114.69064955647295,
          "Week (t)": 34
         },
         {
          "AR(t)": 71.247518812972,
          "FR(t)": 41.01171117089761,
          "S(t)": 227.8541622001369,
          "T(t)": 115.59493221626728,
          "Week (t)": 35
         },
         {
          "AR(t)": 73.48090645092859,
          "FR(t)": 41.38236029650147,
          "S(t)": 231.3061790284566,
          "T(t)": 116.44291228102657,
          "Week (t)": 36
         },
         {
          "AR(t)": 75.66084965389494,
          "FR(t)": 41.72993211035786,
          "S(t)": 234.62887703639484,
          "T(t)": 117.23809527214203,
          "Week (t)": 37
         },
         {
          "AR(t)": 77.78680054583727,
          "FR(t)": 42.055863417094955,
          "S(t)": 237.82643241259035,
          "T(t)": 117.98376844965813,
          "Week (t)": 38
         },
         {
          "AR(t)": 79.85842279116358,
          "FR(t)": 42.361501577092014,
          "S(t)": 240.90293876995173,
          "T(t)": 118.68301440169613,
          "Week (t)": 39
         },
         {
          "AR(t)": 81.87557000783045,
          "FR(t)": 42.64811007018082,
          "S(t)": 243.8624038657822,
          "T(t)": 119.33872378777093,
          "Week (t)": 40
         },
         {
          "AR(t)": 83.83826596599914,
          "FR(t)": 42.916873714894294,
          "S(t)": 246.7087469695748,
          "T(t)": 119.95360728868138,
          "Week (t)": 41
         },
         {
          "AR(t)": 85.74668643208062,
          "FR(t)": 43.168903563986476,
          "S(t)": 249.44579680844166,
          "T(t)": 120.53020681237459,
          "Week (t)": 42
         },
         {
          "AR(t)": 87.60114252933326,
          "FR(t)": 43.40524149592389,
          "S(t)": 252.077290027366,
          "T(t)": 121.07090600210884,
          "Week (t)": 43
         },
         {
          "AR(t)": 89.40206549651089,
          "FR(t)": 43.62686452099075,
          "S(t)": 254.60687010785716,
          "T(t)": 121.57794009035554,
          "Week (t)": 44
         },
         {
          "AR(t)": 91.14999273549043,
          "FR(t)": 43.83468881959553,
          "S(t)": 257.0380866942619,
          "T(t)": 122.05340513917596,
          "Week (t)": 45
         },
         {
          "AR(t)": 92.84555504742572,
          "FR(t)": 44.02957352933849,
          "S(t)": 259.37439528203635,
          "T(t)": 122.49926670527213,
          "Week (t)": 46
         },
         {
          "AR(t)": 94.48946496485428,
          "FR(t)": 44.21232429641108,
          "S(t)": 261.61915722679817,
          "T(t)": 122.9173679655328,
          "Week (t)": 47
         },
         {
          "AR(t)": 96.08250609439617,
          "FR(t)": 44.383696605954725,
          "S(t)": 263.7756400370164,
          "T(t)": 123.30943733666551,
          "Week (t)": 48
         },
         {
          "AR(t)": 97.62552339129493,
          "FR(t)": 44.54439890511321,
          "S(t)": 265.84701791682187,
          "T(t)": 123.67709562041371,
          "Week (t)": 49
         },
         {
          "AR(t)": 99.11941429311315,
          "FR(t)": 44.69509553166771,
          "S(t)": 267.83637252867817,
          "T(t)": 124.02186270389728,
          "Week (t)": 50
         },
         {
          "AR(t)": 100.56512064546341,
          "FR(t)": 44.83640946034804,
          "S(t)": 269.7466939485868,
          "T(t)": 124.34516384277542,
          "Week (t)": 51
         },
         {
          "AR(t)": 101.96362135777414,
          "FR(t)": 44.968924878164984,
          "S(t)": 271.58088178914517,
          "T(t)": 124.64833555320605,
          "Week (t)": 52
         }
        ]
       },
       "height": 250,
       "layer": [
        {
         "data": {
          "name": "data-22c37758e9690805f764c611f915850d"
         },
         "encoding": {
          "color": {
           "field": "Type",
           "type": "nominal"
          },
          "x": {
           "axis": {
            "labelExpr": "datum.value",
            "title": "Week",
            "values": [
             0,
             4,
             8,
             12,
             16,
             20,
             24,
             28,
             32,
             36,
             40,
             44,
             48,
             52
            ]
           },
           "field": "Week (t)",
           "scale": {
            "domain": [
             0,
             52
            ]
           },
           "type": "quantitative"
          },
          "y": {
           "field": "Cum DoR",
           "scale": {},
           "title": "Cumulative Sales (# Transactions)",
           "type": "quantitative"
          }
         },
         "mark": {
          "strokeDash": [
           5,
           3
          ],
          "strokeWidth": 2,
          "type": "line"
         },
         "transform": [
          {
           "as": [
            "Type",
            "Cum DoR"
           ],
           "fold": [
            "T(t)",
            "FR(t)",
            "AR(t)",
            "S(t)"
           ]
          }
         ]
        },
        {
         "data": {
          "name": "data-14af2c719777932de7be45f5a594bb10"
         },
         "encoding": {
          "color": {
           "field": "Type",
           "type": "nominal"
          },
          "x": {
           "axis": {
            "labelExpr": "datum.value",
            "title": "Week",
            "values": [
             0,
             4,
             8,
             12,
             16,
             20,
             24,
             28,
             32,
             36,
             40,
             44,
             48,
             52
            ]
           },
           "field": "Week (t)",
           "scale": {
            "domain": [
             0,
             52
            ]
           },
           "type": "quantitative"
          },
          "y": {
           "field": "Cum DoR",
           "scale": {},
           "title": "Cumulative Sales (# Transactions)",
           "type": "quantitative"
          }
         },
         "mark": {
          "strokeDash": [
           1,
           0
          ],
          "strokeWidth": 2,
          "type": "line"
         },
         "transform": [
          {
           "as": [
            "Type",
            "Cum DoR"
           ],
           "fold": [
            "T(t)",
            "FR(t)",
            "AR(t)",
            "S(t)"
           ]
          }
         ]
        }
       ],
       "title": "Overall Sales Forecast for the Extended Model",
       "width": 650
      },
      "text/plain": [
       "<VegaLite 5 object>\n",
       "\n",
       "If you see this message, it means the renderer has not been properly enabled\n",
       "for the frontend that you are using. For more information, see\n",
       "https://altair-viz.github.io/user_guide/display_frontends.html#troubleshooting\n"
      ]
     },
     "execution_count": 48,
     "metadata": {},
     "output_type": "execute_result"
    }
   ],
   "source": [
    "chart = forecasted_curve + actual_sales_curve\n",
    "\n",
    "layered_line_prop(chart, 'Overall Sales Forecast for the Extended Model')"
   ]
  },
  {
   "cell_type": "code",
   "execution_count": 49,
   "metadata": {},
   "outputs": [
    {
     "data": {
      "text/markdown": [
       "**Forecast Index**:\n",
       "\n",
       "- Trial Forecast Index: **90**\n",
       "- First Repeat Forecast Index: **86**\n",
       "- Additional Repeat Forecast Index: **89**\n",
       "- Total Forecast Index: **89**"
      ]
     },
     "metadata": {},
     "output_type": "display_data"
    }
   ],
   "source": [
    "trial_forecast_index = forecast_df.select('T(t)').item(-1,0) / modified_cum_trans.select('T(t)').item(-1,0) * 100\n",
    "fr_forecast_index = forecast_df.select('FR(t)').item(-1,0) / modified_cum_trans.select('FR(t)').item(-1,0) * 100\n",
    "ar_forecast_index = forecast_df.select('AR(t)').item(-1,0) / modified_cum_trans.select('AR(t)').item(-1,0) * 100\n",
    "total_forecast_index = forecast_df.select('S(t)').item(-1,0) / modified_cum_trans.select('S(t)').item(-1,0) * 100\n",
    "\n",
    "display_markdown(f'''**Forecast Index**:\n",
    "\n",
    "- Trial Forecast Index: **{trial_forecast_index:0.0f}**\n",
    "- First Repeat Forecast Index: **{fr_forecast_index:0.0f}**\n",
    "- Additional Repeat Forecast Index: **{ar_forecast_index:0.0f}**\n",
    "- Total Forecast Index: **{total_forecast_index:0.0f}**''', raw=True)"
   ]
  }
 ],
 "metadata": {
  "kernelspec": {
   "display_name": ".venv",
   "language": "python",
   "name": "python3"
  },
  "language_info": {
   "codemirror_mode": {
    "name": "ipython",
    "version": 3
   },
   "file_extension": ".py",
   "mimetype": "text/x-python",
   "name": "python",
   "nbconvert_exporter": "python",
   "pygments_lexer": "ipython3",
   "version": "3.13.0"
  }
 },
 "nbformat": 4,
 "nbformat_minor": 2
}
