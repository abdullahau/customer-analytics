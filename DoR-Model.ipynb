{
 "cells": [
  {
   "cell_type": "markdown",
   "metadata": {},
   "source": [
    "## <span style=\"color:#956bbf\">Depth-of-Repeat Model - Sales Summary & Sales Forecasting</span>\n",
    "---"
   ]
  },
  {
   "cell_type": "markdown",
   "metadata": {},
   "source": [
    "### <span style=\"color:#956bbf\">Introduction</span>"
   ]
  },
  {
   "cell_type": "markdown",
   "metadata": {},
   "source": [
    "**Source**:\n",
    "- [Creating a Depth-of-Repeat Sales Summary Using Excel](https://www.brucehardie.com/notes/006/) by Bruce G. S. Hardie & Peter S. Fader\n",
    "- [Generating a Sales Forecast With a Simple Depth-of-Repeat Model](https://www.brucehardie.com/notes/007/) by Bruce G. S. Hardie & Peter S. Fader"
   ]
  },
  {
   "cell_type": "markdown",
   "metadata": {},
   "source": [
    "Central to diagnosing the performance of a new product is the decomposition of its total sales into trial, first repeat, second repeat, and so on, components. More formally, we are interested in creating a summary of purchasing that tells us for each unit of time (e.g., week), the cumulative number of people who have made a trial (i.e., first-ever) purchase, a first repeat (i.e., secondever) purchase, a second repeat purchase, and so on. We let $T(t)$ denote the cumulative number of people who have made a trial purchase by time $t$, and $R_{j}(t)$ denote the number of people who have made at least $j$ repeat purchases of the new product by time $t(j=1,2,3, \\ldots)$.\n",
    "\n",
    "With such a data summary in place, standard new product performance metrics such as “percent triers repeating” and “repeats per repeater” are easily computed from these data. At any point in time $t$, percent triers repeating is computed as $R_{1}(t)/T (t)$, while repeats per repeater is computed as $R(t)/R_{1}(t)$, where $R(t)$ is the total number of repeat purchases up to time $t$:\n",
    "\n",
    "$$\n",
    "R(t)=\\sum_{j=1}^{\\infty} R_{j}(t)\n",
    "$$\n",
    "\n",
    "Furthermore, a simple new product sales forecasting model can easily be built around such a data summary.\n",
    "\n",
    "we describe how to create such a sales summary from raw customer-level transaction data (typically collected via a consumer panel) using python."
   ]
  },
  {
   "cell_type": "markdown",
   "metadata": {},
   "source": [
    "A consumer panel is formed by selecting a representative sample of individuals or households (from the population of interest) and recording their complete behaviour (e.g., purchasing of FMCG products) over a fixed period of time.\n",
    "\n",
    "For a given product category, we can construct a dataset that reports the timing of each purchase, along with details of the product purchased. A stylized representation of this is given in the figure (Purchase Histories: Total Category) below for a total of $n$ households, in which we consider an observation period starting with the launch of a new product and ending at time $t_{\\text {end }}$. We let $\\diamond$ denote a purchase of the new product and $\\times$ denote the purchase of any other product in the category.\n",
    "\n",
    "<div style=\"max-width:400px;margin-left: auto; margin-right: auto;\">\n",
    "<img src=\"references\\Depth-of-Repeat\\Purchase Histories-Total Category.png\"/>\n",
    "</div>\n",
    "\n",
    "We see that HH 1 made three category purchases over the observation period but never purchased the new product. HH 2 made seven category purchases; the third category purchase represents a trial purchase of the new product, and no repeat purchasing activity was observed over the remainder of the observation period. HH 3 made a trial purchase of the new product and two repeat purchases. And so on.\n",
    "\n",
    "In many analysis situations, where we are focusing on a particular product, purchase records not associated with the focal product are removed to yield a simpler (and smaller) dataset. A stylized representation of this is given in the figure (Purchase Histories: New Product Only) below. As HH 1 never bought the new product, there is no explicit record of this household in the resulting dataset.\n",
    "\n",
    "<div style=\"max-width:400px;margin-left: auto; margin-right: auto;\">\n",
    "<img src=\"references\\Depth-of-Repeat\\Purchase Histories-New Product Only.png\"/>\n",
    "</div>"
   ]
  },
  {
   "cell_type": "markdown",
   "metadata": {},
   "source": [
    "### <span style=\"color:#956bbf\">Imports</span>\n",
    "---"
   ]
  },
  {
   "cell_type": "markdown",
   "metadata": {},
   "source": [
    "#### Import Packages"
   ]
  },
  {
   "cell_type": "code",
   "execution_count": 1,
   "metadata": {},
   "outputs": [
    {
     "data": {
      "text/plain": [
       "RendererRegistry.enable('mimetype')"
      ]
     },
     "execution_count": 1,
     "metadata": {},
     "output_type": "execute_result"
    }
   ],
   "source": [
    "import polars as pl\n",
    "import numpy as np\n",
    "import altair as alt\n",
    "from great_tables import GT, style, loc, md\n",
    "import gc\n",
    "\n",
    "alt.renderers.enable('mimetype')"
   ]
  },
  {
   "cell_type": "markdown",
   "metadata": {},
   "source": [
    "#### Import Panel Data"
   ]
  },
  {
   "cell_type": "markdown",
   "metadata": {},
   "source": [
    "\"Kiwi Bubbles\" is a masked name for a shelf-stable juice drink, aimed primarily at children, which is sold as a multipack with several single-serve containers bundled together. Prior to national launch, it underwent a year-long test conducted in two of IRI's BehaviorScan markets. The file `kiwibubbles_tran.txt` contains purchasing data for the new product, drawn from 1300 panelists in Market 1 and 1499 panelists in Market 2.\n",
    "\n",
    "Each record in this file comprises five fields: *Panelist ID*, *Market*, *Week*, *Day*, and *Units*. The value of the Market field is either 1 or 2. The Week field gives us the week number in which the purchase occurred (the product was launched at the beginning of week 1), the Day field tells us the day of the week (1-7) in which the purchase occurred, and the Units field tells us how many units of the new product were purchased on that particular purchase occasion.\n",
    "\n",
    "We load this dataset into python. We see that there are a total of 857 transactions across the two markets during the year-long test."
   ]
  },
  {
   "cell_type": "code",
   "execution_count": 49,
   "metadata": {},
   "outputs": [
    {
     "data": {
      "text/html": [
       "<div><style>\n",
       ".dataframe > thead > tr,\n",
       ".dataframe > tbody > tr {\n",
       "  text-align: right;\n",
       "  white-space: pre-wrap;\n",
       "}\n",
       "</style>\n",
       "<small>shape: (5, 5)</small><table border=\"1\" class=\"dataframe\"><thead><tr><th>ID</th><th>Market</th><th>Week</th><th>Day</th><th>Units</th></tr><tr><td>u16</td><td>u8</td><td>i16</td><td>i16</td><td>i16</td></tr></thead><tbody><tr><td>10001</td><td>1</td><td>19</td><td>3</td><td>1</td></tr><tr><td>10002</td><td>1</td><td>12</td><td>5</td><td>1</td></tr><tr><td>10003</td><td>1</td><td>37</td><td>7</td><td>1</td></tr><tr><td>10004</td><td>1</td><td>30</td><td>6</td><td>1</td></tr><tr><td>10004</td><td>1</td><td>47</td><td>3</td><td>1</td></tr></tbody></table></div>"
      ],
      "text/plain": [
       "shape: (5, 5)\n",
       "┌───────┬────────┬──────┬─────┬───────┐\n",
       "│ ID    ┆ Market ┆ Week ┆ Day ┆ Units │\n",
       "│ ---   ┆ ---    ┆ ---  ┆ --- ┆ ---   │\n",
       "│ u16   ┆ u8     ┆ i16  ┆ i16 ┆ i16   │\n",
       "╞═══════╪════════╪══════╪═════╪═══════╡\n",
       "│ 10001 ┆ 1      ┆ 19   ┆ 3   ┆ 1     │\n",
       "│ 10002 ┆ 1      ┆ 12   ┆ 5   ┆ 1     │\n",
       "│ 10003 ┆ 1      ┆ 37   ┆ 7   ┆ 1     │\n",
       "│ 10004 ┆ 1      ┆ 30   ┆ 6   ┆ 1     │\n",
       "│ 10004 ┆ 1      ┆ 47   ┆ 3   ┆ 1     │\n",
       "└───────┴────────┴──────┴─────┴───────┘"
      ]
     },
     "execution_count": 49,
     "metadata": {},
     "output_type": "execute_result"
    }
   ],
   "source": [
    "kiwi_lf = pl.scan_csv(source=\"data/kiwibubbles/kiwibubbles_tran.csv\",\n",
    "                      has_header=False,\n",
    "                      separator=\",\",\n",
    "                      schema={'ID': pl.UInt16,\n",
    "                              'Market': pl.UInt8,\n",
    "                              'Week': pl.Int16,\n",
    "                              'Day': pl.Int16,\n",
    "                              'Units': pl.Int16})\n",
    "kiwi_lf.head().collect()"
   ]
  },
  {
   "cell_type": "markdown",
   "metadata": {},
   "source": [
    "To illustrate the process of creating a sales by depth-of-repeat summary from this raw transaction data, we will focus just on **Market 2**."
   ]
  },
  {
   "cell_type": "code",
   "execution_count": 50,
   "metadata": {},
   "outputs": [],
   "source": [
    "kiwi_lf_m2 = (kiwi_lf.filter(pl.col('Market') == 2).drop('Market'))\n",
    "num_panellists_m2 = 1499"
   ]
  },
  {
   "cell_type": "markdown",
   "metadata": {},
   "source": [
    "### <span style=\"color:#956bbf\">Creating a Depth-of-Repeat Sales Summary</span>\n",
    "---"
   ]
  },
  {
   "cell_type": "markdown",
   "metadata": {},
   "source": [
    "#### Preliminaries"
   ]
  },
  {
   "cell_type": "markdown",
   "metadata": {},
   "source": [
    "Let us consider the transaction history of panelist 20014. We note that this panelist made his/her trial purchase and first repeat purchase in week 4. Similarly, this panelist's third and fourth repeat purchases occurred in week 7 . We also note that this panelist typically purchased several units of the product on any given purchase occasion."
   ]
  },
  {
   "cell_type": "code",
   "execution_count": 4,
   "metadata": {},
   "outputs": [
    {
     "data": {
      "text/html": [
       "<div><style>\n",
       ".dataframe > thead > tr,\n",
       ".dataframe > tbody > tr {\n",
       "  text-align: right;\n",
       "  white-space: pre-wrap;\n",
       "}\n",
       "</style>\n",
       "<small>shape: (9, 4)</small><table border=\"1\" class=\"dataframe\"><thead><tr><th>ID</th><th>Week</th><th>Day</th><th>Units</th></tr><tr><td>u16</td><td>i16</td><td>i16</td><td>i16</td></tr></thead><tbody><tr><td>20014</td><td>4</td><td>2</td><td>1</td></tr><tr><td>20014</td><td>4</td><td>4</td><td>1</td></tr><tr><td>20014</td><td>6</td><td>6</td><td>2</td></tr><tr><td>20014</td><td>7</td><td>2</td><td>3</td></tr><tr><td>20014</td><td>7</td><td>6</td><td>3</td></tr><tr><td>20014</td><td>12</td><td>5</td><td>2</td></tr><tr><td>20014</td><td>17</td><td>6</td><td>1</td></tr><tr><td>20014</td><td>23</td><td>4</td><td>2</td></tr><tr><td>20014</td><td>47</td><td>6</td><td>2</td></tr></tbody></table></div>"
      ],
      "text/plain": [
       "shape: (9, 4)\n",
       "┌───────┬──────┬─────┬───────┐\n",
       "│ ID    ┆ Week ┆ Day ┆ Units │\n",
       "│ ---   ┆ ---  ┆ --- ┆ ---   │\n",
       "│ u16   ┆ i16  ┆ i16 ┆ i16   │\n",
       "╞═══════╪══════╪═════╪═══════╡\n",
       "│ 20014 ┆ 4    ┆ 2   ┆ 1     │\n",
       "│ 20014 ┆ 4    ┆ 4   ┆ 1     │\n",
       "│ 20014 ┆ 6    ┆ 6   ┆ 2     │\n",
       "│ 20014 ┆ 7    ┆ 2   ┆ 3     │\n",
       "│ 20014 ┆ 7    ┆ 6   ┆ 3     │\n",
       "│ 20014 ┆ 12   ┆ 5   ┆ 2     │\n",
       "│ 20014 ┆ 17   ┆ 6   ┆ 1     │\n",
       "│ 20014 ┆ 23   ┆ 4   ┆ 2     │\n",
       "│ 20014 ┆ 47   ┆ 6   ┆ 2     │\n",
       "└───────┴──────┴─────┴───────┘"
      ]
     },
     "execution_count": 4,
     "metadata": {},
     "output_type": "execute_result"
    }
   ],
   "source": [
    "kiwi_lf_m2.filter(pl.col('ID') == 20014).collect()"
   ]
  },
  {
   "cell_type": "markdown",
   "metadata": {},
   "source": [
    "This suggests several possible versions of the desired sales by depth-of-repeat summary:\n",
    "- Our summary counts the number of trial, first repeat, second repeat, etc. transactions that occurred each week. The process of creating such a summary is described in section [Creating a “Raw” Transactions Summary](#raw_trans_summary)' below.\n",
    "- Our summary reports the *sales volume* (e.g., units) associated with trial, first repeat, second repeat, etc. transactions that occurred each week. The process of creating such a summary is described in section '[Creating a “Raw” Sales Volume Summary](#raw_vol_summary)' below.\n",
    "- We have noted that this panelist's trial and first repeat purchases occurred in the same week, albeit on different days. Similarly, his/her fourth and fifth repeat purchases occurred in the same week. The structure of many simple models of new product sales forecasting is such that a customer can have only one transaction per unit of time. If the unit of time is one week (as it typically the case), we clearly have a problem. One solution would be change the unit of time from week to day. However, as such purchasing behaviour tends to be rare, Eskin suggests that, \"[f]or estimation purposes, second purchases within a single week are coded in the following week.\" The process of creating such a \"shifted\" summary is described in [Creating a \"Shifted\" Transactions Summary](#raw_shifted_trans_summary) below.\n",
    "\n",
    "But what happens if we observe multiple transactions on the same day? This is very rare and typically reflects bad pre-processing of the panel data. For example, as an individual's purchases are scanned at the supermarket checkout, one six-pack of Coke could be the first item scanned with another six-pack of Coke being the last item scanned. As the raw data are \"cleaned-up\" these two purchases should be combined into one transaction with a quantity of two. But this doesn't always happen. If the (very) raw panel data file contains a transaction time field, we easily determine whether the two records come from the same or different shopping trips. Even if they did come from separate shopping trips on the same day, our natural reaction would be to combine them into a single transaction with multiple units, rather than shift to an even smaller time unit (e.g., hour). we should reflect on how to determine whether we observe multiple transactions for an individual panelist on the same day once the raw panel data has been loaded into python. (Note that there are no such occurrences in the Kiwi Bubbles dataset.)"
   ]
  },
  {
   "cell_type": "markdown",
   "metadata": {},
   "source": [
    "#### Creating a \"Raw\" Transactions Summary\n",
    "<a id='raw_trans_summary'></a>"
   ]
  },
  {
   "cell_type": "markdown",
   "metadata": {},
   "source": [
    "The first thing we need to do is add a field that indicates the depth-of-repeat level associated with each record; i.e., is this a trial purchase $(\\mathrm{DoR}=0)$, a first repeat purchase $(\\mathrm{DoR}=1$ ), a second repeat purchase ( $\\operatorname{DoR}=2$ ), etc.\n",
    "\n",
    "This is a straightforward exercise. If the panelist ID associated with this record does not equal that of the previous record, we are dealing with a new panelist and we set the depth-of-repeat indicator to 0 . If the panelist ID associated with this record does equal that of the previous record, we are dealing with a repeat purchase by that panelist and we increment the depth-of-repeat indicator by 1."
   ]
  },
  {
   "cell_type": "code",
   "execution_count": 51,
   "metadata": {},
   "outputs": [],
   "source": [
    "kiwi_lf_m2 = (\n",
    "    kiwi_lf_m2\n",
    "    .sort(by='ID')\n",
    "    .with_columns((pl.col(\"ID\").cum_count().over(\"ID\") - 1).cast(pl.UInt16).alias(\"DoR\"))    \n",
    ")"
   ]
  },
  {
   "cell_type": "markdown",
   "metadata": {},
   "source": [
    "The corresponding records for panelist 20014 are shown below with DoR indicator:"
   ]
  },
  {
   "cell_type": "code",
   "execution_count": 6,
   "metadata": {},
   "outputs": [
    {
     "data": {
      "text/html": [
       "<div><style>\n",
       ".dataframe > thead > tr,\n",
       ".dataframe > tbody > tr {\n",
       "  text-align: right;\n",
       "  white-space: pre-wrap;\n",
       "}\n",
       "</style>\n",
       "<small>shape: (9, 5)</small><table border=\"1\" class=\"dataframe\"><thead><tr><th>ID</th><th>Week</th><th>Day</th><th>Units</th><th>DoR</th></tr><tr><td>u16</td><td>i16</td><td>i16</td><td>i16</td><td>u16</td></tr></thead><tbody><tr><td>20014</td><td>4</td><td>2</td><td>1</td><td>0</td></tr><tr><td>20014</td><td>4</td><td>4</td><td>1</td><td>1</td></tr><tr><td>20014</td><td>6</td><td>6</td><td>2</td><td>2</td></tr><tr><td>20014</td><td>7</td><td>2</td><td>3</td><td>3</td></tr><tr><td>20014</td><td>7</td><td>6</td><td>3</td><td>4</td></tr><tr><td>20014</td><td>12</td><td>5</td><td>2</td><td>5</td></tr><tr><td>20014</td><td>17</td><td>6</td><td>1</td><td>6</td></tr><tr><td>20014</td><td>23</td><td>4</td><td>2</td><td>7</td></tr><tr><td>20014</td><td>47</td><td>6</td><td>2</td><td>8</td></tr></tbody></table></div>"
      ],
      "text/plain": [
       "shape: (9, 5)\n",
       "┌───────┬──────┬─────┬───────┬─────┐\n",
       "│ ID    ┆ Week ┆ Day ┆ Units ┆ DoR │\n",
       "│ ---   ┆ ---  ┆ --- ┆ ---   ┆ --- │\n",
       "│ u16   ┆ i16  ┆ i16 ┆ i16   ┆ u16 │\n",
       "╞═══════╪══════╪═════╪═══════╪═════╡\n",
       "│ 20014 ┆ 4    ┆ 2   ┆ 1     ┆ 0   │\n",
       "│ 20014 ┆ 4    ┆ 4   ┆ 1     ┆ 1   │\n",
       "│ 20014 ┆ 6    ┆ 6   ┆ 2     ┆ 2   │\n",
       "│ 20014 ┆ 7    ┆ 2   ┆ 3     ┆ 3   │\n",
       "│ 20014 ┆ 7    ┆ 6   ┆ 3     ┆ 4   │\n",
       "│ 20014 ┆ 12   ┆ 5   ┆ 2     ┆ 5   │\n",
       "│ 20014 ┆ 17   ┆ 6   ┆ 1     ┆ 6   │\n",
       "│ 20014 ┆ 23   ┆ 4   ┆ 2     ┆ 7   │\n",
       "│ 20014 ┆ 47   ┆ 6   ┆ 2     ┆ 8   │\n",
       "└───────┴──────┴─────┴───────┴─────┘"
      ]
     },
     "execution_count": 6,
     "metadata": {},
     "output_type": "execute_result"
    }
   ],
   "source": [
    "kiwi_lf_m2.filter(pl.col('ID') == 20014).collect()"
   ]
  },
  {
   "cell_type": "markdown",
   "metadata": {},
   "source": [
    "The next step is to perform aggregations to the data and create two type of the same data-frame: a **long-form** and **wide-form**.\n",
    "\n",
    "We want there to be 52 rows, one for each week of the test. It turns out, however, that this panel of 1499 households only purchased the test product in 49 weeks; no purchases occurred in weeks 25,39, and 41. How can we create a table that will contain zeros in the rows corresponding to these three weeks? We accomplish this by creating a dummy dataframe that contains the full range of combination of `Week` and `DoR`. There are should be a range of 1 to 52 weeks and a range of 0 to 11 depth-of-repeats. Next, we will join the aggregated dataframes of the main dataset with the dummy dataframe such that it preserves the size of the dummy dataframe and fills the empty combinations with `null` values."
   ]
  },
  {
   "cell_type": "code",
   "execution_count": 7,
   "metadata": {},
   "outputs": [],
   "source": [
    "# Week Range: 1 to 52, DoR Range: 0 to 11 (max(DoR) = 11)\n",
    "week_range, dor_range = np.meshgrid(np.arange(1, 53, dtype='int16'), np.arange(0, 12, dtype='uint16'))\n",
    "# Create a dummy LazyFrame that contains the full range of combinations for Week & DoR\n",
    "dummy_lf = pl.LazyFrame({'Week': week_range.reshape(-1), 'DoR': dor_range.reshape(-1)})\n",
    "\n",
    "agg_trans = (\n",
    "    kiwi_lf_m2\n",
    "    .group_by('Week', 'DoR')\n",
    "    .agg(pl.len().alias('Count'))\n",
    ")\n",
    "\n",
    "week_total_trans = (\n",
    "    agg_trans\n",
    "    .group_by('Week')\n",
    "    .agg(pl.col('Count').sum().alias('Total')) \n",
    ")\n",
    "\n",
    "agg_trans_longform = (\n",
    "    dummy_lf\n",
    "    .join(agg_trans, on=['Week', 'DoR'], how='left')\n",
    "    .join(week_total_trans, on='Week', how='left')\n",
    "    .fill_null(0)\n",
    ")"
   ]
  },
  {
   "cell_type": "markdown",
   "metadata": {},
   "source": [
    "The wide-form is more intuitive and easy to visualize, it tells us how many trial, first repeat, etc. purchases (columns) occurred in each week (rows)."
   ]
  },
  {
   "cell_type": "code",
   "execution_count": 8,
   "metadata": {},
   "outputs": [
    {
     "data": {
      "text/html": [
       "<div><style>\n",
       ".dataframe > thead > tr,\n",
       ".dataframe > tbody > tr {\n",
       "  text-align: right;\n",
       "  white-space: pre-wrap;\n",
       "}\n",
       "</style>\n",
       "<small>shape: (49, 14)</small><table border=\"1\" class=\"dataframe\"><thead><tr><th>Week</th><th>0</th><th>1</th><th>2</th><th>3</th><th>4</th><th>5</th><th>6</th><th>7</th><th>8</th><th>9</th><th>10</th><th>11</th><th>Total</th></tr><tr><td>i16</td><td>u32</td><td>u32</td><td>u32</td><td>u32</td><td>u32</td><td>u32</td><td>u32</td><td>u32</td><td>u32</td><td>u32</td><td>u32</td><td>u32</td><td>u32</td></tr></thead><tbody><tr><td>1</td><td>8</td><td>1</td><td>0</td><td>0</td><td>0</td><td>0</td><td>0</td><td>0</td><td>0</td><td>0</td><td>0</td><td>0</td><td>9</td></tr><tr><td>2</td><td>6</td><td>0</td><td>0</td><td>0</td><td>0</td><td>0</td><td>0</td><td>0</td><td>0</td><td>0</td><td>0</td><td>0</td><td>6</td></tr><tr><td>3</td><td>2</td><td>1</td><td>0</td><td>0</td><td>0</td><td>0</td><td>0</td><td>0</td><td>0</td><td>0</td><td>0</td><td>0</td><td>3</td></tr><tr><td>4</td><td>16</td><td>2</td><td>0</td><td>0</td><td>0</td><td>0</td><td>0</td><td>0</td><td>0</td><td>0</td><td>0</td><td>0</td><td>18</td></tr><tr><td>5</td><td>8</td><td>3</td><td>0</td><td>0</td><td>0</td><td>0</td><td>0</td><td>0</td><td>0</td><td>0</td><td>0</td><td>0</td><td>11</td></tr><tr><td>&hellip;</td><td>&hellip;</td><td>&hellip;</td><td>&hellip;</td><td>&hellip;</td><td>&hellip;</td><td>&hellip;</td><td>&hellip;</td><td>&hellip;</td><td>&hellip;</td><td>&hellip;</td><td>&hellip;</td><td>&hellip;</td><td>&hellip;</td></tr><tr><td>48</td><td>1</td><td>1</td><td>1</td><td>1</td><td>0</td><td>0</td><td>0</td><td>1</td><td>0</td><td>0</td><td>0</td><td>0</td><td>5</td></tr><tr><td>49</td><td>4</td><td>0</td><td>0</td><td>0</td><td>0</td><td>2</td><td>0</td><td>1</td><td>1</td><td>0</td><td>0</td><td>0</td><td>8</td></tr><tr><td>50</td><td>0</td><td>2</td><td>0</td><td>0</td><td>0</td><td>0</td><td>0</td><td>1</td><td>2</td><td>1</td><td>1</td><td>1</td><td>8</td></tr><tr><td>51</td><td>0</td><td>1</td><td>0</td><td>0</td><td>0</td><td>0</td><td>0</td><td>1</td><td>0</td><td>0</td><td>0</td><td>0</td><td>2</td></tr><tr><td>52</td><td>2</td><td>1</td><td>1</td><td>1</td><td>0</td><td>0</td><td>0</td><td>0</td><td>0</td><td>1</td><td>0</td><td>0</td><td>6</td></tr></tbody></table></div>"
      ],
      "text/plain": [
       "shape: (49, 14)\n",
       "┌──────┬─────┬─────┬─────┬───┬─────┬─────┬─────┬───────┐\n",
       "│ Week ┆ 0   ┆ 1   ┆ 2   ┆ … ┆ 9   ┆ 10  ┆ 11  ┆ Total │\n",
       "│ ---  ┆ --- ┆ --- ┆ --- ┆   ┆ --- ┆ --- ┆ --- ┆ ---   │\n",
       "│ i16  ┆ u32 ┆ u32 ┆ u32 ┆   ┆ u32 ┆ u32 ┆ u32 ┆ u32   │\n",
       "╞══════╪═════╪═════╪═════╪═══╪═════╪═════╪═════╪═══════╡\n",
       "│ 1    ┆ 8   ┆ 1   ┆ 0   ┆ … ┆ 0   ┆ 0   ┆ 0   ┆ 9     │\n",
       "│ 2    ┆ 6   ┆ 0   ┆ 0   ┆ … ┆ 0   ┆ 0   ┆ 0   ┆ 6     │\n",
       "│ 3    ┆ 2   ┆ 1   ┆ 0   ┆ … ┆ 0   ┆ 0   ┆ 0   ┆ 3     │\n",
       "│ 4    ┆ 16  ┆ 2   ┆ 0   ┆ … ┆ 0   ┆ 0   ┆ 0   ┆ 18    │\n",
       "│ 5    ┆ 8   ┆ 3   ┆ 0   ┆ … ┆ 0   ┆ 0   ┆ 0   ┆ 11    │\n",
       "│ …    ┆ …   ┆ …   ┆ …   ┆ … ┆ …   ┆ …   ┆ …   ┆ …     │\n",
       "│ 48   ┆ 1   ┆ 1   ┆ 1   ┆ … ┆ 0   ┆ 0   ┆ 0   ┆ 5     │\n",
       "│ 49   ┆ 4   ┆ 0   ┆ 0   ┆ … ┆ 0   ┆ 0   ┆ 0   ┆ 8     │\n",
       "│ 50   ┆ 0   ┆ 2   ┆ 0   ┆ … ┆ 1   ┆ 1   ┆ 1   ┆ 8     │\n",
       "│ 51   ┆ 0   ┆ 1   ┆ 0   ┆ … ┆ 0   ┆ 0   ┆ 0   ┆ 2     │\n",
       "│ 52   ┆ 2   ┆ 1   ┆ 1   ┆ … ┆ 1   ┆ 0   ┆ 0   ┆ 6     │\n",
       "└──────┴─────┴─────┴─────┴───┴─────┴─────┴─────┴───────┘"
      ]
     },
     "metadata": {},
     "output_type": "display_data"
    },
    {
     "data": {
      "text/html": [
       "<div><style>\n",
       ".dataframe > thead > tr,\n",
       ".dataframe > tbody > tr {\n",
       "  text-align: right;\n",
       "  white-space: pre-wrap;\n",
       "}\n",
       "</style>\n",
       "<small>shape: (1, 13)</small><table border=\"1\" class=\"dataframe\"><thead><tr><th>0</th><th>1</th><th>2</th><th>3</th><th>4</th><th>5</th><th>6</th><th>7</th><th>8</th><th>9</th><th>10</th><th>11</th><th>Total</th></tr><tr><td>u32</td><td>u32</td><td>u32</td><td>u32</td><td>u32</td><td>u32</td><td>u32</td><td>u32</td><td>u32</td><td>u32</td><td>u32</td><td>u32</td><td>u32</td></tr></thead><tbody><tr><td>139</td><td>52</td><td>31</td><td>23</td><td>17</td><td>14</td><td>9</td><td>8</td><td>6</td><td>4</td><td>2</td><td>1</td><td>306</td></tr></tbody></table></div>"
      ],
      "text/plain": [
       "shape: (1, 13)\n",
       "┌─────┬─────┬─────┬─────┬───┬─────┬─────┬─────┬───────┐\n",
       "│ 0   ┆ 1   ┆ 2   ┆ 3   ┆ … ┆ 9   ┆ 10  ┆ 11  ┆ Total │\n",
       "│ --- ┆ --- ┆ --- ┆ --- ┆   ┆ --- ┆ --- ┆ --- ┆ ---   │\n",
       "│ u32 ┆ u32 ┆ u32 ┆ u32 ┆   ┆ u32 ┆ u32 ┆ u32 ┆ u32   │\n",
       "╞═════╪═════╪═════╪═════╪═══╪═════╪═════╪═════╪═══════╡\n",
       "│ 139 ┆ 52  ┆ 31  ┆ 23  ┆ … ┆ 4   ┆ 2   ┆ 1   ┆ 306   │\n",
       "└─────┴─────┴─────┴─────┴───┴─────┴─────┴─────┴───────┘"
      ]
     },
     "metadata": {},
     "output_type": "display_data"
    }
   ],
   "source": [
    "agg_trans_wideform = (\n",
    "    agg_trans_longform\n",
    "    .collect()\n",
    "    .pivot(on='DoR', index='Week', values='Count')\n",
    "    .join(week_total_trans.collect(), on='Week')\n",
    ")\n",
    "\n",
    "col_total = agg_trans_wideform.select(pl.col('*').exclude('Week').sum())\n",
    "\n",
    "display(agg_trans_wideform)\n",
    "display(col_total)"
   ]
  },
  {
   "cell_type": "markdown",
   "metadata": {},
   "source": [
    "We note that there are no entries in the rows corresponding to weeks 25, 39, and 41. Over the year-long test, 139 of the 1499 panelists made at least one purchase of the new product, with a total of 306 purchase occasions. We also note that by the end of the year, one person had made eleven repeat purchases of the new product."
   ]
  },
  {
   "cell_type": "markdown",
   "metadata": {},
   "source": [
    "A cleaned-up summary that reports these weekly transactions in cumulative form (i.e., $T(t), R_{1}(t), R_{2}(t)$, etc.) is created created below:"
   ]
  },
  {
   "cell_type": "code",
   "execution_count": 9,
   "metadata": {},
   "outputs": [
    {
     "data": {
      "text/html": [
       "<div><style>\n",
       ".dataframe > thead > tr,\n",
       ".dataframe > tbody > tr {\n",
       "  text-align: right;\n",
       "  white-space: pre-wrap;\n",
       "}\n",
       "</style>\n",
       "<small>shape: (52, 13)</small><table border=\"1\" class=\"dataframe\"><thead><tr><th>Week</th><th>0</th><th>1</th><th>2</th><th>3</th><th>4</th><th>5</th><th>6</th><th>7</th><th>8</th><th>9</th><th>10</th><th>11</th></tr><tr><td>i16</td><td>u32</td><td>u32</td><td>u32</td><td>u32</td><td>u32</td><td>u32</td><td>u32</td><td>u32</td><td>u32</td><td>u32</td><td>u32</td><td>u32</td></tr></thead><tbody><tr><td>1</td><td>8</td><td>1</td><td>0</td><td>0</td><td>0</td><td>0</td><td>0</td><td>0</td><td>0</td><td>0</td><td>0</td><td>0</td></tr><tr><td>2</td><td>14</td><td>1</td><td>0</td><td>0</td><td>0</td><td>0</td><td>0</td><td>0</td><td>0</td><td>0</td><td>0</td><td>0</td></tr><tr><td>3</td><td>16</td><td>2</td><td>0</td><td>0</td><td>0</td><td>0</td><td>0</td><td>0</td><td>0</td><td>0</td><td>0</td><td>0</td></tr><tr><td>4</td><td>32</td><td>4</td><td>0</td><td>0</td><td>0</td><td>0</td><td>0</td><td>0</td><td>0</td><td>0</td><td>0</td><td>0</td></tr><tr><td>5</td><td>40</td><td>7</td><td>0</td><td>0</td><td>0</td><td>0</td><td>0</td><td>0</td><td>0</td><td>0</td><td>0</td><td>0</td></tr><tr><td>&hellip;</td><td>&hellip;</td><td>&hellip;</td><td>&hellip;</td><td>&hellip;</td><td>&hellip;</td><td>&hellip;</td><td>&hellip;</td><td>&hellip;</td><td>&hellip;</td><td>&hellip;</td><td>&hellip;</td><td>&hellip;</td></tr><tr><td>48</td><td>133</td><td>48</td><td>30</td><td>22</td><td>17</td><td>12</td><td>9</td><td>5</td><td>3</td><td>2</td><td>1</td><td>0</td></tr><tr><td>49</td><td>137</td><td>48</td><td>30</td><td>22</td><td>17</td><td>14</td><td>9</td><td>6</td><td>4</td><td>2</td><td>1</td><td>0</td></tr><tr><td>50</td><td>137</td><td>50</td><td>30</td><td>22</td><td>17</td><td>14</td><td>9</td><td>7</td><td>6</td><td>3</td><td>2</td><td>1</td></tr><tr><td>51</td><td>137</td><td>51</td><td>30</td><td>22</td><td>17</td><td>14</td><td>9</td><td>8</td><td>6</td><td>3</td><td>2</td><td>1</td></tr><tr><td>52</td><td>139</td><td>52</td><td>31</td><td>23</td><td>17</td><td>14</td><td>9</td><td>8</td><td>6</td><td>4</td><td>2</td><td>1</td></tr></tbody></table></div>"
      ],
      "text/plain": [
       "shape: (52, 13)\n",
       "┌──────┬─────┬─────┬─────┬───┬─────┬─────┬─────┬─────┐\n",
       "│ Week ┆ 0   ┆ 1   ┆ 2   ┆ … ┆ 8   ┆ 9   ┆ 10  ┆ 11  │\n",
       "│ ---  ┆ --- ┆ --- ┆ --- ┆   ┆ --- ┆ --- ┆ --- ┆ --- │\n",
       "│ i16  ┆ u32 ┆ u32 ┆ u32 ┆   ┆ u32 ┆ u32 ┆ u32 ┆ u32 │\n",
       "╞══════╪═════╪═════╪═════╪═══╪═════╪═════╪═════╪═════╡\n",
       "│ 1    ┆ 8   ┆ 1   ┆ 0   ┆ … ┆ 0   ┆ 0   ┆ 0   ┆ 0   │\n",
       "│ 2    ┆ 14  ┆ 1   ┆ 0   ┆ … ┆ 0   ┆ 0   ┆ 0   ┆ 0   │\n",
       "│ 3    ┆ 16  ┆ 2   ┆ 0   ┆ … ┆ 0   ┆ 0   ┆ 0   ┆ 0   │\n",
       "│ 4    ┆ 32  ┆ 4   ┆ 0   ┆ … ┆ 0   ┆ 0   ┆ 0   ┆ 0   │\n",
       "│ 5    ┆ 40  ┆ 7   ┆ 0   ┆ … ┆ 0   ┆ 0   ┆ 0   ┆ 0   │\n",
       "│ …    ┆ …   ┆ …   ┆ …   ┆ … ┆ …   ┆ …   ┆ …   ┆ …   │\n",
       "│ 48   ┆ 133 ┆ 48  ┆ 30  ┆ … ┆ 3   ┆ 2   ┆ 1   ┆ 0   │\n",
       "│ 49   ┆ 137 ┆ 48  ┆ 30  ┆ … ┆ 4   ┆ 2   ┆ 1   ┆ 0   │\n",
       "│ 50   ┆ 137 ┆ 50  ┆ 30  ┆ … ┆ 6   ┆ 3   ┆ 2   ┆ 1   │\n",
       "│ 51   ┆ 137 ┆ 51  ┆ 30  ┆ … ┆ 6   ┆ 3   ┆ 2   ┆ 1   │\n",
       "│ 52   ┆ 139 ┆ 52  ┆ 31  ┆ … ┆ 6   ┆ 4   ┆ 2   ┆ 1   │\n",
       "└──────┴─────┴─────┴─────┴───┴─────┴─────┴─────┴─────┘"
      ]
     },
     "metadata": {},
     "output_type": "display_data"
    }
   ],
   "source": [
    "cum_trans_longform = agg_trans_longform.with_columns(pl.col('Count').cum_sum().over('DoR').alias('Cum DoR'))\n",
    "cum_trans_wideform = cum_trans_longform.collect().pivot(on='DoR', index='Week', values='Cum DoR')\n",
    "\n",
    "display(cum_trans_wideform)"
   ]
  },
  {
   "cell_type": "markdown",
   "metadata": {},
   "source": [
    "#### Creating a \"Raw\" Sales Volume Summary\n",
    "<a id='raw_vol_summary'></a>"
   ]
  },
  {
   "cell_type": "markdown",
   "metadata": {},
   "source": [
    "Having created a weekly transaction by depth-of-repeat level summary, it is extremely easy to create an equivalent **sales volume** (e.g., units) summary. Here, instead of counting IDs or length of aggregated dataframe as the value item, we sum `Units`. We note that a total of 396 units of the product were purchased (across the 306 purchase occasions)."
   ]
  },
  {
   "cell_type": "code",
   "execution_count": 10,
   "metadata": {},
   "outputs": [],
   "source": [
    "agg_vol = (\n",
    "    kiwi_lf_m2\n",
    "    .group_by('Week', 'DoR')\n",
    "    .agg(pl.col('Units').sum().alias('Units'))\n",
    ")\n",
    "\n",
    "week_total_vol = (\n",
    "    agg_vol\n",
    "    .group_by('Week')\n",
    "    .agg(pl.col('Units').sum().alias('Total')) \n",
    ")\n",
    "\n",
    "agg_vol_longform = (\n",
    "    dummy_lf\n",
    "    .join(agg_vol, on=['Week', 'DoR'], how='left')\n",
    "    .join(week_total_vol, on='Week', how='left')\n",
    "    .fill_null(0)\n",
    ")"
   ]
  },
  {
   "cell_type": "code",
   "execution_count": 11,
   "metadata": {},
   "outputs": [
    {
     "data": {
      "text/html": [
       "<div><style>\n",
       ".dataframe > thead > tr,\n",
       ".dataframe > tbody > tr {\n",
       "  text-align: right;\n",
       "  white-space: pre-wrap;\n",
       "}\n",
       "</style>\n",
       "<small>shape: (49, 14)</small><table border=\"1\" class=\"dataframe\"><thead><tr><th>Week</th><th>0</th><th>1</th><th>2</th><th>3</th><th>4</th><th>5</th><th>6</th><th>7</th><th>8</th><th>9</th><th>10</th><th>11</th><th>Total</th></tr><tr><td>i16</td><td>i64</td><td>i64</td><td>i64</td><td>i64</td><td>i64</td><td>i64</td><td>i64</td><td>i64</td><td>i64</td><td>i64</td><td>i64</td><td>i64</td><td>i64</td></tr></thead><tbody><tr><td>1</td><td>9</td><td>1</td><td>0</td><td>0</td><td>0</td><td>0</td><td>0</td><td>0</td><td>0</td><td>0</td><td>0</td><td>0</td><td>10</td></tr><tr><td>2</td><td>6</td><td>0</td><td>0</td><td>0</td><td>0</td><td>0</td><td>0</td><td>0</td><td>0</td><td>0</td><td>0</td><td>0</td><td>6</td></tr><tr><td>3</td><td>2</td><td>1</td><td>0</td><td>0</td><td>0</td><td>0</td><td>0</td><td>0</td><td>0</td><td>0</td><td>0</td><td>0</td><td>3</td></tr><tr><td>4</td><td>19</td><td>3</td><td>0</td><td>0</td><td>0</td><td>0</td><td>0</td><td>0</td><td>0</td><td>0</td><td>0</td><td>0</td><td>22</td></tr><tr><td>5</td><td>8</td><td>3</td><td>0</td><td>0</td><td>0</td><td>0</td><td>0</td><td>0</td><td>0</td><td>0</td><td>0</td><td>0</td><td>11</td></tr><tr><td>&hellip;</td><td>&hellip;</td><td>&hellip;</td><td>&hellip;</td><td>&hellip;</td><td>&hellip;</td><td>&hellip;</td><td>&hellip;</td><td>&hellip;</td><td>&hellip;</td><td>&hellip;</td><td>&hellip;</td><td>&hellip;</td><td>&hellip;</td></tr><tr><td>48</td><td>1</td><td>1</td><td>1</td><td>1</td><td>0</td><td>0</td><td>0</td><td>1</td><td>0</td><td>0</td><td>0</td><td>0</td><td>5</td></tr><tr><td>49</td><td>4</td><td>0</td><td>0</td><td>0</td><td>0</td><td>2</td><td>0</td><td>2</td><td>1</td><td>0</td><td>0</td><td>0</td><td>9</td></tr><tr><td>50</td><td>0</td><td>2</td><td>0</td><td>0</td><td>0</td><td>0</td><td>0</td><td>1</td><td>3</td><td>2</td><td>2</td><td>1</td><td>11</td></tr><tr><td>51</td><td>0</td><td>2</td><td>0</td><td>0</td><td>0</td><td>0</td><td>0</td><td>2</td><td>0</td><td>0</td><td>0</td><td>0</td><td>4</td></tr><tr><td>52</td><td>2</td><td>1</td><td>1</td><td>2</td><td>0</td><td>0</td><td>0</td><td>0</td><td>0</td><td>2</td><td>0</td><td>0</td><td>8</td></tr></tbody></table></div>"
      ],
      "text/plain": [
       "shape: (49, 14)\n",
       "┌──────┬─────┬─────┬─────┬───┬─────┬─────┬─────┬───────┐\n",
       "│ Week ┆ 0   ┆ 1   ┆ 2   ┆ … ┆ 9   ┆ 10  ┆ 11  ┆ Total │\n",
       "│ ---  ┆ --- ┆ --- ┆ --- ┆   ┆ --- ┆ --- ┆ --- ┆ ---   │\n",
       "│ i16  ┆ i64 ┆ i64 ┆ i64 ┆   ┆ i64 ┆ i64 ┆ i64 ┆ i64   │\n",
       "╞══════╪═════╪═════╪═════╪═══╪═════╪═════╪═════╪═══════╡\n",
       "│ 1    ┆ 9   ┆ 1   ┆ 0   ┆ … ┆ 0   ┆ 0   ┆ 0   ┆ 10    │\n",
       "│ 2    ┆ 6   ┆ 0   ┆ 0   ┆ … ┆ 0   ┆ 0   ┆ 0   ┆ 6     │\n",
       "│ 3    ┆ 2   ┆ 1   ┆ 0   ┆ … ┆ 0   ┆ 0   ┆ 0   ┆ 3     │\n",
       "│ 4    ┆ 19  ┆ 3   ┆ 0   ┆ … ┆ 0   ┆ 0   ┆ 0   ┆ 22    │\n",
       "│ 5    ┆ 8   ┆ 3   ┆ 0   ┆ … ┆ 0   ┆ 0   ┆ 0   ┆ 11    │\n",
       "│ …    ┆ …   ┆ …   ┆ …   ┆ … ┆ …   ┆ …   ┆ …   ┆ …     │\n",
       "│ 48   ┆ 1   ┆ 1   ┆ 1   ┆ … ┆ 0   ┆ 0   ┆ 0   ┆ 5     │\n",
       "│ 49   ┆ 4   ┆ 0   ┆ 0   ┆ … ┆ 0   ┆ 0   ┆ 0   ┆ 9     │\n",
       "│ 50   ┆ 0   ┆ 2   ┆ 0   ┆ … ┆ 2   ┆ 2   ┆ 1   ┆ 11    │\n",
       "│ 51   ┆ 0   ┆ 2   ┆ 0   ┆ … ┆ 0   ┆ 0   ┆ 0   ┆ 4     │\n",
       "│ 52   ┆ 2   ┆ 1   ┆ 1   ┆ … ┆ 2   ┆ 0   ┆ 0   ┆ 8     │\n",
       "└──────┴─────┴─────┴─────┴───┴─────┴─────┴─────┴───────┘"
      ]
     },
     "metadata": {},
     "output_type": "display_data"
    },
    {
     "data": {
      "text/html": [
       "<div><style>\n",
       ".dataframe > thead > tr,\n",
       ".dataframe > tbody > tr {\n",
       "  text-align: right;\n",
       "  white-space: pre-wrap;\n",
       "}\n",
       "</style>\n",
       "<small>shape: (1, 13)</small><table border=\"1\" class=\"dataframe\"><thead><tr><th>0</th><th>1</th><th>2</th><th>3</th><th>4</th><th>5</th><th>6</th><th>7</th><th>8</th><th>9</th><th>10</th><th>11</th><th>Total</th></tr><tr><td>i64</td><td>i64</td><td>i64</td><td>i64</td><td>i64</td><td>i64</td><td>i64</td><td>i64</td><td>i64</td><td>i64</td><td>i64</td><td>i64</td><td>i64</td></tr></thead><tbody><tr><td>161</td><td>64</td><td>42</td><td>30</td><td>24</td><td>20</td><td>14</td><td>19</td><td>10</td><td>7</td><td>4</td><td>1</td><td>396</td></tr></tbody></table></div>"
      ],
      "text/plain": [
       "shape: (1, 13)\n",
       "┌─────┬─────┬─────┬─────┬───┬─────┬─────┬─────┬───────┐\n",
       "│ 0   ┆ 1   ┆ 2   ┆ 3   ┆ … ┆ 9   ┆ 10  ┆ 11  ┆ Total │\n",
       "│ --- ┆ --- ┆ --- ┆ --- ┆   ┆ --- ┆ --- ┆ --- ┆ ---   │\n",
       "│ i64 ┆ i64 ┆ i64 ┆ i64 ┆   ┆ i64 ┆ i64 ┆ i64 ┆ i64   │\n",
       "╞═════╪═════╪═════╪═════╪═══╪═════╪═════╪═════╪═══════╡\n",
       "│ 161 ┆ 64  ┆ 42  ┆ 30  ┆ … ┆ 7   ┆ 4   ┆ 1   ┆ 396   │\n",
       "└─────┴─────┴─────┴─────┴───┴─────┴─────┴─────┴───────┘"
      ]
     },
     "metadata": {},
     "output_type": "display_data"
    }
   ],
   "source": [
    "agg_vol_wideform = (\n",
    "    agg_vol_longform\n",
    "    .collect()\n",
    "    .pivot(on='DoR', index='Week', values='Units')\n",
    "    .join(week_total_vol.collect(), on='Week')\n",
    ")\n",
    "\n",
    "col_total = agg_vol_wideform.select(pl.col('*').exclude('Week').sum())\n",
    "\n",
    "display(agg_vol_wideform)\n",
    "display(col_total)"
   ]
  },
  {
   "cell_type": "markdown",
   "metadata": {},
   "source": [
    "A cleaned-up summary that reports these weekly transactions in cumulative form is created below. We note that a total of 161 units were purchased on the 139 trial purchase occasions, an average 1.16 units per trial purchase."
   ]
  },
  {
   "cell_type": "code",
   "execution_count": 12,
   "metadata": {},
   "outputs": [
    {
     "data": {
      "text/html": [
       "<div><style>\n",
       ".dataframe > thead > tr,\n",
       ".dataframe > tbody > tr {\n",
       "  text-align: right;\n",
       "  white-space: pre-wrap;\n",
       "}\n",
       "</style>\n",
       "<small>shape: (52, 13)</small><table border=\"1\" class=\"dataframe\"><thead><tr><th>Week</th><th>0</th><th>1</th><th>2</th><th>3</th><th>4</th><th>5</th><th>6</th><th>7</th><th>8</th><th>9</th><th>10</th><th>11</th></tr><tr><td>i16</td><td>i64</td><td>i64</td><td>i64</td><td>i64</td><td>i64</td><td>i64</td><td>i64</td><td>i64</td><td>i64</td><td>i64</td><td>i64</td><td>i64</td></tr></thead><tbody><tr><td>1</td><td>9</td><td>1</td><td>0</td><td>0</td><td>0</td><td>0</td><td>0</td><td>0</td><td>0</td><td>0</td><td>0</td><td>0</td></tr><tr><td>2</td><td>15</td><td>1</td><td>0</td><td>0</td><td>0</td><td>0</td><td>0</td><td>0</td><td>0</td><td>0</td><td>0</td><td>0</td></tr><tr><td>3</td><td>17</td><td>2</td><td>0</td><td>0</td><td>0</td><td>0</td><td>0</td><td>0</td><td>0</td><td>0</td><td>0</td><td>0</td></tr><tr><td>4</td><td>36</td><td>5</td><td>0</td><td>0</td><td>0</td><td>0</td><td>0</td><td>0</td><td>0</td><td>0</td><td>0</td><td>0</td></tr><tr><td>5</td><td>44</td><td>8</td><td>0</td><td>0</td><td>0</td><td>0</td><td>0</td><td>0</td><td>0</td><td>0</td><td>0</td><td>0</td></tr><tr><td>&hellip;</td><td>&hellip;</td><td>&hellip;</td><td>&hellip;</td><td>&hellip;</td><td>&hellip;</td><td>&hellip;</td><td>&hellip;</td><td>&hellip;</td><td>&hellip;</td><td>&hellip;</td><td>&hellip;</td><td>&hellip;</td></tr><tr><td>48</td><td>155</td><td>59</td><td>41</td><td>28</td><td>24</td><td>18</td><td>14</td><td>14</td><td>6</td><td>3</td><td>2</td><td>0</td></tr><tr><td>49</td><td>159</td><td>59</td><td>41</td><td>28</td><td>24</td><td>20</td><td>14</td><td>16</td><td>7</td><td>3</td><td>2</td><td>0</td></tr><tr><td>50</td><td>159</td><td>61</td><td>41</td><td>28</td><td>24</td><td>20</td><td>14</td><td>17</td><td>10</td><td>5</td><td>4</td><td>1</td></tr><tr><td>51</td><td>159</td><td>63</td><td>41</td><td>28</td><td>24</td><td>20</td><td>14</td><td>19</td><td>10</td><td>5</td><td>4</td><td>1</td></tr><tr><td>52</td><td>161</td><td>64</td><td>42</td><td>30</td><td>24</td><td>20</td><td>14</td><td>19</td><td>10</td><td>7</td><td>4</td><td>1</td></tr></tbody></table></div>"
      ],
      "text/plain": [
       "shape: (52, 13)\n",
       "┌──────┬─────┬─────┬─────┬───┬─────┬─────┬─────┬─────┐\n",
       "│ Week ┆ 0   ┆ 1   ┆ 2   ┆ … ┆ 8   ┆ 9   ┆ 10  ┆ 11  │\n",
       "│ ---  ┆ --- ┆ --- ┆ --- ┆   ┆ --- ┆ --- ┆ --- ┆ --- │\n",
       "│ i16  ┆ i64 ┆ i64 ┆ i64 ┆   ┆ i64 ┆ i64 ┆ i64 ┆ i64 │\n",
       "╞══════╪═════╪═════╪═════╪═══╪═════╪═════╪═════╪═════╡\n",
       "│ 1    ┆ 9   ┆ 1   ┆ 0   ┆ … ┆ 0   ┆ 0   ┆ 0   ┆ 0   │\n",
       "│ 2    ┆ 15  ┆ 1   ┆ 0   ┆ … ┆ 0   ┆ 0   ┆ 0   ┆ 0   │\n",
       "│ 3    ┆ 17  ┆ 2   ┆ 0   ┆ … ┆ 0   ┆ 0   ┆ 0   ┆ 0   │\n",
       "│ 4    ┆ 36  ┆ 5   ┆ 0   ┆ … ┆ 0   ┆ 0   ┆ 0   ┆ 0   │\n",
       "│ 5    ┆ 44  ┆ 8   ┆ 0   ┆ … ┆ 0   ┆ 0   ┆ 0   ┆ 0   │\n",
       "│ …    ┆ …   ┆ …   ┆ …   ┆ … ┆ …   ┆ …   ┆ …   ┆ …   │\n",
       "│ 48   ┆ 155 ┆ 59  ┆ 41  ┆ … ┆ 6   ┆ 3   ┆ 2   ┆ 0   │\n",
       "│ 49   ┆ 159 ┆ 59  ┆ 41  ┆ … ┆ 7   ┆ 3   ┆ 2   ┆ 0   │\n",
       "│ 50   ┆ 159 ┆ 61  ┆ 41  ┆ … ┆ 10  ┆ 5   ┆ 4   ┆ 1   │\n",
       "│ 51   ┆ 159 ┆ 63  ┆ 41  ┆ … ┆ 10  ┆ 5   ┆ 4   ┆ 1   │\n",
       "│ 52   ┆ 161 ┆ 64  ┆ 42  ┆ … ┆ 10  ┆ 7   ┆ 4   ┆ 1   │\n",
       "└──────┴─────┴─────┴─────┴───┴─────┴─────┴─────┴─────┘"
      ]
     },
     "metadata": {},
     "output_type": "display_data"
    }
   ],
   "source": [
    "cum_vol_longform = agg_vol_longform.with_columns(pl.col('Units').cum_sum().over('DoR').alias('Cum DoR'))\n",
    "cum_vol_wideform = cum_vol_longform.collect().pivot(on='DoR', index='Week', values='Cum DoR')\n",
    "\n",
    "display(cum_vol_wideform)"
   ]
  },
  {
   "cell_type": "markdown",
   "metadata": {},
   "source": [
    "#### Creating a \"Shifted\" Transactions Summary\n",
    "<a id='raw_shifted_trans_summary'></a>"
   ]
  },
  {
   "cell_type": "markdown",
   "metadata": {},
   "source": [
    "We now turn our attention to the task of creating a weekly transaction by depth-of-repeat level summary under the assumption that a customer can have only one transaction per week. In other words, a second purchase within a single week is \"shifted\" to the next week (i.e., coded as occurring in the following week).\n",
    "\n",
    "Referring back to panellist `20014`, the field that indicates the depth-of-repeat level associated with each record (DoR) is correct. What we need to do is makes some changes to the week field: we want the week associated with the first repeat purchase to be 5, and the week associated with the fourth repeat purchase to be 8. One solution would be to create a new week variable that equals the original week variable +1 if the week associated with the current record is the same as that of the previous record. But what if we have three purchases occurring in the same week?"
   ]
  },
  {
   "cell_type": "code",
   "execution_count": 13,
   "metadata": {},
   "outputs": [
    {
     "data": {
      "text/html": [
       "<div><style>\n",
       ".dataframe > thead > tr,\n",
       ".dataframe > tbody > tr {\n",
       "  text-align: right;\n",
       "  white-space: pre-wrap;\n",
       "}\n",
       "</style>\n",
       "<small>shape: (9, 5)</small><table border=\"1\" class=\"dataframe\"><thead><tr><th>ID</th><th>Week</th><th>Day</th><th>Units</th><th>DoR</th></tr><tr><td>u16</td><td>i16</td><td>i16</td><td>i16</td><td>u16</td></tr></thead><tbody><tr><td>20014</td><td>4</td><td>2</td><td>1</td><td>0</td></tr><tr><td>20014</td><td>4</td><td>4</td><td>1</td><td>1</td></tr><tr><td>20014</td><td>6</td><td>6</td><td>2</td><td>2</td></tr><tr><td>20014</td><td>7</td><td>2</td><td>3</td><td>3</td></tr><tr><td>20014</td><td>7</td><td>6</td><td>3</td><td>4</td></tr><tr><td>20014</td><td>12</td><td>5</td><td>2</td><td>5</td></tr><tr><td>20014</td><td>17</td><td>6</td><td>1</td><td>6</td></tr><tr><td>20014</td><td>23</td><td>4</td><td>2</td><td>7</td></tr><tr><td>20014</td><td>47</td><td>6</td><td>2</td><td>8</td></tr></tbody></table></div>"
      ],
      "text/plain": [
       "shape: (9, 5)\n",
       "┌───────┬──────┬─────┬───────┬─────┐\n",
       "│ ID    ┆ Week ┆ Day ┆ Units ┆ DoR │\n",
       "│ ---   ┆ ---  ┆ --- ┆ ---   ┆ --- │\n",
       "│ u16   ┆ i16  ┆ i16 ┆ i16   ┆ u16 │\n",
       "╞═══════╪══════╪═════╪═══════╪═════╡\n",
       "│ 20014 ┆ 4    ┆ 2   ┆ 1     ┆ 0   │\n",
       "│ 20014 ┆ 4    ┆ 4   ┆ 1     ┆ 1   │\n",
       "│ 20014 ┆ 6    ┆ 6   ┆ 2     ┆ 2   │\n",
       "│ 20014 ┆ 7    ┆ 2   ┆ 3     ┆ 3   │\n",
       "│ 20014 ┆ 7    ┆ 6   ┆ 3     ┆ 4   │\n",
       "│ 20014 ┆ 12   ┆ 5   ┆ 2     ┆ 5   │\n",
       "│ 20014 ┆ 17   ┆ 6   ┆ 1     ┆ 6   │\n",
       "│ 20014 ┆ 23   ┆ 4   ┆ 2     ┆ 7   │\n",
       "│ 20014 ┆ 47   ┆ 6   ┆ 2     ┆ 8   │\n",
       "└───────┴──────┴─────┴───────┴─────┘"
      ]
     },
     "execution_count": 13,
     "metadata": {},
     "output_type": "execute_result"
    }
   ],
   "source": [
    "kiwi_lf_m2.filter(pl.col('ID') == 20014).collect()"
   ]
  },
  {
   "cell_type": "code",
   "execution_count": 14,
   "metadata": {},
   "outputs": [
    {
     "data": {
      "text/html": [
       "<div><style>\n",
       ".dataframe > thead > tr,\n",
       ".dataframe > tbody > tr {\n",
       "  text-align: right;\n",
       "  white-space: pre-wrap;\n",
       "}\n",
       "</style>\n",
       "<small>shape: (3, 5)</small><table border=\"1\" class=\"dataframe\"><thead><tr><th>ID</th><th>Week</th><th>Day</th><th>Units</th><th>DoR</th></tr><tr><td>u16</td><td>i16</td><td>i16</td><td>i16</td><td>u16</td></tr></thead><tbody><tr><td>20069</td><td>18</td><td>1</td><td>1</td><td>0</td></tr><tr><td>20069</td><td>18</td><td>5</td><td>1</td><td>1</td></tr><tr><td>20069</td><td>19</td><td>4</td><td>2</td><td>2</td></tr></tbody></table></div>"
      ],
      "text/plain": [
       "shape: (3, 5)\n",
       "┌───────┬──────┬─────┬───────┬─────┐\n",
       "│ ID    ┆ Week ┆ Day ┆ Units ┆ DoR │\n",
       "│ ---   ┆ ---  ┆ --- ┆ ---   ┆ --- │\n",
       "│ u16   ┆ i16  ┆ i16 ┆ i16   ┆ u16 │\n",
       "╞═══════╪══════╪═════╪═══════╪═════╡\n",
       "│ 20069 ┆ 18   ┆ 1   ┆ 1     ┆ 0   │\n",
       "│ 20069 ┆ 18   ┆ 5   ┆ 1     ┆ 1   │\n",
       "│ 20069 ┆ 19   ┆ 4   ┆ 2     ┆ 2   │\n",
       "└───────┴──────┴─────┴───────┴─────┘"
      ]
     },
     "execution_count": 14,
     "metadata": {},
     "output_type": "execute_result"
    }
   ],
   "source": [
    "kiwi_lf_m2.filter(pl.col('ID') == 20069).collect()"
   ]
  },
  {
   "cell_type": "markdown",
   "metadata": {},
   "source": [
    "To complicate matters, consider the transaction history of panelist 20069. This person's trial and first repeat purchases occurred in the same week. We therefore change the week associated with the first repeat purchase from 18 to 19. But this creates another problem as this person's second repeat purchase occurred in week 19. Having shifted the first repeat purchase to week 19, we have to shift the second repeat purchase to week 20.\n",
    "\n",
    "Our solution is to create an offset variable that can be added to the value of the week field, giving us a \"shifted\" week variable. Clearly the value of this offset will be zero for the trial purchase. For any repeat purchase record, if the week associated with the current record is the same as that of the previous record, we increment the offset variable by 1. (This ensures that the third purchase in a given week is shifted two weeks.) We also need to shift any purchases encroached on by the shifting of previous purchases (such as the second repeat purchase for panelist 20069).\n",
    "\n",
    "We create this offset variable in the following manner."
   ]
  },
  {
   "cell_type": "markdown",
   "metadata": {},
   "source": [
    "```\n",
    "=IF(Current ID = Previous ID,\n",
    "    IF(Current Week = Previous Week, \n",
    "        Previous Offset+1 ,\n",
    "        MAX(0,Previous Week + Previous Office - Current Week + 1)),\n",
    "    0)\n",
    "```"
   ]
  },
  {
   "cell_type": "code",
   "execution_count": 28,
   "metadata": {},
   "outputs": [
    {
     "data": {
      "text/html": [
       "<div><style>\n",
       ".dataframe > thead > tr,\n",
       ".dataframe > tbody > tr {\n",
       "  text-align: right;\n",
       "  white-space: pre-wrap;\n",
       "}\n",
       "</style>\n",
       "<small>shape: (7, 8)</small><table border=\"1\" class=\"dataframe\"><thead><tr><th>ID</th><th>Week</th><th>Day</th><th>Units</th><th>DoR</th><th>Prev_Week</th><th>Offset</th><th>shWeek</th></tr><tr><td>u16</td><td>i16</td><td>i16</td><td>i16</td><td>u16</td><td>i16</td><td>i32</td><td>i32</td></tr></thead><tbody><tr><td>20014</td><td>4</td><td>4</td><td>1</td><td>1</td><td>4</td><td>1</td><td>5</td></tr><tr><td>20014</td><td>7</td><td>6</td><td>3</td><td>4</td><td>7</td><td>1</td><td>8</td></tr><tr><td>20051</td><td>17</td><td>7</td><td>2</td><td>1</td><td>17</td><td>1</td><td>18</td></tr><tr><td>20057</td><td>16</td><td>4</td><td>3</td><td>2</td><td>16</td><td>1</td><td>17</td></tr><tr><td>20069</td><td>18</td><td>5</td><td>1</td><td>1</td><td>18</td><td>1</td><td>19</td></tr><tr><td>20117</td><td>1</td><td>4</td><td>1</td><td>1</td><td>1</td><td>1</td><td>2</td></tr><tr><td>20118</td><td>19</td><td>5</td><td>1</td><td>5</td><td>19</td><td>1</td><td>20</td></tr></tbody></table></div>"
      ],
      "text/plain": [
       "shape: (7, 8)\n",
       "┌───────┬──────┬─────┬───────┬─────┬───────────┬────────┬────────┐\n",
       "│ ID    ┆ Week ┆ Day ┆ Units ┆ DoR ┆ Prev_Week ┆ Offset ┆ shWeek │\n",
       "│ ---   ┆ ---  ┆ --- ┆ ---   ┆ --- ┆ ---       ┆ ---    ┆ ---    │\n",
       "│ u16   ┆ i16  ┆ i16 ┆ i16   ┆ u16 ┆ i16       ┆ i32    ┆ i32    │\n",
       "╞═══════╪══════╪═════╪═══════╪═════╪═══════════╪════════╪════════╡\n",
       "│ 20014 ┆ 4    ┆ 4   ┆ 1     ┆ 1   ┆ 4         ┆ 1      ┆ 5      │\n",
       "│ 20014 ┆ 7    ┆ 6   ┆ 3     ┆ 4   ┆ 7         ┆ 1      ┆ 8      │\n",
       "│ 20051 ┆ 17   ┆ 7   ┆ 2     ┆ 1   ┆ 17        ┆ 1      ┆ 18     │\n",
       "│ 20057 ┆ 16   ┆ 4   ┆ 3     ┆ 2   ┆ 16        ┆ 1      ┆ 17     │\n",
       "│ 20069 ┆ 18   ┆ 5   ┆ 1     ┆ 1   ┆ 18        ┆ 1      ┆ 19     │\n",
       "│ 20117 ┆ 1    ┆ 4   ┆ 1     ┆ 1   ┆ 1         ┆ 1      ┆ 2      │\n",
       "│ 20118 ┆ 19   ┆ 5   ┆ 1     ┆ 5   ┆ 19        ┆ 1      ┆ 20     │\n",
       "└───────┴──────┴─────┴───────┴─────┴───────────┴────────┴────────┘"
      ]
     },
     "execution_count": 28,
     "metadata": {},
     "output_type": "execute_result"
    }
   ],
   "source": [
    "# Add shifted columns to represent previous-row values\n",
    "kiwi_lf_offset = (\n",
    "    kiwi_lf_m2\n",
    "    .with_columns(\n",
    "        pl.col(\"Week\").shift(1).alias(\"Prev_Week\"),\n",
    "        pl.lit(0).alias(\"Offset\")\n",
    "    ).with_columns(\n",
    "        (pl.when(pl.col('Week') == pl.col('Prev_Week'))\n",
    "         .then((pl.col('Offset').shift(1)) + 1)\n",
    "         .otherwise(\n",
    "             pl.max_horizontal(0, pl.col('Prev_Week') + (pl.col('Offset').shift(1)) - pl.col('Week') + 1)\n",
    "        )            \n",
    "        ).over('ID').alias('Offset')\n",
    "    ).fill_null(0)\n",
    "    .with_columns((pl.col('Week') + pl.col('Offset')).alias('shWeek'))\n",
    "    .collect()\n",
    ")\n",
    "\n",
    "kiwi_lf_offset.filter(pl.col('Offset') == 1)"
   ]
  },
  {
   "cell_type": "code",
   "execution_count": 38,
   "metadata": {},
   "outputs": [
    {
     "data": {
      "text/html": [
       "<div><style>\n",
       ".dataframe > thead > tr,\n",
       ".dataframe > tbody > tr {\n",
       "  text-align: right;\n",
       "  white-space: pre-wrap;\n",
       "}\n",
       "</style>\n",
       "<small>shape: (7, 9)</small><table border=\"1\" class=\"dataframe\"><thead><tr><th>ID</th><th>Week</th><th>Day</th><th>Units</th><th>DoR</th><th>Prev_Week</th><th>Prev_ID</th><th>Offset</th><th>shWeek</th></tr><tr><td>u16</td><td>i16</td><td>i16</td><td>i16</td><td>u16</td><td>i16</td><td>u16</td><td>i32</td><td>i32</td></tr></thead><tbody><tr><td>20014</td><td>4</td><td>4</td><td>1</td><td>1</td><td>4</td><td>20014</td><td>1</td><td>5</td></tr><tr><td>20014</td><td>7</td><td>6</td><td>3</td><td>4</td><td>7</td><td>20014</td><td>1</td><td>8</td></tr><tr><td>20051</td><td>17</td><td>7</td><td>2</td><td>1</td><td>17</td><td>20051</td><td>1</td><td>18</td></tr><tr><td>20057</td><td>16</td><td>4</td><td>3</td><td>2</td><td>16</td><td>20057</td><td>1</td><td>17</td></tr><tr><td>20069</td><td>18</td><td>5</td><td>1</td><td>1</td><td>18</td><td>20069</td><td>1</td><td>19</td></tr><tr><td>20117</td><td>1</td><td>4</td><td>1</td><td>1</td><td>1</td><td>20117</td><td>1</td><td>2</td></tr><tr><td>20118</td><td>19</td><td>5</td><td>1</td><td>5</td><td>19</td><td>20118</td><td>1</td><td>20</td></tr></tbody></table></div>"
      ],
      "text/plain": [
       "shape: (7, 9)\n",
       "┌───────┬──────┬─────┬───────┬───┬───────────┬─────────┬────────┬────────┐\n",
       "│ ID    ┆ Week ┆ Day ┆ Units ┆ … ┆ Prev_Week ┆ Prev_ID ┆ Offset ┆ shWeek │\n",
       "│ ---   ┆ ---  ┆ --- ┆ ---   ┆   ┆ ---       ┆ ---     ┆ ---    ┆ ---    │\n",
       "│ u16   ┆ i16  ┆ i16 ┆ i16   ┆   ┆ i16       ┆ u16     ┆ i32    ┆ i32    │\n",
       "╞═══════╪══════╪═════╪═══════╪═══╪═══════════╪═════════╪════════╪════════╡\n",
       "│ 20014 ┆ 4    ┆ 4   ┆ 1     ┆ … ┆ 4         ┆ 20014   ┆ 1      ┆ 5      │\n",
       "│ 20014 ┆ 7    ┆ 6   ┆ 3     ┆ … ┆ 7         ┆ 20014   ┆ 1      ┆ 8      │\n",
       "│ 20051 ┆ 17   ┆ 7   ┆ 2     ┆ … ┆ 17        ┆ 20051   ┆ 1      ┆ 18     │\n",
       "│ 20057 ┆ 16   ┆ 4   ┆ 3     ┆ … ┆ 16        ┆ 20057   ┆ 1      ┆ 17     │\n",
       "│ 20069 ┆ 18   ┆ 5   ┆ 1     ┆ … ┆ 18        ┆ 20069   ┆ 1      ┆ 19     │\n",
       "│ 20117 ┆ 1    ┆ 4   ┆ 1     ┆ … ┆ 1         ┆ 20117   ┆ 1      ┆ 2      │\n",
       "│ 20118 ┆ 19   ┆ 5   ┆ 1     ┆ … ┆ 19        ┆ 20118   ┆ 1      ┆ 20     │\n",
       "└───────┴──────┴─────┴───────┴───┴───────────┴─────────┴────────┴────────┘"
      ]
     },
     "execution_count": 38,
     "metadata": {},
     "output_type": "execute_result"
    }
   ],
   "source": [
    "# Add shifted columns to represent previous-row values\n",
    "kiwi_lf_offset = (\n",
    "    kiwi_lf_m2\n",
    "    .with_columns(\n",
    "        pl.col(\"Week\").shift(1).alias(\"Prev_Week\"),\n",
    "        pl.col('ID').shift(1).alias('Prev_ID'),\n",
    "        pl.lit(0).alias(\"Offset\")\n",
    "    ).with_columns(\n",
    "        pl.when(pl.col('ID') == pl.col('Prev_ID'))\n",
    "        .then(pl.when(pl.col('Week') == pl.col('Prev_Week'))\n",
    "              .then((pl.col('Offset').shift(1)) + 1)\n",
    "              .otherwise(pl.max_horizontal(0, pl.col('Prev_Week') + (pl.col('Offset').shift(1)) - pl.col('Week') + 1))            \n",
    "        ).otherwise(0).alias('Offset')\n",
    "    ).fill_null(0)\n",
    "    .with_columns((pl.col('Week') + pl.col('Offset')).alias('shWeek'))\n",
    "    .collect()\n",
    ")\n",
    "\n",
    "kiwi_lf_offset.filter(pl.col('Offset') != 0)"
   ]
  }
 ],
 "metadata": {
  "kernelspec": {
   "display_name": "fin",
   "language": "python",
   "name": "python3"
  },
  "language_info": {
   "codemirror_mode": {
    "name": "ipython",
    "version": 3
   },
   "file_extension": ".py",
   "mimetype": "text/x-python",
   "name": "python",
   "nbconvert_exporter": "python",
   "pygments_lexer": "ipython3",
   "version": "3.12.7"
  }
 },
 "nbformat": 4,
 "nbformat_minor": 2
}
