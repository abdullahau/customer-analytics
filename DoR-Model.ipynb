{
 "cells": [
  {
   "cell_type": "markdown",
   "metadata": {},
   "source": [
    "## <span style=\"color:#956bbf\">Depth-of-Repeat Model - Sales Summary & Sales Forecasting</span>\n",
    "---"
   ]
  },
  {
   "cell_type": "markdown",
   "metadata": {},
   "source": [
    "### <span style=\"color:#956bbf\">Introduction</span>"
   ]
  },
  {
   "cell_type": "markdown",
   "metadata": {},
   "source": [
    "**Source**:\n",
    "- [Creating a Depth-of-Repeat Sales Summary Using Excel](https://www.brucehardie.com/notes/006/) by Bruce G. S. Hardie & Peter S. Fader\n",
    "- [Generating a Sales Forecast With a Simple Depth-of-Repeat Model](https://www.brucehardie.com/notes/007/) by Bruce G. S. Hardie & Peter S. Fader"
   ]
  },
  {
   "cell_type": "markdown",
   "metadata": {},
   "source": [
    "Central to diagnosing the performance of a new product is the decomposition of its total sales into trial, first repeat, second repeat, and so on, components. More formally, we are interested in creating a summary of purchasing that tells us for each unit of time (e.g., week), the cumulative number of people who have made a trial (i.e., first-ever) purchase, a first repeat (i.e., secondever) purchase, a second repeat purchase, and so on. We let $T(t)$ denote the cumulative number of people who have made a trial purchase by time $t$, and $R_{j}(t)$ denote the number of people who have made at least $j$ repeat purchases of the new product by time $t(j=1,2,3, \\ldots)$.\n",
    "\n",
    "With such a data summary in place, standard new product performance metrics such as “percent triers repeating” and “repeats per repeater” are easily computed from these data. At any point in time $t$, percent triers repeating is computed as $R_{1}(t)/T (t)$, while repeats per repeater is computed as $R(t)/R_{1}(t)$, where $R(t)$ is the total number of repeat purchases up to time $t$:\n",
    "\n",
    "$$\n",
    "R(t)=\\sum_{j=1}^{\\infty} R_{j}(t)\n",
    "$$\n",
    "\n",
    "Furthermore, a simple new product sales forecasting model can easily be built around such a data summary.\n",
    "\n",
    "we describe how to create such a sales summary from raw customer-level transaction data (typically collected via a consumer panel) using python."
   ]
  },
  {
   "cell_type": "markdown",
   "metadata": {},
   "source": [
    "A consumer panel is formed by selecting a representative sample of individuals or households (from the population of interest) and recording their complete behaviour (e.g., purchasing of FMCG products) over a fixed period of time.\n",
    "\n",
    "For a given product category, we can construct a dataset that reports the timing of each purchase, along with details of the product purchased. A stylized representation of this is given in the figure (Purchase Histories: Total Category) below for a total of $n$ households, in which we consider an observation period starting with the launch of a new product and ending at time $t_{\\text {end }}$. We let $\\diamond$ denote a purchase of the new product and $\\times$ denote the purchase of any other product in the category.\n",
    "\n",
    "<div style=\"max-width:400px;margin-left: auto; margin-right: auto;\">\n",
    "<img src=\"references\\Depth-of-Repeat\\Purchase Histories-Total Category.png\"/>\n",
    "</div>\n",
    "\n",
    "We see that HH 1 made three category purchases over the observation period but never purchased the new product. HH 2 made seven category purchases; the third category purchase represents a trial purchase of the new product, and no repeat purchasing activity was observed over the remainder of the observation period. HH 3 made a trial purchase of the new product and two repeat purchases. And so on.\n",
    "\n",
    "In many analysis situations, where we are focusing on a particular product, purchase records not associated with the focal product are removed to yield a simpler (and smaller) dataset. A stylized representation of this is given in the figure (Purchase Histories: New Product Only) below. As HH 1 never bought the new product, there is no explicit record of this household in the resulting dataset.\n",
    "\n",
    "<div style=\"max-width:400px;margin-left: auto; margin-right: auto;\">\n",
    "<img src=\"references\\Depth-of-Repeat\\Purchase Histories-New Product Only.png\"/>\n",
    "</div>"
   ]
  },
  {
   "cell_type": "markdown",
   "metadata": {},
   "source": [
    "### <span style=\"color:#956bbf\">Imports</span>\n",
    "---"
   ]
  },
  {
   "cell_type": "markdown",
   "metadata": {},
   "source": [
    "#### Import Packages"
   ]
  },
  {
   "cell_type": "code",
   "execution_count": 1,
   "metadata": {},
   "outputs": [
    {
     "data": {
      "text/plain": [
       "RendererRegistry.enable('mimetype')"
      ]
     },
     "execution_count": 1,
     "metadata": {},
     "output_type": "execute_result"
    }
   ],
   "source": [
    "import polars as pl\n",
    "import numpy as np\n",
    "import altair as alt\n",
    "from scipy.optimize import minimize\n",
    "from IPython.display import display_markdown\n",
    "\n",
    "alt.renderers.enable('mimetype')"
   ]
  },
  {
   "cell_type": "markdown",
   "metadata": {},
   "source": [
    "#### Import Panel Data"
   ]
  },
  {
   "cell_type": "markdown",
   "metadata": {},
   "source": [
    "\"Kiwi Bubbles\" is a masked name for a shelf-stable juice drink, aimed primarily at children, which is sold as a multipack with several single-serve containers bundled together. Prior to national launch, it underwent a year-long test conducted in two of IRI's BehaviorScan markets. The file `kiwibubbles_tran.txt` contains purchasing data for the new product, drawn from 1300 panelists in Market 1 and 1499 panelists in Market 2.\n",
    "\n",
    "Each record in this file comprises five fields: *Panelist ID*, *Market*, *Week*, *Day*, and *Units*. The value of the Market field is either 1 or 2. The Week field gives us the week number in which the purchase occurred (the product was launched at the beginning of week 1), the Day field tells us the day of the week (1-7) in which the purchase occurred, and the Units field tells us how many units of the new product were purchased on that particular purchase occasion.\n",
    "\n",
    "We load this dataset into python. We see that there are a total of 857 transactions across the two markets during the year-long test."
   ]
  },
  {
   "cell_type": "code",
   "execution_count": 2,
   "metadata": {},
   "outputs": [
    {
     "data": {
      "text/html": [
       "<div><style>\n",
       ".dataframe > thead > tr,\n",
       ".dataframe > tbody > tr {\n",
       "  text-align: right;\n",
       "  white-space: pre-wrap;\n",
       "}\n",
       "</style>\n",
       "<small>shape: (5, 5)</small><table border=\"1\" class=\"dataframe\"><thead><tr><th>ID</th><th>Market</th><th>Week</th><th>Day</th><th>Units</th></tr><tr><td>u16</td><td>u8</td><td>i16</td><td>i16</td><td>i16</td></tr></thead><tbody><tr><td>10001</td><td>1</td><td>19</td><td>3</td><td>1</td></tr><tr><td>10002</td><td>1</td><td>12</td><td>5</td><td>1</td></tr><tr><td>10003</td><td>1</td><td>37</td><td>7</td><td>1</td></tr><tr><td>10004</td><td>1</td><td>30</td><td>6</td><td>1</td></tr><tr><td>10004</td><td>1</td><td>47</td><td>3</td><td>1</td></tr></tbody></table></div>"
      ],
      "text/plain": [
       "shape: (5, 5)\n",
       "┌───────┬────────┬──────┬─────┬───────┐\n",
       "│ ID    ┆ Market ┆ Week ┆ Day ┆ Units │\n",
       "│ ---   ┆ ---    ┆ ---  ┆ --- ┆ ---   │\n",
       "│ u16   ┆ u8     ┆ i16  ┆ i16 ┆ i16   │\n",
       "╞═══════╪════════╪══════╪═════╪═══════╡\n",
       "│ 10001 ┆ 1      ┆ 19   ┆ 3   ┆ 1     │\n",
       "│ 10002 ┆ 1      ┆ 12   ┆ 5   ┆ 1     │\n",
       "│ 10003 ┆ 1      ┆ 37   ┆ 7   ┆ 1     │\n",
       "│ 10004 ┆ 1      ┆ 30   ┆ 6   ┆ 1     │\n",
       "│ 10004 ┆ 1      ┆ 47   ┆ 3   ┆ 1     │\n",
       "└───────┴────────┴──────┴─────┴───────┘"
      ]
     },
     "execution_count": 2,
     "metadata": {},
     "output_type": "execute_result"
    }
   ],
   "source": [
    "kiwi_lf = pl.scan_csv(source=\"data/kiwibubbles/kiwibubbles_tran.csv\",\n",
    "                      has_header=False,\n",
    "                      separator=\",\",\n",
    "                      schema={'ID': pl.UInt16,\n",
    "                              'Market': pl.UInt8,\n",
    "                              'Week': pl.Int16,\n",
    "                              'Day': pl.Int16,\n",
    "                              'Units': pl.Int16})\n",
    "kiwi_lf.head().collect()"
   ]
  },
  {
   "cell_type": "markdown",
   "metadata": {},
   "source": [
    "To illustrate the process of creating a sales by depth-of-repeat summary from this raw transaction data, we will focus just on **Market 2**."
   ]
  },
  {
   "cell_type": "code",
   "execution_count": 3,
   "metadata": {},
   "outputs": [],
   "source": [
    "kiwi_lf_m2 = (kiwi_lf.filter(pl.col('Market') == 2).drop('Market'))\n",
    "num_panellists_m2 = 1499"
   ]
  },
  {
   "cell_type": "markdown",
   "metadata": {},
   "source": [
    "#### Reusable Function"
   ]
  },
  {
   "cell_type": "code",
   "execution_count": 4,
   "metadata": {},
   "outputs": [],
   "source": [
    "class ChartTemp(alt.Chart):\n",
    "    def __init__(self, data, **kwargs):\n",
    "        super().__init__(data=data, **kwargs)\n",
    "    \n",
    "    def line_encode(self, \n",
    "                    y_col, \n",
    "                    y_scale=alt.Scale(), \n",
    "                    y_title = 'Cumulative Sales (# Transactions)', \n",
    "                    dash=[1,0], \n",
    "                    color=alt.Color(), \n",
    "                    x_col='Week (t)', \n",
    "                    x_title='Week', \n",
    "                    x_range=52):\n",
    "        \n",
    "        line = self.mark_line(strokeWidth=2, strokeDash=dash).encode(\n",
    "            x = alt.X(x_col, \n",
    "                      scale=alt.Scale(domain=[0, x_range]),\n",
    "                      axis = alt.Axis(\n",
    "                          values=np.arange(0, x_range+1, 4),\n",
    "                          labelExpr=\"datum.value\",\n",
    "                          title=x_title)\n",
    "            ),\n",
    "            y = alt.Y(y_col, \n",
    "                      title=y_title,\n",
    "                      scale=y_scale\n",
    "            ),\n",
    "            color=color\n",
    "        )\n",
    "        return line   \n",
    "    \n",
    "    def line_prop(self, title):\n",
    "        line = self.properties(\n",
    "            width=650,\n",
    "            height=250,\n",
    "            title=title\n",
    "        ).configure_view(stroke=None).configure_axisY(grid=False).configure_axisX(grid=False)     \n",
    "        \n",
    "        return line"
   ]
  },
  {
   "cell_type": "code",
   "execution_count": 5,
   "metadata": {},
   "outputs": [],
   "source": [
    "def layered_line_prop(chart, title):\n",
    "    line = chart.properties(\n",
    "        width=650,\n",
    "        height=250,\n",
    "        title=title\n",
    "    ).configure_view(stroke=None).configure_axisY(grid=False).configure_axisX(grid=False)     \n",
    "    \n",
    "    return line"
   ]
  },
  {
   "cell_type": "markdown",
   "metadata": {},
   "source": [
    "### <span style=\"color:#956bbf\">Creating a Depth-of-Repeat Sales Summary</span>\n",
    "---"
   ]
  },
  {
   "cell_type": "markdown",
   "metadata": {},
   "source": [
    "#### Preliminaries"
   ]
  },
  {
   "cell_type": "markdown",
   "metadata": {},
   "source": [
    "Let us consider the transaction history of panelist 20014. We note that this panelist made his/her trial purchase and first repeat purchase in week 4. Similarly, this panelist's third and fourth repeat purchases occurred in week 7 . We also note that this panelist typically purchased several units of the product on any given purchase occasion."
   ]
  },
  {
   "cell_type": "code",
   "execution_count": 6,
   "metadata": {},
   "outputs": [
    {
     "data": {
      "text/html": [
       "<div><style>\n",
       ".dataframe > thead > tr,\n",
       ".dataframe > tbody > tr {\n",
       "  text-align: right;\n",
       "  white-space: pre-wrap;\n",
       "}\n",
       "</style>\n",
       "<small>shape: (9, 4)</small><table border=\"1\" class=\"dataframe\"><thead><tr><th>ID</th><th>Week</th><th>Day</th><th>Units</th></tr><tr><td>u16</td><td>i16</td><td>i16</td><td>i16</td></tr></thead><tbody><tr><td>20014</td><td>4</td><td>2</td><td>1</td></tr><tr><td>20014</td><td>4</td><td>4</td><td>1</td></tr><tr><td>20014</td><td>6</td><td>6</td><td>2</td></tr><tr><td>20014</td><td>7</td><td>2</td><td>3</td></tr><tr><td>20014</td><td>7</td><td>6</td><td>3</td></tr><tr><td>20014</td><td>12</td><td>5</td><td>2</td></tr><tr><td>20014</td><td>17</td><td>6</td><td>1</td></tr><tr><td>20014</td><td>23</td><td>4</td><td>2</td></tr><tr><td>20014</td><td>47</td><td>6</td><td>2</td></tr></tbody></table></div>"
      ],
      "text/plain": [
       "shape: (9, 4)\n",
       "┌───────┬──────┬─────┬───────┐\n",
       "│ ID    ┆ Week ┆ Day ┆ Units │\n",
       "│ ---   ┆ ---  ┆ --- ┆ ---   │\n",
       "│ u16   ┆ i16  ┆ i16 ┆ i16   │\n",
       "╞═══════╪══════╪═════╪═══════╡\n",
       "│ 20014 ┆ 4    ┆ 2   ┆ 1     │\n",
       "│ 20014 ┆ 4    ┆ 4   ┆ 1     │\n",
       "│ 20014 ┆ 6    ┆ 6   ┆ 2     │\n",
       "│ 20014 ┆ 7    ┆ 2   ┆ 3     │\n",
       "│ 20014 ┆ 7    ┆ 6   ┆ 3     │\n",
       "│ 20014 ┆ 12   ┆ 5   ┆ 2     │\n",
       "│ 20014 ┆ 17   ┆ 6   ┆ 1     │\n",
       "│ 20014 ┆ 23   ┆ 4   ┆ 2     │\n",
       "│ 20014 ┆ 47   ┆ 6   ┆ 2     │\n",
       "└───────┴──────┴─────┴───────┘"
      ]
     },
     "execution_count": 6,
     "metadata": {},
     "output_type": "execute_result"
    }
   ],
   "source": [
    "kiwi_lf_m2.filter(pl.col('ID') == 20014).collect()"
   ]
  },
  {
   "cell_type": "markdown",
   "metadata": {},
   "source": [
    "This suggests several possible versions of the desired sales by depth-of-repeat summary:\n",
    "- Our summary counts the number of trial, first repeat, second repeat, etc. transactions that occurred each week. The process of creating such a summary is described in section [Creating a “Raw” Transactions Summary](#raw_trans_summary)' below.\n",
    "- Our summary reports the *sales volume* (e.g., units) associated with trial, first repeat, second repeat, etc. transactions that occurred each week. The process of creating such a summary is described in section '[Creating a “Raw” Sales Volume Summary](#raw_vol_summary)' below.\n",
    "- We have noted that this panelist's trial and first repeat purchases occurred in the same week, albeit on different days. Similarly, his/her fourth and fifth repeat purchases occurred in the same week. The structure of many simple models of new product sales forecasting is such that a customer can have only one transaction per unit of time. If the unit of time is one week (as it typically the case), we clearly have a problem. One solution would be change the unit of time from week to day. However, as such purchasing behaviour tends to be rare, Eskin suggests that, \"[f]or estimation purposes, second purchases within a single week are coded in the following week.\" The process of creating such a \"shifted\" summary is described in [Creating a \"Shifted\" Transactions Summary](#raw_shifted_trans_summary) below.\n",
    "\n",
    "But what happens if we observe multiple transactions on the same day? This is very rare and typically reflects bad pre-processing of the panel data. For example, as an individual's purchases are scanned at the supermarket checkout, one six-pack of Coke could be the first item scanned with another six-pack of Coke being the last item scanned. As the raw data are \"cleaned-up\" these two purchases should be combined into one transaction with a quantity of two. But this doesn't always happen. If the (very) raw panel data file contains a transaction time field, we easily determine whether the two records come from the same or different shopping trips. Even if they did come from separate shopping trips on the same day, our natural reaction would be to combine them into a single transaction with multiple units, rather than shift to an even smaller time unit (e.g., hour). we should reflect on how to determine whether we observe multiple transactions for an individual panelist on the same day once the raw panel data has been loaded into python. (Note that there are no such occurrences in the Kiwi Bubbles dataset.)"
   ]
  },
  {
   "cell_type": "markdown",
   "metadata": {},
   "source": [
    "#### Creating a \"Raw\" Transactions Summary\n",
    "<a id='raw_trans_summary'></a>"
   ]
  },
  {
   "cell_type": "markdown",
   "metadata": {},
   "source": [
    "The first thing we need to do is add a field that indicates the depth-of-repeat level associated with each record; i.e., is this a trial purchase $(\\mathrm{DoR}=0)$, a first repeat purchase $(\\mathrm{DoR}=1$ ), a second repeat purchase ( $\\operatorname{DoR}=2$ ), etc.\n",
    "\n",
    "This is a straightforward exercise. If the panelist ID associated with this record does not equal that of the previous record, we are dealing with a new panelist and we set the depth-of-repeat indicator to 0 . If the panelist ID associated with this record does equal that of the previous record, we are dealing with a repeat purchase by that panelist and we increment the depth-of-repeat indicator by 1."
   ]
  },
  {
   "cell_type": "code",
   "execution_count": 7,
   "metadata": {},
   "outputs": [],
   "source": [
    "kiwi_lf_m2 = (\n",
    "    kiwi_lf_m2\n",
    "    .sort(by='ID')\n",
    "    .with_columns((pl.col(\"ID\").cum_count().over(\"ID\") - 1).cast(pl.UInt16).alias(\"DoR\"))    \n",
    ")"
   ]
  },
  {
   "cell_type": "markdown",
   "metadata": {},
   "source": [
    "The corresponding records for panelist 20014 are shown below with DoR indicator:"
   ]
  },
  {
   "cell_type": "code",
   "execution_count": 8,
   "metadata": {},
   "outputs": [
    {
     "data": {
      "text/html": [
       "<div><style>\n",
       ".dataframe > thead > tr,\n",
       ".dataframe > tbody > tr {\n",
       "  text-align: right;\n",
       "  white-space: pre-wrap;\n",
       "}\n",
       "</style>\n",
       "<small>shape: (9, 5)</small><table border=\"1\" class=\"dataframe\"><thead><tr><th>ID</th><th>Week</th><th>Day</th><th>Units</th><th>DoR</th></tr><tr><td>u16</td><td>i16</td><td>i16</td><td>i16</td><td>u16</td></tr></thead><tbody><tr><td>20014</td><td>4</td><td>2</td><td>1</td><td>0</td></tr><tr><td>20014</td><td>4</td><td>4</td><td>1</td><td>1</td></tr><tr><td>20014</td><td>6</td><td>6</td><td>2</td><td>2</td></tr><tr><td>20014</td><td>7</td><td>2</td><td>3</td><td>3</td></tr><tr><td>20014</td><td>7</td><td>6</td><td>3</td><td>4</td></tr><tr><td>20014</td><td>12</td><td>5</td><td>2</td><td>5</td></tr><tr><td>20014</td><td>17</td><td>6</td><td>1</td><td>6</td></tr><tr><td>20014</td><td>23</td><td>4</td><td>2</td><td>7</td></tr><tr><td>20014</td><td>47</td><td>6</td><td>2</td><td>8</td></tr></tbody></table></div>"
      ],
      "text/plain": [
       "shape: (9, 5)\n",
       "┌───────┬──────┬─────┬───────┬─────┐\n",
       "│ ID    ┆ Week ┆ Day ┆ Units ┆ DoR │\n",
       "│ ---   ┆ ---  ┆ --- ┆ ---   ┆ --- │\n",
       "│ u16   ┆ i16  ┆ i16 ┆ i16   ┆ u16 │\n",
       "╞═══════╪══════╪═════╪═══════╪═════╡\n",
       "│ 20014 ┆ 4    ┆ 2   ┆ 1     ┆ 0   │\n",
       "│ 20014 ┆ 4    ┆ 4   ┆ 1     ┆ 1   │\n",
       "│ 20014 ┆ 6    ┆ 6   ┆ 2     ┆ 2   │\n",
       "│ 20014 ┆ 7    ┆ 2   ┆ 3     ┆ 3   │\n",
       "│ 20014 ┆ 7    ┆ 6   ┆ 3     ┆ 4   │\n",
       "│ 20014 ┆ 12   ┆ 5   ┆ 2     ┆ 5   │\n",
       "│ 20014 ┆ 17   ┆ 6   ┆ 1     ┆ 6   │\n",
       "│ 20014 ┆ 23   ┆ 4   ┆ 2     ┆ 7   │\n",
       "│ 20014 ┆ 47   ┆ 6   ┆ 2     ┆ 8   │\n",
       "└───────┴──────┴─────┴───────┴─────┘"
      ]
     },
     "execution_count": 8,
     "metadata": {},
     "output_type": "execute_result"
    }
   ],
   "source": [
    "kiwi_lf_m2.filter(pl.col('ID') == 20014).collect()"
   ]
  },
  {
   "cell_type": "markdown",
   "metadata": {},
   "source": [
    "The next step is to perform aggregations to the data and create two type of the same data-frame: a **long-form** and **wide-form**.\n",
    "\n",
    "We want there to be 52 rows, one for each week of the test. It turns out, however, that this panel of 1499 households only purchased the test product in 49 weeks; no purchases occurred in weeks 25,39, and 41. How can we create a table that will contain zeros in the rows corresponding to these three weeks? We accomplish this by creating a dummy dataframe that contains the full range of combination of `Week` and `DoR`. There are should be a range of 1 to 52 weeks and a range of 0 to 11 depth-of-repeats. Next, we will join the aggregated dataframes of the main dataset with the dummy dataframe such that it preserves the size of the dummy dataframe and fills the empty combinations with `null` values."
   ]
  },
  {
   "cell_type": "code",
   "execution_count": 9,
   "metadata": {},
   "outputs": [],
   "source": [
    "# Week Range: 1 to 52, DoR Range: 0 to 11 (max(DoR) = 11)\n",
    "week_range, dor_range = np.meshgrid(np.arange(1, 53, dtype='int16'), np.arange(0, 12, dtype='uint16'))\n",
    "# Create a dummy LazyFrame that contains the full range of combinations for Week & DoR\n",
    "dummy_lf = pl.LazyFrame({'Week': week_range.reshape(-1), 'DoR': dor_range.reshape(-1)})\n",
    "\n",
    "agg_trans = (\n",
    "    kiwi_lf_m2\n",
    "    .group_by('Week', 'DoR')\n",
    "    .agg(pl.len().alias('Count'))\n",
    ")\n",
    "\n",
    "week_total_trans = (\n",
    "    agg_trans\n",
    "    .group_by('Week')\n",
    "    .agg(pl.col('Count').sum().alias('Total')) \n",
    ")\n",
    "\n",
    "agg_trans_longform = (\n",
    "    dummy_lf\n",
    "    .join(week_total_trans, on='Week', how='left')\n",
    "    .join(agg_trans, on=['Week', 'DoR'], how='left')\n",
    "    .fill_null(0)\n",
    ")"
   ]
  },
  {
   "cell_type": "markdown",
   "metadata": {},
   "source": [
    "The wide-form is more intuitive and easy to visualize, it tells us how many trial, first repeat, etc. purchases (columns) occurred in each week (rows)."
   ]
  },
  {
   "cell_type": "code",
   "execution_count": 10,
   "metadata": {},
   "outputs": [
    {
     "data": {
      "text/html": [
       "<div><style>\n",
       ".dataframe > thead > tr,\n",
       ".dataframe > tbody > tr {\n",
       "  text-align: right;\n",
       "  white-space: pre-wrap;\n",
       "}\n",
       "</style>\n",
       "<small>shape: (52, 14)</small><table border=\"1\" class=\"dataframe\"><thead><tr><th>Week</th><th>0</th><th>1</th><th>2</th><th>3</th><th>4</th><th>5</th><th>6</th><th>7</th><th>8</th><th>9</th><th>10</th><th>11</th><th>Total</th></tr><tr><td>i16</td><td>u32</td><td>u32</td><td>u32</td><td>u32</td><td>u32</td><td>u32</td><td>u32</td><td>u32</td><td>u32</td><td>u32</td><td>u32</td><td>u32</td><td>u32</td></tr></thead><tbody><tr><td>1</td><td>8</td><td>1</td><td>0</td><td>0</td><td>0</td><td>0</td><td>0</td><td>0</td><td>0</td><td>0</td><td>0</td><td>0</td><td>9</td></tr><tr><td>2</td><td>6</td><td>0</td><td>0</td><td>0</td><td>0</td><td>0</td><td>0</td><td>0</td><td>0</td><td>0</td><td>0</td><td>0</td><td>6</td></tr><tr><td>3</td><td>2</td><td>1</td><td>0</td><td>0</td><td>0</td><td>0</td><td>0</td><td>0</td><td>0</td><td>0</td><td>0</td><td>0</td><td>3</td></tr><tr><td>4</td><td>16</td><td>2</td><td>0</td><td>0</td><td>0</td><td>0</td><td>0</td><td>0</td><td>0</td><td>0</td><td>0</td><td>0</td><td>18</td></tr><tr><td>5</td><td>8</td><td>3</td><td>0</td><td>0</td><td>0</td><td>0</td><td>0</td><td>0</td><td>0</td><td>0</td><td>0</td><td>0</td><td>11</td></tr><tr><td>&hellip;</td><td>&hellip;</td><td>&hellip;</td><td>&hellip;</td><td>&hellip;</td><td>&hellip;</td><td>&hellip;</td><td>&hellip;</td><td>&hellip;</td><td>&hellip;</td><td>&hellip;</td><td>&hellip;</td><td>&hellip;</td><td>&hellip;</td></tr><tr><td>48</td><td>1</td><td>1</td><td>1</td><td>1</td><td>0</td><td>0</td><td>0</td><td>1</td><td>0</td><td>0</td><td>0</td><td>0</td><td>5</td></tr><tr><td>49</td><td>4</td><td>0</td><td>0</td><td>0</td><td>0</td><td>2</td><td>0</td><td>1</td><td>1</td><td>0</td><td>0</td><td>0</td><td>8</td></tr><tr><td>50</td><td>0</td><td>2</td><td>0</td><td>0</td><td>0</td><td>0</td><td>0</td><td>1</td><td>2</td><td>1</td><td>1</td><td>1</td><td>8</td></tr><tr><td>51</td><td>0</td><td>1</td><td>0</td><td>0</td><td>0</td><td>0</td><td>0</td><td>1</td><td>0</td><td>0</td><td>0</td><td>0</td><td>2</td></tr><tr><td>52</td><td>2</td><td>1</td><td>1</td><td>1</td><td>0</td><td>0</td><td>0</td><td>0</td><td>0</td><td>1</td><td>0</td><td>0</td><td>6</td></tr></tbody></table></div>"
      ],
      "text/plain": [
       "shape: (52, 14)\n",
       "┌──────┬─────┬─────┬─────┬───┬─────┬─────┬─────┬───────┐\n",
       "│ Week ┆ 0   ┆ 1   ┆ 2   ┆ … ┆ 9   ┆ 10  ┆ 11  ┆ Total │\n",
       "│ ---  ┆ --- ┆ --- ┆ --- ┆   ┆ --- ┆ --- ┆ --- ┆ ---   │\n",
       "│ i16  ┆ u32 ┆ u32 ┆ u32 ┆   ┆ u32 ┆ u32 ┆ u32 ┆ u32   │\n",
       "╞══════╪═════╪═════╪═════╪═══╪═════╪═════╪═════╪═══════╡\n",
       "│ 1    ┆ 8   ┆ 1   ┆ 0   ┆ … ┆ 0   ┆ 0   ┆ 0   ┆ 9     │\n",
       "│ 2    ┆ 6   ┆ 0   ┆ 0   ┆ … ┆ 0   ┆ 0   ┆ 0   ┆ 6     │\n",
       "│ 3    ┆ 2   ┆ 1   ┆ 0   ┆ … ┆ 0   ┆ 0   ┆ 0   ┆ 3     │\n",
       "│ 4    ┆ 16  ┆ 2   ┆ 0   ┆ … ┆ 0   ┆ 0   ┆ 0   ┆ 18    │\n",
       "│ 5    ┆ 8   ┆ 3   ┆ 0   ┆ … ┆ 0   ┆ 0   ┆ 0   ┆ 11    │\n",
       "│ …    ┆ …   ┆ …   ┆ …   ┆ … ┆ …   ┆ …   ┆ …   ┆ …     │\n",
       "│ 48   ┆ 1   ┆ 1   ┆ 1   ┆ … ┆ 0   ┆ 0   ┆ 0   ┆ 5     │\n",
       "│ 49   ┆ 4   ┆ 0   ┆ 0   ┆ … ┆ 0   ┆ 0   ┆ 0   ┆ 8     │\n",
       "│ 50   ┆ 0   ┆ 2   ┆ 0   ┆ … ┆ 1   ┆ 1   ┆ 1   ┆ 8     │\n",
       "│ 51   ┆ 0   ┆ 1   ┆ 0   ┆ … ┆ 0   ┆ 0   ┆ 0   ┆ 2     │\n",
       "│ 52   ┆ 2   ┆ 1   ┆ 1   ┆ … ┆ 1   ┆ 0   ┆ 0   ┆ 6     │\n",
       "└──────┴─────┴─────┴─────┴───┴─────┴─────┴─────┴───────┘"
      ]
     },
     "metadata": {},
     "output_type": "display_data"
    },
    {
     "data": {
      "text/html": [
       "<div><style>\n",
       ".dataframe > thead > tr,\n",
       ".dataframe > tbody > tr {\n",
       "  text-align: right;\n",
       "  white-space: pre-wrap;\n",
       "}\n",
       "</style>\n",
       "<small>shape: (1, 13)</small><table border=\"1\" class=\"dataframe\"><thead><tr><th>0</th><th>1</th><th>2</th><th>3</th><th>4</th><th>5</th><th>6</th><th>7</th><th>8</th><th>9</th><th>10</th><th>11</th><th>Total</th></tr><tr><td>u32</td><td>u32</td><td>u32</td><td>u32</td><td>u32</td><td>u32</td><td>u32</td><td>u32</td><td>u32</td><td>u32</td><td>u32</td><td>u32</td><td>u32</td></tr></thead><tbody><tr><td>139</td><td>52</td><td>31</td><td>23</td><td>17</td><td>14</td><td>9</td><td>8</td><td>6</td><td>4</td><td>2</td><td>1</td><td>306</td></tr></tbody></table></div>"
      ],
      "text/plain": [
       "shape: (1, 13)\n",
       "┌─────┬─────┬─────┬─────┬───┬─────┬─────┬─────┬───────┐\n",
       "│ 0   ┆ 1   ┆ 2   ┆ 3   ┆ … ┆ 9   ┆ 10  ┆ 11  ┆ Total │\n",
       "│ --- ┆ --- ┆ --- ┆ --- ┆   ┆ --- ┆ --- ┆ --- ┆ ---   │\n",
       "│ u32 ┆ u32 ┆ u32 ┆ u32 ┆   ┆ u32 ┆ u32 ┆ u32 ┆ u32   │\n",
       "╞═════╪═════╪═════╪═════╪═══╪═════╪═════╪═════╪═══════╡\n",
       "│ 139 ┆ 52  ┆ 31  ┆ 23  ┆ … ┆ 4   ┆ 2   ┆ 1   ┆ 306   │\n",
       "└─────┴─────┴─────┴─────┴───┴─────┴─────┴─────┴───────┘"
      ]
     },
     "metadata": {},
     "output_type": "display_data"
    }
   ],
   "source": [
    "agg_trans_wideform = (\n",
    "    agg_trans_longform\n",
    "    .collect()\n",
    "    .pivot(on='DoR', index='Week', values='Count')\n",
    "    .join(week_total_trans.collect(), on='Week', how='left')\n",
    ")\n",
    "\n",
    "col_total = agg_trans_wideform.select(pl.col('*').exclude('Week').sum())\n",
    "\n",
    "display(agg_trans_wideform)\n",
    "display(col_total)"
   ]
  },
  {
   "cell_type": "markdown",
   "metadata": {},
   "source": [
    "We note that there are no entries in the rows corresponding to weeks 25, 39, and 41. Over the year-long test, 139 of the 1499 panelists made at least one purchase of the new product, with a total of 306 purchase occasions. We also note that by the end of the year, one person had made eleven repeat purchases of the new product."
   ]
  },
  {
   "cell_type": "markdown",
   "metadata": {},
   "source": [
    "A cleaned-up summary that reports these weekly transactions in cumulative form (i.e., $T(t), R_{1}(t), R_{2}(t)$, etc.) is created created below:"
   ]
  },
  {
   "cell_type": "code",
   "execution_count": 11,
   "metadata": {},
   "outputs": [
    {
     "data": {
      "text/html": [
       "<div><style>\n",
       ".dataframe > thead > tr,\n",
       ".dataframe > tbody > tr {\n",
       "  text-align: right;\n",
       "  white-space: pre-wrap;\n",
       "}\n",
       "</style>\n",
       "<small>shape: (52, 13)</small><table border=\"1\" class=\"dataframe\"><thead><tr><th>Week</th><th>0</th><th>1</th><th>2</th><th>3</th><th>4</th><th>5</th><th>6</th><th>7</th><th>8</th><th>9</th><th>10</th><th>11</th></tr><tr><td>i16</td><td>u32</td><td>u32</td><td>u32</td><td>u32</td><td>u32</td><td>u32</td><td>u32</td><td>u32</td><td>u32</td><td>u32</td><td>u32</td><td>u32</td></tr></thead><tbody><tr><td>1</td><td>8</td><td>1</td><td>0</td><td>0</td><td>0</td><td>0</td><td>0</td><td>0</td><td>0</td><td>0</td><td>0</td><td>0</td></tr><tr><td>2</td><td>14</td><td>1</td><td>0</td><td>0</td><td>0</td><td>0</td><td>0</td><td>0</td><td>0</td><td>0</td><td>0</td><td>0</td></tr><tr><td>3</td><td>16</td><td>2</td><td>0</td><td>0</td><td>0</td><td>0</td><td>0</td><td>0</td><td>0</td><td>0</td><td>0</td><td>0</td></tr><tr><td>4</td><td>32</td><td>4</td><td>0</td><td>0</td><td>0</td><td>0</td><td>0</td><td>0</td><td>0</td><td>0</td><td>0</td><td>0</td></tr><tr><td>5</td><td>40</td><td>7</td><td>0</td><td>0</td><td>0</td><td>0</td><td>0</td><td>0</td><td>0</td><td>0</td><td>0</td><td>0</td></tr><tr><td>&hellip;</td><td>&hellip;</td><td>&hellip;</td><td>&hellip;</td><td>&hellip;</td><td>&hellip;</td><td>&hellip;</td><td>&hellip;</td><td>&hellip;</td><td>&hellip;</td><td>&hellip;</td><td>&hellip;</td><td>&hellip;</td></tr><tr><td>48</td><td>133</td><td>48</td><td>30</td><td>22</td><td>17</td><td>12</td><td>9</td><td>5</td><td>3</td><td>2</td><td>1</td><td>0</td></tr><tr><td>49</td><td>137</td><td>48</td><td>30</td><td>22</td><td>17</td><td>14</td><td>9</td><td>6</td><td>4</td><td>2</td><td>1</td><td>0</td></tr><tr><td>50</td><td>137</td><td>50</td><td>30</td><td>22</td><td>17</td><td>14</td><td>9</td><td>7</td><td>6</td><td>3</td><td>2</td><td>1</td></tr><tr><td>51</td><td>137</td><td>51</td><td>30</td><td>22</td><td>17</td><td>14</td><td>9</td><td>8</td><td>6</td><td>3</td><td>2</td><td>1</td></tr><tr><td>52</td><td>139</td><td>52</td><td>31</td><td>23</td><td>17</td><td>14</td><td>9</td><td>8</td><td>6</td><td>4</td><td>2</td><td>1</td></tr></tbody></table></div>"
      ],
      "text/plain": [
       "shape: (52, 13)\n",
       "┌──────┬─────┬─────┬─────┬───┬─────┬─────┬─────┬─────┐\n",
       "│ Week ┆ 0   ┆ 1   ┆ 2   ┆ … ┆ 8   ┆ 9   ┆ 10  ┆ 11  │\n",
       "│ ---  ┆ --- ┆ --- ┆ --- ┆   ┆ --- ┆ --- ┆ --- ┆ --- │\n",
       "│ i16  ┆ u32 ┆ u32 ┆ u32 ┆   ┆ u32 ┆ u32 ┆ u32 ┆ u32 │\n",
       "╞══════╪═════╪═════╪═════╪═══╪═════╪═════╪═════╪═════╡\n",
       "│ 1    ┆ 8   ┆ 1   ┆ 0   ┆ … ┆ 0   ┆ 0   ┆ 0   ┆ 0   │\n",
       "│ 2    ┆ 14  ┆ 1   ┆ 0   ┆ … ┆ 0   ┆ 0   ┆ 0   ┆ 0   │\n",
       "│ 3    ┆ 16  ┆ 2   ┆ 0   ┆ … ┆ 0   ┆ 0   ┆ 0   ┆ 0   │\n",
       "│ 4    ┆ 32  ┆ 4   ┆ 0   ┆ … ┆ 0   ┆ 0   ┆ 0   ┆ 0   │\n",
       "│ 5    ┆ 40  ┆ 7   ┆ 0   ┆ … ┆ 0   ┆ 0   ┆ 0   ┆ 0   │\n",
       "│ …    ┆ …   ┆ …   ┆ …   ┆ … ┆ …   ┆ …   ┆ …   ┆ …   │\n",
       "│ 48   ┆ 133 ┆ 48  ┆ 30  ┆ … ┆ 3   ┆ 2   ┆ 1   ┆ 0   │\n",
       "│ 49   ┆ 137 ┆ 48  ┆ 30  ┆ … ┆ 4   ┆ 2   ┆ 1   ┆ 0   │\n",
       "│ 50   ┆ 137 ┆ 50  ┆ 30  ┆ … ┆ 6   ┆ 3   ┆ 2   ┆ 1   │\n",
       "│ 51   ┆ 137 ┆ 51  ┆ 30  ┆ … ┆ 6   ┆ 3   ┆ 2   ┆ 1   │\n",
       "│ 52   ┆ 139 ┆ 52  ┆ 31  ┆ … ┆ 6   ┆ 4   ┆ 2   ┆ 1   │\n",
       "└──────┴─────┴─────┴─────┴───┴─────┴─────┴─────┴─────┘"
      ]
     },
     "metadata": {},
     "output_type": "display_data"
    }
   ],
   "source": [
    "cum_trans_longform = agg_trans_longform.with_columns(pl.col('Count').cum_sum().over('DoR').alias('Cum DoR'))\n",
    "cum_trans_wideform = cum_trans_longform.collect().pivot(on='DoR', index='Week', values='Cum DoR')\n",
    "\n",
    "display(cum_trans_wideform)"
   ]
  },
  {
   "cell_type": "markdown",
   "metadata": {},
   "source": [
    "#### Creating a \"Raw\" Sales Volume Summary\n",
    "<a id='raw_vol_summary'></a>"
   ]
  },
  {
   "cell_type": "markdown",
   "metadata": {},
   "source": [
    "Having created a weekly transaction by depth-of-repeat level summary, it is extremely easy to create an equivalent **sales volume** (e.g., units) summary. Here, instead of counting IDs or length of aggregated dataframe as the value item, we sum `Units`. We note that a total of 396 units of the product were purchased (across the 306 purchase occasions)."
   ]
  },
  {
   "cell_type": "code",
   "execution_count": 12,
   "metadata": {},
   "outputs": [],
   "source": [
    "agg_vol = (\n",
    "    kiwi_lf_m2\n",
    "    .group_by('Week', 'DoR')\n",
    "    .agg(pl.col('Units').sum().alias('Units'))\n",
    ")\n",
    "\n",
    "week_total_vol = (\n",
    "    agg_vol\n",
    "    .group_by('Week')\n",
    "    .agg(pl.col('Units').sum().alias('Total')) \n",
    ")\n",
    "\n",
    "agg_vol_longform = (\n",
    "    dummy_lf\n",
    "    .join(agg_vol, on=['Week', 'DoR'], how='left')\n",
    "    .join(week_total_vol, on='Week', how='left')\n",
    "    .fill_null(0)\n",
    ")"
   ]
  },
  {
   "cell_type": "code",
   "execution_count": 13,
   "metadata": {},
   "outputs": [
    {
     "data": {
      "text/html": [
       "<div><style>\n",
       ".dataframe > thead > tr,\n",
       ".dataframe > tbody > tr {\n",
       "  text-align: right;\n",
       "  white-space: pre-wrap;\n",
       "}\n",
       "</style>\n",
       "<small>shape: (52, 14)</small><table border=\"1\" class=\"dataframe\"><thead><tr><th>Week</th><th>0</th><th>1</th><th>2</th><th>3</th><th>4</th><th>5</th><th>6</th><th>7</th><th>8</th><th>9</th><th>10</th><th>11</th><th>Total</th></tr><tr><td>i16</td><td>i64</td><td>i64</td><td>i64</td><td>i64</td><td>i64</td><td>i64</td><td>i64</td><td>i64</td><td>i64</td><td>i64</td><td>i64</td><td>i64</td><td>i64</td></tr></thead><tbody><tr><td>1</td><td>9</td><td>1</td><td>0</td><td>0</td><td>0</td><td>0</td><td>0</td><td>0</td><td>0</td><td>0</td><td>0</td><td>0</td><td>10</td></tr><tr><td>2</td><td>6</td><td>0</td><td>0</td><td>0</td><td>0</td><td>0</td><td>0</td><td>0</td><td>0</td><td>0</td><td>0</td><td>0</td><td>6</td></tr><tr><td>3</td><td>2</td><td>1</td><td>0</td><td>0</td><td>0</td><td>0</td><td>0</td><td>0</td><td>0</td><td>0</td><td>0</td><td>0</td><td>3</td></tr><tr><td>4</td><td>19</td><td>3</td><td>0</td><td>0</td><td>0</td><td>0</td><td>0</td><td>0</td><td>0</td><td>0</td><td>0</td><td>0</td><td>22</td></tr><tr><td>5</td><td>8</td><td>3</td><td>0</td><td>0</td><td>0</td><td>0</td><td>0</td><td>0</td><td>0</td><td>0</td><td>0</td><td>0</td><td>11</td></tr><tr><td>&hellip;</td><td>&hellip;</td><td>&hellip;</td><td>&hellip;</td><td>&hellip;</td><td>&hellip;</td><td>&hellip;</td><td>&hellip;</td><td>&hellip;</td><td>&hellip;</td><td>&hellip;</td><td>&hellip;</td><td>&hellip;</td><td>&hellip;</td></tr><tr><td>48</td><td>1</td><td>1</td><td>1</td><td>1</td><td>0</td><td>0</td><td>0</td><td>1</td><td>0</td><td>0</td><td>0</td><td>0</td><td>5</td></tr><tr><td>49</td><td>4</td><td>0</td><td>0</td><td>0</td><td>0</td><td>2</td><td>0</td><td>2</td><td>1</td><td>0</td><td>0</td><td>0</td><td>9</td></tr><tr><td>50</td><td>0</td><td>2</td><td>0</td><td>0</td><td>0</td><td>0</td><td>0</td><td>1</td><td>3</td><td>2</td><td>2</td><td>1</td><td>11</td></tr><tr><td>51</td><td>0</td><td>2</td><td>0</td><td>0</td><td>0</td><td>0</td><td>0</td><td>2</td><td>0</td><td>0</td><td>0</td><td>0</td><td>4</td></tr><tr><td>52</td><td>2</td><td>1</td><td>1</td><td>2</td><td>0</td><td>0</td><td>0</td><td>0</td><td>0</td><td>2</td><td>0</td><td>0</td><td>8</td></tr></tbody></table></div>"
      ],
      "text/plain": [
       "shape: (52, 14)\n",
       "┌──────┬─────┬─────┬─────┬───┬─────┬─────┬─────┬───────┐\n",
       "│ Week ┆ 0   ┆ 1   ┆ 2   ┆ … ┆ 9   ┆ 10  ┆ 11  ┆ Total │\n",
       "│ ---  ┆ --- ┆ --- ┆ --- ┆   ┆ --- ┆ --- ┆ --- ┆ ---   │\n",
       "│ i16  ┆ i64 ┆ i64 ┆ i64 ┆   ┆ i64 ┆ i64 ┆ i64 ┆ i64   │\n",
       "╞══════╪═════╪═════╪═════╪═══╪═════╪═════╪═════╪═══════╡\n",
       "│ 1    ┆ 9   ┆ 1   ┆ 0   ┆ … ┆ 0   ┆ 0   ┆ 0   ┆ 10    │\n",
       "│ 2    ┆ 6   ┆ 0   ┆ 0   ┆ … ┆ 0   ┆ 0   ┆ 0   ┆ 6     │\n",
       "│ 3    ┆ 2   ┆ 1   ┆ 0   ┆ … ┆ 0   ┆ 0   ┆ 0   ┆ 3     │\n",
       "│ 4    ┆ 19  ┆ 3   ┆ 0   ┆ … ┆ 0   ┆ 0   ┆ 0   ┆ 22    │\n",
       "│ 5    ┆ 8   ┆ 3   ┆ 0   ┆ … ┆ 0   ┆ 0   ┆ 0   ┆ 11    │\n",
       "│ …    ┆ …   ┆ …   ┆ …   ┆ … ┆ …   ┆ …   ┆ …   ┆ …     │\n",
       "│ 48   ┆ 1   ┆ 1   ┆ 1   ┆ … ┆ 0   ┆ 0   ┆ 0   ┆ 5     │\n",
       "│ 49   ┆ 4   ┆ 0   ┆ 0   ┆ … ┆ 0   ┆ 0   ┆ 0   ┆ 9     │\n",
       "│ 50   ┆ 0   ┆ 2   ┆ 0   ┆ … ┆ 2   ┆ 2   ┆ 1   ┆ 11    │\n",
       "│ 51   ┆ 0   ┆ 2   ┆ 0   ┆ … ┆ 0   ┆ 0   ┆ 0   ┆ 4     │\n",
       "│ 52   ┆ 2   ┆ 1   ┆ 1   ┆ … ┆ 2   ┆ 0   ┆ 0   ┆ 8     │\n",
       "└──────┴─────┴─────┴─────┴───┴─────┴─────┴─────┴───────┘"
      ]
     },
     "metadata": {},
     "output_type": "display_data"
    },
    {
     "data": {
      "text/html": [
       "<div><style>\n",
       ".dataframe > thead > tr,\n",
       ".dataframe > tbody > tr {\n",
       "  text-align: right;\n",
       "  white-space: pre-wrap;\n",
       "}\n",
       "</style>\n",
       "<small>shape: (1, 13)</small><table border=\"1\" class=\"dataframe\"><thead><tr><th>0</th><th>1</th><th>2</th><th>3</th><th>4</th><th>5</th><th>6</th><th>7</th><th>8</th><th>9</th><th>10</th><th>11</th><th>Total</th></tr><tr><td>i64</td><td>i64</td><td>i64</td><td>i64</td><td>i64</td><td>i64</td><td>i64</td><td>i64</td><td>i64</td><td>i64</td><td>i64</td><td>i64</td><td>i64</td></tr></thead><tbody><tr><td>161</td><td>64</td><td>42</td><td>30</td><td>24</td><td>20</td><td>14</td><td>19</td><td>10</td><td>7</td><td>4</td><td>1</td><td>396</td></tr></tbody></table></div>"
      ],
      "text/plain": [
       "shape: (1, 13)\n",
       "┌─────┬─────┬─────┬─────┬───┬─────┬─────┬─────┬───────┐\n",
       "│ 0   ┆ 1   ┆ 2   ┆ 3   ┆ … ┆ 9   ┆ 10  ┆ 11  ┆ Total │\n",
       "│ --- ┆ --- ┆ --- ┆ --- ┆   ┆ --- ┆ --- ┆ --- ┆ ---   │\n",
       "│ i64 ┆ i64 ┆ i64 ┆ i64 ┆   ┆ i64 ┆ i64 ┆ i64 ┆ i64   │\n",
       "╞═════╪═════╪═════╪═════╪═══╪═════╪═════╪═════╪═══════╡\n",
       "│ 161 ┆ 64  ┆ 42  ┆ 30  ┆ … ┆ 7   ┆ 4   ┆ 1   ┆ 396   │\n",
       "└─────┴─────┴─────┴─────┴───┴─────┴─────┴─────┴───────┘"
      ]
     },
     "metadata": {},
     "output_type": "display_data"
    }
   ],
   "source": [
    "agg_vol_wideform = (\n",
    "    agg_vol_longform\n",
    "    .collect()\n",
    "    .pivot(on='DoR', index='Week', values='Units')\n",
    "    .join(week_total_vol.collect(), on='Week', how='left')\n",
    ")\n",
    "\n",
    "col_total = agg_vol_wideform.select(pl.col('*').exclude('Week').sum())\n",
    "\n",
    "display(agg_vol_wideform)\n",
    "display(col_total)"
   ]
  },
  {
   "cell_type": "markdown",
   "metadata": {},
   "source": [
    "A cleaned-up summary that reports these weekly transactions in cumulative form is created below. We note that a total of 161 units were purchased on the 139 trial purchase occasions, an average 1.16 units per trial purchase."
   ]
  },
  {
   "cell_type": "code",
   "execution_count": 14,
   "metadata": {},
   "outputs": [
    {
     "data": {
      "text/html": [
       "<div><style>\n",
       ".dataframe > thead > tr,\n",
       ".dataframe > tbody > tr {\n",
       "  text-align: right;\n",
       "  white-space: pre-wrap;\n",
       "}\n",
       "</style>\n",
       "<small>shape: (52, 13)</small><table border=\"1\" class=\"dataframe\"><thead><tr><th>Week</th><th>0</th><th>1</th><th>2</th><th>3</th><th>4</th><th>5</th><th>6</th><th>7</th><th>8</th><th>9</th><th>10</th><th>11</th></tr><tr><td>i16</td><td>i64</td><td>i64</td><td>i64</td><td>i64</td><td>i64</td><td>i64</td><td>i64</td><td>i64</td><td>i64</td><td>i64</td><td>i64</td><td>i64</td></tr></thead><tbody><tr><td>1</td><td>9</td><td>1</td><td>0</td><td>0</td><td>0</td><td>0</td><td>0</td><td>0</td><td>0</td><td>0</td><td>0</td><td>0</td></tr><tr><td>2</td><td>15</td><td>1</td><td>0</td><td>0</td><td>0</td><td>0</td><td>0</td><td>0</td><td>0</td><td>0</td><td>0</td><td>0</td></tr><tr><td>3</td><td>17</td><td>2</td><td>0</td><td>0</td><td>0</td><td>0</td><td>0</td><td>0</td><td>0</td><td>0</td><td>0</td><td>0</td></tr><tr><td>4</td><td>36</td><td>5</td><td>0</td><td>0</td><td>0</td><td>0</td><td>0</td><td>0</td><td>0</td><td>0</td><td>0</td><td>0</td></tr><tr><td>5</td><td>44</td><td>8</td><td>0</td><td>0</td><td>0</td><td>0</td><td>0</td><td>0</td><td>0</td><td>0</td><td>0</td><td>0</td></tr><tr><td>&hellip;</td><td>&hellip;</td><td>&hellip;</td><td>&hellip;</td><td>&hellip;</td><td>&hellip;</td><td>&hellip;</td><td>&hellip;</td><td>&hellip;</td><td>&hellip;</td><td>&hellip;</td><td>&hellip;</td><td>&hellip;</td></tr><tr><td>48</td><td>155</td><td>59</td><td>41</td><td>28</td><td>24</td><td>18</td><td>14</td><td>14</td><td>6</td><td>3</td><td>2</td><td>0</td></tr><tr><td>49</td><td>159</td><td>59</td><td>41</td><td>28</td><td>24</td><td>20</td><td>14</td><td>16</td><td>7</td><td>3</td><td>2</td><td>0</td></tr><tr><td>50</td><td>159</td><td>61</td><td>41</td><td>28</td><td>24</td><td>20</td><td>14</td><td>17</td><td>10</td><td>5</td><td>4</td><td>1</td></tr><tr><td>51</td><td>159</td><td>63</td><td>41</td><td>28</td><td>24</td><td>20</td><td>14</td><td>19</td><td>10</td><td>5</td><td>4</td><td>1</td></tr><tr><td>52</td><td>161</td><td>64</td><td>42</td><td>30</td><td>24</td><td>20</td><td>14</td><td>19</td><td>10</td><td>7</td><td>4</td><td>1</td></tr></tbody></table></div>"
      ],
      "text/plain": [
       "shape: (52, 13)\n",
       "┌──────┬─────┬─────┬─────┬───┬─────┬─────┬─────┬─────┐\n",
       "│ Week ┆ 0   ┆ 1   ┆ 2   ┆ … ┆ 8   ┆ 9   ┆ 10  ┆ 11  │\n",
       "│ ---  ┆ --- ┆ --- ┆ --- ┆   ┆ --- ┆ --- ┆ --- ┆ --- │\n",
       "│ i16  ┆ i64 ┆ i64 ┆ i64 ┆   ┆ i64 ┆ i64 ┆ i64 ┆ i64 │\n",
       "╞══════╪═════╪═════╪═════╪═══╪═════╪═════╪═════╪═════╡\n",
       "│ 1    ┆ 9   ┆ 1   ┆ 0   ┆ … ┆ 0   ┆ 0   ┆ 0   ┆ 0   │\n",
       "│ 2    ┆ 15  ┆ 1   ┆ 0   ┆ … ┆ 0   ┆ 0   ┆ 0   ┆ 0   │\n",
       "│ 3    ┆ 17  ┆ 2   ┆ 0   ┆ … ┆ 0   ┆ 0   ┆ 0   ┆ 0   │\n",
       "│ 4    ┆ 36  ┆ 5   ┆ 0   ┆ … ┆ 0   ┆ 0   ┆ 0   ┆ 0   │\n",
       "│ 5    ┆ 44  ┆ 8   ┆ 0   ┆ … ┆ 0   ┆ 0   ┆ 0   ┆ 0   │\n",
       "│ …    ┆ …   ┆ …   ┆ …   ┆ … ┆ …   ┆ …   ┆ …   ┆ …   │\n",
       "│ 48   ┆ 155 ┆ 59  ┆ 41  ┆ … ┆ 6   ┆ 3   ┆ 2   ┆ 0   │\n",
       "│ 49   ┆ 159 ┆ 59  ┆ 41  ┆ … ┆ 7   ┆ 3   ┆ 2   ┆ 0   │\n",
       "│ 50   ┆ 159 ┆ 61  ┆ 41  ┆ … ┆ 10  ┆ 5   ┆ 4   ┆ 1   │\n",
       "│ 51   ┆ 159 ┆ 63  ┆ 41  ┆ … ┆ 10  ┆ 5   ┆ 4   ┆ 1   │\n",
       "│ 52   ┆ 161 ┆ 64  ┆ 42  ┆ … ┆ 10  ┆ 7   ┆ 4   ┆ 1   │\n",
       "└──────┴─────┴─────┴─────┴───┴─────┴─────┴─────┴─────┘"
      ]
     },
     "metadata": {},
     "output_type": "display_data"
    }
   ],
   "source": [
    "cum_vol_longform = agg_vol_longform.with_columns(pl.col('Units').cum_sum().over('DoR').alias('Cum DoR'))\n",
    "cum_vol_wideform = cum_vol_longform.collect().pivot(on='DoR', index='Week', values='Cum DoR')\n",
    "\n",
    "display(cum_vol_wideform)"
   ]
  },
  {
   "cell_type": "markdown",
   "metadata": {},
   "source": [
    "#### Creating a \"Shifted\" Transactions Summary\n",
    "<a id='raw_shifted_trans_summary'></a>"
   ]
  },
  {
   "cell_type": "markdown",
   "metadata": {},
   "source": [
    "We now turn our attention to the task of creating a weekly transaction by depth-of-repeat level summary under the assumption that a customer can have only one transaction per week. In other words, a second purchase within a single week is \"shifted\" to the next week (i.e., coded as occurring in the following week).\n",
    "\n",
    "Referring back to panellist `20014`, the field that indicates the depth-of-repeat level associated with each record (DoR) is correct. What we need to do is makes some changes to the week field: we want the week associated with the first repeat purchase to be 5, and the week associated with the fourth repeat purchase to be 8. One solution would be to create a new week variable that equals the original week variable +1 if the week associated with the current record is the same as that of the previous record. But what if we have three purchases occurring in the same week?"
   ]
  },
  {
   "cell_type": "code",
   "execution_count": 15,
   "metadata": {},
   "outputs": [
    {
     "data": {
      "text/html": [
       "<div><style>\n",
       ".dataframe > thead > tr,\n",
       ".dataframe > tbody > tr {\n",
       "  text-align: right;\n",
       "  white-space: pre-wrap;\n",
       "}\n",
       "</style>\n",
       "<small>shape: (9, 5)</small><table border=\"1\" class=\"dataframe\"><thead><tr><th>ID</th><th>Week</th><th>Day</th><th>Units</th><th>DoR</th></tr><tr><td>u16</td><td>i16</td><td>i16</td><td>i16</td><td>u16</td></tr></thead><tbody><tr><td>20014</td><td>4</td><td>2</td><td>1</td><td>0</td></tr><tr><td>20014</td><td>4</td><td>4</td><td>1</td><td>1</td></tr><tr><td>20014</td><td>6</td><td>6</td><td>2</td><td>2</td></tr><tr><td>20014</td><td>7</td><td>2</td><td>3</td><td>3</td></tr><tr><td>20014</td><td>7</td><td>6</td><td>3</td><td>4</td></tr><tr><td>20014</td><td>12</td><td>5</td><td>2</td><td>5</td></tr><tr><td>20014</td><td>17</td><td>6</td><td>1</td><td>6</td></tr><tr><td>20014</td><td>23</td><td>4</td><td>2</td><td>7</td></tr><tr><td>20014</td><td>47</td><td>6</td><td>2</td><td>8</td></tr></tbody></table></div>"
      ],
      "text/plain": [
       "shape: (9, 5)\n",
       "┌───────┬──────┬─────┬───────┬─────┐\n",
       "│ ID    ┆ Week ┆ Day ┆ Units ┆ DoR │\n",
       "│ ---   ┆ ---  ┆ --- ┆ ---   ┆ --- │\n",
       "│ u16   ┆ i16  ┆ i16 ┆ i16   ┆ u16 │\n",
       "╞═══════╪══════╪═════╪═══════╪═════╡\n",
       "│ 20014 ┆ 4    ┆ 2   ┆ 1     ┆ 0   │\n",
       "│ 20014 ┆ 4    ┆ 4   ┆ 1     ┆ 1   │\n",
       "│ 20014 ┆ 6    ┆ 6   ┆ 2     ┆ 2   │\n",
       "│ 20014 ┆ 7    ┆ 2   ┆ 3     ┆ 3   │\n",
       "│ 20014 ┆ 7    ┆ 6   ┆ 3     ┆ 4   │\n",
       "│ 20014 ┆ 12   ┆ 5   ┆ 2     ┆ 5   │\n",
       "│ 20014 ┆ 17   ┆ 6   ┆ 1     ┆ 6   │\n",
       "│ 20014 ┆ 23   ┆ 4   ┆ 2     ┆ 7   │\n",
       "│ 20014 ┆ 47   ┆ 6   ┆ 2     ┆ 8   │\n",
       "└───────┴──────┴─────┴───────┴─────┘"
      ]
     },
     "execution_count": 15,
     "metadata": {},
     "output_type": "execute_result"
    }
   ],
   "source": [
    "kiwi_lf_m2.filter(pl.col('ID') == 20014).collect()"
   ]
  },
  {
   "cell_type": "code",
   "execution_count": 16,
   "metadata": {},
   "outputs": [
    {
     "data": {
      "text/html": [
       "<div><style>\n",
       ".dataframe > thead > tr,\n",
       ".dataframe > tbody > tr {\n",
       "  text-align: right;\n",
       "  white-space: pre-wrap;\n",
       "}\n",
       "</style>\n",
       "<small>shape: (3, 5)</small><table border=\"1\" class=\"dataframe\"><thead><tr><th>ID</th><th>Week</th><th>Day</th><th>Units</th><th>DoR</th></tr><tr><td>u16</td><td>i16</td><td>i16</td><td>i16</td><td>u16</td></tr></thead><tbody><tr><td>20069</td><td>18</td><td>1</td><td>1</td><td>0</td></tr><tr><td>20069</td><td>18</td><td>5</td><td>1</td><td>1</td></tr><tr><td>20069</td><td>19</td><td>4</td><td>2</td><td>2</td></tr></tbody></table></div>"
      ],
      "text/plain": [
       "shape: (3, 5)\n",
       "┌───────┬──────┬─────┬───────┬─────┐\n",
       "│ ID    ┆ Week ┆ Day ┆ Units ┆ DoR │\n",
       "│ ---   ┆ ---  ┆ --- ┆ ---   ┆ --- │\n",
       "│ u16   ┆ i16  ┆ i16 ┆ i16   ┆ u16 │\n",
       "╞═══════╪══════╪═════╪═══════╪═════╡\n",
       "│ 20069 ┆ 18   ┆ 1   ┆ 1     ┆ 0   │\n",
       "│ 20069 ┆ 18   ┆ 5   ┆ 1     ┆ 1   │\n",
       "│ 20069 ┆ 19   ┆ 4   ┆ 2     ┆ 2   │\n",
       "└───────┴──────┴─────┴───────┴─────┘"
      ]
     },
     "execution_count": 16,
     "metadata": {},
     "output_type": "execute_result"
    }
   ],
   "source": [
    "kiwi_lf_m2.filter(pl.col('ID') == 20069).collect()"
   ]
  },
  {
   "cell_type": "markdown",
   "metadata": {},
   "source": [
    "To complicate matters, consider the transaction history of panelist 20069. This person's trial and first repeat purchases occurred in the same week. We therefore change the week associated with the first repeat purchase from 18 to 19. But this creates another problem as this person's second repeat purchase occurred in week 19. Having shifted the first repeat purchase to week 19, we have to shift the second repeat purchase to week 20.\n",
    "\n",
    "Our solution is to group each record by `ID` and pass all of an ID's `Week` as an array to a custom defined function which iterates over the array to evaluates whether the array has repeating numbers. If there were purchases made in the same week, such that index $i$ and index $i+1$ are in the same week, $i+1$ is incremented by 1. The loop inside the defined function also ensures that we shift purchases encroached on by the shifting of previous purchases (such as the second repeat purchase for panelist 20069)."
   ]
  },
  {
   "cell_type": "code",
   "execution_count": 17,
   "metadata": {},
   "outputs": [
    {
     "data": {
      "text/plain": [
       "array([1, 2, 3, 4, 6, 7, 8, 9])"
      ]
     },
     "execution_count": 17,
     "metadata": {},
     "output_type": "execute_result"
    }
   ],
   "source": [
    "example_array = np.array([1,1,2,3,6,7,7,8])\n",
    "\n",
    "def shift(arr):    \n",
    "    arr = np.sort(arr) # Sort array to handle duplicates systematically\n",
    "    for i in range(1, len(arr)):\n",
    "        if arr[i] <= arr[i - 1]: # If duplicate or less, increment by 1\n",
    "            arr[i] = arr[i - 1] + 1\n",
    "    return arr\n",
    "\n",
    "shift(example_array)"
   ]
  },
  {
   "cell_type": "code",
   "execution_count": 18,
   "metadata": {},
   "outputs": [
    {
     "data": {
      "text/html": [
       "<div><style>\n",
       ".dataframe > thead > tr,\n",
       ".dataframe > tbody > tr {\n",
       "  text-align: right;\n",
       "  white-space: pre-wrap;\n",
       "}\n",
       "</style>\n",
       "<small>shape: (9, 6)</small><table border=\"1\" class=\"dataframe\"><thead><tr><th>ID</th><th>Week</th><th>Day</th><th>Units</th><th>DoR</th><th>shWeek</th></tr><tr><td>u16</td><td>i16</td><td>i16</td><td>i16</td><td>u16</td><td>i16</td></tr></thead><tbody><tr><td>20014</td><td>4</td><td>4</td><td>1</td><td>1</td><td>5</td></tr><tr><td>20014</td><td>7</td><td>6</td><td>3</td><td>4</td><td>8</td></tr><tr><td>20051</td><td>17</td><td>7</td><td>2</td><td>1</td><td>18</td></tr><tr><td>20057</td><td>16</td><td>4</td><td>3</td><td>2</td><td>17</td></tr><tr><td>20057</td><td>17</td><td>2</td><td>1</td><td>3</td><td>18</td></tr><tr><td>20069</td><td>18</td><td>5</td><td>1</td><td>1</td><td>19</td></tr><tr><td>20069</td><td>19</td><td>4</td><td>2</td><td>2</td><td>20</td></tr><tr><td>20117</td><td>1</td><td>4</td><td>1</td><td>1</td><td>2</td></tr><tr><td>20118</td><td>19</td><td>5</td><td>1</td><td>5</td><td>20</td></tr></tbody></table></div>"
      ],
      "text/plain": [
       "shape: (9, 6)\n",
       "┌───────┬──────┬─────┬───────┬─────┬────────┐\n",
       "│ ID    ┆ Week ┆ Day ┆ Units ┆ DoR ┆ shWeek │\n",
       "│ ---   ┆ ---  ┆ --- ┆ ---   ┆ --- ┆ ---    │\n",
       "│ u16   ┆ i16  ┆ i16 ┆ i16   ┆ u16 ┆ i16    │\n",
       "╞═══════╪══════╪═════╪═══════╪═════╪════════╡\n",
       "│ 20014 ┆ 4    ┆ 4   ┆ 1     ┆ 1   ┆ 5      │\n",
       "│ 20014 ┆ 7    ┆ 6   ┆ 3     ┆ 4   ┆ 8      │\n",
       "│ 20051 ┆ 17   ┆ 7   ┆ 2     ┆ 1   ┆ 18     │\n",
       "│ 20057 ┆ 16   ┆ 4   ┆ 3     ┆ 2   ┆ 17     │\n",
       "│ 20057 ┆ 17   ┆ 2   ┆ 1     ┆ 3   ┆ 18     │\n",
       "│ 20069 ┆ 18   ┆ 5   ┆ 1     ┆ 1   ┆ 19     │\n",
       "│ 20069 ┆ 19   ┆ 4   ┆ 2     ┆ 2   ┆ 20     │\n",
       "│ 20117 ┆ 1    ┆ 4   ┆ 1     ┆ 1   ┆ 2      │\n",
       "│ 20118 ┆ 19   ┆ 5   ┆ 1     ┆ 5   ┆ 20     │\n",
       "└───────┴──────┴─────┴───────┴─────┴────────┘"
      ]
     },
     "execution_count": 18,
     "metadata": {},
     "output_type": "execute_result"
    }
   ],
   "source": [
    "# Method 1\n",
    "def shift_week(group_df):    \n",
    "    week_arr = group_df[\"Week\"].sort().to_numpy().copy()  # Sort array to handle duplicates systematically\n",
    "    for i in range(1, len(week_arr)):\n",
    "        if week_arr[i] <= week_arr[i - 1]: # If duplicate or less, increment by 1\n",
    "            week_arr[i] = week_arr[i - 1] + 1\n",
    "    return group_df.with_columns(pl.Series(\"shWeek\", week_arr))\n",
    "\n",
    "# Method 2\n",
    "# def shift_week(group_df):\n",
    "#     seen = set()\n",
    "#     adjusted_weeks = []\n",
    "#     for week in group_df[\"Week\"].to_list(): \n",
    "#         while week in seen: \n",
    "#             week += 1\n",
    "#         seen.add(week)\n",
    "#         adjusted_weeks.append(week)\n",
    "#     return group_df.with_columns(pl.Series(\"shWeek\", adjusted_weeks))\n",
    "\n",
    "shifted_lf = (\n",
    "    kiwi_lf_m2\n",
    "    .group_by('ID')\n",
    "    .map_groups(shift_week, schema={'Week': pl.Int16, \n",
    "                                    'shWeek':pl.Int16,\n",
    "                                    'DoR':pl.UInt16,\n",
    "                                    'Units':pl.Int16,\n",
    "                                    'Day':pl.Int16,\n",
    "                                    'ID':pl.UInt16})\n",
    ")\n",
    "\n",
    "shifted_lf.filter(pl.col('shWeek') != pl.col('Week')).collect()"
   ]
  },
  {
   "cell_type": "markdown",
   "metadata": {},
   "source": [
    "The next step is to create a table that tells us how many trial, first repeat, etc. purchases occurred in each week. We create a pivot table in which we use `shWeek` as the row field, `DoR` as the column field, and `ID` as the data item."
   ]
  },
  {
   "cell_type": "code",
   "execution_count": 19,
   "metadata": {},
   "outputs": [],
   "source": [
    "week_range, dor_range = np.meshgrid(np.arange(1, 53, dtype='int16'), np.arange(0, 12, dtype='uint16'))\n",
    "dummy_lf = pl.DataFrame({'shWeek': week_range.reshape(-1), 'DoR': dor_range.reshape(-1)})\n",
    "\n",
    "sh_agg_trans = (\n",
    "    shifted_lf\n",
    "    .collect()\n",
    "    .group_by('shWeek', 'DoR')\n",
    "    .agg(pl.len().alias('Count'))\n",
    ")\n",
    "\n",
    "shweek_total_trans = (\n",
    "    sh_agg_trans\n",
    "    .group_by('shWeek')\n",
    "    .agg(pl.col('Count').sum().alias('Total')) \n",
    ")\n",
    "\n",
    "sh_agg_trans_longform = (\n",
    "    dummy_lf\n",
    "    .join(sh_agg_trans, on=['shWeek', 'DoR'], how='left')\n",
    "    .join(shweek_total_trans, on='shWeek', how='left')\n",
    "    .fill_null(0)\n",
    ")"
   ]
  },
  {
   "cell_type": "code",
   "execution_count": 20,
   "metadata": {},
   "outputs": [
    {
     "data": {
      "text/html": [
       "<div><style>\n",
       ".dataframe > thead > tr,\n",
       ".dataframe > tbody > tr {\n",
       "  text-align: right;\n",
       "  white-space: pre-wrap;\n",
       "}\n",
       "</style>\n",
       "<small>shape: (52, 14)</small><table border=\"1\" class=\"dataframe\"><thead><tr><th>shWeek</th><th>0</th><th>1</th><th>2</th><th>3</th><th>4</th><th>5</th><th>6</th><th>7</th><th>8</th><th>9</th><th>10</th><th>11</th><th>Total</th></tr><tr><td>i16</td><td>u32</td><td>u32</td><td>u32</td><td>u32</td><td>u32</td><td>u32</td><td>u32</td><td>u32</td><td>u32</td><td>u32</td><td>u32</td><td>u32</td><td>u32</td></tr></thead><tbody><tr><td>1</td><td>8</td><td>0</td><td>0</td><td>0</td><td>0</td><td>0</td><td>0</td><td>0</td><td>0</td><td>0</td><td>0</td><td>0</td><td>8</td></tr><tr><td>2</td><td>6</td><td>1</td><td>0</td><td>0</td><td>0</td><td>0</td><td>0</td><td>0</td><td>0</td><td>0</td><td>0</td><td>0</td><td>7</td></tr><tr><td>3</td><td>2</td><td>1</td><td>0</td><td>0</td><td>0</td><td>0</td><td>0</td><td>0</td><td>0</td><td>0</td><td>0</td><td>0</td><td>3</td></tr><tr><td>4</td><td>16</td><td>1</td><td>0</td><td>0</td><td>0</td><td>0</td><td>0</td><td>0</td><td>0</td><td>0</td><td>0</td><td>0</td><td>17</td></tr><tr><td>5</td><td>8</td><td>4</td><td>0</td><td>0</td><td>0</td><td>0</td><td>0</td><td>0</td><td>0</td><td>0</td><td>0</td><td>0</td><td>12</td></tr><tr><td>&hellip;</td><td>&hellip;</td><td>&hellip;</td><td>&hellip;</td><td>&hellip;</td><td>&hellip;</td><td>&hellip;</td><td>&hellip;</td><td>&hellip;</td><td>&hellip;</td><td>&hellip;</td><td>&hellip;</td><td>&hellip;</td><td>&hellip;</td></tr><tr><td>48</td><td>1</td><td>1</td><td>1</td><td>1</td><td>0</td><td>0</td><td>0</td><td>1</td><td>0</td><td>0</td><td>0</td><td>0</td><td>5</td></tr><tr><td>49</td><td>4</td><td>0</td><td>0</td><td>0</td><td>0</td><td>2</td><td>0</td><td>1</td><td>1</td><td>0</td><td>0</td><td>0</td><td>8</td></tr><tr><td>50</td><td>0</td><td>2</td><td>0</td><td>0</td><td>0</td><td>0</td><td>0</td><td>1</td><td>2</td><td>1</td><td>1</td><td>1</td><td>8</td></tr><tr><td>51</td><td>0</td><td>1</td><td>0</td><td>0</td><td>0</td><td>0</td><td>0</td><td>1</td><td>0</td><td>0</td><td>0</td><td>0</td><td>2</td></tr><tr><td>52</td><td>2</td><td>1</td><td>1</td><td>1</td><td>0</td><td>0</td><td>0</td><td>0</td><td>0</td><td>1</td><td>0</td><td>0</td><td>6</td></tr></tbody></table></div>"
      ],
      "text/plain": [
       "shape: (52, 14)\n",
       "┌────────┬─────┬─────┬─────┬───┬─────┬─────┬─────┬───────┐\n",
       "│ shWeek ┆ 0   ┆ 1   ┆ 2   ┆ … ┆ 9   ┆ 10  ┆ 11  ┆ Total │\n",
       "│ ---    ┆ --- ┆ --- ┆ --- ┆   ┆ --- ┆ --- ┆ --- ┆ ---   │\n",
       "│ i16    ┆ u32 ┆ u32 ┆ u32 ┆   ┆ u32 ┆ u32 ┆ u32 ┆ u32   │\n",
       "╞════════╪═════╪═════╪═════╪═══╪═════╪═════╪═════╪═══════╡\n",
       "│ 1      ┆ 8   ┆ 0   ┆ 0   ┆ … ┆ 0   ┆ 0   ┆ 0   ┆ 8     │\n",
       "│ 2      ┆ 6   ┆ 1   ┆ 0   ┆ … ┆ 0   ┆ 0   ┆ 0   ┆ 7     │\n",
       "│ 3      ┆ 2   ┆ 1   ┆ 0   ┆ … ┆ 0   ┆ 0   ┆ 0   ┆ 3     │\n",
       "│ 4      ┆ 16  ┆ 1   ┆ 0   ┆ … ┆ 0   ┆ 0   ┆ 0   ┆ 17    │\n",
       "│ 5      ┆ 8   ┆ 4   ┆ 0   ┆ … ┆ 0   ┆ 0   ┆ 0   ┆ 12    │\n",
       "│ …      ┆ …   ┆ …   ┆ …   ┆ … ┆ …   ┆ …   ┆ …   ┆ …     │\n",
       "│ 48     ┆ 1   ┆ 1   ┆ 1   ┆ … ┆ 0   ┆ 0   ┆ 0   ┆ 5     │\n",
       "│ 49     ┆ 4   ┆ 0   ┆ 0   ┆ … ┆ 0   ┆ 0   ┆ 0   ┆ 8     │\n",
       "│ 50     ┆ 0   ┆ 2   ┆ 0   ┆ … ┆ 1   ┆ 1   ┆ 1   ┆ 8     │\n",
       "│ 51     ┆ 0   ┆ 1   ┆ 0   ┆ … ┆ 0   ┆ 0   ┆ 0   ┆ 2     │\n",
       "│ 52     ┆ 2   ┆ 1   ┆ 1   ┆ … ┆ 1   ┆ 0   ┆ 0   ┆ 6     │\n",
       "└────────┴─────┴─────┴─────┴───┴─────┴─────┴─────┴───────┘"
      ]
     },
     "metadata": {},
     "output_type": "display_data"
    },
    {
     "data": {
      "text/html": [
       "<div><style>\n",
       ".dataframe > thead > tr,\n",
       ".dataframe > tbody > tr {\n",
       "  text-align: right;\n",
       "  white-space: pre-wrap;\n",
       "}\n",
       "</style>\n",
       "<small>shape: (1, 13)</small><table border=\"1\" class=\"dataframe\"><thead><tr><th>0</th><th>1</th><th>2</th><th>3</th><th>4</th><th>5</th><th>6</th><th>7</th><th>8</th><th>9</th><th>10</th><th>11</th><th>Total</th></tr><tr><td>u32</td><td>u32</td><td>u32</td><td>u32</td><td>u32</td><td>u32</td><td>u32</td><td>u32</td><td>u32</td><td>u32</td><td>u32</td><td>u32</td><td>u32</td></tr></thead><tbody><tr><td>139</td><td>52</td><td>31</td><td>23</td><td>17</td><td>14</td><td>9</td><td>8</td><td>6</td><td>4</td><td>2</td><td>1</td><td>306</td></tr></tbody></table></div>"
      ],
      "text/plain": [
       "shape: (1, 13)\n",
       "┌─────┬─────┬─────┬─────┬───┬─────┬─────┬─────┬───────┐\n",
       "│ 0   ┆ 1   ┆ 2   ┆ 3   ┆ … ┆ 9   ┆ 10  ┆ 11  ┆ Total │\n",
       "│ --- ┆ --- ┆ --- ┆ --- ┆   ┆ --- ┆ --- ┆ --- ┆ ---   │\n",
       "│ u32 ┆ u32 ┆ u32 ┆ u32 ┆   ┆ u32 ┆ u32 ┆ u32 ┆ u32   │\n",
       "╞═════╪═════╪═════╪═════╪═══╪═════╪═════╪═════╪═══════╡\n",
       "│ 139 ┆ 52  ┆ 31  ┆ 23  ┆ … ┆ 4   ┆ 2   ┆ 1   ┆ 306   │\n",
       "└─────┴─────┴─────┴─────┴───┴─────┴─────┴─────┴───────┘"
      ]
     },
     "metadata": {},
     "output_type": "display_data"
    }
   ],
   "source": [
    "sh_agg_trans_wideform = (\n",
    "    sh_agg_trans_longform\n",
    "    .pivot(on='DoR', index='shWeek', values='Count')\n",
    "    .join(shweek_total_trans, on='shWeek', how='left')\n",
    ")\n",
    "\n",
    "col_total = sh_agg_trans_wideform.select(pl.col('*').exclude('shWeek').sum())\n",
    "\n",
    "display(sh_agg_trans_wideform)\n",
    "display(col_total)"
   ]
  },
  {
   "cell_type": "code",
   "execution_count": 21,
   "metadata": {},
   "outputs": [
    {
     "data": {
      "text/html": [
       "<div><style>\n",
       ".dataframe > thead > tr,\n",
       ".dataframe > tbody > tr {\n",
       "  text-align: right;\n",
       "  white-space: pre-wrap;\n",
       "}\n",
       "</style>\n",
       "<small>shape: (52, 13)</small><table border=\"1\" class=\"dataframe\"><thead><tr><th>shWeek</th><th>0</th><th>1</th><th>2</th><th>3</th><th>4</th><th>5</th><th>6</th><th>7</th><th>8</th><th>9</th><th>10</th><th>11</th></tr><tr><td>i16</td><td>u32</td><td>u32</td><td>u32</td><td>u32</td><td>u32</td><td>u32</td><td>u32</td><td>u32</td><td>u32</td><td>u32</td><td>u32</td><td>u32</td></tr></thead><tbody><tr><td>1</td><td>8</td><td>0</td><td>0</td><td>0</td><td>0</td><td>0</td><td>0</td><td>0</td><td>0</td><td>0</td><td>0</td><td>0</td></tr><tr><td>2</td><td>14</td><td>1</td><td>0</td><td>0</td><td>0</td><td>0</td><td>0</td><td>0</td><td>0</td><td>0</td><td>0</td><td>0</td></tr><tr><td>3</td><td>16</td><td>2</td><td>0</td><td>0</td><td>0</td><td>0</td><td>0</td><td>0</td><td>0</td><td>0</td><td>0</td><td>0</td></tr><tr><td>4</td><td>32</td><td>3</td><td>0</td><td>0</td><td>0</td><td>0</td><td>0</td><td>0</td><td>0</td><td>0</td><td>0</td><td>0</td></tr><tr><td>5</td><td>40</td><td>7</td><td>0</td><td>0</td><td>0</td><td>0</td><td>0</td><td>0</td><td>0</td><td>0</td><td>0</td><td>0</td></tr><tr><td>&hellip;</td><td>&hellip;</td><td>&hellip;</td><td>&hellip;</td><td>&hellip;</td><td>&hellip;</td><td>&hellip;</td><td>&hellip;</td><td>&hellip;</td><td>&hellip;</td><td>&hellip;</td><td>&hellip;</td><td>&hellip;</td></tr><tr><td>48</td><td>133</td><td>48</td><td>30</td><td>22</td><td>17</td><td>12</td><td>9</td><td>5</td><td>3</td><td>2</td><td>1</td><td>0</td></tr><tr><td>49</td><td>137</td><td>48</td><td>30</td><td>22</td><td>17</td><td>14</td><td>9</td><td>6</td><td>4</td><td>2</td><td>1</td><td>0</td></tr><tr><td>50</td><td>137</td><td>50</td><td>30</td><td>22</td><td>17</td><td>14</td><td>9</td><td>7</td><td>6</td><td>3</td><td>2</td><td>1</td></tr><tr><td>51</td><td>137</td><td>51</td><td>30</td><td>22</td><td>17</td><td>14</td><td>9</td><td>8</td><td>6</td><td>3</td><td>2</td><td>1</td></tr><tr><td>52</td><td>139</td><td>52</td><td>31</td><td>23</td><td>17</td><td>14</td><td>9</td><td>8</td><td>6</td><td>4</td><td>2</td><td>1</td></tr></tbody></table></div>"
      ],
      "text/plain": [
       "shape: (52, 13)\n",
       "┌────────┬─────┬─────┬─────┬───┬─────┬─────┬─────┬─────┐\n",
       "│ shWeek ┆ 0   ┆ 1   ┆ 2   ┆ … ┆ 8   ┆ 9   ┆ 10  ┆ 11  │\n",
       "│ ---    ┆ --- ┆ --- ┆ --- ┆   ┆ --- ┆ --- ┆ --- ┆ --- │\n",
       "│ i16    ┆ u32 ┆ u32 ┆ u32 ┆   ┆ u32 ┆ u32 ┆ u32 ┆ u32 │\n",
       "╞════════╪═════╪═════╪═════╪═══╪═════╪═════╪═════╪═════╡\n",
       "│ 1      ┆ 8   ┆ 0   ┆ 0   ┆ … ┆ 0   ┆ 0   ┆ 0   ┆ 0   │\n",
       "│ 2      ┆ 14  ┆ 1   ┆ 0   ┆ … ┆ 0   ┆ 0   ┆ 0   ┆ 0   │\n",
       "│ 3      ┆ 16  ┆ 2   ┆ 0   ┆ … ┆ 0   ┆ 0   ┆ 0   ┆ 0   │\n",
       "│ 4      ┆ 32  ┆ 3   ┆ 0   ┆ … ┆ 0   ┆ 0   ┆ 0   ┆ 0   │\n",
       "│ 5      ┆ 40  ┆ 7   ┆ 0   ┆ … ┆ 0   ┆ 0   ┆ 0   ┆ 0   │\n",
       "│ …      ┆ …   ┆ …   ┆ …   ┆ … ┆ …   ┆ …   ┆ …   ┆ …   │\n",
       "│ 48     ┆ 133 ┆ 48  ┆ 30  ┆ … ┆ 3   ┆ 2   ┆ 1   ┆ 0   │\n",
       "│ 49     ┆ 137 ┆ 48  ┆ 30  ┆ … ┆ 4   ┆ 2   ┆ 1   ┆ 0   │\n",
       "│ 50     ┆ 137 ┆ 50  ┆ 30  ┆ … ┆ 6   ┆ 3   ┆ 2   ┆ 1   │\n",
       "│ 51     ┆ 137 ┆ 51  ┆ 30  ┆ … ┆ 6   ┆ 3   ┆ 2   ┆ 1   │\n",
       "│ 52     ┆ 139 ┆ 52  ┆ 31  ┆ … ┆ 6   ┆ 4   ┆ 2   ┆ 1   │\n",
       "└────────┴─────┴─────┴─────┴───┴─────┴─────┴─────┴─────┘"
      ]
     },
     "metadata": {},
     "output_type": "display_data"
    }
   ],
   "source": [
    "sh_cum_trans_longform = sh_agg_trans_longform.with_columns(pl.col('Count').cum_sum().over('DoR').alias('Cum DoR'))\n",
    "sh_cum_trans_wideform = sh_cum_trans_longform.pivot(on='DoR', index='shWeek', values='Cum DoR')\n",
    "\n",
    "display(sh_cum_trans_wideform)"
   ]
  },
  {
   "cell_type": "markdown",
   "metadata": {},
   "source": [
    "The differences between the \"raw\" and \"shifted\" cumulative transaction counts by depth-of-repeat level are small; there are only nine depth-of-repeat/week occasions on which the two sets of numbers differ, and the maximum deviation is one transaction. Perhaps the most obvious difference is with respect to first repeat. Looking at the \"raw\" numbers, we observe a first repeat purchase in the first week the product was on the market. Under the assumption that a trial and first repeat purchase cannot occur in the same week, this first repeat purchase is shifted to week 2 in the \"shifted\" numbers."
   ]
  },
  {
   "cell_type": "markdown",
   "metadata": {},
   "source": [
    "### <span style=\"color:#956bbf\">Generating a Sales Forecast With a Depth-of-Repeat Model</span>\n",
    "---"
   ]
  },
  {
   "cell_type": "markdown",
   "metadata": {},
   "source": [
    "#### Introduction"
   ]
  },
  {
   "cell_type": "markdown",
   "metadata": {},
   "source": [
    "Central to diagnosing the performance of a new product is the decomposition of its total sales into trial, first repeat, second repeat, and so on, components:\n",
    "\n",
    "$$\n",
    "S(t)=T(t)+R_{1}(t)+R_{2}(t)+R_{3}(t)+\\cdots\n",
    "$$\n",
    "\n",
    "where $S(t)$ is the cumulative sales volume up to time $t$ (assuming that only one unit is purchased on each purchase occasion), $T(t)$ equals the cumulative number of people who have made a trial purchase by time $t$, and $R_{j}(t)$ denotes the number of people who have made at least $j$ repeat purchases of the new product by time $t(j=1,2,3, \\ldots)$.\n",
    "\n",
    "- We can decompose $T(t)$ in the following manner:\n",
    "\n",
    "    $$\n",
    "    \\begin{equation*}\n",
    "    T(t)=N F_{0}(t) \\tag{1}\n",
    "    \\end{equation*}\n",
    "    $$\n",
    "\n",
    "    where $N$ is number of customers whose purchases are being monitored and $F_{0}(t)$ is the proportion of customers who have made their trial purchase by $t$.\n",
    "\n",
    "- We can decompose the $R_{j}(t)$ by conditioning on the time at which the $(j-1)$ th purchase occurred:\n",
    "\n",
    "    $$\n",
    "    \\begin{equation*}\n",
    "    R_{j}(t)=\\sum_{t_{j-1}=j}^{t-1} F_{j}\\left(t \\mid t_{j-1}\\right)\\left[R_{j-1}\\left(t_{j-1}\\right)-R_{j-1}\\left(t_{j-1}-1\\right)\\right] \\tag{2}\n",
    "    \\end{equation*}\n",
    "    $$\n",
    "\n",
    "    where $F_{j}\\left(t \\mid t_{j-1}\\right)$ is the proportion of customers who have made a $j$ th repeat purchase by $t$, given that their $(j-1)$ th repeat purchase was made in period $t_{j-1}$, and $R_{j-1}\\left(t_{j-1}\\right)-R_{j-1}\\left(t_{j-1}-1\\right)$ is the number of individuals who made their $(j-1)$ th repeat purchase in time period $t_{j-1}$. (Note that $R_{0}(t)=T(t)$ and $R_{j}(t)=0$ for $\\left.t \\leq j.\\right)$\n",
    "\n",
    "Equations (1) and (2) are simply definitional. If we specify mathematical expressions for $F_{0}(t)$ and the $F_{j}\\left(t \\mid t_{j-1}\\right)$, we arrive at a model of new product sales. Our python implementation incorporates the following model, with separate submodels for trial, first repeat (denoted by $F R(t)$ instead of $R_{1}(t)$ ) and additional repeat $\\left(A R(t)=R_{2}(t)+R_{3}(t)+\\cdots\\right)$:\n",
    "\n",
    "For trial, we have\n",
    "\n",
    "$$\n",
    "\\begin{align*}\n",
    "& T(t)=N P(\\text { trial by } t)  \\tag{3}\\\\\n",
    "& P(\\text {trial by } t)=p_{0}\\left(1-e^{-\\theta_{T} t}\\right) \\tag{4}\n",
    "\\end{align*}\n",
    "$$\n",
    "\n",
    "For first repeat, we have\n",
    "\n",
    "$$\n",
    "\\begin{align*}\n",
    "& F R(t)=\\sum_{t_{0}=1}^{t-1} P\\left(\\text { first repeat by } t \\mid \\text { trial at } t_{0}\\right)\\left[T\\left(t_{0}\\right)-T\\left(t_{0}-1\\right)\\right]  \\tag{5}\\\\\n",
    "& P\\left(\\text {first repeat by } t \\mid \\text { trial at } t_{0}\\right)=p_{1}\\left(1-e^{-\\theta_{F R}\\left(t-t_{0}\\right)}\\right) \\tag{6}\n",
    "\\end{align*}\n",
    "$$\n",
    "\n",
    "For additional repeat $(j \\geq 2)$, we have\n",
    "\n",
    "$$\n",
    "\\begin{align*}\n",
    "A R(t)= & \\sum_{j=2}^{\\infty} R_{j}(t)  \\tag{7}\\\\\n",
    "R_{j}(t)=\\sum_{t_{j-1}=j}^{t-1}\\{ & P\\left(j \\text {th repeat by } t \\mid(j-1) \\text { th repeat at } t_{j-1}\\right) \\\\\n",
    "& \\left.\\quad \\times\\left[R_{j-1}\\left(t_{j-1}\\right)-R_{j-1}\\left(t_{j-1}-1\\right)\\right]\\right\\} \\tag{8}\n",
    "\\end{align*}\n",
    "$$\n",
    "\n",
    "$$\n",
    "\\begin{equation*}\n",
    "P\\left(j\\text{th repeat by } t \\mid (j-1)\\text{th repeat at } t_{j-1}\\right)=p_{j}\\left(1-e^{-\\theta_{A R}\\left(t-t_{j-1}\\right)}\\right) \\tag{9}\n",
    "\\end{equation*}\n",
    "$$\n",
    "\n",
    "$$\n",
    "\\begin{equation*}\n",
    "p_{j}=p_{\\infty}\\left(1-e^{-\\gamma j}\\right) \\tag{10}\n",
    "\\end{equation*}\n",
    "$$"
   ]
  },
  {
   "cell_type": "markdown",
   "metadata": {},
   "source": [
    "For the Kiwi Bubbles dataset (from a panel of $N=1499$ households) with a 24 -week calibration period, we have\n",
    "\n",
    "| $p_{0}$ | $\\theta_{T}$ | $p_{1}$ | $\\theta_{F R}$ | $p_{\\infty}$ | $\\gamma$ | $\\theta_{A R}$ |\n",
    "| :---: | :---: | :---: | :---: | :---: | :---: | :---: |\n",
    "| 0.08620 | 0.06428 | 0.36346 | 0.46140 | 0.78158 | 1.00140 | 0.23094 |\n",
    "\n",
    "Given these parameter estimates, we can first generate a forecast of trial, then a forecast of first repeat (conditional on the trial forecast), then a forecast of second repeat (conditional on the first-repeat forecast), and so on. For a forecast horizon of $t_{f}$ periods, we should (in theory) allow for up to $t_{f}-1$ levels of repeat ${ }^{1}$.\n",
    "\n",
    "${ }^{1}$ Under the assumption that a customer can have only one transaction per unit of time, the earliest point in time a first repeat purchase can occur is period 2. Following this logic, the summation limit in (7) should really be $t-1$, not $\\infty$."
   ]
  },
  {
   "cell_type": "code",
   "execution_count": 22,
   "metadata": {},
   "outputs": [
    {
     "data": {
      "text/html": [
       "<div><style>\n",
       ".dataframe > thead > tr,\n",
       ".dataframe > tbody > tr {\n",
       "  text-align: right;\n",
       "  white-space: pre-wrap;\n",
       "}\n",
       "</style>\n",
       "<small>shape: (52, 5)</small><table border=\"1\" class=\"dataframe\"><thead><tr><th>Week (t)</th><th>T(t)</th><th>FR(t)</th><th>AR(t)</th><th>S(t)</th></tr><tr><td>i16</td><td>u32</td><td>u32</td><td>u32</td><td>u32</td></tr></thead><tbody><tr><td>1</td><td>8</td><td>0</td><td>0</td><td>8</td></tr><tr><td>2</td><td>14</td><td>1</td><td>0</td><td>15</td></tr><tr><td>3</td><td>16</td><td>2</td><td>0</td><td>18</td></tr><tr><td>4</td><td>32</td><td>3</td><td>0</td><td>35</td></tr><tr><td>5</td><td>40</td><td>7</td><td>0</td><td>47</td></tr><tr><td>&hellip;</td><td>&hellip;</td><td>&hellip;</td><td>&hellip;</td><td>&hellip;</td></tr><tr><td>48</td><td>133</td><td>48</td><td>101</td><td>282</td></tr><tr><td>49</td><td>137</td><td>48</td><td>105</td><td>290</td></tr><tr><td>50</td><td>137</td><td>50</td><td>111</td><td>298</td></tr><tr><td>51</td><td>137</td><td>51</td><td>112</td><td>300</td></tr><tr><td>52</td><td>139</td><td>52</td><td>115</td><td>306</td></tr></tbody></table></div>"
      ],
      "text/plain": [
       "shape: (52, 5)\n",
       "┌──────────┬──────┬───────┬───────┬──────┐\n",
       "│ Week (t) ┆ T(t) ┆ FR(t) ┆ AR(t) ┆ S(t) │\n",
       "│ ---      ┆ ---  ┆ ---   ┆ ---   ┆ ---  │\n",
       "│ i16      ┆ u32  ┆ u32   ┆ u32   ┆ u32  │\n",
       "╞══════════╪══════╪═══════╪═══════╪══════╡\n",
       "│ 1        ┆ 8    ┆ 0     ┆ 0     ┆ 8    │\n",
       "│ 2        ┆ 14   ┆ 1     ┆ 0     ┆ 15   │\n",
       "│ 3        ┆ 16   ┆ 2     ┆ 0     ┆ 18   │\n",
       "│ 4        ┆ 32   ┆ 3     ┆ 0     ┆ 35   │\n",
       "│ 5        ┆ 40   ┆ 7     ┆ 0     ┆ 47   │\n",
       "│ …        ┆ …    ┆ …     ┆ …     ┆ …    │\n",
       "│ 48       ┆ 133  ┆ 48    ┆ 101   ┆ 282  │\n",
       "│ 49       ┆ 137  ┆ 48    ┆ 105   ┆ 290  │\n",
       "│ 50       ┆ 137  ┆ 50    ┆ 111   ┆ 298  │\n",
       "│ 51       ┆ 137  ┆ 51    ┆ 112   ┆ 300  │\n",
       "│ 52       ┆ 139  ┆ 52    ┆ 115   ┆ 306  │\n",
       "└──────────┴──────┴───────┴───────┴──────┘"
      ]
     },
     "execution_count": 22,
     "metadata": {},
     "output_type": "execute_result"
    }
   ],
   "source": [
    "modified_cum_trans = (\n",
    "    sh_cum_trans_wideform\n",
    "    .with_columns(\n",
    "        pl.sum_horizontal(pl.col(f'{i}' for i in range(2, 12)).alias('AR(t)')),\n",
    "        pl.sum_horizontal(pl.exclude('shWeek').alias('S(t)'))\n",
    "    )\n",
    "    .rename({'shWeek': 'Week (t)', '0': 'T(t)', '1': 'FR(t)'})\n",
    "    .select('Week (t)', 'T(t)', 'FR(t)', 'AR(t)', 'S(t)')\n",
    ")\n",
    "\n",
    "modified_cum_trans"
   ]
  },
  {
   "cell_type": "code",
   "execution_count": 23,
   "metadata": {},
   "outputs": [
    {
     "data": {
      "application/vnd.vegalite.v5+json": {
       "$schema": "https://vega.github.io/schema/vega-lite/v5.20.1.json",
       "config": {
        "axisX": {
         "grid": false
        },
        "axisY": {
         "grid": false
        },
        "view": {
         "continuousHeight": 300,
         "continuousWidth": 300,
         "stroke": null
        }
       },
       "data": {
        "name": "data-14af2c719777932de7be45f5a594bb10"
       },
       "datasets": {
        "data-14af2c719777932de7be45f5a594bb10": [
         {
          "AR(t)": 0,
          "FR(t)": 0,
          "S(t)": 8,
          "T(t)": 8,
          "Week (t)": 1
         },
         {
          "AR(t)": 0,
          "FR(t)": 1,
          "S(t)": 15,
          "T(t)": 14,
          "Week (t)": 2
         },
         {
          "AR(t)": 0,
          "FR(t)": 2,
          "S(t)": 18,
          "T(t)": 16,
          "Week (t)": 3
         },
         {
          "AR(t)": 0,
          "FR(t)": 3,
          "S(t)": 35,
          "T(t)": 32,
          "Week (t)": 4
         },
         {
          "AR(t)": 0,
          "FR(t)": 7,
          "S(t)": 47,
          "T(t)": 40,
          "Week (t)": 5
         },
         {
          "AR(t)": 2,
          "FR(t)": 9,
          "S(t)": 58,
          "T(t)": 47,
          "Week (t)": 6
         },
         {
          "AR(t)": 3,
          "FR(t)": 12,
          "S(t)": 65,
          "T(t)": 50,
          "Week (t)": 7
         },
         {
          "AR(t)": 4,
          "FR(t)": 13,
          "S(t)": 69,
          "T(t)": 52,
          "Week (t)": 8
         },
         {
          "AR(t)": 7,
          "FR(t)": 17,
          "S(t)": 81,
          "T(t)": 57,
          "Week (t)": 9
         },
         {
          "AR(t)": 9,
          "FR(t)": 18,
          "S(t)": 87,
          "T(t)": 60,
          "Week (t)": 10
         },
         {
          "AR(t)": 13,
          "FR(t)": 22,
          "S(t)": 100,
          "T(t)": 65,
          "Week (t)": 11
         },
         {
          "AR(t)": 15,
          "FR(t)": 23,
          "S(t)": 105,
          "T(t)": 67,
          "Week (t)": 12
         },
         {
          "AR(t)": 16,
          "FR(t)": 23,
          "S(t)": 107,
          "T(t)": 68,
          "Week (t)": 13
         },
         {
          "AR(t)": 18,
          "FR(t)": 23,
          "S(t)": 113,
          "T(t)": 72,
          "Week (t)": 14
         },
         {
          "AR(t)": 19,
          "FR(t)": 23,
          "S(t)": 117,
          "T(t)": 75,
          "Week (t)": 15
         },
         {
          "AR(t)": 21,
          "FR(t)": 24,
          "S(t)": 126,
          "T(t)": 81,
          "Week (t)": 16
         },
         {
          "AR(t)": 26,
          "FR(t)": 24,
          "S(t)": 140,
          "T(t)": 90,
          "Week (t)": 17
         },
         {
          "AR(t)": 30,
          "FR(t)": 28,
          "S(t)": 152,
          "T(t)": 94,
          "Week (t)": 18
         },
         {
          "AR(t)": 32,
          "FR(t)": 32,
          "S(t)": 160,
          "T(t)": 96,
          "Week (t)": 19
         },
         {
          "AR(t)": 35,
          "FR(t)": 33,
          "S(t)": 164,
          "T(t)": 96,
          "Week (t)": 20
         },
         {
          "AR(t)": 38,
          "FR(t)": 33,
          "S(t)": 167,
          "T(t)": 96,
          "Week (t)": 21
         },
         {
          "AR(t)": 39,
          "FR(t)": 34,
          "S(t)": 170,
          "T(t)": 97,
          "Week (t)": 22
         },
         {
          "AR(t)": 40,
          "FR(t)": 35,
          "S(t)": 172,
          "T(t)": 97,
          "Week (t)": 23
         },
         {
          "AR(t)": 43,
          "FR(t)": 35,
          "S(t)": 179,
          "T(t)": 101,
          "Week (t)": 24
         },
         {
          "AR(t)": 43,
          "FR(t)": 35,
          "S(t)": 179,
          "T(t)": 101,
          "Week (t)": 25
         },
         {
          "AR(t)": 50,
          "FR(t)": 35,
          "S(t)": 186,
          "T(t)": 101,
          "Week (t)": 26
         },
         {
          "AR(t)": 53,
          "FR(t)": 37,
          "S(t)": 195,
          "T(t)": 105,
          "Week (t)": 27
         },
         {
          "AR(t)": 57,
          "FR(t)": 37,
          "S(t)": 200,
          "T(t)": 106,
          "Week (t)": 28
         },
         {
          "AR(t)": 60,
          "FR(t)": 37,
          "S(t)": 203,
          "T(t)": 106,
          "Week (t)": 29
         },
         {
          "AR(t)": 64,
          "FR(t)": 41,
          "S(t)": 223,
          "T(t)": 118,
          "Week (t)": 30
         },
         {
          "AR(t)": 65,
          "FR(t)": 41,
          "S(t)": 225,
          "T(t)": 119,
          "Week (t)": 31
         },
         {
          "AR(t)": 65,
          "FR(t)": 42,
          "S(t)": 226,
          "T(t)": 119,
          "Week (t)": 32
         },
         {
          "AR(t)": 67,
          "FR(t)": 43,
          "S(t)": 230,
          "T(t)": 120,
          "Week (t)": 33
         },
         {
          "AR(t)": 69,
          "FR(t)": 44,
          "S(t)": 236,
          "T(t)": 123,
          "Week (t)": 34
         },
         {
          "AR(t)": 72,
          "FR(t)": 45,
          "S(t)": 242,
          "T(t)": 125,
          "Week (t)": 35
         },
         {
          "AR(t)": 76,
          "FR(t)": 45,
          "S(t)": 246,
          "T(t)": 125,
          "Week (t)": 36
         },
         {
          "AR(t)": 80,
          "FR(t)": 45,
          "S(t)": 251,
          "T(t)": 126,
          "Week (t)": 37
         },
         {
          "AR(t)": 84,
          "FR(t)": 45,
          "S(t)": 256,
          "T(t)": 127,
          "Week (t)": 38
         },
         {
          "AR(t)": 84,
          "FR(t)": 45,
          "S(t)": 256,
          "T(t)": 127,
          "Week (t)": 39
         },
         {
          "AR(t)": 87,
          "FR(t)": 45,
          "S(t)": 259,
          "T(t)": 127,
          "Week (t)": 40
         },
         {
          "AR(t)": 87,
          "FR(t)": 45,
          "S(t)": 259,
          "T(t)": 127,
          "Week (t)": 41
         },
         {
          "AR(t)": 89,
          "FR(t)": 45,
          "S(t)": 262,
          "T(t)": 128,
          "Week (t)": 42
         },
         {
          "AR(t)": 89,
          "FR(t)": 45,
          "S(t)": 263,
          "T(t)": 129,
          "Week (t)": 43
         },
         {
          "AR(t)": 89,
          "FR(t)": 46,
          "S(t)": 264,
          "T(t)": 129,
          "Week (t)": 44
         },
         {
          "AR(t)": 93,
          "FR(t)": 46,
          "S(t)": 268,
          "T(t)": 129,
          "Week (t)": 45
         },
         {
          "AR(t)": 94,
          "FR(t)": 46,
          "S(t)": 270,
          "T(t)": 130,
          "Week (t)": 46
         },
         {
          "AR(t)": 98,
          "FR(t)": 47,
          "S(t)": 277,
          "T(t)": 132,
          "Week (t)": 47
         },
         {
          "AR(t)": 101,
          "FR(t)": 48,
          "S(t)": 282,
          "T(t)": 133,
          "Week (t)": 48
         },
         {
          "AR(t)": 105,
          "FR(t)": 48,
          "S(t)": 290,
          "T(t)": 137,
          "Week (t)": 49
         },
         {
          "AR(t)": 111,
          "FR(t)": 50,
          "S(t)": 298,
          "T(t)": 137,
          "Week (t)": 50
         },
         {
          "AR(t)": 112,
          "FR(t)": 51,
          "S(t)": 300,
          "T(t)": 137,
          "Week (t)": 51
         },
         {
          "AR(t)": 115,
          "FR(t)": 52,
          "S(t)": 306,
          "T(t)": 139,
          "Week (t)": 52
         }
        ]
       },
       "encoding": {
        "color": {
         "field": "Type",
         "type": "nominal"
        },
        "x": {
         "axis": {
          "labelExpr": "datum.value",
          "title": "Week",
          "values": [
           0,
           4,
           8,
           12,
           16,
           20,
           24,
           28,
           32,
           36,
           40,
           44,
           48,
           52
          ]
         },
         "field": "Week (t)",
         "scale": {
          "domain": [
           0,
           52
          ]
         },
         "type": "quantitative"
        },
        "y": {
         "field": "Cum DoR",
         "scale": {},
         "title": "Cumulative Sales (# Transactions)",
         "type": "quantitative"
        }
       },
       "height": 250,
       "mark": {
        "strokeDash": [
         1,
         0
        ],
        "strokeWidth": 2,
        "type": "line"
       },
       "title": "Actual Cumulative Market Sales",
       "transform": [
        {
         "as": [
          "Type",
          "Cum DoR"
         ],
         "fold": [
          "T(t)",
          "FR(t)",
          "AR(t)",
          "S(t)"
         ]
        }
       ],
       "width": 650
      },
      "text/plain": [
       "<VegaLite 5 object>\n",
       "\n",
       "If you see this message, it means the renderer has not been properly enabled\n",
       "for the frontend that you are using. For more information, see\n",
       "https://altair-viz.github.io/user_guide/display_frontends.html#troubleshooting\n"
      ]
     },
     "execution_count": 23,
     "metadata": {},
     "output_type": "execute_result"
    }
   ],
   "source": [
    "actual_sales_curve = (\n",
    "    ChartTemp(modified_cum_trans)\n",
    "    .transform_fold(['T(t)', 'FR(t)', 'AR(t)', 'S(t)'], as_=['Type', 'Cum DoR'])\n",
    "    .line_encode('Cum DoR:Q', color='Type:N')\n",
    ")\n",
    "\n",
    "actual_sales_curve.line_prop('Actual Cumulative Market Sales')"
   ]
  },
  {
   "cell_type": "code",
   "execution_count": 24,
   "metadata": {},
   "outputs": [
    {
     "data": {
      "application/vnd.vegalite.v5+json": {
       "$schema": "https://vega.github.io/schema/vega-lite/v5.20.1.json",
       "config": {
        "axisX": {
         "grid": false
        },
        "axisY": {
         "grid": false
        },
        "view": {
         "continuousHeight": 300,
         "continuousWidth": 300,
         "stroke": null
        }
       },
       "data": {
        "name": "data-b5695179706b3d78752f038cacb9ffe0"
       },
       "datasets": {
        "data-b5695179706b3d78752f038cacb9ffe0": [
         {
          "AR(t)": 0,
          "FR(t)": 0,
          "S(t)": 8,
          "T(t)": 8,
          "Week (t)": 1
         },
         {
          "AR(t)": 0,
          "FR(t)": 1,
          "S(t)": 15,
          "T(t)": 14,
          "Week (t)": 2
         },
         {
          "AR(t)": 0,
          "FR(t)": 2,
          "S(t)": 18,
          "T(t)": 16,
          "Week (t)": 3
         },
         {
          "AR(t)": 0,
          "FR(t)": 3,
          "S(t)": 35,
          "T(t)": 32,
          "Week (t)": 4
         },
         {
          "AR(t)": 0,
          "FR(t)": 7,
          "S(t)": 47,
          "T(t)": 40,
          "Week (t)": 5
         },
         {
          "AR(t)": 2,
          "FR(t)": 9,
          "S(t)": 58,
          "T(t)": 47,
          "Week (t)": 6
         },
         {
          "AR(t)": 3,
          "FR(t)": 12,
          "S(t)": 65,
          "T(t)": 50,
          "Week (t)": 7
         },
         {
          "AR(t)": 4,
          "FR(t)": 13,
          "S(t)": 69,
          "T(t)": 52,
          "Week (t)": 8
         },
         {
          "AR(t)": 7,
          "FR(t)": 17,
          "S(t)": 81,
          "T(t)": 57,
          "Week (t)": 9
         },
         {
          "AR(t)": 9,
          "FR(t)": 18,
          "S(t)": 87,
          "T(t)": 60,
          "Week (t)": 10
         },
         {
          "AR(t)": 13,
          "FR(t)": 22,
          "S(t)": 100,
          "T(t)": 65,
          "Week (t)": 11
         },
         {
          "AR(t)": 15,
          "FR(t)": 23,
          "S(t)": 105,
          "T(t)": 67,
          "Week (t)": 12
         },
         {
          "AR(t)": 16,
          "FR(t)": 23,
          "S(t)": 107,
          "T(t)": 68,
          "Week (t)": 13
         },
         {
          "AR(t)": 18,
          "FR(t)": 23,
          "S(t)": 113,
          "T(t)": 72,
          "Week (t)": 14
         },
         {
          "AR(t)": 19,
          "FR(t)": 23,
          "S(t)": 117,
          "T(t)": 75,
          "Week (t)": 15
         },
         {
          "AR(t)": 21,
          "FR(t)": 24,
          "S(t)": 126,
          "T(t)": 81,
          "Week (t)": 16
         },
         {
          "AR(t)": 26,
          "FR(t)": 24,
          "S(t)": 140,
          "T(t)": 90,
          "Week (t)": 17
         },
         {
          "AR(t)": 30,
          "FR(t)": 28,
          "S(t)": 152,
          "T(t)": 94,
          "Week (t)": 18
         },
         {
          "AR(t)": 32,
          "FR(t)": 32,
          "S(t)": 160,
          "T(t)": 96,
          "Week (t)": 19
         },
         {
          "AR(t)": 35,
          "FR(t)": 33,
          "S(t)": 164,
          "T(t)": 96,
          "Week (t)": 20
         },
         {
          "AR(t)": 38,
          "FR(t)": 33,
          "S(t)": 167,
          "T(t)": 96,
          "Week (t)": 21
         },
         {
          "AR(t)": 39,
          "FR(t)": 34,
          "S(t)": 170,
          "T(t)": 97,
          "Week (t)": 22
         },
         {
          "AR(t)": 40,
          "FR(t)": 35,
          "S(t)": 172,
          "T(t)": 97,
          "Week (t)": 23
         },
         {
          "AR(t)": 43,
          "FR(t)": 35,
          "S(t)": 179,
          "T(t)": 101,
          "Week (t)": 24
         }
        ]
       },
       "encoding": {
        "color": {
         "field": "Type",
         "type": "nominal"
        },
        "x": {
         "axis": {
          "labelExpr": "datum.value",
          "title": "Week",
          "values": [
           0,
           4,
           8,
           12,
           16,
           20,
           24,
           28,
           32,
           36,
           40,
           44,
           48,
           52
          ]
         },
         "field": "Week (t)",
         "scale": {
          "domain": [
           0,
           52
          ]
         },
         "type": "quantitative"
        },
        "y": {
         "field": "Cum DoR",
         "scale": {
          "domain": [
           0,
           350
          ]
         },
         "title": "Cumulative Sales (# Transactions)",
         "type": "quantitative"
        }
       },
       "height": 250,
       "mark": {
        "strokeDash": [
         1,
         0
        ],
        "strokeWidth": 2,
        "type": "line"
       },
       "title": "Initial Test-Market Cumulative Sales",
       "transform": [
        {
         "as": [
          "Type",
          "Cum DoR"
         ],
         "fold": [
          "T(t)",
          "FR(t)",
          "AR(t)",
          "S(t)"
         ]
        }
       ],
       "width": 650
      },
      "text/plain": [
       "<VegaLite 5 object>\n",
       "\n",
       "If you see this message, it means the renderer has not been properly enabled\n",
       "for the frontend that you are using. For more information, see\n",
       "https://altair-viz.github.io/user_guide/display_frontends.html#troubleshooting\n"
      ]
     },
     "execution_count": 24,
     "metadata": {},
     "output_type": "execute_result"
    }
   ],
   "source": [
    "(\n",
    "    ChartTemp(modified_cum_trans.filter(pl.col('Week (t)')<=24))\n",
    "    .transform_fold(['T(t)', 'FR(t)', 'AR(t)', 'S(t)'], as_=['Type', 'Cum DoR'])\n",
    "    .line_encode('Cum DoR:Q', color='Type:N', y_scale=alt.Scale(domain=[0, 350]))\n",
    "    .line_prop('Initial Test-Market Cumulative Sales')\n",
    ")"
   ]
  },
  {
   "cell_type": "markdown",
   "metadata": {},
   "source": [
    "#### Forecasting Trial Transactions"
   ]
  },
  {
   "cell_type": "markdown",
   "metadata": {},
   "source": [
    "**Modelling Objective**:\n",
    "\n",
    "Using the purchasing data for the 101 households who had tried Kiwi Bubbles by the end of week 24, we wish to forecast the purchasing behavior of the whole panel (i.e., 1499 households) to the end of the year (week 52)."
   ]
  },
  {
   "cell_type": "code",
   "execution_count": 25,
   "metadata": {},
   "outputs": [
    {
     "data": {
      "application/vnd.vegalite.v5+json": {
       "$schema": "https://vega.github.io/schema/vega-lite/v5.20.1.json",
       "config": {
        "axisX": {
         "grid": false
        },
        "axisY": {
         "grid": false
        },
        "view": {
         "continuousHeight": 300,
         "continuousWidth": 300,
         "stroke": null
        }
       },
       "data": {
        "name": "data-b5695179706b3d78752f038cacb9ffe0"
       },
       "datasets": {
        "data-b5695179706b3d78752f038cacb9ffe0": [
         {
          "AR(t)": 0,
          "FR(t)": 0,
          "S(t)": 8,
          "T(t)": 8,
          "Week (t)": 1
         },
         {
          "AR(t)": 0,
          "FR(t)": 1,
          "S(t)": 15,
          "T(t)": 14,
          "Week (t)": 2
         },
         {
          "AR(t)": 0,
          "FR(t)": 2,
          "S(t)": 18,
          "T(t)": 16,
          "Week (t)": 3
         },
         {
          "AR(t)": 0,
          "FR(t)": 3,
          "S(t)": 35,
          "T(t)": 32,
          "Week (t)": 4
         },
         {
          "AR(t)": 0,
          "FR(t)": 7,
          "S(t)": 47,
          "T(t)": 40,
          "Week (t)": 5
         },
         {
          "AR(t)": 2,
          "FR(t)": 9,
          "S(t)": 58,
          "T(t)": 47,
          "Week (t)": 6
         },
         {
          "AR(t)": 3,
          "FR(t)": 12,
          "S(t)": 65,
          "T(t)": 50,
          "Week (t)": 7
         },
         {
          "AR(t)": 4,
          "FR(t)": 13,
          "S(t)": 69,
          "T(t)": 52,
          "Week (t)": 8
         },
         {
          "AR(t)": 7,
          "FR(t)": 17,
          "S(t)": 81,
          "T(t)": 57,
          "Week (t)": 9
         },
         {
          "AR(t)": 9,
          "FR(t)": 18,
          "S(t)": 87,
          "T(t)": 60,
          "Week (t)": 10
         },
         {
          "AR(t)": 13,
          "FR(t)": 22,
          "S(t)": 100,
          "T(t)": 65,
          "Week (t)": 11
         },
         {
          "AR(t)": 15,
          "FR(t)": 23,
          "S(t)": 105,
          "T(t)": 67,
          "Week (t)": 12
         },
         {
          "AR(t)": 16,
          "FR(t)": 23,
          "S(t)": 107,
          "T(t)": 68,
          "Week (t)": 13
         },
         {
          "AR(t)": 18,
          "FR(t)": 23,
          "S(t)": 113,
          "T(t)": 72,
          "Week (t)": 14
         },
         {
          "AR(t)": 19,
          "FR(t)": 23,
          "S(t)": 117,
          "T(t)": 75,
          "Week (t)": 15
         },
         {
          "AR(t)": 21,
          "FR(t)": 24,
          "S(t)": 126,
          "T(t)": 81,
          "Week (t)": 16
         },
         {
          "AR(t)": 26,
          "FR(t)": 24,
          "S(t)": 140,
          "T(t)": 90,
          "Week (t)": 17
         },
         {
          "AR(t)": 30,
          "FR(t)": 28,
          "S(t)": 152,
          "T(t)": 94,
          "Week (t)": 18
         },
         {
          "AR(t)": 32,
          "FR(t)": 32,
          "S(t)": 160,
          "T(t)": 96,
          "Week (t)": 19
         },
         {
          "AR(t)": 35,
          "FR(t)": 33,
          "S(t)": 164,
          "T(t)": 96,
          "Week (t)": 20
         },
         {
          "AR(t)": 38,
          "FR(t)": 33,
          "S(t)": 167,
          "T(t)": 96,
          "Week (t)": 21
         },
         {
          "AR(t)": 39,
          "FR(t)": 34,
          "S(t)": 170,
          "T(t)": 97,
          "Week (t)": 22
         },
         {
          "AR(t)": 40,
          "FR(t)": 35,
          "S(t)": 172,
          "T(t)": 97,
          "Week (t)": 23
         },
         {
          "AR(t)": 43,
          "FR(t)": 35,
          "S(t)": 179,
          "T(t)": 101,
          "Week (t)": 24
         }
        ]
       },
       "encoding": {
        "color": {},
        "x": {
         "axis": {
          "labelExpr": "datum.value",
          "title": "Week",
          "values": [
           0,
           4,
           8,
           12,
           16,
           20,
           24,
           28,
           32,
           36,
           40,
           44,
           48,
           52
          ]
         },
         "field": "Week (t)",
         "scale": {
          "domain": [
           0,
           52
          ]
         },
         "type": "quantitative"
        },
        "y": {
         "field": "T(t)",
         "scale": {
          "domain": [
           0,
           150
          ]
         },
         "title": "Cumulative Trial Sales (# of Transactions)",
         "type": "quantitative"
        }
       },
       "height": 250,
       "mark": {
        "strokeDash": [
         1,
         0
        ],
        "strokeWidth": 2,
        "type": "line"
       },
       "title": "Actual Test-Market Cumulative Trials",
       "width": 650
      },
      "text/plain": [
       "<VegaLite 5 object>\n",
       "\n",
       "If you see this message, it means the renderer has not been properly enabled\n",
       "for the frontend that you are using. For more information, see\n",
       "https://altair-viz.github.io/user_guide/display_frontends.html#troubleshooting\n"
      ]
     },
     "execution_count": 25,
     "metadata": {},
     "output_type": "execute_result"
    }
   ],
   "source": [
    "(\n",
    "    ChartTemp(modified_cum_trans.filter(pl.col('Week (t)')<=24))\n",
    "    .line_encode('T(t):Q', y_scale=alt.Scale(domain=[0, 150]), y_title='Cumulative Trial Sales (# of Transactions)')\n",
    "    .line_prop('Actual Test-Market Cumulative Trials')\n",
    ")"
   ]
  },
  {
   "cell_type": "markdown",
   "metadata": {},
   "source": [
    "**Modelling Trial Sales**\n",
    "- We model the cumulative number of triers by time $t$, $T(t)$, by developing an expression for the probability that a randomly-chosen individual has made a trial purchase by time $t$. \n",
    "- For a market comprising $N$ individuals (i.e., the size of the panel), we have:\n",
    "$$T(t)=N \\cdot P(\\text {trial by } t)$$\n",
    "\n",
    "**Characterizing $P(\\text {trial by } t)$**:\n",
    " \n",
    "Cumulative penetration curves (from controlled test-markets) tend to:\n",
    "- increase at a decreasing rate\n",
    "- towards a penetration limit < 100%\n",
    "\n",
    "A mathematical expression that captures this is:\n",
    "$$P(\\text {trial by } t)=p_{0}\\left(1-e^{-\\theta_{T} t}\\right)$$\n",
    "\n",
    "**Formal Derivation: Individual-Level Model**:\n",
    "\n",
    "- Let $T$ denote the random variable of interest, and $t$ denote a particular realization.\n",
    "- Assume time-to-trial is distributed exponentially.\n",
    "- The probability that an individual has tried by time $t$ is given by:\n",
    "$$F(t) = P(T ≤ t) = 1 − e^{−λ_{T} t}$$\n",
    "- $λ_{T}$ represents the individual’s trial rate.\n",
    "\n",
    "**Formal Derivation: Market-Level Model**:\n",
    "\n",
    "Assume two segments of consumers:\n",
    "|Segment | Description | Size | $$λ_{T}$$ |\n",
    "|:-----: |:----------: |:----:| :-----: |\n",
    "| 1 | ever triers | $$p_{0}$$ | $$\\theta_{T}$$ |\n",
    "| 2 | never triers | $$1 - p_{0}$$ | 0 |\n",
    "\n",
    "$$\n",
    "\\begin{aligned}\n",
    "P(\\text{trail by } t) &= P\\left(T ≤ t\\mid\\text{ever trier}\\right) × P\\left(\\text{ever trier}\\right) + P\\left(T ≤ t \\mid \\text{never trier}\\right) × P\\left(\\text{never trier}\\right) \\\\\n",
    "        &= p_{0}F\\left(t \\mid λ_{T} = θ_{T} \\right) + \\left(1 − p_{0}\\right)F\\left(t \\mid λ_{T} = 0\\right) \\\\\n",
    "        &= p_{0}\\left(1-e^{-\\theta_{T} t}\\right)\n",
    "\\end{aligned}\n",
    "$$\n",
    "\n",
    "-> the “exponential w/ never triers” model"
   ]
  },
  {
   "cell_type": "markdown",
   "metadata": {},
   "source": [
    "##### Trial Model Parameter Estimate"
   ]
  },
  {
   "cell_type": "code",
   "execution_count": 26,
   "metadata": {},
   "outputs": [],
   "source": [
    "def trial_model(trails: np.ndarray, weeks: np.ndarray, n: int, guess=[0.05, 0.05]):\n",
    "    \n",
    "    def least_square(x):\n",
    "        p_0, theta_T = x[0], x[1]\n",
    "        pred_cum_triers = p_0 * (1 - np.exp(-theta_T * weeks)) * n\n",
    "        return np.sum((pred_cum_triers - trails)**2)\n",
    "    \n",
    "    return minimize(least_square, guess, bounds=[(0, np.inf), (0, np.inf)])"
   ]
  },
  {
   "cell_type": "code",
   "execution_count": 27,
   "metadata": {},
   "outputs": [
    {
     "data": {
      "text/markdown": [
       "$P_0$ = 0.0862\n",
       "\n",
       "$\\theta_{T}$ = 0.0643\n",
       "\n",
       "Sum of Square Errors = 286.6578"
      ]
     },
     "metadata": {},
     "output_type": "display_data"
    }
   ],
   "source": [
    "train_trial = (\n",
    "    modified_cum_trans\n",
    "    .filter(pl.col('Week (t)')<=24)\n",
    "    .select('T(t)', 'Week (t)')\n",
    "    .to_numpy().transpose()\n",
    ")\n",
    "\n",
    "trails, weeks = train_trial[0], train_trial[1]\n",
    "\n",
    "result = trial_model(trails, weeks, n=num_panellists_m2)\n",
    "p_0, theta_T, sse = result.x[0], result.x[1], result.fun\n",
    "\n",
    "# Trial Purchase Model Parameters\n",
    "display_markdown(f'''$P_{0}$ = {p_0:0.4f}\n",
    "\n",
    "$\\\\theta_{{T}}$ = {theta_T:0.4f}\n",
    "\n",
    "Sum of Square Errors = {sse:0.4f}''', raw=True)"
   ]
  },
  {
   "cell_type": "markdown",
   "metadata": {},
   "source": [
    "##### Forecasting Trial Transactions"
   ]
  },
  {
   "cell_type": "code",
   "execution_count": 28,
   "metadata": {},
   "outputs": [],
   "source": [
    "endwk = 52"
   ]
  },
  {
   "cell_type": "markdown",
   "metadata": {},
   "source": [
    "Our goal is to generate a (cumulative) sales forecast for the new product up to the end of the year (week 52). We start by generating a forecast of $T(t)$, the cumulative number of trial transactions by $t$, for $t=1, \\ldots, 52$.\n",
    "\n",
    "Given $\\hat{p}_{0}$ and $\\hat{\\theta}_{T}$, we evaluate expressions (1) and (2) by specifying the vector of time points $t$ (up to 52 weeks). "
   ]
  },
  {
   "cell_type": "code",
   "execution_count": 29,
   "metadata": {},
   "outputs": [
    {
     "name": "stdout",
     "output_type": "stream",
     "text": [
      "[  8.04517066  15.58943159  22.66397051  29.29803333  35.51904504\n",
      "  41.3527231   46.82318375  51.95304168  56.76350355  61.27445566\n",
      "  65.50454613  69.47126202  73.19100159  76.67914213  79.95010349\n",
      "  83.01740771  85.89373495  88.59097582  91.12028064  93.49210547\n",
      "  95.71625535  97.80192485  99.75773606 101.59177422 103.31162121\n",
      " 104.92438679 106.43673811 107.85492715 109.18481668 110.43190441\n",
      " 111.60134576 112.69797516 113.72632604 114.69064957 115.59493223\n",
      " 116.4429123  117.23809529 117.98376847 118.68301442 119.33872381\n",
      " 119.95360731 120.53020683 121.07090602 121.57794011 122.05340516\n",
      " 122.49926673 122.91736799 123.30943736 123.67709564 124.02186273\n",
      " 124.34516387 124.64833558]\n"
     ]
    }
   ],
   "source": [
    "t = np.arange(1, endwk+1, 1)\n",
    "cum_trial = num_panellists_m2 * p_0 * (1 - np.exp(-theta_T * t))\n",
    "print(cum_trial)"
   ]
  },
  {
   "cell_type": "code",
   "execution_count": 30,
   "metadata": {},
   "outputs": [
    {
     "data": {
      "application/vnd.vegalite.v5+json": {
       "$schema": "https://vega.github.io/schema/vega-lite/v5.20.1.json",
       "config": {
        "axisX": {
         "grid": false
        },
        "axisY": {
         "grid": false
        },
        "view": {
         "continuousHeight": 300,
         "continuousWidth": 300,
         "stroke": null
        }
       },
       "datasets": {
        "data-14af2c719777932de7be45f5a594bb10": [
         {
          "AR(t)": 0,
          "FR(t)": 0,
          "S(t)": 8,
          "T(t)": 8,
          "Week (t)": 1
         },
         {
          "AR(t)": 0,
          "FR(t)": 1,
          "S(t)": 15,
          "T(t)": 14,
          "Week (t)": 2
         },
         {
          "AR(t)": 0,
          "FR(t)": 2,
          "S(t)": 18,
          "T(t)": 16,
          "Week (t)": 3
         },
         {
          "AR(t)": 0,
          "FR(t)": 3,
          "S(t)": 35,
          "T(t)": 32,
          "Week (t)": 4
         },
         {
          "AR(t)": 0,
          "FR(t)": 7,
          "S(t)": 47,
          "T(t)": 40,
          "Week (t)": 5
         },
         {
          "AR(t)": 2,
          "FR(t)": 9,
          "S(t)": 58,
          "T(t)": 47,
          "Week (t)": 6
         },
         {
          "AR(t)": 3,
          "FR(t)": 12,
          "S(t)": 65,
          "T(t)": 50,
          "Week (t)": 7
         },
         {
          "AR(t)": 4,
          "FR(t)": 13,
          "S(t)": 69,
          "T(t)": 52,
          "Week (t)": 8
         },
         {
          "AR(t)": 7,
          "FR(t)": 17,
          "S(t)": 81,
          "T(t)": 57,
          "Week (t)": 9
         },
         {
          "AR(t)": 9,
          "FR(t)": 18,
          "S(t)": 87,
          "T(t)": 60,
          "Week (t)": 10
         },
         {
          "AR(t)": 13,
          "FR(t)": 22,
          "S(t)": 100,
          "T(t)": 65,
          "Week (t)": 11
         },
         {
          "AR(t)": 15,
          "FR(t)": 23,
          "S(t)": 105,
          "T(t)": 67,
          "Week (t)": 12
         },
         {
          "AR(t)": 16,
          "FR(t)": 23,
          "S(t)": 107,
          "T(t)": 68,
          "Week (t)": 13
         },
         {
          "AR(t)": 18,
          "FR(t)": 23,
          "S(t)": 113,
          "T(t)": 72,
          "Week (t)": 14
         },
         {
          "AR(t)": 19,
          "FR(t)": 23,
          "S(t)": 117,
          "T(t)": 75,
          "Week (t)": 15
         },
         {
          "AR(t)": 21,
          "FR(t)": 24,
          "S(t)": 126,
          "T(t)": 81,
          "Week (t)": 16
         },
         {
          "AR(t)": 26,
          "FR(t)": 24,
          "S(t)": 140,
          "T(t)": 90,
          "Week (t)": 17
         },
         {
          "AR(t)": 30,
          "FR(t)": 28,
          "S(t)": 152,
          "T(t)": 94,
          "Week (t)": 18
         },
         {
          "AR(t)": 32,
          "FR(t)": 32,
          "S(t)": 160,
          "T(t)": 96,
          "Week (t)": 19
         },
         {
          "AR(t)": 35,
          "FR(t)": 33,
          "S(t)": 164,
          "T(t)": 96,
          "Week (t)": 20
         },
         {
          "AR(t)": 38,
          "FR(t)": 33,
          "S(t)": 167,
          "T(t)": 96,
          "Week (t)": 21
         },
         {
          "AR(t)": 39,
          "FR(t)": 34,
          "S(t)": 170,
          "T(t)": 97,
          "Week (t)": 22
         },
         {
          "AR(t)": 40,
          "FR(t)": 35,
          "S(t)": 172,
          "T(t)": 97,
          "Week (t)": 23
         },
         {
          "AR(t)": 43,
          "FR(t)": 35,
          "S(t)": 179,
          "T(t)": 101,
          "Week (t)": 24
         },
         {
          "AR(t)": 43,
          "FR(t)": 35,
          "S(t)": 179,
          "T(t)": 101,
          "Week (t)": 25
         },
         {
          "AR(t)": 50,
          "FR(t)": 35,
          "S(t)": 186,
          "T(t)": 101,
          "Week (t)": 26
         },
         {
          "AR(t)": 53,
          "FR(t)": 37,
          "S(t)": 195,
          "T(t)": 105,
          "Week (t)": 27
         },
         {
          "AR(t)": 57,
          "FR(t)": 37,
          "S(t)": 200,
          "T(t)": 106,
          "Week (t)": 28
         },
         {
          "AR(t)": 60,
          "FR(t)": 37,
          "S(t)": 203,
          "T(t)": 106,
          "Week (t)": 29
         },
         {
          "AR(t)": 64,
          "FR(t)": 41,
          "S(t)": 223,
          "T(t)": 118,
          "Week (t)": 30
         },
         {
          "AR(t)": 65,
          "FR(t)": 41,
          "S(t)": 225,
          "T(t)": 119,
          "Week (t)": 31
         },
         {
          "AR(t)": 65,
          "FR(t)": 42,
          "S(t)": 226,
          "T(t)": 119,
          "Week (t)": 32
         },
         {
          "AR(t)": 67,
          "FR(t)": 43,
          "S(t)": 230,
          "T(t)": 120,
          "Week (t)": 33
         },
         {
          "AR(t)": 69,
          "FR(t)": 44,
          "S(t)": 236,
          "T(t)": 123,
          "Week (t)": 34
         },
         {
          "AR(t)": 72,
          "FR(t)": 45,
          "S(t)": 242,
          "T(t)": 125,
          "Week (t)": 35
         },
         {
          "AR(t)": 76,
          "FR(t)": 45,
          "S(t)": 246,
          "T(t)": 125,
          "Week (t)": 36
         },
         {
          "AR(t)": 80,
          "FR(t)": 45,
          "S(t)": 251,
          "T(t)": 126,
          "Week (t)": 37
         },
         {
          "AR(t)": 84,
          "FR(t)": 45,
          "S(t)": 256,
          "T(t)": 127,
          "Week (t)": 38
         },
         {
          "AR(t)": 84,
          "FR(t)": 45,
          "S(t)": 256,
          "T(t)": 127,
          "Week (t)": 39
         },
         {
          "AR(t)": 87,
          "FR(t)": 45,
          "S(t)": 259,
          "T(t)": 127,
          "Week (t)": 40
         },
         {
          "AR(t)": 87,
          "FR(t)": 45,
          "S(t)": 259,
          "T(t)": 127,
          "Week (t)": 41
         },
         {
          "AR(t)": 89,
          "FR(t)": 45,
          "S(t)": 262,
          "T(t)": 128,
          "Week (t)": 42
         },
         {
          "AR(t)": 89,
          "FR(t)": 45,
          "S(t)": 263,
          "T(t)": 129,
          "Week (t)": 43
         },
         {
          "AR(t)": 89,
          "FR(t)": 46,
          "S(t)": 264,
          "T(t)": 129,
          "Week (t)": 44
         },
         {
          "AR(t)": 93,
          "FR(t)": 46,
          "S(t)": 268,
          "T(t)": 129,
          "Week (t)": 45
         },
         {
          "AR(t)": 94,
          "FR(t)": 46,
          "S(t)": 270,
          "T(t)": 130,
          "Week (t)": 46
         },
         {
          "AR(t)": 98,
          "FR(t)": 47,
          "S(t)": 277,
          "T(t)": 132,
          "Week (t)": 47
         },
         {
          "AR(t)": 101,
          "FR(t)": 48,
          "S(t)": 282,
          "T(t)": 133,
          "Week (t)": 48
         },
         {
          "AR(t)": 105,
          "FR(t)": 48,
          "S(t)": 290,
          "T(t)": 137,
          "Week (t)": 49
         },
         {
          "AR(t)": 111,
          "FR(t)": 50,
          "S(t)": 298,
          "T(t)": 137,
          "Week (t)": 50
         },
         {
          "AR(t)": 112,
          "FR(t)": 51,
          "S(t)": 300,
          "T(t)": 137,
          "Week (t)": 51
         },
         {
          "AR(t)": 115,
          "FR(t)": 52,
          "S(t)": 306,
          "T(t)": 139,
          "Week (t)": 52
         }
        ],
        "data-fe95cadd00a65e4b4a4029aed0152905": [
         {
          "T(t)": 8.045170660899128,
          "Week (t)": 1
         },
         {
          "T(t)": 15.589431588978789,
          "Week (t)": 2
         },
         {
          "T(t)": 22.663970508031177,
          "Week (t)": 3
         },
         {
          "T(t)": 29.2980333266838,
          "Week (t)": 4
         },
         {
          "T(t)": 35.519045040013125,
          "Week (t)": 5
         },
         {
          "T(t)": 41.352723103562276,
          "Week (t)": 6
         },
         {
          "T(t)": 46.82318374844691,
          "Week (t)": 7
         },
         {
          "T(t)": 51.953041677052745,
          "Week (t)": 8
         },
         {
          "T(t)": 56.763503551463195,
          "Week (t)": 9
         },
         {
          "T(t)": 61.2744556610951,
          "Week (t)": 10
         },
         {
          "T(t)": 65.5045461319579,
          "Week (t)": 11
         },
         {
          "T(t)": 69.47126201738647,
          "Week (t)": 12
         },
         {
          "T(t)": 73.19100158893797,
          "Week (t)": 13
         },
         {
          "T(t)": 76.6791421263012,
          "Week (t)": 14
         },
         {
          "T(t)": 79.95010348645951,
          "Week (t)": 15
         },
         {
          "T(t)": 83.01740771489992,
          "Week (t)": 16
         },
         {
          "T(t)": 85.89373494529956,
          "Week (t)": 17
         },
         {
          "T(t)": 88.59097581877661,
          "Week (t)": 18
         },
         {
          "T(t)": 91.1202806394053,
          "Week (t)": 19
         },
         {
          "T(t)": 93.49210546920197,
          "Week (t)": 20
         },
         {
          "T(t)": 95.716255353138,
          "Week (t)": 21
         },
         {
          "T(t)": 97.80192485286942,
          "Week (t)": 22
         },
         {
          "T(t)": 99.7577360567492,
          "Week (t)": 23
         },
         {
          "T(t)": 101.5917742232536,
          "Week (t)": 24
         },
         {
          "T(t)": 103.31162120517202,
          "Week (t)": 25
         },
         {
          "T(t)": 104.92438679273421,
          "Week (t)": 26
         },
         {
          "T(t)": 106.43673810524656,
          "Week (t)": 27
         },
         {
          "T(t)": 107.85492715274178,
          "Week (t)": 28
         },
         {
          "T(t)": 109.1848166815803,
          "Week (t)": 29
         },
         {
          "T(t)": 110.43190441084887,
          "Week (t)": 30
         },
         {
          "T(t)": 111.60134575974834,
          "Week (t)": 31
         },
         {
          "T(t)": 112.6979751599253,
          "Week (t)": 32
         },
         {
          "T(t)": 113.72632604085166,
          "Week (t)": 33
         },
         {
          "T(t)": 114.69064957087134,
          "Week (t)": 34
         },
         {
          "T(t)": 115.59493223138885,
          "Week (t)": 35
         },
         {
          "T(t)": 116.44291229685085,
          "Week (t)": 36
         },
         {
          "T(t)": 117.23809528864837,
          "Week (t)": 37
         },
         {
          "T(t)": 117.9837684668257,
          "Week (t)": 38
         },
         {
          "T(t)": 118.683014419504,
          "Week (t)": 39
         },
         {
          "T(t)": 119.33872380619827,
          "Week (t)": 40
         },
         {
          "T(t)": 119.95360730770746,
          "Week (t)": 41
         },
         {
          "T(t)": 120.53020683197884,
          "Week (t)": 42
         },
         {
          "T(t)": 121.07090602227096,
          "Week (t)": 43
         },
         {
          "T(t)": 121.57794011105548,
          "Week (t)": 44
         },
         {
          "T(t)": 122.05340516039405,
          "Week (t)": 45
         },
         {
          "T(t)": 122.49926672698903,
          "Week (t)": 46
         },
         {
          "T(t)": 122.91736798772959,
          "Week (t)": 47
         },
         {
          "T(t)": 123.30943735932365,
          "Week (t)": 48
         },
         {
          "T(t)": 123.67709564351516,
          "Week (t)": 49
         },
         {
          "T(t)": 124.02186272742443,
          "Week (t)": 50
         },
         {
          "T(t)": 124.34516386671115,
          "Week (t)": 51
         },
         {
          "T(t)": 124.64833557753374,
          "Week (t)": 52
         }
        ]
       },
       "height": 250,
       "layer": [
        {
         "data": {
          "name": "data-14af2c719777932de7be45f5a594bb10"
         },
         "encoding": {
          "color": {},
          "x": {
           "axis": {
            "labelExpr": "datum.value",
            "title": "Week",
            "values": [
             0,
             4,
             8,
             12,
             16,
             20,
             24,
             28,
             32,
             36,
             40,
             44,
             48,
             52
            ]
           },
           "field": "Week (t)",
           "scale": {
            "domain": [
             0,
             52
            ]
           },
           "type": "quantitative"
          },
          "y": {
           "field": "T(t)",
           "scale": {},
           "title": "Cumulative Trial Sales (# of Transactions)",
           "type": "quantitative"
          }
         },
         "mark": {
          "strokeDash": [
           1,
           0
          ],
          "strokeWidth": 2,
          "type": "line"
         }
        },
        {
         "data": {
          "name": "data-fe95cadd00a65e4b4a4029aed0152905"
         },
         "encoding": {
          "color": {},
          "x": {
           "axis": {
            "labelExpr": "datum.value",
            "title": "Week",
            "values": [
             0,
             4,
             8,
             12,
             16,
             20,
             24,
             28,
             32,
             36,
             40,
             44,
             48,
             52
            ]
           },
           "field": "Week (t)",
           "scale": {
            "domain": [
             0,
             52
            ]
           },
           "type": "quantitative"
          },
          "y": {
           "field": "T(t)",
           "scale": {},
           "title": "Cumulative Trial Sales (# of Transactions)",
           "type": "quantitative"
          }
         },
         "mark": {
          "strokeDash": [
           5,
           3
          ],
          "strokeWidth": 2,
          "type": "line"
         }
        }
       ],
       "title": "Cumulative Trial Forecast",
       "width": 650
      },
      "text/plain": [
       "<VegaLite 5 object>\n",
       "\n",
       "If you see this message, it means the renderer has not been properly enabled\n",
       "for the frontend that you are using. For more information, see\n",
       "https://altair-viz.github.io/user_guide/display_frontends.html#troubleshooting\n"
      ]
     },
     "execution_count": 30,
     "metadata": {},
     "output_type": "execute_result"
    }
   ],
   "source": [
    "forecast_df = pl.DataFrame({\n",
    "    'Week (t)': t,\n",
    "    'T(t)': cum_trial\n",
    "})\n",
    "\n",
    "actual_trial_curve = (\n",
    "    ChartTemp(modified_cum_trans)\n",
    "    .line_encode('T(t):Q', y_title='Cumulative Trial Sales (# of Transactions)')\n",
    ")\n",
    "\n",
    "froecast_trial_curve = (\n",
    "    ChartTemp(forecast_df)\n",
    "    .line_encode('T(t):Q', y_title='Cumulative Trial Sales (# of Transactions)', dash=[5,3])\n",
    ")\n",
    "\n",
    "trial_chart = actual_trial_curve + froecast_trial_curve\n",
    "\n",
    "layered_line_prop(trial_chart, 'Cumulative Trial Forecast')"
   ]
  },
  {
   "cell_type": "code",
   "execution_count": 31,
   "metadata": {},
   "outputs": [
    {
     "data": {
      "text/markdown": [
       "Trial Forecast Index = **90**"
      ]
     },
     "metadata": {},
     "output_type": "display_data"
    }
   ],
   "source": [
    "trial_forecast_index = forecast_df.select('T(t)').item(-1,0) / modified_cum_trans.select('T(t)').item(-1,0) * 100\n",
    "\n",
    "display_markdown(f'''Trial Forecast Index = **{trial_forecast_index:0.0f}**''', raw=True)"
   ]
  },
  {
   "cell_type": "markdown",
   "metadata": {},
   "source": [
    "#### Forecasting First-Repeat Transactions"
   ]
  },
  {
   "cell_type": "code",
   "execution_count": 32,
   "metadata": {},
   "outputs": [
    {
     "data": {
      "application/vnd.vegalite.v5+json": {
       "$schema": "https://vega.github.io/schema/vega-lite/v5.20.1.json",
       "config": {
        "axisX": {
         "grid": false
        },
        "axisY": {
         "grid": false
        },
        "view": {
         "continuousHeight": 300,
         "continuousWidth": 300,
         "stroke": null
        }
       },
       "data": {
        "name": "data-b5695179706b3d78752f038cacb9ffe0"
       },
       "datasets": {
        "data-b5695179706b3d78752f038cacb9ffe0": [
         {
          "AR(t)": 0,
          "FR(t)": 0,
          "S(t)": 8,
          "T(t)": 8,
          "Week (t)": 1
         },
         {
          "AR(t)": 0,
          "FR(t)": 1,
          "S(t)": 15,
          "T(t)": 14,
          "Week (t)": 2
         },
         {
          "AR(t)": 0,
          "FR(t)": 2,
          "S(t)": 18,
          "T(t)": 16,
          "Week (t)": 3
         },
         {
          "AR(t)": 0,
          "FR(t)": 3,
          "S(t)": 35,
          "T(t)": 32,
          "Week (t)": 4
         },
         {
          "AR(t)": 0,
          "FR(t)": 7,
          "S(t)": 47,
          "T(t)": 40,
          "Week (t)": 5
         },
         {
          "AR(t)": 2,
          "FR(t)": 9,
          "S(t)": 58,
          "T(t)": 47,
          "Week (t)": 6
         },
         {
          "AR(t)": 3,
          "FR(t)": 12,
          "S(t)": 65,
          "T(t)": 50,
          "Week (t)": 7
         },
         {
          "AR(t)": 4,
          "FR(t)": 13,
          "S(t)": 69,
          "T(t)": 52,
          "Week (t)": 8
         },
         {
          "AR(t)": 7,
          "FR(t)": 17,
          "S(t)": 81,
          "T(t)": 57,
          "Week (t)": 9
         },
         {
          "AR(t)": 9,
          "FR(t)": 18,
          "S(t)": 87,
          "T(t)": 60,
          "Week (t)": 10
         },
         {
          "AR(t)": 13,
          "FR(t)": 22,
          "S(t)": 100,
          "T(t)": 65,
          "Week (t)": 11
         },
         {
          "AR(t)": 15,
          "FR(t)": 23,
          "S(t)": 105,
          "T(t)": 67,
          "Week (t)": 12
         },
         {
          "AR(t)": 16,
          "FR(t)": 23,
          "S(t)": 107,
          "T(t)": 68,
          "Week (t)": 13
         },
         {
          "AR(t)": 18,
          "FR(t)": 23,
          "S(t)": 113,
          "T(t)": 72,
          "Week (t)": 14
         },
         {
          "AR(t)": 19,
          "FR(t)": 23,
          "S(t)": 117,
          "T(t)": 75,
          "Week (t)": 15
         },
         {
          "AR(t)": 21,
          "FR(t)": 24,
          "S(t)": 126,
          "T(t)": 81,
          "Week (t)": 16
         },
         {
          "AR(t)": 26,
          "FR(t)": 24,
          "S(t)": 140,
          "T(t)": 90,
          "Week (t)": 17
         },
         {
          "AR(t)": 30,
          "FR(t)": 28,
          "S(t)": 152,
          "T(t)": 94,
          "Week (t)": 18
         },
         {
          "AR(t)": 32,
          "FR(t)": 32,
          "S(t)": 160,
          "T(t)": 96,
          "Week (t)": 19
         },
         {
          "AR(t)": 35,
          "FR(t)": 33,
          "S(t)": 164,
          "T(t)": 96,
          "Week (t)": 20
         },
         {
          "AR(t)": 38,
          "FR(t)": 33,
          "S(t)": 167,
          "T(t)": 96,
          "Week (t)": 21
         },
         {
          "AR(t)": 39,
          "FR(t)": 34,
          "S(t)": 170,
          "T(t)": 97,
          "Week (t)": 22
         },
         {
          "AR(t)": 40,
          "FR(t)": 35,
          "S(t)": 172,
          "T(t)": 97,
          "Week (t)": 23
         },
         {
          "AR(t)": 43,
          "FR(t)": 35,
          "S(t)": 179,
          "T(t)": 101,
          "Week (t)": 24
         }
        ]
       },
       "encoding": {
        "color": {},
        "x": {
         "axis": {
          "labelExpr": "datum.value",
          "title": "Week",
          "values": [
           0,
           4,
           8,
           12,
           16,
           20,
           24,
           28,
           32,
           36,
           40,
           44,
           48,
           52
          ]
         },
         "field": "Week (t)",
         "scale": {
          "domain": [
           0,
           52
          ]
         },
         "type": "quantitative"
        },
        "y": {
         "field": "FR(t)",
         "scale": {
          "domain": [
           0,
           100
          ]
         },
         "title": "Cumulative FR Sales (# of Transactions)",
         "type": "quantitative"
        }
       },
       "height": 250,
       "mark": {
        "strokeDash": [
         1,
         0
        ],
        "strokeWidth": 2,
        "type": "line"
       },
       "title": "Actual Test-Market Cumulative First Repeat Sales",
       "width": 650
      },
      "text/plain": [
       "<VegaLite 5 object>\n",
       "\n",
       "If you see this message, it means the renderer has not been properly enabled\n",
       "for the frontend that you are using. For more information, see\n",
       "https://altair-viz.github.io/user_guide/display_frontends.html#troubleshooting\n"
      ]
     },
     "execution_count": 32,
     "metadata": {},
     "output_type": "execute_result"
    }
   ],
   "source": [
    "(\n",
    "    ChartTemp(modified_cum_trans.filter(pl.col('Week (t)')<=24))\n",
    "    .line_encode('FR(t):Q', y_scale=alt.Scale(domain=[0, 100]), y_title='Cumulative FR Sales (# of Transactions)')\n",
    "    .line_prop('Actual Test-Market Cumulative First Repeat Sales')\n",
    ")"
   ]
  },
  {
   "cell_type": "markdown",
   "metadata": {},
   "source": [
    "**Modelling First Repeat**:\n",
    "\n",
    "How can an individual have made a first repeat purchase of the new product by the end of week 4? \n",
    "- she could have made a trial purchase in week 1 and made a second purchase (i.e., her first repeat purchase) somewhere in the intervening three weeks,\n",
    "- she could have made a trial purchase in week 2 and a second purchase sometime in the following two weeks, or\n",
    "- she could have made a trial purchase in week 3 and her first repeat purchase sometime in the following week.\n",
    "\n",
    "**Modelling First Repeat Sales**:\n",
    "\n",
    "$$F R(t)=\\sum_{t_{0}=1}^{t-1} P\\left(\\text { first repeat by } t \\mid \\text { trial at } t_{0}\\right)\\times\\left[T\\left(t_{0}\\right)-T\\left(t_{0}-1\\right)\\right]$$\n",
    "\n",
    "where $T\\left(t_{0}\\right)-T\\left(t_{0}-1\\right)$ is the number of incremental tirers in week $t_{0}$."
   ]
  },
  {
   "cell_type": "code",
   "execution_count": 33,
   "metadata": {},
   "outputs": [],
   "source": [
    "kiwi_trial_fr = (\n",
    "    shifted_lf\n",
    "    .filter(pl.col('DoR') < 2)\n",
    "    .sort('ID')\n",
    "    .with_columns(\n",
    "        pl.when(pl.col('DoR') == 0).then(pl.col('shWeek')).otherwise(None).alias('Trial Week'),\n",
    "        pl.col('DoR').shift(-1).alias('Next_DoR'),\n",
    "        pl.col('shWeek').shift(-1).alias('Next_Week')\n",
    "    ).with_columns(\n",
    "        pl.when(pl.col('Next_DoR') == 1)\n",
    "        .then(pl.col('Next_Week') - pl.col('Trial Week'))\n",
    "        .otherwise(None)\n",
    "        .alias('FR Delta')\n",
    "    ).select('ID', 'Trial Week', 'FR Delta')\n",
    "    .group_by(['Trial Week', 'FR Delta'])\n",
    "    .agg(pl.len().alias('Count'))\n",
    "    .filter(~pl.all_horizontal(pl.col('*').exclude('Count').is_null()))       \n",
    ")\n",
    "\n",
    "trial_week_total = (\n",
    "    kiwi_trial_fr\n",
    "    .group_by('Trial Week')\n",
    "    .agg(pl.col('Count').sum().alias('Total Triers'))\n",
    "    .sort('Trial Week')\n",
    "    .fill_null(0)    \n",
    ")\n",
    "\n",
    "trial_week_range, fr_delta_range = np.meshgrid(np.arange(1, 25, dtype='int16'), np.arange(0, 25, dtype='int16'))\n",
    "trial_fr_range = pl.LazyFrame({'Trial Week': trial_week_range.reshape(-1), 'FR Delta': fr_delta_range.reshape(-1)})\n",
    "\n",
    "# (Shifted) Cum. First Repeat (as % of Trial) by Week of Trial\n",
    "cum_fr_by_trial = (\n",
    "    trial_fr_range\n",
    "    .join(trial_week_total, on='Trial Week', how='left')\n",
    "    .join(kiwi_trial_fr, on=['Trial Week', 'FR Delta'], how='left')\n",
    "    .fill_null(0)\n",
    "    .with_columns(pl.col('Count').cum_sum().over('Trial Week').alias('Cum FR by Week')) \n",
    "    .with_columns(\n",
    "        pl.when(pl.col('Trial Week') > (24 - pl.col('FR Delta')))\n",
    "        .then(None) \n",
    "        .otherwise(\n",
    "            pl.when(pl.col('Total Triers') > 0)\n",
    "            .then(pl.col('Cum FR by Week') / pl.col('Total Triers')) \n",
    "            .otherwise(0)\n",
    "        ).alias('Cum FR by Trial') \n",
    "    )\n",
    "    .with_columns((pl.col('Cum FR by Trial') * pl.col('Total Triers')).alias('Weights'))\n",
    ")"
   ]
  },
  {
   "cell_type": "code",
   "execution_count": 34,
   "metadata": {},
   "outputs": [
    {
     "data": {
      "application/vnd.vegalite.v5+json": {
       "$schema": "https://vega.github.io/schema/vega-lite/v5.20.1.json",
       "config": {
        "axisX": {
         "grid": false
        },
        "axisY": {
         "grid": false
        },
        "view": {
         "continuousHeight": 300,
         "continuousWidth": 300,
         "stroke": null
        }
       },
       "data": {
        "name": "data-ffe51e85ff76d25c1a97c588e1dbe614"
       },
       "datasets": {
        "data-ffe51e85ff76d25c1a97c588e1dbe614": [
         {
          "Count": 0,
          "Cum FR by Trial": 0,
          "Cum FR by Week": 0,
          "FR Delta": 0,
          "Total Triers": 8,
          "Trial Week": 1,
          "Weights": 0
         },
         {
          "Count": 0,
          "Cum FR by Trial": 0,
          "Cum FR by Week": 0,
          "FR Delta": 0,
          "Total Triers": 6,
          "Trial Week": 2,
          "Weights": 0
         },
         {
          "Count": 0,
          "Cum FR by Trial": 0,
          "Cum FR by Week": 0,
          "FR Delta": 0,
          "Total Triers": 2,
          "Trial Week": 3,
          "Weights": 0
         },
         {
          "Count": 0,
          "Cum FR by Trial": 0,
          "Cum FR by Week": 0,
          "FR Delta": 0,
          "Total Triers": 16,
          "Trial Week": 4,
          "Weights": 0
         },
         {
          "Count": 0,
          "Cum FR by Trial": 0,
          "Cum FR by Week": 0,
          "FR Delta": 0,
          "Total Triers": 8,
          "Trial Week": 5,
          "Weights": 0
         },
         {
          "Count": 0,
          "Cum FR by Trial": 0,
          "Cum FR by Week": 0,
          "FR Delta": 0,
          "Total Triers": 7,
          "Trial Week": 6,
          "Weights": 0
         },
         {
          "Count": 0,
          "Cum FR by Trial": 0,
          "Cum FR by Week": 0,
          "FR Delta": 0,
          "Total Triers": 3,
          "Trial Week": 7,
          "Weights": 0
         },
         {
          "Count": 0,
          "Cum FR by Trial": 0,
          "Cum FR by Week": 0,
          "FR Delta": 0,
          "Total Triers": 2,
          "Trial Week": 8,
          "Weights": 0
         },
         {
          "Count": 0,
          "Cum FR by Trial": 0,
          "Cum FR by Week": 0,
          "FR Delta": 0,
          "Total Triers": 5,
          "Trial Week": 9,
          "Weights": 0
         },
         {
          "Count": 0,
          "Cum FR by Trial": 0,
          "Cum FR by Week": 0,
          "FR Delta": 0,
          "Total Triers": 3,
          "Trial Week": 10,
          "Weights": 0
         },
         {
          "Count": 1,
          "Cum FR by Trial": 0.125,
          "Cum FR by Week": 1,
          "FR Delta": 1,
          "Total Triers": 8,
          "Trial Week": 1,
          "Weights": 1
         },
         {
          "Count": 0,
          "Cum FR by Trial": 0,
          "Cum FR by Week": 0,
          "FR Delta": 1,
          "Total Triers": 6,
          "Trial Week": 2,
          "Weights": 0
         },
         {
          "Count": 0,
          "Cum FR by Trial": 0,
          "Cum FR by Week": 0,
          "FR Delta": 1,
          "Total Triers": 2,
          "Trial Week": 3,
          "Weights": 0
         },
         {
          "Count": 2,
          "Cum FR by Trial": 0.125,
          "Cum FR by Week": 2,
          "FR Delta": 1,
          "Total Triers": 16,
          "Trial Week": 4,
          "Weights": 2
         },
         {
          "Count": 1,
          "Cum FR by Trial": 0.125,
          "Cum FR by Week": 1,
          "FR Delta": 1,
          "Total Triers": 8,
          "Trial Week": 5,
          "Weights": 1
         },
         {
          "Count": 0,
          "Cum FR by Trial": 0,
          "Cum FR by Week": 0,
          "FR Delta": 1,
          "Total Triers": 7,
          "Trial Week": 6,
          "Weights": 0
         },
         {
          "Count": 0,
          "Cum FR by Trial": 0,
          "Cum FR by Week": 0,
          "FR Delta": 1,
          "Total Triers": 3,
          "Trial Week": 7,
          "Weights": 0
         },
         {
          "Count": 1,
          "Cum FR by Trial": 0.5,
          "Cum FR by Week": 1,
          "FR Delta": 1,
          "Total Triers": 2,
          "Trial Week": 8,
          "Weights": 1
         },
         {
          "Count": 0,
          "Cum FR by Trial": 0,
          "Cum FR by Week": 0,
          "FR Delta": 1,
          "Total Triers": 5,
          "Trial Week": 9,
          "Weights": 0
         },
         {
          "Count": 1,
          "Cum FR by Trial": 0.3333333333333333,
          "Cum FR by Week": 1,
          "FR Delta": 1,
          "Total Triers": 3,
          "Trial Week": 10,
          "Weights": 1
         },
         {
          "Count": 1,
          "Cum FR by Trial": 0.25,
          "Cum FR by Week": 2,
          "FR Delta": 2,
          "Total Triers": 8,
          "Trial Week": 1,
          "Weights": 2
         },
         {
          "Count": 1,
          "Cum FR by Trial": 0.16666666666666666,
          "Cum FR by Week": 1,
          "FR Delta": 2,
          "Total Triers": 6,
          "Trial Week": 2,
          "Weights": 1
         },
         {
          "Count": 1,
          "Cum FR by Trial": 0.5,
          "Cum FR by Week": 1,
          "FR Delta": 2,
          "Total Triers": 2,
          "Trial Week": 3,
          "Weights": 1
         },
         {
          "Count": 1,
          "Cum FR by Trial": 0.1875,
          "Cum FR by Week": 3,
          "FR Delta": 2,
          "Total Triers": 16,
          "Trial Week": 4,
          "Weights": 3
         },
         {
          "Count": 0,
          "Cum FR by Trial": 0.125,
          "Cum FR by Week": 1,
          "FR Delta": 2,
          "Total Triers": 8,
          "Trial Week": 5,
          "Weights": 1
         },
         {
          "Count": 0,
          "Cum FR by Trial": 0,
          "Cum FR by Week": 0,
          "FR Delta": 2,
          "Total Triers": 7,
          "Trial Week": 6,
          "Weights": 0
         },
         {
          "Count": 0,
          "Cum FR by Trial": 0,
          "Cum FR by Week": 0,
          "FR Delta": 2,
          "Total Triers": 3,
          "Trial Week": 7,
          "Weights": 0
         },
         {
          "Count": 0,
          "Cum FR by Trial": 0.5,
          "Cum FR by Week": 1,
          "FR Delta": 2,
          "Total Triers": 2,
          "Trial Week": 8,
          "Weights": 1
         },
         {
          "Count": 1,
          "Cum FR by Trial": 0.2,
          "Cum FR by Week": 1,
          "FR Delta": 2,
          "Total Triers": 5,
          "Trial Week": 9,
          "Weights": 1
         },
         {
          "Count": 0,
          "Cum FR by Trial": 0.3333333333333333,
          "Cum FR by Week": 1,
          "FR Delta": 2,
          "Total Triers": 3,
          "Trial Week": 10,
          "Weights": 1
         },
         {
          "Count": 0,
          "Cum FR by Trial": 0.25,
          "Cum FR by Week": 2,
          "FR Delta": 3,
          "Total Triers": 8,
          "Trial Week": 1,
          "Weights": 2
         },
         {
          "Count": 0,
          "Cum FR by Trial": 0.16666666666666666,
          "Cum FR by Week": 1,
          "FR Delta": 3,
          "Total Triers": 6,
          "Trial Week": 2,
          "Weights": 1
         },
         {
          "Count": 0,
          "Cum FR by Trial": 0.5,
          "Cum FR by Week": 1,
          "FR Delta": 3,
          "Total Triers": 2,
          "Trial Week": 3,
          "Weights": 1
         },
         {
          "Count": 1,
          "Cum FR by Trial": 0.25,
          "Cum FR by Week": 4,
          "FR Delta": 3,
          "Total Triers": 16,
          "Trial Week": 4,
          "Weights": 4
         },
         {
          "Count": 0,
          "Cum FR by Trial": 0.125,
          "Cum FR by Week": 1,
          "FR Delta": 3,
          "Total Triers": 8,
          "Trial Week": 5,
          "Weights": 1
         },
         {
          "Count": 0,
          "Cum FR by Trial": 0,
          "Cum FR by Week": 0,
          "FR Delta": 3,
          "Total Triers": 7,
          "Trial Week": 6,
          "Weights": 0
         },
         {
          "Count": 0,
          "Cum FR by Trial": 0,
          "Cum FR by Week": 0,
          "FR Delta": 3,
          "Total Triers": 3,
          "Trial Week": 7,
          "Weights": 0
         },
         {
          "Count": 0,
          "Cum FR by Trial": 0.5,
          "Cum FR by Week": 1,
          "FR Delta": 3,
          "Total Triers": 2,
          "Trial Week": 8,
          "Weights": 1
         },
         {
          "Count": 0,
          "Cum FR by Trial": 0.2,
          "Cum FR by Week": 1,
          "FR Delta": 3,
          "Total Triers": 5,
          "Trial Week": 9,
          "Weights": 1
         },
         {
          "Count": 0,
          "Cum FR by Trial": 0.3333333333333333,
          "Cum FR by Week": 1,
          "FR Delta": 3,
          "Total Triers": 3,
          "Trial Week": 10,
          "Weights": 1
         },
         {
          "Count": 1,
          "Cum FR by Trial": 0.375,
          "Cum FR by Week": 3,
          "FR Delta": 4,
          "Total Triers": 8,
          "Trial Week": 1,
          "Weights": 3
         },
         {
          "Count": 0,
          "Cum FR by Trial": 0.16666666666666666,
          "Cum FR by Week": 1,
          "FR Delta": 4,
          "Total Triers": 6,
          "Trial Week": 2,
          "Weights": 1
         },
         {
          "Count": 0,
          "Cum FR by Trial": 0.5,
          "Cum FR by Week": 1,
          "FR Delta": 4,
          "Total Triers": 2,
          "Trial Week": 3,
          "Weights": 1
         },
         {
          "Count": 1,
          "Cum FR by Trial": 0.3125,
          "Cum FR by Week": 5,
          "FR Delta": 4,
          "Total Triers": 16,
          "Trial Week": 4,
          "Weights": 5
         },
         {
          "Count": 1,
          "Cum FR by Trial": 0.25,
          "Cum FR by Week": 2,
          "FR Delta": 4,
          "Total Triers": 8,
          "Trial Week": 5,
          "Weights": 2
         },
         {
          "Count": 0,
          "Cum FR by Trial": 0,
          "Cum FR by Week": 0,
          "FR Delta": 4,
          "Total Triers": 7,
          "Trial Week": 6,
          "Weights": 0
         },
         {
          "Count": 0,
          "Cum FR by Trial": 0,
          "Cum FR by Week": 0,
          "FR Delta": 4,
          "Total Triers": 3,
          "Trial Week": 7,
          "Weights": 0
         },
         {
          "Count": 0,
          "Cum FR by Trial": 0.5,
          "Cum FR by Week": 1,
          "FR Delta": 4,
          "Total Triers": 2,
          "Trial Week": 8,
          "Weights": 1
         },
         {
          "Count": 0,
          "Cum FR by Trial": 0.2,
          "Cum FR by Week": 1,
          "FR Delta": 4,
          "Total Triers": 5,
          "Trial Week": 9,
          "Weights": 1
         },
         {
          "Count": 0,
          "Cum FR by Trial": 0.3333333333333333,
          "Cum FR by Week": 1,
          "FR Delta": 4,
          "Total Triers": 3,
          "Trial Week": 10,
          "Weights": 1
         },
         {
          "Count": 0,
          "Cum FR by Trial": 0.375,
          "Cum FR by Week": 3,
          "FR Delta": 5,
          "Total Triers": 8,
          "Trial Week": 1,
          "Weights": 3
         },
         {
          "Count": 1,
          "Cum FR by Trial": 0.3333333333333333,
          "Cum FR by Week": 2,
          "FR Delta": 5,
          "Total Triers": 6,
          "Trial Week": 2,
          "Weights": 2
         },
         {
          "Count": 0,
          "Cum FR by Trial": 0.5,
          "Cum FR by Week": 1,
          "FR Delta": 5,
          "Total Triers": 2,
          "Trial Week": 3,
          "Weights": 1
         },
         {
          "Count": 2,
          "Cum FR by Trial": 0.4375,
          "Cum FR by Week": 7,
          "FR Delta": 5,
          "Total Triers": 16,
          "Trial Week": 4,
          "Weights": 7
         },
         {
          "Count": 0,
          "Cum FR by Trial": 0.25,
          "Cum FR by Week": 2,
          "FR Delta": 5,
          "Total Triers": 8,
          "Trial Week": 5,
          "Weights": 2
         },
         {
          "Count": 0,
          "Cum FR by Trial": 0,
          "Cum FR by Week": 0,
          "FR Delta": 5,
          "Total Triers": 7,
          "Trial Week": 6,
          "Weights": 0
         },
         {
          "Count": 0,
          "Cum FR by Trial": 0,
          "Cum FR by Week": 0,
          "FR Delta": 5,
          "Total Triers": 3,
          "Trial Week": 7,
          "Weights": 0
         },
         {
          "Count": 0,
          "Cum FR by Trial": 0.5,
          "Cum FR by Week": 1,
          "FR Delta": 5,
          "Total Triers": 2,
          "Trial Week": 8,
          "Weights": 1
         },
         {
          "Count": 0,
          "Cum FR by Trial": 0.2,
          "Cum FR by Week": 1,
          "FR Delta": 5,
          "Total Triers": 5,
          "Trial Week": 9,
          "Weights": 1
         },
         {
          "Count": 0,
          "Cum FR by Trial": 0.3333333333333333,
          "Cum FR by Week": 1,
          "FR Delta": 5,
          "Total Triers": 3,
          "Trial Week": 10,
          "Weights": 1
         },
         {
          "Count": 1,
          "Cum FR by Trial": 0.5,
          "Cum FR by Week": 4,
          "FR Delta": 6,
          "Total Triers": 8,
          "Trial Week": 1,
          "Weights": 4
         },
         {
          "Count": 0,
          "Cum FR by Trial": 0.3333333333333333,
          "Cum FR by Week": 2,
          "FR Delta": 6,
          "Total Triers": 6,
          "Trial Week": 2,
          "Weights": 2
         },
         {
          "Count": 0,
          "Cum FR by Trial": 0.5,
          "Cum FR by Week": 1,
          "FR Delta": 6,
          "Total Triers": 2,
          "Trial Week": 3,
          "Weights": 1
         },
         {
          "Count": 1,
          "Cum FR by Trial": 0.5,
          "Cum FR by Week": 8,
          "FR Delta": 6,
          "Total Triers": 16,
          "Trial Week": 4,
          "Weights": 8
         },
         {
          "Count": 0,
          "Cum FR by Trial": 0.25,
          "Cum FR by Week": 2,
          "FR Delta": 6,
          "Total Triers": 8,
          "Trial Week": 5,
          "Weights": 2
         },
         {
          "Count": 0,
          "Cum FR by Trial": 0,
          "Cum FR by Week": 0,
          "FR Delta": 6,
          "Total Triers": 7,
          "Trial Week": 6,
          "Weights": 0
         },
         {
          "Count": 0,
          "Cum FR by Trial": 0,
          "Cum FR by Week": 0,
          "FR Delta": 6,
          "Total Triers": 3,
          "Trial Week": 7,
          "Weights": 0
         },
         {
          "Count": 0,
          "Cum FR by Trial": 0.5,
          "Cum FR by Week": 1,
          "FR Delta": 6,
          "Total Triers": 2,
          "Trial Week": 8,
          "Weights": 1
         },
         {
          "Count": 0,
          "Cum FR by Trial": 0.2,
          "Cum FR by Week": 1,
          "FR Delta": 6,
          "Total Triers": 5,
          "Trial Week": 9,
          "Weights": 1
         },
         {
          "Count": 0,
          "Cum FR by Trial": 0.3333333333333333,
          "Cum FR by Week": 1,
          "FR Delta": 6,
          "Total Triers": 3,
          "Trial Week": 10,
          "Weights": 1
         },
         {
          "Count": 0,
          "Cum FR by Trial": 0.5,
          "Cum FR by Week": 4,
          "FR Delta": 7,
          "Total Triers": 8,
          "Trial Week": 1,
          "Weights": 4
         },
         {
          "Count": 0,
          "Cum FR by Trial": 0.3333333333333333,
          "Cum FR by Week": 2,
          "FR Delta": 7,
          "Total Triers": 6,
          "Trial Week": 2,
          "Weights": 2
         },
         {
          "Count": 0,
          "Cum FR by Trial": 0.5,
          "Cum FR by Week": 1,
          "FR Delta": 7,
          "Total Triers": 2,
          "Trial Week": 3,
          "Weights": 1
         },
         {
          "Count": 1,
          "Cum FR by Trial": 0.5625,
          "Cum FR by Week": 9,
          "FR Delta": 7,
          "Total Triers": 16,
          "Trial Week": 4,
          "Weights": 9
         },
         {
          "Count": 0,
          "Cum FR by Trial": 0.25,
          "Cum FR by Week": 2,
          "FR Delta": 7,
          "Total Triers": 8,
          "Trial Week": 5,
          "Weights": 2
         },
         {
          "Count": 0,
          "Cum FR by Trial": 0,
          "Cum FR by Week": 0,
          "FR Delta": 7,
          "Total Triers": 7,
          "Trial Week": 6,
          "Weights": 0
         },
         {
          "Count": 0,
          "Cum FR by Trial": 0,
          "Cum FR by Week": 0,
          "FR Delta": 7,
          "Total Triers": 3,
          "Trial Week": 7,
          "Weights": 0
         },
         {
          "Count": 0,
          "Cum FR by Trial": 0.5,
          "Cum FR by Week": 1,
          "FR Delta": 7,
          "Total Triers": 2,
          "Trial Week": 8,
          "Weights": 1
         },
         {
          "Count": 0,
          "Cum FR by Trial": 0.2,
          "Cum FR by Week": 1,
          "FR Delta": 7,
          "Total Triers": 5,
          "Trial Week": 9,
          "Weights": 1
         },
         {
          "Count": 0,
          "Cum FR by Trial": 0.3333333333333333,
          "Cum FR by Week": 1,
          "FR Delta": 7,
          "Total Triers": 3,
          "Trial Week": 10,
          "Weights": 1
         },
         {
          "Count": 0,
          "Cum FR by Trial": 0.5,
          "Cum FR by Week": 4,
          "FR Delta": 8,
          "Total Triers": 8,
          "Trial Week": 1,
          "Weights": 4
         },
         {
          "Count": 0,
          "Cum FR by Trial": 0.3333333333333333,
          "Cum FR by Week": 2,
          "FR Delta": 8,
          "Total Triers": 6,
          "Trial Week": 2,
          "Weights": 2
         },
         {
          "Count": 0,
          "Cum FR by Trial": 0.5,
          "Cum FR by Week": 1,
          "FR Delta": 8,
          "Total Triers": 2,
          "Trial Week": 3,
          "Weights": 1
         },
         {
          "Count": 0,
          "Cum FR by Trial": 0.5625,
          "Cum FR by Week": 9,
          "FR Delta": 8,
          "Total Triers": 16,
          "Trial Week": 4,
          "Weights": 9
         },
         {
          "Count": 0,
          "Cum FR by Trial": 0.25,
          "Cum FR by Week": 2,
          "FR Delta": 8,
          "Total Triers": 8,
          "Trial Week": 5,
          "Weights": 2
         },
         {
          "Count": 0,
          "Cum FR by Trial": 0,
          "Cum FR by Week": 0,
          "FR Delta": 8,
          "Total Triers": 7,
          "Trial Week": 6,
          "Weights": 0
         },
         {
          "Count": 0,
          "Cum FR by Trial": 0,
          "Cum FR by Week": 0,
          "FR Delta": 8,
          "Total Triers": 3,
          "Trial Week": 7,
          "Weights": 0
         },
         {
          "Count": 0,
          "Cum FR by Trial": 0.5,
          "Cum FR by Week": 1,
          "FR Delta": 8,
          "Total Triers": 2,
          "Trial Week": 8,
          "Weights": 1
         },
         {
          "Count": 0,
          "Cum FR by Trial": 0.2,
          "Cum FR by Week": 1,
          "FR Delta": 8,
          "Total Triers": 5,
          "Trial Week": 9,
          "Weights": 1
         },
         {
          "Count": 0,
          "Cum FR by Trial": 0.3333333333333333,
          "Cum FR by Week": 1,
          "FR Delta": 8,
          "Total Triers": 3,
          "Trial Week": 10,
          "Weights": 1
         },
         {
          "Count": 0,
          "Cum FR by Trial": 0.5,
          "Cum FR by Week": 4,
          "FR Delta": 9,
          "Total Triers": 8,
          "Trial Week": 1,
          "Weights": 4
         },
         {
          "Count": 1,
          "Cum FR by Trial": 0.5,
          "Cum FR by Week": 3,
          "FR Delta": 9,
          "Total Triers": 6,
          "Trial Week": 2,
          "Weights": 3
         },
         {
          "Count": 0,
          "Cum FR by Trial": 0.5,
          "Cum FR by Week": 1,
          "FR Delta": 9,
          "Total Triers": 2,
          "Trial Week": 3,
          "Weights": 1
         },
         {
          "Count": 0,
          "Cum FR by Trial": 0.5625,
          "Cum FR by Week": 9,
          "FR Delta": 9,
          "Total Triers": 16,
          "Trial Week": 4,
          "Weights": 9
         },
         {
          "Count": 0,
          "Cum FR by Trial": 0.25,
          "Cum FR by Week": 2,
          "FR Delta": 9,
          "Total Triers": 8,
          "Trial Week": 5,
          "Weights": 2
         },
         {
          "Count": 0,
          "Cum FR by Trial": 0,
          "Cum FR by Week": 0,
          "FR Delta": 9,
          "Total Triers": 7,
          "Trial Week": 6,
          "Weights": 0
         },
         {
          "Count": 0,
          "Cum FR by Trial": 0,
          "Cum FR by Week": 0,
          "FR Delta": 9,
          "Total Triers": 3,
          "Trial Week": 7,
          "Weights": 0
         },
         {
          "Count": 0,
          "Cum FR by Trial": 0.5,
          "Cum FR by Week": 1,
          "FR Delta": 9,
          "Total Triers": 2,
          "Trial Week": 8,
          "Weights": 1
         },
         {
          "Count": 0,
          "Cum FR by Trial": 0.2,
          "Cum FR by Week": 1,
          "FR Delta": 9,
          "Total Triers": 5,
          "Trial Week": 9,
          "Weights": 1
         },
         {
          "Count": 0,
          "Cum FR by Trial": 0.3333333333333333,
          "Cum FR by Week": 1,
          "FR Delta": 9,
          "Total Triers": 3,
          "Trial Week": 10,
          "Weights": 1
         },
         {
          "Count": 0,
          "Cum FR by Trial": 0.5,
          "Cum FR by Week": 4,
          "FR Delta": 10,
          "Total Triers": 8,
          "Trial Week": 1,
          "Weights": 4
         },
         {
          "Count": 1,
          "Cum FR by Trial": 0.6666666666666666,
          "Cum FR by Week": 4,
          "FR Delta": 10,
          "Total Triers": 6,
          "Trial Week": 2,
          "Weights": 4
         },
         {
          "Count": 0,
          "Cum FR by Trial": 0.5,
          "Cum FR by Week": 1,
          "FR Delta": 10,
          "Total Triers": 2,
          "Trial Week": 3,
          "Weights": 1
         },
         {
          "Count": 0,
          "Cum FR by Trial": 0.5625,
          "Cum FR by Week": 9,
          "FR Delta": 10,
          "Total Triers": 16,
          "Trial Week": 4,
          "Weights": 9
         },
         {
          "Count": 0,
          "Cum FR by Trial": 0.25,
          "Cum FR by Week": 2,
          "FR Delta": 10,
          "Total Triers": 8,
          "Trial Week": 5,
          "Weights": 2
         },
         {
          "Count": 0,
          "Cum FR by Trial": 0,
          "Cum FR by Week": 0,
          "FR Delta": 10,
          "Total Triers": 7,
          "Trial Week": 6,
          "Weights": 0
         },
         {
          "Count": 0,
          "Cum FR by Trial": 0,
          "Cum FR by Week": 0,
          "FR Delta": 10,
          "Total Triers": 3,
          "Trial Week": 7,
          "Weights": 0
         },
         {
          "Count": 0,
          "Cum FR by Trial": 0.5,
          "Cum FR by Week": 1,
          "FR Delta": 10,
          "Total Triers": 2,
          "Trial Week": 8,
          "Weights": 1
         },
         {
          "Count": 0,
          "Cum FR by Trial": 0.2,
          "Cum FR by Week": 1,
          "FR Delta": 10,
          "Total Triers": 5,
          "Trial Week": 9,
          "Weights": 1
         },
         {
          "Count": 0,
          "Cum FR by Trial": 0.3333333333333333,
          "Cum FR by Week": 1,
          "FR Delta": 10,
          "Total Triers": 3,
          "Trial Week": 10,
          "Weights": 1
         },
         {
          "Count": 0,
          "Cum FR by Trial": 0.5,
          "Cum FR by Week": 4,
          "FR Delta": 11,
          "Total Triers": 8,
          "Trial Week": 1,
          "Weights": 4
         },
         {
          "Count": 0,
          "Cum FR by Trial": 0.6666666666666666,
          "Cum FR by Week": 4,
          "FR Delta": 11,
          "Total Triers": 6,
          "Trial Week": 2,
          "Weights": 4
         },
         {
          "Count": 0,
          "Cum FR by Trial": 0.5,
          "Cum FR by Week": 1,
          "FR Delta": 11,
          "Total Triers": 2,
          "Trial Week": 3,
          "Weights": 1
         },
         {
          "Count": 0,
          "Cum FR by Trial": 0.5625,
          "Cum FR by Week": 9,
          "FR Delta": 11,
          "Total Triers": 16,
          "Trial Week": 4,
          "Weights": 9
         },
         {
          "Count": 0,
          "Cum FR by Trial": 0.25,
          "Cum FR by Week": 2,
          "FR Delta": 11,
          "Total Triers": 8,
          "Trial Week": 5,
          "Weights": 2
         },
         {
          "Count": 0,
          "Cum FR by Trial": 0,
          "Cum FR by Week": 0,
          "FR Delta": 11,
          "Total Triers": 7,
          "Trial Week": 6,
          "Weights": 0
         },
         {
          "Count": 0,
          "Cum FR by Trial": 0,
          "Cum FR by Week": 0,
          "FR Delta": 11,
          "Total Triers": 3,
          "Trial Week": 7,
          "Weights": 0
         },
         {
          "Count": 0,
          "Cum FR by Trial": 0.5,
          "Cum FR by Week": 1,
          "FR Delta": 11,
          "Total Triers": 2,
          "Trial Week": 8,
          "Weights": 1
         },
         {
          "Count": 0,
          "Cum FR by Trial": 0.2,
          "Cum FR by Week": 1,
          "FR Delta": 11,
          "Total Triers": 5,
          "Trial Week": 9,
          "Weights": 1
         },
         {
          "Count": 0,
          "Cum FR by Trial": 0.3333333333333333,
          "Cum FR by Week": 1,
          "FR Delta": 11,
          "Total Triers": 3,
          "Trial Week": 10,
          "Weights": 1
         },
         {
          "Count": 0,
          "Cum FR by Trial": 0.5,
          "Cum FR by Week": 4,
          "FR Delta": 12,
          "Total Triers": 8,
          "Trial Week": 1,
          "Weights": 4
         },
         {
          "Count": 0,
          "Cum FR by Trial": 0.6666666666666666,
          "Cum FR by Week": 4,
          "FR Delta": 12,
          "Total Triers": 6,
          "Trial Week": 2,
          "Weights": 4
         },
         {
          "Count": 0,
          "Cum FR by Trial": 0.5,
          "Cum FR by Week": 1,
          "FR Delta": 12,
          "Total Triers": 2,
          "Trial Week": 3,
          "Weights": 1
         },
         {
          "Count": 0,
          "Cum FR by Trial": 0.5625,
          "Cum FR by Week": 9,
          "FR Delta": 12,
          "Total Triers": 16,
          "Trial Week": 4,
          "Weights": 9
         },
         {
          "Count": 0,
          "Cum FR by Trial": 0.25,
          "Cum FR by Week": 2,
          "FR Delta": 12,
          "Total Triers": 8,
          "Trial Week": 5,
          "Weights": 2
         },
         {
          "Count": 0,
          "Cum FR by Trial": 0,
          "Cum FR by Week": 0,
          "FR Delta": 12,
          "Total Triers": 7,
          "Trial Week": 6,
          "Weights": 0
         },
         {
          "Count": 0,
          "Cum FR by Trial": 0,
          "Cum FR by Week": 0,
          "FR Delta": 12,
          "Total Triers": 3,
          "Trial Week": 7,
          "Weights": 0
         },
         {
          "Count": 0,
          "Cum FR by Trial": 0.5,
          "Cum FR by Week": 1,
          "FR Delta": 12,
          "Total Triers": 2,
          "Trial Week": 8,
          "Weights": 1
         },
         {
          "Count": 0,
          "Cum FR by Trial": 0.2,
          "Cum FR by Week": 1,
          "FR Delta": 12,
          "Total Triers": 5,
          "Trial Week": 9,
          "Weights": 1
         },
         {
          "Count": 0,
          "Cum FR by Trial": 0.3333333333333333,
          "Cum FR by Week": 1,
          "FR Delta": 12,
          "Total Triers": 3,
          "Trial Week": 10,
          "Weights": 1
         },
         {
          "Count": 0,
          "Cum FR by Trial": 0.5,
          "Cum FR by Week": 4,
          "FR Delta": 13,
          "Total Triers": 8,
          "Trial Week": 1,
          "Weights": 4
         },
         {
          "Count": 0,
          "Cum FR by Trial": 0.6666666666666666,
          "Cum FR by Week": 4,
          "FR Delta": 13,
          "Total Triers": 6,
          "Trial Week": 2,
          "Weights": 4
         },
         {
          "Count": 0,
          "Cum FR by Trial": 0.5,
          "Cum FR by Week": 1,
          "FR Delta": 13,
          "Total Triers": 2,
          "Trial Week": 3,
          "Weights": 1
         },
         {
          "Count": 0,
          "Cum FR by Trial": 0.5625,
          "Cum FR by Week": 9,
          "FR Delta": 13,
          "Total Triers": 16,
          "Trial Week": 4,
          "Weights": 9
         },
         {
          "Count": 0,
          "Cum FR by Trial": 0.25,
          "Cum FR by Week": 2,
          "FR Delta": 13,
          "Total Triers": 8,
          "Trial Week": 5,
          "Weights": 2
         },
         {
          "Count": 0,
          "Cum FR by Trial": 0,
          "Cum FR by Week": 0,
          "FR Delta": 13,
          "Total Triers": 7,
          "Trial Week": 6,
          "Weights": 0
         },
         {
          "Count": 0,
          "Cum FR by Trial": 0,
          "Cum FR by Week": 0,
          "FR Delta": 13,
          "Total Triers": 3,
          "Trial Week": 7,
          "Weights": 0
         },
         {
          "Count": 0,
          "Cum FR by Trial": 0.5,
          "Cum FR by Week": 1,
          "FR Delta": 13,
          "Total Triers": 2,
          "Trial Week": 8,
          "Weights": 1
         },
         {
          "Count": 0,
          "Cum FR by Trial": 0.2,
          "Cum FR by Week": 1,
          "FR Delta": 13,
          "Total Triers": 5,
          "Trial Week": 9,
          "Weights": 1
         },
         {
          "Count": 0,
          "Cum FR by Trial": 0.3333333333333333,
          "Cum FR by Week": 1,
          "FR Delta": 13,
          "Total Triers": 3,
          "Trial Week": 10,
          "Weights": 1
         },
         {
          "Count": 0,
          "Cum FR by Trial": 0.5,
          "Cum FR by Week": 4,
          "FR Delta": 14,
          "Total Triers": 8,
          "Trial Week": 1,
          "Weights": 4
         },
         {
          "Count": 0,
          "Cum FR by Trial": 0.6666666666666666,
          "Cum FR by Week": 4,
          "FR Delta": 14,
          "Total Triers": 6,
          "Trial Week": 2,
          "Weights": 4
         },
         {
          "Count": 0,
          "Cum FR by Trial": 0.5,
          "Cum FR by Week": 1,
          "FR Delta": 14,
          "Total Triers": 2,
          "Trial Week": 3,
          "Weights": 1
         },
         {
          "Count": 1,
          "Cum FR by Trial": 0.625,
          "Cum FR by Week": 10,
          "FR Delta": 14,
          "Total Triers": 16,
          "Trial Week": 4,
          "Weights": 10
         },
         {
          "Count": 0,
          "Cum FR by Trial": 0.25,
          "Cum FR by Week": 2,
          "FR Delta": 14,
          "Total Triers": 8,
          "Trial Week": 5,
          "Weights": 2
         },
         {
          "Count": 1,
          "Cum FR by Trial": 0.14285714285714285,
          "Cum FR by Week": 1,
          "FR Delta": 14,
          "Total Triers": 7,
          "Trial Week": 6,
          "Weights": 1
         },
         {
          "Count": 0,
          "Cum FR by Trial": 0,
          "Cum FR by Week": 0,
          "FR Delta": 14,
          "Total Triers": 3,
          "Trial Week": 7,
          "Weights": 0
         },
         {
          "Count": 0,
          "Cum FR by Trial": 0.5,
          "Cum FR by Week": 1,
          "FR Delta": 14,
          "Total Triers": 2,
          "Trial Week": 8,
          "Weights": 1
         },
         {
          "Count": 0,
          "Cum FR by Trial": 0.2,
          "Cum FR by Week": 1,
          "FR Delta": 14,
          "Total Triers": 5,
          "Trial Week": 9,
          "Weights": 1
         },
         {
          "Count": 0,
          "Cum FR by Trial": 0.3333333333333333,
          "Cum FR by Week": 1,
          "FR Delta": 14,
          "Total Triers": 3,
          "Trial Week": 10,
          "Weights": 1
         },
         {
          "Count": 0,
          "Cum FR by Trial": 0.5,
          "Cum FR by Week": 4,
          "FR Delta": 15,
          "Total Triers": 8,
          "Trial Week": 1,
          "Weights": 4
         },
         {
          "Count": 0,
          "Cum FR by Trial": 0.6666666666666666,
          "Cum FR by Week": 4,
          "FR Delta": 15,
          "Total Triers": 6,
          "Trial Week": 2,
          "Weights": 4
         },
         {
          "Count": 0,
          "Cum FR by Trial": 0.5,
          "Cum FR by Week": 1,
          "FR Delta": 15,
          "Total Triers": 2,
          "Trial Week": 3,
          "Weights": 1
         },
         {
          "Count": 1,
          "Cum FR by Trial": 0.6875,
          "Cum FR by Week": 11,
          "FR Delta": 15,
          "Total Triers": 16,
          "Trial Week": 4,
          "Weights": 11
         },
         {
          "Count": 0,
          "Cum FR by Trial": 0.25,
          "Cum FR by Week": 2,
          "FR Delta": 15,
          "Total Triers": 8,
          "Trial Week": 5,
          "Weights": 2
         },
         {
          "Count": 0,
          "Cum FR by Trial": 0.14285714285714285,
          "Cum FR by Week": 1,
          "FR Delta": 15,
          "Total Triers": 7,
          "Trial Week": 6,
          "Weights": 1
         },
         {
          "Count": 0,
          "Cum FR by Trial": 0,
          "Cum FR by Week": 0,
          "FR Delta": 15,
          "Total Triers": 3,
          "Trial Week": 7,
          "Weights": 0
         },
         {
          "Count": 0,
          "Cum FR by Trial": 0.5,
          "Cum FR by Week": 1,
          "FR Delta": 15,
          "Total Triers": 2,
          "Trial Week": 8,
          "Weights": 1
         },
         {
          "Count": 0,
          "Cum FR by Trial": 0.2,
          "Cum FR by Week": 1,
          "FR Delta": 15,
          "Total Triers": 5,
          "Trial Week": 9,
          "Weights": 1
         },
         {
          "Count": 0,
          "Cum FR by Trial": null,
          "Cum FR by Week": 1,
          "FR Delta": 15,
          "Total Triers": 3,
          "Trial Week": 10,
          "Weights": null
         },
         {
          "Count": 0,
          "Cum FR by Trial": 0.5,
          "Cum FR by Week": 4,
          "FR Delta": 16,
          "Total Triers": 8,
          "Trial Week": 1,
          "Weights": 4
         },
         {
          "Count": 0,
          "Cum FR by Trial": 0.6666666666666666,
          "Cum FR by Week": 4,
          "FR Delta": 16,
          "Total Triers": 6,
          "Trial Week": 2,
          "Weights": 4
         },
         {
          "Count": 0,
          "Cum FR by Trial": 0.5,
          "Cum FR by Week": 1,
          "FR Delta": 16,
          "Total Triers": 2,
          "Trial Week": 3,
          "Weights": 1
         },
         {
          "Count": 0,
          "Cum FR by Trial": 0.6875,
          "Cum FR by Week": 11,
          "FR Delta": 16,
          "Total Triers": 16,
          "Trial Week": 4,
          "Weights": 11
         },
         {
          "Count": 0,
          "Cum FR by Trial": 0.25,
          "Cum FR by Week": 2,
          "FR Delta": 16,
          "Total Triers": 8,
          "Trial Week": 5,
          "Weights": 2
         },
         {
          "Count": 0,
          "Cum FR by Trial": 0.14285714285714285,
          "Cum FR by Week": 1,
          "FR Delta": 16,
          "Total Triers": 7,
          "Trial Week": 6,
          "Weights": 1
         },
         {
          "Count": 0,
          "Cum FR by Trial": 0,
          "Cum FR by Week": 0,
          "FR Delta": 16,
          "Total Triers": 3,
          "Trial Week": 7,
          "Weights": 0
         },
         {
          "Count": 0,
          "Cum FR by Trial": 0.5,
          "Cum FR by Week": 1,
          "FR Delta": 16,
          "Total Triers": 2,
          "Trial Week": 8,
          "Weights": 1
         },
         {
          "Count": 0,
          "Cum FR by Trial": null,
          "Cum FR by Week": 1,
          "FR Delta": 16,
          "Total Triers": 5,
          "Trial Week": 9,
          "Weights": null
         },
         {
          "Count": 0,
          "Cum FR by Trial": null,
          "Cum FR by Week": 1,
          "FR Delta": 16,
          "Total Triers": 3,
          "Trial Week": 10,
          "Weights": null
         },
         {
          "Count": 1,
          "Cum FR by Trial": 0.625,
          "Cum FR by Week": 5,
          "FR Delta": 17,
          "Total Triers": 8,
          "Trial Week": 1,
          "Weights": 5
         },
         {
          "Count": 0,
          "Cum FR by Trial": 0.6666666666666666,
          "Cum FR by Week": 4,
          "FR Delta": 17,
          "Total Triers": 6,
          "Trial Week": 2,
          "Weights": 4
         },
         {
          "Count": 0,
          "Cum FR by Trial": 0.5,
          "Cum FR by Week": 1,
          "FR Delta": 17,
          "Total Triers": 2,
          "Trial Week": 3,
          "Weights": 1
         },
         {
          "Count": 0,
          "Cum FR by Trial": 0.6875,
          "Cum FR by Week": 11,
          "FR Delta": 17,
          "Total Triers": 16,
          "Trial Week": 4,
          "Weights": 11
         },
         {
          "Count": 0,
          "Cum FR by Trial": 0.25,
          "Cum FR by Week": 2,
          "FR Delta": 17,
          "Total Triers": 8,
          "Trial Week": 5,
          "Weights": 2
         },
         {
          "Count": 0,
          "Cum FR by Trial": 0.14285714285714285,
          "Cum FR by Week": 1,
          "FR Delta": 17,
          "Total Triers": 7,
          "Trial Week": 6,
          "Weights": 1
         },
         {
          "Count": 0,
          "Cum FR by Trial": 0,
          "Cum FR by Week": 0,
          "FR Delta": 17,
          "Total Triers": 3,
          "Trial Week": 7,
          "Weights": 0
         },
         {
          "Count": 0,
          "Cum FR by Trial": null,
          "Cum FR by Week": 1,
          "FR Delta": 17,
          "Total Triers": 2,
          "Trial Week": 8,
          "Weights": null
         },
         {
          "Count": 0,
          "Cum FR by Trial": null,
          "Cum FR by Week": 1,
          "FR Delta": 17,
          "Total Triers": 5,
          "Trial Week": 9,
          "Weights": null
         },
         {
          "Count": 0,
          "Cum FR by Trial": null,
          "Cum FR by Week": 1,
          "FR Delta": 17,
          "Total Triers": 3,
          "Trial Week": 10,
          "Weights": null
         },
         {
          "Count": 0,
          "Cum FR by Trial": 0.625,
          "Cum FR by Week": 5,
          "FR Delta": 18,
          "Total Triers": 8,
          "Trial Week": 1,
          "Weights": 5
         },
         {
          "Count": 0,
          "Cum FR by Trial": 0.6666666666666666,
          "Cum FR by Week": 4,
          "FR Delta": 18,
          "Total Triers": 6,
          "Trial Week": 2,
          "Weights": 4
         },
         {
          "Count": 0,
          "Cum FR by Trial": 0.5,
          "Cum FR by Week": 1,
          "FR Delta": 18,
          "Total Triers": 2,
          "Trial Week": 3,
          "Weights": 1
         },
         {
          "Count": 0,
          "Cum FR by Trial": 0.6875,
          "Cum FR by Week": 11,
          "FR Delta": 18,
          "Total Triers": 16,
          "Trial Week": 4,
          "Weights": 11
         },
         {
          "Count": 1,
          "Cum FR by Trial": 0.375,
          "Cum FR by Week": 3,
          "FR Delta": 18,
          "Total Triers": 8,
          "Trial Week": 5,
          "Weights": 3
         },
         {
          "Count": 0,
          "Cum FR by Trial": 0.14285714285714285,
          "Cum FR by Week": 1,
          "FR Delta": 18,
          "Total Triers": 7,
          "Trial Week": 6,
          "Weights": 1
         },
         {
          "Count": 0,
          "Cum FR by Trial": null,
          "Cum FR by Week": 0,
          "FR Delta": 18,
          "Total Triers": 3,
          "Trial Week": 7,
          "Weights": null
         },
         {
          "Count": 0,
          "Cum FR by Trial": null,
          "Cum FR by Week": 1,
          "FR Delta": 18,
          "Total Triers": 2,
          "Trial Week": 8,
          "Weights": null
         },
         {
          "Count": 0,
          "Cum FR by Trial": null,
          "Cum FR by Week": 1,
          "FR Delta": 18,
          "Total Triers": 5,
          "Trial Week": 9,
          "Weights": null
         },
         {
          "Count": 0,
          "Cum FR by Trial": null,
          "Cum FR by Week": 1,
          "FR Delta": 18,
          "Total Triers": 3,
          "Trial Week": 10,
          "Weights": null
         },
         {
          "Count": 0,
          "Cum FR by Trial": 0.625,
          "Cum FR by Week": 5,
          "FR Delta": 19,
          "Total Triers": 8,
          "Trial Week": 1,
          "Weights": 5
         },
         {
          "Count": 0,
          "Cum FR by Trial": 0.6666666666666666,
          "Cum FR by Week": 4,
          "FR Delta": 19,
          "Total Triers": 6,
          "Trial Week": 2,
          "Weights": 4
         },
         {
          "Count": 0,
          "Cum FR by Trial": 0.5,
          "Cum FR by Week": 1,
          "FR Delta": 19,
          "Total Triers": 2,
          "Trial Week": 3,
          "Weights": 1
         },
         {
          "Count": 0,
          "Cum FR by Trial": 0.6875,
          "Cum FR by Week": 11,
          "FR Delta": 19,
          "Total Triers": 16,
          "Trial Week": 4,
          "Weights": 11
         },
         {
          "Count": 0,
          "Cum FR by Trial": 0.375,
          "Cum FR by Week": 3,
          "FR Delta": 19,
          "Total Triers": 8,
          "Trial Week": 5,
          "Weights": 3
         },
         {
          "Count": 0,
          "Cum FR by Trial": null,
          "Cum FR by Week": 1,
          "FR Delta": 19,
          "Total Triers": 7,
          "Trial Week": 6,
          "Weights": null
         },
         {
          "Count": 0,
          "Cum FR by Trial": null,
          "Cum FR by Week": 0,
          "FR Delta": 19,
          "Total Triers": 3,
          "Trial Week": 7,
          "Weights": null
         },
         {
          "Count": 0,
          "Cum FR by Trial": null,
          "Cum FR by Week": 1,
          "FR Delta": 19,
          "Total Triers": 2,
          "Trial Week": 8,
          "Weights": null
         },
         {
          "Count": 0,
          "Cum FR by Trial": null,
          "Cum FR by Week": 1,
          "FR Delta": 19,
          "Total Triers": 5,
          "Trial Week": 9,
          "Weights": null
         },
         {
          "Count": 0,
          "Cum FR by Trial": null,
          "Cum FR by Week": 1,
          "FR Delta": 19,
          "Total Triers": 3,
          "Trial Week": 10,
          "Weights": null
         },
         {
          "Count": 0,
          "Cum FR by Trial": 0.625,
          "Cum FR by Week": 5,
          "FR Delta": 20,
          "Total Triers": 8,
          "Trial Week": 1,
          "Weights": 5
         },
         {
          "Count": 0,
          "Cum FR by Trial": 0.6666666666666666,
          "Cum FR by Week": 4,
          "FR Delta": 20,
          "Total Triers": 6,
          "Trial Week": 2,
          "Weights": 4
         },
         {
          "Count": 0,
          "Cum FR by Trial": 0.5,
          "Cum FR by Week": 1,
          "FR Delta": 20,
          "Total Triers": 2,
          "Trial Week": 3,
          "Weights": 1
         },
         {
          "Count": 0,
          "Cum FR by Trial": 0.6875,
          "Cum FR by Week": 11,
          "FR Delta": 20,
          "Total Triers": 16,
          "Trial Week": 4,
          "Weights": 11
         },
         {
          "Count": 0,
          "Cum FR by Trial": null,
          "Cum FR by Week": 3,
          "FR Delta": 20,
          "Total Triers": 8,
          "Trial Week": 5,
          "Weights": null
         },
         {
          "Count": 0,
          "Cum FR by Trial": null,
          "Cum FR by Week": 1,
          "FR Delta": 20,
          "Total Triers": 7,
          "Trial Week": 6,
          "Weights": null
         },
         {
          "Count": 0,
          "Cum FR by Trial": null,
          "Cum FR by Week": 0,
          "FR Delta": 20,
          "Total Triers": 3,
          "Trial Week": 7,
          "Weights": null
         },
         {
          "Count": 0,
          "Cum FR by Trial": null,
          "Cum FR by Week": 1,
          "FR Delta": 20,
          "Total Triers": 2,
          "Trial Week": 8,
          "Weights": null
         },
         {
          "Count": 0,
          "Cum FR by Trial": null,
          "Cum FR by Week": 1,
          "FR Delta": 20,
          "Total Triers": 5,
          "Trial Week": 9,
          "Weights": null
         },
         {
          "Count": 0,
          "Cum FR by Trial": null,
          "Cum FR by Week": 1,
          "FR Delta": 20,
          "Total Triers": 3,
          "Trial Week": 10,
          "Weights": null
         },
         {
          "Count": 0,
          "Cum FR by Trial": 0.625,
          "Cum FR by Week": 5,
          "FR Delta": 21,
          "Total Triers": 8,
          "Trial Week": 1,
          "Weights": 5
         },
         {
          "Count": 0,
          "Cum FR by Trial": 0.6666666666666666,
          "Cum FR by Week": 4,
          "FR Delta": 21,
          "Total Triers": 6,
          "Trial Week": 2,
          "Weights": 4
         },
         {
          "Count": 0,
          "Cum FR by Trial": 0.5,
          "Cum FR by Week": 1,
          "FR Delta": 21,
          "Total Triers": 2,
          "Trial Week": 3,
          "Weights": 1
         },
         {
          "Count": 0,
          "Cum FR by Trial": null,
          "Cum FR by Week": 11,
          "FR Delta": 21,
          "Total Triers": 16,
          "Trial Week": 4,
          "Weights": null
         },
         {
          "Count": 0,
          "Cum FR by Trial": null,
          "Cum FR by Week": 3,
          "FR Delta": 21,
          "Total Triers": 8,
          "Trial Week": 5,
          "Weights": null
         },
         {
          "Count": 1,
          "Cum FR by Trial": null,
          "Cum FR by Week": 2,
          "FR Delta": 21,
          "Total Triers": 7,
          "Trial Week": 6,
          "Weights": null
         },
         {
          "Count": 0,
          "Cum FR by Trial": null,
          "Cum FR by Week": 0,
          "FR Delta": 21,
          "Total Triers": 3,
          "Trial Week": 7,
          "Weights": null
         },
         {
          "Count": 0,
          "Cum FR by Trial": null,
          "Cum FR by Week": 1,
          "FR Delta": 21,
          "Total Triers": 2,
          "Trial Week": 8,
          "Weights": null
         },
         {
          "Count": 0,
          "Cum FR by Trial": null,
          "Cum FR by Week": 1,
          "FR Delta": 21,
          "Total Triers": 5,
          "Trial Week": 9,
          "Weights": null
         },
         {
          "Count": 0,
          "Cum FR by Trial": null,
          "Cum FR by Week": 1,
          "FR Delta": 21,
          "Total Triers": 3,
          "Trial Week": 10,
          "Weights": null
         },
         {
          "Count": 0,
          "Cum FR by Trial": 0.625,
          "Cum FR by Week": 5,
          "FR Delta": 22,
          "Total Triers": 8,
          "Trial Week": 1,
          "Weights": 5
         },
         {
          "Count": 0,
          "Cum FR by Trial": 0.6666666666666666,
          "Cum FR by Week": 4,
          "FR Delta": 22,
          "Total Triers": 6,
          "Trial Week": 2,
          "Weights": 4
         },
         {
          "Count": 0,
          "Cum FR by Trial": null,
          "Cum FR by Week": 1,
          "FR Delta": 22,
          "Total Triers": 2,
          "Trial Week": 3,
          "Weights": null
         },
         {
          "Count": 0,
          "Cum FR by Trial": null,
          "Cum FR by Week": 11,
          "FR Delta": 22,
          "Total Triers": 16,
          "Trial Week": 4,
          "Weights": null
         },
         {
          "Count": 0,
          "Cum FR by Trial": null,
          "Cum FR by Week": 3,
          "FR Delta": 22,
          "Total Triers": 8,
          "Trial Week": 5,
          "Weights": null
         },
         {
          "Count": 0,
          "Cum FR by Trial": null,
          "Cum FR by Week": 2,
          "FR Delta": 22,
          "Total Triers": 7,
          "Trial Week": 6,
          "Weights": null
         },
         {
          "Count": 0,
          "Cum FR by Trial": null,
          "Cum FR by Week": 0,
          "FR Delta": 22,
          "Total Triers": 3,
          "Trial Week": 7,
          "Weights": null
         },
         {
          "Count": 0,
          "Cum FR by Trial": null,
          "Cum FR by Week": 1,
          "FR Delta": 22,
          "Total Triers": 2,
          "Trial Week": 8,
          "Weights": null
         },
         {
          "Count": 0,
          "Cum FR by Trial": null,
          "Cum FR by Week": 1,
          "FR Delta": 22,
          "Total Triers": 5,
          "Trial Week": 9,
          "Weights": null
         },
         {
          "Count": 0,
          "Cum FR by Trial": null,
          "Cum FR by Week": 1,
          "FR Delta": 22,
          "Total Triers": 3,
          "Trial Week": 10,
          "Weights": null
         },
         {
          "Count": 0,
          "Cum FR by Trial": 0.625,
          "Cum FR by Week": 5,
          "FR Delta": 23,
          "Total Triers": 8,
          "Trial Week": 1,
          "Weights": 5
         },
         {
          "Count": 0,
          "Cum FR by Trial": null,
          "Cum FR by Week": 4,
          "FR Delta": 23,
          "Total Triers": 6,
          "Trial Week": 2,
          "Weights": null
         },
         {
          "Count": 0,
          "Cum FR by Trial": null,
          "Cum FR by Week": 1,
          "FR Delta": 23,
          "Total Triers": 2,
          "Trial Week": 3,
          "Weights": null
         },
         {
          "Count": 0,
          "Cum FR by Trial": null,
          "Cum FR by Week": 11,
          "FR Delta": 23,
          "Total Triers": 16,
          "Trial Week": 4,
          "Weights": null
         },
         {
          "Count": 0,
          "Cum FR by Trial": null,
          "Cum FR by Week": 3,
          "FR Delta": 23,
          "Total Triers": 8,
          "Trial Week": 5,
          "Weights": null
         },
         {
          "Count": 0,
          "Cum FR by Trial": null,
          "Cum FR by Week": 2,
          "FR Delta": 23,
          "Total Triers": 7,
          "Trial Week": 6,
          "Weights": null
         },
         {
          "Count": 0,
          "Cum FR by Trial": null,
          "Cum FR by Week": 0,
          "FR Delta": 23,
          "Total Triers": 3,
          "Trial Week": 7,
          "Weights": null
         },
         {
          "Count": 0,
          "Cum FR by Trial": null,
          "Cum FR by Week": 1,
          "FR Delta": 23,
          "Total Triers": 2,
          "Trial Week": 8,
          "Weights": null
         },
         {
          "Count": 0,
          "Cum FR by Trial": null,
          "Cum FR by Week": 1,
          "FR Delta": 23,
          "Total Triers": 5,
          "Trial Week": 9,
          "Weights": null
         },
         {
          "Count": 0,
          "Cum FR by Trial": null,
          "Cum FR by Week": 1,
          "FR Delta": 23,
          "Total Triers": 3,
          "Trial Week": 10,
          "Weights": null
         },
         {
          "Count": 0,
          "Cum FR by Trial": null,
          "Cum FR by Week": 5,
          "FR Delta": 24,
          "Total Triers": 8,
          "Trial Week": 1,
          "Weights": null
         },
         {
          "Count": 0,
          "Cum FR by Trial": null,
          "Cum FR by Week": 4,
          "FR Delta": 24,
          "Total Triers": 6,
          "Trial Week": 2,
          "Weights": null
         },
         {
          "Count": 0,
          "Cum FR by Trial": null,
          "Cum FR by Week": 1,
          "FR Delta": 24,
          "Total Triers": 2,
          "Trial Week": 3,
          "Weights": null
         },
         {
          "Count": 0,
          "Cum FR by Trial": null,
          "Cum FR by Week": 11,
          "FR Delta": 24,
          "Total Triers": 16,
          "Trial Week": 4,
          "Weights": null
         },
         {
          "Count": 0,
          "Cum FR by Trial": null,
          "Cum FR by Week": 3,
          "FR Delta": 24,
          "Total Triers": 8,
          "Trial Week": 5,
          "Weights": null
         },
         {
          "Count": 1,
          "Cum FR by Trial": null,
          "Cum FR by Week": 3,
          "FR Delta": 24,
          "Total Triers": 7,
          "Trial Week": 6,
          "Weights": null
         },
         {
          "Count": 0,
          "Cum FR by Trial": null,
          "Cum FR by Week": 0,
          "FR Delta": 24,
          "Total Triers": 3,
          "Trial Week": 7,
          "Weights": null
         },
         {
          "Count": 0,
          "Cum FR by Trial": null,
          "Cum FR by Week": 1,
          "FR Delta": 24,
          "Total Triers": 2,
          "Trial Week": 8,
          "Weights": null
         },
         {
          "Count": 0,
          "Cum FR by Trial": null,
          "Cum FR by Week": 1,
          "FR Delta": 24,
          "Total Triers": 5,
          "Trial Week": 9,
          "Weights": null
         },
         {
          "Count": 0,
          "Cum FR by Trial": null,
          "Cum FR by Week": 1,
          "FR Delta": 24,
          "Total Triers": 3,
          "Trial Week": 10,
          "Weights": null
         }
        ]
       },
       "encoding": {
        "color": {
         "field": "Trial Week",
         "type": "nominal"
        },
        "x": {
         "axis": {
          "labelExpr": "datum.value",
          "title": "Weeks Since Trial",
          "values": [
           0,
           4,
           8,
           12,
           16,
           20,
           24
          ]
         },
         "field": "FR Delta",
         "scale": {
          "domain": [
           0,
           24
          ]
         },
         "type": "quantitative"
        },
        "y": {
         "field": "Cum FR by Trial",
         "scale": {},
         "title": "Cum. % Making FR Purchase",
         "type": "quantitative"
        }
       },
       "height": 250,
       "mark": {
        "strokeDash": [
         1,
         0
        ],
        "strokeWidth": 2,
        "type": "line"
       },
       "title": "Empirical Time-to-FR Curves by Time of Trial",
       "width": 650
      },
      "text/plain": [
       "<VegaLite 5 object>\n",
       "\n",
       "If you see this message, it means the renderer has not been properly enabled\n",
       "for the frontend that you are using. For more information, see\n",
       "https://altair-viz.github.io/user_guide/display_frontends.html#troubleshooting\n"
      ]
     },
     "execution_count": 34,
     "metadata": {},
     "output_type": "execute_result"
    }
   ],
   "source": [
    "(\n",
    "    ChartTemp(cum_fr_by_trial.filter(pl.col('Trial Week') <= 10).collect())\n",
    "    .line_encode(x_col='FR Delta',x_title='Weeks Since Trial',y_col='Cum FR by Trial', y_title='Cum. % Making FR Purchase', color='Trial Week:N', x_range=24)\n",
    "    .line_prop('Empirical Time-to-FR Curves by Time of Trial')\n",
    ")"
   ]
  },
  {
   "cell_type": "markdown",
   "metadata": {},
   "source": [
    "**Modelling First Repeat**:\n",
    "- Let us assume that these empirical time-to-FR curves are realizations of the same underlying curve\n",
    "$$P\\left(\\text { first repeat by } t \\mid \\text { trial at } t_{0}\\right) = P\\left(\\text { first repeat } t - t_{0} \\text { periods after trial}\\right)$$\n",
    "- Specify a mathematical expression for this curve\n",
    "$$P\\left(\\text { first repeat by } t \\mid \\text { trial at } t_{0}\\right) = p_{1}\\left(1-e^{-\\theta_{F R}\\left(t-t_{0}\\right)}\\right)$$ "
   ]
  },
  {
   "cell_type": "markdown",
   "metadata": {},
   "source": [
    "##### First Repeat Model Parameter Estimate"
   ]
  },
  {
   "cell_type": "code",
   "execution_count": 35,
   "metadata": {},
   "outputs": [],
   "source": [
    "def fr_model(fr: np.ndarray, eligible: np.ndarray, weeks: np.ndarray, guess=[0.05, 0.05]):\n",
    "    \n",
    "    def least_square(x):\n",
    "        p_1, theta_FR = x[0], x[1]\n",
    "        t = weeks\n",
    "        t_0 = weeks.reshape(-1,1)\n",
    "\n",
    "        p_fr_trial = p_1 * (1 - np.exp(-theta_FR * (t - t_0)))\n",
    "        p_fr_trial = np.triu(p_fr_trial)     \n",
    "        \n",
    "        pred_cum_fr = p_fr_trial.T @ eligible    \n",
    "        \n",
    "        return np.sum((pred_cum_fr - fr)**2)\n",
    "        \n",
    "    return minimize(least_square, guess, bounds=[(0, np.inf), (0, np.inf)])"
   ]
  },
  {
   "cell_type": "code",
   "execution_count": 36,
   "metadata": {},
   "outputs": [
    {
     "data": {
      "text/markdown": [
       "$P_1$ = 0.3635\n",
       "\n",
       "$\\theta_{FR}$ = 0.4614\n",
       "\n",
       "Sum of Square Errors = 31.6774"
      ]
     },
     "metadata": {},
     "output_type": "display_data"
    }
   ],
   "source": [
    "fr_array = (\n",
    "    modified_cum_trans\n",
    "    .filter(pl.col('Week (t)')<=24)\n",
    "    .select('T(t)', 'FR(t)', 'Week (t)')\n",
    "    .to_numpy().transpose()         \n",
    ")\n",
    "\n",
    "eligible, fr, weeks = np.diff(fr_array[0], prepend=0), fr_array[1], fr_array[2]\n",
    "\n",
    "result = fr_model(fr, eligible, weeks)\n",
    "p_1, theta_FR, sse = result.x[0], result.x[1], result.fun\n",
    "\n",
    "# First Repeat Model Parameters\n",
    "display_markdown(f'''$P_{1}$ = {p_1:0.4f}\n",
    "\n",
    "$\\\\theta_{{FR}}$ = {theta_FR:0.4f}\n",
    "\n",
    "Sum of Square Errors = {sse:0.4f}''', raw=True)"
   ]
  },
  {
   "cell_type": "markdown",
   "metadata": {},
   "source": [
    "##### Forecasting First Repeat Transactions"
   ]
  },
  {
   "cell_type": "markdown",
   "metadata": {},
   "source": [
    "The next step is to generate a forecast of first-repeat purchasing, *conditional on our forecast of trial transactions*. We have generated a forecast of $T(t)$, the cumulative number of trial transactions by $t$, whereas our expression for $FR(t),(5)$, requires the incremental number of triers in each period. We compute this quantity, storing it in the array `eligible`. At time $t$, we use (6) to compute the probability of making a first repeat purchase $t$ periods after a trial purchase $(t=1, \\ldots, 52)$. Given these two quantities, we use (5) to compute $FR(t)$."
   ]
  },
  {
   "cell_type": "code",
   "execution_count": 37,
   "metadata": {},
   "outputs": [],
   "source": [
    "repeat = np.zeros((endwk, endwk-1))\n",
    "probmat = np.zeros((endwk, endwk))"
   ]
  },
  {
   "cell_type": "code",
   "execution_count": 38,
   "metadata": {},
   "outputs": [
    {
     "name": "stdout",
     "output_type": "stream",
     "text": [
      "[ 0.          1.08074772  2.7755127   4.79425611  6.95806527  9.15783716\n",
      " 11.32824761 13.43135571 15.44628134 17.36271039 19.17681223 20.88867712\n",
      " 22.50071108 24.01663373 25.44085565 26.77809437 28.03314031 29.21071676\n",
      " 30.31539863 31.35156784 32.32339135 33.23481323 34.08955495 34.8911208\n",
      " 35.64280603 36.34770649 37.00872889 37.62860127 38.20988325 38.75497601\n",
      " 39.26613179 39.74546296 40.19495059 40.61645257 41.01171118 41.38236031\n",
      " 41.72993212 42.05586343 42.36150159 42.64811008 42.91687373 43.16890358\n",
      " 43.40524151 43.62686454 43.83468884 44.02957355 44.21232431 44.38369662\n",
      " 44.54439892 44.69509555 44.83640948 44.9689249 ]\n"
     ]
    }
   ],
   "source": [
    "t_0 = t.reshape(-1, 1)\n",
    "eligible = np.diff(cum_trial, prepend=0)\n",
    "\n",
    "p_fr_trial = p_1 * (1 - np.exp(-theta_FR * (t - t_0)))\n",
    "p_fr_trial = np.triu(p_fr_trial)\n",
    "\n",
    "pred_cum_fr = p_fr_trial.T @ eligible \n",
    "print(pred_cum_fr)\n",
    "\n",
    "repeat[:,0] = pred_cum_fr"
   ]
  },
  {
   "cell_type": "code",
   "execution_count": 39,
   "metadata": {},
   "outputs": [
    {
     "data": {
      "application/vnd.vegalite.v5+json": {
       "$schema": "https://vega.github.io/schema/vega-lite/v5.20.1.json",
       "config": {
        "axisX": {
         "grid": false
        },
        "axisY": {
         "grid": false
        },
        "view": {
         "continuousHeight": 300,
         "continuousWidth": 300,
         "stroke": null
        }
       },
       "datasets": {
        "data-14af2c719777932de7be45f5a594bb10": [
         {
          "AR(t)": 0,
          "FR(t)": 0,
          "S(t)": 8,
          "T(t)": 8,
          "Week (t)": 1
         },
         {
          "AR(t)": 0,
          "FR(t)": 1,
          "S(t)": 15,
          "T(t)": 14,
          "Week (t)": 2
         },
         {
          "AR(t)": 0,
          "FR(t)": 2,
          "S(t)": 18,
          "T(t)": 16,
          "Week (t)": 3
         },
         {
          "AR(t)": 0,
          "FR(t)": 3,
          "S(t)": 35,
          "T(t)": 32,
          "Week (t)": 4
         },
         {
          "AR(t)": 0,
          "FR(t)": 7,
          "S(t)": 47,
          "T(t)": 40,
          "Week (t)": 5
         },
         {
          "AR(t)": 2,
          "FR(t)": 9,
          "S(t)": 58,
          "T(t)": 47,
          "Week (t)": 6
         },
         {
          "AR(t)": 3,
          "FR(t)": 12,
          "S(t)": 65,
          "T(t)": 50,
          "Week (t)": 7
         },
         {
          "AR(t)": 4,
          "FR(t)": 13,
          "S(t)": 69,
          "T(t)": 52,
          "Week (t)": 8
         },
         {
          "AR(t)": 7,
          "FR(t)": 17,
          "S(t)": 81,
          "T(t)": 57,
          "Week (t)": 9
         },
         {
          "AR(t)": 9,
          "FR(t)": 18,
          "S(t)": 87,
          "T(t)": 60,
          "Week (t)": 10
         },
         {
          "AR(t)": 13,
          "FR(t)": 22,
          "S(t)": 100,
          "T(t)": 65,
          "Week (t)": 11
         },
         {
          "AR(t)": 15,
          "FR(t)": 23,
          "S(t)": 105,
          "T(t)": 67,
          "Week (t)": 12
         },
         {
          "AR(t)": 16,
          "FR(t)": 23,
          "S(t)": 107,
          "T(t)": 68,
          "Week (t)": 13
         },
         {
          "AR(t)": 18,
          "FR(t)": 23,
          "S(t)": 113,
          "T(t)": 72,
          "Week (t)": 14
         },
         {
          "AR(t)": 19,
          "FR(t)": 23,
          "S(t)": 117,
          "T(t)": 75,
          "Week (t)": 15
         },
         {
          "AR(t)": 21,
          "FR(t)": 24,
          "S(t)": 126,
          "T(t)": 81,
          "Week (t)": 16
         },
         {
          "AR(t)": 26,
          "FR(t)": 24,
          "S(t)": 140,
          "T(t)": 90,
          "Week (t)": 17
         },
         {
          "AR(t)": 30,
          "FR(t)": 28,
          "S(t)": 152,
          "T(t)": 94,
          "Week (t)": 18
         },
         {
          "AR(t)": 32,
          "FR(t)": 32,
          "S(t)": 160,
          "T(t)": 96,
          "Week (t)": 19
         },
         {
          "AR(t)": 35,
          "FR(t)": 33,
          "S(t)": 164,
          "T(t)": 96,
          "Week (t)": 20
         },
         {
          "AR(t)": 38,
          "FR(t)": 33,
          "S(t)": 167,
          "T(t)": 96,
          "Week (t)": 21
         },
         {
          "AR(t)": 39,
          "FR(t)": 34,
          "S(t)": 170,
          "T(t)": 97,
          "Week (t)": 22
         },
         {
          "AR(t)": 40,
          "FR(t)": 35,
          "S(t)": 172,
          "T(t)": 97,
          "Week (t)": 23
         },
         {
          "AR(t)": 43,
          "FR(t)": 35,
          "S(t)": 179,
          "T(t)": 101,
          "Week (t)": 24
         },
         {
          "AR(t)": 43,
          "FR(t)": 35,
          "S(t)": 179,
          "T(t)": 101,
          "Week (t)": 25
         },
         {
          "AR(t)": 50,
          "FR(t)": 35,
          "S(t)": 186,
          "T(t)": 101,
          "Week (t)": 26
         },
         {
          "AR(t)": 53,
          "FR(t)": 37,
          "S(t)": 195,
          "T(t)": 105,
          "Week (t)": 27
         },
         {
          "AR(t)": 57,
          "FR(t)": 37,
          "S(t)": 200,
          "T(t)": 106,
          "Week (t)": 28
         },
         {
          "AR(t)": 60,
          "FR(t)": 37,
          "S(t)": 203,
          "T(t)": 106,
          "Week (t)": 29
         },
         {
          "AR(t)": 64,
          "FR(t)": 41,
          "S(t)": 223,
          "T(t)": 118,
          "Week (t)": 30
         },
         {
          "AR(t)": 65,
          "FR(t)": 41,
          "S(t)": 225,
          "T(t)": 119,
          "Week (t)": 31
         },
         {
          "AR(t)": 65,
          "FR(t)": 42,
          "S(t)": 226,
          "T(t)": 119,
          "Week (t)": 32
         },
         {
          "AR(t)": 67,
          "FR(t)": 43,
          "S(t)": 230,
          "T(t)": 120,
          "Week (t)": 33
         },
         {
          "AR(t)": 69,
          "FR(t)": 44,
          "S(t)": 236,
          "T(t)": 123,
          "Week (t)": 34
         },
         {
          "AR(t)": 72,
          "FR(t)": 45,
          "S(t)": 242,
          "T(t)": 125,
          "Week (t)": 35
         },
         {
          "AR(t)": 76,
          "FR(t)": 45,
          "S(t)": 246,
          "T(t)": 125,
          "Week (t)": 36
         },
         {
          "AR(t)": 80,
          "FR(t)": 45,
          "S(t)": 251,
          "T(t)": 126,
          "Week (t)": 37
         },
         {
          "AR(t)": 84,
          "FR(t)": 45,
          "S(t)": 256,
          "T(t)": 127,
          "Week (t)": 38
         },
         {
          "AR(t)": 84,
          "FR(t)": 45,
          "S(t)": 256,
          "T(t)": 127,
          "Week (t)": 39
         },
         {
          "AR(t)": 87,
          "FR(t)": 45,
          "S(t)": 259,
          "T(t)": 127,
          "Week (t)": 40
         },
         {
          "AR(t)": 87,
          "FR(t)": 45,
          "S(t)": 259,
          "T(t)": 127,
          "Week (t)": 41
         },
         {
          "AR(t)": 89,
          "FR(t)": 45,
          "S(t)": 262,
          "T(t)": 128,
          "Week (t)": 42
         },
         {
          "AR(t)": 89,
          "FR(t)": 45,
          "S(t)": 263,
          "T(t)": 129,
          "Week (t)": 43
         },
         {
          "AR(t)": 89,
          "FR(t)": 46,
          "S(t)": 264,
          "T(t)": 129,
          "Week (t)": 44
         },
         {
          "AR(t)": 93,
          "FR(t)": 46,
          "S(t)": 268,
          "T(t)": 129,
          "Week (t)": 45
         },
         {
          "AR(t)": 94,
          "FR(t)": 46,
          "S(t)": 270,
          "T(t)": 130,
          "Week (t)": 46
         },
         {
          "AR(t)": 98,
          "FR(t)": 47,
          "S(t)": 277,
          "T(t)": 132,
          "Week (t)": 47
         },
         {
          "AR(t)": 101,
          "FR(t)": 48,
          "S(t)": 282,
          "T(t)": 133,
          "Week (t)": 48
         },
         {
          "AR(t)": 105,
          "FR(t)": 48,
          "S(t)": 290,
          "T(t)": 137,
          "Week (t)": 49
         },
         {
          "AR(t)": 111,
          "FR(t)": 50,
          "S(t)": 298,
          "T(t)": 137,
          "Week (t)": 50
         },
         {
          "AR(t)": 112,
          "FR(t)": 51,
          "S(t)": 300,
          "T(t)": 137,
          "Week (t)": 51
         },
         {
          "AR(t)": 115,
          "FR(t)": 52,
          "S(t)": 306,
          "T(t)": 139,
          "Week (t)": 52
         }
        ],
        "data-ce5b6d5deb08430e12543775528a98e5": [
         {
          "FR(t)": 0,
          "Week (t)": 1
         },
         {
          "FR(t)": 1.080747715579142,
          "Week (t)": 2
         },
         {
          "FR(t)": 2.7755126957396374,
          "Week (t)": 3
         },
         {
          "FR(t)": 4.794256113028262,
          "Week (t)": 4
         },
         {
          "FR(t)": 6.9580652736946895,
          "Week (t)": 5
         },
         {
          "FR(t)": 9.157837156058543,
          "Week (t)": 6
         },
         {
          "FR(t)": 11.328247605721728,
          "Week (t)": 7
         },
         {
          "FR(t)": 13.43135571145606,
          "Week (t)": 8
         },
         {
          "FR(t)": 15.446281341829005,
          "Week (t)": 9
         },
         {
          "FR(t)": 17.36271038871205,
          "Week (t)": 10
         },
         {
          "FR(t)": 19.176812228007645,
          "Week (t)": 11
         },
         {
          "FR(t)": 20.88867711688588,
          "Week (t)": 12
         },
         {
          "FR(t)": 22.500711076457023,
          "Week (t)": 13
         },
         {
          "FR(t)": 24.01663373166275,
          "Week (t)": 14
         },
         {
          "FR(t)": 25.44085565276427,
          "Week (t)": 15
         },
         {
          "FR(t)": 26.77809436890594,
          "Week (t)": 16
         },
         {
          "FR(t)": 28.03314030965784,
          "Week (t)": 17
         },
         {
          "FR(t)": 29.210716763067836,
          "Week (t)": 18
         },
         {
          "FR(t)": 30.315398634489885,
          "Week (t)": 19
         },
         {
          "FR(t)": 31.351567835183424,
          "Week (t)": 20
         },
         {
          "FR(t)": 32.323391351306356,
          "Week (t)": 21
         },
         {
          "FR(t)": 33.23481322516578,
          "Week (t)": 22
         },
         {
          "FR(t)": 34.089554945268965,
          "Week (t)": 23
         },
         {
          "FR(t)": 34.891120798286394,
          "Week (t)": 24
         },
         {
          "FR(t)": 35.64280603110551,
          "Week (t)": 25
         },
         {
          "FR(t)": 36.347706486253884,
          "Week (t)": 26
         },
         {
          "FR(t)": 37.00872888657997,
          "Week (t)": 27
         },
         {
          "FR(t)": 37.62860126707446,
          "Week (t)": 28
         },
         {
          "FR(t)": 38.209883253618365,
          "Week (t)": 29
         },
         {
          "FR(t)": 38.754976014708085,
          "Week (t)": 30
         },
         {
          "FR(t)": 39.266131790851595,
          "Week (t)": 31
         },
         {
          "FR(t)": 39.745462955014446,
          "Week (t)": 32
         },
         {
          "FR(t)": 40.19495058734636,
          "Week (t)": 33
         },
         {
          "FR(t)": 40.6164525654526,
          "Week (t)": 34
         },
         {
          "FR(t)": 41.0117111821059,
          "Week (t)": 35
         },
         {
          "FR(t)": 41.38236030830538,
          "Week (t)": 36
         },
         {
          "FR(t)": 41.729932122730425,
          "Week (t)": 37
         },
         {
          "FR(t)": 42.05586343001019,
          "Week (t)": 38
         },
         {
          "FR(t)": 42.36150159052503,
          "Week (t)": 39
         },
         {
          "FR(t)": 42.64811008410768,
          "Week (t)": 40
         },
         {
          "FR(t)": 42.91687372929204,
          "Week (t)": 41
         },
         {
          "FR(t)": 43.1689035788331,
          "Week (t)": 42
         },
         {
          "FR(t)": 43.405241511198305,
          "Week (t)": 43
         },
         {
          "FR(t)": 43.62686453667277,
          "Week (t)": 44
         },
         {
          "FR(t)": 43.83468883566577,
          "Week (t)": 45
         },
         {
          "FR(t)": 44.02957354577846,
          "Week (t)": 46
         },
         {
          "FR(t)": 44.21232431320304,
          "Week (t)": 47
         },
         {
          "FR(t)": 44.38369662308173,
          "Week (t)": 48
         },
         {
          "FR(t)": 44.54439892255908,
          "Week (t)": 49
         },
         {
          "FR(t)": 44.695095549416926,
          "Week (t)": 50
         },
         {
          "FR(t)": 44.83640947838584,
          "Week (t)": 51
         },
         {
          "FR(t)": 44.968924896477226,
          "Week (t)": 52
         }
        ]
       },
       "height": 250,
       "layer": [
        {
         "data": {
          "name": "data-14af2c719777932de7be45f5a594bb10"
         },
         "encoding": {
          "color": {},
          "x": {
           "axis": {
            "labelExpr": "datum.value",
            "title": "Week",
            "values": [
             0,
             4,
             8,
             12,
             16,
             20,
             24,
             28,
             32,
             36,
             40,
             44,
             48,
             52
            ]
           },
           "field": "Week (t)",
           "scale": {
            "domain": [
             0,
             52
            ]
           },
           "type": "quantitative"
          },
          "y": {
           "field": "FR(t)",
           "scale": {},
           "title": "Cumulative FR Sales (# of Transactions)",
           "type": "quantitative"
          }
         },
         "mark": {
          "strokeDash": [
           1,
           0
          ],
          "strokeWidth": 2,
          "type": "line"
         }
        },
        {
         "data": {
          "name": "data-ce5b6d5deb08430e12543775528a98e5"
         },
         "encoding": {
          "color": {},
          "x": {
           "axis": {
            "labelExpr": "datum.value",
            "title": "Week",
            "values": [
             0,
             4,
             8,
             12,
             16,
             20,
             24,
             28,
             32,
             36,
             40,
             44,
             48,
             52
            ]
           },
           "field": "Week (t)",
           "scale": {
            "domain": [
             0,
             52
            ]
           },
           "type": "quantitative"
          },
          "y": {
           "field": "FR(t)",
           "scale": {},
           "title": "Cumulative FR Sales (# of Transactions)",
           "type": "quantitative"
          }
         },
         "mark": {
          "strokeDash": [
           5,
           3
          ],
          "strokeWidth": 2,
          "type": "line"
         }
        }
       ],
       "title": "Cumulative First Repeat Forecast",
       "width": 650
      },
      "text/plain": [
       "<VegaLite 5 object>\n",
       "\n",
       "If you see this message, it means the renderer has not been properly enabled\n",
       "for the frontend that you are using. For more information, see\n",
       "https://altair-viz.github.io/user_guide/display_frontends.html#troubleshooting\n"
      ]
     },
     "execution_count": 39,
     "metadata": {},
     "output_type": "execute_result"
    }
   ],
   "source": [
    "forecast_df = pl.DataFrame({\n",
    "    'Week (t)': t,\n",
    "    'FR(t)': repeat[:,0]\n",
    "})\n",
    "\n",
    "actual_fr_curve = (\n",
    "    ChartTemp(modified_cum_trans)\n",
    "    .line_encode('FR(t):Q', y_title='Cumulative FR Sales (# of Transactions)')\n",
    ")\n",
    "\n",
    "froecast_fr_curve = (\n",
    "    ChartTemp(forecast_df)\n",
    "    .line_encode('FR(t):Q', y_title='Cumulative FR Sales (# of Transactions)', dash=[5,3])\n",
    ")\n",
    "\n",
    "fr_chart = actual_fr_curve + froecast_fr_curve\n",
    "\n",
    "layered_line_prop(fr_chart, 'Cumulative First Repeat Forecast')"
   ]
  },
  {
   "cell_type": "code",
   "execution_count": 40,
   "metadata": {},
   "outputs": [
    {
     "data": {
      "text/markdown": [
       "First Repeat Forecast Index = **86**"
      ]
     },
     "metadata": {},
     "output_type": "display_data"
    }
   ],
   "source": [
    "fr_forecast_index = forecast_df.select('FR(t)').item(-1,0) / modified_cum_trans.select('FR(t)').item(-1,0) * 100\n",
    "\n",
    "display_markdown(f'''First Repeat Forecast Index = **{fr_forecast_index:0.0f}**''', raw=True)"
   ]
  },
  {
   "cell_type": "markdown",
   "metadata": {},
   "source": [
    "#### Forecasting Additional Repeat Transactions"
   ]
  },
  {
   "cell_type": "code",
   "execution_count": 41,
   "metadata": {},
   "outputs": [
    {
     "data": {
      "application/vnd.vegalite.v5+json": {
       "$schema": "https://vega.github.io/schema/vega-lite/v5.20.1.json",
       "config": {
        "axisX": {
         "grid": false
        },
        "axisY": {
         "grid": false
        },
        "view": {
         "continuousHeight": 300,
         "continuousWidth": 300,
         "stroke": null
        }
       },
       "data": {
        "name": "data-b5695179706b3d78752f038cacb9ffe0"
       },
       "datasets": {
        "data-b5695179706b3d78752f038cacb9ffe0": [
         {
          "AR(t)": 0,
          "FR(t)": 0,
          "S(t)": 8,
          "T(t)": 8,
          "Week (t)": 1
         },
         {
          "AR(t)": 0,
          "FR(t)": 1,
          "S(t)": 15,
          "T(t)": 14,
          "Week (t)": 2
         },
         {
          "AR(t)": 0,
          "FR(t)": 2,
          "S(t)": 18,
          "T(t)": 16,
          "Week (t)": 3
         },
         {
          "AR(t)": 0,
          "FR(t)": 3,
          "S(t)": 35,
          "T(t)": 32,
          "Week (t)": 4
         },
         {
          "AR(t)": 0,
          "FR(t)": 7,
          "S(t)": 47,
          "T(t)": 40,
          "Week (t)": 5
         },
         {
          "AR(t)": 2,
          "FR(t)": 9,
          "S(t)": 58,
          "T(t)": 47,
          "Week (t)": 6
         },
         {
          "AR(t)": 3,
          "FR(t)": 12,
          "S(t)": 65,
          "T(t)": 50,
          "Week (t)": 7
         },
         {
          "AR(t)": 4,
          "FR(t)": 13,
          "S(t)": 69,
          "T(t)": 52,
          "Week (t)": 8
         },
         {
          "AR(t)": 7,
          "FR(t)": 17,
          "S(t)": 81,
          "T(t)": 57,
          "Week (t)": 9
         },
         {
          "AR(t)": 9,
          "FR(t)": 18,
          "S(t)": 87,
          "T(t)": 60,
          "Week (t)": 10
         },
         {
          "AR(t)": 13,
          "FR(t)": 22,
          "S(t)": 100,
          "T(t)": 65,
          "Week (t)": 11
         },
         {
          "AR(t)": 15,
          "FR(t)": 23,
          "S(t)": 105,
          "T(t)": 67,
          "Week (t)": 12
         },
         {
          "AR(t)": 16,
          "FR(t)": 23,
          "S(t)": 107,
          "T(t)": 68,
          "Week (t)": 13
         },
         {
          "AR(t)": 18,
          "FR(t)": 23,
          "S(t)": 113,
          "T(t)": 72,
          "Week (t)": 14
         },
         {
          "AR(t)": 19,
          "FR(t)": 23,
          "S(t)": 117,
          "T(t)": 75,
          "Week (t)": 15
         },
         {
          "AR(t)": 21,
          "FR(t)": 24,
          "S(t)": 126,
          "T(t)": 81,
          "Week (t)": 16
         },
         {
          "AR(t)": 26,
          "FR(t)": 24,
          "S(t)": 140,
          "T(t)": 90,
          "Week (t)": 17
         },
         {
          "AR(t)": 30,
          "FR(t)": 28,
          "S(t)": 152,
          "T(t)": 94,
          "Week (t)": 18
         },
         {
          "AR(t)": 32,
          "FR(t)": 32,
          "S(t)": 160,
          "T(t)": 96,
          "Week (t)": 19
         },
         {
          "AR(t)": 35,
          "FR(t)": 33,
          "S(t)": 164,
          "T(t)": 96,
          "Week (t)": 20
         },
         {
          "AR(t)": 38,
          "FR(t)": 33,
          "S(t)": 167,
          "T(t)": 96,
          "Week (t)": 21
         },
         {
          "AR(t)": 39,
          "FR(t)": 34,
          "S(t)": 170,
          "T(t)": 97,
          "Week (t)": 22
         },
         {
          "AR(t)": 40,
          "FR(t)": 35,
          "S(t)": 172,
          "T(t)": 97,
          "Week (t)": 23
         },
         {
          "AR(t)": 43,
          "FR(t)": 35,
          "S(t)": 179,
          "T(t)": 101,
          "Week (t)": 24
         }
        ]
       },
       "encoding": {
        "color": {},
        "x": {
         "axis": {
          "labelExpr": "datum.value",
          "title": "Week",
          "values": [
           0,
           4,
           8,
           12,
           16,
           20,
           24,
           28,
           32,
           36,
           40,
           44,
           48,
           52
          ]
         },
         "field": "Week (t)",
         "scale": {
          "domain": [
           0,
           52
          ]
         },
         "type": "quantitative"
        },
        "y": {
         "field": "AR(t)",
         "scale": {
          "domain": [
           0,
           100
          ]
         },
         "title": "Cumulative AR Sales (# of Transactions)",
         "type": "quantitative"
        }
       },
       "height": 250,
       "mark": {
        "strokeDash": [
         1,
         0
        ],
        "strokeWidth": 2,
        "type": "line"
       },
       "title": "Actual Test-Market Cumulative Additional Repeat Sales",
       "width": 650
      },
      "text/plain": [
       "<VegaLite 5 object>\n",
       "\n",
       "If you see this message, it means the renderer has not been properly enabled\n",
       "for the frontend that you are using. For more information, see\n",
       "https://altair-viz.github.io/user_guide/display_frontends.html#troubleshooting\n"
      ]
     },
     "execution_count": 41,
     "metadata": {},
     "output_type": "execute_result"
    }
   ],
   "source": [
    "(\n",
    "    ChartTemp(modified_cum_trans.filter(pl.col('Week (t)')<=24))\n",
    "    .line_encode('AR(t):Q', y_scale=alt.Scale(domain=[0, 100]), y_title='Cumulative AR Sales (# of Transactions)')\n",
    "    .line_prop('Actual Test-Market Cumulative Additional Repeat Sales')\n",
    ")"
   ]
  },
  {
   "cell_type": "markdown",
   "metadata": {},
   "source": [
    "**Modelling Additional Repeat**:\n",
    "\n",
    "$$A R(t)= \\sum_{j\\ge2} R_{j}(t)$$\n",
    "\n",
    "where $R_{j}(t)$ is the cumulative number of individuals who have made at least $j$ repeat purchases by time $t$. How do we characterize $R_{j}(t)$, $j = 2, 3, \\ldots$?"
   ]
  },
  {
   "cell_type": "code",
   "execution_count": 42,
   "metadata": {},
   "outputs": [
    {
     "data": {
      "application/vnd.vegalite.v5+json": {
       "$schema": "https://vega.github.io/schema/vega-lite/v5.20.1.json",
       "config": {
        "axisX": {
         "grid": false
        },
        "axisY": {
         "grid": false
        },
        "view": {
         "continuousHeight": 300,
         "continuousWidth": 300,
         "stroke": null
        }
       },
       "data": {
        "name": "data-8cf367e19a5973de1b8b2e333d8b4de9"
       },
       "datasets": {
        "data-8cf367e19a5973de1b8b2e333d8b4de9": [
         {
          "0": 8,
          "1": 0,
          "2": 0,
          "3": 0,
          "4": 0,
          "5": 0,
          "6": 0,
          "7": 0,
          "8": 0,
          "9": 0,
          "10": 0,
          "11": 0,
          "shWeek": 1
         },
         {
          "0": 14,
          "1": 1,
          "2": 0,
          "3": 0,
          "4": 0,
          "5": 0,
          "6": 0,
          "7": 0,
          "8": 0,
          "9": 0,
          "10": 0,
          "11": 0,
          "shWeek": 2
         },
         {
          "0": 16,
          "1": 2,
          "2": 0,
          "3": 0,
          "4": 0,
          "5": 0,
          "6": 0,
          "7": 0,
          "8": 0,
          "9": 0,
          "10": 0,
          "11": 0,
          "shWeek": 3
         },
         {
          "0": 32,
          "1": 3,
          "2": 0,
          "3": 0,
          "4": 0,
          "5": 0,
          "6": 0,
          "7": 0,
          "8": 0,
          "9": 0,
          "10": 0,
          "11": 0,
          "shWeek": 4
         },
         {
          "0": 40,
          "1": 7,
          "2": 0,
          "3": 0,
          "4": 0,
          "5": 0,
          "6": 0,
          "7": 0,
          "8": 0,
          "9": 0,
          "10": 0,
          "11": 0,
          "shWeek": 5
         },
         {
          "0": 47,
          "1": 9,
          "2": 2,
          "3": 0,
          "4": 0,
          "5": 0,
          "6": 0,
          "7": 0,
          "8": 0,
          "9": 0,
          "10": 0,
          "11": 0,
          "shWeek": 6
         },
         {
          "0": 50,
          "1": 12,
          "2": 2,
          "3": 1,
          "4": 0,
          "5": 0,
          "6": 0,
          "7": 0,
          "8": 0,
          "9": 0,
          "10": 0,
          "11": 0,
          "shWeek": 7
         },
         {
          "0": 52,
          "1": 13,
          "2": 2,
          "3": 1,
          "4": 1,
          "5": 0,
          "6": 0,
          "7": 0,
          "8": 0,
          "9": 0,
          "10": 0,
          "11": 0,
          "shWeek": 8
         },
         {
          "0": 57,
          "1": 17,
          "2": 4,
          "3": 2,
          "4": 1,
          "5": 0,
          "6": 0,
          "7": 0,
          "8": 0,
          "9": 0,
          "10": 0,
          "11": 0,
          "shWeek": 9
         },
         {
          "0": 60,
          "1": 18,
          "2": 6,
          "3": 2,
          "4": 1,
          "5": 0,
          "6": 0,
          "7": 0,
          "8": 0,
          "9": 0,
          "10": 0,
          "11": 0,
          "shWeek": 10
         },
         {
          "0": 65,
          "1": 22,
          "2": 8,
          "3": 4,
          "4": 1,
          "5": 0,
          "6": 0,
          "7": 0,
          "8": 0,
          "9": 0,
          "10": 0,
          "11": 0,
          "shWeek": 11
         },
         {
          "0": 67,
          "1": 23,
          "2": 9,
          "3": 4,
          "4": 1,
          "5": 1,
          "6": 0,
          "7": 0,
          "8": 0,
          "9": 0,
          "10": 0,
          "11": 0,
          "shWeek": 12
         },
         {
          "0": 68,
          "1": 23,
          "2": 9,
          "3": 5,
          "4": 1,
          "5": 1,
          "6": 0,
          "7": 0,
          "8": 0,
          "9": 0,
          "10": 0,
          "11": 0,
          "shWeek": 13
         },
         {
          "0": 72,
          "1": 23,
          "2": 10,
          "3": 5,
          "4": 2,
          "5": 1,
          "6": 0,
          "7": 0,
          "8": 0,
          "9": 0,
          "10": 0,
          "11": 0,
          "shWeek": 14
         },
         {
          "0": 75,
          "1": 23,
          "2": 11,
          "3": 5,
          "4": 2,
          "5": 1,
          "6": 0,
          "7": 0,
          "8": 0,
          "9": 0,
          "10": 0,
          "11": 0,
          "shWeek": 15
         },
         {
          "0": 81,
          "1": 24,
          "2": 13,
          "3": 5,
          "4": 2,
          "5": 1,
          "6": 0,
          "7": 0,
          "8": 0,
          "9": 0,
          "10": 0,
          "11": 0,
          "shWeek": 16
         },
         {
          "0": 90,
          "1": 24,
          "2": 15,
          "3": 7,
          "4": 2,
          "5": 1,
          "6": 1,
          "7": 0,
          "8": 0,
          "9": 0,
          "10": 0,
          "11": 0,
          "shWeek": 17
         },
         {
          "0": 94,
          "1": 28,
          "2": 15,
          "3": 9,
          "4": 4,
          "5": 1,
          "6": 1,
          "7": 0,
          "8": 0,
          "9": 0,
          "10": 0,
          "11": 0,
          "shWeek": 18
         },
         {
          "0": 96,
          "1": 32,
          "2": 16,
          "3": 9,
          "4": 5,
          "5": 1,
          "6": 1,
          "7": 0,
          "8": 0,
          "9": 0,
          "10": 0,
          "11": 0,
          "shWeek": 19
         },
         {
          "0": 96,
          "1": 33,
          "2": 18,
          "3": 9,
          "4": 5,
          "5": 2,
          "6": 1,
          "7": 0,
          "8": 0,
          "9": 0,
          "10": 0,
          "11": 0,
          "shWeek": 20
         },
         {
          "0": 96,
          "1": 33,
          "2": 18,
          "3": 11,
          "4": 5,
          "5": 2,
          "6": 2,
          "7": 0,
          "8": 0,
          "9": 0,
          "10": 0,
          "11": 0,
          "shWeek": 21
         },
         {
          "0": 97,
          "1": 34,
          "2": 18,
          "3": 11,
          "4": 5,
          "5": 2,
          "6": 2,
          "7": 1,
          "8": 0,
          "9": 0,
          "10": 0,
          "11": 0,
          "shWeek": 22
         },
         {
          "0": 97,
          "1": 35,
          "2": 18,
          "3": 11,
          "4": 5,
          "5": 2,
          "6": 2,
          "7": 2,
          "8": 0,
          "9": 0,
          "10": 0,
          "11": 0,
          "shWeek": 23
         },
         {
          "0": 101,
          "1": 35,
          "2": 20,
          "3": 12,
          "4": 5,
          "5": 2,
          "6": 2,
          "7": 2,
          "8": 0,
          "9": 0,
          "10": 0,
          "11": 0,
          "shWeek": 24
         }
        ]
       },
       "encoding": {
        "color": {
         "field": "Repeat Level",
         "type": "nominal"
        },
        "x": {
         "axis": {
          "labelExpr": "datum.value",
          "title": "Week",
          "values": [
           0,
           4,
           8,
           12,
           16,
           20,
           24,
           28,
           32,
           36,
           40,
           44,
           48,
           52
          ]
         },
         "field": "shWeek",
         "scale": {
          "domain": [
           0,
           52
          ]
         },
         "type": "quantitative"
        },
        "y": {
         "field": "Cum DoR",
         "scale": {
          "domain": [
           0,
           40
          ]
         },
         "title": "Cumulative Sales (# transactions)",
         "type": "quantitative"
        }
       },
       "height": 250,
       "mark": {
        "strokeDash": [
         1,
         0
        ],
        "strokeWidth": 2,
        "type": "line"
       },
       "title": "Cumulative Sales by Depth of Repeat Level",
       "transform": [
        {
         "as": [
          "Repeat Level",
          "Cum DoR"
         ],
         "fold": [
          "2",
          "3",
          "4",
          "5",
          "6"
         ]
        }
       ],
       "width": 650
      },
      "text/plain": [
       "<VegaLite 5 object>\n",
       "\n",
       "If you see this message, it means the renderer has not been properly enabled\n",
       "for the frontend that you are using. For more information, see\n",
       "https://altair-viz.github.io/user_guide/display_frontends.html#troubleshooting\n"
      ]
     },
     "execution_count": 42,
     "metadata": {},
     "output_type": "execute_result"
    }
   ],
   "source": [
    "(\n",
    "    ChartTemp(sh_cum_trans_wideform.filter(pl.col('shWeek')<=24))\n",
    "    .transform_fold(['2', '3', '4', '5', '6'], as_=['Repeat Level', 'Cum DoR'])\n",
    "    .line_encode(y_col='Cum DoR:Q', y_title='Cumulative Sales (# transactions)', color='Repeat Level:N', x_col='shWeek', y_scale=alt.Scale(domain=[0, 40]))\n",
    "    .line_prop('Cumulative Sales by Depth of Repeat Level')\n",
    ")"
   ]
  },
  {
   "cell_type": "markdown",
   "metadata": {},
   "source": [
    "**Modelling Second Repeat**:\n",
    "\n",
    "How can an individual have made a second repeat purchase by the end of week 5?\n",
    "- she could have made her 1st repeat purchase in week 2 (which implies her trial purchase occurred in week 1) and made a 3rd purchase of the new product (i.e., her 2nd repeat purchase) somewhere in the intervening three weeks,\n",
    "- she could have made her 1st repeat purchase in week 3 and a 2nd repeat purchase sometime in the following two weeks, or\n",
    "- she could have made her 1st repeat purchase in week 4 and\n",
    "her 2nd repeat purchase sometime in the following week.\n",
    "\n",
    "$$R_{2}(t)=\\sum_{t_{1}=2}^{t-1} P\\left( \\text {second repeat by } t \\mid \\text {first repeat at } t_{1}\\right) \\times\\left[FR\\left(t_{1}\\right)-FR\\left(t_{1}-1\\right)\\right]$$\n",
    "\n",
    "where $FR(t_{1}) − FR(t_{1} − 1)$ is the number of individuals who made their first repeat purchase in week $t_{1}$.\n",
    "\n",
    "**Modelling Additional Repeat - General**:\n",
    "$$R_{j}(t)=\\sum_{t_{j-1}=j}^{t-1} P\\left(j \\text {th repeat by } t \\mid(j-1) \\text { th repeat at } t_{j-1}\\right) \\times\\left[R_{j-1}\\left(t_{j-1}\\right)-R_{j-1}\\left(t_{j-1}-1\\right)\\right]$$\n",
    "\n",
    "where $R_{j-1}\\left(t_{j-1}\\right)-R_{j-1}\\left(t_{j-1}-1\\right)$ is the number of individuals who made their $(j-1)th$ repeat purchase in week $t_{j-1}$\n",
    "\n",
    "**Challenges**:\n",
    "- Sparse data for higher orders of repeat $(j = 3, 4, 5)$\n",
    "- No data for repeat levels we are likely to observe in the forecast period\n",
    "\n",
    "Are there common patterns across depth-of-repeat levels that we can exploit? See: [Actual Vs. Estimated Depth-of-Repeat Curve](#depth_of_repeat_curve)\n",
    "\n",
    "**Probability of jth Repeat**:\n",
    "\n",
    "Following the same logic as for trial and first repeat,\n",
    "$$P\\left(j \\text {th repeat by } t \\mid(j-1) \\text { th repeat at } t_{j-1}\\right)=p_{j}\\left(1-e^{-\\theta_{AR}(t-t_{j-1})}\\right),\\quad t=t_{j+1}+1,\\ldots$$\n",
    "\n",
    "**Evolution of $p_{j}$**:\n",
    "\n",
    "- The asymptote of the depth-of-repeat curves (i.e., ultimate conversion proportion) increases, at a decreasing rate, as j increases.\n",
    "- The proportion of consumers who have made their $jth$ repeat purchase within 52 weeks of their $(j − 1)th$ repeat purchase increases with $j$.\n",
    "- We model the evolution of the ultimate conversion proportions as:\n",
    "$$p_{j} = p_{\\infty}\\left(1-e^{-\\gamma j}\\right), \\quad j \\ge 2$$"
   ]
  },
  {
   "cell_type": "markdown",
   "metadata": {},
   "source": [
    "##### Additional Repeat Model Parameter Estimate"
   ]
  },
  {
   "cell_type": "code",
   "execution_count": 43,
   "metadata": {},
   "outputs": [],
   "source": [
    "def ar_model(ar, eligibles, weeks, j, guess=[0.5, 0.5, 0.5]):\n",
    "\n",
    "    def least_square(x):\n",
    "        p_inf, gamma, theta_AR = x[0], x[1], x[2]\n",
    "        t, t_0 = weeks, weeks.reshape(-1, 1)\n",
    "        \n",
    "        sse = np.zeros(len(j))\n",
    "\n",
    "        for i, DoR in enumerate(j):\n",
    "            p_j = p_inf * (1 - np.exp(-gamma * DoR))\n",
    "            p_ar = p_j * (1 - np.exp(-theta_AR * (t - t_0)))\n",
    "            p_ar = np.triu(p_ar)\n",
    "            p_ar[:DoR-1] = 0\n",
    "\n",
    "            pred_cum_ar = p_ar.T @ eligibles[i]\n",
    "            sse[i] = np.sum((pred_cum_ar - ar[i])**2)\n",
    "\n",
    "        return np.sum(sse)\n",
    "\n",
    "    return minimize(least_square, guess, bounds=[(0,np.inf),(0,np.inf),(0,np.inf)])"
   ]
  },
  {
   "cell_type": "code",
   "execution_count": 44,
   "metadata": {},
   "outputs": [
    {
     "data": {
      "text/markdown": [
       "$p_{\\infty}$ = 0.7816\n",
       "\n",
       "$\\gamma$ = 1.0014\n",
       "\n",
       "$\\theta_{AR}$ = 0.2309\n",
       "\n",
       "Sum of Square Errors = 51.1730"
      ]
     },
     "metadata": {},
     "output_type": "display_data"
    }
   ],
   "source": [
    "mod_cum_ar_trans = (\n",
    "    sh_cum_trans_wideform\n",
    "    .filter(pl.col('shWeek') <= 24)\n",
    "    .rename({'shWeek': 'Week'})\n",
    "    .select('1', '2', '3', '4', '5', 'Week')\n",
    "    .to_numpy().transpose()\n",
    ")\n",
    "\n",
    "eligibles = np.diff(mod_cum_ar_trans[:-2], prepend=0, axis=1)\n",
    "ar = mod_cum_ar_trans[1:-1]\n",
    "weeks = mod_cum_ar_trans[-1]\n",
    "j = np.arange(2, 6, 1)\n",
    "\n",
    "result = ar_model(ar, eligibles, weeks, j)\n",
    "p_inf, gamma, theta_AR, sse = result.x[0], result.x[1], result.x[2], result.fun\n",
    "\n",
    "# Additional Repeat Model Parameters\n",
    "display_markdown(f'''$p_{{\\\\infty}}$ = {p_inf:0.4f}\n",
    "\n",
    "$\\\\gamma$ = {gamma:0.4f}\n",
    "\n",
    "$\\\\theta_{{AR}}$ = {theta_AR:0.4f}\n",
    "\n",
    "Sum of Square Errors = {sse:0.4f}''', raw=True)"
   ]
  },
  {
   "cell_type": "markdown",
   "metadata": {},
   "source": [
    "##### Forecasting Additional Repeat Transactions"
   ]
  },
  {
   "cell_type": "markdown",
   "metadata": {},
   "source": [
    "To forecast additional repeat, we first compute second repeat (conditional on our forecast of first repeat), then compute third repeat (conditional on our forecast of second repeat), and so on. The code we use to accomplish this is basically the same as that for first repeat, embedded within a loop\n",
    "over depth-of-repeat levels. Given the assumption that a customer can have only one transaction per period, we could theoretically have up to 51 depth-of-repeat levels for a 52-week forecast horizon. Another consequence of this assumption is that the first week in which a $j$ th repeat purchase could occur is week $j+1$; this means $R_{j}(t)=0$ for $t \\leq j$."
   ]
  },
  {
   "cell_type": "code",
   "execution_count": 45,
   "metadata": {},
   "outputs": [],
   "source": [
    "j = np.arange(2, endwk, 1)\n",
    "p_j = p_inf * (1 - np.exp(-gamma * j))\n",
    "\n",
    "for DoR in j:\n",
    "    eligibles = np.diff(repeat[:,DoR-2], prepend=0)\n",
    "    p_ar = p_j[DoR-2] * (1 - np.exp(-theta_AR * (t - t_0)))\n",
    "    p_ar = np.triu(p_ar)\n",
    "    p_ar[:DoR-2] = 0\n",
    "    repeat[:,DoR-1] = p_ar.T @ eligibles"
   ]
  },
  {
   "cell_type": "code",
   "execution_count": 46,
   "metadata": {},
   "outputs": [
    {
     "data": {
      "application/vnd.vegalite.v5+json": {
       "$schema": "https://vega.github.io/schema/vega-lite/v5.20.1.json",
       "config": {
        "axisX": {
         "grid": false
        },
        "axisY": {
         "grid": false
        },
        "view": {
         "continuousHeight": 300,
         "continuousWidth": 300,
         "stroke": null
        }
       },
       "datasets": {
        "data-5a6ab0269bf55aa05bfd45c01593b14d": [
         {
          "2": 0,
          "3": 0,
          "4": 0,
          "5": 0,
          "6": 0,
          "shWeek": 1
         },
         {
          "2": 0,
          "3": 0,
          "4": 0,
          "5": 0,
          "6": 0,
          "shWeek": 2
         },
         {
          "2": 0.15067761126817253,
          "3": 0,
          "4": 0,
          "5": 0,
          "6": 0,
          "shWeek": 3
         },
         {
          "2": 0.5065674932917142,
          "3": 0.02308088748776961,
          "4": 0,
          "5": 0,
          "6": 0,
          "shWeek": 4
         },
         {
          "2": 1.0705214678009685,
          "3": 0.09591765182621477,
          "4": 0.003652225182753033,
          "5": 0,
          "6": 0,
          "shWeek": 5
         },
         {
          "2": 1.8198593085566734,
          "3": 0.24012142991764843,
          "4": 0.018076710140423544,
          "5": 0.0005846959466560718,
          "6": 0,
          "shWeek": 6
         },
         {
          "2": 2.721366598925724,
          "3": 0.4693727175542905,
          "4": 0.052344912537212275,
          "5": 0.003358080818055111,
          "6": 0.00009400468743844385,
          "shWeek": 7
         },
         {
          "2": 3.739570645863701,
          "3": 0.7894431271534257,
          "4": 0.1158223945479437,
          "5": 0.011045662912227043,
          "6": 0.0006145163890812009,
          "shWeek": 8
         },
         {
          "2": 4.841023928847891,
          "3": 1.1994803682935609,
          "4": 0.21685670571233942,
          "5": 0.027310280304858978,
          "6": 0.0022636660581596708,
          "shWeek": 9
         },
         {
          "2": 5.996265095713334,
          "3": 1.6936843914599375,
          "4": 0.36193916982355295,
          "5": 0.05639583566620304,
          "6": 0.0061876910186864365,
          "shWeek": 10
         },
         {
          "2": 7.180470080569541,
          "3": 2.26293827778158,
          "4": 0.5553047473362708,
          "5": 0.10271030503338849,
          "6": 0.01397877586917358,
          "shWeek": 11
         },
         {
          "2": 8.373399766815373,
          "3": 2.8962025587774396,
          "4": 0.798872476165789,
          "5": 0.17043067581745663,
          "6": 0.02760947186552127,
          "shWeek": 12
         },
         {
          "2": 9.55900116513573,
          "3": 3.581613993976765,
          "4": 1.0924188257448262,
          "5": 0.2631798162198884,
          "6": 0.04931712357295552,
          "shWeek": 13
         },
         {
          "2": 10.724867048173012,
          "3": 4.3072966758882885,
          "4": 1.433889169511076,
          "5": 0.3837977307555809,
          "6": 0.08146017667209675,
          "shWeek": 14
         },
         {
          "2": 11.861667293934358,
          "3": 5.061923102107011,
          "4": 1.8197733740391118,
          "5": 0.5342098501618782,
          "6": 0.12636734031357494,
          "shWeek": 15
         },
         {
          "2": 12.962610681955763,
          "3": 5.835072440599722,
          "4": 2.2454927190342686,
          "5": 0.7153826106936227,
          "6": 0.18619667823328684,
          "shWeek": 16
         },
         {
          "2": 14.022964138115636,
          "3": 6.617432474090464,
          "4": 2.705763720310173,
          "5": 0.9273501366996815,
          "6": 0.26281661518157917,
          "shWeek": 17
         },
         {
          "2": 15.039638484437434,
          "3": 7.400886258771094,
          "4": 3.1949188830465594,
          "5": 1.1692936664765643,
          "6": 0.35771577112511177,
          "shWeek": 18
         },
         {
          "2": 16.0108400875325,
          "3": 8.178517457872111,
          "4": 3.707175024476231,
          "5": 1.4396559499519577,
          "6": 0.4719441584140607,
          "shWeek": 19
         },
         {
          "2": 16.93578301460063,
          "3": 8.944561214686601,
          "4": 4.236847109243626,
          "5": 1.7362750128248141,
          "6": 0.6060848971104109,
          "shWeek": 20
         },
         {
          "2": 17.814454326533664,
          "3": 9.69432106403622,
          "4": 4.778510215748241,
          "5": 2.0565245705273423,
          "6": 0.7602532689225008,
          "shWeek": 21
         },
         {
          "2": 18.64742471272274,
          "3": 10.424067025025064,
          "4": 5.327114955535359,
          "5": 2.3974514168675563,
          "6": 0.9341185413313366,
          "shWeek": 22
         },
         {
          "2": 19.435697057220956,
          "3": 11.130925701190488,
          "4": 5.878062966466639,
          "5": 2.7559029593641764,
          "6": 1.1269433800308322,
          "shWeek": 23
         },
         {
          "2": 20.180586286723525,
          "3": 11.812769846567498,
          "4": 6.427249448209498,
          "5": 3.128640541230488,
          "6": 1.337635638596136,
          "shWeek": 24
         },
         {
          "2": 20.883624741475693,
          "3": 12.468112299569285,
          "4": 6.9710794517947585,
          "5": 3.512436204670739,
          "6": 1.5648076878938846,
          "shWeek": 25
         },
         {
          "2": 21.546488197763043,
          "3": 13.096007293606403,
          "4": 7.506464026607396,
          "5": 3.904152108293175,
          "6": 1.8068390682224647,
          "shWeek": 26
         },
         {
          "2": 22.170938488802214,
          "3": 13.695960786696258,
          "4": 8.030801545709332,
          "5": 4.300802950879277,
          "6": 2.06193899020608,
          "shWeek": 27
         },
         {
          "2": 22.758779391766016,
          "3": 14.267850492794095,
          "4": 8.54194869302445,
          "5": 4.699602532951868,
          "6": 2.3282059834725732,
          "shWeek": 28
         },
         {
          "2": 23.311823065824623,
          "3": 14.81185564635107,
          "4": 9.038184779391996,
          "5": 5.097996072050139,
          "6": 2.6036827310247865,
          "shWeek": 29
         },
         {
          "2": 23.831864844117796,
          "3": 15.328396109204562,
          "4": 9.518172303300197,
          "5": 5.49368014146264,
          "6": 2.886404791619451,
          "shWeek": 30
         },
         {
          "2": 24.320664611385997,
          "3": 15.818080172962286,
          "4": 9.980916008983495,
          "5": 5.884612183405975,
          "6": 3.174442480675571,
          "shWeek": 31
         },
         {
          "2": 24.779933350339107,
          "3": 16.281660272562416,
          "4": 10.425722127684065,
          "5": 6.269011505959304,
          "6": 3.465935644331907,
          "shWeek": 32
         },
         {
          "2": 25.211323725527386,
          "3": 16.719995771382564,
          "4": 10.852159016139112,
          "5": 6.645353549227615,
          "6": 3.7591214229676915,
          "shWeek": 33
         },
         {
          "2": 25.61642380441547,
          "3": 17.134021978128306,
          "4": 11.260020023142527,
          "5": 7.0123590323840395,
          "6": 4.052355367699624,
          "shWeek": 34
         },
         {
          "2": 25.99675320118843,
          "3": 17.52472459099357,
          "4": 11.649289110817065,
          "5": 7.368979393913375,
          "6": 4.344126457521151,
          "shWeek": 35
         },
         {
          "2": 26.353761077810194,
          "3": 17.893118821041405,
          "4": 12.020109521332676,
          "5": 7.714379730452327,
          "6": 4.633066678881435,
          "shWeek": 36
         },
         {
          "2": 26.68882555595928,
          "3": 18.240232514389785,
          "4": 12.372755601484872,
          "5": 8.047920237600096,
          "6": 4.917955886828872,
          "shWeek": 37
         },
         {
          "2": 27.003254188449247,
          "3": 18.567092664721013,
          "4": 12.707607766699864,
          "5": 8.369136967162058,
          "6": 5.197722679869797,
          "shWeek": 38
         },
         {
          "2": 27.29828521432854,
          "3": 18.874714779282623,
          "4": 13.025130493550675,
          "5": 8.677722544386647,
          "6": 5.471442000660407,
          "shWeek": 39
         },
         {
          "2": 27.575089381895577,
          "3": 19.164094630000797,
          "4": 13.325853167794534,
          "5": 8.973507338288817,
          "6": 5.738330131271496,
          "shWeek": 40
         },
         {
          "2": 27.834772171476686,
          "3": 19.436201984861672,
          "4": 13.61035357649991,
          "5": 9.256441448777585,
          "6": 5.997737693140815,
          "shWeek": 41
         },
         {
          "2": 28.078376287507755,
          "3": 19.691975972441917,
          "4": 13.879243812370385,
          "5": 9.526577765453396,
          "6": 6.249141194491882,
          "shWeek": 42
         },
         {
          "2": 28.306884319251544,
          "3": 19.932321784066218,
          "4": 14.133158351264822,
          "5": 9.7840562632605,
          "6": 6.492133597046808,
          "shWeek": 43
         },
         {
          "2": 28.52122149298865,
          "3": 20.15810846358881,
          "4": 14.372744066435876,
          "5": 10.029089627853859,
          "6": 6.726414303122001,
          "shWeek": 44
         },
         {
          "2": 28.722258457030595,
          "3": 20.370167574530413,
          "4": 14.59865195221393,
          "5": 10.261950246533123,
          "6": 6.951778896415918,
          "shWeek": 45
         },
         {
          "2": 28.910814055450246,
          "3": 20.569292568677124,
          "4": 14.811530343457854,
          "5": 10.482958556817984,
          "6": 7.168108906829964,
          "shWeek": 46
         },
         {
          "2": 29.087658057828655,
          "3": 20.756238709763316,
          "4": 15.012019433324344,
          "5": 10.692472712165266,
          "6": 7.375361812641868,
          "shWeek": 47
         },
         {
          "2": 29.253513821231284,
          "3": 20.931723431036364,
          "4": 15.200746909461548,
          "5": 10.890879501069412,
          "6": 7.573561442850574,
          "shWeek": 48
         },
         {
          "2": 29.40906086757142,
          "3": 21.096427026850343,
          "4": 15.378324546650429,
          "5": 11.078586440136007,
          "6": 7.76278889868572,
          "shWeek": 49
         },
         {
          "2": 29.55493736490618,
          "3": 21.25099359644718,
          "4": 15.545345611518453,
          "5": 11.256014952161905,
          "6": 7.943174075969751,
          "shWeek": 50
         },
         {
          "2": 29.691742505369827,
          "3": 21.396032173205384,
          "4": 15.702382951771883,
          "5": 11.42359453548809,
          "6": 8.114887838872137,
          "shWeek": 51
         },
         {
          "2": 29.820038775639446,
          "3": 21.53211798527768,
          "4": 15.849987658138508,
          "5": 11.581757829799745,
          "6": 8.278134870103164,
          "shWeek": 52
         }
        ],
        "data-636991b9bc4d841d17b0db5361fa13e8": [
         {
          "0": 8,
          "1": 0,
          "2": 0,
          "3": 0,
          "4": 0,
          "5": 0,
          "6": 0,
          "7": 0,
          "8": 0,
          "9": 0,
          "10": 0,
          "11": 0,
          "shWeek": 1
         },
         {
          "0": 14,
          "1": 1,
          "2": 0,
          "3": 0,
          "4": 0,
          "5": 0,
          "6": 0,
          "7": 0,
          "8": 0,
          "9": 0,
          "10": 0,
          "11": 0,
          "shWeek": 2
         },
         {
          "0": 16,
          "1": 2,
          "2": 0,
          "3": 0,
          "4": 0,
          "5": 0,
          "6": 0,
          "7": 0,
          "8": 0,
          "9": 0,
          "10": 0,
          "11": 0,
          "shWeek": 3
         },
         {
          "0": 32,
          "1": 3,
          "2": 0,
          "3": 0,
          "4": 0,
          "5": 0,
          "6": 0,
          "7": 0,
          "8": 0,
          "9": 0,
          "10": 0,
          "11": 0,
          "shWeek": 4
         },
         {
          "0": 40,
          "1": 7,
          "2": 0,
          "3": 0,
          "4": 0,
          "5": 0,
          "6": 0,
          "7": 0,
          "8": 0,
          "9": 0,
          "10": 0,
          "11": 0,
          "shWeek": 5
         },
         {
          "0": 47,
          "1": 9,
          "2": 2,
          "3": 0,
          "4": 0,
          "5": 0,
          "6": 0,
          "7": 0,
          "8": 0,
          "9": 0,
          "10": 0,
          "11": 0,
          "shWeek": 6
         },
         {
          "0": 50,
          "1": 12,
          "2": 2,
          "3": 1,
          "4": 0,
          "5": 0,
          "6": 0,
          "7": 0,
          "8": 0,
          "9": 0,
          "10": 0,
          "11": 0,
          "shWeek": 7
         },
         {
          "0": 52,
          "1": 13,
          "2": 2,
          "3": 1,
          "4": 1,
          "5": 0,
          "6": 0,
          "7": 0,
          "8": 0,
          "9": 0,
          "10": 0,
          "11": 0,
          "shWeek": 8
         },
         {
          "0": 57,
          "1": 17,
          "2": 4,
          "3": 2,
          "4": 1,
          "5": 0,
          "6": 0,
          "7": 0,
          "8": 0,
          "9": 0,
          "10": 0,
          "11": 0,
          "shWeek": 9
         },
         {
          "0": 60,
          "1": 18,
          "2": 6,
          "3": 2,
          "4": 1,
          "5": 0,
          "6": 0,
          "7": 0,
          "8": 0,
          "9": 0,
          "10": 0,
          "11": 0,
          "shWeek": 10
         },
         {
          "0": 65,
          "1": 22,
          "2": 8,
          "3": 4,
          "4": 1,
          "5": 0,
          "6": 0,
          "7": 0,
          "8": 0,
          "9": 0,
          "10": 0,
          "11": 0,
          "shWeek": 11
         },
         {
          "0": 67,
          "1": 23,
          "2": 9,
          "3": 4,
          "4": 1,
          "5": 1,
          "6": 0,
          "7": 0,
          "8": 0,
          "9": 0,
          "10": 0,
          "11": 0,
          "shWeek": 12
         },
         {
          "0": 68,
          "1": 23,
          "2": 9,
          "3": 5,
          "4": 1,
          "5": 1,
          "6": 0,
          "7": 0,
          "8": 0,
          "9": 0,
          "10": 0,
          "11": 0,
          "shWeek": 13
         },
         {
          "0": 72,
          "1": 23,
          "2": 10,
          "3": 5,
          "4": 2,
          "5": 1,
          "6": 0,
          "7": 0,
          "8": 0,
          "9": 0,
          "10": 0,
          "11": 0,
          "shWeek": 14
         },
         {
          "0": 75,
          "1": 23,
          "2": 11,
          "3": 5,
          "4": 2,
          "5": 1,
          "6": 0,
          "7": 0,
          "8": 0,
          "9": 0,
          "10": 0,
          "11": 0,
          "shWeek": 15
         },
         {
          "0": 81,
          "1": 24,
          "2": 13,
          "3": 5,
          "4": 2,
          "5": 1,
          "6": 0,
          "7": 0,
          "8": 0,
          "9": 0,
          "10": 0,
          "11": 0,
          "shWeek": 16
         },
         {
          "0": 90,
          "1": 24,
          "2": 15,
          "3": 7,
          "4": 2,
          "5": 1,
          "6": 1,
          "7": 0,
          "8": 0,
          "9": 0,
          "10": 0,
          "11": 0,
          "shWeek": 17
         },
         {
          "0": 94,
          "1": 28,
          "2": 15,
          "3": 9,
          "4": 4,
          "5": 1,
          "6": 1,
          "7": 0,
          "8": 0,
          "9": 0,
          "10": 0,
          "11": 0,
          "shWeek": 18
         },
         {
          "0": 96,
          "1": 32,
          "2": 16,
          "3": 9,
          "4": 5,
          "5": 1,
          "6": 1,
          "7": 0,
          "8": 0,
          "9": 0,
          "10": 0,
          "11": 0,
          "shWeek": 19
         },
         {
          "0": 96,
          "1": 33,
          "2": 18,
          "3": 9,
          "4": 5,
          "5": 2,
          "6": 1,
          "7": 0,
          "8": 0,
          "9": 0,
          "10": 0,
          "11": 0,
          "shWeek": 20
         },
         {
          "0": 96,
          "1": 33,
          "2": 18,
          "3": 11,
          "4": 5,
          "5": 2,
          "6": 2,
          "7": 0,
          "8": 0,
          "9": 0,
          "10": 0,
          "11": 0,
          "shWeek": 21
         },
         {
          "0": 97,
          "1": 34,
          "2": 18,
          "3": 11,
          "4": 5,
          "5": 2,
          "6": 2,
          "7": 1,
          "8": 0,
          "9": 0,
          "10": 0,
          "11": 0,
          "shWeek": 22
         },
         {
          "0": 97,
          "1": 35,
          "2": 18,
          "3": 11,
          "4": 5,
          "5": 2,
          "6": 2,
          "7": 2,
          "8": 0,
          "9": 0,
          "10": 0,
          "11": 0,
          "shWeek": 23
         },
         {
          "0": 101,
          "1": 35,
          "2": 20,
          "3": 12,
          "4": 5,
          "5": 2,
          "6": 2,
          "7": 2,
          "8": 0,
          "9": 0,
          "10": 0,
          "11": 0,
          "shWeek": 24
         },
         {
          "0": 101,
          "1": 35,
          "2": 20,
          "3": 12,
          "4": 5,
          "5": 2,
          "6": 2,
          "7": 2,
          "8": 0,
          "9": 0,
          "10": 0,
          "11": 0,
          "shWeek": 25
         },
         {
          "0": 101,
          "1": 35,
          "2": 22,
          "3": 12,
          "4": 8,
          "5": 3,
          "6": 2,
          "7": 2,
          "8": 1,
          "9": 0,
          "10": 0,
          "11": 0,
          "shWeek": 26
         },
         {
          "0": 105,
          "1": 37,
          "2": 23,
          "3": 12,
          "4": 9,
          "5": 4,
          "6": 2,
          "7": 2,
          "8": 1,
          "9": 0,
          "10": 0,
          "11": 0,
          "shWeek": 27
         },
         {
          "0": 106,
          "1": 37,
          "2": 23,
          "3": 14,
          "4": 9,
          "5": 5,
          "6": 3,
          "7": 2,
          "8": 1,
          "9": 0,
          "10": 0,
          "11": 0,
          "shWeek": 28
         },
         {
          "0": 106,
          "1": 37,
          "2": 24,
          "3": 15,
          "4": 9,
          "5": 6,
          "6": 3,
          "7": 2,
          "8": 1,
          "9": 0,
          "10": 0,
          "11": 0,
          "shWeek": 29
         },
         {
          "0": 118,
          "1": 41,
          "2": 26,
          "3": 16,
          "4": 9,
          "5": 6,
          "6": 3,
          "7": 2,
          "8": 1,
          "9": 1,
          "10": 0,
          "11": 0,
          "shWeek": 30
         },
         {
          "0": 119,
          "1": 41,
          "2": 26,
          "3": 16,
          "4": 9,
          "5": 6,
          "6": 3,
          "7": 3,
          "8": 1,
          "9": 1,
          "10": 0,
          "11": 0,
          "shWeek": 31
         },
         {
          "0": 119,
          "1": 42,
          "2": 26,
          "3": 16,
          "4": 9,
          "5": 6,
          "6": 3,
          "7": 3,
          "8": 1,
          "9": 1,
          "10": 0,
          "11": 0,
          "shWeek": 32
         },
         {
          "0": 120,
          "1": 43,
          "2": 28,
          "3": 16,
          "4": 9,
          "5": 6,
          "6": 3,
          "7": 3,
          "8": 1,
          "9": 1,
          "10": 0,
          "11": 0,
          "shWeek": 33
         },
         {
          "0": 123,
          "1": 44,
          "2": 28,
          "3": 18,
          "4": 9,
          "5": 6,
          "6": 3,
          "7": 3,
          "8": 1,
          "9": 1,
          "10": 0,
          "11": 0,
          "shWeek": 34
         },
         {
          "0": 125,
          "1": 45,
          "2": 28,
          "3": 18,
          "4": 11,
          "5": 6,
          "6": 3,
          "7": 3,
          "8": 2,
          "9": 1,
          "10": 0,
          "11": 0,
          "shWeek": 35
         },
         {
          "0": 125,
          "1": 45,
          "2": 29,
          "3": 20,
          "4": 12,
          "5": 6,
          "6": 3,
          "7": 3,
          "8": 2,
          "9": 1,
          "10": 0,
          "11": 0,
          "shWeek": 36
         },
         {
          "0": 126,
          "1": 45,
          "2": 29,
          "3": 20,
          "4": 13,
          "5": 6,
          "6": 5,
          "7": 3,
          "8": 2,
          "9": 2,
          "10": 0,
          "11": 0,
          "shWeek": 37
         },
         {
          "0": 127,
          "1": 45,
          "2": 29,
          "3": 21,
          "4": 15,
          "5": 7,
          "6": 5,
          "7": 3,
          "8": 2,
          "9": 2,
          "10": 0,
          "11": 0,
          "shWeek": 38
         },
         {
          "0": 127,
          "1": 45,
          "2": 29,
          "3": 21,
          "4": 15,
          "5": 7,
          "6": 5,
          "7": 3,
          "8": 2,
          "9": 2,
          "10": 0,
          "11": 0,
          "shWeek": 39
         },
         {
          "0": 127,
          "1": 45,
          "2": 29,
          "3": 21,
          "4": 15,
          "5": 10,
          "6": 5,
          "7": 3,
          "8": 2,
          "9": 2,
          "10": 0,
          "11": 0,
          "shWeek": 40
         },
         {
          "0": 127,
          "1": 45,
          "2": 29,
          "3": 21,
          "4": 15,
          "5": 10,
          "6": 5,
          "7": 3,
          "8": 2,
          "9": 2,
          "10": 0,
          "11": 0,
          "shWeek": 41
         },
         {
          "0": 128,
          "1": 45,
          "2": 29,
          "3": 21,
          "4": 16,
          "5": 10,
          "6": 6,
          "7": 3,
          "8": 2,
          "9": 2,
          "10": 0,
          "11": 0,
          "shWeek": 42
         },
         {
          "0": 129,
          "1": 45,
          "2": 29,
          "3": 21,
          "4": 16,
          "5": 10,
          "6": 6,
          "7": 3,
          "8": 2,
          "9": 2,
          "10": 0,
          "11": 0,
          "shWeek": 43
         },
         {
          "0": 129,
          "1": 46,
          "2": 29,
          "3": 21,
          "4": 16,
          "5": 10,
          "6": 6,
          "7": 3,
          "8": 2,
          "9": 2,
          "10": 0,
          "11": 0,
          "shWeek": 44
         },
         {
          "0": 129,
          "1": 46,
          "2": 29,
          "3": 21,
          "4": 17,
          "5": 11,
          "6": 7,
          "7": 3,
          "8": 2,
          "9": 2,
          "10": 1,
          "11": 0,
          "shWeek": 45
         },
         {
          "0": 130,
          "1": 46,
          "2": 29,
          "3": 21,
          "4": 17,
          "5": 11,
          "6": 8,
          "7": 3,
          "8": 2,
          "9": 2,
          "10": 1,
          "11": 0,
          "shWeek": 46
         },
         {
          "0": 132,
          "1": 47,
          "2": 29,
          "3": 21,
          "4": 17,
          "5": 12,
          "6": 9,
          "7": 4,
          "8": 3,
          "9": 2,
          "10": 1,
          "11": 0,
          "shWeek": 47
         },
         {
          "0": 133,
          "1": 48,
          "2": 30,
          "3": 22,
          "4": 17,
          "5": 12,
          "6": 9,
          "7": 5,
          "8": 3,
          "9": 2,
          "10": 1,
          "11": 0,
          "shWeek": 48
         },
         {
          "0": 137,
          "1": 48,
          "2": 30,
          "3": 22,
          "4": 17,
          "5": 14,
          "6": 9,
          "7": 6,
          "8": 4,
          "9": 2,
          "10": 1,
          "11": 0,
          "shWeek": 49
         },
         {
          "0": 137,
          "1": 50,
          "2": 30,
          "3": 22,
          "4": 17,
          "5": 14,
          "6": 9,
          "7": 7,
          "8": 6,
          "9": 3,
          "10": 2,
          "11": 1,
          "shWeek": 50
         },
         {
          "0": 137,
          "1": 51,
          "2": 30,
          "3": 22,
          "4": 17,
          "5": 14,
          "6": 9,
          "7": 8,
          "8": 6,
          "9": 3,
          "10": 2,
          "11": 1,
          "shWeek": 51
         },
         {
          "0": 139,
          "1": 52,
          "2": 31,
          "3": 23,
          "4": 17,
          "5": 14,
          "6": 9,
          "7": 8,
          "8": 6,
          "9": 4,
          "10": 2,
          "11": 1,
          "shWeek": 52
         }
        ]
       },
       "height": 250,
       "layer": [
        {
         "data": {
          "name": "data-636991b9bc4d841d17b0db5361fa13e8"
         },
         "encoding": {
          "color": {
           "field": "Repeat Level",
           "type": "nominal"
          },
          "x": {
           "axis": {
            "labelExpr": "datum.value",
            "title": "Week",
            "values": [
             0,
             4,
             8,
             12,
             16,
             20,
             24,
             28,
             32,
             36,
             40,
             44,
             48,
             52
            ]
           },
           "field": "shWeek",
           "scale": {
            "domain": [
             0,
             52
            ]
           },
           "type": "quantitative"
          },
          "y": {
           "field": "Cum DoR",
           "scale": {
            "domain": [
             0,
             40
            ]
           },
           "title": "Cumulative Sales (# transactions)",
           "type": "quantitative"
          }
         },
         "mark": {
          "strokeDash": [
           1,
           0
          ],
          "strokeWidth": 2,
          "type": "line"
         },
         "transform": [
          {
           "as": [
            "Repeat Level",
            "Cum DoR"
           ],
           "fold": [
            "2",
            "3",
            "4",
            "5",
            "6"
           ]
          }
         ]
        },
        {
         "data": {
          "name": "data-5a6ab0269bf55aa05bfd45c01593b14d"
         },
         "encoding": {
          "color": {
           "field": "Repeat Level",
           "type": "nominal"
          },
          "x": {
           "axis": {
            "labelExpr": "datum.value",
            "title": "Week",
            "values": [
             0,
             4,
             8,
             12,
             16,
             20,
             24,
             28,
             32,
             36,
             40,
             44,
             48,
             52
            ]
           },
           "field": "shWeek",
           "scale": {
            "domain": [
             0,
             52
            ]
           },
           "type": "quantitative"
          },
          "y": {
           "field": "Cum DoR",
           "scale": {
            "domain": [
             0,
             40
            ]
           },
           "title": "Cumulative Sales (# transactions)",
           "type": "quantitative"
          }
         },
         "mark": {
          "strokeDash": [
           5,
           3
          ],
          "strokeWidth": 2,
          "type": "line"
         },
         "transform": [
          {
           "as": [
            "Repeat Level",
            "Cum DoR"
           ],
           "fold": [
            "2",
            "3",
            "4",
            "5",
            "6"
           ]
          }
         ]
        }
       ],
       "title": "Actual Vs. Predicted Cumulative Sales by Depth of Repeat Level",
       "width": 650
      },
      "text/plain": [
       "<VegaLite 5 object>\n",
       "\n",
       "If you see this message, it means the renderer has not been properly enabled\n",
       "for the frontend that you are using. For more information, see\n",
       "https://altair-viz.github.io/user_guide/display_frontends.html#troubleshooting\n"
      ]
     },
     "execution_count": 46,
     "metadata": {},
     "output_type": "execute_result"
    }
   ],
   "source": [
    "est_cum_trans = pl.DataFrame({\n",
    "    'shWeek': [i for i in range(1, 53, 1)],\n",
    "    '2': repeat[:,1],\n",
    "    '3': repeat[:,2],\n",
    "    '4': repeat[:,3],\n",
    "    '5': repeat[:,4],\n",
    "    '6': repeat[:,5],\n",
    "})\n",
    "\n",
    "actual_curve = (\n",
    "    ChartTemp(sh_cum_trans_wideform)\n",
    "    .transform_fold(['2', '3', '4', '5', '6'], as_=['Repeat Level', 'Cum DoR'])\n",
    "    .line_encode(y_col='Cum DoR:Q', y_title='Cumulative Sales (# transactions)', color='Repeat Level:N', x_col='shWeek', y_scale=alt.Scale(domain=[0, 40]))\n",
    ")\n",
    "\n",
    "estimated_curve = (\n",
    "    ChartTemp(est_cum_trans)\n",
    "    .transform_fold(['2', '3', '4', '5', '6'], as_=['Repeat Level', 'Cum DoR'])\n",
    "    .line_encode(y_col='Cum DoR:Q', y_title='Cumulative Sales (# transactions)', color='Repeat Level:N', x_col='shWeek', y_scale=alt.Scale(domain=[0, 40]), dash=[5,3])\n",
    ")\n",
    "\n",
    "combined_curve = actual_curve + estimated_curve\n",
    "\n",
    "layered_line_prop(combined_curve, 'Actual Vs. Predicted Cumulative Sales by Depth of Repeat Level')"
   ]
  },
  {
   "cell_type": "code",
   "execution_count": 47,
   "metadata": {},
   "outputs": [
    {
     "data": {
      "application/vnd.vegalite.v5+json": {
       "$schema": "https://vega.github.io/schema/vega-lite/v5.20.1.json",
       "config": {
        "axisX": {
         "grid": false
        },
        "axisY": {
         "grid": false
        },
        "view": {
         "continuousHeight": 300,
         "continuousWidth": 300,
         "stroke": null
        }
       },
       "datasets": {
        "data-14af2c719777932de7be45f5a594bb10": [
         {
          "AR(t)": 0,
          "FR(t)": 0,
          "S(t)": 8,
          "T(t)": 8,
          "Week (t)": 1
         },
         {
          "AR(t)": 0,
          "FR(t)": 1,
          "S(t)": 15,
          "T(t)": 14,
          "Week (t)": 2
         },
         {
          "AR(t)": 0,
          "FR(t)": 2,
          "S(t)": 18,
          "T(t)": 16,
          "Week (t)": 3
         },
         {
          "AR(t)": 0,
          "FR(t)": 3,
          "S(t)": 35,
          "T(t)": 32,
          "Week (t)": 4
         },
         {
          "AR(t)": 0,
          "FR(t)": 7,
          "S(t)": 47,
          "T(t)": 40,
          "Week (t)": 5
         },
         {
          "AR(t)": 2,
          "FR(t)": 9,
          "S(t)": 58,
          "T(t)": 47,
          "Week (t)": 6
         },
         {
          "AR(t)": 3,
          "FR(t)": 12,
          "S(t)": 65,
          "T(t)": 50,
          "Week (t)": 7
         },
         {
          "AR(t)": 4,
          "FR(t)": 13,
          "S(t)": 69,
          "T(t)": 52,
          "Week (t)": 8
         },
         {
          "AR(t)": 7,
          "FR(t)": 17,
          "S(t)": 81,
          "T(t)": 57,
          "Week (t)": 9
         },
         {
          "AR(t)": 9,
          "FR(t)": 18,
          "S(t)": 87,
          "T(t)": 60,
          "Week (t)": 10
         },
         {
          "AR(t)": 13,
          "FR(t)": 22,
          "S(t)": 100,
          "T(t)": 65,
          "Week (t)": 11
         },
         {
          "AR(t)": 15,
          "FR(t)": 23,
          "S(t)": 105,
          "T(t)": 67,
          "Week (t)": 12
         },
         {
          "AR(t)": 16,
          "FR(t)": 23,
          "S(t)": 107,
          "T(t)": 68,
          "Week (t)": 13
         },
         {
          "AR(t)": 18,
          "FR(t)": 23,
          "S(t)": 113,
          "T(t)": 72,
          "Week (t)": 14
         },
         {
          "AR(t)": 19,
          "FR(t)": 23,
          "S(t)": 117,
          "T(t)": 75,
          "Week (t)": 15
         },
         {
          "AR(t)": 21,
          "FR(t)": 24,
          "S(t)": 126,
          "T(t)": 81,
          "Week (t)": 16
         },
         {
          "AR(t)": 26,
          "FR(t)": 24,
          "S(t)": 140,
          "T(t)": 90,
          "Week (t)": 17
         },
         {
          "AR(t)": 30,
          "FR(t)": 28,
          "S(t)": 152,
          "T(t)": 94,
          "Week (t)": 18
         },
         {
          "AR(t)": 32,
          "FR(t)": 32,
          "S(t)": 160,
          "T(t)": 96,
          "Week (t)": 19
         },
         {
          "AR(t)": 35,
          "FR(t)": 33,
          "S(t)": 164,
          "T(t)": 96,
          "Week (t)": 20
         },
         {
          "AR(t)": 38,
          "FR(t)": 33,
          "S(t)": 167,
          "T(t)": 96,
          "Week (t)": 21
         },
         {
          "AR(t)": 39,
          "FR(t)": 34,
          "S(t)": 170,
          "T(t)": 97,
          "Week (t)": 22
         },
         {
          "AR(t)": 40,
          "FR(t)": 35,
          "S(t)": 172,
          "T(t)": 97,
          "Week (t)": 23
         },
         {
          "AR(t)": 43,
          "FR(t)": 35,
          "S(t)": 179,
          "T(t)": 101,
          "Week (t)": 24
         },
         {
          "AR(t)": 43,
          "FR(t)": 35,
          "S(t)": 179,
          "T(t)": 101,
          "Week (t)": 25
         },
         {
          "AR(t)": 50,
          "FR(t)": 35,
          "S(t)": 186,
          "T(t)": 101,
          "Week (t)": 26
         },
         {
          "AR(t)": 53,
          "FR(t)": 37,
          "S(t)": 195,
          "T(t)": 105,
          "Week (t)": 27
         },
         {
          "AR(t)": 57,
          "FR(t)": 37,
          "S(t)": 200,
          "T(t)": 106,
          "Week (t)": 28
         },
         {
          "AR(t)": 60,
          "FR(t)": 37,
          "S(t)": 203,
          "T(t)": 106,
          "Week (t)": 29
         },
         {
          "AR(t)": 64,
          "FR(t)": 41,
          "S(t)": 223,
          "T(t)": 118,
          "Week (t)": 30
         },
         {
          "AR(t)": 65,
          "FR(t)": 41,
          "S(t)": 225,
          "T(t)": 119,
          "Week (t)": 31
         },
         {
          "AR(t)": 65,
          "FR(t)": 42,
          "S(t)": 226,
          "T(t)": 119,
          "Week (t)": 32
         },
         {
          "AR(t)": 67,
          "FR(t)": 43,
          "S(t)": 230,
          "T(t)": 120,
          "Week (t)": 33
         },
         {
          "AR(t)": 69,
          "FR(t)": 44,
          "S(t)": 236,
          "T(t)": 123,
          "Week (t)": 34
         },
         {
          "AR(t)": 72,
          "FR(t)": 45,
          "S(t)": 242,
          "T(t)": 125,
          "Week (t)": 35
         },
         {
          "AR(t)": 76,
          "FR(t)": 45,
          "S(t)": 246,
          "T(t)": 125,
          "Week (t)": 36
         },
         {
          "AR(t)": 80,
          "FR(t)": 45,
          "S(t)": 251,
          "T(t)": 126,
          "Week (t)": 37
         },
         {
          "AR(t)": 84,
          "FR(t)": 45,
          "S(t)": 256,
          "T(t)": 127,
          "Week (t)": 38
         },
         {
          "AR(t)": 84,
          "FR(t)": 45,
          "S(t)": 256,
          "T(t)": 127,
          "Week (t)": 39
         },
         {
          "AR(t)": 87,
          "FR(t)": 45,
          "S(t)": 259,
          "T(t)": 127,
          "Week (t)": 40
         },
         {
          "AR(t)": 87,
          "FR(t)": 45,
          "S(t)": 259,
          "T(t)": 127,
          "Week (t)": 41
         },
         {
          "AR(t)": 89,
          "FR(t)": 45,
          "S(t)": 262,
          "T(t)": 128,
          "Week (t)": 42
         },
         {
          "AR(t)": 89,
          "FR(t)": 45,
          "S(t)": 263,
          "T(t)": 129,
          "Week (t)": 43
         },
         {
          "AR(t)": 89,
          "FR(t)": 46,
          "S(t)": 264,
          "T(t)": 129,
          "Week (t)": 44
         },
         {
          "AR(t)": 93,
          "FR(t)": 46,
          "S(t)": 268,
          "T(t)": 129,
          "Week (t)": 45
         },
         {
          "AR(t)": 94,
          "FR(t)": 46,
          "S(t)": 270,
          "T(t)": 130,
          "Week (t)": 46
         },
         {
          "AR(t)": 98,
          "FR(t)": 47,
          "S(t)": 277,
          "T(t)": 132,
          "Week (t)": 47
         },
         {
          "AR(t)": 101,
          "FR(t)": 48,
          "S(t)": 282,
          "T(t)": 133,
          "Week (t)": 48
         },
         {
          "AR(t)": 105,
          "FR(t)": 48,
          "S(t)": 290,
          "T(t)": 137,
          "Week (t)": 49
         },
         {
          "AR(t)": 111,
          "FR(t)": 50,
          "S(t)": 298,
          "T(t)": 137,
          "Week (t)": 50
         },
         {
          "AR(t)": 112,
          "FR(t)": 51,
          "S(t)": 300,
          "T(t)": 137,
          "Week (t)": 51
         },
         {
          "AR(t)": 115,
          "FR(t)": 52,
          "S(t)": 306,
          "T(t)": 139,
          "Week (t)": 52
         }
        ],
        "data-9c428dd96bbd08a49574eb81d6ff4406": [
         {
          "AR(t)": 0,
          "Week (t)": 1
         },
         {
          "AR(t)": 0,
          "Week (t)": 2
         },
         {
          "AR(t)": 0.15067761126817253,
          "Week (t)": 3
         },
         {
          "AR(t)": 0.5296483807794838,
          "Week (t)": 4
         },
         {
          "AR(t)": 1.1700913448099364,
          "Week (t)": 5
         },
         {
          "AR(t)": 2.078642144561402,
          "Week (t)": 6
         },
         {
          "AR(t)": 3.24653631452272,
          "Week (t)": 7
         },
         {
          "AR(t)": 4.65651148406325,
          "Week (t)": 8
         },
         {
          "AR(t)": 6.2870483569250535,
          "Week (t)": 9
         },
         {
          "AR(t)": 8.114944986544463,
          "Week (t)": 10
         },
         {
          "AR(t)": 10.116850048721638,
          "Week (t)": 11
         },
         {
          "AR(t)": 12.270148471365012,
          "Week (t)": 12
         },
         {
          "AR(t)": 14.55344645049621,
          "Week (t)": 13
         },
         {
          "AR(t)": 16.946810753528773,
          "Week (t)": 14
         },
         {
          "AR(t)": 19.431859235479347,
          "Week (t)": 15
         },
         {
          "AR(t)": 21.99176303436411,
          "Week (t)": 16
         },
         {
          "AR(t)": 24.611198004315764,
          "Week (t)": 17
         },
         {
          "AR(t)": 27.276268569981728,
          "Week (t)": 18
         },
         {
          "AR(t)": 29.974418181059438,
          "Week (t)": 19
         },
         {
          "AR(t)": 32.694334919018736,
          "Week (t)": 20
         },
         {
          "AR(t)": 35.42585730422993,
          "Week (t)": 21
         },
         {
          "AR(t)": 38.159883180666725,
          "Week (t)": 22
         },
         {
          "AR(t)": 40.88828321972,
          "Week (t)": 23
         },
         {
          "AR(t)": 43.60381977156735,
          "Week (t)": 24
         },
         {
          "AR(t)": 46.30007130532114,
          "Week (t)": 25
         },
         {
          "AR(t)": 48.97136239432306,
          "Week (t)": 26
         },
         {
          "AR(t)": 51.61269904302722,
          "Week (t)": 27
         },
         {
          "AR(t)": 54.21970906844629,
          "Week (t)": 28
         },
         {
          "AR(t)": 56.788587211878855,
          "Week (t)": 29
         },
         {
          "AR(t)": 59.31604464677798,
          "Week (t)": 30
         },
         {
          "AR(t)": 61.79926255452687,
          "Week (t)": 31
         },
         {
          "AR(t)": 64.23584945441291,
          "Week (t)": 32
         },
         {
          "AR(t)": 66.62380199289915,
          "Week (t)": 33
         },
         {
          "AR(t)": 68.96146891778771,
          "Week (t)": 34
         },
         {
          "AR(t)": 71.2475179835439,
          "Week (t)": 35
         },
         {
          "AR(t)": 73.4809055540517,
          "Week (t)": 36
         },
         {
          "AR(t)": 75.66084868796415,
          "Week (t)": 37
         },
         {
          "AR(t)": 77.78679950939144,
          "Week (t)": 38
         },
         {
          "AR(t)": 79.85842168288403,
          "Week (t)": 39
         },
         {
          "AR(t)": 81.8755688265386,
          "Week (t)": 40
         },
         {
          "AR(t)": 83.83826471065392,
          "Week (t)": 41
         },
         {
          "AR(t)": 85.74668510177514,
          "Week (t)": 42
         },
         {
          "AR(t)": 87.60114112329138,
          "Week (t)": 43
         },
         {
          "AR(t)": 89.4020640140833,
          "Week (t)": 44
         },
         {
          "AR(t)": 91.1499911761505,
          "Week (t)": 45
         },
         {
          "AR(t)": 92.84555341076523,
          "Week (t)": 46
         },
         {
          "AR(t)": 94.48946325057877,
          "Week (t)": 47
         },
         {
          "AR(t)": 96.08250430232037,
          "Week (t)": 48
         },
         {
          "AR(t)": 97.6255215213381,
          "Week (t)": 49
         },
         {
          "AR(t)": 99.11941234529405,
          "Week (t)": 50
         },
         {
          "AR(t)": 100.56511861989571,
          "Week (t)": 51
         },
         {
          "AR(t)": 101.96361925466147,
          "Week (t)": 52
         }
        ]
       },
       "height": 250,
       "layer": [
        {
         "data": {
          "name": "data-14af2c719777932de7be45f5a594bb10"
         },
         "encoding": {
          "color": {},
          "x": {
           "axis": {
            "labelExpr": "datum.value",
            "title": "Week",
            "values": [
             0,
             4,
             8,
             12,
             16,
             20,
             24,
             28,
             32,
             36,
             40,
             44,
             48,
             52
            ]
           },
           "field": "Week (t)",
           "scale": {
            "domain": [
             0,
             52
            ]
           },
           "type": "quantitative"
          },
          "y": {
           "field": "AR(t)",
           "scale": {},
           "title": "Cumulative AR Sales (# of Transactions)",
           "type": "quantitative"
          }
         },
         "mark": {
          "strokeDash": [
           1,
           0
          ],
          "strokeWidth": 2,
          "type": "line"
         }
        },
        {
         "data": {
          "name": "data-9c428dd96bbd08a49574eb81d6ff4406"
         },
         "encoding": {
          "color": {},
          "x": {
           "axis": {
            "labelExpr": "datum.value",
            "title": "Week",
            "values": [
             0,
             4,
             8,
             12,
             16,
             20,
             24,
             28,
             32,
             36,
             40,
             44,
             48,
             52
            ]
           },
           "field": "Week (t)",
           "scale": {
            "domain": [
             0,
             52
            ]
           },
           "type": "quantitative"
          },
          "y": {
           "field": "AR(t)",
           "scale": {},
           "title": "Cumulative AR Sales (# of Transactions)",
           "type": "quantitative"
          }
         },
         "mark": {
          "strokeDash": [
           5,
           3
          ],
          "strokeWidth": 2,
          "type": "line"
         }
        }
       ],
       "title": "Cumulative Additional Repeat Forecast",
       "width": 650
      },
      "text/plain": [
       "<VegaLite 5 object>\n",
       "\n",
       "If you see this message, it means the renderer has not been properly enabled\n",
       "for the frontend that you are using. For more information, see\n",
       "https://altair-viz.github.io/user_guide/display_frontends.html#troubleshooting\n"
      ]
     },
     "execution_count": 47,
     "metadata": {},
     "output_type": "execute_result"
    }
   ],
   "source": [
    "forecast_df = pl.DataFrame({\n",
    "    'Week (t)': t,\n",
    "    'AR(t)': np.sum(repeat[:,1:], axis=1)\n",
    "})\n",
    "\n",
    "actual_ar_curve = (\n",
    "    ChartTemp(modified_cum_trans)\n",
    "    .line_encode('AR(t):Q', y_title='Cumulative AR Sales (# of Transactions)')\n",
    ")\n",
    "\n",
    "froecast_ar_curve = (\n",
    "    ChartTemp(forecast_df)\n",
    "    .line_encode('AR(t):Q', y_title='Cumulative AR Sales (# of Transactions)', dash=[5,3])\n",
    ")\n",
    "\n",
    "ar_chart = actual_ar_curve + froecast_ar_curve\n",
    "\n",
    "layered_line_prop(ar_chart, 'Cumulative Additional Repeat Forecast')"
   ]
  },
  {
   "cell_type": "code",
   "execution_count": 48,
   "metadata": {},
   "outputs": [
    {
     "data": {
      "text/markdown": [
       "Additional Repeat Forecast Index: = **89**"
      ]
     },
     "metadata": {},
     "output_type": "display_data"
    }
   ],
   "source": [
    "ar_forecast_index = forecast_df.select('AR(t)').item(-1,0) / modified_cum_trans.select('AR(t)').item(-1,0) * 100\n",
    "\n",
    "display_markdown(f'''Additional Repeat Forecast Index: = **{ar_forecast_index:0.0f}**''', raw=True)"
   ]
  },
  {
   "cell_type": "markdown",
   "metadata": {},
   "source": [
    "#### Bringing It All Together"
   ]
  },
  {
   "cell_type": "code",
   "execution_count": 49,
   "metadata": {},
   "outputs": [
    {
     "data": {
      "text/markdown": [
       "Our forecast horizon is 52 weeks and we allow for up to 51 level of repeats.\n",
       "\n",
       "**Trial Model Parameters:**\n",
       "- $P_0$ = 0.0862\n",
       "- $\\theta_{T}$ = 0.0643\n",
       "\n",
       "**First Repeat Model Parameters:**\n",
       "- $P_1$ = 0.3635\n",
       "- $\\theta_{FR}$ = 0.4614\n",
       "\n",
       "**Additioanl Repeat Model Parameters:**\n",
       "- $p_{\\infty}$ = 0.7816\n",
       "- $\\gamma$ = 1.0014\n",
       "- $\\theta_{AR}$ = 0.2309"
      ]
     },
     "metadata": {},
     "output_type": "display_data"
    }
   ],
   "source": [
    "display_markdown(f'''Our forecast horizon is {endwk} weeks and we allow for up to {endwk-1} level of repeats.\n",
    "\n",
    "**Trial Model Parameters:**\n",
    "- $P_{0}$ = {p_0:0.4f}\n",
    "- $\\\\theta_{{T}}$ = {theta_T:0.4f}\n",
    "\n",
    "**First Repeat Model Parameters:**\n",
    "- $P_{1}$ = {p_1:0.4f}\n",
    "- $\\\\theta_{{FR}}$ = {theta_FR:0.4f}\n",
    "\n",
    "**Additioanl Repeat Model Parameters:**\n",
    "- $p_{{\\\\infty}}$ = {p_inf:0.4f}\n",
    "- $\\\\gamma$ = {gamma:0.4f}\n",
    "- $\\\\theta_{{AR}}$ = {theta_AR:0.4f}''', raw=True)"
   ]
  },
  {
   "cell_type": "markdown",
   "metadata": {},
   "source": [
    "We can now compute $A R(t)=R_{2}(t)+\\cdots+R_{52}(t)$, and print out our forecasts of $T(t), F R(t), A R(t)$, and $S(t)(=T(t)+F R(t)+A R(t))$."
   ]
  },
  {
   "cell_type": "code",
   "execution_count": 50,
   "metadata": {},
   "outputs": [
    {
     "data": {
      "text/html": [
       "<div><style>\n",
       ".dataframe > thead > tr,\n",
       ".dataframe > tbody > tr {\n",
       "  text-align: right;\n",
       "  white-space: pre-wrap;\n",
       "}\n",
       "</style>\n",
       "<small>shape: (52, 5)</small><table border=\"1\" class=\"dataframe\"><thead><tr><th>Week (t)</th><th>T(t)</th><th>FR(t)</th><th>AR(t)</th><th>S(t)</th></tr><tr><td>i64</td><td>f64</td><td>f64</td><td>f64</td><td>f64</td></tr></thead><tbody><tr><td>1</td><td>8.045171</td><td>0.0</td><td>0.0</td><td>8.045171</td></tr><tr><td>2</td><td>15.589432</td><td>1.080748</td><td>0.0</td><td>16.670179</td></tr><tr><td>3</td><td>22.663971</td><td>2.775513</td><td>0.150678</td><td>25.590161</td></tr><tr><td>4</td><td>29.298033</td><td>4.794256</td><td>0.529648</td><td>34.621938</td></tr><tr><td>5</td><td>35.519045</td><td>6.958065</td><td>1.170091</td><td>43.647202</td></tr><tr><td>&hellip;</td><td>&hellip;</td><td>&hellip;</td><td>&hellip;</td><td>&hellip;</td></tr><tr><td>48</td><td>123.309437</td><td>44.383697</td><td>96.082504</td><td>263.775638</td></tr><tr><td>49</td><td>123.677096</td><td>44.544399</td><td>97.625522</td><td>265.847016</td></tr><tr><td>50</td><td>124.021863</td><td>44.695096</td><td>99.119412</td><td>267.836371</td></tr><tr><td>51</td><td>124.345164</td><td>44.836409</td><td>100.565119</td><td>269.746692</td></tr><tr><td>52</td><td>124.648336</td><td>44.968925</td><td>101.963619</td><td>271.58088</td></tr></tbody></table></div>"
      ],
      "text/plain": [
       "shape: (52, 5)\n",
       "┌──────────┬────────────┬───────────┬────────────┬────────────┐\n",
       "│ Week (t) ┆ T(t)       ┆ FR(t)     ┆ AR(t)      ┆ S(t)       │\n",
       "│ ---      ┆ ---        ┆ ---       ┆ ---        ┆ ---        │\n",
       "│ i64      ┆ f64        ┆ f64       ┆ f64        ┆ f64        │\n",
       "╞══════════╪════════════╪═══════════╪════════════╪════════════╡\n",
       "│ 1        ┆ 8.045171   ┆ 0.0       ┆ 0.0        ┆ 8.045171   │\n",
       "│ 2        ┆ 15.589432  ┆ 1.080748  ┆ 0.0        ┆ 16.670179  │\n",
       "│ 3        ┆ 22.663971  ┆ 2.775513  ┆ 0.150678   ┆ 25.590161  │\n",
       "│ 4        ┆ 29.298033  ┆ 4.794256  ┆ 0.529648   ┆ 34.621938  │\n",
       "│ 5        ┆ 35.519045  ┆ 6.958065  ┆ 1.170091   ┆ 43.647202  │\n",
       "│ …        ┆ …          ┆ …         ┆ …          ┆ …          │\n",
       "│ 48       ┆ 123.309437 ┆ 44.383697 ┆ 96.082504  ┆ 263.775638 │\n",
       "│ 49       ┆ 123.677096 ┆ 44.544399 ┆ 97.625522  ┆ 265.847016 │\n",
       "│ 50       ┆ 124.021863 ┆ 44.695096 ┆ 99.119412  ┆ 267.836371 │\n",
       "│ 51       ┆ 124.345164 ┆ 44.836409 ┆ 100.565119 ┆ 269.746692 │\n",
       "│ 52       ┆ 124.648336 ┆ 44.968925 ┆ 101.963619 ┆ 271.58088  │\n",
       "└──────────┴────────────┴───────────┴────────────┴────────────┘"
      ]
     },
     "execution_count": 50,
     "metadata": {},
     "output_type": "execute_result"
    }
   ],
   "source": [
    "ar = np.sum(repeat[:,1:], axis=1)\n",
    "totals = cum_trial + np.sum(repeat, axis=1)\n",
    "\n",
    "forecast_df = pl.DataFrame({\n",
    "    'Week (t)': t,\n",
    "    'T(t)': cum_trial,\n",
    "    'FR(t)': repeat[:,0],\n",
    "    'AR(t)': ar,\n",
    "    'S(t)': totals\n",
    "})\n",
    "\n",
    "forecast_df"
   ]
  },
  {
   "cell_type": "code",
   "execution_count": 51,
   "metadata": {},
   "outputs": [
    {
     "data": {
      "application/vnd.vegalite.v5+json": {
       "$schema": "https://vega.github.io/schema/vega-lite/v5.20.1.json",
       "config": {
        "axisX": {
         "grid": false
        },
        "axisY": {
         "grid": false
        },
        "view": {
         "continuousHeight": 300,
         "continuousWidth": 300,
         "stroke": null
        }
       },
       "data": {
        "name": "data-a7d086617524f0577d32b0258cb8f51a"
       },
       "datasets": {
        "data-a7d086617524f0577d32b0258cb8f51a": [
         {
          "AR(t)": 0,
          "FR(t)": 0,
          "S(t)": 8.045170660899128,
          "T(t)": 8.045170660899128,
          "Week (t)": 1
         },
         {
          "AR(t)": 0,
          "FR(t)": 1.080747715579142,
          "S(t)": 16.67017930455793,
          "T(t)": 15.589431588978789,
          "Week (t)": 2
         },
         {
          "AR(t)": 0.15067761126817253,
          "FR(t)": 2.7755126957396374,
          "S(t)": 25.59016081503899,
          "T(t)": 22.663970508031177,
          "Week (t)": 3
         },
         {
          "AR(t)": 0.5296483807794838,
          "FR(t)": 4.794256113028262,
          "S(t)": 34.621937820491546,
          "T(t)": 29.2980333266838,
          "Week (t)": 4
         },
         {
          "AR(t)": 1.1700913448099364,
          "FR(t)": 6.9580652736946895,
          "S(t)": 43.64720165851775,
          "T(t)": 35.519045040013125,
          "Week (t)": 5
         },
         {
          "AR(t)": 2.078642144561402,
          "FR(t)": 9.157837156058543,
          "S(t)": 52.58920240418222,
          "T(t)": 41.352723103562276,
          "Week (t)": 6
         },
         {
          "AR(t)": 3.24653631452272,
          "FR(t)": 11.328247605721728,
          "S(t)": 61.39796766869136,
          "T(t)": 46.82318374844691,
          "Week (t)": 7
         },
         {
          "AR(t)": 4.65651148406325,
          "FR(t)": 13.43135571145606,
          "S(t)": 70.04090887257206,
          "T(t)": 51.953041677052745,
          "Week (t)": 8
         },
         {
          "AR(t)": 6.2870483569250535,
          "FR(t)": 15.446281341829005,
          "S(t)": 78.49683325021725,
          "T(t)": 56.763503551463195,
          "Week (t)": 9
         },
         {
          "AR(t)": 8.114944986544463,
          "FR(t)": 17.36271038871205,
          "S(t)": 86.75211103635161,
          "T(t)": 61.2744556610951,
          "Week (t)": 10
         },
         {
          "AR(t)": 10.116850048721638,
          "FR(t)": 19.176812228007645,
          "S(t)": 94.79820840868717,
          "T(t)": 65.5045461319579,
          "Week (t)": 11
         },
         {
          "AR(t)": 12.270148471365012,
          "FR(t)": 20.88867711688588,
          "S(t)": 102.63008760563736,
          "T(t)": 69.47126201738647,
          "Week (t)": 12
         },
         {
          "AR(t)": 14.55344645049621,
          "FR(t)": 22.500711076457023,
          "S(t)": 110.2451591158912,
          "T(t)": 73.19100158893797,
          "Week (t)": 13
         },
         {
          "AR(t)": 16.946810753528773,
          "FR(t)": 24.01663373166275,
          "S(t)": 117.64258661149273,
          "T(t)": 76.6791421263012,
          "Week (t)": 14
         },
         {
          "AR(t)": 19.431859235479347,
          "FR(t)": 25.44085565276427,
          "S(t)": 124.82281837470313,
          "T(t)": 79.95010348645951,
          "Week (t)": 15
         },
         {
          "AR(t)": 21.99176303436411,
          "FR(t)": 26.77809436890594,
          "S(t)": 131.78726511816996,
          "T(t)": 83.01740771489992,
          "Week (t)": 16
         },
         {
          "AR(t)": 24.611198004315764,
          "FR(t)": 28.03314030965784,
          "S(t)": 138.53807325927315,
          "T(t)": 85.89373494529956,
          "Week (t)": 17
         },
         {
          "AR(t)": 27.276268569981728,
          "FR(t)": 29.210716763067836,
          "S(t)": 145.07796115182617,
          "T(t)": 88.59097581877661,
          "Week (t)": 18
         },
         {
          "AR(t)": 29.974418181059438,
          "FR(t)": 30.315398634489885,
          "S(t)": 151.4100974549546,
          "T(t)": 91.1202806394053,
          "Week (t)": 19
         },
         {
          "AR(t)": 32.694334919018736,
          "FR(t)": 31.351567835183424,
          "S(t)": 157.53800822340412,
          "T(t)": 93.49210546920197,
          "Week (t)": 20
         },
         {
          "AR(t)": 35.42585730422993,
          "FR(t)": 32.323391351306356,
          "S(t)": 163.46550400867426,
          "T(t)": 95.716255353138,
          "Week (t)": 21
         },
         {
          "AR(t)": 38.159883180666725,
          "FR(t)": 33.23481322516578,
          "S(t)": 169.19662125870192,
          "T(t)": 97.80192485286942,
          "Week (t)": 22
         },
         {
          "AR(t)": 40.88828321972,
          "FR(t)": 34.089554945268965,
          "S(t)": 174.73557422173815,
          "T(t)": 99.7577360567492,
          "Week (t)": 23
         },
         {
          "AR(t)": 43.60381977156735,
          "FR(t)": 34.891120798286394,
          "S(t)": 180.08671479310735,
          "T(t)": 101.5917742232536,
          "Week (t)": 24
         },
         {
          "AR(t)": 46.30007130532114,
          "FR(t)": 35.64280603110551,
          "S(t)": 185.25449854159868,
          "T(t)": 103.31162120517202,
          "Week (t)": 25
         },
         {
          "AR(t)": 48.97136239432306,
          "FR(t)": 36.347706486253884,
          "S(t)": 190.24345567331116,
          "T(t)": 104.92438679273421,
          "Week (t)": 26
         },
         {
          "AR(t)": 51.61269904302722,
          "FR(t)": 37.00872888657997,
          "S(t)": 195.05816603485374,
          "T(t)": 106.43673810524656,
          "Week (t)": 27
         },
         {
          "AR(t)": 54.21970906844629,
          "FR(t)": 37.62860126707446,
          "S(t)": 199.70323748826252,
          "T(t)": 107.85492715274178,
          "Week (t)": 28
         },
         {
          "AR(t)": 56.788587211878855,
          "FR(t)": 38.209883253618365,
          "S(t)": 204.18328714707752,
          "T(t)": 109.1848166815803,
          "Week (t)": 29
         },
         {
          "AR(t)": 59.31604464677798,
          "FR(t)": 38.754976014708085,
          "S(t)": 208.50292507233493,
          "T(t)": 110.43190441084887,
          "Week (t)": 30
         },
         {
          "AR(t)": 61.79926255452687,
          "FR(t)": 39.266131790851595,
          "S(t)": 212.6667401051268,
          "T(t)": 111.60134575974834,
          "Week (t)": 31
         },
         {
          "AR(t)": 64.23584945441291,
          "FR(t)": 39.745462955014446,
          "S(t)": 216.67928756935268,
          "T(t)": 112.6979751599253,
          "Week (t)": 32
         },
         {
          "AR(t)": 66.62380199289915,
          "FR(t)": 40.19495058734636,
          "S(t)": 220.54507862109716,
          "T(t)": 113.72632604085166,
          "Week (t)": 33
         },
         {
          "AR(t)": 68.96146891778771,
          "FR(t)": 40.6164525654526,
          "S(t)": 224.26857105411165,
          "T(t)": 114.69064957087134,
          "Week (t)": 34
         },
         {
          "AR(t)": 71.2475179835439,
          "FR(t)": 41.0117111821059,
          "S(t)": 227.85416139703864,
          "T(t)": 115.59493223138885,
          "Week (t)": 35
         },
         {
          "AR(t)": 73.4809055540517,
          "FR(t)": 41.38236030830538,
          "S(t)": 231.3061781592079,
          "T(t)": 116.44291229685085,
          "Week (t)": 36
         },
         {
          "AR(t)": 75.66084868796415,
          "FR(t)": 41.729932122730425,
          "S(t)": 234.62887609934293,
          "T(t)": 117.23809528864837,
          "Week (t)": 37
         },
         {
          "AR(t)": 77.78679950939144,
          "FR(t)": 42.05586343001019,
          "S(t)": 237.82643140622736,
          "T(t)": 117.9837684668257,
          "Week (t)": 38
         },
         {
          "AR(t)": 79.85842168288403,
          "FR(t)": 42.36150159052503,
          "S(t)": 240.90293769291307,
          "T(t)": 118.683014419504,
          "Week (t)": 39
         },
         {
          "AR(t)": 81.8755688265386,
          "FR(t)": 42.64811008410768,
          "S(t)": 243.86240271684454,
          "T(t)": 119.33872380619827,
          "Week (t)": 40
         },
         {
          "AR(t)": 83.83826471065392,
          "FR(t)": 42.91687372929204,
          "S(t)": 246.7087457476534,
          "T(t)": 119.95360730770746,
          "Week (t)": 41
         },
         {
          "AR(t)": 85.74668510177514,
          "FR(t)": 43.1689035788331,
          "S(t)": 249.4457955125871,
          "T(t)": 120.53020683197884,
          "Week (t)": 42
         },
         {
          "AR(t)": 87.60114112329138,
          "FR(t)": 43.405241511198305,
          "S(t)": 252.07728865676063,
          "T(t)": 121.07090602227096,
          "Week (t)": 43
         },
         {
          "AR(t)": 89.4020640140833,
          "FR(t)": 43.62686453667277,
          "S(t)": 254.60686866181155,
          "T(t)": 121.57794011105548,
          "Week (t)": 44
         },
         {
          "AR(t)": 91.1499911761505,
          "FR(t)": 43.83468883566577,
          "S(t)": 257.03808517221034,
          "T(t)": 122.05340516039405,
          "Week (t)": 45
         },
         {
          "AR(t)": 92.84555341076523,
          "FR(t)": 44.02957354577846,
          "S(t)": 259.37439368353273,
          "T(t)": 122.49926672698903,
          "Week (t)": 46
         },
         {
          "AR(t)": 94.48946325057877,
          "FR(t)": 44.21232431320304,
          "S(t)": 261.6191555515114,
          "T(t)": 122.91736798772959,
          "Week (t)": 47
         },
         {
          "AR(t)": 96.08250430232037,
          "FR(t)": 44.38369662308173,
          "S(t)": 263.77563828472574,
          "T(t)": 123.30943735932365,
          "Week (t)": 48
         },
         {
          "AR(t)": 97.6255215213381,
          "FR(t)": 44.54439892255908,
          "S(t)": 265.8470160874123,
          "T(t)": 123.67709564351516,
          "Week (t)": 49
         },
         {
          "AR(t)": 99.11941234529405,
          "FR(t)": 44.695095549416926,
          "S(t)": 267.8363706221354,
          "T(t)": 124.02186272742443,
          "Week (t)": 50
         },
         {
          "AR(t)": 100.56511861989571,
          "FR(t)": 44.83640947838584,
          "S(t)": 269.7466919649927,
          "T(t)": 124.34516386671115,
          "Week (t)": 51
         },
         {
          "AR(t)": 101.96361925466147,
          "FR(t)": 44.968924896477226,
          "S(t)": 271.58087972867247,
          "T(t)": 124.64833557753374,
          "Week (t)": 52
         }
        ]
       },
       "encoding": {
        "color": {
         "field": "Type",
         "type": "nominal"
        },
        "x": {
         "axis": {
          "labelExpr": "datum.value",
          "title": "Week",
          "values": [
           0,
           4,
           8,
           12,
           16,
           20,
           24,
           28,
           32,
           36,
           40,
           44,
           48,
           52
          ]
         },
         "field": "Week (t)",
         "scale": {
          "domain": [
           0,
           52
          ]
         },
         "type": "quantitative"
        },
        "y": {
         "field": "Cum DoR",
         "scale": {},
         "title": "Cumulative Sales (# Transactions)",
         "type": "quantitative"
        }
       },
       "height": 250,
       "mark": {
        "strokeDash": [
         5,
         3
        ],
        "strokeWidth": 2,
        "type": "line"
       },
       "title": "Overall Sales Forecast for the Extended Model",
       "transform": [
        {
         "as": [
          "Type",
          "Cum DoR"
         ],
         "fold": [
          "T(t)",
          "FR(t)",
          "AR(t)",
          "S(t)"
         ]
        }
       ],
       "width": 650
      },
      "text/plain": [
       "<VegaLite 5 object>\n",
       "\n",
       "If you see this message, it means the renderer has not been properly enabled\n",
       "for the frontend that you are using. For more information, see\n",
       "https://altair-viz.github.io/user_guide/display_frontends.html#troubleshooting\n"
      ]
     },
     "execution_count": 51,
     "metadata": {},
     "output_type": "execute_result"
    }
   ],
   "source": [
    "forecasted_curve = (\n",
    "    ChartTemp(forecast_df)\n",
    "    .transform_fold(['T(t)', 'FR(t)', 'AR(t)', 'S(t)'], as_=['Type', 'Cum DoR'])\n",
    "    .line_encode(y_col='Cum DoR:Q', dash=[5,3], color='Type:N')\n",
    ")\n",
    "\n",
    "forecasted_curve.line_prop('Overall Sales Forecast for the Extended Model')"
   ]
  },
  {
   "cell_type": "code",
   "execution_count": 52,
   "metadata": {},
   "outputs": [
    {
     "data": {
      "application/vnd.vegalite.v5+json": {
       "$schema": "https://vega.github.io/schema/vega-lite/v5.20.1.json",
       "config": {
        "axisX": {
         "grid": false
        },
        "axisY": {
         "grid": false
        },
        "view": {
         "continuousHeight": 300,
         "continuousWidth": 300,
         "stroke": null
        }
       },
       "datasets": {
        "data-14af2c719777932de7be45f5a594bb10": [
         {
          "AR(t)": 0,
          "FR(t)": 0,
          "S(t)": 8,
          "T(t)": 8,
          "Week (t)": 1
         },
         {
          "AR(t)": 0,
          "FR(t)": 1,
          "S(t)": 15,
          "T(t)": 14,
          "Week (t)": 2
         },
         {
          "AR(t)": 0,
          "FR(t)": 2,
          "S(t)": 18,
          "T(t)": 16,
          "Week (t)": 3
         },
         {
          "AR(t)": 0,
          "FR(t)": 3,
          "S(t)": 35,
          "T(t)": 32,
          "Week (t)": 4
         },
         {
          "AR(t)": 0,
          "FR(t)": 7,
          "S(t)": 47,
          "T(t)": 40,
          "Week (t)": 5
         },
         {
          "AR(t)": 2,
          "FR(t)": 9,
          "S(t)": 58,
          "T(t)": 47,
          "Week (t)": 6
         },
         {
          "AR(t)": 3,
          "FR(t)": 12,
          "S(t)": 65,
          "T(t)": 50,
          "Week (t)": 7
         },
         {
          "AR(t)": 4,
          "FR(t)": 13,
          "S(t)": 69,
          "T(t)": 52,
          "Week (t)": 8
         },
         {
          "AR(t)": 7,
          "FR(t)": 17,
          "S(t)": 81,
          "T(t)": 57,
          "Week (t)": 9
         },
         {
          "AR(t)": 9,
          "FR(t)": 18,
          "S(t)": 87,
          "T(t)": 60,
          "Week (t)": 10
         },
         {
          "AR(t)": 13,
          "FR(t)": 22,
          "S(t)": 100,
          "T(t)": 65,
          "Week (t)": 11
         },
         {
          "AR(t)": 15,
          "FR(t)": 23,
          "S(t)": 105,
          "T(t)": 67,
          "Week (t)": 12
         },
         {
          "AR(t)": 16,
          "FR(t)": 23,
          "S(t)": 107,
          "T(t)": 68,
          "Week (t)": 13
         },
         {
          "AR(t)": 18,
          "FR(t)": 23,
          "S(t)": 113,
          "T(t)": 72,
          "Week (t)": 14
         },
         {
          "AR(t)": 19,
          "FR(t)": 23,
          "S(t)": 117,
          "T(t)": 75,
          "Week (t)": 15
         },
         {
          "AR(t)": 21,
          "FR(t)": 24,
          "S(t)": 126,
          "T(t)": 81,
          "Week (t)": 16
         },
         {
          "AR(t)": 26,
          "FR(t)": 24,
          "S(t)": 140,
          "T(t)": 90,
          "Week (t)": 17
         },
         {
          "AR(t)": 30,
          "FR(t)": 28,
          "S(t)": 152,
          "T(t)": 94,
          "Week (t)": 18
         },
         {
          "AR(t)": 32,
          "FR(t)": 32,
          "S(t)": 160,
          "T(t)": 96,
          "Week (t)": 19
         },
         {
          "AR(t)": 35,
          "FR(t)": 33,
          "S(t)": 164,
          "T(t)": 96,
          "Week (t)": 20
         },
         {
          "AR(t)": 38,
          "FR(t)": 33,
          "S(t)": 167,
          "T(t)": 96,
          "Week (t)": 21
         },
         {
          "AR(t)": 39,
          "FR(t)": 34,
          "S(t)": 170,
          "T(t)": 97,
          "Week (t)": 22
         },
         {
          "AR(t)": 40,
          "FR(t)": 35,
          "S(t)": 172,
          "T(t)": 97,
          "Week (t)": 23
         },
         {
          "AR(t)": 43,
          "FR(t)": 35,
          "S(t)": 179,
          "T(t)": 101,
          "Week (t)": 24
         },
         {
          "AR(t)": 43,
          "FR(t)": 35,
          "S(t)": 179,
          "T(t)": 101,
          "Week (t)": 25
         },
         {
          "AR(t)": 50,
          "FR(t)": 35,
          "S(t)": 186,
          "T(t)": 101,
          "Week (t)": 26
         },
         {
          "AR(t)": 53,
          "FR(t)": 37,
          "S(t)": 195,
          "T(t)": 105,
          "Week (t)": 27
         },
         {
          "AR(t)": 57,
          "FR(t)": 37,
          "S(t)": 200,
          "T(t)": 106,
          "Week (t)": 28
         },
         {
          "AR(t)": 60,
          "FR(t)": 37,
          "S(t)": 203,
          "T(t)": 106,
          "Week (t)": 29
         },
         {
          "AR(t)": 64,
          "FR(t)": 41,
          "S(t)": 223,
          "T(t)": 118,
          "Week (t)": 30
         },
         {
          "AR(t)": 65,
          "FR(t)": 41,
          "S(t)": 225,
          "T(t)": 119,
          "Week (t)": 31
         },
         {
          "AR(t)": 65,
          "FR(t)": 42,
          "S(t)": 226,
          "T(t)": 119,
          "Week (t)": 32
         },
         {
          "AR(t)": 67,
          "FR(t)": 43,
          "S(t)": 230,
          "T(t)": 120,
          "Week (t)": 33
         },
         {
          "AR(t)": 69,
          "FR(t)": 44,
          "S(t)": 236,
          "T(t)": 123,
          "Week (t)": 34
         },
         {
          "AR(t)": 72,
          "FR(t)": 45,
          "S(t)": 242,
          "T(t)": 125,
          "Week (t)": 35
         },
         {
          "AR(t)": 76,
          "FR(t)": 45,
          "S(t)": 246,
          "T(t)": 125,
          "Week (t)": 36
         },
         {
          "AR(t)": 80,
          "FR(t)": 45,
          "S(t)": 251,
          "T(t)": 126,
          "Week (t)": 37
         },
         {
          "AR(t)": 84,
          "FR(t)": 45,
          "S(t)": 256,
          "T(t)": 127,
          "Week (t)": 38
         },
         {
          "AR(t)": 84,
          "FR(t)": 45,
          "S(t)": 256,
          "T(t)": 127,
          "Week (t)": 39
         },
         {
          "AR(t)": 87,
          "FR(t)": 45,
          "S(t)": 259,
          "T(t)": 127,
          "Week (t)": 40
         },
         {
          "AR(t)": 87,
          "FR(t)": 45,
          "S(t)": 259,
          "T(t)": 127,
          "Week (t)": 41
         },
         {
          "AR(t)": 89,
          "FR(t)": 45,
          "S(t)": 262,
          "T(t)": 128,
          "Week (t)": 42
         },
         {
          "AR(t)": 89,
          "FR(t)": 45,
          "S(t)": 263,
          "T(t)": 129,
          "Week (t)": 43
         },
         {
          "AR(t)": 89,
          "FR(t)": 46,
          "S(t)": 264,
          "T(t)": 129,
          "Week (t)": 44
         },
         {
          "AR(t)": 93,
          "FR(t)": 46,
          "S(t)": 268,
          "T(t)": 129,
          "Week (t)": 45
         },
         {
          "AR(t)": 94,
          "FR(t)": 46,
          "S(t)": 270,
          "T(t)": 130,
          "Week (t)": 46
         },
         {
          "AR(t)": 98,
          "FR(t)": 47,
          "S(t)": 277,
          "T(t)": 132,
          "Week (t)": 47
         },
         {
          "AR(t)": 101,
          "FR(t)": 48,
          "S(t)": 282,
          "T(t)": 133,
          "Week (t)": 48
         },
         {
          "AR(t)": 105,
          "FR(t)": 48,
          "S(t)": 290,
          "T(t)": 137,
          "Week (t)": 49
         },
         {
          "AR(t)": 111,
          "FR(t)": 50,
          "S(t)": 298,
          "T(t)": 137,
          "Week (t)": 50
         },
         {
          "AR(t)": 112,
          "FR(t)": 51,
          "S(t)": 300,
          "T(t)": 137,
          "Week (t)": 51
         },
         {
          "AR(t)": 115,
          "FR(t)": 52,
          "S(t)": 306,
          "T(t)": 139,
          "Week (t)": 52
         }
        ],
        "data-a7d086617524f0577d32b0258cb8f51a": [
         {
          "AR(t)": 0,
          "FR(t)": 0,
          "S(t)": 8.045170660899128,
          "T(t)": 8.045170660899128,
          "Week (t)": 1
         },
         {
          "AR(t)": 0,
          "FR(t)": 1.080747715579142,
          "S(t)": 16.67017930455793,
          "T(t)": 15.589431588978789,
          "Week (t)": 2
         },
         {
          "AR(t)": 0.15067761126817253,
          "FR(t)": 2.7755126957396374,
          "S(t)": 25.59016081503899,
          "T(t)": 22.663970508031177,
          "Week (t)": 3
         },
         {
          "AR(t)": 0.5296483807794838,
          "FR(t)": 4.794256113028262,
          "S(t)": 34.621937820491546,
          "T(t)": 29.2980333266838,
          "Week (t)": 4
         },
         {
          "AR(t)": 1.1700913448099364,
          "FR(t)": 6.9580652736946895,
          "S(t)": 43.64720165851775,
          "T(t)": 35.519045040013125,
          "Week (t)": 5
         },
         {
          "AR(t)": 2.078642144561402,
          "FR(t)": 9.157837156058543,
          "S(t)": 52.58920240418222,
          "T(t)": 41.352723103562276,
          "Week (t)": 6
         },
         {
          "AR(t)": 3.24653631452272,
          "FR(t)": 11.328247605721728,
          "S(t)": 61.39796766869136,
          "T(t)": 46.82318374844691,
          "Week (t)": 7
         },
         {
          "AR(t)": 4.65651148406325,
          "FR(t)": 13.43135571145606,
          "S(t)": 70.04090887257206,
          "T(t)": 51.953041677052745,
          "Week (t)": 8
         },
         {
          "AR(t)": 6.2870483569250535,
          "FR(t)": 15.446281341829005,
          "S(t)": 78.49683325021725,
          "T(t)": 56.763503551463195,
          "Week (t)": 9
         },
         {
          "AR(t)": 8.114944986544463,
          "FR(t)": 17.36271038871205,
          "S(t)": 86.75211103635161,
          "T(t)": 61.2744556610951,
          "Week (t)": 10
         },
         {
          "AR(t)": 10.116850048721638,
          "FR(t)": 19.176812228007645,
          "S(t)": 94.79820840868717,
          "T(t)": 65.5045461319579,
          "Week (t)": 11
         },
         {
          "AR(t)": 12.270148471365012,
          "FR(t)": 20.88867711688588,
          "S(t)": 102.63008760563736,
          "T(t)": 69.47126201738647,
          "Week (t)": 12
         },
         {
          "AR(t)": 14.55344645049621,
          "FR(t)": 22.500711076457023,
          "S(t)": 110.2451591158912,
          "T(t)": 73.19100158893797,
          "Week (t)": 13
         },
         {
          "AR(t)": 16.946810753528773,
          "FR(t)": 24.01663373166275,
          "S(t)": 117.64258661149273,
          "T(t)": 76.6791421263012,
          "Week (t)": 14
         },
         {
          "AR(t)": 19.431859235479347,
          "FR(t)": 25.44085565276427,
          "S(t)": 124.82281837470313,
          "T(t)": 79.95010348645951,
          "Week (t)": 15
         },
         {
          "AR(t)": 21.99176303436411,
          "FR(t)": 26.77809436890594,
          "S(t)": 131.78726511816996,
          "T(t)": 83.01740771489992,
          "Week (t)": 16
         },
         {
          "AR(t)": 24.611198004315764,
          "FR(t)": 28.03314030965784,
          "S(t)": 138.53807325927315,
          "T(t)": 85.89373494529956,
          "Week (t)": 17
         },
         {
          "AR(t)": 27.276268569981728,
          "FR(t)": 29.210716763067836,
          "S(t)": 145.07796115182617,
          "T(t)": 88.59097581877661,
          "Week (t)": 18
         },
         {
          "AR(t)": 29.974418181059438,
          "FR(t)": 30.315398634489885,
          "S(t)": 151.4100974549546,
          "T(t)": 91.1202806394053,
          "Week (t)": 19
         },
         {
          "AR(t)": 32.694334919018736,
          "FR(t)": 31.351567835183424,
          "S(t)": 157.53800822340412,
          "T(t)": 93.49210546920197,
          "Week (t)": 20
         },
         {
          "AR(t)": 35.42585730422993,
          "FR(t)": 32.323391351306356,
          "S(t)": 163.46550400867426,
          "T(t)": 95.716255353138,
          "Week (t)": 21
         },
         {
          "AR(t)": 38.159883180666725,
          "FR(t)": 33.23481322516578,
          "S(t)": 169.19662125870192,
          "T(t)": 97.80192485286942,
          "Week (t)": 22
         },
         {
          "AR(t)": 40.88828321972,
          "FR(t)": 34.089554945268965,
          "S(t)": 174.73557422173815,
          "T(t)": 99.7577360567492,
          "Week (t)": 23
         },
         {
          "AR(t)": 43.60381977156735,
          "FR(t)": 34.891120798286394,
          "S(t)": 180.08671479310735,
          "T(t)": 101.5917742232536,
          "Week (t)": 24
         },
         {
          "AR(t)": 46.30007130532114,
          "FR(t)": 35.64280603110551,
          "S(t)": 185.25449854159868,
          "T(t)": 103.31162120517202,
          "Week (t)": 25
         },
         {
          "AR(t)": 48.97136239432306,
          "FR(t)": 36.347706486253884,
          "S(t)": 190.24345567331116,
          "T(t)": 104.92438679273421,
          "Week (t)": 26
         },
         {
          "AR(t)": 51.61269904302722,
          "FR(t)": 37.00872888657997,
          "S(t)": 195.05816603485374,
          "T(t)": 106.43673810524656,
          "Week (t)": 27
         },
         {
          "AR(t)": 54.21970906844629,
          "FR(t)": 37.62860126707446,
          "S(t)": 199.70323748826252,
          "T(t)": 107.85492715274178,
          "Week (t)": 28
         },
         {
          "AR(t)": 56.788587211878855,
          "FR(t)": 38.209883253618365,
          "S(t)": 204.18328714707752,
          "T(t)": 109.1848166815803,
          "Week (t)": 29
         },
         {
          "AR(t)": 59.31604464677798,
          "FR(t)": 38.754976014708085,
          "S(t)": 208.50292507233493,
          "T(t)": 110.43190441084887,
          "Week (t)": 30
         },
         {
          "AR(t)": 61.79926255452687,
          "FR(t)": 39.266131790851595,
          "S(t)": 212.6667401051268,
          "T(t)": 111.60134575974834,
          "Week (t)": 31
         },
         {
          "AR(t)": 64.23584945441291,
          "FR(t)": 39.745462955014446,
          "S(t)": 216.67928756935268,
          "T(t)": 112.6979751599253,
          "Week (t)": 32
         },
         {
          "AR(t)": 66.62380199289915,
          "FR(t)": 40.19495058734636,
          "S(t)": 220.54507862109716,
          "T(t)": 113.72632604085166,
          "Week (t)": 33
         },
         {
          "AR(t)": 68.96146891778771,
          "FR(t)": 40.6164525654526,
          "S(t)": 224.26857105411165,
          "T(t)": 114.69064957087134,
          "Week (t)": 34
         },
         {
          "AR(t)": 71.2475179835439,
          "FR(t)": 41.0117111821059,
          "S(t)": 227.85416139703864,
          "T(t)": 115.59493223138885,
          "Week (t)": 35
         },
         {
          "AR(t)": 73.4809055540517,
          "FR(t)": 41.38236030830538,
          "S(t)": 231.3061781592079,
          "T(t)": 116.44291229685085,
          "Week (t)": 36
         },
         {
          "AR(t)": 75.66084868796415,
          "FR(t)": 41.729932122730425,
          "S(t)": 234.62887609934293,
          "T(t)": 117.23809528864837,
          "Week (t)": 37
         },
         {
          "AR(t)": 77.78679950939144,
          "FR(t)": 42.05586343001019,
          "S(t)": 237.82643140622736,
          "T(t)": 117.9837684668257,
          "Week (t)": 38
         },
         {
          "AR(t)": 79.85842168288403,
          "FR(t)": 42.36150159052503,
          "S(t)": 240.90293769291307,
          "T(t)": 118.683014419504,
          "Week (t)": 39
         },
         {
          "AR(t)": 81.8755688265386,
          "FR(t)": 42.64811008410768,
          "S(t)": 243.86240271684454,
          "T(t)": 119.33872380619827,
          "Week (t)": 40
         },
         {
          "AR(t)": 83.83826471065392,
          "FR(t)": 42.91687372929204,
          "S(t)": 246.7087457476534,
          "T(t)": 119.95360730770746,
          "Week (t)": 41
         },
         {
          "AR(t)": 85.74668510177514,
          "FR(t)": 43.1689035788331,
          "S(t)": 249.4457955125871,
          "T(t)": 120.53020683197884,
          "Week (t)": 42
         },
         {
          "AR(t)": 87.60114112329138,
          "FR(t)": 43.405241511198305,
          "S(t)": 252.07728865676063,
          "T(t)": 121.07090602227096,
          "Week (t)": 43
         },
         {
          "AR(t)": 89.4020640140833,
          "FR(t)": 43.62686453667277,
          "S(t)": 254.60686866181155,
          "T(t)": 121.57794011105548,
          "Week (t)": 44
         },
         {
          "AR(t)": 91.1499911761505,
          "FR(t)": 43.83468883566577,
          "S(t)": 257.03808517221034,
          "T(t)": 122.05340516039405,
          "Week (t)": 45
         },
         {
          "AR(t)": 92.84555341076523,
          "FR(t)": 44.02957354577846,
          "S(t)": 259.37439368353273,
          "T(t)": 122.49926672698903,
          "Week (t)": 46
         },
         {
          "AR(t)": 94.48946325057877,
          "FR(t)": 44.21232431320304,
          "S(t)": 261.6191555515114,
          "T(t)": 122.91736798772959,
          "Week (t)": 47
         },
         {
          "AR(t)": 96.08250430232037,
          "FR(t)": 44.38369662308173,
          "S(t)": 263.77563828472574,
          "T(t)": 123.30943735932365,
          "Week (t)": 48
         },
         {
          "AR(t)": 97.6255215213381,
          "FR(t)": 44.54439892255908,
          "S(t)": 265.8470160874123,
          "T(t)": 123.67709564351516,
          "Week (t)": 49
         },
         {
          "AR(t)": 99.11941234529405,
          "FR(t)": 44.695095549416926,
          "S(t)": 267.8363706221354,
          "T(t)": 124.02186272742443,
          "Week (t)": 50
         },
         {
          "AR(t)": 100.56511861989571,
          "FR(t)": 44.83640947838584,
          "S(t)": 269.7466919649927,
          "T(t)": 124.34516386671115,
          "Week (t)": 51
         },
         {
          "AR(t)": 101.96361925466147,
          "FR(t)": 44.968924896477226,
          "S(t)": 271.58087972867247,
          "T(t)": 124.64833557753374,
          "Week (t)": 52
         }
        ]
       },
       "height": 250,
       "layer": [
        {
         "data": {
          "name": "data-a7d086617524f0577d32b0258cb8f51a"
         },
         "encoding": {
          "color": {
           "field": "Type",
           "type": "nominal"
          },
          "x": {
           "axis": {
            "labelExpr": "datum.value",
            "title": "Week",
            "values": [
             0,
             4,
             8,
             12,
             16,
             20,
             24,
             28,
             32,
             36,
             40,
             44,
             48,
             52
            ]
           },
           "field": "Week (t)",
           "scale": {
            "domain": [
             0,
             52
            ]
           },
           "type": "quantitative"
          },
          "y": {
           "field": "Cum DoR",
           "scale": {},
           "title": "Cumulative Sales (# Transactions)",
           "type": "quantitative"
          }
         },
         "mark": {
          "strokeDash": [
           5,
           3
          ],
          "strokeWidth": 2,
          "type": "line"
         },
         "transform": [
          {
           "as": [
            "Type",
            "Cum DoR"
           ],
           "fold": [
            "T(t)",
            "FR(t)",
            "AR(t)",
            "S(t)"
           ]
          }
         ]
        },
        {
         "data": {
          "name": "data-14af2c719777932de7be45f5a594bb10"
         },
         "encoding": {
          "color": {
           "field": "Type",
           "type": "nominal"
          },
          "x": {
           "axis": {
            "labelExpr": "datum.value",
            "title": "Week",
            "values": [
             0,
             4,
             8,
             12,
             16,
             20,
             24,
             28,
             32,
             36,
             40,
             44,
             48,
             52
            ]
           },
           "field": "Week (t)",
           "scale": {
            "domain": [
             0,
             52
            ]
           },
           "type": "quantitative"
          },
          "y": {
           "field": "Cum DoR",
           "scale": {},
           "title": "Cumulative Sales (# Transactions)",
           "type": "quantitative"
          }
         },
         "mark": {
          "strokeDash": [
           1,
           0
          ],
          "strokeWidth": 2,
          "type": "line"
         },
         "transform": [
          {
           "as": [
            "Type",
            "Cum DoR"
           ],
           "fold": [
            "T(t)",
            "FR(t)",
            "AR(t)",
            "S(t)"
           ]
          }
         ]
        }
       ],
       "title": "Overall Sales Forecast for the Extended Model",
       "width": 650
      },
      "text/plain": [
       "<VegaLite 5 object>\n",
       "\n",
       "If you see this message, it means the renderer has not been properly enabled\n",
       "for the frontend that you are using. For more information, see\n",
       "https://altair-viz.github.io/user_guide/display_frontends.html#troubleshooting\n"
      ]
     },
     "execution_count": 52,
     "metadata": {},
     "output_type": "execute_result"
    }
   ],
   "source": [
    "chart = forecasted_curve + actual_sales_curve\n",
    "\n",
    "layered_line_prop(chart, 'Overall Sales Forecast for the Extended Model')"
   ]
  },
  {
   "cell_type": "code",
   "execution_count": 53,
   "metadata": {},
   "outputs": [
    {
     "data": {
      "text/markdown": [
       "**Forecast Index**:\n",
       "\n",
       "- Trial Forecast Index: **90**\n",
       "- First Repeat Forecast Index: **86**\n",
       "- Additional Repeat Forecast Index: **89**\n",
       "- Total Forecast Index: **89**"
      ]
     },
     "metadata": {},
     "output_type": "display_data"
    }
   ],
   "source": [
    "trial_forecast_index = forecast_df.select('T(t)').item(-1,0) / modified_cum_trans.select('T(t)').item(-1,0) * 100\n",
    "fr_forecast_index = forecast_df.select('FR(t)').item(-1,0) / modified_cum_trans.select('FR(t)').item(-1,0) * 100\n",
    "ar_forecast_index = forecast_df.select('AR(t)').item(-1,0) / modified_cum_trans.select('AR(t)').item(-1,0) * 100\n",
    "total_forecast_index = forecast_df.select('S(t)').item(-1,0) / modified_cum_trans.select('S(t)').item(-1,0) * 100\n",
    "\n",
    "display_markdown(f'''**Forecast Index**:\n",
    "\n",
    "- Trial Forecast Index: **{trial_forecast_index:0.0f}**\n",
    "- First Repeat Forecast Index: **{fr_forecast_index:0.0f}**\n",
    "- Additional Repeat Forecast Index: **{ar_forecast_index:0.0f}**\n",
    "- Total Forecast Index: **{total_forecast_index:0.0f}**''', raw=True)"
   ]
  },
  {
   "cell_type": "markdown",
   "metadata": {},
   "source": [
    "##### Actual vs Estimated Depth-of-Repeat Curves\n",
    "<a id='depth_of_repeat_curve'></a>"
   ]
  },
  {
   "cell_type": "code",
   "execution_count": 54,
   "metadata": {},
   "outputs": [],
   "source": [
    "# Step 1: Time Since Last Purchase (TSLP)\n",
    "tslp_df = (\n",
    "    shifted_lf\n",
    "    .drop('Week', 'Day', 'Units')\n",
    "    .sort('ID', 'shWeek')\n",
    "    .with_columns(\n",
    "        pl.col('shWeek').shift(1).over('ID').alias('LP Week'),\n",
    "        (pl.col('shWeek') - pl.col('shWeek').shift(1)).over('ID').alias('TSLP'),\n",
    "    )\n",
    ")\n",
    "\n",
    "# Step 2: Aggregate Purchases by Depth and Week\n",
    "j_1_tj_1 = (\n",
    "    shifted_lf\n",
    "    .group_by('DoR', 'shWeek')\n",
    "    .agg(pl.col(\"ID\").n_unique().alias(\"Eligible\"))\n",
    "    .sort('DoR', 'shWeek')\n",
    "    .with_columns((pl.col('DoR') + 1).alias('DoR'))\n",
    ")\n",
    "\n",
    "# Step 3: Generate All Possible Combinations pf DoR LP Weeks_tslp)\n",
    "dor_values = np.arange(0, 12, dtype='uint16')\n",
    "week_range = np.arange(1, 53, dtype='int16')\n",
    "tslp_range = np.arange(1, 53, dtype='int16')\n",
    "\n",
    "full_dor_week_tslp = (\n",
    "    pl.LazyFrame({\n",
    "        'DoR': np.repeat(dor_values, len(week_range) * len(tslp_range)),\n",
    "        'shWeek': np.tile(np.repeat(week_range, len(tslp_range)), len(dor_values)),\n",
    "        'TSLP': np.tile(tslp_range, len(dor_values) * len(week_range)),\n",
    "    }).filter(pl.col('TSLP') <= (53 - pl.col('shWeek')))\n",
    ")\n",
    "\n",
    "# Step 4: Join and Aggregate Eligible Counts\n",
    "join_eligible = (\n",
    "    full_dor_week_tslp\n",
    "    .join(j_1_tj_1, on=['DoR', 'shWeek'], how='left')\n",
    "    .filter((pl.col('DoR') != 0) & (pl.col('DoR') != 12))\n",
    "    .fill_null(0)\n",
    "    .rename({'shWeek': 'LP Week'})\n",
    ")\n",
    "\n",
    "# Step 5: Count Panelists for Each Combination\n",
    "week_tslp_count = (\n",
    "    tslp_df\n",
    "    .group_by(\"DoR\", 'LP Week', 'TSLP')\n",
    "    .agg(pl.col(\"ID\").n_unique().alias(\"Count\"))\n",
    "    .sort('DoR', 'LP Week', 'TSLP')\n",
    "    .filter(pl.col('DoR') > 0)\n",
    ")\n",
    "\n",
    "# Step 6: Compute Cumulative Proportions\n",
    "jth_repeat = (\n",
    "    join_eligible\n",
    "    .join(week_tslp_count, on=['DoR', 'LP Week', 'TSLP'], how='left')\n",
    "    .fill_null(0)\n",
    "    .with_columns(\n",
    "        pl.col('Count').cum_sum().over('DoR', 'LP Week').alias('Cum J Repeat by LP Week')\n",
    "    )\n",
    "    .with_columns(\n",
    "        pl.when(pl.col('LP Week') > (52 - pl.col('TSLP')))\n",
    "        .then(None)\n",
    "        .otherwise(\n",
    "            pl.when(pl.col('Eligible') > 0)\n",
    "            .then(pl.col('Cum J Repeat by LP Week') / pl.col('Eligible'))\n",
    "            .otherwise(0)\n",
    "        ).alias('Cum J Repeat by J-1 Repeat')\n",
    "    )\n",
    "    .with_columns(\n",
    "        (pl.col('Cum J Repeat by J-1 Repeat') * pl.col('Eligible')).alias('Weights')\n",
    "    )\n",
    "    .filter((pl.col('LP Week') <= 26) & (pl.col('TSLP') <= 26))\n",
    "    .group_by('DoR', 'TSLP')\n",
    "    .agg(\n",
    "        Eligible=pl.col('Eligible').sum(),\n",
    "        Weights=pl.col('Weights').sum(),\n",
    "    )\n",
    "    .with_columns(\n",
    "        (pl.col('Weights') / pl.col('Eligible')).alias('Prob Purch')\n",
    "    )\n",
    "    .sort('TSLP')\n",
    "    .filter(pl.col('DoR') < 5)\n",
    ")"
   ]
  },
  {
   "cell_type": "code",
   "execution_count": 55,
   "metadata": {},
   "outputs": [
    {
     "data": {
      "application/vnd.vegalite.v5+json": {
       "$schema": "https://vega.github.io/schema/vega-lite/v5.20.1.json",
       "config": {
        "axisX": {
         "grid": false
        },
        "axisY": {
         "grid": false
        },
        "view": {
         "continuousHeight": 300,
         "continuousWidth": 300,
         "stroke": null
        }
       },
       "data": {
        "name": "data-becd0bca3e4f8b64def436228bbaf7c9"
       },
       "datasets": {
        "data-becd0bca3e4f8b64def436228bbaf7c9": [
         {
          "DoR": 2,
          "Eligible": 35,
          "Prob Purch": 0.17142857142857143,
          "TSLP": 1,
          "Weights": 6
         },
         {
          "DoR": 3,
          "Eligible": 22,
          "Prob Purch": 0.18181818181818182,
          "TSLP": 1,
          "Weights": 4
         },
         {
          "DoR": 4,
          "Eligible": 12,
          "Prob Purch": 0.16666666666666666,
          "TSLP": 1,
          "Weights": 2
         },
         {
          "DoR": 1,
          "Eligible": 101,
          "Prob Purch": 0.09900990099009901,
          "TSLP": 1,
          "Weights": 10
         },
         {
          "DoR": 3,
          "Eligible": 22,
          "Prob Purch": 0.22727272727272727,
          "TSLP": 2,
          "Weights": 5
         },
         {
          "DoR": 4,
          "Eligible": 12,
          "Prob Purch": 0.25,
          "TSLP": 2,
          "Weights": 3
         },
         {
          "DoR": 2,
          "Eligible": 35,
          "Prob Purch": 0.2571428571428571,
          "TSLP": 2,
          "Weights": 9
         },
         {
          "DoR": 1,
          "Eligible": 101,
          "Prob Purch": 0.15841584158415842,
          "TSLP": 2,
          "Weights": 16
         },
         {
          "DoR": 1,
          "Eligible": 101,
          "Prob Purch": 0.1782178217821782,
          "TSLP": 3,
          "Weights": 18
         },
         {
          "DoR": 3,
          "Eligible": 22,
          "Prob Purch": 0.3181818181818182,
          "TSLP": 3,
          "Weights": 7
         },
         {
          "DoR": 4,
          "Eligible": 12,
          "Prob Purch": 0.25,
          "TSLP": 3,
          "Weights": 3
         },
         {
          "DoR": 2,
          "Eligible": 35,
          "Prob Purch": 0.3142857142857143,
          "TSLP": 3,
          "Weights": 11
         },
         {
          "DoR": 1,
          "Eligible": 101,
          "Prob Purch": 0.2079207920792079,
          "TSLP": 4,
          "Weights": 21
         },
         {
          "DoR": 4,
          "Eligible": 12,
          "Prob Purch": 0.25,
          "TSLP": 4,
          "Weights": 3
         },
         {
          "DoR": 3,
          "Eligible": 22,
          "Prob Purch": 0.45454545454545453,
          "TSLP": 4,
          "Weights": 10
         },
         {
          "DoR": 2,
          "Eligible": 35,
          "Prob Purch": 0.4,
          "TSLP": 4,
          "Weights": 14
         },
         {
          "DoR": 1,
          "Eligible": 101,
          "Prob Purch": 0.24752475247524752,
          "TSLP": 5,
          "Weights": 25
         },
         {
          "DoR": 2,
          "Eligible": 35,
          "Prob Purch": 0.45714285714285713,
          "TSLP": 5,
          "Weights": 16
         },
         {
          "DoR": 4,
          "Eligible": 12,
          "Prob Purch": 0.4166666666666667,
          "TSLP": 5,
          "Weights": 5
         },
         {
          "DoR": 3,
          "Eligible": 22,
          "Prob Purch": 0.5,
          "TSLP": 5,
          "Weights": 11
         },
         {
          "DoR": 4,
          "Eligible": 12,
          "Prob Purch": 0.4166666666666667,
          "TSLP": 6,
          "Weights": 5
         },
         {
          "DoR": 2,
          "Eligible": 35,
          "Prob Purch": 0.5428571428571428,
          "TSLP": 6,
          "Weights": 19
         },
         {
          "DoR": 3,
          "Eligible": 22,
          "Prob Purch": 0.5454545454545454,
          "TSLP": 6,
          "Weights": 12
         },
         {
          "DoR": 1,
          "Eligible": 101,
          "Prob Purch": 0.26732673267326734,
          "TSLP": 6,
          "Weights": 27
         },
         {
          "DoR": 4,
          "Eligible": 12,
          "Prob Purch": 0.5,
          "TSLP": 7,
          "Weights": 6
         },
         {
          "DoR": 1,
          "Eligible": 101,
          "Prob Purch": 0.27722772277227725,
          "TSLP": 7,
          "Weights": 28
         },
         {
          "DoR": 2,
          "Eligible": 35,
          "Prob Purch": 0.5428571428571428,
          "TSLP": 7,
          "Weights": 19
         },
         {
          "DoR": 3,
          "Eligible": 22,
          "Prob Purch": 0.5909090909090909,
          "TSLP": 7,
          "Weights": 13
         },
         {
          "DoR": 3,
          "Eligible": 22,
          "Prob Purch": 0.6363636363636364,
          "TSLP": 8,
          "Weights": 14
         },
         {
          "DoR": 4,
          "Eligible": 12,
          "Prob Purch": 0.5833333333333334,
          "TSLP": 8,
          "Weights": 7
         },
         {
          "DoR": 2,
          "Eligible": 35,
          "Prob Purch": 0.5428571428571428,
          "TSLP": 8,
          "Weights": 19
         },
         {
          "DoR": 1,
          "Eligible": 101,
          "Prob Purch": 0.27722772277227725,
          "TSLP": 8,
          "Weights": 28
         },
         {
          "DoR": 3,
          "Eligible": 22,
          "Prob Purch": 0.6818181818181818,
          "TSLP": 9,
          "Weights": 15
         },
         {
          "DoR": 4,
          "Eligible": 12,
          "Prob Purch": 0.75,
          "TSLP": 9,
          "Weights": 9
         },
         {
          "DoR": 1,
          "Eligible": 101,
          "Prob Purch": 0.2871287128712871,
          "TSLP": 9,
          "Weights": 29
         },
         {
          "DoR": 2,
          "Eligible": 35,
          "Prob Purch": 0.5428571428571428,
          "TSLP": 9,
          "Weights": 19
         },
         {
          "DoR": 4,
          "Eligible": 12,
          "Prob Purch": 0.75,
          "TSLP": 10,
          "Weights": 9
         },
         {
          "DoR": 3,
          "Eligible": 22,
          "Prob Purch": 0.6818181818181818,
          "TSLP": 10,
          "Weights": 15
         },
         {
          "DoR": 1,
          "Eligible": 101,
          "Prob Purch": 0.297029702970297,
          "TSLP": 10,
          "Weights": 30
         },
         {
          "DoR": 2,
          "Eligible": 35,
          "Prob Purch": 0.6,
          "TSLP": 10,
          "Weights": 21
         },
         {
          "DoR": 1,
          "Eligible": 101,
          "Prob Purch": 0.297029702970297,
          "TSLP": 11,
          "Weights": 30
         },
         {
          "DoR": 4,
          "Eligible": 12,
          "Prob Purch": 0.75,
          "TSLP": 11,
          "Weights": 9
         },
         {
          "DoR": 2,
          "Eligible": 35,
          "Prob Purch": 0.6285714285714286,
          "TSLP": 11,
          "Weights": 22
         },
         {
          "DoR": 3,
          "Eligible": 22,
          "Prob Purch": 0.6818181818181818,
          "TSLP": 11,
          "Weights": 15
         },
         {
          "DoR": 2,
          "Eligible": 35,
          "Prob Purch": 0.6571428571428571,
          "TSLP": 12,
          "Weights": 23
         },
         {
          "DoR": 4,
          "Eligible": 12,
          "Prob Purch": 0.75,
          "TSLP": 12,
          "Weights": 9
         },
         {
          "DoR": 3,
          "Eligible": 22,
          "Prob Purch": 0.6818181818181818,
          "TSLP": 12,
          "Weights": 15
         },
         {
          "DoR": 1,
          "Eligible": 101,
          "Prob Purch": 0.297029702970297,
          "TSLP": 12,
          "Weights": 30
         },
         {
          "DoR": 2,
          "Eligible": 35,
          "Prob Purch": 0.6571428571428571,
          "TSLP": 13,
          "Weights": 23
         },
         {
          "DoR": 3,
          "Eligible": 22,
          "Prob Purch": 0.6818181818181818,
          "TSLP": 13,
          "Weights": 15
         },
         {
          "DoR": 4,
          "Eligible": 12,
          "Prob Purch": 0.75,
          "TSLP": 13,
          "Weights": 9
         },
         {
          "DoR": 1,
          "Eligible": 101,
          "Prob Purch": 0.31683168316831684,
          "TSLP": 13,
          "Weights": 32
         },
         {
          "DoR": 2,
          "Eligible": 35,
          "Prob Purch": 0.6571428571428571,
          "TSLP": 14,
          "Weights": 23
         },
         {
          "DoR": 4,
          "Eligible": 12,
          "Prob Purch": 0.75,
          "TSLP": 14,
          "Weights": 9
         },
         {
          "DoR": 1,
          "Eligible": 101,
          "Prob Purch": 0.33663366336633666,
          "TSLP": 14,
          "Weights": 34
         },
         {
          "DoR": 3,
          "Eligible": 22,
          "Prob Purch": 0.7272727272727273,
          "TSLP": 14,
          "Weights": 16
         },
         {
          "DoR": 1,
          "Eligible": 101,
          "Prob Purch": 0.3465346534653465,
          "TSLP": 15,
          "Weights": 35
         },
         {
          "DoR": 4,
          "Eligible": 12,
          "Prob Purch": 0.75,
          "TSLP": 15,
          "Weights": 9
         },
         {
          "DoR": 2,
          "Eligible": 35,
          "Prob Purch": 0.6857142857142857,
          "TSLP": 15,
          "Weights": 24
         },
         {
          "DoR": 3,
          "Eligible": 22,
          "Prob Purch": 0.7272727272727273,
          "TSLP": 15,
          "Weights": 16
         },
         {
          "DoR": 1,
          "Eligible": 101,
          "Prob Purch": 0.3465346534653465,
          "TSLP": 16,
          "Weights": 35
         },
         {
          "DoR": 3,
          "Eligible": 22,
          "Prob Purch": 0.7272727272727273,
          "TSLP": 16,
          "Weights": 16
         },
         {
          "DoR": 2,
          "Eligible": 35,
          "Prob Purch": 0.6857142857142857,
          "TSLP": 16,
          "Weights": 24
         },
         {
          "DoR": 4,
          "Eligible": 12,
          "Prob Purch": 0.75,
          "TSLP": 16,
          "Weights": 9
         },
         {
          "DoR": 2,
          "Eligible": 35,
          "Prob Purch": 0.6857142857142857,
          "TSLP": 17,
          "Weights": 24
         },
         {
          "DoR": 3,
          "Eligible": 22,
          "Prob Purch": 0.7272727272727273,
          "TSLP": 17,
          "Weights": 16
         },
         {
          "DoR": 1,
          "Eligible": 101,
          "Prob Purch": 0.3564356435643564,
          "TSLP": 17,
          "Weights": 36
         },
         {
          "DoR": 4,
          "Eligible": 12,
          "Prob Purch": 0.75,
          "TSLP": 17,
          "Weights": 9
         },
         {
          "DoR": 4,
          "Eligible": 12,
          "Prob Purch": 0.75,
          "TSLP": 18,
          "Weights": 9
         },
         {
          "DoR": 2,
          "Eligible": 35,
          "Prob Purch": 0.7142857142857143,
          "TSLP": 18,
          "Weights": 25
         },
         {
          "DoR": 3,
          "Eligible": 22,
          "Prob Purch": 0.7727272727272727,
          "TSLP": 18,
          "Weights": 17
         },
         {
          "DoR": 1,
          "Eligible": 101,
          "Prob Purch": 0.37623762376237624,
          "TSLP": 18,
          "Weights": 38
         },
         {
          "DoR": 2,
          "Eligible": 35,
          "Prob Purch": 0.7142857142857143,
          "TSLP": 19,
          "Weights": 25
         },
         {
          "DoR": 3,
          "Eligible": 22,
          "Prob Purch": 0.7727272727272727,
          "TSLP": 19,
          "Weights": 17
         },
         {
          "DoR": 1,
          "Eligible": 101,
          "Prob Purch": 0.38613861386138615,
          "TSLP": 19,
          "Weights": 39
         },
         {
          "DoR": 4,
          "Eligible": 12,
          "Prob Purch": 0.75,
          "TSLP": 19,
          "Weights": 9
         },
         {
          "DoR": 3,
          "Eligible": 22,
          "Prob Purch": 0.7727272727272727,
          "TSLP": 20,
          "Weights": 17
         },
         {
          "DoR": 4,
          "Eligible": 12,
          "Prob Purch": 0.8333333333333334,
          "TSLP": 20,
          "Weights": 10
         },
         {
          "DoR": 2,
          "Eligible": 35,
          "Prob Purch": 0.7142857142857143,
          "TSLP": 20,
          "Weights": 25
         },
         {
          "DoR": 1,
          "Eligible": 101,
          "Prob Purch": 0.38613861386138615,
          "TSLP": 20,
          "Weights": 39
         },
         {
          "DoR": 3,
          "Eligible": 22,
          "Prob Purch": 0.7727272727272727,
          "TSLP": 21,
          "Weights": 17
         },
         {
          "DoR": 4,
          "Eligible": 12,
          "Prob Purch": 0.9166666666666666,
          "TSLP": 21,
          "Weights": 11
         },
         {
          "DoR": 1,
          "Eligible": 101,
          "Prob Purch": 0.39603960396039606,
          "TSLP": 21,
          "Weights": 40
         },
         {
          "DoR": 2,
          "Eligible": 35,
          "Prob Purch": 0.7142857142857143,
          "TSLP": 21,
          "Weights": 25
         },
         {
          "DoR": 1,
          "Eligible": 101,
          "Prob Purch": 0.39603960396039606,
          "TSLP": 22,
          "Weights": 40
         },
         {
          "DoR": 2,
          "Eligible": 35,
          "Prob Purch": 0.7142857142857143,
          "TSLP": 22,
          "Weights": 25
         },
         {
          "DoR": 3,
          "Eligible": 22,
          "Prob Purch": 0.8181818181818182,
          "TSLP": 22,
          "Weights": 18
         },
         {
          "DoR": 4,
          "Eligible": 12,
          "Prob Purch": 0.9166666666666666,
          "TSLP": 22,
          "Weights": 11
         },
         {
          "DoR": 4,
          "Eligible": 12,
          "Prob Purch": 0.9166666666666666,
          "TSLP": 23,
          "Weights": 11
         },
         {
          "DoR": 2,
          "Eligible": 35,
          "Prob Purch": 0.7142857142857143,
          "TSLP": 23,
          "Weights": 25
         },
         {
          "DoR": 1,
          "Eligible": 101,
          "Prob Purch": 0.39603960396039606,
          "TSLP": 23,
          "Weights": 40
         },
         {
          "DoR": 3,
          "Eligible": 22,
          "Prob Purch": 0.8181818181818182,
          "TSLP": 23,
          "Weights": 18
         },
         {
          "DoR": 2,
          "Eligible": 35,
          "Prob Purch": 0.7142857142857143,
          "TSLP": 24,
          "Weights": 25
         },
         {
          "DoR": 4,
          "Eligible": 12,
          "Prob Purch": 0.9166666666666666,
          "TSLP": 24,
          "Weights": 11
         },
         {
          "DoR": 1,
          "Eligible": 101,
          "Prob Purch": 0.40594059405940597,
          "TSLP": 24,
          "Weights": 41
         },
         {
          "DoR": 3,
          "Eligible": 22,
          "Prob Purch": 0.8181818181818182,
          "TSLP": 24,
          "Weights": 18
         },
         {
          "DoR": 1,
          "Eligible": 101,
          "Prob Purch": 0.40594059405940597,
          "TSLP": 25,
          "Weights": 41
         },
         {
          "DoR": 2,
          "Eligible": 35,
          "Prob Purch": 0.7142857142857143,
          "TSLP": 25,
          "Weights": 25
         },
         {
          "DoR": 3,
          "Eligible": 22,
          "Prob Purch": 0.8181818181818182,
          "TSLP": 25,
          "Weights": 18
         },
         {
          "DoR": 4,
          "Eligible": 12,
          "Prob Purch": 0.9166666666666666,
          "TSLP": 25,
          "Weights": 11
         },
         {
          "DoR": 1,
          "Eligible": 101,
          "Prob Purch": 0.4158415841584158,
          "TSLP": 26,
          "Weights": 42
         },
         {
          "DoR": 3,
          "Eligible": 22,
          "Prob Purch": 0.8181818181818182,
          "TSLP": 26,
          "Weights": 18
         },
         {
          "DoR": 4,
          "Eligible": 12,
          "Prob Purch": 0.9166666666666666,
          "TSLP": 26,
          "Weights": 11
         },
         {
          "DoR": 2,
          "Eligible": 35,
          "Prob Purch": 0.7142857142857143,
          "TSLP": 26,
          "Weights": 25
         }
        ]
       },
       "encoding": {
        "color": {
         "field": "DoR",
         "type": "nominal"
        },
        "x": {
         "axis": {
          "labelExpr": "datum.value",
          "title": "Time Since Last Purchase",
          "values": [
           0,
           4,
           8,
           12,
           16,
           20,
           24
          ]
         },
         "field": "TSLP",
         "scale": {
          "domain": [
           0,
           26
          ]
         },
         "type": "quantitative"
        },
        "y": {
         "field": "Prob Purch",
         "scale": {},
         "title": "P(Purchase)",
         "type": "quantitative"
        }
       },
       "height": 250,
       "mark": {
        "strokeDash": [
         1,
         0
        ],
        "strokeWidth": 2,
        "type": "line"
       },
       "title": {
        "subtitle": "Cumulative Proportion Repurchasing J Times (Out of Those Purchasing J - 1 Times)",
        "text": "Depth-of-Repeat Curves"
       },
       "width": 650
      },
      "text/plain": [
       "<VegaLite 5 object>\n",
       "\n",
       "If you see this message, it means the renderer has not been properly enabled\n",
       "for the frontend that you are using. For more information, see\n",
       "https://altair-viz.github.io/user_guide/display_frontends.html#troubleshooting\n"
      ]
     },
     "execution_count": 55,
     "metadata": {},
     "output_type": "execute_result"
    }
   ],
   "source": [
    "actual_curve = (\n",
    "    ChartTemp(jth_repeat.collect())\n",
    "    .line_encode(x_col='TSLP', y_col='Prob Purch:Q', color='DoR:N',x_title='Time Since Last Purchase', y_title='P(Purchase)', x_range=26)\n",
    ")\n",
    "actual_curve.line_prop({'text': 'Depth-of-Repeat Curves', 'subtitle': 'Cumulative Proportion Repurchasing J Times (Out of Those Purchasing J - 1 Times)'})"
   ]
  },
  {
   "cell_type": "code",
   "execution_count": 56,
   "metadata": {},
   "outputs": [
    {
     "data": {
      "application/vnd.vegalite.v5+json": {
       "$schema": "https://vega.github.io/schema/vega-lite/v5.20.1.json",
       "config": {
        "axisX": {
         "grid": false
        },
        "axisY": {
         "grid": false
        },
        "view": {
         "continuousHeight": 300,
         "continuousWidth": 300,
         "stroke": null
        }
       },
       "data": {
        "name": "data-81e93a7a5997a4ab26f6ff897300b520"
       },
       "datasets": {
        "data-81e93a7a5997a4ab26f6ff897300b520": [
         {
          "DoR": 1,
          "Prob Purch": 0,
          "TSLP": 0
         },
         {
          "DoR": 1,
          "Prob Purch": 0.13433496455603564,
          "TSLP": 1
         },
         {
          "DoR": 1,
          "Prob Purch": 0.21902017317400757,
          "TSLP": 2
         },
         {
          "DoR": 1,
          "Prob Purch": 0.27240601045301266,
          "TSLP": 3
         },
         {
          "DoR": 1,
          "Prob Purch": 0.3060606199000698,
          "TSLP": 4
         },
         {
          "DoR": 1,
          "Prob Purch": 0.32727659767175077,
          "TSLP": 5
         },
         {
          "DoR": 1,
          "Prob Purch": 0.3406512206492229,
          "TSLP": 6
         },
         {
          "DoR": 1,
          "Prob Purch": 0.34908262747452107,
          "TSLP": 7
         },
         {
          "DoR": 1,
          "Prob Purch": 0.3543978143903261,
          "TSLP": 8
         },
         {
          "DoR": 1,
          "Prob Purch": 0.3577485259068405,
          "TSLP": 9
         },
         {
          "DoR": 1,
          "Prob Purch": 0.35986082559540217,
          "TSLP": 10
         },
         {
          "DoR": 1,
          "Prob Purch": 0.36119242634715515,
          "TSLP": 11
         },
         {
          "DoR": 1,
          "Prob Purch": 0.3620318718915876,
          "TSLP": 12
         },
         {
          "DoR": 1,
          "Prob Purch": 0.3625610611558169,
          "TSLP": 13
         },
         {
          "DoR": 1,
          "Prob Purch": 0.36289466382871566,
          "TSLP": 14
         },
         {
          "DoR": 1,
          "Prob Purch": 0.3631049680636802,
          "TSLP": 15
         },
         {
          "DoR": 1,
          "Prob Purch": 0.36323754455313007,
          "TSLP": 16
         },
         {
          "DoR": 1,
          "Prob Purch": 0.3633211212131903,
          "TSLP": 17
         },
         {
          "DoR": 1,
          "Prob Purch": 0.3633738082177701,
          "TSLP": 18
         },
         {
          "DoR": 1,
          "Prob Purch": 0.36340702228075844,
          "TSLP": 19
         },
         {
          "DoR": 1,
          "Prob Purch": 0.3634279605365767,
          "TSLP": 20
         },
         {
          "DoR": 1,
          "Prob Purch": 0.36344116008271077,
          "TSLP": 21
         },
         {
          "DoR": 1,
          "Prob Purch": 0.3634494811205114,
          "TSLP": 22
         },
         {
          "DoR": 1,
          "Prob Purch": 0.3634547267304269,
          "TSLP": 23
         },
         {
          "DoR": 1,
          "Prob Purch": 0.3634580335803709,
          "TSLP": 24
         },
         {
          "DoR": 1,
          "Prob Purch": 0.3634601182295782,
          "TSLP": 25
         },
         {
          "DoR": 1,
          "Prob Purch": 0.36346143239937456,
          "TSLP": 26
         },
         {
          "DoR": 2,
          "Prob Purch": 0,
          "TSLP": 0
         },
         {
          "DoR": 2,
          "Prob Purch": 0.13941978233784993,
          "TSLP": 1
         },
         {
          "DoR": 2,
          "Prob Purch": 0.2500895673872325,
          "TSLP": 2
         },
         {
          "DoR": 2,
          "Prob Purch": 0.33793794239901487,
          "TSLP": 3
         },
         {
          "DoR": 2,
          "Prob Purch": 0.4076709502725476,
          "TSLP": 4
         },
         {
          "DoR": 2,
          "Prob Purch": 0.4630241925657372,
          "TSLP": 5
         },
         {
          "DoR": 2,
          "Prob Purch": 0.5069629459022542,
          "TSLP": 6
         },
         {
          "DoR": 2,
          "Prob Purch": 0.5418410120242241,
          "TSLP": 7
         },
         {
          "DoR": 2,
          "Prob Purch": 0.5695268110975787,
          "TSLP": 8
         },
         {
          "DoR": 2,
          "Prob Purch": 0.5915034730962593,
          "TSLP": 9
         },
         {
          "DoR": 2,
          "Prob Purch": 0.6089482891669313,
          "TSLP": 10
         },
         {
          "DoR": 2,
          "Prob Purch": 0.6227957791887484,
          "TSLP": 11
         },
         {
          "DoR": 2,
          "Prob Purch": 0.6337877540612548,
          "TSLP": 12
         },
         {
          "DoR": 2,
          "Prob Purch": 0.6425130545602948,
          "TSLP": 13
         },
         {
          "DoR": 2,
          "Prob Purch": 0.6494390955749055,
          "TSLP": 14
         },
         {
          "DoR": 2,
          "Prob Purch": 0.6549369055519196,
          "TSLP": 15
         },
         {
          "DoR": 2,
          "Prob Purch": 0.6593010025128809,
          "TSLP": 16
         },
         {
          "DoR": 2,
          "Prob Purch": 0.6627651714027296,
          "TSLP": 17
         },
         {
          "DoR": 2,
          "Prob Purch": 0.6655149879638061,
          "TSLP": 18
         },
         {
          "DoR": 2,
          "Prob Purch": 0.6676977600398816,
          "TSLP": 19
         },
         {
          "DoR": 2,
          "Prob Purch": 0.6694304188664869,
          "TSLP": 20
         },
         {
          "DoR": 2,
          "Prob Purch": 0.6708057830844546,
          "TSLP": 21
         },
         {
          "DoR": 2,
          "Prob Purch": 0.6718975310402665,
          "TSLP": 22
         },
         {
          "DoR": 2,
          "Prob Purch": 0.6727641477396459,
          "TSLP": 23
         },
         {
          "DoR": 2,
          "Prob Purch": 0.6734520578929418,
          "TSLP": 24
         },
         {
          "DoR": 2,
          "Prob Purch": 0.6739981128897433,
          "TSLP": 25
         },
         {
          "DoR": 2,
          "Prob Purch": 0.6744315649301051,
          "TSLP": 26
         },
         {
          "DoR": 3,
          "Prob Purch": 0,
          "TSLP": 0
         },
         {
          "DoR": 3,
          "Prob Purch": 0.1531806038966916,
          "TSLP": 1
         },
         {
          "DoR": 3,
          "Prob Purch": 0.27477356741101766,
          "TSLP": 2
         },
         {
          "DoR": 3,
          "Prob Purch": 0.37129263314186856,
          "TSLP": 3
         },
         {
          "DoR": 3,
          "Prob Purch": 0.4479083334283307,
          "TSLP": 4
         },
         {
          "DoR": 3,
          "Prob Purch": 0.508724976087862,
          "TSLP": 5
         },
         {
          "DoR": 3,
          "Prob Purch": 0.5570005124406988,
          "TSLP": 6
         },
         {
          "DoR": 3,
          "Prob Purch": 0.5953210659641972,
          "TSLP": 7
         },
         {
          "DoR": 3,
          "Prob Purch": 0.6257394710879556,
          "TSLP": 8
         },
         {
          "DoR": 3,
          "Prob Purch": 0.6498852436615615,
          "TSLP": 9
         },
         {
          "DoR": 3,
          "Prob Purch": 0.6690518742197473,
          "TSLP": 10
         },
         {
          "DoR": 3,
          "Prob Purch": 0.6842661203505813,
          "TSLP": 11
         },
         {
          "DoR": 3,
          "Prob Purch": 0.6963430101631591,
          "TSLP": 12
         },
         {
          "DoR": 3,
          "Prob Purch": 0.705929503393971,
          "TSLP": 13
         },
         {
          "DoR": 3,
          "Prob Purch": 0.7135391490801218,
          "TSLP": 14
         },
         {
          "DoR": 3,
          "Prob Purch": 0.7195795964131086,
          "TSLP": 15
         },
         {
          "DoR": 3,
          "Prob Purch": 0.7243744325312991,
          "TSLP": 16
         },
         {
          "DoR": 3,
          "Prob Purch": 0.7281805171030084,
          "TSLP": 17
         },
         {
          "DoR": 3,
          "Prob Purch": 0.7312017423148661,
          "TSLP": 18
         },
         {
          "DoR": 3,
          "Prob Purch": 0.7335999553889034,
          "TSLP": 19
         },
         {
          "DoR": 3,
          "Prob Purch": 0.7355036287482778,
          "TSLP": 20
         },
         {
          "DoR": 3,
          "Prob Purch": 0.7370147422929516,
          "TSLP": 21
         },
         {
          "DoR": 3,
          "Prob Purch": 0.7382142464692599,
          "TSLP": 22
         },
         {
          "DoR": 3,
          "Prob Purch": 0.7391663987903431,
          "TSLP": 23
         },
         {
          "DoR": 3,
          "Prob Purch": 0.7399222061151113,
          "TSLP": 24
         },
         {
          "DoR": 3,
          "Prob Purch": 0.7405221570888415,
          "TSLP": 25
         },
         {
          "DoR": 3,
          "Prob Purch": 0.7409983911224164,
          "TSLP": 26
         },
         {
          "DoR": 4,
          "Prob Purch": 0,
          "TSLP": 0
         },
         {
          "DoR": 4,
          "Prob Purch": 0.15823590772617907,
          "TSLP": 1
         },
         {
          "DoR": 4,
          "Prob Purch": 0.28384171202096886,
          "TSLP": 2
         },
         {
          "DoR": 4,
          "Prob Purch": 0.3835461236128192,
          "TSLP": 3
         },
         {
          "DoR": 4,
          "Prob Purch": 0.4626903140162039,
          "TSLP": 4
         },
         {
          "DoR": 4,
          "Prob Purch": 0.525514042421008,
          "TSLP": 5
         },
         {
          "DoR": 4,
          "Prob Purch": 0.5753827798553578,
          "TSLP": 6
         },
         {
          "DoR": 4,
          "Prob Purch": 0.6149679976773863,
          "TSLP": 7
         },
         {
          "DoR": 4,
          "Prob Purch": 0.6463902784616216,
          "TSLP": 8
         },
         {
          "DoR": 4,
          "Prob Purch": 0.6713329157390617,
          "TSLP": 9
         },
         {
          "DoR": 4,
          "Prob Purch": 0.6911320881360598,
          "TSLP": 10
         },
         {
          "DoR": 4,
          "Prob Purch": 0.7068484385462307,
          "TSLP": 11
         },
         {
          "DoR": 4,
          "Prob Purch": 0.7193238928360645,
          "TSLP": 12
         },
         {
          "DoR": 4,
          "Prob Purch": 0.7292267618658238,
          "TSLP": 13
         },
         {
          "DoR": 4,
          "Prob Purch": 0.7370875429437909,
          "TSLP": 14
         },
         {
          "DoR": 4,
          "Prob Purch": 0.7433273385999823,
          "TSLP": 15
         },
         {
          "DoR": 4,
          "Prob Purch": 0.7482804150748069,
          "TSLP": 16
         },
         {
          "DoR": 4,
          "Prob Purch": 0.7522121089823018,
          "TSLP": 17
         },
         {
          "DoR": 4,
          "Prob Purch": 0.7553330414090075,
          "TSLP": 18
         },
         {
          "DoR": 4,
          "Prob Purch": 0.7578104008986398,
          "TSLP": 19
         },
         {
          "DoR": 4,
          "Prob Purch": 0.75977689975275,
          "TSLP": 20
         },
         {
          "DoR": 4,
          "Prob Purch": 0.7613378834369509,
          "TSLP": 21
         },
         {
          "DoR": 4,
          "Prob Purch": 0.762576973944046,
          "TSLP": 22
         },
         {
          "DoR": 4,
          "Prob Purch": 0.7635605494293718,
          "TSLP": 23
         },
         {
          "DoR": 4,
          "Prob Purch": 0.7643413000926963,
          "TSLP": 24
         },
         {
          "DoR": 4,
          "Prob Purch": 0.7649610507954905,
          "TSLP": 25
         },
         {
          "DoR": 4,
          "Prob Purch": 0.7654530016213512,
          "TSLP": 26
         }
        ]
       },
       "encoding": {
        "color": {
         "field": "DoR",
         "type": "nominal"
        },
        "x": {
         "axis": {
          "labelExpr": "datum.value",
          "title": "Time Since Last Purchase",
          "values": [
           0,
           4,
           8,
           12,
           16,
           20,
           24
          ]
         },
         "field": "TSLP",
         "scale": {
          "domain": [
           0,
           26
          ]
         },
         "type": "quantitative"
        },
        "y": {
         "field": "Prob Purch",
         "scale": {},
         "title": "P(Purchase)",
         "type": "quantitative"
        }
       },
       "height": 250,
       "mark": {
        "strokeDash": [
         5,
         3
        ],
        "strokeWidth": 2,
        "type": "line"
       },
       "title": "Estimated Depth-of-Repeat Curves",
       "width": 650
      },
      "text/plain": [
       "<VegaLite 5 object>\n",
       "\n",
       "If you see this message, it means the renderer has not been properly enabled\n",
       "for the frontend that you are using. For more information, see\n",
       "https://altair-viz.github.io/user_guide/display_frontends.html#troubleshooting\n"
      ]
     },
     "execution_count": 56,
     "metadata": {},
     "output_type": "execute_result"
    }
   ],
   "source": [
    "p_j1 = p_1 * (1 - np.exp(-theta_FR * (t[:27] - 1)))\n",
    "p_j2 = p_j[0] * (1 - np.exp(-theta_AR * (t[1:28] - 2)))\n",
    "p_j3 = p_j[1] * (1 - np.exp(-theta_AR * (t[2:29] - 3)))\n",
    "p_j4 = p_j[2] * (1 - np.exp(-theta_AR * (t[3:30] - 4)))\n",
    "\n",
    "est_jth_repeat = pl.DataFrame({'DoR': np.concat([[i]*27 for i in range(1,5)], dtype='int16'), \n",
    "                               'TSLP': np.concat([[i for i in range(27)] for _ in range(4)], dtype='int16'),\n",
    "                               'Prob Purch': np.concat([p_j1, p_j2, p_j3, p_j4])})\n",
    "\n",
    "estimated_curve = (\n",
    "    ChartTemp(est_jth_repeat)\n",
    "    .line_encode(x_col='TSLP', y_col='Prob Purch:Q', color='DoR:N',x_title='Time Since Last Purchase', y_title='P(Purchase)', x_range=26, dash=[5,3])\n",
    ")\n",
    "estimated_curve.line_prop('Estimated Depth-of-Repeat Curves')"
   ]
  },
  {
   "cell_type": "code",
   "execution_count": 57,
   "metadata": {},
   "outputs": [
    {
     "data": {
      "application/vnd.vegalite.v5+json": {
       "$schema": "https://vega.github.io/schema/vega-lite/v5.20.1.json",
       "config": {
        "axisX": {
         "grid": false
        },
        "axisY": {
         "grid": false
        },
        "view": {
         "continuousHeight": 300,
         "continuousWidth": 300,
         "stroke": null
        }
       },
       "datasets": {
        "data-81e93a7a5997a4ab26f6ff897300b520": [
         {
          "DoR": 1,
          "Prob Purch": 0,
          "TSLP": 0
         },
         {
          "DoR": 1,
          "Prob Purch": 0.13433496455603564,
          "TSLP": 1
         },
         {
          "DoR": 1,
          "Prob Purch": 0.21902017317400757,
          "TSLP": 2
         },
         {
          "DoR": 1,
          "Prob Purch": 0.27240601045301266,
          "TSLP": 3
         },
         {
          "DoR": 1,
          "Prob Purch": 0.3060606199000698,
          "TSLP": 4
         },
         {
          "DoR": 1,
          "Prob Purch": 0.32727659767175077,
          "TSLP": 5
         },
         {
          "DoR": 1,
          "Prob Purch": 0.3406512206492229,
          "TSLP": 6
         },
         {
          "DoR": 1,
          "Prob Purch": 0.34908262747452107,
          "TSLP": 7
         },
         {
          "DoR": 1,
          "Prob Purch": 0.3543978143903261,
          "TSLP": 8
         },
         {
          "DoR": 1,
          "Prob Purch": 0.3577485259068405,
          "TSLP": 9
         },
         {
          "DoR": 1,
          "Prob Purch": 0.35986082559540217,
          "TSLP": 10
         },
         {
          "DoR": 1,
          "Prob Purch": 0.36119242634715515,
          "TSLP": 11
         },
         {
          "DoR": 1,
          "Prob Purch": 0.3620318718915876,
          "TSLP": 12
         },
         {
          "DoR": 1,
          "Prob Purch": 0.3625610611558169,
          "TSLP": 13
         },
         {
          "DoR": 1,
          "Prob Purch": 0.36289466382871566,
          "TSLP": 14
         },
         {
          "DoR": 1,
          "Prob Purch": 0.3631049680636802,
          "TSLP": 15
         },
         {
          "DoR": 1,
          "Prob Purch": 0.36323754455313007,
          "TSLP": 16
         },
         {
          "DoR": 1,
          "Prob Purch": 0.3633211212131903,
          "TSLP": 17
         },
         {
          "DoR": 1,
          "Prob Purch": 0.3633738082177701,
          "TSLP": 18
         },
         {
          "DoR": 1,
          "Prob Purch": 0.36340702228075844,
          "TSLP": 19
         },
         {
          "DoR": 1,
          "Prob Purch": 0.3634279605365767,
          "TSLP": 20
         },
         {
          "DoR": 1,
          "Prob Purch": 0.36344116008271077,
          "TSLP": 21
         },
         {
          "DoR": 1,
          "Prob Purch": 0.3634494811205114,
          "TSLP": 22
         },
         {
          "DoR": 1,
          "Prob Purch": 0.3634547267304269,
          "TSLP": 23
         },
         {
          "DoR": 1,
          "Prob Purch": 0.3634580335803709,
          "TSLP": 24
         },
         {
          "DoR": 1,
          "Prob Purch": 0.3634601182295782,
          "TSLP": 25
         },
         {
          "DoR": 1,
          "Prob Purch": 0.36346143239937456,
          "TSLP": 26
         },
         {
          "DoR": 2,
          "Prob Purch": 0,
          "TSLP": 0
         },
         {
          "DoR": 2,
          "Prob Purch": 0.13941978233784993,
          "TSLP": 1
         },
         {
          "DoR": 2,
          "Prob Purch": 0.2500895673872325,
          "TSLP": 2
         },
         {
          "DoR": 2,
          "Prob Purch": 0.33793794239901487,
          "TSLP": 3
         },
         {
          "DoR": 2,
          "Prob Purch": 0.4076709502725476,
          "TSLP": 4
         },
         {
          "DoR": 2,
          "Prob Purch": 0.4630241925657372,
          "TSLP": 5
         },
         {
          "DoR": 2,
          "Prob Purch": 0.5069629459022542,
          "TSLP": 6
         },
         {
          "DoR": 2,
          "Prob Purch": 0.5418410120242241,
          "TSLP": 7
         },
         {
          "DoR": 2,
          "Prob Purch": 0.5695268110975787,
          "TSLP": 8
         },
         {
          "DoR": 2,
          "Prob Purch": 0.5915034730962593,
          "TSLP": 9
         },
         {
          "DoR": 2,
          "Prob Purch": 0.6089482891669313,
          "TSLP": 10
         },
         {
          "DoR": 2,
          "Prob Purch": 0.6227957791887484,
          "TSLP": 11
         },
         {
          "DoR": 2,
          "Prob Purch": 0.6337877540612548,
          "TSLP": 12
         },
         {
          "DoR": 2,
          "Prob Purch": 0.6425130545602948,
          "TSLP": 13
         },
         {
          "DoR": 2,
          "Prob Purch": 0.6494390955749055,
          "TSLP": 14
         },
         {
          "DoR": 2,
          "Prob Purch": 0.6549369055519196,
          "TSLP": 15
         },
         {
          "DoR": 2,
          "Prob Purch": 0.6593010025128809,
          "TSLP": 16
         },
         {
          "DoR": 2,
          "Prob Purch": 0.6627651714027296,
          "TSLP": 17
         },
         {
          "DoR": 2,
          "Prob Purch": 0.6655149879638061,
          "TSLP": 18
         },
         {
          "DoR": 2,
          "Prob Purch": 0.6676977600398816,
          "TSLP": 19
         },
         {
          "DoR": 2,
          "Prob Purch": 0.6694304188664869,
          "TSLP": 20
         },
         {
          "DoR": 2,
          "Prob Purch": 0.6708057830844546,
          "TSLP": 21
         },
         {
          "DoR": 2,
          "Prob Purch": 0.6718975310402665,
          "TSLP": 22
         },
         {
          "DoR": 2,
          "Prob Purch": 0.6727641477396459,
          "TSLP": 23
         },
         {
          "DoR": 2,
          "Prob Purch": 0.6734520578929418,
          "TSLP": 24
         },
         {
          "DoR": 2,
          "Prob Purch": 0.6739981128897433,
          "TSLP": 25
         },
         {
          "DoR": 2,
          "Prob Purch": 0.6744315649301051,
          "TSLP": 26
         },
         {
          "DoR": 3,
          "Prob Purch": 0,
          "TSLP": 0
         },
         {
          "DoR": 3,
          "Prob Purch": 0.1531806038966916,
          "TSLP": 1
         },
         {
          "DoR": 3,
          "Prob Purch": 0.27477356741101766,
          "TSLP": 2
         },
         {
          "DoR": 3,
          "Prob Purch": 0.37129263314186856,
          "TSLP": 3
         },
         {
          "DoR": 3,
          "Prob Purch": 0.4479083334283307,
          "TSLP": 4
         },
         {
          "DoR": 3,
          "Prob Purch": 0.508724976087862,
          "TSLP": 5
         },
         {
          "DoR": 3,
          "Prob Purch": 0.5570005124406988,
          "TSLP": 6
         },
         {
          "DoR": 3,
          "Prob Purch": 0.5953210659641972,
          "TSLP": 7
         },
         {
          "DoR": 3,
          "Prob Purch": 0.6257394710879556,
          "TSLP": 8
         },
         {
          "DoR": 3,
          "Prob Purch": 0.6498852436615615,
          "TSLP": 9
         },
         {
          "DoR": 3,
          "Prob Purch": 0.6690518742197473,
          "TSLP": 10
         },
         {
          "DoR": 3,
          "Prob Purch": 0.6842661203505813,
          "TSLP": 11
         },
         {
          "DoR": 3,
          "Prob Purch": 0.6963430101631591,
          "TSLP": 12
         },
         {
          "DoR": 3,
          "Prob Purch": 0.705929503393971,
          "TSLP": 13
         },
         {
          "DoR": 3,
          "Prob Purch": 0.7135391490801218,
          "TSLP": 14
         },
         {
          "DoR": 3,
          "Prob Purch": 0.7195795964131086,
          "TSLP": 15
         },
         {
          "DoR": 3,
          "Prob Purch": 0.7243744325312991,
          "TSLP": 16
         },
         {
          "DoR": 3,
          "Prob Purch": 0.7281805171030084,
          "TSLP": 17
         },
         {
          "DoR": 3,
          "Prob Purch": 0.7312017423148661,
          "TSLP": 18
         },
         {
          "DoR": 3,
          "Prob Purch": 0.7335999553889034,
          "TSLP": 19
         },
         {
          "DoR": 3,
          "Prob Purch": 0.7355036287482778,
          "TSLP": 20
         },
         {
          "DoR": 3,
          "Prob Purch": 0.7370147422929516,
          "TSLP": 21
         },
         {
          "DoR": 3,
          "Prob Purch": 0.7382142464692599,
          "TSLP": 22
         },
         {
          "DoR": 3,
          "Prob Purch": 0.7391663987903431,
          "TSLP": 23
         },
         {
          "DoR": 3,
          "Prob Purch": 0.7399222061151113,
          "TSLP": 24
         },
         {
          "DoR": 3,
          "Prob Purch": 0.7405221570888415,
          "TSLP": 25
         },
         {
          "DoR": 3,
          "Prob Purch": 0.7409983911224164,
          "TSLP": 26
         },
         {
          "DoR": 4,
          "Prob Purch": 0,
          "TSLP": 0
         },
         {
          "DoR": 4,
          "Prob Purch": 0.15823590772617907,
          "TSLP": 1
         },
         {
          "DoR": 4,
          "Prob Purch": 0.28384171202096886,
          "TSLP": 2
         },
         {
          "DoR": 4,
          "Prob Purch": 0.3835461236128192,
          "TSLP": 3
         },
         {
          "DoR": 4,
          "Prob Purch": 0.4626903140162039,
          "TSLP": 4
         },
         {
          "DoR": 4,
          "Prob Purch": 0.525514042421008,
          "TSLP": 5
         },
         {
          "DoR": 4,
          "Prob Purch": 0.5753827798553578,
          "TSLP": 6
         },
         {
          "DoR": 4,
          "Prob Purch": 0.6149679976773863,
          "TSLP": 7
         },
         {
          "DoR": 4,
          "Prob Purch": 0.6463902784616216,
          "TSLP": 8
         },
         {
          "DoR": 4,
          "Prob Purch": 0.6713329157390617,
          "TSLP": 9
         },
         {
          "DoR": 4,
          "Prob Purch": 0.6911320881360598,
          "TSLP": 10
         },
         {
          "DoR": 4,
          "Prob Purch": 0.7068484385462307,
          "TSLP": 11
         },
         {
          "DoR": 4,
          "Prob Purch": 0.7193238928360645,
          "TSLP": 12
         },
         {
          "DoR": 4,
          "Prob Purch": 0.7292267618658238,
          "TSLP": 13
         },
         {
          "DoR": 4,
          "Prob Purch": 0.7370875429437909,
          "TSLP": 14
         },
         {
          "DoR": 4,
          "Prob Purch": 0.7433273385999823,
          "TSLP": 15
         },
         {
          "DoR": 4,
          "Prob Purch": 0.7482804150748069,
          "TSLP": 16
         },
         {
          "DoR": 4,
          "Prob Purch": 0.7522121089823018,
          "TSLP": 17
         },
         {
          "DoR": 4,
          "Prob Purch": 0.7553330414090075,
          "TSLP": 18
         },
         {
          "DoR": 4,
          "Prob Purch": 0.7578104008986398,
          "TSLP": 19
         },
         {
          "DoR": 4,
          "Prob Purch": 0.75977689975275,
          "TSLP": 20
         },
         {
          "DoR": 4,
          "Prob Purch": 0.7613378834369509,
          "TSLP": 21
         },
         {
          "DoR": 4,
          "Prob Purch": 0.762576973944046,
          "TSLP": 22
         },
         {
          "DoR": 4,
          "Prob Purch": 0.7635605494293718,
          "TSLP": 23
         },
         {
          "DoR": 4,
          "Prob Purch": 0.7643413000926963,
          "TSLP": 24
         },
         {
          "DoR": 4,
          "Prob Purch": 0.7649610507954905,
          "TSLP": 25
         },
         {
          "DoR": 4,
          "Prob Purch": 0.7654530016213512,
          "TSLP": 26
         }
        ],
        "data-becd0bca3e4f8b64def436228bbaf7c9": [
         {
          "DoR": 2,
          "Eligible": 35,
          "Prob Purch": 0.17142857142857143,
          "TSLP": 1,
          "Weights": 6
         },
         {
          "DoR": 3,
          "Eligible": 22,
          "Prob Purch": 0.18181818181818182,
          "TSLP": 1,
          "Weights": 4
         },
         {
          "DoR": 4,
          "Eligible": 12,
          "Prob Purch": 0.16666666666666666,
          "TSLP": 1,
          "Weights": 2
         },
         {
          "DoR": 1,
          "Eligible": 101,
          "Prob Purch": 0.09900990099009901,
          "TSLP": 1,
          "Weights": 10
         },
         {
          "DoR": 3,
          "Eligible": 22,
          "Prob Purch": 0.22727272727272727,
          "TSLP": 2,
          "Weights": 5
         },
         {
          "DoR": 4,
          "Eligible": 12,
          "Prob Purch": 0.25,
          "TSLP": 2,
          "Weights": 3
         },
         {
          "DoR": 2,
          "Eligible": 35,
          "Prob Purch": 0.2571428571428571,
          "TSLP": 2,
          "Weights": 9
         },
         {
          "DoR": 1,
          "Eligible": 101,
          "Prob Purch": 0.15841584158415842,
          "TSLP": 2,
          "Weights": 16
         },
         {
          "DoR": 1,
          "Eligible": 101,
          "Prob Purch": 0.1782178217821782,
          "TSLP": 3,
          "Weights": 18
         },
         {
          "DoR": 3,
          "Eligible": 22,
          "Prob Purch": 0.3181818181818182,
          "TSLP": 3,
          "Weights": 7
         },
         {
          "DoR": 4,
          "Eligible": 12,
          "Prob Purch": 0.25,
          "TSLP": 3,
          "Weights": 3
         },
         {
          "DoR": 2,
          "Eligible": 35,
          "Prob Purch": 0.3142857142857143,
          "TSLP": 3,
          "Weights": 11
         },
         {
          "DoR": 1,
          "Eligible": 101,
          "Prob Purch": 0.2079207920792079,
          "TSLP": 4,
          "Weights": 21
         },
         {
          "DoR": 4,
          "Eligible": 12,
          "Prob Purch": 0.25,
          "TSLP": 4,
          "Weights": 3
         },
         {
          "DoR": 3,
          "Eligible": 22,
          "Prob Purch": 0.45454545454545453,
          "TSLP": 4,
          "Weights": 10
         },
         {
          "DoR": 2,
          "Eligible": 35,
          "Prob Purch": 0.4,
          "TSLP": 4,
          "Weights": 14
         },
         {
          "DoR": 1,
          "Eligible": 101,
          "Prob Purch": 0.24752475247524752,
          "TSLP": 5,
          "Weights": 25
         },
         {
          "DoR": 2,
          "Eligible": 35,
          "Prob Purch": 0.45714285714285713,
          "TSLP": 5,
          "Weights": 16
         },
         {
          "DoR": 4,
          "Eligible": 12,
          "Prob Purch": 0.4166666666666667,
          "TSLP": 5,
          "Weights": 5
         },
         {
          "DoR": 3,
          "Eligible": 22,
          "Prob Purch": 0.5,
          "TSLP": 5,
          "Weights": 11
         },
         {
          "DoR": 4,
          "Eligible": 12,
          "Prob Purch": 0.4166666666666667,
          "TSLP": 6,
          "Weights": 5
         },
         {
          "DoR": 2,
          "Eligible": 35,
          "Prob Purch": 0.5428571428571428,
          "TSLP": 6,
          "Weights": 19
         },
         {
          "DoR": 3,
          "Eligible": 22,
          "Prob Purch": 0.5454545454545454,
          "TSLP": 6,
          "Weights": 12
         },
         {
          "DoR": 1,
          "Eligible": 101,
          "Prob Purch": 0.26732673267326734,
          "TSLP": 6,
          "Weights": 27
         },
         {
          "DoR": 4,
          "Eligible": 12,
          "Prob Purch": 0.5,
          "TSLP": 7,
          "Weights": 6
         },
         {
          "DoR": 1,
          "Eligible": 101,
          "Prob Purch": 0.27722772277227725,
          "TSLP": 7,
          "Weights": 28
         },
         {
          "DoR": 2,
          "Eligible": 35,
          "Prob Purch": 0.5428571428571428,
          "TSLP": 7,
          "Weights": 19
         },
         {
          "DoR": 3,
          "Eligible": 22,
          "Prob Purch": 0.5909090909090909,
          "TSLP": 7,
          "Weights": 13
         },
         {
          "DoR": 3,
          "Eligible": 22,
          "Prob Purch": 0.6363636363636364,
          "TSLP": 8,
          "Weights": 14
         },
         {
          "DoR": 4,
          "Eligible": 12,
          "Prob Purch": 0.5833333333333334,
          "TSLP": 8,
          "Weights": 7
         },
         {
          "DoR": 2,
          "Eligible": 35,
          "Prob Purch": 0.5428571428571428,
          "TSLP": 8,
          "Weights": 19
         },
         {
          "DoR": 1,
          "Eligible": 101,
          "Prob Purch": 0.27722772277227725,
          "TSLP": 8,
          "Weights": 28
         },
         {
          "DoR": 3,
          "Eligible": 22,
          "Prob Purch": 0.6818181818181818,
          "TSLP": 9,
          "Weights": 15
         },
         {
          "DoR": 4,
          "Eligible": 12,
          "Prob Purch": 0.75,
          "TSLP": 9,
          "Weights": 9
         },
         {
          "DoR": 1,
          "Eligible": 101,
          "Prob Purch": 0.2871287128712871,
          "TSLP": 9,
          "Weights": 29
         },
         {
          "DoR": 2,
          "Eligible": 35,
          "Prob Purch": 0.5428571428571428,
          "TSLP": 9,
          "Weights": 19
         },
         {
          "DoR": 4,
          "Eligible": 12,
          "Prob Purch": 0.75,
          "TSLP": 10,
          "Weights": 9
         },
         {
          "DoR": 3,
          "Eligible": 22,
          "Prob Purch": 0.6818181818181818,
          "TSLP": 10,
          "Weights": 15
         },
         {
          "DoR": 1,
          "Eligible": 101,
          "Prob Purch": 0.297029702970297,
          "TSLP": 10,
          "Weights": 30
         },
         {
          "DoR": 2,
          "Eligible": 35,
          "Prob Purch": 0.6,
          "TSLP": 10,
          "Weights": 21
         },
         {
          "DoR": 1,
          "Eligible": 101,
          "Prob Purch": 0.297029702970297,
          "TSLP": 11,
          "Weights": 30
         },
         {
          "DoR": 4,
          "Eligible": 12,
          "Prob Purch": 0.75,
          "TSLP": 11,
          "Weights": 9
         },
         {
          "DoR": 2,
          "Eligible": 35,
          "Prob Purch": 0.6285714285714286,
          "TSLP": 11,
          "Weights": 22
         },
         {
          "DoR": 3,
          "Eligible": 22,
          "Prob Purch": 0.6818181818181818,
          "TSLP": 11,
          "Weights": 15
         },
         {
          "DoR": 2,
          "Eligible": 35,
          "Prob Purch": 0.6571428571428571,
          "TSLP": 12,
          "Weights": 23
         },
         {
          "DoR": 4,
          "Eligible": 12,
          "Prob Purch": 0.75,
          "TSLP": 12,
          "Weights": 9
         },
         {
          "DoR": 3,
          "Eligible": 22,
          "Prob Purch": 0.6818181818181818,
          "TSLP": 12,
          "Weights": 15
         },
         {
          "DoR": 1,
          "Eligible": 101,
          "Prob Purch": 0.297029702970297,
          "TSLP": 12,
          "Weights": 30
         },
         {
          "DoR": 2,
          "Eligible": 35,
          "Prob Purch": 0.6571428571428571,
          "TSLP": 13,
          "Weights": 23
         },
         {
          "DoR": 3,
          "Eligible": 22,
          "Prob Purch": 0.6818181818181818,
          "TSLP": 13,
          "Weights": 15
         },
         {
          "DoR": 4,
          "Eligible": 12,
          "Prob Purch": 0.75,
          "TSLP": 13,
          "Weights": 9
         },
         {
          "DoR": 1,
          "Eligible": 101,
          "Prob Purch": 0.31683168316831684,
          "TSLP": 13,
          "Weights": 32
         },
         {
          "DoR": 2,
          "Eligible": 35,
          "Prob Purch": 0.6571428571428571,
          "TSLP": 14,
          "Weights": 23
         },
         {
          "DoR": 4,
          "Eligible": 12,
          "Prob Purch": 0.75,
          "TSLP": 14,
          "Weights": 9
         },
         {
          "DoR": 1,
          "Eligible": 101,
          "Prob Purch": 0.33663366336633666,
          "TSLP": 14,
          "Weights": 34
         },
         {
          "DoR": 3,
          "Eligible": 22,
          "Prob Purch": 0.7272727272727273,
          "TSLP": 14,
          "Weights": 16
         },
         {
          "DoR": 1,
          "Eligible": 101,
          "Prob Purch": 0.3465346534653465,
          "TSLP": 15,
          "Weights": 35
         },
         {
          "DoR": 4,
          "Eligible": 12,
          "Prob Purch": 0.75,
          "TSLP": 15,
          "Weights": 9
         },
         {
          "DoR": 2,
          "Eligible": 35,
          "Prob Purch": 0.6857142857142857,
          "TSLP": 15,
          "Weights": 24
         },
         {
          "DoR": 3,
          "Eligible": 22,
          "Prob Purch": 0.7272727272727273,
          "TSLP": 15,
          "Weights": 16
         },
         {
          "DoR": 1,
          "Eligible": 101,
          "Prob Purch": 0.3465346534653465,
          "TSLP": 16,
          "Weights": 35
         },
         {
          "DoR": 3,
          "Eligible": 22,
          "Prob Purch": 0.7272727272727273,
          "TSLP": 16,
          "Weights": 16
         },
         {
          "DoR": 2,
          "Eligible": 35,
          "Prob Purch": 0.6857142857142857,
          "TSLP": 16,
          "Weights": 24
         },
         {
          "DoR": 4,
          "Eligible": 12,
          "Prob Purch": 0.75,
          "TSLP": 16,
          "Weights": 9
         },
         {
          "DoR": 2,
          "Eligible": 35,
          "Prob Purch": 0.6857142857142857,
          "TSLP": 17,
          "Weights": 24
         },
         {
          "DoR": 3,
          "Eligible": 22,
          "Prob Purch": 0.7272727272727273,
          "TSLP": 17,
          "Weights": 16
         },
         {
          "DoR": 1,
          "Eligible": 101,
          "Prob Purch": 0.3564356435643564,
          "TSLP": 17,
          "Weights": 36
         },
         {
          "DoR": 4,
          "Eligible": 12,
          "Prob Purch": 0.75,
          "TSLP": 17,
          "Weights": 9
         },
         {
          "DoR": 4,
          "Eligible": 12,
          "Prob Purch": 0.75,
          "TSLP": 18,
          "Weights": 9
         },
         {
          "DoR": 2,
          "Eligible": 35,
          "Prob Purch": 0.7142857142857143,
          "TSLP": 18,
          "Weights": 25
         },
         {
          "DoR": 3,
          "Eligible": 22,
          "Prob Purch": 0.7727272727272727,
          "TSLP": 18,
          "Weights": 17
         },
         {
          "DoR": 1,
          "Eligible": 101,
          "Prob Purch": 0.37623762376237624,
          "TSLP": 18,
          "Weights": 38
         },
         {
          "DoR": 2,
          "Eligible": 35,
          "Prob Purch": 0.7142857142857143,
          "TSLP": 19,
          "Weights": 25
         },
         {
          "DoR": 3,
          "Eligible": 22,
          "Prob Purch": 0.7727272727272727,
          "TSLP": 19,
          "Weights": 17
         },
         {
          "DoR": 1,
          "Eligible": 101,
          "Prob Purch": 0.38613861386138615,
          "TSLP": 19,
          "Weights": 39
         },
         {
          "DoR": 4,
          "Eligible": 12,
          "Prob Purch": 0.75,
          "TSLP": 19,
          "Weights": 9
         },
         {
          "DoR": 3,
          "Eligible": 22,
          "Prob Purch": 0.7727272727272727,
          "TSLP": 20,
          "Weights": 17
         },
         {
          "DoR": 4,
          "Eligible": 12,
          "Prob Purch": 0.8333333333333334,
          "TSLP": 20,
          "Weights": 10
         },
         {
          "DoR": 2,
          "Eligible": 35,
          "Prob Purch": 0.7142857142857143,
          "TSLP": 20,
          "Weights": 25
         },
         {
          "DoR": 1,
          "Eligible": 101,
          "Prob Purch": 0.38613861386138615,
          "TSLP": 20,
          "Weights": 39
         },
         {
          "DoR": 3,
          "Eligible": 22,
          "Prob Purch": 0.7727272727272727,
          "TSLP": 21,
          "Weights": 17
         },
         {
          "DoR": 4,
          "Eligible": 12,
          "Prob Purch": 0.9166666666666666,
          "TSLP": 21,
          "Weights": 11
         },
         {
          "DoR": 1,
          "Eligible": 101,
          "Prob Purch": 0.39603960396039606,
          "TSLP": 21,
          "Weights": 40
         },
         {
          "DoR": 2,
          "Eligible": 35,
          "Prob Purch": 0.7142857142857143,
          "TSLP": 21,
          "Weights": 25
         },
         {
          "DoR": 1,
          "Eligible": 101,
          "Prob Purch": 0.39603960396039606,
          "TSLP": 22,
          "Weights": 40
         },
         {
          "DoR": 2,
          "Eligible": 35,
          "Prob Purch": 0.7142857142857143,
          "TSLP": 22,
          "Weights": 25
         },
         {
          "DoR": 3,
          "Eligible": 22,
          "Prob Purch": 0.8181818181818182,
          "TSLP": 22,
          "Weights": 18
         },
         {
          "DoR": 4,
          "Eligible": 12,
          "Prob Purch": 0.9166666666666666,
          "TSLP": 22,
          "Weights": 11
         },
         {
          "DoR": 4,
          "Eligible": 12,
          "Prob Purch": 0.9166666666666666,
          "TSLP": 23,
          "Weights": 11
         },
         {
          "DoR": 2,
          "Eligible": 35,
          "Prob Purch": 0.7142857142857143,
          "TSLP": 23,
          "Weights": 25
         },
         {
          "DoR": 1,
          "Eligible": 101,
          "Prob Purch": 0.39603960396039606,
          "TSLP": 23,
          "Weights": 40
         },
         {
          "DoR": 3,
          "Eligible": 22,
          "Prob Purch": 0.8181818181818182,
          "TSLP": 23,
          "Weights": 18
         },
         {
          "DoR": 2,
          "Eligible": 35,
          "Prob Purch": 0.7142857142857143,
          "TSLP": 24,
          "Weights": 25
         },
         {
          "DoR": 4,
          "Eligible": 12,
          "Prob Purch": 0.9166666666666666,
          "TSLP": 24,
          "Weights": 11
         },
         {
          "DoR": 1,
          "Eligible": 101,
          "Prob Purch": 0.40594059405940597,
          "TSLP": 24,
          "Weights": 41
         },
         {
          "DoR": 3,
          "Eligible": 22,
          "Prob Purch": 0.8181818181818182,
          "TSLP": 24,
          "Weights": 18
         },
         {
          "DoR": 1,
          "Eligible": 101,
          "Prob Purch": 0.40594059405940597,
          "TSLP": 25,
          "Weights": 41
         },
         {
          "DoR": 2,
          "Eligible": 35,
          "Prob Purch": 0.7142857142857143,
          "TSLP": 25,
          "Weights": 25
         },
         {
          "DoR": 3,
          "Eligible": 22,
          "Prob Purch": 0.8181818181818182,
          "TSLP": 25,
          "Weights": 18
         },
         {
          "DoR": 4,
          "Eligible": 12,
          "Prob Purch": 0.9166666666666666,
          "TSLP": 25,
          "Weights": 11
         },
         {
          "DoR": 1,
          "Eligible": 101,
          "Prob Purch": 0.4158415841584158,
          "TSLP": 26,
          "Weights": 42
         },
         {
          "DoR": 3,
          "Eligible": 22,
          "Prob Purch": 0.8181818181818182,
          "TSLP": 26,
          "Weights": 18
         },
         {
          "DoR": 4,
          "Eligible": 12,
          "Prob Purch": 0.9166666666666666,
          "TSLP": 26,
          "Weights": 11
         },
         {
          "DoR": 2,
          "Eligible": 35,
          "Prob Purch": 0.7142857142857143,
          "TSLP": 26,
          "Weights": 25
         }
        ]
       },
       "height": 250,
       "layer": [
        {
         "data": {
          "name": "data-becd0bca3e4f8b64def436228bbaf7c9"
         },
         "encoding": {
          "color": {
           "field": "DoR",
           "type": "nominal"
          },
          "x": {
           "axis": {
            "labelExpr": "datum.value",
            "title": "Time Since Last Purchase",
            "values": [
             0,
             4,
             8,
             12,
             16,
             20,
             24
            ]
           },
           "field": "TSLP",
           "scale": {
            "domain": [
             0,
             26
            ]
           },
           "type": "quantitative"
          },
          "y": {
           "field": "Prob Purch",
           "scale": {},
           "title": "P(Purchase)",
           "type": "quantitative"
          }
         },
         "mark": {
          "strokeDash": [
           1,
           0
          ],
          "strokeWidth": 2,
          "type": "line"
         }
        },
        {
         "data": {
          "name": "data-81e93a7a5997a4ab26f6ff897300b520"
         },
         "encoding": {
          "color": {
           "field": "DoR",
           "type": "nominal"
          },
          "x": {
           "axis": {
            "labelExpr": "datum.value",
            "title": "Time Since Last Purchase",
            "values": [
             0,
             4,
             8,
             12,
             16,
             20,
             24
            ]
           },
           "field": "TSLP",
           "scale": {
            "domain": [
             0,
             26
            ]
           },
           "type": "quantitative"
          },
          "y": {
           "field": "Prob Purch",
           "scale": {},
           "title": "P(Purchase)",
           "type": "quantitative"
          }
         },
         "mark": {
          "strokeDash": [
           5,
           3
          ],
          "strokeWidth": 2,
          "type": "line"
         }
        }
       ],
       "title": "Actual Vs Estimated Depth-of-Repeat Curves",
       "width": 650
      },
      "text/plain": [
       "<VegaLite 5 object>\n",
       "\n",
       "If you see this message, it means the renderer has not been properly enabled\n",
       "for the frontend that you are using. For more information, see\n",
       "https://altair-viz.github.io/user_guide/display_frontends.html#troubleshooting\n"
      ]
     },
     "execution_count": 57,
     "metadata": {},
     "output_type": "execute_result"
    }
   ],
   "source": [
    "combined_curve = actual_curve + estimated_curve\n",
    "\n",
    "layered_line_prop(combined_curve, 'Actual Vs Estimated Depth-of-Repeat Curves')"
   ]
  }
 ],
 "metadata": {
  "kernelspec": {
   "display_name": "fin",
   "language": "python",
   "name": "python3"
  },
  "language_info": {
   "codemirror_mode": {
    "name": "ipython",
    "version": 3
   },
   "file_extension": ".py",
   "mimetype": "text/x-python",
   "name": "python",
   "nbconvert_exporter": "python",
   "pygments_lexer": "ipython3",
   "version": "3.12.7"
  }
 },
 "nbformat": 4,
 "nbformat_minor": 2
}
