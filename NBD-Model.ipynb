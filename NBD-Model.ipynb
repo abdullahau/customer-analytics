{
 "cells": [
  {
   "cell_type": "markdown",
   "metadata": {},
   "source": [
    "NDB Model"
   ]
  },
  {
   "cell_type": "markdown",
   "metadata": {},
   "source": [
    "**Sources**:\n",
    "- [Illustrating the Performance of the NBD as a Benchmark Model for Customer-Base Analysis](http://www.brucehardie.com/notes/005/)"
   ]
  },
  {
   "cell_type": "code",
   "execution_count": 1,
   "metadata": {},
   "outputs": [],
   "source": [
    "import numpy as np\n",
    "from scipy.optimize import minimize\n",
    "from scipy.special import beta, gamma, gammaln, factorial, hyp2f1\n",
    "from scipy.stats import chisquare, chi2\n",
    "\n",
    "import matplotlib.pyplot as plt\n",
    "import matplotlib_inline\n",
    "from IPython.display import display_markdown\n",
    "\n",
    "from utils import CDNOW, bic\n",
    "\n",
    "matplotlib_inline.backend_inline.set_matplotlib_formats('svg')\n",
    "plt.rcParams[\"axes.spines.right\"] = False\n",
    "plt.rcParams[\"axes.spines.top\"] = False"
   ]
  },
  {
   "cell_type": "code",
   "execution_count": 2,
   "metadata": {},
   "outputs": [],
   "source": [
    "data = (\n",
    "    CDNOW(master=False, calib_p=273)\n",
    "    .rfm_summary()\n",
    "    .select('P1X', 't_x', 'T')\n",
    ")\n",
    "\n",
    "# x: 'repeat_trans' = “repeat frequency”, number of repeat transactions made by a customer in a specified time period.\n",
    "# t_x: 'last_purch' (in weeks) = Time of last calibration period repeat purchase \n",
    "# T: 'T' (in weeks) = length of time over which we have had an opportunity to observe any repeat purchasing behavior. \n",
    "# 'first_purch' = Time of first purchase (in weeks)\n",
    "repeat_trans, last_purch, T = np.hsplit(data.collect().to_numpy(), 3)\n",
    "first_purch = 39 - T\n",
    "num_customers = len(repeat_trans)"
   ]
  },
  {
   "cell_type": "code",
   "execution_count": 3,
   "metadata": {},
   "outputs": [],
   "source": [
    "# NBD Model - timing-model equivalent of the basic NBD model\n",
    "def nbd_timing_params(x, T):\n",
    "    def log_likelihood(params):\n",
    "        r, alpha = params\n",
    "        return -np.sum(gammaln(r+x)-gammaln(r)+r*np.log(alpha)-(r+x)*np.log(alpha+T))\n",
    "    return minimize(log_likelihood, x0=[0.1,0.1], bounds=[(1e-6, np.inf), (1e-6, np.inf)])\n",
    "\n",
    "# NBD Model - standard counting form\n",
    "def nbd_params(x, T):\n",
    "    def log_likelihood(params):\n",
    "        r, alpha = params\n",
    "        # P(X(T)=x)\n",
    "        pmf = np.exp(gammaln(r+x)-gammaln(r))/factorial(x) * (alpha/(alpha+T))**r * (T/(alpha+T))**x\n",
    "        return -np.sum(np.log(pmf))\n",
    "    return minimize(log_likelihood, x0=[0.1,0.1], bounds=[(1e-6, np.inf), (1e-6, np.inf)])\n",
    "\n",
    "# BG/NBD Model\n",
    "def bgnbd_params(x, t_x, T):\n",
    "    def log_likelihood(params):\n",
    "        r, alpha, a, b = params\n",
    "        likelihood_function = (\n",
    "            beta(a,b+x)/beta(a,b) * \n",
    "            (gamma(r+x)*alpha**r)/(gamma(r)*(alpha+T)**(r+x))\n",
    "        )\n",
    "        likelihood_function += (\n",
    "            np.where(x > 0,\n",
    "                beta(a+1, b+x-1)/beta(a,b) *\n",
    "                (gamma(r+x)*alpha**r)/(gamma(r)*(alpha+t_x)**(r+x)),\n",
    "                0)\n",
    "        )\n",
    "        return -np.sum(np.log(likelihood_function))\n",
    "    \n",
    "    bnds = [(1e-6, np.inf) for _ in range(4)]\n",
    "    guess = [0.01 for _ in range(4)]\n",
    "    return minimize(log_likelihood, x0=guess, bounds=bnds)\n",
    "\n",
    "# Pareto/NBD Model\n",
    "def paretonbd_params(x, t_x, T):\n",
    "    \n",
    "    def log_likelihood(params):\n",
    "        r, alpha, s, beta = params\n",
    "        \n",
    "        maxab = np.max((alpha, beta))\n",
    "        absab = np.abs(alpha - beta)\n",
    "        param2 = s + 1\n",
    "        if alpha < beta:\n",
    "            param2 = r + x\n",
    "            \n",
    "        part1 = (alpha**r * beta**s / gamma(r)) * gamma(r+x)\n",
    "        part2 = 1/((alpha+T)**(r+x) * (beta+T)**s)\n",
    "\n",
    "        if absab == 0:\n",
    "            F1 = 1/((maxab+t_x)**(r+s+x))\n",
    "            F2 = 1/((maxab+T)**(r+s+x))\n",
    "        else:\n",
    "            F1 = hyp2f1(r+s+x, param2, r+s+x+1, absab/(maxab+t_x)) / ((maxab+t_x)**(r+s+x))\n",
    "            F2 = hyp2f1(r+s+x, param2, r+s+x+1, absab/(maxab+T)) / ((maxab+T)**(r+s+x))        \n",
    "        \n",
    "        return -np.sum(np.log(part1*(part2+(s/(r+s+x))*(F1-F2))))\n",
    "    \n",
    "    bnds = [(1e-6, 20) for _ in range(4)]\n",
    "    guess = [0.01 for _ in range(4)]\n",
    "    return minimize(log_likelihood, x0=guess, bounds=bnds)"
   ]
  },
  {
   "cell_type": "code",
   "execution_count": 4,
   "metadata": {},
   "outputs": [
    {
     "data": {
      "text/markdown": [
       "**NBD - Timing-Model Equivalent:**\n",
       "\n",
       "Parameter Estimates:\n",
       "- $r$ = 0.3848\n",
       "- $\\alpha$ = 12.0719\n",
       "\n",
       "Log-Likelihood = -9763.6576\n",
       "\n",
       "BIC = 19542.8"
      ]
     },
     "metadata": {},
     "output_type": "display_data"
    },
    {
     "data": {
      "text/markdown": [
       "**NBD - Standard Counting Method:**\n",
       "\n",
       "Parameter Estimates:\n",
       "- $r$ = 0.3848\n",
       "- $\\alpha$ = 12.0718\n",
       "\n",
       "Log-Likelihood = -3193.0587\n",
       "\n",
       "BIC = 6401.6"
      ]
     },
     "metadata": {},
     "output_type": "display_data"
    },
    {
     "data": {
      "text/markdown": [
       "**BG/NBD:**\n",
       "\n",
       "Parameter Estimates:\n",
       "- $r$ = 0.2426\n",
       "- $\\alpha$ = 4.4136\n",
       "- $a$ = 0.7929\n",
       "- $b$ = 2.4259\n",
       "\n",
       "Log-Likelihood = -9582.4292\n",
       "\n",
       "BIC = 19195.9"
      ]
     },
     "metadata": {},
     "output_type": "display_data"
    },
    {
     "data": {
      "text/markdown": [
       "**Pareto/NBD:**\n",
       "\n",
       "Parameter Estimates:\n",
       "- $r$ = 0.5533\n",
       "- $\\alpha$ = 10.5778\n",
       "- $s$ = 0.6063\n",
       "- $\\beta$ = 11.6661\n",
       "\n",
       "Log-Likelihood = -9594.9762\n",
       "\n",
       "BIC = 19221.0"
      ]
     },
     "metadata": {},
     "output_type": "display_data"
    }
   ],
   "source": [
    "res = nbd_timing_params(repeat_trans, T)\n",
    "r, alpha = res.x\n",
    "ll = res.fun\n",
    "\n",
    "display_markdown(f'''**NBD - Timing-Model Equivalent:**\n",
    "\n",
    "Parameter Estimates:\n",
    "- $r$ = {r:0.4f}\n",
    "- $\\\\alpha$ = {alpha:0.4f}\n",
    "\n",
    "Log-Likelihood = {-ll:0.4f}\n",
    "\n",
    "BIC = {bic(2, num_customers, ll):.1f}''', raw=True)\n",
    "\n",
    "res = nbd_params(repeat_trans, T)\n",
    "r, alpha = res.x\n",
    "ll = res.fun\n",
    "\n",
    "display_markdown(f'''**NBD - Standard Counting Method:**\n",
    "\n",
    "Parameter Estimates:\n",
    "- $r$ = {r:0.4f}\n",
    "- $\\\\alpha$ = {alpha:0.4f}\n",
    "\n",
    "Log-Likelihood = {-ll:0.4f}\n",
    "\n",
    "BIC = {bic(2, num_customers, ll):.1f}''', raw=True)\n",
    "\n",
    "res = bgnbd_params(repeat_trans, last_purch, T)\n",
    "r, alpha, a, b = res.x\n",
    "ll = res.fun\n",
    "\n",
    "display_markdown(f'''**BG/NBD:**\n",
    "\n",
    "Parameter Estimates:\n",
    "- $r$ = {r:0.4f}\n",
    "- $\\\\alpha$ = {alpha:0.4f}\n",
    "- $a$ = {a:0.4f}\n",
    "- $b$ = {b:0.4f}\n",
    "\n",
    "Log-Likelihood = {-ll:0.4f}\n",
    "\n",
    "BIC = {bic(4, num_customers, ll):.1f}''', raw=True)\n",
    "\n",
    "res = paretonbd_params(repeat_trans, last_purch, T)\n",
    "r, alpha, s, beta_param = res.x\n",
    "ll = res.fun\n",
    "\n",
    "display_markdown(f'''**Pareto/NBD:**\n",
    "\n",
    "Parameter Estimates:\n",
    "- $r$ = {r:0.4f}\n",
    "- $\\\\alpha$ = {alpha:0.4f}\n",
    "- $s$ = {s:0.4f}\n",
    "- $\\\\beta$ = {beta_param:0.4f}\n",
    "\n",
    "Log-Likelihood = {-ll:0.4f}\n",
    "\n",
    "BIC = {bic(4, num_customers, ll):.1f}''', raw=True)"
   ]
  },
  {
   "cell_type": "markdown",
   "metadata": {},
   "source": [
    "Predicted Distribution of Transactions"
   ]
  },
  {
   "cell_type": "code",
   "execution_count": 5,
   "metadata": {},
   "outputs": [
    {
     "data": {
      "text/plain": [
       "array([18, 22, 17, 20, 23, 25, 32, 18, 24, 18, 25, 26, 28, 25, 22, 22, 22,\n",
       "       27, 29, 35, 25, 25, 29, 26, 27, 26, 29, 31, 33, 30, 22, 29, 30, 36,\n",
       "       36, 25, 43, 26, 31, 29, 33, 33, 25, 25, 25, 22, 35, 36, 34, 30, 25,\n",
       "       25, 32, 24, 37, 31, 36, 34, 30, 26, 31, 30, 32, 40, 29, 29, 28, 31,\n",
       "       30, 30, 26, 28, 32, 25, 34, 28, 31, 28, 21, 19, 24, 24, 33, 30])"
      ]
     },
     "execution_count": 5,
     "metadata": {},
     "output_type": "execute_result"
    }
   ],
   "source": [
    "num_repeats, repeat_freq = np.unique(repeat_trans, return_counts=True)\n",
    "\n",
    "# right-censored distribution in which counts greater than 7 are collapsed into a 7+ bin\n",
    "num_repeats_censored = num_repeats[:8]\n",
    "repeat_freq_censored = repeat_freq[:8]\n",
    "repeat_freq_censored[-1] = np.sum(repeat_freq) - np.sum(repeat_freq[:7])\n",
    "\n",
    "first_purch_uq, first_purch_count = np.unique(first_purch, return_counts=True)\n",
    "\n",
    "first_purch_count"
   ]
  }
 ],
 "metadata": {
  "kernelspec": {
   "display_name": "Python 3",
   "language": "python",
   "name": "python3"
  },
  "language_info": {
   "codemirror_mode": {
    "name": "ipython",
    "version": 3
   },
   "file_extension": ".py",
   "mimetype": "text/x-python",
   "name": "python",
   "nbconvert_exporter": "python",
   "pygments_lexer": "ipython3",
   "version": "3.12.8"
  }
 },
 "nbformat": 4,
 "nbformat_minor": 2
}
