{
  "cells": [
    {
      "cell_type": "markdown",
      "metadata": {},
      "source": [
        "---\n",
        "title: A Dynamic Changepoint Model for New Product Sales Forecasting\n",
        "author: Abdullah Mahmood\n",
        "date: last-modified\n",
        "format:\n",
        "    html:\n",
        "        theme: cosmo\n",
        "        css: quarto-style/style.css\n",
        "        highlight-style: atom-one\n",
        "        mainfont: Palatino\n",
        "        fontcolor: black\n",
        "        monobackgroundcolor: white\n",
        "        monofont: Menlo, Lucida Console, Liberation Mono, DejaVu Sans Mono, Bitstream Vera Sans Mono, Courier New, monospace\n",
        "        fontsize: 13pt\n",
        "        linestretch: 1.4\n",
        "        number-sections: true\n",
        "        number-depth: 5\n",
        "        toc: true\n",
        "        toc-location: right\n",
        "        toc-depth: 5\n",
        "        code-fold: true\n",
        "        code-copy: true\n",
        "        cap-location: bottom\n",
        "        format-links: false\n",
        "        embed-resources: true\n",
        "        anchor-sections: true\n",
        "        code-links:\n",
        "        -   text: GitHub Repo\n",
        "            icon: github\n",
        "            href: https://github.com/abdullahau/customer-analytics/\n",
        "        -   text: Quarto Markdown\n",
        "            icon: file-code\n",
        "            href: https://github.com/abdullahau/customer-analytics/blob/main/New-Product-Sales-Forecasting-Dynamic-Changepoint-Model.qmd\n",
        "        html-math-method:\n",
        "            method: mathjax\n",
        "            url: https://cdn.jsdelivr.net/npm/mathjax@3/es5/tex-mml-chtml.js\n",
        "jupyter: python3\n",
        "---"
      ]
    },
    {
      "cell_type": "markdown",
      "metadata": {},
      "source": [
        "This models presented in this notebook are a direct implementation of the modes proposed by *Peter S. Fader, Bruce G. S. Hardie, and Chun-Yao Huang* in their 2004 paper [*A Dynamic Changepoint Model for New Product Sales Forecasting*](https://www.jstor.org/stable/30036656) and *Sunil Gupta's* 1991 paper  [*Stochastic Models of Interpurchase Time with Time-Dependent Covariates*](https://journals.sagepub.com/doi/10.1177/002224379102800101)\n",
        "\n",
        "The models discussed here can generally be classified as **stochastic models of interpurchase time**. These models are used extensively in marketing literature for new product sales-forecasting for consumer packaged goods and usually fit and predict data quite well. \n",
        "\n",
        "There are four stochastic models typically used in a marketing context: *exponential* and *Erlang-2* at the *individual-consumer level* and these two distribution with *gamma heterogeneity* to model *aggregate-level behavior*. In his 1991 paper, Sunil Gupta proposed a variant of this model to include *marketing mix covariates* for better predictive and diagnostic purposes. Fader et al followed up on Gupta's model by nesting a number of **multiple-event timing processes** (dynamic changepoints) to capture the underlying evolution of the buying behavior associated with the new product (as timing process is not stationary). This extended the basic changepoint framework by allowing the changepoint process itself to evolve over time. \n",
        "\n",
        "We shall show that dynamic changepoint model accurately tracks (and forecasts) the total sales curve as well as its trial and repeat components and other managerial diagnostics (e.g., percent of triers repeating)."
      ]
    },
    {
      "cell_type": "markdown",
      "metadata": {},
      "source": [
        "## Imports"
      ]
    },
    {
      "cell_type": "code",
      "execution_count": null,
      "metadata": {},
      "outputs": [],
      "source": [
        "# Import Packages\n",
        "import pandas as pd\n",
        "import numpy as np\n",
        "from scipy.optimize import minimize\n",
        "\n",
        "# Import Data\n",
        "df = pd.read_csv('data/kiwibubbles/kiwibubbles_tran.csv')\n",
        "df['Time'] = (df['Week'] - 1) * 7 + df['Day']"
      ]
    },
    {
      "cell_type": "markdown",
      "metadata": {},
      "source": [
        "## Introduction"
      ]
    },
    {
      "cell_type": "markdown",
      "metadata": {},
      "source": [
        "For many new products, it is difficult to get an accurate read on their long-term potential based on only a few initial weeks of postlaunch (or test-market) sales data. Common problems include the following types of issues: (1) Significant promotional activity can artificially skew the initial sales levels, (2) early buyers may not exhibit typical purchasing rates, and (3) repeat-purchasing patterns may be hard to sort out from the voluminous amounts of first purchase (or trial) data. It is therefore essential for practitioners to rely on formal models of new product sales to tease apart and understand each of these underlying components to create a valid sales forecast.\n",
        "\n",
        "At the heart of a new product sales-forecasting model is a multiple-event timing process. For many\n",
        "behavioral processes besides new product sales forecasting, researchers need to capture a series of interpurchase cycles while accommodating customer heterogeneity. In addition, they need to filter out the influences that exogenous factors, such as promotional activities, may exert within and across these multiple purchase cycles."
      ]
    },
    {
      "cell_type": "markdown",
      "metadata": {},
      "source": [
        "## Models"
      ]
    },
    {
      "cell_type": "markdown",
      "metadata": {},
      "source": [
        "### Stochastic Interpurchase Time Models Without Covariates"
      ]
    },
    {
      "cell_type": "markdown",
      "metadata": {},
      "source": [
        "**Note**: \n",
        "\n",
        "- Log likelihood for $N$ consumers is simply the log likelihood of consumer $i$ summed over $i = 1$ to  $N$.\n",
        "- $\\lambda$ = purchase rate, $t_{ic}$ = censored time, $n_i$ = number of complete observations for consumer $i$, $t_{is}$ = sum of $n_i$ purchase times for consumer $i$.\n",
        "- $r$ and $\\alpha$ are parameters of the gamma mixing distribution.\n",
        "\n",
        "#### Model: Exponential \n",
        "\n",
        "Log-Likelihood Function:\n",
        "\n",
        "$$\n",
        "LL = \\sum^{N}_{i=1}n_i \\log\\lambda - \\lambda(t_{is}+t_{ic})\n",
        "$$\n",
        "\n",
        "where:\n",
        "\n",
        "$$\n",
        "\\begin{align*}\n",
        "t_{is} &= \\sum_{j=1}^{n_i} t_{ij} \\\\\n",
        "&= \\text{sum of } n_i \\text{ interpurchase times of consumer } i\n",
        "\\end{align*}\n",
        "$$\n",
        "\n",
        "and \n",
        "\n",
        "$$\n",
        "t_{ic} = \\text{censored time for consumer }i\n",
        "$$\n",
        "\n",
        "#### Model: Exponential/Gamma\n",
        "\n",
        "Log-Likelihood Function:\n",
        "\n",
        "$$\n",
        "LL = \\sum_{i=1}^{N}\\left[r \\log \\alpha + \\sum_{j=0}^{n_i - 1} \\log(r+j) - (n_i + r)\\log(t_{is} + t_{ic} + \\alpha)   \\right]\n",
        "$$\n",
        "\n",
        "#### Model: Erlang-2\n",
        "\n",
        "Log-Likelihood Function:\n",
        "\n",
        "$$\n",
        "LL = \\sum_{i=1}^{N} 2n_i \\log \\lambda + \\log t_{ip} - \\lambda (t_{is} + t_{ic}) + \\log(1 + \\lambda t_{ic})\n",
        "$$\n",
        "\n",
        "where:\n",
        "\n",
        "$$\n",
        "\\begin{align*}\n",
        "t_{ip} &= \\prod_{j=1}^{n_i} t_{ij} \\\\\n",
        "&= \\text{product of interpurchase times for consumer }i\n",
        "\\end{align*}\n",
        "$$\n",
        "\n",
        "#### Model: Erlang-2/Gamma\n",
        "\n",
        "Log-Likelihood Function:\n",
        "\n",
        "$$\n",
        "LL = \\sum_{i=1}^{N} \\left[  r \\log\\alpha + \\log t_{ip} + \\sum_{j=0}^{2n_i - 1} \\log (r+j) + \\log\\left(1+\\frac{(2n_i + r)t_{ic}}{t_{is} + t_{ic} + \\alpha}\\right) - (2n_i + r)\\log(t_{is}+t_{ic} + \\alpha) \\right]\n",
        "$$\n",
        "\n"
      ]
    },
    {
      "cell_type": "code",
      "execution_count": null,
      "metadata": {},
      "outputs": [
        {
          "name": "stdout",
          "output_type": "stream",
          "text": [
            "-2517.0324117808714\n"
          ]
        }
      ],
      "source": [
        "df_calib_mkt1 = df[(df['Market'] == 1) & (df['Time'] <= 182)]\n",
        "panelists = df_calib_mkt1['Panelist ID'].unique()\n",
        "\n",
        "r = 0.079\n",
        "alpha = 71.375\n",
        "ll = 0\n",
        "for i in panelists:\n",
        "    cust_data = df_calib_mkt1[df_calib_mkt1['Panelist ID'] == i].sort_values('Time')\n",
        "    n = len(cust_data)\n",
        "    ts = cust_data['Time'].sum()\n",
        "    tc = 182 - cust_data['Time'].to_numpy()[-1]    \n",
        "    ll += r * np.log(alpha)\n",
        "    for j in range(n):\n",
        "        ll += np.log(r + j)\n",
        "    ll -= (n + r) * np.log(ts + tc + alpha)\n",
        "print(ll)"
      ]
    },
    {
      "cell_type": "code",
      "execution_count": null,
      "metadata": {},
      "outputs": [
        {
          "name": "stdout",
          "output_type": "stream",
          "text": [
            "-2406.936224578875\n"
          ]
        }
      ],
      "source": [
        "df_calib_mkt1 = df[(df['Market'] == 1) & (df['Time'] <= 182)]\n",
        "panelists = df_calib_mkt1['Panelist ID'].unique()\n",
        "\n",
        "r = 0.079\n",
        "alpha = 71.375\n",
        "ll = 0\n",
        "for i in panelists:\n",
        "    cust_data = df_calib_mkt1[df_calib_mkt1['Panelist ID'] == i].sort_values('Time')\n",
        "    cust_data['Time Adj'] = cust_data['Time'].diff().fillna(0)    \n",
        "    n = len(cust_data)\n",
        "    ts = cust_data['Time Adj'].sum()\n",
        "    tc = 182\n",
        "    ll += r * np.log(alpha)\n",
        "    for j in range(n):\n",
        "        ll += np.log(r + j)\n",
        "    ll -= (n + r) * np.log(ts + tc + alpha)\n",
        "print(ll)"
      ]
    },
    {
      "cell_type": "markdown",
      "metadata": {},
      "source": [
        "### Stochastic Interpurchase Time Models With Covariates"
      ]
    },
    {
      "cell_type": "markdown",
      "metadata": {},
      "source": [
        "**Note**: \n",
        "\n",
        "- Log likelihood for $N$ consumers is simply the log likelihood of consumer $i$ summed over $i = 1$ to  $N$.\n",
        "- $\\lambda$ = purchase rate, $t_{ic}$ = censored time, $n_i$ = number of complete observations for consumer $i$, $t_{is}$ = sum of $n_i$ purchase times for consumer $i$.\n",
        "- $r$ and $\\alpha$ are parameters of the gamma mixing distribution.\n",
        "- the subscript $k$ indicates the week in which the current purchase is made, given the week of last purchase is designated as week 1, $(k \\ge 1)$."
      ]
    },
    {
      "cell_type": "code",
      "execution_count": null,
      "metadata": {},
      "outputs": [],
      "source": [
        "import pandas as pd"
      ]
    }
  ],
  "metadata": {
    "kernelspec": {
      "display_name": "Python 3 (ipykernel)",
      "language": "python",
      "name": "python3",
      "path": "/Users/rehabnaeem/Developer/.venv/share/jupyter/kernels/python3"
    },
    "language_info": {
      "name": "python"
    }
  },
  "nbformat": 4,
  "nbformat_minor": 4
}
