{
  "cells": [
    {
      "cell_type": "markdown",
      "metadata": {},
      "source": [
        "---\n",
        "title: A Dynamic Changepoint Model for New Product Sales Forecasting\n",
        "author: Abdullah Mahmood\n",
        "date: last-modified\n",
        "format:\n",
        "    html:\n",
        "        theme: cosmo\n",
        "        css: quarto-style/style.css\n",
        "        highlight-style: atom-one\n",
        "        mainfont: Palatino\n",
        "        fontcolor: black\n",
        "        monobackgroundcolor: white\n",
        "        monofont: Menlo, Lucida Console, Liberation Mono, DejaVu Sans Mono, Bitstream Vera Sans Mono, Courier New, monospace\n",
        "        fontsize: 13pt\n",
        "        linestretch: 1.4\n",
        "        number-sections: true\n",
        "        number-depth: 5\n",
        "        toc: true\n",
        "        toc-location: right\n",
        "        toc-depth: 5\n",
        "        code-fold: true\n",
        "        code-copy: true\n",
        "        cap-location: bottom\n",
        "        format-links: false\n",
        "        embed-resources: true\n",
        "        anchor-sections: true\n",
        "        code-links:\n",
        "        -   text: GitHub Repo\n",
        "            icon: github\n",
        "            href: https://github.com/abdullahau/customer-analytics/\n",
        "        -   text: Quarto Markdown\n",
        "            icon: file-code\n",
        "            href: https://github.com/abdullahau/customer-analytics/blob/main/New-Product-Sales-Forecasting-Dynamic-Changepoint-Model.qmd\n",
        "        html-math-method:\n",
        "            method: mathjax\n",
        "            url: https://cdn.jsdelivr.net/npm/mathjax@3/es5/tex-mml-chtml.js\n",
        "jupyter: python3\n",
        "---"
      ]
    },
    {
      "cell_type": "markdown",
      "metadata": {},
      "source": [
        "This models presented in this notebook are a direct implementation of the modes proposed by *Peter S. Fader, Bruce G. S. Hardie, and Chun-Yao Huang* in their 2004 paper [*A Dynamic Changepoint Model for New Product Sales Forecasting*](https://www.jstor.org/stable/30036656) and *Sunil Gupta's* 1991 paper  [*Stochastic Models of Interpurchase Time with Time-Dependent Covariates*](https://journals.sagepub.com/doi/10.1177/002224379102800101)\n",
        "\n",
        "The models discussed here can generally be classified as **stochastic models of interpurchase time**. These models are used extensively in marketing literature for new product sales-forecasting for consumer packaged goods and usually fit and predict data quite well. \n",
        "\n",
        "There are four stochastic models typically used in a marketing context: *exponential* and *Erlang-2* at the *individual-consumer level* and these two distribution with *gamma heterogeneity* to model *aggregate-level behavior*. In his 1991 paper, Sunil Gupta proposed a variant of this model to include *marketing mix covariates* for better predictive and diagnostic purposes. Fader et al followed up on Gupta's model by nesting a number of **multiple-event timing processes** (dynamic changepoints) to capture the underlying evolution of the buying behavior associated with the new product (as timing process is not stationary). This extended the basic changepoint framework by allowing the changepoint process itself to evolve over time. \n",
        "\n",
        "We shall show that dynamic changepoint model accurately tracks (and forecasts) the total sales curve as well as its trial and repeat components and other managerial diagnostics (e.g., percent of triers repeating)."
      ]
    },
    {
      "cell_type": "markdown",
      "metadata": {},
      "source": [
        "## Imports"
      ]
    },
    {
      "cell_type": "code",
      "execution_count": 1,
      "metadata": {},
      "outputs": [],
      "source": [
        "# Import Packages\n",
        "import pandas as pd\n",
        "import numpy as np\n",
        "from scipy.optimize import minimize\n",
        "from scipy.special import gammaln\n",
        "\n",
        "# Import Data\n",
        "df = pd.read_csv('data/kiwibubbles/kiwibubbles_tran.csv')\n",
        "df['Time'] = (df['Week'] - 1) * 7 + df['Day']\n",
        "num_panelists = 2_799"
      ]
    },
    {
      "cell_type": "markdown",
      "metadata": {},
      "source": [
        "## Introduction"
      ]
    },
    {
      "cell_type": "markdown",
      "metadata": {},
      "source": [
        "For many new products, it is difficult to get an accurate read on their long-term potential based on only a few initial weeks of postlaunch (or test-market) sales data. Common problems include the following types of issues: (1) Significant promotional activity can artificially skew the initial sales levels, (2) early buyers may not exhibit typical purchasing rates, and (3) repeat-purchasing patterns may be hard to sort out from the voluminous amounts of first purchase (or trial) data. It is therefore essential for practitioners to rely on formal models of new product sales to tease apart and understand each of these underlying components to create a valid sales forecast.\n",
        "\n",
        "At the heart of a new product sales-forecasting model is a multiple-event timing process. For many\n",
        "behavioral processes besides new product sales forecasting, researchers need to capture a series of interpurchase cycles while accommodating customer heterogeneity. In addition, they need to filter out the influences that exogenous factors, such as promotional activities, may exert within and across these multiple purchase cycles."
      ]
    },
    {
      "cell_type": "markdown",
      "metadata": {},
      "source": [
        "## Models"
      ]
    },
    {
      "cell_type": "markdown",
      "metadata": {},
      "source": [
        "### Stochastic Interpurchase Time Models Without Covariates"
      ]
    },
    {
      "cell_type": "markdown",
      "metadata": {},
      "source": [
        "**Note**: \n",
        "\n",
        "- Log likelihood for $N$ consumers is simply the log likelihood of consumer $i$ summed over $i = 1$ to  $N$.\n",
        "- $\\lambda$ = purchase rate, $t_{ic}$ = censored time, $n_i$ = number of complete observations for consumer $i$, $t_{is}$ = sum of $n_i$ purchase times for consumer $i$.\n",
        "- $r$ and $\\alpha$ are parameters of the gamma mixing distribution.\n",
        "\n",
        "#### Model: Exponential \n",
        "\n",
        "Log-Likelihood Function:\n",
        "\n",
        "$$\n",
        "LL = \\sum^{N}_{i=1}n_i \\log\\lambda - \\lambda(t_{is}+t_{ic})\n",
        "$$\n",
        "\n",
        "where:\n",
        "\n",
        "$$\n",
        "\\begin{align*}\n",
        "t_{is} &= \\sum_{j=1}^{n_i} t_{ij} \\\\\n",
        "&= \\text{sum of } n_i \\text{ interpurchase times of consumer } i\n",
        "\\end{align*}\n",
        "$$\n",
        "\n",
        "and \n",
        "\n",
        "$$\n",
        "t_{ic} = \\text{censored time for consumer }i\n",
        "$$"
      ]
    },
    {
      "cell_type": "code",
      "execution_count": null,
      "metadata": {},
      "outputs": [],
      "source": []
    },
    {
      "cell_type": "markdown",
      "metadata": {},
      "source": [
        "#### Model: Exponential/Gamma\n",
        "\n",
        "Log-Likelihood Function:\n",
        "\n",
        "$$\n",
        "LL = \\sum_{i=1}^{N}\\left[r \\log \\alpha + \\sum_{j=0}^{n_i - 1} \\log(r+j) - (n_i + r)\\log(t_{is} + t_{ic} + \\alpha)   \\right]\n",
        "$$\n",
        "\n",
        "Identity from properties of the Gamma function:\n",
        "\n",
        "$$\n",
        "\\sum_{j=0}^{n_i - 1} \\log(r + j) = \\log\\left(\\frac{\\Gamma(r + n_i)}{\\Gamma(r)}\\right) = \\texttt{gammaln}(r + n_i) - \\texttt{gammaln}(r)\n",
        "$$\n"
      ]
    },
    {
      "cell_type": "code",
      "execution_count": 2,
      "metadata": {},
      "outputs": [
        {
          "name": "stdout",
          "output_type": "stream",
          "text": [
            "-3812.397650035847\n"
          ]
        }
      ],
      "source": [
        "r = 0.079\n",
        "alpha = 71.375\n",
        "calib = 182\n",
        "df_calib = df[df['Time'] <= calib]\n",
        "calib_buyers = df_calib['Panelist ID'].unique()\n",
        "\n",
        "ll = 0\n",
        "for i in range(num_panelists):\n",
        "    if i < len(calib_buyers):\n",
        "        panelist = calib_buyers[i]\n",
        "        cust_data = df_calib[df_calib['Panelist ID'] == panelist].sort_values('Time')\n",
        "        purchase_times = cust_data['Time'].to_numpy()\n",
        "        n = len(cust_data)\n",
        "        ts = np.sum(np.diff(purchase_times, prepend=0))\n",
        "        tc = calib - purchase_times[-1]          \n",
        "    else:\n",
        "        n, ts = 0, 0\n",
        "        tc = calib\n",
        "    ll += r * np.log(alpha) + gammaln(r + n) - gammaln(r)\n",
        "    ll -= (n + r) * np.log(ts + tc + alpha)\n",
        "\n",
        "print(ll)"
      ]
    },
    {
      "cell_type": "code",
      "execution_count": 3,
      "metadata": {},
      "outputs": [
        {
          "name": "stdout",
          "output_type": "stream",
          "text": [
            "-3558.97758883386\n"
          ]
        }
      ],
      "source": [
        "r = 0.079\n",
        "alpha = 71.375\n",
        "calib = 182\n",
        "df_calib = df[df['Time'] <= calib]\n",
        "\n",
        "grouped = df_calib.sort_values(['Panelist ID', 'Time']).groupby('Panelist ID')\n",
        "\n",
        "def summarize_customer(group):\n",
        "    times = group['Time'].values\n",
        "    n = len(times)\n",
        "    t_is = np.sum(np.diff(times, prepend=0))\n",
        "    t_ic = calib - times[-1]\n",
        "    return pd.Series({'n': n, 't_is': t_is, 't_ic': t_ic})\n",
        "\n",
        "summary = grouped.apply(summarize_customer, include_groups=False).reset_index()\n",
        "\n",
        "summary = summary[summary['n'] > 0]\n",
        "\n",
        "n = summary['n'].values\n",
        "t_is = summary['t_is'].values\n",
        "t_ic = summary['t_ic'].values\n",
        "\n",
        "ll = np.sum(\n",
        "    r * np.log(alpha)\n",
        "    + gammaln(r + n) - gammaln(r)\n",
        "    - ((n + r) * np.log(t_is + t_ic + alpha))\n",
        ")\n",
        "\n",
        "print(ll)"
      ]
    },
    {
      "cell_type": "markdown",
      "metadata": {},
      "source": [
        "$$\n",
        "LL = \\sum_{i=1}^{N} \\left[r \\log \\alpha + \\log A_{ipk} + \\sum_{j=0}^{n_i - 1}\\log(r+j)-(n_i + r)\\log(B_{isk}+B_{ick}+\\alpha)\\right]\n",
        "$$\n",
        "\n",
        "$A_{ipk} = \\prod_j A_{ijk} = \\prod_j \\exp(\\beta\\mathbf{X}_{ijk})$ where $\\mathbf{X}$ are covariates, $B_{ijk}$\n",
        "\n",
        "$B_{isk} = \\sum_j B_{ijk}$\n",
        "\n",
        "$B_{ipk} = \\prod_j B_{ijk}$\n",
        "\n",
        "$A_{k} = \\exp(\\beta\\mathbf{X}_k)$\n",
        "\n",
        "$B_{k} = A_1 d_1 + \\sum_{w=2}^{k-1}A_{w} + A_{k}[t - d_1 - \\gamma(k-2)]$\n",
        "\n",
        "if there are no covariates, $\\beta \\mathbf{X} = 0$ and hence $A_{ijk} = 1$ and $B_{ijk} = t_{ij}$"
      ]
    },
    {
      "cell_type": "markdown",
      "metadata": {},
      "source": [
        "#### Model: Erlang-2\n",
        "\n",
        "Log-Likelihood Function:\n",
        "\n",
        "$$\n",
        "LL = \\sum_{i=1}^{N} 2n_i \\log \\lambda + \\log t_{ip} - \\lambda (t_{is} + t_{ic}) + \\log(1 + \\lambda t_{ic})\n",
        "$$\n",
        "\n",
        "where:\n",
        "\n",
        "$$\n",
        "\\begin{align*}\n",
        "t_{ip} &= \\prod_{j=1}^{n_i} t_{ij} \\\\\n",
        "&= \\text{product of interpurchase times for consumer }i\n",
        "\\end{align*}\n",
        "$$"
      ]
    },
    {
      "cell_type": "markdown",
      "metadata": {},
      "source": [
        "#### Model: Erlang-2/Gamma\n",
        "\n",
        "Log-Likelihood Function:\n",
        "\n",
        "$$\n",
        "LL = \\sum_{i=1}^{N} \\left[  r \\log\\alpha + \\log t_{ip} + \\sum_{j=0}^{2n_i - 1} \\log (r+j) + \\log\\left(1+\\frac{(2n_i + r)t_{ic}}{t_{is} + t_{ic} + \\alpha}\\right) - (2n_i + r)\\log(t_{is}+t_{ic} + \\alpha) \\right]\n",
        "$$\n",
        "\n"
      ]
    },
    {
      "cell_type": "code",
      "execution_count": 4,
      "metadata": {},
      "outputs": [
        {
          "name": "stdout",
          "output_type": "stream",
          "text": [
            "-3832.886443482842\n"
          ]
        }
      ],
      "source": [
        "r = 0.095\n",
        "alpha = 33.094\n",
        "calib = 182\n",
        "\n",
        "df_calib = df[df['Time'] <= calib]\n",
        "\n",
        "grouped = df_calib.sort_values(['Panelist ID', 'Time']).groupby('Panelist ID')\n",
        "\n",
        "def summarize_customer(group):\n",
        "    times = group['Time'].values\n",
        "    n = len(times)\n",
        "    if n < 2:\n",
        "        return pd.Series({'n': n, 't_is': 0.0, 't_ic': 0.0, 'log_t_ip': 0})\n",
        "\n",
        "    interpurchase_times = np.diff(times, prepend=0)\n",
        "    log_t_ip = np.sum(np.log(interpurchase_times))\n",
        "    t_is = np.sum(interpurchase_times)\n",
        "    t_ic = calib - times[-1]\n",
        "\n",
        "    return pd.Series({'n': n, 't_is': t_is, 't_ic': t_ic, 'log_t_ip': log_t_ip})\n",
        "\n",
        "summary = grouped.apply(summarize_customer, include_groups=False).reset_index()\n",
        "\n",
        "n = summary['n'].values\n",
        "t_is = summary['t_is'].values\n",
        "t_ic = summary['t_ic'].values\n",
        "log_t_ip = summary['log_t_ip'].values\n",
        "\n",
        "ll = np.sum(\n",
        "    r * np.log(alpha)\n",
        "    + log_t_ip\n",
        "    + gammaln(r + 2 * n) - gammaln(r)\n",
        "    + np.log(1 + ((2 * n + r) * t_ic) / (t_is + t_ic + alpha))\n",
        "    - (2 * n + r) * np.log(t_is + t_ic + alpha)\n",
        ")\n",
        "\n",
        "\n",
        "\n",
        "print(ll)"
      ]
    },
    {
      "cell_type": "markdown",
      "metadata": {},
      "source": [
        "### Stochastic Interpurchase Time Models With Covariates"
      ]
    },
    {
      "cell_type": "markdown",
      "metadata": {},
      "source": [
        "**Note**: \n",
        "\n",
        "- Log likelihood for $N$ consumers is simply the log likelihood of consumer $i$ summed over $i = 1$ to  $N$.\n",
        "- $\\lambda$ = purchase rate, $t_{ic}$ = censored time, $n_i$ = number of complete observations for consumer $i$, $t_{is}$ = sum of $n_i$ purchase times for consumer $i$.\n",
        "- $r$ and $\\alpha$ are parameters of the gamma mixing distribution.\n",
        "- the subscript $k$ indicates the week in which the current purchase is made, given the week of last purchase is designated as week 1, $(k \\ge 1)$."
      ]
    }
  ],
  "metadata": {
    "kernelspec": {
      "display_name": "Python 3 (ipykernel)",
      "language": "python",
      "name": "python3",
      "path": "/Users/rehabnaeem/Developer/.venv/share/jupyter/kernels/python3"
    },
    "language_info": {
      "name": "python"
    }
  },
  "nbformat": 4,
  "nbformat_minor": 4
}
