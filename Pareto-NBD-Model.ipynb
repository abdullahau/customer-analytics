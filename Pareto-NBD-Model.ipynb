{
 "cells": [
  {
   "cell_type": "markdown",
   "metadata": {},
   "source": [
    "Source:\n",
    "- [\"Counting Your Customers\" the Easy Way: An Alternative to the Pareto/NBD Model](https://www.brucehardie.com/abstracts/abstract-fhl_2004-04.html)\n",
    "- [A Note on Implementing the Pareto/NBD Model in MATLAB](https://www.brucehardie.com/notes/008/)\n",
    "- [A Note on Deriving the Pareto/NBD Model and Related Expressions](https://brucehardie.com/notes/009/)\n",
    "- [Deriving an Expression for P(X(t)=x) Under the Pareto/NBD Model](http://www.brucehardie.com/notes/012/)\n",
    "- [Deriving an Expression for P(X(t,t+τ)=x) Under the Pareto/NBD Model](http://www.brucehardie.com/notes/013/)\n",
    "- [Incorporating Time-Invariant Covariates into the Pareto/NBD and BG/NBD Models](http://www.brucehardie.com/notes/019/)\n",
    "- [Implementing the Pareto/NBD Model Given Interval-Censored Data](http://www.brucehardie.com/notes/011/)"
   ]
  }
 ],
 "metadata": {
  "language_info": {
   "name": "python"
  }
 },
 "nbformat": 4,
 "nbformat_minor": 2
}
