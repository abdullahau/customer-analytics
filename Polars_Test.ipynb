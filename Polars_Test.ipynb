{
 "cells": [
  {
   "cell_type": "markdown",
   "metadata": {
    "id": "J0Nrn2ZX9UOK"
   },
   "source": [
    "### Imports"
   ]
  },
  {
   "cell_type": "markdown",
   "metadata": {
    "id": "Gxxt_AWN9igL"
   },
   "source": [
    "#### Import Packages"
   ]
  },
  {
   "cell_type": "code",
   "execution_count": 43,
   "metadata": {
    "id": "Bsw2hr5T8cu3"
   },
   "outputs": [
    {
     "data": {
      "text/plain": [
       "RendererRegistry.enable('mimetype')"
      ]
     },
     "execution_count": 43,
     "metadata": {},
     "output_type": "execute_result"
    }
   ],
   "source": [
    "import polars as pl\n",
    "import altair as alt\n",
    "import numpy as np\n",
    "from great_tables import GT\n",
    "import gc\n",
    "\n",
    "# https://altair-viz.github.io/user_guide/display_frontends.html#displaying-in-jupyterlab\n",
    "alt.renderers.enable('mimetype')\n",
    "# alt.JupyterChart.enable_offline()\n",
    "# alt.renderers.enable(\"jupyter\", offline=True)"
   ]
  },
  {
   "cell_type": "markdown",
   "metadata": {
    "id": "R7dq85pW9WSz"
   },
   "source": [
    "#### Import Panel Data"
   ]
  },
  {
   "cell_type": "code",
   "execution_count": 44,
   "metadata": {
    "id": "byUO8v599TuY"
   },
   "outputs": [
    {
     "data": {
      "text/html": [
       "<div><style>\n",
       ".dataframe > thead > tr,\n",
       ".dataframe > tbody > tr {\n",
       "  text-align: right;\n",
       "  white-space: pre-wrap;\n",
       "}\n",
       "</style>\n",
       "<small>shape: (5, 7)</small><table border=\"1\" class=\"dataframe\"><thead><tr><th>panel_id</th><th>trans_id</th><th>week</th><th>sku_id</th><th>units</th><th>price</th><th>brand</th></tr><tr><td>i32</td><td>i32</td><td>i16</td><td>cat</td><td>i16</td><td>f32</td><td>cat</td></tr></thead><tbody><tr><td>3102011</td><td>1569</td><td>6</td><td>&quot;19&quot;</td><td>1</td><td>2.79</td><td>&quot;Alpha&quot;</td></tr><tr><td>3102012</td><td>4301</td><td>15</td><td>&quot;15&quot;</td><td>1</td><td>3.19</td><td>&quot;Alpha&quot;</td></tr><tr><td>3102012</td><td>4301</td><td>15</td><td>&quot;15&quot;</td><td>1</td><td>3.19</td><td>&quot;Alpha&quot;</td></tr><tr><td>3102012</td><td>4301</td><td>15</td><td>&quot;38&quot;</td><td>1</td><td>3.49</td><td>&quot;Bravo&quot;</td></tr><tr><td>3102012</td><td>4301</td><td>15</td><td>&quot;44&quot;</td><td>1</td><td>3.49</td><td>&quot;Bravo&quot;</td></tr></tbody></table></div>"
      ],
      "text/plain": [
       "shape: (5, 7)\n",
       "┌──────────┬──────────┬──────┬────────┬───────┬───────┬───────┐\n",
       "│ panel_id ┆ trans_id ┆ week ┆ sku_id ┆ units ┆ price ┆ brand │\n",
       "│ ---      ┆ ---      ┆ ---  ┆ ---    ┆ ---   ┆ ---   ┆ ---   │\n",
       "│ i32      ┆ i32      ┆ i16  ┆ cat    ┆ i16   ┆ f32   ┆ cat   │\n",
       "╞══════════╪══════════╪══════╪════════╪═══════╪═══════╪═══════╡\n",
       "│ 3102011  ┆ 1569     ┆ 6    ┆ 19     ┆ 1     ┆ 2.79  ┆ Alpha │\n",
       "│ 3102012  ┆ 4301     ┆ 15   ┆ 15     ┆ 1     ┆ 3.19  ┆ Alpha │\n",
       "│ 3102012  ┆ 4301     ┆ 15   ┆ 15     ┆ 1     ┆ 3.19  ┆ Alpha │\n",
       "│ 3102012  ┆ 4301     ┆ 15   ┆ 38     ┆ 1     ┆ 3.49  ┆ Bravo │\n",
       "│ 3102012  ┆ 4301     ┆ 15   ┆ 44     ┆ 1     ┆ 3.49  ┆ Bravo │\n",
       "└──────────┴──────────┴──────┴────────┴───────┴───────┴───────┘"
      ]
     },
     "execution_count": 44,
     "metadata": {},
     "output_type": "execute_result"
    }
   ],
   "source": [
    "grocery_lf = pl.scan_csv(source=\"data/panel-datasets/edible_grocery.csv\",\n",
    "                         has_header=True,\n",
    "                         separator=\",\",\n",
    "                         schema={'panel_id': pl.Int32,\n",
    "                                 'trans_id': pl.Int32,\n",
    "                                 'week': pl.Int16,\n",
    "                                 'sku_id': pl.Categorical,\n",
    "                                 'units': pl.Int16,\n",
    "                                 'price': pl.Float32,\n",
    "                                 'brand': pl.Categorical})\n",
    "grocery_lf.head().collect()"
   ]
  },
  {
   "cell_type": "code",
   "execution_count": 45,
   "metadata": {
    "id": "ECLFaaIe95pK"
   },
   "outputs": [
    {
     "data": {
      "text/html": [
       "<div><style>\n",
       ".dataframe > thead > tr,\n",
       ".dataframe > tbody > tr {\n",
       "  text-align: right;\n",
       "  white-space: pre-wrap;\n",
       "}\n",
       "</style>\n",
       "<small>shape: (5, 2)</small><table border=\"1\" class=\"dataframe\"><thead><tr><th>sku_id</th><th>weight</th></tr><tr><td>cat</td><td>i16</td></tr></thead><tbody><tr><td>&quot;1&quot;</td><td>400</td></tr><tr><td>&quot;2&quot;</td><td>400</td></tr><tr><td>&quot;3&quot;</td><td>400</td></tr><tr><td>&quot;4&quot;</td><td>250</td></tr><tr><td>&quot;5&quot;</td><td>1000</td></tr></tbody></table></div>"
      ],
      "text/plain": [
       "shape: (5, 2)\n",
       "┌────────┬────────┐\n",
       "│ sku_id ┆ weight │\n",
       "│ ---    ┆ ---    │\n",
       "│ cat    ┆ i16    │\n",
       "╞════════╪════════╡\n",
       "│ 1      ┆ 400    │\n",
       "│ 2      ┆ 400    │\n",
       "│ 3      ┆ 400    │\n",
       "│ 4      ┆ 250    │\n",
       "│ 5      ┆ 1000   │\n",
       "└────────┴────────┘"
      ]
     },
     "execution_count": 45,
     "metadata": {},
     "output_type": "execute_result"
    }
   ],
   "source": [
    "sku_lf = pl.scan_csv(source=\"data/panel-datasets/sku_weight.csv\",\n",
    "                         has_header=True,\n",
    "                         separator=\",\",\n",
    "                         schema={'sku_id': pl.Categorical,\n",
    "                                 'weight': pl.Int16})\n",
    "sku_lf.head().collect()"
   ]
  },
  {
   "cell_type": "code",
   "execution_count": 46,
   "metadata": {
    "id": "y-r0cpsA97dT"
   },
   "outputs": [
    {
     "data": {
      "text/html": [
       "<div><style>\n",
       ".dataframe > thead > tr,\n",
       ".dataframe > tbody > tr {\n",
       "  text-align: right;\n",
       "  white-space: pre-wrap;\n",
       "}\n",
       "</style>\n",
       "<small>shape: (5, 5)</small><table border=\"1\" class=\"dataframe\"><thead><tr><th>ID</th><th>Market</th><th>Week</th><th>Day</th><th>Units</th></tr><tr><td>i16</td><td>cat</td><td>i16</td><td>i16</td><td>i16</td></tr></thead><tbody><tr><td>10001</td><td>&quot;1&quot;</td><td>19</td><td>3</td><td>1</td></tr><tr><td>10002</td><td>&quot;1&quot;</td><td>12</td><td>5</td><td>1</td></tr><tr><td>10003</td><td>&quot;1&quot;</td><td>37</td><td>7</td><td>1</td></tr><tr><td>10004</td><td>&quot;1&quot;</td><td>30</td><td>6</td><td>1</td></tr><tr><td>10004</td><td>&quot;1&quot;</td><td>47</td><td>3</td><td>1</td></tr></tbody></table></div>"
      ],
      "text/plain": [
       "shape: (5, 5)\n",
       "┌───────┬────────┬──────┬─────┬───────┐\n",
       "│ ID    ┆ Market ┆ Week ┆ Day ┆ Units │\n",
       "│ ---   ┆ ---    ┆ ---  ┆ --- ┆ ---   │\n",
       "│ i16   ┆ cat    ┆ i16  ┆ i16 ┆ i16   │\n",
       "╞═══════╪════════╪══════╪═════╪═══════╡\n",
       "│ 10001 ┆ 1      ┆ 19   ┆ 3   ┆ 1     │\n",
       "│ 10002 ┆ 1      ┆ 12   ┆ 5   ┆ 1     │\n",
       "│ 10003 ┆ 1      ┆ 37   ┆ 7   ┆ 1     │\n",
       "│ 10004 ┆ 1      ┆ 30   ┆ 6   ┆ 1     │\n",
       "│ 10004 ┆ 1      ┆ 47   ┆ 3   ┆ 1     │\n",
       "└───────┴────────┴──────┴─────┴───────┘"
      ]
     },
     "execution_count": 46,
     "metadata": {},
     "output_type": "execute_result"
    }
   ],
   "source": [
    "kiwi_lf = pl.scan_csv(source=\"data/panel-datasets/kiwibubbles_trans.csv\",\n",
    "                      has_header=True,\n",
    "                      separator=\",\",\n",
    "                      schema={'ID': pl.Int16,\n",
    "                              'Market': pl.Categorical,\n",
    "                              'Week': pl.Int16,\n",
    "                              'Day': pl.Int16,\n",
    "                              'Units': pl.Int16})\n",
    "kiwi_lf.head().collect()"
   ]
  },
  {
   "cell_type": "markdown",
   "metadata": {},
   "source": [
    "#### Reusable Functions"
   ]
  },
  {
   "cell_type": "code",
   "execution_count": 47,
   "metadata": {},
   "outputs": [],
   "source": [
    "def weekly_plot(dataframe, y, color=None, title=\"\", y_axis_label=\"\", pct=False, legend=False):\n",
    "    \n",
    "    # Configure the color encoding only if color is provided\n",
    "    if color is not None:\n",
    "        color_encoding = alt.Color(\n",
    "            f'{color}:N',  # N = a discrete unordered category\n",
    "            legend=alt.Legend(title=color) if legend else None  # Add legend conditionally\n",
    "        )\n",
    "    else:\n",
    "        color_encoding = alt.Color()  # No color encoding    \n",
    "    \n",
    "    chart = alt.Chart(dataframe).mark_line(strokeWidth=1).encode(\n",
    "        x = alt.X(\n",
    "            'week',\n",
    "            axis=alt.Axis(\n",
    "                values=np.arange(0, 104 + 1, 13), # Explicitly specify quarter-end weeks\n",
    "                labelExpr=\"datum.value\", # Show only these labels\n",
    "                title='Week'\n",
    "            )\n",
    "        ),\n",
    "        y = alt.Y(\n",
    "            f'{y}:Q', # Q = a continuous real-valued quantity\n",
    "            title=y_axis_label,\n",
    "            axis=alt.Axis(format=\"$,.0f\") if not pct else alt.Axis(format=\",.0%\")\n",
    "        ),\n",
    "        color = color_encoding\n",
    "    ).properties(\n",
    "        width=650,\n",
    "        height=250,\n",
    "        title=title\n",
    "    ).configure_view(\n",
    "        stroke=None\n",
    "    ).configure_axisY(\n",
    "        # grid=False # turn off y-axis grid if required\n",
    "    )\n",
    "\n",
    "    return chart # alt.JupyterChart(chart)"
   ]
  },
  {
   "cell_type": "markdown",
   "metadata": {
    "id": "nAVjw68199_0"
   },
   "source": [
    "### Preliminaries"
   ]
  },
  {
   "cell_type": "markdown",
   "metadata": {
    "id": "JTV6Gf6T-FDX"
   },
   "source": [
    "#### Weekly Sales Pattern"
   ]
  },
  {
   "cell_type": "code",
   "execution_count": 48,
   "metadata": {},
   "outputs": [],
   "source": [
    "# Grocery Sales LazyFrame (Query Plan): Category Weekly 'spend' - units x price = spend\n",
    "grocery_spend_category = (\n",
    "    grocery_lf\n",
    "    .select(\n",
    "        ['week', 'units', 'price']\n",
    "    )\n",
    "    .with_columns(\n",
    "        ((pl.col('units') * pl.col('price')).cast(pl.Float64)).alias('spend')\n",
    "    )\n",
    "    .group_by('week')\n",
    "    .agg(\n",
    "        pl.col(\"spend\").sum().cast(pl.Float64).alias('Weekly Spend')\n",
    "    )\n",
    "    .sort('week')\n",
    ")"
   ]
  },
  {
   "cell_type": "code",
   "execution_count": 49,
   "metadata": {},
   "outputs": [],
   "source": [
    "# Grocery Sales LazyFrame (Query Plan): Weekly 'spend' by Brand - units x price = spend\n",
    "grocery_spend_brand = (\n",
    "    grocery_lf\n",
    "    .select(\n",
    "        ['week', 'units', 'price', 'brand']\n",
    "    )\n",
    "    .with_columns(\n",
    "         ((pl.col('units') * pl.col('price')).cast(pl.Float64)).alias('spend')\n",
    "    )\n",
    "    .group_by('week', 'brand')\n",
    "    .agg(\n",
    "        pl.col(\"spend\").sum().cast(pl.Float64).alias('Weekly Spend')\n",
    "    )\n",
    "    .sort('week')\n",
    ")"
   ]
  },
  {
   "cell_type": "code",
   "execution_count": 50,
   "metadata": {},
   "outputs": [
    {
     "data": {
      "text/html": [
       "<div><style>\n",
       ".dataframe > thead > tr,\n",
       ".dataframe > tbody > tr {\n",
       "  text-align: right;\n",
       "  white-space: pre-wrap;\n",
       "}\n",
       "</style>\n",
       "<small>shape: (104, 7)</small><table border=\"1\" class=\"dataframe\"><thead><tr><th>week</th><th>Alpha</th><th>Bravo</th><th>Charlie</th><th>Delta</th><th>Other</th><th>Total</th></tr><tr><td>i16</td><td>f64</td><td>f64</td><td>f64</td><td>f64</td><td>f64</td><td>f64</td></tr></thead><tbody><tr><td>1</td><td>331.459999</td><td>247.780003</td><td>51.79</td><td>17.64</td><td>18.75</td><td>667.420002</td></tr><tr><td>2</td><td>567.249997</td><td>398.640007</td><td>45.43</td><td>34.19</td><td>23.23</td><td>1068.740004</td></tr><tr><td>3</td><td>497.969999</td><td>639.980008</td><td>51.11</td><td>39.39</td><td>14.55</td><td>1243.000006</td></tr><tr><td>4</td><td>1389.960004</td><td>472.500004</td><td>51.87</td><td>85.04</td><td>39.779999</td><td>2039.150007</td></tr><tr><td>5</td><td>358.239999</td><td>252.540003</td><td>40.21</td><td>69.54</td><td>45.93</td><td>766.460002</td></tr><tr><td>&hellip;</td><td>&hellip;</td><td>&hellip;</td><td>&hellip;</td><td>&hellip;</td><td>&hellip;</td><td>&hellip;</td></tr><tr><td>100</td><td>692.480006</td><td>420.479996</td><td>69.600001</td><td>54.590001</td><td>47.97</td><td>1285.120004</td></tr><tr><td>101</td><td>265.770002</td><td>264.659999</td><td>64.030001</td><td>35.05</td><td>26.88</td><td>656.390003</td></tr><tr><td>102</td><td>379.610005</td><td>456.78999</td><td>43.5</td><td>20.4</td><td>43.61</td><td>943.909995</td></tr><tr><td>103</td><td>532.500005</td><td>440.999996</td><td>76.400001</td><td>40.44</td><td>45.55</td><td>1135.890002</td></tr><tr><td>104</td><td>394.890003</td><td>233.189998</td><td>53.18</td><td>68.260001</td><td>36.679999</td><td>786.200002</td></tr></tbody></table></div>"
      ],
      "text/plain": [
       "shape: (104, 7)\n",
       "┌──────┬─────────────┬────────────┬───────────┬───────────┬───────────┬─────────────┐\n",
       "│ week ┆ Alpha       ┆ Bravo      ┆ Charlie   ┆ Delta     ┆ Other     ┆ Total       │\n",
       "│ ---  ┆ ---         ┆ ---        ┆ ---       ┆ ---       ┆ ---       ┆ ---         │\n",
       "│ i16  ┆ f64         ┆ f64        ┆ f64       ┆ f64       ┆ f64       ┆ f64         │\n",
       "╞══════╪═════════════╪════════════╪═══════════╪═══════════╪═══════════╪═════════════╡\n",
       "│ 1    ┆ 331.459999  ┆ 247.780003 ┆ 51.79     ┆ 17.64     ┆ 18.75     ┆ 667.420002  │\n",
       "│ 2    ┆ 567.249997  ┆ 398.640007 ┆ 45.43     ┆ 34.19     ┆ 23.23     ┆ 1068.740004 │\n",
       "│ 3    ┆ 497.969999  ┆ 639.980008 ┆ 51.11     ┆ 39.39     ┆ 14.55     ┆ 1243.000006 │\n",
       "│ 4    ┆ 1389.960004 ┆ 472.500004 ┆ 51.87     ┆ 85.04     ┆ 39.779999 ┆ 2039.150007 │\n",
       "│ 5    ┆ 358.239999  ┆ 252.540003 ┆ 40.21     ┆ 69.54     ┆ 45.93     ┆ 766.460002  │\n",
       "│ …    ┆ …           ┆ …          ┆ …         ┆ …         ┆ …         ┆ …           │\n",
       "│ 100  ┆ 692.480006  ┆ 420.479996 ┆ 69.600001 ┆ 54.590001 ┆ 47.97     ┆ 1285.120004 │\n",
       "│ 101  ┆ 265.770002  ┆ 264.659999 ┆ 64.030001 ┆ 35.05     ┆ 26.88     ┆ 656.390003  │\n",
       "│ 102  ┆ 379.610005  ┆ 456.78999  ┆ 43.5      ┆ 20.4      ┆ 43.61     ┆ 943.909995  │\n",
       "│ 103  ┆ 532.500005  ┆ 440.999996 ┆ 76.400001 ┆ 40.44     ┆ 45.55     ┆ 1135.890002 │\n",
       "│ 104  ┆ 394.890003  ┆ 233.189998 ┆ 53.18     ┆ 68.260001 ┆ 36.679999 ┆ 786.200002  │\n",
       "└──────┴─────────────┴────────────┴───────────┴───────────┴───────────┴─────────────┘"
      ]
     },
     "execution_count": 50,
     "metadata": {},
     "output_type": "execute_result"
    }
   ],
   "source": [
    "# Weekly Sales Pivot Table - Polars DataFrame\n",
    "# For visualizing and inspecting only\n",
    "weekly_sales_pivot = grocery_spend_brand.collect().pivot(\n",
    "    on=\"brand\",\n",
    "    index=\"week\",\n",
    "    values=\"Weekly Spend\",\n",
    "    sort_columns=True,\n",
    ").with_columns(\n",
    "    pl.sum_horizontal(pl.exclude('week')).cast(pl.Float64).alias(\"Total\") # Row total\n",
    ").sort(\"week\")\n",
    "\n",
    "weekly_sales_pivot"
   ]
  },
  {
   "cell_type": "code",
   "execution_count": 51,
   "metadata": {},
   "outputs": [
    {
     "data": {
      "application/vnd.vegalite.v5+json": {
       "$schema": "https://vega.github.io/schema/vega-lite/v5.20.1.json",
       "config": {
        "axisY": {},
        "view": {
         "continuousHeight": 300,
         "continuousWidth": 300,
         "stroke": null
        }
       },
       "data": {
        "name": "data-c83365c4af255035f00e748babdb23cb"
       },
       "datasets": {
        "data-c83365c4af255035f00e748babdb23cb": [
         {
          "Weekly Spend": 667.4200016260147,
          "week": 1
         },
         {
          "Weekly Spend": 1068.7400035858154,
          "week": 2
         },
         {
          "Weekly Spend": 1243.0000059604645,
          "week": 3
         },
         {
          "Weekly Spend": 2039.150006890297,
          "week": 4
         },
         {
          "Weekly Spend": 766.4600021839142,
          "week": 5
         },
         {
          "Weekly Spend": 767.880000948906,
          "week": 6
         },
         {
          "Weekly Spend": 827.3700028657913,
          "week": 7
         },
         {
          "Weekly Spend": 776.9100067615509,
          "week": 8
         },
         {
          "Weekly Spend": 808.4099978208542,
          "week": 9
         },
         {
          "Weekly Spend": 997.0900067090988,
          "week": 10
         },
         {
          "Weekly Spend": 1054.7000043392181,
          "week": 11
         },
         {
          "Weekly Spend": 1540.7900004386902,
          "week": 12
         },
         {
          "Weekly Spend": 1109.7000133991241,
          "week": 13
         },
         {
          "Weekly Spend": 1557.7600021362305,
          "week": 14
         },
         {
          "Weekly Spend": 1420.4000116586685,
          "week": 15
         },
         {
          "Weekly Spend": 1047.000011086464,
          "week": 16
         },
         {
          "Weekly Spend": 1109.6800179481506,
          "week": 17
         },
         {
          "Weekly Spend": 1524.6700061559677,
          "week": 18
         },
         {
          "Weekly Spend": 1409.8400102853775,
          "week": 19
         },
         {
          "Weekly Spend": 2037.130021572113,
          "week": 20
         },
         {
          "Weekly Spend": 2782.620036005974,
          "week": 21
         },
         {
          "Weekly Spend": 1370.7800161838531,
          "week": 22
         },
         {
          "Weekly Spend": 1325.4900126457214,
          "week": 23
         },
         {
          "Weekly Spend": 1605.070016860962,
          "week": 24
         },
         {
          "Weekly Spend": 1332.1300175189972,
          "week": 25
         },
         {
          "Weekly Spend": 3843.130072593689,
          "week": 26
         },
         {
          "Weekly Spend": 2046.2500294446945,
          "week": 27
         },
         {
          "Weekly Spend": 1380.5000195503235,
          "week": 28
         },
         {
          "Weekly Spend": 1149.7600104808807,
          "week": 29
         },
         {
          "Weekly Spend": 1269.8700063228607,
          "week": 30
         },
         {
          "Weekly Spend": 1659.6800035238266,
          "week": 31
         },
         {
          "Weekly Spend": 1904.1999955177307,
          "week": 32
         },
         {
          "Weekly Spend": 1225.1300069093704,
          "week": 33
         },
         {
          "Weekly Spend": 2115.730032682419,
          "week": 34
         },
         {
          "Weekly Spend": 2329.21002304554,
          "week": 35
         },
         {
          "Weekly Spend": 1210.6900047063828,
          "week": 36
         },
         {
          "Weekly Spend": 916.2500025033951,
          "week": 37
         },
         {
          "Weekly Spend": 903.5800004005432,
          "week": 38
         },
         {
          "Weekly Spend": 972.730007648468,
          "week": 39
         },
         {
          "Weekly Spend": 1057.2900084257126,
          "week": 40
         },
         {
          "Weekly Spend": 1131.1600046157837,
          "week": 41
         },
         {
          "Weekly Spend": 1177.200009226799,
          "week": 42
         },
         {
          "Weekly Spend": 1246.220001578331,
          "week": 43
         },
         {
          "Weekly Spend": 2063.5199769735336,
          "week": 44
         },
         {
          "Weekly Spend": 787.4900032281876,
          "week": 45
         },
         {
          "Weekly Spend": 1276.1800088882446,
          "week": 46
         },
         {
          "Weekly Spend": 1578.050010085106,
          "week": 47
         },
         {
          "Weekly Spend": 856.590003490448,
          "week": 48
         },
         {
          "Weekly Spend": 1106.7199982404709,
          "week": 49
         },
         {
          "Weekly Spend": 1652.0200073719025,
          "week": 50
         },
         {
          "Weekly Spend": 1869.2000048160553,
          "week": 51
         },
         {
          "Weekly Spend": 1183.3600081205368,
          "week": 52
         },
         {
          "Weekly Spend": 872.9100048542023,
          "week": 53
         },
         {
          "Weekly Spend": 1069.8700034618378,
          "week": 54
         },
         {
          "Weekly Spend": 1556.0600020885468,
          "week": 55
         },
         {
          "Weekly Spend": 1607.6300003528595,
          "week": 56
         },
         {
          "Weekly Spend": 1860.2599868774414,
          "week": 57
         },
         {
          "Weekly Spend": 729.739999294281,
          "week": 58
         },
         {
          "Weekly Spend": 953.4900015592575,
          "week": 59
         },
         {
          "Weekly Spend": 860.620001912117,
          "week": 60
         },
         {
          "Weekly Spend": 933.5900031328201,
          "week": 61
         },
         {
          "Weekly Spend": 956.6500004529953,
          "week": 62
         },
         {
          "Weekly Spend": 1082.530002117157,
          "week": 63
         },
         {
          "Weekly Spend": 1346.139996290207,
          "week": 64
         },
         {
          "Weekly Spend": 1204.1400030851364,
          "week": 65
         },
         {
          "Weekly Spend": 960.3599997758865,
          "week": 66
         },
         {
          "Weekly Spend": 834.2500001192093,
          "week": 67
         },
         {
          "Weekly Spend": 1326.3100017309189,
          "week": 68
         },
         {
          "Weekly Spend": 1446.9800155162811,
          "week": 69
         },
         {
          "Weekly Spend": 1008.9200024604797,
          "week": 70
         },
         {
          "Weekly Spend": 1214.8600029945374,
          "week": 71
         },
         {
          "Weekly Spend": 1971.1400059461594,
          "week": 72
         },
         {
          "Weekly Spend": 3568.17000579834,
          "week": 73
         },
         {
          "Weekly Spend": 1207.179999947548,
          "week": 74
         },
         {
          "Weekly Spend": 1235.130000591278,
          "week": 75
         },
         {
          "Weekly Spend": 1347.2500027418137,
          "week": 76
         },
         {
          "Weekly Spend": 1998.260001897812,
          "week": 77
         },
         {
          "Weekly Spend": 3666.6700055599213,
          "week": 78
         },
         {
          "Weekly Spend": 2465.880017518997,
          "week": 79
         },
         {
          "Weekly Spend": 1234.1400002241135,
          "week": 80
         },
         {
          "Weekly Spend": 1378.5499999523163,
          "week": 81
         },
         {
          "Weekly Spend": 1199.7699983119965,
          "week": 82
         },
         {
          "Weekly Spend": 1184.1399989128113,
          "week": 83
         },
         {
          "Weekly Spend": 1118.8000007867813,
          "week": 84
         },
         {
          "Weekly Spend": 1645.0199961662292,
          "week": 85
         },
         {
          "Weekly Spend": 1805.4800027608871,
          "week": 86
         },
         {
          "Weekly Spend": 2821.310001730919,
          "week": 87
         },
         {
          "Weekly Spend": 1381.0599929094315,
          "week": 88
         },
         {
          "Weekly Spend": 693.590000629425,
          "week": 89
         },
         {
          "Weekly Spend": 983.8600037097931,
          "week": 90
         },
         {
          "Weekly Spend": 1039.6999952793121,
          "week": 91
         },
         {
          "Weekly Spend": 942.4300026893616,
          "week": 92
         },
         {
          "Weekly Spend": 751.2200012207031,
          "week": 93
         },
         {
          "Weekly Spend": 820.3400019407272,
          "week": 94
         },
         {
          "Weekly Spend": 904.3000041246414,
          "week": 95
         },
         {
          "Weekly Spend": 1038.470008611679,
          "week": 96
         },
         {
          "Weekly Spend": 1631.4899997711182,
          "week": 97
         },
         {
          "Weekly Spend": 2632.8499747514725,
          "week": 98
         },
         {
          "Weekly Spend": 1361.9099971055984,
          "week": 99
         },
         {
          "Weekly Spend": 1285.1200038194656,
          "week": 100
         },
         {
          "Weekly Spend": 656.3900028467178,
          "week": 101
         },
         {
          "Weekly Spend": 943.909994840622,
          "week": 102
         },
         {
          "Weekly Spend": 1135.890002131462,
          "week": 103
         },
         {
          "Weekly Spend": 786.2000020742416,
          "week": 104
         }
        ]
       },
       "encoding": {
        "color": {},
        "x": {
         "axis": {
          "labelExpr": "datum.value",
          "title": "Week",
          "values": [
           0,
           13,
           26,
           39,
           52,
           65,
           78,
           91,
           104
          ]
         },
         "field": "week",
         "type": "quantitative"
        },
        "y": {
         "axis": {
          "format": "$,.0f"
         },
         "field": "Weekly Spend",
         "title": "Spend ($)",
         "type": "quantitative"
        }
       },
       "height": 250,
       "mark": {
        "strokeWidth": 1,
        "type": "line"
       },
       "title": "Category - Weekly Revenue",
       "width": 650
      },
      "text/plain": [
       "<VegaLite 5 object>\n",
       "\n",
       "If you see this message, it means the renderer has not been properly enabled\n",
       "for the frontend that you are using. For more information, see\n",
       "https://altair-viz.github.io/user_guide/display_frontends.html#troubleshooting\n"
      ]
     },
     "execution_count": 51,
     "metadata": {},
     "output_type": "execute_result"
    }
   ],
   "source": [
    "plotdata = grocery_spend_category.collect()\n",
    "\n",
    "weekly_plot(dataframe=plotdata, \n",
    "            y='Weekly Spend', \n",
    "            title='Category - Weekly Revenue', \n",
    "            y_axis_label='Spend ($)',\n",
    "            pct=False,\n",
    "            legend=False)"
   ]
  },
  {
   "cell_type": "code",
   "execution_count": 52,
   "metadata": {},
   "outputs": [
    {
     "data": {
      "application/vnd.vegalite.v5+json": {
       "$schema": "https://vega.github.io/schema/vega-lite/v5.20.1.json",
       "config": {
        "axisY": {},
        "view": {
         "continuousHeight": 300,
         "continuousWidth": 300,
         "stroke": null
        }
       },
       "data": {
        "name": "data-000029e64350dafb4567f20469af6017"
       },
       "datasets": {
        "data-000029e64350dafb4567f20469af6017": [
         {
          "Weekly Spend": 331.4599986076355,
          "brand": "Alpha",
          "week": 1
         },
         {
          "Weekly Spend": 567.2499973773956,
          "brand": "Alpha",
          "week": 2
         },
         {
          "Weekly Spend": 497.96999871730804,
          "brand": "Alpha",
          "week": 3
         },
         {
          "Weekly Spend": 1389.9600036144257,
          "brand": "Alpha",
          "week": 4
         },
         {
          "Weekly Spend": 358.2399991750717,
          "brand": "Alpha",
          "week": 5
         },
         {
          "Weekly Spend": 364.059996843338,
          "brand": "Alpha",
          "week": 6
         },
         {
          "Weekly Spend": 412.3399988412857,
          "brand": "Alpha",
          "week": 7
         },
         {
          "Weekly Spend": 307.620001912117,
          "brand": "Alpha",
          "week": 8
         },
         {
          "Weekly Spend": 290.58000004291534,
          "brand": "Alpha",
          "week": 9
         },
         {
          "Weekly Spend": 442.64000141620636,
          "brand": "Alpha",
          "week": 10
         },
         {
          "Weekly Spend": 258.62000012397766,
          "brand": "Alpha",
          "week": 11
         },
         {
          "Weekly Spend": 912.5899906158447,
          "brand": "Alpha",
          "week": 12
         },
         {
          "Weekly Spend": 443.6500049829483,
          "brand": "Alpha",
          "week": 13
         },
         {
          "Weekly Spend": 853.8300088644028,
          "brand": "Alpha",
          "week": 14
         },
         {
          "Weekly Spend": 446.1500027179718,
          "brand": "Alpha",
          "week": 15
         },
         {
          "Weekly Spend": 579.4600045681,
          "brand": "Alpha",
          "week": 16
         },
         {
          "Weekly Spend": 410.9300045967102,
          "brand": "Alpha",
          "week": 17
         },
         {
          "Weekly Spend": 703.3100029230118,
          "brand": "Alpha",
          "week": 18
         },
         {
          "Weekly Spend": 607.4000059366226,
          "brand": "Alpha",
          "week": 19
         },
         {
          "Weekly Spend": 801.2600085735321,
          "brand": "Alpha",
          "week": 20
         },
         {
          "Weekly Spend": 903.2700114250183,
          "brand": "Alpha",
          "week": 21
         },
         {
          "Weekly Spend": 672.10001039505,
          "brand": "Alpha",
          "week": 22
         },
         {
          "Weekly Spend": 620.7200074195862,
          "brand": "Alpha",
          "week": 23
         },
         {
          "Weekly Spend": 702.7500092983246,
          "brand": "Alpha",
          "week": 24
         },
         {
          "Weekly Spend": 509.1300070285797,
          "brand": "Alpha",
          "week": 25
         },
         {
          "Weekly Spend": 1977.6600477695465,
          "brand": "Alpha",
          "week": 26
         },
         {
          "Weekly Spend": 1180.6100231409073,
          "brand": "Alpha",
          "week": 27
         },
         {
          "Weekly Spend": 486.72000646591187,
          "brand": "Alpha",
          "week": 28
         },
         {
          "Weekly Spend": 507.5600049495697,
          "brand": "Alpha",
          "week": 29
         },
         {
          "Weekly Spend": 596.3200063705444,
          "brand": "Alpha",
          "week": 30
         },
         {
          "Weekly Spend": 604.0000065565109,
          "brand": "Alpha",
          "week": 31
         },
         {
          "Weekly Spend": 611.1400043964386,
          "brand": "Alpha",
          "week": 32
         },
         {
          "Weekly Spend": 614.9400051832199,
          "brand": "Alpha",
          "week": 33
         },
         {
          "Weekly Spend": 1535.920031428337,
          "brand": "Alpha",
          "week": 34
         },
         {
          "Weekly Spend": 1571.5100203752518,
          "brand": "Alpha",
          "week": 35
         },
         {
          "Weekly Spend": 587.4200024604797,
          "brand": "Alpha",
          "week": 36
         },
         {
          "Weekly Spend": 426.8699998855591,
          "brand": "Alpha",
          "week": 37
         },
         {
          "Weekly Spend": 383.7999994754791,
          "brand": "Alpha",
          "week": 38
         },
         {
          "Weekly Spend": 465.7200016975403,
          "brand": "Alpha",
          "week": 39
         },
         {
          "Weekly Spend": 447.03000152111053,
          "brand": "Alpha",
          "week": 40
         },
         {
          "Weekly Spend": 421.7700021266937,
          "brand": "Alpha",
          "week": 41
         },
         {
          "Weekly Spend": 364.6600021123886,
          "brand": "Alpha",
          "week": 42
         },
         {
          "Weekly Spend": 389.4200018644333,
          "brand": "Alpha",
          "week": 43
         },
         {
          "Weekly Spend": 408.3300014734268,
          "brand": "Alpha",
          "week": 44
         },
         {
          "Weekly Spend": 311.07999992370605,
          "brand": "Alpha",
          "week": 45
         },
         {
          "Weekly Spend": 575.4000034332275,
          "brand": "Alpha",
          "week": 46
         },
         {
          "Weekly Spend": 1188.4600063562393,
          "brand": "Alpha",
          "week": 47
         },
         {
          "Weekly Spend": 434.8900029659271,
          "brand": "Alpha",
          "week": 48
         },
         {
          "Weekly Spend": 365.03000128269196,
          "brand": "Alpha",
          "week": 49
         },
         {
          "Weekly Spend": 1164.7100034952164,
          "brand": "Alpha",
          "week": 50
         },
         {
          "Weekly Spend": 773.2100023031235,
          "brand": "Alpha",
          "week": 51
         },
         {
          "Weekly Spend": 789.4700044393539,
          "brand": "Alpha",
          "week": 52
         },
         {
          "Weekly Spend": 386.7500021457672,
          "brand": "Alpha",
          "week": 53
         },
         {
          "Weekly Spend": 586.9400025606155,
          "brand": "Alpha",
          "week": 54
         },
         {
          "Weekly Spend": 1045.8400052785873,
          "brand": "Alpha",
          "week": 55
         },
         {
          "Weekly Spend": 939.5100003480911,
          "brand": "Alpha",
          "week": 56
         },
         {
          "Weekly Spend": 1040.8999925851822,
          "brand": "Alpha",
          "week": 57
         },
         {
          "Weekly Spend": 308.99000096321106,
          "brand": "Alpha",
          "week": 58
         },
         {
          "Weekly Spend": 547.6300007104874,
          "brand": "Alpha",
          "week": 59
         },
         {
          "Weekly Spend": 363.9000024795532,
          "brand": "Alpha",
          "week": 60
         },
         {
          "Weekly Spend": 476.610004901886,
          "brand": "Alpha",
          "week": 61
         },
         {
          "Weekly Spend": 484.7000024318695,
          "brand": "Alpha",
          "week": 62
         },
         {
          "Weekly Spend": 359.4300036430359,
          "brand": "Alpha",
          "week": 63
         },
         {
          "Weekly Spend": 472.23000276088715,
          "brand": "Alpha",
          "week": 64
         },
         {
          "Weekly Spend": 665.6600025892258,
          "brand": "Alpha",
          "week": 65
         },
         {
          "Weekly Spend": 413.5799983739853,
          "brand": "Alpha",
          "week": 66
         },
         {
          "Weekly Spend": 364.3900008201599,
          "brand": "Alpha",
          "week": 67
         },
         {
          "Weekly Spend": 636.0400013923645,
          "brand": "Alpha",
          "week": 68
         },
         {
          "Weekly Spend": 356.25000047683716,
          "brand": "Alpha",
          "week": 69
         },
         {
          "Weekly Spend": 433.24000310897827,
          "brand": "Alpha",
          "week": 70
         },
         {
          "Weekly Spend": 507.0400013923645,
          "brand": "Alpha",
          "week": 71
         },
         {
          "Weekly Spend": 1328.0400084257126,
          "brand": "Alpha",
          "week": 72
         },
         {
          "Weekly Spend": 2070.160023212433,
          "brand": "Alpha",
          "week": 73
         },
         {
          "Weekly Spend": 606.7600026130676,
          "brand": "Alpha",
          "week": 74
         },
         {
          "Weekly Spend": 629.260003566742,
          "brand": "Alpha",
          "week": 75
         },
         {
          "Weekly Spend": 611.8900059461594,
          "brand": "Alpha",
          "week": 76
         },
         {
          "Weekly Spend": 1198.630003809929,
          "brand": "Alpha",
          "week": 77
         },
         {
          "Weekly Spend": 2345.440019249916,
          "brand": "Alpha",
          "week": 78
         },
         {
          "Weekly Spend": 1447.2300218343735,
          "brand": "Alpha",
          "week": 79
         },
         {
          "Weekly Spend": 531.500003695488,
          "brand": "Alpha",
          "week": 80
         },
         {
          "Weekly Spend": 570.0500017404556,
          "brand": "Alpha",
          "week": 81
         },
         {
          "Weekly Spend": 431.12000119686127,
          "brand": "Alpha",
          "week": 82
         },
         {
          "Weekly Spend": 529.8200017213821,
          "brand": "Alpha",
          "week": 83
         },
         {
          "Weekly Spend": 582.5800020694733,
          "brand": "Alpha",
          "week": 84
         },
         {
          "Weekly Spend": 802.8199973106384,
          "brand": "Alpha",
          "week": 85
         },
         {
          "Weekly Spend": 985.1100113391876,
          "brand": "Alpha",
          "week": 86
         },
         {
          "Weekly Spend": 1304.2600206136703,
          "brand": "Alpha",
          "week": 87
         },
         {
          "Weekly Spend": 991.0699965953827,
          "brand": "Alpha",
          "week": 88
         },
         {
          "Weekly Spend": 309.9800024032593,
          "brand": "Alpha",
          "week": 89
         },
         {
          "Weekly Spend": 477.56000554561615,
          "brand": "Alpha",
          "week": 90
         },
         {
          "Weekly Spend": 406.98000288009644,
          "brand": "Alpha",
          "week": 91
         },
         {
          "Weekly Spend": 390.30000352859497,
          "brand": "Alpha",
          "week": 92
         },
         {
          "Weekly Spend": 306.74000239372253,
          "brand": "Alpha",
          "week": 93
         },
         {
          "Weekly Spend": 376.91000497341156,
          "brand": "Alpha",
          "week": 94
         },
         {
          "Weekly Spend": 383.1100044250488,
          "brand": "Alpha",
          "week": 95
         },
         {
          "Weekly Spend": 674.0900100469589,
          "brand": "Alpha",
          "week": 96
         },
         {
          "Weekly Spend": 840.3900090456009,
          "brand": "Alpha",
          "week": 97
         },
         {
          "Weekly Spend": 1079.0800068378448,
          "brand": "Alpha",
          "week": 98
         },
         {
          "Weekly Spend": 384.9900037050247,
          "brand": "Alpha",
          "week": 99
         },
         {
          "Weekly Spend": 692.480005979538,
          "brand": "Alpha",
          "week": 100
         },
         {
          "Weekly Spend": 265.77000188827515,
          "brand": "Alpha",
          "week": 101
         },
         {
          "Weekly Spend": 379.6100050210953,
          "brand": "Alpha",
          "week": 102
         },
         {
          "Weekly Spend": 532.500004529953,
          "brand": "Alpha",
          "week": 103
         },
         {
          "Weekly Spend": 394.89000284671783,
          "brand": "Alpha",
          "week": 104
         }
        ]
       },
       "encoding": {
        "color": {
         "field": "brand",
         "legend": null,
         "type": "nominal"
        },
        "x": {
         "axis": {
          "labelExpr": "datum.value",
          "title": "Week",
          "values": [
           0,
           13,
           26,
           39,
           52,
           65,
           78,
           91,
           104
          ]
         },
         "field": "week",
         "type": "quantitative"
        },
        "y": {
         "axis": {
          "format": "$,.0f"
         },
         "field": "Weekly Spend",
         "title": "Spend ($)",
         "type": "quantitative"
        }
       },
       "height": 250,
       "mark": {
        "strokeWidth": 1,
        "type": "line"
       },
       "title": "Alpha - Weekly Revenue",
       "width": 650
      },
      "text/plain": [
       "<VegaLite 5 object>\n",
       "\n",
       "If you see this message, it means the renderer has not been properly enabled\n",
       "for the frontend that you are using. For more information, see\n",
       "https://altair-viz.github.io/user_guide/display_frontends.html#troubleshooting\n"
      ]
     },
     "execution_count": 52,
     "metadata": {},
     "output_type": "execute_result"
    }
   ],
   "source": [
    "plotdata = grocery_spend_brand.filter(\n",
    "    pl.col('brand') == 'Alpha'\n",
    ").collect()\n",
    "\n",
    "weekly_plot(dataframe=plotdata, \n",
    "            y='Weekly Spend', \n",
    "            color='brand',\n",
    "            title='Alpha - Weekly Revenue', \n",
    "            y_axis_label='Spend ($)',\n",
    "            pct=False,\n",
    "            legend=False)"
   ]
  },
  {
   "cell_type": "code",
   "execution_count": 53,
   "metadata": {},
   "outputs": [
    {
     "data": {
      "application/vnd.vegalite.v5+json": {
       "$schema": "https://vega.github.io/schema/vega-lite/v5.20.1.json",
       "config": {
        "axisY": {},
        "view": {
         "continuousHeight": 300,
         "continuousWidth": 300,
         "stroke": null
        }
       },
       "data": {
        "name": "data-36f56e0394e6331faa0389e7e5280c8d"
       },
       "datasets": {
        "data-36f56e0394e6331faa0389e7e5280c8d": [
         {
          "Weekly Spend": 247.78000330924988,
          "brand": "Bravo",
          "week": 1
         },
         {
          "Weekly Spend": 398.6400067806244,
          "brand": "Bravo",
          "week": 2
         },
         {
          "Weekly Spend": 639.9800078868866,
          "brand": "Bravo",
          "week": 3
         },
         {
          "Weekly Spend": 472.5000035762787,
          "brand": "Bravo",
          "week": 4
         },
         {
          "Weekly Spend": 252.5400027036667,
          "brand": "Bravo",
          "week": 5
         },
         {
          "Weekly Spend": 239.8100037574768,
          "brand": "Bravo",
          "week": 6
         },
         {
          "Weekly Spend": 271.98000395298004,
          "brand": "Bravo",
          "week": 7
         },
         {
          "Weekly Spend": 295.71000468730927,
          "brand": "Bravo",
          "week": 8
         },
         {
          "Weekly Spend": 384.3699994087219,
          "brand": "Bravo",
          "week": 9
         },
         {
          "Weekly Spend": 454.2200051546097,
          "brand": "Bravo",
          "week": 10
         },
         {
          "Weekly Spend": 695.2700042724609,
          "brand": "Bravo",
          "week": 11
         },
         {
          "Weekly Spend": 492.8800095319748,
          "brand": "Bravo",
          "week": 12
         },
         {
          "Weekly Spend": 501.1300083398819,
          "brand": "Bravo",
          "week": 13
         },
         {
          "Weekly Spend": 385.2300044298172,
          "brand": "Bravo",
          "week": 14
         },
         {
          "Weekly Spend": 804.3600097894669,
          "brand": "Bravo",
          "week": 15
         },
         {
          "Weekly Spend": 365.98000621795654,
          "brand": "Bravo",
          "week": 16
         },
         {
          "Weekly Spend": 458.490008354187,
          "brand": "Bravo",
          "week": 17
         },
         {
          "Weekly Spend": 475.38000535964966,
          "brand": "Bravo",
          "week": 18
         },
         {
          "Weekly Spend": 455.2800050973892,
          "brand": "Bravo",
          "week": 19
         },
         {
          "Weekly Spend": 929.7400115728378,
          "brand": "Bravo",
          "week": 20
         },
         {
          "Weekly Spend": 1675.4100246429443,
          "brand": "Bravo",
          "week": 21
         },
         {
          "Weekly Spend": 557.8800053596497,
          "brand": "Bravo",
          "week": 22
         },
         {
          "Weekly Spend": 508.03000593185425,
          "brand": "Bravo",
          "week": 23
         },
         {
          "Weekly Spend": 508.14000856876373,
          "brand": "Bravo",
          "week": 24
         },
         {
          "Weekly Spend": 635.4300094842911,
          "brand": "Bravo",
          "week": 25
         },
         {
          "Weekly Spend": 1674.2300254106522,
          "brand": "Bravo",
          "week": 26
         },
         {
          "Weekly Spend": 592.8100076913834,
          "brand": "Bravo",
          "week": 27
         },
         {
          "Weekly Spend": 697.8100134134293,
          "brand": "Bravo",
          "week": 28
         },
         {
          "Weekly Spend": 474.2400059700012,
          "brand": "Bravo",
          "week": 29
         },
         {
          "Weekly Spend": 411.2600003480911,
          "brand": "Bravo",
          "week": 30
         },
         {
          "Weekly Spend": 751.1599987745285,
          "brand": "Bravo",
          "week": 31
         },
         {
          "Weekly Spend": 1065.2099907398224,
          "brand": "Bravo",
          "week": 32
         },
         {
          "Weekly Spend": 418.6600013971329,
          "brand": "Bravo",
          "week": 33
         },
         {
          "Weekly Spend": 410.8000007867813,
          "brand": "Bravo",
          "week": 34
         },
         {
          "Weekly Spend": 624.1900020837784,
          "brand": "Bravo",
          "week": 35
         },
         {
          "Weekly Spend": 389.60999953746796,
          "brand": "Bravo",
          "week": 36
         },
         {
          "Weekly Spend": 333.6600012779236,
          "brand": "Bravo",
          "week": 37
         },
         {
          "Weekly Spend": 371.7399994134903,
          "brand": "Bravo",
          "week": 38
         },
         {
          "Weekly Spend": 283.4500015974045,
          "brand": "Bravo",
          "week": 39
         },
         {
          "Weekly Spend": 440.0200049877167,
          "brand": "Bravo",
          "week": 40
         },
         {
          "Weekly Spend": 477.62000012397766,
          "brand": "Bravo",
          "week": 41
         },
         {
          "Weekly Spend": 647.060005903244,
          "brand": "Bravo",
          "week": 42
         },
         {
          "Weekly Spend": 714.1899987459183,
          "brand": "Bravo",
          "week": 43
         },
         {
          "Weekly Spend": 1532.9299746751785,
          "brand": "Bravo",
          "week": 44
         },
         {
          "Weekly Spend": 352.97000217437744,
          "brand": "Bravo",
          "week": 45
         },
         {
          "Weekly Spend": 447.6200009584427,
          "brand": "Bravo",
          "week": 46
         },
         {
          "Weekly Spend": 234.73000144958496,
          "brand": "Bravo",
          "week": 47
         },
         {
          "Weekly Spend": 261.139998793602,
          "brand": "Bravo",
          "week": 48
         },
         {
          "Weekly Spend": 505.4099955558777,
          "brand": "Bravo",
          "week": 49
         },
         {
          "Weekly Spend": 301.86000084877014,
          "brand": "Bravo",
          "week": 50
         },
         {
          "Weekly Spend": 833.8700000047684,
          "brand": "Bravo",
          "week": 51
         },
         {
          "Weekly Spend": 248.94000136852264,
          "brand": "Bravo",
          "week": 52
         },
         {
          "Weekly Spend": 335.0300018787384,
          "brand": "Bravo",
          "week": 53
         },
         {
          "Weekly Spend": 343.80000019073486,
          "brand": "Bravo",
          "week": 54
         },
         {
          "Weekly Spend": 359.2599971294403,
          "brand": "Bravo",
          "week": 55
         },
         {
          "Weekly Spend": 503.6199997663498,
          "brand": "Bravo",
          "week": 56
         },
         {
          "Weekly Spend": 661.1299949884415,
          "brand": "Bravo",
          "week": 57
         },
         {
          "Weekly Spend": 264.37999987602234,
          "brand": "Bravo",
          "week": 58
         },
         {
          "Weekly Spend": 206.17999923229218,
          "brand": "Bravo",
          "week": 59
         },
         {
          "Weekly Spend": 318.5699977874756,
          "brand": "Bravo",
          "week": 60
         },
         {
          "Weekly Spend": 310.31999826431274,
          "brand": "Bravo",
          "week": 61
         },
         {
          "Weekly Spend": 314.0199975967407,
          "brand": "Bravo",
          "week": 62
         },
         {
          "Weekly Spend": 575.7499986886978,
          "brand": "Bravo",
          "week": 63
         },
         {
          "Weekly Spend": 707.9799927473068,
          "brand": "Bravo",
          "week": 64
         },
         {
          "Weekly Spend": 454.12999975681305,
          "brand": "Bravo",
          "week": 65
         },
         {
          "Weekly Spend": 393.75999999046326,
          "brand": "Bravo",
          "week": 66
         },
         {
          "Weekly Spend": 306.229998588562,
          "brand": "Bravo",
          "week": 67
         },
         {
          "Weekly Spend": 516.4500005245209,
          "brand": "Bravo",
          "week": 68
         },
         {
          "Weekly Spend": 950.0200136899948,
          "brand": "Bravo",
          "week": 69
         },
         {
          "Weekly Spend": 373.32999992370605,
          "brand": "Bravo",
          "week": 70
         },
         {
          "Weekly Spend": 483.2299997806549,
          "brand": "Bravo",
          "week": 71
         },
         {
          "Weekly Spend": 418.29999804496765,
          "brand": "Bravo",
          "week": 72
         },
         {
          "Weekly Spend": 1304.5799791812897,
          "brand": "Bravo",
          "week": 73
         },
         {
          "Weekly Spend": 436.169997215271,
          "brand": "Bravo",
          "week": 74
         },
         {
          "Weekly Spend": 415.1799968481064,
          "brand": "Bravo",
          "week": 75
         },
         {
          "Weekly Spend": 471.5399960279465,
          "brand": "Bravo",
          "week": 76
         },
         {
          "Weekly Spend": 584.8999961614609,
          "brand": "Bravo",
          "week": 77
         },
         {
          "Weekly Spend": 1157.2999852895737,
          "brand": "Bravo",
          "week": 78
         },
         {
          "Weekly Spend": 826.669994354248,
          "brand": "Bravo",
          "week": 79
         },
         {
          "Weekly Spend": 546.2299959659576,
          "brand": "Bravo",
          "week": 80
         },
         {
          "Weekly Spend": 599.6499954462051,
          "brand": "Bravo",
          "week": 81
         },
         {
          "Weekly Spend": 593.8699969053268,
          "brand": "Bravo",
          "week": 82
         },
         {
          "Weekly Spend": 455.3099958896637,
          "brand": "Bravo",
          "week": 83
         },
         {
          "Weekly Spend": 379.28999733924866,
          "brand": "Bravo",
          "week": 84
         },
         {
          "Weekly Spend": 542.0899964570999,
          "brand": "Bravo",
          "week": 85
         },
         {
          "Weekly Spend": 619.7499898672104,
          "brand": "Bravo",
          "week": 86
         },
         {
          "Weekly Spend": 1420.1199795007706,
          "brand": "Bravo",
          "week": 87
         },
         {
          "Weekly Spend": 284.70999550819397,
          "brand": "Bravo",
          "week": 88
         },
         {
          "Weekly Spend": 327.39999771118164,
          "brand": "Bravo",
          "week": 89
         },
         {
          "Weekly Spend": 334.759997010231,
          "brand": "Bravo",
          "week": 90
         },
         {
          "Weekly Spend": 510.3299914598465,
          "brand": "Bravo",
          "week": 91
         },
         {
          "Weekly Spend": 399.289998292923,
          "brand": "Bravo",
          "week": 92
         },
         {
          "Weekly Spend": 241.12999737262726,
          "brand": "Bravo",
          "week": 93
         },
         {
          "Weekly Spend": 317.20999681949615,
          "brand": "Bravo",
          "week": 94
         },
         {
          "Weekly Spend": 393.60999965667725,
          "brand": "Bravo",
          "week": 95
         },
         {
          "Weekly Spend": 232.6799976825714,
          "brand": "Bravo",
          "week": 96
         },
         {
          "Weekly Spend": 676.0799893140793,
          "brand": "Bravo",
          "week": 97
         },
         {
          "Weekly Spend": 1464.91996717453,
          "brand": "Bravo",
          "week": 98
         },
         {
          "Weekly Spend": 780.489991903305,
          "brand": "Bravo",
          "week": 99
         },
         {
          "Weekly Spend": 420.4799962043762,
          "brand": "Bravo",
          "week": 100
         },
         {
          "Weekly Spend": 264.65999937057495,
          "brand": "Bravo",
          "week": 101
         },
         {
          "Weekly Spend": 456.789990067482,
          "brand": "Bravo",
          "week": 102
         },
         {
          "Weekly Spend": 440.9999964237213,
          "brand": "Bravo",
          "week": 103
         },
         {
          "Weekly Spend": 233.18999826908112,
          "brand": "Bravo",
          "week": 104
         }
        ]
       },
       "encoding": {
        "color": {
         "field": "brand",
         "legend": null,
         "type": "nominal"
        },
        "x": {
         "axis": {
          "labelExpr": "datum.value",
          "title": "Week",
          "values": [
           0,
           13,
           26,
           39,
           52,
           65,
           78,
           91,
           104
          ]
         },
         "field": "week",
         "type": "quantitative"
        },
        "y": {
         "axis": {
          "format": "$,.0f"
         },
         "field": "Weekly Spend",
         "title": "Spend ($)",
         "type": "quantitative"
        }
       },
       "height": 250,
       "mark": {
        "strokeWidth": 1,
        "type": "line"
       },
       "title": "Bravo - Weekly Revenue",
       "width": 650
      },
      "text/plain": [
       "<VegaLite 5 object>\n",
       "\n",
       "If you see this message, it means the renderer has not been properly enabled\n",
       "for the frontend that you are using. For more information, see\n",
       "https://altair-viz.github.io/user_guide/display_frontends.html#troubleshooting\n"
      ]
     },
     "execution_count": 53,
     "metadata": {},
     "output_type": "execute_result"
    }
   ],
   "source": [
    "plotdata = grocery_spend_brand.filter(\n",
    "    pl.col('brand') == 'Bravo'\n",
    ").collect()\n",
    "\n",
    "weekly_plot(dataframe=plotdata, \n",
    "            y='Weekly Spend', \n",
    "            color='brand',\n",
    "            title='Bravo - Weekly Revenue', \n",
    "            y_axis_label='Spend ($)',\n",
    "            pct=False,\n",
    "            legend=False)"
   ]
  },
  {
   "cell_type": "markdown",
   "metadata": {},
   "source": [
    "#### Weekly (Volume) Market Share"
   ]
  },
  {
   "cell_type": "code",
   "execution_count": 54,
   "metadata": {},
   "outputs": [],
   "source": [
    "# Grocery Volume LazyFrame: Weekly 'volume' - units x weight = volume\n",
    "grocery_volume = (\n",
    "    grocery_lf\n",
    "    .join(\n",
    "        other=sku_lf,\n",
    "        left_on=\"sku_id\",\n",
    "        right_on=\"sku_id\"\n",
    "    )\n",
    "    .select(\n",
    "        ['week', 'units', 'brand', 'weight']\n",
    "    )\n",
    "    .with_columns(\n",
    "        # volume column that is the product of weight of each SKU and the units of SKU sold\n",
    "        (((pl.col('units') * pl.col('weight'))/1000).cast(pl.Float64)).alias('volume') # # weight from grams to kilograms\n",
    "    )\n",
    "    .group_by('week', 'brand')\n",
    "    .agg(\n",
    "        pl.col(\"volume\").sum().cast(pl.Float64).alias('Weekly Volume')\n",
    "    )\n",
    "    .sort('week')\n",
    ")"
   ]
  },
  {
   "cell_type": "code",
   "execution_count": 55,
   "metadata": {},
   "outputs": [
    {
     "data": {
      "text/html": [
       "<div><style>\n",
       ".dataframe > thead > tr,\n",
       ".dataframe > tbody > tr {\n",
       "  text-align: right;\n",
       "  white-space: pre-wrap;\n",
       "}\n",
       "</style>\n",
       "<small>shape: (104, 6)</small><table border=\"1\" class=\"dataframe\"><thead><tr><th>week</th><th>Alpha</th><th>Bravo</th><th>Charlie</th><th>Delta</th><th>Other</th></tr><tr><td>i16</td><td>f64</td><td>f64</td><td>f64</td><td>f64</td><td>f64</td></tr></thead><tbody><tr><td>1</td><td>0.481077</td><td>0.355011</td><td>0.11194</td><td>0.02532</td><td>0.026652</td></tr><tr><td>2</td><td>0.524953</td><td>0.371525</td><td>0.059391</td><td>0.029696</td><td>0.014435</td></tr><tr><td>3</td><td>0.389338</td><td>0.508812</td><td>0.060676</td><td>0.032505</td><td>0.008668</td></tr><tr><td>4</td><td>0.677032</td><td>0.230511</td><td>0.036686</td><td>0.044984</td><td>0.010787</td></tr><tr><td>5</td><td>0.428735</td><td>0.324306</td><td>0.07574</td><td>0.119348</td><td>0.051871</td></tr><tr><td>&hellip;</td><td>&hellip;</td><td>&hellip;</td><td>&hellip;</td><td>&hellip;</td><td>&hellip;</td></tr><tr><td>100</td><td>0.545707</td><td>0.31711</td><td>0.080381</td><td>0.039087</td><td>0.017715</td></tr><tr><td>101</td><td>0.36891</td><td>0.40552</td><td>0.140805</td><td>0.059138</td><td>0.025627</td></tr><tr><td>102</td><td>0.342581</td><td>0.543494</td><td>0.071147</td><td>0.019689</td><td>0.023089</td></tr><tr><td>103</td><td>0.424609</td><td>0.415495</td><td>0.100574</td><td>0.042429</td><td>0.016893</td></tr><tr><td>104</td><td>0.457298</td><td>0.290104</td><td>0.110032</td><td>0.112969</td><td>0.029598</td></tr></tbody></table></div>"
      ],
      "text/plain": [
       "shape: (104, 6)\n",
       "┌──────┬──────────┬──────────┬──────────┬──────────┬──────────┐\n",
       "│ week ┆ Alpha    ┆ Bravo    ┆ Charlie  ┆ Delta    ┆ Other    │\n",
       "│ ---  ┆ ---      ┆ ---      ┆ ---      ┆ ---      ┆ ---      │\n",
       "│ i16  ┆ f64      ┆ f64      ┆ f64      ┆ f64      ┆ f64      │\n",
       "╞══════╪══════════╪══════════╪══════════╪══════════╪══════════╡\n",
       "│ 1    ┆ 0.481077 ┆ 0.355011 ┆ 0.11194  ┆ 0.02532  ┆ 0.026652 │\n",
       "│ 2    ┆ 0.524953 ┆ 0.371525 ┆ 0.059391 ┆ 0.029696 ┆ 0.014435 │\n",
       "│ 3    ┆ 0.389338 ┆ 0.508812 ┆ 0.060676 ┆ 0.032505 ┆ 0.008668 │\n",
       "│ 4    ┆ 0.677032 ┆ 0.230511 ┆ 0.036686 ┆ 0.044984 ┆ 0.010787 │\n",
       "│ 5    ┆ 0.428735 ┆ 0.324306 ┆ 0.07574  ┆ 0.119348 ┆ 0.051871 │\n",
       "│ …    ┆ …        ┆ …        ┆ …        ┆ …        ┆ …        │\n",
       "│ 100  ┆ 0.545707 ┆ 0.31711  ┆ 0.080381 ┆ 0.039087 ┆ 0.017715 │\n",
       "│ 101  ┆ 0.36891  ┆ 0.40552  ┆ 0.140805 ┆ 0.059138 ┆ 0.025627 │\n",
       "│ 102  ┆ 0.342581 ┆ 0.543494 ┆ 0.071147 ┆ 0.019689 ┆ 0.023089 │\n",
       "│ 103  ┆ 0.424609 ┆ 0.415495 ┆ 0.100574 ┆ 0.042429 ┆ 0.016893 │\n",
       "│ 104  ┆ 0.457298 ┆ 0.290104 ┆ 0.110032 ┆ 0.112969 ┆ 0.029598 │\n",
       "└──────┴──────────┴──────────┴──────────┴──────────┴──────────┘"
      ]
     },
     "execution_count": 55,
     "metadata": {},
     "output_type": "execute_result"
    }
   ],
   "source": [
    "# Weekly (volume) market share\n",
    "pct_volume =(\n",
    "    grocery_volume\n",
    "    .collect()\n",
    "    .pivot(\n",
    "        on='brand',\n",
    "        index='week',\n",
    "        values='Weekly Volume',\n",
    "        sort_columns=True\n",
    "    )\n",
    "    .with_columns(\n",
    "        (pl.col(\"*\").exclude(\"week\")) / pl.sum_horizontal(pl.exclude('week')).cast(pl.Float64)\n",
    "    )\n",
    ")\n",
    "\n",
    "pct_volume"
   ]
  },
  {
   "cell_type": "code",
   "execution_count": 56,
   "metadata": {},
   "outputs": [
    {
     "data": {
      "application/vnd.vegalite.v5+json": {
       "$schema": "https://vega.github.io/schema/vega-lite/v5.20.1.json",
       "config": {
        "axisY": {},
        "view": {
         "continuousHeight": 300,
         "continuousWidth": 300,
         "stroke": null
        }
       },
       "data": {
        "name": "data-0fd9505dd7dc12720d8d348922d80185"
       },
       "datasets": {
        "data-0fd9505dd7dc12720d8d348922d80185": [
         {
          "Total Weekly Volume": 187.59999999999997,
          "Weekly Volume": 66.6,
          "brand": "Bravo",
          "pct_volume": 0.35501066098081024,
          "week": 1
         },
         {
          "Total Weekly Volume": 187.59999999999997,
          "Weekly Volume": 90.24999999999999,
          "brand": "Alpha",
          "pct_volume": 0.4810767590618337,
          "week": 1
         },
         {
          "Total Weekly Volume": 303.075,
          "Weekly Volume": 159.1,
          "brand": "Alpha",
          "pct_volume": 0.5249525694959993,
          "week": 2
         },
         {
          "Total Weekly Volume": 303.075,
          "Weekly Volume": 112.6,
          "brand": "Bravo",
          "pct_volume": 0.3715252000329951,
          "week": 2
         },
         {
          "Total Weekly Volume": 346.1,
          "Weekly Volume": 176.10000000000002,
          "brand": "Bravo",
          "pct_volume": 0.5088124819416354,
          "week": 3
         },
         {
          "Total Weekly Volume": 346.1,
          "Weekly Volume": 134.75,
          "brand": "Alpha",
          "pct_volume": 0.38933834151979196,
          "week": 3
         },
         {
          "Total Weekly Volume": 572.4250000000001,
          "Weekly Volume": 131.95,
          "brand": "Bravo",
          "pct_volume": 0.23051054723326195,
          "week": 4
         },
         {
          "Total Weekly Volume": 572.4250000000001,
          "Weekly Volume": 387.55000000000007,
          "brand": "Alpha",
          "pct_volume": 0.6770319255797703,
          "week": 4
         },
         {
          "Total Weekly Volume": 217.85,
          "Weekly Volume": 70.65,
          "brand": "Bravo",
          "pct_volume": 0.32430571494147353,
          "week": 5
         },
         {
          "Total Weekly Volume": 217.85,
          "Weekly Volume": 93.39999999999999,
          "brand": "Alpha",
          "pct_volume": 0.4287353683727335,
          "week": 5
         },
         {
          "Total Weekly Volume": 224.45,
          "Weekly Volume": 67.4,
          "brand": "Bravo",
          "pct_volume": 0.30028959679215866,
          "week": 6
         },
         {
          "Total Weekly Volume": 224.45,
          "Weekly Volume": 99.64999999999999,
          "brand": "Alpha",
          "pct_volume": 0.4439741590554689,
          "week": 6
         },
         {
          "Total Weekly Volume": 235.64999999999998,
          "Weekly Volume": 74.85,
          "brand": "Bravo",
          "pct_volume": 0.3176320814767664,
          "week": 7
         },
         {
          "Total Weekly Volume": 235.64999999999998,
          "Weekly Volume": 111.64999999999999,
          "brand": "Alpha",
          "pct_volume": 0.4737958837258646,
          "week": 7
         },
         {
          "Total Weekly Volume": 234.39999999999998,
          "Weekly Volume": 85.64999999999998,
          "brand": "Alpha",
          "pct_volume": 0.36540102389078494,
          "week": 8
         },
         {
          "Total Weekly Volume": 234.39999999999998,
          "Weekly Volume": 85.25,
          "brand": "Bravo",
          "pct_volume": 0.3636945392491468,
          "week": 8
         },
         {
          "Total Weekly Volume": 231.79999999999998,
          "Weekly Volume": 112.7,
          "brand": "Bravo",
          "pct_volume": 0.4861949956859362,
          "week": 9
         },
         {
          "Total Weekly Volume": 231.79999999999998,
          "Weekly Volume": 75.1,
          "brand": "Alpha",
          "pct_volume": 0.3239861949956859,
          "week": 9
         },
         {
          "Total Weekly Volume": 279.6,
          "Weekly Volume": 118.1,
          "brand": "Alpha",
          "pct_volume": 0.4223891273247496,
          "week": 10
         },
         {
          "Total Weekly Volume": 279.6,
          "Weekly Volume": 130.2,
          "brand": "Bravo",
          "pct_volume": 0.46566523605150206,
          "week": 10
         },
         {
          "Total Weekly Volume": 299.67499999999995,
          "Weekly Volume": 200.15,
          "brand": "Bravo",
          "pct_volume": 0.6678902143989323,
          "week": 11
         },
         {
          "Total Weekly Volume": 299.67499999999995,
          "Weekly Volume": 70.44999999999999,
          "brand": "Alpha",
          "pct_volume": 0.2350880120130141,
          "week": 11
         },
         {
          "Total Weekly Volume": 448.25,
          "Weekly Volume": 251.55000000000004,
          "brand": "Alpha",
          "pct_volume": 0.5611823759063024,
          "week": 12
         },
         {
          "Total Weekly Volume": 448.25,
          "Weekly Volume": 144.29999999999998,
          "brand": "Bravo",
          "pct_volume": 0.32191857222532066,
          "week": 12
         },
         {
          "Total Weekly Volume": 326.925,
          "Weekly Volume": 122.19999999999997,
          "brand": "Alpha",
          "pct_volume": 0.3737860365527261,
          "week": 13
         },
         {
          "Total Weekly Volume": 326.925,
          "Weekly Volume": 145.05,
          "brand": "Bravo",
          "pct_volume": 0.443679743060335,
          "week": 13
         },
         {
          "Total Weekly Volume": 444.49999999999994,
          "Weekly Volume": 248.4,
          "brand": "Alpha",
          "pct_volume": 0.5588301462317211,
          "week": 14
         },
         {
          "Total Weekly Volume": 444.49999999999994,
          "Weekly Volume": 111.94999999999997,
          "brand": "Bravo",
          "pct_volume": 0.25185601799775026,
          "week": 14
         },
         {
          "Total Weekly Volume": 405.75000000000006,
          "Weekly Volume": 121.19999999999999,
          "brand": "Alpha",
          "pct_volume": 0.29870609981515706,
          "week": 15
         },
         {
          "Total Weekly Volume": 405.75000000000006,
          "Weekly Volume": 229.05000000000007,
          "brand": "Bravo",
          "pct_volume": 0.5645101663585953,
          "week": 15
         },
         {
          "Total Weekly Volume": 307.475,
          "Weekly Volume": 165.05,
          "brand": "Alpha",
          "pct_volume": 0.5367916090739084,
          "week": 16
         },
         {
          "Total Weekly Volume": 307.475,
          "Weekly Volume": 106.29999999999998,
          "brand": "Bravo",
          "pct_volume": 0.3457191641596877,
          "week": 16
         },
         {
          "Total Weekly Volume": 355.7,
          "Weekly Volume": 114.19999999999999,
          "brand": "Alpha",
          "pct_volume": 0.3210570705650829,
          "week": 17
         },
         {
          "Total Weekly Volume": 355.7,
          "Weekly Volume": 128.75,
          "brand": "Bravo",
          "pct_volume": 0.3619623278043295,
          "week": 17
         },
         {
          "Total Weekly Volume": 446.65,
          "Weekly Volume": 132.45,
          "brand": "Bravo",
          "pct_volume": 0.2965409157058099,
          "week": 18
         },
         {
          "Total Weekly Volume": 446.65,
          "Weekly Volume": 194.20000000000002,
          "brand": "Alpha",
          "pct_volume": 0.4347923429978731,
          "week": 18
         },
         {
          "Total Weekly Volume": 419.09999999999997,
          "Weekly Volume": 170.3,
          "brand": "Alpha",
          "pct_volume": 0.4063469339059891,
          "week": 19
         },
         {
          "Total Weekly Volume": 419.09999999999997,
          "Weekly Volume": 126.89999999999996,
          "brand": "Bravo",
          "pct_volume": 0.30279169649248383,
          "week": 19
         },
         {
          "Total Weekly Volume": 608.6,
          "Weekly Volume": 270.00000000000006,
          "brand": "Bravo",
          "pct_volume": 0.4436411436082814,
          "week": 20
         },
         {
          "Total Weekly Volume": 608.6,
          "Weekly Volume": 227.35,
          "brand": "Alpha",
          "pct_volume": 0.37356227407163983,
          "week": 20
         },
         {
          "Total Weekly Volume": 817.8250000000002,
          "Weekly Volume": 260.00000000000006,
          "brand": "Alpha",
          "pct_volume": 0.31791642466297804,
          "week": 21
         },
         {
          "Total Weekly Volume": 817.8250000000002,
          "Weekly Volume": 488.40000000000015,
          "brand": "Bravo",
          "pct_volume": 0.5971937761746096,
          "week": 21
         },
         {
          "Total Weekly Volume": 391.25,
          "Weekly Volume": 183.8,
          "brand": "Alpha",
          "pct_volume": 0.46977635782747607,
          "week": 22
         },
         {
          "Total Weekly Volume": 391.25,
          "Weekly Volume": 161.5,
          "brand": "Bravo",
          "pct_volume": 0.412779552715655,
          "week": 22
         },
         {
          "Total Weekly Volume": 379.525,
          "Weekly Volume": 143.84999999999997,
          "brand": "Bravo",
          "pct_volume": 0.3790264145971938,
          "week": 23
         },
         {
          "Total Weekly Volume": 379.525,
          "Weekly Volume": 168.70000000000002,
          "brand": "Alpha",
          "pct_volume": 0.44450299716751207,
          "week": 23
         },
         {
          "Total Weekly Volume": 492.09999999999997,
          "Weekly Volume": 164.2,
          "brand": "Bravo",
          "pct_volume": 0.3336720178825442,
          "week": 24
         },
         {
          "Total Weekly Volume": 492.09999999999997,
          "Weekly Volume": 186.89999999999998,
          "brand": "Alpha",
          "pct_volume": 0.379800853485064,
          "week": 24
         },
         {
          "Total Weekly Volume": 379.20000000000005,
          "Weekly Volume": 134.8,
          "brand": "Alpha",
          "pct_volume": 0.35548523206751054,
          "week": 25
         },
         {
          "Total Weekly Volume": 379.20000000000005,
          "Weekly Volume": 178.3,
          "brand": "Bravo",
          "pct_volume": 0.47020042194092826,
          "week": 25
         },
         {
          "Total Weekly Volume": 1095.6000000000001,
          "Weekly Volume": 474.25000000000017,
          "brand": "Bravo",
          "pct_volume": 0.4328678349762688,
          "week": 26
         },
         {
          "Total Weekly Volume": 1095.6000000000001,
          "Weekly Volume": 559.0500000000001,
          "brand": "Alpha",
          "pct_volume": 0.5102683461117196,
          "week": 26
         },
         {
          "Total Weekly Volume": 596.225,
          "Weekly Volume": 162.75,
          "brand": "Bravo",
          "pct_volume": 0.2729674200176108,
          "week": 27
         },
         {
          "Total Weekly Volume": 596.225,
          "Weekly Volume": 334.70000000000005,
          "brand": "Alpha",
          "pct_volume": 0.5613652564048808,
          "week": 27
         },
         {
          "Total Weekly Volume": 395.02500000000003,
          "Weekly Volume": 190.25000000000006,
          "brand": "Bravo",
          "pct_volume": 0.4816150876526803,
          "week": 28
         },
         {
          "Total Weekly Volume": 395.02500000000003,
          "Weekly Volume": 128.64999999999998,
          "brand": "Alpha",
          "pct_volume": 0.3256755901525219,
          "week": 28
         },
         {
          "Total Weekly Volume": 329.17499999999995,
          "Weekly Volume": 133.95,
          "brand": "Alpha",
          "pct_volume": 0.40692640692640697,
          "week": 29
         },
         {
          "Total Weekly Volume": 329.17499999999995,
          "Weekly Volume": 133.19999999999996,
          "brand": "Bravo",
          "pct_volume": 0.404647983595352,
          "week": 29
         },
         {
          "Total Weekly Volume": 356.72499999999997,
          "Weekly Volume": 154.99999999999997,
          "brand": "Alpha",
          "pct_volume": 0.43450837479851423,
          "week": 30
         },
         {
          "Total Weekly Volume": 356.72499999999997,
          "Weekly Volume": 110.99999999999999,
          "brand": "Bravo",
          "pct_volume": 0.3111640619524844,
          "week": 30
         },
         {
          "Total Weekly Volume": 483.70000000000005,
          "Weekly Volume": 163.25,
          "brand": "Alpha",
          "pct_volume": 0.3375025842464337,
          "week": 31
         },
         {
          "Total Weekly Volume": 483.70000000000005,
          "Weekly Volume": 212.10000000000002,
          "brand": "Bravo",
          "pct_volume": 0.4384949348769899,
          "week": 31
         },
         {
          "Total Weekly Volume": 554.0500000000001,
          "Weekly Volume": 160.20000000000002,
          "brand": "Alpha",
          "pct_volume": 0.2891435790993593,
          "week": 32
         },
         {
          "Total Weekly Volume": 554.0500000000001,
          "Weekly Volume": 315.1000000000001,
          "brand": "Bravo",
          "pct_volume": 0.5687212345456187,
          "week": 32
         },
         {
          "Total Weekly Volume": 331.05,
          "Weekly Volume": 161.50000000000003,
          "brand": "Alpha",
          "pct_volume": 0.48784171575290747,
          "week": 33
         },
         {
          "Total Weekly Volume": 331.05,
          "Weekly Volume": 111.14999999999995,
          "brand": "Bravo",
          "pct_volume": 0.33574988672405964,
          "week": 33
         },
         {
          "Total Weekly Volume": 592.2250000000001,
          "Weekly Volume": 108.94999999999993,
          "brand": "Bravo",
          "pct_volume": 0.18396724217991456,
          "week": 34
         },
         {
          "Total Weekly Volume": 592.2250000000001,
          "Weekly Volume": 432.90000000000015,
          "brand": "Alpha",
          "pct_volume": 0.730972181181139,
          "week": 34
         },
         {
          "Total Weekly Volume": 657.9500000000002,
          "Weekly Volume": 182.40000000000003,
          "brand": "Bravo",
          "pct_volume": 0.2772247131240976,
          "week": 35
         },
         {
          "Total Weekly Volume": 657.9500000000002,
          "Weekly Volume": 432.6500000000001,
          "brand": "Alpha",
          "pct_volume": 0.6575727638878334,
          "week": 35
         },
         {
          "Total Weekly Volume": 346.875,
          "Weekly Volume": 109.64999999999998,
          "brand": "Bravo",
          "pct_volume": 0.316108108108108,
          "week": 36
         },
         {
          "Total Weekly Volume": 346.875,
          "Weekly Volume": 152.25,
          "brand": "Alpha",
          "pct_volume": 0.43891891891891893,
          "week": 36
         },
         {
          "Total Weekly Volume": 266.025,
          "Weekly Volume": 113.14999999999999,
          "brand": "Alpha",
          "pct_volume": 0.4253359646649751,
          "week": 37
         },
         {
          "Total Weekly Volume": 266.025,
          "Weekly Volume": 93.64999999999998,
          "brand": "Bravo",
          "pct_volume": 0.3520345832158631,
          "week": 37
         },
         {
          "Total Weekly Volume": 260.4,
          "Weekly Volume": 110.45,
          "brand": "Bravo",
          "pct_volume": 0.4241551459293395,
          "week": 38
         },
         {
          "Total Weekly Volume": 260.4,
          "Weekly Volume": 98.44999999999999,
          "brand": "Alpha",
          "pct_volume": 0.3780721966205837,
          "week": 38
         },
         {
          "Total Weekly Volume": 270.95,
          "Weekly Volume": 78.19999999999999,
          "brand": "Bravo",
          "pct_volume": 0.2886141354493449,
          "week": 39
         },
         {
          "Total Weekly Volume": 270.95,
          "Weekly Volume": 124.35,
          "brand": "Alpha",
          "pct_volume": 0.45894076397859385,
          "week": 39
         },
         {
          "Total Weekly Volume": 295.2249999999999,
          "Weekly Volume": 116.79999999999995,
          "brand": "Alpha",
          "pct_volume": 0.3956304513506647,
          "week": 40
         },
         {
          "Total Weekly Volume": 295.2249999999999,
          "Weekly Volume": 120.04999999999998,
          "brand": "Bravo",
          "pct_volume": 0.40663900414937765,
          "week": 40
         },
         {
          "Total Weekly Volume": 330.29999999999995,
          "Weekly Volume": 111.35,
          "brand": "Alpha",
          "pct_volume": 0.3371177717226764,
          "week": 41
         },
         {
          "Total Weekly Volume": 330.29999999999995,
          "Weekly Volume": 134.04999999999998,
          "brand": "Bravo",
          "pct_volume": 0.40584317287314564,
          "week": 41
         },
         {
          "Total Weekly Volume": 329.80000000000007,
          "Weekly Volume": 182.00000000000003,
          "brand": "Bravo",
          "pct_volume": 0.55184960582171,
          "week": 42
         },
         {
          "Total Weekly Volume": 329.80000000000007,
          "Weekly Volume": 94.65,
          "brand": "Alpha",
          "pct_volume": 0.2869921164342025,
          "week": 42
         },
         {
          "Total Weekly Volume": 365.775,
          "Weekly Volume": 225.6,
          "brand": "Bravo",
          "pct_volume": 0.6167726061103137,
          "week": 43
         },
         {
          "Total Weekly Volume": 365.775,
          "Weekly Volume": 99.44999999999996,
          "brand": "Alpha",
          "pct_volume": 0.2718884560180438,
          "week": 43
         },
         {
          "Total Weekly Volume": 653.85,
          "Weekly Volume": 108.44999999999999,
          "brand": "Alpha",
          "pct_volume": 0.16586373021335166,
          "week": 44
         },
         {
          "Total Weekly Volume": 653.85,
          "Weekly Volume": 509.90000000000003,
          "brand": "Bravo",
          "pct_volume": 0.7798424715148735,
          "week": 44
         },
         {
          "Total Weekly Volume": 223.85,
          "Weekly Volume": 81.94999999999999,
          "brand": "Alpha",
          "pct_volume": 0.36609336609336607,
          "week": 45
         },
         {
          "Total Weekly Volume": 223.85,
          "Weekly Volume": 105.64999999999999,
          "brand": "Bravo",
          "pct_volume": 0.4719678356041992,
          "week": 45
         },
         {
          "Total Weekly Volume": 363.25,
          "Weekly Volume": 124.59999999999998,
          "brand": "Bravo",
          "pct_volume": 0.3430144528561596,
          "week": 46
         },
         {
          "Total Weekly Volume": 363.25,
          "Weekly Volume": 155.25,
          "brand": "Alpha",
          "pct_volume": 0.42739160357880246,
          "week": 46
         },
         {
          "Total Weekly Volume": 438.25000000000006,
          "Weekly Volume": 327.3,
          "brand": "Alpha",
          "pct_volume": 0.7468339988590986,
          "week": 47
         },
         {
          "Total Weekly Volume": 438.25000000000006,
          "Weekly Volume": 65.3,
          "brand": "Bravo",
          "pct_volume": 0.14900171135196802,
          "week": 47
         },
         {
          "Total Weekly Volume": 244.79999999999995,
          "Weekly Volume": 74.64999999999999,
          "brand": "Bravo",
          "pct_volume": 0.30494281045751637,
          "week": 48
         },
         {
          "Total Weekly Volume": 244.79999999999995,
          "Weekly Volume": 113.24999999999999,
          "brand": "Alpha",
          "pct_volume": 0.46262254901960786,
          "week": 48
         },
         {
          "Total Weekly Volume": 324.325,
          "Weekly Volume": 94.19999999999999,
          "brand": "Alpha",
          "pct_volume": 0.2904493948970939,
          "week": 49
         },
         {
          "Total Weekly Volume": 324.325,
          "Weekly Volume": 155.25,
          "brand": "Bravo",
          "pct_volume": 0.47868650273645263,
          "week": 49
         },
         {
          "Total Weekly Volume": 464.42500000000007,
          "Weekly Volume": 82.14999999999998,
          "brand": "Bravo",
          "pct_volume": 0.17688539591968555,
          "week": 50
         },
         {
          "Total Weekly Volume": 464.42500000000007,
          "Weekly Volume": 319.7500000000001,
          "brand": "Alpha",
          "pct_volume": 0.6884857619637187,
          "week": 50
         },
         {
          "Total Weekly Volume": 528,
          "Weekly Volume": 238.25,
          "brand": "Bravo",
          "pct_volume": 0.4512310606060606,
          "week": 51
         },
         {
          "Total Weekly Volume": 528,
          "Weekly Volume": 203.70000000000002,
          "brand": "Alpha",
          "pct_volume": 0.38579545454545455,
          "week": 51
         },
         {
          "Total Weekly Volume": 331.70000000000005,
          "Weekly Volume": 70.34999999999998,
          "brand": "Bravo",
          "pct_volume": 0.21208923726258658,
          "week": 52
         },
         {
          "Total Weekly Volume": 331.70000000000005,
          "Weekly Volume": 215.80000000000004,
          "brand": "Alpha",
          "pct_volume": 0.6505878806150136,
          "week": 52
         },
         {
          "Total Weekly Volume": 239.27499999999998,
          "Weekly Volume": 95.14999999999998,
          "brand": "Bravo",
          "pct_volume": 0.3976595966983596,
          "week": 53
         },
         {
          "Total Weekly Volume": 239.27499999999998,
          "Weekly Volume": 98.25,
          "brand": "Alpha",
          "pct_volume": 0.41061540068958313,
          "week": 53
         },
         {
          "Total Weekly Volume": 302.5999999999999,
          "Weekly Volume": 157.29999999999995,
          "brand": "Alpha",
          "pct_volume": 0.5198281559814937,
          "week": 54
         },
         {
          "Total Weekly Volume": 302.5999999999999,
          "Weekly Volume": 102.79999999999998,
          "brand": "Bravo",
          "pct_volume": 0.3397224058162591,
          "week": 54
         },
         {
          "Total Weekly Volume": 515.7750000000001,
          "Weekly Volume": 103.375,
          "brand": "Bravo",
          "pct_volume": 0.200426542581552,
          "week": 55
         },
         {
          "Total Weekly Volume": 515.7750000000001,
          "Weekly Volume": 368.6,
          "brand": "Alpha",
          "pct_volume": 0.7146527070912704,
          "week": 55
         },
         {
          "Total Weekly Volume": 640.775,
          "Weekly Volume": 162.6,
          "brand": "Bravo",
          "pct_volume": 0.2537552182903515,
          "week": 56
         },
         {
          "Total Weekly Volume": 640.775,
          "Weekly Volume": 408.40000000000003,
          "brand": "Alpha",
          "pct_volume": 0.6373532051031954,
          "week": 56
         },
         {
          "Total Weekly Volume": 535.0000000000001,
          "Weekly Volume": 270.55000000000007,
          "brand": "Alpha",
          "pct_volume": 0.5057009345794393,
          "week": 57
         },
         {
          "Total Weekly Volume": 535.0000000000001,
          "Weekly Volume": 220.07500000000002,
          "brand": "Bravo",
          "pct_volume": 0.4113551401869158,
          "week": 57
         },
         {
          "Total Weekly Volume": 205.59999999999997,
          "Weekly Volume": 76.64999999999999,
          "brand": "Alpha",
          "pct_volume": 0.3728112840466926,
          "week": 58
         },
         {
          "Total Weekly Volume": 205.59999999999997,
          "Weekly Volume": 74.19999999999997,
          "brand": "Bravo",
          "pct_volume": 0.3608949416342412,
          "week": 58
         },
         {
          "Total Weekly Volume": 267.825,
          "Weekly Volume": 59.64999999999999,
          "brand": "Bravo",
          "pct_volume": 0.22272005974050216,
          "week": 59
         },
         {
          "Total Weekly Volume": 267.825,
          "Weekly Volume": 159.04999999999998,
          "brand": "Alpha",
          "pct_volume": 0.5938579296182208,
          "week": 59
         },
         {
          "Total Weekly Volume": 225.59999999999994,
          "Weekly Volume": 89.94999999999999,
          "brand": "Alpha",
          "pct_volume": 0.39871453900709225,
          "week": 60
         },
         {
          "Total Weekly Volume": 225.59999999999994,
          "Weekly Volume": 86.29999999999995,
          "brand": "Bravo",
          "pct_volume": 0.3825354609929077,
          "week": 60
         },
         {
          "Total Weekly Volume": 242.57499999999996,
          "Weekly Volume": 83.29999999999997,
          "brand": "Bravo",
          "pct_volume": 0.3433989487787282,
          "week": 61
         },
         {
          "Total Weekly Volume": 242.57499999999996,
          "Weekly Volume": 116.99999999999997,
          "brand": "Alpha",
          "pct_volume": 0.4823250541069772,
          "week": 61
         },
         {
          "Total Weekly Volume": 286.29999999999995,
          "Weekly Volume": 89.94999999999999,
          "brand": "Bravo",
          "pct_volume": 0.31418092909535456,
          "week": 62
         },
         {
          "Total Weekly Volume": 286.29999999999995,
          "Weekly Volume": 146.75,
          "brand": "Alpha",
          "pct_volume": 0.5125742228431716,
          "week": 62
         },
         {
          "Total Weekly Volume": 311.19999999999993,
          "Weekly Volume": 88.89999999999999,
          "brand": "Alpha",
          "pct_volume": 0.28566838046272497,
          "week": 63
         },
         {
          "Total Weekly Volume": 311.19999999999993,
          "Weekly Volume": 178.39999999999998,
          "brand": "Bravo",
          "pct_volume": 0.5732647814910026,
          "week": 63
         },
         {
          "Total Weekly Volume": 429.40000000000003,
          "Weekly Volume": 222.45000000000005,
          "brand": "Bravo",
          "pct_volume": 0.5180484396832791,
          "week": 64
         },
         {
          "Total Weekly Volume": 429.40000000000003,
          "Weekly Volume": 129.7,
          "brand": "Alpha",
          "pct_volume": 0.3020493712156497,
          "week": 64
         },
         {
          "Total Weekly Volume": 399.9,
          "Weekly Volume": 207.1,
          "brand": "Alpha",
          "pct_volume": 0.5178794698674669,
          "week": 65
         },
         {
          "Total Weekly Volume": 399.9,
          "Weekly Volume": 166.8,
          "brand": "Bravo",
          "pct_volume": 0.4171042760690173,
          "week": 65
         },
         {
          "Total Weekly Volume": 265.09999999999985,
          "Weekly Volume": 103.44999999999987,
          "brand": "Bravo",
          "pct_volume": 0.3902301018483589,
          "week": 66
         },
         {
          "Total Weekly Volume": 265.09999999999985,
          "Weekly Volume": 108.64999999999999,
          "brand": "Alpha",
          "pct_volume": 0.4098453413806113,
          "week": 66
         },
         {
          "Total Weekly Volume": 237.64999999999998,
          "Weekly Volume": 94.89999999999998,
          "brand": "Alpha",
          "pct_volume": 0.39932674100568055,
          "week": 67
         },
         {
          "Total Weekly Volume": 237.64999999999998,
          "Weekly Volume": 85.85,
          "brand": "Bravo",
          "pct_volume": 0.3612455291394909,
          "week": 67
         },
         {
          "Total Weekly Volume": 372.04999999999995,
          "Weekly Volume": 147.34999999999997,
          "brand": "Bravo",
          "pct_volume": 0.3960489181561618,
          "week": 68
         },
         {
          "Total Weekly Volume": 372.04999999999995,
          "Weekly Volume": 166.05,
          "brand": "Alpha",
          "pct_volume": 0.4463109797070287,
          "week": 68
         },
         {
          "Total Weekly Volume": 577.25,
          "Weekly Volume": 92.89999999999998,
          "brand": "Alpha",
          "pct_volume": 0.16093546990038973,
          "week": 69
         },
         {
          "Total Weekly Volume": 577.25,
          "Weekly Volume": 437.3500000000001,
          "brand": "Bravo",
          "pct_volume": 0.7576440017323518,
          "week": 69
         },
         {
          "Total Weekly Volume": 278.7749999999999,
          "Weekly Volume": 103.74999999999996,
          "brand": "Bravo",
          "pct_volume": 0.3721639314859653,
          "week": 70
         },
         {
          "Total Weekly Volume": 278.7749999999999,
          "Weekly Volume": 116,
          "brand": "Alpha",
          "pct_volume": 0.41610617881804335,
          "week": 70
         },
         {
          "Total Weekly Volume": 349.69999999999993,
          "Weekly Volume": 148.2,
          "brand": "Bravo",
          "pct_volume": 0.4237918215613383,
          "week": 71
         },
         {
          "Total Weekly Volume": 349.69999999999993,
          "Weekly Volume": 133.39999999999998,
          "brand": "Alpha",
          "pct_volume": 0.38146983128395767,
          "week": 71
         },
         {
          "Total Weekly Volume": 551.7,
          "Weekly Volume": 124.59999999999998,
          "brand": "Bravo",
          "pct_volume": 0.22584738082291095,
          "week": 72
         },
         {
          "Total Weekly Volume": 551.7,
          "Weekly Volume": 351.2000000000001,
          "brand": "Alpha",
          "pct_volume": 0.6365778502809499,
          "week": 72
         },
         {
          "Total Weekly Volume": 1279.4749999999997,
          "Weekly Volume": 786.4999999999997,
          "brand": "Alpha",
          "pct_volume": 0.6147052502002773,
          "week": 73
         },
         {
          "Total Weekly Volume": 1279.4749999999997,
          "Weekly Volume": 443.8250000000001,
          "brand": "Bravo",
          "pct_volume": 0.3468805564782432,
          "week": 73
         },
         {
          "Total Weekly Volume": 335.275,
          "Weekly Volume": 120.19999999999997,
          "brand": "Bravo",
          "pct_volume": 0.35851166952501673,
          "week": 74
         },
         {
          "Total Weekly Volume": 335.275,
          "Weekly Volume": 156.79999999999998,
          "brand": "Alpha",
          "pct_volume": 0.46767578853180225,
          "week": 74
         },
         {
          "Total Weekly Volume": 343.4,
          "Weekly Volume": 163.85000000000002,
          "brand": "Alpha",
          "pct_volume": 0.47714036109493313,
          "week": 75
         },
         {
          "Total Weekly Volume": 343.4,
          "Weekly Volume": 120.24999999999996,
          "brand": "Bravo",
          "pct_volume": 0.3501747233546883,
          "week": 75
         },
         {
          "Total Weekly Volume": 387.04999999999995,
          "Weekly Volume": 137.325,
          "brand": "Bravo",
          "pct_volume": 0.3547991215605219,
          "week": 76
         },
         {
          "Total Weekly Volume": 387.04999999999995,
          "Weekly Volume": 163.79999999999998,
          "brand": "Alpha",
          "pct_volume": 0.4232011368040305,
          "week": 76
         },
         {
          "Total Weekly Volume": 572.0000000000001,
          "Weekly Volume": 164.675,
          "brand": "Bravo",
          "pct_volume": 0.2878933566433566,
          "week": 77
         },
         {
          "Total Weekly Volume": 572.0000000000001,
          "Weekly Volume": 326.0500000000001,
          "brand": "Alpha",
          "pct_volume": 0.5700174825174826,
          "week": 77
         },
         {
          "Total Weekly Volume": 1223.3499999999997,
          "Weekly Volume": 380.20000000000016,
          "brand": "Bravo",
          "pct_volume": 0.310785956594597,
          "week": 78
         },
         {
          "Total Weekly Volume": 1223.3499999999997,
          "Weekly Volume": 766.7499999999997,
          "brand": "Alpha",
          "pct_volume": 0.6267625781665099,
          "week": 78
         },
         {
          "Total Weekly Volume": 832.6250000000002,
          "Weekly Volume": 257.70000000000016,
          "brand": "Bravo",
          "pct_volume": 0.3095030776159737,
          "week": 79
         },
         {
          "Total Weekly Volume": 832.6250000000002,
          "Weekly Volume": 505.15000000000015,
          "brand": "Alpha",
          "pct_volume": 0.606695691337637,
          "week": 79
         },
         {
          "Total Weekly Volume": 345.7,
          "Weekly Volume": 134.49999999999994,
          "brand": "Alpha",
          "pct_volume": 0.3890656638704077,
          "week": 80
         },
         {
          "Total Weekly Volume": 345.7,
          "Weekly Volume": 150.45000000000002,
          "brand": "Bravo",
          "pct_volume": 0.43520393404686153,
          "week": 80
         },
         {
          "Total Weekly Volume": 401.69999999999993,
          "Weekly Volume": 184.50000000000003,
          "brand": "Bravo",
          "pct_volume": 0.45929798356982837,
          "week": 81
         },
         {
          "Total Weekly Volume": 401.69999999999993,
          "Weekly Volume": 147.69999999999996,
          "brand": "Alpha",
          "pct_volume": 0.36768732885237737,
          "week": 81
         },
         {
          "Total Weekly Volume": 349.22499999999997,
          "Weekly Volume": 176.8,
          "brand": "Bravo",
          "pct_volume": 0.5062638699978524,
          "week": 82
         },
         {
          "Total Weekly Volume": 349.22499999999997,
          "Weekly Volume": 108.59999999999998,
          "brand": "Alpha",
          "pct_volume": 0.31097430023623734,
          "week": 82
         },
         {
          "Total Weekly Volume": 323.6249999999999,
          "Weekly Volume": 129.9999999999999,
          "brand": "Alpha",
          "pct_volume": 0.4016994978756274,
          "week": 83
         },
         {
          "Total Weekly Volume": 323.6249999999999,
          "Weekly Volume": 127.62499999999997,
          "brand": "Bravo",
          "pct_volume": 0.3943607570490537,
          "week": 83
         },
         {
          "Total Weekly Volume": 306.09999999999997,
          "Weekly Volume": 147.69999999999996,
          "brand": "Alpha",
          "pct_volume": 0.48252205161711853,
          "week": 84
         },
         {
          "Total Weekly Volume": 306.09999999999997,
          "Weekly Volume": 99.99999999999999,
          "brand": "Bravo",
          "pct_volume": 0.32669062397909177,
          "week": 84
         },
         {
          "Total Weekly Volume": 470.5250000000001,
          "Weekly Volume": 147.15,
          "brand": "Bravo",
          "pct_volume": 0.31273577386961365,
          "week": 85
         },
         {
          "Total Weekly Volume": 470.5250000000001,
          "Weekly Volume": 212.35000000000008,
          "brand": "Alpha",
          "pct_volume": 0.4513043940279476,
          "week": 85
         },
         {
          "Total Weekly Volume": 542.325,
          "Weekly Volume": 178.75000000000003,
          "brand": "Bravo",
          "pct_volume": 0.3295994099479095,
          "week": 86
         },
         {
          "Total Weekly Volume": 542.325,
          "Weekly Volume": 291.50000000000006,
          "brand": "Alpha",
          "pct_volume": 0.5375005762227447,
          "week": 86
         },
         {
          "Total Weekly Volume": 1049.825,
          "Weekly Volume": 536.0499999999998,
          "brand": "Alpha",
          "pct_volume": 0.5106089110089775,
          "week": 87
         },
         {
          "Total Weekly Volume": 1049.825,
          "Weekly Volume": 480.8000000000001,
          "brand": "Bravo",
          "pct_volume": 0.45798109208677645,
          "week": 87
         },
         {
          "Total Weekly Volume": 367.6000000000001,
          "Weekly Volume": 75.04999999999998,
          "brand": "Bravo",
          "pct_volume": 0.2041621327529923,
          "week": 88
         },
         {
          "Total Weekly Volume": 367.6000000000001,
          "Weekly Volume": 258.6500000000001,
          "brand": "Alpha",
          "pct_volume": 0.7036180631120784,
          "week": 88
         },
         {
          "Total Weekly Volume": 186.24999999999994,
          "Weekly Volume": 77.34999999999998,
          "brand": "Alpha",
          "pct_volume": 0.4153020134228188,
          "week": 89
         },
         {
          "Total Weekly Volume": 186.24999999999994,
          "Weekly Volume": 89.74999999999999,
          "brand": "Bravo",
          "pct_volume": 0.48187919463087253,
          "week": 89
         },
         {
          "Total Weekly Volume": 259.72499999999997,
          "Weekly Volume": 92.09999999999998,
          "brand": "Bravo",
          "pct_volume": 0.35460583309269417,
          "week": 90
         },
         {
          "Total Weekly Volume": 259.72499999999997,
          "Weekly Volume": 115.24999999999999,
          "brand": "Alpha",
          "pct_volume": 0.4437385696409664,
          "week": 90
         },
         {
          "Total Weekly Volume": 288.1,
          "Weekly Volume": 98.69999999999999,
          "brand": "Alpha",
          "pct_volume": 0.3425893786879555,
          "week": 91
         },
         {
          "Total Weekly Volume": 288.1,
          "Weekly Volume": 149.85000000000002,
          "brand": "Bravo",
          "pct_volume": 0.5201318986463034,
          "week": 91
         },
         {
          "Total Weekly Volume": 263.8499999999999,
          "Weekly Volume": 97.24999999999997,
          "brand": "Alpha",
          "pct_volume": 0.36858063293537996,
          "week": 92
         },
         {
          "Total Weekly Volume": 263.8499999999999,
          "Weekly Volume": 123.09999999999995,
          "brand": "Bravo",
          "pct_volume": 0.46655296570020843,
          "week": 92
         },
         {
          "Total Weekly Volume": 203.725,
          "Weekly Volume": 73.6,
          "brand": "Alpha",
          "pct_volume": 0.3612713216345564,
          "week": 93
         },
         {
          "Total Weekly Volume": 203.725,
          "Weekly Volume": 67.94999999999999,
          "brand": "Bravo",
          "pct_volume": 0.3335378574058166,
          "week": 93
         },
         {
          "Total Weekly Volume": 213.54999999999995,
          "Weekly Volume": 90.94999999999997,
          "brand": "Bravo",
          "pct_volume": 0.42589557480683676,
          "week": 94
         },
         {
          "Total Weekly Volume": 213.54999999999995,
          "Weekly Volume": 87.6,
          "brand": "Alpha",
          "pct_volume": 0.4102083821119176,
          "week": 94
         },
         {
          "Total Weekly Volume": 243.52499999999992,
          "Weekly Volume": 116.84999999999994,
          "brand": "Bravo",
          "pct_volume": 0.4798275331074837,
          "week": 95
         },
         {
          "Total Weekly Volume": 243.52499999999992,
          "Weekly Volume": 87.79999999999997,
          "brand": "Alpha",
          "pct_volume": 0.3605379324504671,
          "week": 95
         },
         {
          "Total Weekly Volume": 272.15,
          "Weekly Volume": 62.54999999999998,
          "brand": "Bravo",
          "pct_volume": 0.22983648723130623,
          "week": 96
         },
         {
          "Total Weekly Volume": 272.15,
          "Weekly Volume": 169.15,
          "brand": "Alpha",
          "pct_volume": 0.6215322432482088,
          "week": 96
         },
         {
          "Total Weekly Volume": 460.2250000000001,
          "Weekly Volume": 216.25000000000006,
          "brand": "Alpha",
          "pct_volume": 0.46987886359932646,
          "week": 97
         },
         {
          "Total Weekly Volume": 460.2250000000001,
          "Weekly Volume": 208.45000000000002,
          "brand": "Bravo",
          "pct_volume": 0.4529306317562062,
          "week": 97
         },
         {
          "Total Weekly Volume": 884.0250000000001,
          "Weekly Volume": 394.05,
          "brand": "Alpha",
          "pct_volume": 0.4457453126325613,
          "week": 98
         },
         {
          "Total Weekly Volume": 884.0250000000001,
          "Weekly Volume": 467.8250000000001,
          "brand": "Bravo",
          "pct_volume": 0.5291988348745794,
          "week": 98
         },
         {
          "Total Weekly Volume": 415.85,
          "Weekly Volume": 98.24999999999999,
          "brand": "Alpha",
          "pct_volume": 0.2362630756282313,
          "week": 99
         },
         {
          "Total Weekly Volume": 415.85,
          "Weekly Volume": 246.05,
          "brand": "Bravo",
          "pct_volume": 0.5916796921967056,
          "week": 99
         },
         {
          "Total Weekly Volume": 396.54999999999995,
          "Weekly Volume": 125.74999999999997,
          "brand": "Bravo",
          "pct_volume": 0.31711007439162775,
          "week": 100
         },
         {
          "Total Weekly Volume": 396.54999999999995,
          "Weekly Volume": 216.40000000000003,
          "brand": "Alpha",
          "pct_volume": 0.5457067204640021,
          "week": 100
         },
         {
          "Total Weekly Volume": 177.55,
          "Weekly Volume": 72,
          "brand": "Bravo",
          "pct_volume": 0.4055195719515629,
          "week": 101
         },
         {
          "Total Weekly Volume": 177.55,
          "Weekly Volume": 65.5,
          "brand": "Alpha",
          "pct_volume": 0.36891016615038014,
          "week": 101
         },
         {
          "Total Weekly Volume": 279.34999999999997,
          "Weekly Volume": 151.825,
          "brand": "Bravo",
          "pct_volume": 0.5434938249507786,
          "week": 102
         },
         {
          "Total Weekly Volume": 279.34999999999997,
          "Weekly Volume": 95.69999999999997,
          "brand": "Alpha",
          "pct_volume": 0.34258099158761407,
          "week": 102
         },
         {
          "Total Weekly Volume": 318.175,
          "Weekly Volume": 135.10000000000002,
          "brand": "Alpha",
          "pct_volume": 0.4246090987664022,
          "week": 103
         },
         {
          "Total Weekly Volume": 318.175,
          "Weekly Volume": 132.2,
          "brand": "Bravo",
          "pct_volume": 0.4154946177418087,
          "week": 103
         },
         {
          "Total Weekly Volume": 221.3,
          "Weekly Volume": 101.2,
          "brand": "Alpha",
          "pct_volume": 0.45729778581111613,
          "week": 104
         },
         {
          "Total Weekly Volume": 221.3,
          "Weekly Volume": 64.19999999999999,
          "brand": "Bravo",
          "pct_volume": 0.290103931314957,
          "week": 104
         }
        ]
       },
       "encoding": {
        "color": {
         "field": "brand",
         "legend": {
          "title": "brand"
         },
         "type": "nominal"
        },
        "x": {
         "axis": {
          "labelExpr": "datum.value",
          "title": "Week",
          "values": [
           0,
           13,
           26,
           39,
           52,
           65,
           78,
           91,
           104
          ]
         },
         "field": "week",
         "type": "quantitative"
        },
        "y": {
         "axis": {
          "format": ",.0%"
         },
         "field": "pct_volume",
         "title": "",
         "type": "quantitative"
        }
       },
       "height": 250,
       "mark": {
        "strokeWidth": 1,
        "type": "line"
       },
       "title": "",
       "width": 650
      },
      "text/plain": [
       "<VegaLite 5 object>\n",
       "\n",
       "If you see this message, it means the renderer has not been properly enabled\n",
       "for the frontend that you are using. For more information, see\n",
       "https://altair-viz.github.io/user_guide/display_frontends.html#troubleshooting\n"
      ]
     },
     "execution_count": 56,
     "metadata": {},
     "output_type": "execute_result"
    }
   ],
   "source": [
    "pct_volume_plot = (\n",
    "    grocery_volume\n",
    "    .group_by('week')\n",
    "    .agg(\n",
    "        pl.col('Weekly Volume').sum().alias('Total Weekly Volume')\n",
    "    )\n",
    "    .join(\n",
    "        other=grocery_volume,\n",
    "        on='week',\n",
    "    )\n",
    "    .filter(\n",
    "        (pl.col('brand') == 'Alpha') |\n",
    "        (pl.col(\"brand\") == 'Bravo')\n",
    "    )\n",
    "    .with_columns(\n",
    "        # compute brand wise % of total volume sale\n",
    "        (pl.col('Weekly Volume') / pl.col('Total Weekly Volume')).alias('pct_volume')\n",
    "    )\n",
    ").collect()\n",
    "\n",
    "weekly_plot(dataframe=pct_volume_plot, \n",
    "            y='pct_volume', \n",
    "            color='brand', \n",
    "            title=\"\", \n",
    "            y_axis_label=\"\", \n",
    "            pct=True, \n",
    "            legend=True)"
   ]
  },
  {
   "cell_type": "code",
   "execution_count": 57,
   "metadata": {},
   "outputs": [
    {
     "data": {
      "text/html": [
       "<div id=\"ynoinvcgfj\" style=\"padding-left:0px;padding-right:0px;padding-top:10px;padding-bottom:10px;overflow-x:auto;overflow-y:auto;width:auto;height:auto;\">\n",
       "<style>\n",
       "#ynoinvcgfj table {\n",
       "          font-family: -apple-system, BlinkMacSystemFont, 'Segoe UI', Roboto, Oxygen, Ubuntu, Cantarell, 'Helvetica Neue', 'Fira Sans', 'Droid Sans', Arial, sans-serif;\n",
       "          -webkit-font-smoothing: antialiased;\n",
       "          -moz-osx-font-smoothing: grayscale;\n",
       "        }\n",
       "\n",
       "#ynoinvcgfj thead, tbody, tfoot, tr, td, th { border-style: none !important; }\n",
       " tr { background-color: transparent !important; }\n",
       "#ynoinvcgfj p { margin: 0 !important; padding: 0 !important; }\n",
       " #ynoinvcgfj .gt_table { display: table !important; border-collapse: collapse !important; line-height: normal !important; margin-left: auto !important; margin-right: auto !important; color: #333333 !important; font-size: 16px !important; font-weight: normal !important; font-style: normal !important; background-color: #FFFFFF !important; width: auto !important; border-top-style: solid !important; border-top-width: 2px !important; border-top-color: #A8A8A8 !important; border-right-style: none !important; border-right-width: 2px !important; border-right-color: #D3D3D3 !important; border-bottom-style: solid !important; border-bottom-width: 2px !important; border-bottom-color: #A8A8A8 !important; border-left-style: none !important; border-left-width: 2px !important; border-left-color: #D3D3D3 !important; }\n",
       " #ynoinvcgfj .gt_caption { padding-top: 4px !important; padding-bottom: 4px !important; }\n",
       " #ynoinvcgfj .gt_title { color: #333333 !important; font-size: 125% !important; font-weight: initial !important; padding-top: 4px !important; padding-bottom: 4px !important; padding-left: 5px !important; padding-right: 5px !important; border-bottom-color: #FFFFFF !important; border-bottom-width: 0 !important; }\n",
       " #ynoinvcgfj .gt_subtitle { color: #333333 !important; font-size: 85% !important; font-weight: initial !important; padding-top: 3px !important; padding-bottom: 5px !important; padding-left: 5px !important; padding-right: 5px !important; border-top-color: #FFFFFF !important; border-top-width: 0 !important; }\n",
       " #ynoinvcgfj .gt_heading { background-color: #FFFFFF !important; text-align: center !important; border-bottom-color: #FFFFFF !important; border-left-style: none !important; border-left-width: 1px !important; border-left-color: #D3D3D3 !important; border-right-style: none !important; border-right-width: 1px !important; border-right-color: #D3D3D3 !important; }\n",
       " #ynoinvcgfj .gt_bottom_border { border-bottom-style: solid !important; border-bottom-width: 2px !important; border-bottom-color: #D3D3D3 !important; }\n",
       " #ynoinvcgfj .gt_col_headings { border-top-style: solid !important; border-top-width: 2px !important; border-top-color: #D3D3D3 !important; border-bottom-style: solid !important; border-bottom-width: 2px !important; border-bottom-color: #D3D3D3 !important; border-left-style: none !important; border-left-width: 1px !important; border-left-color: #D3D3D3 !important; border-right-style: none !important; border-right-width: 1px !important; border-right-color: #D3D3D3 !important; }\n",
       " #ynoinvcgfj .gt_col_heading { color: #333333 !important; background-color: #FFFFFF !important; font-size: 100% !important; font-weight: normal !important; text-transform: inherit !important; border-left-style: none !important; border-left-width: 1px !important; border-left-color: #D3D3D3 !important; border-right-style: none !important; border-right-width: 1px !important; border-right-color: #D3D3D3 !important; vertical-align: bottom !important; padding-top: 5px !important; padding-bottom: 5px !important; padding-left: 5px !important; padding-right: 5px !important; overflow-x: hidden !important; }\n",
       " #ynoinvcgfj .gt_column_spanner_outer { color: #333333 !important; background-color: #FFFFFF !important; font-size: 100% !important; font-weight: normal !important; text-transform: inherit !important; padding-top: 0 !important; padding-bottom: 0 !important; padding-left: 4px !important; padding-right: 4px !important; }\n",
       " #ynoinvcgfj .gt_column_spanner_outer:first-child { padding-left: 0 !important; }\n",
       " #ynoinvcgfj .gt_column_spanner_outer:last-child { padding-right: 0 !important; }\n",
       " #ynoinvcgfj .gt_column_spanner { border-bottom-style: solid !important; border-bottom-width: 2px !important; border-bottom-color: #D3D3D3 !important; vertical-align: bottom !important; padding-top: 5px !important; padding-bottom: 5px !important; overflow-x: hidden !important; display: inline-block !important; width: 100% !important; }\n",
       " #ynoinvcgfj .gt_spanner_row { border-bottom-style: hidden !important; }\n",
       " #ynoinvcgfj .gt_group_heading { padding-top: 8px !important; padding-bottom: 8px !important; padding-left: 5px !important; padding-right: 5px !important; color: #333333 !important; background-color: #FFFFFF !important; font-size: 100% !important; font-weight: initial !important; text-transform: inherit !important; border-top-style: solid !important; border-top-width: 2px !important; border-top-color: #D3D3D3 !important; border-bottom-style: solid !important; border-bottom-width: 2px !important; border-bottom-color: #D3D3D3 !important; border-left-style: none !important; border-left-width: 1px !important; border-left-color: #D3D3D3 !important; border-right-style: none !important; border-right-width: 1px !important; border-right-color: #D3D3D3 !important; vertical-align: middle !important; text-align: left !important; }\n",
       " #ynoinvcgfj .gt_empty_group_heading { padding: 0.5px !important; color: #333333 !important; background-color: #FFFFFF !important; font-size: 100% !important; font-weight: initial !important; border-top-style: solid !important; border-top-width: 2px !important; border-top-color: #D3D3D3 !important; border-bottom-style: solid !important; border-bottom-width: 2px !important; border-bottom-color: #D3D3D3 !important; vertical-align: middle !important; }\n",
       " #ynoinvcgfj .gt_from_md> :first-child { margin-top: 0 !important; }\n",
       " #ynoinvcgfj .gt_from_md> :last-child { margin-bottom: 0 !important; }\n",
       " #ynoinvcgfj .gt_row { padding-top: 8px !important; padding-bottom: 8px !important; padding-left: 5px !important; padding-right: 5px !important; margin: 10px !important; border-top-style: solid !important; border-top-width: 1px !important; border-top-color: #D3D3D3 !important; border-left-style: none !important; border-left-width: 1px !important; border-left-color: #D3D3D3 !important; border-right-style: none !important; border-right-width: 1px !important; border-right-color: #D3D3D3 !important; vertical-align: middle !important; overflow-x: hidden !important; }\n",
       " #ynoinvcgfj .gt_stub { color: #333333 !important; background-color: #FFFFFF !important; font-size: 100% !important; font-weight: initial !important; text-transform: inherit !important; border-right-style: solid !important; border-right-width: 2px !important; border-right-color: #D3D3D3 !important; padding-left: 5px !important; padding-right: 5px !important; }\n",
       " #ynoinvcgfj .gt_stub_row_group { color: #333333 !important; background-color: #FFFFFF !important; font-size: 100% !important; font-weight: initial !important; text-transform: inherit !important; border-right-style: solid !important; border-right-width: 2px !important; border-right-color: #D3D3D3 !important; padding-left: 5px !important; padding-right: 5px !important; vertical-align: top !important; }\n",
       " #ynoinvcgfj .gt_row_group_first td { border-top-width: 2px !important; }\n",
       " #ynoinvcgfj .gt_row_group_first th { border-top-width: 2px !important; }\n",
       " #ynoinvcgfj .gt_striped { background-color: rgba(128,128,128,0.05) !important; }\n",
       " #ynoinvcgfj .gt_table_body { border-top-style: solid !important; border-top-width: 2px !important; border-top-color: #D3D3D3 !important; border-bottom-style: solid !important; border-bottom-width: 2px !important; border-bottom-color: #D3D3D3 !important; }\n",
       " #ynoinvcgfj .gt_sourcenotes { color: #333333 !important; background-color: #FFFFFF !important; border-bottom-style: none !important; border-bottom-width: 2px !important; border-bottom-color: #D3D3D3 !important; border-left-style: none !important; border-left-width: 2px !important; border-left-color: #D3D3D3 !important; border-right-style: none !important; border-right-width: 2px !important; border-right-color: #D3D3D3 !important; }\n",
       " #ynoinvcgfj .gt_sourcenote { font-size: 90% !important; padding-top: 4px !important; padding-bottom: 4px !important; padding-left: 5px !important; padding-right: 5px !important; text-align: left !important; }\n",
       " #ynoinvcgfj .gt_left { text-align: left !important; }\n",
       " #ynoinvcgfj .gt_center { text-align: center !important; }\n",
       " #ynoinvcgfj .gt_right { text-align: right !important; font-variant-numeric: tabular-nums !important; }\n",
       " #ynoinvcgfj .gt_font_normal { font-weight: normal !important; }\n",
       " #ynoinvcgfj .gt_font_bold { font-weight: bold !important; }\n",
       " #ynoinvcgfj .gt_font_italic { font-style: italic !important; }\n",
       " #ynoinvcgfj .gt_super { font-size: 65% !important; }\n",
       " #ynoinvcgfj .gt_footnote_marks { font-size: 75% !important; vertical-align: 0.4em !important; position: initial !important; }\n",
       " #ynoinvcgfj .gt_asterisk { font-size: 100% !important; vertical-align: 0 !important; }\n",
       " \n",
       "</style>\n",
       "<table class=\"gt_table\" data-quarto-disable-processing=\"false\" data-quarto-bootstrap=\"false\">\n",
       "<thead>\n",
       "\n",
       "  <tr class=\"gt_heading\">\n",
       "    <td colspan=\"6\" class=\"gt_heading gt_title gt_font_normal\">Correlation Matrix of Weekly (Volume) Market Share</td>\n",
       "  </tr>\n",
       "<tr class=\"gt_col_headings\">\n",
       "  <th class=\"gt_col_heading gt_columns_bottom_border gt_left\" rowspan=\"1\" colspan=\"1\" scope=\"col\" id=\"\"></th>\n",
       "  <th class=\"gt_col_heading gt_columns_bottom_border gt_right\" rowspan=\"1\" colspan=\"1\" scope=\"col\" id=\"Alpha\">Alpha</th>\n",
       "  <th class=\"gt_col_heading gt_columns_bottom_border gt_right\" rowspan=\"1\" colspan=\"1\" scope=\"col\" id=\"Bravo\">Bravo</th>\n",
       "  <th class=\"gt_col_heading gt_columns_bottom_border gt_right\" rowspan=\"1\" colspan=\"1\" scope=\"col\" id=\"Charlie\">Charlie</th>\n",
       "  <th class=\"gt_col_heading gt_columns_bottom_border gt_right\" rowspan=\"1\" colspan=\"1\" scope=\"col\" id=\"Delta\">Delta</th>\n",
       "  <th class=\"gt_col_heading gt_columns_bottom_border gt_right\" rowspan=\"1\" colspan=\"1\" scope=\"col\" id=\"Other\">Other</th>\n",
       "</tr>\n",
       "</thead>\n",
       "<tbody class=\"gt_table_body\">\n",
       "  <tr>\n",
       "    <th style=\"color: #000000; background-color: #808080;\" class=\"gt_row gt_left gt_stub\">Alpha</th>\n",
       "    <td style=\"color: #000000; background-color: #ffa500;\" class=\"gt_row gt_right\">1.00</td>\n",
       "    <td style=\"color: #FFFFFF; background-color: #7c51a8;\" class=\"gt_row gt_right\">−0.85</td>\n",
       "    <td style=\"color: #000000; background-color: #cbb9dc;\" class=\"gt_row gt_right\">−0.34</td>\n",
       "    <td style=\"color: #000000; background-color: #eee9f4;\" class=\"gt_row gt_right\">−0.11</td>\n",
       "    <td style=\"color: #000000; background-color: #e8e1f0;\" class=\"gt_row gt_right\">−0.15</td>\n",
       "  </tr>\n",
       "  <tr>\n",
       "    <th style=\"color: #000000; background-color: #808080;\" class=\"gt_row gt_left gt_stub\">Bravo</th>\n",
       "    <td style=\"color: #FFFFFF; background-color: #7c51a8;\" class=\"gt_row gt_right\">−0.85</td>\n",
       "    <td style=\"color: #000000; background-color: #ffa500;\" class=\"gt_row gt_right\">1.00</td>\n",
       "    <td style=\"color: #000000; background-color: #eee8f3;\" class=\"gt_row gt_right\">−0.11</td>\n",
       "    <td style=\"color: #000000; background-color: #dcd0e7;\" class=\"gt_row gt_right\">−0.23</td>\n",
       "    <td style=\"color: #000000; background-color: #efeaf4;\" class=\"gt_row gt_right\">−0.10</td>\n",
       "  </tr>\n",
       "  <tr>\n",
       "    <th style=\"color: #000000; background-color: #808080;\" class=\"gt_row gt_left gt_stub\">Charlie</th>\n",
       "    <td style=\"color: #000000; background-color: #cbb9dc;\" class=\"gt_row gt_right\">−0.34</td>\n",
       "    <td style=\"color: #000000; background-color: #eee8f3;\" class=\"gt_row gt_right\">−0.11</td>\n",
       "    <td style=\"color: #000000; background-color: #ffa500;\" class=\"gt_row gt_right\">1.00</td>\n",
       "    <td style=\"color: #000000; background-color: #fff3dd;\" class=\"gt_row gt_right\">0.13</td>\n",
       "    <td style=\"color: #000000; background-color: #ffe9c1;\" class=\"gt_row gt_right\">0.24</td>\n",
       "  </tr>\n",
       "  <tr>\n",
       "    <th style=\"color: #000000; background-color: #808080;\" class=\"gt_row gt_left gt_stub\">Delta</th>\n",
       "    <td style=\"color: #000000; background-color: #eee9f4;\" class=\"gt_row gt_right\">−0.11</td>\n",
       "    <td style=\"color: #000000; background-color: #dcd0e7;\" class=\"gt_row gt_right\">−0.23</td>\n",
       "    <td style=\"color: #000000; background-color: #fff3dd;\" class=\"gt_row gt_right\">0.13</td>\n",
       "    <td style=\"color: #000000; background-color: #ffa500;\" class=\"gt_row gt_right\">1.00</td>\n",
       "    <td style=\"color: #000000; background-color: #ffe3b0;\" class=\"gt_row gt_right\">0.31</td>\n",
       "  </tr>\n",
       "  <tr>\n",
       "    <th style=\"color: #000000; background-color: #808080;\" class=\"gt_row gt_left gt_stub\">Other</th>\n",
       "    <td style=\"color: #000000; background-color: #e8e1f0;\" class=\"gt_row gt_right\">−0.15</td>\n",
       "    <td style=\"color: #000000; background-color: #efeaf4;\" class=\"gt_row gt_right\">−0.10</td>\n",
       "    <td style=\"color: #000000; background-color: #ffe9c1;\" class=\"gt_row gt_right\">0.24</td>\n",
       "    <td style=\"color: #000000; background-color: #ffe3b0;\" class=\"gt_row gt_right\">0.31</td>\n",
       "    <td style=\"color: #000000; background-color: #ffa500;\" class=\"gt_row gt_right\">1.00</td>\n",
       "  </tr>\n",
       "</tbody>\n",
       "\n",
       "\n",
       "</table>\n",
       "\n",
       "</div>\n",
       "        "
      ],
      "text/plain": [
       "GT(_tbl_data=shape: (5, 6)\n",
       "┌───────────┬───────────┬───────────┬───────────┬───────────┬─────────┐\n",
       "│ Alpha     ┆ Bravo     ┆ Charlie   ┆ Delta     ┆ Other     ┆ index   │\n",
       "│ ---       ┆ ---       ┆ ---       ┆ ---       ┆ ---       ┆ ---     │\n",
       "│ f64       ┆ f64       ┆ f64       ┆ f64       ┆ f64       ┆ str     │\n",
       "╞═══════════╪═══════════╪═══════════╪═══════════╪═══════════╪═════════╡\n",
       "│ 1.0       ┆ -0.853061 ┆ -0.34158  ┆ -0.109693 ┆ -0.148193 ┆ Alpha   │\n",
       "│ -0.853061 ┆ 1.0       ┆ -0.114179 ┆ -0.231641 ┆ -0.104983 ┆ Bravo   │\n",
       "│ -0.34158  ┆ -0.114179 ┆ 1.0       ┆ 0.131988  ┆ 0.243434  ┆ Charlie │\n",
       "│ -0.109693 ┆ -0.231641 ┆ 0.131988  ┆ 1.0       ┆ 0.308354  ┆ Delta   │\n",
       "│ -0.148193 ┆ -0.104983 ┆ 0.243434  ┆ 0.308354  ┆ 1.0       ┆ Other   │\n",
       "└───────────┴───────────┴───────────┴───────────┴───────────┴─────────┘, _body=<great_tables._gt_data.Body object at 0x10b608fa0>, _boxhead=Boxhead([ColInfo(var='Alpha', type=<ColInfoTypeEnum.default: 1>, column_label='Alpha', column_align='right', column_width=None), ColInfo(var='Bravo', type=<ColInfoTypeEnum.default: 1>, column_label='Bravo', column_align='right', column_width=None), ColInfo(var='Charlie', type=<ColInfoTypeEnum.default: 1>, column_label='Charlie', column_align='right', column_width=None), ColInfo(var='Delta', type=<ColInfoTypeEnum.default: 1>, column_label='Delta', column_align='right', column_width=None), ColInfo(var='Other', type=<ColInfoTypeEnum.default: 1>, column_label='Other', column_align='right', column_width=None), ColInfo(var='index', type=<ColInfoTypeEnum.stub: 2>, column_label='index', column_align='left', column_width=None)]), _stub=<great_tables._gt_data.Stub object at 0x10e928c90>, _spanners=Spanners([]), _heading=Heading(title='Correlation Matrix of Weekly (Volume) Market Share', subtitle=None, preheader=None), _stubhead=None, _source_notes=[], _footnotes=[], _styles=[StyleInfo(locname=LocBody(columns='Alpha', rows=[0]), grpname=None, colname='Alpha', rownum=0, colnum=None, styles=[CellStyleText(color='#000000', font=None, size=None, align=None, v_align=None, style=None, weight=None, stretch=None, decorate=None, transform=None, whitespace=None), CellStyleFill(color='#ffa500')]), StyleInfo(locname=LocBody(columns='Alpha', rows=[1]), grpname=None, colname='Alpha', rownum=1, colnum=None, styles=[CellStyleText(color='#FFFFFF', font=None, size=None, align=None, v_align=None, style=None, weight=None, stretch=None, decorate=None, transform=None, whitespace=None), CellStyleFill(color='#7c51a8')]), StyleInfo(locname=LocBody(columns='Alpha', rows=[2]), grpname=None, colname='Alpha', rownum=2, colnum=None, styles=[CellStyleText(color='#000000', font=None, size=None, align=None, v_align=None, style=None, weight=None, stretch=None, decorate=None, transform=None, whitespace=None), CellStyleFill(color='#cbb9dc')]), StyleInfo(locname=LocBody(columns='Alpha', rows=[3]), grpname=None, colname='Alpha', rownum=3, colnum=None, styles=[CellStyleText(color='#000000', font=None, size=None, align=None, v_align=None, style=None, weight=None, stretch=None, decorate=None, transform=None, whitespace=None), CellStyleFill(color='#eee9f4')]), StyleInfo(locname=LocBody(columns='Alpha', rows=[4]), grpname=None, colname='Alpha', rownum=4, colnum=None, styles=[CellStyleText(color='#000000', font=None, size=None, align=None, v_align=None, style=None, weight=None, stretch=None, decorate=None, transform=None, whitespace=None), CellStyleFill(color='#e8e1f0')]), StyleInfo(locname=LocBody(columns='Bravo', rows=[0]), grpname=None, colname='Bravo', rownum=0, colnum=None, styles=[CellStyleText(color='#FFFFFF', font=None, size=None, align=None, v_align=None, style=None, weight=None, stretch=None, decorate=None, transform=None, whitespace=None), CellStyleFill(color='#7c51a8')]), StyleInfo(locname=LocBody(columns='Bravo', rows=[1]), grpname=None, colname='Bravo', rownum=1, colnum=None, styles=[CellStyleText(color='#000000', font=None, size=None, align=None, v_align=None, style=None, weight=None, stretch=None, decorate=None, transform=None, whitespace=None), CellStyleFill(color='#ffa500')]), StyleInfo(locname=LocBody(columns='Bravo', rows=[2]), grpname=None, colname='Bravo', rownum=2, colnum=None, styles=[CellStyleText(color='#000000', font=None, size=None, align=None, v_align=None, style=None, weight=None, stretch=None, decorate=None, transform=None, whitespace=None), CellStyleFill(color='#eee8f3')]), StyleInfo(locname=LocBody(columns='Bravo', rows=[3]), grpname=None, colname='Bravo', rownum=3, colnum=None, styles=[CellStyleText(color='#000000', font=None, size=None, align=None, v_align=None, style=None, weight=None, stretch=None, decorate=None, transform=None, whitespace=None), CellStyleFill(color='#dcd0e7')]), StyleInfo(locname=LocBody(columns='Bravo', rows=[4]), grpname=None, colname='Bravo', rownum=4, colnum=None, styles=[CellStyleText(color='#000000', font=None, size=None, align=None, v_align=None, style=None, weight=None, stretch=None, decorate=None, transform=None, whitespace=None), CellStyleFill(color='#efeaf4')]), StyleInfo(locname=LocBody(columns='Charlie', rows=[0]), grpname=None, colname='Charlie', rownum=0, colnum=None, styles=[CellStyleText(color='#000000', font=None, size=None, align=None, v_align=None, style=None, weight=None, stretch=None, decorate=None, transform=None, whitespace=None), CellStyleFill(color='#cbb9dc')]), StyleInfo(locname=LocBody(columns='Charlie', rows=[1]), grpname=None, colname='Charlie', rownum=1, colnum=None, styles=[CellStyleText(color='#000000', font=None, size=None, align=None, v_align=None, style=None, weight=None, stretch=None, decorate=None, transform=None, whitespace=None), CellStyleFill(color='#eee8f3')]), StyleInfo(locname=LocBody(columns='Charlie', rows=[2]), grpname=None, colname='Charlie', rownum=2, colnum=None, styles=[CellStyleText(color='#000000', font=None, size=None, align=None, v_align=None, style=None, weight=None, stretch=None, decorate=None, transform=None, whitespace=None), CellStyleFill(color='#ffa500')]), StyleInfo(locname=LocBody(columns='Charlie', rows=[3]), grpname=None, colname='Charlie', rownum=3, colnum=None, styles=[CellStyleText(color='#000000', font=None, size=None, align=None, v_align=None, style=None, weight=None, stretch=None, decorate=None, transform=None, whitespace=None), CellStyleFill(color='#fff3dd')]), StyleInfo(locname=LocBody(columns='Charlie', rows=[4]), grpname=None, colname='Charlie', rownum=4, colnum=None, styles=[CellStyleText(color='#000000', font=None, size=None, align=None, v_align=None, style=None, weight=None, stretch=None, decorate=None, transform=None, whitespace=None), CellStyleFill(color='#ffe9c1')]), StyleInfo(locname=LocBody(columns='Delta', rows=[0]), grpname=None, colname='Delta', rownum=0, colnum=None, styles=[CellStyleText(color='#000000', font=None, size=None, align=None, v_align=None, style=None, weight=None, stretch=None, decorate=None, transform=None, whitespace=None), CellStyleFill(color='#eee9f4')]), StyleInfo(locname=LocBody(columns='Delta', rows=[1]), grpname=None, colname='Delta', rownum=1, colnum=None, styles=[CellStyleText(color='#000000', font=None, size=None, align=None, v_align=None, style=None, weight=None, stretch=None, decorate=None, transform=None, whitespace=None), CellStyleFill(color='#dcd0e7')]), StyleInfo(locname=LocBody(columns='Delta', rows=[2]), grpname=None, colname='Delta', rownum=2, colnum=None, styles=[CellStyleText(color='#000000', font=None, size=None, align=None, v_align=None, style=None, weight=None, stretch=None, decorate=None, transform=None, whitespace=None), CellStyleFill(color='#fff3dd')]), StyleInfo(locname=LocBody(columns='Delta', rows=[3]), grpname=None, colname='Delta', rownum=3, colnum=None, styles=[CellStyleText(color='#000000', font=None, size=None, align=None, v_align=None, style=None, weight=None, stretch=None, decorate=None, transform=None, whitespace=None), CellStyleFill(color='#ffa500')]), StyleInfo(locname=LocBody(columns='Delta', rows=[4]), grpname=None, colname='Delta', rownum=4, colnum=None, styles=[CellStyleText(color='#000000', font=None, size=None, align=None, v_align=None, style=None, weight=None, stretch=None, decorate=None, transform=None, whitespace=None), CellStyleFill(color='#ffe3b0')]), StyleInfo(locname=LocBody(columns='Other', rows=[0]), grpname=None, colname='Other', rownum=0, colnum=None, styles=[CellStyleText(color='#000000', font=None, size=None, align=None, v_align=None, style=None, weight=None, stretch=None, decorate=None, transform=None, whitespace=None), CellStyleFill(color='#e8e1f0')]), StyleInfo(locname=LocBody(columns='Other', rows=[1]), grpname=None, colname='Other', rownum=1, colnum=None, styles=[CellStyleText(color='#000000', font=None, size=None, align=None, v_align=None, style=None, weight=None, stretch=None, decorate=None, transform=None, whitespace=None), CellStyleFill(color='#efeaf4')]), StyleInfo(locname=LocBody(columns='Other', rows=[2]), grpname=None, colname='Other', rownum=2, colnum=None, styles=[CellStyleText(color='#000000', font=None, size=None, align=None, v_align=None, style=None, weight=None, stretch=None, decorate=None, transform=None, whitespace=None), CellStyleFill(color='#ffe9c1')]), StyleInfo(locname=LocBody(columns='Other', rows=[3]), grpname=None, colname='Other', rownum=3, colnum=None, styles=[CellStyleText(color='#000000', font=None, size=None, align=None, v_align=None, style=None, weight=None, stretch=None, decorate=None, transform=None, whitespace=None), CellStyleFill(color='#ffe3b0')]), StyleInfo(locname=LocBody(columns='Other', rows=[4]), grpname=None, colname='Other', rownum=4, colnum=None, styles=[CellStyleText(color='#000000', font=None, size=None, align=None, v_align=None, style=None, weight=None, stretch=None, decorate=None, transform=None, whitespace=None), CellStyleFill(color='#ffa500')]), StyleInfo(locname=LocBody(columns='index', rows=[0]), grpname=None, colname='index', rownum=0, colnum=None, styles=[CellStyleText(color='#000000', font=None, size=None, align=None, v_align=None, style=None, weight=None, stretch=None, decorate=None, transform=None, whitespace=None), CellStyleFill(color='#808080')]), StyleInfo(locname=LocBody(columns='index', rows=[1]), grpname=None, colname='index', rownum=1, colnum=None, styles=[CellStyleText(color='#000000', font=None, size=None, align=None, v_align=None, style=None, weight=None, stretch=None, decorate=None, transform=None, whitespace=None), CellStyleFill(color='#808080')]), StyleInfo(locname=LocBody(columns='index', rows=[2]), grpname=None, colname='index', rownum=2, colnum=None, styles=[CellStyleText(color='#000000', font=None, size=None, align=None, v_align=None, style=None, weight=None, stretch=None, decorate=None, transform=None, whitespace=None), CellStyleFill(color='#808080')]), StyleInfo(locname=LocBody(columns='index', rows=[3]), grpname=None, colname='index', rownum=3, colnum=None, styles=[CellStyleText(color='#000000', font=None, size=None, align=None, v_align=None, style=None, weight=None, stretch=None, decorate=None, transform=None, whitespace=None), CellStyleFill(color='#808080')]), StyleInfo(locname=LocBody(columns='index', rows=[4]), grpname=None, colname='index', rownum=4, colnum=None, styles=[CellStyleText(color='#000000', font=None, size=None, align=None, v_align=None, style=None, weight=None, stretch=None, decorate=None, transform=None, whitespace=None), CellStyleFill(color='#808080')])], _locale=<great_tables._gt_data.Locale object at 0x10e929010>, _formats=[<great_tables._gt_data.FormatInfo object at 0x10df31190>], _substitutions=[], _options=Options(table_id=OptionsInfo(scss=False, category='table', type='value', value=None), table_caption=OptionsInfo(scss=False, category='table', type='value', value=None), table_width=OptionsInfo(scss=True, category='table', type='px', value='auto'), table_layout=OptionsInfo(scss=True, category='table', type='value', value='fixed'), table_margin_left=OptionsInfo(scss=True, category='table', type='px', value='auto'), table_margin_right=OptionsInfo(scss=True, category='table', type='px', value='auto'), table_background_color=OptionsInfo(scss=True, category='table', type='value', value='#FFFFFF'), table_additional_css=OptionsInfo(scss=False, category='table', type='values', value=[]), table_font_names=OptionsInfo(scss=False, category='table', type='values', value=['-apple-system', 'BlinkMacSystemFont', 'Segoe UI', 'Roboto', 'Oxygen', 'Ubuntu', 'Cantarell', 'Helvetica Neue', 'Fira Sans', 'Droid Sans', 'Arial', 'sans-serif']), table_font_size=OptionsInfo(scss=True, category='table', type='px', value='16px'), table_font_weight=OptionsInfo(scss=True, category='table', type='value', value='normal'), table_font_style=OptionsInfo(scss=True, category='table', type='value', value='normal'), table_font_color=OptionsInfo(scss=True, category='table', type='value', value='#333333'), table_font_color_light=OptionsInfo(scss=True, category='table', type='value', value='#FFFFFF'), table_border_top_include=OptionsInfo(scss=False, category='table', type='boolean', value=True), table_border_top_style=OptionsInfo(scss=True, category='table', type='value', value='solid'), table_border_top_width=OptionsInfo(scss=True, category='table', type='px', value='2px'), table_border_top_color=OptionsInfo(scss=True, category='table', type='value', value='#A8A8A8'), table_border_right_style=OptionsInfo(scss=True, category='table', type='value', value='none'), table_border_right_width=OptionsInfo(scss=True, category='table', type='px', value='2px'), table_border_right_color=OptionsInfo(scss=True, category='table', type='value', value='#D3D3D3'), table_border_bottom_include=OptionsInfo(scss=False, category='table', type='boolean', value=True), table_border_bottom_style=OptionsInfo(scss=True, category='table', type='value', value='solid'), table_border_bottom_width=OptionsInfo(scss=True, category='table', type='px', value='2px'), table_border_bottom_color=OptionsInfo(scss=True, category='table', type='value', value='#A8A8A8'), table_border_left_style=OptionsInfo(scss=True, category='table', type='value', value='none'), table_border_left_width=OptionsInfo(scss=True, category='table', type='px', value='2px'), table_border_left_color=OptionsInfo(scss=True, category='table', type='value', value='#D3D3D3'), heading_background_color=OptionsInfo(scss=True, category='heading', type='value', value=None), heading_align=OptionsInfo(scss=True, category='heading', type='value', value='center'), heading_title_font_size=OptionsInfo(scss=True, category='heading', type='px', value='125%'), heading_title_font_weight=OptionsInfo(scss=True, category='heading', type='value', value='initial'), heading_subtitle_font_size=OptionsInfo(scss=True, category='heading', type='px', value='85%'), heading_subtitle_font_weight=OptionsInfo(scss=True, category='heading', type='value', value='initial'), heading_padding=OptionsInfo(scss=True, category='heading', type='px', value='4px'), heading_padding_horizontal=OptionsInfo(scss=True, category='heading', type='px', value='5px'), heading_border_bottom_style=OptionsInfo(scss=True, category='heading', type='value', value='solid'), heading_border_bottom_width=OptionsInfo(scss=True, category='heading', type='px', value='2px'), heading_border_bottom_color=OptionsInfo(scss=True, category='heading', type='value', value='#D3D3D3'), heading_border_lr_style=OptionsInfo(scss=True, category='heading', type='value', value='none'), heading_border_lr_width=OptionsInfo(scss=True, category='heading', type='px', value='1px'), heading_border_lr_color=OptionsInfo(scss=True, category='heading', type='value', value='#D3D3D3'), column_labels_background_color=OptionsInfo(scss=True, category='column_labels', type='value', value=None), column_labels_font_size=OptionsInfo(scss=True, category='column_labels', type='px', value='100%'), column_labels_font_weight=OptionsInfo(scss=True, category='column_labels', type='value', value='normal'), column_labels_text_transform=OptionsInfo(scss=True, category='column_labels', type='value', value='inherit'), column_labels_padding=OptionsInfo(scss=True, category='column_labels', type='px', value='5px'), column_labels_padding_horizontal=OptionsInfo(scss=True, category='column_labels', type='px', value='5px'), column_labels_vlines_style=OptionsInfo(scss=True, category='table_body', type='value', value='none'), column_labels_vlines_width=OptionsInfo(scss=True, category='table_body', type='px', value='1px'), column_labels_vlines_color=OptionsInfo(scss=True, category='table_body', type='value', value='#D3D3D3'), column_labels_border_top_style=OptionsInfo(scss=True, category='column_labels', type='value', value='solid'), column_labels_border_top_width=OptionsInfo(scss=True, category='column_labels', type='px', value='2px'), column_labels_border_top_color=OptionsInfo(scss=True, category='column_labels', type='value', value='#D3D3D3'), column_labels_border_bottom_style=OptionsInfo(scss=True, category='column_labels', type='value', value='solid'), column_labels_border_bottom_width=OptionsInfo(scss=True, category='column_labels', type='px', value='2px'), column_labels_border_bottom_color=OptionsInfo(scss=True, category='column_labels', type='value', value='#D3D3D3'), column_labels_border_lr_style=OptionsInfo(scss=True, category='column_labels', type='value', value='none'), column_labels_border_lr_width=OptionsInfo(scss=True, category='column_labels', type='px', value='1px'), column_labels_border_lr_color=OptionsInfo(scss=True, category='column_labels', type='value', value='#D3D3D3'), column_labels_hidden=OptionsInfo(scss=False, category='column_labels', type='boolean', value=False), row_group_background_color=OptionsInfo(scss=True, category='row_group', type='value', value=None), row_group_font_size=OptionsInfo(scss=True, category='row_group', type='px', value='100%'), row_group_font_weight=OptionsInfo(scss=True, category='row_group', type='value', value='initial'), row_group_text_transform=OptionsInfo(scss=True, category='row_group', type='value', value='inherit'), row_group_padding=OptionsInfo(scss=True, category='row_group', type='px', value='8px'), row_group_padding_horizontal=OptionsInfo(scss=True, category='row_group', type='px', value='5px'), row_group_border_top_style=OptionsInfo(scss=True, category='row_group', type='value', value='solid'), row_group_border_top_width=OptionsInfo(scss=True, category='row_group', type='px', value='2px'), row_group_border_top_color=OptionsInfo(scss=True, category='row_group', type='value', value='#D3D3D3'), row_group_border_right_style=OptionsInfo(scss=True, category='row_group', type='value', value='none'), row_group_border_right_width=OptionsInfo(scss=True, category='row_group', type='px', value='1px'), row_group_border_right_color=OptionsInfo(scss=True, category='row_group', type='value', value='#D3D3D3'), row_group_border_bottom_style=OptionsInfo(scss=True, category='row_group', type='value', value='solid'), row_group_border_bottom_width=OptionsInfo(scss=True, category='row_group', type='px', value='2px'), row_group_border_bottom_color=OptionsInfo(scss=True, category='row_group', type='value', value='#D3D3D3'), row_group_border_left_style=OptionsInfo(scss=True, category='row_group', type='value', value='none'), row_group_border_left_width=OptionsInfo(scss=True, category='row_group', type='px', value='1px'), row_group_border_left_color=OptionsInfo(scss=True, category='row_group', type='value', value='#D3D3D3'), row_group_as_column=OptionsInfo(scss=False, category='row_group', type='boolean', value=False), table_body_hlines_style=OptionsInfo(scss=True, category='table_body', type='value', value='solid'), table_body_hlines_width=OptionsInfo(scss=True, category='table_body', type='px', value='1px'), table_body_hlines_color=OptionsInfo(scss=True, category='table_body', type='value', value='#D3D3D3'), table_body_vlines_style=OptionsInfo(scss=True, category='table_body', type='value', value='none'), table_body_vlines_width=OptionsInfo(scss=True, category='table_body', type='px', value='1px'), table_body_vlines_color=OptionsInfo(scss=True, category='table_body', type='value', value='#D3D3D3'), table_body_border_top_style=OptionsInfo(scss=True, category='table_body', type='value', value='solid'), table_body_border_top_width=OptionsInfo(scss=True, category='table_body', type='px', value='2px'), table_body_border_top_color=OptionsInfo(scss=True, category='table_body', type='value', value='#D3D3D3'), table_body_border_bottom_style=OptionsInfo(scss=True, category='table_body', type='value', value='solid'), table_body_border_bottom_width=OptionsInfo(scss=True, category='table_body', type='px', value='2px'), table_body_border_bottom_color=OptionsInfo(scss=True, category='table_body', type='value', value='#D3D3D3'), data_row_padding=OptionsInfo(scss=True, category='data_row', type='px', value='8px'), data_row_padding_horizontal=OptionsInfo(scss=True, category='data_row', type='px', value='5px'), stub_background_color=OptionsInfo(scss=True, category='stub', type='value', value=None), stub_font_size=OptionsInfo(scss=True, category='stub', type='px', value='100%'), stub_font_weight=OptionsInfo(scss=True, category='stub', type='value', value='initial'), stub_text_transform=OptionsInfo(scss=True, category='stub', type='value', value='inherit'), stub_border_style=OptionsInfo(scss=True, category='stub', type='value', value='solid'), stub_border_width=OptionsInfo(scss=True, category='stub', type='px', value='2px'), stub_border_color=OptionsInfo(scss=True, category='stub', type='value', value='#D3D3D3'), stub_row_group_background_color=OptionsInfo(scss=True, category='stub', type='value', value=None), stub_row_group_font_size=OptionsInfo(scss=True, category='stub', type='px', value='100%'), stub_row_group_font_weight=OptionsInfo(scss=True, category='stub', type='value', value='initial'), stub_row_group_text_transform=OptionsInfo(scss=True, category='stub', type='value', value='inherit'), stub_row_group_border_style=OptionsInfo(scss=True, category='stub', type='value', value='solid'), stub_row_group_border_width=OptionsInfo(scss=True, category='stub', type='px', value='2px'), stub_row_group_border_color=OptionsInfo(scss=True, category='stub', type='value', value='#D3D3D3'), source_notes_padding=OptionsInfo(scss=True, category='source_notes', type='px', value='4px'), source_notes_padding_horizontal=OptionsInfo(scss=True, category='source_notes', type='px', value='5px'), source_notes_background_color=OptionsInfo(scss=True, category='source_notes', type='value', value=None), source_notes_font_size=OptionsInfo(scss=True, category='source_notes', type='px', value='90%'), source_notes_border_bottom_style=OptionsInfo(scss=True, category='source_notes', type='value', value='none'), source_notes_border_bottom_width=OptionsInfo(scss=True, category='source_notes', type='px', value='2px'), source_notes_border_bottom_color=OptionsInfo(scss=True, category='source_notes', type='value', value='#D3D3D3'), source_notes_border_lr_style=OptionsInfo(scss=True, category='source_notes', type='value', value='none'), source_notes_border_lr_width=OptionsInfo(scss=True, category='source_notes', type='px', value='2px'), source_notes_border_lr_color=OptionsInfo(scss=True, category='source_notes', type='value', value='#D3D3D3'), source_notes_multiline=OptionsInfo(scss=False, category='source_notes', type='boolean', value=True), source_notes_sep=OptionsInfo(scss=False, category='source_notes', type='value', value=' '), row_striping_background_color=OptionsInfo(scss=True, category='row', type='value', value='rgba(128,128,128,0.05)'), row_striping_include_stub=OptionsInfo(scss=False, category='row', type='boolean', value=False), row_striping_include_table_body=OptionsInfo(scss=False, category='row', type='boolean', value=False), container_width=OptionsInfo(scss=False, category='container', type='px', value='auto'), container_height=OptionsInfo(scss=False, category='container', type='px', value='auto'), container_padding_x=OptionsInfo(scss=False, category='container', type='px', value='0px'), container_padding_y=OptionsInfo(scss=False, category='container', type='px', value='10px'), container_overflow_x=OptionsInfo(scss=False, category='container', type='overflow', value='auto'), container_overflow_y=OptionsInfo(scss=False, category='container', type='overflow', value='auto'), quarto_disable_processing=OptionsInfo(scss=False, category='quarto', type='logical', value=False), quarto_use_bootstrap=OptionsInfo(scss=False, category='quarto', type='logical', value=False)), _has_built=False)"
      ]
     },
     "execution_count": 57,
     "metadata": {},
     "output_type": "execute_result"
    }
   ],
   "source": [
    "corr_matrix = (\n",
    "    pct_volume.select(\n",
    "        pl.col('*').exclude('week')  # Exclude 'week' column\n",
    "    )\n",
    "    .corr()  # Compute the correlation matrix\n",
    "    .with_columns(\n",
    "        pl.Series(pct_volume.columns[1:]).alias(\"index\")\n",
    "    )\n",
    ")\n",
    "\n",
    "(\n",
    "    GT(corr_matrix, rowname_col='index')\n",
    "    .tab_header(title=\"Correlation Matrix of Weekly (Volume) Market Share\")\n",
    "    .fmt_number(columns=['Alpha', 'Bravo', 'Charlie', 'Delta', 'Other'])\n",
    "    .data_color(\n",
    "        domain=[-1, 1],\n",
    "        palette=[\"rebeccapurple\", \"white\", 'orange']\n",
    "    )\n",
    ")"
   ]
  },
  {
   "cell_type": "markdown",
   "metadata": {},
   "source": [
    "#### Annual Sales"
   ]
  },
  {
   "cell_type": "code",
   "execution_count": 58,
   "metadata": {},
   "outputs": [],
   "source": [
    "# Annual sales by brand\n",
    "annual_sales = (\n",
    "    grocery_spend_brand\n",
    "    .select(\n",
    "        ['week', 'Weekly Spend', 'brand']\n",
    "    )\n",
    "    .with_columns(\n",
    "        (pl.col(\"week\") / 52).ceil().cast(pl.Int32).alias('year')\n",
    "    )\n",
    "    .group_by(['year', 'brand'])\n",
    "    .agg(\n",
    "        pl.col(\"Weekly Spend\").sum().cast(pl.Float64).alias('Yearly Sales')\n",
    "    )\n",
    "    .sort('year')\n",
    ")"
   ]
  },
  {
   "cell_type": "code",
   "execution_count": 59,
   "metadata": {},
   "outputs": [
    {
     "data": {
      "text/html": [
       "<div id=\"hsvjqhpogl\" style=\"padding-left:0px;padding-right:0px;padding-top:10px;padding-bottom:10px;overflow-x:auto;overflow-y:auto;width:auto;height:auto;\">\n",
       "<style>\n",
       "#hsvjqhpogl table {\n",
       "          font-family: -apple-system, BlinkMacSystemFont, 'Segoe UI', Roboto, Oxygen, Ubuntu, Cantarell, 'Helvetica Neue', 'Fira Sans', 'Droid Sans', Arial, sans-serif;\n",
       "          -webkit-font-smoothing: antialiased;\n",
       "          -moz-osx-font-smoothing: grayscale;\n",
       "        }\n",
       "\n",
       "#hsvjqhpogl thead, tbody, tfoot, tr, td, th { border-style: none !important; }\n",
       " tr { background-color: transparent !important; }\n",
       "#hsvjqhpogl p { margin: 0 !important; padding: 0 !important; }\n",
       " #hsvjqhpogl .gt_table { display: table !important; border-collapse: collapse !important; line-height: normal !important; margin-left: auto !important; margin-right: auto !important; color: #333333 !important; font-size: 16px !important; font-weight: normal !important; font-style: normal !important; background-color: #FFFFFF !important; width: auto !important; border-top-style: solid !important; border-top-width: 2px !important; border-top-color: #A8A8A8 !important; border-right-style: none !important; border-right-width: 2px !important; border-right-color: #D3D3D3 !important; border-bottom-style: solid !important; border-bottom-width: 2px !important; border-bottom-color: #A8A8A8 !important; border-left-style: none !important; border-left-width: 2px !important; border-left-color: #D3D3D3 !important; }\n",
       " #hsvjqhpogl .gt_caption { padding-top: 4px !important; padding-bottom: 4px !important; }\n",
       " #hsvjqhpogl .gt_title { color: #333333 !important; font-size: 125% !important; font-weight: initial !important; padding-top: 4px !important; padding-bottom: 4px !important; padding-left: 5px !important; padding-right: 5px !important; border-bottom-color: #FFFFFF !important; border-bottom-width: 0 !important; }\n",
       " #hsvjqhpogl .gt_subtitle { color: #333333 !important; font-size: 85% !important; font-weight: initial !important; padding-top: 3px !important; padding-bottom: 5px !important; padding-left: 5px !important; padding-right: 5px !important; border-top-color: #FFFFFF !important; border-top-width: 0 !important; }\n",
       " #hsvjqhpogl .gt_heading { background-color: #FFFFFF !important; text-align: center !important; border-bottom-color: #FFFFFF !important; border-left-style: none !important; border-left-width: 1px !important; border-left-color: #D3D3D3 !important; border-right-style: none !important; border-right-width: 1px !important; border-right-color: #D3D3D3 !important; }\n",
       " #hsvjqhpogl .gt_bottom_border { border-bottom-style: solid !important; border-bottom-width: 2px !important; border-bottom-color: #D3D3D3 !important; }\n",
       " #hsvjqhpogl .gt_col_headings { border-top-style: solid !important; border-top-width: 2px !important; border-top-color: #D3D3D3 !important; border-bottom-style: solid !important; border-bottom-width: 2px !important; border-bottom-color: #D3D3D3 !important; border-left-style: none !important; border-left-width: 1px !important; border-left-color: #D3D3D3 !important; border-right-style: none !important; border-right-width: 1px !important; border-right-color: #D3D3D3 !important; }\n",
       " #hsvjqhpogl .gt_col_heading { color: #333333 !important; background-color: #FFFFFF !important; font-size: 100% !important; font-weight: normal !important; text-transform: inherit !important; border-left-style: none !important; border-left-width: 1px !important; border-left-color: #D3D3D3 !important; border-right-style: none !important; border-right-width: 1px !important; border-right-color: #D3D3D3 !important; vertical-align: bottom !important; padding-top: 5px !important; padding-bottom: 5px !important; padding-left: 5px !important; padding-right: 5px !important; overflow-x: hidden !important; }\n",
       " #hsvjqhpogl .gt_column_spanner_outer { color: #333333 !important; background-color: #FFFFFF !important; font-size: 100% !important; font-weight: normal !important; text-transform: inherit !important; padding-top: 0 !important; padding-bottom: 0 !important; padding-left: 4px !important; padding-right: 4px !important; }\n",
       " #hsvjqhpogl .gt_column_spanner_outer:first-child { padding-left: 0 !important; }\n",
       " #hsvjqhpogl .gt_column_spanner_outer:last-child { padding-right: 0 !important; }\n",
       " #hsvjqhpogl .gt_column_spanner { border-bottom-style: solid !important; border-bottom-width: 2px !important; border-bottom-color: #D3D3D3 !important; vertical-align: bottom !important; padding-top: 5px !important; padding-bottom: 5px !important; overflow-x: hidden !important; display: inline-block !important; width: 100% !important; }\n",
       " #hsvjqhpogl .gt_spanner_row { border-bottom-style: hidden !important; }\n",
       " #hsvjqhpogl .gt_group_heading { padding-top: 8px !important; padding-bottom: 8px !important; padding-left: 5px !important; padding-right: 5px !important; color: #333333 !important; background-color: #FFFFFF !important; font-size: 100% !important; font-weight: initial !important; text-transform: inherit !important; border-top-style: solid !important; border-top-width: 2px !important; border-top-color: #D3D3D3 !important; border-bottom-style: solid !important; border-bottom-width: 2px !important; border-bottom-color: #D3D3D3 !important; border-left-style: none !important; border-left-width: 1px !important; border-left-color: #D3D3D3 !important; border-right-style: none !important; border-right-width: 1px !important; border-right-color: #D3D3D3 !important; vertical-align: middle !important; text-align: left !important; }\n",
       " #hsvjqhpogl .gt_empty_group_heading { padding: 0.5px !important; color: #333333 !important; background-color: #FFFFFF !important; font-size: 100% !important; font-weight: initial !important; border-top-style: solid !important; border-top-width: 2px !important; border-top-color: #D3D3D3 !important; border-bottom-style: solid !important; border-bottom-width: 2px !important; border-bottom-color: #D3D3D3 !important; vertical-align: middle !important; }\n",
       " #hsvjqhpogl .gt_from_md> :first-child { margin-top: 0 !important; }\n",
       " #hsvjqhpogl .gt_from_md> :last-child { margin-bottom: 0 !important; }\n",
       " #hsvjqhpogl .gt_row { padding-top: 8px !important; padding-bottom: 8px !important; padding-left: 5px !important; padding-right: 5px !important; margin: 10px !important; border-top-style: solid !important; border-top-width: 1px !important; border-top-color: #D3D3D3 !important; border-left-style: none !important; border-left-width: 1px !important; border-left-color: #D3D3D3 !important; border-right-style: none !important; border-right-width: 1px !important; border-right-color: #D3D3D3 !important; vertical-align: middle !important; overflow-x: hidden !important; }\n",
       " #hsvjqhpogl .gt_stub { color: #333333 !important; background-color: #FFFFFF !important; font-size: 100% !important; font-weight: initial !important; text-transform: inherit !important; border-right-style: solid !important; border-right-width: 2px !important; border-right-color: #D3D3D3 !important; padding-left: 5px !important; padding-right: 5px !important; }\n",
       " #hsvjqhpogl .gt_stub_row_group { color: #333333 !important; background-color: #FFFFFF !important; font-size: 100% !important; font-weight: initial !important; text-transform: inherit !important; border-right-style: solid !important; border-right-width: 2px !important; border-right-color: #D3D3D3 !important; padding-left: 5px !important; padding-right: 5px !important; vertical-align: top !important; }\n",
       " #hsvjqhpogl .gt_row_group_first td { border-top-width: 2px !important; }\n",
       " #hsvjqhpogl .gt_row_group_first th { border-top-width: 2px !important; }\n",
       " #hsvjqhpogl .gt_striped { background-color: rgba(128,128,128,0.05) !important; }\n",
       " #hsvjqhpogl .gt_table_body { border-top-style: solid !important; border-top-width: 2px !important; border-top-color: #D3D3D3 !important; border-bottom-style: solid !important; border-bottom-width: 2px !important; border-bottom-color: #D3D3D3 !important; }\n",
       " #hsvjqhpogl .gt_sourcenotes { color: #333333 !important; background-color: #FFFFFF !important; border-bottom-style: none !important; border-bottom-width: 2px !important; border-bottom-color: #D3D3D3 !important; border-left-style: none !important; border-left-width: 2px !important; border-left-color: #D3D3D3 !important; border-right-style: none !important; border-right-width: 2px !important; border-right-color: #D3D3D3 !important; }\n",
       " #hsvjqhpogl .gt_sourcenote { font-size: 90% !important; padding-top: 4px !important; padding-bottom: 4px !important; padding-left: 5px !important; padding-right: 5px !important; text-align: left !important; }\n",
       " #hsvjqhpogl .gt_left { text-align: left !important; }\n",
       " #hsvjqhpogl .gt_center { text-align: center !important; }\n",
       " #hsvjqhpogl .gt_right { text-align: right !important; font-variant-numeric: tabular-nums !important; }\n",
       " #hsvjqhpogl .gt_font_normal { font-weight: normal !important; }\n",
       " #hsvjqhpogl .gt_font_bold { font-weight: bold !important; }\n",
       " #hsvjqhpogl .gt_font_italic { font-style: italic !important; }\n",
       " #hsvjqhpogl .gt_super { font-size: 65% !important; }\n",
       " #hsvjqhpogl .gt_footnote_marks { font-size: 75% !important; vertical-align: 0.4em !important; position: initial !important; }\n",
       " #hsvjqhpogl .gt_asterisk { font-size: 100% !important; vertical-align: 0 !important; }\n",
       " \n",
       "</style>\n",
       "<table class=\"gt_table\" data-quarto-disable-processing=\"false\" data-quarto-bootstrap=\"false\">\n",
       "<thead>\n",
       "\n",
       "  <tr class=\"gt_heading\">\n",
       "    <td colspan=\"7\" class=\"gt_heading gt_title gt_font_normal\">Annual Sales ($) by Brand</td>\n",
       "  </tr>\n",
       "<tr class=\"gt_col_headings\">\n",
       "  <th class=\"gt_col_heading gt_columns_bottom_border gt_left\" rowspan=\"1\" colspan=\"1\" scope=\"col\" id=\"Year\">Year</th>\n",
       "  <th class=\"gt_col_heading gt_columns_bottom_border gt_right\" rowspan=\"1\" colspan=\"1\" scope=\"col\" id=\"Alpha\">Alpha</th>\n",
       "  <th class=\"gt_col_heading gt_columns_bottom_border gt_right\" rowspan=\"1\" colspan=\"1\" scope=\"col\" id=\"Bravo\">Bravo</th>\n",
       "  <th class=\"gt_col_heading gt_columns_bottom_border gt_right\" rowspan=\"1\" colspan=\"1\" scope=\"col\" id=\"Charlie\">Charlie</th>\n",
       "  <th class=\"gt_col_heading gt_columns_bottom_border gt_right\" rowspan=\"1\" colspan=\"1\" scope=\"col\" id=\"Delta\">Delta</th>\n",
       "  <th class=\"gt_col_heading gt_columns_bottom_border gt_right\" rowspan=\"1\" colspan=\"1\" scope=\"col\" id=\"Other\">Other</th>\n",
       "  <th class=\"gt_col_heading gt_columns_bottom_border gt_right\" rowspan=\"1\" colspan=\"1\" scope=\"col\" id=\"Total\">Total</th>\n",
       "</tr>\n",
       "</thead>\n",
       "<tbody class=\"gt_table_body\">\n",
       "  <tr>\n",
       "    <th style=\"color: #000000; background-color: #808080;\" class=\"gt_row gt_left gt_stub\">1</th>\n",
       "    <td style=\"color: #FFFFFF; background-color: #7041a0;\" class=\"gt_row gt_right\">$33,570.94</td>\n",
       "    <td style=\"color: #FFFFFF; background-color: #865dae;\" class=\"gt_row gt_right\">$28,603.35</td>\n",
       "    <td style=\"color: #000000; background-color: #eae2f1;\" class=\"gt_row gt_right\">$5,120.87</td>\n",
       "    <td style=\"color: #000000; background-color: #f1edf6;\" class=\"gt_row gt_right\">$3,271.51</td>\n",
       "    <td style=\"color: #000000; background-color: #f9f7fb;\" class=\"gt_row gt_right\">$1,535.23</td>\n",
       "    <td class=\"gt_row gt_right\">$72,102.90</td>\n",
       "  </tr>\n",
       "  <tr>\n",
       "    <th style=\"color: #000000; background-color: #808080;\" class=\"gt_row gt_left gt_stub\">2</th>\n",
       "    <td style=\"color: #FFFFFF; background-color: #69379b;\" class=\"gt_row gt_right\">$35,250.75</td>\n",
       "    <td style=\"color: #000000; background-color: #8d67b3;\" class=\"gt_row gt_right\">$26,926.87</td>\n",
       "    <td style=\"color: #000000; background-color: #efe9f4;\" class=\"gt_row gt_right\">$3,922.68</td>\n",
       "    <td style=\"color: #000000; background-color: #f3f0f7;\" class=\"gt_row gt_right\">$2,820.81</td>\n",
       "    <td style=\"color: #000000; background-color: #f8f6fa;\" class=\"gt_row gt_right\">$1,739.82</td>\n",
       "    <td class=\"gt_row gt_right\">$70,662.93</td>\n",
       "  </tr>\n",
       "</tbody>\n",
       "\n",
       "\n",
       "</table>\n",
       "\n",
       "</div>\n",
       "        "
      ],
      "text/plain": [
       "GT(_tbl_data=shape: (2, 7)\n",
       "┌──────┬──────────────┬──────────────┬─────────────┬─────────────┬─────────────┬──────────────┐\n",
       "│ year ┆ Alpha        ┆ Bravo        ┆ Charlie     ┆ Delta       ┆ Other       ┆ Total        │\n",
       "│ ---  ┆ ---          ┆ ---          ┆ ---         ┆ ---         ┆ ---         ┆ ---          │\n",
       "│ i32  ┆ f64          ┆ f64          ┆ f64         ┆ f64         ┆ f64         ┆ f64          │\n",
       "╞══════╪══════════════╪══════════════╪═════════════╪═════════════╪═════════════╪══════════════╡\n",
       "│ 1    ┆ 33570.940269 ┆ 28603.350202 ┆ 5120.870036 ┆ 3271.509991 ┆ 1535.229996 ┆ 72102.900494 │\n",
       "│ 2    ┆ 35250.75023  ┆ 26926.869781 ┆ 3922.68004  ┆ 2820.810008 ┆ 1739.819996 ┆ 70662.930055 │\n",
       "└──────┴──────────────┴──────────────┴─────────────┴─────────────┴─────────────┴──────────────┘, _body=<great_tables._gt_data.Body object at 0x10dece210>, _boxhead=Boxhead([ColInfo(var='year', type=<ColInfoTypeEnum.stub: 2>, column_label='year', column_align='right', column_width=None), ColInfo(var='Alpha', type=<ColInfoTypeEnum.default: 1>, column_label='Alpha', column_align='right', column_width=None), ColInfo(var='Bravo', type=<ColInfoTypeEnum.default: 1>, column_label='Bravo', column_align='right', column_width=None), ColInfo(var='Charlie', type=<ColInfoTypeEnum.default: 1>, column_label='Charlie', column_align='right', column_width=None), ColInfo(var='Delta', type=<ColInfoTypeEnum.default: 1>, column_label='Delta', column_align='right', column_width=None), ColInfo(var='Other', type=<ColInfoTypeEnum.default: 1>, column_label='Other', column_align='right', column_width=None), ColInfo(var='Total', type=<ColInfoTypeEnum.default: 1>, column_label='Total', column_align='right', column_width=None)]), _stub=<great_tables._gt_data.Stub object at 0x10e958ae0>, _spanners=Spanners([]), _heading=Heading(title='Annual Sales ($) by Brand', subtitle=None, preheader=None), _stubhead='Year', _source_notes=[], _footnotes=[], _styles=[StyleInfo(locname=LocBody(columns='year', rows=[0]), grpname=None, colname='year', rownum=0, colnum=None, styles=[CellStyleText(color='#000000', font=None, size=None, align=None, v_align=None, style=None, weight=None, stretch=None, decorate=None, transform=None, whitespace=None), CellStyleFill(color='#808080')]), StyleInfo(locname=LocBody(columns='year', rows=[1]), grpname=None, colname='year', rownum=1, colnum=None, styles=[CellStyleText(color='#000000', font=None, size=None, align=None, v_align=None, style=None, weight=None, stretch=None, decorate=None, transform=None, whitespace=None), CellStyleFill(color='#808080')]), StyleInfo(locname=LocBody(columns='Alpha', rows=[0]), grpname=None, colname='Alpha', rownum=0, colnum=None, styles=[CellStyleText(color='#FFFFFF', font=None, size=None, align=None, v_align=None, style=None, weight=None, stretch=None, decorate=None, transform=None, whitespace=None), CellStyleFill(color='#7041a0')]), StyleInfo(locname=LocBody(columns='Alpha', rows=[1]), grpname=None, colname='Alpha', rownum=1, colnum=None, styles=[CellStyleText(color='#FFFFFF', font=None, size=None, align=None, v_align=None, style=None, weight=None, stretch=None, decorate=None, transform=None, whitespace=None), CellStyleFill(color='#69379b')]), StyleInfo(locname=LocBody(columns='Bravo', rows=[0]), grpname=None, colname='Bravo', rownum=0, colnum=None, styles=[CellStyleText(color='#FFFFFF', font=None, size=None, align=None, v_align=None, style=None, weight=None, stretch=None, decorate=None, transform=None, whitespace=None), CellStyleFill(color='#865dae')]), StyleInfo(locname=LocBody(columns='Bravo', rows=[1]), grpname=None, colname='Bravo', rownum=1, colnum=None, styles=[CellStyleText(color='#000000', font=None, size=None, align=None, v_align=None, style=None, weight=None, stretch=None, decorate=None, transform=None, whitespace=None), CellStyleFill(color='#8d67b3')]), StyleInfo(locname=LocBody(columns='Charlie', rows=[0]), grpname=None, colname='Charlie', rownum=0, colnum=None, styles=[CellStyleText(color='#000000', font=None, size=None, align=None, v_align=None, style=None, weight=None, stretch=None, decorate=None, transform=None, whitespace=None), CellStyleFill(color='#eae2f1')]), StyleInfo(locname=LocBody(columns='Charlie', rows=[1]), grpname=None, colname='Charlie', rownum=1, colnum=None, styles=[CellStyleText(color='#000000', font=None, size=None, align=None, v_align=None, style=None, weight=None, stretch=None, decorate=None, transform=None, whitespace=None), CellStyleFill(color='#efe9f4')]), StyleInfo(locname=LocBody(columns='Delta', rows=[0]), grpname=None, colname='Delta', rownum=0, colnum=None, styles=[CellStyleText(color='#000000', font=None, size=None, align=None, v_align=None, style=None, weight=None, stretch=None, decorate=None, transform=None, whitespace=None), CellStyleFill(color='#f1edf6')]), StyleInfo(locname=LocBody(columns='Delta', rows=[1]), grpname=None, colname='Delta', rownum=1, colnum=None, styles=[CellStyleText(color='#000000', font=None, size=None, align=None, v_align=None, style=None, weight=None, stretch=None, decorate=None, transform=None, whitespace=None), CellStyleFill(color='#f3f0f7')]), StyleInfo(locname=LocBody(columns='Other', rows=[0]), grpname=None, colname='Other', rownum=0, colnum=None, styles=[CellStyleText(color='#000000', font=None, size=None, align=None, v_align=None, style=None, weight=None, stretch=None, decorate=None, transform=None, whitespace=None), CellStyleFill(color='#f9f7fb')]), StyleInfo(locname=LocBody(columns='Other', rows=[1]), grpname=None, colname='Other', rownum=1, colnum=None, styles=[CellStyleText(color='#000000', font=None, size=None, align=None, v_align=None, style=None, weight=None, stretch=None, decorate=None, transform=None, whitespace=None), CellStyleFill(color='#f8f6fa')])], _locale=<great_tables._gt_data.Locale object at 0x10e95b1e0>, _formats=[<great_tables._gt_data.FormatInfo object at 0x10df310d0>], _substitutions=[], _options=Options(table_id=OptionsInfo(scss=False, category='table', type='value', value=None), table_caption=OptionsInfo(scss=False, category='table', type='value', value=None), table_width=OptionsInfo(scss=True, category='table', type='px', value='auto'), table_layout=OptionsInfo(scss=True, category='table', type='value', value='fixed'), table_margin_left=OptionsInfo(scss=True, category='table', type='px', value='auto'), table_margin_right=OptionsInfo(scss=True, category='table', type='px', value='auto'), table_background_color=OptionsInfo(scss=True, category='table', type='value', value='#FFFFFF'), table_additional_css=OptionsInfo(scss=False, category='table', type='values', value=[]), table_font_names=OptionsInfo(scss=False, category='table', type='values', value=['-apple-system', 'BlinkMacSystemFont', 'Segoe UI', 'Roboto', 'Oxygen', 'Ubuntu', 'Cantarell', 'Helvetica Neue', 'Fira Sans', 'Droid Sans', 'Arial', 'sans-serif']), table_font_size=OptionsInfo(scss=True, category='table', type='px', value='16px'), table_font_weight=OptionsInfo(scss=True, category='table', type='value', value='normal'), table_font_style=OptionsInfo(scss=True, category='table', type='value', value='normal'), table_font_color=OptionsInfo(scss=True, category='table', type='value', value='#333333'), table_font_color_light=OptionsInfo(scss=True, category='table', type='value', value='#FFFFFF'), table_border_top_include=OptionsInfo(scss=False, category='table', type='boolean', value=True), table_border_top_style=OptionsInfo(scss=True, category='table', type='value', value='solid'), table_border_top_width=OptionsInfo(scss=True, category='table', type='px', value='2px'), table_border_top_color=OptionsInfo(scss=True, category='table', type='value', value='#A8A8A8'), table_border_right_style=OptionsInfo(scss=True, category='table', type='value', value='none'), table_border_right_width=OptionsInfo(scss=True, category='table', type='px', value='2px'), table_border_right_color=OptionsInfo(scss=True, category='table', type='value', value='#D3D3D3'), table_border_bottom_include=OptionsInfo(scss=False, category='table', type='boolean', value=True), table_border_bottom_style=OptionsInfo(scss=True, category='table', type='value', value='solid'), table_border_bottom_width=OptionsInfo(scss=True, category='table', type='px', value='2px'), table_border_bottom_color=OptionsInfo(scss=True, category='table', type='value', value='#A8A8A8'), table_border_left_style=OptionsInfo(scss=True, category='table', type='value', value='none'), table_border_left_width=OptionsInfo(scss=True, category='table', type='px', value='2px'), table_border_left_color=OptionsInfo(scss=True, category='table', type='value', value='#D3D3D3'), heading_background_color=OptionsInfo(scss=True, category='heading', type='value', value=None), heading_align=OptionsInfo(scss=True, category='heading', type='value', value='center'), heading_title_font_size=OptionsInfo(scss=True, category='heading', type='px', value='125%'), heading_title_font_weight=OptionsInfo(scss=True, category='heading', type='value', value='initial'), heading_subtitle_font_size=OptionsInfo(scss=True, category='heading', type='px', value='85%'), heading_subtitle_font_weight=OptionsInfo(scss=True, category='heading', type='value', value='initial'), heading_padding=OptionsInfo(scss=True, category='heading', type='px', value='4px'), heading_padding_horizontal=OptionsInfo(scss=True, category='heading', type='px', value='5px'), heading_border_bottom_style=OptionsInfo(scss=True, category='heading', type='value', value='solid'), heading_border_bottom_width=OptionsInfo(scss=True, category='heading', type='px', value='2px'), heading_border_bottom_color=OptionsInfo(scss=True, category='heading', type='value', value='#D3D3D3'), heading_border_lr_style=OptionsInfo(scss=True, category='heading', type='value', value='none'), heading_border_lr_width=OptionsInfo(scss=True, category='heading', type='px', value='1px'), heading_border_lr_color=OptionsInfo(scss=True, category='heading', type='value', value='#D3D3D3'), column_labels_background_color=OptionsInfo(scss=True, category='column_labels', type='value', value=None), column_labels_font_size=OptionsInfo(scss=True, category='column_labels', type='px', value='100%'), column_labels_font_weight=OptionsInfo(scss=True, category='column_labels', type='value', value='normal'), column_labels_text_transform=OptionsInfo(scss=True, category='column_labels', type='value', value='inherit'), column_labels_padding=OptionsInfo(scss=True, category='column_labels', type='px', value='5px'), column_labels_padding_horizontal=OptionsInfo(scss=True, category='column_labels', type='px', value='5px'), column_labels_vlines_style=OptionsInfo(scss=True, category='table_body', type='value', value='none'), column_labels_vlines_width=OptionsInfo(scss=True, category='table_body', type='px', value='1px'), column_labels_vlines_color=OptionsInfo(scss=True, category='table_body', type='value', value='#D3D3D3'), column_labels_border_top_style=OptionsInfo(scss=True, category='column_labels', type='value', value='solid'), column_labels_border_top_width=OptionsInfo(scss=True, category='column_labels', type='px', value='2px'), column_labels_border_top_color=OptionsInfo(scss=True, category='column_labels', type='value', value='#D3D3D3'), column_labels_border_bottom_style=OptionsInfo(scss=True, category='column_labels', type='value', value='solid'), column_labels_border_bottom_width=OptionsInfo(scss=True, category='column_labels', type='px', value='2px'), column_labels_border_bottom_color=OptionsInfo(scss=True, category='column_labels', type='value', value='#D3D3D3'), column_labels_border_lr_style=OptionsInfo(scss=True, category='column_labels', type='value', value='none'), column_labels_border_lr_width=OptionsInfo(scss=True, category='column_labels', type='px', value='1px'), column_labels_border_lr_color=OptionsInfo(scss=True, category='column_labels', type='value', value='#D3D3D3'), column_labels_hidden=OptionsInfo(scss=False, category='column_labels', type='boolean', value=False), row_group_background_color=OptionsInfo(scss=True, category='row_group', type='value', value=None), row_group_font_size=OptionsInfo(scss=True, category='row_group', type='px', value='100%'), row_group_font_weight=OptionsInfo(scss=True, category='row_group', type='value', value='initial'), row_group_text_transform=OptionsInfo(scss=True, category='row_group', type='value', value='inherit'), row_group_padding=OptionsInfo(scss=True, category='row_group', type='px', value='8px'), row_group_padding_horizontal=OptionsInfo(scss=True, category='row_group', type='px', value='5px'), row_group_border_top_style=OptionsInfo(scss=True, category='row_group', type='value', value='solid'), row_group_border_top_width=OptionsInfo(scss=True, category='row_group', type='px', value='2px'), row_group_border_top_color=OptionsInfo(scss=True, category='row_group', type='value', value='#D3D3D3'), row_group_border_right_style=OptionsInfo(scss=True, category='row_group', type='value', value='none'), row_group_border_right_width=OptionsInfo(scss=True, category='row_group', type='px', value='1px'), row_group_border_right_color=OptionsInfo(scss=True, category='row_group', type='value', value='#D3D3D3'), row_group_border_bottom_style=OptionsInfo(scss=True, category='row_group', type='value', value='solid'), row_group_border_bottom_width=OptionsInfo(scss=True, category='row_group', type='px', value='2px'), row_group_border_bottom_color=OptionsInfo(scss=True, category='row_group', type='value', value='#D3D3D3'), row_group_border_left_style=OptionsInfo(scss=True, category='row_group', type='value', value='none'), row_group_border_left_width=OptionsInfo(scss=True, category='row_group', type='px', value='1px'), row_group_border_left_color=OptionsInfo(scss=True, category='row_group', type='value', value='#D3D3D3'), row_group_as_column=OptionsInfo(scss=False, category='row_group', type='boolean', value=False), table_body_hlines_style=OptionsInfo(scss=True, category='table_body', type='value', value='solid'), table_body_hlines_width=OptionsInfo(scss=True, category='table_body', type='px', value='1px'), table_body_hlines_color=OptionsInfo(scss=True, category='table_body', type='value', value='#D3D3D3'), table_body_vlines_style=OptionsInfo(scss=True, category='table_body', type='value', value='none'), table_body_vlines_width=OptionsInfo(scss=True, category='table_body', type='px', value='1px'), table_body_vlines_color=OptionsInfo(scss=True, category='table_body', type='value', value='#D3D3D3'), table_body_border_top_style=OptionsInfo(scss=True, category='table_body', type='value', value='solid'), table_body_border_top_width=OptionsInfo(scss=True, category='table_body', type='px', value='2px'), table_body_border_top_color=OptionsInfo(scss=True, category='table_body', type='value', value='#D3D3D3'), table_body_border_bottom_style=OptionsInfo(scss=True, category='table_body', type='value', value='solid'), table_body_border_bottom_width=OptionsInfo(scss=True, category='table_body', type='px', value='2px'), table_body_border_bottom_color=OptionsInfo(scss=True, category='table_body', type='value', value='#D3D3D3'), data_row_padding=OptionsInfo(scss=True, category='data_row', type='px', value='8px'), data_row_padding_horizontal=OptionsInfo(scss=True, category='data_row', type='px', value='5px'), stub_background_color=OptionsInfo(scss=True, category='stub', type='value', value=None), stub_font_size=OptionsInfo(scss=True, category='stub', type='px', value='100%'), stub_font_weight=OptionsInfo(scss=True, category='stub', type='value', value='initial'), stub_text_transform=OptionsInfo(scss=True, category='stub', type='value', value='inherit'), stub_border_style=OptionsInfo(scss=True, category='stub', type='value', value='solid'), stub_border_width=OptionsInfo(scss=True, category='stub', type='px', value='2px'), stub_border_color=OptionsInfo(scss=True, category='stub', type='value', value='#D3D3D3'), stub_row_group_background_color=OptionsInfo(scss=True, category='stub', type='value', value=None), stub_row_group_font_size=OptionsInfo(scss=True, category='stub', type='px', value='100%'), stub_row_group_font_weight=OptionsInfo(scss=True, category='stub', type='value', value='initial'), stub_row_group_text_transform=OptionsInfo(scss=True, category='stub', type='value', value='inherit'), stub_row_group_border_style=OptionsInfo(scss=True, category='stub', type='value', value='solid'), stub_row_group_border_width=OptionsInfo(scss=True, category='stub', type='px', value='2px'), stub_row_group_border_color=OptionsInfo(scss=True, category='stub', type='value', value='#D3D3D3'), source_notes_padding=OptionsInfo(scss=True, category='source_notes', type='px', value='4px'), source_notes_padding_horizontal=OptionsInfo(scss=True, category='source_notes', type='px', value='5px'), source_notes_background_color=OptionsInfo(scss=True, category='source_notes', type='value', value=None), source_notes_font_size=OptionsInfo(scss=True, category='source_notes', type='px', value='90%'), source_notes_border_bottom_style=OptionsInfo(scss=True, category='source_notes', type='value', value='none'), source_notes_border_bottom_width=OptionsInfo(scss=True, category='source_notes', type='px', value='2px'), source_notes_border_bottom_color=OptionsInfo(scss=True, category='source_notes', type='value', value='#D3D3D3'), source_notes_border_lr_style=OptionsInfo(scss=True, category='source_notes', type='value', value='none'), source_notes_border_lr_width=OptionsInfo(scss=True, category='source_notes', type='px', value='2px'), source_notes_border_lr_color=OptionsInfo(scss=True, category='source_notes', type='value', value='#D3D3D3'), source_notes_multiline=OptionsInfo(scss=False, category='source_notes', type='boolean', value=True), source_notes_sep=OptionsInfo(scss=False, category='source_notes', type='value', value=' '), row_striping_background_color=OptionsInfo(scss=True, category='row', type='value', value='rgba(128,128,128,0.05)'), row_striping_include_stub=OptionsInfo(scss=False, category='row', type='boolean', value=False), row_striping_include_table_body=OptionsInfo(scss=False, category='row', type='boolean', value=False), container_width=OptionsInfo(scss=False, category='container', type='px', value='auto'), container_height=OptionsInfo(scss=False, category='container', type='px', value='auto'), container_padding_x=OptionsInfo(scss=False, category='container', type='px', value='0px'), container_padding_y=OptionsInfo(scss=False, category='container', type='px', value='10px'), container_overflow_x=OptionsInfo(scss=False, category='container', type='overflow', value='auto'), container_overflow_y=OptionsInfo(scss=False, category='container', type='overflow', value='auto'), quarto_disable_processing=OptionsInfo(scss=False, category='quarto', type='logical', value=False), quarto_use_bootstrap=OptionsInfo(scss=False, category='quarto', type='logical', value=False)), _has_built=False)"
      ]
     },
     "execution_count": 59,
     "metadata": {},
     "output_type": "execute_result"
    }
   ],
   "source": [
    "annual_sales_pivot = annual_sales.collect().pivot(\n",
    "    on='brand',\n",
    "    index='year',\n",
    "    sort_columns=True\n",
    ").with_columns(\n",
    "    pl.sum_horizontal(pl.all()).alias(\"Total\") # add totals column\n",
    ")\n",
    "\n",
    "(\n",
    "    GT(annual_sales_pivot, rowname_col=\"year\")\n",
    "    .tab_header(title=\"Annual Sales ($) by Brand\")\n",
    "    .tab_stubhead(label=\"Year\")\n",
    "    .fmt_currency()\n",
    "    .data_color(\n",
    "        columns=annual_sales_pivot.columns[:-1],\n",
    "        domain=[100, 36_000],\n",
    "        palette=[\"white\", \"rebeccapurple\"]\n",
    "    )    \n",
    ")"
   ]
  },
  {
   "cell_type": "code",
   "execution_count": 60,
   "metadata": {},
   "outputs": [
    {
     "data": {
      "text/html": [
       "<div id=\"rdwazrlgnr\" style=\"padding-left:0px;padding-right:0px;padding-top:10px;padding-bottom:10px;overflow-x:auto;overflow-y:auto;width:auto;height:auto;\">\n",
       "<style>\n",
       "#rdwazrlgnr table {\n",
       "          font-family: -apple-system, BlinkMacSystemFont, 'Segoe UI', Roboto, Oxygen, Ubuntu, Cantarell, 'Helvetica Neue', 'Fira Sans', 'Droid Sans', Arial, sans-serif;\n",
       "          -webkit-font-smoothing: antialiased;\n",
       "          -moz-osx-font-smoothing: grayscale;\n",
       "        }\n",
       "\n",
       "#rdwazrlgnr thead, tbody, tfoot, tr, td, th { border-style: none !important; }\n",
       " tr { background-color: transparent !important; }\n",
       "#rdwazrlgnr p { margin: 0 !important; padding: 0 !important; }\n",
       " #rdwazrlgnr .gt_table { display: table !important; border-collapse: collapse !important; line-height: normal !important; margin-left: auto !important; margin-right: auto !important; color: #333333 !important; font-size: 16px !important; font-weight: normal !important; font-style: normal !important; background-color: #FFFFFF !important; width: auto !important; border-top-style: solid !important; border-top-width: 2px !important; border-top-color: #A8A8A8 !important; border-right-style: none !important; border-right-width: 2px !important; border-right-color: #D3D3D3 !important; border-bottom-style: solid !important; border-bottom-width: 2px !important; border-bottom-color: #A8A8A8 !important; border-left-style: none !important; border-left-width: 2px !important; border-left-color: #D3D3D3 !important; }\n",
       " #rdwazrlgnr .gt_caption { padding-top: 4px !important; padding-bottom: 4px !important; }\n",
       " #rdwazrlgnr .gt_title { color: #333333 !important; font-size: 125% !important; font-weight: initial !important; padding-top: 4px !important; padding-bottom: 4px !important; padding-left: 5px !important; padding-right: 5px !important; border-bottom-color: #FFFFFF !important; border-bottom-width: 0 !important; }\n",
       " #rdwazrlgnr .gt_subtitle { color: #333333 !important; font-size: 85% !important; font-weight: initial !important; padding-top: 3px !important; padding-bottom: 5px !important; padding-left: 5px !important; padding-right: 5px !important; border-top-color: #FFFFFF !important; border-top-width: 0 !important; }\n",
       " #rdwazrlgnr .gt_heading { background-color: #FFFFFF !important; text-align: center !important; border-bottom-color: #FFFFFF !important; border-left-style: none !important; border-left-width: 1px !important; border-left-color: #D3D3D3 !important; border-right-style: none !important; border-right-width: 1px !important; border-right-color: #D3D3D3 !important; }\n",
       " #rdwazrlgnr .gt_bottom_border { border-bottom-style: solid !important; border-bottom-width: 2px !important; border-bottom-color: #D3D3D3 !important; }\n",
       " #rdwazrlgnr .gt_col_headings { border-top-style: solid !important; border-top-width: 2px !important; border-top-color: #D3D3D3 !important; border-bottom-style: solid !important; border-bottom-width: 2px !important; border-bottom-color: #D3D3D3 !important; border-left-style: none !important; border-left-width: 1px !important; border-left-color: #D3D3D3 !important; border-right-style: none !important; border-right-width: 1px !important; border-right-color: #D3D3D3 !important; }\n",
       " #rdwazrlgnr .gt_col_heading { color: #333333 !important; background-color: #FFFFFF !important; font-size: 100% !important; font-weight: normal !important; text-transform: inherit !important; border-left-style: none !important; border-left-width: 1px !important; border-left-color: #D3D3D3 !important; border-right-style: none !important; border-right-width: 1px !important; border-right-color: #D3D3D3 !important; vertical-align: bottom !important; padding-top: 5px !important; padding-bottom: 5px !important; padding-left: 5px !important; padding-right: 5px !important; overflow-x: hidden !important; }\n",
       " #rdwazrlgnr .gt_column_spanner_outer { color: #333333 !important; background-color: #FFFFFF !important; font-size: 100% !important; font-weight: normal !important; text-transform: inherit !important; padding-top: 0 !important; padding-bottom: 0 !important; padding-left: 4px !important; padding-right: 4px !important; }\n",
       " #rdwazrlgnr .gt_column_spanner_outer:first-child { padding-left: 0 !important; }\n",
       " #rdwazrlgnr .gt_column_spanner_outer:last-child { padding-right: 0 !important; }\n",
       " #rdwazrlgnr .gt_column_spanner { border-bottom-style: solid !important; border-bottom-width: 2px !important; border-bottom-color: #D3D3D3 !important; vertical-align: bottom !important; padding-top: 5px !important; padding-bottom: 5px !important; overflow-x: hidden !important; display: inline-block !important; width: 100% !important; }\n",
       " #rdwazrlgnr .gt_spanner_row { border-bottom-style: hidden !important; }\n",
       " #rdwazrlgnr .gt_group_heading { padding-top: 8px !important; padding-bottom: 8px !important; padding-left: 5px !important; padding-right: 5px !important; color: #333333 !important; background-color: #FFFFFF !important; font-size: 100% !important; font-weight: initial !important; text-transform: inherit !important; border-top-style: solid !important; border-top-width: 2px !important; border-top-color: #D3D3D3 !important; border-bottom-style: solid !important; border-bottom-width: 2px !important; border-bottom-color: #D3D3D3 !important; border-left-style: none !important; border-left-width: 1px !important; border-left-color: #D3D3D3 !important; border-right-style: none !important; border-right-width: 1px !important; border-right-color: #D3D3D3 !important; vertical-align: middle !important; text-align: left !important; }\n",
       " #rdwazrlgnr .gt_empty_group_heading { padding: 0.5px !important; color: #333333 !important; background-color: #FFFFFF !important; font-size: 100% !important; font-weight: initial !important; border-top-style: solid !important; border-top-width: 2px !important; border-top-color: #D3D3D3 !important; border-bottom-style: solid !important; border-bottom-width: 2px !important; border-bottom-color: #D3D3D3 !important; vertical-align: middle !important; }\n",
       " #rdwazrlgnr .gt_from_md> :first-child { margin-top: 0 !important; }\n",
       " #rdwazrlgnr .gt_from_md> :last-child { margin-bottom: 0 !important; }\n",
       " #rdwazrlgnr .gt_row { padding-top: 8px !important; padding-bottom: 8px !important; padding-left: 5px !important; padding-right: 5px !important; margin: 10px !important; border-top-style: solid !important; border-top-width: 1px !important; border-top-color: #D3D3D3 !important; border-left-style: none !important; border-left-width: 1px !important; border-left-color: #D3D3D3 !important; border-right-style: none !important; border-right-width: 1px !important; border-right-color: #D3D3D3 !important; vertical-align: middle !important; overflow-x: hidden !important; }\n",
       " #rdwazrlgnr .gt_stub { color: #333333 !important; background-color: #FFFFFF !important; font-size: 100% !important; font-weight: initial !important; text-transform: inherit !important; border-right-style: solid !important; border-right-width: 2px !important; border-right-color: #D3D3D3 !important; padding-left: 5px !important; padding-right: 5px !important; }\n",
       " #rdwazrlgnr .gt_stub_row_group { color: #333333 !important; background-color: #FFFFFF !important; font-size: 100% !important; font-weight: initial !important; text-transform: inherit !important; border-right-style: solid !important; border-right-width: 2px !important; border-right-color: #D3D3D3 !important; padding-left: 5px !important; padding-right: 5px !important; vertical-align: top !important; }\n",
       " #rdwazrlgnr .gt_row_group_first td { border-top-width: 2px !important; }\n",
       " #rdwazrlgnr .gt_row_group_first th { border-top-width: 2px !important; }\n",
       " #rdwazrlgnr .gt_striped { background-color: rgba(128,128,128,0.05) !important; }\n",
       " #rdwazrlgnr .gt_table_body { border-top-style: solid !important; border-top-width: 2px !important; border-top-color: #D3D3D3 !important; border-bottom-style: solid !important; border-bottom-width: 2px !important; border-bottom-color: #D3D3D3 !important; }\n",
       " #rdwazrlgnr .gt_sourcenotes { color: #333333 !important; background-color: #FFFFFF !important; border-bottom-style: none !important; border-bottom-width: 2px !important; border-bottom-color: #D3D3D3 !important; border-left-style: none !important; border-left-width: 2px !important; border-left-color: #D3D3D3 !important; border-right-style: none !important; border-right-width: 2px !important; border-right-color: #D3D3D3 !important; }\n",
       " #rdwazrlgnr .gt_sourcenote { font-size: 90% !important; padding-top: 4px !important; padding-bottom: 4px !important; padding-left: 5px !important; padding-right: 5px !important; text-align: left !important; }\n",
       " #rdwazrlgnr .gt_left { text-align: left !important; }\n",
       " #rdwazrlgnr .gt_center { text-align: center !important; }\n",
       " #rdwazrlgnr .gt_right { text-align: right !important; font-variant-numeric: tabular-nums !important; }\n",
       " #rdwazrlgnr .gt_font_normal { font-weight: normal !important; }\n",
       " #rdwazrlgnr .gt_font_bold { font-weight: bold !important; }\n",
       " #rdwazrlgnr .gt_font_italic { font-style: italic !important; }\n",
       " #rdwazrlgnr .gt_super { font-size: 65% !important; }\n",
       " #rdwazrlgnr .gt_footnote_marks { font-size: 75% !important; vertical-align: 0.4em !important; position: initial !important; }\n",
       " #rdwazrlgnr .gt_asterisk { font-size: 100% !important; vertical-align: 0 !important; }\n",
       " \n",
       "</style>\n",
       "<table class=\"gt_table\" data-quarto-disable-processing=\"false\" data-quarto-bootstrap=\"false\">\n",
       "<thead>\n",
       "\n",
       "  <tr class=\"gt_heading\">\n",
       "    <td colspan=\"2\" class=\"gt_heading gt_title gt_font_normal\">% Change in Annual Sales</td>\n",
       "  </tr>\n",
       "<tr class=\"gt_col_headings\">\n",
       "  <th class=\"gt_col_heading gt_columns_bottom_border gt_left\" rowspan=\"1\" colspan=\"1\" scope=\"col\" id=\"Brands\">Brands</th>\n",
       "  <th class=\"gt_col_heading gt_columns_bottom_border gt_right\" rowspan=\"1\" colspan=\"1\" scope=\"col\" id=\"% Change\">% Change</th>\n",
       "</tr>\n",
       "</thead>\n",
       "<tbody class=\"gt_table_body\">\n",
       "  <tr>\n",
       "    <th style=\"color: #000000; background-color: #808080;\" class=\"gt_row gt_left gt_stub\">Alpha</th>\n",
       "    <td style=\"color: #000000; background-color: #e5ddee;\" class=\"gt_row gt_right\">5.00%</td>\n",
       "  </tr>\n",
       "  <tr>\n",
       "    <th style=\"color: #000000; background-color: #808080;\" class=\"gt_row gt_left gt_stub\">Bravo</th>\n",
       "    <td style=\"color: #000000; background-color: #ffedcd;\" class=\"gt_row gt_right\">−5.86%</td>\n",
       "  </tr>\n",
       "  <tr>\n",
       "    <th style=\"color: #000000; background-color: #808080;\" class=\"gt_row gt_left gt_stub\">Charlie</th>\n",
       "    <td style=\"color: #000000; background-color: #ffb938;\" class=\"gt_row gt_right\">−23.40%</td>\n",
       "  </tr>\n",
       "  <tr>\n",
       "    <th style=\"color: #000000; background-color: #808080;\" class=\"gt_row gt_left gt_stub\">Delta</th>\n",
       "    <td style=\"color: #000000; background-color: #ffd68a;\" class=\"gt_row gt_right\">−13.78%</td>\n",
       "  </tr>\n",
       "  <tr>\n",
       "    <th style=\"color: #000000; background-color: #808080;\" class=\"gt_row gt_left gt_stub\">Other</th>\n",
       "    <td style=\"color: #000000; background-color: #bba4d2;\" class=\"gt_row gt_right\">13.33%</td>\n",
       "  </tr>\n",
       "  <tr>\n",
       "    <th style=\"color: #000000; background-color: #808080;\" class=\"gt_row gt_left gt_stub\">Total</th>\n",
       "    <td style=\"color: #000000; background-color: #fff9ee;\" class=\"gt_row gt_right\">−2.00%</td>\n",
       "  </tr>\n",
       "</tbody>\n",
       "\n",
       "\n",
       "</table>\n",
       "\n",
       "</div>\n",
       "        "
      ],
      "text/plain": [
       "GT(_tbl_data=shape: (6, 3)\n",
       "┌──────┬─────────┬───────────┐\n",
       "│ year ┆ brand   ┆ % Change  │\n",
       "│ ---  ┆ ---     ┆ ---       │\n",
       "│ i32  ┆ str     ┆ f64       │\n",
       "╞══════╪═════════╪═══════════╡\n",
       "│ 2    ┆ Alpha   ┆ 0.050038  │\n",
       "│ 2    ┆ Bravo   ┆ -0.058611 │\n",
       "│ 2    ┆ Charlie ┆ -0.233982 │\n",
       "│ 2    ┆ Delta   ┆ -0.137765 │\n",
       "│ 2    ┆ Other   ┆ 0.133263  │\n",
       "│ 2    ┆ Total   ┆ -0.019971 │\n",
       "└──────┴─────────┴───────────┘, _body=<great_tables._gt_data.Body object at 0x10deda940>, _boxhead=Boxhead([ColInfo(var='year', type=<ColInfoTypeEnum.hidden: 4>, column_label='year', column_align='right', column_width=None), ColInfo(var='brand', type=<ColInfoTypeEnum.stub: 2>, column_label='Y-o-Y % Change', column_align='left', column_width=None), ColInfo(var='% Change', type=<ColInfoTypeEnum.default: 1>, column_label='% Change', column_align='right', column_width=None)]), _stub=<great_tables._gt_data.Stub object at 0x10df30110>, _spanners=Spanners([]), _heading=Heading(title='% Change in Annual Sales', subtitle=None, preheader=None), _stubhead='Brands', _source_notes=[], _footnotes=[], _styles=[StyleInfo(locname=LocBody(columns='year', rows=[0]), grpname=None, colname='year', rownum=0, colnum=None, styles=[CellStyleText(color='#000000', font=None, size=None, align=None, v_align=None, style=None, weight=None, stretch=None, decorate=None, transform=None, whitespace=None), CellStyleFill(color='#808080')]), StyleInfo(locname=LocBody(columns='year', rows=[1]), grpname=None, colname='year', rownum=1, colnum=None, styles=[CellStyleText(color='#000000', font=None, size=None, align=None, v_align=None, style=None, weight=None, stretch=None, decorate=None, transform=None, whitespace=None), CellStyleFill(color='#808080')]), StyleInfo(locname=LocBody(columns='year', rows=[2]), grpname=None, colname='year', rownum=2, colnum=None, styles=[CellStyleText(color='#000000', font=None, size=None, align=None, v_align=None, style=None, weight=None, stretch=None, decorate=None, transform=None, whitespace=None), CellStyleFill(color='#808080')]), StyleInfo(locname=LocBody(columns='year', rows=[3]), grpname=None, colname='year', rownum=3, colnum=None, styles=[CellStyleText(color='#000000', font=None, size=None, align=None, v_align=None, style=None, weight=None, stretch=None, decorate=None, transform=None, whitespace=None), CellStyleFill(color='#808080')]), StyleInfo(locname=LocBody(columns='year', rows=[4]), grpname=None, colname='year', rownum=4, colnum=None, styles=[CellStyleText(color='#000000', font=None, size=None, align=None, v_align=None, style=None, weight=None, stretch=None, decorate=None, transform=None, whitespace=None), CellStyleFill(color='#808080')]), StyleInfo(locname=LocBody(columns='year', rows=[5]), grpname=None, colname='year', rownum=5, colnum=None, styles=[CellStyleText(color='#000000', font=None, size=None, align=None, v_align=None, style=None, weight=None, stretch=None, decorate=None, transform=None, whitespace=None), CellStyleFill(color='#808080')]), StyleInfo(locname=LocBody(columns='brand', rows=[0]), grpname=None, colname='brand', rownum=0, colnum=None, styles=[CellStyleText(color='#000000', font=None, size=None, align=None, v_align=None, style=None, weight=None, stretch=None, decorate=None, transform=None, whitespace=None), CellStyleFill(color='#808080')]), StyleInfo(locname=LocBody(columns='brand', rows=[1]), grpname=None, colname='brand', rownum=1, colnum=None, styles=[CellStyleText(color='#000000', font=None, size=None, align=None, v_align=None, style=None, weight=None, stretch=None, decorate=None, transform=None, whitespace=None), CellStyleFill(color='#808080')]), StyleInfo(locname=LocBody(columns='brand', rows=[2]), grpname=None, colname='brand', rownum=2, colnum=None, styles=[CellStyleText(color='#000000', font=None, size=None, align=None, v_align=None, style=None, weight=None, stretch=None, decorate=None, transform=None, whitespace=None), CellStyleFill(color='#808080')]), StyleInfo(locname=LocBody(columns='brand', rows=[3]), grpname=None, colname='brand', rownum=3, colnum=None, styles=[CellStyleText(color='#000000', font=None, size=None, align=None, v_align=None, style=None, weight=None, stretch=None, decorate=None, transform=None, whitespace=None), CellStyleFill(color='#808080')]), StyleInfo(locname=LocBody(columns='brand', rows=[4]), grpname=None, colname='brand', rownum=4, colnum=None, styles=[CellStyleText(color='#000000', font=None, size=None, align=None, v_align=None, style=None, weight=None, stretch=None, decorate=None, transform=None, whitespace=None), CellStyleFill(color='#808080')]), StyleInfo(locname=LocBody(columns='brand', rows=[5]), grpname=None, colname='brand', rownum=5, colnum=None, styles=[CellStyleText(color='#000000', font=None, size=None, align=None, v_align=None, style=None, weight=None, stretch=None, decorate=None, transform=None, whitespace=None), CellStyleFill(color='#808080')]), StyleInfo(locname=LocBody(columns='% Change', rows=[0]), grpname=None, colname='% Change', rownum=0, colnum=None, styles=[CellStyleText(color='#000000', font=None, size=None, align=None, v_align=None, style=None, weight=None, stretch=None, decorate=None, transform=None, whitespace=None), CellStyleFill(color='#e5ddee')]), StyleInfo(locname=LocBody(columns='% Change', rows=[1]), grpname=None, colname='% Change', rownum=1, colnum=None, styles=[CellStyleText(color='#000000', font=None, size=None, align=None, v_align=None, style=None, weight=None, stretch=None, decorate=None, transform=None, whitespace=None), CellStyleFill(color='#ffedcd')]), StyleInfo(locname=LocBody(columns='% Change', rows=[2]), grpname=None, colname='% Change', rownum=2, colnum=None, styles=[CellStyleText(color='#000000', font=None, size=None, align=None, v_align=None, style=None, weight=None, stretch=None, decorate=None, transform=None, whitespace=None), CellStyleFill(color='#ffb938')]), StyleInfo(locname=LocBody(columns='% Change', rows=[3]), grpname=None, colname='% Change', rownum=3, colnum=None, styles=[CellStyleText(color='#000000', font=None, size=None, align=None, v_align=None, style=None, weight=None, stretch=None, decorate=None, transform=None, whitespace=None), CellStyleFill(color='#ffd68a')]), StyleInfo(locname=LocBody(columns='% Change', rows=[4]), grpname=None, colname='% Change', rownum=4, colnum=None, styles=[CellStyleText(color='#000000', font=None, size=None, align=None, v_align=None, style=None, weight=None, stretch=None, decorate=None, transform=None, whitespace=None), CellStyleFill(color='#bba4d2')]), StyleInfo(locname=LocBody(columns='% Change', rows=[5]), grpname=None, colname='% Change', rownum=5, colnum=None, styles=[CellStyleText(color='#000000', font=None, size=None, align=None, v_align=None, style=None, weight=None, stretch=None, decorate=None, transform=None, whitespace=None), CellStyleFill(color='#fff9ee')])], _locale=<great_tables._gt_data.Locale object at 0x10df30dd0>, _formats=[<great_tables._gt_data.FormatInfo object at 0x10e9a8d60>], _substitutions=[], _options=Options(table_id=OptionsInfo(scss=False, category='table', type='value', value=None), table_caption=OptionsInfo(scss=False, category='table', type='value', value=None), table_width=OptionsInfo(scss=True, category='table', type='px', value='auto'), table_layout=OptionsInfo(scss=True, category='table', type='value', value='fixed'), table_margin_left=OptionsInfo(scss=True, category='table', type='px', value='auto'), table_margin_right=OptionsInfo(scss=True, category='table', type='px', value='auto'), table_background_color=OptionsInfo(scss=True, category='table', type='value', value='#FFFFFF'), table_additional_css=OptionsInfo(scss=False, category='table', type='values', value=[]), table_font_names=OptionsInfo(scss=False, category='table', type='values', value=['-apple-system', 'BlinkMacSystemFont', 'Segoe UI', 'Roboto', 'Oxygen', 'Ubuntu', 'Cantarell', 'Helvetica Neue', 'Fira Sans', 'Droid Sans', 'Arial', 'sans-serif']), table_font_size=OptionsInfo(scss=True, category='table', type='px', value='16px'), table_font_weight=OptionsInfo(scss=True, category='table', type='value', value='normal'), table_font_style=OptionsInfo(scss=True, category='table', type='value', value='normal'), table_font_color=OptionsInfo(scss=True, category='table', type='value', value='#333333'), table_font_color_light=OptionsInfo(scss=True, category='table', type='value', value='#FFFFFF'), table_border_top_include=OptionsInfo(scss=False, category='table', type='boolean', value=True), table_border_top_style=OptionsInfo(scss=True, category='table', type='value', value='solid'), table_border_top_width=OptionsInfo(scss=True, category='table', type='px', value='2px'), table_border_top_color=OptionsInfo(scss=True, category='table', type='value', value='#A8A8A8'), table_border_right_style=OptionsInfo(scss=True, category='table', type='value', value='none'), table_border_right_width=OptionsInfo(scss=True, category='table', type='px', value='2px'), table_border_right_color=OptionsInfo(scss=True, category='table', type='value', value='#D3D3D3'), table_border_bottom_include=OptionsInfo(scss=False, category='table', type='boolean', value=True), table_border_bottom_style=OptionsInfo(scss=True, category='table', type='value', value='solid'), table_border_bottom_width=OptionsInfo(scss=True, category='table', type='px', value='2px'), table_border_bottom_color=OptionsInfo(scss=True, category='table', type='value', value='#A8A8A8'), table_border_left_style=OptionsInfo(scss=True, category='table', type='value', value='none'), table_border_left_width=OptionsInfo(scss=True, category='table', type='px', value='2px'), table_border_left_color=OptionsInfo(scss=True, category='table', type='value', value='#D3D3D3'), heading_background_color=OptionsInfo(scss=True, category='heading', type='value', value=None), heading_align=OptionsInfo(scss=True, category='heading', type='value', value='center'), heading_title_font_size=OptionsInfo(scss=True, category='heading', type='px', value='125%'), heading_title_font_weight=OptionsInfo(scss=True, category='heading', type='value', value='initial'), heading_subtitle_font_size=OptionsInfo(scss=True, category='heading', type='px', value='85%'), heading_subtitle_font_weight=OptionsInfo(scss=True, category='heading', type='value', value='initial'), heading_padding=OptionsInfo(scss=True, category='heading', type='px', value='4px'), heading_padding_horizontal=OptionsInfo(scss=True, category='heading', type='px', value='5px'), heading_border_bottom_style=OptionsInfo(scss=True, category='heading', type='value', value='solid'), heading_border_bottom_width=OptionsInfo(scss=True, category='heading', type='px', value='2px'), heading_border_bottom_color=OptionsInfo(scss=True, category='heading', type='value', value='#D3D3D3'), heading_border_lr_style=OptionsInfo(scss=True, category='heading', type='value', value='none'), heading_border_lr_width=OptionsInfo(scss=True, category='heading', type='px', value='1px'), heading_border_lr_color=OptionsInfo(scss=True, category='heading', type='value', value='#D3D3D3'), column_labels_background_color=OptionsInfo(scss=True, category='column_labels', type='value', value=None), column_labels_font_size=OptionsInfo(scss=True, category='column_labels', type='px', value='100%'), column_labels_font_weight=OptionsInfo(scss=True, category='column_labels', type='value', value='normal'), column_labels_text_transform=OptionsInfo(scss=True, category='column_labels', type='value', value='inherit'), column_labels_padding=OptionsInfo(scss=True, category='column_labels', type='px', value='5px'), column_labels_padding_horizontal=OptionsInfo(scss=True, category='column_labels', type='px', value='5px'), column_labels_vlines_style=OptionsInfo(scss=True, category='table_body', type='value', value='none'), column_labels_vlines_width=OptionsInfo(scss=True, category='table_body', type='px', value='1px'), column_labels_vlines_color=OptionsInfo(scss=True, category='table_body', type='value', value='#D3D3D3'), column_labels_border_top_style=OptionsInfo(scss=True, category='column_labels', type='value', value='solid'), column_labels_border_top_width=OptionsInfo(scss=True, category='column_labels', type='px', value='2px'), column_labels_border_top_color=OptionsInfo(scss=True, category='column_labels', type='value', value='#D3D3D3'), column_labels_border_bottom_style=OptionsInfo(scss=True, category='column_labels', type='value', value='solid'), column_labels_border_bottom_width=OptionsInfo(scss=True, category='column_labels', type='px', value='2px'), column_labels_border_bottom_color=OptionsInfo(scss=True, category='column_labels', type='value', value='#D3D3D3'), column_labels_border_lr_style=OptionsInfo(scss=True, category='column_labels', type='value', value='none'), column_labels_border_lr_width=OptionsInfo(scss=True, category='column_labels', type='px', value='1px'), column_labels_border_lr_color=OptionsInfo(scss=True, category='column_labels', type='value', value='#D3D3D3'), column_labels_hidden=OptionsInfo(scss=False, category='column_labels', type='boolean', value=False), row_group_background_color=OptionsInfo(scss=True, category='row_group', type='value', value=None), row_group_font_size=OptionsInfo(scss=True, category='row_group', type='px', value='100%'), row_group_font_weight=OptionsInfo(scss=True, category='row_group', type='value', value='initial'), row_group_text_transform=OptionsInfo(scss=True, category='row_group', type='value', value='inherit'), row_group_padding=OptionsInfo(scss=True, category='row_group', type='px', value='8px'), row_group_padding_horizontal=OptionsInfo(scss=True, category='row_group', type='px', value='5px'), row_group_border_top_style=OptionsInfo(scss=True, category='row_group', type='value', value='solid'), row_group_border_top_width=OptionsInfo(scss=True, category='row_group', type='px', value='2px'), row_group_border_top_color=OptionsInfo(scss=True, category='row_group', type='value', value='#D3D3D3'), row_group_border_right_style=OptionsInfo(scss=True, category='row_group', type='value', value='none'), row_group_border_right_width=OptionsInfo(scss=True, category='row_group', type='px', value='1px'), row_group_border_right_color=OptionsInfo(scss=True, category='row_group', type='value', value='#D3D3D3'), row_group_border_bottom_style=OptionsInfo(scss=True, category='row_group', type='value', value='solid'), row_group_border_bottom_width=OptionsInfo(scss=True, category='row_group', type='px', value='2px'), row_group_border_bottom_color=OptionsInfo(scss=True, category='row_group', type='value', value='#D3D3D3'), row_group_border_left_style=OptionsInfo(scss=True, category='row_group', type='value', value='none'), row_group_border_left_width=OptionsInfo(scss=True, category='row_group', type='px', value='1px'), row_group_border_left_color=OptionsInfo(scss=True, category='row_group', type='value', value='#D3D3D3'), row_group_as_column=OptionsInfo(scss=False, category='row_group', type='boolean', value=False), table_body_hlines_style=OptionsInfo(scss=True, category='table_body', type='value', value='solid'), table_body_hlines_width=OptionsInfo(scss=True, category='table_body', type='px', value='1px'), table_body_hlines_color=OptionsInfo(scss=True, category='table_body', type='value', value='#D3D3D3'), table_body_vlines_style=OptionsInfo(scss=True, category='table_body', type='value', value='none'), table_body_vlines_width=OptionsInfo(scss=True, category='table_body', type='px', value='1px'), table_body_vlines_color=OptionsInfo(scss=True, category='table_body', type='value', value='#D3D3D3'), table_body_border_top_style=OptionsInfo(scss=True, category='table_body', type='value', value='solid'), table_body_border_top_width=OptionsInfo(scss=True, category='table_body', type='px', value='2px'), table_body_border_top_color=OptionsInfo(scss=True, category='table_body', type='value', value='#D3D3D3'), table_body_border_bottom_style=OptionsInfo(scss=True, category='table_body', type='value', value='solid'), table_body_border_bottom_width=OptionsInfo(scss=True, category='table_body', type='px', value='2px'), table_body_border_bottom_color=OptionsInfo(scss=True, category='table_body', type='value', value='#D3D3D3'), data_row_padding=OptionsInfo(scss=True, category='data_row', type='px', value='8px'), data_row_padding_horizontal=OptionsInfo(scss=True, category='data_row', type='px', value='5px'), stub_background_color=OptionsInfo(scss=True, category='stub', type='value', value=None), stub_font_size=OptionsInfo(scss=True, category='stub', type='px', value='100%'), stub_font_weight=OptionsInfo(scss=True, category='stub', type='value', value='initial'), stub_text_transform=OptionsInfo(scss=True, category='stub', type='value', value='inherit'), stub_border_style=OptionsInfo(scss=True, category='stub', type='value', value='solid'), stub_border_width=OptionsInfo(scss=True, category='stub', type='px', value='2px'), stub_border_color=OptionsInfo(scss=True, category='stub', type='value', value='#D3D3D3'), stub_row_group_background_color=OptionsInfo(scss=True, category='stub', type='value', value=None), stub_row_group_font_size=OptionsInfo(scss=True, category='stub', type='px', value='100%'), stub_row_group_font_weight=OptionsInfo(scss=True, category='stub', type='value', value='initial'), stub_row_group_text_transform=OptionsInfo(scss=True, category='stub', type='value', value='inherit'), stub_row_group_border_style=OptionsInfo(scss=True, category='stub', type='value', value='solid'), stub_row_group_border_width=OptionsInfo(scss=True, category='stub', type='px', value='2px'), stub_row_group_border_color=OptionsInfo(scss=True, category='stub', type='value', value='#D3D3D3'), source_notes_padding=OptionsInfo(scss=True, category='source_notes', type='px', value='4px'), source_notes_padding_horizontal=OptionsInfo(scss=True, category='source_notes', type='px', value='5px'), source_notes_background_color=OptionsInfo(scss=True, category='source_notes', type='value', value=None), source_notes_font_size=OptionsInfo(scss=True, category='source_notes', type='px', value='90%'), source_notes_border_bottom_style=OptionsInfo(scss=True, category='source_notes', type='value', value='none'), source_notes_border_bottom_width=OptionsInfo(scss=True, category='source_notes', type='px', value='2px'), source_notes_border_bottom_color=OptionsInfo(scss=True, category='source_notes', type='value', value='#D3D3D3'), source_notes_border_lr_style=OptionsInfo(scss=True, category='source_notes', type='value', value='none'), source_notes_border_lr_width=OptionsInfo(scss=True, category='source_notes', type='px', value='2px'), source_notes_border_lr_color=OptionsInfo(scss=True, category='source_notes', type='value', value='#D3D3D3'), source_notes_multiline=OptionsInfo(scss=False, category='source_notes', type='boolean', value=True), source_notes_sep=OptionsInfo(scss=False, category='source_notes', type='value', value=' '), row_striping_background_color=OptionsInfo(scss=True, category='row', type='value', value='rgba(128,128,128,0.05)'), row_striping_include_stub=OptionsInfo(scss=False, category='row', type='boolean', value=False), row_striping_include_table_body=OptionsInfo(scss=False, category='row', type='boolean', value=False), container_width=OptionsInfo(scss=False, category='container', type='px', value='auto'), container_height=OptionsInfo(scss=False, category='container', type='px', value='auto'), container_padding_x=OptionsInfo(scss=False, category='container', type='px', value='0px'), container_padding_y=OptionsInfo(scss=False, category='container', type='px', value='10px'), container_overflow_x=OptionsInfo(scss=False, category='container', type='overflow', value='auto'), container_overflow_y=OptionsInfo(scss=False, category='container', type='overflow', value='auto'), quarto_disable_processing=OptionsInfo(scss=False, category='quarto', type='logical', value=False), quarto_use_bootstrap=OptionsInfo(scss=False, category='quarto', type='logical', value=False)), _has_built=False)"
      ]
     },
     "execution_count": 60,
     "metadata": {},
     "output_type": "execute_result"
    }
   ],
   "source": [
    "annual_change = annual_sales_pivot.with_columns(\n",
    "    pl.col('*').exclude('year').pct_change()\n",
    ").filter(\n",
    "    pl.col('year') == 2\n",
    ").unpivot(\n",
    "    index=\"year\",  # Keep 'year' as a fixed identifier\n",
    "    value_name='% Change',  \n",
    "    variable_name='brand'\n",
    ")\n",
    "\n",
    "(\n",
    "    GT(annual_change, rowname_col='brand')\n",
    "    .tab_header(title='% Change in Annual Sales')\n",
    "    .tab_stubhead(label=\"Brands\")\n",
    "    .fmt_percent()\n",
    "    .data_color(\n",
    "        domain=[-0.3, 0.3],\n",
    "        palette=['orange', 'white', 'rebeccapurple']\n",
    "    ) \n",
    "    .cols_hide('year')   \n",
    "    .cols_label(brand='Y-o-Y % Change')\n",
    ")"
   ]
  },
  {
   "cell_type": "code",
   "execution_count": 61,
   "metadata": {},
   "outputs": [
    {
     "data": {
      "application/vnd.vegalite.v5+json": {
       "$schema": "https://vega.github.io/schema/vega-lite/v5.20.1.json",
       "config": {
        "view": {
         "continuousHeight": 300,
         "continuousWidth": 300
        }
       },
       "data": {
        "name": "data-9f70556a7f29516d1d2d11a511b5a3ac"
       },
       "datasets": {
        "data-9f70556a7f29516d1d2d11a511b5a3ac": [
         {
          "Yearly Sales": 33570.940269470215,
          "brand": "Alpha",
          "year": 1
         },
         {
          "Yearly Sales": 5120.870035648346,
          "brand": "Charlie",
          "year": 1
         },
         {
          "Yearly Sales": 1535.229995727539,
          "brand": "Other",
          "year": 1
         },
         {
          "Yearly Sales": 3271.5099909305573,
          "brand": "Delta",
          "year": 1
         },
         {
          "Yearly Sales": 28603.350202202797,
          "brand": "Bravo",
          "year": 1
         },
         {
          "Yearly Sales": 26926.869781136513,
          "brand": "Bravo",
          "year": 2
         },
         {
          "Yearly Sales": 35250.75022995472,
          "brand": "Alpha",
          "year": 2
         },
         {
          "Yearly Sales": 3922.680040240288,
          "brand": "Charlie",
          "year": 2
         },
         {
          "Yearly Sales": 2820.810007929802,
          "brand": "Delta",
          "year": 2
         },
         {
          "Yearly Sales": 1739.8199961185455,
          "brand": "Other",
          "year": 2
         }
        ]
       },
       "encoding": {
        "color": {
         "field": "year",
         "type": "nominal"
        },
        "x": {
         "axis": {
          "labelAngle": 0
         },
         "field": "brand",
         "type": "nominal"
        },
        "xOffset": {
         "field": "year",
         "type": "nominal"
        },
        "y": {
         "axis": {
          "format": "$,.0f"
         },
         "field": "Yearly Sales",
         "type": "quantitative"
        }
       },
       "height": 250,
       "mark": {
        "type": "bar"
       },
       "title": "Year 1 & Year 2 Revenues",
       "width": 650
      },
      "text/plain": [
       "<VegaLite 5 object>\n",
       "\n",
       "If you see this message, it means the renderer has not been properly enabled\n",
       "for the frontend that you are using. For more information, see\n",
       "https://altair-viz.github.io/user_guide/display_frontends.html#troubleshooting\n"
      ]
     },
     "metadata": {},
     "output_type": "display_data"
    },
    {
     "data": {
      "application/vnd.jupyter.widget-view+json": {
       "model_id": "260a22004abc45d489efed305ab396e8",
       "version_major": 2,
       "version_minor": 1
      },
      "text/plain": [
       "JupyterChart()"
      ]
     },
     "execution_count": 61,
     "metadata": {},
     "output_type": "execute_result"
    }
   ],
   "source": [
    "chart = alt.Chart(annual_sales.collect()).mark_bar().encode(\n",
    "    x=alt.X(\"brand:N\", \n",
    "            axis=alt.Axis(labelAngle=0)),\n",
    "    xOffset=\"year:N\",\n",
    "    y=alt.Y(\"Yearly Sales:Q\",\n",
    "            axis=alt.Axis(format=\"$,.0f\")),\n",
    "    color=alt.Color(\"year:N\"),\n",
    ").properties(\n",
    "    width=650,\n",
    "    height=250,\n",
    "    title='Year 1 & Year 2 Revenues'\n",
    ").show()\n",
    "\n",
    "alt.JupyterChart(chart)"
   ]
  },
  {
   "cell_type": "code",
   "execution_count": 62,
   "metadata": {},
   "outputs": [
    {
     "data": {
      "application/vnd.jupyter.widget-view+json": {
       "model_id": "13d44ad2cef8453b8fe7ebf12d2b7da3",
       "version_major": 2,
       "version_minor": 1
      },
      "text/plain": [
       "JupyterChart(spec={'config': {'view': {'continuousWidth': 300, 'continuousHeight': 300}}, 'layer': [{'mark': {…"
      ]
     },
     "execution_count": 62,
     "metadata": {},
     "output_type": "execute_result"
    }
   ],
   "source": [
    "base = alt.Chart(annual_change).encode(\n",
    "    x=alt.X(\"brand:N\", \n",
    "            axis=alt.Axis(labelAngle=0)\n",
    "    ),\n",
    "    y=alt.Y(\"% Change:Q\",\n",
    "            axis=alt.Axis(format=\".0%\")\n",
    "    ),\n",
    "    color=alt.condition(\n",
    "        alt.datum[\"% Change\"] > 0, # fixed this \n",
    "        alt.value(\"green\"),  # The positive color\n",
    "        alt.value(\"red\")  # The negative color\n",
    "    ),\n",
    "    text=alt.Text(\n",
    "        '% Change',\n",
    "        format=(\".0%\")\n",
    "    )\n",
    "        \n",
    ").properties(\n",
    "    width=650,\n",
    "    height=250,\n",
    "    title='Y-o-Y % Change in Revenue'\n",
    ")\n",
    "\n",
    "chart = base.mark_bar() + base.mark_text(align='center', \n",
    "                                 baseline=alt.expr(alt.expr.if_(alt.datum['% Change'] >= 0, 'bottom', 'top')),\n",
    "                                 dy=alt.expr(alt.expr.if_(alt.datum['% Change'] >= 0, -2, 2)),\n",
    "                                 dx=0)\n",
    "\n",
    "alt.JupyterChart(chart)"
   ]
  },
  {
   "cell_type": "markdown",
   "metadata": {},
   "source": [
    "#### Annual Market Share"
   ]
  },
  {
   "cell_type": "code",
   "execution_count": 63,
   "metadata": {},
   "outputs": [
    {
     "data": {
      "text/html": [
       "<div id=\"bvwkkxvxyg\" style=\"padding-left:0px;padding-right:0px;padding-top:10px;padding-bottom:10px;overflow-x:auto;overflow-y:auto;width:auto;height:auto;\">\n",
       "<style>\n",
       "#bvwkkxvxyg table {\n",
       "          font-family: -apple-system, BlinkMacSystemFont, 'Segoe UI', Roboto, Oxygen, Ubuntu, Cantarell, 'Helvetica Neue', 'Fira Sans', 'Droid Sans', Arial, sans-serif;\n",
       "          -webkit-font-smoothing: antialiased;\n",
       "          -moz-osx-font-smoothing: grayscale;\n",
       "        }\n",
       "\n",
       "#bvwkkxvxyg thead, tbody, tfoot, tr, td, th { border-style: none !important; }\n",
       " tr { background-color: transparent !important; }\n",
       "#bvwkkxvxyg p { margin: 0 !important; padding: 0 !important; }\n",
       " #bvwkkxvxyg .gt_table { display: table !important; border-collapse: collapse !important; line-height: normal !important; margin-left: auto !important; margin-right: auto !important; color: #333333 !important; font-size: 16px !important; font-weight: normal !important; font-style: normal !important; background-color: #FFFFFF !important; width: auto !important; border-top-style: solid !important; border-top-width: 2px !important; border-top-color: #A8A8A8 !important; border-right-style: none !important; border-right-width: 2px !important; border-right-color: #D3D3D3 !important; border-bottom-style: solid !important; border-bottom-width: 2px !important; border-bottom-color: #A8A8A8 !important; border-left-style: none !important; border-left-width: 2px !important; border-left-color: #D3D3D3 !important; }\n",
       " #bvwkkxvxyg .gt_caption { padding-top: 4px !important; padding-bottom: 4px !important; }\n",
       " #bvwkkxvxyg .gt_title { color: #333333 !important; font-size: 125% !important; font-weight: initial !important; padding-top: 4px !important; padding-bottom: 4px !important; padding-left: 5px !important; padding-right: 5px !important; border-bottom-color: #FFFFFF !important; border-bottom-width: 0 !important; }\n",
       " #bvwkkxvxyg .gt_subtitle { color: #333333 !important; font-size: 85% !important; font-weight: initial !important; padding-top: 3px !important; padding-bottom: 5px !important; padding-left: 5px !important; padding-right: 5px !important; border-top-color: #FFFFFF !important; border-top-width: 0 !important; }\n",
       " #bvwkkxvxyg .gt_heading { background-color: #FFFFFF !important; text-align: center !important; border-bottom-color: #FFFFFF !important; border-left-style: none !important; border-left-width: 1px !important; border-left-color: #D3D3D3 !important; border-right-style: none !important; border-right-width: 1px !important; border-right-color: #D3D3D3 !important; }\n",
       " #bvwkkxvxyg .gt_bottom_border { border-bottom-style: solid !important; border-bottom-width: 2px !important; border-bottom-color: #D3D3D3 !important; }\n",
       " #bvwkkxvxyg .gt_col_headings { border-top-style: solid !important; border-top-width: 2px !important; border-top-color: #D3D3D3 !important; border-bottom-style: solid !important; border-bottom-width: 2px !important; border-bottom-color: #D3D3D3 !important; border-left-style: none !important; border-left-width: 1px !important; border-left-color: #D3D3D3 !important; border-right-style: none !important; border-right-width: 1px !important; border-right-color: #D3D3D3 !important; }\n",
       " #bvwkkxvxyg .gt_col_heading { color: #333333 !important; background-color: #FFFFFF !important; font-size: 100% !important; font-weight: normal !important; text-transform: inherit !important; border-left-style: none !important; border-left-width: 1px !important; border-left-color: #D3D3D3 !important; border-right-style: none !important; border-right-width: 1px !important; border-right-color: #D3D3D3 !important; vertical-align: bottom !important; padding-top: 5px !important; padding-bottom: 5px !important; padding-left: 5px !important; padding-right: 5px !important; overflow-x: hidden !important; }\n",
       " #bvwkkxvxyg .gt_column_spanner_outer { color: #333333 !important; background-color: #FFFFFF !important; font-size: 100% !important; font-weight: normal !important; text-transform: inherit !important; padding-top: 0 !important; padding-bottom: 0 !important; padding-left: 4px !important; padding-right: 4px !important; }\n",
       " #bvwkkxvxyg .gt_column_spanner_outer:first-child { padding-left: 0 !important; }\n",
       " #bvwkkxvxyg .gt_column_spanner_outer:last-child { padding-right: 0 !important; }\n",
       " #bvwkkxvxyg .gt_column_spanner { border-bottom-style: solid !important; border-bottom-width: 2px !important; border-bottom-color: #D3D3D3 !important; vertical-align: bottom !important; padding-top: 5px !important; padding-bottom: 5px !important; overflow-x: hidden !important; display: inline-block !important; width: 100% !important; }\n",
       " #bvwkkxvxyg .gt_spanner_row { border-bottom-style: hidden !important; }\n",
       " #bvwkkxvxyg .gt_group_heading { padding-top: 8px !important; padding-bottom: 8px !important; padding-left: 5px !important; padding-right: 5px !important; color: #333333 !important; background-color: #FFFFFF !important; font-size: 100% !important; font-weight: initial !important; text-transform: inherit !important; border-top-style: solid !important; border-top-width: 2px !important; border-top-color: #D3D3D3 !important; border-bottom-style: solid !important; border-bottom-width: 2px !important; border-bottom-color: #D3D3D3 !important; border-left-style: none !important; border-left-width: 1px !important; border-left-color: #D3D3D3 !important; border-right-style: none !important; border-right-width: 1px !important; border-right-color: #D3D3D3 !important; vertical-align: middle !important; text-align: left !important; }\n",
       " #bvwkkxvxyg .gt_empty_group_heading { padding: 0.5px !important; color: #333333 !important; background-color: #FFFFFF !important; font-size: 100% !important; font-weight: initial !important; border-top-style: solid !important; border-top-width: 2px !important; border-top-color: #D3D3D3 !important; border-bottom-style: solid !important; border-bottom-width: 2px !important; border-bottom-color: #D3D3D3 !important; vertical-align: middle !important; }\n",
       " #bvwkkxvxyg .gt_from_md> :first-child { margin-top: 0 !important; }\n",
       " #bvwkkxvxyg .gt_from_md> :last-child { margin-bottom: 0 !important; }\n",
       " #bvwkkxvxyg .gt_row { padding-top: 8px !important; padding-bottom: 8px !important; padding-left: 5px !important; padding-right: 5px !important; margin: 10px !important; border-top-style: solid !important; border-top-width: 1px !important; border-top-color: #D3D3D3 !important; border-left-style: none !important; border-left-width: 1px !important; border-left-color: #D3D3D3 !important; border-right-style: none !important; border-right-width: 1px !important; border-right-color: #D3D3D3 !important; vertical-align: middle !important; overflow-x: hidden !important; }\n",
       " #bvwkkxvxyg .gt_stub { color: #333333 !important; background-color: #FFFFFF !important; font-size: 100% !important; font-weight: initial !important; text-transform: inherit !important; border-right-style: solid !important; border-right-width: 2px !important; border-right-color: #D3D3D3 !important; padding-left: 5px !important; padding-right: 5px !important; }\n",
       " #bvwkkxvxyg .gt_stub_row_group { color: #333333 !important; background-color: #FFFFFF !important; font-size: 100% !important; font-weight: initial !important; text-transform: inherit !important; border-right-style: solid !important; border-right-width: 2px !important; border-right-color: #D3D3D3 !important; padding-left: 5px !important; padding-right: 5px !important; vertical-align: top !important; }\n",
       " #bvwkkxvxyg .gt_row_group_first td { border-top-width: 2px !important; }\n",
       " #bvwkkxvxyg .gt_row_group_first th { border-top-width: 2px !important; }\n",
       " #bvwkkxvxyg .gt_striped { background-color: rgba(128,128,128,0.05) !important; }\n",
       " #bvwkkxvxyg .gt_table_body { border-top-style: solid !important; border-top-width: 2px !important; border-top-color: #D3D3D3 !important; border-bottom-style: solid !important; border-bottom-width: 2px !important; border-bottom-color: #D3D3D3 !important; }\n",
       " #bvwkkxvxyg .gt_sourcenotes { color: #333333 !important; background-color: #FFFFFF !important; border-bottom-style: none !important; border-bottom-width: 2px !important; border-bottom-color: #D3D3D3 !important; border-left-style: none !important; border-left-width: 2px !important; border-left-color: #D3D3D3 !important; border-right-style: none !important; border-right-width: 2px !important; border-right-color: #D3D3D3 !important; }\n",
       " #bvwkkxvxyg .gt_sourcenote { font-size: 90% !important; padding-top: 4px !important; padding-bottom: 4px !important; padding-left: 5px !important; padding-right: 5px !important; text-align: left !important; }\n",
       " #bvwkkxvxyg .gt_left { text-align: left !important; }\n",
       " #bvwkkxvxyg .gt_center { text-align: center !important; }\n",
       " #bvwkkxvxyg .gt_right { text-align: right !important; font-variant-numeric: tabular-nums !important; }\n",
       " #bvwkkxvxyg .gt_font_normal { font-weight: normal !important; }\n",
       " #bvwkkxvxyg .gt_font_bold { font-weight: bold !important; }\n",
       " #bvwkkxvxyg .gt_font_italic { font-style: italic !important; }\n",
       " #bvwkkxvxyg .gt_super { font-size: 65% !important; }\n",
       " #bvwkkxvxyg .gt_footnote_marks { font-size: 75% !important; vertical-align: 0.4em !important; position: initial !important; }\n",
       " #bvwkkxvxyg .gt_asterisk { font-size: 100% !important; vertical-align: 0 !important; }\n",
       " \n",
       "</style>\n",
       "<table class=\"gt_table\" data-quarto-disable-processing=\"false\" data-quarto-bootstrap=\"false\">\n",
       "<thead>\n",
       "\n",
       "  <tr class=\"gt_heading\">\n",
       "    <td colspan=\"6\" class=\"gt_heading gt_title gt_font_normal\">Annual Market Share (%)</td>\n",
       "  </tr>\n",
       "<tr class=\"gt_col_headings\">\n",
       "  <th class=\"gt_col_heading gt_columns_bottom_border gt_left\" rowspan=\"1\" colspan=\"1\" scope=\"col\" id=\"Year\">Year</th>\n",
       "  <th class=\"gt_col_heading gt_columns_bottom_border gt_right\" rowspan=\"1\" colspan=\"1\" scope=\"col\" id=\"Alpha\">Alpha</th>\n",
       "  <th class=\"gt_col_heading gt_columns_bottom_border gt_right\" rowspan=\"1\" colspan=\"1\" scope=\"col\" id=\"Bravo\">Bravo</th>\n",
       "  <th class=\"gt_col_heading gt_columns_bottom_border gt_right\" rowspan=\"1\" colspan=\"1\" scope=\"col\" id=\"Charlie\">Charlie</th>\n",
       "  <th class=\"gt_col_heading gt_columns_bottom_border gt_right\" rowspan=\"1\" colspan=\"1\" scope=\"col\" id=\"Delta\">Delta</th>\n",
       "  <th class=\"gt_col_heading gt_columns_bottom_border gt_right\" rowspan=\"1\" colspan=\"1\" scope=\"col\" id=\"Other\">Other</th>\n",
       "</tr>\n",
       "</thead>\n",
       "<tbody class=\"gt_table_body\">\n",
       "  <tr>\n",
       "    <th style=\"color: #000000; background-color: #808080;\" class=\"gt_row gt_left gt_stub\">1</th>\n",
       "    <td style=\"color: #FFFFFF; background-color: #7141a0;\" class=\"gt_row gt_right\">46.56%</td>\n",
       "    <td style=\"color: #FFFFFF; background-color: #865dae;\" class=\"gt_row gt_right\">39.67%</td>\n",
       "    <td style=\"color: #000000; background-color: #e9e2f1;\" class=\"gt_row gt_right\">7.10%</td>\n",
       "    <td style=\"color: #000000; background-color: #f1ecf6;\" class=\"gt_row gt_right\">4.54%</td>\n",
       "    <td style=\"color: #000000; background-color: #f8f6fb;\" class=\"gt_row gt_right\">2.13%</td>\n",
       "  </tr>\n",
       "  <tr>\n",
       "    <th style=\"color: #000000; background-color: #808080;\" class=\"gt_row gt_left gt_stub\">2</th>\n",
       "    <td style=\"color: #FFFFFF; background-color: #663399;\" class=\"gt_row gt_right\">49.89%</td>\n",
       "    <td style=\"color: #FFFFFF; background-color: #8a64b1;\" class=\"gt_row gt_right\">38.11%</td>\n",
       "    <td style=\"color: #000000; background-color: #eee8f4;\" class=\"gt_row gt_right\">5.55%</td>\n",
       "    <td style=\"color: #000000; background-color: #f3eff7;\" class=\"gt_row gt_right\">3.99%</td>\n",
       "    <td style=\"color: #000000; background-color: #f7f5fa;\" class=\"gt_row gt_right\">2.46%</td>\n",
       "  </tr>\n",
       "</tbody>\n",
       "\n",
       "\n",
       "</table>\n",
       "\n",
       "</div>\n",
       "        "
      ],
      "text/plain": [
       "GT(_tbl_data=shape: (2, 7)\n",
       "┌──────┬──────────┬──────────┬──────────┬──────────┬──────────┬───────┐\n",
       "│ year ┆ Alpha    ┆ Bravo    ┆ Charlie  ┆ Delta    ┆ Other    ┆ Total │\n",
       "│ ---  ┆ ---      ┆ ---      ┆ ---      ┆ ---      ┆ ---      ┆ ---   │\n",
       "│ i32  ┆ f64      ┆ f64      ┆ f64      ┆ f64      ┆ f64      ┆ f64   │\n",
       "╞══════╪══════════╪══════════╪══════════╪══════════╪══════════╪═══════╡\n",
       "│ 1    ┆ 0.465598 ┆ 0.396702 ┆ 0.071022 ┆ 0.045373 ┆ 0.021292 ┆ 1.0   │\n",
       "│ 2    ┆ 0.498858 ┆ 0.381061 ┆ 0.055513 ┆ 0.039919 ┆ 0.024621 ┆ 1.0   │\n",
       "└──────┴──────────┴──────────┴──────────┴──────────┴──────────┴───────┘, _body=<great_tables._gt_data.Body object at 0x10e920550>, _boxhead=Boxhead([ColInfo(var='year', type=<ColInfoTypeEnum.stub: 2>, column_label='year', column_align='right', column_width=None), ColInfo(var='Alpha', type=<ColInfoTypeEnum.default: 1>, column_label='Alpha', column_align='right', column_width=None), ColInfo(var='Bravo', type=<ColInfoTypeEnum.default: 1>, column_label='Bravo', column_align='right', column_width=None), ColInfo(var='Charlie', type=<ColInfoTypeEnum.default: 1>, column_label='Charlie', column_align='right', column_width=None), ColInfo(var='Delta', type=<ColInfoTypeEnum.default: 1>, column_label='Delta', column_align='right', column_width=None), ColInfo(var='Other', type=<ColInfoTypeEnum.default: 1>, column_label='Other', column_align='right', column_width=None), ColInfo(var='Total', type=<ColInfoTypeEnum.hidden: 4>, column_label='Total', column_align='right', column_width=None)]), _stub=<great_tables._gt_data.Stub object at 0x10df31790>, _spanners=Spanners([]), _heading=Heading(title='Annual Market Share (%)', subtitle=None, preheader=None), _stubhead='Year', _source_notes=[], _footnotes=[], _styles=[StyleInfo(locname=LocBody(columns='year', rows=[0]), grpname=None, colname='year', rownum=0, colnum=None, styles=[CellStyleText(color='#000000', font=None, size=None, align=None, v_align=None, style=None, weight=None, stretch=None, decorate=None, transform=None, whitespace=None), CellStyleFill(color='#808080')]), StyleInfo(locname=LocBody(columns='year', rows=[1]), grpname=None, colname='year', rownum=1, colnum=None, styles=[CellStyleText(color='#000000', font=None, size=None, align=None, v_align=None, style=None, weight=None, stretch=None, decorate=None, transform=None, whitespace=None), CellStyleFill(color='#808080')]), StyleInfo(locname=LocBody(columns='Alpha', rows=[0]), grpname=None, colname='Alpha', rownum=0, colnum=None, styles=[CellStyleText(color='#FFFFFF', font=None, size=None, align=None, v_align=None, style=None, weight=None, stretch=None, decorate=None, transform=None, whitespace=None), CellStyleFill(color='#7141a0')]), StyleInfo(locname=LocBody(columns='Alpha', rows=[1]), grpname=None, colname='Alpha', rownum=1, colnum=None, styles=[CellStyleText(color='#FFFFFF', font=None, size=None, align=None, v_align=None, style=None, weight=None, stretch=None, decorate=None, transform=None, whitespace=None), CellStyleFill(color='#663399')]), StyleInfo(locname=LocBody(columns='Bravo', rows=[0]), grpname=None, colname='Bravo', rownum=0, colnum=None, styles=[CellStyleText(color='#FFFFFF', font=None, size=None, align=None, v_align=None, style=None, weight=None, stretch=None, decorate=None, transform=None, whitespace=None), CellStyleFill(color='#865dae')]), StyleInfo(locname=LocBody(columns='Bravo', rows=[1]), grpname=None, colname='Bravo', rownum=1, colnum=None, styles=[CellStyleText(color='#FFFFFF', font=None, size=None, align=None, v_align=None, style=None, weight=None, stretch=None, decorate=None, transform=None, whitespace=None), CellStyleFill(color='#8a64b1')]), StyleInfo(locname=LocBody(columns='Charlie', rows=[0]), grpname=None, colname='Charlie', rownum=0, colnum=None, styles=[CellStyleText(color='#000000', font=None, size=None, align=None, v_align=None, style=None, weight=None, stretch=None, decorate=None, transform=None, whitespace=None), CellStyleFill(color='#e9e2f1')]), StyleInfo(locname=LocBody(columns='Charlie', rows=[1]), grpname=None, colname='Charlie', rownum=1, colnum=None, styles=[CellStyleText(color='#000000', font=None, size=None, align=None, v_align=None, style=None, weight=None, stretch=None, decorate=None, transform=None, whitespace=None), CellStyleFill(color='#eee8f4')]), StyleInfo(locname=LocBody(columns='Delta', rows=[0]), grpname=None, colname='Delta', rownum=0, colnum=None, styles=[CellStyleText(color='#000000', font=None, size=None, align=None, v_align=None, style=None, weight=None, stretch=None, decorate=None, transform=None, whitespace=None), CellStyleFill(color='#f1ecf6')]), StyleInfo(locname=LocBody(columns='Delta', rows=[1]), grpname=None, colname='Delta', rownum=1, colnum=None, styles=[CellStyleText(color='#000000', font=None, size=None, align=None, v_align=None, style=None, weight=None, stretch=None, decorate=None, transform=None, whitespace=None), CellStyleFill(color='#f3eff7')]), StyleInfo(locname=LocBody(columns='Other', rows=[0]), grpname=None, colname='Other', rownum=0, colnum=None, styles=[CellStyleText(color='#000000', font=None, size=None, align=None, v_align=None, style=None, weight=None, stretch=None, decorate=None, transform=None, whitespace=None), CellStyleFill(color='#f8f6fb')]), StyleInfo(locname=LocBody(columns='Other', rows=[1]), grpname=None, colname='Other', rownum=1, colnum=None, styles=[CellStyleText(color='#000000', font=None, size=None, align=None, v_align=None, style=None, weight=None, stretch=None, decorate=None, transform=None, whitespace=None), CellStyleFill(color='#f7f5fa')]), StyleInfo(locname=LocBody(columns='Total', rows=[0]), grpname=None, colname='Total', rownum=0, colnum=None, styles=[CellStyleText(color='#000000', font=None, size=None, align=None, v_align=None, style=None, weight=None, stretch=None, decorate=None, transform=None, whitespace=None), CellStyleFill(color='#808080')]), StyleInfo(locname=LocBody(columns='Total', rows=[1]), grpname=None, colname='Total', rownum=1, colnum=None, styles=[CellStyleText(color='#000000', font=None, size=None, align=None, v_align=None, style=None, weight=None, stretch=None, decorate=None, transform=None, whitespace=None), CellStyleFill(color='#808080')])], _locale=<great_tables._gt_data.Locale object at 0x10df31910>, _formats=[<great_tables._gt_data.FormatInfo object at 0x10e9a9b20>], _substitutions=[], _options=Options(table_id=OptionsInfo(scss=False, category='table', type='value', value=None), table_caption=OptionsInfo(scss=False, category='table', type='value', value=None), table_width=OptionsInfo(scss=True, category='table', type='px', value='auto'), table_layout=OptionsInfo(scss=True, category='table', type='value', value='fixed'), table_margin_left=OptionsInfo(scss=True, category='table', type='px', value='auto'), table_margin_right=OptionsInfo(scss=True, category='table', type='px', value='auto'), table_background_color=OptionsInfo(scss=True, category='table', type='value', value='#FFFFFF'), table_additional_css=OptionsInfo(scss=False, category='table', type='values', value=[]), table_font_names=OptionsInfo(scss=False, category='table', type='values', value=['-apple-system', 'BlinkMacSystemFont', 'Segoe UI', 'Roboto', 'Oxygen', 'Ubuntu', 'Cantarell', 'Helvetica Neue', 'Fira Sans', 'Droid Sans', 'Arial', 'sans-serif']), table_font_size=OptionsInfo(scss=True, category='table', type='px', value='16px'), table_font_weight=OptionsInfo(scss=True, category='table', type='value', value='normal'), table_font_style=OptionsInfo(scss=True, category='table', type='value', value='normal'), table_font_color=OptionsInfo(scss=True, category='table', type='value', value='#333333'), table_font_color_light=OptionsInfo(scss=True, category='table', type='value', value='#FFFFFF'), table_border_top_include=OptionsInfo(scss=False, category='table', type='boolean', value=True), table_border_top_style=OptionsInfo(scss=True, category='table', type='value', value='solid'), table_border_top_width=OptionsInfo(scss=True, category='table', type='px', value='2px'), table_border_top_color=OptionsInfo(scss=True, category='table', type='value', value='#A8A8A8'), table_border_right_style=OptionsInfo(scss=True, category='table', type='value', value='none'), table_border_right_width=OptionsInfo(scss=True, category='table', type='px', value='2px'), table_border_right_color=OptionsInfo(scss=True, category='table', type='value', value='#D3D3D3'), table_border_bottom_include=OptionsInfo(scss=False, category='table', type='boolean', value=True), table_border_bottom_style=OptionsInfo(scss=True, category='table', type='value', value='solid'), table_border_bottom_width=OptionsInfo(scss=True, category='table', type='px', value='2px'), table_border_bottom_color=OptionsInfo(scss=True, category='table', type='value', value='#A8A8A8'), table_border_left_style=OptionsInfo(scss=True, category='table', type='value', value='none'), table_border_left_width=OptionsInfo(scss=True, category='table', type='px', value='2px'), table_border_left_color=OptionsInfo(scss=True, category='table', type='value', value='#D3D3D3'), heading_background_color=OptionsInfo(scss=True, category='heading', type='value', value=None), heading_align=OptionsInfo(scss=True, category='heading', type='value', value='center'), heading_title_font_size=OptionsInfo(scss=True, category='heading', type='px', value='125%'), heading_title_font_weight=OptionsInfo(scss=True, category='heading', type='value', value='initial'), heading_subtitle_font_size=OptionsInfo(scss=True, category='heading', type='px', value='85%'), heading_subtitle_font_weight=OptionsInfo(scss=True, category='heading', type='value', value='initial'), heading_padding=OptionsInfo(scss=True, category='heading', type='px', value='4px'), heading_padding_horizontal=OptionsInfo(scss=True, category='heading', type='px', value='5px'), heading_border_bottom_style=OptionsInfo(scss=True, category='heading', type='value', value='solid'), heading_border_bottom_width=OptionsInfo(scss=True, category='heading', type='px', value='2px'), heading_border_bottom_color=OptionsInfo(scss=True, category='heading', type='value', value='#D3D3D3'), heading_border_lr_style=OptionsInfo(scss=True, category='heading', type='value', value='none'), heading_border_lr_width=OptionsInfo(scss=True, category='heading', type='px', value='1px'), heading_border_lr_color=OptionsInfo(scss=True, category='heading', type='value', value='#D3D3D3'), column_labels_background_color=OptionsInfo(scss=True, category='column_labels', type='value', value=None), column_labels_font_size=OptionsInfo(scss=True, category='column_labels', type='px', value='100%'), column_labels_font_weight=OptionsInfo(scss=True, category='column_labels', type='value', value='normal'), column_labels_text_transform=OptionsInfo(scss=True, category='column_labels', type='value', value='inherit'), column_labels_padding=OptionsInfo(scss=True, category='column_labels', type='px', value='5px'), column_labels_padding_horizontal=OptionsInfo(scss=True, category='column_labels', type='px', value='5px'), column_labels_vlines_style=OptionsInfo(scss=True, category='table_body', type='value', value='none'), column_labels_vlines_width=OptionsInfo(scss=True, category='table_body', type='px', value='1px'), column_labels_vlines_color=OptionsInfo(scss=True, category='table_body', type='value', value='#D3D3D3'), column_labels_border_top_style=OptionsInfo(scss=True, category='column_labels', type='value', value='solid'), column_labels_border_top_width=OptionsInfo(scss=True, category='column_labels', type='px', value='2px'), column_labels_border_top_color=OptionsInfo(scss=True, category='column_labels', type='value', value='#D3D3D3'), column_labels_border_bottom_style=OptionsInfo(scss=True, category='column_labels', type='value', value='solid'), column_labels_border_bottom_width=OptionsInfo(scss=True, category='column_labels', type='px', value='2px'), column_labels_border_bottom_color=OptionsInfo(scss=True, category='column_labels', type='value', value='#D3D3D3'), column_labels_border_lr_style=OptionsInfo(scss=True, category='column_labels', type='value', value='none'), column_labels_border_lr_width=OptionsInfo(scss=True, category='column_labels', type='px', value='1px'), column_labels_border_lr_color=OptionsInfo(scss=True, category='column_labels', type='value', value='#D3D3D3'), column_labels_hidden=OptionsInfo(scss=False, category='column_labels', type='boolean', value=False), row_group_background_color=OptionsInfo(scss=True, category='row_group', type='value', value=None), row_group_font_size=OptionsInfo(scss=True, category='row_group', type='px', value='100%'), row_group_font_weight=OptionsInfo(scss=True, category='row_group', type='value', value='initial'), row_group_text_transform=OptionsInfo(scss=True, category='row_group', type='value', value='inherit'), row_group_padding=OptionsInfo(scss=True, category='row_group', type='px', value='8px'), row_group_padding_horizontal=OptionsInfo(scss=True, category='row_group', type='px', value='5px'), row_group_border_top_style=OptionsInfo(scss=True, category='row_group', type='value', value='solid'), row_group_border_top_width=OptionsInfo(scss=True, category='row_group', type='px', value='2px'), row_group_border_top_color=OptionsInfo(scss=True, category='row_group', type='value', value='#D3D3D3'), row_group_border_right_style=OptionsInfo(scss=True, category='row_group', type='value', value='none'), row_group_border_right_width=OptionsInfo(scss=True, category='row_group', type='px', value='1px'), row_group_border_right_color=OptionsInfo(scss=True, category='row_group', type='value', value='#D3D3D3'), row_group_border_bottom_style=OptionsInfo(scss=True, category='row_group', type='value', value='solid'), row_group_border_bottom_width=OptionsInfo(scss=True, category='row_group', type='px', value='2px'), row_group_border_bottom_color=OptionsInfo(scss=True, category='row_group', type='value', value='#D3D3D3'), row_group_border_left_style=OptionsInfo(scss=True, category='row_group', type='value', value='none'), row_group_border_left_width=OptionsInfo(scss=True, category='row_group', type='px', value='1px'), row_group_border_left_color=OptionsInfo(scss=True, category='row_group', type='value', value='#D3D3D3'), row_group_as_column=OptionsInfo(scss=False, category='row_group', type='boolean', value=False), table_body_hlines_style=OptionsInfo(scss=True, category='table_body', type='value', value='solid'), table_body_hlines_width=OptionsInfo(scss=True, category='table_body', type='px', value='1px'), table_body_hlines_color=OptionsInfo(scss=True, category='table_body', type='value', value='#D3D3D3'), table_body_vlines_style=OptionsInfo(scss=True, category='table_body', type='value', value='none'), table_body_vlines_width=OptionsInfo(scss=True, category='table_body', type='px', value='1px'), table_body_vlines_color=OptionsInfo(scss=True, category='table_body', type='value', value='#D3D3D3'), table_body_border_top_style=OptionsInfo(scss=True, category='table_body', type='value', value='solid'), table_body_border_top_width=OptionsInfo(scss=True, category='table_body', type='px', value='2px'), table_body_border_top_color=OptionsInfo(scss=True, category='table_body', type='value', value='#D3D3D3'), table_body_border_bottom_style=OptionsInfo(scss=True, category='table_body', type='value', value='solid'), table_body_border_bottom_width=OptionsInfo(scss=True, category='table_body', type='px', value='2px'), table_body_border_bottom_color=OptionsInfo(scss=True, category='table_body', type='value', value='#D3D3D3'), data_row_padding=OptionsInfo(scss=True, category='data_row', type='px', value='8px'), data_row_padding_horizontal=OptionsInfo(scss=True, category='data_row', type='px', value='5px'), stub_background_color=OptionsInfo(scss=True, category='stub', type='value', value=None), stub_font_size=OptionsInfo(scss=True, category='stub', type='px', value='100%'), stub_font_weight=OptionsInfo(scss=True, category='stub', type='value', value='initial'), stub_text_transform=OptionsInfo(scss=True, category='stub', type='value', value='inherit'), stub_border_style=OptionsInfo(scss=True, category='stub', type='value', value='solid'), stub_border_width=OptionsInfo(scss=True, category='stub', type='px', value='2px'), stub_border_color=OptionsInfo(scss=True, category='stub', type='value', value='#D3D3D3'), stub_row_group_background_color=OptionsInfo(scss=True, category='stub', type='value', value=None), stub_row_group_font_size=OptionsInfo(scss=True, category='stub', type='px', value='100%'), stub_row_group_font_weight=OptionsInfo(scss=True, category='stub', type='value', value='initial'), stub_row_group_text_transform=OptionsInfo(scss=True, category='stub', type='value', value='inherit'), stub_row_group_border_style=OptionsInfo(scss=True, category='stub', type='value', value='solid'), stub_row_group_border_width=OptionsInfo(scss=True, category='stub', type='px', value='2px'), stub_row_group_border_color=OptionsInfo(scss=True, category='stub', type='value', value='#D3D3D3'), source_notes_padding=OptionsInfo(scss=True, category='source_notes', type='px', value='4px'), source_notes_padding_horizontal=OptionsInfo(scss=True, category='source_notes', type='px', value='5px'), source_notes_background_color=OptionsInfo(scss=True, category='source_notes', type='value', value=None), source_notes_font_size=OptionsInfo(scss=True, category='source_notes', type='px', value='90%'), source_notes_border_bottom_style=OptionsInfo(scss=True, category='source_notes', type='value', value='none'), source_notes_border_bottom_width=OptionsInfo(scss=True, category='source_notes', type='px', value='2px'), source_notes_border_bottom_color=OptionsInfo(scss=True, category='source_notes', type='value', value='#D3D3D3'), source_notes_border_lr_style=OptionsInfo(scss=True, category='source_notes', type='value', value='none'), source_notes_border_lr_width=OptionsInfo(scss=True, category='source_notes', type='px', value='2px'), source_notes_border_lr_color=OptionsInfo(scss=True, category='source_notes', type='value', value='#D3D3D3'), source_notes_multiline=OptionsInfo(scss=False, category='source_notes', type='boolean', value=True), source_notes_sep=OptionsInfo(scss=False, category='source_notes', type='value', value=' '), row_striping_background_color=OptionsInfo(scss=True, category='row', type='value', value='rgba(128,128,128,0.05)'), row_striping_include_stub=OptionsInfo(scss=False, category='row', type='boolean', value=False), row_striping_include_table_body=OptionsInfo(scss=False, category='row', type='boolean', value=False), container_width=OptionsInfo(scss=False, category='container', type='px', value='auto'), container_height=OptionsInfo(scss=False, category='container', type='px', value='auto'), container_padding_x=OptionsInfo(scss=False, category='container', type='px', value='0px'), container_padding_y=OptionsInfo(scss=False, category='container', type='px', value='10px'), container_overflow_x=OptionsInfo(scss=False, category='container', type='overflow', value='auto'), container_overflow_y=OptionsInfo(scss=False, category='container', type='overflow', value='auto'), quarto_disable_processing=OptionsInfo(scss=False, category='quarto', type='logical', value=False), quarto_use_bootstrap=OptionsInfo(scss=False, category='quarto', type='logical', value=False)), _has_built=False)"
      ]
     },
     "execution_count": 63,
     "metadata": {},
     "output_type": "execute_result"
    }
   ],
   "source": [
    "market_share = annual_sales_pivot.with_columns(\n",
    "    pl.col('*').exclude('year') / pl.col('Total')\n",
    ")\n",
    "\n",
    "(\n",
    "    GT(market_share, rowname_col=\"year\")\n",
    "    .tab_header(title=\"Annual Market Share (%)\")\n",
    "    .tab_stubhead(label=\"Year\")\n",
    "    .fmt_percent()\n",
    "    .cols_hide('Total')\n",
    "    .data_color(\n",
    "        domain=[0, 0.5],\n",
    "        palette=[\"white\", \"rebeccapurple\"]\n",
    "    )    \n",
    ")"
   ]
  },
  {
   "cell_type": "code",
   "execution_count": 64,
   "metadata": {},
   "outputs": [
    {
     "data": {
      "text/html": [
       "<div id=\"jxsqqdddes\" style=\"padding-left:0px;padding-right:0px;padding-top:10px;padding-bottom:10px;overflow-x:auto;overflow-y:auto;width:auto;height:auto;\">\n",
       "<style>\n",
       "#jxsqqdddes table {\n",
       "          font-family: -apple-system, BlinkMacSystemFont, 'Segoe UI', Roboto, Oxygen, Ubuntu, Cantarell, 'Helvetica Neue', 'Fira Sans', 'Droid Sans', Arial, sans-serif;\n",
       "          -webkit-font-smoothing: antialiased;\n",
       "          -moz-osx-font-smoothing: grayscale;\n",
       "        }\n",
       "\n",
       "#jxsqqdddes thead, tbody, tfoot, tr, td, th { border-style: none !important; }\n",
       " tr { background-color: transparent !important; }\n",
       "#jxsqqdddes p { margin: 0 !important; padding: 0 !important; }\n",
       " #jxsqqdddes .gt_table { display: table !important; border-collapse: collapse !important; line-height: normal !important; margin-left: auto !important; margin-right: auto !important; color: #333333 !important; font-size: 16px !important; font-weight: normal !important; font-style: normal !important; background-color: #FFFFFF !important; width: auto !important; border-top-style: solid !important; border-top-width: 2px !important; border-top-color: #A8A8A8 !important; border-right-style: none !important; border-right-width: 2px !important; border-right-color: #D3D3D3 !important; border-bottom-style: solid !important; border-bottom-width: 2px !important; border-bottom-color: #A8A8A8 !important; border-left-style: none !important; border-left-width: 2px !important; border-left-color: #D3D3D3 !important; }\n",
       " #jxsqqdddes .gt_caption { padding-top: 4px !important; padding-bottom: 4px !important; }\n",
       " #jxsqqdddes .gt_title { color: #333333 !important; font-size: 125% !important; font-weight: initial !important; padding-top: 4px !important; padding-bottom: 4px !important; padding-left: 5px !important; padding-right: 5px !important; border-bottom-color: #FFFFFF !important; border-bottom-width: 0 !important; }\n",
       " #jxsqqdddes .gt_subtitle { color: #333333 !important; font-size: 85% !important; font-weight: initial !important; padding-top: 3px !important; padding-bottom: 5px !important; padding-left: 5px !important; padding-right: 5px !important; border-top-color: #FFFFFF !important; border-top-width: 0 !important; }\n",
       " #jxsqqdddes .gt_heading { background-color: #FFFFFF !important; text-align: center !important; border-bottom-color: #FFFFFF !important; border-left-style: none !important; border-left-width: 1px !important; border-left-color: #D3D3D3 !important; border-right-style: none !important; border-right-width: 1px !important; border-right-color: #D3D3D3 !important; }\n",
       " #jxsqqdddes .gt_bottom_border { border-bottom-style: solid !important; border-bottom-width: 2px !important; border-bottom-color: #D3D3D3 !important; }\n",
       " #jxsqqdddes .gt_col_headings { border-top-style: solid !important; border-top-width: 2px !important; border-top-color: #D3D3D3 !important; border-bottom-style: solid !important; border-bottom-width: 2px !important; border-bottom-color: #D3D3D3 !important; border-left-style: none !important; border-left-width: 1px !important; border-left-color: #D3D3D3 !important; border-right-style: none !important; border-right-width: 1px !important; border-right-color: #D3D3D3 !important; }\n",
       " #jxsqqdddes .gt_col_heading { color: #333333 !important; background-color: #FFFFFF !important; font-size: 100% !important; font-weight: normal !important; text-transform: inherit !important; border-left-style: none !important; border-left-width: 1px !important; border-left-color: #D3D3D3 !important; border-right-style: none !important; border-right-width: 1px !important; border-right-color: #D3D3D3 !important; vertical-align: bottom !important; padding-top: 5px !important; padding-bottom: 5px !important; padding-left: 5px !important; padding-right: 5px !important; overflow-x: hidden !important; }\n",
       " #jxsqqdddes .gt_column_spanner_outer { color: #333333 !important; background-color: #FFFFFF !important; font-size: 100% !important; font-weight: normal !important; text-transform: inherit !important; padding-top: 0 !important; padding-bottom: 0 !important; padding-left: 4px !important; padding-right: 4px !important; }\n",
       " #jxsqqdddes .gt_column_spanner_outer:first-child { padding-left: 0 !important; }\n",
       " #jxsqqdddes .gt_column_spanner_outer:last-child { padding-right: 0 !important; }\n",
       " #jxsqqdddes .gt_column_spanner { border-bottom-style: solid !important; border-bottom-width: 2px !important; border-bottom-color: #D3D3D3 !important; vertical-align: bottom !important; padding-top: 5px !important; padding-bottom: 5px !important; overflow-x: hidden !important; display: inline-block !important; width: 100% !important; }\n",
       " #jxsqqdddes .gt_spanner_row { border-bottom-style: hidden !important; }\n",
       " #jxsqqdddes .gt_group_heading { padding-top: 8px !important; padding-bottom: 8px !important; padding-left: 5px !important; padding-right: 5px !important; color: #333333 !important; background-color: #FFFFFF !important; font-size: 100% !important; font-weight: initial !important; text-transform: inherit !important; border-top-style: solid !important; border-top-width: 2px !important; border-top-color: #D3D3D3 !important; border-bottom-style: solid !important; border-bottom-width: 2px !important; border-bottom-color: #D3D3D3 !important; border-left-style: none !important; border-left-width: 1px !important; border-left-color: #D3D3D3 !important; border-right-style: none !important; border-right-width: 1px !important; border-right-color: #D3D3D3 !important; vertical-align: middle !important; text-align: left !important; }\n",
       " #jxsqqdddes .gt_empty_group_heading { padding: 0.5px !important; color: #333333 !important; background-color: #FFFFFF !important; font-size: 100% !important; font-weight: initial !important; border-top-style: solid !important; border-top-width: 2px !important; border-top-color: #D3D3D3 !important; border-bottom-style: solid !important; border-bottom-width: 2px !important; border-bottom-color: #D3D3D3 !important; vertical-align: middle !important; }\n",
       " #jxsqqdddes .gt_from_md> :first-child { margin-top: 0 !important; }\n",
       " #jxsqqdddes .gt_from_md> :last-child { margin-bottom: 0 !important; }\n",
       " #jxsqqdddes .gt_row { padding-top: 8px !important; padding-bottom: 8px !important; padding-left: 5px !important; padding-right: 5px !important; margin: 10px !important; border-top-style: solid !important; border-top-width: 1px !important; border-top-color: #D3D3D3 !important; border-left-style: none !important; border-left-width: 1px !important; border-left-color: #D3D3D3 !important; border-right-style: none !important; border-right-width: 1px !important; border-right-color: #D3D3D3 !important; vertical-align: middle !important; overflow-x: hidden !important; }\n",
       " #jxsqqdddes .gt_stub { color: #333333 !important; background-color: #FFFFFF !important; font-size: 100% !important; font-weight: initial !important; text-transform: inherit !important; border-right-style: solid !important; border-right-width: 2px !important; border-right-color: #D3D3D3 !important; padding-left: 5px !important; padding-right: 5px !important; }\n",
       " #jxsqqdddes .gt_stub_row_group { color: #333333 !important; background-color: #FFFFFF !important; font-size: 100% !important; font-weight: initial !important; text-transform: inherit !important; border-right-style: solid !important; border-right-width: 2px !important; border-right-color: #D3D3D3 !important; padding-left: 5px !important; padding-right: 5px !important; vertical-align: top !important; }\n",
       " #jxsqqdddes .gt_row_group_first td { border-top-width: 2px !important; }\n",
       " #jxsqqdddes .gt_row_group_first th { border-top-width: 2px !important; }\n",
       " #jxsqqdddes .gt_striped { background-color: rgba(128,128,128,0.05) !important; }\n",
       " #jxsqqdddes .gt_table_body { border-top-style: solid !important; border-top-width: 2px !important; border-top-color: #D3D3D3 !important; border-bottom-style: solid !important; border-bottom-width: 2px !important; border-bottom-color: #D3D3D3 !important; }\n",
       " #jxsqqdddes .gt_sourcenotes { color: #333333 !important; background-color: #FFFFFF !important; border-bottom-style: none !important; border-bottom-width: 2px !important; border-bottom-color: #D3D3D3 !important; border-left-style: none !important; border-left-width: 2px !important; border-left-color: #D3D3D3 !important; border-right-style: none !important; border-right-width: 2px !important; border-right-color: #D3D3D3 !important; }\n",
       " #jxsqqdddes .gt_sourcenote { font-size: 90% !important; padding-top: 4px !important; padding-bottom: 4px !important; padding-left: 5px !important; padding-right: 5px !important; text-align: left !important; }\n",
       " #jxsqqdddes .gt_left { text-align: left !important; }\n",
       " #jxsqqdddes .gt_center { text-align: center !important; }\n",
       " #jxsqqdddes .gt_right { text-align: right !important; font-variant-numeric: tabular-nums !important; }\n",
       " #jxsqqdddes .gt_font_normal { font-weight: normal !important; }\n",
       " #jxsqqdddes .gt_font_bold { font-weight: bold !important; }\n",
       " #jxsqqdddes .gt_font_italic { font-style: italic !important; }\n",
       " #jxsqqdddes .gt_super { font-size: 65% !important; }\n",
       " #jxsqqdddes .gt_footnote_marks { font-size: 75% !important; vertical-align: 0.4em !important; position: initial !important; }\n",
       " #jxsqqdddes .gt_asterisk { font-size: 100% !important; vertical-align: 0 !important; }\n",
       " \n",
       "</style>\n",
       "<table class=\"gt_table\" data-quarto-disable-processing=\"false\" data-quarto-bootstrap=\"false\">\n",
       "<thead>\n",
       "\n",
       "  <tr class=\"gt_heading\">\n",
       "    <td colspan=\"2\" class=\"gt_heading gt_title gt_font_normal\">% Change in Market Share</td>\n",
       "  </tr>\n",
       "<tr class=\"gt_col_headings\">\n",
       "  <th class=\"gt_col_heading gt_columns_bottom_border gt_left\" rowspan=\"1\" colspan=\"1\" scope=\"col\" id=\"Brands\">Brands</th>\n",
       "  <th class=\"gt_col_heading gt_columns_bottom_border gt_right\" rowspan=\"1\" colspan=\"1\" scope=\"col\" id=\"% Change\">% Change</th>\n",
       "</tr>\n",
       "</thead>\n",
       "<tbody class=\"gt_table_body\">\n",
       "  <tr>\n",
       "    <th style=\"color: #000000; background-color: #808080;\" class=\"gt_row gt_left gt_stub\">Alpha</th>\n",
       "    <td style=\"color: #000000; background-color: #dbcee7;\" class=\"gt_row gt_right\">7.14%</td>\n",
       "  </tr>\n",
       "  <tr>\n",
       "    <th style=\"color: #000000; background-color: #808080;\" class=\"gt_row gt_left gt_stub\">Bravo</th>\n",
       "    <td style=\"color: #000000; background-color: #fff3dd;\" class=\"gt_row gt_right\">−3.94%</td>\n",
       "  </tr>\n",
       "  <tr>\n",
       "    <th style=\"color: #000000; background-color: #808080;\" class=\"gt_row gt_left gt_stub\">Charlie</th>\n",
       "    <td style=\"color: #000000; background-color: #ffbd45;\" class=\"gt_row gt_right\">−21.84%</td>\n",
       "  </tr>\n",
       "  <tr>\n",
       "    <th style=\"color: #000000; background-color: #808080;\" class=\"gt_row gt_left gt_stub\">Delta</th>\n",
       "    <td style=\"color: #000000; background-color: #ffdb99;\" class=\"gt_row gt_right\">−12.02%</td>\n",
       "  </tr>\n",
       "  <tr>\n",
       "    <th style=\"color: #000000; background-color: #808080;\" class=\"gt_row gt_left gt_stub\">Other</th>\n",
       "    <td style=\"color: #000000; background-color: #af95ca;\" class=\"gt_row gt_right\">15.64%</td>\n",
       "  </tr>\n",
       "</tbody>\n",
       "\n",
       "\n",
       "</table>\n",
       "\n",
       "</div>\n",
       "        "
      ],
      "text/plain": [
       "GT(_tbl_data=shape: (5, 3)\n",
       "┌──────┬─────────┬───────────┐\n",
       "│ year ┆ brand   ┆ % Change  │\n",
       "│ ---  ┆ ---     ┆ ---       │\n",
       "│ i32  ┆ str     ┆ f64       │\n",
       "╞══════╪═════════╪═══════════╡\n",
       "│ 2    ┆ Alpha   ┆ 0.071435  │\n",
       "│ 2    ┆ Bravo   ┆ -0.039428 │\n",
       "│ 2    ┆ Charlie ┆ -0.218372 │\n",
       "│ 2    ┆ Delta   ┆ -0.120194 │\n",
       "│ 2    ┆ Other   ┆ 0.156357  │\n",
       "└──────┴─────────┴───────────┘, _body=<great_tables._gt_data.Body object at 0x10e98e4e0>, _boxhead=Boxhead([ColInfo(var='year', type=<ColInfoTypeEnum.hidden: 4>, column_label='year', column_align='right', column_width=None), ColInfo(var='brand', type=<ColInfoTypeEnum.stub: 2>, column_label='Y-o-Y % Change', column_align='left', column_width=None), ColInfo(var='% Change', type=<ColInfoTypeEnum.default: 1>, column_label='% Change', column_align='right', column_width=None)]), _stub=<great_tables._gt_data.Stub object at 0x10e9aa8e0>, _spanners=Spanners([]), _heading=Heading(title='% Change in Market Share', subtitle=None, preheader=None), _stubhead='Brands', _source_notes=[], _footnotes=[], _styles=[StyleInfo(locname=LocBody(columns='year', rows=[0]), grpname=None, colname='year', rownum=0, colnum=None, styles=[CellStyleText(color='#000000', font=None, size=None, align=None, v_align=None, style=None, weight=None, stretch=None, decorate=None, transform=None, whitespace=None), CellStyleFill(color='#808080')]), StyleInfo(locname=LocBody(columns='year', rows=[1]), grpname=None, colname='year', rownum=1, colnum=None, styles=[CellStyleText(color='#000000', font=None, size=None, align=None, v_align=None, style=None, weight=None, stretch=None, decorate=None, transform=None, whitespace=None), CellStyleFill(color='#808080')]), StyleInfo(locname=LocBody(columns='year', rows=[2]), grpname=None, colname='year', rownum=2, colnum=None, styles=[CellStyleText(color='#000000', font=None, size=None, align=None, v_align=None, style=None, weight=None, stretch=None, decorate=None, transform=None, whitespace=None), CellStyleFill(color='#808080')]), StyleInfo(locname=LocBody(columns='year', rows=[3]), grpname=None, colname='year', rownum=3, colnum=None, styles=[CellStyleText(color='#000000', font=None, size=None, align=None, v_align=None, style=None, weight=None, stretch=None, decorate=None, transform=None, whitespace=None), CellStyleFill(color='#808080')]), StyleInfo(locname=LocBody(columns='year', rows=[4]), grpname=None, colname='year', rownum=4, colnum=None, styles=[CellStyleText(color='#000000', font=None, size=None, align=None, v_align=None, style=None, weight=None, stretch=None, decorate=None, transform=None, whitespace=None), CellStyleFill(color='#808080')]), StyleInfo(locname=LocBody(columns='brand', rows=[0]), grpname=None, colname='brand', rownum=0, colnum=None, styles=[CellStyleText(color='#000000', font=None, size=None, align=None, v_align=None, style=None, weight=None, stretch=None, decorate=None, transform=None, whitespace=None), CellStyleFill(color='#808080')]), StyleInfo(locname=LocBody(columns='brand', rows=[1]), grpname=None, colname='brand', rownum=1, colnum=None, styles=[CellStyleText(color='#000000', font=None, size=None, align=None, v_align=None, style=None, weight=None, stretch=None, decorate=None, transform=None, whitespace=None), CellStyleFill(color='#808080')]), StyleInfo(locname=LocBody(columns='brand', rows=[2]), grpname=None, colname='brand', rownum=2, colnum=None, styles=[CellStyleText(color='#000000', font=None, size=None, align=None, v_align=None, style=None, weight=None, stretch=None, decorate=None, transform=None, whitespace=None), CellStyleFill(color='#808080')]), StyleInfo(locname=LocBody(columns='brand', rows=[3]), grpname=None, colname='brand', rownum=3, colnum=None, styles=[CellStyleText(color='#000000', font=None, size=None, align=None, v_align=None, style=None, weight=None, stretch=None, decorate=None, transform=None, whitespace=None), CellStyleFill(color='#808080')]), StyleInfo(locname=LocBody(columns='brand', rows=[4]), grpname=None, colname='brand', rownum=4, colnum=None, styles=[CellStyleText(color='#000000', font=None, size=None, align=None, v_align=None, style=None, weight=None, stretch=None, decorate=None, transform=None, whitespace=None), CellStyleFill(color='#808080')]), StyleInfo(locname=LocBody(columns='% Change', rows=[0]), grpname=None, colname='% Change', rownum=0, colnum=None, styles=[CellStyleText(color='#000000', font=None, size=None, align=None, v_align=None, style=None, weight=None, stretch=None, decorate=None, transform=None, whitespace=None), CellStyleFill(color='#dbcee7')]), StyleInfo(locname=LocBody(columns='% Change', rows=[1]), grpname=None, colname='% Change', rownum=1, colnum=None, styles=[CellStyleText(color='#000000', font=None, size=None, align=None, v_align=None, style=None, weight=None, stretch=None, decorate=None, transform=None, whitespace=None), CellStyleFill(color='#fff3dd')]), StyleInfo(locname=LocBody(columns='% Change', rows=[2]), grpname=None, colname='% Change', rownum=2, colnum=None, styles=[CellStyleText(color='#000000', font=None, size=None, align=None, v_align=None, style=None, weight=None, stretch=None, decorate=None, transform=None, whitespace=None), CellStyleFill(color='#ffbd45')]), StyleInfo(locname=LocBody(columns='% Change', rows=[3]), grpname=None, colname='% Change', rownum=3, colnum=None, styles=[CellStyleText(color='#000000', font=None, size=None, align=None, v_align=None, style=None, weight=None, stretch=None, decorate=None, transform=None, whitespace=None), CellStyleFill(color='#ffdb99')]), StyleInfo(locname=LocBody(columns='% Change', rows=[4]), grpname=None, colname='% Change', rownum=4, colnum=None, styles=[CellStyleText(color='#000000', font=None, size=None, align=None, v_align=None, style=None, weight=None, stretch=None, decorate=None, transform=None, whitespace=None), CellStyleFill(color='#af95ca')])], _locale=<great_tables._gt_data.Locale object at 0x10e9aa780>, _formats=[<great_tables._gt_data.FormatInfo object at 0x10deffb10>], _substitutions=[], _options=Options(table_id=OptionsInfo(scss=False, category='table', type='value', value=None), table_caption=OptionsInfo(scss=False, category='table', type='value', value=None), table_width=OptionsInfo(scss=True, category='table', type='px', value='auto'), table_layout=OptionsInfo(scss=True, category='table', type='value', value='fixed'), table_margin_left=OptionsInfo(scss=True, category='table', type='px', value='auto'), table_margin_right=OptionsInfo(scss=True, category='table', type='px', value='auto'), table_background_color=OptionsInfo(scss=True, category='table', type='value', value='#FFFFFF'), table_additional_css=OptionsInfo(scss=False, category='table', type='values', value=[]), table_font_names=OptionsInfo(scss=False, category='table', type='values', value=['-apple-system', 'BlinkMacSystemFont', 'Segoe UI', 'Roboto', 'Oxygen', 'Ubuntu', 'Cantarell', 'Helvetica Neue', 'Fira Sans', 'Droid Sans', 'Arial', 'sans-serif']), table_font_size=OptionsInfo(scss=True, category='table', type='px', value='16px'), table_font_weight=OptionsInfo(scss=True, category='table', type='value', value='normal'), table_font_style=OptionsInfo(scss=True, category='table', type='value', value='normal'), table_font_color=OptionsInfo(scss=True, category='table', type='value', value='#333333'), table_font_color_light=OptionsInfo(scss=True, category='table', type='value', value='#FFFFFF'), table_border_top_include=OptionsInfo(scss=False, category='table', type='boolean', value=True), table_border_top_style=OptionsInfo(scss=True, category='table', type='value', value='solid'), table_border_top_width=OptionsInfo(scss=True, category='table', type='px', value='2px'), table_border_top_color=OptionsInfo(scss=True, category='table', type='value', value='#A8A8A8'), table_border_right_style=OptionsInfo(scss=True, category='table', type='value', value='none'), table_border_right_width=OptionsInfo(scss=True, category='table', type='px', value='2px'), table_border_right_color=OptionsInfo(scss=True, category='table', type='value', value='#D3D3D3'), table_border_bottom_include=OptionsInfo(scss=False, category='table', type='boolean', value=True), table_border_bottom_style=OptionsInfo(scss=True, category='table', type='value', value='solid'), table_border_bottom_width=OptionsInfo(scss=True, category='table', type='px', value='2px'), table_border_bottom_color=OptionsInfo(scss=True, category='table', type='value', value='#A8A8A8'), table_border_left_style=OptionsInfo(scss=True, category='table', type='value', value='none'), table_border_left_width=OptionsInfo(scss=True, category='table', type='px', value='2px'), table_border_left_color=OptionsInfo(scss=True, category='table', type='value', value='#D3D3D3'), heading_background_color=OptionsInfo(scss=True, category='heading', type='value', value=None), heading_align=OptionsInfo(scss=True, category='heading', type='value', value='center'), heading_title_font_size=OptionsInfo(scss=True, category='heading', type='px', value='125%'), heading_title_font_weight=OptionsInfo(scss=True, category='heading', type='value', value='initial'), heading_subtitle_font_size=OptionsInfo(scss=True, category='heading', type='px', value='85%'), heading_subtitle_font_weight=OptionsInfo(scss=True, category='heading', type='value', value='initial'), heading_padding=OptionsInfo(scss=True, category='heading', type='px', value='4px'), heading_padding_horizontal=OptionsInfo(scss=True, category='heading', type='px', value='5px'), heading_border_bottom_style=OptionsInfo(scss=True, category='heading', type='value', value='solid'), heading_border_bottom_width=OptionsInfo(scss=True, category='heading', type='px', value='2px'), heading_border_bottom_color=OptionsInfo(scss=True, category='heading', type='value', value='#D3D3D3'), heading_border_lr_style=OptionsInfo(scss=True, category='heading', type='value', value='none'), heading_border_lr_width=OptionsInfo(scss=True, category='heading', type='px', value='1px'), heading_border_lr_color=OptionsInfo(scss=True, category='heading', type='value', value='#D3D3D3'), column_labels_background_color=OptionsInfo(scss=True, category='column_labels', type='value', value=None), column_labels_font_size=OptionsInfo(scss=True, category='column_labels', type='px', value='100%'), column_labels_font_weight=OptionsInfo(scss=True, category='column_labels', type='value', value='normal'), column_labels_text_transform=OptionsInfo(scss=True, category='column_labels', type='value', value='inherit'), column_labels_padding=OptionsInfo(scss=True, category='column_labels', type='px', value='5px'), column_labels_padding_horizontal=OptionsInfo(scss=True, category='column_labels', type='px', value='5px'), column_labels_vlines_style=OptionsInfo(scss=True, category='table_body', type='value', value='none'), column_labels_vlines_width=OptionsInfo(scss=True, category='table_body', type='px', value='1px'), column_labels_vlines_color=OptionsInfo(scss=True, category='table_body', type='value', value='#D3D3D3'), column_labels_border_top_style=OptionsInfo(scss=True, category='column_labels', type='value', value='solid'), column_labels_border_top_width=OptionsInfo(scss=True, category='column_labels', type='px', value='2px'), column_labels_border_top_color=OptionsInfo(scss=True, category='column_labels', type='value', value='#D3D3D3'), column_labels_border_bottom_style=OptionsInfo(scss=True, category='column_labels', type='value', value='solid'), column_labels_border_bottom_width=OptionsInfo(scss=True, category='column_labels', type='px', value='2px'), column_labels_border_bottom_color=OptionsInfo(scss=True, category='column_labels', type='value', value='#D3D3D3'), column_labels_border_lr_style=OptionsInfo(scss=True, category='column_labels', type='value', value='none'), column_labels_border_lr_width=OptionsInfo(scss=True, category='column_labels', type='px', value='1px'), column_labels_border_lr_color=OptionsInfo(scss=True, category='column_labels', type='value', value='#D3D3D3'), column_labels_hidden=OptionsInfo(scss=False, category='column_labels', type='boolean', value=False), row_group_background_color=OptionsInfo(scss=True, category='row_group', type='value', value=None), row_group_font_size=OptionsInfo(scss=True, category='row_group', type='px', value='100%'), row_group_font_weight=OptionsInfo(scss=True, category='row_group', type='value', value='initial'), row_group_text_transform=OptionsInfo(scss=True, category='row_group', type='value', value='inherit'), row_group_padding=OptionsInfo(scss=True, category='row_group', type='px', value='8px'), row_group_padding_horizontal=OptionsInfo(scss=True, category='row_group', type='px', value='5px'), row_group_border_top_style=OptionsInfo(scss=True, category='row_group', type='value', value='solid'), row_group_border_top_width=OptionsInfo(scss=True, category='row_group', type='px', value='2px'), row_group_border_top_color=OptionsInfo(scss=True, category='row_group', type='value', value='#D3D3D3'), row_group_border_right_style=OptionsInfo(scss=True, category='row_group', type='value', value='none'), row_group_border_right_width=OptionsInfo(scss=True, category='row_group', type='px', value='1px'), row_group_border_right_color=OptionsInfo(scss=True, category='row_group', type='value', value='#D3D3D3'), row_group_border_bottom_style=OptionsInfo(scss=True, category='row_group', type='value', value='solid'), row_group_border_bottom_width=OptionsInfo(scss=True, category='row_group', type='px', value='2px'), row_group_border_bottom_color=OptionsInfo(scss=True, category='row_group', type='value', value='#D3D3D3'), row_group_border_left_style=OptionsInfo(scss=True, category='row_group', type='value', value='none'), row_group_border_left_width=OptionsInfo(scss=True, category='row_group', type='px', value='1px'), row_group_border_left_color=OptionsInfo(scss=True, category='row_group', type='value', value='#D3D3D3'), row_group_as_column=OptionsInfo(scss=False, category='row_group', type='boolean', value=False), table_body_hlines_style=OptionsInfo(scss=True, category='table_body', type='value', value='solid'), table_body_hlines_width=OptionsInfo(scss=True, category='table_body', type='px', value='1px'), table_body_hlines_color=OptionsInfo(scss=True, category='table_body', type='value', value='#D3D3D3'), table_body_vlines_style=OptionsInfo(scss=True, category='table_body', type='value', value='none'), table_body_vlines_width=OptionsInfo(scss=True, category='table_body', type='px', value='1px'), table_body_vlines_color=OptionsInfo(scss=True, category='table_body', type='value', value='#D3D3D3'), table_body_border_top_style=OptionsInfo(scss=True, category='table_body', type='value', value='solid'), table_body_border_top_width=OptionsInfo(scss=True, category='table_body', type='px', value='2px'), table_body_border_top_color=OptionsInfo(scss=True, category='table_body', type='value', value='#D3D3D3'), table_body_border_bottom_style=OptionsInfo(scss=True, category='table_body', type='value', value='solid'), table_body_border_bottom_width=OptionsInfo(scss=True, category='table_body', type='px', value='2px'), table_body_border_bottom_color=OptionsInfo(scss=True, category='table_body', type='value', value='#D3D3D3'), data_row_padding=OptionsInfo(scss=True, category='data_row', type='px', value='8px'), data_row_padding_horizontal=OptionsInfo(scss=True, category='data_row', type='px', value='5px'), stub_background_color=OptionsInfo(scss=True, category='stub', type='value', value=None), stub_font_size=OptionsInfo(scss=True, category='stub', type='px', value='100%'), stub_font_weight=OptionsInfo(scss=True, category='stub', type='value', value='initial'), stub_text_transform=OptionsInfo(scss=True, category='stub', type='value', value='inherit'), stub_border_style=OptionsInfo(scss=True, category='stub', type='value', value='solid'), stub_border_width=OptionsInfo(scss=True, category='stub', type='px', value='2px'), stub_border_color=OptionsInfo(scss=True, category='stub', type='value', value='#D3D3D3'), stub_row_group_background_color=OptionsInfo(scss=True, category='stub', type='value', value=None), stub_row_group_font_size=OptionsInfo(scss=True, category='stub', type='px', value='100%'), stub_row_group_font_weight=OptionsInfo(scss=True, category='stub', type='value', value='initial'), stub_row_group_text_transform=OptionsInfo(scss=True, category='stub', type='value', value='inherit'), stub_row_group_border_style=OptionsInfo(scss=True, category='stub', type='value', value='solid'), stub_row_group_border_width=OptionsInfo(scss=True, category='stub', type='px', value='2px'), stub_row_group_border_color=OptionsInfo(scss=True, category='stub', type='value', value='#D3D3D3'), source_notes_padding=OptionsInfo(scss=True, category='source_notes', type='px', value='4px'), source_notes_padding_horizontal=OptionsInfo(scss=True, category='source_notes', type='px', value='5px'), source_notes_background_color=OptionsInfo(scss=True, category='source_notes', type='value', value=None), source_notes_font_size=OptionsInfo(scss=True, category='source_notes', type='px', value='90%'), source_notes_border_bottom_style=OptionsInfo(scss=True, category='source_notes', type='value', value='none'), source_notes_border_bottom_width=OptionsInfo(scss=True, category='source_notes', type='px', value='2px'), source_notes_border_bottom_color=OptionsInfo(scss=True, category='source_notes', type='value', value='#D3D3D3'), source_notes_border_lr_style=OptionsInfo(scss=True, category='source_notes', type='value', value='none'), source_notes_border_lr_width=OptionsInfo(scss=True, category='source_notes', type='px', value='2px'), source_notes_border_lr_color=OptionsInfo(scss=True, category='source_notes', type='value', value='#D3D3D3'), source_notes_multiline=OptionsInfo(scss=False, category='source_notes', type='boolean', value=True), source_notes_sep=OptionsInfo(scss=False, category='source_notes', type='value', value=' '), row_striping_background_color=OptionsInfo(scss=True, category='row', type='value', value='rgba(128,128,128,0.05)'), row_striping_include_stub=OptionsInfo(scss=False, category='row', type='boolean', value=False), row_striping_include_table_body=OptionsInfo(scss=False, category='row', type='boolean', value=False), container_width=OptionsInfo(scss=False, category='container', type='px', value='auto'), container_height=OptionsInfo(scss=False, category='container', type='px', value='auto'), container_padding_x=OptionsInfo(scss=False, category='container', type='px', value='0px'), container_padding_y=OptionsInfo(scss=False, category='container', type='px', value='10px'), container_overflow_x=OptionsInfo(scss=False, category='container', type='overflow', value='auto'), container_overflow_y=OptionsInfo(scss=False, category='container', type='overflow', value='auto'), quarto_disable_processing=OptionsInfo(scss=False, category='quarto', type='logical', value=False), quarto_use_bootstrap=OptionsInfo(scss=False, category='quarto', type='logical', value=False)), _has_built=False)"
      ]
     },
     "execution_count": 64,
     "metadata": {},
     "output_type": "execute_result"
    }
   ],
   "source": [
    "annual_change = market_share.drop('Total').with_columns(\n",
    "    pl.col('*').exclude('year').pct_change()\n",
    ").filter(\n",
    "    pl.col('year') == 2\n",
    ").unpivot(\n",
    "    index=\"year\",  # Keep 'year' as a fixed identifier\n",
    "    value_name='% Change',  \n",
    "    variable_name='brand'\n",
    ")\n",
    "\n",
    "(\n",
    "    GT(annual_change, rowname_col='brand')\n",
    "    .tab_header(title='% Change in Market Share')\n",
    "    .tab_stubhead(label=\"Brands\")\n",
    "    .fmt_percent()\n",
    "    .data_color(\n",
    "        domain=[-0.3, 0.3],\n",
    "        palette=['orange', 'white', 'rebeccapurple']\n",
    "    ) \n",
    "    .cols_hide('year')   \n",
    "    .cols_label(brand='Y-o-Y % Change')\n",
    ")"
   ]
  },
  {
   "cell_type": "code",
   "execution_count": 65,
   "metadata": {},
   "outputs": [
    {
     "data": {
      "application/vnd.jupyter.widget-view+json": {
       "model_id": "3401995db299429ebdbd3edfa8fcf03c",
       "version_major": 2,
       "version_minor": 1
      },
      "text/plain": [
       "JupyterChart(spec={'config': {'view': {'continuousWidth': 300, 'continuousHeight': 300}}, 'layer': [{'mark': {…"
      ]
     },
     "execution_count": 65,
     "metadata": {},
     "output_type": "execute_result"
    }
   ],
   "source": [
    "base = alt.Chart(annual_change).encode(\n",
    "    x=alt.X(\"brand:N\", \n",
    "            axis=alt.Axis(labelAngle=0)\n",
    "    ),\n",
    "    y=alt.Y(\"% Change:Q\",\n",
    "            axis=alt.Axis(format=\".0%\")\n",
    "    ),\n",
    "    color=alt.condition(\n",
    "        alt.datum[\"% Change\"] > 0, # fixed this \n",
    "        alt.value(\"green\"),  # The positive color\n",
    "        alt.value(\"red\")  # The negative color\n",
    "    ),\n",
    "    text=alt.Text(\n",
    "        '% Change',\n",
    "        format=(\".0%\")\n",
    "    )\n",
    "        \n",
    ").properties(\n",
    "    width=650,\n",
    "    height=250,\n",
    "    title='% Change in Annual Market Share'\n",
    ")\n",
    "\n",
    "chart = base.mark_bar() + base.mark_text(align='center', \n",
    "                                 baseline=alt.expr(alt.expr.if_(alt.datum['% Change'] >= 0, 'bottom', 'top')),\n",
    "                                 dy=alt.expr(alt.expr.if_(alt.datum['% Change'] >= 0, -3, 3)),\n",
    "                                 dx=0)\n",
    "\n",
    "alt.JupyterChart(chart)"
   ]
  },
  {
   "cell_type": "markdown",
   "metadata": {},
   "source": [
    "#### Average SKU Price"
   ]
  },
  {
   "cell_type": "code",
   "execution_count": 66,
   "metadata": {},
   "outputs": [
    {
     "data": {
      "text/html": [
       "<div id=\"gbfnvwezdo\" style=\"padding-left:0px;padding-right:0px;padding-top:10px;padding-bottom:10px;overflow-x:auto;overflow-y:auto;width:auto;height:auto;\">\n",
       "<style>\n",
       "#gbfnvwezdo table {\n",
       "          font-family: -apple-system, BlinkMacSystemFont, 'Segoe UI', Roboto, Oxygen, Ubuntu, Cantarell, 'Helvetica Neue', 'Fira Sans', 'Droid Sans', Arial, sans-serif;\n",
       "          -webkit-font-smoothing: antialiased;\n",
       "          -moz-osx-font-smoothing: grayscale;\n",
       "        }\n",
       "\n",
       "#gbfnvwezdo thead, tbody, tfoot, tr, td, th { border-style: none !important; }\n",
       " tr { background-color: transparent !important; }\n",
       "#gbfnvwezdo p { margin: 0 !important; padding: 0 !important; }\n",
       " #gbfnvwezdo .gt_table { display: table !important; border-collapse: collapse !important; line-height: normal !important; margin-left: auto !important; margin-right: auto !important; color: #333333 !important; font-size: 16px !important; font-weight: normal !important; font-style: normal !important; background-color: #FFFFFF !important; width: auto !important; border-top-style: solid !important; border-top-width: 2px !important; border-top-color: #A8A8A8 !important; border-right-style: none !important; border-right-width: 2px !important; border-right-color: #D3D3D3 !important; border-bottom-style: solid !important; border-bottom-width: 2px !important; border-bottom-color: #A8A8A8 !important; border-left-style: none !important; border-left-width: 2px !important; border-left-color: #D3D3D3 !important; }\n",
       " #gbfnvwezdo .gt_caption { padding-top: 4px !important; padding-bottom: 4px !important; }\n",
       " #gbfnvwezdo .gt_title { color: #333333 !important; font-size: 125% !important; font-weight: initial !important; padding-top: 4px !important; padding-bottom: 4px !important; padding-left: 5px !important; padding-right: 5px !important; border-bottom-color: #FFFFFF !important; border-bottom-width: 0 !important; }\n",
       " #gbfnvwezdo .gt_subtitle { color: #333333 !important; font-size: 85% !important; font-weight: initial !important; padding-top: 3px !important; padding-bottom: 5px !important; padding-left: 5px !important; padding-right: 5px !important; border-top-color: #FFFFFF !important; border-top-width: 0 !important; }\n",
       " #gbfnvwezdo .gt_heading { background-color: #FFFFFF !important; text-align: center !important; border-bottom-color: #FFFFFF !important; border-left-style: none !important; border-left-width: 1px !important; border-left-color: #D3D3D3 !important; border-right-style: none !important; border-right-width: 1px !important; border-right-color: #D3D3D3 !important; }\n",
       " #gbfnvwezdo .gt_bottom_border { border-bottom-style: solid !important; border-bottom-width: 2px !important; border-bottom-color: #D3D3D3 !important; }\n",
       " #gbfnvwezdo .gt_col_headings { border-top-style: solid !important; border-top-width: 2px !important; border-top-color: #D3D3D3 !important; border-bottom-style: solid !important; border-bottom-width: 2px !important; border-bottom-color: #D3D3D3 !important; border-left-style: none !important; border-left-width: 1px !important; border-left-color: #D3D3D3 !important; border-right-style: none !important; border-right-width: 1px !important; border-right-color: #D3D3D3 !important; }\n",
       " #gbfnvwezdo .gt_col_heading { color: #333333 !important; background-color: #FFFFFF !important; font-size: 100% !important; font-weight: normal !important; text-transform: inherit !important; border-left-style: none !important; border-left-width: 1px !important; border-left-color: #D3D3D3 !important; border-right-style: none !important; border-right-width: 1px !important; border-right-color: #D3D3D3 !important; vertical-align: bottom !important; padding-top: 5px !important; padding-bottom: 5px !important; padding-left: 5px !important; padding-right: 5px !important; overflow-x: hidden !important; }\n",
       " #gbfnvwezdo .gt_column_spanner_outer { color: #333333 !important; background-color: #FFFFFF !important; font-size: 100% !important; font-weight: normal !important; text-transform: inherit !important; padding-top: 0 !important; padding-bottom: 0 !important; padding-left: 4px !important; padding-right: 4px !important; }\n",
       " #gbfnvwezdo .gt_column_spanner_outer:first-child { padding-left: 0 !important; }\n",
       " #gbfnvwezdo .gt_column_spanner_outer:last-child { padding-right: 0 !important; }\n",
       " #gbfnvwezdo .gt_column_spanner { border-bottom-style: solid !important; border-bottom-width: 2px !important; border-bottom-color: #D3D3D3 !important; vertical-align: bottom !important; padding-top: 5px !important; padding-bottom: 5px !important; overflow-x: hidden !important; display: inline-block !important; width: 100% !important; }\n",
       " #gbfnvwezdo .gt_spanner_row { border-bottom-style: hidden !important; }\n",
       " #gbfnvwezdo .gt_group_heading { padding-top: 8px !important; padding-bottom: 8px !important; padding-left: 5px !important; padding-right: 5px !important; color: #333333 !important; background-color: #FFFFFF !important; font-size: 100% !important; font-weight: initial !important; text-transform: inherit !important; border-top-style: solid !important; border-top-width: 2px !important; border-top-color: #D3D3D3 !important; border-bottom-style: solid !important; border-bottom-width: 2px !important; border-bottom-color: #D3D3D3 !important; border-left-style: none !important; border-left-width: 1px !important; border-left-color: #D3D3D3 !important; border-right-style: none !important; border-right-width: 1px !important; border-right-color: #D3D3D3 !important; vertical-align: middle !important; text-align: left !important; }\n",
       " #gbfnvwezdo .gt_empty_group_heading { padding: 0.5px !important; color: #333333 !important; background-color: #FFFFFF !important; font-size: 100% !important; font-weight: initial !important; border-top-style: solid !important; border-top-width: 2px !important; border-top-color: #D3D3D3 !important; border-bottom-style: solid !important; border-bottom-width: 2px !important; border-bottom-color: #D3D3D3 !important; vertical-align: middle !important; }\n",
       " #gbfnvwezdo .gt_from_md> :first-child { margin-top: 0 !important; }\n",
       " #gbfnvwezdo .gt_from_md> :last-child { margin-bottom: 0 !important; }\n",
       " #gbfnvwezdo .gt_row { padding-top: 8px !important; padding-bottom: 8px !important; padding-left: 5px !important; padding-right: 5px !important; margin: 10px !important; border-top-style: solid !important; border-top-width: 1px !important; border-top-color: #D3D3D3 !important; border-left-style: none !important; border-left-width: 1px !important; border-left-color: #D3D3D3 !important; border-right-style: none !important; border-right-width: 1px !important; border-right-color: #D3D3D3 !important; vertical-align: middle !important; overflow-x: hidden !important; }\n",
       " #gbfnvwezdo .gt_stub { color: #333333 !important; background-color: #FFFFFF !important; font-size: 100% !important; font-weight: initial !important; text-transform: inherit !important; border-right-style: solid !important; border-right-width: 2px !important; border-right-color: #D3D3D3 !important; padding-left: 5px !important; padding-right: 5px !important; }\n",
       " #gbfnvwezdo .gt_stub_row_group { color: #333333 !important; background-color: #FFFFFF !important; font-size: 100% !important; font-weight: initial !important; text-transform: inherit !important; border-right-style: solid !important; border-right-width: 2px !important; border-right-color: #D3D3D3 !important; padding-left: 5px !important; padding-right: 5px !important; vertical-align: top !important; }\n",
       " #gbfnvwezdo .gt_row_group_first td { border-top-width: 2px !important; }\n",
       " #gbfnvwezdo .gt_row_group_first th { border-top-width: 2px !important; }\n",
       " #gbfnvwezdo .gt_striped { background-color: rgba(128,128,128,0.05) !important; }\n",
       " #gbfnvwezdo .gt_table_body { border-top-style: solid !important; border-top-width: 2px !important; border-top-color: #D3D3D3 !important; border-bottom-style: solid !important; border-bottom-width: 2px !important; border-bottom-color: #D3D3D3 !important; }\n",
       " #gbfnvwezdo .gt_sourcenotes { color: #333333 !important; background-color: #FFFFFF !important; border-bottom-style: none !important; border-bottom-width: 2px !important; border-bottom-color: #D3D3D3 !important; border-left-style: none !important; border-left-width: 2px !important; border-left-color: #D3D3D3 !important; border-right-style: none !important; border-right-width: 2px !important; border-right-color: #D3D3D3 !important; }\n",
       " #gbfnvwezdo .gt_sourcenote { font-size: 90% !important; padding-top: 4px !important; padding-bottom: 4px !important; padding-left: 5px !important; padding-right: 5px !important; text-align: left !important; }\n",
       " #gbfnvwezdo .gt_left { text-align: left !important; }\n",
       " #gbfnvwezdo .gt_center { text-align: center !important; }\n",
       " #gbfnvwezdo .gt_right { text-align: right !important; font-variant-numeric: tabular-nums !important; }\n",
       " #gbfnvwezdo .gt_font_normal { font-weight: normal !important; }\n",
       " #gbfnvwezdo .gt_font_bold { font-weight: bold !important; }\n",
       " #gbfnvwezdo .gt_font_italic { font-style: italic !important; }\n",
       " #gbfnvwezdo .gt_super { font-size: 65% !important; }\n",
       " #gbfnvwezdo .gt_footnote_marks { font-size: 75% !important; vertical-align: 0.4em !important; position: initial !important; }\n",
       " #gbfnvwezdo .gt_asterisk { font-size: 100% !important; vertical-align: 0 !important; }\n",
       " \n",
       "</style>\n",
       "<table class=\"gt_table\" data-quarto-disable-processing=\"false\" data-quarto-bootstrap=\"false\">\n",
       "<thead>\n",
       "\n",
       "  <tr class=\"gt_heading\">\n",
       "    <td colspan=\"2\" class=\"gt_heading gt_title gt_font_normal\">Alpha - Average SKU Retail Prices</td>\n",
       "  </tr>\n",
       "<tr class=\"gt_col_headings\">\n",
       "  <th class=\"gt_col_heading gt_columns_bottom_border gt_left\" rowspan=\"1\" colspan=\"1\" scope=\"col\" id=\"Brands\">Brands</th>\n",
       "  <th class=\"gt_col_heading gt_columns_bottom_border gt_right\" rowspan=\"1\" colspan=\"1\" scope=\"col\" id=\"Average Price ($)\">Average Price ($)</th>\n",
       "</tr>\n",
       "</thead>\n",
       "<tbody class=\"gt_table_body\">\n",
       "  <tr>\n",
       "    <th style=\"color: #000000; background-color: #808080;\" class=\"gt_row gt_left gt_stub\">4</th>\n",
       "    <td style=\"color: #000000; background-color: #f6f3f9;\" class=\"gt_row gt_right\">$1.85</td>\n",
       "  </tr>\n",
       "  <tr>\n",
       "    <th style=\"color: #000000; background-color: #808080;\" class=\"gt_row gt_left gt_stub\">5</th>\n",
       "    <td style=\"color: #000000; background-color: #e4dbed;\" class=\"gt_row gt_right\">$3.44</td>\n",
       "  </tr>\n",
       "  <tr>\n",
       "    <th style=\"color: #000000; background-color: #808080;\" class=\"gt_row gt_left gt_stub\">6</th>\n",
       "    <td style=\"color: #000000; background-color: #ede7f3;\" class=\"gt_row gt_right\">$2.61</td>\n",
       "  </tr>\n",
       "  <tr>\n",
       "    <th style=\"color: #000000; background-color: #808080;\" class=\"gt_row gt_left gt_stub\">7</th>\n",
       "    <td style=\"color: #000000; background-color: #d2c3e1;\" class=\"gt_row gt_right\">$5.10</td>\n",
       "  </tr>\n",
       "  <tr>\n",
       "    <th style=\"color: #000000; background-color: #808080;\" class=\"gt_row gt_left gt_stub\">8</th>\n",
       "    <td style=\"color: #FFFFFF; background-color: #8258ac;\" class=\"gt_row gt_right\">$12.43</td>\n",
       "  </tr>\n",
       "  <tr>\n",
       "    <th style=\"color: #000000; background-color: #808080;\" class=\"gt_row gt_left gt_stub\">9</th>\n",
       "    <td style=\"color: #000000; background-color: #c2aed6;\" class=\"gt_row gt_right\">$6.59</td>\n",
       "  </tr>\n",
       "  <tr>\n",
       "    <th style=\"color: #000000; background-color: #808080;\" class=\"gt_row gt_left gt_stub\">10</th>\n",
       "    <td style=\"color: #000000; background-color: #9775ba;\" class=\"gt_row gt_right\">$10.49</td>\n",
       "  </tr>\n",
       "  <tr>\n",
       "    <th style=\"color: #000000; background-color: #808080;\" class=\"gt_row gt_left gt_stub\">11</th>\n",
       "    <td style=\"color: #000000; background-color: #f1edf6;\" class=\"gt_row gt_right\">$2.27</td>\n",
       "  </tr>\n",
       "  <tr>\n",
       "    <th style=\"color: #000000; background-color: #808080;\" class=\"gt_row gt_left gt_stub\">12</th>\n",
       "    <td style=\"color: #000000; background-color: #ebe5f2;\" class=\"gt_row gt_right\">$2.79</td>\n",
       "  </tr>\n",
       "  <tr>\n",
       "    <th style=\"color: #000000; background-color: #808080;\" class=\"gt_row gt_left gt_stub\">14</th>\n",
       "    <td style=\"color: #000000; background-color: #f4f1f8;\" class=\"gt_row gt_right\">$1.99</td>\n",
       "  </tr>\n",
       "  <tr>\n",
       "    <th style=\"color: #000000; background-color: #808080;\" class=\"gt_row gt_left gt_stub\">15</th>\n",
       "    <td style=\"color: #000000; background-color: #e5dced;\" class=\"gt_row gt_right\">$3.42</td>\n",
       "  </tr>\n",
       "  <tr>\n",
       "    <th style=\"color: #000000; background-color: #808080;\" class=\"gt_row gt_left gt_stub\">16</th>\n",
       "    <td style=\"color: #000000; background-color: #eee8f3;\" class=\"gt_row gt_right\">$2.58</td>\n",
       "  </tr>\n",
       "  <tr>\n",
       "    <th style=\"color: #000000; background-color: #808080;\" class=\"gt_row gt_left gt_stub\">17</th>\n",
       "    <td style=\"color: #000000; background-color: #ebe5f2;\" class=\"gt_row gt_right\">$2.80</td>\n",
       "  </tr>\n",
       "  <tr>\n",
       "    <th style=\"color: #000000; background-color: #808080;\" class=\"gt_row gt_left gt_stub\">18</th>\n",
       "    <td style=\"color: #000000; background-color: #e6deee;\" class=\"gt_row gt_right\">$3.27</td>\n",
       "  </tr>\n",
       "  <tr>\n",
       "    <th style=\"color: #000000; background-color: #808080;\" class=\"gt_row gt_left gt_stub\">19</th>\n",
       "    <td style=\"color: #000000; background-color: #ede7f3;\" class=\"gt_row gt_right\">$2.62</td>\n",
       "  </tr>\n",
       "  <tr>\n",
       "    <th style=\"color: #000000; background-color: #808080;\" class=\"gt_row gt_left gt_stub\">20</th>\n",
       "    <td style=\"color: #000000; background-color: #e4dced;\" class=\"gt_row gt_right\">$3.43</td>\n",
       "  </tr>\n",
       "  <tr>\n",
       "    <th style=\"color: #000000; background-color: #808080;\" class=\"gt_row gt_left gt_stub\">21</th>\n",
       "    <td style=\"color: #000000; background-color: #e9e2f1;\" class=\"gt_row gt_right\">$2.99</td>\n",
       "  </tr>\n",
       "  <tr>\n",
       "    <th style=\"color: #000000; background-color: #808080;\" class=\"gt_row gt_left gt_stub\">22</th>\n",
       "    <td style=\"color: #000000; background-color: #f3eff7;\" class=\"gt_row gt_right\">$2.09</td>\n",
       "  </tr>\n",
       "</tbody>\n",
       "\n",
       "\n",
       "</table>\n",
       "\n",
       "</div>\n",
       "        "
      ],
      "text/plain": [
       "GT(_tbl_data=shape: (18, 2)\n",
       "┌────────┬──────────┐\n",
       "│ sku_id ┆ price    │\n",
       "│ ---    ┆ ---      │\n",
       "│ cat    ┆ f64      │\n",
       "╞════════╪══════════╡\n",
       "│ 4      ┆ 1.84705  │\n",
       "│ 5      ┆ 3.438107 │\n",
       "│ 6      ┆ 2.613991 │\n",
       "│ 7      ┆ 5.099062 │\n",
       "│ 8      ┆ 12.43    │\n",
       "│ …      ┆ …        │\n",
       "│ 18     ┆ 3.274    │\n",
       "│ 19     ┆ 2.620052 │\n",
       "│ 20     ┆ 3.43361  │\n",
       "│ 21     ┆ 2.99     │\n",
       "│ 22     ┆ 2.09     │\n",
       "└────────┴──────────┘, _body=<great_tables._gt_data.Body object at 0x10e98caf0>, _boxhead=Boxhead([ColInfo(var='sku_id', type=<ColInfoTypeEnum.stub: 2>, column_label='sku_id', column_align='center', column_width=None), ColInfo(var='price', type=<ColInfoTypeEnum.default: 1>, column_label='Average Price ($)', column_align='right', column_width=None)]), _stub=<great_tables._gt_data.Stub object at 0x10e9ab800>, _spanners=Spanners([]), _heading=Heading(title='Alpha - Average SKU Retail Prices', subtitle=None, preheader=None), _stubhead='Brands', _source_notes=[], _footnotes=[], _styles=[StyleInfo(locname=LocBody(columns='sku_id', rows=[0]), grpname=None, colname='sku_id', rownum=0, colnum=None, styles=[CellStyleText(color='#000000', font=None, size=None, align=None, v_align=None, style=None, weight=None, stretch=None, decorate=None, transform=None, whitespace=None), CellStyleFill(color='#808080')]), StyleInfo(locname=LocBody(columns='sku_id', rows=[1]), grpname=None, colname='sku_id', rownum=1, colnum=None, styles=[CellStyleText(color='#000000', font=None, size=None, align=None, v_align=None, style=None, weight=None, stretch=None, decorate=None, transform=None, whitespace=None), CellStyleFill(color='#808080')]), StyleInfo(locname=LocBody(columns='sku_id', rows=[2]), grpname=None, colname='sku_id', rownum=2, colnum=None, styles=[CellStyleText(color='#000000', font=None, size=None, align=None, v_align=None, style=None, weight=None, stretch=None, decorate=None, transform=None, whitespace=None), CellStyleFill(color='#808080')]), StyleInfo(locname=LocBody(columns='sku_id', rows=[3]), grpname=None, colname='sku_id', rownum=3, colnum=None, styles=[CellStyleText(color='#000000', font=None, size=None, align=None, v_align=None, style=None, weight=None, stretch=None, decorate=None, transform=None, whitespace=None), CellStyleFill(color='#808080')]), StyleInfo(locname=LocBody(columns='sku_id', rows=[4]), grpname=None, colname='sku_id', rownum=4, colnum=None, styles=[CellStyleText(color='#000000', font=None, size=None, align=None, v_align=None, style=None, weight=None, stretch=None, decorate=None, transform=None, whitespace=None), CellStyleFill(color='#808080')]), StyleInfo(locname=LocBody(columns='sku_id', rows=[5]), grpname=None, colname='sku_id', rownum=5, colnum=None, styles=[CellStyleText(color='#000000', font=None, size=None, align=None, v_align=None, style=None, weight=None, stretch=None, decorate=None, transform=None, whitespace=None), CellStyleFill(color='#808080')]), StyleInfo(locname=LocBody(columns='sku_id', rows=[6]), grpname=None, colname='sku_id', rownum=6, colnum=None, styles=[CellStyleText(color='#000000', font=None, size=None, align=None, v_align=None, style=None, weight=None, stretch=None, decorate=None, transform=None, whitespace=None), CellStyleFill(color='#808080')]), StyleInfo(locname=LocBody(columns='sku_id', rows=[7]), grpname=None, colname='sku_id', rownum=7, colnum=None, styles=[CellStyleText(color='#000000', font=None, size=None, align=None, v_align=None, style=None, weight=None, stretch=None, decorate=None, transform=None, whitespace=None), CellStyleFill(color='#808080')]), StyleInfo(locname=LocBody(columns='sku_id', rows=[8]), grpname=None, colname='sku_id', rownum=8, colnum=None, styles=[CellStyleText(color='#000000', font=None, size=None, align=None, v_align=None, style=None, weight=None, stretch=None, decorate=None, transform=None, whitespace=None), CellStyleFill(color='#808080')]), StyleInfo(locname=LocBody(columns='sku_id', rows=[9]), grpname=None, colname='sku_id', rownum=9, colnum=None, styles=[CellStyleText(color='#000000', font=None, size=None, align=None, v_align=None, style=None, weight=None, stretch=None, decorate=None, transform=None, whitespace=None), CellStyleFill(color='#808080')]), StyleInfo(locname=LocBody(columns='sku_id', rows=[10]), grpname=None, colname='sku_id', rownum=10, colnum=None, styles=[CellStyleText(color='#000000', font=None, size=None, align=None, v_align=None, style=None, weight=None, stretch=None, decorate=None, transform=None, whitespace=None), CellStyleFill(color='#808080')]), StyleInfo(locname=LocBody(columns='sku_id', rows=[11]), grpname=None, colname='sku_id', rownum=11, colnum=None, styles=[CellStyleText(color='#000000', font=None, size=None, align=None, v_align=None, style=None, weight=None, stretch=None, decorate=None, transform=None, whitespace=None), CellStyleFill(color='#808080')]), StyleInfo(locname=LocBody(columns='sku_id', rows=[12]), grpname=None, colname='sku_id', rownum=12, colnum=None, styles=[CellStyleText(color='#000000', font=None, size=None, align=None, v_align=None, style=None, weight=None, stretch=None, decorate=None, transform=None, whitespace=None), CellStyleFill(color='#808080')]), StyleInfo(locname=LocBody(columns='sku_id', rows=[13]), grpname=None, colname='sku_id', rownum=13, colnum=None, styles=[CellStyleText(color='#000000', font=None, size=None, align=None, v_align=None, style=None, weight=None, stretch=None, decorate=None, transform=None, whitespace=None), CellStyleFill(color='#808080')]), StyleInfo(locname=LocBody(columns='sku_id', rows=[14]), grpname=None, colname='sku_id', rownum=14, colnum=None, styles=[CellStyleText(color='#000000', font=None, size=None, align=None, v_align=None, style=None, weight=None, stretch=None, decorate=None, transform=None, whitespace=None), CellStyleFill(color='#808080')]), StyleInfo(locname=LocBody(columns='sku_id', rows=[15]), grpname=None, colname='sku_id', rownum=15, colnum=None, styles=[CellStyleText(color='#000000', font=None, size=None, align=None, v_align=None, style=None, weight=None, stretch=None, decorate=None, transform=None, whitespace=None), CellStyleFill(color='#808080')]), StyleInfo(locname=LocBody(columns='sku_id', rows=[16]), grpname=None, colname='sku_id', rownum=16, colnum=None, styles=[CellStyleText(color='#000000', font=None, size=None, align=None, v_align=None, style=None, weight=None, stretch=None, decorate=None, transform=None, whitespace=None), CellStyleFill(color='#808080')]), StyleInfo(locname=LocBody(columns='sku_id', rows=[17]), grpname=None, colname='sku_id', rownum=17, colnum=None, styles=[CellStyleText(color='#000000', font=None, size=None, align=None, v_align=None, style=None, weight=None, stretch=None, decorate=None, transform=None, whitespace=None), CellStyleFill(color='#808080')]), StyleInfo(locname=LocBody(columns='price', rows=[0]), grpname=None, colname='price', rownum=0, colnum=None, styles=[CellStyleText(color='#000000', font=None, size=None, align=None, v_align=None, style=None, weight=None, stretch=None, decorate=None, transform=None, whitespace=None), CellStyleFill(color='#f6f3f9')]), StyleInfo(locname=LocBody(columns='price', rows=[1]), grpname=None, colname='price', rownum=1, colnum=None, styles=[CellStyleText(color='#000000', font=None, size=None, align=None, v_align=None, style=None, weight=None, stretch=None, decorate=None, transform=None, whitespace=None), CellStyleFill(color='#e4dbed')]), StyleInfo(locname=LocBody(columns='price', rows=[2]), grpname=None, colname='price', rownum=2, colnum=None, styles=[CellStyleText(color='#000000', font=None, size=None, align=None, v_align=None, style=None, weight=None, stretch=None, decorate=None, transform=None, whitespace=None), CellStyleFill(color='#ede7f3')]), StyleInfo(locname=LocBody(columns='price', rows=[3]), grpname=None, colname='price', rownum=3, colnum=None, styles=[CellStyleText(color='#000000', font=None, size=None, align=None, v_align=None, style=None, weight=None, stretch=None, decorate=None, transform=None, whitespace=None), CellStyleFill(color='#d2c3e1')]), StyleInfo(locname=LocBody(columns='price', rows=[4]), grpname=None, colname='price', rownum=4, colnum=None, styles=[CellStyleText(color='#FFFFFF', font=None, size=None, align=None, v_align=None, style=None, weight=None, stretch=None, decorate=None, transform=None, whitespace=None), CellStyleFill(color='#8258ac')]), StyleInfo(locname=LocBody(columns='price', rows=[5]), grpname=None, colname='price', rownum=5, colnum=None, styles=[CellStyleText(color='#000000', font=None, size=None, align=None, v_align=None, style=None, weight=None, stretch=None, decorate=None, transform=None, whitespace=None), CellStyleFill(color='#c2aed6')]), StyleInfo(locname=LocBody(columns='price', rows=[6]), grpname=None, colname='price', rownum=6, colnum=None, styles=[CellStyleText(color='#000000', font=None, size=None, align=None, v_align=None, style=None, weight=None, stretch=None, decorate=None, transform=None, whitespace=None), CellStyleFill(color='#9775ba')]), StyleInfo(locname=LocBody(columns='price', rows=[7]), grpname=None, colname='price', rownum=7, colnum=None, styles=[CellStyleText(color='#000000', font=None, size=None, align=None, v_align=None, style=None, weight=None, stretch=None, decorate=None, transform=None, whitespace=None), CellStyleFill(color='#f1edf6')]), StyleInfo(locname=LocBody(columns='price', rows=[8]), grpname=None, colname='price', rownum=8, colnum=None, styles=[CellStyleText(color='#000000', font=None, size=None, align=None, v_align=None, style=None, weight=None, stretch=None, decorate=None, transform=None, whitespace=None), CellStyleFill(color='#ebe5f2')]), StyleInfo(locname=LocBody(columns='price', rows=[9]), grpname=None, colname='price', rownum=9, colnum=None, styles=[CellStyleText(color='#000000', font=None, size=None, align=None, v_align=None, style=None, weight=None, stretch=None, decorate=None, transform=None, whitespace=None), CellStyleFill(color='#f4f1f8')]), StyleInfo(locname=LocBody(columns='price', rows=[10]), grpname=None, colname='price', rownum=10, colnum=None, styles=[CellStyleText(color='#000000', font=None, size=None, align=None, v_align=None, style=None, weight=None, stretch=None, decorate=None, transform=None, whitespace=None), CellStyleFill(color='#e5dced')]), StyleInfo(locname=LocBody(columns='price', rows=[11]), grpname=None, colname='price', rownum=11, colnum=None, styles=[CellStyleText(color='#000000', font=None, size=None, align=None, v_align=None, style=None, weight=None, stretch=None, decorate=None, transform=None, whitespace=None), CellStyleFill(color='#eee8f3')]), StyleInfo(locname=LocBody(columns='price', rows=[12]), grpname=None, colname='price', rownum=12, colnum=None, styles=[CellStyleText(color='#000000', font=None, size=None, align=None, v_align=None, style=None, weight=None, stretch=None, decorate=None, transform=None, whitespace=None), CellStyleFill(color='#ebe5f2')]), StyleInfo(locname=LocBody(columns='price', rows=[13]), grpname=None, colname='price', rownum=13, colnum=None, styles=[CellStyleText(color='#000000', font=None, size=None, align=None, v_align=None, style=None, weight=None, stretch=None, decorate=None, transform=None, whitespace=None), CellStyleFill(color='#e6deee')]), StyleInfo(locname=LocBody(columns='price', rows=[14]), grpname=None, colname='price', rownum=14, colnum=None, styles=[CellStyleText(color='#000000', font=None, size=None, align=None, v_align=None, style=None, weight=None, stretch=None, decorate=None, transform=None, whitespace=None), CellStyleFill(color='#ede7f3')]), StyleInfo(locname=LocBody(columns='price', rows=[15]), grpname=None, colname='price', rownum=15, colnum=None, styles=[CellStyleText(color='#000000', font=None, size=None, align=None, v_align=None, style=None, weight=None, stretch=None, decorate=None, transform=None, whitespace=None), CellStyleFill(color='#e4dced')]), StyleInfo(locname=LocBody(columns='price', rows=[16]), grpname=None, colname='price', rownum=16, colnum=None, styles=[CellStyleText(color='#000000', font=None, size=None, align=None, v_align=None, style=None, weight=None, stretch=None, decorate=None, transform=None, whitespace=None), CellStyleFill(color='#e9e2f1')]), StyleInfo(locname=LocBody(columns='price', rows=[17]), grpname=None, colname='price', rownum=17, colnum=None, styles=[CellStyleText(color='#000000', font=None, size=None, align=None, v_align=None, style=None, weight=None, stretch=None, decorate=None, transform=None, whitespace=None), CellStyleFill(color='#f3eff7')])], _locale=<great_tables._gt_data.Locale object at 0x10e9ab960>, _formats=[<great_tables._gt_data.FormatInfo object at 0x10df26710>], _substitutions=[], _options=Options(table_id=OptionsInfo(scss=False, category='table', type='value', value=None), table_caption=OptionsInfo(scss=False, category='table', type='value', value=None), table_width=OptionsInfo(scss=True, category='table', type='px', value='auto'), table_layout=OptionsInfo(scss=True, category='table', type='value', value='fixed'), table_margin_left=OptionsInfo(scss=True, category='table', type='px', value='auto'), table_margin_right=OptionsInfo(scss=True, category='table', type='px', value='auto'), table_background_color=OptionsInfo(scss=True, category='table', type='value', value='#FFFFFF'), table_additional_css=OptionsInfo(scss=False, category='table', type='values', value=[]), table_font_names=OptionsInfo(scss=False, category='table', type='values', value=['-apple-system', 'BlinkMacSystemFont', 'Segoe UI', 'Roboto', 'Oxygen', 'Ubuntu', 'Cantarell', 'Helvetica Neue', 'Fira Sans', 'Droid Sans', 'Arial', 'sans-serif']), table_font_size=OptionsInfo(scss=True, category='table', type='px', value='16px'), table_font_weight=OptionsInfo(scss=True, category='table', type='value', value='normal'), table_font_style=OptionsInfo(scss=True, category='table', type='value', value='normal'), table_font_color=OptionsInfo(scss=True, category='table', type='value', value='#333333'), table_font_color_light=OptionsInfo(scss=True, category='table', type='value', value='#FFFFFF'), table_border_top_include=OptionsInfo(scss=False, category='table', type='boolean', value=True), table_border_top_style=OptionsInfo(scss=True, category='table', type='value', value='solid'), table_border_top_width=OptionsInfo(scss=True, category='table', type='px', value='2px'), table_border_top_color=OptionsInfo(scss=True, category='table', type='value', value='#A8A8A8'), table_border_right_style=OptionsInfo(scss=True, category='table', type='value', value='none'), table_border_right_width=OptionsInfo(scss=True, category='table', type='px', value='2px'), table_border_right_color=OptionsInfo(scss=True, category='table', type='value', value='#D3D3D3'), table_border_bottom_include=OptionsInfo(scss=False, category='table', type='boolean', value=True), table_border_bottom_style=OptionsInfo(scss=True, category='table', type='value', value='solid'), table_border_bottom_width=OptionsInfo(scss=True, category='table', type='px', value='2px'), table_border_bottom_color=OptionsInfo(scss=True, category='table', type='value', value='#A8A8A8'), table_border_left_style=OptionsInfo(scss=True, category='table', type='value', value='none'), table_border_left_width=OptionsInfo(scss=True, category='table', type='px', value='2px'), table_border_left_color=OptionsInfo(scss=True, category='table', type='value', value='#D3D3D3'), heading_background_color=OptionsInfo(scss=True, category='heading', type='value', value=None), heading_align=OptionsInfo(scss=True, category='heading', type='value', value='center'), heading_title_font_size=OptionsInfo(scss=True, category='heading', type='px', value='125%'), heading_title_font_weight=OptionsInfo(scss=True, category='heading', type='value', value='initial'), heading_subtitle_font_size=OptionsInfo(scss=True, category='heading', type='px', value='85%'), heading_subtitle_font_weight=OptionsInfo(scss=True, category='heading', type='value', value='initial'), heading_padding=OptionsInfo(scss=True, category='heading', type='px', value='4px'), heading_padding_horizontal=OptionsInfo(scss=True, category='heading', type='px', value='5px'), heading_border_bottom_style=OptionsInfo(scss=True, category='heading', type='value', value='solid'), heading_border_bottom_width=OptionsInfo(scss=True, category='heading', type='px', value='2px'), heading_border_bottom_color=OptionsInfo(scss=True, category='heading', type='value', value='#D3D3D3'), heading_border_lr_style=OptionsInfo(scss=True, category='heading', type='value', value='none'), heading_border_lr_width=OptionsInfo(scss=True, category='heading', type='px', value='1px'), heading_border_lr_color=OptionsInfo(scss=True, category='heading', type='value', value='#D3D3D3'), column_labels_background_color=OptionsInfo(scss=True, category='column_labels', type='value', value=None), column_labels_font_size=OptionsInfo(scss=True, category='column_labels', type='px', value='100%'), column_labels_font_weight=OptionsInfo(scss=True, category='column_labels', type='value', value='normal'), column_labels_text_transform=OptionsInfo(scss=True, category='column_labels', type='value', value='inherit'), column_labels_padding=OptionsInfo(scss=True, category='column_labels', type='px', value='5px'), column_labels_padding_horizontal=OptionsInfo(scss=True, category='column_labels', type='px', value='5px'), column_labels_vlines_style=OptionsInfo(scss=True, category='table_body', type='value', value='none'), column_labels_vlines_width=OptionsInfo(scss=True, category='table_body', type='px', value='1px'), column_labels_vlines_color=OptionsInfo(scss=True, category='table_body', type='value', value='#D3D3D3'), column_labels_border_top_style=OptionsInfo(scss=True, category='column_labels', type='value', value='solid'), column_labels_border_top_width=OptionsInfo(scss=True, category='column_labels', type='px', value='2px'), column_labels_border_top_color=OptionsInfo(scss=True, category='column_labels', type='value', value='#D3D3D3'), column_labels_border_bottom_style=OptionsInfo(scss=True, category='column_labels', type='value', value='solid'), column_labels_border_bottom_width=OptionsInfo(scss=True, category='column_labels', type='px', value='2px'), column_labels_border_bottom_color=OptionsInfo(scss=True, category='column_labels', type='value', value='#D3D3D3'), column_labels_border_lr_style=OptionsInfo(scss=True, category='column_labels', type='value', value='none'), column_labels_border_lr_width=OptionsInfo(scss=True, category='column_labels', type='px', value='1px'), column_labels_border_lr_color=OptionsInfo(scss=True, category='column_labels', type='value', value='#D3D3D3'), column_labels_hidden=OptionsInfo(scss=False, category='column_labels', type='boolean', value=False), row_group_background_color=OptionsInfo(scss=True, category='row_group', type='value', value=None), row_group_font_size=OptionsInfo(scss=True, category='row_group', type='px', value='100%'), row_group_font_weight=OptionsInfo(scss=True, category='row_group', type='value', value='initial'), row_group_text_transform=OptionsInfo(scss=True, category='row_group', type='value', value='inherit'), row_group_padding=OptionsInfo(scss=True, category='row_group', type='px', value='8px'), row_group_padding_horizontal=OptionsInfo(scss=True, category='row_group', type='px', value='5px'), row_group_border_top_style=OptionsInfo(scss=True, category='row_group', type='value', value='solid'), row_group_border_top_width=OptionsInfo(scss=True, category='row_group', type='px', value='2px'), row_group_border_top_color=OptionsInfo(scss=True, category='row_group', type='value', value='#D3D3D3'), row_group_border_right_style=OptionsInfo(scss=True, category='row_group', type='value', value='none'), row_group_border_right_width=OptionsInfo(scss=True, category='row_group', type='px', value='1px'), row_group_border_right_color=OptionsInfo(scss=True, category='row_group', type='value', value='#D3D3D3'), row_group_border_bottom_style=OptionsInfo(scss=True, category='row_group', type='value', value='solid'), row_group_border_bottom_width=OptionsInfo(scss=True, category='row_group', type='px', value='2px'), row_group_border_bottom_color=OptionsInfo(scss=True, category='row_group', type='value', value='#D3D3D3'), row_group_border_left_style=OptionsInfo(scss=True, category='row_group', type='value', value='none'), row_group_border_left_width=OptionsInfo(scss=True, category='row_group', type='px', value='1px'), row_group_border_left_color=OptionsInfo(scss=True, category='row_group', type='value', value='#D3D3D3'), row_group_as_column=OptionsInfo(scss=False, category='row_group', type='boolean', value=False), table_body_hlines_style=OptionsInfo(scss=True, category='table_body', type='value', value='solid'), table_body_hlines_width=OptionsInfo(scss=True, category='table_body', type='px', value='1px'), table_body_hlines_color=OptionsInfo(scss=True, category='table_body', type='value', value='#D3D3D3'), table_body_vlines_style=OptionsInfo(scss=True, category='table_body', type='value', value='none'), table_body_vlines_width=OptionsInfo(scss=True, category='table_body', type='px', value='1px'), table_body_vlines_color=OptionsInfo(scss=True, category='table_body', type='value', value='#D3D3D3'), table_body_border_top_style=OptionsInfo(scss=True, category='table_body', type='value', value='solid'), table_body_border_top_width=OptionsInfo(scss=True, category='table_body', type='px', value='2px'), table_body_border_top_color=OptionsInfo(scss=True, category='table_body', type='value', value='#D3D3D3'), table_body_border_bottom_style=OptionsInfo(scss=True, category='table_body', type='value', value='solid'), table_body_border_bottom_width=OptionsInfo(scss=True, category='table_body', type='px', value='2px'), table_body_border_bottom_color=OptionsInfo(scss=True, category='table_body', type='value', value='#D3D3D3'), data_row_padding=OptionsInfo(scss=True, category='data_row', type='px', value='8px'), data_row_padding_horizontal=OptionsInfo(scss=True, category='data_row', type='px', value='5px'), stub_background_color=OptionsInfo(scss=True, category='stub', type='value', value=None), stub_font_size=OptionsInfo(scss=True, category='stub', type='px', value='100%'), stub_font_weight=OptionsInfo(scss=True, category='stub', type='value', value='initial'), stub_text_transform=OptionsInfo(scss=True, category='stub', type='value', value='inherit'), stub_border_style=OptionsInfo(scss=True, category='stub', type='value', value='solid'), stub_border_width=OptionsInfo(scss=True, category='stub', type='px', value='2px'), stub_border_color=OptionsInfo(scss=True, category='stub', type='value', value='#D3D3D3'), stub_row_group_background_color=OptionsInfo(scss=True, category='stub', type='value', value=None), stub_row_group_font_size=OptionsInfo(scss=True, category='stub', type='px', value='100%'), stub_row_group_font_weight=OptionsInfo(scss=True, category='stub', type='value', value='initial'), stub_row_group_text_transform=OptionsInfo(scss=True, category='stub', type='value', value='inherit'), stub_row_group_border_style=OptionsInfo(scss=True, category='stub', type='value', value='solid'), stub_row_group_border_width=OptionsInfo(scss=True, category='stub', type='px', value='2px'), stub_row_group_border_color=OptionsInfo(scss=True, category='stub', type='value', value='#D3D3D3'), source_notes_padding=OptionsInfo(scss=True, category='source_notes', type='px', value='4px'), source_notes_padding_horizontal=OptionsInfo(scss=True, category='source_notes', type='px', value='5px'), source_notes_background_color=OptionsInfo(scss=True, category='source_notes', type='value', value=None), source_notes_font_size=OptionsInfo(scss=True, category='source_notes', type='px', value='90%'), source_notes_border_bottom_style=OptionsInfo(scss=True, category='source_notes', type='value', value='none'), source_notes_border_bottom_width=OptionsInfo(scss=True, category='source_notes', type='px', value='2px'), source_notes_border_bottom_color=OptionsInfo(scss=True, category='source_notes', type='value', value='#D3D3D3'), source_notes_border_lr_style=OptionsInfo(scss=True, category='source_notes', type='value', value='none'), source_notes_border_lr_width=OptionsInfo(scss=True, category='source_notes', type='px', value='2px'), source_notes_border_lr_color=OptionsInfo(scss=True, category='source_notes', type='value', value='#D3D3D3'), source_notes_multiline=OptionsInfo(scss=False, category='source_notes', type='boolean', value=True), source_notes_sep=OptionsInfo(scss=False, category='source_notes', type='value', value=' '), row_striping_background_color=OptionsInfo(scss=True, category='row', type='value', value='rgba(128,128,128,0.05)'), row_striping_include_stub=OptionsInfo(scss=False, category='row', type='boolean', value=False), row_striping_include_table_body=OptionsInfo(scss=False, category='row', type='boolean', value=False), container_width=OptionsInfo(scss=False, category='container', type='px', value='auto'), container_height=OptionsInfo(scss=False, category='container', type='px', value='auto'), container_padding_x=OptionsInfo(scss=False, category='container', type='px', value='0px'), container_padding_y=OptionsInfo(scss=False, category='container', type='px', value='10px'), container_overflow_x=OptionsInfo(scss=False, category='container', type='overflow', value='auto'), container_overflow_y=OptionsInfo(scss=False, category='container', type='overflow', value='auto'), quarto_disable_processing=OptionsInfo(scss=False, category='quarto', type='logical', value=False), quarto_use_bootstrap=OptionsInfo(scss=False, category='quarto', type='logical', value=False)), _has_built=False)"
      ]
     },
     "execution_count": 66,
     "metadata": {},
     "output_type": "execute_result"
    }
   ],
   "source": [
    "avg_sku_price = grocery_lf.select(\n",
    "    ['week', 'sku_id', 'price', 'brand']\n",
    ").filter(\n",
    "    (pl.col('week') <= 52) & # pricing in the first year\n",
    "    (pl.col('brand') == 'Alpha') # Filter by Alpha brand \n",
    ").group_by('brand', 'sku_id').agg(\n",
    "    pl.col('price').cast(pl.Float64).mean()\n",
    ").drop('brand').sort(\n",
    "    pl.col('sku_id').cast(pl.Int8)\n",
    ")\n",
    "\n",
    "(\n",
    "    GT(avg_sku_price.collect(), rowname_col='sku_id') \n",
    "    .tab_header(title='Alpha - Average SKU Retail Prices')\n",
    "    .tab_stubhead(label=\"Brands\")\n",
    "    .fmt_currency()\n",
    "    .data_color(\n",
    "        domain=[1, 15],\n",
    "        palette=['white', 'rebeccapurple']\n",
    "    )  \n",
    "    .cols_label(price='Average Price ($)')\n",
    ")"
   ]
  },
  {
   "cell_type": "code",
   "execution_count": 67,
   "metadata": {},
   "outputs": [
    {
     "data": {
      "text/html": [
       "<div><style>\n",
       ".dataframe > thead > tr,\n",
       ".dataframe > tbody > tr {\n",
       "  text-align: right;\n",
       "  white-space: pre-wrap;\n",
       "}\n",
       "</style>\n",
       "<small>shape: (9, 2)</small><table border=\"1\" class=\"dataframe\"><thead><tr><th>statistic</th><th>price</th></tr><tr><td>str</td><td>f64</td></tr></thead><tbody><tr><td>&quot;count&quot;</td><td>18.0</td></tr><tr><td>&quot;null_count&quot;</td><td>0.0</td></tr><tr><td>&quot;mean&quot;</td><td>4.042794</td></tr><tr><td>&quot;std&quot;</td><td>2.947076</td></tr><tr><td>&quot;min&quot;</td><td>1.84705</td></tr><tr><td>&quot;25%&quot;</td><td>2.582056</td></tr><tr><td>&quot;50%&quot;</td><td>2.99</td></tr><tr><td>&quot;75%&quot;</td><td>3.438107</td></tr><tr><td>&quot;max&quot;</td><td>12.43</td></tr></tbody></table></div>"
      ],
      "text/plain": [
       "shape: (9, 2)\n",
       "┌────────────┬──────────┐\n",
       "│ statistic  ┆ price    │\n",
       "│ ---        ┆ ---      │\n",
       "│ str        ┆ f64      │\n",
       "╞════════════╪══════════╡\n",
       "│ count      ┆ 18.0     │\n",
       "│ null_count ┆ 0.0      │\n",
       "│ mean       ┆ 4.042794 │\n",
       "│ std        ┆ 2.947076 │\n",
       "│ min        ┆ 1.84705  │\n",
       "│ 25%        ┆ 2.582056 │\n",
       "│ 50%        ┆ 2.99     │\n",
       "│ 75%        ┆ 3.438107 │\n",
       "│ max        ┆ 12.43    │\n",
       "└────────────┴──────────┘"
      ]
     },
     "execution_count": 67,
     "metadata": {},
     "output_type": "execute_result"
    }
   ],
   "source": [
    "avg_sku_price.drop(pl.col('sku_id')).describe()"
   ]
  },
  {
   "cell_type": "markdown",
   "metadata": {},
   "source": [
    "#### Garbage Collect"
   ]
  },
  {
   "cell_type": "code",
   "execution_count": 68,
   "metadata": {},
   "outputs": [
    {
     "data": {
      "text/plain": [
       "730"
      ]
     },
     "execution_count": 68,
     "metadata": {},
     "output_type": "execute_result"
    }
   ],
   "source": [
    "exceptions = ['grocery_lf', 'sku_lf', 'kiwi_lf', 'In', 'exceptions', 'active_variables']\n",
    "\n",
    "active_variables = [\n",
    "    var for var, value in globals().items()\n",
    "    if not var.startswith('_')   # Exclude variables that start with \"_\"\n",
    "    and var not in exceptions    # Exclude variables in the exceptions list\n",
    "    and isinstance(value, (pl.LazyFrame, pl.DataFrame, pl.Series, alt.Chart, alt.LayerChart, list, int, float, str, np.ndarray, np.int64, np.float32))  # Remove these types only\n",
    "]\n",
    "\n",
    "for var in active_variables:\n",
    "    del globals()[var]\n",
    "del active_variables, exceptions, var\n",
    "\n",
    "gc.collect()"
   ]
  },
  {
   "cell_type": "markdown",
   "metadata": {},
   "source": [
    "### Exploring Variation in Buyer Behaviour"
   ]
  },
  {
   "cell_type": "markdown",
   "metadata": {},
   "source": [
    "#### Panellist-Level Data Preparation"
   ]
  },
  {
   "cell_type": "markdown",
   "metadata": {},
   "source": [
    "<div style=\"max-width:600px;margin-left: auto; margin-right: auto;\">\n",
    "<img src=\"references\\Consumer-Panel-Data-Relationship.png\" width=\"600\"/>\n",
    "</div>"
   ]
  },
  {
   "cell_type": "code",
   "execution_count": 69,
   "metadata": {},
   "outputs": [],
   "source": [
    "def trans_summary(brand, lf, year):\n",
    "    \n",
    "    # Primary Step: Filter by Year 1 and Remove Unused Columns\n",
    "    filtered_lf = lf.filter(\n",
    "        (pl.col('week') <= (year * 52)) &\n",
    "        (pl.col('week') >= ((year - 1) * 52))\n",
    "    ).drop(\n",
    "        pl.col('week','sku_id')\n",
    "    )\n",
    "\n",
    "    # Intermediate Step: Group by trans_id, panel_id, and brand\n",
    "    group_trans = filtered_lf.drop(\n",
    "        pl.col('price', 'units')\n",
    "    ).group_by(\n",
    "        'trans_id', 'panel_id', 'brand'\n",
    "    ).n_unique()\n",
    "    \n",
    "    if brand == \"Category\":\n",
    "        # Panellist-level category transaction summary\n",
    "        trans = group_trans.group_by(\n",
    "            'panel_id'\n",
    "        ).n_unique()\n",
    "    else:\n",
    "        # Panellist-level brand transaction summary\n",
    "        trans = group_trans.filter(\n",
    "            pl.col('brand') == brand\n",
    "        ).group_by(\n",
    "            'panel_id'\n",
    "        ).n_unique()\n",
    "    \n",
    "    return trans.select(\n",
    "        pl.col('panel_id'),\n",
    "        pl.col('trans_id').alias('# of Purchases'),\n",
    "        pl.col('brand').alias('Brands Purchased')\n",
    "    )"
   ]
  },
  {
   "cell_type": "code",
   "execution_count": 70,
   "metadata": {},
   "outputs": [],
   "source": [
    "def trans_pivot(lf, year):\n",
    "    \n",
    "    # Primary Step: Filter by Year 1 and Remove Unused Columns\n",
    "    filtered_lf = lf.filter(\n",
    "        (pl.col('week') <= (year * 52)) &\n",
    "        (pl.col('week') >= ((year - 1) * 52))\n",
    "    ).drop(\n",
    "        pl.col('week','sku_id')\n",
    "    )\n",
    "\n",
    "    # Intermediate Step: Group by trans_id, panel_id, and brand\n",
    "    group_trans = filtered_lf.drop(\n",
    "        pl.col('price', 'units')\n",
    "    ).group_by(\n",
    "        'trans_id', 'panel_id', 'brand'\n",
    "    ).n_unique()\n",
    "    \n",
    "    trans = group_trans.collect().pivot(\n",
    "        on='brand',\n",
    "        index='panel_id',\n",
    "        values='panel_id',\n",
    "        aggregate_function=\"len\"\n",
    "        \n",
    "    ).join(\n",
    "        other=group_trans.group_by('panel_id').n_unique().drop('brand').collect(),\n",
    "        on='panel_id'\n",
    "    ).rename(\n",
    "        {'trans_id': 'Category'}\n",
    "    ).drop(\n",
    "        pl.col('panel_id')\n",
    "    )\n",
    "    \n",
    "    return trans"
   ]
  },
  {
   "cell_type": "code",
   "execution_count": 71,
   "metadata": {},
   "outputs": [],
   "source": [
    "def spend_summary(brand, lf, year):\n",
    "    \n",
    "    group_spend = lf.filter(\n",
    "        (pl.col('week') <= (year * 52)) &\n",
    "        (pl.col('week') >= ((year - 1) * 52))\n",
    "    ).drop(\n",
    "        pl.col('week','sku_id')\n",
    "    ).with_columns(\n",
    "        ((pl.col('units') * pl.col('price')).cast(pl.Float64)).alias('spend')\n",
    "    )\n",
    "    \n",
    "    if brand == \"Category\":\n",
    "        # Panellist-level category spend summary\n",
    "        trans = group_spend.drop(\n",
    "            pl.col('units', 'price', 'brand')\n",
    "        ).group_by(\n",
    "            'panel_id'\n",
    "        ).agg(\n",
    "            pl.col('spend').sum()\n",
    "        ).drop('panel_id')\n",
    "    else:\n",
    "        # Panellist-level brand spend summary\n",
    "        trans = group_spend.drop(\n",
    "            pl.col('units', 'price')\n",
    "        ).group_by(\n",
    "            'panel_id', 'brand'\n",
    "        ).agg(\n",
    "            pl.col('spend').sum()\n",
    "        ).filter(\n",
    "            pl.col('brand') == brand\n",
    "        ).drop('brand', 'panel_id')\n",
    "        \n",
    "    return trans"
   ]
  },
  {
   "cell_type": "markdown",
   "metadata": {},
   "source": [
    "#### Examining Purchase Frequency"
   ]
  },
  {
   "cell_type": "code",
   "execution_count": 72,
   "metadata": {},
   "outputs": [
    {
     "data": {
      "text/html": [
       "<div id=\"bynbrnpbxp\" style=\"padding-left:0px;padding-right:0px;padding-top:10px;padding-bottom:10px;overflow-x:auto;overflow-y:auto;width:auto;height:auto;\">\n",
       "<style>\n",
       "#bynbrnpbxp table {\n",
       "          font-family: -apple-system, BlinkMacSystemFont, 'Segoe UI', Roboto, Oxygen, Ubuntu, Cantarell, 'Helvetica Neue', 'Fira Sans', 'Droid Sans', Arial, sans-serif;\n",
       "          -webkit-font-smoothing: antialiased;\n",
       "          -moz-osx-font-smoothing: grayscale;\n",
       "        }\n",
       "\n",
       "#bynbrnpbxp thead, tbody, tfoot, tr, td, th { border-style: none !important; }\n",
       " tr { background-color: transparent !important; }\n",
       "#bynbrnpbxp p { margin: 0 !important; padding: 0 !important; }\n",
       " #bynbrnpbxp .gt_table { display: table !important; border-collapse: collapse !important; line-height: normal !important; margin-left: auto !important; margin-right: auto !important; color: #333333 !important; font-size: 16px !important; font-weight: normal !important; font-style: normal !important; background-color: #FFFFFF !important; width: auto !important; border-top-style: solid !important; border-top-width: 2px !important; border-top-color: #A8A8A8 !important; border-right-style: none !important; border-right-width: 2px !important; border-right-color: #D3D3D3 !important; border-bottom-style: solid !important; border-bottom-width: 2px !important; border-bottom-color: #A8A8A8 !important; border-left-style: none !important; border-left-width: 2px !important; border-left-color: #D3D3D3 !important; }\n",
       " #bynbrnpbxp .gt_caption { padding-top: 4px !important; padding-bottom: 4px !important; }\n",
       " #bynbrnpbxp .gt_title { color: #333333 !important; font-size: 125% !important; font-weight: initial !important; padding-top: 4px !important; padding-bottom: 4px !important; padding-left: 5px !important; padding-right: 5px !important; border-bottom-color: #FFFFFF !important; border-bottom-width: 0 !important; }\n",
       " #bynbrnpbxp .gt_subtitle { color: #333333 !important; font-size: 85% !important; font-weight: initial !important; padding-top: 3px !important; padding-bottom: 5px !important; padding-left: 5px !important; padding-right: 5px !important; border-top-color: #FFFFFF !important; border-top-width: 0 !important; }\n",
       " #bynbrnpbxp .gt_heading { background-color: #FFFFFF !important; text-align: center !important; border-bottom-color: #FFFFFF !important; border-left-style: none !important; border-left-width: 1px !important; border-left-color: #D3D3D3 !important; border-right-style: none !important; border-right-width: 1px !important; border-right-color: #D3D3D3 !important; }\n",
       " #bynbrnpbxp .gt_bottom_border { border-bottom-style: solid !important; border-bottom-width: 2px !important; border-bottom-color: #D3D3D3 !important; }\n",
       " #bynbrnpbxp .gt_col_headings { border-top-style: solid !important; border-top-width: 2px !important; border-top-color: #D3D3D3 !important; border-bottom-style: solid !important; border-bottom-width: 2px !important; border-bottom-color: #D3D3D3 !important; border-left-style: none !important; border-left-width: 1px !important; border-left-color: #D3D3D3 !important; border-right-style: none !important; border-right-width: 1px !important; border-right-color: #D3D3D3 !important; }\n",
       " #bynbrnpbxp .gt_col_heading { color: #333333 !important; background-color: #FFFFFF !important; font-size: 100% !important; font-weight: normal !important; text-transform: inherit !important; border-left-style: none !important; border-left-width: 1px !important; border-left-color: #D3D3D3 !important; border-right-style: none !important; border-right-width: 1px !important; border-right-color: #D3D3D3 !important; vertical-align: bottom !important; padding-top: 5px !important; padding-bottom: 5px !important; padding-left: 5px !important; padding-right: 5px !important; overflow-x: hidden !important; }\n",
       " #bynbrnpbxp .gt_column_spanner_outer { color: #333333 !important; background-color: #FFFFFF !important; font-size: 100% !important; font-weight: normal !important; text-transform: inherit !important; padding-top: 0 !important; padding-bottom: 0 !important; padding-left: 4px !important; padding-right: 4px !important; }\n",
       " #bynbrnpbxp .gt_column_spanner_outer:first-child { padding-left: 0 !important; }\n",
       " #bynbrnpbxp .gt_column_spanner_outer:last-child { padding-right: 0 !important; }\n",
       " #bynbrnpbxp .gt_column_spanner { border-bottom-style: solid !important; border-bottom-width: 2px !important; border-bottom-color: #D3D3D3 !important; vertical-align: bottom !important; padding-top: 5px !important; padding-bottom: 5px !important; overflow-x: hidden !important; display: inline-block !important; width: 100% !important; }\n",
       " #bynbrnpbxp .gt_spanner_row { border-bottom-style: hidden !important; }\n",
       " #bynbrnpbxp .gt_group_heading { padding-top: 8px !important; padding-bottom: 8px !important; padding-left: 5px !important; padding-right: 5px !important; color: #333333 !important; background-color: #FFFFFF !important; font-size: 100% !important; font-weight: initial !important; text-transform: inherit !important; border-top-style: solid !important; border-top-width: 2px !important; border-top-color: #D3D3D3 !important; border-bottom-style: solid !important; border-bottom-width: 2px !important; border-bottom-color: #D3D3D3 !important; border-left-style: none !important; border-left-width: 1px !important; border-left-color: #D3D3D3 !important; border-right-style: none !important; border-right-width: 1px !important; border-right-color: #D3D3D3 !important; vertical-align: middle !important; text-align: left !important; }\n",
       " #bynbrnpbxp .gt_empty_group_heading { padding: 0.5px !important; color: #333333 !important; background-color: #FFFFFF !important; font-size: 100% !important; font-weight: initial !important; border-top-style: solid !important; border-top-width: 2px !important; border-top-color: #D3D3D3 !important; border-bottom-style: solid !important; border-bottom-width: 2px !important; border-bottom-color: #D3D3D3 !important; vertical-align: middle !important; }\n",
       " #bynbrnpbxp .gt_from_md> :first-child { margin-top: 0 !important; }\n",
       " #bynbrnpbxp .gt_from_md> :last-child { margin-bottom: 0 !important; }\n",
       " #bynbrnpbxp .gt_row { padding-top: 8px !important; padding-bottom: 8px !important; padding-left: 5px !important; padding-right: 5px !important; margin: 10px !important; border-top-style: solid !important; border-top-width: 1px !important; border-top-color: #D3D3D3 !important; border-left-style: none !important; border-left-width: 1px !important; border-left-color: #D3D3D3 !important; border-right-style: none !important; border-right-width: 1px !important; border-right-color: #D3D3D3 !important; vertical-align: middle !important; overflow-x: hidden !important; }\n",
       " #bynbrnpbxp .gt_stub { color: #333333 !important; background-color: #FFFFFF !important; font-size: 100% !important; font-weight: initial !important; text-transform: inherit !important; border-right-style: solid !important; border-right-width: 2px !important; border-right-color: #D3D3D3 !important; padding-left: 5px !important; padding-right: 5px !important; }\n",
       " #bynbrnpbxp .gt_stub_row_group { color: #333333 !important; background-color: #FFFFFF !important; font-size: 100% !important; font-weight: initial !important; text-transform: inherit !important; border-right-style: solid !important; border-right-width: 2px !important; border-right-color: #D3D3D3 !important; padding-left: 5px !important; padding-right: 5px !important; vertical-align: top !important; }\n",
       " #bynbrnpbxp .gt_row_group_first td { border-top-width: 2px !important; }\n",
       " #bynbrnpbxp .gt_row_group_first th { border-top-width: 2px !important; }\n",
       " #bynbrnpbxp .gt_striped { background-color: rgba(128,128,128,0.05) !important; }\n",
       " #bynbrnpbxp .gt_table_body { border-top-style: solid !important; border-top-width: 2px !important; border-top-color: #D3D3D3 !important; border-bottom-style: solid !important; border-bottom-width: 2px !important; border-bottom-color: #D3D3D3 !important; }\n",
       " #bynbrnpbxp .gt_sourcenotes { color: #333333 !important; background-color: #FFFFFF !important; border-bottom-style: none !important; border-bottom-width: 2px !important; border-bottom-color: #D3D3D3 !important; border-left-style: none !important; border-left-width: 2px !important; border-left-color: #D3D3D3 !important; border-right-style: none !important; border-right-width: 2px !important; border-right-color: #D3D3D3 !important; }\n",
       " #bynbrnpbxp .gt_sourcenote { font-size: 90% !important; padding-top: 4px !important; padding-bottom: 4px !important; padding-left: 5px !important; padding-right: 5px !important; text-align: left !important; }\n",
       " #bynbrnpbxp .gt_left { text-align: left !important; }\n",
       " #bynbrnpbxp .gt_center { text-align: center !important; }\n",
       " #bynbrnpbxp .gt_right { text-align: right !important; font-variant-numeric: tabular-nums !important; }\n",
       " #bynbrnpbxp .gt_font_normal { font-weight: normal !important; }\n",
       " #bynbrnpbxp .gt_font_bold { font-weight: bold !important; }\n",
       " #bynbrnpbxp .gt_font_italic { font-style: italic !important; }\n",
       " #bynbrnpbxp .gt_super { font-size: 65% !important; }\n",
       " #bynbrnpbxp .gt_footnote_marks { font-size: 75% !important; vertical-align: 0.4em !important; position: initial !important; }\n",
       " #bynbrnpbxp .gt_asterisk { font-size: 100% !important; vertical-align: 0 !important; }\n",
       " \n",
       "</style>\n",
       "<table class=\"gt_table\" data-quarto-disable-processing=\"false\" data-quarto-bootstrap=\"false\">\n",
       "<thead>\n",
       "\n",
       "  <tr class=\"gt_heading\">\n",
       "    <td colspan=\"2\" class=\"gt_heading gt_title gt_font_normal\">Purchase Occasions by Buyers</td>\n",
       "  </tr>\n",
       "<tr class=\"gt_col_headings\">\n",
       "  <th class=\"gt_col_heading gt_columns_bottom_border gt_left\" rowspan=\"1\" colspan=\"1\" scope=\"col\" id=\"Brands/Category\">Brands/Category</th>\n",
       "  <th class=\"gt_col_heading gt_columns_bottom_border gt_center\" rowspan=\"1\" colspan=\"1\" scope=\"col\" id=\"# Of Transactions\"># Of Transactions</th>\n",
       "</tr>\n",
       "</thead>\n",
       "<tbody class=\"gt_table_body\">\n",
       "  <tr>\n",
       "    <th style=\"color: #000000; background-color: #808080;\" class=\"gt_row gt_left gt_stub\">Alpha</th>\n",
       "    <td style=\"color: #FFFFFF; background-color: #7a4da6;\" class=\"gt_row gt_center\">2,624</td>\n",
       "  </tr>\n",
       "  <tr>\n",
       "    <th style=\"color: #000000; background-color: #808080;\" class=\"gt_row gt_left gt_stub\">Bravo</th>\n",
       "    <td style=\"color: #FFFFFF; background-color: #7d52a8;\" class=\"gt_row gt_center\">2,562</td>\n",
       "  </tr>\n",
       "  <tr>\n",
       "    <th style=\"color: #000000; background-color: #808080;\" class=\"gt_row gt_left gt_stub\">Charlie</th>\n",
       "    <td style=\"color: #000000; background-color: #d9cde6;\" class=\"gt_row gt_center\">813</td>\n",
       "  </tr>\n",
       "  <tr>\n",
       "    <th style=\"color: #000000; background-color: #808080;\" class=\"gt_row gt_left gt_stub\">Delta</th>\n",
       "    <td style=\"color: #000000; background-color: #f0ebf5;\" class=\"gt_row gt_center\">380</td>\n",
       "  </tr>\n",
       "  <tr>\n",
       "    <th style=\"color: #000000; background-color: #808080;\" class=\"gt_row gt_left gt_stub\">Other</th>\n",
       "    <td style=\"color: #000000; background-color: #fbfafc;\" class=\"gt_row gt_center\">176</td>\n",
       "  </tr>\n",
       "  <tr>\n",
       "    <th class=\"gt_row gt_left gt_stub\">Category</th>\n",
       "    <td class=\"gt_row gt_center\">4,574</td>\n",
       "  </tr>\n",
       "</tbody>\n",
       "\n",
       "\n",
       "</table>\n",
       "\n",
       "</div>\n",
       "        "
      ],
      "text/plain": [
       "GT(_tbl_data=shape: (6, 2)\n",
       "┌──────────┬────────┐\n",
       "│ brand    ┆ buyers │\n",
       "│ ---      ┆ ---    │\n",
       "│ str      ┆ u32    │\n",
       "╞══════════╪════════╡\n",
       "│ Alpha    ┆ 2624   │\n",
       "│ Bravo    ┆ 2562   │\n",
       "│ Charlie  ┆ 813    │\n",
       "│ Delta    ┆ 380    │\n",
       "│ Other    ┆ 176    │\n",
       "│ Category ┆ 4574   │\n",
       "└──────────┴────────┘, _body=<great_tables._gt_data.Body object at 0x10e99c460>, _boxhead=Boxhead([ColInfo(var='brand', type=<ColInfoTypeEnum.stub: 2>, column_label='brand', column_align='left', column_width=None), ColInfo(var='buyers', type=<ColInfoTypeEnum.default: 1>, column_label='# Of Transactions', column_align='center', column_width=None)]), _stub=<great_tables._gt_data.Stub object at 0x1058204b0>, _spanners=Spanners([]), _heading=Heading(title='Purchase Occasions by Buyers', subtitle=None, preheader=None), _stubhead='Brands/Category', _source_notes=[], _footnotes=[], _styles=[StyleInfo(locname=LocBody(columns='brand', rows=[0]), grpname=None, colname='brand', rownum=0, colnum=None, styles=[CellStyleText(color='#000000', font=None, size=None, align=None, v_align=None, style=None, weight=None, stretch=None, decorate=None, transform=None, whitespace=None), CellStyleFill(color='#808080')]), StyleInfo(locname=LocBody(columns='brand', rows=[1]), grpname=None, colname='brand', rownum=1, colnum=None, styles=[CellStyleText(color='#000000', font=None, size=None, align=None, v_align=None, style=None, weight=None, stretch=None, decorate=None, transform=None, whitespace=None), CellStyleFill(color='#808080')]), StyleInfo(locname=LocBody(columns='brand', rows=[2]), grpname=None, colname='brand', rownum=2, colnum=None, styles=[CellStyleText(color='#000000', font=None, size=None, align=None, v_align=None, style=None, weight=None, stretch=None, decorate=None, transform=None, whitespace=None), CellStyleFill(color='#808080')]), StyleInfo(locname=LocBody(columns='brand', rows=[3]), grpname=None, colname='brand', rownum=3, colnum=None, styles=[CellStyleText(color='#000000', font=None, size=None, align=None, v_align=None, style=None, weight=None, stretch=None, decorate=None, transform=None, whitespace=None), CellStyleFill(color='#808080')]), StyleInfo(locname=LocBody(columns='brand', rows=[4]), grpname=None, colname='brand', rownum=4, colnum=None, styles=[CellStyleText(color='#000000', font=None, size=None, align=None, v_align=None, style=None, weight=None, stretch=None, decorate=None, transform=None, whitespace=None), CellStyleFill(color='#808080')]), StyleInfo(locname=LocBody(columns='buyers', rows=[0]), grpname=None, colname='buyers', rownum=0, colnum=None, styles=[CellStyleText(color='#FFFFFF', font=None, size=None, align=None, v_align=None, style=None, weight=None, stretch=None, decorate=None, transform=None, whitespace=None), CellStyleFill(color='#7a4da6')]), StyleInfo(locname=LocBody(columns='buyers', rows=[1]), grpname=None, colname='buyers', rownum=1, colnum=None, styles=[CellStyleText(color='#FFFFFF', font=None, size=None, align=None, v_align=None, style=None, weight=None, stretch=None, decorate=None, transform=None, whitespace=None), CellStyleFill(color='#7d52a8')]), StyleInfo(locname=LocBody(columns='buyers', rows=[2]), grpname=None, colname='buyers', rownum=2, colnum=None, styles=[CellStyleText(color='#000000', font=None, size=None, align=None, v_align=None, style=None, weight=None, stretch=None, decorate=None, transform=None, whitespace=None), CellStyleFill(color='#d9cde6')]), StyleInfo(locname=LocBody(columns='buyers', rows=[3]), grpname=None, colname='buyers', rownum=3, colnum=None, styles=[CellStyleText(color='#000000', font=None, size=None, align=None, v_align=None, style=None, weight=None, stretch=None, decorate=None, transform=None, whitespace=None), CellStyleFill(color='#f0ebf5')]), StyleInfo(locname=LocBody(columns='buyers', rows=[4]), grpname=None, colname='buyers', rownum=4, colnum=None, styles=[CellStyleText(color='#000000', font=None, size=None, align=None, v_align=None, style=None, weight=None, stretch=None, decorate=None, transform=None, whitespace=None), CellStyleFill(color='#fbfafc')])], _locale=<great_tables._gt_data.Locale object at 0x10defeb70>, _formats=[<great_tables._gt_data.FormatInfo object at 0x10b51bf50>], _substitutions=[], _options=Options(table_id=OptionsInfo(scss=False, category='table', type='value', value=None), table_caption=OptionsInfo(scss=False, category='table', type='value', value=None), table_width=OptionsInfo(scss=True, category='table', type='px', value='auto'), table_layout=OptionsInfo(scss=True, category='table', type='value', value='fixed'), table_margin_left=OptionsInfo(scss=True, category='table', type='px', value='auto'), table_margin_right=OptionsInfo(scss=True, category='table', type='px', value='auto'), table_background_color=OptionsInfo(scss=True, category='table', type='value', value='#FFFFFF'), table_additional_css=OptionsInfo(scss=False, category='table', type='values', value=[]), table_font_names=OptionsInfo(scss=False, category='table', type='values', value=['-apple-system', 'BlinkMacSystemFont', 'Segoe UI', 'Roboto', 'Oxygen', 'Ubuntu', 'Cantarell', 'Helvetica Neue', 'Fira Sans', 'Droid Sans', 'Arial', 'sans-serif']), table_font_size=OptionsInfo(scss=True, category='table', type='px', value='16px'), table_font_weight=OptionsInfo(scss=True, category='table', type='value', value='normal'), table_font_style=OptionsInfo(scss=True, category='table', type='value', value='normal'), table_font_color=OptionsInfo(scss=True, category='table', type='value', value='#333333'), table_font_color_light=OptionsInfo(scss=True, category='table', type='value', value='#FFFFFF'), table_border_top_include=OptionsInfo(scss=False, category='table', type='boolean', value=True), table_border_top_style=OptionsInfo(scss=True, category='table', type='value', value='solid'), table_border_top_width=OptionsInfo(scss=True, category='table', type='px', value='2px'), table_border_top_color=OptionsInfo(scss=True, category='table', type='value', value='#A8A8A8'), table_border_right_style=OptionsInfo(scss=True, category='table', type='value', value='none'), table_border_right_width=OptionsInfo(scss=True, category='table', type='px', value='2px'), table_border_right_color=OptionsInfo(scss=True, category='table', type='value', value='#D3D3D3'), table_border_bottom_include=OptionsInfo(scss=False, category='table', type='boolean', value=True), table_border_bottom_style=OptionsInfo(scss=True, category='table', type='value', value='solid'), table_border_bottom_width=OptionsInfo(scss=True, category='table', type='px', value='2px'), table_border_bottom_color=OptionsInfo(scss=True, category='table', type='value', value='#A8A8A8'), table_border_left_style=OptionsInfo(scss=True, category='table', type='value', value='none'), table_border_left_width=OptionsInfo(scss=True, category='table', type='px', value='2px'), table_border_left_color=OptionsInfo(scss=True, category='table', type='value', value='#D3D3D3'), heading_background_color=OptionsInfo(scss=True, category='heading', type='value', value=None), heading_align=OptionsInfo(scss=True, category='heading', type='value', value='center'), heading_title_font_size=OptionsInfo(scss=True, category='heading', type='px', value='125%'), heading_title_font_weight=OptionsInfo(scss=True, category='heading', type='value', value='initial'), heading_subtitle_font_size=OptionsInfo(scss=True, category='heading', type='px', value='85%'), heading_subtitle_font_weight=OptionsInfo(scss=True, category='heading', type='value', value='initial'), heading_padding=OptionsInfo(scss=True, category='heading', type='px', value='4px'), heading_padding_horizontal=OptionsInfo(scss=True, category='heading', type='px', value='5px'), heading_border_bottom_style=OptionsInfo(scss=True, category='heading', type='value', value='solid'), heading_border_bottom_width=OptionsInfo(scss=True, category='heading', type='px', value='2px'), heading_border_bottom_color=OptionsInfo(scss=True, category='heading', type='value', value='#D3D3D3'), heading_border_lr_style=OptionsInfo(scss=True, category='heading', type='value', value='none'), heading_border_lr_width=OptionsInfo(scss=True, category='heading', type='px', value='1px'), heading_border_lr_color=OptionsInfo(scss=True, category='heading', type='value', value='#D3D3D3'), column_labels_background_color=OptionsInfo(scss=True, category='column_labels', type='value', value=None), column_labels_font_size=OptionsInfo(scss=True, category='column_labels', type='px', value='100%'), column_labels_font_weight=OptionsInfo(scss=True, category='column_labels', type='value', value='normal'), column_labels_text_transform=OptionsInfo(scss=True, category='column_labels', type='value', value='inherit'), column_labels_padding=OptionsInfo(scss=True, category='column_labels', type='px', value='5px'), column_labels_padding_horizontal=OptionsInfo(scss=True, category='column_labels', type='px', value='5px'), column_labels_vlines_style=OptionsInfo(scss=True, category='table_body', type='value', value='none'), column_labels_vlines_width=OptionsInfo(scss=True, category='table_body', type='px', value='1px'), column_labels_vlines_color=OptionsInfo(scss=True, category='table_body', type='value', value='#D3D3D3'), column_labels_border_top_style=OptionsInfo(scss=True, category='column_labels', type='value', value='solid'), column_labels_border_top_width=OptionsInfo(scss=True, category='column_labels', type='px', value='2px'), column_labels_border_top_color=OptionsInfo(scss=True, category='column_labels', type='value', value='#D3D3D3'), column_labels_border_bottom_style=OptionsInfo(scss=True, category='column_labels', type='value', value='solid'), column_labels_border_bottom_width=OptionsInfo(scss=True, category='column_labels', type='px', value='2px'), column_labels_border_bottom_color=OptionsInfo(scss=True, category='column_labels', type='value', value='#D3D3D3'), column_labels_border_lr_style=OptionsInfo(scss=True, category='column_labels', type='value', value='none'), column_labels_border_lr_width=OptionsInfo(scss=True, category='column_labels', type='px', value='1px'), column_labels_border_lr_color=OptionsInfo(scss=True, category='column_labels', type='value', value='#D3D3D3'), column_labels_hidden=OptionsInfo(scss=False, category='column_labels', type='boolean', value=False), row_group_background_color=OptionsInfo(scss=True, category='row_group', type='value', value=None), row_group_font_size=OptionsInfo(scss=True, category='row_group', type='px', value='100%'), row_group_font_weight=OptionsInfo(scss=True, category='row_group', type='value', value='initial'), row_group_text_transform=OptionsInfo(scss=True, category='row_group', type='value', value='inherit'), row_group_padding=OptionsInfo(scss=True, category='row_group', type='px', value='8px'), row_group_padding_horizontal=OptionsInfo(scss=True, category='row_group', type='px', value='5px'), row_group_border_top_style=OptionsInfo(scss=True, category='row_group', type='value', value='solid'), row_group_border_top_width=OptionsInfo(scss=True, category='row_group', type='px', value='2px'), row_group_border_top_color=OptionsInfo(scss=True, category='row_group', type='value', value='#D3D3D3'), row_group_border_right_style=OptionsInfo(scss=True, category='row_group', type='value', value='none'), row_group_border_right_width=OptionsInfo(scss=True, category='row_group', type='px', value='1px'), row_group_border_right_color=OptionsInfo(scss=True, category='row_group', type='value', value='#D3D3D3'), row_group_border_bottom_style=OptionsInfo(scss=True, category='row_group', type='value', value='solid'), row_group_border_bottom_width=OptionsInfo(scss=True, category='row_group', type='px', value='2px'), row_group_border_bottom_color=OptionsInfo(scss=True, category='row_group', type='value', value='#D3D3D3'), row_group_border_left_style=OptionsInfo(scss=True, category='row_group', type='value', value='none'), row_group_border_left_width=OptionsInfo(scss=True, category='row_group', type='px', value='1px'), row_group_border_left_color=OptionsInfo(scss=True, category='row_group', type='value', value='#D3D3D3'), row_group_as_column=OptionsInfo(scss=False, category='row_group', type='boolean', value=False), table_body_hlines_style=OptionsInfo(scss=True, category='table_body', type='value', value='solid'), table_body_hlines_width=OptionsInfo(scss=True, category='table_body', type='px', value='1px'), table_body_hlines_color=OptionsInfo(scss=True, category='table_body', type='value', value='#D3D3D3'), table_body_vlines_style=OptionsInfo(scss=True, category='table_body', type='value', value='none'), table_body_vlines_width=OptionsInfo(scss=True, category='table_body', type='px', value='1px'), table_body_vlines_color=OptionsInfo(scss=True, category='table_body', type='value', value='#D3D3D3'), table_body_border_top_style=OptionsInfo(scss=True, category='table_body', type='value', value='solid'), table_body_border_top_width=OptionsInfo(scss=True, category='table_body', type='px', value='2px'), table_body_border_top_color=OptionsInfo(scss=True, category='table_body', type='value', value='#D3D3D3'), table_body_border_bottom_style=OptionsInfo(scss=True, category='table_body', type='value', value='solid'), table_body_border_bottom_width=OptionsInfo(scss=True, category='table_body', type='px', value='2px'), table_body_border_bottom_color=OptionsInfo(scss=True, category='table_body', type='value', value='#D3D3D3'), data_row_padding=OptionsInfo(scss=True, category='data_row', type='px', value='8px'), data_row_padding_horizontal=OptionsInfo(scss=True, category='data_row', type='px', value='5px'), stub_background_color=OptionsInfo(scss=True, category='stub', type='value', value=None), stub_font_size=OptionsInfo(scss=True, category='stub', type='px', value='100%'), stub_font_weight=OptionsInfo(scss=True, category='stub', type='value', value='initial'), stub_text_transform=OptionsInfo(scss=True, category='stub', type='value', value='inherit'), stub_border_style=OptionsInfo(scss=True, category='stub', type='value', value='solid'), stub_border_width=OptionsInfo(scss=True, category='stub', type='px', value='2px'), stub_border_color=OptionsInfo(scss=True, category='stub', type='value', value='#D3D3D3'), stub_row_group_background_color=OptionsInfo(scss=True, category='stub', type='value', value=None), stub_row_group_font_size=OptionsInfo(scss=True, category='stub', type='px', value='100%'), stub_row_group_font_weight=OptionsInfo(scss=True, category='stub', type='value', value='initial'), stub_row_group_text_transform=OptionsInfo(scss=True, category='stub', type='value', value='inherit'), stub_row_group_border_style=OptionsInfo(scss=True, category='stub', type='value', value='solid'), stub_row_group_border_width=OptionsInfo(scss=True, category='stub', type='px', value='2px'), stub_row_group_border_color=OptionsInfo(scss=True, category='stub', type='value', value='#D3D3D3'), source_notes_padding=OptionsInfo(scss=True, category='source_notes', type='px', value='4px'), source_notes_padding_horizontal=OptionsInfo(scss=True, category='source_notes', type='px', value='5px'), source_notes_background_color=OptionsInfo(scss=True, category='source_notes', type='value', value=None), source_notes_font_size=OptionsInfo(scss=True, category='source_notes', type='px', value='90%'), source_notes_border_bottom_style=OptionsInfo(scss=True, category='source_notes', type='value', value='none'), source_notes_border_bottom_width=OptionsInfo(scss=True, category='source_notes', type='px', value='2px'), source_notes_border_bottom_color=OptionsInfo(scss=True, category='source_notes', type='value', value='#D3D3D3'), source_notes_border_lr_style=OptionsInfo(scss=True, category='source_notes', type='value', value='none'), source_notes_border_lr_width=OptionsInfo(scss=True, category='source_notes', type='px', value='2px'), source_notes_border_lr_color=OptionsInfo(scss=True, category='source_notes', type='value', value='#D3D3D3'), source_notes_multiline=OptionsInfo(scss=False, category='source_notes', type='boolean', value=True), source_notes_sep=OptionsInfo(scss=False, category='source_notes', type='value', value=' '), row_striping_background_color=OptionsInfo(scss=True, category='row', type='value', value='rgba(128,128,128,0.05)'), row_striping_include_stub=OptionsInfo(scss=False, category='row', type='boolean', value=False), row_striping_include_table_body=OptionsInfo(scss=False, category='row', type='boolean', value=False), container_width=OptionsInfo(scss=False, category='container', type='px', value='auto'), container_height=OptionsInfo(scss=False, category='container', type='px', value='auto'), container_padding_x=OptionsInfo(scss=False, category='container', type='px', value='0px'), container_padding_y=OptionsInfo(scss=False, category='container', type='px', value='10px'), container_overflow_x=OptionsInfo(scss=False, category='container', type='overflow', value='auto'), container_overflow_y=OptionsInfo(scss=False, category='container', type='overflow', value='auto'), quarto_disable_processing=OptionsInfo(scss=False, category='quarto', type='logical', value=False), quarto_use_bootstrap=OptionsInfo(scss=False, category='quarto', type='logical', value=False)), _has_built=False)"
      ]
     },
     "execution_count": 72,
     "metadata": {},
     "output_type": "execute_result"
    }
   ],
   "source": [
    "buyers = trans_pivot(grocery_lf, 1).count().select(\n",
    "    'Alpha', 'Bravo', 'Charlie', 'Delta', 'Other', 'Category'\n",
    ").unpivot(\n",
    "    variable_name='brand',\n",
    "    value_name='buyers'\n",
    ")\n",
    "\n",
    "(\n",
    "    GT(buyers, rowname_col='brand')\n",
    "    .tab_header(title='Purchase Occasions by Buyers')\n",
    "    .tab_stubhead(label=\"Brands/Category\")\n",
    "    .fmt_integer()\n",
    "    .data_color(\n",
    "        rows=['Alpha', 'Bravo', 'Charlie', 'Delta', 'Other'],\n",
    "        domain=[100, 3_000],\n",
    "        palette=['white', 'rebeccapurple']\n",
    "    )  \n",
    "    .cols_label(buyers='# Of Transactions')\n",
    ")"
   ]
  },
  {
   "cell_type": "code",
   "execution_count": 73,
   "metadata": {},
   "outputs": [
    {
     "data": {
      "text/html": [
       "<div id=\"zkfliqrimr\" style=\"padding-left:0px;padding-right:0px;padding-top:10px;padding-bottom:10px;overflow-x:auto;overflow-y:auto;width:auto;height:auto;\">\n",
       "<style>\n",
       "#zkfliqrimr table {\n",
       "          font-family: -apple-system, BlinkMacSystemFont, 'Segoe UI', Roboto, Oxygen, Ubuntu, Cantarell, 'Helvetica Neue', 'Fira Sans', 'Droid Sans', Arial, sans-serif;\n",
       "          -webkit-font-smoothing: antialiased;\n",
       "          -moz-osx-font-smoothing: grayscale;\n",
       "        }\n",
       "\n",
       "#zkfliqrimr thead, tbody, tfoot, tr, td, th { border-style: none !important; }\n",
       " tr { background-color: transparent !important; }\n",
       "#zkfliqrimr p { margin: 0 !important; padding: 0 !important; }\n",
       " #zkfliqrimr .gt_table { display: table !important; border-collapse: collapse !important; line-height: normal !important; margin-left: auto !important; margin-right: auto !important; color: #333333 !important; font-size: 16px !important; font-weight: normal !important; font-style: normal !important; background-color: #FFFFFF !important; width: auto !important; border-top-style: solid !important; border-top-width: 2px !important; border-top-color: #A8A8A8 !important; border-right-style: none !important; border-right-width: 2px !important; border-right-color: #D3D3D3 !important; border-bottom-style: solid !important; border-bottom-width: 2px !important; border-bottom-color: #A8A8A8 !important; border-left-style: none !important; border-left-width: 2px !important; border-left-color: #D3D3D3 !important; }\n",
       " #zkfliqrimr .gt_caption { padding-top: 4px !important; padding-bottom: 4px !important; }\n",
       " #zkfliqrimr .gt_title { color: #333333 !important; font-size: 125% !important; font-weight: initial !important; padding-top: 4px !important; padding-bottom: 4px !important; padding-left: 5px !important; padding-right: 5px !important; border-bottom-color: #FFFFFF !important; border-bottom-width: 0 !important; }\n",
       " #zkfliqrimr .gt_subtitle { color: #333333 !important; font-size: 85% !important; font-weight: initial !important; padding-top: 3px !important; padding-bottom: 5px !important; padding-left: 5px !important; padding-right: 5px !important; border-top-color: #FFFFFF !important; border-top-width: 0 !important; }\n",
       " #zkfliqrimr .gt_heading { background-color: #FFFFFF !important; text-align: center !important; border-bottom-color: #FFFFFF !important; border-left-style: none !important; border-left-width: 1px !important; border-left-color: #D3D3D3 !important; border-right-style: none !important; border-right-width: 1px !important; border-right-color: #D3D3D3 !important; }\n",
       " #zkfliqrimr .gt_bottom_border { border-bottom-style: solid !important; border-bottom-width: 2px !important; border-bottom-color: #D3D3D3 !important; }\n",
       " #zkfliqrimr .gt_col_headings { border-top-style: solid !important; border-top-width: 2px !important; border-top-color: #D3D3D3 !important; border-bottom-style: solid !important; border-bottom-width: 2px !important; border-bottom-color: #D3D3D3 !important; border-left-style: none !important; border-left-width: 1px !important; border-left-color: #D3D3D3 !important; border-right-style: none !important; border-right-width: 1px !important; border-right-color: #D3D3D3 !important; }\n",
       " #zkfliqrimr .gt_col_heading { color: #333333 !important; background-color: #FFFFFF !important; font-size: 100% !important; font-weight: normal !important; text-transform: inherit !important; border-left-style: none !important; border-left-width: 1px !important; border-left-color: #D3D3D3 !important; border-right-style: none !important; border-right-width: 1px !important; border-right-color: #D3D3D3 !important; vertical-align: bottom !important; padding-top: 5px !important; padding-bottom: 5px !important; padding-left: 5px !important; padding-right: 5px !important; overflow-x: hidden !important; }\n",
       " #zkfliqrimr .gt_column_spanner_outer { color: #333333 !important; background-color: #FFFFFF !important; font-size: 100% !important; font-weight: normal !important; text-transform: inherit !important; padding-top: 0 !important; padding-bottom: 0 !important; padding-left: 4px !important; padding-right: 4px !important; }\n",
       " #zkfliqrimr .gt_column_spanner_outer:first-child { padding-left: 0 !important; }\n",
       " #zkfliqrimr .gt_column_spanner_outer:last-child { padding-right: 0 !important; }\n",
       " #zkfliqrimr .gt_column_spanner { border-bottom-style: solid !important; border-bottom-width: 2px !important; border-bottom-color: #D3D3D3 !important; vertical-align: bottom !important; padding-top: 5px !important; padding-bottom: 5px !important; overflow-x: hidden !important; display: inline-block !important; width: 100% !important; }\n",
       " #zkfliqrimr .gt_spanner_row { border-bottom-style: hidden !important; }\n",
       " #zkfliqrimr .gt_group_heading { padding-top: 8px !important; padding-bottom: 8px !important; padding-left: 5px !important; padding-right: 5px !important; color: #333333 !important; background-color: #FFFFFF !important; font-size: 100% !important; font-weight: initial !important; text-transform: inherit !important; border-top-style: solid !important; border-top-width: 2px !important; border-top-color: #D3D3D3 !important; border-bottom-style: solid !important; border-bottom-width: 2px !important; border-bottom-color: #D3D3D3 !important; border-left-style: none !important; border-left-width: 1px !important; border-left-color: #D3D3D3 !important; border-right-style: none !important; border-right-width: 1px !important; border-right-color: #D3D3D3 !important; vertical-align: middle !important; text-align: left !important; }\n",
       " #zkfliqrimr .gt_empty_group_heading { padding: 0.5px !important; color: #333333 !important; background-color: #FFFFFF !important; font-size: 100% !important; font-weight: initial !important; border-top-style: solid !important; border-top-width: 2px !important; border-top-color: #D3D3D3 !important; border-bottom-style: solid !important; border-bottom-width: 2px !important; border-bottom-color: #D3D3D3 !important; vertical-align: middle !important; }\n",
       " #zkfliqrimr .gt_from_md> :first-child { margin-top: 0 !important; }\n",
       " #zkfliqrimr .gt_from_md> :last-child { margin-bottom: 0 !important; }\n",
       " #zkfliqrimr .gt_row { padding-top: 8px !important; padding-bottom: 8px !important; padding-left: 5px !important; padding-right: 5px !important; margin: 10px !important; border-top-style: solid !important; border-top-width: 1px !important; border-top-color: #D3D3D3 !important; border-left-style: none !important; border-left-width: 1px !important; border-left-color: #D3D3D3 !important; border-right-style: none !important; border-right-width: 1px !important; border-right-color: #D3D3D3 !important; vertical-align: middle !important; overflow-x: hidden !important; }\n",
       " #zkfliqrimr .gt_stub { color: #333333 !important; background-color: #FFFFFF !important; font-size: 100% !important; font-weight: initial !important; text-transform: inherit !important; border-right-style: solid !important; border-right-width: 2px !important; border-right-color: #D3D3D3 !important; padding-left: 5px !important; padding-right: 5px !important; }\n",
       " #zkfliqrimr .gt_stub_row_group { color: #333333 !important; background-color: #FFFFFF !important; font-size: 100% !important; font-weight: initial !important; text-transform: inherit !important; border-right-style: solid !important; border-right-width: 2px !important; border-right-color: #D3D3D3 !important; padding-left: 5px !important; padding-right: 5px !important; vertical-align: top !important; }\n",
       " #zkfliqrimr .gt_row_group_first td { border-top-width: 2px !important; }\n",
       " #zkfliqrimr .gt_row_group_first th { border-top-width: 2px !important; }\n",
       " #zkfliqrimr .gt_striped { background-color: rgba(128,128,128,0.05) !important; }\n",
       " #zkfliqrimr .gt_table_body { border-top-style: solid !important; border-top-width: 2px !important; border-top-color: #D3D3D3 !important; border-bottom-style: solid !important; border-bottom-width: 2px !important; border-bottom-color: #D3D3D3 !important; }\n",
       " #zkfliqrimr .gt_sourcenotes { color: #333333 !important; background-color: #FFFFFF !important; border-bottom-style: none !important; border-bottom-width: 2px !important; border-bottom-color: #D3D3D3 !important; border-left-style: none !important; border-left-width: 2px !important; border-left-color: #D3D3D3 !important; border-right-style: none !important; border-right-width: 2px !important; border-right-color: #D3D3D3 !important; }\n",
       " #zkfliqrimr .gt_sourcenote { font-size: 90% !important; padding-top: 4px !important; padding-bottom: 4px !important; padding-left: 5px !important; padding-right: 5px !important; text-align: left !important; }\n",
       " #zkfliqrimr .gt_left { text-align: left !important; }\n",
       " #zkfliqrimr .gt_center { text-align: center !important; }\n",
       " #zkfliqrimr .gt_right { text-align: right !important; font-variant-numeric: tabular-nums !important; }\n",
       " #zkfliqrimr .gt_font_normal { font-weight: normal !important; }\n",
       " #zkfliqrimr .gt_font_bold { font-weight: bold !important; }\n",
       " #zkfliqrimr .gt_font_italic { font-style: italic !important; }\n",
       " #zkfliqrimr .gt_super { font-size: 65% !important; }\n",
       " #zkfliqrimr .gt_footnote_marks { font-size: 75% !important; vertical-align: 0.4em !important; position: initial !important; }\n",
       " #zkfliqrimr .gt_asterisk { font-size: 100% !important; vertical-align: 0 !important; }\n",
       " \n",
       "</style>\n",
       "<table class=\"gt_table\" data-quarto-disable-processing=\"false\" data-quarto-bootstrap=\"false\">\n",
       "<thead>\n",
       "\n",
       "  <tr class=\"gt_heading\">\n",
       "    <td colspan=\"2\" class=\"gt_heading gt_title gt_font_normal\">Purchase Occasions by Buyers</td>\n",
       "  </tr>\n",
       "<tr class=\"gt_col_headings\">\n",
       "  <th class=\"gt_col_heading gt_columns_bottom_border gt_left\" rowspan=\"1\" colspan=\"1\" scope=\"col\" id=\"Brands/Category\">Brands/Category</th>\n",
       "  <th class=\"gt_col_heading gt_columns_bottom_border gt_center\" rowspan=\"1\" colspan=\"1\" scope=\"col\" id=\"# Of Transactions\"># Of Transactions</th>\n",
       "</tr>\n",
       "</thead>\n",
       "<tbody class=\"gt_table_body\">\n",
       "  <tr>\n",
       "    <th style=\"color: #000000; background-color: #808080;\" class=\"gt_row gt_left gt_stub\">Alpha</th>\n",
       "    <td style=\"color: #FFFFFF; background-color: #7547a3;\" class=\"gt_row gt_center\">9,060</td>\n",
       "  </tr>\n",
       "  <tr>\n",
       "    <th style=\"color: #000000; background-color: #808080;\" class=\"gt_row gt_left gt_stub\">Bravo</th>\n",
       "    <td style=\"color: #FFFFFF; background-color: #8258ac;\" class=\"gt_row gt_center\">8,255</td>\n",
       "  </tr>\n",
       "  <tr>\n",
       "    <th style=\"color: #000000; background-color: #808080;\" class=\"gt_row gt_left gt_stub\">Charlie</th>\n",
       "    <td style=\"color: #000000; background-color: #e7e0ef;\" class=\"gt_row gt_center\">1,882</td>\n",
       "  </tr>\n",
       "  <tr>\n",
       "    <th style=\"color: #000000; background-color: #808080;\" class=\"gt_row gt_left gt_stub\">Delta</th>\n",
       "    <td style=\"color: #000000; background-color: #f8f5fa;\" class=\"gt_row gt_center\">859</td>\n",
       "  </tr>\n",
       "  <tr>\n",
       "    <th style=\"color: #000000; background-color: #808080;\" class=\"gt_row gt_left gt_stub\">Other</th>\n",
       "    <td style=\"color: #000000; background-color: #ffffff;\" class=\"gt_row gt_center\">422</td>\n",
       "  </tr>\n",
       "  <tr>\n",
       "    <th class=\"gt_row gt_left gt_stub\">Category</th>\n",
       "    <td class=\"gt_row gt_center\">20,030</td>\n",
       "  </tr>\n",
       "</tbody>\n",
       "\n",
       "\n",
       "</table>\n",
       "\n",
       "</div>\n",
       "        "
      ],
      "text/plain": [
       "GT(_tbl_data=shape: (6, 2)\n",
       "┌──────────┬──────────────┐\n",
       "│ brand    ┆ transactions │\n",
       "│ ---      ┆ ---          │\n",
       "│ str      ┆ u32          │\n",
       "╞══════════╪══════════════╡\n",
       "│ Alpha    ┆ 9060         │\n",
       "│ Bravo    ┆ 8255         │\n",
       "│ Charlie  ┆ 1882         │\n",
       "│ Delta    ┆ 859          │\n",
       "│ Other    ┆ 422          │\n",
       "│ Category ┆ 20030        │\n",
       "└──────────┴──────────────┘, _body=<great_tables._gt_data.Body object at 0x10e99d400>, _boxhead=Boxhead([ColInfo(var='brand', type=<ColInfoTypeEnum.stub: 2>, column_label='brand', column_align='left', column_width=None), ColInfo(var='transactions', type=<ColInfoTypeEnum.default: 1>, column_label='# Of Transactions', column_align='center', column_width=None)]), _stub=<great_tables._gt_data.Stub object at 0x105f85810>, _spanners=Spanners([]), _heading=Heading(title='Purchase Occasions by Buyers', subtitle=None, preheader=None), _stubhead='Brands/Category', _source_notes=[], _footnotes=[], _styles=[StyleInfo(locname=LocBody(columns='brand', rows=[0]), grpname=None, colname='brand', rownum=0, colnum=None, styles=[CellStyleText(color='#000000', font=None, size=None, align=None, v_align=None, style=None, weight=None, stretch=None, decorate=None, transform=None, whitespace=None), CellStyleFill(color='#808080')]), StyleInfo(locname=LocBody(columns='brand', rows=[1]), grpname=None, colname='brand', rownum=1, colnum=None, styles=[CellStyleText(color='#000000', font=None, size=None, align=None, v_align=None, style=None, weight=None, stretch=None, decorate=None, transform=None, whitespace=None), CellStyleFill(color='#808080')]), StyleInfo(locname=LocBody(columns='brand', rows=[2]), grpname=None, colname='brand', rownum=2, colnum=None, styles=[CellStyleText(color='#000000', font=None, size=None, align=None, v_align=None, style=None, weight=None, stretch=None, decorate=None, transform=None, whitespace=None), CellStyleFill(color='#808080')]), StyleInfo(locname=LocBody(columns='brand', rows=[3]), grpname=None, colname='brand', rownum=3, colnum=None, styles=[CellStyleText(color='#000000', font=None, size=None, align=None, v_align=None, style=None, weight=None, stretch=None, decorate=None, transform=None, whitespace=None), CellStyleFill(color='#808080')]), StyleInfo(locname=LocBody(columns='brand', rows=[4]), grpname=None, colname='brand', rownum=4, colnum=None, styles=[CellStyleText(color='#000000', font=None, size=None, align=None, v_align=None, style=None, weight=None, stretch=None, decorate=None, transform=None, whitespace=None), CellStyleFill(color='#808080')]), StyleInfo(locname=LocBody(columns='transactions', rows=[0]), grpname=None, colname='transactions', rownum=0, colnum=None, styles=[CellStyleText(color='#FFFFFF', font=None, size=None, align=None, v_align=None, style=None, weight=None, stretch=None, decorate=None, transform=None, whitespace=None), CellStyleFill(color='#7547a3')]), StyleInfo(locname=LocBody(columns='transactions', rows=[1]), grpname=None, colname='transactions', rownum=1, colnum=None, styles=[CellStyleText(color='#FFFFFF', font=None, size=None, align=None, v_align=None, style=None, weight=None, stretch=None, decorate=None, transform=None, whitespace=None), CellStyleFill(color='#8258ac')]), StyleInfo(locname=LocBody(columns='transactions', rows=[2]), grpname=None, colname='transactions', rownum=2, colnum=None, styles=[CellStyleText(color='#000000', font=None, size=None, align=None, v_align=None, style=None, weight=None, stretch=None, decorate=None, transform=None, whitespace=None), CellStyleFill(color='#e7e0ef')]), StyleInfo(locname=LocBody(columns='transactions', rows=[3]), grpname=None, colname='transactions', rownum=3, colnum=None, styles=[CellStyleText(color='#000000', font=None, size=None, align=None, v_align=None, style=None, weight=None, stretch=None, decorate=None, transform=None, whitespace=None), CellStyleFill(color='#f8f5fa')]), StyleInfo(locname=LocBody(columns='transactions', rows=[4]), grpname=None, colname='transactions', rownum=4, colnum=None, styles=[CellStyleText(color='#000000', font=None, size=None, align=None, v_align=None, style=None, weight=None, stretch=None, decorate=None, transform=None, whitespace=None), CellStyleFill(color='#ffffff')])], _locale=<great_tables._gt_data.Locale object at 0x10defefd0>, _formats=[<great_tables._gt_data.FormatInfo object at 0x10e8fc850>], _substitutions=[], _options=Options(table_id=OptionsInfo(scss=False, category='table', type='value', value=None), table_caption=OptionsInfo(scss=False, category='table', type='value', value=None), table_width=OptionsInfo(scss=True, category='table', type='px', value='auto'), table_layout=OptionsInfo(scss=True, category='table', type='value', value='fixed'), table_margin_left=OptionsInfo(scss=True, category='table', type='px', value='auto'), table_margin_right=OptionsInfo(scss=True, category='table', type='px', value='auto'), table_background_color=OptionsInfo(scss=True, category='table', type='value', value='#FFFFFF'), table_additional_css=OptionsInfo(scss=False, category='table', type='values', value=[]), table_font_names=OptionsInfo(scss=False, category='table', type='values', value=['-apple-system', 'BlinkMacSystemFont', 'Segoe UI', 'Roboto', 'Oxygen', 'Ubuntu', 'Cantarell', 'Helvetica Neue', 'Fira Sans', 'Droid Sans', 'Arial', 'sans-serif']), table_font_size=OptionsInfo(scss=True, category='table', type='px', value='16px'), table_font_weight=OptionsInfo(scss=True, category='table', type='value', value='normal'), table_font_style=OptionsInfo(scss=True, category='table', type='value', value='normal'), table_font_color=OptionsInfo(scss=True, category='table', type='value', value='#333333'), table_font_color_light=OptionsInfo(scss=True, category='table', type='value', value='#FFFFFF'), table_border_top_include=OptionsInfo(scss=False, category='table', type='boolean', value=True), table_border_top_style=OptionsInfo(scss=True, category='table', type='value', value='solid'), table_border_top_width=OptionsInfo(scss=True, category='table', type='px', value='2px'), table_border_top_color=OptionsInfo(scss=True, category='table', type='value', value='#A8A8A8'), table_border_right_style=OptionsInfo(scss=True, category='table', type='value', value='none'), table_border_right_width=OptionsInfo(scss=True, category='table', type='px', value='2px'), table_border_right_color=OptionsInfo(scss=True, category='table', type='value', value='#D3D3D3'), table_border_bottom_include=OptionsInfo(scss=False, category='table', type='boolean', value=True), table_border_bottom_style=OptionsInfo(scss=True, category='table', type='value', value='solid'), table_border_bottom_width=OptionsInfo(scss=True, category='table', type='px', value='2px'), table_border_bottom_color=OptionsInfo(scss=True, category='table', type='value', value='#A8A8A8'), table_border_left_style=OptionsInfo(scss=True, category='table', type='value', value='none'), table_border_left_width=OptionsInfo(scss=True, category='table', type='px', value='2px'), table_border_left_color=OptionsInfo(scss=True, category='table', type='value', value='#D3D3D3'), heading_background_color=OptionsInfo(scss=True, category='heading', type='value', value=None), heading_align=OptionsInfo(scss=True, category='heading', type='value', value='center'), heading_title_font_size=OptionsInfo(scss=True, category='heading', type='px', value='125%'), heading_title_font_weight=OptionsInfo(scss=True, category='heading', type='value', value='initial'), heading_subtitle_font_size=OptionsInfo(scss=True, category='heading', type='px', value='85%'), heading_subtitle_font_weight=OptionsInfo(scss=True, category='heading', type='value', value='initial'), heading_padding=OptionsInfo(scss=True, category='heading', type='px', value='4px'), heading_padding_horizontal=OptionsInfo(scss=True, category='heading', type='px', value='5px'), heading_border_bottom_style=OptionsInfo(scss=True, category='heading', type='value', value='solid'), heading_border_bottom_width=OptionsInfo(scss=True, category='heading', type='px', value='2px'), heading_border_bottom_color=OptionsInfo(scss=True, category='heading', type='value', value='#D3D3D3'), heading_border_lr_style=OptionsInfo(scss=True, category='heading', type='value', value='none'), heading_border_lr_width=OptionsInfo(scss=True, category='heading', type='px', value='1px'), heading_border_lr_color=OptionsInfo(scss=True, category='heading', type='value', value='#D3D3D3'), column_labels_background_color=OptionsInfo(scss=True, category='column_labels', type='value', value=None), column_labels_font_size=OptionsInfo(scss=True, category='column_labels', type='px', value='100%'), column_labels_font_weight=OptionsInfo(scss=True, category='column_labels', type='value', value='normal'), column_labels_text_transform=OptionsInfo(scss=True, category='column_labels', type='value', value='inherit'), column_labels_padding=OptionsInfo(scss=True, category='column_labels', type='px', value='5px'), column_labels_padding_horizontal=OptionsInfo(scss=True, category='column_labels', type='px', value='5px'), column_labels_vlines_style=OptionsInfo(scss=True, category='table_body', type='value', value='none'), column_labels_vlines_width=OptionsInfo(scss=True, category='table_body', type='px', value='1px'), column_labels_vlines_color=OptionsInfo(scss=True, category='table_body', type='value', value='#D3D3D3'), column_labels_border_top_style=OptionsInfo(scss=True, category='column_labels', type='value', value='solid'), column_labels_border_top_width=OptionsInfo(scss=True, category='column_labels', type='px', value='2px'), column_labels_border_top_color=OptionsInfo(scss=True, category='column_labels', type='value', value='#D3D3D3'), column_labels_border_bottom_style=OptionsInfo(scss=True, category='column_labels', type='value', value='solid'), column_labels_border_bottom_width=OptionsInfo(scss=True, category='column_labels', type='px', value='2px'), column_labels_border_bottom_color=OptionsInfo(scss=True, category='column_labels', type='value', value='#D3D3D3'), column_labels_border_lr_style=OptionsInfo(scss=True, category='column_labels', type='value', value='none'), column_labels_border_lr_width=OptionsInfo(scss=True, category='column_labels', type='px', value='1px'), column_labels_border_lr_color=OptionsInfo(scss=True, category='column_labels', type='value', value='#D3D3D3'), column_labels_hidden=OptionsInfo(scss=False, category='column_labels', type='boolean', value=False), row_group_background_color=OptionsInfo(scss=True, category='row_group', type='value', value=None), row_group_font_size=OptionsInfo(scss=True, category='row_group', type='px', value='100%'), row_group_font_weight=OptionsInfo(scss=True, category='row_group', type='value', value='initial'), row_group_text_transform=OptionsInfo(scss=True, category='row_group', type='value', value='inherit'), row_group_padding=OptionsInfo(scss=True, category='row_group', type='px', value='8px'), row_group_padding_horizontal=OptionsInfo(scss=True, category='row_group', type='px', value='5px'), row_group_border_top_style=OptionsInfo(scss=True, category='row_group', type='value', value='solid'), row_group_border_top_width=OptionsInfo(scss=True, category='row_group', type='px', value='2px'), row_group_border_top_color=OptionsInfo(scss=True, category='row_group', type='value', value='#D3D3D3'), row_group_border_right_style=OptionsInfo(scss=True, category='row_group', type='value', value='none'), row_group_border_right_width=OptionsInfo(scss=True, category='row_group', type='px', value='1px'), row_group_border_right_color=OptionsInfo(scss=True, category='row_group', type='value', value='#D3D3D3'), row_group_border_bottom_style=OptionsInfo(scss=True, category='row_group', type='value', value='solid'), row_group_border_bottom_width=OptionsInfo(scss=True, category='row_group', type='px', value='2px'), row_group_border_bottom_color=OptionsInfo(scss=True, category='row_group', type='value', value='#D3D3D3'), row_group_border_left_style=OptionsInfo(scss=True, category='row_group', type='value', value='none'), row_group_border_left_width=OptionsInfo(scss=True, category='row_group', type='px', value='1px'), row_group_border_left_color=OptionsInfo(scss=True, category='row_group', type='value', value='#D3D3D3'), row_group_as_column=OptionsInfo(scss=False, category='row_group', type='boolean', value=False), table_body_hlines_style=OptionsInfo(scss=True, category='table_body', type='value', value='solid'), table_body_hlines_width=OptionsInfo(scss=True, category='table_body', type='px', value='1px'), table_body_hlines_color=OptionsInfo(scss=True, category='table_body', type='value', value='#D3D3D3'), table_body_vlines_style=OptionsInfo(scss=True, category='table_body', type='value', value='none'), table_body_vlines_width=OptionsInfo(scss=True, category='table_body', type='px', value='1px'), table_body_vlines_color=OptionsInfo(scss=True, category='table_body', type='value', value='#D3D3D3'), table_body_border_top_style=OptionsInfo(scss=True, category='table_body', type='value', value='solid'), table_body_border_top_width=OptionsInfo(scss=True, category='table_body', type='px', value='2px'), table_body_border_top_color=OptionsInfo(scss=True, category='table_body', type='value', value='#D3D3D3'), table_body_border_bottom_style=OptionsInfo(scss=True, category='table_body', type='value', value='solid'), table_body_border_bottom_width=OptionsInfo(scss=True, category='table_body', type='px', value='2px'), table_body_border_bottom_color=OptionsInfo(scss=True, category='table_body', type='value', value='#D3D3D3'), data_row_padding=OptionsInfo(scss=True, category='data_row', type='px', value='8px'), data_row_padding_horizontal=OptionsInfo(scss=True, category='data_row', type='px', value='5px'), stub_background_color=OptionsInfo(scss=True, category='stub', type='value', value=None), stub_font_size=OptionsInfo(scss=True, category='stub', type='px', value='100%'), stub_font_weight=OptionsInfo(scss=True, category='stub', type='value', value='initial'), stub_text_transform=OptionsInfo(scss=True, category='stub', type='value', value='inherit'), stub_border_style=OptionsInfo(scss=True, category='stub', type='value', value='solid'), stub_border_width=OptionsInfo(scss=True, category='stub', type='px', value='2px'), stub_border_color=OptionsInfo(scss=True, category='stub', type='value', value='#D3D3D3'), stub_row_group_background_color=OptionsInfo(scss=True, category='stub', type='value', value=None), stub_row_group_font_size=OptionsInfo(scss=True, category='stub', type='px', value='100%'), stub_row_group_font_weight=OptionsInfo(scss=True, category='stub', type='value', value='initial'), stub_row_group_text_transform=OptionsInfo(scss=True, category='stub', type='value', value='inherit'), stub_row_group_border_style=OptionsInfo(scss=True, category='stub', type='value', value='solid'), stub_row_group_border_width=OptionsInfo(scss=True, category='stub', type='px', value='2px'), stub_row_group_border_color=OptionsInfo(scss=True, category='stub', type='value', value='#D3D3D3'), source_notes_padding=OptionsInfo(scss=True, category='source_notes', type='px', value='4px'), source_notes_padding_horizontal=OptionsInfo(scss=True, category='source_notes', type='px', value='5px'), source_notes_background_color=OptionsInfo(scss=True, category='source_notes', type='value', value=None), source_notes_font_size=OptionsInfo(scss=True, category='source_notes', type='px', value='90%'), source_notes_border_bottom_style=OptionsInfo(scss=True, category='source_notes', type='value', value='none'), source_notes_border_bottom_width=OptionsInfo(scss=True, category='source_notes', type='px', value='2px'), source_notes_border_bottom_color=OptionsInfo(scss=True, category='source_notes', type='value', value='#D3D3D3'), source_notes_border_lr_style=OptionsInfo(scss=True, category='source_notes', type='value', value='none'), source_notes_border_lr_width=OptionsInfo(scss=True, category='source_notes', type='px', value='2px'), source_notes_border_lr_color=OptionsInfo(scss=True, category='source_notes', type='value', value='#D3D3D3'), source_notes_multiline=OptionsInfo(scss=False, category='source_notes', type='boolean', value=True), source_notes_sep=OptionsInfo(scss=False, category='source_notes', type='value', value=' '), row_striping_background_color=OptionsInfo(scss=True, category='row', type='value', value='rgba(128,128,128,0.05)'), row_striping_include_stub=OptionsInfo(scss=False, category='row', type='boolean', value=False), row_striping_include_table_body=OptionsInfo(scss=False, category='row', type='boolean', value=False), container_width=OptionsInfo(scss=False, category='container', type='px', value='auto'), container_height=OptionsInfo(scss=False, category='container', type='px', value='auto'), container_padding_x=OptionsInfo(scss=False, category='container', type='px', value='0px'), container_padding_y=OptionsInfo(scss=False, category='container', type='px', value='10px'), container_overflow_x=OptionsInfo(scss=False, category='container', type='overflow', value='auto'), container_overflow_y=OptionsInfo(scss=False, category='container', type='overflow', value='auto'), quarto_disable_processing=OptionsInfo(scss=False, category='quarto', type='logical', value=False), quarto_use_bootstrap=OptionsInfo(scss=False, category='quarto', type='logical', value=False)), _has_built=False)"
      ]
     },
     "execution_count": 73,
     "metadata": {},
     "output_type": "execute_result"
    }
   ],
   "source": [
    "transactions = trans_pivot(grocery_lf, 1).sum().select(\n",
    "    'Alpha', 'Bravo', 'Charlie', 'Delta', 'Other', 'Category'\n",
    ").unpivot(\n",
    "    variable_name='brand',\n",
    "    value_name='transactions'\n",
    ")\n",
    "\n",
    "(\n",
    "    GT(transactions, rowname_col='brand')\n",
    "    .tab_header(title='Purchase Occasions by Buyers')\n",
    "    .tab_stubhead(label=\"Brands/Category\")\n",
    "    .fmt_integer()\n",
    "    .data_color(\n",
    "        rows=['Alpha', 'Bravo', 'Charlie', 'Delta', 'Other'],\n",
    "        domain=[400, 10_000],\n",
    "        palette=[ 'white', 'rebeccapurple']\n",
    "    )  \n",
    "    .cols_label(transactions='# Of Transactions')\n",
    ")"
   ]
  },
  {
   "cell_type": "code",
   "execution_count": 74,
   "metadata": {},
   "outputs": [],
   "source": [
    "panel_size = 5021\n",
    "\n",
    "penetration = buyers.with_columns(\n",
    "    (pl.col('buyers') / panel_size).alias('penetration')\n",
    ")\n",
    "\n",
    "ppb = transactions.with_columns(\n",
    "    (pl.col('transactions') / penetration.get_column('buyers')).alias('ppb')\n",
    ")"
   ]
  },
  {
   "cell_type": "code",
   "execution_count": 75,
   "metadata": {},
   "outputs": [
    {
     "data": {
      "text/html": [
       "<div id=\"pfszbdmiho\" style=\"padding-left:0px;padding-right:0px;padding-top:10px;padding-bottom:10px;overflow-x:auto;overflow-y:auto;width:auto;height:auto;\">\n",
       "<style>\n",
       "#pfszbdmiho table {\n",
       "          font-family: -apple-system, BlinkMacSystemFont, 'Segoe UI', Roboto, Oxygen, Ubuntu, Cantarell, 'Helvetica Neue', 'Fira Sans', 'Droid Sans', Arial, sans-serif;\n",
       "          -webkit-font-smoothing: antialiased;\n",
       "          -moz-osx-font-smoothing: grayscale;\n",
       "        }\n",
       "\n",
       "#pfszbdmiho thead, tbody, tfoot, tr, td, th { border-style: none !important; }\n",
       " tr { background-color: transparent !important; }\n",
       "#pfszbdmiho p { margin: 0 !important; padding: 0 !important; }\n",
       " #pfszbdmiho .gt_table { display: table !important; border-collapse: collapse !important; line-height: normal !important; margin-left: auto !important; margin-right: auto !important; color: #333333 !important; font-size: 16px !important; font-weight: normal !important; font-style: normal !important; background-color: #FFFFFF !important; width: auto !important; border-top-style: solid !important; border-top-width: 2px !important; border-top-color: #A8A8A8 !important; border-right-style: none !important; border-right-width: 2px !important; border-right-color: #D3D3D3 !important; border-bottom-style: solid !important; border-bottom-width: 2px !important; border-bottom-color: #A8A8A8 !important; border-left-style: none !important; border-left-width: 2px !important; border-left-color: #D3D3D3 !important; }\n",
       " #pfszbdmiho .gt_caption { padding-top: 4px !important; padding-bottom: 4px !important; }\n",
       " #pfszbdmiho .gt_title { color: #333333 !important; font-size: 125% !important; font-weight: initial !important; padding-top: 4px !important; padding-bottom: 4px !important; padding-left: 5px !important; padding-right: 5px !important; border-bottom-color: #FFFFFF !important; border-bottom-width: 0 !important; }\n",
       " #pfszbdmiho .gt_subtitle { color: #333333 !important; font-size: 85% !important; font-weight: initial !important; padding-top: 3px !important; padding-bottom: 5px !important; padding-left: 5px !important; padding-right: 5px !important; border-top-color: #FFFFFF !important; border-top-width: 0 !important; }\n",
       " #pfszbdmiho .gt_heading { background-color: #FFFFFF !important; text-align: center !important; border-bottom-color: #FFFFFF !important; border-left-style: none !important; border-left-width: 1px !important; border-left-color: #D3D3D3 !important; border-right-style: none !important; border-right-width: 1px !important; border-right-color: #D3D3D3 !important; }\n",
       " #pfszbdmiho .gt_bottom_border { border-bottom-style: solid !important; border-bottom-width: 2px !important; border-bottom-color: #D3D3D3 !important; }\n",
       " #pfszbdmiho .gt_col_headings { border-top-style: solid !important; border-top-width: 2px !important; border-top-color: #D3D3D3 !important; border-bottom-style: solid !important; border-bottom-width: 2px !important; border-bottom-color: #D3D3D3 !important; border-left-style: none !important; border-left-width: 1px !important; border-left-color: #D3D3D3 !important; border-right-style: none !important; border-right-width: 1px !important; border-right-color: #D3D3D3 !important; }\n",
       " #pfszbdmiho .gt_col_heading { color: #333333 !important; background-color: #FFFFFF !important; font-size: 100% !important; font-weight: normal !important; text-transform: inherit !important; border-left-style: none !important; border-left-width: 1px !important; border-left-color: #D3D3D3 !important; border-right-style: none !important; border-right-width: 1px !important; border-right-color: #D3D3D3 !important; vertical-align: bottom !important; padding-top: 5px !important; padding-bottom: 5px !important; padding-left: 5px !important; padding-right: 5px !important; overflow-x: hidden !important; }\n",
       " #pfszbdmiho .gt_column_spanner_outer { color: #333333 !important; background-color: #FFFFFF !important; font-size: 100% !important; font-weight: normal !important; text-transform: inherit !important; padding-top: 0 !important; padding-bottom: 0 !important; padding-left: 4px !important; padding-right: 4px !important; }\n",
       " #pfszbdmiho .gt_column_spanner_outer:first-child { padding-left: 0 !important; }\n",
       " #pfszbdmiho .gt_column_spanner_outer:last-child { padding-right: 0 !important; }\n",
       " #pfszbdmiho .gt_column_spanner { border-bottom-style: solid !important; border-bottom-width: 2px !important; border-bottom-color: #D3D3D3 !important; vertical-align: bottom !important; padding-top: 5px !important; padding-bottom: 5px !important; overflow-x: hidden !important; display: inline-block !important; width: 100% !important; }\n",
       " #pfszbdmiho .gt_spanner_row { border-bottom-style: hidden !important; }\n",
       " #pfszbdmiho .gt_group_heading { padding-top: 8px !important; padding-bottom: 8px !important; padding-left: 5px !important; padding-right: 5px !important; color: #333333 !important; background-color: #FFFFFF !important; font-size: 100% !important; font-weight: initial !important; text-transform: inherit !important; border-top-style: solid !important; border-top-width: 2px !important; border-top-color: #D3D3D3 !important; border-bottom-style: solid !important; border-bottom-width: 2px !important; border-bottom-color: #D3D3D3 !important; border-left-style: none !important; border-left-width: 1px !important; border-left-color: #D3D3D3 !important; border-right-style: none !important; border-right-width: 1px !important; border-right-color: #D3D3D3 !important; vertical-align: middle !important; text-align: left !important; }\n",
       " #pfszbdmiho .gt_empty_group_heading { padding: 0.5px !important; color: #333333 !important; background-color: #FFFFFF !important; font-size: 100% !important; font-weight: initial !important; border-top-style: solid !important; border-top-width: 2px !important; border-top-color: #D3D3D3 !important; border-bottom-style: solid !important; border-bottom-width: 2px !important; border-bottom-color: #D3D3D3 !important; vertical-align: middle !important; }\n",
       " #pfszbdmiho .gt_from_md> :first-child { margin-top: 0 !important; }\n",
       " #pfszbdmiho .gt_from_md> :last-child { margin-bottom: 0 !important; }\n",
       " #pfszbdmiho .gt_row { padding-top: 8px !important; padding-bottom: 8px !important; padding-left: 5px !important; padding-right: 5px !important; margin: 10px !important; border-top-style: solid !important; border-top-width: 1px !important; border-top-color: #D3D3D3 !important; border-left-style: none !important; border-left-width: 1px !important; border-left-color: #D3D3D3 !important; border-right-style: none !important; border-right-width: 1px !important; border-right-color: #D3D3D3 !important; vertical-align: middle !important; overflow-x: hidden !important; }\n",
       " #pfszbdmiho .gt_stub { color: #333333 !important; background-color: #FFFFFF !important; font-size: 100% !important; font-weight: initial !important; text-transform: inherit !important; border-right-style: solid !important; border-right-width: 2px !important; border-right-color: #D3D3D3 !important; padding-left: 5px !important; padding-right: 5px !important; }\n",
       " #pfszbdmiho .gt_stub_row_group { color: #333333 !important; background-color: #FFFFFF !important; font-size: 100% !important; font-weight: initial !important; text-transform: inherit !important; border-right-style: solid !important; border-right-width: 2px !important; border-right-color: #D3D3D3 !important; padding-left: 5px !important; padding-right: 5px !important; vertical-align: top !important; }\n",
       " #pfszbdmiho .gt_row_group_first td { border-top-width: 2px !important; }\n",
       " #pfszbdmiho .gt_row_group_first th { border-top-width: 2px !important; }\n",
       " #pfszbdmiho .gt_striped { background-color: rgba(128,128,128,0.05) !important; }\n",
       " #pfszbdmiho .gt_table_body { border-top-style: solid !important; border-top-width: 2px !important; border-top-color: #D3D3D3 !important; border-bottom-style: solid !important; border-bottom-width: 2px !important; border-bottom-color: #D3D3D3 !important; }\n",
       " #pfszbdmiho .gt_sourcenotes { color: #333333 !important; background-color: #FFFFFF !important; border-bottom-style: none !important; border-bottom-width: 2px !important; border-bottom-color: #D3D3D3 !important; border-left-style: none !important; border-left-width: 2px !important; border-left-color: #D3D3D3 !important; border-right-style: none !important; border-right-width: 2px !important; border-right-color: #D3D3D3 !important; }\n",
       " #pfszbdmiho .gt_sourcenote { font-size: 90% !important; padding-top: 4px !important; padding-bottom: 4px !important; padding-left: 5px !important; padding-right: 5px !important; text-align: left !important; }\n",
       " #pfszbdmiho .gt_left { text-align: left !important; }\n",
       " #pfszbdmiho .gt_center { text-align: center !important; }\n",
       " #pfszbdmiho .gt_right { text-align: right !important; font-variant-numeric: tabular-nums !important; }\n",
       " #pfszbdmiho .gt_font_normal { font-weight: normal !important; }\n",
       " #pfszbdmiho .gt_font_bold { font-weight: bold !important; }\n",
       " #pfszbdmiho .gt_font_italic { font-style: italic !important; }\n",
       " #pfszbdmiho .gt_super { font-size: 65% !important; }\n",
       " #pfszbdmiho .gt_footnote_marks { font-size: 75% !important; vertical-align: 0.4em !important; position: initial !important; }\n",
       " #pfszbdmiho .gt_asterisk { font-size: 100% !important; vertical-align: 0 !important; }\n",
       " \n",
       "</style>\n",
       "<table class=\"gt_table\" data-quarto-disable-processing=\"false\" data-quarto-bootstrap=\"false\">\n",
       "<thead>\n",
       "\n",
       "  <tr class=\"gt_heading\">\n",
       "    <td colspan=\"2\" class=\"gt_heading gt_title gt_font_normal\">Category Penetration by Brand</td>\n",
       "  </tr>\n",
       "<tr class=\"gt_col_headings\">\n",
       "  <th class=\"gt_col_heading gt_columns_bottom_border gt_left\" rowspan=\"1\" colspan=\"1\" scope=\"col\" id=\"Brands/Category\">Brands/Category</th>\n",
       "  <th class=\"gt_col_heading gt_columns_bottom_border gt_right\" rowspan=\"1\" colspan=\"1\" scope=\"col\" id=\"Penetration (%)\">Penetration (%)</th>\n",
       "</tr>\n",
       "</thead>\n",
       "<tbody class=\"gt_table_body\">\n",
       "  <tr>\n",
       "    <th style=\"color: #000000; background-color: #808080;\" class=\"gt_row gt_left gt_stub\">Alpha</th>\n",
       "    <td style=\"color: #000000; background-color: #af94ca;\" class=\"gt_row gt_right\">52.26%</td>\n",
       "  </tr>\n",
       "  <tr>\n",
       "    <th style=\"color: #000000; background-color: #808080;\" class=\"gt_row gt_left gt_stub\">Bravo</th>\n",
       "    <td style=\"color: #000000; background-color: #b197cb;\" class=\"gt_row gt_right\">51.03%</td>\n",
       "  </tr>\n",
       "  <tr>\n",
       "    <th style=\"color: #000000; background-color: #808080;\" class=\"gt_row gt_left gt_stub\">Charlie</th>\n",
       "    <td style=\"color: #000000; background-color: #e6deee;\" class=\"gt_row gt_right\">16.19%</td>\n",
       "  </tr>\n",
       "  <tr>\n",
       "    <th style=\"color: #000000; background-color: #808080;\" class=\"gt_row gt_left gt_stub\">Delta</th>\n",
       "    <td style=\"color: #000000; background-color: #f3f0f7;\" class=\"gt_row gt_right\">7.57%</td>\n",
       "  </tr>\n",
       "  <tr>\n",
       "    <th style=\"color: #000000; background-color: #808080;\" class=\"gt_row gt_left gt_stub\">Other</th>\n",
       "    <td style=\"color: #000000; background-color: #faf8fb;\" class=\"gt_row gt_right\">3.51%</td>\n",
       "  </tr>\n",
       "  <tr>\n",
       "    <th class=\"gt_row gt_left gt_stub\">Category</th>\n",
       "    <td class=\"gt_row gt_right\">91.10%</td>\n",
       "  </tr>\n",
       "</tbody>\n",
       "\n",
       "\n",
       "</table>\n",
       "\n",
       "</div>\n",
       "        "
      ],
      "text/plain": [
       "GT(_tbl_data=shape: (6, 3)\n",
       "┌──────────┬────────┬─────────────┐\n",
       "│ brand    ┆ buyers ┆ penetration │\n",
       "│ ---      ┆ ---    ┆ ---         │\n",
       "│ str      ┆ u32    ┆ f64         │\n",
       "╞══════════╪════════╪═════════════╡\n",
       "│ Alpha    ┆ 2624   ┆ 0.522605    │\n",
       "│ Bravo    ┆ 2562   ┆ 0.510257    │\n",
       "│ Charlie  ┆ 813    ┆ 0.16192     │\n",
       "│ Delta    ┆ 380    ┆ 0.075682    │\n",
       "│ Other    ┆ 176    ┆ 0.035053    │\n",
       "│ Category ┆ 4574   ┆ 0.910974    │\n",
       "└──────────┴────────┴─────────────┘, _body=<great_tables._gt_data.Body object at 0x10e99dd60>, _boxhead=Boxhead([ColInfo(var='brand', type=<ColInfoTypeEnum.stub: 2>, column_label='brand', column_align='left', column_width=None), ColInfo(var='buyers', type=<ColInfoTypeEnum.hidden: 4>, column_label='buyers', column_align='center', column_width=None), ColInfo(var='penetration', type=<ColInfoTypeEnum.default: 1>, column_label='Penetration (%)', column_align='right', column_width=None)]), _stub=<great_tables._gt_data.Stub object at 0x10debd880>, _spanners=Spanners([]), _heading=Heading(title='Category Penetration by Brand', subtitle=None, preheader=None), _stubhead='Brands/Category', _source_notes=[], _footnotes=[], _styles=[StyleInfo(locname=LocBody(columns='brand', rows=[0]), grpname=None, colname='brand', rownum=0, colnum=None, styles=[CellStyleText(color='#000000', font=None, size=None, align=None, v_align=None, style=None, weight=None, stretch=None, decorate=None, transform=None, whitespace=None), CellStyleFill(color='#808080')]), StyleInfo(locname=LocBody(columns='brand', rows=[1]), grpname=None, colname='brand', rownum=1, colnum=None, styles=[CellStyleText(color='#000000', font=None, size=None, align=None, v_align=None, style=None, weight=None, stretch=None, decorate=None, transform=None, whitespace=None), CellStyleFill(color='#808080')]), StyleInfo(locname=LocBody(columns='brand', rows=[2]), grpname=None, colname='brand', rownum=2, colnum=None, styles=[CellStyleText(color='#000000', font=None, size=None, align=None, v_align=None, style=None, weight=None, stretch=None, decorate=None, transform=None, whitespace=None), CellStyleFill(color='#808080')]), StyleInfo(locname=LocBody(columns='brand', rows=[3]), grpname=None, colname='brand', rownum=3, colnum=None, styles=[CellStyleText(color='#000000', font=None, size=None, align=None, v_align=None, style=None, weight=None, stretch=None, decorate=None, transform=None, whitespace=None), CellStyleFill(color='#808080')]), StyleInfo(locname=LocBody(columns='brand', rows=[4]), grpname=None, colname='brand', rownum=4, colnum=None, styles=[CellStyleText(color='#000000', font=None, size=None, align=None, v_align=None, style=None, weight=None, stretch=None, decorate=None, transform=None, whitespace=None), CellStyleFill(color='#808080')]), StyleInfo(locname=LocBody(columns='buyers', rows=[0]), grpname=None, colname='buyers', rownum=0, colnum=None, styles=[CellStyleText(color='#000000', font=None, size=None, align=None, v_align=None, style=None, weight=None, stretch=None, decorate=None, transform=None, whitespace=None), CellStyleFill(color='#808080')]), StyleInfo(locname=LocBody(columns='buyers', rows=[1]), grpname=None, colname='buyers', rownum=1, colnum=None, styles=[CellStyleText(color='#000000', font=None, size=None, align=None, v_align=None, style=None, weight=None, stretch=None, decorate=None, transform=None, whitespace=None), CellStyleFill(color='#808080')]), StyleInfo(locname=LocBody(columns='buyers', rows=[2]), grpname=None, colname='buyers', rownum=2, colnum=None, styles=[CellStyleText(color='#000000', font=None, size=None, align=None, v_align=None, style=None, weight=None, stretch=None, decorate=None, transform=None, whitespace=None), CellStyleFill(color='#808080')]), StyleInfo(locname=LocBody(columns='buyers', rows=[3]), grpname=None, colname='buyers', rownum=3, colnum=None, styles=[CellStyleText(color='#000000', font=None, size=None, align=None, v_align=None, style=None, weight=None, stretch=None, decorate=None, transform=None, whitespace=None), CellStyleFill(color='#808080')]), StyleInfo(locname=LocBody(columns='buyers', rows=[4]), grpname=None, colname='buyers', rownum=4, colnum=None, styles=[CellStyleText(color='#000000', font=None, size=None, align=None, v_align=None, style=None, weight=None, stretch=None, decorate=None, transform=None, whitespace=None), CellStyleFill(color='#808080')]), StyleInfo(locname=LocBody(columns='penetration', rows=[0]), grpname=None, colname='penetration', rownum=0, colnum=None, styles=[CellStyleText(color='#000000', font=None, size=None, align=None, v_align=None, style=None, weight=None, stretch=None, decorate=None, transform=None, whitespace=None), CellStyleFill(color='#af94ca')]), StyleInfo(locname=LocBody(columns='penetration', rows=[1]), grpname=None, colname='penetration', rownum=1, colnum=None, styles=[CellStyleText(color='#000000', font=None, size=None, align=None, v_align=None, style=None, weight=None, stretch=None, decorate=None, transform=None, whitespace=None), CellStyleFill(color='#b197cb')]), StyleInfo(locname=LocBody(columns='penetration', rows=[2]), grpname=None, colname='penetration', rownum=2, colnum=None, styles=[CellStyleText(color='#000000', font=None, size=None, align=None, v_align=None, style=None, weight=None, stretch=None, decorate=None, transform=None, whitespace=None), CellStyleFill(color='#e6deee')]), StyleInfo(locname=LocBody(columns='penetration', rows=[3]), grpname=None, colname='penetration', rownum=3, colnum=None, styles=[CellStyleText(color='#000000', font=None, size=None, align=None, v_align=None, style=None, weight=None, stretch=None, decorate=None, transform=None, whitespace=None), CellStyleFill(color='#f3f0f7')]), StyleInfo(locname=LocBody(columns='penetration', rows=[4]), grpname=None, colname='penetration', rownum=4, colnum=None, styles=[CellStyleText(color='#000000', font=None, size=None, align=None, v_align=None, style=None, weight=None, stretch=None, decorate=None, transform=None, whitespace=None), CellStyleFill(color='#faf8fb')])], _locale=<great_tables._gt_data.Locale object at 0x10debdeb0>, _formats=[<great_tables._gt_data.FormatInfo object at 0x10e8fd8d0>], _substitutions=[], _options=Options(table_id=OptionsInfo(scss=False, category='table', type='value', value=None), table_caption=OptionsInfo(scss=False, category='table', type='value', value=None), table_width=OptionsInfo(scss=True, category='table', type='px', value='auto'), table_layout=OptionsInfo(scss=True, category='table', type='value', value='fixed'), table_margin_left=OptionsInfo(scss=True, category='table', type='px', value='auto'), table_margin_right=OptionsInfo(scss=True, category='table', type='px', value='auto'), table_background_color=OptionsInfo(scss=True, category='table', type='value', value='#FFFFFF'), table_additional_css=OptionsInfo(scss=False, category='table', type='values', value=[]), table_font_names=OptionsInfo(scss=False, category='table', type='values', value=['-apple-system', 'BlinkMacSystemFont', 'Segoe UI', 'Roboto', 'Oxygen', 'Ubuntu', 'Cantarell', 'Helvetica Neue', 'Fira Sans', 'Droid Sans', 'Arial', 'sans-serif']), table_font_size=OptionsInfo(scss=True, category='table', type='px', value='16px'), table_font_weight=OptionsInfo(scss=True, category='table', type='value', value='normal'), table_font_style=OptionsInfo(scss=True, category='table', type='value', value='normal'), table_font_color=OptionsInfo(scss=True, category='table', type='value', value='#333333'), table_font_color_light=OptionsInfo(scss=True, category='table', type='value', value='#FFFFFF'), table_border_top_include=OptionsInfo(scss=False, category='table', type='boolean', value=True), table_border_top_style=OptionsInfo(scss=True, category='table', type='value', value='solid'), table_border_top_width=OptionsInfo(scss=True, category='table', type='px', value='2px'), table_border_top_color=OptionsInfo(scss=True, category='table', type='value', value='#A8A8A8'), table_border_right_style=OptionsInfo(scss=True, category='table', type='value', value='none'), table_border_right_width=OptionsInfo(scss=True, category='table', type='px', value='2px'), table_border_right_color=OptionsInfo(scss=True, category='table', type='value', value='#D3D3D3'), table_border_bottom_include=OptionsInfo(scss=False, category='table', type='boolean', value=True), table_border_bottom_style=OptionsInfo(scss=True, category='table', type='value', value='solid'), table_border_bottom_width=OptionsInfo(scss=True, category='table', type='px', value='2px'), table_border_bottom_color=OptionsInfo(scss=True, category='table', type='value', value='#A8A8A8'), table_border_left_style=OptionsInfo(scss=True, category='table', type='value', value='none'), table_border_left_width=OptionsInfo(scss=True, category='table', type='px', value='2px'), table_border_left_color=OptionsInfo(scss=True, category='table', type='value', value='#D3D3D3'), heading_background_color=OptionsInfo(scss=True, category='heading', type='value', value=None), heading_align=OptionsInfo(scss=True, category='heading', type='value', value='center'), heading_title_font_size=OptionsInfo(scss=True, category='heading', type='px', value='125%'), heading_title_font_weight=OptionsInfo(scss=True, category='heading', type='value', value='initial'), heading_subtitle_font_size=OptionsInfo(scss=True, category='heading', type='px', value='85%'), heading_subtitle_font_weight=OptionsInfo(scss=True, category='heading', type='value', value='initial'), heading_padding=OptionsInfo(scss=True, category='heading', type='px', value='4px'), heading_padding_horizontal=OptionsInfo(scss=True, category='heading', type='px', value='5px'), heading_border_bottom_style=OptionsInfo(scss=True, category='heading', type='value', value='solid'), heading_border_bottom_width=OptionsInfo(scss=True, category='heading', type='px', value='2px'), heading_border_bottom_color=OptionsInfo(scss=True, category='heading', type='value', value='#D3D3D3'), heading_border_lr_style=OptionsInfo(scss=True, category='heading', type='value', value='none'), heading_border_lr_width=OptionsInfo(scss=True, category='heading', type='px', value='1px'), heading_border_lr_color=OptionsInfo(scss=True, category='heading', type='value', value='#D3D3D3'), column_labels_background_color=OptionsInfo(scss=True, category='column_labels', type='value', value=None), column_labels_font_size=OptionsInfo(scss=True, category='column_labels', type='px', value='100%'), column_labels_font_weight=OptionsInfo(scss=True, category='column_labels', type='value', value='normal'), column_labels_text_transform=OptionsInfo(scss=True, category='column_labels', type='value', value='inherit'), column_labels_padding=OptionsInfo(scss=True, category='column_labels', type='px', value='5px'), column_labels_padding_horizontal=OptionsInfo(scss=True, category='column_labels', type='px', value='5px'), column_labels_vlines_style=OptionsInfo(scss=True, category='table_body', type='value', value='none'), column_labels_vlines_width=OptionsInfo(scss=True, category='table_body', type='px', value='1px'), column_labels_vlines_color=OptionsInfo(scss=True, category='table_body', type='value', value='#D3D3D3'), column_labels_border_top_style=OptionsInfo(scss=True, category='column_labels', type='value', value='solid'), column_labels_border_top_width=OptionsInfo(scss=True, category='column_labels', type='px', value='2px'), column_labels_border_top_color=OptionsInfo(scss=True, category='column_labels', type='value', value='#D3D3D3'), column_labels_border_bottom_style=OptionsInfo(scss=True, category='column_labels', type='value', value='solid'), column_labels_border_bottom_width=OptionsInfo(scss=True, category='column_labels', type='px', value='2px'), column_labels_border_bottom_color=OptionsInfo(scss=True, category='column_labels', type='value', value='#D3D3D3'), column_labels_border_lr_style=OptionsInfo(scss=True, category='column_labels', type='value', value='none'), column_labels_border_lr_width=OptionsInfo(scss=True, category='column_labels', type='px', value='1px'), column_labels_border_lr_color=OptionsInfo(scss=True, category='column_labels', type='value', value='#D3D3D3'), column_labels_hidden=OptionsInfo(scss=False, category='column_labels', type='boolean', value=False), row_group_background_color=OptionsInfo(scss=True, category='row_group', type='value', value=None), row_group_font_size=OptionsInfo(scss=True, category='row_group', type='px', value='100%'), row_group_font_weight=OptionsInfo(scss=True, category='row_group', type='value', value='initial'), row_group_text_transform=OptionsInfo(scss=True, category='row_group', type='value', value='inherit'), row_group_padding=OptionsInfo(scss=True, category='row_group', type='px', value='8px'), row_group_padding_horizontal=OptionsInfo(scss=True, category='row_group', type='px', value='5px'), row_group_border_top_style=OptionsInfo(scss=True, category='row_group', type='value', value='solid'), row_group_border_top_width=OptionsInfo(scss=True, category='row_group', type='px', value='2px'), row_group_border_top_color=OptionsInfo(scss=True, category='row_group', type='value', value='#D3D3D3'), row_group_border_right_style=OptionsInfo(scss=True, category='row_group', type='value', value='none'), row_group_border_right_width=OptionsInfo(scss=True, category='row_group', type='px', value='1px'), row_group_border_right_color=OptionsInfo(scss=True, category='row_group', type='value', value='#D3D3D3'), row_group_border_bottom_style=OptionsInfo(scss=True, category='row_group', type='value', value='solid'), row_group_border_bottom_width=OptionsInfo(scss=True, category='row_group', type='px', value='2px'), row_group_border_bottom_color=OptionsInfo(scss=True, category='row_group', type='value', value='#D3D3D3'), row_group_border_left_style=OptionsInfo(scss=True, category='row_group', type='value', value='none'), row_group_border_left_width=OptionsInfo(scss=True, category='row_group', type='px', value='1px'), row_group_border_left_color=OptionsInfo(scss=True, category='row_group', type='value', value='#D3D3D3'), row_group_as_column=OptionsInfo(scss=False, category='row_group', type='boolean', value=False), table_body_hlines_style=OptionsInfo(scss=True, category='table_body', type='value', value='solid'), table_body_hlines_width=OptionsInfo(scss=True, category='table_body', type='px', value='1px'), table_body_hlines_color=OptionsInfo(scss=True, category='table_body', type='value', value='#D3D3D3'), table_body_vlines_style=OptionsInfo(scss=True, category='table_body', type='value', value='none'), table_body_vlines_width=OptionsInfo(scss=True, category='table_body', type='px', value='1px'), table_body_vlines_color=OptionsInfo(scss=True, category='table_body', type='value', value='#D3D3D3'), table_body_border_top_style=OptionsInfo(scss=True, category='table_body', type='value', value='solid'), table_body_border_top_width=OptionsInfo(scss=True, category='table_body', type='px', value='2px'), table_body_border_top_color=OptionsInfo(scss=True, category='table_body', type='value', value='#D3D3D3'), table_body_border_bottom_style=OptionsInfo(scss=True, category='table_body', type='value', value='solid'), table_body_border_bottom_width=OptionsInfo(scss=True, category='table_body', type='px', value='2px'), table_body_border_bottom_color=OptionsInfo(scss=True, category='table_body', type='value', value='#D3D3D3'), data_row_padding=OptionsInfo(scss=True, category='data_row', type='px', value='8px'), data_row_padding_horizontal=OptionsInfo(scss=True, category='data_row', type='px', value='5px'), stub_background_color=OptionsInfo(scss=True, category='stub', type='value', value=None), stub_font_size=OptionsInfo(scss=True, category='stub', type='px', value='100%'), stub_font_weight=OptionsInfo(scss=True, category='stub', type='value', value='initial'), stub_text_transform=OptionsInfo(scss=True, category='stub', type='value', value='inherit'), stub_border_style=OptionsInfo(scss=True, category='stub', type='value', value='solid'), stub_border_width=OptionsInfo(scss=True, category='stub', type='px', value='2px'), stub_border_color=OptionsInfo(scss=True, category='stub', type='value', value='#D3D3D3'), stub_row_group_background_color=OptionsInfo(scss=True, category='stub', type='value', value=None), stub_row_group_font_size=OptionsInfo(scss=True, category='stub', type='px', value='100%'), stub_row_group_font_weight=OptionsInfo(scss=True, category='stub', type='value', value='initial'), stub_row_group_text_transform=OptionsInfo(scss=True, category='stub', type='value', value='inherit'), stub_row_group_border_style=OptionsInfo(scss=True, category='stub', type='value', value='solid'), stub_row_group_border_width=OptionsInfo(scss=True, category='stub', type='px', value='2px'), stub_row_group_border_color=OptionsInfo(scss=True, category='stub', type='value', value='#D3D3D3'), source_notes_padding=OptionsInfo(scss=True, category='source_notes', type='px', value='4px'), source_notes_padding_horizontal=OptionsInfo(scss=True, category='source_notes', type='px', value='5px'), source_notes_background_color=OptionsInfo(scss=True, category='source_notes', type='value', value=None), source_notes_font_size=OptionsInfo(scss=True, category='source_notes', type='px', value='90%'), source_notes_border_bottom_style=OptionsInfo(scss=True, category='source_notes', type='value', value='none'), source_notes_border_bottom_width=OptionsInfo(scss=True, category='source_notes', type='px', value='2px'), source_notes_border_bottom_color=OptionsInfo(scss=True, category='source_notes', type='value', value='#D3D3D3'), source_notes_border_lr_style=OptionsInfo(scss=True, category='source_notes', type='value', value='none'), source_notes_border_lr_width=OptionsInfo(scss=True, category='source_notes', type='px', value='2px'), source_notes_border_lr_color=OptionsInfo(scss=True, category='source_notes', type='value', value='#D3D3D3'), source_notes_multiline=OptionsInfo(scss=False, category='source_notes', type='boolean', value=True), source_notes_sep=OptionsInfo(scss=False, category='source_notes', type='value', value=' '), row_striping_background_color=OptionsInfo(scss=True, category='row', type='value', value='rgba(128,128,128,0.05)'), row_striping_include_stub=OptionsInfo(scss=False, category='row', type='boolean', value=False), row_striping_include_table_body=OptionsInfo(scss=False, category='row', type='boolean', value=False), container_width=OptionsInfo(scss=False, category='container', type='px', value='auto'), container_height=OptionsInfo(scss=False, category='container', type='px', value='auto'), container_padding_x=OptionsInfo(scss=False, category='container', type='px', value='0px'), container_padding_y=OptionsInfo(scss=False, category='container', type='px', value='10px'), container_overflow_x=OptionsInfo(scss=False, category='container', type='overflow', value='auto'), container_overflow_y=OptionsInfo(scss=False, category='container', type='overflow', value='auto'), quarto_disable_processing=OptionsInfo(scss=False, category='quarto', type='logical', value=False), quarto_use_bootstrap=OptionsInfo(scss=False, category='quarto', type='logical', value=False)), _has_built=False)"
      ]
     },
     "execution_count": 75,
     "metadata": {},
     "output_type": "execute_result"
    }
   ],
   "source": [
    "(\n",
    "    GT(penetration, rowname_col='brand')\n",
    "    .tab_header(title='Category Penetration by Brand')\n",
    "    .tab_stubhead(label=\"Brands/Category\")\n",
    "    .fmt_percent()\n",
    "    .data_color(\n",
    "        rows=['Alpha', 'Bravo', 'Charlie', 'Delta', 'Other'],\n",
    "        domain=[0, 1],\n",
    "        palette=['white', 'rebeccapurple']\n",
    "    )  \n",
    "    .cols_label(penetration='Penetration (%)')\n",
    "    .cols_hide('buyers')\n",
    ")"
   ]
  },
  {
   "cell_type": "code",
   "execution_count": 76,
   "metadata": {},
   "outputs": [
    {
     "data": {
      "text/html": [
       "<div id=\"xiyliarvdm\" style=\"padding-left:0px;padding-right:0px;padding-top:10px;padding-bottom:10px;overflow-x:auto;overflow-y:auto;width:auto;height:auto;\">\n",
       "<style>\n",
       "#xiyliarvdm table {\n",
       "          font-family: -apple-system, BlinkMacSystemFont, 'Segoe UI', Roboto, Oxygen, Ubuntu, Cantarell, 'Helvetica Neue', 'Fira Sans', 'Droid Sans', Arial, sans-serif;\n",
       "          -webkit-font-smoothing: antialiased;\n",
       "          -moz-osx-font-smoothing: grayscale;\n",
       "        }\n",
       "\n",
       "#xiyliarvdm thead, tbody, tfoot, tr, td, th { border-style: none !important; }\n",
       " tr { background-color: transparent !important; }\n",
       "#xiyliarvdm p { margin: 0 !important; padding: 0 !important; }\n",
       " #xiyliarvdm .gt_table { display: table !important; border-collapse: collapse !important; line-height: normal !important; margin-left: auto !important; margin-right: auto !important; color: #333333 !important; font-size: 16px !important; font-weight: normal !important; font-style: normal !important; background-color: #FFFFFF !important; width: auto !important; border-top-style: solid !important; border-top-width: 2px !important; border-top-color: #A8A8A8 !important; border-right-style: none !important; border-right-width: 2px !important; border-right-color: #D3D3D3 !important; border-bottom-style: solid !important; border-bottom-width: 2px !important; border-bottom-color: #A8A8A8 !important; border-left-style: none !important; border-left-width: 2px !important; border-left-color: #D3D3D3 !important; }\n",
       " #xiyliarvdm .gt_caption { padding-top: 4px !important; padding-bottom: 4px !important; }\n",
       " #xiyliarvdm .gt_title { color: #333333 !important; font-size: 125% !important; font-weight: initial !important; padding-top: 4px !important; padding-bottom: 4px !important; padding-left: 5px !important; padding-right: 5px !important; border-bottom-color: #FFFFFF !important; border-bottom-width: 0 !important; }\n",
       " #xiyliarvdm .gt_subtitle { color: #333333 !important; font-size: 85% !important; font-weight: initial !important; padding-top: 3px !important; padding-bottom: 5px !important; padding-left: 5px !important; padding-right: 5px !important; border-top-color: #FFFFFF !important; border-top-width: 0 !important; }\n",
       " #xiyliarvdm .gt_heading { background-color: #FFFFFF !important; text-align: center !important; border-bottom-color: #FFFFFF !important; border-left-style: none !important; border-left-width: 1px !important; border-left-color: #D3D3D3 !important; border-right-style: none !important; border-right-width: 1px !important; border-right-color: #D3D3D3 !important; }\n",
       " #xiyliarvdm .gt_bottom_border { border-bottom-style: solid !important; border-bottom-width: 2px !important; border-bottom-color: #D3D3D3 !important; }\n",
       " #xiyliarvdm .gt_col_headings { border-top-style: solid !important; border-top-width: 2px !important; border-top-color: #D3D3D3 !important; border-bottom-style: solid !important; border-bottom-width: 2px !important; border-bottom-color: #D3D3D3 !important; border-left-style: none !important; border-left-width: 1px !important; border-left-color: #D3D3D3 !important; border-right-style: none !important; border-right-width: 1px !important; border-right-color: #D3D3D3 !important; }\n",
       " #xiyliarvdm .gt_col_heading { color: #333333 !important; background-color: #FFFFFF !important; font-size: 100% !important; font-weight: normal !important; text-transform: inherit !important; border-left-style: none !important; border-left-width: 1px !important; border-left-color: #D3D3D3 !important; border-right-style: none !important; border-right-width: 1px !important; border-right-color: #D3D3D3 !important; vertical-align: bottom !important; padding-top: 5px !important; padding-bottom: 5px !important; padding-left: 5px !important; padding-right: 5px !important; overflow-x: hidden !important; }\n",
       " #xiyliarvdm .gt_column_spanner_outer { color: #333333 !important; background-color: #FFFFFF !important; font-size: 100% !important; font-weight: normal !important; text-transform: inherit !important; padding-top: 0 !important; padding-bottom: 0 !important; padding-left: 4px !important; padding-right: 4px !important; }\n",
       " #xiyliarvdm .gt_column_spanner_outer:first-child { padding-left: 0 !important; }\n",
       " #xiyliarvdm .gt_column_spanner_outer:last-child { padding-right: 0 !important; }\n",
       " #xiyliarvdm .gt_column_spanner { border-bottom-style: solid !important; border-bottom-width: 2px !important; border-bottom-color: #D3D3D3 !important; vertical-align: bottom !important; padding-top: 5px !important; padding-bottom: 5px !important; overflow-x: hidden !important; display: inline-block !important; width: 100% !important; }\n",
       " #xiyliarvdm .gt_spanner_row { border-bottom-style: hidden !important; }\n",
       " #xiyliarvdm .gt_group_heading { padding-top: 8px !important; padding-bottom: 8px !important; padding-left: 5px !important; padding-right: 5px !important; color: #333333 !important; background-color: #FFFFFF !important; font-size: 100% !important; font-weight: initial !important; text-transform: inherit !important; border-top-style: solid !important; border-top-width: 2px !important; border-top-color: #D3D3D3 !important; border-bottom-style: solid !important; border-bottom-width: 2px !important; border-bottom-color: #D3D3D3 !important; border-left-style: none !important; border-left-width: 1px !important; border-left-color: #D3D3D3 !important; border-right-style: none !important; border-right-width: 1px !important; border-right-color: #D3D3D3 !important; vertical-align: middle !important; text-align: left !important; }\n",
       " #xiyliarvdm .gt_empty_group_heading { padding: 0.5px !important; color: #333333 !important; background-color: #FFFFFF !important; font-size: 100% !important; font-weight: initial !important; border-top-style: solid !important; border-top-width: 2px !important; border-top-color: #D3D3D3 !important; border-bottom-style: solid !important; border-bottom-width: 2px !important; border-bottom-color: #D3D3D3 !important; vertical-align: middle !important; }\n",
       " #xiyliarvdm .gt_from_md> :first-child { margin-top: 0 !important; }\n",
       " #xiyliarvdm .gt_from_md> :last-child { margin-bottom: 0 !important; }\n",
       " #xiyliarvdm .gt_row { padding-top: 8px !important; padding-bottom: 8px !important; padding-left: 5px !important; padding-right: 5px !important; margin: 10px !important; border-top-style: solid !important; border-top-width: 1px !important; border-top-color: #D3D3D3 !important; border-left-style: none !important; border-left-width: 1px !important; border-left-color: #D3D3D3 !important; border-right-style: none !important; border-right-width: 1px !important; border-right-color: #D3D3D3 !important; vertical-align: middle !important; overflow-x: hidden !important; }\n",
       " #xiyliarvdm .gt_stub { color: #333333 !important; background-color: #FFFFFF !important; font-size: 100% !important; font-weight: initial !important; text-transform: inherit !important; border-right-style: solid !important; border-right-width: 2px !important; border-right-color: #D3D3D3 !important; padding-left: 5px !important; padding-right: 5px !important; }\n",
       " #xiyliarvdm .gt_stub_row_group { color: #333333 !important; background-color: #FFFFFF !important; font-size: 100% !important; font-weight: initial !important; text-transform: inherit !important; border-right-style: solid !important; border-right-width: 2px !important; border-right-color: #D3D3D3 !important; padding-left: 5px !important; padding-right: 5px !important; vertical-align: top !important; }\n",
       " #xiyliarvdm .gt_row_group_first td { border-top-width: 2px !important; }\n",
       " #xiyliarvdm .gt_row_group_first th { border-top-width: 2px !important; }\n",
       " #xiyliarvdm .gt_striped { background-color: rgba(128,128,128,0.05) !important; }\n",
       " #xiyliarvdm .gt_table_body { border-top-style: solid !important; border-top-width: 2px !important; border-top-color: #D3D3D3 !important; border-bottom-style: solid !important; border-bottom-width: 2px !important; border-bottom-color: #D3D3D3 !important; }\n",
       " #xiyliarvdm .gt_sourcenotes { color: #333333 !important; background-color: #FFFFFF !important; border-bottom-style: none !important; border-bottom-width: 2px !important; border-bottom-color: #D3D3D3 !important; border-left-style: none !important; border-left-width: 2px !important; border-left-color: #D3D3D3 !important; border-right-style: none !important; border-right-width: 2px !important; border-right-color: #D3D3D3 !important; }\n",
       " #xiyliarvdm .gt_sourcenote { font-size: 90% !important; padding-top: 4px !important; padding-bottom: 4px !important; padding-left: 5px !important; padding-right: 5px !important; text-align: left !important; }\n",
       " #xiyliarvdm .gt_left { text-align: left !important; }\n",
       " #xiyliarvdm .gt_center { text-align: center !important; }\n",
       " #xiyliarvdm .gt_right { text-align: right !important; font-variant-numeric: tabular-nums !important; }\n",
       " #xiyliarvdm .gt_font_normal { font-weight: normal !important; }\n",
       " #xiyliarvdm .gt_font_bold { font-weight: bold !important; }\n",
       " #xiyliarvdm .gt_font_italic { font-style: italic !important; }\n",
       " #xiyliarvdm .gt_super { font-size: 65% !important; }\n",
       " #xiyliarvdm .gt_footnote_marks { font-size: 75% !important; vertical-align: 0.4em !important; position: initial !important; }\n",
       " #xiyliarvdm .gt_asterisk { font-size: 100% !important; vertical-align: 0 !important; }\n",
       " \n",
       "</style>\n",
       "<table class=\"gt_table\" data-quarto-disable-processing=\"false\" data-quarto-bootstrap=\"false\">\n",
       "<thead>\n",
       "\n",
       "  <tr class=\"gt_heading\">\n",
       "    <td colspan=\"2\" class=\"gt_heading gt_title gt_font_normal\">Penetration per Buyer (PPB)</td>\n",
       "  </tr>\n",
       "<tr class=\"gt_col_headings\">\n",
       "  <th class=\"gt_col_heading gt_columns_bottom_border gt_left\" rowspan=\"1\" colspan=\"1\" scope=\"col\" id=\"Brands/Category\">Brands/Category</th>\n",
       "  <th class=\"gt_col_heading gt_columns_bottom_border gt_right\" rowspan=\"1\" colspan=\"1\" scope=\"col\" id=\"PPB\">PPB</th>\n",
       "</tr>\n",
       "</thead>\n",
       "<tbody class=\"gt_table_body\">\n",
       "  <tr>\n",
       "    <th style=\"color: #000000; background-color: #808080;\" class=\"gt_row gt_left gt_stub\">Alpha</th>\n",
       "    <td style=\"color: #000000; background-color: #9572b9;\" class=\"gt_row gt_right\">3.45</td>\n",
       "  </tr>\n",
       "  <tr>\n",
       "    <th style=\"color: #000000; background-color: #808080;\" class=\"gt_row gt_left gt_stub\">Bravo</th>\n",
       "    <td style=\"color: #000000; background-color: #9c7cbd;\" class=\"gt_row gt_right\">3.22</td>\n",
       "  </tr>\n",
       "  <tr>\n",
       "    <th style=\"color: #000000; background-color: #808080;\" class=\"gt_row gt_left gt_stub\">Charlie</th>\n",
       "    <td style=\"color: #000000; background-color: #b8a1d0;\" class=\"gt_row gt_right\">2.31</td>\n",
       "  </tr>\n",
       "  <tr>\n",
       "    <th style=\"color: #000000; background-color: #808080;\" class=\"gt_row gt_left gt_stub\">Delta</th>\n",
       "    <td style=\"color: #000000; background-color: #baa3d1;\" class=\"gt_row gt_right\">2.26</td>\n",
       "  </tr>\n",
       "  <tr>\n",
       "    <th style=\"color: #000000; background-color: #808080;\" class=\"gt_row gt_left gt_stub\">Other</th>\n",
       "    <td style=\"color: #000000; background-color: #b69dce;\" class=\"gt_row gt_right\">2.40</td>\n",
       "  </tr>\n",
       "  <tr>\n",
       "    <th class=\"gt_row gt_left gt_stub\">Category</th>\n",
       "    <td class=\"gt_row gt_right\">4.38</td>\n",
       "  </tr>\n",
       "</tbody>\n",
       "\n",
       "\n",
       "</table>\n",
       "\n",
       "</div>\n",
       "        "
      ],
      "text/plain": [
       "GT(_tbl_data=shape: (6, 3)\n",
       "┌──────────┬──────────────┬──────────┐\n",
       "│ brand    ┆ transactions ┆ ppb      │\n",
       "│ ---      ┆ ---          ┆ ---      │\n",
       "│ str      ┆ u32          ┆ f64      │\n",
       "╞══════════╪══════════════╪══════════╡\n",
       "│ Alpha    ┆ 9060         ┆ 3.452744 │\n",
       "│ Bravo    ┆ 8255         ┆ 3.222092 │\n",
       "│ Charlie  ┆ 1882         ┆ 2.314883 │\n",
       "│ Delta    ┆ 859          ┆ 2.260526 │\n",
       "│ Other    ┆ 422          ┆ 2.397727 │\n",
       "│ Category ┆ 20030        ┆ 4.379099 │\n",
       "└──────────┴──────────────┴──────────┘, _body=<great_tables._gt_data.Body object at 0x10e99e4e0>, _boxhead=Boxhead([ColInfo(var='brand', type=<ColInfoTypeEnum.stub: 2>, column_label='brand', column_align='left', column_width=None), ColInfo(var='transactions', type=<ColInfoTypeEnum.hidden: 4>, column_label='transactions', column_align='center', column_width=None), ColInfo(var='ppb', type=<ColInfoTypeEnum.default: 1>, column_label='PPB', column_align='right', column_width=None)]), _stub=<great_tables._gt_data.Stub object at 0x10e8ffa50>, _spanners=Spanners([]), _heading=Heading(title='Penetration per Buyer (PPB)', subtitle=None, preheader=None), _stubhead='Brands/Category', _source_notes=[], _footnotes=[], _styles=[StyleInfo(locname=LocBody(columns='brand', rows=[0]), grpname=None, colname='brand', rownum=0, colnum=None, styles=[CellStyleText(color='#000000', font=None, size=None, align=None, v_align=None, style=None, weight=None, stretch=None, decorate=None, transform=None, whitespace=None), CellStyleFill(color='#808080')]), StyleInfo(locname=LocBody(columns='brand', rows=[1]), grpname=None, colname='brand', rownum=1, colnum=None, styles=[CellStyleText(color='#000000', font=None, size=None, align=None, v_align=None, style=None, weight=None, stretch=None, decorate=None, transform=None, whitespace=None), CellStyleFill(color='#808080')]), StyleInfo(locname=LocBody(columns='brand', rows=[2]), grpname=None, colname='brand', rownum=2, colnum=None, styles=[CellStyleText(color='#000000', font=None, size=None, align=None, v_align=None, style=None, weight=None, stretch=None, decorate=None, transform=None, whitespace=None), CellStyleFill(color='#808080')]), StyleInfo(locname=LocBody(columns='brand', rows=[3]), grpname=None, colname='brand', rownum=3, colnum=None, styles=[CellStyleText(color='#000000', font=None, size=None, align=None, v_align=None, style=None, weight=None, stretch=None, decorate=None, transform=None, whitespace=None), CellStyleFill(color='#808080')]), StyleInfo(locname=LocBody(columns='brand', rows=[4]), grpname=None, colname='brand', rownum=4, colnum=None, styles=[CellStyleText(color='#000000', font=None, size=None, align=None, v_align=None, style=None, weight=None, stretch=None, decorate=None, transform=None, whitespace=None), CellStyleFill(color='#808080')]), StyleInfo(locname=LocBody(columns='transactions', rows=[0]), grpname=None, colname='transactions', rownum=0, colnum=None, styles=[CellStyleText(color='#000000', font=None, size=None, align=None, v_align=None, style=None, weight=None, stretch=None, decorate=None, transform=None, whitespace=None), CellStyleFill(color='#808080')]), StyleInfo(locname=LocBody(columns='transactions', rows=[1]), grpname=None, colname='transactions', rownum=1, colnum=None, styles=[CellStyleText(color='#000000', font=None, size=None, align=None, v_align=None, style=None, weight=None, stretch=None, decorate=None, transform=None, whitespace=None), CellStyleFill(color='#808080')]), StyleInfo(locname=LocBody(columns='transactions', rows=[2]), grpname=None, colname='transactions', rownum=2, colnum=None, styles=[CellStyleText(color='#000000', font=None, size=None, align=None, v_align=None, style=None, weight=None, stretch=None, decorate=None, transform=None, whitespace=None), CellStyleFill(color='#808080')]), StyleInfo(locname=LocBody(columns='transactions', rows=[3]), grpname=None, colname='transactions', rownum=3, colnum=None, styles=[CellStyleText(color='#000000', font=None, size=None, align=None, v_align=None, style=None, weight=None, stretch=None, decorate=None, transform=None, whitespace=None), CellStyleFill(color='#808080')]), StyleInfo(locname=LocBody(columns='transactions', rows=[4]), grpname=None, colname='transactions', rownum=4, colnum=None, styles=[CellStyleText(color='#000000', font=None, size=None, align=None, v_align=None, style=None, weight=None, stretch=None, decorate=None, transform=None, whitespace=None), CellStyleFill(color='#808080')]), StyleInfo(locname=LocBody(columns='ppb', rows=[0]), grpname=None, colname='ppb', rownum=0, colnum=None, styles=[CellStyleText(color='#000000', font=None, size=None, align=None, v_align=None, style=None, weight=None, stretch=None, decorate=None, transform=None, whitespace=None), CellStyleFill(color='#9572b9')]), StyleInfo(locname=LocBody(columns='ppb', rows=[1]), grpname=None, colname='ppb', rownum=1, colnum=None, styles=[CellStyleText(color='#000000', font=None, size=None, align=None, v_align=None, style=None, weight=None, stretch=None, decorate=None, transform=None, whitespace=None), CellStyleFill(color='#9c7cbd')]), StyleInfo(locname=LocBody(columns='ppb', rows=[2]), grpname=None, colname='ppb', rownum=2, colnum=None, styles=[CellStyleText(color='#000000', font=None, size=None, align=None, v_align=None, style=None, weight=None, stretch=None, decorate=None, transform=None, whitespace=None), CellStyleFill(color='#b8a1d0')]), StyleInfo(locname=LocBody(columns='ppb', rows=[3]), grpname=None, colname='ppb', rownum=3, colnum=None, styles=[CellStyleText(color='#000000', font=None, size=None, align=None, v_align=None, style=None, weight=None, stretch=None, decorate=None, transform=None, whitespace=None), CellStyleFill(color='#baa3d1')]), StyleInfo(locname=LocBody(columns='ppb', rows=[4]), grpname=None, colname='ppb', rownum=4, colnum=None, styles=[CellStyleText(color='#000000', font=None, size=None, align=None, v_align=None, style=None, weight=None, stretch=None, decorate=None, transform=None, whitespace=None), CellStyleFill(color='#b69dce')])], _locale=<great_tables._gt_data.Locale object at 0x10deae9d0>, _formats=[<great_tables._gt_data.FormatInfo object at 0x10e997770>], _substitutions=[], _options=Options(table_id=OptionsInfo(scss=False, category='table', type='value', value=None), table_caption=OptionsInfo(scss=False, category='table', type='value', value=None), table_width=OptionsInfo(scss=True, category='table', type='px', value='auto'), table_layout=OptionsInfo(scss=True, category='table', type='value', value='fixed'), table_margin_left=OptionsInfo(scss=True, category='table', type='px', value='auto'), table_margin_right=OptionsInfo(scss=True, category='table', type='px', value='auto'), table_background_color=OptionsInfo(scss=True, category='table', type='value', value='#FFFFFF'), table_additional_css=OptionsInfo(scss=False, category='table', type='values', value=[]), table_font_names=OptionsInfo(scss=False, category='table', type='values', value=['-apple-system', 'BlinkMacSystemFont', 'Segoe UI', 'Roboto', 'Oxygen', 'Ubuntu', 'Cantarell', 'Helvetica Neue', 'Fira Sans', 'Droid Sans', 'Arial', 'sans-serif']), table_font_size=OptionsInfo(scss=True, category='table', type='px', value='16px'), table_font_weight=OptionsInfo(scss=True, category='table', type='value', value='normal'), table_font_style=OptionsInfo(scss=True, category='table', type='value', value='normal'), table_font_color=OptionsInfo(scss=True, category='table', type='value', value='#333333'), table_font_color_light=OptionsInfo(scss=True, category='table', type='value', value='#FFFFFF'), table_border_top_include=OptionsInfo(scss=False, category='table', type='boolean', value=True), table_border_top_style=OptionsInfo(scss=True, category='table', type='value', value='solid'), table_border_top_width=OptionsInfo(scss=True, category='table', type='px', value='2px'), table_border_top_color=OptionsInfo(scss=True, category='table', type='value', value='#A8A8A8'), table_border_right_style=OptionsInfo(scss=True, category='table', type='value', value='none'), table_border_right_width=OptionsInfo(scss=True, category='table', type='px', value='2px'), table_border_right_color=OptionsInfo(scss=True, category='table', type='value', value='#D3D3D3'), table_border_bottom_include=OptionsInfo(scss=False, category='table', type='boolean', value=True), table_border_bottom_style=OptionsInfo(scss=True, category='table', type='value', value='solid'), table_border_bottom_width=OptionsInfo(scss=True, category='table', type='px', value='2px'), table_border_bottom_color=OptionsInfo(scss=True, category='table', type='value', value='#A8A8A8'), table_border_left_style=OptionsInfo(scss=True, category='table', type='value', value='none'), table_border_left_width=OptionsInfo(scss=True, category='table', type='px', value='2px'), table_border_left_color=OptionsInfo(scss=True, category='table', type='value', value='#D3D3D3'), heading_background_color=OptionsInfo(scss=True, category='heading', type='value', value=None), heading_align=OptionsInfo(scss=True, category='heading', type='value', value='center'), heading_title_font_size=OptionsInfo(scss=True, category='heading', type='px', value='125%'), heading_title_font_weight=OptionsInfo(scss=True, category='heading', type='value', value='initial'), heading_subtitle_font_size=OptionsInfo(scss=True, category='heading', type='px', value='85%'), heading_subtitle_font_weight=OptionsInfo(scss=True, category='heading', type='value', value='initial'), heading_padding=OptionsInfo(scss=True, category='heading', type='px', value='4px'), heading_padding_horizontal=OptionsInfo(scss=True, category='heading', type='px', value='5px'), heading_border_bottom_style=OptionsInfo(scss=True, category='heading', type='value', value='solid'), heading_border_bottom_width=OptionsInfo(scss=True, category='heading', type='px', value='2px'), heading_border_bottom_color=OptionsInfo(scss=True, category='heading', type='value', value='#D3D3D3'), heading_border_lr_style=OptionsInfo(scss=True, category='heading', type='value', value='none'), heading_border_lr_width=OptionsInfo(scss=True, category='heading', type='px', value='1px'), heading_border_lr_color=OptionsInfo(scss=True, category='heading', type='value', value='#D3D3D3'), column_labels_background_color=OptionsInfo(scss=True, category='column_labels', type='value', value=None), column_labels_font_size=OptionsInfo(scss=True, category='column_labels', type='px', value='100%'), column_labels_font_weight=OptionsInfo(scss=True, category='column_labels', type='value', value='normal'), column_labels_text_transform=OptionsInfo(scss=True, category='column_labels', type='value', value='inherit'), column_labels_padding=OptionsInfo(scss=True, category='column_labels', type='px', value='5px'), column_labels_padding_horizontal=OptionsInfo(scss=True, category='column_labels', type='px', value='5px'), column_labels_vlines_style=OptionsInfo(scss=True, category='table_body', type='value', value='none'), column_labels_vlines_width=OptionsInfo(scss=True, category='table_body', type='px', value='1px'), column_labels_vlines_color=OptionsInfo(scss=True, category='table_body', type='value', value='#D3D3D3'), column_labels_border_top_style=OptionsInfo(scss=True, category='column_labels', type='value', value='solid'), column_labels_border_top_width=OptionsInfo(scss=True, category='column_labels', type='px', value='2px'), column_labels_border_top_color=OptionsInfo(scss=True, category='column_labels', type='value', value='#D3D3D3'), column_labels_border_bottom_style=OptionsInfo(scss=True, category='column_labels', type='value', value='solid'), column_labels_border_bottom_width=OptionsInfo(scss=True, category='column_labels', type='px', value='2px'), column_labels_border_bottom_color=OptionsInfo(scss=True, category='column_labels', type='value', value='#D3D3D3'), column_labels_border_lr_style=OptionsInfo(scss=True, category='column_labels', type='value', value='none'), column_labels_border_lr_width=OptionsInfo(scss=True, category='column_labels', type='px', value='1px'), column_labels_border_lr_color=OptionsInfo(scss=True, category='column_labels', type='value', value='#D3D3D3'), column_labels_hidden=OptionsInfo(scss=False, category='column_labels', type='boolean', value=False), row_group_background_color=OptionsInfo(scss=True, category='row_group', type='value', value=None), row_group_font_size=OptionsInfo(scss=True, category='row_group', type='px', value='100%'), row_group_font_weight=OptionsInfo(scss=True, category='row_group', type='value', value='initial'), row_group_text_transform=OptionsInfo(scss=True, category='row_group', type='value', value='inherit'), row_group_padding=OptionsInfo(scss=True, category='row_group', type='px', value='8px'), row_group_padding_horizontal=OptionsInfo(scss=True, category='row_group', type='px', value='5px'), row_group_border_top_style=OptionsInfo(scss=True, category='row_group', type='value', value='solid'), row_group_border_top_width=OptionsInfo(scss=True, category='row_group', type='px', value='2px'), row_group_border_top_color=OptionsInfo(scss=True, category='row_group', type='value', value='#D3D3D3'), row_group_border_right_style=OptionsInfo(scss=True, category='row_group', type='value', value='none'), row_group_border_right_width=OptionsInfo(scss=True, category='row_group', type='px', value='1px'), row_group_border_right_color=OptionsInfo(scss=True, category='row_group', type='value', value='#D3D3D3'), row_group_border_bottom_style=OptionsInfo(scss=True, category='row_group', type='value', value='solid'), row_group_border_bottom_width=OptionsInfo(scss=True, category='row_group', type='px', value='2px'), row_group_border_bottom_color=OptionsInfo(scss=True, category='row_group', type='value', value='#D3D3D3'), row_group_border_left_style=OptionsInfo(scss=True, category='row_group', type='value', value='none'), row_group_border_left_width=OptionsInfo(scss=True, category='row_group', type='px', value='1px'), row_group_border_left_color=OptionsInfo(scss=True, category='row_group', type='value', value='#D3D3D3'), row_group_as_column=OptionsInfo(scss=False, category='row_group', type='boolean', value=False), table_body_hlines_style=OptionsInfo(scss=True, category='table_body', type='value', value='solid'), table_body_hlines_width=OptionsInfo(scss=True, category='table_body', type='px', value='1px'), table_body_hlines_color=OptionsInfo(scss=True, category='table_body', type='value', value='#D3D3D3'), table_body_vlines_style=OptionsInfo(scss=True, category='table_body', type='value', value='none'), table_body_vlines_width=OptionsInfo(scss=True, category='table_body', type='px', value='1px'), table_body_vlines_color=OptionsInfo(scss=True, category='table_body', type='value', value='#D3D3D3'), table_body_border_top_style=OptionsInfo(scss=True, category='table_body', type='value', value='solid'), table_body_border_top_width=OptionsInfo(scss=True, category='table_body', type='px', value='2px'), table_body_border_top_color=OptionsInfo(scss=True, category='table_body', type='value', value='#D3D3D3'), table_body_border_bottom_style=OptionsInfo(scss=True, category='table_body', type='value', value='solid'), table_body_border_bottom_width=OptionsInfo(scss=True, category='table_body', type='px', value='2px'), table_body_border_bottom_color=OptionsInfo(scss=True, category='table_body', type='value', value='#D3D3D3'), data_row_padding=OptionsInfo(scss=True, category='data_row', type='px', value='8px'), data_row_padding_horizontal=OptionsInfo(scss=True, category='data_row', type='px', value='5px'), stub_background_color=OptionsInfo(scss=True, category='stub', type='value', value=None), stub_font_size=OptionsInfo(scss=True, category='stub', type='px', value='100%'), stub_font_weight=OptionsInfo(scss=True, category='stub', type='value', value='initial'), stub_text_transform=OptionsInfo(scss=True, category='stub', type='value', value='inherit'), stub_border_style=OptionsInfo(scss=True, category='stub', type='value', value='solid'), stub_border_width=OptionsInfo(scss=True, category='stub', type='px', value='2px'), stub_border_color=OptionsInfo(scss=True, category='stub', type='value', value='#D3D3D3'), stub_row_group_background_color=OptionsInfo(scss=True, category='stub', type='value', value=None), stub_row_group_font_size=OptionsInfo(scss=True, category='stub', type='px', value='100%'), stub_row_group_font_weight=OptionsInfo(scss=True, category='stub', type='value', value='initial'), stub_row_group_text_transform=OptionsInfo(scss=True, category='stub', type='value', value='inherit'), stub_row_group_border_style=OptionsInfo(scss=True, category='stub', type='value', value='solid'), stub_row_group_border_width=OptionsInfo(scss=True, category='stub', type='px', value='2px'), stub_row_group_border_color=OptionsInfo(scss=True, category='stub', type='value', value='#D3D3D3'), source_notes_padding=OptionsInfo(scss=True, category='source_notes', type='px', value='4px'), source_notes_padding_horizontal=OptionsInfo(scss=True, category='source_notes', type='px', value='5px'), source_notes_background_color=OptionsInfo(scss=True, category='source_notes', type='value', value=None), source_notes_font_size=OptionsInfo(scss=True, category='source_notes', type='px', value='90%'), source_notes_border_bottom_style=OptionsInfo(scss=True, category='source_notes', type='value', value='none'), source_notes_border_bottom_width=OptionsInfo(scss=True, category='source_notes', type='px', value='2px'), source_notes_border_bottom_color=OptionsInfo(scss=True, category='source_notes', type='value', value='#D3D3D3'), source_notes_border_lr_style=OptionsInfo(scss=True, category='source_notes', type='value', value='none'), source_notes_border_lr_width=OptionsInfo(scss=True, category='source_notes', type='px', value='2px'), source_notes_border_lr_color=OptionsInfo(scss=True, category='source_notes', type='value', value='#D3D3D3'), source_notes_multiline=OptionsInfo(scss=False, category='source_notes', type='boolean', value=True), source_notes_sep=OptionsInfo(scss=False, category='source_notes', type='value', value=' '), row_striping_background_color=OptionsInfo(scss=True, category='row', type='value', value='rgba(128,128,128,0.05)'), row_striping_include_stub=OptionsInfo(scss=False, category='row', type='boolean', value=False), row_striping_include_table_body=OptionsInfo(scss=False, category='row', type='boolean', value=False), container_width=OptionsInfo(scss=False, category='container', type='px', value='auto'), container_height=OptionsInfo(scss=False, category='container', type='px', value='auto'), container_padding_x=OptionsInfo(scss=False, category='container', type='px', value='0px'), container_padding_y=OptionsInfo(scss=False, category='container', type='px', value='10px'), container_overflow_x=OptionsInfo(scss=False, category='container', type='overflow', value='auto'), container_overflow_y=OptionsInfo(scss=False, category='container', type='overflow', value='auto'), quarto_disable_processing=OptionsInfo(scss=False, category='quarto', type='logical', value=False), quarto_use_bootstrap=OptionsInfo(scss=False, category='quarto', type='logical', value=False)), _has_built=False)"
      ]
     },
     "execution_count": 76,
     "metadata": {},
     "output_type": "execute_result"
    }
   ],
   "source": [
    "(\n",
    "    GT(ppb, rowname_col='brand')\n",
    "    .tab_header(title='Penetration per Buyer (PPB)')\n",
    "    .tab_stubhead(label=\"Brands/Category\")\n",
    "    .fmt_number()\n",
    "    .data_color(\n",
    "        rows=['Alpha', 'Bravo', 'Charlie', 'Delta', 'Other'],\n",
    "        domain=[0, 5],\n",
    "        palette=['white', 'rebeccapurple']\n",
    "    )  \n",
    "    .cols_label(ppb='PPB')\n",
    "    .cols_hide('transactions')\n",
    ")"
   ]
  },
  {
   "cell_type": "markdown",
   "metadata": {},
   "source": [
    "#### Distribution of Purchase"
   ]
  },
  {
   "cell_type": "markdown",
   "metadata": {},
   "source": [
    "##### Distribution of Category Purchase Frequency"
   ]
  },
  {
   "cell_type": "code",
   "execution_count": 77,
   "metadata": {},
   "outputs": [
    {
     "data": {
      "text/html": [
       "<div id=\"qpeofculbq\" style=\"padding-left:0px;padding-right:0px;padding-top:10px;padding-bottom:10px;overflow-x:auto;overflow-y:auto;width:auto;height:auto;\">\n",
       "<style>\n",
       "#qpeofculbq table {\n",
       "          font-family: -apple-system, BlinkMacSystemFont, 'Segoe UI', Roboto, Oxygen, Ubuntu, Cantarell, 'Helvetica Neue', 'Fira Sans', 'Droid Sans', Arial, sans-serif;\n",
       "          -webkit-font-smoothing: antialiased;\n",
       "          -moz-osx-font-smoothing: grayscale;\n",
       "        }\n",
       "\n",
       "#qpeofculbq thead, tbody, tfoot, tr, td, th { border-style: none !important; }\n",
       " tr { background-color: transparent !important; }\n",
       "#qpeofculbq p { margin: 0 !important; padding: 0 !important; }\n",
       " #qpeofculbq .gt_table { display: table !important; border-collapse: collapse !important; line-height: normal !important; margin-left: auto !important; margin-right: auto !important; color: #333333 !important; font-size: 16px !important; font-weight: normal !important; font-style: normal !important; background-color: #FFFFFF !important; width: auto !important; border-top-style: solid !important; border-top-width: 2px !important; border-top-color: #A8A8A8 !important; border-right-style: none !important; border-right-width: 2px !important; border-right-color: #D3D3D3 !important; border-bottom-style: solid !important; border-bottom-width: 2px !important; border-bottom-color: #A8A8A8 !important; border-left-style: none !important; border-left-width: 2px !important; border-left-color: #D3D3D3 !important; }\n",
       " #qpeofculbq .gt_caption { padding-top: 4px !important; padding-bottom: 4px !important; }\n",
       " #qpeofculbq .gt_title { color: #333333 !important; font-size: 125% !important; font-weight: initial !important; padding-top: 4px !important; padding-bottom: 4px !important; padding-left: 5px !important; padding-right: 5px !important; border-bottom-color: #FFFFFF !important; border-bottom-width: 0 !important; }\n",
       " #qpeofculbq .gt_subtitle { color: #333333 !important; font-size: 85% !important; font-weight: initial !important; padding-top: 3px !important; padding-bottom: 5px !important; padding-left: 5px !important; padding-right: 5px !important; border-top-color: #FFFFFF !important; border-top-width: 0 !important; }\n",
       " #qpeofculbq .gt_heading { background-color: #FFFFFF !important; text-align: center !important; border-bottom-color: #FFFFFF !important; border-left-style: none !important; border-left-width: 1px !important; border-left-color: #D3D3D3 !important; border-right-style: none !important; border-right-width: 1px !important; border-right-color: #D3D3D3 !important; }\n",
       " #qpeofculbq .gt_bottom_border { border-bottom-style: solid !important; border-bottom-width: 2px !important; border-bottom-color: #D3D3D3 !important; }\n",
       " #qpeofculbq .gt_col_headings { border-top-style: solid !important; border-top-width: 2px !important; border-top-color: #D3D3D3 !important; border-bottom-style: solid !important; border-bottom-width: 2px !important; border-bottom-color: #D3D3D3 !important; border-left-style: none !important; border-left-width: 1px !important; border-left-color: #D3D3D3 !important; border-right-style: none !important; border-right-width: 1px !important; border-right-color: #D3D3D3 !important; }\n",
       " #qpeofculbq .gt_col_heading { color: #333333 !important; background-color: #FFFFFF !important; font-size: 100% !important; font-weight: normal !important; text-transform: inherit !important; border-left-style: none !important; border-left-width: 1px !important; border-left-color: #D3D3D3 !important; border-right-style: none !important; border-right-width: 1px !important; border-right-color: #D3D3D3 !important; vertical-align: bottom !important; padding-top: 5px !important; padding-bottom: 5px !important; padding-left: 5px !important; padding-right: 5px !important; overflow-x: hidden !important; }\n",
       " #qpeofculbq .gt_column_spanner_outer { color: #333333 !important; background-color: #FFFFFF !important; font-size: 100% !important; font-weight: normal !important; text-transform: inherit !important; padding-top: 0 !important; padding-bottom: 0 !important; padding-left: 4px !important; padding-right: 4px !important; }\n",
       " #qpeofculbq .gt_column_spanner_outer:first-child { padding-left: 0 !important; }\n",
       " #qpeofculbq .gt_column_spanner_outer:last-child { padding-right: 0 !important; }\n",
       " #qpeofculbq .gt_column_spanner { border-bottom-style: solid !important; border-bottom-width: 2px !important; border-bottom-color: #D3D3D3 !important; vertical-align: bottom !important; padding-top: 5px !important; padding-bottom: 5px !important; overflow-x: hidden !important; display: inline-block !important; width: 100% !important; }\n",
       " #qpeofculbq .gt_spanner_row { border-bottom-style: hidden !important; }\n",
       " #qpeofculbq .gt_group_heading { padding-top: 8px !important; padding-bottom: 8px !important; padding-left: 5px !important; padding-right: 5px !important; color: #333333 !important; background-color: #FFFFFF !important; font-size: 100% !important; font-weight: initial !important; text-transform: inherit !important; border-top-style: solid !important; border-top-width: 2px !important; border-top-color: #D3D3D3 !important; border-bottom-style: solid !important; border-bottom-width: 2px !important; border-bottom-color: #D3D3D3 !important; border-left-style: none !important; border-left-width: 1px !important; border-left-color: #D3D3D3 !important; border-right-style: none !important; border-right-width: 1px !important; border-right-color: #D3D3D3 !important; vertical-align: middle !important; text-align: left !important; }\n",
       " #qpeofculbq .gt_empty_group_heading { padding: 0.5px !important; color: #333333 !important; background-color: #FFFFFF !important; font-size: 100% !important; font-weight: initial !important; border-top-style: solid !important; border-top-width: 2px !important; border-top-color: #D3D3D3 !important; border-bottom-style: solid !important; border-bottom-width: 2px !important; border-bottom-color: #D3D3D3 !important; vertical-align: middle !important; }\n",
       " #qpeofculbq .gt_from_md> :first-child { margin-top: 0 !important; }\n",
       " #qpeofculbq .gt_from_md> :last-child { margin-bottom: 0 !important; }\n",
       " #qpeofculbq .gt_row { padding-top: 8px !important; padding-bottom: 8px !important; padding-left: 5px !important; padding-right: 5px !important; margin: 10px !important; border-top-style: solid !important; border-top-width: 1px !important; border-top-color: #D3D3D3 !important; border-left-style: none !important; border-left-width: 1px !important; border-left-color: #D3D3D3 !important; border-right-style: none !important; border-right-width: 1px !important; border-right-color: #D3D3D3 !important; vertical-align: middle !important; overflow-x: hidden !important; }\n",
       " #qpeofculbq .gt_stub { color: #333333 !important; background-color: #FFFFFF !important; font-size: 100% !important; font-weight: initial !important; text-transform: inherit !important; border-right-style: solid !important; border-right-width: 2px !important; border-right-color: #D3D3D3 !important; padding-left: 5px !important; padding-right: 5px !important; }\n",
       " #qpeofculbq .gt_stub_row_group { color: #333333 !important; background-color: #FFFFFF !important; font-size: 100% !important; font-weight: initial !important; text-transform: inherit !important; border-right-style: solid !important; border-right-width: 2px !important; border-right-color: #D3D3D3 !important; padding-left: 5px !important; padding-right: 5px !important; vertical-align: top !important; }\n",
       " #qpeofculbq .gt_row_group_first td { border-top-width: 2px !important; }\n",
       " #qpeofculbq .gt_row_group_first th { border-top-width: 2px !important; }\n",
       " #qpeofculbq .gt_striped { background-color: rgba(128,128,128,0.05) !important; }\n",
       " #qpeofculbq .gt_table_body { border-top-style: solid !important; border-top-width: 2px !important; border-top-color: #D3D3D3 !important; border-bottom-style: solid !important; border-bottom-width: 2px !important; border-bottom-color: #D3D3D3 !important; }\n",
       " #qpeofculbq .gt_sourcenotes { color: #333333 !important; background-color: #FFFFFF !important; border-bottom-style: none !important; border-bottom-width: 2px !important; border-bottom-color: #D3D3D3 !important; border-left-style: none !important; border-left-width: 2px !important; border-left-color: #D3D3D3 !important; border-right-style: none !important; border-right-width: 2px !important; border-right-color: #D3D3D3 !important; }\n",
       " #qpeofculbq .gt_sourcenote { font-size: 90% !important; padding-top: 4px !important; padding-bottom: 4px !important; padding-left: 5px !important; padding-right: 5px !important; text-align: left !important; }\n",
       " #qpeofculbq .gt_left { text-align: left !important; }\n",
       " #qpeofculbq .gt_center { text-align: center !important; }\n",
       " #qpeofculbq .gt_right { text-align: right !important; font-variant-numeric: tabular-nums !important; }\n",
       " #qpeofculbq .gt_font_normal { font-weight: normal !important; }\n",
       " #qpeofculbq .gt_font_bold { font-weight: bold !important; }\n",
       " #qpeofculbq .gt_font_italic { font-style: italic !important; }\n",
       " #qpeofculbq .gt_super { font-size: 65% !important; }\n",
       " #qpeofculbq .gt_footnote_marks { font-size: 75% !important; vertical-align: 0.4em !important; position: initial !important; }\n",
       " #qpeofculbq .gt_asterisk { font-size: 100% !important; vertical-align: 0 !important; }\n",
       " \n",
       "</style>\n",
       "<table class=\"gt_table\" data-quarto-disable-processing=\"false\" data-quarto-bootstrap=\"false\">\n",
       "<thead>\n",
       "\n",
       "  <tr class=\"gt_heading\">\n",
       "    <td colspan=\"3\" class=\"gt_heading gt_title gt_font_normal\">Category Purchase Distribution</td>\n",
       "  </tr>\n",
       "<tr class=\"gt_col_headings\">\n",
       "  <th class=\"gt_col_heading gt_columns_bottom_border gt_left\" rowspan=\"1\" colspan=\"1\" scope=\"col\" id=\"# of Purchases\"># of Purchases</th>\n",
       "  <th class=\"gt_col_heading gt_columns_bottom_border gt_right\" rowspan=\"1\" colspan=\"1\" scope=\"col\" id=\"Frequency\">Frequency</th>\n",
       "  <th class=\"gt_col_heading gt_columns_bottom_border gt_right\" rowspan=\"1\" colspan=\"1\" scope=\"col\" id=\"% of Total\">% of Total</th>\n",
       "</tr>\n",
       "</thead>\n",
       "<tbody class=\"gt_table_body\">\n",
       "  <tr>\n",
       "    <th class=\"gt_row gt_left gt_stub\">0</th>\n",
       "    <td class=\"gt_row gt_right\">447</td>\n",
       "    <td style=\"color: #000000; background-color: #f1edf6;\" class=\"gt_row gt_right\">8.90%</td>\n",
       "  </tr>\n",
       "  <tr>\n",
       "    <th class=\"gt_row gt_left gt_stub\">1</th>\n",
       "    <td class=\"gt_row gt_right\">667</td>\n",
       "    <td style=\"color: #000000; background-color: #ebe4f1;\" class=\"gt_row gt_right\">13.28%</td>\n",
       "  </tr>\n",
       "  <tr>\n",
       "    <th class=\"gt_row gt_left gt_stub\">2</th>\n",
       "    <td class=\"gt_row gt_right\">759</td>\n",
       "    <td style=\"color: #000000; background-color: #e8e0f0;\" class=\"gt_row gt_right\">15.12%</td>\n",
       "  </tr>\n",
       "  <tr>\n",
       "    <th class=\"gt_row gt_left gt_stub\">3</th>\n",
       "    <td class=\"gt_row gt_right\">757</td>\n",
       "    <td style=\"color: #000000; background-color: #e8e0f0;\" class=\"gt_row gt_right\">15.08%</td>\n",
       "  </tr>\n",
       "  <tr>\n",
       "    <th class=\"gt_row gt_left gt_stub\">4</th>\n",
       "    <td class=\"gt_row gt_right\">612</td>\n",
       "    <td style=\"color: #000000; background-color: #ece6f3;\" class=\"gt_row gt_right\">12.19%</td>\n",
       "  </tr>\n",
       "  <tr>\n",
       "    <th class=\"gt_row gt_left gt_stub\">5</th>\n",
       "    <td class=\"gt_row gt_right\">514</td>\n",
       "    <td style=\"color: #000000; background-color: #efeaf5;\" class=\"gt_row gt_right\">10.24%</td>\n",
       "  </tr>\n",
       "  <tr>\n",
       "    <th class=\"gt_row gt_left gt_stub\">6</th>\n",
       "    <td class=\"gt_row gt_right\">381</td>\n",
       "    <td style=\"color: #000000; background-color: #f3f0f7;\" class=\"gt_row gt_right\">7.59%</td>\n",
       "  </tr>\n",
       "  <tr>\n",
       "    <th class=\"gt_row gt_left gt_stub\">7</th>\n",
       "    <td class=\"gt_row gt_right\">247</td>\n",
       "    <td style=\"color: #000000; background-color: #f7f5fa;\" class=\"gt_row gt_right\">4.92%</td>\n",
       "  </tr>\n",
       "  <tr>\n",
       "    <th class=\"gt_row gt_left gt_stub\">8</th>\n",
       "    <td class=\"gt_row gt_right\">209</td>\n",
       "    <td style=\"color: #000000; background-color: #f9f7fb;\" class=\"gt_row gt_right\">4.16%</td>\n",
       "  </tr>\n",
       "  <tr>\n",
       "    <th class=\"gt_row gt_left gt_stub\">9</th>\n",
       "    <td class=\"gt_row gt_right\">127</td>\n",
       "    <td style=\"color: #000000; background-color: #fbfafc;\" class=\"gt_row gt_right\">2.53%</td>\n",
       "  </tr>\n",
       "  <tr>\n",
       "    <th class=\"gt_row gt_left gt_stub\">10</th>\n",
       "    <td class=\"gt_row gt_right\">85</td>\n",
       "    <td style=\"color: #000000; background-color: #fcfcfd;\" class=\"gt_row gt_right\">1.69%</td>\n",
       "  </tr>\n",
       "  <tr>\n",
       "    <th class=\"gt_row gt_left gt_stub\">11</th>\n",
       "    <td class=\"gt_row gt_right\">57</td>\n",
       "    <td style=\"color: #000000; background-color: #fdfdfe;\" class=\"gt_row gt_right\">1.14%</td>\n",
       "  </tr>\n",
       "  <tr>\n",
       "    <th class=\"gt_row gt_left gt_stub\">12</th>\n",
       "    <td class=\"gt_row gt_right\">50</td>\n",
       "    <td style=\"color: #000000; background-color: #fdfdfe;\" class=\"gt_row gt_right\">1.00%</td>\n",
       "  </tr>\n",
       "  <tr>\n",
       "    <th class=\"gt_row gt_left gt_stub\">13</th>\n",
       "    <td class=\"gt_row gt_right\">27</td>\n",
       "    <td style=\"color: #000000; background-color: #fefefe;\" class=\"gt_row gt_right\">0.54%</td>\n",
       "  </tr>\n",
       "  <tr>\n",
       "    <th class=\"gt_row gt_left gt_stub\">14</th>\n",
       "    <td class=\"gt_row gt_right\">31</td>\n",
       "    <td style=\"color: #000000; background-color: #fefefe;\" class=\"gt_row gt_right\">0.62%</td>\n",
       "  </tr>\n",
       "  <tr>\n",
       "    <th class=\"gt_row gt_left gt_stub\">15</th>\n",
       "    <td class=\"gt_row gt_right\">15</td>\n",
       "    <td style=\"color: #000000; background-color: #fffeff;\" class=\"gt_row gt_right\">0.30%</td>\n",
       "  </tr>\n",
       "  <tr>\n",
       "    <th class=\"gt_row gt_left gt_stub\">16</th>\n",
       "    <td class=\"gt_row gt_right\">16</td>\n",
       "    <td style=\"color: #000000; background-color: #fffeff;\" class=\"gt_row gt_right\">0.32%</td>\n",
       "  </tr>\n",
       "  <tr>\n",
       "    <th class=\"gt_row gt_left gt_stub\">17</th>\n",
       "    <td class=\"gt_row gt_right\">7</td>\n",
       "    <td style=\"color: #000000; background-color: #ffffff;\" class=\"gt_row gt_right\">0.14%</td>\n",
       "  </tr>\n",
       "  <tr>\n",
       "    <th class=\"gt_row gt_left gt_stub\">18</th>\n",
       "    <td class=\"gt_row gt_right\">4</td>\n",
       "    <td style=\"color: #000000; background-color: #ffffff;\" class=\"gt_row gt_right\">0.08%</td>\n",
       "  </tr>\n",
       "  <tr>\n",
       "    <th class=\"gt_row gt_left gt_stub\">19</th>\n",
       "    <td class=\"gt_row gt_right\">2</td>\n",
       "    <td style=\"color: #000000; background-color: #ffffff;\" class=\"gt_row gt_right\">0.04%</td>\n",
       "  </tr>\n",
       "  <tr>\n",
       "    <th class=\"gt_row gt_left gt_stub\">20</th>\n",
       "    <td class=\"gt_row gt_right\">4</td>\n",
       "    <td style=\"color: #000000; background-color: #ffffff;\" class=\"gt_row gt_right\">0.08%</td>\n",
       "  </tr>\n",
       "  <tr>\n",
       "    <th class=\"gt_row gt_left gt_stub\">22</th>\n",
       "    <td class=\"gt_row gt_right\">1</td>\n",
       "    <td style=\"color: #000000; background-color: #ffffff;\" class=\"gt_row gt_right\">0.02%</td>\n",
       "  </tr>\n",
       "  <tr>\n",
       "    <th class=\"gt_row gt_left gt_stub\">25</th>\n",
       "    <td class=\"gt_row gt_right\">1</td>\n",
       "    <td style=\"color: #000000; background-color: #ffffff;\" class=\"gt_row gt_right\">0.02%</td>\n",
       "  </tr>\n",
       "  <tr>\n",
       "    <th class=\"gt_row gt_left gt_stub\">27</th>\n",
       "    <td class=\"gt_row gt_right\">1</td>\n",
       "    <td style=\"color: #000000; background-color: #ffffff;\" class=\"gt_row gt_right\">0.02%</td>\n",
       "  </tr>\n",
       "</tbody>\n",
       "\n",
       "\n",
       "</table>\n",
       "\n",
       "</div>\n",
       "        "
      ],
      "text/plain": [
       "GT(_tbl_data=shape: (24, 3)\n",
       "┌────────────────┬───────────┬────────────┐\n",
       "│ # of Purchases ┆ Frequency ┆ % of Total │\n",
       "│ ---            ┆ ---       ┆ ---        │\n",
       "│ i16            ┆ i32       ┆ f64        │\n",
       "╞════════════════╪═══════════╪════════════╡\n",
       "│ 0              ┆ 447       ┆ 0.089026   │\n",
       "│ 1              ┆ 667       ┆ 0.132842   │\n",
       "│ 2              ┆ 759       ┆ 0.151165   │\n",
       "│ 3              ┆ 757       ┆ 0.150767   │\n",
       "│ 4              ┆ 612       ┆ 0.121888   │\n",
       "│ …              ┆ …         ┆ …          │\n",
       "│ 19             ┆ 2         ┆ 0.000398   │\n",
       "│ 20             ┆ 4         ┆ 0.000797   │\n",
       "│ 22             ┆ 1         ┆ 0.000199   │\n",
       "│ 25             ┆ 1         ┆ 0.000199   │\n",
       "│ 27             ┆ 1         ┆ 0.000199   │\n",
       "└────────────────┴───────────┴────────────┘, _body=<great_tables._gt_data.Body object at 0x10e99c050>, _boxhead=Boxhead([ColInfo(var='# of Purchases', type=<ColInfoTypeEnum.stub: 2>, column_label='# of Purchases', column_align='right', column_width=None), ColInfo(var='Frequency', type=<ColInfoTypeEnum.default: 1>, column_label='Frequency', column_align='right', column_width=None), ColInfo(var='% of Total', type=<ColInfoTypeEnum.default: 1>, column_label='% of Total', column_align='right', column_width=None)]), _stub=<great_tables._gt_data.Stub object at 0x10de7d0d0>, _spanners=Spanners([]), _heading=Heading(title='Category Purchase Distribution', subtitle=None, preheader=None), _stubhead='# of Purchases', _source_notes=[], _footnotes=[], _styles=[StyleInfo(locname=LocBody(columns='% of Total', rows=[0]), grpname=None, colname='% of Total', rownum=0, colnum=None, styles=[CellStyleText(color='#000000', font=None, size=None, align=None, v_align=None, style=None, weight=None, stretch=None, decorate=None, transform=None, whitespace=None), CellStyleFill(color='#f1edf6')]), StyleInfo(locname=LocBody(columns='% of Total', rows=[1]), grpname=None, colname='% of Total', rownum=1, colnum=None, styles=[CellStyleText(color='#000000', font=None, size=None, align=None, v_align=None, style=None, weight=None, stretch=None, decorate=None, transform=None, whitespace=None), CellStyleFill(color='#ebe4f1')]), StyleInfo(locname=LocBody(columns='% of Total', rows=[2]), grpname=None, colname='% of Total', rownum=2, colnum=None, styles=[CellStyleText(color='#000000', font=None, size=None, align=None, v_align=None, style=None, weight=None, stretch=None, decorate=None, transform=None, whitespace=None), CellStyleFill(color='#e8e0f0')]), StyleInfo(locname=LocBody(columns='% of Total', rows=[3]), grpname=None, colname='% of Total', rownum=3, colnum=None, styles=[CellStyleText(color='#000000', font=None, size=None, align=None, v_align=None, style=None, weight=None, stretch=None, decorate=None, transform=None, whitespace=None), CellStyleFill(color='#e8e0f0')]), StyleInfo(locname=LocBody(columns='% of Total', rows=[4]), grpname=None, colname='% of Total', rownum=4, colnum=None, styles=[CellStyleText(color='#000000', font=None, size=None, align=None, v_align=None, style=None, weight=None, stretch=None, decorate=None, transform=None, whitespace=None), CellStyleFill(color='#ece6f3')]), StyleInfo(locname=LocBody(columns='% of Total', rows=[5]), grpname=None, colname='% of Total', rownum=5, colnum=None, styles=[CellStyleText(color='#000000', font=None, size=None, align=None, v_align=None, style=None, weight=None, stretch=None, decorate=None, transform=None, whitespace=None), CellStyleFill(color='#efeaf5')]), StyleInfo(locname=LocBody(columns='% of Total', rows=[6]), grpname=None, colname='% of Total', rownum=6, colnum=None, styles=[CellStyleText(color='#000000', font=None, size=None, align=None, v_align=None, style=None, weight=None, stretch=None, decorate=None, transform=None, whitespace=None), CellStyleFill(color='#f3f0f7')]), StyleInfo(locname=LocBody(columns='% of Total', rows=[7]), grpname=None, colname='% of Total', rownum=7, colnum=None, styles=[CellStyleText(color='#000000', font=None, size=None, align=None, v_align=None, style=None, weight=None, stretch=None, decorate=None, transform=None, whitespace=None), CellStyleFill(color='#f7f5fa')]), StyleInfo(locname=LocBody(columns='% of Total', rows=[8]), grpname=None, colname='% of Total', rownum=8, colnum=None, styles=[CellStyleText(color='#000000', font=None, size=None, align=None, v_align=None, style=None, weight=None, stretch=None, decorate=None, transform=None, whitespace=None), CellStyleFill(color='#f9f7fb')]), StyleInfo(locname=LocBody(columns='% of Total', rows=[9]), grpname=None, colname='% of Total', rownum=9, colnum=None, styles=[CellStyleText(color='#000000', font=None, size=None, align=None, v_align=None, style=None, weight=None, stretch=None, decorate=None, transform=None, whitespace=None), CellStyleFill(color='#fbfafc')]), StyleInfo(locname=LocBody(columns='% of Total', rows=[10]), grpname=None, colname='% of Total', rownum=10, colnum=None, styles=[CellStyleText(color='#000000', font=None, size=None, align=None, v_align=None, style=None, weight=None, stretch=None, decorate=None, transform=None, whitespace=None), CellStyleFill(color='#fcfcfd')]), StyleInfo(locname=LocBody(columns='% of Total', rows=[11]), grpname=None, colname='% of Total', rownum=11, colnum=None, styles=[CellStyleText(color='#000000', font=None, size=None, align=None, v_align=None, style=None, weight=None, stretch=None, decorate=None, transform=None, whitespace=None), CellStyleFill(color='#fdfdfe')]), StyleInfo(locname=LocBody(columns='% of Total', rows=[12]), grpname=None, colname='% of Total', rownum=12, colnum=None, styles=[CellStyleText(color='#000000', font=None, size=None, align=None, v_align=None, style=None, weight=None, stretch=None, decorate=None, transform=None, whitespace=None), CellStyleFill(color='#fdfdfe')]), StyleInfo(locname=LocBody(columns='% of Total', rows=[13]), grpname=None, colname='% of Total', rownum=13, colnum=None, styles=[CellStyleText(color='#000000', font=None, size=None, align=None, v_align=None, style=None, weight=None, stretch=None, decorate=None, transform=None, whitespace=None), CellStyleFill(color='#fefefe')]), StyleInfo(locname=LocBody(columns='% of Total', rows=[14]), grpname=None, colname='% of Total', rownum=14, colnum=None, styles=[CellStyleText(color='#000000', font=None, size=None, align=None, v_align=None, style=None, weight=None, stretch=None, decorate=None, transform=None, whitespace=None), CellStyleFill(color='#fefefe')]), StyleInfo(locname=LocBody(columns='% of Total', rows=[15]), grpname=None, colname='% of Total', rownum=15, colnum=None, styles=[CellStyleText(color='#000000', font=None, size=None, align=None, v_align=None, style=None, weight=None, stretch=None, decorate=None, transform=None, whitespace=None), CellStyleFill(color='#fffeff')]), StyleInfo(locname=LocBody(columns='% of Total', rows=[16]), grpname=None, colname='% of Total', rownum=16, colnum=None, styles=[CellStyleText(color='#000000', font=None, size=None, align=None, v_align=None, style=None, weight=None, stretch=None, decorate=None, transform=None, whitespace=None), CellStyleFill(color='#fffeff')]), StyleInfo(locname=LocBody(columns='% of Total', rows=[17]), grpname=None, colname='% of Total', rownum=17, colnum=None, styles=[CellStyleText(color='#000000', font=None, size=None, align=None, v_align=None, style=None, weight=None, stretch=None, decorate=None, transform=None, whitespace=None), CellStyleFill(color='#ffffff')]), StyleInfo(locname=LocBody(columns='% of Total', rows=[18]), grpname=None, colname='% of Total', rownum=18, colnum=None, styles=[CellStyleText(color='#000000', font=None, size=None, align=None, v_align=None, style=None, weight=None, stretch=None, decorate=None, transform=None, whitespace=None), CellStyleFill(color='#ffffff')]), StyleInfo(locname=LocBody(columns='% of Total', rows=[19]), grpname=None, colname='% of Total', rownum=19, colnum=None, styles=[CellStyleText(color='#000000', font=None, size=None, align=None, v_align=None, style=None, weight=None, stretch=None, decorate=None, transform=None, whitespace=None), CellStyleFill(color='#ffffff')]), StyleInfo(locname=LocBody(columns='% of Total', rows=[20]), grpname=None, colname='% of Total', rownum=20, colnum=None, styles=[CellStyleText(color='#000000', font=None, size=None, align=None, v_align=None, style=None, weight=None, stretch=None, decorate=None, transform=None, whitespace=None), CellStyleFill(color='#ffffff')]), StyleInfo(locname=LocBody(columns='% of Total', rows=[21]), grpname=None, colname='% of Total', rownum=21, colnum=None, styles=[CellStyleText(color='#000000', font=None, size=None, align=None, v_align=None, style=None, weight=None, stretch=None, decorate=None, transform=None, whitespace=None), CellStyleFill(color='#ffffff')]), StyleInfo(locname=LocBody(columns='% of Total', rows=[22]), grpname=None, colname='% of Total', rownum=22, colnum=None, styles=[CellStyleText(color='#000000', font=None, size=None, align=None, v_align=None, style=None, weight=None, stretch=None, decorate=None, transform=None, whitespace=None), CellStyleFill(color='#ffffff')]), StyleInfo(locname=LocBody(columns='% of Total', rows=[23]), grpname=None, colname='% of Total', rownum=23, colnum=None, styles=[CellStyleText(color='#000000', font=None, size=None, align=None, v_align=None, style=None, weight=None, stretch=None, decorate=None, transform=None, whitespace=None), CellStyleFill(color='#ffffff')])], _locale=<great_tables._gt_data.Locale object at 0x10e9862d0>, _formats=[<great_tables._gt_data.FormatInfo object at 0x10e935ef0>, <great_tables._gt_data.FormatInfo object at 0x10e972390>], _substitutions=[], _options=Options(table_id=OptionsInfo(scss=False, category='table', type='value', value=None), table_caption=OptionsInfo(scss=False, category='table', type='value', value=None), table_width=OptionsInfo(scss=True, category='table', type='px', value='auto'), table_layout=OptionsInfo(scss=True, category='table', type='value', value='fixed'), table_margin_left=OptionsInfo(scss=True, category='table', type='px', value='auto'), table_margin_right=OptionsInfo(scss=True, category='table', type='px', value='auto'), table_background_color=OptionsInfo(scss=True, category='table', type='value', value='#FFFFFF'), table_additional_css=OptionsInfo(scss=False, category='table', type='values', value=[]), table_font_names=OptionsInfo(scss=False, category='table', type='values', value=['-apple-system', 'BlinkMacSystemFont', 'Segoe UI', 'Roboto', 'Oxygen', 'Ubuntu', 'Cantarell', 'Helvetica Neue', 'Fira Sans', 'Droid Sans', 'Arial', 'sans-serif']), table_font_size=OptionsInfo(scss=True, category='table', type='px', value='16px'), table_font_weight=OptionsInfo(scss=True, category='table', type='value', value='normal'), table_font_style=OptionsInfo(scss=True, category='table', type='value', value='normal'), table_font_color=OptionsInfo(scss=True, category='table', type='value', value='#333333'), table_font_color_light=OptionsInfo(scss=True, category='table', type='value', value='#FFFFFF'), table_border_top_include=OptionsInfo(scss=False, category='table', type='boolean', value=True), table_border_top_style=OptionsInfo(scss=True, category='table', type='value', value='solid'), table_border_top_width=OptionsInfo(scss=True, category='table', type='px', value='2px'), table_border_top_color=OptionsInfo(scss=True, category='table', type='value', value='#A8A8A8'), table_border_right_style=OptionsInfo(scss=True, category='table', type='value', value='none'), table_border_right_width=OptionsInfo(scss=True, category='table', type='px', value='2px'), table_border_right_color=OptionsInfo(scss=True, category='table', type='value', value='#D3D3D3'), table_border_bottom_include=OptionsInfo(scss=False, category='table', type='boolean', value=True), table_border_bottom_style=OptionsInfo(scss=True, category='table', type='value', value='solid'), table_border_bottom_width=OptionsInfo(scss=True, category='table', type='px', value='2px'), table_border_bottom_color=OptionsInfo(scss=True, category='table', type='value', value='#A8A8A8'), table_border_left_style=OptionsInfo(scss=True, category='table', type='value', value='none'), table_border_left_width=OptionsInfo(scss=True, category='table', type='px', value='2px'), table_border_left_color=OptionsInfo(scss=True, category='table', type='value', value='#D3D3D3'), heading_background_color=OptionsInfo(scss=True, category='heading', type='value', value=None), heading_align=OptionsInfo(scss=True, category='heading', type='value', value='center'), heading_title_font_size=OptionsInfo(scss=True, category='heading', type='px', value='125%'), heading_title_font_weight=OptionsInfo(scss=True, category='heading', type='value', value='initial'), heading_subtitle_font_size=OptionsInfo(scss=True, category='heading', type='px', value='85%'), heading_subtitle_font_weight=OptionsInfo(scss=True, category='heading', type='value', value='initial'), heading_padding=OptionsInfo(scss=True, category='heading', type='px', value='4px'), heading_padding_horizontal=OptionsInfo(scss=True, category='heading', type='px', value='5px'), heading_border_bottom_style=OptionsInfo(scss=True, category='heading', type='value', value='solid'), heading_border_bottom_width=OptionsInfo(scss=True, category='heading', type='px', value='2px'), heading_border_bottom_color=OptionsInfo(scss=True, category='heading', type='value', value='#D3D3D3'), heading_border_lr_style=OptionsInfo(scss=True, category='heading', type='value', value='none'), heading_border_lr_width=OptionsInfo(scss=True, category='heading', type='px', value='1px'), heading_border_lr_color=OptionsInfo(scss=True, category='heading', type='value', value='#D3D3D3'), column_labels_background_color=OptionsInfo(scss=True, category='column_labels', type='value', value=None), column_labels_font_size=OptionsInfo(scss=True, category='column_labels', type='px', value='100%'), column_labels_font_weight=OptionsInfo(scss=True, category='column_labels', type='value', value='normal'), column_labels_text_transform=OptionsInfo(scss=True, category='column_labels', type='value', value='inherit'), column_labels_padding=OptionsInfo(scss=True, category='column_labels', type='px', value='5px'), column_labels_padding_horizontal=OptionsInfo(scss=True, category='column_labels', type='px', value='5px'), column_labels_vlines_style=OptionsInfo(scss=True, category='table_body', type='value', value='none'), column_labels_vlines_width=OptionsInfo(scss=True, category='table_body', type='px', value='1px'), column_labels_vlines_color=OptionsInfo(scss=True, category='table_body', type='value', value='#D3D3D3'), column_labels_border_top_style=OptionsInfo(scss=True, category='column_labels', type='value', value='solid'), column_labels_border_top_width=OptionsInfo(scss=True, category='column_labels', type='px', value='2px'), column_labels_border_top_color=OptionsInfo(scss=True, category='column_labels', type='value', value='#D3D3D3'), column_labels_border_bottom_style=OptionsInfo(scss=True, category='column_labels', type='value', value='solid'), column_labels_border_bottom_width=OptionsInfo(scss=True, category='column_labels', type='px', value='2px'), column_labels_border_bottom_color=OptionsInfo(scss=True, category='column_labels', type='value', value='#D3D3D3'), column_labels_border_lr_style=OptionsInfo(scss=True, category='column_labels', type='value', value='none'), column_labels_border_lr_width=OptionsInfo(scss=True, category='column_labels', type='px', value='1px'), column_labels_border_lr_color=OptionsInfo(scss=True, category='column_labels', type='value', value='#D3D3D3'), column_labels_hidden=OptionsInfo(scss=False, category='column_labels', type='boolean', value=False), row_group_background_color=OptionsInfo(scss=True, category='row_group', type='value', value=None), row_group_font_size=OptionsInfo(scss=True, category='row_group', type='px', value='100%'), row_group_font_weight=OptionsInfo(scss=True, category='row_group', type='value', value='initial'), row_group_text_transform=OptionsInfo(scss=True, category='row_group', type='value', value='inherit'), row_group_padding=OptionsInfo(scss=True, category='row_group', type='px', value='8px'), row_group_padding_horizontal=OptionsInfo(scss=True, category='row_group', type='px', value='5px'), row_group_border_top_style=OptionsInfo(scss=True, category='row_group', type='value', value='solid'), row_group_border_top_width=OptionsInfo(scss=True, category='row_group', type='px', value='2px'), row_group_border_top_color=OptionsInfo(scss=True, category='row_group', type='value', value='#D3D3D3'), row_group_border_right_style=OptionsInfo(scss=True, category='row_group', type='value', value='none'), row_group_border_right_width=OptionsInfo(scss=True, category='row_group', type='px', value='1px'), row_group_border_right_color=OptionsInfo(scss=True, category='row_group', type='value', value='#D3D3D3'), row_group_border_bottom_style=OptionsInfo(scss=True, category='row_group', type='value', value='solid'), row_group_border_bottom_width=OptionsInfo(scss=True, category='row_group', type='px', value='2px'), row_group_border_bottom_color=OptionsInfo(scss=True, category='row_group', type='value', value='#D3D3D3'), row_group_border_left_style=OptionsInfo(scss=True, category='row_group', type='value', value='none'), row_group_border_left_width=OptionsInfo(scss=True, category='row_group', type='px', value='1px'), row_group_border_left_color=OptionsInfo(scss=True, category='row_group', type='value', value='#D3D3D3'), row_group_as_column=OptionsInfo(scss=False, category='row_group', type='boolean', value=False), table_body_hlines_style=OptionsInfo(scss=True, category='table_body', type='value', value='solid'), table_body_hlines_width=OptionsInfo(scss=True, category='table_body', type='px', value='1px'), table_body_hlines_color=OptionsInfo(scss=True, category='table_body', type='value', value='#D3D3D3'), table_body_vlines_style=OptionsInfo(scss=True, category='table_body', type='value', value='none'), table_body_vlines_width=OptionsInfo(scss=True, category='table_body', type='px', value='1px'), table_body_vlines_color=OptionsInfo(scss=True, category='table_body', type='value', value='#D3D3D3'), table_body_border_top_style=OptionsInfo(scss=True, category='table_body', type='value', value='solid'), table_body_border_top_width=OptionsInfo(scss=True, category='table_body', type='px', value='2px'), table_body_border_top_color=OptionsInfo(scss=True, category='table_body', type='value', value='#D3D3D3'), table_body_border_bottom_style=OptionsInfo(scss=True, category='table_body', type='value', value='solid'), table_body_border_bottom_width=OptionsInfo(scss=True, category='table_body', type='px', value='2px'), table_body_border_bottom_color=OptionsInfo(scss=True, category='table_body', type='value', value='#D3D3D3'), data_row_padding=OptionsInfo(scss=True, category='data_row', type='px', value='8px'), data_row_padding_horizontal=OptionsInfo(scss=True, category='data_row', type='px', value='5px'), stub_background_color=OptionsInfo(scss=True, category='stub', type='value', value=None), stub_font_size=OptionsInfo(scss=True, category='stub', type='px', value='100%'), stub_font_weight=OptionsInfo(scss=True, category='stub', type='value', value='initial'), stub_text_transform=OptionsInfo(scss=True, category='stub', type='value', value='inherit'), stub_border_style=OptionsInfo(scss=True, category='stub', type='value', value='solid'), stub_border_width=OptionsInfo(scss=True, category='stub', type='px', value='2px'), stub_border_color=OptionsInfo(scss=True, category='stub', type='value', value='#D3D3D3'), stub_row_group_background_color=OptionsInfo(scss=True, category='stub', type='value', value=None), stub_row_group_font_size=OptionsInfo(scss=True, category='stub', type='px', value='100%'), stub_row_group_font_weight=OptionsInfo(scss=True, category='stub', type='value', value='initial'), stub_row_group_text_transform=OptionsInfo(scss=True, category='stub', type='value', value='inherit'), stub_row_group_border_style=OptionsInfo(scss=True, category='stub', type='value', value='solid'), stub_row_group_border_width=OptionsInfo(scss=True, category='stub', type='px', value='2px'), stub_row_group_border_color=OptionsInfo(scss=True, category='stub', type='value', value='#D3D3D3'), source_notes_padding=OptionsInfo(scss=True, category='source_notes', type='px', value='4px'), source_notes_padding_horizontal=OptionsInfo(scss=True, category='source_notes', type='px', value='5px'), source_notes_background_color=OptionsInfo(scss=True, category='source_notes', type='value', value=None), source_notes_font_size=OptionsInfo(scss=True, category='source_notes', type='px', value='90%'), source_notes_border_bottom_style=OptionsInfo(scss=True, category='source_notes', type='value', value='none'), source_notes_border_bottom_width=OptionsInfo(scss=True, category='source_notes', type='px', value='2px'), source_notes_border_bottom_color=OptionsInfo(scss=True, category='source_notes', type='value', value='#D3D3D3'), source_notes_border_lr_style=OptionsInfo(scss=True, category='source_notes', type='value', value='none'), source_notes_border_lr_width=OptionsInfo(scss=True, category='source_notes', type='px', value='2px'), source_notes_border_lr_color=OptionsInfo(scss=True, category='source_notes', type='value', value='#D3D3D3'), source_notes_multiline=OptionsInfo(scss=False, category='source_notes', type='boolean', value=True), source_notes_sep=OptionsInfo(scss=False, category='source_notes', type='value', value=' '), row_striping_background_color=OptionsInfo(scss=True, category='row', type='value', value='rgba(128,128,128,0.05)'), row_striping_include_stub=OptionsInfo(scss=False, category='row', type='boolean', value=False), row_striping_include_table_body=OptionsInfo(scss=False, category='row', type='boolean', value=False), container_width=OptionsInfo(scss=False, category='container', type='px', value='auto'), container_height=OptionsInfo(scss=False, category='container', type='px', value='auto'), container_padding_x=OptionsInfo(scss=False, category='container', type='px', value='0px'), container_padding_y=OptionsInfo(scss=False, category='container', type='px', value='10px'), container_overflow_x=OptionsInfo(scss=False, category='container', type='overflow', value='auto'), container_overflow_y=OptionsInfo(scss=False, category='container', type='overflow', value='auto'), quarto_disable_processing=OptionsInfo(scss=False, category='quarto', type='logical', value=False), quarto_use_bootstrap=OptionsInfo(scss=False, category='quarto', type='logical', value=False)), _has_built=False)"
      ]
     },
     "execution_count": 77,
     "metadata": {},
     "output_type": "execute_result"
    }
   ],
   "source": [
    "category_trans_dist = (\n",
    "    trans_summary('Category', grocery_lf, 1)\n",
    "    .group_by(pl.col('# of Purchases').cast(pl.Int16))\n",
    "    .agg(pl.len().cast(pl.Int32).alias(\"Frequency\"))\n",
    "    .collect() \n",
    "    .pipe(\n",
    "        lambda df: df.vstack(\n",
    "            pl.DataFrame(\n",
    "                {\n",
    "                    \"# of Purchases\": [0],\n",
    "                    \"Frequency\": [panel_size - df[\"Frequency\"].sum()],\n",
    "                }\n",
    "            ).with_columns(\n",
    "                pl.col(\"# of Purchases\").cast(pl.Int16),\n",
    "                pl.col('Frequency').cast(pl.Int32)\n",
    "                )\n",
    "        )\n",
    "    )\n",
    "    .sort(by='# of Purchases')\n",
    "    .with_columns(\n",
    "        (pl.col('Frequency') / pl.col('Frequency').sum()).cast(pl.Float64).alias(\"% of Total\")\n",
    "    )    \n",
    ")\n",
    "\n",
    "(\n",
    "    GT(category_trans_dist, rowname_col='# of Purchases')\n",
    "    .tab_header(title='Category Purchase Distribution')\n",
    "    .tab_stubhead(label=\"# of Purchases\")\n",
    "    .fmt_integer(columns='Frequency')\n",
    "    .fmt_percent(columns='% of Total')\n",
    "    .data_color(\n",
    "        columns=['% of Total'],\n",
    "        domain=[0, 1],\n",
    "        palette=['white', 'rebeccapurple']\n",
    "    )  \n",
    ")"
   ]
  },
  {
   "cell_type": "code",
   "execution_count": 78,
   "metadata": {},
   "outputs": [
    {
     "data": {
      "application/vnd.vegalite.v5+json": {
       "$schema": "https://vega.github.io/schema/vega-lite/v5.20.1.json",
       "config": {
        "view": {
         "continuousHeight": 300,
         "continuousWidth": 300
        }
       },
       "data": {
        "name": "data-4322957793433f898d00a0a95915944f"
       },
       "datasets": {
        "data-4322957793433f898d00a0a95915944f": [
         {
          "# of Purchases": 0,
          "% of Total": 0.08902609042023502,
          "Frequency": 447,
          "cut": "0"
         },
         {
          "# of Purchases": 1,
          "% of Total": 0.1328420633339972,
          "Frequency": 667,
          "cut": "1"
         },
         {
          "# of Purchases": 2,
          "% of Total": 0.15116510655247958,
          "Frequency": 759,
          "cut": "2"
         },
         {
          "# of Purchases": 3,
          "% of Total": 0.15076677952599082,
          "Frequency": 757,
          "cut": "3"
         },
         {
          "# of Purchases": 4,
          "% of Total": 0.12188807010555666,
          "Frequency": 612,
          "cut": "4"
         },
         {
          "# of Purchases": 5,
          "% of Total": 0.10237004580760804,
          "Frequency": 514,
          "cut": "5"
         },
         {
          "# of Purchases": 6,
          "% of Total": 0.07588129854610635,
          "Frequency": 381,
          "cut": "6"
         },
         {
          "# of Purchases": 7,
          "% of Total": 0.049193387771360286,
          "Frequency": 247,
          "cut": "7"
         },
         {
          "# of Purchases": 8,
          "% of Total": 0.041625174268074085,
          "Frequency": 209,
          "cut": "8"
         },
         {
          "# of Purchases": 9,
          "% of Total": 0.02529376618203545,
          "Frequency": 127,
          "cut": "9"
         },
         {
          "# of Purchases": 10,
          "% of Total": 0.01692889862577176,
          "Frequency": 85,
          "cut": "10"
         },
         {
          "# of Purchases": 11,
          "% of Total": 0.011352320254929297,
          "Frequency": 57,
          "cut": "11"
         },
         {
          "# of Purchases": 12,
          "% of Total": 0.00995817566221868,
          "Frequency": 50,
          "cut": "12"
         },
         {
          "# of Purchases": 13,
          "% of Total": 0.005377414857598088,
          "Frequency": 27,
          "cut": "13"
         },
         {
          "# of Purchases": 14,
          "% of Total": 0.006174068910575582,
          "Frequency": 31,
          "cut": "14"
         },
         {
          "# of Purchases": 15,
          "% of Total": 0.0029874526986656044,
          "Frequency": 15,
          "cut": "15+"
         },
         {
          "# of Purchases": 16,
          "% of Total": 0.003186616211909978,
          "Frequency": 16,
          "cut": "15+"
         },
         {
          "# of Purchases": 17,
          "% of Total": 0.0013941445927106153,
          "Frequency": 7,
          "cut": "15+"
         },
         {
          "# of Purchases": 18,
          "% of Total": 0.0007966540529774945,
          "Frequency": 4,
          "cut": "15+"
         },
         {
          "# of Purchases": 19,
          "% of Total": 0.00039832702648874725,
          "Frequency": 2,
          "cut": "15+"
         },
         {
          "# of Purchases": 20,
          "% of Total": 0.0007966540529774945,
          "Frequency": 4,
          "cut": "15+"
         },
         {
          "# of Purchases": 22,
          "% of Total": 0.00019916351324437363,
          "Frequency": 1,
          "cut": "15+"
         },
         {
          "# of Purchases": 25,
          "% of Total": 0.00019916351324437363,
          "Frequency": 1,
          "cut": "15+"
         },
         {
          "# of Purchases": 27,
          "% of Total": 0.00019916351324437363,
          "Frequency": 1,
          "cut": "15+"
         }
        ]
       },
       "encoding": {
        "x": {
         "axis": {
          "labelAngle": 0,
          "title": "Number of Category Transactions"
         },
         "field": "cut",
         "sort": [
          "0",
          "1",
          "2",
          "3",
          "4",
          "5",
          "6",
          "7",
          "8",
          "9",
          "10",
          "11",
          "12",
          "13",
          "14",
          "15+"
         ],
         "type": "ordinal"
        },
        "y": {
         "axis": {
          "format": ".0%",
          "title": "% of Households"
         },
         "field": "% of Total",
         "type": "quantitative"
        }
       },
       "height": 250,
       "mark": {
        "type": "bar"
       },
       "title": {
        "subtitle": "Distribution of category purchasing in year 1",
        "text": "Category Transaction Distribution (%)"
       },
       "width": 650
      },
      "text/plain": [
       "<VegaLite 5 object>\n",
       "\n",
       "If you see this message, it means the renderer has not been properly enabled\n",
       "for the frontend that you are using. For more information, see\n",
       "https://altair-viz.github.io/user_guide/display_frontends.html#troubleshooting\n"
      ]
     },
     "metadata": {},
     "output_type": "display_data"
    }
   ],
   "source": [
    "labels = [str(i) if i < 15 else '15+' for i in range(16)]\n",
    "\n",
    "category_trans_dist = category_trans_dist.with_columns(\n",
    "    pl.col('# of Purchases').cut(np.arange(0,15,1), labels=labels).alias('cut')    \n",
    ")\n",
    "chart = alt.Chart(category_trans_dist).mark_bar().encode(\n",
    "    x=alt.X(\"cut:O\", \n",
    "            axis=alt.Axis(labelAngle=0, title=\"Number of Category Transactions\"), sort=labels),\n",
    "    y=alt.Y(\"% of Total:Q\",\n",
    "            axis=alt.Axis(format=\".0%\", title=\"% of Households\")), \n",
    ").properties(\n",
    "    width=650,\n",
    "    height=250,\n",
    "    title={\n",
    "        'text': 'Category Transaction Distribution (%)',\n",
    "        'subtitle': 'Distribution of category purchasing in year 1'\n",
    "    }\n",
    ").show()"
   ]
  },
  {
   "cell_type": "markdown",
   "metadata": {},
   "source": [
    "##### Distribution of Brand Purchase Frequency"
   ]
  },
  {
   "cell_type": "code",
   "execution_count": 79,
   "metadata": {},
   "outputs": [
    {
     "data": {
      "text/html": [
       "<div id=\"dpedjulykr\" style=\"padding-left:0px;padding-right:0px;padding-top:10px;padding-bottom:10px;overflow-x:auto;overflow-y:auto;width:auto;height:auto;\">\n",
       "<style>\n",
       "#dpedjulykr table {\n",
       "          font-family: -apple-system, BlinkMacSystemFont, 'Segoe UI', Roboto, Oxygen, Ubuntu, Cantarell, 'Helvetica Neue', 'Fira Sans', 'Droid Sans', Arial, sans-serif;\n",
       "          -webkit-font-smoothing: antialiased;\n",
       "          -moz-osx-font-smoothing: grayscale;\n",
       "        }\n",
       "\n",
       "#dpedjulykr thead, tbody, tfoot, tr, td, th { border-style: none !important; }\n",
       " tr { background-color: transparent !important; }\n",
       "#dpedjulykr p { margin: 0 !important; padding: 0 !important; }\n",
       " #dpedjulykr .gt_table { display: table !important; border-collapse: collapse !important; line-height: normal !important; margin-left: auto !important; margin-right: auto !important; color: #333333 !important; font-size: 16px !important; font-weight: normal !important; font-style: normal !important; background-color: #FFFFFF !important; width: auto !important; border-top-style: solid !important; border-top-width: 2px !important; border-top-color: #A8A8A8 !important; border-right-style: none !important; border-right-width: 2px !important; border-right-color: #D3D3D3 !important; border-bottom-style: solid !important; border-bottom-width: 2px !important; border-bottom-color: #A8A8A8 !important; border-left-style: none !important; border-left-width: 2px !important; border-left-color: #D3D3D3 !important; }\n",
       " #dpedjulykr .gt_caption { padding-top: 4px !important; padding-bottom: 4px !important; }\n",
       " #dpedjulykr .gt_title { color: #333333 !important; font-size: 125% !important; font-weight: initial !important; padding-top: 4px !important; padding-bottom: 4px !important; padding-left: 5px !important; padding-right: 5px !important; border-bottom-color: #FFFFFF !important; border-bottom-width: 0 !important; }\n",
       " #dpedjulykr .gt_subtitle { color: #333333 !important; font-size: 85% !important; font-weight: initial !important; padding-top: 3px !important; padding-bottom: 5px !important; padding-left: 5px !important; padding-right: 5px !important; border-top-color: #FFFFFF !important; border-top-width: 0 !important; }\n",
       " #dpedjulykr .gt_heading { background-color: #FFFFFF !important; text-align: center !important; border-bottom-color: #FFFFFF !important; border-left-style: none !important; border-left-width: 1px !important; border-left-color: #D3D3D3 !important; border-right-style: none !important; border-right-width: 1px !important; border-right-color: #D3D3D3 !important; }\n",
       " #dpedjulykr .gt_bottom_border { border-bottom-style: solid !important; border-bottom-width: 2px !important; border-bottom-color: #D3D3D3 !important; }\n",
       " #dpedjulykr .gt_col_headings { border-top-style: solid !important; border-top-width: 2px !important; border-top-color: #D3D3D3 !important; border-bottom-style: solid !important; border-bottom-width: 2px !important; border-bottom-color: #D3D3D3 !important; border-left-style: none !important; border-left-width: 1px !important; border-left-color: #D3D3D3 !important; border-right-style: none !important; border-right-width: 1px !important; border-right-color: #D3D3D3 !important; }\n",
       " #dpedjulykr .gt_col_heading { color: #333333 !important; background-color: #FFFFFF !important; font-size: 100% !important; font-weight: normal !important; text-transform: inherit !important; border-left-style: none !important; border-left-width: 1px !important; border-left-color: #D3D3D3 !important; border-right-style: none !important; border-right-width: 1px !important; border-right-color: #D3D3D3 !important; vertical-align: bottom !important; padding-top: 5px !important; padding-bottom: 5px !important; padding-left: 5px !important; padding-right: 5px !important; overflow-x: hidden !important; }\n",
       " #dpedjulykr .gt_column_spanner_outer { color: #333333 !important; background-color: #FFFFFF !important; font-size: 100% !important; font-weight: normal !important; text-transform: inherit !important; padding-top: 0 !important; padding-bottom: 0 !important; padding-left: 4px !important; padding-right: 4px !important; }\n",
       " #dpedjulykr .gt_column_spanner_outer:first-child { padding-left: 0 !important; }\n",
       " #dpedjulykr .gt_column_spanner_outer:last-child { padding-right: 0 !important; }\n",
       " #dpedjulykr .gt_column_spanner { border-bottom-style: solid !important; border-bottom-width: 2px !important; border-bottom-color: #D3D3D3 !important; vertical-align: bottom !important; padding-top: 5px !important; padding-bottom: 5px !important; overflow-x: hidden !important; display: inline-block !important; width: 100% !important; }\n",
       " #dpedjulykr .gt_spanner_row { border-bottom-style: hidden !important; }\n",
       " #dpedjulykr .gt_group_heading { padding-top: 8px !important; padding-bottom: 8px !important; padding-left: 5px !important; padding-right: 5px !important; color: #333333 !important; background-color: #FFFFFF !important; font-size: 100% !important; font-weight: initial !important; text-transform: inherit !important; border-top-style: solid !important; border-top-width: 2px !important; border-top-color: #D3D3D3 !important; border-bottom-style: solid !important; border-bottom-width: 2px !important; border-bottom-color: #D3D3D3 !important; border-left-style: none !important; border-left-width: 1px !important; border-left-color: #D3D3D3 !important; border-right-style: none !important; border-right-width: 1px !important; border-right-color: #D3D3D3 !important; vertical-align: middle !important; text-align: left !important; }\n",
       " #dpedjulykr .gt_empty_group_heading { padding: 0.5px !important; color: #333333 !important; background-color: #FFFFFF !important; font-size: 100% !important; font-weight: initial !important; border-top-style: solid !important; border-top-width: 2px !important; border-top-color: #D3D3D3 !important; border-bottom-style: solid !important; border-bottom-width: 2px !important; border-bottom-color: #D3D3D3 !important; vertical-align: middle !important; }\n",
       " #dpedjulykr .gt_from_md> :first-child { margin-top: 0 !important; }\n",
       " #dpedjulykr .gt_from_md> :last-child { margin-bottom: 0 !important; }\n",
       " #dpedjulykr .gt_row { padding-top: 8px !important; padding-bottom: 8px !important; padding-left: 5px !important; padding-right: 5px !important; margin: 10px !important; border-top-style: solid !important; border-top-width: 1px !important; border-top-color: #D3D3D3 !important; border-left-style: none !important; border-left-width: 1px !important; border-left-color: #D3D3D3 !important; border-right-style: none !important; border-right-width: 1px !important; border-right-color: #D3D3D3 !important; vertical-align: middle !important; overflow-x: hidden !important; }\n",
       " #dpedjulykr .gt_stub { color: #333333 !important; background-color: #FFFFFF !important; font-size: 100% !important; font-weight: initial !important; text-transform: inherit !important; border-right-style: solid !important; border-right-width: 2px !important; border-right-color: #D3D3D3 !important; padding-left: 5px !important; padding-right: 5px !important; }\n",
       " #dpedjulykr .gt_stub_row_group { color: #333333 !important; background-color: #FFFFFF !important; font-size: 100% !important; font-weight: initial !important; text-transform: inherit !important; border-right-style: solid !important; border-right-width: 2px !important; border-right-color: #D3D3D3 !important; padding-left: 5px !important; padding-right: 5px !important; vertical-align: top !important; }\n",
       " #dpedjulykr .gt_row_group_first td { border-top-width: 2px !important; }\n",
       " #dpedjulykr .gt_row_group_first th { border-top-width: 2px !important; }\n",
       " #dpedjulykr .gt_striped { background-color: rgba(128,128,128,0.05) !important; }\n",
       " #dpedjulykr .gt_table_body { border-top-style: solid !important; border-top-width: 2px !important; border-top-color: #D3D3D3 !important; border-bottom-style: solid !important; border-bottom-width: 2px !important; border-bottom-color: #D3D3D3 !important; }\n",
       " #dpedjulykr .gt_sourcenotes { color: #333333 !important; background-color: #FFFFFF !important; border-bottom-style: none !important; border-bottom-width: 2px !important; border-bottom-color: #D3D3D3 !important; border-left-style: none !important; border-left-width: 2px !important; border-left-color: #D3D3D3 !important; border-right-style: none !important; border-right-width: 2px !important; border-right-color: #D3D3D3 !important; }\n",
       " #dpedjulykr .gt_sourcenote { font-size: 90% !important; padding-top: 4px !important; padding-bottom: 4px !important; padding-left: 5px !important; padding-right: 5px !important; text-align: left !important; }\n",
       " #dpedjulykr .gt_left { text-align: left !important; }\n",
       " #dpedjulykr .gt_center { text-align: center !important; }\n",
       " #dpedjulykr .gt_right { text-align: right !important; font-variant-numeric: tabular-nums !important; }\n",
       " #dpedjulykr .gt_font_normal { font-weight: normal !important; }\n",
       " #dpedjulykr .gt_font_bold { font-weight: bold !important; }\n",
       " #dpedjulykr .gt_font_italic { font-style: italic !important; }\n",
       " #dpedjulykr .gt_super { font-size: 65% !important; }\n",
       " #dpedjulykr .gt_footnote_marks { font-size: 75% !important; vertical-align: 0.4em !important; position: initial !important; }\n",
       " #dpedjulykr .gt_asterisk { font-size: 100% !important; vertical-align: 0 !important; }\n",
       " \n",
       "</style>\n",
       "<table class=\"gt_table\" data-quarto-disable-processing=\"false\" data-quarto-bootstrap=\"false\">\n",
       "<thead>\n",
       "\n",
       "  <tr class=\"gt_heading\">\n",
       "    <td colspan=\"3\" class=\"gt_heading gt_title gt_font_normal\">Alpha Purchase Distribution</td>\n",
       "  </tr>\n",
       "<tr class=\"gt_col_headings\">\n",
       "  <th class=\"gt_col_heading gt_columns_bottom_border gt_left\" rowspan=\"1\" colspan=\"1\" scope=\"col\" id=\"# of Purchases\"># of Purchases</th>\n",
       "  <th class=\"gt_col_heading gt_columns_bottom_border gt_right\" rowspan=\"1\" colspan=\"1\" scope=\"col\" id=\"Frequency\">Frequency</th>\n",
       "  <th class=\"gt_col_heading gt_columns_bottom_border gt_right\" rowspan=\"1\" colspan=\"1\" scope=\"col\" id=\"% of Total\">% of Total</th>\n",
       "</tr>\n",
       "</thead>\n",
       "<tbody class=\"gt_table_body\">\n",
       "  <tr>\n",
       "    <th class=\"gt_row gt_left gt_stub\">0</th>\n",
       "    <td class=\"gt_row gt_right\">2,397</td>\n",
       "    <td style=\"color: #000000; background-color: #b69ece;\" class=\"gt_row gt_right\">47.74%</td>\n",
       "  </tr>\n",
       "  <tr>\n",
       "    <th class=\"gt_row gt_left gt_stub\">1</th>\n",
       "    <td class=\"gt_row gt_right\">733</td>\n",
       "    <td style=\"color: #000000; background-color: #e9e1f0;\" class=\"gt_row gt_right\">14.60%</td>\n",
       "  </tr>\n",
       "  <tr>\n",
       "    <th class=\"gt_row gt_left gt_stub\">2</th>\n",
       "    <td class=\"gt_row gt_right\">517</td>\n",
       "    <td style=\"color: #000000; background-color: #efeaf4;\" class=\"gt_row gt_right\">10.30%</td>\n",
       "  </tr>\n",
       "  <tr>\n",
       "    <th class=\"gt_row gt_left gt_stub\">3</th>\n",
       "    <td class=\"gt_row gt_right\">400</td>\n",
       "    <td style=\"color: #000000; background-color: #f3eff7;\" class=\"gt_row gt_right\">7.97%</td>\n",
       "  </tr>\n",
       "  <tr>\n",
       "    <th class=\"gt_row gt_left gt_stub\">4</th>\n",
       "    <td class=\"gt_row gt_right\">277</td>\n",
       "    <td style=\"color: #000000; background-color: #f7f4f9;\" class=\"gt_row gt_right\">5.52%</td>\n",
       "  </tr>\n",
       "  <tr>\n",
       "    <th class=\"gt_row gt_left gt_stub\">5</th>\n",
       "    <td class=\"gt_row gt_right\">227</td>\n",
       "    <td style=\"color: #000000; background-color: #f8f6fa;\" class=\"gt_row gt_right\">4.52%</td>\n",
       "  </tr>\n",
       "  <tr>\n",
       "    <th class=\"gt_row gt_left gt_stub\">6</th>\n",
       "    <td class=\"gt_row gt_right\">144</td>\n",
       "    <td style=\"color: #000000; background-color: #fbf9fc;\" class=\"gt_row gt_right\">2.87%</td>\n",
       "  </tr>\n",
       "  <tr>\n",
       "    <th class=\"gt_row gt_left gt_stub\">7</th>\n",
       "    <td class=\"gt_row gt_right\">101</td>\n",
       "    <td style=\"color: #000000; background-color: #fcfbfd;\" class=\"gt_row gt_right\">2.01%</td>\n",
       "  </tr>\n",
       "  <tr>\n",
       "    <th class=\"gt_row gt_left gt_stub\">8</th>\n",
       "    <td class=\"gt_row gt_right\">71</td>\n",
       "    <td style=\"color: #000000; background-color: #fdfcfe;\" class=\"gt_row gt_right\">1.41%</td>\n",
       "  </tr>\n",
       "  <tr>\n",
       "    <th class=\"gt_row gt_left gt_stub\">9</th>\n",
       "    <td class=\"gt_row gt_right\">47</td>\n",
       "    <td style=\"color: #000000; background-color: #fefdfe;\" class=\"gt_row gt_right\">0.94%</td>\n",
       "  </tr>\n",
       "  <tr>\n",
       "    <th class=\"gt_row gt_left gt_stub\">10</th>\n",
       "    <td class=\"gt_row gt_right\">28</td>\n",
       "    <td style=\"color: #000000; background-color: #fefefe;\" class=\"gt_row gt_right\">0.56%</td>\n",
       "  </tr>\n",
       "  <tr>\n",
       "    <th class=\"gt_row gt_left gt_stub\">11</th>\n",
       "    <td class=\"gt_row gt_right\">24</td>\n",
       "    <td style=\"color: #000000; background-color: #fefeff;\" class=\"gt_row gt_right\">0.48%</td>\n",
       "  </tr>\n",
       "  <tr>\n",
       "    <th class=\"gt_row gt_left gt_stub\">12</th>\n",
       "    <td class=\"gt_row gt_right\">16</td>\n",
       "    <td style=\"color: #000000; background-color: #fffeff;\" class=\"gt_row gt_right\">0.32%</td>\n",
       "  </tr>\n",
       "  <tr>\n",
       "    <th class=\"gt_row gt_left gt_stub\">13</th>\n",
       "    <td class=\"gt_row gt_right\">16</td>\n",
       "    <td style=\"color: #000000; background-color: #fffeff;\" class=\"gt_row gt_right\">0.32%</td>\n",
       "  </tr>\n",
       "  <tr>\n",
       "    <th class=\"gt_row gt_left gt_stub\">14</th>\n",
       "    <td class=\"gt_row gt_right\">12</td>\n",
       "    <td style=\"color: #000000; background-color: #ffffff;\" class=\"gt_row gt_right\">0.24%</td>\n",
       "  </tr>\n",
       "  <tr>\n",
       "    <th class=\"gt_row gt_left gt_stub\">15</th>\n",
       "    <td class=\"gt_row gt_right\">6</td>\n",
       "    <td style=\"color: #000000; background-color: #ffffff;\" class=\"gt_row gt_right\">0.12%</td>\n",
       "  </tr>\n",
       "  <tr>\n",
       "    <th class=\"gt_row gt_left gt_stub\">16</th>\n",
       "    <td class=\"gt_row gt_right\">3</td>\n",
       "    <td style=\"color: #000000; background-color: #ffffff;\" class=\"gt_row gt_right\">0.06%</td>\n",
       "  </tr>\n",
       "  <tr>\n",
       "    <th class=\"gt_row gt_left gt_stub\">18</th>\n",
       "    <td class=\"gt_row gt_right\">1</td>\n",
       "    <td style=\"color: #000000; background-color: #ffffff;\" class=\"gt_row gt_right\">0.02%</td>\n",
       "  </tr>\n",
       "  <tr>\n",
       "    <th class=\"gt_row gt_left gt_stub\">20</th>\n",
       "    <td class=\"gt_row gt_right\">1</td>\n",
       "    <td style=\"color: #000000; background-color: #ffffff;\" class=\"gt_row gt_right\">0.02%</td>\n",
       "  </tr>\n",
       "</tbody>\n",
       "\n",
       "\n",
       "</table>\n",
       "\n",
       "</div>\n",
       "        "
      ],
      "text/plain": [
       "GT(_tbl_data=shape: (19, 3)\n",
       "┌────────────────┬───────────┬────────────┐\n",
       "│ # of Purchases ┆ Frequency ┆ % of Total │\n",
       "│ ---            ┆ ---       ┆ ---        │\n",
       "│ i16            ┆ i32       ┆ f64        │\n",
       "╞════════════════╪═══════════╪════════════╡\n",
       "│ 0              ┆ 2397      ┆ 0.477395   │\n",
       "│ 1              ┆ 733       ┆ 0.145987   │\n",
       "│ 2              ┆ 517       ┆ 0.102968   │\n",
       "│ 3              ┆ 400       ┆ 0.079665   │\n",
       "│ 4              ┆ 277       ┆ 0.055168   │\n",
       "│ …              ┆ …         ┆ …          │\n",
       "│ 14             ┆ 12        ┆ 0.00239    │\n",
       "│ 15             ┆ 6         ┆ 0.001195   │\n",
       "│ 16             ┆ 3         ┆ 0.000597   │\n",
       "│ 18             ┆ 1         ┆ 0.000199   │\n",
       "│ 20             ┆ 1         ┆ 0.000199   │\n",
       "└────────────────┴───────────┴────────────┘, _body=<great_tables._gt_data.Body object at 0x10e9446e0>, _boxhead=Boxhead([ColInfo(var='# of Purchases', type=<ColInfoTypeEnum.stub: 2>, column_label='# of Purchases', column_align='right', column_width=None), ColInfo(var='Frequency', type=<ColInfoTypeEnum.default: 1>, column_label='Frequency', column_align='right', column_width=None), ColInfo(var='% of Total', type=<ColInfoTypeEnum.default: 1>, column_label='% of Total', column_align='right', column_width=None)]), _stub=<great_tables._gt_data.Stub object at 0x10e983460>, _spanners=Spanners([]), _heading=Heading(title='Alpha Purchase Distribution', subtitle=None, preheader=None), _stubhead='# of Purchases', _source_notes=[], _footnotes=[], _styles=[StyleInfo(locname=LocBody(columns='% of Total', rows=[0]), grpname=None, colname='% of Total', rownum=0, colnum=None, styles=[CellStyleText(color='#000000', font=None, size=None, align=None, v_align=None, style=None, weight=None, stretch=None, decorate=None, transform=None, whitespace=None), CellStyleFill(color='#b69ece')]), StyleInfo(locname=LocBody(columns='% of Total', rows=[1]), grpname=None, colname='% of Total', rownum=1, colnum=None, styles=[CellStyleText(color='#000000', font=None, size=None, align=None, v_align=None, style=None, weight=None, stretch=None, decorate=None, transform=None, whitespace=None), CellStyleFill(color='#e9e1f0')]), StyleInfo(locname=LocBody(columns='% of Total', rows=[2]), grpname=None, colname='% of Total', rownum=2, colnum=None, styles=[CellStyleText(color='#000000', font=None, size=None, align=None, v_align=None, style=None, weight=None, stretch=None, decorate=None, transform=None, whitespace=None), CellStyleFill(color='#efeaf4')]), StyleInfo(locname=LocBody(columns='% of Total', rows=[3]), grpname=None, colname='% of Total', rownum=3, colnum=None, styles=[CellStyleText(color='#000000', font=None, size=None, align=None, v_align=None, style=None, weight=None, stretch=None, decorate=None, transform=None, whitespace=None), CellStyleFill(color='#f3eff7')]), StyleInfo(locname=LocBody(columns='% of Total', rows=[4]), grpname=None, colname='% of Total', rownum=4, colnum=None, styles=[CellStyleText(color='#000000', font=None, size=None, align=None, v_align=None, style=None, weight=None, stretch=None, decorate=None, transform=None, whitespace=None), CellStyleFill(color='#f7f4f9')]), StyleInfo(locname=LocBody(columns='% of Total', rows=[5]), grpname=None, colname='% of Total', rownum=5, colnum=None, styles=[CellStyleText(color='#000000', font=None, size=None, align=None, v_align=None, style=None, weight=None, stretch=None, decorate=None, transform=None, whitespace=None), CellStyleFill(color='#f8f6fa')]), StyleInfo(locname=LocBody(columns='% of Total', rows=[6]), grpname=None, colname='% of Total', rownum=6, colnum=None, styles=[CellStyleText(color='#000000', font=None, size=None, align=None, v_align=None, style=None, weight=None, stretch=None, decorate=None, transform=None, whitespace=None), CellStyleFill(color='#fbf9fc')]), StyleInfo(locname=LocBody(columns='% of Total', rows=[7]), grpname=None, colname='% of Total', rownum=7, colnum=None, styles=[CellStyleText(color='#000000', font=None, size=None, align=None, v_align=None, style=None, weight=None, stretch=None, decorate=None, transform=None, whitespace=None), CellStyleFill(color='#fcfbfd')]), StyleInfo(locname=LocBody(columns='% of Total', rows=[8]), grpname=None, colname='% of Total', rownum=8, colnum=None, styles=[CellStyleText(color='#000000', font=None, size=None, align=None, v_align=None, style=None, weight=None, stretch=None, decorate=None, transform=None, whitespace=None), CellStyleFill(color='#fdfcfe')]), StyleInfo(locname=LocBody(columns='% of Total', rows=[9]), grpname=None, colname='% of Total', rownum=9, colnum=None, styles=[CellStyleText(color='#000000', font=None, size=None, align=None, v_align=None, style=None, weight=None, stretch=None, decorate=None, transform=None, whitespace=None), CellStyleFill(color='#fefdfe')]), StyleInfo(locname=LocBody(columns='% of Total', rows=[10]), grpname=None, colname='% of Total', rownum=10, colnum=None, styles=[CellStyleText(color='#000000', font=None, size=None, align=None, v_align=None, style=None, weight=None, stretch=None, decorate=None, transform=None, whitespace=None), CellStyleFill(color='#fefefe')]), StyleInfo(locname=LocBody(columns='% of Total', rows=[11]), grpname=None, colname='% of Total', rownum=11, colnum=None, styles=[CellStyleText(color='#000000', font=None, size=None, align=None, v_align=None, style=None, weight=None, stretch=None, decorate=None, transform=None, whitespace=None), CellStyleFill(color='#fefeff')]), StyleInfo(locname=LocBody(columns='% of Total', rows=[12]), grpname=None, colname='% of Total', rownum=12, colnum=None, styles=[CellStyleText(color='#000000', font=None, size=None, align=None, v_align=None, style=None, weight=None, stretch=None, decorate=None, transform=None, whitespace=None), CellStyleFill(color='#fffeff')]), StyleInfo(locname=LocBody(columns='% of Total', rows=[13]), grpname=None, colname='% of Total', rownum=13, colnum=None, styles=[CellStyleText(color='#000000', font=None, size=None, align=None, v_align=None, style=None, weight=None, stretch=None, decorate=None, transform=None, whitespace=None), CellStyleFill(color='#fffeff')]), StyleInfo(locname=LocBody(columns='% of Total', rows=[14]), grpname=None, colname='% of Total', rownum=14, colnum=None, styles=[CellStyleText(color='#000000', font=None, size=None, align=None, v_align=None, style=None, weight=None, stretch=None, decorate=None, transform=None, whitespace=None), CellStyleFill(color='#ffffff')]), StyleInfo(locname=LocBody(columns='% of Total', rows=[15]), grpname=None, colname='% of Total', rownum=15, colnum=None, styles=[CellStyleText(color='#000000', font=None, size=None, align=None, v_align=None, style=None, weight=None, stretch=None, decorate=None, transform=None, whitespace=None), CellStyleFill(color='#ffffff')]), StyleInfo(locname=LocBody(columns='% of Total', rows=[16]), grpname=None, colname='% of Total', rownum=16, colnum=None, styles=[CellStyleText(color='#000000', font=None, size=None, align=None, v_align=None, style=None, weight=None, stretch=None, decorate=None, transform=None, whitespace=None), CellStyleFill(color='#ffffff')]), StyleInfo(locname=LocBody(columns='% of Total', rows=[17]), grpname=None, colname='% of Total', rownum=17, colnum=None, styles=[CellStyleText(color='#000000', font=None, size=None, align=None, v_align=None, style=None, weight=None, stretch=None, decorate=None, transform=None, whitespace=None), CellStyleFill(color='#ffffff')]), StyleInfo(locname=LocBody(columns='% of Total', rows=[18]), grpname=None, colname='% of Total', rownum=18, colnum=None, styles=[CellStyleText(color='#000000', font=None, size=None, align=None, v_align=None, style=None, weight=None, stretch=None, decorate=None, transform=None, whitespace=None), CellStyleFill(color='#ffffff')])], _locale=<great_tables._gt_data.Locale object at 0x10e983af0>, _formats=[<great_tables._gt_data.FormatInfo object at 0x10e93e3f0>, <great_tables._gt_data.FormatInfo object at 0x10e98a7b0>], _substitutions=[], _options=Options(table_id=OptionsInfo(scss=False, category='table', type='value', value=None), table_caption=OptionsInfo(scss=False, category='table', type='value', value=None), table_width=OptionsInfo(scss=True, category='table', type='px', value='auto'), table_layout=OptionsInfo(scss=True, category='table', type='value', value='fixed'), table_margin_left=OptionsInfo(scss=True, category='table', type='px', value='auto'), table_margin_right=OptionsInfo(scss=True, category='table', type='px', value='auto'), table_background_color=OptionsInfo(scss=True, category='table', type='value', value='#FFFFFF'), table_additional_css=OptionsInfo(scss=False, category='table', type='values', value=[]), table_font_names=OptionsInfo(scss=False, category='table', type='values', value=['-apple-system', 'BlinkMacSystemFont', 'Segoe UI', 'Roboto', 'Oxygen', 'Ubuntu', 'Cantarell', 'Helvetica Neue', 'Fira Sans', 'Droid Sans', 'Arial', 'sans-serif']), table_font_size=OptionsInfo(scss=True, category='table', type='px', value='16px'), table_font_weight=OptionsInfo(scss=True, category='table', type='value', value='normal'), table_font_style=OptionsInfo(scss=True, category='table', type='value', value='normal'), table_font_color=OptionsInfo(scss=True, category='table', type='value', value='#333333'), table_font_color_light=OptionsInfo(scss=True, category='table', type='value', value='#FFFFFF'), table_border_top_include=OptionsInfo(scss=False, category='table', type='boolean', value=True), table_border_top_style=OptionsInfo(scss=True, category='table', type='value', value='solid'), table_border_top_width=OptionsInfo(scss=True, category='table', type='px', value='2px'), table_border_top_color=OptionsInfo(scss=True, category='table', type='value', value='#A8A8A8'), table_border_right_style=OptionsInfo(scss=True, category='table', type='value', value='none'), table_border_right_width=OptionsInfo(scss=True, category='table', type='px', value='2px'), table_border_right_color=OptionsInfo(scss=True, category='table', type='value', value='#D3D3D3'), table_border_bottom_include=OptionsInfo(scss=False, category='table', type='boolean', value=True), table_border_bottom_style=OptionsInfo(scss=True, category='table', type='value', value='solid'), table_border_bottom_width=OptionsInfo(scss=True, category='table', type='px', value='2px'), table_border_bottom_color=OptionsInfo(scss=True, category='table', type='value', value='#A8A8A8'), table_border_left_style=OptionsInfo(scss=True, category='table', type='value', value='none'), table_border_left_width=OptionsInfo(scss=True, category='table', type='px', value='2px'), table_border_left_color=OptionsInfo(scss=True, category='table', type='value', value='#D3D3D3'), heading_background_color=OptionsInfo(scss=True, category='heading', type='value', value=None), heading_align=OptionsInfo(scss=True, category='heading', type='value', value='center'), heading_title_font_size=OptionsInfo(scss=True, category='heading', type='px', value='125%'), heading_title_font_weight=OptionsInfo(scss=True, category='heading', type='value', value='initial'), heading_subtitle_font_size=OptionsInfo(scss=True, category='heading', type='px', value='85%'), heading_subtitle_font_weight=OptionsInfo(scss=True, category='heading', type='value', value='initial'), heading_padding=OptionsInfo(scss=True, category='heading', type='px', value='4px'), heading_padding_horizontal=OptionsInfo(scss=True, category='heading', type='px', value='5px'), heading_border_bottom_style=OptionsInfo(scss=True, category='heading', type='value', value='solid'), heading_border_bottom_width=OptionsInfo(scss=True, category='heading', type='px', value='2px'), heading_border_bottom_color=OptionsInfo(scss=True, category='heading', type='value', value='#D3D3D3'), heading_border_lr_style=OptionsInfo(scss=True, category='heading', type='value', value='none'), heading_border_lr_width=OptionsInfo(scss=True, category='heading', type='px', value='1px'), heading_border_lr_color=OptionsInfo(scss=True, category='heading', type='value', value='#D3D3D3'), column_labels_background_color=OptionsInfo(scss=True, category='column_labels', type='value', value=None), column_labels_font_size=OptionsInfo(scss=True, category='column_labels', type='px', value='100%'), column_labels_font_weight=OptionsInfo(scss=True, category='column_labels', type='value', value='normal'), column_labels_text_transform=OptionsInfo(scss=True, category='column_labels', type='value', value='inherit'), column_labels_padding=OptionsInfo(scss=True, category='column_labels', type='px', value='5px'), column_labels_padding_horizontal=OptionsInfo(scss=True, category='column_labels', type='px', value='5px'), column_labels_vlines_style=OptionsInfo(scss=True, category='table_body', type='value', value='none'), column_labels_vlines_width=OptionsInfo(scss=True, category='table_body', type='px', value='1px'), column_labels_vlines_color=OptionsInfo(scss=True, category='table_body', type='value', value='#D3D3D3'), column_labels_border_top_style=OptionsInfo(scss=True, category='column_labels', type='value', value='solid'), column_labels_border_top_width=OptionsInfo(scss=True, category='column_labels', type='px', value='2px'), column_labels_border_top_color=OptionsInfo(scss=True, category='column_labels', type='value', value='#D3D3D3'), column_labels_border_bottom_style=OptionsInfo(scss=True, category='column_labels', type='value', value='solid'), column_labels_border_bottom_width=OptionsInfo(scss=True, category='column_labels', type='px', value='2px'), column_labels_border_bottom_color=OptionsInfo(scss=True, category='column_labels', type='value', value='#D3D3D3'), column_labels_border_lr_style=OptionsInfo(scss=True, category='column_labels', type='value', value='none'), column_labels_border_lr_width=OptionsInfo(scss=True, category='column_labels', type='px', value='1px'), column_labels_border_lr_color=OptionsInfo(scss=True, category='column_labels', type='value', value='#D3D3D3'), column_labels_hidden=OptionsInfo(scss=False, category='column_labels', type='boolean', value=False), row_group_background_color=OptionsInfo(scss=True, category='row_group', type='value', value=None), row_group_font_size=OptionsInfo(scss=True, category='row_group', type='px', value='100%'), row_group_font_weight=OptionsInfo(scss=True, category='row_group', type='value', value='initial'), row_group_text_transform=OptionsInfo(scss=True, category='row_group', type='value', value='inherit'), row_group_padding=OptionsInfo(scss=True, category='row_group', type='px', value='8px'), row_group_padding_horizontal=OptionsInfo(scss=True, category='row_group', type='px', value='5px'), row_group_border_top_style=OptionsInfo(scss=True, category='row_group', type='value', value='solid'), row_group_border_top_width=OptionsInfo(scss=True, category='row_group', type='px', value='2px'), row_group_border_top_color=OptionsInfo(scss=True, category='row_group', type='value', value='#D3D3D3'), row_group_border_right_style=OptionsInfo(scss=True, category='row_group', type='value', value='none'), row_group_border_right_width=OptionsInfo(scss=True, category='row_group', type='px', value='1px'), row_group_border_right_color=OptionsInfo(scss=True, category='row_group', type='value', value='#D3D3D3'), row_group_border_bottom_style=OptionsInfo(scss=True, category='row_group', type='value', value='solid'), row_group_border_bottom_width=OptionsInfo(scss=True, category='row_group', type='px', value='2px'), row_group_border_bottom_color=OptionsInfo(scss=True, category='row_group', type='value', value='#D3D3D3'), row_group_border_left_style=OptionsInfo(scss=True, category='row_group', type='value', value='none'), row_group_border_left_width=OptionsInfo(scss=True, category='row_group', type='px', value='1px'), row_group_border_left_color=OptionsInfo(scss=True, category='row_group', type='value', value='#D3D3D3'), row_group_as_column=OptionsInfo(scss=False, category='row_group', type='boolean', value=False), table_body_hlines_style=OptionsInfo(scss=True, category='table_body', type='value', value='solid'), table_body_hlines_width=OptionsInfo(scss=True, category='table_body', type='px', value='1px'), table_body_hlines_color=OptionsInfo(scss=True, category='table_body', type='value', value='#D3D3D3'), table_body_vlines_style=OptionsInfo(scss=True, category='table_body', type='value', value='none'), table_body_vlines_width=OptionsInfo(scss=True, category='table_body', type='px', value='1px'), table_body_vlines_color=OptionsInfo(scss=True, category='table_body', type='value', value='#D3D3D3'), table_body_border_top_style=OptionsInfo(scss=True, category='table_body', type='value', value='solid'), table_body_border_top_width=OptionsInfo(scss=True, category='table_body', type='px', value='2px'), table_body_border_top_color=OptionsInfo(scss=True, category='table_body', type='value', value='#D3D3D3'), table_body_border_bottom_style=OptionsInfo(scss=True, category='table_body', type='value', value='solid'), table_body_border_bottom_width=OptionsInfo(scss=True, category='table_body', type='px', value='2px'), table_body_border_bottom_color=OptionsInfo(scss=True, category='table_body', type='value', value='#D3D3D3'), data_row_padding=OptionsInfo(scss=True, category='data_row', type='px', value='8px'), data_row_padding_horizontal=OptionsInfo(scss=True, category='data_row', type='px', value='5px'), stub_background_color=OptionsInfo(scss=True, category='stub', type='value', value=None), stub_font_size=OptionsInfo(scss=True, category='stub', type='px', value='100%'), stub_font_weight=OptionsInfo(scss=True, category='stub', type='value', value='initial'), stub_text_transform=OptionsInfo(scss=True, category='stub', type='value', value='inherit'), stub_border_style=OptionsInfo(scss=True, category='stub', type='value', value='solid'), stub_border_width=OptionsInfo(scss=True, category='stub', type='px', value='2px'), stub_border_color=OptionsInfo(scss=True, category='stub', type='value', value='#D3D3D3'), stub_row_group_background_color=OptionsInfo(scss=True, category='stub', type='value', value=None), stub_row_group_font_size=OptionsInfo(scss=True, category='stub', type='px', value='100%'), stub_row_group_font_weight=OptionsInfo(scss=True, category='stub', type='value', value='initial'), stub_row_group_text_transform=OptionsInfo(scss=True, category='stub', type='value', value='inherit'), stub_row_group_border_style=OptionsInfo(scss=True, category='stub', type='value', value='solid'), stub_row_group_border_width=OptionsInfo(scss=True, category='stub', type='px', value='2px'), stub_row_group_border_color=OptionsInfo(scss=True, category='stub', type='value', value='#D3D3D3'), source_notes_padding=OptionsInfo(scss=True, category='source_notes', type='px', value='4px'), source_notes_padding_horizontal=OptionsInfo(scss=True, category='source_notes', type='px', value='5px'), source_notes_background_color=OptionsInfo(scss=True, category='source_notes', type='value', value=None), source_notes_font_size=OptionsInfo(scss=True, category='source_notes', type='px', value='90%'), source_notes_border_bottom_style=OptionsInfo(scss=True, category='source_notes', type='value', value='none'), source_notes_border_bottom_width=OptionsInfo(scss=True, category='source_notes', type='px', value='2px'), source_notes_border_bottom_color=OptionsInfo(scss=True, category='source_notes', type='value', value='#D3D3D3'), source_notes_border_lr_style=OptionsInfo(scss=True, category='source_notes', type='value', value='none'), source_notes_border_lr_width=OptionsInfo(scss=True, category='source_notes', type='px', value='2px'), source_notes_border_lr_color=OptionsInfo(scss=True, category='source_notes', type='value', value='#D3D3D3'), source_notes_multiline=OptionsInfo(scss=False, category='source_notes', type='boolean', value=True), source_notes_sep=OptionsInfo(scss=False, category='source_notes', type='value', value=' '), row_striping_background_color=OptionsInfo(scss=True, category='row', type='value', value='rgba(128,128,128,0.05)'), row_striping_include_stub=OptionsInfo(scss=False, category='row', type='boolean', value=False), row_striping_include_table_body=OptionsInfo(scss=False, category='row', type='boolean', value=False), container_width=OptionsInfo(scss=False, category='container', type='px', value='auto'), container_height=OptionsInfo(scss=False, category='container', type='px', value='auto'), container_padding_x=OptionsInfo(scss=False, category='container', type='px', value='0px'), container_padding_y=OptionsInfo(scss=False, category='container', type='px', value='10px'), container_overflow_x=OptionsInfo(scss=False, category='container', type='overflow', value='auto'), container_overflow_y=OptionsInfo(scss=False, category='container', type='overflow', value='auto'), quarto_disable_processing=OptionsInfo(scss=False, category='quarto', type='logical', value=False), quarto_use_bootstrap=OptionsInfo(scss=False, category='quarto', type='logical', value=False)), _has_built=False)"
      ]
     },
     "execution_count": 79,
     "metadata": {},
     "output_type": "execute_result"
    }
   ],
   "source": [
    "alpha_trans_dist = (\n",
    "    trans_summary('Alpha', grocery_lf, 1)\n",
    "    .group_by(pl.col('# of Purchases').cast(pl.Int16))\n",
    "    .agg(pl.len().cast(pl.Int32).alias(\"Frequency\"))\n",
    "    .collect() \n",
    "    .pipe(\n",
    "        lambda df: df.vstack(\n",
    "            pl.DataFrame(\n",
    "                {\n",
    "                    \"# of Purchases\": [0],\n",
    "                    \"Frequency\": [panel_size - df[\"Frequency\"].sum()],\n",
    "                }\n",
    "            ).with_columns(\n",
    "                pl.col(\"# of Purchases\").cast(pl.Int16),\n",
    "                pl.col('Frequency').cast(pl.Int32)\n",
    "                )\n",
    "        )\n",
    "    )\n",
    "    .sort(by='# of Purchases')\n",
    "    .with_columns(\n",
    "        (pl.col('Frequency') / pl.col('Frequency').sum()).cast(pl.Float64).alias(\"% of Total\")\n",
    "    )    \n",
    ")\n",
    "\n",
    "(\n",
    "    GT(alpha_trans_dist, rowname_col='# of Purchases')\n",
    "    .tab_header(title='Alpha Purchase Distribution')\n",
    "    .tab_stubhead(label=\"# of Purchases\")\n",
    "    .fmt_integer(columns='Frequency')\n",
    "    .fmt_percent(columns='% of Total')\n",
    "    .data_color(\n",
    "        columns=['% of Total'],\n",
    "        domain=[0, 1],\n",
    "        palette=['white', 'rebeccapurple']\n",
    "    )  \n",
    ")"
   ]
  },
  {
   "cell_type": "code",
   "execution_count": 80,
   "metadata": {},
   "outputs": [
    {
     "data": {
      "application/vnd.vegalite.v5+json": {
       "$schema": "https://vega.github.io/schema/vega-lite/v5.20.1.json",
       "config": {
        "view": {
         "continuousHeight": 300,
         "continuousWidth": 300
        }
       },
       "data": {
        "name": "data-6ee6bc3bebfb0a9d7733195d73163329"
       },
       "datasets": {
        "data-6ee6bc3bebfb0a9d7733195d73163329": [
         {
          "# of Purchases": 0,
          "% of Total": 0.47739494124676357,
          "Frequency": 2397,
          "cut": "0"
         },
         {
          "# of Purchases": 1,
          "% of Total": 0.14598685520812588,
          "Frequency": 733,
          "cut": "1"
         },
         {
          "# of Purchases": 2,
          "% of Total": 0.10296753634734117,
          "Frequency": 517,
          "cut": "2"
         },
         {
          "# of Purchases": 3,
          "% of Total": 0.07966540529774944,
          "Frequency": 400,
          "cut": "3"
         },
         {
          "# of Purchases": 4,
          "% of Total": 0.05516829316869149,
          "Frequency": 277,
          "cut": "4"
         },
         {
          "# of Purchases": 5,
          "% of Total": 0.045210117506472816,
          "Frequency": 227,
          "cut": "5"
         },
         {
          "# of Purchases": 6,
          "% of Total": 0.028679545907189803,
          "Frequency": 144,
          "cut": "6"
         },
         {
          "# of Purchases": 7,
          "% of Total": 0.020115514837681737,
          "Frequency": 101,
          "cut": "7"
         },
         {
          "# of Purchases": 8,
          "% of Total": 0.014140609440350527,
          "Frequency": 71,
          "cut": "8"
         },
         {
          "# of Purchases": 9,
          "% of Total": 0.00936068512248556,
          "Frequency": 47,
          "cut": "9"
         },
         {
          "# of Purchases": 10,
          "% of Total": 0.005576578370842461,
          "Frequency": 28,
          "cut": "10+"
         },
         {
          "# of Purchases": 11,
          "% of Total": 0.004779924317864967,
          "Frequency": 24,
          "cut": "10+"
         },
         {
          "# of Purchases": 12,
          "% of Total": 0.003186616211909978,
          "Frequency": 16,
          "cut": "10+"
         },
         {
          "# of Purchases": 13,
          "% of Total": 0.003186616211909978,
          "Frequency": 16,
          "cut": "10+"
         },
         {
          "# of Purchases": 14,
          "% of Total": 0.0023899621589324833,
          "Frequency": 12,
          "cut": "10+"
         },
         {
          "# of Purchases": 15,
          "% of Total": 0.0011949810794662417,
          "Frequency": 6,
          "cut": "10+"
         },
         {
          "# of Purchases": 16,
          "% of Total": 0.0005974905397331208,
          "Frequency": 3,
          "cut": "10+"
         },
         {
          "# of Purchases": 18,
          "% of Total": 0.00019916351324437363,
          "Frequency": 1,
          "cut": "10+"
         },
         {
          "# of Purchases": 20,
          "% of Total": 0.00019916351324437363,
          "Frequency": 1,
          "cut": "10+"
         }
        ]
       },
       "encoding": {
        "x": {
         "axis": {
          "labelAngle": 0,
          "title": "Number of Transactions"
         },
         "field": "cut",
         "sort": [
          "0",
          "1",
          "2",
          "3",
          "4",
          "5",
          "6",
          "7",
          "8",
          "9",
          "10+"
         ],
         "type": "ordinal"
        },
        "y": {
         "axis": {
          "format": ".0%",
          "title": "% of Households"
         },
         "field": "% of Total",
         "type": "quantitative"
        }
       },
       "height": 250,
       "mark": {
        "type": "bar"
       },
       "title": {
        "subtitle": "Distribution of purchase frequency for Alpha in year 1",
        "text": "Alpha Transaction Distribution (%)"
       },
       "width": 650
      },
      "text/plain": [
       "<VegaLite 5 object>\n",
       "\n",
       "If you see this message, it means the renderer has not been properly enabled\n",
       "for the frontend that you are using. For more information, see\n",
       "https://altair-viz.github.io/user_guide/display_frontends.html#troubleshooting\n"
      ]
     },
     "metadata": {},
     "output_type": "display_data"
    }
   ],
   "source": [
    "labels = [str(i) if i < 10 else '10+' for i in range(11)]\n",
    "\n",
    "alpha_trans_dist = alpha_trans_dist.with_columns(\n",
    "    pl.col('# of Purchases').cut(np.arange(0,10,1), labels=labels).alias('cut')    \n",
    ")\n",
    "chart = alt.Chart(alpha_trans_dist).mark_bar().encode(\n",
    "    x=alt.X(\"cut:O\", \n",
    "            axis=alt.Axis(labelAngle=0, title=\"Number of Transactions\"), sort=labels),\n",
    "    y=alt.Y(\"% of Total:Q\",\n",
    "            axis=alt.Axis(format=\".0%\", title=\"% of Households\")), \n",
    ").properties(\n",
    "    width=650,\n",
    "    height=250,\n",
    "    title={\n",
    "        'text': 'Alpha Transaction Distribution (%)',\n",
    "        'subtitle': 'Distribution of purchase frequency for Alpha in year 1'\n",
    "    }\n",
    ").show()"
   ]
  },
  {
   "cell_type": "markdown",
   "metadata": {},
   "source": [
    "#### Distribution of Spend"
   ]
  },
  {
   "cell_type": "markdown",
   "metadata": {},
   "source": [
    "##### Distribution of Category Spend"
   ]
  },
  {
   "cell_type": "code",
   "execution_count": 81,
   "metadata": {},
   "outputs": [
    {
     "data": {
      "text/html": [
       "<div><style>\n",
       ".dataframe > thead > tr,\n",
       ".dataframe > tbody > tr {\n",
       "  text-align: right;\n",
       "  white-space: pre-wrap;\n",
       "}\n",
       "</style>\n",
       "<small>shape: (9, 2)</small><table border=\"1\" class=\"dataframe\"><thead><tr><th>statistic</th><th>spend</th></tr><tr><td>str</td><td>f64</td></tr></thead><tbody><tr><td>&quot;count&quot;</td><td>4574.0</td></tr><tr><td>&quot;null_count&quot;</td><td>0.0</td></tr><tr><td>&quot;mean&quot;</td><td>15.763424</td></tr><tr><td>&quot;std&quot;</td><td>12.876024</td></tr><tr><td>&quot;min&quot;</td><td>1.27</td></tr><tr><td>&quot;25%&quot;</td><td>6.76</td></tr><tr><td>&quot;50%&quot;</td><td>12.57</td></tr><tr><td>&quot;75%&quot;</td><td>20.74</td></tr><tr><td>&quot;max&quot;</td><td>166.699999</td></tr></tbody></table></div>"
      ],
      "text/plain": [
       "shape: (9, 2)\n",
       "┌────────────┬────────────┐\n",
       "│ statistic  ┆ spend      │\n",
       "│ ---        ┆ ---        │\n",
       "│ str        ┆ f64        │\n",
       "╞════════════╪════════════╡\n",
       "│ count      ┆ 4574.0     │\n",
       "│ null_count ┆ 0.0        │\n",
       "│ mean       ┆ 15.763424  │\n",
       "│ std        ┆ 12.876024  │\n",
       "│ min        ┆ 1.27       │\n",
       "│ 25%        ┆ 6.76       │\n",
       "│ 50%        ┆ 12.57      │\n",
       "│ 75%        ┆ 20.74      │\n",
       "│ max        ┆ 166.699999 │\n",
       "└────────────┴────────────┘"
      ]
     },
     "execution_count": 81,
     "metadata": {},
     "output_type": "execute_result"
    }
   ],
   "source": [
    "category_spend = spend_summary('Category', grocery_lf, 1)\n",
    "\n",
    "category_spend.describe()"
   ]
  },
  {
   "cell_type": "code",
   "execution_count": 102,
   "metadata": {},
   "outputs": [
    {
     "data": {
      "text/html": [
       "<div id=\"eoictwcgkv\" style=\"padding-left:0px;padding-right:0px;padding-top:10px;padding-bottom:10px;overflow-x:auto;overflow-y:auto;width:auto;height:auto;\">\n",
       "<style>\n",
       "#eoictwcgkv table {\n",
       "          font-family: -apple-system, BlinkMacSystemFont, 'Segoe UI', Roboto, Oxygen, Ubuntu, Cantarell, 'Helvetica Neue', 'Fira Sans', 'Droid Sans', Arial, sans-serif;\n",
       "          -webkit-font-smoothing: antialiased;\n",
       "          -moz-osx-font-smoothing: grayscale;\n",
       "        }\n",
       "\n",
       "#eoictwcgkv thead, tbody, tfoot, tr, td, th { border-style: none !important; }\n",
       " tr { background-color: transparent !important; }\n",
       "#eoictwcgkv p { margin: 0 !important; padding: 0 !important; }\n",
       " #eoictwcgkv .gt_table { display: table !important; border-collapse: collapse !important; line-height: normal !important; margin-left: auto !important; margin-right: auto !important; color: #333333 !important; font-size: 16px !important; font-weight: normal !important; font-style: normal !important; background-color: #FFFFFF !important; width: auto !important; border-top-style: solid !important; border-top-width: 2px !important; border-top-color: #A8A8A8 !important; border-right-style: none !important; border-right-width: 2px !important; border-right-color: #D3D3D3 !important; border-bottom-style: solid !important; border-bottom-width: 2px !important; border-bottom-color: #A8A8A8 !important; border-left-style: none !important; border-left-width: 2px !important; border-left-color: #D3D3D3 !important; }\n",
       " #eoictwcgkv .gt_caption { padding-top: 4px !important; padding-bottom: 4px !important; }\n",
       " #eoictwcgkv .gt_title { color: #333333 !important; font-size: 125% !important; font-weight: initial !important; padding-top: 4px !important; padding-bottom: 4px !important; padding-left: 5px !important; padding-right: 5px !important; border-bottom-color: #FFFFFF !important; border-bottom-width: 0 !important; }\n",
       " #eoictwcgkv .gt_subtitle { color: #333333 !important; font-size: 85% !important; font-weight: initial !important; padding-top: 3px !important; padding-bottom: 5px !important; padding-left: 5px !important; padding-right: 5px !important; border-top-color: #FFFFFF !important; border-top-width: 0 !important; }\n",
       " #eoictwcgkv .gt_heading { background-color: #FFFFFF !important; text-align: center !important; border-bottom-color: #FFFFFF !important; border-left-style: none !important; border-left-width: 1px !important; border-left-color: #D3D3D3 !important; border-right-style: none !important; border-right-width: 1px !important; border-right-color: #D3D3D3 !important; }\n",
       " #eoictwcgkv .gt_bottom_border { border-bottom-style: solid !important; border-bottom-width: 2px !important; border-bottom-color: #D3D3D3 !important; }\n",
       " #eoictwcgkv .gt_col_headings { border-top-style: solid !important; border-top-width: 2px !important; border-top-color: #D3D3D3 !important; border-bottom-style: solid !important; border-bottom-width: 2px !important; border-bottom-color: #D3D3D3 !important; border-left-style: none !important; border-left-width: 1px !important; border-left-color: #D3D3D3 !important; border-right-style: none !important; border-right-width: 1px !important; border-right-color: #D3D3D3 !important; }\n",
       " #eoictwcgkv .gt_col_heading { color: #333333 !important; background-color: #FFFFFF !important; font-size: 100% !important; font-weight: normal !important; text-transform: inherit !important; border-left-style: none !important; border-left-width: 1px !important; border-left-color: #D3D3D3 !important; border-right-style: none !important; border-right-width: 1px !important; border-right-color: #D3D3D3 !important; vertical-align: bottom !important; padding-top: 5px !important; padding-bottom: 5px !important; padding-left: 5px !important; padding-right: 5px !important; overflow-x: hidden !important; }\n",
       " #eoictwcgkv .gt_column_spanner_outer { color: #333333 !important; background-color: #FFFFFF !important; font-size: 100% !important; font-weight: normal !important; text-transform: inherit !important; padding-top: 0 !important; padding-bottom: 0 !important; padding-left: 4px !important; padding-right: 4px !important; }\n",
       " #eoictwcgkv .gt_column_spanner_outer:first-child { padding-left: 0 !important; }\n",
       " #eoictwcgkv .gt_column_spanner_outer:last-child { padding-right: 0 !important; }\n",
       " #eoictwcgkv .gt_column_spanner { border-bottom-style: solid !important; border-bottom-width: 2px !important; border-bottom-color: #D3D3D3 !important; vertical-align: bottom !important; padding-top: 5px !important; padding-bottom: 5px !important; overflow-x: hidden !important; display: inline-block !important; width: 100% !important; }\n",
       " #eoictwcgkv .gt_spanner_row { border-bottom-style: hidden !important; }\n",
       " #eoictwcgkv .gt_group_heading { padding-top: 8px !important; padding-bottom: 8px !important; padding-left: 5px !important; padding-right: 5px !important; color: #333333 !important; background-color: #FFFFFF !important; font-size: 100% !important; font-weight: initial !important; text-transform: inherit !important; border-top-style: solid !important; border-top-width: 2px !important; border-top-color: #D3D3D3 !important; border-bottom-style: solid !important; border-bottom-width: 2px !important; border-bottom-color: #D3D3D3 !important; border-left-style: none !important; border-left-width: 1px !important; border-left-color: #D3D3D3 !important; border-right-style: none !important; border-right-width: 1px !important; border-right-color: #D3D3D3 !important; vertical-align: middle !important; text-align: left !important; }\n",
       " #eoictwcgkv .gt_empty_group_heading { padding: 0.5px !important; color: #333333 !important; background-color: #FFFFFF !important; font-size: 100% !important; font-weight: initial !important; border-top-style: solid !important; border-top-width: 2px !important; border-top-color: #D3D3D3 !important; border-bottom-style: solid !important; border-bottom-width: 2px !important; border-bottom-color: #D3D3D3 !important; vertical-align: middle !important; }\n",
       " #eoictwcgkv .gt_from_md> :first-child { margin-top: 0 !important; }\n",
       " #eoictwcgkv .gt_from_md> :last-child { margin-bottom: 0 !important; }\n",
       " #eoictwcgkv .gt_row { padding-top: 8px !important; padding-bottom: 8px !important; padding-left: 5px !important; padding-right: 5px !important; margin: 10px !important; border-top-style: solid !important; border-top-width: 1px !important; border-top-color: #D3D3D3 !important; border-left-style: none !important; border-left-width: 1px !important; border-left-color: #D3D3D3 !important; border-right-style: none !important; border-right-width: 1px !important; border-right-color: #D3D3D3 !important; vertical-align: middle !important; overflow-x: hidden !important; }\n",
       " #eoictwcgkv .gt_stub { color: #333333 !important; background-color: #FFFFFF !important; font-size: 100% !important; font-weight: initial !important; text-transform: inherit !important; border-right-style: solid !important; border-right-width: 2px !important; border-right-color: #D3D3D3 !important; padding-left: 5px !important; padding-right: 5px !important; }\n",
       " #eoictwcgkv .gt_stub_row_group { color: #333333 !important; background-color: #FFFFFF !important; font-size: 100% !important; font-weight: initial !important; text-transform: inherit !important; border-right-style: solid !important; border-right-width: 2px !important; border-right-color: #D3D3D3 !important; padding-left: 5px !important; padding-right: 5px !important; vertical-align: top !important; }\n",
       " #eoictwcgkv .gt_row_group_first td { border-top-width: 2px !important; }\n",
       " #eoictwcgkv .gt_row_group_first th { border-top-width: 2px !important; }\n",
       " #eoictwcgkv .gt_striped { background-color: rgba(128,128,128,0.05) !important; }\n",
       " #eoictwcgkv .gt_table_body { border-top-style: solid !important; border-top-width: 2px !important; border-top-color: #D3D3D3 !important; border-bottom-style: solid !important; border-bottom-width: 2px !important; border-bottom-color: #D3D3D3 !important; }\n",
       " #eoictwcgkv .gt_sourcenotes { color: #333333 !important; background-color: #FFFFFF !important; border-bottom-style: none !important; border-bottom-width: 2px !important; border-bottom-color: #D3D3D3 !important; border-left-style: none !important; border-left-width: 2px !important; border-left-color: #D3D3D3 !important; border-right-style: none !important; border-right-width: 2px !important; border-right-color: #D3D3D3 !important; }\n",
       " #eoictwcgkv .gt_sourcenote { font-size: 90% !important; padding-top: 4px !important; padding-bottom: 4px !important; padding-left: 5px !important; padding-right: 5px !important; text-align: left !important; }\n",
       " #eoictwcgkv .gt_left { text-align: left !important; }\n",
       " #eoictwcgkv .gt_center { text-align: center !important; }\n",
       " #eoictwcgkv .gt_right { text-align: right !important; font-variant-numeric: tabular-nums !important; }\n",
       " #eoictwcgkv .gt_font_normal { font-weight: normal !important; }\n",
       " #eoictwcgkv .gt_font_bold { font-weight: bold !important; }\n",
       " #eoictwcgkv .gt_font_italic { font-style: italic !important; }\n",
       " #eoictwcgkv .gt_super { font-size: 65% !important; }\n",
       " #eoictwcgkv .gt_footnote_marks { font-size: 75% !important; vertical-align: 0.4em !important; position: initial !important; }\n",
       " #eoictwcgkv .gt_asterisk { font-size: 100% !important; vertical-align: 0 !important; }\n",
       " \n",
       "</style>\n",
       "<table class=\"gt_table\" data-quarto-disable-processing=\"false\" data-quarto-bootstrap=\"false\">\n",
       "<thead>\n",
       "\n",
       "  <tr class=\"gt_heading\">\n",
       "    <td colspan=\"2\" class=\"gt_heading gt_title gt_font_normal\">Category Spend Percentile</td>\n",
       "  </tr>\n",
       "<tr class=\"gt_col_headings\">\n",
       "  <th class=\"gt_col_heading gt_columns_bottom_border gt_left\" rowspan=\"1\" colspan=\"1\" scope=\"col\" id=\"Percentile Level\">Percentile Level</th>\n",
       "  <th class=\"gt_col_heading gt_columns_bottom_border gt_right\" rowspan=\"1\" colspan=\"1\" scope=\"col\" id=\"Percentile\">Percentile</th>\n",
       "</tr>\n",
       "</thead>\n",
       "<tbody class=\"gt_table_body\">\n",
       "  <tr>\n",
       "    <th style=\"color: #000000; background-color: #ece6f2;\" class=\"gt_row gt_left gt_stub\">5</th>\n",
       "    <td style=\"color: #000000; background-color: #f5f1f8;\" class=\"gt_row gt_right\">2.69</td>\n",
       "  </tr>\n",
       "  <tr>\n",
       "    <th style=\"color: #000000; background-color: #d9cce6;\" class=\"gt_row gt_left gt_stub\">10</th>\n",
       "    <td style=\"color: #000000; background-color: #f2eef6;\" class=\"gt_row gt_right\">3.39</td>\n",
       "  </tr>\n",
       "  <tr>\n",
       "    <th style=\"color: #000000; background-color: #c6b2d9;\" class=\"gt_row gt_left gt_stub\">15</th>\n",
       "    <td style=\"color: #000000; background-color: #ede7f3;\" class=\"gt_row gt_right\">4.67</td>\n",
       "  </tr>\n",
       "  <tr>\n",
       "    <th style=\"color: #000000; background-color: #b299cc;\" class=\"gt_row gt_left gt_stub\">20</th>\n",
       "    <td style=\"color: #000000; background-color: #e9e1f0;\" class=\"gt_row gt_right\">5.88</td>\n",
       "  </tr>\n",
       "  <tr>\n",
       "    <th style=\"color: #000000; background-color: #9f80bf;\" class=\"gt_row gt_left gt_stub\">25</th>\n",
       "    <td style=\"color: #000000; background-color: #e5ddee;\" class=\"gt_row gt_right\">6.76</td>\n",
       "  </tr>\n",
       "  <tr>\n",
       "    <th style=\"color: #000000; background-color: #8c66b2;\" class=\"gt_row gt_left gt_stub\">30</th>\n",
       "    <td style=\"color: #000000; background-color: #e2d8ec;\" class=\"gt_row gt_right\">7.63</td>\n",
       "  </tr>\n",
       "  <tr>\n",
       "    <th style=\"color: #FFFFFF; background-color: #794ca6;\" class=\"gt_row gt_left gt_stub\">35</th>\n",
       "    <td style=\"color: #000000; background-color: #dcd1e8;\" class=\"gt_row gt_right\">9.07</td>\n",
       "  </tr>\n",
       "  <tr>\n",
       "    <th style=\"color: #FFFFFF; background-color: #663399;\" class=\"gt_row gt_left gt_stub\">40</th>\n",
       "    <td style=\"color: #000000; background-color: #d9cce5;\" class=\"gt_row gt_right\">10.06</td>\n",
       "  </tr>\n",
       "  <tr>\n",
       "    <th style=\"color: #000000; background-color: #808080;\" class=\"gt_row gt_left gt_stub\">45</th>\n",
       "    <td style=\"color: #000000; background-color: #d5c7e3;\" class=\"gt_row gt_right\">11.03</td>\n",
       "  </tr>\n",
       "  <tr>\n",
       "    <th style=\"color: #000000; background-color: #808080;\" class=\"gt_row gt_left gt_stub\">50</th>\n",
       "    <td style=\"color: #000000; background-color: #cfbfdf;\" class=\"gt_row gt_right\">12.57</td>\n",
       "  </tr>\n",
       "  <tr>\n",
       "    <th style=\"color: #000000; background-color: #808080;\" class=\"gt_row gt_left gt_stub\">55</th>\n",
       "    <td style=\"color: #000000; background-color: #cab9dc;\" class=\"gt_row gt_right\">13.73</td>\n",
       "  </tr>\n",
       "  <tr>\n",
       "    <th style=\"color: #000000; background-color: #808080;\" class=\"gt_row gt_left gt_stub\">60</th>\n",
       "    <td style=\"color: #000000; background-color: #c5b1d8;\" class=\"gt_row gt_right\">15.24</td>\n",
       "  </tr>\n",
       "  <tr>\n",
       "    <th style=\"color: #000000; background-color: #808080;\" class=\"gt_row gt_left gt_stub\">65</th>\n",
       "    <td style=\"color: #000000; background-color: #bfa9d4;\" class=\"gt_row gt_right\">16.84</td>\n",
       "  </tr>\n",
       "  <tr>\n",
       "    <th style=\"color: #000000; background-color: #808080;\" class=\"gt_row gt_left gt_stub\">70</th>\n",
       "    <td style=\"color: #000000; background-color: #b79fcf;\" class=\"gt_row gt_right\">18.79</td>\n",
       "  </tr>\n",
       "  <tr>\n",
       "    <th style=\"color: #000000; background-color: #808080;\" class=\"gt_row gt_left gt_stub\">75</th>\n",
       "    <td style=\"color: #000000; background-color: #b095ca;\" class=\"gt_row gt_right\">20.74</td>\n",
       "  </tr>\n",
       "  <tr>\n",
       "    <th style=\"color: #000000; background-color: #808080;\" class=\"gt_row gt_left gt_stub\">80</th>\n",
       "    <td style=\"color: #000000; background-color: #a588c3;\" class=\"gt_row gt_right\">23.43</td>\n",
       "  </tr>\n",
       "  <tr>\n",
       "    <th style=\"color: #000000; background-color: #808080;\" class=\"gt_row gt_left gt_stub\">85</th>\n",
       "    <td style=\"color: #000000; background-color: #9876ba;\" class=\"gt_row gt_right\">26.88</td>\n",
       "  </tr>\n",
       "  <tr>\n",
       "    <th style=\"color: #000000; background-color: #808080;\" class=\"gt_row gt_left gt_stub\">90</th>\n",
       "    <td style=\"color: #FFFFFF; background-color: #855dae;\" class=\"gt_row gt_right\">31.81</td>\n",
       "  </tr>\n",
       "  <tr>\n",
       "    <th style=\"color: #000000; background-color: #808080;\" class=\"gt_row gt_left gt_stub\">95</th>\n",
       "    <td style=\"color: #FFFFFF; background-color: #67349a;\" class=\"gt_row gt_right\">39.72</td>\n",
       "  </tr>\n",
       "</tbody>\n",
       "\n",
       "\n",
       "</table>\n",
       "\n",
       "</div>\n",
       "        "
      ],
      "text/plain": [
       "GT(_tbl_data=shape: (19, 2)\n",
       "┌──────────────────┬────────────┐\n",
       "│ Percentile Level ┆ Percentile │\n",
       "│ ---              ┆ ---        │\n",
       "│ i64              ┆ f64        │\n",
       "╞══════════════════╪════════════╡\n",
       "│ 5                ┆ 2.69       │\n",
       "│ 10               ┆ 3.39       │\n",
       "│ 15               ┆ 4.67       │\n",
       "│ 20               ┆ 5.88       │\n",
       "│ 25               ┆ 6.76       │\n",
       "│ …                ┆ …          │\n",
       "│ 75               ┆ 20.7375    │\n",
       "│ 80               ┆ 23.43      │\n",
       "│ 85               ┆ 26.8805    │\n",
       "│ 90               ┆ 31.810001  │\n",
       "│ 95               ┆ 39.7185    │\n",
       "└──────────────────┴────────────┘, _body=<great_tables._gt_data.Body object at 0x10decce10>, _boxhead=Boxhead([ColInfo(var='Percentile Level', type=<ColInfoTypeEnum.stub: 2>, column_label='Percentile Level', column_align='right', column_width=None), ColInfo(var='Percentile', type=<ColInfoTypeEnum.default: 1>, column_label='Percentile', column_align='right', column_width=None)]), _stub=<great_tables._gt_data.Stub object at 0x115d6eed0>, _spanners=Spanners([]), _heading=Heading(title='Category Spend Percentile', subtitle=None, preheader=None), _stubhead='Percentile Level', _source_notes=[], _footnotes=[], _styles=[StyleInfo(locname=LocBody(columns='Percentile Level', rows=[0]), grpname=None, colname='Percentile Level', rownum=0, colnum=None, styles=[CellStyleText(color='#000000', font=None, size=None, align=None, v_align=None, style=None, weight=None, stretch=None, decorate=None, transform=None, whitespace=None), CellStyleFill(color='#ece6f2')]), StyleInfo(locname=LocBody(columns='Percentile Level', rows=[1]), grpname=None, colname='Percentile Level', rownum=1, colnum=None, styles=[CellStyleText(color='#000000', font=None, size=None, align=None, v_align=None, style=None, weight=None, stretch=None, decorate=None, transform=None, whitespace=None), CellStyleFill(color='#d9cce6')]), StyleInfo(locname=LocBody(columns='Percentile Level', rows=[2]), grpname=None, colname='Percentile Level', rownum=2, colnum=None, styles=[CellStyleText(color='#000000', font=None, size=None, align=None, v_align=None, style=None, weight=None, stretch=None, decorate=None, transform=None, whitespace=None), CellStyleFill(color='#c6b2d9')]), StyleInfo(locname=LocBody(columns='Percentile Level', rows=[3]), grpname=None, colname='Percentile Level', rownum=3, colnum=None, styles=[CellStyleText(color='#000000', font=None, size=None, align=None, v_align=None, style=None, weight=None, stretch=None, decorate=None, transform=None, whitespace=None), CellStyleFill(color='#b299cc')]), StyleInfo(locname=LocBody(columns='Percentile Level', rows=[4]), grpname=None, colname='Percentile Level', rownum=4, colnum=None, styles=[CellStyleText(color='#000000', font=None, size=None, align=None, v_align=None, style=None, weight=None, stretch=None, decorate=None, transform=None, whitespace=None), CellStyleFill(color='#9f80bf')]), StyleInfo(locname=LocBody(columns='Percentile Level', rows=[5]), grpname=None, colname='Percentile Level', rownum=5, colnum=None, styles=[CellStyleText(color='#000000', font=None, size=None, align=None, v_align=None, style=None, weight=None, stretch=None, decorate=None, transform=None, whitespace=None), CellStyleFill(color='#8c66b2')]), StyleInfo(locname=LocBody(columns='Percentile Level', rows=[6]), grpname=None, colname='Percentile Level', rownum=6, colnum=None, styles=[CellStyleText(color='#FFFFFF', font=None, size=None, align=None, v_align=None, style=None, weight=None, stretch=None, decorate=None, transform=None, whitespace=None), CellStyleFill(color='#794ca6')]), StyleInfo(locname=LocBody(columns='Percentile Level', rows=[7]), grpname=None, colname='Percentile Level', rownum=7, colnum=None, styles=[CellStyleText(color='#FFFFFF', font=None, size=None, align=None, v_align=None, style=None, weight=None, stretch=None, decorate=None, transform=None, whitespace=None), CellStyleFill(color='#663399')]), StyleInfo(locname=LocBody(columns='Percentile Level', rows=[8]), grpname=None, colname='Percentile Level', rownum=8, colnum=None, styles=[CellStyleText(color='#000000', font=None, size=None, align=None, v_align=None, style=None, weight=None, stretch=None, decorate=None, transform=None, whitespace=None), CellStyleFill(color='#808080')]), StyleInfo(locname=LocBody(columns='Percentile Level', rows=[9]), grpname=None, colname='Percentile Level', rownum=9, colnum=None, styles=[CellStyleText(color='#000000', font=None, size=None, align=None, v_align=None, style=None, weight=None, stretch=None, decorate=None, transform=None, whitespace=None), CellStyleFill(color='#808080')]), StyleInfo(locname=LocBody(columns='Percentile Level', rows=[10]), grpname=None, colname='Percentile Level', rownum=10, colnum=None, styles=[CellStyleText(color='#000000', font=None, size=None, align=None, v_align=None, style=None, weight=None, stretch=None, decorate=None, transform=None, whitespace=None), CellStyleFill(color='#808080')]), StyleInfo(locname=LocBody(columns='Percentile Level', rows=[11]), grpname=None, colname='Percentile Level', rownum=11, colnum=None, styles=[CellStyleText(color='#000000', font=None, size=None, align=None, v_align=None, style=None, weight=None, stretch=None, decorate=None, transform=None, whitespace=None), CellStyleFill(color='#808080')]), StyleInfo(locname=LocBody(columns='Percentile Level', rows=[12]), grpname=None, colname='Percentile Level', rownum=12, colnum=None, styles=[CellStyleText(color='#000000', font=None, size=None, align=None, v_align=None, style=None, weight=None, stretch=None, decorate=None, transform=None, whitespace=None), CellStyleFill(color='#808080')]), StyleInfo(locname=LocBody(columns='Percentile Level', rows=[13]), grpname=None, colname='Percentile Level', rownum=13, colnum=None, styles=[CellStyleText(color='#000000', font=None, size=None, align=None, v_align=None, style=None, weight=None, stretch=None, decorate=None, transform=None, whitespace=None), CellStyleFill(color='#808080')]), StyleInfo(locname=LocBody(columns='Percentile Level', rows=[14]), grpname=None, colname='Percentile Level', rownum=14, colnum=None, styles=[CellStyleText(color='#000000', font=None, size=None, align=None, v_align=None, style=None, weight=None, stretch=None, decorate=None, transform=None, whitespace=None), CellStyleFill(color='#808080')]), StyleInfo(locname=LocBody(columns='Percentile Level', rows=[15]), grpname=None, colname='Percentile Level', rownum=15, colnum=None, styles=[CellStyleText(color='#000000', font=None, size=None, align=None, v_align=None, style=None, weight=None, stretch=None, decorate=None, transform=None, whitespace=None), CellStyleFill(color='#808080')]), StyleInfo(locname=LocBody(columns='Percentile Level', rows=[16]), grpname=None, colname='Percentile Level', rownum=16, colnum=None, styles=[CellStyleText(color='#000000', font=None, size=None, align=None, v_align=None, style=None, weight=None, stretch=None, decorate=None, transform=None, whitespace=None), CellStyleFill(color='#808080')]), StyleInfo(locname=LocBody(columns='Percentile Level', rows=[17]), grpname=None, colname='Percentile Level', rownum=17, colnum=None, styles=[CellStyleText(color='#000000', font=None, size=None, align=None, v_align=None, style=None, weight=None, stretch=None, decorate=None, transform=None, whitespace=None), CellStyleFill(color='#808080')]), StyleInfo(locname=LocBody(columns='Percentile Level', rows=[18]), grpname=None, colname='Percentile Level', rownum=18, colnum=None, styles=[CellStyleText(color='#000000', font=None, size=None, align=None, v_align=None, style=None, weight=None, stretch=None, decorate=None, transform=None, whitespace=None), CellStyleFill(color='#808080')]), StyleInfo(locname=LocBody(columns='Percentile', rows=[0]), grpname=None, colname='Percentile', rownum=0, colnum=None, styles=[CellStyleText(color='#000000', font=None, size=None, align=None, v_align=None, style=None, weight=None, stretch=None, decorate=None, transform=None, whitespace=None), CellStyleFill(color='#f5f1f8')]), StyleInfo(locname=LocBody(columns='Percentile', rows=[1]), grpname=None, colname='Percentile', rownum=1, colnum=None, styles=[CellStyleText(color='#000000', font=None, size=None, align=None, v_align=None, style=None, weight=None, stretch=None, decorate=None, transform=None, whitespace=None), CellStyleFill(color='#f2eef6')]), StyleInfo(locname=LocBody(columns='Percentile', rows=[2]), grpname=None, colname='Percentile', rownum=2, colnum=None, styles=[CellStyleText(color='#000000', font=None, size=None, align=None, v_align=None, style=None, weight=None, stretch=None, decorate=None, transform=None, whitespace=None), CellStyleFill(color='#ede7f3')]), StyleInfo(locname=LocBody(columns='Percentile', rows=[3]), grpname=None, colname='Percentile', rownum=3, colnum=None, styles=[CellStyleText(color='#000000', font=None, size=None, align=None, v_align=None, style=None, weight=None, stretch=None, decorate=None, transform=None, whitespace=None), CellStyleFill(color='#e9e1f0')]), StyleInfo(locname=LocBody(columns='Percentile', rows=[4]), grpname=None, colname='Percentile', rownum=4, colnum=None, styles=[CellStyleText(color='#000000', font=None, size=None, align=None, v_align=None, style=None, weight=None, stretch=None, decorate=None, transform=None, whitespace=None), CellStyleFill(color='#e5ddee')]), StyleInfo(locname=LocBody(columns='Percentile', rows=[5]), grpname=None, colname='Percentile', rownum=5, colnum=None, styles=[CellStyleText(color='#000000', font=None, size=None, align=None, v_align=None, style=None, weight=None, stretch=None, decorate=None, transform=None, whitespace=None), CellStyleFill(color='#e2d8ec')]), StyleInfo(locname=LocBody(columns='Percentile', rows=[6]), grpname=None, colname='Percentile', rownum=6, colnum=None, styles=[CellStyleText(color='#000000', font=None, size=None, align=None, v_align=None, style=None, weight=None, stretch=None, decorate=None, transform=None, whitespace=None), CellStyleFill(color='#dcd1e8')]), StyleInfo(locname=LocBody(columns='Percentile', rows=[7]), grpname=None, colname='Percentile', rownum=7, colnum=None, styles=[CellStyleText(color='#000000', font=None, size=None, align=None, v_align=None, style=None, weight=None, stretch=None, decorate=None, transform=None, whitespace=None), CellStyleFill(color='#d9cce5')]), StyleInfo(locname=LocBody(columns='Percentile', rows=[8]), grpname=None, colname='Percentile', rownum=8, colnum=None, styles=[CellStyleText(color='#000000', font=None, size=None, align=None, v_align=None, style=None, weight=None, stretch=None, decorate=None, transform=None, whitespace=None), CellStyleFill(color='#d5c7e3')]), StyleInfo(locname=LocBody(columns='Percentile', rows=[9]), grpname=None, colname='Percentile', rownum=9, colnum=None, styles=[CellStyleText(color='#000000', font=None, size=None, align=None, v_align=None, style=None, weight=None, stretch=None, decorate=None, transform=None, whitespace=None), CellStyleFill(color='#cfbfdf')]), StyleInfo(locname=LocBody(columns='Percentile', rows=[10]), grpname=None, colname='Percentile', rownum=10, colnum=None, styles=[CellStyleText(color='#000000', font=None, size=None, align=None, v_align=None, style=None, weight=None, stretch=None, decorate=None, transform=None, whitespace=None), CellStyleFill(color='#cab9dc')]), StyleInfo(locname=LocBody(columns='Percentile', rows=[11]), grpname=None, colname='Percentile', rownum=11, colnum=None, styles=[CellStyleText(color='#000000', font=None, size=None, align=None, v_align=None, style=None, weight=None, stretch=None, decorate=None, transform=None, whitespace=None), CellStyleFill(color='#c5b1d8')]), StyleInfo(locname=LocBody(columns='Percentile', rows=[12]), grpname=None, colname='Percentile', rownum=12, colnum=None, styles=[CellStyleText(color='#000000', font=None, size=None, align=None, v_align=None, style=None, weight=None, stretch=None, decorate=None, transform=None, whitespace=None), CellStyleFill(color='#bfa9d4')]), StyleInfo(locname=LocBody(columns='Percentile', rows=[13]), grpname=None, colname='Percentile', rownum=13, colnum=None, styles=[CellStyleText(color='#000000', font=None, size=None, align=None, v_align=None, style=None, weight=None, stretch=None, decorate=None, transform=None, whitespace=None), CellStyleFill(color='#b79fcf')]), StyleInfo(locname=LocBody(columns='Percentile', rows=[14]), grpname=None, colname='Percentile', rownum=14, colnum=None, styles=[CellStyleText(color='#000000', font=None, size=None, align=None, v_align=None, style=None, weight=None, stretch=None, decorate=None, transform=None, whitespace=None), CellStyleFill(color='#b095ca')]), StyleInfo(locname=LocBody(columns='Percentile', rows=[15]), grpname=None, colname='Percentile', rownum=15, colnum=None, styles=[CellStyleText(color='#000000', font=None, size=None, align=None, v_align=None, style=None, weight=None, stretch=None, decorate=None, transform=None, whitespace=None), CellStyleFill(color='#a588c3')]), StyleInfo(locname=LocBody(columns='Percentile', rows=[16]), grpname=None, colname='Percentile', rownum=16, colnum=None, styles=[CellStyleText(color='#000000', font=None, size=None, align=None, v_align=None, style=None, weight=None, stretch=None, decorate=None, transform=None, whitespace=None), CellStyleFill(color='#9876ba')]), StyleInfo(locname=LocBody(columns='Percentile', rows=[17]), grpname=None, colname='Percentile', rownum=17, colnum=None, styles=[CellStyleText(color='#FFFFFF', font=None, size=None, align=None, v_align=None, style=None, weight=None, stretch=None, decorate=None, transform=None, whitespace=None), CellStyleFill(color='#855dae')]), StyleInfo(locname=LocBody(columns='Percentile', rows=[18]), grpname=None, colname='Percentile', rownum=18, colnum=None, styles=[CellStyleText(color='#FFFFFF', font=None, size=None, align=None, v_align=None, style=None, weight=None, stretch=None, decorate=None, transform=None, whitespace=None), CellStyleFill(color='#67349a')])], _locale=<great_tables._gt_data.Locale object at 0x115d64e90>, _formats=[<great_tables._gt_data.FormatInfo object at 0x115d64770>], _substitutions=[], _options=Options(table_id=OptionsInfo(scss=False, category='table', type='value', value=None), table_caption=OptionsInfo(scss=False, category='table', type='value', value=None), table_width=OptionsInfo(scss=True, category='table', type='px', value='auto'), table_layout=OptionsInfo(scss=True, category='table', type='value', value='fixed'), table_margin_left=OptionsInfo(scss=True, category='table', type='px', value='auto'), table_margin_right=OptionsInfo(scss=True, category='table', type='px', value='auto'), table_background_color=OptionsInfo(scss=True, category='table', type='value', value='#FFFFFF'), table_additional_css=OptionsInfo(scss=False, category='table', type='values', value=[]), table_font_names=OptionsInfo(scss=False, category='table', type='values', value=['-apple-system', 'BlinkMacSystemFont', 'Segoe UI', 'Roboto', 'Oxygen', 'Ubuntu', 'Cantarell', 'Helvetica Neue', 'Fira Sans', 'Droid Sans', 'Arial', 'sans-serif']), table_font_size=OptionsInfo(scss=True, category='table', type='px', value='16px'), table_font_weight=OptionsInfo(scss=True, category='table', type='value', value='normal'), table_font_style=OptionsInfo(scss=True, category='table', type='value', value='normal'), table_font_color=OptionsInfo(scss=True, category='table', type='value', value='#333333'), table_font_color_light=OptionsInfo(scss=True, category='table', type='value', value='#FFFFFF'), table_border_top_include=OptionsInfo(scss=False, category='table', type='boolean', value=True), table_border_top_style=OptionsInfo(scss=True, category='table', type='value', value='solid'), table_border_top_width=OptionsInfo(scss=True, category='table', type='px', value='2px'), table_border_top_color=OptionsInfo(scss=True, category='table', type='value', value='#A8A8A8'), table_border_right_style=OptionsInfo(scss=True, category='table', type='value', value='none'), table_border_right_width=OptionsInfo(scss=True, category='table', type='px', value='2px'), table_border_right_color=OptionsInfo(scss=True, category='table', type='value', value='#D3D3D3'), table_border_bottom_include=OptionsInfo(scss=False, category='table', type='boolean', value=True), table_border_bottom_style=OptionsInfo(scss=True, category='table', type='value', value='solid'), table_border_bottom_width=OptionsInfo(scss=True, category='table', type='px', value='2px'), table_border_bottom_color=OptionsInfo(scss=True, category='table', type='value', value='#A8A8A8'), table_border_left_style=OptionsInfo(scss=True, category='table', type='value', value='none'), table_border_left_width=OptionsInfo(scss=True, category='table', type='px', value='2px'), table_border_left_color=OptionsInfo(scss=True, category='table', type='value', value='#D3D3D3'), heading_background_color=OptionsInfo(scss=True, category='heading', type='value', value=None), heading_align=OptionsInfo(scss=True, category='heading', type='value', value='center'), heading_title_font_size=OptionsInfo(scss=True, category='heading', type='px', value='125%'), heading_title_font_weight=OptionsInfo(scss=True, category='heading', type='value', value='initial'), heading_subtitle_font_size=OptionsInfo(scss=True, category='heading', type='px', value='85%'), heading_subtitle_font_weight=OptionsInfo(scss=True, category='heading', type='value', value='initial'), heading_padding=OptionsInfo(scss=True, category='heading', type='px', value='4px'), heading_padding_horizontal=OptionsInfo(scss=True, category='heading', type='px', value='5px'), heading_border_bottom_style=OptionsInfo(scss=True, category='heading', type='value', value='solid'), heading_border_bottom_width=OptionsInfo(scss=True, category='heading', type='px', value='2px'), heading_border_bottom_color=OptionsInfo(scss=True, category='heading', type='value', value='#D3D3D3'), heading_border_lr_style=OptionsInfo(scss=True, category='heading', type='value', value='none'), heading_border_lr_width=OptionsInfo(scss=True, category='heading', type='px', value='1px'), heading_border_lr_color=OptionsInfo(scss=True, category='heading', type='value', value='#D3D3D3'), column_labels_background_color=OptionsInfo(scss=True, category='column_labels', type='value', value=None), column_labels_font_size=OptionsInfo(scss=True, category='column_labels', type='px', value='100%'), column_labels_font_weight=OptionsInfo(scss=True, category='column_labels', type='value', value='normal'), column_labels_text_transform=OptionsInfo(scss=True, category='column_labels', type='value', value='inherit'), column_labels_padding=OptionsInfo(scss=True, category='column_labels', type='px', value='5px'), column_labels_padding_horizontal=OptionsInfo(scss=True, category='column_labels', type='px', value='5px'), column_labels_vlines_style=OptionsInfo(scss=True, category='table_body', type='value', value='none'), column_labels_vlines_width=OptionsInfo(scss=True, category='table_body', type='px', value='1px'), column_labels_vlines_color=OptionsInfo(scss=True, category='table_body', type='value', value='#D3D3D3'), column_labels_border_top_style=OptionsInfo(scss=True, category='column_labels', type='value', value='solid'), column_labels_border_top_width=OptionsInfo(scss=True, category='column_labels', type='px', value='2px'), column_labels_border_top_color=OptionsInfo(scss=True, category='column_labels', type='value', value='#D3D3D3'), column_labels_border_bottom_style=OptionsInfo(scss=True, category='column_labels', type='value', value='solid'), column_labels_border_bottom_width=OptionsInfo(scss=True, category='column_labels', type='px', value='2px'), column_labels_border_bottom_color=OptionsInfo(scss=True, category='column_labels', type='value', value='#D3D3D3'), column_labels_border_lr_style=OptionsInfo(scss=True, category='column_labels', type='value', value='none'), column_labels_border_lr_width=OptionsInfo(scss=True, category='column_labels', type='px', value='1px'), column_labels_border_lr_color=OptionsInfo(scss=True, category='column_labels', type='value', value='#D3D3D3'), column_labels_hidden=OptionsInfo(scss=False, category='column_labels', type='boolean', value=False), row_group_background_color=OptionsInfo(scss=True, category='row_group', type='value', value=None), row_group_font_size=OptionsInfo(scss=True, category='row_group', type='px', value='100%'), row_group_font_weight=OptionsInfo(scss=True, category='row_group', type='value', value='initial'), row_group_text_transform=OptionsInfo(scss=True, category='row_group', type='value', value='inherit'), row_group_padding=OptionsInfo(scss=True, category='row_group', type='px', value='8px'), row_group_padding_horizontal=OptionsInfo(scss=True, category='row_group', type='px', value='5px'), row_group_border_top_style=OptionsInfo(scss=True, category='row_group', type='value', value='solid'), row_group_border_top_width=OptionsInfo(scss=True, category='row_group', type='px', value='2px'), row_group_border_top_color=OptionsInfo(scss=True, category='row_group', type='value', value='#D3D3D3'), row_group_border_right_style=OptionsInfo(scss=True, category='row_group', type='value', value='none'), row_group_border_right_width=OptionsInfo(scss=True, category='row_group', type='px', value='1px'), row_group_border_right_color=OptionsInfo(scss=True, category='row_group', type='value', value='#D3D3D3'), row_group_border_bottom_style=OptionsInfo(scss=True, category='row_group', type='value', value='solid'), row_group_border_bottom_width=OptionsInfo(scss=True, category='row_group', type='px', value='2px'), row_group_border_bottom_color=OptionsInfo(scss=True, category='row_group', type='value', value='#D3D3D3'), row_group_border_left_style=OptionsInfo(scss=True, category='row_group', type='value', value='none'), row_group_border_left_width=OptionsInfo(scss=True, category='row_group', type='px', value='1px'), row_group_border_left_color=OptionsInfo(scss=True, category='row_group', type='value', value='#D3D3D3'), row_group_as_column=OptionsInfo(scss=False, category='row_group', type='boolean', value=False), table_body_hlines_style=OptionsInfo(scss=True, category='table_body', type='value', value='solid'), table_body_hlines_width=OptionsInfo(scss=True, category='table_body', type='px', value='1px'), table_body_hlines_color=OptionsInfo(scss=True, category='table_body', type='value', value='#D3D3D3'), table_body_vlines_style=OptionsInfo(scss=True, category='table_body', type='value', value='none'), table_body_vlines_width=OptionsInfo(scss=True, category='table_body', type='px', value='1px'), table_body_vlines_color=OptionsInfo(scss=True, category='table_body', type='value', value='#D3D3D3'), table_body_border_top_style=OptionsInfo(scss=True, category='table_body', type='value', value='solid'), table_body_border_top_width=OptionsInfo(scss=True, category='table_body', type='px', value='2px'), table_body_border_top_color=OptionsInfo(scss=True, category='table_body', type='value', value='#D3D3D3'), table_body_border_bottom_style=OptionsInfo(scss=True, category='table_body', type='value', value='solid'), table_body_border_bottom_width=OptionsInfo(scss=True, category='table_body', type='px', value='2px'), table_body_border_bottom_color=OptionsInfo(scss=True, category='table_body', type='value', value='#D3D3D3'), data_row_padding=OptionsInfo(scss=True, category='data_row', type='px', value='8px'), data_row_padding_horizontal=OptionsInfo(scss=True, category='data_row', type='px', value='5px'), stub_background_color=OptionsInfo(scss=True, category='stub', type='value', value=None), stub_font_size=OptionsInfo(scss=True, category='stub', type='px', value='100%'), stub_font_weight=OptionsInfo(scss=True, category='stub', type='value', value='initial'), stub_text_transform=OptionsInfo(scss=True, category='stub', type='value', value='inherit'), stub_border_style=OptionsInfo(scss=True, category='stub', type='value', value='solid'), stub_border_width=OptionsInfo(scss=True, category='stub', type='px', value='2px'), stub_border_color=OptionsInfo(scss=True, category='stub', type='value', value='#D3D3D3'), stub_row_group_background_color=OptionsInfo(scss=True, category='stub', type='value', value=None), stub_row_group_font_size=OptionsInfo(scss=True, category='stub', type='px', value='100%'), stub_row_group_font_weight=OptionsInfo(scss=True, category='stub', type='value', value='initial'), stub_row_group_text_transform=OptionsInfo(scss=True, category='stub', type='value', value='inherit'), stub_row_group_border_style=OptionsInfo(scss=True, category='stub', type='value', value='solid'), stub_row_group_border_width=OptionsInfo(scss=True, category='stub', type='px', value='2px'), stub_row_group_border_color=OptionsInfo(scss=True, category='stub', type='value', value='#D3D3D3'), source_notes_padding=OptionsInfo(scss=True, category='source_notes', type='px', value='4px'), source_notes_padding_horizontal=OptionsInfo(scss=True, category='source_notes', type='px', value='5px'), source_notes_background_color=OptionsInfo(scss=True, category='source_notes', type='value', value=None), source_notes_font_size=OptionsInfo(scss=True, category='source_notes', type='px', value='90%'), source_notes_border_bottom_style=OptionsInfo(scss=True, category='source_notes', type='value', value='none'), source_notes_border_bottom_width=OptionsInfo(scss=True, category='source_notes', type='px', value='2px'), source_notes_border_bottom_color=OptionsInfo(scss=True, category='source_notes', type='value', value='#D3D3D3'), source_notes_border_lr_style=OptionsInfo(scss=True, category='source_notes', type='value', value='none'), source_notes_border_lr_width=OptionsInfo(scss=True, category='source_notes', type='px', value='2px'), source_notes_border_lr_color=OptionsInfo(scss=True, category='source_notes', type='value', value='#D3D3D3'), source_notes_multiline=OptionsInfo(scss=False, category='source_notes', type='boolean', value=True), source_notes_sep=OptionsInfo(scss=False, category='source_notes', type='value', value=' '), row_striping_background_color=OptionsInfo(scss=True, category='row', type='value', value='rgba(128,128,128,0.05)'), row_striping_include_stub=OptionsInfo(scss=False, category='row', type='boolean', value=False), row_striping_include_table_body=OptionsInfo(scss=False, category='row', type='boolean', value=False), container_width=OptionsInfo(scss=False, category='container', type='px', value='auto'), container_height=OptionsInfo(scss=False, category='container', type='px', value='auto'), container_padding_x=OptionsInfo(scss=False, category='container', type='px', value='0px'), container_padding_y=OptionsInfo(scss=False, category='container', type='px', value='10px'), container_overflow_x=OptionsInfo(scss=False, category='container', type='overflow', value='auto'), container_overflow_y=OptionsInfo(scss=False, category='container', type='overflow', value='auto'), quarto_disable_processing=OptionsInfo(scss=False, category='quarto', type='logical', value=False), quarto_use_bootstrap=OptionsInfo(scss=False, category='quarto', type='logical', value=False)), _has_built=False)"
      ]
     },
     "execution_count": 102,
     "metadata": {},
     "output_type": "execute_result"
    }
   ],
   "source": [
    "percentiles = np.arange(5, 96, 5)\n",
    "\n",
    "percentile_values = np.percentile(category_spend.select('spend').collect(), percentiles)\n",
    "\n",
    "percentile_df = pl.DataFrame({'Percentile Level': percentiles,\n",
    "                              'Percentile': percentile_values})\n",
    "\n",
    "(\n",
    "    GT(percentile_df, rowname_col='Percentile Level')\n",
    "    .tab_header(title='Category Spend Percentile')\n",
    "    .tab_stubhead(label=\"Percentile Level\")\n",
    "    .fmt_number()\n",
    "    .data_color(\n",
    "        domain=[0, 40],\n",
    "        palette=['white', 'rebeccapurple']\n",
    "    )  \n",
    ")"
   ]
  },
  {
   "cell_type": "code",
   "execution_count": 99,
   "metadata": {},
   "outputs": [
    {
     "data": {
      "application/vnd.vegalite.v5+json": {
       "$schema": "https://vega.github.io/schema/vega-lite/v5.20.1.json",
       "config": {
        "view": {
         "continuousHeight": 300,
         "continuousWidth": 300
        }
       },
       "data": {
        "name": "data-9976970f2214580b85e7775074d8cd64"
       },
       "datasets": {
        "data-9976970f2214580b85e7775074d8cd64": [
         {
          "% of Total": 0.014866637516397028,
          "Frequency": 68,
          "cut": "45 - 50"
         },
         {
          "% of Total": 0.05596851770878881,
          "Frequency": 256,
          "cut": "30 - 35"
         },
         {
          "% of Total": 0.19282903366856144,
          "Frequency": 882,
          "cut": "15 - 20"
         },
         {
          "% of Total": 0.04197638828159161,
          "Frequency": 192,
          "cut": "35 - 40"
         },
         {
          "% of Total": 0.13620463489287277,
          "Frequency": 623,
          "cut": "20 - 25"
         },
         {
          "% of Total": 0.034324442501093136,
          "Frequency": 157,
          "cut": "50 - ∞"
         },
         {
          "% of Total": 0.1639702667249672,
          "Frequency": 750,
          "cut": "5 - 10"
         },
         {
          "% of Total": 0.2345867949278531,
          "Frequency": 1073,
          "cut": "10 - 15"
         },
         {
          "% of Total": 0.09838216003498032,
          "Frequency": 450,
          "cut": "25 - 30"
         },
         {
          "% of Total": 0.026891123742894624,
          "Frequency": 123,
          "cut": "40 - 45"
         }
        ]
       },
       "encoding": {
        "x": {
         "axis": {
          "labelAngle": 0,
          "title": "Category Spend ($)"
         },
         "field": "cut",
         "sort": [
          "0 - 5",
          "5 - 10",
          "10 - 15",
          "15 - 20",
          "20 - 25",
          "25 - 30",
          "30 - 35",
          "35 - 40",
          "40 - 45",
          "45 - 50",
          "50 - ∞"
         ],
         "type": "ordinal"
        },
        "y": {
         "axis": {
          "format": ".0%",
          "title": "% of Households"
         },
         "field": "% of Total",
         "type": "quantitative"
        }
       },
       "height": 250,
       "mark": {
        "type": "bar"
       },
       "title": {
        "subtitle": "Distribution of category spend across category buyers",
        "text": "Category Spend Distribution (%)"
       },
       "width": 650
      },
      "text/plain": [
       "<VegaLite 5 object>\n",
       "\n",
       "If you see this message, it means the renderer has not been properly enabled\n",
       "for the frontend that you are using. For more information, see\n",
       "https://altair-viz.github.io/user_guide/display_frontends.html#troubleshooting\n"
      ]
     },
     "metadata": {},
     "output_type": "display_data"
    }
   ],
   "source": [
    "labels = [f\"{lb} - {lb + 5 if lb != 50 else '∞'}\" for lb in range(0, 51, 5)]\n",
    "\n",
    "category_spend_dist = category_spend.with_columns(\n",
    "    pl.col('spend').cut(np.arange(0,50,5), labels=labels).alias('cut')   \n",
    ").group_by('cut').agg(\n",
    "    pl.col('cut').count().alias('Frequency')\n",
    ").with_columns(\n",
    "    (pl.col('Frequency') / pl.col('Frequency').sum()).alias('% of Total')\n",
    ").collect()\n",
    "\n",
    "chart = alt.Chart(category_spend_dist).mark_bar().encode(\n",
    "    x=alt.X(\"cut:O\", \n",
    "            axis=alt.Axis(labelAngle=0, title=\"Category Spend ($)\"), sort=labels),\n",
    "    y=alt.Y(\"% of Total:Q\",\n",
    "            axis=alt.Axis(format=\".0%\", title=\"% of Households\")), \n",
    ").properties(\n",
    "    width=650,\n",
    "    height=250,\n",
    "    title={\n",
    "        'text': 'Category Spend Distribution (%)',\n",
    "        'subtitle': 'Distribution of category spend across category buyers'\n",
    "    }\n",
    ").show()"
   ]
  },
  {
   "cell_type": "markdown",
   "metadata": {},
   "source": [
    "##### Distribution of Brand Spend"
   ]
  },
  {
   "cell_type": "code",
   "execution_count": 100,
   "metadata": {},
   "outputs": [
    {
     "data": {
      "text/html": [
       "<div><style>\n",
       ".dataframe > thead > tr,\n",
       ".dataframe > tbody > tr {\n",
       "  text-align: right;\n",
       "  white-space: pre-wrap;\n",
       "}\n",
       "</style>\n",
       "<small>shape: (9, 2)</small><table border=\"1\" class=\"dataframe\"><thead><tr><th>statistic</th><th>spend</th></tr><tr><td>str</td><td>f64</td></tr></thead><tbody><tr><td>&quot;count&quot;</td><td>2624.0</td></tr><tr><td>&quot;null_count&quot;</td><td>0.0</td></tr><tr><td>&quot;mean&quot;</td><td>12.793803</td></tr><tr><td>&quot;std&quot;</td><td>11.715616</td></tr><tr><td>&quot;min&quot;</td><td>1.57</td></tr><tr><td>&quot;25%&quot;</td><td>3.69</td></tr><tr><td>&quot;50%&quot;</td><td>9.67</td></tr><tr><td>&quot;75%&quot;</td><td>17.13</td></tr><tr><td>&quot;max&quot;</td><td>105.899999</td></tr></tbody></table></div>"
      ],
      "text/plain": [
       "shape: (9, 2)\n",
       "┌────────────┬────────────┐\n",
       "│ statistic  ┆ spend      │\n",
       "│ ---        ┆ ---        │\n",
       "│ str        ┆ f64        │\n",
       "╞════════════╪════════════╡\n",
       "│ count      ┆ 2624.0     │\n",
       "│ null_count ┆ 0.0        │\n",
       "│ mean       ┆ 12.793803  │\n",
       "│ std        ┆ 11.715616  │\n",
       "│ min        ┆ 1.57       │\n",
       "│ 25%        ┆ 3.69       │\n",
       "│ 50%        ┆ 9.67       │\n",
       "│ 75%        ┆ 17.13      │\n",
       "│ max        ┆ 105.899999 │\n",
       "└────────────┴────────────┘"
      ]
     },
     "execution_count": 100,
     "metadata": {},
     "output_type": "execute_result"
    }
   ],
   "source": [
    "alpha_spend = spend_summary('Alpha', grocery_lf, 1)\n",
    "\n",
    "alpha_spend.describe()"
   ]
  },
  {
   "cell_type": "code",
   "execution_count": 101,
   "metadata": {},
   "outputs": [
    {
     "data": {
      "text/html": [
       "<div id=\"qqiomyxpxq\" style=\"padding-left:0px;padding-right:0px;padding-top:10px;padding-bottom:10px;overflow-x:auto;overflow-y:auto;width:auto;height:auto;\">\n",
       "<style>\n",
       "#qqiomyxpxq table {\n",
       "          font-family: -apple-system, BlinkMacSystemFont, 'Segoe UI', Roboto, Oxygen, Ubuntu, Cantarell, 'Helvetica Neue', 'Fira Sans', 'Droid Sans', Arial, sans-serif;\n",
       "          -webkit-font-smoothing: antialiased;\n",
       "          -moz-osx-font-smoothing: grayscale;\n",
       "        }\n",
       "\n",
       "#qqiomyxpxq thead, tbody, tfoot, tr, td, th { border-style: none !important; }\n",
       " tr { background-color: transparent !important; }\n",
       "#qqiomyxpxq p { margin: 0 !important; padding: 0 !important; }\n",
       " #qqiomyxpxq .gt_table { display: table !important; border-collapse: collapse !important; line-height: normal !important; margin-left: auto !important; margin-right: auto !important; color: #333333 !important; font-size: 16px !important; font-weight: normal !important; font-style: normal !important; background-color: #FFFFFF !important; width: auto !important; border-top-style: solid !important; border-top-width: 2px !important; border-top-color: #A8A8A8 !important; border-right-style: none !important; border-right-width: 2px !important; border-right-color: #D3D3D3 !important; border-bottom-style: solid !important; border-bottom-width: 2px !important; border-bottom-color: #A8A8A8 !important; border-left-style: none !important; border-left-width: 2px !important; border-left-color: #D3D3D3 !important; }\n",
       " #qqiomyxpxq .gt_caption { padding-top: 4px !important; padding-bottom: 4px !important; }\n",
       " #qqiomyxpxq .gt_title { color: #333333 !important; font-size: 125% !important; font-weight: initial !important; padding-top: 4px !important; padding-bottom: 4px !important; padding-left: 5px !important; padding-right: 5px !important; border-bottom-color: #FFFFFF !important; border-bottom-width: 0 !important; }\n",
       " #qqiomyxpxq .gt_subtitle { color: #333333 !important; font-size: 85% !important; font-weight: initial !important; padding-top: 3px !important; padding-bottom: 5px !important; padding-left: 5px !important; padding-right: 5px !important; border-top-color: #FFFFFF !important; border-top-width: 0 !important; }\n",
       " #qqiomyxpxq .gt_heading { background-color: #FFFFFF !important; text-align: center !important; border-bottom-color: #FFFFFF !important; border-left-style: none !important; border-left-width: 1px !important; border-left-color: #D3D3D3 !important; border-right-style: none !important; border-right-width: 1px !important; border-right-color: #D3D3D3 !important; }\n",
       " #qqiomyxpxq .gt_bottom_border { border-bottom-style: solid !important; border-bottom-width: 2px !important; border-bottom-color: #D3D3D3 !important; }\n",
       " #qqiomyxpxq .gt_col_headings { border-top-style: solid !important; border-top-width: 2px !important; border-top-color: #D3D3D3 !important; border-bottom-style: solid !important; border-bottom-width: 2px !important; border-bottom-color: #D3D3D3 !important; border-left-style: none !important; border-left-width: 1px !important; border-left-color: #D3D3D3 !important; border-right-style: none !important; border-right-width: 1px !important; border-right-color: #D3D3D3 !important; }\n",
       " #qqiomyxpxq .gt_col_heading { color: #333333 !important; background-color: #FFFFFF !important; font-size: 100% !important; font-weight: normal !important; text-transform: inherit !important; border-left-style: none !important; border-left-width: 1px !important; border-left-color: #D3D3D3 !important; border-right-style: none !important; border-right-width: 1px !important; border-right-color: #D3D3D3 !important; vertical-align: bottom !important; padding-top: 5px !important; padding-bottom: 5px !important; padding-left: 5px !important; padding-right: 5px !important; overflow-x: hidden !important; }\n",
       " #qqiomyxpxq .gt_column_spanner_outer { color: #333333 !important; background-color: #FFFFFF !important; font-size: 100% !important; font-weight: normal !important; text-transform: inherit !important; padding-top: 0 !important; padding-bottom: 0 !important; padding-left: 4px !important; padding-right: 4px !important; }\n",
       " #qqiomyxpxq .gt_column_spanner_outer:first-child { padding-left: 0 !important; }\n",
       " #qqiomyxpxq .gt_column_spanner_outer:last-child { padding-right: 0 !important; }\n",
       " #qqiomyxpxq .gt_column_spanner { border-bottom-style: solid !important; border-bottom-width: 2px !important; border-bottom-color: #D3D3D3 !important; vertical-align: bottom !important; padding-top: 5px !important; padding-bottom: 5px !important; overflow-x: hidden !important; display: inline-block !important; width: 100% !important; }\n",
       " #qqiomyxpxq .gt_spanner_row { border-bottom-style: hidden !important; }\n",
       " #qqiomyxpxq .gt_group_heading { padding-top: 8px !important; padding-bottom: 8px !important; padding-left: 5px !important; padding-right: 5px !important; color: #333333 !important; background-color: #FFFFFF !important; font-size: 100% !important; font-weight: initial !important; text-transform: inherit !important; border-top-style: solid !important; border-top-width: 2px !important; border-top-color: #D3D3D3 !important; border-bottom-style: solid !important; border-bottom-width: 2px !important; border-bottom-color: #D3D3D3 !important; border-left-style: none !important; border-left-width: 1px !important; border-left-color: #D3D3D3 !important; border-right-style: none !important; border-right-width: 1px !important; border-right-color: #D3D3D3 !important; vertical-align: middle !important; text-align: left !important; }\n",
       " #qqiomyxpxq .gt_empty_group_heading { padding: 0.5px !important; color: #333333 !important; background-color: #FFFFFF !important; font-size: 100% !important; font-weight: initial !important; border-top-style: solid !important; border-top-width: 2px !important; border-top-color: #D3D3D3 !important; border-bottom-style: solid !important; border-bottom-width: 2px !important; border-bottom-color: #D3D3D3 !important; vertical-align: middle !important; }\n",
       " #qqiomyxpxq .gt_from_md> :first-child { margin-top: 0 !important; }\n",
       " #qqiomyxpxq .gt_from_md> :last-child { margin-bottom: 0 !important; }\n",
       " #qqiomyxpxq .gt_row { padding-top: 8px !important; padding-bottom: 8px !important; padding-left: 5px !important; padding-right: 5px !important; margin: 10px !important; border-top-style: solid !important; border-top-width: 1px !important; border-top-color: #D3D3D3 !important; border-left-style: none !important; border-left-width: 1px !important; border-left-color: #D3D3D3 !important; border-right-style: none !important; border-right-width: 1px !important; border-right-color: #D3D3D3 !important; vertical-align: middle !important; overflow-x: hidden !important; }\n",
       " #qqiomyxpxq .gt_stub { color: #333333 !important; background-color: #FFFFFF !important; font-size: 100% !important; font-weight: initial !important; text-transform: inherit !important; border-right-style: solid !important; border-right-width: 2px !important; border-right-color: #D3D3D3 !important; padding-left: 5px !important; padding-right: 5px !important; }\n",
       " #qqiomyxpxq .gt_stub_row_group { color: #333333 !important; background-color: #FFFFFF !important; font-size: 100% !important; font-weight: initial !important; text-transform: inherit !important; border-right-style: solid !important; border-right-width: 2px !important; border-right-color: #D3D3D3 !important; padding-left: 5px !important; padding-right: 5px !important; vertical-align: top !important; }\n",
       " #qqiomyxpxq .gt_row_group_first td { border-top-width: 2px !important; }\n",
       " #qqiomyxpxq .gt_row_group_first th { border-top-width: 2px !important; }\n",
       " #qqiomyxpxq .gt_striped { background-color: rgba(128,128,128,0.05) !important; }\n",
       " #qqiomyxpxq .gt_table_body { border-top-style: solid !important; border-top-width: 2px !important; border-top-color: #D3D3D3 !important; border-bottom-style: solid !important; border-bottom-width: 2px !important; border-bottom-color: #D3D3D3 !important; }\n",
       " #qqiomyxpxq .gt_sourcenotes { color: #333333 !important; background-color: #FFFFFF !important; border-bottom-style: none !important; border-bottom-width: 2px !important; border-bottom-color: #D3D3D3 !important; border-left-style: none !important; border-left-width: 2px !important; border-left-color: #D3D3D3 !important; border-right-style: none !important; border-right-width: 2px !important; border-right-color: #D3D3D3 !important; }\n",
       " #qqiomyxpxq .gt_sourcenote { font-size: 90% !important; padding-top: 4px !important; padding-bottom: 4px !important; padding-left: 5px !important; padding-right: 5px !important; text-align: left !important; }\n",
       " #qqiomyxpxq .gt_left { text-align: left !important; }\n",
       " #qqiomyxpxq .gt_center { text-align: center !important; }\n",
       " #qqiomyxpxq .gt_right { text-align: right !important; font-variant-numeric: tabular-nums !important; }\n",
       " #qqiomyxpxq .gt_font_normal { font-weight: normal !important; }\n",
       " #qqiomyxpxq .gt_font_bold { font-weight: bold !important; }\n",
       " #qqiomyxpxq .gt_font_italic { font-style: italic !important; }\n",
       " #qqiomyxpxq .gt_super { font-size: 65% !important; }\n",
       " #qqiomyxpxq .gt_footnote_marks { font-size: 75% !important; vertical-align: 0.4em !important; position: initial !important; }\n",
       " #qqiomyxpxq .gt_asterisk { font-size: 100% !important; vertical-align: 0 !important; }\n",
       " \n",
       "</style>\n",
       "<table class=\"gt_table\" data-quarto-disable-processing=\"false\" data-quarto-bootstrap=\"false\">\n",
       "<thead>\n",
       "\n",
       "  <tr class=\"gt_heading\">\n",
       "    <td colspan=\"2\" class=\"gt_heading gt_title gt_font_normal\">Alpha Spend Percentile</td>\n",
       "  </tr>\n",
       "<tr class=\"gt_col_headings\">\n",
       "  <th class=\"gt_col_heading gt_columns_bottom_border gt_left\" rowspan=\"1\" colspan=\"1\" scope=\"col\" id=\"Percentile Level\">Percentile Level</th>\n",
       "  <th class=\"gt_col_heading gt_columns_bottom_border gt_right\" rowspan=\"1\" colspan=\"1\" scope=\"col\" id=\"Percentile\">Percentile</th>\n",
       "</tr>\n",
       "</thead>\n",
       "<tbody class=\"gt_table_body\">\n",
       "  <tr>\n",
       "    <th style=\"color: #000000; background-color: #ece6f2;\" class=\"gt_row gt_left gt_stub\">5</th>\n",
       "    <td style=\"color: #000000; background-color: #f6f2f9;\" class=\"gt_row gt_right\">2.45</td>\n",
       "  </tr>\n",
       "  <tr>\n",
       "    <th style=\"color: #000000; background-color: #d9cce6;\" class=\"gt_row gt_left gt_stub\">10</th>\n",
       "    <td style=\"color: #000000; background-color: #f4f1f8;\" class=\"gt_row gt_right\">2.79</td>\n",
       "  </tr>\n",
       "  <tr>\n",
       "    <th style=\"color: #000000; background-color: #c6b2d9;\" class=\"gt_row gt_left gt_stub\">15</th>\n",
       "    <td style=\"color: #000000; background-color: #f2eef6;\" class=\"gt_row gt_right\">3.38</td>\n",
       "  </tr>\n",
       "  <tr>\n",
       "    <th style=\"color: #000000; background-color: #b299cc;\" class=\"gt_row gt_left gt_stub\">20</th>\n",
       "    <td style=\"color: #000000; background-color: #f2edf6;\" class=\"gt_row gt_right\">3.49</td>\n",
       "  </tr>\n",
       "  <tr>\n",
       "    <th style=\"color: #000000; background-color: #9f80bf;\" class=\"gt_row gt_left gt_stub\">25</th>\n",
       "    <td style=\"color: #000000; background-color: #f1ecf6;\" class=\"gt_row gt_right\">3.69</td>\n",
       "  </tr>\n",
       "  <tr>\n",
       "    <th style=\"color: #000000; background-color: #8c66b2;\" class=\"gt_row gt_left gt_stub\">30</th>\n",
       "    <td style=\"color: #000000; background-color: #eae3f1;\" class=\"gt_row gt_right\">5.48</td>\n",
       "  </tr>\n",
       "  <tr>\n",
       "    <th style=\"color: #FFFFFF; background-color: #794ca6;\" class=\"gt_row gt_left gt_stub\">35</th>\n",
       "    <td style=\"color: #000000; background-color: #e6ddee;\" class=\"gt_row gt_right\">6.58</td>\n",
       "  </tr>\n",
       "  <tr>\n",
       "    <th style=\"color: #FFFFFF; background-color: #663399;\" class=\"gt_row gt_left gt_stub\">40</th>\n",
       "    <td style=\"color: #000000; background-color: #e5dced;\" class=\"gt_row gt_right\">6.88</td>\n",
       "  </tr>\n",
       "  <tr>\n",
       "    <th style=\"color: #000000; background-color: #808080;\" class=\"gt_row gt_left gt_stub\">45</th>\n",
       "    <td style=\"color: #000000; background-color: #e2d8eb;\" class=\"gt_row gt_right\">7.67</td>\n",
       "  </tr>\n",
       "  <tr>\n",
       "    <th style=\"color: #000000; background-color: #808080;\" class=\"gt_row gt_left gt_stub\">50</th>\n",
       "    <td style=\"color: #000000; background-color: #dacee6;\" class=\"gt_row gt_right\">9.67</td>\n",
       "  </tr>\n",
       "  <tr>\n",
       "    <th style=\"color: #000000; background-color: #808080;\" class=\"gt_row gt_left gt_stub\">55</th>\n",
       "    <td style=\"color: #000000; background-color: #d8cbe5;\" class=\"gt_row gt_right\">10.27</td>\n",
       "  </tr>\n",
       "  <tr>\n",
       "    <th style=\"color: #000000; background-color: #808080;\" class=\"gt_row gt_left gt_stub\">60</th>\n",
       "    <td style=\"color: #000000; background-color: #d4c6e2;\" class=\"gt_row gt_right\">11.26</td>\n",
       "  </tr>\n",
       "  <tr>\n",
       "    <th style=\"color: #000000; background-color: #808080;\" class=\"gt_row gt_left gt_stub\">65</th>\n",
       "    <td style=\"color: #000000; background-color: #ccbadd;\" class=\"gt_row gt_right\">13.46</td>\n",
       "  </tr>\n",
       "  <tr>\n",
       "    <th style=\"color: #000000; background-color: #808080;\" class=\"gt_row gt_left gt_stub\">70</th>\n",
       "    <td style=\"color: #000000; background-color: #c6b3d9;\" class=\"gt_row gt_right\">14.86</td>\n",
       "  </tr>\n",
       "  <tr>\n",
       "    <th style=\"color: #000000; background-color: #808080;\" class=\"gt_row gt_left gt_stub\">75</th>\n",
       "    <td style=\"color: #000000; background-color: #bda8d3;\" class=\"gt_row gt_right\">17.13</td>\n",
       "  </tr>\n",
       "  <tr>\n",
       "    <th style=\"color: #000000; background-color: #808080;\" class=\"gt_row gt_left gt_stub\">80</th>\n",
       "    <td style=\"color: #000000; background-color: #b299cc;\" class=\"gt_row gt_right\">20.04</td>\n",
       "  </tr>\n",
       "  <tr>\n",
       "    <th style=\"color: #000000; background-color: #808080;\" class=\"gt_row gt_left gt_stub\">85</th>\n",
       "    <td style=\"color: #000000; background-color: #a789c4;\" class=\"gt_row gt_right\">23.14</td>\n",
       "  </tr>\n",
       "  <tr>\n",
       "    <th style=\"color: #000000; background-color: #808080;\" class=\"gt_row gt_left gt_stub\">90</th>\n",
       "    <td style=\"color: #000000; background-color: #9572b9;\" class=\"gt_row gt_right\">27.62</td>\n",
       "  </tr>\n",
       "  <tr>\n",
       "    <th style=\"color: #000000; background-color: #808080;\" class=\"gt_row gt_left gt_stub\">95</th>\n",
       "    <td style=\"color: #FFFFFF; background-color: #774aa5;\" class=\"gt_row gt_right\">35.49</td>\n",
       "  </tr>\n",
       "</tbody>\n",
       "\n",
       "\n",
       "</table>\n",
       "\n",
       "</div>\n",
       "        "
      ],
      "text/plain": [
       "GT(_tbl_data=shape: (19, 2)\n",
       "┌──────────────────┬────────────┐\n",
       "│ Percentile Level ┆ Percentile │\n",
       "│ ---              ┆ ---        │\n",
       "│ i64              ┆ f64        │\n",
       "╞══════════════════╪════════════╡\n",
       "│ 5                ┆ 2.453      │\n",
       "│ 10               ┆ 2.79       │\n",
       "│ 15               ┆ 3.38       │\n",
       "│ 20               ┆ 3.49       │\n",
       "│ 25               ┆ 3.69       │\n",
       "│ …                ┆ …          │\n",
       "│ 75               ┆ 17.13      │\n",
       "│ 80               ┆ 20.04      │\n",
       "│ 85               ┆ 23.1355    │\n",
       "│ 90               ┆ 27.620001  │\n",
       "│ 95               ┆ 35.485     │\n",
       "└──────────────────┴────────────┘, _body=<great_tables._gt_data.Body object at 0x115d285f0>, _boxhead=Boxhead([ColInfo(var='Percentile Level', type=<ColInfoTypeEnum.stub: 2>, column_label='Percentile Level', column_align='right', column_width=None), ColInfo(var='Percentile', type=<ColInfoTypeEnum.default: 1>, column_label='Percentile', column_align='right', column_width=None)]), _stub=<great_tables._gt_data.Stub object at 0x10f188830>, _spanners=Spanners([]), _heading=Heading(title='Alpha Spend Percentile', subtitle=None, preheader=None), _stubhead='Percentile Level', _source_notes=[], _footnotes=[], _styles=[StyleInfo(locname=LocBody(columns='Percentile Level', rows=[0]), grpname=None, colname='Percentile Level', rownum=0, colnum=None, styles=[CellStyleText(color='#000000', font=None, size=None, align=None, v_align=None, style=None, weight=None, stretch=None, decorate=None, transform=None, whitespace=None), CellStyleFill(color='#ece6f2')]), StyleInfo(locname=LocBody(columns='Percentile Level', rows=[1]), grpname=None, colname='Percentile Level', rownum=1, colnum=None, styles=[CellStyleText(color='#000000', font=None, size=None, align=None, v_align=None, style=None, weight=None, stretch=None, decorate=None, transform=None, whitespace=None), CellStyleFill(color='#d9cce6')]), StyleInfo(locname=LocBody(columns='Percentile Level', rows=[2]), grpname=None, colname='Percentile Level', rownum=2, colnum=None, styles=[CellStyleText(color='#000000', font=None, size=None, align=None, v_align=None, style=None, weight=None, stretch=None, decorate=None, transform=None, whitespace=None), CellStyleFill(color='#c6b2d9')]), StyleInfo(locname=LocBody(columns='Percentile Level', rows=[3]), grpname=None, colname='Percentile Level', rownum=3, colnum=None, styles=[CellStyleText(color='#000000', font=None, size=None, align=None, v_align=None, style=None, weight=None, stretch=None, decorate=None, transform=None, whitespace=None), CellStyleFill(color='#b299cc')]), StyleInfo(locname=LocBody(columns='Percentile Level', rows=[4]), grpname=None, colname='Percentile Level', rownum=4, colnum=None, styles=[CellStyleText(color='#000000', font=None, size=None, align=None, v_align=None, style=None, weight=None, stretch=None, decorate=None, transform=None, whitespace=None), CellStyleFill(color='#9f80bf')]), StyleInfo(locname=LocBody(columns='Percentile Level', rows=[5]), grpname=None, colname='Percentile Level', rownum=5, colnum=None, styles=[CellStyleText(color='#000000', font=None, size=None, align=None, v_align=None, style=None, weight=None, stretch=None, decorate=None, transform=None, whitespace=None), CellStyleFill(color='#8c66b2')]), StyleInfo(locname=LocBody(columns='Percentile Level', rows=[6]), grpname=None, colname='Percentile Level', rownum=6, colnum=None, styles=[CellStyleText(color='#FFFFFF', font=None, size=None, align=None, v_align=None, style=None, weight=None, stretch=None, decorate=None, transform=None, whitespace=None), CellStyleFill(color='#794ca6')]), StyleInfo(locname=LocBody(columns='Percentile Level', rows=[7]), grpname=None, colname='Percentile Level', rownum=7, colnum=None, styles=[CellStyleText(color='#FFFFFF', font=None, size=None, align=None, v_align=None, style=None, weight=None, stretch=None, decorate=None, transform=None, whitespace=None), CellStyleFill(color='#663399')]), StyleInfo(locname=LocBody(columns='Percentile Level', rows=[8]), grpname=None, colname='Percentile Level', rownum=8, colnum=None, styles=[CellStyleText(color='#000000', font=None, size=None, align=None, v_align=None, style=None, weight=None, stretch=None, decorate=None, transform=None, whitespace=None), CellStyleFill(color='#808080')]), StyleInfo(locname=LocBody(columns='Percentile Level', rows=[9]), grpname=None, colname='Percentile Level', rownum=9, colnum=None, styles=[CellStyleText(color='#000000', font=None, size=None, align=None, v_align=None, style=None, weight=None, stretch=None, decorate=None, transform=None, whitespace=None), CellStyleFill(color='#808080')]), StyleInfo(locname=LocBody(columns='Percentile Level', rows=[10]), grpname=None, colname='Percentile Level', rownum=10, colnum=None, styles=[CellStyleText(color='#000000', font=None, size=None, align=None, v_align=None, style=None, weight=None, stretch=None, decorate=None, transform=None, whitespace=None), CellStyleFill(color='#808080')]), StyleInfo(locname=LocBody(columns='Percentile Level', rows=[11]), grpname=None, colname='Percentile Level', rownum=11, colnum=None, styles=[CellStyleText(color='#000000', font=None, size=None, align=None, v_align=None, style=None, weight=None, stretch=None, decorate=None, transform=None, whitespace=None), CellStyleFill(color='#808080')]), StyleInfo(locname=LocBody(columns='Percentile Level', rows=[12]), grpname=None, colname='Percentile Level', rownum=12, colnum=None, styles=[CellStyleText(color='#000000', font=None, size=None, align=None, v_align=None, style=None, weight=None, stretch=None, decorate=None, transform=None, whitespace=None), CellStyleFill(color='#808080')]), StyleInfo(locname=LocBody(columns='Percentile Level', rows=[13]), grpname=None, colname='Percentile Level', rownum=13, colnum=None, styles=[CellStyleText(color='#000000', font=None, size=None, align=None, v_align=None, style=None, weight=None, stretch=None, decorate=None, transform=None, whitespace=None), CellStyleFill(color='#808080')]), StyleInfo(locname=LocBody(columns='Percentile Level', rows=[14]), grpname=None, colname='Percentile Level', rownum=14, colnum=None, styles=[CellStyleText(color='#000000', font=None, size=None, align=None, v_align=None, style=None, weight=None, stretch=None, decorate=None, transform=None, whitespace=None), CellStyleFill(color='#808080')]), StyleInfo(locname=LocBody(columns='Percentile Level', rows=[15]), grpname=None, colname='Percentile Level', rownum=15, colnum=None, styles=[CellStyleText(color='#000000', font=None, size=None, align=None, v_align=None, style=None, weight=None, stretch=None, decorate=None, transform=None, whitespace=None), CellStyleFill(color='#808080')]), StyleInfo(locname=LocBody(columns='Percentile Level', rows=[16]), grpname=None, colname='Percentile Level', rownum=16, colnum=None, styles=[CellStyleText(color='#000000', font=None, size=None, align=None, v_align=None, style=None, weight=None, stretch=None, decorate=None, transform=None, whitespace=None), CellStyleFill(color='#808080')]), StyleInfo(locname=LocBody(columns='Percentile Level', rows=[17]), grpname=None, colname='Percentile Level', rownum=17, colnum=None, styles=[CellStyleText(color='#000000', font=None, size=None, align=None, v_align=None, style=None, weight=None, stretch=None, decorate=None, transform=None, whitespace=None), CellStyleFill(color='#808080')]), StyleInfo(locname=LocBody(columns='Percentile Level', rows=[18]), grpname=None, colname='Percentile Level', rownum=18, colnum=None, styles=[CellStyleText(color='#000000', font=None, size=None, align=None, v_align=None, style=None, weight=None, stretch=None, decorate=None, transform=None, whitespace=None), CellStyleFill(color='#808080')]), StyleInfo(locname=LocBody(columns='Percentile', rows=[0]), grpname=None, colname='Percentile', rownum=0, colnum=None, styles=[CellStyleText(color='#000000', font=None, size=None, align=None, v_align=None, style=None, weight=None, stretch=None, decorate=None, transform=None, whitespace=None), CellStyleFill(color='#f6f2f9')]), StyleInfo(locname=LocBody(columns='Percentile', rows=[1]), grpname=None, colname='Percentile', rownum=1, colnum=None, styles=[CellStyleText(color='#000000', font=None, size=None, align=None, v_align=None, style=None, weight=None, stretch=None, decorate=None, transform=None, whitespace=None), CellStyleFill(color='#f4f1f8')]), StyleInfo(locname=LocBody(columns='Percentile', rows=[2]), grpname=None, colname='Percentile', rownum=2, colnum=None, styles=[CellStyleText(color='#000000', font=None, size=None, align=None, v_align=None, style=None, weight=None, stretch=None, decorate=None, transform=None, whitespace=None), CellStyleFill(color='#f2eef6')]), StyleInfo(locname=LocBody(columns='Percentile', rows=[3]), grpname=None, colname='Percentile', rownum=3, colnum=None, styles=[CellStyleText(color='#000000', font=None, size=None, align=None, v_align=None, style=None, weight=None, stretch=None, decorate=None, transform=None, whitespace=None), CellStyleFill(color='#f2edf6')]), StyleInfo(locname=LocBody(columns='Percentile', rows=[4]), grpname=None, colname='Percentile', rownum=4, colnum=None, styles=[CellStyleText(color='#000000', font=None, size=None, align=None, v_align=None, style=None, weight=None, stretch=None, decorate=None, transform=None, whitespace=None), CellStyleFill(color='#f1ecf6')]), StyleInfo(locname=LocBody(columns='Percentile', rows=[5]), grpname=None, colname='Percentile', rownum=5, colnum=None, styles=[CellStyleText(color='#000000', font=None, size=None, align=None, v_align=None, style=None, weight=None, stretch=None, decorate=None, transform=None, whitespace=None), CellStyleFill(color='#eae3f1')]), StyleInfo(locname=LocBody(columns='Percentile', rows=[6]), grpname=None, colname='Percentile', rownum=6, colnum=None, styles=[CellStyleText(color='#000000', font=None, size=None, align=None, v_align=None, style=None, weight=None, stretch=None, decorate=None, transform=None, whitespace=None), CellStyleFill(color='#e6ddee')]), StyleInfo(locname=LocBody(columns='Percentile', rows=[7]), grpname=None, colname='Percentile', rownum=7, colnum=None, styles=[CellStyleText(color='#000000', font=None, size=None, align=None, v_align=None, style=None, weight=None, stretch=None, decorate=None, transform=None, whitespace=None), CellStyleFill(color='#e5dced')]), StyleInfo(locname=LocBody(columns='Percentile', rows=[8]), grpname=None, colname='Percentile', rownum=8, colnum=None, styles=[CellStyleText(color='#000000', font=None, size=None, align=None, v_align=None, style=None, weight=None, stretch=None, decorate=None, transform=None, whitespace=None), CellStyleFill(color='#e2d8eb')]), StyleInfo(locname=LocBody(columns='Percentile', rows=[9]), grpname=None, colname='Percentile', rownum=9, colnum=None, styles=[CellStyleText(color='#000000', font=None, size=None, align=None, v_align=None, style=None, weight=None, stretch=None, decorate=None, transform=None, whitespace=None), CellStyleFill(color='#dacee6')]), StyleInfo(locname=LocBody(columns='Percentile', rows=[10]), grpname=None, colname='Percentile', rownum=10, colnum=None, styles=[CellStyleText(color='#000000', font=None, size=None, align=None, v_align=None, style=None, weight=None, stretch=None, decorate=None, transform=None, whitespace=None), CellStyleFill(color='#d8cbe5')]), StyleInfo(locname=LocBody(columns='Percentile', rows=[11]), grpname=None, colname='Percentile', rownum=11, colnum=None, styles=[CellStyleText(color='#000000', font=None, size=None, align=None, v_align=None, style=None, weight=None, stretch=None, decorate=None, transform=None, whitespace=None), CellStyleFill(color='#d4c6e2')]), StyleInfo(locname=LocBody(columns='Percentile', rows=[12]), grpname=None, colname='Percentile', rownum=12, colnum=None, styles=[CellStyleText(color='#000000', font=None, size=None, align=None, v_align=None, style=None, weight=None, stretch=None, decorate=None, transform=None, whitespace=None), CellStyleFill(color='#ccbadd')]), StyleInfo(locname=LocBody(columns='Percentile', rows=[13]), grpname=None, colname='Percentile', rownum=13, colnum=None, styles=[CellStyleText(color='#000000', font=None, size=None, align=None, v_align=None, style=None, weight=None, stretch=None, decorate=None, transform=None, whitespace=None), CellStyleFill(color='#c6b3d9')]), StyleInfo(locname=LocBody(columns='Percentile', rows=[14]), grpname=None, colname='Percentile', rownum=14, colnum=None, styles=[CellStyleText(color='#000000', font=None, size=None, align=None, v_align=None, style=None, weight=None, stretch=None, decorate=None, transform=None, whitespace=None), CellStyleFill(color='#bda8d3')]), StyleInfo(locname=LocBody(columns='Percentile', rows=[15]), grpname=None, colname='Percentile', rownum=15, colnum=None, styles=[CellStyleText(color='#000000', font=None, size=None, align=None, v_align=None, style=None, weight=None, stretch=None, decorate=None, transform=None, whitespace=None), CellStyleFill(color='#b299cc')]), StyleInfo(locname=LocBody(columns='Percentile', rows=[16]), grpname=None, colname='Percentile', rownum=16, colnum=None, styles=[CellStyleText(color='#000000', font=None, size=None, align=None, v_align=None, style=None, weight=None, stretch=None, decorate=None, transform=None, whitespace=None), CellStyleFill(color='#a789c4')]), StyleInfo(locname=LocBody(columns='Percentile', rows=[17]), grpname=None, colname='Percentile', rownum=17, colnum=None, styles=[CellStyleText(color='#000000', font=None, size=None, align=None, v_align=None, style=None, weight=None, stretch=None, decorate=None, transform=None, whitespace=None), CellStyleFill(color='#9572b9')]), StyleInfo(locname=LocBody(columns='Percentile', rows=[18]), grpname=None, colname='Percentile', rownum=18, colnum=None, styles=[CellStyleText(color='#FFFFFF', font=None, size=None, align=None, v_align=None, style=None, weight=None, stretch=None, decorate=None, transform=None, whitespace=None), CellStyleFill(color='#774aa5')])], _locale=<great_tables._gt_data.Locale object at 0x115d2ca10>, _formats=[<great_tables._gt_data.FormatInfo object at 0x115d2e630>], _substitutions=[], _options=Options(table_id=OptionsInfo(scss=False, category='table', type='value', value=None), table_caption=OptionsInfo(scss=False, category='table', type='value', value=None), table_width=OptionsInfo(scss=True, category='table', type='px', value='auto'), table_layout=OptionsInfo(scss=True, category='table', type='value', value='fixed'), table_margin_left=OptionsInfo(scss=True, category='table', type='px', value='auto'), table_margin_right=OptionsInfo(scss=True, category='table', type='px', value='auto'), table_background_color=OptionsInfo(scss=True, category='table', type='value', value='#FFFFFF'), table_additional_css=OptionsInfo(scss=False, category='table', type='values', value=[]), table_font_names=OptionsInfo(scss=False, category='table', type='values', value=['-apple-system', 'BlinkMacSystemFont', 'Segoe UI', 'Roboto', 'Oxygen', 'Ubuntu', 'Cantarell', 'Helvetica Neue', 'Fira Sans', 'Droid Sans', 'Arial', 'sans-serif']), table_font_size=OptionsInfo(scss=True, category='table', type='px', value='16px'), table_font_weight=OptionsInfo(scss=True, category='table', type='value', value='normal'), table_font_style=OptionsInfo(scss=True, category='table', type='value', value='normal'), table_font_color=OptionsInfo(scss=True, category='table', type='value', value='#333333'), table_font_color_light=OptionsInfo(scss=True, category='table', type='value', value='#FFFFFF'), table_border_top_include=OptionsInfo(scss=False, category='table', type='boolean', value=True), table_border_top_style=OptionsInfo(scss=True, category='table', type='value', value='solid'), table_border_top_width=OptionsInfo(scss=True, category='table', type='px', value='2px'), table_border_top_color=OptionsInfo(scss=True, category='table', type='value', value='#A8A8A8'), table_border_right_style=OptionsInfo(scss=True, category='table', type='value', value='none'), table_border_right_width=OptionsInfo(scss=True, category='table', type='px', value='2px'), table_border_right_color=OptionsInfo(scss=True, category='table', type='value', value='#D3D3D3'), table_border_bottom_include=OptionsInfo(scss=False, category='table', type='boolean', value=True), table_border_bottom_style=OptionsInfo(scss=True, category='table', type='value', value='solid'), table_border_bottom_width=OptionsInfo(scss=True, category='table', type='px', value='2px'), table_border_bottom_color=OptionsInfo(scss=True, category='table', type='value', value='#A8A8A8'), table_border_left_style=OptionsInfo(scss=True, category='table', type='value', value='none'), table_border_left_width=OptionsInfo(scss=True, category='table', type='px', value='2px'), table_border_left_color=OptionsInfo(scss=True, category='table', type='value', value='#D3D3D3'), heading_background_color=OptionsInfo(scss=True, category='heading', type='value', value=None), heading_align=OptionsInfo(scss=True, category='heading', type='value', value='center'), heading_title_font_size=OptionsInfo(scss=True, category='heading', type='px', value='125%'), heading_title_font_weight=OptionsInfo(scss=True, category='heading', type='value', value='initial'), heading_subtitle_font_size=OptionsInfo(scss=True, category='heading', type='px', value='85%'), heading_subtitle_font_weight=OptionsInfo(scss=True, category='heading', type='value', value='initial'), heading_padding=OptionsInfo(scss=True, category='heading', type='px', value='4px'), heading_padding_horizontal=OptionsInfo(scss=True, category='heading', type='px', value='5px'), heading_border_bottom_style=OptionsInfo(scss=True, category='heading', type='value', value='solid'), heading_border_bottom_width=OptionsInfo(scss=True, category='heading', type='px', value='2px'), heading_border_bottom_color=OptionsInfo(scss=True, category='heading', type='value', value='#D3D3D3'), heading_border_lr_style=OptionsInfo(scss=True, category='heading', type='value', value='none'), heading_border_lr_width=OptionsInfo(scss=True, category='heading', type='px', value='1px'), heading_border_lr_color=OptionsInfo(scss=True, category='heading', type='value', value='#D3D3D3'), column_labels_background_color=OptionsInfo(scss=True, category='column_labels', type='value', value=None), column_labels_font_size=OptionsInfo(scss=True, category='column_labels', type='px', value='100%'), column_labels_font_weight=OptionsInfo(scss=True, category='column_labels', type='value', value='normal'), column_labels_text_transform=OptionsInfo(scss=True, category='column_labels', type='value', value='inherit'), column_labels_padding=OptionsInfo(scss=True, category='column_labels', type='px', value='5px'), column_labels_padding_horizontal=OptionsInfo(scss=True, category='column_labels', type='px', value='5px'), column_labels_vlines_style=OptionsInfo(scss=True, category='table_body', type='value', value='none'), column_labels_vlines_width=OptionsInfo(scss=True, category='table_body', type='px', value='1px'), column_labels_vlines_color=OptionsInfo(scss=True, category='table_body', type='value', value='#D3D3D3'), column_labels_border_top_style=OptionsInfo(scss=True, category='column_labels', type='value', value='solid'), column_labels_border_top_width=OptionsInfo(scss=True, category='column_labels', type='px', value='2px'), column_labels_border_top_color=OptionsInfo(scss=True, category='column_labels', type='value', value='#D3D3D3'), column_labels_border_bottom_style=OptionsInfo(scss=True, category='column_labels', type='value', value='solid'), column_labels_border_bottom_width=OptionsInfo(scss=True, category='column_labels', type='px', value='2px'), column_labels_border_bottom_color=OptionsInfo(scss=True, category='column_labels', type='value', value='#D3D3D3'), column_labels_border_lr_style=OptionsInfo(scss=True, category='column_labels', type='value', value='none'), column_labels_border_lr_width=OptionsInfo(scss=True, category='column_labels', type='px', value='1px'), column_labels_border_lr_color=OptionsInfo(scss=True, category='column_labels', type='value', value='#D3D3D3'), column_labels_hidden=OptionsInfo(scss=False, category='column_labels', type='boolean', value=False), row_group_background_color=OptionsInfo(scss=True, category='row_group', type='value', value=None), row_group_font_size=OptionsInfo(scss=True, category='row_group', type='px', value='100%'), row_group_font_weight=OptionsInfo(scss=True, category='row_group', type='value', value='initial'), row_group_text_transform=OptionsInfo(scss=True, category='row_group', type='value', value='inherit'), row_group_padding=OptionsInfo(scss=True, category='row_group', type='px', value='8px'), row_group_padding_horizontal=OptionsInfo(scss=True, category='row_group', type='px', value='5px'), row_group_border_top_style=OptionsInfo(scss=True, category='row_group', type='value', value='solid'), row_group_border_top_width=OptionsInfo(scss=True, category='row_group', type='px', value='2px'), row_group_border_top_color=OptionsInfo(scss=True, category='row_group', type='value', value='#D3D3D3'), row_group_border_right_style=OptionsInfo(scss=True, category='row_group', type='value', value='none'), row_group_border_right_width=OptionsInfo(scss=True, category='row_group', type='px', value='1px'), row_group_border_right_color=OptionsInfo(scss=True, category='row_group', type='value', value='#D3D3D3'), row_group_border_bottom_style=OptionsInfo(scss=True, category='row_group', type='value', value='solid'), row_group_border_bottom_width=OptionsInfo(scss=True, category='row_group', type='px', value='2px'), row_group_border_bottom_color=OptionsInfo(scss=True, category='row_group', type='value', value='#D3D3D3'), row_group_border_left_style=OptionsInfo(scss=True, category='row_group', type='value', value='none'), row_group_border_left_width=OptionsInfo(scss=True, category='row_group', type='px', value='1px'), row_group_border_left_color=OptionsInfo(scss=True, category='row_group', type='value', value='#D3D3D3'), row_group_as_column=OptionsInfo(scss=False, category='row_group', type='boolean', value=False), table_body_hlines_style=OptionsInfo(scss=True, category='table_body', type='value', value='solid'), table_body_hlines_width=OptionsInfo(scss=True, category='table_body', type='px', value='1px'), table_body_hlines_color=OptionsInfo(scss=True, category='table_body', type='value', value='#D3D3D3'), table_body_vlines_style=OptionsInfo(scss=True, category='table_body', type='value', value='none'), table_body_vlines_width=OptionsInfo(scss=True, category='table_body', type='px', value='1px'), table_body_vlines_color=OptionsInfo(scss=True, category='table_body', type='value', value='#D3D3D3'), table_body_border_top_style=OptionsInfo(scss=True, category='table_body', type='value', value='solid'), table_body_border_top_width=OptionsInfo(scss=True, category='table_body', type='px', value='2px'), table_body_border_top_color=OptionsInfo(scss=True, category='table_body', type='value', value='#D3D3D3'), table_body_border_bottom_style=OptionsInfo(scss=True, category='table_body', type='value', value='solid'), table_body_border_bottom_width=OptionsInfo(scss=True, category='table_body', type='px', value='2px'), table_body_border_bottom_color=OptionsInfo(scss=True, category='table_body', type='value', value='#D3D3D3'), data_row_padding=OptionsInfo(scss=True, category='data_row', type='px', value='8px'), data_row_padding_horizontal=OptionsInfo(scss=True, category='data_row', type='px', value='5px'), stub_background_color=OptionsInfo(scss=True, category='stub', type='value', value=None), stub_font_size=OptionsInfo(scss=True, category='stub', type='px', value='100%'), stub_font_weight=OptionsInfo(scss=True, category='stub', type='value', value='initial'), stub_text_transform=OptionsInfo(scss=True, category='stub', type='value', value='inherit'), stub_border_style=OptionsInfo(scss=True, category='stub', type='value', value='solid'), stub_border_width=OptionsInfo(scss=True, category='stub', type='px', value='2px'), stub_border_color=OptionsInfo(scss=True, category='stub', type='value', value='#D3D3D3'), stub_row_group_background_color=OptionsInfo(scss=True, category='stub', type='value', value=None), stub_row_group_font_size=OptionsInfo(scss=True, category='stub', type='px', value='100%'), stub_row_group_font_weight=OptionsInfo(scss=True, category='stub', type='value', value='initial'), stub_row_group_text_transform=OptionsInfo(scss=True, category='stub', type='value', value='inherit'), stub_row_group_border_style=OptionsInfo(scss=True, category='stub', type='value', value='solid'), stub_row_group_border_width=OptionsInfo(scss=True, category='stub', type='px', value='2px'), stub_row_group_border_color=OptionsInfo(scss=True, category='stub', type='value', value='#D3D3D3'), source_notes_padding=OptionsInfo(scss=True, category='source_notes', type='px', value='4px'), source_notes_padding_horizontal=OptionsInfo(scss=True, category='source_notes', type='px', value='5px'), source_notes_background_color=OptionsInfo(scss=True, category='source_notes', type='value', value=None), source_notes_font_size=OptionsInfo(scss=True, category='source_notes', type='px', value='90%'), source_notes_border_bottom_style=OptionsInfo(scss=True, category='source_notes', type='value', value='none'), source_notes_border_bottom_width=OptionsInfo(scss=True, category='source_notes', type='px', value='2px'), source_notes_border_bottom_color=OptionsInfo(scss=True, category='source_notes', type='value', value='#D3D3D3'), source_notes_border_lr_style=OptionsInfo(scss=True, category='source_notes', type='value', value='none'), source_notes_border_lr_width=OptionsInfo(scss=True, category='source_notes', type='px', value='2px'), source_notes_border_lr_color=OptionsInfo(scss=True, category='source_notes', type='value', value='#D3D3D3'), source_notes_multiline=OptionsInfo(scss=False, category='source_notes', type='boolean', value=True), source_notes_sep=OptionsInfo(scss=False, category='source_notes', type='value', value=' '), row_striping_background_color=OptionsInfo(scss=True, category='row', type='value', value='rgba(128,128,128,0.05)'), row_striping_include_stub=OptionsInfo(scss=False, category='row', type='boolean', value=False), row_striping_include_table_body=OptionsInfo(scss=False, category='row', type='boolean', value=False), container_width=OptionsInfo(scss=False, category='container', type='px', value='auto'), container_height=OptionsInfo(scss=False, category='container', type='px', value='auto'), container_padding_x=OptionsInfo(scss=False, category='container', type='px', value='0px'), container_padding_y=OptionsInfo(scss=False, category='container', type='px', value='10px'), container_overflow_x=OptionsInfo(scss=False, category='container', type='overflow', value='auto'), container_overflow_y=OptionsInfo(scss=False, category='container', type='overflow', value='auto'), quarto_disable_processing=OptionsInfo(scss=False, category='quarto', type='logical', value=False), quarto_use_bootstrap=OptionsInfo(scss=False, category='quarto', type='logical', value=False)), _has_built=False)"
      ]
     },
     "execution_count": 101,
     "metadata": {},
     "output_type": "execute_result"
    }
   ],
   "source": [
    "percentiles = np.arange(5, 96, 5)\n",
    "\n",
    "percentile_values = np.percentile(alpha_spend.select('spend').collect(), percentiles)\n",
    "\n",
    "percentile_df = pl.DataFrame({'Percentile Level': percentiles,\n",
    "                              'Percentile': percentile_values})\n",
    "\n",
    "(\n",
    "    GT(percentile_df, rowname_col='Percentile Level')\n",
    "    .tab_header(title='Alpha Spend Percentile')\n",
    "    .tab_stubhead(label=\"Percentile Level\")\n",
    "    .fmt_number()\n",
    "    .data_color(\n",
    "        domain=[0, 40],\n",
    "        palette=['white', 'rebeccapurple']\n",
    "    )  \n",
    ")"
   ]
  },
  {
   "cell_type": "code",
   "execution_count": 106,
   "metadata": {},
   "outputs": [
    {
     "data": {
      "application/vnd.vegalite.v5+json": {
       "$schema": "https://vega.github.io/schema/vega-lite/v5.20.1.json",
       "config": {
        "view": {
         "continuousHeight": 300,
         "continuousWidth": 300
        }
       },
       "data": {
        "name": "data-9720b59e6c29910fed7cccfc0c952e2e"
       },
       "datasets": {
        "data-9720b59e6c29910fed7cccfc0c952e2e": [
         {
          "% of Total": 0.0899390243902439,
          "Frequency": 236,
          "cut": "12 - 14"
         },
         {
          "% of Total": 0.006859756097560976,
          "Frequency": 18,
          "cut": "36 - 38"
         },
         {
          "% of Total": 0.010289634146341464,
          "Frequency": 27,
          "cut": "30 - 32"
         },
         {
          "% of Total": 0.056021341463414635,
          "Frequency": 147,
          "cut": "6 - 8"
         },
         {
          "% of Total": 0.053734756097560975,
          "Frequency": 141,
          "cut": "18 - 20"
         },
         {
          "% of Total": 0.03125,
          "Frequency": 82,
          "cut": "24 - 26"
         },
         {
          "% of Total": 0.027439024390243903,
          "Frequency": 72,
          "cut": "20 - 22"
         },
         {
          "% of Total": 0.018673780487804877,
          "Frequency": 49,
          "cut": "32 - 34"
         },
         {
          "% of Total": 0.01829268292682927,
          "Frequency": 48,
          "cut": "26 - 28"
         },
         {
          "% of Total": 0.07583841463414634,
          "Frequency": 199,
          "cut": "14 - 16"
         },
         {
          "% of Total": 0.13833841463414634,
          "Frequency": 363,
          "cut": "8 - 10"
         },
         {
          "% of Total": 0.023246951219512195,
          "Frequency": 61,
          "cut": "2 - 4"
         },
         {
          "% of Total": 0.008765243902439025,
          "Frequency": 23,
          "cut": "38 - 40"
         },
         {
          "% of Total": 0.03353658536585366,
          "Frequency": 88,
          "cut": "16 - 18"
         },
         {
          "% of Total": 0.011432926829268292,
          "Frequency": 30,
          "cut": "34 - 36"
         },
         {
          "% of Total": 0.01638719512195122,
          "Frequency": 43,
          "cut": "28 - 30"
         },
         {
          "% of Total": 0.058689024390243906,
          "Frequency": 154,
          "cut": "10 - 12"
         },
         {
          "% of Total": 0.2416158536585366,
          "Frequency": 634,
          "cut": "4 - 6"
         },
         {
          "% of Total": 0.040777439024390245,
          "Frequency": 107,
          "cut": "40 - ∞"
         },
         {
          "% of Total": 0.038871951219512195,
          "Frequency": 102,
          "cut": "22 - 24"
         }
        ]
       },
       "encoding": {
        "x": {
         "axis": {
          "labelAngle": 0,
          "title": "Category Spend ($)"
         },
         "field": "cut",
         "sort": [
          "0 - 2",
          "2 - 4",
          "4 - 6",
          "6 - 8",
          "8 - 10",
          "10 - 12",
          "12 - 14",
          "14 - 16",
          "16 - 18",
          "18 - 20",
          "20 - 22",
          "22 - 24",
          "24 - 26",
          "26 - 28",
          "28 - 30",
          "30 - 32",
          "32 - 34",
          "34 - 36",
          "36 - 38",
          "38 - 40",
          "40 - ∞"
         ],
         "type": "ordinal"
        },
        "y": {
         "axis": {
          "format": ".0%",
          "title": "% of Households"
         },
         "field": "% of Total",
         "type": "quantitative"
        }
       },
       "height": 250,
       "mark": {
        "type": "bar"
       },
       "title": {
        "subtitle": "Distribution of category spend across category buyers",
        "text": "Category Spend Distribution (%)"
       },
       "width": 650
      },
      "text/plain": [
       "<VegaLite 5 object>\n",
       "\n",
       "If you see this message, it means the renderer has not been properly enabled\n",
       "for the frontend that you are using. For more information, see\n",
       "https://altair-viz.github.io/user_guide/display_frontends.html#troubleshooting\n"
      ]
     },
     "metadata": {},
     "output_type": "display_data"
    }
   ],
   "source": [
    "labels = [f\"{lb} - {lb + 2 if lb != 40 else '∞'}\" for lb in range(0, 41, 2)]\n",
    "\n",
    "alpha_spend_dist = alpha_spend.with_columns(\n",
    "    pl.col('spend').cut(np.arange(0,40,2), labels=labels).alias('cut')   \n",
    ").group_by('cut').agg(\n",
    "    pl.col('cut').count().alias('Frequency')\n",
    ").with_columns(\n",
    "    (pl.col('Frequency') / pl.col('Frequency').sum()).alias('% of Total')\n",
    ").collect()\n",
    "\n",
    "chart = alt.Chart(alpha_spend_dist).mark_bar().encode(\n",
    "    x=alt.X(\"cut:O\", \n",
    "            axis=alt.Axis(labelAngle=0, title=\"Category Spend ($)\"), sort=labels),\n",
    "    y=alt.Y(\"% of Total:Q\",\n",
    "            axis=alt.Axis(format=\".0%\", title=\"% of Households\")), \n",
    ").properties(\n",
    "    width=650,\n",
    "    height=250,\n",
    "    title={\n",
    "        'text': 'Category Spend Distribution (%)',\n",
    "        'subtitle': 'Distribution of category spend across category buyers'\n",
    "    }\n",
    ").show()"
   ]
  }
 ],
 "metadata": {
  "colab": {
   "collapsed_sections": [
    "Gxxt_AWN9igL",
    "R7dq85pW9WSz"
   ],
   "provenance": []
  },
  "kernelspec": {
   "display_name": "Main (venv)",
   "language": "python",
   "name": ".venv"
  },
  "language_info": {
   "codemirror_mode": {
    "name": "ipython",
    "version": 3
   },
   "file_extension": ".py",
   "mimetype": "text/x-python",
   "name": "python",
   "nbconvert_exporter": "python",
   "pygments_lexer": "ipython3",
   "version": "3.13.0"
  }
 },
 "nbformat": 4,
 "nbformat_minor": 0
}
