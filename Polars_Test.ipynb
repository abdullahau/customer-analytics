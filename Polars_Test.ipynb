{
 "cells": [
  {
   "cell_type": "markdown",
   "metadata": {
    "id": "J0Nrn2ZX9UOK"
   },
   "source": [
    "### Imports"
   ]
  },
  {
   "cell_type": "markdown",
   "metadata": {
    "id": "Gxxt_AWN9igL"
   },
   "source": [
    "#### Import Packages"
   ]
  },
  {
   "cell_type": "code",
   "execution_count": 51,
   "metadata": {
    "id": "Bsw2hr5T8cu3"
   },
   "outputs": [],
   "source": [
    "import polars as pl\n",
    "import altair as alt\n",
    "import numpy as np\n",
    "import great_tables as GT"
   ]
  },
  {
   "cell_type": "code",
   "execution_count": 52,
   "metadata": {
    "colab": {
     "base_uri": "https://localhost:8080/"
    },
    "id": "tvesPq_s-au2",
    "outputId": "bffa241d-d5b3-4420-a214-ba2fd091f167"
   },
   "outputs": [
    {
     "name": "stdout",
     "output_type": "stream",
     "text": [
      "/usr/local/lib/python3.10/dist-packages/altair\n",
      "5.4.1\n"
     ]
    }
   ],
   "source": [
    "import os\n",
    "print(os.path.dirname(alt.__file__))\n",
    "print(alt.__version__)"
   ]
  },
  {
   "cell_type": "markdown",
   "metadata": {
    "id": "R7dq85pW9WSz"
   },
   "source": [
    "#### Import Panel Data"
   ]
  },
  {
   "cell_type": "code",
   "execution_count": 53,
   "metadata": {
    "id": "byUO8v599TuY"
   },
   "outputs": [],
   "source": [
    "grocery_df = pl.scan_csv(source=\"edible_grocery.csv\",\n",
    "                         has_header=True,\n",
    "                         separator=\",\",\n",
    "                         schema_overrides={'panel_id': pl.Int32,\n",
    "                                           'trans_id': pl.Int32,\n",
    "                                           'week': pl.Int16,\n",
    "                                           'sku_id': pl.Categorical,\n",
    "                                           'units': pl.Int16,\n",
    "                                           'price': pl.Float32,\n",
    "                                           'brand': pl.Categorical})"
   ]
  },
  {
   "cell_type": "code",
   "execution_count": 54,
   "metadata": {
    "id": "ECLFaaIe95pK"
   },
   "outputs": [],
   "source": [
    "sku_df = pl.scan_csv(source=\"data/panel-datasets/sku_weight.csv\",\n",
    "                         has_header=True,\n",
    "                         separator=\",\",\n",
    "                         schema_overrides={'sku_id': pl.Int32,\n",
    "                                           'weight': pl.Int16})"
   ]
  },
  {
   "cell_type": "code",
   "execution_count": 55,
   "metadata": {
    "id": "y-r0cpsA97dT"
   },
   "outputs": [],
   "source": [
    "kiwi_df = pl.scan_csv(source=\"data/panel-datasets/kiwibubbles_trans.csv\",\n",
    "                      has_header=True,\n",
    "                      separator=\",\",\n",
    "                      schema_overrides={'ID': pl.Int16,\n",
    "                                        'Market': pl.Categorical,\n",
    "                                        'Day': pl.Int16,\n",
    "                                        'Units': pl.Int16})"
   ]
  },
  {
   "cell_type": "markdown",
   "metadata": {
    "id": "nAVjw68199_0"
   },
   "source": [
    "### Preliminaries"
   ]
  },
  {
   "cell_type": "markdown",
   "metadata": {
    "id": "JTV6Gf6T-FDX"
   },
   "source": [
    "#### Weekly Sales Pattern"
   ]
  },
  {
   "cell_type": "code",
   "execution_count": 56,
   "metadata": {
    "colab": {
     "base_uri": "https://localhost:8080/",
     "height": 443
    },
    "id": "oj7gqXHK-HLj",
    "outputId": "980c8b84-adfd-4564-e5a2-f921f67a8cf5"
   },
   "outputs": [
    {
     "data": {
      "text/html": [
       "<div><style>\n",
       ".dataframe > thead > tr,\n",
       ".dataframe > tbody > tr {\n",
       "  text-align: right;\n",
       "  white-space: pre-wrap;\n",
       "}\n",
       "</style>\n",
       "<small>shape: (104, 7)</small><table border=\"1\" class=\"dataframe\"><thead><tr><th>week</th><th>Alpha</th><th>Bravo</th><th>Charlie</th><th>Delta</th><th>Other</th><th>Total</th></tr><tr><td>i16</td><td>f64</td><td>f64</td><td>f64</td><td>f64</td><td>f64</td><td>f64</td></tr></thead><tbody><tr><td>1</td><td>331.459999</td><td>247.780003</td><td>51.79</td><td>17.64</td><td>18.75</td><td>668.420002</td></tr><tr><td>2</td><td>567.249997</td><td>398.640007</td><td>45.43</td><td>34.19</td><td>23.23</td><td>1070.740004</td></tr><tr><td>3</td><td>497.969999</td><td>639.980008</td><td>51.11</td><td>39.39</td><td>14.55</td><td>1246.000006</td></tr><tr><td>4</td><td>1389.960004</td><td>472.500004</td><td>51.87</td><td>85.04</td><td>39.779999</td><td>2043.150007</td></tr><tr><td>5</td><td>358.239999</td><td>252.540003</td><td>40.21</td><td>69.54</td><td>45.93</td><td>771.460002</td></tr><tr><td>&hellip;</td><td>&hellip;</td><td>&hellip;</td><td>&hellip;</td><td>&hellip;</td><td>&hellip;</td><td>&hellip;</td></tr><tr><td>100</td><td>692.480006</td><td>420.479996</td><td>69.600001</td><td>54.590001</td><td>47.97</td><td>1385.120004</td></tr><tr><td>101</td><td>265.770002</td><td>264.659999</td><td>64.030001</td><td>35.05</td><td>26.88</td><td>757.390003</td></tr><tr><td>102</td><td>379.610005</td><td>456.78999</td><td>43.5</td><td>20.4</td><td>43.61</td><td>1045.909995</td></tr><tr><td>103</td><td>532.500005</td><td>440.999996</td><td>76.400001</td><td>40.44</td><td>45.55</td><td>1238.890002</td></tr><tr><td>104</td><td>394.890003</td><td>233.189998</td><td>53.18</td><td>68.260001</td><td>36.679999</td><td>890.200002</td></tr></tbody></table></div>"
      ],
      "text/plain": [
       "shape: (104, 7)\n",
       "┌──────┬─────────────┬────────────┬───────────┬───────────┬───────────┬─────────────┐\n",
       "│ week ┆ Alpha       ┆ Bravo      ┆ Charlie   ┆ Delta     ┆ Other     ┆ Total       │\n",
       "│ ---  ┆ ---         ┆ ---        ┆ ---       ┆ ---       ┆ ---       ┆ ---         │\n",
       "│ i16  ┆ f64         ┆ f64        ┆ f64       ┆ f64       ┆ f64       ┆ f64         │\n",
       "╞══════╪═════════════╪════════════╪═══════════╪═══════════╪═══════════╪═════════════╡\n",
       "│ 1    ┆ 331.459999  ┆ 247.780003 ┆ 51.79     ┆ 17.64     ┆ 18.75     ┆ 668.420002  │\n",
       "│ 2    ┆ 567.249997  ┆ 398.640007 ┆ 45.43     ┆ 34.19     ┆ 23.23     ┆ 1070.740004 │\n",
       "│ 3    ┆ 497.969999  ┆ 639.980008 ┆ 51.11     ┆ 39.39     ┆ 14.55     ┆ 1246.000006 │\n",
       "│ 4    ┆ 1389.960004 ┆ 472.500004 ┆ 51.87     ┆ 85.04     ┆ 39.779999 ┆ 2043.150007 │\n",
       "│ 5    ┆ 358.239999  ┆ 252.540003 ┆ 40.21     ┆ 69.54     ┆ 45.93     ┆ 771.460002  │\n",
       "│ …    ┆ …           ┆ …          ┆ …         ┆ …         ┆ …         ┆ …           │\n",
       "│ 100  ┆ 692.480006  ┆ 420.479996 ┆ 69.600001 ┆ 54.590001 ┆ 47.97     ┆ 1385.120004 │\n",
       "│ 101  ┆ 265.770002  ┆ 264.659999 ┆ 64.030001 ┆ 35.05     ┆ 26.88     ┆ 757.390003  │\n",
       "│ 102  ┆ 379.610005  ┆ 456.78999  ┆ 43.5      ┆ 20.4      ┆ 43.61     ┆ 1045.909995 │\n",
       "│ 103  ┆ 532.500005  ┆ 440.999996 ┆ 76.400001 ┆ 40.44     ┆ 45.55     ┆ 1238.890002 │\n",
       "│ 104  ┆ 394.890003  ┆ 233.189998 ┆ 53.18     ┆ 68.260001 ┆ 36.679999 ┆ 890.200002  │\n",
       "└──────┴─────────────┴────────────┴───────────┴───────────┴───────────┴─────────────┘"
      ]
     },
     "execution_count": 56,
     "metadata": {},
     "output_type": "execute_result"
    }
   ],
   "source": [
    "# Create a new column 'spend' - units x price = spend\n",
    "grocery_df = grocery_df.with_columns(\n",
    "    ((pl.col('units') * pl.col('price')).cast(pl.Float64)).alias('spend')\n",
    ")\n",
    "\n",
    "# Group_by LazyFrame\n",
    "weekly_sales = (\n",
    "    grocery_df\n",
    "    .group_by([\"week\", \"brand\"])\n",
    "    .agg(\n",
    "        pl.col(\"spend\").sum().alias('Total Spend')\n",
    "    )\n",
    "    .sort(\"week\")\n",
    ")\n",
    "\n",
    "pivot_result = weekly_sales.collect().pivot(\n",
    "    on=\"brand\",\n",
    "    index=\"week\",\n",
    "    values=\"Total Spend\",\n",
    "    sort_columns=True,\n",
    ").sort(\"week\").with_columns(\n",
    "    pl.sum_horizontal(pl.all()).alias(\"Total\") # Row total\n",
    ")\n",
    "\n",
    "pivot_result"
   ]
  },
  {
   "cell_type": "code",
   "execution_count": 57,
   "metadata": {
    "colab": {
     "base_uri": "https://localhost:8080/",
     "height": 368
    },
    "id": "5j5LfvG--J-d",
    "outputId": "e6f7c4b8-084d-4e20-880d-78f3b46c7554"
   },
   "outputs": [
    {
     "data": {
      "text/html": [
       "\n",
       "<style>\n",
       "  #altair-viz-ea808f095b834b31a3b52fb60ce3280f.vega-embed {\n",
       "    width: 100%;\n",
       "    display: flex;\n",
       "  }\n",
       "\n",
       "  #altair-viz-ea808f095b834b31a3b52fb60ce3280f.vega-embed details,\n",
       "  #altair-viz-ea808f095b834b31a3b52fb60ce3280f.vega-embed details summary {\n",
       "    position: relative;\n",
       "  }\n",
       "</style>\n",
       "<div id=\"altair-viz-ea808f095b834b31a3b52fb60ce3280f\"></div>\n",
       "<script type=\"text/javascript\">\n",
       "  var VEGA_DEBUG = (typeof VEGA_DEBUG == \"undefined\") ? {} : VEGA_DEBUG;\n",
       "  (function(spec, embedOpt){\n",
       "    let outputDiv = document.currentScript.previousElementSibling;\n",
       "    if (outputDiv.id !== \"altair-viz-ea808f095b834b31a3b52fb60ce3280f\") {\n",
       "      outputDiv = document.getElementById(\"altair-viz-ea808f095b834b31a3b52fb60ce3280f\");\n",
       "    }\n",
       "    const paths = {\n",
       "      \"vega\": \"https://cdn.jsdelivr.net/npm/vega@5?noext\",\n",
       "      \"vega-lib\": \"https://cdn.jsdelivr.net/npm/vega-lib?noext\",\n",
       "      \"vega-lite\": \"https://cdn.jsdelivr.net/npm/vega-lite@5.20.1?noext\",\n",
       "      \"vega-embed\": \"https://cdn.jsdelivr.net/npm/vega-embed@6?noext\",\n",
       "    };\n",
       "\n",
       "    function maybeLoadScript(lib, version) {\n",
       "      var key = `${lib.replace(\"-\", \"\")}_version`;\n",
       "      return (VEGA_DEBUG[key] == version) ?\n",
       "        Promise.resolve(paths[lib]) :\n",
       "        new Promise(function(resolve, reject) {\n",
       "          var s = document.createElement('script');\n",
       "          document.getElementsByTagName(\"head\")[0].appendChild(s);\n",
       "          s.async = true;\n",
       "          s.onload = () => {\n",
       "            VEGA_DEBUG[key] = version;\n",
       "            return resolve(paths[lib]);\n",
       "          };\n",
       "          s.onerror = () => reject(`Error loading script: ${paths[lib]}`);\n",
       "          s.src = paths[lib];\n",
       "        });\n",
       "    }\n",
       "\n",
       "    function showError(err) {\n",
       "      outputDiv.innerHTML = `<div class=\"error\" style=\"color:red;\">${err}</div>`;\n",
       "      throw err;\n",
       "    }\n",
       "\n",
       "    function displayChart(vegaEmbed) {\n",
       "      vegaEmbed(outputDiv, spec, embedOpt)\n",
       "        .catch(err => showError(`Javascript Error: ${err.message}<br>This usually means there's a typo in your chart specification. See the javascript console for the full traceback.`));\n",
       "    }\n",
       "\n",
       "    if(typeof define === \"function\" && define.amd) {\n",
       "      requirejs.config({paths});\n",
       "      require([\"vega-embed\"], displayChart, err => showError(`Error loading script: ${err.message}`));\n",
       "    } else {\n",
       "      maybeLoadScript(\"vega\", \"5\")\n",
       "        .then(() => maybeLoadScript(\"vega-lite\", \"5.20.1\"))\n",
       "        .then(() => maybeLoadScript(\"vega-embed\", \"6\"))\n",
       "        .catch(showError)\n",
       "        .then(() => displayChart(vegaEmbed));\n",
       "    }\n",
       "  })({\"config\": {\"view\": {\"continuousWidth\": 300, \"continuousHeight\": 300}}, \"data\": {\"name\": \"data-5159a8ce9aef4c74bfbf2dd2f613ca54\"}, \"mark\": {\"type\": \"line\"}, \"encoding\": {\"x\": {\"axis\": {\"labelExpr\": \"datum.value\", \"title\": \"Week\", \"values\": [0.0, 13.0, 26.0, 39.0, 52.0, 65.0, 78.0, 91.0, 104.0]}, \"field\": \"week\", \"type\": \"quantitative\"}, \"y\": {\"field\": \"Alpha\", \"title\": \"Spend ($)\", \"type\": \"quantitative\"}}, \"height\": 300, \"width\": 800, \"$schema\": \"https://vega.github.io/schema/vega-lite/v5.20.1.json\", \"datasets\": {\"data-5159a8ce9aef4c74bfbf2dd2f613ca54\": [{\"week\": 1, \"Alpha\": 331.4599986076355, \"Bravo\": 247.78000330924988, \"Charlie\": 51.78999984264374, \"Delta\": 17.640000104904175, \"Other\": 18.74999976158142, \"Total\": 668.4200016260147}, {\"week\": 2, \"Alpha\": 567.2499973773956, \"Bravo\": 398.6400067806244, \"Charlie\": 45.42999982833862, \"Delta\": 34.19000005722046, \"Other\": 23.229999542236328, \"Total\": 1070.7400035858154}, {\"week\": 3, \"Alpha\": 497.96999871730804, \"Bravo\": 639.9800078868866, \"Charlie\": 51.10999953746796, \"Delta\": 39.389999866485596, \"Other\": 14.549999952316284, \"Total\": 1246.0000059604645}, {\"week\": 4, \"Alpha\": 1389.9600036144257, \"Bravo\": 472.5000035762787, \"Charlie\": 51.86999976634979, \"Delta\": 85.04000043869019, \"Other\": 39.77999949455261, \"Total\": 2043.150006890297}, {\"week\": 5, \"Alpha\": 358.2399991750717, \"Bravo\": 252.5400027036667, \"Charlie\": 40.21000027656555, \"Delta\": 69.54000043869019, \"Other\": 45.929999589920044, \"Total\": 771.4600021839142}, {\"week\": 6, \"Alpha\": 364.059996843338, \"Bravo\": 239.8100037574768, \"Charlie\": 87.49000084400177, \"Delta\": 43.90999984741211, \"Other\": 32.609999656677246, \"Total\": 773.880000948906}, {\"week\": 7, \"Alpha\": 412.3399988412857, \"Bravo\": 271.98000395298004, \"Charlie\": 73.88000023365021, \"Delta\": 38.47000026702881, \"Other\": 30.699999570846558, \"Total\": 834.3700028657913}, {\"week\": 8, \"Alpha\": 307.620001912117, \"Bravo\": 295.71000468730927, \"Charlie\": 140.39000034332275, \"Delta\": 16.140000104904175, \"Other\": 17.049999713897705, \"Total\": 784.9100067615509}, {\"week\": 9, \"Alpha\": 290.58000004291534, \"Bravo\": 384.3699994087219, \"Charlie\": 58.27000021934509, \"Delta\": 53.45999836921692, \"Other\": 21.729999780654907, \"Total\": 817.4099978208542}, {\"week\": 10, \"Alpha\": 442.64000141620636, \"Bravo\": 454.2200051546097, \"Charlie\": 42.71000015735626, \"Delta\": 29.22000002861023, \"Other\": 28.299999952316284, \"Total\": 1007.0900067090988}, {\"week\": 11, \"Alpha\": 258.62000012397766, \"Bravo\": 695.2700042724609, \"Charlie\": 43.6899995803833, \"Delta\": 13.650000095367432, \"Other\": 43.47000026702881, \"Total\": 1065.7000043392181}, {\"week\": 12, \"Alpha\": 912.5899906158447, \"Bravo\": 492.8800095319748, \"Charlie\": 83.79000055789948, \"Delta\": 22.819999933242798, \"Other\": 28.709999799728394, \"Total\": 1552.7900004386902}, {\"week\": 13, \"Alpha\": 443.6500049829483, \"Bravo\": 501.1300083398819, \"Charlie\": 91.08000063896179, \"Delta\": 28.37999987602234, \"Other\": 45.459999561309814, \"Total\": 1122.7000133991241}, {\"week\": 14, \"Alpha\": 853.8300088644028, \"Bravo\": 385.2300044298172, \"Charlie\": 97.97000074386597, \"Delta\": 180.9999876022339, \"Other\": 39.730000495910645, \"Total\": 1571.7600021362305}, {\"week\": 15, \"Alpha\": 446.1500027179718, \"Bravo\": 804.3600097894669, \"Charlie\": 79.68000078201294, \"Delta\": 60.89999866485596, \"Other\": 29.309999704360962, \"Total\": 1435.4000116586685}, {\"week\": 16, \"Alpha\": 579.4600045681, \"Bravo\": 365.98000621795654, \"Charlie\": 64.5100005865097, \"Delta\": 19.699999570846558, \"Other\": 17.350000143051147, \"Total\": 1063.000011086464}, {\"week\": 17, \"Alpha\": 410.9300045967102, \"Bravo\": 458.490008354187, \"Charlie\": 187.85000562667847, \"Delta\": 18.139999628067017, \"Other\": 34.269999742507935, \"Total\": 1126.6800179481506}, {\"week\": 18, \"Alpha\": 703.3100029230118, \"Bravo\": 475.38000535964966, \"Charlie\": 169.39000129699707, \"Delta\": 155.55999660491943, \"Other\": 21.02999997138977, \"Total\": 1542.6700061559677}, {\"week\": 19, \"Alpha\": 607.4000059366226, \"Bravo\": 455.2800050973892, \"Charlie\": 148.6800013780594, \"Delta\": 172.86999797821045, \"Other\": 25.609999895095825, \"Total\": 1428.8400102853775}, {\"week\": 20, \"Alpha\": 801.2600085735321, \"Bravo\": 929.7400115728378, \"Charlie\": 218.0000010728836, \"Delta\": 65.31000018119812, \"Other\": 22.820000171661377, \"Total\": 2057.130021572113}, {\"week\": 21, \"Alpha\": 903.2700114250183, \"Bravo\": 1675.4100246429443, \"Charlie\": 93.54000055789948, \"Delta\": 92.56999945640564, \"Other\": 17.829999923706055, \"Total\": 2803.620036005974}, {\"week\": 22, \"Alpha\": 672.10001039505, \"Bravo\": 557.8800053596497, \"Charlie\": 72.09000039100647, \"Delta\": 32.11999988555908, \"Other\": 36.59000015258789, \"Total\": 1392.7800161838531}, {\"week\": 23, \"Alpha\": 620.7200074195862, \"Bravo\": 508.03000593185425, \"Charlie\": 107.11999988555908, \"Delta\": 57.52999949455261, \"Other\": 32.08999991416931, \"Total\": 1348.4900126457214}, {\"week\": 24, \"Alpha\": 702.7500092983246, \"Bravo\": 508.14000856876373, \"Charlie\": 197.23000133037567, \"Delta\": 170.28999757766724, \"Other\": 26.66000008583069, \"Total\": 1629.070016860962}, {\"week\": 25, \"Alpha\": 509.1300070285797, \"Bravo\": 635.4300094842911, \"Charlie\": 121.07000076770782, \"Delta\": 40.080000162124634, \"Other\": 26.420000076293945, \"Total\": 1357.1300175189972}, {\"week\": 26, \"Alpha\": 1977.6600477695465, \"Bravo\": 1674.2300254106522, \"Charlie\": 74.21000039577484, \"Delta\": 78.34999895095825, \"Other\": 38.6800000667572, \"Total\": 3869.130072593689}, {\"week\": 27, \"Alpha\": 1180.6100231409073, \"Bravo\": 592.8100076913834, \"Charlie\": 141.66000068187714, \"Delta\": 111.73999786376953, \"Other\": 19.430000066757202, \"Total\": 2073.2500294446945}, {\"week\": 28, \"Alpha\": 486.72000646591187, \"Bravo\": 697.8100134134293, \"Charlie\": 144.36000001430511, \"Delta\": 22.509999752044678, \"Other\": 29.09999990463257, \"Total\": 1408.5000195503235}, {\"week\": 29, \"Alpha\": 507.5600049495697, \"Bravo\": 474.2400059700012, \"Charlie\": 110.08000016212463, \"Delta\": 29.509999752044678, \"Other\": 28.369999647140503, \"Total\": 1178.7600104808807}, {\"week\": 30, \"Alpha\": 596.3200063705444, \"Bravo\": 411.2600003480911, \"Charlie\": 146.66999971866608, \"Delta\": 79.65999984741211, \"Other\": 35.96000003814697, \"Total\": 1299.8700063228607}, {\"week\": 31, \"Alpha\": 604.0000065565109, \"Bravo\": 751.1599987745285, \"Charlie\": 140.14000117778778, \"Delta\": 134.669997215271, \"Other\": 29.709999799728394, \"Total\": 1690.6800035238266}, {\"week\": 32, \"Alpha\": 611.1400043964386, \"Bravo\": 1065.2099907398224, \"Charlie\": 131.55000019073486, \"Delta\": 60.920000314712524, \"Other\": 35.37999987602234, \"Total\": 1936.1999955177307}, {\"week\": 33, \"Alpha\": 614.9400051832199, \"Bravo\": 418.6600013971329, \"Charlie\": 88.31000077724457, \"Delta\": 53.24000000953674, \"Other\": 49.97999954223633, \"Total\": 1258.1300069093704}, {\"week\": 34, \"Alpha\": 1535.920031428337, \"Bravo\": 410.8000007867813, \"Charlie\": 57.09000098705292, \"Delta\": 62.89999973773956, \"Other\": 49.019999742507935, \"Total\": 2149.730032682419}, {\"week\": 35, \"Alpha\": 1571.5100203752518, \"Bravo\": 624.1900020837784, \"Charlie\": 61.78000056743622, \"Delta\": 31.50000023841858, \"Other\": 40.22999978065491, \"Total\": 2364.21002304554}, {\"week\": 36, \"Alpha\": 587.4200024604797, \"Bravo\": 389.60999953746796, \"Charlie\": 160.9400019645691, \"Delta\": 44.070000886917114, \"Other\": 28.649999856948853, \"Total\": 1246.6900047063828}, {\"week\": 37, \"Alpha\": 426.8699998855591, \"Bravo\": 333.6600012779236, \"Charlie\": 114.72000110149384, \"Delta\": 21.540000438690186, \"Other\": 19.459999799728394, \"Total\": 953.2500025033951}, {\"week\": 38, \"Alpha\": 383.7999994754791, \"Bravo\": 371.7399994134903, \"Charlie\": 73.85000050067902, \"Delta\": 61.030001163482666, \"Other\": 13.15999984741211, \"Total\": 941.5800004005432}, {\"week\": 39, \"Alpha\": 465.7200016975403, \"Bravo\": 283.4500015974045, \"Charlie\": 40.570000529289246, \"Delta\": 169.71000385284424, \"Other\": 13.27999997138977, \"Total\": 1011.730007648468}, {\"week\": 40, \"Alpha\": 447.03000152111053, \"Bravo\": 440.0200049877167, \"Charlie\": 84.47000062465668, \"Delta\": 67.67000114917755, \"Other\": 18.100000143051147, \"Total\": 1097.2900084257126}, {\"week\": 41, \"Alpha\": 421.7700021266937, \"Bravo\": 477.62000012397766, \"Charlie\": 171.37000179290771, \"Delta\": 34.600000619888306, \"Other\": 25.799999952316284, \"Total\": 1172.1600046157837}, {\"week\": 42, \"Alpha\": 364.6600021123886, \"Bravo\": 647.060005903244, \"Charlie\": 86.69000053405762, \"Delta\": 54.940000772476196, \"Other\": 23.84999990463257, \"Total\": 1219.200009226799}, {\"week\": 43, \"Alpha\": 389.4200018644333, \"Bravo\": 714.1899987459183, \"Charlie\": 52.07000029087067, \"Delta\": 61.42000079154968, \"Other\": 29.119999885559082, \"Total\": 1289.220001578331}, {\"week\": 44, \"Alpha\": 408.3300014734268, \"Bravo\": 1532.9299746751785, \"Charlie\": 55.55000054836273, \"Delta\": 24.230000495910645, \"Other\": 42.47999978065491, \"Total\": 2107.5199769735336}, {\"week\": 45, \"Alpha\": 311.07999992370605, \"Bravo\": 352.97000217437744, \"Charlie\": 52.30000054836273, \"Delta\": 40.290000677108765, \"Other\": 30.84999990463257, \"Total\": 832.4900032281876}, {\"week\": 46, \"Alpha\": 575.4000034332275, \"Bravo\": 447.6200009584427, \"Charlie\": 92.84000098705292, \"Delta\": 138.490003824234, \"Other\": 21.829999685287476, \"Total\": 1322.1800088882446}, {\"week\": 47, \"Alpha\": 1188.4600063562393, \"Bravo\": 234.73000144958496, \"Charlie\": 65.52000069618225, \"Delta\": 60.11000156402588, \"Other\": 29.230000019073486, \"Total\": 1625.050010085106}, {\"week\": 48, \"Alpha\": 434.8900029659271, \"Bravo\": 261.139998793602, \"Charlie\": 115.79000103473663, \"Delta\": 30.71000075340271, \"Other\": 14.059999942779541, \"Total\": 904.590003490448}, {\"week\": 49, \"Alpha\": 365.03000128269196, \"Bravo\": 505.4099955558777, \"Charlie\": 130.66000080108643, \"Delta\": 54.540000915527344, \"Other\": 51.079999685287476, \"Total\": 1155.7199982404709}, {\"week\": 50, \"Alpha\": 1164.7100034952164, \"Bravo\": 301.86000084877014, \"Charlie\": 110.85000145435333, \"Delta\": 42.17000126838684, \"Other\": 32.43000030517578, \"Total\": 1702.0200073719025}, {\"week\": 51, \"Alpha\": 773.2100023031235, \"Bravo\": 833.8700000047684, \"Charlie\": 149.5800006389618, \"Delta\": 72.78000068664551, \"Other\": 39.76000118255615, \"Total\": 1920.2000048160553}, {\"week\": 52, \"Alpha\": 789.4700044393539, \"Bravo\": 248.94000136852264, \"Charlie\": 48.410000681877136, \"Delta\": 70.29000115394592, \"Other\": 26.250000476837158, \"Total\": 1235.3600081205368}, {\"week\": 53, \"Alpha\": 386.7500021457672, \"Bravo\": 335.0300018787384, \"Charlie\": 68.46000075340271, \"Delta\": 47.06000089645386, \"Other\": 35.60999917984009, \"Total\": 925.9100048542023}, {\"week\": 54, \"Alpha\": 586.9400025606155, \"Bravo\": 343.80000019073486, \"Charlie\": 66.44000136852264, \"Delta\": 49.15000033378601, \"Other\": 23.53999900817871, \"Total\": 1123.8700034618378}, {\"week\": 55, \"Alpha\": 1045.8400052785873, \"Bravo\": 359.2599971294403, \"Charlie\": 74.16000092029572, \"Delta\": 30.420000314712524, \"Other\": 46.379998445510864, \"Total\": 1611.0600020885468}, {\"week\": 56, \"Alpha\": 939.5100003480911, \"Bravo\": 503.6199997663498, \"Charlie\": 89.1200008392334, \"Delta\": 42.87000036239624, \"Other\": 32.50999903678894, \"Total\": 1663.6300003528595}, {\"week\": 57, \"Alpha\": 1040.8999925851822, \"Bravo\": 661.1299949884415, \"Charlie\": 60.12000107765198, \"Delta\": 56.31999969482422, \"Other\": 41.78999853134155, \"Total\": 1917.2599868774414}, {\"week\": 58, \"Alpha\": 308.99000096321106, \"Bravo\": 264.37999987602234, \"Charlie\": 68.89000022411346, \"Delta\": 33.9099999666214, \"Other\": 53.569998264312744, \"Total\": 787.739999294281}, {\"week\": 59, \"Alpha\": 547.6300007104874, \"Bravo\": 206.17999923229218, \"Charlie\": 63.57000029087067, \"Delta\": 115.91000151634216, \"Other\": 20.199999809265137, \"Total\": 1012.4900015592575}, {\"week\": 60, \"Alpha\": 363.9000024795532, \"Bravo\": 318.5699977874756, \"Charlie\": 68.16000020503998, \"Delta\": 88.85000133514404, \"Other\": 21.140000104904175, \"Total\": 920.620001912117}, {\"week\": 61, \"Alpha\": 476.610004901886, \"Bravo\": 310.31999826431274, \"Charlie\": 55.06000077724457, \"Delta\": 43.919999837875366, \"Other\": 47.679999351501465, \"Total\": 994.5900031328201}, {\"week\": 62, \"Alpha\": 484.7000024318695, \"Bravo\": 314.0199975967407, \"Charlie\": 53.700000166893005, \"Delta\": 60.730000257492065, \"Other\": 43.5, \"Total\": 1018.6500004529953}, {\"week\": 63, \"Alpha\": 359.4300036430359, \"Bravo\": 575.7499986886978, \"Charlie\": 72.14000022411346, \"Delta\": 30.420000076293945, \"Other\": 44.78999948501587, \"Total\": 1145.530002117157}, {\"week\": 64, \"Alpha\": 472.23000276088715, \"Bravo\": 707.9799927473068, \"Charlie\": 113.0900011062622, \"Delta\": 22.75, \"Other\": 30.089999675750732, \"Total\": 1410.139996290207}, {\"week\": 65, \"Alpha\": 665.6600025892258, \"Bravo\": 454.12999975681305, \"Charlie\": 41.37000095844269, \"Delta\": 27.119999885559082, \"Other\": 15.859999895095825, \"Total\": 1269.1400030851364}, {\"week\": 66, \"Alpha\": 413.5799983739853, \"Bravo\": 393.75999999046326, \"Charlie\": 92.39000153541565, \"Delta\": 47.75999999046326, \"Other\": 12.869999885559082, \"Total\": 1026.3599997758865}, {\"week\": 67, \"Alpha\": 364.3900008201599, \"Bravo\": 306.229998588562, \"Charlie\": 67.61000072956085, \"Delta\": 63.31000018119812, \"Other\": 32.709999799728394, \"Total\": 901.2500001192093}, {\"week\": 68, \"Alpha\": 636.0400013923645, \"Bravo\": 516.4500005245209, \"Charlie\": 80.60000026226044, \"Delta\": 66.98999977111816, \"Other\": 26.229999780654907, \"Total\": 1394.3100017309189}, {\"week\": 69, \"Alpha\": 356.25000047683716, \"Bravo\": 950.0200136899948, \"Charlie\": 82.53000152111053, \"Delta\": 35.980000019073486, \"Other\": 22.199999809265137, \"Total\": 1515.9800155162811}, {\"week\": 70, \"Alpha\": 433.24000310897827, \"Bravo\": 373.32999992370605, \"Charlie\": 78.44000029563904, \"Delta\": 80.31999921798706, \"Other\": 43.58999991416931, \"Total\": 1078.9200024604797}, {\"week\": 71, \"Alpha\": 507.0400013923645, \"Bravo\": 483.2299997806549, \"Charlie\": 90.94000172615051, \"Delta\": 80.94999957084656, \"Other\": 52.700000524520874, \"Total\": 1285.8600029945374}, {\"week\": 72, \"Alpha\": 1328.0400084257126, \"Bravo\": 418.29999804496765, \"Charlie\": 58.140000343322754, \"Delta\": 140.02999901771545, \"Other\": 26.630000114440918, \"Total\": 2043.1400059461594}, {\"week\": 73, \"Alpha\": 2070.160023212433, \"Bravo\": 1304.5799791812897, \"Charlie\": 62.190000772476196, \"Delta\": 91.19000220298767, \"Other\": 40.05000042915344, \"Total\": 3641.17000579834}, {\"week\": 74, \"Alpha\": 606.7600026130676, \"Bravo\": 436.169997215271, \"Charlie\": 101.48000085353851, \"Delta\": 36.39999961853027, \"Other\": 26.369999647140503, \"Total\": 1281.179999947548}, {\"week\": 75, \"Alpha\": 629.260003566742, \"Bravo\": 415.1799968481064, \"Charlie\": 95.45000064373016, \"Delta\": 48.09999942779541, \"Other\": 47.140000104904175, \"Total\": 1310.130000591278}, {\"week\": 76, \"Alpha\": 611.8900059461594, \"Bravo\": 471.5399960279465, \"Charlie\": 110.65000069141388, \"Delta\": 93.59999966621399, \"Other\": 59.570000410079956, \"Total\": 1423.2500027418137}, {\"week\": 77, \"Alpha\": 1198.630003809929, \"Bravo\": 584.8999961614609, \"Charlie\": 101.37000107765198, \"Delta\": 97.31000065803528, \"Other\": 16.050000190734863, \"Total\": 2075.260001897812}, {\"week\": 78, \"Alpha\": 2345.440019249916, \"Bravo\": 1157.2999852895737, \"Charlie\": 123.90000081062317, \"Delta\": 21.079999923706055, \"Other\": 18.950000286102295, \"Total\": 3744.6700055599213}, {\"week\": 79, \"Alpha\": 1447.2300218343735, \"Bravo\": 826.669994354248, \"Charlie\": 114.32000124454498, \"Delta\": 39.99999976158142, \"Other\": 37.66000032424927, \"Total\": 2544.880017518997}, {\"week\": 80, \"Alpha\": 531.500003695488, \"Bravo\": 546.2299959659576, \"Charlie\": 104.47000002861023, \"Delta\": 37.790000200271606, \"Other\": 14.15000033378601, \"Total\": 1314.1400002241135}, {\"week\": 81, \"Alpha\": 570.0500017404556, \"Bravo\": 599.6499954462051, \"Charlie\": 91.8500006198883, \"Delta\": 98.37000179290771, \"Other\": 18.630000352859497, \"Total\": 1459.5499999523163}, {\"week\": 82, \"Alpha\": 431.12000119686127, \"Bravo\": 593.8699969053268, \"Charlie\": 102.34000015258789, \"Delta\": 43.46000003814697, \"Other\": 28.980000019073486, \"Total\": 1281.7699983119965}, {\"week\": 83, \"Alpha\": 529.8200017213821, \"Bravo\": 455.3099958896637, \"Charlie\": 87.93000066280365, \"Delta\": 62.05999970436096, \"Other\": 49.02000093460083, \"Total\": 1267.1399989128113}, {\"week\": 84, \"Alpha\": 582.5800020694733, \"Bravo\": 379.28999733924866, \"Charlie\": 100.40000140666962, \"Delta\": 39.08999967575073, \"Other\": 17.440000295639038, \"Total\": 1202.8000007867813}, {\"week\": 85, \"Alpha\": 802.8199973106384, \"Bravo\": 542.0899964570999, \"Charlie\": 140.41000187397003, \"Delta\": 116.44000005722046, \"Other\": 43.260000467300415, \"Total\": 1730.0199961662292}, {\"week\": 86, \"Alpha\": 985.1100113391876, \"Bravo\": 619.7499898672104, \"Charlie\": 80.58000087738037, \"Delta\": 90.54000043869019, \"Other\": 29.50000023841858, \"Total\": 1891.4800027608871}, {\"week\": 87, \"Alpha\": 1304.2600206136703, \"Bravo\": 1420.1199795007706, \"Charlie\": 59.68000137805939, \"Delta\": 16.049999952316284, \"Other\": 21.200000286102295, \"Total\": 2908.310001730919}, {\"week\": 88, \"Alpha\": 991.0699965953827, \"Bravo\": 284.70999550819397, \"Charlie\": 54.880000948905945, \"Delta\": 18.049999952316284, \"Other\": 32.34999990463257, \"Total\": 1469.0599929094315}, {\"week\": 89, \"Alpha\": 309.9800024032593, \"Bravo\": 327.39999771118164, \"Charlie\": 37.570000410079956, \"Delta\": 8.97000002861023, \"Other\": 9.670000076293945, \"Total\": 782.590000629425}, {\"week\": 90, \"Alpha\": 477.56000554561615, \"Bravo\": 334.759997010231, \"Charlie\": 78.90000081062317, \"Delta\": 58.829999923706055, \"Other\": 33.8100004196167, \"Total\": 1073.860003709793}, {\"week\": 91, \"Alpha\": 406.98000288009644, \"Bravo\": 510.3299914598465, \"Charlie\": 61.68000066280365, \"Delta\": 33.99000000953674, \"Other\": 26.72000026702881, \"Total\": 1130.6999952793121}, {\"week\": 92, \"Alpha\": 390.30000352859497, \"Bravo\": 399.289998292923, \"Charlie\": 53.02000093460083, \"Delta\": 67.90000009536743, \"Other\": 31.919999837875366, \"Total\": 1034.4300026893616}, {\"week\": 93, \"Alpha\": 306.74000239372253, \"Bravo\": 241.12999737262726, \"Charlie\": 68.86000096797943, \"Delta\": 64.84000039100647, \"Other\": 69.65000009536743, \"Total\": 844.2200012207031}, {\"week\": 94, \"Alpha\": 376.91000497341156, \"Bravo\": 317.20999681949615, \"Charlie\": 40.6500004529953, \"Delta\": 60.829999923706055, \"Other\": 24.739999771118164, \"Total\": 914.3400019407272}, {\"week\": 95, \"Alpha\": 383.1100044250488, \"Bravo\": 393.60999965667725, \"Charlie\": 63.669999957084656, \"Delta\": 28.419999837875366, \"Other\": 35.49000024795532, \"Total\": 999.3000041246414}, {\"week\": 96, \"Alpha\": 674.0900100469589, \"Bravo\": 232.6799976825714, \"Charlie\": 72.38000094890594, \"Delta\": 22.619999885559082, \"Other\": 36.700000047683716, \"Total\": 1134.470008611679}, {\"week\": 97, \"Alpha\": 840.3900090456009, \"Bravo\": 676.0799893140793, \"Charlie\": 62.600000858306885, \"Delta\": 23.130000114440918, \"Other\": 29.290000438690186, \"Total\": 1728.4899997711182}, {\"week\": 98, \"Alpha\": 1079.0800068378448, \"Bravo\": 1464.91996717453, \"Charlie\": 30.970000386238098, \"Delta\": 11.069999933242798, \"Other\": 46.8100004196167, \"Total\": 2730.8499747514725}, {\"week\": 99, \"Alpha\": 384.9900037050247, \"Bravo\": 780.489991903305, \"Charlie\": 68.84000062942505, \"Delta\": 107.1700005531311, \"Other\": 20.420000314712524, \"Total\": 1460.9099971055984}, {\"week\": 100, \"Alpha\": 692.480005979538, \"Bravo\": 420.4799962043762, \"Charlie\": 69.60000097751617, \"Delta\": 54.59000086784363, \"Other\": 47.96999979019165, \"Total\": 1385.1200038194656}, {\"week\": 101, \"Alpha\": 265.77000188827515, \"Bravo\": 264.65999937057495, \"Charlie\": 64.03000128269196, \"Delta\": 35.05000019073486, \"Other\": 26.880000114440918, \"Total\": 757.3900028467178}, {\"week\": 102, \"Alpha\": 379.6100050210953, \"Bravo\": 456.789990067482, \"Charlie\": 43.50000023841858, \"Delta\": 20.399999856948853, \"Other\": 43.609999656677246, \"Total\": 1045.909994840622}, {\"week\": 103, \"Alpha\": 532.500004529953, \"Bravo\": 440.9999964237213, \"Charlie\": 76.40000092983246, \"Delta\": 40.43999981880188, \"Other\": 45.55000042915344, \"Total\": 1238.890002131462}, {\"week\": 104, \"Alpha\": 394.89000284671783, \"Bravo\": 233.18999826908112, \"Charlie\": 53.18000042438507, \"Delta\": 68.26000118255615, \"Other\": 36.679999351501465, \"Total\": 890.2000020742416}]}}, {\"mode\": \"vega-lite\"});\n",
       "</script>"
      ],
      "text/plain": [
       "alt.Chart(...)"
      ]
     },
     "execution_count": 57,
     "metadata": {},
     "output_type": "execute_result"
    }
   ],
   "source": [
    "alt.Chart(pivot_result).mark_line().encode(\n",
    "    x=alt.X('week', axis=alt.Axis(\n",
    "        values=np.arange(0, 104+1, 13),  # Explicitly specify quarter-end weeks\n",
    "        labelExpr=\"datum.value\",  # Show only these labels\n",
    "        title='Week')),\n",
    "    y=alt.Y('Alpha',\n",
    "            title='Spend ($)')\n",
    ").properties(\n",
    "    width=800,\n",
    "    height=300\n",
    ")"
   ]
  },
  {
   "cell_type": "code",
   "execution_count": 58,
   "metadata": {
    "colab": {
     "base_uri": "https://localhost:8080/",
     "height": 368
    },
    "id": "NjsDMmVeTC3Y",
    "outputId": "be6dceef-2ae6-4ed9-9adf-4089086fb881"
   },
   "outputs": [
    {
     "data": {
      "text/html": [
       "\n",
       "<style>\n",
       "  #altair-viz-d0531652a21b4cb4ae870ba9e1c3a2b2.vega-embed {\n",
       "    width: 100%;\n",
       "    display: flex;\n",
       "  }\n",
       "\n",
       "  #altair-viz-d0531652a21b4cb4ae870ba9e1c3a2b2.vega-embed details,\n",
       "  #altair-viz-d0531652a21b4cb4ae870ba9e1c3a2b2.vega-embed details summary {\n",
       "    position: relative;\n",
       "  }\n",
       "</style>\n",
       "<div id=\"altair-viz-d0531652a21b4cb4ae870ba9e1c3a2b2\"></div>\n",
       "<script type=\"text/javascript\">\n",
       "  var VEGA_DEBUG = (typeof VEGA_DEBUG == \"undefined\") ? {} : VEGA_DEBUG;\n",
       "  (function(spec, embedOpt){\n",
       "    let outputDiv = document.currentScript.previousElementSibling;\n",
       "    if (outputDiv.id !== \"altair-viz-d0531652a21b4cb4ae870ba9e1c3a2b2\") {\n",
       "      outputDiv = document.getElementById(\"altair-viz-d0531652a21b4cb4ae870ba9e1c3a2b2\");\n",
       "    }\n",
       "    const paths = {\n",
       "      \"vega\": \"https://cdn.jsdelivr.net/npm/vega@5?noext\",\n",
       "      \"vega-lib\": \"https://cdn.jsdelivr.net/npm/vega-lib?noext\",\n",
       "      \"vega-lite\": \"https://cdn.jsdelivr.net/npm/vega-lite@5.20.1?noext\",\n",
       "      \"vega-embed\": \"https://cdn.jsdelivr.net/npm/vega-embed@6?noext\",\n",
       "    };\n",
       "\n",
       "    function maybeLoadScript(lib, version) {\n",
       "      var key = `${lib.replace(\"-\", \"\")}_version`;\n",
       "      return (VEGA_DEBUG[key] == version) ?\n",
       "        Promise.resolve(paths[lib]) :\n",
       "        new Promise(function(resolve, reject) {\n",
       "          var s = document.createElement('script');\n",
       "          document.getElementsByTagName(\"head\")[0].appendChild(s);\n",
       "          s.async = true;\n",
       "          s.onload = () => {\n",
       "            VEGA_DEBUG[key] = version;\n",
       "            return resolve(paths[lib]);\n",
       "          };\n",
       "          s.onerror = () => reject(`Error loading script: ${paths[lib]}`);\n",
       "          s.src = paths[lib];\n",
       "        });\n",
       "    }\n",
       "\n",
       "    function showError(err) {\n",
       "      outputDiv.innerHTML = `<div class=\"error\" style=\"color:red;\">${err}</div>`;\n",
       "      throw err;\n",
       "    }\n",
       "\n",
       "    function displayChart(vegaEmbed) {\n",
       "      vegaEmbed(outputDiv, spec, embedOpt)\n",
       "        .catch(err => showError(`Javascript Error: ${err.message}<br>This usually means there's a typo in your chart specification. See the javascript console for the full traceback.`));\n",
       "    }\n",
       "\n",
       "    if(typeof define === \"function\" && define.amd) {\n",
       "      requirejs.config({paths});\n",
       "      require([\"vega-embed\"], displayChart, err => showError(`Error loading script: ${err.message}`));\n",
       "    } else {\n",
       "      maybeLoadScript(\"vega\", \"5\")\n",
       "        .then(() => maybeLoadScript(\"vega-lite\", \"5.20.1\"))\n",
       "        .then(() => maybeLoadScript(\"vega-embed\", \"6\"))\n",
       "        .catch(showError)\n",
       "        .then(() => displayChart(vegaEmbed));\n",
       "    }\n",
       "  })({\"config\": {\"view\": {\"continuousWidth\": 300, \"continuousHeight\": 300}}, \"data\": {\"name\": \"data-5159a8ce9aef4c74bfbf2dd2f613ca54\"}, \"mark\": {\"type\": \"line\"}, \"encoding\": {\"x\": {\"axis\": {\"labelExpr\": \"datum.value\", \"title\": \"Week\", \"values\": [0.0, 13.0, 26.0, 39.0, 52.0, 65.0, 78.0, 91.0, 104.0]}, \"field\": \"week\", \"type\": \"quantitative\"}, \"y\": {\"field\": \"Total\", \"title\": \"Spend ($)\", \"type\": \"quantitative\"}}, \"height\": 300, \"width\": 800, \"$schema\": \"https://vega.github.io/schema/vega-lite/v5.20.1.json\", \"datasets\": {\"data-5159a8ce9aef4c74bfbf2dd2f613ca54\": [{\"week\": 1, \"Alpha\": 331.4599986076355, \"Bravo\": 247.78000330924988, \"Charlie\": 51.78999984264374, \"Delta\": 17.640000104904175, \"Other\": 18.74999976158142, \"Total\": 668.4200016260147}, {\"week\": 2, \"Alpha\": 567.2499973773956, \"Bravo\": 398.6400067806244, \"Charlie\": 45.42999982833862, \"Delta\": 34.19000005722046, \"Other\": 23.229999542236328, \"Total\": 1070.7400035858154}, {\"week\": 3, \"Alpha\": 497.96999871730804, \"Bravo\": 639.9800078868866, \"Charlie\": 51.10999953746796, \"Delta\": 39.389999866485596, \"Other\": 14.549999952316284, \"Total\": 1246.0000059604645}, {\"week\": 4, \"Alpha\": 1389.9600036144257, \"Bravo\": 472.5000035762787, \"Charlie\": 51.86999976634979, \"Delta\": 85.04000043869019, \"Other\": 39.77999949455261, \"Total\": 2043.150006890297}, {\"week\": 5, \"Alpha\": 358.2399991750717, \"Bravo\": 252.5400027036667, \"Charlie\": 40.21000027656555, \"Delta\": 69.54000043869019, \"Other\": 45.929999589920044, \"Total\": 771.4600021839142}, {\"week\": 6, \"Alpha\": 364.059996843338, \"Bravo\": 239.8100037574768, \"Charlie\": 87.49000084400177, \"Delta\": 43.90999984741211, \"Other\": 32.609999656677246, \"Total\": 773.880000948906}, {\"week\": 7, \"Alpha\": 412.3399988412857, \"Bravo\": 271.98000395298004, \"Charlie\": 73.88000023365021, \"Delta\": 38.47000026702881, \"Other\": 30.699999570846558, \"Total\": 834.3700028657913}, {\"week\": 8, \"Alpha\": 307.620001912117, \"Bravo\": 295.71000468730927, \"Charlie\": 140.39000034332275, \"Delta\": 16.140000104904175, \"Other\": 17.049999713897705, \"Total\": 784.9100067615509}, {\"week\": 9, \"Alpha\": 290.58000004291534, \"Bravo\": 384.3699994087219, \"Charlie\": 58.27000021934509, \"Delta\": 53.45999836921692, \"Other\": 21.729999780654907, \"Total\": 817.4099978208542}, {\"week\": 10, \"Alpha\": 442.64000141620636, \"Bravo\": 454.2200051546097, \"Charlie\": 42.71000015735626, \"Delta\": 29.22000002861023, \"Other\": 28.299999952316284, \"Total\": 1007.0900067090988}, {\"week\": 11, \"Alpha\": 258.62000012397766, \"Bravo\": 695.2700042724609, \"Charlie\": 43.6899995803833, \"Delta\": 13.650000095367432, \"Other\": 43.47000026702881, \"Total\": 1065.7000043392181}, {\"week\": 12, \"Alpha\": 912.5899906158447, \"Bravo\": 492.8800095319748, \"Charlie\": 83.79000055789948, \"Delta\": 22.819999933242798, \"Other\": 28.709999799728394, \"Total\": 1552.7900004386902}, {\"week\": 13, \"Alpha\": 443.6500049829483, \"Bravo\": 501.1300083398819, \"Charlie\": 91.08000063896179, \"Delta\": 28.37999987602234, \"Other\": 45.459999561309814, \"Total\": 1122.7000133991241}, {\"week\": 14, \"Alpha\": 853.8300088644028, \"Bravo\": 385.2300044298172, \"Charlie\": 97.97000074386597, \"Delta\": 180.9999876022339, \"Other\": 39.730000495910645, \"Total\": 1571.7600021362305}, {\"week\": 15, \"Alpha\": 446.1500027179718, \"Bravo\": 804.3600097894669, \"Charlie\": 79.68000078201294, \"Delta\": 60.89999866485596, \"Other\": 29.309999704360962, \"Total\": 1435.4000116586685}, {\"week\": 16, \"Alpha\": 579.4600045681, \"Bravo\": 365.98000621795654, \"Charlie\": 64.5100005865097, \"Delta\": 19.699999570846558, \"Other\": 17.350000143051147, \"Total\": 1063.000011086464}, {\"week\": 17, \"Alpha\": 410.9300045967102, \"Bravo\": 458.490008354187, \"Charlie\": 187.85000562667847, \"Delta\": 18.139999628067017, \"Other\": 34.269999742507935, \"Total\": 1126.6800179481506}, {\"week\": 18, \"Alpha\": 703.3100029230118, \"Bravo\": 475.38000535964966, \"Charlie\": 169.39000129699707, \"Delta\": 155.55999660491943, \"Other\": 21.02999997138977, \"Total\": 1542.6700061559677}, {\"week\": 19, \"Alpha\": 607.4000059366226, \"Bravo\": 455.2800050973892, \"Charlie\": 148.6800013780594, \"Delta\": 172.86999797821045, \"Other\": 25.609999895095825, \"Total\": 1428.8400102853775}, {\"week\": 20, \"Alpha\": 801.2600085735321, \"Bravo\": 929.7400115728378, \"Charlie\": 218.0000010728836, \"Delta\": 65.31000018119812, \"Other\": 22.820000171661377, \"Total\": 2057.130021572113}, {\"week\": 21, \"Alpha\": 903.2700114250183, \"Bravo\": 1675.4100246429443, \"Charlie\": 93.54000055789948, \"Delta\": 92.56999945640564, \"Other\": 17.829999923706055, \"Total\": 2803.620036005974}, {\"week\": 22, \"Alpha\": 672.10001039505, \"Bravo\": 557.8800053596497, \"Charlie\": 72.09000039100647, \"Delta\": 32.11999988555908, \"Other\": 36.59000015258789, \"Total\": 1392.7800161838531}, {\"week\": 23, \"Alpha\": 620.7200074195862, \"Bravo\": 508.03000593185425, \"Charlie\": 107.11999988555908, \"Delta\": 57.52999949455261, \"Other\": 32.08999991416931, \"Total\": 1348.4900126457214}, {\"week\": 24, \"Alpha\": 702.7500092983246, \"Bravo\": 508.14000856876373, \"Charlie\": 197.23000133037567, \"Delta\": 170.28999757766724, \"Other\": 26.66000008583069, \"Total\": 1629.070016860962}, {\"week\": 25, \"Alpha\": 509.1300070285797, \"Bravo\": 635.4300094842911, \"Charlie\": 121.07000076770782, \"Delta\": 40.080000162124634, \"Other\": 26.420000076293945, \"Total\": 1357.1300175189972}, {\"week\": 26, \"Alpha\": 1977.6600477695465, \"Bravo\": 1674.2300254106522, \"Charlie\": 74.21000039577484, \"Delta\": 78.34999895095825, \"Other\": 38.6800000667572, \"Total\": 3869.130072593689}, {\"week\": 27, \"Alpha\": 1180.6100231409073, \"Bravo\": 592.8100076913834, \"Charlie\": 141.66000068187714, \"Delta\": 111.73999786376953, \"Other\": 19.430000066757202, \"Total\": 2073.2500294446945}, {\"week\": 28, \"Alpha\": 486.72000646591187, \"Bravo\": 697.8100134134293, \"Charlie\": 144.36000001430511, \"Delta\": 22.509999752044678, \"Other\": 29.09999990463257, \"Total\": 1408.5000195503235}, {\"week\": 29, \"Alpha\": 507.5600049495697, \"Bravo\": 474.2400059700012, \"Charlie\": 110.08000016212463, \"Delta\": 29.509999752044678, \"Other\": 28.369999647140503, \"Total\": 1178.7600104808807}, {\"week\": 30, \"Alpha\": 596.3200063705444, \"Bravo\": 411.2600003480911, \"Charlie\": 146.66999971866608, \"Delta\": 79.65999984741211, \"Other\": 35.96000003814697, \"Total\": 1299.8700063228607}, {\"week\": 31, \"Alpha\": 604.0000065565109, \"Bravo\": 751.1599987745285, \"Charlie\": 140.14000117778778, \"Delta\": 134.669997215271, \"Other\": 29.709999799728394, \"Total\": 1690.6800035238266}, {\"week\": 32, \"Alpha\": 611.1400043964386, \"Bravo\": 1065.2099907398224, \"Charlie\": 131.55000019073486, \"Delta\": 60.920000314712524, \"Other\": 35.37999987602234, \"Total\": 1936.1999955177307}, {\"week\": 33, \"Alpha\": 614.9400051832199, \"Bravo\": 418.6600013971329, \"Charlie\": 88.31000077724457, \"Delta\": 53.24000000953674, \"Other\": 49.97999954223633, \"Total\": 1258.1300069093704}, {\"week\": 34, \"Alpha\": 1535.920031428337, \"Bravo\": 410.8000007867813, \"Charlie\": 57.09000098705292, \"Delta\": 62.89999973773956, \"Other\": 49.019999742507935, \"Total\": 2149.730032682419}, {\"week\": 35, \"Alpha\": 1571.5100203752518, \"Bravo\": 624.1900020837784, \"Charlie\": 61.78000056743622, \"Delta\": 31.50000023841858, \"Other\": 40.22999978065491, \"Total\": 2364.21002304554}, {\"week\": 36, \"Alpha\": 587.4200024604797, \"Bravo\": 389.60999953746796, \"Charlie\": 160.9400019645691, \"Delta\": 44.070000886917114, \"Other\": 28.649999856948853, \"Total\": 1246.6900047063828}, {\"week\": 37, \"Alpha\": 426.8699998855591, \"Bravo\": 333.6600012779236, \"Charlie\": 114.72000110149384, \"Delta\": 21.540000438690186, \"Other\": 19.459999799728394, \"Total\": 953.2500025033951}, {\"week\": 38, \"Alpha\": 383.7999994754791, \"Bravo\": 371.7399994134903, \"Charlie\": 73.85000050067902, \"Delta\": 61.030001163482666, \"Other\": 13.15999984741211, \"Total\": 941.5800004005432}, {\"week\": 39, \"Alpha\": 465.7200016975403, \"Bravo\": 283.4500015974045, \"Charlie\": 40.570000529289246, \"Delta\": 169.71000385284424, \"Other\": 13.27999997138977, \"Total\": 1011.730007648468}, {\"week\": 40, \"Alpha\": 447.03000152111053, \"Bravo\": 440.0200049877167, \"Charlie\": 84.47000062465668, \"Delta\": 67.67000114917755, \"Other\": 18.100000143051147, \"Total\": 1097.2900084257126}, {\"week\": 41, \"Alpha\": 421.7700021266937, \"Bravo\": 477.62000012397766, \"Charlie\": 171.37000179290771, \"Delta\": 34.600000619888306, \"Other\": 25.799999952316284, \"Total\": 1172.1600046157837}, {\"week\": 42, \"Alpha\": 364.6600021123886, \"Bravo\": 647.060005903244, \"Charlie\": 86.69000053405762, \"Delta\": 54.940000772476196, \"Other\": 23.84999990463257, \"Total\": 1219.200009226799}, {\"week\": 43, \"Alpha\": 389.4200018644333, \"Bravo\": 714.1899987459183, \"Charlie\": 52.07000029087067, \"Delta\": 61.42000079154968, \"Other\": 29.119999885559082, \"Total\": 1289.220001578331}, {\"week\": 44, \"Alpha\": 408.3300014734268, \"Bravo\": 1532.9299746751785, \"Charlie\": 55.55000054836273, \"Delta\": 24.230000495910645, \"Other\": 42.47999978065491, \"Total\": 2107.5199769735336}, {\"week\": 45, \"Alpha\": 311.07999992370605, \"Bravo\": 352.97000217437744, \"Charlie\": 52.30000054836273, \"Delta\": 40.290000677108765, \"Other\": 30.84999990463257, \"Total\": 832.4900032281876}, {\"week\": 46, \"Alpha\": 575.4000034332275, \"Bravo\": 447.6200009584427, \"Charlie\": 92.84000098705292, \"Delta\": 138.490003824234, \"Other\": 21.829999685287476, \"Total\": 1322.1800088882446}, {\"week\": 47, \"Alpha\": 1188.4600063562393, \"Bravo\": 234.73000144958496, \"Charlie\": 65.52000069618225, \"Delta\": 60.11000156402588, \"Other\": 29.230000019073486, \"Total\": 1625.050010085106}, {\"week\": 48, \"Alpha\": 434.8900029659271, \"Bravo\": 261.139998793602, \"Charlie\": 115.79000103473663, \"Delta\": 30.71000075340271, \"Other\": 14.059999942779541, \"Total\": 904.590003490448}, {\"week\": 49, \"Alpha\": 365.03000128269196, \"Bravo\": 505.4099955558777, \"Charlie\": 130.66000080108643, \"Delta\": 54.540000915527344, \"Other\": 51.079999685287476, \"Total\": 1155.7199982404709}, {\"week\": 50, \"Alpha\": 1164.7100034952164, \"Bravo\": 301.86000084877014, \"Charlie\": 110.85000145435333, \"Delta\": 42.17000126838684, \"Other\": 32.43000030517578, \"Total\": 1702.0200073719025}, {\"week\": 51, \"Alpha\": 773.2100023031235, \"Bravo\": 833.8700000047684, \"Charlie\": 149.5800006389618, \"Delta\": 72.78000068664551, \"Other\": 39.76000118255615, \"Total\": 1920.2000048160553}, {\"week\": 52, \"Alpha\": 789.4700044393539, \"Bravo\": 248.94000136852264, \"Charlie\": 48.410000681877136, \"Delta\": 70.29000115394592, \"Other\": 26.250000476837158, \"Total\": 1235.3600081205368}, {\"week\": 53, \"Alpha\": 386.7500021457672, \"Bravo\": 335.0300018787384, \"Charlie\": 68.46000075340271, \"Delta\": 47.06000089645386, \"Other\": 35.60999917984009, \"Total\": 925.9100048542023}, {\"week\": 54, \"Alpha\": 586.9400025606155, \"Bravo\": 343.80000019073486, \"Charlie\": 66.44000136852264, \"Delta\": 49.15000033378601, \"Other\": 23.53999900817871, \"Total\": 1123.8700034618378}, {\"week\": 55, \"Alpha\": 1045.8400052785873, \"Bravo\": 359.2599971294403, \"Charlie\": 74.16000092029572, \"Delta\": 30.420000314712524, \"Other\": 46.379998445510864, \"Total\": 1611.0600020885468}, {\"week\": 56, \"Alpha\": 939.5100003480911, \"Bravo\": 503.6199997663498, \"Charlie\": 89.1200008392334, \"Delta\": 42.87000036239624, \"Other\": 32.50999903678894, \"Total\": 1663.6300003528595}, {\"week\": 57, \"Alpha\": 1040.8999925851822, \"Bravo\": 661.1299949884415, \"Charlie\": 60.12000107765198, \"Delta\": 56.31999969482422, \"Other\": 41.78999853134155, \"Total\": 1917.2599868774414}, {\"week\": 58, \"Alpha\": 308.99000096321106, \"Bravo\": 264.37999987602234, \"Charlie\": 68.89000022411346, \"Delta\": 33.9099999666214, \"Other\": 53.569998264312744, \"Total\": 787.739999294281}, {\"week\": 59, \"Alpha\": 547.6300007104874, \"Bravo\": 206.17999923229218, \"Charlie\": 63.57000029087067, \"Delta\": 115.91000151634216, \"Other\": 20.199999809265137, \"Total\": 1012.4900015592575}, {\"week\": 60, \"Alpha\": 363.9000024795532, \"Bravo\": 318.5699977874756, \"Charlie\": 68.16000020503998, \"Delta\": 88.85000133514404, \"Other\": 21.140000104904175, \"Total\": 920.620001912117}, {\"week\": 61, \"Alpha\": 476.610004901886, \"Bravo\": 310.31999826431274, \"Charlie\": 55.06000077724457, \"Delta\": 43.919999837875366, \"Other\": 47.679999351501465, \"Total\": 994.5900031328201}, {\"week\": 62, \"Alpha\": 484.7000024318695, \"Bravo\": 314.0199975967407, \"Charlie\": 53.700000166893005, \"Delta\": 60.730000257492065, \"Other\": 43.5, \"Total\": 1018.6500004529953}, {\"week\": 63, \"Alpha\": 359.4300036430359, \"Bravo\": 575.7499986886978, \"Charlie\": 72.14000022411346, \"Delta\": 30.420000076293945, \"Other\": 44.78999948501587, \"Total\": 1145.530002117157}, {\"week\": 64, \"Alpha\": 472.23000276088715, \"Bravo\": 707.9799927473068, \"Charlie\": 113.0900011062622, \"Delta\": 22.75, \"Other\": 30.089999675750732, \"Total\": 1410.139996290207}, {\"week\": 65, \"Alpha\": 665.6600025892258, \"Bravo\": 454.12999975681305, \"Charlie\": 41.37000095844269, \"Delta\": 27.119999885559082, \"Other\": 15.859999895095825, \"Total\": 1269.1400030851364}, {\"week\": 66, \"Alpha\": 413.5799983739853, \"Bravo\": 393.75999999046326, \"Charlie\": 92.39000153541565, \"Delta\": 47.75999999046326, \"Other\": 12.869999885559082, \"Total\": 1026.3599997758865}, {\"week\": 67, \"Alpha\": 364.3900008201599, \"Bravo\": 306.229998588562, \"Charlie\": 67.61000072956085, \"Delta\": 63.31000018119812, \"Other\": 32.709999799728394, \"Total\": 901.2500001192093}, {\"week\": 68, \"Alpha\": 636.0400013923645, \"Bravo\": 516.4500005245209, \"Charlie\": 80.60000026226044, \"Delta\": 66.98999977111816, \"Other\": 26.229999780654907, \"Total\": 1394.3100017309189}, {\"week\": 69, \"Alpha\": 356.25000047683716, \"Bravo\": 950.0200136899948, \"Charlie\": 82.53000152111053, \"Delta\": 35.980000019073486, \"Other\": 22.199999809265137, \"Total\": 1515.9800155162811}, {\"week\": 70, \"Alpha\": 433.24000310897827, \"Bravo\": 373.32999992370605, \"Charlie\": 78.44000029563904, \"Delta\": 80.31999921798706, \"Other\": 43.58999991416931, \"Total\": 1078.9200024604797}, {\"week\": 71, \"Alpha\": 507.0400013923645, \"Bravo\": 483.2299997806549, \"Charlie\": 90.94000172615051, \"Delta\": 80.94999957084656, \"Other\": 52.700000524520874, \"Total\": 1285.8600029945374}, {\"week\": 72, \"Alpha\": 1328.0400084257126, \"Bravo\": 418.29999804496765, \"Charlie\": 58.140000343322754, \"Delta\": 140.02999901771545, \"Other\": 26.630000114440918, \"Total\": 2043.1400059461594}, {\"week\": 73, \"Alpha\": 2070.160023212433, \"Bravo\": 1304.5799791812897, \"Charlie\": 62.190000772476196, \"Delta\": 91.19000220298767, \"Other\": 40.05000042915344, \"Total\": 3641.17000579834}, {\"week\": 74, \"Alpha\": 606.7600026130676, \"Bravo\": 436.169997215271, \"Charlie\": 101.48000085353851, \"Delta\": 36.39999961853027, \"Other\": 26.369999647140503, \"Total\": 1281.179999947548}, {\"week\": 75, \"Alpha\": 629.260003566742, \"Bravo\": 415.1799968481064, \"Charlie\": 95.45000064373016, \"Delta\": 48.09999942779541, \"Other\": 47.140000104904175, \"Total\": 1310.130000591278}, {\"week\": 76, \"Alpha\": 611.8900059461594, \"Bravo\": 471.5399960279465, \"Charlie\": 110.65000069141388, \"Delta\": 93.59999966621399, \"Other\": 59.570000410079956, \"Total\": 1423.2500027418137}, {\"week\": 77, \"Alpha\": 1198.630003809929, \"Bravo\": 584.8999961614609, \"Charlie\": 101.37000107765198, \"Delta\": 97.31000065803528, \"Other\": 16.050000190734863, \"Total\": 2075.260001897812}, {\"week\": 78, \"Alpha\": 2345.440019249916, \"Bravo\": 1157.2999852895737, \"Charlie\": 123.90000081062317, \"Delta\": 21.079999923706055, \"Other\": 18.950000286102295, \"Total\": 3744.6700055599213}, {\"week\": 79, \"Alpha\": 1447.2300218343735, \"Bravo\": 826.669994354248, \"Charlie\": 114.32000124454498, \"Delta\": 39.99999976158142, \"Other\": 37.66000032424927, \"Total\": 2544.880017518997}, {\"week\": 80, \"Alpha\": 531.500003695488, \"Bravo\": 546.2299959659576, \"Charlie\": 104.47000002861023, \"Delta\": 37.790000200271606, \"Other\": 14.15000033378601, \"Total\": 1314.1400002241135}, {\"week\": 81, \"Alpha\": 570.0500017404556, \"Bravo\": 599.6499954462051, \"Charlie\": 91.8500006198883, \"Delta\": 98.37000179290771, \"Other\": 18.630000352859497, \"Total\": 1459.5499999523163}, {\"week\": 82, \"Alpha\": 431.12000119686127, \"Bravo\": 593.8699969053268, \"Charlie\": 102.34000015258789, \"Delta\": 43.46000003814697, \"Other\": 28.980000019073486, \"Total\": 1281.7699983119965}, {\"week\": 83, \"Alpha\": 529.8200017213821, \"Bravo\": 455.3099958896637, \"Charlie\": 87.93000066280365, \"Delta\": 62.05999970436096, \"Other\": 49.02000093460083, \"Total\": 1267.1399989128113}, {\"week\": 84, \"Alpha\": 582.5800020694733, \"Bravo\": 379.28999733924866, \"Charlie\": 100.40000140666962, \"Delta\": 39.08999967575073, \"Other\": 17.440000295639038, \"Total\": 1202.8000007867813}, {\"week\": 85, \"Alpha\": 802.8199973106384, \"Bravo\": 542.0899964570999, \"Charlie\": 140.41000187397003, \"Delta\": 116.44000005722046, \"Other\": 43.260000467300415, \"Total\": 1730.0199961662292}, {\"week\": 86, \"Alpha\": 985.1100113391876, \"Bravo\": 619.7499898672104, \"Charlie\": 80.58000087738037, \"Delta\": 90.54000043869019, \"Other\": 29.50000023841858, \"Total\": 1891.4800027608871}, {\"week\": 87, \"Alpha\": 1304.2600206136703, \"Bravo\": 1420.1199795007706, \"Charlie\": 59.68000137805939, \"Delta\": 16.049999952316284, \"Other\": 21.200000286102295, \"Total\": 2908.310001730919}, {\"week\": 88, \"Alpha\": 991.0699965953827, \"Bravo\": 284.70999550819397, \"Charlie\": 54.880000948905945, \"Delta\": 18.049999952316284, \"Other\": 32.34999990463257, \"Total\": 1469.0599929094315}, {\"week\": 89, \"Alpha\": 309.9800024032593, \"Bravo\": 327.39999771118164, \"Charlie\": 37.570000410079956, \"Delta\": 8.97000002861023, \"Other\": 9.670000076293945, \"Total\": 782.590000629425}, {\"week\": 90, \"Alpha\": 477.56000554561615, \"Bravo\": 334.759997010231, \"Charlie\": 78.90000081062317, \"Delta\": 58.829999923706055, \"Other\": 33.8100004196167, \"Total\": 1073.860003709793}, {\"week\": 91, \"Alpha\": 406.98000288009644, \"Bravo\": 510.3299914598465, \"Charlie\": 61.68000066280365, \"Delta\": 33.99000000953674, \"Other\": 26.72000026702881, \"Total\": 1130.6999952793121}, {\"week\": 92, \"Alpha\": 390.30000352859497, \"Bravo\": 399.289998292923, \"Charlie\": 53.02000093460083, \"Delta\": 67.90000009536743, \"Other\": 31.919999837875366, \"Total\": 1034.4300026893616}, {\"week\": 93, \"Alpha\": 306.74000239372253, \"Bravo\": 241.12999737262726, \"Charlie\": 68.86000096797943, \"Delta\": 64.84000039100647, \"Other\": 69.65000009536743, \"Total\": 844.2200012207031}, {\"week\": 94, \"Alpha\": 376.91000497341156, \"Bravo\": 317.20999681949615, \"Charlie\": 40.6500004529953, \"Delta\": 60.829999923706055, \"Other\": 24.739999771118164, \"Total\": 914.3400019407272}, {\"week\": 95, \"Alpha\": 383.1100044250488, \"Bravo\": 393.60999965667725, \"Charlie\": 63.669999957084656, \"Delta\": 28.419999837875366, \"Other\": 35.49000024795532, \"Total\": 999.3000041246414}, {\"week\": 96, \"Alpha\": 674.0900100469589, \"Bravo\": 232.6799976825714, \"Charlie\": 72.38000094890594, \"Delta\": 22.619999885559082, \"Other\": 36.700000047683716, \"Total\": 1134.470008611679}, {\"week\": 97, \"Alpha\": 840.3900090456009, \"Bravo\": 676.0799893140793, \"Charlie\": 62.600000858306885, \"Delta\": 23.130000114440918, \"Other\": 29.290000438690186, \"Total\": 1728.4899997711182}, {\"week\": 98, \"Alpha\": 1079.0800068378448, \"Bravo\": 1464.91996717453, \"Charlie\": 30.970000386238098, \"Delta\": 11.069999933242798, \"Other\": 46.8100004196167, \"Total\": 2730.8499747514725}, {\"week\": 99, \"Alpha\": 384.9900037050247, \"Bravo\": 780.489991903305, \"Charlie\": 68.84000062942505, \"Delta\": 107.1700005531311, \"Other\": 20.420000314712524, \"Total\": 1460.9099971055984}, {\"week\": 100, \"Alpha\": 692.480005979538, \"Bravo\": 420.4799962043762, \"Charlie\": 69.60000097751617, \"Delta\": 54.59000086784363, \"Other\": 47.96999979019165, \"Total\": 1385.1200038194656}, {\"week\": 101, \"Alpha\": 265.77000188827515, \"Bravo\": 264.65999937057495, \"Charlie\": 64.03000128269196, \"Delta\": 35.05000019073486, \"Other\": 26.880000114440918, \"Total\": 757.3900028467178}, {\"week\": 102, \"Alpha\": 379.6100050210953, \"Bravo\": 456.789990067482, \"Charlie\": 43.50000023841858, \"Delta\": 20.399999856948853, \"Other\": 43.609999656677246, \"Total\": 1045.909994840622}, {\"week\": 103, \"Alpha\": 532.500004529953, \"Bravo\": 440.9999964237213, \"Charlie\": 76.40000092983246, \"Delta\": 40.43999981880188, \"Other\": 45.55000042915344, \"Total\": 1238.890002131462}, {\"week\": 104, \"Alpha\": 394.89000284671783, \"Bravo\": 233.18999826908112, \"Charlie\": 53.18000042438507, \"Delta\": 68.26000118255615, \"Other\": 36.679999351501465, \"Total\": 890.2000020742416}]}}, {\"mode\": \"vega-lite\"});\n",
       "</script>"
      ],
      "text/plain": [
       "alt.Chart(...)"
      ]
     },
     "execution_count": 58,
     "metadata": {},
     "output_type": "execute_result"
    }
   ],
   "source": [
    "alt.Chart(pivot_result).mark_line().encode(\n",
    "    x=alt.X('week', axis=alt.Axis(\n",
    "        values=np.arange(0, 104+1, 13),  # Explicitly specify quarter-end weeks\n",
    "        labelExpr=\"datum.value\",  # Show only these labels\n",
    "        title='Week')),\n",
    "    y=alt.Y('Total',\n",
    "            title='Spend ($)')\n",
    ").properties(\n",
    "    width=800,\n",
    "    height=300\n",
    ")"
   ]
  }
 ],
 "metadata": {
  "colab": {
   "collapsed_sections": [
    "Gxxt_AWN9igL",
    "R7dq85pW9WSz"
   ],
   "provenance": []
  },
  "kernelspec": {
   "display_name": "Python 3",
   "name": "python3"
  },
  "language_info": {
   "name": "python"
  }
 },
 "nbformat": 4,
 "nbformat_minor": 0
}
