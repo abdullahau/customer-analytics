{
 "cells": [
  {
   "cell_type": "markdown",
   "metadata": {
    "id": "J0Nrn2ZX9UOK"
   },
   "source": [
    "### Imports"
   ]
  },
  {
   "cell_type": "markdown",
   "metadata": {
    "id": "Gxxt_AWN9igL"
   },
   "source": [
    "#### Import Packages"
   ]
  },
  {
   "cell_type": "code",
   "execution_count": 1,
   "metadata": {
    "id": "Bsw2hr5T8cu3"
   },
   "outputs": [],
   "source": [
    "import polars as pl\n",
    "import altair as alt\n",
    "import numpy as np\n",
    "from great_tables import GT\n",
    "import gc\n",
    "\n",
    "# alt.JupyterChart.enable_offline()\n",
    "# alt.renderers.enable(\"jupyter\", offline=True)"
   ]
  },
  {
   "cell_type": "markdown",
   "metadata": {
    "id": "R7dq85pW9WSz"
   },
   "source": [
    "#### Import Panel Data"
   ]
  },
  {
   "cell_type": "code",
   "execution_count": 2,
   "metadata": {
    "id": "byUO8v599TuY"
   },
   "outputs": [
    {
     "data": {
      "text/html": [
       "<div><style>\n",
       ".dataframe > thead > tr,\n",
       ".dataframe > tbody > tr {\n",
       "  text-align: right;\n",
       "  white-space: pre-wrap;\n",
       "}\n",
       "</style>\n",
       "<small>shape: (5, 7)</small><table border=\"1\" class=\"dataframe\"><thead><tr><th>panel_id</th><th>trans_id</th><th>week</th><th>sku_id</th><th>units</th><th>price</th><th>brand</th></tr><tr><td>i32</td><td>i32</td><td>i16</td><td>cat</td><td>i16</td><td>f32</td><td>cat</td></tr></thead><tbody><tr><td>3102011</td><td>1569</td><td>6</td><td>&quot;19&quot;</td><td>1</td><td>2.79</td><td>&quot;Alpha&quot;</td></tr><tr><td>3102012</td><td>4301</td><td>15</td><td>&quot;15&quot;</td><td>1</td><td>3.19</td><td>&quot;Alpha&quot;</td></tr><tr><td>3102012</td><td>4301</td><td>15</td><td>&quot;15&quot;</td><td>1</td><td>3.19</td><td>&quot;Alpha&quot;</td></tr><tr><td>3102012</td><td>4301</td><td>15</td><td>&quot;38&quot;</td><td>1</td><td>3.49</td><td>&quot;Bravo&quot;</td></tr><tr><td>3102012</td><td>4301</td><td>15</td><td>&quot;44&quot;</td><td>1</td><td>3.49</td><td>&quot;Bravo&quot;</td></tr></tbody></table></div>"
      ],
      "text/plain": [
       "shape: (5, 7)\n",
       "┌──────────┬──────────┬──────┬────────┬───────┬───────┬───────┐\n",
       "│ panel_id ┆ trans_id ┆ week ┆ sku_id ┆ units ┆ price ┆ brand │\n",
       "│ ---      ┆ ---      ┆ ---  ┆ ---    ┆ ---   ┆ ---   ┆ ---   │\n",
       "│ i32      ┆ i32      ┆ i16  ┆ cat    ┆ i16   ┆ f32   ┆ cat   │\n",
       "╞══════════╪══════════╪══════╪════════╪═══════╪═══════╪═══════╡\n",
       "│ 3102011  ┆ 1569     ┆ 6    ┆ 19     ┆ 1     ┆ 2.79  ┆ Alpha │\n",
       "│ 3102012  ┆ 4301     ┆ 15   ┆ 15     ┆ 1     ┆ 3.19  ┆ Alpha │\n",
       "│ 3102012  ┆ 4301     ┆ 15   ┆ 15     ┆ 1     ┆ 3.19  ┆ Alpha │\n",
       "│ 3102012  ┆ 4301     ┆ 15   ┆ 38     ┆ 1     ┆ 3.49  ┆ Bravo │\n",
       "│ 3102012  ┆ 4301     ┆ 15   ┆ 44     ┆ 1     ┆ 3.49  ┆ Bravo │\n",
       "└──────────┴──────────┴──────┴────────┴───────┴───────┴───────┘"
      ]
     },
     "execution_count": 2,
     "metadata": {},
     "output_type": "execute_result"
    }
   ],
   "source": [
    "grocery_lf = pl.scan_csv(source=\"data/panel-datasets/edible_grocery.csv\",\n",
    "                         has_header=True,\n",
    "                         separator=\",\",\n",
    "                         schema={'panel_id': pl.Int32,\n",
    "                                 'trans_id': pl.Int32,\n",
    "                                 'week': pl.Int16,\n",
    "                                 'sku_id': pl.Categorical,\n",
    "                                 'units': pl.Int16,\n",
    "                                 'price': pl.Float32,\n",
    "                                 'brand': pl.Categorical})\n",
    "grocery_lf.head().collect()"
   ]
  },
  {
   "cell_type": "code",
   "execution_count": 3,
   "metadata": {
    "id": "ECLFaaIe95pK"
   },
   "outputs": [
    {
     "data": {
      "text/html": [
       "<div><style>\n",
       ".dataframe > thead > tr,\n",
       ".dataframe > tbody > tr {\n",
       "  text-align: right;\n",
       "  white-space: pre-wrap;\n",
       "}\n",
       "</style>\n",
       "<small>shape: (5, 2)</small><table border=\"1\" class=\"dataframe\"><thead><tr><th>sku_id</th><th>weight</th></tr><tr><td>cat</td><td>i16</td></tr></thead><tbody><tr><td>&quot;1&quot;</td><td>400</td></tr><tr><td>&quot;2&quot;</td><td>400</td></tr><tr><td>&quot;3&quot;</td><td>400</td></tr><tr><td>&quot;4&quot;</td><td>250</td></tr><tr><td>&quot;5&quot;</td><td>1000</td></tr></tbody></table></div>"
      ],
      "text/plain": [
       "shape: (5, 2)\n",
       "┌────────┬────────┐\n",
       "│ sku_id ┆ weight │\n",
       "│ ---    ┆ ---    │\n",
       "│ cat    ┆ i16    │\n",
       "╞════════╪════════╡\n",
       "│ 1      ┆ 400    │\n",
       "│ 2      ┆ 400    │\n",
       "│ 3      ┆ 400    │\n",
       "│ 4      ┆ 250    │\n",
       "│ 5      ┆ 1000   │\n",
       "└────────┴────────┘"
      ]
     },
     "execution_count": 3,
     "metadata": {},
     "output_type": "execute_result"
    }
   ],
   "source": [
    "sku_lf = pl.scan_csv(source=\"data/panel-datasets/sku_weight.csv\",\n",
    "                         has_header=True,\n",
    "                         separator=\",\",\n",
    "                         schema={'sku_id': pl.Categorical,\n",
    "                                 'weight': pl.Int16})\n",
    "sku_lf.head().collect()"
   ]
  },
  {
   "cell_type": "code",
   "execution_count": 4,
   "metadata": {
    "id": "y-r0cpsA97dT"
   },
   "outputs": [
    {
     "data": {
      "text/html": [
       "<div><style>\n",
       ".dataframe > thead > tr,\n",
       ".dataframe > tbody > tr {\n",
       "  text-align: right;\n",
       "  white-space: pre-wrap;\n",
       "}\n",
       "</style>\n",
       "<small>shape: (5, 5)</small><table border=\"1\" class=\"dataframe\"><thead><tr><th>ID</th><th>Market</th><th>Week</th><th>Day</th><th>Units</th></tr><tr><td>i16</td><td>cat</td><td>i16</td><td>i16</td><td>i16</td></tr></thead><tbody><tr><td>10001</td><td>&quot;1&quot;</td><td>19</td><td>3</td><td>1</td></tr><tr><td>10002</td><td>&quot;1&quot;</td><td>12</td><td>5</td><td>1</td></tr><tr><td>10003</td><td>&quot;1&quot;</td><td>37</td><td>7</td><td>1</td></tr><tr><td>10004</td><td>&quot;1&quot;</td><td>30</td><td>6</td><td>1</td></tr><tr><td>10004</td><td>&quot;1&quot;</td><td>47</td><td>3</td><td>1</td></tr></tbody></table></div>"
      ],
      "text/plain": [
       "shape: (5, 5)\n",
       "┌───────┬────────┬──────┬─────┬───────┐\n",
       "│ ID    ┆ Market ┆ Week ┆ Day ┆ Units │\n",
       "│ ---   ┆ ---    ┆ ---  ┆ --- ┆ ---   │\n",
       "│ i16   ┆ cat    ┆ i16  ┆ i16 ┆ i16   │\n",
       "╞═══════╪════════╪══════╪═════╪═══════╡\n",
       "│ 10001 ┆ 1      ┆ 19   ┆ 3   ┆ 1     │\n",
       "│ 10002 ┆ 1      ┆ 12   ┆ 5   ┆ 1     │\n",
       "│ 10003 ┆ 1      ┆ 37   ┆ 7   ┆ 1     │\n",
       "│ 10004 ┆ 1      ┆ 30   ┆ 6   ┆ 1     │\n",
       "│ 10004 ┆ 1      ┆ 47   ┆ 3   ┆ 1     │\n",
       "└───────┴────────┴──────┴─────┴───────┘"
      ]
     },
     "execution_count": 4,
     "metadata": {},
     "output_type": "execute_result"
    }
   ],
   "source": [
    "kiwi_lf = pl.scan_csv(source=\"data/panel-datasets/kiwibubbles_trans.csv\",\n",
    "                      has_header=True,\n",
    "                      separator=\",\",\n",
    "                      schema={'ID': pl.Int16,\n",
    "                              'Market': pl.Categorical,\n",
    "                              'Week': pl.Int16,\n",
    "                              'Day': pl.Int16,\n",
    "                              'Units': pl.Int16})\n",
    "kiwi_lf.head().collect()"
   ]
  },
  {
   "cell_type": "markdown",
   "metadata": {},
   "source": [
    "#### Reusable Functions"
   ]
  },
  {
   "cell_type": "code",
   "execution_count": 5,
   "metadata": {},
   "outputs": [],
   "source": [
    "def weekly_plot(dataframe, cols, title, y_axis_label, pct=False, colors=None):\n",
    "    # Default color to black if no colors are provided\n",
    "    if colors is None:\n",
    "        colors = ['black'] * len(cols)\n",
    "    \n",
    "    # Create the chart for each column with its assigned color\n",
    "    layers = []\n",
    "    for i, col in enumerate(cols):\n",
    "        layer = alt.Chart(dataframe).mark_line(color=colors[i], strokeWidth=1).encode(\n",
    "            x=alt.X(\n",
    "                'week',\n",
    "                axis=alt.Axis(\n",
    "                    values=np.arange(0, 104 + 1, 13),  # Explicitly specify quarter-end weeks\n",
    "                    labelExpr=\"datum.value\",  # Show only these labels\n",
    "                    title='Week'\n",
    "                )\n",
    "            ),\n",
    "            y=alt.Y(\n",
    "                col,\n",
    "                title=y_axis_label,\n",
    "                axis=alt.Axis(format=\"$,.0f\") if not pct else alt.Axis(format=\",.0%\")\n",
    "            )\n",
    "        )\n",
    "        layers.append(layer)\n",
    "\n",
    "    # Combine the layers into one chart\n",
    "    chart = alt.layer(*layers).properties(\n",
    "        width=650,\n",
    "        height=250,\n",
    "        title=title\n",
    "    )\n",
    "    \n",
    "    return alt.JupyterChart(chart)"
   ]
  },
  {
   "cell_type": "markdown",
   "metadata": {
    "id": "nAVjw68199_0"
   },
   "source": [
    "### Preliminaries"
   ]
  },
  {
   "cell_type": "markdown",
   "metadata": {
    "id": "JTV6Gf6T-FDX"
   },
   "source": [
    "#### Weekly Sales Pattern"
   ]
  },
  {
   "cell_type": "code",
   "execution_count": 6,
   "metadata": {},
   "outputs": [],
   "source": [
    "# Grocery Sales LazyFrame (Query Plan): Category Weekly 'spend' - units x price = spend\n",
    "grocery_spend_category = (\n",
    "    grocery_lf\n",
    "    .select(\n",
    "        ['week', 'units', 'price']\n",
    "    )\n",
    "    .with_columns(\n",
    "        ((pl.col('units') * pl.col('price')).cast(pl.Float64)).alias('spend')\n",
    "    )\n",
    "    .group_by('week')\n",
    "    .agg(\n",
    "        pl.col(\"spend\").sum().cast(pl.Float64).alias('Weekly Spend')\n",
    "    )\n",
    "    .sort('week')\n",
    ")"
   ]
  },
  {
   "cell_type": "code",
   "execution_count": 7,
   "metadata": {},
   "outputs": [],
   "source": [
    "# Grocery Sales LazyFrame (Query Plan): Weekly 'spend' by Brand - units x price = spend\n",
    "grocery_spend_brand = (\n",
    "    grocery_lf\n",
    "    .select(\n",
    "        ['week', 'units', 'price', 'brand']\n",
    "    )\n",
    "    .with_columns(\n",
    "         ((pl.col('units') * pl.col('price')).cast(pl.Float64)).alias('spend')\n",
    "    )\n",
    "    .group_by('week', 'brand')\n",
    "    .agg(\n",
    "        pl.col(\"spend\").sum().cast(pl.Float64).alias('Weekly Spend')\n",
    "    )\n",
    "    .sort('week')\n",
    ")"
   ]
  },
  {
   "cell_type": "code",
   "execution_count": 8,
   "metadata": {},
   "outputs": [
    {
     "data": {
      "text/html": [
       "<div><style>\n",
       ".dataframe > thead > tr,\n",
       ".dataframe > tbody > tr {\n",
       "  text-align: right;\n",
       "  white-space: pre-wrap;\n",
       "}\n",
       "</style>\n",
       "<small>shape: (104, 7)</small><table border=\"1\" class=\"dataframe\"><thead><tr><th>week</th><th>Alpha</th><th>Bravo</th><th>Charlie</th><th>Delta</th><th>Other</th><th>Total</th></tr><tr><td>i16</td><td>f64</td><td>f64</td><td>f64</td><td>f64</td><td>f64</td><td>f64</td></tr></thead><tbody><tr><td>1</td><td>331.459999</td><td>247.780003</td><td>51.79</td><td>17.64</td><td>18.75</td><td>667.420002</td></tr><tr><td>2</td><td>567.249997</td><td>398.640007</td><td>45.43</td><td>34.19</td><td>23.23</td><td>1068.740004</td></tr><tr><td>3</td><td>497.969999</td><td>639.980008</td><td>51.11</td><td>39.39</td><td>14.55</td><td>1243.000006</td></tr><tr><td>4</td><td>1389.960004</td><td>472.500004</td><td>51.87</td><td>85.04</td><td>39.779999</td><td>2039.150007</td></tr><tr><td>5</td><td>358.239999</td><td>252.540003</td><td>40.21</td><td>69.54</td><td>45.93</td><td>766.460002</td></tr><tr><td>&hellip;</td><td>&hellip;</td><td>&hellip;</td><td>&hellip;</td><td>&hellip;</td><td>&hellip;</td><td>&hellip;</td></tr><tr><td>100</td><td>692.480006</td><td>420.479996</td><td>69.600001</td><td>54.590001</td><td>47.97</td><td>1285.120004</td></tr><tr><td>101</td><td>265.770002</td><td>264.659999</td><td>64.030001</td><td>35.05</td><td>26.88</td><td>656.390003</td></tr><tr><td>102</td><td>379.610005</td><td>456.78999</td><td>43.5</td><td>20.4</td><td>43.61</td><td>943.909995</td></tr><tr><td>103</td><td>532.500005</td><td>440.999996</td><td>76.400001</td><td>40.44</td><td>45.55</td><td>1135.890002</td></tr><tr><td>104</td><td>394.890003</td><td>233.189998</td><td>53.18</td><td>68.260001</td><td>36.679999</td><td>786.200002</td></tr></tbody></table></div>"
      ],
      "text/plain": [
       "shape: (104, 7)\n",
       "┌──────┬─────────────┬────────────┬───────────┬───────────┬───────────┬─────────────┐\n",
       "│ week ┆ Alpha       ┆ Bravo      ┆ Charlie   ┆ Delta     ┆ Other     ┆ Total       │\n",
       "│ ---  ┆ ---         ┆ ---        ┆ ---       ┆ ---       ┆ ---       ┆ ---         │\n",
       "│ i16  ┆ f64         ┆ f64        ┆ f64       ┆ f64       ┆ f64       ┆ f64         │\n",
       "╞══════╪═════════════╪════════════╪═══════════╪═══════════╪═══════════╪═════════════╡\n",
       "│ 1    ┆ 331.459999  ┆ 247.780003 ┆ 51.79     ┆ 17.64     ┆ 18.75     ┆ 667.420002  │\n",
       "│ 2    ┆ 567.249997  ┆ 398.640007 ┆ 45.43     ┆ 34.19     ┆ 23.23     ┆ 1068.740004 │\n",
       "│ 3    ┆ 497.969999  ┆ 639.980008 ┆ 51.11     ┆ 39.39     ┆ 14.55     ┆ 1243.000006 │\n",
       "│ 4    ┆ 1389.960004 ┆ 472.500004 ┆ 51.87     ┆ 85.04     ┆ 39.779999 ┆ 2039.150007 │\n",
       "│ 5    ┆ 358.239999  ┆ 252.540003 ┆ 40.21     ┆ 69.54     ┆ 45.93     ┆ 766.460002  │\n",
       "│ …    ┆ …           ┆ …          ┆ …         ┆ …         ┆ …         ┆ …           │\n",
       "│ 100  ┆ 692.480006  ┆ 420.479996 ┆ 69.600001 ┆ 54.590001 ┆ 47.97     ┆ 1285.120004 │\n",
       "│ 101  ┆ 265.770002  ┆ 264.659999 ┆ 64.030001 ┆ 35.05     ┆ 26.88     ┆ 656.390003  │\n",
       "│ 102  ┆ 379.610005  ┆ 456.78999  ┆ 43.5      ┆ 20.4      ┆ 43.61     ┆ 943.909995  │\n",
       "│ 103  ┆ 532.500005  ┆ 440.999996 ┆ 76.400001 ┆ 40.44     ┆ 45.55     ┆ 1135.890002 │\n",
       "│ 104  ┆ 394.890003  ┆ 233.189998 ┆ 53.18     ┆ 68.260001 ┆ 36.679999 ┆ 786.200002  │\n",
       "└──────┴─────────────┴────────────┴───────────┴───────────┴───────────┴─────────────┘"
      ]
     },
     "execution_count": 8,
     "metadata": {},
     "output_type": "execute_result"
    }
   ],
   "source": [
    "# Weekly Sales Pivot Table - Polars DataFrame\n",
    "# For visualizing, inspecting, and plotting\n",
    "weekly_sales_pivot = grocery_spend_brand.collect().pivot(\n",
    "    on=\"brand\",\n",
    "    index=\"week\",\n",
    "    values=\"Weekly Spend\",\n",
    "    sort_columns=True,\n",
    ").with_columns(\n",
    "    pl.sum_horizontal(pl.exclude('week')).cast(pl.Float64).alias(\"Total\") # Row total\n",
    ").sort(\"week\")\n",
    "\n",
    "weekly_sales_pivot"
   ]
  },
  {
   "cell_type": "code",
   "execution_count": 9,
   "metadata": {},
   "outputs": [
    {
     "data": {
      "application/vnd.jupyter.widget-view+json": {
       "model_id": "e2acc701564744a898b19bcd89aeeed0",
       "version_major": 2,
       "version_minor": 1
      },
      "text/plain": [
       "JupyterChart(spec={'config': {'view': {'continuousWidth': 300, 'continuousHeight': 300}}, 'layer': [{'mark': {…"
      ]
     },
     "execution_count": 9,
     "metadata": {},
     "output_type": "execute_result"
    }
   ],
   "source": [
    "weekly_plot(dataframe=weekly_sales_pivot, \n",
    "            cols=['Total'], \n",
    "            title='Category - Weekly Revenue', \n",
    "            y_axis_label='Spend ($)', \n",
    "            pct=False)"
   ]
  },
  {
   "cell_type": "code",
   "execution_count": 10,
   "metadata": {},
   "outputs": [
    {
     "data": {
      "application/vnd.jupyter.widget-view+json": {
       "model_id": "4bc361c87e064c95a3d480d8d7d1d2c5",
       "version_major": 2,
       "version_minor": 1
      },
      "text/plain": [
       "JupyterChart(spec={'config': {'view': {'continuousWidth': 300, 'continuousHeight': 300}}, 'layer': [{'mark': {…"
      ]
     },
     "execution_count": 10,
     "metadata": {},
     "output_type": "execute_result"
    }
   ],
   "source": [
    "weekly_plot(dataframe=weekly_sales_pivot, \n",
    "            cols=['Alpha'], \n",
    "            title='Alpha - Weekly Revenue', \n",
    "            y_axis_label='Spend ($)', \n",
    "            pct=False)"
   ]
  },
  {
   "cell_type": "code",
   "execution_count": 11,
   "metadata": {},
   "outputs": [
    {
     "data": {
      "application/vnd.jupyter.widget-view+json": {
       "model_id": "2e1b55bc613448d486cb37f31aae082f",
       "version_major": 2,
       "version_minor": 1
      },
      "text/plain": [
       "JupyterChart(spec={'config': {'view': {'continuousWidth': 300, 'continuousHeight': 300}}, 'layer': [{'mark': {…"
      ]
     },
     "execution_count": 11,
     "metadata": {},
     "output_type": "execute_result"
    }
   ],
   "source": [
    "weekly_plot(dataframe=weekly_sales_pivot, \n",
    "            cols=['Bravo'], \n",
    "            title='Bravo - Weekly Revenue', \n",
    "            y_axis_label='Spend ($)', \n",
    "            pct=False)"
   ]
  },
  {
   "cell_type": "markdown",
   "metadata": {},
   "source": [
    "#### Weekly (Volume) Market Share"
   ]
  },
  {
   "cell_type": "code",
   "execution_count": 12,
   "metadata": {},
   "outputs": [],
   "source": [
    "# Grocery Volume LazyFrame: Weekly 'volume' - units x weight = volume\n",
    "grocery_volume = (\n",
    "    grocery_lf\n",
    "    .join(\n",
    "        other=sku_lf,\n",
    "        left_on=\"sku_id\",\n",
    "        right_on=\"sku_id\"\n",
    "    )\n",
    "    .select(\n",
    "        ['week', 'units', 'brand', 'weight']\n",
    "    )\n",
    "    .with_columns(\n",
    "        # volume column that is the product of weight of each SKU and the units of SKU sold\n",
    "        (((pl.col('units') * pl.col('weight'))/1000).cast(pl.Float64)).alias('volume') # # weight from grams to kilograms\n",
    "    )\n",
    "    .group_by('week', 'brand')\n",
    "    .agg(\n",
    "        pl.col(\"volume\").sum().cast(pl.Float64).alias('Weekly Volume')\n",
    "    )\n",
    "    .sort('week')\n",
    ")"
   ]
  },
  {
   "cell_type": "code",
   "execution_count": 13,
   "metadata": {},
   "outputs": [
    {
     "data": {
      "text/html": [
       "<div><style>\n",
       ".dataframe > thead > tr,\n",
       ".dataframe > tbody > tr {\n",
       "  text-align: right;\n",
       "  white-space: pre-wrap;\n",
       "}\n",
       "</style>\n",
       "<small>shape: (104, 6)</small><table border=\"1\" class=\"dataframe\"><thead><tr><th>week</th><th>Alpha</th><th>Bravo</th><th>Charlie</th><th>Delta</th><th>Other</th></tr><tr><td>i16</td><td>f64</td><td>f64</td><td>f64</td><td>f64</td><td>f64</td></tr></thead><tbody><tr><td>1</td><td>0.481077</td><td>0.355011</td><td>0.11194</td><td>0.02532</td><td>0.026652</td></tr><tr><td>2</td><td>0.524953</td><td>0.371525</td><td>0.059391</td><td>0.029696</td><td>0.014435</td></tr><tr><td>3</td><td>0.389338</td><td>0.508812</td><td>0.060676</td><td>0.032505</td><td>0.008668</td></tr><tr><td>4</td><td>0.677032</td><td>0.230511</td><td>0.036686</td><td>0.044984</td><td>0.010787</td></tr><tr><td>5</td><td>0.428735</td><td>0.324306</td><td>0.07574</td><td>0.119348</td><td>0.051871</td></tr><tr><td>&hellip;</td><td>&hellip;</td><td>&hellip;</td><td>&hellip;</td><td>&hellip;</td><td>&hellip;</td></tr><tr><td>100</td><td>0.545707</td><td>0.31711</td><td>0.080381</td><td>0.039087</td><td>0.017715</td></tr><tr><td>101</td><td>0.36891</td><td>0.40552</td><td>0.140805</td><td>0.059138</td><td>0.025627</td></tr><tr><td>102</td><td>0.342581</td><td>0.543494</td><td>0.071147</td><td>0.019689</td><td>0.023089</td></tr><tr><td>103</td><td>0.424609</td><td>0.415495</td><td>0.100574</td><td>0.042429</td><td>0.016893</td></tr><tr><td>104</td><td>0.457298</td><td>0.290104</td><td>0.110032</td><td>0.112969</td><td>0.029598</td></tr></tbody></table></div>"
      ],
      "text/plain": [
       "shape: (104, 6)\n",
       "┌──────┬──────────┬──────────┬──────────┬──────────┬──────────┐\n",
       "│ week ┆ Alpha    ┆ Bravo    ┆ Charlie  ┆ Delta    ┆ Other    │\n",
       "│ ---  ┆ ---      ┆ ---      ┆ ---      ┆ ---      ┆ ---      │\n",
       "│ i16  ┆ f64      ┆ f64      ┆ f64      ┆ f64      ┆ f64      │\n",
       "╞══════╪══════════╪══════════╪══════════╪══════════╪══════════╡\n",
       "│ 1    ┆ 0.481077 ┆ 0.355011 ┆ 0.11194  ┆ 0.02532  ┆ 0.026652 │\n",
       "│ 2    ┆ 0.524953 ┆ 0.371525 ┆ 0.059391 ┆ 0.029696 ┆ 0.014435 │\n",
       "│ 3    ┆ 0.389338 ┆ 0.508812 ┆ 0.060676 ┆ 0.032505 ┆ 0.008668 │\n",
       "│ 4    ┆ 0.677032 ┆ 0.230511 ┆ 0.036686 ┆ 0.044984 ┆ 0.010787 │\n",
       "│ 5    ┆ 0.428735 ┆ 0.324306 ┆ 0.07574  ┆ 0.119348 ┆ 0.051871 │\n",
       "│ …    ┆ …        ┆ …        ┆ …        ┆ …        ┆ …        │\n",
       "│ 100  ┆ 0.545707 ┆ 0.31711  ┆ 0.080381 ┆ 0.039087 ┆ 0.017715 │\n",
       "│ 101  ┆ 0.36891  ┆ 0.40552  ┆ 0.140805 ┆ 0.059138 ┆ 0.025627 │\n",
       "│ 102  ┆ 0.342581 ┆ 0.543494 ┆ 0.071147 ┆ 0.019689 ┆ 0.023089 │\n",
       "│ 103  ┆ 0.424609 ┆ 0.415495 ┆ 0.100574 ┆ 0.042429 ┆ 0.016893 │\n",
       "│ 104  ┆ 0.457298 ┆ 0.290104 ┆ 0.110032 ┆ 0.112969 ┆ 0.029598 │\n",
       "└──────┴──────────┴──────────┴──────────┴──────────┴──────────┘"
      ]
     },
     "execution_count": 13,
     "metadata": {},
     "output_type": "execute_result"
    }
   ],
   "source": [
    "# Weekly (volume) market share\n",
    "pct_volume =(\n",
    "    grocery_volume\n",
    "    .collect()\n",
    "    .pivot(\n",
    "        on='brand',\n",
    "        index='week',\n",
    "        values='Weekly Volume',\n",
    "        sort_columns=True\n",
    "    )\n",
    "    .with_columns(\n",
    "        (pl.col(\"*\").exclude(\"week\")) / pl.sum_horizontal(pl.exclude('week')).cast(pl.Float64)\n",
    "    )\n",
    ")\n",
    "\n",
    "pct_volume"
   ]
  },
  {
   "cell_type": "code",
   "execution_count": 14,
   "metadata": {},
   "outputs": [
    {
     "data": {
      "application/vnd.jupyter.widget-view+json": {
       "model_id": "d1261e1806fa4819b9a53ebf8879c4fe",
       "version_major": 2,
       "version_minor": 1
      },
      "text/plain": [
       "JupyterChart(spec={'config': {'view': {'continuousWidth': 300, 'continuousHeight': 300}}, 'layer': [{'mark': {…"
      ]
     },
     "execution_count": 14,
     "metadata": {},
     "output_type": "execute_result"
    }
   ],
   "source": [
    "weekly_plot(dataframe=pct_volume, \n",
    "            cols=['Alpha', 'Bravo'], \n",
    "            title='Volume Market Share - Alpha vs. Bravo', \n",
    "            y_axis_label='% of Total Volume', \n",
    "            pct=True,\n",
    "            colors=['blue', 'red'])"
   ]
  },
  {
   "cell_type": "code",
   "execution_count": 23,
   "metadata": {},
   "outputs": [
    {
     "data": {
      "text/html": [
       "<div id=\"aellqcvkor\" style=\"padding-left:0px;padding-right:0px;padding-top:10px;padding-bottom:10px;overflow-x:auto;overflow-y:auto;width:auto;height:auto;\">\n",
       "<style>\n",
       "#aellqcvkor table {\n",
       "          font-family: -apple-system, BlinkMacSystemFont, 'Segoe UI', Roboto, Oxygen, Ubuntu, Cantarell, 'Helvetica Neue', 'Fira Sans', 'Droid Sans', Arial, sans-serif;\n",
       "          -webkit-font-smoothing: antialiased;\n",
       "          -moz-osx-font-smoothing: grayscale;\n",
       "        }\n",
       "\n",
       "#aellqcvkor thead, tbody, tfoot, tr, td, th { border-style: none !important; }\n",
       " tr { background-color: transparent !important; }\n",
       "#aellqcvkor p { margin: 0 !important; padding: 0 !important; }\n",
       " #aellqcvkor .gt_table { display: table !important; border-collapse: collapse !important; line-height: normal !important; margin-left: auto !important; margin-right: auto !important; color: #333333 !important; font-size: 16px !important; font-weight: normal !important; font-style: normal !important; background-color: #FFFFFF !important; width: auto !important; border-top-style: solid !important; border-top-width: 2px !important; border-top-color: #A8A8A8 !important; border-right-style: none !important; border-right-width: 2px !important; border-right-color: #D3D3D3 !important; border-bottom-style: solid !important; border-bottom-width: 2px !important; border-bottom-color: #A8A8A8 !important; border-left-style: none !important; border-left-width: 2px !important; border-left-color: #D3D3D3 !important; }\n",
       " #aellqcvkor .gt_caption { padding-top: 4px !important; padding-bottom: 4px !important; }\n",
       " #aellqcvkor .gt_title { color: #333333 !important; font-size: 125% !important; font-weight: initial !important; padding-top: 4px !important; padding-bottom: 4px !important; padding-left: 5px !important; padding-right: 5px !important; border-bottom-color: #FFFFFF !important; border-bottom-width: 0 !important; }\n",
       " #aellqcvkor .gt_subtitle { color: #333333 !important; font-size: 85% !important; font-weight: initial !important; padding-top: 3px !important; padding-bottom: 5px !important; padding-left: 5px !important; padding-right: 5px !important; border-top-color: #FFFFFF !important; border-top-width: 0 !important; }\n",
       " #aellqcvkor .gt_heading { background-color: #FFFFFF !important; text-align: center !important; border-bottom-color: #FFFFFF !important; border-left-style: none !important; border-left-width: 1px !important; border-left-color: #D3D3D3 !important; border-right-style: none !important; border-right-width: 1px !important; border-right-color: #D3D3D3 !important; }\n",
       " #aellqcvkor .gt_bottom_border { border-bottom-style: solid !important; border-bottom-width: 2px !important; border-bottom-color: #D3D3D3 !important; }\n",
       " #aellqcvkor .gt_col_headings { border-top-style: solid !important; border-top-width: 2px !important; border-top-color: #D3D3D3 !important; border-bottom-style: solid !important; border-bottom-width: 2px !important; border-bottom-color: #D3D3D3 !important; border-left-style: none !important; border-left-width: 1px !important; border-left-color: #D3D3D3 !important; border-right-style: none !important; border-right-width: 1px !important; border-right-color: #D3D3D3 !important; }\n",
       " #aellqcvkor .gt_col_heading { color: #333333 !important; background-color: #FFFFFF !important; font-size: 100% !important; font-weight: normal !important; text-transform: inherit !important; border-left-style: none !important; border-left-width: 1px !important; border-left-color: #D3D3D3 !important; border-right-style: none !important; border-right-width: 1px !important; border-right-color: #D3D3D3 !important; vertical-align: bottom !important; padding-top: 5px !important; padding-bottom: 5px !important; padding-left: 5px !important; padding-right: 5px !important; overflow-x: hidden !important; }\n",
       " #aellqcvkor .gt_column_spanner_outer { color: #333333 !important; background-color: #FFFFFF !important; font-size: 100% !important; font-weight: normal !important; text-transform: inherit !important; padding-top: 0 !important; padding-bottom: 0 !important; padding-left: 4px !important; padding-right: 4px !important; }\n",
       " #aellqcvkor .gt_column_spanner_outer:first-child { padding-left: 0 !important; }\n",
       " #aellqcvkor .gt_column_spanner_outer:last-child { padding-right: 0 !important; }\n",
       " #aellqcvkor .gt_column_spanner { border-bottom-style: solid !important; border-bottom-width: 2px !important; border-bottom-color: #D3D3D3 !important; vertical-align: bottom !important; padding-top: 5px !important; padding-bottom: 5px !important; overflow-x: hidden !important; display: inline-block !important; width: 100% !important; }\n",
       " #aellqcvkor .gt_spanner_row { border-bottom-style: hidden !important; }\n",
       " #aellqcvkor .gt_group_heading { padding-top: 8px !important; padding-bottom: 8px !important; padding-left: 5px !important; padding-right: 5px !important; color: #333333 !important; background-color: #FFFFFF !important; font-size: 100% !important; font-weight: initial !important; text-transform: inherit !important; border-top-style: solid !important; border-top-width: 2px !important; border-top-color: #D3D3D3 !important; border-bottom-style: solid !important; border-bottom-width: 2px !important; border-bottom-color: #D3D3D3 !important; border-left-style: none !important; border-left-width: 1px !important; border-left-color: #D3D3D3 !important; border-right-style: none !important; border-right-width: 1px !important; border-right-color: #D3D3D3 !important; vertical-align: middle !important; text-align: left !important; }\n",
       " #aellqcvkor .gt_empty_group_heading { padding: 0.5px !important; color: #333333 !important; background-color: #FFFFFF !important; font-size: 100% !important; font-weight: initial !important; border-top-style: solid !important; border-top-width: 2px !important; border-top-color: #D3D3D3 !important; border-bottom-style: solid !important; border-bottom-width: 2px !important; border-bottom-color: #D3D3D3 !important; vertical-align: middle !important; }\n",
       " #aellqcvkor .gt_from_md> :first-child { margin-top: 0 !important; }\n",
       " #aellqcvkor .gt_from_md> :last-child { margin-bottom: 0 !important; }\n",
       " #aellqcvkor .gt_row { padding-top: 8px !important; padding-bottom: 8px !important; padding-left: 5px !important; padding-right: 5px !important; margin: 10px !important; border-top-style: solid !important; border-top-width: 1px !important; border-top-color: #D3D3D3 !important; border-left-style: none !important; border-left-width: 1px !important; border-left-color: #D3D3D3 !important; border-right-style: none !important; border-right-width: 1px !important; border-right-color: #D3D3D3 !important; vertical-align: middle !important; overflow-x: hidden !important; }\n",
       " #aellqcvkor .gt_stub { color: #333333 !important; background-color: #FFFFFF !important; font-size: 100% !important; font-weight: initial !important; text-transform: inherit !important; border-right-style: solid !important; border-right-width: 2px !important; border-right-color: #D3D3D3 !important; padding-left: 5px !important; padding-right: 5px !important; }\n",
       " #aellqcvkor .gt_stub_row_group { color: #333333 !important; background-color: #FFFFFF !important; font-size: 100% !important; font-weight: initial !important; text-transform: inherit !important; border-right-style: solid !important; border-right-width: 2px !important; border-right-color: #D3D3D3 !important; padding-left: 5px !important; padding-right: 5px !important; vertical-align: top !important; }\n",
       " #aellqcvkor .gt_row_group_first td { border-top-width: 2px !important; }\n",
       " #aellqcvkor .gt_row_group_first th { border-top-width: 2px !important; }\n",
       " #aellqcvkor .gt_striped { background-color: rgba(128,128,128,0.05) !important; }\n",
       " #aellqcvkor .gt_table_body { border-top-style: solid !important; border-top-width: 2px !important; border-top-color: #D3D3D3 !important; border-bottom-style: solid !important; border-bottom-width: 2px !important; border-bottom-color: #D3D3D3 !important; }\n",
       " #aellqcvkor .gt_sourcenotes { color: #333333 !important; background-color: #FFFFFF !important; border-bottom-style: none !important; border-bottom-width: 2px !important; border-bottom-color: #D3D3D3 !important; border-left-style: none !important; border-left-width: 2px !important; border-left-color: #D3D3D3 !important; border-right-style: none !important; border-right-width: 2px !important; border-right-color: #D3D3D3 !important; }\n",
       " #aellqcvkor .gt_sourcenote { font-size: 90% !important; padding-top: 4px !important; padding-bottom: 4px !important; padding-left: 5px !important; padding-right: 5px !important; text-align: left !important; }\n",
       " #aellqcvkor .gt_left { text-align: left !important; }\n",
       " #aellqcvkor .gt_center { text-align: center !important; }\n",
       " #aellqcvkor .gt_right { text-align: right !important; font-variant-numeric: tabular-nums !important; }\n",
       " #aellqcvkor .gt_font_normal { font-weight: normal !important; }\n",
       " #aellqcvkor .gt_font_bold { font-weight: bold !important; }\n",
       " #aellqcvkor .gt_font_italic { font-style: italic !important; }\n",
       " #aellqcvkor .gt_super { font-size: 65% !important; }\n",
       " #aellqcvkor .gt_footnote_marks { font-size: 75% !important; vertical-align: 0.4em !important; position: initial !important; }\n",
       " #aellqcvkor .gt_asterisk { font-size: 100% !important; vertical-align: 0 !important; }\n",
       " \n",
       "</style>\n",
       "<table class=\"gt_table\" data-quarto-disable-processing=\"false\" data-quarto-bootstrap=\"false\">\n",
       "<thead>\n",
       "\n",
       "  <tr class=\"gt_heading\">\n",
       "    <td colspan=\"6\" class=\"gt_heading gt_title gt_font_normal\">Correlation Matrix of Weekly (Volume) Market Share</td>\n",
       "  </tr>\n",
       "<tr class=\"gt_col_headings\">\n",
       "  <th class=\"gt_col_heading gt_columns_bottom_border gt_left\" rowspan=\"1\" colspan=\"1\" scope=\"col\" id=\"\"></th>\n",
       "  <th class=\"gt_col_heading gt_columns_bottom_border gt_right\" rowspan=\"1\" colspan=\"1\" scope=\"col\" id=\"Alpha\">Alpha</th>\n",
       "  <th class=\"gt_col_heading gt_columns_bottom_border gt_right\" rowspan=\"1\" colspan=\"1\" scope=\"col\" id=\"Bravo\">Bravo</th>\n",
       "  <th class=\"gt_col_heading gt_columns_bottom_border gt_right\" rowspan=\"1\" colspan=\"1\" scope=\"col\" id=\"Charlie\">Charlie</th>\n",
       "  <th class=\"gt_col_heading gt_columns_bottom_border gt_right\" rowspan=\"1\" colspan=\"1\" scope=\"col\" id=\"Delta\">Delta</th>\n",
       "  <th class=\"gt_col_heading gt_columns_bottom_border gt_right\" rowspan=\"1\" colspan=\"1\" scope=\"col\" id=\"Other\">Other</th>\n",
       "</tr>\n",
       "</thead>\n",
       "<tbody class=\"gt_table_body\">\n",
       "  <tr>\n",
       "    <th style=\"color: #000000; background-color: #808080;\" class=\"gt_row gt_left gt_stub\">Alpha</th>\n",
       "    <td style=\"color: #000000; background-color: #ffa500;\" class=\"gt_row gt_right\">1.00</td>\n",
       "    <td style=\"color: #FFFFFF; background-color: #7c51a8;\" class=\"gt_row gt_right\">−0.85</td>\n",
       "    <td style=\"color: #000000; background-color: #cbb9dc;\" class=\"gt_row gt_right\">−0.34</td>\n",
       "    <td style=\"color: #000000; background-color: #eee9f4;\" class=\"gt_row gt_right\">−0.11</td>\n",
       "    <td style=\"color: #000000; background-color: #e8e1f0;\" class=\"gt_row gt_right\">−0.15</td>\n",
       "  </tr>\n",
       "  <tr>\n",
       "    <th style=\"color: #000000; background-color: #808080;\" class=\"gt_row gt_left gt_stub\">Bravo</th>\n",
       "    <td style=\"color: #FFFFFF; background-color: #7c51a8;\" class=\"gt_row gt_right\">−0.85</td>\n",
       "    <td style=\"color: #000000; background-color: #ffa500;\" class=\"gt_row gt_right\">1.00</td>\n",
       "    <td style=\"color: #000000; background-color: #eee8f3;\" class=\"gt_row gt_right\">−0.11</td>\n",
       "    <td style=\"color: #000000; background-color: #dcd0e7;\" class=\"gt_row gt_right\">−0.23</td>\n",
       "    <td style=\"color: #000000; background-color: #efeaf4;\" class=\"gt_row gt_right\">−0.10</td>\n",
       "  </tr>\n",
       "  <tr>\n",
       "    <th style=\"color: #000000; background-color: #808080;\" class=\"gt_row gt_left gt_stub\">Charlie</th>\n",
       "    <td style=\"color: #000000; background-color: #cbb9dc;\" class=\"gt_row gt_right\">−0.34</td>\n",
       "    <td style=\"color: #000000; background-color: #eee8f3;\" class=\"gt_row gt_right\">−0.11</td>\n",
       "    <td style=\"color: #000000; background-color: #ffa500;\" class=\"gt_row gt_right\">1.00</td>\n",
       "    <td style=\"color: #000000; background-color: #fff3dd;\" class=\"gt_row gt_right\">0.13</td>\n",
       "    <td style=\"color: #000000; background-color: #ffe9c1;\" class=\"gt_row gt_right\">0.24</td>\n",
       "  </tr>\n",
       "  <tr>\n",
       "    <th style=\"color: #000000; background-color: #808080;\" class=\"gt_row gt_left gt_stub\">Delta</th>\n",
       "    <td style=\"color: #000000; background-color: #eee9f4;\" class=\"gt_row gt_right\">−0.11</td>\n",
       "    <td style=\"color: #000000; background-color: #dcd0e7;\" class=\"gt_row gt_right\">−0.23</td>\n",
       "    <td style=\"color: #000000; background-color: #fff3dd;\" class=\"gt_row gt_right\">0.13</td>\n",
       "    <td style=\"color: #000000; background-color: #ffa500;\" class=\"gt_row gt_right\">1.00</td>\n",
       "    <td style=\"color: #000000; background-color: #ffe3b0;\" class=\"gt_row gt_right\">0.31</td>\n",
       "  </tr>\n",
       "  <tr>\n",
       "    <th style=\"color: #000000; background-color: #808080;\" class=\"gt_row gt_left gt_stub\">Other</th>\n",
       "    <td style=\"color: #000000; background-color: #e8e1f0;\" class=\"gt_row gt_right\">−0.15</td>\n",
       "    <td style=\"color: #000000; background-color: #efeaf4;\" class=\"gt_row gt_right\">−0.10</td>\n",
       "    <td style=\"color: #000000; background-color: #ffe9c1;\" class=\"gt_row gt_right\">0.24</td>\n",
       "    <td style=\"color: #000000; background-color: #ffe3b0;\" class=\"gt_row gt_right\">0.31</td>\n",
       "    <td style=\"color: #000000; background-color: #ffa500;\" class=\"gt_row gt_right\">1.00</td>\n",
       "  </tr>\n",
       "</tbody>\n",
       "\n",
       "\n",
       "</table>\n",
       "\n",
       "</div>\n",
       "        "
      ],
      "text/plain": [
       "GT(_tbl_data=shape: (5, 6)\n",
       "┌───────────┬───────────┬───────────┬───────────┬───────────┬─────────┐\n",
       "│ Alpha     ┆ Bravo     ┆ Charlie   ┆ Delta     ┆ Other     ┆ index   │\n",
       "│ ---       ┆ ---       ┆ ---       ┆ ---       ┆ ---       ┆ ---     │\n",
       "│ f64       ┆ f64       ┆ f64       ┆ f64       ┆ f64       ┆ str     │\n",
       "╞═══════════╪═══════════╪═══════════╪═══════════╪═══════════╪═════════╡\n",
       "│ 1.0       ┆ -0.853061 ┆ -0.34158  ┆ -0.109693 ┆ -0.148193 ┆ Alpha   │\n",
       "│ -0.853061 ┆ 1.0       ┆ -0.114179 ┆ -0.231641 ┆ -0.104983 ┆ Bravo   │\n",
       "│ -0.34158  ┆ -0.114179 ┆ 1.0       ┆ 0.131988  ┆ 0.243434  ┆ Charlie │\n",
       "│ -0.109693 ┆ -0.231641 ┆ 0.131988  ┆ 1.0       ┆ 0.308354  ┆ Delta   │\n",
       "│ -0.148193 ┆ -0.104983 ┆ 0.243434  ┆ 0.308354  ┆ 1.0       ┆ Other   │\n",
       "└───────────┴───────────┴───────────┴───────────┴───────────┴─────────┘, _body=<great_tables._gt_data.Body object at 0x0000022920FD2AB0>, _boxhead=Boxhead([ColInfo(var='Alpha', type=<ColInfoTypeEnum.default: 1>, column_label='Alpha', column_align='right', column_width=None), ColInfo(var='Bravo', type=<ColInfoTypeEnum.default: 1>, column_label='Bravo', column_align='right', column_width=None), ColInfo(var='Charlie', type=<ColInfoTypeEnum.default: 1>, column_label='Charlie', column_align='right', column_width=None), ColInfo(var='Delta', type=<ColInfoTypeEnum.default: 1>, column_label='Delta', column_align='right', column_width=None), ColInfo(var='Other', type=<ColInfoTypeEnum.default: 1>, column_label='Other', column_align='right', column_width=None), ColInfo(var='index', type=<ColInfoTypeEnum.stub: 2>, column_label='index', column_align='left', column_width=None)]), _stub=<great_tables._gt_data.Stub object at 0x0000022920FD14C0>, _spanners=Spanners([]), _heading=Heading(title='Correlation Matrix of Weekly (Volume) Market Share', subtitle=None, preheader=None), _stubhead=None, _source_notes=[], _footnotes=[], _styles=[StyleInfo(locname=LocBody(columns='Alpha', rows=[0]), grpname=None, colname='Alpha', rownum=0, colnum=None, styles=[CellStyleText(color='#000000', font=None, size=None, align=None, v_align=None, style=None, weight=None, stretch=None, decorate=None, transform=None, whitespace=None), CellStyleFill(color='#ffa500')]), StyleInfo(locname=LocBody(columns='Alpha', rows=[1]), grpname=None, colname='Alpha', rownum=1, colnum=None, styles=[CellStyleText(color='#FFFFFF', font=None, size=None, align=None, v_align=None, style=None, weight=None, stretch=None, decorate=None, transform=None, whitespace=None), CellStyleFill(color='#7c51a8')]), StyleInfo(locname=LocBody(columns='Alpha', rows=[2]), grpname=None, colname='Alpha', rownum=2, colnum=None, styles=[CellStyleText(color='#000000', font=None, size=None, align=None, v_align=None, style=None, weight=None, stretch=None, decorate=None, transform=None, whitespace=None), CellStyleFill(color='#cbb9dc')]), StyleInfo(locname=LocBody(columns='Alpha', rows=[3]), grpname=None, colname='Alpha', rownum=3, colnum=None, styles=[CellStyleText(color='#000000', font=None, size=None, align=None, v_align=None, style=None, weight=None, stretch=None, decorate=None, transform=None, whitespace=None), CellStyleFill(color='#eee9f4')]), StyleInfo(locname=LocBody(columns='Alpha', rows=[4]), grpname=None, colname='Alpha', rownum=4, colnum=None, styles=[CellStyleText(color='#000000', font=None, size=None, align=None, v_align=None, style=None, weight=None, stretch=None, decorate=None, transform=None, whitespace=None), CellStyleFill(color='#e8e1f0')]), StyleInfo(locname=LocBody(columns='Bravo', rows=[0]), grpname=None, colname='Bravo', rownum=0, colnum=None, styles=[CellStyleText(color='#FFFFFF', font=None, size=None, align=None, v_align=None, style=None, weight=None, stretch=None, decorate=None, transform=None, whitespace=None), CellStyleFill(color='#7c51a8')]), StyleInfo(locname=LocBody(columns='Bravo', rows=[1]), grpname=None, colname='Bravo', rownum=1, colnum=None, styles=[CellStyleText(color='#000000', font=None, size=None, align=None, v_align=None, style=None, weight=None, stretch=None, decorate=None, transform=None, whitespace=None), CellStyleFill(color='#ffa500')]), StyleInfo(locname=LocBody(columns='Bravo', rows=[2]), grpname=None, colname='Bravo', rownum=2, colnum=None, styles=[CellStyleText(color='#000000', font=None, size=None, align=None, v_align=None, style=None, weight=None, stretch=None, decorate=None, transform=None, whitespace=None), CellStyleFill(color='#eee8f3')]), StyleInfo(locname=LocBody(columns='Bravo', rows=[3]), grpname=None, colname='Bravo', rownum=3, colnum=None, styles=[CellStyleText(color='#000000', font=None, size=None, align=None, v_align=None, style=None, weight=None, stretch=None, decorate=None, transform=None, whitespace=None), CellStyleFill(color='#dcd0e7')]), StyleInfo(locname=LocBody(columns='Bravo', rows=[4]), grpname=None, colname='Bravo', rownum=4, colnum=None, styles=[CellStyleText(color='#000000', font=None, size=None, align=None, v_align=None, style=None, weight=None, stretch=None, decorate=None, transform=None, whitespace=None), CellStyleFill(color='#efeaf4')]), StyleInfo(locname=LocBody(columns='Charlie', rows=[0]), grpname=None, colname='Charlie', rownum=0, colnum=None, styles=[CellStyleText(color='#000000', font=None, size=None, align=None, v_align=None, style=None, weight=None, stretch=None, decorate=None, transform=None, whitespace=None), CellStyleFill(color='#cbb9dc')]), StyleInfo(locname=LocBody(columns='Charlie', rows=[1]), grpname=None, colname='Charlie', rownum=1, colnum=None, styles=[CellStyleText(color='#000000', font=None, size=None, align=None, v_align=None, style=None, weight=None, stretch=None, decorate=None, transform=None, whitespace=None), CellStyleFill(color='#eee8f3')]), StyleInfo(locname=LocBody(columns='Charlie', rows=[2]), grpname=None, colname='Charlie', rownum=2, colnum=None, styles=[CellStyleText(color='#000000', font=None, size=None, align=None, v_align=None, style=None, weight=None, stretch=None, decorate=None, transform=None, whitespace=None), CellStyleFill(color='#ffa500')]), StyleInfo(locname=LocBody(columns='Charlie', rows=[3]), grpname=None, colname='Charlie', rownum=3, colnum=None, styles=[CellStyleText(color='#000000', font=None, size=None, align=None, v_align=None, style=None, weight=None, stretch=None, decorate=None, transform=None, whitespace=None), CellStyleFill(color='#fff3dd')]), StyleInfo(locname=LocBody(columns='Charlie', rows=[4]), grpname=None, colname='Charlie', rownum=4, colnum=None, styles=[CellStyleText(color='#000000', font=None, size=None, align=None, v_align=None, style=None, weight=None, stretch=None, decorate=None, transform=None, whitespace=None), CellStyleFill(color='#ffe9c1')]), StyleInfo(locname=LocBody(columns='Delta', rows=[0]), grpname=None, colname='Delta', rownum=0, colnum=None, styles=[CellStyleText(color='#000000', font=None, size=None, align=None, v_align=None, style=None, weight=None, stretch=None, decorate=None, transform=None, whitespace=None), CellStyleFill(color='#eee9f4')]), StyleInfo(locname=LocBody(columns='Delta', rows=[1]), grpname=None, colname='Delta', rownum=1, colnum=None, styles=[CellStyleText(color='#000000', font=None, size=None, align=None, v_align=None, style=None, weight=None, stretch=None, decorate=None, transform=None, whitespace=None), CellStyleFill(color='#dcd0e7')]), StyleInfo(locname=LocBody(columns='Delta', rows=[2]), grpname=None, colname='Delta', rownum=2, colnum=None, styles=[CellStyleText(color='#000000', font=None, size=None, align=None, v_align=None, style=None, weight=None, stretch=None, decorate=None, transform=None, whitespace=None), CellStyleFill(color='#fff3dd')]), StyleInfo(locname=LocBody(columns='Delta', rows=[3]), grpname=None, colname='Delta', rownum=3, colnum=None, styles=[CellStyleText(color='#000000', font=None, size=None, align=None, v_align=None, style=None, weight=None, stretch=None, decorate=None, transform=None, whitespace=None), CellStyleFill(color='#ffa500')]), StyleInfo(locname=LocBody(columns='Delta', rows=[4]), grpname=None, colname='Delta', rownum=4, colnum=None, styles=[CellStyleText(color='#000000', font=None, size=None, align=None, v_align=None, style=None, weight=None, stretch=None, decorate=None, transform=None, whitespace=None), CellStyleFill(color='#ffe3b0')]), StyleInfo(locname=LocBody(columns='Other', rows=[0]), grpname=None, colname='Other', rownum=0, colnum=None, styles=[CellStyleText(color='#000000', font=None, size=None, align=None, v_align=None, style=None, weight=None, stretch=None, decorate=None, transform=None, whitespace=None), CellStyleFill(color='#e8e1f0')]), StyleInfo(locname=LocBody(columns='Other', rows=[1]), grpname=None, colname='Other', rownum=1, colnum=None, styles=[CellStyleText(color='#000000', font=None, size=None, align=None, v_align=None, style=None, weight=None, stretch=None, decorate=None, transform=None, whitespace=None), CellStyleFill(color='#efeaf4')]), StyleInfo(locname=LocBody(columns='Other', rows=[2]), grpname=None, colname='Other', rownum=2, colnum=None, styles=[CellStyleText(color='#000000', font=None, size=None, align=None, v_align=None, style=None, weight=None, stretch=None, decorate=None, transform=None, whitespace=None), CellStyleFill(color='#ffe9c1')]), StyleInfo(locname=LocBody(columns='Other', rows=[3]), grpname=None, colname='Other', rownum=3, colnum=None, styles=[CellStyleText(color='#000000', font=None, size=None, align=None, v_align=None, style=None, weight=None, stretch=None, decorate=None, transform=None, whitespace=None), CellStyleFill(color='#ffe3b0')]), StyleInfo(locname=LocBody(columns='Other', rows=[4]), grpname=None, colname='Other', rownum=4, colnum=None, styles=[CellStyleText(color='#000000', font=None, size=None, align=None, v_align=None, style=None, weight=None, stretch=None, decorate=None, transform=None, whitespace=None), CellStyleFill(color='#ffa500')]), StyleInfo(locname=LocBody(columns='index', rows=[0]), grpname=None, colname='index', rownum=0, colnum=None, styles=[CellStyleText(color='#000000', font=None, size=None, align=None, v_align=None, style=None, weight=None, stretch=None, decorate=None, transform=None, whitespace=None), CellStyleFill(color='#808080')]), StyleInfo(locname=LocBody(columns='index', rows=[1]), grpname=None, colname='index', rownum=1, colnum=None, styles=[CellStyleText(color='#000000', font=None, size=None, align=None, v_align=None, style=None, weight=None, stretch=None, decorate=None, transform=None, whitespace=None), CellStyleFill(color='#808080')]), StyleInfo(locname=LocBody(columns='index', rows=[2]), grpname=None, colname='index', rownum=2, colnum=None, styles=[CellStyleText(color='#000000', font=None, size=None, align=None, v_align=None, style=None, weight=None, stretch=None, decorate=None, transform=None, whitespace=None), CellStyleFill(color='#808080')]), StyleInfo(locname=LocBody(columns='index', rows=[3]), grpname=None, colname='index', rownum=3, colnum=None, styles=[CellStyleText(color='#000000', font=None, size=None, align=None, v_align=None, style=None, weight=None, stretch=None, decorate=None, transform=None, whitespace=None), CellStyleFill(color='#808080')]), StyleInfo(locname=LocBody(columns='index', rows=[4]), grpname=None, colname='index', rownum=4, colnum=None, styles=[CellStyleText(color='#000000', font=None, size=None, align=None, v_align=None, style=None, weight=None, stretch=None, decorate=None, transform=None, whitespace=None), CellStyleFill(color='#808080')])], _locale=<great_tables._gt_data.Locale object at 0x0000022920FD5850>, _formats=[<great_tables._gt_data.FormatInfo object at 0x0000022920FD6AE0>], _substitutions=[], _options=Options(table_id=OptionsInfo(scss=False, category='table', type='value', value=None), table_caption=OptionsInfo(scss=False, category='table', type='value', value=None), table_width=OptionsInfo(scss=True, category='table', type='px', value='auto'), table_layout=OptionsInfo(scss=True, category='table', type='value', value='fixed'), table_margin_left=OptionsInfo(scss=True, category='table', type='px', value='auto'), table_margin_right=OptionsInfo(scss=True, category='table', type='px', value='auto'), table_background_color=OptionsInfo(scss=True, category='table', type='value', value='#FFFFFF'), table_additional_css=OptionsInfo(scss=False, category='table', type='values', value=[]), table_font_names=OptionsInfo(scss=False, category='table', type='values', value=['-apple-system', 'BlinkMacSystemFont', 'Segoe UI', 'Roboto', 'Oxygen', 'Ubuntu', 'Cantarell', 'Helvetica Neue', 'Fira Sans', 'Droid Sans', 'Arial', 'sans-serif']), table_font_size=OptionsInfo(scss=True, category='table', type='px', value='16px'), table_font_weight=OptionsInfo(scss=True, category='table', type='value', value='normal'), table_font_style=OptionsInfo(scss=True, category='table', type='value', value='normal'), table_font_color=OptionsInfo(scss=True, category='table', type='value', value='#333333'), table_font_color_light=OptionsInfo(scss=True, category='table', type='value', value='#FFFFFF'), table_border_top_include=OptionsInfo(scss=False, category='table', type='boolean', value=True), table_border_top_style=OptionsInfo(scss=True, category='table', type='value', value='solid'), table_border_top_width=OptionsInfo(scss=True, category='table', type='px', value='2px'), table_border_top_color=OptionsInfo(scss=True, category='table', type='value', value='#A8A8A8'), table_border_right_style=OptionsInfo(scss=True, category='table', type='value', value='none'), table_border_right_width=OptionsInfo(scss=True, category='table', type='px', value='2px'), table_border_right_color=OptionsInfo(scss=True, category='table', type='value', value='#D3D3D3'), table_border_bottom_include=OptionsInfo(scss=False, category='table', type='boolean', value=True), table_border_bottom_style=OptionsInfo(scss=True, category='table', type='value', value='solid'), table_border_bottom_width=OptionsInfo(scss=True, category='table', type='px', value='2px'), table_border_bottom_color=OptionsInfo(scss=True, category='table', type='value', value='#A8A8A8'), table_border_left_style=OptionsInfo(scss=True, category='table', type='value', value='none'), table_border_left_width=OptionsInfo(scss=True, category='table', type='px', value='2px'), table_border_left_color=OptionsInfo(scss=True, category='table', type='value', value='#D3D3D3'), heading_background_color=OptionsInfo(scss=True, category='heading', type='value', value=None), heading_align=OptionsInfo(scss=True, category='heading', type='value', value='center'), heading_title_font_size=OptionsInfo(scss=True, category='heading', type='px', value='125%'), heading_title_font_weight=OptionsInfo(scss=True, category='heading', type='value', value='initial'), heading_subtitle_font_size=OptionsInfo(scss=True, category='heading', type='px', value='85%'), heading_subtitle_font_weight=OptionsInfo(scss=True, category='heading', type='value', value='initial'), heading_padding=OptionsInfo(scss=True, category='heading', type='px', value='4px'), heading_padding_horizontal=OptionsInfo(scss=True, category='heading', type='px', value='5px'), heading_border_bottom_style=OptionsInfo(scss=True, category='heading', type='value', value='solid'), heading_border_bottom_width=OptionsInfo(scss=True, category='heading', type='px', value='2px'), heading_border_bottom_color=OptionsInfo(scss=True, category='heading', type='value', value='#D3D3D3'), heading_border_lr_style=OptionsInfo(scss=True, category='heading', type='value', value='none'), heading_border_lr_width=OptionsInfo(scss=True, category='heading', type='px', value='1px'), heading_border_lr_color=OptionsInfo(scss=True, category='heading', type='value', value='#D3D3D3'), column_labels_background_color=OptionsInfo(scss=True, category='column_labels', type='value', value=None), column_labels_font_size=OptionsInfo(scss=True, category='column_labels', type='px', value='100%'), column_labels_font_weight=OptionsInfo(scss=True, category='column_labels', type='value', value='normal'), column_labels_text_transform=OptionsInfo(scss=True, category='column_labels', type='value', value='inherit'), column_labels_padding=OptionsInfo(scss=True, category='column_labels', type='px', value='5px'), column_labels_padding_horizontal=OptionsInfo(scss=True, category='column_labels', type='px', value='5px'), column_labels_vlines_style=OptionsInfo(scss=True, category='table_body', type='value', value='none'), column_labels_vlines_width=OptionsInfo(scss=True, category='table_body', type='px', value='1px'), column_labels_vlines_color=OptionsInfo(scss=True, category='table_body', type='value', value='#D3D3D3'), column_labels_border_top_style=OptionsInfo(scss=True, category='column_labels', type='value', value='solid'), column_labels_border_top_width=OptionsInfo(scss=True, category='column_labels', type='px', value='2px'), column_labels_border_top_color=OptionsInfo(scss=True, category='column_labels', type='value', value='#D3D3D3'), column_labels_border_bottom_style=OptionsInfo(scss=True, category='column_labels', type='value', value='solid'), column_labels_border_bottom_width=OptionsInfo(scss=True, category='column_labels', type='px', value='2px'), column_labels_border_bottom_color=OptionsInfo(scss=True, category='column_labels', type='value', value='#D3D3D3'), column_labels_border_lr_style=OptionsInfo(scss=True, category='column_labels', type='value', value='none'), column_labels_border_lr_width=OptionsInfo(scss=True, category='column_labels', type='px', value='1px'), column_labels_border_lr_color=OptionsInfo(scss=True, category='column_labels', type='value', value='#D3D3D3'), column_labels_hidden=OptionsInfo(scss=False, category='column_labels', type='boolean', value=False), row_group_background_color=OptionsInfo(scss=True, category='row_group', type='value', value=None), row_group_font_size=OptionsInfo(scss=True, category='row_group', type='px', value='100%'), row_group_font_weight=OptionsInfo(scss=True, category='row_group', type='value', value='initial'), row_group_text_transform=OptionsInfo(scss=True, category='row_group', type='value', value='inherit'), row_group_padding=OptionsInfo(scss=True, category='row_group', type='px', value='8px'), row_group_padding_horizontal=OptionsInfo(scss=True, category='row_group', type='px', value='5px'), row_group_border_top_style=OptionsInfo(scss=True, category='row_group', type='value', value='solid'), row_group_border_top_width=OptionsInfo(scss=True, category='row_group', type='px', value='2px'), row_group_border_top_color=OptionsInfo(scss=True, category='row_group', type='value', value='#D3D3D3'), row_group_border_right_style=OptionsInfo(scss=True, category='row_group', type='value', value='none'), row_group_border_right_width=OptionsInfo(scss=True, category='row_group', type='px', value='1px'), row_group_border_right_color=OptionsInfo(scss=True, category='row_group', type='value', value='#D3D3D3'), row_group_border_bottom_style=OptionsInfo(scss=True, category='row_group', type='value', value='solid'), row_group_border_bottom_width=OptionsInfo(scss=True, category='row_group', type='px', value='2px'), row_group_border_bottom_color=OptionsInfo(scss=True, category='row_group', type='value', value='#D3D3D3'), row_group_border_left_style=OptionsInfo(scss=True, category='row_group', type='value', value='none'), row_group_border_left_width=OptionsInfo(scss=True, category='row_group', type='px', value='1px'), row_group_border_left_color=OptionsInfo(scss=True, category='row_group', type='value', value='#D3D3D3'), row_group_as_column=OptionsInfo(scss=False, category='row_group', type='boolean', value=False), table_body_hlines_style=OptionsInfo(scss=True, category='table_body', type='value', value='solid'), table_body_hlines_width=OptionsInfo(scss=True, category='table_body', type='px', value='1px'), table_body_hlines_color=OptionsInfo(scss=True, category='table_body', type='value', value='#D3D3D3'), table_body_vlines_style=OptionsInfo(scss=True, category='table_body', type='value', value='none'), table_body_vlines_width=OptionsInfo(scss=True, category='table_body', type='px', value='1px'), table_body_vlines_color=OptionsInfo(scss=True, category='table_body', type='value', value='#D3D3D3'), table_body_border_top_style=OptionsInfo(scss=True, category='table_body', type='value', value='solid'), table_body_border_top_width=OptionsInfo(scss=True, category='table_body', type='px', value='2px'), table_body_border_top_color=OptionsInfo(scss=True, category='table_body', type='value', value='#D3D3D3'), table_body_border_bottom_style=OptionsInfo(scss=True, category='table_body', type='value', value='solid'), table_body_border_bottom_width=OptionsInfo(scss=True, category='table_body', type='px', value='2px'), table_body_border_bottom_color=OptionsInfo(scss=True, category='table_body', type='value', value='#D3D3D3'), data_row_padding=OptionsInfo(scss=True, category='data_row', type='px', value='8px'), data_row_padding_horizontal=OptionsInfo(scss=True, category='data_row', type='px', value='5px'), stub_background_color=OptionsInfo(scss=True, category='stub', type='value', value=None), stub_font_size=OptionsInfo(scss=True, category='stub', type='px', value='100%'), stub_font_weight=OptionsInfo(scss=True, category='stub', type='value', value='initial'), stub_text_transform=OptionsInfo(scss=True, category='stub', type='value', value='inherit'), stub_border_style=OptionsInfo(scss=True, category='stub', type='value', value='solid'), stub_border_width=OptionsInfo(scss=True, category='stub', type='px', value='2px'), stub_border_color=OptionsInfo(scss=True, category='stub', type='value', value='#D3D3D3'), stub_row_group_background_color=OptionsInfo(scss=True, category='stub', type='value', value=None), stub_row_group_font_size=OptionsInfo(scss=True, category='stub', type='px', value='100%'), stub_row_group_font_weight=OptionsInfo(scss=True, category='stub', type='value', value='initial'), stub_row_group_text_transform=OptionsInfo(scss=True, category='stub', type='value', value='inherit'), stub_row_group_border_style=OptionsInfo(scss=True, category='stub', type='value', value='solid'), stub_row_group_border_width=OptionsInfo(scss=True, category='stub', type='px', value='2px'), stub_row_group_border_color=OptionsInfo(scss=True, category='stub', type='value', value='#D3D3D3'), source_notes_padding=OptionsInfo(scss=True, category='source_notes', type='px', value='4px'), source_notes_padding_horizontal=OptionsInfo(scss=True, category='source_notes', type='px', value='5px'), source_notes_background_color=OptionsInfo(scss=True, category='source_notes', type='value', value=None), source_notes_font_size=OptionsInfo(scss=True, category='source_notes', type='px', value='90%'), source_notes_border_bottom_style=OptionsInfo(scss=True, category='source_notes', type='value', value='none'), source_notes_border_bottom_width=OptionsInfo(scss=True, category='source_notes', type='px', value='2px'), source_notes_border_bottom_color=OptionsInfo(scss=True, category='source_notes', type='value', value='#D3D3D3'), source_notes_border_lr_style=OptionsInfo(scss=True, category='source_notes', type='value', value='none'), source_notes_border_lr_width=OptionsInfo(scss=True, category='source_notes', type='px', value='2px'), source_notes_border_lr_color=OptionsInfo(scss=True, category='source_notes', type='value', value='#D3D3D3'), source_notes_multiline=OptionsInfo(scss=False, category='source_notes', type='boolean', value=True), source_notes_sep=OptionsInfo(scss=False, category='source_notes', type='value', value=' '), row_striping_background_color=OptionsInfo(scss=True, category='row', type='value', value='rgba(128,128,128,0.05)'), row_striping_include_stub=OptionsInfo(scss=False, category='row', type='boolean', value=False), row_striping_include_table_body=OptionsInfo(scss=False, category='row', type='boolean', value=False), container_width=OptionsInfo(scss=False, category='container', type='px', value='auto'), container_height=OptionsInfo(scss=False, category='container', type='px', value='auto'), container_padding_x=OptionsInfo(scss=False, category='container', type='px', value='0px'), container_padding_y=OptionsInfo(scss=False, category='container', type='px', value='10px'), container_overflow_x=OptionsInfo(scss=False, category='container', type='overflow', value='auto'), container_overflow_y=OptionsInfo(scss=False, category='container', type='overflow', value='auto'), quarto_disable_processing=OptionsInfo(scss=False, category='quarto', type='logical', value=False), quarto_use_bootstrap=OptionsInfo(scss=False, category='quarto', type='logical', value=False)), _has_built=False)"
      ]
     },
     "execution_count": 23,
     "metadata": {},
     "output_type": "execute_result"
    }
   ],
   "source": [
    "# Compute the Correlation Matrix\n",
    "corr_matrix = (\n",
    "    pct_volume.select(\n",
    "        pl.col('*').exclude('week')  # Exclude 'week' column if applicable\n",
    "    )\n",
    "    .corr()  # Compute the correlation matrix\n",
    "    .hstack(pl.DataFrame({\"index\": pct_volume.columns[1:]}))\n",
    ")\n",
    "\n",
    "(\n",
    "    GT(corr_matrix, rowname_col='index')\n",
    "    .tab_header(title=\"Correlation Matrix of Weekly (Volume) Market Share\")\n",
    "    .fmt_number(columns=['Alpha', 'Bravo', 'Charlie', 'Delta', 'Other'])\n",
    "    .data_color(\n",
    "        domain=[-1, 1],\n",
    "        palette=[\"rebeccapurple\", \"white\", 'orange']\n",
    "    )\n",
    ")"
   ]
  },
  {
   "cell_type": "markdown",
   "metadata": {},
   "source": [
    "#### Annual Sales"
   ]
  },
  {
   "cell_type": "code",
   "execution_count": null,
   "metadata": {},
   "outputs": [],
   "source": []
  }
 ],
 "metadata": {
  "colab": {
   "collapsed_sections": [
    "Gxxt_AWN9igL",
    "R7dq85pW9WSz"
   ],
   "provenance": []
  },
  "kernelspec": {
   "display_name": "fin",
   "language": "python",
   "name": "python3"
  },
  "language_info": {
   "codemirror_mode": {
    "name": "ipython",
    "version": 3
   },
   "file_extension": ".py",
   "mimetype": "text/x-python",
   "name": "python",
   "nbconvert_exporter": "python",
   "pygments_lexer": "ipython3",
   "version": "3.12.7"
  }
 },
 "nbformat": 4,
 "nbformat_minor": 0
}
