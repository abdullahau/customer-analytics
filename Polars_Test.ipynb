{
 "cells": [
  {
   "cell_type": "markdown",
   "metadata": {
    "id": "J0Nrn2ZX9UOK"
   },
   "source": [
    "### Imports"
   ]
  },
  {
   "cell_type": "markdown",
   "metadata": {
    "id": "Gxxt_AWN9igL"
   },
   "source": [
    "#### Import Packages"
   ]
  },
  {
   "cell_type": "code",
   "execution_count": 1,
   "metadata": {
    "id": "Bsw2hr5T8cu3"
   },
   "outputs": [
    {
     "data": {
      "text/plain": [
       "RendererRegistry.enable('mimetype')"
      ]
     },
     "execution_count": 1,
     "metadata": {},
     "output_type": "execute_result"
    }
   ],
   "source": [
    "import polars as pl\n",
    "import altair as alt\n",
    "import numpy as np\n",
    "from great_tables import GT\n",
    "import gc\n",
    "\n",
    "# https://altair-viz.github.io/user_guide/display_frontends.html#displaying-in-jupyterlab\n",
    "alt.renderers.enable('mimetype')\n",
    "# alt.JupyterChart.enable_offline()\n",
    "# alt.renderers.enable(\"jupyter\", offline=True)"
   ]
  },
  {
   "cell_type": "markdown",
   "metadata": {
    "id": "R7dq85pW9WSz"
   },
   "source": [
    "#### Import Panel Data"
   ]
  },
  {
   "cell_type": "code",
   "execution_count": 2,
   "metadata": {
    "id": "byUO8v599TuY"
   },
   "outputs": [
    {
     "data": {
      "text/html": [
       "<div><style>\n",
       ".dataframe > thead > tr,\n",
       ".dataframe > tbody > tr {\n",
       "  text-align: right;\n",
       "  white-space: pre-wrap;\n",
       "}\n",
       "</style>\n",
       "<small>shape: (5, 7)</small><table border=\"1\" class=\"dataframe\"><thead><tr><th>panel_id</th><th>trans_id</th><th>week</th><th>sku_id</th><th>units</th><th>price</th><th>brand</th></tr><tr><td>i32</td><td>i32</td><td>i16</td><td>cat</td><td>i16</td><td>f32</td><td>cat</td></tr></thead><tbody><tr><td>3102011</td><td>1569</td><td>6</td><td>&quot;19&quot;</td><td>1</td><td>2.79</td><td>&quot;Alpha&quot;</td></tr><tr><td>3102012</td><td>4301</td><td>15</td><td>&quot;15&quot;</td><td>1</td><td>3.19</td><td>&quot;Alpha&quot;</td></tr><tr><td>3102012</td><td>4301</td><td>15</td><td>&quot;15&quot;</td><td>1</td><td>3.19</td><td>&quot;Alpha&quot;</td></tr><tr><td>3102012</td><td>4301</td><td>15</td><td>&quot;38&quot;</td><td>1</td><td>3.49</td><td>&quot;Bravo&quot;</td></tr><tr><td>3102012</td><td>4301</td><td>15</td><td>&quot;44&quot;</td><td>1</td><td>3.49</td><td>&quot;Bravo&quot;</td></tr></tbody></table></div>"
      ],
      "text/plain": [
       "shape: (5, 7)\n",
       "┌──────────┬──────────┬──────┬────────┬───────┬───────┬───────┐\n",
       "│ panel_id ┆ trans_id ┆ week ┆ sku_id ┆ units ┆ price ┆ brand │\n",
       "│ ---      ┆ ---      ┆ ---  ┆ ---    ┆ ---   ┆ ---   ┆ ---   │\n",
       "│ i32      ┆ i32      ┆ i16  ┆ cat    ┆ i16   ┆ f32   ┆ cat   │\n",
       "╞══════════╪══════════╪══════╪════════╪═══════╪═══════╪═══════╡\n",
       "│ 3102011  ┆ 1569     ┆ 6    ┆ 19     ┆ 1     ┆ 2.79  ┆ Alpha │\n",
       "│ 3102012  ┆ 4301     ┆ 15   ┆ 15     ┆ 1     ┆ 3.19  ┆ Alpha │\n",
       "│ 3102012  ┆ 4301     ┆ 15   ┆ 15     ┆ 1     ┆ 3.19  ┆ Alpha │\n",
       "│ 3102012  ┆ 4301     ┆ 15   ┆ 38     ┆ 1     ┆ 3.49  ┆ Bravo │\n",
       "│ 3102012  ┆ 4301     ┆ 15   ┆ 44     ┆ 1     ┆ 3.49  ┆ Bravo │\n",
       "└──────────┴──────────┴──────┴────────┴───────┴───────┴───────┘"
      ]
     },
     "execution_count": 2,
     "metadata": {},
     "output_type": "execute_result"
    }
   ],
   "source": [
    "grocery_lf = pl.scan_csv(source=\"data/panel-datasets/edible_grocery.csv\",\n",
    "                         has_header=True,\n",
    "                         separator=\",\",\n",
    "                         schema={'panel_id': pl.Int32,\n",
    "                                 'trans_id': pl.Int32,\n",
    "                                 'week': pl.Int16,\n",
    "                                 'sku_id': pl.Categorical,\n",
    "                                 'units': pl.Int16,\n",
    "                                 'price': pl.Float32,\n",
    "                                 'brand': pl.Categorical})\n",
    "grocery_lf.head().collect()"
   ]
  },
  {
   "cell_type": "code",
   "execution_count": 3,
   "metadata": {
    "id": "ECLFaaIe95pK"
   },
   "outputs": [
    {
     "data": {
      "text/html": [
       "<div><style>\n",
       ".dataframe > thead > tr,\n",
       ".dataframe > tbody > tr {\n",
       "  text-align: right;\n",
       "  white-space: pre-wrap;\n",
       "}\n",
       "</style>\n",
       "<small>shape: (5, 2)</small><table border=\"1\" class=\"dataframe\"><thead><tr><th>sku_id</th><th>weight</th></tr><tr><td>cat</td><td>i16</td></tr></thead><tbody><tr><td>&quot;1&quot;</td><td>400</td></tr><tr><td>&quot;2&quot;</td><td>400</td></tr><tr><td>&quot;3&quot;</td><td>400</td></tr><tr><td>&quot;4&quot;</td><td>250</td></tr><tr><td>&quot;5&quot;</td><td>1000</td></tr></tbody></table></div>"
      ],
      "text/plain": [
       "shape: (5, 2)\n",
       "┌────────┬────────┐\n",
       "│ sku_id ┆ weight │\n",
       "│ ---    ┆ ---    │\n",
       "│ cat    ┆ i16    │\n",
       "╞════════╪════════╡\n",
       "│ 1      ┆ 400    │\n",
       "│ 2      ┆ 400    │\n",
       "│ 3      ┆ 400    │\n",
       "│ 4      ┆ 250    │\n",
       "│ 5      ┆ 1000   │\n",
       "└────────┴────────┘"
      ]
     },
     "execution_count": 3,
     "metadata": {},
     "output_type": "execute_result"
    }
   ],
   "source": [
    "sku_lf = pl.scan_csv(source=\"data/panel-datasets/sku_weight.csv\",\n",
    "                         has_header=True,\n",
    "                         separator=\",\",\n",
    "                         schema={'sku_id': pl.Categorical,\n",
    "                                 'weight': pl.Int16})\n",
    "sku_lf.head().collect()"
   ]
  },
  {
   "cell_type": "code",
   "execution_count": 4,
   "metadata": {
    "id": "y-r0cpsA97dT"
   },
   "outputs": [
    {
     "data": {
      "text/html": [
       "<div><style>\n",
       ".dataframe > thead > tr,\n",
       ".dataframe > tbody > tr {\n",
       "  text-align: right;\n",
       "  white-space: pre-wrap;\n",
       "}\n",
       "</style>\n",
       "<small>shape: (5, 5)</small><table border=\"1\" class=\"dataframe\"><thead><tr><th>ID</th><th>Market</th><th>Week</th><th>Day</th><th>Units</th></tr><tr><td>i16</td><td>cat</td><td>i16</td><td>i16</td><td>i16</td></tr></thead><tbody><tr><td>10001</td><td>&quot;1&quot;</td><td>19</td><td>3</td><td>1</td></tr><tr><td>10002</td><td>&quot;1&quot;</td><td>12</td><td>5</td><td>1</td></tr><tr><td>10003</td><td>&quot;1&quot;</td><td>37</td><td>7</td><td>1</td></tr><tr><td>10004</td><td>&quot;1&quot;</td><td>30</td><td>6</td><td>1</td></tr><tr><td>10004</td><td>&quot;1&quot;</td><td>47</td><td>3</td><td>1</td></tr></tbody></table></div>"
      ],
      "text/plain": [
       "shape: (5, 5)\n",
       "┌───────┬────────┬──────┬─────┬───────┐\n",
       "│ ID    ┆ Market ┆ Week ┆ Day ┆ Units │\n",
       "│ ---   ┆ ---    ┆ ---  ┆ --- ┆ ---   │\n",
       "│ i16   ┆ cat    ┆ i16  ┆ i16 ┆ i16   │\n",
       "╞═══════╪════════╪══════╪═════╪═══════╡\n",
       "│ 10001 ┆ 1      ┆ 19   ┆ 3   ┆ 1     │\n",
       "│ 10002 ┆ 1      ┆ 12   ┆ 5   ┆ 1     │\n",
       "│ 10003 ┆ 1      ┆ 37   ┆ 7   ┆ 1     │\n",
       "│ 10004 ┆ 1      ┆ 30   ┆ 6   ┆ 1     │\n",
       "│ 10004 ┆ 1      ┆ 47   ┆ 3   ┆ 1     │\n",
       "└───────┴────────┴──────┴─────┴───────┘"
      ]
     },
     "execution_count": 4,
     "metadata": {},
     "output_type": "execute_result"
    }
   ],
   "source": [
    "kiwi_lf = pl.scan_csv(source=\"data/panel-datasets/kiwibubbles_trans.csv\",\n",
    "                      has_header=True,\n",
    "                      separator=\",\",\n",
    "                      schema={'ID': pl.Int16,\n",
    "                              'Market': pl.Categorical,\n",
    "                              'Week': pl.Int16,\n",
    "                              'Day': pl.Int16,\n",
    "                              'Units': pl.Int16})\n",
    "kiwi_lf.head().collect()"
   ]
  },
  {
   "cell_type": "markdown",
   "metadata": {},
   "source": [
    "#### Reusable Functions"
   ]
  },
  {
   "cell_type": "code",
   "execution_count": 5,
   "metadata": {},
   "outputs": [],
   "source": [
    "# Weekly Grocery Sales LazyFrame (Query Plan): Weekly 'spend' by 'Category', 'Brand' or 'All'\n",
    "def weekly_spend_summary(brand, lf):\n",
    "    summary = (\n",
    "        lf\n",
    "        .select(['week', 'units', 'price', 'brand'])\n",
    "        .with_columns(((pl.col('units') * pl.col('price')).cast(pl.Float64)).alias('spend'))\n",
    "    )\n",
    "    \n",
    "    if brand == 'Category': # Return LazyFrame of total category\n",
    "        summary = summary.group_by('week')\n",
    "    elif brand == 'All': # Return LazyFrame of all brands\n",
    "        summary = summary.group_by('week', 'brand')\n",
    "    else:  # Return LazyFrame of specified brand\n",
    "        summary = summary.filter(\n",
    "            pl.col('brand') == brand\n",
    "        ).group_by('week', 'brand')\n",
    "        \n",
    "    summary = summary.agg(\n",
    "        pl.col(\"spend\").sum().cast(pl.Float64).alias('Weekly Spend') \n",
    "    ).sort('week')\n",
    "    \n",
    "    return summary"
   ]
  },
  {
   "cell_type": "code",
   "execution_count": 6,
   "metadata": {},
   "outputs": [],
   "source": [
    "# Weekly Grocery Volume Sales LazyFrame (Query Plan): Weekly 'volume' by 'Brand' or 'All'\n",
    "def weekly_vol_summary(brand, lf):\n",
    "    with pl.StringCache():\n",
    "        lf = (\n",
    "            lf\n",
    "            .join(\n",
    "                other=sku_lf,\n",
    "                left_on=\"sku_id\",\n",
    "                right_on=\"sku_id\"            \n",
    "            )\n",
    "            .select(['week', 'units', 'brand', 'weight'])\n",
    "        )\n",
    "        \n",
    "        if brand != 'All': \n",
    "            brand = [brand] if type(brand) == str else brand\n",
    "            lf = lf.filter(\n",
    "                pl.col('brand').is_in(*[brand])\n",
    "            )\n",
    "            \n",
    "        summary = lf.with_columns(\n",
    "            (((pl.col('units') * pl.col('weight'))/1000).cast(pl.Float64)).alias('volume')\n",
    "        ).group_by('week', 'brand').agg(\n",
    "            pl.col(\"volume\").sum().cast(pl.Float64).alias('Weekly Volume')\n",
    "        ).sort('week')\n",
    "        \n",
    "    return summary"
   ]
  },
  {
   "cell_type": "code",
   "execution_count": 7,
   "metadata": {},
   "outputs": [],
   "source": [
    "# Altair Weekly Line Plot\n",
    "def weekly_plot(dataframe, y, color=None, title=\"\", y_axis_label=\"\", pct=False, legend=False):\n",
    "    \n",
    "    # Configure the color encoding only if color is provided\n",
    "    if color is not None:\n",
    "        color_encoding = alt.Color(\n",
    "            f'{color}:N',  # N = a discrete unordered category\n",
    "            legend=alt.Legend(title=color) if legend else None  # Add legend conditionally\n",
    "        )\n",
    "    else:\n",
    "        color_encoding = alt.Color()  # No color encoding    \n",
    "    \n",
    "    chart = alt.Chart(dataframe).mark_line(strokeWidth=1).encode(\n",
    "        x = alt.X(\n",
    "            'week',\n",
    "            axis=alt.Axis(\n",
    "                values=np.arange(0, 104 + 1, 13), # Explicitly specify quarter-end weeks\n",
    "                labelExpr=\"datum.value\", # Show only these labels\n",
    "                title='Week'\n",
    "            )\n",
    "        ),\n",
    "        y = alt.Y(\n",
    "            f'{y}:Q', # Q = a continuous real-valued quantity\n",
    "            title=y_axis_label,\n",
    "            axis=alt.Axis(format=\"$,.0f\") if not pct else alt.Axis(format=\",.0%\")\n",
    "        ),\n",
    "        color = color_encoding\n",
    "    ).properties(\n",
    "        width=650,\n",
    "        height=250,\n",
    "        title=title\n",
    "    ).configure_view(\n",
    "        stroke=None\n",
    "    ).configure_axisY(\n",
    "        # grid=False # turn off y-axis grid if required\n",
    "    )\n",
    "\n",
    "    return chart # alt.JupyterChart(chart)"
   ]
  },
  {
   "cell_type": "code",
   "execution_count": 8,
   "metadata": {},
   "outputs": [],
   "source": [
    "# Annual Sales Summary LazyFrame for All Brands\n",
    "def annual_sales_summary():\n",
    "    summary = (\n",
    "        weekly_spend_summary('All', grocery_lf)\n",
    "        .with_columns((pl.col(\"week\") / 52).ceil().cast(pl.Int32).alias('year'))\n",
    "        .group_by(['year', 'brand'])\n",
    "        .agg(pl.col(\"Weekly Spend\").sum().cast(pl.Float64).alias('Yearly Sales'))\n",
    "    ).sort('year')\n",
    "    \n",
    "    return summary"
   ]
  },
  {
   "cell_type": "code",
   "execution_count": 9,
   "metadata": {},
   "outputs": [],
   "source": [
    "def freq_dist_plot(\n",
    "    data, \n",
    "    column, \n",
    "    bin_edges, \n",
    "    labels, \n",
    "    x_title, \n",
    "    y_title, \n",
    "    chart_title, \n",
    "    subtitle, \n",
    "    width=650, \n",
    "    height=250, \n",
    "    label_angle=0, \n",
    "    left_closed=True, \n",
    "    compute_rel_freq=True\n",
    "):\n",
    "    \"\"\"\n",
    "    Creates a standardized Altair bar chart for relative frequency distribution plots.\n",
    "\n",
    "    Parameters:\n",
    "    - data (Polars LazyFrame or DataFrame): Input dataset.\n",
    "    - column (str): Column to analyze for distribution.\n",
    "    - bin_edges (array-like): Edges for binning.\n",
    "    - labels (list of str): Labels for the bins.\n",
    "    - x_title (str): Title for the x-axis.\n",
    "    - y_title (str): Title for the y-axis.\n",
    "    - chart_title (str): Main title for the chart.\n",
    "    - subtitle (str): Subtitle for the chart.\n",
    "    - width (int, optional): Width of the chart. Default is 650.\n",
    "    - height (int, optional): Height of the chart. Default is 250.\n",
    "    - label_angle (int, optional): Angle for x-axis labels. Default is 0.\n",
    "    - left_closed (bool, optional): Whether bins are left-closed. Default is True.\n",
    "    - compute_rel_freq (bool, optional): Whether to compute relative frequencies. Default is True.\n",
    "\n",
    "    Returns:\n",
    "    - alt.Chart: The generated Altair chart.\n",
    "    \"\"\"\n",
    "    # Apply binning to the data\n",
    "    binned_data = data.with_columns(\n",
    "        pl.col(column).cut(bin_edges, labels=labels, left_closed=left_closed).alias(\"cut\")\n",
    "    )\n",
    "\n",
    "    # Optionally compute relative frequencies\n",
    "    if compute_rel_freq:\n",
    "        binned_data = (\n",
    "            binned_data\n",
    "            .group_by(\"cut\")\n",
    "            .agg(pl.col(\"cut\").count().alias(\"Frequency\"))\n",
    "            .with_columns(\n",
    "                (pl.col(\"Frequency\") / pl.col(\"Frequency\").sum()).alias(\"% of Total\")\n",
    "            )\n",
    "            .collect()\n",
    "        )\n",
    "\n",
    "    # Create the Altair chart\n",
    "    chart = alt.Chart(binned_data).mark_bar().encode(\n",
    "        x=alt.X(\"cut:O\", axis=alt.Axis(labelAngle=label_angle, title=x_title), sort=labels),\n",
    "        y=alt.Y(\"% of Total:Q\", axis=alt.Axis(format=\".0%\", title=y_title)),\n",
    "    ).properties(\n",
    "        width=width,\n",
    "        height=height,\n",
    "        title={\"text\": chart_title, \"subtitle\": subtitle},\n",
    "    )\n",
    "\n",
    "    return chart"
   ]
  },
  {
   "cell_type": "markdown",
   "metadata": {
    "id": "nAVjw68199_0"
   },
   "source": [
    "### Preliminaries"
   ]
  },
  {
   "cell_type": "markdown",
   "metadata": {
    "id": "JTV6Gf6T-FDX"
   },
   "source": [
    "#### Weekly Sales Pattern"
   ]
  },
  {
   "cell_type": "code",
   "execution_count": 10,
   "metadata": {},
   "outputs": [
    {
     "data": {
      "text/html": [
       "<div><style>\n",
       ".dataframe > thead > tr,\n",
       ".dataframe > tbody > tr {\n",
       "  text-align: right;\n",
       "  white-space: pre-wrap;\n",
       "}\n",
       "</style>\n",
       "<small>shape: (104, 7)</small><table border=\"1\" class=\"dataframe\"><thead><tr><th>week</th><th>Alpha</th><th>Bravo</th><th>Charlie</th><th>Delta</th><th>Other</th><th>Total</th></tr><tr><td>i16</td><td>f64</td><td>f64</td><td>f64</td><td>f64</td><td>f64</td><td>f64</td></tr></thead><tbody><tr><td>1</td><td>331.459999</td><td>247.780003</td><td>51.79</td><td>17.64</td><td>18.75</td><td>667.420002</td></tr><tr><td>2</td><td>567.249997</td><td>398.640007</td><td>45.43</td><td>34.19</td><td>23.23</td><td>1068.740004</td></tr><tr><td>3</td><td>497.969999</td><td>639.980008</td><td>51.11</td><td>39.39</td><td>14.55</td><td>1243.000006</td></tr><tr><td>4</td><td>1389.960004</td><td>472.500004</td><td>51.87</td><td>85.04</td><td>39.779999</td><td>2039.150007</td></tr><tr><td>5</td><td>358.239999</td><td>252.540003</td><td>40.21</td><td>69.54</td><td>45.93</td><td>766.460002</td></tr><tr><td>&hellip;</td><td>&hellip;</td><td>&hellip;</td><td>&hellip;</td><td>&hellip;</td><td>&hellip;</td><td>&hellip;</td></tr><tr><td>100</td><td>692.480006</td><td>420.479996</td><td>69.600001</td><td>54.590001</td><td>47.97</td><td>1285.120004</td></tr><tr><td>101</td><td>265.770002</td><td>264.659999</td><td>64.030001</td><td>35.05</td><td>26.88</td><td>656.390003</td></tr><tr><td>102</td><td>379.610005</td><td>456.78999</td><td>43.5</td><td>20.4</td><td>43.61</td><td>943.909995</td></tr><tr><td>103</td><td>532.500005</td><td>440.999996</td><td>76.400001</td><td>40.44</td><td>45.55</td><td>1135.890002</td></tr><tr><td>104</td><td>394.890003</td><td>233.189998</td><td>53.18</td><td>68.260001</td><td>36.679999</td><td>786.200002</td></tr></tbody></table></div>"
      ],
      "text/plain": [
       "shape: (104, 7)\n",
       "┌──────┬─────────────┬────────────┬───────────┬───────────┬───────────┬─────────────┐\n",
       "│ week ┆ Alpha       ┆ Bravo      ┆ Charlie   ┆ Delta     ┆ Other     ┆ Total       │\n",
       "│ ---  ┆ ---         ┆ ---        ┆ ---       ┆ ---       ┆ ---       ┆ ---         │\n",
       "│ i16  ┆ f64         ┆ f64        ┆ f64       ┆ f64       ┆ f64       ┆ f64         │\n",
       "╞══════╪═════════════╪════════════╪═══════════╪═══════════╪═══════════╪═════════════╡\n",
       "│ 1    ┆ 331.459999  ┆ 247.780003 ┆ 51.79     ┆ 17.64     ┆ 18.75     ┆ 667.420002  │\n",
       "│ 2    ┆ 567.249997  ┆ 398.640007 ┆ 45.43     ┆ 34.19     ┆ 23.23     ┆ 1068.740004 │\n",
       "│ 3    ┆ 497.969999  ┆ 639.980008 ┆ 51.11     ┆ 39.39     ┆ 14.55     ┆ 1243.000006 │\n",
       "│ 4    ┆ 1389.960004 ┆ 472.500004 ┆ 51.87     ┆ 85.04     ┆ 39.779999 ┆ 2039.150007 │\n",
       "│ 5    ┆ 358.239999  ┆ 252.540003 ┆ 40.21     ┆ 69.54     ┆ 45.93     ┆ 766.460002  │\n",
       "│ …    ┆ …           ┆ …          ┆ …         ┆ …         ┆ …         ┆ …           │\n",
       "│ 100  ┆ 692.480006  ┆ 420.479996 ┆ 69.600001 ┆ 54.590001 ┆ 47.97     ┆ 1285.120004 │\n",
       "│ 101  ┆ 265.770002  ┆ 264.659999 ┆ 64.030001 ┆ 35.05     ┆ 26.88     ┆ 656.390003  │\n",
       "│ 102  ┆ 379.610005  ┆ 456.78999  ┆ 43.5      ┆ 20.4      ┆ 43.61     ┆ 943.909995  │\n",
       "│ 103  ┆ 532.500005  ┆ 440.999996 ┆ 76.400001 ┆ 40.44     ┆ 45.55     ┆ 1135.890002 │\n",
       "│ 104  ┆ 394.890003  ┆ 233.189998 ┆ 53.18     ┆ 68.260001 ┆ 36.679999 ┆ 786.200002  │\n",
       "└──────┴─────────────┴────────────┴───────────┴───────────┴───────────┴─────────────┘"
      ]
     },
     "execution_count": 10,
     "metadata": {},
     "output_type": "execute_result"
    }
   ],
   "source": [
    "# Weekly Sales Pivot Table - Polars DataFrame\n",
    "# For visualizing and inspecting only\n",
    "weekly_spend_summary('All', grocery_lf).collect().pivot(\n",
    "    on=\"brand\",\n",
    "    index=\"week\",\n",
    "    values=\"Weekly Spend\",\n",
    "    sort_columns=True,\n",
    ").with_columns(\n",
    "    pl.sum_horizontal(pl.exclude('week')).cast(pl.Float64).alias(\"Total\") # Row total\n",
    ").sort(\"week\")"
   ]
  },
  {
   "cell_type": "code",
   "execution_count": 11,
   "metadata": {},
   "outputs": [
    {
     "data": {
      "application/vnd.vegalite.v5+json": {
       "$schema": "https://vega.github.io/schema/vega-lite/v5.20.1.json",
       "config": {
        "axisY": {},
        "view": {
         "continuousHeight": 300,
         "continuousWidth": 300,
         "stroke": null
        }
       },
       "data": {
        "name": "data-c83365c4af255035f00e748babdb23cb"
       },
       "datasets": {
        "data-c83365c4af255035f00e748babdb23cb": [
         {
          "Weekly Spend": 667.4200016260147,
          "week": 1
         },
         {
          "Weekly Spend": 1068.7400035858154,
          "week": 2
         },
         {
          "Weekly Spend": 1243.0000059604645,
          "week": 3
         },
         {
          "Weekly Spend": 2039.150006890297,
          "week": 4
         },
         {
          "Weekly Spend": 766.4600021839142,
          "week": 5
         },
         {
          "Weekly Spend": 767.880000948906,
          "week": 6
         },
         {
          "Weekly Spend": 827.3700028657913,
          "week": 7
         },
         {
          "Weekly Spend": 776.9100067615509,
          "week": 8
         },
         {
          "Weekly Spend": 808.4099978208542,
          "week": 9
         },
         {
          "Weekly Spend": 997.0900067090988,
          "week": 10
         },
         {
          "Weekly Spend": 1054.7000043392181,
          "week": 11
         },
         {
          "Weekly Spend": 1540.7900004386902,
          "week": 12
         },
         {
          "Weekly Spend": 1109.7000133991241,
          "week": 13
         },
         {
          "Weekly Spend": 1557.7600021362305,
          "week": 14
         },
         {
          "Weekly Spend": 1420.4000116586685,
          "week": 15
         },
         {
          "Weekly Spend": 1047.000011086464,
          "week": 16
         },
         {
          "Weekly Spend": 1109.6800179481506,
          "week": 17
         },
         {
          "Weekly Spend": 1524.6700061559677,
          "week": 18
         },
         {
          "Weekly Spend": 1409.8400102853775,
          "week": 19
         },
         {
          "Weekly Spend": 2037.130021572113,
          "week": 20
         },
         {
          "Weekly Spend": 2782.620036005974,
          "week": 21
         },
         {
          "Weekly Spend": 1370.7800161838531,
          "week": 22
         },
         {
          "Weekly Spend": 1325.4900126457214,
          "week": 23
         },
         {
          "Weekly Spend": 1605.070016860962,
          "week": 24
         },
         {
          "Weekly Spend": 1332.1300175189972,
          "week": 25
         },
         {
          "Weekly Spend": 3843.130072593689,
          "week": 26
         },
         {
          "Weekly Spend": 2046.2500294446945,
          "week": 27
         },
         {
          "Weekly Spend": 1380.5000195503235,
          "week": 28
         },
         {
          "Weekly Spend": 1149.7600104808807,
          "week": 29
         },
         {
          "Weekly Spend": 1269.8700063228607,
          "week": 30
         },
         {
          "Weekly Spend": 1659.6800035238266,
          "week": 31
         },
         {
          "Weekly Spend": 1904.1999955177307,
          "week": 32
         },
         {
          "Weekly Spend": 1225.1300069093704,
          "week": 33
         },
         {
          "Weekly Spend": 2115.730032682419,
          "week": 34
         },
         {
          "Weekly Spend": 2329.21002304554,
          "week": 35
         },
         {
          "Weekly Spend": 1210.6900047063828,
          "week": 36
         },
         {
          "Weekly Spend": 916.2500025033951,
          "week": 37
         },
         {
          "Weekly Spend": 903.5800004005432,
          "week": 38
         },
         {
          "Weekly Spend": 972.730007648468,
          "week": 39
         },
         {
          "Weekly Spend": 1057.2900084257126,
          "week": 40
         },
         {
          "Weekly Spend": 1131.1600046157837,
          "week": 41
         },
         {
          "Weekly Spend": 1177.200009226799,
          "week": 42
         },
         {
          "Weekly Spend": 1246.220001578331,
          "week": 43
         },
         {
          "Weekly Spend": 2063.5199769735336,
          "week": 44
         },
         {
          "Weekly Spend": 787.4900032281876,
          "week": 45
         },
         {
          "Weekly Spend": 1276.1800088882446,
          "week": 46
         },
         {
          "Weekly Spend": 1578.050010085106,
          "week": 47
         },
         {
          "Weekly Spend": 856.590003490448,
          "week": 48
         },
         {
          "Weekly Spend": 1106.7199982404709,
          "week": 49
         },
         {
          "Weekly Spend": 1652.0200073719025,
          "week": 50
         },
         {
          "Weekly Spend": 1869.2000048160553,
          "week": 51
         },
         {
          "Weekly Spend": 1183.3600081205368,
          "week": 52
         },
         {
          "Weekly Spend": 872.9100048542023,
          "week": 53
         },
         {
          "Weekly Spend": 1069.8700034618378,
          "week": 54
         },
         {
          "Weekly Spend": 1556.0600020885468,
          "week": 55
         },
         {
          "Weekly Spend": 1607.6300003528595,
          "week": 56
         },
         {
          "Weekly Spend": 1860.2599868774414,
          "week": 57
         },
         {
          "Weekly Spend": 729.739999294281,
          "week": 58
         },
         {
          "Weekly Spend": 953.4900015592575,
          "week": 59
         },
         {
          "Weekly Spend": 860.620001912117,
          "week": 60
         },
         {
          "Weekly Spend": 933.5900031328201,
          "week": 61
         },
         {
          "Weekly Spend": 956.6500004529953,
          "week": 62
         },
         {
          "Weekly Spend": 1082.530002117157,
          "week": 63
         },
         {
          "Weekly Spend": 1346.139996290207,
          "week": 64
         },
         {
          "Weekly Spend": 1204.1400030851364,
          "week": 65
         },
         {
          "Weekly Spend": 960.3599997758865,
          "week": 66
         },
         {
          "Weekly Spend": 834.2500001192093,
          "week": 67
         },
         {
          "Weekly Spend": 1326.3100017309189,
          "week": 68
         },
         {
          "Weekly Spend": 1446.9800155162811,
          "week": 69
         },
         {
          "Weekly Spend": 1008.9200024604797,
          "week": 70
         },
         {
          "Weekly Spend": 1214.8600029945374,
          "week": 71
         },
         {
          "Weekly Spend": 1971.1400059461594,
          "week": 72
         },
         {
          "Weekly Spend": 3568.17000579834,
          "week": 73
         },
         {
          "Weekly Spend": 1207.179999947548,
          "week": 74
         },
         {
          "Weekly Spend": 1235.130000591278,
          "week": 75
         },
         {
          "Weekly Spend": 1347.2500027418137,
          "week": 76
         },
         {
          "Weekly Spend": 1998.260001897812,
          "week": 77
         },
         {
          "Weekly Spend": 3666.6700055599213,
          "week": 78
         },
         {
          "Weekly Spend": 2465.880017518997,
          "week": 79
         },
         {
          "Weekly Spend": 1234.1400002241135,
          "week": 80
         },
         {
          "Weekly Spend": 1378.5499999523163,
          "week": 81
         },
         {
          "Weekly Spend": 1199.7699983119965,
          "week": 82
         },
         {
          "Weekly Spend": 1184.1399989128113,
          "week": 83
         },
         {
          "Weekly Spend": 1118.8000007867813,
          "week": 84
         },
         {
          "Weekly Spend": 1645.0199961662292,
          "week": 85
         },
         {
          "Weekly Spend": 1805.4800027608871,
          "week": 86
         },
         {
          "Weekly Spend": 2821.310001730919,
          "week": 87
         },
         {
          "Weekly Spend": 1381.0599929094315,
          "week": 88
         },
         {
          "Weekly Spend": 693.590000629425,
          "week": 89
         },
         {
          "Weekly Spend": 983.8600037097931,
          "week": 90
         },
         {
          "Weekly Spend": 1039.6999952793121,
          "week": 91
         },
         {
          "Weekly Spend": 942.4300026893616,
          "week": 92
         },
         {
          "Weekly Spend": 751.2200012207031,
          "week": 93
         },
         {
          "Weekly Spend": 820.3400019407272,
          "week": 94
         },
         {
          "Weekly Spend": 904.3000041246414,
          "week": 95
         },
         {
          "Weekly Spend": 1038.470008611679,
          "week": 96
         },
         {
          "Weekly Spend": 1631.4899997711182,
          "week": 97
         },
         {
          "Weekly Spend": 2632.8499747514725,
          "week": 98
         },
         {
          "Weekly Spend": 1361.9099971055984,
          "week": 99
         },
         {
          "Weekly Spend": 1285.1200038194656,
          "week": 100
         },
         {
          "Weekly Spend": 656.3900028467178,
          "week": 101
         },
         {
          "Weekly Spend": 943.909994840622,
          "week": 102
         },
         {
          "Weekly Spend": 1135.890002131462,
          "week": 103
         },
         {
          "Weekly Spend": 786.2000020742416,
          "week": 104
         }
        ]
       },
       "encoding": {
        "color": {},
        "x": {
         "axis": {
          "labelExpr": "datum.value",
          "title": "Week",
          "values": [
           0,
           13,
           26,
           39,
           52,
           65,
           78,
           91,
           104
          ]
         },
         "field": "week",
         "type": "quantitative"
        },
        "y": {
         "axis": {
          "format": "$,.0f"
         },
         "field": "Weekly Spend",
         "title": "Spend ($)",
         "type": "quantitative"
        }
       },
       "height": 250,
       "mark": {
        "strokeWidth": 1,
        "type": "line"
       },
       "title": "Category - Weekly Revenue",
       "width": 650
      },
      "text/plain": [
       "<VegaLite 5 object>\n",
       "\n",
       "If you see this message, it means the renderer has not been properly enabled\n",
       "for the frontend that you are using. For more information, see\n",
       "https://altair-viz.github.io/user_guide/display_frontends.html#troubleshooting\n"
      ]
     },
     "execution_count": 11,
     "metadata": {},
     "output_type": "execute_result"
    }
   ],
   "source": [
    "weekly_plot(dataframe=weekly_spend_summary('Category', grocery_lf).collect(), \n",
    "            y='Weekly Spend', \n",
    "            title='Category - Weekly Revenue', \n",
    "            y_axis_label='Spend ($)',\n",
    "            pct=False,\n",
    "            legend=False)"
   ]
  },
  {
   "cell_type": "code",
   "execution_count": 12,
   "metadata": {},
   "outputs": [
    {
     "data": {
      "application/vnd.vegalite.v5+json": {
       "$schema": "https://vega.github.io/schema/vega-lite/v5.20.1.json",
       "config": {
        "axisY": {},
        "view": {
         "continuousHeight": 300,
         "continuousWidth": 300,
         "stroke": null
        }
       },
       "data": {
        "name": "data-000029e64350dafb4567f20469af6017"
       },
       "datasets": {
        "data-000029e64350dafb4567f20469af6017": [
         {
          "Weekly Spend": 331.4599986076355,
          "brand": "Alpha",
          "week": 1
         },
         {
          "Weekly Spend": 567.2499973773956,
          "brand": "Alpha",
          "week": 2
         },
         {
          "Weekly Spend": 497.96999871730804,
          "brand": "Alpha",
          "week": 3
         },
         {
          "Weekly Spend": 1389.9600036144257,
          "brand": "Alpha",
          "week": 4
         },
         {
          "Weekly Spend": 358.2399991750717,
          "brand": "Alpha",
          "week": 5
         },
         {
          "Weekly Spend": 364.059996843338,
          "brand": "Alpha",
          "week": 6
         },
         {
          "Weekly Spend": 412.3399988412857,
          "brand": "Alpha",
          "week": 7
         },
         {
          "Weekly Spend": 307.620001912117,
          "brand": "Alpha",
          "week": 8
         },
         {
          "Weekly Spend": 290.58000004291534,
          "brand": "Alpha",
          "week": 9
         },
         {
          "Weekly Spend": 442.64000141620636,
          "brand": "Alpha",
          "week": 10
         },
         {
          "Weekly Spend": 258.62000012397766,
          "brand": "Alpha",
          "week": 11
         },
         {
          "Weekly Spend": 912.5899906158447,
          "brand": "Alpha",
          "week": 12
         },
         {
          "Weekly Spend": 443.6500049829483,
          "brand": "Alpha",
          "week": 13
         },
         {
          "Weekly Spend": 853.8300088644028,
          "brand": "Alpha",
          "week": 14
         },
         {
          "Weekly Spend": 446.1500027179718,
          "brand": "Alpha",
          "week": 15
         },
         {
          "Weekly Spend": 579.4600045681,
          "brand": "Alpha",
          "week": 16
         },
         {
          "Weekly Spend": 410.9300045967102,
          "brand": "Alpha",
          "week": 17
         },
         {
          "Weekly Spend": 703.3100029230118,
          "brand": "Alpha",
          "week": 18
         },
         {
          "Weekly Spend": 607.4000059366226,
          "brand": "Alpha",
          "week": 19
         },
         {
          "Weekly Spend": 801.2600085735321,
          "brand": "Alpha",
          "week": 20
         },
         {
          "Weekly Spend": 903.2700114250183,
          "brand": "Alpha",
          "week": 21
         },
         {
          "Weekly Spend": 672.10001039505,
          "brand": "Alpha",
          "week": 22
         },
         {
          "Weekly Spend": 620.7200074195862,
          "brand": "Alpha",
          "week": 23
         },
         {
          "Weekly Spend": 702.7500092983246,
          "brand": "Alpha",
          "week": 24
         },
         {
          "Weekly Spend": 509.1300070285797,
          "brand": "Alpha",
          "week": 25
         },
         {
          "Weekly Spend": 1977.6600477695465,
          "brand": "Alpha",
          "week": 26
         },
         {
          "Weekly Spend": 1180.6100231409073,
          "brand": "Alpha",
          "week": 27
         },
         {
          "Weekly Spend": 486.72000646591187,
          "brand": "Alpha",
          "week": 28
         },
         {
          "Weekly Spend": 507.5600049495697,
          "brand": "Alpha",
          "week": 29
         },
         {
          "Weekly Spend": 596.3200063705444,
          "brand": "Alpha",
          "week": 30
         },
         {
          "Weekly Spend": 604.0000065565109,
          "brand": "Alpha",
          "week": 31
         },
         {
          "Weekly Spend": 611.1400043964386,
          "brand": "Alpha",
          "week": 32
         },
         {
          "Weekly Spend": 614.9400051832199,
          "brand": "Alpha",
          "week": 33
         },
         {
          "Weekly Spend": 1535.920031428337,
          "brand": "Alpha",
          "week": 34
         },
         {
          "Weekly Spend": 1571.5100203752518,
          "brand": "Alpha",
          "week": 35
         },
         {
          "Weekly Spend": 587.4200024604797,
          "brand": "Alpha",
          "week": 36
         },
         {
          "Weekly Spend": 426.8699998855591,
          "brand": "Alpha",
          "week": 37
         },
         {
          "Weekly Spend": 383.7999994754791,
          "brand": "Alpha",
          "week": 38
         },
         {
          "Weekly Spend": 465.7200016975403,
          "brand": "Alpha",
          "week": 39
         },
         {
          "Weekly Spend": 447.03000152111053,
          "brand": "Alpha",
          "week": 40
         },
         {
          "Weekly Spend": 421.7700021266937,
          "brand": "Alpha",
          "week": 41
         },
         {
          "Weekly Spend": 364.6600021123886,
          "brand": "Alpha",
          "week": 42
         },
         {
          "Weekly Spend": 389.4200018644333,
          "brand": "Alpha",
          "week": 43
         },
         {
          "Weekly Spend": 408.3300014734268,
          "brand": "Alpha",
          "week": 44
         },
         {
          "Weekly Spend": 311.07999992370605,
          "brand": "Alpha",
          "week": 45
         },
         {
          "Weekly Spend": 575.4000034332275,
          "brand": "Alpha",
          "week": 46
         },
         {
          "Weekly Spend": 1188.4600063562393,
          "brand": "Alpha",
          "week": 47
         },
         {
          "Weekly Spend": 434.8900029659271,
          "brand": "Alpha",
          "week": 48
         },
         {
          "Weekly Spend": 365.03000128269196,
          "brand": "Alpha",
          "week": 49
         },
         {
          "Weekly Spend": 1164.7100034952164,
          "brand": "Alpha",
          "week": 50
         },
         {
          "Weekly Spend": 773.2100023031235,
          "brand": "Alpha",
          "week": 51
         },
         {
          "Weekly Spend": 789.4700044393539,
          "brand": "Alpha",
          "week": 52
         },
         {
          "Weekly Spend": 386.7500021457672,
          "brand": "Alpha",
          "week": 53
         },
         {
          "Weekly Spend": 586.9400025606155,
          "brand": "Alpha",
          "week": 54
         },
         {
          "Weekly Spend": 1045.8400052785873,
          "brand": "Alpha",
          "week": 55
         },
         {
          "Weekly Spend": 939.5100003480911,
          "brand": "Alpha",
          "week": 56
         },
         {
          "Weekly Spend": 1040.8999925851822,
          "brand": "Alpha",
          "week": 57
         },
         {
          "Weekly Spend": 308.99000096321106,
          "brand": "Alpha",
          "week": 58
         },
         {
          "Weekly Spend": 547.6300007104874,
          "brand": "Alpha",
          "week": 59
         },
         {
          "Weekly Spend": 363.9000024795532,
          "brand": "Alpha",
          "week": 60
         },
         {
          "Weekly Spend": 476.610004901886,
          "brand": "Alpha",
          "week": 61
         },
         {
          "Weekly Spend": 484.7000024318695,
          "brand": "Alpha",
          "week": 62
         },
         {
          "Weekly Spend": 359.4300036430359,
          "brand": "Alpha",
          "week": 63
         },
         {
          "Weekly Spend": 472.23000276088715,
          "brand": "Alpha",
          "week": 64
         },
         {
          "Weekly Spend": 665.6600025892258,
          "brand": "Alpha",
          "week": 65
         },
         {
          "Weekly Spend": 413.5799983739853,
          "brand": "Alpha",
          "week": 66
         },
         {
          "Weekly Spend": 364.3900008201599,
          "brand": "Alpha",
          "week": 67
         },
         {
          "Weekly Spend": 636.0400013923645,
          "brand": "Alpha",
          "week": 68
         },
         {
          "Weekly Spend": 356.25000047683716,
          "brand": "Alpha",
          "week": 69
         },
         {
          "Weekly Spend": 433.24000310897827,
          "brand": "Alpha",
          "week": 70
         },
         {
          "Weekly Spend": 507.0400013923645,
          "brand": "Alpha",
          "week": 71
         },
         {
          "Weekly Spend": 1328.0400084257126,
          "brand": "Alpha",
          "week": 72
         },
         {
          "Weekly Spend": 2070.160023212433,
          "brand": "Alpha",
          "week": 73
         },
         {
          "Weekly Spend": 606.7600026130676,
          "brand": "Alpha",
          "week": 74
         },
         {
          "Weekly Spend": 629.260003566742,
          "brand": "Alpha",
          "week": 75
         },
         {
          "Weekly Spend": 611.8900059461594,
          "brand": "Alpha",
          "week": 76
         },
         {
          "Weekly Spend": 1198.630003809929,
          "brand": "Alpha",
          "week": 77
         },
         {
          "Weekly Spend": 2345.440019249916,
          "brand": "Alpha",
          "week": 78
         },
         {
          "Weekly Spend": 1447.2300218343735,
          "brand": "Alpha",
          "week": 79
         },
         {
          "Weekly Spend": 531.500003695488,
          "brand": "Alpha",
          "week": 80
         },
         {
          "Weekly Spend": 570.0500017404556,
          "brand": "Alpha",
          "week": 81
         },
         {
          "Weekly Spend": 431.12000119686127,
          "brand": "Alpha",
          "week": 82
         },
         {
          "Weekly Spend": 529.8200017213821,
          "brand": "Alpha",
          "week": 83
         },
         {
          "Weekly Spend": 582.5800020694733,
          "brand": "Alpha",
          "week": 84
         },
         {
          "Weekly Spend": 802.8199973106384,
          "brand": "Alpha",
          "week": 85
         },
         {
          "Weekly Spend": 985.1100113391876,
          "brand": "Alpha",
          "week": 86
         },
         {
          "Weekly Spend": 1304.2600206136703,
          "brand": "Alpha",
          "week": 87
         },
         {
          "Weekly Spend": 991.0699965953827,
          "brand": "Alpha",
          "week": 88
         },
         {
          "Weekly Spend": 309.9800024032593,
          "brand": "Alpha",
          "week": 89
         },
         {
          "Weekly Spend": 477.56000554561615,
          "brand": "Alpha",
          "week": 90
         },
         {
          "Weekly Spend": 406.98000288009644,
          "brand": "Alpha",
          "week": 91
         },
         {
          "Weekly Spend": 390.30000352859497,
          "brand": "Alpha",
          "week": 92
         },
         {
          "Weekly Spend": 306.74000239372253,
          "brand": "Alpha",
          "week": 93
         },
         {
          "Weekly Spend": 376.91000497341156,
          "brand": "Alpha",
          "week": 94
         },
         {
          "Weekly Spend": 383.1100044250488,
          "brand": "Alpha",
          "week": 95
         },
         {
          "Weekly Spend": 674.0900100469589,
          "brand": "Alpha",
          "week": 96
         },
         {
          "Weekly Spend": 840.3900090456009,
          "brand": "Alpha",
          "week": 97
         },
         {
          "Weekly Spend": 1079.0800068378448,
          "brand": "Alpha",
          "week": 98
         },
         {
          "Weekly Spend": 384.9900037050247,
          "brand": "Alpha",
          "week": 99
         },
         {
          "Weekly Spend": 692.480005979538,
          "brand": "Alpha",
          "week": 100
         },
         {
          "Weekly Spend": 265.77000188827515,
          "brand": "Alpha",
          "week": 101
         },
         {
          "Weekly Spend": 379.6100050210953,
          "brand": "Alpha",
          "week": 102
         },
         {
          "Weekly Spend": 532.500004529953,
          "brand": "Alpha",
          "week": 103
         },
         {
          "Weekly Spend": 394.89000284671783,
          "brand": "Alpha",
          "week": 104
         }
        ]
       },
       "encoding": {
        "color": {
         "field": "brand",
         "legend": null,
         "type": "nominal"
        },
        "x": {
         "axis": {
          "labelExpr": "datum.value",
          "title": "Week",
          "values": [
           0,
           13,
           26,
           39,
           52,
           65,
           78,
           91,
           104
          ]
         },
         "field": "week",
         "type": "quantitative"
        },
        "y": {
         "axis": {
          "format": "$,.0f"
         },
         "field": "Weekly Spend",
         "title": "Spend ($)",
         "type": "quantitative"
        }
       },
       "height": 250,
       "mark": {
        "strokeWidth": 1,
        "type": "line"
       },
       "title": "Alpha - Weekly Revenue",
       "width": 650
      },
      "text/plain": [
       "<VegaLite 5 object>\n",
       "\n",
       "If you see this message, it means the renderer has not been properly enabled\n",
       "for the frontend that you are using. For more information, see\n",
       "https://altair-viz.github.io/user_guide/display_frontends.html#troubleshooting\n"
      ]
     },
     "execution_count": 12,
     "metadata": {},
     "output_type": "execute_result"
    }
   ],
   "source": [
    "weekly_plot(dataframe=weekly_spend_summary('Alpha', grocery_lf).collect(), \n",
    "            y='Weekly Spend', \n",
    "            color='brand',\n",
    "            title='Alpha - Weekly Revenue', \n",
    "            y_axis_label='Spend ($)',\n",
    "            pct=False,\n",
    "            legend=False)"
   ]
  },
  {
   "cell_type": "code",
   "execution_count": 13,
   "metadata": {},
   "outputs": [
    {
     "data": {
      "application/vnd.vegalite.v5+json": {
       "$schema": "https://vega.github.io/schema/vega-lite/v5.20.1.json",
       "config": {
        "axisY": {},
        "view": {
         "continuousHeight": 300,
         "continuousWidth": 300,
         "stroke": null
        }
       },
       "data": {
        "name": "data-36f56e0394e6331faa0389e7e5280c8d"
       },
       "datasets": {
        "data-36f56e0394e6331faa0389e7e5280c8d": [
         {
          "Weekly Spend": 247.78000330924988,
          "brand": "Bravo",
          "week": 1
         },
         {
          "Weekly Spend": 398.6400067806244,
          "brand": "Bravo",
          "week": 2
         },
         {
          "Weekly Spend": 639.9800078868866,
          "brand": "Bravo",
          "week": 3
         },
         {
          "Weekly Spend": 472.5000035762787,
          "brand": "Bravo",
          "week": 4
         },
         {
          "Weekly Spend": 252.5400027036667,
          "brand": "Bravo",
          "week": 5
         },
         {
          "Weekly Spend": 239.8100037574768,
          "brand": "Bravo",
          "week": 6
         },
         {
          "Weekly Spend": 271.98000395298004,
          "brand": "Bravo",
          "week": 7
         },
         {
          "Weekly Spend": 295.71000468730927,
          "brand": "Bravo",
          "week": 8
         },
         {
          "Weekly Spend": 384.3699994087219,
          "brand": "Bravo",
          "week": 9
         },
         {
          "Weekly Spend": 454.2200051546097,
          "brand": "Bravo",
          "week": 10
         },
         {
          "Weekly Spend": 695.2700042724609,
          "brand": "Bravo",
          "week": 11
         },
         {
          "Weekly Spend": 492.8800095319748,
          "brand": "Bravo",
          "week": 12
         },
         {
          "Weekly Spend": 501.1300083398819,
          "brand": "Bravo",
          "week": 13
         },
         {
          "Weekly Spend": 385.2300044298172,
          "brand": "Bravo",
          "week": 14
         },
         {
          "Weekly Spend": 804.3600097894669,
          "brand": "Bravo",
          "week": 15
         },
         {
          "Weekly Spend": 365.98000621795654,
          "brand": "Bravo",
          "week": 16
         },
         {
          "Weekly Spend": 458.490008354187,
          "brand": "Bravo",
          "week": 17
         },
         {
          "Weekly Spend": 475.38000535964966,
          "brand": "Bravo",
          "week": 18
         },
         {
          "Weekly Spend": 455.2800050973892,
          "brand": "Bravo",
          "week": 19
         },
         {
          "Weekly Spend": 929.7400115728378,
          "brand": "Bravo",
          "week": 20
         },
         {
          "Weekly Spend": 1675.4100246429443,
          "brand": "Bravo",
          "week": 21
         },
         {
          "Weekly Spend": 557.8800053596497,
          "brand": "Bravo",
          "week": 22
         },
         {
          "Weekly Spend": 508.03000593185425,
          "brand": "Bravo",
          "week": 23
         },
         {
          "Weekly Spend": 508.14000856876373,
          "brand": "Bravo",
          "week": 24
         },
         {
          "Weekly Spend": 635.4300094842911,
          "brand": "Bravo",
          "week": 25
         },
         {
          "Weekly Spend": 1674.2300254106522,
          "brand": "Bravo",
          "week": 26
         },
         {
          "Weekly Spend": 592.8100076913834,
          "brand": "Bravo",
          "week": 27
         },
         {
          "Weekly Spend": 697.8100134134293,
          "brand": "Bravo",
          "week": 28
         },
         {
          "Weekly Spend": 474.2400059700012,
          "brand": "Bravo",
          "week": 29
         },
         {
          "Weekly Spend": 411.2600003480911,
          "brand": "Bravo",
          "week": 30
         },
         {
          "Weekly Spend": 751.1599987745285,
          "brand": "Bravo",
          "week": 31
         },
         {
          "Weekly Spend": 1065.2099907398224,
          "brand": "Bravo",
          "week": 32
         },
         {
          "Weekly Spend": 418.6600013971329,
          "brand": "Bravo",
          "week": 33
         },
         {
          "Weekly Spend": 410.8000007867813,
          "brand": "Bravo",
          "week": 34
         },
         {
          "Weekly Spend": 624.1900020837784,
          "brand": "Bravo",
          "week": 35
         },
         {
          "Weekly Spend": 389.60999953746796,
          "brand": "Bravo",
          "week": 36
         },
         {
          "Weekly Spend": 333.6600012779236,
          "brand": "Bravo",
          "week": 37
         },
         {
          "Weekly Spend": 371.7399994134903,
          "brand": "Bravo",
          "week": 38
         },
         {
          "Weekly Spend": 283.4500015974045,
          "brand": "Bravo",
          "week": 39
         },
         {
          "Weekly Spend": 440.0200049877167,
          "brand": "Bravo",
          "week": 40
         },
         {
          "Weekly Spend": 477.62000012397766,
          "brand": "Bravo",
          "week": 41
         },
         {
          "Weekly Spend": 647.060005903244,
          "brand": "Bravo",
          "week": 42
         },
         {
          "Weekly Spend": 714.1899987459183,
          "brand": "Bravo",
          "week": 43
         },
         {
          "Weekly Spend": 1532.9299746751785,
          "brand": "Bravo",
          "week": 44
         },
         {
          "Weekly Spend": 352.97000217437744,
          "brand": "Bravo",
          "week": 45
         },
         {
          "Weekly Spend": 447.6200009584427,
          "brand": "Bravo",
          "week": 46
         },
         {
          "Weekly Spend": 234.73000144958496,
          "brand": "Bravo",
          "week": 47
         },
         {
          "Weekly Spend": 261.139998793602,
          "brand": "Bravo",
          "week": 48
         },
         {
          "Weekly Spend": 505.4099955558777,
          "brand": "Bravo",
          "week": 49
         },
         {
          "Weekly Spend": 301.86000084877014,
          "brand": "Bravo",
          "week": 50
         },
         {
          "Weekly Spend": 833.8700000047684,
          "brand": "Bravo",
          "week": 51
         },
         {
          "Weekly Spend": 248.94000136852264,
          "brand": "Bravo",
          "week": 52
         },
         {
          "Weekly Spend": 335.0300018787384,
          "brand": "Bravo",
          "week": 53
         },
         {
          "Weekly Spend": 343.80000019073486,
          "brand": "Bravo",
          "week": 54
         },
         {
          "Weekly Spend": 359.2599971294403,
          "brand": "Bravo",
          "week": 55
         },
         {
          "Weekly Spend": 503.6199997663498,
          "brand": "Bravo",
          "week": 56
         },
         {
          "Weekly Spend": 661.1299949884415,
          "brand": "Bravo",
          "week": 57
         },
         {
          "Weekly Spend": 264.37999987602234,
          "brand": "Bravo",
          "week": 58
         },
         {
          "Weekly Spend": 206.17999923229218,
          "brand": "Bravo",
          "week": 59
         },
         {
          "Weekly Spend": 318.5699977874756,
          "brand": "Bravo",
          "week": 60
         },
         {
          "Weekly Spend": 310.31999826431274,
          "brand": "Bravo",
          "week": 61
         },
         {
          "Weekly Spend": 314.0199975967407,
          "brand": "Bravo",
          "week": 62
         },
         {
          "Weekly Spend": 575.7499986886978,
          "brand": "Bravo",
          "week": 63
         },
         {
          "Weekly Spend": 707.9799927473068,
          "brand": "Bravo",
          "week": 64
         },
         {
          "Weekly Spend": 454.12999975681305,
          "brand": "Bravo",
          "week": 65
         },
         {
          "Weekly Spend": 393.75999999046326,
          "brand": "Bravo",
          "week": 66
         },
         {
          "Weekly Spend": 306.229998588562,
          "brand": "Bravo",
          "week": 67
         },
         {
          "Weekly Spend": 516.4500005245209,
          "brand": "Bravo",
          "week": 68
         },
         {
          "Weekly Spend": 950.0200136899948,
          "brand": "Bravo",
          "week": 69
         },
         {
          "Weekly Spend": 373.32999992370605,
          "brand": "Bravo",
          "week": 70
         },
         {
          "Weekly Spend": 483.2299997806549,
          "brand": "Bravo",
          "week": 71
         },
         {
          "Weekly Spend": 418.29999804496765,
          "brand": "Bravo",
          "week": 72
         },
         {
          "Weekly Spend": 1304.5799791812897,
          "brand": "Bravo",
          "week": 73
         },
         {
          "Weekly Spend": 436.169997215271,
          "brand": "Bravo",
          "week": 74
         },
         {
          "Weekly Spend": 415.1799968481064,
          "brand": "Bravo",
          "week": 75
         },
         {
          "Weekly Spend": 471.5399960279465,
          "brand": "Bravo",
          "week": 76
         },
         {
          "Weekly Spend": 584.8999961614609,
          "brand": "Bravo",
          "week": 77
         },
         {
          "Weekly Spend": 1157.2999852895737,
          "brand": "Bravo",
          "week": 78
         },
         {
          "Weekly Spend": 826.669994354248,
          "brand": "Bravo",
          "week": 79
         },
         {
          "Weekly Spend": 546.2299959659576,
          "brand": "Bravo",
          "week": 80
         },
         {
          "Weekly Spend": 599.6499954462051,
          "brand": "Bravo",
          "week": 81
         },
         {
          "Weekly Spend": 593.8699969053268,
          "brand": "Bravo",
          "week": 82
         },
         {
          "Weekly Spend": 455.3099958896637,
          "brand": "Bravo",
          "week": 83
         },
         {
          "Weekly Spend": 379.28999733924866,
          "brand": "Bravo",
          "week": 84
         },
         {
          "Weekly Spend": 542.0899964570999,
          "brand": "Bravo",
          "week": 85
         },
         {
          "Weekly Spend": 619.7499898672104,
          "brand": "Bravo",
          "week": 86
         },
         {
          "Weekly Spend": 1420.1199795007706,
          "brand": "Bravo",
          "week": 87
         },
         {
          "Weekly Spend": 284.70999550819397,
          "brand": "Bravo",
          "week": 88
         },
         {
          "Weekly Spend": 327.39999771118164,
          "brand": "Bravo",
          "week": 89
         },
         {
          "Weekly Spend": 334.759997010231,
          "brand": "Bravo",
          "week": 90
         },
         {
          "Weekly Spend": 510.3299914598465,
          "brand": "Bravo",
          "week": 91
         },
         {
          "Weekly Spend": 399.289998292923,
          "brand": "Bravo",
          "week": 92
         },
         {
          "Weekly Spend": 241.12999737262726,
          "brand": "Bravo",
          "week": 93
         },
         {
          "Weekly Spend": 317.20999681949615,
          "brand": "Bravo",
          "week": 94
         },
         {
          "Weekly Spend": 393.60999965667725,
          "brand": "Bravo",
          "week": 95
         },
         {
          "Weekly Spend": 232.6799976825714,
          "brand": "Bravo",
          "week": 96
         },
         {
          "Weekly Spend": 676.0799893140793,
          "brand": "Bravo",
          "week": 97
         },
         {
          "Weekly Spend": 1464.91996717453,
          "brand": "Bravo",
          "week": 98
         },
         {
          "Weekly Spend": 780.489991903305,
          "brand": "Bravo",
          "week": 99
         },
         {
          "Weekly Spend": 420.4799962043762,
          "brand": "Bravo",
          "week": 100
         },
         {
          "Weekly Spend": 264.65999937057495,
          "brand": "Bravo",
          "week": 101
         },
         {
          "Weekly Spend": 456.789990067482,
          "brand": "Bravo",
          "week": 102
         },
         {
          "Weekly Spend": 440.9999964237213,
          "brand": "Bravo",
          "week": 103
         },
         {
          "Weekly Spend": 233.18999826908112,
          "brand": "Bravo",
          "week": 104
         }
        ]
       },
       "encoding": {
        "color": {
         "field": "brand",
         "legend": null,
         "type": "nominal"
        },
        "x": {
         "axis": {
          "labelExpr": "datum.value",
          "title": "Week",
          "values": [
           0,
           13,
           26,
           39,
           52,
           65,
           78,
           91,
           104
          ]
         },
         "field": "week",
         "type": "quantitative"
        },
        "y": {
         "axis": {
          "format": "$,.0f"
         },
         "field": "Weekly Spend",
         "title": "Spend ($)",
         "type": "quantitative"
        }
       },
       "height": 250,
       "mark": {
        "strokeWidth": 1,
        "type": "line"
       },
       "title": "Bravo - Weekly Revenue",
       "width": 650
      },
      "text/plain": [
       "<VegaLite 5 object>\n",
       "\n",
       "If you see this message, it means the renderer has not been properly enabled\n",
       "for the frontend that you are using. For more information, see\n",
       "https://altair-viz.github.io/user_guide/display_frontends.html#troubleshooting\n"
      ]
     },
     "execution_count": 13,
     "metadata": {},
     "output_type": "execute_result"
    }
   ],
   "source": [
    "weekly_plot(dataframe=weekly_spend_summary('Bravo', grocery_lf).collect(), \n",
    "            y='Weekly Spend', \n",
    "            color='brand',\n",
    "            title='Bravo - Weekly Revenue', \n",
    "            y_axis_label='Spend ($)',\n",
    "            pct=False,\n",
    "            legend=False)"
   ]
  },
  {
   "cell_type": "markdown",
   "metadata": {},
   "source": [
    "#### Weekly (Volume) Market Share"
   ]
  },
  {
   "cell_type": "code",
   "execution_count": 14,
   "metadata": {},
   "outputs": [
    {
     "data": {
      "text/html": [
       "<div><style>\n",
       ".dataframe > thead > tr,\n",
       ".dataframe > tbody > tr {\n",
       "  text-align: right;\n",
       "  white-space: pre-wrap;\n",
       "}\n",
       "</style>\n",
       "<small>shape: (104, 6)</small><table border=\"1\" class=\"dataframe\"><thead><tr><th>week</th><th>Alpha</th><th>Bravo</th><th>Charlie</th><th>Delta</th><th>Other</th></tr><tr><td>i16</td><td>f64</td><td>f64</td><td>f64</td><td>f64</td><td>f64</td></tr></thead><tbody><tr><td>1</td><td>0.481077</td><td>0.355011</td><td>0.11194</td><td>0.02532</td><td>0.026652</td></tr><tr><td>2</td><td>0.524953</td><td>0.371525</td><td>0.059391</td><td>0.029696</td><td>0.014435</td></tr><tr><td>3</td><td>0.389338</td><td>0.508812</td><td>0.060676</td><td>0.032505</td><td>0.008668</td></tr><tr><td>4</td><td>0.677032</td><td>0.230511</td><td>0.036686</td><td>0.044984</td><td>0.010787</td></tr><tr><td>5</td><td>0.428735</td><td>0.324306</td><td>0.07574</td><td>0.119348</td><td>0.051871</td></tr><tr><td>&hellip;</td><td>&hellip;</td><td>&hellip;</td><td>&hellip;</td><td>&hellip;</td><td>&hellip;</td></tr><tr><td>100</td><td>0.545707</td><td>0.31711</td><td>0.080381</td><td>0.039087</td><td>0.017715</td></tr><tr><td>101</td><td>0.36891</td><td>0.40552</td><td>0.140805</td><td>0.059138</td><td>0.025627</td></tr><tr><td>102</td><td>0.342581</td><td>0.543494</td><td>0.071147</td><td>0.019689</td><td>0.023089</td></tr><tr><td>103</td><td>0.424609</td><td>0.415495</td><td>0.100574</td><td>0.042429</td><td>0.016893</td></tr><tr><td>104</td><td>0.457298</td><td>0.290104</td><td>0.110032</td><td>0.112969</td><td>0.029598</td></tr></tbody></table></div>"
      ],
      "text/plain": [
       "shape: (104, 6)\n",
       "┌──────┬──────────┬──────────┬──────────┬──────────┬──────────┐\n",
       "│ week ┆ Alpha    ┆ Bravo    ┆ Charlie  ┆ Delta    ┆ Other    │\n",
       "│ ---  ┆ ---      ┆ ---      ┆ ---      ┆ ---      ┆ ---      │\n",
       "│ i16  ┆ f64      ┆ f64      ┆ f64      ┆ f64      ┆ f64      │\n",
       "╞══════╪══════════╪══════════╪══════════╪══════════╪══════════╡\n",
       "│ 1    ┆ 0.481077 ┆ 0.355011 ┆ 0.11194  ┆ 0.02532  ┆ 0.026652 │\n",
       "│ 2    ┆ 0.524953 ┆ 0.371525 ┆ 0.059391 ┆ 0.029696 ┆ 0.014435 │\n",
       "│ 3    ┆ 0.389338 ┆ 0.508812 ┆ 0.060676 ┆ 0.032505 ┆ 0.008668 │\n",
       "│ 4    ┆ 0.677032 ┆ 0.230511 ┆ 0.036686 ┆ 0.044984 ┆ 0.010787 │\n",
       "│ 5    ┆ 0.428735 ┆ 0.324306 ┆ 0.07574  ┆ 0.119348 ┆ 0.051871 │\n",
       "│ …    ┆ …        ┆ …        ┆ …        ┆ …        ┆ …        │\n",
       "│ 100  ┆ 0.545707 ┆ 0.31711  ┆ 0.080381 ┆ 0.039087 ┆ 0.017715 │\n",
       "│ 101  ┆ 0.36891  ┆ 0.40552  ┆ 0.140805 ┆ 0.059138 ┆ 0.025627 │\n",
       "│ 102  ┆ 0.342581 ┆ 0.543494 ┆ 0.071147 ┆ 0.019689 ┆ 0.023089 │\n",
       "│ 103  ┆ 0.424609 ┆ 0.415495 ┆ 0.100574 ┆ 0.042429 ┆ 0.016893 │\n",
       "│ 104  ┆ 0.457298 ┆ 0.290104 ┆ 0.110032 ┆ 0.112969 ┆ 0.029598 │\n",
       "└──────┴──────────┴──────────┴──────────┴──────────┴──────────┘"
      ]
     },
     "execution_count": 14,
     "metadata": {},
     "output_type": "execute_result"
    }
   ],
   "source": [
    "# Weekly (volume) market share\n",
    "pct_volume =(\n",
    "    weekly_vol_summary('All', grocery_lf)\n",
    "    .collect()\n",
    "    .pivot(\n",
    "        on='brand',\n",
    "        index='week',\n",
    "        values='Weekly Volume',\n",
    "        sort_columns=True\n",
    "    )\n",
    "    .with_columns(\n",
    "        (pl.col(\"*\").exclude(\"week\")) / pl.sum_horizontal(pl.exclude('week')).cast(pl.Float64)\n",
    "    )\n",
    ")\n",
    "pct_volume"
   ]
  },
  {
   "cell_type": "code",
   "execution_count": 15,
   "metadata": {},
   "outputs": [
    {
     "data": {
      "application/vnd.vegalite.v5+json": {
       "$schema": "https://vega.github.io/schema/vega-lite/v5.20.1.json",
       "config": {
        "axisY": {},
        "view": {
         "continuousHeight": 300,
         "continuousWidth": 300,
         "stroke": null
        }
       },
       "data": {
        "name": "data-645a9cbaae45b3bb699e01ff179f71ca"
       },
       "datasets": {
        "data-645a9cbaae45b3bb699e01ff179f71ca": [
         {
          "Total Weekly Volume": 187.59999999999997,
          "Weekly Volume": 90.24999999999999,
          "brand": "Alpha",
          "pct_volume": 0.4810767590618337,
          "week": 1
         },
         {
          "Total Weekly Volume": 187.59999999999997,
          "Weekly Volume": 66.6,
          "brand": "Bravo",
          "pct_volume": 0.35501066098081024,
          "week": 1
         },
         {
          "Total Weekly Volume": 303.075,
          "Weekly Volume": 159.1,
          "brand": "Alpha",
          "pct_volume": 0.5249525694959993,
          "week": 2
         },
         {
          "Total Weekly Volume": 303.075,
          "Weekly Volume": 112.6,
          "brand": "Bravo",
          "pct_volume": 0.3715252000329951,
          "week": 2
         },
         {
          "Total Weekly Volume": 346.1,
          "Weekly Volume": 176.10000000000002,
          "brand": "Bravo",
          "pct_volume": 0.5088124819416354,
          "week": 3
         },
         {
          "Total Weekly Volume": 346.1,
          "Weekly Volume": 134.75,
          "brand": "Alpha",
          "pct_volume": 0.38933834151979196,
          "week": 3
         },
         {
          "Total Weekly Volume": 572.425,
          "Weekly Volume": 387.55000000000007,
          "brand": "Alpha",
          "pct_volume": 0.6770319255797704,
          "week": 4
         },
         {
          "Total Weekly Volume": 572.425,
          "Weekly Volume": 131.95,
          "brand": "Bravo",
          "pct_volume": 0.230510547233262,
          "week": 4
         },
         {
          "Total Weekly Volume": 217.85000000000002,
          "Weekly Volume": 70.65,
          "brand": "Bravo",
          "pct_volume": 0.3243057149414735,
          "week": 5
         },
         {
          "Total Weekly Volume": 217.85000000000002,
          "Weekly Volume": 93.39999999999999,
          "brand": "Alpha",
          "pct_volume": 0.42873536837273346,
          "week": 5
         },
         {
          "Total Weekly Volume": 224.45,
          "Weekly Volume": 99.64999999999999,
          "brand": "Alpha",
          "pct_volume": 0.4439741590554689,
          "week": 6
         },
         {
          "Total Weekly Volume": 224.45,
          "Weekly Volume": 67.4,
          "brand": "Bravo",
          "pct_volume": 0.30028959679215866,
          "week": 6
         },
         {
          "Total Weekly Volume": 235.64999999999998,
          "Weekly Volume": 74.85,
          "brand": "Bravo",
          "pct_volume": 0.3176320814767664,
          "week": 7
         },
         {
          "Total Weekly Volume": 235.64999999999998,
          "Weekly Volume": 111.64999999999999,
          "brand": "Alpha",
          "pct_volume": 0.4737958837258646,
          "week": 7
         },
         {
          "Total Weekly Volume": 234.39999999999998,
          "Weekly Volume": 85.64999999999998,
          "brand": "Alpha",
          "pct_volume": 0.36540102389078494,
          "week": 8
         },
         {
          "Total Weekly Volume": 234.39999999999998,
          "Weekly Volume": 85.25,
          "brand": "Bravo",
          "pct_volume": 0.3636945392491468,
          "week": 8
         },
         {
          "Total Weekly Volume": 231.8,
          "Weekly Volume": 75.1,
          "brand": "Alpha",
          "pct_volume": 0.32398619499568587,
          "week": 9
         },
         {
          "Total Weekly Volume": 231.8,
          "Weekly Volume": 112.7,
          "brand": "Bravo",
          "pct_volume": 0.48619499568593616,
          "week": 9
         },
         {
          "Total Weekly Volume": 279.6,
          "Weekly Volume": 130.2,
          "brand": "Bravo",
          "pct_volume": 0.46566523605150206,
          "week": 10
         },
         {
          "Total Weekly Volume": 279.6,
          "Weekly Volume": 118.1,
          "brand": "Alpha",
          "pct_volume": 0.4223891273247496,
          "week": 10
         },
         {
          "Total Weekly Volume": 299.675,
          "Weekly Volume": 200.15,
          "brand": "Bravo",
          "pct_volume": 0.6678902143989321,
          "week": 11
         },
         {
          "Total Weekly Volume": 299.675,
          "Weekly Volume": 70.44999999999999,
          "brand": "Alpha",
          "pct_volume": 0.23508801201301405,
          "week": 11
         },
         {
          "Total Weekly Volume": 448.25,
          "Weekly Volume": 251.55000000000004,
          "brand": "Alpha",
          "pct_volume": 0.5611823759063024,
          "week": 12
         },
         {
          "Total Weekly Volume": 448.25,
          "Weekly Volume": 144.29999999999998,
          "brand": "Bravo",
          "pct_volume": 0.32191857222532066,
          "week": 12
         },
         {
          "Total Weekly Volume": 326.92499999999995,
          "Weekly Volume": 145.05,
          "brand": "Bravo",
          "pct_volume": 0.44367974306033503,
          "week": 13
         },
         {
          "Total Weekly Volume": 326.92499999999995,
          "Weekly Volume": 122.19999999999997,
          "brand": "Alpha",
          "pct_volume": 0.37378603655272613,
          "week": 13
         },
         {
          "Total Weekly Volume": 444.5,
          "Weekly Volume": 248.4,
          "brand": "Alpha",
          "pct_volume": 0.558830146231721,
          "week": 14
         },
         {
          "Total Weekly Volume": 444.5,
          "Weekly Volume": 111.94999999999997,
          "brand": "Bravo",
          "pct_volume": 0.2518560179977502,
          "week": 14
         },
         {
          "Total Weekly Volume": 405.75000000000006,
          "Weekly Volume": 121.19999999999999,
          "brand": "Alpha",
          "pct_volume": 0.29870609981515706,
          "week": 15
         },
         {
          "Total Weekly Volume": 405.75000000000006,
          "Weekly Volume": 229.05000000000007,
          "brand": "Bravo",
          "pct_volume": 0.5645101663585953,
          "week": 15
         },
         {
          "Total Weekly Volume": 307.475,
          "Weekly Volume": 165.05,
          "brand": "Alpha",
          "pct_volume": 0.5367916090739084,
          "week": 16
         },
         {
          "Total Weekly Volume": 307.475,
          "Weekly Volume": 106.29999999999998,
          "brand": "Bravo",
          "pct_volume": 0.3457191641596877,
          "week": 16
         },
         {
          "Total Weekly Volume": 355.7,
          "Weekly Volume": 128.75,
          "brand": "Bravo",
          "pct_volume": 0.3619623278043295,
          "week": 17
         },
         {
          "Total Weekly Volume": 355.7,
          "Weekly Volume": 114.19999999999999,
          "brand": "Alpha",
          "pct_volume": 0.3210570705650829,
          "week": 17
         },
         {
          "Total Weekly Volume": 446.65000000000003,
          "Weekly Volume": 132.45,
          "brand": "Bravo",
          "pct_volume": 0.29654091570580987,
          "week": 18
         },
         {
          "Total Weekly Volume": 446.65000000000003,
          "Weekly Volume": 194.20000000000002,
          "brand": "Alpha",
          "pct_volume": 0.43479234299787306,
          "week": 18
         },
         {
          "Total Weekly Volume": 419.1,
          "Weekly Volume": 170.3,
          "brand": "Alpha",
          "pct_volume": 0.406346933905989,
          "week": 19
         },
         {
          "Total Weekly Volume": 419.1,
          "Weekly Volume": 126.89999999999996,
          "brand": "Bravo",
          "pct_volume": 0.3027916964924838,
          "week": 19
         },
         {
          "Total Weekly Volume": 608.6000000000001,
          "Weekly Volume": 270.00000000000006,
          "brand": "Bravo",
          "pct_volume": 0.4436411436082813,
          "week": 20
         },
         {
          "Total Weekly Volume": 608.6000000000001,
          "Weekly Volume": 227.35,
          "brand": "Alpha",
          "pct_volume": 0.3735622740716397,
          "week": 20
         },
         {
          "Total Weekly Volume": 817.8250000000002,
          "Weekly Volume": 488.40000000000015,
          "brand": "Bravo",
          "pct_volume": 0.5971937761746096,
          "week": 21
         },
         {
          "Total Weekly Volume": 817.8250000000002,
          "Weekly Volume": 260.00000000000006,
          "brand": "Alpha",
          "pct_volume": 0.31791642466297804,
          "week": 21
         },
         {
          "Total Weekly Volume": 391.25,
          "Weekly Volume": 183.8,
          "brand": "Alpha",
          "pct_volume": 0.46977635782747607,
          "week": 22
         },
         {
          "Total Weekly Volume": 391.25,
          "Weekly Volume": 161.5,
          "brand": "Bravo",
          "pct_volume": 0.412779552715655,
          "week": 22
         },
         {
          "Total Weekly Volume": 379.525,
          "Weekly Volume": 143.84999999999997,
          "brand": "Bravo",
          "pct_volume": 0.3790264145971938,
          "week": 23
         },
         {
          "Total Weekly Volume": 379.525,
          "Weekly Volume": 168.70000000000002,
          "brand": "Alpha",
          "pct_volume": 0.44450299716751207,
          "week": 23
         },
         {
          "Total Weekly Volume": 492.09999999999997,
          "Weekly Volume": 164.2,
          "brand": "Bravo",
          "pct_volume": 0.3336720178825442,
          "week": 24
         },
         {
          "Total Weekly Volume": 492.09999999999997,
          "Weekly Volume": 186.89999999999998,
          "brand": "Alpha",
          "pct_volume": 0.379800853485064,
          "week": 24
         },
         {
          "Total Weekly Volume": 379.20000000000005,
          "Weekly Volume": 134.8,
          "brand": "Alpha",
          "pct_volume": 0.35548523206751054,
          "week": 25
         },
         {
          "Total Weekly Volume": 379.20000000000005,
          "Weekly Volume": 178.3,
          "brand": "Bravo",
          "pct_volume": 0.47020042194092826,
          "week": 25
         },
         {
          "Total Weekly Volume": 1095.6000000000001,
          "Weekly Volume": 474.25000000000017,
          "brand": "Bravo",
          "pct_volume": 0.4328678349762688,
          "week": 26
         },
         {
          "Total Weekly Volume": 1095.6000000000001,
          "Weekly Volume": 559.0500000000001,
          "brand": "Alpha",
          "pct_volume": 0.5102683461117196,
          "week": 26
         },
         {
          "Total Weekly Volume": 596.225,
          "Weekly Volume": 162.75,
          "brand": "Bravo",
          "pct_volume": 0.2729674200176108,
          "week": 27
         },
         {
          "Total Weekly Volume": 596.225,
          "Weekly Volume": 334.70000000000005,
          "brand": "Alpha",
          "pct_volume": 0.5613652564048808,
          "week": 27
         },
         {
          "Total Weekly Volume": 395.02500000000003,
          "Weekly Volume": 190.25000000000006,
          "brand": "Bravo",
          "pct_volume": 0.4816150876526803,
          "week": 28
         },
         {
          "Total Weekly Volume": 395.02500000000003,
          "Weekly Volume": 128.64999999999998,
          "brand": "Alpha",
          "pct_volume": 0.3256755901525219,
          "week": 28
         },
         {
          "Total Weekly Volume": 329.17499999999995,
          "Weekly Volume": 133.95,
          "brand": "Alpha",
          "pct_volume": 0.40692640692640697,
          "week": 29
         },
         {
          "Total Weekly Volume": 329.17499999999995,
          "Weekly Volume": 133.19999999999996,
          "brand": "Bravo",
          "pct_volume": 0.404647983595352,
          "week": 29
         },
         {
          "Total Weekly Volume": 356.7249999999999,
          "Weekly Volume": 110.99999999999999,
          "brand": "Bravo",
          "pct_volume": 0.31116406195248447,
          "week": 30
         },
         {
          "Total Weekly Volume": 356.7249999999999,
          "Weekly Volume": 154.99999999999997,
          "brand": "Alpha",
          "pct_volume": 0.4345083747985143,
          "week": 30
         },
         {
          "Total Weekly Volume": 483.70000000000005,
          "Weekly Volume": 212.10000000000002,
          "brand": "Bravo",
          "pct_volume": 0.4384949348769899,
          "week": 31
         },
         {
          "Total Weekly Volume": 483.70000000000005,
          "Weekly Volume": 163.25,
          "brand": "Alpha",
          "pct_volume": 0.3375025842464337,
          "week": 31
         },
         {
          "Total Weekly Volume": 554.0500000000001,
          "Weekly Volume": 160.20000000000002,
          "brand": "Alpha",
          "pct_volume": 0.2891435790993593,
          "week": 32
         },
         {
          "Total Weekly Volume": 554.0500000000001,
          "Weekly Volume": 315.1000000000001,
          "brand": "Bravo",
          "pct_volume": 0.5687212345456187,
          "week": 32
         },
         {
          "Total Weekly Volume": 331.04999999999995,
          "Weekly Volume": 111.14999999999995,
          "brand": "Bravo",
          "pct_volume": 0.3357498867240597,
          "week": 33
         },
         {
          "Total Weekly Volume": 331.04999999999995,
          "Weekly Volume": 161.50000000000003,
          "brand": "Alpha",
          "pct_volume": 0.4878417157529076,
          "week": 33
         },
         {
          "Total Weekly Volume": 592.2250000000001,
          "Weekly Volume": 108.94999999999993,
          "brand": "Bravo",
          "pct_volume": 0.18396724217991456,
          "week": 34
         },
         {
          "Total Weekly Volume": 592.2250000000001,
          "Weekly Volume": 432.90000000000015,
          "brand": "Alpha",
          "pct_volume": 0.730972181181139,
          "week": 34
         },
         {
          "Total Weekly Volume": 657.9500000000002,
          "Weekly Volume": 182.40000000000003,
          "brand": "Bravo",
          "pct_volume": 0.2772247131240976,
          "week": 35
         },
         {
          "Total Weekly Volume": 657.9500000000002,
          "Weekly Volume": 432.6500000000001,
          "brand": "Alpha",
          "pct_volume": 0.6575727638878334,
          "week": 35
         },
         {
          "Total Weekly Volume": 346.87499999999994,
          "Weekly Volume": 109.64999999999998,
          "brand": "Bravo",
          "pct_volume": 0.3161081081081081,
          "week": 36
         },
         {
          "Total Weekly Volume": 346.87499999999994,
          "Weekly Volume": 152.25,
          "brand": "Alpha",
          "pct_volume": 0.438918918918919,
          "week": 36
         },
         {
          "Total Weekly Volume": 266.025,
          "Weekly Volume": 93.64999999999998,
          "brand": "Bravo",
          "pct_volume": 0.3520345832158631,
          "week": 37
         },
         {
          "Total Weekly Volume": 266.025,
          "Weekly Volume": 113.14999999999999,
          "brand": "Alpha",
          "pct_volume": 0.4253359646649751,
          "week": 37
         },
         {
          "Total Weekly Volume": 260.4,
          "Weekly Volume": 110.45,
          "brand": "Bravo",
          "pct_volume": 0.4241551459293395,
          "week": 38
         },
         {
          "Total Weekly Volume": 260.4,
          "Weekly Volume": 98.44999999999999,
          "brand": "Alpha",
          "pct_volume": 0.3780721966205837,
          "week": 38
         },
         {
          "Total Weekly Volume": 270.95,
          "Weekly Volume": 124.35,
          "brand": "Alpha",
          "pct_volume": 0.45894076397859385,
          "week": 39
         },
         {
          "Total Weekly Volume": 270.95,
          "Weekly Volume": 78.19999999999999,
          "brand": "Bravo",
          "pct_volume": 0.2886141354493449,
          "week": 39
         },
         {
          "Total Weekly Volume": 295.2249999999999,
          "Weekly Volume": 120.04999999999998,
          "brand": "Bravo",
          "pct_volume": 0.40663900414937765,
          "week": 40
         },
         {
          "Total Weekly Volume": 295.2249999999999,
          "Weekly Volume": 116.79999999999995,
          "brand": "Alpha",
          "pct_volume": 0.3956304513506647,
          "week": 40
         },
         {
          "Total Weekly Volume": 330.29999999999995,
          "Weekly Volume": 134.04999999999998,
          "brand": "Bravo",
          "pct_volume": 0.40584317287314564,
          "week": 41
         },
         {
          "Total Weekly Volume": 330.29999999999995,
          "Weekly Volume": 111.35,
          "brand": "Alpha",
          "pct_volume": 0.3371177717226764,
          "week": 41
         },
         {
          "Total Weekly Volume": 329.80000000000007,
          "Weekly Volume": 182.00000000000003,
          "brand": "Bravo",
          "pct_volume": 0.55184960582171,
          "week": 42
         },
         {
          "Total Weekly Volume": 329.80000000000007,
          "Weekly Volume": 94.65,
          "brand": "Alpha",
          "pct_volume": 0.2869921164342025,
          "week": 42
         },
         {
          "Total Weekly Volume": 365.775,
          "Weekly Volume": 225.6,
          "brand": "Bravo",
          "pct_volume": 0.6167726061103137,
          "week": 43
         },
         {
          "Total Weekly Volume": 365.775,
          "Weekly Volume": 99.44999999999996,
          "brand": "Alpha",
          "pct_volume": 0.2718884560180438,
          "week": 43
         },
         {
          "Total Weekly Volume": 653.85,
          "Weekly Volume": 509.90000000000003,
          "brand": "Bravo",
          "pct_volume": 0.7798424715148735,
          "week": 44
         },
         {
          "Total Weekly Volume": 653.85,
          "Weekly Volume": 108.44999999999999,
          "brand": "Alpha",
          "pct_volume": 0.16586373021335166,
          "week": 44
         },
         {
          "Total Weekly Volume": 223.84999999999997,
          "Weekly Volume": 81.94999999999999,
          "brand": "Alpha",
          "pct_volume": 0.3660933660933661,
          "week": 45
         },
         {
          "Total Weekly Volume": 223.84999999999997,
          "Weekly Volume": 105.64999999999999,
          "brand": "Bravo",
          "pct_volume": 0.47196783560419925,
          "week": 45
         },
         {
          "Total Weekly Volume": 363.24999999999994,
          "Weekly Volume": 124.59999999999998,
          "brand": "Bravo",
          "pct_volume": 0.34301445285615967,
          "week": 46
         },
         {
          "Total Weekly Volume": 363.24999999999994,
          "Weekly Volume": 155.25,
          "brand": "Alpha",
          "pct_volume": 0.42739160357880257,
          "week": 46
         },
         {
          "Total Weekly Volume": 438.25,
          "Weekly Volume": 327.3,
          "brand": "Alpha",
          "pct_volume": 0.7468339988590987,
          "week": 47
         },
         {
          "Total Weekly Volume": 438.25,
          "Weekly Volume": 65.3,
          "brand": "Bravo",
          "pct_volume": 0.14900171135196805,
          "week": 47
         },
         {
          "Total Weekly Volume": 244.8,
          "Weekly Volume": 74.64999999999999,
          "brand": "Bravo",
          "pct_volume": 0.3049428104575163,
          "week": 48
         },
         {
          "Total Weekly Volume": 244.8,
          "Weekly Volume": 113.24999999999999,
          "brand": "Alpha",
          "pct_volume": 0.46262254901960775,
          "week": 48
         },
         {
          "Total Weekly Volume": 324.325,
          "Weekly Volume": 94.19999999999999,
          "brand": "Alpha",
          "pct_volume": 0.2904493948970939,
          "week": 49
         },
         {
          "Total Weekly Volume": 324.325,
          "Weekly Volume": 155.25,
          "brand": "Bravo",
          "pct_volume": 0.47868650273645263,
          "week": 49
         },
         {
          "Total Weekly Volume": 464.42500000000007,
          "Weekly Volume": 82.14999999999998,
          "brand": "Bravo",
          "pct_volume": 0.17688539591968555,
          "week": 50
         },
         {
          "Total Weekly Volume": 464.42500000000007,
          "Weekly Volume": 319.7500000000001,
          "brand": "Alpha",
          "pct_volume": 0.6884857619637187,
          "week": 50
         },
         {
          "Total Weekly Volume": 528,
          "Weekly Volume": 238.25,
          "brand": "Bravo",
          "pct_volume": 0.4512310606060606,
          "week": 51
         },
         {
          "Total Weekly Volume": 528,
          "Weekly Volume": 203.70000000000002,
          "brand": "Alpha",
          "pct_volume": 0.38579545454545455,
          "week": 51
         },
         {
          "Total Weekly Volume": 331.70000000000005,
          "Weekly Volume": 70.34999999999998,
          "brand": "Bravo",
          "pct_volume": 0.21208923726258658,
          "week": 52
         },
         {
          "Total Weekly Volume": 331.70000000000005,
          "Weekly Volume": 215.80000000000004,
          "brand": "Alpha",
          "pct_volume": 0.6505878806150136,
          "week": 52
         },
         {
          "Total Weekly Volume": 239.27499999999998,
          "Weekly Volume": 95.14999999999998,
          "brand": "Bravo",
          "pct_volume": 0.3976595966983596,
          "week": 53
         },
         {
          "Total Weekly Volume": 239.27499999999998,
          "Weekly Volume": 98.25,
          "brand": "Alpha",
          "pct_volume": 0.41061540068958313,
          "week": 53
         },
         {
          "Total Weekly Volume": 302.5999999999999,
          "Weekly Volume": 102.79999999999998,
          "brand": "Bravo",
          "pct_volume": 0.3397224058162591,
          "week": 54
         },
         {
          "Total Weekly Volume": 302.5999999999999,
          "Weekly Volume": 157.29999999999995,
          "brand": "Alpha",
          "pct_volume": 0.5198281559814937,
          "week": 54
         },
         {
          "Total Weekly Volume": 515.7750000000001,
          "Weekly Volume": 103.375,
          "brand": "Bravo",
          "pct_volume": 0.200426542581552,
          "week": 55
         },
         {
          "Total Weekly Volume": 515.7750000000001,
          "Weekly Volume": 368.6,
          "brand": "Alpha",
          "pct_volume": 0.7146527070912704,
          "week": 55
         },
         {
          "Total Weekly Volume": 640.775,
          "Weekly Volume": 408.40000000000003,
          "brand": "Alpha",
          "pct_volume": 0.6373532051031954,
          "week": 56
         },
         {
          "Total Weekly Volume": 640.775,
          "Weekly Volume": 162.6,
          "brand": "Bravo",
          "pct_volume": 0.2537552182903515,
          "week": 56
         },
         {
          "Total Weekly Volume": 535.0000000000001,
          "Weekly Volume": 270.55000000000007,
          "brand": "Alpha",
          "pct_volume": 0.5057009345794393,
          "week": 57
         },
         {
          "Total Weekly Volume": 535.0000000000001,
          "Weekly Volume": 220.07500000000002,
          "brand": "Bravo",
          "pct_volume": 0.4113551401869158,
          "week": 57
         },
         {
          "Total Weekly Volume": 205.59999999999997,
          "Weekly Volume": 76.64999999999999,
          "brand": "Alpha",
          "pct_volume": 0.3728112840466926,
          "week": 58
         },
         {
          "Total Weekly Volume": 205.59999999999997,
          "Weekly Volume": 74.19999999999997,
          "brand": "Bravo",
          "pct_volume": 0.3608949416342412,
          "week": 58
         },
         {
          "Total Weekly Volume": 267.825,
          "Weekly Volume": 59.64999999999999,
          "brand": "Bravo",
          "pct_volume": 0.22272005974050216,
          "week": 59
         },
         {
          "Total Weekly Volume": 267.825,
          "Weekly Volume": 159.04999999999998,
          "brand": "Alpha",
          "pct_volume": 0.5938579296182208,
          "week": 59
         },
         {
          "Total Weekly Volume": 225.59999999999994,
          "Weekly Volume": 86.29999999999995,
          "brand": "Bravo",
          "pct_volume": 0.3825354609929077,
          "week": 60
         },
         {
          "Total Weekly Volume": 225.59999999999994,
          "Weekly Volume": 89.94999999999999,
          "brand": "Alpha",
          "pct_volume": 0.39871453900709225,
          "week": 60
         },
         {
          "Total Weekly Volume": 242.57499999999996,
          "Weekly Volume": 116.99999999999997,
          "brand": "Alpha",
          "pct_volume": 0.4823250541069772,
          "week": 61
         },
         {
          "Total Weekly Volume": 242.57499999999996,
          "Weekly Volume": 83.29999999999997,
          "brand": "Bravo",
          "pct_volume": 0.3433989487787282,
          "week": 61
         },
         {
          "Total Weekly Volume": 286.29999999999995,
          "Weekly Volume": 89.94999999999999,
          "brand": "Bravo",
          "pct_volume": 0.31418092909535456,
          "week": 62
         },
         {
          "Total Weekly Volume": 286.29999999999995,
          "Weekly Volume": 146.75,
          "brand": "Alpha",
          "pct_volume": 0.5125742228431716,
          "week": 62
         },
         {
          "Total Weekly Volume": 311.2,
          "Weekly Volume": 88.89999999999999,
          "brand": "Alpha",
          "pct_volume": 0.2856683804627249,
          "week": 63
         },
         {
          "Total Weekly Volume": 311.2,
          "Weekly Volume": 178.39999999999998,
          "brand": "Bravo",
          "pct_volume": 0.5732647814910026,
          "week": 63
         },
         {
          "Total Weekly Volume": 429.40000000000003,
          "Weekly Volume": 129.7,
          "brand": "Alpha",
          "pct_volume": 0.3020493712156497,
          "week": 64
         },
         {
          "Total Weekly Volume": 429.40000000000003,
          "Weekly Volume": 222.45000000000005,
          "brand": "Bravo",
          "pct_volume": 0.5180484396832791,
          "week": 64
         },
         {
          "Total Weekly Volume": 399.9,
          "Weekly Volume": 207.1,
          "brand": "Alpha",
          "pct_volume": 0.5178794698674669,
          "week": 65
         },
         {
          "Total Weekly Volume": 399.9,
          "Weekly Volume": 166.8,
          "brand": "Bravo",
          "pct_volume": 0.4171042760690173,
          "week": 65
         },
         {
          "Total Weekly Volume": 265.09999999999985,
          "Weekly Volume": 108.64999999999999,
          "brand": "Alpha",
          "pct_volume": 0.4098453413806113,
          "week": 66
         },
         {
          "Total Weekly Volume": 265.09999999999985,
          "Weekly Volume": 103.44999999999987,
          "brand": "Bravo",
          "pct_volume": 0.3902301018483589,
          "week": 66
         },
         {
          "Total Weekly Volume": 237.64999999999998,
          "Weekly Volume": 94.89999999999998,
          "brand": "Alpha",
          "pct_volume": 0.39932674100568055,
          "week": 67
         },
         {
          "Total Weekly Volume": 237.64999999999998,
          "Weekly Volume": 85.85,
          "brand": "Bravo",
          "pct_volume": 0.3612455291394909,
          "week": 67
         },
         {
          "Total Weekly Volume": 372.04999999999995,
          "Weekly Volume": 166.05,
          "brand": "Alpha",
          "pct_volume": 0.4463109797070287,
          "week": 68
         },
         {
          "Total Weekly Volume": 372.04999999999995,
          "Weekly Volume": 147.34999999999997,
          "brand": "Bravo",
          "pct_volume": 0.3960489181561618,
          "week": 68
         },
         {
          "Total Weekly Volume": 577.25,
          "Weekly Volume": 92.89999999999998,
          "brand": "Alpha",
          "pct_volume": 0.16093546990038973,
          "week": 69
         },
         {
          "Total Weekly Volume": 577.25,
          "Weekly Volume": 437.3500000000001,
          "brand": "Bravo",
          "pct_volume": 0.7576440017323518,
          "week": 69
         },
         {
          "Total Weekly Volume": 278.775,
          "Weekly Volume": 116,
          "brand": "Alpha",
          "pct_volume": 0.41610617881804324,
          "week": 70
         },
         {
          "Total Weekly Volume": 278.775,
          "Weekly Volume": 103.74999999999996,
          "brand": "Bravo",
          "pct_volume": 0.37216393148596527,
          "week": 70
         },
         {
          "Total Weekly Volume": 349.69999999999993,
          "Weekly Volume": 133.39999999999998,
          "brand": "Alpha",
          "pct_volume": 0.38146983128395767,
          "week": 71
         },
         {
          "Total Weekly Volume": 349.69999999999993,
          "Weekly Volume": 148.2,
          "brand": "Bravo",
          "pct_volume": 0.4237918215613383,
          "week": 71
         },
         {
          "Total Weekly Volume": 551.7,
          "Weekly Volume": 124.59999999999998,
          "brand": "Bravo",
          "pct_volume": 0.22584738082291095,
          "week": 72
         },
         {
          "Total Weekly Volume": 551.7,
          "Weekly Volume": 351.2000000000001,
          "brand": "Alpha",
          "pct_volume": 0.6365778502809499,
          "week": 72
         },
         {
          "Total Weekly Volume": 1279.4749999999997,
          "Weekly Volume": 786.4999999999997,
          "brand": "Alpha",
          "pct_volume": 0.6147052502002773,
          "week": 73
         },
         {
          "Total Weekly Volume": 1279.4749999999997,
          "Weekly Volume": 443.8250000000001,
          "brand": "Bravo",
          "pct_volume": 0.3468805564782432,
          "week": 73
         },
         {
          "Total Weekly Volume": 335.275,
          "Weekly Volume": 120.19999999999997,
          "brand": "Bravo",
          "pct_volume": 0.35851166952501673,
          "week": 74
         },
         {
          "Total Weekly Volume": 335.275,
          "Weekly Volume": 156.79999999999998,
          "brand": "Alpha",
          "pct_volume": 0.46767578853180225,
          "week": 74
         },
         {
          "Total Weekly Volume": 343.4,
          "Weekly Volume": 163.85000000000002,
          "brand": "Alpha",
          "pct_volume": 0.47714036109493313,
          "week": 75
         },
         {
          "Total Weekly Volume": 343.4,
          "Weekly Volume": 120.24999999999996,
          "brand": "Bravo",
          "pct_volume": 0.3501747233546883,
          "week": 75
         },
         {
          "Total Weekly Volume": 387.04999999999995,
          "Weekly Volume": 137.325,
          "brand": "Bravo",
          "pct_volume": 0.3547991215605219,
          "week": 76
         },
         {
          "Total Weekly Volume": 387.04999999999995,
          "Weekly Volume": 163.79999999999998,
          "brand": "Alpha",
          "pct_volume": 0.4232011368040305,
          "week": 76
         },
         {
          "Total Weekly Volume": 572.0000000000001,
          "Weekly Volume": 164.675,
          "brand": "Bravo",
          "pct_volume": 0.2878933566433566,
          "week": 77
         },
         {
          "Total Weekly Volume": 572.0000000000001,
          "Weekly Volume": 326.0500000000001,
          "brand": "Alpha",
          "pct_volume": 0.5700174825174826,
          "week": 77
         },
         {
          "Total Weekly Volume": 1223.35,
          "Weekly Volume": 766.7499999999997,
          "brand": "Alpha",
          "pct_volume": 0.6267625781665097,
          "week": 78
         },
         {
          "Total Weekly Volume": 1223.35,
          "Weekly Volume": 380.20000000000016,
          "brand": "Bravo",
          "pct_volume": 0.31078595659459696,
          "week": 78
         },
         {
          "Total Weekly Volume": 832.6250000000003,
          "Weekly Volume": 505.15000000000015,
          "brand": "Alpha",
          "pct_volume": 0.6066956913376369,
          "week": 79
         },
         {
          "Total Weekly Volume": 832.6250000000003,
          "Weekly Volume": 257.70000000000016,
          "brand": "Bravo",
          "pct_volume": 0.3095030776159736,
          "week": 79
         },
         {
          "Total Weekly Volume": 345.69999999999993,
          "Weekly Volume": 134.49999999999994,
          "brand": "Alpha",
          "pct_volume": 0.3890656638704078,
          "week": 80
         },
         {
          "Total Weekly Volume": 345.69999999999993,
          "Weekly Volume": 150.45000000000002,
          "brand": "Bravo",
          "pct_volume": 0.4352039340468616,
          "week": 80
         },
         {
          "Total Weekly Volume": 401.7,
          "Weekly Volume": 147.69999999999996,
          "brand": "Alpha",
          "pct_volume": 0.3676873288523773,
          "week": 81
         },
         {
          "Total Weekly Volume": 401.7,
          "Weekly Volume": 184.50000000000003,
          "brand": "Bravo",
          "pct_volume": 0.4592979835698283,
          "week": 81
         },
         {
          "Total Weekly Volume": 349.22499999999997,
          "Weekly Volume": 176.8,
          "brand": "Bravo",
          "pct_volume": 0.5062638699978524,
          "week": 82
         },
         {
          "Total Weekly Volume": 349.22499999999997,
          "Weekly Volume": 108.59999999999998,
          "brand": "Alpha",
          "pct_volume": 0.31097430023623734,
          "week": 82
         },
         {
          "Total Weekly Volume": 323.6249999999999,
          "Weekly Volume": 127.62499999999997,
          "brand": "Bravo",
          "pct_volume": 0.3943607570490537,
          "week": 83
         },
         {
          "Total Weekly Volume": 323.6249999999999,
          "Weekly Volume": 129.9999999999999,
          "brand": "Alpha",
          "pct_volume": 0.4016994978756274,
          "week": 83
         },
         {
          "Total Weekly Volume": 306.09999999999997,
          "Weekly Volume": 99.99999999999999,
          "brand": "Bravo",
          "pct_volume": 0.32669062397909177,
          "week": 84
         },
         {
          "Total Weekly Volume": 306.09999999999997,
          "Weekly Volume": 147.69999999999996,
          "brand": "Alpha",
          "pct_volume": 0.48252205161711853,
          "week": 84
         },
         {
          "Total Weekly Volume": 470.5250000000001,
          "Weekly Volume": 212.35000000000008,
          "brand": "Alpha",
          "pct_volume": 0.4513043940279476,
          "week": 85
         },
         {
          "Total Weekly Volume": 470.5250000000001,
          "Weekly Volume": 147.15,
          "brand": "Bravo",
          "pct_volume": 0.31273577386961365,
          "week": 85
         },
         {
          "Total Weekly Volume": 542.325,
          "Weekly Volume": 291.50000000000006,
          "brand": "Alpha",
          "pct_volume": 0.5375005762227447,
          "week": 86
         },
         {
          "Total Weekly Volume": 542.325,
          "Weekly Volume": 178.75000000000003,
          "brand": "Bravo",
          "pct_volume": 0.3295994099479095,
          "week": 86
         },
         {
          "Total Weekly Volume": 1049.8249999999998,
          "Weekly Volume": 480.8000000000001,
          "brand": "Bravo",
          "pct_volume": 0.45798109208677656,
          "week": 87
         },
         {
          "Total Weekly Volume": 1049.8249999999998,
          "Weekly Volume": 536.0499999999998,
          "brand": "Alpha",
          "pct_volume": 0.5106089110089777,
          "week": 87
         },
         {
          "Total Weekly Volume": 367.6000000000001,
          "Weekly Volume": 75.04999999999998,
          "brand": "Bravo",
          "pct_volume": 0.2041621327529923,
          "week": 88
         },
         {
          "Total Weekly Volume": 367.6000000000001,
          "Weekly Volume": 258.6500000000001,
          "brand": "Alpha",
          "pct_volume": 0.7036180631120784,
          "week": 88
         },
         {
          "Total Weekly Volume": 186.24999999999994,
          "Weekly Volume": 89.74999999999999,
          "brand": "Bravo",
          "pct_volume": 0.48187919463087253,
          "week": 89
         },
         {
          "Total Weekly Volume": 186.24999999999994,
          "Weekly Volume": 77.34999999999998,
          "brand": "Alpha",
          "pct_volume": 0.4153020134228188,
          "week": 89
         },
         {
          "Total Weekly Volume": 259.72499999999997,
          "Weekly Volume": 92.09999999999998,
          "brand": "Bravo",
          "pct_volume": 0.35460583309269417,
          "week": 90
         },
         {
          "Total Weekly Volume": 259.72499999999997,
          "Weekly Volume": 115.24999999999999,
          "brand": "Alpha",
          "pct_volume": 0.4437385696409664,
          "week": 90
         },
         {
          "Total Weekly Volume": 288.1,
          "Weekly Volume": 98.69999999999999,
          "brand": "Alpha",
          "pct_volume": 0.3425893786879555,
          "week": 91
         },
         {
          "Total Weekly Volume": 288.1,
          "Weekly Volume": 149.85000000000002,
          "brand": "Bravo",
          "pct_volume": 0.5201318986463034,
          "week": 91
         },
         {
          "Total Weekly Volume": 263.8499999999999,
          "Weekly Volume": 97.24999999999997,
          "brand": "Alpha",
          "pct_volume": 0.36858063293537996,
          "week": 92
         },
         {
          "Total Weekly Volume": 263.8499999999999,
          "Weekly Volume": 123.09999999999995,
          "brand": "Bravo",
          "pct_volume": 0.46655296570020843,
          "week": 92
         },
         {
          "Total Weekly Volume": 203.72499999999997,
          "Weekly Volume": 73.6,
          "brand": "Alpha",
          "pct_volume": 0.36127132163455644,
          "week": 93
         },
         {
          "Total Weekly Volume": 203.72499999999997,
          "Weekly Volume": 67.94999999999999,
          "brand": "Bravo",
          "pct_volume": 0.33353785740581665,
          "week": 93
         },
         {
          "Total Weekly Volume": 213.54999999999995,
          "Weekly Volume": 90.94999999999997,
          "brand": "Bravo",
          "pct_volume": 0.42589557480683676,
          "week": 94
         },
         {
          "Total Weekly Volume": 213.54999999999995,
          "Weekly Volume": 87.6,
          "brand": "Alpha",
          "pct_volume": 0.4102083821119176,
          "week": 94
         },
         {
          "Total Weekly Volume": 243.52499999999992,
          "Weekly Volume": 116.84999999999994,
          "brand": "Bravo",
          "pct_volume": 0.4798275331074837,
          "week": 95
         },
         {
          "Total Weekly Volume": 243.52499999999992,
          "Weekly Volume": 87.79999999999997,
          "brand": "Alpha",
          "pct_volume": 0.3605379324504671,
          "week": 95
         },
         {
          "Total Weekly Volume": 272.15,
          "Weekly Volume": 169.15,
          "brand": "Alpha",
          "pct_volume": 0.6215322432482088,
          "week": 96
         },
         {
          "Total Weekly Volume": 272.15,
          "Weekly Volume": 62.54999999999998,
          "brand": "Bravo",
          "pct_volume": 0.22983648723130623,
          "week": 96
         },
         {
          "Total Weekly Volume": 460.22500000000014,
          "Weekly Volume": 208.45000000000002,
          "brand": "Bravo",
          "pct_volume": 0.4529306317562061,
          "week": 97
         },
         {
          "Total Weekly Volume": 460.22500000000014,
          "Weekly Volume": 216.25000000000006,
          "brand": "Alpha",
          "pct_volume": 0.4698788635993264,
          "week": 97
         },
         {
          "Total Weekly Volume": 884.0250000000001,
          "Weekly Volume": 394.05,
          "brand": "Alpha",
          "pct_volume": 0.4457453126325613,
          "week": 98
         },
         {
          "Total Weekly Volume": 884.0250000000001,
          "Weekly Volume": 467.8250000000001,
          "brand": "Bravo",
          "pct_volume": 0.5291988348745794,
          "week": 98
         },
         {
          "Total Weekly Volume": 415.84999999999997,
          "Weekly Volume": 246.05,
          "brand": "Bravo",
          "pct_volume": 0.5916796921967056,
          "week": 99
         },
         {
          "Total Weekly Volume": 415.84999999999997,
          "Weekly Volume": 98.24999999999999,
          "brand": "Alpha",
          "pct_volume": 0.23626307562823132,
          "week": 99
         },
         {
          "Total Weekly Volume": 396.54999999999995,
          "Weekly Volume": 216.40000000000003,
          "brand": "Alpha",
          "pct_volume": 0.5457067204640021,
          "week": 100
         },
         {
          "Total Weekly Volume": 396.54999999999995,
          "Weekly Volume": 125.74999999999997,
          "brand": "Bravo",
          "pct_volume": 0.31711007439162775,
          "week": 100
         },
         {
          "Total Weekly Volume": 177.55,
          "Weekly Volume": 65.5,
          "brand": "Alpha",
          "pct_volume": 0.36891016615038014,
          "week": 101
         },
         {
          "Total Weekly Volume": 177.55,
          "Weekly Volume": 72,
          "brand": "Bravo",
          "pct_volume": 0.4055195719515629,
          "week": 101
         },
         {
          "Total Weekly Volume": 279.34999999999997,
          "Weekly Volume": 151.825,
          "brand": "Bravo",
          "pct_volume": 0.5434938249507786,
          "week": 102
         },
         {
          "Total Weekly Volume": 279.34999999999997,
          "Weekly Volume": 95.69999999999997,
          "brand": "Alpha",
          "pct_volume": 0.34258099158761407,
          "week": 102
         },
         {
          "Total Weekly Volume": 318.175,
          "Weekly Volume": 132.2,
          "brand": "Bravo",
          "pct_volume": 0.4154946177418087,
          "week": 103
         },
         {
          "Total Weekly Volume": 318.175,
          "Weekly Volume": 135.10000000000002,
          "brand": "Alpha",
          "pct_volume": 0.4246090987664022,
          "week": 103
         },
         {
          "Total Weekly Volume": 221.3,
          "Weekly Volume": 64.19999999999999,
          "brand": "Bravo",
          "pct_volume": 0.290103931314957,
          "week": 104
         },
         {
          "Total Weekly Volume": 221.3,
          "Weekly Volume": 101.2,
          "brand": "Alpha",
          "pct_volume": 0.45729778581111613,
          "week": 104
         }
        ]
       },
       "encoding": {
        "color": {
         "field": "brand",
         "legend": {
          "title": "brand"
         },
         "type": "nominal"
        },
        "x": {
         "axis": {
          "labelExpr": "datum.value",
          "title": "Week",
          "values": [
           0,
           13,
           26,
           39,
           52,
           65,
           78,
           91,
           104
          ]
         },
         "field": "week",
         "type": "quantitative"
        },
        "y": {
         "axis": {
          "format": ",.0%"
         },
         "field": "pct_volume",
         "title": "",
         "type": "quantitative"
        }
       },
       "height": 250,
       "mark": {
        "strokeWidth": 1,
        "type": "line"
       },
       "title": "",
       "width": 650
      },
      "text/plain": [
       "<VegaLite 5 object>\n",
       "\n",
       "If you see this message, it means the renderer has not been properly enabled\n",
       "for the frontend that you are using. For more information, see\n",
       "https://altair-viz.github.io/user_guide/display_frontends.html#troubleshooting\n"
      ]
     },
     "execution_count": 15,
     "metadata": {},
     "output_type": "execute_result"
    }
   ],
   "source": [
    "pct_volume_plot = (\n",
    "    weekly_vol_summary('All', grocery_lf)\n",
    "    .group_by('week')\n",
    "    .agg(\n",
    "        pl.col('Weekly Volume').sum().alias('Total Weekly Volume')\n",
    "    )\n",
    "    .join(\n",
    "        other=weekly_vol_summary(['Alpha', 'Bravo'], grocery_lf),\n",
    "        on='week',\n",
    "    )\n",
    "    .filter(\n",
    "        (pl.col('brand').is_in(['Alpha', 'Bravo']))\n",
    "    )\n",
    "    .with_columns(\n",
    "        # compute brand wise % of total volume sale\n",
    "        (pl.col('Weekly Volume') / pl.col('Total Weekly Volume')).alias('pct_volume')\n",
    "    )\n",
    ").collect()\n",
    "\n",
    "weekly_plot(dataframe=pct_volume_plot, \n",
    "            y='pct_volume', \n",
    "            color='brand', \n",
    "            title=\"\", \n",
    "            y_axis_label=\"\", \n",
    "            pct=True, \n",
    "            legend=True)"
   ]
  },
  {
   "cell_type": "code",
   "execution_count": 16,
   "metadata": {},
   "outputs": [
    {
     "data": {
      "text/html": [
       "<div id=\"gfllttykcl\" style=\"padding-left:0px;padding-right:0px;padding-top:10px;padding-bottom:10px;overflow-x:auto;overflow-y:auto;width:auto;height:auto;\">\n",
       "<style>\n",
       "#gfllttykcl table {\n",
       "          font-family: -apple-system, BlinkMacSystemFont, 'Segoe UI', Roboto, Oxygen, Ubuntu, Cantarell, 'Helvetica Neue', 'Fira Sans', 'Droid Sans', Arial, sans-serif;\n",
       "          -webkit-font-smoothing: antialiased;\n",
       "          -moz-osx-font-smoothing: grayscale;\n",
       "        }\n",
       "\n",
       "#gfllttykcl thead, tbody, tfoot, tr, td, th { border-style: none !important; }\n",
       " tr { background-color: transparent !important; }\n",
       "#gfllttykcl p { margin: 0 !important; padding: 0 !important; }\n",
       " #gfllttykcl .gt_table { display: table !important; border-collapse: collapse !important; line-height: normal !important; margin-left: auto !important; margin-right: auto !important; color: #333333 !important; font-size: 16px !important; font-weight: normal !important; font-style: normal !important; background-color: #FFFFFF !important; width: auto !important; border-top-style: solid !important; border-top-width: 2px !important; border-top-color: #A8A8A8 !important; border-right-style: none !important; border-right-width: 2px !important; border-right-color: #D3D3D3 !important; border-bottom-style: solid !important; border-bottom-width: 2px !important; border-bottom-color: #A8A8A8 !important; border-left-style: none !important; border-left-width: 2px !important; border-left-color: #D3D3D3 !important; }\n",
       " #gfllttykcl .gt_caption { padding-top: 4px !important; padding-bottom: 4px !important; }\n",
       " #gfllttykcl .gt_title { color: #333333 !important; font-size: 125% !important; font-weight: initial !important; padding-top: 4px !important; padding-bottom: 4px !important; padding-left: 5px !important; padding-right: 5px !important; border-bottom-color: #FFFFFF !important; border-bottom-width: 0 !important; }\n",
       " #gfllttykcl .gt_subtitle { color: #333333 !important; font-size: 85% !important; font-weight: initial !important; padding-top: 3px !important; padding-bottom: 5px !important; padding-left: 5px !important; padding-right: 5px !important; border-top-color: #FFFFFF !important; border-top-width: 0 !important; }\n",
       " #gfllttykcl .gt_heading { background-color: #FFFFFF !important; text-align: center !important; border-bottom-color: #FFFFFF !important; border-left-style: none !important; border-left-width: 1px !important; border-left-color: #D3D3D3 !important; border-right-style: none !important; border-right-width: 1px !important; border-right-color: #D3D3D3 !important; }\n",
       " #gfllttykcl .gt_bottom_border { border-bottom-style: solid !important; border-bottom-width: 2px !important; border-bottom-color: #D3D3D3 !important; }\n",
       " #gfllttykcl .gt_col_headings { border-top-style: solid !important; border-top-width: 2px !important; border-top-color: #D3D3D3 !important; border-bottom-style: solid !important; border-bottom-width: 2px !important; border-bottom-color: #D3D3D3 !important; border-left-style: none !important; border-left-width: 1px !important; border-left-color: #D3D3D3 !important; border-right-style: none !important; border-right-width: 1px !important; border-right-color: #D3D3D3 !important; }\n",
       " #gfllttykcl .gt_col_heading { color: #333333 !important; background-color: #FFFFFF !important; font-size: 100% !important; font-weight: normal !important; text-transform: inherit !important; border-left-style: none !important; border-left-width: 1px !important; border-left-color: #D3D3D3 !important; border-right-style: none !important; border-right-width: 1px !important; border-right-color: #D3D3D3 !important; vertical-align: bottom !important; padding-top: 5px !important; padding-bottom: 5px !important; padding-left: 5px !important; padding-right: 5px !important; overflow-x: hidden !important; }\n",
       " #gfllttykcl .gt_column_spanner_outer { color: #333333 !important; background-color: #FFFFFF !important; font-size: 100% !important; font-weight: normal !important; text-transform: inherit !important; padding-top: 0 !important; padding-bottom: 0 !important; padding-left: 4px !important; padding-right: 4px !important; }\n",
       " #gfllttykcl .gt_column_spanner_outer:first-child { padding-left: 0 !important; }\n",
       " #gfllttykcl .gt_column_spanner_outer:last-child { padding-right: 0 !important; }\n",
       " #gfllttykcl .gt_column_spanner { border-bottom-style: solid !important; border-bottom-width: 2px !important; border-bottom-color: #D3D3D3 !important; vertical-align: bottom !important; padding-top: 5px !important; padding-bottom: 5px !important; overflow-x: hidden !important; display: inline-block !important; width: 100% !important; }\n",
       " #gfllttykcl .gt_spanner_row { border-bottom-style: hidden !important; }\n",
       " #gfllttykcl .gt_group_heading { padding-top: 8px !important; padding-bottom: 8px !important; padding-left: 5px !important; padding-right: 5px !important; color: #333333 !important; background-color: #FFFFFF !important; font-size: 100% !important; font-weight: initial !important; text-transform: inherit !important; border-top-style: solid !important; border-top-width: 2px !important; border-top-color: #D3D3D3 !important; border-bottom-style: solid !important; border-bottom-width: 2px !important; border-bottom-color: #D3D3D3 !important; border-left-style: none !important; border-left-width: 1px !important; border-left-color: #D3D3D3 !important; border-right-style: none !important; border-right-width: 1px !important; border-right-color: #D3D3D3 !important; vertical-align: middle !important; text-align: left !important; }\n",
       " #gfllttykcl .gt_empty_group_heading { padding: 0.5px !important; color: #333333 !important; background-color: #FFFFFF !important; font-size: 100% !important; font-weight: initial !important; border-top-style: solid !important; border-top-width: 2px !important; border-top-color: #D3D3D3 !important; border-bottom-style: solid !important; border-bottom-width: 2px !important; border-bottom-color: #D3D3D3 !important; vertical-align: middle !important; }\n",
       " #gfllttykcl .gt_from_md> :first-child { margin-top: 0 !important; }\n",
       " #gfllttykcl .gt_from_md> :last-child { margin-bottom: 0 !important; }\n",
       " #gfllttykcl .gt_row { padding-top: 8px !important; padding-bottom: 8px !important; padding-left: 5px !important; padding-right: 5px !important; margin: 10px !important; border-top-style: solid !important; border-top-width: 1px !important; border-top-color: #D3D3D3 !important; border-left-style: none !important; border-left-width: 1px !important; border-left-color: #D3D3D3 !important; border-right-style: none !important; border-right-width: 1px !important; border-right-color: #D3D3D3 !important; vertical-align: middle !important; overflow-x: hidden !important; }\n",
       " #gfllttykcl .gt_stub { color: #333333 !important; background-color: #FFFFFF !important; font-size: 100% !important; font-weight: initial !important; text-transform: inherit !important; border-right-style: solid !important; border-right-width: 2px !important; border-right-color: #D3D3D3 !important; padding-left: 5px !important; padding-right: 5px !important; }\n",
       " #gfllttykcl .gt_stub_row_group { color: #333333 !important; background-color: #FFFFFF !important; font-size: 100% !important; font-weight: initial !important; text-transform: inherit !important; border-right-style: solid !important; border-right-width: 2px !important; border-right-color: #D3D3D3 !important; padding-left: 5px !important; padding-right: 5px !important; vertical-align: top !important; }\n",
       " #gfllttykcl .gt_row_group_first td { border-top-width: 2px !important; }\n",
       " #gfllttykcl .gt_row_group_first th { border-top-width: 2px !important; }\n",
       " #gfllttykcl .gt_striped { background-color: rgba(128,128,128,0.05) !important; }\n",
       " #gfllttykcl .gt_table_body { border-top-style: solid !important; border-top-width: 2px !important; border-top-color: #D3D3D3 !important; border-bottom-style: solid !important; border-bottom-width: 2px !important; border-bottom-color: #D3D3D3 !important; }\n",
       " #gfllttykcl .gt_sourcenotes { color: #333333 !important; background-color: #FFFFFF !important; border-bottom-style: none !important; border-bottom-width: 2px !important; border-bottom-color: #D3D3D3 !important; border-left-style: none !important; border-left-width: 2px !important; border-left-color: #D3D3D3 !important; border-right-style: none !important; border-right-width: 2px !important; border-right-color: #D3D3D3 !important; }\n",
       " #gfllttykcl .gt_sourcenote { font-size: 90% !important; padding-top: 4px !important; padding-bottom: 4px !important; padding-left: 5px !important; padding-right: 5px !important; text-align: left !important; }\n",
       " #gfllttykcl .gt_left { text-align: left !important; }\n",
       " #gfllttykcl .gt_center { text-align: center !important; }\n",
       " #gfllttykcl .gt_right { text-align: right !important; font-variant-numeric: tabular-nums !important; }\n",
       " #gfllttykcl .gt_font_normal { font-weight: normal !important; }\n",
       " #gfllttykcl .gt_font_bold { font-weight: bold !important; }\n",
       " #gfllttykcl .gt_font_italic { font-style: italic !important; }\n",
       " #gfllttykcl .gt_super { font-size: 65% !important; }\n",
       " #gfllttykcl .gt_footnote_marks { font-size: 75% !important; vertical-align: 0.4em !important; position: initial !important; }\n",
       " #gfllttykcl .gt_asterisk { font-size: 100% !important; vertical-align: 0 !important; }\n",
       " \n",
       "</style>\n",
       "<table class=\"gt_table\" data-quarto-disable-processing=\"false\" data-quarto-bootstrap=\"false\">\n",
       "<thead>\n",
       "\n",
       "  <tr class=\"gt_heading\">\n",
       "    <td colspan=\"6\" class=\"gt_heading gt_title gt_font_normal\">Correlation Matrix of Weekly (Volume) Market Share</td>\n",
       "  </tr>\n",
       "<tr class=\"gt_col_headings\">\n",
       "  <th class=\"gt_col_heading gt_columns_bottom_border gt_left\" rowspan=\"1\" colspan=\"1\" scope=\"col\" id=\"\"></th>\n",
       "  <th class=\"gt_col_heading gt_columns_bottom_border gt_right\" rowspan=\"1\" colspan=\"1\" scope=\"col\" id=\"Alpha\">Alpha</th>\n",
       "  <th class=\"gt_col_heading gt_columns_bottom_border gt_right\" rowspan=\"1\" colspan=\"1\" scope=\"col\" id=\"Bravo\">Bravo</th>\n",
       "  <th class=\"gt_col_heading gt_columns_bottom_border gt_right\" rowspan=\"1\" colspan=\"1\" scope=\"col\" id=\"Charlie\">Charlie</th>\n",
       "  <th class=\"gt_col_heading gt_columns_bottom_border gt_right\" rowspan=\"1\" colspan=\"1\" scope=\"col\" id=\"Delta\">Delta</th>\n",
       "  <th class=\"gt_col_heading gt_columns_bottom_border gt_right\" rowspan=\"1\" colspan=\"1\" scope=\"col\" id=\"Other\">Other</th>\n",
       "</tr>\n",
       "</thead>\n",
       "<tbody class=\"gt_table_body\">\n",
       "  <tr>\n",
       "    <th style=\"color: #000000; background-color: #808080;\" class=\"gt_row gt_left gt_stub\">Alpha</th>\n",
       "    <td style=\"color: #000000; background-color: #ffa500;\" class=\"gt_row gt_right\">1.00</td>\n",
       "    <td style=\"color: #FFFFFF; background-color: #7c51a8;\" class=\"gt_row gt_right\">−0.85</td>\n",
       "    <td style=\"color: #000000; background-color: #cbb9dc;\" class=\"gt_row gt_right\">−0.34</td>\n",
       "    <td style=\"color: #000000; background-color: #eee9f4;\" class=\"gt_row gt_right\">−0.11</td>\n",
       "    <td style=\"color: #000000; background-color: #e8e1f0;\" class=\"gt_row gt_right\">−0.15</td>\n",
       "  </tr>\n",
       "  <tr>\n",
       "    <th style=\"color: #000000; background-color: #808080;\" class=\"gt_row gt_left gt_stub\">Bravo</th>\n",
       "    <td style=\"color: #FFFFFF; background-color: #7c51a8;\" class=\"gt_row gt_right\">−0.85</td>\n",
       "    <td style=\"color: #000000; background-color: #ffa500;\" class=\"gt_row gt_right\">1.00</td>\n",
       "    <td style=\"color: #000000; background-color: #eee8f3;\" class=\"gt_row gt_right\">−0.11</td>\n",
       "    <td style=\"color: #000000; background-color: #dcd0e7;\" class=\"gt_row gt_right\">−0.23</td>\n",
       "    <td style=\"color: #000000; background-color: #efeaf4;\" class=\"gt_row gt_right\">−0.10</td>\n",
       "  </tr>\n",
       "  <tr>\n",
       "    <th style=\"color: #000000; background-color: #808080;\" class=\"gt_row gt_left gt_stub\">Charlie</th>\n",
       "    <td style=\"color: #000000; background-color: #cbb9dc;\" class=\"gt_row gt_right\">−0.34</td>\n",
       "    <td style=\"color: #000000; background-color: #eee8f3;\" class=\"gt_row gt_right\">−0.11</td>\n",
       "    <td style=\"color: #000000; background-color: #ffa500;\" class=\"gt_row gt_right\">1.00</td>\n",
       "    <td style=\"color: #000000; background-color: #fff3dd;\" class=\"gt_row gt_right\">0.13</td>\n",
       "    <td style=\"color: #000000; background-color: #ffe9c1;\" class=\"gt_row gt_right\">0.24</td>\n",
       "  </tr>\n",
       "  <tr>\n",
       "    <th style=\"color: #000000; background-color: #808080;\" class=\"gt_row gt_left gt_stub\">Delta</th>\n",
       "    <td style=\"color: #000000; background-color: #eee9f4;\" class=\"gt_row gt_right\">−0.11</td>\n",
       "    <td style=\"color: #000000; background-color: #dcd0e7;\" class=\"gt_row gt_right\">−0.23</td>\n",
       "    <td style=\"color: #000000; background-color: #fff3dd;\" class=\"gt_row gt_right\">0.13</td>\n",
       "    <td style=\"color: #000000; background-color: #ffa500;\" class=\"gt_row gt_right\">1.00</td>\n",
       "    <td style=\"color: #000000; background-color: #ffe3b0;\" class=\"gt_row gt_right\">0.31</td>\n",
       "  </tr>\n",
       "  <tr>\n",
       "    <th style=\"color: #000000; background-color: #808080;\" class=\"gt_row gt_left gt_stub\">Other</th>\n",
       "    <td style=\"color: #000000; background-color: #e8e1f0;\" class=\"gt_row gt_right\">−0.15</td>\n",
       "    <td style=\"color: #000000; background-color: #efeaf4;\" class=\"gt_row gt_right\">−0.10</td>\n",
       "    <td style=\"color: #000000; background-color: #ffe9c1;\" class=\"gt_row gt_right\">0.24</td>\n",
       "    <td style=\"color: #000000; background-color: #ffe3b0;\" class=\"gt_row gt_right\">0.31</td>\n",
       "    <td style=\"color: #000000; background-color: #ffa500;\" class=\"gt_row gt_right\">1.00</td>\n",
       "  </tr>\n",
       "</tbody>\n",
       "\n",
       "\n",
       "</table>\n",
       "\n",
       "</div>\n",
       "        "
      ],
      "text/plain": [
       "GT(_tbl_data=shape: (5, 6)\n",
       "┌───────────┬───────────┬───────────┬───────────┬───────────┬─────────┐\n",
       "│ Alpha     ┆ Bravo     ┆ Charlie   ┆ Delta     ┆ Other     ┆ index   │\n",
       "│ ---       ┆ ---       ┆ ---       ┆ ---       ┆ ---       ┆ ---     │\n",
       "│ f64       ┆ f64       ┆ f64       ┆ f64       ┆ f64       ┆ str     │\n",
       "╞═══════════╪═══════════╪═══════════╪═══════════╪═══════════╪═════════╡\n",
       "│ 1.0       ┆ -0.853061 ┆ -0.34158  ┆ -0.109693 ┆ -0.148193 ┆ Alpha   │\n",
       "│ -0.853061 ┆ 1.0       ┆ -0.114179 ┆ -0.231641 ┆ -0.104983 ┆ Bravo   │\n",
       "│ -0.34158  ┆ -0.114179 ┆ 1.0       ┆ 0.131988  ┆ 0.243434  ┆ Charlie │\n",
       "│ -0.109693 ┆ -0.231641 ┆ 0.131988  ┆ 1.0       ┆ 0.308354  ┆ Delta   │\n",
       "│ -0.148193 ┆ -0.104983 ┆ 0.243434  ┆ 0.308354  ┆ 1.0       ┆ Other   │\n",
       "└───────────┴───────────┴───────────┴───────────┴───────────┴─────────┘, _body=<great_tables._gt_data.Body object at 0x000001EFEB67FF80>, _boxhead=Boxhead([ColInfo(var='Alpha', type=<ColInfoTypeEnum.default: 1>, column_label='Alpha', column_align='right', column_width=None), ColInfo(var='Bravo', type=<ColInfoTypeEnum.default: 1>, column_label='Bravo', column_align='right', column_width=None), ColInfo(var='Charlie', type=<ColInfoTypeEnum.default: 1>, column_label='Charlie', column_align='right', column_width=None), ColInfo(var='Delta', type=<ColInfoTypeEnum.default: 1>, column_label='Delta', column_align='right', column_width=None), ColInfo(var='Other', type=<ColInfoTypeEnum.default: 1>, column_label='Other', column_align='right', column_width=None), ColInfo(var='index', type=<ColInfoTypeEnum.stub: 2>, column_label='index', column_align='left', column_width=None)]), _stub=<great_tables._gt_data.Stub object at 0x000001EFE41649E0>, _spanners=Spanners([]), _heading=Heading(title='Correlation Matrix of Weekly (Volume) Market Share', subtitle=None, preheader=None), _stubhead=None, _source_notes=[], _footnotes=[], _styles=[StyleInfo(locname=LocBody(columns='Alpha', rows=[0]), grpname=None, colname='Alpha', rownum=0, colnum=None, styles=[CellStyleText(color='#000000', font=None, size=None, align=None, v_align=None, style=None, weight=None, stretch=None, decorate=None, transform=None, whitespace=None), CellStyleFill(color='#ffa500')]), StyleInfo(locname=LocBody(columns='Alpha', rows=[1]), grpname=None, colname='Alpha', rownum=1, colnum=None, styles=[CellStyleText(color='#FFFFFF', font=None, size=None, align=None, v_align=None, style=None, weight=None, stretch=None, decorate=None, transform=None, whitespace=None), CellStyleFill(color='#7c51a8')]), StyleInfo(locname=LocBody(columns='Alpha', rows=[2]), grpname=None, colname='Alpha', rownum=2, colnum=None, styles=[CellStyleText(color='#000000', font=None, size=None, align=None, v_align=None, style=None, weight=None, stretch=None, decorate=None, transform=None, whitespace=None), CellStyleFill(color='#cbb9dc')]), StyleInfo(locname=LocBody(columns='Alpha', rows=[3]), grpname=None, colname='Alpha', rownum=3, colnum=None, styles=[CellStyleText(color='#000000', font=None, size=None, align=None, v_align=None, style=None, weight=None, stretch=None, decorate=None, transform=None, whitespace=None), CellStyleFill(color='#eee9f4')]), StyleInfo(locname=LocBody(columns='Alpha', rows=[4]), grpname=None, colname='Alpha', rownum=4, colnum=None, styles=[CellStyleText(color='#000000', font=None, size=None, align=None, v_align=None, style=None, weight=None, stretch=None, decorate=None, transform=None, whitespace=None), CellStyleFill(color='#e8e1f0')]), StyleInfo(locname=LocBody(columns='Bravo', rows=[0]), grpname=None, colname='Bravo', rownum=0, colnum=None, styles=[CellStyleText(color='#FFFFFF', font=None, size=None, align=None, v_align=None, style=None, weight=None, stretch=None, decorate=None, transform=None, whitespace=None), CellStyleFill(color='#7c51a8')]), StyleInfo(locname=LocBody(columns='Bravo', rows=[1]), grpname=None, colname='Bravo', rownum=1, colnum=None, styles=[CellStyleText(color='#000000', font=None, size=None, align=None, v_align=None, style=None, weight=None, stretch=None, decorate=None, transform=None, whitespace=None), CellStyleFill(color='#ffa500')]), StyleInfo(locname=LocBody(columns='Bravo', rows=[2]), grpname=None, colname='Bravo', rownum=2, colnum=None, styles=[CellStyleText(color='#000000', font=None, size=None, align=None, v_align=None, style=None, weight=None, stretch=None, decorate=None, transform=None, whitespace=None), CellStyleFill(color='#eee8f3')]), StyleInfo(locname=LocBody(columns='Bravo', rows=[3]), grpname=None, colname='Bravo', rownum=3, colnum=None, styles=[CellStyleText(color='#000000', font=None, size=None, align=None, v_align=None, style=None, weight=None, stretch=None, decorate=None, transform=None, whitespace=None), CellStyleFill(color='#dcd0e7')]), StyleInfo(locname=LocBody(columns='Bravo', rows=[4]), grpname=None, colname='Bravo', rownum=4, colnum=None, styles=[CellStyleText(color='#000000', font=None, size=None, align=None, v_align=None, style=None, weight=None, stretch=None, decorate=None, transform=None, whitespace=None), CellStyleFill(color='#efeaf4')]), StyleInfo(locname=LocBody(columns='Charlie', rows=[0]), grpname=None, colname='Charlie', rownum=0, colnum=None, styles=[CellStyleText(color='#000000', font=None, size=None, align=None, v_align=None, style=None, weight=None, stretch=None, decorate=None, transform=None, whitespace=None), CellStyleFill(color='#cbb9dc')]), StyleInfo(locname=LocBody(columns='Charlie', rows=[1]), grpname=None, colname='Charlie', rownum=1, colnum=None, styles=[CellStyleText(color='#000000', font=None, size=None, align=None, v_align=None, style=None, weight=None, stretch=None, decorate=None, transform=None, whitespace=None), CellStyleFill(color='#eee8f3')]), StyleInfo(locname=LocBody(columns='Charlie', rows=[2]), grpname=None, colname='Charlie', rownum=2, colnum=None, styles=[CellStyleText(color='#000000', font=None, size=None, align=None, v_align=None, style=None, weight=None, stretch=None, decorate=None, transform=None, whitespace=None), CellStyleFill(color='#ffa500')]), StyleInfo(locname=LocBody(columns='Charlie', rows=[3]), grpname=None, colname='Charlie', rownum=3, colnum=None, styles=[CellStyleText(color='#000000', font=None, size=None, align=None, v_align=None, style=None, weight=None, stretch=None, decorate=None, transform=None, whitespace=None), CellStyleFill(color='#fff3dd')]), StyleInfo(locname=LocBody(columns='Charlie', rows=[4]), grpname=None, colname='Charlie', rownum=4, colnum=None, styles=[CellStyleText(color='#000000', font=None, size=None, align=None, v_align=None, style=None, weight=None, stretch=None, decorate=None, transform=None, whitespace=None), CellStyleFill(color='#ffe9c1')]), StyleInfo(locname=LocBody(columns='Delta', rows=[0]), grpname=None, colname='Delta', rownum=0, colnum=None, styles=[CellStyleText(color='#000000', font=None, size=None, align=None, v_align=None, style=None, weight=None, stretch=None, decorate=None, transform=None, whitespace=None), CellStyleFill(color='#eee9f4')]), StyleInfo(locname=LocBody(columns='Delta', rows=[1]), grpname=None, colname='Delta', rownum=1, colnum=None, styles=[CellStyleText(color='#000000', font=None, size=None, align=None, v_align=None, style=None, weight=None, stretch=None, decorate=None, transform=None, whitespace=None), CellStyleFill(color='#dcd0e7')]), StyleInfo(locname=LocBody(columns='Delta', rows=[2]), grpname=None, colname='Delta', rownum=2, colnum=None, styles=[CellStyleText(color='#000000', font=None, size=None, align=None, v_align=None, style=None, weight=None, stretch=None, decorate=None, transform=None, whitespace=None), CellStyleFill(color='#fff3dd')]), StyleInfo(locname=LocBody(columns='Delta', rows=[3]), grpname=None, colname='Delta', rownum=3, colnum=None, styles=[CellStyleText(color='#000000', font=None, size=None, align=None, v_align=None, style=None, weight=None, stretch=None, decorate=None, transform=None, whitespace=None), CellStyleFill(color='#ffa500')]), StyleInfo(locname=LocBody(columns='Delta', rows=[4]), grpname=None, colname='Delta', rownum=4, colnum=None, styles=[CellStyleText(color='#000000', font=None, size=None, align=None, v_align=None, style=None, weight=None, stretch=None, decorate=None, transform=None, whitespace=None), CellStyleFill(color='#ffe3b0')]), StyleInfo(locname=LocBody(columns='Other', rows=[0]), grpname=None, colname='Other', rownum=0, colnum=None, styles=[CellStyleText(color='#000000', font=None, size=None, align=None, v_align=None, style=None, weight=None, stretch=None, decorate=None, transform=None, whitespace=None), CellStyleFill(color='#e8e1f0')]), StyleInfo(locname=LocBody(columns='Other', rows=[1]), grpname=None, colname='Other', rownum=1, colnum=None, styles=[CellStyleText(color='#000000', font=None, size=None, align=None, v_align=None, style=None, weight=None, stretch=None, decorate=None, transform=None, whitespace=None), CellStyleFill(color='#efeaf4')]), StyleInfo(locname=LocBody(columns='Other', rows=[2]), grpname=None, colname='Other', rownum=2, colnum=None, styles=[CellStyleText(color='#000000', font=None, size=None, align=None, v_align=None, style=None, weight=None, stretch=None, decorate=None, transform=None, whitespace=None), CellStyleFill(color='#ffe9c1')]), StyleInfo(locname=LocBody(columns='Other', rows=[3]), grpname=None, colname='Other', rownum=3, colnum=None, styles=[CellStyleText(color='#000000', font=None, size=None, align=None, v_align=None, style=None, weight=None, stretch=None, decorate=None, transform=None, whitespace=None), CellStyleFill(color='#ffe3b0')]), StyleInfo(locname=LocBody(columns='Other', rows=[4]), grpname=None, colname='Other', rownum=4, colnum=None, styles=[CellStyleText(color='#000000', font=None, size=None, align=None, v_align=None, style=None, weight=None, stretch=None, decorate=None, transform=None, whitespace=None), CellStyleFill(color='#ffa500')]), StyleInfo(locname=LocBody(columns='index', rows=[0]), grpname=None, colname='index', rownum=0, colnum=None, styles=[CellStyleText(color='#000000', font=None, size=None, align=None, v_align=None, style=None, weight=None, stretch=None, decorate=None, transform=None, whitespace=None), CellStyleFill(color='#808080')]), StyleInfo(locname=LocBody(columns='index', rows=[1]), grpname=None, colname='index', rownum=1, colnum=None, styles=[CellStyleText(color='#000000', font=None, size=None, align=None, v_align=None, style=None, weight=None, stretch=None, decorate=None, transform=None, whitespace=None), CellStyleFill(color='#808080')]), StyleInfo(locname=LocBody(columns='index', rows=[2]), grpname=None, colname='index', rownum=2, colnum=None, styles=[CellStyleText(color='#000000', font=None, size=None, align=None, v_align=None, style=None, weight=None, stretch=None, decorate=None, transform=None, whitespace=None), CellStyleFill(color='#808080')]), StyleInfo(locname=LocBody(columns='index', rows=[3]), grpname=None, colname='index', rownum=3, colnum=None, styles=[CellStyleText(color='#000000', font=None, size=None, align=None, v_align=None, style=None, weight=None, stretch=None, decorate=None, transform=None, whitespace=None), CellStyleFill(color='#808080')]), StyleInfo(locname=LocBody(columns='index', rows=[4]), grpname=None, colname='index', rownum=4, colnum=None, styles=[CellStyleText(color='#000000', font=None, size=None, align=None, v_align=None, style=None, weight=None, stretch=None, decorate=None, transform=None, whitespace=None), CellStyleFill(color='#808080')])], _locale=<great_tables._gt_data.Locale object at 0x000001EFE4131E50>, _formats=[<great_tables._gt_data.FormatInfo object at 0x000001EFEBAEA630>], _substitutions=[], _options=Options(table_id=OptionsInfo(scss=False, category='table', type='value', value=None), table_caption=OptionsInfo(scss=False, category='table', type='value', value=None), table_width=OptionsInfo(scss=True, category='table', type='px', value='auto'), table_layout=OptionsInfo(scss=True, category='table', type='value', value='fixed'), table_margin_left=OptionsInfo(scss=True, category='table', type='px', value='auto'), table_margin_right=OptionsInfo(scss=True, category='table', type='px', value='auto'), table_background_color=OptionsInfo(scss=True, category='table', type='value', value='#FFFFFF'), table_additional_css=OptionsInfo(scss=False, category='table', type='values', value=[]), table_font_names=OptionsInfo(scss=False, category='table', type='values', value=['-apple-system', 'BlinkMacSystemFont', 'Segoe UI', 'Roboto', 'Oxygen', 'Ubuntu', 'Cantarell', 'Helvetica Neue', 'Fira Sans', 'Droid Sans', 'Arial', 'sans-serif']), table_font_size=OptionsInfo(scss=True, category='table', type='px', value='16px'), table_font_weight=OptionsInfo(scss=True, category='table', type='value', value='normal'), table_font_style=OptionsInfo(scss=True, category='table', type='value', value='normal'), table_font_color=OptionsInfo(scss=True, category='table', type='value', value='#333333'), table_font_color_light=OptionsInfo(scss=True, category='table', type='value', value='#FFFFFF'), table_border_top_include=OptionsInfo(scss=False, category='table', type='boolean', value=True), table_border_top_style=OptionsInfo(scss=True, category='table', type='value', value='solid'), table_border_top_width=OptionsInfo(scss=True, category='table', type='px', value='2px'), table_border_top_color=OptionsInfo(scss=True, category='table', type='value', value='#A8A8A8'), table_border_right_style=OptionsInfo(scss=True, category='table', type='value', value='none'), table_border_right_width=OptionsInfo(scss=True, category='table', type='px', value='2px'), table_border_right_color=OptionsInfo(scss=True, category='table', type='value', value='#D3D3D3'), table_border_bottom_include=OptionsInfo(scss=False, category='table', type='boolean', value=True), table_border_bottom_style=OptionsInfo(scss=True, category='table', type='value', value='solid'), table_border_bottom_width=OptionsInfo(scss=True, category='table', type='px', value='2px'), table_border_bottom_color=OptionsInfo(scss=True, category='table', type='value', value='#A8A8A8'), table_border_left_style=OptionsInfo(scss=True, category='table', type='value', value='none'), table_border_left_width=OptionsInfo(scss=True, category='table', type='px', value='2px'), table_border_left_color=OptionsInfo(scss=True, category='table', type='value', value='#D3D3D3'), heading_background_color=OptionsInfo(scss=True, category='heading', type='value', value=None), heading_align=OptionsInfo(scss=True, category='heading', type='value', value='center'), heading_title_font_size=OptionsInfo(scss=True, category='heading', type='px', value='125%'), heading_title_font_weight=OptionsInfo(scss=True, category='heading', type='value', value='initial'), heading_subtitle_font_size=OptionsInfo(scss=True, category='heading', type='px', value='85%'), heading_subtitle_font_weight=OptionsInfo(scss=True, category='heading', type='value', value='initial'), heading_padding=OptionsInfo(scss=True, category='heading', type='px', value='4px'), heading_padding_horizontal=OptionsInfo(scss=True, category='heading', type='px', value='5px'), heading_border_bottom_style=OptionsInfo(scss=True, category='heading', type='value', value='solid'), heading_border_bottom_width=OptionsInfo(scss=True, category='heading', type='px', value='2px'), heading_border_bottom_color=OptionsInfo(scss=True, category='heading', type='value', value='#D3D3D3'), heading_border_lr_style=OptionsInfo(scss=True, category='heading', type='value', value='none'), heading_border_lr_width=OptionsInfo(scss=True, category='heading', type='px', value='1px'), heading_border_lr_color=OptionsInfo(scss=True, category='heading', type='value', value='#D3D3D3'), column_labels_background_color=OptionsInfo(scss=True, category='column_labels', type='value', value=None), column_labels_font_size=OptionsInfo(scss=True, category='column_labels', type='px', value='100%'), column_labels_font_weight=OptionsInfo(scss=True, category='column_labels', type='value', value='normal'), column_labels_text_transform=OptionsInfo(scss=True, category='column_labels', type='value', value='inherit'), column_labels_padding=OptionsInfo(scss=True, category='column_labels', type='px', value='5px'), column_labels_padding_horizontal=OptionsInfo(scss=True, category='column_labels', type='px', value='5px'), column_labels_vlines_style=OptionsInfo(scss=True, category='table_body', type='value', value='none'), column_labels_vlines_width=OptionsInfo(scss=True, category='table_body', type='px', value='1px'), column_labels_vlines_color=OptionsInfo(scss=True, category='table_body', type='value', value='#D3D3D3'), column_labels_border_top_style=OptionsInfo(scss=True, category='column_labels', type='value', value='solid'), column_labels_border_top_width=OptionsInfo(scss=True, category='column_labels', type='px', value='2px'), column_labels_border_top_color=OptionsInfo(scss=True, category='column_labels', type='value', value='#D3D3D3'), column_labels_border_bottom_style=OptionsInfo(scss=True, category='column_labels', type='value', value='solid'), column_labels_border_bottom_width=OptionsInfo(scss=True, category='column_labels', type='px', value='2px'), column_labels_border_bottom_color=OptionsInfo(scss=True, category='column_labels', type='value', value='#D3D3D3'), column_labels_border_lr_style=OptionsInfo(scss=True, category='column_labels', type='value', value='none'), column_labels_border_lr_width=OptionsInfo(scss=True, category='column_labels', type='px', value='1px'), column_labels_border_lr_color=OptionsInfo(scss=True, category='column_labels', type='value', value='#D3D3D3'), column_labels_hidden=OptionsInfo(scss=False, category='column_labels', type='boolean', value=False), row_group_background_color=OptionsInfo(scss=True, category='row_group', type='value', value=None), row_group_font_size=OptionsInfo(scss=True, category='row_group', type='px', value='100%'), row_group_font_weight=OptionsInfo(scss=True, category='row_group', type='value', value='initial'), row_group_text_transform=OptionsInfo(scss=True, category='row_group', type='value', value='inherit'), row_group_padding=OptionsInfo(scss=True, category='row_group', type='px', value='8px'), row_group_padding_horizontal=OptionsInfo(scss=True, category='row_group', type='px', value='5px'), row_group_border_top_style=OptionsInfo(scss=True, category='row_group', type='value', value='solid'), row_group_border_top_width=OptionsInfo(scss=True, category='row_group', type='px', value='2px'), row_group_border_top_color=OptionsInfo(scss=True, category='row_group', type='value', value='#D3D3D3'), row_group_border_right_style=OptionsInfo(scss=True, category='row_group', type='value', value='none'), row_group_border_right_width=OptionsInfo(scss=True, category='row_group', type='px', value='1px'), row_group_border_right_color=OptionsInfo(scss=True, category='row_group', type='value', value='#D3D3D3'), row_group_border_bottom_style=OptionsInfo(scss=True, category='row_group', type='value', value='solid'), row_group_border_bottom_width=OptionsInfo(scss=True, category='row_group', type='px', value='2px'), row_group_border_bottom_color=OptionsInfo(scss=True, category='row_group', type='value', value='#D3D3D3'), row_group_border_left_style=OptionsInfo(scss=True, category='row_group', type='value', value='none'), row_group_border_left_width=OptionsInfo(scss=True, category='row_group', type='px', value='1px'), row_group_border_left_color=OptionsInfo(scss=True, category='row_group', type='value', value='#D3D3D3'), row_group_as_column=OptionsInfo(scss=False, category='row_group', type='boolean', value=False), table_body_hlines_style=OptionsInfo(scss=True, category='table_body', type='value', value='solid'), table_body_hlines_width=OptionsInfo(scss=True, category='table_body', type='px', value='1px'), table_body_hlines_color=OptionsInfo(scss=True, category='table_body', type='value', value='#D3D3D3'), table_body_vlines_style=OptionsInfo(scss=True, category='table_body', type='value', value='none'), table_body_vlines_width=OptionsInfo(scss=True, category='table_body', type='px', value='1px'), table_body_vlines_color=OptionsInfo(scss=True, category='table_body', type='value', value='#D3D3D3'), table_body_border_top_style=OptionsInfo(scss=True, category='table_body', type='value', value='solid'), table_body_border_top_width=OptionsInfo(scss=True, category='table_body', type='px', value='2px'), table_body_border_top_color=OptionsInfo(scss=True, category='table_body', type='value', value='#D3D3D3'), table_body_border_bottom_style=OptionsInfo(scss=True, category='table_body', type='value', value='solid'), table_body_border_bottom_width=OptionsInfo(scss=True, category='table_body', type='px', value='2px'), table_body_border_bottom_color=OptionsInfo(scss=True, category='table_body', type='value', value='#D3D3D3'), data_row_padding=OptionsInfo(scss=True, category='data_row', type='px', value='8px'), data_row_padding_horizontal=OptionsInfo(scss=True, category='data_row', type='px', value='5px'), stub_background_color=OptionsInfo(scss=True, category='stub', type='value', value=None), stub_font_size=OptionsInfo(scss=True, category='stub', type='px', value='100%'), stub_font_weight=OptionsInfo(scss=True, category='stub', type='value', value='initial'), stub_text_transform=OptionsInfo(scss=True, category='stub', type='value', value='inherit'), stub_border_style=OptionsInfo(scss=True, category='stub', type='value', value='solid'), stub_border_width=OptionsInfo(scss=True, category='stub', type='px', value='2px'), stub_border_color=OptionsInfo(scss=True, category='stub', type='value', value='#D3D3D3'), stub_row_group_background_color=OptionsInfo(scss=True, category='stub', type='value', value=None), stub_row_group_font_size=OptionsInfo(scss=True, category='stub', type='px', value='100%'), stub_row_group_font_weight=OptionsInfo(scss=True, category='stub', type='value', value='initial'), stub_row_group_text_transform=OptionsInfo(scss=True, category='stub', type='value', value='inherit'), stub_row_group_border_style=OptionsInfo(scss=True, category='stub', type='value', value='solid'), stub_row_group_border_width=OptionsInfo(scss=True, category='stub', type='px', value='2px'), stub_row_group_border_color=OptionsInfo(scss=True, category='stub', type='value', value='#D3D3D3'), source_notes_padding=OptionsInfo(scss=True, category='source_notes', type='px', value='4px'), source_notes_padding_horizontal=OptionsInfo(scss=True, category='source_notes', type='px', value='5px'), source_notes_background_color=OptionsInfo(scss=True, category='source_notes', type='value', value=None), source_notes_font_size=OptionsInfo(scss=True, category='source_notes', type='px', value='90%'), source_notes_border_bottom_style=OptionsInfo(scss=True, category='source_notes', type='value', value='none'), source_notes_border_bottom_width=OptionsInfo(scss=True, category='source_notes', type='px', value='2px'), source_notes_border_bottom_color=OptionsInfo(scss=True, category='source_notes', type='value', value='#D3D3D3'), source_notes_border_lr_style=OptionsInfo(scss=True, category='source_notes', type='value', value='none'), source_notes_border_lr_width=OptionsInfo(scss=True, category='source_notes', type='px', value='2px'), source_notes_border_lr_color=OptionsInfo(scss=True, category='source_notes', type='value', value='#D3D3D3'), source_notes_multiline=OptionsInfo(scss=False, category='source_notes', type='boolean', value=True), source_notes_sep=OptionsInfo(scss=False, category='source_notes', type='value', value=' '), row_striping_background_color=OptionsInfo(scss=True, category='row', type='value', value='rgba(128,128,128,0.05)'), row_striping_include_stub=OptionsInfo(scss=False, category='row', type='boolean', value=False), row_striping_include_table_body=OptionsInfo(scss=False, category='row', type='boolean', value=False), container_width=OptionsInfo(scss=False, category='container', type='px', value='auto'), container_height=OptionsInfo(scss=False, category='container', type='px', value='auto'), container_padding_x=OptionsInfo(scss=False, category='container', type='px', value='0px'), container_padding_y=OptionsInfo(scss=False, category='container', type='px', value='10px'), container_overflow_x=OptionsInfo(scss=False, category='container', type='overflow', value='auto'), container_overflow_y=OptionsInfo(scss=False, category='container', type='overflow', value='auto'), quarto_disable_processing=OptionsInfo(scss=False, category='quarto', type='logical', value=False), quarto_use_bootstrap=OptionsInfo(scss=False, category='quarto', type='logical', value=False)), _has_built=False)"
      ]
     },
     "execution_count": 16,
     "metadata": {},
     "output_type": "execute_result"
    }
   ],
   "source": [
    "corr_matrix = (\n",
    "    pct_volume.select(\n",
    "        pl.col('*').exclude('week')  # Exclude 'week' column\n",
    "    )\n",
    "    .corr()  # Compute the correlation matrix\n",
    "    .with_columns(\n",
    "        pl.Series(pct_volume.columns[1:]).alias(\"index\")\n",
    "    )\n",
    ")\n",
    "\n",
    "(\n",
    "    GT(corr_matrix, rowname_col='index')\n",
    "    .tab_header(title=\"Correlation Matrix of Weekly (Volume) Market Share\")\n",
    "    .fmt_number(columns=['Alpha', 'Bravo', 'Charlie', 'Delta', 'Other'])\n",
    "    .data_color(\n",
    "        domain=[-1, 1],\n",
    "        palette=[\"rebeccapurple\", \"white\", 'orange']\n",
    "    )\n",
    ")"
   ]
  },
  {
   "cell_type": "markdown",
   "metadata": {},
   "source": [
    "#### Annual Sales"
   ]
  },
  {
   "cell_type": "code",
   "execution_count": 17,
   "metadata": {},
   "outputs": [
    {
     "data": {
      "text/html": [
       "<div id=\"xyxywxljjb\" style=\"padding-left:0px;padding-right:0px;padding-top:10px;padding-bottom:10px;overflow-x:auto;overflow-y:auto;width:auto;height:auto;\">\n",
       "<style>\n",
       "#xyxywxljjb table {\n",
       "          font-family: -apple-system, BlinkMacSystemFont, 'Segoe UI', Roboto, Oxygen, Ubuntu, Cantarell, 'Helvetica Neue', 'Fira Sans', 'Droid Sans', Arial, sans-serif;\n",
       "          -webkit-font-smoothing: antialiased;\n",
       "          -moz-osx-font-smoothing: grayscale;\n",
       "        }\n",
       "\n",
       "#xyxywxljjb thead, tbody, tfoot, tr, td, th { border-style: none !important; }\n",
       " tr { background-color: transparent !important; }\n",
       "#xyxywxljjb p { margin: 0 !important; padding: 0 !important; }\n",
       " #xyxywxljjb .gt_table { display: table !important; border-collapse: collapse !important; line-height: normal !important; margin-left: auto !important; margin-right: auto !important; color: #333333 !important; font-size: 16px !important; font-weight: normal !important; font-style: normal !important; background-color: #FFFFFF !important; width: auto !important; border-top-style: solid !important; border-top-width: 2px !important; border-top-color: #A8A8A8 !important; border-right-style: none !important; border-right-width: 2px !important; border-right-color: #D3D3D3 !important; border-bottom-style: solid !important; border-bottom-width: 2px !important; border-bottom-color: #A8A8A8 !important; border-left-style: none !important; border-left-width: 2px !important; border-left-color: #D3D3D3 !important; }\n",
       " #xyxywxljjb .gt_caption { padding-top: 4px !important; padding-bottom: 4px !important; }\n",
       " #xyxywxljjb .gt_title { color: #333333 !important; font-size: 125% !important; font-weight: initial !important; padding-top: 4px !important; padding-bottom: 4px !important; padding-left: 5px !important; padding-right: 5px !important; border-bottom-color: #FFFFFF !important; border-bottom-width: 0 !important; }\n",
       " #xyxywxljjb .gt_subtitle { color: #333333 !important; font-size: 85% !important; font-weight: initial !important; padding-top: 3px !important; padding-bottom: 5px !important; padding-left: 5px !important; padding-right: 5px !important; border-top-color: #FFFFFF !important; border-top-width: 0 !important; }\n",
       " #xyxywxljjb .gt_heading { background-color: #FFFFFF !important; text-align: center !important; border-bottom-color: #FFFFFF !important; border-left-style: none !important; border-left-width: 1px !important; border-left-color: #D3D3D3 !important; border-right-style: none !important; border-right-width: 1px !important; border-right-color: #D3D3D3 !important; }\n",
       " #xyxywxljjb .gt_bottom_border { border-bottom-style: solid !important; border-bottom-width: 2px !important; border-bottom-color: #D3D3D3 !important; }\n",
       " #xyxywxljjb .gt_col_headings { border-top-style: solid !important; border-top-width: 2px !important; border-top-color: #D3D3D3 !important; border-bottom-style: solid !important; border-bottom-width: 2px !important; border-bottom-color: #D3D3D3 !important; border-left-style: none !important; border-left-width: 1px !important; border-left-color: #D3D3D3 !important; border-right-style: none !important; border-right-width: 1px !important; border-right-color: #D3D3D3 !important; }\n",
       " #xyxywxljjb .gt_col_heading { color: #333333 !important; background-color: #FFFFFF !important; font-size: 100% !important; font-weight: normal !important; text-transform: inherit !important; border-left-style: none !important; border-left-width: 1px !important; border-left-color: #D3D3D3 !important; border-right-style: none !important; border-right-width: 1px !important; border-right-color: #D3D3D3 !important; vertical-align: bottom !important; padding-top: 5px !important; padding-bottom: 5px !important; padding-left: 5px !important; padding-right: 5px !important; overflow-x: hidden !important; }\n",
       " #xyxywxljjb .gt_column_spanner_outer { color: #333333 !important; background-color: #FFFFFF !important; font-size: 100% !important; font-weight: normal !important; text-transform: inherit !important; padding-top: 0 !important; padding-bottom: 0 !important; padding-left: 4px !important; padding-right: 4px !important; }\n",
       " #xyxywxljjb .gt_column_spanner_outer:first-child { padding-left: 0 !important; }\n",
       " #xyxywxljjb .gt_column_spanner_outer:last-child { padding-right: 0 !important; }\n",
       " #xyxywxljjb .gt_column_spanner { border-bottom-style: solid !important; border-bottom-width: 2px !important; border-bottom-color: #D3D3D3 !important; vertical-align: bottom !important; padding-top: 5px !important; padding-bottom: 5px !important; overflow-x: hidden !important; display: inline-block !important; width: 100% !important; }\n",
       " #xyxywxljjb .gt_spanner_row { border-bottom-style: hidden !important; }\n",
       " #xyxywxljjb .gt_group_heading { padding-top: 8px !important; padding-bottom: 8px !important; padding-left: 5px !important; padding-right: 5px !important; color: #333333 !important; background-color: #FFFFFF !important; font-size: 100% !important; font-weight: initial !important; text-transform: inherit !important; border-top-style: solid !important; border-top-width: 2px !important; border-top-color: #D3D3D3 !important; border-bottom-style: solid !important; border-bottom-width: 2px !important; border-bottom-color: #D3D3D3 !important; border-left-style: none !important; border-left-width: 1px !important; border-left-color: #D3D3D3 !important; border-right-style: none !important; border-right-width: 1px !important; border-right-color: #D3D3D3 !important; vertical-align: middle !important; text-align: left !important; }\n",
       " #xyxywxljjb .gt_empty_group_heading { padding: 0.5px !important; color: #333333 !important; background-color: #FFFFFF !important; font-size: 100% !important; font-weight: initial !important; border-top-style: solid !important; border-top-width: 2px !important; border-top-color: #D3D3D3 !important; border-bottom-style: solid !important; border-bottom-width: 2px !important; border-bottom-color: #D3D3D3 !important; vertical-align: middle !important; }\n",
       " #xyxywxljjb .gt_from_md> :first-child { margin-top: 0 !important; }\n",
       " #xyxywxljjb .gt_from_md> :last-child { margin-bottom: 0 !important; }\n",
       " #xyxywxljjb .gt_row { padding-top: 8px !important; padding-bottom: 8px !important; padding-left: 5px !important; padding-right: 5px !important; margin: 10px !important; border-top-style: solid !important; border-top-width: 1px !important; border-top-color: #D3D3D3 !important; border-left-style: none !important; border-left-width: 1px !important; border-left-color: #D3D3D3 !important; border-right-style: none !important; border-right-width: 1px !important; border-right-color: #D3D3D3 !important; vertical-align: middle !important; overflow-x: hidden !important; }\n",
       " #xyxywxljjb .gt_stub { color: #333333 !important; background-color: #FFFFFF !important; font-size: 100% !important; font-weight: initial !important; text-transform: inherit !important; border-right-style: solid !important; border-right-width: 2px !important; border-right-color: #D3D3D3 !important; padding-left: 5px !important; padding-right: 5px !important; }\n",
       " #xyxywxljjb .gt_stub_row_group { color: #333333 !important; background-color: #FFFFFF !important; font-size: 100% !important; font-weight: initial !important; text-transform: inherit !important; border-right-style: solid !important; border-right-width: 2px !important; border-right-color: #D3D3D3 !important; padding-left: 5px !important; padding-right: 5px !important; vertical-align: top !important; }\n",
       " #xyxywxljjb .gt_row_group_first td { border-top-width: 2px !important; }\n",
       " #xyxywxljjb .gt_row_group_first th { border-top-width: 2px !important; }\n",
       " #xyxywxljjb .gt_striped { background-color: rgba(128,128,128,0.05) !important; }\n",
       " #xyxywxljjb .gt_table_body { border-top-style: solid !important; border-top-width: 2px !important; border-top-color: #D3D3D3 !important; border-bottom-style: solid !important; border-bottom-width: 2px !important; border-bottom-color: #D3D3D3 !important; }\n",
       " #xyxywxljjb .gt_sourcenotes { color: #333333 !important; background-color: #FFFFFF !important; border-bottom-style: none !important; border-bottom-width: 2px !important; border-bottom-color: #D3D3D3 !important; border-left-style: none !important; border-left-width: 2px !important; border-left-color: #D3D3D3 !important; border-right-style: none !important; border-right-width: 2px !important; border-right-color: #D3D3D3 !important; }\n",
       " #xyxywxljjb .gt_sourcenote { font-size: 90% !important; padding-top: 4px !important; padding-bottom: 4px !important; padding-left: 5px !important; padding-right: 5px !important; text-align: left !important; }\n",
       " #xyxywxljjb .gt_left { text-align: left !important; }\n",
       " #xyxywxljjb .gt_center { text-align: center !important; }\n",
       " #xyxywxljjb .gt_right { text-align: right !important; font-variant-numeric: tabular-nums !important; }\n",
       " #xyxywxljjb .gt_font_normal { font-weight: normal !important; }\n",
       " #xyxywxljjb .gt_font_bold { font-weight: bold !important; }\n",
       " #xyxywxljjb .gt_font_italic { font-style: italic !important; }\n",
       " #xyxywxljjb .gt_super { font-size: 65% !important; }\n",
       " #xyxywxljjb .gt_footnote_marks { font-size: 75% !important; vertical-align: 0.4em !important; position: initial !important; }\n",
       " #xyxywxljjb .gt_asterisk { font-size: 100% !important; vertical-align: 0 !important; }\n",
       " \n",
       "</style>\n",
       "<table class=\"gt_table\" data-quarto-disable-processing=\"false\" data-quarto-bootstrap=\"false\">\n",
       "<thead>\n",
       "\n",
       "  <tr class=\"gt_heading\">\n",
       "    <td colspan=\"7\" class=\"gt_heading gt_title gt_font_normal\">Annual Sales ($) by Brand</td>\n",
       "  </tr>\n",
       "<tr class=\"gt_col_headings\">\n",
       "  <th class=\"gt_col_heading gt_columns_bottom_border gt_left\" rowspan=\"1\" colspan=\"1\" scope=\"col\" id=\"Year\">Year</th>\n",
       "  <th class=\"gt_col_heading gt_columns_bottom_border gt_right\" rowspan=\"1\" colspan=\"1\" scope=\"col\" id=\"Alpha\">Alpha</th>\n",
       "  <th class=\"gt_col_heading gt_columns_bottom_border gt_right\" rowspan=\"1\" colspan=\"1\" scope=\"col\" id=\"Bravo\">Bravo</th>\n",
       "  <th class=\"gt_col_heading gt_columns_bottom_border gt_right\" rowspan=\"1\" colspan=\"1\" scope=\"col\" id=\"Charlie\">Charlie</th>\n",
       "  <th class=\"gt_col_heading gt_columns_bottom_border gt_right\" rowspan=\"1\" colspan=\"1\" scope=\"col\" id=\"Delta\">Delta</th>\n",
       "  <th class=\"gt_col_heading gt_columns_bottom_border gt_right\" rowspan=\"1\" colspan=\"1\" scope=\"col\" id=\"Other\">Other</th>\n",
       "  <th class=\"gt_col_heading gt_columns_bottom_border gt_right\" rowspan=\"1\" colspan=\"1\" scope=\"col\" id=\"Total\">Total</th>\n",
       "</tr>\n",
       "</thead>\n",
       "<tbody class=\"gt_table_body\">\n",
       "  <tr>\n",
       "    <th style=\"color: #000000; background-color: #808080;\" class=\"gt_row gt_left gt_stub\">1</th>\n",
       "    <td style=\"color: #FFFFFF; background-color: #7041a0;\" class=\"gt_row gt_right\">$33,570.94</td>\n",
       "    <td style=\"color: #FFFFFF; background-color: #865dae;\" class=\"gt_row gt_right\">$28,603.35</td>\n",
       "    <td style=\"color: #000000; background-color: #eae2f1;\" class=\"gt_row gt_right\">$5,120.87</td>\n",
       "    <td style=\"color: #000000; background-color: #f1edf6;\" class=\"gt_row gt_right\">$3,271.51</td>\n",
       "    <td style=\"color: #000000; background-color: #f9f7fb;\" class=\"gt_row gt_right\">$1,535.23</td>\n",
       "    <td class=\"gt_row gt_right\">$72,101.90</td>\n",
       "  </tr>\n",
       "  <tr>\n",
       "    <th style=\"color: #000000; background-color: #808080;\" class=\"gt_row gt_left gt_stub\">2</th>\n",
       "    <td style=\"color: #FFFFFF; background-color: #69379b;\" class=\"gt_row gt_right\">$35,250.75</td>\n",
       "    <td style=\"color: #000000; background-color: #8d67b3;\" class=\"gt_row gt_right\">$26,926.87</td>\n",
       "    <td style=\"color: #000000; background-color: #efe9f4;\" class=\"gt_row gt_right\">$3,922.68</td>\n",
       "    <td style=\"color: #000000; background-color: #f3f0f7;\" class=\"gt_row gt_right\">$2,820.81</td>\n",
       "    <td style=\"color: #000000; background-color: #f8f6fa;\" class=\"gt_row gt_right\">$1,739.82</td>\n",
       "    <td class=\"gt_row gt_right\">$70,660.93</td>\n",
       "  </tr>\n",
       "</tbody>\n",
       "\n",
       "\n",
       "</table>\n",
       "\n",
       "</div>\n",
       "        "
      ],
      "text/plain": [
       "GT(_tbl_data=shape: (2, 7)\n",
       "┌──────┬──────────────┬──────────────┬─────────────┬─────────────┬─────────────┬──────────────┐\n",
       "│ year ┆ Alpha        ┆ Bravo        ┆ Charlie     ┆ Delta       ┆ Other       ┆ Total        │\n",
       "│ ---  ┆ ---          ┆ ---          ┆ ---         ┆ ---         ┆ ---         ┆ ---          │\n",
       "│ i32  ┆ f64          ┆ f64          ┆ f64         ┆ f64         ┆ f64         ┆ f64          │\n",
       "╞══════╪══════════════╪══════════════╪═════════════╪═════════════╪═════════════╪══════════════╡\n",
       "│ 1    ┆ 33570.940269 ┆ 28603.350202 ┆ 5120.870036 ┆ 3271.509991 ┆ 1535.229996 ┆ 72101.900494 │\n",
       "│ 2    ┆ 35250.75023  ┆ 26926.869781 ┆ 3922.68004  ┆ 2820.810008 ┆ 1739.819996 ┆ 70660.930055 │\n",
       "└──────┴──────────────┴──────────────┴─────────────┴─────────────┴─────────────┴──────────────┘, _body=<great_tables._gt_data.Body object at 0x000001EFEBE32A20>, _boxhead=Boxhead([ColInfo(var='year', type=<ColInfoTypeEnum.stub: 2>, column_label='year', column_align='right', column_width=None), ColInfo(var='Alpha', type=<ColInfoTypeEnum.default: 1>, column_label='Alpha', column_align='right', column_width=None), ColInfo(var='Bravo', type=<ColInfoTypeEnum.default: 1>, column_label='Bravo', column_align='right', column_width=None), ColInfo(var='Charlie', type=<ColInfoTypeEnum.default: 1>, column_label='Charlie', column_align='right', column_width=None), ColInfo(var='Delta', type=<ColInfoTypeEnum.default: 1>, column_label='Delta', column_align='right', column_width=None), ColInfo(var='Other', type=<ColInfoTypeEnum.default: 1>, column_label='Other', column_align='right', column_width=None), ColInfo(var='Total', type=<ColInfoTypeEnum.default: 1>, column_label='Total', column_align='right', column_width=None)]), _stub=<great_tables._gt_data.Stub object at 0x000001EFEBF85B20>, _spanners=Spanners([]), _heading=Heading(title='Annual Sales ($) by Brand', subtitle=None, preheader=None), _stubhead='Year', _source_notes=[], _footnotes=[], _styles=[StyleInfo(locname=LocBody(columns='year', rows=[0]), grpname=None, colname='year', rownum=0, colnum=None, styles=[CellStyleText(color='#000000', font=None, size=None, align=None, v_align=None, style=None, weight=None, stretch=None, decorate=None, transform=None, whitespace=None), CellStyleFill(color='#808080')]), StyleInfo(locname=LocBody(columns='year', rows=[1]), grpname=None, colname='year', rownum=1, colnum=None, styles=[CellStyleText(color='#000000', font=None, size=None, align=None, v_align=None, style=None, weight=None, stretch=None, decorate=None, transform=None, whitespace=None), CellStyleFill(color='#808080')]), StyleInfo(locname=LocBody(columns='Alpha', rows=[0]), grpname=None, colname='Alpha', rownum=0, colnum=None, styles=[CellStyleText(color='#FFFFFF', font=None, size=None, align=None, v_align=None, style=None, weight=None, stretch=None, decorate=None, transform=None, whitespace=None), CellStyleFill(color='#7041a0')]), StyleInfo(locname=LocBody(columns='Alpha', rows=[1]), grpname=None, colname='Alpha', rownum=1, colnum=None, styles=[CellStyleText(color='#FFFFFF', font=None, size=None, align=None, v_align=None, style=None, weight=None, stretch=None, decorate=None, transform=None, whitespace=None), CellStyleFill(color='#69379b')]), StyleInfo(locname=LocBody(columns='Bravo', rows=[0]), grpname=None, colname='Bravo', rownum=0, colnum=None, styles=[CellStyleText(color='#FFFFFF', font=None, size=None, align=None, v_align=None, style=None, weight=None, stretch=None, decorate=None, transform=None, whitespace=None), CellStyleFill(color='#865dae')]), StyleInfo(locname=LocBody(columns='Bravo', rows=[1]), grpname=None, colname='Bravo', rownum=1, colnum=None, styles=[CellStyleText(color='#000000', font=None, size=None, align=None, v_align=None, style=None, weight=None, stretch=None, decorate=None, transform=None, whitespace=None), CellStyleFill(color='#8d67b3')]), StyleInfo(locname=LocBody(columns='Charlie', rows=[0]), grpname=None, colname='Charlie', rownum=0, colnum=None, styles=[CellStyleText(color='#000000', font=None, size=None, align=None, v_align=None, style=None, weight=None, stretch=None, decorate=None, transform=None, whitespace=None), CellStyleFill(color='#eae2f1')]), StyleInfo(locname=LocBody(columns='Charlie', rows=[1]), grpname=None, colname='Charlie', rownum=1, colnum=None, styles=[CellStyleText(color='#000000', font=None, size=None, align=None, v_align=None, style=None, weight=None, stretch=None, decorate=None, transform=None, whitespace=None), CellStyleFill(color='#efe9f4')]), StyleInfo(locname=LocBody(columns='Delta', rows=[0]), grpname=None, colname='Delta', rownum=0, colnum=None, styles=[CellStyleText(color='#000000', font=None, size=None, align=None, v_align=None, style=None, weight=None, stretch=None, decorate=None, transform=None, whitespace=None), CellStyleFill(color='#f1edf6')]), StyleInfo(locname=LocBody(columns='Delta', rows=[1]), grpname=None, colname='Delta', rownum=1, colnum=None, styles=[CellStyleText(color='#000000', font=None, size=None, align=None, v_align=None, style=None, weight=None, stretch=None, decorate=None, transform=None, whitespace=None), CellStyleFill(color='#f3f0f7')]), StyleInfo(locname=LocBody(columns='Other', rows=[0]), grpname=None, colname='Other', rownum=0, colnum=None, styles=[CellStyleText(color='#000000', font=None, size=None, align=None, v_align=None, style=None, weight=None, stretch=None, decorate=None, transform=None, whitespace=None), CellStyleFill(color='#f9f7fb')]), StyleInfo(locname=LocBody(columns='Other', rows=[1]), grpname=None, colname='Other', rownum=1, colnum=None, styles=[CellStyleText(color='#000000', font=None, size=None, align=None, v_align=None, style=None, weight=None, stretch=None, decorate=None, transform=None, whitespace=None), CellStyleFill(color='#f8f6fa')])], _locale=<great_tables._gt_data.Locale object at 0x000001EFEBE32E40>, _formats=[<great_tables._gt_data.FormatInfo object at 0x000001EFEBF9A390>], _substitutions=[], _options=Options(table_id=OptionsInfo(scss=False, category='table', type='value', value=None), table_caption=OptionsInfo(scss=False, category='table', type='value', value=None), table_width=OptionsInfo(scss=True, category='table', type='px', value='auto'), table_layout=OptionsInfo(scss=True, category='table', type='value', value='fixed'), table_margin_left=OptionsInfo(scss=True, category='table', type='px', value='auto'), table_margin_right=OptionsInfo(scss=True, category='table', type='px', value='auto'), table_background_color=OptionsInfo(scss=True, category='table', type='value', value='#FFFFFF'), table_additional_css=OptionsInfo(scss=False, category='table', type='values', value=[]), table_font_names=OptionsInfo(scss=False, category='table', type='values', value=['-apple-system', 'BlinkMacSystemFont', 'Segoe UI', 'Roboto', 'Oxygen', 'Ubuntu', 'Cantarell', 'Helvetica Neue', 'Fira Sans', 'Droid Sans', 'Arial', 'sans-serif']), table_font_size=OptionsInfo(scss=True, category='table', type='px', value='16px'), table_font_weight=OptionsInfo(scss=True, category='table', type='value', value='normal'), table_font_style=OptionsInfo(scss=True, category='table', type='value', value='normal'), table_font_color=OptionsInfo(scss=True, category='table', type='value', value='#333333'), table_font_color_light=OptionsInfo(scss=True, category='table', type='value', value='#FFFFFF'), table_border_top_include=OptionsInfo(scss=False, category='table', type='boolean', value=True), table_border_top_style=OptionsInfo(scss=True, category='table', type='value', value='solid'), table_border_top_width=OptionsInfo(scss=True, category='table', type='px', value='2px'), table_border_top_color=OptionsInfo(scss=True, category='table', type='value', value='#A8A8A8'), table_border_right_style=OptionsInfo(scss=True, category='table', type='value', value='none'), table_border_right_width=OptionsInfo(scss=True, category='table', type='px', value='2px'), table_border_right_color=OptionsInfo(scss=True, category='table', type='value', value='#D3D3D3'), table_border_bottom_include=OptionsInfo(scss=False, category='table', type='boolean', value=True), table_border_bottom_style=OptionsInfo(scss=True, category='table', type='value', value='solid'), table_border_bottom_width=OptionsInfo(scss=True, category='table', type='px', value='2px'), table_border_bottom_color=OptionsInfo(scss=True, category='table', type='value', value='#A8A8A8'), table_border_left_style=OptionsInfo(scss=True, category='table', type='value', value='none'), table_border_left_width=OptionsInfo(scss=True, category='table', type='px', value='2px'), table_border_left_color=OptionsInfo(scss=True, category='table', type='value', value='#D3D3D3'), heading_background_color=OptionsInfo(scss=True, category='heading', type='value', value=None), heading_align=OptionsInfo(scss=True, category='heading', type='value', value='center'), heading_title_font_size=OptionsInfo(scss=True, category='heading', type='px', value='125%'), heading_title_font_weight=OptionsInfo(scss=True, category='heading', type='value', value='initial'), heading_subtitle_font_size=OptionsInfo(scss=True, category='heading', type='px', value='85%'), heading_subtitle_font_weight=OptionsInfo(scss=True, category='heading', type='value', value='initial'), heading_padding=OptionsInfo(scss=True, category='heading', type='px', value='4px'), heading_padding_horizontal=OptionsInfo(scss=True, category='heading', type='px', value='5px'), heading_border_bottom_style=OptionsInfo(scss=True, category='heading', type='value', value='solid'), heading_border_bottom_width=OptionsInfo(scss=True, category='heading', type='px', value='2px'), heading_border_bottom_color=OptionsInfo(scss=True, category='heading', type='value', value='#D3D3D3'), heading_border_lr_style=OptionsInfo(scss=True, category='heading', type='value', value='none'), heading_border_lr_width=OptionsInfo(scss=True, category='heading', type='px', value='1px'), heading_border_lr_color=OptionsInfo(scss=True, category='heading', type='value', value='#D3D3D3'), column_labels_background_color=OptionsInfo(scss=True, category='column_labels', type='value', value=None), column_labels_font_size=OptionsInfo(scss=True, category='column_labels', type='px', value='100%'), column_labels_font_weight=OptionsInfo(scss=True, category='column_labels', type='value', value='normal'), column_labels_text_transform=OptionsInfo(scss=True, category='column_labels', type='value', value='inherit'), column_labels_padding=OptionsInfo(scss=True, category='column_labels', type='px', value='5px'), column_labels_padding_horizontal=OptionsInfo(scss=True, category='column_labels', type='px', value='5px'), column_labels_vlines_style=OptionsInfo(scss=True, category='table_body', type='value', value='none'), column_labels_vlines_width=OptionsInfo(scss=True, category='table_body', type='px', value='1px'), column_labels_vlines_color=OptionsInfo(scss=True, category='table_body', type='value', value='#D3D3D3'), column_labels_border_top_style=OptionsInfo(scss=True, category='column_labels', type='value', value='solid'), column_labels_border_top_width=OptionsInfo(scss=True, category='column_labels', type='px', value='2px'), column_labels_border_top_color=OptionsInfo(scss=True, category='column_labels', type='value', value='#D3D3D3'), column_labels_border_bottom_style=OptionsInfo(scss=True, category='column_labels', type='value', value='solid'), column_labels_border_bottom_width=OptionsInfo(scss=True, category='column_labels', type='px', value='2px'), column_labels_border_bottom_color=OptionsInfo(scss=True, category='column_labels', type='value', value='#D3D3D3'), column_labels_border_lr_style=OptionsInfo(scss=True, category='column_labels', type='value', value='none'), column_labels_border_lr_width=OptionsInfo(scss=True, category='column_labels', type='px', value='1px'), column_labels_border_lr_color=OptionsInfo(scss=True, category='column_labels', type='value', value='#D3D3D3'), column_labels_hidden=OptionsInfo(scss=False, category='column_labels', type='boolean', value=False), row_group_background_color=OptionsInfo(scss=True, category='row_group', type='value', value=None), row_group_font_size=OptionsInfo(scss=True, category='row_group', type='px', value='100%'), row_group_font_weight=OptionsInfo(scss=True, category='row_group', type='value', value='initial'), row_group_text_transform=OptionsInfo(scss=True, category='row_group', type='value', value='inherit'), row_group_padding=OptionsInfo(scss=True, category='row_group', type='px', value='8px'), row_group_padding_horizontal=OptionsInfo(scss=True, category='row_group', type='px', value='5px'), row_group_border_top_style=OptionsInfo(scss=True, category='row_group', type='value', value='solid'), row_group_border_top_width=OptionsInfo(scss=True, category='row_group', type='px', value='2px'), row_group_border_top_color=OptionsInfo(scss=True, category='row_group', type='value', value='#D3D3D3'), row_group_border_right_style=OptionsInfo(scss=True, category='row_group', type='value', value='none'), row_group_border_right_width=OptionsInfo(scss=True, category='row_group', type='px', value='1px'), row_group_border_right_color=OptionsInfo(scss=True, category='row_group', type='value', value='#D3D3D3'), row_group_border_bottom_style=OptionsInfo(scss=True, category='row_group', type='value', value='solid'), row_group_border_bottom_width=OptionsInfo(scss=True, category='row_group', type='px', value='2px'), row_group_border_bottom_color=OptionsInfo(scss=True, category='row_group', type='value', value='#D3D3D3'), row_group_border_left_style=OptionsInfo(scss=True, category='row_group', type='value', value='none'), row_group_border_left_width=OptionsInfo(scss=True, category='row_group', type='px', value='1px'), row_group_border_left_color=OptionsInfo(scss=True, category='row_group', type='value', value='#D3D3D3'), row_group_as_column=OptionsInfo(scss=False, category='row_group', type='boolean', value=False), table_body_hlines_style=OptionsInfo(scss=True, category='table_body', type='value', value='solid'), table_body_hlines_width=OptionsInfo(scss=True, category='table_body', type='px', value='1px'), table_body_hlines_color=OptionsInfo(scss=True, category='table_body', type='value', value='#D3D3D3'), table_body_vlines_style=OptionsInfo(scss=True, category='table_body', type='value', value='none'), table_body_vlines_width=OptionsInfo(scss=True, category='table_body', type='px', value='1px'), table_body_vlines_color=OptionsInfo(scss=True, category='table_body', type='value', value='#D3D3D3'), table_body_border_top_style=OptionsInfo(scss=True, category='table_body', type='value', value='solid'), table_body_border_top_width=OptionsInfo(scss=True, category='table_body', type='px', value='2px'), table_body_border_top_color=OptionsInfo(scss=True, category='table_body', type='value', value='#D3D3D3'), table_body_border_bottom_style=OptionsInfo(scss=True, category='table_body', type='value', value='solid'), table_body_border_bottom_width=OptionsInfo(scss=True, category='table_body', type='px', value='2px'), table_body_border_bottom_color=OptionsInfo(scss=True, category='table_body', type='value', value='#D3D3D3'), data_row_padding=OptionsInfo(scss=True, category='data_row', type='px', value='8px'), data_row_padding_horizontal=OptionsInfo(scss=True, category='data_row', type='px', value='5px'), stub_background_color=OptionsInfo(scss=True, category='stub', type='value', value=None), stub_font_size=OptionsInfo(scss=True, category='stub', type='px', value='100%'), stub_font_weight=OptionsInfo(scss=True, category='stub', type='value', value='initial'), stub_text_transform=OptionsInfo(scss=True, category='stub', type='value', value='inherit'), stub_border_style=OptionsInfo(scss=True, category='stub', type='value', value='solid'), stub_border_width=OptionsInfo(scss=True, category='stub', type='px', value='2px'), stub_border_color=OptionsInfo(scss=True, category='stub', type='value', value='#D3D3D3'), stub_row_group_background_color=OptionsInfo(scss=True, category='stub', type='value', value=None), stub_row_group_font_size=OptionsInfo(scss=True, category='stub', type='px', value='100%'), stub_row_group_font_weight=OptionsInfo(scss=True, category='stub', type='value', value='initial'), stub_row_group_text_transform=OptionsInfo(scss=True, category='stub', type='value', value='inherit'), stub_row_group_border_style=OptionsInfo(scss=True, category='stub', type='value', value='solid'), stub_row_group_border_width=OptionsInfo(scss=True, category='stub', type='px', value='2px'), stub_row_group_border_color=OptionsInfo(scss=True, category='stub', type='value', value='#D3D3D3'), source_notes_padding=OptionsInfo(scss=True, category='source_notes', type='px', value='4px'), source_notes_padding_horizontal=OptionsInfo(scss=True, category='source_notes', type='px', value='5px'), source_notes_background_color=OptionsInfo(scss=True, category='source_notes', type='value', value=None), source_notes_font_size=OptionsInfo(scss=True, category='source_notes', type='px', value='90%'), source_notes_border_bottom_style=OptionsInfo(scss=True, category='source_notes', type='value', value='none'), source_notes_border_bottom_width=OptionsInfo(scss=True, category='source_notes', type='px', value='2px'), source_notes_border_bottom_color=OptionsInfo(scss=True, category='source_notes', type='value', value='#D3D3D3'), source_notes_border_lr_style=OptionsInfo(scss=True, category='source_notes', type='value', value='none'), source_notes_border_lr_width=OptionsInfo(scss=True, category='source_notes', type='px', value='2px'), source_notes_border_lr_color=OptionsInfo(scss=True, category='source_notes', type='value', value='#D3D3D3'), source_notes_multiline=OptionsInfo(scss=False, category='source_notes', type='boolean', value=True), source_notes_sep=OptionsInfo(scss=False, category='source_notes', type='value', value=' '), row_striping_background_color=OptionsInfo(scss=True, category='row', type='value', value='rgba(128,128,128,0.05)'), row_striping_include_stub=OptionsInfo(scss=False, category='row', type='boolean', value=False), row_striping_include_table_body=OptionsInfo(scss=False, category='row', type='boolean', value=False), container_width=OptionsInfo(scss=False, category='container', type='px', value='auto'), container_height=OptionsInfo(scss=False, category='container', type='px', value='auto'), container_padding_x=OptionsInfo(scss=False, category='container', type='px', value='0px'), container_padding_y=OptionsInfo(scss=False, category='container', type='px', value='10px'), container_overflow_x=OptionsInfo(scss=False, category='container', type='overflow', value='auto'), container_overflow_y=OptionsInfo(scss=False, category='container', type='overflow', value='auto'), quarto_disable_processing=OptionsInfo(scss=False, category='quarto', type='logical', value=False), quarto_use_bootstrap=OptionsInfo(scss=False, category='quarto', type='logical', value=False)), _has_built=False)"
      ]
     },
     "execution_count": 17,
     "metadata": {},
     "output_type": "execute_result"
    }
   ],
   "source": [
    "annual_sales_pivot = annual_sales_summary().collect().pivot(\n",
    "    on='brand',\n",
    "    index='year',\n",
    "    sort_columns=True\n",
    ").with_columns(\n",
    "    pl.sum_horizontal(pl.all().exclude('year')).alias(\"Total\") # add totals column\n",
    ")\n",
    "\n",
    "(\n",
    "    GT(annual_sales_pivot, rowname_col=\"year\")\n",
    "    .tab_header(title=\"Annual Sales ($) by Brand\")\n",
    "    .tab_stubhead(label=\"Year\")\n",
    "    .fmt_currency()\n",
    "    .data_color(\n",
    "        columns=annual_sales_pivot.columns[:-1],\n",
    "        domain=[100, 36_000],\n",
    "        palette=[\"white\", \"rebeccapurple\"]\n",
    "    )    \n",
    ")"
   ]
  },
  {
   "cell_type": "code",
   "execution_count": 18,
   "metadata": {},
   "outputs": [
    {
     "data": {
      "text/html": [
       "<div id=\"hhkkquxcza\" style=\"padding-left:0px;padding-right:0px;padding-top:10px;padding-bottom:10px;overflow-x:auto;overflow-y:auto;width:auto;height:auto;\">\n",
       "<style>\n",
       "#hhkkquxcza table {\n",
       "          font-family: -apple-system, BlinkMacSystemFont, 'Segoe UI', Roboto, Oxygen, Ubuntu, Cantarell, 'Helvetica Neue', 'Fira Sans', 'Droid Sans', Arial, sans-serif;\n",
       "          -webkit-font-smoothing: antialiased;\n",
       "          -moz-osx-font-smoothing: grayscale;\n",
       "        }\n",
       "\n",
       "#hhkkquxcza thead, tbody, tfoot, tr, td, th { border-style: none !important; }\n",
       " tr { background-color: transparent !important; }\n",
       "#hhkkquxcza p { margin: 0 !important; padding: 0 !important; }\n",
       " #hhkkquxcza .gt_table { display: table !important; border-collapse: collapse !important; line-height: normal !important; margin-left: auto !important; margin-right: auto !important; color: #333333 !important; font-size: 16px !important; font-weight: normal !important; font-style: normal !important; background-color: #FFFFFF !important; width: auto !important; border-top-style: solid !important; border-top-width: 2px !important; border-top-color: #A8A8A8 !important; border-right-style: none !important; border-right-width: 2px !important; border-right-color: #D3D3D3 !important; border-bottom-style: solid !important; border-bottom-width: 2px !important; border-bottom-color: #A8A8A8 !important; border-left-style: none !important; border-left-width: 2px !important; border-left-color: #D3D3D3 !important; }\n",
       " #hhkkquxcza .gt_caption { padding-top: 4px !important; padding-bottom: 4px !important; }\n",
       " #hhkkquxcza .gt_title { color: #333333 !important; font-size: 125% !important; font-weight: initial !important; padding-top: 4px !important; padding-bottom: 4px !important; padding-left: 5px !important; padding-right: 5px !important; border-bottom-color: #FFFFFF !important; border-bottom-width: 0 !important; }\n",
       " #hhkkquxcza .gt_subtitle { color: #333333 !important; font-size: 85% !important; font-weight: initial !important; padding-top: 3px !important; padding-bottom: 5px !important; padding-left: 5px !important; padding-right: 5px !important; border-top-color: #FFFFFF !important; border-top-width: 0 !important; }\n",
       " #hhkkquxcza .gt_heading { background-color: #FFFFFF !important; text-align: center !important; border-bottom-color: #FFFFFF !important; border-left-style: none !important; border-left-width: 1px !important; border-left-color: #D3D3D3 !important; border-right-style: none !important; border-right-width: 1px !important; border-right-color: #D3D3D3 !important; }\n",
       " #hhkkquxcza .gt_bottom_border { border-bottom-style: solid !important; border-bottom-width: 2px !important; border-bottom-color: #D3D3D3 !important; }\n",
       " #hhkkquxcza .gt_col_headings { border-top-style: solid !important; border-top-width: 2px !important; border-top-color: #D3D3D3 !important; border-bottom-style: solid !important; border-bottom-width: 2px !important; border-bottom-color: #D3D3D3 !important; border-left-style: none !important; border-left-width: 1px !important; border-left-color: #D3D3D3 !important; border-right-style: none !important; border-right-width: 1px !important; border-right-color: #D3D3D3 !important; }\n",
       " #hhkkquxcza .gt_col_heading { color: #333333 !important; background-color: #FFFFFF !important; font-size: 100% !important; font-weight: normal !important; text-transform: inherit !important; border-left-style: none !important; border-left-width: 1px !important; border-left-color: #D3D3D3 !important; border-right-style: none !important; border-right-width: 1px !important; border-right-color: #D3D3D3 !important; vertical-align: bottom !important; padding-top: 5px !important; padding-bottom: 5px !important; padding-left: 5px !important; padding-right: 5px !important; overflow-x: hidden !important; }\n",
       " #hhkkquxcza .gt_column_spanner_outer { color: #333333 !important; background-color: #FFFFFF !important; font-size: 100% !important; font-weight: normal !important; text-transform: inherit !important; padding-top: 0 !important; padding-bottom: 0 !important; padding-left: 4px !important; padding-right: 4px !important; }\n",
       " #hhkkquxcza .gt_column_spanner_outer:first-child { padding-left: 0 !important; }\n",
       " #hhkkquxcza .gt_column_spanner_outer:last-child { padding-right: 0 !important; }\n",
       " #hhkkquxcza .gt_column_spanner { border-bottom-style: solid !important; border-bottom-width: 2px !important; border-bottom-color: #D3D3D3 !important; vertical-align: bottom !important; padding-top: 5px !important; padding-bottom: 5px !important; overflow-x: hidden !important; display: inline-block !important; width: 100% !important; }\n",
       " #hhkkquxcza .gt_spanner_row { border-bottom-style: hidden !important; }\n",
       " #hhkkquxcza .gt_group_heading { padding-top: 8px !important; padding-bottom: 8px !important; padding-left: 5px !important; padding-right: 5px !important; color: #333333 !important; background-color: #FFFFFF !important; font-size: 100% !important; font-weight: initial !important; text-transform: inherit !important; border-top-style: solid !important; border-top-width: 2px !important; border-top-color: #D3D3D3 !important; border-bottom-style: solid !important; border-bottom-width: 2px !important; border-bottom-color: #D3D3D3 !important; border-left-style: none !important; border-left-width: 1px !important; border-left-color: #D3D3D3 !important; border-right-style: none !important; border-right-width: 1px !important; border-right-color: #D3D3D3 !important; vertical-align: middle !important; text-align: left !important; }\n",
       " #hhkkquxcza .gt_empty_group_heading { padding: 0.5px !important; color: #333333 !important; background-color: #FFFFFF !important; font-size: 100% !important; font-weight: initial !important; border-top-style: solid !important; border-top-width: 2px !important; border-top-color: #D3D3D3 !important; border-bottom-style: solid !important; border-bottom-width: 2px !important; border-bottom-color: #D3D3D3 !important; vertical-align: middle !important; }\n",
       " #hhkkquxcza .gt_from_md> :first-child { margin-top: 0 !important; }\n",
       " #hhkkquxcza .gt_from_md> :last-child { margin-bottom: 0 !important; }\n",
       " #hhkkquxcza .gt_row { padding-top: 8px !important; padding-bottom: 8px !important; padding-left: 5px !important; padding-right: 5px !important; margin: 10px !important; border-top-style: solid !important; border-top-width: 1px !important; border-top-color: #D3D3D3 !important; border-left-style: none !important; border-left-width: 1px !important; border-left-color: #D3D3D3 !important; border-right-style: none !important; border-right-width: 1px !important; border-right-color: #D3D3D3 !important; vertical-align: middle !important; overflow-x: hidden !important; }\n",
       " #hhkkquxcza .gt_stub { color: #333333 !important; background-color: #FFFFFF !important; font-size: 100% !important; font-weight: initial !important; text-transform: inherit !important; border-right-style: solid !important; border-right-width: 2px !important; border-right-color: #D3D3D3 !important; padding-left: 5px !important; padding-right: 5px !important; }\n",
       " #hhkkquxcza .gt_stub_row_group { color: #333333 !important; background-color: #FFFFFF !important; font-size: 100% !important; font-weight: initial !important; text-transform: inherit !important; border-right-style: solid !important; border-right-width: 2px !important; border-right-color: #D3D3D3 !important; padding-left: 5px !important; padding-right: 5px !important; vertical-align: top !important; }\n",
       " #hhkkquxcza .gt_row_group_first td { border-top-width: 2px !important; }\n",
       " #hhkkquxcza .gt_row_group_first th { border-top-width: 2px !important; }\n",
       " #hhkkquxcza .gt_striped { background-color: rgba(128,128,128,0.05) !important; }\n",
       " #hhkkquxcza .gt_table_body { border-top-style: solid !important; border-top-width: 2px !important; border-top-color: #D3D3D3 !important; border-bottom-style: solid !important; border-bottom-width: 2px !important; border-bottom-color: #D3D3D3 !important; }\n",
       " #hhkkquxcza .gt_sourcenotes { color: #333333 !important; background-color: #FFFFFF !important; border-bottom-style: none !important; border-bottom-width: 2px !important; border-bottom-color: #D3D3D3 !important; border-left-style: none !important; border-left-width: 2px !important; border-left-color: #D3D3D3 !important; border-right-style: none !important; border-right-width: 2px !important; border-right-color: #D3D3D3 !important; }\n",
       " #hhkkquxcza .gt_sourcenote { font-size: 90% !important; padding-top: 4px !important; padding-bottom: 4px !important; padding-left: 5px !important; padding-right: 5px !important; text-align: left !important; }\n",
       " #hhkkquxcza .gt_left { text-align: left !important; }\n",
       " #hhkkquxcza .gt_center { text-align: center !important; }\n",
       " #hhkkquxcza .gt_right { text-align: right !important; font-variant-numeric: tabular-nums !important; }\n",
       " #hhkkquxcza .gt_font_normal { font-weight: normal !important; }\n",
       " #hhkkquxcza .gt_font_bold { font-weight: bold !important; }\n",
       " #hhkkquxcza .gt_font_italic { font-style: italic !important; }\n",
       " #hhkkquxcza .gt_super { font-size: 65% !important; }\n",
       " #hhkkquxcza .gt_footnote_marks { font-size: 75% !important; vertical-align: 0.4em !important; position: initial !important; }\n",
       " #hhkkquxcza .gt_asterisk { font-size: 100% !important; vertical-align: 0 !important; }\n",
       " \n",
       "</style>\n",
       "<table class=\"gt_table\" data-quarto-disable-processing=\"false\" data-quarto-bootstrap=\"false\">\n",
       "<thead>\n",
       "\n",
       "  <tr class=\"gt_heading\">\n",
       "    <td colspan=\"2\" class=\"gt_heading gt_title gt_font_normal\">% Change in Annual Sales</td>\n",
       "  </tr>\n",
       "<tr class=\"gt_col_headings\">\n",
       "  <th class=\"gt_col_heading gt_columns_bottom_border gt_left\" rowspan=\"1\" colspan=\"1\" scope=\"col\" id=\"Brands\">Brands</th>\n",
       "  <th class=\"gt_col_heading gt_columns_bottom_border gt_right\" rowspan=\"1\" colspan=\"1\" scope=\"col\" id=\"% Change\">% Change</th>\n",
       "</tr>\n",
       "</thead>\n",
       "<tbody class=\"gt_table_body\">\n",
       "  <tr>\n",
       "    <th style=\"color: #000000; background-color: #808080;\" class=\"gt_row gt_left gt_stub\">Alpha</th>\n",
       "    <td style=\"color: #000000; background-color: #e5ddee;\" class=\"gt_row gt_right\">5.00%</td>\n",
       "  </tr>\n",
       "  <tr>\n",
       "    <th style=\"color: #000000; background-color: #808080;\" class=\"gt_row gt_left gt_stub\">Bravo</th>\n",
       "    <td style=\"color: #000000; background-color: #ffedcd;\" class=\"gt_row gt_right\">−5.86%</td>\n",
       "  </tr>\n",
       "  <tr>\n",
       "    <th style=\"color: #000000; background-color: #808080;\" class=\"gt_row gt_left gt_stub\">Charlie</th>\n",
       "    <td style=\"color: #000000; background-color: #ffb938;\" class=\"gt_row gt_right\">−23.40%</td>\n",
       "  </tr>\n",
       "  <tr>\n",
       "    <th style=\"color: #000000; background-color: #808080;\" class=\"gt_row gt_left gt_stub\">Delta</th>\n",
       "    <td style=\"color: #000000; background-color: #ffd68a;\" class=\"gt_row gt_right\">−13.78%</td>\n",
       "  </tr>\n",
       "  <tr>\n",
       "    <th style=\"color: #000000; background-color: #808080;\" class=\"gt_row gt_left gt_stub\">Other</th>\n",
       "    <td style=\"color: #000000; background-color: #bba4d2;\" class=\"gt_row gt_right\">13.33%</td>\n",
       "  </tr>\n",
       "  <tr>\n",
       "    <th style=\"color: #000000; background-color: #808080;\" class=\"gt_row gt_left gt_stub\">Total</th>\n",
       "    <td style=\"color: #000000; background-color: #fff9ee;\" class=\"gt_row gt_right\">−2.00%</td>\n",
       "  </tr>\n",
       "</tbody>\n",
       "\n",
       "\n",
       "</table>\n",
       "\n",
       "</div>\n",
       "        "
      ],
      "text/plain": [
       "GT(_tbl_data=shape: (6, 3)\n",
       "┌──────┬─────────┬───────────┐\n",
       "│ year ┆ brand   ┆ % Change  │\n",
       "│ ---  ┆ ---     ┆ ---       │\n",
       "│ i32  ┆ str     ┆ f64       │\n",
       "╞══════╪═════════╪═══════════╡\n",
       "│ 2    ┆ Alpha   ┆ 0.050038  │\n",
       "│ 2    ┆ Bravo   ┆ -0.058611 │\n",
       "│ 2    ┆ Charlie ┆ -0.233982 │\n",
       "│ 2    ┆ Delta   ┆ -0.137765 │\n",
       "│ 2    ┆ Other   ┆ 0.133263  │\n",
       "│ 2    ┆ Total   ┆ -0.019985 │\n",
       "└──────┴─────────┴───────────┘, _body=<great_tables._gt_data.Body object at 0x000001EFEBFD1850>, _boxhead=Boxhead([ColInfo(var='year', type=<ColInfoTypeEnum.hidden: 4>, column_label='year', column_align='right', column_width=None), ColInfo(var='brand', type=<ColInfoTypeEnum.stub: 2>, column_label='Y-o-Y % Change', column_align='left', column_width=None), ColInfo(var='% Change', type=<ColInfoTypeEnum.default: 1>, column_label='% Change', column_align='right', column_width=None)]), _stub=<great_tables._gt_data.Stub object at 0x000001EFEBFD0A10>, _spanners=Spanners([]), _heading=Heading(title='% Change in Annual Sales', subtitle=None, preheader=None), _stubhead='Brands', _source_notes=[], _footnotes=[], _styles=[StyleInfo(locname=LocBody(columns='year', rows=[0]), grpname=None, colname='year', rownum=0, colnum=None, styles=[CellStyleText(color='#000000', font=None, size=None, align=None, v_align=None, style=None, weight=None, stretch=None, decorate=None, transform=None, whitespace=None), CellStyleFill(color='#808080')]), StyleInfo(locname=LocBody(columns='year', rows=[1]), grpname=None, colname='year', rownum=1, colnum=None, styles=[CellStyleText(color='#000000', font=None, size=None, align=None, v_align=None, style=None, weight=None, stretch=None, decorate=None, transform=None, whitespace=None), CellStyleFill(color='#808080')]), StyleInfo(locname=LocBody(columns='year', rows=[2]), grpname=None, colname='year', rownum=2, colnum=None, styles=[CellStyleText(color='#000000', font=None, size=None, align=None, v_align=None, style=None, weight=None, stretch=None, decorate=None, transform=None, whitespace=None), CellStyleFill(color='#808080')]), StyleInfo(locname=LocBody(columns='year', rows=[3]), grpname=None, colname='year', rownum=3, colnum=None, styles=[CellStyleText(color='#000000', font=None, size=None, align=None, v_align=None, style=None, weight=None, stretch=None, decorate=None, transform=None, whitespace=None), CellStyleFill(color='#808080')]), StyleInfo(locname=LocBody(columns='year', rows=[4]), grpname=None, colname='year', rownum=4, colnum=None, styles=[CellStyleText(color='#000000', font=None, size=None, align=None, v_align=None, style=None, weight=None, stretch=None, decorate=None, transform=None, whitespace=None), CellStyleFill(color='#808080')]), StyleInfo(locname=LocBody(columns='year', rows=[5]), grpname=None, colname='year', rownum=5, colnum=None, styles=[CellStyleText(color='#000000', font=None, size=None, align=None, v_align=None, style=None, weight=None, stretch=None, decorate=None, transform=None, whitespace=None), CellStyleFill(color='#808080')]), StyleInfo(locname=LocBody(columns='brand', rows=[0]), grpname=None, colname='brand', rownum=0, colnum=None, styles=[CellStyleText(color='#000000', font=None, size=None, align=None, v_align=None, style=None, weight=None, stretch=None, decorate=None, transform=None, whitespace=None), CellStyleFill(color='#808080')]), StyleInfo(locname=LocBody(columns='brand', rows=[1]), grpname=None, colname='brand', rownum=1, colnum=None, styles=[CellStyleText(color='#000000', font=None, size=None, align=None, v_align=None, style=None, weight=None, stretch=None, decorate=None, transform=None, whitespace=None), CellStyleFill(color='#808080')]), StyleInfo(locname=LocBody(columns='brand', rows=[2]), grpname=None, colname='brand', rownum=2, colnum=None, styles=[CellStyleText(color='#000000', font=None, size=None, align=None, v_align=None, style=None, weight=None, stretch=None, decorate=None, transform=None, whitespace=None), CellStyleFill(color='#808080')]), StyleInfo(locname=LocBody(columns='brand', rows=[3]), grpname=None, colname='brand', rownum=3, colnum=None, styles=[CellStyleText(color='#000000', font=None, size=None, align=None, v_align=None, style=None, weight=None, stretch=None, decorate=None, transform=None, whitespace=None), CellStyleFill(color='#808080')]), StyleInfo(locname=LocBody(columns='brand', rows=[4]), grpname=None, colname='brand', rownum=4, colnum=None, styles=[CellStyleText(color='#000000', font=None, size=None, align=None, v_align=None, style=None, weight=None, stretch=None, decorate=None, transform=None, whitespace=None), CellStyleFill(color='#808080')]), StyleInfo(locname=LocBody(columns='brand', rows=[5]), grpname=None, colname='brand', rownum=5, colnum=None, styles=[CellStyleText(color='#000000', font=None, size=None, align=None, v_align=None, style=None, weight=None, stretch=None, decorate=None, transform=None, whitespace=None), CellStyleFill(color='#808080')]), StyleInfo(locname=LocBody(columns='% Change', rows=[0]), grpname=None, colname='% Change', rownum=0, colnum=None, styles=[CellStyleText(color='#000000', font=None, size=None, align=None, v_align=None, style=None, weight=None, stretch=None, decorate=None, transform=None, whitespace=None), CellStyleFill(color='#e5ddee')]), StyleInfo(locname=LocBody(columns='% Change', rows=[1]), grpname=None, colname='% Change', rownum=1, colnum=None, styles=[CellStyleText(color='#000000', font=None, size=None, align=None, v_align=None, style=None, weight=None, stretch=None, decorate=None, transform=None, whitespace=None), CellStyleFill(color='#ffedcd')]), StyleInfo(locname=LocBody(columns='% Change', rows=[2]), grpname=None, colname='% Change', rownum=2, colnum=None, styles=[CellStyleText(color='#000000', font=None, size=None, align=None, v_align=None, style=None, weight=None, stretch=None, decorate=None, transform=None, whitespace=None), CellStyleFill(color='#ffb938')]), StyleInfo(locname=LocBody(columns='% Change', rows=[3]), grpname=None, colname='% Change', rownum=3, colnum=None, styles=[CellStyleText(color='#000000', font=None, size=None, align=None, v_align=None, style=None, weight=None, stretch=None, decorate=None, transform=None, whitespace=None), CellStyleFill(color='#ffd68a')]), StyleInfo(locname=LocBody(columns='% Change', rows=[4]), grpname=None, colname='% Change', rownum=4, colnum=None, styles=[CellStyleText(color='#000000', font=None, size=None, align=None, v_align=None, style=None, weight=None, stretch=None, decorate=None, transform=None, whitespace=None), CellStyleFill(color='#bba4d2')]), StyleInfo(locname=LocBody(columns='% Change', rows=[5]), grpname=None, colname='% Change', rownum=5, colnum=None, styles=[CellStyleText(color='#000000', font=None, size=None, align=None, v_align=None, style=None, weight=None, stretch=None, decorate=None, transform=None, whitespace=None), CellStyleFill(color='#fff9ee')])], _locale=<great_tables._gt_data.Locale object at 0x000001EFEBFD1DF0>, _formats=[<great_tables._gt_data.FormatInfo object at 0x000001EFEBFD1FD0>], _substitutions=[], _options=Options(table_id=OptionsInfo(scss=False, category='table', type='value', value=None), table_caption=OptionsInfo(scss=False, category='table', type='value', value=None), table_width=OptionsInfo(scss=True, category='table', type='px', value='auto'), table_layout=OptionsInfo(scss=True, category='table', type='value', value='fixed'), table_margin_left=OptionsInfo(scss=True, category='table', type='px', value='auto'), table_margin_right=OptionsInfo(scss=True, category='table', type='px', value='auto'), table_background_color=OptionsInfo(scss=True, category='table', type='value', value='#FFFFFF'), table_additional_css=OptionsInfo(scss=False, category='table', type='values', value=[]), table_font_names=OptionsInfo(scss=False, category='table', type='values', value=['-apple-system', 'BlinkMacSystemFont', 'Segoe UI', 'Roboto', 'Oxygen', 'Ubuntu', 'Cantarell', 'Helvetica Neue', 'Fira Sans', 'Droid Sans', 'Arial', 'sans-serif']), table_font_size=OptionsInfo(scss=True, category='table', type='px', value='16px'), table_font_weight=OptionsInfo(scss=True, category='table', type='value', value='normal'), table_font_style=OptionsInfo(scss=True, category='table', type='value', value='normal'), table_font_color=OptionsInfo(scss=True, category='table', type='value', value='#333333'), table_font_color_light=OptionsInfo(scss=True, category='table', type='value', value='#FFFFFF'), table_border_top_include=OptionsInfo(scss=False, category='table', type='boolean', value=True), table_border_top_style=OptionsInfo(scss=True, category='table', type='value', value='solid'), table_border_top_width=OptionsInfo(scss=True, category='table', type='px', value='2px'), table_border_top_color=OptionsInfo(scss=True, category='table', type='value', value='#A8A8A8'), table_border_right_style=OptionsInfo(scss=True, category='table', type='value', value='none'), table_border_right_width=OptionsInfo(scss=True, category='table', type='px', value='2px'), table_border_right_color=OptionsInfo(scss=True, category='table', type='value', value='#D3D3D3'), table_border_bottom_include=OptionsInfo(scss=False, category='table', type='boolean', value=True), table_border_bottom_style=OptionsInfo(scss=True, category='table', type='value', value='solid'), table_border_bottom_width=OptionsInfo(scss=True, category='table', type='px', value='2px'), table_border_bottom_color=OptionsInfo(scss=True, category='table', type='value', value='#A8A8A8'), table_border_left_style=OptionsInfo(scss=True, category='table', type='value', value='none'), table_border_left_width=OptionsInfo(scss=True, category='table', type='px', value='2px'), table_border_left_color=OptionsInfo(scss=True, category='table', type='value', value='#D3D3D3'), heading_background_color=OptionsInfo(scss=True, category='heading', type='value', value=None), heading_align=OptionsInfo(scss=True, category='heading', type='value', value='center'), heading_title_font_size=OptionsInfo(scss=True, category='heading', type='px', value='125%'), heading_title_font_weight=OptionsInfo(scss=True, category='heading', type='value', value='initial'), heading_subtitle_font_size=OptionsInfo(scss=True, category='heading', type='px', value='85%'), heading_subtitle_font_weight=OptionsInfo(scss=True, category='heading', type='value', value='initial'), heading_padding=OptionsInfo(scss=True, category='heading', type='px', value='4px'), heading_padding_horizontal=OptionsInfo(scss=True, category='heading', type='px', value='5px'), heading_border_bottom_style=OptionsInfo(scss=True, category='heading', type='value', value='solid'), heading_border_bottom_width=OptionsInfo(scss=True, category='heading', type='px', value='2px'), heading_border_bottom_color=OptionsInfo(scss=True, category='heading', type='value', value='#D3D3D3'), heading_border_lr_style=OptionsInfo(scss=True, category='heading', type='value', value='none'), heading_border_lr_width=OptionsInfo(scss=True, category='heading', type='px', value='1px'), heading_border_lr_color=OptionsInfo(scss=True, category='heading', type='value', value='#D3D3D3'), column_labels_background_color=OptionsInfo(scss=True, category='column_labels', type='value', value=None), column_labels_font_size=OptionsInfo(scss=True, category='column_labels', type='px', value='100%'), column_labels_font_weight=OptionsInfo(scss=True, category='column_labels', type='value', value='normal'), column_labels_text_transform=OptionsInfo(scss=True, category='column_labels', type='value', value='inherit'), column_labels_padding=OptionsInfo(scss=True, category='column_labels', type='px', value='5px'), column_labels_padding_horizontal=OptionsInfo(scss=True, category='column_labels', type='px', value='5px'), column_labels_vlines_style=OptionsInfo(scss=True, category='table_body', type='value', value='none'), column_labels_vlines_width=OptionsInfo(scss=True, category='table_body', type='px', value='1px'), column_labels_vlines_color=OptionsInfo(scss=True, category='table_body', type='value', value='#D3D3D3'), column_labels_border_top_style=OptionsInfo(scss=True, category='column_labels', type='value', value='solid'), column_labels_border_top_width=OptionsInfo(scss=True, category='column_labels', type='px', value='2px'), column_labels_border_top_color=OptionsInfo(scss=True, category='column_labels', type='value', value='#D3D3D3'), column_labels_border_bottom_style=OptionsInfo(scss=True, category='column_labels', type='value', value='solid'), column_labels_border_bottom_width=OptionsInfo(scss=True, category='column_labels', type='px', value='2px'), column_labels_border_bottom_color=OptionsInfo(scss=True, category='column_labels', type='value', value='#D3D3D3'), column_labels_border_lr_style=OptionsInfo(scss=True, category='column_labels', type='value', value='none'), column_labels_border_lr_width=OptionsInfo(scss=True, category='column_labels', type='px', value='1px'), column_labels_border_lr_color=OptionsInfo(scss=True, category='column_labels', type='value', value='#D3D3D3'), column_labels_hidden=OptionsInfo(scss=False, category='column_labels', type='boolean', value=False), row_group_background_color=OptionsInfo(scss=True, category='row_group', type='value', value=None), row_group_font_size=OptionsInfo(scss=True, category='row_group', type='px', value='100%'), row_group_font_weight=OptionsInfo(scss=True, category='row_group', type='value', value='initial'), row_group_text_transform=OptionsInfo(scss=True, category='row_group', type='value', value='inherit'), row_group_padding=OptionsInfo(scss=True, category='row_group', type='px', value='8px'), row_group_padding_horizontal=OptionsInfo(scss=True, category='row_group', type='px', value='5px'), row_group_border_top_style=OptionsInfo(scss=True, category='row_group', type='value', value='solid'), row_group_border_top_width=OptionsInfo(scss=True, category='row_group', type='px', value='2px'), row_group_border_top_color=OptionsInfo(scss=True, category='row_group', type='value', value='#D3D3D3'), row_group_border_right_style=OptionsInfo(scss=True, category='row_group', type='value', value='none'), row_group_border_right_width=OptionsInfo(scss=True, category='row_group', type='px', value='1px'), row_group_border_right_color=OptionsInfo(scss=True, category='row_group', type='value', value='#D3D3D3'), row_group_border_bottom_style=OptionsInfo(scss=True, category='row_group', type='value', value='solid'), row_group_border_bottom_width=OptionsInfo(scss=True, category='row_group', type='px', value='2px'), row_group_border_bottom_color=OptionsInfo(scss=True, category='row_group', type='value', value='#D3D3D3'), row_group_border_left_style=OptionsInfo(scss=True, category='row_group', type='value', value='none'), row_group_border_left_width=OptionsInfo(scss=True, category='row_group', type='px', value='1px'), row_group_border_left_color=OptionsInfo(scss=True, category='row_group', type='value', value='#D3D3D3'), row_group_as_column=OptionsInfo(scss=False, category='row_group', type='boolean', value=False), table_body_hlines_style=OptionsInfo(scss=True, category='table_body', type='value', value='solid'), table_body_hlines_width=OptionsInfo(scss=True, category='table_body', type='px', value='1px'), table_body_hlines_color=OptionsInfo(scss=True, category='table_body', type='value', value='#D3D3D3'), table_body_vlines_style=OptionsInfo(scss=True, category='table_body', type='value', value='none'), table_body_vlines_width=OptionsInfo(scss=True, category='table_body', type='px', value='1px'), table_body_vlines_color=OptionsInfo(scss=True, category='table_body', type='value', value='#D3D3D3'), table_body_border_top_style=OptionsInfo(scss=True, category='table_body', type='value', value='solid'), table_body_border_top_width=OptionsInfo(scss=True, category='table_body', type='px', value='2px'), table_body_border_top_color=OptionsInfo(scss=True, category='table_body', type='value', value='#D3D3D3'), table_body_border_bottom_style=OptionsInfo(scss=True, category='table_body', type='value', value='solid'), table_body_border_bottom_width=OptionsInfo(scss=True, category='table_body', type='px', value='2px'), table_body_border_bottom_color=OptionsInfo(scss=True, category='table_body', type='value', value='#D3D3D3'), data_row_padding=OptionsInfo(scss=True, category='data_row', type='px', value='8px'), data_row_padding_horizontal=OptionsInfo(scss=True, category='data_row', type='px', value='5px'), stub_background_color=OptionsInfo(scss=True, category='stub', type='value', value=None), stub_font_size=OptionsInfo(scss=True, category='stub', type='px', value='100%'), stub_font_weight=OptionsInfo(scss=True, category='stub', type='value', value='initial'), stub_text_transform=OptionsInfo(scss=True, category='stub', type='value', value='inherit'), stub_border_style=OptionsInfo(scss=True, category='stub', type='value', value='solid'), stub_border_width=OptionsInfo(scss=True, category='stub', type='px', value='2px'), stub_border_color=OptionsInfo(scss=True, category='stub', type='value', value='#D3D3D3'), stub_row_group_background_color=OptionsInfo(scss=True, category='stub', type='value', value=None), stub_row_group_font_size=OptionsInfo(scss=True, category='stub', type='px', value='100%'), stub_row_group_font_weight=OptionsInfo(scss=True, category='stub', type='value', value='initial'), stub_row_group_text_transform=OptionsInfo(scss=True, category='stub', type='value', value='inherit'), stub_row_group_border_style=OptionsInfo(scss=True, category='stub', type='value', value='solid'), stub_row_group_border_width=OptionsInfo(scss=True, category='stub', type='px', value='2px'), stub_row_group_border_color=OptionsInfo(scss=True, category='stub', type='value', value='#D3D3D3'), source_notes_padding=OptionsInfo(scss=True, category='source_notes', type='px', value='4px'), source_notes_padding_horizontal=OptionsInfo(scss=True, category='source_notes', type='px', value='5px'), source_notes_background_color=OptionsInfo(scss=True, category='source_notes', type='value', value=None), source_notes_font_size=OptionsInfo(scss=True, category='source_notes', type='px', value='90%'), source_notes_border_bottom_style=OptionsInfo(scss=True, category='source_notes', type='value', value='none'), source_notes_border_bottom_width=OptionsInfo(scss=True, category='source_notes', type='px', value='2px'), source_notes_border_bottom_color=OptionsInfo(scss=True, category='source_notes', type='value', value='#D3D3D3'), source_notes_border_lr_style=OptionsInfo(scss=True, category='source_notes', type='value', value='none'), source_notes_border_lr_width=OptionsInfo(scss=True, category='source_notes', type='px', value='2px'), source_notes_border_lr_color=OptionsInfo(scss=True, category='source_notes', type='value', value='#D3D3D3'), source_notes_multiline=OptionsInfo(scss=False, category='source_notes', type='boolean', value=True), source_notes_sep=OptionsInfo(scss=False, category='source_notes', type='value', value=' '), row_striping_background_color=OptionsInfo(scss=True, category='row', type='value', value='rgba(128,128,128,0.05)'), row_striping_include_stub=OptionsInfo(scss=False, category='row', type='boolean', value=False), row_striping_include_table_body=OptionsInfo(scss=False, category='row', type='boolean', value=False), container_width=OptionsInfo(scss=False, category='container', type='px', value='auto'), container_height=OptionsInfo(scss=False, category='container', type='px', value='auto'), container_padding_x=OptionsInfo(scss=False, category='container', type='px', value='0px'), container_padding_y=OptionsInfo(scss=False, category='container', type='px', value='10px'), container_overflow_x=OptionsInfo(scss=False, category='container', type='overflow', value='auto'), container_overflow_y=OptionsInfo(scss=False, category='container', type='overflow', value='auto'), quarto_disable_processing=OptionsInfo(scss=False, category='quarto', type='logical', value=False), quarto_use_bootstrap=OptionsInfo(scss=False, category='quarto', type='logical', value=False)), _has_built=False)"
      ]
     },
     "execution_count": 18,
     "metadata": {},
     "output_type": "execute_result"
    }
   ],
   "source": [
    "annual_change_sales = annual_sales_pivot.with_columns(\n",
    "    pl.col('*').exclude('year').pct_change()\n",
    ").filter(\n",
    "    pl.col('year') == 2\n",
    ").unpivot(\n",
    "    index=\"year\",  # Keep 'year' as a fixed identifier\n",
    "    value_name='% Change',  \n",
    "    variable_name='brand'\n",
    ")\n",
    "\n",
    "(\n",
    "    GT(annual_change_sales, rowname_col='brand')\n",
    "    .tab_header(title='% Change in Annual Sales')\n",
    "    .tab_stubhead(label=\"Brands\")\n",
    "    .fmt_percent()\n",
    "    .data_color(\n",
    "        domain=[-0.3, 0.3],\n",
    "        palette=['orange', 'white', 'rebeccapurple']\n",
    "    ) \n",
    "    .cols_hide('year')   \n",
    "    .cols_label(brand='Y-o-Y % Change')\n",
    ")"
   ]
  },
  {
   "cell_type": "code",
   "execution_count": 19,
   "metadata": {},
   "outputs": [
    {
     "data": {
      "application/vnd.vegalite.v5+json": {
       "$schema": "https://vega.github.io/schema/vega-lite/v5.20.1.json",
       "config": {
        "view": {
         "continuousHeight": 300,
         "continuousWidth": 300
        }
       },
       "data": {
        "name": "data-f251bb6b6859683b3ec4bca1ecdeef14"
       },
       "datasets": {
        "data-f251bb6b6859683b3ec4bca1ecdeef14": [
         {
          "Yearly Sales": 33570.940269470215,
          "brand": "Alpha",
          "year": 1
         },
         {
          "Yearly Sales": 3271.5099909305573,
          "brand": "Delta",
          "year": 1
         },
         {
          "Yearly Sales": 5120.870035648346,
          "brand": "Charlie",
          "year": 1
         },
         {
          "Yearly Sales": 28603.350202202797,
          "brand": "Bravo",
          "year": 1
         },
         {
          "Yearly Sales": 1535.229995727539,
          "brand": "Other",
          "year": 1
         },
         {
          "Yearly Sales": 26926.869781136513,
          "brand": "Bravo",
          "year": 2
         },
         {
          "Yearly Sales": 2820.810007929802,
          "brand": "Delta",
          "year": 2
         },
         {
          "Yearly Sales": 3922.680040240288,
          "brand": "Charlie",
          "year": 2
         },
         {
          "Yearly Sales": 35250.75022995472,
          "brand": "Alpha",
          "year": 2
         },
         {
          "Yearly Sales": 1739.8199961185455,
          "brand": "Other",
          "year": 2
         }
        ]
       },
       "encoding": {
        "color": {
         "field": "year",
         "type": "nominal"
        },
        "x": {
         "axis": {
          "labelAngle": 0
         },
         "field": "brand",
         "type": "nominal"
        },
        "xOffset": {
         "field": "year",
         "type": "nominal"
        },
        "y": {
         "axis": {
          "format": "$,.0f"
         },
         "field": "Yearly Sales",
         "type": "quantitative"
        }
       },
       "height": 250,
       "mark": {
        "type": "bar"
       },
       "title": "Year 1 & Year 2 Revenues",
       "width": 650
      },
      "text/plain": [
       "<VegaLite 5 object>\n",
       "\n",
       "If you see this message, it means the renderer has not been properly enabled\n",
       "for the frontend that you are using. For more information, see\n",
       "https://altair-viz.github.io/user_guide/display_frontends.html#troubleshooting\n"
      ]
     },
     "metadata": {},
     "output_type": "display_data"
    }
   ],
   "source": [
    "chart = alt.Chart(annual_sales_summary().collect()).mark_bar().encode(\n",
    "    x=alt.X(\"brand:N\", \n",
    "            axis=alt.Axis(labelAngle=0)),\n",
    "    xOffset=\"year:N\",\n",
    "    y=alt.Y(\"Yearly Sales:Q\",\n",
    "            axis=alt.Axis(format=\"$,.0f\")),\n",
    "    color=alt.Color(\"year:N\"),\n",
    ").properties(\n",
    "    width=650,\n",
    "    height=250,\n",
    "    title='Year 1 & Year 2 Revenues'\n",
    ").show()"
   ]
  },
  {
   "cell_type": "code",
   "execution_count": 20,
   "metadata": {},
   "outputs": [
    {
     "data": {
      "application/vnd.vegalite.v5+json": {
       "$schema": "https://vega.github.io/schema/vega-lite/v5.20.1.json",
       "config": {
        "view": {
         "continuousHeight": 300,
         "continuousWidth": 300
        }
       },
       "data": {
        "name": "data-f80eac4eceb5411f68509ee84200114d"
       },
       "datasets": {
        "data-f80eac4eceb5411f68509ee84200114d": [
         {
          "% Change": 0.05003762024539249,
          "brand": "Alpha",
          "year": 2
         },
         {
          "% Change": -0.058611330813170805,
          "brand": "Bravo",
          "year": 2
         },
         {
          "% Change": -0.23398172323589483,
          "brand": "Charlie",
          "year": 2
         },
         {
          "% Change": -0.13776512504935282,
          "brand": "Delta",
          "year": 2
         },
         {
          "% Change": 0.13326342043887185,
          "brand": "Other",
          "year": 2
         },
         {
          "% Change": -0.019985193576414928,
          "brand": "Total",
          "year": 2
         }
        ]
       },
       "height": 250,
       "layer": [
        {
         "encoding": {
          "color": {
           "condition": {
            "test": "(datum['% Change'] > 0)",
            "value": "green"
           },
           "value": "red"
          },
          "text": {
           "field": "% Change",
           "format": ".1%",
           "type": "quantitative"
          },
          "x": {
           "axis": {
            "labelAngle": 0
           },
           "field": "brand",
           "type": "nominal"
          },
          "y": {
           "axis": {
            "format": ".0%"
           },
           "field": "% Change",
           "type": "quantitative"
          }
         },
         "mark": {
          "type": "bar"
         },
         "title": "Y-o-Y % Change in Revenue"
        },
        {
         "encoding": {
          "color": {
           "condition": {
            "test": "(datum['% Change'] > 0)",
            "value": "green"
           },
           "value": "red"
          },
          "text": {
           "field": "% Change",
           "format": ".1%",
           "type": "quantitative"
          },
          "x": {
           "axis": {
            "labelAngle": 0
           },
           "field": "brand",
           "type": "nominal"
          },
          "y": {
           "axis": {
            "format": ".0%"
           },
           "field": "% Change",
           "type": "quantitative"
          }
         },
         "mark": {
          "align": "center",
          "baseline": {
           "expr": "if((datum['% Change'] >= 0),'bottom','top')"
          },
          "dx": 0,
          "dy": {
           "expr": "if((datum['% Change'] >= 0),-2,2)"
          },
          "type": "text"
         },
         "title": "Y-o-Y % Change in Revenue"
        }
       ],
       "width": 650
      },
      "text/plain": [
       "<VegaLite 5 object>\n",
       "\n",
       "If you see this message, it means the renderer has not been properly enabled\n",
       "for the frontend that you are using. For more information, see\n",
       "https://altair-viz.github.io/user_guide/display_frontends.html#troubleshooting\n"
      ]
     },
     "metadata": {},
     "output_type": "display_data"
    }
   ],
   "source": [
    "base = alt.Chart(annual_change_sales).encode(\n",
    "    x=alt.X(\"brand:N\", \n",
    "            axis=alt.Axis(labelAngle=0)\n",
    "    ),\n",
    "    y=alt.Y(\"% Change:Q\",\n",
    "            axis=alt.Axis(format=\".0%\")\n",
    "    ),\n",
    "    color=alt.condition(\n",
    "        alt.datum[\"% Change\"] > 0, # fixed this \n",
    "        alt.value(\"green\"),  # The positive color\n",
    "        alt.value(\"red\")  # The negative color\n",
    "    ),\n",
    "    text=alt.Text(\n",
    "        '% Change',\n",
    "        format=(\".1%\")\n",
    "    )\n",
    "        \n",
    ").properties(\n",
    "    width=650,\n",
    "    height=250,\n",
    "    title='Y-o-Y % Change in Revenue'\n",
    ")\n",
    "\n",
    "chart = base.mark_bar() + base.mark_text(align='center', \n",
    "                                 baseline=alt.expr(alt.expr.if_(alt.datum['% Change'] >= 0, 'bottom', 'top')),\n",
    "                                 dy=alt.expr(alt.expr.if_(alt.datum['% Change'] >= 0, -2, 2)),\n",
    "                                 dx=0)\n",
    "chart.show()"
   ]
  },
  {
   "cell_type": "markdown",
   "metadata": {},
   "source": [
    "#### Annual Market Share"
   ]
  },
  {
   "cell_type": "code",
   "execution_count": 21,
   "metadata": {},
   "outputs": [
    {
     "data": {
      "text/html": [
       "<div id=\"eeqrjevaaj\" style=\"padding-left:0px;padding-right:0px;padding-top:10px;padding-bottom:10px;overflow-x:auto;overflow-y:auto;width:auto;height:auto;\">\n",
       "<style>\n",
       "#eeqrjevaaj table {\n",
       "          font-family: -apple-system, BlinkMacSystemFont, 'Segoe UI', Roboto, Oxygen, Ubuntu, Cantarell, 'Helvetica Neue', 'Fira Sans', 'Droid Sans', Arial, sans-serif;\n",
       "          -webkit-font-smoothing: antialiased;\n",
       "          -moz-osx-font-smoothing: grayscale;\n",
       "        }\n",
       "\n",
       "#eeqrjevaaj thead, tbody, tfoot, tr, td, th { border-style: none !important; }\n",
       " tr { background-color: transparent !important; }\n",
       "#eeqrjevaaj p { margin: 0 !important; padding: 0 !important; }\n",
       " #eeqrjevaaj .gt_table { display: table !important; border-collapse: collapse !important; line-height: normal !important; margin-left: auto !important; margin-right: auto !important; color: #333333 !important; font-size: 16px !important; font-weight: normal !important; font-style: normal !important; background-color: #FFFFFF !important; width: auto !important; border-top-style: solid !important; border-top-width: 2px !important; border-top-color: #A8A8A8 !important; border-right-style: none !important; border-right-width: 2px !important; border-right-color: #D3D3D3 !important; border-bottom-style: solid !important; border-bottom-width: 2px !important; border-bottom-color: #A8A8A8 !important; border-left-style: none !important; border-left-width: 2px !important; border-left-color: #D3D3D3 !important; }\n",
       " #eeqrjevaaj .gt_caption { padding-top: 4px !important; padding-bottom: 4px !important; }\n",
       " #eeqrjevaaj .gt_title { color: #333333 !important; font-size: 125% !important; font-weight: initial !important; padding-top: 4px !important; padding-bottom: 4px !important; padding-left: 5px !important; padding-right: 5px !important; border-bottom-color: #FFFFFF !important; border-bottom-width: 0 !important; }\n",
       " #eeqrjevaaj .gt_subtitle { color: #333333 !important; font-size: 85% !important; font-weight: initial !important; padding-top: 3px !important; padding-bottom: 5px !important; padding-left: 5px !important; padding-right: 5px !important; border-top-color: #FFFFFF !important; border-top-width: 0 !important; }\n",
       " #eeqrjevaaj .gt_heading { background-color: #FFFFFF !important; text-align: center !important; border-bottom-color: #FFFFFF !important; border-left-style: none !important; border-left-width: 1px !important; border-left-color: #D3D3D3 !important; border-right-style: none !important; border-right-width: 1px !important; border-right-color: #D3D3D3 !important; }\n",
       " #eeqrjevaaj .gt_bottom_border { border-bottom-style: solid !important; border-bottom-width: 2px !important; border-bottom-color: #D3D3D3 !important; }\n",
       " #eeqrjevaaj .gt_col_headings { border-top-style: solid !important; border-top-width: 2px !important; border-top-color: #D3D3D3 !important; border-bottom-style: solid !important; border-bottom-width: 2px !important; border-bottom-color: #D3D3D3 !important; border-left-style: none !important; border-left-width: 1px !important; border-left-color: #D3D3D3 !important; border-right-style: none !important; border-right-width: 1px !important; border-right-color: #D3D3D3 !important; }\n",
       " #eeqrjevaaj .gt_col_heading { color: #333333 !important; background-color: #FFFFFF !important; font-size: 100% !important; font-weight: normal !important; text-transform: inherit !important; border-left-style: none !important; border-left-width: 1px !important; border-left-color: #D3D3D3 !important; border-right-style: none !important; border-right-width: 1px !important; border-right-color: #D3D3D3 !important; vertical-align: bottom !important; padding-top: 5px !important; padding-bottom: 5px !important; padding-left: 5px !important; padding-right: 5px !important; overflow-x: hidden !important; }\n",
       " #eeqrjevaaj .gt_column_spanner_outer { color: #333333 !important; background-color: #FFFFFF !important; font-size: 100% !important; font-weight: normal !important; text-transform: inherit !important; padding-top: 0 !important; padding-bottom: 0 !important; padding-left: 4px !important; padding-right: 4px !important; }\n",
       " #eeqrjevaaj .gt_column_spanner_outer:first-child { padding-left: 0 !important; }\n",
       " #eeqrjevaaj .gt_column_spanner_outer:last-child { padding-right: 0 !important; }\n",
       " #eeqrjevaaj .gt_column_spanner { border-bottom-style: solid !important; border-bottom-width: 2px !important; border-bottom-color: #D3D3D3 !important; vertical-align: bottom !important; padding-top: 5px !important; padding-bottom: 5px !important; overflow-x: hidden !important; display: inline-block !important; width: 100% !important; }\n",
       " #eeqrjevaaj .gt_spanner_row { border-bottom-style: hidden !important; }\n",
       " #eeqrjevaaj .gt_group_heading { padding-top: 8px !important; padding-bottom: 8px !important; padding-left: 5px !important; padding-right: 5px !important; color: #333333 !important; background-color: #FFFFFF !important; font-size: 100% !important; font-weight: initial !important; text-transform: inherit !important; border-top-style: solid !important; border-top-width: 2px !important; border-top-color: #D3D3D3 !important; border-bottom-style: solid !important; border-bottom-width: 2px !important; border-bottom-color: #D3D3D3 !important; border-left-style: none !important; border-left-width: 1px !important; border-left-color: #D3D3D3 !important; border-right-style: none !important; border-right-width: 1px !important; border-right-color: #D3D3D3 !important; vertical-align: middle !important; text-align: left !important; }\n",
       " #eeqrjevaaj .gt_empty_group_heading { padding: 0.5px !important; color: #333333 !important; background-color: #FFFFFF !important; font-size: 100% !important; font-weight: initial !important; border-top-style: solid !important; border-top-width: 2px !important; border-top-color: #D3D3D3 !important; border-bottom-style: solid !important; border-bottom-width: 2px !important; border-bottom-color: #D3D3D3 !important; vertical-align: middle !important; }\n",
       " #eeqrjevaaj .gt_from_md> :first-child { margin-top: 0 !important; }\n",
       " #eeqrjevaaj .gt_from_md> :last-child { margin-bottom: 0 !important; }\n",
       " #eeqrjevaaj .gt_row { padding-top: 8px !important; padding-bottom: 8px !important; padding-left: 5px !important; padding-right: 5px !important; margin: 10px !important; border-top-style: solid !important; border-top-width: 1px !important; border-top-color: #D3D3D3 !important; border-left-style: none !important; border-left-width: 1px !important; border-left-color: #D3D3D3 !important; border-right-style: none !important; border-right-width: 1px !important; border-right-color: #D3D3D3 !important; vertical-align: middle !important; overflow-x: hidden !important; }\n",
       " #eeqrjevaaj .gt_stub { color: #333333 !important; background-color: #FFFFFF !important; font-size: 100% !important; font-weight: initial !important; text-transform: inherit !important; border-right-style: solid !important; border-right-width: 2px !important; border-right-color: #D3D3D3 !important; padding-left: 5px !important; padding-right: 5px !important; }\n",
       " #eeqrjevaaj .gt_stub_row_group { color: #333333 !important; background-color: #FFFFFF !important; font-size: 100% !important; font-weight: initial !important; text-transform: inherit !important; border-right-style: solid !important; border-right-width: 2px !important; border-right-color: #D3D3D3 !important; padding-left: 5px !important; padding-right: 5px !important; vertical-align: top !important; }\n",
       " #eeqrjevaaj .gt_row_group_first td { border-top-width: 2px !important; }\n",
       " #eeqrjevaaj .gt_row_group_first th { border-top-width: 2px !important; }\n",
       " #eeqrjevaaj .gt_striped { background-color: rgba(128,128,128,0.05) !important; }\n",
       " #eeqrjevaaj .gt_table_body { border-top-style: solid !important; border-top-width: 2px !important; border-top-color: #D3D3D3 !important; border-bottom-style: solid !important; border-bottom-width: 2px !important; border-bottom-color: #D3D3D3 !important; }\n",
       " #eeqrjevaaj .gt_sourcenotes { color: #333333 !important; background-color: #FFFFFF !important; border-bottom-style: none !important; border-bottom-width: 2px !important; border-bottom-color: #D3D3D3 !important; border-left-style: none !important; border-left-width: 2px !important; border-left-color: #D3D3D3 !important; border-right-style: none !important; border-right-width: 2px !important; border-right-color: #D3D3D3 !important; }\n",
       " #eeqrjevaaj .gt_sourcenote { font-size: 90% !important; padding-top: 4px !important; padding-bottom: 4px !important; padding-left: 5px !important; padding-right: 5px !important; text-align: left !important; }\n",
       " #eeqrjevaaj .gt_left { text-align: left !important; }\n",
       " #eeqrjevaaj .gt_center { text-align: center !important; }\n",
       " #eeqrjevaaj .gt_right { text-align: right !important; font-variant-numeric: tabular-nums !important; }\n",
       " #eeqrjevaaj .gt_font_normal { font-weight: normal !important; }\n",
       " #eeqrjevaaj .gt_font_bold { font-weight: bold !important; }\n",
       " #eeqrjevaaj .gt_font_italic { font-style: italic !important; }\n",
       " #eeqrjevaaj .gt_super { font-size: 65% !important; }\n",
       " #eeqrjevaaj .gt_footnote_marks { font-size: 75% !important; vertical-align: 0.4em !important; position: initial !important; }\n",
       " #eeqrjevaaj .gt_asterisk { font-size: 100% !important; vertical-align: 0 !important; }\n",
       " \n",
       "</style>\n",
       "<table class=\"gt_table\" data-quarto-disable-processing=\"false\" data-quarto-bootstrap=\"false\">\n",
       "<thead>\n",
       "\n",
       "  <tr class=\"gt_heading\">\n",
       "    <td colspan=\"6\" class=\"gt_heading gt_title gt_font_normal\">Annual Market Share (%)</td>\n",
       "  </tr>\n",
       "<tr class=\"gt_col_headings\">\n",
       "  <th class=\"gt_col_heading gt_columns_bottom_border gt_left\" rowspan=\"1\" colspan=\"1\" scope=\"col\" id=\"Year\">Year</th>\n",
       "  <th class=\"gt_col_heading gt_columns_bottom_border gt_right\" rowspan=\"1\" colspan=\"1\" scope=\"col\" id=\"Alpha\">Alpha</th>\n",
       "  <th class=\"gt_col_heading gt_columns_bottom_border gt_right\" rowspan=\"1\" colspan=\"1\" scope=\"col\" id=\"Bravo\">Bravo</th>\n",
       "  <th class=\"gt_col_heading gt_columns_bottom_border gt_right\" rowspan=\"1\" colspan=\"1\" scope=\"col\" id=\"Charlie\">Charlie</th>\n",
       "  <th class=\"gt_col_heading gt_columns_bottom_border gt_right\" rowspan=\"1\" colspan=\"1\" scope=\"col\" id=\"Delta\">Delta</th>\n",
       "  <th class=\"gt_col_heading gt_columns_bottom_border gt_right\" rowspan=\"1\" colspan=\"1\" scope=\"col\" id=\"Other\">Other</th>\n",
       "</tr>\n",
       "</thead>\n",
       "<tbody class=\"gt_table_body\">\n",
       "  <tr>\n",
       "    <th style=\"color: #000000; background-color: #808080;\" class=\"gt_row gt_left gt_stub\">1</th>\n",
       "    <td style=\"color: #FFFFFF; background-color: #7141a0;\" class=\"gt_row gt_right\">46.56%</td>\n",
       "    <td style=\"color: #FFFFFF; background-color: #865dae;\" class=\"gt_row gt_right\">39.67%</td>\n",
       "    <td style=\"color: #000000; background-color: #e9e2f1;\" class=\"gt_row gt_right\">7.10%</td>\n",
       "    <td style=\"color: #000000; background-color: #f1ecf6;\" class=\"gt_row gt_right\">4.54%</td>\n",
       "    <td style=\"color: #000000; background-color: #f8f6fb;\" class=\"gt_row gt_right\">2.13%</td>\n",
       "  </tr>\n",
       "  <tr>\n",
       "    <th style=\"color: #000000; background-color: #808080;\" class=\"gt_row gt_left gt_stub\">2</th>\n",
       "    <td style=\"color: #FFFFFF; background-color: #663399;\" class=\"gt_row gt_right\">49.89%</td>\n",
       "    <td style=\"color: #FFFFFF; background-color: #8a64b1;\" class=\"gt_row gt_right\">38.11%</td>\n",
       "    <td style=\"color: #000000; background-color: #eee8f4;\" class=\"gt_row gt_right\">5.55%</td>\n",
       "    <td style=\"color: #000000; background-color: #f3eff7;\" class=\"gt_row gt_right\">3.99%</td>\n",
       "    <td style=\"color: #000000; background-color: #f7f5fa;\" class=\"gt_row gt_right\">2.46%</td>\n",
       "  </tr>\n",
       "</tbody>\n",
       "\n",
       "\n",
       "</table>\n",
       "\n",
       "</div>\n",
       "        "
      ],
      "text/plain": [
       "GT(_tbl_data=shape: (2, 7)\n",
       "┌──────┬──────────┬──────────┬──────────┬──────────┬──────────┬───────┐\n",
       "│ year ┆ Alpha    ┆ Bravo    ┆ Charlie  ┆ Delta    ┆ Other    ┆ Total │\n",
       "│ ---  ┆ ---      ┆ ---      ┆ ---      ┆ ---      ┆ ---      ┆ ---   │\n",
       "│ i32  ┆ f64      ┆ f64      ┆ f64      ┆ f64      ┆ f64      ┆ f64   │\n",
       "╞══════╪══════════╪══════════╪══════════╪══════════╪══════════╪═══════╡\n",
       "│ 1    ┆ 0.465604 ┆ 0.396707 ┆ 0.071023 ┆ 0.045373 ┆ 0.021293 ┆ 1.0   │\n",
       "│ 2    ┆ 0.498872 ┆ 0.381072 ┆ 0.055514 ┆ 0.03992  ┆ 0.024622 ┆ 1.0   │\n",
       "└──────┴──────────┴──────────┴──────────┴──────────┴──────────┴───────┘, _body=<great_tables._gt_data.Body object at 0x000001EFEBE32C60>, _boxhead=Boxhead([ColInfo(var='year', type=<ColInfoTypeEnum.stub: 2>, column_label='year', column_align='right', column_width=None), ColInfo(var='Alpha', type=<ColInfoTypeEnum.default: 1>, column_label='Alpha', column_align='right', column_width=None), ColInfo(var='Bravo', type=<ColInfoTypeEnum.default: 1>, column_label='Bravo', column_align='right', column_width=None), ColInfo(var='Charlie', type=<ColInfoTypeEnum.default: 1>, column_label='Charlie', column_align='right', column_width=None), ColInfo(var='Delta', type=<ColInfoTypeEnum.default: 1>, column_label='Delta', column_align='right', column_width=None), ColInfo(var='Other', type=<ColInfoTypeEnum.default: 1>, column_label='Other', column_align='right', column_width=None), ColInfo(var='Total', type=<ColInfoTypeEnum.hidden: 4>, column_label='Total', column_align='right', column_width=None)]), _stub=<great_tables._gt_data.Stub object at 0x000001EFEBD4FC20>, _spanners=Spanners([]), _heading=Heading(title='Annual Market Share (%)', subtitle=None, preheader=None), _stubhead='Year', _source_notes=[], _footnotes=[], _styles=[StyleInfo(locname=LocBody(columns='year', rows=[0]), grpname=None, colname='year', rownum=0, colnum=None, styles=[CellStyleText(color='#000000', font=None, size=None, align=None, v_align=None, style=None, weight=None, stretch=None, decorate=None, transform=None, whitespace=None), CellStyleFill(color='#808080')]), StyleInfo(locname=LocBody(columns='year', rows=[1]), grpname=None, colname='year', rownum=1, colnum=None, styles=[CellStyleText(color='#000000', font=None, size=None, align=None, v_align=None, style=None, weight=None, stretch=None, decorate=None, transform=None, whitespace=None), CellStyleFill(color='#808080')]), StyleInfo(locname=LocBody(columns='Alpha', rows=[0]), grpname=None, colname='Alpha', rownum=0, colnum=None, styles=[CellStyleText(color='#FFFFFF', font=None, size=None, align=None, v_align=None, style=None, weight=None, stretch=None, decorate=None, transform=None, whitespace=None), CellStyleFill(color='#7141a0')]), StyleInfo(locname=LocBody(columns='Alpha', rows=[1]), grpname=None, colname='Alpha', rownum=1, colnum=None, styles=[CellStyleText(color='#FFFFFF', font=None, size=None, align=None, v_align=None, style=None, weight=None, stretch=None, decorate=None, transform=None, whitespace=None), CellStyleFill(color='#663399')]), StyleInfo(locname=LocBody(columns='Bravo', rows=[0]), grpname=None, colname='Bravo', rownum=0, colnum=None, styles=[CellStyleText(color='#FFFFFF', font=None, size=None, align=None, v_align=None, style=None, weight=None, stretch=None, decorate=None, transform=None, whitespace=None), CellStyleFill(color='#865dae')]), StyleInfo(locname=LocBody(columns='Bravo', rows=[1]), grpname=None, colname='Bravo', rownum=1, colnum=None, styles=[CellStyleText(color='#FFFFFF', font=None, size=None, align=None, v_align=None, style=None, weight=None, stretch=None, decorate=None, transform=None, whitespace=None), CellStyleFill(color='#8a64b1')]), StyleInfo(locname=LocBody(columns='Charlie', rows=[0]), grpname=None, colname='Charlie', rownum=0, colnum=None, styles=[CellStyleText(color='#000000', font=None, size=None, align=None, v_align=None, style=None, weight=None, stretch=None, decorate=None, transform=None, whitespace=None), CellStyleFill(color='#e9e2f1')]), StyleInfo(locname=LocBody(columns='Charlie', rows=[1]), grpname=None, colname='Charlie', rownum=1, colnum=None, styles=[CellStyleText(color='#000000', font=None, size=None, align=None, v_align=None, style=None, weight=None, stretch=None, decorate=None, transform=None, whitespace=None), CellStyleFill(color='#eee8f4')]), StyleInfo(locname=LocBody(columns='Delta', rows=[0]), grpname=None, colname='Delta', rownum=0, colnum=None, styles=[CellStyleText(color='#000000', font=None, size=None, align=None, v_align=None, style=None, weight=None, stretch=None, decorate=None, transform=None, whitespace=None), CellStyleFill(color='#f1ecf6')]), StyleInfo(locname=LocBody(columns='Delta', rows=[1]), grpname=None, colname='Delta', rownum=1, colnum=None, styles=[CellStyleText(color='#000000', font=None, size=None, align=None, v_align=None, style=None, weight=None, stretch=None, decorate=None, transform=None, whitespace=None), CellStyleFill(color='#f3eff7')]), StyleInfo(locname=LocBody(columns='Other', rows=[0]), grpname=None, colname='Other', rownum=0, colnum=None, styles=[CellStyleText(color='#000000', font=None, size=None, align=None, v_align=None, style=None, weight=None, stretch=None, decorate=None, transform=None, whitespace=None), CellStyleFill(color='#f8f6fb')]), StyleInfo(locname=LocBody(columns='Other', rows=[1]), grpname=None, colname='Other', rownum=1, colnum=None, styles=[CellStyleText(color='#000000', font=None, size=None, align=None, v_align=None, style=None, weight=None, stretch=None, decorate=None, transform=None, whitespace=None), CellStyleFill(color='#f7f5fa')]), StyleInfo(locname=LocBody(columns='Total', rows=[0]), grpname=None, colname='Total', rownum=0, colnum=None, styles=[CellStyleText(color='#000000', font=None, size=None, align=None, v_align=None, style=None, weight=None, stretch=None, decorate=None, transform=None, whitespace=None), CellStyleFill(color='#808080')]), StyleInfo(locname=LocBody(columns='Total', rows=[1]), grpname=None, colname='Total', rownum=1, colnum=None, styles=[CellStyleText(color='#000000', font=None, size=None, align=None, v_align=None, style=None, weight=None, stretch=None, decorate=None, transform=None, whitespace=None), CellStyleFill(color='#808080')])], _locale=<great_tables._gt_data.Locale object at 0x000001EFEBFD02C0>, _formats=[<great_tables._gt_data.FormatInfo object at 0x000001EFEBFD3620>], _substitutions=[], _options=Options(table_id=OptionsInfo(scss=False, category='table', type='value', value=None), table_caption=OptionsInfo(scss=False, category='table', type='value', value=None), table_width=OptionsInfo(scss=True, category='table', type='px', value='auto'), table_layout=OptionsInfo(scss=True, category='table', type='value', value='fixed'), table_margin_left=OptionsInfo(scss=True, category='table', type='px', value='auto'), table_margin_right=OptionsInfo(scss=True, category='table', type='px', value='auto'), table_background_color=OptionsInfo(scss=True, category='table', type='value', value='#FFFFFF'), table_additional_css=OptionsInfo(scss=False, category='table', type='values', value=[]), table_font_names=OptionsInfo(scss=False, category='table', type='values', value=['-apple-system', 'BlinkMacSystemFont', 'Segoe UI', 'Roboto', 'Oxygen', 'Ubuntu', 'Cantarell', 'Helvetica Neue', 'Fira Sans', 'Droid Sans', 'Arial', 'sans-serif']), table_font_size=OptionsInfo(scss=True, category='table', type='px', value='16px'), table_font_weight=OptionsInfo(scss=True, category='table', type='value', value='normal'), table_font_style=OptionsInfo(scss=True, category='table', type='value', value='normal'), table_font_color=OptionsInfo(scss=True, category='table', type='value', value='#333333'), table_font_color_light=OptionsInfo(scss=True, category='table', type='value', value='#FFFFFF'), table_border_top_include=OptionsInfo(scss=False, category='table', type='boolean', value=True), table_border_top_style=OptionsInfo(scss=True, category='table', type='value', value='solid'), table_border_top_width=OptionsInfo(scss=True, category='table', type='px', value='2px'), table_border_top_color=OptionsInfo(scss=True, category='table', type='value', value='#A8A8A8'), table_border_right_style=OptionsInfo(scss=True, category='table', type='value', value='none'), table_border_right_width=OptionsInfo(scss=True, category='table', type='px', value='2px'), table_border_right_color=OptionsInfo(scss=True, category='table', type='value', value='#D3D3D3'), table_border_bottom_include=OptionsInfo(scss=False, category='table', type='boolean', value=True), table_border_bottom_style=OptionsInfo(scss=True, category='table', type='value', value='solid'), table_border_bottom_width=OptionsInfo(scss=True, category='table', type='px', value='2px'), table_border_bottom_color=OptionsInfo(scss=True, category='table', type='value', value='#A8A8A8'), table_border_left_style=OptionsInfo(scss=True, category='table', type='value', value='none'), table_border_left_width=OptionsInfo(scss=True, category='table', type='px', value='2px'), table_border_left_color=OptionsInfo(scss=True, category='table', type='value', value='#D3D3D3'), heading_background_color=OptionsInfo(scss=True, category='heading', type='value', value=None), heading_align=OptionsInfo(scss=True, category='heading', type='value', value='center'), heading_title_font_size=OptionsInfo(scss=True, category='heading', type='px', value='125%'), heading_title_font_weight=OptionsInfo(scss=True, category='heading', type='value', value='initial'), heading_subtitle_font_size=OptionsInfo(scss=True, category='heading', type='px', value='85%'), heading_subtitle_font_weight=OptionsInfo(scss=True, category='heading', type='value', value='initial'), heading_padding=OptionsInfo(scss=True, category='heading', type='px', value='4px'), heading_padding_horizontal=OptionsInfo(scss=True, category='heading', type='px', value='5px'), heading_border_bottom_style=OptionsInfo(scss=True, category='heading', type='value', value='solid'), heading_border_bottom_width=OptionsInfo(scss=True, category='heading', type='px', value='2px'), heading_border_bottom_color=OptionsInfo(scss=True, category='heading', type='value', value='#D3D3D3'), heading_border_lr_style=OptionsInfo(scss=True, category='heading', type='value', value='none'), heading_border_lr_width=OptionsInfo(scss=True, category='heading', type='px', value='1px'), heading_border_lr_color=OptionsInfo(scss=True, category='heading', type='value', value='#D3D3D3'), column_labels_background_color=OptionsInfo(scss=True, category='column_labels', type='value', value=None), column_labels_font_size=OptionsInfo(scss=True, category='column_labels', type='px', value='100%'), column_labels_font_weight=OptionsInfo(scss=True, category='column_labels', type='value', value='normal'), column_labels_text_transform=OptionsInfo(scss=True, category='column_labels', type='value', value='inherit'), column_labels_padding=OptionsInfo(scss=True, category='column_labels', type='px', value='5px'), column_labels_padding_horizontal=OptionsInfo(scss=True, category='column_labels', type='px', value='5px'), column_labels_vlines_style=OptionsInfo(scss=True, category='table_body', type='value', value='none'), column_labels_vlines_width=OptionsInfo(scss=True, category='table_body', type='px', value='1px'), column_labels_vlines_color=OptionsInfo(scss=True, category='table_body', type='value', value='#D3D3D3'), column_labels_border_top_style=OptionsInfo(scss=True, category='column_labels', type='value', value='solid'), column_labels_border_top_width=OptionsInfo(scss=True, category='column_labels', type='px', value='2px'), column_labels_border_top_color=OptionsInfo(scss=True, category='column_labels', type='value', value='#D3D3D3'), column_labels_border_bottom_style=OptionsInfo(scss=True, category='column_labels', type='value', value='solid'), column_labels_border_bottom_width=OptionsInfo(scss=True, category='column_labels', type='px', value='2px'), column_labels_border_bottom_color=OptionsInfo(scss=True, category='column_labels', type='value', value='#D3D3D3'), column_labels_border_lr_style=OptionsInfo(scss=True, category='column_labels', type='value', value='none'), column_labels_border_lr_width=OptionsInfo(scss=True, category='column_labels', type='px', value='1px'), column_labels_border_lr_color=OptionsInfo(scss=True, category='column_labels', type='value', value='#D3D3D3'), column_labels_hidden=OptionsInfo(scss=False, category='column_labels', type='boolean', value=False), row_group_background_color=OptionsInfo(scss=True, category='row_group', type='value', value=None), row_group_font_size=OptionsInfo(scss=True, category='row_group', type='px', value='100%'), row_group_font_weight=OptionsInfo(scss=True, category='row_group', type='value', value='initial'), row_group_text_transform=OptionsInfo(scss=True, category='row_group', type='value', value='inherit'), row_group_padding=OptionsInfo(scss=True, category='row_group', type='px', value='8px'), row_group_padding_horizontal=OptionsInfo(scss=True, category='row_group', type='px', value='5px'), row_group_border_top_style=OptionsInfo(scss=True, category='row_group', type='value', value='solid'), row_group_border_top_width=OptionsInfo(scss=True, category='row_group', type='px', value='2px'), row_group_border_top_color=OptionsInfo(scss=True, category='row_group', type='value', value='#D3D3D3'), row_group_border_right_style=OptionsInfo(scss=True, category='row_group', type='value', value='none'), row_group_border_right_width=OptionsInfo(scss=True, category='row_group', type='px', value='1px'), row_group_border_right_color=OptionsInfo(scss=True, category='row_group', type='value', value='#D3D3D3'), row_group_border_bottom_style=OptionsInfo(scss=True, category='row_group', type='value', value='solid'), row_group_border_bottom_width=OptionsInfo(scss=True, category='row_group', type='px', value='2px'), row_group_border_bottom_color=OptionsInfo(scss=True, category='row_group', type='value', value='#D3D3D3'), row_group_border_left_style=OptionsInfo(scss=True, category='row_group', type='value', value='none'), row_group_border_left_width=OptionsInfo(scss=True, category='row_group', type='px', value='1px'), row_group_border_left_color=OptionsInfo(scss=True, category='row_group', type='value', value='#D3D3D3'), row_group_as_column=OptionsInfo(scss=False, category='row_group', type='boolean', value=False), table_body_hlines_style=OptionsInfo(scss=True, category='table_body', type='value', value='solid'), table_body_hlines_width=OptionsInfo(scss=True, category='table_body', type='px', value='1px'), table_body_hlines_color=OptionsInfo(scss=True, category='table_body', type='value', value='#D3D3D3'), table_body_vlines_style=OptionsInfo(scss=True, category='table_body', type='value', value='none'), table_body_vlines_width=OptionsInfo(scss=True, category='table_body', type='px', value='1px'), table_body_vlines_color=OptionsInfo(scss=True, category='table_body', type='value', value='#D3D3D3'), table_body_border_top_style=OptionsInfo(scss=True, category='table_body', type='value', value='solid'), table_body_border_top_width=OptionsInfo(scss=True, category='table_body', type='px', value='2px'), table_body_border_top_color=OptionsInfo(scss=True, category='table_body', type='value', value='#D3D3D3'), table_body_border_bottom_style=OptionsInfo(scss=True, category='table_body', type='value', value='solid'), table_body_border_bottom_width=OptionsInfo(scss=True, category='table_body', type='px', value='2px'), table_body_border_bottom_color=OptionsInfo(scss=True, category='table_body', type='value', value='#D3D3D3'), data_row_padding=OptionsInfo(scss=True, category='data_row', type='px', value='8px'), data_row_padding_horizontal=OptionsInfo(scss=True, category='data_row', type='px', value='5px'), stub_background_color=OptionsInfo(scss=True, category='stub', type='value', value=None), stub_font_size=OptionsInfo(scss=True, category='stub', type='px', value='100%'), stub_font_weight=OptionsInfo(scss=True, category='stub', type='value', value='initial'), stub_text_transform=OptionsInfo(scss=True, category='stub', type='value', value='inherit'), stub_border_style=OptionsInfo(scss=True, category='stub', type='value', value='solid'), stub_border_width=OptionsInfo(scss=True, category='stub', type='px', value='2px'), stub_border_color=OptionsInfo(scss=True, category='stub', type='value', value='#D3D3D3'), stub_row_group_background_color=OptionsInfo(scss=True, category='stub', type='value', value=None), stub_row_group_font_size=OptionsInfo(scss=True, category='stub', type='px', value='100%'), stub_row_group_font_weight=OptionsInfo(scss=True, category='stub', type='value', value='initial'), stub_row_group_text_transform=OptionsInfo(scss=True, category='stub', type='value', value='inherit'), stub_row_group_border_style=OptionsInfo(scss=True, category='stub', type='value', value='solid'), stub_row_group_border_width=OptionsInfo(scss=True, category='stub', type='px', value='2px'), stub_row_group_border_color=OptionsInfo(scss=True, category='stub', type='value', value='#D3D3D3'), source_notes_padding=OptionsInfo(scss=True, category='source_notes', type='px', value='4px'), source_notes_padding_horizontal=OptionsInfo(scss=True, category='source_notes', type='px', value='5px'), source_notes_background_color=OptionsInfo(scss=True, category='source_notes', type='value', value=None), source_notes_font_size=OptionsInfo(scss=True, category='source_notes', type='px', value='90%'), source_notes_border_bottom_style=OptionsInfo(scss=True, category='source_notes', type='value', value='none'), source_notes_border_bottom_width=OptionsInfo(scss=True, category='source_notes', type='px', value='2px'), source_notes_border_bottom_color=OptionsInfo(scss=True, category='source_notes', type='value', value='#D3D3D3'), source_notes_border_lr_style=OptionsInfo(scss=True, category='source_notes', type='value', value='none'), source_notes_border_lr_width=OptionsInfo(scss=True, category='source_notes', type='px', value='2px'), source_notes_border_lr_color=OptionsInfo(scss=True, category='source_notes', type='value', value='#D3D3D3'), source_notes_multiline=OptionsInfo(scss=False, category='source_notes', type='boolean', value=True), source_notes_sep=OptionsInfo(scss=False, category='source_notes', type='value', value=' '), row_striping_background_color=OptionsInfo(scss=True, category='row', type='value', value='rgba(128,128,128,0.05)'), row_striping_include_stub=OptionsInfo(scss=False, category='row', type='boolean', value=False), row_striping_include_table_body=OptionsInfo(scss=False, category='row', type='boolean', value=False), container_width=OptionsInfo(scss=False, category='container', type='px', value='auto'), container_height=OptionsInfo(scss=False, category='container', type='px', value='auto'), container_padding_x=OptionsInfo(scss=False, category='container', type='px', value='0px'), container_padding_y=OptionsInfo(scss=False, category='container', type='px', value='10px'), container_overflow_x=OptionsInfo(scss=False, category='container', type='overflow', value='auto'), container_overflow_y=OptionsInfo(scss=False, category='container', type='overflow', value='auto'), quarto_disable_processing=OptionsInfo(scss=False, category='quarto', type='logical', value=False), quarto_use_bootstrap=OptionsInfo(scss=False, category='quarto', type='logical', value=False)), _has_built=False)"
      ]
     },
     "execution_count": 21,
     "metadata": {},
     "output_type": "execute_result"
    }
   ],
   "source": [
    "market_share = annual_sales_pivot.with_columns(\n",
    "    pl.col('*').exclude('year') / pl.col('Total')\n",
    ")\n",
    "\n",
    "(\n",
    "    GT(market_share, rowname_col=\"year\")\n",
    "    .tab_header(title=\"Annual Market Share (%)\")\n",
    "    .tab_stubhead(label=\"Year\")\n",
    "    .fmt_percent()\n",
    "    .cols_hide('Total')\n",
    "    .data_color(\n",
    "        domain=[0, 0.5],\n",
    "        palette=[\"white\", \"rebeccapurple\"]\n",
    "    )    \n",
    ")"
   ]
  },
  {
   "cell_type": "code",
   "execution_count": 22,
   "metadata": {},
   "outputs": [
    {
     "data": {
      "text/html": [
       "<div id=\"gkxqdosmsf\" style=\"padding-left:0px;padding-right:0px;padding-top:10px;padding-bottom:10px;overflow-x:auto;overflow-y:auto;width:auto;height:auto;\">\n",
       "<style>\n",
       "#gkxqdosmsf table {\n",
       "          font-family: -apple-system, BlinkMacSystemFont, 'Segoe UI', Roboto, Oxygen, Ubuntu, Cantarell, 'Helvetica Neue', 'Fira Sans', 'Droid Sans', Arial, sans-serif;\n",
       "          -webkit-font-smoothing: antialiased;\n",
       "          -moz-osx-font-smoothing: grayscale;\n",
       "        }\n",
       "\n",
       "#gkxqdosmsf thead, tbody, tfoot, tr, td, th { border-style: none !important; }\n",
       " tr { background-color: transparent !important; }\n",
       "#gkxqdosmsf p { margin: 0 !important; padding: 0 !important; }\n",
       " #gkxqdosmsf .gt_table { display: table !important; border-collapse: collapse !important; line-height: normal !important; margin-left: auto !important; margin-right: auto !important; color: #333333 !important; font-size: 16px !important; font-weight: normal !important; font-style: normal !important; background-color: #FFFFFF !important; width: auto !important; border-top-style: solid !important; border-top-width: 2px !important; border-top-color: #A8A8A8 !important; border-right-style: none !important; border-right-width: 2px !important; border-right-color: #D3D3D3 !important; border-bottom-style: solid !important; border-bottom-width: 2px !important; border-bottom-color: #A8A8A8 !important; border-left-style: none !important; border-left-width: 2px !important; border-left-color: #D3D3D3 !important; }\n",
       " #gkxqdosmsf .gt_caption { padding-top: 4px !important; padding-bottom: 4px !important; }\n",
       " #gkxqdosmsf .gt_title { color: #333333 !important; font-size: 125% !important; font-weight: initial !important; padding-top: 4px !important; padding-bottom: 4px !important; padding-left: 5px !important; padding-right: 5px !important; border-bottom-color: #FFFFFF !important; border-bottom-width: 0 !important; }\n",
       " #gkxqdosmsf .gt_subtitle { color: #333333 !important; font-size: 85% !important; font-weight: initial !important; padding-top: 3px !important; padding-bottom: 5px !important; padding-left: 5px !important; padding-right: 5px !important; border-top-color: #FFFFFF !important; border-top-width: 0 !important; }\n",
       " #gkxqdosmsf .gt_heading { background-color: #FFFFFF !important; text-align: center !important; border-bottom-color: #FFFFFF !important; border-left-style: none !important; border-left-width: 1px !important; border-left-color: #D3D3D3 !important; border-right-style: none !important; border-right-width: 1px !important; border-right-color: #D3D3D3 !important; }\n",
       " #gkxqdosmsf .gt_bottom_border { border-bottom-style: solid !important; border-bottom-width: 2px !important; border-bottom-color: #D3D3D3 !important; }\n",
       " #gkxqdosmsf .gt_col_headings { border-top-style: solid !important; border-top-width: 2px !important; border-top-color: #D3D3D3 !important; border-bottom-style: solid !important; border-bottom-width: 2px !important; border-bottom-color: #D3D3D3 !important; border-left-style: none !important; border-left-width: 1px !important; border-left-color: #D3D3D3 !important; border-right-style: none !important; border-right-width: 1px !important; border-right-color: #D3D3D3 !important; }\n",
       " #gkxqdosmsf .gt_col_heading { color: #333333 !important; background-color: #FFFFFF !important; font-size: 100% !important; font-weight: normal !important; text-transform: inherit !important; border-left-style: none !important; border-left-width: 1px !important; border-left-color: #D3D3D3 !important; border-right-style: none !important; border-right-width: 1px !important; border-right-color: #D3D3D3 !important; vertical-align: bottom !important; padding-top: 5px !important; padding-bottom: 5px !important; padding-left: 5px !important; padding-right: 5px !important; overflow-x: hidden !important; }\n",
       " #gkxqdosmsf .gt_column_spanner_outer { color: #333333 !important; background-color: #FFFFFF !important; font-size: 100% !important; font-weight: normal !important; text-transform: inherit !important; padding-top: 0 !important; padding-bottom: 0 !important; padding-left: 4px !important; padding-right: 4px !important; }\n",
       " #gkxqdosmsf .gt_column_spanner_outer:first-child { padding-left: 0 !important; }\n",
       " #gkxqdosmsf .gt_column_spanner_outer:last-child { padding-right: 0 !important; }\n",
       " #gkxqdosmsf .gt_column_spanner { border-bottom-style: solid !important; border-bottom-width: 2px !important; border-bottom-color: #D3D3D3 !important; vertical-align: bottom !important; padding-top: 5px !important; padding-bottom: 5px !important; overflow-x: hidden !important; display: inline-block !important; width: 100% !important; }\n",
       " #gkxqdosmsf .gt_spanner_row { border-bottom-style: hidden !important; }\n",
       " #gkxqdosmsf .gt_group_heading { padding-top: 8px !important; padding-bottom: 8px !important; padding-left: 5px !important; padding-right: 5px !important; color: #333333 !important; background-color: #FFFFFF !important; font-size: 100% !important; font-weight: initial !important; text-transform: inherit !important; border-top-style: solid !important; border-top-width: 2px !important; border-top-color: #D3D3D3 !important; border-bottom-style: solid !important; border-bottom-width: 2px !important; border-bottom-color: #D3D3D3 !important; border-left-style: none !important; border-left-width: 1px !important; border-left-color: #D3D3D3 !important; border-right-style: none !important; border-right-width: 1px !important; border-right-color: #D3D3D3 !important; vertical-align: middle !important; text-align: left !important; }\n",
       " #gkxqdosmsf .gt_empty_group_heading { padding: 0.5px !important; color: #333333 !important; background-color: #FFFFFF !important; font-size: 100% !important; font-weight: initial !important; border-top-style: solid !important; border-top-width: 2px !important; border-top-color: #D3D3D3 !important; border-bottom-style: solid !important; border-bottom-width: 2px !important; border-bottom-color: #D3D3D3 !important; vertical-align: middle !important; }\n",
       " #gkxqdosmsf .gt_from_md> :first-child { margin-top: 0 !important; }\n",
       " #gkxqdosmsf .gt_from_md> :last-child { margin-bottom: 0 !important; }\n",
       " #gkxqdosmsf .gt_row { padding-top: 8px !important; padding-bottom: 8px !important; padding-left: 5px !important; padding-right: 5px !important; margin: 10px !important; border-top-style: solid !important; border-top-width: 1px !important; border-top-color: #D3D3D3 !important; border-left-style: none !important; border-left-width: 1px !important; border-left-color: #D3D3D3 !important; border-right-style: none !important; border-right-width: 1px !important; border-right-color: #D3D3D3 !important; vertical-align: middle !important; overflow-x: hidden !important; }\n",
       " #gkxqdosmsf .gt_stub { color: #333333 !important; background-color: #FFFFFF !important; font-size: 100% !important; font-weight: initial !important; text-transform: inherit !important; border-right-style: solid !important; border-right-width: 2px !important; border-right-color: #D3D3D3 !important; padding-left: 5px !important; padding-right: 5px !important; }\n",
       " #gkxqdosmsf .gt_stub_row_group { color: #333333 !important; background-color: #FFFFFF !important; font-size: 100% !important; font-weight: initial !important; text-transform: inherit !important; border-right-style: solid !important; border-right-width: 2px !important; border-right-color: #D3D3D3 !important; padding-left: 5px !important; padding-right: 5px !important; vertical-align: top !important; }\n",
       " #gkxqdosmsf .gt_row_group_first td { border-top-width: 2px !important; }\n",
       " #gkxqdosmsf .gt_row_group_first th { border-top-width: 2px !important; }\n",
       " #gkxqdosmsf .gt_striped { background-color: rgba(128,128,128,0.05) !important; }\n",
       " #gkxqdosmsf .gt_table_body { border-top-style: solid !important; border-top-width: 2px !important; border-top-color: #D3D3D3 !important; border-bottom-style: solid !important; border-bottom-width: 2px !important; border-bottom-color: #D3D3D3 !important; }\n",
       " #gkxqdosmsf .gt_sourcenotes { color: #333333 !important; background-color: #FFFFFF !important; border-bottom-style: none !important; border-bottom-width: 2px !important; border-bottom-color: #D3D3D3 !important; border-left-style: none !important; border-left-width: 2px !important; border-left-color: #D3D3D3 !important; border-right-style: none !important; border-right-width: 2px !important; border-right-color: #D3D3D3 !important; }\n",
       " #gkxqdosmsf .gt_sourcenote { font-size: 90% !important; padding-top: 4px !important; padding-bottom: 4px !important; padding-left: 5px !important; padding-right: 5px !important; text-align: left !important; }\n",
       " #gkxqdosmsf .gt_left { text-align: left !important; }\n",
       " #gkxqdosmsf .gt_center { text-align: center !important; }\n",
       " #gkxqdosmsf .gt_right { text-align: right !important; font-variant-numeric: tabular-nums !important; }\n",
       " #gkxqdosmsf .gt_font_normal { font-weight: normal !important; }\n",
       " #gkxqdosmsf .gt_font_bold { font-weight: bold !important; }\n",
       " #gkxqdosmsf .gt_font_italic { font-style: italic !important; }\n",
       " #gkxqdosmsf .gt_super { font-size: 65% !important; }\n",
       " #gkxqdosmsf .gt_footnote_marks { font-size: 75% !important; vertical-align: 0.4em !important; position: initial !important; }\n",
       " #gkxqdosmsf .gt_asterisk { font-size: 100% !important; vertical-align: 0 !important; }\n",
       " \n",
       "</style>\n",
       "<table class=\"gt_table\" data-quarto-disable-processing=\"false\" data-quarto-bootstrap=\"false\">\n",
       "<thead>\n",
       "\n",
       "  <tr class=\"gt_heading\">\n",
       "    <td colspan=\"2\" class=\"gt_heading gt_title gt_font_normal\">% Change in Market Share</td>\n",
       "  </tr>\n",
       "<tr class=\"gt_col_headings\">\n",
       "  <th class=\"gt_col_heading gt_columns_bottom_border gt_left\" rowspan=\"1\" colspan=\"1\" scope=\"col\" id=\"Brands\">Brands</th>\n",
       "  <th class=\"gt_col_heading gt_columns_bottom_border gt_right\" rowspan=\"1\" colspan=\"1\" scope=\"col\" id=\"% Change\">% Change</th>\n",
       "</tr>\n",
       "</thead>\n",
       "<tbody class=\"gt_table_body\">\n",
       "  <tr>\n",
       "    <th style=\"color: #000000; background-color: #808080;\" class=\"gt_row gt_left gt_stub\">Alpha</th>\n",
       "    <td style=\"color: #000000; background-color: #dbcee7;\" class=\"gt_row gt_right\">7.15%</td>\n",
       "  </tr>\n",
       "  <tr>\n",
       "    <th style=\"color: #000000; background-color: #808080;\" class=\"gt_row gt_left gt_stub\">Bravo</th>\n",
       "    <td style=\"color: #000000; background-color: #fff3dd;\" class=\"gt_row gt_right\">−3.94%</td>\n",
       "  </tr>\n",
       "  <tr>\n",
       "    <th style=\"color: #000000; background-color: #808080;\" class=\"gt_row gt_left gt_stub\">Charlie</th>\n",
       "    <td style=\"color: #000000; background-color: #ffbd45;\" class=\"gt_row gt_right\">−21.84%</td>\n",
       "  </tr>\n",
       "  <tr>\n",
       "    <th style=\"color: #000000; background-color: #808080;\" class=\"gt_row gt_left gt_stub\">Delta</th>\n",
       "    <td style=\"color: #000000; background-color: #ffdb99;\" class=\"gt_row gt_right\">−12.02%</td>\n",
       "  </tr>\n",
       "  <tr>\n",
       "    <th style=\"color: #000000; background-color: #808080;\" class=\"gt_row gt_left gt_stub\">Other</th>\n",
       "    <td style=\"color: #000000; background-color: #af95ca;\" class=\"gt_row gt_right\">15.64%</td>\n",
       "  </tr>\n",
       "</tbody>\n",
       "\n",
       "\n",
       "</table>\n",
       "\n",
       "</div>\n",
       "        "
      ],
      "text/plain": [
       "GT(_tbl_data=shape: (5, 3)\n",
       "┌──────┬─────────┬───────────┐\n",
       "│ year ┆ brand   ┆ % Change  │\n",
       "│ ---  ┆ ---     ┆ ---       │\n",
       "│ i32  ┆ str     ┆ f64       │\n",
       "╞══════╪═════════╪═══════════╡\n",
       "│ 2    ┆ Alpha   ┆ 0.071451  │\n",
       "│ 2    ┆ Bravo   ┆ -0.039414 │\n",
       "│ 2    ┆ Charlie ┆ -0.218361 │\n",
       "│ 2    ┆ Delta   ┆ -0.120182 │\n",
       "│ 2    ┆ Other   ┆ 0.156374  │\n",
       "└──────┴─────────┴───────────┘, _body=<great_tables._gt_data.Body object at 0x000001EFEB788B90>, _boxhead=Boxhead([ColInfo(var='year', type=<ColInfoTypeEnum.hidden: 4>, column_label='year', column_align='right', column_width=None), ColInfo(var='brand', type=<ColInfoTypeEnum.stub: 2>, column_label='Y-o-Y % Change', column_align='left', column_width=None), ColInfo(var='% Change', type=<ColInfoTypeEnum.default: 1>, column_label='% Change', column_align='right', column_width=None)]), _stub=<great_tables._gt_data.Stub object at 0x000001EFEBFD0D10>, _spanners=Spanners([]), _heading=Heading(title='% Change in Market Share', subtitle=None, preheader=None), _stubhead='Brands', _source_notes=[], _footnotes=[], _styles=[StyleInfo(locname=LocBody(columns='year', rows=[0]), grpname=None, colname='year', rownum=0, colnum=None, styles=[CellStyleText(color='#000000', font=None, size=None, align=None, v_align=None, style=None, weight=None, stretch=None, decorate=None, transform=None, whitespace=None), CellStyleFill(color='#808080')]), StyleInfo(locname=LocBody(columns='year', rows=[1]), grpname=None, colname='year', rownum=1, colnum=None, styles=[CellStyleText(color='#000000', font=None, size=None, align=None, v_align=None, style=None, weight=None, stretch=None, decorate=None, transform=None, whitespace=None), CellStyleFill(color='#808080')]), StyleInfo(locname=LocBody(columns='year', rows=[2]), grpname=None, colname='year', rownum=2, colnum=None, styles=[CellStyleText(color='#000000', font=None, size=None, align=None, v_align=None, style=None, weight=None, stretch=None, decorate=None, transform=None, whitespace=None), CellStyleFill(color='#808080')]), StyleInfo(locname=LocBody(columns='year', rows=[3]), grpname=None, colname='year', rownum=3, colnum=None, styles=[CellStyleText(color='#000000', font=None, size=None, align=None, v_align=None, style=None, weight=None, stretch=None, decorate=None, transform=None, whitespace=None), CellStyleFill(color='#808080')]), StyleInfo(locname=LocBody(columns='year', rows=[4]), grpname=None, colname='year', rownum=4, colnum=None, styles=[CellStyleText(color='#000000', font=None, size=None, align=None, v_align=None, style=None, weight=None, stretch=None, decorate=None, transform=None, whitespace=None), CellStyleFill(color='#808080')]), StyleInfo(locname=LocBody(columns='brand', rows=[0]), grpname=None, colname='brand', rownum=0, colnum=None, styles=[CellStyleText(color='#000000', font=None, size=None, align=None, v_align=None, style=None, weight=None, stretch=None, decorate=None, transform=None, whitespace=None), CellStyleFill(color='#808080')]), StyleInfo(locname=LocBody(columns='brand', rows=[1]), grpname=None, colname='brand', rownum=1, colnum=None, styles=[CellStyleText(color='#000000', font=None, size=None, align=None, v_align=None, style=None, weight=None, stretch=None, decorate=None, transform=None, whitespace=None), CellStyleFill(color='#808080')]), StyleInfo(locname=LocBody(columns='brand', rows=[2]), grpname=None, colname='brand', rownum=2, colnum=None, styles=[CellStyleText(color='#000000', font=None, size=None, align=None, v_align=None, style=None, weight=None, stretch=None, decorate=None, transform=None, whitespace=None), CellStyleFill(color='#808080')]), StyleInfo(locname=LocBody(columns='brand', rows=[3]), grpname=None, colname='brand', rownum=3, colnum=None, styles=[CellStyleText(color='#000000', font=None, size=None, align=None, v_align=None, style=None, weight=None, stretch=None, decorate=None, transform=None, whitespace=None), CellStyleFill(color='#808080')]), StyleInfo(locname=LocBody(columns='brand', rows=[4]), grpname=None, colname='brand', rownum=4, colnum=None, styles=[CellStyleText(color='#000000', font=None, size=None, align=None, v_align=None, style=None, weight=None, stretch=None, decorate=None, transform=None, whitespace=None), CellStyleFill(color='#808080')]), StyleInfo(locname=LocBody(columns='% Change', rows=[0]), grpname=None, colname='% Change', rownum=0, colnum=None, styles=[CellStyleText(color='#000000', font=None, size=None, align=None, v_align=None, style=None, weight=None, stretch=None, decorate=None, transform=None, whitespace=None), CellStyleFill(color='#dbcee7')]), StyleInfo(locname=LocBody(columns='% Change', rows=[1]), grpname=None, colname='% Change', rownum=1, colnum=None, styles=[CellStyleText(color='#000000', font=None, size=None, align=None, v_align=None, style=None, weight=None, stretch=None, decorate=None, transform=None, whitespace=None), CellStyleFill(color='#fff3dd')]), StyleInfo(locname=LocBody(columns='% Change', rows=[2]), grpname=None, colname='% Change', rownum=2, colnum=None, styles=[CellStyleText(color='#000000', font=None, size=None, align=None, v_align=None, style=None, weight=None, stretch=None, decorate=None, transform=None, whitespace=None), CellStyleFill(color='#ffbd45')]), StyleInfo(locname=LocBody(columns='% Change', rows=[3]), grpname=None, colname='% Change', rownum=3, colnum=None, styles=[CellStyleText(color='#000000', font=None, size=None, align=None, v_align=None, style=None, weight=None, stretch=None, decorate=None, transform=None, whitespace=None), CellStyleFill(color='#ffdb99')]), StyleInfo(locname=LocBody(columns='% Change', rows=[4]), grpname=None, colname='% Change', rownum=4, colnum=None, styles=[CellStyleText(color='#000000', font=None, size=None, align=None, v_align=None, style=None, weight=None, stretch=None, decorate=None, transform=None, whitespace=None), CellStyleFill(color='#af95ca')])], _locale=<great_tables._gt_data.Locale object at 0x000001EFEBFEC5C0>, _formats=[<great_tables._gt_data.FormatInfo object at 0x000001EFEBFEEDE0>], _substitutions=[], _options=Options(table_id=OptionsInfo(scss=False, category='table', type='value', value=None), table_caption=OptionsInfo(scss=False, category='table', type='value', value=None), table_width=OptionsInfo(scss=True, category='table', type='px', value='auto'), table_layout=OptionsInfo(scss=True, category='table', type='value', value='fixed'), table_margin_left=OptionsInfo(scss=True, category='table', type='px', value='auto'), table_margin_right=OptionsInfo(scss=True, category='table', type='px', value='auto'), table_background_color=OptionsInfo(scss=True, category='table', type='value', value='#FFFFFF'), table_additional_css=OptionsInfo(scss=False, category='table', type='values', value=[]), table_font_names=OptionsInfo(scss=False, category='table', type='values', value=['-apple-system', 'BlinkMacSystemFont', 'Segoe UI', 'Roboto', 'Oxygen', 'Ubuntu', 'Cantarell', 'Helvetica Neue', 'Fira Sans', 'Droid Sans', 'Arial', 'sans-serif']), table_font_size=OptionsInfo(scss=True, category='table', type='px', value='16px'), table_font_weight=OptionsInfo(scss=True, category='table', type='value', value='normal'), table_font_style=OptionsInfo(scss=True, category='table', type='value', value='normal'), table_font_color=OptionsInfo(scss=True, category='table', type='value', value='#333333'), table_font_color_light=OptionsInfo(scss=True, category='table', type='value', value='#FFFFFF'), table_border_top_include=OptionsInfo(scss=False, category='table', type='boolean', value=True), table_border_top_style=OptionsInfo(scss=True, category='table', type='value', value='solid'), table_border_top_width=OptionsInfo(scss=True, category='table', type='px', value='2px'), table_border_top_color=OptionsInfo(scss=True, category='table', type='value', value='#A8A8A8'), table_border_right_style=OptionsInfo(scss=True, category='table', type='value', value='none'), table_border_right_width=OptionsInfo(scss=True, category='table', type='px', value='2px'), table_border_right_color=OptionsInfo(scss=True, category='table', type='value', value='#D3D3D3'), table_border_bottom_include=OptionsInfo(scss=False, category='table', type='boolean', value=True), table_border_bottom_style=OptionsInfo(scss=True, category='table', type='value', value='solid'), table_border_bottom_width=OptionsInfo(scss=True, category='table', type='px', value='2px'), table_border_bottom_color=OptionsInfo(scss=True, category='table', type='value', value='#A8A8A8'), table_border_left_style=OptionsInfo(scss=True, category='table', type='value', value='none'), table_border_left_width=OptionsInfo(scss=True, category='table', type='px', value='2px'), table_border_left_color=OptionsInfo(scss=True, category='table', type='value', value='#D3D3D3'), heading_background_color=OptionsInfo(scss=True, category='heading', type='value', value=None), heading_align=OptionsInfo(scss=True, category='heading', type='value', value='center'), heading_title_font_size=OptionsInfo(scss=True, category='heading', type='px', value='125%'), heading_title_font_weight=OptionsInfo(scss=True, category='heading', type='value', value='initial'), heading_subtitle_font_size=OptionsInfo(scss=True, category='heading', type='px', value='85%'), heading_subtitle_font_weight=OptionsInfo(scss=True, category='heading', type='value', value='initial'), heading_padding=OptionsInfo(scss=True, category='heading', type='px', value='4px'), heading_padding_horizontal=OptionsInfo(scss=True, category='heading', type='px', value='5px'), heading_border_bottom_style=OptionsInfo(scss=True, category='heading', type='value', value='solid'), heading_border_bottom_width=OptionsInfo(scss=True, category='heading', type='px', value='2px'), heading_border_bottom_color=OptionsInfo(scss=True, category='heading', type='value', value='#D3D3D3'), heading_border_lr_style=OptionsInfo(scss=True, category='heading', type='value', value='none'), heading_border_lr_width=OptionsInfo(scss=True, category='heading', type='px', value='1px'), heading_border_lr_color=OptionsInfo(scss=True, category='heading', type='value', value='#D3D3D3'), column_labels_background_color=OptionsInfo(scss=True, category='column_labels', type='value', value=None), column_labels_font_size=OptionsInfo(scss=True, category='column_labels', type='px', value='100%'), column_labels_font_weight=OptionsInfo(scss=True, category='column_labels', type='value', value='normal'), column_labels_text_transform=OptionsInfo(scss=True, category='column_labels', type='value', value='inherit'), column_labels_padding=OptionsInfo(scss=True, category='column_labels', type='px', value='5px'), column_labels_padding_horizontal=OptionsInfo(scss=True, category='column_labels', type='px', value='5px'), column_labels_vlines_style=OptionsInfo(scss=True, category='table_body', type='value', value='none'), column_labels_vlines_width=OptionsInfo(scss=True, category='table_body', type='px', value='1px'), column_labels_vlines_color=OptionsInfo(scss=True, category='table_body', type='value', value='#D3D3D3'), column_labels_border_top_style=OptionsInfo(scss=True, category='column_labels', type='value', value='solid'), column_labels_border_top_width=OptionsInfo(scss=True, category='column_labels', type='px', value='2px'), column_labels_border_top_color=OptionsInfo(scss=True, category='column_labels', type='value', value='#D3D3D3'), column_labels_border_bottom_style=OptionsInfo(scss=True, category='column_labels', type='value', value='solid'), column_labels_border_bottom_width=OptionsInfo(scss=True, category='column_labels', type='px', value='2px'), column_labels_border_bottom_color=OptionsInfo(scss=True, category='column_labels', type='value', value='#D3D3D3'), column_labels_border_lr_style=OptionsInfo(scss=True, category='column_labels', type='value', value='none'), column_labels_border_lr_width=OptionsInfo(scss=True, category='column_labels', type='px', value='1px'), column_labels_border_lr_color=OptionsInfo(scss=True, category='column_labels', type='value', value='#D3D3D3'), column_labels_hidden=OptionsInfo(scss=False, category='column_labels', type='boolean', value=False), row_group_background_color=OptionsInfo(scss=True, category='row_group', type='value', value=None), row_group_font_size=OptionsInfo(scss=True, category='row_group', type='px', value='100%'), row_group_font_weight=OptionsInfo(scss=True, category='row_group', type='value', value='initial'), row_group_text_transform=OptionsInfo(scss=True, category='row_group', type='value', value='inherit'), row_group_padding=OptionsInfo(scss=True, category='row_group', type='px', value='8px'), row_group_padding_horizontal=OptionsInfo(scss=True, category='row_group', type='px', value='5px'), row_group_border_top_style=OptionsInfo(scss=True, category='row_group', type='value', value='solid'), row_group_border_top_width=OptionsInfo(scss=True, category='row_group', type='px', value='2px'), row_group_border_top_color=OptionsInfo(scss=True, category='row_group', type='value', value='#D3D3D3'), row_group_border_right_style=OptionsInfo(scss=True, category='row_group', type='value', value='none'), row_group_border_right_width=OptionsInfo(scss=True, category='row_group', type='px', value='1px'), row_group_border_right_color=OptionsInfo(scss=True, category='row_group', type='value', value='#D3D3D3'), row_group_border_bottom_style=OptionsInfo(scss=True, category='row_group', type='value', value='solid'), row_group_border_bottom_width=OptionsInfo(scss=True, category='row_group', type='px', value='2px'), row_group_border_bottom_color=OptionsInfo(scss=True, category='row_group', type='value', value='#D3D3D3'), row_group_border_left_style=OptionsInfo(scss=True, category='row_group', type='value', value='none'), row_group_border_left_width=OptionsInfo(scss=True, category='row_group', type='px', value='1px'), row_group_border_left_color=OptionsInfo(scss=True, category='row_group', type='value', value='#D3D3D3'), row_group_as_column=OptionsInfo(scss=False, category='row_group', type='boolean', value=False), table_body_hlines_style=OptionsInfo(scss=True, category='table_body', type='value', value='solid'), table_body_hlines_width=OptionsInfo(scss=True, category='table_body', type='px', value='1px'), table_body_hlines_color=OptionsInfo(scss=True, category='table_body', type='value', value='#D3D3D3'), table_body_vlines_style=OptionsInfo(scss=True, category='table_body', type='value', value='none'), table_body_vlines_width=OptionsInfo(scss=True, category='table_body', type='px', value='1px'), table_body_vlines_color=OptionsInfo(scss=True, category='table_body', type='value', value='#D3D3D3'), table_body_border_top_style=OptionsInfo(scss=True, category='table_body', type='value', value='solid'), table_body_border_top_width=OptionsInfo(scss=True, category='table_body', type='px', value='2px'), table_body_border_top_color=OptionsInfo(scss=True, category='table_body', type='value', value='#D3D3D3'), table_body_border_bottom_style=OptionsInfo(scss=True, category='table_body', type='value', value='solid'), table_body_border_bottom_width=OptionsInfo(scss=True, category='table_body', type='px', value='2px'), table_body_border_bottom_color=OptionsInfo(scss=True, category='table_body', type='value', value='#D3D3D3'), data_row_padding=OptionsInfo(scss=True, category='data_row', type='px', value='8px'), data_row_padding_horizontal=OptionsInfo(scss=True, category='data_row', type='px', value='5px'), stub_background_color=OptionsInfo(scss=True, category='stub', type='value', value=None), stub_font_size=OptionsInfo(scss=True, category='stub', type='px', value='100%'), stub_font_weight=OptionsInfo(scss=True, category='stub', type='value', value='initial'), stub_text_transform=OptionsInfo(scss=True, category='stub', type='value', value='inherit'), stub_border_style=OptionsInfo(scss=True, category='stub', type='value', value='solid'), stub_border_width=OptionsInfo(scss=True, category='stub', type='px', value='2px'), stub_border_color=OptionsInfo(scss=True, category='stub', type='value', value='#D3D3D3'), stub_row_group_background_color=OptionsInfo(scss=True, category='stub', type='value', value=None), stub_row_group_font_size=OptionsInfo(scss=True, category='stub', type='px', value='100%'), stub_row_group_font_weight=OptionsInfo(scss=True, category='stub', type='value', value='initial'), stub_row_group_text_transform=OptionsInfo(scss=True, category='stub', type='value', value='inherit'), stub_row_group_border_style=OptionsInfo(scss=True, category='stub', type='value', value='solid'), stub_row_group_border_width=OptionsInfo(scss=True, category='stub', type='px', value='2px'), stub_row_group_border_color=OptionsInfo(scss=True, category='stub', type='value', value='#D3D3D3'), source_notes_padding=OptionsInfo(scss=True, category='source_notes', type='px', value='4px'), source_notes_padding_horizontal=OptionsInfo(scss=True, category='source_notes', type='px', value='5px'), source_notes_background_color=OptionsInfo(scss=True, category='source_notes', type='value', value=None), source_notes_font_size=OptionsInfo(scss=True, category='source_notes', type='px', value='90%'), source_notes_border_bottom_style=OptionsInfo(scss=True, category='source_notes', type='value', value='none'), source_notes_border_bottom_width=OptionsInfo(scss=True, category='source_notes', type='px', value='2px'), source_notes_border_bottom_color=OptionsInfo(scss=True, category='source_notes', type='value', value='#D3D3D3'), source_notes_border_lr_style=OptionsInfo(scss=True, category='source_notes', type='value', value='none'), source_notes_border_lr_width=OptionsInfo(scss=True, category='source_notes', type='px', value='2px'), source_notes_border_lr_color=OptionsInfo(scss=True, category='source_notes', type='value', value='#D3D3D3'), source_notes_multiline=OptionsInfo(scss=False, category='source_notes', type='boolean', value=True), source_notes_sep=OptionsInfo(scss=False, category='source_notes', type='value', value=' '), row_striping_background_color=OptionsInfo(scss=True, category='row', type='value', value='rgba(128,128,128,0.05)'), row_striping_include_stub=OptionsInfo(scss=False, category='row', type='boolean', value=False), row_striping_include_table_body=OptionsInfo(scss=False, category='row', type='boolean', value=False), container_width=OptionsInfo(scss=False, category='container', type='px', value='auto'), container_height=OptionsInfo(scss=False, category='container', type='px', value='auto'), container_padding_x=OptionsInfo(scss=False, category='container', type='px', value='0px'), container_padding_y=OptionsInfo(scss=False, category='container', type='px', value='10px'), container_overflow_x=OptionsInfo(scss=False, category='container', type='overflow', value='auto'), container_overflow_y=OptionsInfo(scss=False, category='container', type='overflow', value='auto'), quarto_disable_processing=OptionsInfo(scss=False, category='quarto', type='logical', value=False), quarto_use_bootstrap=OptionsInfo(scss=False, category='quarto', type='logical', value=False)), _has_built=False)"
      ]
     },
     "execution_count": 22,
     "metadata": {},
     "output_type": "execute_result"
    }
   ],
   "source": [
    "annual_change_share = market_share.drop('Total').with_columns(\n",
    "    pl.col('*').exclude('year').pct_change()\n",
    ").filter(\n",
    "    pl.col('year') == 2\n",
    ").unpivot(\n",
    "    index=\"year\",  # Keep 'year' as a fixed identifier\n",
    "    value_name='% Change',  \n",
    "    variable_name='brand'\n",
    ")\n",
    "\n",
    "(\n",
    "    GT(annual_change_share, rowname_col='brand')\n",
    "    .tab_header(title='% Change in Market Share')\n",
    "    .tab_stubhead(label=\"Brands\")\n",
    "    .fmt_percent()\n",
    "    .data_color(\n",
    "        domain=[-0.3, 0.3],\n",
    "        palette=['orange', 'white', 'rebeccapurple']\n",
    "    ) \n",
    "    .cols_hide('year')   \n",
    "    .cols_label(brand='Y-o-Y % Change')\n",
    ")"
   ]
  },
  {
   "cell_type": "code",
   "execution_count": 23,
   "metadata": {},
   "outputs": [
    {
     "data": {
      "application/vnd.vegalite.v5+json": {
       "$schema": "https://vega.github.io/schema/vega-lite/v5.20.1.json",
       "config": {
        "view": {
         "continuousHeight": 300,
         "continuousWidth": 300
        }
       },
       "data": {
        "name": "data-1ee020d083b6a2376c3454767235131c"
       },
       "datasets": {
        "data-1ee020d083b6a2376c3454767235131c": [
         {
          "% Change": 0.07145077131777733,
          "brand": "Alpha",
          "year": 2
         },
         {
          "% Change": -0.03941383026417336,
          "brand": "Bravo",
          "year": 2
         },
         {
          "% Change": -0.21836050665441242,
          "brand": "Charlie",
          "year": 2
         },
         {
          "% Change": -0.12018178776579695,
          "brand": "Delta",
          "year": 2
         },
         {
          "% Change": 0.15637377416219272,
          "brand": "Other",
          "year": 2
         }
        ]
       },
       "height": 250,
       "layer": [
        {
         "encoding": {
          "color": {
           "condition": {
            "test": "(datum['% Change'] > 0)",
            "value": "green"
           },
           "value": "red"
          },
          "text": {
           "field": "% Change",
           "format": ".1%",
           "type": "quantitative"
          },
          "x": {
           "axis": {
            "labelAngle": 0
           },
           "field": "brand",
           "type": "nominal"
          },
          "y": {
           "axis": {
            "format": ".0%"
           },
           "field": "% Change",
           "type": "quantitative"
          }
         },
         "mark": {
          "type": "bar"
         },
         "title": "% Change in Annual Market Share"
        },
        {
         "encoding": {
          "color": {
           "condition": {
            "test": "(datum['% Change'] > 0)",
            "value": "green"
           },
           "value": "red"
          },
          "text": {
           "field": "% Change",
           "format": ".1%",
           "type": "quantitative"
          },
          "x": {
           "axis": {
            "labelAngle": 0
           },
           "field": "brand",
           "type": "nominal"
          },
          "y": {
           "axis": {
            "format": ".0%"
           },
           "field": "% Change",
           "type": "quantitative"
          }
         },
         "mark": {
          "align": "center",
          "baseline": {
           "expr": "if((datum['% Change'] >= 0),'bottom','top')"
          },
          "dx": 0,
          "dy": {
           "expr": "if((datum['% Change'] >= 0),-3,3)"
          },
          "type": "text"
         },
         "title": "% Change in Annual Market Share"
        }
       ],
       "width": 650
      },
      "text/plain": [
       "<VegaLite 5 object>\n",
       "\n",
       "If you see this message, it means the renderer has not been properly enabled\n",
       "for the frontend that you are using. For more information, see\n",
       "https://altair-viz.github.io/user_guide/display_frontends.html#troubleshooting\n"
      ]
     },
     "metadata": {},
     "output_type": "display_data"
    }
   ],
   "source": [
    "base = alt.Chart(annual_change_share).encode(\n",
    "    x=alt.X(\"brand:N\", \n",
    "            axis=alt.Axis(labelAngle=0)\n",
    "    ),\n",
    "    y=alt.Y(\"% Change:Q\",\n",
    "            axis=alt.Axis(format=\".0%\")\n",
    "    ),\n",
    "    color=alt.condition(\n",
    "        alt.datum[\"% Change\"] > 0, # fixed this \n",
    "        alt.value(\"green\"),  # The positive color\n",
    "        alt.value(\"red\")  # The negative color\n",
    "    ),\n",
    "    text=alt.Text(\n",
    "        '% Change',\n",
    "        format=(\".1%\")\n",
    "    )\n",
    "        \n",
    ").properties(\n",
    "    width=650,\n",
    "    height=250,\n",
    "    title='% Change in Annual Market Share'\n",
    ")\n",
    "\n",
    "chart = base.mark_bar() + base.mark_text(align='center', \n",
    "                                 baseline=alt.expr(alt.expr.if_(alt.datum['% Change'] >= 0, 'bottom', 'top')),\n",
    "                                 dy=alt.expr(alt.expr.if_(alt.datum['% Change'] >= 0, -3, 3)),\n",
    "                                 dx=0)\n",
    "\n",
    "chart.show()"
   ]
  },
  {
   "cell_type": "markdown",
   "metadata": {},
   "source": [
    "#### Average SKU Price"
   ]
  },
  {
   "cell_type": "code",
   "execution_count": 24,
   "metadata": {},
   "outputs": [
    {
     "data": {
      "text/html": [
       "<div id=\"cvvyfwkvwk\" style=\"padding-left:0px;padding-right:0px;padding-top:10px;padding-bottom:10px;overflow-x:auto;overflow-y:auto;width:auto;height:auto;\">\n",
       "<style>\n",
       "#cvvyfwkvwk table {\n",
       "          font-family: -apple-system, BlinkMacSystemFont, 'Segoe UI', Roboto, Oxygen, Ubuntu, Cantarell, 'Helvetica Neue', 'Fira Sans', 'Droid Sans', Arial, sans-serif;\n",
       "          -webkit-font-smoothing: antialiased;\n",
       "          -moz-osx-font-smoothing: grayscale;\n",
       "        }\n",
       "\n",
       "#cvvyfwkvwk thead, tbody, tfoot, tr, td, th { border-style: none !important; }\n",
       " tr { background-color: transparent !important; }\n",
       "#cvvyfwkvwk p { margin: 0 !important; padding: 0 !important; }\n",
       " #cvvyfwkvwk .gt_table { display: table !important; border-collapse: collapse !important; line-height: normal !important; margin-left: auto !important; margin-right: auto !important; color: #333333 !important; font-size: 16px !important; font-weight: normal !important; font-style: normal !important; background-color: #FFFFFF !important; width: auto !important; border-top-style: solid !important; border-top-width: 2px !important; border-top-color: #A8A8A8 !important; border-right-style: none !important; border-right-width: 2px !important; border-right-color: #D3D3D3 !important; border-bottom-style: solid !important; border-bottom-width: 2px !important; border-bottom-color: #A8A8A8 !important; border-left-style: none !important; border-left-width: 2px !important; border-left-color: #D3D3D3 !important; }\n",
       " #cvvyfwkvwk .gt_caption { padding-top: 4px !important; padding-bottom: 4px !important; }\n",
       " #cvvyfwkvwk .gt_title { color: #333333 !important; font-size: 125% !important; font-weight: initial !important; padding-top: 4px !important; padding-bottom: 4px !important; padding-left: 5px !important; padding-right: 5px !important; border-bottom-color: #FFFFFF !important; border-bottom-width: 0 !important; }\n",
       " #cvvyfwkvwk .gt_subtitle { color: #333333 !important; font-size: 85% !important; font-weight: initial !important; padding-top: 3px !important; padding-bottom: 5px !important; padding-left: 5px !important; padding-right: 5px !important; border-top-color: #FFFFFF !important; border-top-width: 0 !important; }\n",
       " #cvvyfwkvwk .gt_heading { background-color: #FFFFFF !important; text-align: center !important; border-bottom-color: #FFFFFF !important; border-left-style: none !important; border-left-width: 1px !important; border-left-color: #D3D3D3 !important; border-right-style: none !important; border-right-width: 1px !important; border-right-color: #D3D3D3 !important; }\n",
       " #cvvyfwkvwk .gt_bottom_border { border-bottom-style: solid !important; border-bottom-width: 2px !important; border-bottom-color: #D3D3D3 !important; }\n",
       " #cvvyfwkvwk .gt_col_headings { border-top-style: solid !important; border-top-width: 2px !important; border-top-color: #D3D3D3 !important; border-bottom-style: solid !important; border-bottom-width: 2px !important; border-bottom-color: #D3D3D3 !important; border-left-style: none !important; border-left-width: 1px !important; border-left-color: #D3D3D3 !important; border-right-style: none !important; border-right-width: 1px !important; border-right-color: #D3D3D3 !important; }\n",
       " #cvvyfwkvwk .gt_col_heading { color: #333333 !important; background-color: #FFFFFF !important; font-size: 100% !important; font-weight: normal !important; text-transform: inherit !important; border-left-style: none !important; border-left-width: 1px !important; border-left-color: #D3D3D3 !important; border-right-style: none !important; border-right-width: 1px !important; border-right-color: #D3D3D3 !important; vertical-align: bottom !important; padding-top: 5px !important; padding-bottom: 5px !important; padding-left: 5px !important; padding-right: 5px !important; overflow-x: hidden !important; }\n",
       " #cvvyfwkvwk .gt_column_spanner_outer { color: #333333 !important; background-color: #FFFFFF !important; font-size: 100% !important; font-weight: normal !important; text-transform: inherit !important; padding-top: 0 !important; padding-bottom: 0 !important; padding-left: 4px !important; padding-right: 4px !important; }\n",
       " #cvvyfwkvwk .gt_column_spanner_outer:first-child { padding-left: 0 !important; }\n",
       " #cvvyfwkvwk .gt_column_spanner_outer:last-child { padding-right: 0 !important; }\n",
       " #cvvyfwkvwk .gt_column_spanner { border-bottom-style: solid !important; border-bottom-width: 2px !important; border-bottom-color: #D3D3D3 !important; vertical-align: bottom !important; padding-top: 5px !important; padding-bottom: 5px !important; overflow-x: hidden !important; display: inline-block !important; width: 100% !important; }\n",
       " #cvvyfwkvwk .gt_spanner_row { border-bottom-style: hidden !important; }\n",
       " #cvvyfwkvwk .gt_group_heading { padding-top: 8px !important; padding-bottom: 8px !important; padding-left: 5px !important; padding-right: 5px !important; color: #333333 !important; background-color: #FFFFFF !important; font-size: 100% !important; font-weight: initial !important; text-transform: inherit !important; border-top-style: solid !important; border-top-width: 2px !important; border-top-color: #D3D3D3 !important; border-bottom-style: solid !important; border-bottom-width: 2px !important; border-bottom-color: #D3D3D3 !important; border-left-style: none !important; border-left-width: 1px !important; border-left-color: #D3D3D3 !important; border-right-style: none !important; border-right-width: 1px !important; border-right-color: #D3D3D3 !important; vertical-align: middle !important; text-align: left !important; }\n",
       " #cvvyfwkvwk .gt_empty_group_heading { padding: 0.5px !important; color: #333333 !important; background-color: #FFFFFF !important; font-size: 100% !important; font-weight: initial !important; border-top-style: solid !important; border-top-width: 2px !important; border-top-color: #D3D3D3 !important; border-bottom-style: solid !important; border-bottom-width: 2px !important; border-bottom-color: #D3D3D3 !important; vertical-align: middle !important; }\n",
       " #cvvyfwkvwk .gt_from_md> :first-child { margin-top: 0 !important; }\n",
       " #cvvyfwkvwk .gt_from_md> :last-child { margin-bottom: 0 !important; }\n",
       " #cvvyfwkvwk .gt_row { padding-top: 8px !important; padding-bottom: 8px !important; padding-left: 5px !important; padding-right: 5px !important; margin: 10px !important; border-top-style: solid !important; border-top-width: 1px !important; border-top-color: #D3D3D3 !important; border-left-style: none !important; border-left-width: 1px !important; border-left-color: #D3D3D3 !important; border-right-style: none !important; border-right-width: 1px !important; border-right-color: #D3D3D3 !important; vertical-align: middle !important; overflow-x: hidden !important; }\n",
       " #cvvyfwkvwk .gt_stub { color: #333333 !important; background-color: #FFFFFF !important; font-size: 100% !important; font-weight: initial !important; text-transform: inherit !important; border-right-style: solid !important; border-right-width: 2px !important; border-right-color: #D3D3D3 !important; padding-left: 5px !important; padding-right: 5px !important; }\n",
       " #cvvyfwkvwk .gt_stub_row_group { color: #333333 !important; background-color: #FFFFFF !important; font-size: 100% !important; font-weight: initial !important; text-transform: inherit !important; border-right-style: solid !important; border-right-width: 2px !important; border-right-color: #D3D3D3 !important; padding-left: 5px !important; padding-right: 5px !important; vertical-align: top !important; }\n",
       " #cvvyfwkvwk .gt_row_group_first td { border-top-width: 2px !important; }\n",
       " #cvvyfwkvwk .gt_row_group_first th { border-top-width: 2px !important; }\n",
       " #cvvyfwkvwk .gt_striped { background-color: rgba(128,128,128,0.05) !important; }\n",
       " #cvvyfwkvwk .gt_table_body { border-top-style: solid !important; border-top-width: 2px !important; border-top-color: #D3D3D3 !important; border-bottom-style: solid !important; border-bottom-width: 2px !important; border-bottom-color: #D3D3D3 !important; }\n",
       " #cvvyfwkvwk .gt_sourcenotes { color: #333333 !important; background-color: #FFFFFF !important; border-bottom-style: none !important; border-bottom-width: 2px !important; border-bottom-color: #D3D3D3 !important; border-left-style: none !important; border-left-width: 2px !important; border-left-color: #D3D3D3 !important; border-right-style: none !important; border-right-width: 2px !important; border-right-color: #D3D3D3 !important; }\n",
       " #cvvyfwkvwk .gt_sourcenote { font-size: 90% !important; padding-top: 4px !important; padding-bottom: 4px !important; padding-left: 5px !important; padding-right: 5px !important; text-align: left !important; }\n",
       " #cvvyfwkvwk .gt_left { text-align: left !important; }\n",
       " #cvvyfwkvwk .gt_center { text-align: center !important; }\n",
       " #cvvyfwkvwk .gt_right { text-align: right !important; font-variant-numeric: tabular-nums !important; }\n",
       " #cvvyfwkvwk .gt_font_normal { font-weight: normal !important; }\n",
       " #cvvyfwkvwk .gt_font_bold { font-weight: bold !important; }\n",
       " #cvvyfwkvwk .gt_font_italic { font-style: italic !important; }\n",
       " #cvvyfwkvwk .gt_super { font-size: 65% !important; }\n",
       " #cvvyfwkvwk .gt_footnote_marks { font-size: 75% !important; vertical-align: 0.4em !important; position: initial !important; }\n",
       " #cvvyfwkvwk .gt_asterisk { font-size: 100% !important; vertical-align: 0 !important; }\n",
       " \n",
       "</style>\n",
       "<table class=\"gt_table\" data-quarto-disable-processing=\"false\" data-quarto-bootstrap=\"false\">\n",
       "<thead>\n",
       "\n",
       "  <tr class=\"gt_heading\">\n",
       "    <td colspan=\"2\" class=\"gt_heading gt_title gt_font_normal\">Alpha - Average SKU Retail Prices</td>\n",
       "  </tr>\n",
       "<tr class=\"gt_col_headings\">\n",
       "  <th class=\"gt_col_heading gt_columns_bottom_border gt_left\" rowspan=\"1\" colspan=\"1\" scope=\"col\" id=\"SKU IDs\">SKU IDs</th>\n",
       "  <th class=\"gt_col_heading gt_columns_bottom_border gt_right\" rowspan=\"1\" colspan=\"1\" scope=\"col\" id=\"Average Price ($)\">Average Price ($)</th>\n",
       "</tr>\n",
       "</thead>\n",
       "<tbody class=\"gt_table_body\">\n",
       "  <tr>\n",
       "    <th style=\"color: #000000; background-color: #808080;\" class=\"gt_row gt_left gt_stub\">4</th>\n",
       "    <td style=\"color: #000000; background-color: #f6f3f9;\" class=\"gt_row gt_right\">$1.85</td>\n",
       "  </tr>\n",
       "  <tr>\n",
       "    <th style=\"color: #000000; background-color: #808080;\" class=\"gt_row gt_left gt_stub\">5</th>\n",
       "    <td style=\"color: #000000; background-color: #e4dbed;\" class=\"gt_row gt_right\">$3.44</td>\n",
       "  </tr>\n",
       "  <tr>\n",
       "    <th style=\"color: #000000; background-color: #808080;\" class=\"gt_row gt_left gt_stub\">6</th>\n",
       "    <td style=\"color: #000000; background-color: #ede7f3;\" class=\"gt_row gt_right\">$2.61</td>\n",
       "  </tr>\n",
       "  <tr>\n",
       "    <th style=\"color: #000000; background-color: #808080;\" class=\"gt_row gt_left gt_stub\">7</th>\n",
       "    <td style=\"color: #000000; background-color: #d2c3e1;\" class=\"gt_row gt_right\">$5.10</td>\n",
       "  </tr>\n",
       "  <tr>\n",
       "    <th style=\"color: #000000; background-color: #808080;\" class=\"gt_row gt_left gt_stub\">8</th>\n",
       "    <td style=\"color: #FFFFFF; background-color: #8258ac;\" class=\"gt_row gt_right\">$12.43</td>\n",
       "  </tr>\n",
       "  <tr>\n",
       "    <th style=\"color: #000000; background-color: #808080;\" class=\"gt_row gt_left gt_stub\">9</th>\n",
       "    <td style=\"color: #000000; background-color: #c2aed6;\" class=\"gt_row gt_right\">$6.59</td>\n",
       "  </tr>\n",
       "  <tr>\n",
       "    <th style=\"color: #000000; background-color: #808080;\" class=\"gt_row gt_left gt_stub\">10</th>\n",
       "    <td style=\"color: #000000; background-color: #9775ba;\" class=\"gt_row gt_right\">$10.49</td>\n",
       "  </tr>\n",
       "  <tr>\n",
       "    <th style=\"color: #000000; background-color: #808080;\" class=\"gt_row gt_left gt_stub\">11</th>\n",
       "    <td style=\"color: #000000; background-color: #f1edf6;\" class=\"gt_row gt_right\">$2.27</td>\n",
       "  </tr>\n",
       "  <tr>\n",
       "    <th style=\"color: #000000; background-color: #808080;\" class=\"gt_row gt_left gt_stub\">12</th>\n",
       "    <td style=\"color: #000000; background-color: #ebe5f2;\" class=\"gt_row gt_right\">$2.79</td>\n",
       "  </tr>\n",
       "  <tr>\n",
       "    <th style=\"color: #000000; background-color: #808080;\" class=\"gt_row gt_left gt_stub\">14</th>\n",
       "    <td style=\"color: #000000; background-color: #f4f1f8;\" class=\"gt_row gt_right\">$1.99</td>\n",
       "  </tr>\n",
       "  <tr>\n",
       "    <th style=\"color: #000000; background-color: #808080;\" class=\"gt_row gt_left gt_stub\">15</th>\n",
       "    <td style=\"color: #000000; background-color: #e5dced;\" class=\"gt_row gt_right\">$3.42</td>\n",
       "  </tr>\n",
       "  <tr>\n",
       "    <th style=\"color: #000000; background-color: #808080;\" class=\"gt_row gt_left gt_stub\">16</th>\n",
       "    <td style=\"color: #000000; background-color: #eee8f3;\" class=\"gt_row gt_right\">$2.58</td>\n",
       "  </tr>\n",
       "  <tr>\n",
       "    <th style=\"color: #000000; background-color: #808080;\" class=\"gt_row gt_left gt_stub\">17</th>\n",
       "    <td style=\"color: #000000; background-color: #ebe5f2;\" class=\"gt_row gt_right\">$2.80</td>\n",
       "  </tr>\n",
       "  <tr>\n",
       "    <th style=\"color: #000000; background-color: #808080;\" class=\"gt_row gt_left gt_stub\">18</th>\n",
       "    <td style=\"color: #000000; background-color: #e6deee;\" class=\"gt_row gt_right\">$3.27</td>\n",
       "  </tr>\n",
       "  <tr>\n",
       "    <th style=\"color: #000000; background-color: #808080;\" class=\"gt_row gt_left gt_stub\">19</th>\n",
       "    <td style=\"color: #000000; background-color: #ede7f3;\" class=\"gt_row gt_right\">$2.62</td>\n",
       "  </tr>\n",
       "  <tr>\n",
       "    <th style=\"color: #000000; background-color: #808080;\" class=\"gt_row gt_left gt_stub\">20</th>\n",
       "    <td style=\"color: #000000; background-color: #e4dced;\" class=\"gt_row gt_right\">$3.43</td>\n",
       "  </tr>\n",
       "  <tr>\n",
       "    <th style=\"color: #000000; background-color: #808080;\" class=\"gt_row gt_left gt_stub\">21</th>\n",
       "    <td style=\"color: #000000; background-color: #e9e2f1;\" class=\"gt_row gt_right\">$2.99</td>\n",
       "  </tr>\n",
       "  <tr>\n",
       "    <th style=\"color: #000000; background-color: #808080;\" class=\"gt_row gt_left gt_stub\">22</th>\n",
       "    <td style=\"color: #000000; background-color: #f3eff7;\" class=\"gt_row gt_right\">$2.09</td>\n",
       "  </tr>\n",
       "</tbody>\n",
       "\n",
       "\n",
       "</table>\n",
       "\n",
       "</div>\n",
       "        "
      ],
      "text/plain": [
       "GT(_tbl_data=shape: (18, 2)\n",
       "┌────────┬──────────┐\n",
       "│ sku_id ┆ price    │\n",
       "│ ---    ┆ ---      │\n",
       "│ cat    ┆ f64      │\n",
       "╞════════╪══════════╡\n",
       "│ 4      ┆ 1.84705  │\n",
       "│ 5      ┆ 3.438107 │\n",
       "│ 6      ┆ 2.613991 │\n",
       "│ 7      ┆ 5.099062 │\n",
       "│ 8      ┆ 12.43    │\n",
       "│ …      ┆ …        │\n",
       "│ 18     ┆ 3.274    │\n",
       "│ 19     ┆ 2.620052 │\n",
       "│ 20     ┆ 3.43361  │\n",
       "│ 21     ┆ 2.99     │\n",
       "│ 22     ┆ 2.09     │\n",
       "└────────┴──────────┘, _body=<great_tables._gt_data.Body object at 0x000001EFEBE330E0>, _boxhead=Boxhead([ColInfo(var='sku_id', type=<ColInfoTypeEnum.stub: 2>, column_label='sku_id', column_align='center', column_width=None), ColInfo(var='price', type=<ColInfoTypeEnum.default: 1>, column_label='Average Price ($)', column_align='right', column_width=None)]), _stub=<great_tables._gt_data.Stub object at 0x000001EFEBFD2CC0>, _spanners=Spanners([]), _heading=Heading(title='Alpha - Average SKU Retail Prices', subtitle=None, preheader=None), _stubhead='SKU IDs', _source_notes=[], _footnotes=[], _styles=[StyleInfo(locname=LocBody(columns='sku_id', rows=[0]), grpname=None, colname='sku_id', rownum=0, colnum=None, styles=[CellStyleText(color='#000000', font=None, size=None, align=None, v_align=None, style=None, weight=None, stretch=None, decorate=None, transform=None, whitespace=None), CellStyleFill(color='#808080')]), StyleInfo(locname=LocBody(columns='sku_id', rows=[1]), grpname=None, colname='sku_id', rownum=1, colnum=None, styles=[CellStyleText(color='#000000', font=None, size=None, align=None, v_align=None, style=None, weight=None, stretch=None, decorate=None, transform=None, whitespace=None), CellStyleFill(color='#808080')]), StyleInfo(locname=LocBody(columns='sku_id', rows=[2]), grpname=None, colname='sku_id', rownum=2, colnum=None, styles=[CellStyleText(color='#000000', font=None, size=None, align=None, v_align=None, style=None, weight=None, stretch=None, decorate=None, transform=None, whitespace=None), CellStyleFill(color='#808080')]), StyleInfo(locname=LocBody(columns='sku_id', rows=[3]), grpname=None, colname='sku_id', rownum=3, colnum=None, styles=[CellStyleText(color='#000000', font=None, size=None, align=None, v_align=None, style=None, weight=None, stretch=None, decorate=None, transform=None, whitespace=None), CellStyleFill(color='#808080')]), StyleInfo(locname=LocBody(columns='sku_id', rows=[4]), grpname=None, colname='sku_id', rownum=4, colnum=None, styles=[CellStyleText(color='#000000', font=None, size=None, align=None, v_align=None, style=None, weight=None, stretch=None, decorate=None, transform=None, whitespace=None), CellStyleFill(color='#808080')]), StyleInfo(locname=LocBody(columns='sku_id', rows=[5]), grpname=None, colname='sku_id', rownum=5, colnum=None, styles=[CellStyleText(color='#000000', font=None, size=None, align=None, v_align=None, style=None, weight=None, stretch=None, decorate=None, transform=None, whitespace=None), CellStyleFill(color='#808080')]), StyleInfo(locname=LocBody(columns='sku_id', rows=[6]), grpname=None, colname='sku_id', rownum=6, colnum=None, styles=[CellStyleText(color='#000000', font=None, size=None, align=None, v_align=None, style=None, weight=None, stretch=None, decorate=None, transform=None, whitespace=None), CellStyleFill(color='#808080')]), StyleInfo(locname=LocBody(columns='sku_id', rows=[7]), grpname=None, colname='sku_id', rownum=7, colnum=None, styles=[CellStyleText(color='#000000', font=None, size=None, align=None, v_align=None, style=None, weight=None, stretch=None, decorate=None, transform=None, whitespace=None), CellStyleFill(color='#808080')]), StyleInfo(locname=LocBody(columns='sku_id', rows=[8]), grpname=None, colname='sku_id', rownum=8, colnum=None, styles=[CellStyleText(color='#000000', font=None, size=None, align=None, v_align=None, style=None, weight=None, stretch=None, decorate=None, transform=None, whitespace=None), CellStyleFill(color='#808080')]), StyleInfo(locname=LocBody(columns='sku_id', rows=[9]), grpname=None, colname='sku_id', rownum=9, colnum=None, styles=[CellStyleText(color='#000000', font=None, size=None, align=None, v_align=None, style=None, weight=None, stretch=None, decorate=None, transform=None, whitespace=None), CellStyleFill(color='#808080')]), StyleInfo(locname=LocBody(columns='sku_id', rows=[10]), grpname=None, colname='sku_id', rownum=10, colnum=None, styles=[CellStyleText(color='#000000', font=None, size=None, align=None, v_align=None, style=None, weight=None, stretch=None, decorate=None, transform=None, whitespace=None), CellStyleFill(color='#808080')]), StyleInfo(locname=LocBody(columns='sku_id', rows=[11]), grpname=None, colname='sku_id', rownum=11, colnum=None, styles=[CellStyleText(color='#000000', font=None, size=None, align=None, v_align=None, style=None, weight=None, stretch=None, decorate=None, transform=None, whitespace=None), CellStyleFill(color='#808080')]), StyleInfo(locname=LocBody(columns='sku_id', rows=[12]), grpname=None, colname='sku_id', rownum=12, colnum=None, styles=[CellStyleText(color='#000000', font=None, size=None, align=None, v_align=None, style=None, weight=None, stretch=None, decorate=None, transform=None, whitespace=None), CellStyleFill(color='#808080')]), StyleInfo(locname=LocBody(columns='sku_id', rows=[13]), grpname=None, colname='sku_id', rownum=13, colnum=None, styles=[CellStyleText(color='#000000', font=None, size=None, align=None, v_align=None, style=None, weight=None, stretch=None, decorate=None, transform=None, whitespace=None), CellStyleFill(color='#808080')]), StyleInfo(locname=LocBody(columns='sku_id', rows=[14]), grpname=None, colname='sku_id', rownum=14, colnum=None, styles=[CellStyleText(color='#000000', font=None, size=None, align=None, v_align=None, style=None, weight=None, stretch=None, decorate=None, transform=None, whitespace=None), CellStyleFill(color='#808080')]), StyleInfo(locname=LocBody(columns='sku_id', rows=[15]), grpname=None, colname='sku_id', rownum=15, colnum=None, styles=[CellStyleText(color='#000000', font=None, size=None, align=None, v_align=None, style=None, weight=None, stretch=None, decorate=None, transform=None, whitespace=None), CellStyleFill(color='#808080')]), StyleInfo(locname=LocBody(columns='sku_id', rows=[16]), grpname=None, colname='sku_id', rownum=16, colnum=None, styles=[CellStyleText(color='#000000', font=None, size=None, align=None, v_align=None, style=None, weight=None, stretch=None, decorate=None, transform=None, whitespace=None), CellStyleFill(color='#808080')]), StyleInfo(locname=LocBody(columns='sku_id', rows=[17]), grpname=None, colname='sku_id', rownum=17, colnum=None, styles=[CellStyleText(color='#000000', font=None, size=None, align=None, v_align=None, style=None, weight=None, stretch=None, decorate=None, transform=None, whitespace=None), CellStyleFill(color='#808080')]), StyleInfo(locname=LocBody(columns='price', rows=[0]), grpname=None, colname='price', rownum=0, colnum=None, styles=[CellStyleText(color='#000000', font=None, size=None, align=None, v_align=None, style=None, weight=None, stretch=None, decorate=None, transform=None, whitespace=None), CellStyleFill(color='#f6f3f9')]), StyleInfo(locname=LocBody(columns='price', rows=[1]), grpname=None, colname='price', rownum=1, colnum=None, styles=[CellStyleText(color='#000000', font=None, size=None, align=None, v_align=None, style=None, weight=None, stretch=None, decorate=None, transform=None, whitespace=None), CellStyleFill(color='#e4dbed')]), StyleInfo(locname=LocBody(columns='price', rows=[2]), grpname=None, colname='price', rownum=2, colnum=None, styles=[CellStyleText(color='#000000', font=None, size=None, align=None, v_align=None, style=None, weight=None, stretch=None, decorate=None, transform=None, whitespace=None), CellStyleFill(color='#ede7f3')]), StyleInfo(locname=LocBody(columns='price', rows=[3]), grpname=None, colname='price', rownum=3, colnum=None, styles=[CellStyleText(color='#000000', font=None, size=None, align=None, v_align=None, style=None, weight=None, stretch=None, decorate=None, transform=None, whitespace=None), CellStyleFill(color='#d2c3e1')]), StyleInfo(locname=LocBody(columns='price', rows=[4]), grpname=None, colname='price', rownum=4, colnum=None, styles=[CellStyleText(color='#FFFFFF', font=None, size=None, align=None, v_align=None, style=None, weight=None, stretch=None, decorate=None, transform=None, whitespace=None), CellStyleFill(color='#8258ac')]), StyleInfo(locname=LocBody(columns='price', rows=[5]), grpname=None, colname='price', rownum=5, colnum=None, styles=[CellStyleText(color='#000000', font=None, size=None, align=None, v_align=None, style=None, weight=None, stretch=None, decorate=None, transform=None, whitespace=None), CellStyleFill(color='#c2aed6')]), StyleInfo(locname=LocBody(columns='price', rows=[6]), grpname=None, colname='price', rownum=6, colnum=None, styles=[CellStyleText(color='#000000', font=None, size=None, align=None, v_align=None, style=None, weight=None, stretch=None, decorate=None, transform=None, whitespace=None), CellStyleFill(color='#9775ba')]), StyleInfo(locname=LocBody(columns='price', rows=[7]), grpname=None, colname='price', rownum=7, colnum=None, styles=[CellStyleText(color='#000000', font=None, size=None, align=None, v_align=None, style=None, weight=None, stretch=None, decorate=None, transform=None, whitespace=None), CellStyleFill(color='#f1edf6')]), StyleInfo(locname=LocBody(columns='price', rows=[8]), grpname=None, colname='price', rownum=8, colnum=None, styles=[CellStyleText(color='#000000', font=None, size=None, align=None, v_align=None, style=None, weight=None, stretch=None, decorate=None, transform=None, whitespace=None), CellStyleFill(color='#ebe5f2')]), StyleInfo(locname=LocBody(columns='price', rows=[9]), grpname=None, colname='price', rownum=9, colnum=None, styles=[CellStyleText(color='#000000', font=None, size=None, align=None, v_align=None, style=None, weight=None, stretch=None, decorate=None, transform=None, whitespace=None), CellStyleFill(color='#f4f1f8')]), StyleInfo(locname=LocBody(columns='price', rows=[10]), grpname=None, colname='price', rownum=10, colnum=None, styles=[CellStyleText(color='#000000', font=None, size=None, align=None, v_align=None, style=None, weight=None, stretch=None, decorate=None, transform=None, whitespace=None), CellStyleFill(color='#e5dced')]), StyleInfo(locname=LocBody(columns='price', rows=[11]), grpname=None, colname='price', rownum=11, colnum=None, styles=[CellStyleText(color='#000000', font=None, size=None, align=None, v_align=None, style=None, weight=None, stretch=None, decorate=None, transform=None, whitespace=None), CellStyleFill(color='#eee8f3')]), StyleInfo(locname=LocBody(columns='price', rows=[12]), grpname=None, colname='price', rownum=12, colnum=None, styles=[CellStyleText(color='#000000', font=None, size=None, align=None, v_align=None, style=None, weight=None, stretch=None, decorate=None, transform=None, whitespace=None), CellStyleFill(color='#ebe5f2')]), StyleInfo(locname=LocBody(columns='price', rows=[13]), grpname=None, colname='price', rownum=13, colnum=None, styles=[CellStyleText(color='#000000', font=None, size=None, align=None, v_align=None, style=None, weight=None, stretch=None, decorate=None, transform=None, whitespace=None), CellStyleFill(color='#e6deee')]), StyleInfo(locname=LocBody(columns='price', rows=[14]), grpname=None, colname='price', rownum=14, colnum=None, styles=[CellStyleText(color='#000000', font=None, size=None, align=None, v_align=None, style=None, weight=None, stretch=None, decorate=None, transform=None, whitespace=None), CellStyleFill(color='#ede7f3')]), StyleInfo(locname=LocBody(columns='price', rows=[15]), grpname=None, colname='price', rownum=15, colnum=None, styles=[CellStyleText(color='#000000', font=None, size=None, align=None, v_align=None, style=None, weight=None, stretch=None, decorate=None, transform=None, whitespace=None), CellStyleFill(color='#e4dced')]), StyleInfo(locname=LocBody(columns='price', rows=[16]), grpname=None, colname='price', rownum=16, colnum=None, styles=[CellStyleText(color='#000000', font=None, size=None, align=None, v_align=None, style=None, weight=None, stretch=None, decorate=None, transform=None, whitespace=None), CellStyleFill(color='#e9e2f1')]), StyleInfo(locname=LocBody(columns='price', rows=[17]), grpname=None, colname='price', rownum=17, colnum=None, styles=[CellStyleText(color='#000000', font=None, size=None, align=None, v_align=None, style=None, weight=None, stretch=None, decorate=None, transform=None, whitespace=None), CellStyleFill(color='#f3eff7')])], _locale=<great_tables._gt_data.Locale object at 0x000001EFEBE32C30>, _formats=[<great_tables._gt_data.FormatInfo object at 0x000001EFEBF9BC20>], _substitutions=[], _options=Options(table_id=OptionsInfo(scss=False, category='table', type='value', value=None), table_caption=OptionsInfo(scss=False, category='table', type='value', value=None), table_width=OptionsInfo(scss=True, category='table', type='px', value='auto'), table_layout=OptionsInfo(scss=True, category='table', type='value', value='fixed'), table_margin_left=OptionsInfo(scss=True, category='table', type='px', value='auto'), table_margin_right=OptionsInfo(scss=True, category='table', type='px', value='auto'), table_background_color=OptionsInfo(scss=True, category='table', type='value', value='#FFFFFF'), table_additional_css=OptionsInfo(scss=False, category='table', type='values', value=[]), table_font_names=OptionsInfo(scss=False, category='table', type='values', value=['-apple-system', 'BlinkMacSystemFont', 'Segoe UI', 'Roboto', 'Oxygen', 'Ubuntu', 'Cantarell', 'Helvetica Neue', 'Fira Sans', 'Droid Sans', 'Arial', 'sans-serif']), table_font_size=OptionsInfo(scss=True, category='table', type='px', value='16px'), table_font_weight=OptionsInfo(scss=True, category='table', type='value', value='normal'), table_font_style=OptionsInfo(scss=True, category='table', type='value', value='normal'), table_font_color=OptionsInfo(scss=True, category='table', type='value', value='#333333'), table_font_color_light=OptionsInfo(scss=True, category='table', type='value', value='#FFFFFF'), table_border_top_include=OptionsInfo(scss=False, category='table', type='boolean', value=True), table_border_top_style=OptionsInfo(scss=True, category='table', type='value', value='solid'), table_border_top_width=OptionsInfo(scss=True, category='table', type='px', value='2px'), table_border_top_color=OptionsInfo(scss=True, category='table', type='value', value='#A8A8A8'), table_border_right_style=OptionsInfo(scss=True, category='table', type='value', value='none'), table_border_right_width=OptionsInfo(scss=True, category='table', type='px', value='2px'), table_border_right_color=OptionsInfo(scss=True, category='table', type='value', value='#D3D3D3'), table_border_bottom_include=OptionsInfo(scss=False, category='table', type='boolean', value=True), table_border_bottom_style=OptionsInfo(scss=True, category='table', type='value', value='solid'), table_border_bottom_width=OptionsInfo(scss=True, category='table', type='px', value='2px'), table_border_bottom_color=OptionsInfo(scss=True, category='table', type='value', value='#A8A8A8'), table_border_left_style=OptionsInfo(scss=True, category='table', type='value', value='none'), table_border_left_width=OptionsInfo(scss=True, category='table', type='px', value='2px'), table_border_left_color=OptionsInfo(scss=True, category='table', type='value', value='#D3D3D3'), heading_background_color=OptionsInfo(scss=True, category='heading', type='value', value=None), heading_align=OptionsInfo(scss=True, category='heading', type='value', value='center'), heading_title_font_size=OptionsInfo(scss=True, category='heading', type='px', value='125%'), heading_title_font_weight=OptionsInfo(scss=True, category='heading', type='value', value='initial'), heading_subtitle_font_size=OptionsInfo(scss=True, category='heading', type='px', value='85%'), heading_subtitle_font_weight=OptionsInfo(scss=True, category='heading', type='value', value='initial'), heading_padding=OptionsInfo(scss=True, category='heading', type='px', value='4px'), heading_padding_horizontal=OptionsInfo(scss=True, category='heading', type='px', value='5px'), heading_border_bottom_style=OptionsInfo(scss=True, category='heading', type='value', value='solid'), heading_border_bottom_width=OptionsInfo(scss=True, category='heading', type='px', value='2px'), heading_border_bottom_color=OptionsInfo(scss=True, category='heading', type='value', value='#D3D3D3'), heading_border_lr_style=OptionsInfo(scss=True, category='heading', type='value', value='none'), heading_border_lr_width=OptionsInfo(scss=True, category='heading', type='px', value='1px'), heading_border_lr_color=OptionsInfo(scss=True, category='heading', type='value', value='#D3D3D3'), column_labels_background_color=OptionsInfo(scss=True, category='column_labels', type='value', value=None), column_labels_font_size=OptionsInfo(scss=True, category='column_labels', type='px', value='100%'), column_labels_font_weight=OptionsInfo(scss=True, category='column_labels', type='value', value='normal'), column_labels_text_transform=OptionsInfo(scss=True, category='column_labels', type='value', value='inherit'), column_labels_padding=OptionsInfo(scss=True, category='column_labels', type='px', value='5px'), column_labels_padding_horizontal=OptionsInfo(scss=True, category='column_labels', type='px', value='5px'), column_labels_vlines_style=OptionsInfo(scss=True, category='table_body', type='value', value='none'), column_labels_vlines_width=OptionsInfo(scss=True, category='table_body', type='px', value='1px'), column_labels_vlines_color=OptionsInfo(scss=True, category='table_body', type='value', value='#D3D3D3'), column_labels_border_top_style=OptionsInfo(scss=True, category='column_labels', type='value', value='solid'), column_labels_border_top_width=OptionsInfo(scss=True, category='column_labels', type='px', value='2px'), column_labels_border_top_color=OptionsInfo(scss=True, category='column_labels', type='value', value='#D3D3D3'), column_labels_border_bottom_style=OptionsInfo(scss=True, category='column_labels', type='value', value='solid'), column_labels_border_bottom_width=OptionsInfo(scss=True, category='column_labels', type='px', value='2px'), column_labels_border_bottom_color=OptionsInfo(scss=True, category='column_labels', type='value', value='#D3D3D3'), column_labels_border_lr_style=OptionsInfo(scss=True, category='column_labels', type='value', value='none'), column_labels_border_lr_width=OptionsInfo(scss=True, category='column_labels', type='px', value='1px'), column_labels_border_lr_color=OptionsInfo(scss=True, category='column_labels', type='value', value='#D3D3D3'), column_labels_hidden=OptionsInfo(scss=False, category='column_labels', type='boolean', value=False), row_group_background_color=OptionsInfo(scss=True, category='row_group', type='value', value=None), row_group_font_size=OptionsInfo(scss=True, category='row_group', type='px', value='100%'), row_group_font_weight=OptionsInfo(scss=True, category='row_group', type='value', value='initial'), row_group_text_transform=OptionsInfo(scss=True, category='row_group', type='value', value='inherit'), row_group_padding=OptionsInfo(scss=True, category='row_group', type='px', value='8px'), row_group_padding_horizontal=OptionsInfo(scss=True, category='row_group', type='px', value='5px'), row_group_border_top_style=OptionsInfo(scss=True, category='row_group', type='value', value='solid'), row_group_border_top_width=OptionsInfo(scss=True, category='row_group', type='px', value='2px'), row_group_border_top_color=OptionsInfo(scss=True, category='row_group', type='value', value='#D3D3D3'), row_group_border_right_style=OptionsInfo(scss=True, category='row_group', type='value', value='none'), row_group_border_right_width=OptionsInfo(scss=True, category='row_group', type='px', value='1px'), row_group_border_right_color=OptionsInfo(scss=True, category='row_group', type='value', value='#D3D3D3'), row_group_border_bottom_style=OptionsInfo(scss=True, category='row_group', type='value', value='solid'), row_group_border_bottom_width=OptionsInfo(scss=True, category='row_group', type='px', value='2px'), row_group_border_bottom_color=OptionsInfo(scss=True, category='row_group', type='value', value='#D3D3D3'), row_group_border_left_style=OptionsInfo(scss=True, category='row_group', type='value', value='none'), row_group_border_left_width=OptionsInfo(scss=True, category='row_group', type='px', value='1px'), row_group_border_left_color=OptionsInfo(scss=True, category='row_group', type='value', value='#D3D3D3'), row_group_as_column=OptionsInfo(scss=False, category='row_group', type='boolean', value=False), table_body_hlines_style=OptionsInfo(scss=True, category='table_body', type='value', value='solid'), table_body_hlines_width=OptionsInfo(scss=True, category='table_body', type='px', value='1px'), table_body_hlines_color=OptionsInfo(scss=True, category='table_body', type='value', value='#D3D3D3'), table_body_vlines_style=OptionsInfo(scss=True, category='table_body', type='value', value='none'), table_body_vlines_width=OptionsInfo(scss=True, category='table_body', type='px', value='1px'), table_body_vlines_color=OptionsInfo(scss=True, category='table_body', type='value', value='#D3D3D3'), table_body_border_top_style=OptionsInfo(scss=True, category='table_body', type='value', value='solid'), table_body_border_top_width=OptionsInfo(scss=True, category='table_body', type='px', value='2px'), table_body_border_top_color=OptionsInfo(scss=True, category='table_body', type='value', value='#D3D3D3'), table_body_border_bottom_style=OptionsInfo(scss=True, category='table_body', type='value', value='solid'), table_body_border_bottom_width=OptionsInfo(scss=True, category='table_body', type='px', value='2px'), table_body_border_bottom_color=OptionsInfo(scss=True, category='table_body', type='value', value='#D3D3D3'), data_row_padding=OptionsInfo(scss=True, category='data_row', type='px', value='8px'), data_row_padding_horizontal=OptionsInfo(scss=True, category='data_row', type='px', value='5px'), stub_background_color=OptionsInfo(scss=True, category='stub', type='value', value=None), stub_font_size=OptionsInfo(scss=True, category='stub', type='px', value='100%'), stub_font_weight=OptionsInfo(scss=True, category='stub', type='value', value='initial'), stub_text_transform=OptionsInfo(scss=True, category='stub', type='value', value='inherit'), stub_border_style=OptionsInfo(scss=True, category='stub', type='value', value='solid'), stub_border_width=OptionsInfo(scss=True, category='stub', type='px', value='2px'), stub_border_color=OptionsInfo(scss=True, category='stub', type='value', value='#D3D3D3'), stub_row_group_background_color=OptionsInfo(scss=True, category='stub', type='value', value=None), stub_row_group_font_size=OptionsInfo(scss=True, category='stub', type='px', value='100%'), stub_row_group_font_weight=OptionsInfo(scss=True, category='stub', type='value', value='initial'), stub_row_group_text_transform=OptionsInfo(scss=True, category='stub', type='value', value='inherit'), stub_row_group_border_style=OptionsInfo(scss=True, category='stub', type='value', value='solid'), stub_row_group_border_width=OptionsInfo(scss=True, category='stub', type='px', value='2px'), stub_row_group_border_color=OptionsInfo(scss=True, category='stub', type='value', value='#D3D3D3'), source_notes_padding=OptionsInfo(scss=True, category='source_notes', type='px', value='4px'), source_notes_padding_horizontal=OptionsInfo(scss=True, category='source_notes', type='px', value='5px'), source_notes_background_color=OptionsInfo(scss=True, category='source_notes', type='value', value=None), source_notes_font_size=OptionsInfo(scss=True, category='source_notes', type='px', value='90%'), source_notes_border_bottom_style=OptionsInfo(scss=True, category='source_notes', type='value', value='none'), source_notes_border_bottom_width=OptionsInfo(scss=True, category='source_notes', type='px', value='2px'), source_notes_border_bottom_color=OptionsInfo(scss=True, category='source_notes', type='value', value='#D3D3D3'), source_notes_border_lr_style=OptionsInfo(scss=True, category='source_notes', type='value', value='none'), source_notes_border_lr_width=OptionsInfo(scss=True, category='source_notes', type='px', value='2px'), source_notes_border_lr_color=OptionsInfo(scss=True, category='source_notes', type='value', value='#D3D3D3'), source_notes_multiline=OptionsInfo(scss=False, category='source_notes', type='boolean', value=True), source_notes_sep=OptionsInfo(scss=False, category='source_notes', type='value', value=' '), row_striping_background_color=OptionsInfo(scss=True, category='row', type='value', value='rgba(128,128,128,0.05)'), row_striping_include_stub=OptionsInfo(scss=False, category='row', type='boolean', value=False), row_striping_include_table_body=OptionsInfo(scss=False, category='row', type='boolean', value=False), container_width=OptionsInfo(scss=False, category='container', type='px', value='auto'), container_height=OptionsInfo(scss=False, category='container', type='px', value='auto'), container_padding_x=OptionsInfo(scss=False, category='container', type='px', value='0px'), container_padding_y=OptionsInfo(scss=False, category='container', type='px', value='10px'), container_overflow_x=OptionsInfo(scss=False, category='container', type='overflow', value='auto'), container_overflow_y=OptionsInfo(scss=False, category='container', type='overflow', value='auto'), quarto_disable_processing=OptionsInfo(scss=False, category='quarto', type='logical', value=False), quarto_use_bootstrap=OptionsInfo(scss=False, category='quarto', type='logical', value=False)), _has_built=False)"
      ]
     },
     "execution_count": 24,
     "metadata": {},
     "output_type": "execute_result"
    }
   ],
   "source": [
    "avg_sku_price = grocery_lf.select(\n",
    "    ['week', 'sku_id', 'price', 'brand']\n",
    ").filter(\n",
    "    (pl.col('week') <= 52) & # pricing in the first year\n",
    "    (pl.col('brand') == 'Alpha') # Filter by Alpha brand \n",
    ").group_by('brand', 'sku_id').agg(\n",
    "    pl.col('price').cast(pl.Float64).mean()\n",
    ").drop('brand').sort(\n",
    "    pl.col('sku_id').cast(pl.Int8)\n",
    ")\n",
    "\n",
    "(\n",
    "    GT(avg_sku_price.collect(), rowname_col='sku_id') \n",
    "    .tab_header(title='Alpha - Average SKU Retail Prices')\n",
    "    .tab_stubhead(label=\"SKU IDs\")\n",
    "    .fmt_currency()\n",
    "    .data_color(\n",
    "        domain=[1, 15],\n",
    "        palette=['white', 'rebeccapurple']\n",
    "    )  \n",
    "    .cols_label(price='Average Price ($)')\n",
    ")"
   ]
  },
  {
   "cell_type": "code",
   "execution_count": 25,
   "metadata": {},
   "outputs": [
    {
     "data": {
      "text/html": [
       "<div><style>\n",
       ".dataframe > thead > tr,\n",
       ".dataframe > tbody > tr {\n",
       "  text-align: right;\n",
       "  white-space: pre-wrap;\n",
       "}\n",
       "</style>\n",
       "<small>shape: (9, 2)</small><table border=\"1\" class=\"dataframe\"><thead><tr><th>statistic</th><th>price</th></tr><tr><td>str</td><td>f64</td></tr></thead><tbody><tr><td>&quot;count&quot;</td><td>18.0</td></tr><tr><td>&quot;null_count&quot;</td><td>0.0</td></tr><tr><td>&quot;mean&quot;</td><td>4.042794</td></tr><tr><td>&quot;std&quot;</td><td>2.947076</td></tr><tr><td>&quot;min&quot;</td><td>1.84705</td></tr><tr><td>&quot;25%&quot;</td><td>2.582056</td></tr><tr><td>&quot;50%&quot;</td><td>2.99</td></tr><tr><td>&quot;75%&quot;</td><td>3.438107</td></tr><tr><td>&quot;max&quot;</td><td>12.43</td></tr></tbody></table></div>"
      ],
      "text/plain": [
       "shape: (9, 2)\n",
       "┌────────────┬──────────┐\n",
       "│ statistic  ┆ price    │\n",
       "│ ---        ┆ ---      │\n",
       "│ str        ┆ f64      │\n",
       "╞════════════╪══════════╡\n",
       "│ count      ┆ 18.0     │\n",
       "│ null_count ┆ 0.0      │\n",
       "│ mean       ┆ 4.042794 │\n",
       "│ std        ┆ 2.947076 │\n",
       "│ min        ┆ 1.84705  │\n",
       "│ 25%        ┆ 2.582056 │\n",
       "│ 50%        ┆ 2.99     │\n",
       "│ 75%        ┆ 3.438107 │\n",
       "│ max        ┆ 12.43    │\n",
       "└────────────┴──────────┘"
      ]
     },
     "execution_count": 25,
     "metadata": {},
     "output_type": "execute_result"
    }
   ],
   "source": [
    "avg_sku_price.drop(pl.col('sku_id')).describe()"
   ]
  },
  {
   "cell_type": "markdown",
   "metadata": {},
   "source": [
    "#### Garbage Collect"
   ]
  },
  {
   "cell_type": "code",
   "execution_count": 26,
   "metadata": {},
   "outputs": [
    {
     "data": {
      "text/plain": [
       "117"
      ]
     },
     "execution_count": 26,
     "metadata": {},
     "output_type": "execute_result"
    }
   ],
   "source": [
    "exceptions = ['grocery_lf', 'sku_lf', 'kiwi_lf', 'In', 'exceptions', 'active_variables']\n",
    "\n",
    "active_variables = [\n",
    "    var for var, value in globals().items()\n",
    "    if not var.startswith('_')   # Exclude variables that start with \"_\"\n",
    "    and var not in exceptions    # Exclude variables in the exceptions list\n",
    "    and isinstance(value, (pl.LazyFrame, pl.DataFrame, pl.Series, alt.Chart, alt.LayerChart, list, int, float, str, np.ndarray, np.int64, np.float32))  # Remove these types only\n",
    "]\n",
    "\n",
    "for var in active_variables:\n",
    "    del globals()[var]\n",
    "del active_variables, exceptions, var\n",
    "\n",
    "gc.collect()"
   ]
  },
  {
   "cell_type": "markdown",
   "metadata": {},
   "source": [
    "### Exploring Variation in Buyer Behaviour"
   ]
  },
  {
   "cell_type": "markdown",
   "metadata": {},
   "source": [
    "#### Panellist-Level Data Preparation"
   ]
  },
  {
   "cell_type": "markdown",
   "metadata": {},
   "source": [
    "<div style=\"max-width:600px;margin-left: auto; margin-right: auto;\">\n",
    "<img src=\"references\\Consumer-Panel-Data-Relationship.png\" width=\"600\"/>\n",
    "</div>"
   ]
  },
  {
   "cell_type": "code",
   "execution_count": 27,
   "metadata": {},
   "outputs": [],
   "source": [
    "def trans_summary(brand, lf, year):\n",
    "    \n",
    "    # Primary Step: Filter by Year 1 and Remove Unused Columns\n",
    "    filtered_lf = lf.filter(\n",
    "        (pl.col('week') <= (year * 52)) &\n",
    "        (pl.col('week') >= ((year - 1) * 52))\n",
    "    ).drop(\n",
    "        pl.col('week','sku_id')\n",
    "    )\n",
    "\n",
    "    # Intermediate Step: Group by trans_id, panel_id, and brand\n",
    "    group_trans = filtered_lf.drop(\n",
    "        pl.col('price', 'units')\n",
    "    ).group_by(\n",
    "        'trans_id', 'panel_id', 'brand'\n",
    "    ).n_unique()\n",
    "    \n",
    "    if brand == \"Category\":\n",
    "        # Panellist-level category transaction summary\n",
    "        summary = group_trans.group_by(\n",
    "            'panel_id'\n",
    "        ).n_unique()\n",
    "    else:\n",
    "        # Panellist-level brand transaction summary\n",
    "        summary = group_trans.filter(\n",
    "            pl.col('brand') == brand\n",
    "        ).group_by(\n",
    "            'panel_id'\n",
    "        ).n_unique()\n",
    "    \n",
    "    return summary.select(\n",
    "        pl.col('panel_id'),\n",
    "        pl.col('trans_id').alias('# of Purchases'),\n",
    "        pl.col('brand').alias('Brands Purchased')\n",
    "    )"
   ]
  },
  {
   "cell_type": "code",
   "execution_count": 28,
   "metadata": {},
   "outputs": [],
   "source": [
    "def trans_pivot(lf, year):\n",
    "    \n",
    "    # Primary Step: Filter by Year 1 and Remove Unused Columns\n",
    "    filtered_lf = lf.filter(\n",
    "        (pl.col('week') <= (year * 52)) &\n",
    "        (pl.col('week') >= ((year - 1) * 52))\n",
    "    ).drop(\n",
    "        pl.col('week','sku_id')\n",
    "    )\n",
    "\n",
    "    # Intermediate Step: Group by trans_id, panel_id, and brand\n",
    "    group_trans = filtered_lf.drop(\n",
    "        pl.col('price', 'units')\n",
    "    ).group_by(\n",
    "        'trans_id', 'panel_id', 'brand'\n",
    "    ).n_unique()\n",
    "    \n",
    "    summary = group_trans.collect().pivot(\n",
    "        on='brand',\n",
    "        index='panel_id',\n",
    "        values='panel_id',\n",
    "        aggregate_function=\"len\"\n",
    "        \n",
    "    ).join(\n",
    "        other=group_trans.group_by('panel_id').n_unique().drop('brand').collect(),\n",
    "        on='panel_id'\n",
    "    ).rename(\n",
    "        {'trans_id': 'Category'}\n",
    "    ).drop(\n",
    "        pl.col('panel_id')\n",
    "    )\n",
    "    \n",
    "    return summary"
   ]
  },
  {
   "cell_type": "code",
   "execution_count": 29,
   "metadata": {},
   "outputs": [],
   "source": [
    "def spend_summary(brand, lf, year):\n",
    "    \n",
    "    group_spend = lf.filter(\n",
    "        (pl.col('week') <= (year * 52)) &\n",
    "        (pl.col('week') >= ((year - 1) * 52))\n",
    "    ).drop(\n",
    "        pl.col('week','sku_id')\n",
    "    ).with_columns(\n",
    "        ((pl.col('units') * pl.col('price')).cast(pl.Float64)).alias('spend')\n",
    "    )\n",
    "    \n",
    "    if brand == \"Category\":\n",
    "        # Panellist-level category spend summary\n",
    "        summary = group_spend.drop(\n",
    "            pl.col('units', 'price', 'brand')\n",
    "        ).group_by(\n",
    "            'panel_id'\n",
    "        ).agg(\n",
    "            pl.col('spend').sum()\n",
    "        )\n",
    "    else:\n",
    "        # Panellist-level brand spend summary\n",
    "        summary = group_spend.drop(\n",
    "            pl.col('units', 'price')\n",
    "        ).group_by(\n",
    "            'panel_id', 'brand'\n",
    "        ).agg(\n",
    "            pl.col('spend').sum()\n",
    "        ).filter(\n",
    "            pl.col('brand') == brand\n",
    "        ).drop('brand')\n",
    "        \n",
    "    return summary"
   ]
  },
  {
   "cell_type": "code",
   "execution_count": 30,
   "metadata": {},
   "outputs": [],
   "source": [
    "def vol_summary(brand, lf, year):\n",
    "    \n",
    "    group_vol = lf.filter(\n",
    "        (pl.col('week') <= (year * 52)) &\n",
    "        (pl.col('week') >= ((year - 1) * 52))\n",
    "    ).join(\n",
    "        other=sku_lf,\n",
    "        left_on='sku_id',\n",
    "        right_on='sku_id'\n",
    "    ).drop(\n",
    "        pl.col('week','sku_id')\n",
    "    ).with_columns(\n",
    "        # volume column that is the product of weight of each SKU and the units of SKU sold\n",
    "        (((pl.col('units') * pl.col('weight'))/1000).cast(pl.Float64)).alias('volume') # # weight from grams to kilograms\n",
    "    ).drop(\n",
    "        pl.col('units', 'price', 'weight')\n",
    "    )\n",
    "    \n",
    "    if brand == \"Category\":\n",
    "        # Panellist-level category volume sales summary\n",
    "        summary = group_vol.drop(\n",
    "            pl.col('brand')\n",
    "        ).group_by(\n",
    "            'panel_id'\n",
    "        ).agg(\n",
    "            pl.col('volume').sum()\n",
    "        )\n",
    "    else:\n",
    "        # Panellist-level brand volume sales summary\n",
    "        summary = group_vol.group_by(\n",
    "            'panel_id', 'brand'\n",
    "        ).agg(\n",
    "            pl.col('volume').sum()\n",
    "        ).filter(\n",
    "            pl.col('brand') == brand\n",
    "        ).drop('brand')\n",
    "        \n",
    "    return summary"
   ]
  },
  {
   "cell_type": "markdown",
   "metadata": {},
   "source": [
    "#### Examining Purchase Frequency"
   ]
  },
  {
   "cell_type": "code",
   "execution_count": 31,
   "metadata": {},
   "outputs": [
    {
     "data": {
      "text/html": [
       "<div id=\"gjkbtigwab\" style=\"padding-left:0px;padding-right:0px;padding-top:10px;padding-bottom:10px;overflow-x:auto;overflow-y:auto;width:auto;height:auto;\">\n",
       "<style>\n",
       "#gjkbtigwab table {\n",
       "          font-family: -apple-system, BlinkMacSystemFont, 'Segoe UI', Roboto, Oxygen, Ubuntu, Cantarell, 'Helvetica Neue', 'Fira Sans', 'Droid Sans', Arial, sans-serif;\n",
       "          -webkit-font-smoothing: antialiased;\n",
       "          -moz-osx-font-smoothing: grayscale;\n",
       "        }\n",
       "\n",
       "#gjkbtigwab thead, tbody, tfoot, tr, td, th { border-style: none !important; }\n",
       " tr { background-color: transparent !important; }\n",
       "#gjkbtigwab p { margin: 0 !important; padding: 0 !important; }\n",
       " #gjkbtigwab .gt_table { display: table !important; border-collapse: collapse !important; line-height: normal !important; margin-left: auto !important; margin-right: auto !important; color: #333333 !important; font-size: 16px !important; font-weight: normal !important; font-style: normal !important; background-color: #FFFFFF !important; width: auto !important; border-top-style: solid !important; border-top-width: 2px !important; border-top-color: #A8A8A8 !important; border-right-style: none !important; border-right-width: 2px !important; border-right-color: #D3D3D3 !important; border-bottom-style: solid !important; border-bottom-width: 2px !important; border-bottom-color: #A8A8A8 !important; border-left-style: none !important; border-left-width: 2px !important; border-left-color: #D3D3D3 !important; }\n",
       " #gjkbtigwab .gt_caption { padding-top: 4px !important; padding-bottom: 4px !important; }\n",
       " #gjkbtigwab .gt_title { color: #333333 !important; font-size: 125% !important; font-weight: initial !important; padding-top: 4px !important; padding-bottom: 4px !important; padding-left: 5px !important; padding-right: 5px !important; border-bottom-color: #FFFFFF !important; border-bottom-width: 0 !important; }\n",
       " #gjkbtigwab .gt_subtitle { color: #333333 !important; font-size: 85% !important; font-weight: initial !important; padding-top: 3px !important; padding-bottom: 5px !important; padding-left: 5px !important; padding-right: 5px !important; border-top-color: #FFFFFF !important; border-top-width: 0 !important; }\n",
       " #gjkbtigwab .gt_heading { background-color: #FFFFFF !important; text-align: center !important; border-bottom-color: #FFFFFF !important; border-left-style: none !important; border-left-width: 1px !important; border-left-color: #D3D3D3 !important; border-right-style: none !important; border-right-width: 1px !important; border-right-color: #D3D3D3 !important; }\n",
       " #gjkbtigwab .gt_bottom_border { border-bottom-style: solid !important; border-bottom-width: 2px !important; border-bottom-color: #D3D3D3 !important; }\n",
       " #gjkbtigwab .gt_col_headings { border-top-style: solid !important; border-top-width: 2px !important; border-top-color: #D3D3D3 !important; border-bottom-style: solid !important; border-bottom-width: 2px !important; border-bottom-color: #D3D3D3 !important; border-left-style: none !important; border-left-width: 1px !important; border-left-color: #D3D3D3 !important; border-right-style: none !important; border-right-width: 1px !important; border-right-color: #D3D3D3 !important; }\n",
       " #gjkbtigwab .gt_col_heading { color: #333333 !important; background-color: #FFFFFF !important; font-size: 100% !important; font-weight: normal !important; text-transform: inherit !important; border-left-style: none !important; border-left-width: 1px !important; border-left-color: #D3D3D3 !important; border-right-style: none !important; border-right-width: 1px !important; border-right-color: #D3D3D3 !important; vertical-align: bottom !important; padding-top: 5px !important; padding-bottom: 5px !important; padding-left: 5px !important; padding-right: 5px !important; overflow-x: hidden !important; }\n",
       " #gjkbtigwab .gt_column_spanner_outer { color: #333333 !important; background-color: #FFFFFF !important; font-size: 100% !important; font-weight: normal !important; text-transform: inherit !important; padding-top: 0 !important; padding-bottom: 0 !important; padding-left: 4px !important; padding-right: 4px !important; }\n",
       " #gjkbtigwab .gt_column_spanner_outer:first-child { padding-left: 0 !important; }\n",
       " #gjkbtigwab .gt_column_spanner_outer:last-child { padding-right: 0 !important; }\n",
       " #gjkbtigwab .gt_column_spanner { border-bottom-style: solid !important; border-bottom-width: 2px !important; border-bottom-color: #D3D3D3 !important; vertical-align: bottom !important; padding-top: 5px !important; padding-bottom: 5px !important; overflow-x: hidden !important; display: inline-block !important; width: 100% !important; }\n",
       " #gjkbtigwab .gt_spanner_row { border-bottom-style: hidden !important; }\n",
       " #gjkbtigwab .gt_group_heading { padding-top: 8px !important; padding-bottom: 8px !important; padding-left: 5px !important; padding-right: 5px !important; color: #333333 !important; background-color: #FFFFFF !important; font-size: 100% !important; font-weight: initial !important; text-transform: inherit !important; border-top-style: solid !important; border-top-width: 2px !important; border-top-color: #D3D3D3 !important; border-bottom-style: solid !important; border-bottom-width: 2px !important; border-bottom-color: #D3D3D3 !important; border-left-style: none !important; border-left-width: 1px !important; border-left-color: #D3D3D3 !important; border-right-style: none !important; border-right-width: 1px !important; border-right-color: #D3D3D3 !important; vertical-align: middle !important; text-align: left !important; }\n",
       " #gjkbtigwab .gt_empty_group_heading { padding: 0.5px !important; color: #333333 !important; background-color: #FFFFFF !important; font-size: 100% !important; font-weight: initial !important; border-top-style: solid !important; border-top-width: 2px !important; border-top-color: #D3D3D3 !important; border-bottom-style: solid !important; border-bottom-width: 2px !important; border-bottom-color: #D3D3D3 !important; vertical-align: middle !important; }\n",
       " #gjkbtigwab .gt_from_md> :first-child { margin-top: 0 !important; }\n",
       " #gjkbtigwab .gt_from_md> :last-child { margin-bottom: 0 !important; }\n",
       " #gjkbtigwab .gt_row { padding-top: 8px !important; padding-bottom: 8px !important; padding-left: 5px !important; padding-right: 5px !important; margin: 10px !important; border-top-style: solid !important; border-top-width: 1px !important; border-top-color: #D3D3D3 !important; border-left-style: none !important; border-left-width: 1px !important; border-left-color: #D3D3D3 !important; border-right-style: none !important; border-right-width: 1px !important; border-right-color: #D3D3D3 !important; vertical-align: middle !important; overflow-x: hidden !important; }\n",
       " #gjkbtigwab .gt_stub { color: #333333 !important; background-color: #FFFFFF !important; font-size: 100% !important; font-weight: initial !important; text-transform: inherit !important; border-right-style: solid !important; border-right-width: 2px !important; border-right-color: #D3D3D3 !important; padding-left: 5px !important; padding-right: 5px !important; }\n",
       " #gjkbtigwab .gt_stub_row_group { color: #333333 !important; background-color: #FFFFFF !important; font-size: 100% !important; font-weight: initial !important; text-transform: inherit !important; border-right-style: solid !important; border-right-width: 2px !important; border-right-color: #D3D3D3 !important; padding-left: 5px !important; padding-right: 5px !important; vertical-align: top !important; }\n",
       " #gjkbtigwab .gt_row_group_first td { border-top-width: 2px !important; }\n",
       " #gjkbtigwab .gt_row_group_first th { border-top-width: 2px !important; }\n",
       " #gjkbtigwab .gt_striped { background-color: rgba(128,128,128,0.05) !important; }\n",
       " #gjkbtigwab .gt_table_body { border-top-style: solid !important; border-top-width: 2px !important; border-top-color: #D3D3D3 !important; border-bottom-style: solid !important; border-bottom-width: 2px !important; border-bottom-color: #D3D3D3 !important; }\n",
       " #gjkbtigwab .gt_sourcenotes { color: #333333 !important; background-color: #FFFFFF !important; border-bottom-style: none !important; border-bottom-width: 2px !important; border-bottom-color: #D3D3D3 !important; border-left-style: none !important; border-left-width: 2px !important; border-left-color: #D3D3D3 !important; border-right-style: none !important; border-right-width: 2px !important; border-right-color: #D3D3D3 !important; }\n",
       " #gjkbtigwab .gt_sourcenote { font-size: 90% !important; padding-top: 4px !important; padding-bottom: 4px !important; padding-left: 5px !important; padding-right: 5px !important; text-align: left !important; }\n",
       " #gjkbtigwab .gt_left { text-align: left !important; }\n",
       " #gjkbtigwab .gt_center { text-align: center !important; }\n",
       " #gjkbtigwab .gt_right { text-align: right !important; font-variant-numeric: tabular-nums !important; }\n",
       " #gjkbtigwab .gt_font_normal { font-weight: normal !important; }\n",
       " #gjkbtigwab .gt_font_bold { font-weight: bold !important; }\n",
       " #gjkbtigwab .gt_font_italic { font-style: italic !important; }\n",
       " #gjkbtigwab .gt_super { font-size: 65% !important; }\n",
       " #gjkbtigwab .gt_footnote_marks { font-size: 75% !important; vertical-align: 0.4em !important; position: initial !important; }\n",
       " #gjkbtigwab .gt_asterisk { font-size: 100% !important; vertical-align: 0 !important; }\n",
       " \n",
       "</style>\n",
       "<table class=\"gt_table\" data-quarto-disable-processing=\"false\" data-quarto-bootstrap=\"false\">\n",
       "<thead>\n",
       "\n",
       "  <tr class=\"gt_heading\">\n",
       "    <td colspan=\"2\" class=\"gt_heading gt_title gt_font_normal\">Number of Buyers in Year 1</td>\n",
       "  </tr>\n",
       "<tr class=\"gt_col_headings\">\n",
       "  <th class=\"gt_col_heading gt_columns_bottom_border gt_left\" rowspan=\"1\" colspan=\"1\" scope=\"col\" id=\"Brands/Category\">Brands/Category</th>\n",
       "  <th class=\"gt_col_heading gt_columns_bottom_border gt_center\" rowspan=\"1\" colspan=\"1\" scope=\"col\" id=\"# Of Transactions\"># Of Transactions</th>\n",
       "</tr>\n",
       "</thead>\n",
       "<tbody class=\"gt_table_body\">\n",
       "  <tr>\n",
       "    <th style=\"color: #000000; background-color: #808080;\" class=\"gt_row gt_left gt_stub\">Alpha</th>\n",
       "    <td style=\"color: #FFFFFF; background-color: #7a4da6;\" class=\"gt_row gt_center\">2,624</td>\n",
       "  </tr>\n",
       "  <tr>\n",
       "    <th style=\"color: #000000; background-color: #808080;\" class=\"gt_row gt_left gt_stub\">Bravo</th>\n",
       "    <td style=\"color: #FFFFFF; background-color: #7d52a8;\" class=\"gt_row gt_center\">2,562</td>\n",
       "  </tr>\n",
       "  <tr>\n",
       "    <th style=\"color: #000000; background-color: #808080;\" class=\"gt_row gt_left gt_stub\">Charlie</th>\n",
       "    <td style=\"color: #000000; background-color: #d9cde6;\" class=\"gt_row gt_center\">813</td>\n",
       "  </tr>\n",
       "  <tr>\n",
       "    <th style=\"color: #000000; background-color: #808080;\" class=\"gt_row gt_left gt_stub\">Delta</th>\n",
       "    <td style=\"color: #000000; background-color: #f0ebf5;\" class=\"gt_row gt_center\">380</td>\n",
       "  </tr>\n",
       "  <tr>\n",
       "    <th style=\"color: #000000; background-color: #808080;\" class=\"gt_row gt_left gt_stub\">Other</th>\n",
       "    <td style=\"color: #000000; background-color: #fbfafc;\" class=\"gt_row gt_center\">176</td>\n",
       "  </tr>\n",
       "  <tr>\n",
       "    <th class=\"gt_row gt_left gt_stub\">Category</th>\n",
       "    <td class=\"gt_row gt_center\">4,574</td>\n",
       "  </tr>\n",
       "</tbody>\n",
       "\n",
       "\n",
       "</table>\n",
       "\n",
       "</div>\n",
       "        "
      ],
      "text/plain": [
       "GT(_tbl_data=shape: (6, 2)\n",
       "┌──────────┬────────┐\n",
       "│ brand    ┆ buyers │\n",
       "│ ---      ┆ ---    │\n",
       "│ str      ┆ u32    │\n",
       "╞══════════╪════════╡\n",
       "│ Alpha    ┆ 2624   │\n",
       "│ Bravo    ┆ 2562   │\n",
       "│ Charlie  ┆ 813    │\n",
       "│ Delta    ┆ 380    │\n",
       "│ Other    ┆ 176    │\n",
       "│ Category ┆ 4574   │\n",
       "└──────────┴────────┘, _body=<great_tables._gt_data.Body object at 0x000001EFE4179490>, _boxhead=Boxhead([ColInfo(var='brand', type=<ColInfoTypeEnum.stub: 2>, column_label='brand', column_align='left', column_width=None), ColInfo(var='buyers', type=<ColInfoTypeEnum.default: 1>, column_label='# Of Transactions', column_align='center', column_width=None)]), _stub=<great_tables._gt_data.Stub object at 0x000001EFEBF9A000>, _spanners=Spanners([]), _heading=Heading(title='Number of Buyers in Year 1', subtitle=None, preheader=None), _stubhead='Brands/Category', _source_notes=[], _footnotes=[], _styles=[StyleInfo(locname=LocBody(columns='brand', rows=[0]), grpname=None, colname='brand', rownum=0, colnum=None, styles=[CellStyleText(color='#000000', font=None, size=None, align=None, v_align=None, style=None, weight=None, stretch=None, decorate=None, transform=None, whitespace=None), CellStyleFill(color='#808080')]), StyleInfo(locname=LocBody(columns='brand', rows=[1]), grpname=None, colname='brand', rownum=1, colnum=None, styles=[CellStyleText(color='#000000', font=None, size=None, align=None, v_align=None, style=None, weight=None, stretch=None, decorate=None, transform=None, whitespace=None), CellStyleFill(color='#808080')]), StyleInfo(locname=LocBody(columns='brand', rows=[2]), grpname=None, colname='brand', rownum=2, colnum=None, styles=[CellStyleText(color='#000000', font=None, size=None, align=None, v_align=None, style=None, weight=None, stretch=None, decorate=None, transform=None, whitespace=None), CellStyleFill(color='#808080')]), StyleInfo(locname=LocBody(columns='brand', rows=[3]), grpname=None, colname='brand', rownum=3, colnum=None, styles=[CellStyleText(color='#000000', font=None, size=None, align=None, v_align=None, style=None, weight=None, stretch=None, decorate=None, transform=None, whitespace=None), CellStyleFill(color='#808080')]), StyleInfo(locname=LocBody(columns='brand', rows=[4]), grpname=None, colname='brand', rownum=4, colnum=None, styles=[CellStyleText(color='#000000', font=None, size=None, align=None, v_align=None, style=None, weight=None, stretch=None, decorate=None, transform=None, whitespace=None), CellStyleFill(color='#808080')]), StyleInfo(locname=LocBody(columns='buyers', rows=[0]), grpname=None, colname='buyers', rownum=0, colnum=None, styles=[CellStyleText(color='#FFFFFF', font=None, size=None, align=None, v_align=None, style=None, weight=None, stretch=None, decorate=None, transform=None, whitespace=None), CellStyleFill(color='#7a4da6')]), StyleInfo(locname=LocBody(columns='buyers', rows=[1]), grpname=None, colname='buyers', rownum=1, colnum=None, styles=[CellStyleText(color='#FFFFFF', font=None, size=None, align=None, v_align=None, style=None, weight=None, stretch=None, decorate=None, transform=None, whitespace=None), CellStyleFill(color='#7d52a8')]), StyleInfo(locname=LocBody(columns='buyers', rows=[2]), grpname=None, colname='buyers', rownum=2, colnum=None, styles=[CellStyleText(color='#000000', font=None, size=None, align=None, v_align=None, style=None, weight=None, stretch=None, decorate=None, transform=None, whitespace=None), CellStyleFill(color='#d9cde6')]), StyleInfo(locname=LocBody(columns='buyers', rows=[3]), grpname=None, colname='buyers', rownum=3, colnum=None, styles=[CellStyleText(color='#000000', font=None, size=None, align=None, v_align=None, style=None, weight=None, stretch=None, decorate=None, transform=None, whitespace=None), CellStyleFill(color='#f0ebf5')]), StyleInfo(locname=LocBody(columns='buyers', rows=[4]), grpname=None, colname='buyers', rownum=4, colnum=None, styles=[CellStyleText(color='#000000', font=None, size=None, align=None, v_align=None, style=None, weight=None, stretch=None, decorate=None, transform=None, whitespace=None), CellStyleFill(color='#fbfafc')])], _locale=<great_tables._gt_data.Locale object at 0x000001EFEBFEF980>, _formats=[<great_tables._gt_data.FormatInfo object at 0x000001EFEBFECC20>], _substitutions=[], _options=Options(table_id=OptionsInfo(scss=False, category='table', type='value', value=None), table_caption=OptionsInfo(scss=False, category='table', type='value', value=None), table_width=OptionsInfo(scss=True, category='table', type='px', value='auto'), table_layout=OptionsInfo(scss=True, category='table', type='value', value='fixed'), table_margin_left=OptionsInfo(scss=True, category='table', type='px', value='auto'), table_margin_right=OptionsInfo(scss=True, category='table', type='px', value='auto'), table_background_color=OptionsInfo(scss=True, category='table', type='value', value='#FFFFFF'), table_additional_css=OptionsInfo(scss=False, category='table', type='values', value=[]), table_font_names=OptionsInfo(scss=False, category='table', type='values', value=['-apple-system', 'BlinkMacSystemFont', 'Segoe UI', 'Roboto', 'Oxygen', 'Ubuntu', 'Cantarell', 'Helvetica Neue', 'Fira Sans', 'Droid Sans', 'Arial', 'sans-serif']), table_font_size=OptionsInfo(scss=True, category='table', type='px', value='16px'), table_font_weight=OptionsInfo(scss=True, category='table', type='value', value='normal'), table_font_style=OptionsInfo(scss=True, category='table', type='value', value='normal'), table_font_color=OptionsInfo(scss=True, category='table', type='value', value='#333333'), table_font_color_light=OptionsInfo(scss=True, category='table', type='value', value='#FFFFFF'), table_border_top_include=OptionsInfo(scss=False, category='table', type='boolean', value=True), table_border_top_style=OptionsInfo(scss=True, category='table', type='value', value='solid'), table_border_top_width=OptionsInfo(scss=True, category='table', type='px', value='2px'), table_border_top_color=OptionsInfo(scss=True, category='table', type='value', value='#A8A8A8'), table_border_right_style=OptionsInfo(scss=True, category='table', type='value', value='none'), table_border_right_width=OptionsInfo(scss=True, category='table', type='px', value='2px'), table_border_right_color=OptionsInfo(scss=True, category='table', type='value', value='#D3D3D3'), table_border_bottom_include=OptionsInfo(scss=False, category='table', type='boolean', value=True), table_border_bottom_style=OptionsInfo(scss=True, category='table', type='value', value='solid'), table_border_bottom_width=OptionsInfo(scss=True, category='table', type='px', value='2px'), table_border_bottom_color=OptionsInfo(scss=True, category='table', type='value', value='#A8A8A8'), table_border_left_style=OptionsInfo(scss=True, category='table', type='value', value='none'), table_border_left_width=OptionsInfo(scss=True, category='table', type='px', value='2px'), table_border_left_color=OptionsInfo(scss=True, category='table', type='value', value='#D3D3D3'), heading_background_color=OptionsInfo(scss=True, category='heading', type='value', value=None), heading_align=OptionsInfo(scss=True, category='heading', type='value', value='center'), heading_title_font_size=OptionsInfo(scss=True, category='heading', type='px', value='125%'), heading_title_font_weight=OptionsInfo(scss=True, category='heading', type='value', value='initial'), heading_subtitle_font_size=OptionsInfo(scss=True, category='heading', type='px', value='85%'), heading_subtitle_font_weight=OptionsInfo(scss=True, category='heading', type='value', value='initial'), heading_padding=OptionsInfo(scss=True, category='heading', type='px', value='4px'), heading_padding_horizontal=OptionsInfo(scss=True, category='heading', type='px', value='5px'), heading_border_bottom_style=OptionsInfo(scss=True, category='heading', type='value', value='solid'), heading_border_bottom_width=OptionsInfo(scss=True, category='heading', type='px', value='2px'), heading_border_bottom_color=OptionsInfo(scss=True, category='heading', type='value', value='#D3D3D3'), heading_border_lr_style=OptionsInfo(scss=True, category='heading', type='value', value='none'), heading_border_lr_width=OptionsInfo(scss=True, category='heading', type='px', value='1px'), heading_border_lr_color=OptionsInfo(scss=True, category='heading', type='value', value='#D3D3D3'), column_labels_background_color=OptionsInfo(scss=True, category='column_labels', type='value', value=None), column_labels_font_size=OptionsInfo(scss=True, category='column_labels', type='px', value='100%'), column_labels_font_weight=OptionsInfo(scss=True, category='column_labels', type='value', value='normal'), column_labels_text_transform=OptionsInfo(scss=True, category='column_labels', type='value', value='inherit'), column_labels_padding=OptionsInfo(scss=True, category='column_labels', type='px', value='5px'), column_labels_padding_horizontal=OptionsInfo(scss=True, category='column_labels', type='px', value='5px'), column_labels_vlines_style=OptionsInfo(scss=True, category='table_body', type='value', value='none'), column_labels_vlines_width=OptionsInfo(scss=True, category='table_body', type='px', value='1px'), column_labels_vlines_color=OptionsInfo(scss=True, category='table_body', type='value', value='#D3D3D3'), column_labels_border_top_style=OptionsInfo(scss=True, category='column_labels', type='value', value='solid'), column_labels_border_top_width=OptionsInfo(scss=True, category='column_labels', type='px', value='2px'), column_labels_border_top_color=OptionsInfo(scss=True, category='column_labels', type='value', value='#D3D3D3'), column_labels_border_bottom_style=OptionsInfo(scss=True, category='column_labels', type='value', value='solid'), column_labels_border_bottom_width=OptionsInfo(scss=True, category='column_labels', type='px', value='2px'), column_labels_border_bottom_color=OptionsInfo(scss=True, category='column_labels', type='value', value='#D3D3D3'), column_labels_border_lr_style=OptionsInfo(scss=True, category='column_labels', type='value', value='none'), column_labels_border_lr_width=OptionsInfo(scss=True, category='column_labels', type='px', value='1px'), column_labels_border_lr_color=OptionsInfo(scss=True, category='column_labels', type='value', value='#D3D3D3'), column_labels_hidden=OptionsInfo(scss=False, category='column_labels', type='boolean', value=False), row_group_background_color=OptionsInfo(scss=True, category='row_group', type='value', value=None), row_group_font_size=OptionsInfo(scss=True, category='row_group', type='px', value='100%'), row_group_font_weight=OptionsInfo(scss=True, category='row_group', type='value', value='initial'), row_group_text_transform=OptionsInfo(scss=True, category='row_group', type='value', value='inherit'), row_group_padding=OptionsInfo(scss=True, category='row_group', type='px', value='8px'), row_group_padding_horizontal=OptionsInfo(scss=True, category='row_group', type='px', value='5px'), row_group_border_top_style=OptionsInfo(scss=True, category='row_group', type='value', value='solid'), row_group_border_top_width=OptionsInfo(scss=True, category='row_group', type='px', value='2px'), row_group_border_top_color=OptionsInfo(scss=True, category='row_group', type='value', value='#D3D3D3'), row_group_border_right_style=OptionsInfo(scss=True, category='row_group', type='value', value='none'), row_group_border_right_width=OptionsInfo(scss=True, category='row_group', type='px', value='1px'), row_group_border_right_color=OptionsInfo(scss=True, category='row_group', type='value', value='#D3D3D3'), row_group_border_bottom_style=OptionsInfo(scss=True, category='row_group', type='value', value='solid'), row_group_border_bottom_width=OptionsInfo(scss=True, category='row_group', type='px', value='2px'), row_group_border_bottom_color=OptionsInfo(scss=True, category='row_group', type='value', value='#D3D3D3'), row_group_border_left_style=OptionsInfo(scss=True, category='row_group', type='value', value='none'), row_group_border_left_width=OptionsInfo(scss=True, category='row_group', type='px', value='1px'), row_group_border_left_color=OptionsInfo(scss=True, category='row_group', type='value', value='#D3D3D3'), row_group_as_column=OptionsInfo(scss=False, category='row_group', type='boolean', value=False), table_body_hlines_style=OptionsInfo(scss=True, category='table_body', type='value', value='solid'), table_body_hlines_width=OptionsInfo(scss=True, category='table_body', type='px', value='1px'), table_body_hlines_color=OptionsInfo(scss=True, category='table_body', type='value', value='#D3D3D3'), table_body_vlines_style=OptionsInfo(scss=True, category='table_body', type='value', value='none'), table_body_vlines_width=OptionsInfo(scss=True, category='table_body', type='px', value='1px'), table_body_vlines_color=OptionsInfo(scss=True, category='table_body', type='value', value='#D3D3D3'), table_body_border_top_style=OptionsInfo(scss=True, category='table_body', type='value', value='solid'), table_body_border_top_width=OptionsInfo(scss=True, category='table_body', type='px', value='2px'), table_body_border_top_color=OptionsInfo(scss=True, category='table_body', type='value', value='#D3D3D3'), table_body_border_bottom_style=OptionsInfo(scss=True, category='table_body', type='value', value='solid'), table_body_border_bottom_width=OptionsInfo(scss=True, category='table_body', type='px', value='2px'), table_body_border_bottom_color=OptionsInfo(scss=True, category='table_body', type='value', value='#D3D3D3'), data_row_padding=OptionsInfo(scss=True, category='data_row', type='px', value='8px'), data_row_padding_horizontal=OptionsInfo(scss=True, category='data_row', type='px', value='5px'), stub_background_color=OptionsInfo(scss=True, category='stub', type='value', value=None), stub_font_size=OptionsInfo(scss=True, category='stub', type='px', value='100%'), stub_font_weight=OptionsInfo(scss=True, category='stub', type='value', value='initial'), stub_text_transform=OptionsInfo(scss=True, category='stub', type='value', value='inherit'), stub_border_style=OptionsInfo(scss=True, category='stub', type='value', value='solid'), stub_border_width=OptionsInfo(scss=True, category='stub', type='px', value='2px'), stub_border_color=OptionsInfo(scss=True, category='stub', type='value', value='#D3D3D3'), stub_row_group_background_color=OptionsInfo(scss=True, category='stub', type='value', value=None), stub_row_group_font_size=OptionsInfo(scss=True, category='stub', type='px', value='100%'), stub_row_group_font_weight=OptionsInfo(scss=True, category='stub', type='value', value='initial'), stub_row_group_text_transform=OptionsInfo(scss=True, category='stub', type='value', value='inherit'), stub_row_group_border_style=OptionsInfo(scss=True, category='stub', type='value', value='solid'), stub_row_group_border_width=OptionsInfo(scss=True, category='stub', type='px', value='2px'), stub_row_group_border_color=OptionsInfo(scss=True, category='stub', type='value', value='#D3D3D3'), source_notes_padding=OptionsInfo(scss=True, category='source_notes', type='px', value='4px'), source_notes_padding_horizontal=OptionsInfo(scss=True, category='source_notes', type='px', value='5px'), source_notes_background_color=OptionsInfo(scss=True, category='source_notes', type='value', value=None), source_notes_font_size=OptionsInfo(scss=True, category='source_notes', type='px', value='90%'), source_notes_border_bottom_style=OptionsInfo(scss=True, category='source_notes', type='value', value='none'), source_notes_border_bottom_width=OptionsInfo(scss=True, category='source_notes', type='px', value='2px'), source_notes_border_bottom_color=OptionsInfo(scss=True, category='source_notes', type='value', value='#D3D3D3'), source_notes_border_lr_style=OptionsInfo(scss=True, category='source_notes', type='value', value='none'), source_notes_border_lr_width=OptionsInfo(scss=True, category='source_notes', type='px', value='2px'), source_notes_border_lr_color=OptionsInfo(scss=True, category='source_notes', type='value', value='#D3D3D3'), source_notes_multiline=OptionsInfo(scss=False, category='source_notes', type='boolean', value=True), source_notes_sep=OptionsInfo(scss=False, category='source_notes', type='value', value=' '), row_striping_background_color=OptionsInfo(scss=True, category='row', type='value', value='rgba(128,128,128,0.05)'), row_striping_include_stub=OptionsInfo(scss=False, category='row', type='boolean', value=False), row_striping_include_table_body=OptionsInfo(scss=False, category='row', type='boolean', value=False), container_width=OptionsInfo(scss=False, category='container', type='px', value='auto'), container_height=OptionsInfo(scss=False, category='container', type='px', value='auto'), container_padding_x=OptionsInfo(scss=False, category='container', type='px', value='0px'), container_padding_y=OptionsInfo(scss=False, category='container', type='px', value='10px'), container_overflow_x=OptionsInfo(scss=False, category='container', type='overflow', value='auto'), container_overflow_y=OptionsInfo(scss=False, category='container', type='overflow', value='auto'), quarto_disable_processing=OptionsInfo(scss=False, category='quarto', type='logical', value=False), quarto_use_bootstrap=OptionsInfo(scss=False, category='quarto', type='logical', value=False)), _has_built=False)"
      ]
     },
     "execution_count": 31,
     "metadata": {},
     "output_type": "execute_result"
    }
   ],
   "source": [
    "buyers = trans_pivot(grocery_lf, 1).count().select(\n",
    "    'Alpha', 'Bravo', 'Charlie', 'Delta', 'Other', 'Category'\n",
    ").unpivot(\n",
    "    variable_name='brand',\n",
    "    value_name='buyers'\n",
    ")\n",
    "\n",
    "(\n",
    "    GT(buyers, rowname_col='brand')\n",
    "    .tab_header(title='Number of Buyers in Year 1')\n",
    "    .tab_stubhead(label=\"Brands/Category\")\n",
    "    .fmt_integer()\n",
    "    .data_color(\n",
    "        rows=['Alpha', 'Bravo', 'Charlie', 'Delta', 'Other'],\n",
    "        domain=[100, 3_000],\n",
    "        palette=['white', 'rebeccapurple']\n",
    "    )  \n",
    "    .cols_label(buyers='# Of Transactions')\n",
    ")"
   ]
  },
  {
   "cell_type": "code",
   "execution_count": 32,
   "metadata": {},
   "outputs": [
    {
     "data": {
      "text/html": [
       "<div id=\"gsqpjubgft\" style=\"padding-left:0px;padding-right:0px;padding-top:10px;padding-bottom:10px;overflow-x:auto;overflow-y:auto;width:auto;height:auto;\">\n",
       "<style>\n",
       "#gsqpjubgft table {\n",
       "          font-family: -apple-system, BlinkMacSystemFont, 'Segoe UI', Roboto, Oxygen, Ubuntu, Cantarell, 'Helvetica Neue', 'Fira Sans', 'Droid Sans', Arial, sans-serif;\n",
       "          -webkit-font-smoothing: antialiased;\n",
       "          -moz-osx-font-smoothing: grayscale;\n",
       "        }\n",
       "\n",
       "#gsqpjubgft thead, tbody, tfoot, tr, td, th { border-style: none !important; }\n",
       " tr { background-color: transparent !important; }\n",
       "#gsqpjubgft p { margin: 0 !important; padding: 0 !important; }\n",
       " #gsqpjubgft .gt_table { display: table !important; border-collapse: collapse !important; line-height: normal !important; margin-left: auto !important; margin-right: auto !important; color: #333333 !important; font-size: 16px !important; font-weight: normal !important; font-style: normal !important; background-color: #FFFFFF !important; width: auto !important; border-top-style: solid !important; border-top-width: 2px !important; border-top-color: #A8A8A8 !important; border-right-style: none !important; border-right-width: 2px !important; border-right-color: #D3D3D3 !important; border-bottom-style: solid !important; border-bottom-width: 2px !important; border-bottom-color: #A8A8A8 !important; border-left-style: none !important; border-left-width: 2px !important; border-left-color: #D3D3D3 !important; }\n",
       " #gsqpjubgft .gt_caption { padding-top: 4px !important; padding-bottom: 4px !important; }\n",
       " #gsqpjubgft .gt_title { color: #333333 !important; font-size: 125% !important; font-weight: initial !important; padding-top: 4px !important; padding-bottom: 4px !important; padding-left: 5px !important; padding-right: 5px !important; border-bottom-color: #FFFFFF !important; border-bottom-width: 0 !important; }\n",
       " #gsqpjubgft .gt_subtitle { color: #333333 !important; font-size: 85% !important; font-weight: initial !important; padding-top: 3px !important; padding-bottom: 5px !important; padding-left: 5px !important; padding-right: 5px !important; border-top-color: #FFFFFF !important; border-top-width: 0 !important; }\n",
       " #gsqpjubgft .gt_heading { background-color: #FFFFFF !important; text-align: center !important; border-bottom-color: #FFFFFF !important; border-left-style: none !important; border-left-width: 1px !important; border-left-color: #D3D3D3 !important; border-right-style: none !important; border-right-width: 1px !important; border-right-color: #D3D3D3 !important; }\n",
       " #gsqpjubgft .gt_bottom_border { border-bottom-style: solid !important; border-bottom-width: 2px !important; border-bottom-color: #D3D3D3 !important; }\n",
       " #gsqpjubgft .gt_col_headings { border-top-style: solid !important; border-top-width: 2px !important; border-top-color: #D3D3D3 !important; border-bottom-style: solid !important; border-bottom-width: 2px !important; border-bottom-color: #D3D3D3 !important; border-left-style: none !important; border-left-width: 1px !important; border-left-color: #D3D3D3 !important; border-right-style: none !important; border-right-width: 1px !important; border-right-color: #D3D3D3 !important; }\n",
       " #gsqpjubgft .gt_col_heading { color: #333333 !important; background-color: #FFFFFF !important; font-size: 100% !important; font-weight: normal !important; text-transform: inherit !important; border-left-style: none !important; border-left-width: 1px !important; border-left-color: #D3D3D3 !important; border-right-style: none !important; border-right-width: 1px !important; border-right-color: #D3D3D3 !important; vertical-align: bottom !important; padding-top: 5px !important; padding-bottom: 5px !important; padding-left: 5px !important; padding-right: 5px !important; overflow-x: hidden !important; }\n",
       " #gsqpjubgft .gt_column_spanner_outer { color: #333333 !important; background-color: #FFFFFF !important; font-size: 100% !important; font-weight: normal !important; text-transform: inherit !important; padding-top: 0 !important; padding-bottom: 0 !important; padding-left: 4px !important; padding-right: 4px !important; }\n",
       " #gsqpjubgft .gt_column_spanner_outer:first-child { padding-left: 0 !important; }\n",
       " #gsqpjubgft .gt_column_spanner_outer:last-child { padding-right: 0 !important; }\n",
       " #gsqpjubgft .gt_column_spanner { border-bottom-style: solid !important; border-bottom-width: 2px !important; border-bottom-color: #D3D3D3 !important; vertical-align: bottom !important; padding-top: 5px !important; padding-bottom: 5px !important; overflow-x: hidden !important; display: inline-block !important; width: 100% !important; }\n",
       " #gsqpjubgft .gt_spanner_row { border-bottom-style: hidden !important; }\n",
       " #gsqpjubgft .gt_group_heading { padding-top: 8px !important; padding-bottom: 8px !important; padding-left: 5px !important; padding-right: 5px !important; color: #333333 !important; background-color: #FFFFFF !important; font-size: 100% !important; font-weight: initial !important; text-transform: inherit !important; border-top-style: solid !important; border-top-width: 2px !important; border-top-color: #D3D3D3 !important; border-bottom-style: solid !important; border-bottom-width: 2px !important; border-bottom-color: #D3D3D3 !important; border-left-style: none !important; border-left-width: 1px !important; border-left-color: #D3D3D3 !important; border-right-style: none !important; border-right-width: 1px !important; border-right-color: #D3D3D3 !important; vertical-align: middle !important; text-align: left !important; }\n",
       " #gsqpjubgft .gt_empty_group_heading { padding: 0.5px !important; color: #333333 !important; background-color: #FFFFFF !important; font-size: 100% !important; font-weight: initial !important; border-top-style: solid !important; border-top-width: 2px !important; border-top-color: #D3D3D3 !important; border-bottom-style: solid !important; border-bottom-width: 2px !important; border-bottom-color: #D3D3D3 !important; vertical-align: middle !important; }\n",
       " #gsqpjubgft .gt_from_md> :first-child { margin-top: 0 !important; }\n",
       " #gsqpjubgft .gt_from_md> :last-child { margin-bottom: 0 !important; }\n",
       " #gsqpjubgft .gt_row { padding-top: 8px !important; padding-bottom: 8px !important; padding-left: 5px !important; padding-right: 5px !important; margin: 10px !important; border-top-style: solid !important; border-top-width: 1px !important; border-top-color: #D3D3D3 !important; border-left-style: none !important; border-left-width: 1px !important; border-left-color: #D3D3D3 !important; border-right-style: none !important; border-right-width: 1px !important; border-right-color: #D3D3D3 !important; vertical-align: middle !important; overflow-x: hidden !important; }\n",
       " #gsqpjubgft .gt_stub { color: #333333 !important; background-color: #FFFFFF !important; font-size: 100% !important; font-weight: initial !important; text-transform: inherit !important; border-right-style: solid !important; border-right-width: 2px !important; border-right-color: #D3D3D3 !important; padding-left: 5px !important; padding-right: 5px !important; }\n",
       " #gsqpjubgft .gt_stub_row_group { color: #333333 !important; background-color: #FFFFFF !important; font-size: 100% !important; font-weight: initial !important; text-transform: inherit !important; border-right-style: solid !important; border-right-width: 2px !important; border-right-color: #D3D3D3 !important; padding-left: 5px !important; padding-right: 5px !important; vertical-align: top !important; }\n",
       " #gsqpjubgft .gt_row_group_first td { border-top-width: 2px !important; }\n",
       " #gsqpjubgft .gt_row_group_first th { border-top-width: 2px !important; }\n",
       " #gsqpjubgft .gt_striped { background-color: rgba(128,128,128,0.05) !important; }\n",
       " #gsqpjubgft .gt_table_body { border-top-style: solid !important; border-top-width: 2px !important; border-top-color: #D3D3D3 !important; border-bottom-style: solid !important; border-bottom-width: 2px !important; border-bottom-color: #D3D3D3 !important; }\n",
       " #gsqpjubgft .gt_sourcenotes { color: #333333 !important; background-color: #FFFFFF !important; border-bottom-style: none !important; border-bottom-width: 2px !important; border-bottom-color: #D3D3D3 !important; border-left-style: none !important; border-left-width: 2px !important; border-left-color: #D3D3D3 !important; border-right-style: none !important; border-right-width: 2px !important; border-right-color: #D3D3D3 !important; }\n",
       " #gsqpjubgft .gt_sourcenote { font-size: 90% !important; padding-top: 4px !important; padding-bottom: 4px !important; padding-left: 5px !important; padding-right: 5px !important; text-align: left !important; }\n",
       " #gsqpjubgft .gt_left { text-align: left !important; }\n",
       " #gsqpjubgft .gt_center { text-align: center !important; }\n",
       " #gsqpjubgft .gt_right { text-align: right !important; font-variant-numeric: tabular-nums !important; }\n",
       " #gsqpjubgft .gt_font_normal { font-weight: normal !important; }\n",
       " #gsqpjubgft .gt_font_bold { font-weight: bold !important; }\n",
       " #gsqpjubgft .gt_font_italic { font-style: italic !important; }\n",
       " #gsqpjubgft .gt_super { font-size: 65% !important; }\n",
       " #gsqpjubgft .gt_footnote_marks { font-size: 75% !important; vertical-align: 0.4em !important; position: initial !important; }\n",
       " #gsqpjubgft .gt_asterisk { font-size: 100% !important; vertical-align: 0 !important; }\n",
       " \n",
       "</style>\n",
       "<table class=\"gt_table\" data-quarto-disable-processing=\"false\" data-quarto-bootstrap=\"false\">\n",
       "<thead>\n",
       "\n",
       "  <tr class=\"gt_heading\">\n",
       "    <td colspan=\"2\" class=\"gt_heading gt_title gt_font_normal\">Purchase Occasions by Buyers</td>\n",
       "  </tr>\n",
       "<tr class=\"gt_col_headings\">\n",
       "  <th class=\"gt_col_heading gt_columns_bottom_border gt_left\" rowspan=\"1\" colspan=\"1\" scope=\"col\" id=\"Brands/Category\">Brands/Category</th>\n",
       "  <th class=\"gt_col_heading gt_columns_bottom_border gt_center\" rowspan=\"1\" colspan=\"1\" scope=\"col\" id=\"# Of Transactions\"># Of Transactions</th>\n",
       "</tr>\n",
       "</thead>\n",
       "<tbody class=\"gt_table_body\">\n",
       "  <tr>\n",
       "    <th style=\"color: #000000; background-color: #808080;\" class=\"gt_row gt_left gt_stub\">Alpha</th>\n",
       "    <td style=\"color: #FFFFFF; background-color: #7547a3;\" class=\"gt_row gt_center\">9,060</td>\n",
       "  </tr>\n",
       "  <tr>\n",
       "    <th style=\"color: #000000; background-color: #808080;\" class=\"gt_row gt_left gt_stub\">Bravo</th>\n",
       "    <td style=\"color: #FFFFFF; background-color: #8258ac;\" class=\"gt_row gt_center\">8,255</td>\n",
       "  </tr>\n",
       "  <tr>\n",
       "    <th style=\"color: #000000; background-color: #808080;\" class=\"gt_row gt_left gt_stub\">Charlie</th>\n",
       "    <td style=\"color: #000000; background-color: #e7e0ef;\" class=\"gt_row gt_center\">1,882</td>\n",
       "  </tr>\n",
       "  <tr>\n",
       "    <th style=\"color: #000000; background-color: #808080;\" class=\"gt_row gt_left gt_stub\">Delta</th>\n",
       "    <td style=\"color: #000000; background-color: #f8f5fa;\" class=\"gt_row gt_center\">859</td>\n",
       "  </tr>\n",
       "  <tr>\n",
       "    <th style=\"color: #000000; background-color: #808080;\" class=\"gt_row gt_left gt_stub\">Other</th>\n",
       "    <td style=\"color: #000000; background-color: #ffffff;\" class=\"gt_row gt_center\">422</td>\n",
       "  </tr>\n",
       "  <tr>\n",
       "    <th class=\"gt_row gt_left gt_stub\">Category</th>\n",
       "    <td class=\"gt_row gt_center\">20,030</td>\n",
       "  </tr>\n",
       "</tbody>\n",
       "\n",
       "\n",
       "</table>\n",
       "\n",
       "</div>\n",
       "        "
      ],
      "text/plain": [
       "GT(_tbl_data=shape: (6, 2)\n",
       "┌──────────┬──────────────┐\n",
       "│ brand    ┆ transactions │\n",
       "│ ---      ┆ ---          │\n",
       "│ str      ┆ u32          │\n",
       "╞══════════╪══════════════╡\n",
       "│ Alpha    ┆ 9060         │\n",
       "│ Bravo    ┆ 8255         │\n",
       "│ Charlie  ┆ 1882         │\n",
       "│ Delta    ┆ 859          │\n",
       "│ Other    ┆ 422          │\n",
       "│ Category ┆ 20030        │\n",
       "└──────────┴──────────────┘, _body=<great_tables._gt_data.Body object at 0x000001EFEBFD1B80>, _boxhead=Boxhead([ColInfo(var='brand', type=<ColInfoTypeEnum.stub: 2>, column_label='brand', column_align='left', column_width=None), ColInfo(var='transactions', type=<ColInfoTypeEnum.default: 1>, column_label='# Of Transactions', column_align='center', column_width=None)]), _stub=<great_tables._gt_data.Stub object at 0x000001EFEBFD2F00>, _spanners=Spanners([]), _heading=Heading(title='Purchase Occasions by Buyers', subtitle=None, preheader=None), _stubhead='Brands/Category', _source_notes=[], _footnotes=[], _styles=[StyleInfo(locname=LocBody(columns='brand', rows=[0]), grpname=None, colname='brand', rownum=0, colnum=None, styles=[CellStyleText(color='#000000', font=None, size=None, align=None, v_align=None, style=None, weight=None, stretch=None, decorate=None, transform=None, whitespace=None), CellStyleFill(color='#808080')]), StyleInfo(locname=LocBody(columns='brand', rows=[1]), grpname=None, colname='brand', rownum=1, colnum=None, styles=[CellStyleText(color='#000000', font=None, size=None, align=None, v_align=None, style=None, weight=None, stretch=None, decorate=None, transform=None, whitespace=None), CellStyleFill(color='#808080')]), StyleInfo(locname=LocBody(columns='brand', rows=[2]), grpname=None, colname='brand', rownum=2, colnum=None, styles=[CellStyleText(color='#000000', font=None, size=None, align=None, v_align=None, style=None, weight=None, stretch=None, decorate=None, transform=None, whitespace=None), CellStyleFill(color='#808080')]), StyleInfo(locname=LocBody(columns='brand', rows=[3]), grpname=None, colname='brand', rownum=3, colnum=None, styles=[CellStyleText(color='#000000', font=None, size=None, align=None, v_align=None, style=None, weight=None, stretch=None, decorate=None, transform=None, whitespace=None), CellStyleFill(color='#808080')]), StyleInfo(locname=LocBody(columns='brand', rows=[4]), grpname=None, colname='brand', rownum=4, colnum=None, styles=[CellStyleText(color='#000000', font=None, size=None, align=None, v_align=None, style=None, weight=None, stretch=None, decorate=None, transform=None, whitespace=None), CellStyleFill(color='#808080')]), StyleInfo(locname=LocBody(columns='transactions', rows=[0]), grpname=None, colname='transactions', rownum=0, colnum=None, styles=[CellStyleText(color='#FFFFFF', font=None, size=None, align=None, v_align=None, style=None, weight=None, stretch=None, decorate=None, transform=None, whitespace=None), CellStyleFill(color='#7547a3')]), StyleInfo(locname=LocBody(columns='transactions', rows=[1]), grpname=None, colname='transactions', rownum=1, colnum=None, styles=[CellStyleText(color='#FFFFFF', font=None, size=None, align=None, v_align=None, style=None, weight=None, stretch=None, decorate=None, transform=None, whitespace=None), CellStyleFill(color='#8258ac')]), StyleInfo(locname=LocBody(columns='transactions', rows=[2]), grpname=None, colname='transactions', rownum=2, colnum=None, styles=[CellStyleText(color='#000000', font=None, size=None, align=None, v_align=None, style=None, weight=None, stretch=None, decorate=None, transform=None, whitespace=None), CellStyleFill(color='#e7e0ef')]), StyleInfo(locname=LocBody(columns='transactions', rows=[3]), grpname=None, colname='transactions', rownum=3, colnum=None, styles=[CellStyleText(color='#000000', font=None, size=None, align=None, v_align=None, style=None, weight=None, stretch=None, decorate=None, transform=None, whitespace=None), CellStyleFill(color='#f8f5fa')]), StyleInfo(locname=LocBody(columns='transactions', rows=[4]), grpname=None, colname='transactions', rownum=4, colnum=None, styles=[CellStyleText(color='#000000', font=None, size=None, align=None, v_align=None, style=None, weight=None, stretch=None, decorate=None, transform=None, whitespace=None), CellStyleFill(color='#ffffff')])], _locale=<great_tables._gt_data.Locale object at 0x000001EFEBFE76B0>, _formats=[<great_tables._gt_data.FormatInfo object at 0x000001EFEBFE4890>], _substitutions=[], _options=Options(table_id=OptionsInfo(scss=False, category='table', type='value', value=None), table_caption=OptionsInfo(scss=False, category='table', type='value', value=None), table_width=OptionsInfo(scss=True, category='table', type='px', value='auto'), table_layout=OptionsInfo(scss=True, category='table', type='value', value='fixed'), table_margin_left=OptionsInfo(scss=True, category='table', type='px', value='auto'), table_margin_right=OptionsInfo(scss=True, category='table', type='px', value='auto'), table_background_color=OptionsInfo(scss=True, category='table', type='value', value='#FFFFFF'), table_additional_css=OptionsInfo(scss=False, category='table', type='values', value=[]), table_font_names=OptionsInfo(scss=False, category='table', type='values', value=['-apple-system', 'BlinkMacSystemFont', 'Segoe UI', 'Roboto', 'Oxygen', 'Ubuntu', 'Cantarell', 'Helvetica Neue', 'Fira Sans', 'Droid Sans', 'Arial', 'sans-serif']), table_font_size=OptionsInfo(scss=True, category='table', type='px', value='16px'), table_font_weight=OptionsInfo(scss=True, category='table', type='value', value='normal'), table_font_style=OptionsInfo(scss=True, category='table', type='value', value='normal'), table_font_color=OptionsInfo(scss=True, category='table', type='value', value='#333333'), table_font_color_light=OptionsInfo(scss=True, category='table', type='value', value='#FFFFFF'), table_border_top_include=OptionsInfo(scss=False, category='table', type='boolean', value=True), table_border_top_style=OptionsInfo(scss=True, category='table', type='value', value='solid'), table_border_top_width=OptionsInfo(scss=True, category='table', type='px', value='2px'), table_border_top_color=OptionsInfo(scss=True, category='table', type='value', value='#A8A8A8'), table_border_right_style=OptionsInfo(scss=True, category='table', type='value', value='none'), table_border_right_width=OptionsInfo(scss=True, category='table', type='px', value='2px'), table_border_right_color=OptionsInfo(scss=True, category='table', type='value', value='#D3D3D3'), table_border_bottom_include=OptionsInfo(scss=False, category='table', type='boolean', value=True), table_border_bottom_style=OptionsInfo(scss=True, category='table', type='value', value='solid'), table_border_bottom_width=OptionsInfo(scss=True, category='table', type='px', value='2px'), table_border_bottom_color=OptionsInfo(scss=True, category='table', type='value', value='#A8A8A8'), table_border_left_style=OptionsInfo(scss=True, category='table', type='value', value='none'), table_border_left_width=OptionsInfo(scss=True, category='table', type='px', value='2px'), table_border_left_color=OptionsInfo(scss=True, category='table', type='value', value='#D3D3D3'), heading_background_color=OptionsInfo(scss=True, category='heading', type='value', value=None), heading_align=OptionsInfo(scss=True, category='heading', type='value', value='center'), heading_title_font_size=OptionsInfo(scss=True, category='heading', type='px', value='125%'), heading_title_font_weight=OptionsInfo(scss=True, category='heading', type='value', value='initial'), heading_subtitle_font_size=OptionsInfo(scss=True, category='heading', type='px', value='85%'), heading_subtitle_font_weight=OptionsInfo(scss=True, category='heading', type='value', value='initial'), heading_padding=OptionsInfo(scss=True, category='heading', type='px', value='4px'), heading_padding_horizontal=OptionsInfo(scss=True, category='heading', type='px', value='5px'), heading_border_bottom_style=OptionsInfo(scss=True, category='heading', type='value', value='solid'), heading_border_bottom_width=OptionsInfo(scss=True, category='heading', type='px', value='2px'), heading_border_bottom_color=OptionsInfo(scss=True, category='heading', type='value', value='#D3D3D3'), heading_border_lr_style=OptionsInfo(scss=True, category='heading', type='value', value='none'), heading_border_lr_width=OptionsInfo(scss=True, category='heading', type='px', value='1px'), heading_border_lr_color=OptionsInfo(scss=True, category='heading', type='value', value='#D3D3D3'), column_labels_background_color=OptionsInfo(scss=True, category='column_labels', type='value', value=None), column_labels_font_size=OptionsInfo(scss=True, category='column_labels', type='px', value='100%'), column_labels_font_weight=OptionsInfo(scss=True, category='column_labels', type='value', value='normal'), column_labels_text_transform=OptionsInfo(scss=True, category='column_labels', type='value', value='inherit'), column_labels_padding=OptionsInfo(scss=True, category='column_labels', type='px', value='5px'), column_labels_padding_horizontal=OptionsInfo(scss=True, category='column_labels', type='px', value='5px'), column_labels_vlines_style=OptionsInfo(scss=True, category='table_body', type='value', value='none'), column_labels_vlines_width=OptionsInfo(scss=True, category='table_body', type='px', value='1px'), column_labels_vlines_color=OptionsInfo(scss=True, category='table_body', type='value', value='#D3D3D3'), column_labels_border_top_style=OptionsInfo(scss=True, category='column_labels', type='value', value='solid'), column_labels_border_top_width=OptionsInfo(scss=True, category='column_labels', type='px', value='2px'), column_labels_border_top_color=OptionsInfo(scss=True, category='column_labels', type='value', value='#D3D3D3'), column_labels_border_bottom_style=OptionsInfo(scss=True, category='column_labels', type='value', value='solid'), column_labels_border_bottom_width=OptionsInfo(scss=True, category='column_labels', type='px', value='2px'), column_labels_border_bottom_color=OptionsInfo(scss=True, category='column_labels', type='value', value='#D3D3D3'), column_labels_border_lr_style=OptionsInfo(scss=True, category='column_labels', type='value', value='none'), column_labels_border_lr_width=OptionsInfo(scss=True, category='column_labels', type='px', value='1px'), column_labels_border_lr_color=OptionsInfo(scss=True, category='column_labels', type='value', value='#D3D3D3'), column_labels_hidden=OptionsInfo(scss=False, category='column_labels', type='boolean', value=False), row_group_background_color=OptionsInfo(scss=True, category='row_group', type='value', value=None), row_group_font_size=OptionsInfo(scss=True, category='row_group', type='px', value='100%'), row_group_font_weight=OptionsInfo(scss=True, category='row_group', type='value', value='initial'), row_group_text_transform=OptionsInfo(scss=True, category='row_group', type='value', value='inherit'), row_group_padding=OptionsInfo(scss=True, category='row_group', type='px', value='8px'), row_group_padding_horizontal=OptionsInfo(scss=True, category='row_group', type='px', value='5px'), row_group_border_top_style=OptionsInfo(scss=True, category='row_group', type='value', value='solid'), row_group_border_top_width=OptionsInfo(scss=True, category='row_group', type='px', value='2px'), row_group_border_top_color=OptionsInfo(scss=True, category='row_group', type='value', value='#D3D3D3'), row_group_border_right_style=OptionsInfo(scss=True, category='row_group', type='value', value='none'), row_group_border_right_width=OptionsInfo(scss=True, category='row_group', type='px', value='1px'), row_group_border_right_color=OptionsInfo(scss=True, category='row_group', type='value', value='#D3D3D3'), row_group_border_bottom_style=OptionsInfo(scss=True, category='row_group', type='value', value='solid'), row_group_border_bottom_width=OptionsInfo(scss=True, category='row_group', type='px', value='2px'), row_group_border_bottom_color=OptionsInfo(scss=True, category='row_group', type='value', value='#D3D3D3'), row_group_border_left_style=OptionsInfo(scss=True, category='row_group', type='value', value='none'), row_group_border_left_width=OptionsInfo(scss=True, category='row_group', type='px', value='1px'), row_group_border_left_color=OptionsInfo(scss=True, category='row_group', type='value', value='#D3D3D3'), row_group_as_column=OptionsInfo(scss=False, category='row_group', type='boolean', value=False), table_body_hlines_style=OptionsInfo(scss=True, category='table_body', type='value', value='solid'), table_body_hlines_width=OptionsInfo(scss=True, category='table_body', type='px', value='1px'), table_body_hlines_color=OptionsInfo(scss=True, category='table_body', type='value', value='#D3D3D3'), table_body_vlines_style=OptionsInfo(scss=True, category='table_body', type='value', value='none'), table_body_vlines_width=OptionsInfo(scss=True, category='table_body', type='px', value='1px'), table_body_vlines_color=OptionsInfo(scss=True, category='table_body', type='value', value='#D3D3D3'), table_body_border_top_style=OptionsInfo(scss=True, category='table_body', type='value', value='solid'), table_body_border_top_width=OptionsInfo(scss=True, category='table_body', type='px', value='2px'), table_body_border_top_color=OptionsInfo(scss=True, category='table_body', type='value', value='#D3D3D3'), table_body_border_bottom_style=OptionsInfo(scss=True, category='table_body', type='value', value='solid'), table_body_border_bottom_width=OptionsInfo(scss=True, category='table_body', type='px', value='2px'), table_body_border_bottom_color=OptionsInfo(scss=True, category='table_body', type='value', value='#D3D3D3'), data_row_padding=OptionsInfo(scss=True, category='data_row', type='px', value='8px'), data_row_padding_horizontal=OptionsInfo(scss=True, category='data_row', type='px', value='5px'), stub_background_color=OptionsInfo(scss=True, category='stub', type='value', value=None), stub_font_size=OptionsInfo(scss=True, category='stub', type='px', value='100%'), stub_font_weight=OptionsInfo(scss=True, category='stub', type='value', value='initial'), stub_text_transform=OptionsInfo(scss=True, category='stub', type='value', value='inherit'), stub_border_style=OptionsInfo(scss=True, category='stub', type='value', value='solid'), stub_border_width=OptionsInfo(scss=True, category='stub', type='px', value='2px'), stub_border_color=OptionsInfo(scss=True, category='stub', type='value', value='#D3D3D3'), stub_row_group_background_color=OptionsInfo(scss=True, category='stub', type='value', value=None), stub_row_group_font_size=OptionsInfo(scss=True, category='stub', type='px', value='100%'), stub_row_group_font_weight=OptionsInfo(scss=True, category='stub', type='value', value='initial'), stub_row_group_text_transform=OptionsInfo(scss=True, category='stub', type='value', value='inherit'), stub_row_group_border_style=OptionsInfo(scss=True, category='stub', type='value', value='solid'), stub_row_group_border_width=OptionsInfo(scss=True, category='stub', type='px', value='2px'), stub_row_group_border_color=OptionsInfo(scss=True, category='stub', type='value', value='#D3D3D3'), source_notes_padding=OptionsInfo(scss=True, category='source_notes', type='px', value='4px'), source_notes_padding_horizontal=OptionsInfo(scss=True, category='source_notes', type='px', value='5px'), source_notes_background_color=OptionsInfo(scss=True, category='source_notes', type='value', value=None), source_notes_font_size=OptionsInfo(scss=True, category='source_notes', type='px', value='90%'), source_notes_border_bottom_style=OptionsInfo(scss=True, category='source_notes', type='value', value='none'), source_notes_border_bottom_width=OptionsInfo(scss=True, category='source_notes', type='px', value='2px'), source_notes_border_bottom_color=OptionsInfo(scss=True, category='source_notes', type='value', value='#D3D3D3'), source_notes_border_lr_style=OptionsInfo(scss=True, category='source_notes', type='value', value='none'), source_notes_border_lr_width=OptionsInfo(scss=True, category='source_notes', type='px', value='2px'), source_notes_border_lr_color=OptionsInfo(scss=True, category='source_notes', type='value', value='#D3D3D3'), source_notes_multiline=OptionsInfo(scss=False, category='source_notes', type='boolean', value=True), source_notes_sep=OptionsInfo(scss=False, category='source_notes', type='value', value=' '), row_striping_background_color=OptionsInfo(scss=True, category='row', type='value', value='rgba(128,128,128,0.05)'), row_striping_include_stub=OptionsInfo(scss=False, category='row', type='boolean', value=False), row_striping_include_table_body=OptionsInfo(scss=False, category='row', type='boolean', value=False), container_width=OptionsInfo(scss=False, category='container', type='px', value='auto'), container_height=OptionsInfo(scss=False, category='container', type='px', value='auto'), container_padding_x=OptionsInfo(scss=False, category='container', type='px', value='0px'), container_padding_y=OptionsInfo(scss=False, category='container', type='px', value='10px'), container_overflow_x=OptionsInfo(scss=False, category='container', type='overflow', value='auto'), container_overflow_y=OptionsInfo(scss=False, category='container', type='overflow', value='auto'), quarto_disable_processing=OptionsInfo(scss=False, category='quarto', type='logical', value=False), quarto_use_bootstrap=OptionsInfo(scss=False, category='quarto', type='logical', value=False)), _has_built=False)"
      ]
     },
     "execution_count": 32,
     "metadata": {},
     "output_type": "execute_result"
    }
   ],
   "source": [
    "transactions = trans_pivot(grocery_lf, 1).sum().select(\n",
    "    'Alpha', 'Bravo', 'Charlie', 'Delta', 'Other', 'Category'\n",
    ").unpivot(\n",
    "    variable_name='brand',\n",
    "    value_name='transactions'\n",
    ")\n",
    "\n",
    "(\n",
    "    GT(transactions, rowname_col='brand')\n",
    "    .tab_header(title='Purchase Occasions by Buyers')\n",
    "    .tab_stubhead(label=\"Brands/Category\")\n",
    "    .fmt_integer()\n",
    "    .data_color(\n",
    "        rows=['Alpha', 'Bravo', 'Charlie', 'Delta', 'Other'],\n",
    "        domain=[400, 10_000],\n",
    "        palette=[ 'white', 'rebeccapurple']\n",
    "    )  \n",
    "    .cols_label(transactions='# Of Transactions')\n",
    ")"
   ]
  },
  {
   "cell_type": "code",
   "execution_count": 33,
   "metadata": {},
   "outputs": [],
   "source": [
    "panel_size = 5021\n",
    "\n",
    "penetration = buyers.with_columns(\n",
    "    (pl.col('buyers') / panel_size).alias('penetration')\n",
    ")\n",
    "\n",
    "ppb = transactions.with_columns(\n",
    "    (pl.col('transactions') / penetration.get_column('buyers')).alias('ppb')\n",
    ")"
   ]
  },
  {
   "cell_type": "code",
   "execution_count": 34,
   "metadata": {},
   "outputs": [
    {
     "data": {
      "text/html": [
       "<div id=\"vynyxwygmt\" style=\"padding-left:0px;padding-right:0px;padding-top:10px;padding-bottom:10px;overflow-x:auto;overflow-y:auto;width:auto;height:auto;\">\n",
       "<style>\n",
       "#vynyxwygmt table {\n",
       "          font-family: -apple-system, BlinkMacSystemFont, 'Segoe UI', Roboto, Oxygen, Ubuntu, Cantarell, 'Helvetica Neue', 'Fira Sans', 'Droid Sans', Arial, sans-serif;\n",
       "          -webkit-font-smoothing: antialiased;\n",
       "          -moz-osx-font-smoothing: grayscale;\n",
       "        }\n",
       "\n",
       "#vynyxwygmt thead, tbody, tfoot, tr, td, th { border-style: none !important; }\n",
       " tr { background-color: transparent !important; }\n",
       "#vynyxwygmt p { margin: 0 !important; padding: 0 !important; }\n",
       " #vynyxwygmt .gt_table { display: table !important; border-collapse: collapse !important; line-height: normal !important; margin-left: auto !important; margin-right: auto !important; color: #333333 !important; font-size: 16px !important; font-weight: normal !important; font-style: normal !important; background-color: #FFFFFF !important; width: auto !important; border-top-style: solid !important; border-top-width: 2px !important; border-top-color: #A8A8A8 !important; border-right-style: none !important; border-right-width: 2px !important; border-right-color: #D3D3D3 !important; border-bottom-style: solid !important; border-bottom-width: 2px !important; border-bottom-color: #A8A8A8 !important; border-left-style: none !important; border-left-width: 2px !important; border-left-color: #D3D3D3 !important; }\n",
       " #vynyxwygmt .gt_caption { padding-top: 4px !important; padding-bottom: 4px !important; }\n",
       " #vynyxwygmt .gt_title { color: #333333 !important; font-size: 125% !important; font-weight: initial !important; padding-top: 4px !important; padding-bottom: 4px !important; padding-left: 5px !important; padding-right: 5px !important; border-bottom-color: #FFFFFF !important; border-bottom-width: 0 !important; }\n",
       " #vynyxwygmt .gt_subtitle { color: #333333 !important; font-size: 85% !important; font-weight: initial !important; padding-top: 3px !important; padding-bottom: 5px !important; padding-left: 5px !important; padding-right: 5px !important; border-top-color: #FFFFFF !important; border-top-width: 0 !important; }\n",
       " #vynyxwygmt .gt_heading { background-color: #FFFFFF !important; text-align: center !important; border-bottom-color: #FFFFFF !important; border-left-style: none !important; border-left-width: 1px !important; border-left-color: #D3D3D3 !important; border-right-style: none !important; border-right-width: 1px !important; border-right-color: #D3D3D3 !important; }\n",
       " #vynyxwygmt .gt_bottom_border { border-bottom-style: solid !important; border-bottom-width: 2px !important; border-bottom-color: #D3D3D3 !important; }\n",
       " #vynyxwygmt .gt_col_headings { border-top-style: solid !important; border-top-width: 2px !important; border-top-color: #D3D3D3 !important; border-bottom-style: solid !important; border-bottom-width: 2px !important; border-bottom-color: #D3D3D3 !important; border-left-style: none !important; border-left-width: 1px !important; border-left-color: #D3D3D3 !important; border-right-style: none !important; border-right-width: 1px !important; border-right-color: #D3D3D3 !important; }\n",
       " #vynyxwygmt .gt_col_heading { color: #333333 !important; background-color: #FFFFFF !important; font-size: 100% !important; font-weight: normal !important; text-transform: inherit !important; border-left-style: none !important; border-left-width: 1px !important; border-left-color: #D3D3D3 !important; border-right-style: none !important; border-right-width: 1px !important; border-right-color: #D3D3D3 !important; vertical-align: bottom !important; padding-top: 5px !important; padding-bottom: 5px !important; padding-left: 5px !important; padding-right: 5px !important; overflow-x: hidden !important; }\n",
       " #vynyxwygmt .gt_column_spanner_outer { color: #333333 !important; background-color: #FFFFFF !important; font-size: 100% !important; font-weight: normal !important; text-transform: inherit !important; padding-top: 0 !important; padding-bottom: 0 !important; padding-left: 4px !important; padding-right: 4px !important; }\n",
       " #vynyxwygmt .gt_column_spanner_outer:first-child { padding-left: 0 !important; }\n",
       " #vynyxwygmt .gt_column_spanner_outer:last-child { padding-right: 0 !important; }\n",
       " #vynyxwygmt .gt_column_spanner { border-bottom-style: solid !important; border-bottom-width: 2px !important; border-bottom-color: #D3D3D3 !important; vertical-align: bottom !important; padding-top: 5px !important; padding-bottom: 5px !important; overflow-x: hidden !important; display: inline-block !important; width: 100% !important; }\n",
       " #vynyxwygmt .gt_spanner_row { border-bottom-style: hidden !important; }\n",
       " #vynyxwygmt .gt_group_heading { padding-top: 8px !important; padding-bottom: 8px !important; padding-left: 5px !important; padding-right: 5px !important; color: #333333 !important; background-color: #FFFFFF !important; font-size: 100% !important; font-weight: initial !important; text-transform: inherit !important; border-top-style: solid !important; border-top-width: 2px !important; border-top-color: #D3D3D3 !important; border-bottom-style: solid !important; border-bottom-width: 2px !important; border-bottom-color: #D3D3D3 !important; border-left-style: none !important; border-left-width: 1px !important; border-left-color: #D3D3D3 !important; border-right-style: none !important; border-right-width: 1px !important; border-right-color: #D3D3D3 !important; vertical-align: middle !important; text-align: left !important; }\n",
       " #vynyxwygmt .gt_empty_group_heading { padding: 0.5px !important; color: #333333 !important; background-color: #FFFFFF !important; font-size: 100% !important; font-weight: initial !important; border-top-style: solid !important; border-top-width: 2px !important; border-top-color: #D3D3D3 !important; border-bottom-style: solid !important; border-bottom-width: 2px !important; border-bottom-color: #D3D3D3 !important; vertical-align: middle !important; }\n",
       " #vynyxwygmt .gt_from_md> :first-child { margin-top: 0 !important; }\n",
       " #vynyxwygmt .gt_from_md> :last-child { margin-bottom: 0 !important; }\n",
       " #vynyxwygmt .gt_row { padding-top: 8px !important; padding-bottom: 8px !important; padding-left: 5px !important; padding-right: 5px !important; margin: 10px !important; border-top-style: solid !important; border-top-width: 1px !important; border-top-color: #D3D3D3 !important; border-left-style: none !important; border-left-width: 1px !important; border-left-color: #D3D3D3 !important; border-right-style: none !important; border-right-width: 1px !important; border-right-color: #D3D3D3 !important; vertical-align: middle !important; overflow-x: hidden !important; }\n",
       " #vynyxwygmt .gt_stub { color: #333333 !important; background-color: #FFFFFF !important; font-size: 100% !important; font-weight: initial !important; text-transform: inherit !important; border-right-style: solid !important; border-right-width: 2px !important; border-right-color: #D3D3D3 !important; padding-left: 5px !important; padding-right: 5px !important; }\n",
       " #vynyxwygmt .gt_stub_row_group { color: #333333 !important; background-color: #FFFFFF !important; font-size: 100% !important; font-weight: initial !important; text-transform: inherit !important; border-right-style: solid !important; border-right-width: 2px !important; border-right-color: #D3D3D3 !important; padding-left: 5px !important; padding-right: 5px !important; vertical-align: top !important; }\n",
       " #vynyxwygmt .gt_row_group_first td { border-top-width: 2px !important; }\n",
       " #vynyxwygmt .gt_row_group_first th { border-top-width: 2px !important; }\n",
       " #vynyxwygmt .gt_striped { background-color: rgba(128,128,128,0.05) !important; }\n",
       " #vynyxwygmt .gt_table_body { border-top-style: solid !important; border-top-width: 2px !important; border-top-color: #D3D3D3 !important; border-bottom-style: solid !important; border-bottom-width: 2px !important; border-bottom-color: #D3D3D3 !important; }\n",
       " #vynyxwygmt .gt_sourcenotes { color: #333333 !important; background-color: #FFFFFF !important; border-bottom-style: none !important; border-bottom-width: 2px !important; border-bottom-color: #D3D3D3 !important; border-left-style: none !important; border-left-width: 2px !important; border-left-color: #D3D3D3 !important; border-right-style: none !important; border-right-width: 2px !important; border-right-color: #D3D3D3 !important; }\n",
       " #vynyxwygmt .gt_sourcenote { font-size: 90% !important; padding-top: 4px !important; padding-bottom: 4px !important; padding-left: 5px !important; padding-right: 5px !important; text-align: left !important; }\n",
       " #vynyxwygmt .gt_left { text-align: left !important; }\n",
       " #vynyxwygmt .gt_center { text-align: center !important; }\n",
       " #vynyxwygmt .gt_right { text-align: right !important; font-variant-numeric: tabular-nums !important; }\n",
       " #vynyxwygmt .gt_font_normal { font-weight: normal !important; }\n",
       " #vynyxwygmt .gt_font_bold { font-weight: bold !important; }\n",
       " #vynyxwygmt .gt_font_italic { font-style: italic !important; }\n",
       " #vynyxwygmt .gt_super { font-size: 65% !important; }\n",
       " #vynyxwygmt .gt_footnote_marks { font-size: 75% !important; vertical-align: 0.4em !important; position: initial !important; }\n",
       " #vynyxwygmt .gt_asterisk { font-size: 100% !important; vertical-align: 0 !important; }\n",
       " \n",
       "</style>\n",
       "<table class=\"gt_table\" data-quarto-disable-processing=\"false\" data-quarto-bootstrap=\"false\">\n",
       "<thead>\n",
       "\n",
       "  <tr class=\"gt_heading\">\n",
       "    <td colspan=\"2\" class=\"gt_heading gt_title gt_font_normal\">Penetration by Category &amp; Brand</td>\n",
       "  </tr>\n",
       "<tr class=\"gt_col_headings\">\n",
       "  <th class=\"gt_col_heading gt_columns_bottom_border gt_left\" rowspan=\"1\" colspan=\"1\" scope=\"col\" id=\"Brands/Category\">Brands/Category</th>\n",
       "  <th class=\"gt_col_heading gt_columns_bottom_border gt_right\" rowspan=\"1\" colspan=\"1\" scope=\"col\" id=\"Penetration (%)\">Penetration (%)</th>\n",
       "</tr>\n",
       "</thead>\n",
       "<tbody class=\"gt_table_body\">\n",
       "  <tr>\n",
       "    <th style=\"color: #000000; background-color: #808080;\" class=\"gt_row gt_left gt_stub\">Alpha</th>\n",
       "    <td style=\"color: #000000; background-color: #af94ca;\" class=\"gt_row gt_right\">52.26%</td>\n",
       "  </tr>\n",
       "  <tr>\n",
       "    <th style=\"color: #000000; background-color: #808080;\" class=\"gt_row gt_left gt_stub\">Bravo</th>\n",
       "    <td style=\"color: #000000; background-color: #b197cb;\" class=\"gt_row gt_right\">51.03%</td>\n",
       "  </tr>\n",
       "  <tr>\n",
       "    <th style=\"color: #000000; background-color: #808080;\" class=\"gt_row gt_left gt_stub\">Charlie</th>\n",
       "    <td style=\"color: #000000; background-color: #e6deee;\" class=\"gt_row gt_right\">16.19%</td>\n",
       "  </tr>\n",
       "  <tr>\n",
       "    <th style=\"color: #000000; background-color: #808080;\" class=\"gt_row gt_left gt_stub\">Delta</th>\n",
       "    <td style=\"color: #000000; background-color: #f3f0f7;\" class=\"gt_row gt_right\">7.57%</td>\n",
       "  </tr>\n",
       "  <tr>\n",
       "    <th style=\"color: #000000; background-color: #808080;\" class=\"gt_row gt_left gt_stub\">Other</th>\n",
       "    <td style=\"color: #000000; background-color: #faf8fb;\" class=\"gt_row gt_right\">3.51%</td>\n",
       "  </tr>\n",
       "  <tr>\n",
       "    <th class=\"gt_row gt_left gt_stub\">Category</th>\n",
       "    <td class=\"gt_row gt_right\">91.10%</td>\n",
       "  </tr>\n",
       "</tbody>\n",
       "\n",
       "\n",
       "</table>\n",
       "\n",
       "</div>\n",
       "        "
      ],
      "text/plain": [
       "GT(_tbl_data=shape: (6, 3)\n",
       "┌──────────┬────────┬─────────────┐\n",
       "│ brand    ┆ buyers ┆ penetration │\n",
       "│ ---      ┆ ---    ┆ ---         │\n",
       "│ str      ┆ u32    ┆ f64         │\n",
       "╞══════════╪════════╪═════════════╡\n",
       "│ Alpha    ┆ 2624   ┆ 0.522605    │\n",
       "│ Bravo    ┆ 2562   ┆ 0.510257    │\n",
       "│ Charlie  ┆ 813    ┆ 0.16192     │\n",
       "│ Delta    ┆ 380    ┆ 0.075682    │\n",
       "│ Other    ┆ 176    ┆ 0.035053    │\n",
       "│ Category ┆ 4574   ┆ 0.910974    │\n",
       "└──────────┴────────┴─────────────┘, _body=<great_tables._gt_data.Body object at 0x000001EFEBF87200>, _boxhead=Boxhead([ColInfo(var='brand', type=<ColInfoTypeEnum.stub: 2>, column_label='brand', column_align='left', column_width=None), ColInfo(var='buyers', type=<ColInfoTypeEnum.hidden: 4>, column_label='buyers', column_align='center', column_width=None), ColInfo(var='penetration', type=<ColInfoTypeEnum.default: 1>, column_label='Penetration (%)', column_align='right', column_width=None)]), _stub=<great_tables._gt_data.Stub object at 0x000001EFEBFE5700>, _spanners=Spanners([]), _heading=Heading(title='Penetration by Category & Brand', subtitle=None, preheader=None), _stubhead='Brands/Category', _source_notes=[], _footnotes=[], _styles=[StyleInfo(locname=LocBody(columns='brand', rows=[0]), grpname=None, colname='brand', rownum=0, colnum=None, styles=[CellStyleText(color='#000000', font=None, size=None, align=None, v_align=None, style=None, weight=None, stretch=None, decorate=None, transform=None, whitespace=None), CellStyleFill(color='#808080')]), StyleInfo(locname=LocBody(columns='brand', rows=[1]), grpname=None, colname='brand', rownum=1, colnum=None, styles=[CellStyleText(color='#000000', font=None, size=None, align=None, v_align=None, style=None, weight=None, stretch=None, decorate=None, transform=None, whitespace=None), CellStyleFill(color='#808080')]), StyleInfo(locname=LocBody(columns='brand', rows=[2]), grpname=None, colname='brand', rownum=2, colnum=None, styles=[CellStyleText(color='#000000', font=None, size=None, align=None, v_align=None, style=None, weight=None, stretch=None, decorate=None, transform=None, whitespace=None), CellStyleFill(color='#808080')]), StyleInfo(locname=LocBody(columns='brand', rows=[3]), grpname=None, colname='brand', rownum=3, colnum=None, styles=[CellStyleText(color='#000000', font=None, size=None, align=None, v_align=None, style=None, weight=None, stretch=None, decorate=None, transform=None, whitespace=None), CellStyleFill(color='#808080')]), StyleInfo(locname=LocBody(columns='brand', rows=[4]), grpname=None, colname='brand', rownum=4, colnum=None, styles=[CellStyleText(color='#000000', font=None, size=None, align=None, v_align=None, style=None, weight=None, stretch=None, decorate=None, transform=None, whitespace=None), CellStyleFill(color='#808080')]), StyleInfo(locname=LocBody(columns='buyers', rows=[0]), grpname=None, colname='buyers', rownum=0, colnum=None, styles=[CellStyleText(color='#000000', font=None, size=None, align=None, v_align=None, style=None, weight=None, stretch=None, decorate=None, transform=None, whitespace=None), CellStyleFill(color='#808080')]), StyleInfo(locname=LocBody(columns='buyers', rows=[1]), grpname=None, colname='buyers', rownum=1, colnum=None, styles=[CellStyleText(color='#000000', font=None, size=None, align=None, v_align=None, style=None, weight=None, stretch=None, decorate=None, transform=None, whitespace=None), CellStyleFill(color='#808080')]), StyleInfo(locname=LocBody(columns='buyers', rows=[2]), grpname=None, colname='buyers', rownum=2, colnum=None, styles=[CellStyleText(color='#000000', font=None, size=None, align=None, v_align=None, style=None, weight=None, stretch=None, decorate=None, transform=None, whitespace=None), CellStyleFill(color='#808080')]), StyleInfo(locname=LocBody(columns='buyers', rows=[3]), grpname=None, colname='buyers', rownum=3, colnum=None, styles=[CellStyleText(color='#000000', font=None, size=None, align=None, v_align=None, style=None, weight=None, stretch=None, decorate=None, transform=None, whitespace=None), CellStyleFill(color='#808080')]), StyleInfo(locname=LocBody(columns='buyers', rows=[4]), grpname=None, colname='buyers', rownum=4, colnum=None, styles=[CellStyleText(color='#000000', font=None, size=None, align=None, v_align=None, style=None, weight=None, stretch=None, decorate=None, transform=None, whitespace=None), CellStyleFill(color='#808080')]), StyleInfo(locname=LocBody(columns='penetration', rows=[0]), grpname=None, colname='penetration', rownum=0, colnum=None, styles=[CellStyleText(color='#000000', font=None, size=None, align=None, v_align=None, style=None, weight=None, stretch=None, decorate=None, transform=None, whitespace=None), CellStyleFill(color='#af94ca')]), StyleInfo(locname=LocBody(columns='penetration', rows=[1]), grpname=None, colname='penetration', rownum=1, colnum=None, styles=[CellStyleText(color='#000000', font=None, size=None, align=None, v_align=None, style=None, weight=None, stretch=None, decorate=None, transform=None, whitespace=None), CellStyleFill(color='#b197cb')]), StyleInfo(locname=LocBody(columns='penetration', rows=[2]), grpname=None, colname='penetration', rownum=2, colnum=None, styles=[CellStyleText(color='#000000', font=None, size=None, align=None, v_align=None, style=None, weight=None, stretch=None, decorate=None, transform=None, whitespace=None), CellStyleFill(color='#e6deee')]), StyleInfo(locname=LocBody(columns='penetration', rows=[3]), grpname=None, colname='penetration', rownum=3, colnum=None, styles=[CellStyleText(color='#000000', font=None, size=None, align=None, v_align=None, style=None, weight=None, stretch=None, decorate=None, transform=None, whitespace=None), CellStyleFill(color='#f3f0f7')]), StyleInfo(locname=LocBody(columns='penetration', rows=[4]), grpname=None, colname='penetration', rownum=4, colnum=None, styles=[CellStyleText(color='#000000', font=None, size=None, align=None, v_align=None, style=None, weight=None, stretch=None, decorate=None, transform=None, whitespace=None), CellStyleFill(color='#faf8fb')])], _locale=<great_tables._gt_data.Locale object at 0x000001EFEBD4DA60>, _formats=[<great_tables._gt_data.FormatInfo object at 0x000001EFEBD4DF40>], _substitutions=[], _options=Options(table_id=OptionsInfo(scss=False, category='table', type='value', value=None), table_caption=OptionsInfo(scss=False, category='table', type='value', value=None), table_width=OptionsInfo(scss=True, category='table', type='px', value='auto'), table_layout=OptionsInfo(scss=True, category='table', type='value', value='fixed'), table_margin_left=OptionsInfo(scss=True, category='table', type='px', value='auto'), table_margin_right=OptionsInfo(scss=True, category='table', type='px', value='auto'), table_background_color=OptionsInfo(scss=True, category='table', type='value', value='#FFFFFF'), table_additional_css=OptionsInfo(scss=False, category='table', type='values', value=[]), table_font_names=OptionsInfo(scss=False, category='table', type='values', value=['-apple-system', 'BlinkMacSystemFont', 'Segoe UI', 'Roboto', 'Oxygen', 'Ubuntu', 'Cantarell', 'Helvetica Neue', 'Fira Sans', 'Droid Sans', 'Arial', 'sans-serif']), table_font_size=OptionsInfo(scss=True, category='table', type='px', value='16px'), table_font_weight=OptionsInfo(scss=True, category='table', type='value', value='normal'), table_font_style=OptionsInfo(scss=True, category='table', type='value', value='normal'), table_font_color=OptionsInfo(scss=True, category='table', type='value', value='#333333'), table_font_color_light=OptionsInfo(scss=True, category='table', type='value', value='#FFFFFF'), table_border_top_include=OptionsInfo(scss=False, category='table', type='boolean', value=True), table_border_top_style=OptionsInfo(scss=True, category='table', type='value', value='solid'), table_border_top_width=OptionsInfo(scss=True, category='table', type='px', value='2px'), table_border_top_color=OptionsInfo(scss=True, category='table', type='value', value='#A8A8A8'), table_border_right_style=OptionsInfo(scss=True, category='table', type='value', value='none'), table_border_right_width=OptionsInfo(scss=True, category='table', type='px', value='2px'), table_border_right_color=OptionsInfo(scss=True, category='table', type='value', value='#D3D3D3'), table_border_bottom_include=OptionsInfo(scss=False, category='table', type='boolean', value=True), table_border_bottom_style=OptionsInfo(scss=True, category='table', type='value', value='solid'), table_border_bottom_width=OptionsInfo(scss=True, category='table', type='px', value='2px'), table_border_bottom_color=OptionsInfo(scss=True, category='table', type='value', value='#A8A8A8'), table_border_left_style=OptionsInfo(scss=True, category='table', type='value', value='none'), table_border_left_width=OptionsInfo(scss=True, category='table', type='px', value='2px'), table_border_left_color=OptionsInfo(scss=True, category='table', type='value', value='#D3D3D3'), heading_background_color=OptionsInfo(scss=True, category='heading', type='value', value=None), heading_align=OptionsInfo(scss=True, category='heading', type='value', value='center'), heading_title_font_size=OptionsInfo(scss=True, category='heading', type='px', value='125%'), heading_title_font_weight=OptionsInfo(scss=True, category='heading', type='value', value='initial'), heading_subtitle_font_size=OptionsInfo(scss=True, category='heading', type='px', value='85%'), heading_subtitle_font_weight=OptionsInfo(scss=True, category='heading', type='value', value='initial'), heading_padding=OptionsInfo(scss=True, category='heading', type='px', value='4px'), heading_padding_horizontal=OptionsInfo(scss=True, category='heading', type='px', value='5px'), heading_border_bottom_style=OptionsInfo(scss=True, category='heading', type='value', value='solid'), heading_border_bottom_width=OptionsInfo(scss=True, category='heading', type='px', value='2px'), heading_border_bottom_color=OptionsInfo(scss=True, category='heading', type='value', value='#D3D3D3'), heading_border_lr_style=OptionsInfo(scss=True, category='heading', type='value', value='none'), heading_border_lr_width=OptionsInfo(scss=True, category='heading', type='px', value='1px'), heading_border_lr_color=OptionsInfo(scss=True, category='heading', type='value', value='#D3D3D3'), column_labels_background_color=OptionsInfo(scss=True, category='column_labels', type='value', value=None), column_labels_font_size=OptionsInfo(scss=True, category='column_labels', type='px', value='100%'), column_labels_font_weight=OptionsInfo(scss=True, category='column_labels', type='value', value='normal'), column_labels_text_transform=OptionsInfo(scss=True, category='column_labels', type='value', value='inherit'), column_labels_padding=OptionsInfo(scss=True, category='column_labels', type='px', value='5px'), column_labels_padding_horizontal=OptionsInfo(scss=True, category='column_labels', type='px', value='5px'), column_labels_vlines_style=OptionsInfo(scss=True, category='table_body', type='value', value='none'), column_labels_vlines_width=OptionsInfo(scss=True, category='table_body', type='px', value='1px'), column_labels_vlines_color=OptionsInfo(scss=True, category='table_body', type='value', value='#D3D3D3'), column_labels_border_top_style=OptionsInfo(scss=True, category='column_labels', type='value', value='solid'), column_labels_border_top_width=OptionsInfo(scss=True, category='column_labels', type='px', value='2px'), column_labels_border_top_color=OptionsInfo(scss=True, category='column_labels', type='value', value='#D3D3D3'), column_labels_border_bottom_style=OptionsInfo(scss=True, category='column_labels', type='value', value='solid'), column_labels_border_bottom_width=OptionsInfo(scss=True, category='column_labels', type='px', value='2px'), column_labels_border_bottom_color=OptionsInfo(scss=True, category='column_labels', type='value', value='#D3D3D3'), column_labels_border_lr_style=OptionsInfo(scss=True, category='column_labels', type='value', value='none'), column_labels_border_lr_width=OptionsInfo(scss=True, category='column_labels', type='px', value='1px'), column_labels_border_lr_color=OptionsInfo(scss=True, category='column_labels', type='value', value='#D3D3D3'), column_labels_hidden=OptionsInfo(scss=False, category='column_labels', type='boolean', value=False), row_group_background_color=OptionsInfo(scss=True, category='row_group', type='value', value=None), row_group_font_size=OptionsInfo(scss=True, category='row_group', type='px', value='100%'), row_group_font_weight=OptionsInfo(scss=True, category='row_group', type='value', value='initial'), row_group_text_transform=OptionsInfo(scss=True, category='row_group', type='value', value='inherit'), row_group_padding=OptionsInfo(scss=True, category='row_group', type='px', value='8px'), row_group_padding_horizontal=OptionsInfo(scss=True, category='row_group', type='px', value='5px'), row_group_border_top_style=OptionsInfo(scss=True, category='row_group', type='value', value='solid'), row_group_border_top_width=OptionsInfo(scss=True, category='row_group', type='px', value='2px'), row_group_border_top_color=OptionsInfo(scss=True, category='row_group', type='value', value='#D3D3D3'), row_group_border_right_style=OptionsInfo(scss=True, category='row_group', type='value', value='none'), row_group_border_right_width=OptionsInfo(scss=True, category='row_group', type='px', value='1px'), row_group_border_right_color=OptionsInfo(scss=True, category='row_group', type='value', value='#D3D3D3'), row_group_border_bottom_style=OptionsInfo(scss=True, category='row_group', type='value', value='solid'), row_group_border_bottom_width=OptionsInfo(scss=True, category='row_group', type='px', value='2px'), row_group_border_bottom_color=OptionsInfo(scss=True, category='row_group', type='value', value='#D3D3D3'), row_group_border_left_style=OptionsInfo(scss=True, category='row_group', type='value', value='none'), row_group_border_left_width=OptionsInfo(scss=True, category='row_group', type='px', value='1px'), row_group_border_left_color=OptionsInfo(scss=True, category='row_group', type='value', value='#D3D3D3'), row_group_as_column=OptionsInfo(scss=False, category='row_group', type='boolean', value=False), table_body_hlines_style=OptionsInfo(scss=True, category='table_body', type='value', value='solid'), table_body_hlines_width=OptionsInfo(scss=True, category='table_body', type='px', value='1px'), table_body_hlines_color=OptionsInfo(scss=True, category='table_body', type='value', value='#D3D3D3'), table_body_vlines_style=OptionsInfo(scss=True, category='table_body', type='value', value='none'), table_body_vlines_width=OptionsInfo(scss=True, category='table_body', type='px', value='1px'), table_body_vlines_color=OptionsInfo(scss=True, category='table_body', type='value', value='#D3D3D3'), table_body_border_top_style=OptionsInfo(scss=True, category='table_body', type='value', value='solid'), table_body_border_top_width=OptionsInfo(scss=True, category='table_body', type='px', value='2px'), table_body_border_top_color=OptionsInfo(scss=True, category='table_body', type='value', value='#D3D3D3'), table_body_border_bottom_style=OptionsInfo(scss=True, category='table_body', type='value', value='solid'), table_body_border_bottom_width=OptionsInfo(scss=True, category='table_body', type='px', value='2px'), table_body_border_bottom_color=OptionsInfo(scss=True, category='table_body', type='value', value='#D3D3D3'), data_row_padding=OptionsInfo(scss=True, category='data_row', type='px', value='8px'), data_row_padding_horizontal=OptionsInfo(scss=True, category='data_row', type='px', value='5px'), stub_background_color=OptionsInfo(scss=True, category='stub', type='value', value=None), stub_font_size=OptionsInfo(scss=True, category='stub', type='px', value='100%'), stub_font_weight=OptionsInfo(scss=True, category='stub', type='value', value='initial'), stub_text_transform=OptionsInfo(scss=True, category='stub', type='value', value='inherit'), stub_border_style=OptionsInfo(scss=True, category='stub', type='value', value='solid'), stub_border_width=OptionsInfo(scss=True, category='stub', type='px', value='2px'), stub_border_color=OptionsInfo(scss=True, category='stub', type='value', value='#D3D3D3'), stub_row_group_background_color=OptionsInfo(scss=True, category='stub', type='value', value=None), stub_row_group_font_size=OptionsInfo(scss=True, category='stub', type='px', value='100%'), stub_row_group_font_weight=OptionsInfo(scss=True, category='stub', type='value', value='initial'), stub_row_group_text_transform=OptionsInfo(scss=True, category='stub', type='value', value='inherit'), stub_row_group_border_style=OptionsInfo(scss=True, category='stub', type='value', value='solid'), stub_row_group_border_width=OptionsInfo(scss=True, category='stub', type='px', value='2px'), stub_row_group_border_color=OptionsInfo(scss=True, category='stub', type='value', value='#D3D3D3'), source_notes_padding=OptionsInfo(scss=True, category='source_notes', type='px', value='4px'), source_notes_padding_horizontal=OptionsInfo(scss=True, category='source_notes', type='px', value='5px'), source_notes_background_color=OptionsInfo(scss=True, category='source_notes', type='value', value=None), source_notes_font_size=OptionsInfo(scss=True, category='source_notes', type='px', value='90%'), source_notes_border_bottom_style=OptionsInfo(scss=True, category='source_notes', type='value', value='none'), source_notes_border_bottom_width=OptionsInfo(scss=True, category='source_notes', type='px', value='2px'), source_notes_border_bottom_color=OptionsInfo(scss=True, category='source_notes', type='value', value='#D3D3D3'), source_notes_border_lr_style=OptionsInfo(scss=True, category='source_notes', type='value', value='none'), source_notes_border_lr_width=OptionsInfo(scss=True, category='source_notes', type='px', value='2px'), source_notes_border_lr_color=OptionsInfo(scss=True, category='source_notes', type='value', value='#D3D3D3'), source_notes_multiline=OptionsInfo(scss=False, category='source_notes', type='boolean', value=True), source_notes_sep=OptionsInfo(scss=False, category='source_notes', type='value', value=' '), row_striping_background_color=OptionsInfo(scss=True, category='row', type='value', value='rgba(128,128,128,0.05)'), row_striping_include_stub=OptionsInfo(scss=False, category='row', type='boolean', value=False), row_striping_include_table_body=OptionsInfo(scss=False, category='row', type='boolean', value=False), container_width=OptionsInfo(scss=False, category='container', type='px', value='auto'), container_height=OptionsInfo(scss=False, category='container', type='px', value='auto'), container_padding_x=OptionsInfo(scss=False, category='container', type='px', value='0px'), container_padding_y=OptionsInfo(scss=False, category='container', type='px', value='10px'), container_overflow_x=OptionsInfo(scss=False, category='container', type='overflow', value='auto'), container_overflow_y=OptionsInfo(scss=False, category='container', type='overflow', value='auto'), quarto_disable_processing=OptionsInfo(scss=False, category='quarto', type='logical', value=False), quarto_use_bootstrap=OptionsInfo(scss=False, category='quarto', type='logical', value=False)), _has_built=False)"
      ]
     },
     "execution_count": 34,
     "metadata": {},
     "output_type": "execute_result"
    }
   ],
   "source": [
    "(\n",
    "    GT(penetration, rowname_col='brand')\n",
    "    .tab_header(title='Penetration by Category & Brand')\n",
    "    .tab_stubhead(label=\"Brands/Category\")\n",
    "    .fmt_percent()\n",
    "    .data_color(\n",
    "        rows=['Alpha', 'Bravo', 'Charlie', 'Delta', 'Other'],\n",
    "        domain=[0, 1],\n",
    "        palette=['white', 'rebeccapurple']\n",
    "    )  \n",
    "    .cols_label(penetration='Penetration (%)')\n",
    "    .cols_hide('buyers')\n",
    ")"
   ]
  },
  {
   "cell_type": "code",
   "execution_count": 35,
   "metadata": {},
   "outputs": [
    {
     "data": {
      "text/html": [
       "<div id=\"byhtcckwmv\" style=\"padding-left:0px;padding-right:0px;padding-top:10px;padding-bottom:10px;overflow-x:auto;overflow-y:auto;width:auto;height:auto;\">\n",
       "<style>\n",
       "#byhtcckwmv table {\n",
       "          font-family: -apple-system, BlinkMacSystemFont, 'Segoe UI', Roboto, Oxygen, Ubuntu, Cantarell, 'Helvetica Neue', 'Fira Sans', 'Droid Sans', Arial, sans-serif;\n",
       "          -webkit-font-smoothing: antialiased;\n",
       "          -moz-osx-font-smoothing: grayscale;\n",
       "        }\n",
       "\n",
       "#byhtcckwmv thead, tbody, tfoot, tr, td, th { border-style: none !important; }\n",
       " tr { background-color: transparent !important; }\n",
       "#byhtcckwmv p { margin: 0 !important; padding: 0 !important; }\n",
       " #byhtcckwmv .gt_table { display: table !important; border-collapse: collapse !important; line-height: normal !important; margin-left: auto !important; margin-right: auto !important; color: #333333 !important; font-size: 16px !important; font-weight: normal !important; font-style: normal !important; background-color: #FFFFFF !important; width: auto !important; border-top-style: solid !important; border-top-width: 2px !important; border-top-color: #A8A8A8 !important; border-right-style: none !important; border-right-width: 2px !important; border-right-color: #D3D3D3 !important; border-bottom-style: solid !important; border-bottom-width: 2px !important; border-bottom-color: #A8A8A8 !important; border-left-style: none !important; border-left-width: 2px !important; border-left-color: #D3D3D3 !important; }\n",
       " #byhtcckwmv .gt_caption { padding-top: 4px !important; padding-bottom: 4px !important; }\n",
       " #byhtcckwmv .gt_title { color: #333333 !important; font-size: 125% !important; font-weight: initial !important; padding-top: 4px !important; padding-bottom: 4px !important; padding-left: 5px !important; padding-right: 5px !important; border-bottom-color: #FFFFFF !important; border-bottom-width: 0 !important; }\n",
       " #byhtcckwmv .gt_subtitle { color: #333333 !important; font-size: 85% !important; font-weight: initial !important; padding-top: 3px !important; padding-bottom: 5px !important; padding-left: 5px !important; padding-right: 5px !important; border-top-color: #FFFFFF !important; border-top-width: 0 !important; }\n",
       " #byhtcckwmv .gt_heading { background-color: #FFFFFF !important; text-align: center !important; border-bottom-color: #FFFFFF !important; border-left-style: none !important; border-left-width: 1px !important; border-left-color: #D3D3D3 !important; border-right-style: none !important; border-right-width: 1px !important; border-right-color: #D3D3D3 !important; }\n",
       " #byhtcckwmv .gt_bottom_border { border-bottom-style: solid !important; border-bottom-width: 2px !important; border-bottom-color: #D3D3D3 !important; }\n",
       " #byhtcckwmv .gt_col_headings { border-top-style: solid !important; border-top-width: 2px !important; border-top-color: #D3D3D3 !important; border-bottom-style: solid !important; border-bottom-width: 2px !important; border-bottom-color: #D3D3D3 !important; border-left-style: none !important; border-left-width: 1px !important; border-left-color: #D3D3D3 !important; border-right-style: none !important; border-right-width: 1px !important; border-right-color: #D3D3D3 !important; }\n",
       " #byhtcckwmv .gt_col_heading { color: #333333 !important; background-color: #FFFFFF !important; font-size: 100% !important; font-weight: normal !important; text-transform: inherit !important; border-left-style: none !important; border-left-width: 1px !important; border-left-color: #D3D3D3 !important; border-right-style: none !important; border-right-width: 1px !important; border-right-color: #D3D3D3 !important; vertical-align: bottom !important; padding-top: 5px !important; padding-bottom: 5px !important; padding-left: 5px !important; padding-right: 5px !important; overflow-x: hidden !important; }\n",
       " #byhtcckwmv .gt_column_spanner_outer { color: #333333 !important; background-color: #FFFFFF !important; font-size: 100% !important; font-weight: normal !important; text-transform: inherit !important; padding-top: 0 !important; padding-bottom: 0 !important; padding-left: 4px !important; padding-right: 4px !important; }\n",
       " #byhtcckwmv .gt_column_spanner_outer:first-child { padding-left: 0 !important; }\n",
       " #byhtcckwmv .gt_column_spanner_outer:last-child { padding-right: 0 !important; }\n",
       " #byhtcckwmv .gt_column_spanner { border-bottom-style: solid !important; border-bottom-width: 2px !important; border-bottom-color: #D3D3D3 !important; vertical-align: bottom !important; padding-top: 5px !important; padding-bottom: 5px !important; overflow-x: hidden !important; display: inline-block !important; width: 100% !important; }\n",
       " #byhtcckwmv .gt_spanner_row { border-bottom-style: hidden !important; }\n",
       " #byhtcckwmv .gt_group_heading { padding-top: 8px !important; padding-bottom: 8px !important; padding-left: 5px !important; padding-right: 5px !important; color: #333333 !important; background-color: #FFFFFF !important; font-size: 100% !important; font-weight: initial !important; text-transform: inherit !important; border-top-style: solid !important; border-top-width: 2px !important; border-top-color: #D3D3D3 !important; border-bottom-style: solid !important; border-bottom-width: 2px !important; border-bottom-color: #D3D3D3 !important; border-left-style: none !important; border-left-width: 1px !important; border-left-color: #D3D3D3 !important; border-right-style: none !important; border-right-width: 1px !important; border-right-color: #D3D3D3 !important; vertical-align: middle !important; text-align: left !important; }\n",
       " #byhtcckwmv .gt_empty_group_heading { padding: 0.5px !important; color: #333333 !important; background-color: #FFFFFF !important; font-size: 100% !important; font-weight: initial !important; border-top-style: solid !important; border-top-width: 2px !important; border-top-color: #D3D3D3 !important; border-bottom-style: solid !important; border-bottom-width: 2px !important; border-bottom-color: #D3D3D3 !important; vertical-align: middle !important; }\n",
       " #byhtcckwmv .gt_from_md> :first-child { margin-top: 0 !important; }\n",
       " #byhtcckwmv .gt_from_md> :last-child { margin-bottom: 0 !important; }\n",
       " #byhtcckwmv .gt_row { padding-top: 8px !important; padding-bottom: 8px !important; padding-left: 5px !important; padding-right: 5px !important; margin: 10px !important; border-top-style: solid !important; border-top-width: 1px !important; border-top-color: #D3D3D3 !important; border-left-style: none !important; border-left-width: 1px !important; border-left-color: #D3D3D3 !important; border-right-style: none !important; border-right-width: 1px !important; border-right-color: #D3D3D3 !important; vertical-align: middle !important; overflow-x: hidden !important; }\n",
       " #byhtcckwmv .gt_stub { color: #333333 !important; background-color: #FFFFFF !important; font-size: 100% !important; font-weight: initial !important; text-transform: inherit !important; border-right-style: solid !important; border-right-width: 2px !important; border-right-color: #D3D3D3 !important; padding-left: 5px !important; padding-right: 5px !important; }\n",
       " #byhtcckwmv .gt_stub_row_group { color: #333333 !important; background-color: #FFFFFF !important; font-size: 100% !important; font-weight: initial !important; text-transform: inherit !important; border-right-style: solid !important; border-right-width: 2px !important; border-right-color: #D3D3D3 !important; padding-left: 5px !important; padding-right: 5px !important; vertical-align: top !important; }\n",
       " #byhtcckwmv .gt_row_group_first td { border-top-width: 2px !important; }\n",
       " #byhtcckwmv .gt_row_group_first th { border-top-width: 2px !important; }\n",
       " #byhtcckwmv .gt_striped { background-color: rgba(128,128,128,0.05) !important; }\n",
       " #byhtcckwmv .gt_table_body { border-top-style: solid !important; border-top-width: 2px !important; border-top-color: #D3D3D3 !important; border-bottom-style: solid !important; border-bottom-width: 2px !important; border-bottom-color: #D3D3D3 !important; }\n",
       " #byhtcckwmv .gt_sourcenotes { color: #333333 !important; background-color: #FFFFFF !important; border-bottom-style: none !important; border-bottom-width: 2px !important; border-bottom-color: #D3D3D3 !important; border-left-style: none !important; border-left-width: 2px !important; border-left-color: #D3D3D3 !important; border-right-style: none !important; border-right-width: 2px !important; border-right-color: #D3D3D3 !important; }\n",
       " #byhtcckwmv .gt_sourcenote { font-size: 90% !important; padding-top: 4px !important; padding-bottom: 4px !important; padding-left: 5px !important; padding-right: 5px !important; text-align: left !important; }\n",
       " #byhtcckwmv .gt_left { text-align: left !important; }\n",
       " #byhtcckwmv .gt_center { text-align: center !important; }\n",
       " #byhtcckwmv .gt_right { text-align: right !important; font-variant-numeric: tabular-nums !important; }\n",
       " #byhtcckwmv .gt_font_normal { font-weight: normal !important; }\n",
       " #byhtcckwmv .gt_font_bold { font-weight: bold !important; }\n",
       " #byhtcckwmv .gt_font_italic { font-style: italic !important; }\n",
       " #byhtcckwmv .gt_super { font-size: 65% !important; }\n",
       " #byhtcckwmv .gt_footnote_marks { font-size: 75% !important; vertical-align: 0.4em !important; position: initial !important; }\n",
       " #byhtcckwmv .gt_asterisk { font-size: 100% !important; vertical-align: 0 !important; }\n",
       " \n",
       "</style>\n",
       "<table class=\"gt_table\" data-quarto-disable-processing=\"false\" data-quarto-bootstrap=\"false\">\n",
       "<thead>\n",
       "\n",
       "  <tr class=\"gt_heading\">\n",
       "    <td colspan=\"2\" class=\"gt_heading gt_title gt_font_normal\">Purchases per Buyer (PPB)</td>\n",
       "  </tr>\n",
       "<tr class=\"gt_col_headings\">\n",
       "  <th class=\"gt_col_heading gt_columns_bottom_border gt_left\" rowspan=\"1\" colspan=\"1\" scope=\"col\" id=\"Brands/Category\">Brands/Category</th>\n",
       "  <th class=\"gt_col_heading gt_columns_bottom_border gt_right\" rowspan=\"1\" colspan=\"1\" scope=\"col\" id=\"PPB\">PPB</th>\n",
       "</tr>\n",
       "</thead>\n",
       "<tbody class=\"gt_table_body\">\n",
       "  <tr>\n",
       "    <th style=\"color: #000000; background-color: #808080;\" class=\"gt_row gt_left gt_stub\">Alpha</th>\n",
       "    <td style=\"color: #000000; background-color: #9572b9;\" class=\"gt_row gt_right\">3.45</td>\n",
       "  </tr>\n",
       "  <tr>\n",
       "    <th style=\"color: #000000; background-color: #808080;\" class=\"gt_row gt_left gt_stub\">Bravo</th>\n",
       "    <td style=\"color: #000000; background-color: #9c7cbd;\" class=\"gt_row gt_right\">3.22</td>\n",
       "  </tr>\n",
       "  <tr>\n",
       "    <th style=\"color: #000000; background-color: #808080;\" class=\"gt_row gt_left gt_stub\">Charlie</th>\n",
       "    <td style=\"color: #000000; background-color: #b8a1d0;\" class=\"gt_row gt_right\">2.31</td>\n",
       "  </tr>\n",
       "  <tr>\n",
       "    <th style=\"color: #000000; background-color: #808080;\" class=\"gt_row gt_left gt_stub\">Delta</th>\n",
       "    <td style=\"color: #000000; background-color: #baa3d1;\" class=\"gt_row gt_right\">2.26</td>\n",
       "  </tr>\n",
       "  <tr>\n",
       "    <th style=\"color: #000000; background-color: #808080;\" class=\"gt_row gt_left gt_stub\">Other</th>\n",
       "    <td style=\"color: #000000; background-color: #b69dce;\" class=\"gt_row gt_right\">2.40</td>\n",
       "  </tr>\n",
       "  <tr>\n",
       "    <th class=\"gt_row gt_left gt_stub\">Category</th>\n",
       "    <td class=\"gt_row gt_right\">4.38</td>\n",
       "  </tr>\n",
       "</tbody>\n",
       "\n",
       "\n",
       "</table>\n",
       "\n",
       "</div>\n",
       "        "
      ],
      "text/plain": [
       "GT(_tbl_data=shape: (6, 3)\n",
       "┌──────────┬──────────────┬──────────┐\n",
       "│ brand    ┆ transactions ┆ ppb      │\n",
       "│ ---      ┆ ---          ┆ ---      │\n",
       "│ str      ┆ u32          ┆ f64      │\n",
       "╞══════════╪══════════════╪══════════╡\n",
       "│ Alpha    ┆ 9060         ┆ 3.452744 │\n",
       "│ Bravo    ┆ 8255         ┆ 3.222092 │\n",
       "│ Charlie  ┆ 1882         ┆ 2.314883 │\n",
       "│ Delta    ┆ 859          ┆ 2.260526 │\n",
       "│ Other    ┆ 422          ┆ 2.397727 │\n",
       "│ Category ┆ 20030        ┆ 4.379099 │\n",
       "└──────────┴──────────────┴──────────┘, _body=<great_tables._gt_data.Body object at 0x000001EFEBFEE090>, _boxhead=Boxhead([ColInfo(var='brand', type=<ColInfoTypeEnum.stub: 2>, column_label='brand', column_align='left', column_width=None), ColInfo(var='transactions', type=<ColInfoTypeEnum.hidden: 4>, column_label='transactions', column_align='center', column_width=None), ColInfo(var='ppb', type=<ColInfoTypeEnum.default: 1>, column_label='PPB', column_align='right', column_width=None)]), _stub=<great_tables._gt_data.Stub object at 0x000001EFEBFE1A30>, _spanners=Spanners([]), _heading=Heading(title='Purchases per Buyer (PPB)', subtitle=None, preheader=None), _stubhead='Brands/Category', _source_notes=[], _footnotes=[], _styles=[StyleInfo(locname=LocBody(columns='brand', rows=[0]), grpname=None, colname='brand', rownum=0, colnum=None, styles=[CellStyleText(color='#000000', font=None, size=None, align=None, v_align=None, style=None, weight=None, stretch=None, decorate=None, transform=None, whitespace=None), CellStyleFill(color='#808080')]), StyleInfo(locname=LocBody(columns='brand', rows=[1]), grpname=None, colname='brand', rownum=1, colnum=None, styles=[CellStyleText(color='#000000', font=None, size=None, align=None, v_align=None, style=None, weight=None, stretch=None, decorate=None, transform=None, whitespace=None), CellStyleFill(color='#808080')]), StyleInfo(locname=LocBody(columns='brand', rows=[2]), grpname=None, colname='brand', rownum=2, colnum=None, styles=[CellStyleText(color='#000000', font=None, size=None, align=None, v_align=None, style=None, weight=None, stretch=None, decorate=None, transform=None, whitespace=None), CellStyleFill(color='#808080')]), StyleInfo(locname=LocBody(columns='brand', rows=[3]), grpname=None, colname='brand', rownum=3, colnum=None, styles=[CellStyleText(color='#000000', font=None, size=None, align=None, v_align=None, style=None, weight=None, stretch=None, decorate=None, transform=None, whitespace=None), CellStyleFill(color='#808080')]), StyleInfo(locname=LocBody(columns='brand', rows=[4]), grpname=None, colname='brand', rownum=4, colnum=None, styles=[CellStyleText(color='#000000', font=None, size=None, align=None, v_align=None, style=None, weight=None, stretch=None, decorate=None, transform=None, whitespace=None), CellStyleFill(color='#808080')]), StyleInfo(locname=LocBody(columns='transactions', rows=[0]), grpname=None, colname='transactions', rownum=0, colnum=None, styles=[CellStyleText(color='#000000', font=None, size=None, align=None, v_align=None, style=None, weight=None, stretch=None, decorate=None, transform=None, whitespace=None), CellStyleFill(color='#808080')]), StyleInfo(locname=LocBody(columns='transactions', rows=[1]), grpname=None, colname='transactions', rownum=1, colnum=None, styles=[CellStyleText(color='#000000', font=None, size=None, align=None, v_align=None, style=None, weight=None, stretch=None, decorate=None, transform=None, whitespace=None), CellStyleFill(color='#808080')]), StyleInfo(locname=LocBody(columns='transactions', rows=[2]), grpname=None, colname='transactions', rownum=2, colnum=None, styles=[CellStyleText(color='#000000', font=None, size=None, align=None, v_align=None, style=None, weight=None, stretch=None, decorate=None, transform=None, whitespace=None), CellStyleFill(color='#808080')]), StyleInfo(locname=LocBody(columns='transactions', rows=[3]), grpname=None, colname='transactions', rownum=3, colnum=None, styles=[CellStyleText(color='#000000', font=None, size=None, align=None, v_align=None, style=None, weight=None, stretch=None, decorate=None, transform=None, whitespace=None), CellStyleFill(color='#808080')]), StyleInfo(locname=LocBody(columns='transactions', rows=[4]), grpname=None, colname='transactions', rownum=4, colnum=None, styles=[CellStyleText(color='#000000', font=None, size=None, align=None, v_align=None, style=None, weight=None, stretch=None, decorate=None, transform=None, whitespace=None), CellStyleFill(color='#808080')]), StyleInfo(locname=LocBody(columns='ppb', rows=[0]), grpname=None, colname='ppb', rownum=0, colnum=None, styles=[CellStyleText(color='#000000', font=None, size=None, align=None, v_align=None, style=None, weight=None, stretch=None, decorate=None, transform=None, whitespace=None), CellStyleFill(color='#9572b9')]), StyleInfo(locname=LocBody(columns='ppb', rows=[1]), grpname=None, colname='ppb', rownum=1, colnum=None, styles=[CellStyleText(color='#000000', font=None, size=None, align=None, v_align=None, style=None, weight=None, stretch=None, decorate=None, transform=None, whitespace=None), CellStyleFill(color='#9c7cbd')]), StyleInfo(locname=LocBody(columns='ppb', rows=[2]), grpname=None, colname='ppb', rownum=2, colnum=None, styles=[CellStyleText(color='#000000', font=None, size=None, align=None, v_align=None, style=None, weight=None, stretch=None, decorate=None, transform=None, whitespace=None), CellStyleFill(color='#b8a1d0')]), StyleInfo(locname=LocBody(columns='ppb', rows=[3]), grpname=None, colname='ppb', rownum=3, colnum=None, styles=[CellStyleText(color='#000000', font=None, size=None, align=None, v_align=None, style=None, weight=None, stretch=None, decorate=None, transform=None, whitespace=None), CellStyleFill(color='#baa3d1')]), StyleInfo(locname=LocBody(columns='ppb', rows=[4]), grpname=None, colname='ppb', rownum=4, colnum=None, styles=[CellStyleText(color='#000000', font=None, size=None, align=None, v_align=None, style=None, weight=None, stretch=None, decorate=None, transform=None, whitespace=None), CellStyleFill(color='#b69dce')])], _locale=<great_tables._gt_data.Locale object at 0x000001EFEBFE1610>, _formats=[<great_tables._gt_data.FormatInfo object at 0x000001EFEBFE0050>], _substitutions=[], _options=Options(table_id=OptionsInfo(scss=False, category='table', type='value', value=None), table_caption=OptionsInfo(scss=False, category='table', type='value', value=None), table_width=OptionsInfo(scss=True, category='table', type='px', value='auto'), table_layout=OptionsInfo(scss=True, category='table', type='value', value='fixed'), table_margin_left=OptionsInfo(scss=True, category='table', type='px', value='auto'), table_margin_right=OptionsInfo(scss=True, category='table', type='px', value='auto'), table_background_color=OptionsInfo(scss=True, category='table', type='value', value='#FFFFFF'), table_additional_css=OptionsInfo(scss=False, category='table', type='values', value=[]), table_font_names=OptionsInfo(scss=False, category='table', type='values', value=['-apple-system', 'BlinkMacSystemFont', 'Segoe UI', 'Roboto', 'Oxygen', 'Ubuntu', 'Cantarell', 'Helvetica Neue', 'Fira Sans', 'Droid Sans', 'Arial', 'sans-serif']), table_font_size=OptionsInfo(scss=True, category='table', type='px', value='16px'), table_font_weight=OptionsInfo(scss=True, category='table', type='value', value='normal'), table_font_style=OptionsInfo(scss=True, category='table', type='value', value='normal'), table_font_color=OptionsInfo(scss=True, category='table', type='value', value='#333333'), table_font_color_light=OptionsInfo(scss=True, category='table', type='value', value='#FFFFFF'), table_border_top_include=OptionsInfo(scss=False, category='table', type='boolean', value=True), table_border_top_style=OptionsInfo(scss=True, category='table', type='value', value='solid'), table_border_top_width=OptionsInfo(scss=True, category='table', type='px', value='2px'), table_border_top_color=OptionsInfo(scss=True, category='table', type='value', value='#A8A8A8'), table_border_right_style=OptionsInfo(scss=True, category='table', type='value', value='none'), table_border_right_width=OptionsInfo(scss=True, category='table', type='px', value='2px'), table_border_right_color=OptionsInfo(scss=True, category='table', type='value', value='#D3D3D3'), table_border_bottom_include=OptionsInfo(scss=False, category='table', type='boolean', value=True), table_border_bottom_style=OptionsInfo(scss=True, category='table', type='value', value='solid'), table_border_bottom_width=OptionsInfo(scss=True, category='table', type='px', value='2px'), table_border_bottom_color=OptionsInfo(scss=True, category='table', type='value', value='#A8A8A8'), table_border_left_style=OptionsInfo(scss=True, category='table', type='value', value='none'), table_border_left_width=OptionsInfo(scss=True, category='table', type='px', value='2px'), table_border_left_color=OptionsInfo(scss=True, category='table', type='value', value='#D3D3D3'), heading_background_color=OptionsInfo(scss=True, category='heading', type='value', value=None), heading_align=OptionsInfo(scss=True, category='heading', type='value', value='center'), heading_title_font_size=OptionsInfo(scss=True, category='heading', type='px', value='125%'), heading_title_font_weight=OptionsInfo(scss=True, category='heading', type='value', value='initial'), heading_subtitle_font_size=OptionsInfo(scss=True, category='heading', type='px', value='85%'), heading_subtitle_font_weight=OptionsInfo(scss=True, category='heading', type='value', value='initial'), heading_padding=OptionsInfo(scss=True, category='heading', type='px', value='4px'), heading_padding_horizontal=OptionsInfo(scss=True, category='heading', type='px', value='5px'), heading_border_bottom_style=OptionsInfo(scss=True, category='heading', type='value', value='solid'), heading_border_bottom_width=OptionsInfo(scss=True, category='heading', type='px', value='2px'), heading_border_bottom_color=OptionsInfo(scss=True, category='heading', type='value', value='#D3D3D3'), heading_border_lr_style=OptionsInfo(scss=True, category='heading', type='value', value='none'), heading_border_lr_width=OptionsInfo(scss=True, category='heading', type='px', value='1px'), heading_border_lr_color=OptionsInfo(scss=True, category='heading', type='value', value='#D3D3D3'), column_labels_background_color=OptionsInfo(scss=True, category='column_labels', type='value', value=None), column_labels_font_size=OptionsInfo(scss=True, category='column_labels', type='px', value='100%'), column_labels_font_weight=OptionsInfo(scss=True, category='column_labels', type='value', value='normal'), column_labels_text_transform=OptionsInfo(scss=True, category='column_labels', type='value', value='inherit'), column_labels_padding=OptionsInfo(scss=True, category='column_labels', type='px', value='5px'), column_labels_padding_horizontal=OptionsInfo(scss=True, category='column_labels', type='px', value='5px'), column_labels_vlines_style=OptionsInfo(scss=True, category='table_body', type='value', value='none'), column_labels_vlines_width=OptionsInfo(scss=True, category='table_body', type='px', value='1px'), column_labels_vlines_color=OptionsInfo(scss=True, category='table_body', type='value', value='#D3D3D3'), column_labels_border_top_style=OptionsInfo(scss=True, category='column_labels', type='value', value='solid'), column_labels_border_top_width=OptionsInfo(scss=True, category='column_labels', type='px', value='2px'), column_labels_border_top_color=OptionsInfo(scss=True, category='column_labels', type='value', value='#D3D3D3'), column_labels_border_bottom_style=OptionsInfo(scss=True, category='column_labels', type='value', value='solid'), column_labels_border_bottom_width=OptionsInfo(scss=True, category='column_labels', type='px', value='2px'), column_labels_border_bottom_color=OptionsInfo(scss=True, category='column_labels', type='value', value='#D3D3D3'), column_labels_border_lr_style=OptionsInfo(scss=True, category='column_labels', type='value', value='none'), column_labels_border_lr_width=OptionsInfo(scss=True, category='column_labels', type='px', value='1px'), column_labels_border_lr_color=OptionsInfo(scss=True, category='column_labels', type='value', value='#D3D3D3'), column_labels_hidden=OptionsInfo(scss=False, category='column_labels', type='boolean', value=False), row_group_background_color=OptionsInfo(scss=True, category='row_group', type='value', value=None), row_group_font_size=OptionsInfo(scss=True, category='row_group', type='px', value='100%'), row_group_font_weight=OptionsInfo(scss=True, category='row_group', type='value', value='initial'), row_group_text_transform=OptionsInfo(scss=True, category='row_group', type='value', value='inherit'), row_group_padding=OptionsInfo(scss=True, category='row_group', type='px', value='8px'), row_group_padding_horizontal=OptionsInfo(scss=True, category='row_group', type='px', value='5px'), row_group_border_top_style=OptionsInfo(scss=True, category='row_group', type='value', value='solid'), row_group_border_top_width=OptionsInfo(scss=True, category='row_group', type='px', value='2px'), row_group_border_top_color=OptionsInfo(scss=True, category='row_group', type='value', value='#D3D3D3'), row_group_border_right_style=OptionsInfo(scss=True, category='row_group', type='value', value='none'), row_group_border_right_width=OptionsInfo(scss=True, category='row_group', type='px', value='1px'), row_group_border_right_color=OptionsInfo(scss=True, category='row_group', type='value', value='#D3D3D3'), row_group_border_bottom_style=OptionsInfo(scss=True, category='row_group', type='value', value='solid'), row_group_border_bottom_width=OptionsInfo(scss=True, category='row_group', type='px', value='2px'), row_group_border_bottom_color=OptionsInfo(scss=True, category='row_group', type='value', value='#D3D3D3'), row_group_border_left_style=OptionsInfo(scss=True, category='row_group', type='value', value='none'), row_group_border_left_width=OptionsInfo(scss=True, category='row_group', type='px', value='1px'), row_group_border_left_color=OptionsInfo(scss=True, category='row_group', type='value', value='#D3D3D3'), row_group_as_column=OptionsInfo(scss=False, category='row_group', type='boolean', value=False), table_body_hlines_style=OptionsInfo(scss=True, category='table_body', type='value', value='solid'), table_body_hlines_width=OptionsInfo(scss=True, category='table_body', type='px', value='1px'), table_body_hlines_color=OptionsInfo(scss=True, category='table_body', type='value', value='#D3D3D3'), table_body_vlines_style=OptionsInfo(scss=True, category='table_body', type='value', value='none'), table_body_vlines_width=OptionsInfo(scss=True, category='table_body', type='px', value='1px'), table_body_vlines_color=OptionsInfo(scss=True, category='table_body', type='value', value='#D3D3D3'), table_body_border_top_style=OptionsInfo(scss=True, category='table_body', type='value', value='solid'), table_body_border_top_width=OptionsInfo(scss=True, category='table_body', type='px', value='2px'), table_body_border_top_color=OptionsInfo(scss=True, category='table_body', type='value', value='#D3D3D3'), table_body_border_bottom_style=OptionsInfo(scss=True, category='table_body', type='value', value='solid'), table_body_border_bottom_width=OptionsInfo(scss=True, category='table_body', type='px', value='2px'), table_body_border_bottom_color=OptionsInfo(scss=True, category='table_body', type='value', value='#D3D3D3'), data_row_padding=OptionsInfo(scss=True, category='data_row', type='px', value='8px'), data_row_padding_horizontal=OptionsInfo(scss=True, category='data_row', type='px', value='5px'), stub_background_color=OptionsInfo(scss=True, category='stub', type='value', value=None), stub_font_size=OptionsInfo(scss=True, category='stub', type='px', value='100%'), stub_font_weight=OptionsInfo(scss=True, category='stub', type='value', value='initial'), stub_text_transform=OptionsInfo(scss=True, category='stub', type='value', value='inherit'), stub_border_style=OptionsInfo(scss=True, category='stub', type='value', value='solid'), stub_border_width=OptionsInfo(scss=True, category='stub', type='px', value='2px'), stub_border_color=OptionsInfo(scss=True, category='stub', type='value', value='#D3D3D3'), stub_row_group_background_color=OptionsInfo(scss=True, category='stub', type='value', value=None), stub_row_group_font_size=OptionsInfo(scss=True, category='stub', type='px', value='100%'), stub_row_group_font_weight=OptionsInfo(scss=True, category='stub', type='value', value='initial'), stub_row_group_text_transform=OptionsInfo(scss=True, category='stub', type='value', value='inherit'), stub_row_group_border_style=OptionsInfo(scss=True, category='stub', type='value', value='solid'), stub_row_group_border_width=OptionsInfo(scss=True, category='stub', type='px', value='2px'), stub_row_group_border_color=OptionsInfo(scss=True, category='stub', type='value', value='#D3D3D3'), source_notes_padding=OptionsInfo(scss=True, category='source_notes', type='px', value='4px'), source_notes_padding_horizontal=OptionsInfo(scss=True, category='source_notes', type='px', value='5px'), source_notes_background_color=OptionsInfo(scss=True, category='source_notes', type='value', value=None), source_notes_font_size=OptionsInfo(scss=True, category='source_notes', type='px', value='90%'), source_notes_border_bottom_style=OptionsInfo(scss=True, category='source_notes', type='value', value='none'), source_notes_border_bottom_width=OptionsInfo(scss=True, category='source_notes', type='px', value='2px'), source_notes_border_bottom_color=OptionsInfo(scss=True, category='source_notes', type='value', value='#D3D3D3'), source_notes_border_lr_style=OptionsInfo(scss=True, category='source_notes', type='value', value='none'), source_notes_border_lr_width=OptionsInfo(scss=True, category='source_notes', type='px', value='2px'), source_notes_border_lr_color=OptionsInfo(scss=True, category='source_notes', type='value', value='#D3D3D3'), source_notes_multiline=OptionsInfo(scss=False, category='source_notes', type='boolean', value=True), source_notes_sep=OptionsInfo(scss=False, category='source_notes', type='value', value=' '), row_striping_background_color=OptionsInfo(scss=True, category='row', type='value', value='rgba(128,128,128,0.05)'), row_striping_include_stub=OptionsInfo(scss=False, category='row', type='boolean', value=False), row_striping_include_table_body=OptionsInfo(scss=False, category='row', type='boolean', value=False), container_width=OptionsInfo(scss=False, category='container', type='px', value='auto'), container_height=OptionsInfo(scss=False, category='container', type='px', value='auto'), container_padding_x=OptionsInfo(scss=False, category='container', type='px', value='0px'), container_padding_y=OptionsInfo(scss=False, category='container', type='px', value='10px'), container_overflow_x=OptionsInfo(scss=False, category='container', type='overflow', value='auto'), container_overflow_y=OptionsInfo(scss=False, category='container', type='overflow', value='auto'), quarto_disable_processing=OptionsInfo(scss=False, category='quarto', type='logical', value=False), quarto_use_bootstrap=OptionsInfo(scss=False, category='quarto', type='logical', value=False)), _has_built=False)"
      ]
     },
     "execution_count": 35,
     "metadata": {},
     "output_type": "execute_result"
    }
   ],
   "source": [
    "(\n",
    "    GT(ppb, rowname_col='brand')\n",
    "    .tab_header(title='Purchases per Buyer (PPB)')\n",
    "    .tab_stubhead(label=\"Brands/Category\")\n",
    "    .fmt_number()\n",
    "    .data_color(\n",
    "        rows=['Alpha', 'Bravo', 'Charlie', 'Delta', 'Other'],\n",
    "        domain=[0, 5],\n",
    "        palette=['white', 'rebeccapurple']\n",
    "    )  \n",
    "    .cols_label(ppb='PPB')\n",
    "    .cols_hide('transactions')\n",
    ")"
   ]
  },
  {
   "cell_type": "markdown",
   "metadata": {},
   "source": [
    "#### Distribution of Purchase"
   ]
  },
  {
   "cell_type": "markdown",
   "metadata": {},
   "source": [
    "##### Distribution of Category Purchase Frequency"
   ]
  },
  {
   "cell_type": "code",
   "execution_count": 36,
   "metadata": {},
   "outputs": [
    {
     "data": {
      "text/html": [
       "<div id=\"npejwoxecs\" style=\"padding-left:0px;padding-right:0px;padding-top:10px;padding-bottom:10px;overflow-x:auto;overflow-y:auto;width:auto;height:auto;\">\n",
       "<style>\n",
       "#npejwoxecs table {\n",
       "          font-family: -apple-system, BlinkMacSystemFont, 'Segoe UI', Roboto, Oxygen, Ubuntu, Cantarell, 'Helvetica Neue', 'Fira Sans', 'Droid Sans', Arial, sans-serif;\n",
       "          -webkit-font-smoothing: antialiased;\n",
       "          -moz-osx-font-smoothing: grayscale;\n",
       "        }\n",
       "\n",
       "#npejwoxecs thead, tbody, tfoot, tr, td, th { border-style: none !important; }\n",
       " tr { background-color: transparent !important; }\n",
       "#npejwoxecs p { margin: 0 !important; padding: 0 !important; }\n",
       " #npejwoxecs .gt_table { display: table !important; border-collapse: collapse !important; line-height: normal !important; margin-left: auto !important; margin-right: auto !important; color: #333333 !important; font-size: 16px !important; font-weight: normal !important; font-style: normal !important; background-color: #FFFFFF !important; width: auto !important; border-top-style: solid !important; border-top-width: 2px !important; border-top-color: #A8A8A8 !important; border-right-style: none !important; border-right-width: 2px !important; border-right-color: #D3D3D3 !important; border-bottom-style: solid !important; border-bottom-width: 2px !important; border-bottom-color: #A8A8A8 !important; border-left-style: none !important; border-left-width: 2px !important; border-left-color: #D3D3D3 !important; }\n",
       " #npejwoxecs .gt_caption { padding-top: 4px !important; padding-bottom: 4px !important; }\n",
       " #npejwoxecs .gt_title { color: #333333 !important; font-size: 125% !important; font-weight: initial !important; padding-top: 4px !important; padding-bottom: 4px !important; padding-left: 5px !important; padding-right: 5px !important; border-bottom-color: #FFFFFF !important; border-bottom-width: 0 !important; }\n",
       " #npejwoxecs .gt_subtitle { color: #333333 !important; font-size: 85% !important; font-weight: initial !important; padding-top: 3px !important; padding-bottom: 5px !important; padding-left: 5px !important; padding-right: 5px !important; border-top-color: #FFFFFF !important; border-top-width: 0 !important; }\n",
       " #npejwoxecs .gt_heading { background-color: #FFFFFF !important; text-align: center !important; border-bottom-color: #FFFFFF !important; border-left-style: none !important; border-left-width: 1px !important; border-left-color: #D3D3D3 !important; border-right-style: none !important; border-right-width: 1px !important; border-right-color: #D3D3D3 !important; }\n",
       " #npejwoxecs .gt_bottom_border { border-bottom-style: solid !important; border-bottom-width: 2px !important; border-bottom-color: #D3D3D3 !important; }\n",
       " #npejwoxecs .gt_col_headings { border-top-style: solid !important; border-top-width: 2px !important; border-top-color: #D3D3D3 !important; border-bottom-style: solid !important; border-bottom-width: 2px !important; border-bottom-color: #D3D3D3 !important; border-left-style: none !important; border-left-width: 1px !important; border-left-color: #D3D3D3 !important; border-right-style: none !important; border-right-width: 1px !important; border-right-color: #D3D3D3 !important; }\n",
       " #npejwoxecs .gt_col_heading { color: #333333 !important; background-color: #FFFFFF !important; font-size: 100% !important; font-weight: normal !important; text-transform: inherit !important; border-left-style: none !important; border-left-width: 1px !important; border-left-color: #D3D3D3 !important; border-right-style: none !important; border-right-width: 1px !important; border-right-color: #D3D3D3 !important; vertical-align: bottom !important; padding-top: 5px !important; padding-bottom: 5px !important; padding-left: 5px !important; padding-right: 5px !important; overflow-x: hidden !important; }\n",
       " #npejwoxecs .gt_column_spanner_outer { color: #333333 !important; background-color: #FFFFFF !important; font-size: 100% !important; font-weight: normal !important; text-transform: inherit !important; padding-top: 0 !important; padding-bottom: 0 !important; padding-left: 4px !important; padding-right: 4px !important; }\n",
       " #npejwoxecs .gt_column_spanner_outer:first-child { padding-left: 0 !important; }\n",
       " #npejwoxecs .gt_column_spanner_outer:last-child { padding-right: 0 !important; }\n",
       " #npejwoxecs .gt_column_spanner { border-bottom-style: solid !important; border-bottom-width: 2px !important; border-bottom-color: #D3D3D3 !important; vertical-align: bottom !important; padding-top: 5px !important; padding-bottom: 5px !important; overflow-x: hidden !important; display: inline-block !important; width: 100% !important; }\n",
       " #npejwoxecs .gt_spanner_row { border-bottom-style: hidden !important; }\n",
       " #npejwoxecs .gt_group_heading { padding-top: 8px !important; padding-bottom: 8px !important; padding-left: 5px !important; padding-right: 5px !important; color: #333333 !important; background-color: #FFFFFF !important; font-size: 100% !important; font-weight: initial !important; text-transform: inherit !important; border-top-style: solid !important; border-top-width: 2px !important; border-top-color: #D3D3D3 !important; border-bottom-style: solid !important; border-bottom-width: 2px !important; border-bottom-color: #D3D3D3 !important; border-left-style: none !important; border-left-width: 1px !important; border-left-color: #D3D3D3 !important; border-right-style: none !important; border-right-width: 1px !important; border-right-color: #D3D3D3 !important; vertical-align: middle !important; text-align: left !important; }\n",
       " #npejwoxecs .gt_empty_group_heading { padding: 0.5px !important; color: #333333 !important; background-color: #FFFFFF !important; font-size: 100% !important; font-weight: initial !important; border-top-style: solid !important; border-top-width: 2px !important; border-top-color: #D3D3D3 !important; border-bottom-style: solid !important; border-bottom-width: 2px !important; border-bottom-color: #D3D3D3 !important; vertical-align: middle !important; }\n",
       " #npejwoxecs .gt_from_md> :first-child { margin-top: 0 !important; }\n",
       " #npejwoxecs .gt_from_md> :last-child { margin-bottom: 0 !important; }\n",
       " #npejwoxecs .gt_row { padding-top: 8px !important; padding-bottom: 8px !important; padding-left: 5px !important; padding-right: 5px !important; margin: 10px !important; border-top-style: solid !important; border-top-width: 1px !important; border-top-color: #D3D3D3 !important; border-left-style: none !important; border-left-width: 1px !important; border-left-color: #D3D3D3 !important; border-right-style: none !important; border-right-width: 1px !important; border-right-color: #D3D3D3 !important; vertical-align: middle !important; overflow-x: hidden !important; }\n",
       " #npejwoxecs .gt_stub { color: #333333 !important; background-color: #FFFFFF !important; font-size: 100% !important; font-weight: initial !important; text-transform: inherit !important; border-right-style: solid !important; border-right-width: 2px !important; border-right-color: #D3D3D3 !important; padding-left: 5px !important; padding-right: 5px !important; }\n",
       " #npejwoxecs .gt_stub_row_group { color: #333333 !important; background-color: #FFFFFF !important; font-size: 100% !important; font-weight: initial !important; text-transform: inherit !important; border-right-style: solid !important; border-right-width: 2px !important; border-right-color: #D3D3D3 !important; padding-left: 5px !important; padding-right: 5px !important; vertical-align: top !important; }\n",
       " #npejwoxecs .gt_row_group_first td { border-top-width: 2px !important; }\n",
       " #npejwoxecs .gt_row_group_first th { border-top-width: 2px !important; }\n",
       " #npejwoxecs .gt_striped { background-color: rgba(128,128,128,0.05) !important; }\n",
       " #npejwoxecs .gt_table_body { border-top-style: solid !important; border-top-width: 2px !important; border-top-color: #D3D3D3 !important; border-bottom-style: solid !important; border-bottom-width: 2px !important; border-bottom-color: #D3D3D3 !important; }\n",
       " #npejwoxecs .gt_sourcenotes { color: #333333 !important; background-color: #FFFFFF !important; border-bottom-style: none !important; border-bottom-width: 2px !important; border-bottom-color: #D3D3D3 !important; border-left-style: none !important; border-left-width: 2px !important; border-left-color: #D3D3D3 !important; border-right-style: none !important; border-right-width: 2px !important; border-right-color: #D3D3D3 !important; }\n",
       " #npejwoxecs .gt_sourcenote { font-size: 90% !important; padding-top: 4px !important; padding-bottom: 4px !important; padding-left: 5px !important; padding-right: 5px !important; text-align: left !important; }\n",
       " #npejwoxecs .gt_left { text-align: left !important; }\n",
       " #npejwoxecs .gt_center { text-align: center !important; }\n",
       " #npejwoxecs .gt_right { text-align: right !important; font-variant-numeric: tabular-nums !important; }\n",
       " #npejwoxecs .gt_font_normal { font-weight: normal !important; }\n",
       " #npejwoxecs .gt_font_bold { font-weight: bold !important; }\n",
       " #npejwoxecs .gt_font_italic { font-style: italic !important; }\n",
       " #npejwoxecs .gt_super { font-size: 65% !important; }\n",
       " #npejwoxecs .gt_footnote_marks { font-size: 75% !important; vertical-align: 0.4em !important; position: initial !important; }\n",
       " #npejwoxecs .gt_asterisk { font-size: 100% !important; vertical-align: 0 !important; }\n",
       " \n",
       "</style>\n",
       "<table class=\"gt_table\" data-quarto-disable-processing=\"false\" data-quarto-bootstrap=\"false\">\n",
       "<thead>\n",
       "\n",
       "  <tr class=\"gt_heading\">\n",
       "    <td colspan=\"3\" class=\"gt_heading gt_title gt_font_normal\">Category Purchase Distribution</td>\n",
       "  </tr>\n",
       "<tr class=\"gt_col_headings\">\n",
       "  <th class=\"gt_col_heading gt_columns_bottom_border gt_left\" rowspan=\"1\" colspan=\"1\" scope=\"col\" id=\"# of Purchases\"># of Purchases</th>\n",
       "  <th class=\"gt_col_heading gt_columns_bottom_border gt_right\" rowspan=\"1\" colspan=\"1\" scope=\"col\" id=\"Frequency\">Frequency</th>\n",
       "  <th class=\"gt_col_heading gt_columns_bottom_border gt_right\" rowspan=\"1\" colspan=\"1\" scope=\"col\" id=\"% of Total\">% of Total</th>\n",
       "</tr>\n",
       "</thead>\n",
       "<tbody class=\"gt_table_body\">\n",
       "  <tr>\n",
       "    <th class=\"gt_row gt_left gt_stub\">0</th>\n",
       "    <td class=\"gt_row gt_right\">447</td>\n",
       "    <td style=\"color: #000000; background-color: #bba4d2;\" class=\"gt_row gt_right\">8.90%</td>\n",
       "  </tr>\n",
       "  <tr>\n",
       "    <th class=\"gt_row gt_left gt_stub\">1</th>\n",
       "    <td class=\"gt_row gt_right\">667</td>\n",
       "    <td style=\"color: #000000; background-color: #9978bb;\" class=\"gt_row gt_right\">13.28%</td>\n",
       "  </tr>\n",
       "  <tr>\n",
       "    <th class=\"gt_row gt_left gt_stub\">2</th>\n",
       "    <td class=\"gt_row gt_right\">759</td>\n",
       "    <td style=\"color: #000000; background-color: #8b65b2;\" class=\"gt_row gt_right\">15.12%</td>\n",
       "  </tr>\n",
       "  <tr>\n",
       "    <th class=\"gt_row gt_left gt_stub\">3</th>\n",
       "    <td class=\"gt_row gt_right\">757</td>\n",
       "    <td style=\"color: #000000; background-color: #8c65b2;\" class=\"gt_row gt_right\">15.08%</td>\n",
       "  </tr>\n",
       "  <tr>\n",
       "    <th class=\"gt_row gt_left gt_stub\">4</th>\n",
       "    <td class=\"gt_row gt_right\">612</td>\n",
       "    <td style=\"color: #000000; background-color: #a283c1;\" class=\"gt_row gt_right\">12.19%</td>\n",
       "  </tr>\n",
       "  <tr>\n",
       "    <th class=\"gt_row gt_left gt_stub\">5</th>\n",
       "    <td class=\"gt_row gt_right\">514</td>\n",
       "    <td style=\"color: #000000; background-color: #b197cb;\" class=\"gt_row gt_right\">10.24%</td>\n",
       "  </tr>\n",
       "  <tr>\n",
       "    <th class=\"gt_row gt_left gt_stub\">6</th>\n",
       "    <td class=\"gt_row gt_right\">381</td>\n",
       "    <td style=\"color: #000000; background-color: #c5b2d8;\" class=\"gt_row gt_right\">7.59%</td>\n",
       "  </tr>\n",
       "  <tr>\n",
       "    <th class=\"gt_row gt_left gt_stub\">7</th>\n",
       "    <td class=\"gt_row gt_right\">247</td>\n",
       "    <td style=\"color: #000000; background-color: #d9cde6;\" class=\"gt_row gt_right\">4.92%</td>\n",
       "  </tr>\n",
       "  <tr>\n",
       "    <th class=\"gt_row gt_left gt_stub\">8</th>\n",
       "    <td class=\"gt_row gt_right\">209</td>\n",
       "    <td style=\"color: #000000; background-color: #dfd5ea;\" class=\"gt_row gt_right\">4.16%</td>\n",
       "  </tr>\n",
       "  <tr>\n",
       "    <th class=\"gt_row gt_left gt_stub\">9</th>\n",
       "    <td class=\"gt_row gt_right\">127</td>\n",
       "    <td style=\"color: #000000; background-color: #ece5f2;\" class=\"gt_row gt_right\">2.53%</td>\n",
       "  </tr>\n",
       "  <tr>\n",
       "    <th class=\"gt_row gt_left gt_stub\">10</th>\n",
       "    <td class=\"gt_row gt_right\">85</td>\n",
       "    <td style=\"color: #000000; background-color: #f2eef6;\" class=\"gt_row gt_right\">1.69%</td>\n",
       "  </tr>\n",
       "  <tr>\n",
       "    <th class=\"gt_row gt_left gt_stub\">11</th>\n",
       "    <td class=\"gt_row gt_right\">57</td>\n",
       "    <td style=\"color: #000000; background-color: #f6f3f9;\" class=\"gt_row gt_right\">1.14%</td>\n",
       "  </tr>\n",
       "  <tr>\n",
       "    <th class=\"gt_row gt_left gt_stub\">12</th>\n",
       "    <td class=\"gt_row gt_right\">50</td>\n",
       "    <td style=\"color: #000000; background-color: #f7f5fa;\" class=\"gt_row gt_right\">1.00%</td>\n",
       "  </tr>\n",
       "  <tr>\n",
       "    <th class=\"gt_row gt_left gt_stub\">13</th>\n",
       "    <td class=\"gt_row gt_right\">27</td>\n",
       "    <td style=\"color: #000000; background-color: #fbfafc;\" class=\"gt_row gt_right\">0.54%</td>\n",
       "  </tr>\n",
       "  <tr>\n",
       "    <th class=\"gt_row gt_left gt_stub\">14</th>\n",
       "    <td class=\"gt_row gt_right\">31</td>\n",
       "    <td style=\"color: #000000; background-color: #faf9fc;\" class=\"gt_row gt_right\">0.62%</td>\n",
       "  </tr>\n",
       "  <tr>\n",
       "    <th class=\"gt_row gt_left gt_stub\">15</th>\n",
       "    <td class=\"gt_row gt_right\">15</td>\n",
       "    <td style=\"color: #000000; background-color: #fdfcfd;\" class=\"gt_row gt_right\">0.30%</td>\n",
       "  </tr>\n",
       "  <tr>\n",
       "    <th class=\"gt_row gt_left gt_stub\">16</th>\n",
       "    <td class=\"gt_row gt_right\">16</td>\n",
       "    <td style=\"color: #000000; background-color: #fdfcfd;\" class=\"gt_row gt_right\">0.32%</td>\n",
       "  </tr>\n",
       "  <tr>\n",
       "    <th class=\"gt_row gt_left gt_stub\">17</th>\n",
       "    <td class=\"gt_row gt_right\">7</td>\n",
       "    <td style=\"color: #000000; background-color: #fefefe;\" class=\"gt_row gt_right\">0.14%</td>\n",
       "  </tr>\n",
       "  <tr>\n",
       "    <th class=\"gt_row gt_left gt_stub\">18</th>\n",
       "    <td class=\"gt_row gt_right\">4</td>\n",
       "    <td style=\"color: #000000; background-color: #fefeff;\" class=\"gt_row gt_right\">0.08%</td>\n",
       "  </tr>\n",
       "  <tr>\n",
       "    <th class=\"gt_row gt_left gt_stub\">19</th>\n",
       "    <td class=\"gt_row gt_right\">2</td>\n",
       "    <td style=\"color: #000000; background-color: #ffffff;\" class=\"gt_row gt_right\">0.04%</td>\n",
       "  </tr>\n",
       "  <tr>\n",
       "    <th class=\"gt_row gt_left gt_stub\">20</th>\n",
       "    <td class=\"gt_row gt_right\">4</td>\n",
       "    <td style=\"color: #000000; background-color: #fefeff;\" class=\"gt_row gt_right\">0.08%</td>\n",
       "  </tr>\n",
       "  <tr>\n",
       "    <th class=\"gt_row gt_left gt_stub\">22</th>\n",
       "    <td class=\"gt_row gt_right\">1</td>\n",
       "    <td style=\"color: #000000; background-color: #ffffff;\" class=\"gt_row gt_right\">0.02%</td>\n",
       "  </tr>\n",
       "  <tr>\n",
       "    <th class=\"gt_row gt_left gt_stub\">25</th>\n",
       "    <td class=\"gt_row gt_right\">1</td>\n",
       "    <td style=\"color: #000000; background-color: #ffffff;\" class=\"gt_row gt_right\">0.02%</td>\n",
       "  </tr>\n",
       "  <tr>\n",
       "    <th class=\"gt_row gt_left gt_stub\">27</th>\n",
       "    <td class=\"gt_row gt_right\">1</td>\n",
       "    <td style=\"color: #000000; background-color: #ffffff;\" class=\"gt_row gt_right\">0.02%</td>\n",
       "  </tr>\n",
       "</tbody>\n",
       "\n",
       "\n",
       "</table>\n",
       "\n",
       "</div>\n",
       "        "
      ],
      "text/plain": [
       "GT(_tbl_data=shape: (24, 3)\n",
       "┌────────────────┬───────────┬────────────┐\n",
       "│ # of Purchases ┆ Frequency ┆ % of Total │\n",
       "│ ---            ┆ ---       ┆ ---        │\n",
       "│ i16            ┆ i32       ┆ f64        │\n",
       "╞════════════════╪═══════════╪════════════╡\n",
       "│ 0              ┆ 447       ┆ 0.089026   │\n",
       "│ 1              ┆ 667       ┆ 0.132842   │\n",
       "│ 2              ┆ 759       ┆ 0.151165   │\n",
       "│ 3              ┆ 757       ┆ 0.150767   │\n",
       "│ 4              ┆ 612       ┆ 0.121888   │\n",
       "│ …              ┆ …         ┆ …          │\n",
       "│ 19             ┆ 2         ┆ 0.000398   │\n",
       "│ 20             ┆ 4         ┆ 0.000797   │\n",
       "│ 22             ┆ 1         ┆ 0.000199   │\n",
       "│ 25             ┆ 1         ┆ 0.000199   │\n",
       "│ 27             ┆ 1         ┆ 0.000199   │\n",
       "└────────────────┴───────────┴────────────┘, _body=<great_tables._gt_data.Body object at 0x000001EFEBFE3890>, _boxhead=Boxhead([ColInfo(var='# of Purchases', type=<ColInfoTypeEnum.stub: 2>, column_label='# of Purchases', column_align='right', column_width=None), ColInfo(var='Frequency', type=<ColInfoTypeEnum.default: 1>, column_label='Frequency', column_align='right', column_width=None), ColInfo(var='% of Total', type=<ColInfoTypeEnum.default: 1>, column_label='% of Total', column_align='right', column_width=None)]), _stub=<great_tables._gt_data.Stub object at 0x000001EFEBD4EA50>, _spanners=Spanners([]), _heading=Heading(title='Category Purchase Distribution', subtitle=None, preheader=None), _stubhead='# of Purchases', _source_notes=[], _footnotes=[], _styles=[StyleInfo(locname=LocBody(columns='% of Total', rows=[0]), grpname=None, colname='% of Total', rownum=0, colnum=None, styles=[CellStyleText(color='#000000', font=None, size=None, align=None, v_align=None, style=None, weight=None, stretch=None, decorate=None, transform=None, whitespace=None), CellStyleFill(color='#bba4d2')]), StyleInfo(locname=LocBody(columns='% of Total', rows=[1]), grpname=None, colname='% of Total', rownum=1, colnum=None, styles=[CellStyleText(color='#000000', font=None, size=None, align=None, v_align=None, style=None, weight=None, stretch=None, decorate=None, transform=None, whitespace=None), CellStyleFill(color='#9978bb')]), StyleInfo(locname=LocBody(columns='% of Total', rows=[2]), grpname=None, colname='% of Total', rownum=2, colnum=None, styles=[CellStyleText(color='#000000', font=None, size=None, align=None, v_align=None, style=None, weight=None, stretch=None, decorate=None, transform=None, whitespace=None), CellStyleFill(color='#8b65b2')]), StyleInfo(locname=LocBody(columns='% of Total', rows=[3]), grpname=None, colname='% of Total', rownum=3, colnum=None, styles=[CellStyleText(color='#000000', font=None, size=None, align=None, v_align=None, style=None, weight=None, stretch=None, decorate=None, transform=None, whitespace=None), CellStyleFill(color='#8c65b2')]), StyleInfo(locname=LocBody(columns='% of Total', rows=[4]), grpname=None, colname='% of Total', rownum=4, colnum=None, styles=[CellStyleText(color='#000000', font=None, size=None, align=None, v_align=None, style=None, weight=None, stretch=None, decorate=None, transform=None, whitespace=None), CellStyleFill(color='#a283c1')]), StyleInfo(locname=LocBody(columns='% of Total', rows=[5]), grpname=None, colname='% of Total', rownum=5, colnum=None, styles=[CellStyleText(color='#000000', font=None, size=None, align=None, v_align=None, style=None, weight=None, stretch=None, decorate=None, transform=None, whitespace=None), CellStyleFill(color='#b197cb')]), StyleInfo(locname=LocBody(columns='% of Total', rows=[6]), grpname=None, colname='% of Total', rownum=6, colnum=None, styles=[CellStyleText(color='#000000', font=None, size=None, align=None, v_align=None, style=None, weight=None, stretch=None, decorate=None, transform=None, whitespace=None), CellStyleFill(color='#c5b2d8')]), StyleInfo(locname=LocBody(columns='% of Total', rows=[7]), grpname=None, colname='% of Total', rownum=7, colnum=None, styles=[CellStyleText(color='#000000', font=None, size=None, align=None, v_align=None, style=None, weight=None, stretch=None, decorate=None, transform=None, whitespace=None), CellStyleFill(color='#d9cde6')]), StyleInfo(locname=LocBody(columns='% of Total', rows=[8]), grpname=None, colname='% of Total', rownum=8, colnum=None, styles=[CellStyleText(color='#000000', font=None, size=None, align=None, v_align=None, style=None, weight=None, stretch=None, decorate=None, transform=None, whitespace=None), CellStyleFill(color='#dfd5ea')]), StyleInfo(locname=LocBody(columns='% of Total', rows=[9]), grpname=None, colname='% of Total', rownum=9, colnum=None, styles=[CellStyleText(color='#000000', font=None, size=None, align=None, v_align=None, style=None, weight=None, stretch=None, decorate=None, transform=None, whitespace=None), CellStyleFill(color='#ece5f2')]), StyleInfo(locname=LocBody(columns='% of Total', rows=[10]), grpname=None, colname='% of Total', rownum=10, colnum=None, styles=[CellStyleText(color='#000000', font=None, size=None, align=None, v_align=None, style=None, weight=None, stretch=None, decorate=None, transform=None, whitespace=None), CellStyleFill(color='#f2eef6')]), StyleInfo(locname=LocBody(columns='% of Total', rows=[11]), grpname=None, colname='% of Total', rownum=11, colnum=None, styles=[CellStyleText(color='#000000', font=None, size=None, align=None, v_align=None, style=None, weight=None, stretch=None, decorate=None, transform=None, whitespace=None), CellStyleFill(color='#f6f3f9')]), StyleInfo(locname=LocBody(columns='% of Total', rows=[12]), grpname=None, colname='% of Total', rownum=12, colnum=None, styles=[CellStyleText(color='#000000', font=None, size=None, align=None, v_align=None, style=None, weight=None, stretch=None, decorate=None, transform=None, whitespace=None), CellStyleFill(color='#f7f5fa')]), StyleInfo(locname=LocBody(columns='% of Total', rows=[13]), grpname=None, colname='% of Total', rownum=13, colnum=None, styles=[CellStyleText(color='#000000', font=None, size=None, align=None, v_align=None, style=None, weight=None, stretch=None, decorate=None, transform=None, whitespace=None), CellStyleFill(color='#fbfafc')]), StyleInfo(locname=LocBody(columns='% of Total', rows=[14]), grpname=None, colname='% of Total', rownum=14, colnum=None, styles=[CellStyleText(color='#000000', font=None, size=None, align=None, v_align=None, style=None, weight=None, stretch=None, decorate=None, transform=None, whitespace=None), CellStyleFill(color='#faf9fc')]), StyleInfo(locname=LocBody(columns='% of Total', rows=[15]), grpname=None, colname='% of Total', rownum=15, colnum=None, styles=[CellStyleText(color='#000000', font=None, size=None, align=None, v_align=None, style=None, weight=None, stretch=None, decorate=None, transform=None, whitespace=None), CellStyleFill(color='#fdfcfd')]), StyleInfo(locname=LocBody(columns='% of Total', rows=[16]), grpname=None, colname='% of Total', rownum=16, colnum=None, styles=[CellStyleText(color='#000000', font=None, size=None, align=None, v_align=None, style=None, weight=None, stretch=None, decorate=None, transform=None, whitespace=None), CellStyleFill(color='#fdfcfd')]), StyleInfo(locname=LocBody(columns='% of Total', rows=[17]), grpname=None, colname='% of Total', rownum=17, colnum=None, styles=[CellStyleText(color='#000000', font=None, size=None, align=None, v_align=None, style=None, weight=None, stretch=None, decorate=None, transform=None, whitespace=None), CellStyleFill(color='#fefefe')]), StyleInfo(locname=LocBody(columns='% of Total', rows=[18]), grpname=None, colname='% of Total', rownum=18, colnum=None, styles=[CellStyleText(color='#000000', font=None, size=None, align=None, v_align=None, style=None, weight=None, stretch=None, decorate=None, transform=None, whitespace=None), CellStyleFill(color='#fefeff')]), StyleInfo(locname=LocBody(columns='% of Total', rows=[19]), grpname=None, colname='% of Total', rownum=19, colnum=None, styles=[CellStyleText(color='#000000', font=None, size=None, align=None, v_align=None, style=None, weight=None, stretch=None, decorate=None, transform=None, whitespace=None), CellStyleFill(color='#ffffff')]), StyleInfo(locname=LocBody(columns='% of Total', rows=[20]), grpname=None, colname='% of Total', rownum=20, colnum=None, styles=[CellStyleText(color='#000000', font=None, size=None, align=None, v_align=None, style=None, weight=None, stretch=None, decorate=None, transform=None, whitespace=None), CellStyleFill(color='#fefeff')]), StyleInfo(locname=LocBody(columns='% of Total', rows=[21]), grpname=None, colname='% of Total', rownum=21, colnum=None, styles=[CellStyleText(color='#000000', font=None, size=None, align=None, v_align=None, style=None, weight=None, stretch=None, decorate=None, transform=None, whitespace=None), CellStyleFill(color='#ffffff')]), StyleInfo(locname=LocBody(columns='% of Total', rows=[22]), grpname=None, colname='% of Total', rownum=22, colnum=None, styles=[CellStyleText(color='#000000', font=None, size=None, align=None, v_align=None, style=None, weight=None, stretch=None, decorate=None, transform=None, whitespace=None), CellStyleFill(color='#ffffff')]), StyleInfo(locname=LocBody(columns='% of Total', rows=[23]), grpname=None, colname='% of Total', rownum=23, colnum=None, styles=[CellStyleText(color='#000000', font=None, size=None, align=None, v_align=None, style=None, weight=None, stretch=None, decorate=None, transform=None, whitespace=None), CellStyleFill(color='#ffffff')])], _locale=<great_tables._gt_data.Locale object at 0x000001EFEBFE2D80>, _formats=[<great_tables._gt_data.FormatInfo object at 0x000001EFEBFE2E40>, <great_tables._gt_data.FormatInfo object at 0x000001EFEBFE1C70>], _substitutions=[], _options=Options(table_id=OptionsInfo(scss=False, category='table', type='value', value=None), table_caption=OptionsInfo(scss=False, category='table', type='value', value=None), table_width=OptionsInfo(scss=True, category='table', type='px', value='auto'), table_layout=OptionsInfo(scss=True, category='table', type='value', value='fixed'), table_margin_left=OptionsInfo(scss=True, category='table', type='px', value='auto'), table_margin_right=OptionsInfo(scss=True, category='table', type='px', value='auto'), table_background_color=OptionsInfo(scss=True, category='table', type='value', value='#FFFFFF'), table_additional_css=OptionsInfo(scss=False, category='table', type='values', value=[]), table_font_names=OptionsInfo(scss=False, category='table', type='values', value=['-apple-system', 'BlinkMacSystemFont', 'Segoe UI', 'Roboto', 'Oxygen', 'Ubuntu', 'Cantarell', 'Helvetica Neue', 'Fira Sans', 'Droid Sans', 'Arial', 'sans-serif']), table_font_size=OptionsInfo(scss=True, category='table', type='px', value='16px'), table_font_weight=OptionsInfo(scss=True, category='table', type='value', value='normal'), table_font_style=OptionsInfo(scss=True, category='table', type='value', value='normal'), table_font_color=OptionsInfo(scss=True, category='table', type='value', value='#333333'), table_font_color_light=OptionsInfo(scss=True, category='table', type='value', value='#FFFFFF'), table_border_top_include=OptionsInfo(scss=False, category='table', type='boolean', value=True), table_border_top_style=OptionsInfo(scss=True, category='table', type='value', value='solid'), table_border_top_width=OptionsInfo(scss=True, category='table', type='px', value='2px'), table_border_top_color=OptionsInfo(scss=True, category='table', type='value', value='#A8A8A8'), table_border_right_style=OptionsInfo(scss=True, category='table', type='value', value='none'), table_border_right_width=OptionsInfo(scss=True, category='table', type='px', value='2px'), table_border_right_color=OptionsInfo(scss=True, category='table', type='value', value='#D3D3D3'), table_border_bottom_include=OptionsInfo(scss=False, category='table', type='boolean', value=True), table_border_bottom_style=OptionsInfo(scss=True, category='table', type='value', value='solid'), table_border_bottom_width=OptionsInfo(scss=True, category='table', type='px', value='2px'), table_border_bottom_color=OptionsInfo(scss=True, category='table', type='value', value='#A8A8A8'), table_border_left_style=OptionsInfo(scss=True, category='table', type='value', value='none'), table_border_left_width=OptionsInfo(scss=True, category='table', type='px', value='2px'), table_border_left_color=OptionsInfo(scss=True, category='table', type='value', value='#D3D3D3'), heading_background_color=OptionsInfo(scss=True, category='heading', type='value', value=None), heading_align=OptionsInfo(scss=True, category='heading', type='value', value='center'), heading_title_font_size=OptionsInfo(scss=True, category='heading', type='px', value='125%'), heading_title_font_weight=OptionsInfo(scss=True, category='heading', type='value', value='initial'), heading_subtitle_font_size=OptionsInfo(scss=True, category='heading', type='px', value='85%'), heading_subtitle_font_weight=OptionsInfo(scss=True, category='heading', type='value', value='initial'), heading_padding=OptionsInfo(scss=True, category='heading', type='px', value='4px'), heading_padding_horizontal=OptionsInfo(scss=True, category='heading', type='px', value='5px'), heading_border_bottom_style=OptionsInfo(scss=True, category='heading', type='value', value='solid'), heading_border_bottom_width=OptionsInfo(scss=True, category='heading', type='px', value='2px'), heading_border_bottom_color=OptionsInfo(scss=True, category='heading', type='value', value='#D3D3D3'), heading_border_lr_style=OptionsInfo(scss=True, category='heading', type='value', value='none'), heading_border_lr_width=OptionsInfo(scss=True, category='heading', type='px', value='1px'), heading_border_lr_color=OptionsInfo(scss=True, category='heading', type='value', value='#D3D3D3'), column_labels_background_color=OptionsInfo(scss=True, category='column_labels', type='value', value=None), column_labels_font_size=OptionsInfo(scss=True, category='column_labels', type='px', value='100%'), column_labels_font_weight=OptionsInfo(scss=True, category='column_labels', type='value', value='normal'), column_labels_text_transform=OptionsInfo(scss=True, category='column_labels', type='value', value='inherit'), column_labels_padding=OptionsInfo(scss=True, category='column_labels', type='px', value='5px'), column_labels_padding_horizontal=OptionsInfo(scss=True, category='column_labels', type='px', value='5px'), column_labels_vlines_style=OptionsInfo(scss=True, category='table_body', type='value', value='none'), column_labels_vlines_width=OptionsInfo(scss=True, category='table_body', type='px', value='1px'), column_labels_vlines_color=OptionsInfo(scss=True, category='table_body', type='value', value='#D3D3D3'), column_labels_border_top_style=OptionsInfo(scss=True, category='column_labels', type='value', value='solid'), column_labels_border_top_width=OptionsInfo(scss=True, category='column_labels', type='px', value='2px'), column_labels_border_top_color=OptionsInfo(scss=True, category='column_labels', type='value', value='#D3D3D3'), column_labels_border_bottom_style=OptionsInfo(scss=True, category='column_labels', type='value', value='solid'), column_labels_border_bottom_width=OptionsInfo(scss=True, category='column_labels', type='px', value='2px'), column_labels_border_bottom_color=OptionsInfo(scss=True, category='column_labels', type='value', value='#D3D3D3'), column_labels_border_lr_style=OptionsInfo(scss=True, category='column_labels', type='value', value='none'), column_labels_border_lr_width=OptionsInfo(scss=True, category='column_labels', type='px', value='1px'), column_labels_border_lr_color=OptionsInfo(scss=True, category='column_labels', type='value', value='#D3D3D3'), column_labels_hidden=OptionsInfo(scss=False, category='column_labels', type='boolean', value=False), row_group_background_color=OptionsInfo(scss=True, category='row_group', type='value', value=None), row_group_font_size=OptionsInfo(scss=True, category='row_group', type='px', value='100%'), row_group_font_weight=OptionsInfo(scss=True, category='row_group', type='value', value='initial'), row_group_text_transform=OptionsInfo(scss=True, category='row_group', type='value', value='inherit'), row_group_padding=OptionsInfo(scss=True, category='row_group', type='px', value='8px'), row_group_padding_horizontal=OptionsInfo(scss=True, category='row_group', type='px', value='5px'), row_group_border_top_style=OptionsInfo(scss=True, category='row_group', type='value', value='solid'), row_group_border_top_width=OptionsInfo(scss=True, category='row_group', type='px', value='2px'), row_group_border_top_color=OptionsInfo(scss=True, category='row_group', type='value', value='#D3D3D3'), row_group_border_right_style=OptionsInfo(scss=True, category='row_group', type='value', value='none'), row_group_border_right_width=OptionsInfo(scss=True, category='row_group', type='px', value='1px'), row_group_border_right_color=OptionsInfo(scss=True, category='row_group', type='value', value='#D3D3D3'), row_group_border_bottom_style=OptionsInfo(scss=True, category='row_group', type='value', value='solid'), row_group_border_bottom_width=OptionsInfo(scss=True, category='row_group', type='px', value='2px'), row_group_border_bottom_color=OptionsInfo(scss=True, category='row_group', type='value', value='#D3D3D3'), row_group_border_left_style=OptionsInfo(scss=True, category='row_group', type='value', value='none'), row_group_border_left_width=OptionsInfo(scss=True, category='row_group', type='px', value='1px'), row_group_border_left_color=OptionsInfo(scss=True, category='row_group', type='value', value='#D3D3D3'), row_group_as_column=OptionsInfo(scss=False, category='row_group', type='boolean', value=False), table_body_hlines_style=OptionsInfo(scss=True, category='table_body', type='value', value='solid'), table_body_hlines_width=OptionsInfo(scss=True, category='table_body', type='px', value='1px'), table_body_hlines_color=OptionsInfo(scss=True, category='table_body', type='value', value='#D3D3D3'), table_body_vlines_style=OptionsInfo(scss=True, category='table_body', type='value', value='none'), table_body_vlines_width=OptionsInfo(scss=True, category='table_body', type='px', value='1px'), table_body_vlines_color=OptionsInfo(scss=True, category='table_body', type='value', value='#D3D3D3'), table_body_border_top_style=OptionsInfo(scss=True, category='table_body', type='value', value='solid'), table_body_border_top_width=OptionsInfo(scss=True, category='table_body', type='px', value='2px'), table_body_border_top_color=OptionsInfo(scss=True, category='table_body', type='value', value='#D3D3D3'), table_body_border_bottom_style=OptionsInfo(scss=True, category='table_body', type='value', value='solid'), table_body_border_bottom_width=OptionsInfo(scss=True, category='table_body', type='px', value='2px'), table_body_border_bottom_color=OptionsInfo(scss=True, category='table_body', type='value', value='#D3D3D3'), data_row_padding=OptionsInfo(scss=True, category='data_row', type='px', value='8px'), data_row_padding_horizontal=OptionsInfo(scss=True, category='data_row', type='px', value='5px'), stub_background_color=OptionsInfo(scss=True, category='stub', type='value', value=None), stub_font_size=OptionsInfo(scss=True, category='stub', type='px', value='100%'), stub_font_weight=OptionsInfo(scss=True, category='stub', type='value', value='initial'), stub_text_transform=OptionsInfo(scss=True, category='stub', type='value', value='inherit'), stub_border_style=OptionsInfo(scss=True, category='stub', type='value', value='solid'), stub_border_width=OptionsInfo(scss=True, category='stub', type='px', value='2px'), stub_border_color=OptionsInfo(scss=True, category='stub', type='value', value='#D3D3D3'), stub_row_group_background_color=OptionsInfo(scss=True, category='stub', type='value', value=None), stub_row_group_font_size=OptionsInfo(scss=True, category='stub', type='px', value='100%'), stub_row_group_font_weight=OptionsInfo(scss=True, category='stub', type='value', value='initial'), stub_row_group_text_transform=OptionsInfo(scss=True, category='stub', type='value', value='inherit'), stub_row_group_border_style=OptionsInfo(scss=True, category='stub', type='value', value='solid'), stub_row_group_border_width=OptionsInfo(scss=True, category='stub', type='px', value='2px'), stub_row_group_border_color=OptionsInfo(scss=True, category='stub', type='value', value='#D3D3D3'), source_notes_padding=OptionsInfo(scss=True, category='source_notes', type='px', value='4px'), source_notes_padding_horizontal=OptionsInfo(scss=True, category='source_notes', type='px', value='5px'), source_notes_background_color=OptionsInfo(scss=True, category='source_notes', type='value', value=None), source_notes_font_size=OptionsInfo(scss=True, category='source_notes', type='px', value='90%'), source_notes_border_bottom_style=OptionsInfo(scss=True, category='source_notes', type='value', value='none'), source_notes_border_bottom_width=OptionsInfo(scss=True, category='source_notes', type='px', value='2px'), source_notes_border_bottom_color=OptionsInfo(scss=True, category='source_notes', type='value', value='#D3D3D3'), source_notes_border_lr_style=OptionsInfo(scss=True, category='source_notes', type='value', value='none'), source_notes_border_lr_width=OptionsInfo(scss=True, category='source_notes', type='px', value='2px'), source_notes_border_lr_color=OptionsInfo(scss=True, category='source_notes', type='value', value='#D3D3D3'), source_notes_multiline=OptionsInfo(scss=False, category='source_notes', type='boolean', value=True), source_notes_sep=OptionsInfo(scss=False, category='source_notes', type='value', value=' '), row_striping_background_color=OptionsInfo(scss=True, category='row', type='value', value='rgba(128,128,128,0.05)'), row_striping_include_stub=OptionsInfo(scss=False, category='row', type='boolean', value=False), row_striping_include_table_body=OptionsInfo(scss=False, category='row', type='boolean', value=False), container_width=OptionsInfo(scss=False, category='container', type='px', value='auto'), container_height=OptionsInfo(scss=False, category='container', type='px', value='auto'), container_padding_x=OptionsInfo(scss=False, category='container', type='px', value='0px'), container_padding_y=OptionsInfo(scss=False, category='container', type='px', value='10px'), container_overflow_x=OptionsInfo(scss=False, category='container', type='overflow', value='auto'), container_overflow_y=OptionsInfo(scss=False, category='container', type='overflow', value='auto'), quarto_disable_processing=OptionsInfo(scss=False, category='quarto', type='logical', value=False), quarto_use_bootstrap=OptionsInfo(scss=False, category='quarto', type='logical', value=False)), _has_built=False)"
      ]
     },
     "execution_count": 36,
     "metadata": {},
     "output_type": "execute_result"
    }
   ],
   "source": [
    "category_trans_dist = (\n",
    "    trans_summary('Category', grocery_lf, 1)\n",
    "    .group_by(pl.col('# of Purchases').cast(pl.Int16))\n",
    "    .agg(pl.len().cast(pl.Int32).alias(\"Frequency\"))\n",
    "    .collect() \n",
    "    .pipe(\n",
    "        lambda df: df.vstack(\n",
    "            pl.DataFrame(\n",
    "                {\n",
    "                    \"# of Purchases\": [0],\n",
    "                    \"Frequency\": [panel_size - df[\"Frequency\"].sum()],\n",
    "                }\n",
    "            ).with_columns(\n",
    "                pl.col(\"# of Purchases\").cast(pl.Int16),\n",
    "                pl.col('Frequency').cast(pl.Int32)\n",
    "                )\n",
    "        )\n",
    "    )\n",
    "    .sort(by='# of Purchases')\n",
    "    .with_columns(\n",
    "        (pl.col('Frequency') / pl.col('Frequency').sum()).cast(pl.Float64).alias(\"% of Total\")\n",
    "    )    \n",
    ")\n",
    "\n",
    "(\n",
    "    GT(category_trans_dist, rowname_col='# of Purchases')\n",
    "    .tab_header(title='Category Purchase Distribution')\n",
    "    .tab_stubhead(label=\"# of Purchases\")\n",
    "    .fmt_integer(columns='Frequency')\n",
    "    .fmt_percent(columns='% of Total')\n",
    "    .data_color(\n",
    "        columns=['% of Total'],\n",
    "        domain=[0, 0.2],\n",
    "        palette=['white', 'rebeccapurple']\n",
    "    )  \n",
    ")"
   ]
  },
  {
   "cell_type": "code",
   "execution_count": 37,
   "metadata": {},
   "outputs": [
    {
     "data": {
      "application/vnd.vegalite.v5+json": {
       "$schema": "https://vega.github.io/schema/vega-lite/v5.20.1.json",
       "config": {
        "view": {
         "continuousHeight": 300,
         "continuousWidth": 300
        }
       },
       "data": {
        "name": "data-4322957793433f898d00a0a95915944f"
       },
       "datasets": {
        "data-4322957793433f898d00a0a95915944f": [
         {
          "# of Purchases": 0,
          "% of Total": 0.08902609042023502,
          "Frequency": 447,
          "cut": "0"
         },
         {
          "# of Purchases": 1,
          "% of Total": 0.1328420633339972,
          "Frequency": 667,
          "cut": "1"
         },
         {
          "# of Purchases": 2,
          "% of Total": 0.15116510655247958,
          "Frequency": 759,
          "cut": "2"
         },
         {
          "# of Purchases": 3,
          "% of Total": 0.15076677952599082,
          "Frequency": 757,
          "cut": "3"
         },
         {
          "# of Purchases": 4,
          "% of Total": 0.12188807010555666,
          "Frequency": 612,
          "cut": "4"
         },
         {
          "# of Purchases": 5,
          "% of Total": 0.10237004580760804,
          "Frequency": 514,
          "cut": "5"
         },
         {
          "# of Purchases": 6,
          "% of Total": 0.07588129854610635,
          "Frequency": 381,
          "cut": "6"
         },
         {
          "# of Purchases": 7,
          "% of Total": 0.049193387771360286,
          "Frequency": 247,
          "cut": "7"
         },
         {
          "# of Purchases": 8,
          "% of Total": 0.041625174268074085,
          "Frequency": 209,
          "cut": "8"
         },
         {
          "# of Purchases": 9,
          "% of Total": 0.02529376618203545,
          "Frequency": 127,
          "cut": "9"
         },
         {
          "# of Purchases": 10,
          "% of Total": 0.01692889862577176,
          "Frequency": 85,
          "cut": "10"
         },
         {
          "# of Purchases": 11,
          "% of Total": 0.011352320254929297,
          "Frequency": 57,
          "cut": "11"
         },
         {
          "# of Purchases": 12,
          "% of Total": 0.00995817566221868,
          "Frequency": 50,
          "cut": "12"
         },
         {
          "# of Purchases": 13,
          "% of Total": 0.005377414857598088,
          "Frequency": 27,
          "cut": "13"
         },
         {
          "# of Purchases": 14,
          "% of Total": 0.006174068910575582,
          "Frequency": 31,
          "cut": "14"
         },
         {
          "# of Purchases": 15,
          "% of Total": 0.0029874526986656044,
          "Frequency": 15,
          "cut": "15+"
         },
         {
          "# of Purchases": 16,
          "% of Total": 0.003186616211909978,
          "Frequency": 16,
          "cut": "15+"
         },
         {
          "# of Purchases": 17,
          "% of Total": 0.0013941445927106153,
          "Frequency": 7,
          "cut": "15+"
         },
         {
          "# of Purchases": 18,
          "% of Total": 0.0007966540529774945,
          "Frequency": 4,
          "cut": "15+"
         },
         {
          "# of Purchases": 19,
          "% of Total": 0.00039832702648874725,
          "Frequency": 2,
          "cut": "15+"
         },
         {
          "# of Purchases": 20,
          "% of Total": 0.0007966540529774945,
          "Frequency": 4,
          "cut": "15+"
         },
         {
          "# of Purchases": 22,
          "% of Total": 0.00019916351324437363,
          "Frequency": 1,
          "cut": "15+"
         },
         {
          "# of Purchases": 25,
          "% of Total": 0.00019916351324437363,
          "Frequency": 1,
          "cut": "15+"
         },
         {
          "# of Purchases": 27,
          "% of Total": 0.00019916351324437363,
          "Frequency": 1,
          "cut": "15+"
         }
        ]
       },
       "encoding": {
        "x": {
         "axis": {
          "labelAngle": 0,
          "title": "Number of Category Transactions"
         },
         "field": "cut",
         "sort": [
          "0",
          "1",
          "2",
          "3",
          "4",
          "5",
          "6",
          "7",
          "8",
          "9",
          "10",
          "11",
          "12",
          "13",
          "14",
          "15+"
         ],
         "type": "ordinal"
        },
        "y": {
         "axis": {
          "format": ".0%",
          "title": "% of Households"
         },
         "field": "% of Total",
         "type": "quantitative"
        }
       },
       "height": 250,
       "mark": {
        "type": "bar"
       },
       "title": {
        "subtitle": "Distribution of category purchasing in year 1",
        "text": "Category Transaction Distribution (%)"
       },
       "width": 650
      },
      "text/plain": [
       "<VegaLite 5 object>\n",
       "\n",
       "If you see this message, it means the renderer has not been properly enabled\n",
       "for the frontend that you are using. For more information, see\n",
       "https://altair-viz.github.io/user_guide/display_frontends.html#troubleshooting\n"
      ]
     },
     "metadata": {},
     "output_type": "display_data"
    }
   ],
   "source": [
    "labels = [str(i) if i < 15 else '15+' for i in range(0, 16, 1)]\n",
    "chart = freq_dist_plot(\n",
    "    data=category_trans_dist,\n",
    "    column=\"# of Purchases\",\n",
    "    bin_edges=np.arange(0, 15, 1),\n",
    "    labels=labels,\n",
    "    x_title=\"Number of Category Transactions\",\n",
    "    y_title=\"% of Households\",\n",
    "    chart_title=\"Category Transaction Distribution (%)\",\n",
    "    subtitle=\"Distribution of category purchasing in year 1\",\n",
    "    left_closed=False,\n",
    "    compute_rel_freq=False\n",
    ")\n",
    "chart.show()"
   ]
  },
  {
   "cell_type": "markdown",
   "metadata": {},
   "source": [
    "##### Distribution of Brand Purchase Frequency"
   ]
  },
  {
   "cell_type": "code",
   "execution_count": 38,
   "metadata": {},
   "outputs": [
    {
     "data": {
      "text/html": [
       "<div id=\"sssrvbvgxx\" style=\"padding-left:0px;padding-right:0px;padding-top:10px;padding-bottom:10px;overflow-x:auto;overflow-y:auto;width:auto;height:auto;\">\n",
       "<style>\n",
       "#sssrvbvgxx table {\n",
       "          font-family: -apple-system, BlinkMacSystemFont, 'Segoe UI', Roboto, Oxygen, Ubuntu, Cantarell, 'Helvetica Neue', 'Fira Sans', 'Droid Sans', Arial, sans-serif;\n",
       "          -webkit-font-smoothing: antialiased;\n",
       "          -moz-osx-font-smoothing: grayscale;\n",
       "        }\n",
       "\n",
       "#sssrvbvgxx thead, tbody, tfoot, tr, td, th { border-style: none !important; }\n",
       " tr { background-color: transparent !important; }\n",
       "#sssrvbvgxx p { margin: 0 !important; padding: 0 !important; }\n",
       " #sssrvbvgxx .gt_table { display: table !important; border-collapse: collapse !important; line-height: normal !important; margin-left: auto !important; margin-right: auto !important; color: #333333 !important; font-size: 16px !important; font-weight: normal !important; font-style: normal !important; background-color: #FFFFFF !important; width: auto !important; border-top-style: solid !important; border-top-width: 2px !important; border-top-color: #A8A8A8 !important; border-right-style: none !important; border-right-width: 2px !important; border-right-color: #D3D3D3 !important; border-bottom-style: solid !important; border-bottom-width: 2px !important; border-bottom-color: #A8A8A8 !important; border-left-style: none !important; border-left-width: 2px !important; border-left-color: #D3D3D3 !important; }\n",
       " #sssrvbvgxx .gt_caption { padding-top: 4px !important; padding-bottom: 4px !important; }\n",
       " #sssrvbvgxx .gt_title { color: #333333 !important; font-size: 125% !important; font-weight: initial !important; padding-top: 4px !important; padding-bottom: 4px !important; padding-left: 5px !important; padding-right: 5px !important; border-bottom-color: #FFFFFF !important; border-bottom-width: 0 !important; }\n",
       " #sssrvbvgxx .gt_subtitle { color: #333333 !important; font-size: 85% !important; font-weight: initial !important; padding-top: 3px !important; padding-bottom: 5px !important; padding-left: 5px !important; padding-right: 5px !important; border-top-color: #FFFFFF !important; border-top-width: 0 !important; }\n",
       " #sssrvbvgxx .gt_heading { background-color: #FFFFFF !important; text-align: center !important; border-bottom-color: #FFFFFF !important; border-left-style: none !important; border-left-width: 1px !important; border-left-color: #D3D3D3 !important; border-right-style: none !important; border-right-width: 1px !important; border-right-color: #D3D3D3 !important; }\n",
       " #sssrvbvgxx .gt_bottom_border { border-bottom-style: solid !important; border-bottom-width: 2px !important; border-bottom-color: #D3D3D3 !important; }\n",
       " #sssrvbvgxx .gt_col_headings { border-top-style: solid !important; border-top-width: 2px !important; border-top-color: #D3D3D3 !important; border-bottom-style: solid !important; border-bottom-width: 2px !important; border-bottom-color: #D3D3D3 !important; border-left-style: none !important; border-left-width: 1px !important; border-left-color: #D3D3D3 !important; border-right-style: none !important; border-right-width: 1px !important; border-right-color: #D3D3D3 !important; }\n",
       " #sssrvbvgxx .gt_col_heading { color: #333333 !important; background-color: #FFFFFF !important; font-size: 100% !important; font-weight: normal !important; text-transform: inherit !important; border-left-style: none !important; border-left-width: 1px !important; border-left-color: #D3D3D3 !important; border-right-style: none !important; border-right-width: 1px !important; border-right-color: #D3D3D3 !important; vertical-align: bottom !important; padding-top: 5px !important; padding-bottom: 5px !important; padding-left: 5px !important; padding-right: 5px !important; overflow-x: hidden !important; }\n",
       " #sssrvbvgxx .gt_column_spanner_outer { color: #333333 !important; background-color: #FFFFFF !important; font-size: 100% !important; font-weight: normal !important; text-transform: inherit !important; padding-top: 0 !important; padding-bottom: 0 !important; padding-left: 4px !important; padding-right: 4px !important; }\n",
       " #sssrvbvgxx .gt_column_spanner_outer:first-child { padding-left: 0 !important; }\n",
       " #sssrvbvgxx .gt_column_spanner_outer:last-child { padding-right: 0 !important; }\n",
       " #sssrvbvgxx .gt_column_spanner { border-bottom-style: solid !important; border-bottom-width: 2px !important; border-bottom-color: #D3D3D3 !important; vertical-align: bottom !important; padding-top: 5px !important; padding-bottom: 5px !important; overflow-x: hidden !important; display: inline-block !important; width: 100% !important; }\n",
       " #sssrvbvgxx .gt_spanner_row { border-bottom-style: hidden !important; }\n",
       " #sssrvbvgxx .gt_group_heading { padding-top: 8px !important; padding-bottom: 8px !important; padding-left: 5px !important; padding-right: 5px !important; color: #333333 !important; background-color: #FFFFFF !important; font-size: 100% !important; font-weight: initial !important; text-transform: inherit !important; border-top-style: solid !important; border-top-width: 2px !important; border-top-color: #D3D3D3 !important; border-bottom-style: solid !important; border-bottom-width: 2px !important; border-bottom-color: #D3D3D3 !important; border-left-style: none !important; border-left-width: 1px !important; border-left-color: #D3D3D3 !important; border-right-style: none !important; border-right-width: 1px !important; border-right-color: #D3D3D3 !important; vertical-align: middle !important; text-align: left !important; }\n",
       " #sssrvbvgxx .gt_empty_group_heading { padding: 0.5px !important; color: #333333 !important; background-color: #FFFFFF !important; font-size: 100% !important; font-weight: initial !important; border-top-style: solid !important; border-top-width: 2px !important; border-top-color: #D3D3D3 !important; border-bottom-style: solid !important; border-bottom-width: 2px !important; border-bottom-color: #D3D3D3 !important; vertical-align: middle !important; }\n",
       " #sssrvbvgxx .gt_from_md> :first-child { margin-top: 0 !important; }\n",
       " #sssrvbvgxx .gt_from_md> :last-child { margin-bottom: 0 !important; }\n",
       " #sssrvbvgxx .gt_row { padding-top: 8px !important; padding-bottom: 8px !important; padding-left: 5px !important; padding-right: 5px !important; margin: 10px !important; border-top-style: solid !important; border-top-width: 1px !important; border-top-color: #D3D3D3 !important; border-left-style: none !important; border-left-width: 1px !important; border-left-color: #D3D3D3 !important; border-right-style: none !important; border-right-width: 1px !important; border-right-color: #D3D3D3 !important; vertical-align: middle !important; overflow-x: hidden !important; }\n",
       " #sssrvbvgxx .gt_stub { color: #333333 !important; background-color: #FFFFFF !important; font-size: 100% !important; font-weight: initial !important; text-transform: inherit !important; border-right-style: solid !important; border-right-width: 2px !important; border-right-color: #D3D3D3 !important; padding-left: 5px !important; padding-right: 5px !important; }\n",
       " #sssrvbvgxx .gt_stub_row_group { color: #333333 !important; background-color: #FFFFFF !important; font-size: 100% !important; font-weight: initial !important; text-transform: inherit !important; border-right-style: solid !important; border-right-width: 2px !important; border-right-color: #D3D3D3 !important; padding-left: 5px !important; padding-right: 5px !important; vertical-align: top !important; }\n",
       " #sssrvbvgxx .gt_row_group_first td { border-top-width: 2px !important; }\n",
       " #sssrvbvgxx .gt_row_group_first th { border-top-width: 2px !important; }\n",
       " #sssrvbvgxx .gt_striped { background-color: rgba(128,128,128,0.05) !important; }\n",
       " #sssrvbvgxx .gt_table_body { border-top-style: solid !important; border-top-width: 2px !important; border-top-color: #D3D3D3 !important; border-bottom-style: solid !important; border-bottom-width: 2px !important; border-bottom-color: #D3D3D3 !important; }\n",
       " #sssrvbvgxx .gt_sourcenotes { color: #333333 !important; background-color: #FFFFFF !important; border-bottom-style: none !important; border-bottom-width: 2px !important; border-bottom-color: #D3D3D3 !important; border-left-style: none !important; border-left-width: 2px !important; border-left-color: #D3D3D3 !important; border-right-style: none !important; border-right-width: 2px !important; border-right-color: #D3D3D3 !important; }\n",
       " #sssrvbvgxx .gt_sourcenote { font-size: 90% !important; padding-top: 4px !important; padding-bottom: 4px !important; padding-left: 5px !important; padding-right: 5px !important; text-align: left !important; }\n",
       " #sssrvbvgxx .gt_left { text-align: left !important; }\n",
       " #sssrvbvgxx .gt_center { text-align: center !important; }\n",
       " #sssrvbvgxx .gt_right { text-align: right !important; font-variant-numeric: tabular-nums !important; }\n",
       " #sssrvbvgxx .gt_font_normal { font-weight: normal !important; }\n",
       " #sssrvbvgxx .gt_font_bold { font-weight: bold !important; }\n",
       " #sssrvbvgxx .gt_font_italic { font-style: italic !important; }\n",
       " #sssrvbvgxx .gt_super { font-size: 65% !important; }\n",
       " #sssrvbvgxx .gt_footnote_marks { font-size: 75% !important; vertical-align: 0.4em !important; position: initial !important; }\n",
       " #sssrvbvgxx .gt_asterisk { font-size: 100% !important; vertical-align: 0 !important; }\n",
       " \n",
       "</style>\n",
       "<table class=\"gt_table\" data-quarto-disable-processing=\"false\" data-quarto-bootstrap=\"false\">\n",
       "<thead>\n",
       "\n",
       "  <tr class=\"gt_heading\">\n",
       "    <td colspan=\"3\" class=\"gt_heading gt_title gt_font_normal\">Alpha Purchase Distribution</td>\n",
       "  </tr>\n",
       "<tr class=\"gt_col_headings\">\n",
       "  <th class=\"gt_col_heading gt_columns_bottom_border gt_left\" rowspan=\"1\" colspan=\"1\" scope=\"col\" id=\"# of Purchases\"># of Purchases</th>\n",
       "  <th class=\"gt_col_heading gt_columns_bottom_border gt_right\" rowspan=\"1\" colspan=\"1\" scope=\"col\" id=\"Frequency\">Frequency</th>\n",
       "  <th class=\"gt_col_heading gt_columns_bottom_border gt_right\" rowspan=\"1\" colspan=\"1\" scope=\"col\" id=\"% of Total\">% of Total</th>\n",
       "</tr>\n",
       "</thead>\n",
       "<tbody class=\"gt_table_body\">\n",
       "  <tr>\n",
       "    <th class=\"gt_row gt_left gt_stub\">0</th>\n",
       "    <td class=\"gt_row gt_right\">2,397</td>\n",
       "    <td style=\"color: #FFFFFF; background-color: #6d3c9e;\" class=\"gt_row gt_right\">47.74%</td>\n",
       "  </tr>\n",
       "  <tr>\n",
       "    <th class=\"gt_row gt_left gt_stub\">1</th>\n",
       "    <td class=\"gt_row gt_right\">733</td>\n",
       "    <td style=\"color: #000000; background-color: #d2c3e1;\" class=\"gt_row gt_right\">14.60%</td>\n",
       "  </tr>\n",
       "  <tr>\n",
       "    <th class=\"gt_row gt_left gt_stub\">2</th>\n",
       "    <td class=\"gt_row gt_right\">517</td>\n",
       "    <td style=\"color: #000000; background-color: #dfd5ea;\" class=\"gt_row gt_right\">10.30%</td>\n",
       "  </tr>\n",
       "  <tr>\n",
       "    <th class=\"gt_row gt_left gt_stub\">3</th>\n",
       "    <td class=\"gt_row gt_right\">400</td>\n",
       "    <td style=\"color: #000000; background-color: #e7deef;\" class=\"gt_row gt_right\">7.97%</td>\n",
       "  </tr>\n",
       "  <tr>\n",
       "    <th class=\"gt_row gt_left gt_stub\">4</th>\n",
       "    <td class=\"gt_row gt_right\">277</td>\n",
       "    <td style=\"color: #000000; background-color: #eee8f4;\" class=\"gt_row gt_right\">5.52%</td>\n",
       "  </tr>\n",
       "  <tr>\n",
       "    <th class=\"gt_row gt_left gt_stub\">5</th>\n",
       "    <td class=\"gt_row gt_right\">227</td>\n",
       "    <td style=\"color: #000000; background-color: #f1edf6;\" class=\"gt_row gt_right\">4.52%</td>\n",
       "  </tr>\n",
       "  <tr>\n",
       "    <th class=\"gt_row gt_left gt_stub\">6</th>\n",
       "    <td class=\"gt_row gt_right\">144</td>\n",
       "    <td style=\"color: #000000; background-color: #f6f3f9;\" class=\"gt_row gt_right\">2.87%</td>\n",
       "  </tr>\n",
       "  <tr>\n",
       "    <th class=\"gt_row gt_left gt_stub\">7</th>\n",
       "    <td class=\"gt_row gt_right\">101</td>\n",
       "    <td style=\"color: #000000; background-color: #f9f7fb;\" class=\"gt_row gt_right\">2.01%</td>\n",
       "  </tr>\n",
       "  <tr>\n",
       "    <th class=\"gt_row gt_left gt_stub\">8</th>\n",
       "    <td class=\"gt_row gt_right\">71</td>\n",
       "    <td style=\"color: #000000; background-color: #fbf9fc;\" class=\"gt_row gt_right\">1.41%</td>\n",
       "  </tr>\n",
       "  <tr>\n",
       "    <th class=\"gt_row gt_left gt_stub\">9</th>\n",
       "    <td class=\"gt_row gt_right\">47</td>\n",
       "    <td style=\"color: #000000; background-color: #fcfbfd;\" class=\"gt_row gt_right\">0.94%</td>\n",
       "  </tr>\n",
       "  <tr>\n",
       "    <th class=\"gt_row gt_left gt_stub\">10</th>\n",
       "    <td class=\"gt_row gt_right\">28</td>\n",
       "    <td style=\"color: #000000; background-color: #fdfdfe;\" class=\"gt_row gt_right\">0.56%</td>\n",
       "  </tr>\n",
       "  <tr>\n",
       "    <th class=\"gt_row gt_left gt_stub\">11</th>\n",
       "    <td class=\"gt_row gt_right\">24</td>\n",
       "    <td style=\"color: #000000; background-color: #fefdfe;\" class=\"gt_row gt_right\">0.48%</td>\n",
       "  </tr>\n",
       "  <tr>\n",
       "    <th class=\"gt_row gt_left gt_stub\">12</th>\n",
       "    <td class=\"gt_row gt_right\">16</td>\n",
       "    <td style=\"color: #000000; background-color: #fefefe;\" class=\"gt_row gt_right\">0.32%</td>\n",
       "  </tr>\n",
       "  <tr>\n",
       "    <th class=\"gt_row gt_left gt_stub\">13</th>\n",
       "    <td class=\"gt_row gt_right\">16</td>\n",
       "    <td style=\"color: #000000; background-color: #fefefe;\" class=\"gt_row gt_right\">0.32%</td>\n",
       "  </tr>\n",
       "  <tr>\n",
       "    <th class=\"gt_row gt_left gt_stub\">14</th>\n",
       "    <td class=\"gt_row gt_right\">12</td>\n",
       "    <td style=\"color: #000000; background-color: #fefeff;\" class=\"gt_row gt_right\">0.24%</td>\n",
       "  </tr>\n",
       "  <tr>\n",
       "    <th class=\"gt_row gt_left gt_stub\">15</th>\n",
       "    <td class=\"gt_row gt_right\">6</td>\n",
       "    <td style=\"color: #000000; background-color: #ffffff;\" class=\"gt_row gt_right\">0.12%</td>\n",
       "  </tr>\n",
       "  <tr>\n",
       "    <th class=\"gt_row gt_left gt_stub\">16</th>\n",
       "    <td class=\"gt_row gt_right\">3</td>\n",
       "    <td style=\"color: #000000; background-color: #ffffff;\" class=\"gt_row gt_right\">0.06%</td>\n",
       "  </tr>\n",
       "  <tr>\n",
       "    <th class=\"gt_row gt_left gt_stub\">18</th>\n",
       "    <td class=\"gt_row gt_right\">1</td>\n",
       "    <td style=\"color: #000000; background-color: #ffffff;\" class=\"gt_row gt_right\">0.02%</td>\n",
       "  </tr>\n",
       "  <tr>\n",
       "    <th class=\"gt_row gt_left gt_stub\">20</th>\n",
       "    <td class=\"gt_row gt_right\">1</td>\n",
       "    <td style=\"color: #000000; background-color: #ffffff;\" class=\"gt_row gt_right\">0.02%</td>\n",
       "  </tr>\n",
       "</tbody>\n",
       "\n",
       "\n",
       "</table>\n",
       "\n",
       "</div>\n",
       "        "
      ],
      "text/plain": [
       "GT(_tbl_data=shape: (19, 3)\n",
       "┌────────────────┬───────────┬────────────┐\n",
       "│ # of Purchases ┆ Frequency ┆ % of Total │\n",
       "│ ---            ┆ ---       ┆ ---        │\n",
       "│ i16            ┆ i32       ┆ f64        │\n",
       "╞════════════════╪═══════════╪════════════╡\n",
       "│ 0              ┆ 2397      ┆ 0.477395   │\n",
       "│ 1              ┆ 733       ┆ 0.145987   │\n",
       "│ 2              ┆ 517       ┆ 0.102968   │\n",
       "│ 3              ┆ 400       ┆ 0.079665   │\n",
       "│ 4              ┆ 277       ┆ 0.055168   │\n",
       "│ …              ┆ …         ┆ …          │\n",
       "│ 14             ┆ 12        ┆ 0.00239    │\n",
       "│ 15             ┆ 6         ┆ 0.001195   │\n",
       "│ 16             ┆ 3         ┆ 0.000597   │\n",
       "│ 18             ┆ 1         ┆ 0.000199   │\n",
       "│ 20             ┆ 1         ┆ 0.000199   │\n",
       "└────────────────┴───────────┴────────────┘, _body=<great_tables._gt_data.Body object at 0x000001EFEC019C10>, _boxhead=Boxhead([ColInfo(var='# of Purchases', type=<ColInfoTypeEnum.stub: 2>, column_label='# of Purchases', column_align='right', column_width=None), ColInfo(var='Frequency', type=<ColInfoTypeEnum.default: 1>, column_label='Frequency', column_align='right', column_width=None), ColInfo(var='% of Total', type=<ColInfoTypeEnum.default: 1>, column_label='% of Total', column_align='right', column_width=None)]), _stub=<great_tables._gt_data.Stub object at 0x000001EFEBD4F0B0>, _spanners=Spanners([]), _heading=Heading(title='Alpha Purchase Distribution', subtitle=None, preheader=None), _stubhead='# of Purchases', _source_notes=[], _footnotes=[], _styles=[StyleInfo(locname=LocBody(columns='% of Total', rows=[0]), grpname=None, colname='% of Total', rownum=0, colnum=None, styles=[CellStyleText(color='#FFFFFF', font=None, size=None, align=None, v_align=None, style=None, weight=None, stretch=None, decorate=None, transform=None, whitespace=None), CellStyleFill(color='#6d3c9e')]), StyleInfo(locname=LocBody(columns='% of Total', rows=[1]), grpname=None, colname='% of Total', rownum=1, colnum=None, styles=[CellStyleText(color='#000000', font=None, size=None, align=None, v_align=None, style=None, weight=None, stretch=None, decorate=None, transform=None, whitespace=None), CellStyleFill(color='#d2c3e1')]), StyleInfo(locname=LocBody(columns='% of Total', rows=[2]), grpname=None, colname='% of Total', rownum=2, colnum=None, styles=[CellStyleText(color='#000000', font=None, size=None, align=None, v_align=None, style=None, weight=None, stretch=None, decorate=None, transform=None, whitespace=None), CellStyleFill(color='#dfd5ea')]), StyleInfo(locname=LocBody(columns='% of Total', rows=[3]), grpname=None, colname='% of Total', rownum=3, colnum=None, styles=[CellStyleText(color='#000000', font=None, size=None, align=None, v_align=None, style=None, weight=None, stretch=None, decorate=None, transform=None, whitespace=None), CellStyleFill(color='#e7deef')]), StyleInfo(locname=LocBody(columns='% of Total', rows=[4]), grpname=None, colname='% of Total', rownum=4, colnum=None, styles=[CellStyleText(color='#000000', font=None, size=None, align=None, v_align=None, style=None, weight=None, stretch=None, decorate=None, transform=None, whitespace=None), CellStyleFill(color='#eee8f4')]), StyleInfo(locname=LocBody(columns='% of Total', rows=[5]), grpname=None, colname='% of Total', rownum=5, colnum=None, styles=[CellStyleText(color='#000000', font=None, size=None, align=None, v_align=None, style=None, weight=None, stretch=None, decorate=None, transform=None, whitespace=None), CellStyleFill(color='#f1edf6')]), StyleInfo(locname=LocBody(columns='% of Total', rows=[6]), grpname=None, colname='% of Total', rownum=6, colnum=None, styles=[CellStyleText(color='#000000', font=None, size=None, align=None, v_align=None, style=None, weight=None, stretch=None, decorate=None, transform=None, whitespace=None), CellStyleFill(color='#f6f3f9')]), StyleInfo(locname=LocBody(columns='% of Total', rows=[7]), grpname=None, colname='% of Total', rownum=7, colnum=None, styles=[CellStyleText(color='#000000', font=None, size=None, align=None, v_align=None, style=None, weight=None, stretch=None, decorate=None, transform=None, whitespace=None), CellStyleFill(color='#f9f7fb')]), StyleInfo(locname=LocBody(columns='% of Total', rows=[8]), grpname=None, colname='% of Total', rownum=8, colnum=None, styles=[CellStyleText(color='#000000', font=None, size=None, align=None, v_align=None, style=None, weight=None, stretch=None, decorate=None, transform=None, whitespace=None), CellStyleFill(color='#fbf9fc')]), StyleInfo(locname=LocBody(columns='% of Total', rows=[9]), grpname=None, colname='% of Total', rownum=9, colnum=None, styles=[CellStyleText(color='#000000', font=None, size=None, align=None, v_align=None, style=None, weight=None, stretch=None, decorate=None, transform=None, whitespace=None), CellStyleFill(color='#fcfbfd')]), StyleInfo(locname=LocBody(columns='% of Total', rows=[10]), grpname=None, colname='% of Total', rownum=10, colnum=None, styles=[CellStyleText(color='#000000', font=None, size=None, align=None, v_align=None, style=None, weight=None, stretch=None, decorate=None, transform=None, whitespace=None), CellStyleFill(color='#fdfdfe')]), StyleInfo(locname=LocBody(columns='% of Total', rows=[11]), grpname=None, colname='% of Total', rownum=11, colnum=None, styles=[CellStyleText(color='#000000', font=None, size=None, align=None, v_align=None, style=None, weight=None, stretch=None, decorate=None, transform=None, whitespace=None), CellStyleFill(color='#fefdfe')]), StyleInfo(locname=LocBody(columns='% of Total', rows=[12]), grpname=None, colname='% of Total', rownum=12, colnum=None, styles=[CellStyleText(color='#000000', font=None, size=None, align=None, v_align=None, style=None, weight=None, stretch=None, decorate=None, transform=None, whitespace=None), CellStyleFill(color='#fefefe')]), StyleInfo(locname=LocBody(columns='% of Total', rows=[13]), grpname=None, colname='% of Total', rownum=13, colnum=None, styles=[CellStyleText(color='#000000', font=None, size=None, align=None, v_align=None, style=None, weight=None, stretch=None, decorate=None, transform=None, whitespace=None), CellStyleFill(color='#fefefe')]), StyleInfo(locname=LocBody(columns='% of Total', rows=[14]), grpname=None, colname='% of Total', rownum=14, colnum=None, styles=[CellStyleText(color='#000000', font=None, size=None, align=None, v_align=None, style=None, weight=None, stretch=None, decorate=None, transform=None, whitespace=None), CellStyleFill(color='#fefeff')]), StyleInfo(locname=LocBody(columns='% of Total', rows=[15]), grpname=None, colname='% of Total', rownum=15, colnum=None, styles=[CellStyleText(color='#000000', font=None, size=None, align=None, v_align=None, style=None, weight=None, stretch=None, decorate=None, transform=None, whitespace=None), CellStyleFill(color='#ffffff')]), StyleInfo(locname=LocBody(columns='% of Total', rows=[16]), grpname=None, colname='% of Total', rownum=16, colnum=None, styles=[CellStyleText(color='#000000', font=None, size=None, align=None, v_align=None, style=None, weight=None, stretch=None, decorate=None, transform=None, whitespace=None), CellStyleFill(color='#ffffff')]), StyleInfo(locname=LocBody(columns='% of Total', rows=[17]), grpname=None, colname='% of Total', rownum=17, colnum=None, styles=[CellStyleText(color='#000000', font=None, size=None, align=None, v_align=None, style=None, weight=None, stretch=None, decorate=None, transform=None, whitespace=None), CellStyleFill(color='#ffffff')]), StyleInfo(locname=LocBody(columns='% of Total', rows=[18]), grpname=None, colname='% of Total', rownum=18, colnum=None, styles=[CellStyleText(color='#000000', font=None, size=None, align=None, v_align=None, style=None, weight=None, stretch=None, decorate=None, transform=None, whitespace=None), CellStyleFill(color='#ffffff')])], _locale=<great_tables._gt_data.Locale object at 0x000001EFEC018830>, _formats=[<great_tables._gt_data.FormatInfo object at 0x000001EFEBFE65A0>, <great_tables._gt_data.FormatInfo object at 0x000001EFEC01A5D0>], _substitutions=[], _options=Options(table_id=OptionsInfo(scss=False, category='table', type='value', value=None), table_caption=OptionsInfo(scss=False, category='table', type='value', value=None), table_width=OptionsInfo(scss=True, category='table', type='px', value='auto'), table_layout=OptionsInfo(scss=True, category='table', type='value', value='fixed'), table_margin_left=OptionsInfo(scss=True, category='table', type='px', value='auto'), table_margin_right=OptionsInfo(scss=True, category='table', type='px', value='auto'), table_background_color=OptionsInfo(scss=True, category='table', type='value', value='#FFFFFF'), table_additional_css=OptionsInfo(scss=False, category='table', type='values', value=[]), table_font_names=OptionsInfo(scss=False, category='table', type='values', value=['-apple-system', 'BlinkMacSystemFont', 'Segoe UI', 'Roboto', 'Oxygen', 'Ubuntu', 'Cantarell', 'Helvetica Neue', 'Fira Sans', 'Droid Sans', 'Arial', 'sans-serif']), table_font_size=OptionsInfo(scss=True, category='table', type='px', value='16px'), table_font_weight=OptionsInfo(scss=True, category='table', type='value', value='normal'), table_font_style=OptionsInfo(scss=True, category='table', type='value', value='normal'), table_font_color=OptionsInfo(scss=True, category='table', type='value', value='#333333'), table_font_color_light=OptionsInfo(scss=True, category='table', type='value', value='#FFFFFF'), table_border_top_include=OptionsInfo(scss=False, category='table', type='boolean', value=True), table_border_top_style=OptionsInfo(scss=True, category='table', type='value', value='solid'), table_border_top_width=OptionsInfo(scss=True, category='table', type='px', value='2px'), table_border_top_color=OptionsInfo(scss=True, category='table', type='value', value='#A8A8A8'), table_border_right_style=OptionsInfo(scss=True, category='table', type='value', value='none'), table_border_right_width=OptionsInfo(scss=True, category='table', type='px', value='2px'), table_border_right_color=OptionsInfo(scss=True, category='table', type='value', value='#D3D3D3'), table_border_bottom_include=OptionsInfo(scss=False, category='table', type='boolean', value=True), table_border_bottom_style=OptionsInfo(scss=True, category='table', type='value', value='solid'), table_border_bottom_width=OptionsInfo(scss=True, category='table', type='px', value='2px'), table_border_bottom_color=OptionsInfo(scss=True, category='table', type='value', value='#A8A8A8'), table_border_left_style=OptionsInfo(scss=True, category='table', type='value', value='none'), table_border_left_width=OptionsInfo(scss=True, category='table', type='px', value='2px'), table_border_left_color=OptionsInfo(scss=True, category='table', type='value', value='#D3D3D3'), heading_background_color=OptionsInfo(scss=True, category='heading', type='value', value=None), heading_align=OptionsInfo(scss=True, category='heading', type='value', value='center'), heading_title_font_size=OptionsInfo(scss=True, category='heading', type='px', value='125%'), heading_title_font_weight=OptionsInfo(scss=True, category='heading', type='value', value='initial'), heading_subtitle_font_size=OptionsInfo(scss=True, category='heading', type='px', value='85%'), heading_subtitle_font_weight=OptionsInfo(scss=True, category='heading', type='value', value='initial'), heading_padding=OptionsInfo(scss=True, category='heading', type='px', value='4px'), heading_padding_horizontal=OptionsInfo(scss=True, category='heading', type='px', value='5px'), heading_border_bottom_style=OptionsInfo(scss=True, category='heading', type='value', value='solid'), heading_border_bottom_width=OptionsInfo(scss=True, category='heading', type='px', value='2px'), heading_border_bottom_color=OptionsInfo(scss=True, category='heading', type='value', value='#D3D3D3'), heading_border_lr_style=OptionsInfo(scss=True, category='heading', type='value', value='none'), heading_border_lr_width=OptionsInfo(scss=True, category='heading', type='px', value='1px'), heading_border_lr_color=OptionsInfo(scss=True, category='heading', type='value', value='#D3D3D3'), column_labels_background_color=OptionsInfo(scss=True, category='column_labels', type='value', value=None), column_labels_font_size=OptionsInfo(scss=True, category='column_labels', type='px', value='100%'), column_labels_font_weight=OptionsInfo(scss=True, category='column_labels', type='value', value='normal'), column_labels_text_transform=OptionsInfo(scss=True, category='column_labels', type='value', value='inherit'), column_labels_padding=OptionsInfo(scss=True, category='column_labels', type='px', value='5px'), column_labels_padding_horizontal=OptionsInfo(scss=True, category='column_labels', type='px', value='5px'), column_labels_vlines_style=OptionsInfo(scss=True, category='table_body', type='value', value='none'), column_labels_vlines_width=OptionsInfo(scss=True, category='table_body', type='px', value='1px'), column_labels_vlines_color=OptionsInfo(scss=True, category='table_body', type='value', value='#D3D3D3'), column_labels_border_top_style=OptionsInfo(scss=True, category='column_labels', type='value', value='solid'), column_labels_border_top_width=OptionsInfo(scss=True, category='column_labels', type='px', value='2px'), column_labels_border_top_color=OptionsInfo(scss=True, category='column_labels', type='value', value='#D3D3D3'), column_labels_border_bottom_style=OptionsInfo(scss=True, category='column_labels', type='value', value='solid'), column_labels_border_bottom_width=OptionsInfo(scss=True, category='column_labels', type='px', value='2px'), column_labels_border_bottom_color=OptionsInfo(scss=True, category='column_labels', type='value', value='#D3D3D3'), column_labels_border_lr_style=OptionsInfo(scss=True, category='column_labels', type='value', value='none'), column_labels_border_lr_width=OptionsInfo(scss=True, category='column_labels', type='px', value='1px'), column_labels_border_lr_color=OptionsInfo(scss=True, category='column_labels', type='value', value='#D3D3D3'), column_labels_hidden=OptionsInfo(scss=False, category='column_labels', type='boolean', value=False), row_group_background_color=OptionsInfo(scss=True, category='row_group', type='value', value=None), row_group_font_size=OptionsInfo(scss=True, category='row_group', type='px', value='100%'), row_group_font_weight=OptionsInfo(scss=True, category='row_group', type='value', value='initial'), row_group_text_transform=OptionsInfo(scss=True, category='row_group', type='value', value='inherit'), row_group_padding=OptionsInfo(scss=True, category='row_group', type='px', value='8px'), row_group_padding_horizontal=OptionsInfo(scss=True, category='row_group', type='px', value='5px'), row_group_border_top_style=OptionsInfo(scss=True, category='row_group', type='value', value='solid'), row_group_border_top_width=OptionsInfo(scss=True, category='row_group', type='px', value='2px'), row_group_border_top_color=OptionsInfo(scss=True, category='row_group', type='value', value='#D3D3D3'), row_group_border_right_style=OptionsInfo(scss=True, category='row_group', type='value', value='none'), row_group_border_right_width=OptionsInfo(scss=True, category='row_group', type='px', value='1px'), row_group_border_right_color=OptionsInfo(scss=True, category='row_group', type='value', value='#D3D3D3'), row_group_border_bottom_style=OptionsInfo(scss=True, category='row_group', type='value', value='solid'), row_group_border_bottom_width=OptionsInfo(scss=True, category='row_group', type='px', value='2px'), row_group_border_bottom_color=OptionsInfo(scss=True, category='row_group', type='value', value='#D3D3D3'), row_group_border_left_style=OptionsInfo(scss=True, category='row_group', type='value', value='none'), row_group_border_left_width=OptionsInfo(scss=True, category='row_group', type='px', value='1px'), row_group_border_left_color=OptionsInfo(scss=True, category='row_group', type='value', value='#D3D3D3'), row_group_as_column=OptionsInfo(scss=False, category='row_group', type='boolean', value=False), table_body_hlines_style=OptionsInfo(scss=True, category='table_body', type='value', value='solid'), table_body_hlines_width=OptionsInfo(scss=True, category='table_body', type='px', value='1px'), table_body_hlines_color=OptionsInfo(scss=True, category='table_body', type='value', value='#D3D3D3'), table_body_vlines_style=OptionsInfo(scss=True, category='table_body', type='value', value='none'), table_body_vlines_width=OptionsInfo(scss=True, category='table_body', type='px', value='1px'), table_body_vlines_color=OptionsInfo(scss=True, category='table_body', type='value', value='#D3D3D3'), table_body_border_top_style=OptionsInfo(scss=True, category='table_body', type='value', value='solid'), table_body_border_top_width=OptionsInfo(scss=True, category='table_body', type='px', value='2px'), table_body_border_top_color=OptionsInfo(scss=True, category='table_body', type='value', value='#D3D3D3'), table_body_border_bottom_style=OptionsInfo(scss=True, category='table_body', type='value', value='solid'), table_body_border_bottom_width=OptionsInfo(scss=True, category='table_body', type='px', value='2px'), table_body_border_bottom_color=OptionsInfo(scss=True, category='table_body', type='value', value='#D3D3D3'), data_row_padding=OptionsInfo(scss=True, category='data_row', type='px', value='8px'), data_row_padding_horizontal=OptionsInfo(scss=True, category='data_row', type='px', value='5px'), stub_background_color=OptionsInfo(scss=True, category='stub', type='value', value=None), stub_font_size=OptionsInfo(scss=True, category='stub', type='px', value='100%'), stub_font_weight=OptionsInfo(scss=True, category='stub', type='value', value='initial'), stub_text_transform=OptionsInfo(scss=True, category='stub', type='value', value='inherit'), stub_border_style=OptionsInfo(scss=True, category='stub', type='value', value='solid'), stub_border_width=OptionsInfo(scss=True, category='stub', type='px', value='2px'), stub_border_color=OptionsInfo(scss=True, category='stub', type='value', value='#D3D3D3'), stub_row_group_background_color=OptionsInfo(scss=True, category='stub', type='value', value=None), stub_row_group_font_size=OptionsInfo(scss=True, category='stub', type='px', value='100%'), stub_row_group_font_weight=OptionsInfo(scss=True, category='stub', type='value', value='initial'), stub_row_group_text_transform=OptionsInfo(scss=True, category='stub', type='value', value='inherit'), stub_row_group_border_style=OptionsInfo(scss=True, category='stub', type='value', value='solid'), stub_row_group_border_width=OptionsInfo(scss=True, category='stub', type='px', value='2px'), stub_row_group_border_color=OptionsInfo(scss=True, category='stub', type='value', value='#D3D3D3'), source_notes_padding=OptionsInfo(scss=True, category='source_notes', type='px', value='4px'), source_notes_padding_horizontal=OptionsInfo(scss=True, category='source_notes', type='px', value='5px'), source_notes_background_color=OptionsInfo(scss=True, category='source_notes', type='value', value=None), source_notes_font_size=OptionsInfo(scss=True, category='source_notes', type='px', value='90%'), source_notes_border_bottom_style=OptionsInfo(scss=True, category='source_notes', type='value', value='none'), source_notes_border_bottom_width=OptionsInfo(scss=True, category='source_notes', type='px', value='2px'), source_notes_border_bottom_color=OptionsInfo(scss=True, category='source_notes', type='value', value='#D3D3D3'), source_notes_border_lr_style=OptionsInfo(scss=True, category='source_notes', type='value', value='none'), source_notes_border_lr_width=OptionsInfo(scss=True, category='source_notes', type='px', value='2px'), source_notes_border_lr_color=OptionsInfo(scss=True, category='source_notes', type='value', value='#D3D3D3'), source_notes_multiline=OptionsInfo(scss=False, category='source_notes', type='boolean', value=True), source_notes_sep=OptionsInfo(scss=False, category='source_notes', type='value', value=' '), row_striping_background_color=OptionsInfo(scss=True, category='row', type='value', value='rgba(128,128,128,0.05)'), row_striping_include_stub=OptionsInfo(scss=False, category='row', type='boolean', value=False), row_striping_include_table_body=OptionsInfo(scss=False, category='row', type='boolean', value=False), container_width=OptionsInfo(scss=False, category='container', type='px', value='auto'), container_height=OptionsInfo(scss=False, category='container', type='px', value='auto'), container_padding_x=OptionsInfo(scss=False, category='container', type='px', value='0px'), container_padding_y=OptionsInfo(scss=False, category='container', type='px', value='10px'), container_overflow_x=OptionsInfo(scss=False, category='container', type='overflow', value='auto'), container_overflow_y=OptionsInfo(scss=False, category='container', type='overflow', value='auto'), quarto_disable_processing=OptionsInfo(scss=False, category='quarto', type='logical', value=False), quarto_use_bootstrap=OptionsInfo(scss=False, category='quarto', type='logical', value=False)), _has_built=False)"
      ]
     },
     "execution_count": 38,
     "metadata": {},
     "output_type": "execute_result"
    }
   ],
   "source": [
    "alpha_trans_dist = (\n",
    "    trans_summary('Alpha', grocery_lf, 1)\n",
    "    .group_by(pl.col('# of Purchases').cast(pl.Int16))\n",
    "    .agg(pl.len().cast(pl.Int32).alias(\"Frequency\"))\n",
    "    .collect() \n",
    "    .pipe(\n",
    "        lambda df: df.vstack(\n",
    "            pl.DataFrame(\n",
    "                {\n",
    "                    \"# of Purchases\": [0],\n",
    "                    \"Frequency\": [panel_size - df[\"Frequency\"].sum()],\n",
    "                }\n",
    "            ).with_columns(\n",
    "                pl.col(\"# of Purchases\").cast(pl.Int16),\n",
    "                pl.col('Frequency').cast(pl.Int32)\n",
    "                )\n",
    "        )\n",
    "    )\n",
    "    .sort(by='# of Purchases')\n",
    "    .with_columns(\n",
    "        (pl.col('Frequency') / pl.col('Frequency').sum()).cast(pl.Float64).alias(\"% of Total\")\n",
    "    )    \n",
    ")\n",
    "\n",
    "(\n",
    "    GT(alpha_trans_dist, rowname_col='# of Purchases')\n",
    "    .tab_header(title='Alpha Purchase Distribution')\n",
    "    .tab_stubhead(label=\"# of Purchases\")\n",
    "    .fmt_integer(columns='Frequency')\n",
    "    .fmt_percent(columns='% of Total')\n",
    "    .data_color(\n",
    "        columns=['% of Total'],\n",
    "        domain=[0, 0.5],\n",
    "        palette=['white', 'rebeccapurple']\n",
    "    )  \n",
    ")"
   ]
  },
  {
   "cell_type": "code",
   "execution_count": 39,
   "metadata": {},
   "outputs": [
    {
     "data": {
      "application/vnd.vegalite.v5+json": {
       "$schema": "https://vega.github.io/schema/vega-lite/v5.20.1.json",
       "config": {
        "view": {
         "continuousHeight": 300,
         "continuousWidth": 300
        }
       },
       "data": {
        "name": "data-6ee6bc3bebfb0a9d7733195d73163329"
       },
       "datasets": {
        "data-6ee6bc3bebfb0a9d7733195d73163329": [
         {
          "# of Purchases": 0,
          "% of Total": 0.47739494124676357,
          "Frequency": 2397,
          "cut": "0"
         },
         {
          "# of Purchases": 1,
          "% of Total": 0.14598685520812588,
          "Frequency": 733,
          "cut": "1"
         },
         {
          "# of Purchases": 2,
          "% of Total": 0.10296753634734117,
          "Frequency": 517,
          "cut": "2"
         },
         {
          "# of Purchases": 3,
          "% of Total": 0.07966540529774944,
          "Frequency": 400,
          "cut": "3"
         },
         {
          "# of Purchases": 4,
          "% of Total": 0.05516829316869149,
          "Frequency": 277,
          "cut": "4"
         },
         {
          "# of Purchases": 5,
          "% of Total": 0.045210117506472816,
          "Frequency": 227,
          "cut": "5"
         },
         {
          "# of Purchases": 6,
          "% of Total": 0.028679545907189803,
          "Frequency": 144,
          "cut": "6"
         },
         {
          "# of Purchases": 7,
          "% of Total": 0.020115514837681737,
          "Frequency": 101,
          "cut": "7"
         },
         {
          "# of Purchases": 8,
          "% of Total": 0.014140609440350527,
          "Frequency": 71,
          "cut": "8"
         },
         {
          "# of Purchases": 9,
          "% of Total": 0.00936068512248556,
          "Frequency": 47,
          "cut": "9"
         },
         {
          "# of Purchases": 10,
          "% of Total": 0.005576578370842461,
          "Frequency": 28,
          "cut": "10+"
         },
         {
          "# of Purchases": 11,
          "% of Total": 0.004779924317864967,
          "Frequency": 24,
          "cut": "10+"
         },
         {
          "# of Purchases": 12,
          "% of Total": 0.003186616211909978,
          "Frequency": 16,
          "cut": "10+"
         },
         {
          "# of Purchases": 13,
          "% of Total": 0.003186616211909978,
          "Frequency": 16,
          "cut": "10+"
         },
         {
          "# of Purchases": 14,
          "% of Total": 0.0023899621589324833,
          "Frequency": 12,
          "cut": "10+"
         },
         {
          "# of Purchases": 15,
          "% of Total": 0.0011949810794662417,
          "Frequency": 6,
          "cut": "10+"
         },
         {
          "# of Purchases": 16,
          "% of Total": 0.0005974905397331208,
          "Frequency": 3,
          "cut": "10+"
         },
         {
          "# of Purchases": 18,
          "% of Total": 0.00019916351324437363,
          "Frequency": 1,
          "cut": "10+"
         },
         {
          "# of Purchases": 20,
          "% of Total": 0.00019916351324437363,
          "Frequency": 1,
          "cut": "10+"
         }
        ]
       },
       "encoding": {
        "x": {
         "axis": {
          "labelAngle": 0,
          "title": "Number of Transactions"
         },
         "field": "cut",
         "sort": [
          "0",
          "1",
          "2",
          "3",
          "4",
          "5",
          "6",
          "7",
          "8",
          "9",
          "10+"
         ],
         "type": "ordinal"
        },
        "y": {
         "axis": {
          "format": ".0%",
          "title": "% of Households"
         },
         "field": "% of Total",
         "type": "quantitative"
        }
       },
       "height": 250,
       "mark": {
        "type": "bar"
       },
       "title": {
        "subtitle": "Distribution of purchase frequency for Alpha in year 1",
        "text": "Alpha Transaction Distribution (%)"
       },
       "width": 650
      },
      "text/plain": [
       "<VegaLite 5 object>\n",
       "\n",
       "If you see this message, it means the renderer has not been properly enabled\n",
       "for the frontend that you are using. For more information, see\n",
       "https://altair-viz.github.io/user_guide/display_frontends.html#troubleshooting\n"
      ]
     },
     "metadata": {},
     "output_type": "display_data"
    }
   ],
   "source": [
    "labels = [str(i) if i < 10 else '10+' for i in range(11)]\n",
    "\n",
    "chart = freq_dist_plot(\n",
    "    data=alpha_trans_dist,\n",
    "    column=\"# of Purchases\",\n",
    "    bin_edges=np.arange(0, 10, 1),\n",
    "    labels=labels,\n",
    "    x_title=\"Number of Transactions\",\n",
    "    y_title=\"% of Households\",\n",
    "    chart_title=\"Alpha Transaction Distribution (%)\",\n",
    "    subtitle=\"Distribution of purchase frequency for Alpha in year 1\",\n",
    "    left_closed=False,\n",
    "    compute_rel_freq=False\n",
    ")\n",
    "chart.show()\n"
   ]
  },
  {
   "cell_type": "markdown",
   "metadata": {},
   "source": [
    "#### Distribution of Spend"
   ]
  },
  {
   "cell_type": "markdown",
   "metadata": {},
   "source": [
    "##### Distribution of Category Spend"
   ]
  },
  {
   "cell_type": "code",
   "execution_count": 40,
   "metadata": {},
   "outputs": [
    {
     "data": {
      "text/html": [
       "<div><style>\n",
       ".dataframe > thead > tr,\n",
       ".dataframe > tbody > tr {\n",
       "  text-align: right;\n",
       "  white-space: pre-wrap;\n",
       "}\n",
       "</style>\n",
       "<small>shape: (9, 2)</small><table border=\"1\" class=\"dataframe\"><thead><tr><th>statistic</th><th>spend</th></tr><tr><td>str</td><td>f64</td></tr></thead><tbody><tr><td>&quot;count&quot;</td><td>4574.0</td></tr><tr><td>&quot;null_count&quot;</td><td>0.0</td></tr><tr><td>&quot;mean&quot;</td><td>15.763424</td></tr><tr><td>&quot;std&quot;</td><td>12.876024</td></tr><tr><td>&quot;min&quot;</td><td>1.27</td></tr><tr><td>&quot;25%&quot;</td><td>6.76</td></tr><tr><td>&quot;50%&quot;</td><td>12.57</td></tr><tr><td>&quot;75%&quot;</td><td>20.74</td></tr><tr><td>&quot;max&quot;</td><td>166.699999</td></tr></tbody></table></div>"
      ],
      "text/plain": [
       "shape: (9, 2)\n",
       "┌────────────┬────────────┐\n",
       "│ statistic  ┆ spend      │\n",
       "│ ---        ┆ ---        │\n",
       "│ str        ┆ f64        │\n",
       "╞════════════╪════════════╡\n",
       "│ count      ┆ 4574.0     │\n",
       "│ null_count ┆ 0.0        │\n",
       "│ mean       ┆ 15.763424  │\n",
       "│ std        ┆ 12.876024  │\n",
       "│ min        ┆ 1.27       │\n",
       "│ 25%        ┆ 6.76       │\n",
       "│ 50%        ┆ 12.57      │\n",
       "│ 75%        ┆ 20.74      │\n",
       "│ max        ┆ 166.699999 │\n",
       "└────────────┴────────────┘"
      ]
     },
     "execution_count": 40,
     "metadata": {},
     "output_type": "execute_result"
    }
   ],
   "source": [
    "category_spend = spend_summary('Category', grocery_lf, 1).drop('panel_id')\n",
    "\n",
    "category_spend.describe()"
   ]
  },
  {
   "cell_type": "code",
   "execution_count": 41,
   "metadata": {},
   "outputs": [
    {
     "data": {
      "text/html": [
       "<div id=\"fmxpjhgtkf\" style=\"padding-left:0px;padding-right:0px;padding-top:10px;padding-bottom:10px;overflow-x:auto;overflow-y:auto;width:auto;height:auto;\">\n",
       "<style>\n",
       "#fmxpjhgtkf table {\n",
       "          font-family: -apple-system, BlinkMacSystemFont, 'Segoe UI', Roboto, Oxygen, Ubuntu, Cantarell, 'Helvetica Neue', 'Fira Sans', 'Droid Sans', Arial, sans-serif;\n",
       "          -webkit-font-smoothing: antialiased;\n",
       "          -moz-osx-font-smoothing: grayscale;\n",
       "        }\n",
       "\n",
       "#fmxpjhgtkf thead, tbody, tfoot, tr, td, th { border-style: none !important; }\n",
       " tr { background-color: transparent !important; }\n",
       "#fmxpjhgtkf p { margin: 0 !important; padding: 0 !important; }\n",
       " #fmxpjhgtkf .gt_table { display: table !important; border-collapse: collapse !important; line-height: normal !important; margin-left: auto !important; margin-right: auto !important; color: #333333 !important; font-size: 16px !important; font-weight: normal !important; font-style: normal !important; background-color: #FFFFFF !important; width: auto !important; border-top-style: solid !important; border-top-width: 2px !important; border-top-color: #A8A8A8 !important; border-right-style: none !important; border-right-width: 2px !important; border-right-color: #D3D3D3 !important; border-bottom-style: solid !important; border-bottom-width: 2px !important; border-bottom-color: #A8A8A8 !important; border-left-style: none !important; border-left-width: 2px !important; border-left-color: #D3D3D3 !important; }\n",
       " #fmxpjhgtkf .gt_caption { padding-top: 4px !important; padding-bottom: 4px !important; }\n",
       " #fmxpjhgtkf .gt_title { color: #333333 !important; font-size: 125% !important; font-weight: initial !important; padding-top: 4px !important; padding-bottom: 4px !important; padding-left: 5px !important; padding-right: 5px !important; border-bottom-color: #FFFFFF !important; border-bottom-width: 0 !important; }\n",
       " #fmxpjhgtkf .gt_subtitle { color: #333333 !important; font-size: 85% !important; font-weight: initial !important; padding-top: 3px !important; padding-bottom: 5px !important; padding-left: 5px !important; padding-right: 5px !important; border-top-color: #FFFFFF !important; border-top-width: 0 !important; }\n",
       " #fmxpjhgtkf .gt_heading { background-color: #FFFFFF !important; text-align: center !important; border-bottom-color: #FFFFFF !important; border-left-style: none !important; border-left-width: 1px !important; border-left-color: #D3D3D3 !important; border-right-style: none !important; border-right-width: 1px !important; border-right-color: #D3D3D3 !important; }\n",
       " #fmxpjhgtkf .gt_bottom_border { border-bottom-style: solid !important; border-bottom-width: 2px !important; border-bottom-color: #D3D3D3 !important; }\n",
       " #fmxpjhgtkf .gt_col_headings { border-top-style: solid !important; border-top-width: 2px !important; border-top-color: #D3D3D3 !important; border-bottom-style: solid !important; border-bottom-width: 2px !important; border-bottom-color: #D3D3D3 !important; border-left-style: none !important; border-left-width: 1px !important; border-left-color: #D3D3D3 !important; border-right-style: none !important; border-right-width: 1px !important; border-right-color: #D3D3D3 !important; }\n",
       " #fmxpjhgtkf .gt_col_heading { color: #333333 !important; background-color: #FFFFFF !important; font-size: 100% !important; font-weight: normal !important; text-transform: inherit !important; border-left-style: none !important; border-left-width: 1px !important; border-left-color: #D3D3D3 !important; border-right-style: none !important; border-right-width: 1px !important; border-right-color: #D3D3D3 !important; vertical-align: bottom !important; padding-top: 5px !important; padding-bottom: 5px !important; padding-left: 5px !important; padding-right: 5px !important; overflow-x: hidden !important; }\n",
       " #fmxpjhgtkf .gt_column_spanner_outer { color: #333333 !important; background-color: #FFFFFF !important; font-size: 100% !important; font-weight: normal !important; text-transform: inherit !important; padding-top: 0 !important; padding-bottom: 0 !important; padding-left: 4px !important; padding-right: 4px !important; }\n",
       " #fmxpjhgtkf .gt_column_spanner_outer:first-child { padding-left: 0 !important; }\n",
       " #fmxpjhgtkf .gt_column_spanner_outer:last-child { padding-right: 0 !important; }\n",
       " #fmxpjhgtkf .gt_column_spanner { border-bottom-style: solid !important; border-bottom-width: 2px !important; border-bottom-color: #D3D3D3 !important; vertical-align: bottom !important; padding-top: 5px !important; padding-bottom: 5px !important; overflow-x: hidden !important; display: inline-block !important; width: 100% !important; }\n",
       " #fmxpjhgtkf .gt_spanner_row { border-bottom-style: hidden !important; }\n",
       " #fmxpjhgtkf .gt_group_heading { padding-top: 8px !important; padding-bottom: 8px !important; padding-left: 5px !important; padding-right: 5px !important; color: #333333 !important; background-color: #FFFFFF !important; font-size: 100% !important; font-weight: initial !important; text-transform: inherit !important; border-top-style: solid !important; border-top-width: 2px !important; border-top-color: #D3D3D3 !important; border-bottom-style: solid !important; border-bottom-width: 2px !important; border-bottom-color: #D3D3D3 !important; border-left-style: none !important; border-left-width: 1px !important; border-left-color: #D3D3D3 !important; border-right-style: none !important; border-right-width: 1px !important; border-right-color: #D3D3D3 !important; vertical-align: middle !important; text-align: left !important; }\n",
       " #fmxpjhgtkf .gt_empty_group_heading { padding: 0.5px !important; color: #333333 !important; background-color: #FFFFFF !important; font-size: 100% !important; font-weight: initial !important; border-top-style: solid !important; border-top-width: 2px !important; border-top-color: #D3D3D3 !important; border-bottom-style: solid !important; border-bottom-width: 2px !important; border-bottom-color: #D3D3D3 !important; vertical-align: middle !important; }\n",
       " #fmxpjhgtkf .gt_from_md> :first-child { margin-top: 0 !important; }\n",
       " #fmxpjhgtkf .gt_from_md> :last-child { margin-bottom: 0 !important; }\n",
       " #fmxpjhgtkf .gt_row { padding-top: 8px !important; padding-bottom: 8px !important; padding-left: 5px !important; padding-right: 5px !important; margin: 10px !important; border-top-style: solid !important; border-top-width: 1px !important; border-top-color: #D3D3D3 !important; border-left-style: none !important; border-left-width: 1px !important; border-left-color: #D3D3D3 !important; border-right-style: none !important; border-right-width: 1px !important; border-right-color: #D3D3D3 !important; vertical-align: middle !important; overflow-x: hidden !important; }\n",
       " #fmxpjhgtkf .gt_stub { color: #333333 !important; background-color: #FFFFFF !important; font-size: 100% !important; font-weight: initial !important; text-transform: inherit !important; border-right-style: solid !important; border-right-width: 2px !important; border-right-color: #D3D3D3 !important; padding-left: 5px !important; padding-right: 5px !important; }\n",
       " #fmxpjhgtkf .gt_stub_row_group { color: #333333 !important; background-color: #FFFFFF !important; font-size: 100% !important; font-weight: initial !important; text-transform: inherit !important; border-right-style: solid !important; border-right-width: 2px !important; border-right-color: #D3D3D3 !important; padding-left: 5px !important; padding-right: 5px !important; vertical-align: top !important; }\n",
       " #fmxpjhgtkf .gt_row_group_first td { border-top-width: 2px !important; }\n",
       " #fmxpjhgtkf .gt_row_group_first th { border-top-width: 2px !important; }\n",
       " #fmxpjhgtkf .gt_striped { background-color: rgba(128,128,128,0.05) !important; }\n",
       " #fmxpjhgtkf .gt_table_body { border-top-style: solid !important; border-top-width: 2px !important; border-top-color: #D3D3D3 !important; border-bottom-style: solid !important; border-bottom-width: 2px !important; border-bottom-color: #D3D3D3 !important; }\n",
       " #fmxpjhgtkf .gt_sourcenotes { color: #333333 !important; background-color: #FFFFFF !important; border-bottom-style: none !important; border-bottom-width: 2px !important; border-bottom-color: #D3D3D3 !important; border-left-style: none !important; border-left-width: 2px !important; border-left-color: #D3D3D3 !important; border-right-style: none !important; border-right-width: 2px !important; border-right-color: #D3D3D3 !important; }\n",
       " #fmxpjhgtkf .gt_sourcenote { font-size: 90% !important; padding-top: 4px !important; padding-bottom: 4px !important; padding-left: 5px !important; padding-right: 5px !important; text-align: left !important; }\n",
       " #fmxpjhgtkf .gt_left { text-align: left !important; }\n",
       " #fmxpjhgtkf .gt_center { text-align: center !important; }\n",
       " #fmxpjhgtkf .gt_right { text-align: right !important; font-variant-numeric: tabular-nums !important; }\n",
       " #fmxpjhgtkf .gt_font_normal { font-weight: normal !important; }\n",
       " #fmxpjhgtkf .gt_font_bold { font-weight: bold !important; }\n",
       " #fmxpjhgtkf .gt_font_italic { font-style: italic !important; }\n",
       " #fmxpjhgtkf .gt_super { font-size: 65% !important; }\n",
       " #fmxpjhgtkf .gt_footnote_marks { font-size: 75% !important; vertical-align: 0.4em !important; position: initial !important; }\n",
       " #fmxpjhgtkf .gt_asterisk { font-size: 100% !important; vertical-align: 0 !important; }\n",
       " \n",
       "</style>\n",
       "<table class=\"gt_table\" data-quarto-disable-processing=\"false\" data-quarto-bootstrap=\"false\">\n",
       "<thead>\n",
       "\n",
       "  <tr class=\"gt_heading\">\n",
       "    <td colspan=\"2\" class=\"gt_heading gt_title gt_font_normal\">Category Spend Percentile</td>\n",
       "  </tr>\n",
       "<tr class=\"gt_col_headings\">\n",
       "  <th class=\"gt_col_heading gt_columns_bottom_border gt_left\" rowspan=\"1\" colspan=\"1\" scope=\"col\" id=\"Percentile Level\">Percentile Level</th>\n",
       "  <th class=\"gt_col_heading gt_columns_bottom_border gt_right\" rowspan=\"1\" colspan=\"1\" scope=\"col\" id=\"Percentile\">Percentile</th>\n",
       "</tr>\n",
       "</thead>\n",
       "<tbody class=\"gt_table_body\">\n",
       "  <tr>\n",
       "    <th style=\"color: #000000; background-color: #ece6f2;\" class=\"gt_row gt_left gt_stub\">5</th>\n",
       "    <td style=\"color: #000000; background-color: #f5f1f8;\" class=\"gt_row gt_right\">2.69</td>\n",
       "  </tr>\n",
       "  <tr>\n",
       "    <th style=\"color: #000000; background-color: #d9cce6;\" class=\"gt_row gt_left gt_stub\">10</th>\n",
       "    <td style=\"color: #000000; background-color: #f2eef6;\" class=\"gt_row gt_right\">3.39</td>\n",
       "  </tr>\n",
       "  <tr>\n",
       "    <th style=\"color: #000000; background-color: #c6b2d9;\" class=\"gt_row gt_left gt_stub\">15</th>\n",
       "    <td style=\"color: #000000; background-color: #ede7f3;\" class=\"gt_row gt_right\">4.67</td>\n",
       "  </tr>\n",
       "  <tr>\n",
       "    <th style=\"color: #000000; background-color: #b299cc;\" class=\"gt_row gt_left gt_stub\">20</th>\n",
       "    <td style=\"color: #000000; background-color: #e9e1f0;\" class=\"gt_row gt_right\">5.88</td>\n",
       "  </tr>\n",
       "  <tr>\n",
       "    <th style=\"color: #000000; background-color: #9f80bf;\" class=\"gt_row gt_left gt_stub\">25</th>\n",
       "    <td style=\"color: #000000; background-color: #e5ddee;\" class=\"gt_row gt_right\">6.76</td>\n",
       "  </tr>\n",
       "  <tr>\n",
       "    <th style=\"color: #000000; background-color: #8c66b2;\" class=\"gt_row gt_left gt_stub\">30</th>\n",
       "    <td style=\"color: #000000; background-color: #e2d8ec;\" class=\"gt_row gt_right\">7.63</td>\n",
       "  </tr>\n",
       "  <tr>\n",
       "    <th style=\"color: #FFFFFF; background-color: #794ca6;\" class=\"gt_row gt_left gt_stub\">35</th>\n",
       "    <td style=\"color: #000000; background-color: #dcd1e8;\" class=\"gt_row gt_right\">9.07</td>\n",
       "  </tr>\n",
       "  <tr>\n",
       "    <th style=\"color: #FFFFFF; background-color: #663399;\" class=\"gt_row gt_left gt_stub\">40</th>\n",
       "    <td style=\"color: #000000; background-color: #d9cce5;\" class=\"gt_row gt_right\">10.06</td>\n",
       "  </tr>\n",
       "  <tr>\n",
       "    <th style=\"color: #000000; background-color: #808080;\" class=\"gt_row gt_left gt_stub\">45</th>\n",
       "    <td style=\"color: #000000; background-color: #d5c7e3;\" class=\"gt_row gt_right\">11.03</td>\n",
       "  </tr>\n",
       "  <tr>\n",
       "    <th style=\"color: #000000; background-color: #808080;\" class=\"gt_row gt_left gt_stub\">50</th>\n",
       "    <td style=\"color: #000000; background-color: #cfbfdf;\" class=\"gt_row gt_right\">12.57</td>\n",
       "  </tr>\n",
       "  <tr>\n",
       "    <th style=\"color: #000000; background-color: #808080;\" class=\"gt_row gt_left gt_stub\">55</th>\n",
       "    <td style=\"color: #000000; background-color: #cab9dc;\" class=\"gt_row gt_right\">13.73</td>\n",
       "  </tr>\n",
       "  <tr>\n",
       "    <th style=\"color: #000000; background-color: #808080;\" class=\"gt_row gt_left gt_stub\">60</th>\n",
       "    <td style=\"color: #000000; background-color: #c5b1d8;\" class=\"gt_row gt_right\">15.24</td>\n",
       "  </tr>\n",
       "  <tr>\n",
       "    <th style=\"color: #000000; background-color: #808080;\" class=\"gt_row gt_left gt_stub\">65</th>\n",
       "    <td style=\"color: #000000; background-color: #bfa9d4;\" class=\"gt_row gt_right\">16.84</td>\n",
       "  </tr>\n",
       "  <tr>\n",
       "    <th style=\"color: #000000; background-color: #808080;\" class=\"gt_row gt_left gt_stub\">70</th>\n",
       "    <td style=\"color: #000000; background-color: #b79fcf;\" class=\"gt_row gt_right\">18.79</td>\n",
       "  </tr>\n",
       "  <tr>\n",
       "    <th style=\"color: #000000; background-color: #808080;\" class=\"gt_row gt_left gt_stub\">75</th>\n",
       "    <td style=\"color: #000000; background-color: #b095ca;\" class=\"gt_row gt_right\">20.74</td>\n",
       "  </tr>\n",
       "  <tr>\n",
       "    <th style=\"color: #000000; background-color: #808080;\" class=\"gt_row gt_left gt_stub\">80</th>\n",
       "    <td style=\"color: #000000; background-color: #a588c3;\" class=\"gt_row gt_right\">23.43</td>\n",
       "  </tr>\n",
       "  <tr>\n",
       "    <th style=\"color: #000000; background-color: #808080;\" class=\"gt_row gt_left gt_stub\">85</th>\n",
       "    <td style=\"color: #000000; background-color: #9876ba;\" class=\"gt_row gt_right\">26.88</td>\n",
       "  </tr>\n",
       "  <tr>\n",
       "    <th style=\"color: #000000; background-color: #808080;\" class=\"gt_row gt_left gt_stub\">90</th>\n",
       "    <td style=\"color: #FFFFFF; background-color: #855dae;\" class=\"gt_row gt_right\">31.81</td>\n",
       "  </tr>\n",
       "  <tr>\n",
       "    <th style=\"color: #000000; background-color: #808080;\" class=\"gt_row gt_left gt_stub\">95</th>\n",
       "    <td style=\"color: #FFFFFF; background-color: #67349a;\" class=\"gt_row gt_right\">39.72</td>\n",
       "  </tr>\n",
       "</tbody>\n",
       "\n",
       "\n",
       "</table>\n",
       "\n",
       "</div>\n",
       "        "
      ],
      "text/plain": [
       "GT(_tbl_data=shape: (19, 2)\n",
       "┌──────────────────┬────────────┐\n",
       "│ Percentile Level ┆ Percentile │\n",
       "│ ---              ┆ ---        │\n",
       "│ i32              ┆ f64        │\n",
       "╞══════════════════╪════════════╡\n",
       "│ 5                ┆ 2.69       │\n",
       "│ 10               ┆ 3.39       │\n",
       "│ 15               ┆ 4.67       │\n",
       "│ 20               ┆ 5.88       │\n",
       "│ 25               ┆ 6.76       │\n",
       "│ …                ┆ …          │\n",
       "│ 75               ┆ 20.7375    │\n",
       "│ 80               ┆ 23.43      │\n",
       "│ 85               ┆ 26.8805    │\n",
       "│ 90               ┆ 31.810001  │\n",
       "│ 95               ┆ 39.7185    │\n",
       "└──────────────────┴────────────┘, _body=<great_tables._gt_data.Body object at 0x000001EFEBFEF740>, _boxhead=Boxhead([ColInfo(var='Percentile Level', type=<ColInfoTypeEnum.stub: 2>, column_label='Percentile Level', column_align='right', column_width=None), ColInfo(var='Percentile', type=<ColInfoTypeEnum.default: 1>, column_label='Percentile', column_align='right', column_width=None)]), _stub=<great_tables._gt_data.Stub object at 0x000001EFE32DDA90>, _spanners=Spanners([]), _heading=Heading(title='Category Spend Percentile', subtitle=None, preheader=None), _stubhead='Percentile Level', _source_notes=[], _footnotes=[], _styles=[StyleInfo(locname=LocBody(columns='Percentile Level', rows=[0]), grpname=None, colname='Percentile Level', rownum=0, colnum=None, styles=[CellStyleText(color='#000000', font=None, size=None, align=None, v_align=None, style=None, weight=None, stretch=None, decorate=None, transform=None, whitespace=None), CellStyleFill(color='#ece6f2')]), StyleInfo(locname=LocBody(columns='Percentile Level', rows=[1]), grpname=None, colname='Percentile Level', rownum=1, colnum=None, styles=[CellStyleText(color='#000000', font=None, size=None, align=None, v_align=None, style=None, weight=None, stretch=None, decorate=None, transform=None, whitespace=None), CellStyleFill(color='#d9cce6')]), StyleInfo(locname=LocBody(columns='Percentile Level', rows=[2]), grpname=None, colname='Percentile Level', rownum=2, colnum=None, styles=[CellStyleText(color='#000000', font=None, size=None, align=None, v_align=None, style=None, weight=None, stretch=None, decorate=None, transform=None, whitespace=None), CellStyleFill(color='#c6b2d9')]), StyleInfo(locname=LocBody(columns='Percentile Level', rows=[3]), grpname=None, colname='Percentile Level', rownum=3, colnum=None, styles=[CellStyleText(color='#000000', font=None, size=None, align=None, v_align=None, style=None, weight=None, stretch=None, decorate=None, transform=None, whitespace=None), CellStyleFill(color='#b299cc')]), StyleInfo(locname=LocBody(columns='Percentile Level', rows=[4]), grpname=None, colname='Percentile Level', rownum=4, colnum=None, styles=[CellStyleText(color='#000000', font=None, size=None, align=None, v_align=None, style=None, weight=None, stretch=None, decorate=None, transform=None, whitespace=None), CellStyleFill(color='#9f80bf')]), StyleInfo(locname=LocBody(columns='Percentile Level', rows=[5]), grpname=None, colname='Percentile Level', rownum=5, colnum=None, styles=[CellStyleText(color='#000000', font=None, size=None, align=None, v_align=None, style=None, weight=None, stretch=None, decorate=None, transform=None, whitespace=None), CellStyleFill(color='#8c66b2')]), StyleInfo(locname=LocBody(columns='Percentile Level', rows=[6]), grpname=None, colname='Percentile Level', rownum=6, colnum=None, styles=[CellStyleText(color='#FFFFFF', font=None, size=None, align=None, v_align=None, style=None, weight=None, stretch=None, decorate=None, transform=None, whitespace=None), CellStyleFill(color='#794ca6')]), StyleInfo(locname=LocBody(columns='Percentile Level', rows=[7]), grpname=None, colname='Percentile Level', rownum=7, colnum=None, styles=[CellStyleText(color='#FFFFFF', font=None, size=None, align=None, v_align=None, style=None, weight=None, stretch=None, decorate=None, transform=None, whitespace=None), CellStyleFill(color='#663399')]), StyleInfo(locname=LocBody(columns='Percentile Level', rows=[8]), grpname=None, colname='Percentile Level', rownum=8, colnum=None, styles=[CellStyleText(color='#000000', font=None, size=None, align=None, v_align=None, style=None, weight=None, stretch=None, decorate=None, transform=None, whitespace=None), CellStyleFill(color='#808080')]), StyleInfo(locname=LocBody(columns='Percentile Level', rows=[9]), grpname=None, colname='Percentile Level', rownum=9, colnum=None, styles=[CellStyleText(color='#000000', font=None, size=None, align=None, v_align=None, style=None, weight=None, stretch=None, decorate=None, transform=None, whitespace=None), CellStyleFill(color='#808080')]), StyleInfo(locname=LocBody(columns='Percentile Level', rows=[10]), grpname=None, colname='Percentile Level', rownum=10, colnum=None, styles=[CellStyleText(color='#000000', font=None, size=None, align=None, v_align=None, style=None, weight=None, stretch=None, decorate=None, transform=None, whitespace=None), CellStyleFill(color='#808080')]), StyleInfo(locname=LocBody(columns='Percentile Level', rows=[11]), grpname=None, colname='Percentile Level', rownum=11, colnum=None, styles=[CellStyleText(color='#000000', font=None, size=None, align=None, v_align=None, style=None, weight=None, stretch=None, decorate=None, transform=None, whitespace=None), CellStyleFill(color='#808080')]), StyleInfo(locname=LocBody(columns='Percentile Level', rows=[12]), grpname=None, colname='Percentile Level', rownum=12, colnum=None, styles=[CellStyleText(color='#000000', font=None, size=None, align=None, v_align=None, style=None, weight=None, stretch=None, decorate=None, transform=None, whitespace=None), CellStyleFill(color='#808080')]), StyleInfo(locname=LocBody(columns='Percentile Level', rows=[13]), grpname=None, colname='Percentile Level', rownum=13, colnum=None, styles=[CellStyleText(color='#000000', font=None, size=None, align=None, v_align=None, style=None, weight=None, stretch=None, decorate=None, transform=None, whitespace=None), CellStyleFill(color='#808080')]), StyleInfo(locname=LocBody(columns='Percentile Level', rows=[14]), grpname=None, colname='Percentile Level', rownum=14, colnum=None, styles=[CellStyleText(color='#000000', font=None, size=None, align=None, v_align=None, style=None, weight=None, stretch=None, decorate=None, transform=None, whitespace=None), CellStyleFill(color='#808080')]), StyleInfo(locname=LocBody(columns='Percentile Level', rows=[15]), grpname=None, colname='Percentile Level', rownum=15, colnum=None, styles=[CellStyleText(color='#000000', font=None, size=None, align=None, v_align=None, style=None, weight=None, stretch=None, decorate=None, transform=None, whitespace=None), CellStyleFill(color='#808080')]), StyleInfo(locname=LocBody(columns='Percentile Level', rows=[16]), grpname=None, colname='Percentile Level', rownum=16, colnum=None, styles=[CellStyleText(color='#000000', font=None, size=None, align=None, v_align=None, style=None, weight=None, stretch=None, decorate=None, transform=None, whitespace=None), CellStyleFill(color='#808080')]), StyleInfo(locname=LocBody(columns='Percentile Level', rows=[17]), grpname=None, colname='Percentile Level', rownum=17, colnum=None, styles=[CellStyleText(color='#000000', font=None, size=None, align=None, v_align=None, style=None, weight=None, stretch=None, decorate=None, transform=None, whitespace=None), CellStyleFill(color='#808080')]), StyleInfo(locname=LocBody(columns='Percentile Level', rows=[18]), grpname=None, colname='Percentile Level', rownum=18, colnum=None, styles=[CellStyleText(color='#000000', font=None, size=None, align=None, v_align=None, style=None, weight=None, stretch=None, decorate=None, transform=None, whitespace=None), CellStyleFill(color='#808080')]), StyleInfo(locname=LocBody(columns='Percentile', rows=[0]), grpname=None, colname='Percentile', rownum=0, colnum=None, styles=[CellStyleText(color='#000000', font=None, size=None, align=None, v_align=None, style=None, weight=None, stretch=None, decorate=None, transform=None, whitespace=None), CellStyleFill(color='#f5f1f8')]), StyleInfo(locname=LocBody(columns='Percentile', rows=[1]), grpname=None, colname='Percentile', rownum=1, colnum=None, styles=[CellStyleText(color='#000000', font=None, size=None, align=None, v_align=None, style=None, weight=None, stretch=None, decorate=None, transform=None, whitespace=None), CellStyleFill(color='#f2eef6')]), StyleInfo(locname=LocBody(columns='Percentile', rows=[2]), grpname=None, colname='Percentile', rownum=2, colnum=None, styles=[CellStyleText(color='#000000', font=None, size=None, align=None, v_align=None, style=None, weight=None, stretch=None, decorate=None, transform=None, whitespace=None), CellStyleFill(color='#ede7f3')]), StyleInfo(locname=LocBody(columns='Percentile', rows=[3]), grpname=None, colname='Percentile', rownum=3, colnum=None, styles=[CellStyleText(color='#000000', font=None, size=None, align=None, v_align=None, style=None, weight=None, stretch=None, decorate=None, transform=None, whitespace=None), CellStyleFill(color='#e9e1f0')]), StyleInfo(locname=LocBody(columns='Percentile', rows=[4]), grpname=None, colname='Percentile', rownum=4, colnum=None, styles=[CellStyleText(color='#000000', font=None, size=None, align=None, v_align=None, style=None, weight=None, stretch=None, decorate=None, transform=None, whitespace=None), CellStyleFill(color='#e5ddee')]), StyleInfo(locname=LocBody(columns='Percentile', rows=[5]), grpname=None, colname='Percentile', rownum=5, colnum=None, styles=[CellStyleText(color='#000000', font=None, size=None, align=None, v_align=None, style=None, weight=None, stretch=None, decorate=None, transform=None, whitespace=None), CellStyleFill(color='#e2d8ec')]), StyleInfo(locname=LocBody(columns='Percentile', rows=[6]), grpname=None, colname='Percentile', rownum=6, colnum=None, styles=[CellStyleText(color='#000000', font=None, size=None, align=None, v_align=None, style=None, weight=None, stretch=None, decorate=None, transform=None, whitespace=None), CellStyleFill(color='#dcd1e8')]), StyleInfo(locname=LocBody(columns='Percentile', rows=[7]), grpname=None, colname='Percentile', rownum=7, colnum=None, styles=[CellStyleText(color='#000000', font=None, size=None, align=None, v_align=None, style=None, weight=None, stretch=None, decorate=None, transform=None, whitespace=None), CellStyleFill(color='#d9cce5')]), StyleInfo(locname=LocBody(columns='Percentile', rows=[8]), grpname=None, colname='Percentile', rownum=8, colnum=None, styles=[CellStyleText(color='#000000', font=None, size=None, align=None, v_align=None, style=None, weight=None, stretch=None, decorate=None, transform=None, whitespace=None), CellStyleFill(color='#d5c7e3')]), StyleInfo(locname=LocBody(columns='Percentile', rows=[9]), grpname=None, colname='Percentile', rownum=9, colnum=None, styles=[CellStyleText(color='#000000', font=None, size=None, align=None, v_align=None, style=None, weight=None, stretch=None, decorate=None, transform=None, whitespace=None), CellStyleFill(color='#cfbfdf')]), StyleInfo(locname=LocBody(columns='Percentile', rows=[10]), grpname=None, colname='Percentile', rownum=10, colnum=None, styles=[CellStyleText(color='#000000', font=None, size=None, align=None, v_align=None, style=None, weight=None, stretch=None, decorate=None, transform=None, whitespace=None), CellStyleFill(color='#cab9dc')]), StyleInfo(locname=LocBody(columns='Percentile', rows=[11]), grpname=None, colname='Percentile', rownum=11, colnum=None, styles=[CellStyleText(color='#000000', font=None, size=None, align=None, v_align=None, style=None, weight=None, stretch=None, decorate=None, transform=None, whitespace=None), CellStyleFill(color='#c5b1d8')]), StyleInfo(locname=LocBody(columns='Percentile', rows=[12]), grpname=None, colname='Percentile', rownum=12, colnum=None, styles=[CellStyleText(color='#000000', font=None, size=None, align=None, v_align=None, style=None, weight=None, stretch=None, decorate=None, transform=None, whitespace=None), CellStyleFill(color='#bfa9d4')]), StyleInfo(locname=LocBody(columns='Percentile', rows=[13]), grpname=None, colname='Percentile', rownum=13, colnum=None, styles=[CellStyleText(color='#000000', font=None, size=None, align=None, v_align=None, style=None, weight=None, stretch=None, decorate=None, transform=None, whitespace=None), CellStyleFill(color='#b79fcf')]), StyleInfo(locname=LocBody(columns='Percentile', rows=[14]), grpname=None, colname='Percentile', rownum=14, colnum=None, styles=[CellStyleText(color='#000000', font=None, size=None, align=None, v_align=None, style=None, weight=None, stretch=None, decorate=None, transform=None, whitespace=None), CellStyleFill(color='#b095ca')]), StyleInfo(locname=LocBody(columns='Percentile', rows=[15]), grpname=None, colname='Percentile', rownum=15, colnum=None, styles=[CellStyleText(color='#000000', font=None, size=None, align=None, v_align=None, style=None, weight=None, stretch=None, decorate=None, transform=None, whitespace=None), CellStyleFill(color='#a588c3')]), StyleInfo(locname=LocBody(columns='Percentile', rows=[16]), grpname=None, colname='Percentile', rownum=16, colnum=None, styles=[CellStyleText(color='#000000', font=None, size=None, align=None, v_align=None, style=None, weight=None, stretch=None, decorate=None, transform=None, whitespace=None), CellStyleFill(color='#9876ba')]), StyleInfo(locname=LocBody(columns='Percentile', rows=[17]), grpname=None, colname='Percentile', rownum=17, colnum=None, styles=[CellStyleText(color='#FFFFFF', font=None, size=None, align=None, v_align=None, style=None, weight=None, stretch=None, decorate=None, transform=None, whitespace=None), CellStyleFill(color='#855dae')]), StyleInfo(locname=LocBody(columns='Percentile', rows=[18]), grpname=None, colname='Percentile', rownum=18, colnum=None, styles=[CellStyleText(color='#FFFFFF', font=None, size=None, align=None, v_align=None, style=None, weight=None, stretch=None, decorate=None, transform=None, whitespace=None), CellStyleFill(color='#67349a')])], _locale=<great_tables._gt_data.Locale object at 0x000001EFEC01B0B0>, _formats=[<great_tables._gt_data.FormatInfo object at 0x000001EFEBFEFF50>], _substitutions=[], _options=Options(table_id=OptionsInfo(scss=False, category='table', type='value', value=None), table_caption=OptionsInfo(scss=False, category='table', type='value', value=None), table_width=OptionsInfo(scss=True, category='table', type='px', value='auto'), table_layout=OptionsInfo(scss=True, category='table', type='value', value='fixed'), table_margin_left=OptionsInfo(scss=True, category='table', type='px', value='auto'), table_margin_right=OptionsInfo(scss=True, category='table', type='px', value='auto'), table_background_color=OptionsInfo(scss=True, category='table', type='value', value='#FFFFFF'), table_additional_css=OptionsInfo(scss=False, category='table', type='values', value=[]), table_font_names=OptionsInfo(scss=False, category='table', type='values', value=['-apple-system', 'BlinkMacSystemFont', 'Segoe UI', 'Roboto', 'Oxygen', 'Ubuntu', 'Cantarell', 'Helvetica Neue', 'Fira Sans', 'Droid Sans', 'Arial', 'sans-serif']), table_font_size=OptionsInfo(scss=True, category='table', type='px', value='16px'), table_font_weight=OptionsInfo(scss=True, category='table', type='value', value='normal'), table_font_style=OptionsInfo(scss=True, category='table', type='value', value='normal'), table_font_color=OptionsInfo(scss=True, category='table', type='value', value='#333333'), table_font_color_light=OptionsInfo(scss=True, category='table', type='value', value='#FFFFFF'), table_border_top_include=OptionsInfo(scss=False, category='table', type='boolean', value=True), table_border_top_style=OptionsInfo(scss=True, category='table', type='value', value='solid'), table_border_top_width=OptionsInfo(scss=True, category='table', type='px', value='2px'), table_border_top_color=OptionsInfo(scss=True, category='table', type='value', value='#A8A8A8'), table_border_right_style=OptionsInfo(scss=True, category='table', type='value', value='none'), table_border_right_width=OptionsInfo(scss=True, category='table', type='px', value='2px'), table_border_right_color=OptionsInfo(scss=True, category='table', type='value', value='#D3D3D3'), table_border_bottom_include=OptionsInfo(scss=False, category='table', type='boolean', value=True), table_border_bottom_style=OptionsInfo(scss=True, category='table', type='value', value='solid'), table_border_bottom_width=OptionsInfo(scss=True, category='table', type='px', value='2px'), table_border_bottom_color=OptionsInfo(scss=True, category='table', type='value', value='#A8A8A8'), table_border_left_style=OptionsInfo(scss=True, category='table', type='value', value='none'), table_border_left_width=OptionsInfo(scss=True, category='table', type='px', value='2px'), table_border_left_color=OptionsInfo(scss=True, category='table', type='value', value='#D3D3D3'), heading_background_color=OptionsInfo(scss=True, category='heading', type='value', value=None), heading_align=OptionsInfo(scss=True, category='heading', type='value', value='center'), heading_title_font_size=OptionsInfo(scss=True, category='heading', type='px', value='125%'), heading_title_font_weight=OptionsInfo(scss=True, category='heading', type='value', value='initial'), heading_subtitle_font_size=OptionsInfo(scss=True, category='heading', type='px', value='85%'), heading_subtitle_font_weight=OptionsInfo(scss=True, category='heading', type='value', value='initial'), heading_padding=OptionsInfo(scss=True, category='heading', type='px', value='4px'), heading_padding_horizontal=OptionsInfo(scss=True, category='heading', type='px', value='5px'), heading_border_bottom_style=OptionsInfo(scss=True, category='heading', type='value', value='solid'), heading_border_bottom_width=OptionsInfo(scss=True, category='heading', type='px', value='2px'), heading_border_bottom_color=OptionsInfo(scss=True, category='heading', type='value', value='#D3D3D3'), heading_border_lr_style=OptionsInfo(scss=True, category='heading', type='value', value='none'), heading_border_lr_width=OptionsInfo(scss=True, category='heading', type='px', value='1px'), heading_border_lr_color=OptionsInfo(scss=True, category='heading', type='value', value='#D3D3D3'), column_labels_background_color=OptionsInfo(scss=True, category='column_labels', type='value', value=None), column_labels_font_size=OptionsInfo(scss=True, category='column_labels', type='px', value='100%'), column_labels_font_weight=OptionsInfo(scss=True, category='column_labels', type='value', value='normal'), column_labels_text_transform=OptionsInfo(scss=True, category='column_labels', type='value', value='inherit'), column_labels_padding=OptionsInfo(scss=True, category='column_labels', type='px', value='5px'), column_labels_padding_horizontal=OptionsInfo(scss=True, category='column_labels', type='px', value='5px'), column_labels_vlines_style=OptionsInfo(scss=True, category='table_body', type='value', value='none'), column_labels_vlines_width=OptionsInfo(scss=True, category='table_body', type='px', value='1px'), column_labels_vlines_color=OptionsInfo(scss=True, category='table_body', type='value', value='#D3D3D3'), column_labels_border_top_style=OptionsInfo(scss=True, category='column_labels', type='value', value='solid'), column_labels_border_top_width=OptionsInfo(scss=True, category='column_labels', type='px', value='2px'), column_labels_border_top_color=OptionsInfo(scss=True, category='column_labels', type='value', value='#D3D3D3'), column_labels_border_bottom_style=OptionsInfo(scss=True, category='column_labels', type='value', value='solid'), column_labels_border_bottom_width=OptionsInfo(scss=True, category='column_labels', type='px', value='2px'), column_labels_border_bottom_color=OptionsInfo(scss=True, category='column_labels', type='value', value='#D3D3D3'), column_labels_border_lr_style=OptionsInfo(scss=True, category='column_labels', type='value', value='none'), column_labels_border_lr_width=OptionsInfo(scss=True, category='column_labels', type='px', value='1px'), column_labels_border_lr_color=OptionsInfo(scss=True, category='column_labels', type='value', value='#D3D3D3'), column_labels_hidden=OptionsInfo(scss=False, category='column_labels', type='boolean', value=False), row_group_background_color=OptionsInfo(scss=True, category='row_group', type='value', value=None), row_group_font_size=OptionsInfo(scss=True, category='row_group', type='px', value='100%'), row_group_font_weight=OptionsInfo(scss=True, category='row_group', type='value', value='initial'), row_group_text_transform=OptionsInfo(scss=True, category='row_group', type='value', value='inherit'), row_group_padding=OptionsInfo(scss=True, category='row_group', type='px', value='8px'), row_group_padding_horizontal=OptionsInfo(scss=True, category='row_group', type='px', value='5px'), row_group_border_top_style=OptionsInfo(scss=True, category='row_group', type='value', value='solid'), row_group_border_top_width=OptionsInfo(scss=True, category='row_group', type='px', value='2px'), row_group_border_top_color=OptionsInfo(scss=True, category='row_group', type='value', value='#D3D3D3'), row_group_border_right_style=OptionsInfo(scss=True, category='row_group', type='value', value='none'), row_group_border_right_width=OptionsInfo(scss=True, category='row_group', type='px', value='1px'), row_group_border_right_color=OptionsInfo(scss=True, category='row_group', type='value', value='#D3D3D3'), row_group_border_bottom_style=OptionsInfo(scss=True, category='row_group', type='value', value='solid'), row_group_border_bottom_width=OptionsInfo(scss=True, category='row_group', type='px', value='2px'), row_group_border_bottom_color=OptionsInfo(scss=True, category='row_group', type='value', value='#D3D3D3'), row_group_border_left_style=OptionsInfo(scss=True, category='row_group', type='value', value='none'), row_group_border_left_width=OptionsInfo(scss=True, category='row_group', type='px', value='1px'), row_group_border_left_color=OptionsInfo(scss=True, category='row_group', type='value', value='#D3D3D3'), row_group_as_column=OptionsInfo(scss=False, category='row_group', type='boolean', value=False), table_body_hlines_style=OptionsInfo(scss=True, category='table_body', type='value', value='solid'), table_body_hlines_width=OptionsInfo(scss=True, category='table_body', type='px', value='1px'), table_body_hlines_color=OptionsInfo(scss=True, category='table_body', type='value', value='#D3D3D3'), table_body_vlines_style=OptionsInfo(scss=True, category='table_body', type='value', value='none'), table_body_vlines_width=OptionsInfo(scss=True, category='table_body', type='px', value='1px'), table_body_vlines_color=OptionsInfo(scss=True, category='table_body', type='value', value='#D3D3D3'), table_body_border_top_style=OptionsInfo(scss=True, category='table_body', type='value', value='solid'), table_body_border_top_width=OptionsInfo(scss=True, category='table_body', type='px', value='2px'), table_body_border_top_color=OptionsInfo(scss=True, category='table_body', type='value', value='#D3D3D3'), table_body_border_bottom_style=OptionsInfo(scss=True, category='table_body', type='value', value='solid'), table_body_border_bottom_width=OptionsInfo(scss=True, category='table_body', type='px', value='2px'), table_body_border_bottom_color=OptionsInfo(scss=True, category='table_body', type='value', value='#D3D3D3'), data_row_padding=OptionsInfo(scss=True, category='data_row', type='px', value='8px'), data_row_padding_horizontal=OptionsInfo(scss=True, category='data_row', type='px', value='5px'), stub_background_color=OptionsInfo(scss=True, category='stub', type='value', value=None), stub_font_size=OptionsInfo(scss=True, category='stub', type='px', value='100%'), stub_font_weight=OptionsInfo(scss=True, category='stub', type='value', value='initial'), stub_text_transform=OptionsInfo(scss=True, category='stub', type='value', value='inherit'), stub_border_style=OptionsInfo(scss=True, category='stub', type='value', value='solid'), stub_border_width=OptionsInfo(scss=True, category='stub', type='px', value='2px'), stub_border_color=OptionsInfo(scss=True, category='stub', type='value', value='#D3D3D3'), stub_row_group_background_color=OptionsInfo(scss=True, category='stub', type='value', value=None), stub_row_group_font_size=OptionsInfo(scss=True, category='stub', type='px', value='100%'), stub_row_group_font_weight=OptionsInfo(scss=True, category='stub', type='value', value='initial'), stub_row_group_text_transform=OptionsInfo(scss=True, category='stub', type='value', value='inherit'), stub_row_group_border_style=OptionsInfo(scss=True, category='stub', type='value', value='solid'), stub_row_group_border_width=OptionsInfo(scss=True, category='stub', type='px', value='2px'), stub_row_group_border_color=OptionsInfo(scss=True, category='stub', type='value', value='#D3D3D3'), source_notes_padding=OptionsInfo(scss=True, category='source_notes', type='px', value='4px'), source_notes_padding_horizontal=OptionsInfo(scss=True, category='source_notes', type='px', value='5px'), source_notes_background_color=OptionsInfo(scss=True, category='source_notes', type='value', value=None), source_notes_font_size=OptionsInfo(scss=True, category='source_notes', type='px', value='90%'), source_notes_border_bottom_style=OptionsInfo(scss=True, category='source_notes', type='value', value='none'), source_notes_border_bottom_width=OptionsInfo(scss=True, category='source_notes', type='px', value='2px'), source_notes_border_bottom_color=OptionsInfo(scss=True, category='source_notes', type='value', value='#D3D3D3'), source_notes_border_lr_style=OptionsInfo(scss=True, category='source_notes', type='value', value='none'), source_notes_border_lr_width=OptionsInfo(scss=True, category='source_notes', type='px', value='2px'), source_notes_border_lr_color=OptionsInfo(scss=True, category='source_notes', type='value', value='#D3D3D3'), source_notes_multiline=OptionsInfo(scss=False, category='source_notes', type='boolean', value=True), source_notes_sep=OptionsInfo(scss=False, category='source_notes', type='value', value=' '), row_striping_background_color=OptionsInfo(scss=True, category='row', type='value', value='rgba(128,128,128,0.05)'), row_striping_include_stub=OptionsInfo(scss=False, category='row', type='boolean', value=False), row_striping_include_table_body=OptionsInfo(scss=False, category='row', type='boolean', value=False), container_width=OptionsInfo(scss=False, category='container', type='px', value='auto'), container_height=OptionsInfo(scss=False, category='container', type='px', value='auto'), container_padding_x=OptionsInfo(scss=False, category='container', type='px', value='0px'), container_padding_y=OptionsInfo(scss=False, category='container', type='px', value='10px'), container_overflow_x=OptionsInfo(scss=False, category='container', type='overflow', value='auto'), container_overflow_y=OptionsInfo(scss=False, category='container', type='overflow', value='auto'), quarto_disable_processing=OptionsInfo(scss=False, category='quarto', type='logical', value=False), quarto_use_bootstrap=OptionsInfo(scss=False, category='quarto', type='logical', value=False)), _has_built=False)"
      ]
     },
     "execution_count": 41,
     "metadata": {},
     "output_type": "execute_result"
    }
   ],
   "source": [
    "percentiles = np.arange(5, 96, 5)\n",
    "\n",
    "percentile_values = np.percentile(category_spend.select('spend').collect(), percentiles)\n",
    "\n",
    "percentile_df = pl.DataFrame({'Percentile Level': percentiles,\n",
    "                              'Percentile': percentile_values})\n",
    "\n",
    "(\n",
    "    GT(percentile_df, rowname_col='Percentile Level')\n",
    "    .tab_header(title='Category Spend Percentile')\n",
    "    .tab_stubhead(label=\"Percentile Level\")\n",
    "    .fmt_number()\n",
    "    .data_color(\n",
    "        domain=[0, 40],\n",
    "        palette=['white', 'rebeccapurple']\n",
    "    )  \n",
    ")"
   ]
  },
  {
   "cell_type": "code",
   "execution_count": 42,
   "metadata": {},
   "outputs": [
    {
     "data": {
      "application/vnd.vegalite.v5+json": {
       "$schema": "https://vega.github.io/schema/vega-lite/v5.20.1.json",
       "config": {
        "view": {
         "continuousHeight": 300,
         "continuousWidth": 300
        }
       },
       "data": {
        "name": "data-7b0e4a74c3068ee683742fff0a89a975"
       },
       "datasets": {
        "data-7b0e4a74c3068ee683742fff0a89a975": [
         {
          "% of Total": 0.19282903366856144,
          "Frequency": 882,
          "cut": "10 - 15"
         },
         {
          "% of Total": 0.014866637516397028,
          "Frequency": 68,
          "cut": "40 - 45"
         },
         {
          "% of Total": 0.05596851770878881,
          "Frequency": 256,
          "cut": "25 - 30"
         },
         {
          "% of Total": 0.1639702667249672,
          "Frequency": 750,
          "cut": "0 - 5"
         },
         {
          "% of Total": 0.13620463489287277,
          "Frequency": 623,
          "cut": "15 - 20"
         },
         {
          "% of Total": 0.010494097070397902,
          "Frequency": 48,
          "cut": "45 - 50"
         },
         {
          "% of Total": 0.04197638828159161,
          "Frequency": 192,
          "cut": "30 - 35"
         },
         {
          "% of Total": 0.026891123742894624,
          "Frequency": 123,
          "cut": "35 - 40"
         },
         {
          "% of Total": 0.2345867949278531,
          "Frequency": 1073,
          "cut": "5 - 10"
         },
         {
          "% of Total": 0.09838216003498032,
          "Frequency": 450,
          "cut": "20 - 25"
         },
         {
          "% of Total": 0.023830345430695236,
          "Frequency": 109,
          "cut": "50 - ∞"
         }
        ]
       },
       "encoding": {
        "x": {
         "axis": {
          "labelAngle": 0,
          "title": "Category Spend ($)"
         },
         "field": "cut",
         "sort": [
          "-5 - 0",
          "0 - 5",
          "5 - 10",
          "10 - 15",
          "15 - 20",
          "20 - 25",
          "25 - 30",
          "30 - 35",
          "35 - 40",
          "40 - 45",
          "45 - 50",
          "50 - ∞"
         ],
         "type": "ordinal"
        },
        "y": {
         "axis": {
          "format": ".0%",
          "title": "% of Households"
         },
         "field": "% of Total",
         "type": "quantitative"
        }
       },
       "height": 250,
       "mark": {
        "type": "bar"
       },
       "title": {
        "subtitle": "Distribution of category spend across category buyers",
        "text": "Category Spend Distribution (%)"
       },
       "width": 650
      },
      "text/plain": [
       "<VegaLite 5 object>\n",
       "\n",
       "If you see this message, it means the renderer has not been properly enabled\n",
       "for the frontend that you are using. For more information, see\n",
       "https://altair-viz.github.io/user_guide/display_frontends.html#troubleshooting\n"
      ]
     },
     "metadata": {},
     "output_type": "display_data"
    }
   ],
   "source": [
    "labels = [f\"{lb} - {lb + 5 if lb != 50 else '∞'}\" for lb in range(-5, 55, 5)]\n",
    "chart = freq_dist_plot(\n",
    "    data=category_spend,\n",
    "    column=\"spend\",\n",
    "    bin_edges=np.arange(0, 51, 5),\n",
    "    labels=labels,\n",
    "    x_title=\"Category Spend ($)\",\n",
    "    y_title=\"% of Households\",\n",
    "    chart_title=\"Category Spend Distribution (%)\",\n",
    "    subtitle=\"Distribution of category spend across category buyers\"\n",
    ")\n",
    "chart.show()"
   ]
  },
  {
   "cell_type": "markdown",
   "metadata": {},
   "source": [
    "##### Distribution of Brand Spend"
   ]
  },
  {
   "cell_type": "code",
   "execution_count": 43,
   "metadata": {},
   "outputs": [
    {
     "data": {
      "text/html": [
       "<div><style>\n",
       ".dataframe > thead > tr,\n",
       ".dataframe > tbody > tr {\n",
       "  text-align: right;\n",
       "  white-space: pre-wrap;\n",
       "}\n",
       "</style>\n",
       "<small>shape: (9, 2)</small><table border=\"1\" class=\"dataframe\"><thead><tr><th>statistic</th><th>spend</th></tr><tr><td>str</td><td>f64</td></tr></thead><tbody><tr><td>&quot;count&quot;</td><td>2624.0</td></tr><tr><td>&quot;null_count&quot;</td><td>0.0</td></tr><tr><td>&quot;mean&quot;</td><td>12.793803</td></tr><tr><td>&quot;std&quot;</td><td>11.715616</td></tr><tr><td>&quot;min&quot;</td><td>1.57</td></tr><tr><td>&quot;25%&quot;</td><td>3.69</td></tr><tr><td>&quot;50%&quot;</td><td>9.67</td></tr><tr><td>&quot;75%&quot;</td><td>17.13</td></tr><tr><td>&quot;max&quot;</td><td>105.899999</td></tr></tbody></table></div>"
      ],
      "text/plain": [
       "shape: (9, 2)\n",
       "┌────────────┬────────────┐\n",
       "│ statistic  ┆ spend      │\n",
       "│ ---        ┆ ---        │\n",
       "│ str        ┆ f64        │\n",
       "╞════════════╪════════════╡\n",
       "│ count      ┆ 2624.0     │\n",
       "│ null_count ┆ 0.0        │\n",
       "│ mean       ┆ 12.793803  │\n",
       "│ std        ┆ 11.715616  │\n",
       "│ min        ┆ 1.57       │\n",
       "│ 25%        ┆ 3.69       │\n",
       "│ 50%        ┆ 9.67       │\n",
       "│ 75%        ┆ 17.13      │\n",
       "│ max        ┆ 105.899999 │\n",
       "└────────────┴────────────┘"
      ]
     },
     "execution_count": 43,
     "metadata": {},
     "output_type": "execute_result"
    }
   ],
   "source": [
    "alpha_spend = spend_summary('Alpha', grocery_lf, 1).drop('panel_id')\n",
    "\n",
    "alpha_spend.describe()"
   ]
  },
  {
   "cell_type": "code",
   "execution_count": 44,
   "metadata": {},
   "outputs": [
    {
     "data": {
      "text/html": [
       "<div id=\"jkzedlqcuw\" style=\"padding-left:0px;padding-right:0px;padding-top:10px;padding-bottom:10px;overflow-x:auto;overflow-y:auto;width:auto;height:auto;\">\n",
       "<style>\n",
       "#jkzedlqcuw table {\n",
       "          font-family: -apple-system, BlinkMacSystemFont, 'Segoe UI', Roboto, Oxygen, Ubuntu, Cantarell, 'Helvetica Neue', 'Fira Sans', 'Droid Sans', Arial, sans-serif;\n",
       "          -webkit-font-smoothing: antialiased;\n",
       "          -moz-osx-font-smoothing: grayscale;\n",
       "        }\n",
       "\n",
       "#jkzedlqcuw thead, tbody, tfoot, tr, td, th { border-style: none !important; }\n",
       " tr { background-color: transparent !important; }\n",
       "#jkzedlqcuw p { margin: 0 !important; padding: 0 !important; }\n",
       " #jkzedlqcuw .gt_table { display: table !important; border-collapse: collapse !important; line-height: normal !important; margin-left: auto !important; margin-right: auto !important; color: #333333 !important; font-size: 16px !important; font-weight: normal !important; font-style: normal !important; background-color: #FFFFFF !important; width: auto !important; border-top-style: solid !important; border-top-width: 2px !important; border-top-color: #A8A8A8 !important; border-right-style: none !important; border-right-width: 2px !important; border-right-color: #D3D3D3 !important; border-bottom-style: solid !important; border-bottom-width: 2px !important; border-bottom-color: #A8A8A8 !important; border-left-style: none !important; border-left-width: 2px !important; border-left-color: #D3D3D3 !important; }\n",
       " #jkzedlqcuw .gt_caption { padding-top: 4px !important; padding-bottom: 4px !important; }\n",
       " #jkzedlqcuw .gt_title { color: #333333 !important; font-size: 125% !important; font-weight: initial !important; padding-top: 4px !important; padding-bottom: 4px !important; padding-left: 5px !important; padding-right: 5px !important; border-bottom-color: #FFFFFF !important; border-bottom-width: 0 !important; }\n",
       " #jkzedlqcuw .gt_subtitle { color: #333333 !important; font-size: 85% !important; font-weight: initial !important; padding-top: 3px !important; padding-bottom: 5px !important; padding-left: 5px !important; padding-right: 5px !important; border-top-color: #FFFFFF !important; border-top-width: 0 !important; }\n",
       " #jkzedlqcuw .gt_heading { background-color: #FFFFFF !important; text-align: center !important; border-bottom-color: #FFFFFF !important; border-left-style: none !important; border-left-width: 1px !important; border-left-color: #D3D3D3 !important; border-right-style: none !important; border-right-width: 1px !important; border-right-color: #D3D3D3 !important; }\n",
       " #jkzedlqcuw .gt_bottom_border { border-bottom-style: solid !important; border-bottom-width: 2px !important; border-bottom-color: #D3D3D3 !important; }\n",
       " #jkzedlqcuw .gt_col_headings { border-top-style: solid !important; border-top-width: 2px !important; border-top-color: #D3D3D3 !important; border-bottom-style: solid !important; border-bottom-width: 2px !important; border-bottom-color: #D3D3D3 !important; border-left-style: none !important; border-left-width: 1px !important; border-left-color: #D3D3D3 !important; border-right-style: none !important; border-right-width: 1px !important; border-right-color: #D3D3D3 !important; }\n",
       " #jkzedlqcuw .gt_col_heading { color: #333333 !important; background-color: #FFFFFF !important; font-size: 100% !important; font-weight: normal !important; text-transform: inherit !important; border-left-style: none !important; border-left-width: 1px !important; border-left-color: #D3D3D3 !important; border-right-style: none !important; border-right-width: 1px !important; border-right-color: #D3D3D3 !important; vertical-align: bottom !important; padding-top: 5px !important; padding-bottom: 5px !important; padding-left: 5px !important; padding-right: 5px !important; overflow-x: hidden !important; }\n",
       " #jkzedlqcuw .gt_column_spanner_outer { color: #333333 !important; background-color: #FFFFFF !important; font-size: 100% !important; font-weight: normal !important; text-transform: inherit !important; padding-top: 0 !important; padding-bottom: 0 !important; padding-left: 4px !important; padding-right: 4px !important; }\n",
       " #jkzedlqcuw .gt_column_spanner_outer:first-child { padding-left: 0 !important; }\n",
       " #jkzedlqcuw .gt_column_spanner_outer:last-child { padding-right: 0 !important; }\n",
       " #jkzedlqcuw .gt_column_spanner { border-bottom-style: solid !important; border-bottom-width: 2px !important; border-bottom-color: #D3D3D3 !important; vertical-align: bottom !important; padding-top: 5px !important; padding-bottom: 5px !important; overflow-x: hidden !important; display: inline-block !important; width: 100% !important; }\n",
       " #jkzedlqcuw .gt_spanner_row { border-bottom-style: hidden !important; }\n",
       " #jkzedlqcuw .gt_group_heading { padding-top: 8px !important; padding-bottom: 8px !important; padding-left: 5px !important; padding-right: 5px !important; color: #333333 !important; background-color: #FFFFFF !important; font-size: 100% !important; font-weight: initial !important; text-transform: inherit !important; border-top-style: solid !important; border-top-width: 2px !important; border-top-color: #D3D3D3 !important; border-bottom-style: solid !important; border-bottom-width: 2px !important; border-bottom-color: #D3D3D3 !important; border-left-style: none !important; border-left-width: 1px !important; border-left-color: #D3D3D3 !important; border-right-style: none !important; border-right-width: 1px !important; border-right-color: #D3D3D3 !important; vertical-align: middle !important; text-align: left !important; }\n",
       " #jkzedlqcuw .gt_empty_group_heading { padding: 0.5px !important; color: #333333 !important; background-color: #FFFFFF !important; font-size: 100% !important; font-weight: initial !important; border-top-style: solid !important; border-top-width: 2px !important; border-top-color: #D3D3D3 !important; border-bottom-style: solid !important; border-bottom-width: 2px !important; border-bottom-color: #D3D3D3 !important; vertical-align: middle !important; }\n",
       " #jkzedlqcuw .gt_from_md> :first-child { margin-top: 0 !important; }\n",
       " #jkzedlqcuw .gt_from_md> :last-child { margin-bottom: 0 !important; }\n",
       " #jkzedlqcuw .gt_row { padding-top: 8px !important; padding-bottom: 8px !important; padding-left: 5px !important; padding-right: 5px !important; margin: 10px !important; border-top-style: solid !important; border-top-width: 1px !important; border-top-color: #D3D3D3 !important; border-left-style: none !important; border-left-width: 1px !important; border-left-color: #D3D3D3 !important; border-right-style: none !important; border-right-width: 1px !important; border-right-color: #D3D3D3 !important; vertical-align: middle !important; overflow-x: hidden !important; }\n",
       " #jkzedlqcuw .gt_stub { color: #333333 !important; background-color: #FFFFFF !important; font-size: 100% !important; font-weight: initial !important; text-transform: inherit !important; border-right-style: solid !important; border-right-width: 2px !important; border-right-color: #D3D3D3 !important; padding-left: 5px !important; padding-right: 5px !important; }\n",
       " #jkzedlqcuw .gt_stub_row_group { color: #333333 !important; background-color: #FFFFFF !important; font-size: 100% !important; font-weight: initial !important; text-transform: inherit !important; border-right-style: solid !important; border-right-width: 2px !important; border-right-color: #D3D3D3 !important; padding-left: 5px !important; padding-right: 5px !important; vertical-align: top !important; }\n",
       " #jkzedlqcuw .gt_row_group_first td { border-top-width: 2px !important; }\n",
       " #jkzedlqcuw .gt_row_group_first th { border-top-width: 2px !important; }\n",
       " #jkzedlqcuw .gt_striped { background-color: rgba(128,128,128,0.05) !important; }\n",
       " #jkzedlqcuw .gt_table_body { border-top-style: solid !important; border-top-width: 2px !important; border-top-color: #D3D3D3 !important; border-bottom-style: solid !important; border-bottom-width: 2px !important; border-bottom-color: #D3D3D3 !important; }\n",
       " #jkzedlqcuw .gt_sourcenotes { color: #333333 !important; background-color: #FFFFFF !important; border-bottom-style: none !important; border-bottom-width: 2px !important; border-bottom-color: #D3D3D3 !important; border-left-style: none !important; border-left-width: 2px !important; border-left-color: #D3D3D3 !important; border-right-style: none !important; border-right-width: 2px !important; border-right-color: #D3D3D3 !important; }\n",
       " #jkzedlqcuw .gt_sourcenote { font-size: 90% !important; padding-top: 4px !important; padding-bottom: 4px !important; padding-left: 5px !important; padding-right: 5px !important; text-align: left !important; }\n",
       " #jkzedlqcuw .gt_left { text-align: left !important; }\n",
       " #jkzedlqcuw .gt_center { text-align: center !important; }\n",
       " #jkzedlqcuw .gt_right { text-align: right !important; font-variant-numeric: tabular-nums !important; }\n",
       " #jkzedlqcuw .gt_font_normal { font-weight: normal !important; }\n",
       " #jkzedlqcuw .gt_font_bold { font-weight: bold !important; }\n",
       " #jkzedlqcuw .gt_font_italic { font-style: italic !important; }\n",
       " #jkzedlqcuw .gt_super { font-size: 65% !important; }\n",
       " #jkzedlqcuw .gt_footnote_marks { font-size: 75% !important; vertical-align: 0.4em !important; position: initial !important; }\n",
       " #jkzedlqcuw .gt_asterisk { font-size: 100% !important; vertical-align: 0 !important; }\n",
       " \n",
       "</style>\n",
       "<table class=\"gt_table\" data-quarto-disable-processing=\"false\" data-quarto-bootstrap=\"false\">\n",
       "<thead>\n",
       "\n",
       "  <tr class=\"gt_heading\">\n",
       "    <td colspan=\"2\" class=\"gt_heading gt_title gt_font_normal\">Alpha Spend Percentile</td>\n",
       "  </tr>\n",
       "<tr class=\"gt_col_headings\">\n",
       "  <th class=\"gt_col_heading gt_columns_bottom_border gt_left\" rowspan=\"1\" colspan=\"1\" scope=\"col\" id=\"Percentile Level\">Percentile Level</th>\n",
       "  <th class=\"gt_col_heading gt_columns_bottom_border gt_right\" rowspan=\"1\" colspan=\"1\" scope=\"col\" id=\"Percentile\">Percentile</th>\n",
       "</tr>\n",
       "</thead>\n",
       "<tbody class=\"gt_table_body\">\n",
       "  <tr>\n",
       "    <th style=\"color: #000000; background-color: #ece6f2;\" class=\"gt_row gt_left gt_stub\">5</th>\n",
       "    <td style=\"color: #000000; background-color: #f6f2f9;\" class=\"gt_row gt_right\">2.45</td>\n",
       "  </tr>\n",
       "  <tr>\n",
       "    <th style=\"color: #000000; background-color: #d9cce6;\" class=\"gt_row gt_left gt_stub\">10</th>\n",
       "    <td style=\"color: #000000; background-color: #f4f1f8;\" class=\"gt_row gt_right\">2.79</td>\n",
       "  </tr>\n",
       "  <tr>\n",
       "    <th style=\"color: #000000; background-color: #c6b2d9;\" class=\"gt_row gt_left gt_stub\">15</th>\n",
       "    <td style=\"color: #000000; background-color: #f2eef6;\" class=\"gt_row gt_right\">3.38</td>\n",
       "  </tr>\n",
       "  <tr>\n",
       "    <th style=\"color: #000000; background-color: #b299cc;\" class=\"gt_row gt_left gt_stub\">20</th>\n",
       "    <td style=\"color: #000000; background-color: #f2edf6;\" class=\"gt_row gt_right\">3.49</td>\n",
       "  </tr>\n",
       "  <tr>\n",
       "    <th style=\"color: #000000; background-color: #9f80bf;\" class=\"gt_row gt_left gt_stub\">25</th>\n",
       "    <td style=\"color: #000000; background-color: #f1ecf6;\" class=\"gt_row gt_right\">3.69</td>\n",
       "  </tr>\n",
       "  <tr>\n",
       "    <th style=\"color: #000000; background-color: #8c66b2;\" class=\"gt_row gt_left gt_stub\">30</th>\n",
       "    <td style=\"color: #000000; background-color: #eae3f1;\" class=\"gt_row gt_right\">5.48</td>\n",
       "  </tr>\n",
       "  <tr>\n",
       "    <th style=\"color: #FFFFFF; background-color: #794ca6;\" class=\"gt_row gt_left gt_stub\">35</th>\n",
       "    <td style=\"color: #000000; background-color: #e6ddee;\" class=\"gt_row gt_right\">6.58</td>\n",
       "  </tr>\n",
       "  <tr>\n",
       "    <th style=\"color: #FFFFFF; background-color: #663399;\" class=\"gt_row gt_left gt_stub\">40</th>\n",
       "    <td style=\"color: #000000; background-color: #e5dced;\" class=\"gt_row gt_right\">6.88</td>\n",
       "  </tr>\n",
       "  <tr>\n",
       "    <th style=\"color: #000000; background-color: #808080;\" class=\"gt_row gt_left gt_stub\">45</th>\n",
       "    <td style=\"color: #000000; background-color: #e2d8eb;\" class=\"gt_row gt_right\">7.67</td>\n",
       "  </tr>\n",
       "  <tr>\n",
       "    <th style=\"color: #000000; background-color: #808080;\" class=\"gt_row gt_left gt_stub\">50</th>\n",
       "    <td style=\"color: #000000; background-color: #dacee6;\" class=\"gt_row gt_right\">9.67</td>\n",
       "  </tr>\n",
       "  <tr>\n",
       "    <th style=\"color: #000000; background-color: #808080;\" class=\"gt_row gt_left gt_stub\">55</th>\n",
       "    <td style=\"color: #000000; background-color: #d8cbe5;\" class=\"gt_row gt_right\">10.27</td>\n",
       "  </tr>\n",
       "  <tr>\n",
       "    <th style=\"color: #000000; background-color: #808080;\" class=\"gt_row gt_left gt_stub\">60</th>\n",
       "    <td style=\"color: #000000; background-color: #d4c6e2;\" class=\"gt_row gt_right\">11.26</td>\n",
       "  </tr>\n",
       "  <tr>\n",
       "    <th style=\"color: #000000; background-color: #808080;\" class=\"gt_row gt_left gt_stub\">65</th>\n",
       "    <td style=\"color: #000000; background-color: #ccbadd;\" class=\"gt_row gt_right\">13.46</td>\n",
       "  </tr>\n",
       "  <tr>\n",
       "    <th style=\"color: #000000; background-color: #808080;\" class=\"gt_row gt_left gt_stub\">70</th>\n",
       "    <td style=\"color: #000000; background-color: #c6b3d9;\" class=\"gt_row gt_right\">14.86</td>\n",
       "  </tr>\n",
       "  <tr>\n",
       "    <th style=\"color: #000000; background-color: #808080;\" class=\"gt_row gt_left gt_stub\">75</th>\n",
       "    <td style=\"color: #000000; background-color: #bda8d3;\" class=\"gt_row gt_right\">17.13</td>\n",
       "  </tr>\n",
       "  <tr>\n",
       "    <th style=\"color: #000000; background-color: #808080;\" class=\"gt_row gt_left gt_stub\">80</th>\n",
       "    <td style=\"color: #000000; background-color: #b299cc;\" class=\"gt_row gt_right\">20.04</td>\n",
       "  </tr>\n",
       "  <tr>\n",
       "    <th style=\"color: #000000; background-color: #808080;\" class=\"gt_row gt_left gt_stub\">85</th>\n",
       "    <td style=\"color: #000000; background-color: #a789c4;\" class=\"gt_row gt_right\">23.14</td>\n",
       "  </tr>\n",
       "  <tr>\n",
       "    <th style=\"color: #000000; background-color: #808080;\" class=\"gt_row gt_left gt_stub\">90</th>\n",
       "    <td style=\"color: #000000; background-color: #9572b9;\" class=\"gt_row gt_right\">27.62</td>\n",
       "  </tr>\n",
       "  <tr>\n",
       "    <th style=\"color: #000000; background-color: #808080;\" class=\"gt_row gt_left gt_stub\">95</th>\n",
       "    <td style=\"color: #FFFFFF; background-color: #774aa5;\" class=\"gt_row gt_right\">35.49</td>\n",
       "  </tr>\n",
       "</tbody>\n",
       "\n",
       "\n",
       "</table>\n",
       "\n",
       "</div>\n",
       "        "
      ],
      "text/plain": [
       "GT(_tbl_data=shape: (19, 2)\n",
       "┌──────────────────┬────────────┐\n",
       "│ Percentile Level ┆ Percentile │\n",
       "│ ---              ┆ ---        │\n",
       "│ i32              ┆ f64        │\n",
       "╞══════════════════╪════════════╡\n",
       "│ 5                ┆ 2.453      │\n",
       "│ 10               ┆ 2.79       │\n",
       "│ 15               ┆ 3.38       │\n",
       "│ 20               ┆ 3.49       │\n",
       "│ 25               ┆ 3.69       │\n",
       "│ …                ┆ …          │\n",
       "│ 75               ┆ 17.13      │\n",
       "│ 80               ┆ 20.04      │\n",
       "│ 85               ┆ 23.1355    │\n",
       "│ 90               ┆ 27.620001  │\n",
       "│ 95               ┆ 35.485     │\n",
       "└──────────────────┴────────────┘, _body=<great_tables._gt_data.Body object at 0x000001EFEC028F80>, _boxhead=Boxhead([ColInfo(var='Percentile Level', type=<ColInfoTypeEnum.stub: 2>, column_label='Percentile Level', column_align='right', column_width=None), ColInfo(var='Percentile', type=<ColInfoTypeEnum.default: 1>, column_label='Percentile', column_align='right', column_width=None)]), _stub=<great_tables._gt_data.Stub object at 0x000001EFEBFEF6B0>, _spanners=Spanners([]), _heading=Heading(title='Alpha Spend Percentile', subtitle=None, preheader=None), _stubhead='Percentile Level', _source_notes=[], _footnotes=[], _styles=[StyleInfo(locname=LocBody(columns='Percentile Level', rows=[0]), grpname=None, colname='Percentile Level', rownum=0, colnum=None, styles=[CellStyleText(color='#000000', font=None, size=None, align=None, v_align=None, style=None, weight=None, stretch=None, decorate=None, transform=None, whitespace=None), CellStyleFill(color='#ece6f2')]), StyleInfo(locname=LocBody(columns='Percentile Level', rows=[1]), grpname=None, colname='Percentile Level', rownum=1, colnum=None, styles=[CellStyleText(color='#000000', font=None, size=None, align=None, v_align=None, style=None, weight=None, stretch=None, decorate=None, transform=None, whitespace=None), CellStyleFill(color='#d9cce6')]), StyleInfo(locname=LocBody(columns='Percentile Level', rows=[2]), grpname=None, colname='Percentile Level', rownum=2, colnum=None, styles=[CellStyleText(color='#000000', font=None, size=None, align=None, v_align=None, style=None, weight=None, stretch=None, decorate=None, transform=None, whitespace=None), CellStyleFill(color='#c6b2d9')]), StyleInfo(locname=LocBody(columns='Percentile Level', rows=[3]), grpname=None, colname='Percentile Level', rownum=3, colnum=None, styles=[CellStyleText(color='#000000', font=None, size=None, align=None, v_align=None, style=None, weight=None, stretch=None, decorate=None, transform=None, whitespace=None), CellStyleFill(color='#b299cc')]), StyleInfo(locname=LocBody(columns='Percentile Level', rows=[4]), grpname=None, colname='Percentile Level', rownum=4, colnum=None, styles=[CellStyleText(color='#000000', font=None, size=None, align=None, v_align=None, style=None, weight=None, stretch=None, decorate=None, transform=None, whitespace=None), CellStyleFill(color='#9f80bf')]), StyleInfo(locname=LocBody(columns='Percentile Level', rows=[5]), grpname=None, colname='Percentile Level', rownum=5, colnum=None, styles=[CellStyleText(color='#000000', font=None, size=None, align=None, v_align=None, style=None, weight=None, stretch=None, decorate=None, transform=None, whitespace=None), CellStyleFill(color='#8c66b2')]), StyleInfo(locname=LocBody(columns='Percentile Level', rows=[6]), grpname=None, colname='Percentile Level', rownum=6, colnum=None, styles=[CellStyleText(color='#FFFFFF', font=None, size=None, align=None, v_align=None, style=None, weight=None, stretch=None, decorate=None, transform=None, whitespace=None), CellStyleFill(color='#794ca6')]), StyleInfo(locname=LocBody(columns='Percentile Level', rows=[7]), grpname=None, colname='Percentile Level', rownum=7, colnum=None, styles=[CellStyleText(color='#FFFFFF', font=None, size=None, align=None, v_align=None, style=None, weight=None, stretch=None, decorate=None, transform=None, whitespace=None), CellStyleFill(color='#663399')]), StyleInfo(locname=LocBody(columns='Percentile Level', rows=[8]), grpname=None, colname='Percentile Level', rownum=8, colnum=None, styles=[CellStyleText(color='#000000', font=None, size=None, align=None, v_align=None, style=None, weight=None, stretch=None, decorate=None, transform=None, whitespace=None), CellStyleFill(color='#808080')]), StyleInfo(locname=LocBody(columns='Percentile Level', rows=[9]), grpname=None, colname='Percentile Level', rownum=9, colnum=None, styles=[CellStyleText(color='#000000', font=None, size=None, align=None, v_align=None, style=None, weight=None, stretch=None, decorate=None, transform=None, whitespace=None), CellStyleFill(color='#808080')]), StyleInfo(locname=LocBody(columns='Percentile Level', rows=[10]), grpname=None, colname='Percentile Level', rownum=10, colnum=None, styles=[CellStyleText(color='#000000', font=None, size=None, align=None, v_align=None, style=None, weight=None, stretch=None, decorate=None, transform=None, whitespace=None), CellStyleFill(color='#808080')]), StyleInfo(locname=LocBody(columns='Percentile Level', rows=[11]), grpname=None, colname='Percentile Level', rownum=11, colnum=None, styles=[CellStyleText(color='#000000', font=None, size=None, align=None, v_align=None, style=None, weight=None, stretch=None, decorate=None, transform=None, whitespace=None), CellStyleFill(color='#808080')]), StyleInfo(locname=LocBody(columns='Percentile Level', rows=[12]), grpname=None, colname='Percentile Level', rownum=12, colnum=None, styles=[CellStyleText(color='#000000', font=None, size=None, align=None, v_align=None, style=None, weight=None, stretch=None, decorate=None, transform=None, whitespace=None), CellStyleFill(color='#808080')]), StyleInfo(locname=LocBody(columns='Percentile Level', rows=[13]), grpname=None, colname='Percentile Level', rownum=13, colnum=None, styles=[CellStyleText(color='#000000', font=None, size=None, align=None, v_align=None, style=None, weight=None, stretch=None, decorate=None, transform=None, whitespace=None), CellStyleFill(color='#808080')]), StyleInfo(locname=LocBody(columns='Percentile Level', rows=[14]), grpname=None, colname='Percentile Level', rownum=14, colnum=None, styles=[CellStyleText(color='#000000', font=None, size=None, align=None, v_align=None, style=None, weight=None, stretch=None, decorate=None, transform=None, whitespace=None), CellStyleFill(color='#808080')]), StyleInfo(locname=LocBody(columns='Percentile Level', rows=[15]), grpname=None, colname='Percentile Level', rownum=15, colnum=None, styles=[CellStyleText(color='#000000', font=None, size=None, align=None, v_align=None, style=None, weight=None, stretch=None, decorate=None, transform=None, whitespace=None), CellStyleFill(color='#808080')]), StyleInfo(locname=LocBody(columns='Percentile Level', rows=[16]), grpname=None, colname='Percentile Level', rownum=16, colnum=None, styles=[CellStyleText(color='#000000', font=None, size=None, align=None, v_align=None, style=None, weight=None, stretch=None, decorate=None, transform=None, whitespace=None), CellStyleFill(color='#808080')]), StyleInfo(locname=LocBody(columns='Percentile Level', rows=[17]), grpname=None, colname='Percentile Level', rownum=17, colnum=None, styles=[CellStyleText(color='#000000', font=None, size=None, align=None, v_align=None, style=None, weight=None, stretch=None, decorate=None, transform=None, whitespace=None), CellStyleFill(color='#808080')]), StyleInfo(locname=LocBody(columns='Percentile Level', rows=[18]), grpname=None, colname='Percentile Level', rownum=18, colnum=None, styles=[CellStyleText(color='#000000', font=None, size=None, align=None, v_align=None, style=None, weight=None, stretch=None, decorate=None, transform=None, whitespace=None), CellStyleFill(color='#808080')]), StyleInfo(locname=LocBody(columns='Percentile', rows=[0]), grpname=None, colname='Percentile', rownum=0, colnum=None, styles=[CellStyleText(color='#000000', font=None, size=None, align=None, v_align=None, style=None, weight=None, stretch=None, decorate=None, transform=None, whitespace=None), CellStyleFill(color='#f6f2f9')]), StyleInfo(locname=LocBody(columns='Percentile', rows=[1]), grpname=None, colname='Percentile', rownum=1, colnum=None, styles=[CellStyleText(color='#000000', font=None, size=None, align=None, v_align=None, style=None, weight=None, stretch=None, decorate=None, transform=None, whitespace=None), CellStyleFill(color='#f4f1f8')]), StyleInfo(locname=LocBody(columns='Percentile', rows=[2]), grpname=None, colname='Percentile', rownum=2, colnum=None, styles=[CellStyleText(color='#000000', font=None, size=None, align=None, v_align=None, style=None, weight=None, stretch=None, decorate=None, transform=None, whitespace=None), CellStyleFill(color='#f2eef6')]), StyleInfo(locname=LocBody(columns='Percentile', rows=[3]), grpname=None, colname='Percentile', rownum=3, colnum=None, styles=[CellStyleText(color='#000000', font=None, size=None, align=None, v_align=None, style=None, weight=None, stretch=None, decorate=None, transform=None, whitespace=None), CellStyleFill(color='#f2edf6')]), StyleInfo(locname=LocBody(columns='Percentile', rows=[4]), grpname=None, colname='Percentile', rownum=4, colnum=None, styles=[CellStyleText(color='#000000', font=None, size=None, align=None, v_align=None, style=None, weight=None, stretch=None, decorate=None, transform=None, whitespace=None), CellStyleFill(color='#f1ecf6')]), StyleInfo(locname=LocBody(columns='Percentile', rows=[5]), grpname=None, colname='Percentile', rownum=5, colnum=None, styles=[CellStyleText(color='#000000', font=None, size=None, align=None, v_align=None, style=None, weight=None, stretch=None, decorate=None, transform=None, whitespace=None), CellStyleFill(color='#eae3f1')]), StyleInfo(locname=LocBody(columns='Percentile', rows=[6]), grpname=None, colname='Percentile', rownum=6, colnum=None, styles=[CellStyleText(color='#000000', font=None, size=None, align=None, v_align=None, style=None, weight=None, stretch=None, decorate=None, transform=None, whitespace=None), CellStyleFill(color='#e6ddee')]), StyleInfo(locname=LocBody(columns='Percentile', rows=[7]), grpname=None, colname='Percentile', rownum=7, colnum=None, styles=[CellStyleText(color='#000000', font=None, size=None, align=None, v_align=None, style=None, weight=None, stretch=None, decorate=None, transform=None, whitespace=None), CellStyleFill(color='#e5dced')]), StyleInfo(locname=LocBody(columns='Percentile', rows=[8]), grpname=None, colname='Percentile', rownum=8, colnum=None, styles=[CellStyleText(color='#000000', font=None, size=None, align=None, v_align=None, style=None, weight=None, stretch=None, decorate=None, transform=None, whitespace=None), CellStyleFill(color='#e2d8eb')]), StyleInfo(locname=LocBody(columns='Percentile', rows=[9]), grpname=None, colname='Percentile', rownum=9, colnum=None, styles=[CellStyleText(color='#000000', font=None, size=None, align=None, v_align=None, style=None, weight=None, stretch=None, decorate=None, transform=None, whitespace=None), CellStyleFill(color='#dacee6')]), StyleInfo(locname=LocBody(columns='Percentile', rows=[10]), grpname=None, colname='Percentile', rownum=10, colnum=None, styles=[CellStyleText(color='#000000', font=None, size=None, align=None, v_align=None, style=None, weight=None, stretch=None, decorate=None, transform=None, whitespace=None), CellStyleFill(color='#d8cbe5')]), StyleInfo(locname=LocBody(columns='Percentile', rows=[11]), grpname=None, colname='Percentile', rownum=11, colnum=None, styles=[CellStyleText(color='#000000', font=None, size=None, align=None, v_align=None, style=None, weight=None, stretch=None, decorate=None, transform=None, whitespace=None), CellStyleFill(color='#d4c6e2')]), StyleInfo(locname=LocBody(columns='Percentile', rows=[12]), grpname=None, colname='Percentile', rownum=12, colnum=None, styles=[CellStyleText(color='#000000', font=None, size=None, align=None, v_align=None, style=None, weight=None, stretch=None, decorate=None, transform=None, whitespace=None), CellStyleFill(color='#ccbadd')]), StyleInfo(locname=LocBody(columns='Percentile', rows=[13]), grpname=None, colname='Percentile', rownum=13, colnum=None, styles=[CellStyleText(color='#000000', font=None, size=None, align=None, v_align=None, style=None, weight=None, stretch=None, decorate=None, transform=None, whitespace=None), CellStyleFill(color='#c6b3d9')]), StyleInfo(locname=LocBody(columns='Percentile', rows=[14]), grpname=None, colname='Percentile', rownum=14, colnum=None, styles=[CellStyleText(color='#000000', font=None, size=None, align=None, v_align=None, style=None, weight=None, stretch=None, decorate=None, transform=None, whitespace=None), CellStyleFill(color='#bda8d3')]), StyleInfo(locname=LocBody(columns='Percentile', rows=[15]), grpname=None, colname='Percentile', rownum=15, colnum=None, styles=[CellStyleText(color='#000000', font=None, size=None, align=None, v_align=None, style=None, weight=None, stretch=None, decorate=None, transform=None, whitespace=None), CellStyleFill(color='#b299cc')]), StyleInfo(locname=LocBody(columns='Percentile', rows=[16]), grpname=None, colname='Percentile', rownum=16, colnum=None, styles=[CellStyleText(color='#000000', font=None, size=None, align=None, v_align=None, style=None, weight=None, stretch=None, decorate=None, transform=None, whitespace=None), CellStyleFill(color='#a789c4')]), StyleInfo(locname=LocBody(columns='Percentile', rows=[17]), grpname=None, colname='Percentile', rownum=17, colnum=None, styles=[CellStyleText(color='#000000', font=None, size=None, align=None, v_align=None, style=None, weight=None, stretch=None, decorate=None, transform=None, whitespace=None), CellStyleFill(color='#9572b9')]), StyleInfo(locname=LocBody(columns='Percentile', rows=[18]), grpname=None, colname='Percentile', rownum=18, colnum=None, styles=[CellStyleText(color='#FFFFFF', font=None, size=None, align=None, v_align=None, style=None, weight=None, stretch=None, decorate=None, transform=None, whitespace=None), CellStyleFill(color='#774aa5')])], _locale=<great_tables._gt_data.Locale object at 0x000001EFEC028800>, _formats=[<great_tables._gt_data.FormatInfo object at 0x000001EFEC028DD0>], _substitutions=[], _options=Options(table_id=OptionsInfo(scss=False, category='table', type='value', value=None), table_caption=OptionsInfo(scss=False, category='table', type='value', value=None), table_width=OptionsInfo(scss=True, category='table', type='px', value='auto'), table_layout=OptionsInfo(scss=True, category='table', type='value', value='fixed'), table_margin_left=OptionsInfo(scss=True, category='table', type='px', value='auto'), table_margin_right=OptionsInfo(scss=True, category='table', type='px', value='auto'), table_background_color=OptionsInfo(scss=True, category='table', type='value', value='#FFFFFF'), table_additional_css=OptionsInfo(scss=False, category='table', type='values', value=[]), table_font_names=OptionsInfo(scss=False, category='table', type='values', value=['-apple-system', 'BlinkMacSystemFont', 'Segoe UI', 'Roboto', 'Oxygen', 'Ubuntu', 'Cantarell', 'Helvetica Neue', 'Fira Sans', 'Droid Sans', 'Arial', 'sans-serif']), table_font_size=OptionsInfo(scss=True, category='table', type='px', value='16px'), table_font_weight=OptionsInfo(scss=True, category='table', type='value', value='normal'), table_font_style=OptionsInfo(scss=True, category='table', type='value', value='normal'), table_font_color=OptionsInfo(scss=True, category='table', type='value', value='#333333'), table_font_color_light=OptionsInfo(scss=True, category='table', type='value', value='#FFFFFF'), table_border_top_include=OptionsInfo(scss=False, category='table', type='boolean', value=True), table_border_top_style=OptionsInfo(scss=True, category='table', type='value', value='solid'), table_border_top_width=OptionsInfo(scss=True, category='table', type='px', value='2px'), table_border_top_color=OptionsInfo(scss=True, category='table', type='value', value='#A8A8A8'), table_border_right_style=OptionsInfo(scss=True, category='table', type='value', value='none'), table_border_right_width=OptionsInfo(scss=True, category='table', type='px', value='2px'), table_border_right_color=OptionsInfo(scss=True, category='table', type='value', value='#D3D3D3'), table_border_bottom_include=OptionsInfo(scss=False, category='table', type='boolean', value=True), table_border_bottom_style=OptionsInfo(scss=True, category='table', type='value', value='solid'), table_border_bottom_width=OptionsInfo(scss=True, category='table', type='px', value='2px'), table_border_bottom_color=OptionsInfo(scss=True, category='table', type='value', value='#A8A8A8'), table_border_left_style=OptionsInfo(scss=True, category='table', type='value', value='none'), table_border_left_width=OptionsInfo(scss=True, category='table', type='px', value='2px'), table_border_left_color=OptionsInfo(scss=True, category='table', type='value', value='#D3D3D3'), heading_background_color=OptionsInfo(scss=True, category='heading', type='value', value=None), heading_align=OptionsInfo(scss=True, category='heading', type='value', value='center'), heading_title_font_size=OptionsInfo(scss=True, category='heading', type='px', value='125%'), heading_title_font_weight=OptionsInfo(scss=True, category='heading', type='value', value='initial'), heading_subtitle_font_size=OptionsInfo(scss=True, category='heading', type='px', value='85%'), heading_subtitle_font_weight=OptionsInfo(scss=True, category='heading', type='value', value='initial'), heading_padding=OptionsInfo(scss=True, category='heading', type='px', value='4px'), heading_padding_horizontal=OptionsInfo(scss=True, category='heading', type='px', value='5px'), heading_border_bottom_style=OptionsInfo(scss=True, category='heading', type='value', value='solid'), heading_border_bottom_width=OptionsInfo(scss=True, category='heading', type='px', value='2px'), heading_border_bottom_color=OptionsInfo(scss=True, category='heading', type='value', value='#D3D3D3'), heading_border_lr_style=OptionsInfo(scss=True, category='heading', type='value', value='none'), heading_border_lr_width=OptionsInfo(scss=True, category='heading', type='px', value='1px'), heading_border_lr_color=OptionsInfo(scss=True, category='heading', type='value', value='#D3D3D3'), column_labels_background_color=OptionsInfo(scss=True, category='column_labels', type='value', value=None), column_labels_font_size=OptionsInfo(scss=True, category='column_labels', type='px', value='100%'), column_labels_font_weight=OptionsInfo(scss=True, category='column_labels', type='value', value='normal'), column_labels_text_transform=OptionsInfo(scss=True, category='column_labels', type='value', value='inherit'), column_labels_padding=OptionsInfo(scss=True, category='column_labels', type='px', value='5px'), column_labels_padding_horizontal=OptionsInfo(scss=True, category='column_labels', type='px', value='5px'), column_labels_vlines_style=OptionsInfo(scss=True, category='table_body', type='value', value='none'), column_labels_vlines_width=OptionsInfo(scss=True, category='table_body', type='px', value='1px'), column_labels_vlines_color=OptionsInfo(scss=True, category='table_body', type='value', value='#D3D3D3'), column_labels_border_top_style=OptionsInfo(scss=True, category='column_labels', type='value', value='solid'), column_labels_border_top_width=OptionsInfo(scss=True, category='column_labels', type='px', value='2px'), column_labels_border_top_color=OptionsInfo(scss=True, category='column_labels', type='value', value='#D3D3D3'), column_labels_border_bottom_style=OptionsInfo(scss=True, category='column_labels', type='value', value='solid'), column_labels_border_bottom_width=OptionsInfo(scss=True, category='column_labels', type='px', value='2px'), column_labels_border_bottom_color=OptionsInfo(scss=True, category='column_labels', type='value', value='#D3D3D3'), column_labels_border_lr_style=OptionsInfo(scss=True, category='column_labels', type='value', value='none'), column_labels_border_lr_width=OptionsInfo(scss=True, category='column_labels', type='px', value='1px'), column_labels_border_lr_color=OptionsInfo(scss=True, category='column_labels', type='value', value='#D3D3D3'), column_labels_hidden=OptionsInfo(scss=False, category='column_labels', type='boolean', value=False), row_group_background_color=OptionsInfo(scss=True, category='row_group', type='value', value=None), row_group_font_size=OptionsInfo(scss=True, category='row_group', type='px', value='100%'), row_group_font_weight=OptionsInfo(scss=True, category='row_group', type='value', value='initial'), row_group_text_transform=OptionsInfo(scss=True, category='row_group', type='value', value='inherit'), row_group_padding=OptionsInfo(scss=True, category='row_group', type='px', value='8px'), row_group_padding_horizontal=OptionsInfo(scss=True, category='row_group', type='px', value='5px'), row_group_border_top_style=OptionsInfo(scss=True, category='row_group', type='value', value='solid'), row_group_border_top_width=OptionsInfo(scss=True, category='row_group', type='px', value='2px'), row_group_border_top_color=OptionsInfo(scss=True, category='row_group', type='value', value='#D3D3D3'), row_group_border_right_style=OptionsInfo(scss=True, category='row_group', type='value', value='none'), row_group_border_right_width=OptionsInfo(scss=True, category='row_group', type='px', value='1px'), row_group_border_right_color=OptionsInfo(scss=True, category='row_group', type='value', value='#D3D3D3'), row_group_border_bottom_style=OptionsInfo(scss=True, category='row_group', type='value', value='solid'), row_group_border_bottom_width=OptionsInfo(scss=True, category='row_group', type='px', value='2px'), row_group_border_bottom_color=OptionsInfo(scss=True, category='row_group', type='value', value='#D3D3D3'), row_group_border_left_style=OptionsInfo(scss=True, category='row_group', type='value', value='none'), row_group_border_left_width=OptionsInfo(scss=True, category='row_group', type='px', value='1px'), row_group_border_left_color=OptionsInfo(scss=True, category='row_group', type='value', value='#D3D3D3'), row_group_as_column=OptionsInfo(scss=False, category='row_group', type='boolean', value=False), table_body_hlines_style=OptionsInfo(scss=True, category='table_body', type='value', value='solid'), table_body_hlines_width=OptionsInfo(scss=True, category='table_body', type='px', value='1px'), table_body_hlines_color=OptionsInfo(scss=True, category='table_body', type='value', value='#D3D3D3'), table_body_vlines_style=OptionsInfo(scss=True, category='table_body', type='value', value='none'), table_body_vlines_width=OptionsInfo(scss=True, category='table_body', type='px', value='1px'), table_body_vlines_color=OptionsInfo(scss=True, category='table_body', type='value', value='#D3D3D3'), table_body_border_top_style=OptionsInfo(scss=True, category='table_body', type='value', value='solid'), table_body_border_top_width=OptionsInfo(scss=True, category='table_body', type='px', value='2px'), table_body_border_top_color=OptionsInfo(scss=True, category='table_body', type='value', value='#D3D3D3'), table_body_border_bottom_style=OptionsInfo(scss=True, category='table_body', type='value', value='solid'), table_body_border_bottom_width=OptionsInfo(scss=True, category='table_body', type='px', value='2px'), table_body_border_bottom_color=OptionsInfo(scss=True, category='table_body', type='value', value='#D3D3D3'), data_row_padding=OptionsInfo(scss=True, category='data_row', type='px', value='8px'), data_row_padding_horizontal=OptionsInfo(scss=True, category='data_row', type='px', value='5px'), stub_background_color=OptionsInfo(scss=True, category='stub', type='value', value=None), stub_font_size=OptionsInfo(scss=True, category='stub', type='px', value='100%'), stub_font_weight=OptionsInfo(scss=True, category='stub', type='value', value='initial'), stub_text_transform=OptionsInfo(scss=True, category='stub', type='value', value='inherit'), stub_border_style=OptionsInfo(scss=True, category='stub', type='value', value='solid'), stub_border_width=OptionsInfo(scss=True, category='stub', type='px', value='2px'), stub_border_color=OptionsInfo(scss=True, category='stub', type='value', value='#D3D3D3'), stub_row_group_background_color=OptionsInfo(scss=True, category='stub', type='value', value=None), stub_row_group_font_size=OptionsInfo(scss=True, category='stub', type='px', value='100%'), stub_row_group_font_weight=OptionsInfo(scss=True, category='stub', type='value', value='initial'), stub_row_group_text_transform=OptionsInfo(scss=True, category='stub', type='value', value='inherit'), stub_row_group_border_style=OptionsInfo(scss=True, category='stub', type='value', value='solid'), stub_row_group_border_width=OptionsInfo(scss=True, category='stub', type='px', value='2px'), stub_row_group_border_color=OptionsInfo(scss=True, category='stub', type='value', value='#D3D3D3'), source_notes_padding=OptionsInfo(scss=True, category='source_notes', type='px', value='4px'), source_notes_padding_horizontal=OptionsInfo(scss=True, category='source_notes', type='px', value='5px'), source_notes_background_color=OptionsInfo(scss=True, category='source_notes', type='value', value=None), source_notes_font_size=OptionsInfo(scss=True, category='source_notes', type='px', value='90%'), source_notes_border_bottom_style=OptionsInfo(scss=True, category='source_notes', type='value', value='none'), source_notes_border_bottom_width=OptionsInfo(scss=True, category='source_notes', type='px', value='2px'), source_notes_border_bottom_color=OptionsInfo(scss=True, category='source_notes', type='value', value='#D3D3D3'), source_notes_border_lr_style=OptionsInfo(scss=True, category='source_notes', type='value', value='none'), source_notes_border_lr_width=OptionsInfo(scss=True, category='source_notes', type='px', value='2px'), source_notes_border_lr_color=OptionsInfo(scss=True, category='source_notes', type='value', value='#D3D3D3'), source_notes_multiline=OptionsInfo(scss=False, category='source_notes', type='boolean', value=True), source_notes_sep=OptionsInfo(scss=False, category='source_notes', type='value', value=' '), row_striping_background_color=OptionsInfo(scss=True, category='row', type='value', value='rgba(128,128,128,0.05)'), row_striping_include_stub=OptionsInfo(scss=False, category='row', type='boolean', value=False), row_striping_include_table_body=OptionsInfo(scss=False, category='row', type='boolean', value=False), container_width=OptionsInfo(scss=False, category='container', type='px', value='auto'), container_height=OptionsInfo(scss=False, category='container', type='px', value='auto'), container_padding_x=OptionsInfo(scss=False, category='container', type='px', value='0px'), container_padding_y=OptionsInfo(scss=False, category='container', type='px', value='10px'), container_overflow_x=OptionsInfo(scss=False, category='container', type='overflow', value='auto'), container_overflow_y=OptionsInfo(scss=False, category='container', type='overflow', value='auto'), quarto_disable_processing=OptionsInfo(scss=False, category='quarto', type='logical', value=False), quarto_use_bootstrap=OptionsInfo(scss=False, category='quarto', type='logical', value=False)), _has_built=False)"
      ]
     },
     "execution_count": 44,
     "metadata": {},
     "output_type": "execute_result"
    }
   ],
   "source": [
    "percentiles = np.arange(5, 96, 5)\n",
    "\n",
    "percentile_values = np.percentile(alpha_spend.select('spend').collect(), percentiles)\n",
    "\n",
    "percentile_df = pl.DataFrame({'Percentile Level': percentiles,\n",
    "                              'Percentile': percentile_values})\n",
    "\n",
    "(\n",
    "    GT(percentile_df, rowname_col='Percentile Level')\n",
    "    .tab_header(title='Alpha Spend Percentile')\n",
    "    .tab_stubhead(label=\"Percentile Level\")\n",
    "    .fmt_number()\n",
    "    .data_color(\n",
    "        domain=[0, 40],\n",
    "        palette=['white', 'rebeccapurple']\n",
    "    )  \n",
    ")"
   ]
  },
  {
   "cell_type": "code",
   "execution_count": 45,
   "metadata": {},
   "outputs": [
    {
     "data": {
      "application/vnd.vegalite.v5+json": {
       "$schema": "https://vega.github.io/schema/vega-lite/v5.20.1.json",
       "config": {
        "view": {
         "continuousHeight": 300,
         "continuousWidth": 300
        }
       },
       "data": {
        "name": "data-90148eb2d06e614b2004e55ffe3a7045"
       },
       "datasets": {
        "data-90148eb2d06e614b2004e55ffe3a7045": [
         {
          "% of Total": 0.03391768292682927,
          "Frequency": 89,
          "cut": "40 - ∞"
         },
         {
          "% of Total": 0.0899390243902439,
          "Frequency": 236,
          "cut": "10 - 12"
         },
         {
          "% of Total": 0.053734756097560975,
          "Frequency": 141,
          "cut": "16 - 18"
         },
         {
          "% of Total": 0.056402439024390245,
          "Frequency": 148,
          "cut": "4 - 6"
         },
         {
          "% of Total": 0.010289634146341464,
          "Frequency": 27,
          "cut": "28 - 30"
         },
         {
          "% of Total": 0.03125,
          "Frequency": 82,
          "cut": "22 - 24"
         },
         {
          "% of Total": 0.006859756097560976,
          "Frequency": 18,
          "cut": "34 - 36"
         },
         {
          "% of Total": 0.01829268292682927,
          "Frequency": 48,
          "cut": "24 - 26"
         },
         {
          "% of Total": 0.018673780487804877,
          "Frequency": 49,
          "cut": "30 - 32"
         },
         {
          "% of Total": 0.008765243902439025,
          "Frequency": 23,
          "cut": "36 - 38"
         },
         {
          "% of Total": 0.13833841463414634,
          "Frequency": 363,
          "cut": "6 - 8"
         },
         {
          "% of Total": 0.07583841463414634,
          "Frequency": 199,
          "cut": "12 - 14"
         },
         {
          "% of Total": 0.023246951219512195,
          "Frequency": 61,
          "cut": "0 - 2"
         },
         {
          "% of Total": 0.027439024390243903,
          "Frequency": 72,
          "cut": "18 - 20"
         },
         {
          "% of Total": 0.058689024390243906,
          "Frequency": 154,
          "cut": "8 - 10"
         },
         {
          "% of Total": 0.24123475609756098,
          "Frequency": 633,
          "cut": "2 - 4"
         },
         {
          "% of Total": 0.011432926829268292,
          "Frequency": 30,
          "cut": "32 - 34"
         },
         {
          "% of Total": 0.038871951219512195,
          "Frequency": 102,
          "cut": "20 - 22"
         },
         {
          "% of Total": 0.006859756097560976,
          "Frequency": 18,
          "cut": "38 - 40"
         },
         {
          "% of Total": 0.01638719512195122,
          "Frequency": 43,
          "cut": "26 - 28"
         },
         {
          "% of Total": 0.03353658536585366,
          "Frequency": 88,
          "cut": "14 - 16"
         }
        ]
       },
       "encoding": {
        "x": {
         "axis": {
          "labelAngle": -45,
          "title": "Brand Spend ($)"
         },
         "field": "cut",
         "sort": [
          "-2 - 0",
          "0 - 2",
          "2 - 4",
          "4 - 6",
          "6 - 8",
          "8 - 10",
          "10 - 12",
          "12 - 14",
          "14 - 16",
          "16 - 18",
          "18 - 20",
          "20 - 22",
          "22 - 24",
          "24 - 26",
          "26 - 28",
          "28 - 30",
          "30 - 32",
          "32 - 34",
          "34 - 36",
          "36 - 38",
          "38 - 40",
          "40 - ∞"
         ],
         "type": "ordinal"
        },
        "y": {
         "axis": {
          "format": ".0%",
          "title": "% of Households"
         },
         "field": "% of Total",
         "type": "quantitative"
        }
       },
       "height": 250,
       "mark": {
        "type": "bar"
       },
       "title": {
        "subtitle": "Distribution of spend on Alpha across brand buyers",
        "text": "Alpha Spend Distribution (%)"
       },
       "width": 650
      },
      "text/plain": [
       "<VegaLite 5 object>\n",
       "\n",
       "If you see this message, it means the renderer has not been properly enabled\n",
       "for the frontend that you are using. For more information, see\n",
       "https://altair-viz.github.io/user_guide/display_frontends.html#troubleshooting\n"
      ]
     },
     "metadata": {},
     "output_type": "display_data"
    }
   ],
   "source": [
    "labels = [f\"{lb} - {lb + 2 if lb != 40 else '∞'}\" for lb in range(-2, 41, 2)]\n",
    "chart = freq_dist_plot(\n",
    "    data=alpha_spend,\n",
    "    column=\"spend\",\n",
    "    bin_edges=np.arange(0, 41, 2),\n",
    "    labels=labels,\n",
    "    x_title=\"Brand Spend ($)\",\n",
    "    y_title=\"% of Households\",\n",
    "    chart_title=\"Alpha Spend Distribution (%)\",\n",
    "    subtitle=\"Distribution of spend on Alpha across brand buyers\",\n",
    "    label_angle=-45\n",
    ")\n",
    "chart.show()"
   ]
  },
  {
   "cell_type": "markdown",
   "metadata": {},
   "source": [
    "##### Analyzing Alpha's One-Time Buyers in Year 1"
   ]
  },
  {
   "cell_type": "code",
   "execution_count": 46,
   "metadata": {},
   "outputs": [
    {
     "name": "stdout",
     "output_type": "stream",
     "text": [
      "There were 733 one-time buyers of Alpha brand in Year 1.\n",
      "623 of those one-time Alpha buyers spent between [$2, $4).\n",
      "Given that there are 633 Alpha buyers in total who spent between $2-$4,\n",
      "the 623 one-time buyers represent 98% of the Alpha buyers in that spend range.\n"
     ]
    }
   ],
   "source": [
    "# One-Time Alpha Buyers\n",
    "one_time_alpha_buyers = trans_summary('Alpha',grocery_lf,1).filter(pl.col('# of Purchases') == 1).collect()\n",
    "one_time_alpha_buyers\n",
    "\n",
    "# Alpha buyers who spent between $2 to $4\n",
    "spend_range_alpha_buyers = spend_summary('Alpha', grocery_lf, 1).filter(\n",
    "    (pl.col('spend') >= 2) &\n",
    "    (pl.col('spend') < 4)\n",
    ").collect()\n",
    "\n",
    "res = one_time_alpha_buyers.with_columns(\n",
    "    contains=pl.col('panel_id').is_in(spend_range_alpha_buyers.select('panel_id'))\n",
    ").select('contains').sum().item()\n",
    "\n",
    "print(f'There were {one_time_alpha_buyers.count().item(0,'panel_id')} one-time buyers of Alpha brand in Year 1.')\n",
    "print(f'{res} of those one-time Alpha buyers spent between [$2, $4).')\n",
    "print(f'Given that there are {spend_range_alpha_buyers.count().item(0,'spend')} Alpha buyers in total who spent between $2-$4,')\n",
    "print(f'the {res} one-time buyers represent {res / spend_range_alpha_buyers.count().item(0,'spend'):.0%} of the Alpha buyers in that spend range.')"
   ]
  },
  {
   "cell_type": "markdown",
   "metadata": {},
   "source": [
    "**Validate**:"
   ]
  },
  {
   "cell_type": "code",
   "execution_count": 47,
   "metadata": {},
   "outputs": [
    {
     "data": {
      "text/plain": [
       "1937.2300145626068"
      ]
     },
     "execution_count": 47,
     "metadata": {},
     "output_type": "execute_result"
    }
   ],
   "source": [
    "spend_range_alpha_buyers.filter(\n",
    "    pl.col('panel_id').is_in(one_time_alpha_buyers.select('panel_id'))\n",
    ").select(pl.col('spend').sum()).item()"
   ]
  },
  {
   "cell_type": "code",
   "execution_count": 48,
   "metadata": {},
   "outputs": [
    {
     "data": {
      "text/plain": [
       "1937.2300145626068"
      ]
     },
     "execution_count": 48,
     "metadata": {},
     "output_type": "execute_result"
    }
   ],
   "source": [
    "grocery_lf.filter(\n",
    "    (pl.col('week') <= 52) &\n",
    "    (pl.col('panel_id').is_in(spend_range_alpha_buyers.select('panel_id'))) &  # Assuming panel_id is the relevant column\n",
    "    (pl.col('panel_id').is_in(one_time_alpha_buyers.select('panel_id'))) &  # Same assumption\n",
    "    (pl.col('brand') == 'Alpha')\n",
    ").with_columns(\n",
    "    ((pl.col('units') * pl.col('price')).cast(pl.Float64)).alias('spend')\n",
    ").select(pl.col('spend').sum()).collect().item()"
   ]
  },
  {
   "cell_type": "markdown",
   "metadata": {},
   "source": [
    "#### Distribution of Volume Purchase"
   ]
  },
  {
   "cell_type": "markdown",
   "metadata": {},
   "source": [
    "##### Distribution of Category Volume Purchase Frequency"
   ]
  },
  {
   "cell_type": "code",
   "execution_count": 49,
   "metadata": {},
   "outputs": [
    {
     "data": {
      "text/html": [
       "<div><style>\n",
       ".dataframe > thead > tr,\n",
       ".dataframe > tbody > tr {\n",
       "  text-align: right;\n",
       "  white-space: pre-wrap;\n",
       "}\n",
       "</style>\n",
       "<small>shape: (9, 2)</small><table border=\"1\" class=\"dataframe\"><thead><tr><th>statistic</th><th>volume</th></tr><tr><td>str</td><td>f64</td></tr></thead><tbody><tr><td>&quot;count&quot;</td><td>4574.0</td></tr><tr><td>&quot;null_count&quot;</td><td>0.0</td></tr><tr><td>&quot;mean&quot;</td><td>4.544163</td></tr><tr><td>&quot;std&quot;</td><td>3.884697</td></tr><tr><td>&quot;min&quot;</td><td>0.25</td></tr><tr><td>&quot;25%&quot;</td><td>2.0</td></tr><tr><td>&quot;50%&quot;</td><td>3.5</td></tr><tr><td>&quot;75%&quot;</td><td>6.0</td></tr><tr><td>&quot;max&quot;</td><td>67.0</td></tr></tbody></table></div>"
      ],
      "text/plain": [
       "shape: (9, 2)\n",
       "┌────────────┬──────────┐\n",
       "│ statistic  ┆ volume   │\n",
       "│ ---        ┆ ---      │\n",
       "│ str        ┆ f64      │\n",
       "╞════════════╪══════════╡\n",
       "│ count      ┆ 4574.0   │\n",
       "│ null_count ┆ 0.0      │\n",
       "│ mean       ┆ 4.544163 │\n",
       "│ std        ┆ 3.884697 │\n",
       "│ min        ┆ 0.25     │\n",
       "│ 25%        ┆ 2.0      │\n",
       "│ 50%        ┆ 3.5      │\n",
       "│ 75%        ┆ 6.0      │\n",
       "│ max        ┆ 67.0     │\n",
       "└────────────┴──────────┘"
      ]
     },
     "execution_count": 49,
     "metadata": {},
     "output_type": "execute_result"
    }
   ],
   "source": [
    "category_vol = vol_summary('Category', grocery_lf, 1).drop('panel_id')\n",
    "\n",
    "category_vol.describe()"
   ]
  },
  {
   "cell_type": "code",
   "execution_count": 50,
   "metadata": {},
   "outputs": [
    {
     "data": {
      "text/html": [
       "<div id=\"birwawdtwb\" style=\"padding-left:0px;padding-right:0px;padding-top:10px;padding-bottom:10px;overflow-x:auto;overflow-y:auto;width:auto;height:auto;\">\n",
       "<style>\n",
       "#birwawdtwb table {\n",
       "          font-family: -apple-system, BlinkMacSystemFont, 'Segoe UI', Roboto, Oxygen, Ubuntu, Cantarell, 'Helvetica Neue', 'Fira Sans', 'Droid Sans', Arial, sans-serif;\n",
       "          -webkit-font-smoothing: antialiased;\n",
       "          -moz-osx-font-smoothing: grayscale;\n",
       "        }\n",
       "\n",
       "#birwawdtwb thead, tbody, tfoot, tr, td, th { border-style: none !important; }\n",
       " tr { background-color: transparent !important; }\n",
       "#birwawdtwb p { margin: 0 !important; padding: 0 !important; }\n",
       " #birwawdtwb .gt_table { display: table !important; border-collapse: collapse !important; line-height: normal !important; margin-left: auto !important; margin-right: auto !important; color: #333333 !important; font-size: 16px !important; font-weight: normal !important; font-style: normal !important; background-color: #FFFFFF !important; width: auto !important; border-top-style: solid !important; border-top-width: 2px !important; border-top-color: #A8A8A8 !important; border-right-style: none !important; border-right-width: 2px !important; border-right-color: #D3D3D3 !important; border-bottom-style: solid !important; border-bottom-width: 2px !important; border-bottom-color: #A8A8A8 !important; border-left-style: none !important; border-left-width: 2px !important; border-left-color: #D3D3D3 !important; }\n",
       " #birwawdtwb .gt_caption { padding-top: 4px !important; padding-bottom: 4px !important; }\n",
       " #birwawdtwb .gt_title { color: #333333 !important; font-size: 125% !important; font-weight: initial !important; padding-top: 4px !important; padding-bottom: 4px !important; padding-left: 5px !important; padding-right: 5px !important; border-bottom-color: #FFFFFF !important; border-bottom-width: 0 !important; }\n",
       " #birwawdtwb .gt_subtitle { color: #333333 !important; font-size: 85% !important; font-weight: initial !important; padding-top: 3px !important; padding-bottom: 5px !important; padding-left: 5px !important; padding-right: 5px !important; border-top-color: #FFFFFF !important; border-top-width: 0 !important; }\n",
       " #birwawdtwb .gt_heading { background-color: #FFFFFF !important; text-align: center !important; border-bottom-color: #FFFFFF !important; border-left-style: none !important; border-left-width: 1px !important; border-left-color: #D3D3D3 !important; border-right-style: none !important; border-right-width: 1px !important; border-right-color: #D3D3D3 !important; }\n",
       " #birwawdtwb .gt_bottom_border { border-bottom-style: solid !important; border-bottom-width: 2px !important; border-bottom-color: #D3D3D3 !important; }\n",
       " #birwawdtwb .gt_col_headings { border-top-style: solid !important; border-top-width: 2px !important; border-top-color: #D3D3D3 !important; border-bottom-style: solid !important; border-bottom-width: 2px !important; border-bottom-color: #D3D3D3 !important; border-left-style: none !important; border-left-width: 1px !important; border-left-color: #D3D3D3 !important; border-right-style: none !important; border-right-width: 1px !important; border-right-color: #D3D3D3 !important; }\n",
       " #birwawdtwb .gt_col_heading { color: #333333 !important; background-color: #FFFFFF !important; font-size: 100% !important; font-weight: normal !important; text-transform: inherit !important; border-left-style: none !important; border-left-width: 1px !important; border-left-color: #D3D3D3 !important; border-right-style: none !important; border-right-width: 1px !important; border-right-color: #D3D3D3 !important; vertical-align: bottom !important; padding-top: 5px !important; padding-bottom: 5px !important; padding-left: 5px !important; padding-right: 5px !important; overflow-x: hidden !important; }\n",
       " #birwawdtwb .gt_column_spanner_outer { color: #333333 !important; background-color: #FFFFFF !important; font-size: 100% !important; font-weight: normal !important; text-transform: inherit !important; padding-top: 0 !important; padding-bottom: 0 !important; padding-left: 4px !important; padding-right: 4px !important; }\n",
       " #birwawdtwb .gt_column_spanner_outer:first-child { padding-left: 0 !important; }\n",
       " #birwawdtwb .gt_column_spanner_outer:last-child { padding-right: 0 !important; }\n",
       " #birwawdtwb .gt_column_spanner { border-bottom-style: solid !important; border-bottom-width: 2px !important; border-bottom-color: #D3D3D3 !important; vertical-align: bottom !important; padding-top: 5px !important; padding-bottom: 5px !important; overflow-x: hidden !important; display: inline-block !important; width: 100% !important; }\n",
       " #birwawdtwb .gt_spanner_row { border-bottom-style: hidden !important; }\n",
       " #birwawdtwb .gt_group_heading { padding-top: 8px !important; padding-bottom: 8px !important; padding-left: 5px !important; padding-right: 5px !important; color: #333333 !important; background-color: #FFFFFF !important; font-size: 100% !important; font-weight: initial !important; text-transform: inherit !important; border-top-style: solid !important; border-top-width: 2px !important; border-top-color: #D3D3D3 !important; border-bottom-style: solid !important; border-bottom-width: 2px !important; border-bottom-color: #D3D3D3 !important; border-left-style: none !important; border-left-width: 1px !important; border-left-color: #D3D3D3 !important; border-right-style: none !important; border-right-width: 1px !important; border-right-color: #D3D3D3 !important; vertical-align: middle !important; text-align: left !important; }\n",
       " #birwawdtwb .gt_empty_group_heading { padding: 0.5px !important; color: #333333 !important; background-color: #FFFFFF !important; font-size: 100% !important; font-weight: initial !important; border-top-style: solid !important; border-top-width: 2px !important; border-top-color: #D3D3D3 !important; border-bottom-style: solid !important; border-bottom-width: 2px !important; border-bottom-color: #D3D3D3 !important; vertical-align: middle !important; }\n",
       " #birwawdtwb .gt_from_md> :first-child { margin-top: 0 !important; }\n",
       " #birwawdtwb .gt_from_md> :last-child { margin-bottom: 0 !important; }\n",
       " #birwawdtwb .gt_row { padding-top: 8px !important; padding-bottom: 8px !important; padding-left: 5px !important; padding-right: 5px !important; margin: 10px !important; border-top-style: solid !important; border-top-width: 1px !important; border-top-color: #D3D3D3 !important; border-left-style: none !important; border-left-width: 1px !important; border-left-color: #D3D3D3 !important; border-right-style: none !important; border-right-width: 1px !important; border-right-color: #D3D3D3 !important; vertical-align: middle !important; overflow-x: hidden !important; }\n",
       " #birwawdtwb .gt_stub { color: #333333 !important; background-color: #FFFFFF !important; font-size: 100% !important; font-weight: initial !important; text-transform: inherit !important; border-right-style: solid !important; border-right-width: 2px !important; border-right-color: #D3D3D3 !important; padding-left: 5px !important; padding-right: 5px !important; }\n",
       " #birwawdtwb .gt_stub_row_group { color: #333333 !important; background-color: #FFFFFF !important; font-size: 100% !important; font-weight: initial !important; text-transform: inherit !important; border-right-style: solid !important; border-right-width: 2px !important; border-right-color: #D3D3D3 !important; padding-left: 5px !important; padding-right: 5px !important; vertical-align: top !important; }\n",
       " #birwawdtwb .gt_row_group_first td { border-top-width: 2px !important; }\n",
       " #birwawdtwb .gt_row_group_first th { border-top-width: 2px !important; }\n",
       " #birwawdtwb .gt_striped { background-color: rgba(128,128,128,0.05) !important; }\n",
       " #birwawdtwb .gt_table_body { border-top-style: solid !important; border-top-width: 2px !important; border-top-color: #D3D3D3 !important; border-bottom-style: solid !important; border-bottom-width: 2px !important; border-bottom-color: #D3D3D3 !important; }\n",
       " #birwawdtwb .gt_sourcenotes { color: #333333 !important; background-color: #FFFFFF !important; border-bottom-style: none !important; border-bottom-width: 2px !important; border-bottom-color: #D3D3D3 !important; border-left-style: none !important; border-left-width: 2px !important; border-left-color: #D3D3D3 !important; border-right-style: none !important; border-right-width: 2px !important; border-right-color: #D3D3D3 !important; }\n",
       " #birwawdtwb .gt_sourcenote { font-size: 90% !important; padding-top: 4px !important; padding-bottom: 4px !important; padding-left: 5px !important; padding-right: 5px !important; text-align: left !important; }\n",
       " #birwawdtwb .gt_left { text-align: left !important; }\n",
       " #birwawdtwb .gt_center { text-align: center !important; }\n",
       " #birwawdtwb .gt_right { text-align: right !important; font-variant-numeric: tabular-nums !important; }\n",
       " #birwawdtwb .gt_font_normal { font-weight: normal !important; }\n",
       " #birwawdtwb .gt_font_bold { font-weight: bold !important; }\n",
       " #birwawdtwb .gt_font_italic { font-style: italic !important; }\n",
       " #birwawdtwb .gt_super { font-size: 65% !important; }\n",
       " #birwawdtwb .gt_footnote_marks { font-size: 75% !important; vertical-align: 0.4em !important; position: initial !important; }\n",
       " #birwawdtwb .gt_asterisk { font-size: 100% !important; vertical-align: 0 !important; }\n",
       " \n",
       "</style>\n",
       "<table class=\"gt_table\" data-quarto-disable-processing=\"false\" data-quarto-bootstrap=\"false\">\n",
       "<thead>\n",
       "\n",
       "  <tr class=\"gt_heading\">\n",
       "    <td colspan=\"2\" class=\"gt_heading gt_title gt_font_normal\">Category Volume Percentile</td>\n",
       "  </tr>\n",
       "<tr class=\"gt_col_headings\">\n",
       "  <th class=\"gt_col_heading gt_columns_bottom_border gt_left\" rowspan=\"1\" colspan=\"1\" scope=\"col\" id=\"Percentile Level\">Percentile Level</th>\n",
       "  <th class=\"gt_col_heading gt_columns_bottom_border gt_right\" rowspan=\"1\" colspan=\"1\" scope=\"col\" id=\"Percentile\">Percentile</th>\n",
       "</tr>\n",
       "</thead>\n",
       "<tbody class=\"gt_table_body\">\n",
       "  <tr>\n",
       "    <th style=\"color: #000000; background-color: #ccbbdd;\" class=\"gt_row gt_left gt_stub\">5</th>\n",
       "    <td style=\"color: #000000; background-color: #f7f4f9;\" class=\"gt_row gt_right\">0.83</td>\n",
       "  </tr>\n",
       "  <tr>\n",
       "    <th style=\"color: #000000; background-color: #9977bb;\" class=\"gt_row gt_left gt_stub\">10</th>\n",
       "    <td style=\"color: #000000; background-color: #f5f1f8;\" class=\"gt_row gt_right\">1.00</td>\n",
       "  </tr>\n",
       "  <tr>\n",
       "    <th style=\"color: #FFFFFF; background-color: #663399;\" class=\"gt_row gt_left gt_stub\">15</th>\n",
       "    <td style=\"color: #000000; background-color: #f5f1f8;\" class=\"gt_row gt_right\">1.00</td>\n",
       "  </tr>\n",
       "  <tr>\n",
       "    <th style=\"color: #000000; background-color: #808080;\" class=\"gt_row gt_left gt_stub\">20</th>\n",
       "    <td style=\"color: #000000; background-color: #f0ebf5;\" class=\"gt_row gt_right\">1.50</td>\n",
       "  </tr>\n",
       "  <tr>\n",
       "    <th style=\"color: #000000; background-color: #808080;\" class=\"gt_row gt_left gt_stub\">25</th>\n",
       "    <td style=\"color: #000000; background-color: #ebe4f1;\" class=\"gt_row gt_right\">2.00</td>\n",
       "  </tr>\n",
       "  <tr>\n",
       "    <th style=\"color: #000000; background-color: #808080;\" class=\"gt_row gt_left gt_stub\">30</th>\n",
       "    <td style=\"color: #000000; background-color: #ebe4f1;\" class=\"gt_row gt_right\">2.00</td>\n",
       "  </tr>\n",
       "  <tr>\n",
       "    <th style=\"color: #000000; background-color: #808080;\" class=\"gt_row gt_left gt_stub\">35</th>\n",
       "    <td style=\"color: #000000; background-color: #e6ddee;\" class=\"gt_row gt_right\">2.50</td>\n",
       "  </tr>\n",
       "  <tr>\n",
       "    <th style=\"color: #000000; background-color: #808080;\" class=\"gt_row gt_left gt_stub\">40</th>\n",
       "    <td style=\"color: #000000; background-color: #e0d6eb;\" class=\"gt_row gt_right\">3.00</td>\n",
       "  </tr>\n",
       "  <tr>\n",
       "    <th style=\"color: #000000; background-color: #808080;\" class=\"gt_row gt_left gt_stub\">45</th>\n",
       "    <td style=\"color: #000000; background-color: #e0d6eb;\" class=\"gt_row gt_right\">3.00</td>\n",
       "  </tr>\n",
       "  <tr>\n",
       "    <th style=\"color: #000000; background-color: #808080;\" class=\"gt_row gt_left gt_stub\">50</th>\n",
       "    <td style=\"color: #000000; background-color: #dbcfe7;\" class=\"gt_row gt_right\">3.50</td>\n",
       "  </tr>\n",
       "  <tr>\n",
       "    <th style=\"color: #000000; background-color: #808080;\" class=\"gt_row gt_left gt_stub\">55</th>\n",
       "    <td style=\"color: #000000; background-color: #d6c9e4;\" class=\"gt_row gt_right\">4.00</td>\n",
       "  </tr>\n",
       "  <tr>\n",
       "    <th style=\"color: #000000; background-color: #808080;\" class=\"gt_row gt_left gt_stub\">60</th>\n",
       "    <td style=\"color: #000000; background-color: #d2c4e1;\" class=\"gt_row gt_right\">4.38</td>\n",
       "  </tr>\n",
       "  <tr>\n",
       "    <th style=\"color: #000000; background-color: #808080;\" class=\"gt_row gt_left gt_stub\">65</th>\n",
       "    <td style=\"color: #000000; background-color: #ccbbdd;\" class=\"gt_row gt_right\">5.00</td>\n",
       "  </tr>\n",
       "  <tr>\n",
       "    <th style=\"color: #000000; background-color: #808080;\" class=\"gt_row gt_left gt_stub\">70</th>\n",
       "    <td style=\"color: #000000; background-color: #c7b4da;\" class=\"gt_row gt_right\">5.50</td>\n",
       "  </tr>\n",
       "  <tr>\n",
       "    <th style=\"color: #000000; background-color: #808080;\" class=\"gt_row gt_left gt_stub\">75</th>\n",
       "    <td style=\"color: #000000; background-color: #c2add6;\" class=\"gt_row gt_right\">6.00</td>\n",
       "  </tr>\n",
       "  <tr>\n",
       "    <th style=\"color: #000000; background-color: #808080;\" class=\"gt_row gt_left gt_stub\">80</th>\n",
       "    <td style=\"color: #000000; background-color: #b8a0cf;\" class=\"gt_row gt_right\">7.00</td>\n",
       "  </tr>\n",
       "  <tr>\n",
       "    <th style=\"color: #000000; background-color: #808080;\" class=\"gt_row gt_left gt_stub\">85</th>\n",
       "    <td style=\"color: #000000; background-color: #ad92c9;\" class=\"gt_row gt_right\">8.00</td>\n",
       "  </tr>\n",
       "  <tr>\n",
       "    <th style=\"color: #000000; background-color: #808080;\" class=\"gt_row gt_left gt_stub\">90</th>\n",
       "    <td style=\"color: #000000; background-color: #a385c2;\" class=\"gt_row gt_right\">9.00</td>\n",
       "  </tr>\n",
       "  <tr>\n",
       "    <th style=\"color: #000000; background-color: #808080;\" class=\"gt_row gt_left gt_stub\">95</th>\n",
       "    <td style=\"color: #FFFFFF; background-color: #855cad;\" class=\"gt_row gt_right\">12.00</td>\n",
       "  </tr>\n",
       "</tbody>\n",
       "\n",
       "\n",
       "</table>\n",
       "\n",
       "</div>\n",
       "        "
      ],
      "text/plain": [
       "GT(_tbl_data=shape: (19, 2)\n",
       "┌──────────────────┬────────────┐\n",
       "│ Percentile Level ┆ Percentile │\n",
       "│ ---              ┆ ---        │\n",
       "│ i32              ┆ f64        │\n",
       "╞══════════════════╪════════════╡\n",
       "│ 5                ┆ 0.8325     │\n",
       "│ 10               ┆ 1.0        │\n",
       "│ 15               ┆ 1.0        │\n",
       "│ 20               ┆ 1.5        │\n",
       "│ 25               ┆ 2.0        │\n",
       "│ …                ┆ …          │\n",
       "│ 75               ┆ 6.0        │\n",
       "│ 80               ┆ 7.0        │\n",
       "│ 85               ┆ 8.0        │\n",
       "│ 90               ┆ 9.0        │\n",
       "│ 95               ┆ 12.0       │\n",
       "└──────────────────┴────────────┘, _body=<great_tables._gt_data.Body object at 0x000001EFEBF841D0>, _boxhead=Boxhead([ColInfo(var='Percentile Level', type=<ColInfoTypeEnum.stub: 2>, column_label='Percentile Level', column_align='right', column_width=None), ColInfo(var='Percentile', type=<ColInfoTypeEnum.default: 1>, column_label='Percentile', column_align='right', column_width=None)]), _stub=<great_tables._gt_data.Stub object at 0x000001EFEBFE63F0>, _spanners=Spanners([]), _heading=Heading(title='Category Volume Percentile', subtitle=None, preheader=None), _stubhead='Percentile Level', _source_notes=[], _footnotes=[], _styles=[StyleInfo(locname=LocBody(columns='Percentile Level', rows=[0]), grpname=None, colname='Percentile Level', rownum=0, colnum=None, styles=[CellStyleText(color='#000000', font=None, size=None, align=None, v_align=None, style=None, weight=None, stretch=None, decorate=None, transform=None, whitespace=None), CellStyleFill(color='#ccbbdd')]), StyleInfo(locname=LocBody(columns='Percentile Level', rows=[1]), grpname=None, colname='Percentile Level', rownum=1, colnum=None, styles=[CellStyleText(color='#000000', font=None, size=None, align=None, v_align=None, style=None, weight=None, stretch=None, decorate=None, transform=None, whitespace=None), CellStyleFill(color='#9977bb')]), StyleInfo(locname=LocBody(columns='Percentile Level', rows=[2]), grpname=None, colname='Percentile Level', rownum=2, colnum=None, styles=[CellStyleText(color='#FFFFFF', font=None, size=None, align=None, v_align=None, style=None, weight=None, stretch=None, decorate=None, transform=None, whitespace=None), CellStyleFill(color='#663399')]), StyleInfo(locname=LocBody(columns='Percentile Level', rows=[3]), grpname=None, colname='Percentile Level', rownum=3, colnum=None, styles=[CellStyleText(color='#000000', font=None, size=None, align=None, v_align=None, style=None, weight=None, stretch=None, decorate=None, transform=None, whitespace=None), CellStyleFill(color='#808080')]), StyleInfo(locname=LocBody(columns='Percentile Level', rows=[4]), grpname=None, colname='Percentile Level', rownum=4, colnum=None, styles=[CellStyleText(color='#000000', font=None, size=None, align=None, v_align=None, style=None, weight=None, stretch=None, decorate=None, transform=None, whitespace=None), CellStyleFill(color='#808080')]), StyleInfo(locname=LocBody(columns='Percentile Level', rows=[5]), grpname=None, colname='Percentile Level', rownum=5, colnum=None, styles=[CellStyleText(color='#000000', font=None, size=None, align=None, v_align=None, style=None, weight=None, stretch=None, decorate=None, transform=None, whitespace=None), CellStyleFill(color='#808080')]), StyleInfo(locname=LocBody(columns='Percentile Level', rows=[6]), grpname=None, colname='Percentile Level', rownum=6, colnum=None, styles=[CellStyleText(color='#000000', font=None, size=None, align=None, v_align=None, style=None, weight=None, stretch=None, decorate=None, transform=None, whitespace=None), CellStyleFill(color='#808080')]), StyleInfo(locname=LocBody(columns='Percentile Level', rows=[7]), grpname=None, colname='Percentile Level', rownum=7, colnum=None, styles=[CellStyleText(color='#000000', font=None, size=None, align=None, v_align=None, style=None, weight=None, stretch=None, decorate=None, transform=None, whitespace=None), CellStyleFill(color='#808080')]), StyleInfo(locname=LocBody(columns='Percentile Level', rows=[8]), grpname=None, colname='Percentile Level', rownum=8, colnum=None, styles=[CellStyleText(color='#000000', font=None, size=None, align=None, v_align=None, style=None, weight=None, stretch=None, decorate=None, transform=None, whitespace=None), CellStyleFill(color='#808080')]), StyleInfo(locname=LocBody(columns='Percentile Level', rows=[9]), grpname=None, colname='Percentile Level', rownum=9, colnum=None, styles=[CellStyleText(color='#000000', font=None, size=None, align=None, v_align=None, style=None, weight=None, stretch=None, decorate=None, transform=None, whitespace=None), CellStyleFill(color='#808080')]), StyleInfo(locname=LocBody(columns='Percentile Level', rows=[10]), grpname=None, colname='Percentile Level', rownum=10, colnum=None, styles=[CellStyleText(color='#000000', font=None, size=None, align=None, v_align=None, style=None, weight=None, stretch=None, decorate=None, transform=None, whitespace=None), CellStyleFill(color='#808080')]), StyleInfo(locname=LocBody(columns='Percentile Level', rows=[11]), grpname=None, colname='Percentile Level', rownum=11, colnum=None, styles=[CellStyleText(color='#000000', font=None, size=None, align=None, v_align=None, style=None, weight=None, stretch=None, decorate=None, transform=None, whitespace=None), CellStyleFill(color='#808080')]), StyleInfo(locname=LocBody(columns='Percentile Level', rows=[12]), grpname=None, colname='Percentile Level', rownum=12, colnum=None, styles=[CellStyleText(color='#000000', font=None, size=None, align=None, v_align=None, style=None, weight=None, stretch=None, decorate=None, transform=None, whitespace=None), CellStyleFill(color='#808080')]), StyleInfo(locname=LocBody(columns='Percentile Level', rows=[13]), grpname=None, colname='Percentile Level', rownum=13, colnum=None, styles=[CellStyleText(color='#000000', font=None, size=None, align=None, v_align=None, style=None, weight=None, stretch=None, decorate=None, transform=None, whitespace=None), CellStyleFill(color='#808080')]), StyleInfo(locname=LocBody(columns='Percentile Level', rows=[14]), grpname=None, colname='Percentile Level', rownum=14, colnum=None, styles=[CellStyleText(color='#000000', font=None, size=None, align=None, v_align=None, style=None, weight=None, stretch=None, decorate=None, transform=None, whitespace=None), CellStyleFill(color='#808080')]), StyleInfo(locname=LocBody(columns='Percentile Level', rows=[15]), grpname=None, colname='Percentile Level', rownum=15, colnum=None, styles=[CellStyleText(color='#000000', font=None, size=None, align=None, v_align=None, style=None, weight=None, stretch=None, decorate=None, transform=None, whitespace=None), CellStyleFill(color='#808080')]), StyleInfo(locname=LocBody(columns='Percentile Level', rows=[16]), grpname=None, colname='Percentile Level', rownum=16, colnum=None, styles=[CellStyleText(color='#000000', font=None, size=None, align=None, v_align=None, style=None, weight=None, stretch=None, decorate=None, transform=None, whitespace=None), CellStyleFill(color='#808080')]), StyleInfo(locname=LocBody(columns='Percentile Level', rows=[17]), grpname=None, colname='Percentile Level', rownum=17, colnum=None, styles=[CellStyleText(color='#000000', font=None, size=None, align=None, v_align=None, style=None, weight=None, stretch=None, decorate=None, transform=None, whitespace=None), CellStyleFill(color='#808080')]), StyleInfo(locname=LocBody(columns='Percentile Level', rows=[18]), grpname=None, colname='Percentile Level', rownum=18, colnum=None, styles=[CellStyleText(color='#000000', font=None, size=None, align=None, v_align=None, style=None, weight=None, stretch=None, decorate=None, transform=None, whitespace=None), CellStyleFill(color='#808080')]), StyleInfo(locname=LocBody(columns='Percentile', rows=[0]), grpname=None, colname='Percentile', rownum=0, colnum=None, styles=[CellStyleText(color='#000000', font=None, size=None, align=None, v_align=None, style=None, weight=None, stretch=None, decorate=None, transform=None, whitespace=None), CellStyleFill(color='#f7f4f9')]), StyleInfo(locname=LocBody(columns='Percentile', rows=[1]), grpname=None, colname='Percentile', rownum=1, colnum=None, styles=[CellStyleText(color='#000000', font=None, size=None, align=None, v_align=None, style=None, weight=None, stretch=None, decorate=None, transform=None, whitespace=None), CellStyleFill(color='#f5f1f8')]), StyleInfo(locname=LocBody(columns='Percentile', rows=[2]), grpname=None, colname='Percentile', rownum=2, colnum=None, styles=[CellStyleText(color='#000000', font=None, size=None, align=None, v_align=None, style=None, weight=None, stretch=None, decorate=None, transform=None, whitespace=None), CellStyleFill(color='#f5f1f8')]), StyleInfo(locname=LocBody(columns='Percentile', rows=[3]), grpname=None, colname='Percentile', rownum=3, colnum=None, styles=[CellStyleText(color='#000000', font=None, size=None, align=None, v_align=None, style=None, weight=None, stretch=None, decorate=None, transform=None, whitespace=None), CellStyleFill(color='#f0ebf5')]), StyleInfo(locname=LocBody(columns='Percentile', rows=[4]), grpname=None, colname='Percentile', rownum=4, colnum=None, styles=[CellStyleText(color='#000000', font=None, size=None, align=None, v_align=None, style=None, weight=None, stretch=None, decorate=None, transform=None, whitespace=None), CellStyleFill(color='#ebe4f1')]), StyleInfo(locname=LocBody(columns='Percentile', rows=[5]), grpname=None, colname='Percentile', rownum=5, colnum=None, styles=[CellStyleText(color='#000000', font=None, size=None, align=None, v_align=None, style=None, weight=None, stretch=None, decorate=None, transform=None, whitespace=None), CellStyleFill(color='#ebe4f1')]), StyleInfo(locname=LocBody(columns='Percentile', rows=[6]), grpname=None, colname='Percentile', rownum=6, colnum=None, styles=[CellStyleText(color='#000000', font=None, size=None, align=None, v_align=None, style=None, weight=None, stretch=None, decorate=None, transform=None, whitespace=None), CellStyleFill(color='#e6ddee')]), StyleInfo(locname=LocBody(columns='Percentile', rows=[7]), grpname=None, colname='Percentile', rownum=7, colnum=None, styles=[CellStyleText(color='#000000', font=None, size=None, align=None, v_align=None, style=None, weight=None, stretch=None, decorate=None, transform=None, whitespace=None), CellStyleFill(color='#e0d6eb')]), StyleInfo(locname=LocBody(columns='Percentile', rows=[8]), grpname=None, colname='Percentile', rownum=8, colnum=None, styles=[CellStyleText(color='#000000', font=None, size=None, align=None, v_align=None, style=None, weight=None, stretch=None, decorate=None, transform=None, whitespace=None), CellStyleFill(color='#e0d6eb')]), StyleInfo(locname=LocBody(columns='Percentile', rows=[9]), grpname=None, colname='Percentile', rownum=9, colnum=None, styles=[CellStyleText(color='#000000', font=None, size=None, align=None, v_align=None, style=None, weight=None, stretch=None, decorate=None, transform=None, whitespace=None), CellStyleFill(color='#dbcfe7')]), StyleInfo(locname=LocBody(columns='Percentile', rows=[10]), grpname=None, colname='Percentile', rownum=10, colnum=None, styles=[CellStyleText(color='#000000', font=None, size=None, align=None, v_align=None, style=None, weight=None, stretch=None, decorate=None, transform=None, whitespace=None), CellStyleFill(color='#d6c9e4')]), StyleInfo(locname=LocBody(columns='Percentile', rows=[11]), grpname=None, colname='Percentile', rownum=11, colnum=None, styles=[CellStyleText(color='#000000', font=None, size=None, align=None, v_align=None, style=None, weight=None, stretch=None, decorate=None, transform=None, whitespace=None), CellStyleFill(color='#d2c4e1')]), StyleInfo(locname=LocBody(columns='Percentile', rows=[12]), grpname=None, colname='Percentile', rownum=12, colnum=None, styles=[CellStyleText(color='#000000', font=None, size=None, align=None, v_align=None, style=None, weight=None, stretch=None, decorate=None, transform=None, whitespace=None), CellStyleFill(color='#ccbbdd')]), StyleInfo(locname=LocBody(columns='Percentile', rows=[13]), grpname=None, colname='Percentile', rownum=13, colnum=None, styles=[CellStyleText(color='#000000', font=None, size=None, align=None, v_align=None, style=None, weight=None, stretch=None, decorate=None, transform=None, whitespace=None), CellStyleFill(color='#c7b4da')]), StyleInfo(locname=LocBody(columns='Percentile', rows=[14]), grpname=None, colname='Percentile', rownum=14, colnum=None, styles=[CellStyleText(color='#000000', font=None, size=None, align=None, v_align=None, style=None, weight=None, stretch=None, decorate=None, transform=None, whitespace=None), CellStyleFill(color='#c2add6')]), StyleInfo(locname=LocBody(columns='Percentile', rows=[15]), grpname=None, colname='Percentile', rownum=15, colnum=None, styles=[CellStyleText(color='#000000', font=None, size=None, align=None, v_align=None, style=None, weight=None, stretch=None, decorate=None, transform=None, whitespace=None), CellStyleFill(color='#b8a0cf')]), StyleInfo(locname=LocBody(columns='Percentile', rows=[16]), grpname=None, colname='Percentile', rownum=16, colnum=None, styles=[CellStyleText(color='#000000', font=None, size=None, align=None, v_align=None, style=None, weight=None, stretch=None, decorate=None, transform=None, whitespace=None), CellStyleFill(color='#ad92c9')]), StyleInfo(locname=LocBody(columns='Percentile', rows=[17]), grpname=None, colname='Percentile', rownum=17, colnum=None, styles=[CellStyleText(color='#000000', font=None, size=None, align=None, v_align=None, style=None, weight=None, stretch=None, decorate=None, transform=None, whitespace=None), CellStyleFill(color='#a385c2')]), StyleInfo(locname=LocBody(columns='Percentile', rows=[18]), grpname=None, colname='Percentile', rownum=18, colnum=None, styles=[CellStyleText(color='#FFFFFF', font=None, size=None, align=None, v_align=None, style=None, weight=None, stretch=None, decorate=None, transform=None, whitespace=None), CellStyleFill(color='#855cad')])], _locale=<great_tables._gt_data.Locale object at 0x000001EFEC025DC0>, _formats=[<great_tables._gt_data.FormatInfo object at 0x000001EFEBFD2270>], _substitutions=[], _options=Options(table_id=OptionsInfo(scss=False, category='table', type='value', value=None), table_caption=OptionsInfo(scss=False, category='table', type='value', value=None), table_width=OptionsInfo(scss=True, category='table', type='px', value='auto'), table_layout=OptionsInfo(scss=True, category='table', type='value', value='fixed'), table_margin_left=OptionsInfo(scss=True, category='table', type='px', value='auto'), table_margin_right=OptionsInfo(scss=True, category='table', type='px', value='auto'), table_background_color=OptionsInfo(scss=True, category='table', type='value', value='#FFFFFF'), table_additional_css=OptionsInfo(scss=False, category='table', type='values', value=[]), table_font_names=OptionsInfo(scss=False, category='table', type='values', value=['-apple-system', 'BlinkMacSystemFont', 'Segoe UI', 'Roboto', 'Oxygen', 'Ubuntu', 'Cantarell', 'Helvetica Neue', 'Fira Sans', 'Droid Sans', 'Arial', 'sans-serif']), table_font_size=OptionsInfo(scss=True, category='table', type='px', value='16px'), table_font_weight=OptionsInfo(scss=True, category='table', type='value', value='normal'), table_font_style=OptionsInfo(scss=True, category='table', type='value', value='normal'), table_font_color=OptionsInfo(scss=True, category='table', type='value', value='#333333'), table_font_color_light=OptionsInfo(scss=True, category='table', type='value', value='#FFFFFF'), table_border_top_include=OptionsInfo(scss=False, category='table', type='boolean', value=True), table_border_top_style=OptionsInfo(scss=True, category='table', type='value', value='solid'), table_border_top_width=OptionsInfo(scss=True, category='table', type='px', value='2px'), table_border_top_color=OptionsInfo(scss=True, category='table', type='value', value='#A8A8A8'), table_border_right_style=OptionsInfo(scss=True, category='table', type='value', value='none'), table_border_right_width=OptionsInfo(scss=True, category='table', type='px', value='2px'), table_border_right_color=OptionsInfo(scss=True, category='table', type='value', value='#D3D3D3'), table_border_bottom_include=OptionsInfo(scss=False, category='table', type='boolean', value=True), table_border_bottom_style=OptionsInfo(scss=True, category='table', type='value', value='solid'), table_border_bottom_width=OptionsInfo(scss=True, category='table', type='px', value='2px'), table_border_bottom_color=OptionsInfo(scss=True, category='table', type='value', value='#A8A8A8'), table_border_left_style=OptionsInfo(scss=True, category='table', type='value', value='none'), table_border_left_width=OptionsInfo(scss=True, category='table', type='px', value='2px'), table_border_left_color=OptionsInfo(scss=True, category='table', type='value', value='#D3D3D3'), heading_background_color=OptionsInfo(scss=True, category='heading', type='value', value=None), heading_align=OptionsInfo(scss=True, category='heading', type='value', value='center'), heading_title_font_size=OptionsInfo(scss=True, category='heading', type='px', value='125%'), heading_title_font_weight=OptionsInfo(scss=True, category='heading', type='value', value='initial'), heading_subtitle_font_size=OptionsInfo(scss=True, category='heading', type='px', value='85%'), heading_subtitle_font_weight=OptionsInfo(scss=True, category='heading', type='value', value='initial'), heading_padding=OptionsInfo(scss=True, category='heading', type='px', value='4px'), heading_padding_horizontal=OptionsInfo(scss=True, category='heading', type='px', value='5px'), heading_border_bottom_style=OptionsInfo(scss=True, category='heading', type='value', value='solid'), heading_border_bottom_width=OptionsInfo(scss=True, category='heading', type='px', value='2px'), heading_border_bottom_color=OptionsInfo(scss=True, category='heading', type='value', value='#D3D3D3'), heading_border_lr_style=OptionsInfo(scss=True, category='heading', type='value', value='none'), heading_border_lr_width=OptionsInfo(scss=True, category='heading', type='px', value='1px'), heading_border_lr_color=OptionsInfo(scss=True, category='heading', type='value', value='#D3D3D3'), column_labels_background_color=OptionsInfo(scss=True, category='column_labels', type='value', value=None), column_labels_font_size=OptionsInfo(scss=True, category='column_labels', type='px', value='100%'), column_labels_font_weight=OptionsInfo(scss=True, category='column_labels', type='value', value='normal'), column_labels_text_transform=OptionsInfo(scss=True, category='column_labels', type='value', value='inherit'), column_labels_padding=OptionsInfo(scss=True, category='column_labels', type='px', value='5px'), column_labels_padding_horizontal=OptionsInfo(scss=True, category='column_labels', type='px', value='5px'), column_labels_vlines_style=OptionsInfo(scss=True, category='table_body', type='value', value='none'), column_labels_vlines_width=OptionsInfo(scss=True, category='table_body', type='px', value='1px'), column_labels_vlines_color=OptionsInfo(scss=True, category='table_body', type='value', value='#D3D3D3'), column_labels_border_top_style=OptionsInfo(scss=True, category='column_labels', type='value', value='solid'), column_labels_border_top_width=OptionsInfo(scss=True, category='column_labels', type='px', value='2px'), column_labels_border_top_color=OptionsInfo(scss=True, category='column_labels', type='value', value='#D3D3D3'), column_labels_border_bottom_style=OptionsInfo(scss=True, category='column_labels', type='value', value='solid'), column_labels_border_bottom_width=OptionsInfo(scss=True, category='column_labels', type='px', value='2px'), column_labels_border_bottom_color=OptionsInfo(scss=True, category='column_labels', type='value', value='#D3D3D3'), column_labels_border_lr_style=OptionsInfo(scss=True, category='column_labels', type='value', value='none'), column_labels_border_lr_width=OptionsInfo(scss=True, category='column_labels', type='px', value='1px'), column_labels_border_lr_color=OptionsInfo(scss=True, category='column_labels', type='value', value='#D3D3D3'), column_labels_hidden=OptionsInfo(scss=False, category='column_labels', type='boolean', value=False), row_group_background_color=OptionsInfo(scss=True, category='row_group', type='value', value=None), row_group_font_size=OptionsInfo(scss=True, category='row_group', type='px', value='100%'), row_group_font_weight=OptionsInfo(scss=True, category='row_group', type='value', value='initial'), row_group_text_transform=OptionsInfo(scss=True, category='row_group', type='value', value='inherit'), row_group_padding=OptionsInfo(scss=True, category='row_group', type='px', value='8px'), row_group_padding_horizontal=OptionsInfo(scss=True, category='row_group', type='px', value='5px'), row_group_border_top_style=OptionsInfo(scss=True, category='row_group', type='value', value='solid'), row_group_border_top_width=OptionsInfo(scss=True, category='row_group', type='px', value='2px'), row_group_border_top_color=OptionsInfo(scss=True, category='row_group', type='value', value='#D3D3D3'), row_group_border_right_style=OptionsInfo(scss=True, category='row_group', type='value', value='none'), row_group_border_right_width=OptionsInfo(scss=True, category='row_group', type='px', value='1px'), row_group_border_right_color=OptionsInfo(scss=True, category='row_group', type='value', value='#D3D3D3'), row_group_border_bottom_style=OptionsInfo(scss=True, category='row_group', type='value', value='solid'), row_group_border_bottom_width=OptionsInfo(scss=True, category='row_group', type='px', value='2px'), row_group_border_bottom_color=OptionsInfo(scss=True, category='row_group', type='value', value='#D3D3D3'), row_group_border_left_style=OptionsInfo(scss=True, category='row_group', type='value', value='none'), row_group_border_left_width=OptionsInfo(scss=True, category='row_group', type='px', value='1px'), row_group_border_left_color=OptionsInfo(scss=True, category='row_group', type='value', value='#D3D3D3'), row_group_as_column=OptionsInfo(scss=False, category='row_group', type='boolean', value=False), table_body_hlines_style=OptionsInfo(scss=True, category='table_body', type='value', value='solid'), table_body_hlines_width=OptionsInfo(scss=True, category='table_body', type='px', value='1px'), table_body_hlines_color=OptionsInfo(scss=True, category='table_body', type='value', value='#D3D3D3'), table_body_vlines_style=OptionsInfo(scss=True, category='table_body', type='value', value='none'), table_body_vlines_width=OptionsInfo(scss=True, category='table_body', type='px', value='1px'), table_body_vlines_color=OptionsInfo(scss=True, category='table_body', type='value', value='#D3D3D3'), table_body_border_top_style=OptionsInfo(scss=True, category='table_body', type='value', value='solid'), table_body_border_top_width=OptionsInfo(scss=True, category='table_body', type='px', value='2px'), table_body_border_top_color=OptionsInfo(scss=True, category='table_body', type='value', value='#D3D3D3'), table_body_border_bottom_style=OptionsInfo(scss=True, category='table_body', type='value', value='solid'), table_body_border_bottom_width=OptionsInfo(scss=True, category='table_body', type='px', value='2px'), table_body_border_bottom_color=OptionsInfo(scss=True, category='table_body', type='value', value='#D3D3D3'), data_row_padding=OptionsInfo(scss=True, category='data_row', type='px', value='8px'), data_row_padding_horizontal=OptionsInfo(scss=True, category='data_row', type='px', value='5px'), stub_background_color=OptionsInfo(scss=True, category='stub', type='value', value=None), stub_font_size=OptionsInfo(scss=True, category='stub', type='px', value='100%'), stub_font_weight=OptionsInfo(scss=True, category='stub', type='value', value='initial'), stub_text_transform=OptionsInfo(scss=True, category='stub', type='value', value='inherit'), stub_border_style=OptionsInfo(scss=True, category='stub', type='value', value='solid'), stub_border_width=OptionsInfo(scss=True, category='stub', type='px', value='2px'), stub_border_color=OptionsInfo(scss=True, category='stub', type='value', value='#D3D3D3'), stub_row_group_background_color=OptionsInfo(scss=True, category='stub', type='value', value=None), stub_row_group_font_size=OptionsInfo(scss=True, category='stub', type='px', value='100%'), stub_row_group_font_weight=OptionsInfo(scss=True, category='stub', type='value', value='initial'), stub_row_group_text_transform=OptionsInfo(scss=True, category='stub', type='value', value='inherit'), stub_row_group_border_style=OptionsInfo(scss=True, category='stub', type='value', value='solid'), stub_row_group_border_width=OptionsInfo(scss=True, category='stub', type='px', value='2px'), stub_row_group_border_color=OptionsInfo(scss=True, category='stub', type='value', value='#D3D3D3'), source_notes_padding=OptionsInfo(scss=True, category='source_notes', type='px', value='4px'), source_notes_padding_horizontal=OptionsInfo(scss=True, category='source_notes', type='px', value='5px'), source_notes_background_color=OptionsInfo(scss=True, category='source_notes', type='value', value=None), source_notes_font_size=OptionsInfo(scss=True, category='source_notes', type='px', value='90%'), source_notes_border_bottom_style=OptionsInfo(scss=True, category='source_notes', type='value', value='none'), source_notes_border_bottom_width=OptionsInfo(scss=True, category='source_notes', type='px', value='2px'), source_notes_border_bottom_color=OptionsInfo(scss=True, category='source_notes', type='value', value='#D3D3D3'), source_notes_border_lr_style=OptionsInfo(scss=True, category='source_notes', type='value', value='none'), source_notes_border_lr_width=OptionsInfo(scss=True, category='source_notes', type='px', value='2px'), source_notes_border_lr_color=OptionsInfo(scss=True, category='source_notes', type='value', value='#D3D3D3'), source_notes_multiline=OptionsInfo(scss=False, category='source_notes', type='boolean', value=True), source_notes_sep=OptionsInfo(scss=False, category='source_notes', type='value', value=' '), row_striping_background_color=OptionsInfo(scss=True, category='row', type='value', value='rgba(128,128,128,0.05)'), row_striping_include_stub=OptionsInfo(scss=False, category='row', type='boolean', value=False), row_striping_include_table_body=OptionsInfo(scss=False, category='row', type='boolean', value=False), container_width=OptionsInfo(scss=False, category='container', type='px', value='auto'), container_height=OptionsInfo(scss=False, category='container', type='px', value='auto'), container_padding_x=OptionsInfo(scss=False, category='container', type='px', value='0px'), container_padding_y=OptionsInfo(scss=False, category='container', type='px', value='10px'), container_overflow_x=OptionsInfo(scss=False, category='container', type='overflow', value='auto'), container_overflow_y=OptionsInfo(scss=False, category='container', type='overflow', value='auto'), quarto_disable_processing=OptionsInfo(scss=False, category='quarto', type='logical', value=False), quarto_use_bootstrap=OptionsInfo(scss=False, category='quarto', type='logical', value=False)), _has_built=False)"
      ]
     },
     "execution_count": 50,
     "metadata": {},
     "output_type": "execute_result"
    }
   ],
   "source": [
    "percentiles = np.arange(5, 96, 5)\n",
    "\n",
    "percentile_values = np.percentile(category_vol.select('volume').collect(), percentiles)\n",
    "\n",
    "percentile_df = pl.DataFrame({'Percentile Level': percentiles,\n",
    "                              'Percentile': percentile_values})\n",
    "\n",
    "(\n",
    "    GT(percentile_df, rowname_col='Percentile Level')\n",
    "    .tab_header(title='Category Volume Percentile')\n",
    "    .tab_stubhead(label=\"Percentile Level\")\n",
    "    .fmt_number()\n",
    "    .data_color(\n",
    "        domain=[0, 15],\n",
    "        palette=['white', 'rebeccapurple']\n",
    "    )  \n",
    ")"
   ]
  },
  {
   "cell_type": "code",
   "execution_count": 51,
   "metadata": {},
   "outputs": [
    {
     "data": {
      "application/vnd.vegalite.v5+json": {
       "$schema": "https://vega.github.io/schema/vega-lite/v5.20.1.json",
       "config": {
        "view": {
         "continuousHeight": 300,
         "continuousWidth": 300
        }
       },
       "data": {
        "name": "data-4a3f45f2f73e9ba56a0ea5cb62408b98"
       },
       "datasets": {
        "data-4a3f45f2f73e9ba56a0ea5cb62408b98": [
         {
          "% of Total": 0.017052907739396588,
          "Frequency": 78,
          "cut": "11 - 12"
         },
         {
          "% of Total": 0.08854394403148229,
          "Frequency": 405,
          "cut": "5 - 6"
         },
         {
          "% of Total": 0.15325754263226934,
          "Frequency": 701,
          "cut": "2 - 3"
         },
         {
          "% of Total": 0.03694796676869261,
          "Frequency": 169,
          "cut": "8 - 9"
         },
         {
          "% of Total": 0.027984258854394404,
          "Frequency": 128,
          "cut": "9 - 10"
         },
         {
          "% of Total": 0.1471359860078706,
          "Frequency": 673,
          "cut": "3 - 4"
         },
         {
          "% of Total": 0.07280279842588544,
          "Frequency": 333,
          "cut": "6 - 7"
         },
         {
          "% of Total": 0.05181460428508964,
          "Frequency": 237,
          "cut": "12 - ∞"
         },
         {
          "% of Total": 0.052470485351989504,
          "Frequency": 240,
          "cut": "0 - 1"
         },
         {
          "% of Total": 0.02055094009619589,
          "Frequency": 94,
          "cut": "10 - 11"
         },
         {
          "% of Total": 0.16724967205946656,
          "Frequency": 765,
          "cut": "1 - 2"
         },
         {
          "% of Total": 0.10887625710537822,
          "Frequency": 498,
          "cut": "4 - 5"
         },
         {
          "% of Total": 0.055312636641888936,
          "Frequency": 253,
          "cut": "7 - 8"
         }
        ]
       },
       "encoding": {
        "x": {
         "axis": {
          "labelAngle": 0,
          "title": "Category Volume Purchase ($)"
         },
         "field": "cut",
         "sort": [
          "-1 - 0",
          "0 - 1",
          "1 - 2",
          "2 - 3",
          "3 - 4",
          "4 - 5",
          "5 - 6",
          "6 - 7",
          "7 - 8",
          "8 - 9",
          "9 - 10",
          "10 - 11",
          "11 - 12",
          "12 - ∞"
         ],
         "type": "ordinal"
        },
        "y": {
         "axis": {
          "format": ".0%",
          "title": "% of Households"
         },
         "field": "% of Total",
         "type": "quantitative"
        }
       },
       "height": 250,
       "mark": {
        "type": "bar"
       },
       "title": {
        "subtitle": "Distribution of category volume purchases across category buyers",
        "text": "Category Volume Purchase Distribution (%)"
       },
       "width": 650
      },
      "text/plain": [
       "<VegaLite 5 object>\n",
       "\n",
       "If you see this message, it means the renderer has not been properly enabled\n",
       "for the frontend that you are using. For more information, see\n",
       "https://altair-viz.github.io/user_guide/display_frontends.html#troubleshooting\n"
      ]
     },
     "metadata": {},
     "output_type": "display_data"
    }
   ],
   "source": [
    "labels = [f\"{lb} - {lb + 1 if lb != 12 else '∞'}\" for lb in range(-1, 13, 1)]\n",
    "chart = freq_dist_plot(\n",
    "    data=category_vol,\n",
    "    column=\"volume\",\n",
    "    bin_edges=np.arange(0, 13, 1),\n",
    "    labels=labels,\n",
    "    x_title=\"Category Volume Purchase ($)\",\n",
    "    y_title=\"% of Households\",\n",
    "    chart_title=\"Category Volume Purchase Distribution (%)\",\n",
    "    subtitle=\"Distribution of category volume purchases across category buyers\"\n",
    ")\n",
    "chart.show()"
   ]
  },
  {
   "cell_type": "markdown",
   "metadata": {},
   "source": [
    "##### Distribution of Brand Volume Purchase Frequency"
   ]
  },
  {
   "cell_type": "code",
   "execution_count": 52,
   "metadata": {},
   "outputs": [
    {
     "data": {
      "text/html": [
       "<div><style>\n",
       ".dataframe > thead > tr,\n",
       ".dataframe > tbody > tr {\n",
       "  text-align: right;\n",
       "  white-space: pre-wrap;\n",
       "}\n",
       "</style>\n",
       "<small>shape: (9, 2)</small><table border=\"1\" class=\"dataframe\"><thead><tr><th>statistic</th><th>volume</th></tr><tr><td>str</td><td>f64</td></tr></thead><tbody><tr><td>&quot;count&quot;</td><td>2624.0</td></tr><tr><td>&quot;null_count&quot;</td><td>0.0</td></tr><tr><td>&quot;mean&quot;</td><td>3.493236</td></tr><tr><td>&quot;std&quot;</td><td>3.350901</td></tr><tr><td>&quot;min&quot;</td><td>0.25</td></tr><tr><td>&quot;25%&quot;</td><td>1.0</td></tr><tr><td>&quot;50%&quot;</td><td>2.5</td></tr><tr><td>&quot;75%&quot;</td><td>5.0</td></tr><tr><td>&quot;max&quot;</td><td>27.55</td></tr></tbody></table></div>"
      ],
      "text/plain": [
       "shape: (9, 2)\n",
       "┌────────────┬──────────┐\n",
       "│ statistic  ┆ volume   │\n",
       "│ ---        ┆ ---      │\n",
       "│ str        ┆ f64      │\n",
       "╞════════════╪══════════╡\n",
       "│ count      ┆ 2624.0   │\n",
       "│ null_count ┆ 0.0      │\n",
       "│ mean       ┆ 3.493236 │\n",
       "│ std        ┆ 3.350901 │\n",
       "│ min        ┆ 0.25     │\n",
       "│ 25%        ┆ 1.0      │\n",
       "│ 50%        ┆ 2.5      │\n",
       "│ 75%        ┆ 5.0      │\n",
       "│ max        ┆ 27.55    │\n",
       "└────────────┴──────────┘"
      ]
     },
     "execution_count": 52,
     "metadata": {},
     "output_type": "execute_result"
    }
   ],
   "source": [
    "alpha_vol = vol_summary('Alpha', grocery_lf, 1).drop('panel_id')\n",
    "\n",
    "alpha_vol.describe()"
   ]
  },
  {
   "cell_type": "code",
   "execution_count": 53,
   "metadata": {},
   "outputs": [
    {
     "data": {
      "text/html": [
       "<div id=\"zaumetljob\" style=\"padding-left:0px;padding-right:0px;padding-top:10px;padding-bottom:10px;overflow-x:auto;overflow-y:auto;width:auto;height:auto;\">\n",
       "<style>\n",
       "#zaumetljob table {\n",
       "          font-family: -apple-system, BlinkMacSystemFont, 'Segoe UI', Roboto, Oxygen, Ubuntu, Cantarell, 'Helvetica Neue', 'Fira Sans', 'Droid Sans', Arial, sans-serif;\n",
       "          -webkit-font-smoothing: antialiased;\n",
       "          -moz-osx-font-smoothing: grayscale;\n",
       "        }\n",
       "\n",
       "#zaumetljob thead, tbody, tfoot, tr, td, th { border-style: none !important; }\n",
       " tr { background-color: transparent !important; }\n",
       "#zaumetljob p { margin: 0 !important; padding: 0 !important; }\n",
       " #zaumetljob .gt_table { display: table !important; border-collapse: collapse !important; line-height: normal !important; margin-left: auto !important; margin-right: auto !important; color: #333333 !important; font-size: 16px !important; font-weight: normal !important; font-style: normal !important; background-color: #FFFFFF !important; width: auto !important; border-top-style: solid !important; border-top-width: 2px !important; border-top-color: #A8A8A8 !important; border-right-style: none !important; border-right-width: 2px !important; border-right-color: #D3D3D3 !important; border-bottom-style: solid !important; border-bottom-width: 2px !important; border-bottom-color: #A8A8A8 !important; border-left-style: none !important; border-left-width: 2px !important; border-left-color: #D3D3D3 !important; }\n",
       " #zaumetljob .gt_caption { padding-top: 4px !important; padding-bottom: 4px !important; }\n",
       " #zaumetljob .gt_title { color: #333333 !important; font-size: 125% !important; font-weight: initial !important; padding-top: 4px !important; padding-bottom: 4px !important; padding-left: 5px !important; padding-right: 5px !important; border-bottom-color: #FFFFFF !important; border-bottom-width: 0 !important; }\n",
       " #zaumetljob .gt_subtitle { color: #333333 !important; font-size: 85% !important; font-weight: initial !important; padding-top: 3px !important; padding-bottom: 5px !important; padding-left: 5px !important; padding-right: 5px !important; border-top-color: #FFFFFF !important; border-top-width: 0 !important; }\n",
       " #zaumetljob .gt_heading { background-color: #FFFFFF !important; text-align: center !important; border-bottom-color: #FFFFFF !important; border-left-style: none !important; border-left-width: 1px !important; border-left-color: #D3D3D3 !important; border-right-style: none !important; border-right-width: 1px !important; border-right-color: #D3D3D3 !important; }\n",
       " #zaumetljob .gt_bottom_border { border-bottom-style: solid !important; border-bottom-width: 2px !important; border-bottom-color: #D3D3D3 !important; }\n",
       " #zaumetljob .gt_col_headings { border-top-style: solid !important; border-top-width: 2px !important; border-top-color: #D3D3D3 !important; border-bottom-style: solid !important; border-bottom-width: 2px !important; border-bottom-color: #D3D3D3 !important; border-left-style: none !important; border-left-width: 1px !important; border-left-color: #D3D3D3 !important; border-right-style: none !important; border-right-width: 1px !important; border-right-color: #D3D3D3 !important; }\n",
       " #zaumetljob .gt_col_heading { color: #333333 !important; background-color: #FFFFFF !important; font-size: 100% !important; font-weight: normal !important; text-transform: inherit !important; border-left-style: none !important; border-left-width: 1px !important; border-left-color: #D3D3D3 !important; border-right-style: none !important; border-right-width: 1px !important; border-right-color: #D3D3D3 !important; vertical-align: bottom !important; padding-top: 5px !important; padding-bottom: 5px !important; padding-left: 5px !important; padding-right: 5px !important; overflow-x: hidden !important; }\n",
       " #zaumetljob .gt_column_spanner_outer { color: #333333 !important; background-color: #FFFFFF !important; font-size: 100% !important; font-weight: normal !important; text-transform: inherit !important; padding-top: 0 !important; padding-bottom: 0 !important; padding-left: 4px !important; padding-right: 4px !important; }\n",
       " #zaumetljob .gt_column_spanner_outer:first-child { padding-left: 0 !important; }\n",
       " #zaumetljob .gt_column_spanner_outer:last-child { padding-right: 0 !important; }\n",
       " #zaumetljob .gt_column_spanner { border-bottom-style: solid !important; border-bottom-width: 2px !important; border-bottom-color: #D3D3D3 !important; vertical-align: bottom !important; padding-top: 5px !important; padding-bottom: 5px !important; overflow-x: hidden !important; display: inline-block !important; width: 100% !important; }\n",
       " #zaumetljob .gt_spanner_row { border-bottom-style: hidden !important; }\n",
       " #zaumetljob .gt_group_heading { padding-top: 8px !important; padding-bottom: 8px !important; padding-left: 5px !important; padding-right: 5px !important; color: #333333 !important; background-color: #FFFFFF !important; font-size: 100% !important; font-weight: initial !important; text-transform: inherit !important; border-top-style: solid !important; border-top-width: 2px !important; border-top-color: #D3D3D3 !important; border-bottom-style: solid !important; border-bottom-width: 2px !important; border-bottom-color: #D3D3D3 !important; border-left-style: none !important; border-left-width: 1px !important; border-left-color: #D3D3D3 !important; border-right-style: none !important; border-right-width: 1px !important; border-right-color: #D3D3D3 !important; vertical-align: middle !important; text-align: left !important; }\n",
       " #zaumetljob .gt_empty_group_heading { padding: 0.5px !important; color: #333333 !important; background-color: #FFFFFF !important; font-size: 100% !important; font-weight: initial !important; border-top-style: solid !important; border-top-width: 2px !important; border-top-color: #D3D3D3 !important; border-bottom-style: solid !important; border-bottom-width: 2px !important; border-bottom-color: #D3D3D3 !important; vertical-align: middle !important; }\n",
       " #zaumetljob .gt_from_md> :first-child { margin-top: 0 !important; }\n",
       " #zaumetljob .gt_from_md> :last-child { margin-bottom: 0 !important; }\n",
       " #zaumetljob .gt_row { padding-top: 8px !important; padding-bottom: 8px !important; padding-left: 5px !important; padding-right: 5px !important; margin: 10px !important; border-top-style: solid !important; border-top-width: 1px !important; border-top-color: #D3D3D3 !important; border-left-style: none !important; border-left-width: 1px !important; border-left-color: #D3D3D3 !important; border-right-style: none !important; border-right-width: 1px !important; border-right-color: #D3D3D3 !important; vertical-align: middle !important; overflow-x: hidden !important; }\n",
       " #zaumetljob .gt_stub { color: #333333 !important; background-color: #FFFFFF !important; font-size: 100% !important; font-weight: initial !important; text-transform: inherit !important; border-right-style: solid !important; border-right-width: 2px !important; border-right-color: #D3D3D3 !important; padding-left: 5px !important; padding-right: 5px !important; }\n",
       " #zaumetljob .gt_stub_row_group { color: #333333 !important; background-color: #FFFFFF !important; font-size: 100% !important; font-weight: initial !important; text-transform: inherit !important; border-right-style: solid !important; border-right-width: 2px !important; border-right-color: #D3D3D3 !important; padding-left: 5px !important; padding-right: 5px !important; vertical-align: top !important; }\n",
       " #zaumetljob .gt_row_group_first td { border-top-width: 2px !important; }\n",
       " #zaumetljob .gt_row_group_first th { border-top-width: 2px !important; }\n",
       " #zaumetljob .gt_striped { background-color: rgba(128,128,128,0.05) !important; }\n",
       " #zaumetljob .gt_table_body { border-top-style: solid !important; border-top-width: 2px !important; border-top-color: #D3D3D3 !important; border-bottom-style: solid !important; border-bottom-width: 2px !important; border-bottom-color: #D3D3D3 !important; }\n",
       " #zaumetljob .gt_sourcenotes { color: #333333 !important; background-color: #FFFFFF !important; border-bottom-style: none !important; border-bottom-width: 2px !important; border-bottom-color: #D3D3D3 !important; border-left-style: none !important; border-left-width: 2px !important; border-left-color: #D3D3D3 !important; border-right-style: none !important; border-right-width: 2px !important; border-right-color: #D3D3D3 !important; }\n",
       " #zaumetljob .gt_sourcenote { font-size: 90% !important; padding-top: 4px !important; padding-bottom: 4px !important; padding-left: 5px !important; padding-right: 5px !important; text-align: left !important; }\n",
       " #zaumetljob .gt_left { text-align: left !important; }\n",
       " #zaumetljob .gt_center { text-align: center !important; }\n",
       " #zaumetljob .gt_right { text-align: right !important; font-variant-numeric: tabular-nums !important; }\n",
       " #zaumetljob .gt_font_normal { font-weight: normal !important; }\n",
       " #zaumetljob .gt_font_bold { font-weight: bold !important; }\n",
       " #zaumetljob .gt_font_italic { font-style: italic !important; }\n",
       " #zaumetljob .gt_super { font-size: 65% !important; }\n",
       " #zaumetljob .gt_footnote_marks { font-size: 75% !important; vertical-align: 0.4em !important; position: initial !important; }\n",
       " #zaumetljob .gt_asterisk { font-size: 100% !important; vertical-align: 0 !important; }\n",
       " \n",
       "</style>\n",
       "<table class=\"gt_table\" data-quarto-disable-processing=\"false\" data-quarto-bootstrap=\"false\">\n",
       "<thead>\n",
       "\n",
       "  <tr class=\"gt_heading\">\n",
       "    <td colspan=\"2\" class=\"gt_heading gt_title gt_font_normal\">Alpha Volume Percentile</td>\n",
       "  </tr>\n",
       "<tr class=\"gt_col_headings\">\n",
       "  <th class=\"gt_col_heading gt_columns_bottom_border gt_left\" rowspan=\"1\" colspan=\"1\" scope=\"col\" id=\"Percentile Level\">Percentile Level</th>\n",
       "  <th class=\"gt_col_heading gt_columns_bottom_border gt_right\" rowspan=\"1\" colspan=\"1\" scope=\"col\" id=\"Percentile\">Percentile</th>\n",
       "</tr>\n",
       "</thead>\n",
       "<tbody class=\"gt_table_body\">\n",
       "  <tr>\n",
       "    <th style=\"color: #000000; background-color: #ccbbdd;\" class=\"gt_row gt_left gt_stub\">5</th>\n",
       "    <td style=\"color: #000000; background-color: #faf8fc;\" class=\"gt_row gt_right\">0.50</td>\n",
       "  </tr>\n",
       "  <tr>\n",
       "    <th style=\"color: #000000; background-color: #9977bb;\" class=\"gt_row gt_left gt_stub\">10</th>\n",
       "    <td style=\"color: #000000; background-color: #faf8fc;\" class=\"gt_row gt_right\">0.50</td>\n",
       "  </tr>\n",
       "  <tr>\n",
       "    <th style=\"color: #FFFFFF; background-color: #663399;\" class=\"gt_row gt_left gt_stub\">15</th>\n",
       "    <td style=\"color: #000000; background-color: #f5f1f8;\" class=\"gt_row gt_right\">1.00</td>\n",
       "  </tr>\n",
       "  <tr>\n",
       "    <th style=\"color: #000000; background-color: #808080;\" class=\"gt_row gt_left gt_stub\">20</th>\n",
       "    <td style=\"color: #000000; background-color: #f5f1f8;\" class=\"gt_row gt_right\">1.00</td>\n",
       "  </tr>\n",
       "  <tr>\n",
       "    <th style=\"color: #000000; background-color: #808080;\" class=\"gt_row gt_left gt_stub\">25</th>\n",
       "    <td style=\"color: #000000; background-color: #f5f1f8;\" class=\"gt_row gt_right\">1.00</td>\n",
       "  </tr>\n",
       "  <tr>\n",
       "    <th style=\"color: #000000; background-color: #808080;\" class=\"gt_row gt_left gt_stub\">30</th>\n",
       "    <td style=\"color: #000000; background-color: #f4f0f8;\" class=\"gt_row gt_right\">1.10</td>\n",
       "  </tr>\n",
       "  <tr>\n",
       "    <th style=\"color: #000000; background-color: #808080;\" class=\"gt_row gt_left gt_stub\">35</th>\n",
       "    <td style=\"color: #000000; background-color: #efeaf4;\" class=\"gt_row gt_right\">1.55</td>\n",
       "  </tr>\n",
       "  <tr>\n",
       "    <th style=\"color: #000000; background-color: #808080;\" class=\"gt_row gt_left gt_stub\">40</th>\n",
       "    <td style=\"color: #000000; background-color: #ebe4f1;\" class=\"gt_row gt_right\">2.00</td>\n",
       "  </tr>\n",
       "  <tr>\n",
       "    <th style=\"color: #000000; background-color: #808080;\" class=\"gt_row gt_left gt_stub\">45</th>\n",
       "    <td style=\"color: #000000; background-color: #ebe4f1;\" class=\"gt_row gt_right\">2.00</td>\n",
       "  </tr>\n",
       "  <tr>\n",
       "    <th style=\"color: #000000; background-color: #808080;\" class=\"gt_row gt_left gt_stub\">50</th>\n",
       "    <td style=\"color: #000000; background-color: #e6ddee;\" class=\"gt_row gt_right\">2.50</td>\n",
       "  </tr>\n",
       "  <tr>\n",
       "    <th style=\"color: #000000; background-color: #808080;\" class=\"gt_row gt_left gt_stub\">55</th>\n",
       "    <td style=\"color: #000000; background-color: #e0d6eb;\" class=\"gt_row gt_right\">3.00</td>\n",
       "  </tr>\n",
       "  <tr>\n",
       "    <th style=\"color: #000000; background-color: #808080;\" class=\"gt_row gt_left gt_stub\">60</th>\n",
       "    <td style=\"color: #000000; background-color: #e0d6eb;\" class=\"gt_row gt_right\">3.00</td>\n",
       "  </tr>\n",
       "  <tr>\n",
       "    <th style=\"color: #000000; background-color: #808080;\" class=\"gt_row gt_left gt_stub\">65</th>\n",
       "    <td style=\"color: #000000; background-color: #dbcfe7;\" class=\"gt_row gt_right\">3.50</td>\n",
       "  </tr>\n",
       "  <tr>\n",
       "    <th style=\"color: #000000; background-color: #808080;\" class=\"gt_row gt_left gt_stub\">70</th>\n",
       "    <td style=\"color: #000000; background-color: #d6c9e4;\" class=\"gt_row gt_right\">4.00</td>\n",
       "  </tr>\n",
       "  <tr>\n",
       "    <th style=\"color: #000000; background-color: #808080;\" class=\"gt_row gt_left gt_stub\">75</th>\n",
       "    <td style=\"color: #000000; background-color: #ccbbdd;\" class=\"gt_row gt_right\">5.00</td>\n",
       "  </tr>\n",
       "  <tr>\n",
       "    <th style=\"color: #000000; background-color: #808080;\" class=\"gt_row gt_left gt_stub\">80</th>\n",
       "    <td style=\"color: #000000; background-color: #c7b4da;\" class=\"gt_row gt_right\">5.50</td>\n",
       "  </tr>\n",
       "  <tr>\n",
       "    <th style=\"color: #000000; background-color: #808080;\" class=\"gt_row gt_left gt_stub\">85</th>\n",
       "    <td style=\"color: #000000; background-color: #bea9d4;\" class=\"gt_row gt_right\">6.35</td>\n",
       "  </tr>\n",
       "  <tr>\n",
       "    <th style=\"color: #000000; background-color: #808080;\" class=\"gt_row gt_left gt_stub\">90</th>\n",
       "    <td style=\"color: #000000; background-color: #ad92c9;\" class=\"gt_row gt_right\">8.00</td>\n",
       "  </tr>\n",
       "  <tr>\n",
       "    <th style=\"color: #000000; background-color: #808080;\" class=\"gt_row gt_left gt_stub\">95</th>\n",
       "    <td style=\"color: #000000; background-color: #9977bb;\" class=\"gt_row gt_right\">10.00</td>\n",
       "  </tr>\n",
       "</tbody>\n",
       "\n",
       "\n",
       "</table>\n",
       "\n",
       "</div>\n",
       "        "
      ],
      "text/plain": [
       "GT(_tbl_data=shape: (19, 2)\n",
       "┌──────────────────┬────────────┐\n",
       "│ Percentile Level ┆ Percentile │\n",
       "│ ---              ┆ ---        │\n",
       "│ i32              ┆ f64        │\n",
       "╞══════════════════╪════════════╡\n",
       "│ 5                ┆ 0.5        │\n",
       "│ 10               ┆ 0.5        │\n",
       "│ 15               ┆ 1.0        │\n",
       "│ 20               ┆ 1.0        │\n",
       "│ 25               ┆ 1.0        │\n",
       "│ …                ┆ …          │\n",
       "│ 75               ┆ 5.0        │\n",
       "│ 80               ┆ 5.5        │\n",
       "│ 85               ┆ 6.35       │\n",
       "│ 90               ┆ 8.0        │\n",
       "│ 95               ┆ 10.0       │\n",
       "└──────────────────┴────────────┘, _body=<great_tables._gt_data.Body object at 0x000001EFEC0477D0>, _boxhead=Boxhead([ColInfo(var='Percentile Level', type=<ColInfoTypeEnum.stub: 2>, column_label='Percentile Level', column_align='right', column_width=None), ColInfo(var='Percentile', type=<ColInfoTypeEnum.default: 1>, column_label='Percentile', column_align='right', column_width=None)]), _stub=<great_tables._gt_data.Stub object at 0x000001EFEC01A120>, _spanners=Spanners([]), _heading=Heading(title='Alpha Volume Percentile', subtitle=None, preheader=None), _stubhead='Percentile Level', _source_notes=[], _footnotes=[], _styles=[StyleInfo(locname=LocBody(columns='Percentile Level', rows=[0]), grpname=None, colname='Percentile Level', rownum=0, colnum=None, styles=[CellStyleText(color='#000000', font=None, size=None, align=None, v_align=None, style=None, weight=None, stretch=None, decorate=None, transform=None, whitespace=None), CellStyleFill(color='#ccbbdd')]), StyleInfo(locname=LocBody(columns='Percentile Level', rows=[1]), grpname=None, colname='Percentile Level', rownum=1, colnum=None, styles=[CellStyleText(color='#000000', font=None, size=None, align=None, v_align=None, style=None, weight=None, stretch=None, decorate=None, transform=None, whitespace=None), CellStyleFill(color='#9977bb')]), StyleInfo(locname=LocBody(columns='Percentile Level', rows=[2]), grpname=None, colname='Percentile Level', rownum=2, colnum=None, styles=[CellStyleText(color='#FFFFFF', font=None, size=None, align=None, v_align=None, style=None, weight=None, stretch=None, decorate=None, transform=None, whitespace=None), CellStyleFill(color='#663399')]), StyleInfo(locname=LocBody(columns='Percentile Level', rows=[3]), grpname=None, colname='Percentile Level', rownum=3, colnum=None, styles=[CellStyleText(color='#000000', font=None, size=None, align=None, v_align=None, style=None, weight=None, stretch=None, decorate=None, transform=None, whitespace=None), CellStyleFill(color='#808080')]), StyleInfo(locname=LocBody(columns='Percentile Level', rows=[4]), grpname=None, colname='Percentile Level', rownum=4, colnum=None, styles=[CellStyleText(color='#000000', font=None, size=None, align=None, v_align=None, style=None, weight=None, stretch=None, decorate=None, transform=None, whitespace=None), CellStyleFill(color='#808080')]), StyleInfo(locname=LocBody(columns='Percentile Level', rows=[5]), grpname=None, colname='Percentile Level', rownum=5, colnum=None, styles=[CellStyleText(color='#000000', font=None, size=None, align=None, v_align=None, style=None, weight=None, stretch=None, decorate=None, transform=None, whitespace=None), CellStyleFill(color='#808080')]), StyleInfo(locname=LocBody(columns='Percentile Level', rows=[6]), grpname=None, colname='Percentile Level', rownum=6, colnum=None, styles=[CellStyleText(color='#000000', font=None, size=None, align=None, v_align=None, style=None, weight=None, stretch=None, decorate=None, transform=None, whitespace=None), CellStyleFill(color='#808080')]), StyleInfo(locname=LocBody(columns='Percentile Level', rows=[7]), grpname=None, colname='Percentile Level', rownum=7, colnum=None, styles=[CellStyleText(color='#000000', font=None, size=None, align=None, v_align=None, style=None, weight=None, stretch=None, decorate=None, transform=None, whitespace=None), CellStyleFill(color='#808080')]), StyleInfo(locname=LocBody(columns='Percentile Level', rows=[8]), grpname=None, colname='Percentile Level', rownum=8, colnum=None, styles=[CellStyleText(color='#000000', font=None, size=None, align=None, v_align=None, style=None, weight=None, stretch=None, decorate=None, transform=None, whitespace=None), CellStyleFill(color='#808080')]), StyleInfo(locname=LocBody(columns='Percentile Level', rows=[9]), grpname=None, colname='Percentile Level', rownum=9, colnum=None, styles=[CellStyleText(color='#000000', font=None, size=None, align=None, v_align=None, style=None, weight=None, stretch=None, decorate=None, transform=None, whitespace=None), CellStyleFill(color='#808080')]), StyleInfo(locname=LocBody(columns='Percentile Level', rows=[10]), grpname=None, colname='Percentile Level', rownum=10, colnum=None, styles=[CellStyleText(color='#000000', font=None, size=None, align=None, v_align=None, style=None, weight=None, stretch=None, decorate=None, transform=None, whitespace=None), CellStyleFill(color='#808080')]), StyleInfo(locname=LocBody(columns='Percentile Level', rows=[11]), grpname=None, colname='Percentile Level', rownum=11, colnum=None, styles=[CellStyleText(color='#000000', font=None, size=None, align=None, v_align=None, style=None, weight=None, stretch=None, decorate=None, transform=None, whitespace=None), CellStyleFill(color='#808080')]), StyleInfo(locname=LocBody(columns='Percentile Level', rows=[12]), grpname=None, colname='Percentile Level', rownum=12, colnum=None, styles=[CellStyleText(color='#000000', font=None, size=None, align=None, v_align=None, style=None, weight=None, stretch=None, decorate=None, transform=None, whitespace=None), CellStyleFill(color='#808080')]), StyleInfo(locname=LocBody(columns='Percentile Level', rows=[13]), grpname=None, colname='Percentile Level', rownum=13, colnum=None, styles=[CellStyleText(color='#000000', font=None, size=None, align=None, v_align=None, style=None, weight=None, stretch=None, decorate=None, transform=None, whitespace=None), CellStyleFill(color='#808080')]), StyleInfo(locname=LocBody(columns='Percentile Level', rows=[14]), grpname=None, colname='Percentile Level', rownum=14, colnum=None, styles=[CellStyleText(color='#000000', font=None, size=None, align=None, v_align=None, style=None, weight=None, stretch=None, decorate=None, transform=None, whitespace=None), CellStyleFill(color='#808080')]), StyleInfo(locname=LocBody(columns='Percentile Level', rows=[15]), grpname=None, colname='Percentile Level', rownum=15, colnum=None, styles=[CellStyleText(color='#000000', font=None, size=None, align=None, v_align=None, style=None, weight=None, stretch=None, decorate=None, transform=None, whitespace=None), CellStyleFill(color='#808080')]), StyleInfo(locname=LocBody(columns='Percentile Level', rows=[16]), grpname=None, colname='Percentile Level', rownum=16, colnum=None, styles=[CellStyleText(color='#000000', font=None, size=None, align=None, v_align=None, style=None, weight=None, stretch=None, decorate=None, transform=None, whitespace=None), CellStyleFill(color='#808080')]), StyleInfo(locname=LocBody(columns='Percentile Level', rows=[17]), grpname=None, colname='Percentile Level', rownum=17, colnum=None, styles=[CellStyleText(color='#000000', font=None, size=None, align=None, v_align=None, style=None, weight=None, stretch=None, decorate=None, transform=None, whitespace=None), CellStyleFill(color='#808080')]), StyleInfo(locname=LocBody(columns='Percentile Level', rows=[18]), grpname=None, colname='Percentile Level', rownum=18, colnum=None, styles=[CellStyleText(color='#000000', font=None, size=None, align=None, v_align=None, style=None, weight=None, stretch=None, decorate=None, transform=None, whitespace=None), CellStyleFill(color='#808080')]), StyleInfo(locname=LocBody(columns='Percentile', rows=[0]), grpname=None, colname='Percentile', rownum=0, colnum=None, styles=[CellStyleText(color='#000000', font=None, size=None, align=None, v_align=None, style=None, weight=None, stretch=None, decorate=None, transform=None, whitespace=None), CellStyleFill(color='#faf8fc')]), StyleInfo(locname=LocBody(columns='Percentile', rows=[1]), grpname=None, colname='Percentile', rownum=1, colnum=None, styles=[CellStyleText(color='#000000', font=None, size=None, align=None, v_align=None, style=None, weight=None, stretch=None, decorate=None, transform=None, whitespace=None), CellStyleFill(color='#faf8fc')]), StyleInfo(locname=LocBody(columns='Percentile', rows=[2]), grpname=None, colname='Percentile', rownum=2, colnum=None, styles=[CellStyleText(color='#000000', font=None, size=None, align=None, v_align=None, style=None, weight=None, stretch=None, decorate=None, transform=None, whitespace=None), CellStyleFill(color='#f5f1f8')]), StyleInfo(locname=LocBody(columns='Percentile', rows=[3]), grpname=None, colname='Percentile', rownum=3, colnum=None, styles=[CellStyleText(color='#000000', font=None, size=None, align=None, v_align=None, style=None, weight=None, stretch=None, decorate=None, transform=None, whitespace=None), CellStyleFill(color='#f5f1f8')]), StyleInfo(locname=LocBody(columns='Percentile', rows=[4]), grpname=None, colname='Percentile', rownum=4, colnum=None, styles=[CellStyleText(color='#000000', font=None, size=None, align=None, v_align=None, style=None, weight=None, stretch=None, decorate=None, transform=None, whitespace=None), CellStyleFill(color='#f5f1f8')]), StyleInfo(locname=LocBody(columns='Percentile', rows=[5]), grpname=None, colname='Percentile', rownum=5, colnum=None, styles=[CellStyleText(color='#000000', font=None, size=None, align=None, v_align=None, style=None, weight=None, stretch=None, decorate=None, transform=None, whitespace=None), CellStyleFill(color='#f4f0f8')]), StyleInfo(locname=LocBody(columns='Percentile', rows=[6]), grpname=None, colname='Percentile', rownum=6, colnum=None, styles=[CellStyleText(color='#000000', font=None, size=None, align=None, v_align=None, style=None, weight=None, stretch=None, decorate=None, transform=None, whitespace=None), CellStyleFill(color='#efeaf4')]), StyleInfo(locname=LocBody(columns='Percentile', rows=[7]), grpname=None, colname='Percentile', rownum=7, colnum=None, styles=[CellStyleText(color='#000000', font=None, size=None, align=None, v_align=None, style=None, weight=None, stretch=None, decorate=None, transform=None, whitespace=None), CellStyleFill(color='#ebe4f1')]), StyleInfo(locname=LocBody(columns='Percentile', rows=[8]), grpname=None, colname='Percentile', rownum=8, colnum=None, styles=[CellStyleText(color='#000000', font=None, size=None, align=None, v_align=None, style=None, weight=None, stretch=None, decorate=None, transform=None, whitespace=None), CellStyleFill(color='#ebe4f1')]), StyleInfo(locname=LocBody(columns='Percentile', rows=[9]), grpname=None, colname='Percentile', rownum=9, colnum=None, styles=[CellStyleText(color='#000000', font=None, size=None, align=None, v_align=None, style=None, weight=None, stretch=None, decorate=None, transform=None, whitespace=None), CellStyleFill(color='#e6ddee')]), StyleInfo(locname=LocBody(columns='Percentile', rows=[10]), grpname=None, colname='Percentile', rownum=10, colnum=None, styles=[CellStyleText(color='#000000', font=None, size=None, align=None, v_align=None, style=None, weight=None, stretch=None, decorate=None, transform=None, whitespace=None), CellStyleFill(color='#e0d6eb')]), StyleInfo(locname=LocBody(columns='Percentile', rows=[11]), grpname=None, colname='Percentile', rownum=11, colnum=None, styles=[CellStyleText(color='#000000', font=None, size=None, align=None, v_align=None, style=None, weight=None, stretch=None, decorate=None, transform=None, whitespace=None), CellStyleFill(color='#e0d6eb')]), StyleInfo(locname=LocBody(columns='Percentile', rows=[12]), grpname=None, colname='Percentile', rownum=12, colnum=None, styles=[CellStyleText(color='#000000', font=None, size=None, align=None, v_align=None, style=None, weight=None, stretch=None, decorate=None, transform=None, whitespace=None), CellStyleFill(color='#dbcfe7')]), StyleInfo(locname=LocBody(columns='Percentile', rows=[13]), grpname=None, colname='Percentile', rownum=13, colnum=None, styles=[CellStyleText(color='#000000', font=None, size=None, align=None, v_align=None, style=None, weight=None, stretch=None, decorate=None, transform=None, whitespace=None), CellStyleFill(color='#d6c9e4')]), StyleInfo(locname=LocBody(columns='Percentile', rows=[14]), grpname=None, colname='Percentile', rownum=14, colnum=None, styles=[CellStyleText(color='#000000', font=None, size=None, align=None, v_align=None, style=None, weight=None, stretch=None, decorate=None, transform=None, whitespace=None), CellStyleFill(color='#ccbbdd')]), StyleInfo(locname=LocBody(columns='Percentile', rows=[15]), grpname=None, colname='Percentile', rownum=15, colnum=None, styles=[CellStyleText(color='#000000', font=None, size=None, align=None, v_align=None, style=None, weight=None, stretch=None, decorate=None, transform=None, whitespace=None), CellStyleFill(color='#c7b4da')]), StyleInfo(locname=LocBody(columns='Percentile', rows=[16]), grpname=None, colname='Percentile', rownum=16, colnum=None, styles=[CellStyleText(color='#000000', font=None, size=None, align=None, v_align=None, style=None, weight=None, stretch=None, decorate=None, transform=None, whitespace=None), CellStyleFill(color='#bea9d4')]), StyleInfo(locname=LocBody(columns='Percentile', rows=[17]), grpname=None, colname='Percentile', rownum=17, colnum=None, styles=[CellStyleText(color='#000000', font=None, size=None, align=None, v_align=None, style=None, weight=None, stretch=None, decorate=None, transform=None, whitespace=None), CellStyleFill(color='#ad92c9')]), StyleInfo(locname=LocBody(columns='Percentile', rows=[18]), grpname=None, colname='Percentile', rownum=18, colnum=None, styles=[CellStyleText(color='#000000', font=None, size=None, align=None, v_align=None, style=None, weight=None, stretch=None, decorate=None, transform=None, whitespace=None), CellStyleFill(color='#9977bb')])], _locale=<great_tables._gt_data.Locale object at 0x000001EFEC02AC30>, _formats=[<great_tables._gt_data.FormatInfo object at 0x000001EFEC046A80>], _substitutions=[], _options=Options(table_id=OptionsInfo(scss=False, category='table', type='value', value=None), table_caption=OptionsInfo(scss=False, category='table', type='value', value=None), table_width=OptionsInfo(scss=True, category='table', type='px', value='auto'), table_layout=OptionsInfo(scss=True, category='table', type='value', value='fixed'), table_margin_left=OptionsInfo(scss=True, category='table', type='px', value='auto'), table_margin_right=OptionsInfo(scss=True, category='table', type='px', value='auto'), table_background_color=OptionsInfo(scss=True, category='table', type='value', value='#FFFFFF'), table_additional_css=OptionsInfo(scss=False, category='table', type='values', value=[]), table_font_names=OptionsInfo(scss=False, category='table', type='values', value=['-apple-system', 'BlinkMacSystemFont', 'Segoe UI', 'Roboto', 'Oxygen', 'Ubuntu', 'Cantarell', 'Helvetica Neue', 'Fira Sans', 'Droid Sans', 'Arial', 'sans-serif']), table_font_size=OptionsInfo(scss=True, category='table', type='px', value='16px'), table_font_weight=OptionsInfo(scss=True, category='table', type='value', value='normal'), table_font_style=OptionsInfo(scss=True, category='table', type='value', value='normal'), table_font_color=OptionsInfo(scss=True, category='table', type='value', value='#333333'), table_font_color_light=OptionsInfo(scss=True, category='table', type='value', value='#FFFFFF'), table_border_top_include=OptionsInfo(scss=False, category='table', type='boolean', value=True), table_border_top_style=OptionsInfo(scss=True, category='table', type='value', value='solid'), table_border_top_width=OptionsInfo(scss=True, category='table', type='px', value='2px'), table_border_top_color=OptionsInfo(scss=True, category='table', type='value', value='#A8A8A8'), table_border_right_style=OptionsInfo(scss=True, category='table', type='value', value='none'), table_border_right_width=OptionsInfo(scss=True, category='table', type='px', value='2px'), table_border_right_color=OptionsInfo(scss=True, category='table', type='value', value='#D3D3D3'), table_border_bottom_include=OptionsInfo(scss=False, category='table', type='boolean', value=True), table_border_bottom_style=OptionsInfo(scss=True, category='table', type='value', value='solid'), table_border_bottom_width=OptionsInfo(scss=True, category='table', type='px', value='2px'), table_border_bottom_color=OptionsInfo(scss=True, category='table', type='value', value='#A8A8A8'), table_border_left_style=OptionsInfo(scss=True, category='table', type='value', value='none'), table_border_left_width=OptionsInfo(scss=True, category='table', type='px', value='2px'), table_border_left_color=OptionsInfo(scss=True, category='table', type='value', value='#D3D3D3'), heading_background_color=OptionsInfo(scss=True, category='heading', type='value', value=None), heading_align=OptionsInfo(scss=True, category='heading', type='value', value='center'), heading_title_font_size=OptionsInfo(scss=True, category='heading', type='px', value='125%'), heading_title_font_weight=OptionsInfo(scss=True, category='heading', type='value', value='initial'), heading_subtitle_font_size=OptionsInfo(scss=True, category='heading', type='px', value='85%'), heading_subtitle_font_weight=OptionsInfo(scss=True, category='heading', type='value', value='initial'), heading_padding=OptionsInfo(scss=True, category='heading', type='px', value='4px'), heading_padding_horizontal=OptionsInfo(scss=True, category='heading', type='px', value='5px'), heading_border_bottom_style=OptionsInfo(scss=True, category='heading', type='value', value='solid'), heading_border_bottom_width=OptionsInfo(scss=True, category='heading', type='px', value='2px'), heading_border_bottom_color=OptionsInfo(scss=True, category='heading', type='value', value='#D3D3D3'), heading_border_lr_style=OptionsInfo(scss=True, category='heading', type='value', value='none'), heading_border_lr_width=OptionsInfo(scss=True, category='heading', type='px', value='1px'), heading_border_lr_color=OptionsInfo(scss=True, category='heading', type='value', value='#D3D3D3'), column_labels_background_color=OptionsInfo(scss=True, category='column_labels', type='value', value=None), column_labels_font_size=OptionsInfo(scss=True, category='column_labels', type='px', value='100%'), column_labels_font_weight=OptionsInfo(scss=True, category='column_labels', type='value', value='normal'), column_labels_text_transform=OptionsInfo(scss=True, category='column_labels', type='value', value='inherit'), column_labels_padding=OptionsInfo(scss=True, category='column_labels', type='px', value='5px'), column_labels_padding_horizontal=OptionsInfo(scss=True, category='column_labels', type='px', value='5px'), column_labels_vlines_style=OptionsInfo(scss=True, category='table_body', type='value', value='none'), column_labels_vlines_width=OptionsInfo(scss=True, category='table_body', type='px', value='1px'), column_labels_vlines_color=OptionsInfo(scss=True, category='table_body', type='value', value='#D3D3D3'), column_labels_border_top_style=OptionsInfo(scss=True, category='column_labels', type='value', value='solid'), column_labels_border_top_width=OptionsInfo(scss=True, category='column_labels', type='px', value='2px'), column_labels_border_top_color=OptionsInfo(scss=True, category='column_labels', type='value', value='#D3D3D3'), column_labels_border_bottom_style=OptionsInfo(scss=True, category='column_labels', type='value', value='solid'), column_labels_border_bottom_width=OptionsInfo(scss=True, category='column_labels', type='px', value='2px'), column_labels_border_bottom_color=OptionsInfo(scss=True, category='column_labels', type='value', value='#D3D3D3'), column_labels_border_lr_style=OptionsInfo(scss=True, category='column_labels', type='value', value='none'), column_labels_border_lr_width=OptionsInfo(scss=True, category='column_labels', type='px', value='1px'), column_labels_border_lr_color=OptionsInfo(scss=True, category='column_labels', type='value', value='#D3D3D3'), column_labels_hidden=OptionsInfo(scss=False, category='column_labels', type='boolean', value=False), row_group_background_color=OptionsInfo(scss=True, category='row_group', type='value', value=None), row_group_font_size=OptionsInfo(scss=True, category='row_group', type='px', value='100%'), row_group_font_weight=OptionsInfo(scss=True, category='row_group', type='value', value='initial'), row_group_text_transform=OptionsInfo(scss=True, category='row_group', type='value', value='inherit'), row_group_padding=OptionsInfo(scss=True, category='row_group', type='px', value='8px'), row_group_padding_horizontal=OptionsInfo(scss=True, category='row_group', type='px', value='5px'), row_group_border_top_style=OptionsInfo(scss=True, category='row_group', type='value', value='solid'), row_group_border_top_width=OptionsInfo(scss=True, category='row_group', type='px', value='2px'), row_group_border_top_color=OptionsInfo(scss=True, category='row_group', type='value', value='#D3D3D3'), row_group_border_right_style=OptionsInfo(scss=True, category='row_group', type='value', value='none'), row_group_border_right_width=OptionsInfo(scss=True, category='row_group', type='px', value='1px'), row_group_border_right_color=OptionsInfo(scss=True, category='row_group', type='value', value='#D3D3D3'), row_group_border_bottom_style=OptionsInfo(scss=True, category='row_group', type='value', value='solid'), row_group_border_bottom_width=OptionsInfo(scss=True, category='row_group', type='px', value='2px'), row_group_border_bottom_color=OptionsInfo(scss=True, category='row_group', type='value', value='#D3D3D3'), row_group_border_left_style=OptionsInfo(scss=True, category='row_group', type='value', value='none'), row_group_border_left_width=OptionsInfo(scss=True, category='row_group', type='px', value='1px'), row_group_border_left_color=OptionsInfo(scss=True, category='row_group', type='value', value='#D3D3D3'), row_group_as_column=OptionsInfo(scss=False, category='row_group', type='boolean', value=False), table_body_hlines_style=OptionsInfo(scss=True, category='table_body', type='value', value='solid'), table_body_hlines_width=OptionsInfo(scss=True, category='table_body', type='px', value='1px'), table_body_hlines_color=OptionsInfo(scss=True, category='table_body', type='value', value='#D3D3D3'), table_body_vlines_style=OptionsInfo(scss=True, category='table_body', type='value', value='none'), table_body_vlines_width=OptionsInfo(scss=True, category='table_body', type='px', value='1px'), table_body_vlines_color=OptionsInfo(scss=True, category='table_body', type='value', value='#D3D3D3'), table_body_border_top_style=OptionsInfo(scss=True, category='table_body', type='value', value='solid'), table_body_border_top_width=OptionsInfo(scss=True, category='table_body', type='px', value='2px'), table_body_border_top_color=OptionsInfo(scss=True, category='table_body', type='value', value='#D3D3D3'), table_body_border_bottom_style=OptionsInfo(scss=True, category='table_body', type='value', value='solid'), table_body_border_bottom_width=OptionsInfo(scss=True, category='table_body', type='px', value='2px'), table_body_border_bottom_color=OptionsInfo(scss=True, category='table_body', type='value', value='#D3D3D3'), data_row_padding=OptionsInfo(scss=True, category='data_row', type='px', value='8px'), data_row_padding_horizontal=OptionsInfo(scss=True, category='data_row', type='px', value='5px'), stub_background_color=OptionsInfo(scss=True, category='stub', type='value', value=None), stub_font_size=OptionsInfo(scss=True, category='stub', type='px', value='100%'), stub_font_weight=OptionsInfo(scss=True, category='stub', type='value', value='initial'), stub_text_transform=OptionsInfo(scss=True, category='stub', type='value', value='inherit'), stub_border_style=OptionsInfo(scss=True, category='stub', type='value', value='solid'), stub_border_width=OptionsInfo(scss=True, category='stub', type='px', value='2px'), stub_border_color=OptionsInfo(scss=True, category='stub', type='value', value='#D3D3D3'), stub_row_group_background_color=OptionsInfo(scss=True, category='stub', type='value', value=None), stub_row_group_font_size=OptionsInfo(scss=True, category='stub', type='px', value='100%'), stub_row_group_font_weight=OptionsInfo(scss=True, category='stub', type='value', value='initial'), stub_row_group_text_transform=OptionsInfo(scss=True, category='stub', type='value', value='inherit'), stub_row_group_border_style=OptionsInfo(scss=True, category='stub', type='value', value='solid'), stub_row_group_border_width=OptionsInfo(scss=True, category='stub', type='px', value='2px'), stub_row_group_border_color=OptionsInfo(scss=True, category='stub', type='value', value='#D3D3D3'), source_notes_padding=OptionsInfo(scss=True, category='source_notes', type='px', value='4px'), source_notes_padding_horizontal=OptionsInfo(scss=True, category='source_notes', type='px', value='5px'), source_notes_background_color=OptionsInfo(scss=True, category='source_notes', type='value', value=None), source_notes_font_size=OptionsInfo(scss=True, category='source_notes', type='px', value='90%'), source_notes_border_bottom_style=OptionsInfo(scss=True, category='source_notes', type='value', value='none'), source_notes_border_bottom_width=OptionsInfo(scss=True, category='source_notes', type='px', value='2px'), source_notes_border_bottom_color=OptionsInfo(scss=True, category='source_notes', type='value', value='#D3D3D3'), source_notes_border_lr_style=OptionsInfo(scss=True, category='source_notes', type='value', value='none'), source_notes_border_lr_width=OptionsInfo(scss=True, category='source_notes', type='px', value='2px'), source_notes_border_lr_color=OptionsInfo(scss=True, category='source_notes', type='value', value='#D3D3D3'), source_notes_multiline=OptionsInfo(scss=False, category='source_notes', type='boolean', value=True), source_notes_sep=OptionsInfo(scss=False, category='source_notes', type='value', value=' '), row_striping_background_color=OptionsInfo(scss=True, category='row', type='value', value='rgba(128,128,128,0.05)'), row_striping_include_stub=OptionsInfo(scss=False, category='row', type='boolean', value=False), row_striping_include_table_body=OptionsInfo(scss=False, category='row', type='boolean', value=False), container_width=OptionsInfo(scss=False, category='container', type='px', value='auto'), container_height=OptionsInfo(scss=False, category='container', type='px', value='auto'), container_padding_x=OptionsInfo(scss=False, category='container', type='px', value='0px'), container_padding_y=OptionsInfo(scss=False, category='container', type='px', value='10px'), container_overflow_x=OptionsInfo(scss=False, category='container', type='overflow', value='auto'), container_overflow_y=OptionsInfo(scss=False, category='container', type='overflow', value='auto'), quarto_disable_processing=OptionsInfo(scss=False, category='quarto', type='logical', value=False), quarto_use_bootstrap=OptionsInfo(scss=False, category='quarto', type='logical', value=False)), _has_built=False)"
      ]
     },
     "execution_count": 53,
     "metadata": {},
     "output_type": "execute_result"
    }
   ],
   "source": [
    "percentiles = np.arange(5, 96, 5)\n",
    "\n",
    "percentile_values = np.percentile(alpha_vol.select('volume').collect(), percentiles)\n",
    "\n",
    "percentile_df = pl.DataFrame({'Percentile Level': percentiles,\n",
    "                              'Percentile': percentile_values})\n",
    "\n",
    "(\n",
    "    GT(percentile_df, rowname_col='Percentile Level')\n",
    "    .tab_header(title='Alpha Volume Percentile')\n",
    "    .tab_stubhead(label=\"Percentile Level\")\n",
    "    .fmt_number()\n",
    "    .data_color(\n",
    "        domain=[0, 15],\n",
    "        palette=['white', 'rebeccapurple']\n",
    "    )  \n",
    ")"
   ]
  },
  {
   "cell_type": "code",
   "execution_count": 54,
   "metadata": {},
   "outputs": [
    {
     "data": {
      "application/vnd.vegalite.v5+json": {
       "$schema": "https://vega.github.io/schema/vega-lite/v5.20.1.json",
       "config": {
        "view": {
         "continuousHeight": 300,
         "continuousWidth": 300
        }
       },
       "data": {
        "name": "data-20f747a2196fb09eaa06a9598de30117"
       },
       "datasets": {
        "data-20f747a2196fb09eaa06a9598de30117": [
         {
          "% of Total": 0.06897865853658537,
          "Frequency": 181,
          "cut": "5 - 6"
         },
         {
          "% of Total": 0.028201219512195123,
          "Frequency": 74,
          "cut": "8 - 9"
         },
         {
          "% of Total": 0.1714939024390244,
          "Frequency": 450,
          "cut": "2 - 3"
         },
         {
          "% of Total": 0.07507621951219512,
          "Frequency": 197,
          "cut": "9 - ∞"
         },
         {
          "% of Total": 0.12347560975609756,
          "Frequency": 324,
          "cut": "0 - 1"
         },
         {
          "% of Total": 0.1284298780487805,
          "Frequency": 337,
          "cut": "3 - 4"
         },
         {
          "% of Total": 0.0506859756097561,
          "Frequency": 133,
          "cut": "6 - 7"
         },
         {
          "% of Total": 0.0350609756097561,
          "Frequency": 92,
          "cut": "7 - 8"
         },
         {
          "% of Total": 0.08155487804878049,
          "Frequency": 214,
          "cut": "4 - 5"
         },
         {
          "% of Total": 0.23704268292682928,
          "Frequency": 622,
          "cut": "1 - 2"
         }
        ]
       },
       "encoding": {
        "x": {
         "axis": {
          "labelAngle": 0,
          "title": "Brand Volume Purchase ($)"
         },
         "field": "cut",
         "sort": [
          "-1 - 0",
          "0 - 1",
          "1 - 2",
          "2 - 3",
          "3 - 4",
          "4 - 5",
          "5 - 6",
          "6 - 7",
          "7 - 8",
          "8 - 9",
          "9 - ∞"
         ],
         "type": "ordinal"
        },
        "y": {
         "axis": {
          "format": ".0%",
          "title": "% of Households"
         },
         "field": "% of Total",
         "type": "quantitative"
        }
       },
       "height": 250,
       "mark": {
        "type": "bar"
       },
       "title": {
        "subtitle": "Distribution of Alpha volume purchases across brand buyers",
        "text": "Alpha Brand Volume Purchase Distribution (%)"
       },
       "width": 650
      },
      "text/plain": [
       "<VegaLite 5 object>\n",
       "\n",
       "If you see this message, it means the renderer has not been properly enabled\n",
       "for the frontend that you are using. For more information, see\n",
       "https://altair-viz.github.io/user_guide/display_frontends.html#troubleshooting\n"
      ]
     },
     "metadata": {},
     "output_type": "display_data"
    }
   ],
   "source": [
    "labels = [f\"{lb} - {lb + 1 if lb != 9 else '∞'}\" for lb in range(-1, 10, 1)]\n",
    "\n",
    "chart = freq_dist_plot(\n",
    "    data=alpha_vol,\n",
    "    column=\"volume\",\n",
    "    bin_edges=np.arange(0, 10, 1),\n",
    "    labels=labels,\n",
    "    x_title=\"Brand Volume Purchase ($)\",\n",
    "    y_title=\"% of Households\",\n",
    "    chart_title=\"Alpha Brand Volume Purchase Distribution (%)\",\n",
    "    subtitle=\"Distribution of Alpha volume purchases across brand buyers\"\n",
    ")\n",
    "chart.show()"
   ]
  },
  {
   "cell_type": "markdown",
   "metadata": {},
   "source": [
    "##### Garbage Collect"
   ]
  },
  {
   "cell_type": "code",
   "execution_count": 55,
   "metadata": {},
   "outputs": [
    {
     "data": {
      "text/plain": [
       "327"
      ]
     },
     "execution_count": 55,
     "metadata": {},
     "output_type": "execute_result"
    }
   ],
   "source": [
    "exceptions = ['grocery_lf', 'sku_lf', 'kiwi_lf', 'In', 'exceptions', 'active_variables',\n",
    "              'penetration', 'ppb', 'panel_size']\n",
    "\n",
    "active_variables = [\n",
    "    var for var, value in globals().items()\n",
    "    if not var.startswith('_')   # Exclude variables that start with \"_\"\n",
    "    and var not in exceptions    # Exclude variables in the exceptions list\n",
    "    and isinstance(value, (pl.LazyFrame, pl.DataFrame, pl.Series, alt.Chart, alt.LayerChart, list, int, float, str, np.ndarray, np.int64, np.float32))  # Remove these types only\n",
    "]\n",
    "\n",
    "for var in active_variables:\n",
    "    del globals()[var]\n",
    "del active_variables, exceptions, var\n",
    "\n",
    "gc.collect()"
   ]
  },
  {
   "cell_type": "markdown",
   "metadata": {},
   "source": [
    "#### Performing a Basic Decile Analysis"
   ]
  },
  {
   "cell_type": "markdown",
   "metadata": {},
   "source": [
    "##### Decile analysis of category buying behaviour - Decile based on category buyers"
   ]
  },
  {
   "cell_type": "code",
   "execution_count": 56,
   "metadata": {},
   "outputs": [
    {
     "data": {
      "text/html": [
       "<div><style>\n",
       ".dataframe > thead > tr,\n",
       ".dataframe > tbody > tr {\n",
       "  text-align: right;\n",
       "  white-space: pre-wrap;\n",
       "}\n",
       "</style>\n",
       "<small>shape: (4_574, 4)</small><table border=\"1\" class=\"dataframe\"><thead><tr><th>panel_id</th><th>spend</th><th>rank</th><th>decile</th></tr><tr><td>i32</td><td>f64</td><td>u32</td><td>i16</td></tr></thead><tbody><tr><td>3111594</td><td>166.699999</td><td>1</td><td>1</td></tr><tr><td>3119170</td><td>108.830005</td><td>2</td><td>1</td></tr><tr><td>3125418</td><td>102.870001</td><td>3</td><td>1</td></tr><tr><td>3110132</td><td>100.63</td><td>4</td><td>1</td></tr><tr><td>3109647</td><td>97.379999</td><td>5</td><td>1</td></tr><tr><td>&hellip;</td><td>&hellip;</td><td>&hellip;</td><td>&hellip;</td></tr><tr><td>3128086</td><td>1.49</td><td>4570</td><td>10</td></tr><tr><td>3112878</td><td>1.39</td><td>4571</td><td>10</td></tr><tr><td>3120986</td><td>1.33</td><td>4572</td><td>10</td></tr><tr><td>3104765</td><td>1.29</td><td>4573</td><td>10</td></tr><tr><td>3125737</td><td>1.27</td><td>4574</td><td>10</td></tr></tbody></table></div>"
      ],
      "text/plain": [
       "shape: (4_574, 4)\n",
       "┌──────────┬────────────┬──────┬────────┐\n",
       "│ panel_id ┆ spend      ┆ rank ┆ decile │\n",
       "│ ---      ┆ ---        ┆ ---  ┆ ---    │\n",
       "│ i32      ┆ f64        ┆ u32  ┆ i16    │\n",
       "╞══════════╪════════════╪══════╪════════╡\n",
       "│ 3111594  ┆ 166.699999 ┆ 1    ┆ 1      │\n",
       "│ 3119170  ┆ 108.830005 ┆ 2    ┆ 1      │\n",
       "│ 3125418  ┆ 102.870001 ┆ 3    ┆ 1      │\n",
       "│ 3110132  ┆ 100.63     ┆ 4    ┆ 1      │\n",
       "│ 3109647  ┆ 97.379999  ┆ 5    ┆ 1      │\n",
       "│ …        ┆ …          ┆ …    ┆ …      │\n",
       "│ 3128086  ┆ 1.49       ┆ 4570 ┆ 10     │\n",
       "│ 3112878  ┆ 1.39       ┆ 4571 ┆ 10     │\n",
       "│ 3120986  ┆ 1.33       ┆ 4572 ┆ 10     │\n",
       "│ 3104765  ┆ 1.29       ┆ 4573 ┆ 10     │\n",
       "│ 3125737  ┆ 1.27       ┆ 4574 ┆ 10     │\n",
       "└──────────┴────────────┴──────┴────────┘"
      ]
     },
     "execution_count": 56,
     "metadata": {},
     "output_type": "execute_result"
    }
   ],
   "source": [
    "# Part 1: Break-tie ranking of total category spend data\n",
    "# Part 2: Decile cuts in ranking\n",
    "spend_decile = spend_summary(\n",
    "    'Category', grocery_lf, 1\n",
    ").with_columns(\n",
    "    pl.col('spend').rank(method='ordinal', descending=True).alias('rank'),\n",
    ").with_columns(\n",
    "    (np.floor(10 * (pl.col('rank') - 1) / pl.col('rank').max()) + 1).cast(pl.Int16).alias('decile')\n",
    ").sort('decile', 'rank').collect()\n",
    "\n",
    "spend_decile"
   ]
  },
  {
   "cell_type": "code",
   "execution_count": 57,
   "metadata": {},
   "outputs": [
    {
     "data": {
      "text/html": [
       "<div id=\"pybxgiqkle\" style=\"padding-left:0px;padding-right:0px;padding-top:10px;padding-bottom:10px;overflow-x:auto;overflow-y:auto;width:auto;height:auto;\">\n",
       "<style>\n",
       "#pybxgiqkle table {\n",
       "          font-family: -apple-system, BlinkMacSystemFont, 'Segoe UI', Roboto, Oxygen, Ubuntu, Cantarell, 'Helvetica Neue', 'Fira Sans', 'Droid Sans', Arial, sans-serif;\n",
       "          -webkit-font-smoothing: antialiased;\n",
       "          -moz-osx-font-smoothing: grayscale;\n",
       "        }\n",
       "\n",
       "#pybxgiqkle thead, tbody, tfoot, tr, td, th { border-style: none !important; }\n",
       " tr { background-color: transparent !important; }\n",
       "#pybxgiqkle p { margin: 0 !important; padding: 0 !important; }\n",
       " #pybxgiqkle .gt_table { display: table !important; border-collapse: collapse !important; line-height: normal !important; margin-left: auto !important; margin-right: auto !important; color: #333333 !important; font-size: 16px !important; font-weight: normal !important; font-style: normal !important; background-color: #FFFFFF !important; width: auto !important; border-top-style: solid !important; border-top-width: 2px !important; border-top-color: #A8A8A8 !important; border-right-style: none !important; border-right-width: 2px !important; border-right-color: #D3D3D3 !important; border-bottom-style: solid !important; border-bottom-width: 2px !important; border-bottom-color: #A8A8A8 !important; border-left-style: none !important; border-left-width: 2px !important; border-left-color: #D3D3D3 !important; }\n",
       " #pybxgiqkle .gt_caption { padding-top: 4px !important; padding-bottom: 4px !important; }\n",
       " #pybxgiqkle .gt_title { color: #333333 !important; font-size: 125% !important; font-weight: initial !important; padding-top: 4px !important; padding-bottom: 4px !important; padding-left: 5px !important; padding-right: 5px !important; border-bottom-color: #FFFFFF !important; border-bottom-width: 0 !important; }\n",
       " #pybxgiqkle .gt_subtitle { color: #333333 !important; font-size: 85% !important; font-weight: initial !important; padding-top: 3px !important; padding-bottom: 5px !important; padding-left: 5px !important; padding-right: 5px !important; border-top-color: #FFFFFF !important; border-top-width: 0 !important; }\n",
       " #pybxgiqkle .gt_heading { background-color: #FFFFFF !important; text-align: center !important; border-bottom-color: #FFFFFF !important; border-left-style: none !important; border-left-width: 1px !important; border-left-color: #D3D3D3 !important; border-right-style: none !important; border-right-width: 1px !important; border-right-color: #D3D3D3 !important; }\n",
       " #pybxgiqkle .gt_bottom_border { border-bottom-style: solid !important; border-bottom-width: 2px !important; border-bottom-color: #D3D3D3 !important; }\n",
       " #pybxgiqkle .gt_col_headings { border-top-style: solid !important; border-top-width: 2px !important; border-top-color: #D3D3D3 !important; border-bottom-style: solid !important; border-bottom-width: 2px !important; border-bottom-color: #D3D3D3 !important; border-left-style: none !important; border-left-width: 1px !important; border-left-color: #D3D3D3 !important; border-right-style: none !important; border-right-width: 1px !important; border-right-color: #D3D3D3 !important; }\n",
       " #pybxgiqkle .gt_col_heading { color: #333333 !important; background-color: #FFFFFF !important; font-size: 100% !important; font-weight: normal !important; text-transform: inherit !important; border-left-style: none !important; border-left-width: 1px !important; border-left-color: #D3D3D3 !important; border-right-style: none !important; border-right-width: 1px !important; border-right-color: #D3D3D3 !important; vertical-align: bottom !important; padding-top: 5px !important; padding-bottom: 5px !important; padding-left: 5px !important; padding-right: 5px !important; overflow-x: hidden !important; }\n",
       " #pybxgiqkle .gt_column_spanner_outer { color: #333333 !important; background-color: #FFFFFF !important; font-size: 100% !important; font-weight: normal !important; text-transform: inherit !important; padding-top: 0 !important; padding-bottom: 0 !important; padding-left: 4px !important; padding-right: 4px !important; }\n",
       " #pybxgiqkle .gt_column_spanner_outer:first-child { padding-left: 0 !important; }\n",
       " #pybxgiqkle .gt_column_spanner_outer:last-child { padding-right: 0 !important; }\n",
       " #pybxgiqkle .gt_column_spanner { border-bottom-style: solid !important; border-bottom-width: 2px !important; border-bottom-color: #D3D3D3 !important; vertical-align: bottom !important; padding-top: 5px !important; padding-bottom: 5px !important; overflow-x: hidden !important; display: inline-block !important; width: 100% !important; }\n",
       " #pybxgiqkle .gt_spanner_row { border-bottom-style: hidden !important; }\n",
       " #pybxgiqkle .gt_group_heading { padding-top: 8px !important; padding-bottom: 8px !important; padding-left: 5px !important; padding-right: 5px !important; color: #333333 !important; background-color: #FFFFFF !important; font-size: 100% !important; font-weight: initial !important; text-transform: inherit !important; border-top-style: solid !important; border-top-width: 2px !important; border-top-color: #D3D3D3 !important; border-bottom-style: solid !important; border-bottom-width: 2px !important; border-bottom-color: #D3D3D3 !important; border-left-style: none !important; border-left-width: 1px !important; border-left-color: #D3D3D3 !important; border-right-style: none !important; border-right-width: 1px !important; border-right-color: #D3D3D3 !important; vertical-align: middle !important; text-align: left !important; }\n",
       " #pybxgiqkle .gt_empty_group_heading { padding: 0.5px !important; color: #333333 !important; background-color: #FFFFFF !important; font-size: 100% !important; font-weight: initial !important; border-top-style: solid !important; border-top-width: 2px !important; border-top-color: #D3D3D3 !important; border-bottom-style: solid !important; border-bottom-width: 2px !important; border-bottom-color: #D3D3D3 !important; vertical-align: middle !important; }\n",
       " #pybxgiqkle .gt_from_md> :first-child { margin-top: 0 !important; }\n",
       " #pybxgiqkle .gt_from_md> :last-child { margin-bottom: 0 !important; }\n",
       " #pybxgiqkle .gt_row { padding-top: 8px !important; padding-bottom: 8px !important; padding-left: 5px !important; padding-right: 5px !important; margin: 10px !important; border-top-style: solid !important; border-top-width: 1px !important; border-top-color: #D3D3D3 !important; border-left-style: none !important; border-left-width: 1px !important; border-left-color: #D3D3D3 !important; border-right-style: none !important; border-right-width: 1px !important; border-right-color: #D3D3D3 !important; vertical-align: middle !important; overflow-x: hidden !important; }\n",
       " #pybxgiqkle .gt_stub { color: #333333 !important; background-color: #FFFFFF !important; font-size: 100% !important; font-weight: initial !important; text-transform: inherit !important; border-right-style: solid !important; border-right-width: 2px !important; border-right-color: #D3D3D3 !important; padding-left: 5px !important; padding-right: 5px !important; }\n",
       " #pybxgiqkle .gt_stub_row_group { color: #333333 !important; background-color: #FFFFFF !important; font-size: 100% !important; font-weight: initial !important; text-transform: inherit !important; border-right-style: solid !important; border-right-width: 2px !important; border-right-color: #D3D3D3 !important; padding-left: 5px !important; padding-right: 5px !important; vertical-align: top !important; }\n",
       " #pybxgiqkle .gt_row_group_first td { border-top-width: 2px !important; }\n",
       " #pybxgiqkle .gt_row_group_first th { border-top-width: 2px !important; }\n",
       " #pybxgiqkle .gt_striped { background-color: rgba(128,128,128,0.05) !important; }\n",
       " #pybxgiqkle .gt_table_body { border-top-style: solid !important; border-top-width: 2px !important; border-top-color: #D3D3D3 !important; border-bottom-style: solid !important; border-bottom-width: 2px !important; border-bottom-color: #D3D3D3 !important; }\n",
       " #pybxgiqkle .gt_sourcenotes { color: #333333 !important; background-color: #FFFFFF !important; border-bottom-style: none !important; border-bottom-width: 2px !important; border-bottom-color: #D3D3D3 !important; border-left-style: none !important; border-left-width: 2px !important; border-left-color: #D3D3D3 !important; border-right-style: none !important; border-right-width: 2px !important; border-right-color: #D3D3D3 !important; }\n",
       " #pybxgiqkle .gt_sourcenote { font-size: 90% !important; padding-top: 4px !important; padding-bottom: 4px !important; padding-left: 5px !important; padding-right: 5px !important; text-align: left !important; }\n",
       " #pybxgiqkle .gt_left { text-align: left !important; }\n",
       " #pybxgiqkle .gt_center { text-align: center !important; }\n",
       " #pybxgiqkle .gt_right { text-align: right !important; font-variant-numeric: tabular-nums !important; }\n",
       " #pybxgiqkle .gt_font_normal { font-weight: normal !important; }\n",
       " #pybxgiqkle .gt_font_bold { font-weight: bold !important; }\n",
       " #pybxgiqkle .gt_font_italic { font-style: italic !important; }\n",
       " #pybxgiqkle .gt_super { font-size: 65% !important; }\n",
       " #pybxgiqkle .gt_footnote_marks { font-size: 75% !important; vertical-align: 0.4em !important; position: initial !important; }\n",
       " #pybxgiqkle .gt_asterisk { font-size: 100% !important; vertical-align: 0 !important; }\n",
       " \n",
       "</style>\n",
       "<table class=\"gt_table\" data-quarto-disable-processing=\"false\" data-quarto-bootstrap=\"false\">\n",
       "<thead>\n",
       "\n",
       "  <tr class=\"gt_heading\">\n",
       "    <td colspan=\"8\" class=\"gt_heading gt_title gt_font_normal\">Decile Analysis of Category Buying Behavior</td>\n",
       "  </tr>\n",
       "  <tr class=\"gt_heading\">\n",
       "    <td colspan=\"8\" class=\"gt_heading gt_subtitle gt_font_normal gt_bottom_border\">Each decile equals 10% category buyers</td>\n",
       "  </tr>\n",
       "<tr class=\"gt_col_headings\">\n",
       "  <th class=\"gt_col_heading gt_columns_bottom_border gt_left\" rowspan=\"1\" colspan=\"1\" scope=\"col\" id=\"Decile\">Decile</th>\n",
       "  <th class=\"gt_col_heading gt_columns_bottom_border gt_right\" rowspan=\"1\" colspan=\"1\" scope=\"col\" id=\"% HH\">% HH</th>\n",
       "  <th class=\"gt_col_heading gt_columns_bottom_border gt_right\" rowspan=\"1\" colspan=\"1\" scope=\"col\" id=\"% Spend\">% Spend</th>\n",
       "  <th class=\"gt_col_heading gt_columns_bottom_border gt_right\" rowspan=\"1\" colspan=\"1\" scope=\"col\" id=\"% Trans\">% Trans</th>\n",
       "  <th class=\"gt_col_heading gt_columns_bottom_border gt_right\" rowspan=\"1\" colspan=\"1\" scope=\"col\" id=\"Spend/HH\">Spend/HH</th>\n",
       "  <th class=\"gt_col_heading gt_columns_bottom_border gt_right\" rowspan=\"1\" colspan=\"1\" scope=\"col\" id=\"Cat Trans/HH\">Cat Trans/HH</th>\n",
       "  <th class=\"gt_col_heading gt_columns_bottom_border gt_right\" rowspan=\"1\" colspan=\"1\" scope=\"col\" id=\"Avg Spend/Trans\">Avg Spend/Trans</th>\n",
       "  <th class=\"gt_col_heading gt_columns_bottom_border gt_right\" rowspan=\"1\" colspan=\"1\" scope=\"col\" id=\"# Unique Brands\"># Unique Brands</th>\n",
       "</tr>\n",
       "</thead>\n",
       "<tbody class=\"gt_table_body\">\n",
       "  <tr>\n",
       "    <th class=\"gt_row gt_left gt_stub\">1</th>\n",
       "    <td class=\"gt_row gt_right\">10.0%</td>\n",
       "    <td class=\"gt_row gt_right\">28.4%</td>\n",
       "    <td class=\"gt_row gt_right\">24.3%</td>\n",
       "    <td class=\"gt_row gt_right\">$44.65</td>\n",
       "    <td class=\"gt_row gt_right\">10.62</td>\n",
       "    <td class=\"gt_row gt_right\">$4.21</td>\n",
       "    <td class=\"gt_row gt_right\">1.85</td>\n",
       "  </tr>\n",
       "  <tr>\n",
       "    <th class=\"gt_row gt_left gt_stub\">2</th>\n",
       "    <td class=\"gt_row gt_right\">10.0%</td>\n",
       "    <td class=\"gt_row gt_right\">17.2%</td>\n",
       "    <td class=\"gt_row gt_right\">16.3%</td>\n",
       "    <td class=\"gt_row gt_right\">$27.15</td>\n",
       "    <td class=\"gt_row gt_right\">7.15</td>\n",
       "    <td class=\"gt_row gt_right\">$3.80</td>\n",
       "    <td class=\"gt_row gt_right\">1.63</td>\n",
       "  </tr>\n",
       "  <tr>\n",
       "    <th class=\"gt_row gt_left gt_stub\">3</th>\n",
       "    <td class=\"gt_row gt_right\">10.0%</td>\n",
       "    <td class=\"gt_row gt_right\">13.3%</td>\n",
       "    <td class=\"gt_row gt_right\">13.5%</td>\n",
       "    <td class=\"gt_row gt_right\">$20.96</td>\n",
       "    <td class=\"gt_row gt_right\">5.88</td>\n",
       "    <td class=\"gt_row gt_right\">$3.56</td>\n",
       "    <td class=\"gt_row gt_right\">1.58</td>\n",
       "  </tr>\n",
       "  <tr>\n",
       "    <th class=\"gt_row gt_left gt_stub\">4</th>\n",
       "    <td class=\"gt_row gt_right\">10.0%</td>\n",
       "    <td class=\"gt_row gt_right\">10.7%</td>\n",
       "    <td class=\"gt_row gt_right\">11.1%</td>\n",
       "    <td class=\"gt_row gt_right\">$16.91</td>\n",
       "    <td class=\"gt_row gt_right\">4.87</td>\n",
       "    <td class=\"gt_row gt_right\">$3.47</td>\n",
       "    <td class=\"gt_row gt_right\">1.54</td>\n",
       "  </tr>\n",
       "  <tr>\n",
       "    <th class=\"gt_row gt_left gt_stub\">5</th>\n",
       "    <td class=\"gt_row gt_right\">10.0%</td>\n",
       "    <td class=\"gt_row gt_right\">8.8%</td>\n",
       "    <td class=\"gt_row gt_right\">9.5%</td>\n",
       "    <td class=\"gt_row gt_right\">$13.81</td>\n",
       "    <td class=\"gt_row gt_right\">4.15</td>\n",
       "    <td class=\"gt_row gt_right\">$3.33</td>\n",
       "    <td class=\"gt_row gt_right\">1.50</td>\n",
       "  </tr>\n",
       "  <tr>\n",
       "    <th class=\"gt_row gt_left gt_stub\">6</th>\n",
       "    <td class=\"gt_row gt_right\">10.0%</td>\n",
       "    <td class=\"gt_row gt_right\">7.1%</td>\n",
       "    <td class=\"gt_row gt_right\">7.8%</td>\n",
       "    <td class=\"gt_row gt_right\">$11.14</td>\n",
       "    <td class=\"gt_row gt_right\">3.40</td>\n",
       "    <td class=\"gt_row gt_right\">$3.27</td>\n",
       "    <td class=\"gt_row gt_right\">1.41</td>\n",
       "  </tr>\n",
       "  <tr>\n",
       "    <th class=\"gt_row gt_left gt_stub\">7</th>\n",
       "    <td class=\"gt_row gt_right\">10.0%</td>\n",
       "    <td class=\"gt_row gt_right\">5.7%</td>\n",
       "    <td class=\"gt_row gt_right\">6.7%</td>\n",
       "    <td class=\"gt_row gt_right\">$8.98</td>\n",
       "    <td class=\"gt_row gt_right\">2.94</td>\n",
       "    <td class=\"gt_row gt_right\">$3.05</td>\n",
       "    <td class=\"gt_row gt_right\">1.37</td>\n",
       "  </tr>\n",
       "  <tr>\n",
       "    <th class=\"gt_row gt_left gt_stub\">8</th>\n",
       "    <td class=\"gt_row gt_right\">10.0%</td>\n",
       "    <td class=\"gt_row gt_right\">4.3%</td>\n",
       "    <td class=\"gt_row gt_right\">4.9%</td>\n",
       "    <td class=\"gt_row gt_right\">$6.74</td>\n",
       "    <td class=\"gt_row gt_right\">2.13</td>\n",
       "    <td class=\"gt_row gt_right\">$3.16</td>\n",
       "    <td class=\"gt_row gt_right\">1.23</td>\n",
       "  </tr>\n",
       "  <tr>\n",
       "    <th class=\"gt_row gt_left gt_stub\">9</th>\n",
       "    <td class=\"gt_row gt_right\">10.0%</td>\n",
       "    <td class=\"gt_row gt_right\">2.9%</td>\n",
       "    <td class=\"gt_row gt_right\">3.7%</td>\n",
       "    <td class=\"gt_row gt_right\">$4.56</td>\n",
       "    <td class=\"gt_row gt_right\">1.62</td>\n",
       "    <td class=\"gt_row gt_right\">$2.82</td>\n",
       "    <td class=\"gt_row gt_right\">1.21</td>\n",
       "  </tr>\n",
       "  <tr>\n",
       "    <th class=\"gt_row gt_left gt_stub\">10</th>\n",
       "    <td class=\"gt_row gt_right\">10.0%</td>\n",
       "    <td class=\"gt_row gt_right\">1.7%</td>\n",
       "    <td class=\"gt_row gt_right\">2.3%</td>\n",
       "    <td class=\"gt_row gt_right\">$2.70</td>\n",
       "    <td class=\"gt_row gt_right\">1.02</td>\n",
       "    <td class=\"gt_row gt_right\">$2.65</td>\n",
       "    <td class=\"gt_row gt_right\">1.00</td>\n",
       "  </tr>\n",
       "</tbody>\n",
       "\n",
       "\n",
       "</table>\n",
       "\n",
       "</div>\n",
       "        "
      ],
      "text/plain": [
       "GT(_tbl_data=shape: (10, 8)\n",
       "┌────────┬──────────┬──────────┬──────────┬───────────┬──────────────┬──────────────────┬──────────┐\n",
       "│ Decile ┆ % HH     ┆ % Spend  ┆ % Trans  ┆ Spend/HH  ┆ Cat Trans/HH ┆ Avg Spend/Trans  ┆ # Unique │\n",
       "│ ---    ┆ ---      ┆ ---      ┆ ---      ┆ ---       ┆ ---          ┆ ---              ┆ Brands   │\n",
       "│ i16    ┆ f64      ┆ f64      ┆ f64      ┆ f64       ┆ f64          ┆ f64              ┆ ---      │\n",
       "│        ┆          ┆          ┆          ┆           ┆              ┆                  ┆ f64      │\n",
       "╞════════╪══════════╪══════════╪══════════╪═══════════╪══════════════╪══════════════════╪══════════╡\n",
       "│ 1      ┆ 0.100131 ┆ 0.283612 ┆ 0.242736 ┆ 44.648472 ┆ 10.615721    ┆ 4.205882         ┆ 1.849345 │\n",
       "│ 2      ┆ 0.099913 ┆ 0.172067 ┆ 0.163055 ┆ 27.147374 ┆ 7.146608     ┆ 3.798638         ┆ 1.634573 │\n",
       "│ 3      ┆ 0.100131 ┆ 0.133154 ┆ 0.134548 ┆ 20.962074 ┆ 5.884279     ┆ 3.562386         ┆ 1.582969 │\n",
       "│ 4      ┆ 0.099913 ┆ 0.107161 ┆ 0.111083 ┆ 16.90698  ┆ 4.868709     ┆ 3.47258          ┆ 1.540481 │\n",
       "│ 5      ┆ 0.099913 ┆ 0.08755  ┆ 0.094708 ┆ 13.812932 ┆ 4.150985     ┆ 3.327628         ┆ 1.498906 │\n",
       "│ 6      ┆ 0.100131 ┆ 0.070741 ┆ 0.077833 ┆ 11.136638 ┆ 3.40393      ┆ 3.2717           ┆ 1.412664 │\n",
       "│ 7      ┆ 0.099913 ┆ 0.056896 ┆ 0.067099 ┆ 8.97663   ┆ 2.940919     ┆ 3.052321         ┆ 1.374179 │\n",
       "│ 8      ┆ 0.100131 ┆ 0.042816 ┆ 0.048777 ┆ 6.740415  ┆ 2.133188     ┆ 3.159785         ┆ 1.227074 │\n",
       "│ 9      ┆ 0.099913 ┆ 0.028881 ┆ 0.036895 ┆ 4.556586  ┆ 1.617068     ┆ 2.817808         ┆ 1.210066 │\n",
       "│ 10     ┆ 0.099913 ┆ 0.017122 ┆ 0.023265 ┆ 2.701422  ┆ 1.019694     ┆ 2.649249         ┆ 1.0      │\n",
       "└────────┴──────────┴──────────┴──────────┴───────────┴──────────────┴──────────────────┴──────────┘, _body=<great_tables._gt_data.Body object at 0x000001EFEBFD3200>, _boxhead=Boxhead([ColInfo(var='Decile', type=<ColInfoTypeEnum.stub: 2>, column_label='Decile', column_align='right', column_width=None), ColInfo(var='% HH', type=<ColInfoTypeEnum.default: 1>, column_label='% HH', column_align='right', column_width=None), ColInfo(var='% Spend', type=<ColInfoTypeEnum.default: 1>, column_label='% Spend', column_align='right', column_width=None), ColInfo(var='% Trans', type=<ColInfoTypeEnum.default: 1>, column_label='% Trans', column_align='right', column_width=None), ColInfo(var='Spend/HH', type=<ColInfoTypeEnum.default: 1>, column_label='Spend/HH', column_align='right', column_width=None), ColInfo(var='Cat Trans/HH', type=<ColInfoTypeEnum.default: 1>, column_label='Cat Trans/HH', column_align='right', column_width=None), ColInfo(var='Avg Spend/Trans', type=<ColInfoTypeEnum.default: 1>, column_label='Avg Spend/Trans', column_align='right', column_width=None), ColInfo(var='# Unique Brands', type=<ColInfoTypeEnum.default: 1>, column_label='# Unique Brands', column_align='right', column_width=None)]), _stub=<great_tables._gt_data.Stub object at 0x000001EFE38F7C50>, _spanners=Spanners([]), _heading=Heading(title='Decile Analysis of Category Buying Behavior', subtitle='Each decile equals 10% category buyers', preheader=None), _stubhead='Decile', _source_notes=[], _footnotes=[], _styles=[], _locale=<great_tables._gt_data.Locale object at 0x000001EFEBFD15E0>, _formats=[<great_tables._gt_data.FormatInfo object at 0x000001EFEBE331D0>, <great_tables._gt_data.FormatInfo object at 0x000001EFEB7D2AE0>, <great_tables._gt_data.FormatInfo object at 0x000001EFEBFE4E60>], _substitutions=[], _options=Options(table_id=OptionsInfo(scss=False, category='table', type='value', value=None), table_caption=OptionsInfo(scss=False, category='table', type='value', value=None), table_width=OptionsInfo(scss=True, category='table', type='px', value='auto'), table_layout=OptionsInfo(scss=True, category='table', type='value', value='fixed'), table_margin_left=OptionsInfo(scss=True, category='table', type='px', value='auto'), table_margin_right=OptionsInfo(scss=True, category='table', type='px', value='auto'), table_background_color=OptionsInfo(scss=True, category='table', type='value', value='#FFFFFF'), table_additional_css=OptionsInfo(scss=False, category='table', type='values', value=[]), table_font_names=OptionsInfo(scss=False, category='table', type='values', value=['-apple-system', 'BlinkMacSystemFont', 'Segoe UI', 'Roboto', 'Oxygen', 'Ubuntu', 'Cantarell', 'Helvetica Neue', 'Fira Sans', 'Droid Sans', 'Arial', 'sans-serif']), table_font_size=OptionsInfo(scss=True, category='table', type='px', value='16px'), table_font_weight=OptionsInfo(scss=True, category='table', type='value', value='normal'), table_font_style=OptionsInfo(scss=True, category='table', type='value', value='normal'), table_font_color=OptionsInfo(scss=True, category='table', type='value', value='#333333'), table_font_color_light=OptionsInfo(scss=True, category='table', type='value', value='#FFFFFF'), table_border_top_include=OptionsInfo(scss=False, category='table', type='boolean', value=True), table_border_top_style=OptionsInfo(scss=True, category='table', type='value', value='solid'), table_border_top_width=OptionsInfo(scss=True, category='table', type='px', value='2px'), table_border_top_color=OptionsInfo(scss=True, category='table', type='value', value='#A8A8A8'), table_border_right_style=OptionsInfo(scss=True, category='table', type='value', value='none'), table_border_right_width=OptionsInfo(scss=True, category='table', type='px', value='2px'), table_border_right_color=OptionsInfo(scss=True, category='table', type='value', value='#D3D3D3'), table_border_bottom_include=OptionsInfo(scss=False, category='table', type='boolean', value=True), table_border_bottom_style=OptionsInfo(scss=True, category='table', type='value', value='solid'), table_border_bottom_width=OptionsInfo(scss=True, category='table', type='px', value='2px'), table_border_bottom_color=OptionsInfo(scss=True, category='table', type='value', value='#A8A8A8'), table_border_left_style=OptionsInfo(scss=True, category='table', type='value', value='none'), table_border_left_width=OptionsInfo(scss=True, category='table', type='px', value='2px'), table_border_left_color=OptionsInfo(scss=True, category='table', type='value', value='#D3D3D3'), heading_background_color=OptionsInfo(scss=True, category='heading', type='value', value=None), heading_align=OptionsInfo(scss=True, category='heading', type='value', value='center'), heading_title_font_size=OptionsInfo(scss=True, category='heading', type='px', value='125%'), heading_title_font_weight=OptionsInfo(scss=True, category='heading', type='value', value='initial'), heading_subtitle_font_size=OptionsInfo(scss=True, category='heading', type='px', value='85%'), heading_subtitle_font_weight=OptionsInfo(scss=True, category='heading', type='value', value='initial'), heading_padding=OptionsInfo(scss=True, category='heading', type='px', value='4px'), heading_padding_horizontal=OptionsInfo(scss=True, category='heading', type='px', value='5px'), heading_border_bottom_style=OptionsInfo(scss=True, category='heading', type='value', value='solid'), heading_border_bottom_width=OptionsInfo(scss=True, category='heading', type='px', value='2px'), heading_border_bottom_color=OptionsInfo(scss=True, category='heading', type='value', value='#D3D3D3'), heading_border_lr_style=OptionsInfo(scss=True, category='heading', type='value', value='none'), heading_border_lr_width=OptionsInfo(scss=True, category='heading', type='px', value='1px'), heading_border_lr_color=OptionsInfo(scss=True, category='heading', type='value', value='#D3D3D3'), column_labels_background_color=OptionsInfo(scss=True, category='column_labels', type='value', value=None), column_labels_font_size=OptionsInfo(scss=True, category='column_labels', type='px', value='100%'), column_labels_font_weight=OptionsInfo(scss=True, category='column_labels', type='value', value='normal'), column_labels_text_transform=OptionsInfo(scss=True, category='column_labels', type='value', value='inherit'), column_labels_padding=OptionsInfo(scss=True, category='column_labels', type='px', value='5px'), column_labels_padding_horizontal=OptionsInfo(scss=True, category='column_labels', type='px', value='5px'), column_labels_vlines_style=OptionsInfo(scss=True, category='table_body', type='value', value='none'), column_labels_vlines_width=OptionsInfo(scss=True, category='table_body', type='px', value='1px'), column_labels_vlines_color=OptionsInfo(scss=True, category='table_body', type='value', value='#D3D3D3'), column_labels_border_top_style=OptionsInfo(scss=True, category='column_labels', type='value', value='solid'), column_labels_border_top_width=OptionsInfo(scss=True, category='column_labels', type='px', value='2px'), column_labels_border_top_color=OptionsInfo(scss=True, category='column_labels', type='value', value='#D3D3D3'), column_labels_border_bottom_style=OptionsInfo(scss=True, category='column_labels', type='value', value='solid'), column_labels_border_bottom_width=OptionsInfo(scss=True, category='column_labels', type='px', value='2px'), column_labels_border_bottom_color=OptionsInfo(scss=True, category='column_labels', type='value', value='#D3D3D3'), column_labels_border_lr_style=OptionsInfo(scss=True, category='column_labels', type='value', value='none'), column_labels_border_lr_width=OptionsInfo(scss=True, category='column_labels', type='px', value='1px'), column_labels_border_lr_color=OptionsInfo(scss=True, category='column_labels', type='value', value='#D3D3D3'), column_labels_hidden=OptionsInfo(scss=False, category='column_labels', type='boolean', value=False), row_group_background_color=OptionsInfo(scss=True, category='row_group', type='value', value=None), row_group_font_size=OptionsInfo(scss=True, category='row_group', type='px', value='100%'), row_group_font_weight=OptionsInfo(scss=True, category='row_group', type='value', value='initial'), row_group_text_transform=OptionsInfo(scss=True, category='row_group', type='value', value='inherit'), row_group_padding=OptionsInfo(scss=True, category='row_group', type='px', value='8px'), row_group_padding_horizontal=OptionsInfo(scss=True, category='row_group', type='px', value='5px'), row_group_border_top_style=OptionsInfo(scss=True, category='row_group', type='value', value='solid'), row_group_border_top_width=OptionsInfo(scss=True, category='row_group', type='px', value='2px'), row_group_border_top_color=OptionsInfo(scss=True, category='row_group', type='value', value='#D3D3D3'), row_group_border_right_style=OptionsInfo(scss=True, category='row_group', type='value', value='none'), row_group_border_right_width=OptionsInfo(scss=True, category='row_group', type='px', value='1px'), row_group_border_right_color=OptionsInfo(scss=True, category='row_group', type='value', value='#D3D3D3'), row_group_border_bottom_style=OptionsInfo(scss=True, category='row_group', type='value', value='solid'), row_group_border_bottom_width=OptionsInfo(scss=True, category='row_group', type='px', value='2px'), row_group_border_bottom_color=OptionsInfo(scss=True, category='row_group', type='value', value='#D3D3D3'), row_group_border_left_style=OptionsInfo(scss=True, category='row_group', type='value', value='none'), row_group_border_left_width=OptionsInfo(scss=True, category='row_group', type='px', value='1px'), row_group_border_left_color=OptionsInfo(scss=True, category='row_group', type='value', value='#D3D3D3'), row_group_as_column=OptionsInfo(scss=False, category='row_group', type='boolean', value=False), table_body_hlines_style=OptionsInfo(scss=True, category='table_body', type='value', value='solid'), table_body_hlines_width=OptionsInfo(scss=True, category='table_body', type='px', value='1px'), table_body_hlines_color=OptionsInfo(scss=True, category='table_body', type='value', value='#D3D3D3'), table_body_vlines_style=OptionsInfo(scss=True, category='table_body', type='value', value='none'), table_body_vlines_width=OptionsInfo(scss=True, category='table_body', type='px', value='1px'), table_body_vlines_color=OptionsInfo(scss=True, category='table_body', type='value', value='#D3D3D3'), table_body_border_top_style=OptionsInfo(scss=True, category='table_body', type='value', value='solid'), table_body_border_top_width=OptionsInfo(scss=True, category='table_body', type='px', value='2px'), table_body_border_top_color=OptionsInfo(scss=True, category='table_body', type='value', value='#D3D3D3'), table_body_border_bottom_style=OptionsInfo(scss=True, category='table_body', type='value', value='solid'), table_body_border_bottom_width=OptionsInfo(scss=True, category='table_body', type='px', value='2px'), table_body_border_bottom_color=OptionsInfo(scss=True, category='table_body', type='value', value='#D3D3D3'), data_row_padding=OptionsInfo(scss=True, category='data_row', type='px', value='8px'), data_row_padding_horizontal=OptionsInfo(scss=True, category='data_row', type='px', value='5px'), stub_background_color=OptionsInfo(scss=True, category='stub', type='value', value=None), stub_font_size=OptionsInfo(scss=True, category='stub', type='px', value='100%'), stub_font_weight=OptionsInfo(scss=True, category='stub', type='value', value='initial'), stub_text_transform=OptionsInfo(scss=True, category='stub', type='value', value='inherit'), stub_border_style=OptionsInfo(scss=True, category='stub', type='value', value='solid'), stub_border_width=OptionsInfo(scss=True, category='stub', type='px', value='2px'), stub_border_color=OptionsInfo(scss=True, category='stub', type='value', value='#D3D3D3'), stub_row_group_background_color=OptionsInfo(scss=True, category='stub', type='value', value=None), stub_row_group_font_size=OptionsInfo(scss=True, category='stub', type='px', value='100%'), stub_row_group_font_weight=OptionsInfo(scss=True, category='stub', type='value', value='initial'), stub_row_group_text_transform=OptionsInfo(scss=True, category='stub', type='value', value='inherit'), stub_row_group_border_style=OptionsInfo(scss=True, category='stub', type='value', value='solid'), stub_row_group_border_width=OptionsInfo(scss=True, category='stub', type='px', value='2px'), stub_row_group_border_color=OptionsInfo(scss=True, category='stub', type='value', value='#D3D3D3'), source_notes_padding=OptionsInfo(scss=True, category='source_notes', type='px', value='4px'), source_notes_padding_horizontal=OptionsInfo(scss=True, category='source_notes', type='px', value='5px'), source_notes_background_color=OptionsInfo(scss=True, category='source_notes', type='value', value=None), source_notes_font_size=OptionsInfo(scss=True, category='source_notes', type='px', value='90%'), source_notes_border_bottom_style=OptionsInfo(scss=True, category='source_notes', type='value', value='none'), source_notes_border_bottom_width=OptionsInfo(scss=True, category='source_notes', type='px', value='2px'), source_notes_border_bottom_color=OptionsInfo(scss=True, category='source_notes', type='value', value='#D3D3D3'), source_notes_border_lr_style=OptionsInfo(scss=True, category='source_notes', type='value', value='none'), source_notes_border_lr_width=OptionsInfo(scss=True, category='source_notes', type='px', value='2px'), source_notes_border_lr_color=OptionsInfo(scss=True, category='source_notes', type='value', value='#D3D3D3'), source_notes_multiline=OptionsInfo(scss=False, category='source_notes', type='boolean', value=True), source_notes_sep=OptionsInfo(scss=False, category='source_notes', type='value', value=' '), row_striping_background_color=OptionsInfo(scss=True, category='row', type='value', value='rgba(128,128,128,0.05)'), row_striping_include_stub=OptionsInfo(scss=False, category='row', type='boolean', value=False), row_striping_include_table_body=OptionsInfo(scss=False, category='row', type='boolean', value=False), container_width=OptionsInfo(scss=False, category='container', type='px', value='auto'), container_height=OptionsInfo(scss=False, category='container', type='px', value='auto'), container_padding_x=OptionsInfo(scss=False, category='container', type='px', value='0px'), container_padding_y=OptionsInfo(scss=False, category='container', type='px', value='10px'), container_overflow_x=OptionsInfo(scss=False, category='container', type='overflow', value='auto'), container_overflow_y=OptionsInfo(scss=False, category='container', type='overflow', value='auto'), quarto_disable_processing=OptionsInfo(scss=False, category='quarto', type='logical', value=False), quarto_use_bootstrap=OptionsInfo(scss=False, category='quarto', type='logical', value=False)), _has_built=False)"
      ]
     },
     "execution_count": 57,
     "metadata": {},
     "output_type": "execute_result"
    }
   ],
   "source": [
    "# Helper functions\n",
    "def calculate_percentage(series):\n",
    "    return series / series.sum()\n",
    "\n",
    "def group_aggregate(data, group_col, agg_col, agg_expr):\n",
    "    return data.group_by(group_col).agg(agg_expr(pl.col(agg_col)))\n",
    "\n",
    "# Decile table creation\n",
    "decile_tab = spend_decile.select(\"decile\").unique().sort(\"decile\").rename({\"decile\": \"Decile\"})\n",
    "\n",
    "# Populate decile statistics\n",
    "# Decile counts and % HH\n",
    "decile_counts = group_aggregate(spend_decile, 'decile', 'rank', pl.Expr.count)\n",
    "decile_tab.insert_column(1, pl.lit(calculate_percentage(decile_counts['rank'])).alias('% HH')) \n",
    "\n",
    "# % Spend\n",
    "decile_spend = group_aggregate(spend_decile, 'decile', 'spend', pl.Expr.sum)\n",
    "decile_tab.insert_column(2, pl.lit(calculate_percentage(decile_spend['spend'])).alias('% Spend')) \n",
    "\n",
    "# % Transactions\n",
    "group_trans = trans_summary('Category', grocery_lf, 1).sort(by='# of Purchases', descending=True).collect()\n",
    "group_trans = group_trans.join(\n",
    "    other=spend_decile.group_by('panel_id').agg(pl.col('decile').sum()),\n",
    "    on='panel_id'\n",
    ").sort('decile')\n",
    "decile_trans = group_aggregate(group_trans, 'decile', '# of Purchases', pl.Expr.sum)\n",
    "decile_tab.insert_column(3, pl.lit(calculate_percentage(decile_trans['# of Purchases'])).alias('% Trans')) \n",
    "\n",
    "# Spend/HH, Cat Trans/HH, Avg Spend/Trans\n",
    "decile_tab.insert_column(4, pl.lit(decile_spend['spend'] / decile_counts['rank']).alias('Spend/HH'))\n",
    "decile_tab.insert_column(5, pl.lit(decile_trans['# of Purchases'] / decile_counts['rank']).alias('Cat Trans/HH'))\n",
    "decile_tab.insert_column(6, pl.lit(decile_spend['spend'] / decile_trans['# of Purchases']).alias('Avg Spend/Trans'))\n",
    "\n",
    "# Unique Brands Purchased\n",
    "unique_brands = group_aggregate(group_trans, 'decile', 'Brands Purchased', pl.Expr.mean)\n",
    "decile_tab.insert_column(7, pl.lit(unique_brands['Brands Purchased']).alias('# Unique Brands'))\n",
    "\n",
    "(\n",
    "    GT(decile_tab, rowname_col='Decile')\n",
    "    .tab_header(title='Decile Analysis of Category Buying Behavior',\n",
    "                subtitle= 'Each decile equals 10% category buyers')\n",
    "    .tab_stubhead(label=\"Decile\")\n",
    "    .fmt_percent(columns=['% HH', '% Spend', '% Trans'], decimals=1)\n",
    "    .fmt_number(columns=['Cat Trans/HH', '# Unique Brands'])\n",
    "    .fmt_currency(columns=['Spend/HH','Avg Spend/Trans'])\n",
    ")"
   ]
  },
  {
   "cell_type": "markdown",
   "metadata": {},
   "source": [
    "##### Decile analysis of category buying behaviour - Decile based on category spend/revenue"
   ]
  },
  {
   "cell_type": "code",
   "execution_count": 58,
   "metadata": {},
   "outputs": [
    {
     "data": {
      "text/html": [
       "<div><style>\n",
       ".dataframe > thead > tr,\n",
       ".dataframe > tbody > tr {\n",
       "  text-align: right;\n",
       "  white-space: pre-wrap;\n",
       "}\n",
       "</style>\n",
       "<small>shape: (4_574, 5)</small><table border=\"1\" class=\"dataframe\"><thead><tr><th>panel_id</th><th>spend</th><th>Cum Sum</th><th>rank</th><th>decile</th></tr><tr><td>i32</td><td>f64</td><td>f64</td><td>u32</td><td>i16</td></tr></thead><tbody><tr><td>3104714</td><td>4.34</td><td>72101.900494</td><td>1</td><td>1</td></tr><tr><td>3104473</td><td>17.35</td><td>72097.560494</td><td>2</td><td>1</td></tr><tr><td>3128431</td><td>29.52</td><td>72080.210494</td><td>3</td><td>1</td></tr><tr><td>3128023</td><td>8.75</td><td>72050.690493</td><td>4</td><td>1</td></tr><tr><td>3119699</td><td>2.23</td><td>72041.940493</td><td>5</td><td>1</td></tr><tr><td>&hellip;</td><td>&hellip;</td><td>&hellip;</td><td>&hellip;</td><td>&hellip;</td></tr><tr><td>3125356</td><td>16.72</td><td>72.73</td><td>4570</td><td>10</td></tr><tr><td>3123698</td><td>1.57</td><td>56.01</td><td>4571</td><td>10</td></tr><tr><td>3123278</td><td>23.44</td><td>54.44</td><td>4572</td><td>10</td></tr><tr><td>3102202</td><td>16.55</td><td>31.0</td><td>4573</td><td>10</td></tr><tr><td>3120301</td><td>14.45</td><td>14.45</td><td>4574</td><td>10</td></tr></tbody></table></div>"
      ],
      "text/plain": [
       "shape: (4_574, 5)\n",
       "┌──────────┬───────┬──────────────┬──────┬────────┐\n",
       "│ panel_id ┆ spend ┆ Cum Sum      ┆ rank ┆ decile │\n",
       "│ ---      ┆ ---   ┆ ---          ┆ ---  ┆ ---    │\n",
       "│ i32      ┆ f64   ┆ f64          ┆ u32  ┆ i16    │\n",
       "╞══════════╪═══════╪══════════════╪══════╪════════╡\n",
       "│ 3104714  ┆ 4.34  ┆ 72101.900494 ┆ 1    ┆ 1      │\n",
       "│ 3104473  ┆ 17.35 ┆ 72097.560494 ┆ 2    ┆ 1      │\n",
       "│ 3128431  ┆ 29.52 ┆ 72080.210494 ┆ 3    ┆ 1      │\n",
       "│ 3128023  ┆ 8.75  ┆ 72050.690493 ┆ 4    ┆ 1      │\n",
       "│ 3119699  ┆ 2.23  ┆ 72041.940493 ┆ 5    ┆ 1      │\n",
       "│ …        ┆ …     ┆ …            ┆ …    ┆ …      │\n",
       "│ 3125356  ┆ 16.72 ┆ 72.73        ┆ 4570 ┆ 10     │\n",
       "│ 3123698  ┆ 1.57  ┆ 56.01        ┆ 4571 ┆ 10     │\n",
       "│ 3123278  ┆ 23.44 ┆ 54.44        ┆ 4572 ┆ 10     │\n",
       "│ 3102202  ┆ 16.55 ┆ 31.0         ┆ 4573 ┆ 10     │\n",
       "│ 3120301  ┆ 14.45 ┆ 14.45        ┆ 4574 ┆ 10     │\n",
       "└──────────┴───────┴──────────────┴──────┴────────┘"
      ]
     },
     "execution_count": 58,
     "metadata": {},
     "output_type": "execute_result"
    }
   ],
   "source": [
    "spend_decile = spend_summary(\n",
    "    'Category', grocery_lf, 1\n",
    ").with_columns(\n",
    "    pl.col('spend').cum_sum().alias('Cum Sum')\n",
    ").with_columns(\n",
    "    pl.col('Cum Sum').rank(method='ordinal', descending=True).alias('rank'),\n",
    ").with_columns(\n",
    "    (np.floor(10 * (pl.col('rank') - 1) / pl.col('rank').max()) + 1).cast(pl.Int16).alias('decile')\n",
    ").sort('decile', 'rank').collect()\n",
    "\n",
    "spend_decile"
   ]
  }
 ],
 "metadata": {
  "colab": {
   "collapsed_sections": [
    "Gxxt_AWN9igL",
    "R7dq85pW9WSz"
   ],
   "provenance": []
  },
  "kernelspec": {
   "display_name": "fin",
   "language": "python",
   "name": "python3"
  },
  "language_info": {
   "codemirror_mode": {
    "name": "ipython",
    "version": 3
   },
   "file_extension": ".py",
   "mimetype": "text/x-python",
   "name": "python",
   "nbconvert_exporter": "python",
   "pygments_lexer": "ipython3",
   "version": "3.12.7"
  }
 },
 "nbformat": 4,
 "nbformat_minor": 0
}
