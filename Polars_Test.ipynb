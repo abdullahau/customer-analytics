{
 "cells": [
  {
   "cell_type": "markdown",
   "metadata": {
    "id": "J0Nrn2ZX9UOK"
   },
   "source": [
    "### Imports"
   ]
  },
  {
   "cell_type": "markdown",
   "metadata": {
    "id": "Gxxt_AWN9igL"
   },
   "source": [
    "#### Import Packages"
   ]
  },
  {
   "cell_type": "code",
   "execution_count": 1,
   "metadata": {
    "id": "Bsw2hr5T8cu3"
   },
   "outputs": [
    {
     "data": {
      "text/plain": [
       "RendererRegistry.enable('mimetype')"
      ]
     },
     "execution_count": 1,
     "metadata": {},
     "output_type": "execute_result"
    }
   ],
   "source": [
    "import polars as pl\n",
    "import altair as alt\n",
    "import numpy as np\n",
    "from great_tables import GT\n",
    "import gc\n",
    "\n",
    "# https://altair-viz.github.io/user_guide/display_frontends.html#displaying-in-jupyterlab\n",
    "alt.renderers.enable('mimetype')\n",
    "# alt.JupyterChart.enable_offline()\n",
    "# alt.renderers.enable(\"jupyter\", offline=True)"
   ]
  },
  {
   "cell_type": "markdown",
   "metadata": {
    "id": "R7dq85pW9WSz"
   },
   "source": [
    "#### Import Panel Data"
   ]
  },
  {
   "cell_type": "code",
   "execution_count": 2,
   "metadata": {
    "id": "byUO8v599TuY"
   },
   "outputs": [
    {
     "data": {
      "text/html": [
       "<div><style>\n",
       ".dataframe > thead > tr,\n",
       ".dataframe > tbody > tr {\n",
       "  text-align: right;\n",
       "  white-space: pre-wrap;\n",
       "}\n",
       "</style>\n",
       "<small>shape: (5, 7)</small><table border=\"1\" class=\"dataframe\"><thead><tr><th>panel_id</th><th>trans_id</th><th>week</th><th>sku_id</th><th>units</th><th>price</th><th>brand</th></tr><tr><td>i32</td><td>i32</td><td>i16</td><td>cat</td><td>i16</td><td>f32</td><td>cat</td></tr></thead><tbody><tr><td>3102011</td><td>1569</td><td>6</td><td>&quot;19&quot;</td><td>1</td><td>2.79</td><td>&quot;Alpha&quot;</td></tr><tr><td>3102012</td><td>4301</td><td>15</td><td>&quot;15&quot;</td><td>1</td><td>3.19</td><td>&quot;Alpha&quot;</td></tr><tr><td>3102012</td><td>4301</td><td>15</td><td>&quot;15&quot;</td><td>1</td><td>3.19</td><td>&quot;Alpha&quot;</td></tr><tr><td>3102012</td><td>4301</td><td>15</td><td>&quot;38&quot;</td><td>1</td><td>3.49</td><td>&quot;Bravo&quot;</td></tr><tr><td>3102012</td><td>4301</td><td>15</td><td>&quot;44&quot;</td><td>1</td><td>3.49</td><td>&quot;Bravo&quot;</td></tr></tbody></table></div>"
      ],
      "text/plain": [
       "shape: (5, 7)\n",
       "┌──────────┬──────────┬──────┬────────┬───────┬───────┬───────┐\n",
       "│ panel_id ┆ trans_id ┆ week ┆ sku_id ┆ units ┆ price ┆ brand │\n",
       "│ ---      ┆ ---      ┆ ---  ┆ ---    ┆ ---   ┆ ---   ┆ ---   │\n",
       "│ i32      ┆ i32      ┆ i16  ┆ cat    ┆ i16   ┆ f32   ┆ cat   │\n",
       "╞══════════╪══════════╪══════╪════════╪═══════╪═══════╪═══════╡\n",
       "│ 3102011  ┆ 1569     ┆ 6    ┆ 19     ┆ 1     ┆ 2.79  ┆ Alpha │\n",
       "│ 3102012  ┆ 4301     ┆ 15   ┆ 15     ┆ 1     ┆ 3.19  ┆ Alpha │\n",
       "│ 3102012  ┆ 4301     ┆ 15   ┆ 15     ┆ 1     ┆ 3.19  ┆ Alpha │\n",
       "│ 3102012  ┆ 4301     ┆ 15   ┆ 38     ┆ 1     ┆ 3.49  ┆ Bravo │\n",
       "│ 3102012  ┆ 4301     ┆ 15   ┆ 44     ┆ 1     ┆ 3.49  ┆ Bravo │\n",
       "└──────────┴──────────┴──────┴────────┴───────┴───────┴───────┘"
      ]
     },
     "execution_count": 2,
     "metadata": {},
     "output_type": "execute_result"
    }
   ],
   "source": [
    "grocery_lf = pl.scan_csv(source=\"data/panel-datasets/edible_grocery.csv\",\n",
    "                         has_header=True,\n",
    "                         separator=\",\",\n",
    "                         schema={'panel_id': pl.Int32,\n",
    "                                 'trans_id': pl.Int32,\n",
    "                                 'week': pl.Int16,\n",
    "                                 'sku_id': pl.Categorical,\n",
    "                                 'units': pl.Int16,\n",
    "                                 'price': pl.Float32,\n",
    "                                 'brand': pl.Categorical})\n",
    "grocery_lf.head().collect()"
   ]
  },
  {
   "cell_type": "code",
   "execution_count": 3,
   "metadata": {
    "id": "ECLFaaIe95pK"
   },
   "outputs": [
    {
     "data": {
      "text/html": [
       "<div><style>\n",
       ".dataframe > thead > tr,\n",
       ".dataframe > tbody > tr {\n",
       "  text-align: right;\n",
       "  white-space: pre-wrap;\n",
       "}\n",
       "</style>\n",
       "<small>shape: (5, 2)</small><table border=\"1\" class=\"dataframe\"><thead><tr><th>sku_id</th><th>weight</th></tr><tr><td>cat</td><td>i16</td></tr></thead><tbody><tr><td>&quot;1&quot;</td><td>400</td></tr><tr><td>&quot;2&quot;</td><td>400</td></tr><tr><td>&quot;3&quot;</td><td>400</td></tr><tr><td>&quot;4&quot;</td><td>250</td></tr><tr><td>&quot;5&quot;</td><td>1000</td></tr></tbody></table></div>"
      ],
      "text/plain": [
       "shape: (5, 2)\n",
       "┌────────┬────────┐\n",
       "│ sku_id ┆ weight │\n",
       "│ ---    ┆ ---    │\n",
       "│ cat    ┆ i16    │\n",
       "╞════════╪════════╡\n",
       "│ 1      ┆ 400    │\n",
       "│ 2      ┆ 400    │\n",
       "│ 3      ┆ 400    │\n",
       "│ 4      ┆ 250    │\n",
       "│ 5      ┆ 1000   │\n",
       "└────────┴────────┘"
      ]
     },
     "execution_count": 3,
     "metadata": {},
     "output_type": "execute_result"
    }
   ],
   "source": [
    "sku_lf = pl.scan_csv(source=\"data/panel-datasets/sku_weight.csv\",\n",
    "                         has_header=True,\n",
    "                         separator=\",\",\n",
    "                         schema={'sku_id': pl.Categorical,\n",
    "                                 'weight': pl.Int16})\n",
    "sku_lf.head().collect()"
   ]
  },
  {
   "cell_type": "code",
   "execution_count": 4,
   "metadata": {
    "id": "y-r0cpsA97dT"
   },
   "outputs": [
    {
     "data": {
      "text/html": [
       "<div><style>\n",
       ".dataframe > thead > tr,\n",
       ".dataframe > tbody > tr {\n",
       "  text-align: right;\n",
       "  white-space: pre-wrap;\n",
       "}\n",
       "</style>\n",
       "<small>shape: (5, 5)</small><table border=\"1\" class=\"dataframe\"><thead><tr><th>ID</th><th>Market</th><th>Week</th><th>Day</th><th>Units</th></tr><tr><td>i16</td><td>cat</td><td>i16</td><td>i16</td><td>i16</td></tr></thead><tbody><tr><td>10001</td><td>&quot;1&quot;</td><td>19</td><td>3</td><td>1</td></tr><tr><td>10002</td><td>&quot;1&quot;</td><td>12</td><td>5</td><td>1</td></tr><tr><td>10003</td><td>&quot;1&quot;</td><td>37</td><td>7</td><td>1</td></tr><tr><td>10004</td><td>&quot;1&quot;</td><td>30</td><td>6</td><td>1</td></tr><tr><td>10004</td><td>&quot;1&quot;</td><td>47</td><td>3</td><td>1</td></tr></tbody></table></div>"
      ],
      "text/plain": [
       "shape: (5, 5)\n",
       "┌───────┬────────┬──────┬─────┬───────┐\n",
       "│ ID    ┆ Market ┆ Week ┆ Day ┆ Units │\n",
       "│ ---   ┆ ---    ┆ ---  ┆ --- ┆ ---   │\n",
       "│ i16   ┆ cat    ┆ i16  ┆ i16 ┆ i16   │\n",
       "╞═══════╪════════╪══════╪═════╪═══════╡\n",
       "│ 10001 ┆ 1      ┆ 19   ┆ 3   ┆ 1     │\n",
       "│ 10002 ┆ 1      ┆ 12   ┆ 5   ┆ 1     │\n",
       "│ 10003 ┆ 1      ┆ 37   ┆ 7   ┆ 1     │\n",
       "│ 10004 ┆ 1      ┆ 30   ┆ 6   ┆ 1     │\n",
       "│ 10004 ┆ 1      ┆ 47   ┆ 3   ┆ 1     │\n",
       "└───────┴────────┴──────┴─────┴───────┘"
      ]
     },
     "execution_count": 4,
     "metadata": {},
     "output_type": "execute_result"
    }
   ],
   "source": [
    "kiwi_lf = pl.scan_csv(source=\"data/panel-datasets/kiwibubbles_trans.csv\",\n",
    "                      has_header=True,\n",
    "                      separator=\",\",\n",
    "                      schema={'ID': pl.Int16,\n",
    "                              'Market': pl.Categorical,\n",
    "                              'Week': pl.Int16,\n",
    "                              'Day': pl.Int16,\n",
    "                              'Units': pl.Int16})\n",
    "kiwi_lf.head().collect()"
   ]
  },
  {
   "cell_type": "markdown",
   "metadata": {},
   "source": [
    "#### Reusable Functions"
   ]
  },
  {
   "cell_type": "code",
   "execution_count": 5,
   "metadata": {},
   "outputs": [],
   "source": [
    "# Weekly Grocery Sales LazyFrame (Query Plan): Weekly 'spend' by 'Category', 'Brand' or 'All'\n",
    "def weekly_spend_summary(brand, lf):\n",
    "    summary = (\n",
    "        lf\n",
    "        .select(['week', 'units', 'price', 'brand'])\n",
    "        .with_columns(((pl.col('units') * pl.col('price'))).alias('spend'))\n",
    "    )\n",
    "    \n",
    "    if brand == 'Category': # Return LazyFrame of total category\n",
    "        summary = summary.group_by('week')\n",
    "    elif brand == 'All': # Return LazyFrame of all brands\n",
    "        summary = summary.group_by('week', 'brand')\n",
    "    else:  # Return LazyFrame of specified brand\n",
    "        summary = summary.filter(\n",
    "            pl.col('brand') == brand\n",
    "        ).group_by('week', 'brand')\n",
    "        \n",
    "    summary = summary.agg(\n",
    "        pl.col(\"spend\").sum().alias('Weekly Spend') \n",
    "    ).sort('week')\n",
    "    \n",
    "    return summary"
   ]
  },
  {
   "cell_type": "code",
   "execution_count": 6,
   "metadata": {},
   "outputs": [],
   "source": [
    "# Weekly Grocery Volume Sales LazyFrame (Query Plan): Weekly 'volume' by 'Brand' or 'All'\n",
    "def weekly_vol_summary(brand, lf):\n",
    "    with pl.StringCache():\n",
    "        lf = (\n",
    "            lf\n",
    "            .join(\n",
    "                other=sku_lf,\n",
    "                left_on=\"sku_id\",\n",
    "                right_on=\"sku_id\"            \n",
    "            )\n",
    "            .select(['week', 'units', 'brand', 'weight'])\n",
    "        )\n",
    "        \n",
    "        if brand != 'All': \n",
    "            brand = [brand] if type(brand) == str else brand\n",
    "            lf = lf.filter(\n",
    "                pl.col('brand').is_in(*[brand])\n",
    "            )\n",
    "            \n",
    "        summary = lf.with_columns(\n",
    "            (((pl.col('units') * pl.col('weight'))/1000)).alias('volume')\n",
    "        ).group_by('week', 'brand').agg(\n",
    "            pl.col(\"volume\").sum().alias('Weekly Volume')\n",
    "        ).sort('week')\n",
    "        \n",
    "    return summary"
   ]
  },
  {
   "cell_type": "code",
   "execution_count": 7,
   "metadata": {},
   "outputs": [],
   "source": [
    "# Altair Weekly Line Plot\n",
    "def weekly_plot(dataframe, y, color=None, title=\"\", y_axis_label=\"\", pct=False, legend=False):\n",
    "    \n",
    "    # Configure the color encoding only if color is provided\n",
    "    if color is not None:\n",
    "        color_encoding = alt.Color(\n",
    "            f'{color}:N',  # N = a discrete unordered category\n",
    "            legend=alt.Legend(title=color) if legend else None  # Add legend conditionally\n",
    "        )\n",
    "    else:\n",
    "        color_encoding = alt.Color()  # No color encoding    \n",
    "    \n",
    "    chart = alt.Chart(dataframe).mark_line(strokeWidth=1).encode(\n",
    "        x = alt.X(\n",
    "            'week',\n",
    "            axis=alt.Axis(\n",
    "                values=np.arange(0, 104 + 1, 13), # Explicitly specify quarter-end weeks\n",
    "                labelExpr=\"datum.value\", # Show only these labels\n",
    "                title='Week'\n",
    "            )\n",
    "        ),\n",
    "        y = alt.Y(\n",
    "            f'{y}:Q', # Q = a continuous real-valued quantity\n",
    "            title=y_axis_label,\n",
    "            axis=alt.Axis(format=\"$,.0f\") if not pct else alt.Axis(format=\",.0%\")\n",
    "        ),\n",
    "        color = color_encoding\n",
    "    ).properties(\n",
    "        width=650,\n",
    "        height=250,\n",
    "        title=title\n",
    "    ).configure_view(\n",
    "        stroke=None\n",
    "    ).configure_axisY(\n",
    "        # grid=False # turn off y-axis grid if required\n",
    "    )\n",
    "\n",
    "    return chart # alt.JupyterChart(chart)"
   ]
  },
  {
   "cell_type": "code",
   "execution_count": 8,
   "metadata": {},
   "outputs": [],
   "source": [
    "# Annual Sales Summary LazyFrame for All Brands\n",
    "def annual_sales_summary():\n",
    "    summary = (\n",
    "        weekly_spend_summary('All', grocery_lf)\n",
    "        .with_columns((pl.col(\"week\") / 52).ceil().alias('year'))\n",
    "        .group_by(['year', 'brand'])\n",
    "        .agg(pl.col(\"Weekly Spend\").sum().alias('Yearly Sales'))\n",
    "    ).sort('year')\n",
    "    \n",
    "    return summary"
   ]
  },
  {
   "cell_type": "code",
   "execution_count": 9,
   "metadata": {},
   "outputs": [],
   "source": [
    "def freq_dist_plot(\n",
    "    data, \n",
    "    column, \n",
    "    bin_edges, \n",
    "    labels, \n",
    "    x_title, \n",
    "    y_title, \n",
    "    chart_title, \n",
    "    subtitle, \n",
    "    width=650, \n",
    "    height=250, \n",
    "    label_angle=0, \n",
    "    left_closed=True, \n",
    "    compute_rel_freq=True\n",
    "):\n",
    "    \"\"\"\n",
    "    Creates a standardized Altair bar chart for relative frequency distribution plots.\n",
    "\n",
    "    Parameters:\n",
    "    - data (Polars LazyFrame or DataFrame): Input dataset.\n",
    "    - column (str): Column to analyze for distribution.\n",
    "    - bin_edges (array-like): Edges for binning.\n",
    "    - labels (list of str): Labels for the bins.\n",
    "    - x_title (str): Title for the x-axis.\n",
    "    - y_title (str): Title for the y-axis.\n",
    "    - chart_title (str): Main title for the chart.\n",
    "    - subtitle (str): Subtitle for the chart.\n",
    "    - width (int, optional): Width of the chart. Default is 650.\n",
    "    - height (int, optional): Height of the chart. Default is 250.\n",
    "    - label_angle (int, optional): Angle for x-axis labels. Default is 0.\n",
    "    - left_closed (bool, optional): Whether bins are left-closed. Default is True.\n",
    "    - compute_rel_freq (bool, optional): Whether to compute relative frequencies. Default is True.\n",
    "\n",
    "    Returns:\n",
    "    - alt.Chart: The generated Altair chart.\n",
    "    \"\"\"\n",
    "    # Apply binning to the data\n",
    "    binned_data = data.with_columns(\n",
    "        pl.col(column).cut(bin_edges, labels=labels, left_closed=left_closed).alias(\"cut\")\n",
    "    )\n",
    "\n",
    "    # Optionally compute relative frequencies\n",
    "    if compute_rel_freq:\n",
    "        binned_data = (\n",
    "            binned_data\n",
    "            .group_by(\"cut\")\n",
    "            .agg(pl.col(\"cut\").count().alias(\"Frequency\"))\n",
    "            .with_columns(\n",
    "                (pl.col(\"Frequency\") / pl.col(\"Frequency\").sum()).alias(\"% of Total\")\n",
    "            )\n",
    "            .collect()\n",
    "        )\n",
    "\n",
    "    # Create the Altair chart\n",
    "    chart = alt.Chart(binned_data).mark_bar().encode(\n",
    "        x=alt.X(\"cut:O\", axis=alt.Axis(labelAngle=label_angle, title=x_title), sort=labels),\n",
    "        y=alt.Y(\"% of Total:Q\", axis=alt.Axis(format=\".0%\", title=y_title)),\n",
    "    ).properties(\n",
    "        width=width,\n",
    "        height=height,\n",
    "        title={\"text\": chart_title, \"subtitle\": subtitle},\n",
    "    )\n",
    "\n",
    "    return chart"
   ]
  },
  {
   "cell_type": "markdown",
   "metadata": {
    "id": "nAVjw68199_0"
   },
   "source": [
    "### Preliminaries"
   ]
  },
  {
   "cell_type": "markdown",
   "metadata": {
    "id": "JTV6Gf6T-FDX"
   },
   "source": [
    "#### Weekly Sales Pattern"
   ]
  },
  {
   "cell_type": "code",
   "execution_count": null,
   "metadata": {},
   "outputs": [
    {
     "data": {
      "text/html": [
       "<div><style>\n",
       ".dataframe > thead > tr,\n",
       ".dataframe > tbody > tr {\n",
       "  text-align: right;\n",
       "  white-space: pre-wrap;\n",
       "}\n",
       "</style>\n",
       "<small>shape: (104, 7)</small><table border=\"1\" class=\"dataframe\"><thead><tr><th>week</th><th>Alpha</th><th>Bravo</th><th>Charlie</th><th>Delta</th><th>Other</th><th>Total</th></tr><tr><td>i16</td><td>f32</td><td>f32</td><td>f32</td><td>f32</td><td>f32</td><td>f64</td></tr></thead><tbody><tr><td>1</td><td>331.460114</td><td>247.780121</td><td>51.790005</td><td>17.639999</td><td>18.75</td><td>667.420227</td></tr><tr><td>2</td><td>567.249939</td><td>398.640137</td><td>45.429996</td><td>34.190002</td><td>23.23</td><td>1068.740112</td></tr><tr><td>3</td><td>497.96994</td><td>639.980103</td><td>51.110001</td><td>39.389999</td><td>14.550001</td><td>1243.000122</td></tr><tr><td>4</td><td>1389.95752</td><td>472.5</td><td>51.869999</td><td>85.039993</td><td>39.779995</td><td>2039.147461</td></tr><tr><td>5</td><td>358.240204</td><td>252.540115</td><td>40.209995</td><td>69.540001</td><td>45.929993</td><td>766.460327</td></tr><tr><td>&hellip;</td><td>&hellip;</td><td>&hellip;</td><td>&hellip;</td><td>&hellip;</td><td>&hellip;</td><td>&hellip;</td></tr><tr><td>100</td><td>692.479919</td><td>420.479706</td><td>69.599991</td><td>54.590004</td><td>47.969997</td><td>1285.119629</td></tr><tr><td>101</td><td>265.770081</td><td>264.660065</td><td>64.029999</td><td>35.049999</td><td>26.880001</td><td>656.390198</td></tr><tr><td>102</td><td>379.610168</td><td>456.789429</td><td>43.499996</td><td>20.4</td><td>43.609993</td><td>943.909607</td></tr><tr><td>103</td><td>532.5</td><td>440.999725</td><td>76.400002</td><td>40.440006</td><td>45.549999</td><td>1135.889771</td></tr><tr><td>104</td><td>394.889984</td><td>233.190048</td><td>53.18</td><td>68.259995</td><td>36.68</td><td>786.200012</td></tr></tbody></table></div>"
      ],
      "text/plain": [
       "shape: (104, 7)\n",
       "┌──────┬────────────┬────────────┬───────────┬───────────┬───────────┬─────────────┐\n",
       "│ week ┆ Alpha      ┆ Bravo      ┆ Charlie   ┆ Delta     ┆ Other     ┆ Total       │\n",
       "│ ---  ┆ ---        ┆ ---        ┆ ---       ┆ ---       ┆ ---       ┆ ---         │\n",
       "│ i16  ┆ f32        ┆ f32        ┆ f32       ┆ f32       ┆ f32       ┆ f64         │\n",
       "╞══════╪════════════╪════════════╪═══════════╪═══════════╪═══════════╪═════════════╡\n",
       "│ 1    ┆ 331.460114 ┆ 247.780121 ┆ 51.790005 ┆ 17.639999 ┆ 18.75     ┆ 667.420227  │\n",
       "│ 2    ┆ 567.249939 ┆ 398.640137 ┆ 45.429996 ┆ 34.190002 ┆ 23.23     ┆ 1068.740112 │\n",
       "│ 3    ┆ 497.96994  ┆ 639.980103 ┆ 51.110001 ┆ 39.389999 ┆ 14.550001 ┆ 1243.000122 │\n",
       "│ 4    ┆ 1389.95752 ┆ 472.5      ┆ 51.869999 ┆ 85.039993 ┆ 39.779995 ┆ 2039.147461 │\n",
       "│ 5    ┆ 358.240204 ┆ 252.540115 ┆ 40.209995 ┆ 69.540001 ┆ 45.929993 ┆ 766.460327  │\n",
       "│ …    ┆ …          ┆ …          ┆ …         ┆ …         ┆ …         ┆ …           │\n",
       "│ 100  ┆ 692.479919 ┆ 420.479706 ┆ 69.599991 ┆ 54.590004 ┆ 47.969997 ┆ 1285.119629 │\n",
       "│ 101  ┆ 265.770081 ┆ 264.660065 ┆ 64.029999 ┆ 35.049999 ┆ 26.880001 ┆ 656.390198  │\n",
       "│ 102  ┆ 379.610168 ┆ 456.789429 ┆ 43.499996 ┆ 20.4      ┆ 43.609993 ┆ 943.909607  │\n",
       "│ 103  ┆ 532.5      ┆ 440.999725 ┆ 76.400002 ┆ 40.440006 ┆ 45.549999 ┆ 1135.889771 │\n",
       "│ 104  ┆ 394.889984 ┆ 233.190048 ┆ 53.18     ┆ 68.259995 ┆ 36.68     ┆ 786.200012  │\n",
       "└──────┴────────────┴────────────┴───────────┴───────────┴───────────┴─────────────┘"
      ]
     },
     "execution_count": 10,
     "metadata": {},
     "output_type": "execute_result"
    }
   ],
   "source": [
    "# Weekly Sales Pivot Table - Polars DataFrame\n",
    "# For visualizing and inspecting only\n",
    "weekly_spend_summary('All', grocery_lf).collect().pivot(\n",
    "    on=\"brand\",\n",
    "    index=\"week\",\n",
    "    values=\"Weekly Spend\",\n",
    "    sort_columns=True,\n",
    ").with_columns(\n",
    "    pl.sum_horizontal(pl.exclude('week')).alias(\"Total\") # Row total\n",
    ").sort(\"week\")"
   ]
  },
  {
   "cell_type": "code",
   "execution_count": 11,
   "metadata": {},
   "outputs": [
    {
     "data": {
      "application/vnd.vegalite.v5+json": {
       "$schema": "https://vega.github.io/schema/vega-lite/v5.20.1.json",
       "config": {
        "axisY": {},
        "view": {
         "continuousHeight": 300,
         "continuousWidth": 300,
         "stroke": null
        }
       },
       "data": {
        "name": "data-3c6781c07275ad30e41553e282381cfb"
       },
       "datasets": {
        "data-3c6781c07275ad30e41553e282381cfb": [
         {
          "Weekly Spend": 667.4200439453125,
          "week": 1
         },
         {
          "Weekly Spend": 1068.73974609375,
          "week": 2
         },
         {
          "Weekly Spend": 1242.99951171875,
          "week": 3
         },
         {
          "Weekly Spend": 2039.14599609375,
          "week": 4
         },
         {
          "Weekly Spend": 766.4600830078125,
          "week": 5
         },
         {
          "Weekly Spend": 767.8800048828125,
          "week": 6
         },
         {
          "Weekly Spend": 827.3706665039062,
          "week": 7
         },
         {
          "Weekly Spend": 776.9105834960938,
          "week": 8
         },
         {
          "Weekly Spend": 808.4098510742188,
          "week": 9
         },
         {
          "Weekly Spend": 997.0902099609375,
          "week": 10
         },
         {
          "Weekly Spend": 1054.7008056640625,
          "week": 11
         },
         {
          "Weekly Spend": 1540.7889404296875,
          "week": 12
         },
         {
          "Weekly Spend": 1109.699951171875,
          "week": 13
         },
         {
          "Weekly Spend": 1557.7591552734375,
          "week": 14
         },
         {
          "Weekly Spend": 1420.4002685546875,
          "week": 15
         },
         {
          "Weekly Spend": 1046.9998779296875,
          "week": 16
         },
         {
          "Weekly Spend": 1109.679931640625,
          "week": 17
         },
         {
          "Weekly Spend": 1524.669677734375,
          "week": 18
         },
         {
          "Weekly Spend": 1409.84033203125,
          "week": 19
         },
         {
          "Weekly Spend": 2037.128173828125,
          "week": 20
         },
         {
          "Weekly Spend": 2782.602783203125,
          "week": 21
         },
         {
          "Weekly Spend": 1370.781005859375,
          "week": 22
         },
         {
          "Weekly Spend": 1325.490234375,
          "week": 23
         },
         {
          "Weekly Spend": 1605.070556640625,
          "week": 24
         },
         {
          "Weekly Spend": 1332.1307373046875,
          "week": 25
         },
         {
          "Weekly Spend": 3843.102783203125,
          "week": 26
         },
         {
          "Weekly Spend": 2046.250732421875,
          "week": 27
         },
         {
          "Weekly Spend": 1380.5003662109375,
          "week": 28
         },
         {
          "Weekly Spend": 1149.76025390625,
          "week": 29
         },
         {
          "Weekly Spend": 1269.869384765625,
          "week": 30
         },
         {
          "Weekly Spend": 1659.677978515625,
          "week": 31
         },
         {
          "Weekly Spend": 1904.1939697265625,
          "week": 32
         },
         {
          "Weekly Spend": 1225.130126953125,
          "week": 33
         },
         {
          "Weekly Spend": 2115.731201171875,
          "week": 34
         },
         {
          "Weekly Spend": 2329.2080078125,
          "week": 35
         },
         {
          "Weekly Spend": 1210.6890869140625,
          "week": 36
         },
         {
          "Weekly Spend": 916.25048828125,
          "week": 37
         },
         {
          "Weekly Spend": 903.5802001953125,
          "week": 38
         },
         {
          "Weekly Spend": 972.730224609375,
          "week": 39
         },
         {
          "Weekly Spend": 1057.2900390625,
          "week": 40
         },
         {
          "Weekly Spend": 1131.1595458984375,
          "week": 41
         },
         {
          "Weekly Spend": 1177.1988525390625,
          "week": 42
         },
         {
          "Weekly Spend": 1246.218505859375,
          "week": 43
         },
         {
          "Weekly Spend": 2063.510986328125,
          "week": 44
         },
         {
          "Weekly Spend": 787.4898071289062,
          "week": 45
         },
         {
          "Weekly Spend": 1276.1793212890625,
          "week": 46
         },
         {
          "Weekly Spend": 1578.0477294921875,
          "week": 47
         },
         {
          "Weekly Spend": 856.590087890625,
          "week": 48
         },
         {
          "Weekly Spend": 1106.7196044921875,
          "week": 49
         },
         {
          "Weekly Spend": 1652.017822265625,
          "week": 50
         },
         {
          "Weekly Spend": 1869.1966552734375,
          "week": 51
         },
         {
          "Weekly Spend": 1183.358642578125,
          "week": 52
         },
         {
          "Weekly Spend": 872.9097900390625,
          "week": 53
         },
         {
          "Weekly Spend": 1069.8692626953125,
          "week": 54
         },
         {
          "Weekly Spend": 1556.05517578125,
          "week": 55
         },
         {
          "Weekly Spend": 1607.6275634765625,
          "week": 56
         },
         {
          "Weekly Spend": 1860.2530517578125,
          "week": 57
         },
         {
          "Weekly Spend": 729.7400512695312,
          "week": 58
         },
         {
          "Weekly Spend": 953.4902954101562,
          "week": 59
         },
         {
          "Weekly Spend": 860.6207275390625,
          "week": 60
         },
         {
          "Weekly Spend": 933.5899658203125,
          "week": 61
         },
         {
          "Weekly Spend": 956.6499633789062,
          "week": 62
         },
         {
          "Weekly Spend": 1082.530029296875,
          "week": 63
         },
         {
          "Weekly Spend": 1346.1380615234375,
          "week": 64
         },
         {
          "Weekly Spend": 1204.1385498046875,
          "week": 65
         },
         {
          "Weekly Spend": 960.3594970703125,
          "week": 66
         },
         {
          "Weekly Spend": 834.2498779296875,
          "week": 67
         },
         {
          "Weekly Spend": 1326.308837890625,
          "week": 68
         },
         {
          "Weekly Spend": 1446.9766845703125,
          "week": 69
         },
         {
          "Weekly Spend": 1008.9203491210938,
          "week": 70
         },
         {
          "Weekly Spend": 1214.859130859375,
          "week": 71
         },
         {
          "Weekly Spend": 1971.1353759765625,
          "week": 72
         },
         {
          "Weekly Spend": 3568.181884765625,
          "week": 73
         },
         {
          "Weekly Spend": 1207.1785888671875,
          "week": 74
         },
         {
          "Weekly Spend": 1235.1295166015625,
          "week": 75
         },
         {
          "Weekly Spend": 1347.2489013671875,
          "week": 76
         },
         {
          "Weekly Spend": 1998.2535400390625,
          "week": 77
         },
         {
          "Weekly Spend": 3666.67578125,
          "week": 78
         },
         {
          "Weekly Spend": 2465.878173828125,
          "week": 79
         },
         {
          "Weekly Spend": 1234.1397705078125,
          "week": 80
         },
         {
          "Weekly Spend": 1378.548095703125,
          "week": 81
         },
         {
          "Weekly Spend": 1199.768798828125,
          "week": 82
         },
         {
          "Weekly Spend": 1184.139404296875,
          "week": 83
         },
         {
          "Weekly Spend": 1118.800048828125,
          "week": 84
         },
         {
          "Weekly Spend": 1645.0155029296875,
          "week": 85
         },
         {
          "Weekly Spend": 1805.47412109375,
          "week": 86
         },
         {
          "Weekly Spend": 2821.316162109375,
          "week": 87
         },
         {
          "Weekly Spend": 1381.0576171875,
          "week": 88
         },
         {
          "Weekly Spend": 693.5901489257812,
          "week": 89
         },
         {
          "Weekly Spend": 983.8609619140625,
          "week": 90
         },
         {
          "Weekly Spend": 1039.7010498046875,
          "week": 91
         },
         {
          "Weekly Spend": 942.4304809570312,
          "week": 92
         },
         {
          "Weekly Spend": 751.2203369140625,
          "week": 93
         },
         {
          "Weekly Spend": 820.3405151367188,
          "week": 94
         },
         {
          "Weekly Spend": 904.3005981445312,
          "week": 95
         },
         {
          "Weekly Spend": 1038.4700927734375,
          "week": 96
         },
         {
          "Weekly Spend": 1631.4844970703125,
          "week": 97
         },
         {
          "Weekly Spend": 2632.84765625,
          "week": 98
         },
         {
          "Weekly Spend": 1361.9095458984375,
          "week": 99
         },
         {
          "Weekly Spend": 1285.1180419921875,
          "week": 100
         },
         {
          "Weekly Spend": 656.3902587890625,
          "week": 101
         },
         {
          "Weekly Spend": 943.9097900390625,
          "week": 102
         },
         {
          "Weekly Spend": 1135.8892822265625,
          "week": 103
         },
         {
          "Weekly Spend": 786.1997680664062,
          "week": 104
         }
        ]
       },
       "encoding": {
        "color": {},
        "x": {
         "axis": {
          "labelExpr": "datum.value",
          "title": "Week",
          "values": [
           0,
           13,
           26,
           39,
           52,
           65,
           78,
           91,
           104
          ]
         },
         "field": "week",
         "type": "quantitative"
        },
        "y": {
         "axis": {
          "format": "$,.0f"
         },
         "field": "Weekly Spend",
         "title": "Spend ($)",
         "type": "quantitative"
        }
       },
       "height": 250,
       "mark": {
        "strokeWidth": 1,
        "type": "line"
       },
       "title": "Category - Weekly Revenue",
       "width": 650
      },
      "text/plain": [
       "<VegaLite 5 object>\n",
       "\n",
       "If you see this message, it means the renderer has not been properly enabled\n",
       "for the frontend that you are using. For more information, see\n",
       "https://altair-viz.github.io/user_guide/display_frontends.html#troubleshooting\n"
      ]
     },
     "execution_count": 11,
     "metadata": {},
     "output_type": "execute_result"
    }
   ],
   "source": [
    "weekly_plot(dataframe=weekly_spend_summary('Category', grocery_lf).collect(), \n",
    "            y='Weekly Spend', \n",
    "            title='Category - Weekly Revenue', \n",
    "            y_axis_label='Spend ($)',\n",
    "            pct=False,\n",
    "            legend=False)"
   ]
  },
  {
   "cell_type": "code",
   "execution_count": 12,
   "metadata": {},
   "outputs": [
    {
     "data": {
      "application/vnd.vegalite.v5+json": {
       "$schema": "https://vega.github.io/schema/vega-lite/v5.20.1.json",
       "config": {
        "axisY": {},
        "view": {
         "continuousHeight": 300,
         "continuousWidth": 300,
         "stroke": null
        }
       },
       "data": {
        "name": "data-d30e90f8f3f3f0bb3e2f040b912a493a"
       },
       "datasets": {
        "data-d30e90f8f3f3f0bb3e2f040b912a493a": [
         {
          "Weekly Spend": 331.4601135253906,
          "brand": "Alpha",
          "week": 1
         },
         {
          "Weekly Spend": 567.2499389648438,
          "brand": "Alpha",
          "week": 2
         },
         {
          "Weekly Spend": 497.9699401855469,
          "brand": "Alpha",
          "week": 3
         },
         {
          "Weekly Spend": 1389.95751953125,
          "brand": "Alpha",
          "week": 4
         },
         {
          "Weekly Spend": 358.2402038574219,
          "brand": "Alpha",
          "week": 5
         },
         {
          "Weekly Spend": 364.0600280761719,
          "brand": "Alpha",
          "week": 6
         },
         {
          "Weekly Spend": 412.34014892578125,
          "brand": "Alpha",
          "week": 7
         },
         {
          "Weekly Spend": 307.6201171875,
          "brand": "Alpha",
          "week": 8
         },
         {
          "Weekly Spend": 290.580078125,
          "brand": "Alpha",
          "week": 9
         },
         {
          "Weekly Spend": 442.64019775390625,
          "brand": "Alpha",
          "week": 10
         },
         {
          "Weekly Spend": 258.6200256347656,
          "brand": "Alpha",
          "week": 11
         },
         {
          "Weekly Spend": 912.5907592773438,
          "brand": "Alpha",
          "week": 12
         },
         {
          "Weekly Spend": 443.6502380371094,
          "brand": "Alpha",
          "week": 13
         },
         {
          "Weekly Spend": 853.830322265625,
          "brand": "Alpha",
          "week": 14
         },
         {
          "Weekly Spend": 446.1503601074219,
          "brand": "Alpha",
          "week": 15
         },
         {
          "Weekly Spend": 579.4600830078125,
          "brand": "Alpha",
          "week": 16
         },
         {
          "Weekly Spend": 410.93023681640625,
          "brand": "Alpha",
          "week": 17
         },
         {
          "Weekly Spend": 703.3102416992188,
          "brand": "Alpha",
          "week": 18
         },
         {
          "Weekly Spend": 607.4000244140625,
          "brand": "Alpha",
          "week": 19
         },
         {
          "Weekly Spend": 801.2600708007812,
          "brand": "Alpha",
          "week": 20
         },
         {
          "Weekly Spend": 903.2706298828125,
          "brand": "Alpha",
          "week": 21
         },
         {
          "Weekly Spend": 672.1006469726562,
          "brand": "Alpha",
          "week": 22
         },
         {
          "Weekly Spend": 620.7203369140625,
          "brand": "Alpha",
          "week": 23
         },
         {
          "Weekly Spend": 702.7504272460938,
          "brand": "Alpha",
          "week": 24
         },
         {
          "Weekly Spend": 509.1305236816406,
          "brand": "Alpha",
          "week": 25
         },
         {
          "Weekly Spend": 1977.66455078125,
          "brand": "Alpha",
          "week": 26
         },
         {
          "Weekly Spend": 1180.6121826171875,
          "brand": "Alpha",
          "week": 27
         },
         {
          "Weekly Spend": 486.72039794921875,
          "brand": "Alpha",
          "week": 28
         },
         {
          "Weekly Spend": 507.5603332519531,
          "brand": "Alpha",
          "week": 29
         },
         {
          "Weekly Spend": 596.3203125,
          "brand": "Alpha",
          "week": 30
         },
         {
          "Weekly Spend": 604.0001831054688,
          "brand": "Alpha",
          "week": 31
         },
         {
          "Weekly Spend": 611.1402587890625,
          "brand": "Alpha",
          "week": 32
         },
         {
          "Weekly Spend": 614.9400634765625,
          "brand": "Alpha",
          "week": 33
         },
         {
          "Weekly Spend": 1535.922119140625,
          "brand": "Alpha",
          "week": 34
         },
         {
          "Weekly Spend": 1571.509521484375,
          "brand": "Alpha",
          "week": 35
         },
         {
          "Weekly Spend": 587.4197387695312,
          "brand": "Alpha",
          "week": 36
         },
         {
          "Weekly Spend": 426.87005615234375,
          "brand": "Alpha",
          "week": 37
         },
         {
          "Weekly Spend": 383.8000793457031,
          "brand": "Alpha",
          "week": 38
         },
         {
          "Weekly Spend": 465.72003173828125,
          "brand": "Alpha",
          "week": 39
         },
         {
          "Weekly Spend": 447.0300598144531,
          "brand": "Alpha",
          "week": 40
         },
         {
          "Weekly Spend": 421.7700500488281,
          "brand": "Alpha",
          "week": 41
         },
         {
          "Weekly Spend": 364.6600036621094,
          "brand": "Alpha",
          "week": 42
         },
         {
          "Weekly Spend": 389.4200744628906,
          "brand": "Alpha",
          "week": 43
         },
         {
          "Weekly Spend": 408.33001708984375,
          "brand": "Alpha",
          "week": 44
         },
         {
          "Weekly Spend": 311.08013916015625,
          "brand": "Alpha",
          "week": 45
         },
         {
          "Weekly Spend": 575.3999633789062,
          "brand": "Alpha",
          "week": 46
         },
         {
          "Weekly Spend": 1188.458740234375,
          "brand": "Alpha",
          "week": 47
         },
         {
          "Weekly Spend": 434.8900451660156,
          "brand": "Alpha",
          "week": 48
         },
         {
          "Weekly Spend": 365.0300598144531,
          "brand": "Alpha",
          "week": 49
         },
         {
          "Weekly Spend": 1164.7088623046875,
          "brand": "Alpha",
          "week": 50
         },
         {
          "Weekly Spend": 773.2094116210938,
          "brand": "Alpha",
          "week": 51
         },
         {
          "Weekly Spend": 789.46923828125,
          "brand": "Alpha",
          "week": 52
         },
         {
          "Weekly Spend": 386.7501525878906,
          "brand": "Alpha",
          "week": 53
         },
         {
          "Weekly Spend": 586.9396362304688,
          "brand": "Alpha",
          "week": 54
         },
         {
          "Weekly Spend": 1045.8380126953125,
          "brand": "Alpha",
          "week": 55
         },
         {
          "Weekly Spend": 939.5099487304688,
          "brand": "Alpha",
          "week": 56
         },
         {
          "Weekly Spend": 1040.8994140625,
          "brand": "Alpha",
          "week": 57
         },
         {
          "Weekly Spend": 308.9900817871094,
          "brand": "Alpha",
          "week": 58
         },
         {
          "Weekly Spend": 547.6300048828125,
          "brand": "Alpha",
          "week": 59
         },
         {
          "Weekly Spend": 363.9002380371094,
          "brand": "Alpha",
          "week": 60
         },
         {
          "Weekly Spend": 476.6103515625,
          "brand": "Alpha",
          "week": 61
         },
         {
          "Weekly Spend": 484.7003173828125,
          "brand": "Alpha",
          "week": 62
         },
         {
          "Weekly Spend": 359.43017578125,
          "brand": "Alpha",
          "week": 63
         },
         {
          "Weekly Spend": 472.2302551269531,
          "brand": "Alpha",
          "week": 64
         },
         {
          "Weekly Spend": 665.6598510742188,
          "brand": "Alpha",
          "week": 65
         },
         {
          "Weekly Spend": 413.5800476074219,
          "brand": "Alpha",
          "week": 66
         },
         {
          "Weekly Spend": 364.3900146484375,
          "brand": "Alpha",
          "week": 67
         },
         {
          "Weekly Spend": 636.039794921875,
          "brand": "Alpha",
          "week": 68
         },
         {
          "Weekly Spend": 356.2501525878906,
          "brand": "Alpha",
          "week": 69
         },
         {
          "Weekly Spend": 433.2401428222656,
          "brand": "Alpha",
          "week": 70
         },
         {
          "Weekly Spend": 507.04010009765625,
          "brand": "Alpha",
          "week": 71
         },
         {
          "Weekly Spend": 1328.038330078125,
          "brand": "Alpha",
          "week": 72
         },
         {
          "Weekly Spend": 2070.157958984375,
          "brand": "Alpha",
          "week": 73
         },
         {
          "Weekly Spend": 606.7600708007812,
          "brand": "Alpha",
          "week": 74
         },
         {
          "Weekly Spend": 629.2600708007812,
          "brand": "Alpha",
          "week": 75
         },
         {
          "Weekly Spend": 611.8903198242188,
          "brand": "Alpha",
          "week": 76
         },
         {
          "Weekly Spend": 1198.6287841796875,
          "brand": "Alpha",
          "week": 77
         },
         {
          "Weekly Spend": 2345.435791015625,
          "brand": "Alpha",
          "week": 78
         },
         {
          "Weekly Spend": 1447.2288818359375,
          "brand": "Alpha",
          "week": 79
         },
         {
          "Weekly Spend": 531.5003662109375,
          "brand": "Alpha",
          "week": 80
         },
         {
          "Weekly Spend": 570.05029296875,
          "brand": "Alpha",
          "week": 81
         },
         {
          "Weekly Spend": 431.1202087402344,
          "brand": "Alpha",
          "week": 82
         },
         {
          "Weekly Spend": 529.820068359375,
          "brand": "Alpha",
          "week": 83
         },
         {
          "Weekly Spend": 582.5802001953125,
          "brand": "Alpha",
          "week": 84
         },
         {
          "Weekly Spend": 802.8195190429688,
          "brand": "Alpha",
          "week": 85
         },
         {
          "Weekly Spend": 985.1090698242188,
          "brand": "Alpha",
          "week": 86
         },
         {
          "Weekly Spend": 1304.2593994140625,
          "brand": "Alpha",
          "week": 87
         },
         {
          "Weekly Spend": 991.0695190429688,
          "brand": "Alpha",
          "week": 88
         },
         {
          "Weekly Spend": 309.98016357421875,
          "brand": "Alpha",
          "week": 89
         },
         {
          "Weekly Spend": 477.5602722167969,
          "brand": "Alpha",
          "week": 90
         },
         {
          "Weekly Spend": 406.980224609375,
          "brand": "Alpha",
          "week": 91
         },
         {
          "Weekly Spend": 390.3000793457031,
          "brand": "Alpha",
          "week": 92
         },
         {
          "Weekly Spend": 306.7400817871094,
          "brand": "Alpha",
          "week": 93
         },
         {
          "Weekly Spend": 376.9102478027344,
          "brand": "Alpha",
          "week": 94
         },
         {
          "Weekly Spend": 383.11016845703125,
          "brand": "Alpha",
          "week": 95
         },
         {
          "Weekly Spend": 674.090087890625,
          "brand": "Alpha",
          "week": 96
         },
         {
          "Weekly Spend": 840.3900756835938,
          "brand": "Alpha",
          "week": 97
         },
         {
          "Weekly Spend": 1079.0780029296875,
          "brand": "Alpha",
          "week": 98
         },
         {
          "Weekly Spend": 384.9902038574219,
          "brand": "Alpha",
          "week": 99
         },
         {
          "Weekly Spend": 692.4799194335938,
          "brand": "Alpha",
          "week": 100
         },
         {
          "Weekly Spend": 265.77008056640625,
          "brand": "Alpha",
          "week": 101
         },
         {
          "Weekly Spend": 379.61016845703125,
          "brand": "Alpha",
          "week": 102
         },
         {
          "Weekly Spend": 532.5,
          "brand": "Alpha",
          "week": 103
         },
         {
          "Weekly Spend": 394.8899841308594,
          "brand": "Alpha",
          "week": 104
         }
        ]
       },
       "encoding": {
        "color": {
         "field": "brand",
         "legend": null,
         "type": "nominal"
        },
        "x": {
         "axis": {
          "labelExpr": "datum.value",
          "title": "Week",
          "values": [
           0,
           13,
           26,
           39,
           52,
           65,
           78,
           91,
           104
          ]
         },
         "field": "week",
         "type": "quantitative"
        },
        "y": {
         "axis": {
          "format": "$,.0f"
         },
         "field": "Weekly Spend",
         "title": "Spend ($)",
         "type": "quantitative"
        }
       },
       "height": 250,
       "mark": {
        "strokeWidth": 1,
        "type": "line"
       },
       "title": "Alpha - Weekly Revenue",
       "width": 650
      },
      "text/plain": [
       "<VegaLite 5 object>\n",
       "\n",
       "If you see this message, it means the renderer has not been properly enabled\n",
       "for the frontend that you are using. For more information, see\n",
       "https://altair-viz.github.io/user_guide/display_frontends.html#troubleshooting\n"
      ]
     },
     "execution_count": 12,
     "metadata": {},
     "output_type": "execute_result"
    }
   ],
   "source": [
    "weekly_plot(dataframe=weekly_spend_summary('Alpha', grocery_lf).collect(), \n",
    "            y='Weekly Spend', \n",
    "            color='brand',\n",
    "            title='Alpha - Weekly Revenue', \n",
    "            y_axis_label='Spend ($)',\n",
    "            pct=False,\n",
    "            legend=False)"
   ]
  },
  {
   "cell_type": "code",
   "execution_count": 13,
   "metadata": {},
   "outputs": [
    {
     "data": {
      "application/vnd.vegalite.v5+json": {
       "$schema": "https://vega.github.io/schema/vega-lite/v5.20.1.json",
       "config": {
        "axisY": {},
        "view": {
         "continuousHeight": 300,
         "continuousWidth": 300,
         "stroke": null
        }
       },
       "data": {
        "name": "data-31ddc573a7c8035b0322ff5845bca10a"
       },
       "datasets": {
        "data-31ddc573a7c8035b0322ff5845bca10a": [
         {
          "Weekly Spend": 247.78012084960938,
          "brand": "Bravo",
          "week": 1
         },
         {
          "Weekly Spend": 398.64013671875,
          "brand": "Bravo",
          "week": 2
         },
         {
          "Weekly Spend": 639.9801025390625,
          "brand": "Bravo",
          "week": 3
         },
         {
          "Weekly Spend": 472.5,
          "brand": "Bravo",
          "week": 4
         },
         {
          "Weekly Spend": 252.5401153564453,
          "brand": "Bravo",
          "week": 5
         },
         {
          "Weekly Spend": 239.8101348876953,
          "brand": "Bravo",
          "week": 6
         },
         {
          "Weekly Spend": 271.9801330566406,
          "brand": "Bravo",
          "week": 7
         },
         {
          "Weekly Spend": 295.7101135253906,
          "brand": "Bravo",
          "week": 8
         },
         {
          "Weekly Spend": 384.36993408203125,
          "brand": "Bravo",
          "week": 9
         },
         {
          "Weekly Spend": 454.2200622558594,
          "brand": "Bravo",
          "week": 10
         },
         {
          "Weekly Spend": 695.2700805664062,
          "brand": "Bravo",
          "week": 11
         },
         {
          "Weekly Spend": 492.880126953125,
          "brand": "Bravo",
          "week": 12
         },
         {
          "Weekly Spend": 501.13006591796875,
          "brand": "Bravo",
          "week": 13
         },
         {
          "Weekly Spend": 385.23004150390625,
          "brand": "Bravo",
          "week": 14
         },
         {
          "Weekly Spend": 804.3599853515625,
          "brand": "Bravo",
          "week": 15
         },
         {
          "Weekly Spend": 365.9801940917969,
          "brand": "Bravo",
          "week": 16
         },
         {
          "Weekly Spend": 458.4902038574219,
          "brand": "Bravo",
          "week": 17
         },
         {
          "Weekly Spend": 475.3800964355469,
          "brand": "Bravo",
          "week": 18
         },
         {
          "Weekly Spend": 455.2801208496094,
          "brand": "Bravo",
          "week": 19
         },
         {
          "Weekly Spend": 929.7398071289062,
          "brand": "Bravo",
          "week": 20
         },
         {
          "Weekly Spend": 1675.4091796875,
          "brand": "Bravo",
          "week": 21
         },
         {
          "Weekly Spend": 557.880126953125,
          "brand": "Bravo",
          "week": 22
         },
         {
          "Weekly Spend": 508.0301208496094,
          "brand": "Bravo",
          "week": 23
         },
         {
          "Weekly Spend": 508.1401672363281,
          "brand": "Bravo",
          "week": 24
         },
         {
          "Weekly Spend": 635.4301147460938,
          "brand": "Bravo",
          "week": 25
         },
         {
          "Weekly Spend": 1674.229736328125,
          "brand": "Bravo",
          "week": 26
         },
         {
          "Weekly Spend": 592.81005859375,
          "brand": "Bravo",
          "week": 27
         },
         {
          "Weekly Spend": 697.8102416992188,
          "brand": "Bravo",
          "week": 28
         },
         {
          "Weekly Spend": 474.2400207519531,
          "brand": "Bravo",
          "week": 29
         },
         {
          "Weekly Spend": 411.25982666015625,
          "brand": "Bravo",
          "week": 30
         },
         {
          "Weekly Spend": 751.1602783203125,
          "brand": "Bravo",
          "week": 31
         },
         {
          "Weekly Spend": 1065.2103271484375,
          "brand": "Bravo",
          "week": 32
         },
         {
          "Weekly Spend": 418.6598815917969,
          "brand": "Bravo",
          "week": 33
         },
         {
          "Weekly Spend": 410.7998352050781,
          "brand": "Bravo",
          "week": 34
         },
         {
          "Weekly Spend": 624.1898803710938,
          "brand": "Bravo",
          "week": 35
         },
         {
          "Weekly Spend": 389.6098937988281,
          "brand": "Bravo",
          "week": 36
         },
         {
          "Weekly Spend": 333.65997314453125,
          "brand": "Bravo",
          "week": 37
         },
         {
          "Weekly Spend": 371.73992919921875,
          "brand": "Bravo",
          "week": 38
         },
         {
          "Weekly Spend": 283.4500732421875,
          "brand": "Bravo",
          "week": 39
         },
         {
          "Weekly Spend": 440.0198974609375,
          "brand": "Bravo",
          "week": 40
         },
         {
          "Weekly Spend": 477.6198425292969,
          "brand": "Bravo",
          "week": 41
         },
         {
          "Weekly Spend": 647.0596313476562,
          "brand": "Bravo",
          "week": 42
         },
         {
          "Weekly Spend": 714.1895141601562,
          "brand": "Bravo",
          "week": 43
         },
         {
          "Weekly Spend": 1532.925048828125,
          "brand": "Bravo",
          "week": 44
         },
         {
          "Weekly Spend": 352.96990966796875,
          "brand": "Bravo",
          "week": 45
         },
         {
          "Weekly Spend": 447.6199035644531,
          "brand": "Bravo",
          "week": 46
         },
         {
          "Weekly Spend": 234.7301025390625,
          "brand": "Bravo",
          "week": 47
         },
         {
          "Weekly Spend": 261.1400451660156,
          "brand": "Bravo",
          "week": 48
         },
         {
          "Weekly Spend": 505.4093322753906,
          "brand": "Bravo",
          "week": 49
         },
         {
          "Weekly Spend": 301.8601379394531,
          "brand": "Bravo",
          "week": 50
         },
         {
          "Weekly Spend": 833.8690795898438,
          "brand": "Bravo",
          "week": 51
         },
         {
          "Weekly Spend": 248.94007873535156,
          "brand": "Bravo",
          "week": 52
         },
         {
          "Weekly Spend": 335.02996826171875,
          "brand": "Bravo",
          "week": 53
         },
         {
          "Weekly Spend": 343.7998962402344,
          "brand": "Bravo",
          "week": 54
         },
         {
          "Weekly Spend": 359.259765625,
          "brand": "Bravo",
          "week": 55
         },
         {
          "Weekly Spend": 503.6197509765625,
          "brand": "Bravo",
          "week": 56
         },
         {
          "Weekly Spend": 661.1296997070312,
          "brand": "Bravo",
          "week": 57
         },
         {
          "Weekly Spend": 264.38006591796875,
          "brand": "Bravo",
          "week": 58
         },
         {
          "Weekly Spend": 206.18002319335938,
          "brand": "Bravo",
          "week": 59
         },
         {
          "Weekly Spend": 318.56988525390625,
          "brand": "Bravo",
          "week": 60
         },
         {
          "Weekly Spend": 310.31982421875,
          "brand": "Bravo",
          "week": 61
         },
         {
          "Weekly Spend": 314.0199890136719,
          "brand": "Bravo",
          "week": 62
         },
         {
          "Weekly Spend": 575.7496337890625,
          "brand": "Bravo",
          "week": 63
         },
         {
          "Weekly Spend": 707.979736328125,
          "brand": "Bravo",
          "week": 64
         },
         {
          "Weekly Spend": 454.1295471191406,
          "brand": "Bravo",
          "week": 65
         },
         {
          "Weekly Spend": 393.760009765625,
          "brand": "Bravo",
          "week": 66
         },
         {
          "Weekly Spend": 306.22998046875,
          "brand": "Bravo",
          "week": 67
         },
         {
          "Weekly Spend": 516.4496459960938,
          "brand": "Bravo",
          "week": 68
         },
         {
          "Weekly Spend": 950.017822265625,
          "brand": "Bravo",
          "week": 69
         },
         {
          "Weekly Spend": 373.329833984375,
          "brand": "Bravo",
          "week": 70
         },
         {
          "Weekly Spend": 483.2296142578125,
          "brand": "Bravo",
          "week": 71
         },
         {
          "Weekly Spend": 418.2997131347656,
          "brand": "Bravo",
          "week": 72
         },
         {
          "Weekly Spend": 1304.5775146484375,
          "brand": "Bravo",
          "week": 73
         },
         {
          "Weekly Spend": 436.1696472167969,
          "brand": "Bravo",
          "week": 74
         },
         {
          "Weekly Spend": 415.1798400878906,
          "brand": "Bravo",
          "week": 75
         },
         {
          "Weekly Spend": 471.5396728515625,
          "brand": "Bravo",
          "week": 76
         },
         {
          "Weekly Spend": 584.8995361328125,
          "brand": "Bravo",
          "week": 77
         },
         {
          "Weekly Spend": 1157.298828125,
          "brand": "Bravo",
          "week": 78
         },
         {
          "Weekly Spend": 826.6701049804688,
          "brand": "Bravo",
          "week": 79
         },
         {
          "Weekly Spend": 546.2295532226562,
          "brand": "Bravo",
          "week": 80
         },
         {
          "Weekly Spend": 599.6500244140625,
          "brand": "Bravo",
          "week": 81
         },
         {
          "Weekly Spend": 593.8698120117188,
          "brand": "Bravo",
          "week": 82
         },
         {
          "Weekly Spend": 455.30963134765625,
          "brand": "Bravo",
          "week": 83
         },
         {
          "Weekly Spend": 379.28985595703125,
          "brand": "Bravo",
          "week": 84
         },
         {
          "Weekly Spend": 542.0896606445312,
          "brand": "Bravo",
          "week": 85
         },
         {
          "Weekly Spend": 619.7496337890625,
          "brand": "Bravo",
          "week": 86
         },
         {
          "Weekly Spend": 1420.11767578125,
          "brand": "Bravo",
          "week": 87
         },
         {
          "Weekly Spend": 284.7098693847656,
          "brand": "Bravo",
          "week": 88
         },
         {
          "Weekly Spend": 327.39996337890625,
          "brand": "Bravo",
          "week": 89
         },
         {
          "Weekly Spend": 334.7599182128906,
          "brand": "Bravo",
          "week": 90
         },
         {
          "Weekly Spend": 510.32958984375,
          "brand": "Bravo",
          "week": 91
         },
         {
          "Weekly Spend": 399.28973388671875,
          "brand": "Bravo",
          "week": 92
         },
         {
          "Weekly Spend": 241.13009643554688,
          "brand": "Bravo",
          "week": 93
         },
         {
          "Weekly Spend": 317.2098693847656,
          "brand": "Bravo",
          "week": 94
         },
         {
          "Weekly Spend": 393.6097412109375,
          "brand": "Bravo",
          "week": 95
         },
         {
          "Weekly Spend": 232.68003845214844,
          "brand": "Bravo",
          "week": 96
         },
         {
          "Weekly Spend": 676.0797729492188,
          "brand": "Bravo",
          "week": 97
         },
         {
          "Weekly Spend": 1464.9161376953125,
          "brand": "Bravo",
          "week": 98
         },
         {
          "Weekly Spend": 780.4902954101562,
          "brand": "Bravo",
          "week": 99
         },
         {
          "Weekly Spend": 420.4797058105469,
          "brand": "Bravo",
          "week": 100
         },
         {
          "Weekly Spend": 264.6600646972656,
          "brand": "Bravo",
          "week": 101
         },
         {
          "Weekly Spend": 456.7894287109375,
          "brand": "Bravo",
          "week": 102
         },
         {
          "Weekly Spend": 440.9997253417969,
          "brand": "Bravo",
          "week": 103
         },
         {
          "Weekly Spend": 233.19004821777344,
          "brand": "Bravo",
          "week": 104
         }
        ]
       },
       "encoding": {
        "color": {
         "field": "brand",
         "legend": null,
         "type": "nominal"
        },
        "x": {
         "axis": {
          "labelExpr": "datum.value",
          "title": "Week",
          "values": [
           0,
           13,
           26,
           39,
           52,
           65,
           78,
           91,
           104
          ]
         },
         "field": "week",
         "type": "quantitative"
        },
        "y": {
         "axis": {
          "format": "$,.0f"
         },
         "field": "Weekly Spend",
         "title": "Spend ($)",
         "type": "quantitative"
        }
       },
       "height": 250,
       "mark": {
        "strokeWidth": 1,
        "type": "line"
       },
       "title": "Bravo - Weekly Revenue",
       "width": 650
      },
      "text/plain": [
       "<VegaLite 5 object>\n",
       "\n",
       "If you see this message, it means the renderer has not been properly enabled\n",
       "for the frontend that you are using. For more information, see\n",
       "https://altair-viz.github.io/user_guide/display_frontends.html#troubleshooting\n"
      ]
     },
     "execution_count": 13,
     "metadata": {},
     "output_type": "execute_result"
    }
   ],
   "source": [
    "weekly_plot(dataframe=weekly_spend_summary('Bravo', grocery_lf).collect(), \n",
    "            y='Weekly Spend', \n",
    "            color='brand',\n",
    "            title='Bravo - Weekly Revenue', \n",
    "            y_axis_label='Spend ($)',\n",
    "            pct=False,\n",
    "            legend=False)"
   ]
  },
  {
   "cell_type": "markdown",
   "metadata": {},
   "source": [
    "#### Weekly (Volume) Market Share"
   ]
  },
  {
   "cell_type": "code",
   "execution_count": 14,
   "metadata": {},
   "outputs": [
    {
     "data": {
      "text/html": [
       "<div><style>\n",
       ".dataframe > thead > tr,\n",
       ".dataframe > tbody > tr {\n",
       "  text-align: right;\n",
       "  white-space: pre-wrap;\n",
       "}\n",
       "</style>\n",
       "<small>shape: (104, 6)</small><table border=\"1\" class=\"dataframe\"><thead><tr><th>week</th><th>Alpha</th><th>Bravo</th><th>Charlie</th><th>Delta</th><th>Other</th></tr><tr><td>i16</td><td>f64</td><td>f64</td><td>f64</td><td>f64</td><td>f64</td></tr></thead><tbody><tr><td>1</td><td>0.481077</td><td>0.355011</td><td>0.11194</td><td>0.02532</td><td>0.026652</td></tr><tr><td>2</td><td>0.524953</td><td>0.371525</td><td>0.059391</td><td>0.029696</td><td>0.014435</td></tr><tr><td>3</td><td>0.389338</td><td>0.508812</td><td>0.060676</td><td>0.032505</td><td>0.008668</td></tr><tr><td>4</td><td>0.677032</td><td>0.230511</td><td>0.036686</td><td>0.044984</td><td>0.010787</td></tr><tr><td>5</td><td>0.428735</td><td>0.324306</td><td>0.07574</td><td>0.119348</td><td>0.051871</td></tr><tr><td>&hellip;</td><td>&hellip;</td><td>&hellip;</td><td>&hellip;</td><td>&hellip;</td><td>&hellip;</td></tr><tr><td>100</td><td>0.545707</td><td>0.31711</td><td>0.080381</td><td>0.039087</td><td>0.017715</td></tr><tr><td>101</td><td>0.36891</td><td>0.40552</td><td>0.140805</td><td>0.059138</td><td>0.025627</td></tr><tr><td>102</td><td>0.342581</td><td>0.543494</td><td>0.071147</td><td>0.019689</td><td>0.023089</td></tr><tr><td>103</td><td>0.424609</td><td>0.415495</td><td>0.100574</td><td>0.042429</td><td>0.016893</td></tr><tr><td>104</td><td>0.457298</td><td>0.290104</td><td>0.110032</td><td>0.112969</td><td>0.029598</td></tr></tbody></table></div>"
      ],
      "text/plain": [
       "shape: (104, 6)\n",
       "┌──────┬──────────┬──────────┬──────────┬──────────┬──────────┐\n",
       "│ week ┆ Alpha    ┆ Bravo    ┆ Charlie  ┆ Delta    ┆ Other    │\n",
       "│ ---  ┆ ---      ┆ ---      ┆ ---      ┆ ---      ┆ ---      │\n",
       "│ i16  ┆ f64      ┆ f64      ┆ f64      ┆ f64      ┆ f64      │\n",
       "╞══════╪══════════╪══════════╪══════════╪══════════╪══════════╡\n",
       "│ 1    ┆ 0.481077 ┆ 0.355011 ┆ 0.11194  ┆ 0.02532  ┆ 0.026652 │\n",
       "│ 2    ┆ 0.524953 ┆ 0.371525 ┆ 0.059391 ┆ 0.029696 ┆ 0.014435 │\n",
       "│ 3    ┆ 0.389338 ┆ 0.508812 ┆ 0.060676 ┆ 0.032505 ┆ 0.008668 │\n",
       "│ 4    ┆ 0.677032 ┆ 0.230511 ┆ 0.036686 ┆ 0.044984 ┆ 0.010787 │\n",
       "│ 5    ┆ 0.428735 ┆ 0.324306 ┆ 0.07574  ┆ 0.119348 ┆ 0.051871 │\n",
       "│ …    ┆ …        ┆ …        ┆ …        ┆ …        ┆ …        │\n",
       "│ 100  ┆ 0.545707 ┆ 0.31711  ┆ 0.080381 ┆ 0.039087 ┆ 0.017715 │\n",
       "│ 101  ┆ 0.36891  ┆ 0.40552  ┆ 0.140805 ┆ 0.059138 ┆ 0.025627 │\n",
       "│ 102  ┆ 0.342581 ┆ 0.543494 ┆ 0.071147 ┆ 0.019689 ┆ 0.023089 │\n",
       "│ 103  ┆ 0.424609 ┆ 0.415495 ┆ 0.100574 ┆ 0.042429 ┆ 0.016893 │\n",
       "│ 104  ┆ 0.457298 ┆ 0.290104 ┆ 0.110032 ┆ 0.112969 ┆ 0.029598 │\n",
       "└──────┴──────────┴──────────┴──────────┴──────────┴──────────┘"
      ]
     },
     "execution_count": 14,
     "metadata": {},
     "output_type": "execute_result"
    }
   ],
   "source": [
    "# Weekly (volume) market share\n",
    "pct_volume =(\n",
    "    weekly_vol_summary('All', grocery_lf)\n",
    "    .collect()\n",
    "    .pivot(\n",
    "        on='brand',\n",
    "        index='week',\n",
    "        values='Weekly Volume',\n",
    "        sort_columns=True\n",
    "    )\n",
    "    .with_columns(\n",
    "        (pl.col(\"*\").exclude(\"week\")) / pl.sum_horizontal(pl.exclude('week'))\n",
    "    )\n",
    ")\n",
    "pct_volume"
   ]
  },
  {
   "cell_type": "code",
   "execution_count": 15,
   "metadata": {},
   "outputs": [
    {
     "data": {
      "application/vnd.vegalite.v5+json": {
       "$schema": "https://vega.github.io/schema/vega-lite/v5.20.1.json",
       "config": {
        "axisY": {},
        "view": {
         "continuousHeight": 300,
         "continuousWidth": 300,
         "stroke": null
        }
       },
       "data": {
        "name": "data-ac46e1a0303f163568720bdec5325aa4"
       },
       "datasets": {
        "data-ac46e1a0303f163568720bdec5325aa4": [
         {
          "Total Weekly Volume": 187.59999999999997,
          "Weekly Volume": 66.6,
          "brand": "Bravo",
          "pct_volume": 0.35501066098081024,
          "week": 1
         },
         {
          "Total Weekly Volume": 187.59999999999997,
          "Weekly Volume": 90.24999999999999,
          "brand": "Alpha",
          "pct_volume": 0.4810767590618337,
          "week": 1
         },
         {
          "Total Weekly Volume": 303.075,
          "Weekly Volume": 159.1,
          "brand": "Alpha",
          "pct_volume": 0.5249525694959993,
          "week": 2
         },
         {
          "Total Weekly Volume": 303.075,
          "Weekly Volume": 112.6,
          "brand": "Bravo",
          "pct_volume": 0.3715252000329951,
          "week": 2
         },
         {
          "Total Weekly Volume": 346.1,
          "Weekly Volume": 134.75,
          "brand": "Alpha",
          "pct_volume": 0.38933834151979196,
          "week": 3
         },
         {
          "Total Weekly Volume": 346.1,
          "Weekly Volume": 176.10000000000002,
          "brand": "Bravo",
          "pct_volume": 0.5088124819416354,
          "week": 3
         },
         {
          "Total Weekly Volume": 572.4250000000001,
          "Weekly Volume": 131.95,
          "brand": "Bravo",
          "pct_volume": 0.23051054723326195,
          "week": 4
         },
         {
          "Total Weekly Volume": 572.4250000000001,
          "Weekly Volume": 387.55000000000007,
          "brand": "Alpha",
          "pct_volume": 0.6770319255797703,
          "week": 4
         },
         {
          "Total Weekly Volume": 217.85,
          "Weekly Volume": 70.65,
          "brand": "Bravo",
          "pct_volume": 0.32430571494147353,
          "week": 5
         },
         {
          "Total Weekly Volume": 217.85,
          "Weekly Volume": 93.39999999999999,
          "brand": "Alpha",
          "pct_volume": 0.4287353683727335,
          "week": 5
         },
         {
          "Total Weekly Volume": 224.45000000000002,
          "Weekly Volume": 67.4,
          "brand": "Bravo",
          "pct_volume": 0.3002895967921586,
          "week": 6
         },
         {
          "Total Weekly Volume": 224.45000000000002,
          "Weekly Volume": 99.64999999999999,
          "brand": "Alpha",
          "pct_volume": 0.44397415905546883,
          "week": 6
         },
         {
          "Total Weekly Volume": 235.64999999999998,
          "Weekly Volume": 111.64999999999999,
          "brand": "Alpha",
          "pct_volume": 0.4737958837258646,
          "week": 7
         },
         {
          "Total Weekly Volume": 235.64999999999998,
          "Weekly Volume": 74.85,
          "brand": "Bravo",
          "pct_volume": 0.3176320814767664,
          "week": 7
         },
         {
          "Total Weekly Volume": 234.39999999999998,
          "Weekly Volume": 85.25,
          "brand": "Bravo",
          "pct_volume": 0.3636945392491468,
          "week": 8
         },
         {
          "Total Weekly Volume": 234.39999999999998,
          "Weekly Volume": 85.64999999999998,
          "brand": "Alpha",
          "pct_volume": 0.36540102389078494,
          "week": 8
         },
         {
          "Total Weekly Volume": 231.8,
          "Weekly Volume": 112.7,
          "brand": "Bravo",
          "pct_volume": 0.48619499568593616,
          "week": 9
         },
         {
          "Total Weekly Volume": 231.8,
          "Weekly Volume": 75.1,
          "brand": "Alpha",
          "pct_volume": 0.32398619499568587,
          "week": 9
         },
         {
          "Total Weekly Volume": 279.6,
          "Weekly Volume": 130.2,
          "brand": "Bravo",
          "pct_volume": 0.46566523605150206,
          "week": 10
         },
         {
          "Total Weekly Volume": 279.6,
          "Weekly Volume": 118.1,
          "brand": "Alpha",
          "pct_volume": 0.4223891273247496,
          "week": 10
         },
         {
          "Total Weekly Volume": 299.675,
          "Weekly Volume": 70.44999999999999,
          "brand": "Alpha",
          "pct_volume": 0.23508801201301405,
          "week": 11
         },
         {
          "Total Weekly Volume": 299.675,
          "Weekly Volume": 200.15,
          "brand": "Bravo",
          "pct_volume": 0.6678902143989321,
          "week": 11
         },
         {
          "Total Weekly Volume": 448.25,
          "Weekly Volume": 144.29999999999998,
          "brand": "Bravo",
          "pct_volume": 0.32191857222532066,
          "week": 12
         },
         {
          "Total Weekly Volume": 448.25,
          "Weekly Volume": 251.55000000000004,
          "brand": "Alpha",
          "pct_volume": 0.5611823759063024,
          "week": 12
         },
         {
          "Total Weekly Volume": 326.92499999999995,
          "Weekly Volume": 122.19999999999997,
          "brand": "Alpha",
          "pct_volume": 0.37378603655272613,
          "week": 13
         },
         {
          "Total Weekly Volume": 326.92499999999995,
          "Weekly Volume": 145.05,
          "brand": "Bravo",
          "pct_volume": 0.44367974306033503,
          "week": 13
         },
         {
          "Total Weekly Volume": 444.5,
          "Weekly Volume": 248.4,
          "brand": "Alpha",
          "pct_volume": 0.558830146231721,
          "week": 14
         },
         {
          "Total Weekly Volume": 444.5,
          "Weekly Volume": 111.94999999999997,
          "brand": "Bravo",
          "pct_volume": 0.2518560179977502,
          "week": 14
         },
         {
          "Total Weekly Volume": 405.75000000000006,
          "Weekly Volume": 121.19999999999999,
          "brand": "Alpha",
          "pct_volume": 0.29870609981515706,
          "week": 15
         },
         {
          "Total Weekly Volume": 405.75000000000006,
          "Weekly Volume": 229.05000000000007,
          "brand": "Bravo",
          "pct_volume": 0.5645101663585953,
          "week": 15
         },
         {
          "Total Weekly Volume": 307.475,
          "Weekly Volume": 165.05,
          "brand": "Alpha",
          "pct_volume": 0.5367916090739084,
          "week": 16
         },
         {
          "Total Weekly Volume": 307.475,
          "Weekly Volume": 106.29999999999998,
          "brand": "Bravo",
          "pct_volume": 0.3457191641596877,
          "week": 16
         },
         {
          "Total Weekly Volume": 355.7,
          "Weekly Volume": 128.75,
          "brand": "Bravo",
          "pct_volume": 0.3619623278043295,
          "week": 17
         },
         {
          "Total Weekly Volume": 355.7,
          "Weekly Volume": 114.19999999999999,
          "brand": "Alpha",
          "pct_volume": 0.3210570705650829,
          "week": 17
         },
         {
          "Total Weekly Volume": 446.65,
          "Weekly Volume": 194.20000000000002,
          "brand": "Alpha",
          "pct_volume": 0.4347923429978731,
          "week": 18
         },
         {
          "Total Weekly Volume": 446.65,
          "Weekly Volume": 132.45,
          "brand": "Bravo",
          "pct_volume": 0.2965409157058099,
          "week": 18
         },
         {
          "Total Weekly Volume": 419.09999999999997,
          "Weekly Volume": 126.89999999999996,
          "brand": "Bravo",
          "pct_volume": 0.30279169649248383,
          "week": 19
         },
         {
          "Total Weekly Volume": 419.09999999999997,
          "Weekly Volume": 170.3,
          "brand": "Alpha",
          "pct_volume": 0.4063469339059891,
          "week": 19
         },
         {
          "Total Weekly Volume": 608.6,
          "Weekly Volume": 227.35,
          "brand": "Alpha",
          "pct_volume": 0.37356227407163983,
          "week": 20
         },
         {
          "Total Weekly Volume": 608.6,
          "Weekly Volume": 270.00000000000006,
          "brand": "Bravo",
          "pct_volume": 0.4436411436082814,
          "week": 20
         },
         {
          "Total Weekly Volume": 817.8250000000003,
          "Weekly Volume": 488.40000000000015,
          "brand": "Bravo",
          "pct_volume": 0.5971937761746094,
          "week": 21
         },
         {
          "Total Weekly Volume": 817.8250000000003,
          "Weekly Volume": 260.00000000000006,
          "brand": "Alpha",
          "pct_volume": 0.317916424662978,
          "week": 21
         },
         {
          "Total Weekly Volume": 391.25,
          "Weekly Volume": 183.8,
          "brand": "Alpha",
          "pct_volume": 0.46977635782747607,
          "week": 22
         },
         {
          "Total Weekly Volume": 391.25,
          "Weekly Volume": 161.5,
          "brand": "Bravo",
          "pct_volume": 0.412779552715655,
          "week": 22
         },
         {
          "Total Weekly Volume": 379.525,
          "Weekly Volume": 143.84999999999997,
          "brand": "Bravo",
          "pct_volume": 0.3790264145971938,
          "week": 23
         },
         {
          "Total Weekly Volume": 379.525,
          "Weekly Volume": 168.70000000000002,
          "brand": "Alpha",
          "pct_volume": 0.44450299716751207,
          "week": 23
         },
         {
          "Total Weekly Volume": 492.09999999999997,
          "Weekly Volume": 186.89999999999998,
          "brand": "Alpha",
          "pct_volume": 0.379800853485064,
          "week": 24
         },
         {
          "Total Weekly Volume": 492.09999999999997,
          "Weekly Volume": 164.2,
          "brand": "Bravo",
          "pct_volume": 0.3336720178825442,
          "week": 24
         },
         {
          "Total Weekly Volume": 379.20000000000005,
          "Weekly Volume": 134.8,
          "brand": "Alpha",
          "pct_volume": 0.35548523206751054,
          "week": 25
         },
         {
          "Total Weekly Volume": 379.20000000000005,
          "Weekly Volume": 178.3,
          "brand": "Bravo",
          "pct_volume": 0.47020042194092826,
          "week": 25
         },
         {
          "Total Weekly Volume": 1095.6000000000001,
          "Weekly Volume": 474.25000000000017,
          "brand": "Bravo",
          "pct_volume": 0.4328678349762688,
          "week": 26
         },
         {
          "Total Weekly Volume": 1095.6000000000001,
          "Weekly Volume": 559.0500000000001,
          "brand": "Alpha",
          "pct_volume": 0.5102683461117196,
          "week": 26
         },
         {
          "Total Weekly Volume": 596.225,
          "Weekly Volume": 162.75,
          "brand": "Bravo",
          "pct_volume": 0.2729674200176108,
          "week": 27
         },
         {
          "Total Weekly Volume": 596.225,
          "Weekly Volume": 334.70000000000005,
          "brand": "Alpha",
          "pct_volume": 0.5613652564048808,
          "week": 27
         },
         {
          "Total Weekly Volume": 395.02500000000003,
          "Weekly Volume": 190.25000000000006,
          "brand": "Bravo",
          "pct_volume": 0.4816150876526803,
          "week": 28
         },
         {
          "Total Weekly Volume": 395.02500000000003,
          "Weekly Volume": 128.64999999999998,
          "brand": "Alpha",
          "pct_volume": 0.3256755901525219,
          "week": 28
         },
         {
          "Total Weekly Volume": 329.17499999999995,
          "Weekly Volume": 133.19999999999996,
          "brand": "Bravo",
          "pct_volume": 0.404647983595352,
          "week": 29
         },
         {
          "Total Weekly Volume": 329.17499999999995,
          "Weekly Volume": 133.95,
          "brand": "Alpha",
          "pct_volume": 0.40692640692640697,
          "week": 29
         },
         {
          "Total Weekly Volume": 356.72499999999997,
          "Weekly Volume": 110.99999999999999,
          "brand": "Bravo",
          "pct_volume": 0.3111640619524844,
          "week": 30
         },
         {
          "Total Weekly Volume": 356.72499999999997,
          "Weekly Volume": 154.99999999999997,
          "brand": "Alpha",
          "pct_volume": 0.43450837479851423,
          "week": 30
         },
         {
          "Total Weekly Volume": 483.70000000000005,
          "Weekly Volume": 212.10000000000002,
          "brand": "Bravo",
          "pct_volume": 0.4384949348769899,
          "week": 31
         },
         {
          "Total Weekly Volume": 483.70000000000005,
          "Weekly Volume": 163.25,
          "brand": "Alpha",
          "pct_volume": 0.3375025842464337,
          "week": 31
         },
         {
          "Total Weekly Volume": 554.0500000000001,
          "Weekly Volume": 160.20000000000002,
          "brand": "Alpha",
          "pct_volume": 0.2891435790993593,
          "week": 32
         },
         {
          "Total Weekly Volume": 554.0500000000001,
          "Weekly Volume": 315.1000000000001,
          "brand": "Bravo",
          "pct_volume": 0.5687212345456187,
          "week": 32
         },
         {
          "Total Weekly Volume": 331.05,
          "Weekly Volume": 161.50000000000003,
          "brand": "Alpha",
          "pct_volume": 0.48784171575290747,
          "week": 33
         },
         {
          "Total Weekly Volume": 331.05,
          "Weekly Volume": 111.14999999999995,
          "brand": "Bravo",
          "pct_volume": 0.33574988672405964,
          "week": 33
         },
         {
          "Total Weekly Volume": 592.2250000000001,
          "Weekly Volume": 108.94999999999993,
          "brand": "Bravo",
          "pct_volume": 0.18396724217991456,
          "week": 34
         },
         {
          "Total Weekly Volume": 592.2250000000001,
          "Weekly Volume": 432.90000000000015,
          "brand": "Alpha",
          "pct_volume": 0.730972181181139,
          "week": 34
         },
         {
          "Total Weekly Volume": 657.9500000000002,
          "Weekly Volume": 182.40000000000003,
          "brand": "Bravo",
          "pct_volume": 0.2772247131240976,
          "week": 35
         },
         {
          "Total Weekly Volume": 657.9500000000002,
          "Weekly Volume": 432.6500000000001,
          "brand": "Alpha",
          "pct_volume": 0.6575727638878334,
          "week": 35
         },
         {
          "Total Weekly Volume": 346.87499999999994,
          "Weekly Volume": 109.64999999999998,
          "brand": "Bravo",
          "pct_volume": 0.3161081081081081,
          "week": 36
         },
         {
          "Total Weekly Volume": 346.87499999999994,
          "Weekly Volume": 152.25,
          "brand": "Alpha",
          "pct_volume": 0.438918918918919,
          "week": 36
         },
         {
          "Total Weekly Volume": 266.025,
          "Weekly Volume": 113.14999999999999,
          "brand": "Alpha",
          "pct_volume": 0.4253359646649751,
          "week": 37
         },
         {
          "Total Weekly Volume": 266.025,
          "Weekly Volume": 93.64999999999998,
          "brand": "Bravo",
          "pct_volume": 0.3520345832158631,
          "week": 37
         },
         {
          "Total Weekly Volume": 260.4,
          "Weekly Volume": 98.44999999999999,
          "brand": "Alpha",
          "pct_volume": 0.3780721966205837,
          "week": 38
         },
         {
          "Total Weekly Volume": 260.4,
          "Weekly Volume": 110.45,
          "brand": "Bravo",
          "pct_volume": 0.4241551459293395,
          "week": 38
         },
         {
          "Total Weekly Volume": 270.95,
          "Weekly Volume": 124.35,
          "brand": "Alpha",
          "pct_volume": 0.45894076397859385,
          "week": 39
         },
         {
          "Total Weekly Volume": 270.95,
          "Weekly Volume": 78.19999999999999,
          "brand": "Bravo",
          "pct_volume": 0.2886141354493449,
          "week": 39
         },
         {
          "Total Weekly Volume": 295.2249999999999,
          "Weekly Volume": 120.04999999999998,
          "brand": "Bravo",
          "pct_volume": 0.40663900414937765,
          "week": 40
         },
         {
          "Total Weekly Volume": 295.2249999999999,
          "Weekly Volume": 116.79999999999995,
          "brand": "Alpha",
          "pct_volume": 0.3956304513506647,
          "week": 40
         },
         {
          "Total Weekly Volume": 330.29999999999995,
          "Weekly Volume": 134.04999999999998,
          "brand": "Bravo",
          "pct_volume": 0.40584317287314564,
          "week": 41
         },
         {
          "Total Weekly Volume": 330.29999999999995,
          "Weekly Volume": 111.35,
          "brand": "Alpha",
          "pct_volume": 0.3371177717226764,
          "week": 41
         },
         {
          "Total Weekly Volume": 329.80000000000007,
          "Weekly Volume": 94.65,
          "brand": "Alpha",
          "pct_volume": 0.2869921164342025,
          "week": 42
         },
         {
          "Total Weekly Volume": 329.80000000000007,
          "Weekly Volume": 182.00000000000003,
          "brand": "Bravo",
          "pct_volume": 0.55184960582171,
          "week": 42
         },
         {
          "Total Weekly Volume": 365.775,
          "Weekly Volume": 225.6,
          "brand": "Bravo",
          "pct_volume": 0.6167726061103137,
          "week": 43
         },
         {
          "Total Weekly Volume": 365.775,
          "Weekly Volume": 99.44999999999996,
          "brand": "Alpha",
          "pct_volume": 0.2718884560180438,
          "week": 43
         },
         {
          "Total Weekly Volume": 653.8500000000001,
          "Weekly Volume": 509.90000000000003,
          "brand": "Bravo",
          "pct_volume": 0.7798424715148733,
          "week": 44
         },
         {
          "Total Weekly Volume": 653.8500000000001,
          "Weekly Volume": 108.44999999999999,
          "brand": "Alpha",
          "pct_volume": 0.16586373021335163,
          "week": 44
         },
         {
          "Total Weekly Volume": 223.85,
          "Weekly Volume": 81.94999999999999,
          "brand": "Alpha",
          "pct_volume": 0.36609336609336607,
          "week": 45
         },
         {
          "Total Weekly Volume": 223.85,
          "Weekly Volume": 105.64999999999999,
          "brand": "Bravo",
          "pct_volume": 0.4719678356041992,
          "week": 45
         },
         {
          "Total Weekly Volume": 363.24999999999994,
          "Weekly Volume": 155.25,
          "brand": "Alpha",
          "pct_volume": 0.42739160357880257,
          "week": 46
         },
         {
          "Total Weekly Volume": 363.24999999999994,
          "Weekly Volume": 124.59999999999998,
          "brand": "Bravo",
          "pct_volume": 0.34301445285615967,
          "week": 46
         },
         {
          "Total Weekly Volume": 438.25000000000006,
          "Weekly Volume": 65.3,
          "brand": "Bravo",
          "pct_volume": 0.14900171135196802,
          "week": 47
         },
         {
          "Total Weekly Volume": 438.25000000000006,
          "Weekly Volume": 327.3,
          "brand": "Alpha",
          "pct_volume": 0.7468339988590986,
          "week": 47
         },
         {
          "Total Weekly Volume": 244.79999999999995,
          "Weekly Volume": 113.24999999999999,
          "brand": "Alpha",
          "pct_volume": 0.46262254901960786,
          "week": 48
         },
         {
          "Total Weekly Volume": 244.79999999999995,
          "Weekly Volume": 74.64999999999999,
          "brand": "Bravo",
          "pct_volume": 0.30494281045751637,
          "week": 48
         },
         {
          "Total Weekly Volume": 324.325,
          "Weekly Volume": 155.25,
          "brand": "Bravo",
          "pct_volume": 0.47868650273645263,
          "week": 49
         },
         {
          "Total Weekly Volume": 324.325,
          "Weekly Volume": 94.19999999999999,
          "brand": "Alpha",
          "pct_volume": 0.2904493948970939,
          "week": 49
         },
         {
          "Total Weekly Volume": 464.42500000000007,
          "Weekly Volume": 82.14999999999998,
          "brand": "Bravo",
          "pct_volume": 0.17688539591968555,
          "week": 50
         },
         {
          "Total Weekly Volume": 464.42500000000007,
          "Weekly Volume": 319.7500000000001,
          "brand": "Alpha",
          "pct_volume": 0.6884857619637187,
          "week": 50
         },
         {
          "Total Weekly Volume": 528,
          "Weekly Volume": 203.70000000000002,
          "brand": "Alpha",
          "pct_volume": 0.38579545454545455,
          "week": 51
         },
         {
          "Total Weekly Volume": 528,
          "Weekly Volume": 238.25,
          "brand": "Bravo",
          "pct_volume": 0.4512310606060606,
          "week": 51
         },
         {
          "Total Weekly Volume": 331.7,
          "Weekly Volume": 215.80000000000004,
          "brand": "Alpha",
          "pct_volume": 0.6505878806150137,
          "week": 52
         },
         {
          "Total Weekly Volume": 331.7,
          "Weekly Volume": 70.34999999999998,
          "brand": "Bravo",
          "pct_volume": 0.21208923726258663,
          "week": 52
         },
         {
          "Total Weekly Volume": 239.27499999999998,
          "Weekly Volume": 95.14999999999998,
          "brand": "Bravo",
          "pct_volume": 0.3976595966983596,
          "week": 53
         },
         {
          "Total Weekly Volume": 239.27499999999998,
          "Weekly Volume": 98.25,
          "brand": "Alpha",
          "pct_volume": 0.41061540068958313,
          "week": 53
         },
         {
          "Total Weekly Volume": 302.5999999999999,
          "Weekly Volume": 157.29999999999995,
          "brand": "Alpha",
          "pct_volume": 0.5198281559814937,
          "week": 54
         },
         {
          "Total Weekly Volume": 302.5999999999999,
          "Weekly Volume": 102.79999999999998,
          "brand": "Bravo",
          "pct_volume": 0.3397224058162591,
          "week": 54
         },
         {
          "Total Weekly Volume": 515.7750000000001,
          "Weekly Volume": 103.375,
          "brand": "Bravo",
          "pct_volume": 0.200426542581552,
          "week": 55
         },
         {
          "Total Weekly Volume": 515.7750000000001,
          "Weekly Volume": 368.6,
          "brand": "Alpha",
          "pct_volume": 0.7146527070912704,
          "week": 55
         },
         {
          "Total Weekly Volume": 640.7750000000001,
          "Weekly Volume": 408.40000000000003,
          "brand": "Alpha",
          "pct_volume": 0.6373532051031953,
          "week": 56
         },
         {
          "Total Weekly Volume": 640.7750000000001,
          "Weekly Volume": 162.6,
          "brand": "Bravo",
          "pct_volume": 0.25375521829035147,
          "week": 56
         },
         {
          "Total Weekly Volume": 535.0000000000001,
          "Weekly Volume": 270.55000000000007,
          "brand": "Alpha",
          "pct_volume": 0.5057009345794393,
          "week": 57
         },
         {
          "Total Weekly Volume": 535.0000000000001,
          "Weekly Volume": 220.07500000000002,
          "brand": "Bravo",
          "pct_volume": 0.4113551401869158,
          "week": 57
         },
         {
          "Total Weekly Volume": 205.59999999999997,
          "Weekly Volume": 76.64999999999999,
          "brand": "Alpha",
          "pct_volume": 0.3728112840466926,
          "week": 58
         },
         {
          "Total Weekly Volume": 205.59999999999997,
          "Weekly Volume": 74.19999999999997,
          "brand": "Bravo",
          "pct_volume": 0.3608949416342412,
          "week": 58
         },
         {
          "Total Weekly Volume": 267.825,
          "Weekly Volume": 159.04999999999998,
          "brand": "Alpha",
          "pct_volume": 0.5938579296182208,
          "week": 59
         },
         {
          "Total Weekly Volume": 267.825,
          "Weekly Volume": 59.64999999999999,
          "brand": "Bravo",
          "pct_volume": 0.22272005974050216,
          "week": 59
         },
         {
          "Total Weekly Volume": 225.59999999999994,
          "Weekly Volume": 89.94999999999999,
          "brand": "Alpha",
          "pct_volume": 0.39871453900709225,
          "week": 60
         },
         {
          "Total Weekly Volume": 225.59999999999994,
          "Weekly Volume": 86.29999999999995,
          "brand": "Bravo",
          "pct_volume": 0.3825354609929077,
          "week": 60
         },
         {
          "Total Weekly Volume": 242.57499999999993,
          "Weekly Volume": 83.29999999999997,
          "brand": "Bravo",
          "pct_volume": 0.3433989487787282,
          "week": 61
         },
         {
          "Total Weekly Volume": 242.57499999999993,
          "Weekly Volume": 116.99999999999997,
          "brand": "Alpha",
          "pct_volume": 0.48232505410697724,
          "week": 61
         },
         {
          "Total Weekly Volume": 286.3,
          "Weekly Volume": 89.94999999999999,
          "brand": "Bravo",
          "pct_volume": 0.31418092909535444,
          "week": 62
         },
         {
          "Total Weekly Volume": 286.3,
          "Weekly Volume": 146.75,
          "brand": "Alpha",
          "pct_volume": 0.5125742228431714,
          "week": 62
         },
         {
          "Total Weekly Volume": 311.2,
          "Weekly Volume": 88.89999999999999,
          "brand": "Alpha",
          "pct_volume": 0.2856683804627249,
          "week": 63
         },
         {
          "Total Weekly Volume": 311.2,
          "Weekly Volume": 178.39999999999998,
          "brand": "Bravo",
          "pct_volume": 0.5732647814910026,
          "week": 63
         },
         {
          "Total Weekly Volume": 429.40000000000003,
          "Weekly Volume": 129.7,
          "brand": "Alpha",
          "pct_volume": 0.3020493712156497,
          "week": 64
         },
         {
          "Total Weekly Volume": 429.40000000000003,
          "Weekly Volume": 222.45000000000005,
          "brand": "Bravo",
          "pct_volume": 0.5180484396832791,
          "week": 64
         },
         {
          "Total Weekly Volume": 399.9,
          "Weekly Volume": 166.8,
          "brand": "Bravo",
          "pct_volume": 0.4171042760690173,
          "week": 65
         },
         {
          "Total Weekly Volume": 399.9,
          "Weekly Volume": 207.1,
          "brand": "Alpha",
          "pct_volume": 0.5178794698674669,
          "week": 65
         },
         {
          "Total Weekly Volume": 265.09999999999985,
          "Weekly Volume": 108.64999999999999,
          "brand": "Alpha",
          "pct_volume": 0.4098453413806113,
          "week": 66
         },
         {
          "Total Weekly Volume": 265.09999999999985,
          "Weekly Volume": 103.44999999999987,
          "brand": "Bravo",
          "pct_volume": 0.3902301018483589,
          "week": 66
         },
         {
          "Total Weekly Volume": 237.64999999999998,
          "Weekly Volume": 94.89999999999998,
          "brand": "Alpha",
          "pct_volume": 0.39932674100568055,
          "week": 67
         },
         {
          "Total Weekly Volume": 237.64999999999998,
          "Weekly Volume": 85.85,
          "brand": "Bravo",
          "pct_volume": 0.3612455291394909,
          "week": 67
         },
         {
          "Total Weekly Volume": 372.04999999999995,
          "Weekly Volume": 147.34999999999997,
          "brand": "Bravo",
          "pct_volume": 0.3960489181561618,
          "week": 68
         },
         {
          "Total Weekly Volume": 372.04999999999995,
          "Weekly Volume": 166.05,
          "brand": "Alpha",
          "pct_volume": 0.4463109797070287,
          "week": 68
         },
         {
          "Total Weekly Volume": 577.25,
          "Weekly Volume": 437.3500000000001,
          "brand": "Bravo",
          "pct_volume": 0.7576440017323518,
          "week": 69
         },
         {
          "Total Weekly Volume": 577.25,
          "Weekly Volume": 92.89999999999998,
          "brand": "Alpha",
          "pct_volume": 0.16093546990038973,
          "week": 69
         },
         {
          "Total Weekly Volume": 278.775,
          "Weekly Volume": 103.74999999999996,
          "brand": "Bravo",
          "pct_volume": 0.37216393148596527,
          "week": 70
         },
         {
          "Total Weekly Volume": 278.775,
          "Weekly Volume": 116,
          "brand": "Alpha",
          "pct_volume": 0.41610617881804324,
          "week": 70
         },
         {
          "Total Weekly Volume": 349.7,
          "Weekly Volume": 148.2,
          "brand": "Bravo",
          "pct_volume": 0.42379182156133827,
          "week": 71
         },
         {
          "Total Weekly Volume": 349.7,
          "Weekly Volume": 133.39999999999998,
          "brand": "Alpha",
          "pct_volume": 0.3814698312839576,
          "week": 71
         },
         {
          "Total Weekly Volume": 551.7,
          "Weekly Volume": 351.2000000000001,
          "brand": "Alpha",
          "pct_volume": 0.6365778502809499,
          "week": 72
         },
         {
          "Total Weekly Volume": 551.7,
          "Weekly Volume": 124.59999999999998,
          "brand": "Bravo",
          "pct_volume": 0.22584738082291095,
          "week": 72
         },
         {
          "Total Weekly Volume": 1279.4749999999997,
          "Weekly Volume": 443.8250000000001,
          "brand": "Bravo",
          "pct_volume": 0.3468805564782432,
          "week": 73
         },
         {
          "Total Weekly Volume": 1279.4749999999997,
          "Weekly Volume": 786.4999999999997,
          "brand": "Alpha",
          "pct_volume": 0.6147052502002773,
          "week": 73
         },
         {
          "Total Weekly Volume": 335.275,
          "Weekly Volume": 156.79999999999998,
          "brand": "Alpha",
          "pct_volume": 0.46767578853180225,
          "week": 74
         },
         {
          "Total Weekly Volume": 335.275,
          "Weekly Volume": 120.19999999999997,
          "brand": "Bravo",
          "pct_volume": 0.35851166952501673,
          "week": 74
         },
         {
          "Total Weekly Volume": 343.4,
          "Weekly Volume": 163.85000000000002,
          "brand": "Alpha",
          "pct_volume": 0.47714036109493313,
          "week": 75
         },
         {
          "Total Weekly Volume": 343.4,
          "Weekly Volume": 120.24999999999996,
          "brand": "Bravo",
          "pct_volume": 0.3501747233546883,
          "week": 75
         },
         {
          "Total Weekly Volume": 387.04999999999995,
          "Weekly Volume": 163.79999999999998,
          "brand": "Alpha",
          "pct_volume": 0.4232011368040305,
          "week": 76
         },
         {
          "Total Weekly Volume": 387.04999999999995,
          "Weekly Volume": 137.325,
          "brand": "Bravo",
          "pct_volume": 0.3547991215605219,
          "week": 76
         },
         {
          "Total Weekly Volume": 572.0000000000001,
          "Weekly Volume": 326.0500000000001,
          "brand": "Alpha",
          "pct_volume": 0.5700174825174826,
          "week": 77
         },
         {
          "Total Weekly Volume": 572.0000000000001,
          "Weekly Volume": 164.675,
          "brand": "Bravo",
          "pct_volume": 0.2878933566433566,
          "week": 77
         },
         {
          "Total Weekly Volume": 1223.35,
          "Weekly Volume": 766.7499999999997,
          "brand": "Alpha",
          "pct_volume": 0.6267625781665097,
          "week": 78
         },
         {
          "Total Weekly Volume": 1223.35,
          "Weekly Volume": 380.20000000000016,
          "brand": "Bravo",
          "pct_volume": 0.31078595659459696,
          "week": 78
         },
         {
          "Total Weekly Volume": 832.6250000000003,
          "Weekly Volume": 257.70000000000016,
          "brand": "Bravo",
          "pct_volume": 0.3095030776159736,
          "week": 79
         },
         {
          "Total Weekly Volume": 832.6250000000003,
          "Weekly Volume": 505.15000000000015,
          "brand": "Alpha",
          "pct_volume": 0.6066956913376369,
          "week": 79
         },
         {
          "Total Weekly Volume": 345.69999999999993,
          "Weekly Volume": 150.45000000000002,
          "brand": "Bravo",
          "pct_volume": 0.4352039340468616,
          "week": 80
         },
         {
          "Total Weekly Volume": 345.69999999999993,
          "Weekly Volume": 134.49999999999994,
          "brand": "Alpha",
          "pct_volume": 0.3890656638704078,
          "week": 80
         },
         {
          "Total Weekly Volume": 401.7,
          "Weekly Volume": 184.50000000000003,
          "brand": "Bravo",
          "pct_volume": 0.4592979835698283,
          "week": 81
         },
         {
          "Total Weekly Volume": 401.7,
          "Weekly Volume": 147.69999999999996,
          "brand": "Alpha",
          "pct_volume": 0.3676873288523773,
          "week": 81
         },
         {
          "Total Weekly Volume": 349.22499999999997,
          "Weekly Volume": 108.59999999999998,
          "brand": "Alpha",
          "pct_volume": 0.31097430023623734,
          "week": 82
         },
         {
          "Total Weekly Volume": 349.22499999999997,
          "Weekly Volume": 176.8,
          "brand": "Bravo",
          "pct_volume": 0.5062638699978524,
          "week": 82
         },
         {
          "Total Weekly Volume": 323.6249999999999,
          "Weekly Volume": 129.9999999999999,
          "brand": "Alpha",
          "pct_volume": 0.4016994978756274,
          "week": 83
         },
         {
          "Total Weekly Volume": 323.6249999999999,
          "Weekly Volume": 127.62499999999997,
          "brand": "Bravo",
          "pct_volume": 0.3943607570490537,
          "week": 83
         },
         {
          "Total Weekly Volume": 306.0999999999999,
          "Weekly Volume": 99.99999999999999,
          "brand": "Bravo",
          "pct_volume": 0.3266906239790919,
          "week": 84
         },
         {
          "Total Weekly Volume": 306.0999999999999,
          "Weekly Volume": 147.69999999999996,
          "brand": "Alpha",
          "pct_volume": 0.4825220516171186,
          "week": 84
         },
         {
          "Total Weekly Volume": 470.5250000000001,
          "Weekly Volume": 147.15,
          "brand": "Bravo",
          "pct_volume": 0.31273577386961365,
          "week": 85
         },
         {
          "Total Weekly Volume": 470.5250000000001,
          "Weekly Volume": 212.35000000000008,
          "brand": "Alpha",
          "pct_volume": 0.4513043940279476,
          "week": 85
         },
         {
          "Total Weekly Volume": 542.325,
          "Weekly Volume": 291.50000000000006,
          "brand": "Alpha",
          "pct_volume": 0.5375005762227447,
          "week": 86
         },
         {
          "Total Weekly Volume": 542.325,
          "Weekly Volume": 178.75000000000003,
          "brand": "Bravo",
          "pct_volume": 0.3295994099479095,
          "week": 86
         },
         {
          "Total Weekly Volume": 1049.825,
          "Weekly Volume": 536.0499999999998,
          "brand": "Alpha",
          "pct_volume": 0.5106089110089775,
          "week": 87
         },
         {
          "Total Weekly Volume": 1049.825,
          "Weekly Volume": 480.8000000000001,
          "brand": "Bravo",
          "pct_volume": 0.45798109208677645,
          "week": 87
         },
         {
          "Total Weekly Volume": 367.6000000000001,
          "Weekly Volume": 75.04999999999998,
          "brand": "Bravo",
          "pct_volume": 0.2041621327529923,
          "week": 88
         },
         {
          "Total Weekly Volume": 367.6000000000001,
          "Weekly Volume": 258.6500000000001,
          "brand": "Alpha",
          "pct_volume": 0.7036180631120784,
          "week": 88
         },
         {
          "Total Weekly Volume": 186.24999999999997,
          "Weekly Volume": 89.74999999999999,
          "brand": "Bravo",
          "pct_volume": 0.4818791946308725,
          "week": 89
         },
         {
          "Total Weekly Volume": 186.24999999999997,
          "Weekly Volume": 77.34999999999998,
          "brand": "Alpha",
          "pct_volume": 0.41530201342281875,
          "week": 89
         },
         {
          "Total Weekly Volume": 259.72499999999997,
          "Weekly Volume": 115.24999999999999,
          "brand": "Alpha",
          "pct_volume": 0.4437385696409664,
          "week": 90
         },
         {
          "Total Weekly Volume": 259.72499999999997,
          "Weekly Volume": 92.09999999999998,
          "brand": "Bravo",
          "pct_volume": 0.35460583309269417,
          "week": 90
         },
         {
          "Total Weekly Volume": 288.1,
          "Weekly Volume": 149.85000000000002,
          "brand": "Bravo",
          "pct_volume": 0.5201318986463034,
          "week": 91
         },
         {
          "Total Weekly Volume": 288.1,
          "Weekly Volume": 98.69999999999999,
          "brand": "Alpha",
          "pct_volume": 0.3425893786879555,
          "week": 91
         },
         {
          "Total Weekly Volume": 263.8499999999999,
          "Weekly Volume": 97.24999999999997,
          "brand": "Alpha",
          "pct_volume": 0.36858063293537996,
          "week": 92
         },
         {
          "Total Weekly Volume": 263.8499999999999,
          "Weekly Volume": 123.09999999999995,
          "brand": "Bravo",
          "pct_volume": 0.46655296570020843,
          "week": 92
         },
         {
          "Total Weekly Volume": 203.725,
          "Weekly Volume": 73.6,
          "brand": "Alpha",
          "pct_volume": 0.3612713216345564,
          "week": 93
         },
         {
          "Total Weekly Volume": 203.725,
          "Weekly Volume": 67.94999999999999,
          "brand": "Bravo",
          "pct_volume": 0.3335378574058166,
          "week": 93
         },
         {
          "Total Weekly Volume": 213.54999999999995,
          "Weekly Volume": 90.94999999999997,
          "brand": "Bravo",
          "pct_volume": 0.42589557480683676,
          "week": 94
         },
         {
          "Total Weekly Volume": 213.54999999999995,
          "Weekly Volume": 87.6,
          "brand": "Alpha",
          "pct_volume": 0.4102083821119176,
          "week": 94
         },
         {
          "Total Weekly Volume": 243.52499999999992,
          "Weekly Volume": 87.79999999999997,
          "brand": "Alpha",
          "pct_volume": 0.3605379324504671,
          "week": 95
         },
         {
          "Total Weekly Volume": 243.52499999999992,
          "Weekly Volume": 116.84999999999994,
          "brand": "Bravo",
          "pct_volume": 0.4798275331074837,
          "week": 95
         },
         {
          "Total Weekly Volume": 272.15,
          "Weekly Volume": 169.15,
          "brand": "Alpha",
          "pct_volume": 0.6215322432482088,
          "week": 96
         },
         {
          "Total Weekly Volume": 272.15,
          "Weekly Volume": 62.54999999999998,
          "brand": "Bravo",
          "pct_volume": 0.22983648723130623,
          "week": 96
         },
         {
          "Total Weekly Volume": 460.2250000000001,
          "Weekly Volume": 216.25000000000006,
          "brand": "Alpha",
          "pct_volume": 0.46987886359932646,
          "week": 97
         },
         {
          "Total Weekly Volume": 460.2250000000001,
          "Weekly Volume": 208.45000000000002,
          "brand": "Bravo",
          "pct_volume": 0.4529306317562062,
          "week": 97
         },
         {
          "Total Weekly Volume": 884.0250000000001,
          "Weekly Volume": 467.8250000000001,
          "brand": "Bravo",
          "pct_volume": 0.5291988348745794,
          "week": 98
         },
         {
          "Total Weekly Volume": 884.0250000000001,
          "Weekly Volume": 394.05,
          "brand": "Alpha",
          "pct_volume": 0.4457453126325613,
          "week": 98
         },
         {
          "Total Weekly Volume": 415.85,
          "Weekly Volume": 98.24999999999999,
          "brand": "Alpha",
          "pct_volume": 0.2362630756282313,
          "week": 99
         },
         {
          "Total Weekly Volume": 415.85,
          "Weekly Volume": 246.05,
          "brand": "Bravo",
          "pct_volume": 0.5916796921967056,
          "week": 99
         },
         {
          "Total Weekly Volume": 396.55,
          "Weekly Volume": 125.74999999999997,
          "brand": "Bravo",
          "pct_volume": 0.3171100743916277,
          "week": 100
         },
         {
          "Total Weekly Volume": 396.55,
          "Weekly Volume": 216.40000000000003,
          "brand": "Alpha",
          "pct_volume": 0.545706720464002,
          "week": 100
         },
         {
          "Total Weekly Volume": 177.55,
          "Weekly Volume": 65.5,
          "brand": "Alpha",
          "pct_volume": 0.36891016615038014,
          "week": 101
         },
         {
          "Total Weekly Volume": 177.55,
          "Weekly Volume": 72,
          "brand": "Bravo",
          "pct_volume": 0.4055195719515629,
          "week": 101
         },
         {
          "Total Weekly Volume": 279.34999999999997,
          "Weekly Volume": 151.825,
          "brand": "Bravo",
          "pct_volume": 0.5434938249507786,
          "week": 102
         },
         {
          "Total Weekly Volume": 279.34999999999997,
          "Weekly Volume": 95.69999999999997,
          "brand": "Alpha",
          "pct_volume": 0.34258099158761407,
          "week": 102
         },
         {
          "Total Weekly Volume": 318.175,
          "Weekly Volume": 132.2,
          "brand": "Bravo",
          "pct_volume": 0.4154946177418087,
          "week": 103
         },
         {
          "Total Weekly Volume": 318.175,
          "Weekly Volume": 135.10000000000002,
          "brand": "Alpha",
          "pct_volume": 0.4246090987664022,
          "week": 103
         },
         {
          "Total Weekly Volume": 221.3,
          "Weekly Volume": 64.19999999999999,
          "brand": "Bravo",
          "pct_volume": 0.290103931314957,
          "week": 104
         },
         {
          "Total Weekly Volume": 221.3,
          "Weekly Volume": 101.2,
          "brand": "Alpha",
          "pct_volume": 0.45729778581111613,
          "week": 104
         }
        ]
       },
       "encoding": {
        "color": {
         "field": "brand",
         "legend": {
          "title": "brand"
         },
         "type": "nominal"
        },
        "x": {
         "axis": {
          "labelExpr": "datum.value",
          "title": "Week",
          "values": [
           0,
           13,
           26,
           39,
           52,
           65,
           78,
           91,
           104
          ]
         },
         "field": "week",
         "type": "quantitative"
        },
        "y": {
         "axis": {
          "format": ",.0%"
         },
         "field": "pct_volume",
         "title": "",
         "type": "quantitative"
        }
       },
       "height": 250,
       "mark": {
        "strokeWidth": 1,
        "type": "line"
       },
       "title": "",
       "width": 650
      },
      "text/plain": [
       "<VegaLite 5 object>\n",
       "\n",
       "If you see this message, it means the renderer has not been properly enabled\n",
       "for the frontend that you are using. For more information, see\n",
       "https://altair-viz.github.io/user_guide/display_frontends.html#troubleshooting\n"
      ]
     },
     "execution_count": 15,
     "metadata": {},
     "output_type": "execute_result"
    }
   ],
   "source": [
    "pct_volume_plot = (\n",
    "    weekly_vol_summary('All', grocery_lf)\n",
    "    .group_by('week')\n",
    "    .agg(\n",
    "        pl.col('Weekly Volume').sum().alias('Total Weekly Volume')\n",
    "    )\n",
    "    .join(\n",
    "        other=weekly_vol_summary(['Alpha', 'Bravo'], grocery_lf),\n",
    "        on='week',\n",
    "    )\n",
    "    .filter(\n",
    "        (pl.col('brand').is_in(['Alpha', 'Bravo']))\n",
    "    )\n",
    "    .with_columns(\n",
    "        # compute brand wise % of total volume sale\n",
    "        (pl.col('Weekly Volume') / pl.col('Total Weekly Volume')).alias('pct_volume')\n",
    "    )\n",
    ").collect()\n",
    "\n",
    "weekly_plot(dataframe=pct_volume_plot, \n",
    "            y='pct_volume', \n",
    "            color='brand', \n",
    "            title=\"\", \n",
    "            y_axis_label=\"\", \n",
    "            pct=True, \n",
    "            legend=True)"
   ]
  },
  {
   "cell_type": "code",
   "execution_count": 16,
   "metadata": {},
   "outputs": [
    {
     "data": {
      "text/html": [
       "<div id=\"fbohbfxcpm\" style=\"padding-left:0px;padding-right:0px;padding-top:10px;padding-bottom:10px;overflow-x:auto;overflow-y:auto;width:auto;height:auto;\">\n",
       "<style>\n",
       "#fbohbfxcpm table {\n",
       "          font-family: -apple-system, BlinkMacSystemFont, 'Segoe UI', Roboto, Oxygen, Ubuntu, Cantarell, 'Helvetica Neue', 'Fira Sans', 'Droid Sans', Arial, sans-serif;\n",
       "          -webkit-font-smoothing: antialiased;\n",
       "          -moz-osx-font-smoothing: grayscale;\n",
       "        }\n",
       "\n",
       "#fbohbfxcpm thead, tbody, tfoot, tr, td, th { border-style: none !important; }\n",
       " tr { background-color: transparent !important; }\n",
       "#fbohbfxcpm p { margin: 0 !important; padding: 0 !important; }\n",
       " #fbohbfxcpm .gt_table { display: table !important; border-collapse: collapse !important; line-height: normal !important; margin-left: auto !important; margin-right: auto !important; color: #333333 !important; font-size: 16px !important; font-weight: normal !important; font-style: normal !important; background-color: #FFFFFF !important; width: auto !important; border-top-style: solid !important; border-top-width: 2px !important; border-top-color: #A8A8A8 !important; border-right-style: none !important; border-right-width: 2px !important; border-right-color: #D3D3D3 !important; border-bottom-style: solid !important; border-bottom-width: 2px !important; border-bottom-color: #A8A8A8 !important; border-left-style: none !important; border-left-width: 2px !important; border-left-color: #D3D3D3 !important; }\n",
       " #fbohbfxcpm .gt_caption { padding-top: 4px !important; padding-bottom: 4px !important; }\n",
       " #fbohbfxcpm .gt_title { color: #333333 !important; font-size: 125% !important; font-weight: initial !important; padding-top: 4px !important; padding-bottom: 4px !important; padding-left: 5px !important; padding-right: 5px !important; border-bottom-color: #FFFFFF !important; border-bottom-width: 0 !important; }\n",
       " #fbohbfxcpm .gt_subtitle { color: #333333 !important; font-size: 85% !important; font-weight: initial !important; padding-top: 3px !important; padding-bottom: 5px !important; padding-left: 5px !important; padding-right: 5px !important; border-top-color: #FFFFFF !important; border-top-width: 0 !important; }\n",
       " #fbohbfxcpm .gt_heading { background-color: #FFFFFF !important; text-align: center !important; border-bottom-color: #FFFFFF !important; border-left-style: none !important; border-left-width: 1px !important; border-left-color: #D3D3D3 !important; border-right-style: none !important; border-right-width: 1px !important; border-right-color: #D3D3D3 !important; }\n",
       " #fbohbfxcpm .gt_bottom_border { border-bottom-style: solid !important; border-bottom-width: 2px !important; border-bottom-color: #D3D3D3 !important; }\n",
       " #fbohbfxcpm .gt_col_headings { border-top-style: solid !important; border-top-width: 2px !important; border-top-color: #D3D3D3 !important; border-bottom-style: solid !important; border-bottom-width: 2px !important; border-bottom-color: #D3D3D3 !important; border-left-style: none !important; border-left-width: 1px !important; border-left-color: #D3D3D3 !important; border-right-style: none !important; border-right-width: 1px !important; border-right-color: #D3D3D3 !important; }\n",
       " #fbohbfxcpm .gt_col_heading { color: #333333 !important; background-color: #FFFFFF !important; font-size: 100% !important; font-weight: normal !important; text-transform: inherit !important; border-left-style: none !important; border-left-width: 1px !important; border-left-color: #D3D3D3 !important; border-right-style: none !important; border-right-width: 1px !important; border-right-color: #D3D3D3 !important; vertical-align: bottom !important; padding-top: 5px !important; padding-bottom: 5px !important; padding-left: 5px !important; padding-right: 5px !important; overflow-x: hidden !important; }\n",
       " #fbohbfxcpm .gt_column_spanner_outer { color: #333333 !important; background-color: #FFFFFF !important; font-size: 100% !important; font-weight: normal !important; text-transform: inherit !important; padding-top: 0 !important; padding-bottom: 0 !important; padding-left: 4px !important; padding-right: 4px !important; }\n",
       " #fbohbfxcpm .gt_column_spanner_outer:first-child { padding-left: 0 !important; }\n",
       " #fbohbfxcpm .gt_column_spanner_outer:last-child { padding-right: 0 !important; }\n",
       " #fbohbfxcpm .gt_column_spanner { border-bottom-style: solid !important; border-bottom-width: 2px !important; border-bottom-color: #D3D3D3 !important; vertical-align: bottom !important; padding-top: 5px !important; padding-bottom: 5px !important; overflow-x: hidden !important; display: inline-block !important; width: 100% !important; }\n",
       " #fbohbfxcpm .gt_spanner_row { border-bottom-style: hidden !important; }\n",
       " #fbohbfxcpm .gt_group_heading { padding-top: 8px !important; padding-bottom: 8px !important; padding-left: 5px !important; padding-right: 5px !important; color: #333333 !important; background-color: #FFFFFF !important; font-size: 100% !important; font-weight: initial !important; text-transform: inherit !important; border-top-style: solid !important; border-top-width: 2px !important; border-top-color: #D3D3D3 !important; border-bottom-style: solid !important; border-bottom-width: 2px !important; border-bottom-color: #D3D3D3 !important; border-left-style: none !important; border-left-width: 1px !important; border-left-color: #D3D3D3 !important; border-right-style: none !important; border-right-width: 1px !important; border-right-color: #D3D3D3 !important; vertical-align: middle !important; text-align: left !important; }\n",
       " #fbohbfxcpm .gt_empty_group_heading { padding: 0.5px !important; color: #333333 !important; background-color: #FFFFFF !important; font-size: 100% !important; font-weight: initial !important; border-top-style: solid !important; border-top-width: 2px !important; border-top-color: #D3D3D3 !important; border-bottom-style: solid !important; border-bottom-width: 2px !important; border-bottom-color: #D3D3D3 !important; vertical-align: middle !important; }\n",
       " #fbohbfxcpm .gt_from_md> :first-child { margin-top: 0 !important; }\n",
       " #fbohbfxcpm .gt_from_md> :last-child { margin-bottom: 0 !important; }\n",
       " #fbohbfxcpm .gt_row { padding-top: 8px !important; padding-bottom: 8px !important; padding-left: 5px !important; padding-right: 5px !important; margin: 10px !important; border-top-style: solid !important; border-top-width: 1px !important; border-top-color: #D3D3D3 !important; border-left-style: none !important; border-left-width: 1px !important; border-left-color: #D3D3D3 !important; border-right-style: none !important; border-right-width: 1px !important; border-right-color: #D3D3D3 !important; vertical-align: middle !important; overflow-x: hidden !important; }\n",
       " #fbohbfxcpm .gt_stub { color: #333333 !important; background-color: #FFFFFF !important; font-size: 100% !important; font-weight: initial !important; text-transform: inherit !important; border-right-style: solid !important; border-right-width: 2px !important; border-right-color: #D3D3D3 !important; padding-left: 5px !important; padding-right: 5px !important; }\n",
       " #fbohbfxcpm .gt_stub_row_group { color: #333333 !important; background-color: #FFFFFF !important; font-size: 100% !important; font-weight: initial !important; text-transform: inherit !important; border-right-style: solid !important; border-right-width: 2px !important; border-right-color: #D3D3D3 !important; padding-left: 5px !important; padding-right: 5px !important; vertical-align: top !important; }\n",
       " #fbohbfxcpm .gt_row_group_first td { border-top-width: 2px !important; }\n",
       " #fbohbfxcpm .gt_row_group_first th { border-top-width: 2px !important; }\n",
       " #fbohbfxcpm .gt_striped { background-color: rgba(128,128,128,0.05) !important; }\n",
       " #fbohbfxcpm .gt_table_body { border-top-style: solid !important; border-top-width: 2px !important; border-top-color: #D3D3D3 !important; border-bottom-style: solid !important; border-bottom-width: 2px !important; border-bottom-color: #D3D3D3 !important; }\n",
       " #fbohbfxcpm .gt_sourcenotes { color: #333333 !important; background-color: #FFFFFF !important; border-bottom-style: none !important; border-bottom-width: 2px !important; border-bottom-color: #D3D3D3 !important; border-left-style: none !important; border-left-width: 2px !important; border-left-color: #D3D3D3 !important; border-right-style: none !important; border-right-width: 2px !important; border-right-color: #D3D3D3 !important; }\n",
       " #fbohbfxcpm .gt_sourcenote { font-size: 90% !important; padding-top: 4px !important; padding-bottom: 4px !important; padding-left: 5px !important; padding-right: 5px !important; text-align: left !important; }\n",
       " #fbohbfxcpm .gt_left { text-align: left !important; }\n",
       " #fbohbfxcpm .gt_center { text-align: center !important; }\n",
       " #fbohbfxcpm .gt_right { text-align: right !important; font-variant-numeric: tabular-nums !important; }\n",
       " #fbohbfxcpm .gt_font_normal { font-weight: normal !important; }\n",
       " #fbohbfxcpm .gt_font_bold { font-weight: bold !important; }\n",
       " #fbohbfxcpm .gt_font_italic { font-style: italic !important; }\n",
       " #fbohbfxcpm .gt_super { font-size: 65% !important; }\n",
       " #fbohbfxcpm .gt_footnote_marks { font-size: 75% !important; vertical-align: 0.4em !important; position: initial !important; }\n",
       " #fbohbfxcpm .gt_asterisk { font-size: 100% !important; vertical-align: 0 !important; }\n",
       " \n",
       "</style>\n",
       "<table class=\"gt_table\" data-quarto-disable-processing=\"false\" data-quarto-bootstrap=\"false\">\n",
       "<thead>\n",
       "\n",
       "  <tr class=\"gt_heading\">\n",
       "    <td colspan=\"6\" class=\"gt_heading gt_title gt_font_normal\">Correlation Matrix of Weekly (Volume) Market Share</td>\n",
       "  </tr>\n",
       "<tr class=\"gt_col_headings\">\n",
       "  <th class=\"gt_col_heading gt_columns_bottom_border gt_left\" rowspan=\"1\" colspan=\"1\" scope=\"col\" id=\"\"></th>\n",
       "  <th class=\"gt_col_heading gt_columns_bottom_border gt_right\" rowspan=\"1\" colspan=\"1\" scope=\"col\" id=\"Alpha\">Alpha</th>\n",
       "  <th class=\"gt_col_heading gt_columns_bottom_border gt_right\" rowspan=\"1\" colspan=\"1\" scope=\"col\" id=\"Bravo\">Bravo</th>\n",
       "  <th class=\"gt_col_heading gt_columns_bottom_border gt_right\" rowspan=\"1\" colspan=\"1\" scope=\"col\" id=\"Charlie\">Charlie</th>\n",
       "  <th class=\"gt_col_heading gt_columns_bottom_border gt_right\" rowspan=\"1\" colspan=\"1\" scope=\"col\" id=\"Delta\">Delta</th>\n",
       "  <th class=\"gt_col_heading gt_columns_bottom_border gt_right\" rowspan=\"1\" colspan=\"1\" scope=\"col\" id=\"Other\">Other</th>\n",
       "</tr>\n",
       "</thead>\n",
       "<tbody class=\"gt_table_body\">\n",
       "  <tr>\n",
       "    <th style=\"color: #000000; background-color: #808080;\" class=\"gt_row gt_left gt_stub\">Alpha</th>\n",
       "    <td style=\"color: #000000; background-color: #ffa500;\" class=\"gt_row gt_right\">1.00</td>\n",
       "    <td style=\"color: #FFFFFF; background-color: #7c51a8;\" class=\"gt_row gt_right\">−0.85</td>\n",
       "    <td style=\"color: #000000; background-color: #cbb9dc;\" class=\"gt_row gt_right\">−0.34</td>\n",
       "    <td style=\"color: #000000; background-color: #eee9f4;\" class=\"gt_row gt_right\">−0.11</td>\n",
       "    <td style=\"color: #000000; background-color: #e8e1f0;\" class=\"gt_row gt_right\">−0.15</td>\n",
       "  </tr>\n",
       "  <tr>\n",
       "    <th style=\"color: #000000; background-color: #808080;\" class=\"gt_row gt_left gt_stub\">Bravo</th>\n",
       "    <td style=\"color: #FFFFFF; background-color: #7c51a8;\" class=\"gt_row gt_right\">−0.85</td>\n",
       "    <td style=\"color: #000000; background-color: #ffa500;\" class=\"gt_row gt_right\">1.00</td>\n",
       "    <td style=\"color: #000000; background-color: #eee8f3;\" class=\"gt_row gt_right\">−0.11</td>\n",
       "    <td style=\"color: #000000; background-color: #dcd0e7;\" class=\"gt_row gt_right\">−0.23</td>\n",
       "    <td style=\"color: #000000; background-color: #efeaf4;\" class=\"gt_row gt_right\">−0.10</td>\n",
       "  </tr>\n",
       "  <tr>\n",
       "    <th style=\"color: #000000; background-color: #808080;\" class=\"gt_row gt_left gt_stub\">Charlie</th>\n",
       "    <td style=\"color: #000000; background-color: #cbb9dc;\" class=\"gt_row gt_right\">−0.34</td>\n",
       "    <td style=\"color: #000000; background-color: #eee8f3;\" class=\"gt_row gt_right\">−0.11</td>\n",
       "    <td style=\"color: #000000; background-color: #ffa500;\" class=\"gt_row gt_right\">1.00</td>\n",
       "    <td style=\"color: #000000; background-color: #fff3dd;\" class=\"gt_row gt_right\">0.13</td>\n",
       "    <td style=\"color: #000000; background-color: #ffe9c1;\" class=\"gt_row gt_right\">0.24</td>\n",
       "  </tr>\n",
       "  <tr>\n",
       "    <th style=\"color: #000000; background-color: #808080;\" class=\"gt_row gt_left gt_stub\">Delta</th>\n",
       "    <td style=\"color: #000000; background-color: #eee9f4;\" class=\"gt_row gt_right\">−0.11</td>\n",
       "    <td style=\"color: #000000; background-color: #dcd0e7;\" class=\"gt_row gt_right\">−0.23</td>\n",
       "    <td style=\"color: #000000; background-color: #fff3dd;\" class=\"gt_row gt_right\">0.13</td>\n",
       "    <td style=\"color: #000000; background-color: #ffa500;\" class=\"gt_row gt_right\">1.00</td>\n",
       "    <td style=\"color: #000000; background-color: #ffe3b0;\" class=\"gt_row gt_right\">0.31</td>\n",
       "  </tr>\n",
       "  <tr>\n",
       "    <th style=\"color: #000000; background-color: #808080;\" class=\"gt_row gt_left gt_stub\">Other</th>\n",
       "    <td style=\"color: #000000; background-color: #e8e1f0;\" class=\"gt_row gt_right\">−0.15</td>\n",
       "    <td style=\"color: #000000; background-color: #efeaf4;\" class=\"gt_row gt_right\">−0.10</td>\n",
       "    <td style=\"color: #000000; background-color: #ffe9c1;\" class=\"gt_row gt_right\">0.24</td>\n",
       "    <td style=\"color: #000000; background-color: #ffe3b0;\" class=\"gt_row gt_right\">0.31</td>\n",
       "    <td style=\"color: #000000; background-color: #ffa500;\" class=\"gt_row gt_right\">1.00</td>\n",
       "  </tr>\n",
       "</tbody>\n",
       "\n",
       "\n",
       "</table>\n",
       "\n",
       "</div>\n",
       "        "
      ],
      "text/plain": [
       "GT(_tbl_data=shape: (5, 6)\n",
       "┌───────────┬───────────┬───────────┬───────────┬───────────┬─────────┐\n",
       "│ Alpha     ┆ Bravo     ┆ Charlie   ┆ Delta     ┆ Other     ┆ index   │\n",
       "│ ---       ┆ ---       ┆ ---       ┆ ---       ┆ ---       ┆ ---     │\n",
       "│ f64       ┆ f64       ┆ f64       ┆ f64       ┆ f64       ┆ str     │\n",
       "╞═══════════╪═══════════╪═══════════╪═══════════╪═══════════╪═════════╡\n",
       "│ 1.0       ┆ -0.853061 ┆ -0.34158  ┆ -0.109693 ┆ -0.148193 ┆ Alpha   │\n",
       "│ -0.853061 ┆ 1.0       ┆ -0.114179 ┆ -0.231641 ┆ -0.104983 ┆ Bravo   │\n",
       "│ -0.34158  ┆ -0.114179 ┆ 1.0       ┆ 0.131988  ┆ 0.243434  ┆ Charlie │\n",
       "│ -0.109693 ┆ -0.231641 ┆ 0.131988  ┆ 1.0       ┆ 0.308354  ┆ Delta   │\n",
       "│ -0.148193 ┆ -0.104983 ┆ 0.243434  ┆ 0.308354  ┆ 1.0       ┆ Other   │\n",
       "└───────────┴───────────┴───────────┴───────────┴───────────┴─────────┘, _body=<great_tables._gt_data.Body object at 0x10da797f0>, _boxhead=Boxhead([ColInfo(var='Alpha', type=<ColInfoTypeEnum.default: 1>, column_label='Alpha', column_align='right', column_width=None), ColInfo(var='Bravo', type=<ColInfoTypeEnum.default: 1>, column_label='Bravo', column_align='right', column_width=None), ColInfo(var='Charlie', type=<ColInfoTypeEnum.default: 1>, column_label='Charlie', column_align='right', column_width=None), ColInfo(var='Delta', type=<ColInfoTypeEnum.default: 1>, column_label='Delta', column_align='right', column_width=None), ColInfo(var='Other', type=<ColInfoTypeEnum.default: 1>, column_label='Other', column_align='right', column_width=None), ColInfo(var='index', type=<ColInfoTypeEnum.stub: 2>, column_label='index', column_align='left', column_width=None)]), _stub=<great_tables._gt_data.Stub object at 0x10da792b0>, _spanners=Spanners([]), _heading=Heading(title='Correlation Matrix of Weekly (Volume) Market Share', subtitle=None, preheader=None), _stubhead=None, _source_notes=[], _footnotes=[], _styles=[StyleInfo(locname=LocBody(columns='Alpha', rows=[0]), grpname=None, colname='Alpha', rownum=0, colnum=None, styles=[CellStyleText(color='#000000', font=None, size=None, align=None, v_align=None, style=None, weight=None, stretch=None, decorate=None, transform=None, whitespace=None), CellStyleFill(color='#ffa500')]), StyleInfo(locname=LocBody(columns='Alpha', rows=[1]), grpname=None, colname='Alpha', rownum=1, colnum=None, styles=[CellStyleText(color='#FFFFFF', font=None, size=None, align=None, v_align=None, style=None, weight=None, stretch=None, decorate=None, transform=None, whitespace=None), CellStyleFill(color='#7c51a8')]), StyleInfo(locname=LocBody(columns='Alpha', rows=[2]), grpname=None, colname='Alpha', rownum=2, colnum=None, styles=[CellStyleText(color='#000000', font=None, size=None, align=None, v_align=None, style=None, weight=None, stretch=None, decorate=None, transform=None, whitespace=None), CellStyleFill(color='#cbb9dc')]), StyleInfo(locname=LocBody(columns='Alpha', rows=[3]), grpname=None, colname='Alpha', rownum=3, colnum=None, styles=[CellStyleText(color='#000000', font=None, size=None, align=None, v_align=None, style=None, weight=None, stretch=None, decorate=None, transform=None, whitespace=None), CellStyleFill(color='#eee9f4')]), StyleInfo(locname=LocBody(columns='Alpha', rows=[4]), grpname=None, colname='Alpha', rownum=4, colnum=None, styles=[CellStyleText(color='#000000', font=None, size=None, align=None, v_align=None, style=None, weight=None, stretch=None, decorate=None, transform=None, whitespace=None), CellStyleFill(color='#e8e1f0')]), StyleInfo(locname=LocBody(columns='Bravo', rows=[0]), grpname=None, colname='Bravo', rownum=0, colnum=None, styles=[CellStyleText(color='#FFFFFF', font=None, size=None, align=None, v_align=None, style=None, weight=None, stretch=None, decorate=None, transform=None, whitespace=None), CellStyleFill(color='#7c51a8')]), StyleInfo(locname=LocBody(columns='Bravo', rows=[1]), grpname=None, colname='Bravo', rownum=1, colnum=None, styles=[CellStyleText(color='#000000', font=None, size=None, align=None, v_align=None, style=None, weight=None, stretch=None, decorate=None, transform=None, whitespace=None), CellStyleFill(color='#ffa500')]), StyleInfo(locname=LocBody(columns='Bravo', rows=[2]), grpname=None, colname='Bravo', rownum=2, colnum=None, styles=[CellStyleText(color='#000000', font=None, size=None, align=None, v_align=None, style=None, weight=None, stretch=None, decorate=None, transform=None, whitespace=None), CellStyleFill(color='#eee8f3')]), StyleInfo(locname=LocBody(columns='Bravo', rows=[3]), grpname=None, colname='Bravo', rownum=3, colnum=None, styles=[CellStyleText(color='#000000', font=None, size=None, align=None, v_align=None, style=None, weight=None, stretch=None, decorate=None, transform=None, whitespace=None), CellStyleFill(color='#dcd0e7')]), StyleInfo(locname=LocBody(columns='Bravo', rows=[4]), grpname=None, colname='Bravo', rownum=4, colnum=None, styles=[CellStyleText(color='#000000', font=None, size=None, align=None, v_align=None, style=None, weight=None, stretch=None, decorate=None, transform=None, whitespace=None), CellStyleFill(color='#efeaf4')]), StyleInfo(locname=LocBody(columns='Charlie', rows=[0]), grpname=None, colname='Charlie', rownum=0, colnum=None, styles=[CellStyleText(color='#000000', font=None, size=None, align=None, v_align=None, style=None, weight=None, stretch=None, decorate=None, transform=None, whitespace=None), CellStyleFill(color='#cbb9dc')]), StyleInfo(locname=LocBody(columns='Charlie', rows=[1]), grpname=None, colname='Charlie', rownum=1, colnum=None, styles=[CellStyleText(color='#000000', font=None, size=None, align=None, v_align=None, style=None, weight=None, stretch=None, decorate=None, transform=None, whitespace=None), CellStyleFill(color='#eee8f3')]), StyleInfo(locname=LocBody(columns='Charlie', rows=[2]), grpname=None, colname='Charlie', rownum=2, colnum=None, styles=[CellStyleText(color='#000000', font=None, size=None, align=None, v_align=None, style=None, weight=None, stretch=None, decorate=None, transform=None, whitespace=None), CellStyleFill(color='#ffa500')]), StyleInfo(locname=LocBody(columns='Charlie', rows=[3]), grpname=None, colname='Charlie', rownum=3, colnum=None, styles=[CellStyleText(color='#000000', font=None, size=None, align=None, v_align=None, style=None, weight=None, stretch=None, decorate=None, transform=None, whitespace=None), CellStyleFill(color='#fff3dd')]), StyleInfo(locname=LocBody(columns='Charlie', rows=[4]), grpname=None, colname='Charlie', rownum=4, colnum=None, styles=[CellStyleText(color='#000000', font=None, size=None, align=None, v_align=None, style=None, weight=None, stretch=None, decorate=None, transform=None, whitespace=None), CellStyleFill(color='#ffe9c1')]), StyleInfo(locname=LocBody(columns='Delta', rows=[0]), grpname=None, colname='Delta', rownum=0, colnum=None, styles=[CellStyleText(color='#000000', font=None, size=None, align=None, v_align=None, style=None, weight=None, stretch=None, decorate=None, transform=None, whitespace=None), CellStyleFill(color='#eee9f4')]), StyleInfo(locname=LocBody(columns='Delta', rows=[1]), grpname=None, colname='Delta', rownum=1, colnum=None, styles=[CellStyleText(color='#000000', font=None, size=None, align=None, v_align=None, style=None, weight=None, stretch=None, decorate=None, transform=None, whitespace=None), CellStyleFill(color='#dcd0e7')]), StyleInfo(locname=LocBody(columns='Delta', rows=[2]), grpname=None, colname='Delta', rownum=2, colnum=None, styles=[CellStyleText(color='#000000', font=None, size=None, align=None, v_align=None, style=None, weight=None, stretch=None, decorate=None, transform=None, whitespace=None), CellStyleFill(color='#fff3dd')]), StyleInfo(locname=LocBody(columns='Delta', rows=[3]), grpname=None, colname='Delta', rownum=3, colnum=None, styles=[CellStyleText(color='#000000', font=None, size=None, align=None, v_align=None, style=None, weight=None, stretch=None, decorate=None, transform=None, whitespace=None), CellStyleFill(color='#ffa500')]), StyleInfo(locname=LocBody(columns='Delta', rows=[4]), grpname=None, colname='Delta', rownum=4, colnum=None, styles=[CellStyleText(color='#000000', font=None, size=None, align=None, v_align=None, style=None, weight=None, stretch=None, decorate=None, transform=None, whitespace=None), CellStyleFill(color='#ffe3b0')]), StyleInfo(locname=LocBody(columns='Other', rows=[0]), grpname=None, colname='Other', rownum=0, colnum=None, styles=[CellStyleText(color='#000000', font=None, size=None, align=None, v_align=None, style=None, weight=None, stretch=None, decorate=None, transform=None, whitespace=None), CellStyleFill(color='#e8e1f0')]), StyleInfo(locname=LocBody(columns='Other', rows=[1]), grpname=None, colname='Other', rownum=1, colnum=None, styles=[CellStyleText(color='#000000', font=None, size=None, align=None, v_align=None, style=None, weight=None, stretch=None, decorate=None, transform=None, whitespace=None), CellStyleFill(color='#efeaf4')]), StyleInfo(locname=LocBody(columns='Other', rows=[2]), grpname=None, colname='Other', rownum=2, colnum=None, styles=[CellStyleText(color='#000000', font=None, size=None, align=None, v_align=None, style=None, weight=None, stretch=None, decorate=None, transform=None, whitespace=None), CellStyleFill(color='#ffe9c1')]), StyleInfo(locname=LocBody(columns='Other', rows=[3]), grpname=None, colname='Other', rownum=3, colnum=None, styles=[CellStyleText(color='#000000', font=None, size=None, align=None, v_align=None, style=None, weight=None, stretch=None, decorate=None, transform=None, whitespace=None), CellStyleFill(color='#ffe3b0')]), StyleInfo(locname=LocBody(columns='Other', rows=[4]), grpname=None, colname='Other', rownum=4, colnum=None, styles=[CellStyleText(color='#000000', font=None, size=None, align=None, v_align=None, style=None, weight=None, stretch=None, decorate=None, transform=None, whitespace=None), CellStyleFill(color='#ffa500')]), StyleInfo(locname=LocBody(columns='index', rows=[0]), grpname=None, colname='index', rownum=0, colnum=None, styles=[CellStyleText(color='#000000', font=None, size=None, align=None, v_align=None, style=None, weight=None, stretch=None, decorate=None, transform=None, whitespace=None), CellStyleFill(color='#808080')]), StyleInfo(locname=LocBody(columns='index', rows=[1]), grpname=None, colname='index', rownum=1, colnum=None, styles=[CellStyleText(color='#000000', font=None, size=None, align=None, v_align=None, style=None, weight=None, stretch=None, decorate=None, transform=None, whitespace=None), CellStyleFill(color='#808080')]), StyleInfo(locname=LocBody(columns='index', rows=[2]), grpname=None, colname='index', rownum=2, colnum=None, styles=[CellStyleText(color='#000000', font=None, size=None, align=None, v_align=None, style=None, weight=None, stretch=None, decorate=None, transform=None, whitespace=None), CellStyleFill(color='#808080')]), StyleInfo(locname=LocBody(columns='index', rows=[3]), grpname=None, colname='index', rownum=3, colnum=None, styles=[CellStyleText(color='#000000', font=None, size=None, align=None, v_align=None, style=None, weight=None, stretch=None, decorate=None, transform=None, whitespace=None), CellStyleFill(color='#808080')]), StyleInfo(locname=LocBody(columns='index', rows=[4]), grpname=None, colname='index', rownum=4, colnum=None, styles=[CellStyleText(color='#000000', font=None, size=None, align=None, v_align=None, style=None, weight=None, stretch=None, decorate=None, transform=None, whitespace=None), CellStyleFill(color='#808080')])], _locale=<great_tables._gt_data.Locale object at 0x10da79be0>, _formats=[<great_tables._gt_data.FormatInfo object at 0x10ab66900>], _substitutions=[], _options=Options(table_id=OptionsInfo(scss=False, category='table', type='value', value=None), table_caption=OptionsInfo(scss=False, category='table', type='value', value=None), table_width=OptionsInfo(scss=True, category='table', type='px', value='auto'), table_layout=OptionsInfo(scss=True, category='table', type='value', value='fixed'), table_margin_left=OptionsInfo(scss=True, category='table', type='px', value='auto'), table_margin_right=OptionsInfo(scss=True, category='table', type='px', value='auto'), table_background_color=OptionsInfo(scss=True, category='table', type='value', value='#FFFFFF'), table_additional_css=OptionsInfo(scss=False, category='table', type='values', value=[]), table_font_names=OptionsInfo(scss=False, category='table', type='values', value=['-apple-system', 'BlinkMacSystemFont', 'Segoe UI', 'Roboto', 'Oxygen', 'Ubuntu', 'Cantarell', 'Helvetica Neue', 'Fira Sans', 'Droid Sans', 'Arial', 'sans-serif']), table_font_size=OptionsInfo(scss=True, category='table', type='px', value='16px'), table_font_weight=OptionsInfo(scss=True, category='table', type='value', value='normal'), table_font_style=OptionsInfo(scss=True, category='table', type='value', value='normal'), table_font_color=OptionsInfo(scss=True, category='table', type='value', value='#333333'), table_font_color_light=OptionsInfo(scss=True, category='table', type='value', value='#FFFFFF'), table_border_top_include=OptionsInfo(scss=False, category='table', type='boolean', value=True), table_border_top_style=OptionsInfo(scss=True, category='table', type='value', value='solid'), table_border_top_width=OptionsInfo(scss=True, category='table', type='px', value='2px'), table_border_top_color=OptionsInfo(scss=True, category='table', type='value', value='#A8A8A8'), table_border_right_style=OptionsInfo(scss=True, category='table', type='value', value='none'), table_border_right_width=OptionsInfo(scss=True, category='table', type='px', value='2px'), table_border_right_color=OptionsInfo(scss=True, category='table', type='value', value='#D3D3D3'), table_border_bottom_include=OptionsInfo(scss=False, category='table', type='boolean', value=True), table_border_bottom_style=OptionsInfo(scss=True, category='table', type='value', value='solid'), table_border_bottom_width=OptionsInfo(scss=True, category='table', type='px', value='2px'), table_border_bottom_color=OptionsInfo(scss=True, category='table', type='value', value='#A8A8A8'), table_border_left_style=OptionsInfo(scss=True, category='table', type='value', value='none'), table_border_left_width=OptionsInfo(scss=True, category='table', type='px', value='2px'), table_border_left_color=OptionsInfo(scss=True, category='table', type='value', value='#D3D3D3'), heading_background_color=OptionsInfo(scss=True, category='heading', type='value', value=None), heading_align=OptionsInfo(scss=True, category='heading', type='value', value='center'), heading_title_font_size=OptionsInfo(scss=True, category='heading', type='px', value='125%'), heading_title_font_weight=OptionsInfo(scss=True, category='heading', type='value', value='initial'), heading_subtitle_font_size=OptionsInfo(scss=True, category='heading', type='px', value='85%'), heading_subtitle_font_weight=OptionsInfo(scss=True, category='heading', type='value', value='initial'), heading_padding=OptionsInfo(scss=True, category='heading', type='px', value='4px'), heading_padding_horizontal=OptionsInfo(scss=True, category='heading', type='px', value='5px'), heading_border_bottom_style=OptionsInfo(scss=True, category='heading', type='value', value='solid'), heading_border_bottom_width=OptionsInfo(scss=True, category='heading', type='px', value='2px'), heading_border_bottom_color=OptionsInfo(scss=True, category='heading', type='value', value='#D3D3D3'), heading_border_lr_style=OptionsInfo(scss=True, category='heading', type='value', value='none'), heading_border_lr_width=OptionsInfo(scss=True, category='heading', type='px', value='1px'), heading_border_lr_color=OptionsInfo(scss=True, category='heading', type='value', value='#D3D3D3'), column_labels_background_color=OptionsInfo(scss=True, category='column_labels', type='value', value=None), column_labels_font_size=OptionsInfo(scss=True, category='column_labels', type='px', value='100%'), column_labels_font_weight=OptionsInfo(scss=True, category='column_labels', type='value', value='normal'), column_labels_text_transform=OptionsInfo(scss=True, category='column_labels', type='value', value='inherit'), column_labels_padding=OptionsInfo(scss=True, category='column_labels', type='px', value='5px'), column_labels_padding_horizontal=OptionsInfo(scss=True, category='column_labels', type='px', value='5px'), column_labels_vlines_style=OptionsInfo(scss=True, category='table_body', type='value', value='none'), column_labels_vlines_width=OptionsInfo(scss=True, category='table_body', type='px', value='1px'), column_labels_vlines_color=OptionsInfo(scss=True, category='table_body', type='value', value='#D3D3D3'), column_labels_border_top_style=OptionsInfo(scss=True, category='column_labels', type='value', value='solid'), column_labels_border_top_width=OptionsInfo(scss=True, category='column_labels', type='px', value='2px'), column_labels_border_top_color=OptionsInfo(scss=True, category='column_labels', type='value', value='#D3D3D3'), column_labels_border_bottom_style=OptionsInfo(scss=True, category='column_labels', type='value', value='solid'), column_labels_border_bottom_width=OptionsInfo(scss=True, category='column_labels', type='px', value='2px'), column_labels_border_bottom_color=OptionsInfo(scss=True, category='column_labels', type='value', value='#D3D3D3'), column_labels_border_lr_style=OptionsInfo(scss=True, category='column_labels', type='value', value='none'), column_labels_border_lr_width=OptionsInfo(scss=True, category='column_labels', type='px', value='1px'), column_labels_border_lr_color=OptionsInfo(scss=True, category='column_labels', type='value', value='#D3D3D3'), column_labels_hidden=OptionsInfo(scss=False, category='column_labels', type='boolean', value=False), row_group_background_color=OptionsInfo(scss=True, category='row_group', type='value', value=None), row_group_font_size=OptionsInfo(scss=True, category='row_group', type='px', value='100%'), row_group_font_weight=OptionsInfo(scss=True, category='row_group', type='value', value='initial'), row_group_text_transform=OptionsInfo(scss=True, category='row_group', type='value', value='inherit'), row_group_padding=OptionsInfo(scss=True, category='row_group', type='px', value='8px'), row_group_padding_horizontal=OptionsInfo(scss=True, category='row_group', type='px', value='5px'), row_group_border_top_style=OptionsInfo(scss=True, category='row_group', type='value', value='solid'), row_group_border_top_width=OptionsInfo(scss=True, category='row_group', type='px', value='2px'), row_group_border_top_color=OptionsInfo(scss=True, category='row_group', type='value', value='#D3D3D3'), row_group_border_right_style=OptionsInfo(scss=True, category='row_group', type='value', value='none'), row_group_border_right_width=OptionsInfo(scss=True, category='row_group', type='px', value='1px'), row_group_border_right_color=OptionsInfo(scss=True, category='row_group', type='value', value='#D3D3D3'), row_group_border_bottom_style=OptionsInfo(scss=True, category='row_group', type='value', value='solid'), row_group_border_bottom_width=OptionsInfo(scss=True, category='row_group', type='px', value='2px'), row_group_border_bottom_color=OptionsInfo(scss=True, category='row_group', type='value', value='#D3D3D3'), row_group_border_left_style=OptionsInfo(scss=True, category='row_group', type='value', value='none'), row_group_border_left_width=OptionsInfo(scss=True, category='row_group', type='px', value='1px'), row_group_border_left_color=OptionsInfo(scss=True, category='row_group', type='value', value='#D3D3D3'), row_group_as_column=OptionsInfo(scss=False, category='row_group', type='boolean', value=False), table_body_hlines_style=OptionsInfo(scss=True, category='table_body', type='value', value='solid'), table_body_hlines_width=OptionsInfo(scss=True, category='table_body', type='px', value='1px'), table_body_hlines_color=OptionsInfo(scss=True, category='table_body', type='value', value='#D3D3D3'), table_body_vlines_style=OptionsInfo(scss=True, category='table_body', type='value', value='none'), table_body_vlines_width=OptionsInfo(scss=True, category='table_body', type='px', value='1px'), table_body_vlines_color=OptionsInfo(scss=True, category='table_body', type='value', value='#D3D3D3'), table_body_border_top_style=OptionsInfo(scss=True, category='table_body', type='value', value='solid'), table_body_border_top_width=OptionsInfo(scss=True, category='table_body', type='px', value='2px'), table_body_border_top_color=OptionsInfo(scss=True, category='table_body', type='value', value='#D3D3D3'), table_body_border_bottom_style=OptionsInfo(scss=True, category='table_body', type='value', value='solid'), table_body_border_bottom_width=OptionsInfo(scss=True, category='table_body', type='px', value='2px'), table_body_border_bottom_color=OptionsInfo(scss=True, category='table_body', type='value', value='#D3D3D3'), data_row_padding=OptionsInfo(scss=True, category='data_row', type='px', value='8px'), data_row_padding_horizontal=OptionsInfo(scss=True, category='data_row', type='px', value='5px'), stub_background_color=OptionsInfo(scss=True, category='stub', type='value', value=None), stub_font_size=OptionsInfo(scss=True, category='stub', type='px', value='100%'), stub_font_weight=OptionsInfo(scss=True, category='stub', type='value', value='initial'), stub_text_transform=OptionsInfo(scss=True, category='stub', type='value', value='inherit'), stub_border_style=OptionsInfo(scss=True, category='stub', type='value', value='solid'), stub_border_width=OptionsInfo(scss=True, category='stub', type='px', value='2px'), stub_border_color=OptionsInfo(scss=True, category='stub', type='value', value='#D3D3D3'), stub_row_group_background_color=OptionsInfo(scss=True, category='stub', type='value', value=None), stub_row_group_font_size=OptionsInfo(scss=True, category='stub', type='px', value='100%'), stub_row_group_font_weight=OptionsInfo(scss=True, category='stub', type='value', value='initial'), stub_row_group_text_transform=OptionsInfo(scss=True, category='stub', type='value', value='inherit'), stub_row_group_border_style=OptionsInfo(scss=True, category='stub', type='value', value='solid'), stub_row_group_border_width=OptionsInfo(scss=True, category='stub', type='px', value='2px'), stub_row_group_border_color=OptionsInfo(scss=True, category='stub', type='value', value='#D3D3D3'), source_notes_padding=OptionsInfo(scss=True, category='source_notes', type='px', value='4px'), source_notes_padding_horizontal=OptionsInfo(scss=True, category='source_notes', type='px', value='5px'), source_notes_background_color=OptionsInfo(scss=True, category='source_notes', type='value', value=None), source_notes_font_size=OptionsInfo(scss=True, category='source_notes', type='px', value='90%'), source_notes_border_bottom_style=OptionsInfo(scss=True, category='source_notes', type='value', value='none'), source_notes_border_bottom_width=OptionsInfo(scss=True, category='source_notes', type='px', value='2px'), source_notes_border_bottom_color=OptionsInfo(scss=True, category='source_notes', type='value', value='#D3D3D3'), source_notes_border_lr_style=OptionsInfo(scss=True, category='source_notes', type='value', value='none'), source_notes_border_lr_width=OptionsInfo(scss=True, category='source_notes', type='px', value='2px'), source_notes_border_lr_color=OptionsInfo(scss=True, category='source_notes', type='value', value='#D3D3D3'), source_notes_multiline=OptionsInfo(scss=False, category='source_notes', type='boolean', value=True), source_notes_sep=OptionsInfo(scss=False, category='source_notes', type='value', value=' '), row_striping_background_color=OptionsInfo(scss=True, category='row', type='value', value='rgba(128,128,128,0.05)'), row_striping_include_stub=OptionsInfo(scss=False, category='row', type='boolean', value=False), row_striping_include_table_body=OptionsInfo(scss=False, category='row', type='boolean', value=False), container_width=OptionsInfo(scss=False, category='container', type='px', value='auto'), container_height=OptionsInfo(scss=False, category='container', type='px', value='auto'), container_padding_x=OptionsInfo(scss=False, category='container', type='px', value='0px'), container_padding_y=OptionsInfo(scss=False, category='container', type='px', value='10px'), container_overflow_x=OptionsInfo(scss=False, category='container', type='overflow', value='auto'), container_overflow_y=OptionsInfo(scss=False, category='container', type='overflow', value='auto'), quarto_disable_processing=OptionsInfo(scss=False, category='quarto', type='logical', value=False), quarto_use_bootstrap=OptionsInfo(scss=False, category='quarto', type='logical', value=False)), _has_built=False)"
      ]
     },
     "execution_count": 16,
     "metadata": {},
     "output_type": "execute_result"
    }
   ],
   "source": [
    "corr_matrix = (\n",
    "    pct_volume.select(\n",
    "        pl.col('*').exclude('week')  # Exclude 'week' column\n",
    "    )\n",
    "    .corr()  # Compute the correlation matrix\n",
    "    .with_columns(\n",
    "        pl.Series(pct_volume.columns[1:]).alias(\"index\")\n",
    "    )\n",
    ")\n",
    "\n",
    "(\n",
    "    GT(corr_matrix, rowname_col='index')\n",
    "    .tab_header(title=\"Correlation Matrix of Weekly (Volume) Market Share\")\n",
    "    .fmt_number(columns=['Alpha', 'Bravo', 'Charlie', 'Delta', 'Other'])\n",
    "    .data_color(\n",
    "        domain=[-1, 1],\n",
    "        palette=[\"rebeccapurple\", \"white\", 'orange']\n",
    "    )\n",
    ")"
   ]
  },
  {
   "cell_type": "markdown",
   "metadata": {},
   "source": [
    "#### Annual Sales"
   ]
  },
  {
   "cell_type": "code",
   "execution_count": 17,
   "metadata": {},
   "outputs": [
    {
     "data": {
      "text/html": [
       "<div id=\"cpsqwmefih\" style=\"padding-left:0px;padding-right:0px;padding-top:10px;padding-bottom:10px;overflow-x:auto;overflow-y:auto;width:auto;height:auto;\">\n",
       "<style>\n",
       "#cpsqwmefih table {\n",
       "          font-family: -apple-system, BlinkMacSystemFont, 'Segoe UI', Roboto, Oxygen, Ubuntu, Cantarell, 'Helvetica Neue', 'Fira Sans', 'Droid Sans', Arial, sans-serif;\n",
       "          -webkit-font-smoothing: antialiased;\n",
       "          -moz-osx-font-smoothing: grayscale;\n",
       "        }\n",
       "\n",
       "#cpsqwmefih thead, tbody, tfoot, tr, td, th { border-style: none !important; }\n",
       " tr { background-color: transparent !important; }\n",
       "#cpsqwmefih p { margin: 0 !important; padding: 0 !important; }\n",
       " #cpsqwmefih .gt_table { display: table !important; border-collapse: collapse !important; line-height: normal !important; margin-left: auto !important; margin-right: auto !important; color: #333333 !important; font-size: 16px !important; font-weight: normal !important; font-style: normal !important; background-color: #FFFFFF !important; width: auto !important; border-top-style: solid !important; border-top-width: 2px !important; border-top-color: #A8A8A8 !important; border-right-style: none !important; border-right-width: 2px !important; border-right-color: #D3D3D3 !important; border-bottom-style: solid !important; border-bottom-width: 2px !important; border-bottom-color: #A8A8A8 !important; border-left-style: none !important; border-left-width: 2px !important; border-left-color: #D3D3D3 !important; }\n",
       " #cpsqwmefih .gt_caption { padding-top: 4px !important; padding-bottom: 4px !important; }\n",
       " #cpsqwmefih .gt_title { color: #333333 !important; font-size: 125% !important; font-weight: initial !important; padding-top: 4px !important; padding-bottom: 4px !important; padding-left: 5px !important; padding-right: 5px !important; border-bottom-color: #FFFFFF !important; border-bottom-width: 0 !important; }\n",
       " #cpsqwmefih .gt_subtitle { color: #333333 !important; font-size: 85% !important; font-weight: initial !important; padding-top: 3px !important; padding-bottom: 5px !important; padding-left: 5px !important; padding-right: 5px !important; border-top-color: #FFFFFF !important; border-top-width: 0 !important; }\n",
       " #cpsqwmefih .gt_heading { background-color: #FFFFFF !important; text-align: center !important; border-bottom-color: #FFFFFF !important; border-left-style: none !important; border-left-width: 1px !important; border-left-color: #D3D3D3 !important; border-right-style: none !important; border-right-width: 1px !important; border-right-color: #D3D3D3 !important; }\n",
       " #cpsqwmefih .gt_bottom_border { border-bottom-style: solid !important; border-bottom-width: 2px !important; border-bottom-color: #D3D3D3 !important; }\n",
       " #cpsqwmefih .gt_col_headings { border-top-style: solid !important; border-top-width: 2px !important; border-top-color: #D3D3D3 !important; border-bottom-style: solid !important; border-bottom-width: 2px !important; border-bottom-color: #D3D3D3 !important; border-left-style: none !important; border-left-width: 1px !important; border-left-color: #D3D3D3 !important; border-right-style: none !important; border-right-width: 1px !important; border-right-color: #D3D3D3 !important; }\n",
       " #cpsqwmefih .gt_col_heading { color: #333333 !important; background-color: #FFFFFF !important; font-size: 100% !important; font-weight: normal !important; text-transform: inherit !important; border-left-style: none !important; border-left-width: 1px !important; border-left-color: #D3D3D3 !important; border-right-style: none !important; border-right-width: 1px !important; border-right-color: #D3D3D3 !important; vertical-align: bottom !important; padding-top: 5px !important; padding-bottom: 5px !important; padding-left: 5px !important; padding-right: 5px !important; overflow-x: hidden !important; }\n",
       " #cpsqwmefih .gt_column_spanner_outer { color: #333333 !important; background-color: #FFFFFF !important; font-size: 100% !important; font-weight: normal !important; text-transform: inherit !important; padding-top: 0 !important; padding-bottom: 0 !important; padding-left: 4px !important; padding-right: 4px !important; }\n",
       " #cpsqwmefih .gt_column_spanner_outer:first-child { padding-left: 0 !important; }\n",
       " #cpsqwmefih .gt_column_spanner_outer:last-child { padding-right: 0 !important; }\n",
       " #cpsqwmefih .gt_column_spanner { border-bottom-style: solid !important; border-bottom-width: 2px !important; border-bottom-color: #D3D3D3 !important; vertical-align: bottom !important; padding-top: 5px !important; padding-bottom: 5px !important; overflow-x: hidden !important; display: inline-block !important; width: 100% !important; }\n",
       " #cpsqwmefih .gt_spanner_row { border-bottom-style: hidden !important; }\n",
       " #cpsqwmefih .gt_group_heading { padding-top: 8px !important; padding-bottom: 8px !important; padding-left: 5px !important; padding-right: 5px !important; color: #333333 !important; background-color: #FFFFFF !important; font-size: 100% !important; font-weight: initial !important; text-transform: inherit !important; border-top-style: solid !important; border-top-width: 2px !important; border-top-color: #D3D3D3 !important; border-bottom-style: solid !important; border-bottom-width: 2px !important; border-bottom-color: #D3D3D3 !important; border-left-style: none !important; border-left-width: 1px !important; border-left-color: #D3D3D3 !important; border-right-style: none !important; border-right-width: 1px !important; border-right-color: #D3D3D3 !important; vertical-align: middle !important; text-align: left !important; }\n",
       " #cpsqwmefih .gt_empty_group_heading { padding: 0.5px !important; color: #333333 !important; background-color: #FFFFFF !important; font-size: 100% !important; font-weight: initial !important; border-top-style: solid !important; border-top-width: 2px !important; border-top-color: #D3D3D3 !important; border-bottom-style: solid !important; border-bottom-width: 2px !important; border-bottom-color: #D3D3D3 !important; vertical-align: middle !important; }\n",
       " #cpsqwmefih .gt_from_md> :first-child { margin-top: 0 !important; }\n",
       " #cpsqwmefih .gt_from_md> :last-child { margin-bottom: 0 !important; }\n",
       " #cpsqwmefih .gt_row { padding-top: 8px !important; padding-bottom: 8px !important; padding-left: 5px !important; padding-right: 5px !important; margin: 10px !important; border-top-style: solid !important; border-top-width: 1px !important; border-top-color: #D3D3D3 !important; border-left-style: none !important; border-left-width: 1px !important; border-left-color: #D3D3D3 !important; border-right-style: none !important; border-right-width: 1px !important; border-right-color: #D3D3D3 !important; vertical-align: middle !important; overflow-x: hidden !important; }\n",
       " #cpsqwmefih .gt_stub { color: #333333 !important; background-color: #FFFFFF !important; font-size: 100% !important; font-weight: initial !important; text-transform: inherit !important; border-right-style: solid !important; border-right-width: 2px !important; border-right-color: #D3D3D3 !important; padding-left: 5px !important; padding-right: 5px !important; }\n",
       " #cpsqwmefih .gt_stub_row_group { color: #333333 !important; background-color: #FFFFFF !important; font-size: 100% !important; font-weight: initial !important; text-transform: inherit !important; border-right-style: solid !important; border-right-width: 2px !important; border-right-color: #D3D3D3 !important; padding-left: 5px !important; padding-right: 5px !important; vertical-align: top !important; }\n",
       " #cpsqwmefih .gt_row_group_first td { border-top-width: 2px !important; }\n",
       " #cpsqwmefih .gt_row_group_first th { border-top-width: 2px !important; }\n",
       " #cpsqwmefih .gt_striped { background-color: rgba(128,128,128,0.05) !important; }\n",
       " #cpsqwmefih .gt_table_body { border-top-style: solid !important; border-top-width: 2px !important; border-top-color: #D3D3D3 !important; border-bottom-style: solid !important; border-bottom-width: 2px !important; border-bottom-color: #D3D3D3 !important; }\n",
       " #cpsqwmefih .gt_sourcenotes { color: #333333 !important; background-color: #FFFFFF !important; border-bottom-style: none !important; border-bottom-width: 2px !important; border-bottom-color: #D3D3D3 !important; border-left-style: none !important; border-left-width: 2px !important; border-left-color: #D3D3D3 !important; border-right-style: none !important; border-right-width: 2px !important; border-right-color: #D3D3D3 !important; }\n",
       " #cpsqwmefih .gt_sourcenote { font-size: 90% !important; padding-top: 4px !important; padding-bottom: 4px !important; padding-left: 5px !important; padding-right: 5px !important; text-align: left !important; }\n",
       " #cpsqwmefih .gt_left { text-align: left !important; }\n",
       " #cpsqwmefih .gt_center { text-align: center !important; }\n",
       " #cpsqwmefih .gt_right { text-align: right !important; font-variant-numeric: tabular-nums !important; }\n",
       " #cpsqwmefih .gt_font_normal { font-weight: normal !important; }\n",
       " #cpsqwmefih .gt_font_bold { font-weight: bold !important; }\n",
       " #cpsqwmefih .gt_font_italic { font-style: italic !important; }\n",
       " #cpsqwmefih .gt_super { font-size: 65% !important; }\n",
       " #cpsqwmefih .gt_footnote_marks { font-size: 75% !important; vertical-align: 0.4em !important; position: initial !important; }\n",
       " #cpsqwmefih .gt_asterisk { font-size: 100% !important; vertical-align: 0 !important; }\n",
       " \n",
       "</style>\n",
       "<table class=\"gt_table\" data-quarto-disable-processing=\"false\" data-quarto-bootstrap=\"false\">\n",
       "<thead>\n",
       "\n",
       "  <tr class=\"gt_heading\">\n",
       "    <td colspan=\"7\" class=\"gt_heading gt_title gt_font_normal\">Annual Sales ($) by Brand</td>\n",
       "  </tr>\n",
       "<tr class=\"gt_col_headings\">\n",
       "  <th class=\"gt_col_heading gt_columns_bottom_border gt_left\" rowspan=\"1\" colspan=\"1\" scope=\"col\" id=\"Year\">Year</th>\n",
       "  <th class=\"gt_col_heading gt_columns_bottom_border gt_right\" rowspan=\"1\" colspan=\"1\" scope=\"col\" id=\"Alpha\">Alpha</th>\n",
       "  <th class=\"gt_col_heading gt_columns_bottom_border gt_right\" rowspan=\"1\" colspan=\"1\" scope=\"col\" id=\"Bravo\">Bravo</th>\n",
       "  <th class=\"gt_col_heading gt_columns_bottom_border gt_right\" rowspan=\"1\" colspan=\"1\" scope=\"col\" id=\"Charlie\">Charlie</th>\n",
       "  <th class=\"gt_col_heading gt_columns_bottom_border gt_right\" rowspan=\"1\" colspan=\"1\" scope=\"col\" id=\"Delta\">Delta</th>\n",
       "  <th class=\"gt_col_heading gt_columns_bottom_border gt_right\" rowspan=\"1\" colspan=\"1\" scope=\"col\" id=\"Other\">Other</th>\n",
       "  <th class=\"gt_col_heading gt_columns_bottom_border gt_right\" rowspan=\"1\" colspan=\"1\" scope=\"col\" id=\"Total\">Total</th>\n",
       "</tr>\n",
       "</thead>\n",
       "<tbody class=\"gt_table_body\">\n",
       "  <tr>\n",
       "    <th style=\"color: #000000; background-color: #808080;\" class=\"gt_row gt_left gt_stub\">1.0</th>\n",
       "    <td style=\"color: #FFFFFF; background-color: #7041a0;\" class=\"gt_row gt_right\">$33,570.95</td>\n",
       "    <td style=\"color: #FFFFFF; background-color: #865dae;\" class=\"gt_row gt_right\">$28,603.35</td>\n",
       "    <td style=\"color: #000000; background-color: #eae2f1;\" class=\"gt_row gt_right\">$5,120.87</td>\n",
       "    <td style=\"color: #000000; background-color: #f1edf6;\" class=\"gt_row gt_right\">$3,271.51</td>\n",
       "    <td style=\"color: #000000; background-color: #f9f7fb;\" class=\"gt_row gt_right\">$1,535.23</td>\n",
       "    <td class=\"gt_row gt_right\">$72,101.91</td>\n",
       "  </tr>\n",
       "  <tr>\n",
       "    <th style=\"color: #000000; background-color: #808080;\" class=\"gt_row gt_left gt_stub\">2.0</th>\n",
       "    <td style=\"color: #FFFFFF; background-color: #69379b;\" class=\"gt_row gt_right\">$35,250.74</td>\n",
       "    <td style=\"color: #000000; background-color: #8d67b3;\" class=\"gt_row gt_right\">$26,926.85</td>\n",
       "    <td style=\"color: #000000; background-color: #efe9f4;\" class=\"gt_row gt_right\">$3,922.68</td>\n",
       "    <td style=\"color: #000000; background-color: #f3f0f7;\" class=\"gt_row gt_right\">$2,820.81</td>\n",
       "    <td style=\"color: #000000; background-color: #f8f6fa;\" class=\"gt_row gt_right\">$1,739.82</td>\n",
       "    <td class=\"gt_row gt_right\">$70,660.90</td>\n",
       "  </tr>\n",
       "</tbody>\n",
       "\n",
       "\n",
       "</table>\n",
       "\n",
       "</div>\n",
       "        "
      ],
      "text/plain": [
       "GT(_tbl_data=shape: (2, 7)\n",
       "┌──────┬──────────────┬──────────────┬─────────────┬─────────────┬─────────────┬──────────────┐\n",
       "│ year ┆ Alpha        ┆ Bravo        ┆ Charlie     ┆ Delta       ┆ Other       ┆ Total        │\n",
       "│ ---  ┆ ---          ┆ ---          ┆ ---         ┆ ---         ┆ ---         ┆ ---          │\n",
       "│ f64  ┆ f32          ┆ f32          ┆ f32         ┆ f32         ┆ f32         ┆ f32          │\n",
       "╞══════╪══════════════╪══════════════╪═════════════╪═════════════╪═════════════╪══════════════╡\n",
       "│ 1.0  ┆ 33570.949219 ┆ 28603.345703 ┆ 5120.869629 ┆ 3271.509766 ┆ 1535.22998  ┆ 72101.90625  │\n",
       "│ 2.0  ┆ 35250.738281 ┆ 26926.847656 ┆ 3922.679688 ┆ 2820.810303 ┆ 1739.820068 ┆ 70660.898438 │\n",
       "└──────┴──────────────┴──────────────┴─────────────┴─────────────┴─────────────┴──────────────┘, _body=<great_tables._gt_data.Body object at 0x10db149d0>, _boxhead=Boxhead([ColInfo(var='year', type=<ColInfoTypeEnum.stub: 2>, column_label='year', column_align='right', column_width=None), ColInfo(var='Alpha', type=<ColInfoTypeEnum.default: 1>, column_label='Alpha', column_align='right', column_width=None), ColInfo(var='Bravo', type=<ColInfoTypeEnum.default: 1>, column_label='Bravo', column_align='right', column_width=None), ColInfo(var='Charlie', type=<ColInfoTypeEnum.default: 1>, column_label='Charlie', column_align='right', column_width=None), ColInfo(var='Delta', type=<ColInfoTypeEnum.default: 1>, column_label='Delta', column_align='right', column_width=None), ColInfo(var='Other', type=<ColInfoTypeEnum.default: 1>, column_label='Other', column_align='right', column_width=None), ColInfo(var='Total', type=<ColInfoTypeEnum.default: 1>, column_label='Total', column_align='right', column_width=None)]), _stub=<great_tables._gt_data.Stub object at 0x10da91310>, _spanners=Spanners([]), _heading=Heading(title='Annual Sales ($) by Brand', subtitle=None, preheader=None), _stubhead='Year', _source_notes=[], _footnotes=[], _styles=[StyleInfo(locname=LocBody(columns='year', rows=[0]), grpname=None, colname='year', rownum=0, colnum=None, styles=[CellStyleText(color='#000000', font=None, size=None, align=None, v_align=None, style=None, weight=None, stretch=None, decorate=None, transform=None, whitespace=None), CellStyleFill(color='#808080')]), StyleInfo(locname=LocBody(columns='year', rows=[1]), grpname=None, colname='year', rownum=1, colnum=None, styles=[CellStyleText(color='#000000', font=None, size=None, align=None, v_align=None, style=None, weight=None, stretch=None, decorate=None, transform=None, whitespace=None), CellStyleFill(color='#808080')]), StyleInfo(locname=LocBody(columns='Alpha', rows=[0]), grpname=None, colname='Alpha', rownum=0, colnum=None, styles=[CellStyleText(color='#FFFFFF', font=None, size=None, align=None, v_align=None, style=None, weight=None, stretch=None, decorate=None, transform=None, whitespace=None), CellStyleFill(color='#7041a0')]), StyleInfo(locname=LocBody(columns='Alpha', rows=[1]), grpname=None, colname='Alpha', rownum=1, colnum=None, styles=[CellStyleText(color='#FFFFFF', font=None, size=None, align=None, v_align=None, style=None, weight=None, stretch=None, decorate=None, transform=None, whitespace=None), CellStyleFill(color='#69379b')]), StyleInfo(locname=LocBody(columns='Bravo', rows=[0]), grpname=None, colname='Bravo', rownum=0, colnum=None, styles=[CellStyleText(color='#FFFFFF', font=None, size=None, align=None, v_align=None, style=None, weight=None, stretch=None, decorate=None, transform=None, whitespace=None), CellStyleFill(color='#865dae')]), StyleInfo(locname=LocBody(columns='Bravo', rows=[1]), grpname=None, colname='Bravo', rownum=1, colnum=None, styles=[CellStyleText(color='#000000', font=None, size=None, align=None, v_align=None, style=None, weight=None, stretch=None, decorate=None, transform=None, whitespace=None), CellStyleFill(color='#8d67b3')]), StyleInfo(locname=LocBody(columns='Charlie', rows=[0]), grpname=None, colname='Charlie', rownum=0, colnum=None, styles=[CellStyleText(color='#000000', font=None, size=None, align=None, v_align=None, style=None, weight=None, stretch=None, decorate=None, transform=None, whitespace=None), CellStyleFill(color='#eae2f1')]), StyleInfo(locname=LocBody(columns='Charlie', rows=[1]), grpname=None, colname='Charlie', rownum=1, colnum=None, styles=[CellStyleText(color='#000000', font=None, size=None, align=None, v_align=None, style=None, weight=None, stretch=None, decorate=None, transform=None, whitespace=None), CellStyleFill(color='#efe9f4')]), StyleInfo(locname=LocBody(columns='Delta', rows=[0]), grpname=None, colname='Delta', rownum=0, colnum=None, styles=[CellStyleText(color='#000000', font=None, size=None, align=None, v_align=None, style=None, weight=None, stretch=None, decorate=None, transform=None, whitespace=None), CellStyleFill(color='#f1edf6')]), StyleInfo(locname=LocBody(columns='Delta', rows=[1]), grpname=None, colname='Delta', rownum=1, colnum=None, styles=[CellStyleText(color='#000000', font=None, size=None, align=None, v_align=None, style=None, weight=None, stretch=None, decorate=None, transform=None, whitespace=None), CellStyleFill(color='#f3f0f7')]), StyleInfo(locname=LocBody(columns='Other', rows=[0]), grpname=None, colname='Other', rownum=0, colnum=None, styles=[CellStyleText(color='#000000', font=None, size=None, align=None, v_align=None, style=None, weight=None, stretch=None, decorate=None, transform=None, whitespace=None), CellStyleFill(color='#f9f7fb')]), StyleInfo(locname=LocBody(columns='Other', rows=[1]), grpname=None, colname='Other', rownum=1, colnum=None, styles=[CellStyleText(color='#000000', font=None, size=None, align=None, v_align=None, style=None, weight=None, stretch=None, decorate=None, transform=None, whitespace=None), CellStyleFill(color='#f8f6fa')])], _locale=<great_tables._gt_data.Locale object at 0x10da92350>, _formats=[<great_tables._gt_data.FormatInfo object at 0x10da939d0>], _substitutions=[], _options=Options(table_id=OptionsInfo(scss=False, category='table', type='value', value=None), table_caption=OptionsInfo(scss=False, category='table', type='value', value=None), table_width=OptionsInfo(scss=True, category='table', type='px', value='auto'), table_layout=OptionsInfo(scss=True, category='table', type='value', value='fixed'), table_margin_left=OptionsInfo(scss=True, category='table', type='px', value='auto'), table_margin_right=OptionsInfo(scss=True, category='table', type='px', value='auto'), table_background_color=OptionsInfo(scss=True, category='table', type='value', value='#FFFFFF'), table_additional_css=OptionsInfo(scss=False, category='table', type='values', value=[]), table_font_names=OptionsInfo(scss=False, category='table', type='values', value=['-apple-system', 'BlinkMacSystemFont', 'Segoe UI', 'Roboto', 'Oxygen', 'Ubuntu', 'Cantarell', 'Helvetica Neue', 'Fira Sans', 'Droid Sans', 'Arial', 'sans-serif']), table_font_size=OptionsInfo(scss=True, category='table', type='px', value='16px'), table_font_weight=OptionsInfo(scss=True, category='table', type='value', value='normal'), table_font_style=OptionsInfo(scss=True, category='table', type='value', value='normal'), table_font_color=OptionsInfo(scss=True, category='table', type='value', value='#333333'), table_font_color_light=OptionsInfo(scss=True, category='table', type='value', value='#FFFFFF'), table_border_top_include=OptionsInfo(scss=False, category='table', type='boolean', value=True), table_border_top_style=OptionsInfo(scss=True, category='table', type='value', value='solid'), table_border_top_width=OptionsInfo(scss=True, category='table', type='px', value='2px'), table_border_top_color=OptionsInfo(scss=True, category='table', type='value', value='#A8A8A8'), table_border_right_style=OptionsInfo(scss=True, category='table', type='value', value='none'), table_border_right_width=OptionsInfo(scss=True, category='table', type='px', value='2px'), table_border_right_color=OptionsInfo(scss=True, category='table', type='value', value='#D3D3D3'), table_border_bottom_include=OptionsInfo(scss=False, category='table', type='boolean', value=True), table_border_bottom_style=OptionsInfo(scss=True, category='table', type='value', value='solid'), table_border_bottom_width=OptionsInfo(scss=True, category='table', type='px', value='2px'), table_border_bottom_color=OptionsInfo(scss=True, category='table', type='value', value='#A8A8A8'), table_border_left_style=OptionsInfo(scss=True, category='table', type='value', value='none'), table_border_left_width=OptionsInfo(scss=True, category='table', type='px', value='2px'), table_border_left_color=OptionsInfo(scss=True, category='table', type='value', value='#D3D3D3'), heading_background_color=OptionsInfo(scss=True, category='heading', type='value', value=None), heading_align=OptionsInfo(scss=True, category='heading', type='value', value='center'), heading_title_font_size=OptionsInfo(scss=True, category='heading', type='px', value='125%'), heading_title_font_weight=OptionsInfo(scss=True, category='heading', type='value', value='initial'), heading_subtitle_font_size=OptionsInfo(scss=True, category='heading', type='px', value='85%'), heading_subtitle_font_weight=OptionsInfo(scss=True, category='heading', type='value', value='initial'), heading_padding=OptionsInfo(scss=True, category='heading', type='px', value='4px'), heading_padding_horizontal=OptionsInfo(scss=True, category='heading', type='px', value='5px'), heading_border_bottom_style=OptionsInfo(scss=True, category='heading', type='value', value='solid'), heading_border_bottom_width=OptionsInfo(scss=True, category='heading', type='px', value='2px'), heading_border_bottom_color=OptionsInfo(scss=True, category='heading', type='value', value='#D3D3D3'), heading_border_lr_style=OptionsInfo(scss=True, category='heading', type='value', value='none'), heading_border_lr_width=OptionsInfo(scss=True, category='heading', type='px', value='1px'), heading_border_lr_color=OptionsInfo(scss=True, category='heading', type='value', value='#D3D3D3'), column_labels_background_color=OptionsInfo(scss=True, category='column_labels', type='value', value=None), column_labels_font_size=OptionsInfo(scss=True, category='column_labels', type='px', value='100%'), column_labels_font_weight=OptionsInfo(scss=True, category='column_labels', type='value', value='normal'), column_labels_text_transform=OptionsInfo(scss=True, category='column_labels', type='value', value='inherit'), column_labels_padding=OptionsInfo(scss=True, category='column_labels', type='px', value='5px'), column_labels_padding_horizontal=OptionsInfo(scss=True, category='column_labels', type='px', value='5px'), column_labels_vlines_style=OptionsInfo(scss=True, category='table_body', type='value', value='none'), column_labels_vlines_width=OptionsInfo(scss=True, category='table_body', type='px', value='1px'), column_labels_vlines_color=OptionsInfo(scss=True, category='table_body', type='value', value='#D3D3D3'), column_labels_border_top_style=OptionsInfo(scss=True, category='column_labels', type='value', value='solid'), column_labels_border_top_width=OptionsInfo(scss=True, category='column_labels', type='px', value='2px'), column_labels_border_top_color=OptionsInfo(scss=True, category='column_labels', type='value', value='#D3D3D3'), column_labels_border_bottom_style=OptionsInfo(scss=True, category='column_labels', type='value', value='solid'), column_labels_border_bottom_width=OptionsInfo(scss=True, category='column_labels', type='px', value='2px'), column_labels_border_bottom_color=OptionsInfo(scss=True, category='column_labels', type='value', value='#D3D3D3'), column_labels_border_lr_style=OptionsInfo(scss=True, category='column_labels', type='value', value='none'), column_labels_border_lr_width=OptionsInfo(scss=True, category='column_labels', type='px', value='1px'), column_labels_border_lr_color=OptionsInfo(scss=True, category='column_labels', type='value', value='#D3D3D3'), column_labels_hidden=OptionsInfo(scss=False, category='column_labels', type='boolean', value=False), row_group_background_color=OptionsInfo(scss=True, category='row_group', type='value', value=None), row_group_font_size=OptionsInfo(scss=True, category='row_group', type='px', value='100%'), row_group_font_weight=OptionsInfo(scss=True, category='row_group', type='value', value='initial'), row_group_text_transform=OptionsInfo(scss=True, category='row_group', type='value', value='inherit'), row_group_padding=OptionsInfo(scss=True, category='row_group', type='px', value='8px'), row_group_padding_horizontal=OptionsInfo(scss=True, category='row_group', type='px', value='5px'), row_group_border_top_style=OptionsInfo(scss=True, category='row_group', type='value', value='solid'), row_group_border_top_width=OptionsInfo(scss=True, category='row_group', type='px', value='2px'), row_group_border_top_color=OptionsInfo(scss=True, category='row_group', type='value', value='#D3D3D3'), row_group_border_right_style=OptionsInfo(scss=True, category='row_group', type='value', value='none'), row_group_border_right_width=OptionsInfo(scss=True, category='row_group', type='px', value='1px'), row_group_border_right_color=OptionsInfo(scss=True, category='row_group', type='value', value='#D3D3D3'), row_group_border_bottom_style=OptionsInfo(scss=True, category='row_group', type='value', value='solid'), row_group_border_bottom_width=OptionsInfo(scss=True, category='row_group', type='px', value='2px'), row_group_border_bottom_color=OptionsInfo(scss=True, category='row_group', type='value', value='#D3D3D3'), row_group_border_left_style=OptionsInfo(scss=True, category='row_group', type='value', value='none'), row_group_border_left_width=OptionsInfo(scss=True, category='row_group', type='px', value='1px'), row_group_border_left_color=OptionsInfo(scss=True, category='row_group', type='value', value='#D3D3D3'), row_group_as_column=OptionsInfo(scss=False, category='row_group', type='boolean', value=False), table_body_hlines_style=OptionsInfo(scss=True, category='table_body', type='value', value='solid'), table_body_hlines_width=OptionsInfo(scss=True, category='table_body', type='px', value='1px'), table_body_hlines_color=OptionsInfo(scss=True, category='table_body', type='value', value='#D3D3D3'), table_body_vlines_style=OptionsInfo(scss=True, category='table_body', type='value', value='none'), table_body_vlines_width=OptionsInfo(scss=True, category='table_body', type='px', value='1px'), table_body_vlines_color=OptionsInfo(scss=True, category='table_body', type='value', value='#D3D3D3'), table_body_border_top_style=OptionsInfo(scss=True, category='table_body', type='value', value='solid'), table_body_border_top_width=OptionsInfo(scss=True, category='table_body', type='px', value='2px'), table_body_border_top_color=OptionsInfo(scss=True, category='table_body', type='value', value='#D3D3D3'), table_body_border_bottom_style=OptionsInfo(scss=True, category='table_body', type='value', value='solid'), table_body_border_bottom_width=OptionsInfo(scss=True, category='table_body', type='px', value='2px'), table_body_border_bottom_color=OptionsInfo(scss=True, category='table_body', type='value', value='#D3D3D3'), data_row_padding=OptionsInfo(scss=True, category='data_row', type='px', value='8px'), data_row_padding_horizontal=OptionsInfo(scss=True, category='data_row', type='px', value='5px'), stub_background_color=OptionsInfo(scss=True, category='stub', type='value', value=None), stub_font_size=OptionsInfo(scss=True, category='stub', type='px', value='100%'), stub_font_weight=OptionsInfo(scss=True, category='stub', type='value', value='initial'), stub_text_transform=OptionsInfo(scss=True, category='stub', type='value', value='inherit'), stub_border_style=OptionsInfo(scss=True, category='stub', type='value', value='solid'), stub_border_width=OptionsInfo(scss=True, category='stub', type='px', value='2px'), stub_border_color=OptionsInfo(scss=True, category='stub', type='value', value='#D3D3D3'), stub_row_group_background_color=OptionsInfo(scss=True, category='stub', type='value', value=None), stub_row_group_font_size=OptionsInfo(scss=True, category='stub', type='px', value='100%'), stub_row_group_font_weight=OptionsInfo(scss=True, category='stub', type='value', value='initial'), stub_row_group_text_transform=OptionsInfo(scss=True, category='stub', type='value', value='inherit'), stub_row_group_border_style=OptionsInfo(scss=True, category='stub', type='value', value='solid'), stub_row_group_border_width=OptionsInfo(scss=True, category='stub', type='px', value='2px'), stub_row_group_border_color=OptionsInfo(scss=True, category='stub', type='value', value='#D3D3D3'), source_notes_padding=OptionsInfo(scss=True, category='source_notes', type='px', value='4px'), source_notes_padding_horizontal=OptionsInfo(scss=True, category='source_notes', type='px', value='5px'), source_notes_background_color=OptionsInfo(scss=True, category='source_notes', type='value', value=None), source_notes_font_size=OptionsInfo(scss=True, category='source_notes', type='px', value='90%'), source_notes_border_bottom_style=OptionsInfo(scss=True, category='source_notes', type='value', value='none'), source_notes_border_bottom_width=OptionsInfo(scss=True, category='source_notes', type='px', value='2px'), source_notes_border_bottom_color=OptionsInfo(scss=True, category='source_notes', type='value', value='#D3D3D3'), source_notes_border_lr_style=OptionsInfo(scss=True, category='source_notes', type='value', value='none'), source_notes_border_lr_width=OptionsInfo(scss=True, category='source_notes', type='px', value='2px'), source_notes_border_lr_color=OptionsInfo(scss=True, category='source_notes', type='value', value='#D3D3D3'), source_notes_multiline=OptionsInfo(scss=False, category='source_notes', type='boolean', value=True), source_notes_sep=OptionsInfo(scss=False, category='source_notes', type='value', value=' '), row_striping_background_color=OptionsInfo(scss=True, category='row', type='value', value='rgba(128,128,128,0.05)'), row_striping_include_stub=OptionsInfo(scss=False, category='row', type='boolean', value=False), row_striping_include_table_body=OptionsInfo(scss=False, category='row', type='boolean', value=False), container_width=OptionsInfo(scss=False, category='container', type='px', value='auto'), container_height=OptionsInfo(scss=False, category='container', type='px', value='auto'), container_padding_x=OptionsInfo(scss=False, category='container', type='px', value='0px'), container_padding_y=OptionsInfo(scss=False, category='container', type='px', value='10px'), container_overflow_x=OptionsInfo(scss=False, category='container', type='overflow', value='auto'), container_overflow_y=OptionsInfo(scss=False, category='container', type='overflow', value='auto'), quarto_disable_processing=OptionsInfo(scss=False, category='quarto', type='logical', value=False), quarto_use_bootstrap=OptionsInfo(scss=False, category='quarto', type='logical', value=False)), _has_built=False)"
      ]
     },
     "execution_count": 17,
     "metadata": {},
     "output_type": "execute_result"
    }
   ],
   "source": [
    "annual_sales_pivot = annual_sales_summary().collect().pivot(\n",
    "    on='brand',\n",
    "    index='year',\n",
    "    sort_columns=True\n",
    ").with_columns(\n",
    "    pl.sum_horizontal(pl.all().exclude('year')).alias(\"Total\") # add totals column\n",
    ")\n",
    "\n",
    "(\n",
    "    GT(annual_sales_pivot, rowname_col=\"year\")\n",
    "    .tab_header(title=\"Annual Sales ($) by Brand\")\n",
    "    .tab_stubhead(label=\"Year\")\n",
    "    .fmt_currency()\n",
    "    .data_color(\n",
    "        columns=annual_sales_pivot.columns[:-1],\n",
    "        domain=[100, 36_000],\n",
    "        palette=[\"white\", \"rebeccapurple\"]\n",
    "    )    \n",
    ")"
   ]
  },
  {
   "cell_type": "code",
   "execution_count": 18,
   "metadata": {},
   "outputs": [
    {
     "data": {
      "text/html": [
       "<div id=\"fixfmrqqer\" style=\"padding-left:0px;padding-right:0px;padding-top:10px;padding-bottom:10px;overflow-x:auto;overflow-y:auto;width:auto;height:auto;\">\n",
       "<style>\n",
       "#fixfmrqqer table {\n",
       "          font-family: -apple-system, BlinkMacSystemFont, 'Segoe UI', Roboto, Oxygen, Ubuntu, Cantarell, 'Helvetica Neue', 'Fira Sans', 'Droid Sans', Arial, sans-serif;\n",
       "          -webkit-font-smoothing: antialiased;\n",
       "          -moz-osx-font-smoothing: grayscale;\n",
       "        }\n",
       "\n",
       "#fixfmrqqer thead, tbody, tfoot, tr, td, th { border-style: none !important; }\n",
       " tr { background-color: transparent !important; }\n",
       "#fixfmrqqer p { margin: 0 !important; padding: 0 !important; }\n",
       " #fixfmrqqer .gt_table { display: table !important; border-collapse: collapse !important; line-height: normal !important; margin-left: auto !important; margin-right: auto !important; color: #333333 !important; font-size: 16px !important; font-weight: normal !important; font-style: normal !important; background-color: #FFFFFF !important; width: auto !important; border-top-style: solid !important; border-top-width: 2px !important; border-top-color: #A8A8A8 !important; border-right-style: none !important; border-right-width: 2px !important; border-right-color: #D3D3D3 !important; border-bottom-style: solid !important; border-bottom-width: 2px !important; border-bottom-color: #A8A8A8 !important; border-left-style: none !important; border-left-width: 2px !important; border-left-color: #D3D3D3 !important; }\n",
       " #fixfmrqqer .gt_caption { padding-top: 4px !important; padding-bottom: 4px !important; }\n",
       " #fixfmrqqer .gt_title { color: #333333 !important; font-size: 125% !important; font-weight: initial !important; padding-top: 4px !important; padding-bottom: 4px !important; padding-left: 5px !important; padding-right: 5px !important; border-bottom-color: #FFFFFF !important; border-bottom-width: 0 !important; }\n",
       " #fixfmrqqer .gt_subtitle { color: #333333 !important; font-size: 85% !important; font-weight: initial !important; padding-top: 3px !important; padding-bottom: 5px !important; padding-left: 5px !important; padding-right: 5px !important; border-top-color: #FFFFFF !important; border-top-width: 0 !important; }\n",
       " #fixfmrqqer .gt_heading { background-color: #FFFFFF !important; text-align: center !important; border-bottom-color: #FFFFFF !important; border-left-style: none !important; border-left-width: 1px !important; border-left-color: #D3D3D3 !important; border-right-style: none !important; border-right-width: 1px !important; border-right-color: #D3D3D3 !important; }\n",
       " #fixfmrqqer .gt_bottom_border { border-bottom-style: solid !important; border-bottom-width: 2px !important; border-bottom-color: #D3D3D3 !important; }\n",
       " #fixfmrqqer .gt_col_headings { border-top-style: solid !important; border-top-width: 2px !important; border-top-color: #D3D3D3 !important; border-bottom-style: solid !important; border-bottom-width: 2px !important; border-bottom-color: #D3D3D3 !important; border-left-style: none !important; border-left-width: 1px !important; border-left-color: #D3D3D3 !important; border-right-style: none !important; border-right-width: 1px !important; border-right-color: #D3D3D3 !important; }\n",
       " #fixfmrqqer .gt_col_heading { color: #333333 !important; background-color: #FFFFFF !important; font-size: 100% !important; font-weight: normal !important; text-transform: inherit !important; border-left-style: none !important; border-left-width: 1px !important; border-left-color: #D3D3D3 !important; border-right-style: none !important; border-right-width: 1px !important; border-right-color: #D3D3D3 !important; vertical-align: bottom !important; padding-top: 5px !important; padding-bottom: 5px !important; padding-left: 5px !important; padding-right: 5px !important; overflow-x: hidden !important; }\n",
       " #fixfmrqqer .gt_column_spanner_outer { color: #333333 !important; background-color: #FFFFFF !important; font-size: 100% !important; font-weight: normal !important; text-transform: inherit !important; padding-top: 0 !important; padding-bottom: 0 !important; padding-left: 4px !important; padding-right: 4px !important; }\n",
       " #fixfmrqqer .gt_column_spanner_outer:first-child { padding-left: 0 !important; }\n",
       " #fixfmrqqer .gt_column_spanner_outer:last-child { padding-right: 0 !important; }\n",
       " #fixfmrqqer .gt_column_spanner { border-bottom-style: solid !important; border-bottom-width: 2px !important; border-bottom-color: #D3D3D3 !important; vertical-align: bottom !important; padding-top: 5px !important; padding-bottom: 5px !important; overflow-x: hidden !important; display: inline-block !important; width: 100% !important; }\n",
       " #fixfmrqqer .gt_spanner_row { border-bottom-style: hidden !important; }\n",
       " #fixfmrqqer .gt_group_heading { padding-top: 8px !important; padding-bottom: 8px !important; padding-left: 5px !important; padding-right: 5px !important; color: #333333 !important; background-color: #FFFFFF !important; font-size: 100% !important; font-weight: initial !important; text-transform: inherit !important; border-top-style: solid !important; border-top-width: 2px !important; border-top-color: #D3D3D3 !important; border-bottom-style: solid !important; border-bottom-width: 2px !important; border-bottom-color: #D3D3D3 !important; border-left-style: none !important; border-left-width: 1px !important; border-left-color: #D3D3D3 !important; border-right-style: none !important; border-right-width: 1px !important; border-right-color: #D3D3D3 !important; vertical-align: middle !important; text-align: left !important; }\n",
       " #fixfmrqqer .gt_empty_group_heading { padding: 0.5px !important; color: #333333 !important; background-color: #FFFFFF !important; font-size: 100% !important; font-weight: initial !important; border-top-style: solid !important; border-top-width: 2px !important; border-top-color: #D3D3D3 !important; border-bottom-style: solid !important; border-bottom-width: 2px !important; border-bottom-color: #D3D3D3 !important; vertical-align: middle !important; }\n",
       " #fixfmrqqer .gt_from_md> :first-child { margin-top: 0 !important; }\n",
       " #fixfmrqqer .gt_from_md> :last-child { margin-bottom: 0 !important; }\n",
       " #fixfmrqqer .gt_row { padding-top: 8px !important; padding-bottom: 8px !important; padding-left: 5px !important; padding-right: 5px !important; margin: 10px !important; border-top-style: solid !important; border-top-width: 1px !important; border-top-color: #D3D3D3 !important; border-left-style: none !important; border-left-width: 1px !important; border-left-color: #D3D3D3 !important; border-right-style: none !important; border-right-width: 1px !important; border-right-color: #D3D3D3 !important; vertical-align: middle !important; overflow-x: hidden !important; }\n",
       " #fixfmrqqer .gt_stub { color: #333333 !important; background-color: #FFFFFF !important; font-size: 100% !important; font-weight: initial !important; text-transform: inherit !important; border-right-style: solid !important; border-right-width: 2px !important; border-right-color: #D3D3D3 !important; padding-left: 5px !important; padding-right: 5px !important; }\n",
       " #fixfmrqqer .gt_stub_row_group { color: #333333 !important; background-color: #FFFFFF !important; font-size: 100% !important; font-weight: initial !important; text-transform: inherit !important; border-right-style: solid !important; border-right-width: 2px !important; border-right-color: #D3D3D3 !important; padding-left: 5px !important; padding-right: 5px !important; vertical-align: top !important; }\n",
       " #fixfmrqqer .gt_row_group_first td { border-top-width: 2px !important; }\n",
       " #fixfmrqqer .gt_row_group_first th { border-top-width: 2px !important; }\n",
       " #fixfmrqqer .gt_striped { background-color: rgba(128,128,128,0.05) !important; }\n",
       " #fixfmrqqer .gt_table_body { border-top-style: solid !important; border-top-width: 2px !important; border-top-color: #D3D3D3 !important; border-bottom-style: solid !important; border-bottom-width: 2px !important; border-bottom-color: #D3D3D3 !important; }\n",
       " #fixfmrqqer .gt_sourcenotes { color: #333333 !important; background-color: #FFFFFF !important; border-bottom-style: none !important; border-bottom-width: 2px !important; border-bottom-color: #D3D3D3 !important; border-left-style: none !important; border-left-width: 2px !important; border-left-color: #D3D3D3 !important; border-right-style: none !important; border-right-width: 2px !important; border-right-color: #D3D3D3 !important; }\n",
       " #fixfmrqqer .gt_sourcenote { font-size: 90% !important; padding-top: 4px !important; padding-bottom: 4px !important; padding-left: 5px !important; padding-right: 5px !important; text-align: left !important; }\n",
       " #fixfmrqqer .gt_left { text-align: left !important; }\n",
       " #fixfmrqqer .gt_center { text-align: center !important; }\n",
       " #fixfmrqqer .gt_right { text-align: right !important; font-variant-numeric: tabular-nums !important; }\n",
       " #fixfmrqqer .gt_font_normal { font-weight: normal !important; }\n",
       " #fixfmrqqer .gt_font_bold { font-weight: bold !important; }\n",
       " #fixfmrqqer .gt_font_italic { font-style: italic !important; }\n",
       " #fixfmrqqer .gt_super { font-size: 65% !important; }\n",
       " #fixfmrqqer .gt_footnote_marks { font-size: 75% !important; vertical-align: 0.4em !important; position: initial !important; }\n",
       " #fixfmrqqer .gt_asterisk { font-size: 100% !important; vertical-align: 0 !important; }\n",
       " \n",
       "</style>\n",
       "<table class=\"gt_table\" data-quarto-disable-processing=\"false\" data-quarto-bootstrap=\"false\">\n",
       "<thead>\n",
       "\n",
       "  <tr class=\"gt_heading\">\n",
       "    <td colspan=\"2\" class=\"gt_heading gt_title gt_font_normal\">% Change in Annual Sales</td>\n",
       "  </tr>\n",
       "<tr class=\"gt_col_headings\">\n",
       "  <th class=\"gt_col_heading gt_columns_bottom_border gt_left\" rowspan=\"1\" colspan=\"1\" scope=\"col\" id=\"Brands\">Brands</th>\n",
       "  <th class=\"gt_col_heading gt_columns_bottom_border gt_right\" rowspan=\"1\" colspan=\"1\" scope=\"col\" id=\"% Change\">% Change</th>\n",
       "</tr>\n",
       "</thead>\n",
       "<tbody class=\"gt_table_body\">\n",
       "  <tr>\n",
       "    <th style=\"color: #000000; background-color: #808080;\" class=\"gt_row gt_left gt_stub\">Alpha</th>\n",
       "    <td style=\"color: #000000; background-color: #e5ddee;\" class=\"gt_row gt_right\">5.00%</td>\n",
       "  </tr>\n",
       "  <tr>\n",
       "    <th style=\"color: #000000; background-color: #808080;\" class=\"gt_row gt_left gt_stub\">Bravo</th>\n",
       "    <td style=\"color: #000000; background-color: #ffedcd;\" class=\"gt_row gt_right\">−5.86%</td>\n",
       "  </tr>\n",
       "  <tr>\n",
       "    <th style=\"color: #000000; background-color: #808080;\" class=\"gt_row gt_left gt_stub\">Charlie</th>\n",
       "    <td style=\"color: #000000; background-color: #ffb938;\" class=\"gt_row gt_right\">−23.40%</td>\n",
       "  </tr>\n",
       "  <tr>\n",
       "    <th style=\"color: #000000; background-color: #808080;\" class=\"gt_row gt_left gt_stub\">Delta</th>\n",
       "    <td style=\"color: #000000; background-color: #ffd68a;\" class=\"gt_row gt_right\">−13.78%</td>\n",
       "  </tr>\n",
       "  <tr>\n",
       "    <th style=\"color: #000000; background-color: #808080;\" class=\"gt_row gt_left gt_stub\">Other</th>\n",
       "    <td style=\"color: #000000; background-color: #bba4d2;\" class=\"gt_row gt_right\">13.33%</td>\n",
       "  </tr>\n",
       "  <tr>\n",
       "    <th style=\"color: #000000; background-color: #808080;\" class=\"gt_row gt_left gt_stub\">Total</th>\n",
       "    <td style=\"color: #000000; background-color: #fff9ee;\" class=\"gt_row gt_right\">−2.00%</td>\n",
       "  </tr>\n",
       "</tbody>\n",
       "\n",
       "\n",
       "</table>\n",
       "\n",
       "</div>\n",
       "        "
      ],
      "text/plain": [
       "GT(_tbl_data=shape: (6, 3)\n",
       "┌──────┬─────────┬───────────┐\n",
       "│ year ┆ brand   ┆ % Change  │\n",
       "│ ---  ┆ ---     ┆ ---       │\n",
       "│ f64  ┆ str     ┆ f32       │\n",
       "╞══════╪═════════╪═══════════╡\n",
       "│ 2.0  ┆ Alpha   ┆ 0.050037  │\n",
       "│ 2.0  ┆ Bravo   ┆ -0.058612 │\n",
       "│ 2.0  ┆ Charlie ┆ -0.233982 │\n",
       "│ 2.0  ┆ Delta   ┆ -0.137765 │\n",
       "│ 2.0  ┆ Other   ┆ 0.133263  │\n",
       "│ 2.0  ┆ Total   ┆ -0.019986 │\n",
       "└──────┴─────────┴───────────┘, _body=<great_tables._gt_data.Body object at 0x10da958c0>, _boxhead=Boxhead([ColInfo(var='year', type=<ColInfoTypeEnum.hidden: 4>, column_label='year', column_align='right', column_width=None), ColInfo(var='brand', type=<ColInfoTypeEnum.stub: 2>, column_label='Y-o-Y % Change', column_align='left', column_width=None), ColInfo(var='% Change', type=<ColInfoTypeEnum.default: 1>, column_label='% Change', column_align='right', column_width=None)]), _stub=<great_tables._gt_data.Stub object at 0x10da93d90>, _spanners=Spanners([]), _heading=Heading(title='% Change in Annual Sales', subtitle=None, preheader=None), _stubhead='Brands', _source_notes=[], _footnotes=[], _styles=[StyleInfo(locname=LocBody(columns='year', rows=[0]), grpname=None, colname='year', rownum=0, colnum=None, styles=[CellStyleText(color='#000000', font=None, size=None, align=None, v_align=None, style=None, weight=None, stretch=None, decorate=None, transform=None, whitespace=None), CellStyleFill(color='#808080')]), StyleInfo(locname=LocBody(columns='year', rows=[1]), grpname=None, colname='year', rownum=1, colnum=None, styles=[CellStyleText(color='#000000', font=None, size=None, align=None, v_align=None, style=None, weight=None, stretch=None, decorate=None, transform=None, whitespace=None), CellStyleFill(color='#808080')]), StyleInfo(locname=LocBody(columns='year', rows=[2]), grpname=None, colname='year', rownum=2, colnum=None, styles=[CellStyleText(color='#000000', font=None, size=None, align=None, v_align=None, style=None, weight=None, stretch=None, decorate=None, transform=None, whitespace=None), CellStyleFill(color='#808080')]), StyleInfo(locname=LocBody(columns='year', rows=[3]), grpname=None, colname='year', rownum=3, colnum=None, styles=[CellStyleText(color='#000000', font=None, size=None, align=None, v_align=None, style=None, weight=None, stretch=None, decorate=None, transform=None, whitespace=None), CellStyleFill(color='#808080')]), StyleInfo(locname=LocBody(columns='year', rows=[4]), grpname=None, colname='year', rownum=4, colnum=None, styles=[CellStyleText(color='#000000', font=None, size=None, align=None, v_align=None, style=None, weight=None, stretch=None, decorate=None, transform=None, whitespace=None), CellStyleFill(color='#808080')]), StyleInfo(locname=LocBody(columns='year', rows=[5]), grpname=None, colname='year', rownum=5, colnum=None, styles=[CellStyleText(color='#000000', font=None, size=None, align=None, v_align=None, style=None, weight=None, stretch=None, decorate=None, transform=None, whitespace=None), CellStyleFill(color='#808080')]), StyleInfo(locname=LocBody(columns='brand', rows=[0]), grpname=None, colname='brand', rownum=0, colnum=None, styles=[CellStyleText(color='#000000', font=None, size=None, align=None, v_align=None, style=None, weight=None, stretch=None, decorate=None, transform=None, whitespace=None), CellStyleFill(color='#808080')]), StyleInfo(locname=LocBody(columns='brand', rows=[1]), grpname=None, colname='brand', rownum=1, colnum=None, styles=[CellStyleText(color='#000000', font=None, size=None, align=None, v_align=None, style=None, weight=None, stretch=None, decorate=None, transform=None, whitespace=None), CellStyleFill(color='#808080')]), StyleInfo(locname=LocBody(columns='brand', rows=[2]), grpname=None, colname='brand', rownum=2, colnum=None, styles=[CellStyleText(color='#000000', font=None, size=None, align=None, v_align=None, style=None, weight=None, stretch=None, decorate=None, transform=None, whitespace=None), CellStyleFill(color='#808080')]), StyleInfo(locname=LocBody(columns='brand', rows=[3]), grpname=None, colname='brand', rownum=3, colnum=None, styles=[CellStyleText(color='#000000', font=None, size=None, align=None, v_align=None, style=None, weight=None, stretch=None, decorate=None, transform=None, whitespace=None), CellStyleFill(color='#808080')]), StyleInfo(locname=LocBody(columns='brand', rows=[4]), grpname=None, colname='brand', rownum=4, colnum=None, styles=[CellStyleText(color='#000000', font=None, size=None, align=None, v_align=None, style=None, weight=None, stretch=None, decorate=None, transform=None, whitespace=None), CellStyleFill(color='#808080')]), StyleInfo(locname=LocBody(columns='brand', rows=[5]), grpname=None, colname='brand', rownum=5, colnum=None, styles=[CellStyleText(color='#000000', font=None, size=None, align=None, v_align=None, style=None, weight=None, stretch=None, decorate=None, transform=None, whitespace=None), CellStyleFill(color='#808080')]), StyleInfo(locname=LocBody(columns='% Change', rows=[0]), grpname=None, colname='% Change', rownum=0, colnum=None, styles=[CellStyleText(color='#000000', font=None, size=None, align=None, v_align=None, style=None, weight=None, stretch=None, decorate=None, transform=None, whitespace=None), CellStyleFill(color='#e5ddee')]), StyleInfo(locname=LocBody(columns='% Change', rows=[1]), grpname=None, colname='% Change', rownum=1, colnum=None, styles=[CellStyleText(color='#000000', font=None, size=None, align=None, v_align=None, style=None, weight=None, stretch=None, decorate=None, transform=None, whitespace=None), CellStyleFill(color='#ffedcd')]), StyleInfo(locname=LocBody(columns='% Change', rows=[2]), grpname=None, colname='% Change', rownum=2, colnum=None, styles=[CellStyleText(color='#000000', font=None, size=None, align=None, v_align=None, style=None, weight=None, stretch=None, decorate=None, transform=None, whitespace=None), CellStyleFill(color='#ffb938')]), StyleInfo(locname=LocBody(columns='% Change', rows=[3]), grpname=None, colname='% Change', rownum=3, colnum=None, styles=[CellStyleText(color='#000000', font=None, size=None, align=None, v_align=None, style=None, weight=None, stretch=None, decorate=None, transform=None, whitespace=None), CellStyleFill(color='#ffd68a')]), StyleInfo(locname=LocBody(columns='% Change', rows=[4]), grpname=None, colname='% Change', rownum=4, colnum=None, styles=[CellStyleText(color='#000000', font=None, size=None, align=None, v_align=None, style=None, weight=None, stretch=None, decorate=None, transform=None, whitespace=None), CellStyleFill(color='#bba4d2')]), StyleInfo(locname=LocBody(columns='% Change', rows=[5]), grpname=None, colname='% Change', rownum=5, colnum=None, styles=[CellStyleText(color='#000000', font=None, size=None, align=None, v_align=None, style=None, weight=None, stretch=None, decorate=None, transform=None, whitespace=None), CellStyleFill(color='#fff9ee')])], _locale=<great_tables._gt_data.Locale object at 0x10e434190>, _formats=[<great_tables._gt_data.FormatInfo object at 0x10e434410>], _substitutions=[], _options=Options(table_id=OptionsInfo(scss=False, category='table', type='value', value=None), table_caption=OptionsInfo(scss=False, category='table', type='value', value=None), table_width=OptionsInfo(scss=True, category='table', type='px', value='auto'), table_layout=OptionsInfo(scss=True, category='table', type='value', value='fixed'), table_margin_left=OptionsInfo(scss=True, category='table', type='px', value='auto'), table_margin_right=OptionsInfo(scss=True, category='table', type='px', value='auto'), table_background_color=OptionsInfo(scss=True, category='table', type='value', value='#FFFFFF'), table_additional_css=OptionsInfo(scss=False, category='table', type='values', value=[]), table_font_names=OptionsInfo(scss=False, category='table', type='values', value=['-apple-system', 'BlinkMacSystemFont', 'Segoe UI', 'Roboto', 'Oxygen', 'Ubuntu', 'Cantarell', 'Helvetica Neue', 'Fira Sans', 'Droid Sans', 'Arial', 'sans-serif']), table_font_size=OptionsInfo(scss=True, category='table', type='px', value='16px'), table_font_weight=OptionsInfo(scss=True, category='table', type='value', value='normal'), table_font_style=OptionsInfo(scss=True, category='table', type='value', value='normal'), table_font_color=OptionsInfo(scss=True, category='table', type='value', value='#333333'), table_font_color_light=OptionsInfo(scss=True, category='table', type='value', value='#FFFFFF'), table_border_top_include=OptionsInfo(scss=False, category='table', type='boolean', value=True), table_border_top_style=OptionsInfo(scss=True, category='table', type='value', value='solid'), table_border_top_width=OptionsInfo(scss=True, category='table', type='px', value='2px'), table_border_top_color=OptionsInfo(scss=True, category='table', type='value', value='#A8A8A8'), table_border_right_style=OptionsInfo(scss=True, category='table', type='value', value='none'), table_border_right_width=OptionsInfo(scss=True, category='table', type='px', value='2px'), table_border_right_color=OptionsInfo(scss=True, category='table', type='value', value='#D3D3D3'), table_border_bottom_include=OptionsInfo(scss=False, category='table', type='boolean', value=True), table_border_bottom_style=OptionsInfo(scss=True, category='table', type='value', value='solid'), table_border_bottom_width=OptionsInfo(scss=True, category='table', type='px', value='2px'), table_border_bottom_color=OptionsInfo(scss=True, category='table', type='value', value='#A8A8A8'), table_border_left_style=OptionsInfo(scss=True, category='table', type='value', value='none'), table_border_left_width=OptionsInfo(scss=True, category='table', type='px', value='2px'), table_border_left_color=OptionsInfo(scss=True, category='table', type='value', value='#D3D3D3'), heading_background_color=OptionsInfo(scss=True, category='heading', type='value', value=None), heading_align=OptionsInfo(scss=True, category='heading', type='value', value='center'), heading_title_font_size=OptionsInfo(scss=True, category='heading', type='px', value='125%'), heading_title_font_weight=OptionsInfo(scss=True, category='heading', type='value', value='initial'), heading_subtitle_font_size=OptionsInfo(scss=True, category='heading', type='px', value='85%'), heading_subtitle_font_weight=OptionsInfo(scss=True, category='heading', type='value', value='initial'), heading_padding=OptionsInfo(scss=True, category='heading', type='px', value='4px'), heading_padding_horizontal=OptionsInfo(scss=True, category='heading', type='px', value='5px'), heading_border_bottom_style=OptionsInfo(scss=True, category='heading', type='value', value='solid'), heading_border_bottom_width=OptionsInfo(scss=True, category='heading', type='px', value='2px'), heading_border_bottom_color=OptionsInfo(scss=True, category='heading', type='value', value='#D3D3D3'), heading_border_lr_style=OptionsInfo(scss=True, category='heading', type='value', value='none'), heading_border_lr_width=OptionsInfo(scss=True, category='heading', type='px', value='1px'), heading_border_lr_color=OptionsInfo(scss=True, category='heading', type='value', value='#D3D3D3'), column_labels_background_color=OptionsInfo(scss=True, category='column_labels', type='value', value=None), column_labels_font_size=OptionsInfo(scss=True, category='column_labels', type='px', value='100%'), column_labels_font_weight=OptionsInfo(scss=True, category='column_labels', type='value', value='normal'), column_labels_text_transform=OptionsInfo(scss=True, category='column_labels', type='value', value='inherit'), column_labels_padding=OptionsInfo(scss=True, category='column_labels', type='px', value='5px'), column_labels_padding_horizontal=OptionsInfo(scss=True, category='column_labels', type='px', value='5px'), column_labels_vlines_style=OptionsInfo(scss=True, category='table_body', type='value', value='none'), column_labels_vlines_width=OptionsInfo(scss=True, category='table_body', type='px', value='1px'), column_labels_vlines_color=OptionsInfo(scss=True, category='table_body', type='value', value='#D3D3D3'), column_labels_border_top_style=OptionsInfo(scss=True, category='column_labels', type='value', value='solid'), column_labels_border_top_width=OptionsInfo(scss=True, category='column_labels', type='px', value='2px'), column_labels_border_top_color=OptionsInfo(scss=True, category='column_labels', type='value', value='#D3D3D3'), column_labels_border_bottom_style=OptionsInfo(scss=True, category='column_labels', type='value', value='solid'), column_labels_border_bottom_width=OptionsInfo(scss=True, category='column_labels', type='px', value='2px'), column_labels_border_bottom_color=OptionsInfo(scss=True, category='column_labels', type='value', value='#D3D3D3'), column_labels_border_lr_style=OptionsInfo(scss=True, category='column_labels', type='value', value='none'), column_labels_border_lr_width=OptionsInfo(scss=True, category='column_labels', type='px', value='1px'), column_labels_border_lr_color=OptionsInfo(scss=True, category='column_labels', type='value', value='#D3D3D3'), column_labels_hidden=OptionsInfo(scss=False, category='column_labels', type='boolean', value=False), row_group_background_color=OptionsInfo(scss=True, category='row_group', type='value', value=None), row_group_font_size=OptionsInfo(scss=True, category='row_group', type='px', value='100%'), row_group_font_weight=OptionsInfo(scss=True, category='row_group', type='value', value='initial'), row_group_text_transform=OptionsInfo(scss=True, category='row_group', type='value', value='inherit'), row_group_padding=OptionsInfo(scss=True, category='row_group', type='px', value='8px'), row_group_padding_horizontal=OptionsInfo(scss=True, category='row_group', type='px', value='5px'), row_group_border_top_style=OptionsInfo(scss=True, category='row_group', type='value', value='solid'), row_group_border_top_width=OptionsInfo(scss=True, category='row_group', type='px', value='2px'), row_group_border_top_color=OptionsInfo(scss=True, category='row_group', type='value', value='#D3D3D3'), row_group_border_right_style=OptionsInfo(scss=True, category='row_group', type='value', value='none'), row_group_border_right_width=OptionsInfo(scss=True, category='row_group', type='px', value='1px'), row_group_border_right_color=OptionsInfo(scss=True, category='row_group', type='value', value='#D3D3D3'), row_group_border_bottom_style=OptionsInfo(scss=True, category='row_group', type='value', value='solid'), row_group_border_bottom_width=OptionsInfo(scss=True, category='row_group', type='px', value='2px'), row_group_border_bottom_color=OptionsInfo(scss=True, category='row_group', type='value', value='#D3D3D3'), row_group_border_left_style=OptionsInfo(scss=True, category='row_group', type='value', value='none'), row_group_border_left_width=OptionsInfo(scss=True, category='row_group', type='px', value='1px'), row_group_border_left_color=OptionsInfo(scss=True, category='row_group', type='value', value='#D3D3D3'), row_group_as_column=OptionsInfo(scss=False, category='row_group', type='boolean', value=False), table_body_hlines_style=OptionsInfo(scss=True, category='table_body', type='value', value='solid'), table_body_hlines_width=OptionsInfo(scss=True, category='table_body', type='px', value='1px'), table_body_hlines_color=OptionsInfo(scss=True, category='table_body', type='value', value='#D3D3D3'), table_body_vlines_style=OptionsInfo(scss=True, category='table_body', type='value', value='none'), table_body_vlines_width=OptionsInfo(scss=True, category='table_body', type='px', value='1px'), table_body_vlines_color=OptionsInfo(scss=True, category='table_body', type='value', value='#D3D3D3'), table_body_border_top_style=OptionsInfo(scss=True, category='table_body', type='value', value='solid'), table_body_border_top_width=OptionsInfo(scss=True, category='table_body', type='px', value='2px'), table_body_border_top_color=OptionsInfo(scss=True, category='table_body', type='value', value='#D3D3D3'), table_body_border_bottom_style=OptionsInfo(scss=True, category='table_body', type='value', value='solid'), table_body_border_bottom_width=OptionsInfo(scss=True, category='table_body', type='px', value='2px'), table_body_border_bottom_color=OptionsInfo(scss=True, category='table_body', type='value', value='#D3D3D3'), data_row_padding=OptionsInfo(scss=True, category='data_row', type='px', value='8px'), data_row_padding_horizontal=OptionsInfo(scss=True, category='data_row', type='px', value='5px'), stub_background_color=OptionsInfo(scss=True, category='stub', type='value', value=None), stub_font_size=OptionsInfo(scss=True, category='stub', type='px', value='100%'), stub_font_weight=OptionsInfo(scss=True, category='stub', type='value', value='initial'), stub_text_transform=OptionsInfo(scss=True, category='stub', type='value', value='inherit'), stub_border_style=OptionsInfo(scss=True, category='stub', type='value', value='solid'), stub_border_width=OptionsInfo(scss=True, category='stub', type='px', value='2px'), stub_border_color=OptionsInfo(scss=True, category='stub', type='value', value='#D3D3D3'), stub_row_group_background_color=OptionsInfo(scss=True, category='stub', type='value', value=None), stub_row_group_font_size=OptionsInfo(scss=True, category='stub', type='px', value='100%'), stub_row_group_font_weight=OptionsInfo(scss=True, category='stub', type='value', value='initial'), stub_row_group_text_transform=OptionsInfo(scss=True, category='stub', type='value', value='inherit'), stub_row_group_border_style=OptionsInfo(scss=True, category='stub', type='value', value='solid'), stub_row_group_border_width=OptionsInfo(scss=True, category='stub', type='px', value='2px'), stub_row_group_border_color=OptionsInfo(scss=True, category='stub', type='value', value='#D3D3D3'), source_notes_padding=OptionsInfo(scss=True, category='source_notes', type='px', value='4px'), source_notes_padding_horizontal=OptionsInfo(scss=True, category='source_notes', type='px', value='5px'), source_notes_background_color=OptionsInfo(scss=True, category='source_notes', type='value', value=None), source_notes_font_size=OptionsInfo(scss=True, category='source_notes', type='px', value='90%'), source_notes_border_bottom_style=OptionsInfo(scss=True, category='source_notes', type='value', value='none'), source_notes_border_bottom_width=OptionsInfo(scss=True, category='source_notes', type='px', value='2px'), source_notes_border_bottom_color=OptionsInfo(scss=True, category='source_notes', type='value', value='#D3D3D3'), source_notes_border_lr_style=OptionsInfo(scss=True, category='source_notes', type='value', value='none'), source_notes_border_lr_width=OptionsInfo(scss=True, category='source_notes', type='px', value='2px'), source_notes_border_lr_color=OptionsInfo(scss=True, category='source_notes', type='value', value='#D3D3D3'), source_notes_multiline=OptionsInfo(scss=False, category='source_notes', type='boolean', value=True), source_notes_sep=OptionsInfo(scss=False, category='source_notes', type='value', value=' '), row_striping_background_color=OptionsInfo(scss=True, category='row', type='value', value='rgba(128,128,128,0.05)'), row_striping_include_stub=OptionsInfo(scss=False, category='row', type='boolean', value=False), row_striping_include_table_body=OptionsInfo(scss=False, category='row', type='boolean', value=False), container_width=OptionsInfo(scss=False, category='container', type='px', value='auto'), container_height=OptionsInfo(scss=False, category='container', type='px', value='auto'), container_padding_x=OptionsInfo(scss=False, category='container', type='px', value='0px'), container_padding_y=OptionsInfo(scss=False, category='container', type='px', value='10px'), container_overflow_x=OptionsInfo(scss=False, category='container', type='overflow', value='auto'), container_overflow_y=OptionsInfo(scss=False, category='container', type='overflow', value='auto'), quarto_disable_processing=OptionsInfo(scss=False, category='quarto', type='logical', value=False), quarto_use_bootstrap=OptionsInfo(scss=False, category='quarto', type='logical', value=False)), _has_built=False)"
      ]
     },
     "execution_count": 18,
     "metadata": {},
     "output_type": "execute_result"
    }
   ],
   "source": [
    "annual_change_sales = annual_sales_pivot.with_columns(\n",
    "    pl.col('*').exclude('year').pct_change()\n",
    ").filter(\n",
    "    pl.col('year') == 2\n",
    ").unpivot(\n",
    "    index=\"year\",  # Keep 'year' as a fixed identifier\n",
    "    value_name='% Change',  \n",
    "    variable_name='brand'\n",
    ")\n",
    "\n",
    "(\n",
    "    GT(annual_change_sales, rowname_col='brand')\n",
    "    .tab_header(title='% Change in Annual Sales')\n",
    "    .tab_stubhead(label=\"Brands\")\n",
    "    .fmt_percent()\n",
    "    .data_color(\n",
    "        domain=[-0.3, 0.3],\n",
    "        palette=['orange', 'white', 'rebeccapurple']\n",
    "    ) \n",
    "    .cols_hide('year')   \n",
    "    .cols_label(brand='Y-o-Y % Change')\n",
    ")"
   ]
  },
  {
   "cell_type": "code",
   "execution_count": 19,
   "metadata": {},
   "outputs": [
    {
     "data": {
      "application/vnd.vegalite.v5+json": {
       "$schema": "https://vega.github.io/schema/vega-lite/v5.20.1.json",
       "config": {
        "view": {
         "continuousHeight": 300,
         "continuousWidth": 300
        }
       },
       "data": {
        "name": "data-0eff8c7cdc6420fdfdf6a7271c06900f"
       },
       "datasets": {
        "data-0eff8c7cdc6420fdfdf6a7271c06900f": [
         {
          "Yearly Sales": 5120.86962890625,
          "brand": "Charlie",
          "year": 1
         },
         {
          "Yearly Sales": 28603.345703125,
          "brand": "Bravo",
          "year": 1
         },
         {
          "Yearly Sales": 33570.94921875,
          "brand": "Alpha",
          "year": 1
         },
         {
          "Yearly Sales": 3271.509765625,
          "brand": "Delta",
          "year": 1
         },
         {
          "Yearly Sales": 1535.22998046875,
          "brand": "Other",
          "year": 1
         },
         {
          "Yearly Sales": 1739.820068359375,
          "brand": "Other",
          "year": 2
         },
         {
          "Yearly Sales": 2820.810302734375,
          "brand": "Delta",
          "year": 2
         },
         {
          "Yearly Sales": 3922.6796875,
          "brand": "Charlie",
          "year": 2
         },
         {
          "Yearly Sales": 35250.73828125,
          "brand": "Alpha",
          "year": 2
         },
         {
          "Yearly Sales": 26926.84765625,
          "brand": "Bravo",
          "year": 2
         }
        ]
       },
       "encoding": {
        "color": {
         "field": "year",
         "type": "nominal"
        },
        "x": {
         "axis": {
          "labelAngle": 0
         },
         "field": "brand",
         "type": "nominal"
        },
        "xOffset": {
         "field": "year",
         "type": "nominal"
        },
        "y": {
         "axis": {
          "format": "$,.0f"
         },
         "field": "Yearly Sales",
         "type": "quantitative"
        }
       },
       "height": 250,
       "mark": {
        "type": "bar"
       },
       "title": "Year 1 & Year 2 Revenues",
       "width": 650
      },
      "text/plain": [
       "<VegaLite 5 object>\n",
       "\n",
       "If you see this message, it means the renderer has not been properly enabled\n",
       "for the frontend that you are using. For more information, see\n",
       "https://altair-viz.github.io/user_guide/display_frontends.html#troubleshooting\n"
      ]
     },
     "metadata": {},
     "output_type": "display_data"
    }
   ],
   "source": [
    "chart = alt.Chart(annual_sales_summary().collect()).mark_bar().encode(\n",
    "    x=alt.X(\"brand:N\", \n",
    "            axis=alt.Axis(labelAngle=0)),\n",
    "    xOffset=\"year:N\",\n",
    "    y=alt.Y(\"Yearly Sales:Q\",\n",
    "            axis=alt.Axis(format=\"$,.0f\")),\n",
    "    color=alt.Color(\"year:N\"),\n",
    ").properties(\n",
    "    width=650,\n",
    "    height=250,\n",
    "    title='Year 1 & Year 2 Revenues'\n",
    ").show()"
   ]
  },
  {
   "cell_type": "code",
   "execution_count": 20,
   "metadata": {},
   "outputs": [
    {
     "data": {
      "application/vnd.vegalite.v5+json": {
       "$schema": "https://vega.github.io/schema/vega-lite/v5.20.1.json",
       "config": {
        "view": {
         "continuousHeight": 300,
         "continuousWidth": 300
        }
       },
       "data": {
        "name": "data-83fc2058f5f49f8580120e6c626b599b"
       },
       "datasets": {
        "data-83fc2058f5f49f8580120e6c626b599b": [
         {
          "% Change": 0.05003698542714119,
          "brand": "Alpha",
          "year": 2
         },
         {
          "% Change": -0.05861195549368858,
          "brand": "Bravo",
          "year": 2
         },
         {
          "% Change": -0.23398172855377197,
          "brand": "Charlie",
          "year": 2
         },
         {
          "% Change": -0.13776497542858124,
          "brand": "Delta",
          "year": 2
         },
         {
          "% Change": 0.1332634836435318,
          "brand": "Other",
          "year": 2
         },
         {
          "% Change": -0.019985711202025414,
          "brand": "Total",
          "year": 2
         }
        ]
       },
       "height": 250,
       "layer": [
        {
         "encoding": {
          "color": {
           "condition": {
            "test": "(datum['% Change'] > 0)",
            "value": "green"
           },
           "value": "red"
          },
          "text": {
           "field": "% Change",
           "format": ".1%",
           "type": "quantitative"
          },
          "x": {
           "axis": {
            "labelAngle": 0
           },
           "field": "brand",
           "type": "nominal"
          },
          "y": {
           "axis": {
            "format": ".0%"
           },
           "field": "% Change",
           "type": "quantitative"
          }
         },
         "mark": {
          "type": "bar"
         },
         "title": "Y-o-Y % Change in Revenue"
        },
        {
         "encoding": {
          "color": {
           "condition": {
            "test": "(datum['% Change'] > 0)",
            "value": "green"
           },
           "value": "red"
          },
          "text": {
           "field": "% Change",
           "format": ".1%",
           "type": "quantitative"
          },
          "x": {
           "axis": {
            "labelAngle": 0
           },
           "field": "brand",
           "type": "nominal"
          },
          "y": {
           "axis": {
            "format": ".0%"
           },
           "field": "% Change",
           "type": "quantitative"
          }
         },
         "mark": {
          "align": "center",
          "baseline": {
           "expr": "if((datum['% Change'] >= 0),'bottom','top')"
          },
          "dx": 0,
          "dy": {
           "expr": "if((datum['% Change'] >= 0),-2,2)"
          },
          "type": "text"
         },
         "title": "Y-o-Y % Change in Revenue"
        }
       ],
       "width": 650
      },
      "text/plain": [
       "<VegaLite 5 object>\n",
       "\n",
       "If you see this message, it means the renderer has not been properly enabled\n",
       "for the frontend that you are using. For more information, see\n",
       "https://altair-viz.github.io/user_guide/display_frontends.html#troubleshooting\n"
      ]
     },
     "metadata": {},
     "output_type": "display_data"
    }
   ],
   "source": [
    "base = alt.Chart(annual_change_sales).encode(\n",
    "    x=alt.X(\"brand:N\", \n",
    "            axis=alt.Axis(labelAngle=0)\n",
    "    ),\n",
    "    y=alt.Y(\"% Change:Q\",\n",
    "            axis=alt.Axis(format=\".0%\")\n",
    "    ),\n",
    "    color=alt.condition(\n",
    "        alt.datum[\"% Change\"] > 0, # fixed this \n",
    "        alt.value(\"green\"),  # The positive color\n",
    "        alt.value(\"red\")  # The negative color\n",
    "    ),\n",
    "    text=alt.Text(\n",
    "        '% Change',\n",
    "        format=(\".1%\")\n",
    "    )\n",
    "        \n",
    ").properties(\n",
    "    width=650,\n",
    "    height=250,\n",
    "    title='Y-o-Y % Change in Revenue'\n",
    ")\n",
    "\n",
    "chart = base.mark_bar() + base.mark_text(align='center', \n",
    "                                 baseline=alt.expr(alt.expr.if_(alt.datum['% Change'] >= 0, 'bottom', 'top')),\n",
    "                                 dy=alt.expr(alt.expr.if_(alt.datum['% Change'] >= 0, -2, 2)),\n",
    "                                 dx=0)\n",
    "chart.show()"
   ]
  },
  {
   "cell_type": "markdown",
   "metadata": {},
   "source": [
    "#### Annual Market Share"
   ]
  },
  {
   "cell_type": "code",
   "execution_count": 21,
   "metadata": {},
   "outputs": [
    {
     "data": {
      "text/html": [
       "<div id=\"uqezheftwj\" style=\"padding-left:0px;padding-right:0px;padding-top:10px;padding-bottom:10px;overflow-x:auto;overflow-y:auto;width:auto;height:auto;\">\n",
       "<style>\n",
       "#uqezheftwj table {\n",
       "          font-family: -apple-system, BlinkMacSystemFont, 'Segoe UI', Roboto, Oxygen, Ubuntu, Cantarell, 'Helvetica Neue', 'Fira Sans', 'Droid Sans', Arial, sans-serif;\n",
       "          -webkit-font-smoothing: antialiased;\n",
       "          -moz-osx-font-smoothing: grayscale;\n",
       "        }\n",
       "\n",
       "#uqezheftwj thead, tbody, tfoot, tr, td, th { border-style: none !important; }\n",
       " tr { background-color: transparent !important; }\n",
       "#uqezheftwj p { margin: 0 !important; padding: 0 !important; }\n",
       " #uqezheftwj .gt_table { display: table !important; border-collapse: collapse !important; line-height: normal !important; margin-left: auto !important; margin-right: auto !important; color: #333333 !important; font-size: 16px !important; font-weight: normal !important; font-style: normal !important; background-color: #FFFFFF !important; width: auto !important; border-top-style: solid !important; border-top-width: 2px !important; border-top-color: #A8A8A8 !important; border-right-style: none !important; border-right-width: 2px !important; border-right-color: #D3D3D3 !important; border-bottom-style: solid !important; border-bottom-width: 2px !important; border-bottom-color: #A8A8A8 !important; border-left-style: none !important; border-left-width: 2px !important; border-left-color: #D3D3D3 !important; }\n",
       " #uqezheftwj .gt_caption { padding-top: 4px !important; padding-bottom: 4px !important; }\n",
       " #uqezheftwj .gt_title { color: #333333 !important; font-size: 125% !important; font-weight: initial !important; padding-top: 4px !important; padding-bottom: 4px !important; padding-left: 5px !important; padding-right: 5px !important; border-bottom-color: #FFFFFF !important; border-bottom-width: 0 !important; }\n",
       " #uqezheftwj .gt_subtitle { color: #333333 !important; font-size: 85% !important; font-weight: initial !important; padding-top: 3px !important; padding-bottom: 5px !important; padding-left: 5px !important; padding-right: 5px !important; border-top-color: #FFFFFF !important; border-top-width: 0 !important; }\n",
       " #uqezheftwj .gt_heading { background-color: #FFFFFF !important; text-align: center !important; border-bottom-color: #FFFFFF !important; border-left-style: none !important; border-left-width: 1px !important; border-left-color: #D3D3D3 !important; border-right-style: none !important; border-right-width: 1px !important; border-right-color: #D3D3D3 !important; }\n",
       " #uqezheftwj .gt_bottom_border { border-bottom-style: solid !important; border-bottom-width: 2px !important; border-bottom-color: #D3D3D3 !important; }\n",
       " #uqezheftwj .gt_col_headings { border-top-style: solid !important; border-top-width: 2px !important; border-top-color: #D3D3D3 !important; border-bottom-style: solid !important; border-bottom-width: 2px !important; border-bottom-color: #D3D3D3 !important; border-left-style: none !important; border-left-width: 1px !important; border-left-color: #D3D3D3 !important; border-right-style: none !important; border-right-width: 1px !important; border-right-color: #D3D3D3 !important; }\n",
       " #uqezheftwj .gt_col_heading { color: #333333 !important; background-color: #FFFFFF !important; font-size: 100% !important; font-weight: normal !important; text-transform: inherit !important; border-left-style: none !important; border-left-width: 1px !important; border-left-color: #D3D3D3 !important; border-right-style: none !important; border-right-width: 1px !important; border-right-color: #D3D3D3 !important; vertical-align: bottom !important; padding-top: 5px !important; padding-bottom: 5px !important; padding-left: 5px !important; padding-right: 5px !important; overflow-x: hidden !important; }\n",
       " #uqezheftwj .gt_column_spanner_outer { color: #333333 !important; background-color: #FFFFFF !important; font-size: 100% !important; font-weight: normal !important; text-transform: inherit !important; padding-top: 0 !important; padding-bottom: 0 !important; padding-left: 4px !important; padding-right: 4px !important; }\n",
       " #uqezheftwj .gt_column_spanner_outer:first-child { padding-left: 0 !important; }\n",
       " #uqezheftwj .gt_column_spanner_outer:last-child { padding-right: 0 !important; }\n",
       " #uqezheftwj .gt_column_spanner { border-bottom-style: solid !important; border-bottom-width: 2px !important; border-bottom-color: #D3D3D3 !important; vertical-align: bottom !important; padding-top: 5px !important; padding-bottom: 5px !important; overflow-x: hidden !important; display: inline-block !important; width: 100% !important; }\n",
       " #uqezheftwj .gt_spanner_row { border-bottom-style: hidden !important; }\n",
       " #uqezheftwj .gt_group_heading { padding-top: 8px !important; padding-bottom: 8px !important; padding-left: 5px !important; padding-right: 5px !important; color: #333333 !important; background-color: #FFFFFF !important; font-size: 100% !important; font-weight: initial !important; text-transform: inherit !important; border-top-style: solid !important; border-top-width: 2px !important; border-top-color: #D3D3D3 !important; border-bottom-style: solid !important; border-bottom-width: 2px !important; border-bottom-color: #D3D3D3 !important; border-left-style: none !important; border-left-width: 1px !important; border-left-color: #D3D3D3 !important; border-right-style: none !important; border-right-width: 1px !important; border-right-color: #D3D3D3 !important; vertical-align: middle !important; text-align: left !important; }\n",
       " #uqezheftwj .gt_empty_group_heading { padding: 0.5px !important; color: #333333 !important; background-color: #FFFFFF !important; font-size: 100% !important; font-weight: initial !important; border-top-style: solid !important; border-top-width: 2px !important; border-top-color: #D3D3D3 !important; border-bottom-style: solid !important; border-bottom-width: 2px !important; border-bottom-color: #D3D3D3 !important; vertical-align: middle !important; }\n",
       " #uqezheftwj .gt_from_md> :first-child { margin-top: 0 !important; }\n",
       " #uqezheftwj .gt_from_md> :last-child { margin-bottom: 0 !important; }\n",
       " #uqezheftwj .gt_row { padding-top: 8px !important; padding-bottom: 8px !important; padding-left: 5px !important; padding-right: 5px !important; margin: 10px !important; border-top-style: solid !important; border-top-width: 1px !important; border-top-color: #D3D3D3 !important; border-left-style: none !important; border-left-width: 1px !important; border-left-color: #D3D3D3 !important; border-right-style: none !important; border-right-width: 1px !important; border-right-color: #D3D3D3 !important; vertical-align: middle !important; overflow-x: hidden !important; }\n",
       " #uqezheftwj .gt_stub { color: #333333 !important; background-color: #FFFFFF !important; font-size: 100% !important; font-weight: initial !important; text-transform: inherit !important; border-right-style: solid !important; border-right-width: 2px !important; border-right-color: #D3D3D3 !important; padding-left: 5px !important; padding-right: 5px !important; }\n",
       " #uqezheftwj .gt_stub_row_group { color: #333333 !important; background-color: #FFFFFF !important; font-size: 100% !important; font-weight: initial !important; text-transform: inherit !important; border-right-style: solid !important; border-right-width: 2px !important; border-right-color: #D3D3D3 !important; padding-left: 5px !important; padding-right: 5px !important; vertical-align: top !important; }\n",
       " #uqezheftwj .gt_row_group_first td { border-top-width: 2px !important; }\n",
       " #uqezheftwj .gt_row_group_first th { border-top-width: 2px !important; }\n",
       " #uqezheftwj .gt_striped { background-color: rgba(128,128,128,0.05) !important; }\n",
       " #uqezheftwj .gt_table_body { border-top-style: solid !important; border-top-width: 2px !important; border-top-color: #D3D3D3 !important; border-bottom-style: solid !important; border-bottom-width: 2px !important; border-bottom-color: #D3D3D3 !important; }\n",
       " #uqezheftwj .gt_sourcenotes { color: #333333 !important; background-color: #FFFFFF !important; border-bottom-style: none !important; border-bottom-width: 2px !important; border-bottom-color: #D3D3D3 !important; border-left-style: none !important; border-left-width: 2px !important; border-left-color: #D3D3D3 !important; border-right-style: none !important; border-right-width: 2px !important; border-right-color: #D3D3D3 !important; }\n",
       " #uqezheftwj .gt_sourcenote { font-size: 90% !important; padding-top: 4px !important; padding-bottom: 4px !important; padding-left: 5px !important; padding-right: 5px !important; text-align: left !important; }\n",
       " #uqezheftwj .gt_left { text-align: left !important; }\n",
       " #uqezheftwj .gt_center { text-align: center !important; }\n",
       " #uqezheftwj .gt_right { text-align: right !important; font-variant-numeric: tabular-nums !important; }\n",
       " #uqezheftwj .gt_font_normal { font-weight: normal !important; }\n",
       " #uqezheftwj .gt_font_bold { font-weight: bold !important; }\n",
       " #uqezheftwj .gt_font_italic { font-style: italic !important; }\n",
       " #uqezheftwj .gt_super { font-size: 65% !important; }\n",
       " #uqezheftwj .gt_footnote_marks { font-size: 75% !important; vertical-align: 0.4em !important; position: initial !important; }\n",
       " #uqezheftwj .gt_asterisk { font-size: 100% !important; vertical-align: 0 !important; }\n",
       " \n",
       "</style>\n",
       "<table class=\"gt_table\" data-quarto-disable-processing=\"false\" data-quarto-bootstrap=\"false\">\n",
       "<thead>\n",
       "\n",
       "  <tr class=\"gt_heading\">\n",
       "    <td colspan=\"6\" class=\"gt_heading gt_title gt_font_normal\">Annual Market Share (%)</td>\n",
       "  </tr>\n",
       "<tr class=\"gt_col_headings\">\n",
       "  <th class=\"gt_col_heading gt_columns_bottom_border gt_left\" rowspan=\"1\" colspan=\"1\" scope=\"col\" id=\"Year\">Year</th>\n",
       "  <th class=\"gt_col_heading gt_columns_bottom_border gt_right\" rowspan=\"1\" colspan=\"1\" scope=\"col\" id=\"Alpha\">Alpha</th>\n",
       "  <th class=\"gt_col_heading gt_columns_bottom_border gt_right\" rowspan=\"1\" colspan=\"1\" scope=\"col\" id=\"Bravo\">Bravo</th>\n",
       "  <th class=\"gt_col_heading gt_columns_bottom_border gt_right\" rowspan=\"1\" colspan=\"1\" scope=\"col\" id=\"Charlie\">Charlie</th>\n",
       "  <th class=\"gt_col_heading gt_columns_bottom_border gt_right\" rowspan=\"1\" colspan=\"1\" scope=\"col\" id=\"Delta\">Delta</th>\n",
       "  <th class=\"gt_col_heading gt_columns_bottom_border gt_right\" rowspan=\"1\" colspan=\"1\" scope=\"col\" id=\"Other\">Other</th>\n",
       "</tr>\n",
       "</thead>\n",
       "<tbody class=\"gt_table_body\">\n",
       "  <tr>\n",
       "    <th style=\"color: #000000; background-color: #808080;\" class=\"gt_row gt_left gt_stub\">1.0</th>\n",
       "    <td style=\"color: #FFFFFF; background-color: #7141a0;\" class=\"gt_row gt_right\">46.56%</td>\n",
       "    <td style=\"color: #FFFFFF; background-color: #865dae;\" class=\"gt_row gt_right\">39.67%</td>\n",
       "    <td style=\"color: #000000; background-color: #e9e2f1;\" class=\"gt_row gt_right\">7.10%</td>\n",
       "    <td style=\"color: #000000; background-color: #f1ecf6;\" class=\"gt_row gt_right\">4.54%</td>\n",
       "    <td style=\"color: #000000; background-color: #f8f6fb;\" class=\"gt_row gt_right\">2.13%</td>\n",
       "  </tr>\n",
       "  <tr>\n",
       "    <th style=\"color: #000000; background-color: #808080;\" class=\"gt_row gt_left gt_stub\">2.0</th>\n",
       "    <td style=\"color: #FFFFFF; background-color: #663399;\" class=\"gt_row gt_right\">49.89%</td>\n",
       "    <td style=\"color: #FFFFFF; background-color: #8a64b1;\" class=\"gt_row gt_right\">38.11%</td>\n",
       "    <td style=\"color: #000000; background-color: #eee8f4;\" class=\"gt_row gt_right\">5.55%</td>\n",
       "    <td style=\"color: #000000; background-color: #f3eff7;\" class=\"gt_row gt_right\">3.99%</td>\n",
       "    <td style=\"color: #000000; background-color: #f7f5fa;\" class=\"gt_row gt_right\">2.46%</td>\n",
       "  </tr>\n",
       "</tbody>\n",
       "\n",
       "\n",
       "</table>\n",
       "\n",
       "</div>\n",
       "        "
      ],
      "text/plain": [
       "GT(_tbl_data=shape: (2, 7)\n",
       "┌──────┬──────────┬──────────┬──────────┬──────────┬──────────┬───────┐\n",
       "│ year ┆ Alpha    ┆ Bravo    ┆ Charlie  ┆ Delta    ┆ Other    ┆ Total │\n",
       "│ ---  ┆ ---      ┆ ---      ┆ ---      ┆ ---      ┆ ---      ┆ ---   │\n",
       "│ f64  ┆ f32      ┆ f32      ┆ f32      ┆ f32      ┆ f32      ┆ f32   │\n",
       "╞══════╪══════════╪══════════╪══════════╪══════════╪══════════╪═══════╡\n",
       "│ 1.0  ┆ 0.465604 ┆ 0.396707 ┆ 0.071023 ┆ 0.045373 ┆ 0.021293 ┆ 1.0   │\n",
       "│ 2.0  ┆ 0.498872 ┆ 0.381071 ┆ 0.055514 ┆ 0.03992  ┆ 0.024622 ┆ 1.0   │\n",
       "└──────┴──────────┴──────────┴──────────┴──────────┴──────────┴───────┘, _body=<great_tables._gt_data.Body object at 0x10da5fc50>, _boxhead=Boxhead([ColInfo(var='year', type=<ColInfoTypeEnum.stub: 2>, column_label='year', column_align='right', column_width=None), ColInfo(var='Alpha', type=<ColInfoTypeEnum.default: 1>, column_label='Alpha', column_align='right', column_width=None), ColInfo(var='Bravo', type=<ColInfoTypeEnum.default: 1>, column_label='Bravo', column_align='right', column_width=None), ColInfo(var='Charlie', type=<ColInfoTypeEnum.default: 1>, column_label='Charlie', column_align='right', column_width=None), ColInfo(var='Delta', type=<ColInfoTypeEnum.default: 1>, column_label='Delta', column_align='right', column_width=None), ColInfo(var='Other', type=<ColInfoTypeEnum.default: 1>, column_label='Other', column_align='right', column_width=None), ColInfo(var='Total', type=<ColInfoTypeEnum.hidden: 4>, column_label='Total', column_align='right', column_width=None)]), _stub=<great_tables._gt_data.Stub object at 0x10db14e90>, _spanners=Spanners([]), _heading=Heading(title='Annual Market Share (%)', subtitle=None, preheader=None), _stubhead='Year', _source_notes=[], _footnotes=[], _styles=[StyleInfo(locname=LocBody(columns='year', rows=[0]), grpname=None, colname='year', rownum=0, colnum=None, styles=[CellStyleText(color='#000000', font=None, size=None, align=None, v_align=None, style=None, weight=None, stretch=None, decorate=None, transform=None, whitespace=None), CellStyleFill(color='#808080')]), StyleInfo(locname=LocBody(columns='year', rows=[1]), grpname=None, colname='year', rownum=1, colnum=None, styles=[CellStyleText(color='#000000', font=None, size=None, align=None, v_align=None, style=None, weight=None, stretch=None, decorate=None, transform=None, whitespace=None), CellStyleFill(color='#808080')]), StyleInfo(locname=LocBody(columns='Alpha', rows=[0]), grpname=None, colname='Alpha', rownum=0, colnum=None, styles=[CellStyleText(color='#FFFFFF', font=None, size=None, align=None, v_align=None, style=None, weight=None, stretch=None, decorate=None, transform=None, whitespace=None), CellStyleFill(color='#7141a0')]), StyleInfo(locname=LocBody(columns='Alpha', rows=[1]), grpname=None, colname='Alpha', rownum=1, colnum=None, styles=[CellStyleText(color='#FFFFFF', font=None, size=None, align=None, v_align=None, style=None, weight=None, stretch=None, decorate=None, transform=None, whitespace=None), CellStyleFill(color='#663399')]), StyleInfo(locname=LocBody(columns='Bravo', rows=[0]), grpname=None, colname='Bravo', rownum=0, colnum=None, styles=[CellStyleText(color='#FFFFFF', font=None, size=None, align=None, v_align=None, style=None, weight=None, stretch=None, decorate=None, transform=None, whitespace=None), CellStyleFill(color='#865dae')]), StyleInfo(locname=LocBody(columns='Bravo', rows=[1]), grpname=None, colname='Bravo', rownum=1, colnum=None, styles=[CellStyleText(color='#FFFFFF', font=None, size=None, align=None, v_align=None, style=None, weight=None, stretch=None, decorate=None, transform=None, whitespace=None), CellStyleFill(color='#8a64b1')]), StyleInfo(locname=LocBody(columns='Charlie', rows=[0]), grpname=None, colname='Charlie', rownum=0, colnum=None, styles=[CellStyleText(color='#000000', font=None, size=None, align=None, v_align=None, style=None, weight=None, stretch=None, decorate=None, transform=None, whitespace=None), CellStyleFill(color='#e9e2f1')]), StyleInfo(locname=LocBody(columns='Charlie', rows=[1]), grpname=None, colname='Charlie', rownum=1, colnum=None, styles=[CellStyleText(color='#000000', font=None, size=None, align=None, v_align=None, style=None, weight=None, stretch=None, decorate=None, transform=None, whitespace=None), CellStyleFill(color='#eee8f4')]), StyleInfo(locname=LocBody(columns='Delta', rows=[0]), grpname=None, colname='Delta', rownum=0, colnum=None, styles=[CellStyleText(color='#000000', font=None, size=None, align=None, v_align=None, style=None, weight=None, stretch=None, decorate=None, transform=None, whitespace=None), CellStyleFill(color='#f1ecf6')]), StyleInfo(locname=LocBody(columns='Delta', rows=[1]), grpname=None, colname='Delta', rownum=1, colnum=None, styles=[CellStyleText(color='#000000', font=None, size=None, align=None, v_align=None, style=None, weight=None, stretch=None, decorate=None, transform=None, whitespace=None), CellStyleFill(color='#f3eff7')]), StyleInfo(locname=LocBody(columns='Other', rows=[0]), grpname=None, colname='Other', rownum=0, colnum=None, styles=[CellStyleText(color='#000000', font=None, size=None, align=None, v_align=None, style=None, weight=None, stretch=None, decorate=None, transform=None, whitespace=None), CellStyleFill(color='#f8f6fb')]), StyleInfo(locname=LocBody(columns='Other', rows=[1]), grpname=None, colname='Other', rownum=1, colnum=None, styles=[CellStyleText(color='#000000', font=None, size=None, align=None, v_align=None, style=None, weight=None, stretch=None, decorate=None, transform=None, whitespace=None), CellStyleFill(color='#f7f5fa')]), StyleInfo(locname=LocBody(columns='Total', rows=[0]), grpname=None, colname='Total', rownum=0, colnum=None, styles=[CellStyleText(color='#000000', font=None, size=None, align=None, v_align=None, style=None, weight=None, stretch=None, decorate=None, transform=None, whitespace=None), CellStyleFill(color='#808080')]), StyleInfo(locname=LocBody(columns='Total', rows=[1]), grpname=None, colname='Total', rownum=1, colnum=None, styles=[CellStyleText(color='#000000', font=None, size=None, align=None, v_align=None, style=None, weight=None, stretch=None, decorate=None, transform=None, whitespace=None), CellStyleFill(color='#808080')])], _locale=<great_tables._gt_data.Locale object at 0x10db14fc0>, _formats=[<great_tables._gt_data.FormatInfo object at 0x10db162c0>], _substitutions=[], _options=Options(table_id=OptionsInfo(scss=False, category='table', type='value', value=None), table_caption=OptionsInfo(scss=False, category='table', type='value', value=None), table_width=OptionsInfo(scss=True, category='table', type='px', value='auto'), table_layout=OptionsInfo(scss=True, category='table', type='value', value='fixed'), table_margin_left=OptionsInfo(scss=True, category='table', type='px', value='auto'), table_margin_right=OptionsInfo(scss=True, category='table', type='px', value='auto'), table_background_color=OptionsInfo(scss=True, category='table', type='value', value='#FFFFFF'), table_additional_css=OptionsInfo(scss=False, category='table', type='values', value=[]), table_font_names=OptionsInfo(scss=False, category='table', type='values', value=['-apple-system', 'BlinkMacSystemFont', 'Segoe UI', 'Roboto', 'Oxygen', 'Ubuntu', 'Cantarell', 'Helvetica Neue', 'Fira Sans', 'Droid Sans', 'Arial', 'sans-serif']), table_font_size=OptionsInfo(scss=True, category='table', type='px', value='16px'), table_font_weight=OptionsInfo(scss=True, category='table', type='value', value='normal'), table_font_style=OptionsInfo(scss=True, category='table', type='value', value='normal'), table_font_color=OptionsInfo(scss=True, category='table', type='value', value='#333333'), table_font_color_light=OptionsInfo(scss=True, category='table', type='value', value='#FFFFFF'), table_border_top_include=OptionsInfo(scss=False, category='table', type='boolean', value=True), table_border_top_style=OptionsInfo(scss=True, category='table', type='value', value='solid'), table_border_top_width=OptionsInfo(scss=True, category='table', type='px', value='2px'), table_border_top_color=OptionsInfo(scss=True, category='table', type='value', value='#A8A8A8'), table_border_right_style=OptionsInfo(scss=True, category='table', type='value', value='none'), table_border_right_width=OptionsInfo(scss=True, category='table', type='px', value='2px'), table_border_right_color=OptionsInfo(scss=True, category='table', type='value', value='#D3D3D3'), table_border_bottom_include=OptionsInfo(scss=False, category='table', type='boolean', value=True), table_border_bottom_style=OptionsInfo(scss=True, category='table', type='value', value='solid'), table_border_bottom_width=OptionsInfo(scss=True, category='table', type='px', value='2px'), table_border_bottom_color=OptionsInfo(scss=True, category='table', type='value', value='#A8A8A8'), table_border_left_style=OptionsInfo(scss=True, category='table', type='value', value='none'), table_border_left_width=OptionsInfo(scss=True, category='table', type='px', value='2px'), table_border_left_color=OptionsInfo(scss=True, category='table', type='value', value='#D3D3D3'), heading_background_color=OptionsInfo(scss=True, category='heading', type='value', value=None), heading_align=OptionsInfo(scss=True, category='heading', type='value', value='center'), heading_title_font_size=OptionsInfo(scss=True, category='heading', type='px', value='125%'), heading_title_font_weight=OptionsInfo(scss=True, category='heading', type='value', value='initial'), heading_subtitle_font_size=OptionsInfo(scss=True, category='heading', type='px', value='85%'), heading_subtitle_font_weight=OptionsInfo(scss=True, category='heading', type='value', value='initial'), heading_padding=OptionsInfo(scss=True, category='heading', type='px', value='4px'), heading_padding_horizontal=OptionsInfo(scss=True, category='heading', type='px', value='5px'), heading_border_bottom_style=OptionsInfo(scss=True, category='heading', type='value', value='solid'), heading_border_bottom_width=OptionsInfo(scss=True, category='heading', type='px', value='2px'), heading_border_bottom_color=OptionsInfo(scss=True, category='heading', type='value', value='#D3D3D3'), heading_border_lr_style=OptionsInfo(scss=True, category='heading', type='value', value='none'), heading_border_lr_width=OptionsInfo(scss=True, category='heading', type='px', value='1px'), heading_border_lr_color=OptionsInfo(scss=True, category='heading', type='value', value='#D3D3D3'), column_labels_background_color=OptionsInfo(scss=True, category='column_labels', type='value', value=None), column_labels_font_size=OptionsInfo(scss=True, category='column_labels', type='px', value='100%'), column_labels_font_weight=OptionsInfo(scss=True, category='column_labels', type='value', value='normal'), column_labels_text_transform=OptionsInfo(scss=True, category='column_labels', type='value', value='inherit'), column_labels_padding=OptionsInfo(scss=True, category='column_labels', type='px', value='5px'), column_labels_padding_horizontal=OptionsInfo(scss=True, category='column_labels', type='px', value='5px'), column_labels_vlines_style=OptionsInfo(scss=True, category='table_body', type='value', value='none'), column_labels_vlines_width=OptionsInfo(scss=True, category='table_body', type='px', value='1px'), column_labels_vlines_color=OptionsInfo(scss=True, category='table_body', type='value', value='#D3D3D3'), column_labels_border_top_style=OptionsInfo(scss=True, category='column_labels', type='value', value='solid'), column_labels_border_top_width=OptionsInfo(scss=True, category='column_labels', type='px', value='2px'), column_labels_border_top_color=OptionsInfo(scss=True, category='column_labels', type='value', value='#D3D3D3'), column_labels_border_bottom_style=OptionsInfo(scss=True, category='column_labels', type='value', value='solid'), column_labels_border_bottom_width=OptionsInfo(scss=True, category='column_labels', type='px', value='2px'), column_labels_border_bottom_color=OptionsInfo(scss=True, category='column_labels', type='value', value='#D3D3D3'), column_labels_border_lr_style=OptionsInfo(scss=True, category='column_labels', type='value', value='none'), column_labels_border_lr_width=OptionsInfo(scss=True, category='column_labels', type='px', value='1px'), column_labels_border_lr_color=OptionsInfo(scss=True, category='column_labels', type='value', value='#D3D3D3'), column_labels_hidden=OptionsInfo(scss=False, category='column_labels', type='boolean', value=False), row_group_background_color=OptionsInfo(scss=True, category='row_group', type='value', value=None), row_group_font_size=OptionsInfo(scss=True, category='row_group', type='px', value='100%'), row_group_font_weight=OptionsInfo(scss=True, category='row_group', type='value', value='initial'), row_group_text_transform=OptionsInfo(scss=True, category='row_group', type='value', value='inherit'), row_group_padding=OptionsInfo(scss=True, category='row_group', type='px', value='8px'), row_group_padding_horizontal=OptionsInfo(scss=True, category='row_group', type='px', value='5px'), row_group_border_top_style=OptionsInfo(scss=True, category='row_group', type='value', value='solid'), row_group_border_top_width=OptionsInfo(scss=True, category='row_group', type='px', value='2px'), row_group_border_top_color=OptionsInfo(scss=True, category='row_group', type='value', value='#D3D3D3'), row_group_border_right_style=OptionsInfo(scss=True, category='row_group', type='value', value='none'), row_group_border_right_width=OptionsInfo(scss=True, category='row_group', type='px', value='1px'), row_group_border_right_color=OptionsInfo(scss=True, category='row_group', type='value', value='#D3D3D3'), row_group_border_bottom_style=OptionsInfo(scss=True, category='row_group', type='value', value='solid'), row_group_border_bottom_width=OptionsInfo(scss=True, category='row_group', type='px', value='2px'), row_group_border_bottom_color=OptionsInfo(scss=True, category='row_group', type='value', value='#D3D3D3'), row_group_border_left_style=OptionsInfo(scss=True, category='row_group', type='value', value='none'), row_group_border_left_width=OptionsInfo(scss=True, category='row_group', type='px', value='1px'), row_group_border_left_color=OptionsInfo(scss=True, category='row_group', type='value', value='#D3D3D3'), row_group_as_column=OptionsInfo(scss=False, category='row_group', type='boolean', value=False), table_body_hlines_style=OptionsInfo(scss=True, category='table_body', type='value', value='solid'), table_body_hlines_width=OptionsInfo(scss=True, category='table_body', type='px', value='1px'), table_body_hlines_color=OptionsInfo(scss=True, category='table_body', type='value', value='#D3D3D3'), table_body_vlines_style=OptionsInfo(scss=True, category='table_body', type='value', value='none'), table_body_vlines_width=OptionsInfo(scss=True, category='table_body', type='px', value='1px'), table_body_vlines_color=OptionsInfo(scss=True, category='table_body', type='value', value='#D3D3D3'), table_body_border_top_style=OptionsInfo(scss=True, category='table_body', type='value', value='solid'), table_body_border_top_width=OptionsInfo(scss=True, category='table_body', type='px', value='2px'), table_body_border_top_color=OptionsInfo(scss=True, category='table_body', type='value', value='#D3D3D3'), table_body_border_bottom_style=OptionsInfo(scss=True, category='table_body', type='value', value='solid'), table_body_border_bottom_width=OptionsInfo(scss=True, category='table_body', type='px', value='2px'), table_body_border_bottom_color=OptionsInfo(scss=True, category='table_body', type='value', value='#D3D3D3'), data_row_padding=OptionsInfo(scss=True, category='data_row', type='px', value='8px'), data_row_padding_horizontal=OptionsInfo(scss=True, category='data_row', type='px', value='5px'), stub_background_color=OptionsInfo(scss=True, category='stub', type='value', value=None), stub_font_size=OptionsInfo(scss=True, category='stub', type='px', value='100%'), stub_font_weight=OptionsInfo(scss=True, category='stub', type='value', value='initial'), stub_text_transform=OptionsInfo(scss=True, category='stub', type='value', value='inherit'), stub_border_style=OptionsInfo(scss=True, category='stub', type='value', value='solid'), stub_border_width=OptionsInfo(scss=True, category='stub', type='px', value='2px'), stub_border_color=OptionsInfo(scss=True, category='stub', type='value', value='#D3D3D3'), stub_row_group_background_color=OptionsInfo(scss=True, category='stub', type='value', value=None), stub_row_group_font_size=OptionsInfo(scss=True, category='stub', type='px', value='100%'), stub_row_group_font_weight=OptionsInfo(scss=True, category='stub', type='value', value='initial'), stub_row_group_text_transform=OptionsInfo(scss=True, category='stub', type='value', value='inherit'), stub_row_group_border_style=OptionsInfo(scss=True, category='stub', type='value', value='solid'), stub_row_group_border_width=OptionsInfo(scss=True, category='stub', type='px', value='2px'), stub_row_group_border_color=OptionsInfo(scss=True, category='stub', type='value', value='#D3D3D3'), source_notes_padding=OptionsInfo(scss=True, category='source_notes', type='px', value='4px'), source_notes_padding_horizontal=OptionsInfo(scss=True, category='source_notes', type='px', value='5px'), source_notes_background_color=OptionsInfo(scss=True, category='source_notes', type='value', value=None), source_notes_font_size=OptionsInfo(scss=True, category='source_notes', type='px', value='90%'), source_notes_border_bottom_style=OptionsInfo(scss=True, category='source_notes', type='value', value='none'), source_notes_border_bottom_width=OptionsInfo(scss=True, category='source_notes', type='px', value='2px'), source_notes_border_bottom_color=OptionsInfo(scss=True, category='source_notes', type='value', value='#D3D3D3'), source_notes_border_lr_style=OptionsInfo(scss=True, category='source_notes', type='value', value='none'), source_notes_border_lr_width=OptionsInfo(scss=True, category='source_notes', type='px', value='2px'), source_notes_border_lr_color=OptionsInfo(scss=True, category='source_notes', type='value', value='#D3D3D3'), source_notes_multiline=OptionsInfo(scss=False, category='source_notes', type='boolean', value=True), source_notes_sep=OptionsInfo(scss=False, category='source_notes', type='value', value=' '), row_striping_background_color=OptionsInfo(scss=True, category='row', type='value', value='rgba(128,128,128,0.05)'), row_striping_include_stub=OptionsInfo(scss=False, category='row', type='boolean', value=False), row_striping_include_table_body=OptionsInfo(scss=False, category='row', type='boolean', value=False), container_width=OptionsInfo(scss=False, category='container', type='px', value='auto'), container_height=OptionsInfo(scss=False, category='container', type='px', value='auto'), container_padding_x=OptionsInfo(scss=False, category='container', type='px', value='0px'), container_padding_y=OptionsInfo(scss=False, category='container', type='px', value='10px'), container_overflow_x=OptionsInfo(scss=False, category='container', type='overflow', value='auto'), container_overflow_y=OptionsInfo(scss=False, category='container', type='overflow', value='auto'), quarto_disable_processing=OptionsInfo(scss=False, category='quarto', type='logical', value=False), quarto_use_bootstrap=OptionsInfo(scss=False, category='quarto', type='logical', value=False)), _has_built=False)"
      ]
     },
     "execution_count": 21,
     "metadata": {},
     "output_type": "execute_result"
    }
   ],
   "source": [
    "market_share = annual_sales_pivot.with_columns(\n",
    "    pl.col('*').exclude('year') / pl.col('Total')\n",
    ")\n",
    "\n",
    "(\n",
    "    GT(market_share, rowname_col=\"year\")\n",
    "    .tab_header(title=\"Annual Market Share (%)\")\n",
    "    .tab_stubhead(label=\"Year\")\n",
    "    .fmt_percent()\n",
    "    .cols_hide('Total')\n",
    "    .data_color(\n",
    "        domain=[0, 0.5],\n",
    "        palette=[\"white\", \"rebeccapurple\"]\n",
    "    )    \n",
    ")"
   ]
  },
  {
   "cell_type": "code",
   "execution_count": 22,
   "metadata": {},
   "outputs": [
    {
     "data": {
      "text/html": [
       "<div id=\"cblfptdywh\" style=\"padding-left:0px;padding-right:0px;padding-top:10px;padding-bottom:10px;overflow-x:auto;overflow-y:auto;width:auto;height:auto;\">\n",
       "<style>\n",
       "#cblfptdywh table {\n",
       "          font-family: -apple-system, BlinkMacSystemFont, 'Segoe UI', Roboto, Oxygen, Ubuntu, Cantarell, 'Helvetica Neue', 'Fira Sans', 'Droid Sans', Arial, sans-serif;\n",
       "          -webkit-font-smoothing: antialiased;\n",
       "          -moz-osx-font-smoothing: grayscale;\n",
       "        }\n",
       "\n",
       "#cblfptdywh thead, tbody, tfoot, tr, td, th { border-style: none !important; }\n",
       " tr { background-color: transparent !important; }\n",
       "#cblfptdywh p { margin: 0 !important; padding: 0 !important; }\n",
       " #cblfptdywh .gt_table { display: table !important; border-collapse: collapse !important; line-height: normal !important; margin-left: auto !important; margin-right: auto !important; color: #333333 !important; font-size: 16px !important; font-weight: normal !important; font-style: normal !important; background-color: #FFFFFF !important; width: auto !important; border-top-style: solid !important; border-top-width: 2px !important; border-top-color: #A8A8A8 !important; border-right-style: none !important; border-right-width: 2px !important; border-right-color: #D3D3D3 !important; border-bottom-style: solid !important; border-bottom-width: 2px !important; border-bottom-color: #A8A8A8 !important; border-left-style: none !important; border-left-width: 2px !important; border-left-color: #D3D3D3 !important; }\n",
       " #cblfptdywh .gt_caption { padding-top: 4px !important; padding-bottom: 4px !important; }\n",
       " #cblfptdywh .gt_title { color: #333333 !important; font-size: 125% !important; font-weight: initial !important; padding-top: 4px !important; padding-bottom: 4px !important; padding-left: 5px !important; padding-right: 5px !important; border-bottom-color: #FFFFFF !important; border-bottom-width: 0 !important; }\n",
       " #cblfptdywh .gt_subtitle { color: #333333 !important; font-size: 85% !important; font-weight: initial !important; padding-top: 3px !important; padding-bottom: 5px !important; padding-left: 5px !important; padding-right: 5px !important; border-top-color: #FFFFFF !important; border-top-width: 0 !important; }\n",
       " #cblfptdywh .gt_heading { background-color: #FFFFFF !important; text-align: center !important; border-bottom-color: #FFFFFF !important; border-left-style: none !important; border-left-width: 1px !important; border-left-color: #D3D3D3 !important; border-right-style: none !important; border-right-width: 1px !important; border-right-color: #D3D3D3 !important; }\n",
       " #cblfptdywh .gt_bottom_border { border-bottom-style: solid !important; border-bottom-width: 2px !important; border-bottom-color: #D3D3D3 !important; }\n",
       " #cblfptdywh .gt_col_headings { border-top-style: solid !important; border-top-width: 2px !important; border-top-color: #D3D3D3 !important; border-bottom-style: solid !important; border-bottom-width: 2px !important; border-bottom-color: #D3D3D3 !important; border-left-style: none !important; border-left-width: 1px !important; border-left-color: #D3D3D3 !important; border-right-style: none !important; border-right-width: 1px !important; border-right-color: #D3D3D3 !important; }\n",
       " #cblfptdywh .gt_col_heading { color: #333333 !important; background-color: #FFFFFF !important; font-size: 100% !important; font-weight: normal !important; text-transform: inherit !important; border-left-style: none !important; border-left-width: 1px !important; border-left-color: #D3D3D3 !important; border-right-style: none !important; border-right-width: 1px !important; border-right-color: #D3D3D3 !important; vertical-align: bottom !important; padding-top: 5px !important; padding-bottom: 5px !important; padding-left: 5px !important; padding-right: 5px !important; overflow-x: hidden !important; }\n",
       " #cblfptdywh .gt_column_spanner_outer { color: #333333 !important; background-color: #FFFFFF !important; font-size: 100% !important; font-weight: normal !important; text-transform: inherit !important; padding-top: 0 !important; padding-bottom: 0 !important; padding-left: 4px !important; padding-right: 4px !important; }\n",
       " #cblfptdywh .gt_column_spanner_outer:first-child { padding-left: 0 !important; }\n",
       " #cblfptdywh .gt_column_spanner_outer:last-child { padding-right: 0 !important; }\n",
       " #cblfptdywh .gt_column_spanner { border-bottom-style: solid !important; border-bottom-width: 2px !important; border-bottom-color: #D3D3D3 !important; vertical-align: bottom !important; padding-top: 5px !important; padding-bottom: 5px !important; overflow-x: hidden !important; display: inline-block !important; width: 100% !important; }\n",
       " #cblfptdywh .gt_spanner_row { border-bottom-style: hidden !important; }\n",
       " #cblfptdywh .gt_group_heading { padding-top: 8px !important; padding-bottom: 8px !important; padding-left: 5px !important; padding-right: 5px !important; color: #333333 !important; background-color: #FFFFFF !important; font-size: 100% !important; font-weight: initial !important; text-transform: inherit !important; border-top-style: solid !important; border-top-width: 2px !important; border-top-color: #D3D3D3 !important; border-bottom-style: solid !important; border-bottom-width: 2px !important; border-bottom-color: #D3D3D3 !important; border-left-style: none !important; border-left-width: 1px !important; border-left-color: #D3D3D3 !important; border-right-style: none !important; border-right-width: 1px !important; border-right-color: #D3D3D3 !important; vertical-align: middle !important; text-align: left !important; }\n",
       " #cblfptdywh .gt_empty_group_heading { padding: 0.5px !important; color: #333333 !important; background-color: #FFFFFF !important; font-size: 100% !important; font-weight: initial !important; border-top-style: solid !important; border-top-width: 2px !important; border-top-color: #D3D3D3 !important; border-bottom-style: solid !important; border-bottom-width: 2px !important; border-bottom-color: #D3D3D3 !important; vertical-align: middle !important; }\n",
       " #cblfptdywh .gt_from_md> :first-child { margin-top: 0 !important; }\n",
       " #cblfptdywh .gt_from_md> :last-child { margin-bottom: 0 !important; }\n",
       " #cblfptdywh .gt_row { padding-top: 8px !important; padding-bottom: 8px !important; padding-left: 5px !important; padding-right: 5px !important; margin: 10px !important; border-top-style: solid !important; border-top-width: 1px !important; border-top-color: #D3D3D3 !important; border-left-style: none !important; border-left-width: 1px !important; border-left-color: #D3D3D3 !important; border-right-style: none !important; border-right-width: 1px !important; border-right-color: #D3D3D3 !important; vertical-align: middle !important; overflow-x: hidden !important; }\n",
       " #cblfptdywh .gt_stub { color: #333333 !important; background-color: #FFFFFF !important; font-size: 100% !important; font-weight: initial !important; text-transform: inherit !important; border-right-style: solid !important; border-right-width: 2px !important; border-right-color: #D3D3D3 !important; padding-left: 5px !important; padding-right: 5px !important; }\n",
       " #cblfptdywh .gt_stub_row_group { color: #333333 !important; background-color: #FFFFFF !important; font-size: 100% !important; font-weight: initial !important; text-transform: inherit !important; border-right-style: solid !important; border-right-width: 2px !important; border-right-color: #D3D3D3 !important; padding-left: 5px !important; padding-right: 5px !important; vertical-align: top !important; }\n",
       " #cblfptdywh .gt_row_group_first td { border-top-width: 2px !important; }\n",
       " #cblfptdywh .gt_row_group_first th { border-top-width: 2px !important; }\n",
       " #cblfptdywh .gt_striped { background-color: rgba(128,128,128,0.05) !important; }\n",
       " #cblfptdywh .gt_table_body { border-top-style: solid !important; border-top-width: 2px !important; border-top-color: #D3D3D3 !important; border-bottom-style: solid !important; border-bottom-width: 2px !important; border-bottom-color: #D3D3D3 !important; }\n",
       " #cblfptdywh .gt_sourcenotes { color: #333333 !important; background-color: #FFFFFF !important; border-bottom-style: none !important; border-bottom-width: 2px !important; border-bottom-color: #D3D3D3 !important; border-left-style: none !important; border-left-width: 2px !important; border-left-color: #D3D3D3 !important; border-right-style: none !important; border-right-width: 2px !important; border-right-color: #D3D3D3 !important; }\n",
       " #cblfptdywh .gt_sourcenote { font-size: 90% !important; padding-top: 4px !important; padding-bottom: 4px !important; padding-left: 5px !important; padding-right: 5px !important; text-align: left !important; }\n",
       " #cblfptdywh .gt_left { text-align: left !important; }\n",
       " #cblfptdywh .gt_center { text-align: center !important; }\n",
       " #cblfptdywh .gt_right { text-align: right !important; font-variant-numeric: tabular-nums !important; }\n",
       " #cblfptdywh .gt_font_normal { font-weight: normal !important; }\n",
       " #cblfptdywh .gt_font_bold { font-weight: bold !important; }\n",
       " #cblfptdywh .gt_font_italic { font-style: italic !important; }\n",
       " #cblfptdywh .gt_super { font-size: 65% !important; }\n",
       " #cblfptdywh .gt_footnote_marks { font-size: 75% !important; vertical-align: 0.4em !important; position: initial !important; }\n",
       " #cblfptdywh .gt_asterisk { font-size: 100% !important; vertical-align: 0 !important; }\n",
       " \n",
       "</style>\n",
       "<table class=\"gt_table\" data-quarto-disable-processing=\"false\" data-quarto-bootstrap=\"false\">\n",
       "<thead>\n",
       "\n",
       "  <tr class=\"gt_heading\">\n",
       "    <td colspan=\"2\" class=\"gt_heading gt_title gt_font_normal\">% Change in Market Share</td>\n",
       "  </tr>\n",
       "<tr class=\"gt_col_headings\">\n",
       "  <th class=\"gt_col_heading gt_columns_bottom_border gt_left\" rowspan=\"1\" colspan=\"1\" scope=\"col\" id=\"Brands\">Brands</th>\n",
       "  <th class=\"gt_col_heading gt_columns_bottom_border gt_right\" rowspan=\"1\" colspan=\"1\" scope=\"col\" id=\"% Change\">% Change</th>\n",
       "</tr>\n",
       "</thead>\n",
       "<tbody class=\"gt_table_body\">\n",
       "  <tr>\n",
       "    <th style=\"color: #000000; background-color: #808080;\" class=\"gt_row gt_left gt_stub\">Alpha</th>\n",
       "    <td style=\"color: #000000; background-color: #dbcee7;\" class=\"gt_row gt_right\">7.15%</td>\n",
       "  </tr>\n",
       "  <tr>\n",
       "    <th style=\"color: #000000; background-color: #808080;\" class=\"gt_row gt_left gt_stub\">Bravo</th>\n",
       "    <td style=\"color: #000000; background-color: #fff3dd;\" class=\"gt_row gt_right\">−3.94%</td>\n",
       "  </tr>\n",
       "  <tr>\n",
       "    <th style=\"color: #000000; background-color: #808080;\" class=\"gt_row gt_left gt_stub\">Charlie</th>\n",
       "    <td style=\"color: #000000; background-color: #ffbd45;\" class=\"gt_row gt_right\">−21.84%</td>\n",
       "  </tr>\n",
       "  <tr>\n",
       "    <th style=\"color: #000000; background-color: #808080;\" class=\"gt_row gt_left gt_stub\">Delta</th>\n",
       "    <td style=\"color: #000000; background-color: #ffdb99;\" class=\"gt_row gt_right\">−12.02%</td>\n",
       "  </tr>\n",
       "  <tr>\n",
       "    <th style=\"color: #000000; background-color: #808080;\" class=\"gt_row gt_left gt_stub\">Other</th>\n",
       "    <td style=\"color: #000000; background-color: #af95ca;\" class=\"gt_row gt_right\">15.64%</td>\n",
       "  </tr>\n",
       "</tbody>\n",
       "\n",
       "\n",
       "</table>\n",
       "\n",
       "</div>\n",
       "        "
      ],
      "text/plain": [
       "GT(_tbl_data=shape: (5, 3)\n",
       "┌──────┬─────────┬───────────┐\n",
       "│ year ┆ brand   ┆ % Change  │\n",
       "│ ---  ┆ ---     ┆ ---       │\n",
       "│ f64  ┆ str     ┆ f32       │\n",
       "╞══════╪═════════╪═══════════╡\n",
       "│ 2.0  ┆ Alpha   ┆ 0.071451  │\n",
       "│ 2.0  ┆ Bravo   ┆ -0.039414 │\n",
       "│ 2.0  ┆ Charlie ┆ -0.21836  │\n",
       "│ 2.0  ┆ Delta   ┆ -0.120181 │\n",
       "│ 2.0  ┆ Other   ┆ 0.156374  │\n",
       "└──────┴─────────┴───────────┘, _body=<great_tables._gt_data.Body object at 0x10db0fa10>, _boxhead=Boxhead([ColInfo(var='year', type=<ColInfoTypeEnum.hidden: 4>, column_label='year', column_align='right', column_width=None), ColInfo(var='brand', type=<ColInfoTypeEnum.stub: 2>, column_label='Y-o-Y % Change', column_align='left', column_width=None), ColInfo(var='% Change', type=<ColInfoTypeEnum.default: 1>, column_label='% Change', column_align='right', column_width=None)]), _stub=<great_tables._gt_data.Stub object at 0x10db150f0>, _spanners=Spanners([]), _heading=Heading(title='% Change in Market Share', subtitle=None, preheader=None), _stubhead='Brands', _source_notes=[], _footnotes=[], _styles=[StyleInfo(locname=LocBody(columns='year', rows=[0]), grpname=None, colname='year', rownum=0, colnum=None, styles=[CellStyleText(color='#000000', font=None, size=None, align=None, v_align=None, style=None, weight=None, stretch=None, decorate=None, transform=None, whitespace=None), CellStyleFill(color='#808080')]), StyleInfo(locname=LocBody(columns='year', rows=[1]), grpname=None, colname='year', rownum=1, colnum=None, styles=[CellStyleText(color='#000000', font=None, size=None, align=None, v_align=None, style=None, weight=None, stretch=None, decorate=None, transform=None, whitespace=None), CellStyleFill(color='#808080')]), StyleInfo(locname=LocBody(columns='year', rows=[2]), grpname=None, colname='year', rownum=2, colnum=None, styles=[CellStyleText(color='#000000', font=None, size=None, align=None, v_align=None, style=None, weight=None, stretch=None, decorate=None, transform=None, whitespace=None), CellStyleFill(color='#808080')]), StyleInfo(locname=LocBody(columns='year', rows=[3]), grpname=None, colname='year', rownum=3, colnum=None, styles=[CellStyleText(color='#000000', font=None, size=None, align=None, v_align=None, style=None, weight=None, stretch=None, decorate=None, transform=None, whitespace=None), CellStyleFill(color='#808080')]), StyleInfo(locname=LocBody(columns='year', rows=[4]), grpname=None, colname='year', rownum=4, colnum=None, styles=[CellStyleText(color='#000000', font=None, size=None, align=None, v_align=None, style=None, weight=None, stretch=None, decorate=None, transform=None, whitespace=None), CellStyleFill(color='#808080')]), StyleInfo(locname=LocBody(columns='brand', rows=[0]), grpname=None, colname='brand', rownum=0, colnum=None, styles=[CellStyleText(color='#000000', font=None, size=None, align=None, v_align=None, style=None, weight=None, stretch=None, decorate=None, transform=None, whitespace=None), CellStyleFill(color='#808080')]), StyleInfo(locname=LocBody(columns='brand', rows=[1]), grpname=None, colname='brand', rownum=1, colnum=None, styles=[CellStyleText(color='#000000', font=None, size=None, align=None, v_align=None, style=None, weight=None, stretch=None, decorate=None, transform=None, whitespace=None), CellStyleFill(color='#808080')]), StyleInfo(locname=LocBody(columns='brand', rows=[2]), grpname=None, colname='brand', rownum=2, colnum=None, styles=[CellStyleText(color='#000000', font=None, size=None, align=None, v_align=None, style=None, weight=None, stretch=None, decorate=None, transform=None, whitespace=None), CellStyleFill(color='#808080')]), StyleInfo(locname=LocBody(columns='brand', rows=[3]), grpname=None, colname='brand', rownum=3, colnum=None, styles=[CellStyleText(color='#000000', font=None, size=None, align=None, v_align=None, style=None, weight=None, stretch=None, decorate=None, transform=None, whitespace=None), CellStyleFill(color='#808080')]), StyleInfo(locname=LocBody(columns='brand', rows=[4]), grpname=None, colname='brand', rownum=4, colnum=None, styles=[CellStyleText(color='#000000', font=None, size=None, align=None, v_align=None, style=None, weight=None, stretch=None, decorate=None, transform=None, whitespace=None), CellStyleFill(color='#808080')]), StyleInfo(locname=LocBody(columns='% Change', rows=[0]), grpname=None, colname='% Change', rownum=0, colnum=None, styles=[CellStyleText(color='#000000', font=None, size=None, align=None, v_align=None, style=None, weight=None, stretch=None, decorate=None, transform=None, whitespace=None), CellStyleFill(color='#dbcee7')]), StyleInfo(locname=LocBody(columns='% Change', rows=[1]), grpname=None, colname='% Change', rownum=1, colnum=None, styles=[CellStyleText(color='#000000', font=None, size=None, align=None, v_align=None, style=None, weight=None, stretch=None, decorate=None, transform=None, whitespace=None), CellStyleFill(color='#fff3dd')]), StyleInfo(locname=LocBody(columns='% Change', rows=[2]), grpname=None, colname='% Change', rownum=2, colnum=None, styles=[CellStyleText(color='#000000', font=None, size=None, align=None, v_align=None, style=None, weight=None, stretch=None, decorate=None, transform=None, whitespace=None), CellStyleFill(color='#ffbd45')]), StyleInfo(locname=LocBody(columns='% Change', rows=[3]), grpname=None, colname='% Change', rownum=3, colnum=None, styles=[CellStyleText(color='#000000', font=None, size=None, align=None, v_align=None, style=None, weight=None, stretch=None, decorate=None, transform=None, whitespace=None), CellStyleFill(color='#ffdb99')]), StyleInfo(locname=LocBody(columns='% Change', rows=[4]), grpname=None, colname='% Change', rownum=4, colnum=None, styles=[CellStyleText(color='#000000', font=None, size=None, align=None, v_align=None, style=None, weight=None, stretch=None, decorate=None, transform=None, whitespace=None), CellStyleFill(color='#af95ca')])], _locale=<great_tables._gt_data.Locale object at 0x10db15f30>, _formats=[<great_tables._gt_data.FormatInfo object at 0x10db15ba0>], _substitutions=[], _options=Options(table_id=OptionsInfo(scss=False, category='table', type='value', value=None), table_caption=OptionsInfo(scss=False, category='table', type='value', value=None), table_width=OptionsInfo(scss=True, category='table', type='px', value='auto'), table_layout=OptionsInfo(scss=True, category='table', type='value', value='fixed'), table_margin_left=OptionsInfo(scss=True, category='table', type='px', value='auto'), table_margin_right=OptionsInfo(scss=True, category='table', type='px', value='auto'), table_background_color=OptionsInfo(scss=True, category='table', type='value', value='#FFFFFF'), table_additional_css=OptionsInfo(scss=False, category='table', type='values', value=[]), table_font_names=OptionsInfo(scss=False, category='table', type='values', value=['-apple-system', 'BlinkMacSystemFont', 'Segoe UI', 'Roboto', 'Oxygen', 'Ubuntu', 'Cantarell', 'Helvetica Neue', 'Fira Sans', 'Droid Sans', 'Arial', 'sans-serif']), table_font_size=OptionsInfo(scss=True, category='table', type='px', value='16px'), table_font_weight=OptionsInfo(scss=True, category='table', type='value', value='normal'), table_font_style=OptionsInfo(scss=True, category='table', type='value', value='normal'), table_font_color=OptionsInfo(scss=True, category='table', type='value', value='#333333'), table_font_color_light=OptionsInfo(scss=True, category='table', type='value', value='#FFFFFF'), table_border_top_include=OptionsInfo(scss=False, category='table', type='boolean', value=True), table_border_top_style=OptionsInfo(scss=True, category='table', type='value', value='solid'), table_border_top_width=OptionsInfo(scss=True, category='table', type='px', value='2px'), table_border_top_color=OptionsInfo(scss=True, category='table', type='value', value='#A8A8A8'), table_border_right_style=OptionsInfo(scss=True, category='table', type='value', value='none'), table_border_right_width=OptionsInfo(scss=True, category='table', type='px', value='2px'), table_border_right_color=OptionsInfo(scss=True, category='table', type='value', value='#D3D3D3'), table_border_bottom_include=OptionsInfo(scss=False, category='table', type='boolean', value=True), table_border_bottom_style=OptionsInfo(scss=True, category='table', type='value', value='solid'), table_border_bottom_width=OptionsInfo(scss=True, category='table', type='px', value='2px'), table_border_bottom_color=OptionsInfo(scss=True, category='table', type='value', value='#A8A8A8'), table_border_left_style=OptionsInfo(scss=True, category='table', type='value', value='none'), table_border_left_width=OptionsInfo(scss=True, category='table', type='px', value='2px'), table_border_left_color=OptionsInfo(scss=True, category='table', type='value', value='#D3D3D3'), heading_background_color=OptionsInfo(scss=True, category='heading', type='value', value=None), heading_align=OptionsInfo(scss=True, category='heading', type='value', value='center'), heading_title_font_size=OptionsInfo(scss=True, category='heading', type='px', value='125%'), heading_title_font_weight=OptionsInfo(scss=True, category='heading', type='value', value='initial'), heading_subtitle_font_size=OptionsInfo(scss=True, category='heading', type='px', value='85%'), heading_subtitle_font_weight=OptionsInfo(scss=True, category='heading', type='value', value='initial'), heading_padding=OptionsInfo(scss=True, category='heading', type='px', value='4px'), heading_padding_horizontal=OptionsInfo(scss=True, category='heading', type='px', value='5px'), heading_border_bottom_style=OptionsInfo(scss=True, category='heading', type='value', value='solid'), heading_border_bottom_width=OptionsInfo(scss=True, category='heading', type='px', value='2px'), heading_border_bottom_color=OptionsInfo(scss=True, category='heading', type='value', value='#D3D3D3'), heading_border_lr_style=OptionsInfo(scss=True, category='heading', type='value', value='none'), heading_border_lr_width=OptionsInfo(scss=True, category='heading', type='px', value='1px'), heading_border_lr_color=OptionsInfo(scss=True, category='heading', type='value', value='#D3D3D3'), column_labels_background_color=OptionsInfo(scss=True, category='column_labels', type='value', value=None), column_labels_font_size=OptionsInfo(scss=True, category='column_labels', type='px', value='100%'), column_labels_font_weight=OptionsInfo(scss=True, category='column_labels', type='value', value='normal'), column_labels_text_transform=OptionsInfo(scss=True, category='column_labels', type='value', value='inherit'), column_labels_padding=OptionsInfo(scss=True, category='column_labels', type='px', value='5px'), column_labels_padding_horizontal=OptionsInfo(scss=True, category='column_labels', type='px', value='5px'), column_labels_vlines_style=OptionsInfo(scss=True, category='table_body', type='value', value='none'), column_labels_vlines_width=OptionsInfo(scss=True, category='table_body', type='px', value='1px'), column_labels_vlines_color=OptionsInfo(scss=True, category='table_body', type='value', value='#D3D3D3'), column_labels_border_top_style=OptionsInfo(scss=True, category='column_labels', type='value', value='solid'), column_labels_border_top_width=OptionsInfo(scss=True, category='column_labels', type='px', value='2px'), column_labels_border_top_color=OptionsInfo(scss=True, category='column_labels', type='value', value='#D3D3D3'), column_labels_border_bottom_style=OptionsInfo(scss=True, category='column_labels', type='value', value='solid'), column_labels_border_bottom_width=OptionsInfo(scss=True, category='column_labels', type='px', value='2px'), column_labels_border_bottom_color=OptionsInfo(scss=True, category='column_labels', type='value', value='#D3D3D3'), column_labels_border_lr_style=OptionsInfo(scss=True, category='column_labels', type='value', value='none'), column_labels_border_lr_width=OptionsInfo(scss=True, category='column_labels', type='px', value='1px'), column_labels_border_lr_color=OptionsInfo(scss=True, category='column_labels', type='value', value='#D3D3D3'), column_labels_hidden=OptionsInfo(scss=False, category='column_labels', type='boolean', value=False), row_group_background_color=OptionsInfo(scss=True, category='row_group', type='value', value=None), row_group_font_size=OptionsInfo(scss=True, category='row_group', type='px', value='100%'), row_group_font_weight=OptionsInfo(scss=True, category='row_group', type='value', value='initial'), row_group_text_transform=OptionsInfo(scss=True, category='row_group', type='value', value='inherit'), row_group_padding=OptionsInfo(scss=True, category='row_group', type='px', value='8px'), row_group_padding_horizontal=OptionsInfo(scss=True, category='row_group', type='px', value='5px'), row_group_border_top_style=OptionsInfo(scss=True, category='row_group', type='value', value='solid'), row_group_border_top_width=OptionsInfo(scss=True, category='row_group', type='px', value='2px'), row_group_border_top_color=OptionsInfo(scss=True, category='row_group', type='value', value='#D3D3D3'), row_group_border_right_style=OptionsInfo(scss=True, category='row_group', type='value', value='none'), row_group_border_right_width=OptionsInfo(scss=True, category='row_group', type='px', value='1px'), row_group_border_right_color=OptionsInfo(scss=True, category='row_group', type='value', value='#D3D3D3'), row_group_border_bottom_style=OptionsInfo(scss=True, category='row_group', type='value', value='solid'), row_group_border_bottom_width=OptionsInfo(scss=True, category='row_group', type='px', value='2px'), row_group_border_bottom_color=OptionsInfo(scss=True, category='row_group', type='value', value='#D3D3D3'), row_group_border_left_style=OptionsInfo(scss=True, category='row_group', type='value', value='none'), row_group_border_left_width=OptionsInfo(scss=True, category='row_group', type='px', value='1px'), row_group_border_left_color=OptionsInfo(scss=True, category='row_group', type='value', value='#D3D3D3'), row_group_as_column=OptionsInfo(scss=False, category='row_group', type='boolean', value=False), table_body_hlines_style=OptionsInfo(scss=True, category='table_body', type='value', value='solid'), table_body_hlines_width=OptionsInfo(scss=True, category='table_body', type='px', value='1px'), table_body_hlines_color=OptionsInfo(scss=True, category='table_body', type='value', value='#D3D3D3'), table_body_vlines_style=OptionsInfo(scss=True, category='table_body', type='value', value='none'), table_body_vlines_width=OptionsInfo(scss=True, category='table_body', type='px', value='1px'), table_body_vlines_color=OptionsInfo(scss=True, category='table_body', type='value', value='#D3D3D3'), table_body_border_top_style=OptionsInfo(scss=True, category='table_body', type='value', value='solid'), table_body_border_top_width=OptionsInfo(scss=True, category='table_body', type='px', value='2px'), table_body_border_top_color=OptionsInfo(scss=True, category='table_body', type='value', value='#D3D3D3'), table_body_border_bottom_style=OptionsInfo(scss=True, category='table_body', type='value', value='solid'), table_body_border_bottom_width=OptionsInfo(scss=True, category='table_body', type='px', value='2px'), table_body_border_bottom_color=OptionsInfo(scss=True, category='table_body', type='value', value='#D3D3D3'), data_row_padding=OptionsInfo(scss=True, category='data_row', type='px', value='8px'), data_row_padding_horizontal=OptionsInfo(scss=True, category='data_row', type='px', value='5px'), stub_background_color=OptionsInfo(scss=True, category='stub', type='value', value=None), stub_font_size=OptionsInfo(scss=True, category='stub', type='px', value='100%'), stub_font_weight=OptionsInfo(scss=True, category='stub', type='value', value='initial'), stub_text_transform=OptionsInfo(scss=True, category='stub', type='value', value='inherit'), stub_border_style=OptionsInfo(scss=True, category='stub', type='value', value='solid'), stub_border_width=OptionsInfo(scss=True, category='stub', type='px', value='2px'), stub_border_color=OptionsInfo(scss=True, category='stub', type='value', value='#D3D3D3'), stub_row_group_background_color=OptionsInfo(scss=True, category='stub', type='value', value=None), stub_row_group_font_size=OptionsInfo(scss=True, category='stub', type='px', value='100%'), stub_row_group_font_weight=OptionsInfo(scss=True, category='stub', type='value', value='initial'), stub_row_group_text_transform=OptionsInfo(scss=True, category='stub', type='value', value='inherit'), stub_row_group_border_style=OptionsInfo(scss=True, category='stub', type='value', value='solid'), stub_row_group_border_width=OptionsInfo(scss=True, category='stub', type='px', value='2px'), stub_row_group_border_color=OptionsInfo(scss=True, category='stub', type='value', value='#D3D3D3'), source_notes_padding=OptionsInfo(scss=True, category='source_notes', type='px', value='4px'), source_notes_padding_horizontal=OptionsInfo(scss=True, category='source_notes', type='px', value='5px'), source_notes_background_color=OptionsInfo(scss=True, category='source_notes', type='value', value=None), source_notes_font_size=OptionsInfo(scss=True, category='source_notes', type='px', value='90%'), source_notes_border_bottom_style=OptionsInfo(scss=True, category='source_notes', type='value', value='none'), source_notes_border_bottom_width=OptionsInfo(scss=True, category='source_notes', type='px', value='2px'), source_notes_border_bottom_color=OptionsInfo(scss=True, category='source_notes', type='value', value='#D3D3D3'), source_notes_border_lr_style=OptionsInfo(scss=True, category='source_notes', type='value', value='none'), source_notes_border_lr_width=OptionsInfo(scss=True, category='source_notes', type='px', value='2px'), source_notes_border_lr_color=OptionsInfo(scss=True, category='source_notes', type='value', value='#D3D3D3'), source_notes_multiline=OptionsInfo(scss=False, category='source_notes', type='boolean', value=True), source_notes_sep=OptionsInfo(scss=False, category='source_notes', type='value', value=' '), row_striping_background_color=OptionsInfo(scss=True, category='row', type='value', value='rgba(128,128,128,0.05)'), row_striping_include_stub=OptionsInfo(scss=False, category='row', type='boolean', value=False), row_striping_include_table_body=OptionsInfo(scss=False, category='row', type='boolean', value=False), container_width=OptionsInfo(scss=False, category='container', type='px', value='auto'), container_height=OptionsInfo(scss=False, category='container', type='px', value='auto'), container_padding_x=OptionsInfo(scss=False, category='container', type='px', value='0px'), container_padding_y=OptionsInfo(scss=False, category='container', type='px', value='10px'), container_overflow_x=OptionsInfo(scss=False, category='container', type='overflow', value='auto'), container_overflow_y=OptionsInfo(scss=False, category='container', type='overflow', value='auto'), quarto_disable_processing=OptionsInfo(scss=False, category='quarto', type='logical', value=False), quarto_use_bootstrap=OptionsInfo(scss=False, category='quarto', type='logical', value=False)), _has_built=False)"
      ]
     },
     "execution_count": 22,
     "metadata": {},
     "output_type": "execute_result"
    }
   ],
   "source": [
    "annual_change_share = market_share.drop('Total').with_columns(\n",
    "    pl.col('*').exclude('year').pct_change()\n",
    ").filter(\n",
    "    pl.col('year') == 2\n",
    ").unpivot(\n",
    "    index=\"year\",  # Keep 'year' as a fixed identifier\n",
    "    value_name='% Change',  \n",
    "    variable_name='brand'\n",
    ")\n",
    "\n",
    "(\n",
    "    GT(annual_change_share, rowname_col='brand')\n",
    "    .tab_header(title='% Change in Market Share')\n",
    "    .tab_stubhead(label=\"Brands\")\n",
    "    .fmt_percent()\n",
    "    .data_color(\n",
    "        domain=[-0.3, 0.3],\n",
    "        palette=['orange', 'white', 'rebeccapurple']\n",
    "    ) \n",
    "    .cols_hide('year')   \n",
    "    .cols_label(brand='Y-o-Y % Change')\n",
    ")"
   ]
  },
  {
   "cell_type": "code",
   "execution_count": 23,
   "metadata": {},
   "outputs": [
    {
     "data": {
      "application/vnd.vegalite.v5+json": {
       "$schema": "https://vega.github.io/schema/vega-lite/v5.20.1.json",
       "config": {
        "view": {
         "continuousHeight": 300,
         "continuousWidth": 300
        }
       },
       "data": {
        "name": "data-91b8feb11e2831868bd25a658d7f229d"
       },
       "datasets": {
        "data-91b8feb11e2831868bd25a658d7f229d": [
         {
          "% Change": 0.07145068049430847,
          "brand": "Alpha",
          "year": 2
         },
         {
          "% Change": -0.039413999766111374,
          "brand": "Bravo",
          "year": 2
         },
         {
          "% Change": -0.21836011111736298,
          "brand": "Charlie",
          "year": 2
         },
         {
          "% Change": -0.12018119543790817,
          "brand": "Delta",
          "year": 2
         },
         {
          "% Change": 0.15637443959712982,
          "brand": "Other",
          "year": 2
         }
        ]
       },
       "height": 250,
       "layer": [
        {
         "encoding": {
          "color": {
           "condition": {
            "test": "(datum['% Change'] > 0)",
            "value": "green"
           },
           "value": "red"
          },
          "text": {
           "field": "% Change",
           "format": ".1%",
           "type": "quantitative"
          },
          "x": {
           "axis": {
            "labelAngle": 0
           },
           "field": "brand",
           "type": "nominal"
          },
          "y": {
           "axis": {
            "format": ".0%"
           },
           "field": "% Change",
           "type": "quantitative"
          }
         },
         "mark": {
          "type": "bar"
         },
         "title": "% Change in Annual Market Share"
        },
        {
         "encoding": {
          "color": {
           "condition": {
            "test": "(datum['% Change'] > 0)",
            "value": "green"
           },
           "value": "red"
          },
          "text": {
           "field": "% Change",
           "format": ".1%",
           "type": "quantitative"
          },
          "x": {
           "axis": {
            "labelAngle": 0
           },
           "field": "brand",
           "type": "nominal"
          },
          "y": {
           "axis": {
            "format": ".0%"
           },
           "field": "% Change",
           "type": "quantitative"
          }
         },
         "mark": {
          "align": "center",
          "baseline": {
           "expr": "if((datum['% Change'] >= 0),'bottom','top')"
          },
          "dx": 0,
          "dy": {
           "expr": "if((datum['% Change'] >= 0),-3,3)"
          },
          "type": "text"
         },
         "title": "% Change in Annual Market Share"
        }
       ],
       "width": 650
      },
      "text/plain": [
       "<VegaLite 5 object>\n",
       "\n",
       "If you see this message, it means the renderer has not been properly enabled\n",
       "for the frontend that you are using. For more information, see\n",
       "https://altair-viz.github.io/user_guide/display_frontends.html#troubleshooting\n"
      ]
     },
     "metadata": {},
     "output_type": "display_data"
    }
   ],
   "source": [
    "base = alt.Chart(annual_change_share).encode(\n",
    "    x=alt.X(\"brand:N\", \n",
    "            axis=alt.Axis(labelAngle=0)\n",
    "    ),\n",
    "    y=alt.Y(\"% Change:Q\",\n",
    "            axis=alt.Axis(format=\".0%\")\n",
    "    ),\n",
    "    color=alt.condition(\n",
    "        alt.datum[\"% Change\"] > 0, # fixed this \n",
    "        alt.value(\"green\"),  # The positive color\n",
    "        alt.value(\"red\")  # The negative color\n",
    "    ),\n",
    "    text=alt.Text(\n",
    "        '% Change',\n",
    "        format=(\".1%\")\n",
    "    )\n",
    "        \n",
    ").properties(\n",
    "    width=650,\n",
    "    height=250,\n",
    "    title='% Change in Annual Market Share'\n",
    ")\n",
    "\n",
    "chart = base.mark_bar() + base.mark_text(align='center', \n",
    "                                 baseline=alt.expr(alt.expr.if_(alt.datum['% Change'] >= 0, 'bottom', 'top')),\n",
    "                                 dy=alt.expr(alt.expr.if_(alt.datum['% Change'] >= 0, -3, 3)),\n",
    "                                 dx=0)\n",
    "\n",
    "chart.show()"
   ]
  },
  {
   "cell_type": "markdown",
   "metadata": {},
   "source": [
    "#### Average SKU Price"
   ]
  },
  {
   "cell_type": "code",
   "execution_count": 24,
   "metadata": {},
   "outputs": [
    {
     "data": {
      "text/html": [
       "<div id=\"hoyctlfedk\" style=\"padding-left:0px;padding-right:0px;padding-top:10px;padding-bottom:10px;overflow-x:auto;overflow-y:auto;width:auto;height:auto;\">\n",
       "<style>\n",
       "#hoyctlfedk table {\n",
       "          font-family: -apple-system, BlinkMacSystemFont, 'Segoe UI', Roboto, Oxygen, Ubuntu, Cantarell, 'Helvetica Neue', 'Fira Sans', 'Droid Sans', Arial, sans-serif;\n",
       "          -webkit-font-smoothing: antialiased;\n",
       "          -moz-osx-font-smoothing: grayscale;\n",
       "        }\n",
       "\n",
       "#hoyctlfedk thead, tbody, tfoot, tr, td, th { border-style: none !important; }\n",
       " tr { background-color: transparent !important; }\n",
       "#hoyctlfedk p { margin: 0 !important; padding: 0 !important; }\n",
       " #hoyctlfedk .gt_table { display: table !important; border-collapse: collapse !important; line-height: normal !important; margin-left: auto !important; margin-right: auto !important; color: #333333 !important; font-size: 16px !important; font-weight: normal !important; font-style: normal !important; background-color: #FFFFFF !important; width: auto !important; border-top-style: solid !important; border-top-width: 2px !important; border-top-color: #A8A8A8 !important; border-right-style: none !important; border-right-width: 2px !important; border-right-color: #D3D3D3 !important; border-bottom-style: solid !important; border-bottom-width: 2px !important; border-bottom-color: #A8A8A8 !important; border-left-style: none !important; border-left-width: 2px !important; border-left-color: #D3D3D3 !important; }\n",
       " #hoyctlfedk .gt_caption { padding-top: 4px !important; padding-bottom: 4px !important; }\n",
       " #hoyctlfedk .gt_title { color: #333333 !important; font-size: 125% !important; font-weight: initial !important; padding-top: 4px !important; padding-bottom: 4px !important; padding-left: 5px !important; padding-right: 5px !important; border-bottom-color: #FFFFFF !important; border-bottom-width: 0 !important; }\n",
       " #hoyctlfedk .gt_subtitle { color: #333333 !important; font-size: 85% !important; font-weight: initial !important; padding-top: 3px !important; padding-bottom: 5px !important; padding-left: 5px !important; padding-right: 5px !important; border-top-color: #FFFFFF !important; border-top-width: 0 !important; }\n",
       " #hoyctlfedk .gt_heading { background-color: #FFFFFF !important; text-align: center !important; border-bottom-color: #FFFFFF !important; border-left-style: none !important; border-left-width: 1px !important; border-left-color: #D3D3D3 !important; border-right-style: none !important; border-right-width: 1px !important; border-right-color: #D3D3D3 !important; }\n",
       " #hoyctlfedk .gt_bottom_border { border-bottom-style: solid !important; border-bottom-width: 2px !important; border-bottom-color: #D3D3D3 !important; }\n",
       " #hoyctlfedk .gt_col_headings { border-top-style: solid !important; border-top-width: 2px !important; border-top-color: #D3D3D3 !important; border-bottom-style: solid !important; border-bottom-width: 2px !important; border-bottom-color: #D3D3D3 !important; border-left-style: none !important; border-left-width: 1px !important; border-left-color: #D3D3D3 !important; border-right-style: none !important; border-right-width: 1px !important; border-right-color: #D3D3D3 !important; }\n",
       " #hoyctlfedk .gt_col_heading { color: #333333 !important; background-color: #FFFFFF !important; font-size: 100% !important; font-weight: normal !important; text-transform: inherit !important; border-left-style: none !important; border-left-width: 1px !important; border-left-color: #D3D3D3 !important; border-right-style: none !important; border-right-width: 1px !important; border-right-color: #D3D3D3 !important; vertical-align: bottom !important; padding-top: 5px !important; padding-bottom: 5px !important; padding-left: 5px !important; padding-right: 5px !important; overflow-x: hidden !important; }\n",
       " #hoyctlfedk .gt_column_spanner_outer { color: #333333 !important; background-color: #FFFFFF !important; font-size: 100% !important; font-weight: normal !important; text-transform: inherit !important; padding-top: 0 !important; padding-bottom: 0 !important; padding-left: 4px !important; padding-right: 4px !important; }\n",
       " #hoyctlfedk .gt_column_spanner_outer:first-child { padding-left: 0 !important; }\n",
       " #hoyctlfedk .gt_column_spanner_outer:last-child { padding-right: 0 !important; }\n",
       " #hoyctlfedk .gt_column_spanner { border-bottom-style: solid !important; border-bottom-width: 2px !important; border-bottom-color: #D3D3D3 !important; vertical-align: bottom !important; padding-top: 5px !important; padding-bottom: 5px !important; overflow-x: hidden !important; display: inline-block !important; width: 100% !important; }\n",
       " #hoyctlfedk .gt_spanner_row { border-bottom-style: hidden !important; }\n",
       " #hoyctlfedk .gt_group_heading { padding-top: 8px !important; padding-bottom: 8px !important; padding-left: 5px !important; padding-right: 5px !important; color: #333333 !important; background-color: #FFFFFF !important; font-size: 100% !important; font-weight: initial !important; text-transform: inherit !important; border-top-style: solid !important; border-top-width: 2px !important; border-top-color: #D3D3D3 !important; border-bottom-style: solid !important; border-bottom-width: 2px !important; border-bottom-color: #D3D3D3 !important; border-left-style: none !important; border-left-width: 1px !important; border-left-color: #D3D3D3 !important; border-right-style: none !important; border-right-width: 1px !important; border-right-color: #D3D3D3 !important; vertical-align: middle !important; text-align: left !important; }\n",
       " #hoyctlfedk .gt_empty_group_heading { padding: 0.5px !important; color: #333333 !important; background-color: #FFFFFF !important; font-size: 100% !important; font-weight: initial !important; border-top-style: solid !important; border-top-width: 2px !important; border-top-color: #D3D3D3 !important; border-bottom-style: solid !important; border-bottom-width: 2px !important; border-bottom-color: #D3D3D3 !important; vertical-align: middle !important; }\n",
       " #hoyctlfedk .gt_from_md> :first-child { margin-top: 0 !important; }\n",
       " #hoyctlfedk .gt_from_md> :last-child { margin-bottom: 0 !important; }\n",
       " #hoyctlfedk .gt_row { padding-top: 8px !important; padding-bottom: 8px !important; padding-left: 5px !important; padding-right: 5px !important; margin: 10px !important; border-top-style: solid !important; border-top-width: 1px !important; border-top-color: #D3D3D3 !important; border-left-style: none !important; border-left-width: 1px !important; border-left-color: #D3D3D3 !important; border-right-style: none !important; border-right-width: 1px !important; border-right-color: #D3D3D3 !important; vertical-align: middle !important; overflow-x: hidden !important; }\n",
       " #hoyctlfedk .gt_stub { color: #333333 !important; background-color: #FFFFFF !important; font-size: 100% !important; font-weight: initial !important; text-transform: inherit !important; border-right-style: solid !important; border-right-width: 2px !important; border-right-color: #D3D3D3 !important; padding-left: 5px !important; padding-right: 5px !important; }\n",
       " #hoyctlfedk .gt_stub_row_group { color: #333333 !important; background-color: #FFFFFF !important; font-size: 100% !important; font-weight: initial !important; text-transform: inherit !important; border-right-style: solid !important; border-right-width: 2px !important; border-right-color: #D3D3D3 !important; padding-left: 5px !important; padding-right: 5px !important; vertical-align: top !important; }\n",
       " #hoyctlfedk .gt_row_group_first td { border-top-width: 2px !important; }\n",
       " #hoyctlfedk .gt_row_group_first th { border-top-width: 2px !important; }\n",
       " #hoyctlfedk .gt_striped { background-color: rgba(128,128,128,0.05) !important; }\n",
       " #hoyctlfedk .gt_table_body { border-top-style: solid !important; border-top-width: 2px !important; border-top-color: #D3D3D3 !important; border-bottom-style: solid !important; border-bottom-width: 2px !important; border-bottom-color: #D3D3D3 !important; }\n",
       " #hoyctlfedk .gt_sourcenotes { color: #333333 !important; background-color: #FFFFFF !important; border-bottom-style: none !important; border-bottom-width: 2px !important; border-bottom-color: #D3D3D3 !important; border-left-style: none !important; border-left-width: 2px !important; border-left-color: #D3D3D3 !important; border-right-style: none !important; border-right-width: 2px !important; border-right-color: #D3D3D3 !important; }\n",
       " #hoyctlfedk .gt_sourcenote { font-size: 90% !important; padding-top: 4px !important; padding-bottom: 4px !important; padding-left: 5px !important; padding-right: 5px !important; text-align: left !important; }\n",
       " #hoyctlfedk .gt_left { text-align: left !important; }\n",
       " #hoyctlfedk .gt_center { text-align: center !important; }\n",
       " #hoyctlfedk .gt_right { text-align: right !important; font-variant-numeric: tabular-nums !important; }\n",
       " #hoyctlfedk .gt_font_normal { font-weight: normal !important; }\n",
       " #hoyctlfedk .gt_font_bold { font-weight: bold !important; }\n",
       " #hoyctlfedk .gt_font_italic { font-style: italic !important; }\n",
       " #hoyctlfedk .gt_super { font-size: 65% !important; }\n",
       " #hoyctlfedk .gt_footnote_marks { font-size: 75% !important; vertical-align: 0.4em !important; position: initial !important; }\n",
       " #hoyctlfedk .gt_asterisk { font-size: 100% !important; vertical-align: 0 !important; }\n",
       " \n",
       "</style>\n",
       "<table class=\"gt_table\" data-quarto-disable-processing=\"false\" data-quarto-bootstrap=\"false\">\n",
       "<thead>\n",
       "\n",
       "  <tr class=\"gt_heading\">\n",
       "    <td colspan=\"2\" class=\"gt_heading gt_title gt_font_normal\">Alpha - Average SKU Retail Prices</td>\n",
       "  </tr>\n",
       "<tr class=\"gt_col_headings\">\n",
       "  <th class=\"gt_col_heading gt_columns_bottom_border gt_left\" rowspan=\"1\" colspan=\"1\" scope=\"col\" id=\"SKU IDs\">SKU IDs</th>\n",
       "  <th class=\"gt_col_heading gt_columns_bottom_border gt_right\" rowspan=\"1\" colspan=\"1\" scope=\"col\" id=\"Average Price ($)\">Average Price ($)</th>\n",
       "</tr>\n",
       "</thead>\n",
       "<tbody class=\"gt_table_body\">\n",
       "  <tr>\n",
       "    <th style=\"color: #000000; background-color: #808080;\" class=\"gt_row gt_left gt_stub\">4</th>\n",
       "    <td style=\"color: #000000; background-color: #f6f3f9;\" class=\"gt_row gt_right\">$1.85</td>\n",
       "  </tr>\n",
       "  <tr>\n",
       "    <th style=\"color: #000000; background-color: #808080;\" class=\"gt_row gt_left gt_stub\">5</th>\n",
       "    <td style=\"color: #000000; background-color: #e4dbed;\" class=\"gt_row gt_right\">$3.44</td>\n",
       "  </tr>\n",
       "  <tr>\n",
       "    <th style=\"color: #000000; background-color: #808080;\" class=\"gt_row gt_left gt_stub\">6</th>\n",
       "    <td style=\"color: #000000; background-color: #ede7f3;\" class=\"gt_row gt_right\">$2.61</td>\n",
       "  </tr>\n",
       "  <tr>\n",
       "    <th style=\"color: #000000; background-color: #808080;\" class=\"gt_row gt_left gt_stub\">7</th>\n",
       "    <td style=\"color: #000000; background-color: #d2c3e1;\" class=\"gt_row gt_right\">$5.10</td>\n",
       "  </tr>\n",
       "  <tr>\n",
       "    <th style=\"color: #000000; background-color: #808080;\" class=\"gt_row gt_left gt_stub\">8</th>\n",
       "    <td style=\"color: #FFFFFF; background-color: #8258ac;\" class=\"gt_row gt_right\">$12.43</td>\n",
       "  </tr>\n",
       "  <tr>\n",
       "    <th style=\"color: #000000; background-color: #808080;\" class=\"gt_row gt_left gt_stub\">9</th>\n",
       "    <td style=\"color: #000000; background-color: #c2aed6;\" class=\"gt_row gt_right\">$6.59</td>\n",
       "  </tr>\n",
       "  <tr>\n",
       "    <th style=\"color: #000000; background-color: #808080;\" class=\"gt_row gt_left gt_stub\">10</th>\n",
       "    <td style=\"color: #000000; background-color: #9775ba;\" class=\"gt_row gt_right\">$10.49</td>\n",
       "  </tr>\n",
       "  <tr>\n",
       "    <th style=\"color: #000000; background-color: #808080;\" class=\"gt_row gt_left gt_stub\">11</th>\n",
       "    <td style=\"color: #000000; background-color: #f1edf6;\" class=\"gt_row gt_right\">$2.27</td>\n",
       "  </tr>\n",
       "  <tr>\n",
       "    <th style=\"color: #000000; background-color: #808080;\" class=\"gt_row gt_left gt_stub\">12</th>\n",
       "    <td style=\"color: #000000; background-color: #ebe5f2;\" class=\"gt_row gt_right\">$2.79</td>\n",
       "  </tr>\n",
       "  <tr>\n",
       "    <th style=\"color: #000000; background-color: #808080;\" class=\"gt_row gt_left gt_stub\">14</th>\n",
       "    <td style=\"color: #000000; background-color: #f4f1f8;\" class=\"gt_row gt_right\">$1.99</td>\n",
       "  </tr>\n",
       "  <tr>\n",
       "    <th style=\"color: #000000; background-color: #808080;\" class=\"gt_row gt_left gt_stub\">15</th>\n",
       "    <td style=\"color: #000000; background-color: #e5dced;\" class=\"gt_row gt_right\">$3.42</td>\n",
       "  </tr>\n",
       "  <tr>\n",
       "    <th style=\"color: #000000; background-color: #808080;\" class=\"gt_row gt_left gt_stub\">16</th>\n",
       "    <td style=\"color: #000000; background-color: #eee8f3;\" class=\"gt_row gt_right\">$2.58</td>\n",
       "  </tr>\n",
       "  <tr>\n",
       "    <th style=\"color: #000000; background-color: #808080;\" class=\"gt_row gt_left gt_stub\">17</th>\n",
       "    <td style=\"color: #000000; background-color: #ebe5f2;\" class=\"gt_row gt_right\">$2.80</td>\n",
       "  </tr>\n",
       "  <tr>\n",
       "    <th style=\"color: #000000; background-color: #808080;\" class=\"gt_row gt_left gt_stub\">18</th>\n",
       "    <td style=\"color: #000000; background-color: #e6deee;\" class=\"gt_row gt_right\">$3.27</td>\n",
       "  </tr>\n",
       "  <tr>\n",
       "    <th style=\"color: #000000; background-color: #808080;\" class=\"gt_row gt_left gt_stub\">19</th>\n",
       "    <td style=\"color: #000000; background-color: #ede7f3;\" class=\"gt_row gt_right\">$2.62</td>\n",
       "  </tr>\n",
       "  <tr>\n",
       "    <th style=\"color: #000000; background-color: #808080;\" class=\"gt_row gt_left gt_stub\">20</th>\n",
       "    <td style=\"color: #000000; background-color: #e4dced;\" class=\"gt_row gt_right\">$3.43</td>\n",
       "  </tr>\n",
       "  <tr>\n",
       "    <th style=\"color: #000000; background-color: #808080;\" class=\"gt_row gt_left gt_stub\">21</th>\n",
       "    <td style=\"color: #000000; background-color: #e9e2f1;\" class=\"gt_row gt_right\">$2.99</td>\n",
       "  </tr>\n",
       "  <tr>\n",
       "    <th style=\"color: #000000; background-color: #808080;\" class=\"gt_row gt_left gt_stub\">22</th>\n",
       "    <td style=\"color: #000000; background-color: #f3eff7;\" class=\"gt_row gt_right\">$2.09</td>\n",
       "  </tr>\n",
       "</tbody>\n",
       "\n",
       "\n",
       "</table>\n",
       "\n",
       "</div>\n",
       "        "
      ],
      "text/plain": [
       "GT(_tbl_data=shape: (18, 2)\n",
       "┌────────┬──────────┐\n",
       "│ sku_id ┆ price    │\n",
       "│ ---    ┆ ---      │\n",
       "│ cat    ┆ f64      │\n",
       "╞════════╪══════════╡\n",
       "│ 4      ┆ 1.84705  │\n",
       "│ 5      ┆ 3.438095 │\n",
       "│ 6      ┆ 2.613991 │\n",
       "│ 7      ┆ 5.099062 │\n",
       "│ 8      ┆ 12.43    │\n",
       "│ …      ┆ …        │\n",
       "│ 18     ┆ 3.274    │\n",
       "│ 19     ┆ 2.620052 │\n",
       "│ 20     ┆ 3.43361  │\n",
       "│ 21     ┆ 2.99     │\n",
       "│ 22     ┆ 2.09     │\n",
       "└────────┴──────────┘, _body=<great_tables._gt_data.Body object at 0x10b15ebd0>, _boxhead=Boxhead([ColInfo(var='sku_id', type=<ColInfoTypeEnum.stub: 2>, column_label='sku_id', column_align='center', column_width=None), ColInfo(var='price', type=<ColInfoTypeEnum.default: 1>, column_label='Average Price ($)', column_align='right', column_width=None)]), _stub=<great_tables._gt_data.Stub object at 0x10daab9b0>, _spanners=Spanners([]), _heading=Heading(title='Alpha - Average SKU Retail Prices', subtitle=None, preheader=None), _stubhead='SKU IDs', _source_notes=[], _footnotes=[], _styles=[StyleInfo(locname=LocBody(columns='sku_id', rows=[0]), grpname=None, colname='sku_id', rownum=0, colnum=None, styles=[CellStyleText(color='#000000', font=None, size=None, align=None, v_align=None, style=None, weight=None, stretch=None, decorate=None, transform=None, whitespace=None), CellStyleFill(color='#808080')]), StyleInfo(locname=LocBody(columns='sku_id', rows=[1]), grpname=None, colname='sku_id', rownum=1, colnum=None, styles=[CellStyleText(color='#000000', font=None, size=None, align=None, v_align=None, style=None, weight=None, stretch=None, decorate=None, transform=None, whitespace=None), CellStyleFill(color='#808080')]), StyleInfo(locname=LocBody(columns='sku_id', rows=[2]), grpname=None, colname='sku_id', rownum=2, colnum=None, styles=[CellStyleText(color='#000000', font=None, size=None, align=None, v_align=None, style=None, weight=None, stretch=None, decorate=None, transform=None, whitespace=None), CellStyleFill(color='#808080')]), StyleInfo(locname=LocBody(columns='sku_id', rows=[3]), grpname=None, colname='sku_id', rownum=3, colnum=None, styles=[CellStyleText(color='#000000', font=None, size=None, align=None, v_align=None, style=None, weight=None, stretch=None, decorate=None, transform=None, whitespace=None), CellStyleFill(color='#808080')]), StyleInfo(locname=LocBody(columns='sku_id', rows=[4]), grpname=None, colname='sku_id', rownum=4, colnum=None, styles=[CellStyleText(color='#000000', font=None, size=None, align=None, v_align=None, style=None, weight=None, stretch=None, decorate=None, transform=None, whitespace=None), CellStyleFill(color='#808080')]), StyleInfo(locname=LocBody(columns='sku_id', rows=[5]), grpname=None, colname='sku_id', rownum=5, colnum=None, styles=[CellStyleText(color='#000000', font=None, size=None, align=None, v_align=None, style=None, weight=None, stretch=None, decorate=None, transform=None, whitespace=None), CellStyleFill(color='#808080')]), StyleInfo(locname=LocBody(columns='sku_id', rows=[6]), grpname=None, colname='sku_id', rownum=6, colnum=None, styles=[CellStyleText(color='#000000', font=None, size=None, align=None, v_align=None, style=None, weight=None, stretch=None, decorate=None, transform=None, whitespace=None), CellStyleFill(color='#808080')]), StyleInfo(locname=LocBody(columns='sku_id', rows=[7]), grpname=None, colname='sku_id', rownum=7, colnum=None, styles=[CellStyleText(color='#000000', font=None, size=None, align=None, v_align=None, style=None, weight=None, stretch=None, decorate=None, transform=None, whitespace=None), CellStyleFill(color='#808080')]), StyleInfo(locname=LocBody(columns='sku_id', rows=[8]), grpname=None, colname='sku_id', rownum=8, colnum=None, styles=[CellStyleText(color='#000000', font=None, size=None, align=None, v_align=None, style=None, weight=None, stretch=None, decorate=None, transform=None, whitespace=None), CellStyleFill(color='#808080')]), StyleInfo(locname=LocBody(columns='sku_id', rows=[9]), grpname=None, colname='sku_id', rownum=9, colnum=None, styles=[CellStyleText(color='#000000', font=None, size=None, align=None, v_align=None, style=None, weight=None, stretch=None, decorate=None, transform=None, whitespace=None), CellStyleFill(color='#808080')]), StyleInfo(locname=LocBody(columns='sku_id', rows=[10]), grpname=None, colname='sku_id', rownum=10, colnum=None, styles=[CellStyleText(color='#000000', font=None, size=None, align=None, v_align=None, style=None, weight=None, stretch=None, decorate=None, transform=None, whitespace=None), CellStyleFill(color='#808080')]), StyleInfo(locname=LocBody(columns='sku_id', rows=[11]), grpname=None, colname='sku_id', rownum=11, colnum=None, styles=[CellStyleText(color='#000000', font=None, size=None, align=None, v_align=None, style=None, weight=None, stretch=None, decorate=None, transform=None, whitespace=None), CellStyleFill(color='#808080')]), StyleInfo(locname=LocBody(columns='sku_id', rows=[12]), grpname=None, colname='sku_id', rownum=12, colnum=None, styles=[CellStyleText(color='#000000', font=None, size=None, align=None, v_align=None, style=None, weight=None, stretch=None, decorate=None, transform=None, whitespace=None), CellStyleFill(color='#808080')]), StyleInfo(locname=LocBody(columns='sku_id', rows=[13]), grpname=None, colname='sku_id', rownum=13, colnum=None, styles=[CellStyleText(color='#000000', font=None, size=None, align=None, v_align=None, style=None, weight=None, stretch=None, decorate=None, transform=None, whitespace=None), CellStyleFill(color='#808080')]), StyleInfo(locname=LocBody(columns='sku_id', rows=[14]), grpname=None, colname='sku_id', rownum=14, colnum=None, styles=[CellStyleText(color='#000000', font=None, size=None, align=None, v_align=None, style=None, weight=None, stretch=None, decorate=None, transform=None, whitespace=None), CellStyleFill(color='#808080')]), StyleInfo(locname=LocBody(columns='sku_id', rows=[15]), grpname=None, colname='sku_id', rownum=15, colnum=None, styles=[CellStyleText(color='#000000', font=None, size=None, align=None, v_align=None, style=None, weight=None, stretch=None, decorate=None, transform=None, whitespace=None), CellStyleFill(color='#808080')]), StyleInfo(locname=LocBody(columns='sku_id', rows=[16]), grpname=None, colname='sku_id', rownum=16, colnum=None, styles=[CellStyleText(color='#000000', font=None, size=None, align=None, v_align=None, style=None, weight=None, stretch=None, decorate=None, transform=None, whitespace=None), CellStyleFill(color='#808080')]), StyleInfo(locname=LocBody(columns='sku_id', rows=[17]), grpname=None, colname='sku_id', rownum=17, colnum=None, styles=[CellStyleText(color='#000000', font=None, size=None, align=None, v_align=None, style=None, weight=None, stretch=None, decorate=None, transform=None, whitespace=None), CellStyleFill(color='#808080')]), StyleInfo(locname=LocBody(columns='price', rows=[0]), grpname=None, colname='price', rownum=0, colnum=None, styles=[CellStyleText(color='#000000', font=None, size=None, align=None, v_align=None, style=None, weight=None, stretch=None, decorate=None, transform=None, whitespace=None), CellStyleFill(color='#f6f3f9')]), StyleInfo(locname=LocBody(columns='price', rows=[1]), grpname=None, colname='price', rownum=1, colnum=None, styles=[CellStyleText(color='#000000', font=None, size=None, align=None, v_align=None, style=None, weight=None, stretch=None, decorate=None, transform=None, whitespace=None), CellStyleFill(color='#e4dbed')]), StyleInfo(locname=LocBody(columns='price', rows=[2]), grpname=None, colname='price', rownum=2, colnum=None, styles=[CellStyleText(color='#000000', font=None, size=None, align=None, v_align=None, style=None, weight=None, stretch=None, decorate=None, transform=None, whitespace=None), CellStyleFill(color='#ede7f3')]), StyleInfo(locname=LocBody(columns='price', rows=[3]), grpname=None, colname='price', rownum=3, colnum=None, styles=[CellStyleText(color='#000000', font=None, size=None, align=None, v_align=None, style=None, weight=None, stretch=None, decorate=None, transform=None, whitespace=None), CellStyleFill(color='#d2c3e1')]), StyleInfo(locname=LocBody(columns='price', rows=[4]), grpname=None, colname='price', rownum=4, colnum=None, styles=[CellStyleText(color='#FFFFFF', font=None, size=None, align=None, v_align=None, style=None, weight=None, stretch=None, decorate=None, transform=None, whitespace=None), CellStyleFill(color='#8258ac')]), StyleInfo(locname=LocBody(columns='price', rows=[5]), grpname=None, colname='price', rownum=5, colnum=None, styles=[CellStyleText(color='#000000', font=None, size=None, align=None, v_align=None, style=None, weight=None, stretch=None, decorate=None, transform=None, whitespace=None), CellStyleFill(color='#c2aed6')]), StyleInfo(locname=LocBody(columns='price', rows=[6]), grpname=None, colname='price', rownum=6, colnum=None, styles=[CellStyleText(color='#000000', font=None, size=None, align=None, v_align=None, style=None, weight=None, stretch=None, decorate=None, transform=None, whitespace=None), CellStyleFill(color='#9775ba')]), StyleInfo(locname=LocBody(columns='price', rows=[7]), grpname=None, colname='price', rownum=7, colnum=None, styles=[CellStyleText(color='#000000', font=None, size=None, align=None, v_align=None, style=None, weight=None, stretch=None, decorate=None, transform=None, whitespace=None), CellStyleFill(color='#f1edf6')]), StyleInfo(locname=LocBody(columns='price', rows=[8]), grpname=None, colname='price', rownum=8, colnum=None, styles=[CellStyleText(color='#000000', font=None, size=None, align=None, v_align=None, style=None, weight=None, stretch=None, decorate=None, transform=None, whitespace=None), CellStyleFill(color='#ebe5f2')]), StyleInfo(locname=LocBody(columns='price', rows=[9]), grpname=None, colname='price', rownum=9, colnum=None, styles=[CellStyleText(color='#000000', font=None, size=None, align=None, v_align=None, style=None, weight=None, stretch=None, decorate=None, transform=None, whitespace=None), CellStyleFill(color='#f4f1f8')]), StyleInfo(locname=LocBody(columns='price', rows=[10]), grpname=None, colname='price', rownum=10, colnum=None, styles=[CellStyleText(color='#000000', font=None, size=None, align=None, v_align=None, style=None, weight=None, stretch=None, decorate=None, transform=None, whitespace=None), CellStyleFill(color='#e5dced')]), StyleInfo(locname=LocBody(columns='price', rows=[11]), grpname=None, colname='price', rownum=11, colnum=None, styles=[CellStyleText(color='#000000', font=None, size=None, align=None, v_align=None, style=None, weight=None, stretch=None, decorate=None, transform=None, whitespace=None), CellStyleFill(color='#eee8f3')]), StyleInfo(locname=LocBody(columns='price', rows=[12]), grpname=None, colname='price', rownum=12, colnum=None, styles=[CellStyleText(color='#000000', font=None, size=None, align=None, v_align=None, style=None, weight=None, stretch=None, decorate=None, transform=None, whitespace=None), CellStyleFill(color='#ebe5f2')]), StyleInfo(locname=LocBody(columns='price', rows=[13]), grpname=None, colname='price', rownum=13, colnum=None, styles=[CellStyleText(color='#000000', font=None, size=None, align=None, v_align=None, style=None, weight=None, stretch=None, decorate=None, transform=None, whitespace=None), CellStyleFill(color='#e6deee')]), StyleInfo(locname=LocBody(columns='price', rows=[14]), grpname=None, colname='price', rownum=14, colnum=None, styles=[CellStyleText(color='#000000', font=None, size=None, align=None, v_align=None, style=None, weight=None, stretch=None, decorate=None, transform=None, whitespace=None), CellStyleFill(color='#ede7f3')]), StyleInfo(locname=LocBody(columns='price', rows=[15]), grpname=None, colname='price', rownum=15, colnum=None, styles=[CellStyleText(color='#000000', font=None, size=None, align=None, v_align=None, style=None, weight=None, stretch=None, decorate=None, transform=None, whitespace=None), CellStyleFill(color='#e4dced')]), StyleInfo(locname=LocBody(columns='price', rows=[16]), grpname=None, colname='price', rownum=16, colnum=None, styles=[CellStyleText(color='#000000', font=None, size=None, align=None, v_align=None, style=None, weight=None, stretch=None, decorate=None, transform=None, whitespace=None), CellStyleFill(color='#e9e2f1')]), StyleInfo(locname=LocBody(columns='price', rows=[17]), grpname=None, colname='price', rownum=17, colnum=None, styles=[CellStyleText(color='#000000', font=None, size=None, align=None, v_align=None, style=None, weight=None, stretch=None, decorate=None, transform=None, whitespace=None), CellStyleFill(color='#f3eff7')])], _locale=<great_tables._gt_data.Locale object at 0x10daa9490>, _formats=[<great_tables._gt_data.FormatInfo object at 0x10daa9250>], _substitutions=[], _options=Options(table_id=OptionsInfo(scss=False, category='table', type='value', value=None), table_caption=OptionsInfo(scss=False, category='table', type='value', value=None), table_width=OptionsInfo(scss=True, category='table', type='px', value='auto'), table_layout=OptionsInfo(scss=True, category='table', type='value', value='fixed'), table_margin_left=OptionsInfo(scss=True, category='table', type='px', value='auto'), table_margin_right=OptionsInfo(scss=True, category='table', type='px', value='auto'), table_background_color=OptionsInfo(scss=True, category='table', type='value', value='#FFFFFF'), table_additional_css=OptionsInfo(scss=False, category='table', type='values', value=[]), table_font_names=OptionsInfo(scss=False, category='table', type='values', value=['-apple-system', 'BlinkMacSystemFont', 'Segoe UI', 'Roboto', 'Oxygen', 'Ubuntu', 'Cantarell', 'Helvetica Neue', 'Fira Sans', 'Droid Sans', 'Arial', 'sans-serif']), table_font_size=OptionsInfo(scss=True, category='table', type='px', value='16px'), table_font_weight=OptionsInfo(scss=True, category='table', type='value', value='normal'), table_font_style=OptionsInfo(scss=True, category='table', type='value', value='normal'), table_font_color=OptionsInfo(scss=True, category='table', type='value', value='#333333'), table_font_color_light=OptionsInfo(scss=True, category='table', type='value', value='#FFFFFF'), table_border_top_include=OptionsInfo(scss=False, category='table', type='boolean', value=True), table_border_top_style=OptionsInfo(scss=True, category='table', type='value', value='solid'), table_border_top_width=OptionsInfo(scss=True, category='table', type='px', value='2px'), table_border_top_color=OptionsInfo(scss=True, category='table', type='value', value='#A8A8A8'), table_border_right_style=OptionsInfo(scss=True, category='table', type='value', value='none'), table_border_right_width=OptionsInfo(scss=True, category='table', type='px', value='2px'), table_border_right_color=OptionsInfo(scss=True, category='table', type='value', value='#D3D3D3'), table_border_bottom_include=OptionsInfo(scss=False, category='table', type='boolean', value=True), table_border_bottom_style=OptionsInfo(scss=True, category='table', type='value', value='solid'), table_border_bottom_width=OptionsInfo(scss=True, category='table', type='px', value='2px'), table_border_bottom_color=OptionsInfo(scss=True, category='table', type='value', value='#A8A8A8'), table_border_left_style=OptionsInfo(scss=True, category='table', type='value', value='none'), table_border_left_width=OptionsInfo(scss=True, category='table', type='px', value='2px'), table_border_left_color=OptionsInfo(scss=True, category='table', type='value', value='#D3D3D3'), heading_background_color=OptionsInfo(scss=True, category='heading', type='value', value=None), heading_align=OptionsInfo(scss=True, category='heading', type='value', value='center'), heading_title_font_size=OptionsInfo(scss=True, category='heading', type='px', value='125%'), heading_title_font_weight=OptionsInfo(scss=True, category='heading', type='value', value='initial'), heading_subtitle_font_size=OptionsInfo(scss=True, category='heading', type='px', value='85%'), heading_subtitle_font_weight=OptionsInfo(scss=True, category='heading', type='value', value='initial'), heading_padding=OptionsInfo(scss=True, category='heading', type='px', value='4px'), heading_padding_horizontal=OptionsInfo(scss=True, category='heading', type='px', value='5px'), heading_border_bottom_style=OptionsInfo(scss=True, category='heading', type='value', value='solid'), heading_border_bottom_width=OptionsInfo(scss=True, category='heading', type='px', value='2px'), heading_border_bottom_color=OptionsInfo(scss=True, category='heading', type='value', value='#D3D3D3'), heading_border_lr_style=OptionsInfo(scss=True, category='heading', type='value', value='none'), heading_border_lr_width=OptionsInfo(scss=True, category='heading', type='px', value='1px'), heading_border_lr_color=OptionsInfo(scss=True, category='heading', type='value', value='#D3D3D3'), column_labels_background_color=OptionsInfo(scss=True, category='column_labels', type='value', value=None), column_labels_font_size=OptionsInfo(scss=True, category='column_labels', type='px', value='100%'), column_labels_font_weight=OptionsInfo(scss=True, category='column_labels', type='value', value='normal'), column_labels_text_transform=OptionsInfo(scss=True, category='column_labels', type='value', value='inherit'), column_labels_padding=OptionsInfo(scss=True, category='column_labels', type='px', value='5px'), column_labels_padding_horizontal=OptionsInfo(scss=True, category='column_labels', type='px', value='5px'), column_labels_vlines_style=OptionsInfo(scss=True, category='table_body', type='value', value='none'), column_labels_vlines_width=OptionsInfo(scss=True, category='table_body', type='px', value='1px'), column_labels_vlines_color=OptionsInfo(scss=True, category='table_body', type='value', value='#D3D3D3'), column_labels_border_top_style=OptionsInfo(scss=True, category='column_labels', type='value', value='solid'), column_labels_border_top_width=OptionsInfo(scss=True, category='column_labels', type='px', value='2px'), column_labels_border_top_color=OptionsInfo(scss=True, category='column_labels', type='value', value='#D3D3D3'), column_labels_border_bottom_style=OptionsInfo(scss=True, category='column_labels', type='value', value='solid'), column_labels_border_bottom_width=OptionsInfo(scss=True, category='column_labels', type='px', value='2px'), column_labels_border_bottom_color=OptionsInfo(scss=True, category='column_labels', type='value', value='#D3D3D3'), column_labels_border_lr_style=OptionsInfo(scss=True, category='column_labels', type='value', value='none'), column_labels_border_lr_width=OptionsInfo(scss=True, category='column_labels', type='px', value='1px'), column_labels_border_lr_color=OptionsInfo(scss=True, category='column_labels', type='value', value='#D3D3D3'), column_labels_hidden=OptionsInfo(scss=False, category='column_labels', type='boolean', value=False), row_group_background_color=OptionsInfo(scss=True, category='row_group', type='value', value=None), row_group_font_size=OptionsInfo(scss=True, category='row_group', type='px', value='100%'), row_group_font_weight=OptionsInfo(scss=True, category='row_group', type='value', value='initial'), row_group_text_transform=OptionsInfo(scss=True, category='row_group', type='value', value='inherit'), row_group_padding=OptionsInfo(scss=True, category='row_group', type='px', value='8px'), row_group_padding_horizontal=OptionsInfo(scss=True, category='row_group', type='px', value='5px'), row_group_border_top_style=OptionsInfo(scss=True, category='row_group', type='value', value='solid'), row_group_border_top_width=OptionsInfo(scss=True, category='row_group', type='px', value='2px'), row_group_border_top_color=OptionsInfo(scss=True, category='row_group', type='value', value='#D3D3D3'), row_group_border_right_style=OptionsInfo(scss=True, category='row_group', type='value', value='none'), row_group_border_right_width=OptionsInfo(scss=True, category='row_group', type='px', value='1px'), row_group_border_right_color=OptionsInfo(scss=True, category='row_group', type='value', value='#D3D3D3'), row_group_border_bottom_style=OptionsInfo(scss=True, category='row_group', type='value', value='solid'), row_group_border_bottom_width=OptionsInfo(scss=True, category='row_group', type='px', value='2px'), row_group_border_bottom_color=OptionsInfo(scss=True, category='row_group', type='value', value='#D3D3D3'), row_group_border_left_style=OptionsInfo(scss=True, category='row_group', type='value', value='none'), row_group_border_left_width=OptionsInfo(scss=True, category='row_group', type='px', value='1px'), row_group_border_left_color=OptionsInfo(scss=True, category='row_group', type='value', value='#D3D3D3'), row_group_as_column=OptionsInfo(scss=False, category='row_group', type='boolean', value=False), table_body_hlines_style=OptionsInfo(scss=True, category='table_body', type='value', value='solid'), table_body_hlines_width=OptionsInfo(scss=True, category='table_body', type='px', value='1px'), table_body_hlines_color=OptionsInfo(scss=True, category='table_body', type='value', value='#D3D3D3'), table_body_vlines_style=OptionsInfo(scss=True, category='table_body', type='value', value='none'), table_body_vlines_width=OptionsInfo(scss=True, category='table_body', type='px', value='1px'), table_body_vlines_color=OptionsInfo(scss=True, category='table_body', type='value', value='#D3D3D3'), table_body_border_top_style=OptionsInfo(scss=True, category='table_body', type='value', value='solid'), table_body_border_top_width=OptionsInfo(scss=True, category='table_body', type='px', value='2px'), table_body_border_top_color=OptionsInfo(scss=True, category='table_body', type='value', value='#D3D3D3'), table_body_border_bottom_style=OptionsInfo(scss=True, category='table_body', type='value', value='solid'), table_body_border_bottom_width=OptionsInfo(scss=True, category='table_body', type='px', value='2px'), table_body_border_bottom_color=OptionsInfo(scss=True, category='table_body', type='value', value='#D3D3D3'), data_row_padding=OptionsInfo(scss=True, category='data_row', type='px', value='8px'), data_row_padding_horizontal=OptionsInfo(scss=True, category='data_row', type='px', value='5px'), stub_background_color=OptionsInfo(scss=True, category='stub', type='value', value=None), stub_font_size=OptionsInfo(scss=True, category='stub', type='px', value='100%'), stub_font_weight=OptionsInfo(scss=True, category='stub', type='value', value='initial'), stub_text_transform=OptionsInfo(scss=True, category='stub', type='value', value='inherit'), stub_border_style=OptionsInfo(scss=True, category='stub', type='value', value='solid'), stub_border_width=OptionsInfo(scss=True, category='stub', type='px', value='2px'), stub_border_color=OptionsInfo(scss=True, category='stub', type='value', value='#D3D3D3'), stub_row_group_background_color=OptionsInfo(scss=True, category='stub', type='value', value=None), stub_row_group_font_size=OptionsInfo(scss=True, category='stub', type='px', value='100%'), stub_row_group_font_weight=OptionsInfo(scss=True, category='stub', type='value', value='initial'), stub_row_group_text_transform=OptionsInfo(scss=True, category='stub', type='value', value='inherit'), stub_row_group_border_style=OptionsInfo(scss=True, category='stub', type='value', value='solid'), stub_row_group_border_width=OptionsInfo(scss=True, category='stub', type='px', value='2px'), stub_row_group_border_color=OptionsInfo(scss=True, category='stub', type='value', value='#D3D3D3'), source_notes_padding=OptionsInfo(scss=True, category='source_notes', type='px', value='4px'), source_notes_padding_horizontal=OptionsInfo(scss=True, category='source_notes', type='px', value='5px'), source_notes_background_color=OptionsInfo(scss=True, category='source_notes', type='value', value=None), source_notes_font_size=OptionsInfo(scss=True, category='source_notes', type='px', value='90%'), source_notes_border_bottom_style=OptionsInfo(scss=True, category='source_notes', type='value', value='none'), source_notes_border_bottom_width=OptionsInfo(scss=True, category='source_notes', type='px', value='2px'), source_notes_border_bottom_color=OptionsInfo(scss=True, category='source_notes', type='value', value='#D3D3D3'), source_notes_border_lr_style=OptionsInfo(scss=True, category='source_notes', type='value', value='none'), source_notes_border_lr_width=OptionsInfo(scss=True, category='source_notes', type='px', value='2px'), source_notes_border_lr_color=OptionsInfo(scss=True, category='source_notes', type='value', value='#D3D3D3'), source_notes_multiline=OptionsInfo(scss=False, category='source_notes', type='boolean', value=True), source_notes_sep=OptionsInfo(scss=False, category='source_notes', type='value', value=' '), row_striping_background_color=OptionsInfo(scss=True, category='row', type='value', value='rgba(128,128,128,0.05)'), row_striping_include_stub=OptionsInfo(scss=False, category='row', type='boolean', value=False), row_striping_include_table_body=OptionsInfo(scss=False, category='row', type='boolean', value=False), container_width=OptionsInfo(scss=False, category='container', type='px', value='auto'), container_height=OptionsInfo(scss=False, category='container', type='px', value='auto'), container_padding_x=OptionsInfo(scss=False, category='container', type='px', value='0px'), container_padding_y=OptionsInfo(scss=False, category='container', type='px', value='10px'), container_overflow_x=OptionsInfo(scss=False, category='container', type='overflow', value='auto'), container_overflow_y=OptionsInfo(scss=False, category='container', type='overflow', value='auto'), quarto_disable_processing=OptionsInfo(scss=False, category='quarto', type='logical', value=False), quarto_use_bootstrap=OptionsInfo(scss=False, category='quarto', type='logical', value=False)), _has_built=False)"
      ]
     },
     "execution_count": 24,
     "metadata": {},
     "output_type": "execute_result"
    }
   ],
   "source": [
    "avg_sku_price = grocery_lf.select(\n",
    "    ['week', 'sku_id', 'price', 'brand']\n",
    ").filter(\n",
    "    (pl.col('week') <= 52) & # pricing in the first year\n",
    "    (pl.col('brand') == 'Alpha') # Filter by Alpha brand \n",
    ").group_by('brand', 'sku_id').agg(\n",
    "    pl.col('price').mean()\n",
    ").drop('brand').sort(\n",
    "    pl.col('sku_id').cast(pl.Int8)\n",
    ")\n",
    "\n",
    "(\n",
    "    GT(avg_sku_price.collect(), rowname_col='sku_id') \n",
    "    .tab_header(title='Alpha - Average SKU Retail Prices')\n",
    "    .tab_stubhead(label=\"SKU IDs\")\n",
    "    .fmt_currency()\n",
    "    .data_color(\n",
    "        domain=[1, 15],\n",
    "        palette=['white', 'rebeccapurple']\n",
    "    )  \n",
    "    .cols_label(price='Average Price ($)')\n",
    ")"
   ]
  },
  {
   "cell_type": "code",
   "execution_count": 25,
   "metadata": {},
   "outputs": [
    {
     "data": {
      "text/html": [
       "<div><style>\n",
       ".dataframe > thead > tr,\n",
       ".dataframe > tbody > tr {\n",
       "  text-align: right;\n",
       "  white-space: pre-wrap;\n",
       "}\n",
       "</style>\n",
       "<small>shape: (9, 2)</small><table border=\"1\" class=\"dataframe\"><thead><tr><th>statistic</th><th>price</th></tr><tr><td>str</td><td>f64</td></tr></thead><tbody><tr><td>&quot;count&quot;</td><td>18.0</td></tr><tr><td>&quot;null_count&quot;</td><td>0.0</td></tr><tr><td>&quot;mean&quot;</td><td>4.042794</td></tr><tr><td>&quot;std&quot;</td><td>2.947076</td></tr><tr><td>&quot;min&quot;</td><td>1.84705</td></tr><tr><td>&quot;25%&quot;</td><td>2.582056</td></tr><tr><td>&quot;50%&quot;</td><td>2.99</td></tr><tr><td>&quot;75%&quot;</td><td>3.438095</td></tr><tr><td>&quot;max&quot;</td><td>12.43</td></tr></tbody></table></div>"
      ],
      "text/plain": [
       "shape: (9, 2)\n",
       "┌────────────┬──────────┐\n",
       "│ statistic  ┆ price    │\n",
       "│ ---        ┆ ---      │\n",
       "│ str        ┆ f64      │\n",
       "╞════════════╪══════════╡\n",
       "│ count      ┆ 18.0     │\n",
       "│ null_count ┆ 0.0      │\n",
       "│ mean       ┆ 4.042794 │\n",
       "│ std        ┆ 2.947076 │\n",
       "│ min        ┆ 1.84705  │\n",
       "│ 25%        ┆ 2.582056 │\n",
       "│ 50%        ┆ 2.99     │\n",
       "│ 75%        ┆ 3.438095 │\n",
       "│ max        ┆ 12.43    │\n",
       "└────────────┴──────────┘"
      ]
     },
     "execution_count": 25,
     "metadata": {},
     "output_type": "execute_result"
    }
   ],
   "source": [
    "avg_sku_price.drop(pl.col('sku_id')).describe()"
   ]
  },
  {
   "cell_type": "markdown",
   "metadata": {},
   "source": [
    "#### Garbage Collect"
   ]
  },
  {
   "cell_type": "code",
   "execution_count": 26,
   "metadata": {},
   "outputs": [
    {
     "data": {
      "text/plain": [
       "423"
      ]
     },
     "execution_count": 26,
     "metadata": {},
     "output_type": "execute_result"
    }
   ],
   "source": [
    "exceptions = ['grocery_lf', 'sku_lf', 'kiwi_lf', 'In', 'exceptions', 'active_variables']\n",
    "\n",
    "active_variables = [\n",
    "    var for var, value in globals().items()\n",
    "    if not var.startswith('_')   # Exclude variables that start with \"_\"\n",
    "    and var not in exceptions    # Exclude variables in the exceptions list\n",
    "    and isinstance(value, (pl.LazyFrame, pl.DataFrame, pl.Series, alt.Chart, alt.LayerChart, list, int, float, str, np.ndarray, np.int64, np.float32))  # Remove these types only\n",
    "]\n",
    "\n",
    "for var in active_variables:\n",
    "    del globals()[var]\n",
    "del active_variables, exceptions, var\n",
    "\n",
    "gc.collect()"
   ]
  },
  {
   "cell_type": "markdown",
   "metadata": {},
   "source": [
    "### Exploring Variation in Buyer Behaviour"
   ]
  },
  {
   "cell_type": "markdown",
   "metadata": {},
   "source": [
    "#### Panellist-Level Data Preparation"
   ]
  },
  {
   "cell_type": "markdown",
   "metadata": {},
   "source": [
    "<div style=\"max-width:600px;margin-left: auto; margin-right: auto;\">\n",
    "<img src=\"references\\Consumer-Panel-Data-Relationship.png\" width=\"600\"/>\n",
    "</div>"
   ]
  },
  {
   "cell_type": "code",
   "execution_count": 27,
   "metadata": {},
   "outputs": [],
   "source": [
    "def trans_summary(brand, lf, year):\n",
    "    \n",
    "    # Primary Step: Filter by Year 1 and Remove Unused Columns\n",
    "    filtered_lf = lf.filter(\n",
    "        (pl.col('week') <= (year * 52)) &\n",
    "        (pl.col('week') >= ((year - 1) * 52))\n",
    "    ).drop(\n",
    "        pl.col('week','sku_id')\n",
    "    )\n",
    "\n",
    "    # Intermediate Step: Group by trans_id, panel_id, and brand\n",
    "    group_trans = filtered_lf.drop(\n",
    "        pl.col('price', 'units')\n",
    "    ).group_by(\n",
    "        'trans_id', 'panel_id', 'brand'\n",
    "    ).n_unique()\n",
    "    \n",
    "    if brand == \"Category\":\n",
    "        # Panellist-level category transaction summary\n",
    "        summary = group_trans.group_by(\n",
    "            'panel_id'\n",
    "        ).n_unique()\n",
    "    else:\n",
    "        # Panellist-level brand transaction summary\n",
    "        summary = group_trans.filter(\n",
    "            pl.col('brand') == brand\n",
    "        ).group_by(\n",
    "            'panel_id'\n",
    "        ).n_unique()\n",
    "    \n",
    "    return summary.select(\n",
    "        pl.col('panel_id'),\n",
    "        pl.col('trans_id').alias('# of Purchases'),\n",
    "        pl.col('brand').alias('Brands Purchased')\n",
    "    )"
   ]
  },
  {
   "cell_type": "code",
   "execution_count": 28,
   "metadata": {},
   "outputs": [],
   "source": [
    "def trans_pivot(lf, year):\n",
    "    \n",
    "    # Primary Step: Filter by Year 1 and Remove Unused Columns\n",
    "    filtered_lf = lf.filter(\n",
    "        (pl.col('week') <= (year * 52)) &\n",
    "        (pl.col('week') >= ((year - 1) * 52))\n",
    "    ).drop(\n",
    "        pl.col('week','sku_id')\n",
    "    )\n",
    "\n",
    "    # Intermediate Step: Group by trans_id, panel_id, and brand\n",
    "    group_trans = filtered_lf.drop(\n",
    "        pl.col('price', 'units')\n",
    "    ).group_by(\n",
    "        'trans_id', 'panel_id', 'brand'\n",
    "    ).n_unique()\n",
    "    \n",
    "    summary = group_trans.collect().pivot(\n",
    "        on='brand',\n",
    "        index='panel_id',\n",
    "        values='panel_id',\n",
    "        aggregate_function=\"len\"\n",
    "        \n",
    "    ).join(\n",
    "        other=group_trans.group_by('panel_id').n_unique().drop('brand').collect(),\n",
    "        on='panel_id'\n",
    "    ).rename(\n",
    "        {'trans_id': 'Category'}\n",
    "    ).drop(\n",
    "        pl.col('panel_id')\n",
    "    )\n",
    "    \n",
    "    return summary"
   ]
  },
  {
   "cell_type": "code",
   "execution_count": 29,
   "metadata": {},
   "outputs": [],
   "source": [
    "def spend_summary(brand, lf, year):\n",
    "    \n",
    "    group_spend = lf.filter(\n",
    "        (pl.col('week') <= (year * 52)) &\n",
    "        (pl.col('week') >= ((year - 1) * 52))\n",
    "    ).drop(\n",
    "        pl.col('week','sku_id')\n",
    "    ).with_columns(\n",
    "        ((pl.col('units') * pl.col('price'))).alias('spend')\n",
    "    )\n",
    "    \n",
    "    if brand == \"Category\":\n",
    "        # Panellist-level category spend summary\n",
    "        summary = group_spend.drop(\n",
    "            pl.col('units', 'price', 'brand')\n",
    "        ).group_by(\n",
    "            'panel_id'\n",
    "        ).agg(\n",
    "            pl.col('spend').sum()\n",
    "        )\n",
    "    else:\n",
    "        # Panellist-level brand spend summary\n",
    "        summary = group_spend.drop(\n",
    "            pl.col('units', 'price')\n",
    "        ).group_by(\n",
    "            'panel_id', 'brand'\n",
    "        ).agg(\n",
    "            pl.col('spend').sum()\n",
    "        ).filter(\n",
    "            pl.col('brand') == brand\n",
    "        ).drop('brand')\n",
    "        \n",
    "    return summary"
   ]
  },
  {
   "cell_type": "code",
   "execution_count": 30,
   "metadata": {},
   "outputs": [],
   "source": [
    "def vol_summary(brand, lf, year):\n",
    "    \n",
    "    group_vol = lf.filter(\n",
    "        (pl.col('week') <= (year * 52)) &\n",
    "        (pl.col('week') >= ((year - 1) * 52))\n",
    "    ).join(\n",
    "        other=sku_lf,\n",
    "        left_on='sku_id',\n",
    "        right_on='sku_id'\n",
    "    ).drop(\n",
    "        pl.col('week','sku_id')\n",
    "    ).with_columns(\n",
    "        # volume column that is the product of weight of each SKU and the units of SKU sold\n",
    "        (((pl.col('units') * pl.col('weight'))/1000)).alias('volume') # # weight from grams to kilograms\n",
    "    ).drop(\n",
    "        pl.col('units', 'price', 'weight')\n",
    "    )\n",
    "    \n",
    "    if brand == \"Category\":\n",
    "        # Panellist-level category volume sales summary\n",
    "        summary = group_vol.drop(\n",
    "            pl.col('brand')\n",
    "        ).group_by(\n",
    "            'panel_id'\n",
    "        ).agg(\n",
    "            pl.col('volume').sum()\n",
    "        )\n",
    "    else:\n",
    "        # Panellist-level brand volume sales summary\n",
    "        summary = group_vol.group_by(\n",
    "            'panel_id', 'brand'\n",
    "        ).agg(\n",
    "            pl.col('volume').sum()\n",
    "        ).filter(\n",
    "            pl.col('brand') == brand\n",
    "        ).drop('brand')\n",
    "        \n",
    "    return summary"
   ]
  },
  {
   "cell_type": "markdown",
   "metadata": {},
   "source": [
    "#### Examining Purchase Frequency"
   ]
  },
  {
   "cell_type": "code",
   "execution_count": 31,
   "metadata": {},
   "outputs": [
    {
     "data": {
      "text/html": [
       "<div id=\"wulaoqekdi\" style=\"padding-left:0px;padding-right:0px;padding-top:10px;padding-bottom:10px;overflow-x:auto;overflow-y:auto;width:auto;height:auto;\">\n",
       "<style>\n",
       "#wulaoqekdi table {\n",
       "          font-family: -apple-system, BlinkMacSystemFont, 'Segoe UI', Roboto, Oxygen, Ubuntu, Cantarell, 'Helvetica Neue', 'Fira Sans', 'Droid Sans', Arial, sans-serif;\n",
       "          -webkit-font-smoothing: antialiased;\n",
       "          -moz-osx-font-smoothing: grayscale;\n",
       "        }\n",
       "\n",
       "#wulaoqekdi thead, tbody, tfoot, tr, td, th { border-style: none !important; }\n",
       " tr { background-color: transparent !important; }\n",
       "#wulaoqekdi p { margin: 0 !important; padding: 0 !important; }\n",
       " #wulaoqekdi .gt_table { display: table !important; border-collapse: collapse !important; line-height: normal !important; margin-left: auto !important; margin-right: auto !important; color: #333333 !important; font-size: 16px !important; font-weight: normal !important; font-style: normal !important; background-color: #FFFFFF !important; width: auto !important; border-top-style: solid !important; border-top-width: 2px !important; border-top-color: #A8A8A8 !important; border-right-style: none !important; border-right-width: 2px !important; border-right-color: #D3D3D3 !important; border-bottom-style: solid !important; border-bottom-width: 2px !important; border-bottom-color: #A8A8A8 !important; border-left-style: none !important; border-left-width: 2px !important; border-left-color: #D3D3D3 !important; }\n",
       " #wulaoqekdi .gt_caption { padding-top: 4px !important; padding-bottom: 4px !important; }\n",
       " #wulaoqekdi .gt_title { color: #333333 !important; font-size: 125% !important; font-weight: initial !important; padding-top: 4px !important; padding-bottom: 4px !important; padding-left: 5px !important; padding-right: 5px !important; border-bottom-color: #FFFFFF !important; border-bottom-width: 0 !important; }\n",
       " #wulaoqekdi .gt_subtitle { color: #333333 !important; font-size: 85% !important; font-weight: initial !important; padding-top: 3px !important; padding-bottom: 5px !important; padding-left: 5px !important; padding-right: 5px !important; border-top-color: #FFFFFF !important; border-top-width: 0 !important; }\n",
       " #wulaoqekdi .gt_heading { background-color: #FFFFFF !important; text-align: center !important; border-bottom-color: #FFFFFF !important; border-left-style: none !important; border-left-width: 1px !important; border-left-color: #D3D3D3 !important; border-right-style: none !important; border-right-width: 1px !important; border-right-color: #D3D3D3 !important; }\n",
       " #wulaoqekdi .gt_bottom_border { border-bottom-style: solid !important; border-bottom-width: 2px !important; border-bottom-color: #D3D3D3 !important; }\n",
       " #wulaoqekdi .gt_col_headings { border-top-style: solid !important; border-top-width: 2px !important; border-top-color: #D3D3D3 !important; border-bottom-style: solid !important; border-bottom-width: 2px !important; border-bottom-color: #D3D3D3 !important; border-left-style: none !important; border-left-width: 1px !important; border-left-color: #D3D3D3 !important; border-right-style: none !important; border-right-width: 1px !important; border-right-color: #D3D3D3 !important; }\n",
       " #wulaoqekdi .gt_col_heading { color: #333333 !important; background-color: #FFFFFF !important; font-size: 100% !important; font-weight: normal !important; text-transform: inherit !important; border-left-style: none !important; border-left-width: 1px !important; border-left-color: #D3D3D3 !important; border-right-style: none !important; border-right-width: 1px !important; border-right-color: #D3D3D3 !important; vertical-align: bottom !important; padding-top: 5px !important; padding-bottom: 5px !important; padding-left: 5px !important; padding-right: 5px !important; overflow-x: hidden !important; }\n",
       " #wulaoqekdi .gt_column_spanner_outer { color: #333333 !important; background-color: #FFFFFF !important; font-size: 100% !important; font-weight: normal !important; text-transform: inherit !important; padding-top: 0 !important; padding-bottom: 0 !important; padding-left: 4px !important; padding-right: 4px !important; }\n",
       " #wulaoqekdi .gt_column_spanner_outer:first-child { padding-left: 0 !important; }\n",
       " #wulaoqekdi .gt_column_spanner_outer:last-child { padding-right: 0 !important; }\n",
       " #wulaoqekdi .gt_column_spanner { border-bottom-style: solid !important; border-bottom-width: 2px !important; border-bottom-color: #D3D3D3 !important; vertical-align: bottom !important; padding-top: 5px !important; padding-bottom: 5px !important; overflow-x: hidden !important; display: inline-block !important; width: 100% !important; }\n",
       " #wulaoqekdi .gt_spanner_row { border-bottom-style: hidden !important; }\n",
       " #wulaoqekdi .gt_group_heading { padding-top: 8px !important; padding-bottom: 8px !important; padding-left: 5px !important; padding-right: 5px !important; color: #333333 !important; background-color: #FFFFFF !important; font-size: 100% !important; font-weight: initial !important; text-transform: inherit !important; border-top-style: solid !important; border-top-width: 2px !important; border-top-color: #D3D3D3 !important; border-bottom-style: solid !important; border-bottom-width: 2px !important; border-bottom-color: #D3D3D3 !important; border-left-style: none !important; border-left-width: 1px !important; border-left-color: #D3D3D3 !important; border-right-style: none !important; border-right-width: 1px !important; border-right-color: #D3D3D3 !important; vertical-align: middle !important; text-align: left !important; }\n",
       " #wulaoqekdi .gt_empty_group_heading { padding: 0.5px !important; color: #333333 !important; background-color: #FFFFFF !important; font-size: 100% !important; font-weight: initial !important; border-top-style: solid !important; border-top-width: 2px !important; border-top-color: #D3D3D3 !important; border-bottom-style: solid !important; border-bottom-width: 2px !important; border-bottom-color: #D3D3D3 !important; vertical-align: middle !important; }\n",
       " #wulaoqekdi .gt_from_md> :first-child { margin-top: 0 !important; }\n",
       " #wulaoqekdi .gt_from_md> :last-child { margin-bottom: 0 !important; }\n",
       " #wulaoqekdi .gt_row { padding-top: 8px !important; padding-bottom: 8px !important; padding-left: 5px !important; padding-right: 5px !important; margin: 10px !important; border-top-style: solid !important; border-top-width: 1px !important; border-top-color: #D3D3D3 !important; border-left-style: none !important; border-left-width: 1px !important; border-left-color: #D3D3D3 !important; border-right-style: none !important; border-right-width: 1px !important; border-right-color: #D3D3D3 !important; vertical-align: middle !important; overflow-x: hidden !important; }\n",
       " #wulaoqekdi .gt_stub { color: #333333 !important; background-color: #FFFFFF !important; font-size: 100% !important; font-weight: initial !important; text-transform: inherit !important; border-right-style: solid !important; border-right-width: 2px !important; border-right-color: #D3D3D3 !important; padding-left: 5px !important; padding-right: 5px !important; }\n",
       " #wulaoqekdi .gt_stub_row_group { color: #333333 !important; background-color: #FFFFFF !important; font-size: 100% !important; font-weight: initial !important; text-transform: inherit !important; border-right-style: solid !important; border-right-width: 2px !important; border-right-color: #D3D3D3 !important; padding-left: 5px !important; padding-right: 5px !important; vertical-align: top !important; }\n",
       " #wulaoqekdi .gt_row_group_first td { border-top-width: 2px !important; }\n",
       " #wulaoqekdi .gt_row_group_first th { border-top-width: 2px !important; }\n",
       " #wulaoqekdi .gt_striped { background-color: rgba(128,128,128,0.05) !important; }\n",
       " #wulaoqekdi .gt_table_body { border-top-style: solid !important; border-top-width: 2px !important; border-top-color: #D3D3D3 !important; border-bottom-style: solid !important; border-bottom-width: 2px !important; border-bottom-color: #D3D3D3 !important; }\n",
       " #wulaoqekdi .gt_sourcenotes { color: #333333 !important; background-color: #FFFFFF !important; border-bottom-style: none !important; border-bottom-width: 2px !important; border-bottom-color: #D3D3D3 !important; border-left-style: none !important; border-left-width: 2px !important; border-left-color: #D3D3D3 !important; border-right-style: none !important; border-right-width: 2px !important; border-right-color: #D3D3D3 !important; }\n",
       " #wulaoqekdi .gt_sourcenote { font-size: 90% !important; padding-top: 4px !important; padding-bottom: 4px !important; padding-left: 5px !important; padding-right: 5px !important; text-align: left !important; }\n",
       " #wulaoqekdi .gt_left { text-align: left !important; }\n",
       " #wulaoqekdi .gt_center { text-align: center !important; }\n",
       " #wulaoqekdi .gt_right { text-align: right !important; font-variant-numeric: tabular-nums !important; }\n",
       " #wulaoqekdi .gt_font_normal { font-weight: normal !important; }\n",
       " #wulaoqekdi .gt_font_bold { font-weight: bold !important; }\n",
       " #wulaoqekdi .gt_font_italic { font-style: italic !important; }\n",
       " #wulaoqekdi .gt_super { font-size: 65% !important; }\n",
       " #wulaoqekdi .gt_footnote_marks { font-size: 75% !important; vertical-align: 0.4em !important; position: initial !important; }\n",
       " #wulaoqekdi .gt_asterisk { font-size: 100% !important; vertical-align: 0 !important; }\n",
       " \n",
       "</style>\n",
       "<table class=\"gt_table\" data-quarto-disable-processing=\"false\" data-quarto-bootstrap=\"false\">\n",
       "<thead>\n",
       "\n",
       "  <tr class=\"gt_heading\">\n",
       "    <td colspan=\"2\" class=\"gt_heading gt_title gt_font_normal\">Number of Buyers in Year 1</td>\n",
       "  </tr>\n",
       "<tr class=\"gt_col_headings\">\n",
       "  <th class=\"gt_col_heading gt_columns_bottom_border gt_left\" rowspan=\"1\" colspan=\"1\" scope=\"col\" id=\"Brands/Category\">Brands/Category</th>\n",
       "  <th class=\"gt_col_heading gt_columns_bottom_border gt_center\" rowspan=\"1\" colspan=\"1\" scope=\"col\" id=\"# Of Transactions\"># Of Transactions</th>\n",
       "</tr>\n",
       "</thead>\n",
       "<tbody class=\"gt_table_body\">\n",
       "  <tr>\n",
       "    <th style=\"color: #000000; background-color: #808080;\" class=\"gt_row gt_left gt_stub\">Alpha</th>\n",
       "    <td style=\"color: #FFFFFF; background-color: #7a4da6;\" class=\"gt_row gt_center\">2,624</td>\n",
       "  </tr>\n",
       "  <tr>\n",
       "    <th style=\"color: #000000; background-color: #808080;\" class=\"gt_row gt_left gt_stub\">Bravo</th>\n",
       "    <td style=\"color: #FFFFFF; background-color: #7d52a8;\" class=\"gt_row gt_center\">2,562</td>\n",
       "  </tr>\n",
       "  <tr>\n",
       "    <th style=\"color: #000000; background-color: #808080;\" class=\"gt_row gt_left gt_stub\">Charlie</th>\n",
       "    <td style=\"color: #000000; background-color: #d9cde6;\" class=\"gt_row gt_center\">813</td>\n",
       "  </tr>\n",
       "  <tr>\n",
       "    <th style=\"color: #000000; background-color: #808080;\" class=\"gt_row gt_left gt_stub\">Delta</th>\n",
       "    <td style=\"color: #000000; background-color: #f0ebf5;\" class=\"gt_row gt_center\">380</td>\n",
       "  </tr>\n",
       "  <tr>\n",
       "    <th style=\"color: #000000; background-color: #808080;\" class=\"gt_row gt_left gt_stub\">Other</th>\n",
       "    <td style=\"color: #000000; background-color: #fbfafc;\" class=\"gt_row gt_center\">176</td>\n",
       "  </tr>\n",
       "  <tr>\n",
       "    <th class=\"gt_row gt_left gt_stub\">Category</th>\n",
       "    <td class=\"gt_row gt_center\">4,574</td>\n",
       "  </tr>\n",
       "</tbody>\n",
       "\n",
       "\n",
       "</table>\n",
       "\n",
       "</div>\n",
       "        "
      ],
      "text/plain": [
       "GT(_tbl_data=shape: (6, 2)\n",
       "┌──────────┬────────┐\n",
       "│ brand    ┆ buyers │\n",
       "│ ---      ┆ ---    │\n",
       "│ str      ┆ u32    │\n",
       "╞══════════╪════════╡\n",
       "│ Alpha    ┆ 2624   │\n",
       "│ Bravo    ┆ 2562   │\n",
       "│ Charlie  ┆ 813    │\n",
       "│ Delta    ┆ 380    │\n",
       "│ Other    ┆ 176    │\n",
       "│ Category ┆ 4574   │\n",
       "└──────────┴────────┘, _body=<great_tables._gt_data.Body object at 0x10db2bc20>, _boxhead=Boxhead([ColInfo(var='brand', type=<ColInfoTypeEnum.stub: 2>, column_label='brand', column_align='left', column_width=None), ColInfo(var='buyers', type=<ColInfoTypeEnum.default: 1>, column_label='# Of Transactions', column_align='center', column_width=None)]), _stub=<great_tables._gt_data.Stub object at 0x102e84380>, _spanners=Spanners([]), _heading=Heading(title='Number of Buyers in Year 1', subtitle=None, preheader=None), _stubhead='Brands/Category', _source_notes=[], _footnotes=[], _styles=[StyleInfo(locname=LocBody(columns='brand', rows=[0]), grpname=None, colname='brand', rownum=0, colnum=None, styles=[CellStyleText(color='#000000', font=None, size=None, align=None, v_align=None, style=None, weight=None, stretch=None, decorate=None, transform=None, whitespace=None), CellStyleFill(color='#808080')]), StyleInfo(locname=LocBody(columns='brand', rows=[1]), grpname=None, colname='brand', rownum=1, colnum=None, styles=[CellStyleText(color='#000000', font=None, size=None, align=None, v_align=None, style=None, weight=None, stretch=None, decorate=None, transform=None, whitespace=None), CellStyleFill(color='#808080')]), StyleInfo(locname=LocBody(columns='brand', rows=[2]), grpname=None, colname='brand', rownum=2, colnum=None, styles=[CellStyleText(color='#000000', font=None, size=None, align=None, v_align=None, style=None, weight=None, stretch=None, decorate=None, transform=None, whitespace=None), CellStyleFill(color='#808080')]), StyleInfo(locname=LocBody(columns='brand', rows=[3]), grpname=None, colname='brand', rownum=3, colnum=None, styles=[CellStyleText(color='#000000', font=None, size=None, align=None, v_align=None, style=None, weight=None, stretch=None, decorate=None, transform=None, whitespace=None), CellStyleFill(color='#808080')]), StyleInfo(locname=LocBody(columns='brand', rows=[4]), grpname=None, colname='brand', rownum=4, colnum=None, styles=[CellStyleText(color='#000000', font=None, size=None, align=None, v_align=None, style=None, weight=None, stretch=None, decorate=None, transform=None, whitespace=None), CellStyleFill(color='#808080')]), StyleInfo(locname=LocBody(columns='buyers', rows=[0]), grpname=None, colname='buyers', rownum=0, colnum=None, styles=[CellStyleText(color='#FFFFFF', font=None, size=None, align=None, v_align=None, style=None, weight=None, stretch=None, decorate=None, transform=None, whitespace=None), CellStyleFill(color='#7a4da6')]), StyleInfo(locname=LocBody(columns='buyers', rows=[1]), grpname=None, colname='buyers', rownum=1, colnum=None, styles=[CellStyleText(color='#FFFFFF', font=None, size=None, align=None, v_align=None, style=None, weight=None, stretch=None, decorate=None, transform=None, whitespace=None), CellStyleFill(color='#7d52a8')]), StyleInfo(locname=LocBody(columns='buyers', rows=[2]), grpname=None, colname='buyers', rownum=2, colnum=None, styles=[CellStyleText(color='#000000', font=None, size=None, align=None, v_align=None, style=None, weight=None, stretch=None, decorate=None, transform=None, whitespace=None), CellStyleFill(color='#d9cde6')]), StyleInfo(locname=LocBody(columns='buyers', rows=[3]), grpname=None, colname='buyers', rownum=3, colnum=None, styles=[CellStyleText(color='#000000', font=None, size=None, align=None, v_align=None, style=None, weight=None, stretch=None, decorate=None, transform=None, whitespace=None), CellStyleFill(color='#f0ebf5')]), StyleInfo(locname=LocBody(columns='buyers', rows=[4]), grpname=None, colname='buyers', rownum=4, colnum=None, styles=[CellStyleText(color='#000000', font=None, size=None, align=None, v_align=None, style=None, weight=None, stretch=None, decorate=None, transform=None, whitespace=None), CellStyleFill(color='#fbfafc')])], _locale=<great_tables._gt_data.Locale object at 0x10da949e0>, _formats=[<great_tables._gt_data.FormatInfo object at 0x10da95f20>], _substitutions=[], _options=Options(table_id=OptionsInfo(scss=False, category='table', type='value', value=None), table_caption=OptionsInfo(scss=False, category='table', type='value', value=None), table_width=OptionsInfo(scss=True, category='table', type='px', value='auto'), table_layout=OptionsInfo(scss=True, category='table', type='value', value='fixed'), table_margin_left=OptionsInfo(scss=True, category='table', type='px', value='auto'), table_margin_right=OptionsInfo(scss=True, category='table', type='px', value='auto'), table_background_color=OptionsInfo(scss=True, category='table', type='value', value='#FFFFFF'), table_additional_css=OptionsInfo(scss=False, category='table', type='values', value=[]), table_font_names=OptionsInfo(scss=False, category='table', type='values', value=['-apple-system', 'BlinkMacSystemFont', 'Segoe UI', 'Roboto', 'Oxygen', 'Ubuntu', 'Cantarell', 'Helvetica Neue', 'Fira Sans', 'Droid Sans', 'Arial', 'sans-serif']), table_font_size=OptionsInfo(scss=True, category='table', type='px', value='16px'), table_font_weight=OptionsInfo(scss=True, category='table', type='value', value='normal'), table_font_style=OptionsInfo(scss=True, category='table', type='value', value='normal'), table_font_color=OptionsInfo(scss=True, category='table', type='value', value='#333333'), table_font_color_light=OptionsInfo(scss=True, category='table', type='value', value='#FFFFFF'), table_border_top_include=OptionsInfo(scss=False, category='table', type='boolean', value=True), table_border_top_style=OptionsInfo(scss=True, category='table', type='value', value='solid'), table_border_top_width=OptionsInfo(scss=True, category='table', type='px', value='2px'), table_border_top_color=OptionsInfo(scss=True, category='table', type='value', value='#A8A8A8'), table_border_right_style=OptionsInfo(scss=True, category='table', type='value', value='none'), table_border_right_width=OptionsInfo(scss=True, category='table', type='px', value='2px'), table_border_right_color=OptionsInfo(scss=True, category='table', type='value', value='#D3D3D3'), table_border_bottom_include=OptionsInfo(scss=False, category='table', type='boolean', value=True), table_border_bottom_style=OptionsInfo(scss=True, category='table', type='value', value='solid'), table_border_bottom_width=OptionsInfo(scss=True, category='table', type='px', value='2px'), table_border_bottom_color=OptionsInfo(scss=True, category='table', type='value', value='#A8A8A8'), table_border_left_style=OptionsInfo(scss=True, category='table', type='value', value='none'), table_border_left_width=OptionsInfo(scss=True, category='table', type='px', value='2px'), table_border_left_color=OptionsInfo(scss=True, category='table', type='value', value='#D3D3D3'), heading_background_color=OptionsInfo(scss=True, category='heading', type='value', value=None), heading_align=OptionsInfo(scss=True, category='heading', type='value', value='center'), heading_title_font_size=OptionsInfo(scss=True, category='heading', type='px', value='125%'), heading_title_font_weight=OptionsInfo(scss=True, category='heading', type='value', value='initial'), heading_subtitle_font_size=OptionsInfo(scss=True, category='heading', type='px', value='85%'), heading_subtitle_font_weight=OptionsInfo(scss=True, category='heading', type='value', value='initial'), heading_padding=OptionsInfo(scss=True, category='heading', type='px', value='4px'), heading_padding_horizontal=OptionsInfo(scss=True, category='heading', type='px', value='5px'), heading_border_bottom_style=OptionsInfo(scss=True, category='heading', type='value', value='solid'), heading_border_bottom_width=OptionsInfo(scss=True, category='heading', type='px', value='2px'), heading_border_bottom_color=OptionsInfo(scss=True, category='heading', type='value', value='#D3D3D3'), heading_border_lr_style=OptionsInfo(scss=True, category='heading', type='value', value='none'), heading_border_lr_width=OptionsInfo(scss=True, category='heading', type='px', value='1px'), heading_border_lr_color=OptionsInfo(scss=True, category='heading', type='value', value='#D3D3D3'), column_labels_background_color=OptionsInfo(scss=True, category='column_labels', type='value', value=None), column_labels_font_size=OptionsInfo(scss=True, category='column_labels', type='px', value='100%'), column_labels_font_weight=OptionsInfo(scss=True, category='column_labels', type='value', value='normal'), column_labels_text_transform=OptionsInfo(scss=True, category='column_labels', type='value', value='inherit'), column_labels_padding=OptionsInfo(scss=True, category='column_labels', type='px', value='5px'), column_labels_padding_horizontal=OptionsInfo(scss=True, category='column_labels', type='px', value='5px'), column_labels_vlines_style=OptionsInfo(scss=True, category='table_body', type='value', value='none'), column_labels_vlines_width=OptionsInfo(scss=True, category='table_body', type='px', value='1px'), column_labels_vlines_color=OptionsInfo(scss=True, category='table_body', type='value', value='#D3D3D3'), column_labels_border_top_style=OptionsInfo(scss=True, category='column_labels', type='value', value='solid'), column_labels_border_top_width=OptionsInfo(scss=True, category='column_labels', type='px', value='2px'), column_labels_border_top_color=OptionsInfo(scss=True, category='column_labels', type='value', value='#D3D3D3'), column_labels_border_bottom_style=OptionsInfo(scss=True, category='column_labels', type='value', value='solid'), column_labels_border_bottom_width=OptionsInfo(scss=True, category='column_labels', type='px', value='2px'), column_labels_border_bottom_color=OptionsInfo(scss=True, category='column_labels', type='value', value='#D3D3D3'), column_labels_border_lr_style=OptionsInfo(scss=True, category='column_labels', type='value', value='none'), column_labels_border_lr_width=OptionsInfo(scss=True, category='column_labels', type='px', value='1px'), column_labels_border_lr_color=OptionsInfo(scss=True, category='column_labels', type='value', value='#D3D3D3'), column_labels_hidden=OptionsInfo(scss=False, category='column_labels', type='boolean', value=False), row_group_background_color=OptionsInfo(scss=True, category='row_group', type='value', value=None), row_group_font_size=OptionsInfo(scss=True, category='row_group', type='px', value='100%'), row_group_font_weight=OptionsInfo(scss=True, category='row_group', type='value', value='initial'), row_group_text_transform=OptionsInfo(scss=True, category='row_group', type='value', value='inherit'), row_group_padding=OptionsInfo(scss=True, category='row_group', type='px', value='8px'), row_group_padding_horizontal=OptionsInfo(scss=True, category='row_group', type='px', value='5px'), row_group_border_top_style=OptionsInfo(scss=True, category='row_group', type='value', value='solid'), row_group_border_top_width=OptionsInfo(scss=True, category='row_group', type='px', value='2px'), row_group_border_top_color=OptionsInfo(scss=True, category='row_group', type='value', value='#D3D3D3'), row_group_border_right_style=OptionsInfo(scss=True, category='row_group', type='value', value='none'), row_group_border_right_width=OptionsInfo(scss=True, category='row_group', type='px', value='1px'), row_group_border_right_color=OptionsInfo(scss=True, category='row_group', type='value', value='#D3D3D3'), row_group_border_bottom_style=OptionsInfo(scss=True, category='row_group', type='value', value='solid'), row_group_border_bottom_width=OptionsInfo(scss=True, category='row_group', type='px', value='2px'), row_group_border_bottom_color=OptionsInfo(scss=True, category='row_group', type='value', value='#D3D3D3'), row_group_border_left_style=OptionsInfo(scss=True, category='row_group', type='value', value='none'), row_group_border_left_width=OptionsInfo(scss=True, category='row_group', type='px', value='1px'), row_group_border_left_color=OptionsInfo(scss=True, category='row_group', type='value', value='#D3D3D3'), row_group_as_column=OptionsInfo(scss=False, category='row_group', type='boolean', value=False), table_body_hlines_style=OptionsInfo(scss=True, category='table_body', type='value', value='solid'), table_body_hlines_width=OptionsInfo(scss=True, category='table_body', type='px', value='1px'), table_body_hlines_color=OptionsInfo(scss=True, category='table_body', type='value', value='#D3D3D3'), table_body_vlines_style=OptionsInfo(scss=True, category='table_body', type='value', value='none'), table_body_vlines_width=OptionsInfo(scss=True, category='table_body', type='px', value='1px'), table_body_vlines_color=OptionsInfo(scss=True, category='table_body', type='value', value='#D3D3D3'), table_body_border_top_style=OptionsInfo(scss=True, category='table_body', type='value', value='solid'), table_body_border_top_width=OptionsInfo(scss=True, category='table_body', type='px', value='2px'), table_body_border_top_color=OptionsInfo(scss=True, category='table_body', type='value', value='#D3D3D3'), table_body_border_bottom_style=OptionsInfo(scss=True, category='table_body', type='value', value='solid'), table_body_border_bottom_width=OptionsInfo(scss=True, category='table_body', type='px', value='2px'), table_body_border_bottom_color=OptionsInfo(scss=True, category='table_body', type='value', value='#D3D3D3'), data_row_padding=OptionsInfo(scss=True, category='data_row', type='px', value='8px'), data_row_padding_horizontal=OptionsInfo(scss=True, category='data_row', type='px', value='5px'), stub_background_color=OptionsInfo(scss=True, category='stub', type='value', value=None), stub_font_size=OptionsInfo(scss=True, category='stub', type='px', value='100%'), stub_font_weight=OptionsInfo(scss=True, category='stub', type='value', value='initial'), stub_text_transform=OptionsInfo(scss=True, category='stub', type='value', value='inherit'), stub_border_style=OptionsInfo(scss=True, category='stub', type='value', value='solid'), stub_border_width=OptionsInfo(scss=True, category='stub', type='px', value='2px'), stub_border_color=OptionsInfo(scss=True, category='stub', type='value', value='#D3D3D3'), stub_row_group_background_color=OptionsInfo(scss=True, category='stub', type='value', value=None), stub_row_group_font_size=OptionsInfo(scss=True, category='stub', type='px', value='100%'), stub_row_group_font_weight=OptionsInfo(scss=True, category='stub', type='value', value='initial'), stub_row_group_text_transform=OptionsInfo(scss=True, category='stub', type='value', value='inherit'), stub_row_group_border_style=OptionsInfo(scss=True, category='stub', type='value', value='solid'), stub_row_group_border_width=OptionsInfo(scss=True, category='stub', type='px', value='2px'), stub_row_group_border_color=OptionsInfo(scss=True, category='stub', type='value', value='#D3D3D3'), source_notes_padding=OptionsInfo(scss=True, category='source_notes', type='px', value='4px'), source_notes_padding_horizontal=OptionsInfo(scss=True, category='source_notes', type='px', value='5px'), source_notes_background_color=OptionsInfo(scss=True, category='source_notes', type='value', value=None), source_notes_font_size=OptionsInfo(scss=True, category='source_notes', type='px', value='90%'), source_notes_border_bottom_style=OptionsInfo(scss=True, category='source_notes', type='value', value='none'), source_notes_border_bottom_width=OptionsInfo(scss=True, category='source_notes', type='px', value='2px'), source_notes_border_bottom_color=OptionsInfo(scss=True, category='source_notes', type='value', value='#D3D3D3'), source_notes_border_lr_style=OptionsInfo(scss=True, category='source_notes', type='value', value='none'), source_notes_border_lr_width=OptionsInfo(scss=True, category='source_notes', type='px', value='2px'), source_notes_border_lr_color=OptionsInfo(scss=True, category='source_notes', type='value', value='#D3D3D3'), source_notes_multiline=OptionsInfo(scss=False, category='source_notes', type='boolean', value=True), source_notes_sep=OptionsInfo(scss=False, category='source_notes', type='value', value=' '), row_striping_background_color=OptionsInfo(scss=True, category='row', type='value', value='rgba(128,128,128,0.05)'), row_striping_include_stub=OptionsInfo(scss=False, category='row', type='boolean', value=False), row_striping_include_table_body=OptionsInfo(scss=False, category='row', type='boolean', value=False), container_width=OptionsInfo(scss=False, category='container', type='px', value='auto'), container_height=OptionsInfo(scss=False, category='container', type='px', value='auto'), container_padding_x=OptionsInfo(scss=False, category='container', type='px', value='0px'), container_padding_y=OptionsInfo(scss=False, category='container', type='px', value='10px'), container_overflow_x=OptionsInfo(scss=False, category='container', type='overflow', value='auto'), container_overflow_y=OptionsInfo(scss=False, category='container', type='overflow', value='auto'), quarto_disable_processing=OptionsInfo(scss=False, category='quarto', type='logical', value=False), quarto_use_bootstrap=OptionsInfo(scss=False, category='quarto', type='logical', value=False)), _has_built=False)"
      ]
     },
     "execution_count": 31,
     "metadata": {},
     "output_type": "execute_result"
    }
   ],
   "source": [
    "buyers = trans_pivot(grocery_lf, 1).count().select(\n",
    "    'Alpha', 'Bravo', 'Charlie', 'Delta', 'Other', 'Category'\n",
    ").unpivot(\n",
    "    variable_name='brand',\n",
    "    value_name='buyers'\n",
    ")\n",
    "\n",
    "(\n",
    "    GT(buyers, rowname_col='brand')\n",
    "    .tab_header(title='Number of Buyers in Year 1')\n",
    "    .tab_stubhead(label=\"Brands/Category\")\n",
    "    .fmt_integer()\n",
    "    .data_color(\n",
    "        rows=['Alpha', 'Bravo', 'Charlie', 'Delta', 'Other'],\n",
    "        domain=[100, 3_000],\n",
    "        palette=['white', 'rebeccapurple']\n",
    "    )  \n",
    "    .cols_label(buyers='# Of Transactions')\n",
    ")"
   ]
  },
  {
   "cell_type": "code",
   "execution_count": 32,
   "metadata": {},
   "outputs": [
    {
     "data": {
      "text/html": [
       "<div id=\"wqgkiriegz\" style=\"padding-left:0px;padding-right:0px;padding-top:10px;padding-bottom:10px;overflow-x:auto;overflow-y:auto;width:auto;height:auto;\">\n",
       "<style>\n",
       "#wqgkiriegz table {\n",
       "          font-family: -apple-system, BlinkMacSystemFont, 'Segoe UI', Roboto, Oxygen, Ubuntu, Cantarell, 'Helvetica Neue', 'Fira Sans', 'Droid Sans', Arial, sans-serif;\n",
       "          -webkit-font-smoothing: antialiased;\n",
       "          -moz-osx-font-smoothing: grayscale;\n",
       "        }\n",
       "\n",
       "#wqgkiriegz thead, tbody, tfoot, tr, td, th { border-style: none !important; }\n",
       " tr { background-color: transparent !important; }\n",
       "#wqgkiriegz p { margin: 0 !important; padding: 0 !important; }\n",
       " #wqgkiriegz .gt_table { display: table !important; border-collapse: collapse !important; line-height: normal !important; margin-left: auto !important; margin-right: auto !important; color: #333333 !important; font-size: 16px !important; font-weight: normal !important; font-style: normal !important; background-color: #FFFFFF !important; width: auto !important; border-top-style: solid !important; border-top-width: 2px !important; border-top-color: #A8A8A8 !important; border-right-style: none !important; border-right-width: 2px !important; border-right-color: #D3D3D3 !important; border-bottom-style: solid !important; border-bottom-width: 2px !important; border-bottom-color: #A8A8A8 !important; border-left-style: none !important; border-left-width: 2px !important; border-left-color: #D3D3D3 !important; }\n",
       " #wqgkiriegz .gt_caption { padding-top: 4px !important; padding-bottom: 4px !important; }\n",
       " #wqgkiriegz .gt_title { color: #333333 !important; font-size: 125% !important; font-weight: initial !important; padding-top: 4px !important; padding-bottom: 4px !important; padding-left: 5px !important; padding-right: 5px !important; border-bottom-color: #FFFFFF !important; border-bottom-width: 0 !important; }\n",
       " #wqgkiriegz .gt_subtitle { color: #333333 !important; font-size: 85% !important; font-weight: initial !important; padding-top: 3px !important; padding-bottom: 5px !important; padding-left: 5px !important; padding-right: 5px !important; border-top-color: #FFFFFF !important; border-top-width: 0 !important; }\n",
       " #wqgkiriegz .gt_heading { background-color: #FFFFFF !important; text-align: center !important; border-bottom-color: #FFFFFF !important; border-left-style: none !important; border-left-width: 1px !important; border-left-color: #D3D3D3 !important; border-right-style: none !important; border-right-width: 1px !important; border-right-color: #D3D3D3 !important; }\n",
       " #wqgkiriegz .gt_bottom_border { border-bottom-style: solid !important; border-bottom-width: 2px !important; border-bottom-color: #D3D3D3 !important; }\n",
       " #wqgkiriegz .gt_col_headings { border-top-style: solid !important; border-top-width: 2px !important; border-top-color: #D3D3D3 !important; border-bottom-style: solid !important; border-bottom-width: 2px !important; border-bottom-color: #D3D3D3 !important; border-left-style: none !important; border-left-width: 1px !important; border-left-color: #D3D3D3 !important; border-right-style: none !important; border-right-width: 1px !important; border-right-color: #D3D3D3 !important; }\n",
       " #wqgkiriegz .gt_col_heading { color: #333333 !important; background-color: #FFFFFF !important; font-size: 100% !important; font-weight: normal !important; text-transform: inherit !important; border-left-style: none !important; border-left-width: 1px !important; border-left-color: #D3D3D3 !important; border-right-style: none !important; border-right-width: 1px !important; border-right-color: #D3D3D3 !important; vertical-align: bottom !important; padding-top: 5px !important; padding-bottom: 5px !important; padding-left: 5px !important; padding-right: 5px !important; overflow-x: hidden !important; }\n",
       " #wqgkiriegz .gt_column_spanner_outer { color: #333333 !important; background-color: #FFFFFF !important; font-size: 100% !important; font-weight: normal !important; text-transform: inherit !important; padding-top: 0 !important; padding-bottom: 0 !important; padding-left: 4px !important; padding-right: 4px !important; }\n",
       " #wqgkiriegz .gt_column_spanner_outer:first-child { padding-left: 0 !important; }\n",
       " #wqgkiriegz .gt_column_spanner_outer:last-child { padding-right: 0 !important; }\n",
       " #wqgkiriegz .gt_column_spanner { border-bottom-style: solid !important; border-bottom-width: 2px !important; border-bottom-color: #D3D3D3 !important; vertical-align: bottom !important; padding-top: 5px !important; padding-bottom: 5px !important; overflow-x: hidden !important; display: inline-block !important; width: 100% !important; }\n",
       " #wqgkiriegz .gt_spanner_row { border-bottom-style: hidden !important; }\n",
       " #wqgkiriegz .gt_group_heading { padding-top: 8px !important; padding-bottom: 8px !important; padding-left: 5px !important; padding-right: 5px !important; color: #333333 !important; background-color: #FFFFFF !important; font-size: 100% !important; font-weight: initial !important; text-transform: inherit !important; border-top-style: solid !important; border-top-width: 2px !important; border-top-color: #D3D3D3 !important; border-bottom-style: solid !important; border-bottom-width: 2px !important; border-bottom-color: #D3D3D3 !important; border-left-style: none !important; border-left-width: 1px !important; border-left-color: #D3D3D3 !important; border-right-style: none !important; border-right-width: 1px !important; border-right-color: #D3D3D3 !important; vertical-align: middle !important; text-align: left !important; }\n",
       " #wqgkiriegz .gt_empty_group_heading { padding: 0.5px !important; color: #333333 !important; background-color: #FFFFFF !important; font-size: 100% !important; font-weight: initial !important; border-top-style: solid !important; border-top-width: 2px !important; border-top-color: #D3D3D3 !important; border-bottom-style: solid !important; border-bottom-width: 2px !important; border-bottom-color: #D3D3D3 !important; vertical-align: middle !important; }\n",
       " #wqgkiriegz .gt_from_md> :first-child { margin-top: 0 !important; }\n",
       " #wqgkiriegz .gt_from_md> :last-child { margin-bottom: 0 !important; }\n",
       " #wqgkiriegz .gt_row { padding-top: 8px !important; padding-bottom: 8px !important; padding-left: 5px !important; padding-right: 5px !important; margin: 10px !important; border-top-style: solid !important; border-top-width: 1px !important; border-top-color: #D3D3D3 !important; border-left-style: none !important; border-left-width: 1px !important; border-left-color: #D3D3D3 !important; border-right-style: none !important; border-right-width: 1px !important; border-right-color: #D3D3D3 !important; vertical-align: middle !important; overflow-x: hidden !important; }\n",
       " #wqgkiriegz .gt_stub { color: #333333 !important; background-color: #FFFFFF !important; font-size: 100% !important; font-weight: initial !important; text-transform: inherit !important; border-right-style: solid !important; border-right-width: 2px !important; border-right-color: #D3D3D3 !important; padding-left: 5px !important; padding-right: 5px !important; }\n",
       " #wqgkiriegz .gt_stub_row_group { color: #333333 !important; background-color: #FFFFFF !important; font-size: 100% !important; font-weight: initial !important; text-transform: inherit !important; border-right-style: solid !important; border-right-width: 2px !important; border-right-color: #D3D3D3 !important; padding-left: 5px !important; padding-right: 5px !important; vertical-align: top !important; }\n",
       " #wqgkiriegz .gt_row_group_first td { border-top-width: 2px !important; }\n",
       " #wqgkiriegz .gt_row_group_first th { border-top-width: 2px !important; }\n",
       " #wqgkiriegz .gt_striped { background-color: rgba(128,128,128,0.05) !important; }\n",
       " #wqgkiriegz .gt_table_body { border-top-style: solid !important; border-top-width: 2px !important; border-top-color: #D3D3D3 !important; border-bottom-style: solid !important; border-bottom-width: 2px !important; border-bottom-color: #D3D3D3 !important; }\n",
       " #wqgkiriegz .gt_sourcenotes { color: #333333 !important; background-color: #FFFFFF !important; border-bottom-style: none !important; border-bottom-width: 2px !important; border-bottom-color: #D3D3D3 !important; border-left-style: none !important; border-left-width: 2px !important; border-left-color: #D3D3D3 !important; border-right-style: none !important; border-right-width: 2px !important; border-right-color: #D3D3D3 !important; }\n",
       " #wqgkiriegz .gt_sourcenote { font-size: 90% !important; padding-top: 4px !important; padding-bottom: 4px !important; padding-left: 5px !important; padding-right: 5px !important; text-align: left !important; }\n",
       " #wqgkiriegz .gt_left { text-align: left !important; }\n",
       " #wqgkiriegz .gt_center { text-align: center !important; }\n",
       " #wqgkiriegz .gt_right { text-align: right !important; font-variant-numeric: tabular-nums !important; }\n",
       " #wqgkiriegz .gt_font_normal { font-weight: normal !important; }\n",
       " #wqgkiriegz .gt_font_bold { font-weight: bold !important; }\n",
       " #wqgkiriegz .gt_font_italic { font-style: italic !important; }\n",
       " #wqgkiriegz .gt_super { font-size: 65% !important; }\n",
       " #wqgkiriegz .gt_footnote_marks { font-size: 75% !important; vertical-align: 0.4em !important; position: initial !important; }\n",
       " #wqgkiriegz .gt_asterisk { font-size: 100% !important; vertical-align: 0 !important; }\n",
       " \n",
       "</style>\n",
       "<table class=\"gt_table\" data-quarto-disable-processing=\"false\" data-quarto-bootstrap=\"false\">\n",
       "<thead>\n",
       "\n",
       "  <tr class=\"gt_heading\">\n",
       "    <td colspan=\"2\" class=\"gt_heading gt_title gt_font_normal\">Purchase Occasions by Buyers</td>\n",
       "  </tr>\n",
       "<tr class=\"gt_col_headings\">\n",
       "  <th class=\"gt_col_heading gt_columns_bottom_border gt_left\" rowspan=\"1\" colspan=\"1\" scope=\"col\" id=\"Brands/Category\">Brands/Category</th>\n",
       "  <th class=\"gt_col_heading gt_columns_bottom_border gt_center\" rowspan=\"1\" colspan=\"1\" scope=\"col\" id=\"# Of Transactions\"># Of Transactions</th>\n",
       "</tr>\n",
       "</thead>\n",
       "<tbody class=\"gt_table_body\">\n",
       "  <tr>\n",
       "    <th style=\"color: #000000; background-color: #808080;\" class=\"gt_row gt_left gt_stub\">Alpha</th>\n",
       "    <td style=\"color: #FFFFFF; background-color: #7547a3;\" class=\"gt_row gt_center\">9,060</td>\n",
       "  </tr>\n",
       "  <tr>\n",
       "    <th style=\"color: #000000; background-color: #808080;\" class=\"gt_row gt_left gt_stub\">Bravo</th>\n",
       "    <td style=\"color: #FFFFFF; background-color: #8258ac;\" class=\"gt_row gt_center\">8,255</td>\n",
       "  </tr>\n",
       "  <tr>\n",
       "    <th style=\"color: #000000; background-color: #808080;\" class=\"gt_row gt_left gt_stub\">Charlie</th>\n",
       "    <td style=\"color: #000000; background-color: #e7e0ef;\" class=\"gt_row gt_center\">1,882</td>\n",
       "  </tr>\n",
       "  <tr>\n",
       "    <th style=\"color: #000000; background-color: #808080;\" class=\"gt_row gt_left gt_stub\">Delta</th>\n",
       "    <td style=\"color: #000000; background-color: #f8f5fa;\" class=\"gt_row gt_center\">859</td>\n",
       "  </tr>\n",
       "  <tr>\n",
       "    <th style=\"color: #000000; background-color: #808080;\" class=\"gt_row gt_left gt_stub\">Other</th>\n",
       "    <td style=\"color: #000000; background-color: #ffffff;\" class=\"gt_row gt_center\">422</td>\n",
       "  </tr>\n",
       "  <tr>\n",
       "    <th class=\"gt_row gt_left gt_stub\">Category</th>\n",
       "    <td class=\"gt_row gt_center\">20,030</td>\n",
       "  </tr>\n",
       "</tbody>\n",
       "\n",
       "\n",
       "</table>\n",
       "\n",
       "</div>\n",
       "        "
      ],
      "text/plain": [
       "GT(_tbl_data=shape: (6, 2)\n",
       "┌──────────┬──────────────┐\n",
       "│ brand    ┆ transactions │\n",
       "│ ---      ┆ ---          │\n",
       "│ str      ┆ u32          │\n",
       "╞══════════╪══════════════╡\n",
       "│ Alpha    ┆ 9060         │\n",
       "│ Bravo    ┆ 8255         │\n",
       "│ Charlie  ┆ 1882         │\n",
       "│ Delta    ┆ 859          │\n",
       "│ Other    ┆ 422          │\n",
       "│ Category ┆ 20030        │\n",
       "└──────────┴──────────────┘, _body=<great_tables._gt_data.Body object at 0x10b15b6e0>, _boxhead=Boxhead([ColInfo(var='brand', type=<ColInfoTypeEnum.stub: 2>, column_label='brand', column_align='left', column_width=None), ColInfo(var='transactions', type=<ColInfoTypeEnum.default: 1>, column_label='# Of Transactions', column_align='center', column_width=None)]), _stub=<great_tables._gt_data.Stub object at 0x10da96690>, _spanners=Spanners([]), _heading=Heading(title='Purchase Occasions by Buyers', subtitle=None, preheader=None), _stubhead='Brands/Category', _source_notes=[], _footnotes=[], _styles=[StyleInfo(locname=LocBody(columns='brand', rows=[0]), grpname=None, colname='brand', rownum=0, colnum=None, styles=[CellStyleText(color='#000000', font=None, size=None, align=None, v_align=None, style=None, weight=None, stretch=None, decorate=None, transform=None, whitespace=None), CellStyleFill(color='#808080')]), StyleInfo(locname=LocBody(columns='brand', rows=[1]), grpname=None, colname='brand', rownum=1, colnum=None, styles=[CellStyleText(color='#000000', font=None, size=None, align=None, v_align=None, style=None, weight=None, stretch=None, decorate=None, transform=None, whitespace=None), CellStyleFill(color='#808080')]), StyleInfo(locname=LocBody(columns='brand', rows=[2]), grpname=None, colname='brand', rownum=2, colnum=None, styles=[CellStyleText(color='#000000', font=None, size=None, align=None, v_align=None, style=None, weight=None, stretch=None, decorate=None, transform=None, whitespace=None), CellStyleFill(color='#808080')]), StyleInfo(locname=LocBody(columns='brand', rows=[3]), grpname=None, colname='brand', rownum=3, colnum=None, styles=[CellStyleText(color='#000000', font=None, size=None, align=None, v_align=None, style=None, weight=None, stretch=None, decorate=None, transform=None, whitespace=None), CellStyleFill(color='#808080')]), StyleInfo(locname=LocBody(columns='brand', rows=[4]), grpname=None, colname='brand', rownum=4, colnum=None, styles=[CellStyleText(color='#000000', font=None, size=None, align=None, v_align=None, style=None, weight=None, stretch=None, decorate=None, transform=None, whitespace=None), CellStyleFill(color='#808080')]), StyleInfo(locname=LocBody(columns='transactions', rows=[0]), grpname=None, colname='transactions', rownum=0, colnum=None, styles=[CellStyleText(color='#FFFFFF', font=None, size=None, align=None, v_align=None, style=None, weight=None, stretch=None, decorate=None, transform=None, whitespace=None), CellStyleFill(color='#7547a3')]), StyleInfo(locname=LocBody(columns='transactions', rows=[1]), grpname=None, colname='transactions', rownum=1, colnum=None, styles=[CellStyleText(color='#FFFFFF', font=None, size=None, align=None, v_align=None, style=None, weight=None, stretch=None, decorate=None, transform=None, whitespace=None), CellStyleFill(color='#8258ac')]), StyleInfo(locname=LocBody(columns='transactions', rows=[2]), grpname=None, colname='transactions', rownum=2, colnum=None, styles=[CellStyleText(color='#000000', font=None, size=None, align=None, v_align=None, style=None, weight=None, stretch=None, decorate=None, transform=None, whitespace=None), CellStyleFill(color='#e7e0ef')]), StyleInfo(locname=LocBody(columns='transactions', rows=[3]), grpname=None, colname='transactions', rownum=3, colnum=None, styles=[CellStyleText(color='#000000', font=None, size=None, align=None, v_align=None, style=None, weight=None, stretch=None, decorate=None, transform=None, whitespace=None), CellStyleFill(color='#f8f5fa')]), StyleInfo(locname=LocBody(columns='transactions', rows=[4]), grpname=None, colname='transactions', rownum=4, colnum=None, styles=[CellStyleText(color='#000000', font=None, size=None, align=None, v_align=None, style=None, weight=None, stretch=None, decorate=None, transform=None, whitespace=None), CellStyleFill(color='#ffffff')])], _locale=<great_tables._gt_data.Locale object at 0x10da95bf0>, _formats=[<great_tables._gt_data.FormatInfo object at 0x10da96250>], _substitutions=[], _options=Options(table_id=OptionsInfo(scss=False, category='table', type='value', value=None), table_caption=OptionsInfo(scss=False, category='table', type='value', value=None), table_width=OptionsInfo(scss=True, category='table', type='px', value='auto'), table_layout=OptionsInfo(scss=True, category='table', type='value', value='fixed'), table_margin_left=OptionsInfo(scss=True, category='table', type='px', value='auto'), table_margin_right=OptionsInfo(scss=True, category='table', type='px', value='auto'), table_background_color=OptionsInfo(scss=True, category='table', type='value', value='#FFFFFF'), table_additional_css=OptionsInfo(scss=False, category='table', type='values', value=[]), table_font_names=OptionsInfo(scss=False, category='table', type='values', value=['-apple-system', 'BlinkMacSystemFont', 'Segoe UI', 'Roboto', 'Oxygen', 'Ubuntu', 'Cantarell', 'Helvetica Neue', 'Fira Sans', 'Droid Sans', 'Arial', 'sans-serif']), table_font_size=OptionsInfo(scss=True, category='table', type='px', value='16px'), table_font_weight=OptionsInfo(scss=True, category='table', type='value', value='normal'), table_font_style=OptionsInfo(scss=True, category='table', type='value', value='normal'), table_font_color=OptionsInfo(scss=True, category='table', type='value', value='#333333'), table_font_color_light=OptionsInfo(scss=True, category='table', type='value', value='#FFFFFF'), table_border_top_include=OptionsInfo(scss=False, category='table', type='boolean', value=True), table_border_top_style=OptionsInfo(scss=True, category='table', type='value', value='solid'), table_border_top_width=OptionsInfo(scss=True, category='table', type='px', value='2px'), table_border_top_color=OptionsInfo(scss=True, category='table', type='value', value='#A8A8A8'), table_border_right_style=OptionsInfo(scss=True, category='table', type='value', value='none'), table_border_right_width=OptionsInfo(scss=True, category='table', type='px', value='2px'), table_border_right_color=OptionsInfo(scss=True, category='table', type='value', value='#D3D3D3'), table_border_bottom_include=OptionsInfo(scss=False, category='table', type='boolean', value=True), table_border_bottom_style=OptionsInfo(scss=True, category='table', type='value', value='solid'), table_border_bottom_width=OptionsInfo(scss=True, category='table', type='px', value='2px'), table_border_bottom_color=OptionsInfo(scss=True, category='table', type='value', value='#A8A8A8'), table_border_left_style=OptionsInfo(scss=True, category='table', type='value', value='none'), table_border_left_width=OptionsInfo(scss=True, category='table', type='px', value='2px'), table_border_left_color=OptionsInfo(scss=True, category='table', type='value', value='#D3D3D3'), heading_background_color=OptionsInfo(scss=True, category='heading', type='value', value=None), heading_align=OptionsInfo(scss=True, category='heading', type='value', value='center'), heading_title_font_size=OptionsInfo(scss=True, category='heading', type='px', value='125%'), heading_title_font_weight=OptionsInfo(scss=True, category='heading', type='value', value='initial'), heading_subtitle_font_size=OptionsInfo(scss=True, category='heading', type='px', value='85%'), heading_subtitle_font_weight=OptionsInfo(scss=True, category='heading', type='value', value='initial'), heading_padding=OptionsInfo(scss=True, category='heading', type='px', value='4px'), heading_padding_horizontal=OptionsInfo(scss=True, category='heading', type='px', value='5px'), heading_border_bottom_style=OptionsInfo(scss=True, category='heading', type='value', value='solid'), heading_border_bottom_width=OptionsInfo(scss=True, category='heading', type='px', value='2px'), heading_border_bottom_color=OptionsInfo(scss=True, category='heading', type='value', value='#D3D3D3'), heading_border_lr_style=OptionsInfo(scss=True, category='heading', type='value', value='none'), heading_border_lr_width=OptionsInfo(scss=True, category='heading', type='px', value='1px'), heading_border_lr_color=OptionsInfo(scss=True, category='heading', type='value', value='#D3D3D3'), column_labels_background_color=OptionsInfo(scss=True, category='column_labels', type='value', value=None), column_labels_font_size=OptionsInfo(scss=True, category='column_labels', type='px', value='100%'), column_labels_font_weight=OptionsInfo(scss=True, category='column_labels', type='value', value='normal'), column_labels_text_transform=OptionsInfo(scss=True, category='column_labels', type='value', value='inherit'), column_labels_padding=OptionsInfo(scss=True, category='column_labels', type='px', value='5px'), column_labels_padding_horizontal=OptionsInfo(scss=True, category='column_labels', type='px', value='5px'), column_labels_vlines_style=OptionsInfo(scss=True, category='table_body', type='value', value='none'), column_labels_vlines_width=OptionsInfo(scss=True, category='table_body', type='px', value='1px'), column_labels_vlines_color=OptionsInfo(scss=True, category='table_body', type='value', value='#D3D3D3'), column_labels_border_top_style=OptionsInfo(scss=True, category='column_labels', type='value', value='solid'), column_labels_border_top_width=OptionsInfo(scss=True, category='column_labels', type='px', value='2px'), column_labels_border_top_color=OptionsInfo(scss=True, category='column_labels', type='value', value='#D3D3D3'), column_labels_border_bottom_style=OptionsInfo(scss=True, category='column_labels', type='value', value='solid'), column_labels_border_bottom_width=OptionsInfo(scss=True, category='column_labels', type='px', value='2px'), column_labels_border_bottom_color=OptionsInfo(scss=True, category='column_labels', type='value', value='#D3D3D3'), column_labels_border_lr_style=OptionsInfo(scss=True, category='column_labels', type='value', value='none'), column_labels_border_lr_width=OptionsInfo(scss=True, category='column_labels', type='px', value='1px'), column_labels_border_lr_color=OptionsInfo(scss=True, category='column_labels', type='value', value='#D3D3D3'), column_labels_hidden=OptionsInfo(scss=False, category='column_labels', type='boolean', value=False), row_group_background_color=OptionsInfo(scss=True, category='row_group', type='value', value=None), row_group_font_size=OptionsInfo(scss=True, category='row_group', type='px', value='100%'), row_group_font_weight=OptionsInfo(scss=True, category='row_group', type='value', value='initial'), row_group_text_transform=OptionsInfo(scss=True, category='row_group', type='value', value='inherit'), row_group_padding=OptionsInfo(scss=True, category='row_group', type='px', value='8px'), row_group_padding_horizontal=OptionsInfo(scss=True, category='row_group', type='px', value='5px'), row_group_border_top_style=OptionsInfo(scss=True, category='row_group', type='value', value='solid'), row_group_border_top_width=OptionsInfo(scss=True, category='row_group', type='px', value='2px'), row_group_border_top_color=OptionsInfo(scss=True, category='row_group', type='value', value='#D3D3D3'), row_group_border_right_style=OptionsInfo(scss=True, category='row_group', type='value', value='none'), row_group_border_right_width=OptionsInfo(scss=True, category='row_group', type='px', value='1px'), row_group_border_right_color=OptionsInfo(scss=True, category='row_group', type='value', value='#D3D3D3'), row_group_border_bottom_style=OptionsInfo(scss=True, category='row_group', type='value', value='solid'), row_group_border_bottom_width=OptionsInfo(scss=True, category='row_group', type='px', value='2px'), row_group_border_bottom_color=OptionsInfo(scss=True, category='row_group', type='value', value='#D3D3D3'), row_group_border_left_style=OptionsInfo(scss=True, category='row_group', type='value', value='none'), row_group_border_left_width=OptionsInfo(scss=True, category='row_group', type='px', value='1px'), row_group_border_left_color=OptionsInfo(scss=True, category='row_group', type='value', value='#D3D3D3'), row_group_as_column=OptionsInfo(scss=False, category='row_group', type='boolean', value=False), table_body_hlines_style=OptionsInfo(scss=True, category='table_body', type='value', value='solid'), table_body_hlines_width=OptionsInfo(scss=True, category='table_body', type='px', value='1px'), table_body_hlines_color=OptionsInfo(scss=True, category='table_body', type='value', value='#D3D3D3'), table_body_vlines_style=OptionsInfo(scss=True, category='table_body', type='value', value='none'), table_body_vlines_width=OptionsInfo(scss=True, category='table_body', type='px', value='1px'), table_body_vlines_color=OptionsInfo(scss=True, category='table_body', type='value', value='#D3D3D3'), table_body_border_top_style=OptionsInfo(scss=True, category='table_body', type='value', value='solid'), table_body_border_top_width=OptionsInfo(scss=True, category='table_body', type='px', value='2px'), table_body_border_top_color=OptionsInfo(scss=True, category='table_body', type='value', value='#D3D3D3'), table_body_border_bottom_style=OptionsInfo(scss=True, category='table_body', type='value', value='solid'), table_body_border_bottom_width=OptionsInfo(scss=True, category='table_body', type='px', value='2px'), table_body_border_bottom_color=OptionsInfo(scss=True, category='table_body', type='value', value='#D3D3D3'), data_row_padding=OptionsInfo(scss=True, category='data_row', type='px', value='8px'), data_row_padding_horizontal=OptionsInfo(scss=True, category='data_row', type='px', value='5px'), stub_background_color=OptionsInfo(scss=True, category='stub', type='value', value=None), stub_font_size=OptionsInfo(scss=True, category='stub', type='px', value='100%'), stub_font_weight=OptionsInfo(scss=True, category='stub', type='value', value='initial'), stub_text_transform=OptionsInfo(scss=True, category='stub', type='value', value='inherit'), stub_border_style=OptionsInfo(scss=True, category='stub', type='value', value='solid'), stub_border_width=OptionsInfo(scss=True, category='stub', type='px', value='2px'), stub_border_color=OptionsInfo(scss=True, category='stub', type='value', value='#D3D3D3'), stub_row_group_background_color=OptionsInfo(scss=True, category='stub', type='value', value=None), stub_row_group_font_size=OptionsInfo(scss=True, category='stub', type='px', value='100%'), stub_row_group_font_weight=OptionsInfo(scss=True, category='stub', type='value', value='initial'), stub_row_group_text_transform=OptionsInfo(scss=True, category='stub', type='value', value='inherit'), stub_row_group_border_style=OptionsInfo(scss=True, category='stub', type='value', value='solid'), stub_row_group_border_width=OptionsInfo(scss=True, category='stub', type='px', value='2px'), stub_row_group_border_color=OptionsInfo(scss=True, category='stub', type='value', value='#D3D3D3'), source_notes_padding=OptionsInfo(scss=True, category='source_notes', type='px', value='4px'), source_notes_padding_horizontal=OptionsInfo(scss=True, category='source_notes', type='px', value='5px'), source_notes_background_color=OptionsInfo(scss=True, category='source_notes', type='value', value=None), source_notes_font_size=OptionsInfo(scss=True, category='source_notes', type='px', value='90%'), source_notes_border_bottom_style=OptionsInfo(scss=True, category='source_notes', type='value', value='none'), source_notes_border_bottom_width=OptionsInfo(scss=True, category='source_notes', type='px', value='2px'), source_notes_border_bottom_color=OptionsInfo(scss=True, category='source_notes', type='value', value='#D3D3D3'), source_notes_border_lr_style=OptionsInfo(scss=True, category='source_notes', type='value', value='none'), source_notes_border_lr_width=OptionsInfo(scss=True, category='source_notes', type='px', value='2px'), source_notes_border_lr_color=OptionsInfo(scss=True, category='source_notes', type='value', value='#D3D3D3'), source_notes_multiline=OptionsInfo(scss=False, category='source_notes', type='boolean', value=True), source_notes_sep=OptionsInfo(scss=False, category='source_notes', type='value', value=' '), row_striping_background_color=OptionsInfo(scss=True, category='row', type='value', value='rgba(128,128,128,0.05)'), row_striping_include_stub=OptionsInfo(scss=False, category='row', type='boolean', value=False), row_striping_include_table_body=OptionsInfo(scss=False, category='row', type='boolean', value=False), container_width=OptionsInfo(scss=False, category='container', type='px', value='auto'), container_height=OptionsInfo(scss=False, category='container', type='px', value='auto'), container_padding_x=OptionsInfo(scss=False, category='container', type='px', value='0px'), container_padding_y=OptionsInfo(scss=False, category='container', type='px', value='10px'), container_overflow_x=OptionsInfo(scss=False, category='container', type='overflow', value='auto'), container_overflow_y=OptionsInfo(scss=False, category='container', type='overflow', value='auto'), quarto_disable_processing=OptionsInfo(scss=False, category='quarto', type='logical', value=False), quarto_use_bootstrap=OptionsInfo(scss=False, category='quarto', type='logical', value=False)), _has_built=False)"
      ]
     },
     "execution_count": 32,
     "metadata": {},
     "output_type": "execute_result"
    }
   ],
   "source": [
    "transactions = trans_pivot(grocery_lf, 1).sum().select(\n",
    "    'Alpha', 'Bravo', 'Charlie', 'Delta', 'Other', 'Category'\n",
    ").unpivot(\n",
    "    variable_name='brand',\n",
    "    value_name='transactions'\n",
    ")\n",
    "\n",
    "(\n",
    "    GT(transactions, rowname_col='brand')\n",
    "    .tab_header(title='Purchase Occasions by Buyers')\n",
    "    .tab_stubhead(label=\"Brands/Category\")\n",
    "    .fmt_integer()\n",
    "    .data_color(\n",
    "        rows=['Alpha', 'Bravo', 'Charlie', 'Delta', 'Other'],\n",
    "        domain=[400, 10_000],\n",
    "        palette=[ 'white', 'rebeccapurple']\n",
    "    )  \n",
    "    .cols_label(transactions='# Of Transactions')\n",
    ")"
   ]
  },
  {
   "cell_type": "code",
   "execution_count": 33,
   "metadata": {},
   "outputs": [],
   "source": [
    "panel_size = 5021\n",
    "\n",
    "penetration = buyers.with_columns(\n",
    "    (pl.col('buyers') / panel_size).alias('penetration')\n",
    ")\n",
    "\n",
    "ppb = transactions.with_columns(\n",
    "    (pl.col('transactions') / penetration.get_column('buyers')).alias('ppb')\n",
    ")"
   ]
  },
  {
   "cell_type": "code",
   "execution_count": 34,
   "metadata": {},
   "outputs": [
    {
     "data": {
      "text/html": [
       "<div id=\"bycydxtyon\" style=\"padding-left:0px;padding-right:0px;padding-top:10px;padding-bottom:10px;overflow-x:auto;overflow-y:auto;width:auto;height:auto;\">\n",
       "<style>\n",
       "#bycydxtyon table {\n",
       "          font-family: -apple-system, BlinkMacSystemFont, 'Segoe UI', Roboto, Oxygen, Ubuntu, Cantarell, 'Helvetica Neue', 'Fira Sans', 'Droid Sans', Arial, sans-serif;\n",
       "          -webkit-font-smoothing: antialiased;\n",
       "          -moz-osx-font-smoothing: grayscale;\n",
       "        }\n",
       "\n",
       "#bycydxtyon thead, tbody, tfoot, tr, td, th { border-style: none !important; }\n",
       " tr { background-color: transparent !important; }\n",
       "#bycydxtyon p { margin: 0 !important; padding: 0 !important; }\n",
       " #bycydxtyon .gt_table { display: table !important; border-collapse: collapse !important; line-height: normal !important; margin-left: auto !important; margin-right: auto !important; color: #333333 !important; font-size: 16px !important; font-weight: normal !important; font-style: normal !important; background-color: #FFFFFF !important; width: auto !important; border-top-style: solid !important; border-top-width: 2px !important; border-top-color: #A8A8A8 !important; border-right-style: none !important; border-right-width: 2px !important; border-right-color: #D3D3D3 !important; border-bottom-style: solid !important; border-bottom-width: 2px !important; border-bottom-color: #A8A8A8 !important; border-left-style: none !important; border-left-width: 2px !important; border-left-color: #D3D3D3 !important; }\n",
       " #bycydxtyon .gt_caption { padding-top: 4px !important; padding-bottom: 4px !important; }\n",
       " #bycydxtyon .gt_title { color: #333333 !important; font-size: 125% !important; font-weight: initial !important; padding-top: 4px !important; padding-bottom: 4px !important; padding-left: 5px !important; padding-right: 5px !important; border-bottom-color: #FFFFFF !important; border-bottom-width: 0 !important; }\n",
       " #bycydxtyon .gt_subtitle { color: #333333 !important; font-size: 85% !important; font-weight: initial !important; padding-top: 3px !important; padding-bottom: 5px !important; padding-left: 5px !important; padding-right: 5px !important; border-top-color: #FFFFFF !important; border-top-width: 0 !important; }\n",
       " #bycydxtyon .gt_heading { background-color: #FFFFFF !important; text-align: center !important; border-bottom-color: #FFFFFF !important; border-left-style: none !important; border-left-width: 1px !important; border-left-color: #D3D3D3 !important; border-right-style: none !important; border-right-width: 1px !important; border-right-color: #D3D3D3 !important; }\n",
       " #bycydxtyon .gt_bottom_border { border-bottom-style: solid !important; border-bottom-width: 2px !important; border-bottom-color: #D3D3D3 !important; }\n",
       " #bycydxtyon .gt_col_headings { border-top-style: solid !important; border-top-width: 2px !important; border-top-color: #D3D3D3 !important; border-bottom-style: solid !important; border-bottom-width: 2px !important; border-bottom-color: #D3D3D3 !important; border-left-style: none !important; border-left-width: 1px !important; border-left-color: #D3D3D3 !important; border-right-style: none !important; border-right-width: 1px !important; border-right-color: #D3D3D3 !important; }\n",
       " #bycydxtyon .gt_col_heading { color: #333333 !important; background-color: #FFFFFF !important; font-size: 100% !important; font-weight: normal !important; text-transform: inherit !important; border-left-style: none !important; border-left-width: 1px !important; border-left-color: #D3D3D3 !important; border-right-style: none !important; border-right-width: 1px !important; border-right-color: #D3D3D3 !important; vertical-align: bottom !important; padding-top: 5px !important; padding-bottom: 5px !important; padding-left: 5px !important; padding-right: 5px !important; overflow-x: hidden !important; }\n",
       " #bycydxtyon .gt_column_spanner_outer { color: #333333 !important; background-color: #FFFFFF !important; font-size: 100% !important; font-weight: normal !important; text-transform: inherit !important; padding-top: 0 !important; padding-bottom: 0 !important; padding-left: 4px !important; padding-right: 4px !important; }\n",
       " #bycydxtyon .gt_column_spanner_outer:first-child { padding-left: 0 !important; }\n",
       " #bycydxtyon .gt_column_spanner_outer:last-child { padding-right: 0 !important; }\n",
       " #bycydxtyon .gt_column_spanner { border-bottom-style: solid !important; border-bottom-width: 2px !important; border-bottom-color: #D3D3D3 !important; vertical-align: bottom !important; padding-top: 5px !important; padding-bottom: 5px !important; overflow-x: hidden !important; display: inline-block !important; width: 100% !important; }\n",
       " #bycydxtyon .gt_spanner_row { border-bottom-style: hidden !important; }\n",
       " #bycydxtyon .gt_group_heading { padding-top: 8px !important; padding-bottom: 8px !important; padding-left: 5px !important; padding-right: 5px !important; color: #333333 !important; background-color: #FFFFFF !important; font-size: 100% !important; font-weight: initial !important; text-transform: inherit !important; border-top-style: solid !important; border-top-width: 2px !important; border-top-color: #D3D3D3 !important; border-bottom-style: solid !important; border-bottom-width: 2px !important; border-bottom-color: #D3D3D3 !important; border-left-style: none !important; border-left-width: 1px !important; border-left-color: #D3D3D3 !important; border-right-style: none !important; border-right-width: 1px !important; border-right-color: #D3D3D3 !important; vertical-align: middle !important; text-align: left !important; }\n",
       " #bycydxtyon .gt_empty_group_heading { padding: 0.5px !important; color: #333333 !important; background-color: #FFFFFF !important; font-size: 100% !important; font-weight: initial !important; border-top-style: solid !important; border-top-width: 2px !important; border-top-color: #D3D3D3 !important; border-bottom-style: solid !important; border-bottom-width: 2px !important; border-bottom-color: #D3D3D3 !important; vertical-align: middle !important; }\n",
       " #bycydxtyon .gt_from_md> :first-child { margin-top: 0 !important; }\n",
       " #bycydxtyon .gt_from_md> :last-child { margin-bottom: 0 !important; }\n",
       " #bycydxtyon .gt_row { padding-top: 8px !important; padding-bottom: 8px !important; padding-left: 5px !important; padding-right: 5px !important; margin: 10px !important; border-top-style: solid !important; border-top-width: 1px !important; border-top-color: #D3D3D3 !important; border-left-style: none !important; border-left-width: 1px !important; border-left-color: #D3D3D3 !important; border-right-style: none !important; border-right-width: 1px !important; border-right-color: #D3D3D3 !important; vertical-align: middle !important; overflow-x: hidden !important; }\n",
       " #bycydxtyon .gt_stub { color: #333333 !important; background-color: #FFFFFF !important; font-size: 100% !important; font-weight: initial !important; text-transform: inherit !important; border-right-style: solid !important; border-right-width: 2px !important; border-right-color: #D3D3D3 !important; padding-left: 5px !important; padding-right: 5px !important; }\n",
       " #bycydxtyon .gt_stub_row_group { color: #333333 !important; background-color: #FFFFFF !important; font-size: 100% !important; font-weight: initial !important; text-transform: inherit !important; border-right-style: solid !important; border-right-width: 2px !important; border-right-color: #D3D3D3 !important; padding-left: 5px !important; padding-right: 5px !important; vertical-align: top !important; }\n",
       " #bycydxtyon .gt_row_group_first td { border-top-width: 2px !important; }\n",
       " #bycydxtyon .gt_row_group_first th { border-top-width: 2px !important; }\n",
       " #bycydxtyon .gt_striped { background-color: rgba(128,128,128,0.05) !important; }\n",
       " #bycydxtyon .gt_table_body { border-top-style: solid !important; border-top-width: 2px !important; border-top-color: #D3D3D3 !important; border-bottom-style: solid !important; border-bottom-width: 2px !important; border-bottom-color: #D3D3D3 !important; }\n",
       " #bycydxtyon .gt_sourcenotes { color: #333333 !important; background-color: #FFFFFF !important; border-bottom-style: none !important; border-bottom-width: 2px !important; border-bottom-color: #D3D3D3 !important; border-left-style: none !important; border-left-width: 2px !important; border-left-color: #D3D3D3 !important; border-right-style: none !important; border-right-width: 2px !important; border-right-color: #D3D3D3 !important; }\n",
       " #bycydxtyon .gt_sourcenote { font-size: 90% !important; padding-top: 4px !important; padding-bottom: 4px !important; padding-left: 5px !important; padding-right: 5px !important; text-align: left !important; }\n",
       " #bycydxtyon .gt_left { text-align: left !important; }\n",
       " #bycydxtyon .gt_center { text-align: center !important; }\n",
       " #bycydxtyon .gt_right { text-align: right !important; font-variant-numeric: tabular-nums !important; }\n",
       " #bycydxtyon .gt_font_normal { font-weight: normal !important; }\n",
       " #bycydxtyon .gt_font_bold { font-weight: bold !important; }\n",
       " #bycydxtyon .gt_font_italic { font-style: italic !important; }\n",
       " #bycydxtyon .gt_super { font-size: 65% !important; }\n",
       " #bycydxtyon .gt_footnote_marks { font-size: 75% !important; vertical-align: 0.4em !important; position: initial !important; }\n",
       " #bycydxtyon .gt_asterisk { font-size: 100% !important; vertical-align: 0 !important; }\n",
       " \n",
       "</style>\n",
       "<table class=\"gt_table\" data-quarto-disable-processing=\"false\" data-quarto-bootstrap=\"false\">\n",
       "<thead>\n",
       "\n",
       "  <tr class=\"gt_heading\">\n",
       "    <td colspan=\"2\" class=\"gt_heading gt_title gt_font_normal\">Penetration by Category &amp; Brand</td>\n",
       "  </tr>\n",
       "<tr class=\"gt_col_headings\">\n",
       "  <th class=\"gt_col_heading gt_columns_bottom_border gt_left\" rowspan=\"1\" colspan=\"1\" scope=\"col\" id=\"Brands/Category\">Brands/Category</th>\n",
       "  <th class=\"gt_col_heading gt_columns_bottom_border gt_right\" rowspan=\"1\" colspan=\"1\" scope=\"col\" id=\"Penetration (%)\">Penetration (%)</th>\n",
       "</tr>\n",
       "</thead>\n",
       "<tbody class=\"gt_table_body\">\n",
       "  <tr>\n",
       "    <th style=\"color: #000000; background-color: #808080;\" class=\"gt_row gt_left gt_stub\">Alpha</th>\n",
       "    <td style=\"color: #000000; background-color: #af94ca;\" class=\"gt_row gt_right\">52.26%</td>\n",
       "  </tr>\n",
       "  <tr>\n",
       "    <th style=\"color: #000000; background-color: #808080;\" class=\"gt_row gt_left gt_stub\">Bravo</th>\n",
       "    <td style=\"color: #000000; background-color: #b197cb;\" class=\"gt_row gt_right\">51.03%</td>\n",
       "  </tr>\n",
       "  <tr>\n",
       "    <th style=\"color: #000000; background-color: #808080;\" class=\"gt_row gt_left gt_stub\">Charlie</th>\n",
       "    <td style=\"color: #000000; background-color: #e6deee;\" class=\"gt_row gt_right\">16.19%</td>\n",
       "  </tr>\n",
       "  <tr>\n",
       "    <th style=\"color: #000000; background-color: #808080;\" class=\"gt_row gt_left gt_stub\">Delta</th>\n",
       "    <td style=\"color: #000000; background-color: #f3f0f7;\" class=\"gt_row gt_right\">7.57%</td>\n",
       "  </tr>\n",
       "  <tr>\n",
       "    <th style=\"color: #000000; background-color: #808080;\" class=\"gt_row gt_left gt_stub\">Other</th>\n",
       "    <td style=\"color: #000000; background-color: #faf8fb;\" class=\"gt_row gt_right\">3.51%</td>\n",
       "  </tr>\n",
       "  <tr>\n",
       "    <th class=\"gt_row gt_left gt_stub\">Category</th>\n",
       "    <td class=\"gt_row gt_right\">91.10%</td>\n",
       "  </tr>\n",
       "</tbody>\n",
       "\n",
       "\n",
       "</table>\n",
       "\n",
       "</div>\n",
       "        "
      ],
      "text/plain": [
       "GT(_tbl_data=shape: (6, 3)\n",
       "┌──────────┬────────┬─────────────┐\n",
       "│ brand    ┆ buyers ┆ penetration │\n",
       "│ ---      ┆ ---    ┆ ---         │\n",
       "│ str      ┆ u32    ┆ f64         │\n",
       "╞══════════╪════════╪═════════════╡\n",
       "│ Alpha    ┆ 2624   ┆ 0.522605    │\n",
       "│ Bravo    ┆ 2562   ┆ 0.510257    │\n",
       "│ Charlie  ┆ 813    ┆ 0.16192     │\n",
       "│ Delta    ┆ 380    ┆ 0.075682    │\n",
       "│ Other    ┆ 176    ┆ 0.035053    │\n",
       "│ Category ┆ 4574   ┆ 0.910974    │\n",
       "└──────────┴────────┴─────────────┘, _body=<great_tables._gt_data.Body object at 0x10e44a3c0>, _boxhead=Boxhead([ColInfo(var='brand', type=<ColInfoTypeEnum.stub: 2>, column_label='brand', column_align='left', column_width=None), ColInfo(var='buyers', type=<ColInfoTypeEnum.hidden: 4>, column_label='buyers', column_align='center', column_width=None), ColInfo(var='penetration', type=<ColInfoTypeEnum.default: 1>, column_label='Penetration (%)', column_align='right', column_width=None)]), _stub=<great_tables._gt_data.Stub object at 0x102e62050>, _spanners=Spanners([]), _heading=Heading(title='Penetration by Category & Brand', subtitle=None, preheader=None), _stubhead='Brands/Category', _source_notes=[], _footnotes=[], _styles=[StyleInfo(locname=LocBody(columns='brand', rows=[0]), grpname=None, colname='brand', rownum=0, colnum=None, styles=[CellStyleText(color='#000000', font=None, size=None, align=None, v_align=None, style=None, weight=None, stretch=None, decorate=None, transform=None, whitespace=None), CellStyleFill(color='#808080')]), StyleInfo(locname=LocBody(columns='brand', rows=[1]), grpname=None, colname='brand', rownum=1, colnum=None, styles=[CellStyleText(color='#000000', font=None, size=None, align=None, v_align=None, style=None, weight=None, stretch=None, decorate=None, transform=None, whitespace=None), CellStyleFill(color='#808080')]), StyleInfo(locname=LocBody(columns='brand', rows=[2]), grpname=None, colname='brand', rownum=2, colnum=None, styles=[CellStyleText(color='#000000', font=None, size=None, align=None, v_align=None, style=None, weight=None, stretch=None, decorate=None, transform=None, whitespace=None), CellStyleFill(color='#808080')]), StyleInfo(locname=LocBody(columns='brand', rows=[3]), grpname=None, colname='brand', rownum=3, colnum=None, styles=[CellStyleText(color='#000000', font=None, size=None, align=None, v_align=None, style=None, weight=None, stretch=None, decorate=None, transform=None, whitespace=None), CellStyleFill(color='#808080')]), StyleInfo(locname=LocBody(columns='brand', rows=[4]), grpname=None, colname='brand', rownum=4, colnum=None, styles=[CellStyleText(color='#000000', font=None, size=None, align=None, v_align=None, style=None, weight=None, stretch=None, decorate=None, transform=None, whitespace=None), CellStyleFill(color='#808080')]), StyleInfo(locname=LocBody(columns='buyers', rows=[0]), grpname=None, colname='buyers', rownum=0, colnum=None, styles=[CellStyleText(color='#000000', font=None, size=None, align=None, v_align=None, style=None, weight=None, stretch=None, decorate=None, transform=None, whitespace=None), CellStyleFill(color='#808080')]), StyleInfo(locname=LocBody(columns='buyers', rows=[1]), grpname=None, colname='buyers', rownum=1, colnum=None, styles=[CellStyleText(color='#000000', font=None, size=None, align=None, v_align=None, style=None, weight=None, stretch=None, decorate=None, transform=None, whitespace=None), CellStyleFill(color='#808080')]), StyleInfo(locname=LocBody(columns='buyers', rows=[2]), grpname=None, colname='buyers', rownum=2, colnum=None, styles=[CellStyleText(color='#000000', font=None, size=None, align=None, v_align=None, style=None, weight=None, stretch=None, decorate=None, transform=None, whitespace=None), CellStyleFill(color='#808080')]), StyleInfo(locname=LocBody(columns='buyers', rows=[3]), grpname=None, colname='buyers', rownum=3, colnum=None, styles=[CellStyleText(color='#000000', font=None, size=None, align=None, v_align=None, style=None, weight=None, stretch=None, decorate=None, transform=None, whitespace=None), CellStyleFill(color='#808080')]), StyleInfo(locname=LocBody(columns='buyers', rows=[4]), grpname=None, colname='buyers', rownum=4, colnum=None, styles=[CellStyleText(color='#000000', font=None, size=None, align=None, v_align=None, style=None, weight=None, stretch=None, decorate=None, transform=None, whitespace=None), CellStyleFill(color='#808080')]), StyleInfo(locname=LocBody(columns='penetration', rows=[0]), grpname=None, colname='penetration', rownum=0, colnum=None, styles=[CellStyleText(color='#000000', font=None, size=None, align=None, v_align=None, style=None, weight=None, stretch=None, decorate=None, transform=None, whitespace=None), CellStyleFill(color='#af94ca')]), StyleInfo(locname=LocBody(columns='penetration', rows=[1]), grpname=None, colname='penetration', rownum=1, colnum=None, styles=[CellStyleText(color='#000000', font=None, size=None, align=None, v_align=None, style=None, weight=None, stretch=None, decorate=None, transform=None, whitespace=None), CellStyleFill(color='#b197cb')]), StyleInfo(locname=LocBody(columns='penetration', rows=[2]), grpname=None, colname='penetration', rownum=2, colnum=None, styles=[CellStyleText(color='#000000', font=None, size=None, align=None, v_align=None, style=None, weight=None, stretch=None, decorate=None, transform=None, whitespace=None), CellStyleFill(color='#e6deee')]), StyleInfo(locname=LocBody(columns='penetration', rows=[3]), grpname=None, colname='penetration', rownum=3, colnum=None, styles=[CellStyleText(color='#000000', font=None, size=None, align=None, v_align=None, style=None, weight=None, stretch=None, decorate=None, transform=None, whitespace=None), CellStyleFill(color='#f3f0f7')]), StyleInfo(locname=LocBody(columns='penetration', rows=[4]), grpname=None, colname='penetration', rownum=4, colnum=None, styles=[CellStyleText(color='#000000', font=None, size=None, align=None, v_align=None, style=None, weight=None, stretch=None, decorate=None, transform=None, whitespace=None), CellStyleFill(color='#faf8fb')])], _locale=<great_tables._gt_data.Locale object at 0x10da5f850>, _formats=[<great_tables._gt_data.FormatInfo object at 0x10e45cb50>], _substitutions=[], _options=Options(table_id=OptionsInfo(scss=False, category='table', type='value', value=None), table_caption=OptionsInfo(scss=False, category='table', type='value', value=None), table_width=OptionsInfo(scss=True, category='table', type='px', value='auto'), table_layout=OptionsInfo(scss=True, category='table', type='value', value='fixed'), table_margin_left=OptionsInfo(scss=True, category='table', type='px', value='auto'), table_margin_right=OptionsInfo(scss=True, category='table', type='px', value='auto'), table_background_color=OptionsInfo(scss=True, category='table', type='value', value='#FFFFFF'), table_additional_css=OptionsInfo(scss=False, category='table', type='values', value=[]), table_font_names=OptionsInfo(scss=False, category='table', type='values', value=['-apple-system', 'BlinkMacSystemFont', 'Segoe UI', 'Roboto', 'Oxygen', 'Ubuntu', 'Cantarell', 'Helvetica Neue', 'Fira Sans', 'Droid Sans', 'Arial', 'sans-serif']), table_font_size=OptionsInfo(scss=True, category='table', type='px', value='16px'), table_font_weight=OptionsInfo(scss=True, category='table', type='value', value='normal'), table_font_style=OptionsInfo(scss=True, category='table', type='value', value='normal'), table_font_color=OptionsInfo(scss=True, category='table', type='value', value='#333333'), table_font_color_light=OptionsInfo(scss=True, category='table', type='value', value='#FFFFFF'), table_border_top_include=OptionsInfo(scss=False, category='table', type='boolean', value=True), table_border_top_style=OptionsInfo(scss=True, category='table', type='value', value='solid'), table_border_top_width=OptionsInfo(scss=True, category='table', type='px', value='2px'), table_border_top_color=OptionsInfo(scss=True, category='table', type='value', value='#A8A8A8'), table_border_right_style=OptionsInfo(scss=True, category='table', type='value', value='none'), table_border_right_width=OptionsInfo(scss=True, category='table', type='px', value='2px'), table_border_right_color=OptionsInfo(scss=True, category='table', type='value', value='#D3D3D3'), table_border_bottom_include=OptionsInfo(scss=False, category='table', type='boolean', value=True), table_border_bottom_style=OptionsInfo(scss=True, category='table', type='value', value='solid'), table_border_bottom_width=OptionsInfo(scss=True, category='table', type='px', value='2px'), table_border_bottom_color=OptionsInfo(scss=True, category='table', type='value', value='#A8A8A8'), table_border_left_style=OptionsInfo(scss=True, category='table', type='value', value='none'), table_border_left_width=OptionsInfo(scss=True, category='table', type='px', value='2px'), table_border_left_color=OptionsInfo(scss=True, category='table', type='value', value='#D3D3D3'), heading_background_color=OptionsInfo(scss=True, category='heading', type='value', value=None), heading_align=OptionsInfo(scss=True, category='heading', type='value', value='center'), heading_title_font_size=OptionsInfo(scss=True, category='heading', type='px', value='125%'), heading_title_font_weight=OptionsInfo(scss=True, category='heading', type='value', value='initial'), heading_subtitle_font_size=OptionsInfo(scss=True, category='heading', type='px', value='85%'), heading_subtitle_font_weight=OptionsInfo(scss=True, category='heading', type='value', value='initial'), heading_padding=OptionsInfo(scss=True, category='heading', type='px', value='4px'), heading_padding_horizontal=OptionsInfo(scss=True, category='heading', type='px', value='5px'), heading_border_bottom_style=OptionsInfo(scss=True, category='heading', type='value', value='solid'), heading_border_bottom_width=OptionsInfo(scss=True, category='heading', type='px', value='2px'), heading_border_bottom_color=OptionsInfo(scss=True, category='heading', type='value', value='#D3D3D3'), heading_border_lr_style=OptionsInfo(scss=True, category='heading', type='value', value='none'), heading_border_lr_width=OptionsInfo(scss=True, category='heading', type='px', value='1px'), heading_border_lr_color=OptionsInfo(scss=True, category='heading', type='value', value='#D3D3D3'), column_labels_background_color=OptionsInfo(scss=True, category='column_labels', type='value', value=None), column_labels_font_size=OptionsInfo(scss=True, category='column_labels', type='px', value='100%'), column_labels_font_weight=OptionsInfo(scss=True, category='column_labels', type='value', value='normal'), column_labels_text_transform=OptionsInfo(scss=True, category='column_labels', type='value', value='inherit'), column_labels_padding=OptionsInfo(scss=True, category='column_labels', type='px', value='5px'), column_labels_padding_horizontal=OptionsInfo(scss=True, category='column_labels', type='px', value='5px'), column_labels_vlines_style=OptionsInfo(scss=True, category='table_body', type='value', value='none'), column_labels_vlines_width=OptionsInfo(scss=True, category='table_body', type='px', value='1px'), column_labels_vlines_color=OptionsInfo(scss=True, category='table_body', type='value', value='#D3D3D3'), column_labels_border_top_style=OptionsInfo(scss=True, category='column_labels', type='value', value='solid'), column_labels_border_top_width=OptionsInfo(scss=True, category='column_labels', type='px', value='2px'), column_labels_border_top_color=OptionsInfo(scss=True, category='column_labels', type='value', value='#D3D3D3'), column_labels_border_bottom_style=OptionsInfo(scss=True, category='column_labels', type='value', value='solid'), column_labels_border_bottom_width=OptionsInfo(scss=True, category='column_labels', type='px', value='2px'), column_labels_border_bottom_color=OptionsInfo(scss=True, category='column_labels', type='value', value='#D3D3D3'), column_labels_border_lr_style=OptionsInfo(scss=True, category='column_labels', type='value', value='none'), column_labels_border_lr_width=OptionsInfo(scss=True, category='column_labels', type='px', value='1px'), column_labels_border_lr_color=OptionsInfo(scss=True, category='column_labels', type='value', value='#D3D3D3'), column_labels_hidden=OptionsInfo(scss=False, category='column_labels', type='boolean', value=False), row_group_background_color=OptionsInfo(scss=True, category='row_group', type='value', value=None), row_group_font_size=OptionsInfo(scss=True, category='row_group', type='px', value='100%'), row_group_font_weight=OptionsInfo(scss=True, category='row_group', type='value', value='initial'), row_group_text_transform=OptionsInfo(scss=True, category='row_group', type='value', value='inherit'), row_group_padding=OptionsInfo(scss=True, category='row_group', type='px', value='8px'), row_group_padding_horizontal=OptionsInfo(scss=True, category='row_group', type='px', value='5px'), row_group_border_top_style=OptionsInfo(scss=True, category='row_group', type='value', value='solid'), row_group_border_top_width=OptionsInfo(scss=True, category='row_group', type='px', value='2px'), row_group_border_top_color=OptionsInfo(scss=True, category='row_group', type='value', value='#D3D3D3'), row_group_border_right_style=OptionsInfo(scss=True, category='row_group', type='value', value='none'), row_group_border_right_width=OptionsInfo(scss=True, category='row_group', type='px', value='1px'), row_group_border_right_color=OptionsInfo(scss=True, category='row_group', type='value', value='#D3D3D3'), row_group_border_bottom_style=OptionsInfo(scss=True, category='row_group', type='value', value='solid'), row_group_border_bottom_width=OptionsInfo(scss=True, category='row_group', type='px', value='2px'), row_group_border_bottom_color=OptionsInfo(scss=True, category='row_group', type='value', value='#D3D3D3'), row_group_border_left_style=OptionsInfo(scss=True, category='row_group', type='value', value='none'), row_group_border_left_width=OptionsInfo(scss=True, category='row_group', type='px', value='1px'), row_group_border_left_color=OptionsInfo(scss=True, category='row_group', type='value', value='#D3D3D3'), row_group_as_column=OptionsInfo(scss=False, category='row_group', type='boolean', value=False), table_body_hlines_style=OptionsInfo(scss=True, category='table_body', type='value', value='solid'), table_body_hlines_width=OptionsInfo(scss=True, category='table_body', type='px', value='1px'), table_body_hlines_color=OptionsInfo(scss=True, category='table_body', type='value', value='#D3D3D3'), table_body_vlines_style=OptionsInfo(scss=True, category='table_body', type='value', value='none'), table_body_vlines_width=OptionsInfo(scss=True, category='table_body', type='px', value='1px'), table_body_vlines_color=OptionsInfo(scss=True, category='table_body', type='value', value='#D3D3D3'), table_body_border_top_style=OptionsInfo(scss=True, category='table_body', type='value', value='solid'), table_body_border_top_width=OptionsInfo(scss=True, category='table_body', type='px', value='2px'), table_body_border_top_color=OptionsInfo(scss=True, category='table_body', type='value', value='#D3D3D3'), table_body_border_bottom_style=OptionsInfo(scss=True, category='table_body', type='value', value='solid'), table_body_border_bottom_width=OptionsInfo(scss=True, category='table_body', type='px', value='2px'), table_body_border_bottom_color=OptionsInfo(scss=True, category='table_body', type='value', value='#D3D3D3'), data_row_padding=OptionsInfo(scss=True, category='data_row', type='px', value='8px'), data_row_padding_horizontal=OptionsInfo(scss=True, category='data_row', type='px', value='5px'), stub_background_color=OptionsInfo(scss=True, category='stub', type='value', value=None), stub_font_size=OptionsInfo(scss=True, category='stub', type='px', value='100%'), stub_font_weight=OptionsInfo(scss=True, category='stub', type='value', value='initial'), stub_text_transform=OptionsInfo(scss=True, category='stub', type='value', value='inherit'), stub_border_style=OptionsInfo(scss=True, category='stub', type='value', value='solid'), stub_border_width=OptionsInfo(scss=True, category='stub', type='px', value='2px'), stub_border_color=OptionsInfo(scss=True, category='stub', type='value', value='#D3D3D3'), stub_row_group_background_color=OptionsInfo(scss=True, category='stub', type='value', value=None), stub_row_group_font_size=OptionsInfo(scss=True, category='stub', type='px', value='100%'), stub_row_group_font_weight=OptionsInfo(scss=True, category='stub', type='value', value='initial'), stub_row_group_text_transform=OptionsInfo(scss=True, category='stub', type='value', value='inherit'), stub_row_group_border_style=OptionsInfo(scss=True, category='stub', type='value', value='solid'), stub_row_group_border_width=OptionsInfo(scss=True, category='stub', type='px', value='2px'), stub_row_group_border_color=OptionsInfo(scss=True, category='stub', type='value', value='#D3D3D3'), source_notes_padding=OptionsInfo(scss=True, category='source_notes', type='px', value='4px'), source_notes_padding_horizontal=OptionsInfo(scss=True, category='source_notes', type='px', value='5px'), source_notes_background_color=OptionsInfo(scss=True, category='source_notes', type='value', value=None), source_notes_font_size=OptionsInfo(scss=True, category='source_notes', type='px', value='90%'), source_notes_border_bottom_style=OptionsInfo(scss=True, category='source_notes', type='value', value='none'), source_notes_border_bottom_width=OptionsInfo(scss=True, category='source_notes', type='px', value='2px'), source_notes_border_bottom_color=OptionsInfo(scss=True, category='source_notes', type='value', value='#D3D3D3'), source_notes_border_lr_style=OptionsInfo(scss=True, category='source_notes', type='value', value='none'), source_notes_border_lr_width=OptionsInfo(scss=True, category='source_notes', type='px', value='2px'), source_notes_border_lr_color=OptionsInfo(scss=True, category='source_notes', type='value', value='#D3D3D3'), source_notes_multiline=OptionsInfo(scss=False, category='source_notes', type='boolean', value=True), source_notes_sep=OptionsInfo(scss=False, category='source_notes', type='value', value=' '), row_striping_background_color=OptionsInfo(scss=True, category='row', type='value', value='rgba(128,128,128,0.05)'), row_striping_include_stub=OptionsInfo(scss=False, category='row', type='boolean', value=False), row_striping_include_table_body=OptionsInfo(scss=False, category='row', type='boolean', value=False), container_width=OptionsInfo(scss=False, category='container', type='px', value='auto'), container_height=OptionsInfo(scss=False, category='container', type='px', value='auto'), container_padding_x=OptionsInfo(scss=False, category='container', type='px', value='0px'), container_padding_y=OptionsInfo(scss=False, category='container', type='px', value='10px'), container_overflow_x=OptionsInfo(scss=False, category='container', type='overflow', value='auto'), container_overflow_y=OptionsInfo(scss=False, category='container', type='overflow', value='auto'), quarto_disable_processing=OptionsInfo(scss=False, category='quarto', type='logical', value=False), quarto_use_bootstrap=OptionsInfo(scss=False, category='quarto', type='logical', value=False)), _has_built=False)"
      ]
     },
     "execution_count": 34,
     "metadata": {},
     "output_type": "execute_result"
    }
   ],
   "source": [
    "(\n",
    "    GT(penetration, rowname_col='brand')\n",
    "    .tab_header(title='Penetration by Category & Brand')\n",
    "    .tab_stubhead(label=\"Brands/Category\")\n",
    "    .fmt_percent()\n",
    "    .data_color(\n",
    "        rows=['Alpha', 'Bravo', 'Charlie', 'Delta', 'Other'],\n",
    "        domain=[0, 1],\n",
    "        palette=['white', 'rebeccapurple']\n",
    "    )  \n",
    "    .cols_label(penetration='Penetration (%)')\n",
    "    .cols_hide('buyers')\n",
    ")"
   ]
  },
  {
   "cell_type": "code",
   "execution_count": 35,
   "metadata": {},
   "outputs": [
    {
     "data": {
      "text/html": [
       "<div id=\"wpoqzkedgf\" style=\"padding-left:0px;padding-right:0px;padding-top:10px;padding-bottom:10px;overflow-x:auto;overflow-y:auto;width:auto;height:auto;\">\n",
       "<style>\n",
       "#wpoqzkedgf table {\n",
       "          font-family: -apple-system, BlinkMacSystemFont, 'Segoe UI', Roboto, Oxygen, Ubuntu, Cantarell, 'Helvetica Neue', 'Fira Sans', 'Droid Sans', Arial, sans-serif;\n",
       "          -webkit-font-smoothing: antialiased;\n",
       "          -moz-osx-font-smoothing: grayscale;\n",
       "        }\n",
       "\n",
       "#wpoqzkedgf thead, tbody, tfoot, tr, td, th { border-style: none !important; }\n",
       " tr { background-color: transparent !important; }\n",
       "#wpoqzkedgf p { margin: 0 !important; padding: 0 !important; }\n",
       " #wpoqzkedgf .gt_table { display: table !important; border-collapse: collapse !important; line-height: normal !important; margin-left: auto !important; margin-right: auto !important; color: #333333 !important; font-size: 16px !important; font-weight: normal !important; font-style: normal !important; background-color: #FFFFFF !important; width: auto !important; border-top-style: solid !important; border-top-width: 2px !important; border-top-color: #A8A8A8 !important; border-right-style: none !important; border-right-width: 2px !important; border-right-color: #D3D3D3 !important; border-bottom-style: solid !important; border-bottom-width: 2px !important; border-bottom-color: #A8A8A8 !important; border-left-style: none !important; border-left-width: 2px !important; border-left-color: #D3D3D3 !important; }\n",
       " #wpoqzkedgf .gt_caption { padding-top: 4px !important; padding-bottom: 4px !important; }\n",
       " #wpoqzkedgf .gt_title { color: #333333 !important; font-size: 125% !important; font-weight: initial !important; padding-top: 4px !important; padding-bottom: 4px !important; padding-left: 5px !important; padding-right: 5px !important; border-bottom-color: #FFFFFF !important; border-bottom-width: 0 !important; }\n",
       " #wpoqzkedgf .gt_subtitle { color: #333333 !important; font-size: 85% !important; font-weight: initial !important; padding-top: 3px !important; padding-bottom: 5px !important; padding-left: 5px !important; padding-right: 5px !important; border-top-color: #FFFFFF !important; border-top-width: 0 !important; }\n",
       " #wpoqzkedgf .gt_heading { background-color: #FFFFFF !important; text-align: center !important; border-bottom-color: #FFFFFF !important; border-left-style: none !important; border-left-width: 1px !important; border-left-color: #D3D3D3 !important; border-right-style: none !important; border-right-width: 1px !important; border-right-color: #D3D3D3 !important; }\n",
       " #wpoqzkedgf .gt_bottom_border { border-bottom-style: solid !important; border-bottom-width: 2px !important; border-bottom-color: #D3D3D3 !important; }\n",
       " #wpoqzkedgf .gt_col_headings { border-top-style: solid !important; border-top-width: 2px !important; border-top-color: #D3D3D3 !important; border-bottom-style: solid !important; border-bottom-width: 2px !important; border-bottom-color: #D3D3D3 !important; border-left-style: none !important; border-left-width: 1px !important; border-left-color: #D3D3D3 !important; border-right-style: none !important; border-right-width: 1px !important; border-right-color: #D3D3D3 !important; }\n",
       " #wpoqzkedgf .gt_col_heading { color: #333333 !important; background-color: #FFFFFF !important; font-size: 100% !important; font-weight: normal !important; text-transform: inherit !important; border-left-style: none !important; border-left-width: 1px !important; border-left-color: #D3D3D3 !important; border-right-style: none !important; border-right-width: 1px !important; border-right-color: #D3D3D3 !important; vertical-align: bottom !important; padding-top: 5px !important; padding-bottom: 5px !important; padding-left: 5px !important; padding-right: 5px !important; overflow-x: hidden !important; }\n",
       " #wpoqzkedgf .gt_column_spanner_outer { color: #333333 !important; background-color: #FFFFFF !important; font-size: 100% !important; font-weight: normal !important; text-transform: inherit !important; padding-top: 0 !important; padding-bottom: 0 !important; padding-left: 4px !important; padding-right: 4px !important; }\n",
       " #wpoqzkedgf .gt_column_spanner_outer:first-child { padding-left: 0 !important; }\n",
       " #wpoqzkedgf .gt_column_spanner_outer:last-child { padding-right: 0 !important; }\n",
       " #wpoqzkedgf .gt_column_spanner { border-bottom-style: solid !important; border-bottom-width: 2px !important; border-bottom-color: #D3D3D3 !important; vertical-align: bottom !important; padding-top: 5px !important; padding-bottom: 5px !important; overflow-x: hidden !important; display: inline-block !important; width: 100% !important; }\n",
       " #wpoqzkedgf .gt_spanner_row { border-bottom-style: hidden !important; }\n",
       " #wpoqzkedgf .gt_group_heading { padding-top: 8px !important; padding-bottom: 8px !important; padding-left: 5px !important; padding-right: 5px !important; color: #333333 !important; background-color: #FFFFFF !important; font-size: 100% !important; font-weight: initial !important; text-transform: inherit !important; border-top-style: solid !important; border-top-width: 2px !important; border-top-color: #D3D3D3 !important; border-bottom-style: solid !important; border-bottom-width: 2px !important; border-bottom-color: #D3D3D3 !important; border-left-style: none !important; border-left-width: 1px !important; border-left-color: #D3D3D3 !important; border-right-style: none !important; border-right-width: 1px !important; border-right-color: #D3D3D3 !important; vertical-align: middle !important; text-align: left !important; }\n",
       " #wpoqzkedgf .gt_empty_group_heading { padding: 0.5px !important; color: #333333 !important; background-color: #FFFFFF !important; font-size: 100% !important; font-weight: initial !important; border-top-style: solid !important; border-top-width: 2px !important; border-top-color: #D3D3D3 !important; border-bottom-style: solid !important; border-bottom-width: 2px !important; border-bottom-color: #D3D3D3 !important; vertical-align: middle !important; }\n",
       " #wpoqzkedgf .gt_from_md> :first-child { margin-top: 0 !important; }\n",
       " #wpoqzkedgf .gt_from_md> :last-child { margin-bottom: 0 !important; }\n",
       " #wpoqzkedgf .gt_row { padding-top: 8px !important; padding-bottom: 8px !important; padding-left: 5px !important; padding-right: 5px !important; margin: 10px !important; border-top-style: solid !important; border-top-width: 1px !important; border-top-color: #D3D3D3 !important; border-left-style: none !important; border-left-width: 1px !important; border-left-color: #D3D3D3 !important; border-right-style: none !important; border-right-width: 1px !important; border-right-color: #D3D3D3 !important; vertical-align: middle !important; overflow-x: hidden !important; }\n",
       " #wpoqzkedgf .gt_stub { color: #333333 !important; background-color: #FFFFFF !important; font-size: 100% !important; font-weight: initial !important; text-transform: inherit !important; border-right-style: solid !important; border-right-width: 2px !important; border-right-color: #D3D3D3 !important; padding-left: 5px !important; padding-right: 5px !important; }\n",
       " #wpoqzkedgf .gt_stub_row_group { color: #333333 !important; background-color: #FFFFFF !important; font-size: 100% !important; font-weight: initial !important; text-transform: inherit !important; border-right-style: solid !important; border-right-width: 2px !important; border-right-color: #D3D3D3 !important; padding-left: 5px !important; padding-right: 5px !important; vertical-align: top !important; }\n",
       " #wpoqzkedgf .gt_row_group_first td { border-top-width: 2px !important; }\n",
       " #wpoqzkedgf .gt_row_group_first th { border-top-width: 2px !important; }\n",
       " #wpoqzkedgf .gt_striped { background-color: rgba(128,128,128,0.05) !important; }\n",
       " #wpoqzkedgf .gt_table_body { border-top-style: solid !important; border-top-width: 2px !important; border-top-color: #D3D3D3 !important; border-bottom-style: solid !important; border-bottom-width: 2px !important; border-bottom-color: #D3D3D3 !important; }\n",
       " #wpoqzkedgf .gt_sourcenotes { color: #333333 !important; background-color: #FFFFFF !important; border-bottom-style: none !important; border-bottom-width: 2px !important; border-bottom-color: #D3D3D3 !important; border-left-style: none !important; border-left-width: 2px !important; border-left-color: #D3D3D3 !important; border-right-style: none !important; border-right-width: 2px !important; border-right-color: #D3D3D3 !important; }\n",
       " #wpoqzkedgf .gt_sourcenote { font-size: 90% !important; padding-top: 4px !important; padding-bottom: 4px !important; padding-left: 5px !important; padding-right: 5px !important; text-align: left !important; }\n",
       " #wpoqzkedgf .gt_left { text-align: left !important; }\n",
       " #wpoqzkedgf .gt_center { text-align: center !important; }\n",
       " #wpoqzkedgf .gt_right { text-align: right !important; font-variant-numeric: tabular-nums !important; }\n",
       " #wpoqzkedgf .gt_font_normal { font-weight: normal !important; }\n",
       " #wpoqzkedgf .gt_font_bold { font-weight: bold !important; }\n",
       " #wpoqzkedgf .gt_font_italic { font-style: italic !important; }\n",
       " #wpoqzkedgf .gt_super { font-size: 65% !important; }\n",
       " #wpoqzkedgf .gt_footnote_marks { font-size: 75% !important; vertical-align: 0.4em !important; position: initial !important; }\n",
       " #wpoqzkedgf .gt_asterisk { font-size: 100% !important; vertical-align: 0 !important; }\n",
       " \n",
       "</style>\n",
       "<table class=\"gt_table\" data-quarto-disable-processing=\"false\" data-quarto-bootstrap=\"false\">\n",
       "<thead>\n",
       "\n",
       "  <tr class=\"gt_heading\">\n",
       "    <td colspan=\"2\" class=\"gt_heading gt_title gt_font_normal\">Purchases per Buyer (PPB)</td>\n",
       "  </tr>\n",
       "<tr class=\"gt_col_headings\">\n",
       "  <th class=\"gt_col_heading gt_columns_bottom_border gt_left\" rowspan=\"1\" colspan=\"1\" scope=\"col\" id=\"Brands/Category\">Brands/Category</th>\n",
       "  <th class=\"gt_col_heading gt_columns_bottom_border gt_right\" rowspan=\"1\" colspan=\"1\" scope=\"col\" id=\"PPB\">PPB</th>\n",
       "</tr>\n",
       "</thead>\n",
       "<tbody class=\"gt_table_body\">\n",
       "  <tr>\n",
       "    <th style=\"color: #000000; background-color: #808080;\" class=\"gt_row gt_left gt_stub\">Alpha</th>\n",
       "    <td style=\"color: #000000; background-color: #9572b9;\" class=\"gt_row gt_right\">3.45</td>\n",
       "  </tr>\n",
       "  <tr>\n",
       "    <th style=\"color: #000000; background-color: #808080;\" class=\"gt_row gt_left gt_stub\">Bravo</th>\n",
       "    <td style=\"color: #000000; background-color: #9c7cbd;\" class=\"gt_row gt_right\">3.22</td>\n",
       "  </tr>\n",
       "  <tr>\n",
       "    <th style=\"color: #000000; background-color: #808080;\" class=\"gt_row gt_left gt_stub\">Charlie</th>\n",
       "    <td style=\"color: #000000; background-color: #b8a1d0;\" class=\"gt_row gt_right\">2.31</td>\n",
       "  </tr>\n",
       "  <tr>\n",
       "    <th style=\"color: #000000; background-color: #808080;\" class=\"gt_row gt_left gt_stub\">Delta</th>\n",
       "    <td style=\"color: #000000; background-color: #baa3d1;\" class=\"gt_row gt_right\">2.26</td>\n",
       "  </tr>\n",
       "  <tr>\n",
       "    <th style=\"color: #000000; background-color: #808080;\" class=\"gt_row gt_left gt_stub\">Other</th>\n",
       "    <td style=\"color: #000000; background-color: #b69dce;\" class=\"gt_row gt_right\">2.40</td>\n",
       "  </tr>\n",
       "  <tr>\n",
       "    <th class=\"gt_row gt_left gt_stub\">Category</th>\n",
       "    <td class=\"gt_row gt_right\">4.38</td>\n",
       "  </tr>\n",
       "</tbody>\n",
       "\n",
       "\n",
       "</table>\n",
       "\n",
       "</div>\n",
       "        "
      ],
      "text/plain": [
       "GT(_tbl_data=shape: (6, 3)\n",
       "┌──────────┬──────────────┬──────────┐\n",
       "│ brand    ┆ transactions ┆ ppb      │\n",
       "│ ---      ┆ ---          ┆ ---      │\n",
       "│ str      ┆ u32          ┆ f64      │\n",
       "╞══════════╪══════════════╪══════════╡\n",
       "│ Alpha    ┆ 9060         ┆ 3.452744 │\n",
       "│ Bravo    ┆ 8255         ┆ 3.222092 │\n",
       "│ Charlie  ┆ 1882         ┆ 2.314883 │\n",
       "│ Delta    ┆ 859          ┆ 2.260526 │\n",
       "│ Other    ┆ 422          ┆ 2.397727 │\n",
       "│ Category ┆ 20030        ┆ 4.379099 │\n",
       "└──────────┴──────────────┴──────────┘, _body=<great_tables._gt_data.Body object at 0x10e46f950>, _boxhead=Boxhead([ColInfo(var='brand', type=<ColInfoTypeEnum.stub: 2>, column_label='brand', column_align='left', column_width=None), ColInfo(var='transactions', type=<ColInfoTypeEnum.hidden: 4>, column_label='transactions', column_align='center', column_width=None), ColInfo(var='ppb', type=<ColInfoTypeEnum.default: 1>, column_label='PPB', column_align='right', column_width=None)]), _stub=<great_tables._gt_data.Stub object at 0x10e45c550>, _spanners=Spanners([]), _heading=Heading(title='Purchases per Buyer (PPB)', subtitle=None, preheader=None), _stubhead='Brands/Category', _source_notes=[], _footnotes=[], _styles=[StyleInfo(locname=LocBody(columns='brand', rows=[0]), grpname=None, colname='brand', rownum=0, colnum=None, styles=[CellStyleText(color='#000000', font=None, size=None, align=None, v_align=None, style=None, weight=None, stretch=None, decorate=None, transform=None, whitespace=None), CellStyleFill(color='#808080')]), StyleInfo(locname=LocBody(columns='brand', rows=[1]), grpname=None, colname='brand', rownum=1, colnum=None, styles=[CellStyleText(color='#000000', font=None, size=None, align=None, v_align=None, style=None, weight=None, stretch=None, decorate=None, transform=None, whitespace=None), CellStyleFill(color='#808080')]), StyleInfo(locname=LocBody(columns='brand', rows=[2]), grpname=None, colname='brand', rownum=2, colnum=None, styles=[CellStyleText(color='#000000', font=None, size=None, align=None, v_align=None, style=None, weight=None, stretch=None, decorate=None, transform=None, whitespace=None), CellStyleFill(color='#808080')]), StyleInfo(locname=LocBody(columns='brand', rows=[3]), grpname=None, colname='brand', rownum=3, colnum=None, styles=[CellStyleText(color='#000000', font=None, size=None, align=None, v_align=None, style=None, weight=None, stretch=None, decorate=None, transform=None, whitespace=None), CellStyleFill(color='#808080')]), StyleInfo(locname=LocBody(columns='brand', rows=[4]), grpname=None, colname='brand', rownum=4, colnum=None, styles=[CellStyleText(color='#000000', font=None, size=None, align=None, v_align=None, style=None, weight=None, stretch=None, decorate=None, transform=None, whitespace=None), CellStyleFill(color='#808080')]), StyleInfo(locname=LocBody(columns='transactions', rows=[0]), grpname=None, colname='transactions', rownum=0, colnum=None, styles=[CellStyleText(color='#000000', font=None, size=None, align=None, v_align=None, style=None, weight=None, stretch=None, decorate=None, transform=None, whitespace=None), CellStyleFill(color='#808080')]), StyleInfo(locname=LocBody(columns='transactions', rows=[1]), grpname=None, colname='transactions', rownum=1, colnum=None, styles=[CellStyleText(color='#000000', font=None, size=None, align=None, v_align=None, style=None, weight=None, stretch=None, decorate=None, transform=None, whitespace=None), CellStyleFill(color='#808080')]), StyleInfo(locname=LocBody(columns='transactions', rows=[2]), grpname=None, colname='transactions', rownum=2, colnum=None, styles=[CellStyleText(color='#000000', font=None, size=None, align=None, v_align=None, style=None, weight=None, stretch=None, decorate=None, transform=None, whitespace=None), CellStyleFill(color='#808080')]), StyleInfo(locname=LocBody(columns='transactions', rows=[3]), grpname=None, colname='transactions', rownum=3, colnum=None, styles=[CellStyleText(color='#000000', font=None, size=None, align=None, v_align=None, style=None, weight=None, stretch=None, decorate=None, transform=None, whitespace=None), CellStyleFill(color='#808080')]), StyleInfo(locname=LocBody(columns='transactions', rows=[4]), grpname=None, colname='transactions', rownum=4, colnum=None, styles=[CellStyleText(color='#000000', font=None, size=None, align=None, v_align=None, style=None, weight=None, stretch=None, decorate=None, transform=None, whitespace=None), CellStyleFill(color='#808080')]), StyleInfo(locname=LocBody(columns='ppb', rows=[0]), grpname=None, colname='ppb', rownum=0, colnum=None, styles=[CellStyleText(color='#000000', font=None, size=None, align=None, v_align=None, style=None, weight=None, stretch=None, decorate=None, transform=None, whitespace=None), CellStyleFill(color='#9572b9')]), StyleInfo(locname=LocBody(columns='ppb', rows=[1]), grpname=None, colname='ppb', rownum=1, colnum=None, styles=[CellStyleText(color='#000000', font=None, size=None, align=None, v_align=None, style=None, weight=None, stretch=None, decorate=None, transform=None, whitespace=None), CellStyleFill(color='#9c7cbd')]), StyleInfo(locname=LocBody(columns='ppb', rows=[2]), grpname=None, colname='ppb', rownum=2, colnum=None, styles=[CellStyleText(color='#000000', font=None, size=None, align=None, v_align=None, style=None, weight=None, stretch=None, decorate=None, transform=None, whitespace=None), CellStyleFill(color='#b8a1d0')]), StyleInfo(locname=LocBody(columns='ppb', rows=[3]), grpname=None, colname='ppb', rownum=3, colnum=None, styles=[CellStyleText(color='#000000', font=None, size=None, align=None, v_align=None, style=None, weight=None, stretch=None, decorate=None, transform=None, whitespace=None), CellStyleFill(color='#baa3d1')]), StyleInfo(locname=LocBody(columns='ppb', rows=[4]), grpname=None, colname='ppb', rownum=4, colnum=None, styles=[CellStyleText(color='#000000', font=None, size=None, align=None, v_align=None, style=None, weight=None, stretch=None, decorate=None, transform=None, whitespace=None), CellStyleFill(color='#b69dce')])], _locale=<great_tables._gt_data.Locale object at 0x10e45c050>, _formats=[<great_tables._gt_data.FormatInfo object at 0x10e45c850>], _substitutions=[], _options=Options(table_id=OptionsInfo(scss=False, category='table', type='value', value=None), table_caption=OptionsInfo(scss=False, category='table', type='value', value=None), table_width=OptionsInfo(scss=True, category='table', type='px', value='auto'), table_layout=OptionsInfo(scss=True, category='table', type='value', value='fixed'), table_margin_left=OptionsInfo(scss=True, category='table', type='px', value='auto'), table_margin_right=OptionsInfo(scss=True, category='table', type='px', value='auto'), table_background_color=OptionsInfo(scss=True, category='table', type='value', value='#FFFFFF'), table_additional_css=OptionsInfo(scss=False, category='table', type='values', value=[]), table_font_names=OptionsInfo(scss=False, category='table', type='values', value=['-apple-system', 'BlinkMacSystemFont', 'Segoe UI', 'Roboto', 'Oxygen', 'Ubuntu', 'Cantarell', 'Helvetica Neue', 'Fira Sans', 'Droid Sans', 'Arial', 'sans-serif']), table_font_size=OptionsInfo(scss=True, category='table', type='px', value='16px'), table_font_weight=OptionsInfo(scss=True, category='table', type='value', value='normal'), table_font_style=OptionsInfo(scss=True, category='table', type='value', value='normal'), table_font_color=OptionsInfo(scss=True, category='table', type='value', value='#333333'), table_font_color_light=OptionsInfo(scss=True, category='table', type='value', value='#FFFFFF'), table_border_top_include=OptionsInfo(scss=False, category='table', type='boolean', value=True), table_border_top_style=OptionsInfo(scss=True, category='table', type='value', value='solid'), table_border_top_width=OptionsInfo(scss=True, category='table', type='px', value='2px'), table_border_top_color=OptionsInfo(scss=True, category='table', type='value', value='#A8A8A8'), table_border_right_style=OptionsInfo(scss=True, category='table', type='value', value='none'), table_border_right_width=OptionsInfo(scss=True, category='table', type='px', value='2px'), table_border_right_color=OptionsInfo(scss=True, category='table', type='value', value='#D3D3D3'), table_border_bottom_include=OptionsInfo(scss=False, category='table', type='boolean', value=True), table_border_bottom_style=OptionsInfo(scss=True, category='table', type='value', value='solid'), table_border_bottom_width=OptionsInfo(scss=True, category='table', type='px', value='2px'), table_border_bottom_color=OptionsInfo(scss=True, category='table', type='value', value='#A8A8A8'), table_border_left_style=OptionsInfo(scss=True, category='table', type='value', value='none'), table_border_left_width=OptionsInfo(scss=True, category='table', type='px', value='2px'), table_border_left_color=OptionsInfo(scss=True, category='table', type='value', value='#D3D3D3'), heading_background_color=OptionsInfo(scss=True, category='heading', type='value', value=None), heading_align=OptionsInfo(scss=True, category='heading', type='value', value='center'), heading_title_font_size=OptionsInfo(scss=True, category='heading', type='px', value='125%'), heading_title_font_weight=OptionsInfo(scss=True, category='heading', type='value', value='initial'), heading_subtitle_font_size=OptionsInfo(scss=True, category='heading', type='px', value='85%'), heading_subtitle_font_weight=OptionsInfo(scss=True, category='heading', type='value', value='initial'), heading_padding=OptionsInfo(scss=True, category='heading', type='px', value='4px'), heading_padding_horizontal=OptionsInfo(scss=True, category='heading', type='px', value='5px'), heading_border_bottom_style=OptionsInfo(scss=True, category='heading', type='value', value='solid'), heading_border_bottom_width=OptionsInfo(scss=True, category='heading', type='px', value='2px'), heading_border_bottom_color=OptionsInfo(scss=True, category='heading', type='value', value='#D3D3D3'), heading_border_lr_style=OptionsInfo(scss=True, category='heading', type='value', value='none'), heading_border_lr_width=OptionsInfo(scss=True, category='heading', type='px', value='1px'), heading_border_lr_color=OptionsInfo(scss=True, category='heading', type='value', value='#D3D3D3'), column_labels_background_color=OptionsInfo(scss=True, category='column_labels', type='value', value=None), column_labels_font_size=OptionsInfo(scss=True, category='column_labels', type='px', value='100%'), column_labels_font_weight=OptionsInfo(scss=True, category='column_labels', type='value', value='normal'), column_labels_text_transform=OptionsInfo(scss=True, category='column_labels', type='value', value='inherit'), column_labels_padding=OptionsInfo(scss=True, category='column_labels', type='px', value='5px'), column_labels_padding_horizontal=OptionsInfo(scss=True, category='column_labels', type='px', value='5px'), column_labels_vlines_style=OptionsInfo(scss=True, category='table_body', type='value', value='none'), column_labels_vlines_width=OptionsInfo(scss=True, category='table_body', type='px', value='1px'), column_labels_vlines_color=OptionsInfo(scss=True, category='table_body', type='value', value='#D3D3D3'), column_labels_border_top_style=OptionsInfo(scss=True, category='column_labels', type='value', value='solid'), column_labels_border_top_width=OptionsInfo(scss=True, category='column_labels', type='px', value='2px'), column_labels_border_top_color=OptionsInfo(scss=True, category='column_labels', type='value', value='#D3D3D3'), column_labels_border_bottom_style=OptionsInfo(scss=True, category='column_labels', type='value', value='solid'), column_labels_border_bottom_width=OptionsInfo(scss=True, category='column_labels', type='px', value='2px'), column_labels_border_bottom_color=OptionsInfo(scss=True, category='column_labels', type='value', value='#D3D3D3'), column_labels_border_lr_style=OptionsInfo(scss=True, category='column_labels', type='value', value='none'), column_labels_border_lr_width=OptionsInfo(scss=True, category='column_labels', type='px', value='1px'), column_labels_border_lr_color=OptionsInfo(scss=True, category='column_labels', type='value', value='#D3D3D3'), column_labels_hidden=OptionsInfo(scss=False, category='column_labels', type='boolean', value=False), row_group_background_color=OptionsInfo(scss=True, category='row_group', type='value', value=None), row_group_font_size=OptionsInfo(scss=True, category='row_group', type='px', value='100%'), row_group_font_weight=OptionsInfo(scss=True, category='row_group', type='value', value='initial'), row_group_text_transform=OptionsInfo(scss=True, category='row_group', type='value', value='inherit'), row_group_padding=OptionsInfo(scss=True, category='row_group', type='px', value='8px'), row_group_padding_horizontal=OptionsInfo(scss=True, category='row_group', type='px', value='5px'), row_group_border_top_style=OptionsInfo(scss=True, category='row_group', type='value', value='solid'), row_group_border_top_width=OptionsInfo(scss=True, category='row_group', type='px', value='2px'), row_group_border_top_color=OptionsInfo(scss=True, category='row_group', type='value', value='#D3D3D3'), row_group_border_right_style=OptionsInfo(scss=True, category='row_group', type='value', value='none'), row_group_border_right_width=OptionsInfo(scss=True, category='row_group', type='px', value='1px'), row_group_border_right_color=OptionsInfo(scss=True, category='row_group', type='value', value='#D3D3D3'), row_group_border_bottom_style=OptionsInfo(scss=True, category='row_group', type='value', value='solid'), row_group_border_bottom_width=OptionsInfo(scss=True, category='row_group', type='px', value='2px'), row_group_border_bottom_color=OptionsInfo(scss=True, category='row_group', type='value', value='#D3D3D3'), row_group_border_left_style=OptionsInfo(scss=True, category='row_group', type='value', value='none'), row_group_border_left_width=OptionsInfo(scss=True, category='row_group', type='px', value='1px'), row_group_border_left_color=OptionsInfo(scss=True, category='row_group', type='value', value='#D3D3D3'), row_group_as_column=OptionsInfo(scss=False, category='row_group', type='boolean', value=False), table_body_hlines_style=OptionsInfo(scss=True, category='table_body', type='value', value='solid'), table_body_hlines_width=OptionsInfo(scss=True, category='table_body', type='px', value='1px'), table_body_hlines_color=OptionsInfo(scss=True, category='table_body', type='value', value='#D3D3D3'), table_body_vlines_style=OptionsInfo(scss=True, category='table_body', type='value', value='none'), table_body_vlines_width=OptionsInfo(scss=True, category='table_body', type='px', value='1px'), table_body_vlines_color=OptionsInfo(scss=True, category='table_body', type='value', value='#D3D3D3'), table_body_border_top_style=OptionsInfo(scss=True, category='table_body', type='value', value='solid'), table_body_border_top_width=OptionsInfo(scss=True, category='table_body', type='px', value='2px'), table_body_border_top_color=OptionsInfo(scss=True, category='table_body', type='value', value='#D3D3D3'), table_body_border_bottom_style=OptionsInfo(scss=True, category='table_body', type='value', value='solid'), table_body_border_bottom_width=OptionsInfo(scss=True, category='table_body', type='px', value='2px'), table_body_border_bottom_color=OptionsInfo(scss=True, category='table_body', type='value', value='#D3D3D3'), data_row_padding=OptionsInfo(scss=True, category='data_row', type='px', value='8px'), data_row_padding_horizontal=OptionsInfo(scss=True, category='data_row', type='px', value='5px'), stub_background_color=OptionsInfo(scss=True, category='stub', type='value', value=None), stub_font_size=OptionsInfo(scss=True, category='stub', type='px', value='100%'), stub_font_weight=OptionsInfo(scss=True, category='stub', type='value', value='initial'), stub_text_transform=OptionsInfo(scss=True, category='stub', type='value', value='inherit'), stub_border_style=OptionsInfo(scss=True, category='stub', type='value', value='solid'), stub_border_width=OptionsInfo(scss=True, category='stub', type='px', value='2px'), stub_border_color=OptionsInfo(scss=True, category='stub', type='value', value='#D3D3D3'), stub_row_group_background_color=OptionsInfo(scss=True, category='stub', type='value', value=None), stub_row_group_font_size=OptionsInfo(scss=True, category='stub', type='px', value='100%'), stub_row_group_font_weight=OptionsInfo(scss=True, category='stub', type='value', value='initial'), stub_row_group_text_transform=OptionsInfo(scss=True, category='stub', type='value', value='inherit'), stub_row_group_border_style=OptionsInfo(scss=True, category='stub', type='value', value='solid'), stub_row_group_border_width=OptionsInfo(scss=True, category='stub', type='px', value='2px'), stub_row_group_border_color=OptionsInfo(scss=True, category='stub', type='value', value='#D3D3D3'), source_notes_padding=OptionsInfo(scss=True, category='source_notes', type='px', value='4px'), source_notes_padding_horizontal=OptionsInfo(scss=True, category='source_notes', type='px', value='5px'), source_notes_background_color=OptionsInfo(scss=True, category='source_notes', type='value', value=None), source_notes_font_size=OptionsInfo(scss=True, category='source_notes', type='px', value='90%'), source_notes_border_bottom_style=OptionsInfo(scss=True, category='source_notes', type='value', value='none'), source_notes_border_bottom_width=OptionsInfo(scss=True, category='source_notes', type='px', value='2px'), source_notes_border_bottom_color=OptionsInfo(scss=True, category='source_notes', type='value', value='#D3D3D3'), source_notes_border_lr_style=OptionsInfo(scss=True, category='source_notes', type='value', value='none'), source_notes_border_lr_width=OptionsInfo(scss=True, category='source_notes', type='px', value='2px'), source_notes_border_lr_color=OptionsInfo(scss=True, category='source_notes', type='value', value='#D3D3D3'), source_notes_multiline=OptionsInfo(scss=False, category='source_notes', type='boolean', value=True), source_notes_sep=OptionsInfo(scss=False, category='source_notes', type='value', value=' '), row_striping_background_color=OptionsInfo(scss=True, category='row', type='value', value='rgba(128,128,128,0.05)'), row_striping_include_stub=OptionsInfo(scss=False, category='row', type='boolean', value=False), row_striping_include_table_body=OptionsInfo(scss=False, category='row', type='boolean', value=False), container_width=OptionsInfo(scss=False, category='container', type='px', value='auto'), container_height=OptionsInfo(scss=False, category='container', type='px', value='auto'), container_padding_x=OptionsInfo(scss=False, category='container', type='px', value='0px'), container_padding_y=OptionsInfo(scss=False, category='container', type='px', value='10px'), container_overflow_x=OptionsInfo(scss=False, category='container', type='overflow', value='auto'), container_overflow_y=OptionsInfo(scss=False, category='container', type='overflow', value='auto'), quarto_disable_processing=OptionsInfo(scss=False, category='quarto', type='logical', value=False), quarto_use_bootstrap=OptionsInfo(scss=False, category='quarto', type='logical', value=False)), _has_built=False)"
      ]
     },
     "execution_count": 35,
     "metadata": {},
     "output_type": "execute_result"
    }
   ],
   "source": [
    "(\n",
    "    GT(ppb, rowname_col='brand')\n",
    "    .tab_header(title='Purchases per Buyer (PPB)')\n",
    "    .tab_stubhead(label=\"Brands/Category\")\n",
    "    .fmt_number()\n",
    "    .data_color(\n",
    "        rows=['Alpha', 'Bravo', 'Charlie', 'Delta', 'Other'],\n",
    "        domain=[0, 5],\n",
    "        palette=['white', 'rebeccapurple']\n",
    "    )  \n",
    "    .cols_label(ppb='PPB')\n",
    "    .cols_hide('transactions')\n",
    ")"
   ]
  },
  {
   "cell_type": "markdown",
   "metadata": {},
   "source": [
    "#### Distribution of Purchase"
   ]
  },
  {
   "cell_type": "markdown",
   "metadata": {},
   "source": [
    "##### Distribution of Category Purchase Frequency"
   ]
  },
  {
   "cell_type": "code",
   "execution_count": 36,
   "metadata": {},
   "outputs": [
    {
     "data": {
      "text/html": [
       "<div id=\"smvwxxtojv\" style=\"padding-left:0px;padding-right:0px;padding-top:10px;padding-bottom:10px;overflow-x:auto;overflow-y:auto;width:auto;height:auto;\">\n",
       "<style>\n",
       "#smvwxxtojv table {\n",
       "          font-family: -apple-system, BlinkMacSystemFont, 'Segoe UI', Roboto, Oxygen, Ubuntu, Cantarell, 'Helvetica Neue', 'Fira Sans', 'Droid Sans', Arial, sans-serif;\n",
       "          -webkit-font-smoothing: antialiased;\n",
       "          -moz-osx-font-smoothing: grayscale;\n",
       "        }\n",
       "\n",
       "#smvwxxtojv thead, tbody, tfoot, tr, td, th { border-style: none !important; }\n",
       " tr { background-color: transparent !important; }\n",
       "#smvwxxtojv p { margin: 0 !important; padding: 0 !important; }\n",
       " #smvwxxtojv .gt_table { display: table !important; border-collapse: collapse !important; line-height: normal !important; margin-left: auto !important; margin-right: auto !important; color: #333333 !important; font-size: 16px !important; font-weight: normal !important; font-style: normal !important; background-color: #FFFFFF !important; width: auto !important; border-top-style: solid !important; border-top-width: 2px !important; border-top-color: #A8A8A8 !important; border-right-style: none !important; border-right-width: 2px !important; border-right-color: #D3D3D3 !important; border-bottom-style: solid !important; border-bottom-width: 2px !important; border-bottom-color: #A8A8A8 !important; border-left-style: none !important; border-left-width: 2px !important; border-left-color: #D3D3D3 !important; }\n",
       " #smvwxxtojv .gt_caption { padding-top: 4px !important; padding-bottom: 4px !important; }\n",
       " #smvwxxtojv .gt_title { color: #333333 !important; font-size: 125% !important; font-weight: initial !important; padding-top: 4px !important; padding-bottom: 4px !important; padding-left: 5px !important; padding-right: 5px !important; border-bottom-color: #FFFFFF !important; border-bottom-width: 0 !important; }\n",
       " #smvwxxtojv .gt_subtitle { color: #333333 !important; font-size: 85% !important; font-weight: initial !important; padding-top: 3px !important; padding-bottom: 5px !important; padding-left: 5px !important; padding-right: 5px !important; border-top-color: #FFFFFF !important; border-top-width: 0 !important; }\n",
       " #smvwxxtojv .gt_heading { background-color: #FFFFFF !important; text-align: center !important; border-bottom-color: #FFFFFF !important; border-left-style: none !important; border-left-width: 1px !important; border-left-color: #D3D3D3 !important; border-right-style: none !important; border-right-width: 1px !important; border-right-color: #D3D3D3 !important; }\n",
       " #smvwxxtojv .gt_bottom_border { border-bottom-style: solid !important; border-bottom-width: 2px !important; border-bottom-color: #D3D3D3 !important; }\n",
       " #smvwxxtojv .gt_col_headings { border-top-style: solid !important; border-top-width: 2px !important; border-top-color: #D3D3D3 !important; border-bottom-style: solid !important; border-bottom-width: 2px !important; border-bottom-color: #D3D3D3 !important; border-left-style: none !important; border-left-width: 1px !important; border-left-color: #D3D3D3 !important; border-right-style: none !important; border-right-width: 1px !important; border-right-color: #D3D3D3 !important; }\n",
       " #smvwxxtojv .gt_col_heading { color: #333333 !important; background-color: #FFFFFF !important; font-size: 100% !important; font-weight: normal !important; text-transform: inherit !important; border-left-style: none !important; border-left-width: 1px !important; border-left-color: #D3D3D3 !important; border-right-style: none !important; border-right-width: 1px !important; border-right-color: #D3D3D3 !important; vertical-align: bottom !important; padding-top: 5px !important; padding-bottom: 5px !important; padding-left: 5px !important; padding-right: 5px !important; overflow-x: hidden !important; }\n",
       " #smvwxxtojv .gt_column_spanner_outer { color: #333333 !important; background-color: #FFFFFF !important; font-size: 100% !important; font-weight: normal !important; text-transform: inherit !important; padding-top: 0 !important; padding-bottom: 0 !important; padding-left: 4px !important; padding-right: 4px !important; }\n",
       " #smvwxxtojv .gt_column_spanner_outer:first-child { padding-left: 0 !important; }\n",
       " #smvwxxtojv .gt_column_spanner_outer:last-child { padding-right: 0 !important; }\n",
       " #smvwxxtojv .gt_column_spanner { border-bottom-style: solid !important; border-bottom-width: 2px !important; border-bottom-color: #D3D3D3 !important; vertical-align: bottom !important; padding-top: 5px !important; padding-bottom: 5px !important; overflow-x: hidden !important; display: inline-block !important; width: 100% !important; }\n",
       " #smvwxxtojv .gt_spanner_row { border-bottom-style: hidden !important; }\n",
       " #smvwxxtojv .gt_group_heading { padding-top: 8px !important; padding-bottom: 8px !important; padding-left: 5px !important; padding-right: 5px !important; color: #333333 !important; background-color: #FFFFFF !important; font-size: 100% !important; font-weight: initial !important; text-transform: inherit !important; border-top-style: solid !important; border-top-width: 2px !important; border-top-color: #D3D3D3 !important; border-bottom-style: solid !important; border-bottom-width: 2px !important; border-bottom-color: #D3D3D3 !important; border-left-style: none !important; border-left-width: 1px !important; border-left-color: #D3D3D3 !important; border-right-style: none !important; border-right-width: 1px !important; border-right-color: #D3D3D3 !important; vertical-align: middle !important; text-align: left !important; }\n",
       " #smvwxxtojv .gt_empty_group_heading { padding: 0.5px !important; color: #333333 !important; background-color: #FFFFFF !important; font-size: 100% !important; font-weight: initial !important; border-top-style: solid !important; border-top-width: 2px !important; border-top-color: #D3D3D3 !important; border-bottom-style: solid !important; border-bottom-width: 2px !important; border-bottom-color: #D3D3D3 !important; vertical-align: middle !important; }\n",
       " #smvwxxtojv .gt_from_md> :first-child { margin-top: 0 !important; }\n",
       " #smvwxxtojv .gt_from_md> :last-child { margin-bottom: 0 !important; }\n",
       " #smvwxxtojv .gt_row { padding-top: 8px !important; padding-bottom: 8px !important; padding-left: 5px !important; padding-right: 5px !important; margin: 10px !important; border-top-style: solid !important; border-top-width: 1px !important; border-top-color: #D3D3D3 !important; border-left-style: none !important; border-left-width: 1px !important; border-left-color: #D3D3D3 !important; border-right-style: none !important; border-right-width: 1px !important; border-right-color: #D3D3D3 !important; vertical-align: middle !important; overflow-x: hidden !important; }\n",
       " #smvwxxtojv .gt_stub { color: #333333 !important; background-color: #FFFFFF !important; font-size: 100% !important; font-weight: initial !important; text-transform: inherit !important; border-right-style: solid !important; border-right-width: 2px !important; border-right-color: #D3D3D3 !important; padding-left: 5px !important; padding-right: 5px !important; }\n",
       " #smvwxxtojv .gt_stub_row_group { color: #333333 !important; background-color: #FFFFFF !important; font-size: 100% !important; font-weight: initial !important; text-transform: inherit !important; border-right-style: solid !important; border-right-width: 2px !important; border-right-color: #D3D3D3 !important; padding-left: 5px !important; padding-right: 5px !important; vertical-align: top !important; }\n",
       " #smvwxxtojv .gt_row_group_first td { border-top-width: 2px !important; }\n",
       " #smvwxxtojv .gt_row_group_first th { border-top-width: 2px !important; }\n",
       " #smvwxxtojv .gt_striped { background-color: rgba(128,128,128,0.05) !important; }\n",
       " #smvwxxtojv .gt_table_body { border-top-style: solid !important; border-top-width: 2px !important; border-top-color: #D3D3D3 !important; border-bottom-style: solid !important; border-bottom-width: 2px !important; border-bottom-color: #D3D3D3 !important; }\n",
       " #smvwxxtojv .gt_sourcenotes { color: #333333 !important; background-color: #FFFFFF !important; border-bottom-style: none !important; border-bottom-width: 2px !important; border-bottom-color: #D3D3D3 !important; border-left-style: none !important; border-left-width: 2px !important; border-left-color: #D3D3D3 !important; border-right-style: none !important; border-right-width: 2px !important; border-right-color: #D3D3D3 !important; }\n",
       " #smvwxxtojv .gt_sourcenote { font-size: 90% !important; padding-top: 4px !important; padding-bottom: 4px !important; padding-left: 5px !important; padding-right: 5px !important; text-align: left !important; }\n",
       " #smvwxxtojv .gt_left { text-align: left !important; }\n",
       " #smvwxxtojv .gt_center { text-align: center !important; }\n",
       " #smvwxxtojv .gt_right { text-align: right !important; font-variant-numeric: tabular-nums !important; }\n",
       " #smvwxxtojv .gt_font_normal { font-weight: normal !important; }\n",
       " #smvwxxtojv .gt_font_bold { font-weight: bold !important; }\n",
       " #smvwxxtojv .gt_font_italic { font-style: italic !important; }\n",
       " #smvwxxtojv .gt_super { font-size: 65% !important; }\n",
       " #smvwxxtojv .gt_footnote_marks { font-size: 75% !important; vertical-align: 0.4em !important; position: initial !important; }\n",
       " #smvwxxtojv .gt_asterisk { font-size: 100% !important; vertical-align: 0 !important; }\n",
       " \n",
       "</style>\n",
       "<table class=\"gt_table\" data-quarto-disable-processing=\"false\" data-quarto-bootstrap=\"false\">\n",
       "<thead>\n",
       "\n",
       "  <tr class=\"gt_heading\">\n",
       "    <td colspan=\"3\" class=\"gt_heading gt_title gt_font_normal\">Category Purchase Distribution</td>\n",
       "  </tr>\n",
       "<tr class=\"gt_col_headings\">\n",
       "  <th class=\"gt_col_heading gt_columns_bottom_border gt_left\" rowspan=\"1\" colspan=\"1\" scope=\"col\" id=\"# of Purchases\"># of Purchases</th>\n",
       "  <th class=\"gt_col_heading gt_columns_bottom_border gt_right\" rowspan=\"1\" colspan=\"1\" scope=\"col\" id=\"Frequency\">Frequency</th>\n",
       "  <th class=\"gt_col_heading gt_columns_bottom_border gt_right\" rowspan=\"1\" colspan=\"1\" scope=\"col\" id=\"% of Total\">% of Total</th>\n",
       "</tr>\n",
       "</thead>\n",
       "<tbody class=\"gt_table_body\">\n",
       "  <tr>\n",
       "    <th class=\"gt_row gt_left gt_stub\">0</th>\n",
       "    <td class=\"gt_row gt_right\">447</td>\n",
       "    <td style=\"color: #000000; background-color: #bba4d2;\" class=\"gt_row gt_right\">8.90%</td>\n",
       "  </tr>\n",
       "  <tr>\n",
       "    <th class=\"gt_row gt_left gt_stub\">1</th>\n",
       "    <td class=\"gt_row gt_right\">667</td>\n",
       "    <td style=\"color: #000000; background-color: #9978bb;\" class=\"gt_row gt_right\">13.28%</td>\n",
       "  </tr>\n",
       "  <tr>\n",
       "    <th class=\"gt_row gt_left gt_stub\">2</th>\n",
       "    <td class=\"gt_row gt_right\">759</td>\n",
       "    <td style=\"color: #000000; background-color: #8b65b2;\" class=\"gt_row gt_right\">15.12%</td>\n",
       "  </tr>\n",
       "  <tr>\n",
       "    <th class=\"gt_row gt_left gt_stub\">3</th>\n",
       "    <td class=\"gt_row gt_right\">757</td>\n",
       "    <td style=\"color: #000000; background-color: #8c65b2;\" class=\"gt_row gt_right\">15.08%</td>\n",
       "  </tr>\n",
       "  <tr>\n",
       "    <th class=\"gt_row gt_left gt_stub\">4</th>\n",
       "    <td class=\"gt_row gt_right\">612</td>\n",
       "    <td style=\"color: #000000; background-color: #a283c1;\" class=\"gt_row gt_right\">12.19%</td>\n",
       "  </tr>\n",
       "  <tr>\n",
       "    <th class=\"gt_row gt_left gt_stub\">5</th>\n",
       "    <td class=\"gt_row gt_right\">514</td>\n",
       "    <td style=\"color: #000000; background-color: #b197cb;\" class=\"gt_row gt_right\">10.24%</td>\n",
       "  </tr>\n",
       "  <tr>\n",
       "    <th class=\"gt_row gt_left gt_stub\">6</th>\n",
       "    <td class=\"gt_row gt_right\">381</td>\n",
       "    <td style=\"color: #000000; background-color: #c5b2d8;\" class=\"gt_row gt_right\">7.59%</td>\n",
       "  </tr>\n",
       "  <tr>\n",
       "    <th class=\"gt_row gt_left gt_stub\">7</th>\n",
       "    <td class=\"gt_row gt_right\">247</td>\n",
       "    <td style=\"color: #000000; background-color: #d9cde6;\" class=\"gt_row gt_right\">4.92%</td>\n",
       "  </tr>\n",
       "  <tr>\n",
       "    <th class=\"gt_row gt_left gt_stub\">8</th>\n",
       "    <td class=\"gt_row gt_right\">209</td>\n",
       "    <td style=\"color: #000000; background-color: #dfd5ea;\" class=\"gt_row gt_right\">4.16%</td>\n",
       "  </tr>\n",
       "  <tr>\n",
       "    <th class=\"gt_row gt_left gt_stub\">9</th>\n",
       "    <td class=\"gt_row gt_right\">127</td>\n",
       "    <td style=\"color: #000000; background-color: #ece5f2;\" class=\"gt_row gt_right\">2.53%</td>\n",
       "  </tr>\n",
       "  <tr>\n",
       "    <th class=\"gt_row gt_left gt_stub\">10</th>\n",
       "    <td class=\"gt_row gt_right\">85</td>\n",
       "    <td style=\"color: #000000; background-color: #f2eef6;\" class=\"gt_row gt_right\">1.69%</td>\n",
       "  </tr>\n",
       "  <tr>\n",
       "    <th class=\"gt_row gt_left gt_stub\">11</th>\n",
       "    <td class=\"gt_row gt_right\">57</td>\n",
       "    <td style=\"color: #000000; background-color: #f6f3f9;\" class=\"gt_row gt_right\">1.14%</td>\n",
       "  </tr>\n",
       "  <tr>\n",
       "    <th class=\"gt_row gt_left gt_stub\">12</th>\n",
       "    <td class=\"gt_row gt_right\">50</td>\n",
       "    <td style=\"color: #000000; background-color: #f7f5fa;\" class=\"gt_row gt_right\">1.00%</td>\n",
       "  </tr>\n",
       "  <tr>\n",
       "    <th class=\"gt_row gt_left gt_stub\">13</th>\n",
       "    <td class=\"gt_row gt_right\">27</td>\n",
       "    <td style=\"color: #000000; background-color: #fbfafc;\" class=\"gt_row gt_right\">0.54%</td>\n",
       "  </tr>\n",
       "  <tr>\n",
       "    <th class=\"gt_row gt_left gt_stub\">14</th>\n",
       "    <td class=\"gt_row gt_right\">31</td>\n",
       "    <td style=\"color: #000000; background-color: #faf9fc;\" class=\"gt_row gt_right\">0.62%</td>\n",
       "  </tr>\n",
       "  <tr>\n",
       "    <th class=\"gt_row gt_left gt_stub\">15</th>\n",
       "    <td class=\"gt_row gt_right\">15</td>\n",
       "    <td style=\"color: #000000; background-color: #fdfcfd;\" class=\"gt_row gt_right\">0.30%</td>\n",
       "  </tr>\n",
       "  <tr>\n",
       "    <th class=\"gt_row gt_left gt_stub\">16</th>\n",
       "    <td class=\"gt_row gt_right\">16</td>\n",
       "    <td style=\"color: #000000; background-color: #fdfcfd;\" class=\"gt_row gt_right\">0.32%</td>\n",
       "  </tr>\n",
       "  <tr>\n",
       "    <th class=\"gt_row gt_left gt_stub\">17</th>\n",
       "    <td class=\"gt_row gt_right\">7</td>\n",
       "    <td style=\"color: #000000; background-color: #fefefe;\" class=\"gt_row gt_right\">0.14%</td>\n",
       "  </tr>\n",
       "  <tr>\n",
       "    <th class=\"gt_row gt_left gt_stub\">18</th>\n",
       "    <td class=\"gt_row gt_right\">4</td>\n",
       "    <td style=\"color: #000000; background-color: #fefeff;\" class=\"gt_row gt_right\">0.08%</td>\n",
       "  </tr>\n",
       "  <tr>\n",
       "    <th class=\"gt_row gt_left gt_stub\">19</th>\n",
       "    <td class=\"gt_row gt_right\">2</td>\n",
       "    <td style=\"color: #000000; background-color: #ffffff;\" class=\"gt_row gt_right\">0.04%</td>\n",
       "  </tr>\n",
       "  <tr>\n",
       "    <th class=\"gt_row gt_left gt_stub\">20</th>\n",
       "    <td class=\"gt_row gt_right\">4</td>\n",
       "    <td style=\"color: #000000; background-color: #fefeff;\" class=\"gt_row gt_right\">0.08%</td>\n",
       "  </tr>\n",
       "  <tr>\n",
       "    <th class=\"gt_row gt_left gt_stub\">22</th>\n",
       "    <td class=\"gt_row gt_right\">1</td>\n",
       "    <td style=\"color: #000000; background-color: #ffffff;\" class=\"gt_row gt_right\">0.02%</td>\n",
       "  </tr>\n",
       "  <tr>\n",
       "    <th class=\"gt_row gt_left gt_stub\">25</th>\n",
       "    <td class=\"gt_row gt_right\">1</td>\n",
       "    <td style=\"color: #000000; background-color: #ffffff;\" class=\"gt_row gt_right\">0.02%</td>\n",
       "  </tr>\n",
       "  <tr>\n",
       "    <th class=\"gt_row gt_left gt_stub\">27</th>\n",
       "    <td class=\"gt_row gt_right\">1</td>\n",
       "    <td style=\"color: #000000; background-color: #ffffff;\" class=\"gt_row gt_right\">0.02%</td>\n",
       "  </tr>\n",
       "</tbody>\n",
       "\n",
       "\n",
       "</table>\n",
       "\n",
       "</div>\n",
       "        "
      ],
      "text/plain": [
       "GT(_tbl_data=shape: (24, 3)\n",
       "┌────────────────┬───────────┬────────────┐\n",
       "│ # of Purchases ┆ Frequency ┆ % of Total │\n",
       "│ ---            ┆ ---       ┆ ---        │\n",
       "│ i16            ┆ i32       ┆ f64        │\n",
       "╞════════════════╪═══════════╪════════════╡\n",
       "│ 0              ┆ 447       ┆ 0.089026   │\n",
       "│ 1              ┆ 667       ┆ 0.132842   │\n",
       "│ 2              ┆ 759       ┆ 0.151165   │\n",
       "│ 3              ┆ 757       ┆ 0.150767   │\n",
       "│ 4              ┆ 612       ┆ 0.121888   │\n",
       "│ …              ┆ …         ┆ …          │\n",
       "│ 19             ┆ 2         ┆ 0.000398   │\n",
       "│ 20             ┆ 4         ┆ 0.000797   │\n",
       "│ 22             ┆ 1         ┆ 0.000199   │\n",
       "│ 25             ┆ 1         ┆ 0.000199   │\n",
       "│ 27             ┆ 1         ┆ 0.000199   │\n",
       "└────────────────┴───────────┴────────────┘, _body=<great_tables._gt_data.Body object at 0x10daf8f00>, _boxhead=Boxhead([ColInfo(var='# of Purchases', type=<ColInfoTypeEnum.stub: 2>, column_label='# of Purchases', column_align='right', column_width=None), ColInfo(var='Frequency', type=<ColInfoTypeEnum.default: 1>, column_label='Frequency', column_align='right', column_width=None), ColInfo(var='% of Total', type=<ColInfoTypeEnum.default: 1>, column_label='% of Total', column_align='right', column_width=None)]), _stub=<great_tables._gt_data.Stub object at 0x102e486e0>, _spanners=Spanners([]), _heading=Heading(title='Category Purchase Distribution', subtitle=None, preheader=None), _stubhead='# of Purchases', _source_notes=[], _footnotes=[], _styles=[StyleInfo(locname=LocBody(columns='% of Total', rows=[0]), grpname=None, colname='% of Total', rownum=0, colnum=None, styles=[CellStyleText(color='#000000', font=None, size=None, align=None, v_align=None, style=None, weight=None, stretch=None, decorate=None, transform=None, whitespace=None), CellStyleFill(color='#bba4d2')]), StyleInfo(locname=LocBody(columns='% of Total', rows=[1]), grpname=None, colname='% of Total', rownum=1, colnum=None, styles=[CellStyleText(color='#000000', font=None, size=None, align=None, v_align=None, style=None, weight=None, stretch=None, decorate=None, transform=None, whitespace=None), CellStyleFill(color='#9978bb')]), StyleInfo(locname=LocBody(columns='% of Total', rows=[2]), grpname=None, colname='% of Total', rownum=2, colnum=None, styles=[CellStyleText(color='#000000', font=None, size=None, align=None, v_align=None, style=None, weight=None, stretch=None, decorate=None, transform=None, whitespace=None), CellStyleFill(color='#8b65b2')]), StyleInfo(locname=LocBody(columns='% of Total', rows=[3]), grpname=None, colname='% of Total', rownum=3, colnum=None, styles=[CellStyleText(color='#000000', font=None, size=None, align=None, v_align=None, style=None, weight=None, stretch=None, decorate=None, transform=None, whitespace=None), CellStyleFill(color='#8c65b2')]), StyleInfo(locname=LocBody(columns='% of Total', rows=[4]), grpname=None, colname='% of Total', rownum=4, colnum=None, styles=[CellStyleText(color='#000000', font=None, size=None, align=None, v_align=None, style=None, weight=None, stretch=None, decorate=None, transform=None, whitespace=None), CellStyleFill(color='#a283c1')]), StyleInfo(locname=LocBody(columns='% of Total', rows=[5]), grpname=None, colname='% of Total', rownum=5, colnum=None, styles=[CellStyleText(color='#000000', font=None, size=None, align=None, v_align=None, style=None, weight=None, stretch=None, decorate=None, transform=None, whitespace=None), CellStyleFill(color='#b197cb')]), StyleInfo(locname=LocBody(columns='% of Total', rows=[6]), grpname=None, colname='% of Total', rownum=6, colnum=None, styles=[CellStyleText(color='#000000', font=None, size=None, align=None, v_align=None, style=None, weight=None, stretch=None, decorate=None, transform=None, whitespace=None), CellStyleFill(color='#c5b2d8')]), StyleInfo(locname=LocBody(columns='% of Total', rows=[7]), grpname=None, colname='% of Total', rownum=7, colnum=None, styles=[CellStyleText(color='#000000', font=None, size=None, align=None, v_align=None, style=None, weight=None, stretch=None, decorate=None, transform=None, whitespace=None), CellStyleFill(color='#d9cde6')]), StyleInfo(locname=LocBody(columns='% of Total', rows=[8]), grpname=None, colname='% of Total', rownum=8, colnum=None, styles=[CellStyleText(color='#000000', font=None, size=None, align=None, v_align=None, style=None, weight=None, stretch=None, decorate=None, transform=None, whitespace=None), CellStyleFill(color='#dfd5ea')]), StyleInfo(locname=LocBody(columns='% of Total', rows=[9]), grpname=None, colname='% of Total', rownum=9, colnum=None, styles=[CellStyleText(color='#000000', font=None, size=None, align=None, v_align=None, style=None, weight=None, stretch=None, decorate=None, transform=None, whitespace=None), CellStyleFill(color='#ece5f2')]), StyleInfo(locname=LocBody(columns='% of Total', rows=[10]), grpname=None, colname='% of Total', rownum=10, colnum=None, styles=[CellStyleText(color='#000000', font=None, size=None, align=None, v_align=None, style=None, weight=None, stretch=None, decorate=None, transform=None, whitespace=None), CellStyleFill(color='#f2eef6')]), StyleInfo(locname=LocBody(columns='% of Total', rows=[11]), grpname=None, colname='% of Total', rownum=11, colnum=None, styles=[CellStyleText(color='#000000', font=None, size=None, align=None, v_align=None, style=None, weight=None, stretch=None, decorate=None, transform=None, whitespace=None), CellStyleFill(color='#f6f3f9')]), StyleInfo(locname=LocBody(columns='% of Total', rows=[12]), grpname=None, colname='% of Total', rownum=12, colnum=None, styles=[CellStyleText(color='#000000', font=None, size=None, align=None, v_align=None, style=None, weight=None, stretch=None, decorate=None, transform=None, whitespace=None), CellStyleFill(color='#f7f5fa')]), StyleInfo(locname=LocBody(columns='% of Total', rows=[13]), grpname=None, colname='% of Total', rownum=13, colnum=None, styles=[CellStyleText(color='#000000', font=None, size=None, align=None, v_align=None, style=None, weight=None, stretch=None, decorate=None, transform=None, whitespace=None), CellStyleFill(color='#fbfafc')]), StyleInfo(locname=LocBody(columns='% of Total', rows=[14]), grpname=None, colname='% of Total', rownum=14, colnum=None, styles=[CellStyleText(color='#000000', font=None, size=None, align=None, v_align=None, style=None, weight=None, stretch=None, decorate=None, transform=None, whitespace=None), CellStyleFill(color='#faf9fc')]), StyleInfo(locname=LocBody(columns='% of Total', rows=[15]), grpname=None, colname='% of Total', rownum=15, colnum=None, styles=[CellStyleText(color='#000000', font=None, size=None, align=None, v_align=None, style=None, weight=None, stretch=None, decorate=None, transform=None, whitespace=None), CellStyleFill(color='#fdfcfd')]), StyleInfo(locname=LocBody(columns='% of Total', rows=[16]), grpname=None, colname='% of Total', rownum=16, colnum=None, styles=[CellStyleText(color='#000000', font=None, size=None, align=None, v_align=None, style=None, weight=None, stretch=None, decorate=None, transform=None, whitespace=None), CellStyleFill(color='#fdfcfd')]), StyleInfo(locname=LocBody(columns='% of Total', rows=[17]), grpname=None, colname='% of Total', rownum=17, colnum=None, styles=[CellStyleText(color='#000000', font=None, size=None, align=None, v_align=None, style=None, weight=None, stretch=None, decorate=None, transform=None, whitespace=None), CellStyleFill(color='#fefefe')]), StyleInfo(locname=LocBody(columns='% of Total', rows=[18]), grpname=None, colname='% of Total', rownum=18, colnum=None, styles=[CellStyleText(color='#000000', font=None, size=None, align=None, v_align=None, style=None, weight=None, stretch=None, decorate=None, transform=None, whitespace=None), CellStyleFill(color='#fefeff')]), StyleInfo(locname=LocBody(columns='% of Total', rows=[19]), grpname=None, colname='% of Total', rownum=19, colnum=None, styles=[CellStyleText(color='#000000', font=None, size=None, align=None, v_align=None, style=None, weight=None, stretch=None, decorate=None, transform=None, whitespace=None), CellStyleFill(color='#ffffff')]), StyleInfo(locname=LocBody(columns='% of Total', rows=[20]), grpname=None, colname='% of Total', rownum=20, colnum=None, styles=[CellStyleText(color='#000000', font=None, size=None, align=None, v_align=None, style=None, weight=None, stretch=None, decorate=None, transform=None, whitespace=None), CellStyleFill(color='#fefeff')]), StyleInfo(locname=LocBody(columns='% of Total', rows=[21]), grpname=None, colname='% of Total', rownum=21, colnum=None, styles=[CellStyleText(color='#000000', font=None, size=None, align=None, v_align=None, style=None, weight=None, stretch=None, decorate=None, transform=None, whitespace=None), CellStyleFill(color='#ffffff')]), StyleInfo(locname=LocBody(columns='% of Total', rows=[22]), grpname=None, colname='% of Total', rownum=22, colnum=None, styles=[CellStyleText(color='#000000', font=None, size=None, align=None, v_align=None, style=None, weight=None, stretch=None, decorate=None, transform=None, whitespace=None), CellStyleFill(color='#ffffff')]), StyleInfo(locname=LocBody(columns='% of Total', rows=[23]), grpname=None, colname='% of Total', rownum=23, colnum=None, styles=[CellStyleText(color='#000000', font=None, size=None, align=None, v_align=None, style=None, weight=None, stretch=None, decorate=None, transform=None, whitespace=None), CellStyleFill(color='#ffffff')])], _locale=<great_tables._gt_data.Locale object at 0x10b327890>, _formats=[<great_tables._gt_data.FormatInfo object at 0x10b327f20>, <great_tables._gt_data.FormatInfo object at 0x10b324f50>], _substitutions=[], _options=Options(table_id=OptionsInfo(scss=False, category='table', type='value', value=None), table_caption=OptionsInfo(scss=False, category='table', type='value', value=None), table_width=OptionsInfo(scss=True, category='table', type='px', value='auto'), table_layout=OptionsInfo(scss=True, category='table', type='value', value='fixed'), table_margin_left=OptionsInfo(scss=True, category='table', type='px', value='auto'), table_margin_right=OptionsInfo(scss=True, category='table', type='px', value='auto'), table_background_color=OptionsInfo(scss=True, category='table', type='value', value='#FFFFFF'), table_additional_css=OptionsInfo(scss=False, category='table', type='values', value=[]), table_font_names=OptionsInfo(scss=False, category='table', type='values', value=['-apple-system', 'BlinkMacSystemFont', 'Segoe UI', 'Roboto', 'Oxygen', 'Ubuntu', 'Cantarell', 'Helvetica Neue', 'Fira Sans', 'Droid Sans', 'Arial', 'sans-serif']), table_font_size=OptionsInfo(scss=True, category='table', type='px', value='16px'), table_font_weight=OptionsInfo(scss=True, category='table', type='value', value='normal'), table_font_style=OptionsInfo(scss=True, category='table', type='value', value='normal'), table_font_color=OptionsInfo(scss=True, category='table', type='value', value='#333333'), table_font_color_light=OptionsInfo(scss=True, category='table', type='value', value='#FFFFFF'), table_border_top_include=OptionsInfo(scss=False, category='table', type='boolean', value=True), table_border_top_style=OptionsInfo(scss=True, category='table', type='value', value='solid'), table_border_top_width=OptionsInfo(scss=True, category='table', type='px', value='2px'), table_border_top_color=OptionsInfo(scss=True, category='table', type='value', value='#A8A8A8'), table_border_right_style=OptionsInfo(scss=True, category='table', type='value', value='none'), table_border_right_width=OptionsInfo(scss=True, category='table', type='px', value='2px'), table_border_right_color=OptionsInfo(scss=True, category='table', type='value', value='#D3D3D3'), table_border_bottom_include=OptionsInfo(scss=False, category='table', type='boolean', value=True), table_border_bottom_style=OptionsInfo(scss=True, category='table', type='value', value='solid'), table_border_bottom_width=OptionsInfo(scss=True, category='table', type='px', value='2px'), table_border_bottom_color=OptionsInfo(scss=True, category='table', type='value', value='#A8A8A8'), table_border_left_style=OptionsInfo(scss=True, category='table', type='value', value='none'), table_border_left_width=OptionsInfo(scss=True, category='table', type='px', value='2px'), table_border_left_color=OptionsInfo(scss=True, category='table', type='value', value='#D3D3D3'), heading_background_color=OptionsInfo(scss=True, category='heading', type='value', value=None), heading_align=OptionsInfo(scss=True, category='heading', type='value', value='center'), heading_title_font_size=OptionsInfo(scss=True, category='heading', type='px', value='125%'), heading_title_font_weight=OptionsInfo(scss=True, category='heading', type='value', value='initial'), heading_subtitle_font_size=OptionsInfo(scss=True, category='heading', type='px', value='85%'), heading_subtitle_font_weight=OptionsInfo(scss=True, category='heading', type='value', value='initial'), heading_padding=OptionsInfo(scss=True, category='heading', type='px', value='4px'), heading_padding_horizontal=OptionsInfo(scss=True, category='heading', type='px', value='5px'), heading_border_bottom_style=OptionsInfo(scss=True, category='heading', type='value', value='solid'), heading_border_bottom_width=OptionsInfo(scss=True, category='heading', type='px', value='2px'), heading_border_bottom_color=OptionsInfo(scss=True, category='heading', type='value', value='#D3D3D3'), heading_border_lr_style=OptionsInfo(scss=True, category='heading', type='value', value='none'), heading_border_lr_width=OptionsInfo(scss=True, category='heading', type='px', value='1px'), heading_border_lr_color=OptionsInfo(scss=True, category='heading', type='value', value='#D3D3D3'), column_labels_background_color=OptionsInfo(scss=True, category='column_labels', type='value', value=None), column_labels_font_size=OptionsInfo(scss=True, category='column_labels', type='px', value='100%'), column_labels_font_weight=OptionsInfo(scss=True, category='column_labels', type='value', value='normal'), column_labels_text_transform=OptionsInfo(scss=True, category='column_labels', type='value', value='inherit'), column_labels_padding=OptionsInfo(scss=True, category='column_labels', type='px', value='5px'), column_labels_padding_horizontal=OptionsInfo(scss=True, category='column_labels', type='px', value='5px'), column_labels_vlines_style=OptionsInfo(scss=True, category='table_body', type='value', value='none'), column_labels_vlines_width=OptionsInfo(scss=True, category='table_body', type='px', value='1px'), column_labels_vlines_color=OptionsInfo(scss=True, category='table_body', type='value', value='#D3D3D3'), column_labels_border_top_style=OptionsInfo(scss=True, category='column_labels', type='value', value='solid'), column_labels_border_top_width=OptionsInfo(scss=True, category='column_labels', type='px', value='2px'), column_labels_border_top_color=OptionsInfo(scss=True, category='column_labels', type='value', value='#D3D3D3'), column_labels_border_bottom_style=OptionsInfo(scss=True, category='column_labels', type='value', value='solid'), column_labels_border_bottom_width=OptionsInfo(scss=True, category='column_labels', type='px', value='2px'), column_labels_border_bottom_color=OptionsInfo(scss=True, category='column_labels', type='value', value='#D3D3D3'), column_labels_border_lr_style=OptionsInfo(scss=True, category='column_labels', type='value', value='none'), column_labels_border_lr_width=OptionsInfo(scss=True, category='column_labels', type='px', value='1px'), column_labels_border_lr_color=OptionsInfo(scss=True, category='column_labels', type='value', value='#D3D3D3'), column_labels_hidden=OptionsInfo(scss=False, category='column_labels', type='boolean', value=False), row_group_background_color=OptionsInfo(scss=True, category='row_group', type='value', value=None), row_group_font_size=OptionsInfo(scss=True, category='row_group', type='px', value='100%'), row_group_font_weight=OptionsInfo(scss=True, category='row_group', type='value', value='initial'), row_group_text_transform=OptionsInfo(scss=True, category='row_group', type='value', value='inherit'), row_group_padding=OptionsInfo(scss=True, category='row_group', type='px', value='8px'), row_group_padding_horizontal=OptionsInfo(scss=True, category='row_group', type='px', value='5px'), row_group_border_top_style=OptionsInfo(scss=True, category='row_group', type='value', value='solid'), row_group_border_top_width=OptionsInfo(scss=True, category='row_group', type='px', value='2px'), row_group_border_top_color=OptionsInfo(scss=True, category='row_group', type='value', value='#D3D3D3'), row_group_border_right_style=OptionsInfo(scss=True, category='row_group', type='value', value='none'), row_group_border_right_width=OptionsInfo(scss=True, category='row_group', type='px', value='1px'), row_group_border_right_color=OptionsInfo(scss=True, category='row_group', type='value', value='#D3D3D3'), row_group_border_bottom_style=OptionsInfo(scss=True, category='row_group', type='value', value='solid'), row_group_border_bottom_width=OptionsInfo(scss=True, category='row_group', type='px', value='2px'), row_group_border_bottom_color=OptionsInfo(scss=True, category='row_group', type='value', value='#D3D3D3'), row_group_border_left_style=OptionsInfo(scss=True, category='row_group', type='value', value='none'), row_group_border_left_width=OptionsInfo(scss=True, category='row_group', type='px', value='1px'), row_group_border_left_color=OptionsInfo(scss=True, category='row_group', type='value', value='#D3D3D3'), row_group_as_column=OptionsInfo(scss=False, category='row_group', type='boolean', value=False), table_body_hlines_style=OptionsInfo(scss=True, category='table_body', type='value', value='solid'), table_body_hlines_width=OptionsInfo(scss=True, category='table_body', type='px', value='1px'), table_body_hlines_color=OptionsInfo(scss=True, category='table_body', type='value', value='#D3D3D3'), table_body_vlines_style=OptionsInfo(scss=True, category='table_body', type='value', value='none'), table_body_vlines_width=OptionsInfo(scss=True, category='table_body', type='px', value='1px'), table_body_vlines_color=OptionsInfo(scss=True, category='table_body', type='value', value='#D3D3D3'), table_body_border_top_style=OptionsInfo(scss=True, category='table_body', type='value', value='solid'), table_body_border_top_width=OptionsInfo(scss=True, category='table_body', type='px', value='2px'), table_body_border_top_color=OptionsInfo(scss=True, category='table_body', type='value', value='#D3D3D3'), table_body_border_bottom_style=OptionsInfo(scss=True, category='table_body', type='value', value='solid'), table_body_border_bottom_width=OptionsInfo(scss=True, category='table_body', type='px', value='2px'), table_body_border_bottom_color=OptionsInfo(scss=True, category='table_body', type='value', value='#D3D3D3'), data_row_padding=OptionsInfo(scss=True, category='data_row', type='px', value='8px'), data_row_padding_horizontal=OptionsInfo(scss=True, category='data_row', type='px', value='5px'), stub_background_color=OptionsInfo(scss=True, category='stub', type='value', value=None), stub_font_size=OptionsInfo(scss=True, category='stub', type='px', value='100%'), stub_font_weight=OptionsInfo(scss=True, category='stub', type='value', value='initial'), stub_text_transform=OptionsInfo(scss=True, category='stub', type='value', value='inherit'), stub_border_style=OptionsInfo(scss=True, category='stub', type='value', value='solid'), stub_border_width=OptionsInfo(scss=True, category='stub', type='px', value='2px'), stub_border_color=OptionsInfo(scss=True, category='stub', type='value', value='#D3D3D3'), stub_row_group_background_color=OptionsInfo(scss=True, category='stub', type='value', value=None), stub_row_group_font_size=OptionsInfo(scss=True, category='stub', type='px', value='100%'), stub_row_group_font_weight=OptionsInfo(scss=True, category='stub', type='value', value='initial'), stub_row_group_text_transform=OptionsInfo(scss=True, category='stub', type='value', value='inherit'), stub_row_group_border_style=OptionsInfo(scss=True, category='stub', type='value', value='solid'), stub_row_group_border_width=OptionsInfo(scss=True, category='stub', type='px', value='2px'), stub_row_group_border_color=OptionsInfo(scss=True, category='stub', type='value', value='#D3D3D3'), source_notes_padding=OptionsInfo(scss=True, category='source_notes', type='px', value='4px'), source_notes_padding_horizontal=OptionsInfo(scss=True, category='source_notes', type='px', value='5px'), source_notes_background_color=OptionsInfo(scss=True, category='source_notes', type='value', value=None), source_notes_font_size=OptionsInfo(scss=True, category='source_notes', type='px', value='90%'), source_notes_border_bottom_style=OptionsInfo(scss=True, category='source_notes', type='value', value='none'), source_notes_border_bottom_width=OptionsInfo(scss=True, category='source_notes', type='px', value='2px'), source_notes_border_bottom_color=OptionsInfo(scss=True, category='source_notes', type='value', value='#D3D3D3'), source_notes_border_lr_style=OptionsInfo(scss=True, category='source_notes', type='value', value='none'), source_notes_border_lr_width=OptionsInfo(scss=True, category='source_notes', type='px', value='2px'), source_notes_border_lr_color=OptionsInfo(scss=True, category='source_notes', type='value', value='#D3D3D3'), source_notes_multiline=OptionsInfo(scss=False, category='source_notes', type='boolean', value=True), source_notes_sep=OptionsInfo(scss=False, category='source_notes', type='value', value=' '), row_striping_background_color=OptionsInfo(scss=True, category='row', type='value', value='rgba(128,128,128,0.05)'), row_striping_include_stub=OptionsInfo(scss=False, category='row', type='boolean', value=False), row_striping_include_table_body=OptionsInfo(scss=False, category='row', type='boolean', value=False), container_width=OptionsInfo(scss=False, category='container', type='px', value='auto'), container_height=OptionsInfo(scss=False, category='container', type='px', value='auto'), container_padding_x=OptionsInfo(scss=False, category='container', type='px', value='0px'), container_padding_y=OptionsInfo(scss=False, category='container', type='px', value='10px'), container_overflow_x=OptionsInfo(scss=False, category='container', type='overflow', value='auto'), container_overflow_y=OptionsInfo(scss=False, category='container', type='overflow', value='auto'), quarto_disable_processing=OptionsInfo(scss=False, category='quarto', type='logical', value=False), quarto_use_bootstrap=OptionsInfo(scss=False, category='quarto', type='logical', value=False)), _has_built=False)"
      ]
     },
     "execution_count": 36,
     "metadata": {},
     "output_type": "execute_result"
    }
   ],
   "source": [
    "category_trans_dist = (\n",
    "    trans_summary('Category', grocery_lf, 1)\n",
    "    .group_by(pl.col('# of Purchases').cast(pl.Int16))\n",
    "    .agg(pl.len().cast(pl.Int32).alias(\"Frequency\"))\n",
    "    .collect() \n",
    "    .pipe(\n",
    "        lambda df: df.vstack(\n",
    "            pl.DataFrame(\n",
    "                {\n",
    "                    \"# of Purchases\": [0],\n",
    "                    \"Frequency\": [panel_size - df[\"Frequency\"].sum()],\n",
    "                }\n",
    "            ).with_columns(\n",
    "                pl.col(\"# of Purchases\").cast(pl.Int16),\n",
    "                pl.col('Frequency').cast(pl.Int32)\n",
    "                )\n",
    "        )\n",
    "    )\n",
    "    .sort(by='# of Purchases')\n",
    "    .with_columns(\n",
    "        (pl.col('Frequency') / pl.col('Frequency').sum()).alias(\"% of Total\")\n",
    "    )    \n",
    ")\n",
    "\n",
    "(\n",
    "    GT(category_trans_dist, rowname_col='# of Purchases')\n",
    "    .tab_header(title='Category Purchase Distribution')\n",
    "    .tab_stubhead(label=\"# of Purchases\")\n",
    "    .fmt_integer(columns='Frequency')\n",
    "    .fmt_percent(columns='% of Total')\n",
    "    .data_color(\n",
    "        columns=['% of Total'],\n",
    "        domain=[0, 0.2],\n",
    "        palette=['white', 'rebeccapurple']\n",
    "    )  \n",
    ")"
   ]
  },
  {
   "cell_type": "code",
   "execution_count": 37,
   "metadata": {},
   "outputs": [
    {
     "data": {
      "application/vnd.vegalite.v5+json": {
       "$schema": "https://vega.github.io/schema/vega-lite/v5.20.1.json",
       "config": {
        "view": {
         "continuousHeight": 300,
         "continuousWidth": 300
        }
       },
       "data": {
        "name": "data-4322957793433f898d00a0a95915944f"
       },
       "datasets": {
        "data-4322957793433f898d00a0a95915944f": [
         {
          "# of Purchases": 0,
          "% of Total": 0.08902609042023502,
          "Frequency": 447,
          "cut": "0"
         },
         {
          "# of Purchases": 1,
          "% of Total": 0.1328420633339972,
          "Frequency": 667,
          "cut": "1"
         },
         {
          "# of Purchases": 2,
          "% of Total": 0.15116510655247958,
          "Frequency": 759,
          "cut": "2"
         },
         {
          "# of Purchases": 3,
          "% of Total": 0.15076677952599082,
          "Frequency": 757,
          "cut": "3"
         },
         {
          "# of Purchases": 4,
          "% of Total": 0.12188807010555666,
          "Frequency": 612,
          "cut": "4"
         },
         {
          "# of Purchases": 5,
          "% of Total": 0.10237004580760804,
          "Frequency": 514,
          "cut": "5"
         },
         {
          "# of Purchases": 6,
          "% of Total": 0.07588129854610635,
          "Frequency": 381,
          "cut": "6"
         },
         {
          "# of Purchases": 7,
          "% of Total": 0.049193387771360286,
          "Frequency": 247,
          "cut": "7"
         },
         {
          "# of Purchases": 8,
          "% of Total": 0.041625174268074085,
          "Frequency": 209,
          "cut": "8"
         },
         {
          "# of Purchases": 9,
          "% of Total": 0.02529376618203545,
          "Frequency": 127,
          "cut": "9"
         },
         {
          "# of Purchases": 10,
          "% of Total": 0.01692889862577176,
          "Frequency": 85,
          "cut": "10"
         },
         {
          "# of Purchases": 11,
          "% of Total": 0.011352320254929297,
          "Frequency": 57,
          "cut": "11"
         },
         {
          "# of Purchases": 12,
          "% of Total": 0.00995817566221868,
          "Frequency": 50,
          "cut": "12"
         },
         {
          "# of Purchases": 13,
          "% of Total": 0.005377414857598088,
          "Frequency": 27,
          "cut": "13"
         },
         {
          "# of Purchases": 14,
          "% of Total": 0.006174068910575582,
          "Frequency": 31,
          "cut": "14"
         },
         {
          "# of Purchases": 15,
          "% of Total": 0.0029874526986656044,
          "Frequency": 15,
          "cut": "15+"
         },
         {
          "# of Purchases": 16,
          "% of Total": 0.003186616211909978,
          "Frequency": 16,
          "cut": "15+"
         },
         {
          "# of Purchases": 17,
          "% of Total": 0.0013941445927106153,
          "Frequency": 7,
          "cut": "15+"
         },
         {
          "# of Purchases": 18,
          "% of Total": 0.0007966540529774945,
          "Frequency": 4,
          "cut": "15+"
         },
         {
          "# of Purchases": 19,
          "% of Total": 0.00039832702648874725,
          "Frequency": 2,
          "cut": "15+"
         },
         {
          "# of Purchases": 20,
          "% of Total": 0.0007966540529774945,
          "Frequency": 4,
          "cut": "15+"
         },
         {
          "# of Purchases": 22,
          "% of Total": 0.00019916351324437363,
          "Frequency": 1,
          "cut": "15+"
         },
         {
          "# of Purchases": 25,
          "% of Total": 0.00019916351324437363,
          "Frequency": 1,
          "cut": "15+"
         },
         {
          "# of Purchases": 27,
          "% of Total": 0.00019916351324437363,
          "Frequency": 1,
          "cut": "15+"
         }
        ]
       },
       "encoding": {
        "x": {
         "axis": {
          "labelAngle": 0,
          "title": "Number of Category Transactions"
         },
         "field": "cut",
         "sort": [
          "0",
          "1",
          "2",
          "3",
          "4",
          "5",
          "6",
          "7",
          "8",
          "9",
          "10",
          "11",
          "12",
          "13",
          "14",
          "15+"
         ],
         "type": "ordinal"
        },
        "y": {
         "axis": {
          "format": ".0%",
          "title": "% of Households"
         },
         "field": "% of Total",
         "type": "quantitative"
        }
       },
       "height": 250,
       "mark": {
        "type": "bar"
       },
       "title": {
        "subtitle": "Distribution of category purchasing in year 1",
        "text": "Category Transaction Distribution (%)"
       },
       "width": 650
      },
      "text/plain": [
       "<VegaLite 5 object>\n",
       "\n",
       "If you see this message, it means the renderer has not been properly enabled\n",
       "for the frontend that you are using. For more information, see\n",
       "https://altair-viz.github.io/user_guide/display_frontends.html#troubleshooting\n"
      ]
     },
     "metadata": {},
     "output_type": "display_data"
    }
   ],
   "source": [
    "labels = [str(i) if i < 15 else '15+' for i in range(0, 16, 1)]\n",
    "chart = freq_dist_plot(\n",
    "    data=category_trans_dist,\n",
    "    column=\"# of Purchases\",\n",
    "    bin_edges=np.arange(0, 15, 1),\n",
    "    labels=labels,\n",
    "    x_title=\"Number of Category Transactions\",\n",
    "    y_title=\"% of Households\",\n",
    "    chart_title=\"Category Transaction Distribution (%)\",\n",
    "    subtitle=\"Distribution of category purchasing in year 1\",\n",
    "    left_closed=False,\n",
    "    compute_rel_freq=False\n",
    ")\n",
    "chart.show()"
   ]
  },
  {
   "cell_type": "markdown",
   "metadata": {},
   "source": [
    "##### Distribution of Brand Purchase Frequency"
   ]
  },
  {
   "cell_type": "code",
   "execution_count": 38,
   "metadata": {},
   "outputs": [
    {
     "data": {
      "text/html": [
       "<div id=\"bxhaeifmvn\" style=\"padding-left:0px;padding-right:0px;padding-top:10px;padding-bottom:10px;overflow-x:auto;overflow-y:auto;width:auto;height:auto;\">\n",
       "<style>\n",
       "#bxhaeifmvn table {\n",
       "          font-family: -apple-system, BlinkMacSystemFont, 'Segoe UI', Roboto, Oxygen, Ubuntu, Cantarell, 'Helvetica Neue', 'Fira Sans', 'Droid Sans', Arial, sans-serif;\n",
       "          -webkit-font-smoothing: antialiased;\n",
       "          -moz-osx-font-smoothing: grayscale;\n",
       "        }\n",
       "\n",
       "#bxhaeifmvn thead, tbody, tfoot, tr, td, th { border-style: none !important; }\n",
       " tr { background-color: transparent !important; }\n",
       "#bxhaeifmvn p { margin: 0 !important; padding: 0 !important; }\n",
       " #bxhaeifmvn .gt_table { display: table !important; border-collapse: collapse !important; line-height: normal !important; margin-left: auto !important; margin-right: auto !important; color: #333333 !important; font-size: 16px !important; font-weight: normal !important; font-style: normal !important; background-color: #FFFFFF !important; width: auto !important; border-top-style: solid !important; border-top-width: 2px !important; border-top-color: #A8A8A8 !important; border-right-style: none !important; border-right-width: 2px !important; border-right-color: #D3D3D3 !important; border-bottom-style: solid !important; border-bottom-width: 2px !important; border-bottom-color: #A8A8A8 !important; border-left-style: none !important; border-left-width: 2px !important; border-left-color: #D3D3D3 !important; }\n",
       " #bxhaeifmvn .gt_caption { padding-top: 4px !important; padding-bottom: 4px !important; }\n",
       " #bxhaeifmvn .gt_title { color: #333333 !important; font-size: 125% !important; font-weight: initial !important; padding-top: 4px !important; padding-bottom: 4px !important; padding-left: 5px !important; padding-right: 5px !important; border-bottom-color: #FFFFFF !important; border-bottom-width: 0 !important; }\n",
       " #bxhaeifmvn .gt_subtitle { color: #333333 !important; font-size: 85% !important; font-weight: initial !important; padding-top: 3px !important; padding-bottom: 5px !important; padding-left: 5px !important; padding-right: 5px !important; border-top-color: #FFFFFF !important; border-top-width: 0 !important; }\n",
       " #bxhaeifmvn .gt_heading { background-color: #FFFFFF !important; text-align: center !important; border-bottom-color: #FFFFFF !important; border-left-style: none !important; border-left-width: 1px !important; border-left-color: #D3D3D3 !important; border-right-style: none !important; border-right-width: 1px !important; border-right-color: #D3D3D3 !important; }\n",
       " #bxhaeifmvn .gt_bottom_border { border-bottom-style: solid !important; border-bottom-width: 2px !important; border-bottom-color: #D3D3D3 !important; }\n",
       " #bxhaeifmvn .gt_col_headings { border-top-style: solid !important; border-top-width: 2px !important; border-top-color: #D3D3D3 !important; border-bottom-style: solid !important; border-bottom-width: 2px !important; border-bottom-color: #D3D3D3 !important; border-left-style: none !important; border-left-width: 1px !important; border-left-color: #D3D3D3 !important; border-right-style: none !important; border-right-width: 1px !important; border-right-color: #D3D3D3 !important; }\n",
       " #bxhaeifmvn .gt_col_heading { color: #333333 !important; background-color: #FFFFFF !important; font-size: 100% !important; font-weight: normal !important; text-transform: inherit !important; border-left-style: none !important; border-left-width: 1px !important; border-left-color: #D3D3D3 !important; border-right-style: none !important; border-right-width: 1px !important; border-right-color: #D3D3D3 !important; vertical-align: bottom !important; padding-top: 5px !important; padding-bottom: 5px !important; padding-left: 5px !important; padding-right: 5px !important; overflow-x: hidden !important; }\n",
       " #bxhaeifmvn .gt_column_spanner_outer { color: #333333 !important; background-color: #FFFFFF !important; font-size: 100% !important; font-weight: normal !important; text-transform: inherit !important; padding-top: 0 !important; padding-bottom: 0 !important; padding-left: 4px !important; padding-right: 4px !important; }\n",
       " #bxhaeifmvn .gt_column_spanner_outer:first-child { padding-left: 0 !important; }\n",
       " #bxhaeifmvn .gt_column_spanner_outer:last-child { padding-right: 0 !important; }\n",
       " #bxhaeifmvn .gt_column_spanner { border-bottom-style: solid !important; border-bottom-width: 2px !important; border-bottom-color: #D3D3D3 !important; vertical-align: bottom !important; padding-top: 5px !important; padding-bottom: 5px !important; overflow-x: hidden !important; display: inline-block !important; width: 100% !important; }\n",
       " #bxhaeifmvn .gt_spanner_row { border-bottom-style: hidden !important; }\n",
       " #bxhaeifmvn .gt_group_heading { padding-top: 8px !important; padding-bottom: 8px !important; padding-left: 5px !important; padding-right: 5px !important; color: #333333 !important; background-color: #FFFFFF !important; font-size: 100% !important; font-weight: initial !important; text-transform: inherit !important; border-top-style: solid !important; border-top-width: 2px !important; border-top-color: #D3D3D3 !important; border-bottom-style: solid !important; border-bottom-width: 2px !important; border-bottom-color: #D3D3D3 !important; border-left-style: none !important; border-left-width: 1px !important; border-left-color: #D3D3D3 !important; border-right-style: none !important; border-right-width: 1px !important; border-right-color: #D3D3D3 !important; vertical-align: middle !important; text-align: left !important; }\n",
       " #bxhaeifmvn .gt_empty_group_heading { padding: 0.5px !important; color: #333333 !important; background-color: #FFFFFF !important; font-size: 100% !important; font-weight: initial !important; border-top-style: solid !important; border-top-width: 2px !important; border-top-color: #D3D3D3 !important; border-bottom-style: solid !important; border-bottom-width: 2px !important; border-bottom-color: #D3D3D3 !important; vertical-align: middle !important; }\n",
       " #bxhaeifmvn .gt_from_md> :first-child { margin-top: 0 !important; }\n",
       " #bxhaeifmvn .gt_from_md> :last-child { margin-bottom: 0 !important; }\n",
       " #bxhaeifmvn .gt_row { padding-top: 8px !important; padding-bottom: 8px !important; padding-left: 5px !important; padding-right: 5px !important; margin: 10px !important; border-top-style: solid !important; border-top-width: 1px !important; border-top-color: #D3D3D3 !important; border-left-style: none !important; border-left-width: 1px !important; border-left-color: #D3D3D3 !important; border-right-style: none !important; border-right-width: 1px !important; border-right-color: #D3D3D3 !important; vertical-align: middle !important; overflow-x: hidden !important; }\n",
       " #bxhaeifmvn .gt_stub { color: #333333 !important; background-color: #FFFFFF !important; font-size: 100% !important; font-weight: initial !important; text-transform: inherit !important; border-right-style: solid !important; border-right-width: 2px !important; border-right-color: #D3D3D3 !important; padding-left: 5px !important; padding-right: 5px !important; }\n",
       " #bxhaeifmvn .gt_stub_row_group { color: #333333 !important; background-color: #FFFFFF !important; font-size: 100% !important; font-weight: initial !important; text-transform: inherit !important; border-right-style: solid !important; border-right-width: 2px !important; border-right-color: #D3D3D3 !important; padding-left: 5px !important; padding-right: 5px !important; vertical-align: top !important; }\n",
       " #bxhaeifmvn .gt_row_group_first td { border-top-width: 2px !important; }\n",
       " #bxhaeifmvn .gt_row_group_first th { border-top-width: 2px !important; }\n",
       " #bxhaeifmvn .gt_striped { background-color: rgba(128,128,128,0.05) !important; }\n",
       " #bxhaeifmvn .gt_table_body { border-top-style: solid !important; border-top-width: 2px !important; border-top-color: #D3D3D3 !important; border-bottom-style: solid !important; border-bottom-width: 2px !important; border-bottom-color: #D3D3D3 !important; }\n",
       " #bxhaeifmvn .gt_sourcenotes { color: #333333 !important; background-color: #FFFFFF !important; border-bottom-style: none !important; border-bottom-width: 2px !important; border-bottom-color: #D3D3D3 !important; border-left-style: none !important; border-left-width: 2px !important; border-left-color: #D3D3D3 !important; border-right-style: none !important; border-right-width: 2px !important; border-right-color: #D3D3D3 !important; }\n",
       " #bxhaeifmvn .gt_sourcenote { font-size: 90% !important; padding-top: 4px !important; padding-bottom: 4px !important; padding-left: 5px !important; padding-right: 5px !important; text-align: left !important; }\n",
       " #bxhaeifmvn .gt_left { text-align: left !important; }\n",
       " #bxhaeifmvn .gt_center { text-align: center !important; }\n",
       " #bxhaeifmvn .gt_right { text-align: right !important; font-variant-numeric: tabular-nums !important; }\n",
       " #bxhaeifmvn .gt_font_normal { font-weight: normal !important; }\n",
       " #bxhaeifmvn .gt_font_bold { font-weight: bold !important; }\n",
       " #bxhaeifmvn .gt_font_italic { font-style: italic !important; }\n",
       " #bxhaeifmvn .gt_super { font-size: 65% !important; }\n",
       " #bxhaeifmvn .gt_footnote_marks { font-size: 75% !important; vertical-align: 0.4em !important; position: initial !important; }\n",
       " #bxhaeifmvn .gt_asterisk { font-size: 100% !important; vertical-align: 0 !important; }\n",
       " \n",
       "</style>\n",
       "<table class=\"gt_table\" data-quarto-disable-processing=\"false\" data-quarto-bootstrap=\"false\">\n",
       "<thead>\n",
       "\n",
       "  <tr class=\"gt_heading\">\n",
       "    <td colspan=\"3\" class=\"gt_heading gt_title gt_font_normal\">Alpha Purchase Distribution</td>\n",
       "  </tr>\n",
       "<tr class=\"gt_col_headings\">\n",
       "  <th class=\"gt_col_heading gt_columns_bottom_border gt_left\" rowspan=\"1\" colspan=\"1\" scope=\"col\" id=\"# of Purchases\"># of Purchases</th>\n",
       "  <th class=\"gt_col_heading gt_columns_bottom_border gt_right\" rowspan=\"1\" colspan=\"1\" scope=\"col\" id=\"Frequency\">Frequency</th>\n",
       "  <th class=\"gt_col_heading gt_columns_bottom_border gt_right\" rowspan=\"1\" colspan=\"1\" scope=\"col\" id=\"% of Total\">% of Total</th>\n",
       "</tr>\n",
       "</thead>\n",
       "<tbody class=\"gt_table_body\">\n",
       "  <tr>\n",
       "    <th class=\"gt_row gt_left gt_stub\">0</th>\n",
       "    <td class=\"gt_row gt_right\">2,397</td>\n",
       "    <td style=\"color: #FFFFFF; background-color: #6d3c9e;\" class=\"gt_row gt_right\">47.74%</td>\n",
       "  </tr>\n",
       "  <tr>\n",
       "    <th class=\"gt_row gt_left gt_stub\">1</th>\n",
       "    <td class=\"gt_row gt_right\">733</td>\n",
       "    <td style=\"color: #000000; background-color: #d2c3e1;\" class=\"gt_row gt_right\">14.60%</td>\n",
       "  </tr>\n",
       "  <tr>\n",
       "    <th class=\"gt_row gt_left gt_stub\">2</th>\n",
       "    <td class=\"gt_row gt_right\">517</td>\n",
       "    <td style=\"color: #000000; background-color: #dfd5ea;\" class=\"gt_row gt_right\">10.30%</td>\n",
       "  </tr>\n",
       "  <tr>\n",
       "    <th class=\"gt_row gt_left gt_stub\">3</th>\n",
       "    <td class=\"gt_row gt_right\">400</td>\n",
       "    <td style=\"color: #000000; background-color: #e7deef;\" class=\"gt_row gt_right\">7.97%</td>\n",
       "  </tr>\n",
       "  <tr>\n",
       "    <th class=\"gt_row gt_left gt_stub\">4</th>\n",
       "    <td class=\"gt_row gt_right\">277</td>\n",
       "    <td style=\"color: #000000; background-color: #eee8f4;\" class=\"gt_row gt_right\">5.52%</td>\n",
       "  </tr>\n",
       "  <tr>\n",
       "    <th class=\"gt_row gt_left gt_stub\">5</th>\n",
       "    <td class=\"gt_row gt_right\">227</td>\n",
       "    <td style=\"color: #000000; background-color: #f1edf6;\" class=\"gt_row gt_right\">4.52%</td>\n",
       "  </tr>\n",
       "  <tr>\n",
       "    <th class=\"gt_row gt_left gt_stub\">6</th>\n",
       "    <td class=\"gt_row gt_right\">144</td>\n",
       "    <td style=\"color: #000000; background-color: #f6f3f9;\" class=\"gt_row gt_right\">2.87%</td>\n",
       "  </tr>\n",
       "  <tr>\n",
       "    <th class=\"gt_row gt_left gt_stub\">7</th>\n",
       "    <td class=\"gt_row gt_right\">101</td>\n",
       "    <td style=\"color: #000000; background-color: #f9f7fb;\" class=\"gt_row gt_right\">2.01%</td>\n",
       "  </tr>\n",
       "  <tr>\n",
       "    <th class=\"gt_row gt_left gt_stub\">8</th>\n",
       "    <td class=\"gt_row gt_right\">71</td>\n",
       "    <td style=\"color: #000000; background-color: #fbf9fc;\" class=\"gt_row gt_right\">1.41%</td>\n",
       "  </tr>\n",
       "  <tr>\n",
       "    <th class=\"gt_row gt_left gt_stub\">9</th>\n",
       "    <td class=\"gt_row gt_right\">47</td>\n",
       "    <td style=\"color: #000000; background-color: #fcfbfd;\" class=\"gt_row gt_right\">0.94%</td>\n",
       "  </tr>\n",
       "  <tr>\n",
       "    <th class=\"gt_row gt_left gt_stub\">10</th>\n",
       "    <td class=\"gt_row gt_right\">28</td>\n",
       "    <td style=\"color: #000000; background-color: #fdfdfe;\" class=\"gt_row gt_right\">0.56%</td>\n",
       "  </tr>\n",
       "  <tr>\n",
       "    <th class=\"gt_row gt_left gt_stub\">11</th>\n",
       "    <td class=\"gt_row gt_right\">24</td>\n",
       "    <td style=\"color: #000000; background-color: #fefdfe;\" class=\"gt_row gt_right\">0.48%</td>\n",
       "  </tr>\n",
       "  <tr>\n",
       "    <th class=\"gt_row gt_left gt_stub\">12</th>\n",
       "    <td class=\"gt_row gt_right\">16</td>\n",
       "    <td style=\"color: #000000; background-color: #fefefe;\" class=\"gt_row gt_right\">0.32%</td>\n",
       "  </tr>\n",
       "  <tr>\n",
       "    <th class=\"gt_row gt_left gt_stub\">13</th>\n",
       "    <td class=\"gt_row gt_right\">16</td>\n",
       "    <td style=\"color: #000000; background-color: #fefefe;\" class=\"gt_row gt_right\">0.32%</td>\n",
       "  </tr>\n",
       "  <tr>\n",
       "    <th class=\"gt_row gt_left gt_stub\">14</th>\n",
       "    <td class=\"gt_row gt_right\">12</td>\n",
       "    <td style=\"color: #000000; background-color: #fefeff;\" class=\"gt_row gt_right\">0.24%</td>\n",
       "  </tr>\n",
       "  <tr>\n",
       "    <th class=\"gt_row gt_left gt_stub\">15</th>\n",
       "    <td class=\"gt_row gt_right\">6</td>\n",
       "    <td style=\"color: #000000; background-color: #ffffff;\" class=\"gt_row gt_right\">0.12%</td>\n",
       "  </tr>\n",
       "  <tr>\n",
       "    <th class=\"gt_row gt_left gt_stub\">16</th>\n",
       "    <td class=\"gt_row gt_right\">3</td>\n",
       "    <td style=\"color: #000000; background-color: #ffffff;\" class=\"gt_row gt_right\">0.06%</td>\n",
       "  </tr>\n",
       "  <tr>\n",
       "    <th class=\"gt_row gt_left gt_stub\">18</th>\n",
       "    <td class=\"gt_row gt_right\">1</td>\n",
       "    <td style=\"color: #000000; background-color: #ffffff;\" class=\"gt_row gt_right\">0.02%</td>\n",
       "  </tr>\n",
       "  <tr>\n",
       "    <th class=\"gt_row gt_left gt_stub\">20</th>\n",
       "    <td class=\"gt_row gt_right\">1</td>\n",
       "    <td style=\"color: #000000; background-color: #ffffff;\" class=\"gt_row gt_right\">0.02%</td>\n",
       "  </tr>\n",
       "</tbody>\n",
       "\n",
       "\n",
       "</table>\n",
       "\n",
       "</div>\n",
       "        "
      ],
      "text/plain": [
       "GT(_tbl_data=shape: (19, 3)\n",
       "┌────────────────┬───────────┬────────────┐\n",
       "│ # of Purchases ┆ Frequency ┆ % of Total │\n",
       "│ ---            ┆ ---       ┆ ---        │\n",
       "│ i16            ┆ i32       ┆ f64        │\n",
       "╞════════════════╪═══════════╪════════════╡\n",
       "│ 0              ┆ 2397      ┆ 0.477395   │\n",
       "│ 1              ┆ 733       ┆ 0.145987   │\n",
       "│ 2              ┆ 517       ┆ 0.102968   │\n",
       "│ 3              ┆ 400       ┆ 0.079665   │\n",
       "│ 4              ┆ 277       ┆ 0.055168   │\n",
       "│ …              ┆ …         ┆ …          │\n",
       "│ 14             ┆ 12        ┆ 0.00239    │\n",
       "│ 15             ┆ 6         ┆ 0.001195   │\n",
       "│ 16             ┆ 3         ┆ 0.000597   │\n",
       "│ 18             ┆ 1         ┆ 0.000199   │\n",
       "│ 20             ┆ 1         ┆ 0.000199   │\n",
       "└────────────────┴───────────┴────────────┘, _body=<great_tables._gt_data.Body object at 0x10dad3160>, _boxhead=Boxhead([ColInfo(var='# of Purchases', type=<ColInfoTypeEnum.stub: 2>, column_label='# of Purchases', column_align='right', column_width=None), ColInfo(var='Frequency', type=<ColInfoTypeEnum.default: 1>, column_label='Frequency', column_align='right', column_width=None), ColInfo(var='% of Total', type=<ColInfoTypeEnum.default: 1>, column_label='% of Total', column_align='right', column_width=None)]), _stub=<great_tables._gt_data.Stub object at 0x10b326990>, _spanners=Spanners([]), _heading=Heading(title='Alpha Purchase Distribution', subtitle=None, preheader=None), _stubhead='# of Purchases', _source_notes=[], _footnotes=[], _styles=[StyleInfo(locname=LocBody(columns='% of Total', rows=[0]), grpname=None, colname='% of Total', rownum=0, colnum=None, styles=[CellStyleText(color='#FFFFFF', font=None, size=None, align=None, v_align=None, style=None, weight=None, stretch=None, decorate=None, transform=None, whitespace=None), CellStyleFill(color='#6d3c9e')]), StyleInfo(locname=LocBody(columns='% of Total', rows=[1]), grpname=None, colname='% of Total', rownum=1, colnum=None, styles=[CellStyleText(color='#000000', font=None, size=None, align=None, v_align=None, style=None, weight=None, stretch=None, decorate=None, transform=None, whitespace=None), CellStyleFill(color='#d2c3e1')]), StyleInfo(locname=LocBody(columns='% of Total', rows=[2]), grpname=None, colname='% of Total', rownum=2, colnum=None, styles=[CellStyleText(color='#000000', font=None, size=None, align=None, v_align=None, style=None, weight=None, stretch=None, decorate=None, transform=None, whitespace=None), CellStyleFill(color='#dfd5ea')]), StyleInfo(locname=LocBody(columns='% of Total', rows=[3]), grpname=None, colname='% of Total', rownum=3, colnum=None, styles=[CellStyleText(color='#000000', font=None, size=None, align=None, v_align=None, style=None, weight=None, stretch=None, decorate=None, transform=None, whitespace=None), CellStyleFill(color='#e7deef')]), StyleInfo(locname=LocBody(columns='% of Total', rows=[4]), grpname=None, colname='% of Total', rownum=4, colnum=None, styles=[CellStyleText(color='#000000', font=None, size=None, align=None, v_align=None, style=None, weight=None, stretch=None, decorate=None, transform=None, whitespace=None), CellStyleFill(color='#eee8f4')]), StyleInfo(locname=LocBody(columns='% of Total', rows=[5]), grpname=None, colname='% of Total', rownum=5, colnum=None, styles=[CellStyleText(color='#000000', font=None, size=None, align=None, v_align=None, style=None, weight=None, stretch=None, decorate=None, transform=None, whitespace=None), CellStyleFill(color='#f1edf6')]), StyleInfo(locname=LocBody(columns='% of Total', rows=[6]), grpname=None, colname='% of Total', rownum=6, colnum=None, styles=[CellStyleText(color='#000000', font=None, size=None, align=None, v_align=None, style=None, weight=None, stretch=None, decorate=None, transform=None, whitespace=None), CellStyleFill(color='#f6f3f9')]), StyleInfo(locname=LocBody(columns='% of Total', rows=[7]), grpname=None, colname='% of Total', rownum=7, colnum=None, styles=[CellStyleText(color='#000000', font=None, size=None, align=None, v_align=None, style=None, weight=None, stretch=None, decorate=None, transform=None, whitespace=None), CellStyleFill(color='#f9f7fb')]), StyleInfo(locname=LocBody(columns='% of Total', rows=[8]), grpname=None, colname='% of Total', rownum=8, colnum=None, styles=[CellStyleText(color='#000000', font=None, size=None, align=None, v_align=None, style=None, weight=None, stretch=None, decorate=None, transform=None, whitespace=None), CellStyleFill(color='#fbf9fc')]), StyleInfo(locname=LocBody(columns='% of Total', rows=[9]), grpname=None, colname='% of Total', rownum=9, colnum=None, styles=[CellStyleText(color='#000000', font=None, size=None, align=None, v_align=None, style=None, weight=None, stretch=None, decorate=None, transform=None, whitespace=None), CellStyleFill(color='#fcfbfd')]), StyleInfo(locname=LocBody(columns='% of Total', rows=[10]), grpname=None, colname='% of Total', rownum=10, colnum=None, styles=[CellStyleText(color='#000000', font=None, size=None, align=None, v_align=None, style=None, weight=None, stretch=None, decorate=None, transform=None, whitespace=None), CellStyleFill(color='#fdfdfe')]), StyleInfo(locname=LocBody(columns='% of Total', rows=[11]), grpname=None, colname='% of Total', rownum=11, colnum=None, styles=[CellStyleText(color='#000000', font=None, size=None, align=None, v_align=None, style=None, weight=None, stretch=None, decorate=None, transform=None, whitespace=None), CellStyleFill(color='#fefdfe')]), StyleInfo(locname=LocBody(columns='% of Total', rows=[12]), grpname=None, colname='% of Total', rownum=12, colnum=None, styles=[CellStyleText(color='#000000', font=None, size=None, align=None, v_align=None, style=None, weight=None, stretch=None, decorate=None, transform=None, whitespace=None), CellStyleFill(color='#fefefe')]), StyleInfo(locname=LocBody(columns='% of Total', rows=[13]), grpname=None, colname='% of Total', rownum=13, colnum=None, styles=[CellStyleText(color='#000000', font=None, size=None, align=None, v_align=None, style=None, weight=None, stretch=None, decorate=None, transform=None, whitespace=None), CellStyleFill(color='#fefefe')]), StyleInfo(locname=LocBody(columns='% of Total', rows=[14]), grpname=None, colname='% of Total', rownum=14, colnum=None, styles=[CellStyleText(color='#000000', font=None, size=None, align=None, v_align=None, style=None, weight=None, stretch=None, decorate=None, transform=None, whitespace=None), CellStyleFill(color='#fefeff')]), StyleInfo(locname=LocBody(columns='% of Total', rows=[15]), grpname=None, colname='% of Total', rownum=15, colnum=None, styles=[CellStyleText(color='#000000', font=None, size=None, align=None, v_align=None, style=None, weight=None, stretch=None, decorate=None, transform=None, whitespace=None), CellStyleFill(color='#ffffff')]), StyleInfo(locname=LocBody(columns='% of Total', rows=[16]), grpname=None, colname='% of Total', rownum=16, colnum=None, styles=[CellStyleText(color='#000000', font=None, size=None, align=None, v_align=None, style=None, weight=None, stretch=None, decorate=None, transform=None, whitespace=None), CellStyleFill(color='#ffffff')]), StyleInfo(locname=LocBody(columns='% of Total', rows=[17]), grpname=None, colname='% of Total', rownum=17, colnum=None, styles=[CellStyleText(color='#000000', font=None, size=None, align=None, v_align=None, style=None, weight=None, stretch=None, decorate=None, transform=None, whitespace=None), CellStyleFill(color='#ffffff')]), StyleInfo(locname=LocBody(columns='% of Total', rows=[18]), grpname=None, colname='% of Total', rownum=18, colnum=None, styles=[CellStyleText(color='#000000', font=None, size=None, align=None, v_align=None, style=None, weight=None, stretch=None, decorate=None, transform=None, whitespace=None), CellStyleFill(color='#ffffff')])], _locale=<great_tables._gt_data.Locale object at 0x10b326300>, _formats=[<great_tables._gt_data.FormatInfo object at 0x10db0faf0>, <great_tables._gt_data.FormatInfo object at 0x10db0fe70>], _substitutions=[], _options=Options(table_id=OptionsInfo(scss=False, category='table', type='value', value=None), table_caption=OptionsInfo(scss=False, category='table', type='value', value=None), table_width=OptionsInfo(scss=True, category='table', type='px', value='auto'), table_layout=OptionsInfo(scss=True, category='table', type='value', value='fixed'), table_margin_left=OptionsInfo(scss=True, category='table', type='px', value='auto'), table_margin_right=OptionsInfo(scss=True, category='table', type='px', value='auto'), table_background_color=OptionsInfo(scss=True, category='table', type='value', value='#FFFFFF'), table_additional_css=OptionsInfo(scss=False, category='table', type='values', value=[]), table_font_names=OptionsInfo(scss=False, category='table', type='values', value=['-apple-system', 'BlinkMacSystemFont', 'Segoe UI', 'Roboto', 'Oxygen', 'Ubuntu', 'Cantarell', 'Helvetica Neue', 'Fira Sans', 'Droid Sans', 'Arial', 'sans-serif']), table_font_size=OptionsInfo(scss=True, category='table', type='px', value='16px'), table_font_weight=OptionsInfo(scss=True, category='table', type='value', value='normal'), table_font_style=OptionsInfo(scss=True, category='table', type='value', value='normal'), table_font_color=OptionsInfo(scss=True, category='table', type='value', value='#333333'), table_font_color_light=OptionsInfo(scss=True, category='table', type='value', value='#FFFFFF'), table_border_top_include=OptionsInfo(scss=False, category='table', type='boolean', value=True), table_border_top_style=OptionsInfo(scss=True, category='table', type='value', value='solid'), table_border_top_width=OptionsInfo(scss=True, category='table', type='px', value='2px'), table_border_top_color=OptionsInfo(scss=True, category='table', type='value', value='#A8A8A8'), table_border_right_style=OptionsInfo(scss=True, category='table', type='value', value='none'), table_border_right_width=OptionsInfo(scss=True, category='table', type='px', value='2px'), table_border_right_color=OptionsInfo(scss=True, category='table', type='value', value='#D3D3D3'), table_border_bottom_include=OptionsInfo(scss=False, category='table', type='boolean', value=True), table_border_bottom_style=OptionsInfo(scss=True, category='table', type='value', value='solid'), table_border_bottom_width=OptionsInfo(scss=True, category='table', type='px', value='2px'), table_border_bottom_color=OptionsInfo(scss=True, category='table', type='value', value='#A8A8A8'), table_border_left_style=OptionsInfo(scss=True, category='table', type='value', value='none'), table_border_left_width=OptionsInfo(scss=True, category='table', type='px', value='2px'), table_border_left_color=OptionsInfo(scss=True, category='table', type='value', value='#D3D3D3'), heading_background_color=OptionsInfo(scss=True, category='heading', type='value', value=None), heading_align=OptionsInfo(scss=True, category='heading', type='value', value='center'), heading_title_font_size=OptionsInfo(scss=True, category='heading', type='px', value='125%'), heading_title_font_weight=OptionsInfo(scss=True, category='heading', type='value', value='initial'), heading_subtitle_font_size=OptionsInfo(scss=True, category='heading', type='px', value='85%'), heading_subtitle_font_weight=OptionsInfo(scss=True, category='heading', type='value', value='initial'), heading_padding=OptionsInfo(scss=True, category='heading', type='px', value='4px'), heading_padding_horizontal=OptionsInfo(scss=True, category='heading', type='px', value='5px'), heading_border_bottom_style=OptionsInfo(scss=True, category='heading', type='value', value='solid'), heading_border_bottom_width=OptionsInfo(scss=True, category='heading', type='px', value='2px'), heading_border_bottom_color=OptionsInfo(scss=True, category='heading', type='value', value='#D3D3D3'), heading_border_lr_style=OptionsInfo(scss=True, category='heading', type='value', value='none'), heading_border_lr_width=OptionsInfo(scss=True, category='heading', type='px', value='1px'), heading_border_lr_color=OptionsInfo(scss=True, category='heading', type='value', value='#D3D3D3'), column_labels_background_color=OptionsInfo(scss=True, category='column_labels', type='value', value=None), column_labels_font_size=OptionsInfo(scss=True, category='column_labels', type='px', value='100%'), column_labels_font_weight=OptionsInfo(scss=True, category='column_labels', type='value', value='normal'), column_labels_text_transform=OptionsInfo(scss=True, category='column_labels', type='value', value='inherit'), column_labels_padding=OptionsInfo(scss=True, category='column_labels', type='px', value='5px'), column_labels_padding_horizontal=OptionsInfo(scss=True, category='column_labels', type='px', value='5px'), column_labels_vlines_style=OptionsInfo(scss=True, category='table_body', type='value', value='none'), column_labels_vlines_width=OptionsInfo(scss=True, category='table_body', type='px', value='1px'), column_labels_vlines_color=OptionsInfo(scss=True, category='table_body', type='value', value='#D3D3D3'), column_labels_border_top_style=OptionsInfo(scss=True, category='column_labels', type='value', value='solid'), column_labels_border_top_width=OptionsInfo(scss=True, category='column_labels', type='px', value='2px'), column_labels_border_top_color=OptionsInfo(scss=True, category='column_labels', type='value', value='#D3D3D3'), column_labels_border_bottom_style=OptionsInfo(scss=True, category='column_labels', type='value', value='solid'), column_labels_border_bottom_width=OptionsInfo(scss=True, category='column_labels', type='px', value='2px'), column_labels_border_bottom_color=OptionsInfo(scss=True, category='column_labels', type='value', value='#D3D3D3'), column_labels_border_lr_style=OptionsInfo(scss=True, category='column_labels', type='value', value='none'), column_labels_border_lr_width=OptionsInfo(scss=True, category='column_labels', type='px', value='1px'), column_labels_border_lr_color=OptionsInfo(scss=True, category='column_labels', type='value', value='#D3D3D3'), column_labels_hidden=OptionsInfo(scss=False, category='column_labels', type='boolean', value=False), row_group_background_color=OptionsInfo(scss=True, category='row_group', type='value', value=None), row_group_font_size=OptionsInfo(scss=True, category='row_group', type='px', value='100%'), row_group_font_weight=OptionsInfo(scss=True, category='row_group', type='value', value='initial'), row_group_text_transform=OptionsInfo(scss=True, category='row_group', type='value', value='inherit'), row_group_padding=OptionsInfo(scss=True, category='row_group', type='px', value='8px'), row_group_padding_horizontal=OptionsInfo(scss=True, category='row_group', type='px', value='5px'), row_group_border_top_style=OptionsInfo(scss=True, category='row_group', type='value', value='solid'), row_group_border_top_width=OptionsInfo(scss=True, category='row_group', type='px', value='2px'), row_group_border_top_color=OptionsInfo(scss=True, category='row_group', type='value', value='#D3D3D3'), row_group_border_right_style=OptionsInfo(scss=True, category='row_group', type='value', value='none'), row_group_border_right_width=OptionsInfo(scss=True, category='row_group', type='px', value='1px'), row_group_border_right_color=OptionsInfo(scss=True, category='row_group', type='value', value='#D3D3D3'), row_group_border_bottom_style=OptionsInfo(scss=True, category='row_group', type='value', value='solid'), row_group_border_bottom_width=OptionsInfo(scss=True, category='row_group', type='px', value='2px'), row_group_border_bottom_color=OptionsInfo(scss=True, category='row_group', type='value', value='#D3D3D3'), row_group_border_left_style=OptionsInfo(scss=True, category='row_group', type='value', value='none'), row_group_border_left_width=OptionsInfo(scss=True, category='row_group', type='px', value='1px'), row_group_border_left_color=OptionsInfo(scss=True, category='row_group', type='value', value='#D3D3D3'), row_group_as_column=OptionsInfo(scss=False, category='row_group', type='boolean', value=False), table_body_hlines_style=OptionsInfo(scss=True, category='table_body', type='value', value='solid'), table_body_hlines_width=OptionsInfo(scss=True, category='table_body', type='px', value='1px'), table_body_hlines_color=OptionsInfo(scss=True, category='table_body', type='value', value='#D3D3D3'), table_body_vlines_style=OptionsInfo(scss=True, category='table_body', type='value', value='none'), table_body_vlines_width=OptionsInfo(scss=True, category='table_body', type='px', value='1px'), table_body_vlines_color=OptionsInfo(scss=True, category='table_body', type='value', value='#D3D3D3'), table_body_border_top_style=OptionsInfo(scss=True, category='table_body', type='value', value='solid'), table_body_border_top_width=OptionsInfo(scss=True, category='table_body', type='px', value='2px'), table_body_border_top_color=OptionsInfo(scss=True, category='table_body', type='value', value='#D3D3D3'), table_body_border_bottom_style=OptionsInfo(scss=True, category='table_body', type='value', value='solid'), table_body_border_bottom_width=OptionsInfo(scss=True, category='table_body', type='px', value='2px'), table_body_border_bottom_color=OptionsInfo(scss=True, category='table_body', type='value', value='#D3D3D3'), data_row_padding=OptionsInfo(scss=True, category='data_row', type='px', value='8px'), data_row_padding_horizontal=OptionsInfo(scss=True, category='data_row', type='px', value='5px'), stub_background_color=OptionsInfo(scss=True, category='stub', type='value', value=None), stub_font_size=OptionsInfo(scss=True, category='stub', type='px', value='100%'), stub_font_weight=OptionsInfo(scss=True, category='stub', type='value', value='initial'), stub_text_transform=OptionsInfo(scss=True, category='stub', type='value', value='inherit'), stub_border_style=OptionsInfo(scss=True, category='stub', type='value', value='solid'), stub_border_width=OptionsInfo(scss=True, category='stub', type='px', value='2px'), stub_border_color=OptionsInfo(scss=True, category='stub', type='value', value='#D3D3D3'), stub_row_group_background_color=OptionsInfo(scss=True, category='stub', type='value', value=None), stub_row_group_font_size=OptionsInfo(scss=True, category='stub', type='px', value='100%'), stub_row_group_font_weight=OptionsInfo(scss=True, category='stub', type='value', value='initial'), stub_row_group_text_transform=OptionsInfo(scss=True, category='stub', type='value', value='inherit'), stub_row_group_border_style=OptionsInfo(scss=True, category='stub', type='value', value='solid'), stub_row_group_border_width=OptionsInfo(scss=True, category='stub', type='px', value='2px'), stub_row_group_border_color=OptionsInfo(scss=True, category='stub', type='value', value='#D3D3D3'), source_notes_padding=OptionsInfo(scss=True, category='source_notes', type='px', value='4px'), source_notes_padding_horizontal=OptionsInfo(scss=True, category='source_notes', type='px', value='5px'), source_notes_background_color=OptionsInfo(scss=True, category='source_notes', type='value', value=None), source_notes_font_size=OptionsInfo(scss=True, category='source_notes', type='px', value='90%'), source_notes_border_bottom_style=OptionsInfo(scss=True, category='source_notes', type='value', value='none'), source_notes_border_bottom_width=OptionsInfo(scss=True, category='source_notes', type='px', value='2px'), source_notes_border_bottom_color=OptionsInfo(scss=True, category='source_notes', type='value', value='#D3D3D3'), source_notes_border_lr_style=OptionsInfo(scss=True, category='source_notes', type='value', value='none'), source_notes_border_lr_width=OptionsInfo(scss=True, category='source_notes', type='px', value='2px'), source_notes_border_lr_color=OptionsInfo(scss=True, category='source_notes', type='value', value='#D3D3D3'), source_notes_multiline=OptionsInfo(scss=False, category='source_notes', type='boolean', value=True), source_notes_sep=OptionsInfo(scss=False, category='source_notes', type='value', value=' '), row_striping_background_color=OptionsInfo(scss=True, category='row', type='value', value='rgba(128,128,128,0.05)'), row_striping_include_stub=OptionsInfo(scss=False, category='row', type='boolean', value=False), row_striping_include_table_body=OptionsInfo(scss=False, category='row', type='boolean', value=False), container_width=OptionsInfo(scss=False, category='container', type='px', value='auto'), container_height=OptionsInfo(scss=False, category='container', type='px', value='auto'), container_padding_x=OptionsInfo(scss=False, category='container', type='px', value='0px'), container_padding_y=OptionsInfo(scss=False, category='container', type='px', value='10px'), container_overflow_x=OptionsInfo(scss=False, category='container', type='overflow', value='auto'), container_overflow_y=OptionsInfo(scss=False, category='container', type='overflow', value='auto'), quarto_disable_processing=OptionsInfo(scss=False, category='quarto', type='logical', value=False), quarto_use_bootstrap=OptionsInfo(scss=False, category='quarto', type='logical', value=False)), _has_built=False)"
      ]
     },
     "execution_count": 38,
     "metadata": {},
     "output_type": "execute_result"
    }
   ],
   "source": [
    "alpha_trans_dist = (\n",
    "    trans_summary('Alpha', grocery_lf, 1)\n",
    "    .group_by(pl.col('# of Purchases').cast(pl.Int16))\n",
    "    .agg(pl.len().cast(pl.Int32).alias(\"Frequency\"))\n",
    "    .collect() \n",
    "    .pipe(\n",
    "        lambda df: df.vstack(\n",
    "            pl.DataFrame(\n",
    "                {\n",
    "                    \"# of Purchases\": [0],\n",
    "                    \"Frequency\": [panel_size - df[\"Frequency\"].sum()],\n",
    "                }\n",
    "            ).with_columns(\n",
    "                pl.col(\"# of Purchases\").cast(pl.Int16),\n",
    "                pl.col('Frequency').cast(pl.Int32)\n",
    "                )\n",
    "        )\n",
    "    )\n",
    "    .sort(by='# of Purchases')\n",
    "    .with_columns(\n",
    "        (pl.col('Frequency') / pl.col('Frequency').sum()).alias(\"% of Total\")\n",
    "    )    \n",
    ")\n",
    "\n",
    "(\n",
    "    GT(alpha_trans_dist, rowname_col='# of Purchases')\n",
    "    .tab_header(title='Alpha Purchase Distribution')\n",
    "    .tab_stubhead(label=\"# of Purchases\")\n",
    "    .fmt_integer(columns='Frequency')\n",
    "    .fmt_percent(columns='% of Total')\n",
    "    .data_color(\n",
    "        columns=['% of Total'],\n",
    "        domain=[0, 0.5],\n",
    "        palette=['white', 'rebeccapurple']\n",
    "    )  \n",
    ")"
   ]
  },
  {
   "cell_type": "code",
   "execution_count": 39,
   "metadata": {},
   "outputs": [
    {
     "data": {
      "application/vnd.vegalite.v5+json": {
       "$schema": "https://vega.github.io/schema/vega-lite/v5.20.1.json",
       "config": {
        "view": {
         "continuousHeight": 300,
         "continuousWidth": 300
        }
       },
       "data": {
        "name": "data-6ee6bc3bebfb0a9d7733195d73163329"
       },
       "datasets": {
        "data-6ee6bc3bebfb0a9d7733195d73163329": [
         {
          "# of Purchases": 0,
          "% of Total": 0.47739494124676357,
          "Frequency": 2397,
          "cut": "0"
         },
         {
          "# of Purchases": 1,
          "% of Total": 0.14598685520812588,
          "Frequency": 733,
          "cut": "1"
         },
         {
          "# of Purchases": 2,
          "% of Total": 0.10296753634734117,
          "Frequency": 517,
          "cut": "2"
         },
         {
          "# of Purchases": 3,
          "% of Total": 0.07966540529774944,
          "Frequency": 400,
          "cut": "3"
         },
         {
          "# of Purchases": 4,
          "% of Total": 0.05516829316869149,
          "Frequency": 277,
          "cut": "4"
         },
         {
          "# of Purchases": 5,
          "% of Total": 0.045210117506472816,
          "Frequency": 227,
          "cut": "5"
         },
         {
          "# of Purchases": 6,
          "% of Total": 0.028679545907189803,
          "Frequency": 144,
          "cut": "6"
         },
         {
          "# of Purchases": 7,
          "% of Total": 0.020115514837681737,
          "Frequency": 101,
          "cut": "7"
         },
         {
          "# of Purchases": 8,
          "% of Total": 0.014140609440350527,
          "Frequency": 71,
          "cut": "8"
         },
         {
          "# of Purchases": 9,
          "% of Total": 0.00936068512248556,
          "Frequency": 47,
          "cut": "9"
         },
         {
          "# of Purchases": 10,
          "% of Total": 0.005576578370842461,
          "Frequency": 28,
          "cut": "10+"
         },
         {
          "# of Purchases": 11,
          "% of Total": 0.004779924317864967,
          "Frequency": 24,
          "cut": "10+"
         },
         {
          "# of Purchases": 12,
          "% of Total": 0.003186616211909978,
          "Frequency": 16,
          "cut": "10+"
         },
         {
          "# of Purchases": 13,
          "% of Total": 0.003186616211909978,
          "Frequency": 16,
          "cut": "10+"
         },
         {
          "# of Purchases": 14,
          "% of Total": 0.0023899621589324833,
          "Frequency": 12,
          "cut": "10+"
         },
         {
          "# of Purchases": 15,
          "% of Total": 0.0011949810794662417,
          "Frequency": 6,
          "cut": "10+"
         },
         {
          "# of Purchases": 16,
          "% of Total": 0.0005974905397331208,
          "Frequency": 3,
          "cut": "10+"
         },
         {
          "# of Purchases": 18,
          "% of Total": 0.00019916351324437363,
          "Frequency": 1,
          "cut": "10+"
         },
         {
          "# of Purchases": 20,
          "% of Total": 0.00019916351324437363,
          "Frequency": 1,
          "cut": "10+"
         }
        ]
       },
       "encoding": {
        "x": {
         "axis": {
          "labelAngle": 0,
          "title": "Number of Transactions"
         },
         "field": "cut",
         "sort": [
          "0",
          "1",
          "2",
          "3",
          "4",
          "5",
          "6",
          "7",
          "8",
          "9",
          "10+"
         ],
         "type": "ordinal"
        },
        "y": {
         "axis": {
          "format": ".0%",
          "title": "% of Households"
         },
         "field": "% of Total",
         "type": "quantitative"
        }
       },
       "height": 250,
       "mark": {
        "type": "bar"
       },
       "title": {
        "subtitle": "Distribution of purchase frequency for Alpha in year 1",
        "text": "Alpha Transaction Distribution (%)"
       },
       "width": 650
      },
      "text/plain": [
       "<VegaLite 5 object>\n",
       "\n",
       "If you see this message, it means the renderer has not been properly enabled\n",
       "for the frontend that you are using. For more information, see\n",
       "https://altair-viz.github.io/user_guide/display_frontends.html#troubleshooting\n"
      ]
     },
     "metadata": {},
     "output_type": "display_data"
    }
   ],
   "source": [
    "labels = [str(i) if i < 10 else '10+' for i in range(11)]\n",
    "\n",
    "chart = freq_dist_plot(\n",
    "    data=alpha_trans_dist,\n",
    "    column=\"# of Purchases\",\n",
    "    bin_edges=np.arange(0, 10, 1),\n",
    "    labels=labels,\n",
    "    x_title=\"Number of Transactions\",\n",
    "    y_title=\"% of Households\",\n",
    "    chart_title=\"Alpha Transaction Distribution (%)\",\n",
    "    subtitle=\"Distribution of purchase frequency for Alpha in year 1\",\n",
    "    left_closed=False,\n",
    "    compute_rel_freq=False\n",
    ")\n",
    "chart.show()\n"
   ]
  },
  {
   "cell_type": "markdown",
   "metadata": {},
   "source": [
    "#### Distribution of Spend"
   ]
  },
  {
   "cell_type": "markdown",
   "metadata": {},
   "source": [
    "##### Distribution of Category Spend"
   ]
  },
  {
   "cell_type": "code",
   "execution_count": 40,
   "metadata": {},
   "outputs": [
    {
     "data": {
      "text/html": [
       "<div><style>\n",
       ".dataframe > thead > tr,\n",
       ".dataframe > tbody > tr {\n",
       "  text-align: right;\n",
       "  white-space: pre-wrap;\n",
       "}\n",
       "</style>\n",
       "<small>shape: (9, 2)</small><table border=\"1\" class=\"dataframe\"><thead><tr><th>statistic</th><th>spend</th></tr><tr><td>str</td><td>f64</td></tr></thead><tbody><tr><td>&quot;count&quot;</td><td>4574.0</td></tr><tr><td>&quot;null_count&quot;</td><td>0.0</td></tr><tr><td>&quot;mean&quot;</td><td>15.763424</td></tr><tr><td>&quot;std&quot;</td><td>12.876024</td></tr><tr><td>&quot;min&quot;</td><td>1.27</td></tr><tr><td>&quot;25%&quot;</td><td>6.76</td></tr><tr><td>&quot;50%&quot;</td><td>12.57</td></tr><tr><td>&quot;75%&quot;</td><td>20.74</td></tr><tr><td>&quot;max&quot;</td><td>166.699936</td></tr></tbody></table></div>"
      ],
      "text/plain": [
       "shape: (9, 2)\n",
       "┌────────────┬────────────┐\n",
       "│ statistic  ┆ spend      │\n",
       "│ ---        ┆ ---        │\n",
       "│ str        ┆ f64        │\n",
       "╞════════════╪════════════╡\n",
       "│ count      ┆ 4574.0     │\n",
       "│ null_count ┆ 0.0        │\n",
       "│ mean       ┆ 15.763424  │\n",
       "│ std        ┆ 12.876024  │\n",
       "│ min        ┆ 1.27       │\n",
       "│ 25%        ┆ 6.76       │\n",
       "│ 50%        ┆ 12.57      │\n",
       "│ 75%        ┆ 20.74      │\n",
       "│ max        ┆ 166.699936 │\n",
       "└────────────┴────────────┘"
      ]
     },
     "execution_count": 40,
     "metadata": {},
     "output_type": "execute_result"
    }
   ],
   "source": [
    "category_spend = spend_summary('Category', grocery_lf, 1).drop('panel_id')\n",
    "\n",
    "category_spend.describe()"
   ]
  },
  {
   "cell_type": "code",
   "execution_count": 41,
   "metadata": {},
   "outputs": [
    {
     "data": {
      "text/html": [
       "<div id=\"zsiaoshxot\" style=\"padding-left:0px;padding-right:0px;padding-top:10px;padding-bottom:10px;overflow-x:auto;overflow-y:auto;width:auto;height:auto;\">\n",
       "<style>\n",
       "#zsiaoshxot table {\n",
       "          font-family: -apple-system, BlinkMacSystemFont, 'Segoe UI', Roboto, Oxygen, Ubuntu, Cantarell, 'Helvetica Neue', 'Fira Sans', 'Droid Sans', Arial, sans-serif;\n",
       "          -webkit-font-smoothing: antialiased;\n",
       "          -moz-osx-font-smoothing: grayscale;\n",
       "        }\n",
       "\n",
       "#zsiaoshxot thead, tbody, tfoot, tr, td, th { border-style: none !important; }\n",
       " tr { background-color: transparent !important; }\n",
       "#zsiaoshxot p { margin: 0 !important; padding: 0 !important; }\n",
       " #zsiaoshxot .gt_table { display: table !important; border-collapse: collapse !important; line-height: normal !important; margin-left: auto !important; margin-right: auto !important; color: #333333 !important; font-size: 16px !important; font-weight: normal !important; font-style: normal !important; background-color: #FFFFFF !important; width: auto !important; border-top-style: solid !important; border-top-width: 2px !important; border-top-color: #A8A8A8 !important; border-right-style: none !important; border-right-width: 2px !important; border-right-color: #D3D3D3 !important; border-bottom-style: solid !important; border-bottom-width: 2px !important; border-bottom-color: #A8A8A8 !important; border-left-style: none !important; border-left-width: 2px !important; border-left-color: #D3D3D3 !important; }\n",
       " #zsiaoshxot .gt_caption { padding-top: 4px !important; padding-bottom: 4px !important; }\n",
       " #zsiaoshxot .gt_title { color: #333333 !important; font-size: 125% !important; font-weight: initial !important; padding-top: 4px !important; padding-bottom: 4px !important; padding-left: 5px !important; padding-right: 5px !important; border-bottom-color: #FFFFFF !important; border-bottom-width: 0 !important; }\n",
       " #zsiaoshxot .gt_subtitle { color: #333333 !important; font-size: 85% !important; font-weight: initial !important; padding-top: 3px !important; padding-bottom: 5px !important; padding-left: 5px !important; padding-right: 5px !important; border-top-color: #FFFFFF !important; border-top-width: 0 !important; }\n",
       " #zsiaoshxot .gt_heading { background-color: #FFFFFF !important; text-align: center !important; border-bottom-color: #FFFFFF !important; border-left-style: none !important; border-left-width: 1px !important; border-left-color: #D3D3D3 !important; border-right-style: none !important; border-right-width: 1px !important; border-right-color: #D3D3D3 !important; }\n",
       " #zsiaoshxot .gt_bottom_border { border-bottom-style: solid !important; border-bottom-width: 2px !important; border-bottom-color: #D3D3D3 !important; }\n",
       " #zsiaoshxot .gt_col_headings { border-top-style: solid !important; border-top-width: 2px !important; border-top-color: #D3D3D3 !important; border-bottom-style: solid !important; border-bottom-width: 2px !important; border-bottom-color: #D3D3D3 !important; border-left-style: none !important; border-left-width: 1px !important; border-left-color: #D3D3D3 !important; border-right-style: none !important; border-right-width: 1px !important; border-right-color: #D3D3D3 !important; }\n",
       " #zsiaoshxot .gt_col_heading { color: #333333 !important; background-color: #FFFFFF !important; font-size: 100% !important; font-weight: normal !important; text-transform: inherit !important; border-left-style: none !important; border-left-width: 1px !important; border-left-color: #D3D3D3 !important; border-right-style: none !important; border-right-width: 1px !important; border-right-color: #D3D3D3 !important; vertical-align: bottom !important; padding-top: 5px !important; padding-bottom: 5px !important; padding-left: 5px !important; padding-right: 5px !important; overflow-x: hidden !important; }\n",
       " #zsiaoshxot .gt_column_spanner_outer { color: #333333 !important; background-color: #FFFFFF !important; font-size: 100% !important; font-weight: normal !important; text-transform: inherit !important; padding-top: 0 !important; padding-bottom: 0 !important; padding-left: 4px !important; padding-right: 4px !important; }\n",
       " #zsiaoshxot .gt_column_spanner_outer:first-child { padding-left: 0 !important; }\n",
       " #zsiaoshxot .gt_column_spanner_outer:last-child { padding-right: 0 !important; }\n",
       " #zsiaoshxot .gt_column_spanner { border-bottom-style: solid !important; border-bottom-width: 2px !important; border-bottom-color: #D3D3D3 !important; vertical-align: bottom !important; padding-top: 5px !important; padding-bottom: 5px !important; overflow-x: hidden !important; display: inline-block !important; width: 100% !important; }\n",
       " #zsiaoshxot .gt_spanner_row { border-bottom-style: hidden !important; }\n",
       " #zsiaoshxot .gt_group_heading { padding-top: 8px !important; padding-bottom: 8px !important; padding-left: 5px !important; padding-right: 5px !important; color: #333333 !important; background-color: #FFFFFF !important; font-size: 100% !important; font-weight: initial !important; text-transform: inherit !important; border-top-style: solid !important; border-top-width: 2px !important; border-top-color: #D3D3D3 !important; border-bottom-style: solid !important; border-bottom-width: 2px !important; border-bottom-color: #D3D3D3 !important; border-left-style: none !important; border-left-width: 1px !important; border-left-color: #D3D3D3 !important; border-right-style: none !important; border-right-width: 1px !important; border-right-color: #D3D3D3 !important; vertical-align: middle !important; text-align: left !important; }\n",
       " #zsiaoshxot .gt_empty_group_heading { padding: 0.5px !important; color: #333333 !important; background-color: #FFFFFF !important; font-size: 100% !important; font-weight: initial !important; border-top-style: solid !important; border-top-width: 2px !important; border-top-color: #D3D3D3 !important; border-bottom-style: solid !important; border-bottom-width: 2px !important; border-bottom-color: #D3D3D3 !important; vertical-align: middle !important; }\n",
       " #zsiaoshxot .gt_from_md> :first-child { margin-top: 0 !important; }\n",
       " #zsiaoshxot .gt_from_md> :last-child { margin-bottom: 0 !important; }\n",
       " #zsiaoshxot .gt_row { padding-top: 8px !important; padding-bottom: 8px !important; padding-left: 5px !important; padding-right: 5px !important; margin: 10px !important; border-top-style: solid !important; border-top-width: 1px !important; border-top-color: #D3D3D3 !important; border-left-style: none !important; border-left-width: 1px !important; border-left-color: #D3D3D3 !important; border-right-style: none !important; border-right-width: 1px !important; border-right-color: #D3D3D3 !important; vertical-align: middle !important; overflow-x: hidden !important; }\n",
       " #zsiaoshxot .gt_stub { color: #333333 !important; background-color: #FFFFFF !important; font-size: 100% !important; font-weight: initial !important; text-transform: inherit !important; border-right-style: solid !important; border-right-width: 2px !important; border-right-color: #D3D3D3 !important; padding-left: 5px !important; padding-right: 5px !important; }\n",
       " #zsiaoshxot .gt_stub_row_group { color: #333333 !important; background-color: #FFFFFF !important; font-size: 100% !important; font-weight: initial !important; text-transform: inherit !important; border-right-style: solid !important; border-right-width: 2px !important; border-right-color: #D3D3D3 !important; padding-left: 5px !important; padding-right: 5px !important; vertical-align: top !important; }\n",
       " #zsiaoshxot .gt_row_group_first td { border-top-width: 2px !important; }\n",
       " #zsiaoshxot .gt_row_group_first th { border-top-width: 2px !important; }\n",
       " #zsiaoshxot .gt_striped { background-color: rgba(128,128,128,0.05) !important; }\n",
       " #zsiaoshxot .gt_table_body { border-top-style: solid !important; border-top-width: 2px !important; border-top-color: #D3D3D3 !important; border-bottom-style: solid !important; border-bottom-width: 2px !important; border-bottom-color: #D3D3D3 !important; }\n",
       " #zsiaoshxot .gt_sourcenotes { color: #333333 !important; background-color: #FFFFFF !important; border-bottom-style: none !important; border-bottom-width: 2px !important; border-bottom-color: #D3D3D3 !important; border-left-style: none !important; border-left-width: 2px !important; border-left-color: #D3D3D3 !important; border-right-style: none !important; border-right-width: 2px !important; border-right-color: #D3D3D3 !important; }\n",
       " #zsiaoshxot .gt_sourcenote { font-size: 90% !important; padding-top: 4px !important; padding-bottom: 4px !important; padding-left: 5px !important; padding-right: 5px !important; text-align: left !important; }\n",
       " #zsiaoshxot .gt_left { text-align: left !important; }\n",
       " #zsiaoshxot .gt_center { text-align: center !important; }\n",
       " #zsiaoshxot .gt_right { text-align: right !important; font-variant-numeric: tabular-nums !important; }\n",
       " #zsiaoshxot .gt_font_normal { font-weight: normal !important; }\n",
       " #zsiaoshxot .gt_font_bold { font-weight: bold !important; }\n",
       " #zsiaoshxot .gt_font_italic { font-style: italic !important; }\n",
       " #zsiaoshxot .gt_super { font-size: 65% !important; }\n",
       " #zsiaoshxot .gt_footnote_marks { font-size: 75% !important; vertical-align: 0.4em !important; position: initial !important; }\n",
       " #zsiaoshxot .gt_asterisk { font-size: 100% !important; vertical-align: 0 !important; }\n",
       " \n",
       "</style>\n",
       "<table class=\"gt_table\" data-quarto-disable-processing=\"false\" data-quarto-bootstrap=\"false\">\n",
       "<thead>\n",
       "\n",
       "  <tr class=\"gt_heading\">\n",
       "    <td colspan=\"2\" class=\"gt_heading gt_title gt_font_normal\">Category Spend Percentile</td>\n",
       "  </tr>\n",
       "<tr class=\"gt_col_headings\">\n",
       "  <th class=\"gt_col_heading gt_columns_bottom_border gt_left\" rowspan=\"1\" colspan=\"1\" scope=\"col\" id=\"Percentile Level\">Percentile Level</th>\n",
       "  <th class=\"gt_col_heading gt_columns_bottom_border gt_right\" rowspan=\"1\" colspan=\"1\" scope=\"col\" id=\"Percentile\">Percentile</th>\n",
       "</tr>\n",
       "</thead>\n",
       "<tbody class=\"gt_table_body\">\n",
       "  <tr>\n",
       "    <th style=\"color: #000000; background-color: #ece6f2;\" class=\"gt_row gt_left gt_stub\">5</th>\n",
       "    <td style=\"color: #000000; background-color: #f5f1f8;\" class=\"gt_row gt_right\">2.69</td>\n",
       "  </tr>\n",
       "  <tr>\n",
       "    <th style=\"color: #000000; background-color: #d9cce6;\" class=\"gt_row gt_left gt_stub\">10</th>\n",
       "    <td style=\"color: #000000; background-color: #f2eef6;\" class=\"gt_row gt_right\">3.39</td>\n",
       "  </tr>\n",
       "  <tr>\n",
       "    <th style=\"color: #000000; background-color: #c6b2d9;\" class=\"gt_row gt_left gt_stub\">15</th>\n",
       "    <td style=\"color: #000000; background-color: #ede7f3;\" class=\"gt_row gt_right\">4.67</td>\n",
       "  </tr>\n",
       "  <tr>\n",
       "    <th style=\"color: #000000; background-color: #b299cc;\" class=\"gt_row gt_left gt_stub\">20</th>\n",
       "    <td style=\"color: #000000; background-color: #e9e1f0;\" class=\"gt_row gt_right\">5.88</td>\n",
       "  </tr>\n",
       "  <tr>\n",
       "    <th style=\"color: #000000; background-color: #9f80bf;\" class=\"gt_row gt_left gt_stub\">25</th>\n",
       "    <td style=\"color: #000000; background-color: #e5ddee;\" class=\"gt_row gt_right\">6.76</td>\n",
       "  </tr>\n",
       "  <tr>\n",
       "    <th style=\"color: #000000; background-color: #8c66b2;\" class=\"gt_row gt_left gt_stub\">30</th>\n",
       "    <td style=\"color: #000000; background-color: #e2d8ec;\" class=\"gt_row gt_right\">7.63</td>\n",
       "  </tr>\n",
       "  <tr>\n",
       "    <th style=\"color: #FFFFFF; background-color: #794ca6;\" class=\"gt_row gt_left gt_stub\">35</th>\n",
       "    <td style=\"color: #000000; background-color: #dcd1e8;\" class=\"gt_row gt_right\">9.07</td>\n",
       "  </tr>\n",
       "  <tr>\n",
       "    <th style=\"color: #FFFFFF; background-color: #663399;\" class=\"gt_row gt_left gt_stub\">40</th>\n",
       "    <td style=\"color: #000000; background-color: #d9cce5;\" class=\"gt_row gt_right\">10.06</td>\n",
       "  </tr>\n",
       "  <tr>\n",
       "    <th style=\"color: #000000; background-color: #808080;\" class=\"gt_row gt_left gt_stub\">45</th>\n",
       "    <td style=\"color: #000000; background-color: #d5c7e3;\" class=\"gt_row gt_right\">11.03</td>\n",
       "  </tr>\n",
       "  <tr>\n",
       "    <th style=\"color: #000000; background-color: #808080;\" class=\"gt_row gt_left gt_stub\">50</th>\n",
       "    <td style=\"color: #000000; background-color: #cfbfdf;\" class=\"gt_row gt_right\">12.57</td>\n",
       "  </tr>\n",
       "  <tr>\n",
       "    <th style=\"color: #000000; background-color: #808080;\" class=\"gt_row gt_left gt_stub\">55</th>\n",
       "    <td style=\"color: #000000; background-color: #cab9dc;\" class=\"gt_row gt_right\">13.73</td>\n",
       "  </tr>\n",
       "  <tr>\n",
       "    <th style=\"color: #000000; background-color: #808080;\" class=\"gt_row gt_left gt_stub\">60</th>\n",
       "    <td style=\"color: #000000; background-color: #c5b1d8;\" class=\"gt_row gt_right\">15.24</td>\n",
       "  </tr>\n",
       "  <tr>\n",
       "    <th style=\"color: #000000; background-color: #808080;\" class=\"gt_row gt_left gt_stub\">65</th>\n",
       "    <td style=\"color: #000000; background-color: #bfa9d4;\" class=\"gt_row gt_right\">16.84</td>\n",
       "  </tr>\n",
       "  <tr>\n",
       "    <th style=\"color: #000000; background-color: #808080;\" class=\"gt_row gt_left gt_stub\">70</th>\n",
       "    <td style=\"color: #000000; background-color: #b79fcf;\" class=\"gt_row gt_right\">18.79</td>\n",
       "  </tr>\n",
       "  <tr>\n",
       "    <th style=\"color: #000000; background-color: #808080;\" class=\"gt_row gt_left gt_stub\">75</th>\n",
       "    <td style=\"color: #000000; background-color: #b095ca;\" class=\"gt_row gt_right\">20.74</td>\n",
       "  </tr>\n",
       "  <tr>\n",
       "    <th style=\"color: #000000; background-color: #808080;\" class=\"gt_row gt_left gt_stub\">80</th>\n",
       "    <td style=\"color: #000000; background-color: #a588c3;\" class=\"gt_row gt_right\">23.43</td>\n",
       "  </tr>\n",
       "  <tr>\n",
       "    <th style=\"color: #000000; background-color: #808080;\" class=\"gt_row gt_left gt_stub\">85</th>\n",
       "    <td style=\"color: #000000; background-color: #9876ba;\" class=\"gt_row gt_right\">26.88</td>\n",
       "  </tr>\n",
       "  <tr>\n",
       "    <th style=\"color: #000000; background-color: #808080;\" class=\"gt_row gt_left gt_stub\">90</th>\n",
       "    <td style=\"color: #FFFFFF; background-color: #855dae;\" class=\"gt_row gt_right\">31.81</td>\n",
       "  </tr>\n",
       "  <tr>\n",
       "    <th style=\"color: #000000; background-color: #808080;\" class=\"gt_row gt_left gt_stub\">95</th>\n",
       "    <td style=\"color: #FFFFFF; background-color: #67349a;\" class=\"gt_row gt_right\">39.72</td>\n",
       "  </tr>\n",
       "</tbody>\n",
       "\n",
       "\n",
       "</table>\n",
       "\n",
       "</div>\n",
       "        "
      ],
      "text/plain": [
       "GT(_tbl_data=shape: (19, 2)\n",
       "┌──────────────────┬────────────┐\n",
       "│ Percentile Level ┆ Percentile │\n",
       "│ ---              ┆ ---        │\n",
       "│ i64              ┆ f64        │\n",
       "╞══════════════════╪════════════╡\n",
       "│ 5                ┆ 2.69       │\n",
       "│ 10               ┆ 3.39       │\n",
       "│ 15               ┆ 4.67       │\n",
       "│ 20               ┆ 5.88       │\n",
       "│ 25               ┆ 6.76       │\n",
       "│ …                ┆ …          │\n",
       "│ 75               ┆ 20.7375    │\n",
       "│ 80               ┆ 23.43      │\n",
       "│ 85               ┆ 26.880501  │\n",
       "│ 90               ┆ 31.809999  │\n",
       "│ 95               ┆ 39.718504  │\n",
       "└──────────────────┴────────────┘, _body=<great_tables._gt_data.Body object at 0x10e461220>, _boxhead=Boxhead([ColInfo(var='Percentile Level', type=<ColInfoTypeEnum.stub: 2>, column_label='Percentile Level', column_align='right', column_width=None), ColInfo(var='Percentile', type=<ColInfoTypeEnum.default: 1>, column_label='Percentile', column_align='right', column_width=None)]), _stub=<great_tables._gt_data.Stub object at 0x10db0fbd0>, _spanners=Spanners([]), _heading=Heading(title='Category Spend Percentile', subtitle=None, preheader=None), _stubhead='Percentile Level', _source_notes=[], _footnotes=[], _styles=[StyleInfo(locname=LocBody(columns='Percentile Level', rows=[0]), grpname=None, colname='Percentile Level', rownum=0, colnum=None, styles=[CellStyleText(color='#000000', font=None, size=None, align=None, v_align=None, style=None, weight=None, stretch=None, decorate=None, transform=None, whitespace=None), CellStyleFill(color='#ece6f2')]), StyleInfo(locname=LocBody(columns='Percentile Level', rows=[1]), grpname=None, colname='Percentile Level', rownum=1, colnum=None, styles=[CellStyleText(color='#000000', font=None, size=None, align=None, v_align=None, style=None, weight=None, stretch=None, decorate=None, transform=None, whitespace=None), CellStyleFill(color='#d9cce6')]), StyleInfo(locname=LocBody(columns='Percentile Level', rows=[2]), grpname=None, colname='Percentile Level', rownum=2, colnum=None, styles=[CellStyleText(color='#000000', font=None, size=None, align=None, v_align=None, style=None, weight=None, stretch=None, decorate=None, transform=None, whitespace=None), CellStyleFill(color='#c6b2d9')]), StyleInfo(locname=LocBody(columns='Percentile Level', rows=[3]), grpname=None, colname='Percentile Level', rownum=3, colnum=None, styles=[CellStyleText(color='#000000', font=None, size=None, align=None, v_align=None, style=None, weight=None, stretch=None, decorate=None, transform=None, whitespace=None), CellStyleFill(color='#b299cc')]), StyleInfo(locname=LocBody(columns='Percentile Level', rows=[4]), grpname=None, colname='Percentile Level', rownum=4, colnum=None, styles=[CellStyleText(color='#000000', font=None, size=None, align=None, v_align=None, style=None, weight=None, stretch=None, decorate=None, transform=None, whitespace=None), CellStyleFill(color='#9f80bf')]), StyleInfo(locname=LocBody(columns='Percentile Level', rows=[5]), grpname=None, colname='Percentile Level', rownum=5, colnum=None, styles=[CellStyleText(color='#000000', font=None, size=None, align=None, v_align=None, style=None, weight=None, stretch=None, decorate=None, transform=None, whitespace=None), CellStyleFill(color='#8c66b2')]), StyleInfo(locname=LocBody(columns='Percentile Level', rows=[6]), grpname=None, colname='Percentile Level', rownum=6, colnum=None, styles=[CellStyleText(color='#FFFFFF', font=None, size=None, align=None, v_align=None, style=None, weight=None, stretch=None, decorate=None, transform=None, whitespace=None), CellStyleFill(color='#794ca6')]), StyleInfo(locname=LocBody(columns='Percentile Level', rows=[7]), grpname=None, colname='Percentile Level', rownum=7, colnum=None, styles=[CellStyleText(color='#FFFFFF', font=None, size=None, align=None, v_align=None, style=None, weight=None, stretch=None, decorate=None, transform=None, whitespace=None), CellStyleFill(color='#663399')]), StyleInfo(locname=LocBody(columns='Percentile Level', rows=[8]), grpname=None, colname='Percentile Level', rownum=8, colnum=None, styles=[CellStyleText(color='#000000', font=None, size=None, align=None, v_align=None, style=None, weight=None, stretch=None, decorate=None, transform=None, whitespace=None), CellStyleFill(color='#808080')]), StyleInfo(locname=LocBody(columns='Percentile Level', rows=[9]), grpname=None, colname='Percentile Level', rownum=9, colnum=None, styles=[CellStyleText(color='#000000', font=None, size=None, align=None, v_align=None, style=None, weight=None, stretch=None, decorate=None, transform=None, whitespace=None), CellStyleFill(color='#808080')]), StyleInfo(locname=LocBody(columns='Percentile Level', rows=[10]), grpname=None, colname='Percentile Level', rownum=10, colnum=None, styles=[CellStyleText(color='#000000', font=None, size=None, align=None, v_align=None, style=None, weight=None, stretch=None, decorate=None, transform=None, whitespace=None), CellStyleFill(color='#808080')]), StyleInfo(locname=LocBody(columns='Percentile Level', rows=[11]), grpname=None, colname='Percentile Level', rownum=11, colnum=None, styles=[CellStyleText(color='#000000', font=None, size=None, align=None, v_align=None, style=None, weight=None, stretch=None, decorate=None, transform=None, whitespace=None), CellStyleFill(color='#808080')]), StyleInfo(locname=LocBody(columns='Percentile Level', rows=[12]), grpname=None, colname='Percentile Level', rownum=12, colnum=None, styles=[CellStyleText(color='#000000', font=None, size=None, align=None, v_align=None, style=None, weight=None, stretch=None, decorate=None, transform=None, whitespace=None), CellStyleFill(color='#808080')]), StyleInfo(locname=LocBody(columns='Percentile Level', rows=[13]), grpname=None, colname='Percentile Level', rownum=13, colnum=None, styles=[CellStyleText(color='#000000', font=None, size=None, align=None, v_align=None, style=None, weight=None, stretch=None, decorate=None, transform=None, whitespace=None), CellStyleFill(color='#808080')]), StyleInfo(locname=LocBody(columns='Percentile Level', rows=[14]), grpname=None, colname='Percentile Level', rownum=14, colnum=None, styles=[CellStyleText(color='#000000', font=None, size=None, align=None, v_align=None, style=None, weight=None, stretch=None, decorate=None, transform=None, whitespace=None), CellStyleFill(color='#808080')]), StyleInfo(locname=LocBody(columns='Percentile Level', rows=[15]), grpname=None, colname='Percentile Level', rownum=15, colnum=None, styles=[CellStyleText(color='#000000', font=None, size=None, align=None, v_align=None, style=None, weight=None, stretch=None, decorate=None, transform=None, whitespace=None), CellStyleFill(color='#808080')]), StyleInfo(locname=LocBody(columns='Percentile Level', rows=[16]), grpname=None, colname='Percentile Level', rownum=16, colnum=None, styles=[CellStyleText(color='#000000', font=None, size=None, align=None, v_align=None, style=None, weight=None, stretch=None, decorate=None, transform=None, whitespace=None), CellStyleFill(color='#808080')]), StyleInfo(locname=LocBody(columns='Percentile Level', rows=[17]), grpname=None, colname='Percentile Level', rownum=17, colnum=None, styles=[CellStyleText(color='#000000', font=None, size=None, align=None, v_align=None, style=None, weight=None, stretch=None, decorate=None, transform=None, whitespace=None), CellStyleFill(color='#808080')]), StyleInfo(locname=LocBody(columns='Percentile Level', rows=[18]), grpname=None, colname='Percentile Level', rownum=18, colnum=None, styles=[CellStyleText(color='#000000', font=None, size=None, align=None, v_align=None, style=None, weight=None, stretch=None, decorate=None, transform=None, whitespace=None), CellStyleFill(color='#808080')]), StyleInfo(locname=LocBody(columns='Percentile', rows=[0]), grpname=None, colname='Percentile', rownum=0, colnum=None, styles=[CellStyleText(color='#000000', font=None, size=None, align=None, v_align=None, style=None, weight=None, stretch=None, decorate=None, transform=None, whitespace=None), CellStyleFill(color='#f5f1f8')]), StyleInfo(locname=LocBody(columns='Percentile', rows=[1]), grpname=None, colname='Percentile', rownum=1, colnum=None, styles=[CellStyleText(color='#000000', font=None, size=None, align=None, v_align=None, style=None, weight=None, stretch=None, decorate=None, transform=None, whitespace=None), CellStyleFill(color='#f2eef6')]), StyleInfo(locname=LocBody(columns='Percentile', rows=[2]), grpname=None, colname='Percentile', rownum=2, colnum=None, styles=[CellStyleText(color='#000000', font=None, size=None, align=None, v_align=None, style=None, weight=None, stretch=None, decorate=None, transform=None, whitespace=None), CellStyleFill(color='#ede7f3')]), StyleInfo(locname=LocBody(columns='Percentile', rows=[3]), grpname=None, colname='Percentile', rownum=3, colnum=None, styles=[CellStyleText(color='#000000', font=None, size=None, align=None, v_align=None, style=None, weight=None, stretch=None, decorate=None, transform=None, whitespace=None), CellStyleFill(color='#e9e1f0')]), StyleInfo(locname=LocBody(columns='Percentile', rows=[4]), grpname=None, colname='Percentile', rownum=4, colnum=None, styles=[CellStyleText(color='#000000', font=None, size=None, align=None, v_align=None, style=None, weight=None, stretch=None, decorate=None, transform=None, whitespace=None), CellStyleFill(color='#e5ddee')]), StyleInfo(locname=LocBody(columns='Percentile', rows=[5]), grpname=None, colname='Percentile', rownum=5, colnum=None, styles=[CellStyleText(color='#000000', font=None, size=None, align=None, v_align=None, style=None, weight=None, stretch=None, decorate=None, transform=None, whitespace=None), CellStyleFill(color='#e2d8ec')]), StyleInfo(locname=LocBody(columns='Percentile', rows=[6]), grpname=None, colname='Percentile', rownum=6, colnum=None, styles=[CellStyleText(color='#000000', font=None, size=None, align=None, v_align=None, style=None, weight=None, stretch=None, decorate=None, transform=None, whitespace=None), CellStyleFill(color='#dcd1e8')]), StyleInfo(locname=LocBody(columns='Percentile', rows=[7]), grpname=None, colname='Percentile', rownum=7, colnum=None, styles=[CellStyleText(color='#000000', font=None, size=None, align=None, v_align=None, style=None, weight=None, stretch=None, decorate=None, transform=None, whitespace=None), CellStyleFill(color='#d9cce5')]), StyleInfo(locname=LocBody(columns='Percentile', rows=[8]), grpname=None, colname='Percentile', rownum=8, colnum=None, styles=[CellStyleText(color='#000000', font=None, size=None, align=None, v_align=None, style=None, weight=None, stretch=None, decorate=None, transform=None, whitespace=None), CellStyleFill(color='#d5c7e3')]), StyleInfo(locname=LocBody(columns='Percentile', rows=[9]), grpname=None, colname='Percentile', rownum=9, colnum=None, styles=[CellStyleText(color='#000000', font=None, size=None, align=None, v_align=None, style=None, weight=None, stretch=None, decorate=None, transform=None, whitespace=None), CellStyleFill(color='#cfbfdf')]), StyleInfo(locname=LocBody(columns='Percentile', rows=[10]), grpname=None, colname='Percentile', rownum=10, colnum=None, styles=[CellStyleText(color='#000000', font=None, size=None, align=None, v_align=None, style=None, weight=None, stretch=None, decorate=None, transform=None, whitespace=None), CellStyleFill(color='#cab9dc')]), StyleInfo(locname=LocBody(columns='Percentile', rows=[11]), grpname=None, colname='Percentile', rownum=11, colnum=None, styles=[CellStyleText(color='#000000', font=None, size=None, align=None, v_align=None, style=None, weight=None, stretch=None, decorate=None, transform=None, whitespace=None), CellStyleFill(color='#c5b1d8')]), StyleInfo(locname=LocBody(columns='Percentile', rows=[12]), grpname=None, colname='Percentile', rownum=12, colnum=None, styles=[CellStyleText(color='#000000', font=None, size=None, align=None, v_align=None, style=None, weight=None, stretch=None, decorate=None, transform=None, whitespace=None), CellStyleFill(color='#bfa9d4')]), StyleInfo(locname=LocBody(columns='Percentile', rows=[13]), grpname=None, colname='Percentile', rownum=13, colnum=None, styles=[CellStyleText(color='#000000', font=None, size=None, align=None, v_align=None, style=None, weight=None, stretch=None, decorate=None, transform=None, whitespace=None), CellStyleFill(color='#b79fcf')]), StyleInfo(locname=LocBody(columns='Percentile', rows=[14]), grpname=None, colname='Percentile', rownum=14, colnum=None, styles=[CellStyleText(color='#000000', font=None, size=None, align=None, v_align=None, style=None, weight=None, stretch=None, decorate=None, transform=None, whitespace=None), CellStyleFill(color='#b095ca')]), StyleInfo(locname=LocBody(columns='Percentile', rows=[15]), grpname=None, colname='Percentile', rownum=15, colnum=None, styles=[CellStyleText(color='#000000', font=None, size=None, align=None, v_align=None, style=None, weight=None, stretch=None, decorate=None, transform=None, whitespace=None), CellStyleFill(color='#a588c3')]), StyleInfo(locname=LocBody(columns='Percentile', rows=[16]), grpname=None, colname='Percentile', rownum=16, colnum=None, styles=[CellStyleText(color='#000000', font=None, size=None, align=None, v_align=None, style=None, weight=None, stretch=None, decorate=None, transform=None, whitespace=None), CellStyleFill(color='#9876ba')]), StyleInfo(locname=LocBody(columns='Percentile', rows=[17]), grpname=None, colname='Percentile', rownum=17, colnum=None, styles=[CellStyleText(color='#FFFFFF', font=None, size=None, align=None, v_align=None, style=None, weight=None, stretch=None, decorate=None, transform=None, whitespace=None), CellStyleFill(color='#855dae')]), StyleInfo(locname=LocBody(columns='Percentile', rows=[18]), grpname=None, colname='Percentile', rownum=18, colnum=None, styles=[CellStyleText(color='#FFFFFF', font=None, size=None, align=None, v_align=None, style=None, weight=None, stretch=None, decorate=None, transform=None, whitespace=None), CellStyleFill(color='#67349a')])], _locale=<great_tables._gt_data.Locale object at 0x10db0f770>, _formats=[<great_tables._gt_data.FormatInfo object at 0x10da665b0>], _substitutions=[], _options=Options(table_id=OptionsInfo(scss=False, category='table', type='value', value=None), table_caption=OptionsInfo(scss=False, category='table', type='value', value=None), table_width=OptionsInfo(scss=True, category='table', type='px', value='auto'), table_layout=OptionsInfo(scss=True, category='table', type='value', value='fixed'), table_margin_left=OptionsInfo(scss=True, category='table', type='px', value='auto'), table_margin_right=OptionsInfo(scss=True, category='table', type='px', value='auto'), table_background_color=OptionsInfo(scss=True, category='table', type='value', value='#FFFFFF'), table_additional_css=OptionsInfo(scss=False, category='table', type='values', value=[]), table_font_names=OptionsInfo(scss=False, category='table', type='values', value=['-apple-system', 'BlinkMacSystemFont', 'Segoe UI', 'Roboto', 'Oxygen', 'Ubuntu', 'Cantarell', 'Helvetica Neue', 'Fira Sans', 'Droid Sans', 'Arial', 'sans-serif']), table_font_size=OptionsInfo(scss=True, category='table', type='px', value='16px'), table_font_weight=OptionsInfo(scss=True, category='table', type='value', value='normal'), table_font_style=OptionsInfo(scss=True, category='table', type='value', value='normal'), table_font_color=OptionsInfo(scss=True, category='table', type='value', value='#333333'), table_font_color_light=OptionsInfo(scss=True, category='table', type='value', value='#FFFFFF'), table_border_top_include=OptionsInfo(scss=False, category='table', type='boolean', value=True), table_border_top_style=OptionsInfo(scss=True, category='table', type='value', value='solid'), table_border_top_width=OptionsInfo(scss=True, category='table', type='px', value='2px'), table_border_top_color=OptionsInfo(scss=True, category='table', type='value', value='#A8A8A8'), table_border_right_style=OptionsInfo(scss=True, category='table', type='value', value='none'), table_border_right_width=OptionsInfo(scss=True, category='table', type='px', value='2px'), table_border_right_color=OptionsInfo(scss=True, category='table', type='value', value='#D3D3D3'), table_border_bottom_include=OptionsInfo(scss=False, category='table', type='boolean', value=True), table_border_bottom_style=OptionsInfo(scss=True, category='table', type='value', value='solid'), table_border_bottom_width=OptionsInfo(scss=True, category='table', type='px', value='2px'), table_border_bottom_color=OptionsInfo(scss=True, category='table', type='value', value='#A8A8A8'), table_border_left_style=OptionsInfo(scss=True, category='table', type='value', value='none'), table_border_left_width=OptionsInfo(scss=True, category='table', type='px', value='2px'), table_border_left_color=OptionsInfo(scss=True, category='table', type='value', value='#D3D3D3'), heading_background_color=OptionsInfo(scss=True, category='heading', type='value', value=None), heading_align=OptionsInfo(scss=True, category='heading', type='value', value='center'), heading_title_font_size=OptionsInfo(scss=True, category='heading', type='px', value='125%'), heading_title_font_weight=OptionsInfo(scss=True, category='heading', type='value', value='initial'), heading_subtitle_font_size=OptionsInfo(scss=True, category='heading', type='px', value='85%'), heading_subtitle_font_weight=OptionsInfo(scss=True, category='heading', type='value', value='initial'), heading_padding=OptionsInfo(scss=True, category='heading', type='px', value='4px'), heading_padding_horizontal=OptionsInfo(scss=True, category='heading', type='px', value='5px'), heading_border_bottom_style=OptionsInfo(scss=True, category='heading', type='value', value='solid'), heading_border_bottom_width=OptionsInfo(scss=True, category='heading', type='px', value='2px'), heading_border_bottom_color=OptionsInfo(scss=True, category='heading', type='value', value='#D3D3D3'), heading_border_lr_style=OptionsInfo(scss=True, category='heading', type='value', value='none'), heading_border_lr_width=OptionsInfo(scss=True, category='heading', type='px', value='1px'), heading_border_lr_color=OptionsInfo(scss=True, category='heading', type='value', value='#D3D3D3'), column_labels_background_color=OptionsInfo(scss=True, category='column_labels', type='value', value=None), column_labels_font_size=OptionsInfo(scss=True, category='column_labels', type='px', value='100%'), column_labels_font_weight=OptionsInfo(scss=True, category='column_labels', type='value', value='normal'), column_labels_text_transform=OptionsInfo(scss=True, category='column_labels', type='value', value='inherit'), column_labels_padding=OptionsInfo(scss=True, category='column_labels', type='px', value='5px'), column_labels_padding_horizontal=OptionsInfo(scss=True, category='column_labels', type='px', value='5px'), column_labels_vlines_style=OptionsInfo(scss=True, category='table_body', type='value', value='none'), column_labels_vlines_width=OptionsInfo(scss=True, category='table_body', type='px', value='1px'), column_labels_vlines_color=OptionsInfo(scss=True, category='table_body', type='value', value='#D3D3D3'), column_labels_border_top_style=OptionsInfo(scss=True, category='column_labels', type='value', value='solid'), column_labels_border_top_width=OptionsInfo(scss=True, category='column_labels', type='px', value='2px'), column_labels_border_top_color=OptionsInfo(scss=True, category='column_labels', type='value', value='#D3D3D3'), column_labels_border_bottom_style=OptionsInfo(scss=True, category='column_labels', type='value', value='solid'), column_labels_border_bottom_width=OptionsInfo(scss=True, category='column_labels', type='px', value='2px'), column_labels_border_bottom_color=OptionsInfo(scss=True, category='column_labels', type='value', value='#D3D3D3'), column_labels_border_lr_style=OptionsInfo(scss=True, category='column_labels', type='value', value='none'), column_labels_border_lr_width=OptionsInfo(scss=True, category='column_labels', type='px', value='1px'), column_labels_border_lr_color=OptionsInfo(scss=True, category='column_labels', type='value', value='#D3D3D3'), column_labels_hidden=OptionsInfo(scss=False, category='column_labels', type='boolean', value=False), row_group_background_color=OptionsInfo(scss=True, category='row_group', type='value', value=None), row_group_font_size=OptionsInfo(scss=True, category='row_group', type='px', value='100%'), row_group_font_weight=OptionsInfo(scss=True, category='row_group', type='value', value='initial'), row_group_text_transform=OptionsInfo(scss=True, category='row_group', type='value', value='inherit'), row_group_padding=OptionsInfo(scss=True, category='row_group', type='px', value='8px'), row_group_padding_horizontal=OptionsInfo(scss=True, category='row_group', type='px', value='5px'), row_group_border_top_style=OptionsInfo(scss=True, category='row_group', type='value', value='solid'), row_group_border_top_width=OptionsInfo(scss=True, category='row_group', type='px', value='2px'), row_group_border_top_color=OptionsInfo(scss=True, category='row_group', type='value', value='#D3D3D3'), row_group_border_right_style=OptionsInfo(scss=True, category='row_group', type='value', value='none'), row_group_border_right_width=OptionsInfo(scss=True, category='row_group', type='px', value='1px'), row_group_border_right_color=OptionsInfo(scss=True, category='row_group', type='value', value='#D3D3D3'), row_group_border_bottom_style=OptionsInfo(scss=True, category='row_group', type='value', value='solid'), row_group_border_bottom_width=OptionsInfo(scss=True, category='row_group', type='px', value='2px'), row_group_border_bottom_color=OptionsInfo(scss=True, category='row_group', type='value', value='#D3D3D3'), row_group_border_left_style=OptionsInfo(scss=True, category='row_group', type='value', value='none'), row_group_border_left_width=OptionsInfo(scss=True, category='row_group', type='px', value='1px'), row_group_border_left_color=OptionsInfo(scss=True, category='row_group', type='value', value='#D3D3D3'), row_group_as_column=OptionsInfo(scss=False, category='row_group', type='boolean', value=False), table_body_hlines_style=OptionsInfo(scss=True, category='table_body', type='value', value='solid'), table_body_hlines_width=OptionsInfo(scss=True, category='table_body', type='px', value='1px'), table_body_hlines_color=OptionsInfo(scss=True, category='table_body', type='value', value='#D3D3D3'), table_body_vlines_style=OptionsInfo(scss=True, category='table_body', type='value', value='none'), table_body_vlines_width=OptionsInfo(scss=True, category='table_body', type='px', value='1px'), table_body_vlines_color=OptionsInfo(scss=True, category='table_body', type='value', value='#D3D3D3'), table_body_border_top_style=OptionsInfo(scss=True, category='table_body', type='value', value='solid'), table_body_border_top_width=OptionsInfo(scss=True, category='table_body', type='px', value='2px'), table_body_border_top_color=OptionsInfo(scss=True, category='table_body', type='value', value='#D3D3D3'), table_body_border_bottom_style=OptionsInfo(scss=True, category='table_body', type='value', value='solid'), table_body_border_bottom_width=OptionsInfo(scss=True, category='table_body', type='px', value='2px'), table_body_border_bottom_color=OptionsInfo(scss=True, category='table_body', type='value', value='#D3D3D3'), data_row_padding=OptionsInfo(scss=True, category='data_row', type='px', value='8px'), data_row_padding_horizontal=OptionsInfo(scss=True, category='data_row', type='px', value='5px'), stub_background_color=OptionsInfo(scss=True, category='stub', type='value', value=None), stub_font_size=OptionsInfo(scss=True, category='stub', type='px', value='100%'), stub_font_weight=OptionsInfo(scss=True, category='stub', type='value', value='initial'), stub_text_transform=OptionsInfo(scss=True, category='stub', type='value', value='inherit'), stub_border_style=OptionsInfo(scss=True, category='stub', type='value', value='solid'), stub_border_width=OptionsInfo(scss=True, category='stub', type='px', value='2px'), stub_border_color=OptionsInfo(scss=True, category='stub', type='value', value='#D3D3D3'), stub_row_group_background_color=OptionsInfo(scss=True, category='stub', type='value', value=None), stub_row_group_font_size=OptionsInfo(scss=True, category='stub', type='px', value='100%'), stub_row_group_font_weight=OptionsInfo(scss=True, category='stub', type='value', value='initial'), stub_row_group_text_transform=OptionsInfo(scss=True, category='stub', type='value', value='inherit'), stub_row_group_border_style=OptionsInfo(scss=True, category='stub', type='value', value='solid'), stub_row_group_border_width=OptionsInfo(scss=True, category='stub', type='px', value='2px'), stub_row_group_border_color=OptionsInfo(scss=True, category='stub', type='value', value='#D3D3D3'), source_notes_padding=OptionsInfo(scss=True, category='source_notes', type='px', value='4px'), source_notes_padding_horizontal=OptionsInfo(scss=True, category='source_notes', type='px', value='5px'), source_notes_background_color=OptionsInfo(scss=True, category='source_notes', type='value', value=None), source_notes_font_size=OptionsInfo(scss=True, category='source_notes', type='px', value='90%'), source_notes_border_bottom_style=OptionsInfo(scss=True, category='source_notes', type='value', value='none'), source_notes_border_bottom_width=OptionsInfo(scss=True, category='source_notes', type='px', value='2px'), source_notes_border_bottom_color=OptionsInfo(scss=True, category='source_notes', type='value', value='#D3D3D3'), source_notes_border_lr_style=OptionsInfo(scss=True, category='source_notes', type='value', value='none'), source_notes_border_lr_width=OptionsInfo(scss=True, category='source_notes', type='px', value='2px'), source_notes_border_lr_color=OptionsInfo(scss=True, category='source_notes', type='value', value='#D3D3D3'), source_notes_multiline=OptionsInfo(scss=False, category='source_notes', type='boolean', value=True), source_notes_sep=OptionsInfo(scss=False, category='source_notes', type='value', value=' '), row_striping_background_color=OptionsInfo(scss=True, category='row', type='value', value='rgba(128,128,128,0.05)'), row_striping_include_stub=OptionsInfo(scss=False, category='row', type='boolean', value=False), row_striping_include_table_body=OptionsInfo(scss=False, category='row', type='boolean', value=False), container_width=OptionsInfo(scss=False, category='container', type='px', value='auto'), container_height=OptionsInfo(scss=False, category='container', type='px', value='auto'), container_padding_x=OptionsInfo(scss=False, category='container', type='px', value='0px'), container_padding_y=OptionsInfo(scss=False, category='container', type='px', value='10px'), container_overflow_x=OptionsInfo(scss=False, category='container', type='overflow', value='auto'), container_overflow_y=OptionsInfo(scss=False, category='container', type='overflow', value='auto'), quarto_disable_processing=OptionsInfo(scss=False, category='quarto', type='logical', value=False), quarto_use_bootstrap=OptionsInfo(scss=False, category='quarto', type='logical', value=False)), _has_built=False)"
      ]
     },
     "execution_count": 41,
     "metadata": {},
     "output_type": "execute_result"
    }
   ],
   "source": [
    "percentiles = np.arange(5, 96, 5)\n",
    "\n",
    "percentile_values = np.percentile(category_spend.select('spend').collect(), percentiles)\n",
    "\n",
    "percentile_df = pl.DataFrame({'Percentile Level': percentiles,\n",
    "                              'Percentile': percentile_values})\n",
    "\n",
    "(\n",
    "    GT(percentile_df, rowname_col='Percentile Level')\n",
    "    .tab_header(title='Category Spend Percentile')\n",
    "    .tab_stubhead(label=\"Percentile Level\")\n",
    "    .fmt_number()\n",
    "    .data_color(\n",
    "        domain=[0, 40],\n",
    "        palette=['white', 'rebeccapurple']\n",
    "    )  \n",
    ")"
   ]
  },
  {
   "cell_type": "code",
   "execution_count": 42,
   "metadata": {},
   "outputs": [
    {
     "data": {
      "application/vnd.vegalite.v5+json": {
       "$schema": "https://vega.github.io/schema/vega-lite/v5.20.1.json",
       "config": {
        "view": {
         "continuousHeight": 300,
         "continuousWidth": 300
        }
       },
       "data": {
        "name": "data-c6c614b534b2b1ce1f38929d6d911ecc"
       },
       "datasets": {
        "data-c6c614b534b2b1ce1f38929d6d911ecc": [
         {
          "% of Total": 0.05596851770878881,
          "Frequency": 256,
          "cut": "25 - 30"
         },
         {
          "% of Total": 0.19282903366856144,
          "Frequency": 882,
          "cut": "10 - 15"
         },
         {
          "% of Total": 0.014866637516397028,
          "Frequency": 68,
          "cut": "40 - 45"
         },
         {
          "% of Total": 0.1639702667249672,
          "Frequency": 750,
          "cut": "0 - 5"
         },
         {
          "% of Total": 0.010494097070397902,
          "Frequency": 48,
          "cut": "45 - 50"
         },
         {
          "% of Total": 0.04197638828159161,
          "Frequency": 192,
          "cut": "30 - 35"
         },
         {
          "% of Total": 0.13620463489287277,
          "Frequency": 623,
          "cut": "15 - 20"
         },
         {
          "% of Total": 0.2345867949278531,
          "Frequency": 1073,
          "cut": "5 - 10"
         },
         {
          "% of Total": 0.09838216003498032,
          "Frequency": 450,
          "cut": "20 - 25"
         },
         {
          "% of Total": 0.026891123742894624,
          "Frequency": 123,
          "cut": "35 - 40"
         },
         {
          "% of Total": 0.023830345430695236,
          "Frequency": 109,
          "cut": "50 - ∞"
         }
        ]
       },
       "encoding": {
        "x": {
         "axis": {
          "labelAngle": 0,
          "title": "Category Spend ($)"
         },
         "field": "cut",
         "sort": [
          "-5 - 0",
          "0 - 5",
          "5 - 10",
          "10 - 15",
          "15 - 20",
          "20 - 25",
          "25 - 30",
          "30 - 35",
          "35 - 40",
          "40 - 45",
          "45 - 50",
          "50 - ∞"
         ],
         "type": "ordinal"
        },
        "y": {
         "axis": {
          "format": ".0%",
          "title": "% of Households"
         },
         "field": "% of Total",
         "type": "quantitative"
        }
       },
       "height": 250,
       "mark": {
        "type": "bar"
       },
       "title": {
        "subtitle": "Distribution of category spend across category buyers",
        "text": "Category Spend Distribution (%)"
       },
       "width": 650
      },
      "text/plain": [
       "<VegaLite 5 object>\n",
       "\n",
       "If you see this message, it means the renderer has not been properly enabled\n",
       "for the frontend that you are using. For more information, see\n",
       "https://altair-viz.github.io/user_guide/display_frontends.html#troubleshooting\n"
      ]
     },
     "metadata": {},
     "output_type": "display_data"
    }
   ],
   "source": [
    "labels = [f\"{lb} - {lb + 5 if lb != 50 else '∞'}\" for lb in range(-5, 55, 5)]\n",
    "chart = freq_dist_plot(\n",
    "    data=category_spend,\n",
    "    column=\"spend\",\n",
    "    bin_edges=np.arange(0, 51, 5),\n",
    "    labels=labels,\n",
    "    x_title=\"Category Spend ($)\",\n",
    "    y_title=\"% of Households\",\n",
    "    chart_title=\"Category Spend Distribution (%)\",\n",
    "    subtitle=\"Distribution of category spend across category buyers\"\n",
    ")\n",
    "chart.show()"
   ]
  },
  {
   "cell_type": "markdown",
   "metadata": {},
   "source": [
    "##### Distribution of Brand Spend"
   ]
  },
  {
   "cell_type": "code",
   "execution_count": 43,
   "metadata": {},
   "outputs": [
    {
     "data": {
      "text/html": [
       "<div><style>\n",
       ".dataframe > thead > tr,\n",
       ".dataframe > tbody > tr {\n",
       "  text-align: right;\n",
       "  white-space: pre-wrap;\n",
       "}\n",
       "</style>\n",
       "<small>shape: (9, 2)</small><table border=\"1\" class=\"dataframe\"><thead><tr><th>statistic</th><th>spend</th></tr><tr><td>str</td><td>f64</td></tr></thead><tbody><tr><td>&quot;count&quot;</td><td>2624.0</td></tr><tr><td>&quot;null_count&quot;</td><td>0.0</td></tr><tr><td>&quot;mean&quot;</td><td>12.793803</td></tr><tr><td>&quot;std&quot;</td><td>11.715616</td></tr><tr><td>&quot;min&quot;</td><td>1.57</td></tr><tr><td>&quot;25%&quot;</td><td>3.69</td></tr><tr><td>&quot;50%&quot;</td><td>9.67</td></tr><tr><td>&quot;75%&quot;</td><td>17.130001</td></tr><tr><td>&quot;max&quot;</td><td>105.899971</td></tr></tbody></table></div>"
      ],
      "text/plain": [
       "shape: (9, 2)\n",
       "┌────────────┬────────────┐\n",
       "│ statistic  ┆ spend      │\n",
       "│ ---        ┆ ---        │\n",
       "│ str        ┆ f64        │\n",
       "╞════════════╪════════════╡\n",
       "│ count      ┆ 2624.0     │\n",
       "│ null_count ┆ 0.0        │\n",
       "│ mean       ┆ 12.793803  │\n",
       "│ std        ┆ 11.715616  │\n",
       "│ min        ┆ 1.57       │\n",
       "│ 25%        ┆ 3.69       │\n",
       "│ 50%        ┆ 9.67       │\n",
       "│ 75%        ┆ 17.130001  │\n",
       "│ max        ┆ 105.899971 │\n",
       "└────────────┴────────────┘"
      ]
     },
     "execution_count": 43,
     "metadata": {},
     "output_type": "execute_result"
    }
   ],
   "source": [
    "alpha_spend = spend_summary('Alpha', grocery_lf, 1).drop('panel_id')\n",
    "\n",
    "alpha_spend.describe()"
   ]
  },
  {
   "cell_type": "code",
   "execution_count": 44,
   "metadata": {},
   "outputs": [
    {
     "data": {
      "text/html": [
       "<div id=\"izezookggy\" style=\"padding-left:0px;padding-right:0px;padding-top:10px;padding-bottom:10px;overflow-x:auto;overflow-y:auto;width:auto;height:auto;\">\n",
       "<style>\n",
       "#izezookggy table {\n",
       "          font-family: -apple-system, BlinkMacSystemFont, 'Segoe UI', Roboto, Oxygen, Ubuntu, Cantarell, 'Helvetica Neue', 'Fira Sans', 'Droid Sans', Arial, sans-serif;\n",
       "          -webkit-font-smoothing: antialiased;\n",
       "          -moz-osx-font-smoothing: grayscale;\n",
       "        }\n",
       "\n",
       "#izezookggy thead, tbody, tfoot, tr, td, th { border-style: none !important; }\n",
       " tr { background-color: transparent !important; }\n",
       "#izezookggy p { margin: 0 !important; padding: 0 !important; }\n",
       " #izezookggy .gt_table { display: table !important; border-collapse: collapse !important; line-height: normal !important; margin-left: auto !important; margin-right: auto !important; color: #333333 !important; font-size: 16px !important; font-weight: normal !important; font-style: normal !important; background-color: #FFFFFF !important; width: auto !important; border-top-style: solid !important; border-top-width: 2px !important; border-top-color: #A8A8A8 !important; border-right-style: none !important; border-right-width: 2px !important; border-right-color: #D3D3D3 !important; border-bottom-style: solid !important; border-bottom-width: 2px !important; border-bottom-color: #A8A8A8 !important; border-left-style: none !important; border-left-width: 2px !important; border-left-color: #D3D3D3 !important; }\n",
       " #izezookggy .gt_caption { padding-top: 4px !important; padding-bottom: 4px !important; }\n",
       " #izezookggy .gt_title { color: #333333 !important; font-size: 125% !important; font-weight: initial !important; padding-top: 4px !important; padding-bottom: 4px !important; padding-left: 5px !important; padding-right: 5px !important; border-bottom-color: #FFFFFF !important; border-bottom-width: 0 !important; }\n",
       " #izezookggy .gt_subtitle { color: #333333 !important; font-size: 85% !important; font-weight: initial !important; padding-top: 3px !important; padding-bottom: 5px !important; padding-left: 5px !important; padding-right: 5px !important; border-top-color: #FFFFFF !important; border-top-width: 0 !important; }\n",
       " #izezookggy .gt_heading { background-color: #FFFFFF !important; text-align: center !important; border-bottom-color: #FFFFFF !important; border-left-style: none !important; border-left-width: 1px !important; border-left-color: #D3D3D3 !important; border-right-style: none !important; border-right-width: 1px !important; border-right-color: #D3D3D3 !important; }\n",
       " #izezookggy .gt_bottom_border { border-bottom-style: solid !important; border-bottom-width: 2px !important; border-bottom-color: #D3D3D3 !important; }\n",
       " #izezookggy .gt_col_headings { border-top-style: solid !important; border-top-width: 2px !important; border-top-color: #D3D3D3 !important; border-bottom-style: solid !important; border-bottom-width: 2px !important; border-bottom-color: #D3D3D3 !important; border-left-style: none !important; border-left-width: 1px !important; border-left-color: #D3D3D3 !important; border-right-style: none !important; border-right-width: 1px !important; border-right-color: #D3D3D3 !important; }\n",
       " #izezookggy .gt_col_heading { color: #333333 !important; background-color: #FFFFFF !important; font-size: 100% !important; font-weight: normal !important; text-transform: inherit !important; border-left-style: none !important; border-left-width: 1px !important; border-left-color: #D3D3D3 !important; border-right-style: none !important; border-right-width: 1px !important; border-right-color: #D3D3D3 !important; vertical-align: bottom !important; padding-top: 5px !important; padding-bottom: 5px !important; padding-left: 5px !important; padding-right: 5px !important; overflow-x: hidden !important; }\n",
       " #izezookggy .gt_column_spanner_outer { color: #333333 !important; background-color: #FFFFFF !important; font-size: 100% !important; font-weight: normal !important; text-transform: inherit !important; padding-top: 0 !important; padding-bottom: 0 !important; padding-left: 4px !important; padding-right: 4px !important; }\n",
       " #izezookggy .gt_column_spanner_outer:first-child { padding-left: 0 !important; }\n",
       " #izezookggy .gt_column_spanner_outer:last-child { padding-right: 0 !important; }\n",
       " #izezookggy .gt_column_spanner { border-bottom-style: solid !important; border-bottom-width: 2px !important; border-bottom-color: #D3D3D3 !important; vertical-align: bottom !important; padding-top: 5px !important; padding-bottom: 5px !important; overflow-x: hidden !important; display: inline-block !important; width: 100% !important; }\n",
       " #izezookggy .gt_spanner_row { border-bottom-style: hidden !important; }\n",
       " #izezookggy .gt_group_heading { padding-top: 8px !important; padding-bottom: 8px !important; padding-left: 5px !important; padding-right: 5px !important; color: #333333 !important; background-color: #FFFFFF !important; font-size: 100% !important; font-weight: initial !important; text-transform: inherit !important; border-top-style: solid !important; border-top-width: 2px !important; border-top-color: #D3D3D3 !important; border-bottom-style: solid !important; border-bottom-width: 2px !important; border-bottom-color: #D3D3D3 !important; border-left-style: none !important; border-left-width: 1px !important; border-left-color: #D3D3D3 !important; border-right-style: none !important; border-right-width: 1px !important; border-right-color: #D3D3D3 !important; vertical-align: middle !important; text-align: left !important; }\n",
       " #izezookggy .gt_empty_group_heading { padding: 0.5px !important; color: #333333 !important; background-color: #FFFFFF !important; font-size: 100% !important; font-weight: initial !important; border-top-style: solid !important; border-top-width: 2px !important; border-top-color: #D3D3D3 !important; border-bottom-style: solid !important; border-bottom-width: 2px !important; border-bottom-color: #D3D3D3 !important; vertical-align: middle !important; }\n",
       " #izezookggy .gt_from_md> :first-child { margin-top: 0 !important; }\n",
       " #izezookggy .gt_from_md> :last-child { margin-bottom: 0 !important; }\n",
       " #izezookggy .gt_row { padding-top: 8px !important; padding-bottom: 8px !important; padding-left: 5px !important; padding-right: 5px !important; margin: 10px !important; border-top-style: solid !important; border-top-width: 1px !important; border-top-color: #D3D3D3 !important; border-left-style: none !important; border-left-width: 1px !important; border-left-color: #D3D3D3 !important; border-right-style: none !important; border-right-width: 1px !important; border-right-color: #D3D3D3 !important; vertical-align: middle !important; overflow-x: hidden !important; }\n",
       " #izezookggy .gt_stub { color: #333333 !important; background-color: #FFFFFF !important; font-size: 100% !important; font-weight: initial !important; text-transform: inherit !important; border-right-style: solid !important; border-right-width: 2px !important; border-right-color: #D3D3D3 !important; padding-left: 5px !important; padding-right: 5px !important; }\n",
       " #izezookggy .gt_stub_row_group { color: #333333 !important; background-color: #FFFFFF !important; font-size: 100% !important; font-weight: initial !important; text-transform: inherit !important; border-right-style: solid !important; border-right-width: 2px !important; border-right-color: #D3D3D3 !important; padding-left: 5px !important; padding-right: 5px !important; vertical-align: top !important; }\n",
       " #izezookggy .gt_row_group_first td { border-top-width: 2px !important; }\n",
       " #izezookggy .gt_row_group_first th { border-top-width: 2px !important; }\n",
       " #izezookggy .gt_striped { background-color: rgba(128,128,128,0.05) !important; }\n",
       " #izezookggy .gt_table_body { border-top-style: solid !important; border-top-width: 2px !important; border-top-color: #D3D3D3 !important; border-bottom-style: solid !important; border-bottom-width: 2px !important; border-bottom-color: #D3D3D3 !important; }\n",
       " #izezookggy .gt_sourcenotes { color: #333333 !important; background-color: #FFFFFF !important; border-bottom-style: none !important; border-bottom-width: 2px !important; border-bottom-color: #D3D3D3 !important; border-left-style: none !important; border-left-width: 2px !important; border-left-color: #D3D3D3 !important; border-right-style: none !important; border-right-width: 2px !important; border-right-color: #D3D3D3 !important; }\n",
       " #izezookggy .gt_sourcenote { font-size: 90% !important; padding-top: 4px !important; padding-bottom: 4px !important; padding-left: 5px !important; padding-right: 5px !important; text-align: left !important; }\n",
       " #izezookggy .gt_left { text-align: left !important; }\n",
       " #izezookggy .gt_center { text-align: center !important; }\n",
       " #izezookggy .gt_right { text-align: right !important; font-variant-numeric: tabular-nums !important; }\n",
       " #izezookggy .gt_font_normal { font-weight: normal !important; }\n",
       " #izezookggy .gt_font_bold { font-weight: bold !important; }\n",
       " #izezookggy .gt_font_italic { font-style: italic !important; }\n",
       " #izezookggy .gt_super { font-size: 65% !important; }\n",
       " #izezookggy .gt_footnote_marks { font-size: 75% !important; vertical-align: 0.4em !important; position: initial !important; }\n",
       " #izezookggy .gt_asterisk { font-size: 100% !important; vertical-align: 0 !important; }\n",
       " \n",
       "</style>\n",
       "<table class=\"gt_table\" data-quarto-disable-processing=\"false\" data-quarto-bootstrap=\"false\">\n",
       "<thead>\n",
       "\n",
       "  <tr class=\"gt_heading\">\n",
       "    <td colspan=\"2\" class=\"gt_heading gt_title gt_font_normal\">Alpha Spend Percentile</td>\n",
       "  </tr>\n",
       "<tr class=\"gt_col_headings\">\n",
       "  <th class=\"gt_col_heading gt_columns_bottom_border gt_left\" rowspan=\"1\" colspan=\"1\" scope=\"col\" id=\"Percentile Level\">Percentile Level</th>\n",
       "  <th class=\"gt_col_heading gt_columns_bottom_border gt_right\" rowspan=\"1\" colspan=\"1\" scope=\"col\" id=\"Percentile\">Percentile</th>\n",
       "</tr>\n",
       "</thead>\n",
       "<tbody class=\"gt_table_body\">\n",
       "  <tr>\n",
       "    <th style=\"color: #000000; background-color: #ece6f2;\" class=\"gt_row gt_left gt_stub\">5</th>\n",
       "    <td style=\"color: #000000; background-color: #f6f2f9;\" class=\"gt_row gt_right\">2.45</td>\n",
       "  </tr>\n",
       "  <tr>\n",
       "    <th style=\"color: #000000; background-color: #d9cce6;\" class=\"gt_row gt_left gt_stub\">10</th>\n",
       "    <td style=\"color: #000000; background-color: #f4f1f8;\" class=\"gt_row gt_right\">2.79</td>\n",
       "  </tr>\n",
       "  <tr>\n",
       "    <th style=\"color: #000000; background-color: #c6b2d9;\" class=\"gt_row gt_left gt_stub\">15</th>\n",
       "    <td style=\"color: #000000; background-color: #f2eef6;\" class=\"gt_row gt_right\">3.38</td>\n",
       "  </tr>\n",
       "  <tr>\n",
       "    <th style=\"color: #000000; background-color: #b299cc;\" class=\"gt_row gt_left gt_stub\">20</th>\n",
       "    <td style=\"color: #000000; background-color: #f2edf6;\" class=\"gt_row gt_right\">3.49</td>\n",
       "  </tr>\n",
       "  <tr>\n",
       "    <th style=\"color: #000000; background-color: #9f80bf;\" class=\"gt_row gt_left gt_stub\">25</th>\n",
       "    <td style=\"color: #000000; background-color: #f1ecf6;\" class=\"gt_row gt_right\">3.69</td>\n",
       "  </tr>\n",
       "  <tr>\n",
       "    <th style=\"color: #000000; background-color: #8c66b2;\" class=\"gt_row gt_left gt_stub\">30</th>\n",
       "    <td style=\"color: #000000; background-color: #eae3f1;\" class=\"gt_row gt_right\">5.48</td>\n",
       "  </tr>\n",
       "  <tr>\n",
       "    <th style=\"color: #FFFFFF; background-color: #794ca6;\" class=\"gt_row gt_left gt_stub\">35</th>\n",
       "    <td style=\"color: #000000; background-color: #e6ddee;\" class=\"gt_row gt_right\">6.58</td>\n",
       "  </tr>\n",
       "  <tr>\n",
       "    <th style=\"color: #FFFFFF; background-color: #663399;\" class=\"gt_row gt_left gt_stub\">40</th>\n",
       "    <td style=\"color: #000000; background-color: #e5dced;\" class=\"gt_row gt_right\">6.88</td>\n",
       "  </tr>\n",
       "  <tr>\n",
       "    <th style=\"color: #000000; background-color: #808080;\" class=\"gt_row gt_left gt_stub\">45</th>\n",
       "    <td style=\"color: #000000; background-color: #e2d8eb;\" class=\"gt_row gt_right\">7.67</td>\n",
       "  </tr>\n",
       "  <tr>\n",
       "    <th style=\"color: #000000; background-color: #808080;\" class=\"gt_row gt_left gt_stub\">50</th>\n",
       "    <td style=\"color: #000000; background-color: #dacee6;\" class=\"gt_row gt_right\">9.67</td>\n",
       "  </tr>\n",
       "  <tr>\n",
       "    <th style=\"color: #000000; background-color: #808080;\" class=\"gt_row gt_left gt_stub\">55</th>\n",
       "    <td style=\"color: #000000; background-color: #d8cbe5;\" class=\"gt_row gt_right\">10.27</td>\n",
       "  </tr>\n",
       "  <tr>\n",
       "    <th style=\"color: #000000; background-color: #808080;\" class=\"gt_row gt_left gt_stub\">60</th>\n",
       "    <td style=\"color: #000000; background-color: #d4c6e2;\" class=\"gt_row gt_right\">11.26</td>\n",
       "  </tr>\n",
       "  <tr>\n",
       "    <th style=\"color: #000000; background-color: #808080;\" class=\"gt_row gt_left gt_stub\">65</th>\n",
       "    <td style=\"color: #000000; background-color: #ccbadd;\" class=\"gt_row gt_right\">13.46</td>\n",
       "  </tr>\n",
       "  <tr>\n",
       "    <th style=\"color: #000000; background-color: #808080;\" class=\"gt_row gt_left gt_stub\">70</th>\n",
       "    <td style=\"color: #000000; background-color: #c6b3d9;\" class=\"gt_row gt_right\">14.86</td>\n",
       "  </tr>\n",
       "  <tr>\n",
       "    <th style=\"color: #000000; background-color: #808080;\" class=\"gt_row gt_left gt_stub\">75</th>\n",
       "    <td style=\"color: #000000; background-color: #bda8d3;\" class=\"gt_row gt_right\">17.13</td>\n",
       "  </tr>\n",
       "  <tr>\n",
       "    <th style=\"color: #000000; background-color: #808080;\" class=\"gt_row gt_left gt_stub\">80</th>\n",
       "    <td style=\"color: #000000; background-color: #b299cc;\" class=\"gt_row gt_right\">20.04</td>\n",
       "  </tr>\n",
       "  <tr>\n",
       "    <th style=\"color: #000000; background-color: #808080;\" class=\"gt_row gt_left gt_stub\">85</th>\n",
       "    <td style=\"color: #000000; background-color: #a789c4;\" class=\"gt_row gt_right\">23.14</td>\n",
       "  </tr>\n",
       "  <tr>\n",
       "    <th style=\"color: #000000; background-color: #808080;\" class=\"gt_row gt_left gt_stub\">90</th>\n",
       "    <td style=\"color: #000000; background-color: #9572b9;\" class=\"gt_row gt_right\">27.62</td>\n",
       "  </tr>\n",
       "  <tr>\n",
       "    <th style=\"color: #000000; background-color: #808080;\" class=\"gt_row gt_left gt_stub\">95</th>\n",
       "    <td style=\"color: #FFFFFF; background-color: #774aa5;\" class=\"gt_row gt_right\">35.49</td>\n",
       "  </tr>\n",
       "</tbody>\n",
       "\n",
       "\n",
       "</table>\n",
       "\n",
       "</div>\n",
       "        "
      ],
      "text/plain": [
       "GT(_tbl_data=shape: (19, 2)\n",
       "┌──────────────────┬────────────┐\n",
       "│ Percentile Level ┆ Percentile │\n",
       "│ ---              ┆ ---        │\n",
       "│ i64              ┆ f64        │\n",
       "╞══════════════════╪════════════╡\n",
       "│ 5                ┆ 2.453      │\n",
       "│ 10               ┆ 2.79       │\n",
       "│ 15               ┆ 3.38       │\n",
       "│ 20               ┆ 3.49       │\n",
       "│ 25               ┆ 3.69       │\n",
       "│ …                ┆ …          │\n",
       "│ 75               ┆ 17.130001  │\n",
       "│ 80               ┆ 20.040001  │\n",
       "│ 85               ┆ 23.1355    │\n",
       "│ 90               ┆ 27.62      │\n",
       "│ 95               ┆ 35.485003  │\n",
       "└──────────────────┴────────────┘, _body=<great_tables._gt_data.Body object at 0x10e462300>, _boxhead=Boxhead([ColInfo(var='Percentile Level', type=<ColInfoTypeEnum.stub: 2>, column_label='Percentile Level', column_align='right', column_width=None), ColInfo(var='Percentile', type=<ColInfoTypeEnum.default: 1>, column_label='Percentile', column_align='right', column_width=None)]), _stub=<great_tables._gt_data.Stub object at 0x10e4642f0>, _spanners=Spanners([]), _heading=Heading(title='Alpha Spend Percentile', subtitle=None, preheader=None), _stubhead='Percentile Level', _source_notes=[], _footnotes=[], _styles=[StyleInfo(locname=LocBody(columns='Percentile Level', rows=[0]), grpname=None, colname='Percentile Level', rownum=0, colnum=None, styles=[CellStyleText(color='#000000', font=None, size=None, align=None, v_align=None, style=None, weight=None, stretch=None, decorate=None, transform=None, whitespace=None), CellStyleFill(color='#ece6f2')]), StyleInfo(locname=LocBody(columns='Percentile Level', rows=[1]), grpname=None, colname='Percentile Level', rownum=1, colnum=None, styles=[CellStyleText(color='#000000', font=None, size=None, align=None, v_align=None, style=None, weight=None, stretch=None, decorate=None, transform=None, whitespace=None), CellStyleFill(color='#d9cce6')]), StyleInfo(locname=LocBody(columns='Percentile Level', rows=[2]), grpname=None, colname='Percentile Level', rownum=2, colnum=None, styles=[CellStyleText(color='#000000', font=None, size=None, align=None, v_align=None, style=None, weight=None, stretch=None, decorate=None, transform=None, whitespace=None), CellStyleFill(color='#c6b2d9')]), StyleInfo(locname=LocBody(columns='Percentile Level', rows=[3]), grpname=None, colname='Percentile Level', rownum=3, colnum=None, styles=[CellStyleText(color='#000000', font=None, size=None, align=None, v_align=None, style=None, weight=None, stretch=None, decorate=None, transform=None, whitespace=None), CellStyleFill(color='#b299cc')]), StyleInfo(locname=LocBody(columns='Percentile Level', rows=[4]), grpname=None, colname='Percentile Level', rownum=4, colnum=None, styles=[CellStyleText(color='#000000', font=None, size=None, align=None, v_align=None, style=None, weight=None, stretch=None, decorate=None, transform=None, whitespace=None), CellStyleFill(color='#9f80bf')]), StyleInfo(locname=LocBody(columns='Percentile Level', rows=[5]), grpname=None, colname='Percentile Level', rownum=5, colnum=None, styles=[CellStyleText(color='#000000', font=None, size=None, align=None, v_align=None, style=None, weight=None, stretch=None, decorate=None, transform=None, whitespace=None), CellStyleFill(color='#8c66b2')]), StyleInfo(locname=LocBody(columns='Percentile Level', rows=[6]), grpname=None, colname='Percentile Level', rownum=6, colnum=None, styles=[CellStyleText(color='#FFFFFF', font=None, size=None, align=None, v_align=None, style=None, weight=None, stretch=None, decorate=None, transform=None, whitespace=None), CellStyleFill(color='#794ca6')]), StyleInfo(locname=LocBody(columns='Percentile Level', rows=[7]), grpname=None, colname='Percentile Level', rownum=7, colnum=None, styles=[CellStyleText(color='#FFFFFF', font=None, size=None, align=None, v_align=None, style=None, weight=None, stretch=None, decorate=None, transform=None, whitespace=None), CellStyleFill(color='#663399')]), StyleInfo(locname=LocBody(columns='Percentile Level', rows=[8]), grpname=None, colname='Percentile Level', rownum=8, colnum=None, styles=[CellStyleText(color='#000000', font=None, size=None, align=None, v_align=None, style=None, weight=None, stretch=None, decorate=None, transform=None, whitespace=None), CellStyleFill(color='#808080')]), StyleInfo(locname=LocBody(columns='Percentile Level', rows=[9]), grpname=None, colname='Percentile Level', rownum=9, colnum=None, styles=[CellStyleText(color='#000000', font=None, size=None, align=None, v_align=None, style=None, weight=None, stretch=None, decorate=None, transform=None, whitespace=None), CellStyleFill(color='#808080')]), StyleInfo(locname=LocBody(columns='Percentile Level', rows=[10]), grpname=None, colname='Percentile Level', rownum=10, colnum=None, styles=[CellStyleText(color='#000000', font=None, size=None, align=None, v_align=None, style=None, weight=None, stretch=None, decorate=None, transform=None, whitespace=None), CellStyleFill(color='#808080')]), StyleInfo(locname=LocBody(columns='Percentile Level', rows=[11]), grpname=None, colname='Percentile Level', rownum=11, colnum=None, styles=[CellStyleText(color='#000000', font=None, size=None, align=None, v_align=None, style=None, weight=None, stretch=None, decorate=None, transform=None, whitespace=None), CellStyleFill(color='#808080')]), StyleInfo(locname=LocBody(columns='Percentile Level', rows=[12]), grpname=None, colname='Percentile Level', rownum=12, colnum=None, styles=[CellStyleText(color='#000000', font=None, size=None, align=None, v_align=None, style=None, weight=None, stretch=None, decorate=None, transform=None, whitespace=None), CellStyleFill(color='#808080')]), StyleInfo(locname=LocBody(columns='Percentile Level', rows=[13]), grpname=None, colname='Percentile Level', rownum=13, colnum=None, styles=[CellStyleText(color='#000000', font=None, size=None, align=None, v_align=None, style=None, weight=None, stretch=None, decorate=None, transform=None, whitespace=None), CellStyleFill(color='#808080')]), StyleInfo(locname=LocBody(columns='Percentile Level', rows=[14]), grpname=None, colname='Percentile Level', rownum=14, colnum=None, styles=[CellStyleText(color='#000000', font=None, size=None, align=None, v_align=None, style=None, weight=None, stretch=None, decorate=None, transform=None, whitespace=None), CellStyleFill(color='#808080')]), StyleInfo(locname=LocBody(columns='Percentile Level', rows=[15]), grpname=None, colname='Percentile Level', rownum=15, colnum=None, styles=[CellStyleText(color='#000000', font=None, size=None, align=None, v_align=None, style=None, weight=None, stretch=None, decorate=None, transform=None, whitespace=None), CellStyleFill(color='#808080')]), StyleInfo(locname=LocBody(columns='Percentile Level', rows=[16]), grpname=None, colname='Percentile Level', rownum=16, colnum=None, styles=[CellStyleText(color='#000000', font=None, size=None, align=None, v_align=None, style=None, weight=None, stretch=None, decorate=None, transform=None, whitespace=None), CellStyleFill(color='#808080')]), StyleInfo(locname=LocBody(columns='Percentile Level', rows=[17]), grpname=None, colname='Percentile Level', rownum=17, colnum=None, styles=[CellStyleText(color='#000000', font=None, size=None, align=None, v_align=None, style=None, weight=None, stretch=None, decorate=None, transform=None, whitespace=None), CellStyleFill(color='#808080')]), StyleInfo(locname=LocBody(columns='Percentile Level', rows=[18]), grpname=None, colname='Percentile Level', rownum=18, colnum=None, styles=[CellStyleText(color='#000000', font=None, size=None, align=None, v_align=None, style=None, weight=None, stretch=None, decorate=None, transform=None, whitespace=None), CellStyleFill(color='#808080')]), StyleInfo(locname=LocBody(columns='Percentile', rows=[0]), grpname=None, colname='Percentile', rownum=0, colnum=None, styles=[CellStyleText(color='#000000', font=None, size=None, align=None, v_align=None, style=None, weight=None, stretch=None, decorate=None, transform=None, whitespace=None), CellStyleFill(color='#f6f2f9')]), StyleInfo(locname=LocBody(columns='Percentile', rows=[1]), grpname=None, colname='Percentile', rownum=1, colnum=None, styles=[CellStyleText(color='#000000', font=None, size=None, align=None, v_align=None, style=None, weight=None, stretch=None, decorate=None, transform=None, whitespace=None), CellStyleFill(color='#f4f1f8')]), StyleInfo(locname=LocBody(columns='Percentile', rows=[2]), grpname=None, colname='Percentile', rownum=2, colnum=None, styles=[CellStyleText(color='#000000', font=None, size=None, align=None, v_align=None, style=None, weight=None, stretch=None, decorate=None, transform=None, whitespace=None), CellStyleFill(color='#f2eef6')]), StyleInfo(locname=LocBody(columns='Percentile', rows=[3]), grpname=None, colname='Percentile', rownum=3, colnum=None, styles=[CellStyleText(color='#000000', font=None, size=None, align=None, v_align=None, style=None, weight=None, stretch=None, decorate=None, transform=None, whitespace=None), CellStyleFill(color='#f2edf6')]), StyleInfo(locname=LocBody(columns='Percentile', rows=[4]), grpname=None, colname='Percentile', rownum=4, colnum=None, styles=[CellStyleText(color='#000000', font=None, size=None, align=None, v_align=None, style=None, weight=None, stretch=None, decorate=None, transform=None, whitespace=None), CellStyleFill(color='#f1ecf6')]), StyleInfo(locname=LocBody(columns='Percentile', rows=[5]), grpname=None, colname='Percentile', rownum=5, colnum=None, styles=[CellStyleText(color='#000000', font=None, size=None, align=None, v_align=None, style=None, weight=None, stretch=None, decorate=None, transform=None, whitespace=None), CellStyleFill(color='#eae3f1')]), StyleInfo(locname=LocBody(columns='Percentile', rows=[6]), grpname=None, colname='Percentile', rownum=6, colnum=None, styles=[CellStyleText(color='#000000', font=None, size=None, align=None, v_align=None, style=None, weight=None, stretch=None, decorate=None, transform=None, whitespace=None), CellStyleFill(color='#e6ddee')]), StyleInfo(locname=LocBody(columns='Percentile', rows=[7]), grpname=None, colname='Percentile', rownum=7, colnum=None, styles=[CellStyleText(color='#000000', font=None, size=None, align=None, v_align=None, style=None, weight=None, stretch=None, decorate=None, transform=None, whitespace=None), CellStyleFill(color='#e5dced')]), StyleInfo(locname=LocBody(columns='Percentile', rows=[8]), grpname=None, colname='Percentile', rownum=8, colnum=None, styles=[CellStyleText(color='#000000', font=None, size=None, align=None, v_align=None, style=None, weight=None, stretch=None, decorate=None, transform=None, whitespace=None), CellStyleFill(color='#e2d8eb')]), StyleInfo(locname=LocBody(columns='Percentile', rows=[9]), grpname=None, colname='Percentile', rownum=9, colnum=None, styles=[CellStyleText(color='#000000', font=None, size=None, align=None, v_align=None, style=None, weight=None, stretch=None, decorate=None, transform=None, whitespace=None), CellStyleFill(color='#dacee6')]), StyleInfo(locname=LocBody(columns='Percentile', rows=[10]), grpname=None, colname='Percentile', rownum=10, colnum=None, styles=[CellStyleText(color='#000000', font=None, size=None, align=None, v_align=None, style=None, weight=None, stretch=None, decorate=None, transform=None, whitespace=None), CellStyleFill(color='#d8cbe5')]), StyleInfo(locname=LocBody(columns='Percentile', rows=[11]), grpname=None, colname='Percentile', rownum=11, colnum=None, styles=[CellStyleText(color='#000000', font=None, size=None, align=None, v_align=None, style=None, weight=None, stretch=None, decorate=None, transform=None, whitespace=None), CellStyleFill(color='#d4c6e2')]), StyleInfo(locname=LocBody(columns='Percentile', rows=[12]), grpname=None, colname='Percentile', rownum=12, colnum=None, styles=[CellStyleText(color='#000000', font=None, size=None, align=None, v_align=None, style=None, weight=None, stretch=None, decorate=None, transform=None, whitespace=None), CellStyleFill(color='#ccbadd')]), StyleInfo(locname=LocBody(columns='Percentile', rows=[13]), grpname=None, colname='Percentile', rownum=13, colnum=None, styles=[CellStyleText(color='#000000', font=None, size=None, align=None, v_align=None, style=None, weight=None, stretch=None, decorate=None, transform=None, whitespace=None), CellStyleFill(color='#c6b3d9')]), StyleInfo(locname=LocBody(columns='Percentile', rows=[14]), grpname=None, colname='Percentile', rownum=14, colnum=None, styles=[CellStyleText(color='#000000', font=None, size=None, align=None, v_align=None, style=None, weight=None, stretch=None, decorate=None, transform=None, whitespace=None), CellStyleFill(color='#bda8d3')]), StyleInfo(locname=LocBody(columns='Percentile', rows=[15]), grpname=None, colname='Percentile', rownum=15, colnum=None, styles=[CellStyleText(color='#000000', font=None, size=None, align=None, v_align=None, style=None, weight=None, stretch=None, decorate=None, transform=None, whitespace=None), CellStyleFill(color='#b299cc')]), StyleInfo(locname=LocBody(columns='Percentile', rows=[16]), grpname=None, colname='Percentile', rownum=16, colnum=None, styles=[CellStyleText(color='#000000', font=None, size=None, align=None, v_align=None, style=None, weight=None, stretch=None, decorate=None, transform=None, whitespace=None), CellStyleFill(color='#a789c4')]), StyleInfo(locname=LocBody(columns='Percentile', rows=[17]), grpname=None, colname='Percentile', rownum=17, colnum=None, styles=[CellStyleText(color='#000000', font=None, size=None, align=None, v_align=None, style=None, weight=None, stretch=None, decorate=None, transform=None, whitespace=None), CellStyleFill(color='#9572b9')]), StyleInfo(locname=LocBody(columns='Percentile', rows=[18]), grpname=None, colname='Percentile', rownum=18, colnum=None, styles=[CellStyleText(color='#FFFFFF', font=None, size=None, align=None, v_align=None, style=None, weight=None, stretch=None, decorate=None, transform=None, whitespace=None), CellStyleFill(color='#774aa5')])], _locale=<great_tables._gt_data.Locale object at 0x10e464210>, _formats=[<great_tables._gt_data.FormatInfo object at 0x10db316d0>], _substitutions=[], _options=Options(table_id=OptionsInfo(scss=False, category='table', type='value', value=None), table_caption=OptionsInfo(scss=False, category='table', type='value', value=None), table_width=OptionsInfo(scss=True, category='table', type='px', value='auto'), table_layout=OptionsInfo(scss=True, category='table', type='value', value='fixed'), table_margin_left=OptionsInfo(scss=True, category='table', type='px', value='auto'), table_margin_right=OptionsInfo(scss=True, category='table', type='px', value='auto'), table_background_color=OptionsInfo(scss=True, category='table', type='value', value='#FFFFFF'), table_additional_css=OptionsInfo(scss=False, category='table', type='values', value=[]), table_font_names=OptionsInfo(scss=False, category='table', type='values', value=['-apple-system', 'BlinkMacSystemFont', 'Segoe UI', 'Roboto', 'Oxygen', 'Ubuntu', 'Cantarell', 'Helvetica Neue', 'Fira Sans', 'Droid Sans', 'Arial', 'sans-serif']), table_font_size=OptionsInfo(scss=True, category='table', type='px', value='16px'), table_font_weight=OptionsInfo(scss=True, category='table', type='value', value='normal'), table_font_style=OptionsInfo(scss=True, category='table', type='value', value='normal'), table_font_color=OptionsInfo(scss=True, category='table', type='value', value='#333333'), table_font_color_light=OptionsInfo(scss=True, category='table', type='value', value='#FFFFFF'), table_border_top_include=OptionsInfo(scss=False, category='table', type='boolean', value=True), table_border_top_style=OptionsInfo(scss=True, category='table', type='value', value='solid'), table_border_top_width=OptionsInfo(scss=True, category='table', type='px', value='2px'), table_border_top_color=OptionsInfo(scss=True, category='table', type='value', value='#A8A8A8'), table_border_right_style=OptionsInfo(scss=True, category='table', type='value', value='none'), table_border_right_width=OptionsInfo(scss=True, category='table', type='px', value='2px'), table_border_right_color=OptionsInfo(scss=True, category='table', type='value', value='#D3D3D3'), table_border_bottom_include=OptionsInfo(scss=False, category='table', type='boolean', value=True), table_border_bottom_style=OptionsInfo(scss=True, category='table', type='value', value='solid'), table_border_bottom_width=OptionsInfo(scss=True, category='table', type='px', value='2px'), table_border_bottom_color=OptionsInfo(scss=True, category='table', type='value', value='#A8A8A8'), table_border_left_style=OptionsInfo(scss=True, category='table', type='value', value='none'), table_border_left_width=OptionsInfo(scss=True, category='table', type='px', value='2px'), table_border_left_color=OptionsInfo(scss=True, category='table', type='value', value='#D3D3D3'), heading_background_color=OptionsInfo(scss=True, category='heading', type='value', value=None), heading_align=OptionsInfo(scss=True, category='heading', type='value', value='center'), heading_title_font_size=OptionsInfo(scss=True, category='heading', type='px', value='125%'), heading_title_font_weight=OptionsInfo(scss=True, category='heading', type='value', value='initial'), heading_subtitle_font_size=OptionsInfo(scss=True, category='heading', type='px', value='85%'), heading_subtitle_font_weight=OptionsInfo(scss=True, category='heading', type='value', value='initial'), heading_padding=OptionsInfo(scss=True, category='heading', type='px', value='4px'), heading_padding_horizontal=OptionsInfo(scss=True, category='heading', type='px', value='5px'), heading_border_bottom_style=OptionsInfo(scss=True, category='heading', type='value', value='solid'), heading_border_bottom_width=OptionsInfo(scss=True, category='heading', type='px', value='2px'), heading_border_bottom_color=OptionsInfo(scss=True, category='heading', type='value', value='#D3D3D3'), heading_border_lr_style=OptionsInfo(scss=True, category='heading', type='value', value='none'), heading_border_lr_width=OptionsInfo(scss=True, category='heading', type='px', value='1px'), heading_border_lr_color=OptionsInfo(scss=True, category='heading', type='value', value='#D3D3D3'), column_labels_background_color=OptionsInfo(scss=True, category='column_labels', type='value', value=None), column_labels_font_size=OptionsInfo(scss=True, category='column_labels', type='px', value='100%'), column_labels_font_weight=OptionsInfo(scss=True, category='column_labels', type='value', value='normal'), column_labels_text_transform=OptionsInfo(scss=True, category='column_labels', type='value', value='inherit'), column_labels_padding=OptionsInfo(scss=True, category='column_labels', type='px', value='5px'), column_labels_padding_horizontal=OptionsInfo(scss=True, category='column_labels', type='px', value='5px'), column_labels_vlines_style=OptionsInfo(scss=True, category='table_body', type='value', value='none'), column_labels_vlines_width=OptionsInfo(scss=True, category='table_body', type='px', value='1px'), column_labels_vlines_color=OptionsInfo(scss=True, category='table_body', type='value', value='#D3D3D3'), column_labels_border_top_style=OptionsInfo(scss=True, category='column_labels', type='value', value='solid'), column_labels_border_top_width=OptionsInfo(scss=True, category='column_labels', type='px', value='2px'), column_labels_border_top_color=OptionsInfo(scss=True, category='column_labels', type='value', value='#D3D3D3'), column_labels_border_bottom_style=OptionsInfo(scss=True, category='column_labels', type='value', value='solid'), column_labels_border_bottom_width=OptionsInfo(scss=True, category='column_labels', type='px', value='2px'), column_labels_border_bottom_color=OptionsInfo(scss=True, category='column_labels', type='value', value='#D3D3D3'), column_labels_border_lr_style=OptionsInfo(scss=True, category='column_labels', type='value', value='none'), column_labels_border_lr_width=OptionsInfo(scss=True, category='column_labels', type='px', value='1px'), column_labels_border_lr_color=OptionsInfo(scss=True, category='column_labels', type='value', value='#D3D3D3'), column_labels_hidden=OptionsInfo(scss=False, category='column_labels', type='boolean', value=False), row_group_background_color=OptionsInfo(scss=True, category='row_group', type='value', value=None), row_group_font_size=OptionsInfo(scss=True, category='row_group', type='px', value='100%'), row_group_font_weight=OptionsInfo(scss=True, category='row_group', type='value', value='initial'), row_group_text_transform=OptionsInfo(scss=True, category='row_group', type='value', value='inherit'), row_group_padding=OptionsInfo(scss=True, category='row_group', type='px', value='8px'), row_group_padding_horizontal=OptionsInfo(scss=True, category='row_group', type='px', value='5px'), row_group_border_top_style=OptionsInfo(scss=True, category='row_group', type='value', value='solid'), row_group_border_top_width=OptionsInfo(scss=True, category='row_group', type='px', value='2px'), row_group_border_top_color=OptionsInfo(scss=True, category='row_group', type='value', value='#D3D3D3'), row_group_border_right_style=OptionsInfo(scss=True, category='row_group', type='value', value='none'), row_group_border_right_width=OptionsInfo(scss=True, category='row_group', type='px', value='1px'), row_group_border_right_color=OptionsInfo(scss=True, category='row_group', type='value', value='#D3D3D3'), row_group_border_bottom_style=OptionsInfo(scss=True, category='row_group', type='value', value='solid'), row_group_border_bottom_width=OptionsInfo(scss=True, category='row_group', type='px', value='2px'), row_group_border_bottom_color=OptionsInfo(scss=True, category='row_group', type='value', value='#D3D3D3'), row_group_border_left_style=OptionsInfo(scss=True, category='row_group', type='value', value='none'), row_group_border_left_width=OptionsInfo(scss=True, category='row_group', type='px', value='1px'), row_group_border_left_color=OptionsInfo(scss=True, category='row_group', type='value', value='#D3D3D3'), row_group_as_column=OptionsInfo(scss=False, category='row_group', type='boolean', value=False), table_body_hlines_style=OptionsInfo(scss=True, category='table_body', type='value', value='solid'), table_body_hlines_width=OptionsInfo(scss=True, category='table_body', type='px', value='1px'), table_body_hlines_color=OptionsInfo(scss=True, category='table_body', type='value', value='#D3D3D3'), table_body_vlines_style=OptionsInfo(scss=True, category='table_body', type='value', value='none'), table_body_vlines_width=OptionsInfo(scss=True, category='table_body', type='px', value='1px'), table_body_vlines_color=OptionsInfo(scss=True, category='table_body', type='value', value='#D3D3D3'), table_body_border_top_style=OptionsInfo(scss=True, category='table_body', type='value', value='solid'), table_body_border_top_width=OptionsInfo(scss=True, category='table_body', type='px', value='2px'), table_body_border_top_color=OptionsInfo(scss=True, category='table_body', type='value', value='#D3D3D3'), table_body_border_bottom_style=OptionsInfo(scss=True, category='table_body', type='value', value='solid'), table_body_border_bottom_width=OptionsInfo(scss=True, category='table_body', type='px', value='2px'), table_body_border_bottom_color=OptionsInfo(scss=True, category='table_body', type='value', value='#D3D3D3'), data_row_padding=OptionsInfo(scss=True, category='data_row', type='px', value='8px'), data_row_padding_horizontal=OptionsInfo(scss=True, category='data_row', type='px', value='5px'), stub_background_color=OptionsInfo(scss=True, category='stub', type='value', value=None), stub_font_size=OptionsInfo(scss=True, category='stub', type='px', value='100%'), stub_font_weight=OptionsInfo(scss=True, category='stub', type='value', value='initial'), stub_text_transform=OptionsInfo(scss=True, category='stub', type='value', value='inherit'), stub_border_style=OptionsInfo(scss=True, category='stub', type='value', value='solid'), stub_border_width=OptionsInfo(scss=True, category='stub', type='px', value='2px'), stub_border_color=OptionsInfo(scss=True, category='stub', type='value', value='#D3D3D3'), stub_row_group_background_color=OptionsInfo(scss=True, category='stub', type='value', value=None), stub_row_group_font_size=OptionsInfo(scss=True, category='stub', type='px', value='100%'), stub_row_group_font_weight=OptionsInfo(scss=True, category='stub', type='value', value='initial'), stub_row_group_text_transform=OptionsInfo(scss=True, category='stub', type='value', value='inherit'), stub_row_group_border_style=OptionsInfo(scss=True, category='stub', type='value', value='solid'), stub_row_group_border_width=OptionsInfo(scss=True, category='stub', type='px', value='2px'), stub_row_group_border_color=OptionsInfo(scss=True, category='stub', type='value', value='#D3D3D3'), source_notes_padding=OptionsInfo(scss=True, category='source_notes', type='px', value='4px'), source_notes_padding_horizontal=OptionsInfo(scss=True, category='source_notes', type='px', value='5px'), source_notes_background_color=OptionsInfo(scss=True, category='source_notes', type='value', value=None), source_notes_font_size=OptionsInfo(scss=True, category='source_notes', type='px', value='90%'), source_notes_border_bottom_style=OptionsInfo(scss=True, category='source_notes', type='value', value='none'), source_notes_border_bottom_width=OptionsInfo(scss=True, category='source_notes', type='px', value='2px'), source_notes_border_bottom_color=OptionsInfo(scss=True, category='source_notes', type='value', value='#D3D3D3'), source_notes_border_lr_style=OptionsInfo(scss=True, category='source_notes', type='value', value='none'), source_notes_border_lr_width=OptionsInfo(scss=True, category='source_notes', type='px', value='2px'), source_notes_border_lr_color=OptionsInfo(scss=True, category='source_notes', type='value', value='#D3D3D3'), source_notes_multiline=OptionsInfo(scss=False, category='source_notes', type='boolean', value=True), source_notes_sep=OptionsInfo(scss=False, category='source_notes', type='value', value=' '), row_striping_background_color=OptionsInfo(scss=True, category='row', type='value', value='rgba(128,128,128,0.05)'), row_striping_include_stub=OptionsInfo(scss=False, category='row', type='boolean', value=False), row_striping_include_table_body=OptionsInfo(scss=False, category='row', type='boolean', value=False), container_width=OptionsInfo(scss=False, category='container', type='px', value='auto'), container_height=OptionsInfo(scss=False, category='container', type='px', value='auto'), container_padding_x=OptionsInfo(scss=False, category='container', type='px', value='0px'), container_padding_y=OptionsInfo(scss=False, category='container', type='px', value='10px'), container_overflow_x=OptionsInfo(scss=False, category='container', type='overflow', value='auto'), container_overflow_y=OptionsInfo(scss=False, category='container', type='overflow', value='auto'), quarto_disable_processing=OptionsInfo(scss=False, category='quarto', type='logical', value=False), quarto_use_bootstrap=OptionsInfo(scss=False, category='quarto', type='logical', value=False)), _has_built=False)"
      ]
     },
     "execution_count": 44,
     "metadata": {},
     "output_type": "execute_result"
    }
   ],
   "source": [
    "percentiles = np.arange(5, 96, 5)\n",
    "\n",
    "percentile_values = np.percentile(alpha_spend.select('spend').collect(), percentiles)\n",
    "\n",
    "percentile_df = pl.DataFrame({'Percentile Level': percentiles,\n",
    "                              'Percentile': percentile_values})\n",
    "\n",
    "(\n",
    "    GT(percentile_df, rowname_col='Percentile Level')\n",
    "    .tab_header(title='Alpha Spend Percentile')\n",
    "    .tab_stubhead(label=\"Percentile Level\")\n",
    "    .fmt_number()\n",
    "    .data_color(\n",
    "        domain=[0, 40],\n",
    "        palette=['white', 'rebeccapurple']\n",
    "    )  \n",
    ")"
   ]
  },
  {
   "cell_type": "code",
   "execution_count": 45,
   "metadata": {},
   "outputs": [
    {
     "data": {
      "application/vnd.vegalite.v5+json": {
       "$schema": "https://vega.github.io/schema/vega-lite/v5.20.1.json",
       "config": {
        "view": {
         "continuousHeight": 300,
         "continuousWidth": 300
        }
       },
       "data": {
        "name": "data-814e55cd8f41caffb450286fc7121197"
       },
       "datasets": {
        "data-814e55cd8f41caffb450286fc7121197": [
         {
          "% of Total": 0.010289634146341464,
          "Frequency": 27,
          "cut": "28 - 30"
         },
         {
          "% of Total": 0.006859756097560976,
          "Frequency": 18,
          "cut": "34 - 36"
         },
         {
          "% of Total": 0.03125,
          "Frequency": 82,
          "cut": "22 - 24"
         },
         {
          "% of Total": 0.056402439024390245,
          "Frequency": 148,
          "cut": "4 - 6"
         },
         {
          "% of Total": 0.053734756097560975,
          "Frequency": 141,
          "cut": "16 - 18"
         },
         {
          "% of Total": 0.0899390243902439,
          "Frequency": 236,
          "cut": "10 - 12"
         },
         {
          "% of Total": 0.03391768292682927,
          "Frequency": 89,
          "cut": "40 - ∞"
         },
         {
          "% of Total": 0.027439024390243903,
          "Frequency": 72,
          "cut": "18 - 20"
         },
         {
          "% of Total": 0.13833841463414634,
          "Frequency": 363,
          "cut": "6 - 8"
         },
         {
          "% of Total": 0.07583841463414634,
          "Frequency": 199,
          "cut": "12 - 14"
         },
         {
          "% of Total": 0.023246951219512195,
          "Frequency": 61,
          "cut": "0 - 2"
         },
         {
          "% of Total": 0.01829268292682927,
          "Frequency": 48,
          "cut": "24 - 26"
         },
         {
          "% of Total": 0.018673780487804877,
          "Frequency": 49,
          "cut": "30 - 32"
         },
         {
          "% of Total": 0.008765243902439025,
          "Frequency": 23,
          "cut": "36 - 38"
         },
         {
          "% of Total": 0.011432926829268292,
          "Frequency": 30,
          "cut": "32 - 34"
         },
         {
          "% of Total": 0.01638719512195122,
          "Frequency": 43,
          "cut": "26 - 28"
         },
         {
          "% of Total": 0.006859756097560976,
          "Frequency": 18,
          "cut": "38 - 40"
         },
         {
          "% of Total": 0.038871951219512195,
          "Frequency": 102,
          "cut": "20 - 22"
         },
         {
          "% of Total": 0.058689024390243906,
          "Frequency": 154,
          "cut": "8 - 10"
         },
         {
          "% of Total": 0.03353658536585366,
          "Frequency": 88,
          "cut": "14 - 16"
         },
         {
          "% of Total": 0.24123475609756098,
          "Frequency": 633,
          "cut": "2 - 4"
         }
        ]
       },
       "encoding": {
        "x": {
         "axis": {
          "labelAngle": -45,
          "title": "Brand Spend ($)"
         },
         "field": "cut",
         "sort": [
          "-2 - 0",
          "0 - 2",
          "2 - 4",
          "4 - 6",
          "6 - 8",
          "8 - 10",
          "10 - 12",
          "12 - 14",
          "14 - 16",
          "16 - 18",
          "18 - 20",
          "20 - 22",
          "22 - 24",
          "24 - 26",
          "26 - 28",
          "28 - 30",
          "30 - 32",
          "32 - 34",
          "34 - 36",
          "36 - 38",
          "38 - 40",
          "40 - ∞"
         ],
         "type": "ordinal"
        },
        "y": {
         "axis": {
          "format": ".0%",
          "title": "% of Households"
         },
         "field": "% of Total",
         "type": "quantitative"
        }
       },
       "height": 250,
       "mark": {
        "type": "bar"
       },
       "title": {
        "subtitle": "Distribution of spend on Alpha across brand buyers",
        "text": "Alpha Spend Distribution (%)"
       },
       "width": 650
      },
      "text/plain": [
       "<VegaLite 5 object>\n",
       "\n",
       "If you see this message, it means the renderer has not been properly enabled\n",
       "for the frontend that you are using. For more information, see\n",
       "https://altair-viz.github.io/user_guide/display_frontends.html#troubleshooting\n"
      ]
     },
     "metadata": {},
     "output_type": "display_data"
    }
   ],
   "source": [
    "labels = [f\"{lb} - {lb + 2 if lb != 40 else '∞'}\" for lb in range(-2, 41, 2)]\n",
    "chart = freq_dist_plot(\n",
    "    data=alpha_spend,\n",
    "    column=\"spend\",\n",
    "    bin_edges=np.arange(0, 41, 2),\n",
    "    labels=labels,\n",
    "    x_title=\"Brand Spend ($)\",\n",
    "    y_title=\"% of Households\",\n",
    "    chart_title=\"Alpha Spend Distribution (%)\",\n",
    "    subtitle=\"Distribution of spend on Alpha across brand buyers\",\n",
    "    label_angle=-45\n",
    ")\n",
    "chart.show()"
   ]
  },
  {
   "cell_type": "markdown",
   "metadata": {},
   "source": [
    "##### Analyzing Alpha's One-Time Buyers in Year 1"
   ]
  },
  {
   "cell_type": "code",
   "execution_count": 46,
   "metadata": {},
   "outputs": [
    {
     "name": "stdout",
     "output_type": "stream",
     "text": [
      "There were 733 one-time buyers of Alpha brand in Year 1.\n",
      "623 of those one-time Alpha buyers spent between [$2, $4).\n",
      "Given that there are 633 Alpha buyers in total who spent between $2-$4,\n",
      "the 623 one-time buyers represent 98% of the Alpha buyers in that spend range.\n"
     ]
    }
   ],
   "source": [
    "# One-Time Alpha Buyers\n",
    "one_time_alpha_buyers = trans_summary('Alpha',grocery_lf,1).filter(pl.col('# of Purchases') == 1).collect()\n",
    "one_time_alpha_buyers\n",
    "\n",
    "# Alpha buyers who spent between $2 to $4\n",
    "spend_range_alpha_buyers = spend_summary('Alpha', grocery_lf, 1).filter(\n",
    "    (pl.col('spend') >= 2) &\n",
    "    (pl.col('spend') < 4)\n",
    ").collect()\n",
    "\n",
    "res = one_time_alpha_buyers.with_columns(\n",
    "    contains=pl.col('panel_id').is_in(spend_range_alpha_buyers.select('panel_id'))\n",
    ").select('contains').sum().item()\n",
    "\n",
    "print(f'There were {one_time_alpha_buyers.count().item(0,'panel_id')} one-time buyers of Alpha brand in Year 1.')\n",
    "print(f'{res} of those one-time Alpha buyers spent between [$2, $4).')\n",
    "print(f'Given that there are {spend_range_alpha_buyers.count().item(0,'spend')} Alpha buyers in total who spent between $2-$4,')\n",
    "print(f'the {res} one-time buyers represent {res / spend_range_alpha_buyers.count().item(0,'spend'):.0%} of the Alpha buyers in that spend range.')"
   ]
  },
  {
   "cell_type": "markdown",
   "metadata": {},
   "source": [
    "**Validate**:"
   ]
  },
  {
   "cell_type": "code",
   "execution_count": 47,
   "metadata": {},
   "outputs": [
    {
     "data": {
      "text/plain": [
       "1937.2301025390625"
      ]
     },
     "execution_count": 47,
     "metadata": {},
     "output_type": "execute_result"
    }
   ],
   "source": [
    "spend_range_alpha_buyers.filter(\n",
    "    pl.col('panel_id').is_in(one_time_alpha_buyers.select('panel_id'))\n",
    ").select(pl.col('spend').sum()).item()"
   ]
  },
  {
   "cell_type": "code",
   "execution_count": 48,
   "metadata": {},
   "outputs": [
    {
     "data": {
      "text/plain": [
       "1937.229736328125"
      ]
     },
     "execution_count": 48,
     "metadata": {},
     "output_type": "execute_result"
    }
   ],
   "source": [
    "grocery_lf.filter(\n",
    "    (pl.col('week') <= 52) &\n",
    "    (pl.col('panel_id').is_in(spend_range_alpha_buyers.select('panel_id'))) &  # Assuming panel_id is the relevant column\n",
    "    (pl.col('panel_id').is_in(one_time_alpha_buyers.select('panel_id'))) &  # Same assumption\n",
    "    (pl.col('brand') == 'Alpha')\n",
    ").with_columns(\n",
    "    ((pl.col('units') * pl.col('price'))).alias('spend')\n",
    ").select(pl.col('spend').sum()).collect().item()"
   ]
  },
  {
   "cell_type": "markdown",
   "metadata": {},
   "source": [
    "#### Distribution of Volume Purchase"
   ]
  },
  {
   "cell_type": "markdown",
   "metadata": {},
   "source": [
    "##### Distribution of Category Volume Purchase Frequency"
   ]
  },
  {
   "cell_type": "code",
   "execution_count": 49,
   "metadata": {},
   "outputs": [
    {
     "data": {
      "text/html": [
       "<div><style>\n",
       ".dataframe > thead > tr,\n",
       ".dataframe > tbody > tr {\n",
       "  text-align: right;\n",
       "  white-space: pre-wrap;\n",
       "}\n",
       "</style>\n",
       "<small>shape: (9, 2)</small><table border=\"1\" class=\"dataframe\"><thead><tr><th>statistic</th><th>volume</th></tr><tr><td>str</td><td>f64</td></tr></thead><tbody><tr><td>&quot;count&quot;</td><td>4574.0</td></tr><tr><td>&quot;null_count&quot;</td><td>0.0</td></tr><tr><td>&quot;mean&quot;</td><td>4.544163</td></tr><tr><td>&quot;std&quot;</td><td>3.884697</td></tr><tr><td>&quot;min&quot;</td><td>0.25</td></tr><tr><td>&quot;25%&quot;</td><td>2.0</td></tr><tr><td>&quot;50%&quot;</td><td>3.5</td></tr><tr><td>&quot;75%&quot;</td><td>6.0</td></tr><tr><td>&quot;max&quot;</td><td>67.0</td></tr></tbody></table></div>"
      ],
      "text/plain": [
       "shape: (9, 2)\n",
       "┌────────────┬──────────┐\n",
       "│ statistic  ┆ volume   │\n",
       "│ ---        ┆ ---      │\n",
       "│ str        ┆ f64      │\n",
       "╞════════════╪══════════╡\n",
       "│ count      ┆ 4574.0   │\n",
       "│ null_count ┆ 0.0      │\n",
       "│ mean       ┆ 4.544163 │\n",
       "│ std        ┆ 3.884697 │\n",
       "│ min        ┆ 0.25     │\n",
       "│ 25%        ┆ 2.0      │\n",
       "│ 50%        ┆ 3.5      │\n",
       "│ 75%        ┆ 6.0      │\n",
       "│ max        ┆ 67.0     │\n",
       "└────────────┴──────────┘"
      ]
     },
     "execution_count": 49,
     "metadata": {},
     "output_type": "execute_result"
    }
   ],
   "source": [
    "category_vol = vol_summary('Category', grocery_lf, 1).drop('panel_id')\n",
    "\n",
    "category_vol.describe()"
   ]
  },
  {
   "cell_type": "code",
   "execution_count": 50,
   "metadata": {},
   "outputs": [
    {
     "data": {
      "text/html": [
       "<div id=\"uwgdfrwvws\" style=\"padding-left:0px;padding-right:0px;padding-top:10px;padding-bottom:10px;overflow-x:auto;overflow-y:auto;width:auto;height:auto;\">\n",
       "<style>\n",
       "#uwgdfrwvws table {\n",
       "          font-family: -apple-system, BlinkMacSystemFont, 'Segoe UI', Roboto, Oxygen, Ubuntu, Cantarell, 'Helvetica Neue', 'Fira Sans', 'Droid Sans', Arial, sans-serif;\n",
       "          -webkit-font-smoothing: antialiased;\n",
       "          -moz-osx-font-smoothing: grayscale;\n",
       "        }\n",
       "\n",
       "#uwgdfrwvws thead, tbody, tfoot, tr, td, th { border-style: none !important; }\n",
       " tr { background-color: transparent !important; }\n",
       "#uwgdfrwvws p { margin: 0 !important; padding: 0 !important; }\n",
       " #uwgdfrwvws .gt_table { display: table !important; border-collapse: collapse !important; line-height: normal !important; margin-left: auto !important; margin-right: auto !important; color: #333333 !important; font-size: 16px !important; font-weight: normal !important; font-style: normal !important; background-color: #FFFFFF !important; width: auto !important; border-top-style: solid !important; border-top-width: 2px !important; border-top-color: #A8A8A8 !important; border-right-style: none !important; border-right-width: 2px !important; border-right-color: #D3D3D3 !important; border-bottom-style: solid !important; border-bottom-width: 2px !important; border-bottom-color: #A8A8A8 !important; border-left-style: none !important; border-left-width: 2px !important; border-left-color: #D3D3D3 !important; }\n",
       " #uwgdfrwvws .gt_caption { padding-top: 4px !important; padding-bottom: 4px !important; }\n",
       " #uwgdfrwvws .gt_title { color: #333333 !important; font-size: 125% !important; font-weight: initial !important; padding-top: 4px !important; padding-bottom: 4px !important; padding-left: 5px !important; padding-right: 5px !important; border-bottom-color: #FFFFFF !important; border-bottom-width: 0 !important; }\n",
       " #uwgdfrwvws .gt_subtitle { color: #333333 !important; font-size: 85% !important; font-weight: initial !important; padding-top: 3px !important; padding-bottom: 5px !important; padding-left: 5px !important; padding-right: 5px !important; border-top-color: #FFFFFF !important; border-top-width: 0 !important; }\n",
       " #uwgdfrwvws .gt_heading { background-color: #FFFFFF !important; text-align: center !important; border-bottom-color: #FFFFFF !important; border-left-style: none !important; border-left-width: 1px !important; border-left-color: #D3D3D3 !important; border-right-style: none !important; border-right-width: 1px !important; border-right-color: #D3D3D3 !important; }\n",
       " #uwgdfrwvws .gt_bottom_border { border-bottom-style: solid !important; border-bottom-width: 2px !important; border-bottom-color: #D3D3D3 !important; }\n",
       " #uwgdfrwvws .gt_col_headings { border-top-style: solid !important; border-top-width: 2px !important; border-top-color: #D3D3D3 !important; border-bottom-style: solid !important; border-bottom-width: 2px !important; border-bottom-color: #D3D3D3 !important; border-left-style: none !important; border-left-width: 1px !important; border-left-color: #D3D3D3 !important; border-right-style: none !important; border-right-width: 1px !important; border-right-color: #D3D3D3 !important; }\n",
       " #uwgdfrwvws .gt_col_heading { color: #333333 !important; background-color: #FFFFFF !important; font-size: 100% !important; font-weight: normal !important; text-transform: inherit !important; border-left-style: none !important; border-left-width: 1px !important; border-left-color: #D3D3D3 !important; border-right-style: none !important; border-right-width: 1px !important; border-right-color: #D3D3D3 !important; vertical-align: bottom !important; padding-top: 5px !important; padding-bottom: 5px !important; padding-left: 5px !important; padding-right: 5px !important; overflow-x: hidden !important; }\n",
       " #uwgdfrwvws .gt_column_spanner_outer { color: #333333 !important; background-color: #FFFFFF !important; font-size: 100% !important; font-weight: normal !important; text-transform: inherit !important; padding-top: 0 !important; padding-bottom: 0 !important; padding-left: 4px !important; padding-right: 4px !important; }\n",
       " #uwgdfrwvws .gt_column_spanner_outer:first-child { padding-left: 0 !important; }\n",
       " #uwgdfrwvws .gt_column_spanner_outer:last-child { padding-right: 0 !important; }\n",
       " #uwgdfrwvws .gt_column_spanner { border-bottom-style: solid !important; border-bottom-width: 2px !important; border-bottom-color: #D3D3D3 !important; vertical-align: bottom !important; padding-top: 5px !important; padding-bottom: 5px !important; overflow-x: hidden !important; display: inline-block !important; width: 100% !important; }\n",
       " #uwgdfrwvws .gt_spanner_row { border-bottom-style: hidden !important; }\n",
       " #uwgdfrwvws .gt_group_heading { padding-top: 8px !important; padding-bottom: 8px !important; padding-left: 5px !important; padding-right: 5px !important; color: #333333 !important; background-color: #FFFFFF !important; font-size: 100% !important; font-weight: initial !important; text-transform: inherit !important; border-top-style: solid !important; border-top-width: 2px !important; border-top-color: #D3D3D3 !important; border-bottom-style: solid !important; border-bottom-width: 2px !important; border-bottom-color: #D3D3D3 !important; border-left-style: none !important; border-left-width: 1px !important; border-left-color: #D3D3D3 !important; border-right-style: none !important; border-right-width: 1px !important; border-right-color: #D3D3D3 !important; vertical-align: middle !important; text-align: left !important; }\n",
       " #uwgdfrwvws .gt_empty_group_heading { padding: 0.5px !important; color: #333333 !important; background-color: #FFFFFF !important; font-size: 100% !important; font-weight: initial !important; border-top-style: solid !important; border-top-width: 2px !important; border-top-color: #D3D3D3 !important; border-bottom-style: solid !important; border-bottom-width: 2px !important; border-bottom-color: #D3D3D3 !important; vertical-align: middle !important; }\n",
       " #uwgdfrwvws .gt_from_md> :first-child { margin-top: 0 !important; }\n",
       " #uwgdfrwvws .gt_from_md> :last-child { margin-bottom: 0 !important; }\n",
       " #uwgdfrwvws .gt_row { padding-top: 8px !important; padding-bottom: 8px !important; padding-left: 5px !important; padding-right: 5px !important; margin: 10px !important; border-top-style: solid !important; border-top-width: 1px !important; border-top-color: #D3D3D3 !important; border-left-style: none !important; border-left-width: 1px !important; border-left-color: #D3D3D3 !important; border-right-style: none !important; border-right-width: 1px !important; border-right-color: #D3D3D3 !important; vertical-align: middle !important; overflow-x: hidden !important; }\n",
       " #uwgdfrwvws .gt_stub { color: #333333 !important; background-color: #FFFFFF !important; font-size: 100% !important; font-weight: initial !important; text-transform: inherit !important; border-right-style: solid !important; border-right-width: 2px !important; border-right-color: #D3D3D3 !important; padding-left: 5px !important; padding-right: 5px !important; }\n",
       " #uwgdfrwvws .gt_stub_row_group { color: #333333 !important; background-color: #FFFFFF !important; font-size: 100% !important; font-weight: initial !important; text-transform: inherit !important; border-right-style: solid !important; border-right-width: 2px !important; border-right-color: #D3D3D3 !important; padding-left: 5px !important; padding-right: 5px !important; vertical-align: top !important; }\n",
       " #uwgdfrwvws .gt_row_group_first td { border-top-width: 2px !important; }\n",
       " #uwgdfrwvws .gt_row_group_first th { border-top-width: 2px !important; }\n",
       " #uwgdfrwvws .gt_striped { background-color: rgba(128,128,128,0.05) !important; }\n",
       " #uwgdfrwvws .gt_table_body { border-top-style: solid !important; border-top-width: 2px !important; border-top-color: #D3D3D3 !important; border-bottom-style: solid !important; border-bottom-width: 2px !important; border-bottom-color: #D3D3D3 !important; }\n",
       " #uwgdfrwvws .gt_sourcenotes { color: #333333 !important; background-color: #FFFFFF !important; border-bottom-style: none !important; border-bottom-width: 2px !important; border-bottom-color: #D3D3D3 !important; border-left-style: none !important; border-left-width: 2px !important; border-left-color: #D3D3D3 !important; border-right-style: none !important; border-right-width: 2px !important; border-right-color: #D3D3D3 !important; }\n",
       " #uwgdfrwvws .gt_sourcenote { font-size: 90% !important; padding-top: 4px !important; padding-bottom: 4px !important; padding-left: 5px !important; padding-right: 5px !important; text-align: left !important; }\n",
       " #uwgdfrwvws .gt_left { text-align: left !important; }\n",
       " #uwgdfrwvws .gt_center { text-align: center !important; }\n",
       " #uwgdfrwvws .gt_right { text-align: right !important; font-variant-numeric: tabular-nums !important; }\n",
       " #uwgdfrwvws .gt_font_normal { font-weight: normal !important; }\n",
       " #uwgdfrwvws .gt_font_bold { font-weight: bold !important; }\n",
       " #uwgdfrwvws .gt_font_italic { font-style: italic !important; }\n",
       " #uwgdfrwvws .gt_super { font-size: 65% !important; }\n",
       " #uwgdfrwvws .gt_footnote_marks { font-size: 75% !important; vertical-align: 0.4em !important; position: initial !important; }\n",
       " #uwgdfrwvws .gt_asterisk { font-size: 100% !important; vertical-align: 0 !important; }\n",
       " \n",
       "</style>\n",
       "<table class=\"gt_table\" data-quarto-disable-processing=\"false\" data-quarto-bootstrap=\"false\">\n",
       "<thead>\n",
       "\n",
       "  <tr class=\"gt_heading\">\n",
       "    <td colspan=\"2\" class=\"gt_heading gt_title gt_font_normal\">Category Volume Percentile</td>\n",
       "  </tr>\n",
       "<tr class=\"gt_col_headings\">\n",
       "  <th class=\"gt_col_heading gt_columns_bottom_border gt_left\" rowspan=\"1\" colspan=\"1\" scope=\"col\" id=\"Percentile Level\">Percentile Level</th>\n",
       "  <th class=\"gt_col_heading gt_columns_bottom_border gt_right\" rowspan=\"1\" colspan=\"1\" scope=\"col\" id=\"Percentile\">Percentile</th>\n",
       "</tr>\n",
       "</thead>\n",
       "<tbody class=\"gt_table_body\">\n",
       "  <tr>\n",
       "    <th style=\"color: #000000; background-color: #ccbbdd;\" class=\"gt_row gt_left gt_stub\">5</th>\n",
       "    <td style=\"color: #000000; background-color: #f7f4f9;\" class=\"gt_row gt_right\">0.83</td>\n",
       "  </tr>\n",
       "  <tr>\n",
       "    <th style=\"color: #000000; background-color: #9977bb;\" class=\"gt_row gt_left gt_stub\">10</th>\n",
       "    <td style=\"color: #000000; background-color: #f5f1f8;\" class=\"gt_row gt_right\">1.00</td>\n",
       "  </tr>\n",
       "  <tr>\n",
       "    <th style=\"color: #FFFFFF; background-color: #663399;\" class=\"gt_row gt_left gt_stub\">15</th>\n",
       "    <td style=\"color: #000000; background-color: #f5f1f8;\" class=\"gt_row gt_right\">1.00</td>\n",
       "  </tr>\n",
       "  <tr>\n",
       "    <th style=\"color: #000000; background-color: #808080;\" class=\"gt_row gt_left gt_stub\">20</th>\n",
       "    <td style=\"color: #000000; background-color: #f0ebf5;\" class=\"gt_row gt_right\">1.50</td>\n",
       "  </tr>\n",
       "  <tr>\n",
       "    <th style=\"color: #000000; background-color: #808080;\" class=\"gt_row gt_left gt_stub\">25</th>\n",
       "    <td style=\"color: #000000; background-color: #ebe4f1;\" class=\"gt_row gt_right\">2.00</td>\n",
       "  </tr>\n",
       "  <tr>\n",
       "    <th style=\"color: #000000; background-color: #808080;\" class=\"gt_row gt_left gt_stub\">30</th>\n",
       "    <td style=\"color: #000000; background-color: #ebe4f1;\" class=\"gt_row gt_right\">2.00</td>\n",
       "  </tr>\n",
       "  <tr>\n",
       "    <th style=\"color: #000000; background-color: #808080;\" class=\"gt_row gt_left gt_stub\">35</th>\n",
       "    <td style=\"color: #000000; background-color: #e6ddee;\" class=\"gt_row gt_right\">2.50</td>\n",
       "  </tr>\n",
       "  <tr>\n",
       "    <th style=\"color: #000000; background-color: #808080;\" class=\"gt_row gt_left gt_stub\">40</th>\n",
       "    <td style=\"color: #000000; background-color: #e0d6eb;\" class=\"gt_row gt_right\">3.00</td>\n",
       "  </tr>\n",
       "  <tr>\n",
       "    <th style=\"color: #000000; background-color: #808080;\" class=\"gt_row gt_left gt_stub\">45</th>\n",
       "    <td style=\"color: #000000; background-color: #e0d6eb;\" class=\"gt_row gt_right\">3.00</td>\n",
       "  </tr>\n",
       "  <tr>\n",
       "    <th style=\"color: #000000; background-color: #808080;\" class=\"gt_row gt_left gt_stub\">50</th>\n",
       "    <td style=\"color: #000000; background-color: #dbcfe7;\" class=\"gt_row gt_right\">3.50</td>\n",
       "  </tr>\n",
       "  <tr>\n",
       "    <th style=\"color: #000000; background-color: #808080;\" class=\"gt_row gt_left gt_stub\">55</th>\n",
       "    <td style=\"color: #000000; background-color: #d6c9e4;\" class=\"gt_row gt_right\">4.00</td>\n",
       "  </tr>\n",
       "  <tr>\n",
       "    <th style=\"color: #000000; background-color: #808080;\" class=\"gt_row gt_left gt_stub\">60</th>\n",
       "    <td style=\"color: #000000; background-color: #d2c4e1;\" class=\"gt_row gt_right\">4.38</td>\n",
       "  </tr>\n",
       "  <tr>\n",
       "    <th style=\"color: #000000; background-color: #808080;\" class=\"gt_row gt_left gt_stub\">65</th>\n",
       "    <td style=\"color: #000000; background-color: #ccbbdd;\" class=\"gt_row gt_right\">5.00</td>\n",
       "  </tr>\n",
       "  <tr>\n",
       "    <th style=\"color: #000000; background-color: #808080;\" class=\"gt_row gt_left gt_stub\">70</th>\n",
       "    <td style=\"color: #000000; background-color: #c7b4da;\" class=\"gt_row gt_right\">5.50</td>\n",
       "  </tr>\n",
       "  <tr>\n",
       "    <th style=\"color: #000000; background-color: #808080;\" class=\"gt_row gt_left gt_stub\">75</th>\n",
       "    <td style=\"color: #000000; background-color: #c2add6;\" class=\"gt_row gt_right\">6.00</td>\n",
       "  </tr>\n",
       "  <tr>\n",
       "    <th style=\"color: #000000; background-color: #808080;\" class=\"gt_row gt_left gt_stub\">80</th>\n",
       "    <td style=\"color: #000000; background-color: #b8a0cf;\" class=\"gt_row gt_right\">7.00</td>\n",
       "  </tr>\n",
       "  <tr>\n",
       "    <th style=\"color: #000000; background-color: #808080;\" class=\"gt_row gt_left gt_stub\">85</th>\n",
       "    <td style=\"color: #000000; background-color: #ad92c9;\" class=\"gt_row gt_right\">8.00</td>\n",
       "  </tr>\n",
       "  <tr>\n",
       "    <th style=\"color: #000000; background-color: #808080;\" class=\"gt_row gt_left gt_stub\">90</th>\n",
       "    <td style=\"color: #000000; background-color: #a385c2;\" class=\"gt_row gt_right\">9.00</td>\n",
       "  </tr>\n",
       "  <tr>\n",
       "    <th style=\"color: #000000; background-color: #808080;\" class=\"gt_row gt_left gt_stub\">95</th>\n",
       "    <td style=\"color: #FFFFFF; background-color: #855cad;\" class=\"gt_row gt_right\">12.00</td>\n",
       "  </tr>\n",
       "</tbody>\n",
       "\n",
       "\n",
       "</table>\n",
       "\n",
       "</div>\n",
       "        "
      ],
      "text/plain": [
       "GT(_tbl_data=shape: (19, 2)\n",
       "┌──────────────────┬────────────┐\n",
       "│ Percentile Level ┆ Percentile │\n",
       "│ ---              ┆ ---        │\n",
       "│ i64              ┆ f64        │\n",
       "╞══════════════════╪════════════╡\n",
       "│ 5                ┆ 0.8325     │\n",
       "│ 10               ┆ 1.0        │\n",
       "│ 15               ┆ 1.0        │\n",
       "│ 20               ┆ 1.5        │\n",
       "│ 25               ┆ 2.0        │\n",
       "│ …                ┆ …          │\n",
       "│ 75               ┆ 6.0        │\n",
       "│ 80               ┆ 7.0        │\n",
       "│ 85               ┆ 8.0        │\n",
       "│ 90               ┆ 9.0        │\n",
       "│ 95               ┆ 12.0       │\n",
       "└──────────────────┴────────────┘, _body=<great_tables._gt_data.Body object at 0x10e46bca0>, _boxhead=Boxhead([ColInfo(var='Percentile Level', type=<ColInfoTypeEnum.stub: 2>, column_label='Percentile Level', column_align='right', column_width=None), ColInfo(var='Percentile', type=<ColInfoTypeEnum.default: 1>, column_label='Percentile', column_align='right', column_width=None)]), _stub=<great_tables._gt_data.Stub object at 0x10da672b0>, _spanners=Spanners([]), _heading=Heading(title='Category Volume Percentile', subtitle=None, preheader=None), _stubhead='Percentile Level', _source_notes=[], _footnotes=[], _styles=[StyleInfo(locname=LocBody(columns='Percentile Level', rows=[0]), grpname=None, colname='Percentile Level', rownum=0, colnum=None, styles=[CellStyleText(color='#000000', font=None, size=None, align=None, v_align=None, style=None, weight=None, stretch=None, decorate=None, transform=None, whitespace=None), CellStyleFill(color='#ccbbdd')]), StyleInfo(locname=LocBody(columns='Percentile Level', rows=[1]), grpname=None, colname='Percentile Level', rownum=1, colnum=None, styles=[CellStyleText(color='#000000', font=None, size=None, align=None, v_align=None, style=None, weight=None, stretch=None, decorate=None, transform=None, whitespace=None), CellStyleFill(color='#9977bb')]), StyleInfo(locname=LocBody(columns='Percentile Level', rows=[2]), grpname=None, colname='Percentile Level', rownum=2, colnum=None, styles=[CellStyleText(color='#FFFFFF', font=None, size=None, align=None, v_align=None, style=None, weight=None, stretch=None, decorate=None, transform=None, whitespace=None), CellStyleFill(color='#663399')]), StyleInfo(locname=LocBody(columns='Percentile Level', rows=[3]), grpname=None, colname='Percentile Level', rownum=3, colnum=None, styles=[CellStyleText(color='#000000', font=None, size=None, align=None, v_align=None, style=None, weight=None, stretch=None, decorate=None, transform=None, whitespace=None), CellStyleFill(color='#808080')]), StyleInfo(locname=LocBody(columns='Percentile Level', rows=[4]), grpname=None, colname='Percentile Level', rownum=4, colnum=None, styles=[CellStyleText(color='#000000', font=None, size=None, align=None, v_align=None, style=None, weight=None, stretch=None, decorate=None, transform=None, whitespace=None), CellStyleFill(color='#808080')]), StyleInfo(locname=LocBody(columns='Percentile Level', rows=[5]), grpname=None, colname='Percentile Level', rownum=5, colnum=None, styles=[CellStyleText(color='#000000', font=None, size=None, align=None, v_align=None, style=None, weight=None, stretch=None, decorate=None, transform=None, whitespace=None), CellStyleFill(color='#808080')]), StyleInfo(locname=LocBody(columns='Percentile Level', rows=[6]), grpname=None, colname='Percentile Level', rownum=6, colnum=None, styles=[CellStyleText(color='#000000', font=None, size=None, align=None, v_align=None, style=None, weight=None, stretch=None, decorate=None, transform=None, whitespace=None), CellStyleFill(color='#808080')]), StyleInfo(locname=LocBody(columns='Percentile Level', rows=[7]), grpname=None, colname='Percentile Level', rownum=7, colnum=None, styles=[CellStyleText(color='#000000', font=None, size=None, align=None, v_align=None, style=None, weight=None, stretch=None, decorate=None, transform=None, whitespace=None), CellStyleFill(color='#808080')]), StyleInfo(locname=LocBody(columns='Percentile Level', rows=[8]), grpname=None, colname='Percentile Level', rownum=8, colnum=None, styles=[CellStyleText(color='#000000', font=None, size=None, align=None, v_align=None, style=None, weight=None, stretch=None, decorate=None, transform=None, whitespace=None), CellStyleFill(color='#808080')]), StyleInfo(locname=LocBody(columns='Percentile Level', rows=[9]), grpname=None, colname='Percentile Level', rownum=9, colnum=None, styles=[CellStyleText(color='#000000', font=None, size=None, align=None, v_align=None, style=None, weight=None, stretch=None, decorate=None, transform=None, whitespace=None), CellStyleFill(color='#808080')]), StyleInfo(locname=LocBody(columns='Percentile Level', rows=[10]), grpname=None, colname='Percentile Level', rownum=10, colnum=None, styles=[CellStyleText(color='#000000', font=None, size=None, align=None, v_align=None, style=None, weight=None, stretch=None, decorate=None, transform=None, whitespace=None), CellStyleFill(color='#808080')]), StyleInfo(locname=LocBody(columns='Percentile Level', rows=[11]), grpname=None, colname='Percentile Level', rownum=11, colnum=None, styles=[CellStyleText(color='#000000', font=None, size=None, align=None, v_align=None, style=None, weight=None, stretch=None, decorate=None, transform=None, whitespace=None), CellStyleFill(color='#808080')]), StyleInfo(locname=LocBody(columns='Percentile Level', rows=[12]), grpname=None, colname='Percentile Level', rownum=12, colnum=None, styles=[CellStyleText(color='#000000', font=None, size=None, align=None, v_align=None, style=None, weight=None, stretch=None, decorate=None, transform=None, whitespace=None), CellStyleFill(color='#808080')]), StyleInfo(locname=LocBody(columns='Percentile Level', rows=[13]), grpname=None, colname='Percentile Level', rownum=13, colnum=None, styles=[CellStyleText(color='#000000', font=None, size=None, align=None, v_align=None, style=None, weight=None, stretch=None, decorate=None, transform=None, whitespace=None), CellStyleFill(color='#808080')]), StyleInfo(locname=LocBody(columns='Percentile Level', rows=[14]), grpname=None, colname='Percentile Level', rownum=14, colnum=None, styles=[CellStyleText(color='#000000', font=None, size=None, align=None, v_align=None, style=None, weight=None, stretch=None, decorate=None, transform=None, whitespace=None), CellStyleFill(color='#808080')]), StyleInfo(locname=LocBody(columns='Percentile Level', rows=[15]), grpname=None, colname='Percentile Level', rownum=15, colnum=None, styles=[CellStyleText(color='#000000', font=None, size=None, align=None, v_align=None, style=None, weight=None, stretch=None, decorate=None, transform=None, whitespace=None), CellStyleFill(color='#808080')]), StyleInfo(locname=LocBody(columns='Percentile Level', rows=[16]), grpname=None, colname='Percentile Level', rownum=16, colnum=None, styles=[CellStyleText(color='#000000', font=None, size=None, align=None, v_align=None, style=None, weight=None, stretch=None, decorate=None, transform=None, whitespace=None), CellStyleFill(color='#808080')]), StyleInfo(locname=LocBody(columns='Percentile Level', rows=[17]), grpname=None, colname='Percentile Level', rownum=17, colnum=None, styles=[CellStyleText(color='#000000', font=None, size=None, align=None, v_align=None, style=None, weight=None, stretch=None, decorate=None, transform=None, whitespace=None), CellStyleFill(color='#808080')]), StyleInfo(locname=LocBody(columns='Percentile Level', rows=[18]), grpname=None, colname='Percentile Level', rownum=18, colnum=None, styles=[CellStyleText(color='#000000', font=None, size=None, align=None, v_align=None, style=None, weight=None, stretch=None, decorate=None, transform=None, whitespace=None), CellStyleFill(color='#808080')]), StyleInfo(locname=LocBody(columns='Percentile', rows=[0]), grpname=None, colname='Percentile', rownum=0, colnum=None, styles=[CellStyleText(color='#000000', font=None, size=None, align=None, v_align=None, style=None, weight=None, stretch=None, decorate=None, transform=None, whitespace=None), CellStyleFill(color='#f7f4f9')]), StyleInfo(locname=LocBody(columns='Percentile', rows=[1]), grpname=None, colname='Percentile', rownum=1, colnum=None, styles=[CellStyleText(color='#000000', font=None, size=None, align=None, v_align=None, style=None, weight=None, stretch=None, decorate=None, transform=None, whitespace=None), CellStyleFill(color='#f5f1f8')]), StyleInfo(locname=LocBody(columns='Percentile', rows=[2]), grpname=None, colname='Percentile', rownum=2, colnum=None, styles=[CellStyleText(color='#000000', font=None, size=None, align=None, v_align=None, style=None, weight=None, stretch=None, decorate=None, transform=None, whitespace=None), CellStyleFill(color='#f5f1f8')]), StyleInfo(locname=LocBody(columns='Percentile', rows=[3]), grpname=None, colname='Percentile', rownum=3, colnum=None, styles=[CellStyleText(color='#000000', font=None, size=None, align=None, v_align=None, style=None, weight=None, stretch=None, decorate=None, transform=None, whitespace=None), CellStyleFill(color='#f0ebf5')]), StyleInfo(locname=LocBody(columns='Percentile', rows=[4]), grpname=None, colname='Percentile', rownum=4, colnum=None, styles=[CellStyleText(color='#000000', font=None, size=None, align=None, v_align=None, style=None, weight=None, stretch=None, decorate=None, transform=None, whitespace=None), CellStyleFill(color='#ebe4f1')]), StyleInfo(locname=LocBody(columns='Percentile', rows=[5]), grpname=None, colname='Percentile', rownum=5, colnum=None, styles=[CellStyleText(color='#000000', font=None, size=None, align=None, v_align=None, style=None, weight=None, stretch=None, decorate=None, transform=None, whitespace=None), CellStyleFill(color='#ebe4f1')]), StyleInfo(locname=LocBody(columns='Percentile', rows=[6]), grpname=None, colname='Percentile', rownum=6, colnum=None, styles=[CellStyleText(color='#000000', font=None, size=None, align=None, v_align=None, style=None, weight=None, stretch=None, decorate=None, transform=None, whitespace=None), CellStyleFill(color='#e6ddee')]), StyleInfo(locname=LocBody(columns='Percentile', rows=[7]), grpname=None, colname='Percentile', rownum=7, colnum=None, styles=[CellStyleText(color='#000000', font=None, size=None, align=None, v_align=None, style=None, weight=None, stretch=None, decorate=None, transform=None, whitespace=None), CellStyleFill(color='#e0d6eb')]), StyleInfo(locname=LocBody(columns='Percentile', rows=[8]), grpname=None, colname='Percentile', rownum=8, colnum=None, styles=[CellStyleText(color='#000000', font=None, size=None, align=None, v_align=None, style=None, weight=None, stretch=None, decorate=None, transform=None, whitespace=None), CellStyleFill(color='#e0d6eb')]), StyleInfo(locname=LocBody(columns='Percentile', rows=[9]), grpname=None, colname='Percentile', rownum=9, colnum=None, styles=[CellStyleText(color='#000000', font=None, size=None, align=None, v_align=None, style=None, weight=None, stretch=None, decorate=None, transform=None, whitespace=None), CellStyleFill(color='#dbcfe7')]), StyleInfo(locname=LocBody(columns='Percentile', rows=[10]), grpname=None, colname='Percentile', rownum=10, colnum=None, styles=[CellStyleText(color='#000000', font=None, size=None, align=None, v_align=None, style=None, weight=None, stretch=None, decorate=None, transform=None, whitespace=None), CellStyleFill(color='#d6c9e4')]), StyleInfo(locname=LocBody(columns='Percentile', rows=[11]), grpname=None, colname='Percentile', rownum=11, colnum=None, styles=[CellStyleText(color='#000000', font=None, size=None, align=None, v_align=None, style=None, weight=None, stretch=None, decorate=None, transform=None, whitespace=None), CellStyleFill(color='#d2c4e1')]), StyleInfo(locname=LocBody(columns='Percentile', rows=[12]), grpname=None, colname='Percentile', rownum=12, colnum=None, styles=[CellStyleText(color='#000000', font=None, size=None, align=None, v_align=None, style=None, weight=None, stretch=None, decorate=None, transform=None, whitespace=None), CellStyleFill(color='#ccbbdd')]), StyleInfo(locname=LocBody(columns='Percentile', rows=[13]), grpname=None, colname='Percentile', rownum=13, colnum=None, styles=[CellStyleText(color='#000000', font=None, size=None, align=None, v_align=None, style=None, weight=None, stretch=None, decorate=None, transform=None, whitespace=None), CellStyleFill(color='#c7b4da')]), StyleInfo(locname=LocBody(columns='Percentile', rows=[14]), grpname=None, colname='Percentile', rownum=14, colnum=None, styles=[CellStyleText(color='#000000', font=None, size=None, align=None, v_align=None, style=None, weight=None, stretch=None, decorate=None, transform=None, whitespace=None), CellStyleFill(color='#c2add6')]), StyleInfo(locname=LocBody(columns='Percentile', rows=[15]), grpname=None, colname='Percentile', rownum=15, colnum=None, styles=[CellStyleText(color='#000000', font=None, size=None, align=None, v_align=None, style=None, weight=None, stretch=None, decorate=None, transform=None, whitespace=None), CellStyleFill(color='#b8a0cf')]), StyleInfo(locname=LocBody(columns='Percentile', rows=[16]), grpname=None, colname='Percentile', rownum=16, colnum=None, styles=[CellStyleText(color='#000000', font=None, size=None, align=None, v_align=None, style=None, weight=None, stretch=None, decorate=None, transform=None, whitespace=None), CellStyleFill(color='#ad92c9')]), StyleInfo(locname=LocBody(columns='Percentile', rows=[17]), grpname=None, colname='Percentile', rownum=17, colnum=None, styles=[CellStyleText(color='#000000', font=None, size=None, align=None, v_align=None, style=None, weight=None, stretch=None, decorate=None, transform=None, whitespace=None), CellStyleFill(color='#a385c2')]), StyleInfo(locname=LocBody(columns='Percentile', rows=[18]), grpname=None, colname='Percentile', rownum=18, colnum=None, styles=[CellStyleText(color='#FFFFFF', font=None, size=None, align=None, v_align=None, style=None, weight=None, stretch=None, decorate=None, transform=None, whitespace=None), CellStyleFill(color='#855cad')])], _locale=<great_tables._gt_data.Locale object at 0x10da66dd0>, _formats=[<great_tables._gt_data.FormatInfo object at 0x10db307d0>], _substitutions=[], _options=Options(table_id=OptionsInfo(scss=False, category='table', type='value', value=None), table_caption=OptionsInfo(scss=False, category='table', type='value', value=None), table_width=OptionsInfo(scss=True, category='table', type='px', value='auto'), table_layout=OptionsInfo(scss=True, category='table', type='value', value='fixed'), table_margin_left=OptionsInfo(scss=True, category='table', type='px', value='auto'), table_margin_right=OptionsInfo(scss=True, category='table', type='px', value='auto'), table_background_color=OptionsInfo(scss=True, category='table', type='value', value='#FFFFFF'), table_additional_css=OptionsInfo(scss=False, category='table', type='values', value=[]), table_font_names=OptionsInfo(scss=False, category='table', type='values', value=['-apple-system', 'BlinkMacSystemFont', 'Segoe UI', 'Roboto', 'Oxygen', 'Ubuntu', 'Cantarell', 'Helvetica Neue', 'Fira Sans', 'Droid Sans', 'Arial', 'sans-serif']), table_font_size=OptionsInfo(scss=True, category='table', type='px', value='16px'), table_font_weight=OptionsInfo(scss=True, category='table', type='value', value='normal'), table_font_style=OptionsInfo(scss=True, category='table', type='value', value='normal'), table_font_color=OptionsInfo(scss=True, category='table', type='value', value='#333333'), table_font_color_light=OptionsInfo(scss=True, category='table', type='value', value='#FFFFFF'), table_border_top_include=OptionsInfo(scss=False, category='table', type='boolean', value=True), table_border_top_style=OptionsInfo(scss=True, category='table', type='value', value='solid'), table_border_top_width=OptionsInfo(scss=True, category='table', type='px', value='2px'), table_border_top_color=OptionsInfo(scss=True, category='table', type='value', value='#A8A8A8'), table_border_right_style=OptionsInfo(scss=True, category='table', type='value', value='none'), table_border_right_width=OptionsInfo(scss=True, category='table', type='px', value='2px'), table_border_right_color=OptionsInfo(scss=True, category='table', type='value', value='#D3D3D3'), table_border_bottom_include=OptionsInfo(scss=False, category='table', type='boolean', value=True), table_border_bottom_style=OptionsInfo(scss=True, category='table', type='value', value='solid'), table_border_bottom_width=OptionsInfo(scss=True, category='table', type='px', value='2px'), table_border_bottom_color=OptionsInfo(scss=True, category='table', type='value', value='#A8A8A8'), table_border_left_style=OptionsInfo(scss=True, category='table', type='value', value='none'), table_border_left_width=OptionsInfo(scss=True, category='table', type='px', value='2px'), table_border_left_color=OptionsInfo(scss=True, category='table', type='value', value='#D3D3D3'), heading_background_color=OptionsInfo(scss=True, category='heading', type='value', value=None), heading_align=OptionsInfo(scss=True, category='heading', type='value', value='center'), heading_title_font_size=OptionsInfo(scss=True, category='heading', type='px', value='125%'), heading_title_font_weight=OptionsInfo(scss=True, category='heading', type='value', value='initial'), heading_subtitle_font_size=OptionsInfo(scss=True, category='heading', type='px', value='85%'), heading_subtitle_font_weight=OptionsInfo(scss=True, category='heading', type='value', value='initial'), heading_padding=OptionsInfo(scss=True, category='heading', type='px', value='4px'), heading_padding_horizontal=OptionsInfo(scss=True, category='heading', type='px', value='5px'), heading_border_bottom_style=OptionsInfo(scss=True, category='heading', type='value', value='solid'), heading_border_bottom_width=OptionsInfo(scss=True, category='heading', type='px', value='2px'), heading_border_bottom_color=OptionsInfo(scss=True, category='heading', type='value', value='#D3D3D3'), heading_border_lr_style=OptionsInfo(scss=True, category='heading', type='value', value='none'), heading_border_lr_width=OptionsInfo(scss=True, category='heading', type='px', value='1px'), heading_border_lr_color=OptionsInfo(scss=True, category='heading', type='value', value='#D3D3D3'), column_labels_background_color=OptionsInfo(scss=True, category='column_labels', type='value', value=None), column_labels_font_size=OptionsInfo(scss=True, category='column_labels', type='px', value='100%'), column_labels_font_weight=OptionsInfo(scss=True, category='column_labels', type='value', value='normal'), column_labels_text_transform=OptionsInfo(scss=True, category='column_labels', type='value', value='inherit'), column_labels_padding=OptionsInfo(scss=True, category='column_labels', type='px', value='5px'), column_labels_padding_horizontal=OptionsInfo(scss=True, category='column_labels', type='px', value='5px'), column_labels_vlines_style=OptionsInfo(scss=True, category='table_body', type='value', value='none'), column_labels_vlines_width=OptionsInfo(scss=True, category='table_body', type='px', value='1px'), column_labels_vlines_color=OptionsInfo(scss=True, category='table_body', type='value', value='#D3D3D3'), column_labels_border_top_style=OptionsInfo(scss=True, category='column_labels', type='value', value='solid'), column_labels_border_top_width=OptionsInfo(scss=True, category='column_labels', type='px', value='2px'), column_labels_border_top_color=OptionsInfo(scss=True, category='column_labels', type='value', value='#D3D3D3'), column_labels_border_bottom_style=OptionsInfo(scss=True, category='column_labels', type='value', value='solid'), column_labels_border_bottom_width=OptionsInfo(scss=True, category='column_labels', type='px', value='2px'), column_labels_border_bottom_color=OptionsInfo(scss=True, category='column_labels', type='value', value='#D3D3D3'), column_labels_border_lr_style=OptionsInfo(scss=True, category='column_labels', type='value', value='none'), column_labels_border_lr_width=OptionsInfo(scss=True, category='column_labels', type='px', value='1px'), column_labels_border_lr_color=OptionsInfo(scss=True, category='column_labels', type='value', value='#D3D3D3'), column_labels_hidden=OptionsInfo(scss=False, category='column_labels', type='boolean', value=False), row_group_background_color=OptionsInfo(scss=True, category='row_group', type='value', value=None), row_group_font_size=OptionsInfo(scss=True, category='row_group', type='px', value='100%'), row_group_font_weight=OptionsInfo(scss=True, category='row_group', type='value', value='initial'), row_group_text_transform=OptionsInfo(scss=True, category='row_group', type='value', value='inherit'), row_group_padding=OptionsInfo(scss=True, category='row_group', type='px', value='8px'), row_group_padding_horizontal=OptionsInfo(scss=True, category='row_group', type='px', value='5px'), row_group_border_top_style=OptionsInfo(scss=True, category='row_group', type='value', value='solid'), row_group_border_top_width=OptionsInfo(scss=True, category='row_group', type='px', value='2px'), row_group_border_top_color=OptionsInfo(scss=True, category='row_group', type='value', value='#D3D3D3'), row_group_border_right_style=OptionsInfo(scss=True, category='row_group', type='value', value='none'), row_group_border_right_width=OptionsInfo(scss=True, category='row_group', type='px', value='1px'), row_group_border_right_color=OptionsInfo(scss=True, category='row_group', type='value', value='#D3D3D3'), row_group_border_bottom_style=OptionsInfo(scss=True, category='row_group', type='value', value='solid'), row_group_border_bottom_width=OptionsInfo(scss=True, category='row_group', type='px', value='2px'), row_group_border_bottom_color=OptionsInfo(scss=True, category='row_group', type='value', value='#D3D3D3'), row_group_border_left_style=OptionsInfo(scss=True, category='row_group', type='value', value='none'), row_group_border_left_width=OptionsInfo(scss=True, category='row_group', type='px', value='1px'), row_group_border_left_color=OptionsInfo(scss=True, category='row_group', type='value', value='#D3D3D3'), row_group_as_column=OptionsInfo(scss=False, category='row_group', type='boolean', value=False), table_body_hlines_style=OptionsInfo(scss=True, category='table_body', type='value', value='solid'), table_body_hlines_width=OptionsInfo(scss=True, category='table_body', type='px', value='1px'), table_body_hlines_color=OptionsInfo(scss=True, category='table_body', type='value', value='#D3D3D3'), table_body_vlines_style=OptionsInfo(scss=True, category='table_body', type='value', value='none'), table_body_vlines_width=OptionsInfo(scss=True, category='table_body', type='px', value='1px'), table_body_vlines_color=OptionsInfo(scss=True, category='table_body', type='value', value='#D3D3D3'), table_body_border_top_style=OptionsInfo(scss=True, category='table_body', type='value', value='solid'), table_body_border_top_width=OptionsInfo(scss=True, category='table_body', type='px', value='2px'), table_body_border_top_color=OptionsInfo(scss=True, category='table_body', type='value', value='#D3D3D3'), table_body_border_bottom_style=OptionsInfo(scss=True, category='table_body', type='value', value='solid'), table_body_border_bottom_width=OptionsInfo(scss=True, category='table_body', type='px', value='2px'), table_body_border_bottom_color=OptionsInfo(scss=True, category='table_body', type='value', value='#D3D3D3'), data_row_padding=OptionsInfo(scss=True, category='data_row', type='px', value='8px'), data_row_padding_horizontal=OptionsInfo(scss=True, category='data_row', type='px', value='5px'), stub_background_color=OptionsInfo(scss=True, category='stub', type='value', value=None), stub_font_size=OptionsInfo(scss=True, category='stub', type='px', value='100%'), stub_font_weight=OptionsInfo(scss=True, category='stub', type='value', value='initial'), stub_text_transform=OptionsInfo(scss=True, category='stub', type='value', value='inherit'), stub_border_style=OptionsInfo(scss=True, category='stub', type='value', value='solid'), stub_border_width=OptionsInfo(scss=True, category='stub', type='px', value='2px'), stub_border_color=OptionsInfo(scss=True, category='stub', type='value', value='#D3D3D3'), stub_row_group_background_color=OptionsInfo(scss=True, category='stub', type='value', value=None), stub_row_group_font_size=OptionsInfo(scss=True, category='stub', type='px', value='100%'), stub_row_group_font_weight=OptionsInfo(scss=True, category='stub', type='value', value='initial'), stub_row_group_text_transform=OptionsInfo(scss=True, category='stub', type='value', value='inherit'), stub_row_group_border_style=OptionsInfo(scss=True, category='stub', type='value', value='solid'), stub_row_group_border_width=OptionsInfo(scss=True, category='stub', type='px', value='2px'), stub_row_group_border_color=OptionsInfo(scss=True, category='stub', type='value', value='#D3D3D3'), source_notes_padding=OptionsInfo(scss=True, category='source_notes', type='px', value='4px'), source_notes_padding_horizontal=OptionsInfo(scss=True, category='source_notes', type='px', value='5px'), source_notes_background_color=OptionsInfo(scss=True, category='source_notes', type='value', value=None), source_notes_font_size=OptionsInfo(scss=True, category='source_notes', type='px', value='90%'), source_notes_border_bottom_style=OptionsInfo(scss=True, category='source_notes', type='value', value='none'), source_notes_border_bottom_width=OptionsInfo(scss=True, category='source_notes', type='px', value='2px'), source_notes_border_bottom_color=OptionsInfo(scss=True, category='source_notes', type='value', value='#D3D3D3'), source_notes_border_lr_style=OptionsInfo(scss=True, category='source_notes', type='value', value='none'), source_notes_border_lr_width=OptionsInfo(scss=True, category='source_notes', type='px', value='2px'), source_notes_border_lr_color=OptionsInfo(scss=True, category='source_notes', type='value', value='#D3D3D3'), source_notes_multiline=OptionsInfo(scss=False, category='source_notes', type='boolean', value=True), source_notes_sep=OptionsInfo(scss=False, category='source_notes', type='value', value=' '), row_striping_background_color=OptionsInfo(scss=True, category='row', type='value', value='rgba(128,128,128,0.05)'), row_striping_include_stub=OptionsInfo(scss=False, category='row', type='boolean', value=False), row_striping_include_table_body=OptionsInfo(scss=False, category='row', type='boolean', value=False), container_width=OptionsInfo(scss=False, category='container', type='px', value='auto'), container_height=OptionsInfo(scss=False, category='container', type='px', value='auto'), container_padding_x=OptionsInfo(scss=False, category='container', type='px', value='0px'), container_padding_y=OptionsInfo(scss=False, category='container', type='px', value='10px'), container_overflow_x=OptionsInfo(scss=False, category='container', type='overflow', value='auto'), container_overflow_y=OptionsInfo(scss=False, category='container', type='overflow', value='auto'), quarto_disable_processing=OptionsInfo(scss=False, category='quarto', type='logical', value=False), quarto_use_bootstrap=OptionsInfo(scss=False, category='quarto', type='logical', value=False)), _has_built=False)"
      ]
     },
     "execution_count": 50,
     "metadata": {},
     "output_type": "execute_result"
    }
   ],
   "source": [
    "percentiles = np.arange(5, 96, 5)\n",
    "\n",
    "percentile_values = np.percentile(category_vol.select('volume').collect(), percentiles)\n",
    "\n",
    "percentile_df = pl.DataFrame({'Percentile Level': percentiles,\n",
    "                              'Percentile': percentile_values})\n",
    "\n",
    "(\n",
    "    GT(percentile_df, rowname_col='Percentile Level')\n",
    "    .tab_header(title='Category Volume Percentile')\n",
    "    .tab_stubhead(label=\"Percentile Level\")\n",
    "    .fmt_number()\n",
    "    .data_color(\n",
    "        domain=[0, 15],\n",
    "        palette=['white', 'rebeccapurple']\n",
    "    )  \n",
    ")"
   ]
  },
  {
   "cell_type": "code",
   "execution_count": 51,
   "metadata": {},
   "outputs": [
    {
     "data": {
      "application/vnd.vegalite.v5+json": {
       "$schema": "https://vega.github.io/schema/vega-lite/v5.20.1.json",
       "config": {
        "view": {
         "continuousHeight": 300,
         "continuousWidth": 300
        }
       },
       "data": {
        "name": "data-6fbc6828ffac94fa0f47d156e8324c8b"
       },
       "datasets": {
        "data-6fbc6828ffac94fa0f47d156e8324c8b": [
         {
          "% of Total": 0.08854394403148229,
          "Frequency": 405,
          "cut": "5 - 6"
         },
         {
          "% of Total": 0.15325754263226934,
          "Frequency": 701,
          "cut": "2 - 3"
         },
         {
          "% of Total": 0.017052907739396588,
          "Frequency": 78,
          "cut": "11 - 12"
         },
         {
          "% of Total": 0.03694796676869261,
          "Frequency": 169,
          "cut": "8 - 9"
         },
         {
          "% of Total": 0.027984258854394404,
          "Frequency": 128,
          "cut": "9 - 10"
         },
         {
          "% of Total": 0.05181460428508964,
          "Frequency": 237,
          "cut": "12 - ∞"
         },
         {
          "% of Total": 0.07280279842588544,
          "Frequency": 333,
          "cut": "6 - 7"
         },
         {
          "% of Total": 0.1471359860078706,
          "Frequency": 673,
          "cut": "3 - 4"
         },
         {
          "% of Total": 0.052470485351989504,
          "Frequency": 240,
          "cut": "0 - 1"
         },
         {
          "% of Total": 0.055312636641888936,
          "Frequency": 253,
          "cut": "7 - 8"
         },
         {
          "% of Total": 0.02055094009619589,
          "Frequency": 94,
          "cut": "10 - 11"
         },
         {
          "% of Total": 0.10887625710537822,
          "Frequency": 498,
          "cut": "4 - 5"
         },
         {
          "% of Total": 0.16724967205946656,
          "Frequency": 765,
          "cut": "1 - 2"
         }
        ]
       },
       "encoding": {
        "x": {
         "axis": {
          "labelAngle": 0,
          "title": "Category Volume Purchase ($)"
         },
         "field": "cut",
         "sort": [
          "-1 - 0",
          "0 - 1",
          "1 - 2",
          "2 - 3",
          "3 - 4",
          "4 - 5",
          "5 - 6",
          "6 - 7",
          "7 - 8",
          "8 - 9",
          "9 - 10",
          "10 - 11",
          "11 - 12",
          "12 - ∞"
         ],
         "type": "ordinal"
        },
        "y": {
         "axis": {
          "format": ".0%",
          "title": "% of Households"
         },
         "field": "% of Total",
         "type": "quantitative"
        }
       },
       "height": 250,
       "mark": {
        "type": "bar"
       },
       "title": {
        "subtitle": "Distribution of category volume purchases across category buyers",
        "text": "Category Volume Purchase Distribution (%)"
       },
       "width": 650
      },
      "text/plain": [
       "<VegaLite 5 object>\n",
       "\n",
       "If you see this message, it means the renderer has not been properly enabled\n",
       "for the frontend that you are using. For more information, see\n",
       "https://altair-viz.github.io/user_guide/display_frontends.html#troubleshooting\n"
      ]
     },
     "metadata": {},
     "output_type": "display_data"
    }
   ],
   "source": [
    "labels = [f\"{lb} - {lb + 1 if lb != 12 else '∞'}\" for lb in range(-1, 13, 1)]\n",
    "chart = freq_dist_plot(\n",
    "    data=category_vol,\n",
    "    column=\"volume\",\n",
    "    bin_edges=np.arange(0, 13, 1),\n",
    "    labels=labels,\n",
    "    x_title=\"Category Volume Purchase ($)\",\n",
    "    y_title=\"% of Households\",\n",
    "    chart_title=\"Category Volume Purchase Distribution (%)\",\n",
    "    subtitle=\"Distribution of category volume purchases across category buyers\"\n",
    ")\n",
    "chart.show()"
   ]
  },
  {
   "cell_type": "markdown",
   "metadata": {},
   "source": [
    "##### Distribution of Brand Volume Purchase Frequency"
   ]
  },
  {
   "cell_type": "code",
   "execution_count": 52,
   "metadata": {},
   "outputs": [
    {
     "data": {
      "text/html": [
       "<div><style>\n",
       ".dataframe > thead > tr,\n",
       ".dataframe > tbody > tr {\n",
       "  text-align: right;\n",
       "  white-space: pre-wrap;\n",
       "}\n",
       "</style>\n",
       "<small>shape: (9, 2)</small><table border=\"1\" class=\"dataframe\"><thead><tr><th>statistic</th><th>volume</th></tr><tr><td>str</td><td>f64</td></tr></thead><tbody><tr><td>&quot;count&quot;</td><td>2624.0</td></tr><tr><td>&quot;null_count&quot;</td><td>0.0</td></tr><tr><td>&quot;mean&quot;</td><td>3.493236</td></tr><tr><td>&quot;std&quot;</td><td>3.350901</td></tr><tr><td>&quot;min&quot;</td><td>0.25</td></tr><tr><td>&quot;25%&quot;</td><td>1.0</td></tr><tr><td>&quot;50%&quot;</td><td>2.5</td></tr><tr><td>&quot;75%&quot;</td><td>5.0</td></tr><tr><td>&quot;max&quot;</td><td>27.55</td></tr></tbody></table></div>"
      ],
      "text/plain": [
       "shape: (9, 2)\n",
       "┌────────────┬──────────┐\n",
       "│ statistic  ┆ volume   │\n",
       "│ ---        ┆ ---      │\n",
       "│ str        ┆ f64      │\n",
       "╞════════════╪══════════╡\n",
       "│ count      ┆ 2624.0   │\n",
       "│ null_count ┆ 0.0      │\n",
       "│ mean       ┆ 3.493236 │\n",
       "│ std        ┆ 3.350901 │\n",
       "│ min        ┆ 0.25     │\n",
       "│ 25%        ┆ 1.0      │\n",
       "│ 50%        ┆ 2.5      │\n",
       "│ 75%        ┆ 5.0      │\n",
       "│ max        ┆ 27.55    │\n",
       "└────────────┴──────────┘"
      ]
     },
     "execution_count": 52,
     "metadata": {},
     "output_type": "execute_result"
    }
   ],
   "source": [
    "alpha_vol = vol_summary('Alpha', grocery_lf, 1).drop('panel_id')\n",
    "\n",
    "alpha_vol.describe()"
   ]
  },
  {
   "cell_type": "code",
   "execution_count": 53,
   "metadata": {},
   "outputs": [
    {
     "data": {
      "text/html": [
       "<div id=\"daodcqjjvp\" style=\"padding-left:0px;padding-right:0px;padding-top:10px;padding-bottom:10px;overflow-x:auto;overflow-y:auto;width:auto;height:auto;\">\n",
       "<style>\n",
       "#daodcqjjvp table {\n",
       "          font-family: -apple-system, BlinkMacSystemFont, 'Segoe UI', Roboto, Oxygen, Ubuntu, Cantarell, 'Helvetica Neue', 'Fira Sans', 'Droid Sans', Arial, sans-serif;\n",
       "          -webkit-font-smoothing: antialiased;\n",
       "          -moz-osx-font-smoothing: grayscale;\n",
       "        }\n",
       "\n",
       "#daodcqjjvp thead, tbody, tfoot, tr, td, th { border-style: none !important; }\n",
       " tr { background-color: transparent !important; }\n",
       "#daodcqjjvp p { margin: 0 !important; padding: 0 !important; }\n",
       " #daodcqjjvp .gt_table { display: table !important; border-collapse: collapse !important; line-height: normal !important; margin-left: auto !important; margin-right: auto !important; color: #333333 !important; font-size: 16px !important; font-weight: normal !important; font-style: normal !important; background-color: #FFFFFF !important; width: auto !important; border-top-style: solid !important; border-top-width: 2px !important; border-top-color: #A8A8A8 !important; border-right-style: none !important; border-right-width: 2px !important; border-right-color: #D3D3D3 !important; border-bottom-style: solid !important; border-bottom-width: 2px !important; border-bottom-color: #A8A8A8 !important; border-left-style: none !important; border-left-width: 2px !important; border-left-color: #D3D3D3 !important; }\n",
       " #daodcqjjvp .gt_caption { padding-top: 4px !important; padding-bottom: 4px !important; }\n",
       " #daodcqjjvp .gt_title { color: #333333 !important; font-size: 125% !important; font-weight: initial !important; padding-top: 4px !important; padding-bottom: 4px !important; padding-left: 5px !important; padding-right: 5px !important; border-bottom-color: #FFFFFF !important; border-bottom-width: 0 !important; }\n",
       " #daodcqjjvp .gt_subtitle { color: #333333 !important; font-size: 85% !important; font-weight: initial !important; padding-top: 3px !important; padding-bottom: 5px !important; padding-left: 5px !important; padding-right: 5px !important; border-top-color: #FFFFFF !important; border-top-width: 0 !important; }\n",
       " #daodcqjjvp .gt_heading { background-color: #FFFFFF !important; text-align: center !important; border-bottom-color: #FFFFFF !important; border-left-style: none !important; border-left-width: 1px !important; border-left-color: #D3D3D3 !important; border-right-style: none !important; border-right-width: 1px !important; border-right-color: #D3D3D3 !important; }\n",
       " #daodcqjjvp .gt_bottom_border { border-bottom-style: solid !important; border-bottom-width: 2px !important; border-bottom-color: #D3D3D3 !important; }\n",
       " #daodcqjjvp .gt_col_headings { border-top-style: solid !important; border-top-width: 2px !important; border-top-color: #D3D3D3 !important; border-bottom-style: solid !important; border-bottom-width: 2px !important; border-bottom-color: #D3D3D3 !important; border-left-style: none !important; border-left-width: 1px !important; border-left-color: #D3D3D3 !important; border-right-style: none !important; border-right-width: 1px !important; border-right-color: #D3D3D3 !important; }\n",
       " #daodcqjjvp .gt_col_heading { color: #333333 !important; background-color: #FFFFFF !important; font-size: 100% !important; font-weight: normal !important; text-transform: inherit !important; border-left-style: none !important; border-left-width: 1px !important; border-left-color: #D3D3D3 !important; border-right-style: none !important; border-right-width: 1px !important; border-right-color: #D3D3D3 !important; vertical-align: bottom !important; padding-top: 5px !important; padding-bottom: 5px !important; padding-left: 5px !important; padding-right: 5px !important; overflow-x: hidden !important; }\n",
       " #daodcqjjvp .gt_column_spanner_outer { color: #333333 !important; background-color: #FFFFFF !important; font-size: 100% !important; font-weight: normal !important; text-transform: inherit !important; padding-top: 0 !important; padding-bottom: 0 !important; padding-left: 4px !important; padding-right: 4px !important; }\n",
       " #daodcqjjvp .gt_column_spanner_outer:first-child { padding-left: 0 !important; }\n",
       " #daodcqjjvp .gt_column_spanner_outer:last-child { padding-right: 0 !important; }\n",
       " #daodcqjjvp .gt_column_spanner { border-bottom-style: solid !important; border-bottom-width: 2px !important; border-bottom-color: #D3D3D3 !important; vertical-align: bottom !important; padding-top: 5px !important; padding-bottom: 5px !important; overflow-x: hidden !important; display: inline-block !important; width: 100% !important; }\n",
       " #daodcqjjvp .gt_spanner_row { border-bottom-style: hidden !important; }\n",
       " #daodcqjjvp .gt_group_heading { padding-top: 8px !important; padding-bottom: 8px !important; padding-left: 5px !important; padding-right: 5px !important; color: #333333 !important; background-color: #FFFFFF !important; font-size: 100% !important; font-weight: initial !important; text-transform: inherit !important; border-top-style: solid !important; border-top-width: 2px !important; border-top-color: #D3D3D3 !important; border-bottom-style: solid !important; border-bottom-width: 2px !important; border-bottom-color: #D3D3D3 !important; border-left-style: none !important; border-left-width: 1px !important; border-left-color: #D3D3D3 !important; border-right-style: none !important; border-right-width: 1px !important; border-right-color: #D3D3D3 !important; vertical-align: middle !important; text-align: left !important; }\n",
       " #daodcqjjvp .gt_empty_group_heading { padding: 0.5px !important; color: #333333 !important; background-color: #FFFFFF !important; font-size: 100% !important; font-weight: initial !important; border-top-style: solid !important; border-top-width: 2px !important; border-top-color: #D3D3D3 !important; border-bottom-style: solid !important; border-bottom-width: 2px !important; border-bottom-color: #D3D3D3 !important; vertical-align: middle !important; }\n",
       " #daodcqjjvp .gt_from_md> :first-child { margin-top: 0 !important; }\n",
       " #daodcqjjvp .gt_from_md> :last-child { margin-bottom: 0 !important; }\n",
       " #daodcqjjvp .gt_row { padding-top: 8px !important; padding-bottom: 8px !important; padding-left: 5px !important; padding-right: 5px !important; margin: 10px !important; border-top-style: solid !important; border-top-width: 1px !important; border-top-color: #D3D3D3 !important; border-left-style: none !important; border-left-width: 1px !important; border-left-color: #D3D3D3 !important; border-right-style: none !important; border-right-width: 1px !important; border-right-color: #D3D3D3 !important; vertical-align: middle !important; overflow-x: hidden !important; }\n",
       " #daodcqjjvp .gt_stub { color: #333333 !important; background-color: #FFFFFF !important; font-size: 100% !important; font-weight: initial !important; text-transform: inherit !important; border-right-style: solid !important; border-right-width: 2px !important; border-right-color: #D3D3D3 !important; padding-left: 5px !important; padding-right: 5px !important; }\n",
       " #daodcqjjvp .gt_stub_row_group { color: #333333 !important; background-color: #FFFFFF !important; font-size: 100% !important; font-weight: initial !important; text-transform: inherit !important; border-right-style: solid !important; border-right-width: 2px !important; border-right-color: #D3D3D3 !important; padding-left: 5px !important; padding-right: 5px !important; vertical-align: top !important; }\n",
       " #daodcqjjvp .gt_row_group_first td { border-top-width: 2px !important; }\n",
       " #daodcqjjvp .gt_row_group_first th { border-top-width: 2px !important; }\n",
       " #daodcqjjvp .gt_striped { background-color: rgba(128,128,128,0.05) !important; }\n",
       " #daodcqjjvp .gt_table_body { border-top-style: solid !important; border-top-width: 2px !important; border-top-color: #D3D3D3 !important; border-bottom-style: solid !important; border-bottom-width: 2px !important; border-bottom-color: #D3D3D3 !important; }\n",
       " #daodcqjjvp .gt_sourcenotes { color: #333333 !important; background-color: #FFFFFF !important; border-bottom-style: none !important; border-bottom-width: 2px !important; border-bottom-color: #D3D3D3 !important; border-left-style: none !important; border-left-width: 2px !important; border-left-color: #D3D3D3 !important; border-right-style: none !important; border-right-width: 2px !important; border-right-color: #D3D3D3 !important; }\n",
       " #daodcqjjvp .gt_sourcenote { font-size: 90% !important; padding-top: 4px !important; padding-bottom: 4px !important; padding-left: 5px !important; padding-right: 5px !important; text-align: left !important; }\n",
       " #daodcqjjvp .gt_left { text-align: left !important; }\n",
       " #daodcqjjvp .gt_center { text-align: center !important; }\n",
       " #daodcqjjvp .gt_right { text-align: right !important; font-variant-numeric: tabular-nums !important; }\n",
       " #daodcqjjvp .gt_font_normal { font-weight: normal !important; }\n",
       " #daodcqjjvp .gt_font_bold { font-weight: bold !important; }\n",
       " #daodcqjjvp .gt_font_italic { font-style: italic !important; }\n",
       " #daodcqjjvp .gt_super { font-size: 65% !important; }\n",
       " #daodcqjjvp .gt_footnote_marks { font-size: 75% !important; vertical-align: 0.4em !important; position: initial !important; }\n",
       " #daodcqjjvp .gt_asterisk { font-size: 100% !important; vertical-align: 0 !important; }\n",
       " \n",
       "</style>\n",
       "<table class=\"gt_table\" data-quarto-disable-processing=\"false\" data-quarto-bootstrap=\"false\">\n",
       "<thead>\n",
       "\n",
       "  <tr class=\"gt_heading\">\n",
       "    <td colspan=\"2\" class=\"gt_heading gt_title gt_font_normal\">Alpha Volume Percentile</td>\n",
       "  </tr>\n",
       "<tr class=\"gt_col_headings\">\n",
       "  <th class=\"gt_col_heading gt_columns_bottom_border gt_left\" rowspan=\"1\" colspan=\"1\" scope=\"col\" id=\"Percentile Level\">Percentile Level</th>\n",
       "  <th class=\"gt_col_heading gt_columns_bottom_border gt_right\" rowspan=\"1\" colspan=\"1\" scope=\"col\" id=\"Percentile\">Percentile</th>\n",
       "</tr>\n",
       "</thead>\n",
       "<tbody class=\"gt_table_body\">\n",
       "  <tr>\n",
       "    <th style=\"color: #000000; background-color: #ccbbdd;\" class=\"gt_row gt_left gt_stub\">5</th>\n",
       "    <td style=\"color: #000000; background-color: #faf8fc;\" class=\"gt_row gt_right\">0.50</td>\n",
       "  </tr>\n",
       "  <tr>\n",
       "    <th style=\"color: #000000; background-color: #9977bb;\" class=\"gt_row gt_left gt_stub\">10</th>\n",
       "    <td style=\"color: #000000; background-color: #faf8fc;\" class=\"gt_row gt_right\">0.50</td>\n",
       "  </tr>\n",
       "  <tr>\n",
       "    <th style=\"color: #FFFFFF; background-color: #663399;\" class=\"gt_row gt_left gt_stub\">15</th>\n",
       "    <td style=\"color: #000000; background-color: #f5f1f8;\" class=\"gt_row gt_right\">1.00</td>\n",
       "  </tr>\n",
       "  <tr>\n",
       "    <th style=\"color: #000000; background-color: #808080;\" class=\"gt_row gt_left gt_stub\">20</th>\n",
       "    <td style=\"color: #000000; background-color: #f5f1f8;\" class=\"gt_row gt_right\">1.00</td>\n",
       "  </tr>\n",
       "  <tr>\n",
       "    <th style=\"color: #000000; background-color: #808080;\" class=\"gt_row gt_left gt_stub\">25</th>\n",
       "    <td style=\"color: #000000; background-color: #f5f1f8;\" class=\"gt_row gt_right\">1.00</td>\n",
       "  </tr>\n",
       "  <tr>\n",
       "    <th style=\"color: #000000; background-color: #808080;\" class=\"gt_row gt_left gt_stub\">30</th>\n",
       "    <td style=\"color: #000000; background-color: #f4f0f8;\" class=\"gt_row gt_right\">1.10</td>\n",
       "  </tr>\n",
       "  <tr>\n",
       "    <th style=\"color: #000000; background-color: #808080;\" class=\"gt_row gt_left gt_stub\">35</th>\n",
       "    <td style=\"color: #000000; background-color: #efeaf4;\" class=\"gt_row gt_right\">1.55</td>\n",
       "  </tr>\n",
       "  <tr>\n",
       "    <th style=\"color: #000000; background-color: #808080;\" class=\"gt_row gt_left gt_stub\">40</th>\n",
       "    <td style=\"color: #000000; background-color: #ebe4f1;\" class=\"gt_row gt_right\">2.00</td>\n",
       "  </tr>\n",
       "  <tr>\n",
       "    <th style=\"color: #000000; background-color: #808080;\" class=\"gt_row gt_left gt_stub\">45</th>\n",
       "    <td style=\"color: #000000; background-color: #ebe4f1;\" class=\"gt_row gt_right\">2.00</td>\n",
       "  </tr>\n",
       "  <tr>\n",
       "    <th style=\"color: #000000; background-color: #808080;\" class=\"gt_row gt_left gt_stub\">50</th>\n",
       "    <td style=\"color: #000000; background-color: #e6ddee;\" class=\"gt_row gt_right\">2.50</td>\n",
       "  </tr>\n",
       "  <tr>\n",
       "    <th style=\"color: #000000; background-color: #808080;\" class=\"gt_row gt_left gt_stub\">55</th>\n",
       "    <td style=\"color: #000000; background-color: #e0d6eb;\" class=\"gt_row gt_right\">3.00</td>\n",
       "  </tr>\n",
       "  <tr>\n",
       "    <th style=\"color: #000000; background-color: #808080;\" class=\"gt_row gt_left gt_stub\">60</th>\n",
       "    <td style=\"color: #000000; background-color: #e0d6eb;\" class=\"gt_row gt_right\">3.00</td>\n",
       "  </tr>\n",
       "  <tr>\n",
       "    <th style=\"color: #000000; background-color: #808080;\" class=\"gt_row gt_left gt_stub\">65</th>\n",
       "    <td style=\"color: #000000; background-color: #dbcfe7;\" class=\"gt_row gt_right\">3.50</td>\n",
       "  </tr>\n",
       "  <tr>\n",
       "    <th style=\"color: #000000; background-color: #808080;\" class=\"gt_row gt_left gt_stub\">70</th>\n",
       "    <td style=\"color: #000000; background-color: #d6c9e4;\" class=\"gt_row gt_right\">4.00</td>\n",
       "  </tr>\n",
       "  <tr>\n",
       "    <th style=\"color: #000000; background-color: #808080;\" class=\"gt_row gt_left gt_stub\">75</th>\n",
       "    <td style=\"color: #000000; background-color: #ccbbdd;\" class=\"gt_row gt_right\">5.00</td>\n",
       "  </tr>\n",
       "  <tr>\n",
       "    <th style=\"color: #000000; background-color: #808080;\" class=\"gt_row gt_left gt_stub\">80</th>\n",
       "    <td style=\"color: #000000; background-color: #c7b4da;\" class=\"gt_row gt_right\">5.50</td>\n",
       "  </tr>\n",
       "  <tr>\n",
       "    <th style=\"color: #000000; background-color: #808080;\" class=\"gt_row gt_left gt_stub\">85</th>\n",
       "    <td style=\"color: #000000; background-color: #bea9d4;\" class=\"gt_row gt_right\">6.35</td>\n",
       "  </tr>\n",
       "  <tr>\n",
       "    <th style=\"color: #000000; background-color: #808080;\" class=\"gt_row gt_left gt_stub\">90</th>\n",
       "    <td style=\"color: #000000; background-color: #ad92c9;\" class=\"gt_row gt_right\">8.00</td>\n",
       "  </tr>\n",
       "  <tr>\n",
       "    <th style=\"color: #000000; background-color: #808080;\" class=\"gt_row gt_left gt_stub\">95</th>\n",
       "    <td style=\"color: #000000; background-color: #9977bb;\" class=\"gt_row gt_right\">10.00</td>\n",
       "  </tr>\n",
       "</tbody>\n",
       "\n",
       "\n",
       "</table>\n",
       "\n",
       "</div>\n",
       "        "
      ],
      "text/plain": [
       "GT(_tbl_data=shape: (19, 2)\n",
       "┌──────────────────┬────────────┐\n",
       "│ Percentile Level ┆ Percentile │\n",
       "│ ---              ┆ ---        │\n",
       "│ i64              ┆ f64        │\n",
       "╞══════════════════╪════════════╡\n",
       "│ 5                ┆ 0.5        │\n",
       "│ 10               ┆ 0.5        │\n",
       "│ 15               ┆ 1.0        │\n",
       "│ 20               ┆ 1.0        │\n",
       "│ 25               ┆ 1.0        │\n",
       "│ …                ┆ …          │\n",
       "│ 75               ┆ 5.0        │\n",
       "│ 80               ┆ 5.5        │\n",
       "│ 85               ┆ 6.35       │\n",
       "│ 90               ┆ 8.0        │\n",
       "│ 95               ┆ 10.0       │\n",
       "└──────────────────┴────────────┘, _body=<great_tables._gt_data.Body object at 0x10e42aee0>, _boxhead=Boxhead([ColInfo(var='Percentile Level', type=<ColInfoTypeEnum.stub: 2>, column_label='Percentile Level', column_align='right', column_width=None), ColInfo(var='Percentile', type=<ColInfoTypeEnum.default: 1>, column_label='Percentile', column_align='right', column_width=None)]), _stub=<great_tables._gt_data.Stub object at 0x10db30e90>, _spanners=Spanners([]), _heading=Heading(title='Alpha Volume Percentile', subtitle=None, preheader=None), _stubhead='Percentile Level', _source_notes=[], _footnotes=[], _styles=[StyleInfo(locname=LocBody(columns='Percentile Level', rows=[0]), grpname=None, colname='Percentile Level', rownum=0, colnum=None, styles=[CellStyleText(color='#000000', font=None, size=None, align=None, v_align=None, style=None, weight=None, stretch=None, decorate=None, transform=None, whitespace=None), CellStyleFill(color='#ccbbdd')]), StyleInfo(locname=LocBody(columns='Percentile Level', rows=[1]), grpname=None, colname='Percentile Level', rownum=1, colnum=None, styles=[CellStyleText(color='#000000', font=None, size=None, align=None, v_align=None, style=None, weight=None, stretch=None, decorate=None, transform=None, whitespace=None), CellStyleFill(color='#9977bb')]), StyleInfo(locname=LocBody(columns='Percentile Level', rows=[2]), grpname=None, colname='Percentile Level', rownum=2, colnum=None, styles=[CellStyleText(color='#FFFFFF', font=None, size=None, align=None, v_align=None, style=None, weight=None, stretch=None, decorate=None, transform=None, whitespace=None), CellStyleFill(color='#663399')]), StyleInfo(locname=LocBody(columns='Percentile Level', rows=[3]), grpname=None, colname='Percentile Level', rownum=3, colnum=None, styles=[CellStyleText(color='#000000', font=None, size=None, align=None, v_align=None, style=None, weight=None, stretch=None, decorate=None, transform=None, whitespace=None), CellStyleFill(color='#808080')]), StyleInfo(locname=LocBody(columns='Percentile Level', rows=[4]), grpname=None, colname='Percentile Level', rownum=4, colnum=None, styles=[CellStyleText(color='#000000', font=None, size=None, align=None, v_align=None, style=None, weight=None, stretch=None, decorate=None, transform=None, whitespace=None), CellStyleFill(color='#808080')]), StyleInfo(locname=LocBody(columns='Percentile Level', rows=[5]), grpname=None, colname='Percentile Level', rownum=5, colnum=None, styles=[CellStyleText(color='#000000', font=None, size=None, align=None, v_align=None, style=None, weight=None, stretch=None, decorate=None, transform=None, whitespace=None), CellStyleFill(color='#808080')]), StyleInfo(locname=LocBody(columns='Percentile Level', rows=[6]), grpname=None, colname='Percentile Level', rownum=6, colnum=None, styles=[CellStyleText(color='#000000', font=None, size=None, align=None, v_align=None, style=None, weight=None, stretch=None, decorate=None, transform=None, whitespace=None), CellStyleFill(color='#808080')]), StyleInfo(locname=LocBody(columns='Percentile Level', rows=[7]), grpname=None, colname='Percentile Level', rownum=7, colnum=None, styles=[CellStyleText(color='#000000', font=None, size=None, align=None, v_align=None, style=None, weight=None, stretch=None, decorate=None, transform=None, whitespace=None), CellStyleFill(color='#808080')]), StyleInfo(locname=LocBody(columns='Percentile Level', rows=[8]), grpname=None, colname='Percentile Level', rownum=8, colnum=None, styles=[CellStyleText(color='#000000', font=None, size=None, align=None, v_align=None, style=None, weight=None, stretch=None, decorate=None, transform=None, whitespace=None), CellStyleFill(color='#808080')]), StyleInfo(locname=LocBody(columns='Percentile Level', rows=[9]), grpname=None, colname='Percentile Level', rownum=9, colnum=None, styles=[CellStyleText(color='#000000', font=None, size=None, align=None, v_align=None, style=None, weight=None, stretch=None, decorate=None, transform=None, whitespace=None), CellStyleFill(color='#808080')]), StyleInfo(locname=LocBody(columns='Percentile Level', rows=[10]), grpname=None, colname='Percentile Level', rownum=10, colnum=None, styles=[CellStyleText(color='#000000', font=None, size=None, align=None, v_align=None, style=None, weight=None, stretch=None, decorate=None, transform=None, whitespace=None), CellStyleFill(color='#808080')]), StyleInfo(locname=LocBody(columns='Percentile Level', rows=[11]), grpname=None, colname='Percentile Level', rownum=11, colnum=None, styles=[CellStyleText(color='#000000', font=None, size=None, align=None, v_align=None, style=None, weight=None, stretch=None, decorate=None, transform=None, whitespace=None), CellStyleFill(color='#808080')]), StyleInfo(locname=LocBody(columns='Percentile Level', rows=[12]), grpname=None, colname='Percentile Level', rownum=12, colnum=None, styles=[CellStyleText(color='#000000', font=None, size=None, align=None, v_align=None, style=None, weight=None, stretch=None, decorate=None, transform=None, whitespace=None), CellStyleFill(color='#808080')]), StyleInfo(locname=LocBody(columns='Percentile Level', rows=[13]), grpname=None, colname='Percentile Level', rownum=13, colnum=None, styles=[CellStyleText(color='#000000', font=None, size=None, align=None, v_align=None, style=None, weight=None, stretch=None, decorate=None, transform=None, whitespace=None), CellStyleFill(color='#808080')]), StyleInfo(locname=LocBody(columns='Percentile Level', rows=[14]), grpname=None, colname='Percentile Level', rownum=14, colnum=None, styles=[CellStyleText(color='#000000', font=None, size=None, align=None, v_align=None, style=None, weight=None, stretch=None, decorate=None, transform=None, whitespace=None), CellStyleFill(color='#808080')]), StyleInfo(locname=LocBody(columns='Percentile Level', rows=[15]), grpname=None, colname='Percentile Level', rownum=15, colnum=None, styles=[CellStyleText(color='#000000', font=None, size=None, align=None, v_align=None, style=None, weight=None, stretch=None, decorate=None, transform=None, whitespace=None), CellStyleFill(color='#808080')]), StyleInfo(locname=LocBody(columns='Percentile Level', rows=[16]), grpname=None, colname='Percentile Level', rownum=16, colnum=None, styles=[CellStyleText(color='#000000', font=None, size=None, align=None, v_align=None, style=None, weight=None, stretch=None, decorate=None, transform=None, whitespace=None), CellStyleFill(color='#808080')]), StyleInfo(locname=LocBody(columns='Percentile Level', rows=[17]), grpname=None, colname='Percentile Level', rownum=17, colnum=None, styles=[CellStyleText(color='#000000', font=None, size=None, align=None, v_align=None, style=None, weight=None, stretch=None, decorate=None, transform=None, whitespace=None), CellStyleFill(color='#808080')]), StyleInfo(locname=LocBody(columns='Percentile Level', rows=[18]), grpname=None, colname='Percentile Level', rownum=18, colnum=None, styles=[CellStyleText(color='#000000', font=None, size=None, align=None, v_align=None, style=None, weight=None, stretch=None, decorate=None, transform=None, whitespace=None), CellStyleFill(color='#808080')]), StyleInfo(locname=LocBody(columns='Percentile', rows=[0]), grpname=None, colname='Percentile', rownum=0, colnum=None, styles=[CellStyleText(color='#000000', font=None, size=None, align=None, v_align=None, style=None, weight=None, stretch=None, decorate=None, transform=None, whitespace=None), CellStyleFill(color='#faf8fc')]), StyleInfo(locname=LocBody(columns='Percentile', rows=[1]), grpname=None, colname='Percentile', rownum=1, colnum=None, styles=[CellStyleText(color='#000000', font=None, size=None, align=None, v_align=None, style=None, weight=None, stretch=None, decorate=None, transform=None, whitespace=None), CellStyleFill(color='#faf8fc')]), StyleInfo(locname=LocBody(columns='Percentile', rows=[2]), grpname=None, colname='Percentile', rownum=2, colnum=None, styles=[CellStyleText(color='#000000', font=None, size=None, align=None, v_align=None, style=None, weight=None, stretch=None, decorate=None, transform=None, whitespace=None), CellStyleFill(color='#f5f1f8')]), StyleInfo(locname=LocBody(columns='Percentile', rows=[3]), grpname=None, colname='Percentile', rownum=3, colnum=None, styles=[CellStyleText(color='#000000', font=None, size=None, align=None, v_align=None, style=None, weight=None, stretch=None, decorate=None, transform=None, whitespace=None), CellStyleFill(color='#f5f1f8')]), StyleInfo(locname=LocBody(columns='Percentile', rows=[4]), grpname=None, colname='Percentile', rownum=4, colnum=None, styles=[CellStyleText(color='#000000', font=None, size=None, align=None, v_align=None, style=None, weight=None, stretch=None, decorate=None, transform=None, whitespace=None), CellStyleFill(color='#f5f1f8')]), StyleInfo(locname=LocBody(columns='Percentile', rows=[5]), grpname=None, colname='Percentile', rownum=5, colnum=None, styles=[CellStyleText(color='#000000', font=None, size=None, align=None, v_align=None, style=None, weight=None, stretch=None, decorate=None, transform=None, whitespace=None), CellStyleFill(color='#f4f0f8')]), StyleInfo(locname=LocBody(columns='Percentile', rows=[6]), grpname=None, colname='Percentile', rownum=6, colnum=None, styles=[CellStyleText(color='#000000', font=None, size=None, align=None, v_align=None, style=None, weight=None, stretch=None, decorate=None, transform=None, whitespace=None), CellStyleFill(color='#efeaf4')]), StyleInfo(locname=LocBody(columns='Percentile', rows=[7]), grpname=None, colname='Percentile', rownum=7, colnum=None, styles=[CellStyleText(color='#000000', font=None, size=None, align=None, v_align=None, style=None, weight=None, stretch=None, decorate=None, transform=None, whitespace=None), CellStyleFill(color='#ebe4f1')]), StyleInfo(locname=LocBody(columns='Percentile', rows=[8]), grpname=None, colname='Percentile', rownum=8, colnum=None, styles=[CellStyleText(color='#000000', font=None, size=None, align=None, v_align=None, style=None, weight=None, stretch=None, decorate=None, transform=None, whitespace=None), CellStyleFill(color='#ebe4f1')]), StyleInfo(locname=LocBody(columns='Percentile', rows=[9]), grpname=None, colname='Percentile', rownum=9, colnum=None, styles=[CellStyleText(color='#000000', font=None, size=None, align=None, v_align=None, style=None, weight=None, stretch=None, decorate=None, transform=None, whitespace=None), CellStyleFill(color='#e6ddee')]), StyleInfo(locname=LocBody(columns='Percentile', rows=[10]), grpname=None, colname='Percentile', rownum=10, colnum=None, styles=[CellStyleText(color='#000000', font=None, size=None, align=None, v_align=None, style=None, weight=None, stretch=None, decorate=None, transform=None, whitespace=None), CellStyleFill(color='#e0d6eb')]), StyleInfo(locname=LocBody(columns='Percentile', rows=[11]), grpname=None, colname='Percentile', rownum=11, colnum=None, styles=[CellStyleText(color='#000000', font=None, size=None, align=None, v_align=None, style=None, weight=None, stretch=None, decorate=None, transform=None, whitespace=None), CellStyleFill(color='#e0d6eb')]), StyleInfo(locname=LocBody(columns='Percentile', rows=[12]), grpname=None, colname='Percentile', rownum=12, colnum=None, styles=[CellStyleText(color='#000000', font=None, size=None, align=None, v_align=None, style=None, weight=None, stretch=None, decorate=None, transform=None, whitespace=None), CellStyleFill(color='#dbcfe7')]), StyleInfo(locname=LocBody(columns='Percentile', rows=[13]), grpname=None, colname='Percentile', rownum=13, colnum=None, styles=[CellStyleText(color='#000000', font=None, size=None, align=None, v_align=None, style=None, weight=None, stretch=None, decorate=None, transform=None, whitespace=None), CellStyleFill(color='#d6c9e4')]), StyleInfo(locname=LocBody(columns='Percentile', rows=[14]), grpname=None, colname='Percentile', rownum=14, colnum=None, styles=[CellStyleText(color='#000000', font=None, size=None, align=None, v_align=None, style=None, weight=None, stretch=None, decorate=None, transform=None, whitespace=None), CellStyleFill(color='#ccbbdd')]), StyleInfo(locname=LocBody(columns='Percentile', rows=[15]), grpname=None, colname='Percentile', rownum=15, colnum=None, styles=[CellStyleText(color='#000000', font=None, size=None, align=None, v_align=None, style=None, weight=None, stretch=None, decorate=None, transform=None, whitespace=None), CellStyleFill(color='#c7b4da')]), StyleInfo(locname=LocBody(columns='Percentile', rows=[16]), grpname=None, colname='Percentile', rownum=16, colnum=None, styles=[CellStyleText(color='#000000', font=None, size=None, align=None, v_align=None, style=None, weight=None, stretch=None, decorate=None, transform=None, whitespace=None), CellStyleFill(color='#bea9d4')]), StyleInfo(locname=LocBody(columns='Percentile', rows=[17]), grpname=None, colname='Percentile', rownum=17, colnum=None, styles=[CellStyleText(color='#000000', font=None, size=None, align=None, v_align=None, style=None, weight=None, stretch=None, decorate=None, transform=None, whitespace=None), CellStyleFill(color='#ad92c9')]), StyleInfo(locname=LocBody(columns='Percentile', rows=[18]), grpname=None, colname='Percentile', rownum=18, colnum=None, styles=[CellStyleText(color='#000000', font=None, size=None, align=None, v_align=None, style=None, weight=None, stretch=None, decorate=None, transform=None, whitespace=None), CellStyleFill(color='#9977bb')])], _locale=<great_tables._gt_data.Locale object at 0x10db32210>, _formats=[<great_tables._gt_data.FormatInfo object at 0x10e4aa4c0>], _substitutions=[], _options=Options(table_id=OptionsInfo(scss=False, category='table', type='value', value=None), table_caption=OptionsInfo(scss=False, category='table', type='value', value=None), table_width=OptionsInfo(scss=True, category='table', type='px', value='auto'), table_layout=OptionsInfo(scss=True, category='table', type='value', value='fixed'), table_margin_left=OptionsInfo(scss=True, category='table', type='px', value='auto'), table_margin_right=OptionsInfo(scss=True, category='table', type='px', value='auto'), table_background_color=OptionsInfo(scss=True, category='table', type='value', value='#FFFFFF'), table_additional_css=OptionsInfo(scss=False, category='table', type='values', value=[]), table_font_names=OptionsInfo(scss=False, category='table', type='values', value=['-apple-system', 'BlinkMacSystemFont', 'Segoe UI', 'Roboto', 'Oxygen', 'Ubuntu', 'Cantarell', 'Helvetica Neue', 'Fira Sans', 'Droid Sans', 'Arial', 'sans-serif']), table_font_size=OptionsInfo(scss=True, category='table', type='px', value='16px'), table_font_weight=OptionsInfo(scss=True, category='table', type='value', value='normal'), table_font_style=OptionsInfo(scss=True, category='table', type='value', value='normal'), table_font_color=OptionsInfo(scss=True, category='table', type='value', value='#333333'), table_font_color_light=OptionsInfo(scss=True, category='table', type='value', value='#FFFFFF'), table_border_top_include=OptionsInfo(scss=False, category='table', type='boolean', value=True), table_border_top_style=OptionsInfo(scss=True, category='table', type='value', value='solid'), table_border_top_width=OptionsInfo(scss=True, category='table', type='px', value='2px'), table_border_top_color=OptionsInfo(scss=True, category='table', type='value', value='#A8A8A8'), table_border_right_style=OptionsInfo(scss=True, category='table', type='value', value='none'), table_border_right_width=OptionsInfo(scss=True, category='table', type='px', value='2px'), table_border_right_color=OptionsInfo(scss=True, category='table', type='value', value='#D3D3D3'), table_border_bottom_include=OptionsInfo(scss=False, category='table', type='boolean', value=True), table_border_bottom_style=OptionsInfo(scss=True, category='table', type='value', value='solid'), table_border_bottom_width=OptionsInfo(scss=True, category='table', type='px', value='2px'), table_border_bottom_color=OptionsInfo(scss=True, category='table', type='value', value='#A8A8A8'), table_border_left_style=OptionsInfo(scss=True, category='table', type='value', value='none'), table_border_left_width=OptionsInfo(scss=True, category='table', type='px', value='2px'), table_border_left_color=OptionsInfo(scss=True, category='table', type='value', value='#D3D3D3'), heading_background_color=OptionsInfo(scss=True, category='heading', type='value', value=None), heading_align=OptionsInfo(scss=True, category='heading', type='value', value='center'), heading_title_font_size=OptionsInfo(scss=True, category='heading', type='px', value='125%'), heading_title_font_weight=OptionsInfo(scss=True, category='heading', type='value', value='initial'), heading_subtitle_font_size=OptionsInfo(scss=True, category='heading', type='px', value='85%'), heading_subtitle_font_weight=OptionsInfo(scss=True, category='heading', type='value', value='initial'), heading_padding=OptionsInfo(scss=True, category='heading', type='px', value='4px'), heading_padding_horizontal=OptionsInfo(scss=True, category='heading', type='px', value='5px'), heading_border_bottom_style=OptionsInfo(scss=True, category='heading', type='value', value='solid'), heading_border_bottom_width=OptionsInfo(scss=True, category='heading', type='px', value='2px'), heading_border_bottom_color=OptionsInfo(scss=True, category='heading', type='value', value='#D3D3D3'), heading_border_lr_style=OptionsInfo(scss=True, category='heading', type='value', value='none'), heading_border_lr_width=OptionsInfo(scss=True, category='heading', type='px', value='1px'), heading_border_lr_color=OptionsInfo(scss=True, category='heading', type='value', value='#D3D3D3'), column_labels_background_color=OptionsInfo(scss=True, category='column_labels', type='value', value=None), column_labels_font_size=OptionsInfo(scss=True, category='column_labels', type='px', value='100%'), column_labels_font_weight=OptionsInfo(scss=True, category='column_labels', type='value', value='normal'), column_labels_text_transform=OptionsInfo(scss=True, category='column_labels', type='value', value='inherit'), column_labels_padding=OptionsInfo(scss=True, category='column_labels', type='px', value='5px'), column_labels_padding_horizontal=OptionsInfo(scss=True, category='column_labels', type='px', value='5px'), column_labels_vlines_style=OptionsInfo(scss=True, category='table_body', type='value', value='none'), column_labels_vlines_width=OptionsInfo(scss=True, category='table_body', type='px', value='1px'), column_labels_vlines_color=OptionsInfo(scss=True, category='table_body', type='value', value='#D3D3D3'), column_labels_border_top_style=OptionsInfo(scss=True, category='column_labels', type='value', value='solid'), column_labels_border_top_width=OptionsInfo(scss=True, category='column_labels', type='px', value='2px'), column_labels_border_top_color=OptionsInfo(scss=True, category='column_labels', type='value', value='#D3D3D3'), column_labels_border_bottom_style=OptionsInfo(scss=True, category='column_labels', type='value', value='solid'), column_labels_border_bottom_width=OptionsInfo(scss=True, category='column_labels', type='px', value='2px'), column_labels_border_bottom_color=OptionsInfo(scss=True, category='column_labels', type='value', value='#D3D3D3'), column_labels_border_lr_style=OptionsInfo(scss=True, category='column_labels', type='value', value='none'), column_labels_border_lr_width=OptionsInfo(scss=True, category='column_labels', type='px', value='1px'), column_labels_border_lr_color=OptionsInfo(scss=True, category='column_labels', type='value', value='#D3D3D3'), column_labels_hidden=OptionsInfo(scss=False, category='column_labels', type='boolean', value=False), row_group_background_color=OptionsInfo(scss=True, category='row_group', type='value', value=None), row_group_font_size=OptionsInfo(scss=True, category='row_group', type='px', value='100%'), row_group_font_weight=OptionsInfo(scss=True, category='row_group', type='value', value='initial'), row_group_text_transform=OptionsInfo(scss=True, category='row_group', type='value', value='inherit'), row_group_padding=OptionsInfo(scss=True, category='row_group', type='px', value='8px'), row_group_padding_horizontal=OptionsInfo(scss=True, category='row_group', type='px', value='5px'), row_group_border_top_style=OptionsInfo(scss=True, category='row_group', type='value', value='solid'), row_group_border_top_width=OptionsInfo(scss=True, category='row_group', type='px', value='2px'), row_group_border_top_color=OptionsInfo(scss=True, category='row_group', type='value', value='#D3D3D3'), row_group_border_right_style=OptionsInfo(scss=True, category='row_group', type='value', value='none'), row_group_border_right_width=OptionsInfo(scss=True, category='row_group', type='px', value='1px'), row_group_border_right_color=OptionsInfo(scss=True, category='row_group', type='value', value='#D3D3D3'), row_group_border_bottom_style=OptionsInfo(scss=True, category='row_group', type='value', value='solid'), row_group_border_bottom_width=OptionsInfo(scss=True, category='row_group', type='px', value='2px'), row_group_border_bottom_color=OptionsInfo(scss=True, category='row_group', type='value', value='#D3D3D3'), row_group_border_left_style=OptionsInfo(scss=True, category='row_group', type='value', value='none'), row_group_border_left_width=OptionsInfo(scss=True, category='row_group', type='px', value='1px'), row_group_border_left_color=OptionsInfo(scss=True, category='row_group', type='value', value='#D3D3D3'), row_group_as_column=OptionsInfo(scss=False, category='row_group', type='boolean', value=False), table_body_hlines_style=OptionsInfo(scss=True, category='table_body', type='value', value='solid'), table_body_hlines_width=OptionsInfo(scss=True, category='table_body', type='px', value='1px'), table_body_hlines_color=OptionsInfo(scss=True, category='table_body', type='value', value='#D3D3D3'), table_body_vlines_style=OptionsInfo(scss=True, category='table_body', type='value', value='none'), table_body_vlines_width=OptionsInfo(scss=True, category='table_body', type='px', value='1px'), table_body_vlines_color=OptionsInfo(scss=True, category='table_body', type='value', value='#D3D3D3'), table_body_border_top_style=OptionsInfo(scss=True, category='table_body', type='value', value='solid'), table_body_border_top_width=OptionsInfo(scss=True, category='table_body', type='px', value='2px'), table_body_border_top_color=OptionsInfo(scss=True, category='table_body', type='value', value='#D3D3D3'), table_body_border_bottom_style=OptionsInfo(scss=True, category='table_body', type='value', value='solid'), table_body_border_bottom_width=OptionsInfo(scss=True, category='table_body', type='px', value='2px'), table_body_border_bottom_color=OptionsInfo(scss=True, category='table_body', type='value', value='#D3D3D3'), data_row_padding=OptionsInfo(scss=True, category='data_row', type='px', value='8px'), data_row_padding_horizontal=OptionsInfo(scss=True, category='data_row', type='px', value='5px'), stub_background_color=OptionsInfo(scss=True, category='stub', type='value', value=None), stub_font_size=OptionsInfo(scss=True, category='stub', type='px', value='100%'), stub_font_weight=OptionsInfo(scss=True, category='stub', type='value', value='initial'), stub_text_transform=OptionsInfo(scss=True, category='stub', type='value', value='inherit'), stub_border_style=OptionsInfo(scss=True, category='stub', type='value', value='solid'), stub_border_width=OptionsInfo(scss=True, category='stub', type='px', value='2px'), stub_border_color=OptionsInfo(scss=True, category='stub', type='value', value='#D3D3D3'), stub_row_group_background_color=OptionsInfo(scss=True, category='stub', type='value', value=None), stub_row_group_font_size=OptionsInfo(scss=True, category='stub', type='px', value='100%'), stub_row_group_font_weight=OptionsInfo(scss=True, category='stub', type='value', value='initial'), stub_row_group_text_transform=OptionsInfo(scss=True, category='stub', type='value', value='inherit'), stub_row_group_border_style=OptionsInfo(scss=True, category='stub', type='value', value='solid'), stub_row_group_border_width=OptionsInfo(scss=True, category='stub', type='px', value='2px'), stub_row_group_border_color=OptionsInfo(scss=True, category='stub', type='value', value='#D3D3D3'), source_notes_padding=OptionsInfo(scss=True, category='source_notes', type='px', value='4px'), source_notes_padding_horizontal=OptionsInfo(scss=True, category='source_notes', type='px', value='5px'), source_notes_background_color=OptionsInfo(scss=True, category='source_notes', type='value', value=None), source_notes_font_size=OptionsInfo(scss=True, category='source_notes', type='px', value='90%'), source_notes_border_bottom_style=OptionsInfo(scss=True, category='source_notes', type='value', value='none'), source_notes_border_bottom_width=OptionsInfo(scss=True, category='source_notes', type='px', value='2px'), source_notes_border_bottom_color=OptionsInfo(scss=True, category='source_notes', type='value', value='#D3D3D3'), source_notes_border_lr_style=OptionsInfo(scss=True, category='source_notes', type='value', value='none'), source_notes_border_lr_width=OptionsInfo(scss=True, category='source_notes', type='px', value='2px'), source_notes_border_lr_color=OptionsInfo(scss=True, category='source_notes', type='value', value='#D3D3D3'), source_notes_multiline=OptionsInfo(scss=False, category='source_notes', type='boolean', value=True), source_notes_sep=OptionsInfo(scss=False, category='source_notes', type='value', value=' '), row_striping_background_color=OptionsInfo(scss=True, category='row', type='value', value='rgba(128,128,128,0.05)'), row_striping_include_stub=OptionsInfo(scss=False, category='row', type='boolean', value=False), row_striping_include_table_body=OptionsInfo(scss=False, category='row', type='boolean', value=False), container_width=OptionsInfo(scss=False, category='container', type='px', value='auto'), container_height=OptionsInfo(scss=False, category='container', type='px', value='auto'), container_padding_x=OptionsInfo(scss=False, category='container', type='px', value='0px'), container_padding_y=OptionsInfo(scss=False, category='container', type='px', value='10px'), container_overflow_x=OptionsInfo(scss=False, category='container', type='overflow', value='auto'), container_overflow_y=OptionsInfo(scss=False, category='container', type='overflow', value='auto'), quarto_disable_processing=OptionsInfo(scss=False, category='quarto', type='logical', value=False), quarto_use_bootstrap=OptionsInfo(scss=False, category='quarto', type='logical', value=False)), _has_built=False)"
      ]
     },
     "execution_count": 53,
     "metadata": {},
     "output_type": "execute_result"
    }
   ],
   "source": [
    "percentiles = np.arange(5, 96, 5)\n",
    "\n",
    "percentile_values = np.percentile(alpha_vol.select('volume').collect(), percentiles)\n",
    "\n",
    "percentile_df = pl.DataFrame({'Percentile Level': percentiles,\n",
    "                              'Percentile': percentile_values})\n",
    "\n",
    "(\n",
    "    GT(percentile_df, rowname_col='Percentile Level')\n",
    "    .tab_header(title='Alpha Volume Percentile')\n",
    "    .tab_stubhead(label=\"Percentile Level\")\n",
    "    .fmt_number()\n",
    "    .data_color(\n",
    "        domain=[0, 15],\n",
    "        palette=['white', 'rebeccapurple']\n",
    "    )  \n",
    ")"
   ]
  },
  {
   "cell_type": "code",
   "execution_count": 54,
   "metadata": {},
   "outputs": [
    {
     "data": {
      "application/vnd.vegalite.v5+json": {
       "$schema": "https://vega.github.io/schema/vega-lite/v5.20.1.json",
       "config": {
        "view": {
         "continuousHeight": 300,
         "continuousWidth": 300
        }
       },
       "data": {
        "name": "data-41598463f42ee2f2c87be52310ff706e"
       },
       "datasets": {
        "data-41598463f42ee2f2c87be52310ff706e": [
         {
          "% of Total": 0.06897865853658537,
          "Frequency": 181,
          "cut": "5 - 6"
         },
         {
          "% of Total": 0.028201219512195123,
          "Frequency": 74,
          "cut": "8 - 9"
         },
         {
          "% of Total": 0.1714939024390244,
          "Frequency": 450,
          "cut": "2 - 3"
         },
         {
          "% of Total": 0.0506859756097561,
          "Frequency": 133,
          "cut": "6 - 7"
         },
         {
          "% of Total": 0.12347560975609756,
          "Frequency": 324,
          "cut": "0 - 1"
         },
         {
          "% of Total": 0.07507621951219512,
          "Frequency": 197,
          "cut": "9 - ∞"
         },
         {
          "% of Total": 0.1284298780487805,
          "Frequency": 337,
          "cut": "3 - 4"
         },
         {
          "% of Total": 0.0350609756097561,
          "Frequency": 92,
          "cut": "7 - 8"
         },
         {
          "% of Total": 0.08155487804878049,
          "Frequency": 214,
          "cut": "4 - 5"
         },
         {
          "% of Total": 0.23704268292682928,
          "Frequency": 622,
          "cut": "1 - 2"
         }
        ]
       },
       "encoding": {
        "x": {
         "axis": {
          "labelAngle": 0,
          "title": "Brand Volume Purchase ($)"
         },
         "field": "cut",
         "sort": [
          "-1 - 0",
          "0 - 1",
          "1 - 2",
          "2 - 3",
          "3 - 4",
          "4 - 5",
          "5 - 6",
          "6 - 7",
          "7 - 8",
          "8 - 9",
          "9 - ∞"
         ],
         "type": "ordinal"
        },
        "y": {
         "axis": {
          "format": ".0%",
          "title": "% of Households"
         },
         "field": "% of Total",
         "type": "quantitative"
        }
       },
       "height": 250,
       "mark": {
        "type": "bar"
       },
       "title": {
        "subtitle": "Distribution of Alpha volume purchases across brand buyers",
        "text": "Alpha Brand Volume Purchase Distribution (%)"
       },
       "width": 650
      },
      "text/plain": [
       "<VegaLite 5 object>\n",
       "\n",
       "If you see this message, it means the renderer has not been properly enabled\n",
       "for the frontend that you are using. For more information, see\n",
       "https://altair-viz.github.io/user_guide/display_frontends.html#troubleshooting\n"
      ]
     },
     "metadata": {},
     "output_type": "display_data"
    }
   ],
   "source": [
    "labels = [f\"{lb} - {lb + 1 if lb != 9 else '∞'}\" for lb in range(-1, 10, 1)]\n",
    "\n",
    "chart = freq_dist_plot(\n",
    "    data=alpha_vol,\n",
    "    column=\"volume\",\n",
    "    bin_edges=np.arange(0, 10, 1),\n",
    "    labels=labels,\n",
    "    x_title=\"Brand Volume Purchase ($)\",\n",
    "    y_title=\"% of Households\",\n",
    "    chart_title=\"Alpha Brand Volume Purchase Distribution (%)\",\n",
    "    subtitle=\"Distribution of Alpha volume purchases across brand buyers\"\n",
    ")\n",
    "chart.show()"
   ]
  },
  {
   "cell_type": "markdown",
   "metadata": {},
   "source": [
    "##### Garbage Collect"
   ]
  },
  {
   "cell_type": "code",
   "execution_count": 55,
   "metadata": {},
   "outputs": [
    {
     "data": {
      "text/plain": [
       "207"
      ]
     },
     "execution_count": 55,
     "metadata": {},
     "output_type": "execute_result"
    }
   ],
   "source": [
    "exceptions = ['grocery_lf', 'sku_lf', 'kiwi_lf', 'In', 'exceptions', 'active_variables',\n",
    "              'penetration', 'ppb', 'panel_size']\n",
    "\n",
    "active_variables = [\n",
    "    var for var, value in globals().items()\n",
    "    if not var.startswith('_')   # Exclude variables that start with \"_\"\n",
    "    and var not in exceptions    # Exclude variables in the exceptions list\n",
    "    and isinstance(value, (pl.LazyFrame, pl.DataFrame, pl.Series, alt.Chart, alt.LayerChart, list, int, float, str, np.ndarray, np.int64, np.float32))  # Remove these types only\n",
    "]\n",
    "\n",
    "for var in active_variables:\n",
    "    del globals()[var]\n",
    "del active_variables, exceptions, var\n",
    "\n",
    "gc.collect()"
   ]
  },
  {
   "cell_type": "markdown",
   "metadata": {},
   "source": [
    "#### Performing a Basic Decile Analysis"
   ]
  },
  {
   "cell_type": "markdown",
   "metadata": {},
   "source": [
    "##### Decile analysis of category buying behaviour - Decile based on category buyers"
   ]
  },
  {
   "cell_type": "code",
   "execution_count": 56,
   "metadata": {},
   "outputs": [
    {
     "data": {
      "text/html": [
       "<div><style>\n",
       ".dataframe > thead > tr,\n",
       ".dataframe > tbody > tr {\n",
       "  text-align: right;\n",
       "  white-space: pre-wrap;\n",
       "}\n",
       "</style>\n",
       "<small>shape: (4_574, 4)</small><table border=\"1\" class=\"dataframe\"><thead><tr><th>panel_id</th><th>spend</th><th>rank</th><th>decile</th></tr><tr><td>i32</td><td>f32</td><td>u32</td><td>u16</td></tr></thead><tbody><tr><td>3111594</td><td>166.699936</td><td>1</td><td>1</td></tr><tr><td>3119170</td><td>108.829994</td><td>2</td><td>1</td></tr><tr><td>3125418</td><td>102.87001</td><td>3</td><td>1</td></tr><tr><td>3110132</td><td>100.630013</td><td>4</td><td>1</td></tr><tr><td>3109647</td><td>97.37999</td><td>5</td><td>1</td></tr><tr><td>&hellip;</td><td>&hellip;</td><td>&hellip;</td><td>&hellip;</td></tr><tr><td>3128086</td><td>1.49</td><td>4570</td><td>10</td></tr><tr><td>3112878</td><td>1.39</td><td>4571</td><td>10</td></tr><tr><td>3120986</td><td>1.33</td><td>4572</td><td>10</td></tr><tr><td>3104765</td><td>1.29</td><td>4573</td><td>10</td></tr><tr><td>3125737</td><td>1.27</td><td>4574</td><td>10</td></tr></tbody></table></div>"
      ],
      "text/plain": [
       "shape: (4_574, 4)\n",
       "┌──────────┬────────────┬──────┬────────┐\n",
       "│ panel_id ┆ spend      ┆ rank ┆ decile │\n",
       "│ ---      ┆ ---        ┆ ---  ┆ ---    │\n",
       "│ i32      ┆ f32        ┆ u32  ┆ u16    │\n",
       "╞══════════╪════════════╪══════╪════════╡\n",
       "│ 3111594  ┆ 166.699936 ┆ 1    ┆ 1      │\n",
       "│ 3119170  ┆ 108.829994 ┆ 2    ┆ 1      │\n",
       "│ 3125418  ┆ 102.87001  ┆ 3    ┆ 1      │\n",
       "│ 3110132  ┆ 100.630013 ┆ 4    ┆ 1      │\n",
       "│ 3109647  ┆ 97.37999   ┆ 5    ┆ 1      │\n",
       "│ …        ┆ …          ┆ …    ┆ …      │\n",
       "│ 3128086  ┆ 1.49       ┆ 4570 ┆ 10     │\n",
       "│ 3112878  ┆ 1.39       ┆ 4571 ┆ 10     │\n",
       "│ 3120986  ┆ 1.33       ┆ 4572 ┆ 10     │\n",
       "│ 3104765  ┆ 1.29       ┆ 4573 ┆ 10     │\n",
       "│ 3125737  ┆ 1.27       ┆ 4574 ┆ 10     │\n",
       "└──────────┴────────────┴──────┴────────┘"
      ]
     },
     "execution_count": 56,
     "metadata": {},
     "output_type": "execute_result"
    }
   ],
   "source": [
    "# Part 1: Break-tie ranking of total category spend data\n",
    "# Part 2: Decile cuts in ranking\n",
    "buyer_decile = spend_summary(\n",
    "    'Category', grocery_lf, 1\n",
    ").with_columns(\n",
    "    pl.col('spend').rank(method='ordinal', descending=True).alias('rank'),\n",
    ").with_columns(\n",
    "    (np.floor(10 * (pl.col('rank') - 1) / pl.col('rank').max()) + 1).cast(pl.UInt16).alias('decile')\n",
    ").sort('decile', 'rank').collect()\n",
    "\n",
    "buyer_decile"
   ]
  },
  {
   "cell_type": "code",
   "execution_count": null,
   "metadata": {},
   "outputs": [
    {
     "data": {
      "text/html": [
       "<div><style>\n",
       ".dataframe > thead > tr,\n",
       ".dataframe > tbody > tr {\n",
       "  text-align: right;\n",
       "  white-space: pre-wrap;\n",
       "}\n",
       "</style>\n",
       "<small>shape: (10, 8)</small><table border=\"1\" class=\"dataframe\"><thead><tr><th>Decile</th><th>% HH</th><th>% Spend</th><th>% Trans</th><th>Spend/HH</th><th>Cat Trans/HH</th><th>Avg Spend/Trans</th><th># Unique Brands</th></tr><tr><td>u16</td><td>f64</td><td>f32</td><td>f64</td><td>f64</td><td>f64</td><td>f64</td><td>f64</td></tr></thead><tbody><tr><td>1</td><td>0.100131</td><td>0.283613</td><td>0.242786</td><td>44.648476</td><td>10.617904</td><td>4.205018</td><td>1.847162</td></tr><tr><td>2</td><td>0.099913</td><td>0.172067</td><td>0.163005</td><td>27.147378</td><td>7.14442</td><td>3.799801</td><td>1.636761</td></tr><tr><td>3</td><td>0.100131</td><td>0.133154</td><td>0.134548</td><td>20.962076</td><td>5.884279</td><td>3.562386</td><td>1.582969</td></tr><tr><td>4</td><td>0.099913</td><td>0.107161</td><td>0.111083</td><td>16.906979</td><td>4.868709</td><td>3.472579</td><td>1.540481</td></tr><tr><td>5</td><td>0.099913</td><td>0.08755</td><td>0.094708</td><td>13.812933</td><td>4.150985</td><td>3.327628</td><td>1.498906</td></tr><tr><td>6</td><td>0.100131</td><td>0.070741</td><td>0.077833</td><td>11.136638</td><td>3.40393</td><td>3.2717</td><td>1.412664</td></tr><tr><td>7</td><td>0.099913</td><td>0.056896</td><td>0.067099</td><td>8.976631</td><td>2.940919</td><td>3.052322</td><td>1.374179</td></tr><tr><td>8</td><td>0.100131</td><td>0.042816</td><td>0.048777</td><td>6.740415</td><td>2.133188</td><td>3.159785</td><td>1.224891</td></tr><tr><td>9</td><td>0.099913</td><td>0.028881</td><td>0.036895</td><td>4.556586</td><td>1.617068</td><td>2.817808</td><td>1.212254</td></tr><tr><td>10</td><td>0.099913</td><td>0.017122</td><td>0.023265</td><td>2.701423</td><td>1.019694</td><td>2.649249</td><td>1.0</td></tr></tbody></table></div>"
      ],
      "text/plain": [
       "shape: (10, 8)\n",
       "┌────────┬──────────┬──────────┬──────────┬───────────┬──────────────┬──────────────────┬──────────┐\n",
       "│ Decile ┆ % HH     ┆ % Spend  ┆ % Trans  ┆ Spend/HH  ┆ Cat Trans/HH ┆ Avg Spend/Trans  ┆ # Unique │\n",
       "│ ---    ┆ ---      ┆ ---      ┆ ---      ┆ ---       ┆ ---          ┆ ---              ┆ Brands   │\n",
       "│ u16    ┆ f64      ┆ f32      ┆ f64      ┆ f64       ┆ f64          ┆ f64              ┆ ---      │\n",
       "│        ┆          ┆          ┆          ┆           ┆              ┆                  ┆ f64      │\n",
       "╞════════╪══════════╪══════════╪══════════╪═══════════╪══════════════╪══════════════════╪══════════╡\n",
       "│ 1      ┆ 0.100131 ┆ 0.283613 ┆ 0.242786 ┆ 44.648476 ┆ 10.617904    ┆ 4.205018         ┆ 1.847162 │\n",
       "│ 2      ┆ 0.099913 ┆ 0.172067 ┆ 0.163005 ┆ 27.147378 ┆ 7.14442      ┆ 3.799801         ┆ 1.636761 │\n",
       "│ 3      ┆ 0.100131 ┆ 0.133154 ┆ 0.134548 ┆ 20.962076 ┆ 5.884279     ┆ 3.562386         ┆ 1.582969 │\n",
       "│ 4      ┆ 0.099913 ┆ 0.107161 ┆ 0.111083 ┆ 16.906979 ┆ 4.868709     ┆ 3.472579         ┆ 1.540481 │\n",
       "│ 5      ┆ 0.099913 ┆ 0.08755  ┆ 0.094708 ┆ 13.812933 ┆ 4.150985     ┆ 3.327628         ┆ 1.498906 │\n",
       "│ 6      ┆ 0.100131 ┆ 0.070741 ┆ 0.077833 ┆ 11.136638 ┆ 3.40393      ┆ 3.2717           ┆ 1.412664 │\n",
       "│ 7      ┆ 0.099913 ┆ 0.056896 ┆ 0.067099 ┆ 8.976631  ┆ 2.940919     ┆ 3.052322         ┆ 1.374179 │\n",
       "│ 8      ┆ 0.100131 ┆ 0.042816 ┆ 0.048777 ┆ 6.740415  ┆ 2.133188     ┆ 3.159785         ┆ 1.224891 │\n",
       "│ 9      ┆ 0.099913 ┆ 0.028881 ┆ 0.036895 ┆ 4.556586  ┆ 1.617068     ┆ 2.817808         ┆ 1.212254 │\n",
       "│ 10     ┆ 0.099913 ┆ 0.017122 ┆ 0.023265 ┆ 2.701423  ┆ 1.019694     ┆ 2.649249         ┆ 1.0      │\n",
       "└────────┴──────────┴──────────┴──────────┴───────────┴──────────────┴──────────────────┴──────────┘"
      ]
     },
     "execution_count": 57,
     "metadata": {},
     "output_type": "execute_result"
    }
   ],
   "source": [
    "# Helper functions\n",
    "def calculate_percentage(series):\n",
    "    return series / series.sum()\n",
    "\n",
    "def group_aggregate(data, group_col, agg_col, agg_expr):\n",
    "    return data.group_by(group_col).agg(agg_expr(pl.col(agg_col)))\n",
    "\n",
    "# Decile table creation\n",
    "decile_tab = buyer_decile.select(\"decile\").unique().sort(\"decile\").rename({\"decile\": \"Decile\"})\n",
    "\n",
    "# Populate decile statistics\n",
    "# Decile counts and % HH\n",
    "decile_counts = group_aggregate(buyer_decile, 'decile', 'panel_id', pl.Expr.count)\n",
    "decile_tab.insert_column(1, pl.lit(calculate_percentage(decile_counts['panel_id'])).alias('% HH')) \n",
    "\n",
    "# % Spend\n",
    "decile_spend = group_aggregate(buyer_decile, 'decile', 'spend', pl.Expr.sum)\n",
    "decile_tab.insert_column(2, pl.lit(calculate_percentage(decile_spend['spend'])).alias('% Spend')) \n",
    "\n",
    "# % Transactions\n",
    "group_trans = trans_summary('Category', grocery_lf, 1).collect().join(\n",
    "    other=buyer_decile.group_by('panel_id').agg(pl.col('decile').sum()),\n",
    "    on='panel_id'\n",
    ").sort('decile')\n",
    "decile_trans = group_aggregate(group_trans, 'decile', '# of Purchases', pl.Expr.sum)\n",
    "decile_tab.insert_column(3, pl.lit(calculate_percentage(decile_trans['# of Purchases'])).alias('% Trans')) \n",
    "\n",
    "# Spend/HH, Cat Trans/HH, Avg Spend/Trans\n",
    "decile_tab.insert_column(4, pl.lit(decile_spend['spend'] / decile_counts['panel_id']).alias('Spend/HH'))\n",
    "decile_tab.insert_column(5, pl.lit(decile_trans['# of Purchases'] / decile_counts['panel_id']).alias('Cat Trans/HH'))\n",
    "decile_tab.insert_column(6, pl.lit(decile_spend['spend'] / decile_trans['# of Purchases']).alias('Avg Spend/Trans'))\n",
    "\n",
    "# Unique Brands Purchased\n",
    "unique_brands = group_aggregate(group_trans, 'decile', 'Brands Purchased', pl.Expr.mean)\n",
    "decile_tab.insert_column(7, pl.lit(unique_brands['Brands Purchased']).alias('# Unique Brands'))\n",
    "\n",
    "(\n",
    "    GT(decile_tab, rowname_col='Decile')\n",
    "    .tab_header(title='Decile Analysis of Category Buying Behavior',\n",
    "                subtitle= 'Each decile equals 10% category buyers')\n",
    "    .tab_stubhead(label=\"Decile\")\n",
    "    .fmt_percent(columns=['% HH', '% Spend', '% Trans'], decimals=1)\n",
    "    .fmt_number(columns=['Cat Trans/HH', '# Unique Brands'])\n",
    "    .fmt_currency(columns=['Spend/HH','Avg Spend/Trans'])\n",
    ")"
   ]
  },
  {
   "cell_type": "markdown",
   "metadata": {},
   "source": [
    "##### Decile analysis of category buying behaviour - Decile based on category spend/revenue"
   ]
  },
  {
   "cell_type": "code",
   "execution_count": 61,
   "metadata": {},
   "outputs": [
    {
     "data": {
      "text/html": [
       "<div><style>\n",
       ".dataframe > thead > tr,\n",
       ".dataframe > tbody > tr {\n",
       "  text-align: right;\n",
       "  white-space: pre-wrap;\n",
       "}\n",
       "</style>\n",
       "<small>shape: (4_574, 4)</small><table border=\"1\" class=\"dataframe\"><thead><tr><th>panel_id</th><th>spend</th><th>cum sum</th><th>decile</th></tr><tr><td>i32</td><td>f32</td><td>f32</td><td>u16</td></tr></thead><tbody><tr><td>3111594</td><td>166.699936</td><td>166.699936</td><td>1</td></tr><tr><td>3119170</td><td>108.829994</td><td>275.529938</td><td>1</td></tr><tr><td>3125418</td><td>102.87001</td><td>378.399963</td><td>1</td></tr><tr><td>3110132</td><td>100.630013</td><td>479.029968</td><td>1</td></tr><tr><td>3109647</td><td>97.37999</td><td>576.409973</td><td>1</td></tr><tr><td>&hellip;</td><td>&hellip;</td><td>&hellip;</td><td>&hellip;</td></tr><tr><td>3128086</td><td>1.49</td><td>72096.984375</td><td>10</td></tr><tr><td>3112878</td><td>1.39</td><td>72098.375</td><td>10</td></tr><tr><td>3120986</td><td>1.33</td><td>72099.703125</td><td>10</td></tr><tr><td>3104765</td><td>1.29</td><td>72100.992188</td><td>10</td></tr><tr><td>3125737</td><td>1.27</td><td>72102.265625</td><td>10</td></tr></tbody></table></div>"
      ],
      "text/plain": [
       "shape: (4_574, 4)\n",
       "┌──────────┬────────────┬──────────────┬────────┐\n",
       "│ panel_id ┆ spend      ┆ cum sum      ┆ decile │\n",
       "│ ---      ┆ ---        ┆ ---          ┆ ---    │\n",
       "│ i32      ┆ f32        ┆ f32          ┆ u16    │\n",
       "╞══════════╪════════════╪══════════════╪════════╡\n",
       "│ 3111594  ┆ 166.699936 ┆ 166.699936   ┆ 1      │\n",
       "│ 3119170  ┆ 108.829994 ┆ 275.529938   ┆ 1      │\n",
       "│ 3125418  ┆ 102.87001  ┆ 378.399963   ┆ 1      │\n",
       "│ 3110132  ┆ 100.630013 ┆ 479.029968   ┆ 1      │\n",
       "│ 3109647  ┆ 97.37999   ┆ 576.409973   ┆ 1      │\n",
       "│ …        ┆ …          ┆ …            ┆ …      │\n",
       "│ 3128086  ┆ 1.49       ┆ 72096.984375 ┆ 10     │\n",
       "│ 3112878  ┆ 1.39       ┆ 72098.375    ┆ 10     │\n",
       "│ 3120986  ┆ 1.33       ┆ 72099.703125 ┆ 10     │\n",
       "│ 3104765  ┆ 1.29       ┆ 72100.992188 ┆ 10     │\n",
       "│ 3125737  ┆ 1.27       ┆ 72102.265625 ┆ 10     │\n",
       "└──────────┴────────────┴──────────────┴────────┘"
      ]
     },
     "execution_count": 61,
     "metadata": {},
     "output_type": "execute_result"
    }
   ],
   "source": [
    "spend_total = spend_summary('Category', grocery_lf, 1).select(pl.col('spend')).sum().collect().to_series()[0]\n",
    "breaks = np.arange(0, spend_total, spend_total/10)\n",
    "labels = [f'{i}' for i in range(0, 11, 1)]\n",
    "\n",
    "spend_decile = spend_summary(\n",
    "    'Category', grocery_lf, 1\n",
    ").sort(\n",
    "    'spend', descending=True\n",
    ").with_columns(\n",
    "    pl.col('spend').cum_sum().alias('cum sum')\n",
    ").with_columns(\n",
    "    pl.col('cum sum').cut(\n",
    "        breaks=breaks,\n",
    "        labels=labels\n",
    "    ).cast(pl.UInt16).alias('decile')\n",
    ").sort('decile').collect()\n",
    "\n",
    "spend_decile"
   ]
  },
  {
   "cell_type": "code",
   "execution_count": 62,
   "metadata": {},
   "outputs": [
    {
     "data": {
      "text/html": [
       "<div id=\"puzvosfije\" style=\"padding-left:0px;padding-right:0px;padding-top:10px;padding-bottom:10px;overflow-x:auto;overflow-y:auto;width:auto;height:auto;\">\n",
       "<style>\n",
       "#puzvosfije table {\n",
       "          font-family: -apple-system, BlinkMacSystemFont, 'Segoe UI', Roboto, Oxygen, Ubuntu, Cantarell, 'Helvetica Neue', 'Fira Sans', 'Droid Sans', Arial, sans-serif;\n",
       "          -webkit-font-smoothing: antialiased;\n",
       "          -moz-osx-font-smoothing: grayscale;\n",
       "        }\n",
       "\n",
       "#puzvosfije thead, tbody, tfoot, tr, td, th { border-style: none !important; }\n",
       " tr { background-color: transparent !important; }\n",
       "#puzvosfije p { margin: 0 !important; padding: 0 !important; }\n",
       " #puzvosfije .gt_table { display: table !important; border-collapse: collapse !important; line-height: normal !important; margin-left: auto !important; margin-right: auto !important; color: #333333 !important; font-size: 16px !important; font-weight: normal !important; font-style: normal !important; background-color: #FFFFFF !important; width: auto !important; border-top-style: solid !important; border-top-width: 2px !important; border-top-color: #A8A8A8 !important; border-right-style: none !important; border-right-width: 2px !important; border-right-color: #D3D3D3 !important; border-bottom-style: solid !important; border-bottom-width: 2px !important; border-bottom-color: #A8A8A8 !important; border-left-style: none !important; border-left-width: 2px !important; border-left-color: #D3D3D3 !important; }\n",
       " #puzvosfije .gt_caption { padding-top: 4px !important; padding-bottom: 4px !important; }\n",
       " #puzvosfije .gt_title { color: #333333 !important; font-size: 125% !important; font-weight: initial !important; padding-top: 4px !important; padding-bottom: 4px !important; padding-left: 5px !important; padding-right: 5px !important; border-bottom-color: #FFFFFF !important; border-bottom-width: 0 !important; }\n",
       " #puzvosfije .gt_subtitle { color: #333333 !important; font-size: 85% !important; font-weight: initial !important; padding-top: 3px !important; padding-bottom: 5px !important; padding-left: 5px !important; padding-right: 5px !important; border-top-color: #FFFFFF !important; border-top-width: 0 !important; }\n",
       " #puzvosfije .gt_heading { background-color: #FFFFFF !important; text-align: center !important; border-bottom-color: #FFFFFF !important; border-left-style: none !important; border-left-width: 1px !important; border-left-color: #D3D3D3 !important; border-right-style: none !important; border-right-width: 1px !important; border-right-color: #D3D3D3 !important; }\n",
       " #puzvosfije .gt_bottom_border { border-bottom-style: solid !important; border-bottom-width: 2px !important; border-bottom-color: #D3D3D3 !important; }\n",
       " #puzvosfije .gt_col_headings { border-top-style: solid !important; border-top-width: 2px !important; border-top-color: #D3D3D3 !important; border-bottom-style: solid !important; border-bottom-width: 2px !important; border-bottom-color: #D3D3D3 !important; border-left-style: none !important; border-left-width: 1px !important; border-left-color: #D3D3D3 !important; border-right-style: none !important; border-right-width: 1px !important; border-right-color: #D3D3D3 !important; }\n",
       " #puzvosfije .gt_col_heading { color: #333333 !important; background-color: #FFFFFF !important; font-size: 100% !important; font-weight: normal !important; text-transform: inherit !important; border-left-style: none !important; border-left-width: 1px !important; border-left-color: #D3D3D3 !important; border-right-style: none !important; border-right-width: 1px !important; border-right-color: #D3D3D3 !important; vertical-align: bottom !important; padding-top: 5px !important; padding-bottom: 5px !important; padding-left: 5px !important; padding-right: 5px !important; overflow-x: hidden !important; }\n",
       " #puzvosfije .gt_column_spanner_outer { color: #333333 !important; background-color: #FFFFFF !important; font-size: 100% !important; font-weight: normal !important; text-transform: inherit !important; padding-top: 0 !important; padding-bottom: 0 !important; padding-left: 4px !important; padding-right: 4px !important; }\n",
       " #puzvosfije .gt_column_spanner_outer:first-child { padding-left: 0 !important; }\n",
       " #puzvosfije .gt_column_spanner_outer:last-child { padding-right: 0 !important; }\n",
       " #puzvosfije .gt_column_spanner { border-bottom-style: solid !important; border-bottom-width: 2px !important; border-bottom-color: #D3D3D3 !important; vertical-align: bottom !important; padding-top: 5px !important; padding-bottom: 5px !important; overflow-x: hidden !important; display: inline-block !important; width: 100% !important; }\n",
       " #puzvosfije .gt_spanner_row { border-bottom-style: hidden !important; }\n",
       " #puzvosfije .gt_group_heading { padding-top: 8px !important; padding-bottom: 8px !important; padding-left: 5px !important; padding-right: 5px !important; color: #333333 !important; background-color: #FFFFFF !important; font-size: 100% !important; font-weight: initial !important; text-transform: inherit !important; border-top-style: solid !important; border-top-width: 2px !important; border-top-color: #D3D3D3 !important; border-bottom-style: solid !important; border-bottom-width: 2px !important; border-bottom-color: #D3D3D3 !important; border-left-style: none !important; border-left-width: 1px !important; border-left-color: #D3D3D3 !important; border-right-style: none !important; border-right-width: 1px !important; border-right-color: #D3D3D3 !important; vertical-align: middle !important; text-align: left !important; }\n",
       " #puzvosfije .gt_empty_group_heading { padding: 0.5px !important; color: #333333 !important; background-color: #FFFFFF !important; font-size: 100% !important; font-weight: initial !important; border-top-style: solid !important; border-top-width: 2px !important; border-top-color: #D3D3D3 !important; border-bottom-style: solid !important; border-bottom-width: 2px !important; border-bottom-color: #D3D3D3 !important; vertical-align: middle !important; }\n",
       " #puzvosfije .gt_from_md> :first-child { margin-top: 0 !important; }\n",
       " #puzvosfije .gt_from_md> :last-child { margin-bottom: 0 !important; }\n",
       " #puzvosfije .gt_row { padding-top: 8px !important; padding-bottom: 8px !important; padding-left: 5px !important; padding-right: 5px !important; margin: 10px !important; border-top-style: solid !important; border-top-width: 1px !important; border-top-color: #D3D3D3 !important; border-left-style: none !important; border-left-width: 1px !important; border-left-color: #D3D3D3 !important; border-right-style: none !important; border-right-width: 1px !important; border-right-color: #D3D3D3 !important; vertical-align: middle !important; overflow-x: hidden !important; }\n",
       " #puzvosfije .gt_stub { color: #333333 !important; background-color: #FFFFFF !important; font-size: 100% !important; font-weight: initial !important; text-transform: inherit !important; border-right-style: solid !important; border-right-width: 2px !important; border-right-color: #D3D3D3 !important; padding-left: 5px !important; padding-right: 5px !important; }\n",
       " #puzvosfije .gt_stub_row_group { color: #333333 !important; background-color: #FFFFFF !important; font-size: 100% !important; font-weight: initial !important; text-transform: inherit !important; border-right-style: solid !important; border-right-width: 2px !important; border-right-color: #D3D3D3 !important; padding-left: 5px !important; padding-right: 5px !important; vertical-align: top !important; }\n",
       " #puzvosfije .gt_row_group_first td { border-top-width: 2px !important; }\n",
       " #puzvosfije .gt_row_group_first th { border-top-width: 2px !important; }\n",
       " #puzvosfije .gt_striped { background-color: rgba(128,128,128,0.05) !important; }\n",
       " #puzvosfije .gt_table_body { border-top-style: solid !important; border-top-width: 2px !important; border-top-color: #D3D3D3 !important; border-bottom-style: solid !important; border-bottom-width: 2px !important; border-bottom-color: #D3D3D3 !important; }\n",
       " #puzvosfije .gt_sourcenotes { color: #333333 !important; background-color: #FFFFFF !important; border-bottom-style: none !important; border-bottom-width: 2px !important; border-bottom-color: #D3D3D3 !important; border-left-style: none !important; border-left-width: 2px !important; border-left-color: #D3D3D3 !important; border-right-style: none !important; border-right-width: 2px !important; border-right-color: #D3D3D3 !important; }\n",
       " #puzvosfije .gt_sourcenote { font-size: 90% !important; padding-top: 4px !important; padding-bottom: 4px !important; padding-left: 5px !important; padding-right: 5px !important; text-align: left !important; }\n",
       " #puzvosfije .gt_left { text-align: left !important; }\n",
       " #puzvosfije .gt_center { text-align: center !important; }\n",
       " #puzvosfije .gt_right { text-align: right !important; font-variant-numeric: tabular-nums !important; }\n",
       " #puzvosfije .gt_font_normal { font-weight: normal !important; }\n",
       " #puzvosfije .gt_font_bold { font-weight: bold !important; }\n",
       " #puzvosfije .gt_font_italic { font-style: italic !important; }\n",
       " #puzvosfije .gt_super { font-size: 65% !important; }\n",
       " #puzvosfije .gt_footnote_marks { font-size: 75% !important; vertical-align: 0.4em !important; position: initial !important; }\n",
       " #puzvosfije .gt_asterisk { font-size: 100% !important; vertical-align: 0 !important; }\n",
       " \n",
       "</style>\n",
       "<table class=\"gt_table\" data-quarto-disable-processing=\"false\" data-quarto-bootstrap=\"false\">\n",
       "<thead>\n",
       "\n",
       "  <tr class=\"gt_heading\">\n",
       "    <td colspan=\"8\" class=\"gt_heading gt_title gt_font_normal\">Decile Analysis of Category Buying Behavior</td>\n",
       "  </tr>\n",
       "  <tr class=\"gt_heading\">\n",
       "    <td colspan=\"8\" class=\"gt_heading gt_subtitle gt_font_normal gt_bottom_border\">Each decile equals 10% category buyers</td>\n",
       "  </tr>\n",
       "<tr class=\"gt_col_headings\">\n",
       "  <th class=\"gt_col_heading gt_columns_bottom_border gt_left\" rowspan=\"1\" colspan=\"1\" scope=\"col\" id=\"Decile\">Decile</th>\n",
       "  <th class=\"gt_col_heading gt_columns_bottom_border gt_right\" rowspan=\"1\" colspan=\"1\" scope=\"col\" id=\"% HH\">% HH</th>\n",
       "  <th class=\"gt_col_heading gt_columns_bottom_border gt_right\" rowspan=\"1\" colspan=\"1\" scope=\"col\" id=\"% Spend\">% Spend</th>\n",
       "  <th class=\"gt_col_heading gt_columns_bottom_border gt_right\" rowspan=\"1\" colspan=\"1\" scope=\"col\" id=\"% Trans\">% Trans</th>\n",
       "  <th class=\"gt_col_heading gt_columns_bottom_border gt_right\" rowspan=\"1\" colspan=\"1\" scope=\"col\" id=\"Spend/HH\">Spend/HH</th>\n",
       "  <th class=\"gt_col_heading gt_columns_bottom_border gt_right\" rowspan=\"1\" colspan=\"1\" scope=\"col\" id=\"Cat Trans/HH\">Cat Trans/HH</th>\n",
       "  <th class=\"gt_col_heading gt_columns_bottom_border gt_right\" rowspan=\"1\" colspan=\"1\" scope=\"col\" id=\"Avg Spend/Trans\">Avg Spend/Trans</th>\n",
       "  <th class=\"gt_col_heading gt_columns_bottom_border gt_right\" rowspan=\"1\" colspan=\"1\" scope=\"col\" id=\"# Unique Brands\"># Unique Brands</th>\n",
       "</tr>\n",
       "</thead>\n",
       "<tbody class=\"gt_table_body\">\n",
       "  <tr>\n",
       "    <th class=\"gt_row gt_left gt_stub\">1</th>\n",
       "    <td class=\"gt_row gt_right\">2.5%</td>\n",
       "    <td class=\"gt_row gt_right\">10.0%</td>\n",
       "    <td class=\"gt_row gt_right\">7.6%</td>\n",
       "    <td class=\"gt_row gt_right\">$63.77</td>\n",
       "    <td class=\"gt_row gt_right\">13.44</td>\n",
       "    <td class=\"gt_row gt_right\">$4.74</td>\n",
       "    <td class=\"gt_row gt_right\">1.92</td>\n",
       "  </tr>\n",
       "  <tr>\n",
       "    <th class=\"gt_row gt_left gt_stub\">2</th>\n",
       "    <td class=\"gt_row gt_right\">3.7%</td>\n",
       "    <td class=\"gt_row gt_right\">10.0%</td>\n",
       "    <td class=\"gt_row gt_right\">8.9%</td>\n",
       "    <td class=\"gt_row gt_right\">$42.33</td>\n",
       "    <td class=\"gt_row gt_right\">10.50</td>\n",
       "    <td class=\"gt_row gt_right\">$4.03</td>\n",
       "    <td class=\"gt_row gt_right\">1.82</td>\n",
       "  </tr>\n",
       "  <tr>\n",
       "    <th class=\"gt_row gt_left gt_stub\">3</th>\n",
       "    <td class=\"gt_row gt_right\">4.6%</td>\n",
       "    <td class=\"gt_row gt_right\">10.0%</td>\n",
       "    <td class=\"gt_row gt_right\">9.2%</td>\n",
       "    <td class=\"gt_row gt_right\">$33.97</td>\n",
       "    <td class=\"gt_row gt_right\">8.73</td>\n",
       "    <td class=\"gt_row gt_right\">$3.89</td>\n",
       "    <td class=\"gt_row gt_right\">1.78</td>\n",
       "  </tr>\n",
       "  <tr>\n",
       "    <th class=\"gt_row gt_left gt_stub\">4</th>\n",
       "    <td class=\"gt_row gt_right\">5.6%</td>\n",
       "    <td class=\"gt_row gt_right\">10.0%</td>\n",
       "    <td class=\"gt_row gt_right\">9.4%</td>\n",
       "    <td class=\"gt_row gt_right\">$28.21</td>\n",
       "    <td class=\"gt_row gt_right\">7.37</td>\n",
       "    <td class=\"gt_row gt_right\">$3.83</td>\n",
       "    <td class=\"gt_row gt_right\">1.63</td>\n",
       "  </tr>\n",
       "  <tr>\n",
       "    <th class=\"gt_row gt_left gt_stub\">5</th>\n",
       "    <td class=\"gt_row gt_right\">6.6%</td>\n",
       "    <td class=\"gt_row gt_right\">10.0%</td>\n",
       "    <td class=\"gt_row gt_right\">9.9%</td>\n",
       "    <td class=\"gt_row gt_right\">$23.69</td>\n",
       "    <td class=\"gt_row gt_right\">6.49</td>\n",
       "    <td class=\"gt_row gt_right\">$3.65</td>\n",
       "    <td class=\"gt_row gt_right\">1.65</td>\n",
       "  </tr>\n",
       "  <tr>\n",
       "    <th class=\"gt_row gt_left gt_stub\">6</th>\n",
       "    <td class=\"gt_row gt_right\">7.9%</td>\n",
       "    <td class=\"gt_row gt_right\">10.0%</td>\n",
       "    <td class=\"gt_row gt_right\">10.2%</td>\n",
       "    <td class=\"gt_row gt_right\">$20.01</td>\n",
       "    <td class=\"gt_row gt_right\">5.66</td>\n",
       "    <td class=\"gt_row gt_right\">$3.53</td>\n",
       "    <td class=\"gt_row gt_right\">1.57</td>\n",
       "  </tr>\n",
       "  <tr>\n",
       "    <th class=\"gt_row gt_left gt_stub\">7</th>\n",
       "    <td class=\"gt_row gt_right\">9.5%</td>\n",
       "    <td class=\"gt_row gt_right\">10.0%</td>\n",
       "    <td class=\"gt_row gt_right\">10.4%</td>\n",
       "    <td class=\"gt_row gt_right\">$16.66</td>\n",
       "    <td class=\"gt_row gt_right\">4.80</td>\n",
       "    <td class=\"gt_row gt_right\">$3.47</td>\n",
       "    <td class=\"gt_row gt_right\">1.54</td>\n",
       "  </tr>\n",
       "  <tr>\n",
       "    <th class=\"gt_row gt_left gt_stub\">8</th>\n",
       "    <td class=\"gt_row gt_right\">11.7%</td>\n",
       "    <td class=\"gt_row gt_right\">10.0%</td>\n",
       "    <td class=\"gt_row gt_right\">10.9%</td>\n",
       "    <td class=\"gt_row gt_right\">$13.49</td>\n",
       "    <td class=\"gt_row gt_right\">4.08</td>\n",
       "    <td class=\"gt_row gt_right\">$3.31</td>\n",
       "    <td class=\"gt_row gt_right\">1.48</td>\n",
       "  </tr>\n",
       "  <tr>\n",
       "    <th class=\"gt_row gt_left gt_stub\">9</th>\n",
       "    <td class=\"gt_row gt_right\">15.7%</td>\n",
       "    <td class=\"gt_row gt_right\">10.0%</td>\n",
       "    <td class=\"gt_row gt_right\">11.2%</td>\n",
       "    <td class=\"gt_row gt_right\">$10.06</td>\n",
       "    <td class=\"gt_row gt_right\">3.14</td>\n",
       "    <td class=\"gt_row gt_right\">$3.21</td>\n",
       "    <td class=\"gt_row gt_right\">1.39</td>\n",
       "  </tr>\n",
       "  <tr>\n",
       "    <th class=\"gt_row gt_left gt_stub\">10</th>\n",
       "    <td class=\"gt_row gt_right\">32.2%</td>\n",
       "    <td class=\"gt_row gt_right\">10.0%</td>\n",
       "    <td class=\"gt_row gt_right\">12.3%</td>\n",
       "    <td class=\"gt_row gt_right\">$4.89</td>\n",
       "    <td class=\"gt_row gt_right\">1.67</td>\n",
       "    <td class=\"gt_row gt_right\">$2.93</td>\n",
       "    <td class=\"gt_row gt_right\">1.16</td>\n",
       "  </tr>\n",
       "</tbody>\n",
       "\n",
       "\n",
       "</table>\n",
       "\n",
       "</div>\n",
       "        "
      ],
      "text/plain": [
       "GT(_tbl_data=shape: (10, 8)\n",
       "┌────────┬──────────┬──────────┬──────────┬───────────┬──────────────┬──────────────────┬──────────┐\n",
       "│ Decile ┆ % HH     ┆ % Spend  ┆ % Trans  ┆ Spend/HH  ┆ Cat Trans/HH ┆ Avg Spend/Trans  ┆ # Unique │\n",
       "│ ---    ┆ ---      ┆ ---      ┆ ---      ┆ ---       ┆ ---          ┆ ---              ┆ Brands   │\n",
       "│ u16    ┆ f64      ┆ f32      ┆ f64      ┆ f64       ┆ f64          ┆ f64              ┆ ---      │\n",
       "│        ┆          ┆          ┆          ┆           ┆              ┆                  ┆ f64      │\n",
       "╞════════╪══════════╪══════════╪══════════╪═══════════╪══════════════╪══════════════════╪══════════╡\n",
       "│ 1      ┆ 0.024705 ┆ 0.099946 ┆ 0.075836 ┆ 63.772496 ┆ 13.442478    ┆ 4.744103         ┆ 1.920354 │\n",
       "│ 2      ┆ 0.037167 ┆ 0.099811 ┆ 0.089116 ┆ 42.332709 ┆ 10.5         ┆ 4.031687         ┆ 1.823529 │\n",
       "│ 3      ┆ 0.046349 ┆ 0.099887 ┆ 0.092411 ┆ 33.971984 ┆ 8.731132     ┆ 3.890903         ┆ 1.783019 │\n",
       "│ 4      ┆ 0.055969 ┆ 0.100177 ┆ 0.094159 ┆ 28.214609 ┆ 7.3671875    ┆ 3.829767         ┆ 1.628906 │\n",
       "│ 5      ┆ 0.066463 ┆ 0.099893 ┆ 0.098552 ┆ 23.692237 ┆ 6.493421     ┆ 3.648652         ┆ 1.648026 │\n",
       "│ 6      ┆ 0.078924 ┆ 0.100206 ┆ 0.102097 ┆ 20.013875 ┆ 5.66482      ┆ 3.533012         ┆ 1.573407 │\n",
       "│ 7      ┆ 0.094666 ┆ 0.100073 ┆ 0.103744 ┆ 16.663905 ┆ 4.799076     ┆ 3.472315         ┆ 1.535797 │\n",
       "│ 8      ┆ 0.116747 ┆ 0.099911 ┆ 0.108737 ┆ 13.490187 ┆ 4.078652     ┆ 3.307511         ┆ 1.477528 │\n",
       "│ 9      ┆ 0.156756 ┆ 0.100032 ┆ 0.112282 ┆ 10.059274 ┆ 3.136681     ┆ 3.206981         ┆ 1.390516 │\n",
       "│ 10     ┆ 0.322256 ┆ 0.100065 ┆ 0.123065 ┆ 4.894757  ┆ 1.67232      ┆ 2.926925         ┆ 1.162144 │\n",
       "└────────┴──────────┴──────────┴──────────┴───────────┴──────────────┴──────────────────┴──────────┘, _body=<great_tables._gt_data.Body object at 0x10e4bb750>, _boxhead=Boxhead([ColInfo(var='Decile', type=<ColInfoTypeEnum.stub: 2>, column_label='Decile', column_align='center', column_width=None), ColInfo(var='% HH', type=<ColInfoTypeEnum.default: 1>, column_label='% HH', column_align='right', column_width=None), ColInfo(var='% Spend', type=<ColInfoTypeEnum.default: 1>, column_label='% Spend', column_align='right', column_width=None), ColInfo(var='% Trans', type=<ColInfoTypeEnum.default: 1>, column_label='% Trans', column_align='right', column_width=None), ColInfo(var='Spend/HH', type=<ColInfoTypeEnum.default: 1>, column_label='Spend/HH', column_align='right', column_width=None), ColInfo(var='Cat Trans/HH', type=<ColInfoTypeEnum.default: 1>, column_label='Cat Trans/HH', column_align='right', column_width=None), ColInfo(var='Avg Spend/Trans', type=<ColInfoTypeEnum.default: 1>, column_label='Avg Spend/Trans', column_align='right', column_width=None), ColInfo(var='# Unique Brands', type=<ColInfoTypeEnum.default: 1>, column_label='# Unique Brands', column_align='right', column_width=None)]), _stub=<great_tables._gt_data.Stub object at 0x10db322d0>, _spanners=Spanners([]), _heading=Heading(title='Decile Analysis of Category Buying Behavior', subtitle='Each decile equals 10% category buyers', preheader=None), _stubhead='Decile', _source_notes=[], _footnotes=[], _styles=[], _locale=<great_tables._gt_data.Locale object at 0x10db32090>, _formats=[<great_tables._gt_data.FormatInfo object at 0x10db2bd80>, <great_tables._gt_data.FormatInfo object at 0x10e423d90>, <great_tables._gt_data.FormatInfo object at 0x10e420d70>], _substitutions=[], _options=Options(table_id=OptionsInfo(scss=False, category='table', type='value', value=None), table_caption=OptionsInfo(scss=False, category='table', type='value', value=None), table_width=OptionsInfo(scss=True, category='table', type='px', value='auto'), table_layout=OptionsInfo(scss=True, category='table', type='value', value='fixed'), table_margin_left=OptionsInfo(scss=True, category='table', type='px', value='auto'), table_margin_right=OptionsInfo(scss=True, category='table', type='px', value='auto'), table_background_color=OptionsInfo(scss=True, category='table', type='value', value='#FFFFFF'), table_additional_css=OptionsInfo(scss=False, category='table', type='values', value=[]), table_font_names=OptionsInfo(scss=False, category='table', type='values', value=['-apple-system', 'BlinkMacSystemFont', 'Segoe UI', 'Roboto', 'Oxygen', 'Ubuntu', 'Cantarell', 'Helvetica Neue', 'Fira Sans', 'Droid Sans', 'Arial', 'sans-serif']), table_font_size=OptionsInfo(scss=True, category='table', type='px', value='16px'), table_font_weight=OptionsInfo(scss=True, category='table', type='value', value='normal'), table_font_style=OptionsInfo(scss=True, category='table', type='value', value='normal'), table_font_color=OptionsInfo(scss=True, category='table', type='value', value='#333333'), table_font_color_light=OptionsInfo(scss=True, category='table', type='value', value='#FFFFFF'), table_border_top_include=OptionsInfo(scss=False, category='table', type='boolean', value=True), table_border_top_style=OptionsInfo(scss=True, category='table', type='value', value='solid'), table_border_top_width=OptionsInfo(scss=True, category='table', type='px', value='2px'), table_border_top_color=OptionsInfo(scss=True, category='table', type='value', value='#A8A8A8'), table_border_right_style=OptionsInfo(scss=True, category='table', type='value', value='none'), table_border_right_width=OptionsInfo(scss=True, category='table', type='px', value='2px'), table_border_right_color=OptionsInfo(scss=True, category='table', type='value', value='#D3D3D3'), table_border_bottom_include=OptionsInfo(scss=False, category='table', type='boolean', value=True), table_border_bottom_style=OptionsInfo(scss=True, category='table', type='value', value='solid'), table_border_bottom_width=OptionsInfo(scss=True, category='table', type='px', value='2px'), table_border_bottom_color=OptionsInfo(scss=True, category='table', type='value', value='#A8A8A8'), table_border_left_style=OptionsInfo(scss=True, category='table', type='value', value='none'), table_border_left_width=OptionsInfo(scss=True, category='table', type='px', value='2px'), table_border_left_color=OptionsInfo(scss=True, category='table', type='value', value='#D3D3D3'), heading_background_color=OptionsInfo(scss=True, category='heading', type='value', value=None), heading_align=OptionsInfo(scss=True, category='heading', type='value', value='center'), heading_title_font_size=OptionsInfo(scss=True, category='heading', type='px', value='125%'), heading_title_font_weight=OptionsInfo(scss=True, category='heading', type='value', value='initial'), heading_subtitle_font_size=OptionsInfo(scss=True, category='heading', type='px', value='85%'), heading_subtitle_font_weight=OptionsInfo(scss=True, category='heading', type='value', value='initial'), heading_padding=OptionsInfo(scss=True, category='heading', type='px', value='4px'), heading_padding_horizontal=OptionsInfo(scss=True, category='heading', type='px', value='5px'), heading_border_bottom_style=OptionsInfo(scss=True, category='heading', type='value', value='solid'), heading_border_bottom_width=OptionsInfo(scss=True, category='heading', type='px', value='2px'), heading_border_bottom_color=OptionsInfo(scss=True, category='heading', type='value', value='#D3D3D3'), heading_border_lr_style=OptionsInfo(scss=True, category='heading', type='value', value='none'), heading_border_lr_width=OptionsInfo(scss=True, category='heading', type='px', value='1px'), heading_border_lr_color=OptionsInfo(scss=True, category='heading', type='value', value='#D3D3D3'), column_labels_background_color=OptionsInfo(scss=True, category='column_labels', type='value', value=None), column_labels_font_size=OptionsInfo(scss=True, category='column_labels', type='px', value='100%'), column_labels_font_weight=OptionsInfo(scss=True, category='column_labels', type='value', value='normal'), column_labels_text_transform=OptionsInfo(scss=True, category='column_labels', type='value', value='inherit'), column_labels_padding=OptionsInfo(scss=True, category='column_labels', type='px', value='5px'), column_labels_padding_horizontal=OptionsInfo(scss=True, category='column_labels', type='px', value='5px'), column_labels_vlines_style=OptionsInfo(scss=True, category='table_body', type='value', value='none'), column_labels_vlines_width=OptionsInfo(scss=True, category='table_body', type='px', value='1px'), column_labels_vlines_color=OptionsInfo(scss=True, category='table_body', type='value', value='#D3D3D3'), column_labels_border_top_style=OptionsInfo(scss=True, category='column_labels', type='value', value='solid'), column_labels_border_top_width=OptionsInfo(scss=True, category='column_labels', type='px', value='2px'), column_labels_border_top_color=OptionsInfo(scss=True, category='column_labels', type='value', value='#D3D3D3'), column_labels_border_bottom_style=OptionsInfo(scss=True, category='column_labels', type='value', value='solid'), column_labels_border_bottom_width=OptionsInfo(scss=True, category='column_labels', type='px', value='2px'), column_labels_border_bottom_color=OptionsInfo(scss=True, category='column_labels', type='value', value='#D3D3D3'), column_labels_border_lr_style=OptionsInfo(scss=True, category='column_labels', type='value', value='none'), column_labels_border_lr_width=OptionsInfo(scss=True, category='column_labels', type='px', value='1px'), column_labels_border_lr_color=OptionsInfo(scss=True, category='column_labels', type='value', value='#D3D3D3'), column_labels_hidden=OptionsInfo(scss=False, category='column_labels', type='boolean', value=False), row_group_background_color=OptionsInfo(scss=True, category='row_group', type='value', value=None), row_group_font_size=OptionsInfo(scss=True, category='row_group', type='px', value='100%'), row_group_font_weight=OptionsInfo(scss=True, category='row_group', type='value', value='initial'), row_group_text_transform=OptionsInfo(scss=True, category='row_group', type='value', value='inherit'), row_group_padding=OptionsInfo(scss=True, category='row_group', type='px', value='8px'), row_group_padding_horizontal=OptionsInfo(scss=True, category='row_group', type='px', value='5px'), row_group_border_top_style=OptionsInfo(scss=True, category='row_group', type='value', value='solid'), row_group_border_top_width=OptionsInfo(scss=True, category='row_group', type='px', value='2px'), row_group_border_top_color=OptionsInfo(scss=True, category='row_group', type='value', value='#D3D3D3'), row_group_border_right_style=OptionsInfo(scss=True, category='row_group', type='value', value='none'), row_group_border_right_width=OptionsInfo(scss=True, category='row_group', type='px', value='1px'), row_group_border_right_color=OptionsInfo(scss=True, category='row_group', type='value', value='#D3D3D3'), row_group_border_bottom_style=OptionsInfo(scss=True, category='row_group', type='value', value='solid'), row_group_border_bottom_width=OptionsInfo(scss=True, category='row_group', type='px', value='2px'), row_group_border_bottom_color=OptionsInfo(scss=True, category='row_group', type='value', value='#D3D3D3'), row_group_border_left_style=OptionsInfo(scss=True, category='row_group', type='value', value='none'), row_group_border_left_width=OptionsInfo(scss=True, category='row_group', type='px', value='1px'), row_group_border_left_color=OptionsInfo(scss=True, category='row_group', type='value', value='#D3D3D3'), row_group_as_column=OptionsInfo(scss=False, category='row_group', type='boolean', value=False), table_body_hlines_style=OptionsInfo(scss=True, category='table_body', type='value', value='solid'), table_body_hlines_width=OptionsInfo(scss=True, category='table_body', type='px', value='1px'), table_body_hlines_color=OptionsInfo(scss=True, category='table_body', type='value', value='#D3D3D3'), table_body_vlines_style=OptionsInfo(scss=True, category='table_body', type='value', value='none'), table_body_vlines_width=OptionsInfo(scss=True, category='table_body', type='px', value='1px'), table_body_vlines_color=OptionsInfo(scss=True, category='table_body', type='value', value='#D3D3D3'), table_body_border_top_style=OptionsInfo(scss=True, category='table_body', type='value', value='solid'), table_body_border_top_width=OptionsInfo(scss=True, category='table_body', type='px', value='2px'), table_body_border_top_color=OptionsInfo(scss=True, category='table_body', type='value', value='#D3D3D3'), table_body_border_bottom_style=OptionsInfo(scss=True, category='table_body', type='value', value='solid'), table_body_border_bottom_width=OptionsInfo(scss=True, category='table_body', type='px', value='2px'), table_body_border_bottom_color=OptionsInfo(scss=True, category='table_body', type='value', value='#D3D3D3'), data_row_padding=OptionsInfo(scss=True, category='data_row', type='px', value='8px'), data_row_padding_horizontal=OptionsInfo(scss=True, category='data_row', type='px', value='5px'), stub_background_color=OptionsInfo(scss=True, category='stub', type='value', value=None), stub_font_size=OptionsInfo(scss=True, category='stub', type='px', value='100%'), stub_font_weight=OptionsInfo(scss=True, category='stub', type='value', value='initial'), stub_text_transform=OptionsInfo(scss=True, category='stub', type='value', value='inherit'), stub_border_style=OptionsInfo(scss=True, category='stub', type='value', value='solid'), stub_border_width=OptionsInfo(scss=True, category='stub', type='px', value='2px'), stub_border_color=OptionsInfo(scss=True, category='stub', type='value', value='#D3D3D3'), stub_row_group_background_color=OptionsInfo(scss=True, category='stub', type='value', value=None), stub_row_group_font_size=OptionsInfo(scss=True, category='stub', type='px', value='100%'), stub_row_group_font_weight=OptionsInfo(scss=True, category='stub', type='value', value='initial'), stub_row_group_text_transform=OptionsInfo(scss=True, category='stub', type='value', value='inherit'), stub_row_group_border_style=OptionsInfo(scss=True, category='stub', type='value', value='solid'), stub_row_group_border_width=OptionsInfo(scss=True, category='stub', type='px', value='2px'), stub_row_group_border_color=OptionsInfo(scss=True, category='stub', type='value', value='#D3D3D3'), source_notes_padding=OptionsInfo(scss=True, category='source_notes', type='px', value='4px'), source_notes_padding_horizontal=OptionsInfo(scss=True, category='source_notes', type='px', value='5px'), source_notes_background_color=OptionsInfo(scss=True, category='source_notes', type='value', value=None), source_notes_font_size=OptionsInfo(scss=True, category='source_notes', type='px', value='90%'), source_notes_border_bottom_style=OptionsInfo(scss=True, category='source_notes', type='value', value='none'), source_notes_border_bottom_width=OptionsInfo(scss=True, category='source_notes', type='px', value='2px'), source_notes_border_bottom_color=OptionsInfo(scss=True, category='source_notes', type='value', value='#D3D3D3'), source_notes_border_lr_style=OptionsInfo(scss=True, category='source_notes', type='value', value='none'), source_notes_border_lr_width=OptionsInfo(scss=True, category='source_notes', type='px', value='2px'), source_notes_border_lr_color=OptionsInfo(scss=True, category='source_notes', type='value', value='#D3D3D3'), source_notes_multiline=OptionsInfo(scss=False, category='source_notes', type='boolean', value=True), source_notes_sep=OptionsInfo(scss=False, category='source_notes', type='value', value=' '), row_striping_background_color=OptionsInfo(scss=True, category='row', type='value', value='rgba(128,128,128,0.05)'), row_striping_include_stub=OptionsInfo(scss=False, category='row', type='boolean', value=False), row_striping_include_table_body=OptionsInfo(scss=False, category='row', type='boolean', value=False), container_width=OptionsInfo(scss=False, category='container', type='px', value='auto'), container_height=OptionsInfo(scss=False, category='container', type='px', value='auto'), container_padding_x=OptionsInfo(scss=False, category='container', type='px', value='0px'), container_padding_y=OptionsInfo(scss=False, category='container', type='px', value='10px'), container_overflow_x=OptionsInfo(scss=False, category='container', type='overflow', value='auto'), container_overflow_y=OptionsInfo(scss=False, category='container', type='overflow', value='auto'), quarto_disable_processing=OptionsInfo(scss=False, category='quarto', type='logical', value=False), quarto_use_bootstrap=OptionsInfo(scss=False, category='quarto', type='logical', value=False)), _has_built=False)"
      ]
     },
     "execution_count": 62,
     "metadata": {},
     "output_type": "execute_result"
    }
   ],
   "source": [
    "# Helper functions\n",
    "def calculate_percentage(series):\n",
    "    return series / series.sum()\n",
    "\n",
    "def group_aggregate(data, group_col, agg_col, agg_expr):\n",
    "    return data.group_by(group_col).agg(agg_expr(pl.col(agg_col)))\n",
    "\n",
    "# Decile table creation\n",
    "decile_tab_spend = spend_decile.select(\"decile\").unique().sort(\"decile\").rename({\"decile\": \"Decile\"})\n",
    "\n",
    "# Populate decile statistics\n",
    "# Decile counts and % HH\n",
    "decile_counts = group_aggregate(spend_decile, 'decile', 'panel_id', pl.Expr.count)\n",
    "decile_tab_spend.insert_column(1, pl.lit(calculate_percentage(decile_counts['panel_id'])).alias('% HH')) \n",
    "\n",
    "# % Spend\n",
    "decile_spend = group_aggregate(spend_decile, 'decile', 'spend', pl.Expr.sum)\n",
    "decile_tab_spend.insert_column(2, pl.lit(calculate_percentage(decile_spend['spend'])).alias('% Spend')) \n",
    "\n",
    "# % Transactions\n",
    "group_trans = trans_summary('Category', grocery_lf, 1).collect().join(\n",
    "    other=spend_decile.group_by('panel_id').agg(pl.col('decile').sum()),\n",
    "    on='panel_id'\n",
    ").sort('decile')\n",
    "decile_trans = group_aggregate(group_trans, 'decile', '# of Purchases', pl.Expr.sum)\n",
    "decile_tab_spend.insert_column(3, pl.lit(calculate_percentage(decile_trans['# of Purchases'])).alias('% Trans')) \n",
    "\n",
    "# Spend/HH, Cat Trans/HH, Avg Spend/Trans\n",
    "decile_tab_spend.insert_column(4, pl.lit(decile_spend['spend'] / decile_counts['panel_id']).alias('Spend/HH'))\n",
    "decile_tab_spend.insert_column(5, pl.lit(decile_trans['# of Purchases'] / decile_counts['panel_id']).alias('Cat Trans/HH'))\n",
    "decile_tab_spend.insert_column(6, pl.lit(decile_spend['spend'] / decile_trans['# of Purchases']).alias('Avg Spend/Trans'))\n",
    "\n",
    "# # Unique Brands Purchased\n",
    "unique_brands = group_aggregate(group_trans, 'decile', 'Brands Purchased', pl.Expr.mean)\n",
    "decile_tab_spend.insert_column(7, pl.lit(unique_brands['Brands Purchased']).alias('# Unique Brands'))\n",
    "\n",
    "(\n",
    "    GT(decile_tab_spend, rowname_col='Decile')\n",
    "    .tab_header(title='Decile Analysis of Category Buying Behavior',\n",
    "                subtitle= 'Each decile equals 10% category buyers')\n",
    "    .tab_stubhead(label=\"Decile\")\n",
    "    .fmt_percent(columns=['% HH', '% Spend', '% Trans'], decimals=1)\n",
    "    .fmt_number(columns=['Cat Trans/HH', '# Unique Brands'])\n",
    "    .fmt_currency(columns=['Spend/HH','Avg Spend/Trans'])\n",
    ")"
   ]
  }
 ],
 "metadata": {
  "colab": {
   "collapsed_sections": [
    "Gxxt_AWN9igL",
    "R7dq85pW9WSz"
   ],
   "provenance": []
  },
  "kernelspec": {
   "display_name": "Main (venv)",
   "language": "python",
   "name": ".venv"
  },
  "language_info": {
   "codemirror_mode": {
    "name": "ipython",
    "version": 3
   },
   "file_extension": ".py",
   "mimetype": "text/x-python",
   "name": "python",
   "nbconvert_exporter": "python",
   "pygments_lexer": "ipython3",
   "version": "3.13.0"
  }
 },
 "nbformat": 4,
 "nbformat_minor": 0
}
