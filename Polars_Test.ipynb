{
 "cells": [
  {
   "cell_type": "markdown",
   "metadata": {
    "id": "J0Nrn2ZX9UOK"
   },
   "source": [
    "### Imports"
   ]
  },
  {
   "cell_type": "markdown",
   "metadata": {
    "id": "Gxxt_AWN9igL"
   },
   "source": [
    "#### Import Packages"
   ]
  },
  {
   "cell_type": "code",
   "execution_count": 1,
   "metadata": {
    "id": "Bsw2hr5T8cu3"
   },
   "outputs": [
    {
     "data": {
      "text/plain": [
       "RendererRegistry.enable('jupyter')"
      ]
     },
     "execution_count": 1,
     "metadata": {},
     "output_type": "execute_result"
    }
   ],
   "source": [
    "import polars as pl\n",
    "import altair as alt\n",
    "import numpy as np\n",
    "import great_tables as GT\n",
    "import gc\n",
    "\n",
    "alt.JupyterChart.enable_offline()\n",
    "alt.renderers.enable(\"jupyter\", offline=True)"
   ]
  },
  {
   "cell_type": "markdown",
   "metadata": {
    "id": "R7dq85pW9WSz"
   },
   "source": [
    "#### Import Panel Data"
   ]
  },
  {
   "cell_type": "code",
   "execution_count": 2,
   "metadata": {
    "id": "byUO8v599TuY"
   },
   "outputs": [
    {
     "data": {
      "text/html": [
       "<div><style>\n",
       ".dataframe > thead > tr,\n",
       ".dataframe > tbody > tr {\n",
       "  text-align: right;\n",
       "  white-space: pre-wrap;\n",
       "}\n",
       "</style>\n",
       "<small>shape: (5, 7)</small><table border=\"1\" class=\"dataframe\"><thead><tr><th>panel_id</th><th>trans_id</th><th>week</th><th>sku_id</th><th>units</th><th>price</th><th>brand</th></tr><tr><td>i32</td><td>i32</td><td>i16</td><td>cat</td><td>i16</td><td>f32</td><td>cat</td></tr></thead><tbody><tr><td>3102011</td><td>1569</td><td>6</td><td>&quot;19&quot;</td><td>1</td><td>2.79</td><td>&quot;Alpha&quot;</td></tr><tr><td>3102012</td><td>4301</td><td>15</td><td>&quot;15&quot;</td><td>1</td><td>3.19</td><td>&quot;Alpha&quot;</td></tr><tr><td>3102012</td><td>4301</td><td>15</td><td>&quot;15&quot;</td><td>1</td><td>3.19</td><td>&quot;Alpha&quot;</td></tr><tr><td>3102012</td><td>4301</td><td>15</td><td>&quot;38&quot;</td><td>1</td><td>3.49</td><td>&quot;Bravo&quot;</td></tr><tr><td>3102012</td><td>4301</td><td>15</td><td>&quot;44&quot;</td><td>1</td><td>3.49</td><td>&quot;Bravo&quot;</td></tr></tbody></table></div>"
      ],
      "text/plain": [
       "shape: (5, 7)\n",
       "┌──────────┬──────────┬──────┬────────┬───────┬───────┬───────┐\n",
       "│ panel_id ┆ trans_id ┆ week ┆ sku_id ┆ units ┆ price ┆ brand │\n",
       "│ ---      ┆ ---      ┆ ---  ┆ ---    ┆ ---   ┆ ---   ┆ ---   │\n",
       "│ i32      ┆ i32      ┆ i16  ┆ cat    ┆ i16   ┆ f32   ┆ cat   │\n",
       "╞══════════╪══════════╪══════╪════════╪═══════╪═══════╪═══════╡\n",
       "│ 3102011  ┆ 1569     ┆ 6    ┆ 19     ┆ 1     ┆ 2.79  ┆ Alpha │\n",
       "│ 3102012  ┆ 4301     ┆ 15   ┆ 15     ┆ 1     ┆ 3.19  ┆ Alpha │\n",
       "│ 3102012  ┆ 4301     ┆ 15   ┆ 15     ┆ 1     ┆ 3.19  ┆ Alpha │\n",
       "│ 3102012  ┆ 4301     ┆ 15   ┆ 38     ┆ 1     ┆ 3.49  ┆ Bravo │\n",
       "│ 3102012  ┆ 4301     ┆ 15   ┆ 44     ┆ 1     ┆ 3.49  ┆ Bravo │\n",
       "└──────────┴──────────┴──────┴────────┴───────┴───────┴───────┘"
      ]
     },
     "execution_count": 2,
     "metadata": {},
     "output_type": "execute_result"
    }
   ],
   "source": [
    "grocery_lf = pl.scan_csv(source=\"data/panel-datasets/edible_grocery.csv\",\n",
    "                         has_header=True,\n",
    "                         separator=\",\",\n",
    "                         schema_overrides={'panel_id': pl.Int32,\n",
    "                                           'trans_id': pl.Int32,\n",
    "                                           'week': pl.Int16,\n",
    "                                           'sku_id': pl.Categorical,\n",
    "                                           'units': pl.Int16,\n",
    "                                           'price': pl.Float32,\n",
    "                                           'brand': pl.Categorical})\n",
    "grocery_lf.head().collect()"
   ]
  },
  {
   "cell_type": "code",
   "execution_count": 3,
   "metadata": {
    "id": "ECLFaaIe95pK"
   },
   "outputs": [
    {
     "data": {
      "text/html": [
       "<div><style>\n",
       ".dataframe > thead > tr,\n",
       ".dataframe > tbody > tr {\n",
       "  text-align: right;\n",
       "  white-space: pre-wrap;\n",
       "}\n",
       "</style>\n",
       "<small>shape: (5, 2)</small><table border=\"1\" class=\"dataframe\"><thead><tr><th>sku_id</th><th>weight</th></tr><tr><td>i32</td><td>i16</td></tr></thead><tbody><tr><td>1</td><td>400</td></tr><tr><td>2</td><td>400</td></tr><tr><td>3</td><td>400</td></tr><tr><td>4</td><td>250</td></tr><tr><td>5</td><td>1000</td></tr></tbody></table></div>"
      ],
      "text/plain": [
       "shape: (5, 2)\n",
       "┌────────┬────────┐\n",
       "│ sku_id ┆ weight │\n",
       "│ ---    ┆ ---    │\n",
       "│ i32    ┆ i16    │\n",
       "╞════════╪════════╡\n",
       "│ 1      ┆ 400    │\n",
       "│ 2      ┆ 400    │\n",
       "│ 3      ┆ 400    │\n",
       "│ 4      ┆ 250    │\n",
       "│ 5      ┆ 1000   │\n",
       "└────────┴────────┘"
      ]
     },
     "execution_count": 3,
     "metadata": {},
     "output_type": "execute_result"
    }
   ],
   "source": [
    "sku_lf = pl.scan_csv(source=\"data/panel-datasets/sku_weight.csv\",\n",
    "                         has_header=True,\n",
    "                         separator=\",\",\n",
    "                         schema_overrides={'sku_id': pl.Int32,\n",
    "                                           'weight': pl.Int16})\n",
    "sku_lf.head().collect()"
   ]
  },
  {
   "cell_type": "code",
   "execution_count": 4,
   "metadata": {
    "id": "y-r0cpsA97dT"
   },
   "outputs": [
    {
     "data": {
      "text/html": [
       "<div><style>\n",
       ".dataframe > thead > tr,\n",
       ".dataframe > tbody > tr {\n",
       "  text-align: right;\n",
       "  white-space: pre-wrap;\n",
       "}\n",
       "</style>\n",
       "<small>shape: (5, 5)</small><table border=\"1\" class=\"dataframe\"><thead><tr><th>ID</th><th>Market</th><th>Week</th><th>Day</th><th>Units</th></tr><tr><td>i16</td><td>cat</td><td>i64</td><td>i16</td><td>i16</td></tr></thead><tbody><tr><td>10001</td><td>&quot;1&quot;</td><td>19</td><td>3</td><td>1</td></tr><tr><td>10002</td><td>&quot;1&quot;</td><td>12</td><td>5</td><td>1</td></tr><tr><td>10003</td><td>&quot;1&quot;</td><td>37</td><td>7</td><td>1</td></tr><tr><td>10004</td><td>&quot;1&quot;</td><td>30</td><td>6</td><td>1</td></tr><tr><td>10004</td><td>&quot;1&quot;</td><td>47</td><td>3</td><td>1</td></tr></tbody></table></div>"
      ],
      "text/plain": [
       "shape: (5, 5)\n",
       "┌───────┬────────┬──────┬─────┬───────┐\n",
       "│ ID    ┆ Market ┆ Week ┆ Day ┆ Units │\n",
       "│ ---   ┆ ---    ┆ ---  ┆ --- ┆ ---   │\n",
       "│ i16   ┆ cat    ┆ i64  ┆ i16 ┆ i16   │\n",
       "╞═══════╪════════╪══════╪═════╪═══════╡\n",
       "│ 10001 ┆ 1      ┆ 19   ┆ 3   ┆ 1     │\n",
       "│ 10002 ┆ 1      ┆ 12   ┆ 5   ┆ 1     │\n",
       "│ 10003 ┆ 1      ┆ 37   ┆ 7   ┆ 1     │\n",
       "│ 10004 ┆ 1      ┆ 30   ┆ 6   ┆ 1     │\n",
       "│ 10004 ┆ 1      ┆ 47   ┆ 3   ┆ 1     │\n",
       "└───────┴────────┴──────┴─────┴───────┘"
      ]
     },
     "execution_count": 4,
     "metadata": {},
     "output_type": "execute_result"
    }
   ],
   "source": [
    "kiwi_lf = pl.scan_csv(source=\"data/panel-datasets/kiwibubbles_trans.csv\",\n",
    "                      has_header=True,\n",
    "                      separator=\",\",\n",
    "                      schema_overrides={'ID': pl.Int16,\n",
    "                                        'Market': pl.Categorical,\n",
    "                                        'Day': pl.Int16,\n",
    "                                        'Units': pl.Int16})\n",
    "kiwi_lf.head().collect()"
   ]
  },
  {
   "cell_type": "markdown",
   "metadata": {
    "id": "nAVjw68199_0"
   },
   "source": [
    "### Preliminaries"
   ]
  },
  {
   "cell_type": "markdown",
   "metadata": {
    "id": "JTV6Gf6T-FDX"
   },
   "source": [
    "#### Weekly Sales Pattern"
   ]
  },
  {
   "cell_type": "code",
   "execution_count": 5,
   "metadata": {},
   "outputs": [],
   "source": [
    "# Grocery LazyFrame (Query Plan) with New 'spend' Column - units x price = spend\n",
    "grocery_lf_spend = grocery_lf.with_columns(\n",
    "    ((pl.col('units') * pl.col('price')).cast(pl.Float64)).alias('spend')\n",
    ")"
   ]
  },
  {
   "cell_type": "code",
   "execution_count": 6,
   "metadata": {},
   "outputs": [],
   "source": [
    "# Category Weekly Sales - LazyFrame (Query Plan)\n",
    "weekly_sales_lf = (\n",
    "    grocery_lf_spend\n",
    "    .group_by([\"week\"])\n",
    "    .agg(\n",
    "        pl.col(\"spend\").sum().cast(pl.Float64).alias('Weekly Spend')\n",
    "    )\n",
    "    .sort(\"week\")   \n",
    ")\n",
    "\n",
    "# Weekly Sales by Brand - LazyFrame (Query Plan)\n",
    "weekly_sales_lf_brand = (\n",
    "    grocery_lf_spend\n",
    "    .group_by([\"week\", \"brand\"])\n",
    "    .agg(\n",
    "        pl.col(\"spend\").sum().alias('Weekly Spend')\n",
    "    )\n",
    "    .sort(\"week\")   \n",
    ")"
   ]
  },
  {
   "cell_type": "code",
   "execution_count": 7,
   "metadata": {},
   "outputs": [
    {
     "data": {
      "text/html": [
       "<div><style>\n",
       ".dataframe > thead > tr,\n",
       ".dataframe > tbody > tr {\n",
       "  text-align: right;\n",
       "  white-space: pre-wrap;\n",
       "}\n",
       "</style>\n",
       "<small>shape: (104, 7)</small><table border=\"1\" class=\"dataframe\"><thead><tr><th>week</th><th>Alpha</th><th>Bravo</th><th>Charlie</th><th>Delta</th><th>Other</th><th>Total</th></tr><tr><td>i16</td><td>f64</td><td>f64</td><td>f64</td><td>f64</td><td>f64</td><td>f64</td></tr></thead><tbody><tr><td>1</td><td>331.459999</td><td>247.780003</td><td>51.79</td><td>17.64</td><td>18.75</td><td>668.420002</td></tr><tr><td>2</td><td>567.249997</td><td>398.640007</td><td>45.43</td><td>34.19</td><td>23.23</td><td>1070.740004</td></tr><tr><td>3</td><td>497.969999</td><td>639.980008</td><td>51.11</td><td>39.39</td><td>14.55</td><td>1246.000006</td></tr><tr><td>4</td><td>1389.960004</td><td>472.500004</td><td>51.87</td><td>85.04</td><td>39.779999</td><td>2043.150007</td></tr><tr><td>5</td><td>358.239999</td><td>252.540003</td><td>40.21</td><td>69.54</td><td>45.93</td><td>771.460002</td></tr><tr><td>&hellip;</td><td>&hellip;</td><td>&hellip;</td><td>&hellip;</td><td>&hellip;</td><td>&hellip;</td><td>&hellip;</td></tr><tr><td>100</td><td>692.480006</td><td>420.479996</td><td>69.600001</td><td>54.590001</td><td>47.97</td><td>1385.120004</td></tr><tr><td>101</td><td>265.770002</td><td>264.659999</td><td>64.030001</td><td>35.05</td><td>26.88</td><td>757.390003</td></tr><tr><td>102</td><td>379.610005</td><td>456.78999</td><td>43.5</td><td>20.4</td><td>43.61</td><td>1045.909995</td></tr><tr><td>103</td><td>532.500005</td><td>440.999996</td><td>76.400001</td><td>40.44</td><td>45.55</td><td>1238.890002</td></tr><tr><td>104</td><td>394.890003</td><td>233.189998</td><td>53.18</td><td>68.260001</td><td>36.679999</td><td>890.200002</td></tr></tbody></table></div>"
      ],
      "text/plain": [
       "shape: (104, 7)\n",
       "┌──────┬─────────────┬────────────┬───────────┬───────────┬───────────┬─────────────┐\n",
       "│ week ┆ Alpha       ┆ Bravo      ┆ Charlie   ┆ Delta     ┆ Other     ┆ Total       │\n",
       "│ ---  ┆ ---         ┆ ---        ┆ ---       ┆ ---       ┆ ---       ┆ ---         │\n",
       "│ i16  ┆ f64         ┆ f64        ┆ f64       ┆ f64       ┆ f64       ┆ f64         │\n",
       "╞══════╪═════════════╪════════════╪═══════════╪═══════════╪═══════════╪═════════════╡\n",
       "│ 1    ┆ 331.459999  ┆ 247.780003 ┆ 51.79     ┆ 17.64     ┆ 18.75     ┆ 668.420002  │\n",
       "│ 2    ┆ 567.249997  ┆ 398.640007 ┆ 45.43     ┆ 34.19     ┆ 23.23     ┆ 1070.740004 │\n",
       "│ 3    ┆ 497.969999  ┆ 639.980008 ┆ 51.11     ┆ 39.39     ┆ 14.55     ┆ 1246.000006 │\n",
       "│ 4    ┆ 1389.960004 ┆ 472.500004 ┆ 51.87     ┆ 85.04     ┆ 39.779999 ┆ 2043.150007 │\n",
       "│ 5    ┆ 358.239999  ┆ 252.540003 ┆ 40.21     ┆ 69.54     ┆ 45.93     ┆ 771.460002  │\n",
       "│ …    ┆ …           ┆ …          ┆ …         ┆ …         ┆ …         ┆ …           │\n",
       "│ 100  ┆ 692.480006  ┆ 420.479996 ┆ 69.600001 ┆ 54.590001 ┆ 47.97     ┆ 1385.120004 │\n",
       "│ 101  ┆ 265.770002  ┆ 264.659999 ┆ 64.030001 ┆ 35.05     ┆ 26.88     ┆ 757.390003  │\n",
       "│ 102  ┆ 379.610005  ┆ 456.78999  ┆ 43.5      ┆ 20.4      ┆ 43.61     ┆ 1045.909995 │\n",
       "│ 103  ┆ 532.500005  ┆ 440.999996 ┆ 76.400001 ┆ 40.44     ┆ 45.55     ┆ 1238.890002 │\n",
       "│ 104  ┆ 394.890003  ┆ 233.189998 ┆ 53.18     ┆ 68.260001 ┆ 36.679999 ┆ 890.200002  │\n",
       "└──────┴─────────────┴────────────┴───────────┴───────────┴───────────┴─────────────┘"
      ]
     },
     "execution_count": 7,
     "metadata": {},
     "output_type": "execute_result"
    }
   ],
   "source": [
    "# Weekly Sales Pivot Table - Polars DataFrame\n",
    "# For visualizing & inspecting the table only\n",
    "weekly_sales_pivot = weekly_sales_lf_brand.collect().pivot(\n",
    "    on=\"brand\",\n",
    "    index=\"week\",\n",
    "    values=\"Weekly Spend\",\n",
    "    sort_columns=True,\n",
    ").sort(\"week\").with_columns(\n",
    "    pl.sum_horizontal(pl.all()).alias(\"Total\") # Row total\n",
    ")\n",
    "\n",
    "weekly_sales_pivot"
   ]
  },
  {
   "cell_type": "code",
   "execution_count": 8,
   "metadata": {
    "colab": {
     "base_uri": "https://localhost:8080/",
     "height": 368
    },
    "id": "5j5LfvG--J-d",
    "outputId": "e6f7c4b8-084d-4e20-880d-78f3b46c7554"
   },
   "outputs": [
    {
     "data": {
      "application/vnd.jupyter.widget-view+json": {
       "model_id": "dd01404f7c5f43518bbfb2a8a65f3b44",
       "version_major": 2,
       "version_minor": 1
      },
      "text/plain": [
       "JupyterChart(spec={'config': {'view': {'continuousWidth': 300, 'continuousHeight': 300}}, 'data': {'name': 'da…"
      ]
     },
     "execution_count": 8,
     "metadata": {},
     "output_type": "execute_result"
    }
   ],
   "source": [
    "chart = alt.Chart(weekly_sales_pivot).mark_line().encode(\n",
    "    x=alt.X('week', axis=alt.Axis(\n",
    "        values=np.arange(0, 104+1, 13),  # Explicitly specify quarter-end weeks\n",
    "        labelExpr=\"datum.value\",  # Show only these labels\n",
    "        title='Week')),\n",
    "    y=alt.Y('Alpha',\n",
    "            title='Spend ($)')\n",
    ").properties(\n",
    "    width=900,\n",
    "    height=300\n",
    ")\n",
    "\n",
    "jchart = alt.JupyterChart(chart)\n",
    "jchart"
   ]
  },
  {
   "cell_type": "code",
   "execution_count": 9,
   "metadata": {
    "colab": {
     "base_uri": "https://localhost:8080/",
     "height": 368
    },
    "id": "NjsDMmVeTC3Y",
    "outputId": "be6dceef-2ae6-4ed9-9adf-4089086fb881"
   },
   "outputs": [
    {
     "data": {
      "application/vnd.jupyter.widget-view+json": {
       "model_id": "77af85dcb1d04479bc5e98fef7cbfccd",
       "version_major": 2,
       "version_minor": 1
      },
      "text/plain": [
       "JupyterChart(spec={'config': {'view': {'continuousWidth': 300, 'continuousHeight': 300}}, 'data': {'name': 'da…"
      ]
     },
     "execution_count": 9,
     "metadata": {},
     "output_type": "execute_result"
    }
   ],
   "source": [
    "chart = alt.Chart(weekly_sales_pivot).mark_line().encode(\n",
    "    x=alt.X('week', axis=alt.Axis(\n",
    "        values=np.arange(0, 104+1, 13),  # Explicitly specify quarter-end weeks\n",
    "        labelExpr=\"datum.value\",  # Show only these labels\n",
    "        title='Week')),\n",
    "    y=alt.Y('Total',\n",
    "            title='Spend ($)')\n",
    ").properties(\n",
    "    width=900,\n",
    "    height=300\n",
    ")\n",
    "\n",
    "jchart = alt.JupyterChart(chart)\n",
    "jchart"
   ]
  }
 ],
 "metadata": {
  "colab": {
   "collapsed_sections": [
    "Gxxt_AWN9igL",
    "R7dq85pW9WSz"
   ],
   "provenance": []
  },
  "kernelspec": {
   "display_name": ".venv",
   "language": "python",
   "name": "python3"
  },
  "language_info": {
   "codemirror_mode": {
    "name": "ipython",
    "version": 3
   },
   "file_extension": ".py",
   "mimetype": "text/x-python",
   "name": "python",
   "nbconvert_exporter": "python",
   "pygments_lexer": "ipython3",
   "version": "3.13.0"
  }
 },
 "nbformat": 4,
 "nbformat_minor": 0
}
