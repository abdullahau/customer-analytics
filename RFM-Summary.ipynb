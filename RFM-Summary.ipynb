{
 "cells": [
  {
   "cell_type": "markdown",
   "metadata": {},
   "source": [
    "## <span style=\"color:#956bbf\">RFM: Recency, Frequency, Monetary value Summary</span>\n",
    "---"
   ]
  },
  {
   "cell_type": "markdown",
   "metadata": {},
   "source": [
    "### <span style=\"color:#956bbf\">Introduction</span>\n",
    "---"
   ]
  },
  {
   "cell_type": "markdown",
   "metadata": {},
   "source": [
    "**Source**:\n",
    "- [Creating an RFM Summary Using Excel](https://www.brucehardie.com/notes/022/)\n",
    "- [Notes on the CDNOW Master Data Set](https://www.brucehardie.com/notes/026/)"
   ]
  },
  {
   "cell_type": "markdown",
   "metadata": {},
   "source": [
    "In order to estimate the parameters of **transaction-flow models** such as the Pareto/NBD and BG/NBD, as well as those of the associated models for **spend per transaction** (spend model), we need an RFM (recency, frequency, monetary value) summary of each customer’s purchasing behavior. In particular,\n",
    "1. The **transaction-flow model** requires three pieces of information about each customer’s purchasing history: their “recency”(when their last transaction occurred), “frequency” (how many transactions they made in a specified time period), and the length of time over which we have observed their purchasing behavior. The notation used to represent this information is $(x, tx, T)$, where $x$ is the number of transactions observed in the time period $(0, T]$ and $t_{x}$ $(0 \\le tx \\le T)$ is the time of the last transaction.\n",
    "2. The **spend model** requires two pieces of information about each customer’s purchasing history: the average “monetary value” of each transaction (denoted by $m_x$) and the number of transactions over which this average is computed (i.e., frequency, $x$)."
   ]
  },
  {
   "cell_type": "markdown",
   "metadata": {},
   "source": [
    "### <span style=\"color:#956bbf\">Imports</span>\n",
    "---"
   ]
  },
  {
   "cell_type": "markdown",
   "metadata": {},
   "source": [
    "#### Import Packages"
   ]
  },
  {
   "cell_type": "code",
   "execution_count": 1,
   "metadata": {},
   "outputs": [],
   "source": [
    "import polars as pl\n",
    "import numpy as np"
   ]
  },
  {
   "cell_type": "markdown",
   "metadata": {},
   "source": [
    "#### Import Data"
   ]
  },
  {
   "cell_type": "markdown",
   "metadata": {},
   "source": [
    "We will make use of the CDNOW dataset. The master dataset contains the entire purchase history up to the end of June 1998 of the cohort of 23,570 individuals who made their first-ever purchase at CDNOW in the first quarter of 1997. \n",
    "\n",
    "The file `CDNOW_sample.csv` contains purchasing data for a 1/10th systematic sample of the whole cohort (2357 customers). Each record in this file, 6919 in total, comprises five fields: the customer’s ID in the master dataset, the customer’s ID in the 1/10th sample dataset (ranging from 1 to 2357), the date of the transaction, the number of CDs purchased, and the dollar value of the transaction."
   ]
  },
  {
   "cell_type": "code",
   "execution_count": 2,
   "metadata": {},
   "outputs": [],
   "source": [
    "CDNOW_master = (\n",
    "    pl.scan_csv(source = 'data/CDNOW/CDNOW_master.csv', \n",
    "                has_header=False, \n",
    "                separator=',', \n",
    "                schema={'CustID': pl.Int32,     # customer id\n",
    "                        'Date': pl.String,      # transaction date\n",
    "                        'Quant': pl.Int16,      # number of CDs purchased\n",
    "                        'Spend': pl.Float64})   # dollar value (excl. S&H)\n",
    "    .with_columns(pl.col('Date').str.to_date(\"%Y%m%d\"))\n",
    "    .with_columns((pl.col('Date') - pl.date(1996,12,31)).dt.total_days().cast(pl.UInt16).alias('PurchDay'))\n",
    "    .with_columns((pl.col('Spend')*100).round(0).cast(pl.Int64).alias('Spend Scaled'))\n",
    "    .group_by('ID', 'Date')\n",
    "    .agg(pl.col('*').exclude('PurchDay').sum(), pl.col('PurchDay').max()) # Multiple transactions by a customer on a single day are aggregated into one\n",
    "    .sort('ID', 'Date')\n",
    "    .with_columns((pl.col(\"CustID\").cum_count().over(\"CustID\") - 1).cast(pl.UInt16).alias(\"DoR\"))  # DoR = Depth of Repeat ('Transaction' time: starts with 0 as trial, 1 as 1st repeat and so on)\n",
    ")"
   ]
  },
  {
   "cell_type": "code",
   "execution_count": 3,
   "metadata": {},
   "outputs": [],
   "source": [
    "# MATLAB Sampling (due to numerical float precision handling differences, original sampling results cannot be replicated unless spend is scaled in MATLAB)\n",
    "CDNOW_sample = (\n",
    "    pl.scan_csv(source='data/CDNOW/CDNOW_sample.csv',\n",
    "                has_header=False,\n",
    "                separator=',',\n",
    "                schema={'CustID': pl.Int32,\n",
    "                        'NewID': pl.Int32,\n",
    "                        'Date': pl.String,\n",
    "                        'Quant': pl.Int16,\n",
    "                        'Spend': pl.Float64})\n",
    "    .with_columns(pl.col('Date').str.to_date(\"%Y%m%d\"))\n",
    "    .with_columns((pl.col('Date') - pl.date(1996,12,31)).dt.total_days().cast(pl.UInt16).alias('PurchDay'))\n",
    "    .with_columns((pl.col('Spend')*100).round(0).cast(pl.Int64).alias('Spend Scaled'))\n",
    "    .group_by('NewID', 'Date')\n",
    "    .agg(pl.col('*').exclude('PurchDay').sum(), pl.col('PurchDay').max())\n",
    "    .sort('NewID', 'Date')\n",
    "    .with_columns((pl.col(\"NewID\").cum_count().over(\"NewID\") - 1).cast(pl.UInt16).alias(\"DoR\"))      \n",
    "    .drop('CustID')\n",
    "    .rename({'NewID': 'ID'})\n",
    ")"
   ]
  },
  {
   "cell_type": "markdown",
   "metadata": {},
   "source": [
    "1. We assume that the records in the raw transaction data file are grouped by customer, and sorted within customer by date of transaction. If in doubt, sort the raw dataset by customer ID and date of transaction.\n",
    "2. As they are of no interest to us in this particular case, we delete the first and fourth columns (master dataset customer ID and # CDs purchased, respectively). \n",
    "3. We note that some customers had more than one transaction on a given day. For example, customer 26 had two separate transactions on 13 January 1997, while customer 46 had two separate transactions on 28 August 1997. There are about 233 such \"additional\" transactions. The transaction-flow models are developed by telling a story about **interpurchase times**. As we only know the date (and not the time) of each transaction, we need to aggregate the records associated with same-day transactions—we can’t have an interpurchase time of 0"
   ]
  },
  {
   "cell_type": "markdown",
   "metadata": {},
   "source": [
    "### <span style=\"color:#956bbf\">“Frequency” and “Monetary Value”</span>\n",
    "---"
   ]
  },
  {
   "cell_type": "markdown",
   "metadata": {},
   "source": [
    "We now compute the frequency and monetary value summaries for each customer.\n",
    "\n",
    "Most of the previous analyses undertaken using this dataset have split the 78 weeks of data in half, creating a 39-week calibration period (1997-01-01 to 1997-09-30) and 39-week validation period (1997-10-01 to 1998-06-30). Furthermore, these analyses have generally ignored each customer’s first-ever purchase at CDNOW, which signals the start of the customer’s “relationship” with the firm; this means calibration-period “frequency” has usually been the number of repeat transactions, and “monetary value” has been the average dollar value per repeat transaction."
   ]
  },
  {
   "cell_type": "code",
   "execution_count": 4,
   "metadata": {},
   "outputs": [],
   "source": [
    "calwk = 273 # 39 week calibration period\n",
    "\n",
    "CDNOW_sample = (\n",
    "    CDNOW_sample\n",
    "    .with_columns(\n",
    "        pl.when(pl.col('DoR') == 0)\n",
    "        .then(pl.lit('first'))\n",
    "        .otherwise(pl.when(pl.col('PurchDay') <= calwk)\n",
    "                   .then(pl.lit('calib'))\n",
    "                   .otherwise(pl.lit('valid'))\n",
    "        ).alias('Period')\n",
    "    )\n",
    ")"
   ]
  },
  {
   "cell_type": "code",
   "execution_count": 5,
   "metadata": {},
   "outputs": [],
   "source": [
    "# the number of repeat transactions made in the calibration and validation periods\n",
    "num_repeat_trans = (\n",
    "    CDNOW_sample\n",
    "    .group_by('ID', 'Period')\n",
    "    .agg(pl.len().alias('x'))\n",
    ")"
   ]
  },
  {
   "cell_type": "code",
   "execution_count": 6,
   "metadata": {},
   "outputs": [],
   "source": [
    "# the average spend per repeat transaction for the calibration and validation periods\n",
    "avg_spend_per_repeat_trans = (\n",
    "    CDNOW_sample\n",
    "    .group_by('ID', 'Period')\n",
    "    .agg(pl.col('Spend Scaled').mean().alias('m_x'))\n",
    ")"
   ]
  },
  {
   "cell_type": "markdown",
   "metadata": {},
   "source": [
    "### <span style=\"color:#956bbf\">“Recency”</span>\n",
    "---"
   ]
  },
  {
   "cell_type": "markdown",
   "metadata": {},
   "source": [
    "The next step is to compute recency, as well as the length of time over which we have observed each customer’s purchasing behavior."
   ]
  },
  {
   "cell_type": "markdown",
   "metadata": {},
   "source": [
    "$T$ is the effective calibration period, the length of time we observe each customer (i.e., the time between the customer’s first-ever purchase at CDNOW and the end of the calibration period)"
   ]
  },
  {
   "cell_type": "code",
   "execution_count": 16,
   "metadata": {},
   "outputs": [],
   "source": [
    "# Effective calibration period - the length of time we observe each customer\n",
    "eff_cal_period = (\n",
    "    CDNOW_sample\n",
    "    .filter(pl.col('DoR') == 0)\n",
    "    .with_columns(((pl.lit(calwk) - pl.col('PurchDay')) / 7).alias('T')) # Eff. Calibration Period\n",
    "    .rename({'PurchDay': 'Trial Day'})   \n",
    ")"
   ]
  },
  {
   "cell_type": "markdown",
   "metadata": {},
   "source": [
    "For modeling purposes, “recency” is not the calendar date of the last observed purchase; rather the time origin for $t_x$ is the start of the observation period. Since we track customers’ purchasing from their first-ever purchase at CDNOW, the date of this first purchase is the time origin. Therefore, $t_x$ is the length of time between the first-ever purchase and the last observed purchase (in the calibration period), i.e., Last Purchase − First Purchase."
   ]
  },
  {
   "cell_type": "code",
   "execution_count": 18,
   "metadata": {},
   "outputs": [],
   "source": [
    "# time of last calibration period repeat purchase (in weeks) - recency number in days\n",
    "ttlrp = (\n",
    "    CDNOW_sample\n",
    "    .filter(pl.col('Period') != 'valid')\n",
    "    .group_by('ID')\n",
    "    .agg(pl.col('PurchDay').max())\n",
    "    .join(other=eff_cal_period, on='ID', how='left')\n",
    "    .with_columns(((pl.col('PurchDay') - pl.col('Trial Day'))/7).alias('t_x')) # Time to Last Repeat\n",
    "    .select('ID', 'T', 't_x')\n",
    ")"
   ]
  },
  {
   "cell_type": "markdown",
   "metadata": {},
   "source": [
    "### <span style=\"color:#956bbf\">RFM Summary</span>\n",
    "---"
   ]
  },
  {
   "cell_type": "markdown",
   "metadata": {},
   "source": [
    "RFM summary of calibration-period transactions:\n",
    "\n",
    "This is the required “RFM” summary of calibration-period buying behavior needed to estimate the previously mentioned models of *transaction flow* and *spend per transaction*."
   ]
  },
  {
   "cell_type": "code",
   "execution_count": 9,
   "metadata": {},
   "outputs": [],
   "source": [
    "rfm = (\n",
    "    CDNOW_sample\n",
    "    .group_by('ID').agg()\n",
    "    .join(\n",
    "        other=num_repeat_trans.filter(pl.col('Period') == 'calib').drop('Period'), \n",
    "        on='ID', how='left'\n",
    "    ).join(\n",
    "        other=avg_spend_per_repeat_trans.filter(pl.col('Period') == 'calib').drop('Period'), \n",
    "        on='ID', how='left'\n",
    "    ).join(\n",
    "        other=ttlrp, \n",
    "        on='ID', how='left'        \n",
    "    ).fill_null(0)\n",
    ")"
   ]
  },
  {
   "cell_type": "markdown",
   "metadata": {},
   "source": [
    "We can create a summary of validation-period purchasing behavior by extracting the corresponding\n",
    "number of transactions and average spend per transaction numbers from the dataframes constructed above."
   ]
  },
  {
   "cell_type": "markdown",
   "metadata": {},
   "source": [
    "#### The number of repeat transactions made by each customer in each period"
   ]
  },
  {
   "cell_type": "code",
   "execution_count": 10,
   "metadata": {},
   "outputs": [
    {
     "data": {
      "text/html": [
       "<div><style>\n",
       ".dataframe > thead > tr,\n",
       ".dataframe > tbody > tr {\n",
       "  text-align: right;\n",
       "  white-space: pre-wrap;\n",
       "}\n",
       "</style>\n",
       "<small>shape: (2_357, 3)</small><table border=\"1\" class=\"dataframe\"><thead><tr><th>ID</th><th>P1X</th><th>P2X</th></tr><tr><td>i32</td><td>u32</td><td>u32</td></tr></thead><tbody><tr><td>1</td><td>2</td><td>1</td></tr><tr><td>2</td><td>1</td><td>0</td></tr><tr><td>3</td><td>0</td><td>0</td></tr><tr><td>4</td><td>0</td><td>0</td></tr><tr><td>5</td><td>0</td><td>0</td></tr><tr><td>&hellip;</td><td>&hellip;</td><td>&hellip;</td></tr><tr><td>2353</td><td>0</td><td>2</td></tr><tr><td>2354</td><td>5</td><td>0</td></tr><tr><td>2355</td><td>0</td><td>1</td></tr><tr><td>2356</td><td>4</td><td>2</td></tr><tr><td>2357</td><td>0</td><td>0</td></tr></tbody></table></div>"
      ],
      "text/plain": [
       "shape: (2_357, 3)\n",
       "┌──────┬─────┬─────┐\n",
       "│ ID   ┆ P1X ┆ P2X │\n",
       "│ ---  ┆ --- ┆ --- │\n",
       "│ i32  ┆ u32 ┆ u32 │\n",
       "╞══════╪═════╪═════╡\n",
       "│ 1    ┆ 2   ┆ 1   │\n",
       "│ 2    ┆ 1   ┆ 0   │\n",
       "│ 3    ┆ 0   ┆ 0   │\n",
       "│ 4    ┆ 0   ┆ 0   │\n",
       "│ 5    ┆ 0   ┆ 0   │\n",
       "│ …    ┆ …   ┆ …   │\n",
       "│ 2353 ┆ 0   ┆ 2   │\n",
       "│ 2354 ┆ 5   ┆ 0   │\n",
       "│ 2355 ┆ 0   ┆ 1   │\n",
       "│ 2356 ┆ 4   ┆ 2   │\n",
       "│ 2357 ┆ 0   ┆ 0   │\n",
       "└──────┴─────┴─────┘"
      ]
     },
     "execution_count": 10,
     "metadata": {},
     "output_type": "execute_result"
    }
   ],
   "source": [
    "calwk = 273 # 39 week calibration period\n",
    "\n",
    "# The number of repeat transactions made by each customer in each period\n",
    "px = (\n",
    "    CDNOW_sample\n",
    "    .group_by('ID', maintain_order=True)\n",
    "    .agg(\n",
    "        pl.col('PurchDay')\n",
    "        .filter((pl.col('PurchDay') <= calwk) & (pl.col('DoR') > 0))\n",
    "        .count()\n",
    "        .alias('P1X'), # Period 1: Calibration Period\n",
    "\n",
    "        pl.col('PurchDay')\n",
    "        .filter((pl.col('PurchDay') > calwk) & (pl.col('DoR') > 0))\n",
    "        .count()\n",
    "        .alias('P2X')  # Period 2: Longitudinal Holdout Period      \n",
    "    )\n",
    ")\n",
    "\n",
    "px.collect()"
   ]
  },
  {
   "cell_type": "markdown",
   "metadata": {},
   "source": [
    "#### The number of CDs purchased and total spend across these repeat transactions"
   ]
  },
  {
   "cell_type": "code",
   "execution_count": 11,
   "metadata": {},
   "outputs": [
    {
     "data": {
      "text/html": [
       "<div><style>\n",
       ".dataframe > thead > tr,\n",
       ".dataframe > tbody > tr {\n",
       "  text-align: right;\n",
       "  white-space: pre-wrap;\n",
       "}\n",
       "</style>\n",
       "<small>shape: (2_357, 5)</small><table border=\"1\" class=\"dataframe\"><thead><tr><th>ID</th><th>P1X Spend</th><th>P1X Quant</th><th>P2X Spend</th><th>P2X Quant</th></tr><tr><td>i32</td><td>i64</td><td>i64</td><td>i64</td><td>i64</td></tr></thead><tbody><tr><td>1</td><td>4469</td><td>3</td><td>2648</td><td>2</td></tr><tr><td>2</td><td>1177</td><td>1</td><td>0</td><td>0</td></tr><tr><td>3</td><td>0</td><td>0</td><td>0</td><td>0</td></tr><tr><td>4</td><td>0</td><td>0</td><td>0</td><td>0</td></tr><tr><td>5</td><td>0</td><td>0</td><td>0</td><td>0</td></tr><tr><td>&hellip;</td><td>&hellip;</td><td>&hellip;</td><td>&hellip;</td><td>&hellip;</td></tr><tr><td>2353</td><td>0</td><td>0</td><td>3955</td><td>3</td></tr><tr><td>2354</td><td>22464</td><td>11</td><td>0</td><td>0</td></tr><tr><td>2355</td><td>0</td><td>0</td><td>2460</td><td>2</td></tr><tr><td>2356</td><td>13327</td><td>10</td><td>5796</td><td>4</td></tr><tr><td>2357</td><td>0</td><td>0</td><td>0</td><td>0</td></tr></tbody></table></div>"
      ],
      "text/plain": [
       "shape: (2_357, 5)\n",
       "┌──────┬───────────┬───────────┬───────────┬───────────┐\n",
       "│ ID   ┆ P1X Spend ┆ P1X Quant ┆ P2X Spend ┆ P2X Quant │\n",
       "│ ---  ┆ ---       ┆ ---       ┆ ---       ┆ ---       │\n",
       "│ i32  ┆ i64       ┆ i64       ┆ i64       ┆ i64       │\n",
       "╞══════╪═══════════╪═══════════╪═══════════╪═══════════╡\n",
       "│ 1    ┆ 4469      ┆ 3         ┆ 2648      ┆ 2         │\n",
       "│ 2    ┆ 1177      ┆ 1         ┆ 0         ┆ 0         │\n",
       "│ 3    ┆ 0         ┆ 0         ┆ 0         ┆ 0         │\n",
       "│ 4    ┆ 0         ┆ 0         ┆ 0         ┆ 0         │\n",
       "│ 5    ┆ 0         ┆ 0         ┆ 0         ┆ 0         │\n",
       "│ …    ┆ …         ┆ …         ┆ …         ┆ …         │\n",
       "│ 2353 ┆ 0         ┆ 0         ┆ 3955      ┆ 3         │\n",
       "│ 2354 ┆ 22464     ┆ 11        ┆ 0         ┆ 0         │\n",
       "│ 2355 ┆ 0         ┆ 0         ┆ 2460      ┆ 2         │\n",
       "│ 2356 ┆ 13327     ┆ 10        ┆ 5796      ┆ 4         │\n",
       "│ 2357 ┆ 0         ┆ 0         ┆ 0         ┆ 0         │\n",
       "└──────┴───────────┴───────────┴───────────┴───────────┘"
      ]
     },
     "execution_count": 11,
     "metadata": {},
     "output_type": "execute_result"
    }
   ],
   "source": [
    "# The number of CDs purchased and total spend across these repeat transactions\n",
    "pSpendQuant = (\n",
    "    CDNOW_sample\n",
    "    .join(px, on='ID', how='left')\n",
    "    .group_by('ID', maintain_order=True)\n",
    "    .agg(\n",
    "        \n",
    "        pl.col('Spend Scaled')\n",
    "        .filter((pl.col('DoR') > 0) & (pl.col('DoR') <= pl.col('P1X')) & (pl.col('P1X') != 0))\n",
    "        .sum()\n",
    "        .alias('P1X Spend'),\n",
    "        \n",
    "        pl.col('Quant')\n",
    "        .filter((pl.col('DoR') > 0) & (pl.col('DoR') <= pl.col('P1X')) & (pl.col('P1X') != 0))\n",
    "        .sum()\n",
    "        .alias('P1X Quant'),        \n",
    "        \n",
    "        pl.col('Spend Scaled')\n",
    "        .filter((pl.col('DoR') > 0) & (pl.col('DoR') > pl.col('P1X')))\n",
    "        .sum()\n",
    "        .alias('P2X Spend'),\n",
    "        \n",
    "        pl.col('Quant')\n",
    "        .filter((pl.col('DoR') > 0) & (pl.col('DoR') > pl.col('P1X')))\n",
    "        .sum()\n",
    "        .alias('P2X Quant')                \n",
    "    )\n",
    ")\n",
    "\n",
    "pSpendQuant.collect()"
   ]
  },
  {
   "cell_type": "markdown",
   "metadata": {},
   "source": [
    "#### The average spend per repeat transaction"
   ]
  },
  {
   "cell_type": "code",
   "execution_count": 12,
   "metadata": {},
   "outputs": [
    {
     "data": {
      "text/html": [
       "<div><style>\n",
       ".dataframe > thead > tr,\n",
       ".dataframe > tbody > tr {\n",
       "  text-align: right;\n",
       "  white-space: pre-wrap;\n",
       "}\n",
       "</style>\n",
       "<small>shape: (2_357, 8)</small><table border=\"1\" class=\"dataframe\"><thead><tr><th>ID</th><th>P1X Spend</th><th>P1X Quant</th><th>P2X Spend</th><th>P2X Quant</th><th>P1X</th><th>P2X</th><th>Avg Spend per Repeat</th></tr><tr><td>i32</td><td>i64</td><td>i64</td><td>i64</td><td>i64</td><td>u32</td><td>u32</td><td>f64</td></tr></thead><tbody><tr><td>1</td><td>4469</td><td>3</td><td>2648</td><td>2</td><td>2</td><td>1</td><td>2234.5</td></tr><tr><td>2</td><td>1177</td><td>1</td><td>0</td><td>0</td><td>1</td><td>0</td><td>1177.0</td></tr><tr><td>3</td><td>0</td><td>0</td><td>0</td><td>0</td><td>0</td><td>0</td><td>0.0</td></tr><tr><td>4</td><td>0</td><td>0</td><td>0</td><td>0</td><td>0</td><td>0</td><td>0.0</td></tr><tr><td>5</td><td>0</td><td>0</td><td>0</td><td>0</td><td>0</td><td>0</td><td>0.0</td></tr><tr><td>&hellip;</td><td>&hellip;</td><td>&hellip;</td><td>&hellip;</td><td>&hellip;</td><td>&hellip;</td><td>&hellip;</td><td>&hellip;</td></tr><tr><td>2353</td><td>0</td><td>0</td><td>3955</td><td>3</td><td>0</td><td>2</td><td>0.0</td></tr><tr><td>2354</td><td>22464</td><td>11</td><td>0</td><td>0</td><td>5</td><td>0</td><td>4492.8</td></tr><tr><td>2355</td><td>0</td><td>0</td><td>2460</td><td>2</td><td>0</td><td>1</td><td>0.0</td></tr><tr><td>2356</td><td>13327</td><td>10</td><td>5796</td><td>4</td><td>4</td><td>2</td><td>3331.75</td></tr><tr><td>2357</td><td>0</td><td>0</td><td>0</td><td>0</td><td>0</td><td>0</td><td>0.0</td></tr></tbody></table></div>"
      ],
      "text/plain": [
       "shape: (2_357, 8)\n",
       "┌──────┬───────────┬───────────┬───────────┬───────────┬─────┬─────┬──────────────────────┐\n",
       "│ ID   ┆ P1X Spend ┆ P1X Quant ┆ P2X Spend ┆ P2X Quant ┆ P1X ┆ P2X ┆ Avg Spend per Repeat │\n",
       "│ ---  ┆ ---       ┆ ---       ┆ ---       ┆ ---       ┆ --- ┆ --- ┆ ---                  │\n",
       "│ i32  ┆ i64       ┆ i64       ┆ i64       ┆ i64       ┆ u32 ┆ u32 ┆ f64                  │\n",
       "╞══════╪═══════════╪═══════════╪═══════════╪═══════════╪═════╪═════╪══════════════════════╡\n",
       "│ 1    ┆ 4469      ┆ 3         ┆ 2648      ┆ 2         ┆ 2   ┆ 1   ┆ 2234.5               │\n",
       "│ 2    ┆ 1177      ┆ 1         ┆ 0         ┆ 0         ┆ 1   ┆ 0   ┆ 1177.0               │\n",
       "│ 3    ┆ 0         ┆ 0         ┆ 0         ┆ 0         ┆ 0   ┆ 0   ┆ 0.0                  │\n",
       "│ 4    ┆ 0         ┆ 0         ┆ 0         ┆ 0         ┆ 0   ┆ 0   ┆ 0.0                  │\n",
       "│ 5    ┆ 0         ┆ 0         ┆ 0         ┆ 0         ┆ 0   ┆ 0   ┆ 0.0                  │\n",
       "│ …    ┆ …         ┆ …         ┆ …         ┆ …         ┆ …   ┆ …   ┆ …                    │\n",
       "│ 2353 ┆ 0         ┆ 0         ┆ 3955      ┆ 3         ┆ 0   ┆ 2   ┆ 0.0                  │\n",
       "│ 2354 ┆ 22464     ┆ 11        ┆ 0         ┆ 0         ┆ 5   ┆ 0   ┆ 4492.8               │\n",
       "│ 2355 ┆ 0         ┆ 0         ┆ 2460      ┆ 2         ┆ 0   ┆ 1   ┆ 0.0                  │\n",
       "│ 2356 ┆ 13327     ┆ 10        ┆ 5796      ┆ 4         ┆ 4   ┆ 2   ┆ 3331.75              │\n",
       "│ 2357 ┆ 0         ┆ 0         ┆ 0         ┆ 0         ┆ 0   ┆ 0   ┆ 0.0                  │\n",
       "└──────┴───────────┴───────────┴───────────┴───────────┴─────┴─────┴──────────────────────┘"
      ]
     },
     "execution_count": 12,
     "metadata": {},
     "output_type": "execute_result"
    }
   ],
   "source": [
    "# The average spend per repeat transaction\n",
    "mx = (\n",
    "    pSpendQuant\n",
    "    .join(px, on='ID', how='left')\n",
    "    .with_columns(\n",
    "        (pl.col('P1X Spend') / pl.col('P1X')).alias('Avg Spend per Repeat')\n",
    "    ).fill_nan(0)\n",
    ")\n",
    "\n",
    "mx.collect()"
   ]
  },
  {
   "cell_type": "markdown",
   "metadata": {},
   "source": [
    "#### Recency & effective calibration period"
   ]
  },
  {
   "cell_type": "markdown",
   "metadata": {},
   "source": [
    "When fitting models such as the Pareto/NBD and BG/NBD to these data, we also want to know the “recency” information for each customer, as well as their effective calibration period:"
   ]
  },
  {
   "cell_type": "code",
   "execution_count": 13,
   "metadata": {},
   "outputs": [
    {
     "data": {
      "text/html": [
       "<div><style>\n",
       ".dataframe > thead > tr,\n",
       ".dataframe > tbody > tr {\n",
       "  text-align: right;\n",
       "  white-space: pre-wrap;\n",
       "}\n",
       "</style>\n",
       "<small>shape: (2_357, 3)</small><table border=\"1\" class=\"dataframe\"><thead><tr><th>ID</th><th>Time to Last Repeat</th><th>Eff. Calibration Period</th></tr><tr><td>i32</td><td>f64</td><td>f64</td></tr></thead><tbody><tr><td>1</td><td>30.428571</td><td>38.857143</td></tr><tr><td>2</td><td>1.714286</td><td>38.857143</td></tr><tr><td>3</td><td>0.0</td><td>38.857143</td></tr><tr><td>4</td><td>0.0</td><td>38.857143</td></tr><tr><td>5</td><td>0.0</td><td>38.857143</td></tr><tr><td>&hellip;</td><td>&hellip;</td><td>&hellip;</td></tr><tr><td>2353</td><td>0.0</td><td>27.0</td></tr><tr><td>2354</td><td>24.285714</td><td>27.0</td></tr><tr><td>2355</td><td>0.0</td><td>27.0</td></tr><tr><td>2356</td><td>26.571429</td><td>27.0</td></tr><tr><td>2357</td><td>0.0</td><td>27.0</td></tr></tbody></table></div>"
      ],
      "text/plain": [
       "shape: (2_357, 3)\n",
       "┌──────┬─────────────────────┬─────────────────────────┐\n",
       "│ ID   ┆ Time to Last Repeat ┆ Eff. Calibration Period │\n",
       "│ ---  ┆ ---                 ┆ ---                     │\n",
       "│ i32  ┆ f64                 ┆ f64                     │\n",
       "╞══════╪═════════════════════╪═════════════════════════╡\n",
       "│ 1    ┆ 30.428571           ┆ 38.857143               │\n",
       "│ 2    ┆ 1.714286            ┆ 38.857143               │\n",
       "│ 3    ┆ 0.0                 ┆ 38.857143               │\n",
       "│ 4    ┆ 0.0                 ┆ 38.857143               │\n",
       "│ 5    ┆ 0.0                 ┆ 38.857143               │\n",
       "│ …    ┆ …                   ┆ …                       │\n",
       "│ 2353 ┆ 0.0                 ┆ 27.0                    │\n",
       "│ 2354 ┆ 24.285714           ┆ 27.0                    │\n",
       "│ 2355 ┆ 0.0                 ┆ 27.0                    │\n",
       "│ 2356 ┆ 26.571429           ┆ 27.0                    │\n",
       "│ 2357 ┆ 0.0                 ┆ 27.0                    │\n",
       "└──────┴─────────────────────┴─────────────────────────┘"
      ]
     },
     "execution_count": 13,
     "metadata": {},
     "output_type": "execute_result"
    }
   ],
   "source": [
    "# time of last calibration period repeat purchase (in weeks)\n",
    "ttlrp = (\n",
    "    CDNOW_sample\n",
    "    .join(px, on='ID', how='left')\n",
    "    .with_columns(\n",
    "        pl.col('PurchDay').filter(pl.col('DoR') == 0)\n",
    "        .first()\n",
    "        .over('ID')\n",
    "        .alias('Trial Day')\n",
    "    )\n",
    "    .group_by('ID', maintain_order=True)\n",
    "    .agg(\n",
    "        pl.col('PurchDay', 'Trial Day')\n",
    "        .filter(pl.col('DoR') <= pl.col('P1X'))\n",
    "        .max()\n",
    "        # .alias('LastPurch')\n",
    "    )\n",
    "    .with_columns(\n",
    "        # effective calibration period (in weeks)\n",
    "        ((pl.col('PurchDay') - pl.col('Trial Day')) / 7).alias('Time to Last Repeat'),\n",
    "        ((calwk - pl.col('Trial Day'))/7).alias('Eff. Calibration Period')\n",
    "    )\n",
    "    .drop('PurchDay', 'Trial Day')\n",
    ")\n",
    "\n",
    "ttlrp.collect()"
   ]
  }
 ],
 "metadata": {
  "kernelspec": {
   "display_name": "Main (venv)",
   "language": "python",
   "name": ".venv"
  },
  "language_info": {
   "codemirror_mode": {
    "name": "ipython",
    "version": 3
   },
   "file_extension": ".py",
   "mimetype": "text/x-python",
   "name": "python",
   "nbconvert_exporter": "python",
   "pygments_lexer": "ipython3",
   "version": "3.13.1"
  }
 },
 "nbformat": 4,
 "nbformat_minor": 2
}
