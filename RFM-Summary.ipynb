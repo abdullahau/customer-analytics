{
 "cells": [
  {
   "cell_type": "markdown",
   "metadata": {},
   "source": [
    "## <span style=\"color:#956bbf\">RFM: Recency, Frequency, Monetary value Summary</span>\n",
    "---"
   ]
  },
  {
   "cell_type": "markdown",
   "metadata": {},
   "source": [
    "### <span style=\"color:#956bbf\">Introduction</span>\n",
    "---"
   ]
  },
  {
   "cell_type": "markdown",
   "metadata": {},
   "source": [
    "**Source**:\n",
    "- [Creating an RFM Summary Using Excel](https://www.brucehardie.com/notes/022/)\n",
    "- [Notes on the CDNOW Master Data Set](https://www.brucehardie.com/notes/026/)"
   ]
  },
  {
   "cell_type": "markdown",
   "metadata": {},
   "source": [
    "In order to estimate the parameters of **transaction-flow models** such as the Pareto/NBD and BG/NBD, as well as those of the associated models for **spend per transaction** (spend model), we need an RFM (recency, frequency, monetary value) summary of each customer’s purchasing behavior. In particular,\n",
    "1. The **transaction-flow model** requires three pieces of information about each customer’s purchasing history: their “recency”(when their last transaction occurred), “frequency” (how many transactions they made in a specified time period), and the length of time over which we have observed their purchasing behavior. The notation used to represent this information is $(x, tx, T)$, where $x$ is the number of transactions observed in the time period $(0, T]$ and $t_{x}$ $(0 \\le tx \\le T)$ is the time of the last transaction.\n",
    "2. The **spend model** requires two pieces of information about each customer’s purchasing history: the average “monetary value” of each transaction (denoted by $m_x$) and the number of transactions over which this average is computed (i.e., frequency, $x$)."
   ]
  },
  {
   "cell_type": "markdown",
   "metadata": {},
   "source": [
    "### <span style=\"color:#956bbf\">Imports</span>\n",
    "---"
   ]
  },
  {
   "cell_type": "markdown",
   "metadata": {},
   "source": [
    "#### Import Packages"
   ]
  },
  {
   "cell_type": "code",
   "execution_count": 1,
   "metadata": {},
   "outputs": [],
   "source": [
    "import polars as pl\n",
    "import numpy as np"
   ]
  },
  {
   "cell_type": "markdown",
   "metadata": {},
   "source": [
    "#### Import Data"
   ]
  },
  {
   "cell_type": "markdown",
   "metadata": {},
   "source": [
    "We will make use of the CDNOW dataset. The master dataset contains the entire purchase history up to the end of June 1998 of the cohort of 23,570 individuals who made their first-ever purchase at CDNOW in the first quarter of 1997. \n",
    "\n",
    "The file `CDNOW_sample.csv` contains purchasing data for a 1/10th systematic sample of the whole cohort (2357 customers). Each record in this file, 6919 in total, comprises five fields: the customer’s ID in the master dataset, the customer’s ID in the 1/10th sample dataset (ranging from 1 to 2357), the date of the transaction, the number of CDs purchased, and the dollar value of the transaction."
   ]
  },
  {
   "cell_type": "code",
   "execution_count": 2,
   "metadata": {},
   "outputs": [],
   "source": [
    "CDNOW_master = (\n",
    "    pl.scan_csv(source = 'data/CDNOW/CDNOW_master.csv', \n",
    "                has_header=False, \n",
    "                separator=',', \n",
    "                schema={'CustID': pl.Int32,     # customer id\n",
    "                        'Date': pl.String,      # transaction date\n",
    "                        'Quant': pl.Int16,      # number of CDs purchased\n",
    "                        'Spend': pl.Float64})   # dollar value (excl. S&H)\n",
    "    .with_columns(pl.col('Date').str.to_date(\"%Y%m%d\"))\n",
    "    .with_columns((pl.col('Date') - pl.date(1996,12,31)).dt.total_days().cast(pl.UInt16).alias('PurchDay'))\n",
    "    .with_columns((pl.col('Spend')*100).round(0).cast(pl.Int64).alias('Spend Scaled'))\n",
    "    .group_by('CustID', 'Date')\n",
    "    .agg(pl.col('*').exclude('PurchDay').sum(), pl.col('PurchDay').max()) # Multiple transactions by a customer on a single day are aggregated into one\n",
    "    .sort('CustID', 'Date')\n",
    "    .with_columns((pl.col(\"CustID\").cum_count().over(\"CustID\") - 1).cast(pl.UInt16).alias(\"DoR\"))  # DoR = Depth of Repeat ('Transaction' time: starts with 0 as trial, 1 as 1st repeat and so on)\n",
    ")"
   ]
  },
  {
   "cell_type": "code",
   "execution_count": 3,
   "metadata": {},
   "outputs": [],
   "source": [
    "# MATLAB Sampling (due to numerical float precision handling differences, original sampling results cannot be replicated unless spend is scaled in MATLAB)\n",
    "CDNOW_sample = (\n",
    "    pl.scan_csv(source='data/CDNOW/CDNOW_sample.csv',\n",
    "                has_header=False,\n",
    "                separator=',',\n",
    "                schema={'CustID': pl.Int32,\n",
    "                        'NewID': pl.Int32,\n",
    "                        'Date': pl.String,\n",
    "                        'Quant': pl.Int16,\n",
    "                        'Spend': pl.Float64})\n",
    "    .with_columns(pl.col('Date').str.to_date(\"%Y%m%d\"))\n",
    "    .with_columns((pl.col('Date') - pl.date(1996,12,31)).dt.total_days().cast(pl.UInt16).alias('PurchDay'))\n",
    "    .with_columns((pl.col('Spend')*100).round(0).cast(pl.Int64).alias('Spend Scaled'))\n",
    "    .group_by('NewID', 'Date')\n",
    "    .agg(pl.col('*').exclude('PurchDay').sum(), pl.col('PurchDay').max())\n",
    "    .sort('NewID', 'Date')\n",
    "    .with_columns((pl.col(\"NewID\").cum_count().over(\"NewID\") - 1).cast(pl.UInt16).alias(\"DoR\"))      \n",
    "    .drop('CustID')\n",
    "    .rename({'NewID': 'ID'})\n",
    ")"
   ]
  },
  {
   "cell_type": "markdown",
   "metadata": {},
   "source": [
    "1. We assume that the records in the raw transaction data file are grouped by customer, and sorted within customer by date of transaction. If in doubt, sort the raw dataset by customer ID and date of transaction.\n",
    "2. As they are of no interest to us in this particular case, we delete the first and fourth columns (master dataset customer ID and # CDs purchased, respectively). \n",
    "3. We note that some customers had more than one transaction on a given day. For example, customer 26 had two separate transactions on 13 January 1997, while customer 46 had two separate transactions on 28 August 1997. There are about 233 such \"additional\" transactions. The transaction-flow models are developed by telling a story about **interpurchase times**. As we only know the date (and not the time) of each transaction, we need to aggregate the records associated with same-day transactions—we can’t have an interpurchase time of 0"
   ]
  },
  {
   "cell_type": "markdown",
   "metadata": {},
   "source": [
    "### <span style=\"color:#956bbf\">“Frequency” and “Monetary Value”</span>\n",
    "---"
   ]
  },
  {
   "cell_type": "markdown",
   "metadata": {},
   "source": [
    "We now compute the frequency and monetary value summaries for each customer.\n",
    "\n",
    "Most of the previous analyses undertaken using this dataset have split the 78 weeks of data in half, creating a 39-week calibration period (1997-01-01 to 1997-09-30) and 39-week validation period (1997-10-01 to 1998-06-30). Furthermore, these analyses have generally ignored each customer’s first-ever purchase at CDNOW, which signals the start of the customer’s “relationship” with the firm; this means calibration-period “frequency” has usually been the number of repeat transactions, and “monetary value” has been the average dollar value per repeat transaction."
   ]
  },
  {
   "cell_type": "code",
   "execution_count": 4,
   "metadata": {},
   "outputs": [],
   "source": [
    "calwk = 273 # 39 week calibration period\n",
    "\n",
    "CDNOW_sample = (\n",
    "    CDNOW_sample\n",
    "    .with_columns(\n",
    "        pl.when(pl.col('DoR') == 0)\n",
    "        .then(pl.lit('first'))\n",
    "        .otherwise(pl.when(pl.col('PurchDay') <= calwk)\n",
    "                   .then(pl.lit('calib'))\n",
    "                   .otherwise(pl.lit('valid'))\n",
    "        ).alias('Period')\n",
    "    )\n",
    ")"
   ]
  },
  {
   "cell_type": "code",
   "execution_count": 5,
   "metadata": {},
   "outputs": [],
   "source": [
    "unauthorized_resellers = CDNOW_master.group_by('CustID').agg(pl.col('Spend').sum()).filter(pl.col('Spend') > 4200).collect()\n",
    "\n",
    "CDNOW_master = (\n",
    "    CDNOW_master\n",
    "    .filter(~pl.col('CustID').is_in(unauthorized_resellers.select('CustID'))) # remove the purchasing data for ten buyers who purchased more than $4,000 worth of CDs across the 78-week period.\n",
    "    .with_columns(\n",
    "        pl.when(pl.col('DoR') == 0)\n",
    "        .then(pl.lit('first'))\n",
    "        .otherwise(pl.when(pl.col('PurchDay') <= calwk)\n",
    "                   .then(pl.lit('calib'))\n",
    "                   .otherwise(pl.lit('valid'))\n",
    "        ).alias('Period')\n",
    "    )\n",
    ")"
   ]
  },
  {
   "cell_type": "code",
   "execution_count": 6,
   "metadata": {},
   "outputs": [],
   "source": [
    "# the number of repeat transactions made in the calibration and validation periods\n",
    "num_repeat_trans_sample = (\n",
    "    CDNOW_sample\n",
    "    .group_by('ID', 'Period')\n",
    "    .agg(pl.len().alias('x'))\n",
    ")"
   ]
  },
  {
   "cell_type": "code",
   "execution_count": 7,
   "metadata": {},
   "outputs": [],
   "source": [
    "# the number of repeat transactions made in the calibration and validation periods\n",
    "num_repeat_trans = (\n",
    "    CDNOW_master\n",
    "    .group_by('CustID', 'Period')\n",
    "    .agg(pl.len().alias('x'))\n",
    ")"
   ]
  },
  {
   "cell_type": "code",
   "execution_count": 8,
   "metadata": {},
   "outputs": [],
   "source": [
    "# the average spend per repeat transaction for the calibration and validation periods\n",
    "avg_spend_per_repeat_trans_sample = (\n",
    "    CDNOW_sample\n",
    "    .group_by('ID', 'Period')\n",
    "    .agg(pl.col('Spend Scaled').mean().alias('m_x'))\n",
    ")"
   ]
  },
  {
   "cell_type": "code",
   "execution_count": 9,
   "metadata": {},
   "outputs": [],
   "source": [
    "# the average spend per repeat transaction for the calibration and validation periods\n",
    "avg_spend_per_repeat_trans = (\n",
    "    CDNOW_master\n",
    "    .group_by('CustID', 'Period')\n",
    "    .agg(pl.col('Spend Scaled').mean().alias('m_x'))\n",
    ")"
   ]
  },
  {
   "cell_type": "markdown",
   "metadata": {},
   "source": [
    "### <span style=\"color:#956bbf\">“Recency”</span>\n",
    "---"
   ]
  },
  {
   "cell_type": "markdown",
   "metadata": {},
   "source": [
    "The next step is to compute recency, as well as the length of time over which we have observed each customer’s purchasing behavior."
   ]
  },
  {
   "cell_type": "markdown",
   "metadata": {},
   "source": [
    "$T$ is the effective calibration period, the length of time we observe each customer (i.e., the time between the customer’s first-ever purchase at CDNOW and the end of the calibration period)"
   ]
  },
  {
   "cell_type": "code",
   "execution_count": 10,
   "metadata": {},
   "outputs": [],
   "source": [
    "# Effective calibration period - the length of time we observe each customer\n",
    "eff_cal_period_sample = (\n",
    "    CDNOW_sample\n",
    "    .filter(pl.col('DoR') == 0)\n",
    "    .with_columns(((pl.lit(calwk) - pl.col('PurchDay')) / 7).alias('T')) # Eff. Calibration Period\n",
    "    .rename({'PurchDay': 'Trial Day'})   \n",
    ")"
   ]
  },
  {
   "cell_type": "code",
   "execution_count": 11,
   "metadata": {},
   "outputs": [],
   "source": [
    "# Effective calibration period - the length of time we observe each customer\n",
    "eff_cal_period = (\n",
    "    CDNOW_master\n",
    "    .filter(pl.col('DoR') == 0)\n",
    "    .with_columns(((pl.lit(calwk) - pl.col('PurchDay')) / 7).alias('T')) # Eff. Calibration Period\n",
    "    .rename({'PurchDay': 'Trial Day'})   \n",
    ")"
   ]
  },
  {
   "cell_type": "markdown",
   "metadata": {},
   "source": [
    "For modeling purposes, “recency” is not the calendar date of the last observed purchase; rather the time origin for $t_x$ is the start of the observation period. Since we track customers’ purchasing from their first-ever purchase at CDNOW, the date of this first purchase is the time origin. Therefore, $t_x$ is the length of time between the first-ever purchase and the last observed purchase (in the calibration period), i.e., Last Purchase − First Purchase."
   ]
  },
  {
   "cell_type": "code",
   "execution_count": 12,
   "metadata": {},
   "outputs": [
    {
     "data": {
      "text/html": [
       "<div><style>\n",
       ".dataframe > thead > tr,\n",
       ".dataframe > tbody > tr {\n",
       "  text-align: right;\n",
       "  white-space: pre-wrap;\n",
       "}\n",
       "</style>\n",
       "<small>shape: (2_357, 3)</small><table border=\"1\" class=\"dataframe\"><thead><tr><th>ID</th><th>T</th><th>t_x</th></tr><tr><td>i32</td><td>f64</td><td>f64</td></tr></thead><tbody><tr><td>1</td><td>38.857143</td><td>30.428571</td></tr><tr><td>2</td><td>38.857143</td><td>1.714286</td></tr><tr><td>3</td><td>38.857143</td><td>0.0</td></tr><tr><td>4</td><td>38.857143</td><td>0.0</td></tr><tr><td>5</td><td>38.857143</td><td>0.0</td></tr><tr><td>&hellip;</td><td>&hellip;</td><td>&hellip;</td></tr><tr><td>2353</td><td>27.0</td><td>0.0</td></tr><tr><td>2354</td><td>27.0</td><td>24.285714</td></tr><tr><td>2355</td><td>27.0</td><td>0.0</td></tr><tr><td>2356</td><td>27.0</td><td>26.571429</td></tr><tr><td>2357</td><td>27.0</td><td>0.0</td></tr></tbody></table></div>"
      ],
      "text/plain": [
       "shape: (2_357, 3)\n",
       "┌──────┬───────────┬───────────┐\n",
       "│ ID   ┆ T         ┆ t_x       │\n",
       "│ ---  ┆ ---       ┆ ---       │\n",
       "│ i32  ┆ f64       ┆ f64       │\n",
       "╞══════╪═══════════╪═══════════╡\n",
       "│ 1    ┆ 38.857143 ┆ 30.428571 │\n",
       "│ 2    ┆ 38.857143 ┆ 1.714286  │\n",
       "│ 3    ┆ 38.857143 ┆ 0.0       │\n",
       "│ 4    ┆ 38.857143 ┆ 0.0       │\n",
       "│ 5    ┆ 38.857143 ┆ 0.0       │\n",
       "│ …    ┆ …         ┆ …         │\n",
       "│ 2353 ┆ 27.0      ┆ 0.0       │\n",
       "│ 2354 ┆ 27.0      ┆ 24.285714 │\n",
       "│ 2355 ┆ 27.0      ┆ 0.0       │\n",
       "│ 2356 ┆ 27.0      ┆ 26.571429 │\n",
       "│ 2357 ┆ 27.0      ┆ 0.0       │\n",
       "└──────┴───────────┴───────────┘"
      ]
     },
     "execution_count": 12,
     "metadata": {},
     "output_type": "execute_result"
    }
   ],
   "source": [
    "# time of last calibration period repeat purchase (in weeks) - recency number in days\n",
    "ttlrp_sample = (\n",
    "    CDNOW_sample\n",
    "    .filter(pl.col('Period') != 'valid')\n",
    "    .group_by('ID')\n",
    "    .agg(pl.col('PurchDay').max())\n",
    "    .join(other=eff_cal_period_sample, on='ID', how='left')\n",
    "    .with_columns(((pl.col('PurchDay') - pl.col('Trial Day'))/7).alias('t_x')) # Time to Last Repeat\n",
    "    .select('ID', 'T', 't_x')\n",
    ")\n",
    "\n",
    "ttlrp_sample.collect()"
   ]
  },
  {
   "cell_type": "code",
   "execution_count": 13,
   "metadata": {},
   "outputs": [],
   "source": [
    "# time of last calibration period repeat purchase (in weeks) - recency number in days\n",
    "ttlrp = (\n",
    "    CDNOW_master\n",
    "    .filter(pl.col('Period') != 'valid')\n",
    "    .group_by('CustID')\n",
    "    .agg(pl.col('PurchDay').max())\n",
    "    .join(other=eff_cal_period, on='CustID', how='left')\n",
    "    .with_columns(((pl.col('PurchDay') - pl.col('Trial Day'))/7).alias('t_x')) # Time to Last Repeat\n",
    "    .select('CustID', 'T', 't_x')\n",
    ")"
   ]
  },
  {
   "cell_type": "markdown",
   "metadata": {},
   "source": [
    "### <span style=\"color:#956bbf\">RFM Summary</span>\n",
    "---"
   ]
  },
  {
   "cell_type": "markdown",
   "metadata": {},
   "source": [
    "RFM summary of calibration-period transactions:\n",
    "\n",
    "This is the required “RFM” summary of calibration-period buying behavior needed to estimate the previously mentioned models of *transaction flow* and *spend per transaction*."
   ]
  },
  {
   "cell_type": "code",
   "execution_count": 14,
   "metadata": {},
   "outputs": [],
   "source": [
    "rfm_calib_sample = (\n",
    "    CDNOW_sample\n",
    "    .group_by('ID').agg()\n",
    "    .join(\n",
    "        other=num_repeat_trans_sample.filter(pl.col('Period') == 'calib').drop('Period'), \n",
    "        on='ID', how='left'\n",
    "    ).join(\n",
    "        other=avg_spend_per_repeat_trans_sample.filter(pl.col('Period') == 'calib').drop('Period'), \n",
    "        on='ID', how='left'\n",
    "    ).join(\n",
    "        other=ttlrp_sample, \n",
    "        on='ID', how='left'        \n",
    "    ).fill_null(0)\n",
    ")"
   ]
  },
  {
   "cell_type": "code",
   "execution_count": 15,
   "metadata": {},
   "outputs": [],
   "source": [
    "rfm_calib = (\n",
    "    CDNOW_master\n",
    "    .group_by('CustID').agg()\n",
    "    .join(\n",
    "        other=num_repeat_trans.filter(pl.col('Period') == 'calib').drop('Period'), \n",
    "        on='CustID', how='left'\n",
    "    ).join(\n",
    "        other=avg_spend_per_repeat_trans.filter(pl.col('Period') == 'calib').drop('Period'), \n",
    "        on='CustID', how='left'\n",
    "    ).join(\n",
    "        other=ttlrp, \n",
    "        on='CustID', how='left'        \n",
    "    ).fill_null(0)\n",
    ")"
   ]
  },
  {
   "cell_type": "code",
   "execution_count": 16,
   "metadata": {},
   "outputs": [
    {
     "data": {
      "text/html": [
       "<div><style>\n",
       ".dataframe > thead > tr,\n",
       ".dataframe > tbody > tr {\n",
       "  text-align: right;\n",
       "  white-space: pre-wrap;\n",
       "}\n",
       "</style>\n",
       "<small>shape: (7_049, 2)</small><table border=\"1\" class=\"dataframe\"><thead><tr><th>CustID</th><th>Total Spend</th></tr><tr><td>i32</td><td>i64</td></tr></thead><tbody><tr><td>3</td><td>9540</td></tr><tr><td>4</td><td>2648</td></tr><tr><td>5</td><td>12440</td></tr><tr><td>7</td><td>23593</td></tr><tr><td>8</td><td>9187</td></tr><tr><td>&hellip;</td><td>&hellip;</td></tr><tr><td>23556</td><td>5796</td></tr><tr><td>23558</td><td>4822</td></tr><tr><td>23561</td><td>5254</td></tr><tr><td>23563</td><td>4798</td></tr><tr><td>23564</td><td>4647</td></tr></tbody></table></div>"
      ],
      "text/plain": [
       "shape: (7_049, 2)\n",
       "┌────────┬─────────────┐\n",
       "│ CustID ┆ Total Spend │\n",
       "│ ---    ┆ ---         │\n",
       "│ i32    ┆ i64         │\n",
       "╞════════╪═════════════╡\n",
       "│ 3      ┆ 9540        │\n",
       "│ 4      ┆ 2648        │\n",
       "│ 5      ┆ 12440       │\n",
       "│ 7      ┆ 23593       │\n",
       "│ 8      ┆ 9187        │\n",
       "│ …      ┆ …           │\n",
       "│ 23556  ┆ 5796        │\n",
       "│ 23558  ┆ 4822        │\n",
       "│ 23561  ┆ 5254        │\n",
       "│ 23563  ┆ 4798        │\n",
       "│ 23564  ┆ 4647        │\n",
       "└────────┴─────────────┘"
      ]
     },
     "execution_count": 16,
     "metadata": {},
     "output_type": "execute_result"
    }
   ],
   "source": [
    "total_valid_spend = (\n",
    "    CDNOW_master\n",
    "    .filter(pl.col('Period') == 'valid')\n",
    "    .group_by(\"CustID\")\n",
    "    .agg(pl.col('Spend Scaled').sum().alias('Total Spend'))\n",
    ")\n",
    "\n",
    "total_valid_spend.collect()"
   ]
  },
  {
   "cell_type": "code",
   "execution_count": 17,
   "metadata": {},
   "outputs": [
    {
     "data": {
      "text/html": [
       "<div><style>\n",
       ".dataframe > thead > tr,\n",
       ".dataframe > tbody > tr {\n",
       "  text-align: right;\n",
       "  white-space: pre-wrap;\n",
       "}\n",
       "</style>\n",
       "<small>shape: (16, 9)</small><table border=\"1\" class=\"dataframe\"><thead><tr><th>t_x</th><th>0</th><th>1</th><th>2</th><th>3</th><th>4</th><th>5</th><th>6</th><th>7+</th></tr><tr><td>cat</td><td>f64</td><td>f64</td><td>f64</td><td>f64</td><td>f64</td><td>f64</td><td>f64</td><td>f64</td></tr></thead><tbody><tr><td>&quot;0&quot;</td><td>913.390113</td><td>0.0</td><td>0.0</td><td>0.0</td><td>0.0</td><td>0.0</td><td>0.0</td><td>0.0</td></tr><tr><td>&quot;1&quot;</td><td>0.0</td><td>1479.390244</td><td>854.944444</td><td>7054.0</td><td>0.0</td><td>0.0</td><td>0.0</td><td>0.0</td></tr><tr><td>&quot;2&quot;</td><td>0.0</td><td>1735.398281</td><td>1915.5</td><td>258.166667</td><td>14190.5</td><td>0.0</td><td>0.0</td><td>0.0</td></tr><tr><td>&quot;3&quot;</td><td>0.0</td><td>1933.296667</td><td>1623.555556</td><td>8958.444444</td><td>0.0</td><td>0.0</td><td>0.0</td><td>0.0</td></tr><tr><td>&quot;4&quot;</td><td>0.0</td><td>1855.200803</td><td>3345.527273</td><td>1093.529412</td><td>0.0</td><td>0.0</td><td>0.0</td><td>0.0</td></tr><tr><td>&hellip;</td><td>&hellip;</td><td>&hellip;</td><td>&hellip;</td><td>&hellip;</td><td>&hellip;</td><td>&hellip;</td><td>&hellip;</td><td>&hellip;</td></tr><tr><td>&quot;11&quot;</td><td>0.0</td><td>3308.375</td><td>4153.942029</td><td>4080.730769</td><td>14353.6</td><td>2318.2</td><td>499.5</td><td>0.0</td></tr><tr><td>&quot;12&quot;</td><td>0.0</td><td>3394.594059</td><td>3383.54</td><td>4752.076923</td><td>6817.058824</td><td>1606.6</td><td>15241.0</td><td>24147.0</td></tr><tr><td>&quot;13&quot;</td><td>0.0</td><td>4816.465347</td><td>3067.826923</td><td>4457.5</td><td>4066.0</td><td>3499.5</td><td>6877.6</td><td>0.0</td></tr><tr><td>&quot;14&quot;</td><td>0.0</td><td>2970.17</td><td>3896.636364</td><td>4579.28</td><td>6836.0</td><td>2034.25</td><td>0.0</td><td>10436.333333</td></tr><tr><td>&quot;15&quot;</td><td>0.0</td><td>3690.331184</td><td>6386.543163</td><td>8138.784672</td><td>10435.111538</td><td>13031.27476</td><td>16345.980237</td><td>26247.932787</td></tr></tbody></table></div>"
      ],
      "text/plain": [
       "shape: (16, 9)\n",
       "┌─────┬────────────┬────────────┬────────────┬───┬────────────┬────────────┬───────────┬───────────┐\n",
       "│ t_x ┆ 0          ┆ 1          ┆ 2          ┆ … ┆ 4          ┆ 5          ┆ 6         ┆ 7+        │\n",
       "│ --- ┆ ---        ┆ ---        ┆ ---        ┆   ┆ ---        ┆ ---        ┆ ---       ┆ ---       │\n",
       "│ cat ┆ f64        ┆ f64        ┆ f64        ┆   ┆ f64        ┆ f64        ┆ f64       ┆ f64       │\n",
       "╞═════╪════════════╪════════════╪════════════╪═══╪════════════╪════════════╪═══════════╪═══════════╡\n",
       "│ 0   ┆ 913.390113 ┆ 0.0        ┆ 0.0        ┆ … ┆ 0.0        ┆ 0.0        ┆ 0.0       ┆ 0.0       │\n",
       "│ 1   ┆ 0.0        ┆ 1479.39024 ┆ 854.944444 ┆ … ┆ 0.0        ┆ 0.0        ┆ 0.0       ┆ 0.0       │\n",
       "│     ┆            ┆ 4          ┆            ┆   ┆            ┆            ┆           ┆           │\n",
       "│ 2   ┆ 0.0        ┆ 1735.39828 ┆ 1915.5     ┆ … ┆ 14190.5    ┆ 0.0        ┆ 0.0       ┆ 0.0       │\n",
       "│     ┆            ┆ 1          ┆            ┆   ┆            ┆            ┆           ┆           │\n",
       "│ 3   ┆ 0.0        ┆ 1933.29666 ┆ 1623.55555 ┆ … ┆ 0.0        ┆ 0.0        ┆ 0.0       ┆ 0.0       │\n",
       "│     ┆            ┆ 7          ┆ 6          ┆   ┆            ┆            ┆           ┆           │\n",
       "│ 4   ┆ 0.0        ┆ 1855.20080 ┆ 3345.52727 ┆ … ┆ 0.0        ┆ 0.0        ┆ 0.0       ┆ 0.0       │\n",
       "│     ┆            ┆ 3          ┆ 3          ┆   ┆            ┆            ┆           ┆           │\n",
       "│ …   ┆ …          ┆ …          ┆ …          ┆ … ┆ …          ┆ …          ┆ …         ┆ …         │\n",
       "│ 11  ┆ 0.0        ┆ 3308.375   ┆ 4153.94202 ┆ … ┆ 14353.6    ┆ 2318.2     ┆ 499.5     ┆ 0.0       │\n",
       "│     ┆            ┆            ┆ 9          ┆   ┆            ┆            ┆           ┆           │\n",
       "│ 12  ┆ 0.0        ┆ 3394.59405 ┆ 3383.54    ┆ … ┆ 6817.05882 ┆ 1606.6     ┆ 15241.0   ┆ 24147.0   │\n",
       "│     ┆            ┆ 9          ┆            ┆   ┆ 4          ┆            ┆           ┆           │\n",
       "│ 13  ┆ 0.0        ┆ 4816.46534 ┆ 3067.82692 ┆ … ┆ 4066.0     ┆ 3499.5     ┆ 6877.6    ┆ 0.0       │\n",
       "│     ┆            ┆ 7          ┆ 3          ┆   ┆            ┆            ┆           ┆           │\n",
       "│ 14  ┆ 0.0        ┆ 2970.17    ┆ 3896.63636 ┆ … ┆ 6836.0     ┆ 2034.25    ┆ 0.0       ┆ 10436.333 │\n",
       "│     ┆            ┆            ┆ 4          ┆   ┆            ┆            ┆           ┆ 333       │\n",
       "│ 15  ┆ 0.0        ┆ 3690.33118 ┆ 6386.54316 ┆ … ┆ 10435.1115 ┆ 13031.2747 ┆ 16345.980 ┆ 26247.932 │\n",
       "│     ┆            ┆ 4          ┆ 3          ┆   ┆ 38         ┆ 6          ┆ 237       ┆ 787       │\n",
       "└─────┴────────────┴────────────┴────────────┴───┴────────────┴────────────┴───────────┴───────────┘"
      ]
     },
     "execution_count": 17,
     "metadata": {},
     "output_type": "execute_result"
    }
   ],
   "source": [
    "test = (\n",
    "    rfm_calib\n",
    "    .join(total_valid_spend, on='CustID', how='left')\n",
    "    .with_columns(pl.col('x').cut(np.arange(0, 7), labels=[str(i) if i < 7 else '7+' for i in range(8)]))\n",
    "    .with_columns(pl.col('t_x').cut(np.arange(0, 15), labels=[str(i) for i in range(16)]))\n",
    "    .fill_null(0)\n",
    "    .group_by('x', 't_x')\n",
    "    .agg(pl.col('Total Spend').mean())\n",
    "    .sort('Total Spend', descending=True)\n",
    "    .collect()\n",
    "    .sort('x')\n",
    "    .pivot(on='x', index='t_x', values='Total Spend')\n",
    "    .sort('t_x')\n",
    "    .fill_null(0)\n",
    ")\n",
    "test"
   ]
  },
  {
   "cell_type": "code",
   "execution_count": 18,
   "metadata": {},
   "outputs": [
    {
     "ename": "ValueError",
     "evalue": "shape mismatch: objects cannot be broadcast to a single shape.  Mismatch is between arg 0 with shape (40, 8) and arg 2 with shape (16, 8).",
     "output_type": "error",
     "traceback": [
      "\u001b[0;31m---------------------------------------------------------------------------\u001b[0m",
      "\u001b[0;31mValueError\u001b[0m                                Traceback (most recent call last)",
      "Cell \u001b[0;32mIn[18], line 9\u001b[0m\n\u001b[1;32m      6\u001b[0m fig, ax \u001b[38;5;241m=\u001b[39m plt\u001b[38;5;241m.\u001b[39msubplots(figsize\u001b[38;5;241m=\u001b[39m(\u001b[38;5;241m8\u001b[39m, \u001b[38;5;241m12\u001b[39m), subplot_kw\u001b[38;5;241m=\u001b[39m{\u001b[38;5;124m'\u001b[39m\u001b[38;5;124mprojection\u001b[39m\u001b[38;5;124m'\u001b[39m: \u001b[38;5;124m'\u001b[39m\u001b[38;5;124m3d\u001b[39m\u001b[38;5;124m'\u001b[39m})\n\u001b[1;32m      8\u001b[0m \u001b[38;5;66;03m# Give the first plot only wireframes of the type y = c\u001b[39;00m\n\u001b[0;32m----> 9\u001b[0m \u001b[43max\u001b[49m\u001b[38;5;241;43m.\u001b[39;49m\u001b[43mplot_wireframe\u001b[49m\u001b[43m(\u001b[49m\u001b[43mX\u001b[49m\u001b[43m,\u001b[49m\u001b[43m \u001b[49m\u001b[43mY\u001b[49m\u001b[43m,\u001b[49m\u001b[43m \u001b[49m\u001b[43mZ\u001b[49m\u001b[43m,\u001b[49m\u001b[43m \u001b[49m\u001b[43mrstride\u001b[49m\u001b[38;5;241;43m=\u001b[39;49m\u001b[38;5;241;43m0\u001b[39;49m\u001b[43m,\u001b[49m\u001b[43m \u001b[49m\u001b[43mcstride\u001b[49m\u001b[38;5;241;43m=\u001b[39;49m\u001b[38;5;241;43m7\u001b[39;49m\u001b[43m)\u001b[49m\n\u001b[1;32m     10\u001b[0m ax\u001b[38;5;241m.\u001b[39mset_title(\u001b[38;5;124m\"\u001b[39m\u001b[38;5;124m Average Total Spend in Weeks 40–78 by Recency and Frequency in Weeks 1–39\u001b[39m\u001b[38;5;124m\"\u001b[39m)\n\u001b[1;32m     12\u001b[0m ax\u001b[38;5;241m.\u001b[39mview_init(elev\u001b[38;5;241m=\u001b[39m\u001b[38;5;241m30\u001b[39m, azim\u001b[38;5;241m=\u001b[39m\u001b[38;5;241m-\u001b[39m\u001b[38;5;241m140\u001b[39m, roll\u001b[38;5;241m=\u001b[39m\u001b[38;5;241m0\u001b[39m)\n",
      "File \u001b[0;32m~/Documents/Coding-Projects/.venv/lib/python3.13/site-packages/mpl_toolkits/mplot3d/axes3d.py:2372\u001b[0m, in \u001b[0;36mAxes3D.plot_wireframe\u001b[0;34m(self, X, Y, Z, axlim_clip, **kwargs)\u001b[0m\n\u001b[1;32m   2370\u001b[0m     \u001b[38;5;28;01mraise\u001b[39;00m \u001b[38;5;167;01mValueError\u001b[39;00m(\u001b[38;5;124m\"\u001b[39m\u001b[38;5;124mArgument Z must be 2-dimensional.\u001b[39m\u001b[38;5;124m\"\u001b[39m)\n\u001b[1;32m   2371\u001b[0m \u001b[38;5;66;03m# FIXME: Support masked arrays\u001b[39;00m\n\u001b[0;32m-> 2372\u001b[0m X, Y, Z \u001b[38;5;241m=\u001b[39m \u001b[43mnp\u001b[49m\u001b[38;5;241;43m.\u001b[39;49m\u001b[43mbroadcast_arrays\u001b[49m\u001b[43m(\u001b[49m\u001b[43mX\u001b[49m\u001b[43m,\u001b[49m\u001b[43m \u001b[49m\u001b[43mY\u001b[49m\u001b[43m,\u001b[49m\u001b[43m \u001b[49m\u001b[43mZ\u001b[49m\u001b[43m)\u001b[49m\n\u001b[1;32m   2373\u001b[0m rows, cols \u001b[38;5;241m=\u001b[39m Z\u001b[38;5;241m.\u001b[39mshape\n\u001b[1;32m   2375\u001b[0m has_stride \u001b[38;5;241m=\u001b[39m \u001b[38;5;124m'\u001b[39m\u001b[38;5;124mrstride\u001b[39m\u001b[38;5;124m'\u001b[39m \u001b[38;5;129;01min\u001b[39;00m kwargs \u001b[38;5;129;01mor\u001b[39;00m \u001b[38;5;124m'\u001b[39m\u001b[38;5;124mcstride\u001b[39m\u001b[38;5;124m'\u001b[39m \u001b[38;5;129;01min\u001b[39;00m kwargs\n",
      "File \u001b[0;32m~/Documents/Coding-Projects/.venv/lib/python3.13/site-packages/numpy/lib/_stride_tricks_impl.py:544\u001b[0m, in \u001b[0;36mbroadcast_arrays\u001b[0;34m(subok, *args)\u001b[0m\n\u001b[1;32m    537\u001b[0m \u001b[38;5;66;03m# nditer is not used here to avoid the limit of 32 arrays.\u001b[39;00m\n\u001b[1;32m    538\u001b[0m \u001b[38;5;66;03m# Otherwise, something like the following one-liner would suffice:\u001b[39;00m\n\u001b[1;32m    539\u001b[0m \u001b[38;5;66;03m# return np.nditer(args, flags=['multi_index', 'zerosize_ok'],\u001b[39;00m\n\u001b[1;32m    540\u001b[0m \u001b[38;5;66;03m#                  order='C').itviews\u001b[39;00m\n\u001b[1;32m    542\u001b[0m args \u001b[38;5;241m=\u001b[39m [np\u001b[38;5;241m.\u001b[39marray(_m, copy\u001b[38;5;241m=\u001b[39m\u001b[38;5;28;01mNone\u001b[39;00m, subok\u001b[38;5;241m=\u001b[39msubok) \u001b[38;5;28;01mfor\u001b[39;00m _m \u001b[38;5;129;01min\u001b[39;00m args]\n\u001b[0;32m--> 544\u001b[0m shape \u001b[38;5;241m=\u001b[39m \u001b[43m_broadcast_shape\u001b[49m\u001b[43m(\u001b[49m\u001b[38;5;241;43m*\u001b[39;49m\u001b[43margs\u001b[49m\u001b[43m)\u001b[49m\n\u001b[1;32m    546\u001b[0m result \u001b[38;5;241m=\u001b[39m [array \u001b[38;5;28;01mif\u001b[39;00m array\u001b[38;5;241m.\u001b[39mshape \u001b[38;5;241m==\u001b[39m shape\n\u001b[1;32m    547\u001b[0m           \u001b[38;5;28;01melse\u001b[39;00m _broadcast_to(array, shape, subok\u001b[38;5;241m=\u001b[39msubok, readonly\u001b[38;5;241m=\u001b[39m\u001b[38;5;28;01mFalse\u001b[39;00m)\n\u001b[1;32m    548\u001b[0m                           \u001b[38;5;28;01mfor\u001b[39;00m array \u001b[38;5;129;01min\u001b[39;00m args]\n\u001b[1;32m    549\u001b[0m \u001b[38;5;28;01mreturn\u001b[39;00m \u001b[38;5;28mtuple\u001b[39m(result)\n",
      "File \u001b[0;32m~/Documents/Coding-Projects/.venv/lib/python3.13/site-packages/numpy/lib/_stride_tricks_impl.py:419\u001b[0m, in \u001b[0;36m_broadcast_shape\u001b[0;34m(*args)\u001b[0m\n\u001b[1;32m    414\u001b[0m \u001b[38;5;250m\u001b[39m\u001b[38;5;124;03m\"\"\"Returns the shape of the arrays that would result from broadcasting the\u001b[39;00m\n\u001b[1;32m    415\u001b[0m \u001b[38;5;124;03msupplied arrays against each other.\u001b[39;00m\n\u001b[1;32m    416\u001b[0m \u001b[38;5;124;03m\"\"\"\u001b[39;00m\n\u001b[1;32m    417\u001b[0m \u001b[38;5;66;03m# use the old-iterator because np.nditer does not handle size 0 arrays\u001b[39;00m\n\u001b[1;32m    418\u001b[0m \u001b[38;5;66;03m# consistently\u001b[39;00m\n\u001b[0;32m--> 419\u001b[0m b \u001b[38;5;241m=\u001b[39m \u001b[43mnp\u001b[49m\u001b[38;5;241;43m.\u001b[39;49m\u001b[43mbroadcast\u001b[49m\u001b[43m(\u001b[49m\u001b[38;5;241;43m*\u001b[39;49m\u001b[43margs\u001b[49m\u001b[43m[\u001b[49m\u001b[43m:\u001b[49m\u001b[38;5;241;43m32\u001b[39;49m\u001b[43m]\u001b[49m\u001b[43m)\u001b[49m\n\u001b[1;32m    420\u001b[0m \u001b[38;5;66;03m# unfortunately, it cannot handle 32 or more arguments directly\u001b[39;00m\n\u001b[1;32m    421\u001b[0m \u001b[38;5;28;01mfor\u001b[39;00m pos \u001b[38;5;129;01min\u001b[39;00m \u001b[38;5;28mrange\u001b[39m(\u001b[38;5;241m32\u001b[39m, \u001b[38;5;28mlen\u001b[39m(args), \u001b[38;5;241m31\u001b[39m):\n\u001b[1;32m    422\u001b[0m     \u001b[38;5;66;03m# ironically, np.broadcast does not properly handle np.broadcast\u001b[39;00m\n\u001b[1;32m    423\u001b[0m     \u001b[38;5;66;03m# objects (it treats them as scalars)\u001b[39;00m\n\u001b[1;32m    424\u001b[0m     \u001b[38;5;66;03m# use broadcasting to avoid allocating the full array\u001b[39;00m\n",
      "\u001b[0;31mValueError\u001b[0m: shape mismatch: objects cannot be broadcast to a single shape.  Mismatch is between arg 0 with shape (40, 8) and arg 2 with shape (16, 8)."
     ]
    },
    {
     "data": {
      "image/png": "[encoded data removed]",
      "text/plain": [
       "<Figure size 800x1200 with 1 Axes>"
      ]
     },
     "metadata": {},
     "output_type": "display_data"
    }
   ],
   "source": [
    "import matplotlib.pyplot as plt\n",
    "\n",
    "X, Y = np.meshgrid(np.arange(8) + 1, np.arange(40) + 1)\n",
    "Z = (test.to_numpy()[:,1:]/100)\n",
    "\n",
    "fig, ax = plt.subplots(figsize=(8, 12), subplot_kw={'projection': '3d'})\n",
    "\n",
    "# Give the first plot only wireframes of the type y = c\n",
    "ax.plot_wireframe(X, Y, Z, rstride=0, cstride=7)\n",
    "ax.set_title(\" Average Total Spend in Weeks 40–78 by Recency and Frequency in Weeks 1–39\")\n",
    "\n",
    "ax.view_init(elev=30, azim=-140, roll=0)\n",
    "\n",
    "# Get rid of colored axes planes\n",
    "# First remove fill\n",
    "ax.xaxis.pane.fill = False\n",
    "ax.yaxis.pane.fill = False\n",
    "ax.zaxis.pane.fill = False\n",
    "\n",
    "plt.tight_layout()\n",
    "plt.show()"
   ]
  },
  {
   "cell_type": "markdown",
   "metadata": {},
   "source": [
    "We can create a summary of validation-period purchasing behavior by extracting the corresponding\n",
    "number of transactions and average spend per transaction numbers from the dataframes constructed above."
   ]
  },
  {
   "cell_type": "markdown",
   "metadata": {},
   "source": [
    "#### The number of repeat transactions made by each customer in each period"
   ]
  },
  {
   "cell_type": "code",
   "execution_count": null,
   "metadata": {},
   "outputs": [],
   "source": [
    "calwk = 273 # 39 week calibration period\n",
    "\n",
    "# The number of repeat transactions made by each customer in each period\n",
    "px = (\n",
    "    CDNOW_sample\n",
    "    .group_by('ID', maintain_order=True)\n",
    "    .agg(\n",
    "        pl.col('PurchDay')\n",
    "        .filter((pl.col('PurchDay') <= calwk) & (pl.col('DoR') > 0))\n",
    "        .count()\n",
    "        .alias('P1X'), # Period 1: Calibration Period\n",
    "\n",
    "        pl.col('PurchDay')\n",
    "        .filter((pl.col('PurchDay') > calwk) & (pl.col('DoR') > 0))\n",
    "        .count()\n",
    "        .alias('P2X')  # Period 2: Longitudinal Holdout Period      \n",
    "    )\n",
    ")"
   ]
  },
  {
   "cell_type": "markdown",
   "metadata": {},
   "source": [
    "#### The number of CDs purchased and total spend across these repeat transactions"
   ]
  },
  {
   "cell_type": "code",
   "execution_count": null,
   "metadata": {},
   "outputs": [],
   "source": [
    "# The number of CDs purchased and total spend across these repeat transactions\n",
    "pSpendQuant = (\n",
    "    CDNOW_sample\n",
    "    .join(px, on='ID', how='left')\n",
    "    .group_by('ID', maintain_order=True)\n",
    "    .agg(\n",
    "        \n",
    "        pl.col('Spend Scaled')\n",
    "        .filter((pl.col('DoR') > 0) & (pl.col('DoR') <= pl.col('P1X')) & (pl.col('P1X') != 0))\n",
    "        .sum()\n",
    "        .alias('P1X Spend'),\n",
    "        \n",
    "        pl.col('Quant')\n",
    "        .filter((pl.col('DoR') > 0) & (pl.col('DoR') <= pl.col('P1X')) & (pl.col('P1X') != 0))\n",
    "        .sum()\n",
    "        .alias('P1X Quant'),        \n",
    "        \n",
    "        pl.col('Spend Scaled')\n",
    "        .filter((pl.col('DoR') > 0) & (pl.col('DoR') > pl.col('P1X')))\n",
    "        .sum()\n",
    "        .alias('P2X Spend'),\n",
    "        \n",
    "        pl.col('Quant')\n",
    "        .filter((pl.col('DoR') > 0) & (pl.col('DoR') > pl.col('P1X')))\n",
    "        .sum()\n",
    "        .alias('P2X Quant')                \n",
    "    )\n",
    ")"
   ]
  },
  {
   "cell_type": "markdown",
   "metadata": {},
   "source": [
    "#### The average spend per repeat transaction"
   ]
  },
  {
   "cell_type": "code",
   "execution_count": null,
   "metadata": {},
   "outputs": [],
   "source": [
    "# The average spend per repeat transaction\n",
    "mx = (\n",
    "    pSpendQuant\n",
    "    .join(px, on='ID', how='left')\n",
    "    .with_columns(\n",
    "        (pl.col('P1X Spend') / pl.col('P1X')).alias('Avg Spend per Repeat')\n",
    "    ).fill_nan(0)\n",
    ")"
   ]
  },
  {
   "cell_type": "markdown",
   "metadata": {},
   "source": [
    "#### Recency & effective calibration period"
   ]
  },
  {
   "cell_type": "markdown",
   "metadata": {},
   "source": [
    "When fitting models such as the Pareto/NBD and BG/NBD to these data, we also want to know the “recency” information for each customer, as well as their effective calibration period:"
   ]
  },
  {
   "cell_type": "code",
   "execution_count": null,
   "metadata": {},
   "outputs": [],
   "source": [
    "# time of last calibration period repeat purchase (in weeks)\n",
    "ttlrp = (\n",
    "    CDNOW_sample\n",
    "    .join(px, on='ID', how='left')\n",
    "    .with_columns(\n",
    "        pl.col('PurchDay').filter(pl.col('DoR') == 0)\n",
    "        .first()\n",
    "        .over('ID')\n",
    "        .alias('Trial Day')\n",
    "    )\n",
    "    .group_by('ID', maintain_order=True)\n",
    "    .agg(\n",
    "        pl.col('PurchDay', 'Trial Day')\n",
    "        .filter(pl.col('DoR') <= pl.col('P1X'))\n",
    "        .max()\n",
    "        # .alias('LastPurch')\n",
    "    )\n",
    "    .with_columns(\n",
    "        # effective calibration period (in weeks)\n",
    "        ((pl.col('PurchDay') - pl.col('Trial Day')) / 7).alias('Time to Last Repeat'),\n",
    "        ((calwk - pl.col('Trial Day'))/7).alias('Eff. Calibration Period')\n",
    "    )\n",
    "    .drop('PurchDay', 'Trial Day')\n",
    ")"
   ]
  }
 ],
 "metadata": {
  "kernelspec": {
   "display_name": "fin",
   "language": "python",
   "name": "python3"
  },
  "language_info": {
   "codemirror_mode": {
    "name": "ipython",
    "version": 3
   },
   "file_extension": ".py",
   "mimetype": "text/x-python",
   "name": "python",
   "nbconvert_exporter": "python",
   "pygments_lexer": "ipython3",
   "version": "3.12.8"
  }
 },
 "nbformat": 4,
 "nbformat_minor": 2
}
