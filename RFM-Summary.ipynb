{
 "cells": [
  {
   "cell_type": "markdown",
   "metadata": {},
   "source": [
    "## <span style=\"color:#956bbf\">RFM: Recency, Frequency, Monetary value Summary</span>\n",
    "---"
   ]
  },
  {
   "cell_type": "markdown",
   "metadata": {},
   "source": [
    "### <span style=\"color:#956bbf\">Introduction</span>\n",
    "---"
   ]
  },
  {
   "cell_type": "markdown",
   "metadata": {},
   "source": [
    "In order to estimate the parameters of **transaction-flow models** such as the Pareto/NBD and BG/NBD, as well as those of the associated models for **spend per transaction** (spend model), we need an RFM (recency, frequency, monetary value) summary of each customer’s purchasing behavior. In particular,\n",
    "1. The **transaction-flow model** requires three pieces of information about each customer’s purchasing history: their “recency”(when their last transaction occurred), “frequency” (how many transactions they made in a specified time period), and the length of time over which we have observed their purchasing behavior. The notation used to represent this information is $(x, tx, T)$, where $x$ is the number of transactions observed in the time period $(0, T]$ and $t_{x}$ $(0 \\le tx \\le T)$ is the time of the last transaction.\n",
    "2. The **spend model** requires two pieces of information about each customer’s purchasing history: the average “monetary value” of each transaction (denoted by $m_x$) and the number of transactions over which this average is computed (i.e., frequency, $x$)."
   ]
  },
  {
   "cell_type": "markdown",
   "metadata": {},
   "source": [
    "### <span style=\"color:#956bbf\">Imports</span>\n",
    "---"
   ]
  },
  {
   "cell_type": "markdown",
   "metadata": {},
   "source": [
    "#### Import Packages"
   ]
  },
  {
   "cell_type": "code",
   "execution_count": 1,
   "metadata": {},
   "outputs": [],
   "source": [
    "import polars as pl\n",
    "import numpy as np"
   ]
  },
  {
   "cell_type": "markdown",
   "metadata": {},
   "source": [
    "#### Import Data"
   ]
  },
  {
   "cell_type": "markdown",
   "metadata": {},
   "source": [
    "We will make use of the CDNOW dataset. The master dataset contains the entire purchase history up to the end of June 1998 of the cohort of 23,570 individuals who made their first-ever purchase at CDNOW in the first quarter of 1997. \n",
    "\n",
    "The file `CDNOW_sample.csv` contains purchasing data for a 1/10th systematic sample of the whole cohort (2357 customers). Each record in this file, 6919 in total, comprises five fields: the customer’s ID in the master dataset, the customer’s ID in the 1/10th sample dataset (ranging from 1 to 2357), the date of the transaction, the number of CDs purchased, and the dollar value of the transaction."
   ]
  },
  {
   "cell_type": "code",
   "execution_count": null,
   "metadata": {},
   "outputs": [],
   "source": [
    "CDNOW_master = (\n",
    "    pl.scan_csv(source = 'data/CDNOW/CDNOW_master.csv', \n",
    "                has_header=False, \n",
    "                separator=',', \n",
    "                schema={'CustID': pl.Int32,     # customer id\n",
    "                        'Date': pl.String,      # transaction date\n",
    "                        'Quant': pl.Int16,      # number of CDs purchased\n",
    "                        'Spend': pl.Float64})   # dollar value (excl. S&H)\n",
    "    .with_columns(pl.col('Date').str.to_date(\"%Y%m%d\"))\n",
    "    .with_columns((pl.col('Date') - pl.date(1996,12,31)).dt.total_days().cast(pl.UInt16).alias('PurchDay'))\n",
    "    .with_columns((pl.col('Spend')*100).round(0).cast(pl.Int64).alias('Spend Scaled'))\n",
    "    .group_by('CustID', 'Date')\n",
    "    .agg(pl.col('*').exclude('PurchDay').sum(), pl.col('PurchDay').max()) # Multiple transactions by a customer on a single day are aggregated into one\n",
    "    .sort('CustID', 'Date')\n",
    "    .with_columns((pl.col(\"CustID\").cum_count().over(\"CustID\") - 1).cast(pl.UInt16).alias(\"DoR\"))  # DoR = Depth of Repeat ('Transaction' time: starts with 0 as trial, 1 as 1st repeat and so on)\n",
    ")"
   ]
  },
  {
   "cell_type": "code",
   "execution_count": 3,
   "metadata": {},
   "outputs": [
    {
     "data": {
      "text/html": [
       "<div><style>\n",
       ".dataframe > thead > tr,\n",
       ".dataframe > tbody > tr {\n",
       "  text-align: right;\n",
       "  white-space: pre-wrap;\n",
       "}\n",
       "</style>\n",
       "<small>shape: (6_696, 6)</small><table border=\"1\" class=\"dataframe\"><thead><tr><th>Date</th><th>ID</th><th>Spend</th><th>Spend Scaled</th><th>PurchDay</th><th>DoR</th></tr><tr><td>date</td><td>i32</td><td>f64</td><td>i64</td><td>u16</td><td>u16</td></tr></thead><tbody><tr><td>1997-01-01</td><td>1</td><td>29.33</td><td>2933</td><td>1</td><td>0</td></tr><tr><td>1997-01-18</td><td>1</td><td>29.73</td><td>2973</td><td>18</td><td>1</td></tr><tr><td>1997-08-02</td><td>1</td><td>14.96</td><td>1496</td><td>214</td><td>2</td></tr><tr><td>1997-12-12</td><td>1</td><td>26.48</td><td>2648</td><td>346</td><td>3</td></tr><tr><td>1997-01-04</td><td>58</td><td>14.96</td><td>1496</td><td>4</td><td>0</td></tr><tr><td>&hellip;</td><td>&hellip;</td><td>&hellip;</td><td>&hellip;</td><td>&hellip;</td><td>&hellip;</td></tr><tr><td>1997-07-26</td><td>2356</td><td>45.74</td><td>4574</td><td>207</td><td>3</td></tr><tr><td>1997-09-27</td><td>2356</td><td>31.47</td><td>3147</td><td>270</td><td>4</td></tr><tr><td>1998-01-03</td><td>2356</td><td>28.98</td><td>2898</td><td>368</td><td>5</td></tr><tr><td>1998-06-07</td><td>2356</td><td>28.98</td><td>2898</td><td>523</td><td>6</td></tr><tr><td>1997-03-25</td><td>2357</td><td>25.74</td><td>2574</td><td>84</td><td>0</td></tr></tbody></table></div>"
      ],
      "text/plain": [
       "shape: (6_696, 6)\n",
       "┌────────────┬──────┬───────┬──────────────┬──────────┬─────┐\n",
       "│ Date       ┆ ID   ┆ Spend ┆ Spend Scaled ┆ PurchDay ┆ DoR │\n",
       "│ ---        ┆ ---  ┆ ---   ┆ ---          ┆ ---      ┆ --- │\n",
       "│ date       ┆ i32  ┆ f64   ┆ i64          ┆ u16      ┆ u16 │\n",
       "╞════════════╪══════╪═══════╪══════════════╪══════════╪═════╡\n",
       "│ 1997-01-01 ┆ 1    ┆ 29.33 ┆ 2933         ┆ 1        ┆ 0   │\n",
       "│ 1997-01-18 ┆ 1    ┆ 29.73 ┆ 2973         ┆ 18       ┆ 1   │\n",
       "│ 1997-08-02 ┆ 1    ┆ 14.96 ┆ 1496         ┆ 214      ┆ 2   │\n",
       "│ 1997-12-12 ┆ 1    ┆ 26.48 ┆ 2648         ┆ 346      ┆ 3   │\n",
       "│ 1997-01-04 ┆ 58   ┆ 14.96 ┆ 1496         ┆ 4        ┆ 0   │\n",
       "│ …          ┆ …    ┆ …     ┆ …            ┆ …        ┆ …   │\n",
       "│ 1997-07-26 ┆ 2356 ┆ 45.74 ┆ 4574         ┆ 207      ┆ 3   │\n",
       "│ 1997-09-27 ┆ 2356 ┆ 31.47 ┆ 3147         ┆ 270      ┆ 4   │\n",
       "│ 1998-01-03 ┆ 2356 ┆ 28.98 ┆ 2898         ┆ 368      ┆ 5   │\n",
       "│ 1998-06-07 ┆ 2356 ┆ 28.98 ┆ 2898         ┆ 523      ┆ 6   │\n",
       "│ 1997-03-25 ┆ 2357 ┆ 25.74 ┆ 2574         ┆ 84       ┆ 0   │\n",
       "└────────────┴──────┴───────┴──────────────┴──────────┴─────┘"
      ]
     },
     "execution_count": 3,
     "metadata": {},
     "output_type": "execute_result"
    }
   ],
   "source": [
    "# MATLAB Sampling (due to numerical float precision handling differences, original sampling results cannot be replicated unless spend is scaled in MATLAB)\n",
    "CDNOW_sample = (\n",
    "    pl.scan_csv(source='data/CDNOW/CDNOW_sample.csv',\n",
    "                has_header=False,\n",
    "                separator=',',\n",
    "                schema={'CustID': pl.Int32,\n",
    "                        'NewID': pl.Int32,\n",
    "                        'Date': pl.String,\n",
    "                        'Quant': pl.Int16,\n",
    "                        'Spend': pl.Float64})\n",
    "    .with_columns(pl.col('Date').str.to_date(\"%Y%m%d\"))\n",
    "    .with_columns((pl.col('Date') - pl.date(1996,12,31)).dt.total_days().cast(pl.UInt16).alias('PurchDay'))\n",
    "    .with_columns((pl.col('Spend')*100).round(0).cast(pl.Int64).alias('Spend Scaled'))\n",
    "    .group_by('CustID', 'Date')\n",
    "    .agg(pl.col('*').exclude('PurchDay').sum(), pl.col('PurchDay').max())\n",
    "    .sort('CustID', 'Date')\n",
    "    .with_columns((pl.col(\"CustID\").cum_count().over(\"CustID\") - 1).cast(pl.UInt16).alias(\"DoR\"))      \n",
    "    .drop('CustID', 'Quant')\n",
    "    .rename({'NewID': 'ID'})\n",
    ")\n",
    "\n",
    "CDNOW_sample.collect()"
   ]
  },
  {
   "cell_type": "markdown",
   "metadata": {},
   "source": [
    "1. We assume that the records in the raw transaction data file are grouped by customer, and sorted within customer by date of transaction. If in doubt, sort the raw dataset by customer ID and date of transaction.\n",
    "2. As they are of no interest to us in this particular case, we delete the first and fourth columns (master dataset customer ID and # CDs purchased, respectively). \n",
    "3. We note that some customers had more than one transaction on a given day. For example, customer 26 had two separate transactions on 13 January 1997, while customer 46 had two separate transactions on 28 August 1997. There are about 233 such \"additional\" transactions. The transaction-flow models are developed by telling a story about **interpurchase times**. As we only know the date (and not the time) of each transaction, we need to aggregate the records associated with same-day transactions—we can’t have an interpurchase time of 0"
   ]
  },
  {
   "cell_type": "markdown",
   "metadata": {},
   "source": [
    "### <span style=\"color:#956bbf\">“Frequency” and “Monetary Value”</span>\n",
    "---"
   ]
  },
  {
   "cell_type": "markdown",
   "metadata": {},
   "source": [
    "We now compute the frequency and monetary value summaries for each customer.\n",
    "\n",
    "Most of the previous analyses undertaken using this dataset have split the 78 weeks of data in half, creating a 39-week calibration period (1997-01-01–1997-09-30) and 39-week validation period (1997-10-01–1998-06-30). Furthermore, these analyses have generally ignored each customer’s first-ever purchase at CDNOW, which signals the start of the customer’s “relationship” with the firm; this means calibration-period “frequency” has usually been the number of repeat transactions, and “monetary value” has been the average dollar value per repeat transaction."
   ]
  }
 ],
 "metadata": {
  "kernelspec": {
   "display_name": ".venv",
   "language": "python",
   "name": "python3"
  },
  "language_info": {
   "codemirror_mode": {
    "name": "ipython",
    "version": 3
   },
   "file_extension": ".py",
   "mimetype": "text/x-python",
   "name": "python",
   "nbconvert_exporter": "python",
   "pygments_lexer": "ipython3",
   "version": "3.13.1"
  }
 },
 "nbformat": 4,
 "nbformat_minor": 2
}
