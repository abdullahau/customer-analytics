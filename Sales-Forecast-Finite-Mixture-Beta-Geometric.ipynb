{
 "cells": [
  {
   "cell_type": "markdown",
   "metadata": {},
   "source": [
    "## <span style=\"color:#956bbf\">Sales Forecast: Predicting Unit Sales Using Finite Mixture Model with Beta-Geometric Distribution</span>\n",
    "---"
   ]
  },
  {
   "cell_type": "markdown",
   "metadata": {},
   "source": [
    "### <span style=\"color:#956bbf\">Introduction</span>"
   ]
  },
  {
   "cell_type": "markdown",
   "metadata": {},
   "source": [
    "The model discussed here is applicable for the following two-dimensional classification of customer base: \n",
    "\n",
    "1) **Opportunities for transactions: Continuous-Time**\n",
    "   - By “continuous-time” we mean that transactions can occur at any point in time.\n",
    "2) **Type of relationship with customers: Noncontractual**\n",
    "   - In a “noncontractual” setting, the absence of a contract or subscription means that the point in time at which the customer becomes inactive is not observed by the firm (e.g., a catalog retailer). The challenge is how to differentiate between a customer who has ended a “relationship” with the firm versus one who is merely in the midst of a long hiatus between transactions."
   ]
  },
  {
   "cell_type": "markdown",
   "metadata": {},
   "source": [
    "**Source**: \n",
    "- [Forecasting Repeat Sales at CDNOW: A Case Study](https://www.jstor.org/stable/25062705)\n",
    "- [A Note on Implementing the Fader and Hardie \"CDNOW Model\"](https://www.brucehardie.com/notes/002/)\n",
    "- [Notes on the CDNOW Master Data Set](https://www.brucehardie.com/notes/026/)\n",
    "\n",
    "The objective here is to incorporate an easily implementable model of buyer behavior capable of generating a medium-term forecast of aggregate purchasing by a cohort of customers. Aggregate-level forecasts are a critical input to any attempt to value a customer base, and serve as a diagnostic to help gauge the effectiveness of various short-term marketing programs (e.g., the provision of a baseline sales estimate against which the performance of a promotion can be evaluated).\n",
    "\n",
    "First, we discuss the background to the modeling exercise and present the [dataset](#import_data) on which this work is based. We then develop the [stochastic model](#model-development) of buyer behavior which is used to generate forecasts of future CD purchasing. This is followed by the empirical analysis where we examine the fit of the proposed model and its forecasting ability."
   ]
  },
  {
   "cell_type": "markdown",
   "metadata": {},
   "source": [
    "Note to user interested in using this model:\n",
    "1) The data being modeled are counts of relatively homogeneous units (e.g., CDs). This model must not be used to model dollar sales or counts of products that are not very similar (e.g., the number of products purchased at Amazon.com where the units include such disparate items as books, electronic equipment, lawn furniture, and so on).\n",
    "2) Use of the shifted-geometric/geometric distributions implies that the *modal trial quantity* is 1 unit and that the *modal* number of units purchased in subsequent weeks, conditional on being a “possible repeat buyer”, is 0. If this is not that case, it will be necessary to change the underlying model structure. For example, the shifted beta-geometric model of trial counts could be replaced by the truncated or shifted NBD (which can have a mode away from 1). Similarly, the beta-geometric repeat purchasing distribution could be replaced by the NBD (which can have a non-zero mode).\n",
    "3) A number of other assumptions made, implicitly or explicitly, in the paper should also be acknowledged and taken into account (e.g., the independence of quantity decisions across transactions)."
   ]
  },
  {
   "cell_type": "markdown",
   "metadata": {},
   "source": [
    "### <span style=\"color:#956bbf\">Imports</span>\n",
    "---"
   ]
  },
  {
   "cell_type": "markdown",
   "metadata": {},
   "source": [
    "#### Import Packages"
   ]
  },
  {
   "cell_type": "code",
   "execution_count": 1,
   "metadata": {},
   "outputs": [],
   "source": [
    "import polars as pl\n",
    "import numpy as np\n",
    "import altair as alt\n",
    "from utils import ChartTemp, layered_line_prop\n",
    "\n",
    "from scipy.optimize import minimize\n",
    "from scipy.stats import chi2, beta\n",
    "from scipy.linalg import toeplitz\n",
    "\n",
    "from great_tables import GT \n",
    "from IPython.display import display_markdown"
   ]
  },
  {
   "cell_type": "markdown",
   "metadata": {},
   "source": [
    "#### Import Transaction Data\n",
    "<a id='import_data'></a>"
   ]
  },
  {
   "cell_type": "markdown",
   "metadata": {},
   "source": [
    "For the purposes of this work, we focus on a **single cohort of new customers** who made their first purchase at the CDNOW website in the first quarter of 1997. We have data covering their **initial (\"trial\")** and **subsequent (\"repeat\") purchases** for the three month period (1/97 - 3/97) during which over 23,000 individuals purchased nearly 70,000 units (CDs). We are interested in **forecasting the future (repeat) purchasing of these customers** using a model calibrated with these quarter 1 data."
   ]
  },
  {
   "cell_type": "code",
   "execution_count": 2,
   "metadata": {},
   "outputs": [
    {
     "data": {
      "text/html": [
       "<div><style>\n",
       ".dataframe > thead > tr,\n",
       ".dataframe > tbody > tr {\n",
       "  text-align: right;\n",
       "  white-space: pre-wrap;\n",
       "}\n",
       "</style>\n",
       "<small>shape: (5, 7)</small><table border=\"1\" class=\"dataframe\"><thead><tr><th>CustID</th><th>Date</th><th>Quant</th><th>Spend</th><th>Spend Scaled</th><th>PurchDay</th><th>DoR</th></tr><tr><td>i32</td><td>date</td><td>i64</td><td>f64</td><td>i64</td><td>u16</td><td>u16</td></tr></thead><tbody><tr><td>1</td><td>1997-01-01</td><td>1</td><td>11.77</td><td>1177</td><td>1</td><td>0</td></tr><tr><td>2</td><td>1997-01-12</td><td>6</td><td>89.0</td><td>8900</td><td>12</td><td>0</td></tr><tr><td>3</td><td>1997-01-02</td><td>2</td><td>20.76</td><td>2076</td><td>2</td><td>0</td></tr><tr><td>3</td><td>1997-03-30</td><td>2</td><td>20.76</td><td>2076</td><td>89</td><td>1</td></tr><tr><td>3</td><td>1997-04-02</td><td>2</td><td>19.54</td><td>1954</td><td>92</td><td>2</td></tr></tbody></table></div>"
      ],
      "text/plain": [
       "shape: (5, 7)\n",
       "┌────────┬────────────┬───────┬───────┬──────────────┬──────────┬─────┐\n",
       "│ CustID ┆ Date       ┆ Quant ┆ Spend ┆ Spend Scaled ┆ PurchDay ┆ DoR │\n",
       "│ ---    ┆ ---        ┆ ---   ┆ ---   ┆ ---          ┆ ---      ┆ --- │\n",
       "│ i32    ┆ date       ┆ i64   ┆ f64   ┆ i64          ┆ u16      ┆ u16 │\n",
       "╞════════╪════════════╪═══════╪═══════╪══════════════╪══════════╪═════╡\n",
       "│ 1      ┆ 1997-01-01 ┆ 1     ┆ 11.77 ┆ 1177         ┆ 1        ┆ 0   │\n",
       "│ 2      ┆ 1997-01-12 ┆ 6     ┆ 89.0  ┆ 8900         ┆ 12       ┆ 0   │\n",
       "│ 3      ┆ 1997-01-02 ┆ 2     ┆ 20.76 ┆ 2076         ┆ 2        ┆ 0   │\n",
       "│ 3      ┆ 1997-03-30 ┆ 2     ┆ 20.76 ┆ 2076         ┆ 89       ┆ 1   │\n",
       "│ 3      ┆ 1997-04-02 ┆ 2     ┆ 19.54 ┆ 1954         ┆ 92       ┆ 2   │\n",
       "└────────┴────────────┴───────┴───────┴──────────────┴──────────┴─────┘"
      ]
     },
     "metadata": {},
     "output_type": "display_data"
    }
   ],
   "source": [
    "CDNOW_master = (\n",
    "    pl.scan_csv(source = 'data/CDNOW/CDNOW_master.csv', \n",
    "                has_header=False, \n",
    "                separator=',', \n",
    "                schema={'CustID': pl.Int32,     # customer id\n",
    "                        'Date': pl.String,      # transaction date\n",
    "                        'Quant': pl.Int16,      # number of CDs purchased\n",
    "                        'Spend': pl.Float64})   # dollar value (excl. S&H)\n",
    "    .with_columns(pl.col('Date').str.to_date(\"%Y%m%d\"))\n",
    "    .with_columns((pl.col('Date') - pl.date(1996,12,31)).dt.total_days().cast(pl.UInt16).alias('PurchDay'))\n",
    "    .with_columns((pl.col('Spend')*100).round(0).cast(pl.Int64).alias('Spend Scaled'))\n",
    "    .group_by('CustID', 'Date')\n",
    "    .agg(pl.col('*').exclude('PurchDay').sum(), pl.col('PurchDay').max()) # Multiple transactions by a customer on a single day are aggregated into one\n",
    "    .sort('CustID', 'Date')\n",
    "    .with_columns((pl.col(\"CustID\").cum_count().over(\"CustID\") - 1).cast(pl.UInt16).alias(\"DoR\"))  # DoR = Depth of Repeat ('Transaction' time: starts with 0 as trial, 1 as 1st repeat and so on)\n",
    ")\n",
    "\n",
    "display(CDNOW_master.head().collect())"
   ]
  },
  {
   "cell_type": "markdown",
   "metadata": {},
   "source": [
    "#### Create Number of Units Purchased by Week of Purchase Summary"
   ]
  },
  {
   "cell_type": "markdown",
   "metadata": {},
   "source": [
    "For the cohort of customers who first purchased at the CDNOW website in the first quarter of 1997, we choose to work with the summary of total purchasing as presented in the last table below (`TableOne`). This gives the distribution of the number of units purchased for each of the twelve weeks, along with details of total purchasing (`weeklysales`) and the number of new customers (triers) in each week (`weeklytriers`)."
   ]
  },
  {
   "cell_type": "code",
   "execution_count": 3,
   "metadata": {},
   "outputs": [
    {
     "data": {
      "application/vnd.vegalite.v5+json": {
       "$schema": "https://vega.github.io/schema/vega-lite/v5.20.1.json",
       "config": {
        "axisX": {
         "grid": false
        },
        "axisY": {
         "grid": false
        },
        "view": {
         "continuousHeight": 300,
         "continuousWidth": 300,
         "stroke": null
        }
       },
       "data": {
        "name": "data-9fa5feda862c820accab3ab42b383098"
       },
       "datasets": {
        "data-9fa5feda862c820accab3ab42b383098": [
         {
          "Quant": 3627,
          "Week": 1
         },
         {
          "Quant": 3857,
          "Week": 2
         },
         {
          "Quant": 4512,
          "Week": 3
         },
         {
          "Quant": 5054,
          "Week": 4
         },
         {
          "Quant": 5843,
          "Week": 5
         },
         {
          "Quant": 6456,
          "Week": 6
         },
         {
          "Quant": 5906,
          "Week": 7
         },
         {
          "Quant": 6077,
          "Week": 8
         },
         {
          "Quant": 6757,
          "Week": 9
         },
         {
          "Quant": 6848,
          "Week": 10
         },
         {
          "Quant": 6770,
          "Week": 11
         },
         {
          "Quant": 6781,
          "Week": 12
         },
         {
          "Quant": 2381,
          "Week": 13
         },
         {
          "Quant": 2575,
          "Week": 14
         },
         {
          "Quant": 2210,
          "Week": 15
         },
         {
          "Quant": 2297,
          "Week": 16
         },
         {
          "Quant": 2039,
          "Week": 17
         },
         {
          "Quant": 1800,
          "Week": 18
         },
         {
          "Quant": 1701,
          "Week": 19
         },
         {
          "Quant": 1801,
          "Week": 20
         },
         {
          "Quant": 1400,
          "Week": 21
         },
         {
          "Quant": 1543,
          "Week": 22
         },
         {
          "Quant": 1427,
          "Week": 23
         },
         {
          "Quant": 1619,
          "Week": 24
         },
         {
          "Quant": 2038,
          "Week": 25
         },
         {
          "Quant": 1738,
          "Week": 26
         },
         {
          "Quant": 1402,
          "Week": 27
         },
         {
          "Quant": 1186,
          "Week": 28
         },
         {
          "Quant": 1398,
          "Week": 29
         },
         {
          "Quant": 3050,
          "Week": 30
         },
         {
          "Quant": 2233,
          "Week": 31
         },
         {
          "Quant": 1095,
          "Week": 32
         },
         {
          "Quant": 1367,
          "Week": 33
         },
         {
          "Quant": 1197,
          "Week": 34
         },
         {
          "Quant": 1155,
          "Week": 35
         },
         {
          "Quant": 1112,
          "Week": 36
         },
         {
          "Quant": 1532,
          "Week": 37
         },
         {
          "Quant": 1456,
          "Week": 38
         },
         {
          "Quant": 1272,
          "Week": 39
         },
         {
          "Quant": 1157,
          "Week": 40
         },
         {
          "Quant": 1456,
          "Week": 41
         },
         {
          "Quant": 1296,
          "Week": 42
         },
         {
          "Quant": 1718,
          "Week": 43
         },
         {
          "Quant": 1454,
          "Week": 44
         },
         {
          "Quant": 2592,
          "Week": 45
         },
         {
          "Quant": 1726,
          "Week": 46
         },
         {
          "Quant": 1464,
          "Week": 47
         },
         {
          "Quant": 1731,
          "Week": 48
         },
         {
          "Quant": 1856,
          "Week": 49
         },
         {
          "Quant": 1868,
          "Week": 50
         },
         {
          "Quant": 1069,
          "Week": 51
         },
         {
          "Quant": 942,
          "Week": 52
         },
         {
          "Quant": 1143,
          "Week": 53
         },
         {
          "Quant": 1142,
          "Week": 54
         },
         {
          "Quant": 1287,
          "Week": 55
         },
         {
          "Quant": 1221,
          "Week": 56
         },
         {
          "Quant": 1114,
          "Week": 57
         },
         {
          "Quant": 1294,
          "Week": 58
         },
         {
          "Quant": 1209,
          "Week": 59
         },
         {
          "Quant": 1202,
          "Week": 60
         },
         {
          "Quant": 1885,
          "Week": 61
         },
         {
          "Quant": 1793,
          "Week": 62
         },
         {
          "Quant": 1591,
          "Week": 63
         },
         {
          "Quant": 1756,
          "Week": 64
         },
         {
          "Quant": 1516,
          "Week": 65
         },
         {
          "Quant": 1090,
          "Week": 66
         },
         {
          "Quant": 973,
          "Week": 67
         },
         {
          "Quant": 1202,
          "Week": 68
         },
         {
          "Quant": 1022,
          "Week": 69
         },
         {
          "Quant": 1249,
          "Week": 70
         },
         {
          "Quant": 1113,
          "Week": 71
         },
         {
          "Quant": 1117,
          "Week": 72
         },
         {
          "Quant": 1004,
          "Week": 73
         },
         {
          "Quant": 1265,
          "Week": 74
         },
         {
          "Quant": 1383,
          "Week": 75
         },
         {
          "Quant": 1573,
          "Week": 76
         },
         {
          "Quant": 967,
          "Week": 77
         },
         {
          "Quant": 929,
          "Week": 78
         }
        ]
       },
       "encoding": {
        "color": {},
        "x": {
         "axis": {
          "labelExpr": "datum.value",
          "title": "Week",
          "values": [
           0,
           4,
           8,
           12,
           16,
           20,
           24,
           28,
           32,
           36,
           40,
           44,
           48,
           52,
           56,
           60,
           64,
           68,
           72,
           76
          ]
         },
         "field": "Week",
         "scale": {
          "domain": [
           0,
           78
          ]
         },
         "type": "quantitative"
        },
        "y": {
         "field": "Quant",
         "scale": {},
         "title": "Units Purchased",
         "type": "quantitative"
        }
       },
       "height": 250,
       "mark": {
        "strokeDash": [
         1,
         0
        ],
        "strokeWidth": 2,
        "type": "line"
       },
       "title": "Total Weekly Sales",
       "width": 650
      },
      "text/plain": [
       "<VegaLite 5 object>\n",
       "\n",
       "If you see this message, it means the renderer has not been properly enabled\n",
       "for the frontend that you are using. For more information, see\n",
       "https://altair-viz.github.io/user_guide/display_frontends.html#troubleshooting\n"
      ]
     },
     "execution_count": 3,
     "metadata": {},
     "output_type": "execute_result"
    }
   ],
   "source": [
    "# What is the total number of CDs purchased each week?\n",
    "weeklysales = (\n",
    "    CDNOW_master\n",
    "    .with_columns(((pl.col('PurchDay') - 1) // 7 + 1).alias('Week'))\n",
    "    .group_by('Week')\n",
    "    .agg(pl.col('Quant').sum())\n",
    "    .sort('Week')\n",
    ")\n",
    "\n",
    "(\n",
    "    ChartTemp(weeklysales.collect())\n",
    "    .line_encode(y_col='Quant', y_title='Units Purchased', x_range=78)\n",
    "    .line_prop('Total Weekly Sales')\n",
    ")"
   ]
  },
  {
   "cell_type": "code",
   "execution_count": 4,
   "metadata": {},
   "outputs": [],
   "source": [
    "# How many people made their first-ever (“trial”) purchase each week?\n",
    "weeklytriers = (\n",
    "    CDNOW_master\n",
    "    .filter(pl.col('DoR') == 0)\n",
    "    .with_columns(((pl.col('PurchDay') - 1) // 7 + 1).alias('Week'))\n",
    "    .group_by('Week')\n",
    "    .agg(pl.len().alias('Incremental Triers'))\n",
    "    .sort('Week')\n",
    ")"
   ]
  },
  {
   "cell_type": "code",
   "execution_count": 5,
   "metadata": {},
   "outputs": [],
   "source": [
    "# What is the total number of CDs purchased by triers in their trial week?\n",
    "weeklytrierquant = (\n",
    "    CDNOW_master\n",
    "    .with_columns(((pl.col('PurchDay') - 1) // 7 + 1).alias('Week'))\n",
    "    .with_columns(pl.when(pl.col('DoR') == 0).then(pl.col('Week')).fill_null(strategy='forward').over('CustID').alias('Trial Week'))  \n",
    "    .filter(pl.col('Trial Week') == pl.col('Week'))  # Any repeat purchasing by a customer in their trial week is added to their trial purchase\n",
    "    .group_by('Week')\n",
    "    .agg(pl.col('Quant').sum().alias('Triers Quant'))\n",
    "    .sort('Week')\n",
    ")"
   ]
  },
  {
   "cell_type": "code",
   "execution_count": 6,
   "metadata": {},
   "outputs": [],
   "source": [
    "# What is the weekly total sales split between \"trial\" and \"repeat\"?\n",
    "weeklysalessplit = (\n",
    "    weeklysales\n",
    "    .join(weeklytrierquant, on='Week', how='left')\n",
    "    .fill_null(0)\n",
    "    .with_columns(\n",
    "        (pl.col('Quant') - pl.col('Triers Quant')).alias('Repeat Sales')\n",
    "    )\n",
    "    .rename({'Quant': 'Total Sales', 'Triers Quant': 'Trial Sales'})\n",
    ")\n",
    "\n",
    "# Weekly total sales split for the 12 weeks (corresponding to trial purchases) - Long-Form Data\n",
    "weeklysalessplit_lf = (\n",
    "    weeklysalessplit\n",
    "    .filter(pl.col('Week') <= 12)\n",
    "    .unpivot(index='Week', on=['Total Sales', 'Trial Sales', 'Repeat Sales'], variable_name='Actual Sales', value_name='Sales')\n",
    ")\n",
    "\n",
    "# Weekly repeat sales\n",
    "weekly_repeat_df = (\n",
    "    weeklysalessplit\n",
    "    .select('Week', 'Repeat Sales')\n",
    ")"
   ]
  },
  {
   "cell_type": "code",
   "execution_count": 7,
   "metadata": {},
   "outputs": [
    {
     "data": {
      "text/html": [
       "<div id=\"rlwvhdyxnu\" style=\"padding-left:0px;padding-right:0px;padding-top:10px;padding-bottom:10px;overflow-x:auto;overflow-y:auto;width:auto;height:auto;\">\n",
       "<style>\n",
       "#rlwvhdyxnu table {\n",
       "          font-family: -apple-system, BlinkMacSystemFont, 'Segoe UI', Roboto, Oxygen, Ubuntu, Cantarell, 'Helvetica Neue', 'Fira Sans', 'Droid Sans', Arial, sans-serif;\n",
       "          -webkit-font-smoothing: antialiased;\n",
       "          -moz-osx-font-smoothing: grayscale;\n",
       "        }\n",
       "\n",
       "#rlwvhdyxnu thead, tbody, tfoot, tr, td, th { border-style: none !important; }\n",
       " tr { background-color: transparent !important; }\n",
       "#rlwvhdyxnu p { margin: 0 !important; padding: 0 !important; }\n",
       " #rlwvhdyxnu .gt_table { display: table !important; border-collapse: collapse !important; line-height: normal !important; margin-left: auto !important; margin-right: auto !important; color: #333333 !important; font-size: 16px !important; font-weight: normal !important; font-style: normal !important; background-color: #FFFFFF !important; width: auto !important; border-top-style: solid !important; border-top-width: 2px !important; border-top-color: #004D80 !important; border-right-style: none !important; border-right-width: 2px !important; border-right-color: #D3D3D3 !important; border-bottom-style: solid !important; border-bottom-width: 2px !important; border-bottom-color: #004D80 !important; border-left-style: none !important; border-left-width: 2px !important; border-left-color: #D3D3D3 !important; }\n",
       " #rlwvhdyxnu .gt_caption { padding-top: 4px !important; padding-bottom: 4px !important; }\n",
       " #rlwvhdyxnu .gt_title { color: #333333 !important; font-size: 125% !important; font-weight: initial !important; padding-top: 4px !important; padding-bottom: 4px !important; padding-left: 5px !important; padding-right: 5px !important; border-bottom-color: #FFFFFF !important; border-bottom-width: 0 !important; }\n",
       " #rlwvhdyxnu .gt_subtitle { color: #333333 !important; font-size: 85% !important; font-weight: initial !important; padding-top: 3px !important; padding-bottom: 5px !important; padding-left: 5px !important; padding-right: 5px !important; border-top-color: #FFFFFF !important; border-top-width: 0 !important; }\n",
       " #rlwvhdyxnu .gt_heading { background-color: #FFFFFF !important; text-align: center !important; border-bottom-color: #FFFFFF !important; border-left-style: none !important; border-left-width: 1px !important; border-left-color: #D3D3D3 !important; border-right-style: none !important; border-right-width: 1px !important; border-right-color: #D3D3D3 !important; }\n",
       " #rlwvhdyxnu .gt_bottom_border { border-bottom-style: solid !important; border-bottom-width: 2px !important; border-bottom-color: #0076BA !important; }\n",
       " #rlwvhdyxnu .gt_col_headings { border-top-style: solid !important; border-top-width: 2px !important; border-top-color: #0076BA !important; border-bottom-style: solid !important; border-bottom-width: 2px !important; border-bottom-color: #0076BA !important; border-left-style: none !important; border-left-width: 1px !important; border-left-color: #D3D3D3 !important; border-right-style: none !important; border-right-width: 1px !important; border-right-color: #D3D3D3 !important; }\n",
       " #rlwvhdyxnu .gt_col_heading { color: #333333 !important; background-color: #FFFFFF !important; font-size: 100% !important; font-weight: normal !important; text-transform: inherit !important; border-left-style: none !important; border-left-width: 1px !important; border-left-color: #D3D3D3 !important; border-right-style: none !important; border-right-width: 1px !important; border-right-color: #D3D3D3 !important; vertical-align: bottom !important; padding-top: 5px !important; padding-bottom: 5px !important; padding-left: 5px !important; padding-right: 5px !important; overflow-x: hidden !important; }\n",
       " #rlwvhdyxnu .gt_column_spanner_outer { color: #333333 !important; background-color: #FFFFFF !important; font-size: 100% !important; font-weight: normal !important; text-transform: inherit !important; padding-top: 0 !important; padding-bottom: 0 !important; padding-left: 4px !important; padding-right: 4px !important; }\n",
       " #rlwvhdyxnu .gt_column_spanner_outer:first-child { padding-left: 0 !important; }\n",
       " #rlwvhdyxnu .gt_column_spanner_outer:last-child { padding-right: 0 !important; }\n",
       " #rlwvhdyxnu .gt_column_spanner { border-bottom-style: solid !important; border-bottom-width: 2px !important; border-bottom-color: #0076BA !important; vertical-align: bottom !important; padding-top: 5px !important; padding-bottom: 5px !important; overflow-x: hidden !important; display: inline-block !important; width: 100% !important; }\n",
       " #rlwvhdyxnu .gt_spanner_row { border-bottom-style: hidden !important; }\n",
       " #rlwvhdyxnu .gt_group_heading { padding-top: 8px !important; padding-bottom: 8px !important; padding-left: 5px !important; padding-right: 5px !important; color: #333333 !important; background-color: #FFFFFF !important; font-size: 100% !important; font-weight: initial !important; text-transform: inherit !important; border-top-style: solid !important; border-top-width: 2px !important; border-top-color: #0076BA !important; border-bottom-style: solid !important; border-bottom-width: 2px !important; border-bottom-color: #0076BA !important; border-left-style: none !important; border-left-width: 1px !important; border-left-color: #D3D3D3 !important; border-right-style: none !important; border-right-width: 1px !important; border-right-color: #D3D3D3 !important; vertical-align: middle !important; text-align: left !important; }\n",
       " #rlwvhdyxnu .gt_empty_group_heading { padding: 0.5px !important; color: #333333 !important; background-color: #FFFFFF !important; font-size: 100% !important; font-weight: initial !important; border-top-style: solid !important; border-top-width: 2px !important; border-top-color: #0076BA !important; border-bottom-style: solid !important; border-bottom-width: 2px !important; border-bottom-color: #0076BA !important; vertical-align: middle !important; }\n",
       " #rlwvhdyxnu .gt_from_md> :first-child { margin-top: 0 !important; }\n",
       " #rlwvhdyxnu .gt_from_md> :last-child { margin-bottom: 0 !important; }\n",
       " #rlwvhdyxnu .gt_row { padding-top: 8px !important; padding-bottom: 8px !important; padding-left: 5px !important; padding-right: 5px !important; margin: 10px !important; border-top-style: none !important; border-top-width: 1px !important; border-top-color: #89D3FE !important; border-left-style: none !important; border-left-width: 1px !important; border-left-color: #89D3FE !important; border-right-style: none !important; border-right-width: 1px !important; border-right-color: #89D3FE !important; vertical-align: middle !important; overflow-x: hidden !important; }\n",
       " #rlwvhdyxnu .gt_stub { color: #FFFFFF !important; background-color: #0076BA !important; font-size: 100% !important; font-weight: initial !important; text-transform: inherit !important; border-right-style: solid !important; border-right-width: 2px !important; border-right-color: #0076BA !important; padding-left: 5px !important; padding-right: 5px !important; }\n",
       " #rlwvhdyxnu .gt_stub_row_group { color: #333333 !important; background-color: #FFFFFF !important; font-size: 100% !important; font-weight: initial !important; text-transform: inherit !important; border-right-style: solid !important; border-right-width: 2px !important; border-right-color: #D3D3D3 !important; padding-left: 5px !important; padding-right: 5px !important; vertical-align: top !important; }\n",
       " #rlwvhdyxnu .gt_row_group_first td { border-top-width: 2px !important; }\n",
       " #rlwvhdyxnu .gt_row_group_first th { border-top-width: 2px !important; }\n",
       " #rlwvhdyxnu .gt_striped { background-color: #F4F4F4 !important; }\n",
       " #rlwvhdyxnu .gt_table_body { border-top-style: solid !important; border-top-width: 2px !important; border-top-color: #0076BA !important; border-bottom-style: solid !important; border-bottom-width: 2px !important; border-bottom-color: #0076BA !important; }\n",
       " #rlwvhdyxnu .gt_sourcenotes { color: #333333 !important; background-color: #FFFFFF !important; border-bottom-style: none !important; border-bottom-width: 2px !important; border-bottom-color: #D3D3D3 !important; border-left-style: none !important; border-left-width: 2px !important; border-left-color: #D3D3D3 !important; border-right-style: none !important; border-right-width: 2px !important; border-right-color: #D3D3D3 !important; }\n",
       " #rlwvhdyxnu .gt_sourcenote { font-size: 90% !important; padding-top: 4px !important; padding-bottom: 4px !important; padding-left: 5px !important; padding-right: 5px !important; text-align: left !important; }\n",
       " #rlwvhdyxnu .gt_left { text-align: left !important; }\n",
       " #rlwvhdyxnu .gt_center { text-align: center !important; }\n",
       " #rlwvhdyxnu .gt_right { text-align: right !important; font-variant-numeric: tabular-nums !important; }\n",
       " #rlwvhdyxnu .gt_font_normal { font-weight: normal !important; }\n",
       " #rlwvhdyxnu .gt_font_bold { font-weight: bold !important; }\n",
       " #rlwvhdyxnu .gt_font_italic { font-style: italic !important; }\n",
       " #rlwvhdyxnu .gt_super { font-size: 65% !important; }\n",
       " #rlwvhdyxnu .gt_footnote_marks { font-size: 75% !important; vertical-align: 0.4em !important; position: initial !important; }\n",
       " #rlwvhdyxnu .gt_asterisk { font-size: 100% !important; vertical-align: 0 !important; }\n",
       " \n",
       "</style>\n",
       "<table class=\"gt_table\" data-quarto-disable-processing=\"false\" data-quarto-bootstrap=\"false\">\n",
       "<thead>\n",
       "\n",
       "  <tr class=\"gt_heading\">\n",
       "    <td colspan=\"13\" class=\"gt_heading gt_title gt_font_normal\">Distribution of the Number of CDNOW Units Purchased</td>\n",
       "  </tr>\n",
       "  <tr class=\"gt_heading\">\n",
       "    <td colspan=\"13\" class=\"gt_heading gt_subtitle gt_font_normal gt_bottom_border\">First 12 Weeks</td>\n",
       "  </tr>\n",
       "<tr class=\"gt_col_headings gt_spanner_row\">\n",
       "  <th class=\"gt_col_heading gt_columns_bottom_border gt_left\" rowspan=\"2\" colspan=\"1\" scope=\"col\" id=\"Units Purchased\">Units Purchased</th>\n",
       "  <th class=\"gt_center gt_columns_top_border gt_column_spanner_outer\" rowspan=\"1\" colspan=\"12\" scope=\"colgroup\" id=\"Week\">\n",
       "    <span class=\"gt_column_spanner\">Week</span>\n",
       "  </th>\n",
       "</tr>\n",
       "<tr class=\"gt_col_headings\">\n",
       "  <th class=\"gt_col_heading gt_columns_bottom_border gt_center\" rowspan=\"1\" colspan=\"1\" scope=\"col\" id=\"1\">1</th>\n",
       "  <th class=\"gt_col_heading gt_columns_bottom_border gt_center\" rowspan=\"1\" colspan=\"1\" scope=\"col\" id=\"2\">2</th>\n",
       "  <th class=\"gt_col_heading gt_columns_bottom_border gt_center\" rowspan=\"1\" colspan=\"1\" scope=\"col\" id=\"3\">3</th>\n",
       "  <th class=\"gt_col_heading gt_columns_bottom_border gt_center\" rowspan=\"1\" colspan=\"1\" scope=\"col\" id=\"4\">4</th>\n",
       "  <th class=\"gt_col_heading gt_columns_bottom_border gt_center\" rowspan=\"1\" colspan=\"1\" scope=\"col\" id=\"5\">5</th>\n",
       "  <th class=\"gt_col_heading gt_columns_bottom_border gt_center\" rowspan=\"1\" colspan=\"1\" scope=\"col\" id=\"6\">6</th>\n",
       "  <th class=\"gt_col_heading gt_columns_bottom_border gt_center\" rowspan=\"1\" colspan=\"1\" scope=\"col\" id=\"7\">7</th>\n",
       "  <th class=\"gt_col_heading gt_columns_bottom_border gt_center\" rowspan=\"1\" colspan=\"1\" scope=\"col\" id=\"8\">8</th>\n",
       "  <th class=\"gt_col_heading gt_columns_bottom_border gt_center\" rowspan=\"1\" colspan=\"1\" scope=\"col\" id=\"9\">9</th>\n",
       "  <th class=\"gt_col_heading gt_columns_bottom_border gt_center\" rowspan=\"1\" colspan=\"1\" scope=\"col\" id=\"10\">10</th>\n",
       "  <th class=\"gt_col_heading gt_columns_bottom_border gt_center\" rowspan=\"1\" colspan=\"1\" scope=\"col\" id=\"11\">11</th>\n",
       "  <th class=\"gt_col_heading gt_columns_bottom_border gt_center\" rowspan=\"1\" colspan=\"1\" scope=\"col\" id=\"12\">12</th>\n",
       "</tr>\n",
       "</thead>\n",
       "<tbody class=\"gt_table_body\">\n",
       "  <tr>\n",
       "    <th class=\"gt_row gt_left gt_stub\">0</th>\n",
       "    <td class=\"gt_row gt_center\">0</td>\n",
       "    <td class=\"gt_row gt_center\">1,478</td>\n",
       "    <td class=\"gt_row gt_center\">3,033</td>\n",
       "    <td class=\"gt_row gt_center\">4,763</td>\n",
       "    <td class=\"gt_row gt_center\">6,608</td>\n",
       "    <td class=\"gt_row gt_center\">8,616</td>\n",
       "    <td class=\"gt_row gt_center\">10,829</td>\n",
       "    <td class=\"gt_row gt_center\">12,716</td>\n",
       "    <td class=\"gt_row gt_center\">14,698</td>\n",
       "    <td class=\"gt_row gt_center\">16,774</td>\n",
       "    <td class=\"gt_row gt_center\">18,881</td>\n",
       "    <td class=\"gt_row gt_center\">20,902</td>\n",
       "  </tr>\n",
       "  <tr>\n",
       "    <th class=\"gt_row gt_left gt_stub\">1</th>\n",
       "    <td class=\"gt_row gt_center gt_striped\">750</td>\n",
       "    <td class=\"gt_row gt_center gt_striped\">852</td>\n",
       "    <td class=\"gt_row gt_center gt_striped\">984</td>\n",
       "    <td class=\"gt_row gt_center gt_striped\">1,066</td>\n",
       "    <td class=\"gt_row gt_center gt_striped\">1,237</td>\n",
       "    <td class=\"gt_row gt_center gt_striped\">1,262</td>\n",
       "    <td class=\"gt_row gt_center gt_striped\">1,204</td>\n",
       "    <td class=\"gt_row gt_center gt_striped\">1,278</td>\n",
       "    <td class=\"gt_row gt_center gt_striped\">1,397</td>\n",
       "    <td class=\"gt_row gt_center gt_striped\">1,444</td>\n",
       "    <td class=\"gt_row gt_center gt_striped\">1,387</td>\n",
       "    <td class=\"gt_row gt_center gt_striped\">1,148</td>\n",
       "  </tr>\n",
       "  <tr>\n",
       "    <th class=\"gt_row gt_left gt_stub\">2</th>\n",
       "    <td class=\"gt_row gt_center\">383</td>\n",
       "    <td class=\"gt_row gt_center\">387</td>\n",
       "    <td class=\"gt_row gt_center\">456</td>\n",
       "    <td class=\"gt_row gt_center\">484</td>\n",
       "    <td class=\"gt_row gt_center\">566</td>\n",
       "    <td class=\"gt_row gt_center\">649</td>\n",
       "    <td class=\"gt_row gt_center\">592</td>\n",
       "    <td class=\"gt_row gt_center\">606</td>\n",
       "    <td class=\"gt_row gt_center\">644</td>\n",
       "    <td class=\"gt_row gt_center\">659</td>\n",
       "    <td class=\"gt_row gt_center\">677</td>\n",
       "    <td class=\"gt_row gt_center\">663</td>\n",
       "  </tr>\n",
       "  <tr>\n",
       "    <th class=\"gt_row gt_left gt_stub\">3</th>\n",
       "    <td class=\"gt_row gt_center gt_striped\">191</td>\n",
       "    <td class=\"gt_row gt_center gt_striped\">214</td>\n",
       "    <td class=\"gt_row gt_center gt_striped\">270</td>\n",
       "    <td class=\"gt_row gt_center gt_striped\">267</td>\n",
       "    <td class=\"gt_row gt_center gt_striped\">293</td>\n",
       "    <td class=\"gt_row gt_center gt_striped\">320</td>\n",
       "    <td class=\"gt_row gt_center gt_striped\">302</td>\n",
       "    <td class=\"gt_row gt_center gt_striped\">343</td>\n",
       "    <td class=\"gt_row gt_center gt_striped\">365</td>\n",
       "    <td class=\"gt_row gt_center gt_striped\">374</td>\n",
       "    <td class=\"gt_row gt_center gt_striped\">355</td>\n",
       "    <td class=\"gt_row gt_center gt_striped\">367</td>\n",
       "  </tr>\n",
       "  <tr>\n",
       "    <th class=\"gt_row gt_left gt_stub\">4</th>\n",
       "    <td class=\"gt_row gt_center\">95</td>\n",
       "    <td class=\"gt_row gt_center\">120</td>\n",
       "    <td class=\"gt_row gt_center\">114</td>\n",
       "    <td class=\"gt_row gt_center\">161</td>\n",
       "    <td class=\"gt_row gt_center\">163</td>\n",
       "    <td class=\"gt_row gt_center\">196</td>\n",
       "    <td class=\"gt_row gt_center\">156</td>\n",
       "    <td class=\"gt_row gt_center\">195</td>\n",
       "    <td class=\"gt_row gt_center\">179</td>\n",
       "    <td class=\"gt_row gt_center\">187</td>\n",
       "    <td class=\"gt_row gt_center\">199</td>\n",
       "    <td class=\"gt_row gt_center\">182</td>\n",
       "  </tr>\n",
       "  <tr>\n",
       "    <th class=\"gt_row gt_left gt_stub\">5</th>\n",
       "    <td class=\"gt_row gt_center gt_striped\">55</td>\n",
       "    <td class=\"gt_row gt_center gt_striped\">72</td>\n",
       "    <td class=\"gt_row gt_center gt_striped\">68</td>\n",
       "    <td class=\"gt_row gt_center gt_striped\">89</td>\n",
       "    <td class=\"gt_row gt_center gt_striped\">96</td>\n",
       "    <td class=\"gt_row gt_center gt_striped\">96</td>\n",
       "    <td class=\"gt_row gt_center gt_striped\">80</td>\n",
       "    <td class=\"gt_row gt_center gt_striped\">100</td>\n",
       "    <td class=\"gt_row gt_center gt_striped\">95</td>\n",
       "    <td class=\"gt_row gt_center gt_striped\">118</td>\n",
       "    <td class=\"gt_row gt_center gt_striped\">94</td>\n",
       "    <td class=\"gt_row gt_center gt_striped\">120</td>\n",
       "  </tr>\n",
       "  <tr>\n",
       "    <th class=\"gt_row gt_left gt_stub\">6</th>\n",
       "    <td class=\"gt_row gt_center\">36</td>\n",
       "    <td class=\"gt_row gt_center\">40</td>\n",
       "    <td class=\"gt_row gt_center\">42</td>\n",
       "    <td class=\"gt_row gt_center\">40</td>\n",
       "    <td class=\"gt_row gt_center\">51</td>\n",
       "    <td class=\"gt_row gt_center\">54</td>\n",
       "    <td class=\"gt_row gt_center\">65</td>\n",
       "    <td class=\"gt_row gt_center\">45</td>\n",
       "    <td class=\"gt_row gt_center\">75</td>\n",
       "    <td class=\"gt_row gt_center\">71</td>\n",
       "    <td class=\"gt_row gt_center\">72</td>\n",
       "    <td class=\"gt_row gt_center\">54</td>\n",
       "  </tr>\n",
       "  <tr>\n",
       "    <th class=\"gt_row gt_left gt_stub\">7</th>\n",
       "    <td class=\"gt_row gt_center gt_striped\">18</td>\n",
       "    <td class=\"gt_row gt_center gt_striped\">12</td>\n",
       "    <td class=\"gt_row gt_center gt_striped\">27</td>\n",
       "    <td class=\"gt_row gt_center gt_striped\">30</td>\n",
       "    <td class=\"gt_row gt_center gt_striped\">36</td>\n",
       "    <td class=\"gt_row gt_center gt_striped\">40</td>\n",
       "    <td class=\"gt_row gt_center gt_striped\">39</td>\n",
       "    <td class=\"gt_row gt_center gt_striped\">31</td>\n",
       "    <td class=\"gt_row gt_center gt_striped\">41</td>\n",
       "    <td class=\"gt_row gt_center gt_striped\">37</td>\n",
       "    <td class=\"gt_row gt_center gt_striped\">30</td>\n",
       "    <td class=\"gt_row gt_center gt_striped\">43</td>\n",
       "  </tr>\n",
       "  <tr>\n",
       "    <th class=\"gt_row gt_left gt_stub\">8</th>\n",
       "    <td class=\"gt_row gt_center\">12</td>\n",
       "    <td class=\"gt_row gt_center\">15</td>\n",
       "    <td class=\"gt_row gt_center\">9</td>\n",
       "    <td class=\"gt_row gt_center\">21</td>\n",
       "    <td class=\"gt_row gt_center\">19</td>\n",
       "    <td class=\"gt_row gt_center\">21</td>\n",
       "    <td class=\"gt_row gt_center\">20</td>\n",
       "    <td class=\"gt_row gt_center\">24</td>\n",
       "    <td class=\"gt_row gt_center\">23</td>\n",
       "    <td class=\"gt_row gt_center\">29</td>\n",
       "    <td class=\"gt_row gt_center\">24</td>\n",
       "    <td class=\"gt_row gt_center\">32</td>\n",
       "  </tr>\n",
       "  <tr>\n",
       "    <th class=\"gt_row gt_left gt_stub\">9</th>\n",
       "    <td class=\"gt_row gt_center gt_striped\">9</td>\n",
       "    <td class=\"gt_row gt_center gt_striped\">9</td>\n",
       "    <td class=\"gt_row gt_center gt_striped\">8</td>\n",
       "    <td class=\"gt_row gt_center gt_striped\">9</td>\n",
       "    <td class=\"gt_row gt_center gt_striped\">21</td>\n",
       "    <td class=\"gt_row gt_center gt_striped\">14</td>\n",
       "    <td class=\"gt_row gt_center gt_striped\">21</td>\n",
       "    <td class=\"gt_row gt_center gt_striped\">8</td>\n",
       "    <td class=\"gt_row gt_center gt_striped\">14</td>\n",
       "    <td class=\"gt_row gt_center gt_striped\">9</td>\n",
       "    <td class=\"gt_row gt_center gt_striped\">12</td>\n",
       "    <td class=\"gt_row gt_center gt_striped\">16</td>\n",
       "  </tr>\n",
       "  <tr>\n",
       "    <th class=\"gt_row gt_left gt_stub\">10</th>\n",
       "    <td class=\"gt_row gt_center\">25</td>\n",
       "    <td class=\"gt_row gt_center\">17</td>\n",
       "    <td class=\"gt_row gt_center\">27</td>\n",
       "    <td class=\"gt_row gt_center\">32</td>\n",
       "    <td class=\"gt_row gt_center\">36</td>\n",
       "    <td class=\"gt_row gt_center\">55</td>\n",
       "    <td class=\"gt_row gt_center\">39</td>\n",
       "    <td class=\"gt_row gt_center\">35</td>\n",
       "    <td class=\"gt_row gt_center\">48</td>\n",
       "    <td class=\"gt_row gt_center\">42</td>\n",
       "    <td class=\"gt_row gt_center\">50</td>\n",
       "    <td class=\"gt_row gt_center\">43</td>\n",
       "  </tr>\n",
       "</tbody>\n",
       "\n",
       "\n",
       "</table>\n",
       "\n",
       "</div>\n",
       "        "
      ],
      "text/plain": [
       "GT(_tbl_data=shape: (11, 13)\n",
       "┌───────┬─────┬──────┬──────┬───┬───────┬───────┬───────┬───────┐\n",
       "│ Quant ┆ 1   ┆ 2    ┆ 3    ┆ … ┆ 9     ┆ 10    ┆ 11    ┆ 12    │\n",
       "│ ---   ┆ --- ┆ ---  ┆ ---  ┆   ┆ ---   ┆ ---   ┆ ---   ┆ ---   │\n",
       "│ i32   ┆ u32 ┆ u32  ┆ u32  ┆   ┆ u32   ┆ u32   ┆ u32   ┆ u32   │\n",
       "╞═══════╪═════╪══════╪══════╪═══╪═══════╪═══════╪═══════╪═══════╡\n",
       "│ 0     ┆ 0   ┆ 1478 ┆ 3033 ┆ … ┆ 14698 ┆ 16774 ┆ 18881 ┆ 20902 │\n",
       "│ 1     ┆ 750 ┆ 852  ┆ 984  ┆ … ┆ 1397  ┆ 1444  ┆ 1387  ┆ 1148  │\n",
       "│ 2     ┆ 383 ┆ 387  ┆ 456  ┆ … ┆ 644   ┆ 659   ┆ 677   ┆ 663   │\n",
       "│ 3     ┆ 191 ┆ 214  ┆ 270  ┆ … ┆ 365   ┆ 374   ┆ 355   ┆ 367   │\n",
       "│ 4     ┆ 95  ┆ 120  ┆ 114  ┆ … ┆ 179   ┆ 187   ┆ 199   ┆ 182   │\n",
       "│ …     ┆ …   ┆ …    ┆ …    ┆ … ┆ …     ┆ …     ┆ …     ┆ …     │\n",
       "│ 6     ┆ 36  ┆ 40   ┆ 42   ┆ … ┆ 75    ┆ 71    ┆ 72    ┆ 54    │\n",
       "│ 7     ┆ 18  ┆ 12   ┆ 27   ┆ … ┆ 41    ┆ 37    ┆ 30    ┆ 43    │\n",
       "│ 8     ┆ 12  ┆ 15   ┆ 9    ┆ … ┆ 23    ┆ 29    ┆ 24    ┆ 32    │\n",
       "│ 9     ┆ 9   ┆ 9    ┆ 8    ┆ … ┆ 14    ┆ 9     ┆ 12    ┆ 16    │\n",
       "│ 10    ┆ 25  ┆ 17   ┆ 27   ┆ … ┆ 48    ┆ 42    ┆ 50    ┆ 43    │\n",
       "└───────┴─────┴──────┴──────┴───┴───────┴───────┴───────┴───────┘, _body=<great_tables._gt_data.Body object at 0x1460c1400>, _boxhead=Boxhead([ColInfo(var='Quant', type=<ColInfoTypeEnum.stub: 2>, column_label='Quant', column_align='right', column_width=None), ColInfo(var='1', type=<ColInfoTypeEnum.default: 1>, column_label='1', column_align='center', column_width=None), ColInfo(var='2', type=<ColInfoTypeEnum.default: 1>, column_label='2', column_align='center', column_width=None), ColInfo(var='3', type=<ColInfoTypeEnum.default: 1>, column_label='3', column_align='center', column_width=None), ColInfo(var='4', type=<ColInfoTypeEnum.default: 1>, column_label='4', column_align='center', column_width=None), ColInfo(var='5', type=<ColInfoTypeEnum.default: 1>, column_label='5', column_align='center', column_width=None), ColInfo(var='6', type=<ColInfoTypeEnum.default: 1>, column_label='6', column_align='center', column_width=None), ColInfo(var='7', type=<ColInfoTypeEnum.default: 1>, column_label='7', column_align='center', column_width=None), ColInfo(var='8', type=<ColInfoTypeEnum.default: 1>, column_label='8', column_align='center', column_width=None), ColInfo(var='9', type=<ColInfoTypeEnum.default: 1>, column_label='9', column_align='center', column_width=None), ColInfo(var='10', type=<ColInfoTypeEnum.default: 1>, column_label='10', column_align='center', column_width=None), ColInfo(var='11', type=<ColInfoTypeEnum.default: 1>, column_label='11', column_align='center', column_width=None), ColInfo(var='12', type=<ColInfoTypeEnum.default: 1>, column_label='12', column_align='center', column_width=None)]), _stub=<great_tables._gt_data.Stub object at 0x1460c1160>, _spanners=Spanners([SpannerInfo(spanner_id='Week', spanner_level=0, spanner_label='Week', spanner_units=None, spanner_pattern=None, vars=['1', '2', '3', '4', '5', '6', '7', '8', '9', '10', '11', '12'], built=None)]), _heading=Heading(title='Distribution of the Number of CDNOW Units Purchased', subtitle='First 12 Weeks', preheader=None), _stubhead='Units Purchased', _source_notes=[], _footnotes=[], _styles=[], _locale=<great_tables._gt_data.Locale object at 0x1460c17f0>, _formats=[<great_tables._gt_data.FormatInfo object at 0x1460c16a0>], _substitutions=[], _options=Options(table_id=OptionsInfo(scss=False, category='table', type='value', value=None), table_caption=OptionsInfo(scss=False, category='table', type='value', value=None), table_width=OptionsInfo(scss=True, category='table', type='px', value='auto'), table_layout=OptionsInfo(scss=True, category='table', type='value', value='fixed'), table_margin_left=OptionsInfo(scss=True, category='table', type='px', value='auto'), table_margin_right=OptionsInfo(scss=True, category='table', type='px', value='auto'), table_background_color=OptionsInfo(scss=True, category='table', type='value', value='#FFFFFF'), table_additional_css=OptionsInfo(scss=False, category='table', type='values', value=[]), table_font_names=OptionsInfo(scss=False, category='table', type='values', value=['-apple-system', 'BlinkMacSystemFont', 'Segoe UI', 'Roboto', 'Oxygen', 'Ubuntu', 'Cantarell', 'Helvetica Neue', 'Fira Sans', 'Droid Sans', 'Arial', 'sans-serif']), table_font_size=OptionsInfo(scss=True, category='table', type='px', value='16px'), table_font_weight=OptionsInfo(scss=True, category='table', type='value', value='normal'), table_font_style=OptionsInfo(scss=True, category='table', type='value', value='normal'), table_font_color=OptionsInfo(scss=True, category='table', type='value', value='#333333'), table_font_color_light=OptionsInfo(scss=True, category='table', type='value', value='#FFFFFF'), table_border_top_include=OptionsInfo(scss=False, category='table', type='boolean', value=True), table_border_top_style=OptionsInfo(scss=True, category='table', type='value', value='solid'), table_border_top_width=OptionsInfo(scss=True, category='table', type='px', value='2px'), table_border_top_color=OptionsInfo(scss=True, category='table', type='value', value='#004D80'), table_border_right_style=OptionsInfo(scss=True, category='table', type='value', value='none'), table_border_right_width=OptionsInfo(scss=True, category='table', type='px', value='2px'), table_border_right_color=OptionsInfo(scss=True, category='table', type='value', value='#D3D3D3'), table_border_bottom_include=OptionsInfo(scss=False, category='table', type='boolean', value=True), table_border_bottom_style=OptionsInfo(scss=True, category='table', type='value', value='solid'), table_border_bottom_width=OptionsInfo(scss=True, category='table', type='px', value='2px'), table_border_bottom_color=OptionsInfo(scss=True, category='table', type='value', value='#004D80'), table_border_left_style=OptionsInfo(scss=True, category='table', type='value', value='none'), table_border_left_width=OptionsInfo(scss=True, category='table', type='px', value='2px'), table_border_left_color=OptionsInfo(scss=True, category='table', type='value', value='#D3D3D3'), heading_background_color=OptionsInfo(scss=True, category='heading', type='value', value=None), heading_align=OptionsInfo(scss=True, category='heading', type='value', value='center'), heading_title_font_size=OptionsInfo(scss=True, category='heading', type='px', value='125%'), heading_title_font_weight=OptionsInfo(scss=True, category='heading', type='value', value='initial'), heading_subtitle_font_size=OptionsInfo(scss=True, category='heading', type='px', value='85%'), heading_subtitle_font_weight=OptionsInfo(scss=True, category='heading', type='value', value='initial'), heading_padding=OptionsInfo(scss=True, category='heading', type='px', value='4px'), heading_padding_horizontal=OptionsInfo(scss=True, category='heading', type='px', value='5px'), heading_border_bottom_style=OptionsInfo(scss=True, category='heading', type='value', value='solid'), heading_border_bottom_width=OptionsInfo(scss=True, category='heading', type='px', value='2px'), heading_border_bottom_color=OptionsInfo(scss=True, category='heading', type='value', value='#0076BA'), heading_border_lr_style=OptionsInfo(scss=True, category='heading', type='value', value='none'), heading_border_lr_width=OptionsInfo(scss=True, category='heading', type='px', value='1px'), heading_border_lr_color=OptionsInfo(scss=True, category='heading', type='value', value='#D3D3D3'), column_labels_background_color=OptionsInfo(scss=True, category='column_labels', type='value', value='#FFFFFF'), column_labels_font_size=OptionsInfo(scss=True, category='column_labels', type='px', value='100%'), column_labels_font_weight=OptionsInfo(scss=True, category='column_labels', type='value', value='normal'), column_labels_text_transform=OptionsInfo(scss=True, category='column_labels', type='value', value='inherit'), column_labels_padding=OptionsInfo(scss=True, category='column_labels', type='px', value='5px'), column_labels_padding_horizontal=OptionsInfo(scss=True, category='column_labels', type='px', value='5px'), column_labels_vlines_style=OptionsInfo(scss=True, category='table_body', type='value', value='none'), column_labels_vlines_width=OptionsInfo(scss=True, category='table_body', type='px', value='1px'), column_labels_vlines_color=OptionsInfo(scss=True, category='table_body', type='value', value='#D3D3D3'), column_labels_border_top_style=OptionsInfo(scss=True, category='column_labels', type='value', value='solid'), column_labels_border_top_width=OptionsInfo(scss=True, category='column_labels', type='px', value='2px'), column_labels_border_top_color=OptionsInfo(scss=True, category='column_labels', type='value', value='#0076BA'), column_labels_border_bottom_style=OptionsInfo(scss=True, category='column_labels', type='value', value='solid'), column_labels_border_bottom_width=OptionsInfo(scss=True, category='column_labels', type='px', value='2px'), column_labels_border_bottom_color=OptionsInfo(scss=True, category='column_labels', type='value', value='#0076BA'), column_labels_border_lr_style=OptionsInfo(scss=True, category='column_labels', type='value', value='none'), column_labels_border_lr_width=OptionsInfo(scss=True, category='column_labels', type='px', value='1px'), column_labels_border_lr_color=OptionsInfo(scss=True, category='column_labels', type='value', value='#D3D3D3'), column_labels_hidden=OptionsInfo(scss=False, category='column_labels', type='boolean', value=False), row_group_background_color=OptionsInfo(scss=True, category='row_group', type='value', value=None), row_group_font_size=OptionsInfo(scss=True, category='row_group', type='px', value='100%'), row_group_font_weight=OptionsInfo(scss=True, category='row_group', type='value', value='initial'), row_group_text_transform=OptionsInfo(scss=True, category='row_group', type='value', value='inherit'), row_group_padding=OptionsInfo(scss=True, category='row_group', type='px', value='8px'), row_group_padding_horizontal=OptionsInfo(scss=True, category='row_group', type='px', value='5px'), row_group_border_top_style=OptionsInfo(scss=True, category='row_group', type='value', value='solid'), row_group_border_top_width=OptionsInfo(scss=True, category='row_group', type='px', value='2px'), row_group_border_top_color=OptionsInfo(scss=True, category='row_group', type='value', value='#0076BA'), row_group_border_right_style=OptionsInfo(scss=True, category='row_group', type='value', value='none'), row_group_border_right_width=OptionsInfo(scss=True, category='row_group', type='px', value='1px'), row_group_border_right_color=OptionsInfo(scss=True, category='row_group', type='value', value='#D3D3D3'), row_group_border_bottom_style=OptionsInfo(scss=True, category='row_group', type='value', value='solid'), row_group_border_bottom_width=OptionsInfo(scss=True, category='row_group', type='px', value='2px'), row_group_border_bottom_color=OptionsInfo(scss=True, category='row_group', type='value', value='#0076BA'), row_group_border_left_style=OptionsInfo(scss=True, category='row_group', type='value', value='none'), row_group_border_left_width=OptionsInfo(scss=True, category='row_group', type='px', value='1px'), row_group_border_left_color=OptionsInfo(scss=True, category='row_group', type='value', value='#D3D3D3'), row_group_as_column=OptionsInfo(scss=False, category='row_group', type='boolean', value=False), table_body_hlines_style=OptionsInfo(scss=True, category='table_body', type='value', value='none'), table_body_hlines_width=OptionsInfo(scss=True, category='table_body', type='px', value='1px'), table_body_hlines_color=OptionsInfo(scss=True, category='table_body', type='value', value='#89D3FE'), table_body_vlines_style=OptionsInfo(scss=True, category='table_body', type='value', value='none'), table_body_vlines_width=OptionsInfo(scss=True, category='table_body', type='px', value='1px'), table_body_vlines_color=OptionsInfo(scss=True, category='table_body', type='value', value='#89D3FE'), table_body_border_top_style=OptionsInfo(scss=True, category='table_body', type='value', value='solid'), table_body_border_top_width=OptionsInfo(scss=True, category='table_body', type='px', value='2px'), table_body_border_top_color=OptionsInfo(scss=True, category='table_body', type='value', value='#0076BA'), table_body_border_bottom_style=OptionsInfo(scss=True, category='table_body', type='value', value='solid'), table_body_border_bottom_width=OptionsInfo(scss=True, category='table_body', type='px', value='2px'), table_body_border_bottom_color=OptionsInfo(scss=True, category='table_body', type='value', value='#0076BA'), data_row_padding=OptionsInfo(scss=True, category='data_row', type='px', value='8px'), data_row_padding_horizontal=OptionsInfo(scss=True, category='data_row', type='px', value='5px'), stub_background_color=OptionsInfo(scss=True, category='stub', type='value', value='#0076BA'), stub_font_size=OptionsInfo(scss=True, category='stub', type='px', value='100%'), stub_font_weight=OptionsInfo(scss=True, category='stub', type='value', value='initial'), stub_text_transform=OptionsInfo(scss=True, category='stub', type='value', value='inherit'), stub_border_style=OptionsInfo(scss=True, category='stub', type='value', value='solid'), stub_border_width=OptionsInfo(scss=True, category='stub', type='px', value='2px'), stub_border_color=OptionsInfo(scss=True, category='stub', type='value', value='#0076BA'), stub_row_group_background_color=OptionsInfo(scss=True, category='stub', type='value', value=None), stub_row_group_font_size=OptionsInfo(scss=True, category='stub', type='px', value='100%'), stub_row_group_font_weight=OptionsInfo(scss=True, category='stub', type='value', value='initial'), stub_row_group_text_transform=OptionsInfo(scss=True, category='stub', type='value', value='inherit'), stub_row_group_border_style=OptionsInfo(scss=True, category='stub', type='value', value='solid'), stub_row_group_border_width=OptionsInfo(scss=True, category='stub', type='px', value='2px'), stub_row_group_border_color=OptionsInfo(scss=True, category='stub', type='value', value='#D3D3D3'), source_notes_padding=OptionsInfo(scss=True, category='source_notes', type='px', value='4px'), source_notes_padding_horizontal=OptionsInfo(scss=True, category='source_notes', type='px', value='5px'), source_notes_background_color=OptionsInfo(scss=True, category='source_notes', type='value', value=None), source_notes_font_size=OptionsInfo(scss=True, category='source_notes', type='px', value='90%'), source_notes_border_bottom_style=OptionsInfo(scss=True, category='source_notes', type='value', value='none'), source_notes_border_bottom_width=OptionsInfo(scss=True, category='source_notes', type='px', value='2px'), source_notes_border_bottom_color=OptionsInfo(scss=True, category='source_notes', type='value', value='#D3D3D3'), source_notes_border_lr_style=OptionsInfo(scss=True, category='source_notes', type='value', value='none'), source_notes_border_lr_width=OptionsInfo(scss=True, category='source_notes', type='px', value='2px'), source_notes_border_lr_color=OptionsInfo(scss=True, category='source_notes', type='value', value='#D3D3D3'), source_notes_multiline=OptionsInfo(scss=False, category='source_notes', type='boolean', value=True), source_notes_sep=OptionsInfo(scss=False, category='source_notes', type='value', value=' '), row_striping_background_color=OptionsInfo(scss=True, category='row', type='value', value='#F4F4F4'), row_striping_include_stub=OptionsInfo(scss=False, category='row', type='boolean', value=False), row_striping_include_table_body=OptionsInfo(scss=False, category='row', type='boolean', value=['True']), container_width=OptionsInfo(scss=False, category='container', type='px', value='auto'), container_height=OptionsInfo(scss=False, category='container', type='px', value='auto'), container_padding_x=OptionsInfo(scss=False, category='container', type='px', value='0px'), container_padding_y=OptionsInfo(scss=False, category='container', type='px', value='10px'), container_overflow_x=OptionsInfo(scss=False, category='container', type='overflow', value='auto'), container_overflow_y=OptionsInfo(scss=False, category='container', type='overflow', value='auto'), quarto_disable_processing=OptionsInfo(scss=False, category='quarto', type='logical', value=False), quarto_use_bootstrap=OptionsInfo(scss=False, category='quarto', type='logical', value=False)), _has_built=False)"
      ]
     },
     "execution_count": 7,
     "metadata": {},
     "output_type": "execute_result"
    }
   ],
   "source": [
    "dist_table = (\n",
    "    CDNOW_master\n",
    "    .with_columns(((pl.col('PurchDay') - 1) // 7 + 1).alias('Week'))  \n",
    "    .filter(pl.col('Week') <= 12)  \n",
    "    .group_by('CustID', 'Week')\n",
    "    .agg(pl.col('Quant').cast(pl.Int32).sum()) # Sum quantity purchased by each customer within each week \n",
    "    .group_by('Week', 'Quant')\n",
    "    .agg(pl.col('CustID').len().alias('Count'))\n",
    "    .sort('Quant')\n",
    "    .collect()\n",
    ")\n",
    "\n",
    "dist_table_10_plus = (\n",
    "    dist_table.filter(pl.col('Quant') >= 10)\n",
    "    .group_by('Week')\n",
    "    .agg(pl.col('Count').sum())\n",
    "    .sort('Week')\n",
    "    .with_columns(pl.lit(10).alias('Quant'))\n",
    "    .select('Week', 'Quant', 'Count')\n",
    ")\n",
    "\n",
    "dist_table_1 = dist_table.filter(pl.col('Quant') < 10).vstack(dist_table_10_plus)\n",
    "\n",
    "cumweeklytriers = (\n",
    "    weeklytriers.collect()\n",
    "    .with_columns(pl.col('Incremental Triers').cum_sum())\n",
    "    .join(dist_table_1.group_by('Week').agg(pl.col('Count').sum()), on='Week', how='left')\n",
    "    .with_columns((pl.col('Incremental Triers') - pl.col('Count')).alias('Count'))\n",
    "    .with_columns(pl.lit(0).alias('Quant')).select('Week', 'Quant', 'Count')\n",
    ")\n",
    "\n",
    "TableOne = (\n",
    "    dist_table_1.vstack(cumweeklytriers).sort('Week', 'Quant')\n",
    "    .pivot(on='Week', index='Quant', values='Count')\n",
    ")\n",
    "\n",
    "(\n",
    "    GT(TableOne, rowname_col='Quant')\n",
    "    .tab_header(title=\"Distribution of the Number of CDNOW Units Purchased\", subtitle='First 12 Weeks')\n",
    "    .tab_stubhead('Units Purchased')\n",
    "    .fmt_integer()\n",
    "    .tab_spanner(label='Week', columns=[str(i) for i in range(1, 13)])\n",
    "    .opt_stylize()\n",
    ")"
   ]
  },
  {
   "cell_type": "markdown",
   "metadata": {},
   "source": [
    "While this is a very convenient summary of the customers' purchasing, it suffers from two critical shortcomings: (1) we have no explicit information on the breakdown of trial vs. repeat sales in each week, and (2) we cannot see the longitudinal series of purchase events at the household level, thereby making it impossible to construct a standard model of repeat purchasing (i.e., depth of repeat or counting). We must therefore develop a model of week-by-week repeat purchasing whose parameters can be estimated using the above data."
   ]
  },
  {
   "cell_type": "markdown",
   "metadata": {},
   "source": [
    "### <span style=\"color:#956bbf\">Model Development</span>\n",
    "---\n",
    "<a id='model_development'></a>"
   ]
  },
  {
   "cell_type": "markdown",
   "metadata": {},
   "source": [
    "#### Introduction"
   ]
  },
  {
   "cell_type": "markdown",
   "metadata": {},
   "source": [
    "Our objective to is develop a simple stochastic model of buyer behavior capable of producing a medium-term forecast of unit purchases by the cohort of new customers whose total purchasing during the first quarter of 1997 is summarized in `TableOne`. \n",
    "\n",
    "Let us consider these data more carefully, focusing first on the column corresponding to week 2. This reports the distribution of purchase quantity for that week by the 3216 customers who could have made a purchase. This set is comprised of 1642 customers who made their first purchases at the CDNOW website in week 2, as well as 1574 customers who first purchased at it in week 1 and who therefore may be back in the market for additional (repeat) purchases in week 2. By definition, the 1642 week 2 triers must have purchased at least one unit. This implies that the 1478 people who made no purchase at the website in week 2 must be customers who made a trial purchase in week 1. Thus we have 1574 − 1478 = 96 week 1 triers who made repeat purchases in week 2. In other words, this observed distribution of week 2 purchasing represents a *mixture* of purchases by those whose first purchase occasion occurred in week 2 and repeat purchases by those who tried in week 1.\n",
    "\n",
    "Therefore, the probability of observing someone purchasing $x$ units in week 2 is simply a weighted average of the probability that a week 2 trier bought $x$ units during her initial week, and the probability that a week 1 trier bought $x$ units on at least one *repeat* purchase occasion in week 2. The weights are determined by the number of triers in weeks 1 and 2, i.e.,\n",
    "\n",
    "$$P(X_2 = x) = \\frac{1642}{1574 + 1642} \\times P(T_{2} = x)+ \\frac{1574}{1574 + 1642} \\times + P (R_{2\\mid 1}= x)$$\n",
    "\n",
    "where $P(T_2 = x)$ is the probability that a randomly chosen customer making her first purchase(s) at CDNOW in week 2 buys $x$ units, and $P(R_{2 \\mid 1} = x)$ is the probability that a randomly chosen customer who first purchased in week 1 purchases $x$ units in week 2.\n",
    "\n",
    "Similarly, the column corresponding to week 3 reports the distribution of purchase quantity for the 5038 customers who could have made a purchase that week: 3216 of these customers made their first purchase in weeks 1 or 2, and 3033 of these people made no (repeat) purchase in week 3. We therefore have 183 week 1 and week 2 trialists making repeat purchases in this week, but we do not observe the specific number of week 1 versus week 2 triers, nor each of these groups' respective distribution of units purchased. Extending the same logic from above, however, we can express the probability of observing $x$ purchases in week 3 as a weighted average of the probability that a week 3 trier made $x$ purchases, the probability that a week 2 trier made $x$ repeat purchases in week 3, and the probability that a week 1 trier made $x$ repeat purchases in week 3, i.e.,\n",
    "\n",
    "$$P(X_3 = x) = \\frac{1822}{1574 + 1642 + 1822} \\times P(T_{3} = x) + \\frac{1642}{1574 + 1642 + 1822} \\times P(T_{3 \\mid 2} = x) + \\frac{1574}{1574 + 1642 + 1822} \\times + P (R_{3\\mid 1}= x)$$\n",
    "\n",
    "where the weights are determined by the number of triers in weeks 1-3."
   ]
  },
  {
   "cell_type": "code",
   "execution_count": 8,
   "metadata": {},
   "outputs": [
    {
     "name": "stdout",
     "output_type": "stream",
     "text": [
      "Week 2\n",
      "- # of potential buyers in week 2: 3216\n",
      "- # of triers: 1642\n",
      "- # of week 1 triers in week 2: 1574\n",
      "- # of week 1 triers who made no repeat purchase in week 2: 1478\n",
      "- # of week 1 triers who made a purchase in week 2: 96\n",
      "Week 3\n",
      "- # of potential buyers in week 3: 5038\n",
      "- # of triers: 1822\n",
      "- # of week 1 & 2 triers in week 3: 3216\n",
      "- # of week 1 & 2 triers who made no repeat purchase in week 3: 3033\n",
      "- # of week 1 triers who made a purchase in week 2: 183\n"
     ]
    }
   ],
   "source": [
    "# Week 2 \n",
    "print('Week 2')\n",
    "# Number of potential buyers in week 2:\n",
    "print('- # of potential buyers in week 2:', TableOne['2'].sum())\n",
    "# Number of triers:\n",
    "w2treirs =  weeklytriers.filter(pl.col('Week') == 2).select('Incremental Triers').collect().item(0,0)\n",
    "print('- # of triers:', w2treirs)\n",
    "# Week 1 triers:\n",
    "print('- # of week 1 triers in week 2:', TableOne['2'].sum() - w2treirs)\n",
    "# Week 1 triers who made no purchase in week 2:\n",
    "print('- # of week 1 triers who made no repeat purchase in week 2:', TableOne['2'][0])\n",
    "# Week 1 triers who made a purchase in week 2:\n",
    "print('- # of week 1 triers who made a purchase in week 2:', TableOne['2'].sum() - w2treirs - TableOne['2'][0])\n",
    "\n",
    "# Week 3\n",
    "print('Week 3')\n",
    "# Number of potential buyers in week 3:\n",
    "print('- # of potential buyers in week 3:', TableOne['3'].sum())\n",
    "# Number of triers:\n",
    "w3treirs =  weeklytriers.filter(pl.col('Week') == 3).select('Incremental Triers').collect().item(0,0)\n",
    "print('- # of triers:', w3treirs)\n",
    "# Week 1 & 2 triers:\n",
    "print('- # of week 1 & 2 triers in week 3:', TableOne['3'].sum() - w3treirs)\n",
    "# Week 1 & 2 triers who made no purchase in week 2:\n",
    "print('- # of week 1 & 2 triers who made no repeat purchase in week 3:', TableOne['3'][0])\n",
    "# Week 1 & 2 triers who made a purchase in week 3:\n",
    "print('- # of week 1 triers who made a purchase in week 2:', TableOne['3'].sum() - w3treirs - TableOne['3'][0])"
   ]
  },
  {
   "cell_type": "markdown",
   "metadata": {},
   "source": [
    "More generally, the distribution of purchases in week $w$ can be modeled using a finite mixture model with known mixing weights:\n",
    "\n",
    "$$P(X_{w} = x)=\\frac{1}{\\sum^{w}_{i=1}n_{i}} \\Biggl[n_{w}P(T_{w}=x) + \\sum^{w-1}_{i=1}n_{i}P(R_{w\\mid i}=x)\\Biggr]$$\n",
    "\n",
    "where $n_{i}$ is the number of triers in week $i$ (i.e., customers making their first purchase(s) at the CDNOW website), $P(T_w = x)$ is the probability that a randomly chosen customer making her first purchase(s) at CDNOW in week $w$ buys $x$ units, and $P(R_{w \\mid i} = x)$ is the probability that a randomly chosen customer who first purchased in week $i$ buys $x$ units in week $w$. We therefore need to develop submodels for $P(T_w = x)$ and $P(R_{w \\mid i} = x)$."
   ]
  },
  {
   "cell_type": "markdown",
   "metadata": {},
   "source": [
    "#### Modeling Trial Purchases"
   ]
  },
  {
   "cell_type": "markdown",
   "metadata": {},
   "source": [
    "Let the random variable $T_w$ denote the number of units purchased in week $w$ by a customer whose trial purchase occurs in week $w$. (Note that, by definition, $T_w$ is a zero-truncated discrete random variable.) Our submodel for the distribution of $T_w$ is based on the following two assumptions:\n",
    "\n",
    "- At the level of the individual customer, $T_w$ is distributed according to a **shifted geometric distribution** with parameter $q_T$ and probability mass function\n",
    "$$\n",
    "P(T_w = x \\mid q_T) =\n",
    "\\begin{cases}\n",
    "q_T (1 - q_T)^{x-1} & x = 1, 2, \\dots; \\, 0 < q_T < 1, \\\\[10pt]\n",
    "0 & x = 0.\n",
    "\\end{cases}\n",
    "$$\n",
    "- $q_T$ is distributed across the population according to a beta distribution with parameters $\\alpha_T$ and $\\beta_T$ , and probability density function\n",
    "\n",
    "$$ g(q_T) = \\frac{1}{B(\\alpha_T, \\beta_T)} q_T^{\\alpha_T - 1} (1 - q_T)^{\\beta_T - 1}, \\quad 0 < q_T < 1; \\; \\alpha_T, \\beta_T > 0$$\n",
    "\n",
    "The intuition associated with these two assumptions is as follows. The geometric distribution corresponds to purchasing following a \"coin-flipping\" process in which the individual customer keeps buying until she tosses a \"head\". The beta distribution is simply a means of allowing P(\"heads\") to vary across the customer base.\n",
    "\n",
    "It follows that the aggregate distribution of the number of units purchased by a week $w$ trialist is given by\n",
    "\n",
    "$$\n",
    "\\begin{aligned}\n",
    "P(T_{w} = x) &= \\int^{1}_{0}P(T_{w} = x \\mid q_{T})g(q_{T})dq_{T} \\\\\n",
    "             &=\\begin{cases}\n",
    "               \\frac{B(\\alpha_{T} + 1,\\beta_{T} + x - 1)}{B(\\alpha_{T}+1,\\beta_{T})} &\\quad x=1,2,\\ldots \\\\\n",
    "                0 &\\quad x=0 \\\\\n",
    "                \\end{cases}\n",
    "\\end{aligned}\n",
    "$$\n",
    "\n",
    "which we call the **shifted beta-geometric distribution**. Elsewhere in the marketing literature, this distribution was used by Morrison and Perry (1970) as a quantity submodel in their NBD-based model of **purchase frequency** and **purchase quantity**. The mean of this distribution is given by\n",
    "\n",
    "$$E(T_w) = \\frac{\\alpha_T + \\beta_T - 1}{\\alpha_T - 1}$$"
   ]
  },
  {
   "cell_type": "markdown",
   "metadata": {},
   "source": [
    "#### Modeling Repeat Purchases"
   ]
  },
  {
   "cell_type": "markdown",
   "metadata": {},
   "source": [
    "Let the random variable $R_{w \\mid i}$ denote the number of (repeat) purchases made in week $w$ by a customer who made her trial purchase in week $i (w > i)$. Specifying an appropriate model for the distribution of $R_{w \\mid i}$ is the single most important step in this modeling effort. To do so, we will start with the assertion that the purchasing by a new customer at an established store (or website) is analogous to a consumer's purchasing of a new product. We know that repeat buying rates for new products tend to be nonstationary - at least early in a new product's life - with the purchase rate declining (towards an equilibrium level) over time. One way to capture this pattern is to assume that, for a given cohort, the number of people making zero purchases in a given week grows (at a decreasing rate), which means that the observed average number of units purchased decreases over time.\n",
    "\n",
    "Our submodel for the distribution of $R_{w \\mid i}$ is based on the following three assumptions:\n",
    "\n",
    "**Assumption 1**:\n",
    "- In week $w$, existing customers are either out of the market, i.e., definitely not going to make a repeat purchase that week, or a possible repeat buyer. (The notion that someone is a \"possible repeat buyer\" does not ensure that she will actually purchase any units that week; it merely conveys the fact that she will consider purchasing with some non-zero probability.) The probability of a week $i$ trialist being out of the market in week $w$, which we denote by $\\pi_{w \\mid i}$, is assumed to be governed by the following time-dependent distribution:\n",
    "\n",
    "$$\\pi_{w|i} = 1 - \\gamma (w - i)^\\delta, \\quad w > i$$\n",
    "\n",
    "- When $\\alpha < 0, \\pi_{w \\mid i}$ grows at a decreasing rate as $w − i$ increases; consequently, the number of week $i$ triers making zero purchases in week $w$ increases over time. Likewise, $\\delta$ can also be positive, allowing for the possibility that the number of repeat buyers actually increases over time. (Note that while this fraction $\\pi_{w \\mid i}$ of buyers is definitely not going to make a repeat purchase in week $w$, we are not assuming that they are permanently out of the\n",
    "market, i.e., they may consider buying again in future weeks.)\n",
    "\n",
    "**Assumption 2**:\n",
    "- For an individual who has been classified as a \"possible repeat buyer\" in week $w$, the number of units purchased, $R_{w}$, is distributed according to a geometric distribution with parameter $q_{R}$ and probability mass function\n",
    "\n",
    "$$P(R_w = x \\mid q_R) = q_R (1 - q_R)^x, \\quad x = 0, 1, \\ldots; \\quad 0 < q_R < 1$$\n",
    "\n",
    "**Assumption 3**:\n",
    "- $q_R$ is distributed across the population according to a beta distribution with parameters $\\alpha_R$ and $\\beta_R$, and pdf\n",
    "\n",
    "$$ g(q_R) = \\frac{1}{B(\\alpha_R, \\beta_R)} q_R^{\\alpha_R - 1} (1 - q_R)^{\\beta_R - 1}, \\quad 0 < q_R < 1; \\; \\alpha_R, \\beta_R > 0$$\n",
    "\n",
    "Qualitatively, the same type of \"coin-flipping\" story as discussed earlier for the trial submodel applies here as well. Note, however, that there are two differences. First, there is no longer a truncation at zero, i.e., the first coin-flip determines whether a \"possible repeat buyer\" actually chooses to purchase one unit (or more). Second, the stopping probability (P(\"heads\")) is governed by a different beta distribution than that used for the trial purchasing process.\n",
    "\n",
    "It follows that the aggregate distribution of the number of units purchased in week $w$ by a week $i$ trialist $(w > i)$ is given by:\n",
    "$$\n",
    "\\begin{align*}\n",
    "P(R_{w \\mid i} = x) &= \\delta_{x=0} \\pi_{w \\mid i} + (1 - \\pi_{w \\mid i}) \\int_0^1 P(R_w = x \\mid q_R) g(q_R) \\, dq_R \\\\\n",
    "&= \\delta_{x=0} \\pi_{w \\mid i} + (1 - \\pi_{w \\mid i}) \\frac{B(\\alpha_R + 1, \\beta_R + x)}{B(\\alpha_R, \\beta_R)},\n",
    "\\end{align*}\n",
    "$$\n",
    "\n",
    "where $\\delta_{x=0}$, the Kronecker delta, equals $1$ if $x = 0$, and $0$ otherwise. We call this the \"time-dependent, zero-inflated beta-geometric\" distribution. The mean of this distribution is \n",
    "\n",
    "$$E(R_{w\\mid i}) = \\gamma (w - i)^\\delta \\frac{\\beta_R}{\\alpha_R - 1}$$"
   ]
  },
  {
   "cell_type": "markdown",
   "metadata": {},
   "source": [
    "Week 1 Trial Model"
   ]
  },
  {
   "cell_type": "markdown",
   "metadata": {},
   "source": [
    "As a refresher (or primer) on estimating the parameters of a basic probability model using SciPy, let us consider fitting the trial submodel to the week 1 data. The column of data in `TableOne` corresponding to week 1 presents *trial-week-only* purchases by a group of 1574 customers. Our goal is to fit the following shifted beta-geometric model to these data:\n",
    "\n",
    "$$\n",
    "\\begin{aligned}\n",
    "P(T_{w} = x) &= \\int^{1}_{0}P(T_{w} = x \\mid q_{T})g(q_{T})dq_{T} \\\\\n",
    "             &=\\begin{cases}\n",
    "               \\frac{B(\\alpha_{T} + 1,\\beta_{T} + x - 1)}{B(\\alpha_{T}+1,\\beta_{T})} &\\quad x=1,2,\\ldots \\\\\n",
    "                0 &\\quad x=0 \\\\\n",
    "                \\end{cases}\n",
    "\\end{aligned}\n",
    "$$\n",
    "\n",
    "The shifted beta-geometric probabilities can be computed by recursion using the expressions:\n",
    "\n",
    "$$\n",
    "\\begin{aligned}\n",
    "P(T_{w} = x) &= \\begin{cases}\n",
    "                    0 &\\quad x=0 \\\\\n",
    "                    \\frac{\\alpha_{T}}{\\alpha_{T} + \\beta_{T}} &\\quad x=1\\\\\n",
    "                    \\frac{\\beta_{T} + x - 2}{\\alpha_{T} + \\beta_{T} + x -1} P(T_{w}=x-1) &\\quad x\\ge 2 \\\\\n",
    "                \\end{cases}\n",
    "\\end{aligned}\n",
    "$$\n",
    "\n",
    "The probability of making 10+ purchases in a trial week is simply:\n",
    "\n",
    "$$1-\\sum^{9}_{x=1}P(T_{1}=x)$$\n",
    "\n",
    "The shifted beta-geometric model has two parameters, $\\alpha_{T}$ and $\\beta_{T}$ . Maximum likelihood estimates of these two model parameters are found by maximizing the following log-likelihood function: \n",
    "\n",
    "$$LL=\\sum^{9}_{x=1}n_{1x}\\ln\\left[P(T_{1}=x)\\right]+\\left(n_{1}-\\sum^{9}_{x=1}n_{1x}\\right)\\ln\\left[1-\\sum^{9}_{x=1}P(T_{1}=x)\\right]$$\n",
    "\n",
    "Where $n_{1}$ is the total number of triers in week 1 (1574) and $n_{1x}$ is the number of people making $x$ purchases in week 1."
   ]
  },
  {
   "cell_type": "code",
   "execution_count": 9,
   "metadata": {},
   "outputs": [],
   "source": [
    "def trial_parameters(n1x, guess=[1,1]):\n",
    "    \n",
    "    def log_likelihood(x):\n",
    "        alpha_T, beta_T = x[0], x[1]\n",
    "        \n",
    "        # Shifted beta-geometric probabilities of making x purchases\n",
    "        p_t_1x = np.zeros(n1x.shape)\n",
    "        p_t_1x[0], p_t_1x[1] = 0, alpha_T / (alpha_T + beta_T)\n",
    "        x = np.arange(2, len(n1x)-1)\n",
    "        p_t_1x[2:len(n1x)-1] = (beta_T + x - 2) / (alpha_T + beta_T + x - 1)\n",
    "        p_t_1x[1:len(n1x)-1] = np.cumprod(p_t_1x[1:len(n1x)-1])\n",
    "        p_t_1x[-1] = 1 - np.sum(p_t_1x[:-1])     \n",
    "          \n",
    "        return -np.sum(np.log(p_t_1x, where=p_t_1x != 0) * n1x) \n",
    "    \n",
    "    return minimize(log_likelihood, guess, bounds=[(0, np.inf), (0, np.inf)])"
   ]
  },
  {
   "cell_type": "code",
   "execution_count": 10,
   "metadata": {},
   "outputs": [
    {
     "data": {
      "text/markdown": [
       "$\\alpha_{T}$ = 5.9119\n",
       "\n",
       "$\\beta_{T}$ = 6.2835\n",
       "\n",
       "Log-Likelihood = -2378.0156"
      ]
     },
     "metadata": {},
     "output_type": "display_data"
    }
   ],
   "source": [
    "n1x = TableOne['1'].to_numpy()\n",
    "\n",
    "result = trial_parameters(n1x)\n",
    "alpha_T, beta_T, ll = result.x[0], result.x[1], result.fun\n",
    "\n",
    "w1_alpha_T, w1_beta_T = alpha_T, beta_T\n",
    "\n",
    "display_markdown(f'''$\\\\alpha_{{T}}$ = {alpha_T:0.4f}\n",
    "\n",
    "$\\\\beta_{{T}}$ = {beta_T:0.4f}\n",
    "\n",
    "Log-Likelihood = {-ll:0.4f}''', raw=True)"
   ]
  },
  {
   "cell_type": "markdown",
   "metadata": {},
   "source": [
    "Chi-Squared Goodness of Fit Test"
   ]
  },
  {
   "cell_type": "markdown",
   "metadata": {},
   "source": [
    "We first have to compute the expected number of people buying $1, 2, \\ldots , 9, 10+$ units in their trial week. We have:\n",
    "\n",
    "$$E(n_{1x})=1574\\times P(T_{1}=x)$$\n",
    "\n",
    "The chi-squared goodness of fit test statistic is computed as:\n",
    "\n",
    "$$\\chi^{2}=\\sum^{10+}_{x=1}\\frac{\\left[n_{1x}-E(n_{1x})\\right]^{2}}{E(n_{1x})}$$"
   ]
  },
  {
   "cell_type": "code",
   "execution_count": 11,
   "metadata": {},
   "outputs": [
    {
     "data": {
      "text/markdown": [
       "$E_{n_{1x}}$ = [763.  363.3 186.4 101.6  58.3  34.8  21.6  13.8   9.1  22. ]\n",
       "\n",
       "$\\chi^{2}$ = 3.3117\n",
       "\n",
       "Degrees of freedom = 7\n",
       "\n",
       "Critical Value = 14.0671"
      ]
     },
     "metadata": {},
     "output_type": "display_data"
    }
   ],
   "source": [
    "p_t_1x = np.zeros(n1x.shape)\n",
    "p_t_1x[0], p_t_1x[1] = 0, alpha_T / (alpha_T + beta_T)\n",
    "x = np.arange(2, len(n1x)-1)\n",
    "p_t_1x[2:len(n1x)-1] = (beta_T + x - 2) / (alpha_T + beta_T + x - 1)\n",
    "p_t_1x[1:len(n1x)-1] = np.cumprod(p_t_1x[1:len(n1x)-1])\n",
    "p_t_1x[-1] = 1 - np.sum(p_t_1x[:-1])     \n",
    "\n",
    "n1 = weeklytriers.filter(pl.col('Week') == 1).select('Incremental Triers').collect().item(0,0) \n",
    "E_n1x = p_t_1x * n1\n",
    "chi_square = np.sum(np.divide((n1x - E_n1x)**2, E_n1x, where=E_n1x != 0))\n",
    "\n",
    "df = 7\n",
    "critical_value = chi2.ppf(0.95, df=df)\n",
    "\n",
    "display_markdown(f'''$E_{{n_{{1x}}}}$ = {np.round(E_n1x[1:],1)}\n",
    "\n",
    "$\\\\chi^{{2}}$ = {chi_square:0.4f}\n",
    "\n",
    "Degrees of freedom = {df}\n",
    "\n",
    "Critical Value = {critical_value:0.4f}''', raw=True)"
   ]
  },
  {
   "cell_type": "markdown",
   "metadata": {},
   "source": [
    "As the value of the sample test statistic is less than the critical value, we conclude that the shifted beta-geometric distribution adequately fits the data."
   ]
  },
  {
   "cell_type": "code",
   "execution_count": 12,
   "metadata": {},
   "outputs": [
    {
     "data": {
      "application/vnd.vegalite.v5+json": {
       "$schema": "https://vega.github.io/schema/vega-lite/v5.20.1.json",
       "config": {
        "axisX": {
         "grid": false
        },
        "axisY": {
         "grid": false
        },
        "view": {
         "continuousHeight": 300,
         "continuousWidth": 300,
         "stroke": null
        }
       },
       "data": {
        "name": "data-2dfa3e708563a880bd92d24406b0e2af"
       },
       "datasets": {
        "data-2dfa3e708563a880bd92d24406b0e2af": [
         {
          "Frequency": 750,
          "Legend": "Observed",
          "Number of Units Purchased": 1
         },
         {
          "Frequency": 383,
          "Legend": "Observed",
          "Number of Units Purchased": 2
         },
         {
          "Frequency": 191,
          "Legend": "Observed",
          "Number of Units Purchased": 3
         },
         {
          "Frequency": 95,
          "Legend": "Observed",
          "Number of Units Purchased": 4
         },
         {
          "Frequency": 55,
          "Legend": "Observed",
          "Number of Units Purchased": 5
         },
         {
          "Frequency": 36,
          "Legend": "Observed",
          "Number of Units Purchased": 6
         },
         {
          "Frequency": 18,
          "Legend": "Observed",
          "Number of Units Purchased": 7
         },
         {
          "Frequency": 12,
          "Legend": "Observed",
          "Number of Units Purchased": 8
         },
         {
          "Frequency": 9,
          "Legend": "Observed",
          "Number of Units Purchased": 9
         },
         {
          "Frequency": 25,
          "Legend": "Observed",
          "Number of Units Purchased": 10
         },
         {
          "Frequency": 763.0213195669673,
          "Legend": "Expected",
          "Number of Units Purchased": 1
         },
         {
          "Frequency": 363.3414691737882,
          "Legend": "Expected",
          "Number of Units Purchased": 2
         },
         {
          "Frequency": 186.42610239484824,
          "Legend": "Expected",
          "Number of Units Purchased": 3
         },
         {
          "Frequency": 101.6266830020551,
          "Legend": "Expected",
          "Number of Units Purchased": 4
         },
         {
          "Frequency": 58.25418550692948,
          "Legend": "Expected",
          "Number of Units Purchased": 5
         },
         {
          "Frequency": 34.83815550692456,
          "Legend": "Expected",
          "Number of Units Purchased": 6
         },
         {
          "Frequency": 21.60412870845687,
          "Legend": "Expected",
          "Number of Units Purchased": 7
         },
         {
          "Frequency": 13.82487209906737,
          "Legend": "Expected",
          "Number of Units Purchased": 8
         },
         {
          "Frequency": 9.093280950256721,
          "Legend": "Expected",
          "Number of Units Purchased": 9
         },
         {
          "Frequency": 21.969803090706133,
          "Legend": "Expected",
          "Number of Units Purchased": 10
         }
        ]
       },
       "encoding": {
        "color": {
         "field": "Legend",
         "type": "nominal"
        },
        "x": {
         "axis": {
          "labelAngle": 0
         },
         "field": "Number of Units Purchased",
         "type": "ordinal"
        },
        "xOffset": {
         "field": "Legend",
         "type": "nominal"
        },
        "y": {
         "field": "Frequency",
         "type": "quantitative"
        }
       },
       "height": 250,
       "mark": {
        "type": "bar"
       },
       "title": "Fit of Week 1 Trial Model",
       "width": 650
      },
      "text/plain": [
       "<VegaLite 5 object>\n",
       "\n",
       "If you see this message, it means the renderer has not been properly enabled\n",
       "for the frontend that you are using. For more information, see\n",
       "https://altair-viz.github.io/user_guide/display_frontends.html#troubleshooting\n"
      ]
     },
     "execution_count": 12,
     "metadata": {},
     "output_type": "execute_result"
    }
   ],
   "source": [
    "w1_trial_df = pl.DataFrame({'Number of Units Purchased':np.arange(1,11), 'Observed': n1x[1:], 'Expected': E_n1x[1:]})\n",
    "w1_trial_df = w1_trial_df.unpivot(on=['Observed', 'Expected'], index='Number of Units Purchased', variable_name='Legend' , value_name='Frequency')\n",
    "\n",
    "ChartTemp(w1_trial_df).mark_bar().encode(\n",
    "    x=alt.X('Number of Units Purchased:O', axis=alt.Axis(labelAngle=0)),\n",
    "    y='Frequency:Q',\n",
    "    color='Legend:N',\n",
    "    xOffset='Legend:N'\n",
    ").line_prop('Fit of Week 1 Trial Model')"
   ]
  },
  {
   "cell_type": "markdown",
   "metadata": {},
   "source": [
    "Calibrating the Full Model"
   ]
  },
  {
   "cell_type": "markdown",
   "metadata": {},
   "source": [
    "We now turn our attention to the task of estimating the parameters of the full model. Our goal is to construct the following log-likelihood function:\n",
    "\n",
    "$$\n",
    "\\begin{align*}\n",
    "LL= & \\sum^{9}_{x=1}n_{1x}\\ln\\left[P(T_{1}=x)\\right]+\\left(n_{1}-\\sum^{9}_{x=1}n_{1x}\\right)\\ln\\left[1-\\sum^{9}_{x=1}P(T_{1}=x)\\right] + \\\\\n",
    "& \\sum^{12}_{w=2} \\Biggl\\{\\sum^{9}_{x=0}n_{wx} \\ln[P(X_{w}=x)] + \\left(n_{w} - \\sum^{9}_{x=0}n_{wx}\\right) \\ln\\left[1-\\sum^{9}_{x=0}P(X_{w}=x)\\right] \\Biggr\\}\n",
    "\\end{align*}\n",
    "$$\n",
    "\n",
    "where $n_{wx}$ is the number of people making $x$ purchases in week $w$.\n",
    "\n",
    "At the heart of this log-likelihood function is $P(X_{w} = x)$, the probability that an eligible customer purchases $x$ units in week $w$, as given in the equation:\n",
    "\n",
    "$$P(X_{w} = x)=\\frac{1}{\\sum^{w}_{i=1}n_{i}} \\Biggl[n_{w}P(T_{w}=x) + \\sum^{w-1}_{i=1}n_{i}P(R_{w\\mid i}=x)\\Biggr]$$\n",
    "\n",
    "The aggregate distribution of the number of units purchased in week $w$ by a week $i$ trialist $(w \\gt i)$ is given by:\n",
    "\n",
    "$$\n",
    "\\begin{align*}\n",
    "P(R_{w \\mid i} = x) &= \\delta_{x=0} \\pi_{w \\mid i} + (1 - \\pi_{w \\mid i}) \\int_0^1 P(R_w = x \\mid q_R) g(q_R) \\, dq_R \\\\\n",
    "&= \\delta_{x=0} \\pi_{w \\mid i} + (1 - \\pi_{w \\mid i}) \\frac{B(\\alpha_R + 1, \\beta_R + x)}{B(\\alpha_R, \\beta_R)},\n",
    "\\end{align*}\n",
    "$$\n",
    "\n",
    "where $\\delta_{x=0}$, the Kronecker delta, equals $1$ if $x = 0$, and $0$ otherwise. We call this the \"time-dependent, zero-inflated beta-geometric\" distribution.\n",
    "\n",
    "Probabilities associated with the \"time dependent, zero-inflated beta-geometric\" distribution can be computed using the following forward recursive relationship:\n",
    "\n",
    "$$\n",
    "P(R_{w \\mid i} = x) =\n",
    "\\begin{cases}\n",
    "1 - \\gamma(w - i)^\\delta \\left( \\frac{\\beta_R}{\\alpha_R + \\beta_R} \\right), & x = 0 \\\\[10pt]\n",
    "\\gamma(w - i)^\\delta \\frac{\\alpha_R \\beta_R}{(\\alpha_R + \\beta_R)(\\alpha_R + \\beta_R + 1)}, & x = 1 \\\\[10pt]\n",
    "\\frac{\\beta_R + x - 1}{\\alpha_R + \\beta_R + x} P(R_{w \\mid i} = x - 1), & x \\geq 2\n",
    "\\end{cases}\n",
    "$$\n",
    "\n",
    "However, rather than directly use the recursive relationship given in the equation above, we take the following apporach. We first compute the probability that a week 1 trier is a \"possible repeat buyer\" in weeks 2-12 using $\\gamma(w-1)^{\\delta}$.\n",
    "\n",
    "Next we need to create the expressions for the beta-geometric probabilities of making $x$ purchases $(x = 0, 1, \\ldots , 9, 10+)$, given $\\alpha_R$ and $\\beta_R$, for someone who is a “possible repeat buyer”. The beta-geometric probabilities can be computed using the following recursive relationship:\n",
    "\n",
    "$$\n",
    "P(R = x \\mid \\text{possible repeat buyer}) =\n",
    "\\begin{cases}\n",
    "\\frac{\\alpha_R}{\\alpha_R + \\beta_R}, & x = 0 \\\\[10pt]\n",
    "\\frac{\\beta_R + x - 1}{\\alpha_R + \\beta_R + x} P(R = x - 1), & x \\ge 1 \\\\[10pt]\n",
    "\\end{cases}\n",
    "$$\n",
    "\n",
    "The probability of a \"possible repeat buyer\" making 10+ purchases is simply $1 - \\sum^{9}_{x=0} P(R=x)$.\n",
    "\n",
    "As the sample data are in the form of a table documenting the number of people purchasing $0, 1, \\ldots , 9, 10+$ units (CDs) for each of the 12 weeks, we need to create a table that gives us $P(X_w = x), x = 0, 1, \\ldots , 9, 10+$ and $w = 1, 2, \\ldots 12$, given values of the six model parameters $(\\alpha_T, \\beta_T, \\alpha_R, \\beta_R, \\gamma, \\delta)$."
   ]
  },
  {
   "cell_type": "markdown",
   "metadata": {},
   "source": [
    "We see that $P(X_w = x)$ is simply a weighted average of the week-of-trial-specific probabilities of purchasing $x$ units in week $w$. As an intermediate step, we build twelve tables that give us the probability of purchasing $x$ units in week $w$, one for each trial week. These will then be aggregated and the log-likelihood created."
   ]
  },
  {
   "cell_type": "code",
   "execution_count": 13,
   "metadata": {},
   "outputs": [],
   "source": [
    "def bg_parameters(distMAT, weeks, units_range, incr_triers, guesses=[0.01,0.01,0.01,0.01,0.01,0]):\n",
    "    \n",
    "    def log_likelihood(x):\n",
    "        alpha_T, beta_T, alpha_R, beta_R, gamma, delta = x\n",
    "        \n",
    "        # Weekly P(possible repeat buyer)\n",
    "        weekly_p_repeat = gamma * (weeks[1:] - 1)**delta\n",
    "        \n",
    "        # Distribution of repeat purchase volume (given possible repeat buyer)\n",
    "        p_dist_repeat = np.zeros(units_range.shape)\n",
    "        p_dist_repeat[0] = alpha_R / (alpha_R + beta_R)\n",
    "        p_dist_repeat[1:-1] = (beta_R + units_range[1:-1] - 1) / (alpha_R + beta_R + units_range[1:-1])\n",
    "        p_dist_repeat = np.cumprod(p_dist_repeat)\n",
    "        p_dist_repeat[-1] = 1 - np.sum(p_dist_repeat[:-1])\n",
    "\n",
    "        # Week n Triers\n",
    "        w_n_triers = p_dist_repeat.reshape(-1,1) * np.append([0], weekly_p_repeat)\n",
    "        w_n_triers[0,1:] =  1 -  weekly_p_repeat + weekly_p_repeat * p_dist_repeat[0]\n",
    "        w_n_triers[1,0] = alpha_T / (alpha_T + beta_T)\n",
    "        w_n_triers[2:-1,0] = (beta_T + distMAT[2:-1,0] - 2) / (alpha_T + beta_T + distMAT[2:-1,0] - 1)\n",
    "        w_n_triers[1:,0] = np.cumprod(w_n_triers[1:,0])\n",
    "        w_n_triers[-1,0] = 1 - np.sum(w_n_triers[:-1,0])        \n",
    "        \n",
    "        cum_triers = np.cumsum(incr_triers)\n",
    "\n",
    "        # P(X_{w} = x) - Weighted Probabilities\n",
    "        weight_probs = np.zeros_like(w_n_triers)\n",
    "        for i in range(w_n_triers.shape[0]):\n",
    "            for j in range(w_n_triers.shape[1]):\n",
    "                weight_probs[i,j] = np.sum(incr_triers[:j+1] * w_n_triers[i,j::-1]) / cum_triers[j]        \n",
    "        \n",
    "        # Log-Likelihood Computation\n",
    "        ll_components = distMAT[:,1:] * np.log(weight_probs, where=weight_probs > 0)\n",
    "        ll = np.sum(ll_components)        \n",
    "        \n",
    "        return -ll\n",
    "    \n",
    "    bnds = [(1e-5, np.inf) for _ in range(len(guesses)-1)] + [(-np.inf, np.inf)]\n",
    "    return minimize(log_likelihood, guesses, bounds=bnds)   "
   ]
  },
  {
   "cell_type": "code",
   "execution_count": 14,
   "metadata": {},
   "outputs": [
    {
     "data": {
      "text/markdown": [
       "$\\alpha_{T}$ = 6.9018\n",
       "\n",
       "$\\beta_{T}$ = 7.1864\n",
       "\n",
       "$\\alpha_{R}$ = 5.0205\n",
       "\n",
       "$\\beta_{R}$ = 5.5908\n",
       "\n",
       "$\\gamma$ = 0.1215\n",
       "\n",
       "$\\delta$ = -0.2912\n",
       "\n",
       "Log-Likelihood = -112923.922828"
      ]
     },
     "metadata": {},
     "output_type": "display_data"
    }
   ],
   "source": [
    "distMAT = TableOne.to_numpy()\n",
    "trial_weeks = np.array(TableOne.columns[1:], dtype=np.int32)\n",
    "units_range = np.arange(distMAT.shape[0])\n",
    "incr_triers = weeklytriers.select('Incremental Triers').collect().to_numpy().flatten()\n",
    "\n",
    "cum_triers = np.cumsum(incr_triers)\n",
    "\n",
    "result = bg_parameters(distMAT, trial_weeks, units_range, incr_triers)\n",
    "\n",
    "alpha_T, beta_T, alpha_R, beta_R, gamma, delta = result.x\n",
    "ll = result.fun\n",
    "\n",
    "allW_alpha_T, allW_beta_T = alpha_T, beta_T\n",
    "\n",
    "display_markdown(f'''$\\\\alpha_{{T}}$ = {alpha_T:0.4f}\n",
    "\n",
    "$\\\\beta_{{T}}$ = {beta_T:0.4f}\n",
    "\n",
    "$\\\\alpha_{{R}}$ = {alpha_R:0.4f}\n",
    "\n",
    "$\\\\beta_{{R}}$ = {beta_R:0.4f}\n",
    "\n",
    "$\\\\gamma$ = {gamma:0.4f}\n",
    "\n",
    "$\\\\delta$ = {delta:0.4f}\n",
    "\n",
    "Log-Likelihood = {-ll:0.6f}''', raw=True)"
   ]
  },
  {
   "cell_type": "markdown",
   "metadata": {},
   "source": [
    "Chi-Squared Goodness of Fit Test"
   ]
  },
  {
   "cell_type": "markdown",
   "metadata": {},
   "source": [
    "We first have to compute the expected number of people buying $1, 2, \\ldots , 9, 10+$ units in each week ($w=1,2,\\ldots,12$). We have:\n",
    "\n",
    "$$E(n_{wx})=P(X_{w}=x) \\times \\sum^w_{i=1}n_{i}$$\n",
    "\n",
    "where $\\sum^w_{i=1}n_{i}$ is the number of eligible cohort members in week $w$.\n",
    "\n",
    "The chi-squared goodness of fit test statistic is computed as:\n",
    "\n",
    "$$\n",
    "\\chi^2 = \\sum_{x=1}^{10+} \\frac{\\left[ n_{1x} - E(n_{1x}) \\right]^2}{E(n_{1x})}\n",
    "+ \\sum_{w=2}^{12} \\sum_{x=0}^{10+} \\frac{\\left[ n_{wx} - E(n_{wx}) \\right]^2}{E(n_{wx})}.\n",
    "$$"
   ]
  },
  {
   "cell_type": "code",
   "execution_count": 15,
   "metadata": {},
   "outputs": [],
   "source": [
    "# Weekly P(possible repeat buyer)\n",
    "weekly_p_repeat = gamma * (trial_weeks[1:] - 1)**delta\n",
    "\n",
    "# Distribution of repeat purchase volume (given possible repeat buyer)\n",
    "p_dist_repeat = np.zeros(units_range.shape)\n",
    "p_dist_repeat[0] = alpha_R / (alpha_R + beta_R)\n",
    "p_dist_repeat[1:-1] = (beta_R + units_range[1:-1] - 1) / (alpha_R + beta_R + units_range[1:-1])\n",
    "p_dist_repeat = np.cumprod(p_dist_repeat)\n",
    "p_dist_repeat[-1] = 1 - np.sum(p_dist_repeat[:-1])\n",
    "\n",
    "# Week n Triers\n",
    "w_n_triers = p_dist_repeat.reshape(-1,1) * np.append([0], weekly_p_repeat)\n",
    "w_n_triers[0,1:] =  1 -  weekly_p_repeat + weekly_p_repeat * p_dist_repeat[0]\n",
    "w_n_triers[1,0] = alpha_T / (alpha_T + beta_T)\n",
    "w_n_triers[2:-1,0] = (beta_T + distMAT[2:-1,0] - 2) / (alpha_T + beta_T + distMAT[2:-1,0] - 1)\n",
    "w_n_triers[1:,0] = np.cumprod(w_n_triers[1:,0])\n",
    "w_n_triers[-1,0] = 1 - np.sum(w_n_triers[:-1,0])\n",
    "\n",
    "# P(X_{w} = x) - Weighted Probabilities\n",
    "weight_probs = np.zeros_like(w_n_triers)\n",
    "for i in range(w_n_triers.shape[0]):\n",
    "    for j in range(w_n_triers.shape[1]):\n",
    "        weight_probs[i,j] = np.sum(incr_triers[:j+1] * w_n_triers[i,j::-1]) / cum_triers[j]\n",
    "\n",
    "# Log-Likelihood Computation\n",
    "ll_components = distMAT[:,1:] * np.log(weight_probs, where=weight_probs != 0)\n",
    "ll = np.sum(ll_components)\n",
    "\n",
    "# Expected Distribution of Sales\n",
    "e_distMAT = weight_probs * cum_triers\n",
    "\n",
    "# chi-squared goodness of fit test statistic\n",
    "chi_square = np.sum(np.divide((distMAT[:,1:] - e_distMAT)**2, e_distMAT, where=distMAT[:,1:]!=0))\n",
    "df = 113\n",
    "critical_value = chi2.ppf(0.95, df=df)"
   ]
  },
  {
   "cell_type": "code",
   "execution_count": 16,
   "metadata": {},
   "outputs": [
    {
     "data": {
      "text/html": [
       "<div id=\"qeywkvlkzo\" style=\"padding-left:0px;padding-right:0px;padding-top:10px;padding-bottom:10px;overflow-x:auto;overflow-y:auto;width:auto;height:auto;\">\n",
       "<style>\n",
       "#qeywkvlkzo table {\n",
       "          font-family: -apple-system, BlinkMacSystemFont, 'Segoe UI', Roboto, Oxygen, Ubuntu, Cantarell, 'Helvetica Neue', 'Fira Sans', 'Droid Sans', Arial, sans-serif;\n",
       "          -webkit-font-smoothing: antialiased;\n",
       "          -moz-osx-font-smoothing: grayscale;\n",
       "        }\n",
       "\n",
       "#qeywkvlkzo thead, tbody, tfoot, tr, td, th { border-style: none !important; }\n",
       " tr { background-color: transparent !important; }\n",
       "#qeywkvlkzo p { margin: 0 !important; padding: 0 !important; }\n",
       " #qeywkvlkzo .gt_table { display: table !important; border-collapse: collapse !important; line-height: normal !important; margin-left: auto !important; margin-right: auto !important; color: #333333 !important; font-size: 16px !important; font-weight: normal !important; font-style: normal !important; background-color: #FFFFFF !important; width: auto !important; border-top-style: solid !important; border-top-width: 2px !important; border-top-color: #004D80 !important; border-right-style: none !important; border-right-width: 2px !important; border-right-color: #D3D3D3 !important; border-bottom-style: solid !important; border-bottom-width: 2px !important; border-bottom-color: #004D80 !important; border-left-style: none !important; border-left-width: 2px !important; border-left-color: #D3D3D3 !important; }\n",
       " #qeywkvlkzo .gt_caption { padding-top: 4px !important; padding-bottom: 4px !important; }\n",
       " #qeywkvlkzo .gt_title { color: #333333 !important; font-size: 125% !important; font-weight: initial !important; padding-top: 4px !important; padding-bottom: 4px !important; padding-left: 5px !important; padding-right: 5px !important; border-bottom-color: #FFFFFF !important; border-bottom-width: 0 !important; }\n",
       " #qeywkvlkzo .gt_subtitle { color: #333333 !important; font-size: 85% !important; font-weight: initial !important; padding-top: 3px !important; padding-bottom: 5px !important; padding-left: 5px !important; padding-right: 5px !important; border-top-color: #FFFFFF !important; border-top-width: 0 !important; }\n",
       " #qeywkvlkzo .gt_heading { background-color: #FFFFFF !important; text-align: center !important; border-bottom-color: #FFFFFF !important; border-left-style: none !important; border-left-width: 1px !important; border-left-color: #D3D3D3 !important; border-right-style: none !important; border-right-width: 1px !important; border-right-color: #D3D3D3 !important; }\n",
       " #qeywkvlkzo .gt_bottom_border { border-bottom-style: solid !important; border-bottom-width: 2px !important; border-bottom-color: #0076BA !important; }\n",
       " #qeywkvlkzo .gt_col_headings { border-top-style: solid !important; border-top-width: 2px !important; border-top-color: #0076BA !important; border-bottom-style: solid !important; border-bottom-width: 2px !important; border-bottom-color: #0076BA !important; border-left-style: none !important; border-left-width: 1px !important; border-left-color: #D3D3D3 !important; border-right-style: none !important; border-right-width: 1px !important; border-right-color: #D3D3D3 !important; }\n",
       " #qeywkvlkzo .gt_col_heading { color: #333333 !important; background-color: #FFFFFF !important; font-size: 100% !important; font-weight: normal !important; text-transform: inherit !important; border-left-style: none !important; border-left-width: 1px !important; border-left-color: #D3D3D3 !important; border-right-style: none !important; border-right-width: 1px !important; border-right-color: #D3D3D3 !important; vertical-align: bottom !important; padding-top: 5px !important; padding-bottom: 5px !important; padding-left: 5px !important; padding-right: 5px !important; overflow-x: hidden !important; }\n",
       " #qeywkvlkzo .gt_column_spanner_outer { color: #333333 !important; background-color: #FFFFFF !important; font-size: 100% !important; font-weight: normal !important; text-transform: inherit !important; padding-top: 0 !important; padding-bottom: 0 !important; padding-left: 4px !important; padding-right: 4px !important; }\n",
       " #qeywkvlkzo .gt_column_spanner_outer:first-child { padding-left: 0 !important; }\n",
       " #qeywkvlkzo .gt_column_spanner_outer:last-child { padding-right: 0 !important; }\n",
       " #qeywkvlkzo .gt_column_spanner { border-bottom-style: solid !important; border-bottom-width: 2px !important; border-bottom-color: #0076BA !important; vertical-align: bottom !important; padding-top: 5px !important; padding-bottom: 5px !important; overflow-x: hidden !important; display: inline-block !important; width: 100% !important; }\n",
       " #qeywkvlkzo .gt_spanner_row { border-bottom-style: hidden !important; }\n",
       " #qeywkvlkzo .gt_group_heading { padding-top: 8px !important; padding-bottom: 8px !important; padding-left: 5px !important; padding-right: 5px !important; color: #333333 !important; background-color: #FFFFFF !important; font-size: 100% !important; font-weight: initial !important; text-transform: inherit !important; border-top-style: solid !important; border-top-width: 2px !important; border-top-color: #0076BA !important; border-bottom-style: solid !important; border-bottom-width: 2px !important; border-bottom-color: #0076BA !important; border-left-style: none !important; border-left-width: 1px !important; border-left-color: #D3D3D3 !important; border-right-style: none !important; border-right-width: 1px !important; border-right-color: #D3D3D3 !important; vertical-align: middle !important; text-align: left !important; }\n",
       " #qeywkvlkzo .gt_empty_group_heading { padding: 0.5px !important; color: #333333 !important; background-color: #FFFFFF !important; font-size: 100% !important; font-weight: initial !important; border-top-style: solid !important; border-top-width: 2px !important; border-top-color: #0076BA !important; border-bottom-style: solid !important; border-bottom-width: 2px !important; border-bottom-color: #0076BA !important; vertical-align: middle !important; }\n",
       " #qeywkvlkzo .gt_from_md> :first-child { margin-top: 0 !important; }\n",
       " #qeywkvlkzo .gt_from_md> :last-child { margin-bottom: 0 !important; }\n",
       " #qeywkvlkzo .gt_row { padding-top: 8px !important; padding-bottom: 8px !important; padding-left: 5px !important; padding-right: 5px !important; margin: 10px !important; border-top-style: none !important; border-top-width: 1px !important; border-top-color: #89D3FE !important; border-left-style: none !important; border-left-width: 1px !important; border-left-color: #89D3FE !important; border-right-style: none !important; border-right-width: 1px !important; border-right-color: #89D3FE !important; vertical-align: middle !important; overflow-x: hidden !important; }\n",
       " #qeywkvlkzo .gt_stub { color: #FFFFFF !important; background-color: #0076BA !important; font-size: 100% !important; font-weight: initial !important; text-transform: inherit !important; border-right-style: solid !important; border-right-width: 2px !important; border-right-color: #0076BA !important; padding-left: 5px !important; padding-right: 5px !important; }\n",
       " #qeywkvlkzo .gt_stub_row_group { color: #333333 !important; background-color: #FFFFFF !important; font-size: 100% !important; font-weight: initial !important; text-transform: inherit !important; border-right-style: solid !important; border-right-width: 2px !important; border-right-color: #D3D3D3 !important; padding-left: 5px !important; padding-right: 5px !important; vertical-align: top !important; }\n",
       " #qeywkvlkzo .gt_row_group_first td { border-top-width: 2px !important; }\n",
       " #qeywkvlkzo .gt_row_group_first th { border-top-width: 2px !important; }\n",
       " #qeywkvlkzo .gt_striped { background-color: #F4F4F4 !important; }\n",
       " #qeywkvlkzo .gt_table_body { border-top-style: solid !important; border-top-width: 2px !important; border-top-color: #0076BA !important; border-bottom-style: solid !important; border-bottom-width: 2px !important; border-bottom-color: #0076BA !important; }\n",
       " #qeywkvlkzo .gt_sourcenotes { color: #333333 !important; background-color: #FFFFFF !important; border-bottom-style: none !important; border-bottom-width: 2px !important; border-bottom-color: #D3D3D3 !important; border-left-style: none !important; border-left-width: 2px !important; border-left-color: #D3D3D3 !important; border-right-style: none !important; border-right-width: 2px !important; border-right-color: #D3D3D3 !important; }\n",
       " #qeywkvlkzo .gt_sourcenote { font-size: 90% !important; padding-top: 4px !important; padding-bottom: 4px !important; padding-left: 5px !important; padding-right: 5px !important; text-align: left !important; }\n",
       " #qeywkvlkzo .gt_left { text-align: left !important; }\n",
       " #qeywkvlkzo .gt_center { text-align: center !important; }\n",
       " #qeywkvlkzo .gt_right { text-align: right !important; font-variant-numeric: tabular-nums !important; }\n",
       " #qeywkvlkzo .gt_font_normal { font-weight: normal !important; }\n",
       " #qeywkvlkzo .gt_font_bold { font-weight: bold !important; }\n",
       " #qeywkvlkzo .gt_font_italic { font-style: italic !important; }\n",
       " #qeywkvlkzo .gt_super { font-size: 65% !important; }\n",
       " #qeywkvlkzo .gt_footnote_marks { font-size: 75% !important; vertical-align: 0.4em !important; position: initial !important; }\n",
       " #qeywkvlkzo .gt_asterisk { font-size: 100% !important; vertical-align: 0 !important; }\n",
       " \n",
       "</style>\n",
       "<table class=\"gt_table\" data-quarto-disable-processing=\"false\" data-quarto-bootstrap=\"false\">\n",
       "<thead>\n",
       "\n",
       "  <tr class=\"gt_heading\">\n",
       "    <td colspan=\"13\" class=\"gt_heading gt_title gt_font_normal\">Estimated Distribution of the Number of CDNOW Units Purchased</td>\n",
       "  </tr>\n",
       "  <tr class=\"gt_heading\">\n",
       "    <td colspan=\"13\" class=\"gt_heading gt_subtitle gt_font_normal gt_bottom_border\">First 12 Weeks</td>\n",
       "  </tr>\n",
       "<tr class=\"gt_col_headings gt_spanner_row\">\n",
       "  <th class=\"gt_col_heading gt_columns_bottom_border gt_left\" rowspan=\"2\" colspan=\"1\" scope=\"col\" id=\"Units Purchased\">Units Purchased</th>\n",
       "  <th class=\"gt_center gt_columns_top_border gt_column_spanner_outer\" rowspan=\"1\" colspan=\"12\" scope=\"colgroup\" id=\"Week\">\n",
       "    <span class=\"gt_column_spanner\">Week</span>\n",
       "  </th>\n",
       "</tr>\n",
       "<tr class=\"gt_col_headings\">\n",
       "  <th class=\"gt_col_heading gt_columns_bottom_border gt_right\" rowspan=\"1\" colspan=\"1\" scope=\"col\" id=\"1\">1</th>\n",
       "  <th class=\"gt_col_heading gt_columns_bottom_border gt_right\" rowspan=\"1\" colspan=\"1\" scope=\"col\" id=\"2\">2</th>\n",
       "  <th class=\"gt_col_heading gt_columns_bottom_border gt_right\" rowspan=\"1\" colspan=\"1\" scope=\"col\" id=\"3\">3</th>\n",
       "  <th class=\"gt_col_heading gt_columns_bottom_border gt_right\" rowspan=\"1\" colspan=\"1\" scope=\"col\" id=\"4\">4</th>\n",
       "  <th class=\"gt_col_heading gt_columns_bottom_border gt_right\" rowspan=\"1\" colspan=\"1\" scope=\"col\" id=\"5\">5</th>\n",
       "  <th class=\"gt_col_heading gt_columns_bottom_border gt_right\" rowspan=\"1\" colspan=\"1\" scope=\"col\" id=\"6\">6</th>\n",
       "  <th class=\"gt_col_heading gt_columns_bottom_border gt_right\" rowspan=\"1\" colspan=\"1\" scope=\"col\" id=\"7\">7</th>\n",
       "  <th class=\"gt_col_heading gt_columns_bottom_border gt_right\" rowspan=\"1\" colspan=\"1\" scope=\"col\" id=\"8\">8</th>\n",
       "  <th class=\"gt_col_heading gt_columns_bottom_border gt_right\" rowspan=\"1\" colspan=\"1\" scope=\"col\" id=\"9\">9</th>\n",
       "  <th class=\"gt_col_heading gt_columns_bottom_border gt_right\" rowspan=\"1\" colspan=\"1\" scope=\"col\" id=\"10\">10</th>\n",
       "  <th class=\"gt_col_heading gt_columns_bottom_border gt_right\" rowspan=\"1\" colspan=\"1\" scope=\"col\" id=\"11\">11</th>\n",
       "  <th class=\"gt_col_heading gt_columns_bottom_border gt_right\" rowspan=\"1\" colspan=\"1\" scope=\"col\" id=\"12\">12</th>\n",
       "</tr>\n",
       "</thead>\n",
       "<tbody class=\"gt_table_body\">\n",
       "  <tr>\n",
       "    <th class=\"gt_row gt_left gt_stub\">0</th>\n",
       "    <td class=\"gt_row gt_right\">0</td>\n",
       "    <td class=\"gt_row gt_right\">1,473</td>\n",
       "    <td class=\"gt_row gt_right\">3,028</td>\n",
       "    <td class=\"gt_row gt_right\">4,762</td>\n",
       "    <td class=\"gt_row gt_right\">6,599</td>\n",
       "    <td class=\"gt_row gt_right\">8,668</td>\n",
       "    <td class=\"gt_row gt_right\">10,776</td>\n",
       "    <td class=\"gt_row gt_right\">12,727</td>\n",
       "    <td class=\"gt_row gt_right\">14,689</td>\n",
       "    <td class=\"gt_row gt_right\">16,807</td>\n",
       "    <td class=\"gt_row gt_right\">18,898</td>\n",
       "    <td class=\"gt_row gt_right\">20,872</td>\n",
       "  </tr>\n",
       "  <tr>\n",
       "    <th class=\"gt_row gt_left gt_stub\">1</th>\n",
       "    <td class=\"gt_row gt_right gt_striped\">771</td>\n",
       "    <td class=\"gt_row gt_right gt_striped\">847</td>\n",
       "    <td class=\"gt_row gt_right gt_striped\">973</td>\n",
       "    <td class=\"gt_row gt_right gt_striped\">1,061</td>\n",
       "    <td class=\"gt_row gt_right gt_striped\">1,216</td>\n",
       "    <td class=\"gt_row gt_right gt_striped\">1,273</td>\n",
       "    <td class=\"gt_row gt_right gt_striped\">1,227</td>\n",
       "    <td class=\"gt_row gt_right gt_striped\">1,264</td>\n",
       "    <td class=\"gt_row gt_right gt_striped\">1,375</td>\n",
       "    <td class=\"gt_row gt_right gt_striped\">1,394</td>\n",
       "    <td class=\"gt_row gt_right gt_striped\">1,363</td>\n",
       "    <td class=\"gt_row gt_right gt_striped\">1,269</td>\n",
       "  </tr>\n",
       "  <tr>\n",
       "    <th class=\"gt_row gt_left gt_stub\">2</th>\n",
       "    <td class=\"gt_row gt_right\">367</td>\n",
       "    <td class=\"gt_row gt_right\">405</td>\n",
       "    <td class=\"gt_row gt_right\">467</td>\n",
       "    <td class=\"gt_row gt_right\">511</td>\n",
       "    <td class=\"gt_row gt_right\">586</td>\n",
       "    <td class=\"gt_row gt_right\">615</td>\n",
       "    <td class=\"gt_row gt_right\">595</td>\n",
       "    <td class=\"gt_row gt_right\">614</td>\n",
       "    <td class=\"gt_row gt_right\">669</td>\n",
       "    <td class=\"gt_row gt_right\">679</td>\n",
       "    <td class=\"gt_row gt_right\">666</td>\n",
       "    <td class=\"gt_row gt_right\">622</td>\n",
       "  </tr>\n",
       "  <tr>\n",
       "    <th class=\"gt_row gt_left gt_stub\">3</th>\n",
       "    <td class=\"gt_row gt_right gt_striped\">186</td>\n",
       "    <td class=\"gt_row gt_right gt_striped\">207</td>\n",
       "    <td class=\"gt_row gt_right gt_striped\">239</td>\n",
       "    <td class=\"gt_row gt_right gt_striped\">263</td>\n",
       "    <td class=\"gt_row gt_right gt_striped\">302</td>\n",
       "    <td class=\"gt_row gt_right gt_striped\">318</td>\n",
       "    <td class=\"gt_row gt_right gt_striped\">309</td>\n",
       "    <td class=\"gt_row gt_right gt_striped\">319</td>\n",
       "    <td class=\"gt_row gt_right gt_striped\">348</td>\n",
       "    <td class=\"gt_row gt_right gt_striped\">354</td>\n",
       "    <td class=\"gt_row gt_right gt_striped\">348</td>\n",
       "    <td class=\"gt_row gt_right gt_striped\">326</td>\n",
       "  </tr>\n",
       "  <tr>\n",
       "    <th class=\"gt_row gt_left gt_stub\">4</th>\n",
       "    <td class=\"gt_row gt_right\">100</td>\n",
       "    <td class=\"gt_row gt_right\">112</td>\n",
       "    <td class=\"gt_row gt_right\">130</td>\n",
       "    <td class=\"gt_row gt_right\">143</td>\n",
       "    <td class=\"gt_row gt_right\">164</td>\n",
       "    <td class=\"gt_row gt_right\">174</td>\n",
       "    <td class=\"gt_row gt_right\">169</td>\n",
       "    <td class=\"gt_row gt_right\">175</td>\n",
       "    <td class=\"gt_row gt_right\">191</td>\n",
       "    <td class=\"gt_row gt_right\">195</td>\n",
       "    <td class=\"gt_row gt_right\">192</td>\n",
       "    <td class=\"gt_row gt_right\">181</td>\n",
       "  </tr>\n",
       "  <tr>\n",
       "    <th class=\"gt_row gt_left gt_stub\">5</th>\n",
       "    <td class=\"gt_row gt_right gt_striped\">56</td>\n",
       "    <td class=\"gt_row gt_right gt_striped\">63</td>\n",
       "    <td class=\"gt_row gt_right gt_striped\">74</td>\n",
       "    <td class=\"gt_row gt_right gt_striped\">81</td>\n",
       "    <td class=\"gt_row gt_right gt_striped\">94</td>\n",
       "    <td class=\"gt_row gt_right gt_striped\">99</td>\n",
       "    <td class=\"gt_row gt_right gt_striped\">97</td>\n",
       "    <td class=\"gt_row gt_right gt_striped\">101</td>\n",
       "    <td class=\"gt_row gt_right gt_striped\">110</td>\n",
       "    <td class=\"gt_row gt_right gt_striped\">112</td>\n",
       "    <td class=\"gt_row gt_right gt_striped\">111</td>\n",
       "    <td class=\"gt_row gt_right gt_striped\">105</td>\n",
       "  </tr>\n",
       "  <tr>\n",
       "    <th class=\"gt_row gt_left gt_stub\">6</th>\n",
       "    <td class=\"gt_row gt_right\">33</td>\n",
       "    <td class=\"gt_row gt_right\">37</td>\n",
       "    <td class=\"gt_row gt_right\">43</td>\n",
       "    <td class=\"gt_row gt_right\">48</td>\n",
       "    <td class=\"gt_row gt_right\">56</td>\n",
       "    <td class=\"gt_row gt_right\">59</td>\n",
       "    <td class=\"gt_row gt_right\">58</td>\n",
       "    <td class=\"gt_row gt_right\">60</td>\n",
       "    <td class=\"gt_row gt_right\">66</td>\n",
       "    <td class=\"gt_row gt_right\">67</td>\n",
       "    <td class=\"gt_row gt_right\">67</td>\n",
       "    <td class=\"gt_row gt_right\">64</td>\n",
       "  </tr>\n",
       "  <tr>\n",
       "    <th class=\"gt_row gt_left gt_stub\">7</th>\n",
       "    <td class=\"gt_row gt_right gt_striped\">20</td>\n",
       "    <td class=\"gt_row gt_right gt_striped\">22</td>\n",
       "    <td class=\"gt_row gt_right gt_striped\">26</td>\n",
       "    <td class=\"gt_row gt_right gt_striped\">29</td>\n",
       "    <td class=\"gt_row gt_right gt_striped\">34</td>\n",
       "    <td class=\"gt_row gt_right gt_striped\">36</td>\n",
       "    <td class=\"gt_row gt_right gt_striped\">36</td>\n",
       "    <td class=\"gt_row gt_right gt_striped\">37</td>\n",
       "    <td class=\"gt_row gt_right gt_striped\">41</td>\n",
       "    <td class=\"gt_row gt_right gt_striped\">42</td>\n",
       "    <td class=\"gt_row gt_right gt_striped\">42</td>\n",
       "    <td class=\"gt_row gt_right gt_striped\">40</td>\n",
       "  </tr>\n",
       "  <tr>\n",
       "    <th class=\"gt_row gt_left gt_stub\">8</th>\n",
       "    <td class=\"gt_row gt_right\">12</td>\n",
       "    <td class=\"gt_row gt_right\">14</td>\n",
       "    <td class=\"gt_row gt_right\">16</td>\n",
       "    <td class=\"gt_row gt_right\">18</td>\n",
       "    <td class=\"gt_row gt_right\">21</td>\n",
       "    <td class=\"gt_row gt_right\">23</td>\n",
       "    <td class=\"gt_row gt_right\">23</td>\n",
       "    <td class=\"gt_row gt_right\">24</td>\n",
       "    <td class=\"gt_row gt_right\">26</td>\n",
       "    <td class=\"gt_row gt_right\">27</td>\n",
       "    <td class=\"gt_row gt_right\">27</td>\n",
       "    <td class=\"gt_row gt_right\">26</td>\n",
       "  </tr>\n",
       "  <tr>\n",
       "    <th class=\"gt_row gt_left gt_stub\">9</th>\n",
       "    <td class=\"gt_row gt_right gt_striped\">8</td>\n",
       "    <td class=\"gt_row gt_right gt_striped\">9</td>\n",
       "    <td class=\"gt_row gt_right gt_striped\">11</td>\n",
       "    <td class=\"gt_row gt_right gt_striped\">12</td>\n",
       "    <td class=\"gt_row gt_right gt_striped\">14</td>\n",
       "    <td class=\"gt_row gt_right gt_striped\">15</td>\n",
       "    <td class=\"gt_row gt_right gt_striped\">15</td>\n",
       "    <td class=\"gt_row gt_right gt_striped\">15</td>\n",
       "    <td class=\"gt_row gt_right gt_striped\">17</td>\n",
       "    <td class=\"gt_row gt_right gt_striped\">18</td>\n",
       "    <td class=\"gt_row gt_right gt_striped\">18</td>\n",
       "    <td class=\"gt_row gt_right gt_striped\">17</td>\n",
       "  </tr>\n",
       "  <tr>\n",
       "    <th class=\"gt_row gt_left gt_stub\">10</th>\n",
       "    <td class=\"gt_row gt_right\">17</td>\n",
       "    <td class=\"gt_row gt_right\">21</td>\n",
       "    <td class=\"gt_row gt_right\">25</td>\n",
       "    <td class=\"gt_row gt_right\">28</td>\n",
       "    <td class=\"gt_row gt_right\">33</td>\n",
       "    <td class=\"gt_row gt_right\">36</td>\n",
       "    <td class=\"gt_row gt_right\">37</td>\n",
       "    <td class=\"gt_row gt_right\">39</td>\n",
       "    <td class=\"gt_row gt_right\">42</td>\n",
       "    <td class=\"gt_row gt_right\">44</td>\n",
       "    <td class=\"gt_row gt_right\">45</td>\n",
       "    <td class=\"gt_row gt_right\">43</td>\n",
       "  </tr>\n",
       "</tbody>\n",
       "\n",
       "\n",
       "</table>\n",
       "\n",
       "</div>\n",
       "        "
      ],
      "text/plain": [
       "GT(_tbl_data=shape: (11, 13)\n",
       "┌───────┬─────┬──────┬──────┬───┬───────┬───────┬───────┬───────┐\n",
       "│ Quant ┆ 1   ┆ 2    ┆ 3    ┆ … ┆ 9     ┆ 10    ┆ 11    ┆ 12    │\n",
       "│ ---   ┆ --- ┆ ---  ┆ ---  ┆   ┆ ---   ┆ ---   ┆ ---   ┆ ---   │\n",
       "│ i32   ┆ i32 ┆ i32  ┆ i32  ┆   ┆ i32   ┆ i32   ┆ i32   ┆ i32   │\n",
       "╞═══════╪═════╪══════╪══════╪═══╪═══════╪═══════╪═══════╪═══════╡\n",
       "│ 0     ┆ 0   ┆ 1473 ┆ 3028 ┆ … ┆ 14689 ┆ 16807 ┆ 18898 ┆ 20872 │\n",
       "│ 1     ┆ 771 ┆ 847  ┆ 973  ┆ … ┆ 1375  ┆ 1394  ┆ 1363  ┆ 1269  │\n",
       "│ 2     ┆ 367 ┆ 405  ┆ 467  ┆ … ┆ 669   ┆ 679   ┆ 666   ┆ 622   │\n",
       "│ 3     ┆ 186 ┆ 207  ┆ 239  ┆ … ┆ 348   ┆ 354   ┆ 348   ┆ 326   │\n",
       "│ 4     ┆ 100 ┆ 112  ┆ 130  ┆ … ┆ 191   ┆ 195   ┆ 192   ┆ 181   │\n",
       "│ …     ┆ …   ┆ …    ┆ …    ┆ … ┆ …     ┆ …     ┆ …     ┆ …     │\n",
       "│ 6     ┆ 33  ┆ 37   ┆ 43   ┆ … ┆ 66    ┆ 67    ┆ 67    ┆ 64    │\n",
       "│ 7     ┆ 20  ┆ 22   ┆ 26   ┆ … ┆ 41    ┆ 42    ┆ 42    ┆ 40    │\n",
       "│ 8     ┆ 12  ┆ 14   ┆ 16   ┆ … ┆ 26    ┆ 27    ┆ 27    ┆ 26    │\n",
       "│ 9     ┆ 8   ┆ 9    ┆ 11   ┆ … ┆ 17    ┆ 18    ┆ 18    ┆ 17    │\n",
       "│ 10    ┆ 17  ┆ 21   ┆ 25   ┆ … ┆ 42    ┆ 44    ┆ 45    ┆ 43    │\n",
       "└───────┴─────┴──────┴──────┴───┴───────┴───────┴───────┴───────┘, _body=<great_tables._gt_data.Body object at 0x1460ce3f0>, _boxhead=Boxhead([ColInfo(var='Quant', type=<ColInfoTypeEnum.stub: 2>, column_label='Quant', column_align='right', column_width=None), ColInfo(var='1', type=<ColInfoTypeEnum.default: 1>, column_label='1', column_align='right', column_width=None), ColInfo(var='2', type=<ColInfoTypeEnum.default: 1>, column_label='2', column_align='right', column_width=None), ColInfo(var='3', type=<ColInfoTypeEnum.default: 1>, column_label='3', column_align='right', column_width=None), ColInfo(var='4', type=<ColInfoTypeEnum.default: 1>, column_label='4', column_align='right', column_width=None), ColInfo(var='5', type=<ColInfoTypeEnum.default: 1>, column_label='5', column_align='right', column_width=None), ColInfo(var='6', type=<ColInfoTypeEnum.default: 1>, column_label='6', column_align='right', column_width=None), ColInfo(var='7', type=<ColInfoTypeEnum.default: 1>, column_label='7', column_align='right', column_width=None), ColInfo(var='8', type=<ColInfoTypeEnum.default: 1>, column_label='8', column_align='right', column_width=None), ColInfo(var='9', type=<ColInfoTypeEnum.default: 1>, column_label='9', column_align='right', column_width=None), ColInfo(var='10', type=<ColInfoTypeEnum.default: 1>, column_label='10', column_align='right', column_width=None), ColInfo(var='11', type=<ColInfoTypeEnum.default: 1>, column_label='11', column_align='right', column_width=None), ColInfo(var='12', type=<ColInfoTypeEnum.default: 1>, column_label='12', column_align='right', column_width=None)]), _stub=<great_tables._gt_data.Stub object at 0x1460ba490>, _spanners=Spanners([SpannerInfo(spanner_id='Week', spanner_level=0, spanner_label='Week', spanner_units=None, spanner_pattern=None, vars=['1', '2', '3', '4', '5', '6', '7', '8', '9', '10', '11', '12'], built=None)]), _heading=Heading(title='Estimated Distribution of the Number of CDNOW Units Purchased', subtitle='First 12 Weeks', preheader=None), _stubhead='Units Purchased', _source_notes=[], _footnotes=[], _styles=[], _locale=<great_tables._gt_data.Locale object at 0x1460ba990>, _formats=[<great_tables._gt_data.FormatInfo object at 0x1460baad0>], _substitutions=[], _options=Options(table_id=OptionsInfo(scss=False, category='table', type='value', value=None), table_caption=OptionsInfo(scss=False, category='table', type='value', value=None), table_width=OptionsInfo(scss=True, category='table', type='px', value='auto'), table_layout=OptionsInfo(scss=True, category='table', type='value', value='fixed'), table_margin_left=OptionsInfo(scss=True, category='table', type='px', value='auto'), table_margin_right=OptionsInfo(scss=True, category='table', type='px', value='auto'), table_background_color=OptionsInfo(scss=True, category='table', type='value', value='#FFFFFF'), table_additional_css=OptionsInfo(scss=False, category='table', type='values', value=[]), table_font_names=OptionsInfo(scss=False, category='table', type='values', value=['-apple-system', 'BlinkMacSystemFont', 'Segoe UI', 'Roboto', 'Oxygen', 'Ubuntu', 'Cantarell', 'Helvetica Neue', 'Fira Sans', 'Droid Sans', 'Arial', 'sans-serif']), table_font_size=OptionsInfo(scss=True, category='table', type='px', value='16px'), table_font_weight=OptionsInfo(scss=True, category='table', type='value', value='normal'), table_font_style=OptionsInfo(scss=True, category='table', type='value', value='normal'), table_font_color=OptionsInfo(scss=True, category='table', type='value', value='#333333'), table_font_color_light=OptionsInfo(scss=True, category='table', type='value', value='#FFFFFF'), table_border_top_include=OptionsInfo(scss=False, category='table', type='boolean', value=True), table_border_top_style=OptionsInfo(scss=True, category='table', type='value', value='solid'), table_border_top_width=OptionsInfo(scss=True, category='table', type='px', value='2px'), table_border_top_color=OptionsInfo(scss=True, category='table', type='value', value='#004D80'), table_border_right_style=OptionsInfo(scss=True, category='table', type='value', value='none'), table_border_right_width=OptionsInfo(scss=True, category='table', type='px', value='2px'), table_border_right_color=OptionsInfo(scss=True, category='table', type='value', value='#D3D3D3'), table_border_bottom_include=OptionsInfo(scss=False, category='table', type='boolean', value=True), table_border_bottom_style=OptionsInfo(scss=True, category='table', type='value', value='solid'), table_border_bottom_width=OptionsInfo(scss=True, category='table', type='px', value='2px'), table_border_bottom_color=OptionsInfo(scss=True, category='table', type='value', value='#004D80'), table_border_left_style=OptionsInfo(scss=True, category='table', type='value', value='none'), table_border_left_width=OptionsInfo(scss=True, category='table', type='px', value='2px'), table_border_left_color=OptionsInfo(scss=True, category='table', type='value', value='#D3D3D3'), heading_background_color=OptionsInfo(scss=True, category='heading', type='value', value=None), heading_align=OptionsInfo(scss=True, category='heading', type='value', value='center'), heading_title_font_size=OptionsInfo(scss=True, category='heading', type='px', value='125%'), heading_title_font_weight=OptionsInfo(scss=True, category='heading', type='value', value='initial'), heading_subtitle_font_size=OptionsInfo(scss=True, category='heading', type='px', value='85%'), heading_subtitle_font_weight=OptionsInfo(scss=True, category='heading', type='value', value='initial'), heading_padding=OptionsInfo(scss=True, category='heading', type='px', value='4px'), heading_padding_horizontal=OptionsInfo(scss=True, category='heading', type='px', value='5px'), heading_border_bottom_style=OptionsInfo(scss=True, category='heading', type='value', value='solid'), heading_border_bottom_width=OptionsInfo(scss=True, category='heading', type='px', value='2px'), heading_border_bottom_color=OptionsInfo(scss=True, category='heading', type='value', value='#0076BA'), heading_border_lr_style=OptionsInfo(scss=True, category='heading', type='value', value='none'), heading_border_lr_width=OptionsInfo(scss=True, category='heading', type='px', value='1px'), heading_border_lr_color=OptionsInfo(scss=True, category='heading', type='value', value='#D3D3D3'), column_labels_background_color=OptionsInfo(scss=True, category='column_labels', type='value', value='#FFFFFF'), column_labels_font_size=OptionsInfo(scss=True, category='column_labels', type='px', value='100%'), column_labels_font_weight=OptionsInfo(scss=True, category='column_labels', type='value', value='normal'), column_labels_text_transform=OptionsInfo(scss=True, category='column_labels', type='value', value='inherit'), column_labels_padding=OptionsInfo(scss=True, category='column_labels', type='px', value='5px'), column_labels_padding_horizontal=OptionsInfo(scss=True, category='column_labels', type='px', value='5px'), column_labels_vlines_style=OptionsInfo(scss=True, category='table_body', type='value', value='none'), column_labels_vlines_width=OptionsInfo(scss=True, category='table_body', type='px', value='1px'), column_labels_vlines_color=OptionsInfo(scss=True, category='table_body', type='value', value='#D3D3D3'), column_labels_border_top_style=OptionsInfo(scss=True, category='column_labels', type='value', value='solid'), column_labels_border_top_width=OptionsInfo(scss=True, category='column_labels', type='px', value='2px'), column_labels_border_top_color=OptionsInfo(scss=True, category='column_labels', type='value', value='#0076BA'), column_labels_border_bottom_style=OptionsInfo(scss=True, category='column_labels', type='value', value='solid'), column_labels_border_bottom_width=OptionsInfo(scss=True, category='column_labels', type='px', value='2px'), column_labels_border_bottom_color=OptionsInfo(scss=True, category='column_labels', type='value', value='#0076BA'), column_labels_border_lr_style=OptionsInfo(scss=True, category='column_labels', type='value', value='none'), column_labels_border_lr_width=OptionsInfo(scss=True, category='column_labels', type='px', value='1px'), column_labels_border_lr_color=OptionsInfo(scss=True, category='column_labels', type='value', value='#D3D3D3'), column_labels_hidden=OptionsInfo(scss=False, category='column_labels', type='boolean', value=False), row_group_background_color=OptionsInfo(scss=True, category='row_group', type='value', value=None), row_group_font_size=OptionsInfo(scss=True, category='row_group', type='px', value='100%'), row_group_font_weight=OptionsInfo(scss=True, category='row_group', type='value', value='initial'), row_group_text_transform=OptionsInfo(scss=True, category='row_group', type='value', value='inherit'), row_group_padding=OptionsInfo(scss=True, category='row_group', type='px', value='8px'), row_group_padding_horizontal=OptionsInfo(scss=True, category='row_group', type='px', value='5px'), row_group_border_top_style=OptionsInfo(scss=True, category='row_group', type='value', value='solid'), row_group_border_top_width=OptionsInfo(scss=True, category='row_group', type='px', value='2px'), row_group_border_top_color=OptionsInfo(scss=True, category='row_group', type='value', value='#0076BA'), row_group_border_right_style=OptionsInfo(scss=True, category='row_group', type='value', value='none'), row_group_border_right_width=OptionsInfo(scss=True, category='row_group', type='px', value='1px'), row_group_border_right_color=OptionsInfo(scss=True, category='row_group', type='value', value='#D3D3D3'), row_group_border_bottom_style=OptionsInfo(scss=True, category='row_group', type='value', value='solid'), row_group_border_bottom_width=OptionsInfo(scss=True, category='row_group', type='px', value='2px'), row_group_border_bottom_color=OptionsInfo(scss=True, category='row_group', type='value', value='#0076BA'), row_group_border_left_style=OptionsInfo(scss=True, category='row_group', type='value', value='none'), row_group_border_left_width=OptionsInfo(scss=True, category='row_group', type='px', value='1px'), row_group_border_left_color=OptionsInfo(scss=True, category='row_group', type='value', value='#D3D3D3'), row_group_as_column=OptionsInfo(scss=False, category='row_group', type='boolean', value=False), table_body_hlines_style=OptionsInfo(scss=True, category='table_body', type='value', value='none'), table_body_hlines_width=OptionsInfo(scss=True, category='table_body', type='px', value='1px'), table_body_hlines_color=OptionsInfo(scss=True, category='table_body', type='value', value='#89D3FE'), table_body_vlines_style=OptionsInfo(scss=True, category='table_body', type='value', value='none'), table_body_vlines_width=OptionsInfo(scss=True, category='table_body', type='px', value='1px'), table_body_vlines_color=OptionsInfo(scss=True, category='table_body', type='value', value='#89D3FE'), table_body_border_top_style=OptionsInfo(scss=True, category='table_body', type='value', value='solid'), table_body_border_top_width=OptionsInfo(scss=True, category='table_body', type='px', value='2px'), table_body_border_top_color=OptionsInfo(scss=True, category='table_body', type='value', value='#0076BA'), table_body_border_bottom_style=OptionsInfo(scss=True, category='table_body', type='value', value='solid'), table_body_border_bottom_width=OptionsInfo(scss=True, category='table_body', type='px', value='2px'), table_body_border_bottom_color=OptionsInfo(scss=True, category='table_body', type='value', value='#0076BA'), data_row_padding=OptionsInfo(scss=True, category='data_row', type='px', value='8px'), data_row_padding_horizontal=OptionsInfo(scss=True, category='data_row', type='px', value='5px'), stub_background_color=OptionsInfo(scss=True, category='stub', type='value', value='#0076BA'), stub_font_size=OptionsInfo(scss=True, category='stub', type='px', value='100%'), stub_font_weight=OptionsInfo(scss=True, category='stub', type='value', value='initial'), stub_text_transform=OptionsInfo(scss=True, category='stub', type='value', value='inherit'), stub_border_style=OptionsInfo(scss=True, category='stub', type='value', value='solid'), stub_border_width=OptionsInfo(scss=True, category='stub', type='px', value='2px'), stub_border_color=OptionsInfo(scss=True, category='stub', type='value', value='#0076BA'), stub_row_group_background_color=OptionsInfo(scss=True, category='stub', type='value', value=None), stub_row_group_font_size=OptionsInfo(scss=True, category='stub', type='px', value='100%'), stub_row_group_font_weight=OptionsInfo(scss=True, category='stub', type='value', value='initial'), stub_row_group_text_transform=OptionsInfo(scss=True, category='stub', type='value', value='inherit'), stub_row_group_border_style=OptionsInfo(scss=True, category='stub', type='value', value='solid'), stub_row_group_border_width=OptionsInfo(scss=True, category='stub', type='px', value='2px'), stub_row_group_border_color=OptionsInfo(scss=True, category='stub', type='value', value='#D3D3D3'), source_notes_padding=OptionsInfo(scss=True, category='source_notes', type='px', value='4px'), source_notes_padding_horizontal=OptionsInfo(scss=True, category='source_notes', type='px', value='5px'), source_notes_background_color=OptionsInfo(scss=True, category='source_notes', type='value', value=None), source_notes_font_size=OptionsInfo(scss=True, category='source_notes', type='px', value='90%'), source_notes_border_bottom_style=OptionsInfo(scss=True, category='source_notes', type='value', value='none'), source_notes_border_bottom_width=OptionsInfo(scss=True, category='source_notes', type='px', value='2px'), source_notes_border_bottom_color=OptionsInfo(scss=True, category='source_notes', type='value', value='#D3D3D3'), source_notes_border_lr_style=OptionsInfo(scss=True, category='source_notes', type='value', value='none'), source_notes_border_lr_width=OptionsInfo(scss=True, category='source_notes', type='px', value='2px'), source_notes_border_lr_color=OptionsInfo(scss=True, category='source_notes', type='value', value='#D3D3D3'), source_notes_multiline=OptionsInfo(scss=False, category='source_notes', type='boolean', value=True), source_notes_sep=OptionsInfo(scss=False, category='source_notes', type='value', value=' '), row_striping_background_color=OptionsInfo(scss=True, category='row', type='value', value='#F4F4F4'), row_striping_include_stub=OptionsInfo(scss=False, category='row', type='boolean', value=False), row_striping_include_table_body=OptionsInfo(scss=False, category='row', type='boolean', value=['True']), container_width=OptionsInfo(scss=False, category='container', type='px', value='auto'), container_height=OptionsInfo(scss=False, category='container', type='px', value='auto'), container_padding_x=OptionsInfo(scss=False, category='container', type='px', value='0px'), container_padding_y=OptionsInfo(scss=False, category='container', type='px', value='10px'), container_overflow_x=OptionsInfo(scss=False, category='container', type='overflow', value='auto'), container_overflow_y=OptionsInfo(scss=False, category='container', type='overflow', value='auto'), quarto_disable_processing=OptionsInfo(scss=False, category='quarto', type='logical', value=False), quarto_use_bootstrap=OptionsInfo(scss=False, category='quarto', type='logical', value=False)), _has_built=False)"
      ]
     },
     "execution_count": 16,
     "metadata": {},
     "output_type": "execute_result"
    }
   ],
   "source": [
    "e_distTable = (\n",
    "    pl.DataFrame({'Quant': np.arange(11, dtype=np.int32)})\n",
    "    .hstack(pl.from_numpy(e_distMAT.astype(np.int32), schema=TableOne.columns[1:]))\n",
    ")\n",
    "\n",
    "(\n",
    "    GT(e_distTable, rowname_col='Quant')\n",
    "    .tab_header(title=\"Estimated Distribution of the Number of CDNOW Units Purchased\", subtitle='First 12 Weeks')\n",
    "    .tab_stubhead('Units Purchased')\n",
    "    .fmt_integer()\n",
    "    .tab_spanner(label='Week', columns=[str(i) for i in range(1, 13)])\n",
    "    .opt_stylize()\n",
    ")"
   ]
  },
  {
   "cell_type": "code",
   "execution_count": 17,
   "metadata": {},
   "outputs": [
    {
     "data": {
      "text/markdown": [
       "$\\chi^{2}$ = 129.2119\n",
       "\n",
       "Degrees of freedom = 113\n",
       "\n",
       "Critical Value = 138.8114"
      ]
     },
     "metadata": {},
     "output_type": "display_data"
    }
   ],
   "source": [
    "display_markdown(f'''$\\\\chi^{{2}}$ = {chi_square:0.4f}\n",
    "\n",
    "Degrees of freedom = {df}\n",
    "\n",
    "Critical Value = {critical_value:0.4f}''', raw=True)"
   ]
  },
  {
   "cell_type": "markdown",
   "metadata": {},
   "source": [
    "As the value of the sample test statistic is less than the critical value, we conclude that the model adequately fits the data."
   ]
  },
  {
   "cell_type": "markdown",
   "metadata": {},
   "source": [
    "Creating the Sales Forecast"
   ]
  },
  {
   "cell_type": "markdown",
   "metadata": {},
   "source": [
    "$$\n",
    "E(N_w) =\n",
    "\\begin{cases}\n",
    "n_w E(T_w) + \\sum_{i=1}^{w-1} n_i E(R_{w \\mid i}) & w \\leq 12 \\\\\n",
    "\\sum_{i=1}^{12} n_i E(R_{w\\mid i}) & w > 12\n",
    "\\end{cases}\n",
    "$$\n",
    "\n",
    "$$E(T_w) = \\frac{\\alpha_T + \\beta_T - 1}{\\alpha_T - 1}$$\n",
    "\n",
    "$$E(R_{w\\mid i}) = \\gamma (w - i)^\\delta \\frac{\\beta_R}{\\alpha_R - 1}$$"
   ]
  },
  {
   "cell_type": "code",
   "execution_count": 18,
   "metadata": {},
   "outputs": [],
   "source": [
    "full_weeks = np.arange(52) + 1\n",
    "\n",
    "# expected number of units purchased in weeks 1–52 by any given week 1 trier \n",
    "week_1_triers = np.zeros(full_weeks.shape[0])\n",
    "week_1_triers[0] = (alpha_T + beta_T - 1)/(alpha_T - 1) # expected number of units purchased in the trial week    \n",
    "week_1_triers[1:] = gamma * (full_weeks[1:] - 1)**delta * beta_R / (alpha_R - 1) # expected repeat sales, number of units purchased w−i weeks after trial\n",
    "\n",
    "# mean weekly unit purchases for any week i trier\n",
    "# expected total number of units sold in any given week is\n",
    "mean_weekly_unit_purchases = toeplitz(week_1_triers, r=np.zeros(trial_weeks.shape[0]))\n",
    "\n",
    "# estimate of weekly unit sales - expected total number of units sold in weeks 1–52\n",
    "e_weekly_sales = np.sum(incr_triers * mean_weekly_unit_purchases, axis=1)"
   ]
  },
  {
   "cell_type": "code",
   "execution_count": 19,
   "metadata": {},
   "outputs": [],
   "source": [
    "# Without SciPy's Toeplitz Constructor\n",
    "rows = full_weeks.shape[0]\n",
    "cols = trial_weeks.shape[0]\n",
    "\n",
    "mean_weekly_unit_purchases = np.zeros((rows, cols))\n",
    "\n",
    "row_indices = np.arange(rows)[:, None]\n",
    "col_indices = np.arange(cols)[None, :]\n",
    "lag_mask = row_indices >= col_indices\n",
    "\n",
    "mean_weekly_unit_purchases[lag_mask] = week_1_triers[(row_indices - col_indices)[lag_mask]]\n",
    "e_weekly_sales = np.sum(incr_triers * mean_weekly_unit_purchases, axis=1)"
   ]
  },
  {
   "cell_type": "code",
   "execution_count": 20,
   "metadata": {},
   "outputs": [
    {
     "data": {
      "application/vnd.vegalite.v5+json": {
       "$schema": "https://vega.github.io/schema/vega-lite/v5.20.1.json",
       "config": {
        "axisX": {
         "grid": false
        },
        "axisY": {
         "grid": false
        },
        "view": {
         "continuousHeight": 300,
         "continuousWidth": 300,
         "stroke": null
        }
       },
       "datasets": {
        "data-1b1a69d25392ff50073fe6b520106f43": [
         {
          "Actual Sales": "Total Sales",
          "Sales": 3627,
          "Week": 1
         },
         {
          "Actual Sales": "Total Sales",
          "Sales": 3857,
          "Week": 2
         },
         {
          "Actual Sales": "Total Sales",
          "Sales": 4512,
          "Week": 3
         },
         {
          "Actual Sales": "Total Sales",
          "Sales": 5054,
          "Week": 4
         },
         {
          "Actual Sales": "Total Sales",
          "Sales": 5843,
          "Week": 5
         },
         {
          "Actual Sales": "Total Sales",
          "Sales": 6456,
          "Week": 6
         },
         {
          "Actual Sales": "Total Sales",
          "Sales": 5906,
          "Week": 7
         },
         {
          "Actual Sales": "Total Sales",
          "Sales": 6077,
          "Week": 8
         },
         {
          "Actual Sales": "Total Sales",
          "Sales": 6757,
          "Week": 9
         },
         {
          "Actual Sales": "Total Sales",
          "Sales": 6848,
          "Week": 10
         },
         {
          "Actual Sales": "Total Sales",
          "Sales": 6770,
          "Week": 11
         },
         {
          "Actual Sales": "Total Sales",
          "Sales": 6781,
          "Week": 12
         },
         {
          "Actual Sales": "Trial Sales",
          "Sales": 3627,
          "Week": 1
         },
         {
          "Actual Sales": "Trial Sales",
          "Sales": 3630,
          "Week": 2
         },
         {
          "Actual Sales": "Trial Sales",
          "Sales": 4015,
          "Week": 3
         },
         {
          "Actual Sales": "Trial Sales",
          "Sales": 4347,
          "Week": 4
         },
         {
          "Actual Sales": "Trial Sales",
          "Sales": 4867,
          "Week": 5
         },
         {
          "Actual Sales": "Trial Sales",
          "Sales": 5019,
          "Week": 6
         },
         {
          "Actual Sales": "Trial Sales",
          "Sales": 4457,
          "Week": 7
         },
         {
          "Actual Sales": "Trial Sales",
          "Sales": 4501,
          "Week": 8
         },
         {
          "Actual Sales": "Trial Sales",
          "Sales": 4896,
          "Week": 9
         },
         {
          "Actual Sales": "Trial Sales",
          "Sales": 4795,
          "Week": 10
         },
         {
          "Actual Sales": "Trial Sales",
          "Sales": 4450,
          "Week": 11
         },
         {
          "Actual Sales": "Trial Sales",
          "Sales": 4261,
          "Week": 12
         },
         {
          "Actual Sales": "Repeat Sales",
          "Sales": 0,
          "Week": 1
         },
         {
          "Actual Sales": "Repeat Sales",
          "Sales": 227,
          "Week": 2
         },
         {
          "Actual Sales": "Repeat Sales",
          "Sales": 497,
          "Week": 3
         },
         {
          "Actual Sales": "Repeat Sales",
          "Sales": 707,
          "Week": 4
         },
         {
          "Actual Sales": "Repeat Sales",
          "Sales": 976,
          "Week": 5
         },
         {
          "Actual Sales": "Repeat Sales",
          "Sales": 1437,
          "Week": 6
         },
         {
          "Actual Sales": "Repeat Sales",
          "Sales": 1449,
          "Week": 7
         },
         {
          "Actual Sales": "Repeat Sales",
          "Sales": 1576,
          "Week": 8
         },
         {
          "Actual Sales": "Repeat Sales",
          "Sales": 1861,
          "Week": 9
         },
         {
          "Actual Sales": "Repeat Sales",
          "Sales": 2053,
          "Week": 10
         },
         {
          "Actual Sales": "Repeat Sales",
          "Sales": 2320,
          "Week": 11
         },
         {
          "Actual Sales": "Repeat Sales",
          "Sales": 2520,
          "Week": 12
         }
        ],
        "data-dea744d1ebbf6ccd26e12cba07126bf5": [
         {
          "Estimated Sales": "Total Sales",
          "Sales": 3490.5972323451165,
          "Week": 1
         },
         {
          "Estimated Sales": "Total Sales",
          "Sales": 3907.3501147900897,
          "Week": 2
         },
         {
          "Estimated Sales": "Total Sales",
          "Sales": 4535.355906386872,
          "Week": 3
         },
         {
          "Estimated Sales": "Total Sales",
          "Sales": 4994.491111910717,
          "Week": 4
         },
         {
          "Estimated Sales": "Total Sales",
          "Sales": 5754.771136180824,
          "Week": 5
         },
         {
          "Estimated Sales": "Total Sales",
          "Sales": 6078.782995175767,
          "Week": 6
         },
         {
          "Estimated Sales": "Total Sales",
          "Sales": 5931.686866007069,
          "Week": 7
         },
         {
          "Estimated Sales": "Total Sales",
          "Sales": 6146.896945766235,
          "Week": 8
         },
         {
          "Estimated Sales": "Total Sales",
          "Sales": 6700.022132262882,
          "Week": 9
         },
         {
          "Estimated Sales": "Total Sales",
          "Sales": 6837.807949762233,
          "Week": 10
         },
         {
          "Estimated Sales": "Total Sales",
          "Sales": 6748.723725200409,
          "Week": 11
         },
         {
          "Estimated Sales": "Total Sales",
          "Sales": 6365.443337755593,
          "Week": 12
         },
         {
          "Estimated Sales": "Trial Sales",
          "Sales": 3490.5972323451165,
          "Week": 1
         },
         {
          "Estimated Sales": "Trial Sales",
          "Sales": 3641.398129295223,
          "Week": 2
         },
         {
          "Estimated Sales": "Trial Sales",
          "Sales": 4040.5769741631525,
          "Week": 3
         },
         {
          "Estimated Sales": "Trial Sales",
          "Sales": 4266.778319588312,
          "Week": 4
         },
         {
          "Estimated Sales": "Trial Sales",
          "Sales": 4799.016779412218,
          "Week": 5
         },
         {
          "Estimated Sales": "Trial Sales",
          "Sales": 4872.199567638006,
          "Week": 6
         },
         {
          "Estimated Sales": "Trial Sales",
          "Sales": 4488.54434451494,
          "Week": 7
         },
         {
          "Estimated Sales": "Trial Sales",
          "Sales": 4510.720947007603,
          "Week": 8
         },
         {
          "Estimated Sales": "Trial Sales",
          "Sales": 4874.417227887272,
          "Week": 9
         },
         {
          "Estimated Sales": "Trial Sales",
          "Sales": 4801.234439661484,
          "Week": 10
         },
         {
          "Estimated Sales": "Trial Sales",
          "Sales": 4517.373927755401,
          "Week": 11
         },
         {
          "Estimated Sales": "Trial Sales",
          "Sales": 3967.3941859373654,
          "Week": 12
         },
         {
          "Estimated Sales": "Repeat Sales",
          "Sales": 0,
          "Week": 1
         },
         {
          "Estimated Sales": "Repeat Sales",
          "Sales": 265.9519854948667,
          "Week": 2
         },
         {
          "Estimated Sales": "Repeat Sales",
          "Sales": 494.77893222371995,
          "Week": 3
         },
         {
          "Estimated Sales": "Repeat Sales",
          "Sales": 727.7127923224052,
          "Week": 4
         },
         {
          "Estimated Sales": "Repeat Sales",
          "Sales": 955.7543567686062,
          "Week": 5
         },
         {
          "Estimated Sales": "Repeat Sales",
          "Sales": 1206.583427537761,
          "Week": 6
         },
         {
          "Estimated Sales": "Repeat Sales",
          "Sales": 1443.1425214921283,
          "Week": 7
         },
         {
          "Estimated Sales": "Repeat Sales",
          "Sales": 1636.175998758632,
          "Week": 8
         },
         {
          "Estimated Sales": "Repeat Sales",
          "Sales": 1825.6049043756102,
          "Week": 9
         },
         {
          "Estimated Sales": "Repeat Sales",
          "Sales": 2036.5735101007485,
          "Week": 10
         },
         {
          "Estimated Sales": "Repeat Sales",
          "Sales": 2231.3497974450074,
          "Week": 11
         },
         {
          "Estimated Sales": "Repeat Sales",
          "Sales": 2398.049151818228,
          "Week": 12
         }
        ]
       },
       "height": 250,
       "layer": [
        {
         "data": {
          "name": "data-dea744d1ebbf6ccd26e12cba07126bf5"
         },
         "encoding": {
          "color": {
           "field": "Estimated Sales",
           "type": "nominal"
          },
          "x": {
           "axis": {
            "labelExpr": "datum.value",
            "title": "Week",
            "values": [
             0,
             4,
             8,
             12
            ]
           },
           "field": "Week",
           "scale": {
            "domain": [
             0,
             12
            ]
           },
           "type": "quantitative"
          },
          "y": {
           "field": "Sales",
           "scale": {},
           "title": "Units Purchased",
           "type": "quantitative"
          }
         },
         "mark": {
          "strokeDash": [
           4,
           4
          ],
          "strokeWidth": 2,
          "type": "line"
         }
        },
        {
         "data": {
          "name": "data-1b1a69d25392ff50073fe6b520106f43"
         },
         "encoding": {
          "color": {
           "field": "Actual Sales",
           "type": "nominal"
          },
          "x": {
           "axis": {
            "labelExpr": "datum.value",
            "title": "Week",
            "values": [
             0,
             4,
             8,
             12
            ]
           },
           "field": "Week",
           "scale": {
            "domain": [
             0,
             12
            ]
           },
           "type": "quantitative"
          },
          "y": {
           "field": "Sales",
           "scale": {},
           "title": "Units Purchased",
           "type": "quantitative"
          }
         },
         "mark": {
          "strokeDash": [
           1,
           0
          ],
          "strokeWidth": 2,
          "type": "line"
         }
        }
       ],
       "title": "Model Fit: Trial/Repeat Decomposition",
       "width": 650
      },
      "text/plain": [
       "<VegaLite 5 object>\n",
       "\n",
       "If you see this message, it means the renderer has not been properly enabled\n",
       "for the frontend that you are using. For more information, see\n",
       "https://altair-viz.github.io/user_guide/display_frontends.html#troubleshooting\n"
      ]
     },
     "execution_count": 20,
     "metadata": {},
     "output_type": "execute_result"
    }
   ],
   "source": [
    "e_total_sales = e_weekly_sales[:12]\n",
    "e_trial_sales = mean_weekly_unit_purchases.diagonal() * incr_triers\n",
    "e_repeat_sales = e_total_sales - e_trial_sales\n",
    "\n",
    "e_weekly_sales_df = pl.DataFrame({'Week': trial_weeks, \n",
    "                               'Total Sales': e_total_sales, \n",
    "                               'Trial Sales': e_trial_sales, \n",
    "                               'Repeat Sales': e_repeat_sales})\n",
    "\n",
    "e_weekly_sales_df = e_weekly_sales_df.unpivot(index='Week', on=['Total Sales', 'Trial Sales', 'Repeat Sales'], variable_name='Estimated Sales', value_name='Sales')\n",
    "\n",
    "forecasted_chart = (\n",
    "    ChartTemp(e_weekly_sales_df)\n",
    "    .line_encode(y_col='Sales', y_title='Units Purchased',  color='Estimated Sales:N', x_range=12, dash=[4,4])\n",
    ")\n",
    "\n",
    "actual_chart = (\n",
    "    ChartTemp(weeklysalessplit_lf.collect())\n",
    "    .line_encode(y_col='Sales', y_title='Units Purchased',  color='Actual Sales:N', x_range=12)\n",
    ")\n",
    "\n",
    "chart = forecasted_chart + actual_chart\n",
    "\n",
    "layered_line_prop(chart=chart, title=\"Model Fit: Trial/Repeat Decomposition\")"
   ]
  },
  {
   "cell_type": "code",
   "execution_count": 21,
   "metadata": {},
   "outputs": [
    {
     "data": {
      "application/vnd.vegalite.v5+json": {
       "$schema": "https://vega.github.io/schema/vega-lite/v5.20.1.json",
       "config": {
        "axisX": {
         "grid": false
        },
        "axisY": {
         "grid": false
        },
        "view": {
         "continuousHeight": 300,
         "continuousWidth": 300,
         "stroke": null
        }
       },
       "datasets": {
        "data-1a60e6d763634472cbd41d72fbab38aa": [
         {
          "Repeat Sales": 0,
          "Week": 1
         },
         {
          "Repeat Sales": 265.9519854948667,
          "Week": 2
         },
         {
          "Repeat Sales": 494.77893222371995,
          "Week": 3
         },
         {
          "Repeat Sales": 727.7127923224052,
          "Week": 4
         },
         {
          "Repeat Sales": 955.7543567686062,
          "Week": 5
         },
         {
          "Repeat Sales": 1206.583427537761,
          "Week": 6
         },
         {
          "Repeat Sales": 1443.1425214921283,
          "Week": 7
         },
         {
          "Repeat Sales": 1636.175998758632,
          "Week": 8
         },
         {
          "Repeat Sales": 1825.6049043756102,
          "Week": 9
         },
         {
          "Repeat Sales": 2036.5735101007485,
          "Week": 10
         },
         {
          "Repeat Sales": 2231.3497974450074,
          "Week": 11
         },
         {
          "Repeat Sales": 2398.049151818228,
          "Week": 12
         },
         {
          "Repeat Sales": 2521.2680569316935,
          "Week": 13
         },
         {
          "Repeat Sales": 2347.0213654188547,
          "Week": 14
         },
         {
          "Repeat Sales": 2228.8448396416666,
          "Week": 15
         },
         {
          "Repeat Sales": 2137.715524380606,
          "Week": 16
         },
         {
          "Repeat Sales": 2063.2293835680734,
          "Week": 17
         },
         {
          "Repeat Sales": 2000.206927378744,
          "Week": 18
         },
         {
          "Repeat Sales": 1945.6253975425784,
          "Week": 19
         },
         {
          "Repeat Sales": 1897.5430431740128,
          "Week": 20
         },
         {
          "Repeat Sales": 1854.6289435808549,
          "Week": 21
         },
         {
          "Repeat Sales": 1815.9269050452135,
          "Week": 22
         },
         {
          "Repeat Sales": 1780.7248826970197,
          "Week": 23
         },
         {
          "Repeat Sales": 1748.4774162775327,
          "Week": 24
         },
         {
          "Repeat Sales": 1718.7569430904234,
          "Week": 25
         },
         {
          "Repeat Sales": 1691.2218626593574,
          "Week": 26
         },
         {
          "Repeat Sales": 1665.5948223908674,
          "Week": 27
         },
         {
          "Repeat Sales": 1641.6475036228824,
          "Week": 28
         },
         {
          "Repeat Sales": 1619.1896878198363,
          "Week": 29
         },
         {
          "Repeat Sales": 1598.0612253971979,
          "Week": 30
         },
         {
          "Repeat Sales": 1578.1260236521932,
          "Week": 31
         },
         {
          "Repeat Sales": 1559.2674706316034,
          "Week": 32
         },
         {
          "Repeat Sales": 1541.384900259272,
          "Week": 33
         },
         {
          "Repeat Sales": 1524.3908256583438,
          "Week": 34
         },
         {
          "Repeat Sales": 1508.2087480076143,
          "Week": 35
         },
         {
          "Repeat Sales": 1492.7714025994944,
          "Week": 36
         },
         {
          "Repeat Sales": 1478.0193411978628,
          "Week": 37
         },
         {
          "Repeat Sales": 1463.899776039593,
          "Week": 38
         },
         {
          "Repeat Sales": 1450.3656295212047,
          "Week": 39
         },
         {
          "Repeat Sales": 1437.3747471268775,
          "Week": 40
         },
         {
          "Repeat Sales": 1424.889241052831,
          "Week": 41
         },
         {
          "Repeat Sales": 1412.874939322043,
          "Week": 42
         },
         {
          "Repeat Sales": 1401.3009206857637,
          "Week": 43
         },
         {
          "Repeat Sales": 1390.1391197767662,
          "Week": 44
         },
         {
          "Repeat Sales": 1379.3639901677614,
          "Week": 45
         },
         {
          "Repeat Sales": 1368.9522154491433,
          "Week": 46
         },
         {
          "Repeat Sales": 1358.8824603552764,
          "Week": 47
         },
         {
          "Repeat Sales": 1349.1351554705786,
          "Week": 48
         },
         {
          "Repeat Sales": 1339.6923102333922,
          "Week": 49
         },
         {
          "Repeat Sales": 1330.53734989976,
          "Week": 50
         },
         {
          "Repeat Sales": 1321.6549728851742,
          "Week": 51
         },
         {
          "Repeat Sales": 1313.0310255113707,
          "Week": 52
         }
        ],
        "data-4cabb62e83a82cbbe69ba03dfecec92e": [
         {
          "Repeat Sales": 0,
          "Week": 1
         },
         {
          "Repeat Sales": 227,
          "Week": 2
         },
         {
          "Repeat Sales": 497,
          "Week": 3
         },
         {
          "Repeat Sales": 707,
          "Week": 4
         },
         {
          "Repeat Sales": 976,
          "Week": 5
         },
         {
          "Repeat Sales": 1437,
          "Week": 6
         },
         {
          "Repeat Sales": 1449,
          "Week": 7
         },
         {
          "Repeat Sales": 1576,
          "Week": 8
         },
         {
          "Repeat Sales": 1861,
          "Week": 9
         },
         {
          "Repeat Sales": 2053,
          "Week": 10
         },
         {
          "Repeat Sales": 2320,
          "Week": 11
         },
         {
          "Repeat Sales": 2520,
          "Week": 12
         },
         {
          "Repeat Sales": 2381,
          "Week": 13
         },
         {
          "Repeat Sales": 2575,
          "Week": 14
         },
         {
          "Repeat Sales": 2210,
          "Week": 15
         },
         {
          "Repeat Sales": 2297,
          "Week": 16
         },
         {
          "Repeat Sales": 2039,
          "Week": 17
         },
         {
          "Repeat Sales": 1800,
          "Week": 18
         },
         {
          "Repeat Sales": 1701,
          "Week": 19
         },
         {
          "Repeat Sales": 1801,
          "Week": 20
         },
         {
          "Repeat Sales": 1400,
          "Week": 21
         },
         {
          "Repeat Sales": 1543,
          "Week": 22
         },
         {
          "Repeat Sales": 1427,
          "Week": 23
         },
         {
          "Repeat Sales": 1619,
          "Week": 24
         },
         {
          "Repeat Sales": 2038,
          "Week": 25
         },
         {
          "Repeat Sales": 1738,
          "Week": 26
         },
         {
          "Repeat Sales": 1402,
          "Week": 27
         },
         {
          "Repeat Sales": 1186,
          "Week": 28
         },
         {
          "Repeat Sales": 1398,
          "Week": 29
         },
         {
          "Repeat Sales": 3050,
          "Week": 30
         },
         {
          "Repeat Sales": 2233,
          "Week": 31
         },
         {
          "Repeat Sales": 1095,
          "Week": 32
         },
         {
          "Repeat Sales": 1367,
          "Week": 33
         },
         {
          "Repeat Sales": 1197,
          "Week": 34
         },
         {
          "Repeat Sales": 1155,
          "Week": 35
         },
         {
          "Repeat Sales": 1112,
          "Week": 36
         },
         {
          "Repeat Sales": 1532,
          "Week": 37
         },
         {
          "Repeat Sales": 1456,
          "Week": 38
         },
         {
          "Repeat Sales": 1272,
          "Week": 39
         },
         {
          "Repeat Sales": 1157,
          "Week": 40
         },
         {
          "Repeat Sales": 1456,
          "Week": 41
         },
         {
          "Repeat Sales": 1296,
          "Week": 42
         },
         {
          "Repeat Sales": 1718,
          "Week": 43
         },
         {
          "Repeat Sales": 1454,
          "Week": 44
         },
         {
          "Repeat Sales": 2592,
          "Week": 45
         },
         {
          "Repeat Sales": 1726,
          "Week": 46
         },
         {
          "Repeat Sales": 1464,
          "Week": 47
         },
         {
          "Repeat Sales": 1731,
          "Week": 48
         },
         {
          "Repeat Sales": 1856,
          "Week": 49
         },
         {
          "Repeat Sales": 1868,
          "Week": 50
         },
         {
          "Repeat Sales": 1069,
          "Week": 51
         },
         {
          "Repeat Sales": 942,
          "Week": 52
         }
        ]
       },
       "height": 250,
       "layer": [
        {
         "data": {
          "name": "data-1a60e6d763634472cbd41d72fbab38aa"
         },
         "encoding": {
          "color": {},
          "x": {
           "axis": {
            "labelExpr": "datum.value",
            "title": "Week",
            "values": [
             0,
             4,
             8,
             12,
             16,
             20,
             24,
             28,
             32,
             36,
             40,
             44,
             48,
             52
            ]
           },
           "field": "Week",
           "scale": {
            "domain": [
             0,
             52
            ]
           },
           "type": "quantitative"
          },
          "y": {
           "field": "Repeat Sales",
           "scale": {},
           "title": "Units Purchased",
           "type": "quantitative"
          }
         },
         "mark": {
          "strokeDash": [
           4,
           4
          ],
          "strokeWidth": 2,
          "type": "line"
         }
        },
        {
         "data": {
          "name": "data-4cabb62e83a82cbbe69ba03dfecec92e"
         },
         "encoding": {
          "color": {},
          "x": {
           "axis": {
            "labelExpr": "datum.value",
            "title": "Week",
            "values": [
             0,
             4,
             8,
             12,
             16,
             20,
             24,
             28,
             32,
             36,
             40,
             44,
             48,
             52
            ]
           },
           "field": "Week",
           "scale": {
            "domain": [
             0,
             52
            ]
           },
           "type": "quantitative"
          },
          "y": {
           "field": "Repeat Sales",
           "scale": {},
           "title": "Units Purchased",
           "type": "quantitative"
          }
         },
         "mark": {
          "strokeDash": [
           1,
           0
          ],
          "strokeWidth": 2,
          "type": "line"
         }
        }
       ],
       "title": "Forecast Weekly Repeat Sales",
       "width": 650
      },
      "text/plain": [
       "<VegaLite 5 object>\n",
       "\n",
       "If you see this message, it means the renderer has not been properly enabled\n",
       "for the frontend that you are using. For more information, see\n",
       "https://altair-viz.github.io/user_guide/display_frontends.html#troubleshooting\n"
      ]
     },
     "execution_count": 21,
     "metadata": {},
     "output_type": "execute_result"
    }
   ],
   "source": [
    "e_total_sales = e_weekly_sales\n",
    "e_trial_sales = np.zeros((full_weeks.shape[0]))\n",
    "e_trial_sales[:trial_weeks.shape[0]] = mean_weekly_unit_purchases.diagonal() * incr_triers\n",
    "e_repeat_sales = e_total_sales - e_trial_sales\n",
    "\n",
    "e_repeat_sales_df = pl.DataFrame({'Week': full_weeks, \n",
    "                               'Repeat Sales': e_repeat_sales})\n",
    "\n",
    "forecasted_chart = (\n",
    "    ChartTemp(e_repeat_sales_df)\n",
    "    .line_encode(y_col='Repeat Sales', y_title='Units Purchased', x_range=52, dash=[4,4])\n",
    ")\n",
    "\n",
    "actual_chart = (\n",
    "    ChartTemp(weekly_repeat_df.filter(pl.col('Week') <= 52).collect())\n",
    "    .line_encode(y_col='Repeat Sales', y_title='Units Purchased', x_range=52)\n",
    ")\n",
    "\n",
    "chart = forecasted_chart + actual_chart\n",
    "\n",
    "layered_line_prop(chart, 'Forecast Weekly Repeat Sales')"
   ]
  },
  {
   "cell_type": "code",
   "execution_count": 22,
   "metadata": {},
   "outputs": [
    {
     "data": {
      "application/vnd.vegalite.v5+json": {
       "$schema": "https://vega.github.io/schema/vega-lite/v5.20.1.json",
       "config": {
        "axisX": {
         "grid": false
        },
        "axisY": {
         "grid": false
        },
        "view": {
         "continuousHeight": 300,
         "continuousWidth": 300,
         "stroke": null
        }
       },
       "datasets": {
        "data-40495179b4f9c6208563dfac00a6ead4": [
         {
          "Cumulative Repeat Sales": 0,
          "Repeat Sales": 0,
          "Week": 1
         },
         {
          "Cumulative Repeat Sales": 0.227,
          "Repeat Sales": 227,
          "Week": 2
         },
         {
          "Cumulative Repeat Sales": 0.724,
          "Repeat Sales": 497,
          "Week": 3
         },
         {
          "Cumulative Repeat Sales": 1.431,
          "Repeat Sales": 707,
          "Week": 4
         },
         {
          "Cumulative Repeat Sales": 2.407,
          "Repeat Sales": 976,
          "Week": 5
         },
         {
          "Cumulative Repeat Sales": 3.844,
          "Repeat Sales": 1437,
          "Week": 6
         },
         {
          "Cumulative Repeat Sales": 5.293,
          "Repeat Sales": 1449,
          "Week": 7
         },
         {
          "Cumulative Repeat Sales": 6.869,
          "Repeat Sales": 1576,
          "Week": 8
         },
         {
          "Cumulative Repeat Sales": 8.73,
          "Repeat Sales": 1861,
          "Week": 9
         },
         {
          "Cumulative Repeat Sales": 10.783,
          "Repeat Sales": 2053,
          "Week": 10
         },
         {
          "Cumulative Repeat Sales": 13.103,
          "Repeat Sales": 2320,
          "Week": 11
         },
         {
          "Cumulative Repeat Sales": 15.623000000000001,
          "Repeat Sales": 2520,
          "Week": 12
         },
         {
          "Cumulative Repeat Sales": 18.004,
          "Repeat Sales": 2381,
          "Week": 13
         },
         {
          "Cumulative Repeat Sales": 20.579,
          "Repeat Sales": 2575,
          "Week": 14
         },
         {
          "Cumulative Repeat Sales": 22.789,
          "Repeat Sales": 2210,
          "Week": 15
         },
         {
          "Cumulative Repeat Sales": 25.086000000000002,
          "Repeat Sales": 2297,
          "Week": 16
         },
         {
          "Cumulative Repeat Sales": 27.125,
          "Repeat Sales": 2039,
          "Week": 17
         },
         {
          "Cumulative Repeat Sales": 28.925,
          "Repeat Sales": 1800,
          "Week": 18
         },
         {
          "Cumulative Repeat Sales": 30.626,
          "Repeat Sales": 1701,
          "Week": 19
         },
         {
          "Cumulative Repeat Sales": 32.427,
          "Repeat Sales": 1801,
          "Week": 20
         },
         {
          "Cumulative Repeat Sales": 33.827,
          "Repeat Sales": 1400,
          "Week": 21
         },
         {
          "Cumulative Repeat Sales": 35.37,
          "Repeat Sales": 1543,
          "Week": 22
         },
         {
          "Cumulative Repeat Sales": 36.797000000000004,
          "Repeat Sales": 1427,
          "Week": 23
         },
         {
          "Cumulative Repeat Sales": 38.416000000000004,
          "Repeat Sales": 1619,
          "Week": 24
         },
         {
          "Cumulative Repeat Sales": 40.454,
          "Repeat Sales": 2038,
          "Week": 25
         },
         {
          "Cumulative Repeat Sales": 42.192,
          "Repeat Sales": 1738,
          "Week": 26
         },
         {
          "Cumulative Repeat Sales": 43.594,
          "Repeat Sales": 1402,
          "Week": 27
         },
         {
          "Cumulative Repeat Sales": 44.78,
          "Repeat Sales": 1186,
          "Week": 28
         },
         {
          "Cumulative Repeat Sales": 46.178000000000004,
          "Repeat Sales": 1398,
          "Week": 29
         },
         {
          "Cumulative Repeat Sales": 49.228,
          "Repeat Sales": 3050,
          "Week": 30
         },
         {
          "Cumulative Repeat Sales": 51.461,
          "Repeat Sales": 2233,
          "Week": 31
         },
         {
          "Cumulative Repeat Sales": 52.556000000000004,
          "Repeat Sales": 1095,
          "Week": 32
         },
         {
          "Cumulative Repeat Sales": 53.923,
          "Repeat Sales": 1367,
          "Week": 33
         },
         {
          "Cumulative Repeat Sales": 55.120000000000005,
          "Repeat Sales": 1197,
          "Week": 34
         },
         {
          "Cumulative Repeat Sales": 56.275,
          "Repeat Sales": 1155,
          "Week": 35
         },
         {
          "Cumulative Repeat Sales": 57.387,
          "Repeat Sales": 1112,
          "Week": 36
         },
         {
          "Cumulative Repeat Sales": 58.919000000000004,
          "Repeat Sales": 1532,
          "Week": 37
         },
         {
          "Cumulative Repeat Sales": 60.375,
          "Repeat Sales": 1456,
          "Week": 38
         },
         {
          "Cumulative Repeat Sales": 61.647,
          "Repeat Sales": 1272,
          "Week": 39
         },
         {
          "Cumulative Repeat Sales": 62.804,
          "Repeat Sales": 1157,
          "Week": 40
         },
         {
          "Cumulative Repeat Sales": 64.26,
          "Repeat Sales": 1456,
          "Week": 41
         },
         {
          "Cumulative Repeat Sales": 65.556,
          "Repeat Sales": 1296,
          "Week": 42
         },
         {
          "Cumulative Repeat Sales": 67.274,
          "Repeat Sales": 1718,
          "Week": 43
         },
         {
          "Cumulative Repeat Sales": 68.728,
          "Repeat Sales": 1454,
          "Week": 44
         },
         {
          "Cumulative Repeat Sales": 71.32000000000001,
          "Repeat Sales": 2592,
          "Week": 45
         },
         {
          "Cumulative Repeat Sales": 73.046,
          "Repeat Sales": 1726,
          "Week": 46
         },
         {
          "Cumulative Repeat Sales": 74.51,
          "Repeat Sales": 1464,
          "Week": 47
         },
         {
          "Cumulative Repeat Sales": 76.241,
          "Repeat Sales": 1731,
          "Week": 48
         },
         {
          "Cumulative Repeat Sales": 78.09700000000001,
          "Repeat Sales": 1856,
          "Week": 49
         },
         {
          "Cumulative Repeat Sales": 79.965,
          "Repeat Sales": 1868,
          "Week": 50
         },
         {
          "Cumulative Repeat Sales": 81.034,
          "Repeat Sales": 1069,
          "Week": 51
         },
         {
          "Cumulative Repeat Sales": 81.976,
          "Repeat Sales": 942,
          "Week": 52
         }
        ],
        "data-9af0ed9a99457dd217340f4c04aed09c": [
         {
          "Cumulative Repeat Sales": 0,
          "Repeat Sales": 0,
          "Week": 1
         },
         {
          "Cumulative Repeat Sales": 0.2659519854948667,
          "Repeat Sales": 265.9519854948667,
          "Week": 2
         },
         {
          "Cumulative Repeat Sales": 0.7607309177185866,
          "Repeat Sales": 494.77893222371995,
          "Week": 3
         },
         {
          "Cumulative Repeat Sales": 1.488443710040992,
          "Repeat Sales": 727.7127923224052,
          "Week": 4
         },
         {
          "Cumulative Repeat Sales": 2.444198066809598,
          "Repeat Sales": 955.7543567686062,
          "Week": 5
         },
         {
          "Cumulative Repeat Sales": 3.6507814943473593,
          "Repeat Sales": 1206.583427537761,
          "Week": 6
         },
         {
          "Cumulative Repeat Sales": 5.093924015839488,
          "Repeat Sales": 1443.1425214921283,
          "Week": 7
         },
         {
          "Cumulative Repeat Sales": 6.73010001459812,
          "Repeat Sales": 1636.175998758632,
          "Week": 8
         },
         {
          "Cumulative Repeat Sales": 8.55570491897373,
          "Repeat Sales": 1825.6049043756102,
          "Week": 9
         },
         {
          "Cumulative Repeat Sales": 10.59227842907448,
          "Repeat Sales": 2036.5735101007485,
          "Week": 10
         },
         {
          "Cumulative Repeat Sales": 12.823628226519487,
          "Repeat Sales": 2231.3497974450074,
          "Week": 11
         },
         {
          "Cumulative Repeat Sales": 15.221677378337715,
          "Repeat Sales": 2398.049151818228,
          "Week": 12
         },
         {
          "Cumulative Repeat Sales": 17.74294543526941,
          "Repeat Sales": 2521.2680569316935,
          "Week": 13
         },
         {
          "Cumulative Repeat Sales": 20.089966800688263,
          "Repeat Sales": 2347.0213654188547,
          "Week": 14
         },
         {
          "Cumulative Repeat Sales": 22.318811640329933,
          "Repeat Sales": 2228.8448396416666,
          "Week": 15
         },
         {
          "Cumulative Repeat Sales": 24.456527164710536,
          "Repeat Sales": 2137.715524380606,
          "Week": 16
         },
         {
          "Cumulative Repeat Sales": 26.519756548278608,
          "Repeat Sales": 2063.2293835680734,
          "Week": 17
         },
         {
          "Cumulative Repeat Sales": 28.519963475657356,
          "Repeat Sales": 2000.206927378744,
          "Week": 18
         },
         {
          "Cumulative Repeat Sales": 30.465588873199934,
          "Repeat Sales": 1945.6253975425784,
          "Week": 19
         },
         {
          "Cumulative Repeat Sales": 32.363131916373945,
          "Repeat Sales": 1897.5430431740128,
          "Week": 20
         },
         {
          "Cumulative Repeat Sales": 34.21776085995481,
          "Repeat Sales": 1854.6289435808549,
          "Week": 21
         },
         {
          "Cumulative Repeat Sales": 36.03368776500002,
          "Repeat Sales": 1815.9269050452135,
          "Week": 22
         },
         {
          "Cumulative Repeat Sales": 37.81441264769703,
          "Repeat Sales": 1780.7248826970197,
          "Week": 23
         },
         {
          "Cumulative Repeat Sales": 39.56289006397457,
          "Repeat Sales": 1748.4774162775327,
          "Week": 24
         },
         {
          "Cumulative Repeat Sales": 41.281647007065,
          "Repeat Sales": 1718.7569430904234,
          "Week": 25
         },
         {
          "Cumulative Repeat Sales": 42.97286886972436,
          "Repeat Sales": 1691.2218626593574,
          "Week": 26
         },
         {
          "Cumulative Repeat Sales": 44.63846369211523,
          "Repeat Sales": 1665.5948223908674,
          "Week": 27
         },
         {
          "Cumulative Repeat Sales": 46.28011119573811,
          "Repeat Sales": 1641.6475036228824,
          "Week": 28
         },
         {
          "Cumulative Repeat Sales": 47.89930088355795,
          "Repeat Sales": 1619.1896878198363,
          "Week": 29
         },
         {
          "Cumulative Repeat Sales": 49.497362108955144,
          "Repeat Sales": 1598.0612253971979,
          "Week": 30
         },
         {
          "Cumulative Repeat Sales": 51.07548813260734,
          "Repeat Sales": 1578.1260236521932,
          "Week": 31
         },
         {
          "Cumulative Repeat Sales": 52.63475560323894,
          "Repeat Sales": 1559.2674706316034,
          "Week": 32
         },
         {
          "Cumulative Repeat Sales": 54.17614050349821,
          "Repeat Sales": 1541.384900259272,
          "Week": 33
         },
         {
          "Cumulative Repeat Sales": 55.700531329156554,
          "Repeat Sales": 1524.3908256583438,
          "Week": 34
         },
         {
          "Cumulative Repeat Sales": 57.20874007716417,
          "Repeat Sales": 1508.2087480076143,
          "Week": 35
         },
         {
          "Cumulative Repeat Sales": 58.70151147976367,
          "Repeat Sales": 1492.7714025994944,
          "Week": 36
         },
         {
          "Cumulative Repeat Sales": 60.179530820961524,
          "Repeat Sales": 1478.0193411978628,
          "Week": 37
         },
         {
          "Cumulative Repeat Sales": 61.64343059700112,
          "Repeat Sales": 1463.899776039593,
          "Week": 38
         },
         {
          "Cumulative Repeat Sales": 63.09379622652233,
          "Repeat Sales": 1450.3656295212047,
          "Week": 39
         },
         {
          "Cumulative Repeat Sales": 64.53117097364921,
          "Repeat Sales": 1437.3747471268775,
          "Week": 40
         },
         {
          "Cumulative Repeat Sales": 65.95606021470203,
          "Repeat Sales": 1424.889241052831,
          "Week": 41
         },
         {
          "Cumulative Repeat Sales": 67.36893515402409,
          "Repeat Sales": 1412.874939322043,
          "Week": 42
         },
         {
          "Cumulative Repeat Sales": 68.77023607470986,
          "Repeat Sales": 1401.3009206857637,
          "Week": 43
         },
         {
          "Cumulative Repeat Sales": 70.16037519448662,
          "Repeat Sales": 1390.1391197767662,
          "Week": 44
         },
         {
          "Cumulative Repeat Sales": 71.5397391846544,
          "Repeat Sales": 1379.3639901677614,
          "Week": 45
         },
         {
          "Cumulative Repeat Sales": 72.90869140010354,
          "Repeat Sales": 1368.9522154491433,
          "Week": 46
         },
         {
          "Cumulative Repeat Sales": 74.26757386045881,
          "Repeat Sales": 1358.8824603552764,
          "Week": 47
         },
         {
          "Cumulative Repeat Sales": 75.61670901592939,
          "Repeat Sales": 1349.1351554705786,
          "Week": 48
         },
         {
          "Cumulative Repeat Sales": 76.95640132616279,
          "Repeat Sales": 1339.6923102333922,
          "Week": 49
         },
         {
          "Cumulative Repeat Sales": 78.28693867606255,
          "Repeat Sales": 1330.53734989976,
          "Week": 50
         },
         {
          "Cumulative Repeat Sales": 79.60859364894772,
          "Repeat Sales": 1321.6549728851742,
          "Week": 51
         },
         {
          "Cumulative Repeat Sales": 80.9216246744591,
          "Repeat Sales": 1313.0310255113707,
          "Week": 52
         }
        ]
       },
       "height": 250,
       "layer": [
        {
         "data": {
          "name": "data-9af0ed9a99457dd217340f4c04aed09c"
         },
         "encoding": {
          "color": {},
          "x": {
           "axis": {
            "labelExpr": "datum.value",
            "title": "Week",
            "values": [
             0,
             4,
             8,
             12,
             16,
             20,
             24,
             28,
             32,
             36,
             40,
             44,
             48,
             52
            ]
           },
           "field": "Week",
           "scale": {
            "domain": [
             0,
             52
            ]
           },
           "type": "quantitative"
          },
          "y": {
           "field": "Cumulative Repeat Sales",
           "scale": {},
           "title": "Units Purchased (000)",
           "type": "quantitative"
          }
         },
         "mark": {
          "strokeDash": [
           4,
           4
          ],
          "strokeWidth": 2,
          "type": "line"
         }
        },
        {
         "data": {
          "name": "data-40495179b4f9c6208563dfac00a6ead4"
         },
         "encoding": {
          "color": {},
          "x": {
           "axis": {
            "labelExpr": "datum.value",
            "title": "Week",
            "values": [
             0,
             4,
             8,
             12,
             16,
             20,
             24,
             28,
             32,
             36,
             40,
             44,
             48,
             52
            ]
           },
           "field": "Week",
           "scale": {
            "domain": [
             0,
             52
            ]
           },
           "type": "quantitative"
          },
          "y": {
           "field": "Cumulative Repeat Sales",
           "scale": {},
           "title": "Units Purchased (000)",
           "type": "quantitative"
          }
         },
         "mark": {
          "strokeDash": [
           1,
           0
          ],
          "strokeWidth": 2,
          "type": "line"
         }
        }
       ],
       "title": "Cumulative Repeat Sales Forecast",
       "width": 650
      },
      "text/plain": [
       "<VegaLite 5 object>\n",
       "\n",
       "If you see this message, it means the renderer has not been properly enabled\n",
       "for the frontend that you are using. For more information, see\n",
       "https://altair-viz.github.io/user_guide/display_frontends.html#troubleshooting\n"
      ]
     },
     "execution_count": 22,
     "metadata": {},
     "output_type": "execute_result"
    }
   ],
   "source": [
    "e_cum_repeat_sales_df = (\n",
    "    e_repeat_sales_df\n",
    "    .with_columns((pl.col('Repeat Sales').cum_sum()/1000).alias('Cumulative Repeat Sales'))\n",
    ")\n",
    "\n",
    "cum_weekly_repeat_df = (\n",
    "    weekly_repeat_df\n",
    "    .filter(pl.col('Week') <= 52)\n",
    "    .sort('Week')\n",
    "    .with_columns((pl.col('Repeat Sales').cum_sum()/1000).alias('Cumulative Repeat Sales'))\n",
    ")\n",
    "\n",
    "forecasted_chart = (\n",
    "    ChartTemp(e_cum_repeat_sales_df)\n",
    "    .line_encode(y_col='Cumulative Repeat Sales', y_title='Units Purchased (000)', x_range=52, dash=[4,4])\n",
    ")\n",
    "\n",
    "actual_chart = (\n",
    "    ChartTemp(cum_weekly_repeat_df.collect())\n",
    "    .line_encode(y_col='Cumulative Repeat Sales', y_title='Units Purchased (000)', x_range=52)\n",
    ")\n",
    "\n",
    "chart = forecasted_chart + actual_chart\n",
    "\n",
    "layered_line_prop(chart, 'Cumulative Repeat Sales Forecast')"
   ]
  },
  {
   "cell_type": "code",
   "execution_count": 23,
   "metadata": {},
   "outputs": [
    {
     "data": {
      "application/vnd.vegalite.v5+json": {
       "$schema": "https://vega.github.io/schema/vega-lite/v5.20.1.json",
       "config": {
        "axisX": {
         "grid": false
        },
        "axisY": {
         "grid": false
        },
        "view": {
         "continuousHeight": 300,
         "continuousWidth": 300,
         "stroke": null
        }
       },
       "datasets": {
        "data-14fd598fe4278ef354a242d2df052a3e": [
         {
          "Repeat Sales": 0,
          "Week": 1
         },
         {
          "Repeat Sales": 227,
          "Week": 2
         },
         {
          "Repeat Sales": 497,
          "Week": 3
         },
         {
          "Repeat Sales": 707,
          "Week": 4
         },
         {
          "Repeat Sales": 976,
          "Week": 5
         },
         {
          "Repeat Sales": 1437,
          "Week": 6
         },
         {
          "Repeat Sales": 1449,
          "Week": 7
         },
         {
          "Repeat Sales": 1576,
          "Week": 8
         },
         {
          "Repeat Sales": 1861,
          "Week": 9
         },
         {
          "Repeat Sales": 2053,
          "Week": 10
         },
         {
          "Repeat Sales": 2320,
          "Week": 11
         },
         {
          "Repeat Sales": 2520,
          "Week": 12
         },
         {
          "Repeat Sales": 2381,
          "Week": 13
         },
         {
          "Repeat Sales": 2575,
          "Week": 14
         },
         {
          "Repeat Sales": 2210,
          "Week": 15
         },
         {
          "Repeat Sales": 2297,
          "Week": 16
         },
         {
          "Repeat Sales": 2039,
          "Week": 17
         },
         {
          "Repeat Sales": 1800,
          "Week": 18
         },
         {
          "Repeat Sales": 1701,
          "Week": 19
         },
         {
          "Repeat Sales": 1801,
          "Week": 20
         },
         {
          "Repeat Sales": 1400,
          "Week": 21
         },
         {
          "Repeat Sales": 1543,
          "Week": 22
         },
         {
          "Repeat Sales": 1427,
          "Week": 23
         },
         {
          "Repeat Sales": 1619,
          "Week": 24
         },
         {
          "Repeat Sales": 2038,
          "Week": 25
         },
         {
          "Repeat Sales": 1738,
          "Week": 26
         },
         {
          "Repeat Sales": 1402,
          "Week": 27
         },
         {
          "Repeat Sales": 1186,
          "Week": 28
         },
         {
          "Repeat Sales": 1398,
          "Week": 29
         },
         {
          "Repeat Sales": 3050,
          "Week": 30
         },
         {
          "Repeat Sales": 2233,
          "Week": 31
         },
         {
          "Repeat Sales": 1095,
          "Week": 32
         },
         {
          "Repeat Sales": 1367,
          "Week": 33
         },
         {
          "Repeat Sales": 1197,
          "Week": 34
         },
         {
          "Repeat Sales": 1155,
          "Week": 35
         },
         {
          "Repeat Sales": 1112,
          "Week": 36
         },
         {
          "Repeat Sales": 1532,
          "Week": 37
         },
         {
          "Repeat Sales": 1456,
          "Week": 38
         },
         {
          "Repeat Sales": 1272,
          "Week": 39
         },
         {
          "Repeat Sales": 1157,
          "Week": 40
         },
         {
          "Repeat Sales": 1456,
          "Week": 41
         },
         {
          "Repeat Sales": 1296,
          "Week": 42
         },
         {
          "Repeat Sales": 1718,
          "Week": 43
         },
         {
          "Repeat Sales": 1454,
          "Week": 44
         },
         {
          "Repeat Sales": 2592,
          "Week": 45
         },
         {
          "Repeat Sales": 1726,
          "Week": 46
         },
         {
          "Repeat Sales": 1464,
          "Week": 47
         },
         {
          "Repeat Sales": 1731,
          "Week": 48
         },
         {
          "Repeat Sales": 1856,
          "Week": 49
         },
         {
          "Repeat Sales": 1868,
          "Week": 50
         },
         {
          "Repeat Sales": 1069,
          "Week": 51
         },
         {
          "Repeat Sales": 942,
          "Week": 52
         },
         {
          "Repeat Sales": 1143,
          "Week": 53
         },
         {
          "Repeat Sales": 1142,
          "Week": 54
         },
         {
          "Repeat Sales": 1287,
          "Week": 55
         },
         {
          "Repeat Sales": 1221,
          "Week": 56
         },
         {
          "Repeat Sales": 1114,
          "Week": 57
         },
         {
          "Repeat Sales": 1294,
          "Week": 58
         },
         {
          "Repeat Sales": 1209,
          "Week": 59
         },
         {
          "Repeat Sales": 1202,
          "Week": 60
         },
         {
          "Repeat Sales": 1885,
          "Week": 61
         },
         {
          "Repeat Sales": 1793,
          "Week": 62
         },
         {
          "Repeat Sales": 1591,
          "Week": 63
         },
         {
          "Repeat Sales": 1756,
          "Week": 64
         },
         {
          "Repeat Sales": 1516,
          "Week": 65
         },
         {
          "Repeat Sales": 1090,
          "Week": 66
         },
         {
          "Repeat Sales": 973,
          "Week": 67
         },
         {
          "Repeat Sales": 1202,
          "Week": 68
         },
         {
          "Repeat Sales": 1022,
          "Week": 69
         },
         {
          "Repeat Sales": 1249,
          "Week": 70
         },
         {
          "Repeat Sales": 1113,
          "Week": 71
         },
         {
          "Repeat Sales": 1117,
          "Week": 72
         },
         {
          "Repeat Sales": 1004,
          "Week": 73
         },
         {
          "Repeat Sales": 1265,
          "Week": 74
         },
         {
          "Repeat Sales": 1383,
          "Week": 75
         },
         {
          "Repeat Sales": 1573,
          "Week": 76
         },
         {
          "Repeat Sales": 967,
          "Week": 77
         },
         {
          "Repeat Sales": 929,
          "Week": 78
         }
        ],
        "data-dc1122492824ed16a5f4862d8387b29c": [
         {
          "Repeat Sales": 0,
          "Week": 1
         },
         {
          "Repeat Sales": 265.9519854948667,
          "Week": 2
         },
         {
          "Repeat Sales": 494.77893222371995,
          "Week": 3
         },
         {
          "Repeat Sales": 727.7127923224052,
          "Week": 4
         },
         {
          "Repeat Sales": 955.7543567686062,
          "Week": 5
         },
         {
          "Repeat Sales": 1206.583427537761,
          "Week": 6
         },
         {
          "Repeat Sales": 1443.1425214921283,
          "Week": 7
         },
         {
          "Repeat Sales": 1636.175998758632,
          "Week": 8
         },
         {
          "Repeat Sales": 1825.6049043756102,
          "Week": 9
         },
         {
          "Repeat Sales": 2036.5735101007485,
          "Week": 10
         },
         {
          "Repeat Sales": 2231.3497974450074,
          "Week": 11
         },
         {
          "Repeat Sales": 2398.049151818228,
          "Week": 12
         },
         {
          "Repeat Sales": 2521.2680569316935,
          "Week": 13
         },
         {
          "Repeat Sales": 2347.0213654188547,
          "Week": 14
         },
         {
          "Repeat Sales": 2228.8448396416666,
          "Week": 15
         },
         {
          "Repeat Sales": 2137.715524380606,
          "Week": 16
         },
         {
          "Repeat Sales": 2063.2293835680734,
          "Week": 17
         },
         {
          "Repeat Sales": 2000.206927378744,
          "Week": 18
         },
         {
          "Repeat Sales": 1945.6253975425784,
          "Week": 19
         },
         {
          "Repeat Sales": 1897.5430431740128,
          "Week": 20
         },
         {
          "Repeat Sales": 1854.6289435808549,
          "Week": 21
         },
         {
          "Repeat Sales": 1815.9269050452135,
          "Week": 22
         },
         {
          "Repeat Sales": 1780.7248826970197,
          "Week": 23
         },
         {
          "Repeat Sales": 1748.4774162775327,
          "Week": 24
         },
         {
          "Repeat Sales": 1718.7569430904234,
          "Week": 25
         },
         {
          "Repeat Sales": 1691.2218626593574,
          "Week": 26
         },
         {
          "Repeat Sales": 1665.5948223908674,
          "Week": 27
         },
         {
          "Repeat Sales": 1641.6475036228824,
          "Week": 28
         },
         {
          "Repeat Sales": 1619.1896878198363,
          "Week": 29
         },
         {
          "Repeat Sales": 1598.0612253971979,
          "Week": 30
         },
         {
          "Repeat Sales": 1578.1260236521932,
          "Week": 31
         },
         {
          "Repeat Sales": 1559.2674706316034,
          "Week": 32
         },
         {
          "Repeat Sales": 1541.384900259272,
          "Week": 33
         },
         {
          "Repeat Sales": 1524.3908256583438,
          "Week": 34
         },
         {
          "Repeat Sales": 1508.2087480076143,
          "Week": 35
         },
         {
          "Repeat Sales": 1492.7714025994944,
          "Week": 36
         },
         {
          "Repeat Sales": 1478.0193411978628,
          "Week": 37
         },
         {
          "Repeat Sales": 1463.899776039593,
          "Week": 38
         },
         {
          "Repeat Sales": 1450.3656295212047,
          "Week": 39
         },
         {
          "Repeat Sales": 1437.3747471268775,
          "Week": 40
         },
         {
          "Repeat Sales": 1424.889241052831,
          "Week": 41
         },
         {
          "Repeat Sales": 1412.874939322043,
          "Week": 42
         },
         {
          "Repeat Sales": 1401.3009206857637,
          "Week": 43
         },
         {
          "Repeat Sales": 1390.1391197767662,
          "Week": 44
         },
         {
          "Repeat Sales": 1379.3639901677614,
          "Week": 45
         },
         {
          "Repeat Sales": 1368.9522154491433,
          "Week": 46
         },
         {
          "Repeat Sales": 1358.8824603552764,
          "Week": 47
         },
         {
          "Repeat Sales": 1349.1351554705786,
          "Week": 48
         },
         {
          "Repeat Sales": 1339.6923102333922,
          "Week": 49
         },
         {
          "Repeat Sales": 1330.53734989976,
          "Week": 50
         },
         {
          "Repeat Sales": 1321.6549728851742,
          "Week": 51
         },
         {
          "Repeat Sales": 1313.0310255113707,
          "Week": 52
         },
         {
          "Repeat Sales": 1304.6523916787135,
          "Week": 53
         },
         {
          "Repeat Sales": 1296.5068953867094,
          "Week": 54
         },
         {
          "Repeat Sales": 1288.5832143544405,
          "Week": 55
         },
         {
          "Repeat Sales": 1280.870803263611,
          "Week": 56
         },
         {
          "Repeat Sales": 1273.359825370939,
          "Week": 57
         },
         {
          "Repeat Sales": 1266.0410914226304,
          "Week": 58
         },
         {
          "Repeat Sales": 1258.906004958843,
          "Week": 59
         },
         {
          "Repeat Sales": 1251.9465132259616,
          "Week": 60
         },
         {
          "Repeat Sales": 1245.1550630237175,
          "Week": 61
         },
         {
          "Repeat Sales": 1238.5245609063306,
          "Week": 62
         },
         {
          "Repeat Sales": 1232.048337234874,
          "Week": 63
         },
         {
          "Repeat Sales": 1225.7201136443368,
          "Week": 64
         },
         {
          "Repeat Sales": 1219.5339735453654,
          "Week": 65
         },
         {
          "Repeat Sales": 1213.4843353289532,
          "Week": 66
         },
         {
          "Repeat Sales": 1207.5659279837869,
          "Week": 67
         },
         {
          "Repeat Sales": 1201.773768871565,
          "Week": 68
         },
         {
          "Repeat Sales": 1196.1031434363438,
          "Week": 69
         },
         {
          "Repeat Sales": 1190.549586650514,
          "Week": 70
         },
         {
          "Repeat Sales": 1185.1088660230625,
          "Week": 71
         },
         {
          "Repeat Sales": 1179.7769660157762,
          "Week": 72
         },
         {
          "Repeat Sales": 1174.5500737304883,
          "Week": 73
         },
         {
          "Repeat Sales": 1169.424565745695,
          "Week": 74
         },
         {
          "Repeat Sales": 1164.3969959941967,
          "Week": 75
         },
         {
          "Repeat Sales": 1159.4640845851004,
          "Week": 76
         },
         {
          "Repeat Sales": 1154.6227074838012,
          "Week": 77
         },
         {
          "Repeat Sales": 1149.8698869725936,
          "Week": 78
         }
        ]
       },
       "height": 250,
       "layer": [
        {
         "data": {
          "name": "data-dc1122492824ed16a5f4862d8387b29c"
         },
         "encoding": {
          "color": {},
          "x": {
           "axis": {
            "labelExpr": "datum.value",
            "title": "Week",
            "values": [
             0,
             4,
             8,
             12,
             16,
             20,
             24,
             28,
             32,
             36,
             40,
             44,
             48,
             52,
             56,
             60,
             64,
             68,
             72,
             76
            ]
           },
           "field": "Week",
           "scale": {
            "domain": [
             0,
             78
            ]
           },
           "type": "quantitative"
          },
          "y": {
           "field": "Repeat Sales",
           "scale": {},
           "title": "Units Purchased",
           "type": "quantitative"
          }
         },
         "mark": {
          "strokeDash": [
           4,
           4
          ],
          "strokeWidth": 2,
          "type": "line"
         }
        },
        {
         "data": {
          "name": "data-14fd598fe4278ef354a242d2df052a3e"
         },
         "encoding": {
          "color": {},
          "x": {
           "axis": {
            "labelExpr": "datum.value",
            "title": "Week",
            "values": [
             0,
             4,
             8,
             12,
             16,
             20,
             24,
             28,
             32,
             36,
             40,
             44,
             48,
             52,
             56,
             60,
             64,
             68,
             72,
             76
            ]
           },
           "field": "Week",
           "scale": {
            "domain": [
             0,
             78
            ]
           },
           "type": "quantitative"
          },
          "y": {
           "field": "Repeat Sales",
           "scale": {},
           "title": "Units Purchased",
           "type": "quantitative"
          }
         },
         "mark": {
          "strokeDash": [
           1,
           0
          ],
          "strokeWidth": 2,
          "type": "line"
         }
        }
       ],
       "title": "Forecast Weekly Repeat Sales",
       "width": 650
      },
      "text/plain": [
       "<VegaLite 5 object>\n",
       "\n",
       "If you see this message, it means the renderer has not been properly enabled\n",
       "for the frontend that you are using. For more information, see\n",
       "https://altair-viz.github.io/user_guide/display_frontends.html#troubleshooting\n"
      ]
     },
     "execution_count": 23,
     "metadata": {},
     "output_type": "execute_result"
    }
   ],
   "source": [
    "full_weeks = np.arange(78) + 1\n",
    "week_1_triers = np.zeros(78)\n",
    "week_1_triers[0] = (alpha_T + beta_T - 1)/(alpha_T - 1) # expected number of units purchased in the trial week    \n",
    "week_1_triers[1:] = gamma * (full_weeks[1:] - 1)**delta * beta_R / (alpha_R - 1) # expected repeat sales, number of units purchased w−i weeks after trial\n",
    "\n",
    "rows = full_weeks.shape[0]\n",
    "cols = trial_weeks.shape[0]\n",
    "\n",
    "mean_weekly_unit_purchases = np.zeros((rows, cols))\n",
    "\n",
    "row_indices = np.arange(rows)[:, None]\n",
    "col_indices = np.arange(cols)[None, :]\n",
    "lag_mask = row_indices >= col_indices\n",
    "\n",
    "mean_weekly_unit_purchases[lag_mask] = week_1_triers[(row_indices - col_indices)[lag_mask]]\n",
    "e_weekly_sales = np.sum(incr_triers * mean_weekly_unit_purchases, axis=1)\n",
    "\n",
    "e_trial_sales = np.zeros((full_weeks.shape[0]))\n",
    "e_trial_sales[:trial_weeks.shape[0]] = mean_weekly_unit_purchases.diagonal() * incr_triers\n",
    "e_repeat_sales = e_weekly_sales - e_trial_sales\n",
    "\n",
    "e_repeat_sales_df = pl.DataFrame({'Week': full_weeks,\n",
    "                                  'Repeat Sales': e_repeat_sales})\n",
    "\n",
    "forecasted_chart = (\n",
    "    ChartTemp(e_repeat_sales_df)\n",
    "    .line_encode(y_col='Repeat Sales', y_title='Units Purchased', x_range=78, dash=[4,4])\n",
    ")\n",
    "\n",
    "actual_chart = (\n",
    "    ChartTemp(weekly_repeat_df.collect())\n",
    "    .line_encode(y_col='Repeat Sales', y_title='Units Purchased', x_range=78)\n",
    ")\n",
    "\n",
    "chart = forecasted_chart + actual_chart\n",
    "\n",
    "layered_line_prop(chart, 'Forecast Weekly Repeat Sales')"
   ]
  },
  {
   "cell_type": "code",
   "execution_count": 24,
   "metadata": {},
   "outputs": [
    {
     "data": {
      "text/markdown": [
       "**Week 1:**\n",
       "                 \n",
       "$\\alpha_{T}$ = 5.9119\n",
       "\n",
       "$\\beta_{T}$ = 6.2835\n",
       "\n",
       "Mean = 0.485, Variance = 0.019\n",
       "\n",
       "**All 12 Weeks:**\n",
       "\n",
       "$\\alpha_{T}$ = 6.9018\n",
       "\n",
       "$\\beta_{T}$ = 7.1864\n",
       "\n",
       "Mean = 0.490, Variance = 0.017"
      ]
     },
     "metadata": {},
     "output_type": "display_data"
    }
   ],
   "source": [
    "qt = np.linspace(beta.ppf(0, w1_alpha_T, w1_beta_T), beta.ppf(1, w1_alpha_T, w1_beta_T), 300)\n",
    "y_w1 = beta.pdf(qt, w1_alpha_T, w1_beta_T)\n",
    "y_w12 = beta.pdf(qt, allW_alpha_T, allW_beta_T)\n",
    "\n",
    "mean_w1, var_w1 = beta.stats(w1_alpha_T, w1_beta_T, moments='mv')\n",
    "mean_w1_comp = (w1_alpha_T)/(w1_alpha_T + w1_beta_T)\n",
    "mean_w12, var_w12 = beta.stats(allW_alpha_T, allW_beta_T, moments='mv')\n",
    "mean_w12_comp = (allW_alpha_T)/(allW_alpha_T + allW_beta_T)\n",
    "\n",
    "display_markdown(f'''**Week 1:**\n",
    "                 \n",
    "$\\\\alpha_{{T}}$ = {w1_alpha_T:0.4f}\n",
    "\n",
    "$\\\\beta_{{T}}$ = {w1_beta_T:0.4f}\n",
    "\n",
    "Mean = {mean_w1:0.3f}, Variance = {var_w1:0.3f}\n",
    "\n",
    "**All 12 Weeks:**\n",
    "\n",
    "$\\\\alpha_{{T}}$ = {allW_alpha_T:0.4f}\n",
    "\n",
    "$\\\\beta_{{T}}$ = {allW_beta_T:0.4f}\n",
    "\n",
    "Mean = {mean_w12:0.3f}, Variance = {var_w12:0.3f}''', raw=True)"
   ]
  },
  {
   "cell_type": "code",
   "execution_count": 25,
   "metadata": {},
   "outputs": [
    {
     "data": {
      "application/vnd.vegalite.v5+json": {
       "$schema": "https://vega.github.io/schema/vega-lite/v5.20.1.json",
       "config": {
        "axisX": {
         "grid": false
        },
        "axisY": {
         "grid": false
        },
        "view": {
         "continuousHeight": 300,
         "continuousWidth": 300,
         "stroke": null
        }
       },
       "data": {
        "name": "data-0ecbda6c04b596346627058b6236f07d"
       },
       "datasets": {
        "data-0ecbda6c04b596346627058b6236f07d": [
         {
          "PDF": 0,
          "Week 1 Only vs All 12 Weeks": "Week 1 PDF",
          "qT": 0
         },
         {
          "PDF": 2.160709060448953e-9,
          "Week 1 Only vs All 12 Weeks": "Week 1 PDF",
          "qT": 0.0033444816053511705
         },
         {
          "PDF": 6.3903043388001e-8,
          "Week 1 Only vs All 12 Weeks": "Week 1 PDF",
          "qT": 0.006688963210702341
         },
         {
          "PDF": 4.5997103168922064e-7,
          "Week 1 Only vs All 12 Weeks": "Week 1 PDF",
          "qT": 0.010033444816053512
         },
         {
          "PDF": 0.0000018563319300716724,
          "Week 1 Only vs All 12 Weeks": "Week 1 PDF",
          "qT": 0.013377926421404682
         },
         {
          "PDF": 0.000005456062041778482,
          "Week 1 Only vs All 12 Weeks": "Week 1 PDF",
          "qT": 0.016722408026755852
         },
         {
          "PDF": 0.000013121816516868748,
          "Week 1 Only vs All 12 Weeks": "Week 1 PDF",
          "qT": 0.020066889632107024
         },
         {
          "PDF": 0.000027478125483955373,
          "Week 1 Only vs All 12 Weeks": "Week 1 PDF",
          "qT": 0.023411371237458192
         },
         {
          "PDF": 0.00005199574132202486,
          "Week 1 Only vs All 12 Weeks": "Week 1 PDF",
          "qT": 0.026755852842809364
         },
         {
          "PDF": 0.00009105977577877528,
          "Week 1 Only vs All 12 Weeks": "Week 1 PDF",
          "qT": 0.030100334448160536
         },
         {
          "PDF": 0.00015002307980556677,
          "Week 1 Only vs All 12 Weeks": "Week 1 PDF",
          "qT": 0.033444816053511704
         },
         {
          "PDF": 0.00023524612914752567,
          "Week 1 Only vs All 12 Weeks": "Week 1 PDF",
          "qT": 0.03678929765886287
         },
         {
          "PDF": 0.00035412454177559784,
          "Week 1 Only vs All 12 Weeks": "Week 1 PDF",
          "qT": 0.04013377926421405
         },
         {
          "PDF": 0.0005151052483132402,
          "Week 1 Only vs All 12 Weeks": "Week 1 PDF",
          "qT": 0.043478260869565216
         },
         {
          "PDF": 0.0007276922524679858,
          "Week 1 Only vs All 12 Weeks": "Week 1 PDF",
          "qT": 0.046822742474916385
         },
         {
          "PDF": 0.0010024428485938214,
          "Week 1 Only vs All 12 Weeks": "Week 1 PDF",
          "qT": 0.05016722408026756
         },
         {
          "PDF": 0.001350955103843967,
          "Week 1 Only vs All 12 Weeks": "Week 1 PDF",
          "qT": 0.05351170568561873
         },
         {
          "PDF": 0.001785847360302186,
          "Week 1 Only vs All 12 Weeks": "Week 1 PDF",
          "qT": 0.056856187290969896
         },
         {
          "PDF": 0.002320730466231802,
          "Week 1 Only vs All 12 Weeks": "Week 1 PDF",
          "qT": 0.06020066889632107
         },
         {
          "PDF": 0.0029701734039168344,
          "Week 1 Only vs All 12 Weeks": "Week 1 PDF",
          "qT": 0.06354515050167224
         },
         {
          "PDF": 0.0037496629435983713,
          "Week 1 Only vs All 12 Weeks": "Week 1 PDF",
          "qT": 0.06688963210702341
         },
         {
          "PDF": 0.0046755579180753635,
          "Week 1 Only vs All 12 Weeks": "Week 1 PDF",
          "qT": 0.07023411371237458
         },
         {
          "PDF": 0.005765038680147779,
          "Week 1 Only vs All 12 Weeks": "Week 1 PDF",
          "qT": 0.07357859531772575
         },
         {
          "PDF": 0.007036052274851974,
          "Week 1 Only vs All 12 Weeks": "Week 1 PDF",
          "qT": 0.07692307692307693
         },
         {
          "PDF": 0.008507253830076647,
          "Week 1 Only vs All 12 Weeks": "Week 1 PDF",
          "qT": 0.0802675585284281
         },
         {
          "PDF": 0.010197944642417965,
          "Week 1 Only vs All 12 Weeks": "Week 1 PDF",
          "qT": 0.08361204013377926
         },
         {
          "PDF": 0.01212800740984403,
          "Week 1 Only vs All 12 Weeks": "Week 1 PDF",
          "qT": 0.08695652173913043
         },
         {
          "PDF": 0.014317839038739916,
          "Week 1 Only vs All 12 Weeks": "Week 1 PDF",
          "qT": 0.0903010033444816
         },
         {
          "PDF": 0.016788281430064802,
          "Week 1 Only vs All 12 Weeks": "Week 1 PDF",
          "qT": 0.09364548494983277
         },
         {
          "PDF": 0.019560550627569895,
          "Week 1 Only vs All 12 Weeks": "Week 1 PDF",
          "qT": 0.09698996655518395
         },
         {
          "PDF": 0.022656164690207998,
          "Week 1 Only vs All 12 Weeks": "Week 1 PDF",
          "qT": 0.10033444816053512
         },
         {
          "PDF": 0.02609687063093883,
          "Week 1 Only vs All 12 Weeks": "Week 1 PDF",
          "qT": 0.10367892976588629
         },
         {
          "PDF": 0.02990457074503257,
          "Week 1 Only vs All 12 Weeks": "Week 1 PDF",
          "qT": 0.10702341137123746
         },
         {
          "PDF": 0.03410124863264276,
          "Week 1 Only vs All 12 Weeks": "Week 1 PDF",
          "qT": 0.11036789297658862
         },
         {
          "PDF": 0.038708895202809616,
          "Week 1 Only vs All 12 Weeks": "Week 1 PDF",
          "qT": 0.11371237458193979
         },
         {
          "PDF": 0.043749434929121526,
          "Week 1 Only vs All 12 Weeks": "Week 1 PDF",
          "qT": 0.11705685618729096
         },
         {
          "PDF": 0.049244652610972266,
          "Week 1 Only vs All 12 Weeks": "Week 1 PDF",
          "qT": 0.12040133779264214
         },
         {
          "PDF": 0.055216120878666744,
          "Week 1 Only vs All 12 Weeks": "Week 1 PDF",
          "qT": 0.12374581939799331
         },
         {
          "PDF": 0.06168512866552162,
          "Week 1 Only vs All 12 Weeks": "Week 1 PDF",
          "qT": 0.12709030100334448
         },
         {
          "PDF": 0.0686726108555497,
          "Week 1 Only vs All 12 Weeks": "Week 1 PDF",
          "qT": 0.13043478260869565
         },
         {
          "PDF": 0.07619907930129065,
          "Week 1 Only vs All 12 Weeks": "Week 1 PDF",
          "qT": 0.13377926421404682
         },
         {
          "PDF": 0.08428455539282115,
          "Week 1 Only vs All 12 Weeks": "Week 1 PDF",
          "qT": 0.13712374581939799
         },
         {
          "PDF": 0.09294850434593795,
          "Week 1 Only vs All 12 Weeks": "Week 1 PDF",
          "qT": 0.14046822742474915
         },
         {
          "PDF": 0.1022097713649355,
          "Week 1 Only vs All 12 Weeks": "Week 1 PDF",
          "qT": 0.14381270903010032
         },
         {
          "PDF": 0.1120865198232657,
          "Week 1 Only vs All 12 Weeks": "Week 1 PDF",
          "qT": 0.1471571906354515
         },
         {
          "PDF": 0.12259617159368459,
          "Week 1 Only vs All 12 Weeks": "Week 1 PDF",
          "qT": 0.1505016722408027
         },
         {
          "PDF": 0.13375534964820726,
          "Week 1 Only vs All 12 Weeks": "Week 1 PDF",
          "qT": 0.15384615384615385
         },
         {
          "PDF": 0.14557982303732941,
          "Week 1 Only vs All 12 Weeks": "Week 1 PDF",
          "qT": 0.15719063545150502
         },
         {
          "PDF": 0.15808445434749765,
          "Week 1 Only vs All 12 Weeks": "Week 1 PDF",
          "qT": 0.1605351170568562
         },
         {
          "PDF": 0.17128314972570835,
          "Week 1 Only vs All 12 Weeks": "Week 1 PDF",
          "qT": 0.16387959866220736
         },
         {
          "PDF": 0.18518881155040093,
          "Week 1 Only vs All 12 Weeks": "Week 1 PDF",
          "qT": 0.16722408026755853
         },
         {
          "PDF": 0.1998132938184324,
          "Week 1 Only vs All 12 Weeks": "Week 1 PDF",
          "qT": 0.1705685618729097
         },
         {
          "PDF": 0.21516736030891415,
          "Week 1 Only vs All 12 Weeks": "Week 1 PDF",
          "qT": 0.17391304347826086
         },
         {
          "PDF": 0.23126064557599804,
          "Week 1 Only vs All 12 Weeks": "Week 1 PDF",
          "qT": 0.17725752508361203
         },
         {
          "PDF": 0.2481016188143764,
          "Week 1 Only vs All 12 Weeks": "Week 1 PDF",
          "qT": 0.1806020066889632
         },
         {
          "PDF": 0.26569755063320694,
          "Week 1 Only vs All 12 Weeks": "Week 1 PDF",
          "qT": 0.18394648829431437
         },
         {
          "PDF": 0.28405448276648254,
          "Week 1 Only vs All 12 Weeks": "Week 1 PDF",
          "qT": 0.18729096989966554
         },
         {
          "PDF": 0.3031772007404574,
          "Week 1 Only vs All 12 Weeks": "Week 1 PDF",
          "qT": 0.1906354515050167
         },
         {
          "PDF": 0.32306920951162194,
          "Week 1 Only vs All 12 Weeks": "Week 1 PDF",
          "qT": 0.1939799331103679
         },
         {
          "PDF": 0.34373271208192624,
          "Week 1 Only vs All 12 Weeks": "Week 1 PDF",
          "qT": 0.19732441471571907
         },
         {
          "PDF": 0.365168591091396,
          "Week 1 Only vs All 12 Weeks": "Week 1 PDF",
          "qT": 0.20066889632107024
         },
         {
          "PDF": 0.3873763933820519,
          "Week 1 Only vs All 12 Weeks": "Week 1 PDF",
          "qT": 0.2040133779264214
         },
         {
          "PDF": 0.4103543175210424,
          "Week 1 Only vs All 12 Weeks": "Week 1 PDF",
          "qT": 0.20735785953177258
         },
         {
          "PDF": 0.43409920426520915,
          "Week 1 Only vs All 12 Weeks": "Week 1 PDF",
          "qT": 0.21070234113712374
         },
         {
          "PDF": 0.45860652994380974,
          "Week 1 Only vs All 12 Weeks": "Week 1 PDF",
          "qT": 0.2140468227424749
         },
         {
          "PDF": 0.48387040273094967,
          "Week 1 Only vs All 12 Weeks": "Week 1 PDF",
          "qT": 0.21739130434782608
         },
         {
          "PDF": 0.5098835617742968,
          "Week 1 Only vs All 12 Weeks": "Week 1 PDF",
          "qT": 0.22073578595317725
         },
         {
          "PDF": 0.53663737914193,
          "Week 1 Only vs All 12 Weeks": "Week 1 PDF",
          "qT": 0.22408026755852842
         },
         {
          "PDF": 0.5641218645447265,
          "Week 1 Only vs All 12 Weeks": "Week 1 PDF",
          "qT": 0.22742474916387959
         },
         {
          "PDF": 0.5923256727873787,
          "Week 1 Only vs All 12 Weeks": "Week 1 PDF",
          "qT": 0.23076923076923075
         },
         {
          "PDF": 0.6212361138971823,
          "Week 1 Only vs All 12 Weeks": "Week 1 PDF",
          "qT": 0.23411371237458192
         },
         {
          "PDF": 0.6508391658758474,
          "Week 1 Only vs All 12 Weeks": "Week 1 PDF",
          "qT": 0.23745819397993312
         },
         {
          "PDF": 0.6811194900160874,
          "Week 1 Only vs All 12 Weeks": "Week 1 PDF",
          "qT": 0.2408026755852843
         },
         {
          "PDF": 0.7120604487212663,
          "Week 1 Only vs All 12 Weeks": "Week 1 PDF",
          "qT": 0.24414715719063546
         },
         {
          "PDF": 0.7436441257632901,
          "Week 1 Only vs All 12 Weeks": "Week 1 PDF",
          "qT": 0.24749163879598662
         },
         {
          "PDF": 0.775851348910896,
          "Week 1 Only vs All 12 Weeks": "Week 1 PDF",
          "qT": 0.2508361204013378
         },
         {
          "PDF": 0.8086617148577574,
          "Week 1 Only vs All 12 Weeks": "Week 1 PDF",
          "qT": 0.25418060200668896
         },
         {
          "PDF": 0.8420536163772245,
          "Week 1 Only vs All 12 Weeks": "Week 1 PDF",
          "qT": 0.25752508361204013
         },
         {
          "PDF": 0.8760042716281083,
          "Week 1 Only vs All 12 Weeks": "Week 1 PDF",
          "qT": 0.2608695652173913
         },
         {
          "PDF": 0.9104897555337202,
          "Week 1 Only vs All 12 Weeks": "Week 1 PDF",
          "qT": 0.26421404682274247
         },
         {
          "PDF": 0.945485033154348,
          "Week 1 Only vs All 12 Weeks": "Week 1 PDF",
          "qT": 0.26755852842809363
         },
         {
          "PDF": 0.9809639949714656,
          "Week 1 Only vs All 12 Weeks": "Week 1 PDF",
          "qT": 0.2709030100334448
         },
         {
          "PDF": 1.0168994940003144,
          "Week 1 Only vs All 12 Weeks": "Week 1 PDF",
          "qT": 0.27424749163879597
         },
         {
          "PDF": 1.0532633846459496,
          "Week 1 Only vs All 12 Weeks": "Week 1 PDF",
          "qT": 0.27759197324414714
         },
         {
          "PDF": 1.090026563216484,
          "Week 1 Only vs All 12 Weeks": "Week 1 PDF",
          "qT": 0.2809364548494983
         },
         {
          "PDF": 1.1271590100060858,
          "Week 1 Only vs All 12 Weeks": "Week 1 PDF",
          "qT": 0.2842809364548495
         },
         {
          "PDF": 1.164629832859198,
          "Week 1 Only vs All 12 Weeks": "Week 1 PDF",
          "qT": 0.28762541806020064
         },
         {
          "PDF": 1.2024073121266021,
          "Week 1 Only vs All 12 Weeks": "Week 1 PDF",
          "qT": 0.2909698996655518
         },
         {
          "PDF": 1.240458946923152,
          "Week 1 Only vs All 12 Weeks": "Week 1 PDF",
          "qT": 0.294314381270903
         },
         {
          "PDF": 1.278751502596423,
          "Week 1 Only vs All 12 Weeks": "Week 1 PDF",
          "qT": 0.29765886287625415
         },
         {
          "PDF": 1.3172510593150653,
          "Week 1 Only vs All 12 Weeks": "Week 1 PDF",
          "qT": 0.3010033444816054
         },
         {
          "PDF": 1.3559230616852713,
          "Week 1 Only vs All 12 Weeks": "Week 1 PDF",
          "qT": 0.30434782608695654
         },
         {
          "PDF": 1.3947323693036708,
          "Week 1 Only vs All 12 Weeks": "Week 1 PDF",
          "qT": 0.3076923076923077
         },
         {
          "PDF": 1.4336433081547484,
          "Week 1 Only vs All 12 Weeks": "Week 1 PDF",
          "qT": 0.3110367892976589
         },
         {
          "PDF": 1.4726197227610933,
          "Week 1 Only vs All 12 Weeks": "Week 1 PDF",
          "qT": 0.31438127090301005
         },
         {
          "PDF": 1.5116250289948576,
          "Week 1 Only vs All 12 Weeks": "Week 1 PDF",
          "qT": 0.3177257525083612
         },
         {
          "PDF": 1.5506222674591406,
          "Week 1 Only vs All 12 Weeks": "Week 1 PDF",
          "qT": 0.3210702341137124
         },
         {
          "PDF": 1.589574157348422,
          "Week 1 Only vs All 12 Weeks": "Week 1 PDF",
          "qT": 0.32441471571906355
         },
         {
          "PDF": 1.6284431506977117,
          "Week 1 Only vs All 12 Weeks": "Week 1 PDF",
          "qT": 0.3277591973244147
         },
         {
          "PDF": 1.6671914869306734,
          "Week 1 Only vs All 12 Weeks": "Week 1 PDF",
          "qT": 0.3311036789297659
         },
         {
          "PDF": 1.7057812476177474,
          "Week 1 Only vs All 12 Weeks": "Week 1 PDF",
          "qT": 0.33444816053511706
         },
         {
          "PDF": 1.7441744113560993,
          "Week 1 Only vs All 12 Weeks": "Week 1 PDF",
          "qT": 0.3377926421404682
         },
         {
          "PDF": 1.782332908684278,
          "Week 1 Only vs All 12 Weeks": "Week 1 PDF",
          "qT": 0.3411371237458194
         },
         {
          "PDF": 1.8202186769452948,
          "Week 1 Only vs All 12 Weeks": "Week 1 PDF",
          "qT": 0.34448160535117056
         },
         {
          "PDF": 1.857793715013145,
          "Week 1 Only vs All 12 Weeks": "Week 1 PDF",
          "qT": 0.34782608695652173
         },
         {
          "PDF": 1.895020137798916,
          "Week 1 Only vs All 12 Weeks": "Week 1 PDF",
          "qT": 0.3511705685618729
         },
         {
          "PDF": 1.9318602304539678,
          "Week 1 Only vs All 12 Weeks": "Week 1 PDF",
          "qT": 0.35451505016722407
         },
         {
          "PDF": 1.968276502188996,
          "Week 1 Only vs All 12 Weeks": "Week 1 PDF",
          "qT": 0.35785953177257523
         },
         {
          "PDF": 2.004231739629336,
          "Week 1 Only vs All 12 Weeks": "Week 1 PDF",
          "qT": 0.3612040133779264
         },
         {
          "PDF": 2.0396890596283037,
          "Week 1 Only vs All 12 Weeks": "Week 1 PDF",
          "qT": 0.36454849498327757
         },
         {
          "PDF": 2.0746119614620904,
          "Week 1 Only vs All 12 Weeks": "Week 1 PDF",
          "qT": 0.36789297658862874
         },
         {
          "PDF": 2.108964378331346,
          "Week 1 Only vs All 12 Weeks": "Week 1 PDF",
          "qT": 0.3712374581939799
         },
         {
          "PDF": 2.1427107280963167,
          "Week 1 Only vs All 12 Weeks": "Week 1 PDF",
          "qT": 0.3745819397993311
         },
         {
          "PDF": 2.1758159631743195,
          "Week 1 Only vs All 12 Weeks": "Week 1 PDF",
          "qT": 0.37792642140468224
         },
         {
          "PDF": 2.2082456195300866,
          "Week 1 Only vs All 12 Weeks": "Week 1 PDF",
          "qT": 0.3812709030100334
         },
         {
          "PDF": 2.239965864691558,
          "Week 1 Only vs All 12 Weeks": "Week 1 PDF",
          "qT": 0.3846153846153846
         },
         {
          "PDF": 2.270943544725668,
          "Week 1 Only vs All 12 Weeks": "Week 1 PDF",
          "qT": 0.3879598662207358
         },
         {
          "PDF": 2.3011462301106533,
          "Week 1 Only vs All 12 Weeks": "Week 1 PDF",
          "qT": 0.391304347826087
         },
         {
          "PDF": 2.330542260443626,
          "Week 1 Only vs All 12 Weeks": "Week 1 PDF",
          "qT": 0.39464882943143814
         },
         {
          "PDF": 2.3591007879242016,
          "Week 1 Only vs All 12 Weeks": "Week 1 PDF",
          "qT": 0.3979933110367893
         },
         {
          "PDF": 2.3867918195572204,
          "Week 1 Only vs All 12 Weeks": "Week 1 PDF",
          "qT": 0.4013377926421405
         },
         {
          "PDF": 2.413586258019832,
          "Week 1 Only vs All 12 Weeks": "Week 1 PDF",
          "qT": 0.40468227424749165
         },
         {
          "PDF": 2.439455941140481,
          "Week 1 Only vs All 12 Weeks": "Week 1 PDF",
          "qT": 0.4080267558528428
         },
         {
          "PDF": 2.464373679939631,
          "Week 1 Only vs All 12 Weeks": "Week 1 PDF",
          "qT": 0.411371237458194
         },
         {
          "PDF": 2.4883132951844407,
          "Week 1 Only vs All 12 Weeks": "Week 1 PDF",
          "qT": 0.41471571906354515
         },
         {
          "PDF": 2.511249652411975,
          "Week 1 Only vs All 12 Weeks": "Week 1 PDF",
          "qT": 0.4180602006688963
         },
         {
          "PDF": 2.5331586953779452,
          "Week 1 Only vs All 12 Weeks": "Week 1 PDF",
          "qT": 0.4214046822742475
         },
         {
          "PDF": 2.5540174778904086,
          "Week 1 Only vs All 12 Weeks": "Week 1 PDF",
          "qT": 0.42474916387959866
         },
         {
          "PDF": 2.5738041939903193,
          "Week 1 Only vs All 12 Weeks": "Week 1 PDF",
          "qT": 0.4280936454849498
         },
         {
          "PDF": 2.5924982064433015,
          "Week 1 Only vs All 12 Weeks": "Week 1 PDF",
          "qT": 0.431438127090301
         },
         {
          "PDF": 2.610080073509575,
          "Week 1 Only vs All 12 Weeks": "Week 1 PDF",
          "qT": 0.43478260869565216
         },
         {
          "PDF": 2.6265315739613344,
          "Week 1 Only vs All 12 Weeks": "Week 1 PDF",
          "qT": 0.43812709030100333
         },
         {
          "PDF": 2.6418357303196562,
          "Week 1 Only vs All 12 Weeks": "Week 1 PDF",
          "qT": 0.4414715719063545
         },
         {
          "PDF": 2.655976830285288,
          "Week 1 Only vs All 12 Weeks": "Week 1 PDF",
          "qT": 0.44481605351170567
         },
         {
          "PDF": 2.6689404463404656,
          "Week 1 Only vs All 12 Weeks": "Week 1 PDF",
          "qT": 0.44816053511705684
         },
         {
          "PDF": 2.6807134535013084,
          "Week 1 Only vs All 12 Weeks": "Week 1 PDF",
          "qT": 0.451505016722408
         },
         {
          "PDF": 2.691284045202983,
          "Week 1 Only vs All 12 Weeks": "Week 1 PDF",
          "qT": 0.45484949832775917
         },
         {
          "PDF": 2.7006417473024213,
          "Week 1 Only vs All 12 Weeks": "Week 1 PDF",
          "qT": 0.45819397993311034
         },
         {
          "PDF": 2.7087774301858407,
          "Week 1 Only vs All 12 Weeks": "Week 1 PDF",
          "qT": 0.4615384615384615
         },
         {
          "PDF": 2.715683318971049,
          "Week 1 Only vs All 12 Weeks": "Week 1 PDF",
          "qT": 0.4648829431438127
         },
         {
          "PDF": 2.72135300179695,
          "Week 1 Only vs All 12 Weeks": "Week 1 PDF",
          "qT": 0.46822742474916385
         },
         {
          "PDF": 2.7257814361952244,
          "Week 1 Only vs All 12 Weeks": "Week 1 PDF",
          "qT": 0.47157190635451507
         },
         {
          "PDF": 2.7289649535419134,
          "Week 1 Only vs All 12 Weeks": "Week 1 PDF",
          "qT": 0.47491638795986624
         },
         {
          "PDF": 2.730901261588799,
          "Week 1 Only vs All 12 Weeks": "Week 1 PDF",
          "qT": 0.4782608695652174
         },
         {
          "PDF": 2.731589445077422,
          "Week 1 Only vs All 12 Weeks": "Week 1 PDF",
          "qT": 0.4816053511705686
         },
         {
          "PDF": 2.731029964440783,
          "Week 1 Only vs All 12 Weeks": "Week 1 PDF",
          "qT": 0.48494983277591974
         },
         {
          "PDF": 2.7292246526003856,
          "Week 1 Only vs All 12 Weeks": "Week 1 PDF",
          "qT": 0.4882943143812709
         },
         {
          "PDF": 2.726176709868809,
          "Week 1 Only vs All 12 Weeks": "Week 1 PDF",
          "qT": 0.4916387959866221
         },
         {
          "PDF": 2.7218906969702754,
          "Week 1 Only vs All 12 Weeks": "Week 1 PDF",
          "qT": 0.49498327759197325
         },
         {
          "PDF": 2.7163725261943545,
          "Week 1 Only vs All 12 Weeks": "Week 1 PDF",
          "qT": 0.4983277591973244
         },
         {
          "PDF": 2.7096294507001097,
          "Week 1 Only vs All 12 Weeks": "Week 1 PDF",
          "qT": 0.5016722408026756
         },
         {
          "PDF": 2.701670051990518,
          "Week 1 Only vs All 12 Weeks": "Week 1 PDF",
          "qT": 0.5050167224080268
         },
         {
          "PDF": 2.6925042255793445,
          "Week 1 Only vs All 12 Weeks": "Week 1 PDF",
          "qT": 0.5083612040133779
         },
         {
          "PDF": 2.6821431648748155,
          "Week 1 Only vs All 12 Weeks": "Week 1 PDF",
          "qT": 0.5117056856187291
         },
         {
          "PDF": 2.6705993433069413,
          "Week 1 Only vs All 12 Weeks": "Week 1 PDF",
          "qT": 0.5150501672240803
         },
         {
          "PDF": 2.657886494727397,
          "Week 1 Only vs All 12 Weeks": "Week 1 PDF",
          "qT": 0.5183946488294314
         },
         {
          "PDF": 2.6440195921131604,
          "Week 1 Only vs All 12 Weeks": "Week 1 PDF",
          "qT": 0.5217391304347826
         },
         {
          "PDF": 2.6290148246073177,
          "Week 1 Only vs All 12 Weeks": "Week 1 PDF",
          "qT": 0.5250836120401338
         },
         {
          "PDF": 2.61288957293241,
          "Week 1 Only vs All 12 Weeks": "Week 1 PDF",
          "qT": 0.5284280936454849
         },
         {
          "PDF": 2.5956623832140315,
          "Week 1 Only vs All 12 Weeks": "Week 1 PDF",
          "qT": 0.5317725752508361
         },
         {
          "PDF": 2.5773529392541836,
          "Week 1 Only vs All 12 Weeks": "Week 1 PDF",
          "qT": 0.5351170568561873
         },
         {
          "PDF": 2.557982033296013,
          "Week 1 Only vs All 12 Weeks": "Week 1 PDF",
          "qT": 0.5384615384615384
         },
         {
          "PDF": 2.5375715353235417,
          "Week 1 Only vs All 12 Weeks": "Week 1 PDF",
          "qT": 0.5418060200668896
         },
         {
          "PDF": 2.516144360941712,
          "Week 1 Only vs All 12 Weeks": "Week 1 PDF",
          "qT": 0.5451505016722408
         },
         {
          "PDF": 2.493724437884163,
          "Week 1 Only vs All 12 Weeks": "Week 1 PDF",
          "qT": 0.5484949832775919
         },
         {
          "PDF": 2.4703366711977104,
          "Week 1 Only vs All 12 Weeks": "Week 1 PDF",
          "qT": 0.5518394648829431
         },
         {
          "PDF": 2.4460069071543695,
          "Week 1 Only vs All 12 Weeks": "Week 1 PDF",
          "qT": 0.5551839464882943
         },
         {
          "PDF": 2.420761895943442,
          "Week 1 Only vs All 12 Weeks": "Week 1 PDF",
          "qT": 0.5585284280936454
         },
         {
          "PDF": 2.3946292531976665,
          "Week 1 Only vs All 12 Weeks": "Week 1 PDF",
          "qT": 0.5618729096989966
         },
         {
          "PDF": 2.3676374204092254,
          "Week 1 Only vs All 12 Weeks": "Week 1 PDF",
          "qT": 0.5652173913043478
         },
         {
          "PDF": 2.3398156242925934,
          "Week 1 Only vs All 12 Weeks": "Week 1 PDF",
          "qT": 0.568561872909699
         },
         {
          "PDF": 2.3111938351529893,
          "Week 1 Only vs All 12 Weeks": "Week 1 PDF",
          "qT": 0.5719063545150501
         },
         {
          "PDF": 2.281802724320231,
          "Week 1 Only vs All 12 Weeks": "Week 1 PDF",
          "qT": 0.5752508361204013
         },
         {
          "PDF": 2.251673620709318,
          "Week 1 Only vs All 12 Weeks": "Week 1 PDF",
          "qT": 0.5785953177257525
         },
         {
          "PDF": 2.220838466570232,
          "Week 1 Only vs All 12 Weeks": "Week 1 PDF",
          "qT": 0.5819397993311036
         },
         {
          "PDF": 2.1893297724905487,
          "Week 1 Only vs All 12 Weeks": "Week 1 PDF",
          "qT": 0.5852842809364548
         },
         {
          "PDF": 2.1571805717156587,
          "Week 1 Only vs All 12 Weeks": "Week 1 PDF",
          "qT": 0.588628762541806
         },
         {
          "PDF": 2.124424373852317,
          "Week 1 Only vs All 12 Weeks": "Week 1 PDF",
          "qT": 0.5919732441471571
         },
         {
          "PDF": 2.0910951180222486,
          "Week 1 Only vs All 12 Weeks": "Week 1 PDF",
          "qT": 0.5953177257525083
         },
         {
          "PDF": 2.05722712553337,
          "Week 1 Only vs All 12 Weeks": "Week 1 PDF",
          "qT": 0.5986622073578595
         },
         {
          "PDF": 2.0228550521370474,
          "Week 1 Only vs All 12 Weeks": "Week 1 PDF",
          "qT": 0.6020066889632107
         },
         {
          "PDF": 1.9880138399404312,
          "Week 1 Only vs All 12 Weeks": "Week 1 PDF",
          "qT": 0.6053511705685619
         },
         {
          "PDF": 1.9527386690436193,
          "Week 1 Only vs All 12 Weeks": "Week 1 PDF",
          "qT": 0.6086956521739131
         },
         {
          "PDF": 1.9170649089719884,
          "Week 1 Only vs All 12 Weeks": "Week 1 PDF",
          "qT": 0.6120401337792643
         },
         {
          "PDF": 1.8810280699744093,
          "Week 1 Only vs All 12 Weeks": "Week 1 PDF",
          "qT": 0.6153846153846154
         },
         {
          "PDF": 1.8446637542585496,
          "Week 1 Only vs All 12 Weeks": "Week 1 PDF",
          "qT": 0.6187290969899666
         },
         {
          "PDF": 1.8080076072347728,
          "Week 1 Only vs All 12 Weeks": "Week 1 PDF",
          "qT": 0.6220735785953178
         },
         {
          "PDF": 1.7710952688403065,
          "Week 1 Only vs All 12 Weeks": "Week 1 PDF",
          "qT": 0.6254180602006689
         },
         {
          "PDF": 1.7339623250155891,
          "Week 1 Only vs All 12 Weeks": "Week 1 PDF",
          "qT": 0.6287625418060201
         },
         {
          "PDF": 1.6966442594046922,
          "Week 1 Only vs All 12 Weeks": "Week 1 PDF",
          "qT": 0.6321070234113713
         },
         {
          "PDF": 1.6591764053517302,
          "Week 1 Only vs All 12 Weeks": "Week 1 PDF",
          "qT": 0.6354515050167224
         },
         {
          "PDF": 1.6215938982650207,
          "Week 1 Only vs All 12 Weeks": "Week 1 PDF",
          "qT": 0.6387959866220736
         },
         {
          "PDF": 1.5839316284205962,
          "Week 1 Only vs All 12 Weeks": "Week 1 PDF",
          "qT": 0.6421404682274248
         },
         {
          "PDF": 1.546224194276307,
          "Week 1 Only vs All 12 Weeks": "Week 1 PDF",
          "qT": 0.6454849498327759
         },
         {
          "PDF": 1.508505856367471,
          "Week 1 Only vs All 12 Weeks": "Week 1 PDF",
          "qT": 0.6488294314381271
         },
         {
          "PDF": 1.470810491854364,
          "Week 1 Only vs All 12 Weeks": "Week 1 PDF",
          "qT": 0.6521739130434783
         },
         {
          "PDF": 1.433171549791595,
          "Week 1 Only vs All 12 Weeks": "Week 1 PDF",
          "qT": 0.6555183946488294
         },
         {
          "PDF": 1.3956220071883032,
          "Week 1 Only vs All 12 Weeks": "Week 1 PDF",
          "qT": 0.6588628762541806
         },
         {
          "PDF": 1.3581943259278695,
          "Week 1 Only vs All 12 Weeks": "Week 1 PDF",
          "qT": 0.6622073578595318
         },
         {
          "PDF": 1.320920410614413,
          "Week 1 Only vs All 12 Weeks": "Week 1 PDF",
          "qT": 0.6655518394648829
         },
         {
          "PDF": 1.2838315674130327,
          "Week 1 Only vs All 12 Weeks": "Week 1 PDF",
          "qT": 0.6688963210702341
         },
         {
          "PDF": 1.2469584639491065,
          "Week 1 Only vs All 12 Weeks": "Week 1 PDF",
          "qT": 0.6722408026755853
         },
         {
          "PDF": 1.2103310903312832,
          "Week 1 Only vs All 12 Weeks": "Week 1 PDF",
          "qT": 0.6755852842809364
         },
         {
          "PDF": 1.1739787213612685,
          "Week 1 Only vs All 12 Weeks": "Week 1 PDF",
          "qT": 0.6789297658862876
         },
         {
          "PDF": 1.1379298799923878,
          "Week 1 Only vs All 12 Weeks": "Week 1 PDF",
          "qT": 0.6822742474916388
         },
         {
          "PDF": 1.1022123020973233,
          "Week 1 Only vs All 12 Weeks": "Week 1 PDF",
          "qT": 0.68561872909699
         },
         {
          "PDF": 1.0668529026040108,
          "Week 1 Only vs All 12 Weeks": "Week 1 PDF",
          "qT": 0.6889632107023411
         },
         {
          "PDF": 1.0318777430569983,
          "Week 1 Only vs All 12 Weeks": "Week 1 PDF",
          "qT": 0.6923076923076923
         },
         {
          "PDF": 0.997312000659864,
          "Week 1 Only vs All 12 Weeks": "Week 1 PDF",
          "qT": 0.6956521739130435
         },
         {
          "PDF": 0.9631799388525109,
          "Week 1 Only vs All 12 Weeks": "Week 1 PDF",
          "qT": 0.6989966555183946
         },
         {
          "PDF": 0.9295048794751615,
          "Week 1 Only vs All 12 Weeks": "Week 1 PDF",
          "qT": 0.7023411371237458
         },
         {
          "PDF": 0.8963091765689748,
          "Week 1 Only vs All 12 Weeks": "Week 1 PDF",
          "qT": 0.705685618729097
         },
         {
          "PDF": 0.8636141918609825,
          "Week 1 Only vs All 12 Weeks": "Week 1 PDF",
          "qT": 0.7090301003344481
         },
         {
          "PDF": 0.831440271978936,
          "Week 1 Only vs All 12 Weeks": "Week 1 PDF",
          "qT": 0.7123745819397993
         },
         {
          "PDF": 0.7998067274392711,
          "Week 1 Only vs All 12 Weeks": "Week 1 PDF",
          "qT": 0.7157190635451505
         },
         {
          "PDF": 0.7687318134490648,
          "Week 1 Only vs All 12 Weeks": "Week 1 PDF",
          "qT": 0.7190635451505016
         },
         {
          "PDF": 0.7382327125603019,
          "Week 1 Only vs All 12 Weeks": "Week 1 PDF",
          "qT": 0.7224080267558528
         },
         {
          "PDF": 0.7083255192122097,
          "Week 1 Only vs All 12 Weeks": "Week 1 PDF",
          "qT": 0.725752508361204
         },
         {
          "PDF": 0.6790252261947383,
          "Week 1 Only vs All 12 Weeks": "Week 1 PDF",
          "qT": 0.7290969899665551
         },
         {
          "PDF": 0.6503457130634326,
          "Week 1 Only vs All 12 Weeks": "Week 1 PDF",
          "qT": 0.7324414715719063
         },
         {
          "PDF": 0.6222997365331187,
          "Week 1 Only vs All 12 Weeks": "Week 1 PDF",
          "qT": 0.7357859531772575
         },
         {
          "PDF": 0.5948989228748073,
          "Week 1 Only vs All 12 Weeks": "Week 1 PDF",
          "qT": 0.7391304347826086
         },
         {
          "PDF": 0.5681537623371843,
          "Week 1 Only vs All 12 Weeks": "Week 1 PDF",
          "qT": 0.7424749163879598
         },
         {
          "PDF": 0.5420736056108811,
          "Week 1 Only vs All 12 Weeks": "Week 1 PDF",
          "qT": 0.745819397993311
         },
         {
          "PDF": 0.516666662350476,
          "Week 1 Only vs All 12 Weeks": "Week 1 PDF",
          "qT": 0.7491638795986622
         },
         {
          "PDF": 0.4919400017658235,
          "Week 1 Only vs All 12 Weeks": "Week 1 PDF",
          "qT": 0.7525083612040133
         },
         {
          "PDF": 0.46789955529091115,
          "Week 1 Only vs All 12 Weeks": "Week 1 PDF",
          "qT": 0.7558528428093645
         },
         {
          "PDF": 0.4445501213348988,
          "Week 1 Only vs All 12 Weeks": "Week 1 PDF",
          "qT": 0.7591973244147157
         },
         {
          "PDF": 0.42189537211639644,
          "Week 1 Only vs All 12 Weeks": "Week 1 PDF",
          "qT": 0.7625418060200668
         },
         {
          "PDF": 0.3999378625783718,
          "Week 1 Only vs All 12 Weeks": "Week 1 PDF",
          "qT": 0.765886287625418
         },
         {
          "PDF": 0.37867904137729297,
          "Week 1 Only vs All 12 Weeks": "Week 1 PDF",
          "qT": 0.7692307692307692
         },
         {
          "PDF": 0.35811926393625004,
          "Week 1 Only vs All 12 Weeks": "Week 1 PDF",
          "qT": 0.7725752508361204
         },
         {
          "PDF": 0.3382578075479225,
          "Week 1 Only vs All 12 Weeks": "Week 1 PDF",
          "qT": 0.7759197324414716
         },
         {
          "PDF": 0.3190928885091659,
          "Week 1 Only vs All 12 Weeks": "Week 1 PDF",
          "qT": 0.7792642140468228
         },
         {
          "PDF": 0.3006216812650211,
          "Week 1 Only vs All 12 Weeks": "Week 1 PDF",
          "qT": 0.782608695652174
         },
         {
          "PDF": 0.2828403395356953,
          "Week 1 Only vs All 12 Weeks": "Week 1 PDF",
          "qT": 0.7859531772575251
         },
         {
          "PDF": 0.2657440193959135,
          "Week 1 Only vs All 12 Weeks": "Week 1 PDF",
          "qT": 0.7892976588628763
         },
         {
          "PDF": 0.24932690427171927,
          "Week 1 Only vs All 12 Weeks": "Week 1 PDF",
          "qT": 0.7926421404682275
         },
         {
          "PDF": 0.23358223181545495,
          "Week 1 Only vs All 12 Weeks": "Week 1 PDF",
          "qT": 0.7959866220735786
         },
         {
          "PDF": 0.21850232261525682,
          "Week 1 Only vs All 12 Weeks": "Week 1 PDF",
          "qT": 0.7993311036789298
         },
         {
          "PDF": 0.20407861069090089,
          "Week 1 Only vs All 12 Weeks": "Week 1 PDF",
          "qT": 0.802675585284281
         },
         {
          "PDF": 0.19030167572334805,
          "Week 1 Only vs All 12 Weeks": "Week 1 PDF",
          "qT": 0.8060200668896321
         },
         {
          "PDF": 0.17716127696073775,
          "Week 1 Only vs All 12 Weeks": "Week 1 PDF",
          "qT": 0.8093645484949833
         },
         {
          "PDF": 0.16464638873897577,
          "Week 1 Only vs All 12 Weeks": "Week 1 PDF",
          "qT": 0.8127090301003345
         },
         {
          "PDF": 0.15274523755040445,
          "Week 1 Only vs All 12 Weeks": "Week 1 PDF",
          "qT": 0.8160535117056856
         },
         {
          "PDF": 0.14144534058933714,
          "Week 1 Only vs All 12 Weeks": "Week 1 PDF",
          "qT": 0.8193979933110368
         },
         {
          "PDF": 0.1307335456985286,
          "Week 1 Only vs All 12 Weeks": "Week 1 PDF",
          "qT": 0.822742474916388
         },
         {
          "PDF": 0.12059607263589131,
          "Week 1 Only vs All 12 Weeks": "Week 1 PDF",
          "qT": 0.8260869565217391
         },
         {
          "PDF": 0.1110185555760013,
          "Week 1 Only vs All 12 Weeks": "Week 1 PDF",
          "qT": 0.8294314381270903
         },
         {
          "PDF": 0.10198608675614783,
          "Week 1 Only vs All 12 Weeks": "Week 1 PDF",
          "qT": 0.8327759197324415
         },
         {
          "PDF": 0.09348326117189378,
          "Week 1 Only vs All 12 Weeks": "Week 1 PDF",
          "qT": 0.8361204013377926
         },
         {
          "PDF": 0.08549422222231733,
          "Week 1 Only vs All 12 Weeks": "Week 1 PDF",
          "qT": 0.8394648829431438
         },
         {
          "PDF": 0.07800270820032283,
          "Week 1 Only vs All 12 Weeks": "Week 1 PDF",
          "qT": 0.842809364548495
         },
         {
          "PDF": 0.07099209951863737,
          "Week 1 Only vs All 12 Weeks": "Week 1 PDF",
          "qT": 0.8461538461538461
         },
         {
          "PDF": 0.06444546655736547,
          "Week 1 Only vs All 12 Weeks": "Week 1 PDF",
          "qT": 0.8494983277591973
         },
         {
          "PDF": 0.058345618014263315,
          "Week 1 Only vs All 12 Weeks": "Week 1 PDF",
          "qT": 0.8528428093645485
         },
         {
          "PDF": 0.052675149634224455,
          "Week 1 Only vs All 12 Weeks": "Week 1 PDF",
          "qT": 0.8561872909698997
         },
         {
          "PDF": 0.047416493189857835,
          "Week 1 Only vs All 12 Weeks": "Week 1 PDF",
          "qT": 0.8595317725752508
         },
         {
          "PDF": 0.04255196558049101,
          "Week 1 Only vs All 12 Weeks": "Week 1 PDF",
          "qT": 0.862876254180602
         },
         {
          "PDF": 0.03806381791246442,
          "Week 1 Only vs All 12 Weeks": "Week 1 PDF",
          "qT": 0.8662207357859532
         },
         {
          "PDF": 0.03393428441920903,
          "Week 1 Only vs All 12 Weeks": "Week 1 PDF",
          "qT": 0.8695652173913043
         },
         {
          "PDF": 0.030145631075331022,
          "Week 1 Only vs All 12 Weeks": "Week 1 PDF",
          "qT": 0.8729096989966555
         },
         {
          "PDF": 0.026680203754787236,
          "Week 1 Only vs All 12 Weeks": "Week 1 PDF",
          "qT": 0.8762541806020067
         },
         {
          "PDF": 0.023520475779232025,
          "Week 1 Only vs All 12 Weeks": "Week 1 PDF",
          "qT": 0.8795986622073578
         },
         {
          "PDF": 0.020649094698779367,
          "Week 1 Only vs All 12 Weeks": "Week 1 PDF",
          "qT": 0.882943143812709
         },
         {
          "PDF": 0.018048928143764298,
          "Week 1 Only vs All 12 Weeks": "Week 1 PDF",
          "qT": 0.8862876254180602
         },
         {
          "PDF": 0.0157031085826387,
          "Week 1 Only vs All 12 Weeks": "Week 1 PDF",
          "qT": 0.8896321070234113
         },
         {
          "PDF": 0.013595076817915639,
          "Week 1 Only vs All 12 Weeks": "Week 1 PDF",
          "qT": 0.8929765886287625
         },
         {
          "PDF": 0.01170862404911475,
          "Week 1 Only vs All 12 Weeks": "Week 1 PDF",
          "qT": 0.8963210702341137
         },
         {
          "PDF": 0.010027932328993688,
          "Week 1 Only vs All 12 Weeks": "Week 1 PDF",
          "qT": 0.8996655518394648
         },
         {
          "PDF": 0.008537613237005116,
          "Week 1 Only vs All 12 Weeks": "Week 1 PDF",
          "qT": 0.903010033444816
         },
         {
          "PDF": 0.007222744591940176,
          "Week 1 Only vs All 12 Weeks": "Week 1 PDF",
          "qT": 0.9063545150501672
         },
         {
          "PDF": 0.006068905024149204,
          "Week 1 Only vs All 12 Weeks": "Week 1 PDF",
          "qT": 0.9096989966555183
         },
         {
          "PDF": 0.005062206226616132,
          "Week 1 Only vs All 12 Weeks": "Week 1 PDF",
          "qT": 0.9130434782608695
         },
         {
          "PDF": 0.004189322703564384,
          "Week 1 Only vs All 12 Weeks": "Week 1 PDF",
          "qT": 0.9163879598662207
         },
         {
          "PDF": 0.0034375188352473557,
          "Week 1 Only vs All 12 Weeks": "Week 1 PDF",
          "qT": 0.9197324414715718
         },
         {
          "PDF": 0.0027946730782026597,
          "Week 1 Only vs All 12 Weeks": "Week 1 PDF",
          "qT": 0.923076923076923
         },
         {
          "PDF": 0.002249299121606158,
          "Week 1 Only vs All 12 Weeks": "Week 1 PDF",
          "qT": 0.9264214046822742
         },
         {
          "PDF": 0.0017905638225477508,
          "Week 1 Only vs All 12 Weeks": "Week 1 PDF",
          "qT": 0.9297658862876254
         },
         {
          "PDF": 0.0014083017461775419,
          "Week 1 Only vs All 12 Weeks": "Week 1 PDF",
          "qT": 0.9331103678929765
         },
         {
          "PDF": 0.0010930261408707033,
          "Week 1 Only vs All 12 Weeks": "Week 1 PDF",
          "qT": 0.9364548494983277
         },
         {
          "PDF": 0.0008359361839888272,
          "Week 1 Only vs All 12 Weeks": "Week 1 PDF",
          "qT": 0.9397993311036789
         },
         {
          "PDF": 0.0006289203406620046,
          "Week 1 Only vs All 12 Weeks": "Week 1 PDF",
          "qT": 0.9431438127090301
         },
         {
          "PDF": 0.00046455568650584676,
          "Week 1 Only vs All 12 Weeks": "Week 1 PDF",
          "qT": 0.9464882943143813
         },
         {
          "PDF": 0.00033610305559752027,
          "Week 1 Only vs All 12 Weeks": "Week 1 PDF",
          "qT": 0.9498327759197325
         },
         {
          "PDF": 0.000237497887707185,
          "Week 1 Only vs All 12 Weeks": "Week 1 PDF",
          "qT": 0.9531772575250836
         },
         {
          "PDF": 0.00016333666414437522,
          "Week 1 Only vs All 12 Weeks": "Week 1 PDF",
          "qT": 0.9565217391304348
         },
         {
          "PDF": 0.00010885884017999066,
          "Week 1 Only vs All 12 Weeks": "Week 1 PDF",
          "qT": 0.959866220735786
         },
         {
          "PDF": 0.00006992420455110304,
          "Week 1 Only vs All 12 Weeks": "Week 1 PDF",
          "qT": 0.9632107023411371
         },
         {
          "PDF": 0.00004298562398362045,
          "Week 1 Only vs All 12 Weeks": "Week 1 PDF",
          "qT": 0.9665551839464883
         },
         {
          "PDF": 0.000025057164241579054,
          "Week 1 Only vs All 12 Weeks": "Week 1 PDF",
          "qT": 0.9698996655518395
         },
         {
          "PDF": 0.00001367762068630264,
          "Week 1 Only vs All 12 Weeks": "Week 1 PDF",
          "qT": 0.9732441471571907
         },
         {
          "PDF": 0.000006869543214840622,
          "Week 1 Only vs All 12 Weeks": "Week 1 PDF",
          "qT": 0.9765886287625418
         },
         {
          "PDF": 0.0000030939064720224196,
          "Week 1 Only vs All 12 Weeks": "Week 1 PDF",
          "qT": 0.979933110367893
         },
         {
          "PDF": 0.0000012006621784720701,
          "Week 1 Only vs All 12 Weeks": "Week 1 PDF",
          "qT": 0.9832775919732442
         },
         {
          "PDF": 3.7552577797450686e-7,
          "Week 1 Only vs All 12 Weeks": "Week 1 PDF",
          "qT": 0.9866220735785953
         },
         {
          "PDF": 8.351110662123735e-8,
          "Week 1 Only vs All 12 Weeks": "Week 1 PDF",
          "qT": 0.9899665551839465
         },
         {
          "PDF": 9.966891255451393e-9,
          "Week 1 Only vs All 12 Weeks": "Week 1 PDF",
          "qT": 0.9933110367892977
         },
         {
          "PDF": 2.601575669926785e-10,
          "Week 1 Only vs All 12 Weeks": "Week 1 PDF",
          "qT": 0.9966555183946488
         },
         {
          "PDF": 0,
          "Week 1 Only vs All 12 Weeks": "Week 1 PDF",
          "qT": 1
         },
         {
          "PDF": 0,
          "Week 1 Only vs All 12 Weeks": "All 12 Week PDF",
          "qT": 0
         },
         {
          "PDF": 3.064022505177869e-11,
          "Week 1 Only vs All 12 Weeks": "All 12 Week PDF",
          "qT": 0.0033444816053511705
         },
         {
          "PDF": 1.7942537953868593e-9,
          "Week 1 Only vs All 12 Weeks": "All 12 Week PDF",
          "qT": 0.006688963210702341
         },
         {
          "PDF": 1.9234468984206517e-8,
          "Week 1 Only vs All 12 Weeks": "All 12 Week PDF",
          "qT": 0.010033444816053512
         },
         {
          "PDF": 1.0288527204122216e-7,
          "Week 1 Only vs All 12 Weeks": "All 12 Week PDF",
          "qT": 0.013377926421404682
         },
         {
          "PDF": 3.7598891731508705e-7,
          "Week 1 Only vs All 12 Weeks": "All 12 Week PDF",
          "qT": 0.016722408026755852
         },
         {
          "PDF": 0.0000010797766101346305,
          "Week 1 Only vs All 12 Weeks": "All 12 Week PDF",
          "qT": 0.020066889632107024
         },
         {
          "PDF": 0.00000262576593633195,
          "Week 1 Only vs All 12 Weeks": "All 12 Week PDF",
          "qT": 0.023411371237458192
         },
         {
          "PDF": 0.000005653231643974879,
          "Week 1 Only vs All 12 Weeks": "All 12 Week PDF",
          "qT": 0.026755852842809364
         },
         {
          "PDF": 0.000011090236713939603,
          "Week 1 Only vs All 12 Weeks": "All 12 Week PDF",
          "qT": 0.030100334448160536
         },
         {
          "PDF": 0.000020216800763674645,
          "Week 1 Only vs All 12 Weeks": "All 12 Week PDF",
          "qT": 0.033444816053511704
         },
         {
          "PDF": 0.000034728946559442735,
          "Week 1 Only vs All 12 Weeks": "All 12 Week PDF",
          "qT": 0.03678929765886287
         },
         {
          "PDF": 0.00005680251001354236,
          "Week 1 Only vs All 12 Weeks": "All 12 Week PDF",
          "qT": 0.04013377926421405
         },
         {
          "PDF": 0.00008915572879241842,
          "Week 1 Only vs All 12 Weeks": "All 12 Week PDF",
          "qT": 0.043478260869565216
         },
         {
          "PDF": 0.00013510974231011597,
          "Week 1 Only vs All 12 Weeks": "All 12 Week PDF",
          "qT": 0.046822742474916385
         },
         {
          "PDF": 0.00019864624331745055,
          "Week 1 Only vs All 12 Weeks": "All 12 Week PDF",
          "qT": 0.05016722408026756
         },
         {
          "PDF": 0.00028446161988568007,
          "Week 1 Only vs All 12 Weeks": "All 12 Week PDF",
          "qT": 0.05351170568561873
         },
         {
          "PDF": 0.0003980170173539596,
          "Week 1 Only vs All 12 Weeks": "All 12 Week PDF",
          "qT": 0.056856187290969896
         },
         {
          "PDF": 0.0005455838335669351,
          "Week 1 Only vs All 12 Weeks": "All 12 Week PDF",
          "qT": 0.06020066889632107
         },
         {
          "PDF": 0.0007342842381201031,
          "Week 1 Only vs All 12 Weeks": "All 12 Week PDF",
          "qT": 0.06354515050167224
         },
         {
          "PDF": 0.0009721263778905225,
          "Week 1 Only vs All 12 Weeks": "All 12 Week PDF",
          "qT": 0.06688963210702341
         },
         {
          "PDF": 0.0012680339973102535,
          "Week 1 Only vs All 12 Weeks": "All 12 Week PDF",
          "qT": 0.07023411371237458
         },
         {
          "PDF": 0.001631870263026821,
          "Week 1 Only vs All 12 Weeks": "All 12 Week PDF",
          "qT": 0.07357859531772575
         },
         {
          "PDF": 0.002074455639127706,
          "Week 1 Only vs All 12 Weeks": "All 12 Week PDF",
          "qT": 0.07692307692307693
         },
         {
          "PDF": 0.0026075797112832377,
          "Week 1 Only vs All 12 Weeks": "All 12 Week PDF",
          "qT": 0.0802675585284281
         },
         {
          "PDF": 0.0032440069062532368,
          "Week 1 Only vs All 12 Weeks": "All 12 Week PDF",
          "qT": 0.08361204013377926
         },
         {
          "PDF": 0.003997476097448841,
          "Week 1 Only vs All 12 Weeks": "All 12 Week PDF",
          "qT": 0.08695652173913043
         },
         {
          "PDF": 0.0048826941278644394,
          "Week 1 Only vs All 12 Weeks": "All 12 Week PDF",
          "qT": 0.0903010033444816
         },
         {
          "PDF": 0.0059153233188983315,
          "Week 1 Only vs All 12 Weeks": "All 12 Week PDF",
          "qT": 0.09364548494983277
         },
         {
          "PDF": 0.007111963067552864,
          "Week 1 Only vs All 12 Weeks": "All 12 Week PDF",
          "qT": 0.09698996655518395
         },
         {
          "PDF": 0.008490125665421233,
          "Week 1 Only vs All 12 Weeks": "All 12 Week PDF",
          "qT": 0.10033444816053512
         },
         {
          "PDF": 0.010068206500891656,
          "Week 1 Only vs All 12 Weeks": "All 12 Week PDF",
          "qT": 0.10367892976588629
         },
         {
          "PDF": 0.011865448831284573,
          "Week 1 Only vs All 12 Weeks": "All 12 Week PDF",
          "qT": 0.10702341137123746
         },
         {
          "PDF": 0.013901903334330527,
          "Week 1 Only vs All 12 Weeks": "All 12 Week PDF",
          "qT": 0.11036789297658862
         },
         {
          "PDF": 0.01619838266862976,
          "Week 1 Only vs All 12 Weeks": "All 12 Week PDF",
          "qT": 0.11371237458193979
         },
         {
          "PDF": 0.01877641129064451,
          "Week 1 Only vs All 12 Weeks": "All 12 Week PDF",
          "qT": 0.11705685618729096
         },
         {
          "PDF": 0.021658170791477003,
          "Week 1 Only vs All 12 Weeks": "All 12 Week PDF",
          "qT": 0.12040133779264214
         },
         {
          "PDF": 0.02486644103030697,
          "Week 1 Only vs All 12 Weeks": "All 12 Week PDF",
          "qT": 0.12374581939799331
         },
         {
          "PDF": 0.02842453735300597,
          "Week 1 Only vs All 12 Weeks": "All 12 Week PDF",
          "qT": 0.12709030100334448
         },
         {
          "PDF": 0.03235624419422526,
          "Week 1 Only vs All 12 Weeks": "All 12 Week PDF",
          "qT": 0.13043478260869565
         },
         {
          "PDF": 0.03668574536926692,
          "Week 1 Only vs All 12 Weeks": "All 12 Week PDF",
          "qT": 0.13377926421404682
         },
         {
          "PDF": 0.041437551368398336,
          "Week 1 Only vs All 12 Weeks": "All 12 Week PDF",
          "qT": 0.13712374581939799
         },
         {
          "PDF": 0.04663642397104325,
          "Week 1 Only vs All 12 Weeks": "All 12 Week PDF",
          "qT": 0.14046822742474915
         },
         {
          "PDF": 0.05230729850058308,
          "Week 1 Only vs All 12 Weeks": "All 12 Week PDF",
          "qT": 0.14381270903010032
         },
         {
          "PDF": 0.05847520404239723,
          "Week 1 Only vs All 12 Weeks": "All 12 Week PDF",
          "qT": 0.1471571906354515
         },
         {
          "PDF": 0.06516518194836407,
          "Week 1 Only vs All 12 Weeks": "All 12 Week PDF",
          "qT": 0.1505016722408027
         },
         {
          "PDF": 0.07240220295040187,
          "Week 1 Only vs All 12 Weeks": "All 12 Week PDF",
          "qT": 0.15384615384615385
         },
         {
          "PDF": 0.08021108320383274,
          "Week 1 Only vs All 12 Weeks": "All 12 Week PDF",
          "qT": 0.15719063545150502
         },
         {
          "PDF": 0.08861639957847958,
          "Week 1 Only vs All 12 Weeks": "All 12 Week PDF",
          "qT": 0.1605351170568562
         },
         {
          "PDF": 0.09764240451151852,
          "Week 1 Only vs All 12 Weeks": "All 12 Week PDF",
          "qT": 0.16387959866220736
         },
         {
          "PDF": 0.10731294073129266,
          "Week 1 Only vs All 12 Weeks": "All 12 Week PDF",
          "qT": 0.16722408026755853
         },
         {
          "PDF": 0.1176513561555927,
          "Week 1 Only vs All 12 Weeks": "All 12 Week PDF",
          "qT": 0.1705685618729097
         },
         {
          "PDF": 0.12868041926140616,
          "Week 1 Only vs All 12 Weeks": "All 12 Week PDF",
          "qT": 0.17391304347826086
         },
         {
          "PDF": 0.14042223521588348,
          "Week 1 Only vs All 12 Weeks": "All 12 Week PDF",
          "qT": 0.17725752508361203
         },
         {
          "PDF": 0.15289816305033194,
          "Week 1 Only vs All 12 Weeks": "All 12 Week PDF",
          "qT": 0.1806020066889632
         },
         {
          "PDF": 0.166128734150467,
          "Week 1 Only vs All 12 Weeks": "All 12 Week PDF",
          "qT": 0.18394648829431437
         },
         {
          "PDF": 0.18013357232700697,
          "Week 1 Only vs All 12 Weeks": "All 12 Week PDF",
          "qT": 0.18729096989966554
         },
         {
          "PDF": 0.19493131572101716,
          "Week 1 Only vs All 12 Weeks": "All 12 Week PDF",
          "qT": 0.1906354515050167
         },
         {
          "PDF": 0.210539540788271,
          "Week 1 Only vs All 12 Weeks": "All 12 Week PDF",
          "qT": 0.1939799331103679
         },
         {
          "PDF": 0.22697468859630734,
          "Week 1 Only vs All 12 Weeks": "All 12 Week PDF",
          "qT": 0.19732441471571907
         },
         {
          "PDF": 0.2442519936569287,
          "Week 1 Only vs All 12 Weeks": "All 12 Week PDF",
          "qT": 0.20066889632107024
         },
         {
          "PDF": 0.262385415505594,
          "Week 1 Only vs All 12 Weeks": "All 12 Week PDF",
          "qT": 0.2040133779264214
         },
         {
          "PDF": 0.2813875732275893,
          "Week 1 Only vs All 12 Weeks": "All 12 Week PDF",
          "qT": 0.20735785953177258
         },
         {
          "PDF": 0.3012696831190438,
          "Week 1 Only vs All 12 Weeks": "All 12 Week PDF",
          "qT": 0.21070234113712374
         },
         {
          "PDF": 0.32204149965882495,
          "Week 1 Only vs All 12 Weeks": "All 12 Week PDF",
          "qT": 0.2140468227424749
         },
         {
          "PDF": 0.343711259955167,
          "Week 1 Only vs All 12 Weeks": "All 12 Week PDF",
          "qT": 0.21739130434782608
         },
         {
          "PDF": 0.36628563181852974,
          "Week 1 Only vs All 12 Weeks": "All 12 Week PDF",
          "qT": 0.22073578595317725
         },
         {
          "PDF": 0.3897696655998104,
          "Week 1 Only vs All 12 Weeks": "All 12 Week PDF",
          "qT": 0.22408026755852842
         },
         {
          "PDF": 0.41416674992047525,
          "Week 1 Only vs All 12 Weeks": "All 12 Week PDF",
          "qT": 0.22742474916387959
         },
         {
          "PDF": 0.43947857140873237,
          "Week 1 Only vs All 12 Weeks": "All 12 Week PDF",
          "qT": 0.23076923076923075
         },
         {
          "PDF": 0.4657050785432858,
          "Week 1 Only vs All 12 Weeks": "All 12 Week PDF",
          "qT": 0.23411371237458192
         },
         {
          "PDF": 0.4928444496937701,
          "Week 1 Only vs All 12 Weeks": "All 12 Week PDF",
          "qT": 0.23745819397993312
         },
         {
          "PDF": 0.5208930654344986,
          "Week 1 Only vs All 12 Weeks": "All 12 Week PDF",
          "qT": 0.2408026755852843
         },
         {
          "PDF": 0.5498454851958345,
          "Week 1 Only vs All 12 Weeks": "All 12 Week PDF",
          "qT": 0.24414715719063546
         },
         {
          "PDF": 0.57969442830524,
          "Week 1 Only vs All 12 Weeks": "All 12 Week PDF",
          "qT": 0.24749163879598662
         },
         {
          "PDF": 0.610430759457964,
          "Week 1 Only vs All 12 Weeks": "All 12 Week PDF",
          "qT": 0.2508361204013378
         },
         {
          "PDF": 0.6420434786453831,
          "Week 1 Only vs All 12 Weeks": "All 12 Week PDF",
          "qT": 0.25418060200668896
         },
         {
          "PDF": 0.674519715557244,
          "Week 1 Only vs All 12 Weeks": "All 12 Week PDF",
          "qT": 0.25752508361204013
         },
         {
          "PDF": 0.707844728462466,
          "Week 1 Only vs All 12 Weeks": "All 12 Week PDF",
          "qT": 0.2608695652173913
         },
         {
          "PDF": 0.7420019075618475,
          "Week 1 Only vs All 12 Weeks": "All 12 Week PDF",
          "qT": 0.26421404682274247
         },
         {
          "PDF": 0.7769727827948725,
          "Week 1 Only vs All 12 Weeks": "All 12 Week PDF",
          "qT": 0.26755852842809363
         },
         {
          "PDF": 0.8127370360719928,
          "Week 1 Only vs All 12 Weeks": "All 12 Week PDF",
          "qT": 0.2709030100334448
         },
         {
          "PDF": 0.8492725178931155,
          "Week 1 Only vs All 12 Weeks": "All 12 Week PDF",
          "qT": 0.27424749163879597
         },
         {
          "PDF": 0.8865552683027955,
          "Week 1 Only vs All 12 Weeks": "All 12 Week PDF",
          "qT": 0.27759197324414714
         },
         {
          "PDF": 0.9245595421225622,
          "Week 1 Only vs All 12 Weeks": "All 12 Week PDF",
          "qT": 0.2809364548494983
         },
         {
          "PDF": 0.9632578383911647,
          "Week 1 Only vs All 12 Weeks": "All 12 Week PDF",
          "qT": 0.2842809364548495
         },
         {
          "PDF": 1.0026209339341332,
          "Week 1 Only vs All 12 Weeks": "All 12 Week PDF",
          "qT": 0.28762541806020064
         },
         {
          "PDF": 1.0426179209750184,
          "Week 1 Only vs All 12 Weeks": "All 12 Week PDF",
          "qT": 0.2909698996655518
         },
         {
          "PDF": 1.0832162486920234,
          "Week 1 Only vs All 12 Weeks": "All 12 Week PDF",
          "qT": 0.294314381270903
         },
         {
          "PDF": 1.1243817686153394,
          "Week 1 Only vs All 12 Weeks": "All 12 Week PDF",
          "qT": 0.29765886287625415
         },
         {
          "PDF": 1.166078783752647,
          "Week 1 Only vs All 12 Weeks": "All 12 Week PDF",
          "qT": 0.3010033444816054
         },
         {
          "PDF": 1.208270101322517,
          "Week 1 Only vs All 12 Weeks": "All 12 Week PDF",
          "qT": 0.30434782608695654
         },
         {
          "PDF": 1.2509170889683576,
          "Week 1 Only vs All 12 Weeks": "All 12 Week PDF",
          "qT": 0.3076923076923077
         },
         {
          "PDF": 1.2939797343186301,
          "Week 1 Only vs All 12 Weeks": "All 12 Week PDF",
          "qT": 0.3110367892976589
         },
         {
          "PDF": 1.3374167077526642,
          "Week 1 Only vs All 12 Weeks": "All 12 Week PDF",
          "qT": 0.31438127090301005
         },
         {
          "PDF": 1.3811854282253428,
          "Week 1 Only vs All 12 Weeks": "All 12 Week PDF",
          "qT": 0.3177257525083612
         },
         {
          "PDF": 1.4252421319982946,
          "Week 1 Only vs All 12 Weeks": "All 12 Week PDF",
          "qT": 0.3210702341137124
         },
         {
          "PDF": 1.469541944119946,
          "Week 1 Only vs All 12 Weeks": "All 12 Week PDF",
          "qT": 0.32441471571906355
         },
         {
          "PDF": 1.514038952491962,
          "Week 1 Only vs All 12 Weeks": "All 12 Week PDF",
          "qT": 0.3277591973244147
         },
         {
          "PDF": 1.5586862843552176,
          "Week 1 Only vs All 12 Weeks": "All 12 Week PDF",
          "qT": 0.3311036789297659
         },
         {
          "PDF": 1.6034361850242584,
          "Week 1 Only vs All 12 Weeks": "All 12 Week PDF",
          "qT": 0.33444816053511706
         },
         {
          "PDF": 1.6482400986957506,
          "Week 1 Only vs All 12 Weeks": "All 12 Week PDF",
          "qT": 0.3377926421404682
         },
         {
          "PDF": 1.693048751153099,
          "Week 1 Only vs All 12 Weeks": "All 12 Week PDF",
          "qT": 0.3411371237458194
         },
         {
          "PDF": 1.7378122341865365,
          "Week 1 Only vs All 12 Weeks": "All 12 Week PDF",
          "qT": 0.34448160535117056
         },
         {
          "PDF": 1.7824800915457535,
          "Week 1 Only vs All 12 Weeks": "All 12 Week PDF",
          "qT": 0.34782608695652173
         },
         {
          "PDF": 1.8270014062398636,
          "Week 1 Only vs All 12 Weeks": "All 12 Week PDF",
          "qT": 0.3511705685618729
         },
         {
          "PDF": 1.8713248889981267,
          "Week 1 Only vs All 12 Weeks": "All 12 Week PDF",
          "qT": 0.35451505016722407
         },
         {
          "PDF": 1.9153989677034142,
          "Week 1 Only vs All 12 Weeks": "All 12 Week PDF",
          "qT": 0.35785953177257523
         },
         {
          "PDF": 1.9591718776096734,
          "Week 1 Only vs All 12 Weeks": "All 12 Week PDF",
          "qT": 0.3612040133779264
         },
         {
          "PDF": 2.0025917521541907,
          "Week 1 Only vs All 12 Weeks": "All 12 Week PDF",
          "qT": 0.36454849498327757
         },
         {
          "PDF": 2.0456067141752796,
          "Week 1 Only vs All 12 Weeks": "All 12 Week PDF",
          "qT": 0.36789297658862874
         },
         {
          "PDF": 2.0881649673464855,
          "Week 1 Only vs All 12 Weeks": "All 12 Week PDF",
          "qT": 0.3712374581939799
         },
         {
          "PDF": 2.1302148876388505,
          "Week 1 Only vs All 12 Weeks": "All 12 Week PDF",
          "qT": 0.3745819397993311
         },
         {
          "PDF": 2.1717051146240336,
          "Week 1 Only vs All 12 Weeks": "All 12 Week PDF",
          "qT": 0.37792642140468224
         },
         {
          "PDF": 2.212584642432288,
          "Week 1 Only vs All 12 Weeks": "All 12 Week PDF",
          "qT": 0.3812709030100334
         },
         {
          "PDF": 2.252802910181134,
          "Week 1 Only vs All 12 Weeks": "All 12 Week PDF",
          "qT": 0.3846153846153846
         },
         {
          "PDF": 2.292309891692593,
          "Week 1 Only vs All 12 Weeks": "All 12 Week PDF",
          "qT": 0.3879598662207358
         },
         {
          "PDF": 2.331056184319313,
          "Week 1 Only vs All 12 Weeks": "All 12 Week PDF",
          "qT": 0.391304347826087
         },
         {
          "PDF": 2.3689930967025568,
          "Week 1 Only vs All 12 Weeks": "All 12 Week PDF",
          "qT": 0.39464882943143814
         },
         {
          "PDF": 2.4060727352881752,
          "Week 1 Only vs All 12 Weeks": "All 12 Week PDF",
          "qT": 0.3979933110367893
         },
         {
          "PDF": 2.442248089429953,
          "Week 1 Only vs All 12 Weeks": "All 12 Week PDF",
          "qT": 0.4013377926421405
         },
         {
          "PDF": 2.4774731149134817,
          "Week 1 Only vs All 12 Weeks": "All 12 Week PDF",
          "qT": 0.40468227424749165
         },
         {
          "PDF": 2.511702815737502,
          "Week 1 Only vs All 12 Weeks": "All 12 Week PDF",
          "qT": 0.4080267558528428
         },
         {
          "PDF": 2.544893323994085,
          "Week 1 Only vs All 12 Weeks": "All 12 Week PDF",
          "qT": 0.411371237458194
         },
         {
          "PDF": 2.5770019776932838,
          "Week 1 Only vs All 12 Weeks": "All 12 Week PDF",
          "qT": 0.41471571906354515
         },
         {
          "PDF": 2.607987396382842,
          "Week 1 Only vs All 12 Weeks": "All 12 Week PDF",
          "qT": 0.4180602006688963
         },
         {
          "PDF": 2.63780955441844,
          "Week 1 Only vs All 12 Weeks": "All 12 Week PDF",
          "qT": 0.4214046822742475
         },
         {
          "PDF": 2.666429851745165,
          "Week 1 Only vs All 12 Weeks": "All 12 Week PDF",
          "qT": 0.42474916387959866
         },
         {
          "PDF": 2.693811182056471,
          "Week 1 Only vs All 12 Weeks": "All 12 Week PDF",
          "qT": 0.4280936454849498
         },
         {
          "PDF": 2.7199179982024675,
          "Week 1 Only vs All 12 Weeks": "All 12 Week PDF",
          "qT": 0.431438127090301
         },
         {
          "PDF": 2.7447163747252357,
          "Week 1 Only vs All 12 Weeks": "All 12 Week PDF",
          "qT": 0.43478260869565216
         },
         {
          "PDF": 2.768174067405133,
          "Week 1 Only vs All 12 Weeks": "All 12 Week PDF",
          "qT": 0.43812709030100333
         },
         {
          "PDF": 2.790260569708002,
          "Week 1 Only vs All 12 Weeks": "All 12 Week PDF",
          "qT": 0.4414715719063545
         },
         {
          "PDF": 2.8109471660299,
          "Week 1 Only vs All 12 Weeks": "All 12 Week PDF",
          "qT": 0.44481605351170567
         },
         {
          "PDF": 2.8302069816423074,
          "Week 1 Only vs All 12 Weeks": "All 12 Week PDF",
          "qT": 0.44816053511705684
         },
         {
          "PDF": 2.8480150292477577,
          "Week 1 Only vs All 12 Weeks": "All 12 Week PDF",
          "qT": 0.451505016722408
         },
         {
          "PDF": 2.8643482520623382,
          "Week 1 Only vs All 12 Weeks": "All 12 Week PDF",
          "qT": 0.45484949832775917
         },
         {
          "PDF": 2.8791855633488694,
          "Week 1 Only vs All 12 Weeks": "All 12 Week PDF",
          "qT": 0.45819397993311034
         },
         {
          "PDF": 2.892507882331276,
          "Week 1 Only vs All 12 Weeks": "All 12 Week PDF",
          "qT": 0.4615384615384615
         },
         {
          "PDF": 2.904298166428174,
          "Week 1 Only vs All 12 Weeks": "All 12 Week PDF",
          "qT": 0.4648829431438127
         },
         {
          "PDF": 2.914541439750665,
          "Week 1 Only vs All 12 Weeks": "All 12 Week PDF",
          "qT": 0.46822742474916385
         },
         {
          "PDF": 2.9232248178168705,
          "Week 1 Only vs All 12 Weeks": "All 12 Week PDF",
          "qT": 0.47157190635451507
         },
         {
          "PDF": 2.9303375284430193,
          "Week 1 Only vs All 12 Weeks": "All 12 Week PDF",
          "qT": 0.47491638795986624
         },
         {
          "PDF": 2.9358709287782885,
          "Week 1 Only vs All 12 Weeks": "All 12 Week PDF",
          "qT": 0.4782608695652174
         },
         {
          "PDF": 2.9398185184582495,
          "Week 1 Only vs All 12 Weeks": "All 12 Week PDF",
          "qT": 0.4816053511705686
         },
         {
          "PDF": 2.942175948858952,
          "Week 1 Only vs All 12 Weeks": "All 12 Week PDF",
          "qT": 0.48494983277591974
         },
         {
          "PDF": 2.9429410284415196,
          "Week 1 Only vs All 12 Weeks": "All 12 Week PDF",
          "qT": 0.4882943143812709
         },
         {
          "PDF": 2.942113724184268,
          "Week 1 Only vs All 12 Weeks": "All 12 Week PDF",
          "qT": 0.4916387959866221
         },
         {
          "PDF": 2.9396961591071116,
          "Week 1 Only vs All 12 Weeks": "All 12 Week PDF",
          "qT": 0.49498327759197325
         },
         {
          "PDF": 2.935692605900288,
          "Week 1 Only vs All 12 Weeks": "All 12 Week PDF",
          "qT": 0.4983277591973244
         },
         {
          "PDF": 2.9301094766768743,
          "Week 1 Only vs All 12 Weeks": "All 12 Week PDF",
          "qT": 0.5016722408026756
         },
         {
          "PDF": 2.9229553088759554,
          "Week 1 Only vs All 12 Weeks": "All 12 Week PDF",
          "qT": 0.5050167224080268
         },
         {
          "PDF": 2.9142407473505125,
          "Week 1 Only vs All 12 Weeks": "All 12 Week PDF",
          "qT": 0.5083612040133779
         },
         {
          "PDF": 2.9039785226813426,
          "Week 1 Only vs All 12 Weeks": "All 12 Week PDF",
          "qT": 0.5117056856187291
         },
         {
          "PDF": 2.8921834257654457,
          "Week 1 Only vs All 12 Weeks": "All 12 Week PDF",
          "qT": 0.5150501672240803
         },
         {
          "PDF": 2.8788722787342693,
          "Week 1 Only vs All 12 Weeks": "All 12 Week PDF",
          "qT": 0.5183946488294314
         },
         {
          "PDF": 2.864063902264192,
          "Week 1 Only vs All 12 Weeks": "All 12 Week PDF",
          "qT": 0.5217391304347826
         },
         {
          "PDF": 2.8477790793482636,
          "Week 1 Only vs All 12 Weeks": "All 12 Week PDF",
          "qT": 0.5250836120401338
         },
         {
          "PDF": 2.8300405156050776,
          "Week 1 Only vs All 12 Weeks": "All 12 Week PDF",
          "qT": 0.5284280936454849
         },
         {
          "PDF": 2.810872796206864,
          "Week 1 Only vs All 12 Weeks": "All 12 Week PDF",
          "qT": 0.5317725752508361
         },
         {
          "PDF": 2.7903023395155584,
          "Week 1 Only vs All 12 Weeks": "All 12 Week PDF",
          "qT": 0.5351170568561873
         },
         {
          "PDF": 2.7683573475214596,
          "Week 1 Only vs All 12 Weeks": "All 12 Week PDF",
          "qT": 0.5384615384615384
         },
         {
          "PDF": 2.7450677531853556,
          "Week 1 Only vs All 12 Weeks": "All 12 Week PDF",
          "qT": 0.5418060200668896
         },
         {
          "PDF": 2.72046516479063,
          "Week 1 Only vs All 12 Weeks": "All 12 Week PDF",
          "qT": 0.5451505016722408
         },
         {
          "PDF": 2.694582807417585,
          "Week 1 Only vs All 12 Weeks": "All 12 Week PDF",
          "qT": 0.5484949832775919
         },
         {
          "PDF": 2.6674554616575703,
          "Week 1 Only vs All 12 Weeks": "All 12 Week PDF",
          "qT": 0.5518394648829431
         },
         {
          "PDF": 2.639119399689742,
          "Week 1 Only vs All 12 Weeks": "All 12 Week PDF",
          "qT": 0.5551839464882943
         },
         {
          "PDF": 2.6096123188482223,
          "Week 1 Only vs All 12 Weeks": "All 12 Week PDF",
          "qT": 0.5585284280936454
         },
         {
          "PDF": 2.578973272812215,
          "Week 1 Only vs All 12 Weeks": "All 12 Week PDF",
          "qT": 0.5618729096989966
         },
         {
          "PDF": 2.5472426005560713,
          "Week 1 Only vs All 12 Weeks": "All 12 Week PDF",
          "qT": 0.5652173913043478
         },
         {
          "PDF": 2.5144618532006384,
          "Week 1 Only vs All 12 Weeks": "All 12 Week PDF",
          "qT": 0.568561872909699
         },
         {
          "PDF": 2.4806737189111012,
          "Week 1 Only vs All 12 Weeks": "All 12 Week PDF",
          "qT": 0.5719063545150501
         },
         {
          "PDF": 2.4459219459904387,
          "Week 1 Only vs All 12 Weeks": "All 12 Week PDF",
          "qT": 0.5752508361204013
         },
         {
          "PDF": 2.410251264320857,
          "Week 1 Only vs All 12 Weeks": "All 12 Week PDF",
          "qT": 0.5785953177257525
         },
         {
          "PDF": 2.373707305308983,
          "Week 1 Only vs All 12 Weeks": "All 12 Week PDF",
          "qT": 0.5819397993311036
         },
         {
          "PDF": 2.3363365204932722,
          "Week 1 Only vs All 12 Weeks": "All 12 Week PDF",
          "qT": 0.5852842809364548
         },
         {
          "PDF": 2.29818609897493,
          "Week 1 Only vs All 12 Weeks": "All 12 Week PDF",
          "qT": 0.588628762541806
         },
         {
          "PDF": 2.259303883835731,
          "Week 1 Only vs All 12 Weeks": "All 12 Week PDF",
          "qT": 0.5919732441471571
         },
         {
          "PDF": 2.2197382877083616,
          "Week 1 Only vs All 12 Weeks": "All 12 Week PDF",
          "qT": 0.5953177257525083
         },
         {
          "PDF": 2.1795382076664245,
          "Week 1 Only vs All 12 Weeks": "All 12 Week PDF",
          "qT": 0.5986622073578595
         },
         {
          "PDF": 2.1387529396027776,
          "Week 1 Only vs All 12 Weeks": "All 12 Week PDF",
          "qT": 0.6020066889632107
         },
         {
          "PDF": 2.0974320922659384,
          "Week 1 Only vs All 12 Weeks": "All 12 Week PDF",
          "qT": 0.6053511705685619
         },
         {
          "PDF": 2.0556255011249984,
          "Week 1 Only vs All 12 Weeks": "All 12 Week PDF",
          "qT": 0.6086956521739131
         },
         {
          "PDF": 2.0133831422340234,
          "Week 1 Only vs All 12 Weeks": "All 12 Week PDF",
          "qT": 0.6120401337792643
         },
         {
          "PDF": 1.9707550462669667,
          "Week 1 Only vs All 12 Weeks": "All 12 Week PDF",
          "qT": 0.6153846153846154
         },
         {
          "PDF": 1.9277912128940173,
          "Week 1 Only vs All 12 Weeks": "All 12 Week PDF",
          "qT": 0.6187290969899666
         },
         {
          "PDF": 1.8845415256696414,
          "Week 1 Only vs All 12 Weeks": "All 12 Week PDF",
          "qT": 0.6220735785953178
         },
         {
          "PDF": 1.841055667601876,
          "Week 1 Only vs All 12 Weeks": "All 12 Week PDF",
          "qT": 0.6254180602006689
         },
         {
          "PDF": 1.7973830375711035,
          "Week 1 Only vs All 12 Weeks": "All 12 Week PDF",
          "qT": 0.6287625418060201
         },
         {
          "PDF": 1.7535726677651502,
          "Week 1 Only vs All 12 Weeks": "All 12 Week PDF",
          "qT": 0.6321070234113713
         },
         {
          "PDF": 1.7096731422955875,
          "Week 1 Only vs All 12 Weeks": "All 12 Week PDF",
          "qT": 0.6354515050167224
         },
         {
          "PDF": 1.6657325171580049,
          "Week 1 Only vs All 12 Weeks": "All 12 Week PDF",
          "qT": 0.6387959866220736
         },
         {
          "PDF": 1.621798241696566,
          "Week 1 Only vs All 12 Weeks": "All 12 Week PDF",
          "qT": 0.6421404682274248
         },
         {
          "PDF": 1.5779170817301509,
          "Week 1 Only vs All 12 Weeks": "All 12 Week PDF",
          "qT": 0.6454849498327759
         },
         {
          "PDF": 1.5341350444944757,
          "Week 1 Only vs All 12 Weeks": "All 12 Week PDF",
          "qT": 0.6488294314381271
         },
         {
          "PDF": 1.4904973055508464,
          "Week 1 Only vs All 12 Weeks": "All 12 Week PDF",
          "qT": 0.6521739130434783
         },
         {
          "PDF": 1.4470481378086846,
          "Week 1 Only vs All 12 Weeks": "All 12 Week PDF",
          "qT": 0.6555183946488294
         },
         {
          "PDF": 1.4038308428044861,
          "Week 1 Only vs All 12 Weeks": "All 12 Week PDF",
          "qT": 0.6588628762541806
         },
         {
          "PDF": 1.3608876843758504,
          "Week 1 Only vs All 12 Weeks": "All 12 Week PDF",
          "qT": 0.6622073578595318
         },
         {
          "PDF": 1.3182598248641946,
          "Week 1 Only vs All 12 Weeks": "All 12 Week PDF",
          "qT": 0.6655518394648829
         },
         {
          "PDF": 1.2759872639747392,
          "Week 1 Only vs All 12 Weeks": "All 12 Week PDF",
          "qT": 0.6688963210702341
         },
         {
          "PDF": 1.2341087804172934,
          "Week 1 Only vs All 12 Weeks": "All 12 Week PDF",
          "qT": 0.6722408026755853
         },
         {
          "PDF": 1.1926618764453296,
          "Week 1 Only vs All 12 Weeks": "All 12 Week PDF",
          "qT": 0.6755852842809364
         },
         {
          "PDF": 1.151682725405349,
          "Week 1 Only vs All 12 Weeks": "All 12 Week PDF",
          "qT": 0.6789297658862876
         },
         {
          "PDF": 1.1112061224019705,
          "Week 1 Only vs All 12 Weeks": "All 12 Week PDF",
          "qT": 0.6822742474916388
         },
         {
          "PDF": 1.071265438178064,
          "Week 1 Only vs All 12 Weeks": "All 12 Week PDF",
          "qT": 0.68561872909699
         },
         {
          "PDF": 1.0318925763022866,
          "Week 1 Only vs All 12 Weeks": "All 12 Week PDF",
          "qT": 0.6889632107023411
         },
         {
          "PDF": 0.9931179337495581,
          "Week 1 Only vs All 12 Weeks": "All 12 Week PDF",
          "qT": 0.6923076923076923
         },
         {
          "PDF": 0.9549703649527672,
          "Week 1 Only vs All 12 Weeks": "All 12 Week PDF",
          "qT": 0.6956521739130435
         },
         {
          "PDF": 0.9174771493965689,
          "Week 1 Only vs All 12 Weeks": "All 12 Week PDF",
          "qT": 0.6989966555183946
         },
         {
          "PDF": 0.8806639628164823,
          "Week 1 Only vs All 12 Weeks": "All 12 Week PDF",
          "qT": 0.7023411371237458
         },
         {
          "PDF": 0.8445548520586486,
          "Week 1 Only vs All 12 Weeks": "All 12 Week PDF",
          "qT": 0.705685618729097
         },
         {
          "PDF": 0.8091722136475642,
          "Week 1 Only vs All 12 Weeks": "All 12 Week PDF",
          "qT": 0.7090301003344481
         },
         {
          "PDF": 0.7745367761008094,
          "Week 1 Only vs All 12 Weeks": "All 12 Week PDF",
          "qT": 0.7123745819397993
         },
         {
          "PDF": 0.7406675860214936,
          "Week 1 Only vs All 12 Weeks": "All 12 Week PDF",
          "qT": 0.7157190635451505
         },
         {
          "PDF": 0.7075819979904389,
          "Week 1 Only vs All 12 Weeks": "All 12 Week PDF",
          "qT": 0.7190635451505016
         },
         {
          "PDF": 0.6752956682715409,
          "Week 1 Only vs All 12 Weeks": "All 12 Week PDF",
          "qT": 0.7224080267558528
         },
         {
          "PDF": 0.6438225523348367,
          "Week 1 Only vs All 12 Weeks": "All 12 Week PDF",
          "qT": 0.725752508361204
         },
         {
          "PDF": 0.6131749061928893,
          "Week 1 Only vs All 12 Weeks": "All 12 Week PDF",
          "qT": 0.7290969899665551
         },
         {
          "PDF": 0.5833632915370662,
          "Week 1 Only vs All 12 Weeks": "All 12 Week PDF",
          "qT": 0.7324414715719063
         },
         {
          "PDF": 0.5543965846511673,
          "Week 1 Only vs All 12 Weeks": "All 12 Week PDF",
          "qT": 0.7357859531772575
         },
         {
          "PDF": 0.5262819890706608,
          "Week 1 Only vs All 12 Weeks": "All 12 Week PDF",
          "qT": 0.7391304347826086
         },
         {
          "PDF": 0.4990250519466054,
          "Week 1 Only vs All 12 Weeks": "All 12 Week PDF",
          "qT": 0.7424749163879598
         },
         {
          "PDF": 0.47262968406404543,
          "Week 1 Only vs All 12 Weeks": "All 12 Week PDF",
          "qT": 0.745819397993311
         },
         {
          "PDF": 0.44709818345545066,
          "Week 1 Only vs All 12 Weeks": "All 12 Week PDF",
          "qT": 0.7491638795986622
         },
         {
          "PDF": 0.4224312625405094,
          "Week 1 Only vs All 12 Weeks": "All 12 Week PDF",
          "qT": 0.7525083612040133
         },
         {
          "PDF": 0.39862807871439926,
          "Week 1 Only vs All 12 Weeks": "All 12 Week PDF",
          "qT": 0.7558528428093645
         },
         {
          "PDF": 0.37568626829750984,
          "Week 1 Only vs All 12 Weeks": "All 12 Week PDF",
          "qT": 0.7591973244147157
         },
         {
          "PDF": 0.3536019837504992,
          "Week 1 Only vs All 12 Weeks": "All 12 Week PDF",
          "qT": 0.7625418060200668
         },
         {
          "PDF": 0.3323699340496443,
          "Week 1 Only vs All 12 Weeks": "All 12 Week PDF",
          "qT": 0.765886287625418
         },
         {
          "PDF": 0.3119834281085287,
          "Week 1 Only vs All 12 Weeks": "All 12 Week PDF",
          "qT": 0.7692307692307692
         },
         {
          "PDF": 0.2924344211234689,
          "Week 1 Only vs All 12 Weeks": "All 12 Week PDF",
          "qT": 0.7725752508361204
         },
         {
          "PDF": 0.2737135637115,
          "Week 1 Only vs All 12 Weeks": "All 12 Week PDF",
          "qT": 0.7759197324414716
         },
         {
          "PDF": 0.2558102537014047,
          "Week 1 Only vs All 12 Weeks": "All 12 Week PDF",
          "qT": 0.7792642140468228
         },
         {
          "PDF": 0.23871269043015875,
          "Week 1 Only vs All 12 Weeks": "All 12 Week PDF",
          "qT": 0.782608695652174
         },
         {
          "PDF": 0.22240793138925016,
          "Week 1 Only vs All 12 Weeks": "All 12 Week PDF",
          "qT": 0.7859531772575251
         },
         {
          "PDF": 0.2068819510577297,
          "Week 1 Only vs All 12 Weeks": "All 12 Week PDF",
          "qT": 0.7892976588628763
         },
         {
          "PDF": 0.19211970175150914,
          "Week 1 Only vs All 12 Weeks": "All 12 Week PDF",
          "qT": 0.7926421404682275
         },
         {
          "PDF": 0.17810517631142517,
          "Week 1 Only vs All 12 Weeks": "All 12 Week PDF",
          "qT": 0.7959866220735786
         },
         {
          "PDF": 0.1648214724459243,
          "Week 1 Only vs All 12 Weeks": "All 12 Week PDF",
          "qT": 0.7993311036789298
         },
         {
          "PDF": 0.15225085853792986,
          "Week 1 Only vs All 12 Weeks": "All 12 Week PDF",
          "qT": 0.802675585284281
         },
         {
          "PDF": 0.14037484071958067,
          "Week 1 Only vs All 12 Weeks": "All 12 Week PDF",
          "qT": 0.8060200668896321
         },
         {
          "PDF": 0.1291742310130664,
          "Week 1 Only vs All 12 Weeks": "All 12 Week PDF",
          "qT": 0.8093645484949833
         },
         {
          "PDF": 0.11862921633079086,
          "Week 1 Only vs All 12 Weeks": "All 12 Week PDF",
          "qT": 0.8127090301003345
         },
         {
          "PDF": 0.10871942812359381,
          "Week 1 Only vs All 12 Weeks": "All 12 Week PDF",
          "qT": 0.8160535117056856
         },
         {
          "PDF": 0.09942401246176019,
          "Week 1 Only vs All 12 Weeks": "All 12 Week PDF",
          "qT": 0.8193979933110368
         },
         {
          "PDF": 0.0907217003301068,
          "Week 1 Only vs All 12 Weeks": "All 12 Week PDF",
          "qT": 0.822742474916388
         },
         {
          "PDF": 0.08259087791557189,
          "Week 1 Only vs All 12 Weeks": "All 12 Week PDF",
          "qT": 0.8260869565217391
         },
         {
          "PDF": 0.07500965666345853,
          "Week 1 Only vs All 12 Weeks": "All 12 Week PDF",
          "qT": 0.8294314381270903
         },
         {
          "PDF": 0.06795594287686979,
          "Week 1 Only vs All 12 Weeks": "All 12 Week PDF",
          "qT": 0.8327759197324415
         },
         {
          "PDF": 0.061407506632901364,
          "Week 1 Only vs All 12 Weeks": "All 12 Week PDF",
          "qT": 0.8361204013377926
         },
         {
          "PDF": 0.05534204978890308,
          "Week 1 Only vs All 12 Weeks": "All 12 Week PDF",
          "qT": 0.8394648829431438
         },
         {
          "PDF": 0.049737272852575065,
          "Week 1 Only vs All 12 Weeks": "All 12 Week PDF",
          "qT": 0.842809364548495
         },
         {
          "PDF": 0.04457094049089327,
          "Week 1 Only vs All 12 Weeks": "All 12 Week PDF",
          "qT": 0.8461538461538461
         },
         {
          "PDF": 0.03982094545485924,
          "Week 1 Only vs All 12 Weeks": "All 12 Week PDF",
          "qT": 0.8494983277591973
         },
         {
          "PDF": 0.03546537069989968,
          "Week 1 Only vs All 12 Weeks": "All 12 Week PDF",
          "qT": 0.8528428093645485
         },
         {
          "PDF": 0.03148254948541161,
          "Week 1 Only vs All 12 Weeks": "All 12 Week PDF",
          "qT": 0.8561872909698997
         },
         {
          "PDF": 0.027851123241500016,
          "Week 1 Only vs All 12 Weeks": "All 12 Week PDF",
          "qT": 0.8595317725752508
         },
         {
          "PDF": 0.02455009699641054,
          "Week 1 Only vs All 12 Weeks": "All 12 Week PDF",
          "qT": 0.862876254180602
         },
         {
          "PDF": 0.02155889216455243,
          "Week 1 Only vs All 12 Weeks": "All 12 Week PDF",
          "qT": 0.8662207357859532
         },
         {
          "PDF": 0.018857396502360818,
          "Week 1 Only vs All 12 Weeks": "All 12 Week PDF",
          "qT": 0.8695652173913043
         },
         {
          "PDF": 0.016426011047592972,
          "Week 1 Only vs All 12 Weeks": "All 12 Week PDF",
          "qT": 0.8729096989966555
         },
         {
          "PDF": 0.014245693867018315,
          "Week 1 Only vs All 12 Weeks": "All 12 Week PDF",
          "qT": 0.8762541806020067
         },
         {
          "PDF": 0.012298000447865788,
          "Week 1 Only vs All 12 Weeks": "All 12 Week PDF",
          "qT": 0.8795986622073578
         },
         {
          "PDF": 0.010565120579869858,
          "Week 1 Only vs All 12 Weeks": "All 12 Week PDF",
          "qT": 0.882943143812709
         },
         {
          "PDF": 0.009029911587319972,
          "Week 1 Only vs All 12 Weeks": "All 12 Week PDF",
          "qT": 0.8862876254180602
         },
         {
          "PDF": 0.007675927784199438,
          "Week 1 Only vs All 12 Weeks": "All 12 Week PDF",
          "qT": 0.8896321070234113
         },
         {
          "PDF": 0.006487446040311403,
          "Week 1 Only vs All 12 Weeks": "All 12 Week PDF",
          "qT": 0.8929765886287625
         },
         {
          "PDF": 0.0054494873622549945,
          "Week 1 Only vs All 12 Weeks": "All 12 Week PDF",
          "qT": 0.8963210702341137
         },
         {
          "PDF": 0.004547834410246012,
          "Week 1 Only vs All 12 Weeks": "All 12 Week PDF",
          "qT": 0.8996655518394648
         },
         {
          "PDF": 0.003769044890091522,
          "Week 1 Only vs All 12 Weeks": "All 12 Week PDF",
          "qT": 0.903010033444816
         },
         {
          "PDF": 0.0031004607791315056,
          "Week 1 Only vs All 12 Weeks": "All 12 Week PDF",
          "qT": 0.9063545150501672
         },
         {
          "PDF": 0.0025302133656659696,
          "Week 1 Only vs All 12 Weeks": "All 12 Week PDF",
          "qT": 0.9096989966555183
         },
         {
          "PDF": 0.002047224103291886,
          "Week 1 Only vs All 12 Weeks": "All 12 Week PDF",
          "qT": 0.9130434782608695
         },
         {
          "PDF": 0.0016412013046821518,
          "Week 1 Only vs All 12 Weeks": "All 12 Week PDF",
          "qT": 0.9163879598662207
         },
         {
          "PDF": 0.0013026327236410954,
          "Week 1 Only vs All 12 Weeks": "All 12 Week PDF",
          "qT": 0.9197324414715718
         },
         {
          "PDF": 0.001022774099756606,
          "Week 1 Only vs All 12 Weeks": "All 12 Week PDF",
          "qT": 0.923076923076923
         },
         {
          "PDF": 0.0007936337666181935,
          "Week 1 Only vs All 12 Weeks": "All 12 Week PDF",
          "qT": 0.9264214046822742
         },
         {
          "PDF": 0.0006079534523565934,
          "Week 1 Only vs All 12 Weeks": "All 12 Week PDF",
          "qT": 0.9297658862876254
         },
         {
          "PDF": 0.0004591854301477255,
          "Week 1 Only vs All 12 Weeks": "All 12 Week PDF",
          "qT": 0.9331103678929765
         },
         {
          "PDF": 0.00034146620626455157,
          "Week 1 Only vs All 12 Weeks": "All 12 Week PDF",
          "qT": 0.9364548494983277
         },
         {
          "PDF": 0.0002495869641946444,
          "Week 1 Only vs All 12 Weeks": "All 12 Week PDF",
          "qT": 0.9397993311036789
         },
         {
          "PDF": 0.00017896101519322124,
          "Week 1 Only vs All 12 Weeks": "All 12 Week PDF",
          "qT": 0.9431438127090301
         },
         {
          "PDF": 0.0001255885383167348,
          "Week 1 Only vs All 12 Weeks": "All 12 Week PDF",
          "qT": 0.9464882943143813
         },
         {
          "PDF": 0.00008601892636360284,
          "Week 1 Only vs All 12 Weeks": "All 12 Week PDF",
          "qT": 0.9498327759197325
         },
         {
          "PDF": 0.00005731108809146061,
          "Week 1 Only vs All 12 Weeks": "All 12 Week PDF",
          "qT": 0.9531772575250836
         },
         {
          "PDF": 0.0000369920914044244,
          "Week 1 Only vs All 12 Weeks": "All 12 Week PDF",
          "qT": 0.9565217391304348
         },
         {
          "PDF": 0.000023014566686004508,
          "Week 1 Only vs All 12 Weeks": "All 12 Week PDF",
          "qT": 0.959866220735786
         },
         {
          "PDF": 0.00001371332381368266,
          "Week 1 Only vs All 12 Weeks": "All 12 Week PDF",
          "qT": 0.9632107023411371
         },
         {
          "PDF": 0.000007761670277017397,
          "Week 1 Only vs All 12 Weeks": "All 12 Week PDF",
          "qT": 0.9665551839464883
         },
         {
          "PDF": 0.000004127950782009329,
          "Week 1 Only vs All 12 Weeks": "All 12 Week PDF",
          "qT": 0.9698996655518395
         },
         {
          "PDF": 0.0000020328601767059706,
          "Week 1 Only vs All 12 Weeks": "All 12 Week PDF",
          "qT": 0.9732441471571907
         },
         {
          "PDF": 9.081107056780182e-7,
          "Week 1 Only vs All 12 Weeks": "All 12 Week PDF",
          "qT": 0.9765886287625418
         },
         {
          "PDF": 3.570604506717101e-7,
          "Week 1 Only vs All 12 Weeks": "All 12 Week PDF",
          "qT": 0.979933110367893
         },
         {
          "PDF": 1.1793088496639736e-7,
          "Week 1 Only vs All 12 Weeks": "All 12 Week PDF",
          "qT": 0.9832775919732442
         },
         {
          "PDF": 3.025564395177512e-8,
          "Week 1 Only vs All 12 Weeks": "All 12 Week PDF",
          "qT": 0.9866220735785953
         },
         {
          "PDF": 5.206654834420199e-9,
          "Week 1 Only vs All 12 Weeks": "All 12 Week PDF",
          "qT": 0.9899665551839465
         },
         {
          "PDF": 4.3234631299770323e-10,
          "Week 1 Only vs All 12 Weeks": "All 12 Week PDF",
          "qT": 0.9933110367892977
         },
         {
          "PDF": 6.055558369613657e-12,
          "Week 1 Only vs All 12 Weeks": "All 12 Week PDF",
          "qT": 0.9966555183946488
         },
         {
          "PDF": 0,
          "Week 1 Only vs All 12 Weeks": "All 12 Week PDF",
          "qT": 1
         }
        ]
       },
       "encoding": {
        "strokeDash": {
         "field": "Week 1 Only vs All 12 Weeks",
         "type": "nominal"
        },
        "x": {
         "field": "qT",
         "title": "qₜ",
         "type": "quantitative"
        },
        "y": {
         "field": "PDF",
         "title": "f(qₜ)",
         "type": "quantitative"
        }
       },
       "height": 250,
       "mark": {
        "type": "line"
       },
       "title": "Distribution of qₜ: Week 1 Only vs. All 12 Weeks",
       "width": 550
      },
      "text/plain": [
       "<VegaLite 5 object>\n",
       "\n",
       "If you see this message, it means the renderer has not been properly enabled\n",
       "for the frontend that you are using. For more information, see\n",
       "https://altair-viz.github.io/user_guide/display_frontends.html#troubleshooting\n"
      ]
     },
     "execution_count": 25,
     "metadata": {},
     "output_type": "execute_result"
    }
   ],
   "source": [
    "qt_dist = pl.DataFrame({'qT': qt, 'Week 1 PDF': y_w1, 'All 12 Week PDF': y_w12})\n",
    "qt_dist = qt_dist.unpivot(on=['Week 1 PDF', 'All 12 Week PDF'], index='qT', variable_name='Week 1 Only vs All 12 Weeks', value_name='PDF')\n",
    "\n",
    "(\n",
    "    alt.Chart(qt_dist).mark_line()\n",
    "    .encode(x=alt.X('qT', title='qₜ'), \n",
    "            y=alt.Y('PDF', title='f(qₜ)'), \n",
    "            strokeDash='Week 1 Only vs All 12 Weeks:N')\n",
    "    .properties(\n",
    "            width=550,\n",
    "            height=250,\n",
    "            title='Distribution of qₜ: Week 1 Only vs. All 12 Weeks'\n",
    "        ).configure_view(stroke=None).configure_axisY(grid=False).configure_axisX(grid=False)         \n",
    ")"
   ]
  }
 ],
 "metadata": {
  "kernelspec": {
   "display_name": ".venv",
   "language": "python",
   "name": "python3"
  },
  "language_info": {
   "codemirror_mode": {
    "name": "ipython",
    "version": 3
   },
   "file_extension": ".py",
   "mimetype": "text/x-python",
   "name": "python",
   "nbconvert_exporter": "python",
   "pygments_lexer": "ipython3",
   "version": "3.13.1"
  }
 },
 "nbformat": 4,
 "nbformat_minor": 2
}
