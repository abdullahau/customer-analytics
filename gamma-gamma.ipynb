{
 "cells": [
  {
   "cell_type": "markdown",
   "metadata": {},
   "source": [
    "**Source**:\n",
    "- [The Gamma-Gamma Model of Monetary Value](https://www.brucehardie.com/notes/025/)"
   ]
  },
  {
   "cell_type": "code",
   "execution_count": 4,
   "metadata": {},
   "outputs": [],
   "source": [
    "import polars as pl\n",
    "import numpy as np\n",
    "from sklearn.neighbors import KernelDensity\n",
    "from scipy.optimize import minimize\n",
    "from scipy.special import gammaln\n",
    "from utils import CDNOW, modified_silverman\n",
    "\n",
    "import altair as alt\n",
    "from IPython.display import display_markdown"
   ]
  },
  {
   "cell_type": "code",
   "execution_count": 6,
   "metadata": {},
   "outputs": [],
   "source": [
    "cdnow = CDNOW(master=False, calib_p=273)\n",
    "\n",
    "# For the Gamma-Gamma model, we need to filter out customers who have made only one purchase.\n",
    "rfm_data = cdnow.rfm_summary().filter(pl.col('P1X') > 0)\n",
    "\n",
    "rfm_data_array = rfm_data.select('P1X', 't_x', 'T', 'zbar').collect().to_numpy()\n",
    "x = rfm_data_array[:,0] # frequency\n",
    "zbar = rfm_data_array[:,3] / 100 # monetary value\n",
    "t_x = rfm_data_array[:,1]\n",
    "T = rfm_data_array[:,2]"
   ]
  },
  {
   "cell_type": "markdown",
   "metadata": {},
   "source": [
    "The Gamma-Gamma model assumes that there is no relationship between the monetary value and the purchase frequency. We can check this assumption by calculating the correlation between the average spend and the frequency of purchases."
   ]
  },
  {
   "cell_type": "code",
   "execution_count": 7,
   "metadata": {},
   "outputs": [
    {
     "data": {
      "text/html": [
       "<div id=\"jzvxnwxksx\" style=\"padding-left:0px;padding-right:0px;padding-top:10px;padding-bottom:10px;overflow-x:auto;overflow-y:auto;width:auto;height:auto;\">\n",
       "<style>\n",
       "#jzvxnwxksx table {\n",
       "          font-family: -apple-system, BlinkMacSystemFont, 'Segoe UI', Roboto, Oxygen, Ubuntu, Cantarell, 'Helvetica Neue', 'Fira Sans', 'Droid Sans', Arial, sans-serif;\n",
       "          -webkit-font-smoothing: antialiased;\n",
       "          -moz-osx-font-smoothing: grayscale;\n",
       "        }\n",
       "\n",
       "#jzvxnwxksx thead, tbody, tfoot, tr, td, th { border-style: none !important; }\n",
       " tr { background-color: transparent !important; }\n",
       "#jzvxnwxksx p { margin: 0 !important; padding: 0 !important; }\n",
       " #jzvxnwxksx .gt_table { display: table !important; border-collapse: collapse !important; line-height: normal !important; margin-left: auto !important; margin-right: auto !important; color: #333333 !important; font-size: 16px !important; font-weight: normal !important; font-style: normal !important; background-color: #FFFFFF !important; width: auto !important; border-top-style: solid !important; border-top-width: 2px !important; border-top-color: #A8A8A8 !important; border-right-style: none !important; border-right-width: 2px !important; border-right-color: #D3D3D3 !important; border-bottom-style: solid !important; border-bottom-width: 2px !important; border-bottom-color: #A8A8A8 !important; border-left-style: none !important; border-left-width: 2px !important; border-left-color: #D3D3D3 !important; }\n",
       " #jzvxnwxksx .gt_caption { padding-top: 4px !important; padding-bottom: 4px !important; }\n",
       " #jzvxnwxksx .gt_title { color: #333333 !important; font-size: 125% !important; font-weight: initial !important; padding-top: 4px !important; padding-bottom: 4px !important; padding-left: 5px !important; padding-right: 5px !important; border-bottom-color: #FFFFFF !important; border-bottom-width: 0 !important; }\n",
       " #jzvxnwxksx .gt_subtitle { color: #333333 !important; font-size: 85% !important; font-weight: initial !important; padding-top: 3px !important; padding-bottom: 5px !important; padding-left: 5px !important; padding-right: 5px !important; border-top-color: #FFFFFF !important; border-top-width: 0 !important; }\n",
       " #jzvxnwxksx .gt_heading { background-color: #FFFFFF !important; text-align: center !important; border-bottom-color: #FFFFFF !important; border-left-style: none !important; border-left-width: 1px !important; border-left-color: #D3D3D3 !important; border-right-style: none !important; border-right-width: 1px !important; border-right-color: #D3D3D3 !important; }\n",
       " #jzvxnwxksx .gt_bottom_border { border-bottom-style: solid !important; border-bottom-width: 2px !important; border-bottom-color: #D3D3D3 !important; }\n",
       " #jzvxnwxksx .gt_col_headings { border-top-style: solid !important; border-top-width: 2px !important; border-top-color: #D3D3D3 !important; border-bottom-style: solid !important; border-bottom-width: 2px !important; border-bottom-color: #D3D3D3 !important; border-left-style: none !important; border-left-width: 1px !important; border-left-color: #D3D3D3 !important; border-right-style: none !important; border-right-width: 1px !important; border-right-color: #D3D3D3 !important; }\n",
       " #jzvxnwxksx .gt_col_heading { color: #333333 !important; background-color: #FFFFFF !important; font-size: 100% !important; font-weight: normal !important; text-transform: inherit !important; border-left-style: none !important; border-left-width: 1px !important; border-left-color: #D3D3D3 !important; border-right-style: none !important; border-right-width: 1px !important; border-right-color: #D3D3D3 !important; vertical-align: bottom !important; padding-top: 5px !important; padding-bottom: 5px !important; padding-left: 5px !important; padding-right: 5px !important; overflow-x: hidden !important; }\n",
       " #jzvxnwxksx .gt_column_spanner_outer { color: #333333 !important; background-color: #FFFFFF !important; font-size: 100% !important; font-weight: normal !important; text-transform: inherit !important; padding-top: 0 !important; padding-bottom: 0 !important; padding-left: 4px !important; padding-right: 4px !important; }\n",
       " #jzvxnwxksx .gt_column_spanner_outer:first-child { padding-left: 0 !important; }\n",
       " #jzvxnwxksx .gt_column_spanner_outer:last-child { padding-right: 0 !important; }\n",
       " #jzvxnwxksx .gt_column_spanner { border-bottom-style: solid !important; border-bottom-width: 2px !important; border-bottom-color: #D3D3D3 !important; vertical-align: bottom !important; padding-top: 5px !important; padding-bottom: 5px !important; overflow-x: hidden !important; display: inline-block !important; width: 100% !important; }\n",
       " #jzvxnwxksx .gt_spanner_row { border-bottom-style: hidden !important; }\n",
       " #jzvxnwxksx .gt_group_heading { padding-top: 8px !important; padding-bottom: 8px !important; padding-left: 5px !important; padding-right: 5px !important; color: #333333 !important; background-color: #FFFFFF !important; font-size: 100% !important; font-weight: initial !important; text-transform: inherit !important; border-top-style: solid !important; border-top-width: 2px !important; border-top-color: #D3D3D3 !important; border-bottom-style: solid !important; border-bottom-width: 2px !important; border-bottom-color: #D3D3D3 !important; border-left-style: none !important; border-left-width: 1px !important; border-left-color: #D3D3D3 !important; border-right-style: none !important; border-right-width: 1px !important; border-right-color: #D3D3D3 !important; vertical-align: middle !important; text-align: left !important; }\n",
       " #jzvxnwxksx .gt_empty_group_heading { padding: 0.5px !important; color: #333333 !important; background-color: #FFFFFF !important; font-size: 100% !important; font-weight: initial !important; border-top-style: solid !important; border-top-width: 2px !important; border-top-color: #D3D3D3 !important; border-bottom-style: solid !important; border-bottom-width: 2px !important; border-bottom-color: #D3D3D3 !important; vertical-align: middle !important; }\n",
       " #jzvxnwxksx .gt_from_md> :first-child { margin-top: 0 !important; }\n",
       " #jzvxnwxksx .gt_from_md> :last-child { margin-bottom: 0 !important; }\n",
       " #jzvxnwxksx .gt_row { padding-top: 8px !important; padding-bottom: 8px !important; padding-left: 5px !important; padding-right: 5px !important; margin: 10px !important; border-top-style: solid !important; border-top-width: 1px !important; border-top-color: #D3D3D3 !important; border-left-style: none !important; border-left-width: 1px !important; border-left-color: #D3D3D3 !important; border-right-style: none !important; border-right-width: 1px !important; border-right-color: #D3D3D3 !important; vertical-align: middle !important; overflow-x: hidden !important; }\n",
       " #jzvxnwxksx .gt_stub { color: #333333 !important; background-color: #FFFFFF !important; font-size: 100% !important; font-weight: initial !important; text-transform: inherit !important; border-right-style: solid !important; border-right-width: 2px !important; border-right-color: #D3D3D3 !important; padding-left: 5px !important; padding-right: 5px !important; }\n",
       " #jzvxnwxksx .gt_stub_row_group { color: #333333 !important; background-color: #FFFFFF !important; font-size: 100% !important; font-weight: initial !important; text-transform: inherit !important; border-right-style: solid !important; border-right-width: 2px !important; border-right-color: #D3D3D3 !important; padding-left: 5px !important; padding-right: 5px !important; vertical-align: top !important; }\n",
       " #jzvxnwxksx .gt_row_group_first td { border-top-width: 2px !important; }\n",
       " #jzvxnwxksx .gt_row_group_first th { border-top-width: 2px !important; }\n",
       " #jzvxnwxksx .gt_striped { background-color: rgba(128,128,128,0.05) !important; }\n",
       " #jzvxnwxksx .gt_table_body { border-top-style: solid !important; border-top-width: 2px !important; border-top-color: #D3D3D3 !important; border-bottom-style: solid !important; border-bottom-width: 2px !important; border-bottom-color: #D3D3D3 !important; }\n",
       " #jzvxnwxksx .gt_sourcenotes { color: #333333 !important; background-color: #FFFFFF !important; border-bottom-style: none !important; border-bottom-width: 2px !important; border-bottom-color: #D3D3D3 !important; border-left-style: none !important; border-left-width: 2px !important; border-left-color: #D3D3D3 !important; border-right-style: none !important; border-right-width: 2px !important; border-right-color: #D3D3D3 !important; }\n",
       " #jzvxnwxksx .gt_sourcenote { font-size: 90% !important; padding-top: 4px !important; padding-bottom: 4px !important; padding-left: 5px !important; padding-right: 5px !important; text-align: left !important; }\n",
       " #jzvxnwxksx .gt_left { text-align: left !important; }\n",
       " #jzvxnwxksx .gt_center { text-align: center !important; }\n",
       " #jzvxnwxksx .gt_right { text-align: right !important; font-variant-numeric: tabular-nums !important; }\n",
       " #jzvxnwxksx .gt_font_normal { font-weight: normal !important; }\n",
       " #jzvxnwxksx .gt_font_bold { font-weight: bold !important; }\n",
       " #jzvxnwxksx .gt_font_italic { font-style: italic !important; }\n",
       " #jzvxnwxksx .gt_super { font-size: 65% !important; }\n",
       " #jzvxnwxksx .gt_footnote_marks { font-size: 75% !important; vertical-align: 0.4em !important; position: initial !important; }\n",
       " #jzvxnwxksx .gt_asterisk { font-size: 100% !important; vertical-align: 0 !important; }\n",
       " \n",
       "</style>\n",
       "<table class=\"gt_table\" data-quarto-disable-processing=\"false\" data-quarto-bootstrap=\"false\">\n",
       "<thead>\n",
       "\n",
       "  <tr class=\"gt_heading\">\n",
       "    <td colspan=\"3\" class=\"gt_heading gt_title gt_font_normal\">Correlations Between Frequency &amp; Monetary Value</td>\n",
       "  </tr>\n",
       "<tr class=\"gt_col_headings\">\n",
       "  <th class=\"gt_col_heading gt_columns_bottom_border gt_left\" rowspan=\"1\" colspan=\"1\" scope=\"col\" id=\"\"></th>\n",
       "  <th class=\"gt_col_heading gt_columns_bottom_border gt_right\" rowspan=\"1\" colspan=\"1\" scope=\"col\" id=\"P1X\">P1X</th>\n",
       "  <th class=\"gt_col_heading gt_columns_bottom_border gt_right\" rowspan=\"1\" colspan=\"1\" scope=\"col\" id=\"zbar\">zbar</th>\n",
       "</tr>\n",
       "</thead>\n",
       "<tbody class=\"gt_table_body\">\n",
       "  <tr>\n",
       "    <th class=\"gt_row gt_left gt_stub\">P1X</th>\n",
       "    <td class=\"gt_row gt_right\">1.000</td>\n",
       "    <td class=\"gt_row gt_right\">0.114</td>\n",
       "  </tr>\n",
       "  <tr>\n",
       "    <th class=\"gt_row gt_left gt_stub\">zbar</th>\n",
       "    <td class=\"gt_row gt_right\">0.114</td>\n",
       "    <td class=\"gt_row gt_right\">1.000</td>\n",
       "  </tr>\n",
       "</tbody>\n",
       "\n",
       "\n",
       "</table>\n",
       "\n",
       "</div>\n",
       "        "
      ],
      "text/plain": [
       "GT(_tbl_data=shape: (2, 3)\n",
       "┌──────────┬──────────┬───────┐\n",
       "│ P1X      ┆ zbar     ┆ index │\n",
       "│ ---      ┆ ---      ┆ ---   │\n",
       "│ f64      ┆ f64      ┆ str   │\n",
       "╞══════════╪══════════╪═══════╡\n",
       "│ 1.0      ┆ 0.113888 ┆ P1X   │\n",
       "│ 0.113888 ┆ 1.0      ┆ zbar  │\n",
       "└──────────┴──────────┴───────┘, _body=<great_tables._gt_data.Body object at 0x000002B0EA652CF0>, _boxhead=Boxhead([ColInfo(var='P1X', type=<ColInfoTypeEnum.default: 1>, column_label='P1X', column_align='right', column_width=None), ColInfo(var='zbar', type=<ColInfoTypeEnum.default: 1>, column_label='zbar', column_align='right', column_width=None), ColInfo(var='index', type=<ColInfoTypeEnum.stub: 2>, column_label='index', column_align='left', column_width=None)]), _stub=<great_tables._gt_data.Stub object at 0x000002B0EA2B8D10>, _spanners=Spanners([]), _heading=Heading(title='Correlations Between Frequency & Monetary Value', subtitle=None, preheader=None), _stubhead=None, _source_notes=[], _footnotes=[], _styles=[], _locale=<great_tables._gt_data.Locale object at 0x000002B0D7071B80>, _formats=[<great_tables._gt_data.FormatInfo object at 0x000002B0EBB31D90>], _substitutions=[], _options=Options(table_id=OptionsInfo(scss=False, category='table', type='value', value=None), table_caption=OptionsInfo(scss=False, category='table', type='value', value=None), table_width=OptionsInfo(scss=True, category='table', type='px', value='auto'), table_layout=OptionsInfo(scss=True, category='table', type='value', value='fixed'), table_margin_left=OptionsInfo(scss=True, category='table', type='px', value='auto'), table_margin_right=OptionsInfo(scss=True, category='table', type='px', value='auto'), table_background_color=OptionsInfo(scss=True, category='table', type='value', value='#FFFFFF'), table_additional_css=OptionsInfo(scss=False, category='table', type='values', value=[]), table_font_names=OptionsInfo(scss=False, category='table', type='values', value=['-apple-system', 'BlinkMacSystemFont', 'Segoe UI', 'Roboto', 'Oxygen', 'Ubuntu', 'Cantarell', 'Helvetica Neue', 'Fira Sans', 'Droid Sans', 'Arial', 'sans-serif']), table_font_size=OptionsInfo(scss=True, category='table', type='px', value='16px'), table_font_weight=OptionsInfo(scss=True, category='table', type='value', value='normal'), table_font_style=OptionsInfo(scss=True, category='table', type='value', value='normal'), table_font_color=OptionsInfo(scss=True, category='table', type='value', value='#333333'), table_font_color_light=OptionsInfo(scss=True, category='table', type='value', value='#FFFFFF'), table_border_top_include=OptionsInfo(scss=False, category='table', type='boolean', value=True), table_border_top_style=OptionsInfo(scss=True, category='table', type='value', value='solid'), table_border_top_width=OptionsInfo(scss=True, category='table', type='px', value='2px'), table_border_top_color=OptionsInfo(scss=True, category='table', type='value', value='#A8A8A8'), table_border_right_style=OptionsInfo(scss=True, category='table', type='value', value='none'), table_border_right_width=OptionsInfo(scss=True, category='table', type='px', value='2px'), table_border_right_color=OptionsInfo(scss=True, category='table', type='value', value='#D3D3D3'), table_border_bottom_include=OptionsInfo(scss=False, category='table', type='boolean', value=True), table_border_bottom_style=OptionsInfo(scss=True, category='table', type='value', value='solid'), table_border_bottom_width=OptionsInfo(scss=True, category='table', type='px', value='2px'), table_border_bottom_color=OptionsInfo(scss=True, category='table', type='value', value='#A8A8A8'), table_border_left_style=OptionsInfo(scss=True, category='table', type='value', value='none'), table_border_left_width=OptionsInfo(scss=True, category='table', type='px', value='2px'), table_border_left_color=OptionsInfo(scss=True, category='table', type='value', value='#D3D3D3'), heading_background_color=OptionsInfo(scss=True, category='heading', type='value', value=None), heading_align=OptionsInfo(scss=True, category='heading', type='value', value='center'), heading_title_font_size=OptionsInfo(scss=True, category='heading', type='px', value='125%'), heading_title_font_weight=OptionsInfo(scss=True, category='heading', type='value', value='initial'), heading_subtitle_font_size=OptionsInfo(scss=True, category='heading', type='px', value='85%'), heading_subtitle_font_weight=OptionsInfo(scss=True, category='heading', type='value', value='initial'), heading_padding=OptionsInfo(scss=True, category='heading', type='px', value='4px'), heading_padding_horizontal=OptionsInfo(scss=True, category='heading', type='px', value='5px'), heading_border_bottom_style=OptionsInfo(scss=True, category='heading', type='value', value='solid'), heading_border_bottom_width=OptionsInfo(scss=True, category='heading', type='px', value='2px'), heading_border_bottom_color=OptionsInfo(scss=True, category='heading', type='value', value='#D3D3D3'), heading_border_lr_style=OptionsInfo(scss=True, category='heading', type='value', value='none'), heading_border_lr_width=OptionsInfo(scss=True, category='heading', type='px', value='1px'), heading_border_lr_color=OptionsInfo(scss=True, category='heading', type='value', value='#D3D3D3'), column_labels_background_color=OptionsInfo(scss=True, category='column_labels', type='value', value=None), column_labels_font_size=OptionsInfo(scss=True, category='column_labels', type='px', value='100%'), column_labels_font_weight=OptionsInfo(scss=True, category='column_labels', type='value', value='normal'), column_labels_text_transform=OptionsInfo(scss=True, category='column_labels', type='value', value='inherit'), column_labels_padding=OptionsInfo(scss=True, category='column_labels', type='px', value='5px'), column_labels_padding_horizontal=OptionsInfo(scss=True, category='column_labels', type='px', value='5px'), column_labels_vlines_style=OptionsInfo(scss=True, category='table_body', type='value', value='none'), column_labels_vlines_width=OptionsInfo(scss=True, category='table_body', type='px', value='1px'), column_labels_vlines_color=OptionsInfo(scss=True, category='table_body', type='value', value='#D3D3D3'), column_labels_border_top_style=OptionsInfo(scss=True, category='column_labels', type='value', value='solid'), column_labels_border_top_width=OptionsInfo(scss=True, category='column_labels', type='px', value='2px'), column_labels_border_top_color=OptionsInfo(scss=True, category='column_labels', type='value', value='#D3D3D3'), column_labels_border_bottom_style=OptionsInfo(scss=True, category='column_labels', type='value', value='solid'), column_labels_border_bottom_width=OptionsInfo(scss=True, category='column_labels', type='px', value='2px'), column_labels_border_bottom_color=OptionsInfo(scss=True, category='column_labels', type='value', value='#D3D3D3'), column_labels_border_lr_style=OptionsInfo(scss=True, category='column_labels', type='value', value='none'), column_labels_border_lr_width=OptionsInfo(scss=True, category='column_labels', type='px', value='1px'), column_labels_border_lr_color=OptionsInfo(scss=True, category='column_labels', type='value', value='#D3D3D3'), column_labels_hidden=OptionsInfo(scss=False, category='column_labels', type='boolean', value=False), row_group_background_color=OptionsInfo(scss=True, category='row_group', type='value', value=None), row_group_font_size=OptionsInfo(scss=True, category='row_group', type='px', value='100%'), row_group_font_weight=OptionsInfo(scss=True, category='row_group', type='value', value='initial'), row_group_text_transform=OptionsInfo(scss=True, category='row_group', type='value', value='inherit'), row_group_padding=OptionsInfo(scss=True, category='row_group', type='px', value='8px'), row_group_padding_horizontal=OptionsInfo(scss=True, category='row_group', type='px', value='5px'), row_group_border_top_style=OptionsInfo(scss=True, category='row_group', type='value', value='solid'), row_group_border_top_width=OptionsInfo(scss=True, category='row_group', type='px', value='2px'), row_group_border_top_color=OptionsInfo(scss=True, category='row_group', type='value', value='#D3D3D3'), row_group_border_right_style=OptionsInfo(scss=True, category='row_group', type='value', value='none'), row_group_border_right_width=OptionsInfo(scss=True, category='row_group', type='px', value='1px'), row_group_border_right_color=OptionsInfo(scss=True, category='row_group', type='value', value='#D3D3D3'), row_group_border_bottom_style=OptionsInfo(scss=True, category='row_group', type='value', value='solid'), row_group_border_bottom_width=OptionsInfo(scss=True, category='row_group', type='px', value='2px'), row_group_border_bottom_color=OptionsInfo(scss=True, category='row_group', type='value', value='#D3D3D3'), row_group_border_left_style=OptionsInfo(scss=True, category='row_group', type='value', value='none'), row_group_border_left_width=OptionsInfo(scss=True, category='row_group', type='px', value='1px'), row_group_border_left_color=OptionsInfo(scss=True, category='row_group', type='value', value='#D3D3D3'), row_group_as_column=OptionsInfo(scss=False, category='row_group', type='boolean', value=False), table_body_hlines_style=OptionsInfo(scss=True, category='table_body', type='value', value='solid'), table_body_hlines_width=OptionsInfo(scss=True, category='table_body', type='px', value='1px'), table_body_hlines_color=OptionsInfo(scss=True, category='table_body', type='value', value='#D3D3D3'), table_body_vlines_style=OptionsInfo(scss=True, category='table_body', type='value', value='none'), table_body_vlines_width=OptionsInfo(scss=True, category='table_body', type='px', value='1px'), table_body_vlines_color=OptionsInfo(scss=True, category='table_body', type='value', value='#D3D3D3'), table_body_border_top_style=OptionsInfo(scss=True, category='table_body', type='value', value='solid'), table_body_border_top_width=OptionsInfo(scss=True, category='table_body', type='px', value='2px'), table_body_border_top_color=OptionsInfo(scss=True, category='table_body', type='value', value='#D3D3D3'), table_body_border_bottom_style=OptionsInfo(scss=True, category='table_body', type='value', value='solid'), table_body_border_bottom_width=OptionsInfo(scss=True, category='table_body', type='px', value='2px'), table_body_border_bottom_color=OptionsInfo(scss=True, category='table_body', type='value', value='#D3D3D3'), data_row_padding=OptionsInfo(scss=True, category='data_row', type='px', value='8px'), data_row_padding_horizontal=OptionsInfo(scss=True, category='data_row', type='px', value='5px'), stub_background_color=OptionsInfo(scss=True, category='stub', type='value', value=None), stub_font_size=OptionsInfo(scss=True, category='stub', type='px', value='100%'), stub_font_weight=OptionsInfo(scss=True, category='stub', type='value', value='initial'), stub_text_transform=OptionsInfo(scss=True, category='stub', type='value', value='inherit'), stub_border_style=OptionsInfo(scss=True, category='stub', type='value', value='solid'), stub_border_width=OptionsInfo(scss=True, category='stub', type='px', value='2px'), stub_border_color=OptionsInfo(scss=True, category='stub', type='value', value='#D3D3D3'), stub_row_group_background_color=OptionsInfo(scss=True, category='stub', type='value', value=None), stub_row_group_font_size=OptionsInfo(scss=True, category='stub', type='px', value='100%'), stub_row_group_font_weight=OptionsInfo(scss=True, category='stub', type='value', value='initial'), stub_row_group_text_transform=OptionsInfo(scss=True, category='stub', type='value', value='inherit'), stub_row_group_border_style=OptionsInfo(scss=True, category='stub', type='value', value='solid'), stub_row_group_border_width=OptionsInfo(scss=True, category='stub', type='px', value='2px'), stub_row_group_border_color=OptionsInfo(scss=True, category='stub', type='value', value='#D3D3D3'), source_notes_padding=OptionsInfo(scss=True, category='source_notes', type='px', value='4px'), source_notes_padding_horizontal=OptionsInfo(scss=True, category='source_notes', type='px', value='5px'), source_notes_background_color=OptionsInfo(scss=True, category='source_notes', type='value', value=None), source_notes_font_size=OptionsInfo(scss=True, category='source_notes', type='px', value='90%'), source_notes_border_bottom_style=OptionsInfo(scss=True, category='source_notes', type='value', value='none'), source_notes_border_bottom_width=OptionsInfo(scss=True, category='source_notes', type='px', value='2px'), source_notes_border_bottom_color=OptionsInfo(scss=True, category='source_notes', type='value', value='#D3D3D3'), source_notes_border_lr_style=OptionsInfo(scss=True, category='source_notes', type='value', value='none'), source_notes_border_lr_width=OptionsInfo(scss=True, category='source_notes', type='px', value='2px'), source_notes_border_lr_color=OptionsInfo(scss=True, category='source_notes', type='value', value='#D3D3D3'), source_notes_multiline=OptionsInfo(scss=False, category='source_notes', type='boolean', value=True), source_notes_sep=OptionsInfo(scss=False, category='source_notes', type='value', value=' '), row_striping_background_color=OptionsInfo(scss=True, category='row', type='value', value='rgba(128,128,128,0.05)'), row_striping_include_stub=OptionsInfo(scss=False, category='row', type='boolean', value=False), row_striping_include_table_body=OptionsInfo(scss=False, category='row', type='boolean', value=False), container_width=OptionsInfo(scss=False, category='container', type='px', value='auto'), container_height=OptionsInfo(scss=False, category='container', type='px', value='auto'), container_padding_x=OptionsInfo(scss=False, category='container', type='px', value='0px'), container_padding_y=OptionsInfo(scss=False, category='container', type='px', value='10px'), container_overflow_x=OptionsInfo(scss=False, category='container', type='overflow', value='auto'), container_overflow_y=OptionsInfo(scss=False, category='container', type='overflow', value='auto'), quarto_disable_processing=OptionsInfo(scss=False, category='quarto', type='logical', value=False), quarto_use_bootstrap=OptionsInfo(scss=False, category='quarto', type='logical', value=False)), _has_built=False)"
      ]
     },
     "execution_count": 7,
     "metadata": {},
     "output_type": "execute_result"
    }
   ],
   "source": [
    "corr_data = rfm_data.select('P1X', 'zbar').collect()\n",
    "(\n",
    "    corr_data.corr()\n",
    "    .with_columns(pl.Series(corr_data.columns).alias(\"index\"))\n",
    "    .style.tab_header(title=\"Correlations Between Frequency & Monetary Value\")\n",
    "    .tab_stub(rowname_col=\"index\")\n",
    "    .fmt_number(decimals=3)\n",
    ")\n",
    "\n",
    "# The value of this correlation is close to 0.11, which in practice is considered low enough to proceed with the model."
   ]
  },
  {
   "cell_type": "code",
   "execution_count": 8,
   "metadata": {},
   "outputs": [
    {
     "data": {
      "text/html": [
       "<div><style>\n",
       ".dataframe > thead > tr,\n",
       ".dataframe > tbody > tr {\n",
       "  text-align: right;\n",
       "  white-space: pre-wrap;\n",
       "}\n",
       "</style>\n",
       "<small>shape: (9, 2)</small><table border=\"1\" class=\"dataframe\"><thead><tr><th>statistic</th><th>zbar</th></tr><tr><td>str</td><td>f64</td></tr></thead><tbody><tr><td>&quot;count&quot;</td><td>946.0</td></tr><tr><td>&quot;null_count&quot;</td><td>0.0</td></tr><tr><td>&quot;mean&quot;</td><td>35.077848</td></tr><tr><td>&quot;std&quot;</td><td>30.283506</td></tr><tr><td>&quot;min&quot;</td><td>2.99</td></tr><tr><td>&quot;25%&quot;</td><td>15.76</td></tr><tr><td>&quot;50%&quot;</td><td>27.54</td></tr><tr><td>&quot;75%&quot;</td><td>41.79</td></tr><tr><td>&quot;max&quot;</td><td>299.63381</td></tr></tbody></table></div>"
      ],
      "text/plain": [
       "shape: (9, 2)\n",
       "┌────────────┬───────────┐\n",
       "│ statistic  ┆ zbar      │\n",
       "│ ---        ┆ ---       │\n",
       "│ str        ┆ f64       │\n",
       "╞════════════╪═══════════╡\n",
       "│ count      ┆ 946.0     │\n",
       "│ null_count ┆ 0.0       │\n",
       "│ mean       ┆ 35.077848 │\n",
       "│ std        ┆ 30.283506 │\n",
       "│ min        ┆ 2.99      │\n",
       "│ 25%        ┆ 15.76     │\n",
       "│ 50%        ┆ 27.54     │\n",
       "│ 75%        ┆ 41.79     │\n",
       "│ max        ┆ 299.63381 │\n",
       "└────────────┴───────────┘"
      ]
     },
     "execution_count": 8,
     "metadata": {},
     "output_type": "execute_result"
    }
   ],
   "source": [
    "# Descriptive statistics of the average spend per repeat transaction\n",
    "summary = rfm_data.select('zbar').with_columns(pl.col('zbar') / 100).describe()\n",
    "summary\n",
    "\n",
    "# We note that the distribution of observed individual means is highly skewed to the right."
   ]
  },
  {
   "cell_type": "markdown",
   "metadata": {},
   "source": [
    "Probability density estimate of the sample"
   ]
  },
  {
   "cell_type": "code",
   "execution_count": 7,
   "metadata": {},
   "outputs": [
    {
     "name": "stdout",
     "output_type": "stream",
     "text": [
      "Kernel Smoothing Bandwidth: 0.18800626075684287\n"
     ]
    }
   ],
   "source": [
    "m = np.arange(2.5, 301, 2.5) # Average transaction value range\n",
    "\n",
    "# Apply log transformation for boundary correction\n",
    "m_log = np.log(m)\n",
    "zbar_log = np.log(zbar)\n",
    "\n",
    "bw = modified_silverman(zbar_log)\n",
    "print('Kernel Smoothing Bandwidth:', bw) "
   ]
  },
  {
   "cell_type": "code",
   "execution_count": 8,
   "metadata": {},
   "outputs": [],
   "source": [
    "# Estimate the probability density function\n",
    "# Method 1 - Using sklearn\n",
    "kde = KernelDensity(kernel='gaussian', bandwidth=bw).fit(zbar_log.reshape(-1,1))\n",
    "log_density = kde.score_samples(m_log.reshape(-1,1))\n",
    "f = np.exp(log_density) / m # Transform the density back to the original scale\n",
    "\n",
    "# Method 2 - Using statsmodels\n",
    "# import statsmodels.api as sm\n",
    "# kde = sm.nonparametric.KDEUnivariate(zbar_log)\n",
    "# kde.fit(kernel='gau', bw=bw)\n",
    "# f_log = kde.evaluate(m_log)\n",
    "# f = f_log / m "
   ]
  },
  {
   "cell_type": "markdown",
   "metadata": {},
   "source": [
    "The distribution of average spend per (repeat) transaction across the 946 individuals who made a repeat transaction in the calibration period. Each customer’s average\n",
    "is computed across a (typically very) small number of transactions."
   ]
  },
  {
   "cell_type": "code",
   "execution_count": 9,
   "metadata": {},
   "outputs": [
    {
     "data": {
      "application/vnd.vegalite.v5+json": {
       "$schema": "https://vega.github.io/schema/vega-lite/v5.20.1.json",
       "config": {
        "axisX": {
         "grid": false
        },
        "axisY": {
         "grid": false
        },
        "view": {
         "continuousHeight": 300,
         "continuousWidth": 300,
         "stroke": null
        }
       },
       "data": {
        "name": "data-3a4a0a4c0ab66d29cafbd6122dcdc538"
       },
       "datasets": {
        "data-3a4a0a4c0ab66d29cafbd6122dcdc538": [
         {
          "Average Transaction Value (z)": 2.5,
          "f(z)": 0.000574964666954661
         },
         {
          "Average Transaction Value (z)": 5,
          "f(z)": 0.002833099839721059
         },
         {
          "Average Transaction Value (z)": 7.5,
          "f(z)": 0.005673589773005017
         },
         {
          "Average Transaction Value (z)": 10,
          "f(z)": 0.019360842315832752
         },
         {
          "Average Transaction Value (z)": 12.5,
          "f(z)": 0.03430593905034409
         },
         {
          "Average Transaction Value (z)": 15,
          "f(z)": 0.034977124942824775
         },
         {
          "Average Transaction Value (z)": 17.5,
          "f(z)": 0.028675290708282394
         },
         {
          "Average Transaction Value (z)": 20,
          "f(z)": 0.024125323622117837
         },
         {
          "Average Transaction Value (z)": 22.5,
          "f(z)": 0.022186663054258496
         },
         {
          "Average Transaction Value (z)": 25,
          "f(z)": 0.021316234847263554
         },
         {
          "Average Transaction Value (z)": 27.5,
          "f(z)": 0.02041109564684734
         },
         {
          "Average Transaction Value (z)": 30,
          "f(z)": 0.01911709451039377
         },
         {
          "Average Transaction Value (z)": 32.5,
          "f(z)": 0.017537992277857427
         },
         {
          "Average Transaction Value (z)": 35,
          "f(z)": 0.015873602567824944
         },
         {
          "Average Transaction Value (z)": 37.5,
          "f(z)": 0.0142430868354314
         },
         {
          "Average Transaction Value (z)": 40,
          "f(z)": 0.012685970205158489
         },
         {
          "Average Transaction Value (z)": 42.5,
          "f(z)": 0.01121422757532232
         },
         {
          "Average Transaction Value (z)": 45,
          "f(z)": 0.009842144578266463
         },
         {
          "Average Transaction Value (z)": 47.5,
          "f(z)": 0.008588770244414044
         },
         {
          "Average Transaction Value (z)": 50,
          "f(z)": 0.00747012228235236
         },
         {
          "Average Transaction Value (z)": 52.5,
          "f(z)": 0.0064931922820302655
         },
         {
          "Average Transaction Value (z)": 55,
          "f(z)": 0.005654826866202641
         },
         {
          "Average Transaction Value (z)": 57.5,
          "f(z)": 0.004943998634126708
         },
         {
          "Average Transaction Value (z)": 60,
          "f(z)": 0.004345217718415314
         },
         {
          "Average Transaction Value (z)": 62.5,
          "f(z)": 0.0038415938070805867
         },
         {
          "Average Transaction Value (z)": 65,
          "f(z)": 0.003416951692068985
         },
         {
          "Average Transaction Value (z)": 67.5,
          "f(z)": 0.0030569778887621735
         },
         {
          "Average Transaction Value (z)": 70,
          "f(z)": 0.0027496290434891966
         },
         {
          "Average Transaction Value (z)": 72.5,
          "f(z)": 0.0024850824966257466
         },
         {
          "Average Transaction Value (z)": 75,
          "f(z)": 0.002255462293913384
         },
         {
          "Average Transaction Value (z)": 77.5,
          "f(z)": 0.0020544977792651994
         },
         {
          "Average Transaction Value (z)": 80,
          "f(z)": 0.001877201345767503
         },
         {
          "Average Transaction Value (z)": 82.5,
          "f(z)": 0.0017196004135717198
         },
         {
          "Average Transaction Value (z)": 85,
          "f(z)": 0.0015785278145801437
         },
         {
          "Average Transaction Value (z)": 87.5,
          "f(z)": 0.0014514604734249424
         },
         {
          "Average Transaction Value (z)": 90,
          "f(z)": 0.0013363928665853118
         },
         {
          "Average Transaction Value (z)": 92.5,
          "f(z)": 0.0012317339782947402
         },
         {
          "Average Transaction Value (z)": 95,
          "f(z)": 0.0011362205444300066
         },
         {
          "Average Transaction Value (z)": 97.5,
          "f(z)": 0.0010488430595181307
         },
         {
          "Average Transaction Value (z)": 100,
          "f(z)": 0.000968783394596733
         },
         {
          "Average Transaction Value (z)": 102.5,
          "f(z)": 0.0008953638703123863
         },
         {
          "Average Transaction Value (z)": 105,
          "f(z)": 0.0008280076194251543
         },
         {
          "Average Transaction Value (z)": 107.5,
          "f(z)": 0.0007662095420254602
         },
         {
          "Average Transaction Value (z)": 110,
          "f(z)": 0.0007095165209692238
         },
         {
          "Average Transaction Value (z)": 112.5,
          "f(z)": 0.0006575150916213122
         },
         {
          "Average Transaction Value (z)": 115,
          "f(z)": 0.0006098245645100417
         },
         {
          "Average Transaction Value (z)": 117.5,
          "f(z)": 0.0005660936814467072
         },
         {
          "Average Transaction Value (z)": 120,
          "f(z)": 0.0005259991762088882
         },
         {
          "Average Transaction Value (z)": 122.5,
          "f(z)": 0.0004892450157151583
         },
         {
          "Average Transaction Value (z)": 125,
          "f(z)": 0.00045556152740959023
         },
         {
          "Average Transaction Value (z)": 127.5,
          "f(z)": 0.00042470400580658935
         },
         {
          "Average Transaction Value (z)": 130,
          "f(z)": 0.0003964506956230609
         },
         {
          "Average Transaction Value (z)": 132.5,
          "f(z)": 0.000370600255694977
         },
         {
          "Average Transaction Value (z)": 135,
          "f(z)": 0.0003469689211785114
         },
         {
          "Average Transaction Value (z)": 137.5,
          "f(z)": 0.0003253876175743728
         },
         {
          "Average Transaction Value (z)": 140,
          "f(z)": 0.0003056992604652201
         },
         {
          "Average Transaction Value (z)": 142.5,
          "f(z)": 0.00028775642144152915
         },
         {
          "Average Transaction Value (z)": 145,
          "f(z)": 0.0002714194725331266
         },
         {
          "Average Transaction Value (z)": 147.5,
          "f(z)": 0.0002565552530651892
         },
         {
          "Average Transaction Value (z)": 150,
          "f(z)": 0.0002430362438260383
         },
         {
          "Average Transaction Value (z)": 152.5,
          "f(z)": 0.00023074018892418522
         },
         {
          "Average Transaction Value (z)": 155,
          "f(z)": 0.00021955007731345885
         },
         {
          "Average Transaction Value (z)": 157.5,
          "f(z)": 0.00020935438273481113
         },
         {
          "Average Transaction Value (z)": 160,
          "f(z)": 0.00020004746027306504
         },
         {
          "Average Transaction Value (z)": 162.5,
          "f(z)": 0.00019153000664644365
         },
         {
          "Average Transaction Value (z)": 165,
          "f(z)": 0.00018370950642295118
         },
         {
          "Average Transaction Value (z)": 167.5,
          "f(z)": 0.00017650060458643737
         },
         {
          "Average Transaction Value (z)": 170,
          "f(z)": 0.00016982536479281734
         },
         {
          "Average Transaction Value (z)": 172.5,
          "f(z)": 0.00016361339043139027
         },
         {
          "Average Transaction Value (z)": 175,
          "f(z)": 0.000157801801027182
         },
         {
          "Average Transaction Value (z)": 177.5,
          "f(z)": 0.00015233506892741821
         },
         {
          "Average Transaction Value (z)": 180,
          "f(z)": 0.00014716473039296906
         },
         {
          "Average Transaction Value (z)": 182.5,
          "f(z)": 0.0001422489912790232
         },
         {
          "Average Transaction Value (z)": 185,
          "f(z)": 0.00013755225077447761
         },
         {
          "Average Transaction Value (z)": 187.5,
          "f(z)": 0.00013304456763965484
         },
         {
          "Average Transaction Value (z)": 190,
          "f(z)": 0.0001287010925504403
         },
         {
          "Average Transaction Value (z)": 192.5,
          "f(z)": 0.00012450148803180258
         },
         {
          "Average Transaction Value (z)": 195,
          "f(z)": 0.00012042935450873657
         },
         {
          "Average Transaction Value (z)": 197.5,
          "f(z)": 0.0001164716776152526
         },
         {
          "Average Transaction Value (z)": 200,
          "f(z)": 0.00011261830840219694
         },
         {
          "Average Transaction Value (z)": 202.5,
          "f(z)": 0.00010886148471435863
         },
         {
          "Average Transaction Value (z)": 205,
          "f(z)": 0.00010519539893546334
         },
         {
          "Average Transaction Value (z)": 207.5,
          "f(z)": 0.00010161581463113141
         },
         {
          "Average Transaction Value (z)": 210,
          "f(z)": 0.00009811973240667989
         },
         {
          "Average Transaction Value (z)": 212.5,
          "f(z)": 0.0000947051035492738
         },
         {
          "Average Transaction Value (z)": 215,
          "f(z)": 0.00009137058872228647
         },
         {
          "Average Transaction Value (z)": 217.5,
          "f(z)": 0.00008811535808307139
         },
         {
          "Average Transaction Value (z)": 220,
          "f(z)": 0.00008493892865044622
         },
         {
          "Average Transaction Value (z)": 222.5,
          "f(z)": 0.00008184103449616325
         },
         {
          "Average Transaction Value (z)": 225,
          "f(z)": 0.0000788215253158673
         },
         {
          "Average Transaction Value (z)": 227.5,
          "f(z)": 0.00007588028909312285
         },
         {
          "Average Transaction Value (z)": 230,
          "f(z)": 0.000073017194853851
         },
         {
          "Average Transaction Value (z)": 232.5,
          "f(z)": 0.00007023205187393074
         },
         {
          "Average Transaction Value (z)": 235,
          "f(z)": 0.00006752458211289475
         },
         {
          "Average Transaction Value (z)": 237.5,
          "f(z)": 0.00006489440307240794
         },
         {
          "Average Transaction Value (z)": 240,
          "f(z)": 0.00006234101869704774
         },
         {
          "Average Transaction Value (z)": 242.5,
          "f(z)": 0.00005986381633088301
         },
         {
          "Average Transaction Value (z)": 245,
          "f(z)": 0.000057462068105595246
         },
         {
          "Average Transaction Value (z)": 247.5,
          "f(z)": 0.0000551349354582735
         },
         {
          "Average Transaction Value (z)": 250,
          "f(z)": 0.0000528814757567731
         },
         {
          "Average Transaction Value (z)": 252.5,
          "f(z)": 0.000050700650247751185
         },
         {
          "Average Transaction Value (z)": 255,
          "f(z)": 0.00004859133273909122
         },
         {
          "Average Transaction Value (z)": 257.5,
          "f(z)": 0.00004655231858780532
         },
         {
          "Average Transaction Value (z)": 260,
          "f(z)": 0.000044582333690687455
         },
         {
          "Average Transaction Value (z)": 262.5,
          "f(z)": 0.000042680043272481686
         },
         {
          "Average Transaction Value (z)": 265,
          "f(z)": 0.00004084406033965657
         },
         {
          "Average Transaction Value (z)": 267.5,
          "f(z)": 0.000039072953721328455
         },
         {
          "Average Transaction Value (z)": 270,
          "f(z)": 0.000037365255656463324
         },
         {
          "Average Transaction Value (z)": 272.5,
          "f(z)": 0.000035719468911739524
         },
         {
          "Average Transaction Value (z)": 275,
          "f(z)": 0.00003413407343040036
         },
         {
          "Average Transaction Value (z)": 277.5,
          "f(z)": 0.00003260753252166306
         },
         {
          "Average Transaction Value (z)": 280,
          "f(z)": 0.00003113829860480159
         },
         {
          "Average Transaction Value (z)": 282.5,
          "f(z)": 0.000029724818523581405
         },
         {
          "Average Transaction Value (z)": 285,
          "f(z)": 0.00002836553844648129
         },
         {
          "Average Transaction Value (z)": 287.5,
          "f(z)": 0.000027058908367061312
         },
         {
          "Average Transaction Value (z)": 290,
          "f(z)": 0.000025803386217509895
         },
         {
          "Average Transaction Value (z)": 292.5,
          "f(z)": 0.000024597441607259704
         },
         {
          "Average Transaction Value (z)": 295,
          "f(z)": 0.000023439559197820797
         },
         {
          "Average Transaction Value (z)": 297.5,
          "f(z)": 0.000022328241724734024
         },
         {
          "Average Transaction Value (z)": 300,
          "f(z)": 0.00002126201267780195
         }
        ]
       },
       "encoding": {
        "x": {
         "axis": {
          "labelExpr": "\"$\"+datum.value",
          "values": [
           0,
           50,
           100,
           150,
           200,
           250,
           300
          ]
         },
         "field": "Average Transaction Value (z)",
         "type": "quantitative"
        },
        "y": {
         "field": "f(z)",
         "scale": {
          "domain": [
           0,
           0.04
          ]
         },
         "type": "quantitative"
        }
       },
       "height": 400,
       "mark": {
        "type": "line"
       },
       "title": "Observed distribution of average transaction values across customers",
       "width": 500
      },
      "text/plain": [
       "<VegaLite 5 object>\n",
       "\n",
       "If you see this message, it means the renderer has not been properly enabled\n",
       "for the frontend that you are using. For more information, see\n",
       "https://altair-viz.github.io/user_guide/display_frontends.html#troubleshooting\n"
      ]
     },
     "execution_count": 9,
     "metadata": {},
     "output_type": "execute_result"
    }
   ],
   "source": [
    "act_dist_plot = (\n",
    "    alt.Chart(pl.DataFrame({'Average Transaction Value (z)': m, 'f(z)': f}))\n",
    "    .mark_line().encode(\n",
    "        x=alt.X('Average Transaction Value (z)', axis=alt.Axis(values=np.arange(0, 301, 50), labelExpr='\"$\"+datum.value')),\n",
    "        y=alt.Y('f(z)', scale=alt.Scale(domain=[0, 0.04]))\n",
    "    )\n",
    ")\n",
    "\n",
    "act_dist_plot.properties(\n",
    "            width=500,\n",
    "            height=400,\n",
    "            title='Observed distribution of average transaction values across customers'\n",
    ").configure_view(stroke=None).configure_axisY(grid=False).configure_axisX(grid=False) "
   ]
  },
  {
   "cell_type": "markdown",
   "metadata": {},
   "source": [
    "### Parameter Estimation"
   ]
  },
  {
   "cell_type": "code",
   "execution_count": 10,
   "metadata": {},
   "outputs": [
    {
     "data": {
      "text/markdown": [
       "$p$ = 6.2492\n",
       "\n",
       "$q$ = 3.7442\n",
       "\n",
       "$\\gamma$ = 15.4446\n",
       "\n",
       "Log-Likelihood = -4055.9177"
      ]
     },
     "metadata": {},
     "output_type": "display_data"
    }
   ],
   "source": [
    "def gammagamma(x, zbar, guess={'p': 0.01, 'q': 0.01, 'gamma': 0.01}):\n",
    "        \n",
    "    def log_likelihood(param):\n",
    "        p, q, gamma = param[0], param[1], param[2]\n",
    "        \n",
    "        ll = gammaln(p*x+q)-gammaln(p*x)-gammaln(q)+q*np.log(gamma)+(p*x-1)*np.log(zbar)+(p*x)*np.log(x)-(p*x+q)*np.log(gamma+x*zbar)\n",
    "        \n",
    "        return -np.sum(ll)\n",
    "    \n",
    "    bnds = [(1e-6, np.inf) for _ in range(3)]\n",
    "    \n",
    "    return minimize(log_likelihood, x0=list(guess.values()), bounds=bnds, method='L-BFGS-B')\n",
    "        \n",
    "res = gammagamma(x=x, zbar=zbar)\n",
    "p, q, gamma = res.x\n",
    "ll = res.fun\n",
    "\n",
    "# Sample Parameters\n",
    "# p = 6.24983547654959\n",
    "# q = 3.7441106896737\n",
    "# gamma = 15.4423198312514\n",
    "\n",
    "display_markdown(f'''$p$ = {p:0.4f}\n",
    "\n",
    "$q$ = {q:0.4f}\n",
    "\n",
    "$\\\\gamma$ = {gamma:0.4f}\n",
    "\n",
    "Log-Likelihood = {-ll:0.4f}''', raw=True)\n"
   ]
  },
  {
   "cell_type": "markdown",
   "metadata": {},
   "source": [
    "The distribution where the means have been computed across x → ∞ transactions"
   ]
  },
  {
   "cell_type": "code",
   "execution_count": 11,
   "metadata": {},
   "outputs": [
    {
     "data": {
      "application/vnd.vegalite.v5+json": {
       "$schema": "https://vega.github.io/schema/vega-lite/v5.20.1.json",
       "config": {
        "axisX": {
         "grid": false
        },
        "axisY": {
         "grid": false
        },
        "view": {
         "continuousHeight": 300,
         "continuousWidth": 300,
         "stroke": null
        }
       },
       "data": {
        "name": "data-8997d5466df6010440e7b15127e9b49c"
       },
       "datasets": {
        "data-8997d5466df6010440e7b15127e9b49c": [
         {
          "Unobserved mean transaction value (ζ)": 1,
          "f(ζ)": 7.442735557261001e-36
         },
         {
          "Unobserved mean transaction value (ζ)": 2,
          "f(ζ)": 2.521889067463695e-16
         },
         {
          "Unobserved mean transaction value (ζ)": 3,
          "f(ζ)": 3.5674583119412855e-10
         },
         {
          "Unobserved mean transaction value (ζ)": 4,
          "f(ζ)": 2.8356089326696625e-7
         },
         {
          "Unobserved mean transaction value (ζ)": 5,
          "f(ζ)": 0.000012265873235968334
         },
         {
          "Unobserved mean transaction value (ζ)": 6,
          "f(ζ)": 0.00012890059413334513
         },
         {
          "Unobserved mean transaction value (ζ)": 7,
          "f(ζ)": 0.0006175207322301606
         },
         {
          "Unobserved mean transaction value (ζ)": 8,
          "f(ζ)": 0.0018366659550145081
         },
         {
          "Unobserved mean transaction value (ζ)": 9,
          "f(ζ)": 0.004013488790000861
         },
         {
          "Unobserved mean transaction value (ζ)": 10,
          "f(ζ)": 0.007115001709947403
         },
         {
          "Unobserved mean transaction value (ζ)": 11,
          "f(ζ)": 0.010885695566741765
         },
         {
          "Unobserved mean transaction value (ζ)": 12,
          "f(ζ)": 0.014966718382536553
         },
         {
          "Unobserved mean transaction value (ζ)": 13,
          "f(ζ)": 0.01900647900039964
         },
         {
          "Unobserved mean transaction value (ζ)": 14,
          "f(ζ)": 0.022725828916768578
         },
         {
          "Unobserved mean transaction value (ζ)": 15,
          "f(ζ)": 0.02593994108831688
         },
         {
          "Unobserved mean transaction value (ζ)": 16,
          "f(ζ)": 0.028552606331818636
         },
         {
          "Unobserved mean transaction value (ζ)": 17,
          "f(ζ)": 0.030537922029504377
         },
         {
          "Unobserved mean transaction value (ζ)": 18,
          "f(ζ)": 0.03191922028353809
         },
         {
          "Unobserved mean transaction value (ζ)": 19,
          "f(ζ)": 0.03275028135610815
         },
         {
          "Unobserved mean transaction value (ζ)": 20,
          "f(ζ)": 0.033100681758165294
         },
         {
          "Unobserved mean transaction value (ζ)": 21,
          "f(ζ)": 0.03304539346780633
         },
         {
          "Unobserved mean transaction value (ζ)": 22,
          "f(ζ)": 0.03265799467792626
         },
         {
          "Unobserved mean transaction value (ζ)": 23,
          "f(ζ)": 0.03200664278661928
         },
         {
          "Unobserved mean transaction value (ζ)": 24,
          "f(ζ)": 0.03115201064025084
         },
         {
          "Unobserved mean transaction value (ζ)": 25,
          "f(ζ)": 0.03014653413850643
         },
         {
          "Unobserved mean transaction value (ζ)": 26,
          "f(ζ)": 0.029034481550674146
         },
         {
          "Unobserved mean transaction value (ζ)": 27,
          "f(ζ)": 0.027852497562578158
         },
         {
          "Unobserved mean transaction value (ζ)": 28,
          "f(ζ)": 0.026630387725464617
         },
         {
          "Unobserved mean transaction value (ζ)": 29,
          "f(ζ)": 0.025391992273647374
         },
         {
          "Unobserved mean transaction value (ζ)": 30,
          "f(ζ)": 0.02415605704604353
         },
         {
          "Unobserved mean transaction value (ζ)": 31,
          "f(ζ)": 0.022937049151735448
         },
         {
          "Unobserved mean transaction value (ζ)": 32,
          "f(ζ)": 0.021745891161836957
         },
         {
          "Unobserved mean transaction value (ζ)": 33,
          "f(ζ)": 0.020590604086713652
         },
         {
          "Unobserved mean transaction value (ζ)": 34,
          "f(ζ)": 0.019476859294197974
         },
         {
          "Unobserved mean transaction value (ζ)": 35,
          "f(ζ)": 0.018408445066703274
         },
         {
          "Unobserved mean transaction value (ζ)": 36,
          "f(ζ)": 0.017387656239314295
         },
         {
          "Unobserved mean transaction value (ζ)": 37,
          "f(ζ)": 0.016415616367647958
         },
         {
          "Unobserved mean transaction value (ζ)": 38,
          "f(ζ)": 0.015492541849979872
         },
         {
          "Unobserved mean transaction value (ζ)": 39,
          "f(ζ)": 0.014617956832627592
         },
         {
          "Unobserved mean transaction value (ζ)": 40,
          "f(ζ)": 0.013790866852555489
         },
         {
          "Unobserved mean transaction value (ζ)": 41,
          "f(ζ)": 0.013009898195833385
         },
         {
          "Unobserved mean transaction value (ζ)": 42,
          "f(ζ)": 0.012273408980302459
         },
         {
          "Unobserved mean transaction value (ζ)": 43,
          "f(ζ)": 0.011579577063398471
         },
         {
          "Unobserved mean transaction value (ζ)": 44,
          "f(ζ)": 0.010926469059491403
         },
         {
          "Unobserved mean transaction value (ζ)": 45,
          "f(ζ)": 0.010312094035044603
         },
         {
          "Unobserved mean transaction value (ζ)": 46,
          "f(ζ)": 0.009734444833469495
         },
         {
          "Unobserved mean transaction value (ζ)": 47,
          "f(ζ)": 0.009191529458070113
         },
         {
          "Unobserved mean transaction value (ζ)": 48,
          "f(ζ)": 0.008681394501494886
         },
         {
          "Unobserved mean transaction value (ζ)": 49,
          "f(ζ)": 0.008202142243282605
         },
         {
          "Unobserved mean transaction value (ζ)": 50,
          "f(ζ)": 0.007751942733186121
         },
         {
          "Unobserved mean transaction value (ζ)": 51,
          "f(ζ)": 0.007329041927476929
         },
         {
          "Unobserved mean transaction value (ζ)": 52,
          "f(ζ)": 0.006931766739853979
         },
         {
          "Unobserved mean transaction value (ζ)": 53,
          "f(ζ)": 0.006558527700446596
         },
         {
          "Unobserved mean transaction value (ζ)": 54,
          "f(ζ)": 0.006207819779307906
         },
         {
          "Unobserved mean transaction value (ζ)": 55,
          "f(ζ)": 0.005878221819306231
         },
         {
          "Unobserved mean transaction value (ζ)": 56,
          "f(ζ)": 0.005568394932871614
         },
         {
          "Unobserved mean transaction value (ζ)": 57,
          "f(ζ)": 0.005277080143835462
         },
         {
          "Unobserved mean transaction value (ζ)": 58,
          "f(ζ)": 0.005003095496457293
         },
         {
          "Unobserved mean transaction value (ζ)": 59,
          "f(ζ)": 0.004745332806059984
         },
         {
          "Unobserved mean transaction value (ζ)": 60,
          "f(ζ)": 0.004502754187353179
         },
         {
          "Unobserved mean transaction value (ζ)": 61,
          "f(ζ)": 0.004274388465759852
         },
         {
          "Unobserved mean transaction value (ζ)": 62,
          "f(ζ)": 0.004059327552439041
         },
         {
          "Unobserved mean transaction value (ζ)": 63,
          "f(ζ)": 0.0038567228440489127
         },
         {
          "Unobserved mean transaction value (ζ)": 64,
          "f(ζ)": 0.0036657816926653915
         },
         {
          "Unobserved mean transaction value (ζ)": 65,
          "f(ζ)": 0.0034857639788876005
         },
         {
          "Unobserved mean transaction value (ζ)": 66,
          "f(ζ)": 0.0033159788113927566
         },
         {
          "Unobserved mean transaction value (ζ)": 67,
          "f(ζ)": 0.0031557813685389167
         },
         {
          "Unobserved mean transaction value (ζ)": 68,
          "f(ζ)": 0.003004569891640085
         },
         {
          "Unobserved mean transaction value (ζ)": 69,
          "f(ζ)": 0.002861782834919061
         },
         {
          "Unobserved mean transaction value (ζ)": 70,
          "f(ζ)": 0.0027268961736078953
         },
         {
          "Unobserved mean transaction value (ζ)": 71,
          "f(ζ)": 0.002599420868994274
         },
         {
          "Unobserved mean transaction value (ζ)": 72,
          "f(ζ)": 0.00247890048722776
         },
         {
          "Unobserved mean transaction value (ζ)": 73,
          "f(ζ)": 0.0023649089672594815
         },
         {
          "Unobserved mean transaction value (ζ)": 74,
          "f(ζ)": 0.0022570485322775677
         },
         {
          "Unobserved mean transaction value (ζ)": 75,
          "f(ζ)": 0.0021549477383258947
         },
         {
          "Unobserved mean transaction value (ζ)": 76,
          "f(ζ)": 0.0020582596533810535
         },
         {
          "Unobserved mean transaction value (ζ)": 77,
          "f(ζ)": 0.0019666601599523715
         },
         {
          "Unobserved mean transaction value (ζ)": 78,
          "f(ζ)": 0.0018798463742146832
         },
         {
          "Unobserved mean transaction value (ζ)": 79,
          "f(ζ)": 0.0017975351747452812
         },
         {
          "Unobserved mean transaction value (ζ)": 80,
          "f(ζ)": 0.001719461834084918
         },
         {
          "Unobserved mean transaction value (ζ)": 81,
          "f(ζ)": 0.0016453787465539422
         },
         {
          "Unobserved mean transaction value (ζ)": 82,
          "f(ζ)": 0.0015750542460097419
         },
         {
          "Unobserved mean transaction value (ζ)": 83,
          "f(ζ)": 0.0015082715075158551
         },
         {
          "Unobserved mean transaction value (ζ)": 84,
          "f(ζ)": 0.0014448275271948942
         },
         {
          "Unobserved mean transaction value (ζ)": 85,
          "f(ζ)": 0.0013845321748478568
         },
         {
          "Unobserved mean transaction value (ζ)": 86,
          "f(ζ)": 0.001327207314234734
         },
         {
          "Unobserved mean transaction value (ζ)": 87,
          "f(ζ)": 0.0012726859862204126
         },
         {
          "Unobserved mean transaction value (ζ)": 88,
          "f(ζ)": 0.001220811650291903
         },
         {
          "Unobserved mean transaction value (ζ)": 89,
          "f(ζ)": 0.0011714374802452153
         },
         {
          "Unobserved mean transaction value (ζ)": 90,
          "f(ζ)": 0.0011244257101207871
         },
         {
          "Unobserved mean transaction value (ζ)": 91,
          "f(ζ)": 0.0010796470267340579
         },
         {
          "Unobserved mean transaction value (ζ)": 92,
          "f(ζ)": 0.0010369800054017555
         },
         {
          "Unobserved mean transaction value (ζ)": 93,
          "f(ζ)": 0.0009963105857044503
         },
         {
          "Unobserved mean transaction value (ζ)": 94,
          "f(ζ)": 0.000957531584351809
         },
         {
          "Unobserved mean transaction value (ζ)": 95,
          "f(ζ)": 0.0009205422424289546
         },
         {
          "Unobserved mean transaction value (ζ)": 96,
          "f(ζ)": 0.0008852478045007631
         },
         {
          "Unobserved mean transaction value (ζ)": 97,
          "f(ζ)": 0.0008515591272361857
         },
         {
          "Unobserved mean transaction value (ζ)": 98,
          "f(ζ)": 0.0008193923153874336
         },
         {
          "Unobserved mean transaction value (ζ)": 99,
          "f(ζ)": 0.0007886683831195632
         },
         {
          "Unobserved mean transaction value (ζ)": 100,
          "f(ζ)": 0.0007593129388353865
         },
         {
          "Unobserved mean transaction value (ζ)": 101,
          "f(ζ)": 0.0007312558917792816
         },
         {
          "Unobserved mean transaction value (ζ)": 102,
          "f(ζ)": 0.0007044311788320404
         },
         {
          "Unobserved mean transaction value (ζ)": 103,
          "f(ζ)": 0.000678776510028024
         },
         {
          "Unobserved mean transaction value (ζ)": 104,
          "f(ζ)": 0.0006542331314361762
         },
         {
          "Unobserved mean transaction value (ζ)": 105,
          "f(ζ)": 0.0006307456041484903
         },
         {
          "Unobserved mean transaction value (ζ)": 106,
          "f(ζ)": 0.0006082615982138977
         },
         {
          "Unobserved mean transaction value (ζ)": 107,
          "f(ζ)": 0.0005867317004427811
         },
         {
          "Unobserved mean transaction value (ζ)": 108,
          "f(ζ)": 0.0005661092350879264
         },
         {
          "Unobserved mean transaction value (ζ)": 109,
          "f(ζ)": 0.0005463500964822094
         },
         {
          "Unobserved mean transaction value (ζ)": 110,
          "f(ζ)": 0.0005274125927820886
         },
         {
          "Unobserved mean transaction value (ζ)": 111,
          "f(ζ)": 0.0005092573000295112
         },
         {
          "Unobserved mean transaction value (ζ)": 112,
          "f(ζ)": 0.0004918469258034896
         },
         {
          "Unobserved mean transaction value (ζ)": 113,
          "f(ζ)": 0.00047514618178677185
         },
         {
          "Unobserved mean transaction value (ζ)": 114,
          "f(ζ)": 0.0004591216646230346
         },
         {
          "Unobserved mean transaction value (ζ)": 115,
          "f(ζ)": 0.00044374174448620423
         },
         {
          "Unobserved mean transaction value (ζ)": 116,
          "f(ζ)": 0.00042897646082614457
         },
         {
          "Unobserved mean transaction value (ζ)": 117,
          "f(ζ)": 0.00041479742479432353
         },
         {
          "Unobserved mean transaction value (ζ)": 118,
          "f(ζ)": 0.0004011777278894298
         },
         {
          "Unobserved mean transaction value (ζ)": 119,
          "f(ζ)": 0.00038809185639649584
         },
         {
          "Unobserved mean transaction value (ζ)": 120,
          "f(ζ)": 0.00037551561122410923
         },
         {
          "Unobserved mean transaction value (ζ)": 121,
          "f(ζ)": 0.00036342603277295587
         },
         {
          "Unobserved mean transaction value (ζ)": 122,
          "f(ζ)": 0.0003518013304954282
         },
         {
          "Unobserved mean transaction value (ζ)": 123,
          "f(ζ)": 0.00034062081683051553
         },
         {
          "Unobserved mean transaction value (ζ)": 124,
          "f(ζ)": 0.0003298648452208241
         },
         {
          "Unobserved mean transaction value (ζ)": 125,
          "f(ζ)": 0.0003195147519395045
         },
         {
          "Unobserved mean transaction value (ζ)": 126,
          "f(ζ)": 0.00030955280147422037
         },
         {
          "Unobserved mean transaction value (ζ)": 127,
          "f(ζ)": 0.00029996213523319733
         },
         {
          "Unobserved mean transaction value (ζ)": 128,
          "f(ζ)": 0.0002907267233549637
         },
         {
          "Unobserved mean transaction value (ζ)": 129,
          "f(ζ)": 0.00028183131941872874
         },
         {
          "Unobserved mean transaction value (ζ)": 130,
          "f(ζ)": 0.00027326141786654563
         },
         {
          "Unobserved mean transaction value (ζ)": 131,
          "f(ζ)": 0.0002650032139615545
         },
         {
          "Unobserved mean transaction value (ζ)": 132,
          "f(ζ)": 0.00025704356611878514
         },
         {
          "Unobserved mean transaction value (ζ)": 133,
          "f(ζ)": 0.00024936996045628226
         },
         {
          "Unobserved mean transaction value (ζ)": 134,
          "f(ζ)": 0.00024197047742478356
         },
         {
          "Unobserved mean transaction value (ζ)": 135,
          "f(ζ)": 0.000234833760383876
         },
         {
          "Unobserved mean transaction value (ζ)": 136,
          "f(ζ)": 0.00022794898600155664
         },
         {
          "Unobserved mean transaction value (ζ)": 137,
          "f(ζ)": 0.0002213058363624664
         },
         {
          "Unobserved mean transaction value (ζ)": 138,
          "f(ζ)": 0.00021489447267781343
         },
         {
          "Unobserved mean transaction value (ζ)": 139,
          "f(ζ)": 0.0002087055104971901
         },
         {
          "Unobserved mean transaction value (ζ)": 140,
          "f(ζ)": 0.0002027299963291653
         },
         {
          "Unobserved mean transaction value (ζ)": 141,
          "f(ζ)": 0.0001969593855837343
         },
         {
          "Unobserved mean transaction value (ζ)": 142,
          "f(ζ)": 0.00019138552175547007
         },
         {
          "Unobserved mean transaction value (ζ)": 143,
          "f(ζ)": 0.00018600061677157632
         },
         {
          "Unobserved mean transaction value (ζ)": 144,
          "f(ζ)": 0.00018079723243401966
         },
         {
          "Unobserved mean transaction value (ζ)": 145,
          "f(ζ)": 0.00017576826288955128
         },
         {
          "Unobserved mean transaction value (ζ)": 146,
          "f(ζ)": 0.00017090691806573478
         },
         {
          "Unobserved mean transaction value (ζ)": 147,
          "f(ζ)": 0.00016620670801510646
         },
         {
          "Unobserved mean transaction value (ζ)": 148,
          "f(ζ)": 0.00016166142811332673
         },
         {
          "Unobserved mean transaction value (ζ)": 149,
          "f(ζ)": 0.00015726514506065586
         },
         {
          "Unobserved mean transaction value (ζ)": 150,
          "f(ζ)": 0.0001530121836393262
         },
         {
          "Unobserved mean transaction value (ζ)": 151,
          "f(ζ)": 0.00014889711418239715
         },
         {
          "Unobserved mean transaction value (ζ)": 152,
          "f(ζ)": 0.00014491474071249313
         },
         {
          "Unobserved mean transaction value (ζ)": 153,
          "f(ζ)": 0.00014106008971144428
         },
         {
          "Unobserved mean transaction value (ζ)": 154,
          "f(ζ)": 0.00013732839948429656
         },
         {
          "Unobserved mean transaction value (ζ)": 155,
          "f(ζ)": 0.00013371511008343704
         },
         {
          "Unobserved mean transaction value (ζ)": 156,
          "f(ζ)": 0.00013021585376071058
         },
         {
          "Unobserved mean transaction value (ζ)": 157,
          "f(ζ)": 0.00012682644591739057
         },
         {
          "Unobserved mean transaction value (ζ)": 158,
          "f(ζ)": 0.00012354287652372259
         },
         {
          "Unobserved mean transaction value (ζ)": 159,
          "f(ζ)": 0.00012036130198149307
         },
         {
          "Unobserved mean transaction value (ζ)": 160,
          "f(ζ)": 0.00011727803740469609
         },
         {
          "Unobserved mean transaction value (ζ)": 161,
          "f(ζ)": 0.00011428954929488315
         },
         {
          "Unobserved mean transaction value (ζ)": 162,
          "f(ζ)": 0.00011139244858919948
         },
         {
          "Unobserved mean transaction value (ζ)": 163,
          "f(ζ)": 0.00010858348406043135
         },
         {
          "Unobserved mean transaction value (ζ)": 164,
          "f(ζ)": 0.0001058595360496303
         },
         {
          "Unobserved mean transaction value (ζ)": 165,
          "f(ζ)": 0.0001032176105130368
         },
         {
          "Unobserved mean transaction value (ζ)": 166,
          "f(ζ)": 0.00010065483336611283
         },
         {
          "Unobserved mean transaction value (ζ)": 167,
          "f(ζ)": 0.00009816844510850817
         },
         {
          "Unobserved mean transaction value (ζ)": 168,
          "f(ζ)": 0.00009575579571473635
         },
         {
          "Unobserved mean transaction value (ζ)": 169,
          "f(ζ)": 0.00009341433977622916
         },
         {
          "Unobserved mean transaction value (ζ)": 170,
          "f(ζ)": 0.00009114163188127278
         },
         {
          "Unobserved mean transaction value (ζ)": 171,
          "f(ζ)": 0.0000889353222201131
         },
         {
          "Unobserved mean transaction value (ζ)": 172,
          "f(ζ)": 0.00008679315240325219
         },
         {
          "Unobserved mean transaction value (ζ)": 173,
          "f(ζ)": 0.00008471295148164632
         },
         {
          "Unobserved mean transaction value (ζ)": 174,
          "f(ζ)": 0.00008269263215816357
         },
         {
          "Unobserved mean transaction value (ζ)": 175,
          "f(ζ)": 0.0000807301871802649
         },
         {
          "Unobserved mean transaction value (ζ)": 176,
          "f(ζ)": 0.00007882368590444294
         },
         {
          "Unobserved mean transaction value (ζ)": 177,
          "f(ζ)": 0.00007697127102348727
         },
         {
          "Unobserved mean transaction value (ζ)": 178,
          "f(ζ)": 0.0000751711554481478
         },
         {
          "Unobserved mean transaction value (ζ)": 179,
          "f(ζ)": 0.00007342161933523998
         },
         {
          "Unobserved mean transaction value (ζ)": 180,
          "f(ζ)": 0.00007172100725467909
         },
         {
          "Unobserved mean transaction value (ζ)": 181,
          "f(ζ)": 0.0000700677254883482
         },
         {
          "Unobserved mean transaction value (ζ)": 182,
          "f(ζ)": 0.00006846023945409702
         },
         {
          "Unobserved mean transaction value (ζ)": 183,
          "f(ζ)": 0.00006689707124853719
         },
         {
          "Unobserved mean transaction value (ζ)": 184,
          "f(ζ)": 0.00006537679730264715
         },
         {
          "Unobserved mean transaction value (ζ)": 185,
          "f(ζ)": 0.0000638980461445269
         },
         {
          "Unobserved mean transaction value (ζ)": 186,
          "f(ζ)": 0.00006245949626394902
         },
         {
          "Unobserved mean transaction value (ζ)": 187,
          "f(ζ)": 0.00006105987407364426
         },
         {
          "Unobserved mean transaction value (ζ)": 188,
          "f(ζ)": 0.00005969795196253026
         },
         {
          "Unobserved mean transaction value (ζ)": 189,
          "f(ζ)": 0.00005837254643635106
         },
         {
          "Unobserved mean transaction value (ζ)": 190,
          "f(ζ)": 0.00005708251634143573
         },
         {
          "Unobserved mean transaction value (ζ)": 191,
          "f(ζ)": 0.0000558267611675137
         },
         {
          "Unobserved mean transaction value (ζ)": 192,
          "f(ζ)": 0.00005460421942573861
         },
         {
          "Unobserved mean transaction value (ζ)": 193,
          "f(ζ)": 0.000053413867098276506
         },
         {
          "Unobserved mean transaction value (ζ)": 194,
          "f(ζ)": 0.000052254716156004885
         },
         {
          "Unobserved mean transaction value (ζ)": 195,
          "f(ζ)": 0.000051125813141049654
         },
         {
          "Unobserved mean transaction value (ζ)": 196,
          "f(ζ)": 0.0000500262378110583
         },
         {
          "Unobserved mean transaction value (ζ)": 197,
          "f(ζ)": 0.00004895510184226732
         },
         {
          "Unobserved mean transaction value (ζ)": 198,
          "f(ζ)": 0.000047911547588575174
         },
         {
          "Unobserved mean transaction value (ζ)": 199,
          "f(ζ)": 0.000046894746893974276
         },
         {
          "Unobserved mean transaction value (ζ)": 200,
          "f(ζ)": 0.000045903899955831934
         },
         {
          "Unobserved mean transaction value (ζ)": 201,
          "f(ζ)": 0.000044938234236637935
         },
         {
          "Unobserved mean transaction value (ζ)": 202,
          "f(ζ)": 0.00004399700342195736
         },
         {
          "Unobserved mean transaction value (ζ)": 203,
          "f(ζ)": 0.000043079486422441855
         },
         {
          "Unobserved mean transaction value (ζ)": 204,
          "f(ζ)": 0.00004218498641786076
         },
         {
          "Unobserved mean transaction value (ζ)": 205,
          "f(ζ)": 0.00004131282994121555
         },
         {
          "Unobserved mean transaction value (ζ)": 206,
          "f(ζ)": 0.00004046236600109831
         },
         {
          "Unobserved mean transaction value (ζ)": 207,
          "f(ζ)": 0.000039632965240545914
         },
         {
          "Unobserved mean transaction value (ζ)": 208,
          "f(ζ)": 0.00003882401913072907
         },
         {
          "Unobserved mean transaction value (ζ)": 209,
          "f(ζ)": 0.00003803493919789642
         },
         {
          "Unobserved mean transaction value (ζ)": 210,
          "f(ζ)": 0.00003726515628207264
         },
         {
          "Unobserved mean transaction value (ζ)": 211,
          "f(ζ)": 0.000036514119826082226
         },
         {
          "Unobserved mean transaction value (ζ)": 212,
          "f(ζ)": 0.00003578129719354069
         },
         {
          "Unobserved mean transaction value (ζ)": 213,
          "f(ζ)": 0.000035066173014520976
         },
         {
          "Unobserved mean transaction value (ζ)": 214,
          "f(ζ)": 0.00003436824855766531
         },
         {
          "Unobserved mean transaction value (ζ)": 215,
          "f(ζ)": 0.00003368704112757198
         },
         {
          "Unobserved mean transaction value (ζ)": 216,
          "f(ζ)": 0.00003302208348634298
         },
         {
          "Unobserved mean transaction value (ζ)": 217,
          "f(ζ)": 0.00003237292329823157
         },
         {
          "Unobserved mean transaction value (ζ)": 218,
          "f(ζ)": 0.00003173912259637942
         },
         {
          "Unobserved mean transaction value (ζ)": 219,
          "f(ζ)": 0.000031120257270680955
         },
         {
          "Unobserved mean transaction value (ζ)": 220,
          "f(ζ)": 0.000030515916575858243
         },
         {
          "Unobserved mean transaction value (ζ)": 221,
          "f(ζ)": 0.000029925702658872417
         },
         {
          "Unobserved mean transaction value (ζ)": 222,
          "f(ζ)": 0.00002934923010483952
         },
         {
          "Unobserved mean transaction value (ζ)": 223,
          "f(ζ)": 0.00002878612550065648
         },
         {
          "Unobserved mean transaction value (ζ)": 224,
          "f(ζ)": 0.000028236027015580967
         },
         {
          "Unobserved mean transaction value (ζ)": 225,
          "f(ζ)": 0.00002769858399804317
         },
         {
          "Unobserved mean transaction value (ζ)": 226,
          "f(ζ)": 0.000027173456588001395
         },
         {
          "Unobserved mean transaction value (ζ)": 227,
          "f(ζ)": 0.00002666031534418483
         },
         {
          "Unobserved mean transaction value (ζ)": 228,
          "f(ζ)": 0.00002615884088559704
         },
         {
          "Unobserved mean transaction value (ζ)": 229,
          "f(ζ)": 0.000025668723546682328
         },
         {
          "Unobserved mean transaction value (ζ)": 230,
          "f(ζ)": 0.00002518966304558442
         },
         {
          "Unobserved mean transaction value (ζ)": 231,
          "f(ζ)": 0.000024721368164952632
         },
         {
          "Unobserved mean transaction value (ζ)": 232,
          "f(ζ)": 0.000024263556444775614
         },
         {
          "Unobserved mean transaction value (ζ)": 233,
          "f(ζ)": 0.000023815953886745682
         },
         {
          "Unobserved mean transaction value (ζ)": 234,
          "f(ζ)": 0.000023378294669679657
         },
         {
          "Unobserved mean transaction value (ζ)": 235,
          "f(ζ)": 0.00002295032087554277
         },
         {
          "Unobserved mean transaction value (ζ)": 236,
          "f(ζ)": 0.00002253178222564273
         },
         {
          "Unobserved mean transaction value (ζ)": 237,
          "f(ζ)": 0.000022122435826580082
         },
         {
          "Unobserved mean transaction value (ζ)": 238,
          "f(ζ)": 0.000021722045925559437
         },
         {
          "Unobserved mean transaction value (ζ)": 239,
          "f(ζ)": 0.00002133038367468333
         },
         {
          "Unobserved mean transaction value (ζ)": 240,
          "f(ζ)": 0.00002094722690386738
         },
         {
          "Unobserved mean transaction value (ζ)": 241,
          "f(ζ)": 0.000020572359902030923
         },
         {
          "Unobserved mean transaction value (ζ)": 242,
          "f(ζ)": 0.00002020557320623257
         },
         {
          "Unobserved mean transaction value (ζ)": 243,
          "f(ζ)": 0.000019846663398434357
         },
         {
          "Unobserved mean transaction value (ζ)": 244,
          "f(ζ)": 0.00001949543290959199
         },
         {
          "Unobserved mean transaction value (ζ)": 245,
          "f(ζ)": 0.000019151689830781504
         },
         {
          "Unobserved mean transaction value (ζ)": 246,
          "f(ζ)": 0.00001881524773108536
         },
         {
          "Unobserved mean transaction value (ζ)": 247,
          "f(ζ)": 0.000018485925481972637
         },
         {
          "Unobserved mean transaction value (ζ)": 248,
          "f(ζ)": 0.000018163547087919406
         },
         {
          "Unobserved mean transaction value (ζ)": 249,
          "f(ζ)": 0.00001784794152302623
         },
         {
          "Unobserved mean transaction value (ζ)": 250,
          "f(ζ)": 0.00001753894257339976
         },
         {
          "Unobserved mean transaction value (ζ)": 251,
          "f(ζ)": 0.000017236388685075606
         },
         {
          "Unobserved mean transaction value (ζ)": 252,
          "f(ζ)": 0.000016940122817268722
         },
         {
          "Unobserved mean transaction value (ζ)": 253,
          "f(ζ)": 0.000016649992300746647
         },
         {
          "Unobserved mean transaction value (ζ)": 254,
          "f(ζ)": 0.000016365848701129513
         },
         {
          "Unobserved mean transaction value (ζ)": 255,
          "f(ζ)": 0.000016087547686928782
         },
         {
          "Unobserved mean transaction value (ζ)": 256,
          "f(ζ)": 0.000015814948902144568
         },
         {
          "Unobserved mean transaction value (ζ)": 257,
          "f(ζ)": 0.000015547915843248836
         },
         {
          "Unobserved mean transaction value (ζ)": 258,
          "f(ζ)": 0.000015286315740388854
         },
         {
          "Unobserved mean transaction value (ζ)": 259,
          "f(ζ)": 0.000015030019442652029
         },
         {
          "Unobserved mean transaction value (ζ)": 260,
          "f(ζ)": 0.000014778901307239935
         },
         {
          "Unobserved mean transaction value (ζ)": 261,
          "f(ζ)": 0.00001453283909240532
         },
         {
          "Unobserved mean transaction value (ζ)": 262,
          "f(ζ)": 0.00001429171385401198
         },
         {
          "Unobserved mean transaction value (ζ)": 263,
          "f(ζ)": 0.00001405540984558299
         },
         {
          "Unobserved mean transaction value (ζ)": 264,
          "f(ζ)": 0.000013823814421708283
         },
         {
          "Unobserved mean transaction value (ζ)": 265,
          "f(ζ)": 0.00001359681794468762
         },
         {
          "Unobserved mean transaction value (ζ)": 266,
          "f(ζ)": 0.000013374313694290141
         },
         {
          "Unobserved mean transaction value (ζ)": 267,
          "f(ζ)": 0.000013156197780516312
         },
         {
          "Unobserved mean transaction value (ζ)": 268,
          "f(ζ)": 0.00001294236905925264
         },
         {
          "Unobserved mean transaction value (ζ)": 269,
          "f(ζ)": 0.000012732729050713999
         },
         {
          "Unobserved mean transaction value (ζ)": 270,
          "f(ζ)": 0.00001252718186057234
         },
         {
          "Unobserved mean transaction value (ζ)": 271,
          "f(ζ)": 0.000012325634103674824
         },
         {
          "Unobserved mean transaction value (ζ)": 272,
          "f(ζ)": 0.000012127994830258039
         },
         {
          "Unobserved mean transaction value (ζ)": 273,
          "f(ζ)": 0.000011934175454568646
         },
         {
          "Unobserved mean transaction value (ζ)": 274,
          "f(ζ)": 0.000011744089685804405
         },
         {
          "Unobserved mean transaction value (ζ)": 275,
          "f(ζ)": 0.000011557653461292731
         },
         {
          "Unobserved mean transaction value (ζ)": 276,
          "f(ζ)": 0.000011374784881827278
         },
         {
          "Unobserved mean transaction value (ζ)": 277,
          "f(ζ)": 0.000011195404149086029
         },
         {
          "Unobserved mean transaction value (ζ)": 278,
          "f(ζ)": 0.000011019433505057402
         },
         {
          "Unobserved mean transaction value (ζ)": 279,
          "f(ζ)": 0.000010846797173403603
         },
         {
          "Unobserved mean transaction value (ζ)": 280,
          "f(ζ)": 0.000010677421302693307
         },
         {
          "Unobserved mean transaction value (ζ)": 281,
          "f(ζ)": 0.000010511233911438153
         },
         {
          "Unobserved mean transaction value (ζ)": 282,
          "f(ζ)": 0.000010348164834870283
         },
         {
          "Unobserved mean transaction value (ζ)": 283,
          "f(ζ)": 0.000010188145673400258
         },
         {
          "Unobserved mean transaction value (ζ)": 284,
          "f(ζ)": 0.000010031109742697224
         },
         {
          "Unobserved mean transaction value (ζ)": 285,
          "f(ζ)": 0.000009876992025335213
         },
         {
          "Unobserved mean transaction value (ζ)": 286,
          "f(ζ)": 0.000009725729123951705
         },
         {
          "Unobserved mean transaction value (ζ)": 287,
          "f(ζ)": 0.000009577259215866459
         },
         {
          "Unobserved mean transaction value (ζ)": 288,
          "f(ζ)": 0.000009431522009110755
         },
         {
          "Unobserved mean transaction value (ζ)": 289,
          "f(ζ)": 0.000009288458699818802
         },
         {
          "Unobserved mean transaction value (ζ)": 290,
          "f(ζ)": 0.000009148011930935094
         },
         {
          "Unobserved mean transaction value (ζ)": 291,
          "f(ζ)": 0.000009010125752193037
         },
         {
          "Unobserved mean transaction value (ζ)": 292,
          "f(ζ)": 0.000008874745581321898
         },
         {
          "Unobserved mean transaction value (ζ)": 293,
          "f(ζ)": 0.000008741818166440718
         },
         {
          "Unobserved mean transaction value (ζ)": 294,
          "f(ζ)": 0.000008611291549599243
         },
         {
          "Unobserved mean transaction value (ζ)": 295,
          "f(ζ)": 0.000008483115031427578
         },
         {
          "Unobserved mean transaction value (ζ)": 296,
          "f(ζ)": 0.000008357239136857426
         },
         {
          "Unobserved mean transaction value (ζ)": 297,
          "f(ζ)": 0.000008233615581879349
         },
         {
          "Unobserved mean transaction value (ζ)": 298,
          "f(ζ)": 0.000008112197241301603
         },
         {
          "Unobserved mean transaction value (ζ)": 299,
          "f(ζ)": 0.00000799293811747746
         },
         {
          "Unobserved mean transaction value (ζ)": 300,
          "f(ζ)": 0.000007875793309969057
         }
        ]
       },
       "encoding": {
        "x": {
         "axis": {
          "labelExpr": "\"$\"+datum.value",
          "values": [
           0,
           50,
           100,
           150,
           200,
           250,
           300
          ]
         },
         "field": "Unobserved mean transaction value (ζ)",
         "type": "quantitative"
        },
        "y": {
         "field": "f(ζ)",
         "scale": {
          "domain": [
           0,
           0.04
          ]
         },
         "type": "quantitative"
        }
       },
       "height": 400,
       "mark": {
        "type": "line"
       },
       "title": "Distribution of the (unobserved) mean transaction value (ζ)",
       "width": 500
      },
      "text/plain": [
       "<VegaLite 5 object>\n",
       "\n",
       "If you see this message, it means the renderer has not been properly enabled\n",
       "for the frontend that you are using. For more information, see\n",
       "https://altair-viz.github.io/user_guide/display_frontends.html#troubleshooting\n"
      ]
     },
     "execution_count": 11,
     "metadata": {},
     "output_type": "execute_result"
    }
   ],
   "source": [
    "zeta = np.arange(300) + 1\n",
    "f_zeta = (p * gamma)**q * zeta**(-q-1) * np.exp(-p*gamma/zeta) / np.exp(gammaln(q))\n",
    "\n",
    "(\n",
    "    alt.Chart(pl.DataFrame({'Unobserved mean transaction value (ζ)': zeta, 'f(ζ)': f_zeta}))\n",
    "    .mark_line().encode(\n",
    "        x=alt.X('Unobserved mean transaction value (ζ)', axis=alt.Axis(values=np.arange(0, 301, 50), labelExpr='\"$\"+datum.value')),\n",
    "        y=alt.Y('f(ζ)', scale=alt.Scale(domain=[0, 0.04]))\n",
    "    ).properties(\n",
    "            width=500,\n",
    "            height=400,\n",
    "            title='Distribution of the (unobserved) mean transaction value (ζ)'\n",
    "        ).configure_view(stroke=None).configure_axisY(grid=False).configure_axisX(grid=False) \n",
    ")"
   ]
  },
  {
   "cell_type": "code",
   "execution_count": 12,
   "metadata": {},
   "outputs": [],
   "source": [
    "# compute the density of average transaction value\n",
    "\n",
    "# how many people with each level of x?\n",
    "repeat_trans_dist = cdnow.rfm_summary().group_by('P1X').agg(pl.len().alias('Count')).sort('P1X').collect().to_numpy()\n",
    "nx = repeat_trans_dist[1:, 1]\n",
    "x_trans = repeat_trans_dist[1:, 0]\n",
    "\n",
    "# compute the density of zbar for each x\n",
    "y = np.arange(300) + 1\n",
    "x_trans, y = np.meshgrid(x_trans,y)\n",
    "a1 = gammaln(p*x_trans+q)-gammaln(p*x_trans)-gammaln(q)\n",
    "a2 = q*np.log(gamma)\n",
    "a3 = (p*x_trans-1)*np.log(y)\n",
    "a4 = (p*x_trans)*np.log(x_trans)\n",
    "a5 = (p*x_trans+q)*np.log(gamma+y*x_trans)\n",
    "g1 = np.exp(a1+a2+a3+a4-a5)\n",
    "\n",
    "# compute the weighted average\n",
    "g = np.dot(nx, g1.T) / np.sum(nx)"
   ]
  },
  {
   "cell_type": "code",
   "execution_count": 13,
   "metadata": {},
   "outputs": [
    {
     "data": {
      "application/vnd.vegalite.v5+json": {
       "$schema": "https://vega.github.io/schema/vega-lite/v5.20.1.json",
       "config": {
        "axisX": {
         "grid": false
        },
        "axisY": {
         "grid": false
        },
        "view": {
         "continuousHeight": 300,
         "continuousWidth": 300,
         "stroke": null
        }
       },
       "datasets": {
        "data-298484054f8bce20696d69235185dd02": [
         {
          "Average Transaction Value (z)": 1,
          "f(z)": 0.000004072633490170914
         },
         {
          "Average Transaction Value (z)": 2,
          "f(z)": 0.00008638673004638697
         },
         {
          "Average Transaction Value (z)": 3,
          "f(z)": 0.00042557957532766624
         },
         {
          "Average Transaction Value (z)": 4,
          "f(z)": 0.0011908765037838532
         },
         {
          "Average Transaction Value (z)": 5,
          "f(z)": 0.002491830995780842
         },
         {
          "Average Transaction Value (z)": 6,
          "f(z)": 0.004374529076526328
         },
         {
          "Average Transaction Value (z)": 7,
          "f(z)": 0.006808726478053689
         },
         {
          "Average Transaction Value (z)": 8,
          "f(z)": 0.009679520345759356
         },
         {
          "Average Transaction Value (z)": 9,
          "f(z)": 0.012806799109398661
         },
         {
          "Average Transaction Value (z)": 10,
          "f(z)": 0.015985700018726966
         },
         {
          "Average Transaction Value (z)": 11,
          "f(z)": 0.019026625088340143
         },
         {
          "Average Transaction Value (z)": 12,
          "f(z)": 0.02178090569776254
         },
         {
          "Average Transaction Value (z)": 13,
          "f(z)": 0.024150102974762166
         },
         {
          "Average Transaction Value (z)": 14,
          "f(z)": 0.026083435362731968
         },
         {
          "Average Transaction Value (z)": 15,
          "f(z)": 0.027569006820995164
         },
         {
          "Average Transaction Value (z)": 16,
          "f(z)": 0.028623180030454748
         },
         {
          "Average Transaction Value (z)": 17,
          "f(z)": 0.02928063888728282
         },
         {
          "Average Transaction Value (z)": 18,
          "f(z)": 0.02958626885504898
         },
         {
          "Average Transaction Value (z)": 19,
          "f(z)": 0.02958910903564594
         },
         {
          "Average Transaction Value (z)": 20,
          "f(z)": 0.02933818583503361
         },
         {
          "Average Transaction Value (z)": 21,
          "f(z)": 0.028879867996834733
         },
         {
          "Average Transaction Value (z)": 22,
          "f(z)": 0.028256361254918577
         },
         {
          "Average Transaction Value (z)": 23,
          "f(z)": 0.027505006945451025
         },
         {
          "Average Transaction Value (z)": 24,
          "f(z)": 0.026658116981583047
         },
         {
          "Average Transaction Value (z)": 25,
          "f(z)": 0.02574314502820575
         },
         {
          "Average Transaction Value (z)": 26,
          "f(z)": 0.024783051214566983
         },
         {
          "Average Transaction Value (z)": 27,
          "f(z)": 0.02379676290139205
         },
         {
          "Average Transaction Value (z)": 28,
          "f(z)": 0.02279966766810114
         },
         {
          "Average Transaction Value (z)": 29,
          "f(z)": 0.021804098767979622
         },
         {
          "Average Transaction Value (z)": 30,
          "f(z)": 0.02081978996724933
         },
         {
          "Average Transaction Value (z)": 31,
          "f(z)": 0.019854287859651702
         },
         {
          "Average Transaction Value (z)": 32,
          "f(z)": 0.018913316988650945
         },
         {
          "Average Transaction Value (z)": 33,
          "f(z)": 0.018001097606629067
         },
         {
          "Average Transaction Value (z)": 34,
          "f(z)": 0.017120618532494032
         },
         {
          "Average Transaction Value (z)": 35,
          "f(z)": 0.016273868964678445
         },
         {
          "Average Transaction Value (z)": 36,
          "f(z)": 0.0154620337056423
         },
         {
          "Average Transaction Value (z)": 37,
          "f(z)": 0.014685656358525668
         },
         {
          "Average Transaction Value (z)": 38,
          "f(z)": 0.01394477486953661
         },
         {
          "Average Transaction Value (z)": 39,
          "f(z)": 0.013239033444649662
         },
         {
          "Average Transaction Value (z)": 40,
          "f(z)": 0.012567774452101353
         },
         {
          "Average Transaction Value (z)": 41,
          "f(z)": 0.011930113486363803
         },
         {
          "Average Transaction Value (z)": 42,
          "f(z)": 0.011325000346466808
         },
         {
          "Average Transaction Value (z)": 43,
          "f(z)": 0.010751268289175876
         },
         {
          "Average Transaction Value (z)": 44,
          "f(z)": 0.010207673563974468
         },
         {
          "Average Transaction Value (z)": 45,
          "f(z)": 0.009692926924679022
         },
         {
          "Average Transaction Value (z)": 46,
          "f(z)": 0.00920571854110521
         },
         {
          "Average Transaction Value (z)": 47,
          "f(z)": 0.008744737500836854
         },
         {
          "Average Transaction Value (z)": 48,
          "f(z)": 0.008308686892246937
         },
         {
          "Average Transaction Value (z)": 49,
          "f(z)": 0.00789629529154548
         },
         {
          "Average Transaction Value (z)": 50,
          "f(z)": 0.007506325334882718
         },
         {
          "Average Transaction Value (z)": 51,
          "f(z)": 0.0071375799377205685
         },
         {
          "Average Transaction Value (z)": 52,
          "f(z)": 0.006788906624470828
         },
         {
          "Average Transaction Value (z)": 53,
          "f(z)": 0.006459200348785791
         },
         {
          "Average Transaction Value (z)": 54,
          "f(z)": 0.006147405116283894
         },
         {
          "Average Transaction Value (z)": 55,
          "f(z)": 0.005852514664646597
         },
         {
          "Average Transaction Value (z)": 56,
          "f(z)": 0.0055735724090094025
         },
         {
          "Average Transaction Value (z)": 57,
          "f(z)": 0.005309670821758503
         },
         {
          "Average Transaction Value (z)": 58,
          "f(z)": 0.005059950383856909
         },
         {
          "Average Transaction Value (z)": 59,
          "f(z)": 0.0048235982184976515
         },
         {
          "Average Transaction Value (z)": 60,
          "f(z)": 0.004599846496256142
         },
         {
          "Average Transaction Value (z)": 61,
          "f(z)": 0.004387970683171167
         },
         {
          "Average Transaction Value (z)": 62,
          "f(z)": 0.004187287688651426
         },
         {
          "Average Transaction Value (z)": 63,
          "f(z)": 0.0039971539582308304
         },
         {
          "Average Transaction Value (z)": 64,
          "f(z)": 0.003816963546501951
         },
         {
          "Average Transaction Value (z)": 65,
          "f(z)": 0.0036461461976694857
         },
         {
          "Average Transaction Value (z)": 66,
          "f(z)": 0.0034841654547617387
         },
         {
          "Average Transaction Value (z)": 67,
          "f(z)": 0.0033305168133501762
         },
         {
          "Average Transaction Value (z)": 68,
          "f(z)": 0.0031847259314455346
         },
         {
          "Average Transaction Value (z)": 69,
          "f(z)": 0.0030463469038753887
         },
         {
          "Average Transaction Value (z)": 70,
          "f(z)": 0.0029149606067604586
         },
         {
          "Average Transaction Value (z)": 71,
          "f(z)": 0.0027901731155679965
         },
         {
          "Average Transaction Value (z)": 72,
          "f(z)": 0.0026716141985337703
         },
         {
          "Average Transaction Value (z)": 73,
          "f(z)": 0.002558935885922486
         },
         {
          "Average Transaction Value (z)": 74,
          "f(z)": 0.00245181111457446
         },
         {
          "Average Transaction Value (z)": 75,
          "f(z)": 0.0023499324464050877
         },
         {
          "Average Transaction Value (z)": 76,
          "f(z)": 0.0022530108589404476
         },
         {
          "Average Transaction Value (z)": 77,
          "f(z)": 0.0021607746055439477
         },
         {
          "Average Transaction Value (z)": 78,
          "f(z)": 0.002072968142691391
         },
         {
          "Average Transaction Value (z)": 79,
          "f(z)": 0.0019893511214509533
         },
         {
          "Average Transaction Value (z)": 80,
          "f(z)": 0.0019096974402081687
         },
         {
          "Average Transaction Value (z)": 81,
          "f(z)": 0.001833794355620334
         },
         {
          "Average Transaction Value (z)": 82,
          "f(z)": 0.0017614416487789055
         },
         {
          "Average Transaction Value (z)": 83,
          "f(z)": 0.0016924508435927175
         },
         {
          "Average Transaction Value (z)": 84,
          "f(z)": 0.0016266444744641926
         },
         {
          "Average Transaction Value (z)": 85,
          "f(z)": 0.0015638554004159917
         },
         {
          "Average Transaction Value (z)": 86,
          "f(z)": 0.0015039261629227652
         },
         {
          "Average Transaction Value (z)": 87,
          "f(z)": 0.0014467083848130776
         },
         {
          "Average Transaction Value (z)": 88,
          "f(z)": 0.0013920622077221352
         },
         {
          "Average Transaction Value (z)": 89,
          "f(z)": 0.00133985576569696
         },
         {
          "Average Transaction Value (z)": 90,
          "f(z)": 0.0012899646926773072
         },
         {
          "Average Transaction Value (z)": 91,
          "f(z)": 0.0012422716616963423
         },
         {
          "Average Transaction Value (z)": 92,
          "f(z)": 0.001196665953766509
         },
         {
          "Average Transaction Value (z)": 93,
          "f(z)": 0.001153043054530878
         },
         {
          "Average Transaction Value (z)": 94,
          "f(z)": 0.0011113042768754915
         },
         {
          "Average Transaction Value (z)": 95,
          "f(z)": 0.0010713564078060395
         },
         {
          "Average Transaction Value (z)": 96,
          "f(z)": 0.0010331113779973764
         },
         {
          "Average Transaction Value (z)": 97,
          "f(z)": 0.0009964859525240764
         },
         {
          "Average Transaction Value (z)": 98,
          "f(z)": 0.0009614014413750087
         },
         {
          "Average Transaction Value (z)": 99,
          "f(z)": 0.000927783428444805
         },
         {
          "Average Transaction Value (z)": 100,
          "f(z)": 0.0008955615177801953
         },
         {
          "Average Transaction Value (z)": 101,
          "f(z)": 0.000864669095938954
         },
         {
          "Average Transaction Value (z)": 102,
          "f(z)": 0.0008350431093952327
         },
         {
          "Average Transaction Value (z)": 103,
          "f(z)": 0.0008066238559952708
         },
         {
          "Average Transaction Value (z)": 104,
          "f(z)": 0.0007793547895343181
         },
         {
          "Average Transaction Value (z)": 105,
          "f(z)": 0.0007531823365879897
         },
         {
          "Average Transaction Value (z)": 106,
          "f(z)": 0.0007280557247893338
         },
         {
          "Average Transaction Value (z)": 107,
          "f(z)": 0.000703926821797534
         },
         {
          "Average Transaction Value (z)": 108,
          "f(z)": 0.0006807499842553987
         },
         {
          "Average Transaction Value (z)": 109,
          "f(z)": 0.0006584819160797733
         },
         {
          "Average Transaction Value (z)": 110,
          "f(z)": 0.0006370815354742503
         },
         {
          "Average Transaction Value (z)": 111,
          "f(z)": 0.0006165098500940932
         },
         {
          "Average Transaction Value (z)": 112,
          "f(z)": 0.0005967298398326529
         },
         {
          "Average Transaction Value (z)": 113,
          "f(z)": 0.0005777063467340204
         },
         {
          "Average Transaction Value (z)": 114,
          "f(z)": 0.0005594059715704761
         },
         {
          "Average Transaction Value (z)": 115,
          "f(z)": 0.0005417969766544131
         },
         {
          "Average Transaction Value (z)": 116,
          "f(z)": 0.0005248491944835021
         },
         {
          "Average Transaction Value (z)": 117,
          "f(z)": 0.0005085339418449137
         },
         {
          "Average Transaction Value (z)": 118,
          "f(z)": 0.0004928239390296814
         },
         {
          "Average Transaction Value (z)": 119,
          "f(z)": 0.0004776932338316816
         },
         {
          "Average Transaction Value (z)": 120,
          "f(z)": 0.0004631171300275631
         },
         {
          "Average Transaction Value (z)": 121,
          "f(z)": 0.0004490721200543364
         },
         {
          "Average Transaction Value (z)": 122,
          "f(z)": 0.000435535821620096
         },
         {
          "Average Transaction Value (z)": 123,
          "f(z)": 0.00042248691800117754
         },
         {
          "Average Transaction Value (z)": 124,
          "f(z)": 0.0004099051017952768
         },
         {
          "Average Transaction Value (z)": 125,
          "f(z)": 0.0003977710219152954
         },
         {
          "Average Transaction Value (z)": 126,
          "f(z)": 0.00038606623362313317
         },
         {
          "Average Transaction Value (z)": 127,
          "f(z)": 0.0003747731514154615
         },
         {
          "Average Transaction Value (z)": 128,
          "f(z)": 0.00036387500458626886
         },
         {
          "Average Transaction Value (z)": 129,
          "f(z)": 0.0003533557953020802
         },
         {
          "Average Transaction Value (z)": 130,
          "f(z)": 0.000343200259036703
         },
         {
          "Average Transaction Value (z)": 131,
          "f(z)": 0.0003333938272220853
         },
         {
          "Average Transaction Value (z)": 132,
          "f(z)": 0.0003239225919813563
         },
         {
          "Average Transaction Value (z)": 133,
          "f(z)": 0.0003147732728185809
         },
         {
          "Average Transaction Value (z)": 134,
          "f(z)": 0.00030593318514794156
         },
         {
          "Average Transaction Value (z)": 135,
          "f(z)": 0.0002973902105525089
         },
         {
          "Average Transaction Value (z)": 136,
          "f(z)": 0.00028913276866979984
         },
         {
          "Average Transaction Value (z)": 137,
          "f(z)": 0.00028114979060781035
         },
         {
          "Average Transaction Value (z)": 138,
          "f(z)": 0.0002734306938013876
         },
         {
          "Average Transaction Value (z)": 139,
          "f(z)": 0.0002659653582243727
         },
         {
          "Average Transaction Value (z)": 140,
          "f(z)": 0.000258744103878388
         },
         {
          "Average Transaction Value (z)": 141,
          "f(z)": 0.00025175766948396807
         },
         {
          "Average Transaction Value (z)": 142,
          "f(z)": 0.00024499719230445795
         },
         {
          "Average Transaction Value (z)": 143,
          "f(z)": 0.00023845418903739972
         },
         {
          "Average Transaction Value (z)": 144,
          "f(z)": 0.00023212053771208956
         },
         {
          "Average Transaction Value (z)": 145,
          "f(z)": 0.00022598846053587315
         },
         {
          "Average Transaction Value (z)": 146,
          "f(z)": 0.00022005050763521735
         },
         {
          "Average Transaction Value (z)": 147,
          "f(z)": 0.00021429954164085222
         },
         {
          "Average Transaction Value (z)": 148,
          "f(z)": 0.00020872872306944653
         },
         {
          "Average Transaction Value (z)": 149,
          "f(z)": 0.00020333149645707774
         },
         {
          "Average Transaction Value (z)": 150,
          "f(z)": 0.00019810157720250666
         },
         {
          "Average Transaction Value (z)": 151,
          "f(z)": 0.00019303293908079443
         },
         {
          "Average Transaction Value (z)": 152,
          "f(z)": 0.00018811980239008446
         },
         {
          "Average Transaction Value (z)": 153,
          "f(z)": 0.00018335662269671014
         },
         {
          "Average Transaction Value (z)": 154,
          "f(z)": 0.00017873808014573847
         },
         {
          "Average Transaction Value (z)": 155,
          "f(z)": 0.00017425906930605787
         },
         {
          "Average Transaction Value (z)": 156,
          "f(z)": 0.00016991468952097156
         },
         {
          "Average Transaction Value (z)": 157,
          "f(z)": 0.00016570023573685678
         },
         {
          "Average Transaction Value (z)": 158,
          "f(z)": 0.00016161118978416384
         },
         {
          "Average Transaction Value (z)": 159,
          "f(z)": 0.00015764321208642772
         },
         {
          "Average Transaction Value (z)": 160,
          "f(z)": 0.0001537921337744694
         },
         {
          "Average Transaction Value (z)": 161,
          "f(z)": 0.0001500539491841753
         },
         {
          "Average Transaction Value (z)": 162,
          "f(z)": 0.00014642480871754918
         },
         {
          "Average Transaction Value (z)": 163,
          "f(z)": 0.0001429010120479076
         },
         {
          "Average Transaction Value (z)": 164,
          "f(z)": 0.00013947900165109107
         },
         {
          "Average Transaction Value (z)": 165,
          "f(z)": 0.00013615535664568583
         },
         {
          "Average Transaction Value (z)": 166,
          "f(z)": 0.00013292678692617516
         },
         {
          "Average Transaction Value (z)": 167,
          "f(z)": 0.00012979012757378204
         },
         {
          "Average Transaction Value (z)": 168,
          "f(z)": 0.00012674233353075225
         },
         {
          "Average Transaction Value (z)": 169,
          "f(z)": 0.000123780474524476
         },
         {
          "Average Transaction Value (z)": 170,
          "f(z)": 0.00012090173022870174
         },
         {
          "Average Transaction Value (z)": 171,
          "f(z)": 0.00011810338564975198
         },
         {
          "Average Transaction Value (z)": 172,
          "f(z)": 0.00011538282672633514
         },
         {
          "Average Transaction Value (z)": 173,
          "f(z)": 0.00011273753613216702
         },
         {
          "Average Transaction Value (z)": 174,
          "f(z)": 0.00011016508927118712
         },
         {
          "Average Transaction Value (z)": 175,
          "f(z)": 0.00010766315045576039
         },
         {
          "Average Transaction Value (z)": 176,
          "f(z)": 0.00010522946925870033
         },
         {
          "Average Transaction Value (z)": 177,
          "f(z)": 0.00010286187703052367
         },
         {
          "Average Transaction Value (z)": 178,
          "f(z)": 0.00010055828357373365
         },
         {
          "Average Transaction Value (z)": 179,
          "f(z)": 0.00009831667396642789
         },
         {
          "Average Transaction Value (z)": 180,
          "f(z)": 0.00009613510552789785
         },
         {
          "Average Transaction Value (z)": 181,
          "f(z)": 0.00009401170491929361
         },
         {
          "Average Transaction Value (z)": 182,
          "f(z)": 0.00009194466537279054
         },
         {
          "Average Transaction Value (z)": 183,
          "f(z)": 0.0000899322440430304
         },
         {
          "Average Transaction Value (z)": 184,
          "f(z)": 0.00008797275947494695
         },
         {
          "Average Transaction Value (z)": 185,
          "f(z)": 0.00008606458918240272
         },
         {
          "Average Transaction Value (z)": 186,
          "f(z)": 0.00008420616733231567
         },
         {
          "Average Transaction Value (z)": 187,
          "f(z)": 0.00008239598252926468
         },
         {
          "Average Transaction Value (z)": 188,
          "f(z)": 0.00008063257569582521
         },
         {
          "Average Transaction Value (z)": 189,
          "f(z)": 0.00007891453804408954
         },
         {
          "Average Transaction Value (z)": 190,
          "f(z)": 0.00007724050913410133
         },
         {
          "Average Transaction Value (z)": 191,
          "f(z)": 0.00007560917501513163
         },
         {
          "Average Transaction Value (z)": 192,
          "f(z)": 0.00007401926644592812
         },
         {
          "Average Transaction Value (z)": 193,
          "f(z)": 0.00007246955719027274
         },
         {
          "Average Transaction Value (z)": 194,
          "f(z)": 0.00007095886238436538
         },
         {
          "Average Transaction Value (z)": 195,
          "f(z)": 0.00006948603697272332
         },
         {
          "Average Transaction Value (z)": 196,
          "f(z)": 0.00006804997420944909
         },
         {
          "Average Transaction Value (z)": 197,
          "f(z)": 0.00006664960422188867
         },
         {
          "Average Transaction Value (z)": 198,
          "f(z)": 0.0000652838926338214
         },
         {
          "Average Transaction Value (z)": 199,
          "f(z)": 0.000063951839245508
         },
         {
          "Average Transaction Value (z)": 200,
          "f(z)": 0.00006265247676801226
         },
         {
          "Average Transaction Value (z)": 201,
          "f(z)": 0.00006138486960935124
         },
         {
          "Average Transaction Value (z)": 202,
          "f(z)": 0.00006014811271016891
         },
         {
          "Average Transaction Value (z)": 203,
          "f(z)": 0.00005894133042670936
         },
         {
          "Average Transaction Value (z)": 204,
          "f(z)": 0.00005776367545899593
         },
         {
          "Average Transaction Value (z)": 205,
          "f(z)": 0.000056614327822204106
         },
         {
          "Average Transaction Value (z)": 206,
          "f(z)": 0.00005549249385933529
         },
         {
          "Average Transaction Value (z)": 207,
          "f(z)": 0.00005439740529336947
         },
         {
          "Average Transaction Value (z)": 208,
          "f(z)": 0.000053328318317173735
         },
         {
          "Average Transaction Value (z)": 209,
          "f(z)": 0.00005228451271951255
         },
         {
          "Average Transaction Value (z)": 210,
          "f(z)": 0.000051265291045605617
         },
         {
          "Average Transaction Value (z)": 211,
          "f(z)": 0.00005026997779072679
         },
         {
          "Average Transaction Value (z)": 212,
          "f(z)": 0.00004929791862542238
         },
         {
          "Average Transaction Value (z)": 213,
          "f(z)": 0.000048348479651002915
         },
         {
          "Average Transaction Value (z)": 214,
          "f(z)": 0.000047421046683993956
         },
         {
          "Average Transaction Value (z)": 215,
          "f(z)": 0.00004651502456833414
         },
         {
          "Average Transaction Value (z)": 216,
          "f(z)": 0.00004562983651412119
         },
         {
          "Average Transaction Value (z)": 217,
          "f(z)": 0.000044764923461801494
         },
         {
          "Average Transaction Value (z)": 218,
          "f(z)": 0.00004391974347072328
         },
         {
          "Average Transaction Value (z)": 219,
          "f(z)": 0.000043093771131031455
         },
         {
          "Average Transaction Value (z)": 220,
          "f(z)": 0.00004228649699792682
         },
         {
          "Average Transaction Value (z)": 221,
          "f(z)": 0.00004149742704736191
         },
         {
          "Average Transaction Value (z)": 222,
          "f(z)": 0.00004072608215228715
         },
         {
          "Average Transaction Value (z)": 223,
          "f(z)": 0.000039971997578582275
         },
         {
          "Average Transaction Value (z)": 224,
          "f(z)": 0.000039234722499881914
         },
         {
          "Average Transaction Value (z)": 225,
          "f(z)": 0.00003851381953050862
         },
         {
          "Average Transaction Value (z)": 226,
          "f(z)": 0.000037808864275773204
         },
         {
          "Average Transaction Value (z)": 227,
          "f(z)": 0.000037119444898937665
         },
         {
          "Average Transaction Value (z)": 228,
          "f(z)": 0.000036445161704165135
         },
         {
          "Average Transaction Value (z)": 229,
          "f(z)": 0.000035785626734807265
         },
         {
          "Average Transaction Value (z)": 230,
          "f(z)": 0.00003514046338641393
         },
         {
          "Average Transaction Value (z)": 231,
          "f(z)": 0.00003450930603386889
         },
         {
          "Average Transaction Value (z)": 232,
          "f(z)": 0.000033891799672096666
         },
         {
          "Average Transaction Value (z)": 233,
          "f(z)": 0.000033287599569785565
         },
         {
          "Average Transaction Value (z)": 234,
          "f(z)": 0.000032696370935623634
         },
         {
          "Average Transaction Value (z)": 235,
          "f(z)": 0.00003211778859654108
         },
         {
          "Average Transaction Value (z)": 236,
          "f(z)": 0.00003155153668749605
         },
         {
          "Average Transaction Value (z)": 237,
          "f(z)": 0.00003099730835233706
         },
         {
          "Average Transaction Value (z)": 238,
          "f(z)": 0.000030454805455323915
         },
         {
          "Average Transaction Value (z)": 239,
          "f(z)": 0.000029923738302876935
         },
         {
          "Average Transaction Value (z)": 240,
          "f(z)": 0.000029403825375166928
         },
         {
          "Average Transaction Value (z)": 241,
          "f(z)": 0.000028894793067158096
         },
         {
          "Average Transaction Value (z)": 242,
          "f(z)": 0.000028396375438741982
         },
         {
          "Average Transaction Value (z)": 243,
          "f(z)": 0.000027908313973613714
         },
         {
          "Average Transaction Value (z)": 244,
          "f(z)": 0.000027430357346551025
         },
         {
          "Average Transaction Value (z)": 245,
          "f(z)": 0.000026962261198778136
         },
         {
          "Average Transaction Value (z)": 246,
          "f(z)": 0.000026503787921108174
         },
         {
          "Average Transaction Value (z)": 247,
          "f(z)": 0.000026054706444564188
         },
         {
          "Average Transaction Value (z)": 248,
          "f(z)": 0.000025614792038197824
         },
         {
          "Average Transaction Value (z)": 249,
          "f(z)": 0.000025183826113838157
         },
         {
          "Average Transaction Value (z)": 250,
          "f(z)": 0.000024761596037504633
         },
         {
          "Average Transaction Value (z)": 251,
          "f(z)": 0.000024347894947237502
         },
         {
          "Average Transaction Value (z)": 252,
          "f(z)": 0.00002394252157710565
         },
         {
          "Average Transaction Value (z)": 253,
          "f(z)": 0.000023545280087162897
         },
         {
          "Average Transaction Value (z)": 254,
          "f(z)": 0.000023155979899132222
         },
         {
          "Average Transaction Value (z)": 255,
          "f(z)": 0.000022774435537604794
         },
         {
          "Average Transaction Value (z)": 256,
          "f(z)": 0.00002240046647655252
         },
         {
          "Average Transaction Value (z)": 257,
          "f(z)": 0.000022033896990957203
         },
         {
          "Average Transaction Value (z)": 258,
          "f(z)": 0.00002167455601337251
         },
         {
          "Average Transaction Value (z)": 259,
          "f(z)": 0.000021322276995236105
         },
         {
          "Average Transaction Value (z)": 260,
          "f(z)": 0.00002097689777275905
         },
         {
          "Average Transaction Value (z)": 261,
          "f(z)": 0.000020638260437229662
         },
         {
          "Average Transaction Value (z)": 262,
          "f(z)": 0.00002030621120956832
         },
         {
          "Average Transaction Value (z)": 263,
          "f(z)": 0.00001998060031898653
         },
         {
          "Average Transaction Value (z)": 264,
          "f(z)": 0.00001966128188559451
         },
         {
          "Average Transaction Value (z)": 265,
          "f(z)": 0.000019348113806825277
         },
         {
          "Average Transaction Value (z)": 266,
          "f(z)": 0.000019040957647531686
         },
         {
          "Average Transaction Value (z)": 267,
          "f(z)": 0.000018739678533630438
         },
         {
          "Average Transaction Value (z)": 268,
          "f(z)": 0.00001844414504916671
         },
         {
          "Average Transaction Value (z)": 269,
          "f(z)": 0.00001815422913667852
         },
         {
          "Average Transaction Value (z)": 270,
          "f(z)": 0.000017869806000742817
         },
         {
          "Average Transaction Value (z)": 271,
          "f(z)": 0.000017590754014594776
         },
         {
          "Average Transaction Value (z)": 272,
          "f(z)": 0.00001731695462971253
         },
         {
          "Average Transaction Value (z)": 273,
          "f(z)": 0.000017048292288260947
         },
         {
          "Average Transaction Value (z)": 274,
          "f(z)": 0.000016784654338299697
         },
         {
          "Average Transaction Value (z)": 275,
          "f(z)": 0.000016525930951655363
         },
         {
          "Average Transaction Value (z)": 276,
          "f(z)": 0.00001627201504436981
         },
         {
          "Average Transaction Value (z)": 277,
          "f(z)": 0.000016022802199633798
         },
         {
          "Average Transaction Value (z)": 278,
          "f(z)": 0.0000157781905931196
         },
         {
          "Average Transaction Value (z)": 279,
          "f(z)": 0.00001553808092063479
         },
         {
          "Average Transaction Value (z)": 280,
          "f(z)": 0.000015302376328014006
         },
         {
          "Average Transaction Value (z)": 281,
          "f(z)": 0.000015070982343173275
         },
         {
          "Average Transaction Value (z)": 282,
          "f(z)": 0.000014843806810256066
         },
         {
          "Average Transaction Value (z)": 283,
          "f(z)": 0.00001462075982579828
         },
         {
          "Average Transaction Value (z)": 284,
          "f(z)": 0.000014401753676845122
         },
         {
          "Average Transaction Value (z)": 285,
          "f(z)": 0.000014186702780953355
         },
         {
          "Average Transaction Value (z)": 286,
          "f(z)": 0.0000139755236280172
         },
         {
          "Average Transaction Value (z)": 287,
          "f(z)": 0.000013768134723856607
         },
         {
          "Average Transaction Value (z)": 288,
          "f(z)": 0.000013564456535507916
         },
         {
          "Average Transaction Value (z)": 289,
          "f(z)": 0.000013364411438163976
         },
         {
          "Average Transaction Value (z)": 290,
          "f(z)": 0.00001316792366370431
         },
         {
          "Average Transaction Value (z)": 291,
          "f(z)": 0.000012974919250767562
         },
         {
          "Average Transaction Value (z)": 292,
          "f(z)": 0.00001278532599631246
         },
         {
          "Average Transaction Value (z)": 293,
          "f(z)": 0.000012599073408620522
         },
         {
          "Average Transaction Value (z)": 294,
          "f(z)": 0.000012416092661691206
         },
         {
          "Average Transaction Value (z)": 295,
          "f(z)": 0.000012236316550987164
         },
         {
          "Average Transaction Value (z)": 296,
          "f(z)": 0.000012059679450482567
         },
         {
          "Average Transaction Value (z)": 297,
          "f(z)": 0.000011886117270975648
         },
         {
          "Average Transaction Value (z)": 298,
          "f(z)": 0.000011715567419620632
         },
         {
          "Average Transaction Value (z)": 299,
          "f(z)": 0.000011547968760644195
         },
         {
          "Average Transaction Value (z)": 300,
          "f(z)": 0.000011383261577205018
         }
        ],
        "data-3a4a0a4c0ab66d29cafbd6122dcdc538": [
         {
          "Average Transaction Value (z)": 2.5,
          "f(z)": 0.000574964666954661
         },
         {
          "Average Transaction Value (z)": 5,
          "f(z)": 0.002833099839721059
         },
         {
          "Average Transaction Value (z)": 7.5,
          "f(z)": 0.005673589773005017
         },
         {
          "Average Transaction Value (z)": 10,
          "f(z)": 0.019360842315832752
         },
         {
          "Average Transaction Value (z)": 12.5,
          "f(z)": 0.03430593905034409
         },
         {
          "Average Transaction Value (z)": 15,
          "f(z)": 0.034977124942824775
         },
         {
          "Average Transaction Value (z)": 17.5,
          "f(z)": 0.028675290708282394
         },
         {
          "Average Transaction Value (z)": 20,
          "f(z)": 0.024125323622117837
         },
         {
          "Average Transaction Value (z)": 22.5,
          "f(z)": 0.022186663054258496
         },
         {
          "Average Transaction Value (z)": 25,
          "f(z)": 0.021316234847263554
         },
         {
          "Average Transaction Value (z)": 27.5,
          "f(z)": 0.02041109564684734
         },
         {
          "Average Transaction Value (z)": 30,
          "f(z)": 0.01911709451039377
         },
         {
          "Average Transaction Value (z)": 32.5,
          "f(z)": 0.017537992277857427
         },
         {
          "Average Transaction Value (z)": 35,
          "f(z)": 0.015873602567824944
         },
         {
          "Average Transaction Value (z)": 37.5,
          "f(z)": 0.0142430868354314
         },
         {
          "Average Transaction Value (z)": 40,
          "f(z)": 0.012685970205158489
         },
         {
          "Average Transaction Value (z)": 42.5,
          "f(z)": 0.01121422757532232
         },
         {
          "Average Transaction Value (z)": 45,
          "f(z)": 0.009842144578266463
         },
         {
          "Average Transaction Value (z)": 47.5,
          "f(z)": 0.008588770244414044
         },
         {
          "Average Transaction Value (z)": 50,
          "f(z)": 0.00747012228235236
         },
         {
          "Average Transaction Value (z)": 52.5,
          "f(z)": 0.0064931922820302655
         },
         {
          "Average Transaction Value (z)": 55,
          "f(z)": 0.005654826866202641
         },
         {
          "Average Transaction Value (z)": 57.5,
          "f(z)": 0.004943998634126708
         },
         {
          "Average Transaction Value (z)": 60,
          "f(z)": 0.004345217718415314
         },
         {
          "Average Transaction Value (z)": 62.5,
          "f(z)": 0.0038415938070805867
         },
         {
          "Average Transaction Value (z)": 65,
          "f(z)": 0.003416951692068985
         },
         {
          "Average Transaction Value (z)": 67.5,
          "f(z)": 0.0030569778887621735
         },
         {
          "Average Transaction Value (z)": 70,
          "f(z)": 0.0027496290434891966
         },
         {
          "Average Transaction Value (z)": 72.5,
          "f(z)": 0.0024850824966257466
         },
         {
          "Average Transaction Value (z)": 75,
          "f(z)": 0.002255462293913384
         },
         {
          "Average Transaction Value (z)": 77.5,
          "f(z)": 0.0020544977792651994
         },
         {
          "Average Transaction Value (z)": 80,
          "f(z)": 0.001877201345767503
         },
         {
          "Average Transaction Value (z)": 82.5,
          "f(z)": 0.0017196004135717198
         },
         {
          "Average Transaction Value (z)": 85,
          "f(z)": 0.0015785278145801437
         },
         {
          "Average Transaction Value (z)": 87.5,
          "f(z)": 0.0014514604734249424
         },
         {
          "Average Transaction Value (z)": 90,
          "f(z)": 0.0013363928665853118
         },
         {
          "Average Transaction Value (z)": 92.5,
          "f(z)": 0.0012317339782947402
         },
         {
          "Average Transaction Value (z)": 95,
          "f(z)": 0.0011362205444300066
         },
         {
          "Average Transaction Value (z)": 97.5,
          "f(z)": 0.0010488430595181307
         },
         {
          "Average Transaction Value (z)": 100,
          "f(z)": 0.000968783394596733
         },
         {
          "Average Transaction Value (z)": 102.5,
          "f(z)": 0.0008953638703123863
         },
         {
          "Average Transaction Value (z)": 105,
          "f(z)": 0.0008280076194251543
         },
         {
          "Average Transaction Value (z)": 107.5,
          "f(z)": 0.0007662095420254602
         },
         {
          "Average Transaction Value (z)": 110,
          "f(z)": 0.0007095165209692238
         },
         {
          "Average Transaction Value (z)": 112.5,
          "f(z)": 0.0006575150916213122
         },
         {
          "Average Transaction Value (z)": 115,
          "f(z)": 0.0006098245645100417
         },
         {
          "Average Transaction Value (z)": 117.5,
          "f(z)": 0.0005660936814467072
         },
         {
          "Average Transaction Value (z)": 120,
          "f(z)": 0.0005259991762088882
         },
         {
          "Average Transaction Value (z)": 122.5,
          "f(z)": 0.0004892450157151583
         },
         {
          "Average Transaction Value (z)": 125,
          "f(z)": 0.00045556152740959023
         },
         {
          "Average Transaction Value (z)": 127.5,
          "f(z)": 0.00042470400580658935
         },
         {
          "Average Transaction Value (z)": 130,
          "f(z)": 0.0003964506956230609
         },
         {
          "Average Transaction Value (z)": 132.5,
          "f(z)": 0.000370600255694977
         },
         {
          "Average Transaction Value (z)": 135,
          "f(z)": 0.0003469689211785114
         },
         {
          "Average Transaction Value (z)": 137.5,
          "f(z)": 0.0003253876175743728
         },
         {
          "Average Transaction Value (z)": 140,
          "f(z)": 0.0003056992604652201
         },
         {
          "Average Transaction Value (z)": 142.5,
          "f(z)": 0.00028775642144152915
         },
         {
          "Average Transaction Value (z)": 145,
          "f(z)": 0.0002714194725331266
         },
         {
          "Average Transaction Value (z)": 147.5,
          "f(z)": 0.0002565552530651892
         },
         {
          "Average Transaction Value (z)": 150,
          "f(z)": 0.0002430362438260383
         },
         {
          "Average Transaction Value (z)": 152.5,
          "f(z)": 0.00023074018892418522
         },
         {
          "Average Transaction Value (z)": 155,
          "f(z)": 0.00021955007731345885
         },
         {
          "Average Transaction Value (z)": 157.5,
          "f(z)": 0.00020935438273481113
         },
         {
          "Average Transaction Value (z)": 160,
          "f(z)": 0.00020004746027306504
         },
         {
          "Average Transaction Value (z)": 162.5,
          "f(z)": 0.00019153000664644365
         },
         {
          "Average Transaction Value (z)": 165,
          "f(z)": 0.00018370950642295118
         },
         {
          "Average Transaction Value (z)": 167.5,
          "f(z)": 0.00017650060458643737
         },
         {
          "Average Transaction Value (z)": 170,
          "f(z)": 0.00016982536479281734
         },
         {
          "Average Transaction Value (z)": 172.5,
          "f(z)": 0.00016361339043139027
         },
         {
          "Average Transaction Value (z)": 175,
          "f(z)": 0.000157801801027182
         },
         {
          "Average Transaction Value (z)": 177.5,
          "f(z)": 0.00015233506892741821
         },
         {
          "Average Transaction Value (z)": 180,
          "f(z)": 0.00014716473039296906
         },
         {
          "Average Transaction Value (z)": 182.5,
          "f(z)": 0.0001422489912790232
         },
         {
          "Average Transaction Value (z)": 185,
          "f(z)": 0.00013755225077447761
         },
         {
          "Average Transaction Value (z)": 187.5,
          "f(z)": 0.00013304456763965484
         },
         {
          "Average Transaction Value (z)": 190,
          "f(z)": 0.0001287010925504403
         },
         {
          "Average Transaction Value (z)": 192.5,
          "f(z)": 0.00012450148803180258
         },
         {
          "Average Transaction Value (z)": 195,
          "f(z)": 0.00012042935450873657
         },
         {
          "Average Transaction Value (z)": 197.5,
          "f(z)": 0.0001164716776152526
         },
         {
          "Average Transaction Value (z)": 200,
          "f(z)": 0.00011261830840219694
         },
         {
          "Average Transaction Value (z)": 202.5,
          "f(z)": 0.00010886148471435863
         },
         {
          "Average Transaction Value (z)": 205,
          "f(z)": 0.00010519539893546334
         },
         {
          "Average Transaction Value (z)": 207.5,
          "f(z)": 0.00010161581463113141
         },
         {
          "Average Transaction Value (z)": 210,
          "f(z)": 0.00009811973240667989
         },
         {
          "Average Transaction Value (z)": 212.5,
          "f(z)": 0.0000947051035492738
         },
         {
          "Average Transaction Value (z)": 215,
          "f(z)": 0.00009137058872228647
         },
         {
          "Average Transaction Value (z)": 217.5,
          "f(z)": 0.00008811535808307139
         },
         {
          "Average Transaction Value (z)": 220,
          "f(z)": 0.00008493892865044622
         },
         {
          "Average Transaction Value (z)": 222.5,
          "f(z)": 0.00008184103449616325
         },
         {
          "Average Transaction Value (z)": 225,
          "f(z)": 0.0000788215253158673
         },
         {
          "Average Transaction Value (z)": 227.5,
          "f(z)": 0.00007588028909312285
         },
         {
          "Average Transaction Value (z)": 230,
          "f(z)": 0.000073017194853851
         },
         {
          "Average Transaction Value (z)": 232.5,
          "f(z)": 0.00007023205187393074
         },
         {
          "Average Transaction Value (z)": 235,
          "f(z)": 0.00006752458211289475
         },
         {
          "Average Transaction Value (z)": 237.5,
          "f(z)": 0.00006489440307240794
         },
         {
          "Average Transaction Value (z)": 240,
          "f(z)": 0.00006234101869704774
         },
         {
          "Average Transaction Value (z)": 242.5,
          "f(z)": 0.00005986381633088301
         },
         {
          "Average Transaction Value (z)": 245,
          "f(z)": 0.000057462068105595246
         },
         {
          "Average Transaction Value (z)": 247.5,
          "f(z)": 0.0000551349354582735
         },
         {
          "Average Transaction Value (z)": 250,
          "f(z)": 0.0000528814757567731
         },
         {
          "Average Transaction Value (z)": 252.5,
          "f(z)": 0.000050700650247751185
         },
         {
          "Average Transaction Value (z)": 255,
          "f(z)": 0.00004859133273909122
         },
         {
          "Average Transaction Value (z)": 257.5,
          "f(z)": 0.00004655231858780532
         },
         {
          "Average Transaction Value (z)": 260,
          "f(z)": 0.000044582333690687455
         },
         {
          "Average Transaction Value (z)": 262.5,
          "f(z)": 0.000042680043272481686
         },
         {
          "Average Transaction Value (z)": 265,
          "f(z)": 0.00004084406033965657
         },
         {
          "Average Transaction Value (z)": 267.5,
          "f(z)": 0.000039072953721328455
         },
         {
          "Average Transaction Value (z)": 270,
          "f(z)": 0.000037365255656463324
         },
         {
          "Average Transaction Value (z)": 272.5,
          "f(z)": 0.000035719468911739524
         },
         {
          "Average Transaction Value (z)": 275,
          "f(z)": 0.00003413407343040036
         },
         {
          "Average Transaction Value (z)": 277.5,
          "f(z)": 0.00003260753252166306
         },
         {
          "Average Transaction Value (z)": 280,
          "f(z)": 0.00003113829860480159
         },
         {
          "Average Transaction Value (z)": 282.5,
          "f(z)": 0.000029724818523581405
         },
         {
          "Average Transaction Value (z)": 285,
          "f(z)": 0.00002836553844648129
         },
         {
          "Average Transaction Value (z)": 287.5,
          "f(z)": 0.000027058908367061312
         },
         {
          "Average Transaction Value (z)": 290,
          "f(z)": 0.000025803386217509895
         },
         {
          "Average Transaction Value (z)": 292.5,
          "f(z)": 0.000024597441607259704
         },
         {
          "Average Transaction Value (z)": 295,
          "f(z)": 0.000023439559197820797
         },
         {
          "Average Transaction Value (z)": 297.5,
          "f(z)": 0.000022328241724734024
         },
         {
          "Average Transaction Value (z)": 300,
          "f(z)": 0.00002126201267780195
         }
        ]
       },
       "height": 400,
       "layer": [
        {
         "data": {
          "name": "data-3a4a0a4c0ab66d29cafbd6122dcdc538"
         },
         "encoding": {
          "x": {
           "axis": {
            "labelExpr": "\"$\"+datum.value",
            "values": [
             0,
             50,
             100,
             150,
             200,
             250,
             300
            ]
           },
           "field": "Average Transaction Value (z)",
           "type": "quantitative"
          },
          "y": {
           "field": "f(z)",
           "scale": {
            "domain": [
             0,
             0.04
            ]
           },
           "type": "quantitative"
          }
         },
         "mark": {
          "type": "line"
         }
        },
        {
         "data": {
          "name": "data-298484054f8bce20696d69235185dd02"
         },
         "encoding": {
          "x": {
           "axis": {
            "labelExpr": "\"$\"+datum.value",
            "values": [
             0,
             50,
             100,
             150,
             200,
             250,
             300
            ]
           },
           "field": "Average Transaction Value (z)",
           "type": "quantitative"
          },
          "y": {
           "field": "f(z)",
           "scale": {
            "domain": [
             0,
             0.04
            ]
           },
           "type": "quantitative"
          }
         },
         "mark": {
          "strokeDash": [
           4,
           4
          ],
          "type": "line"
         }
        }
       ],
       "title": "Observed versus theoretical distribution of average transaction value across customers",
       "width": 500
      },
      "text/plain": [
       "<VegaLite 5 object>\n",
       "\n",
       "If you see this message, it means the renderer has not been properly enabled\n",
       "for the frontend that you are using. For more information, see\n",
       "https://altair-viz.github.io/user_guide/display_frontends.html#troubleshooting\n"
      ]
     },
     "execution_count": 13,
     "metadata": {},
     "output_type": "execute_result"
    }
   ],
   "source": [
    "est_dist_plot = (\n",
    "    alt.Chart(pl.DataFrame({'Average Transaction Value (z)': np.arange(300) + 1, 'f(z)': g}))\n",
    "    .mark_line(strokeDash=[4,4]).encode(\n",
    "        x=alt.X('Average Transaction Value (z)', axis=alt.Axis(values=np.arange(0, 301, 50), labelExpr='\"$\"+datum.value')),\n",
    "        y=alt.Y('f(z)', scale=alt.Scale(domain=[0, 0.04]))\n",
    "    )\n",
    ")\n",
    "\n",
    "chart = act_dist_plot + est_dist_plot\n",
    "\n",
    "chart.properties(\n",
    "            width=500,\n",
    "            height=400,\n",
    "            title='Observed versus theoretical distribution of average transaction value across customers'\n",
    ").configure_view(stroke=None).configure_axisY(grid=False).configure_axisX(grid=False) "
   ]
  },
  {
   "cell_type": "markdown",
   "metadata": {},
   "source": [
    "### Computing Conditional Expectations"
   ]
  },
  {
   "cell_type": "code",
   "execution_count": 14,
   "metadata": {},
   "outputs": [
    {
     "data": {
      "text/html": [
       "<div><style>\n",
       ".dataframe > thead > tr,\n",
       ".dataframe > tbody > tr {\n",
       "  text-align: right;\n",
       "  white-space: pre-wrap;\n",
       "}\n",
       "</style>\n",
       "<small>shape: (2_357, 5)</small><table border=\"1\" class=\"dataframe\"><thead><tr><th>ID</th><th>P1X</th><th>zbar</th><th>Weight</th><th>E(Z|x,zbar)</th></tr><tr><td>i32</td><td>u32</td><td>f64</td><td>f64</td><td>f64</td></tr></thead><tbody><tr><td>1</td><td>2</td><td>2234.5</td><td>0.180037</td><td>24.654077</td></tr><tr><td>2</td><td>1</td><td>1177.0</td><td>0.305138</td><td>18.910398</td></tr><tr><td>3</td><td>0</td><td>0.0</td><td>1.0</td><td>35.170581</td></tr><tr><td>4</td><td>0</td><td>0.0</td><td>1.0</td><td>35.170581</td></tr><tr><td>5</td><td>0</td><td>0.0</td><td>1.0</td><td>35.170581</td></tr><tr><td>&hellip;</td><td>&hellip;</td><td>&hellip;</td><td>&hellip;</td><td>&hellip;</td></tr><tr><td>2353</td><td>0</td><td>0.0</td><td>1.0</td><td>35.170581</td></tr><tr><td>2354</td><td>5</td><td>4492.8</td><td>0.080736</td><td>44.140225</td></tr><tr><td>2355</td><td>0</td><td>0.0</td><td>1.0</td><td>35.170581</td></tr><tr><td>2356</td><td>4</td><td>3331.75</td><td>0.098923</td><td>33.500813</td></tr><tr><td>2357</td><td>0</td><td>0.0</td><td>1.0</td><td>35.170581</td></tr></tbody></table></div>"
      ],
      "text/plain": [
       "shape: (2_357, 5)\n",
       "┌──────┬─────┬─────────┬──────────┬─────────────┐\n",
       "│ ID   ┆ P1X ┆ zbar    ┆ Weight   ┆ E(Z|x,zbar) │\n",
       "│ ---  ┆ --- ┆ ---     ┆ ---      ┆ ---         │\n",
       "│ i32  ┆ u32 ┆ f64     ┆ f64      ┆ f64         │\n",
       "╞══════╪═════╪═════════╪══════════╪═════════════╡\n",
       "│ 1    ┆ 2   ┆ 2234.5  ┆ 0.180037 ┆ 24.654077   │\n",
       "│ 2    ┆ 1   ┆ 1177.0  ┆ 0.305138 ┆ 18.910398   │\n",
       "│ 3    ┆ 0   ┆ 0.0     ┆ 1.0      ┆ 35.170581   │\n",
       "│ 4    ┆ 0   ┆ 0.0     ┆ 1.0      ┆ 35.170581   │\n",
       "│ 5    ┆ 0   ┆ 0.0     ┆ 1.0      ┆ 35.170581   │\n",
       "│ …    ┆ …   ┆ …       ┆ …        ┆ …           │\n",
       "│ 2353 ┆ 0   ┆ 0.0     ┆ 1.0      ┆ 35.170581   │\n",
       "│ 2354 ┆ 5   ┆ 4492.8  ┆ 0.080736 ┆ 44.140225   │\n",
       "│ 2355 ┆ 0   ┆ 0.0     ┆ 1.0      ┆ 35.170581   │\n",
       "│ 2356 ┆ 4   ┆ 3331.75 ┆ 0.098923 ┆ 33.500813   │\n",
       "│ 2357 ┆ 0   ┆ 0.0     ┆ 1.0      ┆ 35.170581   │\n",
       "└──────┴─────┴─────────┴──────────┴─────────────┘"
      ]
     },
     "execution_count": 14,
     "metadata": {},
     "output_type": "execute_result"
    }
   ],
   "source": [
    "E_Z = p*gamma/(q-1)\n",
    "\n",
    "ce = (\n",
    "    cdnow.rfm_summary()\n",
    "    .select('ID', 'P1X', 'zbar')   \n",
    "    .with_columns(((q - 1)/(p * pl.col('P1X') + q - 1)).alias('Weight'))\n",
    "    .with_columns((pl.col('Weight')*E_Z+(1-pl.col('Weight'))*pl.col('zbar')/100).alias('E(Z|x,zbar)'))\n",
    ")\n",
    "\n",
    "ce.collect()"
   ]
  }
 ],
 "metadata": {
  "kernelspec": {
   "display_name": "Main (venv)",
   "language": "python",
   "name": ".venv"
  },
  "language_info": {
   "codemirror_mode": {
    "name": "ipython",
    "version": 3
   },
   "file_extension": ".py",
   "mimetype": "text/x-python",
   "name": "python",
   "nbconvert_exporter": "python",
   "pygments_lexer": "ipython3",
   "version": "3.13.1"
  }
 },
 "nbformat": 4,
 "nbformat_minor": 2
}
