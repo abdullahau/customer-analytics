{
 "cells": [
  {
   "cell_type": "code",
   "execution_count": 1,
   "metadata": {},
   "outputs": [],
   "source": [
    "import polars as pl\n",
    "import numpy as np\n",
    "from sklearn.neighbors import KernelDensity\n",
    "from scipy.optimize import minimize\n",
    "from scipy.special import gammaln\n",
    "from utils import CDNOW, modified_silverman\n",
    "\n",
    "import altair as alt\n",
    "from IPython.display import display_markdown"
   ]
  },
  {
   "cell_type": "code",
   "execution_count": 2,
   "metadata": {},
   "outputs": [],
   "source": [
    "cdnow = CDNOW(master=False, calwk=273)\n",
    "\n",
    "# For the Gamma-Gamma model, we need to filter out customers who have made only one purchase.\n",
    "rfm_data = cdnow.rfm_summary().filter(pl.col('P1X') > 0)\n",
    "\n",
    "rfm_data_array = rfm_data.select('P1X', 't_x', 'T', 'zbar').collect().to_numpy()\n",
    "x = rfm_data_array[:,0] # frequency\n",
    "zbar = rfm_data_array[:,3] / 100 # monetary value\n",
    "t_x = rfm_data_array[:,1]\n",
    "T = rfm_data_array[:,2]"
   ]
  },
  {
   "cell_type": "markdown",
   "metadata": {},
   "source": [
    "The Gamma-Gamma model assumes that there is no relationship between the monetary value and the purchase frequency. We can check this assumption by calculating the correlation between the average spend and the frequency of purchases."
   ]
  },
  {
   "cell_type": "code",
   "execution_count": 3,
   "metadata": {},
   "outputs": [
    {
     "data": {
      "text/html": [
       "<div id=\"acwmagpofi\" style=\"padding-left:0px;padding-right:0px;padding-top:10px;padding-bottom:10px;overflow-x:auto;overflow-y:auto;width:auto;height:auto;\">\n",
       "<style>\n",
       "#acwmagpofi table {\n",
       "          font-family: -apple-system, BlinkMacSystemFont, 'Segoe UI', Roboto, Oxygen, Ubuntu, Cantarell, 'Helvetica Neue', 'Fira Sans', 'Droid Sans', Arial, sans-serif;\n",
       "          -webkit-font-smoothing: antialiased;\n",
       "          -moz-osx-font-smoothing: grayscale;\n",
       "        }\n",
       "\n",
       "#acwmagpofi thead, tbody, tfoot, tr, td, th { border-style: none !important; }\n",
       " tr { background-color: transparent !important; }\n",
       "#acwmagpofi p { margin: 0 !important; padding: 0 !important; }\n",
       " #acwmagpofi .gt_table { display: table !important; border-collapse: collapse !important; line-height: normal !important; margin-left: auto !important; margin-right: auto !important; color: #333333 !important; font-size: 16px !important; font-weight: normal !important; font-style: normal !important; background-color: #FFFFFF !important; width: auto !important; border-top-style: solid !important; border-top-width: 2px !important; border-top-color: #A8A8A8 !important; border-right-style: none !important; border-right-width: 2px !important; border-right-color: #D3D3D3 !important; border-bottom-style: solid !important; border-bottom-width: 2px !important; border-bottom-color: #A8A8A8 !important; border-left-style: none !important; border-left-width: 2px !important; border-left-color: #D3D3D3 !important; }\n",
       " #acwmagpofi .gt_caption { padding-top: 4px !important; padding-bottom: 4px !important; }\n",
       " #acwmagpofi .gt_title { color: #333333 !important; font-size: 125% !important; font-weight: initial !important; padding-top: 4px !important; padding-bottom: 4px !important; padding-left: 5px !important; padding-right: 5px !important; border-bottom-color: #FFFFFF !important; border-bottom-width: 0 !important; }\n",
       " #acwmagpofi .gt_subtitle { color: #333333 !important; font-size: 85% !important; font-weight: initial !important; padding-top: 3px !important; padding-bottom: 5px !important; padding-left: 5px !important; padding-right: 5px !important; border-top-color: #FFFFFF !important; border-top-width: 0 !important; }\n",
       " #acwmagpofi .gt_heading { background-color: #FFFFFF !important; text-align: center !important; border-bottom-color: #FFFFFF !important; border-left-style: none !important; border-left-width: 1px !important; border-left-color: #D3D3D3 !important; border-right-style: none !important; border-right-width: 1px !important; border-right-color: #D3D3D3 !important; }\n",
       " #acwmagpofi .gt_bottom_border { border-bottom-style: solid !important; border-bottom-width: 2px !important; border-bottom-color: #D3D3D3 !important; }\n",
       " #acwmagpofi .gt_col_headings { border-top-style: solid !important; border-top-width: 2px !important; border-top-color: #D3D3D3 !important; border-bottom-style: solid !important; border-bottom-width: 2px !important; border-bottom-color: #D3D3D3 !important; border-left-style: none !important; border-left-width: 1px !important; border-left-color: #D3D3D3 !important; border-right-style: none !important; border-right-width: 1px !important; border-right-color: #D3D3D3 !important; }\n",
       " #acwmagpofi .gt_col_heading { color: #333333 !important; background-color: #FFFFFF !important; font-size: 100% !important; font-weight: normal !important; text-transform: inherit !important; border-left-style: none !important; border-left-width: 1px !important; border-left-color: #D3D3D3 !important; border-right-style: none !important; border-right-width: 1px !important; border-right-color: #D3D3D3 !important; vertical-align: bottom !important; padding-top: 5px !important; padding-bottom: 5px !important; padding-left: 5px !important; padding-right: 5px !important; overflow-x: hidden !important; }\n",
       " #acwmagpofi .gt_column_spanner_outer { color: #333333 !important; background-color: #FFFFFF !important; font-size: 100% !important; font-weight: normal !important; text-transform: inherit !important; padding-top: 0 !important; padding-bottom: 0 !important; padding-left: 4px !important; padding-right: 4px !important; }\n",
       " #acwmagpofi .gt_column_spanner_outer:first-child { padding-left: 0 !important; }\n",
       " #acwmagpofi .gt_column_spanner_outer:last-child { padding-right: 0 !important; }\n",
       " #acwmagpofi .gt_column_spanner { border-bottom-style: solid !important; border-bottom-width: 2px !important; border-bottom-color: #D3D3D3 !important; vertical-align: bottom !important; padding-top: 5px !important; padding-bottom: 5px !important; overflow-x: hidden !important; display: inline-block !important; width: 100% !important; }\n",
       " #acwmagpofi .gt_spanner_row { border-bottom-style: hidden !important; }\n",
       " #acwmagpofi .gt_group_heading { padding-top: 8px !important; padding-bottom: 8px !important; padding-left: 5px !important; padding-right: 5px !important; color: #333333 !important; background-color: #FFFFFF !important; font-size: 100% !important; font-weight: initial !important; text-transform: inherit !important; border-top-style: solid !important; border-top-width: 2px !important; border-top-color: #D3D3D3 !important; border-bottom-style: solid !important; border-bottom-width: 2px !important; border-bottom-color: #D3D3D3 !important; border-left-style: none !important; border-left-width: 1px !important; border-left-color: #D3D3D3 !important; border-right-style: none !important; border-right-width: 1px !important; border-right-color: #D3D3D3 !important; vertical-align: middle !important; text-align: left !important; }\n",
       " #acwmagpofi .gt_empty_group_heading { padding: 0.5px !important; color: #333333 !important; background-color: #FFFFFF !important; font-size: 100% !important; font-weight: initial !important; border-top-style: solid !important; border-top-width: 2px !important; border-top-color: #D3D3D3 !important; border-bottom-style: solid !important; border-bottom-width: 2px !important; border-bottom-color: #D3D3D3 !important; vertical-align: middle !important; }\n",
       " #acwmagpofi .gt_from_md> :first-child { margin-top: 0 !important; }\n",
       " #acwmagpofi .gt_from_md> :last-child { margin-bottom: 0 !important; }\n",
       " #acwmagpofi .gt_row { padding-top: 8px !important; padding-bottom: 8px !important; padding-left: 5px !important; padding-right: 5px !important; margin: 10px !important; border-top-style: solid !important; border-top-width: 1px !important; border-top-color: #D3D3D3 !important; border-left-style: none !important; border-left-width: 1px !important; border-left-color: #D3D3D3 !important; border-right-style: none !important; border-right-width: 1px !important; border-right-color: #D3D3D3 !important; vertical-align: middle !important; overflow-x: hidden !important; }\n",
       " #acwmagpofi .gt_stub { color: #333333 !important; background-color: #FFFFFF !important; font-size: 100% !important; font-weight: initial !important; text-transform: inherit !important; border-right-style: solid !important; border-right-width: 2px !important; border-right-color: #D3D3D3 !important; padding-left: 5px !important; padding-right: 5px !important; }\n",
       " #acwmagpofi .gt_stub_row_group { color: #333333 !important; background-color: #FFFFFF !important; font-size: 100% !important; font-weight: initial !important; text-transform: inherit !important; border-right-style: solid !important; border-right-width: 2px !important; border-right-color: #D3D3D3 !important; padding-left: 5px !important; padding-right: 5px !important; vertical-align: top !important; }\n",
       " #acwmagpofi .gt_row_group_first td { border-top-width: 2px !important; }\n",
       " #acwmagpofi .gt_row_group_first th { border-top-width: 2px !important; }\n",
       " #acwmagpofi .gt_striped { background-color: rgba(128,128,128,0.05) !important; }\n",
       " #acwmagpofi .gt_table_body { border-top-style: solid !important; border-top-width: 2px !important; border-top-color: #D3D3D3 !important; border-bottom-style: solid !important; border-bottom-width: 2px !important; border-bottom-color: #D3D3D3 !important; }\n",
       " #acwmagpofi .gt_sourcenotes { color: #333333 !important; background-color: #FFFFFF !important; border-bottom-style: none !important; border-bottom-width: 2px !important; border-bottom-color: #D3D3D3 !important; border-left-style: none !important; border-left-width: 2px !important; border-left-color: #D3D3D3 !important; border-right-style: none !important; border-right-width: 2px !important; border-right-color: #D3D3D3 !important; }\n",
       " #acwmagpofi .gt_sourcenote { font-size: 90% !important; padding-top: 4px !important; padding-bottom: 4px !important; padding-left: 5px !important; padding-right: 5px !important; text-align: left !important; }\n",
       " #acwmagpofi .gt_left { text-align: left !important; }\n",
       " #acwmagpofi .gt_center { text-align: center !important; }\n",
       " #acwmagpofi .gt_right { text-align: right !important; font-variant-numeric: tabular-nums !important; }\n",
       " #acwmagpofi .gt_font_normal { font-weight: normal !important; }\n",
       " #acwmagpofi .gt_font_bold { font-weight: bold !important; }\n",
       " #acwmagpofi .gt_font_italic { font-style: italic !important; }\n",
       " #acwmagpofi .gt_super { font-size: 65% !important; }\n",
       " #acwmagpofi .gt_footnote_marks { font-size: 75% !important; vertical-align: 0.4em !important; position: initial !important; }\n",
       " #acwmagpofi .gt_asterisk { font-size: 100% !important; vertical-align: 0 !important; }\n",
       " \n",
       "</style>\n",
       "<table class=\"gt_table\" data-quarto-disable-processing=\"false\" data-quarto-bootstrap=\"false\">\n",
       "<thead>\n",
       "\n",
       "  <tr class=\"gt_heading\">\n",
       "    <td colspan=\"3\" class=\"gt_heading gt_title gt_font_normal\">Correlations Between Frequency &amp; Monetary Value</td>\n",
       "  </tr>\n",
       "<tr class=\"gt_col_headings\">\n",
       "  <th class=\"gt_col_heading gt_columns_bottom_border gt_left\" rowspan=\"1\" colspan=\"1\" scope=\"col\" id=\"\"></th>\n",
       "  <th class=\"gt_col_heading gt_columns_bottom_border gt_right\" rowspan=\"1\" colspan=\"1\" scope=\"col\" id=\"P1X\">P1X</th>\n",
       "  <th class=\"gt_col_heading gt_columns_bottom_border gt_right\" rowspan=\"1\" colspan=\"1\" scope=\"col\" id=\"zbar\">zbar</th>\n",
       "</tr>\n",
       "</thead>\n",
       "<tbody class=\"gt_table_body\">\n",
       "  <tr>\n",
       "    <th class=\"gt_row gt_left gt_stub\">P1X</th>\n",
       "    <td class=\"gt_row gt_right\">1.000</td>\n",
       "    <td class=\"gt_row gt_right\">0.114</td>\n",
       "  </tr>\n",
       "  <tr>\n",
       "    <th class=\"gt_row gt_left gt_stub\">zbar</th>\n",
       "    <td class=\"gt_row gt_right\">0.114</td>\n",
       "    <td class=\"gt_row gt_right\">1.000</td>\n",
       "  </tr>\n",
       "</tbody>\n",
       "\n",
       "\n",
       "</table>\n",
       "\n",
       "</div>\n",
       "        "
      ],
      "text/plain": [
       "GT(_tbl_data=shape: (2, 3)\n",
       "┌──────────┬──────────┬───────┐\n",
       "│ P1X      ┆ zbar     ┆ index │\n",
       "│ ---      ┆ ---      ┆ ---   │\n",
       "│ f64      ┆ f64      ┆ str   │\n",
       "╞══════════╪══════════╪═══════╡\n",
       "│ 1.0      ┆ 0.113888 ┆ P1X   │\n",
       "│ 0.113888 ┆ 1.0      ┆ zbar  │\n",
       "└──────────┴──────────┴───────┘, _body=<great_tables._gt_data.Body object at 0x13ecfb380>, _boxhead=Boxhead([ColInfo(var='P1X', type=<ColInfoTypeEnum.default: 1>, column_label='P1X', column_align='right', column_width=None), ColInfo(var='zbar', type=<ColInfoTypeEnum.default: 1>, column_label='zbar', column_align='right', column_width=None), ColInfo(var='index', type=<ColInfoTypeEnum.stub: 2>, column_label='index', column_align='left', column_width=None)]), _stub=<great_tables._gt_data.Stub object at 0x13f415a90>, _spanners=Spanners([]), _heading=Heading(title='Correlations Between Frequency & Monetary Value', subtitle=None, preheader=None), _stubhead=None, _source_notes=[], _footnotes=[], _styles=[], _locale=<great_tables._gt_data.Locale object at 0x13ecfb770>, _formats=[<great_tables._gt_data.FormatInfo object at 0x13ecfaf90>], _substitutions=[], _options=Options(table_id=OptionsInfo(scss=False, category='table', type='value', value=None), table_caption=OptionsInfo(scss=False, category='table', type='value', value=None), table_width=OptionsInfo(scss=True, category='table', type='px', value='auto'), table_layout=OptionsInfo(scss=True, category='table', type='value', value='fixed'), table_margin_left=OptionsInfo(scss=True, category='table', type='px', value='auto'), table_margin_right=OptionsInfo(scss=True, category='table', type='px', value='auto'), table_background_color=OptionsInfo(scss=True, category='table', type='value', value='#FFFFFF'), table_additional_css=OptionsInfo(scss=False, category='table', type='values', value=[]), table_font_names=OptionsInfo(scss=False, category='table', type='values', value=['-apple-system', 'BlinkMacSystemFont', 'Segoe UI', 'Roboto', 'Oxygen', 'Ubuntu', 'Cantarell', 'Helvetica Neue', 'Fira Sans', 'Droid Sans', 'Arial', 'sans-serif']), table_font_size=OptionsInfo(scss=True, category='table', type='px', value='16px'), table_font_weight=OptionsInfo(scss=True, category='table', type='value', value='normal'), table_font_style=OptionsInfo(scss=True, category='table', type='value', value='normal'), table_font_color=OptionsInfo(scss=True, category='table', type='value', value='#333333'), table_font_color_light=OptionsInfo(scss=True, category='table', type='value', value='#FFFFFF'), table_border_top_include=OptionsInfo(scss=False, category='table', type='boolean', value=True), table_border_top_style=OptionsInfo(scss=True, category='table', type='value', value='solid'), table_border_top_width=OptionsInfo(scss=True, category='table', type='px', value='2px'), table_border_top_color=OptionsInfo(scss=True, category='table', type='value', value='#A8A8A8'), table_border_right_style=OptionsInfo(scss=True, category='table', type='value', value='none'), table_border_right_width=OptionsInfo(scss=True, category='table', type='px', value='2px'), table_border_right_color=OptionsInfo(scss=True, category='table', type='value', value='#D3D3D3'), table_border_bottom_include=OptionsInfo(scss=False, category='table', type='boolean', value=True), table_border_bottom_style=OptionsInfo(scss=True, category='table', type='value', value='solid'), table_border_bottom_width=OptionsInfo(scss=True, category='table', type='px', value='2px'), table_border_bottom_color=OptionsInfo(scss=True, category='table', type='value', value='#A8A8A8'), table_border_left_style=OptionsInfo(scss=True, category='table', type='value', value='none'), table_border_left_width=OptionsInfo(scss=True, category='table', type='px', value='2px'), table_border_left_color=OptionsInfo(scss=True, category='table', type='value', value='#D3D3D3'), heading_background_color=OptionsInfo(scss=True, category='heading', type='value', value=None), heading_align=OptionsInfo(scss=True, category='heading', type='value', value='center'), heading_title_font_size=OptionsInfo(scss=True, category='heading', type='px', value='125%'), heading_title_font_weight=OptionsInfo(scss=True, category='heading', type='value', value='initial'), heading_subtitle_font_size=OptionsInfo(scss=True, category='heading', type='px', value='85%'), heading_subtitle_font_weight=OptionsInfo(scss=True, category='heading', type='value', value='initial'), heading_padding=OptionsInfo(scss=True, category='heading', type='px', value='4px'), heading_padding_horizontal=OptionsInfo(scss=True, category='heading', type='px', value='5px'), heading_border_bottom_style=OptionsInfo(scss=True, category='heading', type='value', value='solid'), heading_border_bottom_width=OptionsInfo(scss=True, category='heading', type='px', value='2px'), heading_border_bottom_color=OptionsInfo(scss=True, category='heading', type='value', value='#D3D3D3'), heading_border_lr_style=OptionsInfo(scss=True, category='heading', type='value', value='none'), heading_border_lr_width=OptionsInfo(scss=True, category='heading', type='px', value='1px'), heading_border_lr_color=OptionsInfo(scss=True, category='heading', type='value', value='#D3D3D3'), column_labels_background_color=OptionsInfo(scss=True, category='column_labels', type='value', value=None), column_labels_font_size=OptionsInfo(scss=True, category='column_labels', type='px', value='100%'), column_labels_font_weight=OptionsInfo(scss=True, category='column_labels', type='value', value='normal'), column_labels_text_transform=OptionsInfo(scss=True, category='column_labels', type='value', value='inherit'), column_labels_padding=OptionsInfo(scss=True, category='column_labels', type='px', value='5px'), column_labels_padding_horizontal=OptionsInfo(scss=True, category='column_labels', type='px', value='5px'), column_labels_vlines_style=OptionsInfo(scss=True, category='table_body', type='value', value='none'), column_labels_vlines_width=OptionsInfo(scss=True, category='table_body', type='px', value='1px'), column_labels_vlines_color=OptionsInfo(scss=True, category='table_body', type='value', value='#D3D3D3'), column_labels_border_top_style=OptionsInfo(scss=True, category='column_labels', type='value', value='solid'), column_labels_border_top_width=OptionsInfo(scss=True, category='column_labels', type='px', value='2px'), column_labels_border_top_color=OptionsInfo(scss=True, category='column_labels', type='value', value='#D3D3D3'), column_labels_border_bottom_style=OptionsInfo(scss=True, category='column_labels', type='value', value='solid'), column_labels_border_bottom_width=OptionsInfo(scss=True, category='column_labels', type='px', value='2px'), column_labels_border_bottom_color=OptionsInfo(scss=True, category='column_labels', type='value', value='#D3D3D3'), column_labels_border_lr_style=OptionsInfo(scss=True, category='column_labels', type='value', value='none'), column_labels_border_lr_width=OptionsInfo(scss=True, category='column_labels', type='px', value='1px'), column_labels_border_lr_color=OptionsInfo(scss=True, category='column_labels', type='value', value='#D3D3D3'), column_labels_hidden=OptionsInfo(scss=False, category='column_labels', type='boolean', value=False), row_group_background_color=OptionsInfo(scss=True, category='row_group', type='value', value=None), row_group_font_size=OptionsInfo(scss=True, category='row_group', type='px', value='100%'), row_group_font_weight=OptionsInfo(scss=True, category='row_group', type='value', value='initial'), row_group_text_transform=OptionsInfo(scss=True, category='row_group', type='value', value='inherit'), row_group_padding=OptionsInfo(scss=True, category='row_group', type='px', value='8px'), row_group_padding_horizontal=OptionsInfo(scss=True, category='row_group', type='px', value='5px'), row_group_border_top_style=OptionsInfo(scss=True, category='row_group', type='value', value='solid'), row_group_border_top_width=OptionsInfo(scss=True, category='row_group', type='px', value='2px'), row_group_border_top_color=OptionsInfo(scss=True, category='row_group', type='value', value='#D3D3D3'), row_group_border_right_style=OptionsInfo(scss=True, category='row_group', type='value', value='none'), row_group_border_right_width=OptionsInfo(scss=True, category='row_group', type='px', value='1px'), row_group_border_right_color=OptionsInfo(scss=True, category='row_group', type='value', value='#D3D3D3'), row_group_border_bottom_style=OptionsInfo(scss=True, category='row_group', type='value', value='solid'), row_group_border_bottom_width=OptionsInfo(scss=True, category='row_group', type='px', value='2px'), row_group_border_bottom_color=OptionsInfo(scss=True, category='row_group', type='value', value='#D3D3D3'), row_group_border_left_style=OptionsInfo(scss=True, category='row_group', type='value', value='none'), row_group_border_left_width=OptionsInfo(scss=True, category='row_group', type='px', value='1px'), row_group_border_left_color=OptionsInfo(scss=True, category='row_group', type='value', value='#D3D3D3'), row_group_as_column=OptionsInfo(scss=False, category='row_group', type='boolean', value=False), table_body_hlines_style=OptionsInfo(scss=True, category='table_body', type='value', value='solid'), table_body_hlines_width=OptionsInfo(scss=True, category='table_body', type='px', value='1px'), table_body_hlines_color=OptionsInfo(scss=True, category='table_body', type='value', value='#D3D3D3'), table_body_vlines_style=OptionsInfo(scss=True, category='table_body', type='value', value='none'), table_body_vlines_width=OptionsInfo(scss=True, category='table_body', type='px', value='1px'), table_body_vlines_color=OptionsInfo(scss=True, category='table_body', type='value', value='#D3D3D3'), table_body_border_top_style=OptionsInfo(scss=True, category='table_body', type='value', value='solid'), table_body_border_top_width=OptionsInfo(scss=True, category='table_body', type='px', value='2px'), table_body_border_top_color=OptionsInfo(scss=True, category='table_body', type='value', value='#D3D3D3'), table_body_border_bottom_style=OptionsInfo(scss=True, category='table_body', type='value', value='solid'), table_body_border_bottom_width=OptionsInfo(scss=True, category='table_body', type='px', value='2px'), table_body_border_bottom_color=OptionsInfo(scss=True, category='table_body', type='value', value='#D3D3D3'), data_row_padding=OptionsInfo(scss=True, category='data_row', type='px', value='8px'), data_row_padding_horizontal=OptionsInfo(scss=True, category='data_row', type='px', value='5px'), stub_background_color=OptionsInfo(scss=True, category='stub', type='value', value=None), stub_font_size=OptionsInfo(scss=True, category='stub', type='px', value='100%'), stub_font_weight=OptionsInfo(scss=True, category='stub', type='value', value='initial'), stub_text_transform=OptionsInfo(scss=True, category='stub', type='value', value='inherit'), stub_border_style=OptionsInfo(scss=True, category='stub', type='value', value='solid'), stub_border_width=OptionsInfo(scss=True, category='stub', type='px', value='2px'), stub_border_color=OptionsInfo(scss=True, category='stub', type='value', value='#D3D3D3'), stub_row_group_background_color=OptionsInfo(scss=True, category='stub', type='value', value=None), stub_row_group_font_size=OptionsInfo(scss=True, category='stub', type='px', value='100%'), stub_row_group_font_weight=OptionsInfo(scss=True, category='stub', type='value', value='initial'), stub_row_group_text_transform=OptionsInfo(scss=True, category='stub', type='value', value='inherit'), stub_row_group_border_style=OptionsInfo(scss=True, category='stub', type='value', value='solid'), stub_row_group_border_width=OptionsInfo(scss=True, category='stub', type='px', value='2px'), stub_row_group_border_color=OptionsInfo(scss=True, category='stub', type='value', value='#D3D3D3'), source_notes_padding=OptionsInfo(scss=True, category='source_notes', type='px', value='4px'), source_notes_padding_horizontal=OptionsInfo(scss=True, category='source_notes', type='px', value='5px'), source_notes_background_color=OptionsInfo(scss=True, category='source_notes', type='value', value=None), source_notes_font_size=OptionsInfo(scss=True, category='source_notes', type='px', value='90%'), source_notes_border_bottom_style=OptionsInfo(scss=True, category='source_notes', type='value', value='none'), source_notes_border_bottom_width=OptionsInfo(scss=True, category='source_notes', type='px', value='2px'), source_notes_border_bottom_color=OptionsInfo(scss=True, category='source_notes', type='value', value='#D3D3D3'), source_notes_border_lr_style=OptionsInfo(scss=True, category='source_notes', type='value', value='none'), source_notes_border_lr_width=OptionsInfo(scss=True, category='source_notes', type='px', value='2px'), source_notes_border_lr_color=OptionsInfo(scss=True, category='source_notes', type='value', value='#D3D3D3'), source_notes_multiline=OptionsInfo(scss=False, category='source_notes', type='boolean', value=True), source_notes_sep=OptionsInfo(scss=False, category='source_notes', type='value', value=' '), row_striping_background_color=OptionsInfo(scss=True, category='row', type='value', value='rgba(128,128,128,0.05)'), row_striping_include_stub=OptionsInfo(scss=False, category='row', type='boolean', value=False), row_striping_include_table_body=OptionsInfo(scss=False, category='row', type='boolean', value=False), container_width=OptionsInfo(scss=False, category='container', type='px', value='auto'), container_height=OptionsInfo(scss=False, category='container', type='px', value='auto'), container_padding_x=OptionsInfo(scss=False, category='container', type='px', value='0px'), container_padding_y=OptionsInfo(scss=False, category='container', type='px', value='10px'), container_overflow_x=OptionsInfo(scss=False, category='container', type='overflow', value='auto'), container_overflow_y=OptionsInfo(scss=False, category='container', type='overflow', value='auto'), quarto_disable_processing=OptionsInfo(scss=False, category='quarto', type='logical', value=False), quarto_use_bootstrap=OptionsInfo(scss=False, category='quarto', type='logical', value=False)), _has_built=False)"
      ]
     },
     "execution_count": 3,
     "metadata": {},
     "output_type": "execute_result"
    }
   ],
   "source": [
    "corr_data = rfm_data.select('P1X', 'zbar').collect()\n",
    "(\n",
    "    corr_data.corr()\n",
    "    .with_columns(pl.Series(corr_data.columns).alias(\"index\"))\n",
    "    .style.tab_header(title=\"Correlations Between Frequency & Monetary Value\")\n",
    "    .tab_stub(rowname_col=\"index\")\n",
    "    .fmt_number(decimals=3)\n",
    ")\n",
    "\n",
    "# The value of this correlation is close to 0.11, which in practice is considered low enough to proceed with the model."
   ]
  },
  {
   "cell_type": "code",
   "execution_count": 4,
   "metadata": {},
   "outputs": [
    {
     "data": {
      "text/html": [
       "<div><style>\n",
       ".dataframe > thead > tr,\n",
       ".dataframe > tbody > tr {\n",
       "  text-align: right;\n",
       "  white-space: pre-wrap;\n",
       "}\n",
       "</style>\n",
       "<small>shape: (9, 2)</small><table border=\"1\" class=\"dataframe\"><thead><tr><th>statistic</th><th>zbar</th></tr><tr><td>str</td><td>f64</td></tr></thead><tbody><tr><td>&quot;count&quot;</td><td>946.0</td></tr><tr><td>&quot;null_count&quot;</td><td>0.0</td></tr><tr><td>&quot;mean&quot;</td><td>35.077848</td></tr><tr><td>&quot;std&quot;</td><td>30.283506</td></tr><tr><td>&quot;min&quot;</td><td>2.99</td></tr><tr><td>&quot;25%&quot;</td><td>15.76</td></tr><tr><td>&quot;50%&quot;</td><td>27.54</td></tr><tr><td>&quot;75%&quot;</td><td>41.79</td></tr><tr><td>&quot;max&quot;</td><td>299.63381</td></tr></tbody></table></div>"
      ],
      "text/plain": [
       "shape: (9, 2)\n",
       "┌────────────┬───────────┐\n",
       "│ statistic  ┆ zbar      │\n",
       "│ ---        ┆ ---       │\n",
       "│ str        ┆ f64       │\n",
       "╞════════════╪═══════════╡\n",
       "│ count      ┆ 946.0     │\n",
       "│ null_count ┆ 0.0       │\n",
       "│ mean       ┆ 35.077848 │\n",
       "│ std        ┆ 30.283506 │\n",
       "│ min        ┆ 2.99      │\n",
       "│ 25%        ┆ 15.76     │\n",
       "│ 50%        ┆ 27.54     │\n",
       "│ 75%        ┆ 41.79     │\n",
       "│ max        ┆ 299.63381 │\n",
       "└────────────┴───────────┘"
      ]
     },
     "execution_count": 4,
     "metadata": {},
     "output_type": "execute_result"
    }
   ],
   "source": [
    "# Descriptive statistics of the average spend per repeat transaction\n",
    "summary = rfm_data.select('zbar').with_columns(pl.col('zbar') / 100).describe()\n",
    "summary\n",
    "\n",
    "# We note that the distribution of observed individual means is highly skewed to the right."
   ]
  },
  {
   "cell_type": "markdown",
   "metadata": {},
   "source": [
    "Probability density estimate of the sample"
   ]
  },
  {
   "cell_type": "code",
   "execution_count": 5,
   "metadata": {},
   "outputs": [
    {
     "name": "stdout",
     "output_type": "stream",
     "text": [
      "Kernel Smoothing Bandwidth: 0.18800626075684287\n"
     ]
    }
   ],
   "source": [
    "m = np.arange(2.5, 301, 2.5) # Average transaction value range\n",
    "\n",
    "# Apply log transformation for boundary correction\n",
    "m_log = np.log(m)\n",
    "zbar_log = np.log(zbar)\n",
    "\n",
    "bw = modified_silverman(zbar_log)\n",
    "print('Kernel Smoothing Bandwidth:', bw) "
   ]
  },
  {
   "cell_type": "code",
   "execution_count": 6,
   "metadata": {},
   "outputs": [],
   "source": [
    "# Estimate the probability density function\n",
    "# Method 1 - Using sklearn\n",
    "kde = KernelDensity(kernel='gaussian', bandwidth=bw).fit(zbar_log.reshape(-1,1))\n",
    "log_density = kde.score_samples(m_log.reshape(-1,1))\n",
    "f = np.exp(log_density) / m # Transform the density back to the original scale\n",
    "\n",
    "# Method 2 - Using statsmodels\n",
    "# import statsmodels.api as sm\n",
    "# kde = sm.nonparametric.KDEUnivariate(zbar_log)\n",
    "# kde.fit(kernel='gau', bw=bw)\n",
    "# f_log = kde.evaluate(m_log)\n",
    "# f = f_log / m "
   ]
  },
  {
   "cell_type": "markdown",
   "metadata": {},
   "source": [
    "The distribution of average spend per (repeat) transaction across the 946 individuals who made a repeat transaction in the calibration period. Each customer’s average\n",
    "is computed across a (typically very) small number of transactions."
   ]
  },
  {
   "cell_type": "code",
   "execution_count": 7,
   "metadata": {},
   "outputs": [
    {
     "data": {
      "application/vnd.vegalite.v5+json": {
       "$schema": "https://vega.github.io/schema/vega-lite/v5.20.1.json",
       "config": {
        "axisX": {
         "grid": false
        },
        "axisY": {
         "grid": false
        },
        "view": {
         "continuousHeight": 300,
         "continuousWidth": 300,
         "stroke": null
        }
       },
       "data": {
        "name": "data-03be1b3f07ad9cf7bcb5e3c56a9f437f"
       },
       "datasets": {
        "data-03be1b3f07ad9cf7bcb5e3c56a9f437f": [
         {
          "Average Transaction Value (z)": 2.5,
          "f(z)": 0.000574964666954661
         },
         {
          "Average Transaction Value (z)": 5,
          "f(z)": 0.002833099839721056
         },
         {
          "Average Transaction Value (z)": 7.5,
          "f(z)": 0.005673589773005003
         },
         {
          "Average Transaction Value (z)": 10,
          "f(z)": 0.01936084231583282
         },
         {
          "Average Transaction Value (z)": 12.5,
          "f(z)": 0.03430593905034424
         },
         {
          "Average Transaction Value (z)": 15,
          "f(z)": 0.03497712494282475
         },
         {
          "Average Transaction Value (z)": 17.5,
          "f(z)": 0.02867529070828229
         },
         {
          "Average Transaction Value (z)": 20,
          "f(z)": 0.024125323622117535
         },
         {
          "Average Transaction Value (z)": 22.5,
          "f(z)": 0.022186663054258985
         },
         {
          "Average Transaction Value (z)": 25,
          "f(z)": 0.021316234847263762
         },
         {
          "Average Transaction Value (z)": 27.5,
          "f(z)": 0.02041109564684783
         },
         {
          "Average Transaction Value (z)": 30,
          "f(z)": 0.0191170945103938
         },
         {
          "Average Transaction Value (z)": 32.5,
          "f(z)": 0.0175379922778571
         },
         {
          "Average Transaction Value (z)": 35,
          "f(z)": 0.01587360256782487
         },
         {
          "Average Transaction Value (z)": 37.5,
          "f(z)": 0.014243086835431388
         },
         {
          "Average Transaction Value (z)": 40,
          "f(z)": 0.012685970205158614
         },
         {
          "Average Transaction Value (z)": 42.5,
          "f(z)": 0.011214227575322519
         },
         {
          "Average Transaction Value (z)": 45,
          "f(z)": 0.009842144578266376
         },
         {
          "Average Transaction Value (z)": 47.5,
          "f(z)": 0.008588770244414037
         },
         {
          "Average Transaction Value (z)": 50,
          "f(z)": 0.007470122282352354
         },
         {
          "Average Transaction Value (z)": 52.5,
          "f(z)": 0.006493192282030336
         },
         {
          "Average Transaction Value (z)": 55,
          "f(z)": 0.005654826866202675
         },
         {
          "Average Transaction Value (z)": 57.5,
          "f(z)": 0.004943998634126783
         },
         {
          "Average Transaction Value (z)": 60,
          "f(z)": 0.004345217718415334
         },
         {
          "Average Transaction Value (z)": 62.5,
          "f(z)": 0.00384159380708059
         },
         {
          "Average Transaction Value (z)": 65,
          "f(z)": 0.003416951692068976
         },
         {
          "Average Transaction Value (z)": 67.5,
          "f(z)": 0.003056977888762176
         },
         {
          "Average Transaction Value (z)": 70,
          "f(z)": 0.0027496290434891675
         },
         {
          "Average Transaction Value (z)": 72.5,
          "f(z)": 0.0024850824966257358
         },
         {
          "Average Transaction Value (z)": 75,
          "f(z)": 0.00225546229391337
         },
         {
          "Average Transaction Value (z)": 77.5,
          "f(z)": 0.0020544977792652137
         },
         {
          "Average Transaction Value (z)": 80,
          "f(z)": 0.0018772013457674982
         },
         {
          "Average Transaction Value (z)": 82.5,
          "f(z)": 0.0017196004135717306
         },
         {
          "Average Transaction Value (z)": 85,
          "f(z)": 0.001578527814580127
         },
         {
          "Average Transaction Value (z)": 87.5,
          "f(z)": 0.0014514604734249335
         },
         {
          "Average Transaction Value (z)": 90,
          "f(z)": 0.0013363928665853118
         },
         {
          "Average Transaction Value (z)": 92.5,
          "f(z)": 0.001231733978294748
         },
         {
          "Average Transaction Value (z)": 95,
          "f(z)": 0.0011362205444300014
         },
         {
          "Average Transaction Value (z)": 97.5,
          "f(z)": 0.001048843059518129
         },
         {
          "Average Transaction Value (z)": 100,
          "f(z)": 0.000968783394596733
         },
         {
          "Average Transaction Value (z)": 102.5,
          "f(z)": 0.0008953638703123792
         },
         {
          "Average Transaction Value (z)": 105,
          "f(z)": 0.0008280076194251543
         },
         {
          "Average Transaction Value (z)": 107.5,
          "f(z)": 0.0007662095420254587
         },
         {
          "Average Transaction Value (z)": 110,
          "f(z)": 0.000709516520969227
         },
         {
          "Average Transaction Value (z)": 112.5,
          "f(z)": 0.000657515091621311
         },
         {
          "Average Transaction Value (z)": 115,
          "f(z)": 0.0006098245645100413
         },
         {
          "Average Transaction Value (z)": 117.5,
          "f(z)": 0.0005660936814467102
         },
         {
          "Average Transaction Value (z)": 120,
          "f(z)": 0.0005259991762088895
         },
         {
          "Average Transaction Value (z)": 122.5,
          "f(z)": 0.0004892450157151561
         },
         {
          "Average Transaction Value (z)": 125,
          "f(z)": 0.0004555615274095914
         },
         {
          "Average Transaction Value (z)": 127.5,
          "f(z)": 0.00042470400580658826
         },
         {
          "Average Transaction Value (z)": 130,
          "f(z)": 0.000396450695623062
         },
         {
          "Average Transaction Value (z)": 132.5,
          "f(z)": 0.00037060025569497665
         },
         {
          "Average Transaction Value (z)": 135,
          "f(z)": 0.00034696892117851174
         },
         {
          "Average Transaction Value (z)": 137.5,
          "f(z)": 0.0003253876175743739
         },
         {
          "Average Transaction Value (z)": 140,
          "f(z)": 0.00030569926046522094
         },
         {
          "Average Transaction Value (z)": 142.5,
          "f(z)": 0.00028775642144152996
         },
         {
          "Average Transaction Value (z)": 145,
          "f(z)": 0.00027141947253312755
         },
         {
          "Average Transaction Value (z)": 147.5,
          "f(z)": 0.0002565552530651894
         },
         {
          "Average Transaction Value (z)": 150,
          "f(z)": 0.00024303624382603894
         },
         {
          "Average Transaction Value (z)": 152.5,
          "f(z)": 0.000230740188924185
         },
         {
          "Average Transaction Value (z)": 155,
          "f(z)": 0.00021955007731345926
         },
         {
          "Average Transaction Value (z)": 157.5,
          "f(z)": 0.00020935438273481148
         },
         {
          "Average Transaction Value (z)": 160,
          "f(z)": 0.00020004746027306545
         },
         {
          "Average Transaction Value (z)": 162.5,
          "f(z)": 0.00019153000664644384
         },
         {
          "Average Transaction Value (z)": 165,
          "f(z)": 0.00018370950642295148
         },
         {
          "Average Transaction Value (z)": 167.5,
          "f(z)": 0.00017650060458643724
         },
         {
          "Average Transaction Value (z)": 170,
          "f(z)": 0.0001698253647928172
         },
         {
          "Average Transaction Value (z)": 172.5,
          "f(z)": 0.00016361339043139013
         },
         {
          "Average Transaction Value (z)": 175,
          "f(z)": 0.0001578018010271817
         },
         {
          "Average Transaction Value (z)": 177.5,
          "f(z)": 0.00015233506892741797
         },
         {
          "Average Transaction Value (z)": 180,
          "f(z)": 0.00014716473039296895
         },
         {
          "Average Transaction Value (z)": 182.5,
          "f(z)": 0.0001422489912790232
         },
         {
          "Average Transaction Value (z)": 185,
          "f(z)": 0.00013755225077447786
         },
         {
          "Average Transaction Value (z)": 187.5,
          "f(z)": 0.00013304456763965484
         },
         {
          "Average Transaction Value (z)": 190,
          "f(z)": 0.0001287010925504404
         },
         {
          "Average Transaction Value (z)": 192.5,
          "f(z)": 0.00012450148803180258
         },
         {
          "Average Transaction Value (z)": 195,
          "f(z)": 0.00012042935450873646
         },
         {
          "Average Transaction Value (z)": 197.5,
          "f(z)": 0.0001164716776152526
         },
         {
          "Average Transaction Value (z)": 200,
          "f(z)": 0.00011261830840219703
         },
         {
          "Average Transaction Value (z)": 202.5,
          "f(z)": 0.00010886148471435854
         },
         {
          "Average Transaction Value (z)": 205,
          "f(z)": 0.00010519539893546334
         },
         {
          "Average Transaction Value (z)": 207.5,
          "f(z)": 0.00010161581463113159
         },
         {
          "Average Transaction Value (z)": 210,
          "f(z)": 0.00009811973240667989
         },
         {
          "Average Transaction Value (z)": 212.5,
          "f(z)": 0.0000947051035492738
         },
         {
          "Average Transaction Value (z)": 215,
          "f(z)": 0.00009137058872228655
         },
         {
          "Average Transaction Value (z)": 217.5,
          "f(z)": 0.00008811535808307139
         },
         {
          "Average Transaction Value (z)": 220,
          "f(z)": 0.00008493892865044636
         },
         {
          "Average Transaction Value (z)": 222.5,
          "f(z)": 0.00008184103449616332
         },
         {
          "Average Transaction Value (z)": 225,
          "f(z)": 0.0000788215253158673
         },
         {
          "Average Transaction Value (z)": 227.5,
          "f(z)": 0.00007588028909312285
         },
         {
          "Average Transaction Value (z)": 230,
          "f(z)": 0.00007301719485385105
         },
         {
          "Average Transaction Value (z)": 232.5,
          "f(z)": 0.00007023205187393074
         },
         {
          "Average Transaction Value (z)": 235,
          "f(z)": 0.00006752458211289475
         },
         {
          "Average Transaction Value (z)": 237.5,
          "f(z)": 0.00006489440307240788
         },
         {
          "Average Transaction Value (z)": 240,
          "f(z)": 0.00006234101869704769
         },
         {
          "Average Transaction Value (z)": 242.5,
          "f(z)": 0.000059863816330883065
         },
         {
          "Average Transaction Value (z)": 245,
          "f(z)": 0.000057462068105595294
         },
         {
          "Average Transaction Value (z)": 247.5,
          "f(z)": 0.000055134935458273544
         },
         {
          "Average Transaction Value (z)": 250,
          "f(z)": 0.0000528814757567731
         },
         {
          "Average Transaction Value (z)": 252.5,
          "f(z)": 0.000050700650247751185
         },
         {
          "Average Transaction Value (z)": 255,
          "f(z)": 0.00004859133273909122
         },
         {
          "Average Transaction Value (z)": 257.5,
          "f(z)": 0.00004655231858780532
         },
         {
          "Average Transaction Value (z)": 260,
          "f(z)": 0.000044582333690687455
         },
         {
          "Average Transaction Value (z)": 262.5,
          "f(z)": 0.000042680043272481686
         },
         {
          "Average Transaction Value (z)": 265,
          "f(z)": 0.00004084406033965657
         },
         {
          "Average Transaction Value (z)": 267.5,
          "f(z)": 0.000039072953721328455
         },
         {
          "Average Transaction Value (z)": 270,
          "f(z)": 0.000037365255656463324
         },
         {
          "Average Transaction Value (z)": 272.5,
          "f(z)": 0.000035719468911739524
         },
         {
          "Average Transaction Value (z)": 275,
          "f(z)": 0.00003413407343040036
         },
         {
          "Average Transaction Value (z)": 277.5,
          "f(z)": 0.00003260753252166306
         },
         {
          "Average Transaction Value (z)": 280,
          "f(z)": 0.00003113829860480156
         },
         {
          "Average Transaction Value (z)": 282.5,
          "f(z)": 0.00002972481852358138
         },
         {
          "Average Transaction Value (z)": 285,
          "f(z)": 0.000028365538446481267
         },
         {
          "Average Transaction Value (z)": 287.5,
          "f(z)": 0.000027058908367061312
         },
         {
          "Average Transaction Value (z)": 290,
          "f(z)": 0.000025803386217509895
         },
         {
          "Average Transaction Value (z)": 292.5,
          "f(z)": 0.000024597441607259704
         },
         {
          "Average Transaction Value (z)": 295,
          "f(z)": 0.000023439559197820777
         },
         {
          "Average Transaction Value (z)": 297.5,
          "f(z)": 0.000022328241724734044
         },
         {
          "Average Transaction Value (z)": 300,
          "f(z)": 0.000021262012677801968
         }
        ]
       },
       "encoding": {
        "x": {
         "axis": {
          "labelExpr": "\"$\"+datum.value",
          "values": [
           0,
           50,
           100,
           150,
           200,
           250,
           300
          ]
         },
         "field": "Average Transaction Value (z)",
         "type": "quantitative"
        },
        "y": {
         "field": "f(z)",
         "scale": {
          "domain": [
           0,
           0.04
          ]
         },
         "type": "quantitative"
        }
       },
       "height": 400,
       "mark": {
        "type": "line"
       },
       "title": "Observed distribution of average transaction values across customers",
       "width": 500
      },
      "text/plain": [
       "<VegaLite 5 object>\n",
       "\n",
       "If you see this message, it means the renderer has not been properly enabled\n",
       "for the frontend that you are using. For more information, see\n",
       "https://altair-viz.github.io/user_guide/display_frontends.html#troubleshooting\n"
      ]
     },
     "execution_count": 7,
     "metadata": {},
     "output_type": "execute_result"
    }
   ],
   "source": [
    "act_dist_plot = (\n",
    "    alt.Chart(pl.DataFrame({'Average Transaction Value (z)': m, 'f(z)': f}))\n",
    "    .mark_line().encode(\n",
    "        x=alt.X('Average Transaction Value (z)', axis=alt.Axis(values=np.arange(0, 301, 50), labelExpr='\"$\"+datum.value')),\n",
    "        y=alt.Y('f(z)', scale=alt.Scale(domain=[0, 0.04]))\n",
    "    )\n",
    ")\n",
    "\n",
    "act_dist_plot.properties(\n",
    "            width=500,\n",
    "            height=400,\n",
    "            title='Observed distribution of average transaction values across customers'\n",
    ").configure_view(stroke=None).configure_axisY(grid=False).configure_axisX(grid=False) "
   ]
  },
  {
   "cell_type": "markdown",
   "metadata": {},
   "source": [
    "### Parameter Estimation"
   ]
  },
  {
   "cell_type": "code",
   "execution_count": 8,
   "metadata": {},
   "outputs": [
    {
     "data": {
      "text/markdown": [
       "$p$ = 6.2506\n",
       "\n",
       "$q$ = 3.7440\n",
       "\n",
       "$\\gamma$ = 15.4397\n",
       "\n",
       "Log-Likelihood = -4055.9177"
      ]
     },
     "metadata": {},
     "output_type": "display_data"
    }
   ],
   "source": [
    "def gammagamma(x, zbar, guess={'p': 0.01, 'q': 0.01, 'gamma': 0.01}):\n",
    "        \n",
    "    def log_likelihood(param):\n",
    "        p, q, gamma = param[0], param[1], param[2]\n",
    "        \n",
    "        ll = gammaln(p*x+q)-gammaln(p*x)-gammaln(q)+q*np.log(gamma)+(p*x-1)*np.log(zbar)+(p*x)*np.log(x)-(p*x+q)*np.log(gamma+x*zbar)\n",
    "        \n",
    "        return -np.sum(ll)\n",
    "    \n",
    "    bnds = [(1e-6, np.inf) for _ in range(3)]\n",
    "    \n",
    "    return minimize(log_likelihood, x0=list(guess.values()), bounds=bnds, method='L-BFGS-B')\n",
    "        \n",
    "res = gammagamma(x=x, zbar=zbar)\n",
    "p, q, gamma = res.x\n",
    "ll = res.fun\n",
    "\n",
    "# Sample Parameters\n",
    "# p = 6.24983547654959\n",
    "# q = 3.7441106896737\n",
    "# gamma = 15.4423198312514\n",
    "\n",
    "display_markdown(f'''$p$ = {p:0.4f}\n",
    "\n",
    "$q$ = {q:0.4f}\n",
    "\n",
    "$\\\\gamma$ = {gamma:0.4f}\n",
    "\n",
    "Log-Likelihood = {-ll:0.4f}''', raw=True)\n"
   ]
  },
  {
   "cell_type": "markdown",
   "metadata": {},
   "source": [
    "The distribution where the means have been computed across x → ∞ transactions"
   ]
  },
  {
   "cell_type": "code",
   "execution_count": 9,
   "metadata": {},
   "outputs": [
    {
     "data": {
      "application/vnd.vegalite.v5+json": {
       "$schema": "https://vega.github.io/schema/vega-lite/v5.20.1.json",
       "config": {
        "axisX": {
         "grid": false
        },
        "axisY": {
         "grid": false
        },
        "view": {
         "continuousHeight": 300,
         "continuousWidth": 300,
         "stroke": null
        }
       },
       "data": {
        "name": "data-cd8ce7079bcbabfddb3a22a9f03f4b0c"
       },
       "datasets": {
        "data-cd8ce7079bcbabfddb3a22a9f03f4b0c": [
         {
          "Unobserved mean transaction value (ζ)": 1,
          "f(ζ)": 7.501192077756904e-36
         },
         {
          "Unobserved mean transaction value (ζ)": 2,
          "f(ζ)": 2.5306629006679183e-16
         },
         {
          "Unobserved mean transaction value (ζ)": 3,
          "f(ζ)": 3.5748458525979995e-10
         },
         {
          "Unobserved mean transaction value (ζ)": 4,
          "f(ζ)": 2.8395497435916096e-7
         },
         {
          "Unobserved mean transaction value (ζ)": 5,
          "f(ζ)": 0.000012278073208498501
         },
         {
          "Unobserved mean transaction value (ζ)": 6,
          "f(ζ)": 0.00012899599477057925
         },
         {
          "Unobserved mean transaction value (ζ)": 7,
          "f(ζ)": 0.0006178694062575115
         },
         {
          "Unobserved mean transaction value (ζ)": 8,
          "f(ζ)": 0.001837469965859366
         },
         {
          "Unobserved mean transaction value (ζ)": 9,
          "f(ζ)": 0.004014864371531337
         },
         {
          "Unobserved mean transaction value (ζ)": 10,
          "f(ζ)": 0.007116920320761328
         },
         {
          "Unobserved mean transaction value (ζ)": 11,
          "f(ζ)": 0.010888006136993452
         },
         {
          "Unobserved mean transaction value (ζ)": 12,
          "f(ζ)": 0.014969209127578096
         },
         {
          "Unobserved mean transaction value (ζ)": 13,
          "f(ζ)": 0.019008936902095454
         },
         {
          "Unobserved mean transaction value (ζ)": 14,
          "f(ζ)": 0.022728077966964667
         },
         {
          "Unobserved mean transaction value (ζ)": 15,
          "f(ζ)": 0.025941858288167877
         },
         {
          "Unobserved mean transaction value (ζ)": 16,
          "f(ζ)": 0.02855412193417821
         },
         {
          "Unobserved mean transaction value (ζ)": 17,
          "f(ζ)": 0.030539011301982024
         },
         {
          "Unobserved mean transaction value (ζ)": 18,
          "f(ζ)": 0.031919892224131156
         },
         {
          "Unobserved mean transaction value (ζ)": 19,
          "f(ζ)": 0.0327505675951005
         },
         {
          "Unobserved mean transaction value (ζ)": 20,
          "f(ζ)": 0.033100627183534743
         },
         {
          "Unobserved mean transaction value (ζ)": 21,
          "f(ζ)": 0.03304504904532202
         },
         {
          "Unobserved mean transaction value (ζ)": 22,
          "f(ζ)": 0.032657412369084406
         },
         {
          "Unobserved mean transaction value (ζ)": 23,
          "f(ζ)": 0.03200587222311364
         },
         {
          "Unobserved mean transaction value (ζ)": 24,
          "f(ζ)": 0.031151097152555398
         },
         {
          "Unobserved mean transaction value (ζ)": 25,
          "f(ζ)": 0.030145517765192337
         },
         {
          "Unobserved mean transaction value (ζ)": 26,
          "f(ζ)": 0.029033396719461448
         },
         {
          "Unobserved mean transaction value (ζ)": 27,
          "f(ζ)": 0.027851373204884924
         },
         {
          "Unobserved mean transaction value (ζ)": 28,
          "f(ζ)": 0.02662924765003793
         },
         {
          "Unobserved mean transaction value (ζ)": 29,
          "f(ζ)": 0.025390855677026744
         },
         {
          "Unobserved mean transaction value (ζ)": 30,
          "f(ζ)": 0.024154939077712313
         },
         {
          "Unobserved mean transaction value (ζ)": 31,
          "f(ζ)": 0.022935961481321755
         },
         {
          "Unobserved mean transaction value (ζ)": 32,
          "f(ζ)": 0.021744842516671692
         },
         {
          "Unobserved mean transaction value (ζ)": 33,
          "f(ζ)": 0.02058960074244698
         },
         {
          "Unobserved mean transaction value (ζ)": 34,
          "f(ζ)": 0.019475905510739834
         },
         {
          "Unobserved mean transaction value (ζ)": 35,
          "f(ζ)": 0.018407543467864874
         },
         {
          "Unobserved mean transaction value (ζ)": 36,
          "f(ζ)": 0.01738680813823294
         },
         {
          "Unobserved mean transaction value (ζ)": 37,
          "f(ζ)": 0.016414822042150466
         },
         {
          "Unobserved mean transaction value (ζ)": 38,
          "f(ζ)": 0.015491800773034563
         },
         {
          "Unobserved mean transaction value (ζ)": 39,
          "f(ζ)": 0.014617267863340565
         },
         {
          "Unobserved mean transaction value (ζ)": 40,
          "f(ζ)": 0.013790228393052637
         },
         {
          "Unobserved mean transaction value (ζ)": 41,
          "f(ζ)": 0.01300930831901494
         },
         {
          "Unobserved mean transaction value (ζ)": 42,
          "f(ζ)": 0.012272865532981923
         },
         {
          "Unobserved mean transaction value (ζ)": 43,
          "f(ζ)": 0.011579077748817238
         },
         {
          "Unobserved mean transaction value (ζ)": 44,
          "f(ζ)": 0.010926011502682333
         },
         {
          "Unobserved mean transaction value (ζ)": 45,
          "f(ζ)": 0.01031167583402798
         },
         {
          "Unobserved mean transaction value (ζ)": 46,
          "f(ζ)": 0.009734063598818756
         },
         {
          "Unobserved mean transaction value (ζ)": 47,
          "f(ζ)": 0.009191182842987124
         },
         {
          "Unobserved mean transaction value (ζ)": 48,
          "f(ζ)": 0.008681080224187102
         },
         {
          "Unobserved mean transaction value (ζ)": 49,
          "f(ζ)": 0.008201858103134362
         },
         {
          "Unobserved mean transaction value (ζ)": 50,
          "f(ζ)": 0.007751686621960125
         },
         {
          "Unobserved mean transaction value (ζ)": 51,
          "f(ζ)": 0.007328811836564862
         },
         {
          "Unobserved mean transaction value (ζ)": 52,
          "f(ζ)": 0.0069315607644124715
         },
         {
          "Unobserved mean transaction value (ζ)": 53,
          "f(ζ)": 0.006558344041102004
         },
         {
          "Unobserved mean transaction value (ζ)": 54,
          "f(ζ)": 0.00620765674198605
         },
         {
          "Unobserved mean transaction value (ζ)": 55,
          "f(ζ)": 0.005878077813637683
         },
         {
          "Unobserved mean transaction value (ζ)": 56,
          "f(ζ)": 0.005568268469535984
         },
         {
          "Unobserved mean transaction value (ζ)": 57,
          "f(ζ)": 0.005276969831136285
         },
         {
          "Unobserved mean transaction value (ζ)": 58,
          "f(ζ)": 0.005003000036360243
         },
         {
          "Unobserved mean transaction value (ζ)": 59,
          "f(ζ)": 0.004745250989878883
         },
         {
          "Unobserved mean transaction value (ζ)": 60,
          "f(ζ)": 0.004502684891229009
         },
         {
          "Unobserved mean transaction value (ζ)": 61,
          "f(ζ)": 0.004274330646045928
         },
         {
          "Unobserved mean transaction value (ζ)": 62,
          "f(ζ)": 0.004059280241079625
         },
         {
          "Unobserved mean transaction value (ζ)": 63,
          "f(ζ)": 0.0038566851440176198
         },
         {
          "Unobserved mean transaction value (ζ)": 64,
          "f(ζ)": 0.0036657527735128852
         },
         {
          "Unobserved mean transaction value (ζ)": 65,
          "f(ζ)": 0.003485743072434595
         },
         {
          "Unobserved mean transaction value (ζ)": 66,
          "f(ζ)": 0.003315965207593597
         },
         {
          "Unobserved mean transaction value (ζ)": 67,
          "f(ζ)": 0.0031557744115325087
         },
         {
          "Unobserved mean transaction value (ζ)": 68,
          "f(ζ)": 0.003004568975998234
         },
         {
          "Unobserved mean transaction value (ζ)": 69,
          "f(ζ)": 0.002861787402097074
         },
         {
          "Unobserved mean transaction value (ζ)": 70,
          "f(ζ)": 0.00272690570859827
         },
         {
          "Unobserved mean transaction value (ζ)": 71,
          "f(ζ)": 0.002599434897181233
         },
         {
          "Unobserved mean transaction value (ζ)": 72,
          "f(ζ)": 0.0024789185714380914
         },
         {
          "Unobserved mean transaction value (ζ)": 73,
          "f(ζ)": 0.0023649307050034912
         },
         {
          "Unobserved mean transaction value (ζ)": 74,
          "f(ζ)": 0.0022570735531727516
         },
         {
          "Unobserved mean transaction value (ζ)": 75,
          "f(ζ)": 0.002154975701695161
         },
         {
          "Unobserved mean transaction value (ζ)": 76,
          "f(ζ)": 0.002058290246016831
         },
         {
          "Unobserved mean transaction value (ζ)": 77,
          "f(ζ)": 0.001966693094037719
         },
         {
          "Unobserved mean transaction value (ζ)": 78,
          "f(ζ)": 0.0018798813853924325
         },
         {
          "Unobserved mean transaction value (ζ)": 79,
          "f(ζ)": 0.0017975720203263516
         },
         {
          "Unobserved mean transaction value (ζ)": 80,
          "f(ζ)": 0.0017195002913871092
         },
         {
          "Unobserved mean transaction value (ζ)": 81,
          "f(ζ)": 0.0016454186113628
         },
         {
          "Unobserved mean transaction value (ζ)": 82,
          "f(ζ)": 0.001575095331153394
         },
         {
          "Unobserved mean transaction value (ζ)": 83,
          "f(ζ)": 0.0015083136415460908
         },
         {
          "Unobserved mean transaction value (ζ)": 84,
          "f(ζ)": 0.0014448705531671228
         },
         {
          "Unobserved mean transaction value (ζ)": 85,
          "f(ζ)": 0.0013845759491929912
         },
         {
          "Unobserved mean transaction value (ζ)": 86,
          "f(ζ)": 0.0013272517057164336
         },
         {
          "Unobserved mean transaction value (ζ)": 87,
          "f(ζ)": 0.001272730874971512
         },
         {
          "Unobserved mean transaction value (ζ)": 88,
          "f(ζ)": 0.001220856926924242
         },
         {
          "Unobserved mean transaction value (ζ)": 89,
          "f(ζ)": 0.0011714830450274606
         },
         {
          "Unobserved mean transaction value (ζ)": 90,
          "f(ζ)": 0.0011244714722191916
         },
         {
          "Unobserved mean transaction value (ζ)": 91,
          "f(ζ)": 0.0010796929035114516
         },
         {
          "Unobserved mean transaction value (ζ)": 92,
          "f(ζ)": 0.0010370259217703872
         },
         {
          "Unobserved mean transaction value (ζ)": 93,
          "f(ζ)": 0.00099635647352861
         },
         {
          "Unobserved mean transaction value (ζ)": 94,
          "f(ζ)": 0.0009575773818964525
         },
         {
          "Unobserved mean transaction value (ζ)": 95,
          "f(ζ)": 0.0009205878938508288
         },
         {
          "Unobserved mean transaction value (ζ)": 96,
          "f(ζ)": 0.0008852932593787791
         },
         {
          "Unobserved mean transaction value (ζ)": 97,
          "f(ζ)": 0.0008516043401380442
         },
         {
          "Unobserved mean transaction value (ζ)": 98,
          "f(ζ)": 0.0008194372454697134
         },
         {
          "Unobserved mean transaction value (ζ)": 99,
          "f(ζ)": 0.0007887129937587053
         },
         {
          "Unobserved mean transaction value (ζ)": 100,
          "f(ζ)": 0.0007593571972871959
         },
         {
          "Unobserved mean transaction value (ζ)": 101,
          "f(ζ)": 0.0007312997688647514
         },
         {
          "Unobserved mean transaction value (ζ)": 102,
          "f(ζ)": 0.0007044746486474676
         },
         {
          "Unobserved mean transaction value (ζ)": 103,
          "f(ζ)": 0.0006788195496775493
         },
         {
          "Unobserved mean transaction value (ζ)": 104,
          "f(ζ)": 0.0006542757207850121
         },
         {
          "Unobserved mean transaction value (ζ)": 105,
          "f(ζ)": 0.0006307877255952482
         },
         {
          "Unobserved mean transaction value (ζ)": 106,
          "f(ζ)": 0.0006083032364805383
         },
         {
          "Unobserved mean transaction value (ζ)": 107,
          "f(ζ)": 0.0005867728423808299
         },
         {
          "Unobserved mean transaction value (ζ)": 108,
          "f(ζ)": 0.0005661498694997031
         },
         {
          "Unobserved mean transaction value (ζ)": 109,
          "f(ζ)": 0.0005463902139559121
         },
         {
          "Unobserved mean transaction value (ζ)": 110,
          "f(ζ)": 0.0005274521855396691
         },
         {
          "Unobserved mean transaction value (ζ)": 111,
          "f(ζ)": 0.0005092963617863554
         },
         {
          "Unobserved mean transaction value (ζ)": 112,
          "f(ζ)": 0.0004918854516389972
         },
         {
          "Unobserved mean transaction value (ζ)": 113,
          "f(ζ)": 0.00047518416802499775
         },
         {
          "Unobserved mean transaction value (ζ)": 114,
          "f(ζ)": 0.0004591591087226189
         },
         {
          "Unobserved mean transaction value (ζ)": 115,
          "f(ζ)": 0.00044377864493888033
         },
         {
          "Unobserved mean transaction value (ζ)": 116,
          "f(ζ)": 0.0004290128170631663
         },
         {
          "Unobserved mean transaction value (ζ)": 117,
          "f(ζ)": 0.00041483323710020604
         },
         {
          "Unobserved mean transaction value (ζ)": 118,
          "f(ζ)": 0.00040121299732244443
         },
         {
          "Unobserved mean transaction value (ζ)": 119,
          "f(ζ)": 0.0003881265847154032
         },
         {
          "Unobserved mean transaction value (ζ)": 120,
          "f(ζ)": 0.0003755498008206527
         },
         {
          "Unobserved mean transaction value (ζ)": 121,
          "f(ζ)": 0.0003634596866096772
         },
         {
          "Unobserved mean transaction value (ζ)": 122,
          "f(ζ)": 0.00035183445204839875
         },
         {
          "Unobserved mean transaction value (ζ)": 123,
          "f(ζ)": 0.00034065341003660824
         },
         {
          "Unobserved mean transaction value (ζ)": 124,
          "f(ζ)": 0.0003298969144291804
         },
         {
          "Unobserved mean transaction value (ζ)": 125,
          "f(ζ)": 0.000319546301866877
         },
         {
          "Unobserved mean transaction value (ζ)": 126,
          "f(ζ)": 0.00030958383716389555
         },
         {
          "Unobserved mean transaction value (ζ)": 127,
          "f(ζ)": 0.00029999266201722664
         },
         {
          "Unobserved mean transaction value (ζ)": 128,
          "f(ζ)": 0.0002907567468194509
         },
         {
          "Unobserved mean transaction value (ζ)": 129,
          "f(ζ)": 0.00028186084537194117
         },
         {
          "Unobserved mean transaction value (ζ)": 130,
          "f(ζ)": 0.00027329045230963466
         },
         {
          "Unobserved mean transaction value (ζ)": 131,
          "f(ζ)": 0.0002650317630616863
         },
         {
          "Unobserved mean transaction value (ζ)": 132,
          "f(ζ)": 0.00025707163618449874
         },
         {
          "Unobserved mean transaction value (ζ)": 133,
          "f(ζ)": 0.00024939755791490524
         },
         {
          "Unobserved mean transaction value (ζ)": 134,
          "f(ζ)": 0.0002419976088017488
         },
         {
          "Unobserved mean transaction value (ζ)": 135,
          "f(ζ)": 0.0002348604322837945
         },
         {
          "Unobserved mean transaction value (ζ)": 136,
          "f(ζ)": 0.00022797520509091208
         },
         {
          "Unobserved mean transaction value (ζ)": 137,
          "f(ζ)": 0.00022133160935380845
         },
         {
          "Unobserved mean transaction value (ζ)": 138,
          "f(ζ)": 0.0002149198063153348
         },
         {
          "Unobserved mean transaction value (ζ)": 139,
          "f(ζ)": 0.00020873041154358118
         },
         {
          "Unobserved mean transaction value (ζ)": 140,
          "f(ζ)": 0.00020275447155364894
         },
         {
          "Unobserved mean transaction value (ζ)": 141,
          "f(ζ)": 0.00019698344175118966
         },
         {
          "Unobserved mean transaction value (ζ)": 142,
          "f(ζ)": 0.0001914091656165624
         },
         {
          "Unobserved mean transaction value (ζ)": 143,
          "f(ζ)": 0.00018602385505381392
         },
         {
          "Unobserved mean transaction value (ζ)": 144,
          "f(ζ)": 0.0001808200718336676
         },
         {
          "Unobserved mean transaction value (ζ)": 145,
          "f(ζ)": 0.0001757907100643348
         },
         {
          "Unobserved mean transaction value (ζ)": 146,
          "f(ζ)": 0.0001709289796282711
         },
         {
          "Unobserved mean transaction value (ζ)": 147,
          "f(ζ)": 0.0001662283905270076
         },
         {
          "Unobserved mean transaction value (ζ)": 148,
          "f(ζ)": 0.00016168273807992193
         },
         {
          "Unobserved mean transaction value (ζ)": 149,
          "f(ζ)": 0.00015728608892628376
         },
         {
          "Unobserved mean transaction value (ζ)": 150,
          "f(ζ)": 0.00015303276778315253
         },
         {
          "Unobserved mean transaction value (ζ)": 151,
          "f(ζ)": 0.00014891734491471553
         },
         {
          "Unobserved mean transaction value (ζ)": 152,
          "f(ζ)": 0.00014493462427147104
         },
         {
          "Unobserved mean transaction value (ζ)": 153,
          "f(ζ)": 0.00014107963226027827
         },
         {
          "Unobserved mean transaction value (ζ)": 154,
          "f(ζ)": 0.0001373476071087434
         },
         {
          "Unobserved mean transaction value (ζ)": 155,
          "f(ζ)": 0.00013373398878969037
         },
         {
          "Unobserved mean transaction value (ζ)": 156,
          "f(ζ)": 0.00013023440947359524
         },
         {
          "Unobserved mean transaction value (ζ)": 157,
          "f(ζ)": 0.00012684468447884733
         },
         {
          "Unobserved mean transaction value (ζ)": 158,
          "f(ζ)": 0.0001235608036915604
         },
         {
          "Unobserved mean transaction value (ζ)": 159,
          "f(ζ)": 0.00012037892342838524
         },
         {
          "Unobserved mean transaction value (ζ)": 160,
          "f(ζ)": 0.00011729535871740029
         },
         {
          "Unobserved mean transaction value (ζ)": 161,
          "f(ζ)": 0.000114306575973666
         },
         {
          "Unobserved mean transaction value (ζ)": 162,
          "f(ζ)": 0.00011140918604744755
         },
         {
          "Unobserved mean transaction value (ζ)": 163,
          "f(ζ)": 0.0001085999376244329
         },
         {
          "Unobserved mean transaction value (ζ)": 164,
          "f(ζ)": 0.00010587571095851184
         },
         {
          "Unobserved mean transaction value (ζ)": 165,
          "f(ζ)": 0.00010323351191884086
         },
         {
          "Unobserved mean transaction value (ζ)": 166,
          "f(ζ)": 0.00010067046633400395
         },
         {
          "Unobserved mean transaction value (ζ)": 167,
          "f(ζ)": 0.00009818381461709491
         },
         {
          "Unobserved mean transaction value (ζ)": 168,
          "f(ζ)": 0.00009577090665649859
         },
         {
          "Unobserved mean transaction value (ζ)": 169,
          "f(ζ)": 0.00009342919695804001
         },
         {
          "Unobserved mean transaction value (ζ)": 170,
          "f(ζ)": 0.0000911562400250061
         },
         {
          "Unobserved mean transaction value (ζ)": 171,
          "f(ζ)": 0.00008894968596332766
         },
         {
          "Unobserved mean transaction value (ζ)": 172,
          "f(ζ)": 0.00008680727629994452
         },
         {
          "Unobserved mean transaction value (ζ)": 173,
          "f(ζ)": 0.00008472684000306477
         },
         {
          "Unobserved mean transaction value (ζ)": 174,
          "f(ζ)": 0.00008270628969367674
         },
         {
          "Unobserved mean transaction value (ζ)": 175,
          "f(ζ)": 0.00008074361803827832
         },
         {
          "Unobserved mean transaction value (ζ)": 176,
          "f(ζ)": 0.00007883689431335784
         },
         {
          "Unobserved mean transaction value (ζ)": 177,
          "f(ζ)": 0.00007698426113269645
         },
         {
          "Unobserved mean transaction value (ζ)": 178,
          "f(ζ)": 0.00007518393132906349
         },
         {
          "Unobserved mean transaction value (ζ)": 179,
          "f(ζ)": 0.00007343418498234918
         },
         {
          "Unobserved mean transaction value (ζ)": 180,
          "f(ζ)": 0.00007173336658662226
         },
         {
          "Unobserved mean transaction value (ζ)": 181,
          "f(ζ)": 0.00007007988234901753
         },
         {
          "Unobserved mean transaction value (ζ)": 182,
          "f(ζ)": 0.00006847219761375068
         },
         {
          "Unobserved mean transaction value (ζ)": 183,
          "f(ζ)": 0.0000669088344049264
         },
         {
          "Unobserved mean transaction value (ζ)": 184,
          "f(ζ)": 0.0000653883690821532
         },
         {
          "Unobserved mean transaction value (ζ)": 185,
          "f(ζ)": 0.00006390943010330523
         },
         {
          "Unobserved mean transaction value (ζ)": 186,
          "f(ζ)": 0.00006247069588907822
         },
         {
          "Unobserved mean transaction value (ζ)": 187,
          "f(ζ)": 0.00006107089278427738
         },
         {
          "Unobserved mean transaction value (ζ)": 188,
          "f(ζ)": 0.00005970879311104667
         },
         {
          "Unobserved mean transaction value (ζ)": 189,
          "f(ζ)": 0.000058383213309506905
         },
         {
          "Unobserved mean transaction value (ζ)": 190,
          "f(ζ)": 0.00005709301216151125
         },
         {
          "Unobserved mean transaction value (ζ)": 191,
          "f(ζ)": 0.00005583708909345586
         },
         {
          "Unobserved mean transaction value (ζ)": 192,
          "f(ζ)": 0.00005461438255429784
         },
         {
          "Unobserved mean transaction value (ζ)": 193,
          "f(ζ)": 0.00005342386846513608
         },
         {
          "Unobserved mean transaction value (ζ)": 194,
          "f(ζ)": 0.0000522645587369019
         },
         {
          "Unobserved mean transaction value (ζ)": 195,
          "f(ζ)": 0.00005113549985288668
         },
         {
          "Unobserved mean transaction value (ζ)": 196,
          "f(ζ)": 0.00005003577151300454
         },
         {
          "Unobserved mean transaction value (ζ)": 197,
          "f(ζ)": 0.0000489644853368489
         },
         {
          "Unobserved mean transaction value (ζ)": 198,
          "f(ζ)": 0.00004792078362275332
         },
         {
          "Unobserved mean transaction value (ζ)": 199,
          "f(ζ)": 0.000046903838160211187
         },
         {
          "Unobserved mean transaction value (ζ)": 200,
          "f(ζ)": 0.000045912849093143605
         },
         {
          "Unobserved mean transaction value (ζ)": 201,
          "f(ζ)": 0.000044947043831633407
         },
         {
          "Unobserved mean transaction value (ζ)": 202,
          "f(ζ)": 0.000044005676009864016
         },
         {
          "Unobserved mean transaction value (ζ)": 203,
          "f(ζ)": 0.00004308802448811653
         },
         {
          "Unobserved mean transaction value (ζ)": 204,
          "f(ζ)": 0.000042193392396786085
         },
         {
          "Unobserved mean transaction value (ζ)": 205,
          "f(ζ)": 0.000041321106220481615
         },
         {
          "Unobserved mean transaction value (ζ)": 206,
          "f(ζ)": 0.000040470514920369056
         },
         {
          "Unobserved mean transaction value (ζ)": 207,
          "f(ζ)": 0.0000396409890930105
         },
         {
          "Unobserved mean transaction value (ζ)": 208,
          "f(ζ)": 0.00003883192016403771
         },
         {
          "Unobserved mean transaction value (ζ)": 209,
          "f(ζ)": 0.00003804271961508089
         },
         {
          "Unobserved mean transaction value (ζ)": 210,
          "f(ζ)": 0.0000372728182424512
         },
         {
          "Unobserved mean transaction value (ζ)": 211,
          "f(ζ)": 0.00003652166544614909
         },
         {
          "Unobserved mean transaction value (ζ)": 212,
          "f(ζ)": 0.00003578872854783987
         },
         {
          "Unobserved mean transaction value (ζ)": 213,
          "f(ζ)": 0.000035073492136504706
         },
         {
          "Unobserved mean transaction value (ζ)": 214,
          "f(ζ)": 0.00003437545744053693
         },
         {
          "Unobserved mean transaction value (ζ)": 215,
          "f(ζ)": 0.000033694141725113504
         },
         {
          "Unobserved mean transaction value (ζ)": 216,
          "f(ζ)": 0.000033029077713727325
         },
         {
          "Unobserved mean transaction value (ζ)": 217,
          "f(ζ)": 0.000032379813032819566
         },
         {
          "Unobserved mean transaction value (ζ)": 218,
          "f(ζ)": 0.00003174590967850176
         },
         {
          "Unobserved mean transaction value (ζ)": 219,
          "f(ζ)": 0.0000311269435044052
         },
         {
          "Unobserved mean transaction value (ζ)": 220,
          "f(ζ)": 0.000030522503729740974
         },
         {
          "Unobserved mean transaction value (ζ)": 221,
          "f(ζ)": 0.000029932192466696837
         },
         {
          "Unobserved mean transaction value (ζ)": 222,
          "f(ζ)": 0.00002935562426633843
         },
         {
          "Unobserved mean transaction value (ζ)": 223,
          "f(ζ)": 0.000028792425682221058
         },
         {
          "Unobserved mean transaction value (ζ)": 224,
          "f(ζ)": 0.000028242234850955335
         },
         {
          "Unobserved mean transaction value (ζ)": 225,
          "f(ζ)": 0.00002770470108900506
         },
         {
          "Unobserved mean transaction value (ζ)": 226,
          "f(ζ)": 0.000027179484505029035
         },
         {
          "Unobserved mean transaction value (ζ)": 227,
          "f(ζ)": 0.000026666255627110295
         },
         {
          "Unobserved mean transaction value (ζ)": 228,
          "f(ζ)": 0.000026164695044246216
         },
         {
          "Unobserved mean transaction value (ζ)": 229,
          "f(ζ)": 0.000025674493061501724
         },
         {
          "Unobserved mean transaction value (ζ)": 230,
          "f(ζ)": 0.000025195349368255058
         },
         {
          "Unobserved mean transaction value (ζ)": 231,
          "f(ζ)": 0.000024726972718991218
         },
         {
          "Unobserved mean transaction value (ζ)": 232,
          "f(ζ)": 0.000024269080626123092
         },
         {
          "Unobserved mean transaction value (ζ)": 233,
          "f(ζ)": 0.00002382139906434358
         },
         {
          "Unobserved mean transaction value (ζ)": 234,
          "f(ζ)": 0.00002338366218603428
         },
         {
          "Unobserved mean transaction value (ζ)": 235,
          "f(ζ)": 0.000022955612047277524
         },
         {
          "Unobserved mean transaction value (ζ)": 236,
          "f(ζ)": 0.00002253699834403872
         },
         {
          "Unobserved mean transaction value (ζ)": 237,
          "f(ζ)": 0.000022127578158105335
         },
         {
          "Unobserved mean transaction value (ζ)": 238,
          "f(ζ)": 0.00002172711571238679
         },
         {
          "Unobserved mean transaction value (ζ)": 239,
          "f(ζ)": 0.000021335382135197324
         },
         {
          "Unobserved mean transaction value (ζ)": 240,
          "f(ζ)": 0.00002095215523316032
         },
         {
          "Unobserved mean transaction value (ζ)": 241,
          "f(ζ)": 0.000020577219272388295
         },
         {
          "Unobserved mean transaction value (ζ)": 242,
          "f(ζ)": 0.000020210364767608054
         },
         {
          "Unobserved mean transaction value (ζ)": 243,
          "f(ζ)": 0.000019851388278914636
         },
         {
          "Unobserved mean transaction value (ζ)": 244,
          "f(ζ)": 0.000019500092215851535
         },
         {
          "Unobserved mean transaction value (ζ)": 245,
          "f(ζ)": 0.00001915628464852753
         },
         {
          "Unobserved mean transaction value (ζ)": 246,
          "f(ζ)": 0.00001881977912549323
         },
         {
          "Unobserved mean transaction value (ζ)": 247,
          "f(ζ)": 0.00001849039449811177
         },
         {
          "Unobserved mean transaction value (ζ)": 248,
          "f(ζ)": 0.00001816795475117005
         },
         {
          "Unobserved mean transaction value (ζ)": 249,
          "f(ζ)": 0.0000178522888394871
         },
         {
          "Unobserved mean transaction value (ζ)": 250,
          "f(ζ)": 0.00001754323053028692
         },
         {
          "Unobserved mean transaction value (ζ)": 251,
          "f(ζ)": 0.00001724061825111264
         },
         {
          "Unobserved mean transaction value (ζ)": 252,
          "f(ζ)": 0.000016944294943068418
         },
         {
          "Unobserved mean transaction value (ζ)": 253,
          "f(ζ)": 0.000016654107919184436
         },
         {
          "Unobserved mean transaction value (ζ)": 254,
          "f(ζ)": 0.00001636990872770872
         },
         {
          "Unobserved mean transaction value (ζ)": 255,
          "f(ζ)": 0.000016091553020137963
         },
         {
          "Unobserved mean transaction value (ζ)": 256,
          "f(ζ)": 0.000015818900423807055
         },
         {
          "Unobserved mean transaction value (ζ)": 257,
          "f(ζ)": 0.00001555181441886468
         },
         {
          "Unobserved mean transaction value (ζ)": 258,
          "f(ζ)": 0.000015290162219469287
         },
         {
          "Unobserved mean transaction value (ζ)": 259,
          "f(ζ)": 0.00001503381465904668
         },
         {
          "Unobserved mean transaction value (ζ)": 260,
          "f(ζ)": 0.000014782646079456899
         },
         {
          "Unobserved mean transaction value (ζ)": 261,
          "f(ζ)": 0.000014536534223924242
         },
         {
          "Unobserved mean transaction value (ζ)": 262,
          "f(ζ)": 0.000014295360133590348
         },
         {
          "Unobserved mean transaction value (ζ)": 263,
          "f(ζ)": 0.000014059008047555735
         },
         {
          "Unobserved mean transaction value (ζ)": 264,
          "f(ζ)": 0.000013827365306280854
         },
         {
          "Unobserved mean transaction value (ζ)": 265,
          "f(ζ)": 0.000013600322258222694
         },
         {
          "Unobserved mean transaction value (ζ)": 266,
          "f(ζ)": 0.000013377772169588093
         },
         {
          "Unobserved mean transaction value (ζ)": 267,
          "f(ζ)": 0.000013159611137089566
         },
         {
          "Unobserved mean transaction value (ζ)": 268,
          "f(ζ)": 0.000012945738003594087
         },
         {
          "Unobserved mean transaction value (ζ)": 269,
          "f(ζ)": 0.000012736054276559543
         },
         {
          "Unobserved mean transaction value (ζ)": 270,
          "f(ζ)": 0.00001253046404915778
         },
         {
          "Unobserved mean transaction value (ζ)": 271,
          "f(ζ)": 0.00001232887392398715
         },
         {
          "Unobserved mean transaction value (ζ)": 272,
          "f(ζ)": 0.000012131192939281259
         },
         {
          "Unobserved mean transaction value (ζ)": 273,
          "f(ζ)": 0.000011937332497524313
         },
         {
          "Unobserved mean transaction value (ζ)": 274,
          "f(ζ)": 0.00001174720629638691
         },
         {
          "Unobserved mean transaction value (ζ)": 275,
          "f(ζ)": 0.00001156073026189953
         },
         {
          "Unobserved mean transaction value (ζ)": 276,
          "f(ζ)": 0.000011377822483784115
         },
         {
          "Unobserved mean transaction value (ζ)": 277,
          "f(ζ)": 0.000011198403152867322
         },
         {
          "Unobserved mean transaction value (ζ)": 278,
          "f(ζ)": 0.000011022394500501845
         },
         {
          "Unobserved mean transaction value (ζ)": 279,
          "f(ζ)": 0.000010849720739925147
         },
         {
          "Unobserved mean transaction value (ζ)": 280,
          "f(ζ)": 0.000010680308009487559
         },
         {
          "Unobserved mean transaction value (ζ)": 281,
          "f(ζ)": 0.000010514084317684379
         },
         {
          "Unobserved mean transaction value (ζ)": 282,
          "f(ζ)": 0.000010350979489929036
         },
         {
          "Unobserved mean transaction value (ζ)": 283,
          "f(ζ)": 0.000010190925117006767
         },
         {
          "Unobserved mean transaction value (ζ)": 284,
          "f(ζ)": 0.000010033854505150656
         },
         {
          "Unobserved mean transaction value (ζ)": 285,
          "f(ζ)": 0.000009879702627683854
         },
         {
          "Unobserved mean transaction value (ζ)": 286,
          "f(ζ)": 0.000009728406078174181
         },
         {
          "Unobserved mean transaction value (ζ)": 287,
          "f(ζ)": 0.000009579903025049108
         },
         {
          "Unobserved mean transaction value (ζ)": 288,
          "f(ζ)": 0.000009434133167621187
         },
         {
          "Unobserved mean transaction value (ζ)": 289,
          "f(ζ)": 0.000009291037693475766
         },
         {
          "Unobserved mean transaction value (ζ)": 290,
          "f(ζ)": 0.000009150559237174732
         },
         {
          "Unobserved mean transaction value (ζ)": 291,
          "f(ζ)": 0.000009012641840231594
         },
         {
          "Unobserved mean transaction value (ζ)": 292,
          "f(ζ)": 0.000008877230912314992
         },
         {
          "Unobserved mean transaction value (ζ)": 293,
          "f(ζ)": 0.0000087442731936392
         },
         {
          "Unobserved mean transaction value (ζ)": 294,
          "f(ζ)": 0.000008613716718501805
         },
         {
          "Unobserved mean transaction value (ζ)": 295,
          "f(ζ)": 0.000008485510779930075
         },
         {
          "Unobserved mean transaction value (ζ)": 296,
          "f(ζ)": 0.000008359605895399087
         },
         {
          "Unobserved mean transaction value (ζ)": 297,
          "f(ζ)": 0.000008235953773585887
         },
         {
          "Unobserved mean transaction value (ζ)": 298,
          "f(ζ)": 0.00000811450728212531
         },
         {
          "Unobserved mean transaction value (ζ)": 299,
          "f(ζ)": 0.00000799522041633436
         },
         {
          "Unobserved mean transaction value (ζ)": 300,
          "f(ζ)": 0.000007878048268873173
         }
        ]
       },
       "encoding": {
        "x": {
         "axis": {
          "labelExpr": "\"$\"+datum.value",
          "values": [
           0,
           50,
           100,
           150,
           200,
           250,
           300
          ]
         },
         "field": "Unobserved mean transaction value (ζ)",
         "type": "quantitative"
        },
        "y": {
         "field": "f(ζ)",
         "scale": {
          "domain": [
           0,
           0.04
          ]
         },
         "type": "quantitative"
        }
       },
       "height": 400,
       "mark": {
        "type": "line"
       },
       "title": "Distribution of the (unobserved) mean transaction value (ζ)",
       "width": 500
      },
      "text/plain": [
       "<VegaLite 5 object>\n",
       "\n",
       "If you see this message, it means the renderer has not been properly enabled\n",
       "for the frontend that you are using. For more information, see\n",
       "https://altair-viz.github.io/user_guide/display_frontends.html#troubleshooting\n"
      ]
     },
     "execution_count": 9,
     "metadata": {},
     "output_type": "execute_result"
    }
   ],
   "source": [
    "zeta = np.arange(300) + 1\n",
    "f_zeta = (p * gamma)**q * zeta**(-q-1) * np.exp(-p*gamma/zeta) / np.exp(gammaln(q))\n",
    "\n",
    "(\n",
    "    alt.Chart(pl.DataFrame({'Unobserved mean transaction value (ζ)': zeta, 'f(ζ)': f_zeta}))\n",
    "    .mark_line().encode(\n",
    "        x=alt.X('Unobserved mean transaction value (ζ)', axis=alt.Axis(values=np.arange(0, 301, 50), labelExpr='\"$\"+datum.value')),\n",
    "        y=alt.Y('f(ζ)', scale=alt.Scale(domain=[0, 0.04]))\n",
    "    ).properties(\n",
    "            width=500,\n",
    "            height=400,\n",
    "            title='Distribution of the (unobserved) mean transaction value (ζ)'\n",
    "        ).configure_view(stroke=None).configure_axisY(grid=False).configure_axisX(grid=False) \n",
    ")"
   ]
  },
  {
   "cell_type": "code",
   "execution_count": 10,
   "metadata": {},
   "outputs": [],
   "source": [
    "# compute the density of average transaction value\n",
    "\n",
    "# how many people with each level of x?\n",
    "repeat_trans_dist = cdnow.rfm_summary().group_by('P1X').agg(pl.len().alias('Count')).sort('P1X').collect().to_numpy()\n",
    "nx = repeat_trans_dist[1:, 1]\n",
    "x_trans = repeat_trans_dist[1:, 0]\n",
    "\n",
    "# compute the density of zbar for each x\n",
    "y = np.arange(300) + 1\n",
    "x_trans, y = np.meshgrid(x_trans,y)\n",
    "a1 = gammaln(p*x_trans+q)-gammaln(p*x_trans)-gammaln(q)\n",
    "a2 = q*np.log(gamma)\n",
    "a3 = (p*x_trans-1)*np.log(y)\n",
    "a4 = (p*x_trans)*np.log(x_trans)\n",
    "a5 = (p*x_trans+q)*np.log(gamma+y*x_trans)\n",
    "g1 = np.exp(a1+a2+a3+a4-a5)\n",
    "\n",
    "# compute the weighted average\n",
    "g = np.dot(nx, g1.T) / np.sum(nx)"
   ]
  },
  {
   "cell_type": "code",
   "execution_count": 11,
   "metadata": {},
   "outputs": [
    {
     "data": {
      "application/vnd.vegalite.v5+json": {
       "$schema": "https://vega.github.io/schema/vega-lite/v5.20.1.json",
       "config": {
        "axisX": {
         "grid": false
        },
        "axisY": {
         "grid": false
        },
        "view": {
         "continuousHeight": 300,
         "continuousWidth": 300,
         "stroke": null
        }
       },
       "datasets": {
        "data-03be1b3f07ad9cf7bcb5e3c56a9f437f": [
         {
          "Average Transaction Value (z)": 2.5,
          "f(z)": 0.000574964666954661
         },
         {
          "Average Transaction Value (z)": 5,
          "f(z)": 0.002833099839721056
         },
         {
          "Average Transaction Value (z)": 7.5,
          "f(z)": 0.005673589773005003
         },
         {
          "Average Transaction Value (z)": 10,
          "f(z)": 0.01936084231583282
         },
         {
          "Average Transaction Value (z)": 12.5,
          "f(z)": 0.03430593905034424
         },
         {
          "Average Transaction Value (z)": 15,
          "f(z)": 0.03497712494282475
         },
         {
          "Average Transaction Value (z)": 17.5,
          "f(z)": 0.02867529070828229
         },
         {
          "Average Transaction Value (z)": 20,
          "f(z)": 0.024125323622117535
         },
         {
          "Average Transaction Value (z)": 22.5,
          "f(z)": 0.022186663054258985
         },
         {
          "Average Transaction Value (z)": 25,
          "f(z)": 0.021316234847263762
         },
         {
          "Average Transaction Value (z)": 27.5,
          "f(z)": 0.02041109564684783
         },
         {
          "Average Transaction Value (z)": 30,
          "f(z)": 0.0191170945103938
         },
         {
          "Average Transaction Value (z)": 32.5,
          "f(z)": 0.0175379922778571
         },
         {
          "Average Transaction Value (z)": 35,
          "f(z)": 0.01587360256782487
         },
         {
          "Average Transaction Value (z)": 37.5,
          "f(z)": 0.014243086835431388
         },
         {
          "Average Transaction Value (z)": 40,
          "f(z)": 0.012685970205158614
         },
         {
          "Average Transaction Value (z)": 42.5,
          "f(z)": 0.011214227575322519
         },
         {
          "Average Transaction Value (z)": 45,
          "f(z)": 0.009842144578266376
         },
         {
          "Average Transaction Value (z)": 47.5,
          "f(z)": 0.008588770244414037
         },
         {
          "Average Transaction Value (z)": 50,
          "f(z)": 0.007470122282352354
         },
         {
          "Average Transaction Value (z)": 52.5,
          "f(z)": 0.006493192282030336
         },
         {
          "Average Transaction Value (z)": 55,
          "f(z)": 0.005654826866202675
         },
         {
          "Average Transaction Value (z)": 57.5,
          "f(z)": 0.004943998634126783
         },
         {
          "Average Transaction Value (z)": 60,
          "f(z)": 0.004345217718415334
         },
         {
          "Average Transaction Value (z)": 62.5,
          "f(z)": 0.00384159380708059
         },
         {
          "Average Transaction Value (z)": 65,
          "f(z)": 0.003416951692068976
         },
         {
          "Average Transaction Value (z)": 67.5,
          "f(z)": 0.003056977888762176
         },
         {
          "Average Transaction Value (z)": 70,
          "f(z)": 0.0027496290434891675
         },
         {
          "Average Transaction Value (z)": 72.5,
          "f(z)": 0.0024850824966257358
         },
         {
          "Average Transaction Value (z)": 75,
          "f(z)": 0.00225546229391337
         },
         {
          "Average Transaction Value (z)": 77.5,
          "f(z)": 0.0020544977792652137
         },
         {
          "Average Transaction Value (z)": 80,
          "f(z)": 0.0018772013457674982
         },
         {
          "Average Transaction Value (z)": 82.5,
          "f(z)": 0.0017196004135717306
         },
         {
          "Average Transaction Value (z)": 85,
          "f(z)": 0.001578527814580127
         },
         {
          "Average Transaction Value (z)": 87.5,
          "f(z)": 0.0014514604734249335
         },
         {
          "Average Transaction Value (z)": 90,
          "f(z)": 0.0013363928665853118
         },
         {
          "Average Transaction Value (z)": 92.5,
          "f(z)": 0.001231733978294748
         },
         {
          "Average Transaction Value (z)": 95,
          "f(z)": 0.0011362205444300014
         },
         {
          "Average Transaction Value (z)": 97.5,
          "f(z)": 0.001048843059518129
         },
         {
          "Average Transaction Value (z)": 100,
          "f(z)": 0.000968783394596733
         },
         {
          "Average Transaction Value (z)": 102.5,
          "f(z)": 0.0008953638703123792
         },
         {
          "Average Transaction Value (z)": 105,
          "f(z)": 0.0008280076194251543
         },
         {
          "Average Transaction Value (z)": 107.5,
          "f(z)": 0.0007662095420254587
         },
         {
          "Average Transaction Value (z)": 110,
          "f(z)": 0.000709516520969227
         },
         {
          "Average Transaction Value (z)": 112.5,
          "f(z)": 0.000657515091621311
         },
         {
          "Average Transaction Value (z)": 115,
          "f(z)": 0.0006098245645100413
         },
         {
          "Average Transaction Value (z)": 117.5,
          "f(z)": 0.0005660936814467102
         },
         {
          "Average Transaction Value (z)": 120,
          "f(z)": 0.0005259991762088895
         },
         {
          "Average Transaction Value (z)": 122.5,
          "f(z)": 0.0004892450157151561
         },
         {
          "Average Transaction Value (z)": 125,
          "f(z)": 0.0004555615274095914
         },
         {
          "Average Transaction Value (z)": 127.5,
          "f(z)": 0.00042470400580658826
         },
         {
          "Average Transaction Value (z)": 130,
          "f(z)": 0.000396450695623062
         },
         {
          "Average Transaction Value (z)": 132.5,
          "f(z)": 0.00037060025569497665
         },
         {
          "Average Transaction Value (z)": 135,
          "f(z)": 0.00034696892117851174
         },
         {
          "Average Transaction Value (z)": 137.5,
          "f(z)": 0.0003253876175743739
         },
         {
          "Average Transaction Value (z)": 140,
          "f(z)": 0.00030569926046522094
         },
         {
          "Average Transaction Value (z)": 142.5,
          "f(z)": 0.00028775642144152996
         },
         {
          "Average Transaction Value (z)": 145,
          "f(z)": 0.00027141947253312755
         },
         {
          "Average Transaction Value (z)": 147.5,
          "f(z)": 0.0002565552530651894
         },
         {
          "Average Transaction Value (z)": 150,
          "f(z)": 0.00024303624382603894
         },
         {
          "Average Transaction Value (z)": 152.5,
          "f(z)": 0.000230740188924185
         },
         {
          "Average Transaction Value (z)": 155,
          "f(z)": 0.00021955007731345926
         },
         {
          "Average Transaction Value (z)": 157.5,
          "f(z)": 0.00020935438273481148
         },
         {
          "Average Transaction Value (z)": 160,
          "f(z)": 0.00020004746027306545
         },
         {
          "Average Transaction Value (z)": 162.5,
          "f(z)": 0.00019153000664644384
         },
         {
          "Average Transaction Value (z)": 165,
          "f(z)": 0.00018370950642295148
         },
         {
          "Average Transaction Value (z)": 167.5,
          "f(z)": 0.00017650060458643724
         },
         {
          "Average Transaction Value (z)": 170,
          "f(z)": 0.0001698253647928172
         },
         {
          "Average Transaction Value (z)": 172.5,
          "f(z)": 0.00016361339043139013
         },
         {
          "Average Transaction Value (z)": 175,
          "f(z)": 0.0001578018010271817
         },
         {
          "Average Transaction Value (z)": 177.5,
          "f(z)": 0.00015233506892741797
         },
         {
          "Average Transaction Value (z)": 180,
          "f(z)": 0.00014716473039296895
         },
         {
          "Average Transaction Value (z)": 182.5,
          "f(z)": 0.0001422489912790232
         },
         {
          "Average Transaction Value (z)": 185,
          "f(z)": 0.00013755225077447786
         },
         {
          "Average Transaction Value (z)": 187.5,
          "f(z)": 0.00013304456763965484
         },
         {
          "Average Transaction Value (z)": 190,
          "f(z)": 0.0001287010925504404
         },
         {
          "Average Transaction Value (z)": 192.5,
          "f(z)": 0.00012450148803180258
         },
         {
          "Average Transaction Value (z)": 195,
          "f(z)": 0.00012042935450873646
         },
         {
          "Average Transaction Value (z)": 197.5,
          "f(z)": 0.0001164716776152526
         },
         {
          "Average Transaction Value (z)": 200,
          "f(z)": 0.00011261830840219703
         },
         {
          "Average Transaction Value (z)": 202.5,
          "f(z)": 0.00010886148471435854
         },
         {
          "Average Transaction Value (z)": 205,
          "f(z)": 0.00010519539893546334
         },
         {
          "Average Transaction Value (z)": 207.5,
          "f(z)": 0.00010161581463113159
         },
         {
          "Average Transaction Value (z)": 210,
          "f(z)": 0.00009811973240667989
         },
         {
          "Average Transaction Value (z)": 212.5,
          "f(z)": 0.0000947051035492738
         },
         {
          "Average Transaction Value (z)": 215,
          "f(z)": 0.00009137058872228655
         },
         {
          "Average Transaction Value (z)": 217.5,
          "f(z)": 0.00008811535808307139
         },
         {
          "Average Transaction Value (z)": 220,
          "f(z)": 0.00008493892865044636
         },
         {
          "Average Transaction Value (z)": 222.5,
          "f(z)": 0.00008184103449616332
         },
         {
          "Average Transaction Value (z)": 225,
          "f(z)": 0.0000788215253158673
         },
         {
          "Average Transaction Value (z)": 227.5,
          "f(z)": 0.00007588028909312285
         },
         {
          "Average Transaction Value (z)": 230,
          "f(z)": 0.00007301719485385105
         },
         {
          "Average Transaction Value (z)": 232.5,
          "f(z)": 0.00007023205187393074
         },
         {
          "Average Transaction Value (z)": 235,
          "f(z)": 0.00006752458211289475
         },
         {
          "Average Transaction Value (z)": 237.5,
          "f(z)": 0.00006489440307240788
         },
         {
          "Average Transaction Value (z)": 240,
          "f(z)": 0.00006234101869704769
         },
         {
          "Average Transaction Value (z)": 242.5,
          "f(z)": 0.000059863816330883065
         },
         {
          "Average Transaction Value (z)": 245,
          "f(z)": 0.000057462068105595294
         },
         {
          "Average Transaction Value (z)": 247.5,
          "f(z)": 0.000055134935458273544
         },
         {
          "Average Transaction Value (z)": 250,
          "f(z)": 0.0000528814757567731
         },
         {
          "Average Transaction Value (z)": 252.5,
          "f(z)": 0.000050700650247751185
         },
         {
          "Average Transaction Value (z)": 255,
          "f(z)": 0.00004859133273909122
         },
         {
          "Average Transaction Value (z)": 257.5,
          "f(z)": 0.00004655231858780532
         },
         {
          "Average Transaction Value (z)": 260,
          "f(z)": 0.000044582333690687455
         },
         {
          "Average Transaction Value (z)": 262.5,
          "f(z)": 0.000042680043272481686
         },
         {
          "Average Transaction Value (z)": 265,
          "f(z)": 0.00004084406033965657
         },
         {
          "Average Transaction Value (z)": 267.5,
          "f(z)": 0.000039072953721328455
         },
         {
          "Average Transaction Value (z)": 270,
          "f(z)": 0.000037365255656463324
         },
         {
          "Average Transaction Value (z)": 272.5,
          "f(z)": 0.000035719468911739524
         },
         {
          "Average Transaction Value (z)": 275,
          "f(z)": 0.00003413407343040036
         },
         {
          "Average Transaction Value (z)": 277.5,
          "f(z)": 0.00003260753252166306
         },
         {
          "Average Transaction Value (z)": 280,
          "f(z)": 0.00003113829860480156
         },
         {
          "Average Transaction Value (z)": 282.5,
          "f(z)": 0.00002972481852358138
         },
         {
          "Average Transaction Value (z)": 285,
          "f(z)": 0.000028365538446481267
         },
         {
          "Average Transaction Value (z)": 287.5,
          "f(z)": 0.000027058908367061312
         },
         {
          "Average Transaction Value (z)": 290,
          "f(z)": 0.000025803386217509895
         },
         {
          "Average Transaction Value (z)": 292.5,
          "f(z)": 0.000024597441607259704
         },
         {
          "Average Transaction Value (z)": 295,
          "f(z)": 0.000023439559197820777
         },
         {
          "Average Transaction Value (z)": 297.5,
          "f(z)": 0.000022328241724734044
         },
         {
          "Average Transaction Value (z)": 300,
          "f(z)": 0.000021262012677801968
         }
        ],
        "data-f4b31f397fe975e63ae8a321b87b060e": [
         {
          "Average Transaction Value (z)": 1,
          "f(z)": 0.0000040657002234096865
         },
         {
          "Average Transaction Value (z)": 2,
          "f(z)": 0.00008630323851719165
         },
         {
          "Average Transaction Value (z)": 3,
          "f(z)": 0.0004253195639909762
         },
         {
          "Average Transaction Value (z)": 4,
          "f(z)": 0.0011904031468976414
         },
         {
          "Average Transaction Value (z)": 5,
          "f(z)": 0.002491196701819139
         },
         {
          "Average Transaction Value (z)": 6,
          "f(z)": 0.004373854119390902
         },
         {
          "Average Transaction Value (z)": 7,
          "f(z)": 0.006808154057533768
         },
         {
          "Average Transaction Value (z)": 8,
          "f(z)": 0.00967916983931613
         },
         {
          "Average Transaction Value (z)": 9,
          "f(z)": 0.012806737963944834
         },
         {
          "Average Transaction Value (z)": 10,
          "f(z)": 0.01598593965598227
         },
         {
          "Average Transaction Value (z)": 11,
          "f(z)": 0.019027133059731673
         },
         {
          "Average Transaction Value (z)": 12,
          "f(z)": 0.021781623503408128
         },
         {
          "Average Transaction Value (z)": 13,
          "f(z)": 0.024150962322438158
         },
         {
          "Average Transaction Value (z)": 14,
          "f(z)": 0.026084369841357723
         },
         {
          "Average Transaction Value (z)": 15,
          "f(z)": 0.02756995873993615
         },
         {
          "Average Transaction Value (z)": 16,
          "f(z)": 0.02862410341928499
         },
         {
          "Average Transaction Value (z)": 17,
          "f(z)": 0.029281499923073332
         },
         {
          "Average Transaction Value (z)": 18,
          "f(z)": 0.02958704480979102
         },
         {
          "Average Transaction Value (z)": 19,
          "f(z)": 0.029589786532645726
         },
         {
          "Average Transaction Value (z)": 20,
          "f(z)": 0.029338758917838863
         },
         {
          "Average Transaction Value (z)": 21,
          "f(z)": 0.028880336296443977
         },
         {
          "Average Transaction Value (z)": 22,
          "f(z)": 0.028256728393430595
         },
         {
          "Average Transaction Value (z)": 23,
          "f(z)": 0.027505279223119274
         },
         {
          "Average Transaction Value (z)": 24,
          "f(z)": 0.026658302342928767
         },
         {
          "Average Transaction Value (z)": 25,
          "f(z)": 0.025743252277454137
         },
         {
          "Average Transaction Value (z)": 26,
          "f(z)": 0.024783089440939092
         },
         {
          "Average Transaction Value (z)": 27,
          "f(z)": 0.02379674107381699
         },
         {
          "Average Transaction Value (z)": 28,
          "f(z)": 0.022799594362381773
         },
         {
          "Average Transaction Value (z)": 29,
          "f(z)": 0.021803981994722058
         },
         {
          "Average Transaction Value (z)": 30,
          "f(z)": 0.020819637074539512
         },
         {
          "Average Transaction Value (z)": 31,
          "f(z)": 0.019854105489763185
         },
         {
          "Average Transaction Value (z)": 32,
          "f(z)": 0.018913111072686697
         },
         {
          "Average Transaction Value (z)": 33,
          "f(z)": 0.018000873384847748
         },
         {
          "Average Transaction Value (z)": 34,
          "f(z)": 0.01712038059116462
         },
         {
          "Average Transaction Value (z)": 35,
          "f(z)": 0.01627362128275821
         },
         {
          "Average Transaction Value (z)": 36,
          "f(z)": 0.01546177970645445
         },
         {
          "Average Transaction Value (z)": 37,
          "f(z)": 0.014685398963051922
         },
         {
          "Average Transaction Value (z)": 38,
          "f(z)": 0.013944516549019015
         },
         {
          "Average Transaction Value (z)": 39,
          "f(z)": 0.013238776270991683
         },
         {
          "Average Transaction Value (z)": 40,
          "f(z)": 0.012567520145138452
         },
         {
          "Average Transaction Value (z)": 41,
          "f(z)": 0.011929863457492543
         },
         {
          "Average Transaction Value (z)": 42,
          "f(z)": 0.011324755738412993
         },
         {
          "Average Transaction Value (z)": 43,
          "f(z)": 0.010751030011884015
         },
         {
          "Average Transaction Value (z)": 44,
          "f(z)": 0.010207442326733212
         },
         {
          "Average Transaction Value (z)": 45,
          "f(z)": 0.009692703264683586
         },
         {
          "Average Transaction Value (z)": 46,
          "f(z)": 0.009205502848705865
         },
         {
          "Average Transaction Value (z)": 47,
          "f(z)": 0.008744530041745222
         },
         {
          "Average Transaction Value (z)": 48,
          "f(z)": 0.008308487826981651
         },
         {
          "Average Transaction Value (z)": 49,
          "f(z)": 0.00789610469239272
         },
         {
          "Average Transaction Value (z)": 50,
          "f(z)": 0.0075061432006343545
         },
         {
          "Average Transaction Value (z)": 51,
          "f(z)": 0.007137406206437933
         },
         {
          "Average Transaction Value (z)": 52,
          "f(z)": 0.006788741184501731
         },
         {
          "Average Transaction Value (z)": 53,
          "f(z)": 0.006459043048243018
         },
         {
          "Average Transaction Value (z)": 54,
          "f(z)": 0.0061472557711732476
         },
         {
          "Average Transaction Value (z)": 55,
          "f(z)": 0.005852373065814139
         },
         {
          "Average Transaction Value (z)": 56,
          "f(z)": 0.00557343832805806
         },
         {
          "Average Transaction Value (z)": 57,
          "f(z)": 0.005309544016068016
         },
         {
          "Average Transaction Value (z)": 58,
          "f(z)": 0.005059830600825811
         },
         {
          "Average Transaction Value (z)": 59,
          "f(z)": 0.004823485199111006
         },
         {
          "Average Transaction Value (z)": 60,
          "f(z)": 0.004599739978071536
         },
         {
          "Average Transaction Value (z)": 61,
          "f(z)": 0.0043878704028020386
         },
         {
          "Average Transaction Value (z)": 62,
          "f(z)": 0.0041871933838187065
         },
         {
          "Average Transaction Value (z)": 63,
          "f(z)": 0.003997065369443774
         },
         {
          "Average Transaction Value (z)": 64,
          "f(z)": 0.0038168804184211193
         },
         {
          "Average Transaction Value (z)": 65,
          "f(z)": 0.003646068280198799
         },
         {
          "Average Transaction Value (z)": 66,
          "f(z)": 0.003484092503908733
         },
         {
          "Average Transaction Value (z)": 67,
          "f(z)": 0.0033304485918901248
         },
         {
          "Average Transaction Value (z)": 68,
          "f(z)": 0.003184662209419079
         },
         {
          "Average Transaction Value (z)": 69,
          "f(z)": 0.0030462874589455595
         },
         {
          "Average Transaction Value (z)": 70,
          "f(z)": 0.002914905224451692
         },
         {
          "Average Transaction Value (z)": 71,
          "f(z)": 0.0027901215894061146
         },
         {
          "Average Transaction Value (z)": 72,
          "f(z)": 0.0026715663301039865
         },
         {
          "Average Transaction Value (z)": 73,
          "f(z)": 0.0025588914848591092
         },
         {
          "Average Transaction Value (z)": 74,
          "f(z)": 0.0024517699984948987
         },
         {
          "Average Transaction Value (z)": 75,
          "f(z)": 0.002349894440798256
         },
         {
          "Average Transaction Value (z)": 76,
          "f(z)": 0.0022529757970188077
         },
         {
          "Average Transaction Value (z)": 77,
          "f(z)": 0.002160742328066451
         },
         {
          "Average Transaction Value (z)": 78,
          "f(z)": 0.002072938497763948
         },
         {
          "Average Transaction Value (z)": 79,
          "f(z)": 0.001989323964309809
         },
         {
          "Average Transaction Value (z)": 80,
          "f(z)": 0.0019096726329908584
         },
         {
          "Average Transaction Value (z)": 81,
          "f(z)": 0.0018337717671279396
         },
         {
          "Average Transaction Value (z)": 82,
          "f(z)": 0.001761421154232976
         },
         {
          "Average Transaction Value (z)": 83,
          "f(z)": 0.0016924323243896408
         },
         {
          "Average Transaction Value (z)": 84,
          "f(z)": 0.001626627817929035
         },
         {
          "Average Transaction Value (z)": 85,
          "f(z)": 0.0015638404995577996
         },
         {
          "Average Transaction Value (z)": 86,
          "f(z)": 0.0015039129161928142
         },
         {
          "Average Transaction Value (z)": 87,
          "f(z)": 0.0014466966958673444
         },
         {
          "Average Transaction Value (z)": 88,
          "f(z)": 0.0013920519851886768
         },
         {
          "Average Transaction Value (z)": 89,
          "f(z)": 0.0013398469229494653
         },
         {
          "Average Transaction Value (z)": 90,
          "f(z)": 0.0012899571476148292
         },
         {
          "Average Transaction Value (z)": 91,
          "f(z)": 0.0012422653365301505
         },
         {
          "Average Transaction Value (z)": 92,
          "f(z)": 0.0011966607748139513
         },
         {
          "Average Transaction Value (z)": 93,
          "f(z)": 0.0011530389520167511
         },
         {
          "Average Transaction Value (z)": 94,
          "f(z)": 0.0011113011847408642
         },
         {
          "Average Transaction Value (z)": 95,
          "f(z)": 0.001071354263524622
         },
         {
          "Average Transaction Value (z)": 96,
          "f(z)": 0.0010331101223993912
         },
         {
          "Average Transaction Value (z)": 97,
          "f(z)": 0.000996485529627594
         },
         {
          "Average Transaction Value (z)": 98,
          "f(z)": 0.000961401798224559
         },
         {
          "Average Transaction Value (z)": 99,
          "f(z)": 0.0009277845149571933
         },
         {
          "Average Transaction Value (z)": 100,
          "f(z)": 0.0008955632865972957
         },
         {
          "Average Transaction Value (z)": 101,
          "f(z)": 0.000864671502287331
         },
         {
          "Average Transaction Value (z)": 102,
          "f(z)": 0.0008350461109523602
         },
         {
          "Average Transaction Value (z)": 103,
          "f(z)": 0.0008066274127620784
         },
         {
          "Average Transaction Value (z)": 104,
          "f(z)": 0.0007793588637139654
         },
         {
          "Average Transaction Value (z)": 105,
          "f(z)": 0.0007531868924705316
         },
         {
          "Average Transaction Value (z)": 106,
          "f(z)": 0.0007280607286420683
         },
         {
          "Average Transaction Value (z)": 107,
          "f(z)": 0.000703932241760839
         },
         {
          "Average Transaction Value (z)": 108,
          "f(z)": 0.0006807557902437604
         },
         {
          "Average Transaction Value (z)": 109,
          "f(z)": 0.000658488079687869
         },
         {
          "Average Transaction Value (z)": 110,
          "f(z)": 0.0006370880298877847
         },
         {
          "Average Transaction Value (z)": 111,
          "f(z)": 0.0006165166500052105
         },
         {
          "Average Transaction Value (z)": 112,
          "f(z)": 0.0005967369213597047
         },
         {
          "Average Transaction Value (z)": 113,
          "f(z)": 0.0005777136873454869
         },
         {
          "Average Transaction Value (z)": 114,
          "f(z)": 0.000559413550012829
         },
         {
          "Average Transaction Value (z)": 115,
          "f(z)": 0.0005418047728837543
         },
         {
          "Average Transaction Value (z)": 116,
          "f(z)": 0.0005248571896007823
         },
         {
          "Average Transaction Value (z)": 117,
          "f(z)": 0.0005085421180345272
         },
         {
          "Average Transaction Value (z)": 118,
          "f(z)": 0.0004928322795013228
         },
         {
          "Average Transaction Value (z)": 119,
          "f(z)": 0.00047770172276524135
         },
         {
          "Average Transaction Value (z)": 120,
          "f(z)": 0.0004631257525209706
         },
         {
          "Average Transaction Value (z)": 121,
          "f(z)": 0.00044908086207411595
         },
         {
          "Average Transaction Value (z)": 122,
          "f(z)": 0.0004355446699545842
         },
         {
          "Average Transaction Value (z)": 123,
          "f(z)": 0.00042249586021620615
         },
         {
          "Average Transaction Value (z)": 124,
          "f(z)": 0.0004099141261922269
         },
         {
          "Average Transaction Value (z)": 125,
          "f(z)": 0.00039778011749137294
         },
         {
          "Average Transaction Value (z)": 126,
          "f(z)": 0.00038607539003374694
         },
         {
          "Average Transaction Value (z)": 127,
          "f(z)": 0.0003747823589386383
         },
         {
          "Average Transaction Value (z)": 128,
          "f(z)": 0.00036388425408893303
         },
         {
          "Average Transaction Value (z)": 129,
          "f(z)": 0.0003533650782081693
         },
         {
          "Average Transaction Value (z)": 130,
          "f(z)": 0.00034320956729693054
         },
         {
          "Average Transaction Value (z)": 131,
          "f(z)": 0.00033340315328537996
         },
         {
          "Average Transaction Value (z)": 132,
          "f(z)": 0.0003239319287677796
         },
         {
          "Average Transaction Value (z)": 133,
          "f(z)": 0.00031478261369371547
         },
         {
          "Average Transaction Value (z)": 134,
          "f(z)": 0.0003059425238986255
         },
         {
          "Average Transaction Value (z)": 135,
          "f(z)": 0.00029739954136389995
         },
         {
          "Average Transaction Value (z)": 136,
          "f(z)": 0.00028914208610361815
         },
         {
          "Average Transaction Value (z)": 137,
          "f(z)": 0.0002811590895817882
         },
         {
          "Average Transaction Value (z)": 138,
          "f(z)": 0.000273439969569775
         },
         {
          "Average Transaction Value (z)": 139,
          "f(z)": 0.0002659746063595182
         },
         {
          "Average Transaction Value (z)": 140,
          "f(z)": 0.00025875332025327677
         },
         {
          "Average Transaction Value (z)": 141,
          "f(z)": 0.00025176685025569983
         },
         {
          "Average Transaction Value (z)": 142,
          "f(z)": 0.00024500633389861105
         },
         {
          "Average Transaction Value (z)": 143,
          "f(z)": 0.00023846328813321305
         },
         {
          "Average Transaction Value (z)": 144,
          "f(z)": 0.0002321295912284569
         },
         {
          "Average Transaction Value (z)": 145,
          "f(z)": 0.00022599746561805938
         },
         {
          "Average Transaction Value (z)": 146,
          "f(z)": 0.00022005946164229887
         },
         {
          "Average Transaction Value (z)": 147,
          "f(z)": 0.00021430844213381848
         },
         {
          "Average Transaction Value (z)": 148,
          "f(z)": 0.0002087375677999344
         },
         {
          "Average Transaction Value (z)": 149,
          "f(z)": 0.00020334028335670536
         },
         {
          "Average Transaction Value (z)": 150,
          "f(z)": 0.00019811030437277507
         },
         {
          "Average Transaction Value (z)": 151,
          "f(z)": 0.00019304160478352973
         },
         {
          "Average Transaction Value (z)": 152,
          "f(z)": 0.00018812840503838597
         },
         {
          "Average Transaction Value (z)": 153,
          "f(z)": 0.00018336516084637236
         },
         {
          "Average Transaction Value (z)": 154,
          "f(z)": 0.00017874655248713617
         },
         {
          "Average Transaction Value (z)": 155,
          "f(z)": 0.00017426747465646708
         },
         {
          "Average Transaction Value (z)": 156,
          "f(z)": 0.00016992302681728406
         },
         {
          "Average Transaction Value (z)": 157,
          "f(z)": 0.00016570850402869701
         },
         {
          "Average Transaction Value (z)": 158,
          "f(z)": 0.00016161938822735605
         },
         {
          "Average Transaction Value (z)": 159,
          "f(z)": 0.0001576513399368281
         },
         {
          "Average Transaction Value (z)": 160,
          "f(z)": 0.00015380019038211204
         },
         {
          "Average Transaction Value (z)": 161,
          "f(z)": 0.00015006193398773155
         },
         {
          "Average Transaction Value (z)": 162,
          "f(z)": 0.00014643272123908774
         },
         {
          "Average Transaction Value (z)": 163,
          "f(z)": 0.0001429088518879256
         },
         {
          "Average Transaction Value (z)": 164,
          "f(z)": 0.00013948676848381602
         },
         {
          "Average Transaction Value (z)": 165,
          "f(z)": 0.0001361630502146249
         },
         {
          "Average Transaction Value (z)": 166,
          "f(z)": 0.00013293440703989994
         },
         {
          "Average Transaction Value (z)": 167,
          "f(z)": 0.0001297976741019422
         },
         {
          "Average Transaction Value (z)": 168,
          "f(z)": 0.00012674980640029385
         },
         {
          "Average Transaction Value (z)": 169,
          "f(z)": 0.00012378787371607368
         },
         {
          "Average Transaction Value (z)": 170,
          "f(z)": 0.00012090905577337065
         },
         {
          "Average Transaction Value (z)": 171,
          "f(z)": 0.00011811063762564587
         },
         {
          "Average Transaction Value (z)": 172,
          "f(z)": 0.000115390005255717
         },
         {
          "Average Transaction Value (z)": 173,
          "f(z)": 0.00011274464137853763
         },
         {
          "Average Transaction Value (z)": 174,
          "f(z)": 0.00011017212143657347
         },
         {
          "Average Transaction Value (z)": 175,
          "f(z)": 0.00010767010977814442
         },
         {
          "Average Transaction Value (z)": 176,
          "f(z)": 0.00010523635600958991
         },
         {
          "Average Transaction Value (z)": 177,
          "f(z)": 0.00010286869151265396
         },
         {
          "Average Transaction Value (z)": 178,
          "f(z)": 0.00010056502611889139
         },
         {
          "Average Transaction Value (z)": 179,
          "f(z)": 0.00009832334493339352
         },
         {
          "Average Transaction Value (z)": 180,
          "f(z)": 0.00009614170530050257
         },
         {
          "Average Transaction Value (z)": 181,
          "f(z)": 0.00009401823390457944
         },
         {
          "Average Transaction Value (z)": 182,
          "f(z)": 0.00009195112399926675
         },
         {
          "Average Transaction Value (z)": 183,
          "f(z)": 0.00008993863275903446
         },
         {
          "Average Transaction Value (z)": 184,
          "f(z)": 0.00008797907874709056
         },
         {
          "Average Transaction Value (z)": 185,
          "f(z)": 0.00008607083949409958
         },
         {
          "Average Transaction Value (z)": 186,
          "f(z)": 0.00008421234918239704
         },
         {
          "Average Transaction Value (z)": 187,
          "f(z)": 0.00008240209643066781
         },
         {
          "Average Transaction Value (z)": 188,
          "f(z)": 0.00008063862217435637
         },
         {
          "Average Transaction Value (z)": 189,
          "f(z)": 0.00007892051763725559
         },
         {
          "Average Transaction Value (z)": 190,
          "f(z)": 0.00007724642239000558
         },
         {
          "Average Transaction Value (z)": 191,
          "f(z)": 0.00007561502249143362
         },
         {
          "Average Transaction Value (z)": 192,
          "f(z)": 0.00007402504870885995
         },
         {
          "Average Transaction Value (z)": 193,
          "f(z)": 0.00007247527481371565
         },
         {
          "Average Transaction Value (z)": 194,
          "f(z)": 0.00007096451594897379
         },
         {
          "Average Transaction Value (z)": 195,
          "f(z)": 0.00006949162706510225
         },
         {
          "Average Transaction Value (z)": 196,
          "f(z)": 0.00006805550142137924
         },
         {
          "Average Transaction Value (z)": 197,
          "f(z)": 0.00006665506914959354
         },
         {
          "Average Transaction Value (z)": 198,
          "f(z)": 0.0000652892958772811
         },
         {
          "Average Transaction Value (z)": 199,
          "f(z)": 0.00006395718140781386
         },
         {
          "Average Transaction Value (z)": 200,
          "f(z)": 0.00006265775845475243
         },
         {
          "Average Transaction Value (z)": 201,
          "f(z)": 0.00006139009142804328
         },
         {
          "Average Transaction Value (z)": 202,
          "f(z)": 0.00006015327526971862
         },
         {
          "Average Transaction Value (z)": 203,
          "f(z)": 0.00005894643433690739
         },
         {
          "Average Transaction Value (z)": 204,
          "f(z)": 0.00005776872133004202
         },
         {
          "Average Transaction Value (z)": 205,
          "f(z)": 0.00005661931626426297
         },
         {
          "Average Transaction Value (z)": 206,
          "f(z)": 0.00005549742548211818
         },
         {
          "Average Transaction Value (z)": 207,
          "f(z)": 0.00005440228070574485
         },
         {
          "Average Transaction Value (z)": 208,
          "f(z)": 0.00005333313812680114
         },
         {
          "Average Transaction Value (z)": 209,
          "f(z)": 0.0000522892775325004
         },
         {
          "Average Transaction Value (z)": 210,
          "f(z)": 0.00005127000146619143
         },
         {
          "Average Transaction Value (z)": 211,
          "f(z)": 0.00005027463442097776
         },
         {
          "Average Transaction Value (z)": 212,
          "f(z)": 0.0000493025220649597
         },
         {
          "Average Transaction Value (z)": 213,
          "f(z)": 0.00004835303049674018
         },
         {
          "Average Transaction Value (z)": 214,
          "f(z)": 0.00004742554552989761
         },
         {
          "Average Transaction Value (z)": 215,
          "f(z)": 0.00004651947200519783
         },
         {
          "Average Transaction Value (z)": 216,
          "f(z)": 0.0000456342331293596
         },
         {
          "Average Transaction Value (z)": 217,
          "f(z)": 0.000044769269839255945
         },
         {
          "Average Transaction Value (z)": 218,
          "f(z)": 0.00004392404019048514
         },
         {
          "Average Transaction Value (z)": 219,
          "f(z)": 0.000043098018769277846
         },
         {
          "Average Transaction Value (z)": 220,
          "f(z)": 0.000042290696126767006
         },
         {
          "Average Transaction Value (z)": 221,
          "f(z)": 0.00004150157823470062
         },
         {
          "Average Transaction Value (z)": 222,
          "f(z)": 0.00004073018596169584
         },
         {
          "Average Transaction Value (z)": 223,
          "f(z)": 0.000039976054569182924
         },
         {
          "Average Transaction Value (z)": 224,
          "f(z)": 0.000039238733226240594
         },
         {
          "Average Transaction Value (z)": 225,
          "f(z)": 0.000038517784542539865
         },
         {
          "Average Transaction Value (z)": 226,
          "f(z)": 0.000037812784118650804
         },
         {
          "Average Transaction Value (z)": 227,
          "f(z)": 0.00003712332011301821
         },
         {
          "Average Transaction Value (z)": 228,
          "f(z)": 0.00003644899282491719
         },
         {
          "Average Transaction Value (z)": 229,
          "f(z)": 0.00003578941429274924
         },
         {
          "Average Transaction Value (z)": 230,
          "f(z)": 0.0000351442079070586
         },
         {
          "Average Transaction Value (z)": 231,
          "f(z)": 0.0000345130080376751
         },
         {
          "Average Transaction Value (z)": 232,
          "f(z)": 0.000033895459674428194
         },
         {
          "Average Transaction Value (z)": 233,
          "f(z)": 0.0000332912180808755
         },
         {
          "Average Transaction Value (z)": 234,
          "f(z)": 0.00003269994846054511
         },
         {
          "Average Transaction Value (z)": 235,
          "f(z)": 0.000032121325635183036
         },
         {
          "Average Transaction Value (z)": 236,
          "f(z)": 0.00003155503373454265
         },
         {
          "Average Transaction Value (z)": 237,
          "f(z)": 0.00003100076589725571
         },
         {
          "Average Transaction Value (z)": 238,
          "f(z)": 0.000030458223982354903
         },
         {
          "Average Transaction Value (z)": 239,
          "f(z)": 0.000029927118291027693
         },
         {
          "Average Transaction Value (z)": 240,
          "f(z)": 0.000029407167298210368
         },
         {
          "Average Transaction Value (z)": 241,
          "f(z)": 0.00002889809739363552
         },
         {
          "Average Transaction Value (z)": 242,
          "f(z)": 0.000028399642631969754
         },
         {
          "Average Transaction Value (z)": 243,
          "f(z)": 0.000027911544491690397
         },
         {
          "Average Transaction Value (z)": 244,
          "f(z)": 0.00002743355164237131
         },
         {
          "Average Transaction Value (z)": 245,
          "f(z)": 0.00002696541972004832
         },
         {
          "Average Transaction Value (z)": 246,
          "f(z)": 0.00002650691111036252
         },
         {
          "Average Transaction Value (z)": 247,
          "f(z)": 0.000026057794739186896
         },
         {
          "Average Transaction Value (z)": 248,
          "f(z)": 0.000025617845870445165
         },
         {
          "Average Transaction Value (z)": 249,
          "f(z)": 0.00002518684591086293
         },
         {
          "Average Transaction Value (z)": 250,
          "f(z)": 0.000024764582221384625
         },
         {
          "Average Transaction Value (z)": 251,
          "f(z)": 0.000024350847935002593
         },
         {
          "Average Transaction Value (z)": 252,
          "f(z)": 0.0000239454417807699
         },
         {
          "Average Transaction Value (z)": 253,
          "f(z)": 0.00002354816791375635
         },
         {
          "Average Transaction Value (z)": 254,
          "f(z)": 0.000023158835750734827
         },
         {
          "Average Transaction Value (z)": 255,
          "f(z)": 0.000022777259811381355
         },
         {
          "Average Transaction Value (z)": 256,
          "f(z)": 0.000022403259564789356
         },
         {
          "Average Transaction Value (z)": 257,
          "f(z)": 0.000022036659281099962
         },
         {
          "Average Transaction Value (z)": 258,
          "f(z)": 0.000021677287888064552
         },
         {
          "Average Transaction Value (z)": 259,
          "f(z)": 0.00002132497883235814
         },
         {
          "Average Transaction Value (z)": 260,
          "f(z)": 0.000020979569945470336
         },
         {
          "Average Transaction Value (z)": 261,
          "f(z)": 0.000020640903314008682
         },
         {
          "Average Transaction Value (z)": 262,
          "f(z)": 0.000020308825154255108
         },
         {
          "Average Transaction Value (z)": 263,
          "f(z)": 0.00001998318569082588
         },
         {
          "Average Transaction Value (z)": 264,
          "f(z)": 0.000019663839039278818
         },
         {
          "Average Transaction Value (z)": 265,
          "f(z)": 0.00001935064309253864
         },
         {
          "Average Transaction Value (z)": 266,
          "f(z)": 0.000019043459410993924
         },
         {
          "Average Transaction Value (z)": 267,
          "f(z)": 0.000018742153116142233
         },
         {
          "Average Transaction Value (z)": 268,
          "f(z)": 0.000018446592787654635
         },
         {
          "Average Transaction Value (z)": 269,
          "f(z)": 0.00001815665036373985
         },
         {
          "Average Transaction Value (z)": 270,
          "f(z)": 0.000017872201044691675
         },
         {
          "Average Transaction Value (z)": 271,
          "f(z)": 0.000017593123199507585
         },
         {
          "Average Transaction Value (z)": 272,
          "f(z)": 0.000017319298275474186
         },
         {
          "Average Transaction Value (z)": 273,
          "f(z)": 0.000017050610710610356
         },
         {
          "Average Transaction Value (z)": 274,
          "f(z)": 0.0000167869478488762
         },
         {
          "Average Transaction Value (z)": 275,
          "f(z)": 0.00001652819985804498
         },
         {
          "Average Transaction Value (z)": 276,
          "f(z)": 0.00001627425965015081
         },
         {
          "Average Transaction Value (z)": 277,
          "f(z)": 0.000016025022804423023
         },
         {
          "Average Transaction Value (z)": 278,
          "f(z)": 0.000015780387492618604
         },
         {
          "Average Transaction Value (z)": 279,
          "f(z)": 0.000015540254406675743
         },
         {
          "Average Transaction Value (z)": 280,
          "f(z)": 0.000015304526688604416
         },
         {
          "Average Transaction Value (z)": 281,
          "f(z)": 0.00001507310986254269
         },
         {
          "Average Transaction Value (z)": 282,
          "f(z)": 0.000014845911768901744
         },
         {
          "Average Transaction Value (z)": 283,
          "f(z)": 0.000014622842500529219
         },
         {
          "Average Transaction Value (z)": 284,
          "f(z)": 0.000014403814340827856
         },
         {
          "Average Transaction Value (z)": 285,
          "f(z)": 0.000014188741703756618
         },
         {
          "Average Transaction Value (z)": 286,
          "f(z)": 0.000013977541075656285
         },
         {
          "Average Transaction Value (z)": 287,
          "f(z)": 0.000013770130958837597
         },
         {
          "Average Transaction Value (z)": 288,
          "f(z)": 0.00001356643181687195
         },
         {
          "Average Transaction Value (z)": 289,
          "f(z)": 0.000013366366021530265
         },
         {
          "Average Transaction Value (z)": 290,
          "f(z)": 0.000013169857801314369
         },
         {
          "Average Transaction Value (z)": 291,
          "f(z)": 0.000012976833191527557
         },
         {
          "Average Transaction Value (z)": 292,
          "f(z)": 0.000012787219985836159
         },
         {
          "Average Transaction Value (z)": 293,
          "f(z)": 0.000012600947689271413
         },
         {
          "Average Transaction Value (z)": 294,
          "f(z)": 0.000012417947472624942
         },
         {
          "Average Transaction Value (z)": 295,
          "f(z)": 0.000012238152128192812
         },
         {
          "Average Transaction Value (z)": 296,
          "f(z)": 0.00001206149602682386
         },
         {
          "Average Transaction Value (z)": 297,
          "f(z)": 0.000011887915076232208
         },
         {
          "Average Transaction Value (z)": 298,
          "f(z)": 0.000011717346680527916
         },
         {
          "Average Transaction Value (z)": 299,
          "f(z)": 0.000011549729700934251
         },
         {
          "Average Transaction Value (z)": 300,
          "f(z)": 0.000011385004417645898
         }
        ]
       },
       "height": 400,
       "layer": [
        {
         "data": {
          "name": "data-03be1b3f07ad9cf7bcb5e3c56a9f437f"
         },
         "encoding": {
          "x": {
           "axis": {
            "labelExpr": "\"$\"+datum.value",
            "values": [
             0,
             50,
             100,
             150,
             200,
             250,
             300
            ]
           },
           "field": "Average Transaction Value (z)",
           "type": "quantitative"
          },
          "y": {
           "field": "f(z)",
           "scale": {
            "domain": [
             0,
             0.04
            ]
           },
           "type": "quantitative"
          }
         },
         "mark": {
          "type": "line"
         }
        },
        {
         "data": {
          "name": "data-f4b31f397fe975e63ae8a321b87b060e"
         },
         "encoding": {
          "x": {
           "axis": {
            "labelExpr": "\"$\"+datum.value",
            "values": [
             0,
             50,
             100,
             150,
             200,
             250,
             300
            ]
           },
           "field": "Average Transaction Value (z)",
           "type": "quantitative"
          },
          "y": {
           "field": "f(z)",
           "scale": {
            "domain": [
             0,
             0.04
            ]
           },
           "type": "quantitative"
          }
         },
         "mark": {
          "strokeDash": [
           4,
           4
          ],
          "type": "line"
         }
        }
       ],
       "title": "Observed versus theoretical distribution of average transaction value across customers",
       "width": 500
      },
      "text/plain": [
       "<VegaLite 5 object>\n",
       "\n",
       "If you see this message, it means the renderer has not been properly enabled\n",
       "for the frontend that you are using. For more information, see\n",
       "https://altair-viz.github.io/user_guide/display_frontends.html#troubleshooting\n"
      ]
     },
     "execution_count": 11,
     "metadata": {},
     "output_type": "execute_result"
    }
   ],
   "source": [
    "est_dist_plot = (\n",
    "    alt.Chart(pl.DataFrame({'Average Transaction Value (z)': np.arange(300) + 1, 'f(z)': g}))\n",
    "    .mark_line(strokeDash=[4,4]).encode(\n",
    "        x=alt.X('Average Transaction Value (z)', axis=alt.Axis(values=np.arange(0, 301, 50), labelExpr='\"$\"+datum.value')),\n",
    "        y=alt.Y('f(z)', scale=alt.Scale(domain=[0, 0.04]))\n",
    "    )\n",
    ")\n",
    "\n",
    "chart = act_dist_plot + est_dist_plot\n",
    "\n",
    "chart.properties(\n",
    "            width=500,\n",
    "            height=400,\n",
    "            title='Observed versus theoretical distribution of average transaction value across customers'\n",
    ").configure_view(stroke=None).configure_axisY(grid=False).configure_axisX(grid=False) "
   ]
  },
  {
   "cell_type": "markdown",
   "metadata": {},
   "source": [
    "### Computing Conditional Expectations"
   ]
  },
  {
   "cell_type": "code",
   "execution_count": 12,
   "metadata": {},
   "outputs": [
    {
     "data": {
      "text/html": [
       "<div><style>\n",
       ".dataframe > thead > tr,\n",
       ".dataframe > tbody > tr {\n",
       "  text-align: right;\n",
       "  white-space: pre-wrap;\n",
       "}\n",
       "</style>\n",
       "<small>shape: (2_357, 5)</small><table border=\"1\" class=\"dataframe\"><thead><tr><th>ID</th><th>P1X</th><th>zbar</th><th>Weight</th><th>E(Z|x,zbar)</th></tr><tr><td>i32</td><td>u32</td><td>f64</td><td>f64</td><td>f64</td></tr></thead><tbody><tr><td>1</td><td>2</td><td>2234.5</td><td>0.179989</td><td>24.65348</td></tr><tr><td>2</td><td>1</td><td>1177.0</td><td>0.30507</td><td>18.908823</td></tr><tr><td>3</td><td>0</td><td>0.0</td><td>1.0</td><td>35.170642</td></tr><tr><td>4</td><td>0</td><td>0.0</td><td>1.0</td><td>35.170642</td></tr><tr><td>5</td><td>0</td><td>0.0</td><td>1.0</td><td>35.170642</td></tr><tr><td>&hellip;</td><td>&hellip;</td><td>&hellip;</td><td>&hellip;</td><td>&hellip;</td></tr><tr><td>2353</td><td>0</td><td>0.0</td><td>1.0</td><td>35.170642</td></tr><tr><td>2354</td><td>5</td><td>4492.8</td><td>0.080712</td><td>44.140463</td></tr><tr><td>2355</td><td>0</td><td>0.0</td><td>1.0</td><td>35.170642</td></tr><tr><td>2356</td><td>4</td><td>3331.75</td><td>0.098895</td><td>33.500766</td></tr><tr><td>2357</td><td>0</td><td>0.0</td><td>1.0</td><td>35.170642</td></tr></tbody></table></div>"
      ],
      "text/plain": [
       "shape: (2_357, 5)\n",
       "┌──────┬─────┬─────────┬──────────┬─────────────┐\n",
       "│ ID   ┆ P1X ┆ zbar    ┆ Weight   ┆ E(Z|x,zbar) │\n",
       "│ ---  ┆ --- ┆ ---     ┆ ---      ┆ ---         │\n",
       "│ i32  ┆ u32 ┆ f64     ┆ f64      ┆ f64         │\n",
       "╞══════╪═════╪═════════╪══════════╪═════════════╡\n",
       "│ 1    ┆ 2   ┆ 2234.5  ┆ 0.179989 ┆ 24.65348    │\n",
       "│ 2    ┆ 1   ┆ 1177.0  ┆ 0.30507  ┆ 18.908823   │\n",
       "│ 3    ┆ 0   ┆ 0.0     ┆ 1.0      ┆ 35.170642   │\n",
       "│ 4    ┆ 0   ┆ 0.0     ┆ 1.0      ┆ 35.170642   │\n",
       "│ 5    ┆ 0   ┆ 0.0     ┆ 1.0      ┆ 35.170642   │\n",
       "│ …    ┆ …   ┆ …       ┆ …        ┆ …           │\n",
       "│ 2353 ┆ 0   ┆ 0.0     ┆ 1.0      ┆ 35.170642   │\n",
       "│ 2354 ┆ 5   ┆ 4492.8  ┆ 0.080712 ┆ 44.140463   │\n",
       "│ 2355 ┆ 0   ┆ 0.0     ┆ 1.0      ┆ 35.170642   │\n",
       "│ 2356 ┆ 4   ┆ 3331.75 ┆ 0.098895 ┆ 33.500766   │\n",
       "│ 2357 ┆ 0   ┆ 0.0     ┆ 1.0      ┆ 35.170642   │\n",
       "└──────┴─────┴─────────┴──────────┴─────────────┘"
      ]
     },
     "execution_count": 12,
     "metadata": {},
     "output_type": "execute_result"
    }
   ],
   "source": [
    "E_Z = p*gamma/(q-1)\n",
    "\n",
    "ce = (\n",
    "    cdnow.rfm_summary()\n",
    "    .select('ID', 'P1X', 'zbar')   \n",
    "    .with_columns(((q - 1)/(p * pl.col('P1X') + q - 1)).alias('Weight'))\n",
    "    .with_columns((pl.col('Weight')*E_Z+(1-pl.col('Weight'))*pl.col('zbar')/100).alias('E(Z|x,zbar)'))\n",
    ")\n",
    "\n",
    "ce.collect()"
   ]
  }
 ],
 "metadata": {
  "kernelspec": {
   "display_name": "Main (venv)",
   "language": "python",
   "name": ".venv"
  },
  "language_info": {
   "codemirror_mode": {
    "name": "ipython",
    "version": 3
   },
   "file_extension": ".py",
   "mimetype": "text/x-python",
   "name": "python",
   "nbconvert_exporter": "python",
   "pygments_lexer": "ipython3",
   "version": "3.13.1"
  }
 },
 "nbformat": 4,
 "nbformat_minor": 2
}
