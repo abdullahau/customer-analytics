{
 "cells": [
  {
   "cell_type": "code",
   "execution_count": 1,
   "metadata": {},
   "outputs": [],
   "source": [
    "import polars as pl\n",
    "from great_tables import GT\n",
    "import numpy as np\n",
    "import gc"
   ]
  },
  {
   "cell_type": "code",
   "execution_count": 2,
   "metadata": {},
   "outputs": [],
   "source": [
    "import altair as alt\n",
    "import plotly.express as px"
   ]
  },
  {
   "cell_type": "code",
   "execution_count": 3,
   "metadata": {},
   "outputs": [],
   "source": [
    "grocery_df = pl.scan_csv(source=\"data/panel-datasets/edible_grocery.csv\", \n",
    "                         has_header=True, \n",
    "                         separator=\",\", \n",
    "                         schema_overrides={'panel_id': pl.Int32,\n",
    "                                           'trans_id': pl.Int32,\n",
    "                                           'week': pl.Int16,\n",
    "                                           'sku_id': pl.Categorical,\n",
    "                                           'units': pl.Int16,\n",
    "                                           'price': pl.Float32,\n",
    "                                           'brand': pl.Categorical})"
   ]
  },
  {
   "cell_type": "code",
   "execution_count": 4,
   "metadata": {},
   "outputs": [],
   "source": [
    "grocery_df = pl.scan_csv(source=\"data/panel-datasets/sku_weight.csv\", \n",
    "                         has_header=True, \n",
    "                         separator=\",\", \n",
    "                         schema_overrides={'sku_id': pl.Int32,\n",
    "                                           'weight': pl.Int16})"
   ]
  },
  {
   "cell_type": "code",
   "execution_count": 5,
   "metadata": {},
   "outputs": [],
   "source": [
    "kiwi_df = pl.scan_csv(source=\"data/panel-datasets/kiwibubbles_trans.csv\", \n",
    "                      has_header=True, \n",
    "                      separator=\",\", \n",
    "                      schema_overrides={'ID': pl.Int16,\n",
    "                                        'Market': pl.Categorical,\n",
    "                                        'Day': pl.Int16,\n",
    "                                        'Units': pl.Int16})"
   ]
  }
 ],
 "metadata": {
  "kernelspec": {
   "display_name": ".venv",
   "language": "python",
   "name": "python3"
  },
  "language_info": {
   "codemirror_mode": {
    "name": "ipython",
    "version": 3
   },
   "file_extension": ".py",
   "mimetype": "text/x-python",
   "name": "python",
   "nbconvert_exporter": "python",
   "pygments_lexer": "ipython3",
   "version": "3.13.0"
  }
 },
 "nbformat": 4,
 "nbformat_minor": 2
}
