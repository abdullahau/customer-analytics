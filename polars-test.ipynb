{
 "cells": [
  {
   "cell_type": "markdown",
   "metadata": {},
   "source": [
    "### Imports"
   ]
  },
  {
   "cell_type": "code",
   "execution_count": 1,
   "metadata": {},
   "outputs": [
    {
     "name": "stdout",
     "output_type": "stream",
     "text": [
      "<function TypedDict at 0x105428c20>\n"
     ]
    }
   ],
   "source": [
    "from typing import TypedDict\n",
    "print(TypedDict)"
   ]
  },
  {
   "cell_type": "code",
   "execution_count": 2,
   "metadata": {},
   "outputs": [],
   "source": [
    "import polars as pl\n",
    "from great_tables import GT\n",
    "import numpy as np\n",
    "import gc"
   ]
  },
  {
   "cell_type": "code",
   "execution_count": 3,
   "metadata": {},
   "outputs": [],
   "source": [
    "import altair as alt\n",
    "# import plotly.express as px"
   ]
  },
  {
   "cell_type": "markdown",
   "metadata": {},
   "source": [
    "#### Import Panel Data"
   ]
  },
  {
   "cell_type": "code",
   "execution_count": 4,
   "metadata": {},
   "outputs": [],
   "source": [
    "grocery_df = pl.scan_csv(source=\"data/panel-datasets/edible_grocery.csv\", \n",
    "                         has_header=True, \n",
    "                         separator=\",\", \n",
    "                         schema_overrides={'panel_id': pl.Int32,\n",
    "                                           'trans_id': pl.Int32,\n",
    "                                           'week': pl.Int16,\n",
    "                                           'sku_id': pl.Categorical,\n",
    "                                           'units': pl.Int16,\n",
    "                                           'price': pl.Float32,\n",
    "                                           'brand': pl.Categorical})"
   ]
  },
  {
   "cell_type": "code",
   "execution_count": 5,
   "metadata": {},
   "outputs": [],
   "source": [
    "sku_df = pl.scan_csv(source=\"data/panel-datasets/sku_weight.csv\", \n",
    "                         has_header=True, \n",
    "                         separator=\",\", \n",
    "                         schema_overrides={'sku_id': pl.Int32,\n",
    "                                           'weight': pl.Int16})"
   ]
  },
  {
   "cell_type": "code",
   "execution_count": 6,
   "metadata": {},
   "outputs": [],
   "source": [
    "kiwi_df = pl.scan_csv(source=\"data/panel-datasets/kiwibubbles_trans.csv\", \n",
    "                      has_header=True, \n",
    "                      separator=\",\", \n",
    "                      schema_overrides={'ID': pl.Int16,\n",
    "                                        'Market': pl.Categorical,\n",
    "                                        'Day': pl.Int16,\n",
    "                                        'Units': pl.Int16})"
   ]
  },
  {
   "cell_type": "markdown",
   "metadata": {},
   "source": [
    "### Preliminaries"
   ]
  },
  {
   "cell_type": "markdown",
   "metadata": {},
   "source": [
    "#### Weekly Sales Pattern"
   ]
  },
  {
   "cell_type": "code",
   "execution_count": 7,
   "metadata": {},
   "outputs": [
    {
     "data": {
      "text/html": [
       "<div><style>\n",
       ".dataframe > thead > tr,\n",
       ".dataframe > tbody > tr {\n",
       "  text-align: right;\n",
       "  white-space: pre-wrap;\n",
       "}\n",
       "</style>\n",
       "<small>shape: (104, 6)</small><table border=\"1\" class=\"dataframe\"><thead><tr><th>week</th><th>Alpha</th><th>Bravo</th><th>Charlie</th><th>Delta</th><th>Other</th></tr><tr><td>i16</td><td>f64</td><td>f64</td><td>f64</td><td>f64</td><td>f64</td></tr></thead><tbody><tr><td>1</td><td>331.459999</td><td>247.780003</td><td>51.79</td><td>17.64</td><td>18.75</td></tr><tr><td>2</td><td>567.249997</td><td>398.640007</td><td>45.43</td><td>34.19</td><td>23.23</td></tr><tr><td>3</td><td>497.969999</td><td>639.980008</td><td>51.11</td><td>39.39</td><td>14.55</td></tr><tr><td>4</td><td>1389.960004</td><td>472.500004</td><td>51.87</td><td>85.04</td><td>39.779999</td></tr><tr><td>5</td><td>358.239999</td><td>252.540003</td><td>40.21</td><td>69.54</td><td>45.93</td></tr><tr><td>&hellip;</td><td>&hellip;</td><td>&hellip;</td><td>&hellip;</td><td>&hellip;</td><td>&hellip;</td></tr><tr><td>100</td><td>692.480006</td><td>420.479996</td><td>69.600001</td><td>54.590001</td><td>47.97</td></tr><tr><td>101</td><td>265.770002</td><td>264.659999</td><td>64.030001</td><td>35.05</td><td>26.88</td></tr><tr><td>102</td><td>379.610005</td><td>456.78999</td><td>43.5</td><td>20.4</td><td>43.61</td></tr><tr><td>103</td><td>532.500005</td><td>440.999996</td><td>76.400001</td><td>40.44</td><td>45.55</td></tr><tr><td>104</td><td>394.890003</td><td>233.189998</td><td>53.18</td><td>68.260001</td><td>36.679999</td></tr></tbody></table></div>"
      ],
      "text/plain": [
       "shape: (104, 6)\n",
       "┌──────┬─────────────┬────────────┬───────────┬───────────┬───────────┐\n",
       "│ week ┆ Alpha       ┆ Bravo      ┆ Charlie   ┆ Delta     ┆ Other     │\n",
       "│ ---  ┆ ---         ┆ ---        ┆ ---       ┆ ---       ┆ ---       │\n",
       "│ i16  ┆ f64         ┆ f64        ┆ f64       ┆ f64       ┆ f64       │\n",
       "╞══════╪═════════════╪════════════╪═══════════╪═══════════╪═══════════╡\n",
       "│ 1    ┆ 331.459999  ┆ 247.780003 ┆ 51.79     ┆ 17.64     ┆ 18.75     │\n",
       "│ 2    ┆ 567.249997  ┆ 398.640007 ┆ 45.43     ┆ 34.19     ┆ 23.23     │\n",
       "│ 3    ┆ 497.969999  ┆ 639.980008 ┆ 51.11     ┆ 39.39     ┆ 14.55     │\n",
       "│ 4    ┆ 1389.960004 ┆ 472.500004 ┆ 51.87     ┆ 85.04     ┆ 39.779999 │\n",
       "│ 5    ┆ 358.239999  ┆ 252.540003 ┆ 40.21     ┆ 69.54     ┆ 45.93     │\n",
       "│ …    ┆ …           ┆ …          ┆ …         ┆ …         ┆ …         │\n",
       "│ 100  ┆ 692.480006  ┆ 420.479996 ┆ 69.600001 ┆ 54.590001 ┆ 47.97     │\n",
       "│ 101  ┆ 265.770002  ┆ 264.659999 ┆ 64.030001 ┆ 35.05     ┆ 26.88     │\n",
       "│ 102  ┆ 379.610005  ┆ 456.78999  ┆ 43.5      ┆ 20.4      ┆ 43.61     │\n",
       "│ 103  ┆ 532.500005  ┆ 440.999996 ┆ 76.400001 ┆ 40.44     ┆ 45.55     │\n",
       "│ 104  ┆ 394.890003  ┆ 233.189998 ┆ 53.18     ┆ 68.260001 ┆ 36.679999 │\n",
       "└──────┴─────────────┴────────────┴───────────┴───────────┴───────────┘"
      ]
     },
     "execution_count": 7,
     "metadata": {},
     "output_type": "execute_result"
    }
   ],
   "source": [
    "grocery_df = grocery_df.with_columns(\n",
    "    ((pl.col('units') * pl.col('price')).cast(pl.Float64)).alias('spend')\n",
    ")\n",
    "\n",
    "result = (\n",
    "    grocery_df\n",
    "    .group_by([\"week\", \"brand\"])\n",
    "    .agg(\n",
    "        pl.col(\"spend\").sum().alias('Total Spend')\n",
    "    )\n",
    ")\n",
    "\n",
    "pivot_result = result.collect().pivot(\n",
    "    on=\"brand\",       # Columns (unique brands)\n",
    "    values=\"Total Spend\",  # Values to pivot\n",
    "    index=\"week\",          # Rows (index)\n",
    "    aggregate_function=None  # No further aggregation since we've already summed\n",
    ").sort(\"week\")\n",
    "\n",
    "sorted_columns = [\"week\"] + sorted([col for col in pivot_result.columns if col != \"week\"])\n",
    "pivot_result = pivot_result.select(sorted_columns)\n",
    "pivot_result"
   ]
  }
 ],
 "metadata": {
  "kernelspec": {
   "display_name": ".venv",
   "language": "python",
   "name": "python3"
  },
  "language_info": {
   "codemirror_mode": {
    "name": "ipython",
    "version": 3
   },
   "file_extension": ".py",
   "mimetype": "text/x-python",
   "name": "python",
   "nbconvert_exporter": "python",
   "pygments_lexer": "ipython3",
   "version": "3.13.0"
  }
 },
 "nbformat": 4,
 "nbformat_minor": 2
}
