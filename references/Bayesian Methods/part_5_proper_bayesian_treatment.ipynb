{
  "nbformat": 4,
  "nbformat_minor": 0,
  "metadata": {
    "colab": {
      "provenance": []
    },
    "kernelspec": {
      "name": "python3",
      "display_name": "Python 3"
    },
    "language_info": {
      "name": "python"
    }
  },
  "cells": [
    {
      "cell_type": "code",
      "metadata": {
        "id": "EfG-pGDQkJnO"
      },
      "source": [
        "import os\n",
        "import functools\n",
        "import numpy as np\n",
        "\n",
        "import pandas as pd\n",
        "import matplotlib.pyplot as plt\n",
        "\n",
        "from sklearn.preprocessing import PolynomialFeatures\n",
        "\n",
        "plt.rcParams[\"axes.spines.right\"] = False\n",
        "plt.rcParams[\"axes.spines.top\"] = False"
      ],
      "execution_count": null,
      "outputs": []
    },
    {
      "cell_type": "code",
      "metadata": {
        "id": "plHz0yxwkL5K"
      },
      "source": [
        "N = 10\n",
        "SEED = 1234\n",
        "SCALE = 0.25\n",
        "\n",
        "np.random.seed(SEED)\n",
        "\n",
        "def true_fun(x):\n",
        "  return np.sin(2 * np.pi * x)\n",
        "\n",
        "def generate_noisy_data(x, scale=SCALE):\n",
        "  y = true_fun(x) + np.random.normal(scale=scale, size=x.shape)\n",
        "  return y\n",
        "\n",
        "x_plot = np.arange(0, 1.01, 0.01)\n",
        "y_plot = true_fun(x_plot)\n",
        "\n",
        "# points with noise, will act as train data\n",
        "x_train = np.linspace(0, 1, N)\n",
        "y_train = generate_noisy_data(x_train)"
      ],
      "execution_count": null,
      "outputs": []
    },
    {
      "cell_type": "code",
      "metadata": {
        "id": "ak-fjN9FkSzZ"
      },
      "source": [
        "def transform_features(X, m):\n",
        "  \"\"\" Create a polynomial of specified degrees \"\"\"\n",
        "  return PolynomialFeatures(degree=m).fit_transform(X.reshape(-1, 1))"
      ],
      "execution_count": null,
      "outputs": []
    },
    {
      "cell_type": "code",
      "metadata": {
        "id": "xszvXJZakkRU"
      },
      "source": [
        "x_test = np.arange(0, 1.01, 0.01)\n",
        "y_test = generate_noisy_data(x_test)"
      ],
      "execution_count": null,
      "outputs": []
    },
    {
      "cell_type": "code",
      "metadata": {
        "id": "qdhrCBeqkWLm"
      },
      "source": [
        "features_train_m_9 = transform_features(x_train, m=9)\n",
        "features_test_m_9 = transform_features(x_test, m=9)"
      ],
      "execution_count": null,
      "outputs": []
    },
    {
      "cell_type": "code",
      "metadata": {
        "id": "4DjsY5toknxn"
      },
      "source": [
        "# values specified in figure 1.17\n",
        "\n",
        "alpha = 5e-3\n",
        "beta = 11.1\n",
        "\n",
        "# First compute S (eq 1.72)\n",
        "S_inv = alpha * np.eye(\n",
        "            features_train_m_9.shape[1],\n",
        "            features_train_m_9.shape[1]) +\n",
        "            beta * (features_train_m_9.T @ features_train_m_9)\n",
        "\n",
        "# posterior covariance matrix\n",
        "S = np.linalg.inv(S_inv)\n",
        "# posterior mean\n",
        "mean = beta * S @ features_train_m_9.T @ y_train"
      ],
      "execution_count": null,
      "outputs": []
    },
    {
      "cell_type": "code",
      "metadata": {
        "id": "uNuV_3UOkqwO"
      },
      "source": [
        "# The prediction on test data\n",
        "#\n",
        "# We here compute the mean and variance of each point\n",
        "y_pred_mean = features_test_m_9 @ mean\n",
        "y_pred_var = 1/beta + np.sum(features_test_m_9 @ S * features_test_m_9, axis=1)"
      ],
      "execution_count": null,
      "outputs": []
    },
    {
      "cell_type": "code",
      "metadata": {
        "colab": {
          "base_uri": "https://localhost:8080/",
          "height": 270
        },
        "id": "2tXhl7_3kuNl",
        "outputId": "c0adff3e-4229-4d20-8bc8-c735bde9a79d"
      },
      "source": [
        "plt.scatter(x_train, y_train, facecolor=\"none\", edgecolor=\"b\", s=50, label=\"training data\")\n",
        "plt.plot(x_plot, y_plot, c=\"g\", label=\"$\\sin(2\\pi x)$\")\n",
        "plt.plot(x_test, y_pred_mean, c=\"r\", label=\"mean\")\n",
        "plt.fill_between(x_test, y_pred_mean - np.sqrt(y_pred_var), y_pred_mean + np.sqrt(y_pred_var), color=\"pink\", label=\"std.\", alpha=0.5)\n",
        "plt.xlim(-0.1, 1.1)\n",
        "plt.ylim(-1.5, 1.5)\n",
        "plt.annotate(\"M=9\", xy=(0.8, 1))\n",
        "plt.legend(bbox_to_anchor=(1.05, 1.), loc=2, borderaxespad=0.);"
      ],
      "execution_count": null,
      "outputs": [
        {
          "output_type": "display_data",
          "data": {
            "image/png": "[encoded data removed]",
            "text/plain": [
              "<Figure size 432x288 with 1 Axes>"
            ]
          },
          "metadata": {
            "tags": [],
            "needs_background": "light"
          }
        }
      ]
    },
    {
      "cell_type": "code",
      "metadata": {
        "id": "VZA6sq_6kxRv"
      },
      "source": [],
      "execution_count": null,
      "outputs": []
    }
  ]
}