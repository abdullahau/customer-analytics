{
 "cells": [
  {
   "cell_type": "markdown",
   "metadata": {},
   "source": [
    "### Imports"
   ]
  },
  {
   "cell_type": "code",
   "execution_count": 2,
   "metadata": {},
   "outputs": [],
   "source": [
    "import numpy as np\n",
    "import pandas as pd\n",
    "import matplotlib.pyplot as plt"
   ]
  },
  {
   "cell_type": "markdown",
   "metadata": {},
   "source": [
    "### Context"
   ]
  },
  {
   "cell_type": "markdown",
   "metadata": {},
   "source": [
    "- **Customer centricity**: need to measure and manage customer value\n",
    "- CLV is important, but it requires a **statistical model** \n",
    "- Valuable to have **auditable performance measures**"
   ]
  },
  {
   "cell_type": "markdown",
   "metadata": {},
   "source": [
    "#### Key Performance Indicators (KPIs)"
   ]
  },
  {
   "cell_type": "markdown",
   "metadata": {},
   "source": [
    "Calculate “from scratch”: \n",
    "1. Monthly sales over time\n",
    "2. Total customers acquired \n",
    "3. Customer acquisition cost (CAC)\n",
    "4. Distribution of spend per purchase\n",
    "5. Initial versus repeat sales volume\n",
    "6. Initial versus repeat average order value (AOV)\n",
    "7. Sales and AOV by source\n",
    "8. First-purchase profitability\n",
    "9. Cohorted sales (the “C3”)\n",
    "10. Revenue retention curves\n",
    "11. Cumulative spend per customer\n",
    "12. Distribution of total spend by customer\n",
    "13. Customer concentration (“Pareto”) chart \n",
    "\n",
    "What they summarize: \n",
    "1. Growth\n",
    "2. Unit costs\n",
    "3. Unit profitability (unit economic performance)\n",
    "4. Retention\n",
    "5. Heterogeneity (customers, time)"
   ]
  },
  {
   "cell_type": "markdown",
   "metadata": {},
   "source": [
    "### Analysis"
   ]
  },
  {
   "cell_type": "markdown",
   "metadata": {},
   "source": [
    "#### Input Transaction Logs Data"
   ]
  },
  {
   "cell_type": "code",
   "execution_count": 92,
   "metadata": {},
   "outputs": [
    {
     "data": {
      "text/html": [
       "<div>\n",
       "<style scoped>\n",
       "    .dataframe tbody tr th:only-of-type {\n",
       "        vertical-align: middle;\n",
       "    }\n",
       "\n",
       "    .dataframe tbody tr th {\n",
       "        vertical-align: top;\n",
       "    }\n",
       "\n",
       "    .dataframe thead th {\n",
       "        text-align: right;\n",
       "    }\n",
       "</style>\n",
       "<table border=\"1\" class=\"dataframe\">\n",
       "  <thead>\n",
       "    <tr style=\"text-align: right;\">\n",
       "      <th></th>\n",
       "      <th>cust_id</th>\n",
       "      <th>net_sales</th>\n",
       "    </tr>\n",
       "    <tr>\n",
       "      <th>order_date</th>\n",
       "      <th></th>\n",
       "      <th></th>\n",
       "    </tr>\n",
       "  </thead>\n",
       "  <tbody>\n",
       "    <tr>\n",
       "      <th>2018-02-16</th>\n",
       "      <td>cust16647</td>\n",
       "      <td>108.784</td>\n",
       "    </tr>\n",
       "    <tr>\n",
       "      <th>2018-03-28</th>\n",
       "      <td>cust17852</td>\n",
       "      <td>117.000</td>\n",
       "    </tr>\n",
       "    <tr>\n",
       "      <th>2018-09-27</th>\n",
       "      <td>cust17852</td>\n",
       "      <td>315.900</td>\n",
       "    </tr>\n",
       "    <tr>\n",
       "      <th>2019-03-08</th>\n",
       "      <td>cust17852</td>\n",
       "      <td>159.250</td>\n",
       "    </tr>\n",
       "    <tr>\n",
       "      <th>2016-05-18</th>\n",
       "      <td>cust588</td>\n",
       "      <td>298.350</td>\n",
       "    </tr>\n",
       "  </tbody>\n",
       "</table>\n",
       "</div>"
      ],
      "text/plain": [
       "              cust_id  net_sales\n",
       "order_date                      \n",
       "2018-02-16  cust16647    108.784\n",
       "2018-03-28  cust17852    117.000\n",
       "2018-09-27  cust17852    315.900\n",
       "2019-03-08  cust17852    159.250\n",
       "2016-05-18    cust588    298.350"
      ]
     },
     "execution_count": 92,
     "metadata": {},
     "output_type": "execute_result"
    }
   ],
   "source": [
    "# Import transaction log, identify & set header, omit customer source data, set order_date as datetime dtype\n",
    "df = pd.read_csv(\"data\\\\transaction-log-example.csv\", \n",
    "                 header=0, \n",
    "                 delimiter=\",\", \n",
    "                 usecols=['cust_id','order_date', 'net_sales'], \n",
    "                 parse_dates=['order_date'],\n",
    "                 index_col=['order_date'])\n",
    "df.head()"
   ]
  },
  {
   "cell_type": "markdown",
   "metadata": {},
   "source": [
    "#### 1. Total monthly sales"
   ]
  },
  {
   "cell_type": "markdown",
   "metadata": {},
   "source": [
    "- **What**: total sales across all customers each month\n",
    "- **Why**: most standard, commonly-used growth metric (and it matters!)\n",
    "\n",
    "**Analysis**: Data shows seasonality with relatively higher sales from October through December as compared to the rest of the year. Data also shows sales are rising year-on-year as we compare across each month. "
   ]
  },
  {
   "cell_type": "code",
   "execution_count": null,
   "metadata": {},
   "outputs": [
    {
     "data": {
      "text/html": [
       "<div>\n",
       "<style scoped>\n",
       "    .dataframe tbody tr th:only-of-type {\n",
       "        vertical-align: middle;\n",
       "    }\n",
       "\n",
       "    .dataframe tbody tr th {\n",
       "        vertical-align: top;\n",
       "    }\n",
       "\n",
       "    .dataframe thead th {\n",
       "        text-align: right;\n",
       "    }\n",
       "</style>\n",
       "<table border=\"1\" class=\"dataframe\">\n",
       "  <thead>\n",
       "    <tr style=\"text-align: right;\">\n",
       "      <th>order_date</th>\n",
       "      <th>1</th>\n",
       "      <th>2</th>\n",
       "      <th>3</th>\n",
       "      <th>4</th>\n",
       "      <th>5</th>\n",
       "      <th>6</th>\n",
       "      <th>7</th>\n",
       "      <th>8</th>\n",
       "      <th>9</th>\n",
       "      <th>10</th>\n",
       "      <th>11</th>\n",
       "      <th>12</th>\n",
       "    </tr>\n",
       "    <tr>\n",
       "      <th>order_date</th>\n",
       "      <th></th>\n",
       "      <th></th>\n",
       "      <th></th>\n",
       "      <th></th>\n",
       "      <th></th>\n",
       "      <th></th>\n",
       "      <th></th>\n",
       "      <th></th>\n",
       "      <th></th>\n",
       "      <th></th>\n",
       "      <th></th>\n",
       "      <th></th>\n",
       "    </tr>\n",
       "  </thead>\n",
       "  <tbody>\n",
       "    <tr>\n",
       "      <th>2016</th>\n",
       "      <td>21395.010</td>\n",
       "      <td>31661.305</td>\n",
       "      <td>38094.407</td>\n",
       "      <td>24398.595</td>\n",
       "      <td>36170.030</td>\n",
       "      <td>83308.498</td>\n",
       "      <td>81053.024</td>\n",
       "      <td>111414.979</td>\n",
       "      <td>119505.412</td>\n",
       "      <td>161253.287</td>\n",
       "      <td>223141.646</td>\n",
       "      <td>243675.627</td>\n",
       "    </tr>\n",
       "    <tr>\n",
       "      <th>2017</th>\n",
       "      <td>124408.180</td>\n",
       "      <td>132210.728</td>\n",
       "      <td>195413.972</td>\n",
       "      <td>202013.188</td>\n",
       "      <td>237466.827</td>\n",
       "      <td>241425.470</td>\n",
       "      <td>222988.766</td>\n",
       "      <td>234852.293</td>\n",
       "      <td>284023.233</td>\n",
       "      <td>411017.581</td>\n",
       "      <td>548646.332</td>\n",
       "      <td>757308.032</td>\n",
       "    </tr>\n",
       "    <tr>\n",
       "      <th>2018</th>\n",
       "      <td>307756.319</td>\n",
       "      <td>316357.886</td>\n",
       "      <td>376486.838</td>\n",
       "      <td>429182.598</td>\n",
       "      <td>555779.198</td>\n",
       "      <td>542620.845</td>\n",
       "      <td>563051.736</td>\n",
       "      <td>614858.790</td>\n",
       "      <td>693434.443</td>\n",
       "      <td>738637.185</td>\n",
       "      <td>733041.049</td>\n",
       "      <td>1013547.405</td>\n",
       "    </tr>\n",
       "    <tr>\n",
       "      <th>2019</th>\n",
       "      <td>510834.298</td>\n",
       "      <td>560820.260</td>\n",
       "      <td>691195.674</td>\n",
       "      <td>NaN</td>\n",
       "      <td>NaN</td>\n",
       "      <td>NaN</td>\n",
       "      <td>NaN</td>\n",
       "      <td>NaN</td>\n",
       "      <td>NaN</td>\n",
       "      <td>NaN</td>\n",
       "      <td>NaN</td>\n",
       "      <td>NaN</td>\n",
       "    </tr>\n",
       "  </tbody>\n",
       "</table>\n",
       "</div>"
      ],
      "text/plain": [
       "order_date          1           2           3           4           5   \\\n",
       "order_date                                                               \n",
       "2016         21395.010   31661.305   38094.407   24398.595   36170.030   \n",
       "2017        124408.180  132210.728  195413.972  202013.188  237466.827   \n",
       "2018        307756.319  316357.886  376486.838  429182.598  555779.198   \n",
       "2019        510834.298  560820.260  691195.674         NaN         NaN   \n",
       "\n",
       "order_date          6           7           8           9           10  \\\n",
       "order_date                                                               \n",
       "2016         83308.498   81053.024  111414.979  119505.412  161253.287   \n",
       "2017        241425.470  222988.766  234852.293  284023.233  411017.581   \n",
       "2018        542620.845  563051.736  614858.790  693434.443  738637.185   \n",
       "2019               NaN         NaN         NaN         NaN         NaN   \n",
       "\n",
       "order_date          11           12  \n",
       "order_date                           \n",
       "2016        223141.646   243675.627  \n",
       "2017        548646.332   757308.032  \n",
       "2018        733041.049  1013547.405  \n",
       "2019               NaN          NaN  "
      ]
     },
     "execution_count": 52,
     "metadata": {},
     "output_type": "execute_result"
    }
   ],
   "source": [
    "GB = df.groupby([(df.index.year), (df.index.month)])['net_sales'].sum()\n",
    "GB.unstack()"
   ]
  },
  {
   "cell_type": "code",
   "execution_count": null,
   "metadata": {},
   "outputs": [
    {
     "data": {
      "image/png": "[encoded data removed]",
      "text/plain": [
       "<Figure size 1200x400 with 1 Axes>"
      ]
     },
     "metadata": {},
     "output_type": "display_data"
    }
   ],
   "source": [
    "from matplotlib.ticker import FuncFormatter\n",
    "\n",
    "ax = GB.plot(kind='bar',  \n",
    "            figsize=(12,4),\n",
    "            title=\"Monthly Spend Over time\",\n",
    "            xlabel='Month - Year',\n",
    "            ylabel='Total Spend',\n",
    "            fontsize=8)\n",
    "\n",
    "ax.set_xticklabels([f'{pd.Timestamp(year=y, month=m, day=1):%b/%Y}' for y, m in GB.index], \n",
    "                   rotation=90, \n",
    "                   ha='right')\n",
    "ax.yaxis.set_major_formatter(FuncFormatter(lambda y, _: f'${y:,.0f}'))"
   ]
  },
  {
   "cell_type": "markdown",
   "metadata": {},
   "source": [
    "#### 2. Monthly Customer Acquisitions"
   ]
  }
 ],
 "metadata": {
  "kernelspec": {
   "display_name": "fin",
   "language": "python",
   "name": "python3"
  },
  "language_info": {
   "codemirror_mode": {
    "name": "ipython",
    "version": 3
   },
   "file_extension": ".py",
   "mimetype": "text/x-python",
   "name": "python",
   "nbconvert_exporter": "python",
   "pygments_lexer": "ipython3",
   "version": "3.12.7"
  }
 },
 "nbformat": 4,
 "nbformat_minor": 2
}
