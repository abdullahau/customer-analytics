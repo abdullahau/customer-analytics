{
 "cells": [
  {
   "cell_type": "code",
   "execution_count": null,
   "metadata": {},
   "outputs": [],
   "source": [
    "import polars as pl\n",
    "import numpy as np\n",
    "import altair as alt\n",
    "import pandas as pd"
   ]
  },
  {
   "cell_type": "code",
   "execution_count": null,
   "metadata": {},
   "outputs": [],
   "source": [
    "kiwi_lf = pl.scan_csv(source=\"data/kiwibubbles/kiwibubbles_tran.csv\",\n",
    "                      has_header=False,\n",
    "                      separator=\",\",\n",
    "                      schema={'ID': pl.UInt16,\n",
    "                              'Market': pl.UInt8,\n",
    "                              'Week': pl.Int16,\n",
    "                              'Day': pl.Int16,\n",
    "                              'Units': pl.Int16})\n",
    "\n",
    "kiwi_lf_m2 = (kiwi_lf.filter(pl.col('Market') == 2).drop('Market'))\n",
    "num_panellists_m2 = 1499\n",
    "\n",
    "\n",
    "kiwi_lf_m2 = (\n",
    "    kiwi_lf_m2\n",
    "    .sort(by='ID')\n",
    "    .with_columns((pl.col(\"ID\").cum_count().over(\"ID\") - 1).cast(pl.UInt16).alias(\"DoR\"))    \n",
    ")"
   ]
  },
  {
   "cell_type": "code",
   "execution_count": null,
   "metadata": {},
   "outputs": [],
   "source": [
    "def shift_week(group_df):    \n",
    "    week_arr = group_df[\"Week\"].sort().to_numpy().copy()  # Sort array to handle duplicates systematically\n",
    "    for i in range(1, len(week_arr)):\n",
    "        if week_arr[i] <= week_arr[i - 1]: # If duplicate or less, increment by 1\n",
    "            week_arr[i] = week_arr[i - 1] + 1\n",
    "    return group_df.with_columns(pl.Series(\"shWeek\", week_arr))\n",
    "\n",
    "shifted_lf = (\n",
    "    kiwi_lf_m2\n",
    "    .group_by('ID')\n",
    "    .map_groups(shift_week, schema={'Week': pl.Int16, \n",
    "                                    'shWeek':pl.Int16,\n",
    "                                    'DoR':pl.UInt16,\n",
    "                                    'Units':pl.Int16,\n",
    "                                    'Day':pl.Int16,\n",
    "                                    'ID':pl.UInt16})\n",
    ")"
   ]
  },
  {
   "cell_type": "code",
   "execution_count": null,
   "metadata": {},
   "outputs": [],
   "source": [
    "week_range, dor_range = np.meshgrid(np.arange(1, 53, dtype='int16'), np.arange(0, 12, dtype='uint16'))\n",
    "dummy_lf = pl.DataFrame({'shWeek': week_range.reshape(-1), 'DoR': dor_range.reshape(-1)})\n",
    "\n",
    "sh_agg_trans = (\n",
    "    shifted_lf\n",
    "    .collect()\n",
    "    .group_by('shWeek', 'DoR')\n",
    "    .agg(pl.len().alias('Count'))\n",
    ")\n",
    "\n",
    "shweek_total_trans = (\n",
    "    sh_agg_trans\n",
    "    .group_by('shWeek')\n",
    "    .agg(pl.col('Count').sum().alias('Total')) \n",
    ")\n",
    "\n",
    "sh_agg_trans_longform = (\n",
    "    dummy_lf\n",
    "    .join(sh_agg_trans, on=['shWeek', 'DoR'], how='left')\n",
    "    .join(shweek_total_trans, on='shWeek', how='left')\n",
    "    .fill_null(0)\n",
    ")"
   ]
  },
  {
   "cell_type": "code",
   "execution_count": null,
   "metadata": {},
   "outputs": [],
   "source": [
    "sh_agg_trans_wideform = (\n",
    "    sh_agg_trans_longform\n",
    "    .pivot(on='DoR', index='shWeek', values='Count')\n",
    "    .join(shweek_total_trans, on='shWeek', how='left')\n",
    ")\n",
    "\n",
    "col_total = sh_agg_trans_wideform.select(pl.col('*').exclude('shWeek').sum())\n",
    "\n",
    "display(sh_agg_trans_wideform)\n",
    "display(col_total)"
   ]
  },
  {
   "cell_type": "code",
   "execution_count": null,
   "metadata": {},
   "outputs": [],
   "source": [
    "sh_cum_trans_longform = sh_agg_trans_longform.with_columns(pl.col('Count').cum_sum().over('DoR').alias('Cum DoR'))\n",
    "sh_cum_trans_wideform = sh_cum_trans_longform.pivot(on='DoR', index='shWeek', values='Cum DoR')\n",
    "\n",
    "display(sh_cum_trans_wideform)"
   ]
  },
  {
   "cell_type": "code",
   "execution_count": null,
   "metadata": {},
   "outputs": [
    {
     "data": {
      "text/html": [
       "<div><style>\n",
       ".dataframe > thead > tr,\n",
       ".dataframe > tbody > tr {\n",
       "  text-align: right;\n",
       "  white-space: pre-wrap;\n",
       "}\n",
       "</style>\n",
       "<small>shape: (206, 6)</small><table border=\"1\" class=\"dataframe\"><thead><tr><th>DoR</th><th>shWeek</th><th>TSLP</th><th>Count</th><th>Eligible</th><th>Cum Count by Week</th></tr><tr><td>u16</td><td>i16</td><td>i16</td><td>u32</td><td>u32</td><td>u32</td></tr></thead><tbody><tr><td>0</td><td>0</td><td>0</td><td>1</td><td>3</td><td>1</td></tr><tr><td>0</td><td>1</td><td>0</td><td>3</td><td>2</td><td>3</td></tr><tr><td>0</td><td>2</td><td>0</td><td>2</td><td>1</td><td>2</td></tr><tr><td>0</td><td>3</td><td>0</td><td>1</td><td>6</td><td>1</td></tr><tr><td>0</td><td>4</td><td>0</td><td>6</td><td>5</td><td>6</td></tr><tr><td>&hellip;</td><td>&hellip;</td><td>&hellip;</td><td>&hellip;</td><td>&hellip;</td><td>&hellip;</td></tr><tr><td>9</td><td>49</td><td>1</td><td>1</td><td>1</td><td>1</td></tr><tr><td>9</td><td>50</td><td>2</td><td>1</td><td>1</td><td>1</td></tr><tr><td>10</td><td>30</td><td>15</td><td>1</td><td>1</td><td>1</td></tr><tr><td>10</td><td>37</td><td>13</td><td>1</td><td>1</td><td>1</td></tr><tr><td>11</td><td>45</td><td>5</td><td>1</td><td>0</td><td>1</td></tr></tbody></table></div>"
      ],
      "text/plain": [
       "shape: (206, 6)\n",
       "┌─────┬────────┬──────┬───────┬──────────┬───────────────────┐\n",
       "│ DoR ┆ shWeek ┆ TSLP ┆ Count ┆ Eligible ┆ Cum Count by Week │\n",
       "│ --- ┆ ---    ┆ ---  ┆ ---   ┆ ---      ┆ ---               │\n",
       "│ u16 ┆ i16    ┆ i16  ┆ u32   ┆ u32      ┆ u32               │\n",
       "╞═════╪════════╪══════╪═══════╪══════════╪═══════════════════╡\n",
       "│ 0   ┆ 0      ┆ 0    ┆ 1     ┆ 3        ┆ 1                 │\n",
       "│ 0   ┆ 1      ┆ 0    ┆ 3     ┆ 2        ┆ 3                 │\n",
       "│ 0   ┆ 2      ┆ 0    ┆ 2     ┆ 1        ┆ 2                 │\n",
       "│ 0   ┆ 3      ┆ 0    ┆ 1     ┆ 6        ┆ 1                 │\n",
       "│ 0   ┆ 4      ┆ 0    ┆ 6     ┆ 5        ┆ 6                 │\n",
       "│ …   ┆ …      ┆ …    ┆ …     ┆ …        ┆ …                 │\n",
       "│ 9   ┆ 49     ┆ 1    ┆ 1     ┆ 1        ┆ 1                 │\n",
       "│ 9   ┆ 50     ┆ 2    ┆ 1     ┆ 1        ┆ 1                 │\n",
       "│ 10  ┆ 30     ┆ 15   ┆ 1     ┆ 1        ┆ 1                 │\n",
       "│ 10  ┆ 37     ┆ 13   ┆ 1     ┆ 1        ┆ 1                 │\n",
       "│ 11  ┆ 45     ┆ 5    ┆ 1     ┆ 0        ┆ 1                 │\n",
       "└─────┴────────┴──────┴───────┴──────────┴───────────────────┘"
      ]
     },
     "execution_count": 86,
     "metadata": {},
     "output_type": "execute_result"
    }
   ],
   "source": [
    "# Calculate Time Since Last Purchase (in weeks)\n",
    "test = (\n",
    "    shifted_lf.collect()\n",
    "    .sort('ID', 'shWeek')\n",
    "    .with_columns((pl.col('shWeek') - pl.col('shWeek').shift(1)).over('ID').alias('TSLP'))\n",
    "    .with_columns(pl.col('shWeek').shift(1).alias('shWeek'))\n",
    ")\n",
    "\n",
    "# Aggregate purchases by depth and week\n",
    "purchase_counts = (\n",
    "    shifted_lf.collect()\n",
    "    .group_by([\"DoR\", \"shWeek\"])\n",
    "    .agg(pl.col(\"ID\").n_unique().alias(\"Count\")) \n",
    "    .sort([\"DoR\", \"shWeek\"])\n",
    ")\n",
    "\n",
    "eligibility = (\n",
    "    test\n",
    "    .group_by(\"DoR\", 'shWeek', 'TSLP')\n",
    "    .agg(pl.col(\"ID\").n_unique().alias(\"Count\")) \n",
    "    .sort(\"DoR\", 'shWeek')\n",
    "    .with_columns(pl.col(\"Count\").shift(-1).fill_null(0).alias(\"Eligible\"))\n",
    ")\n",
    "\n",
    "week_range, dor_range, tslp_range = np.meshgrid(np.arange(1, 53, dtype='int16'), np.arange(0, 12, dtype='uint16'), np.arange(1, 53, dtype='int16'))\n",
    "full_dor_week = pl.DataFrame({'DoR': dor_range.reshape(-1), 'shWeek': week_range.reshape(-1), 'TSLP': tslp_range.reshape(-1)})\n",
    "\n",
    "eligibility = (\n",
    "    pl.concat([full_dor_week, eligibility], how='align')\n",
    "    .fill_null(0)\n",
    "    .with_columns(pl.col(\"Count\").cum_sum().over('DoR', 'shWeek').alias('Cum Count by Week'))\n",
    ")\n",
    "\n",
    "eligibility = (\n",
    "    pl.concat([eligibility, purchase_counts], how='align')\n",
    "    .filter(pl.col('DoR') == 1)\n",
    "    .sort('TSLP')\n",
    ")\n",
    "\n",
    "eligibility.pivot(on='TSLP', index='shWeek', values='Cum Count by Week').sort('shWeek')"
   ]
  }
 ],
 "metadata": {
  "kernelspec": {
   "display_name": "fin",
   "language": "python",
   "name": "python3"
  },
  "language_info": {
   "codemirror_mode": {
    "name": "ipython",
    "version": 3
   },
   "file_extension": ".py",
   "mimetype": "text/x-python",
   "name": "python",
   "nbconvert_exporter": "python",
   "pygments_lexer": "ipython3",
   "version": "3.12.7"
  }
 },
 "nbformat": 4,
 "nbformat_minor": 2
}
