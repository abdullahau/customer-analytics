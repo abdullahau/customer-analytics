{
 "cells": [
  {
   "cell_type": "code",
   "execution_count": 1,
   "metadata": {},
   "outputs": [],
   "source": [
    "import polars as pl\n",
    "import numpy as np\n",
    "import altair as alt\n",
    "import pandas as pd\n",
    "from scipy.optimize import minimize"
   ]
  },
  {
   "cell_type": "code",
   "execution_count": 2,
   "metadata": {},
   "outputs": [],
   "source": [
    "kiwi_lf = pl.scan_csv(source=\"data/kiwibubbles/kiwibubbles_tran.csv\",\n",
    "                      has_header=False,\n",
    "                      separator=\",\",\n",
    "                      schema={'ID': pl.UInt16,\n",
    "                              'Market': pl.UInt8,\n",
    "                              'Week': pl.Int16,\n",
    "                              'Day': pl.Int16,\n",
    "                              'Units': pl.Int16})\n",
    "\n",
    "kiwi_lf_m2 = (kiwi_lf.filter(pl.col('Market') == 2).drop('Market'))\n",
    "num_panellists_m2 = 1499\n",
    "\n",
    "\n",
    "kiwi_lf_m2 = (\n",
    "    kiwi_lf_m2\n",
    "    .sort(by='ID')\n",
    "    .with_columns((pl.col(\"ID\").cum_count().over(\"ID\") - 1).cast(pl.UInt16).alias(\"DoR\"))    \n",
    ")"
   ]
  },
  {
   "cell_type": "code",
   "execution_count": 3,
   "metadata": {},
   "outputs": [],
   "source": [
    "def shift_week(group_df):    \n",
    "    week_arr = group_df[\"Week\"].sort().to_numpy().copy()  # Sort array to handle duplicates systematically\n",
    "    for i in range(1, len(week_arr)):\n",
    "        if week_arr[i] <= week_arr[i - 1]: # If duplicate or less, increment by 1\n",
    "            week_arr[i] = week_arr[i - 1] + 1\n",
    "    return group_df.with_columns(pl.Series(\"shWeek\", week_arr))\n",
    "\n",
    "shifted_lf = (\n",
    "    kiwi_lf_m2\n",
    "    .group_by('ID')\n",
    "    .map_groups(shift_week, schema={'Week': pl.Int16, \n",
    "                                    'shWeek':pl.Int16,\n",
    "                                    'DoR':pl.UInt16,\n",
    "                                    'Units':pl.Int16,\n",
    "                                    'Day':pl.Int16,\n",
    "                                    'ID':pl.UInt16})\n",
    ")"
   ]
  },
  {
   "cell_type": "code",
   "execution_count": 4,
   "metadata": {},
   "outputs": [],
   "source": [
    "week_range, dor_range = np.meshgrid(np.arange(1, 53, dtype='int16'), np.arange(0, 12, dtype='uint16'))\n",
    "dummy_lf = pl.DataFrame({'shWeek': week_range.reshape(-1), 'DoR': dor_range.reshape(-1)})\n",
    "\n",
    "sh_agg_trans = (\n",
    "    shifted_lf\n",
    "    .collect()\n",
    "    .group_by('shWeek', 'DoR')\n",
    "    .agg(pl.len().alias('Count'))\n",
    ")\n",
    "\n",
    "shweek_total_trans = (\n",
    "    sh_agg_trans\n",
    "    .group_by('shWeek')\n",
    "    .agg(pl.col('Count').sum().alias('Total')) \n",
    ")\n",
    "\n",
    "sh_agg_trans_longform = (\n",
    "    dummy_lf\n",
    "    .join(sh_agg_trans, on=['shWeek', 'DoR'], how='left')\n",
    "    .join(shweek_total_trans, on='shWeek', how='left')\n",
    "    .fill_null(0)\n",
    ")"
   ]
  },
  {
   "cell_type": "code",
   "execution_count": 5,
   "metadata": {},
   "outputs": [
    {
     "data": {
      "text/html": [
       "<div><style>\n",
       ".dataframe > thead > tr,\n",
       ".dataframe > tbody > tr {\n",
       "  text-align: right;\n",
       "  white-space: pre-wrap;\n",
       "}\n",
       "</style>\n",
       "<small>shape: (52, 14)</small><table border=\"1\" class=\"dataframe\"><thead><tr><th>shWeek</th><th>0</th><th>1</th><th>2</th><th>3</th><th>4</th><th>5</th><th>6</th><th>7</th><th>8</th><th>9</th><th>10</th><th>11</th><th>Total</th></tr><tr><td>i16</td><td>u32</td><td>u32</td><td>u32</td><td>u32</td><td>u32</td><td>u32</td><td>u32</td><td>u32</td><td>u32</td><td>u32</td><td>u32</td><td>u32</td><td>u32</td></tr></thead><tbody><tr><td>1</td><td>8</td><td>0</td><td>0</td><td>0</td><td>0</td><td>0</td><td>0</td><td>0</td><td>0</td><td>0</td><td>0</td><td>0</td><td>8</td></tr><tr><td>2</td><td>6</td><td>1</td><td>0</td><td>0</td><td>0</td><td>0</td><td>0</td><td>0</td><td>0</td><td>0</td><td>0</td><td>0</td><td>7</td></tr><tr><td>3</td><td>2</td><td>1</td><td>0</td><td>0</td><td>0</td><td>0</td><td>0</td><td>0</td><td>0</td><td>0</td><td>0</td><td>0</td><td>3</td></tr><tr><td>4</td><td>16</td><td>1</td><td>0</td><td>0</td><td>0</td><td>0</td><td>0</td><td>0</td><td>0</td><td>0</td><td>0</td><td>0</td><td>17</td></tr><tr><td>5</td><td>8</td><td>4</td><td>0</td><td>0</td><td>0</td><td>0</td><td>0</td><td>0</td><td>0</td><td>0</td><td>0</td><td>0</td><td>12</td></tr><tr><td>&hellip;</td><td>&hellip;</td><td>&hellip;</td><td>&hellip;</td><td>&hellip;</td><td>&hellip;</td><td>&hellip;</td><td>&hellip;</td><td>&hellip;</td><td>&hellip;</td><td>&hellip;</td><td>&hellip;</td><td>&hellip;</td><td>&hellip;</td></tr><tr><td>48</td><td>1</td><td>1</td><td>1</td><td>1</td><td>0</td><td>0</td><td>0</td><td>1</td><td>0</td><td>0</td><td>0</td><td>0</td><td>5</td></tr><tr><td>49</td><td>4</td><td>0</td><td>0</td><td>0</td><td>0</td><td>2</td><td>0</td><td>1</td><td>1</td><td>0</td><td>0</td><td>0</td><td>8</td></tr><tr><td>50</td><td>0</td><td>2</td><td>0</td><td>0</td><td>0</td><td>0</td><td>0</td><td>1</td><td>2</td><td>1</td><td>1</td><td>1</td><td>8</td></tr><tr><td>51</td><td>0</td><td>1</td><td>0</td><td>0</td><td>0</td><td>0</td><td>0</td><td>1</td><td>0</td><td>0</td><td>0</td><td>0</td><td>2</td></tr><tr><td>52</td><td>2</td><td>1</td><td>1</td><td>1</td><td>0</td><td>0</td><td>0</td><td>0</td><td>0</td><td>1</td><td>0</td><td>0</td><td>6</td></tr></tbody></table></div>"
      ],
      "text/plain": [
       "shape: (52, 14)\n",
       "┌────────┬─────┬─────┬─────┬───┬─────┬─────┬─────┬───────┐\n",
       "│ shWeek ┆ 0   ┆ 1   ┆ 2   ┆ … ┆ 9   ┆ 10  ┆ 11  ┆ Total │\n",
       "│ ---    ┆ --- ┆ --- ┆ --- ┆   ┆ --- ┆ --- ┆ --- ┆ ---   │\n",
       "│ i16    ┆ u32 ┆ u32 ┆ u32 ┆   ┆ u32 ┆ u32 ┆ u32 ┆ u32   │\n",
       "╞════════╪═════╪═════╪═════╪═══╪═════╪═════╪═════╪═══════╡\n",
       "│ 1      ┆ 8   ┆ 0   ┆ 0   ┆ … ┆ 0   ┆ 0   ┆ 0   ┆ 8     │\n",
       "│ 2      ┆ 6   ┆ 1   ┆ 0   ┆ … ┆ 0   ┆ 0   ┆ 0   ┆ 7     │\n",
       "│ 3      ┆ 2   ┆ 1   ┆ 0   ┆ … ┆ 0   ┆ 0   ┆ 0   ┆ 3     │\n",
       "│ 4      ┆ 16  ┆ 1   ┆ 0   ┆ … ┆ 0   ┆ 0   ┆ 0   ┆ 17    │\n",
       "│ 5      ┆ 8   ┆ 4   ┆ 0   ┆ … ┆ 0   ┆ 0   ┆ 0   ┆ 12    │\n",
       "│ …      ┆ …   ┆ …   ┆ …   ┆ … ┆ …   ┆ …   ┆ …   ┆ …     │\n",
       "│ 48     ┆ 1   ┆ 1   ┆ 1   ┆ … ┆ 0   ┆ 0   ┆ 0   ┆ 5     │\n",
       "│ 49     ┆ 4   ┆ 0   ┆ 0   ┆ … ┆ 0   ┆ 0   ┆ 0   ┆ 8     │\n",
       "│ 50     ┆ 0   ┆ 2   ┆ 0   ┆ … ┆ 1   ┆ 1   ┆ 1   ┆ 8     │\n",
       "│ 51     ┆ 0   ┆ 1   ┆ 0   ┆ … ┆ 0   ┆ 0   ┆ 0   ┆ 2     │\n",
       "│ 52     ┆ 2   ┆ 1   ┆ 1   ┆ … ┆ 1   ┆ 0   ┆ 0   ┆ 6     │\n",
       "└────────┴─────┴─────┴─────┴───┴─────┴─────┴─────┴───────┘"
      ]
     },
     "metadata": {},
     "output_type": "display_data"
    },
    {
     "data": {
      "text/html": [
       "<div><style>\n",
       ".dataframe > thead > tr,\n",
       ".dataframe > tbody > tr {\n",
       "  text-align: right;\n",
       "  white-space: pre-wrap;\n",
       "}\n",
       "</style>\n",
       "<small>shape: (1, 13)</small><table border=\"1\" class=\"dataframe\"><thead><tr><th>0</th><th>1</th><th>2</th><th>3</th><th>4</th><th>5</th><th>6</th><th>7</th><th>8</th><th>9</th><th>10</th><th>11</th><th>Total</th></tr><tr><td>u32</td><td>u32</td><td>u32</td><td>u32</td><td>u32</td><td>u32</td><td>u32</td><td>u32</td><td>u32</td><td>u32</td><td>u32</td><td>u32</td><td>u32</td></tr></thead><tbody><tr><td>139</td><td>52</td><td>31</td><td>23</td><td>17</td><td>14</td><td>9</td><td>8</td><td>6</td><td>4</td><td>2</td><td>1</td><td>306</td></tr></tbody></table></div>"
      ],
      "text/plain": [
       "shape: (1, 13)\n",
       "┌─────┬─────┬─────┬─────┬───┬─────┬─────┬─────┬───────┐\n",
       "│ 0   ┆ 1   ┆ 2   ┆ 3   ┆ … ┆ 9   ┆ 10  ┆ 11  ┆ Total │\n",
       "│ --- ┆ --- ┆ --- ┆ --- ┆   ┆ --- ┆ --- ┆ --- ┆ ---   │\n",
       "│ u32 ┆ u32 ┆ u32 ┆ u32 ┆   ┆ u32 ┆ u32 ┆ u32 ┆ u32   │\n",
       "╞═════╪═════╪═════╪═════╪═══╪═════╪═════╪═════╪═══════╡\n",
       "│ 139 ┆ 52  ┆ 31  ┆ 23  ┆ … ┆ 4   ┆ 2   ┆ 1   ┆ 306   │\n",
       "└─────┴─────┴─────┴─────┴───┴─────┴─────┴─────┴───────┘"
      ]
     },
     "metadata": {},
     "output_type": "display_data"
    }
   ],
   "source": [
    "sh_agg_trans_wideform = (\n",
    "    sh_agg_trans_longform\n",
    "    .pivot(on='DoR', index='shWeek', values='Count')\n",
    "    .join(shweek_total_trans, on='shWeek', how='left')\n",
    ")\n",
    "\n",
    "col_total = sh_agg_trans_wideform.select(pl.col('*').exclude('shWeek').sum())\n",
    "\n",
    "display(sh_agg_trans_wideform)\n",
    "display(col_total)"
   ]
  },
  {
   "cell_type": "code",
   "execution_count": 6,
   "metadata": {},
   "outputs": [
    {
     "data": {
      "text/html": [
       "<div><style>\n",
       ".dataframe > thead > tr,\n",
       ".dataframe > tbody > tr {\n",
       "  text-align: right;\n",
       "  white-space: pre-wrap;\n",
       "}\n",
       "</style>\n",
       "<small>shape: (52, 13)</small><table border=\"1\" class=\"dataframe\"><thead><tr><th>shWeek</th><th>0</th><th>1</th><th>2</th><th>3</th><th>4</th><th>5</th><th>6</th><th>7</th><th>8</th><th>9</th><th>10</th><th>11</th></tr><tr><td>i16</td><td>u32</td><td>u32</td><td>u32</td><td>u32</td><td>u32</td><td>u32</td><td>u32</td><td>u32</td><td>u32</td><td>u32</td><td>u32</td><td>u32</td></tr></thead><tbody><tr><td>1</td><td>8</td><td>0</td><td>0</td><td>0</td><td>0</td><td>0</td><td>0</td><td>0</td><td>0</td><td>0</td><td>0</td><td>0</td></tr><tr><td>2</td><td>14</td><td>1</td><td>0</td><td>0</td><td>0</td><td>0</td><td>0</td><td>0</td><td>0</td><td>0</td><td>0</td><td>0</td></tr><tr><td>3</td><td>16</td><td>2</td><td>0</td><td>0</td><td>0</td><td>0</td><td>0</td><td>0</td><td>0</td><td>0</td><td>0</td><td>0</td></tr><tr><td>4</td><td>32</td><td>3</td><td>0</td><td>0</td><td>0</td><td>0</td><td>0</td><td>0</td><td>0</td><td>0</td><td>0</td><td>0</td></tr><tr><td>5</td><td>40</td><td>7</td><td>0</td><td>0</td><td>0</td><td>0</td><td>0</td><td>0</td><td>0</td><td>0</td><td>0</td><td>0</td></tr><tr><td>&hellip;</td><td>&hellip;</td><td>&hellip;</td><td>&hellip;</td><td>&hellip;</td><td>&hellip;</td><td>&hellip;</td><td>&hellip;</td><td>&hellip;</td><td>&hellip;</td><td>&hellip;</td><td>&hellip;</td><td>&hellip;</td></tr><tr><td>48</td><td>133</td><td>48</td><td>30</td><td>22</td><td>17</td><td>12</td><td>9</td><td>5</td><td>3</td><td>2</td><td>1</td><td>0</td></tr><tr><td>49</td><td>137</td><td>48</td><td>30</td><td>22</td><td>17</td><td>14</td><td>9</td><td>6</td><td>4</td><td>2</td><td>1</td><td>0</td></tr><tr><td>50</td><td>137</td><td>50</td><td>30</td><td>22</td><td>17</td><td>14</td><td>9</td><td>7</td><td>6</td><td>3</td><td>2</td><td>1</td></tr><tr><td>51</td><td>137</td><td>51</td><td>30</td><td>22</td><td>17</td><td>14</td><td>9</td><td>8</td><td>6</td><td>3</td><td>2</td><td>1</td></tr><tr><td>52</td><td>139</td><td>52</td><td>31</td><td>23</td><td>17</td><td>14</td><td>9</td><td>8</td><td>6</td><td>4</td><td>2</td><td>1</td></tr></tbody></table></div>"
      ],
      "text/plain": [
       "shape: (52, 13)\n",
       "┌────────┬─────┬─────┬─────┬───┬─────┬─────┬─────┬─────┐\n",
       "│ shWeek ┆ 0   ┆ 1   ┆ 2   ┆ … ┆ 8   ┆ 9   ┆ 10  ┆ 11  │\n",
       "│ ---    ┆ --- ┆ --- ┆ --- ┆   ┆ --- ┆ --- ┆ --- ┆ --- │\n",
       "│ i16    ┆ u32 ┆ u32 ┆ u32 ┆   ┆ u32 ┆ u32 ┆ u32 ┆ u32 │\n",
       "╞════════╪═════╪═════╪═════╪═══╪═════╪═════╪═════╪═════╡\n",
       "│ 1      ┆ 8   ┆ 0   ┆ 0   ┆ … ┆ 0   ┆ 0   ┆ 0   ┆ 0   │\n",
       "│ 2      ┆ 14  ┆ 1   ┆ 0   ┆ … ┆ 0   ┆ 0   ┆ 0   ┆ 0   │\n",
       "│ 3      ┆ 16  ┆ 2   ┆ 0   ┆ … ┆ 0   ┆ 0   ┆ 0   ┆ 0   │\n",
       "│ 4      ┆ 32  ┆ 3   ┆ 0   ┆ … ┆ 0   ┆ 0   ┆ 0   ┆ 0   │\n",
       "│ 5      ┆ 40  ┆ 7   ┆ 0   ┆ … ┆ 0   ┆ 0   ┆ 0   ┆ 0   │\n",
       "│ …      ┆ …   ┆ …   ┆ …   ┆ … ┆ …   ┆ …   ┆ …   ┆ …   │\n",
       "│ 48     ┆ 133 ┆ 48  ┆ 30  ┆ … ┆ 3   ┆ 2   ┆ 1   ┆ 0   │\n",
       "│ 49     ┆ 137 ┆ 48  ┆ 30  ┆ … ┆ 4   ┆ 2   ┆ 1   ┆ 0   │\n",
       "│ 50     ┆ 137 ┆ 50  ┆ 30  ┆ … ┆ 6   ┆ 3   ┆ 2   ┆ 1   │\n",
       "│ 51     ┆ 137 ┆ 51  ┆ 30  ┆ … ┆ 6   ┆ 3   ┆ 2   ┆ 1   │\n",
       "│ 52     ┆ 139 ┆ 52  ┆ 31  ┆ … ┆ 6   ┆ 4   ┆ 2   ┆ 1   │\n",
       "└────────┴─────┴─────┴─────┴───┴─────┴─────┴─────┴─────┘"
      ]
     },
     "metadata": {},
     "output_type": "display_data"
    }
   ],
   "source": [
    "sh_cum_trans_longform = sh_agg_trans_longform.with_columns(pl.col('Count').cum_sum().over('DoR').alias('Cum DoR'))\n",
    "sh_cum_trans_wideform = sh_cum_trans_longform.pivot(on='DoR', index='shWeek', values='Cum DoR')\n",
    "\n",
    "display(sh_cum_trans_wideform)"
   ]
  },
  {
   "cell_type": "code",
   "execution_count": 29,
   "metadata": {},
   "outputs": [],
   "source": [
    "modified_cum_trans = (\n",
    "    sh_cum_trans_wideform\n",
    "    .with_columns(\n",
    "        pl.sum_horizontal(pl.col(f'{i}' for i in range(2, 12)).alias('AR(t)')),\n",
    "        pl.sum_horizontal(pl.exclude('shWeek').alias('S(t)'))\n",
    "    )\n",
    "    .rename({'shWeek': 'Week (t)', '0': 'T(t)', '1': 'FR(t)'})\n",
    "    .select('Week (t)', 'T(t)', 'FR(t)', 'AR(t)', 'S(t)')\n",
    ")\n"
   ]
  },
  {
   "cell_type": "code",
   "execution_count": 47,
   "metadata": {},
   "outputs": [
    {
     "data": {
      "text/plain": [
       "array([0.        , 0.13478782, 0.21997487, 0.27381382, 0.30784049,\n",
       "       0.32934564, 0.34293707, 0.35152698, 0.35695587, 0.36038698,\n",
       "       0.36255547, 0.36392597, 0.36479214, 0.36533957, 0.36568554,\n",
       "       0.3659042 , 0.3660424 , 0.36612974, 0.36618494, 0.36621983,\n",
       "       0.36624188, 0.36625581, 0.36626462, 0.36627019, 0.3662737 ,\n",
       "       0.36627593, 0.36627733, 0.36627822, 0.36627878, 0.36627914,\n",
       "       0.36627936, 0.3662795 , 0.36627959, 0.36627965, 0.36627968,\n",
       "       0.36627971, 0.36627972, 0.36627973, 0.36627974, 0.36627974,\n",
       "       0.36627974, 0.36627974, 0.36627974, 0.36627974, 0.36627974,\n",
       "       0.36627975, 0.36627975, 0.36627975, 0.36627975, 0.36627975,\n",
       "       0.36627975, 0.36627975])"
      ]
     },
     "execution_count": 47,
     "metadata": {},
     "output_type": "execute_result"
    }
   ],
   "source": [
    "def fr_model(fr: np.ndarray, eligible: np.ndarray, weeks: np.ndarray, guess=[0.05, 0.05]):\n",
    "    \n",
    "    def least_square(x):\n",
    "        p_1, theta_FR = x[0], x[1]\n",
    "        t = weeks\n",
    "        t_0 = weeks.reshape(-1,1)\n",
    "\n",
    "        p_fr_trial = p_1 * (1 - np.exp(-theta_FR * (t - t_0)))\n",
    "        p_fr_trial = np.triu(p_fr_trial)     \n",
    "        \n",
    "        pred_cum_fr = p_fr_trial.T @ eligible    \n",
    "        \n",
    "        return np.sum((pred_cum_fr - fr)**2)\n",
    "        \n",
    "    return minimize(least_square, guess, bounds=[(0, np.inf), (0, np.inf)])\n",
    "\n",
    "fr_array = (\n",
    "    modified_cum_trans\n",
    "    .select('T(t)', 'FR(t)', 'Week (t)')\n",
    "    .to_numpy().transpose()         \n",
    ")\n",
    "\n",
    "eligible, fr, weeks = np.diff(fr_array[0], prepend=0), fr_array[1], fr_array[2]\n",
    "\n",
    "result = fr_model(fr, eligible, weeks)\n",
    "p_1, theta_FR, sse = result.x[0], result.x[1], result.fun\n",
    "\n",
    "t = np.arange(1, 52+1, 1)\n",
    "\n",
    "p_fr_trial = p_1 * (1 - np.exp(-theta_FR * (t - 1)))\n",
    "p_fr_trial"
   ]
  },
  {
   "cell_type": "code",
   "execution_count": 48,
   "metadata": {},
   "outputs": [
    {
     "data": {
      "text/plain": [
       "52"
      ]
     },
     "execution_count": 48,
     "metadata": {},
     "output_type": "execute_result"
    }
   ],
   "source": [
    "len(p_fr_trial)"
   ]
  },
  {
   "cell_type": "code",
   "execution_count": 7,
   "metadata": {},
   "outputs": [],
   "source": [
    "def ar_model(ar, eligibles, weeks, j, guess=[0.5, 0.5, 0.5]):\n",
    "\n",
    "    def least_square(x):\n",
    "        p_inf, gamma, theta_AR = x[0], x[1], x[2]\n",
    "        t, t_0 = weeks, weeks.reshape(-1, 1)\n",
    "        \n",
    "        sse = np.zeros(len(j))\n",
    "\n",
    "        for i, DoR in enumerate(j):\n",
    "            p_j = p_inf * (1 - np.exp(-gamma * DoR))\n",
    "            p_ar = p_j * (1 - np.exp(-theta_AR * (t - t_0)))\n",
    "            p_ar = np.triu(p_ar)\n",
    "            p_ar[:DoR-1] = 0\n",
    "\n",
    "            pred_cum_ar = p_ar.T @ eligibles[i]\n",
    "            sse[i] = np.sum((pred_cum_ar - ar[i])**2)\n",
    "\n",
    "        return np.sum(sse)\n",
    "\n",
    "    return minimize(least_square, guess, bounds=[(0,np.inf),(0,np.inf),(0,np.inf)])"
   ]
  },
  {
   "cell_type": "code",
   "execution_count": 51,
   "metadata": {},
   "outputs": [
    {
     "data": {
      "text/plain": [
       "array([-0.1760198 ,  0.        ,  0.13949571,  0.25004609,  0.33765727,\n",
       "        0.40708915,  0.46211392,  0.50572106,  0.54027972,  0.56766747,\n",
       "        0.58937226,  0.60657331,  0.62020514,  0.63100837,  0.63956993,\n",
       "        0.64635497,  0.65173212,  0.65599351,  0.65937066,  0.66204705,\n",
       "        0.66416809,  0.66584901,  0.66718115,  0.66823686,  0.66907352,\n",
       "        0.66973657,  0.67026203,  0.67067847,  0.67100849,  0.67127003,\n",
       "        0.67147731,  0.67164157,  0.67177175,  0.67187492,  0.67195668,\n",
       "        0.67202147,  0.67207282,  0.67211351,  0.67214577,  0.67217132,\n",
       "        0.67219158,  0.67220763,  0.67222035,  0.67223043,  0.67223842,\n",
       "        0.67224476,  0.67224977,  0.67225375,  0.6722569 ,  0.6722594 ,\n",
       "        0.67226138,  0.67226295])"
      ]
     },
     "execution_count": 51,
     "metadata": {},
     "output_type": "execute_result"
    }
   ],
   "source": [
    "mod_cum_ar_trans = (\n",
    "    sh_cum_trans_wideform\n",
    "    .rename({'shWeek': 'Week'})\n",
    "    .select('1', '2', '3', '4', '5', 'Week')\n",
    "    .to_numpy().transpose()\n",
    ")\n",
    "\n",
    "eligibles = np.diff(mod_cum_ar_trans[:-2], prepend=0, axis=1)\n",
    "ar = mod_cum_ar_trans[1:-1]\n",
    "weeks = mod_cum_ar_trans[-1]\n",
    "j = np.arange(2, 6, 1)\n",
    "\n",
    "result = ar_model(ar, eligibles, weeks, j)\n",
    "p_inf, gamma, theta_AR, sse = result.x[0], result.x[1], result.x[2], result.fun\n",
    "\n",
    "j = np.arange(2, 5, 1)\n",
    "p_j = p_inf * (1 - np.exp(-gamma * j))\n",
    "p_j\n",
    "\n",
    "t = np.arange(1, 53, 1)\n",
    "\n",
    "\n",
    "p_ar = p_j[0] * (1 - np.exp(-theta_AR * (t - 2)))\n",
    "p_ar"
   ]
  },
  {
   "cell_type": "code",
   "execution_count": 49,
   "metadata": {},
   "outputs": [
    {
     "data": {
      "text/plain": [
       "52"
      ]
     },
     "execution_count": 49,
     "metadata": {},
     "output_type": "execute_result"
    }
   ],
   "source": [
    "len(p_ar)"
   ]
  },
  {
   "cell_type": "code",
   "execution_count": 66,
   "metadata": {},
   "outputs": [
    {
     "data": {
      "text/html": [
       "\n",
       "<style>\n",
       "  #altair-viz-1276ecec6dfd4392a8a71bce33bd4bb3.vega-embed {\n",
       "    width: 100%;\n",
       "    display: flex;\n",
       "  }\n",
       "\n",
       "  #altair-viz-1276ecec6dfd4392a8a71bce33bd4bb3.vega-embed details,\n",
       "  #altair-viz-1276ecec6dfd4392a8a71bce33bd4bb3.vega-embed details summary {\n",
       "    position: relative;\n",
       "  }\n",
       "</style>\n",
       "<div id=\"altair-viz-1276ecec6dfd4392a8a71bce33bd4bb3\"></div>\n",
       "<script type=\"text/javascript\">\n",
       "  var VEGA_DEBUG = (typeof VEGA_DEBUG == \"undefined\") ? {} : VEGA_DEBUG;\n",
       "  (function(spec, embedOpt){\n",
       "    let outputDiv = document.currentScript.previousElementSibling;\n",
       "    if (outputDiv.id !== \"altair-viz-1276ecec6dfd4392a8a71bce33bd4bb3\") {\n",
       "      outputDiv = document.getElementById(\"altair-viz-1276ecec6dfd4392a8a71bce33bd4bb3\");\n",
       "    }\n",
       "\n",
       "    const paths = {\n",
       "      \"vega\": \"https://cdn.jsdelivr.net/npm/vega@5?noext\",\n",
       "      \"vega-lib\": \"https://cdn.jsdelivr.net/npm/vega-lib?noext\",\n",
       "      \"vega-lite\": \"https://cdn.jsdelivr.net/npm/vega-lite@5.20.1?noext\",\n",
       "      \"vega-embed\": \"https://cdn.jsdelivr.net/npm/vega-embed@6?noext\",\n",
       "    };\n",
       "\n",
       "    function maybeLoadScript(lib, version) {\n",
       "      var key = `${lib.replace(\"-\", \"\")}_version`;\n",
       "      return (VEGA_DEBUG[key] == version) ?\n",
       "        Promise.resolve(paths[lib]) :\n",
       "        new Promise(function(resolve, reject) {\n",
       "          var s = document.createElement('script');\n",
       "          document.getElementsByTagName(\"head\")[0].appendChild(s);\n",
       "          s.async = true;\n",
       "          s.onload = () => {\n",
       "            VEGA_DEBUG[key] = version;\n",
       "            return resolve(paths[lib]);\n",
       "          };\n",
       "          s.onerror = () => reject(`Error loading script: ${paths[lib]}`);\n",
       "          s.src = paths[lib];\n",
       "        });\n",
       "    }\n",
       "\n",
       "    function showError(err) {\n",
       "      outputDiv.innerHTML = `<div class=\"error\" style=\"color:red;\">${err}</div>`;\n",
       "      throw err;\n",
       "    }\n",
       "\n",
       "    function displayChart(vegaEmbed) {\n",
       "      vegaEmbed(outputDiv, spec, embedOpt)\n",
       "        .catch(err => showError(`Javascript Error: ${err.message}<br>This usually means there's a typo in your chart specification. See the javascript console for the full traceback.`));\n",
       "    }\n",
       "\n",
       "    if(typeof define === \"function\" && define.amd) {\n",
       "      requirejs.config({paths});\n",
       "      let deps = [\"vega-embed\"];\n",
       "      require(deps, displayChart, err => showError(`Error loading script: ${err.message}`));\n",
       "    } else {\n",
       "      maybeLoadScript(\"vega\", \"5\")\n",
       "        .then(() => maybeLoadScript(\"vega-lite\", \"5.20.1\"))\n",
       "        .then(() => maybeLoadScript(\"vega-embed\", \"6\"))\n",
       "        .catch(showError)\n",
       "        .then(() => displayChart(vegaEmbed));\n",
       "    }\n",
       "  })({\"config\": {\"view\": {\"continuousWidth\": 300, \"continuousHeight\": 300}}, \"data\": {\"name\": \"data-ee5e8d9250d1a898053071c77b731756\"}, \"mark\": {\"type\": \"line\"}, \"encoding\": {\"color\": {\"field\": \"key\", \"type\": \"nominal\"}, \"x\": {\"field\": \"Week\", \"type\": \"quantitative\"}, \"y\": {\"field\": \"value\", \"scale\": {\"domain\": [0, 0.8]}, \"type\": \"quantitative\"}}, \"transform\": [{\"fold\": [\"1\", \"2\", \"3\", \"4\"], \"as\": [\"key\", \"value\"]}], \"$schema\": \"https://vega.github.io/schema/vega-lite/v5.20.1.json\", \"datasets\": {\"data-ee5e8d9250d1a898053071c77b731756\": [{\"Week\": 1, \"1\": 0.0, \"2\": -0.17601979877143742, \"3\": -0.4423395723016261, \"4\": -0.783358967681664}, {\"Week\": 2, \"1\": 0.13478782039754345, \"2\": 0.0, \"3\": -0.19556716557929302, \"4\": -0.4597313490484032}, {\"Week\": 3, \"1\": 0.21997487322378906, \"2\": 0.13949571424450571, \"3\": 0.0, \"4\": -0.2032564176736902}, {\"Week\": 4, \"1\": 0.2738138176315125, \"2\": 0.2500460865799068, \"3\": 0.1549870050736805, \"4\": 0.0}, {\"Week\": 5, \"1\": 0.3078404899810094, \"2\": 0.33765727155204434, \"3\": 0.27781422747860773, \"4\": 0.161080738394594}, {\"Week\": 6, \"1\": 0.3293456373035843, \"2\": 0.4070891474478085, \"3\": 0.37515481778511356, \"4\": 0.28873724527745753}, {\"Week\": 7, \"1\": 0.34293707394527195, \"2\": 0.4621139184509392, \"3\": 0.4522972487193729, \"4\": 0.3899050441834595}, {\"Week\": 8, \"1\": 0.3515269778977593, \"2\": 0.5057210568853437, \"3\": 0.5134326356294852, \"4\": 0.47008053844852443}, {\"Week\": 9, \"1\": 0.3569558705055238, \"2\": 0.5402797199705407, \"3\": 0.5618824379935599, \"4\": 0.5336196284569964}, {\"Week\": 10, \"1\": 0.3603869769660455, \"2\": 0.567667465122236, \"3\": 0.600278912895555, \"4\": 0.583974365850413}, {\"Week\": 11, \"1\": 0.36255546553157664, \"2\": 0.5893722568453712, \"3\": 0.6307081244291963, \"4\": 0.6238805020198458}, {\"Week\": 12, \"1\": 0.3639259688117704, \"2\": 0.6065733072106115, \"3\": 0.6548232786698523, \"4\": 0.6555061203113539}, {\"Week\": 13, \"1\": 0.36479213858129467, \"2\": 0.6202051419428547, \"3\": 0.6739345416550172, \"4\": 0.6805694270688315}, {\"Week\": 14, \"1\": 0.36533956526788497, \"2\": 0.6310083728050063, \"3\": 0.6890802201459458, \"4\": 0.7004321010513382}, {\"Week\": 15, \"1\": 0.3656855436057758, \"2\": 0.6395699347189646, \"3\": 0.7010831723908417, \"4\": 0.7161732728589106}, {\"Week\": 16, \"1\": 0.365904204868045, \"2\": 0.6463549736894214, \"3\": 0.7105955136622837, \"4\": 0.7286481536374877}, {\"Week\": 17, \"1\": 0.36604240065194477, \"2\": 0.6517321179877721, \"3\": 0.7181340454016608, \"4\": 0.7385344983354629}, {\"Week\": 18, \"1\": 0.36612974156678935, \"2\": 0.6559935055687691, \"3\": 0.7241083328209119, \"4\": 0.7463694278407635}, {\"Week\": 19, \"1\": 0.36618494177037464, \"2\": 0.6593706558009186, \"3\": 0.7288429564056857, \"4\": 0.7525786105294476}, {\"Week\": 20, \"1\": 0.3662198287701419, \"2\": 0.6620470478149578, \"3\": 0.7325951462345954, \"4\": 0.7574993886468986}, {\"Week\": 21, \"1\": 0.36624187765173494, \"2\": 0.6641680888467197, \"3\": 0.7355687571796027, \"4\": 0.7613991059680387}, {\"Week\": 22, \"1\": 0.36625581273307595, \"2\": 0.665849014150195, \"3\": 0.7379253442542061, \"4\": 0.7644896324705174}, {\"Week\": 23, \"1\": 0.3662646198234113, \"2\": 0.6671811476796989, \"3\": 0.7397929398283724, \"4\": 0.766938875140171}, {\"Week\": 24, \"1\": 0.36627018597966654, \"2\": 0.6682368636813317, \"3\": 0.741273009572552, \"4\": 0.7688799002858996}, {\"Week\": 25, \"1\": 0.36627370383792374, \"2\": 0.6690735187548803, \"3\": 0.7424459650442494, \"4\": 0.7704181629754369}, {\"Week\": 26, \"1\": 0.36627592715436513, \"2\": 0.6697365680134043, \"3\": 0.7433755324136219, \"4\": 0.7716372363641714}, {\"Week\": 27, \"1\": 0.3662773323093308, \"2\": 0.6702620346401285, \"3\": 0.7441122146791059, \"4\": 0.7726033521890101}, {\"Week\": 28, \"1\": 0.3662782203792613, \"2\": 0.6706784670126125, \"3\": 0.7446960354737677, \"4\": 0.7733689991103759}, {\"Week\": 29, \"1\": 0.3662787816470365, \"2\": 0.671008489723919, \"3\": 0.7451587135322054, \"4\": 0.7739757743987269}, {\"Week\": 30, \"1\": 0.36627913637306053, \"2\": 0.671270032767099, \"3\": 0.7455253859558617, \"4\": 0.7744566438965064}, {\"Week\": 31, \"1\": 0.3662793605629351, \"2\": 0.6714773056640613, \"3\": 0.7458159739010173, \"4\": 0.7748377330382922}, {\"Week\": 32, \"1\": 0.3662795022528491, \"2\": 0.6716415694628334, \"3\": 0.746046264886709, \"4\": 0.7751397462345081}, {\"Week\": 33, \"1\": 0.366279591802084, \"2\": 0.6717717485454943, \"3\": 0.7462287705239007, \"4\": 0.7753790917332046}, {\"Week\": 34, \"1\": 0.3662796483979648, \"2\": 0.6718749154860443, \"3\": 0.7463734062659673, \"4\": 0.7755687730731726}, {\"Week\": 35, \"1\": 0.3662796841670444, \"2\": 0.6719566753003315, \"3\": 0.7464880301110441, \"4\": 0.7757190955606564}, {\"Week\": 36, \"1\": 0.36627970677340804, \"2\": 0.6720214699641711, \"3\": 0.7465788695237129, \"4\": 0.7758382261522426}, {\"Week\": 37, \"1\": 0.3662797210608227, \"2\": 0.6720728197439949, \"3\": 0.7466508597704932, \"4\": 0.7759326371621273}, {\"Week\": 38, \"1\": 0.3662797300905908, \"2\": 0.6721135144514244, \"3\": 0.746707912050767, \"4\": 0.7760074579001826}, {\"Week\": 39, \"1\": 0.36627973579748124, \"2\": 0.6721457650125459, \"3\": 0.7467531259905716, \"4\": 0.7760667533451732}, {\"Week\": 40, \"1\": 0.3662797394042847, \"2\": 0.6721713235865803, \"3\": 0.7467889580439593, \"4\": 0.7761137449933181}, {\"Week\": 41, \"1\": 0.3662797416838153, \"2\": 0.6721915787599465, \"3\": 0.7468173549510971, \"4\": 0.776150985880805}, {\"Week\": 42, \"1\": 0.36627974312449807, \"2\": 0.6722076309875684, \"3\": 0.7468398595038305, \"4\": 0.7761804992891563}, {\"Week\": 43, \"1\": 0.3662797440350219, \"2\": 0.6722203523801219, \"3\": 0.7468576943649039, \"4\": 0.7762038886692517}, {\"Week\": 44, \"1\": 0.3662797446104807, \"2\": 0.6722304340854347, \"3\": 0.7468718284947078, \"4\": 0.7762224247561289}, {\"Week\": 45, \"1\": 0.3662797449741756, \"2\": 0.6722384238382536, \"3\": 0.7468830297944821, \"4\": 0.7762371146074768}, {\"Week\": 46, \"1\": 0.36627974520403384, \"2\": 0.6722447557184391, \"3\": 0.7468919068260624, \"4\": 0.7762487563166495}, {\"Week\": 47, \"1\": 0.36627974534930624, \"2\": 0.6722497737343394, \"3\": 0.746898941874786, \"4\": 0.7762579823727374}, {\"Week\": 48, \"1\": 0.36627974544111963, \"2\": 0.6722537505126165, \"3\": 0.7469045171518474, \"4\": 0.7762652940234303}, {\"Week\": 49, \"1\": 0.3662797454991465, \"2\": 0.6722569021099369, \"3\": 0.7469089355596698, \"4\": 0.7762710885075896}, {\"Week\": 50, \"1\": 0.36627974553582, \"2\": 0.672259399751238, \"3\": 0.7469124371484644, \"4\": 0.7762756806370666}, {\"Week\": 51, \"1\": 0.3662797455589979, \"2\": 0.6722613791323058, \"3\": 0.746915212158056, \"4\": 0.7762793199002961}, {\"Week\": 52, \"1\": 0.36627974557364656, \"2\": 0.6722629477920686, \"3\": 0.7469174113535313, \"4\": 0.7762822040168957}]}}, {\"mode\": \"vega-lite\"});\n",
       "</script>"
      ],
      "text/plain": [
       "alt.Chart(...)"
      ]
     },
     "execution_count": 66,
     "metadata": {},
     "output_type": "execute_result"
    }
   ],
   "source": [
    "test = pl.DataFrame({'Week': np.arange(1,53,1), '1': p_fr_trial, '2': p_j[0] * (1 - np.exp(-theta_AR * (t - 2))), '3': (p_j[1] * (1 - np.exp(-theta_AR * (t - 3)))), '4': p_j[2] * (1 - np.exp(-theta_AR * (t - 4)))})\n",
    "\n",
    "alt.Chart(test).transform_fold(['1', '2', '3', '4'], as_=['key', 'value']).mark_line().encode(x='Week', y=alt.Y('value:Q', scale=alt.Scale(domain=[0,0.8])), color='key:N')"
   ]
  }
 ],
 "metadata": {
  "kernelspec": {
   "display_name": "Main (venv)",
   "language": "python",
   "name": ".venv"
  },
  "language_info": {
   "codemirror_mode": {
    "name": "ipython",
    "version": 3
   },
   "file_extension": ".py",
   "mimetype": "text/x-python",
   "name": "python",
   "nbconvert_exporter": "python",
   "pygments_lexer": "ipython3",
   "version": "3.13.0"
  }
 },
 "nbformat": 4,
 "nbformat_minor": 2
}
