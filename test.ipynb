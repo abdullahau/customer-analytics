{
 "cells": [
  {
   "cell_type": "code",
   "execution_count": 1,
   "metadata": {},
   "outputs": [],
   "source": [
    "import polars as pl\n",
    "import numpy as np\n",
    "import altair as alt\n",
    "import pandas as pd"
   ]
  },
  {
   "cell_type": "code",
   "execution_count": 2,
   "metadata": {},
   "outputs": [],
   "source": [
    "kiwi_lf = pl.scan_csv(source=\"data/kiwibubbles/kiwibubbles_tran.csv\",\n",
    "                      has_header=False,\n",
    "                      separator=\",\",\n",
    "                      schema={'ID': pl.UInt16,\n",
    "                              'Market': pl.UInt8,\n",
    "                              'Week': pl.Int16,\n",
    "                              'Day': pl.Int16,\n",
    "                              'Units': pl.Int16})\n",
    "\n",
    "kiwi_lf_m2 = (kiwi_lf.filter(pl.col('Market') == 2).drop('Market'))\n",
    "num_panellists_m2 = 1499\n",
    "\n",
    "\n",
    "kiwi_lf_m2 = (\n",
    "    kiwi_lf_m2\n",
    "    .sort(by='ID')\n",
    "    .with_columns((pl.col(\"ID\").cum_count().over(\"ID\") - 1).cast(pl.UInt16).alias(\"DoR\"))    \n",
    ")"
   ]
  },
  {
   "cell_type": "code",
   "execution_count": 3,
   "metadata": {},
   "outputs": [],
   "source": [
    "def shift_week(group_df):    \n",
    "    week_arr = group_df[\"Week\"].sort().to_numpy().copy()  # Sort array to handle duplicates systematically\n",
    "    for i in range(1, len(week_arr)):\n",
    "        if week_arr[i] <= week_arr[i - 1]: # If duplicate or less, increment by 1\n",
    "            week_arr[i] = week_arr[i - 1] + 1\n",
    "    return group_df.with_columns(pl.Series(\"shWeek\", week_arr))\n",
    "\n",
    "shifted_lf = (\n",
    "    kiwi_lf_m2\n",
    "    .group_by('ID')\n",
    "    .map_groups(shift_week, schema={'Week': pl.Int16, \n",
    "                                    'shWeek':pl.Int16,\n",
    "                                    'DoR':pl.UInt16,\n",
    "                                    'Units':pl.Int16,\n",
    "                                    'Day':pl.Int16,\n",
    "                                    'ID':pl.UInt16})\n",
    ")"
   ]
  },
  {
   "cell_type": "code",
   "execution_count": 4,
   "metadata": {},
   "outputs": [],
   "source": [
    "week_range, dor_range = np.meshgrid(np.arange(1, 53, dtype='int16'), np.arange(0, 12, dtype='uint16'))\n",
    "dummy_lf = pl.DataFrame({'shWeek': week_range.reshape(-1), 'DoR': dor_range.reshape(-1)})\n",
    "\n",
    "sh_agg_trans = (\n",
    "    shifted_lf\n",
    "    .collect()\n",
    "    .group_by('shWeek', 'DoR')\n",
    "    .agg(pl.len().alias('Count'))\n",
    ")\n",
    "\n",
    "shweek_total_trans = (\n",
    "    sh_agg_trans\n",
    "    .group_by('shWeek')\n",
    "    .agg(pl.col('Count').sum().alias('Total')) \n",
    ")\n",
    "\n",
    "sh_agg_trans_longform = (\n",
    "    dummy_lf\n",
    "    .join(sh_agg_trans, on=['shWeek', 'DoR'], how='left')\n",
    "    .join(shweek_total_trans, on='shWeek', how='left')\n",
    "    .fill_null(0)\n",
    ")"
   ]
  },
  {
   "cell_type": "code",
   "execution_count": 5,
   "metadata": {},
   "outputs": [
    {
     "data": {
      "text/html": [
       "<div><style>\n",
       ".dataframe > thead > tr,\n",
       ".dataframe > tbody > tr {\n",
       "  text-align: right;\n",
       "  white-space: pre-wrap;\n",
       "}\n",
       "</style>\n",
       "<small>shape: (52, 14)</small><table border=\"1\" class=\"dataframe\"><thead><tr><th>shWeek</th><th>0</th><th>1</th><th>2</th><th>3</th><th>4</th><th>5</th><th>6</th><th>7</th><th>8</th><th>9</th><th>10</th><th>11</th><th>Total</th></tr><tr><td>i16</td><td>u32</td><td>u32</td><td>u32</td><td>u32</td><td>u32</td><td>u32</td><td>u32</td><td>u32</td><td>u32</td><td>u32</td><td>u32</td><td>u32</td><td>u32</td></tr></thead><tbody><tr><td>1</td><td>8</td><td>0</td><td>0</td><td>0</td><td>0</td><td>0</td><td>0</td><td>0</td><td>0</td><td>0</td><td>0</td><td>0</td><td>8</td></tr><tr><td>2</td><td>6</td><td>1</td><td>0</td><td>0</td><td>0</td><td>0</td><td>0</td><td>0</td><td>0</td><td>0</td><td>0</td><td>0</td><td>7</td></tr><tr><td>3</td><td>2</td><td>1</td><td>0</td><td>0</td><td>0</td><td>0</td><td>0</td><td>0</td><td>0</td><td>0</td><td>0</td><td>0</td><td>3</td></tr><tr><td>4</td><td>16</td><td>1</td><td>0</td><td>0</td><td>0</td><td>0</td><td>0</td><td>0</td><td>0</td><td>0</td><td>0</td><td>0</td><td>17</td></tr><tr><td>5</td><td>8</td><td>4</td><td>0</td><td>0</td><td>0</td><td>0</td><td>0</td><td>0</td><td>0</td><td>0</td><td>0</td><td>0</td><td>12</td></tr><tr><td>&hellip;</td><td>&hellip;</td><td>&hellip;</td><td>&hellip;</td><td>&hellip;</td><td>&hellip;</td><td>&hellip;</td><td>&hellip;</td><td>&hellip;</td><td>&hellip;</td><td>&hellip;</td><td>&hellip;</td><td>&hellip;</td><td>&hellip;</td></tr><tr><td>48</td><td>1</td><td>1</td><td>1</td><td>1</td><td>0</td><td>0</td><td>0</td><td>1</td><td>0</td><td>0</td><td>0</td><td>0</td><td>5</td></tr><tr><td>49</td><td>4</td><td>0</td><td>0</td><td>0</td><td>0</td><td>2</td><td>0</td><td>1</td><td>1</td><td>0</td><td>0</td><td>0</td><td>8</td></tr><tr><td>50</td><td>0</td><td>2</td><td>0</td><td>0</td><td>0</td><td>0</td><td>0</td><td>1</td><td>2</td><td>1</td><td>1</td><td>1</td><td>8</td></tr><tr><td>51</td><td>0</td><td>1</td><td>0</td><td>0</td><td>0</td><td>0</td><td>0</td><td>1</td><td>0</td><td>0</td><td>0</td><td>0</td><td>2</td></tr><tr><td>52</td><td>2</td><td>1</td><td>1</td><td>1</td><td>0</td><td>0</td><td>0</td><td>0</td><td>0</td><td>1</td><td>0</td><td>0</td><td>6</td></tr></tbody></table></div>"
      ],
      "text/plain": [
       "shape: (52, 14)\n",
       "┌────────┬─────┬─────┬─────┬───┬─────┬─────┬─────┬───────┐\n",
       "│ shWeek ┆ 0   ┆ 1   ┆ 2   ┆ … ┆ 9   ┆ 10  ┆ 11  ┆ Total │\n",
       "│ ---    ┆ --- ┆ --- ┆ --- ┆   ┆ --- ┆ --- ┆ --- ┆ ---   │\n",
       "│ i16    ┆ u32 ┆ u32 ┆ u32 ┆   ┆ u32 ┆ u32 ┆ u32 ┆ u32   │\n",
       "╞════════╪═════╪═════╪═════╪═══╪═════╪═════╪═════╪═══════╡\n",
       "│ 1      ┆ 8   ┆ 0   ┆ 0   ┆ … ┆ 0   ┆ 0   ┆ 0   ┆ 8     │\n",
       "│ 2      ┆ 6   ┆ 1   ┆ 0   ┆ … ┆ 0   ┆ 0   ┆ 0   ┆ 7     │\n",
       "│ 3      ┆ 2   ┆ 1   ┆ 0   ┆ … ┆ 0   ┆ 0   ┆ 0   ┆ 3     │\n",
       "│ 4      ┆ 16  ┆ 1   ┆ 0   ┆ … ┆ 0   ┆ 0   ┆ 0   ┆ 17    │\n",
       "│ 5      ┆ 8   ┆ 4   ┆ 0   ┆ … ┆ 0   ┆ 0   ┆ 0   ┆ 12    │\n",
       "│ …      ┆ …   ┆ …   ┆ …   ┆ … ┆ …   ┆ …   ┆ …   ┆ …     │\n",
       "│ 48     ┆ 1   ┆ 1   ┆ 1   ┆ … ┆ 0   ┆ 0   ┆ 0   ┆ 5     │\n",
       "│ 49     ┆ 4   ┆ 0   ┆ 0   ┆ … ┆ 0   ┆ 0   ┆ 0   ┆ 8     │\n",
       "│ 50     ┆ 0   ┆ 2   ┆ 0   ┆ … ┆ 1   ┆ 1   ┆ 1   ┆ 8     │\n",
       "│ 51     ┆ 0   ┆ 1   ┆ 0   ┆ … ┆ 0   ┆ 0   ┆ 0   ┆ 2     │\n",
       "│ 52     ┆ 2   ┆ 1   ┆ 1   ┆ … ┆ 1   ┆ 0   ┆ 0   ┆ 6     │\n",
       "└────────┴─────┴─────┴─────┴───┴─────┴─────┴─────┴───────┘"
      ]
     },
     "metadata": {},
     "output_type": "display_data"
    },
    {
     "data": {
      "text/html": [
       "<div><style>\n",
       ".dataframe > thead > tr,\n",
       ".dataframe > tbody > tr {\n",
       "  text-align: right;\n",
       "  white-space: pre-wrap;\n",
       "}\n",
       "</style>\n",
       "<small>shape: (1, 13)</small><table border=\"1\" class=\"dataframe\"><thead><tr><th>0</th><th>1</th><th>2</th><th>3</th><th>4</th><th>5</th><th>6</th><th>7</th><th>8</th><th>9</th><th>10</th><th>11</th><th>Total</th></tr><tr><td>u32</td><td>u32</td><td>u32</td><td>u32</td><td>u32</td><td>u32</td><td>u32</td><td>u32</td><td>u32</td><td>u32</td><td>u32</td><td>u32</td><td>u32</td></tr></thead><tbody><tr><td>139</td><td>52</td><td>31</td><td>23</td><td>17</td><td>14</td><td>9</td><td>8</td><td>6</td><td>4</td><td>2</td><td>1</td><td>306</td></tr></tbody></table></div>"
      ],
      "text/plain": [
       "shape: (1, 13)\n",
       "┌─────┬─────┬─────┬─────┬───┬─────┬─────┬─────┬───────┐\n",
       "│ 0   ┆ 1   ┆ 2   ┆ 3   ┆ … ┆ 9   ┆ 10  ┆ 11  ┆ Total │\n",
       "│ --- ┆ --- ┆ --- ┆ --- ┆   ┆ --- ┆ --- ┆ --- ┆ ---   │\n",
       "│ u32 ┆ u32 ┆ u32 ┆ u32 ┆   ┆ u32 ┆ u32 ┆ u32 ┆ u32   │\n",
       "╞═════╪═════╪═════╪═════╪═══╪═════╪═════╪═════╪═══════╡\n",
       "│ 139 ┆ 52  ┆ 31  ┆ 23  ┆ … ┆ 4   ┆ 2   ┆ 1   ┆ 306   │\n",
       "└─────┴─────┴─────┴─────┴───┴─────┴─────┴─────┴───────┘"
      ]
     },
     "metadata": {},
     "output_type": "display_data"
    }
   ],
   "source": [
    "sh_agg_trans_wideform = (\n",
    "    sh_agg_trans_longform\n",
    "    .pivot(on='DoR', index='shWeek', values='Count')\n",
    "    .join(shweek_total_trans, on='shWeek', how='left')\n",
    ")\n",
    "\n",
    "col_total = sh_agg_trans_wideform.select(pl.col('*').exclude('shWeek').sum())\n",
    "\n",
    "display(sh_agg_trans_wideform)\n",
    "display(col_total)"
   ]
  },
  {
   "cell_type": "code",
   "execution_count": 6,
   "metadata": {},
   "outputs": [
    {
     "data": {
      "text/html": [
       "<div><style>\n",
       ".dataframe > thead > tr,\n",
       ".dataframe > tbody > tr {\n",
       "  text-align: right;\n",
       "  white-space: pre-wrap;\n",
       "}\n",
       "</style>\n",
       "<small>shape: (52, 13)</small><table border=\"1\" class=\"dataframe\"><thead><tr><th>shWeek</th><th>0</th><th>1</th><th>2</th><th>3</th><th>4</th><th>5</th><th>6</th><th>7</th><th>8</th><th>9</th><th>10</th><th>11</th></tr><tr><td>i16</td><td>u32</td><td>u32</td><td>u32</td><td>u32</td><td>u32</td><td>u32</td><td>u32</td><td>u32</td><td>u32</td><td>u32</td><td>u32</td><td>u32</td></tr></thead><tbody><tr><td>1</td><td>8</td><td>0</td><td>0</td><td>0</td><td>0</td><td>0</td><td>0</td><td>0</td><td>0</td><td>0</td><td>0</td><td>0</td></tr><tr><td>2</td><td>14</td><td>1</td><td>0</td><td>0</td><td>0</td><td>0</td><td>0</td><td>0</td><td>0</td><td>0</td><td>0</td><td>0</td></tr><tr><td>3</td><td>16</td><td>2</td><td>0</td><td>0</td><td>0</td><td>0</td><td>0</td><td>0</td><td>0</td><td>0</td><td>0</td><td>0</td></tr><tr><td>4</td><td>32</td><td>3</td><td>0</td><td>0</td><td>0</td><td>0</td><td>0</td><td>0</td><td>0</td><td>0</td><td>0</td><td>0</td></tr><tr><td>5</td><td>40</td><td>7</td><td>0</td><td>0</td><td>0</td><td>0</td><td>0</td><td>0</td><td>0</td><td>0</td><td>0</td><td>0</td></tr><tr><td>&hellip;</td><td>&hellip;</td><td>&hellip;</td><td>&hellip;</td><td>&hellip;</td><td>&hellip;</td><td>&hellip;</td><td>&hellip;</td><td>&hellip;</td><td>&hellip;</td><td>&hellip;</td><td>&hellip;</td><td>&hellip;</td></tr><tr><td>48</td><td>133</td><td>48</td><td>30</td><td>22</td><td>17</td><td>12</td><td>9</td><td>5</td><td>3</td><td>2</td><td>1</td><td>0</td></tr><tr><td>49</td><td>137</td><td>48</td><td>30</td><td>22</td><td>17</td><td>14</td><td>9</td><td>6</td><td>4</td><td>2</td><td>1</td><td>0</td></tr><tr><td>50</td><td>137</td><td>50</td><td>30</td><td>22</td><td>17</td><td>14</td><td>9</td><td>7</td><td>6</td><td>3</td><td>2</td><td>1</td></tr><tr><td>51</td><td>137</td><td>51</td><td>30</td><td>22</td><td>17</td><td>14</td><td>9</td><td>8</td><td>6</td><td>3</td><td>2</td><td>1</td></tr><tr><td>52</td><td>139</td><td>52</td><td>31</td><td>23</td><td>17</td><td>14</td><td>9</td><td>8</td><td>6</td><td>4</td><td>2</td><td>1</td></tr></tbody></table></div>"
      ],
      "text/plain": [
       "shape: (52, 13)\n",
       "┌────────┬─────┬─────┬─────┬───┬─────┬─────┬─────┬─────┐\n",
       "│ shWeek ┆ 0   ┆ 1   ┆ 2   ┆ … ┆ 8   ┆ 9   ┆ 10  ┆ 11  │\n",
       "│ ---    ┆ --- ┆ --- ┆ --- ┆   ┆ --- ┆ --- ┆ --- ┆ --- │\n",
       "│ i16    ┆ u32 ┆ u32 ┆ u32 ┆   ┆ u32 ┆ u32 ┆ u32 ┆ u32 │\n",
       "╞════════╪═════╪═════╪═════╪═══╪═════╪═════╪═════╪═════╡\n",
       "│ 1      ┆ 8   ┆ 0   ┆ 0   ┆ … ┆ 0   ┆ 0   ┆ 0   ┆ 0   │\n",
       "│ 2      ┆ 14  ┆ 1   ┆ 0   ┆ … ┆ 0   ┆ 0   ┆ 0   ┆ 0   │\n",
       "│ 3      ┆ 16  ┆ 2   ┆ 0   ┆ … ┆ 0   ┆ 0   ┆ 0   ┆ 0   │\n",
       "│ 4      ┆ 32  ┆ 3   ┆ 0   ┆ … ┆ 0   ┆ 0   ┆ 0   ┆ 0   │\n",
       "│ 5      ┆ 40  ┆ 7   ┆ 0   ┆ … ┆ 0   ┆ 0   ┆ 0   ┆ 0   │\n",
       "│ …      ┆ …   ┆ …   ┆ …   ┆ … ┆ …   ┆ …   ┆ …   ┆ …   │\n",
       "│ 48     ┆ 133 ┆ 48  ┆ 30  ┆ … ┆ 3   ┆ 2   ┆ 1   ┆ 0   │\n",
       "│ 49     ┆ 137 ┆ 48  ┆ 30  ┆ … ┆ 4   ┆ 2   ┆ 1   ┆ 0   │\n",
       "│ 50     ┆ 137 ┆ 50  ┆ 30  ┆ … ┆ 6   ┆ 3   ┆ 2   ┆ 1   │\n",
       "│ 51     ┆ 137 ┆ 51  ┆ 30  ┆ … ┆ 6   ┆ 3   ┆ 2   ┆ 1   │\n",
       "│ 52     ┆ 139 ┆ 52  ┆ 31  ┆ … ┆ 6   ┆ 4   ┆ 2   ┆ 1   │\n",
       "└────────┴─────┴─────┴─────┴───┴─────┴─────┴─────┴─────┘"
      ]
     },
     "metadata": {},
     "output_type": "display_data"
    }
   ],
   "source": [
    "sh_cum_trans_longform = sh_agg_trans_longform.with_columns(pl.col('Count').cum_sum().over('DoR').alias('Cum DoR'))\n",
    "sh_cum_trans_wideform = sh_cum_trans_longform.pivot(on='DoR', index='shWeek', values='Cum DoR')\n",
    "\n",
    "display(sh_cum_trans_wideform)"
   ]
  },
  {
   "cell_type": "code",
   "execution_count": 63,
   "metadata": {},
   "outputs": [
    {
     "data": {
      "text/html": [
       "<div><style>\n",
       ".dataframe > thead > tr,\n",
       ".dataframe > tbody > tr {\n",
       "  text-align: right;\n",
       "  white-space: pre-wrap;\n",
       "}\n",
       "</style>\n",
       "<small>shape: (306, 4)</small><table border=\"1\" class=\"dataframe\"><thead><tr><th>shWeek</th><th>DoR</th><th>ID</th><th>TSLP</th></tr><tr><td>i16</td><td>u16</td><td>u16</td><td>i16</td></tr></thead><tbody><tr><td>49</td><td>0</td><td>20001</td><td>null</td></tr><tr><td>14</td><td>0</td><td>20002</td><td>null</td></tr><tr><td>24</td><td>0</td><td>20003</td><td>null</td></tr><tr><td>49</td><td>0</td><td>20004</td><td>null</td></tr><tr><td>6</td><td>0</td><td>20005</td><td>null</td></tr><tr><td>&hellip;</td><td>&hellip;</td><td>&hellip;</td><td>&hellip;</td></tr><tr><td>26</td><td>5</td><td>20136</td><td>12</td></tr><tr><td>37</td><td>6</td><td>20136</td><td>11</td></tr><tr><td>13</td><td>0</td><td>20137</td><td>null</td></tr><tr><td>18</td><td>0</td><td>20138</td><td>null</td></tr><tr><td>49</td><td>0</td><td>20139</td><td>null</td></tr></tbody></table></div>"
      ],
      "text/plain": [
       "shape: (306, 4)\n",
       "┌────────┬─────┬───────┬──────┐\n",
       "│ shWeek ┆ DoR ┆ ID    ┆ TSLP │\n",
       "│ ---    ┆ --- ┆ ---   ┆ ---  │\n",
       "│ i16    ┆ u16 ┆ u16   ┆ i16  │\n",
       "╞════════╪═════╪═══════╪══════╡\n",
       "│ 49     ┆ 0   ┆ 20001 ┆ null │\n",
       "│ 14     ┆ 0   ┆ 20002 ┆ null │\n",
       "│ 24     ┆ 0   ┆ 20003 ┆ null │\n",
       "│ 49     ┆ 0   ┆ 20004 ┆ null │\n",
       "│ 6      ┆ 0   ┆ 20005 ┆ null │\n",
       "│ …      ┆ …   ┆ …     ┆ …    │\n",
       "│ 26     ┆ 5   ┆ 20136 ┆ 12   │\n",
       "│ 37     ┆ 6   ┆ 20136 ┆ 11   │\n",
       "│ 13     ┆ 0   ┆ 20137 ┆ null │\n",
       "│ 18     ┆ 0   ┆ 20138 ┆ null │\n",
       "│ 49     ┆ 0   ┆ 20139 ┆ null │\n",
       "└────────┴─────┴───────┴──────┘"
      ]
     },
     "metadata": {},
     "output_type": "display_data"
    },
    {
     "data": {
      "text/html": [
       "<div><style>\n",
       ".dataframe > thead > tr,\n",
       ".dataframe > tbody > tr {\n",
       "  text-align: right;\n",
       "  white-space: pre-wrap;\n",
       "}\n",
       "</style>\n",
       "<small>shape: (153, 3)</small><table border=\"1\" class=\"dataframe\"><thead><tr><th>DoR</th><th>shWeek</th><th>Count</th></tr><tr><td>u16</td><td>i16</td><td>u32</td></tr></thead><tbody><tr><td>1</td><td>1</td><td>8</td></tr><tr><td>1</td><td>2</td><td>6</td></tr><tr><td>1</td><td>3</td><td>2</td></tr><tr><td>1</td><td>4</td><td>16</td></tr><tr><td>1</td><td>5</td><td>8</td></tr><tr><td>&hellip;</td><td>&hellip;</td><td>&hellip;</td></tr><tr><td>10</td><td>50</td><td>1</td></tr><tr><td>10</td><td>52</td><td>1</td></tr><tr><td>11</td><td>45</td><td>1</td></tr><tr><td>11</td><td>50</td><td>1</td></tr><tr><td>12</td><td>50</td><td>1</td></tr></tbody></table></div>"
      ],
      "text/plain": [
       "shape: (153, 3)\n",
       "┌─────┬────────┬───────┐\n",
       "│ DoR ┆ shWeek ┆ Count │\n",
       "│ --- ┆ ---    ┆ ---   │\n",
       "│ u16 ┆ i16    ┆ u32   │\n",
       "╞═════╪════════╪═══════╡\n",
       "│ 1   ┆ 1      ┆ 8     │\n",
       "│ 1   ┆ 2      ┆ 6     │\n",
       "│ 1   ┆ 3      ┆ 2     │\n",
       "│ 1   ┆ 4      ┆ 16    │\n",
       "│ 1   ┆ 5      ┆ 8     │\n",
       "│ …   ┆ …      ┆ …     │\n",
       "│ 10  ┆ 50     ┆ 1     │\n",
       "│ 10  ┆ 52     ┆ 1     │\n",
       "│ 11  ┆ 45     ┆ 1     │\n",
       "│ 11  ┆ 50     ┆ 1     │\n",
       "│ 12  ┆ 50     ┆ 1     │\n",
       "└─────┴────────┴───────┘"
      ]
     },
     "metadata": {},
     "output_type": "display_data"
    },
    {
     "data": {
      "text/html": [
       "<div><style>\n",
       ".dataframe > thead > tr,\n",
       ".dataframe > tbody > tr {\n",
       "  text-align: right;\n",
       "  white-space: pre-wrap;\n",
       "}\n",
       "</style>\n",
       "<small>shape: (15_158, 4)</small><table border=\"1\" class=\"dataframe\"><thead><tr><th>DoR</th><th>shWeek</th><th>TSLP</th><th>Count</th></tr><tr><td>u16</td><td>i16</td><td>i16</td><td>u32</td></tr></thead><tbody><tr><td>1</td><td>1</td><td>1</td><td>8</td></tr><tr><td>1</td><td>1</td><td>2</td><td>8</td></tr><tr><td>1</td><td>1</td><td>3</td><td>8</td></tr><tr><td>1</td><td>1</td><td>4</td><td>8</td></tr><tr><td>1</td><td>1</td><td>5</td><td>8</td></tr><tr><td>&hellip;</td><td>&hellip;</td><td>&hellip;</td><td>&hellip;</td></tr><tr><td>11</td><td>50</td><td>2</td><td>1</td></tr><tr><td>11</td><td>50</td><td>3</td><td>1</td></tr><tr><td>11</td><td>51</td><td>1</td><td>null</td></tr><tr><td>11</td><td>51</td><td>2</td><td>null</td></tr><tr><td>11</td><td>52</td><td>1</td><td>null</td></tr></tbody></table></div>"
      ],
      "text/plain": [
       "shape: (15_158, 4)\n",
       "┌─────┬────────┬──────┬───────┐\n",
       "│ DoR ┆ shWeek ┆ TSLP ┆ Count │\n",
       "│ --- ┆ ---    ┆ ---  ┆ ---   │\n",
       "│ u16 ┆ i16    ┆ i16  ┆ u32   │\n",
       "╞═════╪════════╪══════╪═══════╡\n",
       "│ 1   ┆ 1      ┆ 1    ┆ 8     │\n",
       "│ 1   ┆ 1      ┆ 2    ┆ 8     │\n",
       "│ 1   ┆ 1      ┆ 3    ┆ 8     │\n",
       "│ 1   ┆ 1      ┆ 4    ┆ 8     │\n",
       "│ 1   ┆ 1      ┆ 5    ┆ 8     │\n",
       "│ …   ┆ …      ┆ …    ┆ …     │\n",
       "│ 11  ┆ 50     ┆ 2    ┆ 1     │\n",
       "│ 11  ┆ 50     ┆ 3    ┆ 1     │\n",
       "│ 11  ┆ 51     ┆ 1    ┆ null  │\n",
       "│ 11  ┆ 51     ┆ 2    ┆ null  │\n",
       "│ 11  ┆ 52     ┆ 1    ┆ null  │\n",
       "└─────┴────────┴──────┴───────┘"
      ]
     },
     "metadata": {},
     "output_type": "display_data"
    }
   ],
   "source": [
    "# Calculate Time Since Last Purchase (in weeks)\n",
    "tslp_df = (\n",
    "    shifted_lf\n",
    "    .drop('Week', 'Day', 'Units')\n",
    "    .collect()\n",
    "    .sort('ID', 'shWeek')\n",
    "    .with_columns(\n",
    "        (pl.col('shWeek') - pl.col('shWeek').shift(1)).over('ID').alias('TSLP')\n",
    "    )\n",
    ")\n",
    "\n",
    "# Aggregate purchases by depth and week\n",
    "j_1_tj_1 = (\n",
    "    shifted_lf\n",
    "    .collect()\n",
    "    .group_by('DoR', 'shWeek')\n",
    "    .agg(pl.col(\"ID\").n_unique().alias(\"Count\")) \n",
    "    .sort('DoR', 'shWeek')\n",
    "    .with_columns((pl.col('DoR') + 1).alias('DoR'))\n",
    ")\n",
    "\n",
    "dor_values = np.arange(0, 12, dtype='uint16')\n",
    "rows = []\n",
    "for dor in dor_values:\n",
    "    for week in np.arange(1, 53, dtype='uint16'):\n",
    "        tslp_values = np.arange(1, 53 - week + 1, dtype='uint16')\n",
    "        for tslp in tslp_values:\n",
    "            rows.append({'DoR': dor, 'shWeek': week, 'TSLP': tslp})\n",
    "\n",
    "# Create the DataFrame\n",
    "full_dor_week = pl.DataFrame(rows).cast({'DoR':pl.UInt16, 'shWeek': pl.Int16, 'TSLP': pl.Int16})\n",
    "\n",
    "joined1 = (\n",
    "    full_dor_week\n",
    "    .join(j_1_tj_1, on=['DoR', 'shWeek'], how='left')\n",
    "    .filter((pl.col('DoR') != 0) & (pl.col('DoR') != 12))\n",
    ")\n",
    "\n",
    "display(tslp_df)\n",
    "display(j_1_tj_1)\n",
    "display(joined1)"
   ]
  },
  {
   "cell_type": "code",
   "execution_count": 67,
   "metadata": {},
   "outputs": [
    {
     "data": {
      "text/html": [
       "<div><style>\n",
       ".dataframe > thead > tr,\n",
       ".dataframe > tbody > tr {\n",
       "  text-align: right;\n",
       "  white-space: pre-wrap;\n",
       "}\n",
       "</style>\n",
       "<small>shape: (52, 53)</small><table border=\"1\" class=\"dataframe\"><thead><tr><th>shWeek</th><th>1</th><th>2</th><th>3</th><th>4</th><th>5</th><th>6</th><th>7</th><th>8</th><th>9</th><th>10</th><th>11</th><th>12</th><th>13</th><th>14</th><th>15</th><th>16</th><th>17</th><th>18</th><th>19</th><th>20</th><th>21</th><th>22</th><th>23</th><th>24</th><th>25</th><th>26</th><th>27</th><th>28</th><th>29</th><th>30</th><th>31</th><th>32</th><th>33</th><th>34</th><th>35</th><th>36</th><th>37</th><th>38</th><th>39</th><th>40</th><th>41</th><th>42</th><th>43</th><th>44</th><th>45</th><th>46</th><th>47</th><th>48</th><th>49</th><th>50</th><th>51</th><th>52</th></tr><tr><td>i16</td><td>u32</td><td>u32</td><td>u32</td><td>u32</td><td>u32</td><td>u32</td><td>u32</td><td>u32</td><td>u32</td><td>u32</td><td>u32</td><td>u32</td><td>u32</td><td>u32</td><td>u32</td><td>u32</td><td>u32</td><td>u32</td><td>u32</td><td>u32</td><td>u32</td><td>u32</td><td>u32</td><td>u32</td><td>u32</td><td>u32</td><td>u32</td><td>u32</td><td>u32</td><td>u32</td><td>u32</td><td>u32</td><td>u32</td><td>u32</td><td>u32</td><td>u32</td><td>u32</td><td>u32</td><td>u32</td><td>u32</td><td>u32</td><td>u32</td><td>u32</td><td>u32</td><td>u32</td><td>u32</td><td>u32</td><td>u32</td><td>u32</td><td>u32</td><td>u32</td><td>u32</td></tr></thead><tbody><tr><td>1</td><td>0</td><td>0</td><td>0</td><td>0</td><td>0</td><td>0</td><td>0</td><td>0</td><td>0</td><td>0</td><td>0</td><td>0</td><td>0</td><td>0</td><td>0</td><td>0</td><td>0</td><td>0</td><td>0</td><td>0</td><td>0</td><td>0</td><td>0</td><td>0</td><td>0</td><td>0</td><td>0</td><td>0</td><td>0</td><td>0</td><td>0</td><td>0</td><td>0</td><td>0</td><td>0</td><td>0</td><td>0</td><td>0</td><td>0</td><td>0</td><td>0</td><td>0</td><td>0</td><td>0</td><td>0</td><td>0</td><td>0</td><td>0</td><td>0</td><td>0</td><td>0</td><td>0</td></tr><tr><td>2</td><td>1</td><td>1</td><td>1</td><td>1</td><td>1</td><td>1</td><td>1</td><td>1</td><td>1</td><td>1</td><td>1</td><td>1</td><td>1</td><td>1</td><td>1</td><td>1</td><td>1</td><td>1</td><td>1</td><td>1</td><td>1</td><td>1</td><td>1</td><td>1</td><td>1</td><td>1</td><td>1</td><td>1</td><td>1</td><td>1</td><td>1</td><td>1</td><td>1</td><td>1</td><td>1</td><td>1</td><td>1</td><td>1</td><td>1</td><td>1</td><td>1</td><td>1</td><td>1</td><td>1</td><td>1</td><td>1</td><td>1</td><td>1</td><td>1</td><td>1</td><td>1</td><td>null</td></tr><tr><td>3</td><td>0</td><td>1</td><td>1</td><td>1</td><td>1</td><td>1</td><td>1</td><td>1</td><td>1</td><td>1</td><td>1</td><td>1</td><td>1</td><td>1</td><td>1</td><td>1</td><td>1</td><td>1</td><td>1</td><td>1</td><td>1</td><td>1</td><td>1</td><td>1</td><td>1</td><td>1</td><td>1</td><td>1</td><td>1</td><td>1</td><td>1</td><td>1</td><td>1</td><td>1</td><td>1</td><td>1</td><td>1</td><td>1</td><td>1</td><td>1</td><td>1</td><td>1</td><td>1</td><td>1</td><td>1</td><td>1</td><td>1</td><td>1</td><td>1</td><td>1</td><td>null</td><td>null</td></tr><tr><td>4</td><td>0</td><td>1</td><td>1</td><td>1</td><td>1</td><td>1</td><td>1</td><td>1</td><td>1</td><td>1</td><td>1</td><td>1</td><td>1</td><td>1</td><td>1</td><td>1</td><td>1</td><td>1</td><td>1</td><td>1</td><td>1</td><td>1</td><td>1</td><td>1</td><td>1</td><td>1</td><td>1</td><td>1</td><td>1</td><td>1</td><td>1</td><td>1</td><td>1</td><td>1</td><td>1</td><td>1</td><td>1</td><td>1</td><td>1</td><td>1</td><td>1</td><td>1</td><td>1</td><td>1</td><td>1</td><td>1</td><td>1</td><td>1</td><td>1</td><td>null</td><td>null</td><td>null</td></tr><tr><td>5</td><td>2</td><td>3</td><td>3</td><td>4</td><td>4</td><td>4</td><td>4</td><td>4</td><td>4</td><td>4</td><td>4</td><td>4</td><td>4</td><td>4</td><td>4</td><td>4</td><td>4</td><td>4</td><td>4</td><td>4</td><td>4</td><td>4</td><td>4</td><td>4</td><td>4</td><td>4</td><td>4</td><td>4</td><td>4</td><td>4</td><td>4</td><td>4</td><td>4</td><td>4</td><td>4</td><td>4</td><td>4</td><td>4</td><td>4</td><td>4</td><td>4</td><td>4</td><td>4</td><td>4</td><td>4</td><td>4</td><td>4</td><td>4</td><td>null</td><td>null</td><td>null</td><td>null</td></tr><tr><td>&hellip;</td><td>&hellip;</td><td>&hellip;</td><td>&hellip;</td><td>&hellip;</td><td>&hellip;</td><td>&hellip;</td><td>&hellip;</td><td>&hellip;</td><td>&hellip;</td><td>&hellip;</td><td>&hellip;</td><td>&hellip;</td><td>&hellip;</td><td>&hellip;</td><td>&hellip;</td><td>&hellip;</td><td>&hellip;</td><td>&hellip;</td><td>&hellip;</td><td>&hellip;</td><td>&hellip;</td><td>&hellip;</td><td>&hellip;</td><td>&hellip;</td><td>&hellip;</td><td>&hellip;</td><td>&hellip;</td><td>&hellip;</td><td>&hellip;</td><td>&hellip;</td><td>&hellip;</td><td>&hellip;</td><td>&hellip;</td><td>&hellip;</td><td>&hellip;</td><td>&hellip;</td><td>&hellip;</td><td>&hellip;</td><td>&hellip;</td><td>&hellip;</td><td>&hellip;</td><td>&hellip;</td><td>&hellip;</td><td>&hellip;</td><td>&hellip;</td><td>&hellip;</td><td>&hellip;</td><td>&hellip;</td><td>&hellip;</td><td>&hellip;</td><td>&hellip;</td><td>&hellip;</td></tr><tr><td>48</td><td>0</td><td>0</td><td>0</td><td>0</td><td>0</td><td>null</td><td>null</td><td>null</td><td>null</td><td>null</td><td>null</td><td>null</td><td>null</td><td>null</td><td>null</td><td>null</td><td>null</td><td>null</td><td>null</td><td>null</td><td>null</td><td>null</td><td>null</td><td>null</td><td>null</td><td>null</td><td>null</td><td>null</td><td>null</td><td>null</td><td>null</td><td>null</td><td>null</td><td>null</td><td>null</td><td>null</td><td>null</td><td>null</td><td>null</td><td>null</td><td>null</td><td>null</td><td>null</td><td>null</td><td>null</td><td>null</td><td>null</td><td>null</td><td>null</td><td>null</td><td>null</td><td>null</td></tr><tr><td>49</td><td>0</td><td>0</td><td>0</td><td>0</td><td>null</td><td>null</td><td>null</td><td>null</td><td>null</td><td>null</td><td>null</td><td>null</td><td>null</td><td>null</td><td>null</td><td>null</td><td>null</td><td>null</td><td>null</td><td>null</td><td>null</td><td>null</td><td>null</td><td>null</td><td>null</td><td>null</td><td>null</td><td>null</td><td>null</td><td>null</td><td>null</td><td>null</td><td>null</td><td>null</td><td>null</td><td>null</td><td>null</td><td>null</td><td>null</td><td>null</td><td>null</td><td>null</td><td>null</td><td>null</td><td>null</td><td>null</td><td>null</td><td>null</td><td>null</td><td>null</td><td>null</td><td>null</td></tr><tr><td>50</td><td>0</td><td>0</td><td>0</td><td>null</td><td>null</td><td>null</td><td>null</td><td>null</td><td>null</td><td>null</td><td>null</td><td>null</td><td>null</td><td>null</td><td>null</td><td>null</td><td>null</td><td>null</td><td>null</td><td>null</td><td>null</td><td>null</td><td>null</td><td>null</td><td>null</td><td>null</td><td>null</td><td>null</td><td>null</td><td>null</td><td>null</td><td>null</td><td>null</td><td>null</td><td>null</td><td>null</td><td>null</td><td>null</td><td>null</td><td>null</td><td>null</td><td>null</td><td>null</td><td>null</td><td>null</td><td>null</td><td>null</td><td>null</td><td>null</td><td>null</td><td>null</td><td>null</td></tr><tr><td>51</td><td>0</td><td>0</td><td>null</td><td>null</td><td>null</td><td>null</td><td>null</td><td>null</td><td>null</td><td>null</td><td>null</td><td>null</td><td>null</td><td>null</td><td>null</td><td>null</td><td>null</td><td>null</td><td>null</td><td>null</td><td>null</td><td>null</td><td>null</td><td>null</td><td>null</td><td>null</td><td>null</td><td>null</td><td>null</td><td>null</td><td>null</td><td>null</td><td>null</td><td>null</td><td>null</td><td>null</td><td>null</td><td>null</td><td>null</td><td>null</td><td>null</td><td>null</td><td>null</td><td>null</td><td>null</td><td>null</td><td>null</td><td>null</td><td>null</td><td>null</td><td>null</td><td>null</td></tr><tr><td>52</td><td>0</td><td>null</td><td>null</td><td>null</td><td>null</td><td>null</td><td>null</td><td>null</td><td>null</td><td>null</td><td>null</td><td>null</td><td>null</td><td>null</td><td>null</td><td>null</td><td>null</td><td>null</td><td>null</td><td>null</td><td>null</td><td>null</td><td>null</td><td>null</td><td>null</td><td>null</td><td>null</td><td>null</td><td>null</td><td>null</td><td>null</td><td>null</td><td>null</td><td>null</td><td>null</td><td>null</td><td>null</td><td>null</td><td>null</td><td>null</td><td>null</td><td>null</td><td>null</td><td>null</td><td>null</td><td>null</td><td>null</td><td>null</td><td>null</td><td>null</td><td>null</td><td>null</td></tr></tbody></table></div>"
      ],
      "text/plain": [
       "shape: (52, 53)\n",
       "┌────────┬─────┬──────┬──────┬───┬──────┬──────┬──────┬──────┐\n",
       "│ shWeek ┆ 1   ┆ 2    ┆ 3    ┆ … ┆ 49   ┆ 50   ┆ 51   ┆ 52   │\n",
       "│ ---    ┆ --- ┆ ---  ┆ ---  ┆   ┆ ---  ┆ ---  ┆ ---  ┆ ---  │\n",
       "│ i16    ┆ u32 ┆ u32  ┆ u32  ┆   ┆ u32  ┆ u32  ┆ u32  ┆ u32  │\n",
       "╞════════╪═════╪══════╪══════╪═══╪══════╪══════╪══════╪══════╡\n",
       "│ 1      ┆ 0   ┆ 0    ┆ 0    ┆ … ┆ 0    ┆ 0    ┆ 0    ┆ 0    │\n",
       "│ 2      ┆ 1   ┆ 1    ┆ 1    ┆ … ┆ 1    ┆ 1    ┆ 1    ┆ null │\n",
       "│ 3      ┆ 0   ┆ 1    ┆ 1    ┆ … ┆ 1    ┆ 1    ┆ null ┆ null │\n",
       "│ 4      ┆ 0   ┆ 1    ┆ 1    ┆ … ┆ 1    ┆ null ┆ null ┆ null │\n",
       "│ 5      ┆ 2   ┆ 3    ┆ 3    ┆ … ┆ null ┆ null ┆ null ┆ null │\n",
       "│ …      ┆ …   ┆ …    ┆ …    ┆ … ┆ …    ┆ …    ┆ …    ┆ …    │\n",
       "│ 48     ┆ 0   ┆ 0    ┆ 0    ┆ … ┆ null ┆ null ┆ null ┆ null │\n",
       "│ 49     ┆ 0   ┆ 0    ┆ 0    ┆ … ┆ null ┆ null ┆ null ┆ null │\n",
       "│ 50     ┆ 0   ┆ 0    ┆ 0    ┆ … ┆ null ┆ null ┆ null ┆ null │\n",
       "│ 51     ┆ 0   ┆ 0    ┆ null ┆ … ┆ null ┆ null ┆ null ┆ null │\n",
       "│ 52     ┆ 0   ┆ null ┆ null ┆ … ┆ null ┆ null ┆ null ┆ null │\n",
       "└────────┴─────┴──────┴──────┴───┴──────┴──────┴──────┴──────┘"
      ]
     },
     "execution_count": 67,
     "metadata": {},
     "output_type": "execute_result"
    }
   ],
   "source": [
    "test = (\n",
    "    tslp_df\n",
    "    .group_by(\"DoR\", 'shWeek', 'TSLP')\n",
    "    .agg(pl.col(\"ID\").n_unique().alias(\"Count\"))\n",
    "    .sort('DoR', 'shWeek')\n",
    ")\n",
    "\n",
    "joined2 = joined1.join(test, on=['DoR', 'shWeek', 'TSLP'], how='left').fill_null(0).with_columns(pl.col('Count_right').cum_sum().over('DoR', 'shWeek').alias('Cum Count by Week')).filter((pl.col('DoR') == 1))\n",
    "joined2.pivot(on='TSLP', index='shWeek', values='Cum Count by Week')"
   ]
  },
  {
   "cell_type": "code",
   "execution_count": null,
   "metadata": {},
   "outputs": [],
   "source": [
    "week_range, dor_range, tslp_range = np.meshgrid(np.arange(1, 53, dtype='int16'), np.arange(0, 12, dtype='uint16'), np.arange(1, 53, dtype='int16'))\n",
    "full_dor_week = pl.DataFrame({'DoR': dor_range.reshape(-1), 'shWeek': week_range.reshape(-1), 'TSLP': tslp_range.reshape(-1)})\n",
    "\n",
    "eligibility = (\n",
    "    pl.concat([full_dor_week, j_1_tj_1], how='align')\n",
    "    .fill_null(0)\n",
    "    .with_columns(pl.col(\"Count\").cum_sum().over('DoR', 'shWeek').alias('Cum Count by Week'))\n",
    ")\n",
    "\n",
    "eligibility #.filter(pl.col('DoR')==1).pivot(on='TSLP', index='shWeek', values='Cum Count by Week').sort('shWeek')"
   ]
  },
  {
   "cell_type": "code",
   "execution_count": null,
   "metadata": {},
   "outputs": [],
   "source": [
    "\n",
    "eligibility = (\n",
    "    test\n",
    "    .group_by(\"DoR\", 'shWeek', 'TSLP')\n",
    "    .agg(pl.col(\"ID\").n_unique().alias(\"Count\")) \n",
    "    .sort(\"DoR\", 'shWeek')\n",
    "    .with_columns(pl.col(\"Count\").shift(-1).fill_null(0).alias(\"Eligible\"))\n",
    ")\n",
    "\n",
    "week_range, dor_range, tslp_range = np.meshgrid(np.arange(1, 53, dtype='int16'), np.arange(0, 12, dtype='uint16'), np.arange(1, 53, dtype='int16'))\n",
    "full_dor_week = pl.DataFrame({'DoR': dor_range.reshape(-1), 'shWeek': week_range.reshape(-1), 'TSLP': tslp_range.reshape(-1)})\n",
    "\n",
    "eligibility = (\n",
    "    pl.concat([full_dor_week, eligibility], how='align')\n",
    "    .fill_null(0)\n",
    "    .with_columns(pl.col(\"Count\").cum_sum().over('DoR', 'shWeek').alias('Cum Count by Week'))\n",
    ")\n",
    "\n",
    "eligibility = (\n",
    "    pl.concat([eligibility, purchase_counts], how='align')\n",
    "    .filter(pl.col('DoR') == 1)\n",
    "    .sort('TSLP')\n",
    ")\n",
    "\n",
    "eligibility.pivot(on='TSLP', index='shWeek', values='Cum Count by Week').sort('shWeek')"
   ]
  }
 ],
 "metadata": {
  "kernelspec": {
   "display_name": ".venv",
   "language": "python",
   "name": "python3"
  },
  "language_info": {
   "codemirror_mode": {
    "name": "ipython",
    "version": 3
   },
   "file_extension": ".py",
   "mimetype": "text/x-python",
   "name": "python",
   "nbconvert_exporter": "python",
   "pygments_lexer": "ipython3",
   "version": "3.13.0"
  }
 },
 "nbformat": 4,
 "nbformat_minor": 2
}
